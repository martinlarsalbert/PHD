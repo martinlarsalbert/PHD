{
 "cells": [
  {
   "cell_type": "markdown",
   "id": "b36b929f-994d-4b75-8eea-3455ae04d30c",
   "metadata": {},
   "source": [
    "# Method: VCT regression"
   ]
  },
  {
   "cell_type": "code",
   "execution_count": 1,
   "id": "437d6687-3de2-49b1-b381-12aed5a419c9",
   "metadata": {},
   "outputs": [],
   "source": [
    "#import warnings\n",
    "#warnings.filterwarnings('ignore')\n",
    "%matplotlib inline\n",
    "%load_ext autoreload\n",
    "%autoreload 2\n",
    "%config Completer.use_jedi = False"
   ]
  },
  {
   "cell_type": "code",
   "execution_count": 2,
   "id": "3c7ee721-8ac4-4011-bc2d-723863a77c73",
   "metadata": {},
   "outputs": [
    {
     "data": {
      "text/html": [
       "<div class=\"bk-root\">\n",
       "        <a href=\"https://bokeh.org\" target=\"_blank\" class=\"bk-logo bk-logo-small bk-logo-notebook\"></a>\n",
       "        <span id=\"1002\">Loading BokehJS ...</span>\n",
       "    </div>\n"
      ]
     },
     "metadata": {},
     "output_type": "display_data"
    },
    {
     "data": {
      "application/javascript": [
       "(function(root) {\n",
       "  function now() {\n",
       "    return new Date();\n",
       "  }\n",
       "\n",
       "  const force = true;\n",
       "\n",
       "  if (typeof root._bokeh_onload_callbacks === \"undefined\" || force === true) {\n",
       "    root._bokeh_onload_callbacks = [];\n",
       "    root._bokeh_is_loading = undefined;\n",
       "  }\n",
       "\n",
       "const JS_MIME_TYPE = 'application/javascript';\n",
       "  const HTML_MIME_TYPE = 'text/html';\n",
       "  const EXEC_MIME_TYPE = 'application/vnd.bokehjs_exec.v0+json';\n",
       "  const CLASS_NAME = 'output_bokeh rendered_html';\n",
       "\n",
       "  /**\n",
       "   * Render data to the DOM node\n",
       "   */\n",
       "  function render(props, node) {\n",
       "    const script = document.createElement(\"script\");\n",
       "    node.appendChild(script);\n",
       "  }\n",
       "\n",
       "  /**\n",
       "   * Handle when an output is cleared or removed\n",
       "   */\n",
       "  function handleClearOutput(event, handle) {\n",
       "    const cell = handle.cell;\n",
       "\n",
       "    const id = cell.output_area._bokeh_element_id;\n",
       "    const server_id = cell.output_area._bokeh_server_id;\n",
       "    // Clean up Bokeh references\n",
       "    if (id != null && id in Bokeh.index) {\n",
       "      Bokeh.index[id].model.document.clear();\n",
       "      delete Bokeh.index[id];\n",
       "    }\n",
       "\n",
       "    if (server_id !== undefined) {\n",
       "      // Clean up Bokeh references\n",
       "      const cmd_clean = \"from bokeh.io.state import curstate; print(curstate().uuid_to_server['\" + server_id + \"'].get_sessions()[0].document.roots[0]._id)\";\n",
       "      cell.notebook.kernel.execute(cmd_clean, {\n",
       "        iopub: {\n",
       "          output: function(msg) {\n",
       "            const id = msg.content.text.trim();\n",
       "            if (id in Bokeh.index) {\n",
       "              Bokeh.index[id].model.document.clear();\n",
       "              delete Bokeh.index[id];\n",
       "            }\n",
       "          }\n",
       "        }\n",
       "      });\n",
       "      // Destroy server and session\n",
       "      const cmd_destroy = \"import bokeh.io.notebook as ion; ion.destroy_server('\" + server_id + \"')\";\n",
       "      cell.notebook.kernel.execute(cmd_destroy);\n",
       "    }\n",
       "  }\n",
       "\n",
       "  /**\n",
       "   * Handle when a new output is added\n",
       "   */\n",
       "  function handleAddOutput(event, handle) {\n",
       "    const output_area = handle.output_area;\n",
       "    const output = handle.output;\n",
       "\n",
       "    // limit handleAddOutput to display_data with EXEC_MIME_TYPE content only\n",
       "    if ((output.output_type != \"display_data\") || (!Object.prototype.hasOwnProperty.call(output.data, EXEC_MIME_TYPE))) {\n",
       "      return\n",
       "    }\n",
       "\n",
       "    const toinsert = output_area.element.find(\".\" + CLASS_NAME.split(' ')[0]);\n",
       "\n",
       "    if (output.metadata[EXEC_MIME_TYPE][\"id\"] !== undefined) {\n",
       "      toinsert[toinsert.length - 1].firstChild.textContent = output.data[JS_MIME_TYPE];\n",
       "      // store reference to embed id on output_area\n",
       "      output_area._bokeh_element_id = output.metadata[EXEC_MIME_TYPE][\"id\"];\n",
       "    }\n",
       "    if (output.metadata[EXEC_MIME_TYPE][\"server_id\"] !== undefined) {\n",
       "      const bk_div = document.createElement(\"div\");\n",
       "      bk_div.innerHTML = output.data[HTML_MIME_TYPE];\n",
       "      const script_attrs = bk_div.children[0].attributes;\n",
       "      for (let i = 0; i < script_attrs.length; i++) {\n",
       "        toinsert[toinsert.length - 1].firstChild.setAttribute(script_attrs[i].name, script_attrs[i].value);\n",
       "        toinsert[toinsert.length - 1].firstChild.textContent = bk_div.children[0].textContent\n",
       "      }\n",
       "      // store reference to server id on output_area\n",
       "      output_area._bokeh_server_id = output.metadata[EXEC_MIME_TYPE][\"server_id\"];\n",
       "    }\n",
       "  }\n",
       "\n",
       "  function register_renderer(events, OutputArea) {\n",
       "\n",
       "    function append_mime(data, metadata, element) {\n",
       "      // create a DOM node to render to\n",
       "      const toinsert = this.create_output_subarea(\n",
       "        metadata,\n",
       "        CLASS_NAME,\n",
       "        EXEC_MIME_TYPE\n",
       "      );\n",
       "      this.keyboard_manager.register_events(toinsert);\n",
       "      // Render to node\n",
       "      const props = {data: data, metadata: metadata[EXEC_MIME_TYPE]};\n",
       "      render(props, toinsert[toinsert.length - 1]);\n",
       "      element.append(toinsert);\n",
       "      return toinsert\n",
       "    }\n",
       "\n",
       "    /* Handle when an output is cleared or removed */\n",
       "    events.on('clear_output.CodeCell', handleClearOutput);\n",
       "    events.on('delete.Cell', handleClearOutput);\n",
       "\n",
       "    /* Handle when a new output is added */\n",
       "    events.on('output_added.OutputArea', handleAddOutput);\n",
       "\n",
       "    /**\n",
       "     * Register the mime type and append_mime function with output_area\n",
       "     */\n",
       "    OutputArea.prototype.register_mime_type(EXEC_MIME_TYPE, append_mime, {\n",
       "      /* Is output safe? */\n",
       "      safe: true,\n",
       "      /* Index of renderer in `output_area.display_order` */\n",
       "      index: 0\n",
       "    });\n",
       "  }\n",
       "\n",
       "  // register the mime type if in Jupyter Notebook environment and previously unregistered\n",
       "  if (root.Jupyter !== undefined) {\n",
       "    const events = require('base/js/events');\n",
       "    const OutputArea = require('notebook/js/outputarea').OutputArea;\n",
       "\n",
       "    if (OutputArea.prototype.mime_types().indexOf(EXEC_MIME_TYPE) == -1) {\n",
       "      register_renderer(events, OutputArea);\n",
       "    }\n",
       "  }\n",
       "  if (typeof (root._bokeh_timeout) === \"undefined\" || force === true) {\n",
       "    root._bokeh_timeout = Date.now() + 5000;\n",
       "    root._bokeh_failed_load = false;\n",
       "  }\n",
       "\n",
       "  const NB_LOAD_WARNING = {'data': {'text/html':\n",
       "     \"<div style='background-color: #fdd'>\\n\"+\n",
       "     \"<p>\\n\"+\n",
       "     \"BokehJS does not appear to have successfully loaded. If loading BokehJS from CDN, this \\n\"+\n",
       "     \"may be due to a slow or bad network connection. Possible fixes:\\n\"+\n",
       "     \"</p>\\n\"+\n",
       "     \"<ul>\\n\"+\n",
       "     \"<li>re-rerun `output_notebook()` to attempt to load from CDN again, or</li>\\n\"+\n",
       "     \"<li>use INLINE resources instead, as so:</li>\\n\"+\n",
       "     \"</ul>\\n\"+\n",
       "     \"<code>\\n\"+\n",
       "     \"from bokeh.resources import INLINE\\n\"+\n",
       "     \"output_notebook(resources=INLINE)\\n\"+\n",
       "     \"</code>\\n\"+\n",
       "     \"</div>\"}};\n",
       "\n",
       "  function display_loaded() {\n",
       "    const el = document.getElementById(\"1002\");\n",
       "    if (el != null) {\n",
       "      el.textContent = \"BokehJS is loading...\";\n",
       "    }\n",
       "    if (root.Bokeh !== undefined) {\n",
       "      if (el != null) {\n",
       "        el.textContent = \"BokehJS \" + root.Bokeh.version + \" successfully loaded.\";\n",
       "      }\n",
       "    } else if (Date.now() < root._bokeh_timeout) {\n",
       "      setTimeout(display_loaded, 100)\n",
       "    }\n",
       "  }\n",
       "\n",
       "  function run_callbacks() {\n",
       "    try {\n",
       "      root._bokeh_onload_callbacks.forEach(function(callback) {\n",
       "        if (callback != null)\n",
       "          callback();\n",
       "      });\n",
       "    } finally {\n",
       "      delete root._bokeh_onload_callbacks\n",
       "    }\n",
       "    console.debug(\"Bokeh: all callbacks have finished\");\n",
       "  }\n",
       "\n",
       "  function load_libs(css_urls, js_urls, callback) {\n",
       "    if (css_urls == null) css_urls = [];\n",
       "    if (js_urls == null) js_urls = [];\n",
       "\n",
       "    root._bokeh_onload_callbacks.push(callback);\n",
       "    if (root._bokeh_is_loading > 0) {\n",
       "      console.debug(\"Bokeh: BokehJS is being loaded, scheduling callback at\", now());\n",
       "      return null;\n",
       "    }\n",
       "    if (js_urls == null || js_urls.length === 0) {\n",
       "      run_callbacks();\n",
       "      return null;\n",
       "    }\n",
       "    console.debug(\"Bokeh: BokehJS not loaded, scheduling load and callback at\", now());\n",
       "    root._bokeh_is_loading = css_urls.length + js_urls.length;\n",
       "\n",
       "    function on_load() {\n",
       "      root._bokeh_is_loading--;\n",
       "      if (root._bokeh_is_loading === 0) {\n",
       "        console.debug(\"Bokeh: all BokehJS libraries/stylesheets loaded\");\n",
       "        run_callbacks()\n",
       "      }\n",
       "    }\n",
       "\n",
       "    function on_error(url) {\n",
       "      console.error(\"failed to load \" + url);\n",
       "    }\n",
       "\n",
       "    for (let i = 0; i < css_urls.length; i++) {\n",
       "      const url = css_urls[i];\n",
       "      const element = document.createElement(\"link\");\n",
       "      element.onload = on_load;\n",
       "      element.onerror = on_error.bind(null, url);\n",
       "      element.rel = \"stylesheet\";\n",
       "      element.type = \"text/css\";\n",
       "      element.href = url;\n",
       "      console.debug(\"Bokeh: injecting link tag for BokehJS stylesheet: \", url);\n",
       "      document.body.appendChild(element);\n",
       "    }\n",
       "\n",
       "    for (let i = 0; i < js_urls.length; i++) {\n",
       "      const url = js_urls[i];\n",
       "      const element = document.createElement('script');\n",
       "      element.onload = on_load;\n",
       "      element.onerror = on_error.bind(null, url);\n",
       "      element.async = false;\n",
       "      element.src = url;\n",
       "      console.debug(\"Bokeh: injecting script tag for BokehJS library: \", url);\n",
       "      document.head.appendChild(element);\n",
       "    }\n",
       "  };\n",
       "\n",
       "  function inject_raw_css(css) {\n",
       "    const element = document.createElement(\"style\");\n",
       "    element.appendChild(document.createTextNode(css));\n",
       "    document.body.appendChild(element);\n",
       "  }\n",
       "\n",
       "  const js_urls = [\"https://cdn.bokeh.org/bokeh/release/bokeh-2.4.3.min.js\", \"https://cdn.bokeh.org/bokeh/release/bokeh-gl-2.4.3.min.js\", \"https://cdn.bokeh.org/bokeh/release/bokeh-widgets-2.4.3.min.js\", \"https://cdn.bokeh.org/bokeh/release/bokeh-tables-2.4.3.min.js\", \"https://cdn.bokeh.org/bokeh/release/bokeh-mathjax-2.4.3.min.js\"];\n",
       "  const css_urls = [];\n",
       "\n",
       "  const inline_js = [    function(Bokeh) {\n",
       "      Bokeh.set_log_level(\"info\");\n",
       "    },\n",
       "function(Bokeh) {\n",
       "    }\n",
       "  ];\n",
       "\n",
       "  function run_inline_js() {\n",
       "    if (root.Bokeh !== undefined || force === true) {\n",
       "          for (let i = 0; i < inline_js.length; i++) {\n",
       "      inline_js[i].call(root, root.Bokeh);\n",
       "    }\n",
       "if (force === true) {\n",
       "        display_loaded();\n",
       "      }} else if (Date.now() < root._bokeh_timeout) {\n",
       "      setTimeout(run_inline_js, 100);\n",
       "    } else if (!root._bokeh_failed_load) {\n",
       "      console.log(\"Bokeh: BokehJS failed to load within specified timeout.\");\n",
       "      root._bokeh_failed_load = true;\n",
       "    } else if (force !== true) {\n",
       "      const cell = $(document.getElementById(\"1002\")).parents('.cell').data().cell;\n",
       "      cell.output_area.append_execute_result(NB_LOAD_WARNING)\n",
       "    }\n",
       "  }\n",
       "\n",
       "  if (root._bokeh_is_loading === 0) {\n",
       "    console.debug(\"Bokeh: BokehJS loaded, going straight to plotting\");\n",
       "    run_inline_js();\n",
       "  } else {\n",
       "    load_libs(css_urls, js_urls, function() {\n",
       "      console.debug(\"Bokeh: BokehJS plotting callback run at\", now());\n",
       "      run_inline_js();\n",
       "    });\n",
       "  }\n",
       "}(window));"
      ],
      "application/vnd.bokehjs_load.v0+json": "(function(root) {\n  function now() {\n    return new Date();\n  }\n\n  const force = true;\n\n  if (typeof root._bokeh_onload_callbacks === \"undefined\" || force === true) {\n    root._bokeh_onload_callbacks = [];\n    root._bokeh_is_loading = undefined;\n  }\n\n\n  if (typeof (root._bokeh_timeout) === \"undefined\" || force === true) {\n    root._bokeh_timeout = Date.now() + 5000;\n    root._bokeh_failed_load = false;\n  }\n\n  const NB_LOAD_WARNING = {'data': {'text/html':\n     \"<div style='background-color: #fdd'>\\n\"+\n     \"<p>\\n\"+\n     \"BokehJS does not appear to have successfully loaded. If loading BokehJS from CDN, this \\n\"+\n     \"may be due to a slow or bad network connection. Possible fixes:\\n\"+\n     \"</p>\\n\"+\n     \"<ul>\\n\"+\n     \"<li>re-rerun `output_notebook()` to attempt to load from CDN again, or</li>\\n\"+\n     \"<li>use INLINE resources instead, as so:</li>\\n\"+\n     \"</ul>\\n\"+\n     \"<code>\\n\"+\n     \"from bokeh.resources import INLINE\\n\"+\n     \"output_notebook(resources=INLINE)\\n\"+\n     \"</code>\\n\"+\n     \"</div>\"}};\n\n  function display_loaded() {\n    const el = document.getElementById(\"1002\");\n    if (el != null) {\n      el.textContent = \"BokehJS is loading...\";\n    }\n    if (root.Bokeh !== undefined) {\n      if (el != null) {\n        el.textContent = \"BokehJS \" + root.Bokeh.version + \" successfully loaded.\";\n      }\n    } else if (Date.now() < root._bokeh_timeout) {\n      setTimeout(display_loaded, 100)\n    }\n  }\n\n  function run_callbacks() {\n    try {\n      root._bokeh_onload_callbacks.forEach(function(callback) {\n        if (callback != null)\n          callback();\n      });\n    } finally {\n      delete root._bokeh_onload_callbacks\n    }\n    console.debug(\"Bokeh: all callbacks have finished\");\n  }\n\n  function load_libs(css_urls, js_urls, callback) {\n    if (css_urls == null) css_urls = [];\n    if (js_urls == null) js_urls = [];\n\n    root._bokeh_onload_callbacks.push(callback);\n    if (root._bokeh_is_loading > 0) {\n      console.debug(\"Bokeh: BokehJS is being loaded, scheduling callback at\", now());\n      return null;\n    }\n    if (js_urls == null || js_urls.length === 0) {\n      run_callbacks();\n      return null;\n    }\n    console.debug(\"Bokeh: BokehJS not loaded, scheduling load and callback at\", now());\n    root._bokeh_is_loading = css_urls.length + js_urls.length;\n\n    function on_load() {\n      root._bokeh_is_loading--;\n      if (root._bokeh_is_loading === 0) {\n        console.debug(\"Bokeh: all BokehJS libraries/stylesheets loaded\");\n        run_callbacks()\n      }\n    }\n\n    function on_error(url) {\n      console.error(\"failed to load \" + url);\n    }\n\n    for (let i = 0; i < css_urls.length; i++) {\n      const url = css_urls[i];\n      const element = document.createElement(\"link\");\n      element.onload = on_load;\n      element.onerror = on_error.bind(null, url);\n      element.rel = \"stylesheet\";\n      element.type = \"text/css\";\n      element.href = url;\n      console.debug(\"Bokeh: injecting link tag for BokehJS stylesheet: \", url);\n      document.body.appendChild(element);\n    }\n\n    for (let i = 0; i < js_urls.length; i++) {\n      const url = js_urls[i];\n      const element = document.createElement('script');\n      element.onload = on_load;\n      element.onerror = on_error.bind(null, url);\n      element.async = false;\n      element.src = url;\n      console.debug(\"Bokeh: injecting script tag for BokehJS library: \", url);\n      document.head.appendChild(element);\n    }\n  };\n\n  function inject_raw_css(css) {\n    const element = document.createElement(\"style\");\n    element.appendChild(document.createTextNode(css));\n    document.body.appendChild(element);\n  }\n\n  const js_urls = [\"https://cdn.bokeh.org/bokeh/release/bokeh-2.4.3.min.js\", \"https://cdn.bokeh.org/bokeh/release/bokeh-gl-2.4.3.min.js\", \"https://cdn.bokeh.org/bokeh/release/bokeh-widgets-2.4.3.min.js\", \"https://cdn.bokeh.org/bokeh/release/bokeh-tables-2.4.3.min.js\", \"https://cdn.bokeh.org/bokeh/release/bokeh-mathjax-2.4.3.min.js\"];\n  const css_urls = [];\n\n  const inline_js = [    function(Bokeh) {\n      Bokeh.set_log_level(\"info\");\n    },\nfunction(Bokeh) {\n    }\n  ];\n\n  function run_inline_js() {\n    if (root.Bokeh !== undefined || force === true) {\n          for (let i = 0; i < inline_js.length; i++) {\n      inline_js[i].call(root, root.Bokeh);\n    }\nif (force === true) {\n        display_loaded();\n      }} else if (Date.now() < root._bokeh_timeout) {\n      setTimeout(run_inline_js, 100);\n    } else if (!root._bokeh_failed_load) {\n      console.log(\"Bokeh: BokehJS failed to load within specified timeout.\");\n      root._bokeh_failed_load = true;\n    } else if (force !== true) {\n      const cell = $(document.getElementById(\"1002\")).parents('.cell').data().cell;\n      cell.output_area.append_execute_result(NB_LOAD_WARNING)\n    }\n  }\n\n  if (root._bokeh_is_loading === 0) {\n    console.debug(\"Bokeh: BokehJS loaded, going straight to plotting\");\n    run_inline_js();\n  } else {\n    load_libs(css_urls, js_urls, function() {\n      console.debug(\"Bokeh: BokehJS plotting callback run at\", now());\n      run_inline_js();\n    });\n  }\n}(window));"
     },
     "metadata": {},
     "output_type": "display_data"
    }
   ],
   "source": [
    "import pandas as pd\n",
    "pd.set_option('display.max_rows', 5000)\n",
    "pd.set_option('display.max_columns', 5000)\n",
    "pd.set_option('display.width', 10000)\n",
    "import numpy as np\n",
    "import yaml\n",
    "\n",
    "from vessel_manoeuvring_models.visualization.plot import track_plot, plot\n",
    "from phd.visualization.plot_ship import track_plots\n",
    "from vessel_manoeuvring_models.prime_system import PrimeSystem\n",
    "from phd.visualization.plot_prediction import plot_total_force, plot_force_components, predict, plot_compare_model_forces, plot_parameter_contributions\n",
    "from phd.visualization.bokeh_plotting import create_tab\n",
    "from vessel_manoeuvring_models.symbols import *\n",
    "import matplotlib.pyplot as plt\n",
    "from vessel_manoeuvring_models.substitute_dynamic_symbols import run, lambdify, remove_functions, prime\n",
    "from vessel_manoeuvring_models.parameters import df_parameters\n",
    "p = df_parameters[\"symbol\"]\n",
    "import statsmodels.api as sm\n",
    "import sympy as sp\n",
    "from sympy import Eq, symbols, latex\n",
    "import paper\n",
    "from paper import save_fig, save_eq\n",
    "import vessel_manoeuvring_models\n",
    "from phd.pipelines.regression_VCT.nodes import df_VCT_to_prime, regress_VCT\n",
    "from phd.pipelines.regression_VCT.regression_pipeline import pipeline"
   ]
  },
  {
   "cell_type": "code",
   "execution_count": 3,
   "id": "96675a7e-9a9e-4565-b6fc-5908ebf21231",
   "metadata": {},
   "outputs": [
    {
     "data": {
      "text/html": [
       "<pre style=\"white-space:pre;overflow-x:auto;line-height:normal;font-family:Menlo,'DejaVu Sans Mono',consolas,'Courier New',monospace\"><span style=\"color: #7fbfbf; text-decoration-color: #7fbfbf\">[01/10/24 14:15:30] </span><span style=\"color: #000080; text-decoration-color: #000080\">INFO    </span> Loading data from <span style=\"color: #008000; text-decoration-color: #008000\">'wPCC.ship_data'</span> <span style=\"font-weight: bold\">(</span>YAMLDataSet<span style=\"font-weight: bold\">)</span><span style=\"color: #808000; text-decoration-color: #808000\">...</span>                <a href=\"file:///home/maa/anaconda3/envs/phd/lib/python3.10/site-packages/kedro/io/data_catalog.py\" target=\"_blank\"><span style=\"color: #7f7f7f; text-decoration-color: #7f7f7f\">data_catalog.py</span></a><span style=\"color: #7f7f7f; text-decoration-color: #7f7f7f\">:</span><a href=\"file:///home/maa/anaconda3/envs/phd/lib/python3.10/site-packages/kedro/io/data_catalog.py#502\" target=\"_blank\"><span style=\"color: #7f7f7f; text-decoration-color: #7f7f7f\">502</span></a>\n",
       "</pre>\n"
      ],
      "text/plain": [
       "\u001b[2;36m[01/10/24 14:15:30]\u001b[0m\u001b[2;36m \u001b[0m\u001b[34mINFO    \u001b[0m Loading data from \u001b[32m'wPCC.ship_data'\u001b[0m \u001b[1m(\u001b[0mYAMLDataSet\u001b[1m)\u001b[0m\u001b[33m...\u001b[0m                \u001b]8;id=797049;file:///home/maa/anaconda3/envs/phd/lib/python3.10/site-packages/kedro/io/data_catalog.py\u001b\\\u001b[2mdata_catalog.py\u001b[0m\u001b]8;;\u001b\\\u001b[2m:\u001b[0m\u001b]8;id=159609;file:///home/maa/anaconda3/envs/phd/lib/python3.10/site-packages/kedro/io/data_catalog.py#502\u001b\\\u001b[2m502\u001b[0m\u001b]8;;\u001b\\\n"
      ]
     },
     "metadata": {},
     "output_type": "display_data"
    },
    {
     "data": {
      "text/html": [
       "<pre style=\"white-space:pre;overflow-x:auto;line-height:normal;font-family:Menlo,'DejaVu Sans Mono',consolas,'Courier New',monospace\"><span style=\"color: #7fbfbf; text-decoration-color: #7fbfbf\">                    </span><span style=\"color: #800000; text-decoration-color: #800000\">WARNING </span> <span style=\"color: #800080; text-decoration-color: #800080\">/home/maa/anaconda3/envs/phd/lib/python3.10/site-packages/kedro/io/</span><span style=\"color: #ff00ff; text-decoration-color: #ff00ff\">par</span> <a href=\"file:///home/maa/anaconda3/envs/phd/lib/python3.10/warnings.py\" target=\"_blank\"><span style=\"color: #7f7f7f; text-decoration-color: #7f7f7f\">warnings.py</span></a><span style=\"color: #7f7f7f; text-decoration-color: #7f7f7f\">:</span><a href=\"file:///home/maa/anaconda3/envs/phd/lib/python3.10/warnings.py#109\" target=\"_blank\"><span style=\"color: #7f7f7f; text-decoration-color: #7f7f7f\">109</span></a>\n",
       "<span style=\"color: #7fbfbf; text-decoration-color: #7fbfbf\">                    </span>         <span style=\"color: #ff00ff; text-decoration-color: #ff00ff\">titioned_dataset.py</span>:<span style=\"color: #008080; text-decoration-color: #008080; font-weight: bold\">200</span>: KedroDeprecationWarning: <span style=\"color: #008000; text-decoration-color: #008000\">'PartitionedDataset'</span> <span style=\"color: #7f7f7f; text-decoration-color: #7f7f7f\">               </span>\n",
       "<span style=\"color: #7fbfbf; text-decoration-color: #7fbfbf\">                    </span>         has been moved to `kedro-datasets` and will be removed in Kedro        <span style=\"color: #7f7f7f; text-decoration-color: #7f7f7f\">               </span>\n",
       "<span style=\"color: #7fbfbf; text-decoration-color: #7fbfbf\">                    </span>         <span style=\"color: #008080; text-decoration-color: #008080; font-weight: bold\">0.19</span>.<span style=\"color: #008080; text-decoration-color: #008080; font-weight: bold\">0</span>.                                                                <span style=\"color: #7f7f7f; text-decoration-color: #7f7f7f\">               </span>\n",
       "<span style=\"color: #7fbfbf; text-decoration-color: #7fbfbf\">                    </span>           <span style=\"color: #800080; text-decoration-color: #800080; font-weight: bold\">warnings.warn</span><span style=\"font-weight: bold\">(</span>                                                       <span style=\"color: #7f7f7f; text-decoration-color: #7f7f7f\">               </span>\n",
       "<span style=\"color: #7fbfbf; text-decoration-color: #7fbfbf\">                    </span>                                                                                <span style=\"color: #7f7f7f; text-decoration-color: #7f7f7f\">               </span>\n",
       "</pre>\n"
      ],
      "text/plain": [
       "\u001b[2;36m                   \u001b[0m\u001b[2;36m \u001b[0m\u001b[31mWARNING \u001b[0m \u001b[35m/home/maa/anaconda3/envs/phd/lib/python3.10/site-packages/kedro/io/\u001b[0m\u001b[95mpar\u001b[0m \u001b]8;id=924562;file:///home/maa/anaconda3/envs/phd/lib/python3.10/warnings.py\u001b\\\u001b[2mwarnings.py\u001b[0m\u001b]8;;\u001b\\\u001b[2m:\u001b[0m\u001b]8;id=997561;file:///home/maa/anaconda3/envs/phd/lib/python3.10/warnings.py#109\u001b\\\u001b[2m109\u001b[0m\u001b]8;;\u001b\\\n",
       "\u001b[2;36m                    \u001b[0m         \u001b[95mtitioned_dataset.py\u001b[0m:\u001b[1;36m200\u001b[0m: KedroDeprecationWarning: \u001b[32m'PartitionedDataset'\u001b[0m \u001b[2m               \u001b[0m\n",
       "\u001b[2;36m                    \u001b[0m         has been moved to `kedro-datasets` and will be removed in Kedro        \u001b[2m               \u001b[0m\n",
       "\u001b[2;36m                    \u001b[0m         \u001b[1;36m0.19\u001b[0m.\u001b[1;36m0\u001b[0m.                                                                \u001b[2m               \u001b[0m\n",
       "\u001b[2;36m                    \u001b[0m           \u001b[1;35mwarnings.warn\u001b[0m\u001b[1m(\u001b[0m                                                       \u001b[2m               \u001b[0m\n",
       "\u001b[2;36m                    \u001b[0m                                                                                \u001b[2m               \u001b[0m\n"
      ]
     },
     "metadata": {},
     "output_type": "display_data"
    },
    {
     "data": {
      "text/html": [
       "<pre style=\"white-space:pre;overflow-x:auto;line-height:normal;font-family:Menlo,'DejaVu Sans Mono',consolas,'Courier New',monospace\"><span style=\"color: #7fbfbf; text-decoration-color: #7fbfbf\">                    </span><span style=\"color: #800000; text-decoration-color: #800000\">WARNING </span> <span style=\"color: #800080; text-decoration-color: #800080\">/home/maa/anaconda3/envs/phd/lib/python3.10/site-packages/kedro/io/</span><span style=\"color: #ff00ff; text-decoration-color: #ff00ff\">__i</span> <a href=\"file:///home/maa/anaconda3/envs/phd/lib/python3.10/warnings.py\" target=\"_blank\"><span style=\"color: #7f7f7f; text-decoration-color: #7f7f7f\">warnings.py</span></a><span style=\"color: #7f7f7f; text-decoration-color: #7f7f7f\">:</span><a href=\"file:///home/maa/anaconda3/envs/phd/lib/python3.10/warnings.py#109\" target=\"_blank\"><span style=\"color: #7f7f7f; text-decoration-color: #7f7f7f\">109</span></a>\n",
       "<span style=\"color: #7fbfbf; text-decoration-color: #7fbfbf\">                    </span>         <span style=\"color: #ff00ff; text-decoration-color: #ff00ff\">nit__.py</span>:<span style=\"color: #008080; text-decoration-color: #008080; font-weight: bold\">44</span>: KedroDeprecationWarning: <span style=\"color: #008000; text-decoration-color: #008000\">'AbstractDataSet'</span> has been       <span style=\"color: #7f7f7f; text-decoration-color: #7f7f7f\">               </span>\n",
       "<span style=\"color: #7fbfbf; text-decoration-color: #7fbfbf\">                    </span>         renamed to <span style=\"color: #008000; text-decoration-color: #008000\">'AbstractDataset'</span>, and the alias will be removed in Kedro   <span style=\"color: #7f7f7f; text-decoration-color: #7f7f7f\">               </span>\n",
       "<span style=\"color: #7fbfbf; text-decoration-color: #7fbfbf\">                    </span>         <span style=\"color: #008080; text-decoration-color: #008080; font-weight: bold\">0.19</span>.<span style=\"color: #008080; text-decoration-color: #008080; font-weight: bold\">0</span>                                                                 <span style=\"color: #7f7f7f; text-decoration-color: #7f7f7f\">               </span>\n",
       "<span style=\"color: #7fbfbf; text-decoration-color: #7fbfbf\">                    </span>           return <span style=\"color: #800080; text-decoration-color: #800080; font-weight: bold\">getattr</span><span style=\"font-weight: bold\">(</span>kedro.io.core, name<span style=\"font-weight: bold\">)</span>                                  <span style=\"color: #7f7f7f; text-decoration-color: #7f7f7f\">               </span>\n",
       "<span style=\"color: #7fbfbf; text-decoration-color: #7fbfbf\">                    </span>                                                                                <span style=\"color: #7f7f7f; text-decoration-color: #7f7f7f\">               </span>\n",
       "</pre>\n"
      ],
      "text/plain": [
       "\u001b[2;36m                   \u001b[0m\u001b[2;36m \u001b[0m\u001b[31mWARNING \u001b[0m \u001b[35m/home/maa/anaconda3/envs/phd/lib/python3.10/site-packages/kedro/io/\u001b[0m\u001b[95m__i\u001b[0m \u001b]8;id=674146;file:///home/maa/anaconda3/envs/phd/lib/python3.10/warnings.py\u001b\\\u001b[2mwarnings.py\u001b[0m\u001b]8;;\u001b\\\u001b[2m:\u001b[0m\u001b]8;id=538410;file:///home/maa/anaconda3/envs/phd/lib/python3.10/warnings.py#109\u001b\\\u001b[2m109\u001b[0m\u001b]8;;\u001b\\\n",
       "\u001b[2;36m                    \u001b[0m         \u001b[95mnit__.py\u001b[0m:\u001b[1;36m44\u001b[0m: KedroDeprecationWarning: \u001b[32m'AbstractDataSet'\u001b[0m has been       \u001b[2m               \u001b[0m\n",
       "\u001b[2;36m                    \u001b[0m         renamed to \u001b[32m'AbstractDataset'\u001b[0m, and the alias will be removed in Kedro   \u001b[2m               \u001b[0m\n",
       "\u001b[2;36m                    \u001b[0m         \u001b[1;36m0.19\u001b[0m.\u001b[1;36m0\u001b[0m                                                                 \u001b[2m               \u001b[0m\n",
       "\u001b[2;36m                    \u001b[0m           return \u001b[1;35mgetattr\u001b[0m\u001b[1m(\u001b[0mkedro.io.core, name\u001b[1m)\u001b[0m                                  \u001b[2m               \u001b[0m\n",
       "\u001b[2;36m                    \u001b[0m                                                                                \u001b[2m               \u001b[0m\n"
      ]
     },
     "metadata": {},
     "output_type": "display_data"
    },
    {
     "data": {
      "text/html": [
       "<pre style=\"white-space:pre;overflow-x:auto;line-height:normal;font-family:Menlo,'DejaVu Sans Mono',consolas,'Courier New',monospace\"><span style=\"color: #7fbfbf; text-decoration-color: #7fbfbf\">                    </span><span style=\"color: #000080; text-decoration-color: #000080\">INFO    </span> Loading data from <span style=\"color: #008000; text-decoration-color: #008000\">'wPCC.models_VCT'</span> <span style=\"font-weight: bold\">(</span>PartitionedDataset<span style=\"font-weight: bold\">)</span><span style=\"color: #808000; text-decoration-color: #808000\">...</span>        <a href=\"file:///home/maa/anaconda3/envs/phd/lib/python3.10/site-packages/kedro/io/data_catalog.py\" target=\"_blank\"><span style=\"color: #7f7f7f; text-decoration-color: #7f7f7f\">data_catalog.py</span></a><span style=\"color: #7f7f7f; text-decoration-color: #7f7f7f\">:</span><a href=\"file:///home/maa/anaconda3/envs/phd/lib/python3.10/site-packages/kedro/io/data_catalog.py#502\" target=\"_blank\"><span style=\"color: #7f7f7f; text-decoration-color: #7f7f7f\">502</span></a>\n",
       "</pre>\n"
      ],
      "text/plain": [
       "\u001b[2;36m                   \u001b[0m\u001b[2;36m \u001b[0m\u001b[34mINFO    \u001b[0m Loading data from \u001b[32m'wPCC.models_VCT'\u001b[0m \u001b[1m(\u001b[0mPartitionedDataset\u001b[1m)\u001b[0m\u001b[33m...\u001b[0m        \u001b]8;id=650010;file:///home/maa/anaconda3/envs/phd/lib/python3.10/site-packages/kedro/io/data_catalog.py\u001b\\\u001b[2mdata_catalog.py\u001b[0m\u001b]8;;\u001b\\\u001b[2m:\u001b[0m\u001b]8;id=500005;file:///home/maa/anaconda3/envs/phd/lib/python3.10/site-packages/kedro/io/data_catalog.py#502\u001b\\\u001b[2m502\u001b[0m\u001b]8;;\u001b\\\n"
      ]
     },
     "metadata": {},
     "output_type": "display_data"
    },
    {
     "data": {
      "text/html": [
       "<pre style=\"white-space:pre;overflow-x:auto;line-height:normal;font-family:Menlo,'DejaVu Sans Mono',consolas,'Courier New',monospace\"><span style=\"color: #7fbfbf; text-decoration-color: #7fbfbf\">                    </span><span style=\"color: #000080; text-decoration-color: #000080\">INFO    </span> Loading data from <span style=\"color: #008000; text-decoration-color: #008000\">'wPCC.df_VCT_scaled'</span> <span style=\"font-weight: bold\">(</span>CSVDataSet<span style=\"font-weight: bold\">)</span><span style=\"color: #808000; text-decoration-color: #808000\">...</span>             <a href=\"file:///home/maa/anaconda3/envs/phd/lib/python3.10/site-packages/kedro/io/data_catalog.py\" target=\"_blank\"><span style=\"color: #7f7f7f; text-decoration-color: #7f7f7f\">data_catalog.py</span></a><span style=\"color: #7f7f7f; text-decoration-color: #7f7f7f\">:</span><a href=\"file:///home/maa/anaconda3/envs/phd/lib/python3.10/site-packages/kedro/io/data_catalog.py#502\" target=\"_blank\"><span style=\"color: #7f7f7f; text-decoration-color: #7f7f7f\">502</span></a>\n",
       "</pre>\n"
      ],
      "text/plain": [
       "\u001b[2;36m                   \u001b[0m\u001b[2;36m \u001b[0m\u001b[34mINFO    \u001b[0m Loading data from \u001b[32m'wPCC.df_VCT_scaled'\u001b[0m \u001b[1m(\u001b[0mCSVDataSet\u001b[1m)\u001b[0m\u001b[33m...\u001b[0m             \u001b]8;id=878748;file:///home/maa/anaconda3/envs/phd/lib/python3.10/site-packages/kedro/io/data_catalog.py\u001b\\\u001b[2mdata_catalog.py\u001b[0m\u001b]8;;\u001b\\\u001b[2m:\u001b[0m\u001b]8;id=830215;file:///home/maa/anaconda3/envs/phd/lib/python3.10/site-packages/kedro/io/data_catalog.py#502\u001b\\\u001b[2m502\u001b[0m\u001b]8;;\u001b\\\n"
      ]
     },
     "metadata": {},
     "output_type": "display_data"
    },
    {
     "data": {
      "text/html": [
       "<pre style=\"white-space:pre;overflow-x:auto;line-height:normal;font-family:Menlo,'DejaVu Sans Mono',consolas,'Courier New',monospace\"><span style=\"color: #7fbfbf; text-decoration-color: #7fbfbf\">                    </span><span style=\"color: #000080; text-decoration-color: #000080\">INFO    </span> Loading data from <span style=\"color: #008000; text-decoration-color: #008000\">'params:wPCC.VCT_exclude_parameters'</span>             <a href=\"file:///home/maa/anaconda3/envs/phd/lib/python3.10/site-packages/kedro/io/data_catalog.py\" target=\"_blank\"><span style=\"color: #7f7f7f; text-decoration-color: #7f7f7f\">data_catalog.py</span></a><span style=\"color: #7f7f7f; text-decoration-color: #7f7f7f\">:</span><a href=\"file:///home/maa/anaconda3/envs/phd/lib/python3.10/site-packages/kedro/io/data_catalog.py#502\" target=\"_blank\"><span style=\"color: #7f7f7f; text-decoration-color: #7f7f7f\">502</span></a>\n",
       "<span style=\"color: #7fbfbf; text-decoration-color: #7fbfbf\">                    </span>         <span style=\"font-weight: bold\">(</span>MemoryDataset<span style=\"font-weight: bold\">)</span><span style=\"color: #808000; text-decoration-color: #808000\">...</span>                                                 <span style=\"color: #7f7f7f; text-decoration-color: #7f7f7f\">                   </span>\n",
       "</pre>\n"
      ],
      "text/plain": [
       "\u001b[2;36m                   \u001b[0m\u001b[2;36m \u001b[0m\u001b[34mINFO    \u001b[0m Loading data from \u001b[32m'params:wPCC.VCT_exclude_parameters'\u001b[0m             \u001b]8;id=801377;file:///home/maa/anaconda3/envs/phd/lib/python3.10/site-packages/kedro/io/data_catalog.py\u001b\\\u001b[2mdata_catalog.py\u001b[0m\u001b]8;;\u001b\\\u001b[2m:\u001b[0m\u001b]8;id=570565;file:///home/maa/anaconda3/envs/phd/lib/python3.10/site-packages/kedro/io/data_catalog.py#502\u001b\\\u001b[2m502\u001b[0m\u001b]8;;\u001b\\\n",
       "\u001b[2;36m                    \u001b[0m         \u001b[1m(\u001b[0mMemoryDataset\u001b[1m)\u001b[0m\u001b[33m...\u001b[0m                                                 \u001b[2m                   \u001b[0m\n"
      ]
     },
     "metadata": {},
     "output_type": "display_data"
    }
   ],
   "source": [
    "#%reload_kedro\n",
    "ship='wPCC'\n",
    "ship_data = catalog.load(f\"{ship}.ship_data\")\n",
    "model_loaders = catalog.load(f\"{ship}.models_VCT\")\n",
    "#models_rudder_VCT_loaders = catalog.load(f\"{ship}.models_rudder_VCT\")\n",
    "df_VCT = catalog.load(f\"{ship}.df_VCT_scaled\")\n",
    "exclude_parameters = catalog.load(f\"params:{ship}.VCT_exclude_parameters\")"
   ]
  },
  {
   "cell_type": "markdown",
   "id": "899bd2eb-bbac-4cef-9521-c35f92e2b1f7",
   "metadata": {},
   "source": [
    "## Mathematical rudder model"
   ]
  },
  {
   "cell_type": "code",
   "execution_count": 4,
   "id": "30a7cb46-8197-476e-8497-182cad104d89",
   "metadata": {},
   "outputs": [],
   "source": [
    "model = model_loaders['semiempirical_covered']()"
   ]
  },
  {
   "cell_type": "code",
   "execution_count": 5,
   "id": "2adbb901-59b9-4265-968f-5f24ef73afdd",
   "metadata": {},
   "outputs": [
    {
     "name": "stdout",
     "output_type": "stream",
     "text": [
      "hull: PrimeEquationSubSystem\n",
      "propellers: PropellersSimpleSystem\n",
      "rudder_port: SemiempiricalRudderSystemCovered\n",
      "rudder_stbd: SemiempiricalRudderSystemCovered\n",
      "rudders: Rudders\n",
      "rudder_hull_interaction: RudderHullInteractionSystem\n",
      "wind_force: DummyWindForceSystem\n"
     ]
    }
   ],
   "source": [
    "model.show_subsystems()"
   ]
  },
  {
   "cell_type": "code",
   "execution_count": 6,
   "id": "b282bfee-0c0a-4fd0-8f6b-84875b8dc19d",
   "metadata": {},
   "outputs": [],
   "source": [
    "df_VCT_prime = df_VCT_to_prime(model=model, df_VCT=df_VCT)"
   ]
  },
  {
   "cell_type": "code",
   "execution_count": 7,
   "id": "2ac25579-4259-48c5-9167-269f8a0108c8",
   "metadata": {},
   "outputs": [],
   "source": [
    "regression_pipeline = pipeline(df_VCT_prime=df_VCT_prime, model=model)"
   ]
  },
  {
   "cell_type": "code",
   "execution_count": 8,
   "id": "296c4131-5dd2-4e4c-93e5-4297ad6f87c8",
   "metadata": {},
   "outputs": [
    {
     "data": {
      "text/plain": [
       "dict_keys(['rudder hull interaction aH', 'rudder hull interaction xH', 'resistance', 'resistance fy', 'resistance mz', 'Drift angle fx', 'Drift angle fy', 'Drift angle mz', 'Circle fx', 'Circle fy', 'Circle mz', 'Circle + Drift fx', 'Circle + Drift fy', 'Circle + Drift mz'])"
      ]
     },
     "execution_count": 8,
     "metadata": {},
     "output_type": "execute_result"
    }
   ],
   "source": [
    "regression_pipeline.keys()"
   ]
  },
  {
   "cell_type": "code",
   "execution_count": 10,
   "id": "73d7e696-c19c-48b2-8d41-3201424c4c97",
   "metadata": {},
   "outputs": [],
   "source": [
    "regression = regression_pipeline['Drift angle fy']"
   ]
  },
  {
   "cell_type": "code",
   "execution_count": 11,
   "id": "4c4535e1-2b89-48e0-927d-c7a193b5b653",
   "metadata": {},
   "outputs": [
    {
     "data": {
      "text/latex": [
       "$\\displaystyle Y_{H} = Y_{0} + Y_{vvv} v^{3} + Y_{v} v$"
      ],
      "text/plain": [
       "Eq(Y_H, Y_{0} + Y_{vvv}*v**3 + Y_{v}*v)"
      ]
     },
     "execution_count": 11,
     "metadata": {},
     "output_type": "execute_result"
    }
   ],
   "source": [
    "regression['eq']"
   ]
  },
  {
   "cell_type": "code",
   "execution_count": 12,
   "id": "cba0c68c-4e5f-420d-8e00-1128ea5a9502",
   "metadata": {},
   "outputs": [
    {
     "data": {
      "text/latex": [
       "$\\displaystyle Y_{D} = Y_{R} a_{H}$"
      ],
      "text/plain": [
       "Eq(Y_D, Y_R*a_H)"
      ]
     },
     "metadata": {},
     "output_type": "display_data"
    },
    {
     "data": {
      "text/latex": [
       "$\\displaystyle N_{D} = N_{R} x_{H}$"
      ],
      "text/plain": [
       "Eq(N_D, N_R*x_H)"
      ]
     },
     "metadata": {},
     "output_type": "display_data"
    },
    {
     "data": {
      "text/latex": [
       "$\\displaystyle X_{H} = X_{0} + X_{u} u$"
      ],
      "text/plain": [
       "Eq(X_H, X_{0} + X_{u}*u)"
      ]
     },
     "metadata": {},
     "output_type": "display_data"
    },
    {
     "data": {
      "text/latex": [
       "$\\displaystyle Y_{H} = Y_{0}$"
      ],
      "text/plain": [
       "Eq(Y_H, Y_{0})"
      ]
     },
     "metadata": {},
     "output_type": "display_data"
    },
    {
     "data": {
      "text/latex": [
       "$\\displaystyle N_{H} = N_{0}$"
      ],
      "text/plain": [
       "Eq(N_H, N_{0})"
      ]
     },
     "metadata": {},
     "output_type": "display_data"
    },
    {
     "data": {
      "text/latex": [
       "$\\displaystyle X_{H} = X_{0} + X_{u} u + X_{vv} v^{2}$"
      ],
      "text/plain": [
       "Eq(X_H, X_{0} + X_{u}*u + X_{vv}*v**2)"
      ]
     },
     "metadata": {},
     "output_type": "display_data"
    },
    {
     "data": {
      "text/latex": [
       "$\\displaystyle Y_{H} = Y_{0} + Y_{vvv} v^{3} + Y_{v} v$"
      ],
      "text/plain": [
       "Eq(Y_H, Y_{0} + Y_{vvv}*v**3 + Y_{v}*v)"
      ]
     },
     "metadata": {},
     "output_type": "display_data"
    },
    {
     "data": {
      "text/latex": [
       "$\\displaystyle N_{H} = N_{0} + N_{vvv} v^{3} + N_{v} v$"
      ],
      "text/plain": [
       "Eq(N_H, N_{0} + N_{vvv}*v**3 + N_{v}*v)"
      ]
     },
     "metadata": {},
     "output_type": "display_data"
    },
    {
     "data": {
      "text/latex": [
       "$\\displaystyle X_{H} = X_{0} + X_{rr} r^{2} + X_{u} u$"
      ],
      "text/plain": [
       "Eq(X_H, X_{0} + X_{rr}*r**2 + X_{u}*u)"
      ]
     },
     "metadata": {},
     "output_type": "display_data"
    },
    {
     "data": {
      "text/latex": [
       "$\\displaystyle Y_{H} = Y_{0} + Y_{rrr} r^{3} + Y_{r} r$"
      ],
      "text/plain": [
       "Eq(Y_H, Y_{0} + Y_{rrr}*r**3 + Y_{r}*r)"
      ]
     },
     "metadata": {},
     "output_type": "display_data"
    },
    {
     "data": {
      "text/latex": [
       "$\\displaystyle N_{H} = N_{0} + N_{rrr} r^{3} + N_{r} r$"
      ],
      "text/plain": [
       "Eq(N_H, N_{0} + N_{rrr}*r**3 + N_{r}*r)"
      ]
     },
     "metadata": {},
     "output_type": "display_data"
    },
    {
     "data": {
      "text/latex": [
       "$\\displaystyle X_{H} = X_{0} + X_{rr} r^{2} + X_{u} u + X_{vr} r v + X_{vv} v^{2}$"
      ],
      "text/plain": [
       "Eq(X_H, X_{0} + X_{rr}*r**2 + X_{u}*u + X_{vr}*r*v + X_{vv}*v**2)"
      ]
     },
     "metadata": {},
     "output_type": "display_data"
    },
    {
     "data": {
      "text/latex": [
       "$\\displaystyle Y_{H} = Y_{0} + Y_{rrr} r^{3} + Y_{r} r + Y_{vrr} r^{2} v + Y_{vvr} r v^{2} + Y_{vvv} v^{3} + Y_{v} v$"
      ],
      "text/plain": [
       "Eq(Y_H, Y_{0} + Y_{rrr}*r**3 + Y_{r}*r + Y_{vrr}*r**2*v + Y_{vvr}*r*v**2 + Y_{vvv}*v**3 + Y_{v}*v)"
      ]
     },
     "metadata": {},
     "output_type": "display_data"
    },
    {
     "data": {
      "text/latex": [
       "$\\displaystyle N_{H} = N_{0} + N_{rrr} r^{3} + N_{r} r + N_{vrr} r^{2} v + N_{vvr} r v^{2} + N_{vvv} v^{3} + N_{v} v$"
      ],
      "text/plain": [
       "Eq(N_H, N_{0} + N_{rrr}*r**3 + N_{r}*r + N_{vrr}*r**2*v + N_{vvr}*r*v**2 + N_{vvv}*v**3 + N_{v}*v)"
      ]
     },
     "metadata": {},
     "output_type": "display_data"
    }
   ],
   "source": [
    "for name,regression in regression_pipeline.items():\n",
    "    display(regression['eq'])"
   ]
  },
  {
   "cell_type": "code",
   "execution_count": 13,
   "id": "58a69bb4-b48e-493b-ba56-0bcc71f2eb77",
   "metadata": {},
   "outputs": [
    {
     "data": {
      "text/plain": [
       "array(['Circle', 'Circle + Drift', 'Circle + rudder angle', 'Drift angle',\n",
       "       'Rudder and drift angle', 'Rudder angle', 'Thrust variation',\n",
       "       'self propulsion', 'Rudder angle resistance (no propeller)'],\n",
       "      dtype=object)"
      ]
     },
     "execution_count": 13,
     "metadata": {},
     "output_type": "execute_result"
    }
   ],
   "source": [
    "df_VCT['test type'].unique()"
   ]
  },
  {
   "cell_type": "code",
   "execution_count": 14,
   "id": "08254a3d-a80c-4207-813e-6382c7e5b825",
   "metadata": {},
   "outputs": [
    {
     "data": {
      "text/html": [
       "<div>\n",
       "<style scoped>\n",
       "    .dataframe tbody tr th:only-of-type {\n",
       "        vertical-align: middle;\n",
       "    }\n",
       "\n",
       "    .dataframe tbody tr th {\n",
       "        vertical-align: top;\n",
       "    }\n",
       "\n",
       "    .dataframe thead th {\n",
       "        text-align: right;\n",
       "    }\n",
       "</style>\n",
       "<table border=\"1\" class=\"dataframe\">\n",
       "  <thead>\n",
       "    <tr style=\"text-align: right;\">\n",
       "      <th></th>\n",
       "      <th>u</th>\n",
       "      <th>v</th>\n",
       "      <th>r</th>\n",
       "      <th>delta</th>\n",
       "      <th>thrust</th>\n",
       "    </tr>\n",
       "    <tr>\n",
       "      <th>test type</th>\n",
       "      <th></th>\n",
       "      <th></th>\n",
       "      <th></th>\n",
       "      <th></th>\n",
       "      <th></th>\n",
       "    </tr>\n",
       "  </thead>\n",
       "  <tbody>\n",
       "    <tr>\n",
       "      <th>Circle</th>\n",
       "      <td>0.961770</td>\n",
       "      <td>-0.000000</td>\n",
       "      <td>-0.023974</td>\n",
       "      <td>-0.000000</td>\n",
       "      <td>10.394889</td>\n",
       "    </tr>\n",
       "    <tr>\n",
       "      <th>Circle + Drift</th>\n",
       "      <td>0.961770</td>\n",
       "      <td>0.167010</td>\n",
       "      <td>0.047949</td>\n",
       "      <td>-0.000000</td>\n",
       "      <td>9.709370</td>\n",
       "    </tr>\n",
       "    <tr>\n",
       "      <th>Circle + rudder angle</th>\n",
       "      <td>0.961770</td>\n",
       "      <td>-0.000000</td>\n",
       "      <td>-0.023974</td>\n",
       "      <td>0.069813</td>\n",
       "      <td>9.291126</td>\n",
       "    </tr>\n",
       "    <tr>\n",
       "      <th>Drift angle</th>\n",
       "      <td>0.961184</td>\n",
       "      <td>-0.033565</td>\n",
       "      <td>0.000000</td>\n",
       "      <td>-0.000000</td>\n",
       "      <td>10.664554</td>\n",
       "    </tr>\n",
       "    <tr>\n",
       "      <th>Rudder and drift angle</th>\n",
       "      <td>0.959427</td>\n",
       "      <td>-0.067090</td>\n",
       "      <td>0.000000</td>\n",
       "      <td>0.069813</td>\n",
       "      <td>9.410107</td>\n",
       "    </tr>\n",
       "    <tr>\n",
       "      <th>Rudder angle</th>\n",
       "      <td>0.961770</td>\n",
       "      <td>-0.000000</td>\n",
       "      <td>0.000000</td>\n",
       "      <td>-0.052360</td>\n",
       "      <td>9.229330</td>\n",
       "    </tr>\n",
       "    <tr>\n",
       "      <th>Rudder angle resistance (no propeller)</th>\n",
       "      <td>0.961770</td>\n",
       "      <td>-0.000000</td>\n",
       "      <td>0.000000</td>\n",
       "      <td>-0.087266</td>\n",
       "      <td>0.000000</td>\n",
       "    </tr>\n",
       "    <tr>\n",
       "      <th>Thrust variation</th>\n",
       "      <td>0.961770</td>\n",
       "      <td>-0.000000</td>\n",
       "      <td>0.000000</td>\n",
       "      <td>-0.174533</td>\n",
       "      <td>13.721516</td>\n",
       "    </tr>\n",
       "    <tr>\n",
       "      <th>self propulsion</th>\n",
       "      <td>0.961770</td>\n",
       "      <td>-0.000000</td>\n",
       "      <td>0.000000</td>\n",
       "      <td>-0.000000</td>\n",
       "      <td>9.130484</td>\n",
       "    </tr>\n",
       "  </tbody>\n",
       "</table>\n",
       "</div>"
      ],
      "text/plain": [
       "                                               u         v         r     delta     thrust\n",
       "test type                                                                                \n",
       "Circle                                  0.961770 -0.000000 -0.023974 -0.000000  10.394889\n",
       "Circle + Drift                          0.961770  0.167010  0.047949 -0.000000   9.709370\n",
       "Circle + rudder angle                   0.961770 -0.000000 -0.023974  0.069813   9.291126\n",
       "Drift angle                             0.961184 -0.033565  0.000000 -0.000000  10.664554\n",
       "Rudder and drift angle                  0.959427 -0.067090  0.000000  0.069813   9.410107\n",
       "Rudder angle                            0.961770 -0.000000  0.000000 -0.052360   9.229330\n",
       "Rudder angle resistance (no propeller)  0.961770 -0.000000  0.000000 -0.087266   0.000000\n",
       "Thrust variation                        0.961770 -0.000000  0.000000 -0.174533  13.721516\n",
       "self propulsion                         0.961770 -0.000000  0.000000 -0.000000   9.130484"
      ]
     },
     "execution_count": 14,
     "metadata": {},
     "output_type": "execute_result"
    }
   ],
   "source": [
    "df_VCT.groupby(by='test type').max()[['u','v','r','delta','thrust']]"
   ]
  },
  {
   "cell_type": "code",
   "execution_count": 15,
   "id": "d8a2d32b-c70c-4ccc-a40a-57b6928946c3",
   "metadata": {},
   "outputs": [
    {
     "data": {
      "text/html": [
       "<div>\n",
       "<style scoped>\n",
       "    .dataframe tbody tr th:only-of-type {\n",
       "        vertical-align: middle;\n",
       "    }\n",
       "\n",
       "    .dataframe tbody tr th {\n",
       "        vertical-align: top;\n",
       "    }\n",
       "\n",
       "    .dataframe thead th {\n",
       "        text-align: right;\n",
       "    }\n",
       "</style>\n",
       "<table border=\"1\" class=\"dataframe\">\n",
       "  <thead>\n",
       "    <tr style=\"text-align: right;\">\n",
       "      <th></th>\n",
       "      <th>u</th>\n",
       "      <th>v</th>\n",
       "      <th>r</th>\n",
       "      <th>delta</th>\n",
       "      <th>thrust</th>\n",
       "    </tr>\n",
       "    <tr>\n",
       "      <th>test type</th>\n",
       "      <th></th>\n",
       "      <th></th>\n",
       "      <th></th>\n",
       "      <th></th>\n",
       "      <th></th>\n",
       "    </tr>\n",
       "  </thead>\n",
       "  <tbody>\n",
       "    <tr>\n",
       "      <th>Circle</th>\n",
       "      <td>0.961770</td>\n",
       "      <td>-0.000000</td>\n",
       "      <td>-0.127864</td>\n",
       "      <td>-0.000000</td>\n",
       "      <td>9.249258</td>\n",
       "    </tr>\n",
       "    <tr>\n",
       "      <th>Circle + Drift</th>\n",
       "      <td>0.947079</td>\n",
       "      <td>-0.167010</td>\n",
       "      <td>-0.047949</td>\n",
       "      <td>-0.000000</td>\n",
       "      <td>0.000000</td>\n",
       "    </tr>\n",
       "    <tr>\n",
       "      <th>Circle + rudder angle</th>\n",
       "      <td>0.961770</td>\n",
       "      <td>-0.000000</td>\n",
       "      <td>-0.023974</td>\n",
       "      <td>-0.069813</td>\n",
       "      <td>9.228015</td>\n",
       "    </tr>\n",
       "    <tr>\n",
       "      <th>Drift angle</th>\n",
       "      <td>0.903768</td>\n",
       "      <td>-0.328945</td>\n",
       "      <td>0.000000</td>\n",
       "      <td>-0.000000</td>\n",
       "      <td>9.124859</td>\n",
       "    </tr>\n",
       "    <tr>\n",
       "      <th>Rudder and drift angle</th>\n",
       "      <td>0.959427</td>\n",
       "      <td>-0.067090</td>\n",
       "      <td>0.000000</td>\n",
       "      <td>-0.069813</td>\n",
       "      <td>9.381886</td>\n",
       "    </tr>\n",
       "    <tr>\n",
       "      <th>Rudder angle</th>\n",
       "      <td>0.961770</td>\n",
       "      <td>-0.000000</td>\n",
       "      <td>0.000000</td>\n",
       "      <td>-0.261799</td>\n",
       "      <td>9.095363</td>\n",
       "    </tr>\n",
       "    <tr>\n",
       "      <th>Rudder angle resistance (no propeller)</th>\n",
       "      <td>0.961770</td>\n",
       "      <td>-0.000000</td>\n",
       "      <td>0.000000</td>\n",
       "      <td>-0.261799</td>\n",
       "      <td>0.000000</td>\n",
       "    </tr>\n",
       "    <tr>\n",
       "      <th>Thrust variation</th>\n",
       "      <td>0.480885</td>\n",
       "      <td>-0.000000</td>\n",
       "      <td>0.000000</td>\n",
       "      <td>-0.174533</td>\n",
       "      <td>1.360484</td>\n",
       "    </tr>\n",
       "    <tr>\n",
       "      <th>self propulsion</th>\n",
       "      <td>0.480885</td>\n",
       "      <td>-0.000000</td>\n",
       "      <td>0.000000</td>\n",
       "      <td>-0.000000</td>\n",
       "      <td>2.577043</td>\n",
       "    </tr>\n",
       "  </tbody>\n",
       "</table>\n",
       "</div>"
      ],
      "text/plain": [
       "                                               u         v         r     delta    thrust\n",
       "test type                                                                               \n",
       "Circle                                  0.961770 -0.000000 -0.127864 -0.000000  9.249258\n",
       "Circle + Drift                          0.947079 -0.167010 -0.047949 -0.000000  0.000000\n",
       "Circle + rudder angle                   0.961770 -0.000000 -0.023974 -0.069813  9.228015\n",
       "Drift angle                             0.903768 -0.328945  0.000000 -0.000000  9.124859\n",
       "Rudder and drift angle                  0.959427 -0.067090  0.000000 -0.069813  9.381886\n",
       "Rudder angle                            0.961770 -0.000000  0.000000 -0.261799  9.095363\n",
       "Rudder angle resistance (no propeller)  0.961770 -0.000000  0.000000 -0.261799  0.000000\n",
       "Thrust variation                        0.480885 -0.000000  0.000000 -0.174533  1.360484\n",
       "self propulsion                         0.480885 -0.000000  0.000000 -0.000000  2.577043"
      ]
     },
     "execution_count": 15,
     "metadata": {},
     "output_type": "execute_result"
    }
   ],
   "source": [
    "df_VCT.groupby(by='test type').min()[['u','v','r','delta','thrust']]"
   ]
  },
  {
   "cell_type": "code",
   "execution_count": 17,
   "id": "4a87c736-763e-473c-8445-d5cd36f15b89",
   "metadata": {},
   "outputs": [],
   "source": [
    "eq_N_D = model.expand_subsystemequations(model.N_D_eq)"
   ]
  },
  {
   "cell_type": "code",
   "execution_count": 18,
   "id": "9a1f6990-1e28-4aff-b885-50e29a6362fa",
   "metadata": {},
   "outputs": [
    {
     "data": {
      "text/latex": [
       "$\\displaystyle N_{D} = N_{R} x_{H} + N_{0} + x_{R} \\left(D_{R port} \\sin{\\left(\\gamma_{0 port} + \\operatorname{atan}{\\left(\\frac{V_{R y port}}{V_{R x C port}} \\right)} \\right)} + L_{R port} \\cos{\\left(\\gamma_{0 port} + \\operatorname{atan}{\\left(\\frac{V_{R y port}}{V_{R x C port}} \\right)} \\right)}\\right) + x_{R} \\left(D_{R stbd} \\sin{\\left(\\gamma_{0 stbd} + \\operatorname{atan}{\\left(\\frac{V_{R y stbd}}{V_{R x C stbd}} \\right)} \\right)} + L_{R stbd} \\cos{\\left(\\gamma_{0 stbd} + \\operatorname{atan}{\\left(\\frac{V_{R y stbd}}{V_{R x C stbd}} \\right)} \\right)}\\right)$"
      ],
      "text/plain": [
       "Eq(N_D, N_R*x_H + N_{0} + x_R*(D_R_port*sin(gamma_0_port + atan(V_R_y_port/V_R_x_C_port)) + L_R_port*cos(gamma_0_port + atan(V_R_y_port/V_R_x_C_port))) + x_R*(D_R_stbd*sin(gamma_0_stbd + atan(V_R_y_stbd/V_R_x_C_stbd)) + L_R_stbd*cos(gamma_0_stbd + atan(V_R_y_stbd/V_R_x_C_stbd))))"
      ]
     },
     "execution_count": 18,
     "metadata": {},
     "output_type": "execute_result"
    }
   ],
   "source": [
    "eq_N_D.subs([\n",
    "    (v,0),\n",
    "    (r,0),\n",
    "    (delta,0),\n",
    "    (thrust_port,0),\n",
    "    (thrust_stbd,0),\n",
    "])"
   ]
  },
  {
   "cell_type": "code",
   "execution_count": 19,
   "id": "67fa75df-9f58-404b-a709-1c264cb9f7ab",
   "metadata": {},
   "outputs": [
    {
     "data": {
      "text/plain": [
       "{'Y0': 0,\n",
       " 'N0': 0,\n",
       " 'Yvdeltadelta': 0,\n",
       " 'Yvvdelta': 0,\n",
       " 'Yrdeltadelta': 0,\n",
       " 'Yrrdelta': 0,\n",
       " 'Yvrdelta': 0,\n",
       " 'Nrrdelta': 0,\n",
       " 'Nvrdelta': 0,\n",
       " 'Nvdeltadelta': 0,\n",
       " 'Nrdeltadelta': 0,\n",
       " 'Nvvdelta': 0,\n",
       " 'Xthrustport': 0.883,\n",
       " 'Xthruststbd': 0.883}"
      ]
     },
     "execution_count": 19,
     "metadata": {},
     "output_type": "execute_result"
    }
   ],
   "source": [
    "exclude_parameters"
   ]
  },
  {
   "cell_type": "code",
   "execution_count": 21,
   "id": "33387aba-9a74-48c9-a885-55cb277f10e4",
   "metadata": {
    "collapsed": true,
    "jupyter": {
     "outputs_hidden": true
    },
    "tags": []
   },
   "outputs": [
    {
     "data": {
      "text/html": [
       "<pre style=\"white-space:pre;overflow-x:auto;line-height:normal;font-family:Menlo,'DejaVu Sans Mono',consolas,'Courier New',monospace\"><span style=\"color: #7fbfbf; text-decoration-color: #7fbfbf\">[01/10/24 14:16:29] </span><span style=\"color: #000080; text-decoration-color: #000080\">INFO    </span> Fitting:rudder hull interaction aH                          <a href=\"file:///home/maa/dev/PHD/src/phd/pipelines/regression_VCT/regression_pipeline.py\" target=\"_blank\"><span style=\"color: #7f7f7f; text-decoration-color: #7f7f7f\">regression_pipeline.py</span></a><span style=\"color: #7f7f7f; text-decoration-color: #7f7f7f\">:</span><a href=\"file:///home/maa/dev/PHD/src/phd/pipelines/regression_VCT/regression_pipeline.py#297\" target=\"_blank\"><span style=\"color: #7f7f7f; text-decoration-color: #7f7f7f\">297</span></a>\n",
       "</pre>\n"
      ],
      "text/plain": [
       "\u001b[2;36m[01/10/24 14:16:29]\u001b[0m\u001b[2;36m \u001b[0m\u001b[34mINFO    \u001b[0m Fitting:rudder hull interaction aH                          \u001b]8;id=319559;file:///home/maa/dev/PHD/src/phd/pipelines/regression_VCT/regression_pipeline.py\u001b\\\u001b[2mregression_pipeline.py\u001b[0m\u001b]8;;\u001b\\\u001b[2m:\u001b[0m\u001b]8;id=253012;file:///home/maa/dev/PHD/src/phd/pipelines/regression_VCT/regression_pipeline.py#297\u001b\\\u001b[2m297\u001b[0m\u001b]8;;\u001b\\\n"
      ]
     },
     "metadata": {},
     "output_type": "display_data"
    },
    {
     "data": {
      "text/html": [
       "<pre style=\"white-space:pre;overflow-x:auto;line-height:normal;font-family:Menlo,'DejaVu Sans Mono',consolas,'Courier New',monospace\"><span style=\"color: #7fbfbf; text-decoration-color: #7fbfbf\">                    </span><span style=\"color: #000080; text-decoration-color: #000080\">INFO    </span> Fitting:rudder hull interaction xH                          <a href=\"file:///home/maa/dev/PHD/src/phd/pipelines/regression_VCT/regression_pipeline.py\" target=\"_blank\"><span style=\"color: #7f7f7f; text-decoration-color: #7f7f7f\">regression_pipeline.py</span></a><span style=\"color: #7f7f7f; text-decoration-color: #7f7f7f\">:</span><a href=\"file:///home/maa/dev/PHD/src/phd/pipelines/regression_VCT/regression_pipeline.py#297\" target=\"_blank\"><span style=\"color: #7f7f7f; text-decoration-color: #7f7f7f\">297</span></a>\n",
       "</pre>\n"
      ],
      "text/plain": [
       "\u001b[2;36m                   \u001b[0m\u001b[2;36m \u001b[0m\u001b[34mINFO    \u001b[0m Fitting:rudder hull interaction xH                          \u001b]8;id=462191;file:///home/maa/dev/PHD/src/phd/pipelines/regression_VCT/regression_pipeline.py\u001b\\\u001b[2mregression_pipeline.py\u001b[0m\u001b]8;;\u001b\\\u001b[2m:\u001b[0m\u001b]8;id=371152;file:///home/maa/dev/PHD/src/phd/pipelines/regression_VCT/regression_pipeline.py#297\u001b\\\u001b[2m297\u001b[0m\u001b]8;;\u001b\\\n"
      ]
     },
     "metadata": {},
     "output_type": "display_data"
    },
    {
     "data": {
      "text/html": [
       "<pre style=\"white-space:pre;overflow-x:auto;line-height:normal;font-family:Menlo,'DejaVu Sans Mono',consolas,'Courier New',monospace\"><span style=\"color: #7fbfbf; text-decoration-color: #7fbfbf\">                    </span><span style=\"color: #000080; text-decoration-color: #000080\">INFO    </span> Fitting:resistance                                          <a href=\"file:///home/maa/dev/PHD/src/phd/pipelines/regression_VCT/regression_pipeline.py\" target=\"_blank\"><span style=\"color: #7f7f7f; text-decoration-color: #7f7f7f\">regression_pipeline.py</span></a><span style=\"color: #7f7f7f; text-decoration-color: #7f7f7f\">:</span><a href=\"file:///home/maa/dev/PHD/src/phd/pipelines/regression_VCT/regression_pipeline.py#297\" target=\"_blank\"><span style=\"color: #7f7f7f; text-decoration-color: #7f7f7f\">297</span></a>\n",
       "</pre>\n"
      ],
      "text/plain": [
       "\u001b[2;36m                   \u001b[0m\u001b[2;36m \u001b[0m\u001b[34mINFO    \u001b[0m Fitting:resistance                                          \u001b]8;id=975257;file:///home/maa/dev/PHD/src/phd/pipelines/regression_VCT/regression_pipeline.py\u001b\\\u001b[2mregression_pipeline.py\u001b[0m\u001b]8;;\u001b\\\u001b[2m:\u001b[0m\u001b]8;id=609527;file:///home/maa/dev/PHD/src/phd/pipelines/regression_VCT/regression_pipeline.py#297\u001b\\\u001b[2m297\u001b[0m\u001b]8;;\u001b\\\n"
      ]
     },
     "metadata": {},
     "output_type": "display_data"
    },
    {
     "data": {
      "text/html": [
       "<pre style=\"white-space:pre;overflow-x:auto;line-height:normal;font-family:Menlo,'DejaVu Sans Mono',consolas,'Courier New',monospace\"><span style=\"color: #7fbfbf; text-decoration-color: #7fbfbf\">[01/10/24 14:16:30] </span><span style=\"color: #000080; text-decoration-color: #000080\">INFO    </span> Fitting:resistance fy                                       <a href=\"file:///home/maa/dev/PHD/src/phd/pipelines/regression_VCT/regression_pipeline.py\" target=\"_blank\"><span style=\"color: #7f7f7f; text-decoration-color: #7f7f7f\">regression_pipeline.py</span></a><span style=\"color: #7f7f7f; text-decoration-color: #7f7f7f\">:</span><a href=\"file:///home/maa/dev/PHD/src/phd/pipelines/regression_VCT/regression_pipeline.py#297\" target=\"_blank\"><span style=\"color: #7f7f7f; text-decoration-color: #7f7f7f\">297</span></a>\n",
       "</pre>\n"
      ],
      "text/plain": [
       "\u001b[2;36m[01/10/24 14:16:30]\u001b[0m\u001b[2;36m \u001b[0m\u001b[34mINFO    \u001b[0m Fitting:resistance fy                                       \u001b]8;id=776424;file:///home/maa/dev/PHD/src/phd/pipelines/regression_VCT/regression_pipeline.py\u001b\\\u001b[2mregression_pipeline.py\u001b[0m\u001b]8;;\u001b\\\u001b[2m:\u001b[0m\u001b]8;id=750938;file:///home/maa/dev/PHD/src/phd/pipelines/regression_VCT/regression_pipeline.py#297\u001b\\\u001b[2m297\u001b[0m\u001b]8;;\u001b\\\n"
      ]
     },
     "metadata": {},
     "output_type": "display_data"
    },
    {
     "name": "stdout",
     "output_type": "stream",
     "text": [
      "skipping:resistance fy with equation: Eq(Y_H, Y_{0})\n"
     ]
    },
    {
     "data": {
      "text/html": [
       "<pre style=\"white-space:pre;overflow-x:auto;line-height:normal;font-family:Menlo,'DejaVu Sans Mono',consolas,'Courier New',monospace\"><span style=\"color: #7fbfbf; text-decoration-color: #7fbfbf\">                    </span><span style=\"color: #000080; text-decoration-color: #000080\">INFO    </span> Fitting:resistance mz                                       <a href=\"file:///home/maa/dev/PHD/src/phd/pipelines/regression_VCT/regression_pipeline.py\" target=\"_blank\"><span style=\"color: #7f7f7f; text-decoration-color: #7f7f7f\">regression_pipeline.py</span></a><span style=\"color: #7f7f7f; text-decoration-color: #7f7f7f\">:</span><a href=\"file:///home/maa/dev/PHD/src/phd/pipelines/regression_VCT/regression_pipeline.py#297\" target=\"_blank\"><span style=\"color: #7f7f7f; text-decoration-color: #7f7f7f\">297</span></a>\n",
       "</pre>\n"
      ],
      "text/plain": [
       "\u001b[2;36m                   \u001b[0m\u001b[2;36m \u001b[0m\u001b[34mINFO    \u001b[0m Fitting:resistance mz                                       \u001b]8;id=76532;file:///home/maa/dev/PHD/src/phd/pipelines/regression_VCT/regression_pipeline.py\u001b\\\u001b[2mregression_pipeline.py\u001b[0m\u001b]8;;\u001b\\\u001b[2m:\u001b[0m\u001b]8;id=961443;file:///home/maa/dev/PHD/src/phd/pipelines/regression_VCT/regression_pipeline.py#297\u001b\\\u001b[2m297\u001b[0m\u001b]8;;\u001b\\\n"
      ]
     },
     "metadata": {},
     "output_type": "display_data"
    },
    {
     "name": "stdout",
     "output_type": "stream",
     "text": [
      "skipping:resistance mz with equation: Eq(N_H, N_{0})\n"
     ]
    },
    {
     "data": {
      "text/html": [
       "<pre style=\"white-space:pre;overflow-x:auto;line-height:normal;font-family:Menlo,'DejaVu Sans Mono',consolas,'Courier New',monospace\"><span style=\"color: #7fbfbf; text-decoration-color: #7fbfbf\">                    </span><span style=\"color: #000080; text-decoration-color: #000080\">INFO    </span> Fitting:Drift angle fx                                      <a href=\"file:///home/maa/dev/PHD/src/phd/pipelines/regression_VCT/regression_pipeline.py\" target=\"_blank\"><span style=\"color: #7f7f7f; text-decoration-color: #7f7f7f\">regression_pipeline.py</span></a><span style=\"color: #7f7f7f; text-decoration-color: #7f7f7f\">:</span><a href=\"file:///home/maa/dev/PHD/src/phd/pipelines/regression_VCT/regression_pipeline.py#297\" target=\"_blank\"><span style=\"color: #7f7f7f; text-decoration-color: #7f7f7f\">297</span></a>\n",
       "</pre>\n"
      ],
      "text/plain": [
       "\u001b[2;36m                   \u001b[0m\u001b[2;36m \u001b[0m\u001b[34mINFO    \u001b[0m Fitting:Drift angle fx                                      \u001b]8;id=920871;file:///home/maa/dev/PHD/src/phd/pipelines/regression_VCT/regression_pipeline.py\u001b\\\u001b[2mregression_pipeline.py\u001b[0m\u001b]8;;\u001b\\\u001b[2m:\u001b[0m\u001b]8;id=22666;file:///home/maa/dev/PHD/src/phd/pipelines/regression_VCT/regression_pipeline.py#297\u001b\\\u001b[2m297\u001b[0m\u001b]8;;\u001b\\\n"
      ]
     },
     "metadata": {},
     "output_type": "display_data"
    },
    {
     "data": {
      "text/html": [
       "<pre style=\"white-space:pre;overflow-x:auto;line-height:normal;font-family:Menlo,'DejaVu Sans Mono',consolas,'Courier New',monospace\"><span style=\"color: #7fbfbf; text-decoration-color: #7fbfbf\">                    </span><span style=\"color: #000080; text-decoration-color: #000080\">INFO    </span> Fitting:Drift angle fy                                      <a href=\"file:///home/maa/dev/PHD/src/phd/pipelines/regression_VCT/regression_pipeline.py\" target=\"_blank\"><span style=\"color: #7f7f7f; text-decoration-color: #7f7f7f\">regression_pipeline.py</span></a><span style=\"color: #7f7f7f; text-decoration-color: #7f7f7f\">:</span><a href=\"file:///home/maa/dev/PHD/src/phd/pipelines/regression_VCT/regression_pipeline.py#297\" target=\"_blank\"><span style=\"color: #7f7f7f; text-decoration-color: #7f7f7f\">297</span></a>\n",
       "</pre>\n"
      ],
      "text/plain": [
       "\u001b[2;36m                   \u001b[0m\u001b[2;36m \u001b[0m\u001b[34mINFO    \u001b[0m Fitting:Drift angle fy                                      \u001b]8;id=575347;file:///home/maa/dev/PHD/src/phd/pipelines/regression_VCT/regression_pipeline.py\u001b\\\u001b[2mregression_pipeline.py\u001b[0m\u001b]8;;\u001b\\\u001b[2m:\u001b[0m\u001b]8;id=563147;file:///home/maa/dev/PHD/src/phd/pipelines/regression_VCT/regression_pipeline.py#297\u001b\\\u001b[2m297\u001b[0m\u001b]8;;\u001b\\\n"
      ]
     },
     "metadata": {},
     "output_type": "display_data"
    },
    {
     "data": {
      "text/html": [
       "<pre style=\"white-space:pre;overflow-x:auto;line-height:normal;font-family:Menlo,'DejaVu Sans Mono',consolas,'Courier New',monospace\"><span style=\"color: #7fbfbf; text-decoration-color: #7fbfbf\">                    </span><span style=\"color: #000080; text-decoration-color: #000080\">INFO    </span> Fitting:Drift angle mz                                      <a href=\"file:///home/maa/dev/PHD/src/phd/pipelines/regression_VCT/regression_pipeline.py\" target=\"_blank\"><span style=\"color: #7f7f7f; text-decoration-color: #7f7f7f\">regression_pipeline.py</span></a><span style=\"color: #7f7f7f; text-decoration-color: #7f7f7f\">:</span><a href=\"file:///home/maa/dev/PHD/src/phd/pipelines/regression_VCT/regression_pipeline.py#297\" target=\"_blank\"><span style=\"color: #7f7f7f; text-decoration-color: #7f7f7f\">297</span></a>\n",
       "</pre>\n"
      ],
      "text/plain": [
       "\u001b[2;36m                   \u001b[0m\u001b[2;36m \u001b[0m\u001b[34mINFO    \u001b[0m Fitting:Drift angle mz                                      \u001b]8;id=760797;file:///home/maa/dev/PHD/src/phd/pipelines/regression_VCT/regression_pipeline.py\u001b\\\u001b[2mregression_pipeline.py\u001b[0m\u001b]8;;\u001b\\\u001b[2m:\u001b[0m\u001b]8;id=972877;file:///home/maa/dev/PHD/src/phd/pipelines/regression_VCT/regression_pipeline.py#297\u001b\\\u001b[2m297\u001b[0m\u001b]8;;\u001b\\\n"
      ]
     },
     "metadata": {},
     "output_type": "display_data"
    },
    {
     "data": {
      "text/html": [
       "<pre style=\"white-space:pre;overflow-x:auto;line-height:normal;font-family:Menlo,'DejaVu Sans Mono',consolas,'Courier New',monospace\"><span style=\"color: #7fbfbf; text-decoration-color: #7fbfbf\">                    </span><span style=\"color: #000080; text-decoration-color: #000080\">INFO    </span> Fitting:Circle fx                                           <a href=\"file:///home/maa/dev/PHD/src/phd/pipelines/regression_VCT/regression_pipeline.py\" target=\"_blank\"><span style=\"color: #7f7f7f; text-decoration-color: #7f7f7f\">regression_pipeline.py</span></a><span style=\"color: #7f7f7f; text-decoration-color: #7f7f7f\">:</span><a href=\"file:///home/maa/dev/PHD/src/phd/pipelines/regression_VCT/regression_pipeline.py#297\" target=\"_blank\"><span style=\"color: #7f7f7f; text-decoration-color: #7f7f7f\">297</span></a>\n",
       "</pre>\n"
      ],
      "text/plain": [
       "\u001b[2;36m                   \u001b[0m\u001b[2;36m \u001b[0m\u001b[34mINFO    \u001b[0m Fitting:Circle fx                                           \u001b]8;id=376922;file:///home/maa/dev/PHD/src/phd/pipelines/regression_VCT/regression_pipeline.py\u001b\\\u001b[2mregression_pipeline.py\u001b[0m\u001b]8;;\u001b\\\u001b[2m:\u001b[0m\u001b]8;id=822478;file:///home/maa/dev/PHD/src/phd/pipelines/regression_VCT/regression_pipeline.py#297\u001b\\\u001b[2m297\u001b[0m\u001b]8;;\u001b\\\n"
      ]
     },
     "metadata": {},
     "output_type": "display_data"
    },
    {
     "data": {
      "text/html": [
       "<pre style=\"white-space:pre;overflow-x:auto;line-height:normal;font-family:Menlo,'DejaVu Sans Mono',consolas,'Courier New',monospace\"><span style=\"color: #7fbfbf; text-decoration-color: #7fbfbf\">                    </span><span style=\"color: #000080; text-decoration-color: #000080\">INFO    </span> Fitting:Circle fy                                           <a href=\"file:///home/maa/dev/PHD/src/phd/pipelines/regression_VCT/regression_pipeline.py\" target=\"_blank\"><span style=\"color: #7f7f7f; text-decoration-color: #7f7f7f\">regression_pipeline.py</span></a><span style=\"color: #7f7f7f; text-decoration-color: #7f7f7f\">:</span><a href=\"file:///home/maa/dev/PHD/src/phd/pipelines/regression_VCT/regression_pipeline.py#297\" target=\"_blank\"><span style=\"color: #7f7f7f; text-decoration-color: #7f7f7f\">297</span></a>\n",
       "</pre>\n"
      ],
      "text/plain": [
       "\u001b[2;36m                   \u001b[0m\u001b[2;36m \u001b[0m\u001b[34mINFO    \u001b[0m Fitting:Circle fy                                           \u001b]8;id=485051;file:///home/maa/dev/PHD/src/phd/pipelines/regression_VCT/regression_pipeline.py\u001b\\\u001b[2mregression_pipeline.py\u001b[0m\u001b]8;;\u001b\\\u001b[2m:\u001b[0m\u001b]8;id=802807;file:///home/maa/dev/PHD/src/phd/pipelines/regression_VCT/regression_pipeline.py#297\u001b\\\u001b[2m297\u001b[0m\u001b]8;;\u001b\\\n"
      ]
     },
     "metadata": {},
     "output_type": "display_data"
    },
    {
     "data": {
      "text/html": [
       "<pre style=\"white-space:pre;overflow-x:auto;line-height:normal;font-family:Menlo,'DejaVu Sans Mono',consolas,'Courier New',monospace\"><span style=\"color: #7fbfbf; text-decoration-color: #7fbfbf\">                    </span><span style=\"color: #000080; text-decoration-color: #000080\">INFO    </span> Fitting:Circle mz                                           <a href=\"file:///home/maa/dev/PHD/src/phd/pipelines/regression_VCT/regression_pipeline.py\" target=\"_blank\"><span style=\"color: #7f7f7f; text-decoration-color: #7f7f7f\">regression_pipeline.py</span></a><span style=\"color: #7f7f7f; text-decoration-color: #7f7f7f\">:</span><a href=\"file:///home/maa/dev/PHD/src/phd/pipelines/regression_VCT/regression_pipeline.py#297\" target=\"_blank\"><span style=\"color: #7f7f7f; text-decoration-color: #7f7f7f\">297</span></a>\n",
       "</pre>\n"
      ],
      "text/plain": [
       "\u001b[2;36m                   \u001b[0m\u001b[2;36m \u001b[0m\u001b[34mINFO    \u001b[0m Fitting:Circle mz                                           \u001b]8;id=886251;file:///home/maa/dev/PHD/src/phd/pipelines/regression_VCT/regression_pipeline.py\u001b\\\u001b[2mregression_pipeline.py\u001b[0m\u001b]8;;\u001b\\\u001b[2m:\u001b[0m\u001b]8;id=796340;file:///home/maa/dev/PHD/src/phd/pipelines/regression_VCT/regression_pipeline.py#297\u001b\\\u001b[2m297\u001b[0m\u001b]8;;\u001b\\\n"
      ]
     },
     "metadata": {},
     "output_type": "display_data"
    },
    {
     "data": {
      "text/html": [
       "<pre style=\"white-space:pre;overflow-x:auto;line-height:normal;font-family:Menlo,'DejaVu Sans Mono',consolas,'Courier New',monospace\"><span style=\"color: #7fbfbf; text-decoration-color: #7fbfbf\">                    </span><span style=\"color: #000080; text-decoration-color: #000080\">INFO    </span> Fitting:Circle + Drift fx                                   <a href=\"file:///home/maa/dev/PHD/src/phd/pipelines/regression_VCT/regression_pipeline.py\" target=\"_blank\"><span style=\"color: #7f7f7f; text-decoration-color: #7f7f7f\">regression_pipeline.py</span></a><span style=\"color: #7f7f7f; text-decoration-color: #7f7f7f\">:</span><a href=\"file:///home/maa/dev/PHD/src/phd/pipelines/regression_VCT/regression_pipeline.py#297\" target=\"_blank\"><span style=\"color: #7f7f7f; text-decoration-color: #7f7f7f\">297</span></a>\n",
       "</pre>\n"
      ],
      "text/plain": [
       "\u001b[2;36m                   \u001b[0m\u001b[2;36m \u001b[0m\u001b[34mINFO    \u001b[0m Fitting:Circle + Drift fx                                   \u001b]8;id=487988;file:///home/maa/dev/PHD/src/phd/pipelines/regression_VCT/regression_pipeline.py\u001b\\\u001b[2mregression_pipeline.py\u001b[0m\u001b]8;;\u001b\\\u001b[2m:\u001b[0m\u001b]8;id=47006;file:///home/maa/dev/PHD/src/phd/pipelines/regression_VCT/regression_pipeline.py#297\u001b\\\u001b[2m297\u001b[0m\u001b]8;;\u001b\\\n"
      ]
     },
     "metadata": {},
     "output_type": "display_data"
    },
    {
     "data": {
      "text/html": [
       "<pre style=\"white-space:pre;overflow-x:auto;line-height:normal;font-family:Menlo,'DejaVu Sans Mono',consolas,'Courier New',monospace\"><span style=\"color: #7fbfbf; text-decoration-color: #7fbfbf\">[01/10/24 14:16:31] </span><span style=\"color: #000080; text-decoration-color: #000080\">INFO    </span> Fitting:Circle + Drift fy                                   <a href=\"file:///home/maa/dev/PHD/src/phd/pipelines/regression_VCT/regression_pipeline.py\" target=\"_blank\"><span style=\"color: #7f7f7f; text-decoration-color: #7f7f7f\">regression_pipeline.py</span></a><span style=\"color: #7f7f7f; text-decoration-color: #7f7f7f\">:</span><a href=\"file:///home/maa/dev/PHD/src/phd/pipelines/regression_VCT/regression_pipeline.py#297\" target=\"_blank\"><span style=\"color: #7f7f7f; text-decoration-color: #7f7f7f\">297</span></a>\n",
       "</pre>\n"
      ],
      "text/plain": [
       "\u001b[2;36m[01/10/24 14:16:31]\u001b[0m\u001b[2;36m \u001b[0m\u001b[34mINFO    \u001b[0m Fitting:Circle + Drift fy                                   \u001b]8;id=301879;file:///home/maa/dev/PHD/src/phd/pipelines/regression_VCT/regression_pipeline.py\u001b\\\u001b[2mregression_pipeline.py\u001b[0m\u001b]8;;\u001b\\\u001b[2m:\u001b[0m\u001b]8;id=108306;file:///home/maa/dev/PHD/src/phd/pipelines/regression_VCT/regression_pipeline.py#297\u001b\\\u001b[2m297\u001b[0m\u001b]8;;\u001b\\\n"
      ]
     },
     "metadata": {},
     "output_type": "display_data"
    },
    {
     "data": {
      "text/html": [
       "<pre style=\"white-space:pre;overflow-x:auto;line-height:normal;font-family:Menlo,'DejaVu Sans Mono',consolas,'Courier New',monospace\"><span style=\"color: #7fbfbf; text-decoration-color: #7fbfbf\">                    </span><span style=\"color: #000080; text-decoration-color: #000080\">INFO    </span> Fitting:Circle + Drift mz                                   <a href=\"file:///home/maa/dev/PHD/src/phd/pipelines/regression_VCT/regression_pipeline.py\" target=\"_blank\"><span style=\"color: #7f7f7f; text-decoration-color: #7f7f7f\">regression_pipeline.py</span></a><span style=\"color: #7f7f7f; text-decoration-color: #7f7f7f\">:</span><a href=\"file:///home/maa/dev/PHD/src/phd/pipelines/regression_VCT/regression_pipeline.py#297\" target=\"_blank\"><span style=\"color: #7f7f7f; text-decoration-color: #7f7f7f\">297</span></a>\n",
       "</pre>\n"
      ],
      "text/plain": [
       "\u001b[2;36m                   \u001b[0m\u001b[2;36m \u001b[0m\u001b[34mINFO    \u001b[0m Fitting:Circle + Drift mz                                   \u001b]8;id=482016;file:///home/maa/dev/PHD/src/phd/pipelines/regression_VCT/regression_pipeline.py\u001b\\\u001b[2mregression_pipeline.py\u001b[0m\u001b]8;;\u001b\\\u001b[2m:\u001b[0m\u001b]8;id=389959;file:///home/maa/dev/PHD/src/phd/pipelines/regression_VCT/regression_pipeline.py#297\u001b\\\u001b[2m297\u001b[0m\u001b]8;;\u001b\\\n"
      ]
     },
     "metadata": {},
     "output_type": "display_data"
    },
    {
     "data": {
      "text/html": [
       "<pre style=\"white-space:pre;overflow-x:auto;line-height:normal;font-family:Menlo,'DejaVu Sans Mono',consolas,'Courier New',monospace\"><span style=\"color: #7fbfbf; text-decoration-color: #7fbfbf\">                    </span><span style=\"color: #000080; text-decoration-color: #000080\">INFO    </span> Regression:rudder hull interaction aH                                     <a href=\"file:///home/maa/dev/PHD/src/phd/pipelines/regression_VCT/nodes.py\" target=\"_blank\"><span style=\"color: #7f7f7f; text-decoration-color: #7f7f7f\">nodes.py</span></a><span style=\"color: #7f7f7f; text-decoration-color: #7f7f7f\">:</span><a href=\"file:///home/maa/dev/PHD/src/phd/pipelines/regression_VCT/nodes.py#549\" target=\"_blank\"><span style=\"color: #7f7f7f; text-decoration-color: #7f7f7f\">549</span></a>\n",
       "</pre>\n"
      ],
      "text/plain": [
       "\u001b[2;36m                   \u001b[0m\u001b[2;36m \u001b[0m\u001b[34mINFO    \u001b[0m Regression:rudder hull interaction aH                                     \u001b]8;id=823269;file:///home/maa/dev/PHD/src/phd/pipelines/regression_VCT/nodes.py\u001b\\\u001b[2mnodes.py\u001b[0m\u001b]8;;\u001b\\\u001b[2m:\u001b[0m\u001b]8;id=806251;file:///home/maa/dev/PHD/src/phd/pipelines/regression_VCT/nodes.py#549\u001b\\\u001b[2m549\u001b[0m\u001b]8;;\u001b\\\n"
      ]
     },
     "metadata": {},
     "output_type": "display_data"
    },
    {
     "data": {
      "text/html": [
       "<pre style=\"white-space:pre;overflow-x:auto;line-height:normal;font-family:Menlo,'DejaVu Sans Mono',consolas,'Courier New',monospace\"><span style=\"color: #7fbfbf; text-decoration-color: #7fbfbf\">                    </span><span style=\"color: #800000; text-decoration-color: #800000\">WARNING </span> <span style=\"color: #800080; text-decoration-color: #800080\">/home/maa/anaconda3/envs/phd/lib/python3.10/site-packages/statsmodels/</span> <a href=\"file:///home/maa/anaconda3/envs/phd/lib/python3.10/warnings.py\" target=\"_blank\"><span style=\"color: #7f7f7f; text-decoration-color: #7f7f7f\">warnings.py</span></a><span style=\"color: #7f7f7f; text-decoration-color: #7f7f7f\">:</span><a href=\"file:///home/maa/anaconda3/envs/phd/lib/python3.10/warnings.py#109\" target=\"_blank\"><span style=\"color: #7f7f7f; text-decoration-color: #7f7f7f\">109</span></a>\n",
       "<span style=\"color: #7fbfbf; text-decoration-color: #7fbfbf\">                    </span>         <span style=\"color: #800080; text-decoration-color: #800080\">stats/</span><span style=\"color: #ff00ff; text-decoration-color: #ff00ff\">stattools.py</span>:<span style=\"color: #008080; text-decoration-color: #008080; font-weight: bold\">74</span>: ValueWarning: omni_normtest is not valid with   <span style=\"color: #7f7f7f; text-decoration-color: #7f7f7f\">               </span>\n",
       "<span style=\"color: #7fbfbf; text-decoration-color: #7fbfbf\">                    </span>         less than <span style=\"color: #008080; text-decoration-color: #008080; font-weight: bold\">8</span> observations; <span style=\"color: #008080; text-decoration-color: #008080; font-weight: bold\">4</span> samples were given.                        <span style=\"color: #7f7f7f; text-decoration-color: #7f7f7f\">               </span>\n",
       "<span style=\"color: #7fbfbf; text-decoration-color: #7fbfbf\">                    </span>           <span style=\"color: #800080; text-decoration-color: #800080; font-weight: bold\">warn</span><span style=\"font-weight: bold\">(</span><span style=\"color: #008000; text-decoration-color: #008000\">\"omni_normtest is not valid with less than 8 observations; %i \"</span> <span style=\"color: #7f7f7f; text-decoration-color: #7f7f7f\">               </span>\n",
       "<span style=\"color: #7fbfbf; text-decoration-color: #7fbfbf\">                    </span>                                                                                <span style=\"color: #7f7f7f; text-decoration-color: #7f7f7f\">               </span>\n",
       "</pre>\n"
      ],
      "text/plain": [
       "\u001b[2;36m                   \u001b[0m\u001b[2;36m \u001b[0m\u001b[31mWARNING \u001b[0m \u001b[35m/home/maa/anaconda3/envs/phd/lib/python3.10/site-packages/statsmodels/\u001b[0m \u001b]8;id=400789;file:///home/maa/anaconda3/envs/phd/lib/python3.10/warnings.py\u001b\\\u001b[2mwarnings.py\u001b[0m\u001b]8;;\u001b\\\u001b[2m:\u001b[0m\u001b]8;id=27215;file:///home/maa/anaconda3/envs/phd/lib/python3.10/warnings.py#109\u001b\\\u001b[2m109\u001b[0m\u001b]8;;\u001b\\\n",
       "\u001b[2;36m                    \u001b[0m         \u001b[35mstats/\u001b[0m\u001b[95mstattools.py\u001b[0m:\u001b[1;36m74\u001b[0m: ValueWarning: omni_normtest is not valid with   \u001b[2m               \u001b[0m\n",
       "\u001b[2;36m                    \u001b[0m         less than \u001b[1;36m8\u001b[0m observations; \u001b[1;36m4\u001b[0m samples were given.                        \u001b[2m               \u001b[0m\n",
       "\u001b[2;36m                    \u001b[0m           \u001b[1;35mwarn\u001b[0m\u001b[1m(\u001b[0m\u001b[32m\"omni_normtest is not valid with less than 8 observations; %i \"\u001b[0m \u001b[2m               \u001b[0m\n",
       "\u001b[2;36m                    \u001b[0m                                                                                \u001b[2m               \u001b[0m\n"
      ]
     },
     "metadata": {},
     "output_type": "display_data"
    },
    {
     "data": {
      "text/html": [
       "<pre style=\"white-space:pre;overflow-x:auto;line-height:normal;font-family:Menlo,'DejaVu Sans Mono',consolas,'Courier New',monospace\"><span style=\"color: #7fbfbf; text-decoration-color: #7fbfbf\">                    </span><span style=\"color: #000080; text-decoration-color: #000080\">INFO    </span>                         Results: Ordinary least squares                   <a href=\"file:///home/maa/dev/PHD/src/phd/pipelines/regression_VCT/nodes.py\" target=\"_blank\"><span style=\"color: #7f7f7f; text-decoration-color: #7f7f7f\">nodes.py</span></a><span style=\"color: #7f7f7f; text-decoration-color: #7f7f7f\">:</span><a href=\"file:///home/maa/dev/PHD/src/phd/pipelines/regression_VCT/nodes.py#551\" target=\"_blank\"><span style=\"color: #7f7f7f; text-decoration-color: #7f7f7f\">551</span></a>\n",
       "<span style=\"color: #7fbfbf; text-decoration-color: #7fbfbf\">                    </span>         ========================================================================= <span style=\"color: #7f7f7f; text-decoration-color: #7f7f7f\">            </span>\n",
       "<span style=\"color: #7fbfbf; text-decoration-color: #7fbfbf\">                    </span>         =======                                                                   <span style=\"color: #7f7f7f; text-decoration-color: #7f7f7f\">            </span>\n",
       "<span style=\"color: #7fbfbf; text-decoration-color: #7fbfbf\">                    </span>         Model:                  OLS              Adj. R-squared <span style=\"font-weight: bold\">(</span>uncentered<span style=\"font-weight: bold\">)</span>:     <span style=\"color: #7f7f7f; text-decoration-color: #7f7f7f\">            </span>\n",
       "<span style=\"color: #7fbfbf; text-decoration-color: #7fbfbf\">                    </span>         <span style=\"color: #008080; text-decoration-color: #008080; font-weight: bold\">1.000</span>                                                                     <span style=\"color: #7f7f7f; text-decoration-color: #7f7f7f\">            </span>\n",
       "<span style=\"color: #7fbfbf; text-decoration-color: #7fbfbf\">                    </span>         Dependent Variable:     Y_D              AIC:                             <span style=\"color: #7f7f7f; text-decoration-color: #7f7f7f\">            </span>\n",
       "<span style=\"color: #7fbfbf; text-decoration-color: #7fbfbf\">                    </span>         <span style=\"color: #008080; text-decoration-color: #008080; font-weight: bold\">-88.1513</span>                                                                  <span style=\"color: #7f7f7f; text-decoration-color: #7f7f7f\">            </span>\n",
       "<span style=\"color: #7fbfbf; text-decoration-color: #7fbfbf\">                    </span>         Date:                   <span style=\"color: #008080; text-decoration-color: #008080; font-weight: bold\">2024</span>-<span style=\"color: #008080; text-decoration-color: #008080; font-weight: bold\">01</span>-<span style=\"color: #008080; text-decoration-color: #008080; font-weight: bold\">10</span> <span style=\"color: #00ff00; text-decoration-color: #00ff00; font-weight: bold\">14:16</span> BIC:                             <span style=\"color: #7f7f7f; text-decoration-color: #7f7f7f\">            </span>\n",
       "<span style=\"color: #7fbfbf; text-decoration-color: #7fbfbf\">                    </span>         <span style=\"color: #008080; text-decoration-color: #008080; font-weight: bold\">-88.7650</span>                                                                  <span style=\"color: #7f7f7f; text-decoration-color: #7f7f7f\">            </span>\n",
       "<span style=\"color: #7fbfbf; text-decoration-color: #7fbfbf\">                    </span>         No. Observations:       <span style=\"color: #008080; text-decoration-color: #008080; font-weight: bold\">4</span>                Log-Likelihood:                  <span style=\"color: #7f7f7f; text-decoration-color: #7f7f7f\">            </span>\n",
       "<span style=\"color: #7fbfbf; text-decoration-color: #7fbfbf\">                    </span>         <span style=\"color: #008080; text-decoration-color: #008080; font-weight: bold\">45.076</span>                                                                    <span style=\"color: #7f7f7f; text-decoration-color: #7f7f7f\">            </span>\n",
       "<span style=\"color: #7fbfbf; text-decoration-color: #7fbfbf\">                    </span>         Df Model:               <span style=\"color: #008080; text-decoration-color: #008080; font-weight: bold\">1</span>                F-statistic:                     <span style=\"color: #7f7f7f; text-decoration-color: #7f7f7f\">            </span>\n",
       "<span style=\"color: #7fbfbf; text-decoration-color: #7fbfbf\">                    </span>         <span style=\"color: #008080; text-decoration-color: #008080; font-weight: bold\">2.166e+05</span>                                                                 <span style=\"color: #7f7f7f; text-decoration-color: #7f7f7f\">            </span>\n",
       "<span style=\"color: #7fbfbf; text-decoration-color: #7fbfbf\">                    </span>         Df Residuals:           <span style=\"color: #008080; text-decoration-color: #008080; font-weight: bold\">3</span>                Prob <span style=\"font-weight: bold\">(</span>F-statistic<span style=\"font-weight: bold\">)</span>:              <span style=\"color: #7f7f7f; text-decoration-color: #7f7f7f\">            </span>\n",
       "<span style=\"color: #7fbfbf; text-decoration-color: #7fbfbf\">                    </span>         <span style=\"color: #008080; text-decoration-color: #008080; font-weight: bold\">2.19e-08</span>                                                                  <span style=\"color: #7f7f7f; text-decoration-color: #7f7f7f\">            </span>\n",
       "<span style=\"color: #7fbfbf; text-decoration-color: #7fbfbf\">                    </span>         R-squared <span style=\"font-weight: bold\">(</span>uncentered<span style=\"font-weight: bold\">)</span>: <span style=\"color: #008080; text-decoration-color: #008080; font-weight: bold\">1.000</span>            Scale:                           <span style=\"color: #7f7f7f; text-decoration-color: #7f7f7f\">            </span>\n",
       "<span style=\"color: #7fbfbf; text-decoration-color: #7fbfbf\">                    </span>         <span style=\"color: #008080; text-decoration-color: #008080; font-weight: bold\">1.2718e-11</span>                                                                <span style=\"color: #7f7f7f; text-decoration-color: #7f7f7f\">            </span>\n",
       "<span style=\"color: #7fbfbf; text-decoration-color: #7fbfbf\">                    </span>         ------------------------------------------------------------------------- <span style=\"color: #7f7f7f; text-decoration-color: #7f7f7f\">            </span>\n",
       "<span style=\"color: #7fbfbf; text-decoration-color: #7fbfbf\">                    </span>         -------------                                                             <span style=\"color: #7f7f7f; text-decoration-color: #7f7f7f\">            </span>\n",
       "<span style=\"color: #7fbfbf; text-decoration-color: #7fbfbf\">                    </span>                    Coef.        Std.Err.          t           P&gt;|t|        <span style=\"font-weight: bold\">[</span><span style=\"color: #008080; text-decoration-color: #008080; font-weight: bold\">0.025</span> <span style=\"color: #7f7f7f; text-decoration-color: #7f7f7f\">            </span>\n",
       "<span style=\"color: #7fbfbf; text-decoration-color: #7fbfbf\">                    </span>         <span style=\"color: #008080; text-decoration-color: #008080; font-weight: bold\">0.975</span><span style=\"font-weight: bold\">]</span>                                                                    <span style=\"color: #7f7f7f; text-decoration-color: #7f7f7f\">            </span>\n",
       "<span style=\"color: #7fbfbf; text-decoration-color: #7fbfbf\">                    </span>         ------------------------------------------------------------------------- <span style=\"color: #7f7f7f; text-decoration-color: #7f7f7f\">            </span>\n",
       "<span style=\"color: #7fbfbf; text-decoration-color: #7fbfbf\">                    </span>         -------------                                                             <span style=\"color: #7f7f7f; text-decoration-color: #7f7f7f\">            </span>\n",
       "<span style=\"color: #7fbfbf; text-decoration-color: #7fbfbf\">                    </span>         aH         <span style=\"color: #008080; text-decoration-color: #008080; font-weight: bold\">1.1282</span>         <span style=\"color: #008080; text-decoration-color: #008080; font-weight: bold\">0.0024</span>       <span style=\"color: #008080; text-decoration-color: #008080; font-weight: bold\">465.4504</span>       <span style=\"color: #008080; text-decoration-color: #008080; font-weight: bold\">0.0000</span>       <span style=\"color: #008080; text-decoration-color: #008080; font-weight: bold\">1.1205</span> <span style=\"color: #7f7f7f; text-decoration-color: #7f7f7f\">            </span>\n",
       "<span style=\"color: #7fbfbf; text-decoration-color: #7fbfbf\">                    </span>         <span style=\"color: #008080; text-decoration-color: #008080; font-weight: bold\">1.1360</span>                                                                    <span style=\"color: #7f7f7f; text-decoration-color: #7f7f7f\">            </span>\n",
       "<span style=\"color: #7fbfbf; text-decoration-color: #7fbfbf\">                    </span>         ------------------------------------------------------------------------- <span style=\"color: #7f7f7f; text-decoration-color: #7f7f7f\">            </span>\n",
       "<span style=\"color: #7fbfbf; text-decoration-color: #7fbfbf\">                    </span>         -------                                                                   <span style=\"color: #7f7f7f; text-decoration-color: #7f7f7f\">            </span>\n",
       "<span style=\"color: #7fbfbf; text-decoration-color: #7fbfbf\">                    </span>         Omnibus:                   nan               Durbin-Watson:               <span style=\"color: #7f7f7f; text-decoration-color: #7f7f7f\">            </span>\n",
       "<span style=\"color: #7fbfbf; text-decoration-color: #7fbfbf\">                    </span>         <span style=\"color: #008080; text-decoration-color: #008080; font-weight: bold\">1.718</span>                                                                     <span style=\"color: #7f7f7f; text-decoration-color: #7f7f7f\">            </span>\n",
       "<span style=\"color: #7fbfbf; text-decoration-color: #7fbfbf\">                    </span>         <span style=\"color: #800080; text-decoration-color: #800080; font-weight: bold\">Prob</span><span style=\"font-weight: bold\">(</span>Omnibus<span style=\"font-weight: bold\">)</span>:             nan               Jarque-Bera <span style=\"font-weight: bold\">(</span>JB<span style=\"font-weight: bold\">)</span>:            <span style=\"color: #7f7f7f; text-decoration-color: #7f7f7f\">            </span>\n",
       "<span style=\"color: #7fbfbf; text-decoration-color: #7fbfbf\">                    </span>         <span style=\"color: #008080; text-decoration-color: #008080; font-weight: bold\">0.526</span>                                                                     <span style=\"color: #7f7f7f; text-decoration-color: #7f7f7f\">            </span>\n",
       "<span style=\"color: #7fbfbf; text-decoration-color: #7fbfbf\">                    </span>         Skew:                      <span style=\"color: #008080; text-decoration-color: #008080; font-weight: bold\">0.769</span>             <span style=\"color: #800080; text-decoration-color: #800080; font-weight: bold\">Prob</span><span style=\"font-weight: bold\">(</span>JB<span style=\"font-weight: bold\">)</span>:                    <span style=\"color: #7f7f7f; text-decoration-color: #7f7f7f\">            </span>\n",
       "<span style=\"color: #7fbfbf; text-decoration-color: #7fbfbf\">                    </span>         <span style=\"color: #008080; text-decoration-color: #008080; font-weight: bold\">0.769</span>                                                                     <span style=\"color: #7f7f7f; text-decoration-color: #7f7f7f\">            </span>\n",
       "<span style=\"color: #7fbfbf; text-decoration-color: #7fbfbf\">                    </span>         Kurtosis:                  <span style=\"color: #008080; text-decoration-color: #008080; font-weight: bold\">2.113</span>             Condition No.:               <span style=\"color: #7f7f7f; text-decoration-color: #7f7f7f\">            </span>\n",
       "<span style=\"color: #7fbfbf; text-decoration-color: #7fbfbf\">                    </span>         <span style=\"color: #008080; text-decoration-color: #008080; font-weight: bold\">1</span>                                                                         <span style=\"color: #7f7f7f; text-decoration-color: #7f7f7f\">            </span>\n",
       "<span style=\"color: #7fbfbf; text-decoration-color: #7fbfbf\">                    </span>         ========================================================================= <span style=\"color: #7f7f7f; text-decoration-color: #7f7f7f\">            </span>\n",
       "<span style=\"color: #7fbfbf; text-decoration-color: #7fbfbf\">                    </span>         =======                                                                   <span style=\"color: #7f7f7f; text-decoration-color: #7f7f7f\">            </span>\n",
       "<span style=\"color: #7fbfbf; text-decoration-color: #7fbfbf\">                    </span>                                                                                   <span style=\"color: #7f7f7f; text-decoration-color: #7f7f7f\">            </span>\n",
       "</pre>\n"
      ],
      "text/plain": [
       "\u001b[2;36m                   \u001b[0m\u001b[2;36m \u001b[0m\u001b[34mINFO    \u001b[0m                         Results: Ordinary least squares                   \u001b]8;id=847712;file:///home/maa/dev/PHD/src/phd/pipelines/regression_VCT/nodes.py\u001b\\\u001b[2mnodes.py\u001b[0m\u001b]8;;\u001b\\\u001b[2m:\u001b[0m\u001b]8;id=498643;file:///home/maa/dev/PHD/src/phd/pipelines/regression_VCT/nodes.py#551\u001b\\\u001b[2m551\u001b[0m\u001b]8;;\u001b\\\n",
       "\u001b[2;36m                    \u001b[0m         ========================================================================= \u001b[2m            \u001b[0m\n",
       "\u001b[2;36m                    \u001b[0m         =======                                                                   \u001b[2m            \u001b[0m\n",
       "\u001b[2;36m                    \u001b[0m         Model:                  OLS              Adj. R-squared \u001b[1m(\u001b[0muncentered\u001b[1m)\u001b[0m:     \u001b[2m            \u001b[0m\n",
       "\u001b[2;36m                    \u001b[0m         \u001b[1;36m1.000\u001b[0m                                                                     \u001b[2m            \u001b[0m\n",
       "\u001b[2;36m                    \u001b[0m         Dependent Variable:     Y_D              AIC:                             \u001b[2m            \u001b[0m\n",
       "\u001b[2;36m                    \u001b[0m         \u001b[1;36m-88.1513\u001b[0m                                                                  \u001b[2m            \u001b[0m\n",
       "\u001b[2;36m                    \u001b[0m         Date:                   \u001b[1;36m2024\u001b[0m-\u001b[1;36m01\u001b[0m-\u001b[1;36m10\u001b[0m \u001b[1;92m14:16\u001b[0m BIC:                             \u001b[2m            \u001b[0m\n",
       "\u001b[2;36m                    \u001b[0m         \u001b[1;36m-88.7650\u001b[0m                                                                  \u001b[2m            \u001b[0m\n",
       "\u001b[2;36m                    \u001b[0m         No. Observations:       \u001b[1;36m4\u001b[0m                Log-Likelihood:                  \u001b[2m            \u001b[0m\n",
       "\u001b[2;36m                    \u001b[0m         \u001b[1;36m45.076\u001b[0m                                                                    \u001b[2m            \u001b[0m\n",
       "\u001b[2;36m                    \u001b[0m         Df Model:               \u001b[1;36m1\u001b[0m                F-statistic:                     \u001b[2m            \u001b[0m\n",
       "\u001b[2;36m                    \u001b[0m         \u001b[1;36m2.166e+05\u001b[0m                                                                 \u001b[2m            \u001b[0m\n",
       "\u001b[2;36m                    \u001b[0m         Df Residuals:           \u001b[1;36m3\u001b[0m                Prob \u001b[1m(\u001b[0mF-statistic\u001b[1m)\u001b[0m:              \u001b[2m            \u001b[0m\n",
       "\u001b[2;36m                    \u001b[0m         \u001b[1;36m2.19e-08\u001b[0m                                                                  \u001b[2m            \u001b[0m\n",
       "\u001b[2;36m                    \u001b[0m         R-squared \u001b[1m(\u001b[0muncentered\u001b[1m)\u001b[0m: \u001b[1;36m1.000\u001b[0m            Scale:                           \u001b[2m            \u001b[0m\n",
       "\u001b[2;36m                    \u001b[0m         \u001b[1;36m1.2718e-11\u001b[0m                                                                \u001b[2m            \u001b[0m\n",
       "\u001b[2;36m                    \u001b[0m         ------------------------------------------------------------------------- \u001b[2m            \u001b[0m\n",
       "\u001b[2;36m                    \u001b[0m         -------------                                                             \u001b[2m            \u001b[0m\n",
       "\u001b[2;36m                    \u001b[0m                    Coef.        Std.Err.          t           P>|t|        \u001b[1m[\u001b[0m\u001b[1;36m0.025\u001b[0m \u001b[2m            \u001b[0m\n",
       "\u001b[2;36m                    \u001b[0m         \u001b[1;36m0.975\u001b[0m\u001b[1m]\u001b[0m                                                                    \u001b[2m            \u001b[0m\n",
       "\u001b[2;36m                    \u001b[0m         ------------------------------------------------------------------------- \u001b[2m            \u001b[0m\n",
       "\u001b[2;36m                    \u001b[0m         -------------                                                             \u001b[2m            \u001b[0m\n",
       "\u001b[2;36m                    \u001b[0m         aH         \u001b[1;36m1.1282\u001b[0m         \u001b[1;36m0.0024\u001b[0m       \u001b[1;36m465.4504\u001b[0m       \u001b[1;36m0.0000\u001b[0m       \u001b[1;36m1.1205\u001b[0m \u001b[2m            \u001b[0m\n",
       "\u001b[2;36m                    \u001b[0m         \u001b[1;36m1.1360\u001b[0m                                                                    \u001b[2m            \u001b[0m\n",
       "\u001b[2;36m                    \u001b[0m         ------------------------------------------------------------------------- \u001b[2m            \u001b[0m\n",
       "\u001b[2;36m                    \u001b[0m         -------                                                                   \u001b[2m            \u001b[0m\n",
       "\u001b[2;36m                    \u001b[0m         Omnibus:                   nan               Durbin-Watson:               \u001b[2m            \u001b[0m\n",
       "\u001b[2;36m                    \u001b[0m         \u001b[1;36m1.718\u001b[0m                                                                     \u001b[2m            \u001b[0m\n",
       "\u001b[2;36m                    \u001b[0m         \u001b[1;35mProb\u001b[0m\u001b[1m(\u001b[0mOmnibus\u001b[1m)\u001b[0m:             nan               Jarque-Bera \u001b[1m(\u001b[0mJB\u001b[1m)\u001b[0m:            \u001b[2m            \u001b[0m\n",
       "\u001b[2;36m                    \u001b[0m         \u001b[1;36m0.526\u001b[0m                                                                     \u001b[2m            \u001b[0m\n",
       "\u001b[2;36m                    \u001b[0m         Skew:                      \u001b[1;36m0.769\u001b[0m             \u001b[1;35mProb\u001b[0m\u001b[1m(\u001b[0mJB\u001b[1m)\u001b[0m:                    \u001b[2m            \u001b[0m\n",
       "\u001b[2;36m                    \u001b[0m         \u001b[1;36m0.769\u001b[0m                                                                     \u001b[2m            \u001b[0m\n",
       "\u001b[2;36m                    \u001b[0m         Kurtosis:                  \u001b[1;36m2.113\u001b[0m             Condition No.:               \u001b[2m            \u001b[0m\n",
       "\u001b[2;36m                    \u001b[0m         \u001b[1;36m1\u001b[0m                                                                         \u001b[2m            \u001b[0m\n",
       "\u001b[2;36m                    \u001b[0m         ========================================================================= \u001b[2m            \u001b[0m\n",
       "\u001b[2;36m                    \u001b[0m         =======                                                                   \u001b[2m            \u001b[0m\n",
       "\u001b[2;36m                    \u001b[0m                                                                                   \u001b[2m            \u001b[0m\n"
      ]
     },
     "metadata": {},
     "output_type": "display_data"
    },
    {
     "data": {
      "text/html": [
       "<pre style=\"white-space:pre;overflow-x:auto;line-height:normal;font-family:Menlo,'DejaVu Sans Mono',consolas,'Courier New',monospace\"><span style=\"color: #7fbfbf; text-decoration-color: #7fbfbf\">                    </span><span style=\"color: #000080; text-decoration-color: #000080\">INFO    </span> Regression:rudder hull interaction xH                                     <a href=\"file:///home/maa/dev/PHD/src/phd/pipelines/regression_VCT/nodes.py\" target=\"_blank\"><span style=\"color: #7f7f7f; text-decoration-color: #7f7f7f\">nodes.py</span></a><span style=\"color: #7f7f7f; text-decoration-color: #7f7f7f\">:</span><a href=\"file:///home/maa/dev/PHD/src/phd/pipelines/regression_VCT/nodes.py#549\" target=\"_blank\"><span style=\"color: #7f7f7f; text-decoration-color: #7f7f7f\">549</span></a>\n",
       "</pre>\n"
      ],
      "text/plain": [
       "\u001b[2;36m                   \u001b[0m\u001b[2;36m \u001b[0m\u001b[34mINFO    \u001b[0m Regression:rudder hull interaction xH                                     \u001b]8;id=546927;file:///home/maa/dev/PHD/src/phd/pipelines/regression_VCT/nodes.py\u001b\\\u001b[2mnodes.py\u001b[0m\u001b]8;;\u001b\\\u001b[2m:\u001b[0m\u001b]8;id=327385;file:///home/maa/dev/PHD/src/phd/pipelines/regression_VCT/nodes.py#549\u001b\\\u001b[2m549\u001b[0m\u001b]8;;\u001b\\\n"
      ]
     },
     "metadata": {},
     "output_type": "display_data"
    },
    {
     "data": {
      "text/html": [
       "<pre style=\"white-space:pre;overflow-x:auto;line-height:normal;font-family:Menlo,'DejaVu Sans Mono',consolas,'Courier New',monospace\"><span style=\"color: #7fbfbf; text-decoration-color: #7fbfbf\">                    </span><span style=\"color: #800000; text-decoration-color: #800000\">WARNING </span> <span style=\"color: #800080; text-decoration-color: #800080\">/home/maa/anaconda3/envs/phd/lib/python3.10/site-packages/statsmodels/</span> <a href=\"file:///home/maa/anaconda3/envs/phd/lib/python3.10/warnings.py\" target=\"_blank\"><span style=\"color: #7f7f7f; text-decoration-color: #7f7f7f\">warnings.py</span></a><span style=\"color: #7f7f7f; text-decoration-color: #7f7f7f\">:</span><a href=\"file:///home/maa/anaconda3/envs/phd/lib/python3.10/warnings.py#109\" target=\"_blank\"><span style=\"color: #7f7f7f; text-decoration-color: #7f7f7f\">109</span></a>\n",
       "<span style=\"color: #7fbfbf; text-decoration-color: #7fbfbf\">                    </span>         <span style=\"color: #800080; text-decoration-color: #800080\">stats/</span><span style=\"color: #ff00ff; text-decoration-color: #ff00ff\">stattools.py</span>:<span style=\"color: #008080; text-decoration-color: #008080; font-weight: bold\">74</span>: ValueWarning: omni_normtest is not valid with   <span style=\"color: #7f7f7f; text-decoration-color: #7f7f7f\">               </span>\n",
       "<span style=\"color: #7fbfbf; text-decoration-color: #7fbfbf\">                    </span>         less than <span style=\"color: #008080; text-decoration-color: #008080; font-weight: bold\">8</span> observations; <span style=\"color: #008080; text-decoration-color: #008080; font-weight: bold\">4</span> samples were given.                        <span style=\"color: #7f7f7f; text-decoration-color: #7f7f7f\">               </span>\n",
       "<span style=\"color: #7fbfbf; text-decoration-color: #7fbfbf\">                    </span>           <span style=\"color: #800080; text-decoration-color: #800080; font-weight: bold\">warn</span><span style=\"font-weight: bold\">(</span><span style=\"color: #008000; text-decoration-color: #008000\">\"omni_normtest is not valid with less than 8 observations; %i \"</span> <span style=\"color: #7f7f7f; text-decoration-color: #7f7f7f\">               </span>\n",
       "<span style=\"color: #7fbfbf; text-decoration-color: #7fbfbf\">                    </span>                                                                                <span style=\"color: #7f7f7f; text-decoration-color: #7f7f7f\">               </span>\n",
       "</pre>\n"
      ],
      "text/plain": [
       "\u001b[2;36m                   \u001b[0m\u001b[2;36m \u001b[0m\u001b[31mWARNING \u001b[0m \u001b[35m/home/maa/anaconda3/envs/phd/lib/python3.10/site-packages/statsmodels/\u001b[0m \u001b]8;id=151264;file:///home/maa/anaconda3/envs/phd/lib/python3.10/warnings.py\u001b\\\u001b[2mwarnings.py\u001b[0m\u001b]8;;\u001b\\\u001b[2m:\u001b[0m\u001b]8;id=701116;file:///home/maa/anaconda3/envs/phd/lib/python3.10/warnings.py#109\u001b\\\u001b[2m109\u001b[0m\u001b]8;;\u001b\\\n",
       "\u001b[2;36m                    \u001b[0m         \u001b[35mstats/\u001b[0m\u001b[95mstattools.py\u001b[0m:\u001b[1;36m74\u001b[0m: ValueWarning: omni_normtest is not valid with   \u001b[2m               \u001b[0m\n",
       "\u001b[2;36m                    \u001b[0m         less than \u001b[1;36m8\u001b[0m observations; \u001b[1;36m4\u001b[0m samples were given.                        \u001b[2m               \u001b[0m\n",
       "\u001b[2;36m                    \u001b[0m           \u001b[1;35mwarn\u001b[0m\u001b[1m(\u001b[0m\u001b[32m\"omni_normtest is not valid with less than 8 observations; %i \"\u001b[0m \u001b[2m               \u001b[0m\n",
       "\u001b[2;36m                    \u001b[0m                                                                                \u001b[2m               \u001b[0m\n"
      ]
     },
     "metadata": {},
     "output_type": "display_data"
    },
    {
     "data": {
      "text/html": [
       "<pre style=\"white-space:pre;overflow-x:auto;line-height:normal;font-family:Menlo,'DejaVu Sans Mono',consolas,'Courier New',monospace\"><span style=\"color: #7fbfbf; text-decoration-color: #7fbfbf\">                    </span><span style=\"color: #000080; text-decoration-color: #000080\">INFO    </span>                         Results: Ordinary least squares                   <a href=\"file:///home/maa/dev/PHD/src/phd/pipelines/regression_VCT/nodes.py\" target=\"_blank\"><span style=\"color: #7f7f7f; text-decoration-color: #7f7f7f\">nodes.py</span></a><span style=\"color: #7f7f7f; text-decoration-color: #7f7f7f\">:</span><a href=\"file:///home/maa/dev/PHD/src/phd/pipelines/regression_VCT/nodes.py#551\" target=\"_blank\"><span style=\"color: #7f7f7f; text-decoration-color: #7f7f7f\">551</span></a>\n",
       "<span style=\"color: #7fbfbf; text-decoration-color: #7fbfbf\">                    </span>         ========================================================================= <span style=\"color: #7f7f7f; text-decoration-color: #7f7f7f\">            </span>\n",
       "<span style=\"color: #7fbfbf; text-decoration-color: #7fbfbf\">                    </span>         =======                                                                   <span style=\"color: #7f7f7f; text-decoration-color: #7f7f7f\">            </span>\n",
       "<span style=\"color: #7fbfbf; text-decoration-color: #7fbfbf\">                    </span>         Model:                  OLS              Adj. R-squared <span style=\"font-weight: bold\">(</span>uncentered<span style=\"font-weight: bold\">)</span>:     <span style=\"color: #7f7f7f; text-decoration-color: #7f7f7f\">            </span>\n",
       "<span style=\"color: #7fbfbf; text-decoration-color: #7fbfbf\">                    </span>         <span style=\"color: #008080; text-decoration-color: #008080; font-weight: bold\">1.000</span>                                                                     <span style=\"color: #7f7f7f; text-decoration-color: #7f7f7f\">            </span>\n",
       "<span style=\"color: #7fbfbf; text-decoration-color: #7fbfbf\">                    </span>         Dependent Variable:     N_D              AIC:                             <span style=\"color: #7f7f7f; text-decoration-color: #7f7f7f\">            </span>\n",
       "<span style=\"color: #7fbfbf; text-decoration-color: #7fbfbf\">                    </span>         <span style=\"color: #008080; text-decoration-color: #008080; font-weight: bold\">-96.9978</span>                                                                  <span style=\"color: #7f7f7f; text-decoration-color: #7f7f7f\">            </span>\n",
       "<span style=\"color: #7fbfbf; text-decoration-color: #7fbfbf\">                    </span>         Date:                   <span style=\"color: #008080; text-decoration-color: #008080; font-weight: bold\">2024</span>-<span style=\"color: #008080; text-decoration-color: #008080; font-weight: bold\">01</span>-<span style=\"color: #008080; text-decoration-color: #008080; font-weight: bold\">10</span> <span style=\"color: #00ff00; text-decoration-color: #00ff00; font-weight: bold\">14:16</span> BIC:                             <span style=\"color: #7f7f7f; text-decoration-color: #7f7f7f\">            </span>\n",
       "<span style=\"color: #7fbfbf; text-decoration-color: #7fbfbf\">                    </span>         <span style=\"color: #008080; text-decoration-color: #008080; font-weight: bold\">-97.6115</span>                                                                  <span style=\"color: #7f7f7f; text-decoration-color: #7f7f7f\">            </span>\n",
       "<span style=\"color: #7fbfbf; text-decoration-color: #7fbfbf\">                    </span>         No. Observations:       <span style=\"color: #008080; text-decoration-color: #008080; font-weight: bold\">4</span>                Log-Likelihood:                  <span style=\"color: #7f7f7f; text-decoration-color: #7f7f7f\">            </span>\n",
       "<span style=\"color: #7fbfbf; text-decoration-color: #7fbfbf\">                    </span>         <span style=\"color: #008080; text-decoration-color: #008080; font-weight: bold\">49.499</span>                                                                    <span style=\"color: #7f7f7f; text-decoration-color: #7f7f7f\">            </span>\n",
       "<span style=\"color: #7fbfbf; text-decoration-color: #7fbfbf\">                    </span>         Df Model:               <span style=\"color: #008080; text-decoration-color: #008080; font-weight: bold\">1</span>                F-statistic:                     <span style=\"color: #7f7f7f; text-decoration-color: #7f7f7f\">            </span>\n",
       "<span style=\"color: #7fbfbf; text-decoration-color: #7fbfbf\">                    </span>         <span style=\"color: #008080; text-decoration-color: #008080; font-weight: bold\">4.599e+05</span>                                                                 <span style=\"color: #7f7f7f; text-decoration-color: #7f7f7f\">            </span>\n",
       "<span style=\"color: #7fbfbf; text-decoration-color: #7fbfbf\">                    </span>         Df Residuals:           <span style=\"color: #008080; text-decoration-color: #008080; font-weight: bold\">3</span>                Prob <span style=\"font-weight: bold\">(</span>F-statistic<span style=\"font-weight: bold\">)</span>:              <span style=\"color: #7f7f7f; text-decoration-color: #7f7f7f\">            </span>\n",
       "<span style=\"color: #7fbfbf; text-decoration-color: #7fbfbf\">                    </span>         <span style=\"color: #008080; text-decoration-color: #008080; font-weight: bold\">7.07e-09</span>                                                                  <span style=\"color: #7f7f7f; text-decoration-color: #7f7f7f\">            </span>\n",
       "<span style=\"color: #7fbfbf; text-decoration-color: #7fbfbf\">                    </span>         R-squared <span style=\"font-weight: bold\">(</span>uncentered<span style=\"font-weight: bold\">)</span>: <span style=\"color: #008080; text-decoration-color: #008080; font-weight: bold\">1.000</span>            Scale:                           <span style=\"color: #7f7f7f; text-decoration-color: #7f7f7f\">            </span>\n",
       "<span style=\"color: #7fbfbf; text-decoration-color: #7fbfbf\">                    </span>         <span style=\"color: #008080; text-decoration-color: #008080; font-weight: bold\">1.3929e-12</span>                                                                <span style=\"color: #7f7f7f; text-decoration-color: #7f7f7f\">            </span>\n",
       "<span style=\"color: #7fbfbf; text-decoration-color: #7fbfbf\">                    </span>         ------------------------------------------------------------------------- <span style=\"color: #7f7f7f; text-decoration-color: #7f7f7f\">            </span>\n",
       "<span style=\"color: #7fbfbf; text-decoration-color: #7fbfbf\">                    </span>         -------------                                                             <span style=\"color: #7f7f7f; text-decoration-color: #7f7f7f\">            </span>\n",
       "<span style=\"color: #7fbfbf; text-decoration-color: #7fbfbf\">                    </span>                    Coef.        Std.Err.          t           P&gt;|t|        <span style=\"font-weight: bold\">[</span><span style=\"color: #008080; text-decoration-color: #008080; font-weight: bold\">0.025</span> <span style=\"color: #7f7f7f; text-decoration-color: #7f7f7f\">            </span>\n",
       "<span style=\"color: #7fbfbf; text-decoration-color: #7fbfbf\">                    </span>         <span style=\"color: #008080; text-decoration-color: #008080; font-weight: bold\">0.975</span><span style=\"font-weight: bold\">]</span>                                                                    <span style=\"color: #7f7f7f; text-decoration-color: #7f7f7f\">            </span>\n",
       "<span style=\"color: #7fbfbf; text-decoration-color: #7fbfbf\">                    </span>         ------------------------------------------------------------------------- <span style=\"color: #7f7f7f; text-decoration-color: #7f7f7f\">            </span>\n",
       "<span style=\"color: #7fbfbf; text-decoration-color: #7fbfbf\">                    </span>         -------------                                                             <span style=\"color: #7f7f7f; text-decoration-color: #7f7f7f\">            </span>\n",
       "<span style=\"color: #7fbfbf; text-decoration-color: #7fbfbf\">                    </span>         xH         <span style=\"color: #008080; text-decoration-color: #008080; font-weight: bold\">1.1250</span>         <span style=\"color: #008080; text-decoration-color: #008080; font-weight: bold\">0.0017</span>       <span style=\"color: #008080; text-decoration-color: #008080; font-weight: bold\">678.1346</span>       <span style=\"color: #008080; text-decoration-color: #008080; font-weight: bold\">0.0000</span>       <span style=\"color: #008080; text-decoration-color: #008080; font-weight: bold\">1.1197</span> <span style=\"color: #7f7f7f; text-decoration-color: #7f7f7f\">            </span>\n",
       "<span style=\"color: #7fbfbf; text-decoration-color: #7fbfbf\">                    </span>         <span style=\"color: #008080; text-decoration-color: #008080; font-weight: bold\">1.1302</span>                                                                    <span style=\"color: #7f7f7f; text-decoration-color: #7f7f7f\">            </span>\n",
       "<span style=\"color: #7fbfbf; text-decoration-color: #7fbfbf\">                    </span>         ------------------------------------------------------------------------- <span style=\"color: #7f7f7f; text-decoration-color: #7f7f7f\">            </span>\n",
       "<span style=\"color: #7fbfbf; text-decoration-color: #7fbfbf\">                    </span>         -------                                                                   <span style=\"color: #7f7f7f; text-decoration-color: #7f7f7f\">            </span>\n",
       "<span style=\"color: #7fbfbf; text-decoration-color: #7fbfbf\">                    </span>         Omnibus:                    nan               Durbin-Watson:              <span style=\"color: #7f7f7f; text-decoration-color: #7f7f7f\">            </span>\n",
       "<span style=\"color: #7fbfbf; text-decoration-color: #7fbfbf\">                    </span>         <span style=\"color: #008080; text-decoration-color: #008080; font-weight: bold\">1.583</span>                                                                     <span style=\"color: #7f7f7f; text-decoration-color: #7f7f7f\">            </span>\n",
       "<span style=\"color: #7fbfbf; text-decoration-color: #7fbfbf\">                    </span>         <span style=\"color: #800080; text-decoration-color: #800080; font-weight: bold\">Prob</span><span style=\"font-weight: bold\">(</span>Omnibus<span style=\"font-weight: bold\">)</span>:              nan               Jarque-Bera <span style=\"font-weight: bold\">(</span>JB<span style=\"font-weight: bold\">)</span>:           <span style=\"color: #7f7f7f; text-decoration-color: #7f7f7f\">            </span>\n",
       "<span style=\"color: #7fbfbf; text-decoration-color: #7fbfbf\">                    </span>         <span style=\"color: #008080; text-decoration-color: #008080; font-weight: bold\">0.379</span>                                                                     <span style=\"color: #7f7f7f; text-decoration-color: #7f7f7f\">            </span>\n",
       "<span style=\"color: #7fbfbf; text-decoration-color: #7fbfbf\">                    </span>         Skew:                       <span style=\"color: #008080; text-decoration-color: #008080; font-weight: bold\">-0.593</span>            <span style=\"color: #800080; text-decoration-color: #800080; font-weight: bold\">Prob</span><span style=\"font-weight: bold\">(</span>JB<span style=\"font-weight: bold\">)</span>:                   <span style=\"color: #7f7f7f; text-decoration-color: #7f7f7f\">            </span>\n",
       "<span style=\"color: #7fbfbf; text-decoration-color: #7fbfbf\">                    </span>         <span style=\"color: #008080; text-decoration-color: #008080; font-weight: bold\">0.827</span>                                                                     <span style=\"color: #7f7f7f; text-decoration-color: #7f7f7f\">            </span>\n",
       "<span style=\"color: #7fbfbf; text-decoration-color: #7fbfbf\">                    </span>         Kurtosis:                   <span style=\"color: #008080; text-decoration-color: #008080; font-weight: bold\">2.069</span>             Condition No.:              <span style=\"color: #7f7f7f; text-decoration-color: #7f7f7f\">            </span>\n",
       "<span style=\"color: #7fbfbf; text-decoration-color: #7fbfbf\">                    </span>         <span style=\"color: #008080; text-decoration-color: #008080; font-weight: bold\">1</span>                                                                         <span style=\"color: #7f7f7f; text-decoration-color: #7f7f7f\">            </span>\n",
       "<span style=\"color: #7fbfbf; text-decoration-color: #7fbfbf\">                    </span>         ========================================================================= <span style=\"color: #7f7f7f; text-decoration-color: #7f7f7f\">            </span>\n",
       "<span style=\"color: #7fbfbf; text-decoration-color: #7fbfbf\">                    </span>         =======                                                                   <span style=\"color: #7f7f7f; text-decoration-color: #7f7f7f\">            </span>\n",
       "<span style=\"color: #7fbfbf; text-decoration-color: #7fbfbf\">                    </span>                                                                                   <span style=\"color: #7f7f7f; text-decoration-color: #7f7f7f\">            </span>\n",
       "</pre>\n"
      ],
      "text/plain": [
       "\u001b[2;36m                   \u001b[0m\u001b[2;36m \u001b[0m\u001b[34mINFO    \u001b[0m                         Results: Ordinary least squares                   \u001b]8;id=990793;file:///home/maa/dev/PHD/src/phd/pipelines/regression_VCT/nodes.py\u001b\\\u001b[2mnodes.py\u001b[0m\u001b]8;;\u001b\\\u001b[2m:\u001b[0m\u001b]8;id=184905;file:///home/maa/dev/PHD/src/phd/pipelines/regression_VCT/nodes.py#551\u001b\\\u001b[2m551\u001b[0m\u001b]8;;\u001b\\\n",
       "\u001b[2;36m                    \u001b[0m         ========================================================================= \u001b[2m            \u001b[0m\n",
       "\u001b[2;36m                    \u001b[0m         =======                                                                   \u001b[2m            \u001b[0m\n",
       "\u001b[2;36m                    \u001b[0m         Model:                  OLS              Adj. R-squared \u001b[1m(\u001b[0muncentered\u001b[1m)\u001b[0m:     \u001b[2m            \u001b[0m\n",
       "\u001b[2;36m                    \u001b[0m         \u001b[1;36m1.000\u001b[0m                                                                     \u001b[2m            \u001b[0m\n",
       "\u001b[2;36m                    \u001b[0m         Dependent Variable:     N_D              AIC:                             \u001b[2m            \u001b[0m\n",
       "\u001b[2;36m                    \u001b[0m         \u001b[1;36m-96.9978\u001b[0m                                                                  \u001b[2m            \u001b[0m\n",
       "\u001b[2;36m                    \u001b[0m         Date:                   \u001b[1;36m2024\u001b[0m-\u001b[1;36m01\u001b[0m-\u001b[1;36m10\u001b[0m \u001b[1;92m14:16\u001b[0m BIC:                             \u001b[2m            \u001b[0m\n",
       "\u001b[2;36m                    \u001b[0m         \u001b[1;36m-97.6115\u001b[0m                                                                  \u001b[2m            \u001b[0m\n",
       "\u001b[2;36m                    \u001b[0m         No. Observations:       \u001b[1;36m4\u001b[0m                Log-Likelihood:                  \u001b[2m            \u001b[0m\n",
       "\u001b[2;36m                    \u001b[0m         \u001b[1;36m49.499\u001b[0m                                                                    \u001b[2m            \u001b[0m\n",
       "\u001b[2;36m                    \u001b[0m         Df Model:               \u001b[1;36m1\u001b[0m                F-statistic:                     \u001b[2m            \u001b[0m\n",
       "\u001b[2;36m                    \u001b[0m         \u001b[1;36m4.599e+05\u001b[0m                                                                 \u001b[2m            \u001b[0m\n",
       "\u001b[2;36m                    \u001b[0m         Df Residuals:           \u001b[1;36m3\u001b[0m                Prob \u001b[1m(\u001b[0mF-statistic\u001b[1m)\u001b[0m:              \u001b[2m            \u001b[0m\n",
       "\u001b[2;36m                    \u001b[0m         \u001b[1;36m7.07e-09\u001b[0m                                                                  \u001b[2m            \u001b[0m\n",
       "\u001b[2;36m                    \u001b[0m         R-squared \u001b[1m(\u001b[0muncentered\u001b[1m)\u001b[0m: \u001b[1;36m1.000\u001b[0m            Scale:                           \u001b[2m            \u001b[0m\n",
       "\u001b[2;36m                    \u001b[0m         \u001b[1;36m1.3929e-12\u001b[0m                                                                \u001b[2m            \u001b[0m\n",
       "\u001b[2;36m                    \u001b[0m         ------------------------------------------------------------------------- \u001b[2m            \u001b[0m\n",
       "\u001b[2;36m                    \u001b[0m         -------------                                                             \u001b[2m            \u001b[0m\n",
       "\u001b[2;36m                    \u001b[0m                    Coef.        Std.Err.          t           P>|t|        \u001b[1m[\u001b[0m\u001b[1;36m0.025\u001b[0m \u001b[2m            \u001b[0m\n",
       "\u001b[2;36m                    \u001b[0m         \u001b[1;36m0.975\u001b[0m\u001b[1m]\u001b[0m                                                                    \u001b[2m            \u001b[0m\n",
       "\u001b[2;36m                    \u001b[0m         ------------------------------------------------------------------------- \u001b[2m            \u001b[0m\n",
       "\u001b[2;36m                    \u001b[0m         -------------                                                             \u001b[2m            \u001b[0m\n",
       "\u001b[2;36m                    \u001b[0m         xH         \u001b[1;36m1.1250\u001b[0m         \u001b[1;36m0.0017\u001b[0m       \u001b[1;36m678.1346\u001b[0m       \u001b[1;36m0.0000\u001b[0m       \u001b[1;36m1.1197\u001b[0m \u001b[2m            \u001b[0m\n",
       "\u001b[2;36m                    \u001b[0m         \u001b[1;36m1.1302\u001b[0m                                                                    \u001b[2m            \u001b[0m\n",
       "\u001b[2;36m                    \u001b[0m         ------------------------------------------------------------------------- \u001b[2m            \u001b[0m\n",
       "\u001b[2;36m                    \u001b[0m         -------                                                                   \u001b[2m            \u001b[0m\n",
       "\u001b[2;36m                    \u001b[0m         Omnibus:                    nan               Durbin-Watson:              \u001b[2m            \u001b[0m\n",
       "\u001b[2;36m                    \u001b[0m         \u001b[1;36m1.583\u001b[0m                                                                     \u001b[2m            \u001b[0m\n",
       "\u001b[2;36m                    \u001b[0m         \u001b[1;35mProb\u001b[0m\u001b[1m(\u001b[0mOmnibus\u001b[1m)\u001b[0m:              nan               Jarque-Bera \u001b[1m(\u001b[0mJB\u001b[1m)\u001b[0m:           \u001b[2m            \u001b[0m\n",
       "\u001b[2;36m                    \u001b[0m         \u001b[1;36m0.379\u001b[0m                                                                     \u001b[2m            \u001b[0m\n",
       "\u001b[2;36m                    \u001b[0m         Skew:                       \u001b[1;36m-0.593\u001b[0m            \u001b[1;35mProb\u001b[0m\u001b[1m(\u001b[0mJB\u001b[1m)\u001b[0m:                   \u001b[2m            \u001b[0m\n",
       "\u001b[2;36m                    \u001b[0m         \u001b[1;36m0.827\u001b[0m                                                                     \u001b[2m            \u001b[0m\n",
       "\u001b[2;36m                    \u001b[0m         Kurtosis:                   \u001b[1;36m2.069\u001b[0m             Condition No.:              \u001b[2m            \u001b[0m\n",
       "\u001b[2;36m                    \u001b[0m         \u001b[1;36m1\u001b[0m                                                                         \u001b[2m            \u001b[0m\n",
       "\u001b[2;36m                    \u001b[0m         ========================================================================= \u001b[2m            \u001b[0m\n",
       "\u001b[2;36m                    \u001b[0m         =======                                                                   \u001b[2m            \u001b[0m\n",
       "\u001b[2;36m                    \u001b[0m                                                                                   \u001b[2m            \u001b[0m\n"
      ]
     },
     "metadata": {},
     "output_type": "display_data"
    },
    {
     "data": {
      "text/html": [
       "<pre style=\"white-space:pre;overflow-x:auto;line-height:normal;font-family:Menlo,'DejaVu Sans Mono',consolas,'Courier New',monospace\"><span style=\"color: #7fbfbf; text-decoration-color: #7fbfbf\">                    </span><span style=\"color: #000080; text-decoration-color: #000080\">INFO    </span> Regression:resistance                                                     <a href=\"file:///home/maa/dev/PHD/src/phd/pipelines/regression_VCT/nodes.py\" target=\"_blank\"><span style=\"color: #7f7f7f; text-decoration-color: #7f7f7f\">nodes.py</span></a><span style=\"color: #7f7f7f; text-decoration-color: #7f7f7f\">:</span><a href=\"file:///home/maa/dev/PHD/src/phd/pipelines/regression_VCT/nodes.py#549\" target=\"_blank\"><span style=\"color: #7f7f7f; text-decoration-color: #7f7f7f\">549</span></a>\n",
       "</pre>\n"
      ],
      "text/plain": [
       "\u001b[2;36m                   \u001b[0m\u001b[2;36m \u001b[0m\u001b[34mINFO    \u001b[0m Regression:resistance                                                     \u001b]8;id=422137;file:///home/maa/dev/PHD/src/phd/pipelines/regression_VCT/nodes.py\u001b\\\u001b[2mnodes.py\u001b[0m\u001b]8;;\u001b\\\u001b[2m:\u001b[0m\u001b]8;id=378247;file:///home/maa/dev/PHD/src/phd/pipelines/regression_VCT/nodes.py#549\u001b\\\u001b[2m549\u001b[0m\u001b]8;;\u001b\\\n"
      ]
     },
     "metadata": {},
     "output_type": "display_data"
    },
    {
     "data": {
      "text/html": [
       "<pre style=\"white-space:pre;overflow-x:auto;line-height:normal;font-family:Menlo,'DejaVu Sans Mono',consolas,'Courier New',monospace\"><span style=\"color: #7fbfbf; text-decoration-color: #7fbfbf\">                    </span><span style=\"color: #800000; text-decoration-color: #800000\">WARNING </span> <span style=\"color: #800080; text-decoration-color: #800080\">/home/maa/anaconda3/envs/phd/lib/python3.10/site-packages/statsmodels/</span> <a href=\"file:///home/maa/anaconda3/envs/phd/lib/python3.10/warnings.py\" target=\"_blank\"><span style=\"color: #7f7f7f; text-decoration-color: #7f7f7f\">warnings.py</span></a><span style=\"color: #7f7f7f; text-decoration-color: #7f7f7f\">:</span><a href=\"file:///home/maa/anaconda3/envs/phd/lib/python3.10/warnings.py#109\" target=\"_blank\"><span style=\"color: #7f7f7f; text-decoration-color: #7f7f7f\">109</span></a>\n",
       "<span style=\"color: #7fbfbf; text-decoration-color: #7fbfbf\">                    </span>         <span style=\"color: #800080; text-decoration-color: #800080\">stats/</span><span style=\"color: #ff00ff; text-decoration-color: #ff00ff\">stattools.py</span>:<span style=\"color: #008080; text-decoration-color: #008080; font-weight: bold\">74</span>: ValueWarning: omni_normtest is not valid with   <span style=\"color: #7f7f7f; text-decoration-color: #7f7f7f\">               </span>\n",
       "<span style=\"color: #7fbfbf; text-decoration-color: #7fbfbf\">                    </span>         less than <span style=\"color: #008080; text-decoration-color: #008080; font-weight: bold\">8</span> observations; <span style=\"color: #008080; text-decoration-color: #008080; font-weight: bold\">2</span> samples were given.                        <span style=\"color: #7f7f7f; text-decoration-color: #7f7f7f\">               </span>\n",
       "<span style=\"color: #7fbfbf; text-decoration-color: #7fbfbf\">                    </span>           <span style=\"color: #800080; text-decoration-color: #800080; font-weight: bold\">warn</span><span style=\"font-weight: bold\">(</span><span style=\"color: #008000; text-decoration-color: #008000\">\"omni_normtest is not valid with less than 8 observations; %i \"</span> <span style=\"color: #7f7f7f; text-decoration-color: #7f7f7f\">               </span>\n",
       "<span style=\"color: #7fbfbf; text-decoration-color: #7fbfbf\">                    </span>                                                                                <span style=\"color: #7f7f7f; text-decoration-color: #7f7f7f\">               </span>\n",
       "</pre>\n"
      ],
      "text/plain": [
       "\u001b[2;36m                   \u001b[0m\u001b[2;36m \u001b[0m\u001b[31mWARNING \u001b[0m \u001b[35m/home/maa/anaconda3/envs/phd/lib/python3.10/site-packages/statsmodels/\u001b[0m \u001b]8;id=685005;file:///home/maa/anaconda3/envs/phd/lib/python3.10/warnings.py\u001b\\\u001b[2mwarnings.py\u001b[0m\u001b]8;;\u001b\\\u001b[2m:\u001b[0m\u001b]8;id=339378;file:///home/maa/anaconda3/envs/phd/lib/python3.10/warnings.py#109\u001b\\\u001b[2m109\u001b[0m\u001b]8;;\u001b\\\n",
       "\u001b[2;36m                    \u001b[0m         \u001b[35mstats/\u001b[0m\u001b[95mstattools.py\u001b[0m:\u001b[1;36m74\u001b[0m: ValueWarning: omni_normtest is not valid with   \u001b[2m               \u001b[0m\n",
       "\u001b[2;36m                    \u001b[0m         less than \u001b[1;36m8\u001b[0m observations; \u001b[1;36m2\u001b[0m samples were given.                        \u001b[2m               \u001b[0m\n",
       "\u001b[2;36m                    \u001b[0m           \u001b[1;35mwarn\u001b[0m\u001b[1m(\u001b[0m\u001b[32m\"omni_normtest is not valid with less than 8 observations; %i \"\u001b[0m \u001b[2m               \u001b[0m\n",
       "\u001b[2;36m                    \u001b[0m                                                                                \u001b[2m               \u001b[0m\n"
      ]
     },
     "metadata": {},
     "output_type": "display_data"
    },
    {
     "data": {
      "text/html": [
       "<pre style=\"white-space:pre;overflow-x:auto;line-height:normal;font-family:Menlo,'DejaVu Sans Mono',consolas,'Courier New',monospace\"><span style=\"color: #7fbfbf; text-decoration-color: #7fbfbf\">                    </span><span style=\"color: #800000; text-decoration-color: #800000\">WARNING </span> <span style=\"color: #800080; text-decoration-color: #800080\">/home/maa/anaconda3/envs/phd/lib/python3.10/site-packages/statsmodels/</span> <a href=\"file:///home/maa/anaconda3/envs/phd/lib/python3.10/warnings.py\" target=\"_blank\"><span style=\"color: #7f7f7f; text-decoration-color: #7f7f7f\">warnings.py</span></a><span style=\"color: #7f7f7f; text-decoration-color: #7f7f7f\">:</span><a href=\"file:///home/maa/anaconda3/envs/phd/lib/python3.10/warnings.py#109\" target=\"_blank\"><span style=\"color: #7f7f7f; text-decoration-color: #7f7f7f\">109</span></a>\n",
       "<span style=\"color: #7fbfbf; text-decoration-color: #7fbfbf\">                    </span>         <span style=\"color: #800080; text-decoration-color: #800080\">regression/</span><span style=\"color: #ff00ff; text-decoration-color: #ff00ff\">linear_model.py</span>:<span style=\"color: #008080; text-decoration-color: #008080; font-weight: bold\">1687</span>: RuntimeWarning: divide by zero        <span style=\"color: #7f7f7f; text-decoration-color: #7f7f7f\">               </span>\n",
       "<span style=\"color: #7fbfbf; text-decoration-color: #7fbfbf\">                    </span>         encountered in scalar divide                                           <span style=\"color: #7f7f7f; text-decoration-color: #7f7f7f\">               </span>\n",
       "<span style=\"color: #7fbfbf; text-decoration-color: #7fbfbf\">                    </span>           return <span style=\"color: #800080; text-decoration-color: #800080; font-weight: bold\">np.dot</span><span style=\"font-weight: bold\">(</span>wresid, wresid<span style=\"font-weight: bold\">)</span> <span style=\"color: #800080; text-decoration-color: #800080\">/</span> self.df_resid                        <span style=\"color: #7f7f7f; text-decoration-color: #7f7f7f\">               </span>\n",
       "<span style=\"color: #7fbfbf; text-decoration-color: #7fbfbf\">                    </span>                                                                                <span style=\"color: #7f7f7f; text-decoration-color: #7f7f7f\">               </span>\n",
       "</pre>\n"
      ],
      "text/plain": [
       "\u001b[2;36m                   \u001b[0m\u001b[2;36m \u001b[0m\u001b[31mWARNING \u001b[0m \u001b[35m/home/maa/anaconda3/envs/phd/lib/python3.10/site-packages/statsmodels/\u001b[0m \u001b]8;id=117903;file:///home/maa/anaconda3/envs/phd/lib/python3.10/warnings.py\u001b\\\u001b[2mwarnings.py\u001b[0m\u001b]8;;\u001b\\\u001b[2m:\u001b[0m\u001b]8;id=770146;file:///home/maa/anaconda3/envs/phd/lib/python3.10/warnings.py#109\u001b\\\u001b[2m109\u001b[0m\u001b]8;;\u001b\\\n",
       "\u001b[2;36m                    \u001b[0m         \u001b[35mregression/\u001b[0m\u001b[95mlinear_model.py\u001b[0m:\u001b[1;36m1687\u001b[0m: RuntimeWarning: divide by zero        \u001b[2m               \u001b[0m\n",
       "\u001b[2;36m                    \u001b[0m         encountered in scalar divide                                           \u001b[2m               \u001b[0m\n",
       "\u001b[2;36m                    \u001b[0m           return \u001b[1;35mnp.dot\u001b[0m\u001b[1m(\u001b[0mwresid, wresid\u001b[1m)\u001b[0m \u001b[35m/\u001b[0m self.df_resid                        \u001b[2m               \u001b[0m\n",
       "\u001b[2;36m                    \u001b[0m                                                                                \u001b[2m               \u001b[0m\n"
      ]
     },
     "metadata": {},
     "output_type": "display_data"
    },
    {
     "data": {
      "text/html": [
       "<pre style=\"white-space:pre;overflow-x:auto;line-height:normal;font-family:Menlo,'DejaVu Sans Mono',consolas,'Courier New',monospace\"><span style=\"color: #7fbfbf; text-decoration-color: #7fbfbf\">                    </span><span style=\"color: #800000; text-decoration-color: #800000\">WARNING </span> <span style=\"color: #800080; text-decoration-color: #800080\">/home/maa/anaconda3/envs/phd/lib/python3.10/site-packages/statsmodels/</span> <a href=\"file:///home/maa/anaconda3/envs/phd/lib/python3.10/warnings.py\" target=\"_blank\"><span style=\"color: #7f7f7f; text-decoration-color: #7f7f7f\">warnings.py</span></a><span style=\"color: #7f7f7f; text-decoration-color: #7f7f7f\">:</span><a href=\"file:///home/maa/anaconda3/envs/phd/lib/python3.10/warnings.py#109\" target=\"_blank\"><span style=\"color: #7f7f7f; text-decoration-color: #7f7f7f\">109</span></a>\n",
       "<span style=\"color: #7fbfbf; text-decoration-color: #7fbfbf\">                    </span>         <span style=\"color: #800080; text-decoration-color: #800080\">regression/</span><span style=\"color: #ff00ff; text-decoration-color: #ff00ff\">linear_model.py</span>:<span style=\"color: #008080; text-decoration-color: #008080; font-weight: bold\">1765</span>: RuntimeWarning: divide by zero        <span style=\"color: #7f7f7f; text-decoration-color: #7f7f7f\">               </span>\n",
       "<span style=\"color: #7fbfbf; text-decoration-color: #7fbfbf\">                    </span>         encountered in divide                                                  <span style=\"color: #7f7f7f; text-decoration-color: #7f7f7f\">               </span>\n",
       "<span style=\"color: #7fbfbf; text-decoration-color: #7fbfbf\">                    </span>           return <span style=\"color: #008080; text-decoration-color: #008080; font-weight: bold\">1</span> - <span style=\"font-weight: bold\">(</span><span style=\"color: #800080; text-decoration-color: #800080; font-weight: bold\">np.divide</span><span style=\"font-weight: bold\">(</span>self.nobs - self.k_constant, self.df_resid<span style=\"font-weight: bold\">)</span>    <span style=\"color: #7f7f7f; text-decoration-color: #7f7f7f\">               </span>\n",
       "<span style=\"color: #7fbfbf; text-decoration-color: #7fbfbf\">                    </span>                                                                                <span style=\"color: #7f7f7f; text-decoration-color: #7f7f7f\">               </span>\n",
       "</pre>\n"
      ],
      "text/plain": [
       "\u001b[2;36m                   \u001b[0m\u001b[2;36m \u001b[0m\u001b[31mWARNING \u001b[0m \u001b[35m/home/maa/anaconda3/envs/phd/lib/python3.10/site-packages/statsmodels/\u001b[0m \u001b]8;id=804360;file:///home/maa/anaconda3/envs/phd/lib/python3.10/warnings.py\u001b\\\u001b[2mwarnings.py\u001b[0m\u001b]8;;\u001b\\\u001b[2m:\u001b[0m\u001b]8;id=279976;file:///home/maa/anaconda3/envs/phd/lib/python3.10/warnings.py#109\u001b\\\u001b[2m109\u001b[0m\u001b]8;;\u001b\\\n",
       "\u001b[2;36m                    \u001b[0m         \u001b[35mregression/\u001b[0m\u001b[95mlinear_model.py\u001b[0m:\u001b[1;36m1765\u001b[0m: RuntimeWarning: divide by zero        \u001b[2m               \u001b[0m\n",
       "\u001b[2;36m                    \u001b[0m         encountered in divide                                                  \u001b[2m               \u001b[0m\n",
       "\u001b[2;36m                    \u001b[0m           return \u001b[1;36m1\u001b[0m - \u001b[1m(\u001b[0m\u001b[1;35mnp.divide\u001b[0m\u001b[1m(\u001b[0mself.nobs - self.k_constant, self.df_resid\u001b[1m)\u001b[0m    \u001b[2m               \u001b[0m\n",
       "\u001b[2;36m                    \u001b[0m                                                                                \u001b[2m               \u001b[0m\n"
      ]
     },
     "metadata": {},
     "output_type": "display_data"
    },
    {
     "data": {
      "text/html": [
       "<pre style=\"white-space:pre;overflow-x:auto;line-height:normal;font-family:Menlo,'DejaVu Sans Mono',consolas,'Courier New',monospace\"><span style=\"color: #7fbfbf; text-decoration-color: #7fbfbf\">                    </span><span style=\"color: #800000; text-decoration-color: #800000\">WARNING </span> <span style=\"color: #800080; text-decoration-color: #800080\">/home/maa/anaconda3/envs/phd/lib/python3.10/site-packages/statsmodels/</span> <a href=\"file:///home/maa/anaconda3/envs/phd/lib/python3.10/warnings.py\" target=\"_blank\"><span style=\"color: #7f7f7f; text-decoration-color: #7f7f7f\">warnings.py</span></a><span style=\"color: #7f7f7f; text-decoration-color: #7f7f7f\">:</span><a href=\"file:///home/maa/anaconda3/envs/phd/lib/python3.10/warnings.py#109\" target=\"_blank\"><span style=\"color: #7f7f7f; text-decoration-color: #7f7f7f\">109</span></a>\n",
       "<span style=\"color: #7fbfbf; text-decoration-color: #7fbfbf\">                    </span>         <span style=\"color: #800080; text-decoration-color: #800080\">regression/</span><span style=\"color: #ff00ff; text-decoration-color: #ff00ff\">linear_model.py</span>:<span style=\"color: #008080; text-decoration-color: #008080; font-weight: bold\">1765</span>: RuntimeWarning: invalid value         <span style=\"color: #7f7f7f; text-decoration-color: #7f7f7f\">               </span>\n",
       "<span style=\"color: #7fbfbf; text-decoration-color: #7fbfbf\">                    </span>         encountered in scalar multiply                                         <span style=\"color: #7f7f7f; text-decoration-color: #7f7f7f\">               </span>\n",
       "<span style=\"color: #7fbfbf; text-decoration-color: #7fbfbf\">                    </span>           return <span style=\"color: #008080; text-decoration-color: #008080; font-weight: bold\">1</span> - <span style=\"font-weight: bold\">(</span><span style=\"color: #800080; text-decoration-color: #800080; font-weight: bold\">np.divide</span><span style=\"font-weight: bold\">(</span>self.nobs - self.k_constant, self.df_resid<span style=\"font-weight: bold\">)</span>    <span style=\"color: #7f7f7f; text-decoration-color: #7f7f7f\">               </span>\n",
       "<span style=\"color: #7fbfbf; text-decoration-color: #7fbfbf\">                    </span>                                                                                <span style=\"color: #7f7f7f; text-decoration-color: #7f7f7f\">               </span>\n",
       "</pre>\n"
      ],
      "text/plain": [
       "\u001b[2;36m                   \u001b[0m\u001b[2;36m \u001b[0m\u001b[31mWARNING \u001b[0m \u001b[35m/home/maa/anaconda3/envs/phd/lib/python3.10/site-packages/statsmodels/\u001b[0m \u001b]8;id=228584;file:///home/maa/anaconda3/envs/phd/lib/python3.10/warnings.py\u001b\\\u001b[2mwarnings.py\u001b[0m\u001b]8;;\u001b\\\u001b[2m:\u001b[0m\u001b]8;id=7555;file:///home/maa/anaconda3/envs/phd/lib/python3.10/warnings.py#109\u001b\\\u001b[2m109\u001b[0m\u001b]8;;\u001b\\\n",
       "\u001b[2;36m                    \u001b[0m         \u001b[35mregression/\u001b[0m\u001b[95mlinear_model.py\u001b[0m:\u001b[1;36m1765\u001b[0m: RuntimeWarning: invalid value         \u001b[2m               \u001b[0m\n",
       "\u001b[2;36m                    \u001b[0m         encountered in scalar multiply                                         \u001b[2m               \u001b[0m\n",
       "\u001b[2;36m                    \u001b[0m           return \u001b[1;36m1\u001b[0m - \u001b[1m(\u001b[0m\u001b[1;35mnp.divide\u001b[0m\u001b[1m(\u001b[0mself.nobs - self.k_constant, self.df_resid\u001b[1m)\u001b[0m    \u001b[2m               \u001b[0m\n",
       "\u001b[2;36m                    \u001b[0m                                                                                \u001b[2m               \u001b[0m\n"
      ]
     },
     "metadata": {},
     "output_type": "display_data"
    },
    {
     "data": {
      "text/html": [
       "<pre style=\"white-space:pre;overflow-x:auto;line-height:normal;font-family:Menlo,'DejaVu Sans Mono',consolas,'Courier New',monospace\"><span style=\"color: #7fbfbf; text-decoration-color: #7fbfbf\">                    </span><span style=\"color: #000080; text-decoration-color: #000080\">INFO    </span>                  Results: Ordinary least squares                          <a href=\"file:///home/maa/dev/PHD/src/phd/pipelines/regression_VCT/nodes.py\" target=\"_blank\"><span style=\"color: #7f7f7f; text-decoration-color: #7f7f7f\">nodes.py</span></a><span style=\"color: #7f7f7f; text-decoration-color: #7f7f7f\">:</span><a href=\"file:///home/maa/dev/PHD/src/phd/pipelines/regression_VCT/nodes.py#551\" target=\"_blank\"><span style=\"color: #7f7f7f; text-decoration-color: #7f7f7f\">551</span></a>\n",
       "<span style=\"color: #7fbfbf; text-decoration-color: #7fbfbf\">                    </span>         ==================================================================        <span style=\"color: #7f7f7f; text-decoration-color: #7f7f7f\">            </span>\n",
       "<span style=\"color: #7fbfbf; text-decoration-color: #7fbfbf\">                    </span>         Model:              OLS              Adj. R-squared:     nan              <span style=\"color: #7f7f7f; text-decoration-color: #7f7f7f\">            </span>\n",
       "<span style=\"color: #7fbfbf; text-decoration-color: #7fbfbf\">                    </span>         Dependent Variable: X_H              AIC:                <span style=\"color: #008080; text-decoration-color: #008080; font-weight: bold\">-163.1648</span>        <span style=\"color: #7f7f7f; text-decoration-color: #7f7f7f\">            </span>\n",
       "<span style=\"color: #7fbfbf; text-decoration-color: #7fbfbf\">                    </span>         Date:               <span style=\"color: #008080; text-decoration-color: #008080; font-weight: bold\">2024</span>-<span style=\"color: #008080; text-decoration-color: #008080; font-weight: bold\">01</span>-<span style=\"color: #008080; text-decoration-color: #008080; font-weight: bold\">10</span> <span style=\"color: #00ff00; text-decoration-color: #00ff00; font-weight: bold\">14:16</span> BIC:                <span style=\"color: #008080; text-decoration-color: #008080; font-weight: bold\">-165.7785</span>        <span style=\"color: #7f7f7f; text-decoration-color: #7f7f7f\">            </span>\n",
       "<span style=\"color: #7fbfbf; text-decoration-color: #7fbfbf\">                    </span>         No. Observations:   <span style=\"color: #008080; text-decoration-color: #008080; font-weight: bold\">2</span>                Log-Likelihood:     <span style=\"color: #008080; text-decoration-color: #008080; font-weight: bold\">83.582</span>           <span style=\"color: #7f7f7f; text-decoration-color: #7f7f7f\">            </span>\n",
       "<span style=\"color: #7fbfbf; text-decoration-color: #7fbfbf\">                    </span>         Df Model:           <span style=\"color: #008080; text-decoration-color: #008080; font-weight: bold\">1</span>                F-statistic:        nan              <span style=\"color: #7f7f7f; text-decoration-color: #7f7f7f\">            </span>\n",
       "<span style=\"color: #7fbfbf; text-decoration-color: #7fbfbf\">                    </span>         Df Residuals:       <span style=\"color: #008080; text-decoration-color: #008080; font-weight: bold\">0</span>                Prob <span style=\"font-weight: bold\">(</span>F-statistic<span style=\"font-weight: bold\">)</span>: nan              <span style=\"color: #7f7f7f; text-decoration-color: #7f7f7f\">            </span>\n",
       "<span style=\"color: #7fbfbf; text-decoration-color: #7fbfbf\">                    </span>         R-squared:          <span style=\"color: #008080; text-decoration-color: #008080; font-weight: bold\">1.000</span>            Scale:              inf              <span style=\"color: #7f7f7f; text-decoration-color: #7f7f7f\">            </span>\n",
       "<span style=\"color: #7fbfbf; text-decoration-color: #7fbfbf\">                    </span>         ---------------------------------------------------------------------     <span style=\"color: #7f7f7f; text-decoration-color: #7f7f7f\">            </span>\n",
       "<span style=\"color: #7fbfbf; text-decoration-color: #7fbfbf\">                    </span>                    Coef.     Std.Err.       t       P&gt;|t|    <span style=\"font-weight: bold\">[</span><span style=\"color: #008080; text-decoration-color: #008080; font-weight: bold\">0.025</span>    <span style=\"color: #008080; text-decoration-color: #008080; font-weight: bold\">0.975</span><span style=\"font-weight: bold\">]</span>     <span style=\"color: #7f7f7f; text-decoration-color: #7f7f7f\">            </span>\n",
       "<span style=\"color: #7fbfbf; text-decoration-color: #7fbfbf\">                    </span>         ---------------------------------------------------------------------     <span style=\"color: #7f7f7f; text-decoration-color: #7f7f7f\">            </span>\n",
       "<span style=\"color: #7fbfbf; text-decoration-color: #7fbfbf\">                    </span>         X0        <span style=\"color: #008080; text-decoration-color: #008080; font-weight: bold\">-0.0006</span>         inf    <span style=\"color: #008080; text-decoration-color: #008080; font-weight: bold\">-0.0000</span>      nan       nan       nan     <span style=\"color: #7f7f7f; text-decoration-color: #7f7f7f\">            </span>\n",
       "<span style=\"color: #7fbfbf; text-decoration-color: #7fbfbf\">                    </span>         Xu         <span style=\"color: #008080; text-decoration-color: #008080; font-weight: bold\">0.0001</span>         inf     <span style=\"color: #008080; text-decoration-color: #008080; font-weight: bold\">0.0000</span>      nan       nan       nan     <span style=\"color: #7f7f7f; text-decoration-color: #7f7f7f\">            </span>\n",
       "<span style=\"color: #7fbfbf; text-decoration-color: #7fbfbf\">                    </span>         ------------------------------------------------------------------        <span style=\"color: #7f7f7f; text-decoration-color: #7f7f7f\">            </span>\n",
       "<span style=\"color: #7fbfbf; text-decoration-color: #7fbfbf\">                    </span>         Omnibus:               nan          Durbin-Watson:           <span style=\"color: #008080; text-decoration-color: #008080; font-weight: bold\">0.200</span>        <span style=\"color: #7f7f7f; text-decoration-color: #7f7f7f\">            </span>\n",
       "<span style=\"color: #7fbfbf; text-decoration-color: #7fbfbf\">                    </span>         <span style=\"color: #800080; text-decoration-color: #800080; font-weight: bold\">Prob</span><span style=\"font-weight: bold\">(</span>Omnibus<span style=\"font-weight: bold\">)</span>:         nan          Jarque-Bera <span style=\"font-weight: bold\">(</span>JB<span style=\"font-weight: bold\">)</span>:        <span style=\"color: #008080; text-decoration-color: #008080; font-weight: bold\">0.333</span>        <span style=\"color: #7f7f7f; text-decoration-color: #7f7f7f\">            </span>\n",
       "<span style=\"color: #7fbfbf; text-decoration-color: #7fbfbf\">                    </span>         Skew:                  <span style=\"color: #008080; text-decoration-color: #008080; font-weight: bold\">0.000</span>        <span style=\"color: #800080; text-decoration-color: #800080; font-weight: bold\">Prob</span><span style=\"font-weight: bold\">(</span>JB<span style=\"font-weight: bold\">)</span>:                <span style=\"color: #008080; text-decoration-color: #008080; font-weight: bold\">0.846</span>        <span style=\"color: #7f7f7f; text-decoration-color: #7f7f7f\">            </span>\n",
       "<span style=\"color: #7fbfbf; text-decoration-color: #7fbfbf\">                    </span>         Kurtosis:              <span style=\"color: #008080; text-decoration-color: #008080; font-weight: bold\">1.000</span>        Condition No.:           <span style=\"color: #008080; text-decoration-color: #008080; font-weight: bold\">3</span>            <span style=\"color: #7f7f7f; text-decoration-color: #7f7f7f\">            </span>\n",
       "<span style=\"color: #7fbfbf; text-decoration-color: #7fbfbf\">                    </span>         ==================================================================        <span style=\"color: #7f7f7f; text-decoration-color: #7f7f7f\">            </span>\n",
       "<span style=\"color: #7fbfbf; text-decoration-color: #7fbfbf\">                    </span>                                                                                   <span style=\"color: #7f7f7f; text-decoration-color: #7f7f7f\">            </span>\n",
       "</pre>\n"
      ],
      "text/plain": [
       "\u001b[2;36m                   \u001b[0m\u001b[2;36m \u001b[0m\u001b[34mINFO    \u001b[0m                  Results: Ordinary least squares                          \u001b]8;id=262451;file:///home/maa/dev/PHD/src/phd/pipelines/regression_VCT/nodes.py\u001b\\\u001b[2mnodes.py\u001b[0m\u001b]8;;\u001b\\\u001b[2m:\u001b[0m\u001b]8;id=146690;file:///home/maa/dev/PHD/src/phd/pipelines/regression_VCT/nodes.py#551\u001b\\\u001b[2m551\u001b[0m\u001b]8;;\u001b\\\n",
       "\u001b[2;36m                    \u001b[0m         ==================================================================        \u001b[2m            \u001b[0m\n",
       "\u001b[2;36m                    \u001b[0m         Model:              OLS              Adj. R-squared:     nan              \u001b[2m            \u001b[0m\n",
       "\u001b[2;36m                    \u001b[0m         Dependent Variable: X_H              AIC:                \u001b[1;36m-163.1648\u001b[0m        \u001b[2m            \u001b[0m\n",
       "\u001b[2;36m                    \u001b[0m         Date:               \u001b[1;36m2024\u001b[0m-\u001b[1;36m01\u001b[0m-\u001b[1;36m10\u001b[0m \u001b[1;92m14:16\u001b[0m BIC:                \u001b[1;36m-165.7785\u001b[0m        \u001b[2m            \u001b[0m\n",
       "\u001b[2;36m                    \u001b[0m         No. Observations:   \u001b[1;36m2\u001b[0m                Log-Likelihood:     \u001b[1;36m83.582\u001b[0m           \u001b[2m            \u001b[0m\n",
       "\u001b[2;36m                    \u001b[0m         Df Model:           \u001b[1;36m1\u001b[0m                F-statistic:        nan              \u001b[2m            \u001b[0m\n",
       "\u001b[2;36m                    \u001b[0m         Df Residuals:       \u001b[1;36m0\u001b[0m                Prob \u001b[1m(\u001b[0mF-statistic\u001b[1m)\u001b[0m: nan              \u001b[2m            \u001b[0m\n",
       "\u001b[2;36m                    \u001b[0m         R-squared:          \u001b[1;36m1.000\u001b[0m            Scale:              inf              \u001b[2m            \u001b[0m\n",
       "\u001b[2;36m                    \u001b[0m         ---------------------------------------------------------------------     \u001b[2m            \u001b[0m\n",
       "\u001b[2;36m                    \u001b[0m                    Coef.     Std.Err.       t       P>|t|    \u001b[1m[\u001b[0m\u001b[1;36m0.025\u001b[0m    \u001b[1;36m0.975\u001b[0m\u001b[1m]\u001b[0m     \u001b[2m            \u001b[0m\n",
       "\u001b[2;36m                    \u001b[0m         ---------------------------------------------------------------------     \u001b[2m            \u001b[0m\n",
       "\u001b[2;36m                    \u001b[0m         X0        \u001b[1;36m-0.0006\u001b[0m         inf    \u001b[1;36m-0.0000\u001b[0m      nan       nan       nan     \u001b[2m            \u001b[0m\n",
       "\u001b[2;36m                    \u001b[0m         Xu         \u001b[1;36m0.0001\u001b[0m         inf     \u001b[1;36m0.0000\u001b[0m      nan       nan       nan     \u001b[2m            \u001b[0m\n",
       "\u001b[2;36m                    \u001b[0m         ------------------------------------------------------------------        \u001b[2m            \u001b[0m\n",
       "\u001b[2;36m                    \u001b[0m         Omnibus:               nan          Durbin-Watson:           \u001b[1;36m0.200\u001b[0m        \u001b[2m            \u001b[0m\n",
       "\u001b[2;36m                    \u001b[0m         \u001b[1;35mProb\u001b[0m\u001b[1m(\u001b[0mOmnibus\u001b[1m)\u001b[0m:         nan          Jarque-Bera \u001b[1m(\u001b[0mJB\u001b[1m)\u001b[0m:        \u001b[1;36m0.333\u001b[0m        \u001b[2m            \u001b[0m\n",
       "\u001b[2;36m                    \u001b[0m         Skew:                  \u001b[1;36m0.000\u001b[0m        \u001b[1;35mProb\u001b[0m\u001b[1m(\u001b[0mJB\u001b[1m)\u001b[0m:                \u001b[1;36m0.846\u001b[0m        \u001b[2m            \u001b[0m\n",
       "\u001b[2;36m                    \u001b[0m         Kurtosis:              \u001b[1;36m1.000\u001b[0m        Condition No.:           \u001b[1;36m3\u001b[0m            \u001b[2m            \u001b[0m\n",
       "\u001b[2;36m                    \u001b[0m         ==================================================================        \u001b[2m            \u001b[0m\n",
       "\u001b[2;36m                    \u001b[0m                                                                                   \u001b[2m            \u001b[0m\n"
      ]
     },
     "metadata": {},
     "output_type": "display_data"
    },
    {
     "data": {
      "text/html": [
       "<pre style=\"white-space:pre;overflow-x:auto;line-height:normal;font-family:Menlo,'DejaVu Sans Mono',consolas,'Courier New',monospace\"><span style=\"color: #7fbfbf; text-decoration-color: #7fbfbf\">                    </span><span style=\"color: #000080; text-decoration-color: #000080\">INFO    </span> Regression:Drift angle fx                                                 <a href=\"file:///home/maa/dev/PHD/src/phd/pipelines/regression_VCT/nodes.py\" target=\"_blank\"><span style=\"color: #7f7f7f; text-decoration-color: #7f7f7f\">nodes.py</span></a><span style=\"color: #7f7f7f; text-decoration-color: #7f7f7f\">:</span><a href=\"file:///home/maa/dev/PHD/src/phd/pipelines/regression_VCT/nodes.py#549\" target=\"_blank\"><span style=\"color: #7f7f7f; text-decoration-color: #7f7f7f\">549</span></a>\n",
       "</pre>\n"
      ],
      "text/plain": [
       "\u001b[2;36m                   \u001b[0m\u001b[2;36m \u001b[0m\u001b[34mINFO    \u001b[0m Regression:Drift angle fx                                                 \u001b]8;id=42078;file:///home/maa/dev/PHD/src/phd/pipelines/regression_VCT/nodes.py\u001b\\\u001b[2mnodes.py\u001b[0m\u001b]8;;\u001b\\\u001b[2m:\u001b[0m\u001b]8;id=825462;file:///home/maa/dev/PHD/src/phd/pipelines/regression_VCT/nodes.py#549\u001b\\\u001b[2m549\u001b[0m\u001b]8;;\u001b\\\n"
      ]
     },
     "metadata": {},
     "output_type": "display_data"
    },
    {
     "data": {
      "text/html": [
       "<pre style=\"white-space:pre;overflow-x:auto;line-height:normal;font-family:Menlo,'DejaVu Sans Mono',consolas,'Courier New',monospace\"><span style=\"color: #7fbfbf; text-decoration-color: #7fbfbf\">                    </span><span style=\"color: #800000; text-decoration-color: #800000\">WARNING </span> <span style=\"color: #800080; text-decoration-color: #800080\">/home/maa/anaconda3/envs/phd/lib/python3.10/site-packages/statsmodels/</span> <a href=\"file:///home/maa/anaconda3/envs/phd/lib/python3.10/warnings.py\" target=\"_blank\"><span style=\"color: #7f7f7f; text-decoration-color: #7f7f7f\">warnings.py</span></a><span style=\"color: #7f7f7f; text-decoration-color: #7f7f7f\">:</span><a href=\"file:///home/maa/anaconda3/envs/phd/lib/python3.10/warnings.py#109\" target=\"_blank\"><span style=\"color: #7f7f7f; text-decoration-color: #7f7f7f\">109</span></a>\n",
       "<span style=\"color: #7fbfbf; text-decoration-color: #7fbfbf\">                    </span>         <span style=\"color: #800080; text-decoration-color: #800080\">stats/</span><span style=\"color: #ff00ff; text-decoration-color: #ff00ff\">stattools.py</span>:<span style=\"color: #008080; text-decoration-color: #008080; font-weight: bold\">74</span>: ValueWarning: omni_normtest is not valid with   <span style=\"color: #7f7f7f; text-decoration-color: #7f7f7f\">               </span>\n",
       "<span style=\"color: #7fbfbf; text-decoration-color: #7fbfbf\">                    </span>         less than <span style=\"color: #008080; text-decoration-color: #008080; font-weight: bold\">8</span> observations; <span style=\"color: #008080; text-decoration-color: #008080; font-weight: bold\">5</span> samples were given.                        <span style=\"color: #7f7f7f; text-decoration-color: #7f7f7f\">               </span>\n",
       "<span style=\"color: #7fbfbf; text-decoration-color: #7fbfbf\">                    </span>           <span style=\"color: #800080; text-decoration-color: #800080; font-weight: bold\">warn</span><span style=\"font-weight: bold\">(</span><span style=\"color: #008000; text-decoration-color: #008000\">\"omni_normtest is not valid with less than 8 observations; %i \"</span> <span style=\"color: #7f7f7f; text-decoration-color: #7f7f7f\">               </span>\n",
       "<span style=\"color: #7fbfbf; text-decoration-color: #7fbfbf\">                    </span>                                                                                <span style=\"color: #7f7f7f; text-decoration-color: #7f7f7f\">               </span>\n",
       "</pre>\n"
      ],
      "text/plain": [
       "\u001b[2;36m                   \u001b[0m\u001b[2;36m \u001b[0m\u001b[31mWARNING \u001b[0m \u001b[35m/home/maa/anaconda3/envs/phd/lib/python3.10/site-packages/statsmodels/\u001b[0m \u001b]8;id=215590;file:///home/maa/anaconda3/envs/phd/lib/python3.10/warnings.py\u001b\\\u001b[2mwarnings.py\u001b[0m\u001b]8;;\u001b\\\u001b[2m:\u001b[0m\u001b]8;id=139795;file:///home/maa/anaconda3/envs/phd/lib/python3.10/warnings.py#109\u001b\\\u001b[2m109\u001b[0m\u001b]8;;\u001b\\\n",
       "\u001b[2;36m                    \u001b[0m         \u001b[35mstats/\u001b[0m\u001b[95mstattools.py\u001b[0m:\u001b[1;36m74\u001b[0m: ValueWarning: omni_normtest is not valid with   \u001b[2m               \u001b[0m\n",
       "\u001b[2;36m                    \u001b[0m         less than \u001b[1;36m8\u001b[0m observations; \u001b[1;36m5\u001b[0m samples were given.                        \u001b[2m               \u001b[0m\n",
       "\u001b[2;36m                    \u001b[0m           \u001b[1;35mwarn\u001b[0m\u001b[1m(\u001b[0m\u001b[32m\"omni_normtest is not valid with less than 8 observations; %i \"\u001b[0m \u001b[2m               \u001b[0m\n",
       "\u001b[2;36m                    \u001b[0m                                                                                \u001b[2m               \u001b[0m\n"
      ]
     },
     "metadata": {},
     "output_type": "display_data"
    },
    {
     "data": {
      "text/html": [
       "<pre style=\"white-space:pre;overflow-x:auto;line-height:normal;font-family:Menlo,'DejaVu Sans Mono',consolas,'Courier New',monospace\"><span style=\"color: #7fbfbf; text-decoration-color: #7fbfbf\">                    </span><span style=\"color: #000080; text-decoration-color: #000080\">INFO    </span>                   Results: Ordinary least squares                         <a href=\"file:///home/maa/dev/PHD/src/phd/pipelines/regression_VCT/nodes.py\" target=\"_blank\"><span style=\"color: #7f7f7f; text-decoration-color: #7f7f7f\">nodes.py</span></a><span style=\"color: #7f7f7f; text-decoration-color: #7f7f7f\">:</span><a href=\"file:///home/maa/dev/PHD/src/phd/pipelines/regression_VCT/nodes.py#551\" target=\"_blank\"><span style=\"color: #7f7f7f; text-decoration-color: #7f7f7f\">551</span></a>\n",
       "<span style=\"color: #7fbfbf; text-decoration-color: #7fbfbf\">                    </span>         ===================================================================       <span style=\"color: #7f7f7f; text-decoration-color: #7f7f7f\">            </span>\n",
       "<span style=\"color: #7fbfbf; text-decoration-color: #7fbfbf\">                    </span>         Model:              OLS              Adj. R-squared:     <span style=\"color: #008080; text-decoration-color: #008080; font-weight: bold\">-0.107</span>           <span style=\"color: #7f7f7f; text-decoration-color: #7f7f7f\">            </span>\n",
       "<span style=\"color: #7fbfbf; text-decoration-color: #7fbfbf\">                    </span>         Dependent Variable: X_H              AIC:                <span style=\"color: #008080; text-decoration-color: #008080; font-weight: bold\">-87.9027</span>         <span style=\"color: #7f7f7f; text-decoration-color: #7f7f7f\">            </span>\n",
       "<span style=\"color: #7fbfbf; text-decoration-color: #7fbfbf\">                    </span>         Date:               <span style=\"color: #008080; text-decoration-color: #008080; font-weight: bold\">2024</span>-<span style=\"color: #008080; text-decoration-color: #008080; font-weight: bold\">01</span>-<span style=\"color: #008080; text-decoration-color: #008080; font-weight: bold\">10</span> <span style=\"color: #00ff00; text-decoration-color: #00ff00; font-weight: bold\">14:16</span> BIC:                <span style=\"color: #008080; text-decoration-color: #008080; font-weight: bold\">-88.6838</span>         <span style=\"color: #7f7f7f; text-decoration-color: #7f7f7f\">            </span>\n",
       "<span style=\"color: #7fbfbf; text-decoration-color: #7fbfbf\">                    </span>         No. Observations:   <span style=\"color: #008080; text-decoration-color: #008080; font-weight: bold\">5</span>                Log-Likelihood:     <span style=\"color: #008080; text-decoration-color: #008080; font-weight: bold\">45.951</span>           <span style=\"color: #7f7f7f; text-decoration-color: #7f7f7f\">            </span>\n",
       "<span style=\"color: #7fbfbf; text-decoration-color: #7fbfbf\">                    </span>         Df Model:           <span style=\"color: #008080; text-decoration-color: #008080; font-weight: bold\">1</span>                F-statistic:        <span style=\"color: #008080; text-decoration-color: #008080; font-weight: bold\">0.6128</span>           <span style=\"color: #7f7f7f; text-decoration-color: #7f7f7f\">            </span>\n",
       "<span style=\"color: #7fbfbf; text-decoration-color: #7fbfbf\">                    </span>         Df Residuals:       <span style=\"color: #008080; text-decoration-color: #008080; font-weight: bold\">3</span>                Prob <span style=\"font-weight: bold\">(</span>F-statistic<span style=\"font-weight: bold\">)</span>: <span style=\"color: #008080; text-decoration-color: #008080; font-weight: bold\">0.491</span>            <span style=\"color: #7f7f7f; text-decoration-color: #7f7f7f\">            </span>\n",
       "<span style=\"color: #7fbfbf; text-decoration-color: #7fbfbf\">                    </span>         R-squared:          <span style=\"color: #008080; text-decoration-color: #008080; font-weight: bold\">0.170</span>            Scale:              <span style=\"color: #008080; text-decoration-color: #008080; font-weight: bold\">1.0158e-09</span>       <span style=\"color: #7f7f7f; text-decoration-color: #7f7f7f\">            </span>\n",
       "<span style=\"color: #7fbfbf; text-decoration-color: #7fbfbf\">                    </span>         ----------------------------------------------------------------------    <span style=\"color: #7f7f7f; text-decoration-color: #7f7f7f\">            </span>\n",
       "<span style=\"color: #7fbfbf; text-decoration-color: #7fbfbf\">                    </span>                   Coef.     Std.Err.       t       P&gt;|t|      <span style=\"font-weight: bold\">[</span><span style=\"color: #008080; text-decoration-color: #008080; font-weight: bold\">0.025</span>    <span style=\"color: #008080; text-decoration-color: #008080; font-weight: bold\">0.975</span><span style=\"font-weight: bold\">]</span>    <span style=\"color: #7f7f7f; text-decoration-color: #7f7f7f\">            </span>\n",
       "<span style=\"color: #7fbfbf; text-decoration-color: #7fbfbf\">                    </span>         ----------------------------------------------------------------------    <span style=\"color: #7f7f7f; text-decoration-color: #7f7f7f\">            </span>\n",
       "<span style=\"color: #7fbfbf; text-decoration-color: #7fbfbf\">                    </span>         Xvv       <span style=\"color: #008080; text-decoration-color: #008080; font-weight: bold\">0.0003</span>      <span style=\"color: #008080; text-decoration-color: #008080; font-weight: bold\">0.0003</span>     <span style=\"color: #008080; text-decoration-color: #008080; font-weight: bold\">0.7828</span>    <span style=\"color: #008080; text-decoration-color: #008080; font-weight: bold\">0.4908</span>    <span style=\"color: #008080; text-decoration-color: #008080; font-weight: bold\">-0.0008</span>    <span style=\"color: #008080; text-decoration-color: #008080; font-weight: bold\">0.0013</span>    <span style=\"color: #7f7f7f; text-decoration-color: #7f7f7f\">            </span>\n",
       "<span style=\"color: #7fbfbf; text-decoration-color: #7fbfbf\">                    </span>         const    <span style=\"color: #008080; text-decoration-color: #008080; font-weight: bold\">-0.0000</span>      <span style=\"color: #008080; text-decoration-color: #008080; font-weight: bold\">0.0000</span>    <span style=\"color: #008080; text-decoration-color: #008080; font-weight: bold\">-1.1819</span>    <span style=\"color: #008080; text-decoration-color: #008080; font-weight: bold\">0.3224</span>    <span style=\"color: #008080; text-decoration-color: #008080; font-weight: bold\">-0.0001</span>    <span style=\"color: #008080; text-decoration-color: #008080; font-weight: bold\">0.0000</span>    <span style=\"color: #7f7f7f; text-decoration-color: #7f7f7f\">            </span>\n",
       "<span style=\"color: #7fbfbf; text-decoration-color: #7fbfbf\">                    </span>         -------------------------------------------------------------------       <span style=\"color: #7f7f7f; text-decoration-color: #7f7f7f\">            </span>\n",
       "<span style=\"color: #7fbfbf; text-decoration-color: #7fbfbf\">                    </span>         Omnibus:               nan           Durbin-Watson:           <span style=\"color: #008080; text-decoration-color: #008080; font-weight: bold\">1.748</span>       <span style=\"color: #7f7f7f; text-decoration-color: #7f7f7f\">            </span>\n",
       "<span style=\"color: #7fbfbf; text-decoration-color: #7fbfbf\">                    </span>         <span style=\"color: #800080; text-decoration-color: #800080; font-weight: bold\">Prob</span><span style=\"font-weight: bold\">(</span>Omnibus<span style=\"font-weight: bold\">)</span>:         nan           Jarque-Bera <span style=\"font-weight: bold\">(</span>JB<span style=\"font-weight: bold\">)</span>:        <span style=\"color: #008080; text-decoration-color: #008080; font-weight: bold\">0.529</span>       <span style=\"color: #7f7f7f; text-decoration-color: #7f7f7f\">            </span>\n",
       "<span style=\"color: #7fbfbf; text-decoration-color: #7fbfbf\">                    </span>         Skew:                  <span style=\"color: #008080; text-decoration-color: #008080; font-weight: bold\">-0.638</span>        <span style=\"color: #800080; text-decoration-color: #800080; font-weight: bold\">Prob</span><span style=\"font-weight: bold\">(</span>JB<span style=\"font-weight: bold\">)</span>:                <span style=\"color: #008080; text-decoration-color: #008080; font-weight: bold\">0.768</span>       <span style=\"color: #7f7f7f; text-decoration-color: #7f7f7f\">            </span>\n",
       "<span style=\"color: #7fbfbf; text-decoration-color: #7fbfbf\">                    </span>         Kurtosis:              <span style=\"color: #008080; text-decoration-color: #008080; font-weight: bold\">2.044</span>         Condition No.:           <span style=\"color: #008080; text-decoration-color: #008080; font-weight: bold\">23</span>          <span style=\"color: #7f7f7f; text-decoration-color: #7f7f7f\">            </span>\n",
       "<span style=\"color: #7fbfbf; text-decoration-color: #7fbfbf\">                    </span>         ===================================================================       <span style=\"color: #7f7f7f; text-decoration-color: #7f7f7f\">            </span>\n",
       "<span style=\"color: #7fbfbf; text-decoration-color: #7fbfbf\">                    </span>                                                                                   <span style=\"color: #7f7f7f; text-decoration-color: #7f7f7f\">            </span>\n",
       "</pre>\n"
      ],
      "text/plain": [
       "\u001b[2;36m                   \u001b[0m\u001b[2;36m \u001b[0m\u001b[34mINFO    \u001b[0m                   Results: Ordinary least squares                         \u001b]8;id=334707;file:///home/maa/dev/PHD/src/phd/pipelines/regression_VCT/nodes.py\u001b\\\u001b[2mnodes.py\u001b[0m\u001b]8;;\u001b\\\u001b[2m:\u001b[0m\u001b]8;id=43856;file:///home/maa/dev/PHD/src/phd/pipelines/regression_VCT/nodes.py#551\u001b\\\u001b[2m551\u001b[0m\u001b]8;;\u001b\\\n",
       "\u001b[2;36m                    \u001b[0m         ===================================================================       \u001b[2m            \u001b[0m\n",
       "\u001b[2;36m                    \u001b[0m         Model:              OLS              Adj. R-squared:     \u001b[1;36m-0.107\u001b[0m           \u001b[2m            \u001b[0m\n",
       "\u001b[2;36m                    \u001b[0m         Dependent Variable: X_H              AIC:                \u001b[1;36m-87.9027\u001b[0m         \u001b[2m            \u001b[0m\n",
       "\u001b[2;36m                    \u001b[0m         Date:               \u001b[1;36m2024\u001b[0m-\u001b[1;36m01\u001b[0m-\u001b[1;36m10\u001b[0m \u001b[1;92m14:16\u001b[0m BIC:                \u001b[1;36m-88.6838\u001b[0m         \u001b[2m            \u001b[0m\n",
       "\u001b[2;36m                    \u001b[0m         No. Observations:   \u001b[1;36m5\u001b[0m                Log-Likelihood:     \u001b[1;36m45.951\u001b[0m           \u001b[2m            \u001b[0m\n",
       "\u001b[2;36m                    \u001b[0m         Df Model:           \u001b[1;36m1\u001b[0m                F-statistic:        \u001b[1;36m0.6128\u001b[0m           \u001b[2m            \u001b[0m\n",
       "\u001b[2;36m                    \u001b[0m         Df Residuals:       \u001b[1;36m3\u001b[0m                Prob \u001b[1m(\u001b[0mF-statistic\u001b[1m)\u001b[0m: \u001b[1;36m0.491\u001b[0m            \u001b[2m            \u001b[0m\n",
       "\u001b[2;36m                    \u001b[0m         R-squared:          \u001b[1;36m0.170\u001b[0m            Scale:              \u001b[1;36m1.0158e-09\u001b[0m       \u001b[2m            \u001b[0m\n",
       "\u001b[2;36m                    \u001b[0m         ----------------------------------------------------------------------    \u001b[2m            \u001b[0m\n",
       "\u001b[2;36m                    \u001b[0m                   Coef.     Std.Err.       t       P>|t|      \u001b[1m[\u001b[0m\u001b[1;36m0.025\u001b[0m    \u001b[1;36m0.975\u001b[0m\u001b[1m]\u001b[0m    \u001b[2m            \u001b[0m\n",
       "\u001b[2;36m                    \u001b[0m         ----------------------------------------------------------------------    \u001b[2m            \u001b[0m\n",
       "\u001b[2;36m                    \u001b[0m         Xvv       \u001b[1;36m0.0003\u001b[0m      \u001b[1;36m0.0003\u001b[0m     \u001b[1;36m0.7828\u001b[0m    \u001b[1;36m0.4908\u001b[0m    \u001b[1;36m-0.0008\u001b[0m    \u001b[1;36m0.0013\u001b[0m    \u001b[2m            \u001b[0m\n",
       "\u001b[2;36m                    \u001b[0m         const    \u001b[1;36m-0.0000\u001b[0m      \u001b[1;36m0.0000\u001b[0m    \u001b[1;36m-1.1819\u001b[0m    \u001b[1;36m0.3224\u001b[0m    \u001b[1;36m-0.0001\u001b[0m    \u001b[1;36m0.0000\u001b[0m    \u001b[2m            \u001b[0m\n",
       "\u001b[2;36m                    \u001b[0m         -------------------------------------------------------------------       \u001b[2m            \u001b[0m\n",
       "\u001b[2;36m                    \u001b[0m         Omnibus:               nan           Durbin-Watson:           \u001b[1;36m1.748\u001b[0m       \u001b[2m            \u001b[0m\n",
       "\u001b[2;36m                    \u001b[0m         \u001b[1;35mProb\u001b[0m\u001b[1m(\u001b[0mOmnibus\u001b[1m)\u001b[0m:         nan           Jarque-Bera \u001b[1m(\u001b[0mJB\u001b[1m)\u001b[0m:        \u001b[1;36m0.529\u001b[0m       \u001b[2m            \u001b[0m\n",
       "\u001b[2;36m                    \u001b[0m         Skew:                  \u001b[1;36m-0.638\u001b[0m        \u001b[1;35mProb\u001b[0m\u001b[1m(\u001b[0mJB\u001b[1m)\u001b[0m:                \u001b[1;36m0.768\u001b[0m       \u001b[2m            \u001b[0m\n",
       "\u001b[2;36m                    \u001b[0m         Kurtosis:              \u001b[1;36m2.044\u001b[0m         Condition No.:           \u001b[1;36m23\u001b[0m          \u001b[2m            \u001b[0m\n",
       "\u001b[2;36m                    \u001b[0m         ===================================================================       \u001b[2m            \u001b[0m\n",
       "\u001b[2;36m                    \u001b[0m                                                                                   \u001b[2m            \u001b[0m\n"
      ]
     },
     "metadata": {},
     "output_type": "display_data"
    },
    {
     "data": {
      "text/html": [
       "<pre style=\"white-space:pre;overflow-x:auto;line-height:normal;font-family:Menlo,'DejaVu Sans Mono',consolas,'Courier New',monospace\"><span style=\"color: #7fbfbf; text-decoration-color: #7fbfbf\">                    </span><span style=\"color: #000080; text-decoration-color: #000080\">INFO    </span> Regression:Drift angle fy                                                 <a href=\"file:///home/maa/dev/PHD/src/phd/pipelines/regression_VCT/nodes.py\" target=\"_blank\"><span style=\"color: #7f7f7f; text-decoration-color: #7f7f7f\">nodes.py</span></a><span style=\"color: #7f7f7f; text-decoration-color: #7f7f7f\">:</span><a href=\"file:///home/maa/dev/PHD/src/phd/pipelines/regression_VCT/nodes.py#549\" target=\"_blank\"><span style=\"color: #7f7f7f; text-decoration-color: #7f7f7f\">549</span></a>\n",
       "</pre>\n"
      ],
      "text/plain": [
       "\u001b[2;36m                   \u001b[0m\u001b[2;36m \u001b[0m\u001b[34mINFO    \u001b[0m Regression:Drift angle fy                                                 \u001b]8;id=557511;file:///home/maa/dev/PHD/src/phd/pipelines/regression_VCT/nodes.py\u001b\\\u001b[2mnodes.py\u001b[0m\u001b]8;;\u001b\\\u001b[2m:\u001b[0m\u001b]8;id=253769;file:///home/maa/dev/PHD/src/phd/pipelines/regression_VCT/nodes.py#549\u001b\\\u001b[2m549\u001b[0m\u001b]8;;\u001b\\\n"
      ]
     },
     "metadata": {},
     "output_type": "display_data"
    },
    {
     "data": {
      "text/html": [
       "<pre style=\"white-space:pre;overflow-x:auto;line-height:normal;font-family:Menlo,'DejaVu Sans Mono',consolas,'Courier New',monospace\"><span style=\"color: #7fbfbf; text-decoration-color: #7fbfbf\">                    </span><span style=\"color: #800000; text-decoration-color: #800000\">WARNING </span> <span style=\"color: #800080; text-decoration-color: #800080\">/home/maa/anaconda3/envs/phd/lib/python3.10/site-packages/statsmodels/</span> <a href=\"file:///home/maa/anaconda3/envs/phd/lib/python3.10/warnings.py\" target=\"_blank\"><span style=\"color: #7f7f7f; text-decoration-color: #7f7f7f\">warnings.py</span></a><span style=\"color: #7f7f7f; text-decoration-color: #7f7f7f\">:</span><a href=\"file:///home/maa/anaconda3/envs/phd/lib/python3.10/warnings.py#109\" target=\"_blank\"><span style=\"color: #7f7f7f; text-decoration-color: #7f7f7f\">109</span></a>\n",
       "<span style=\"color: #7fbfbf; text-decoration-color: #7fbfbf\">                    </span>         <span style=\"color: #800080; text-decoration-color: #800080\">stats/</span><span style=\"color: #ff00ff; text-decoration-color: #ff00ff\">stattools.py</span>:<span style=\"color: #008080; text-decoration-color: #008080; font-weight: bold\">74</span>: ValueWarning: omni_normtest is not valid with   <span style=\"color: #7f7f7f; text-decoration-color: #7f7f7f\">               </span>\n",
       "<span style=\"color: #7fbfbf; text-decoration-color: #7fbfbf\">                    </span>         less than <span style=\"color: #008080; text-decoration-color: #008080; font-weight: bold\">8</span> observations; <span style=\"color: #008080; text-decoration-color: #008080; font-weight: bold\">5</span> samples were given.                        <span style=\"color: #7f7f7f; text-decoration-color: #7f7f7f\">               </span>\n",
       "<span style=\"color: #7fbfbf; text-decoration-color: #7fbfbf\">                    </span>           <span style=\"color: #800080; text-decoration-color: #800080; font-weight: bold\">warn</span><span style=\"font-weight: bold\">(</span><span style=\"color: #008000; text-decoration-color: #008000\">\"omni_normtest is not valid with less than 8 observations; %i \"</span> <span style=\"color: #7f7f7f; text-decoration-color: #7f7f7f\">               </span>\n",
       "<span style=\"color: #7fbfbf; text-decoration-color: #7fbfbf\">                    </span>                                                                                <span style=\"color: #7f7f7f; text-decoration-color: #7f7f7f\">               </span>\n",
       "</pre>\n"
      ],
      "text/plain": [
       "\u001b[2;36m                   \u001b[0m\u001b[2;36m \u001b[0m\u001b[31mWARNING \u001b[0m \u001b[35m/home/maa/anaconda3/envs/phd/lib/python3.10/site-packages/statsmodels/\u001b[0m \u001b]8;id=517399;file:///home/maa/anaconda3/envs/phd/lib/python3.10/warnings.py\u001b\\\u001b[2mwarnings.py\u001b[0m\u001b]8;;\u001b\\\u001b[2m:\u001b[0m\u001b]8;id=11197;file:///home/maa/anaconda3/envs/phd/lib/python3.10/warnings.py#109\u001b\\\u001b[2m109\u001b[0m\u001b]8;;\u001b\\\n",
       "\u001b[2;36m                    \u001b[0m         \u001b[35mstats/\u001b[0m\u001b[95mstattools.py\u001b[0m:\u001b[1;36m74\u001b[0m: ValueWarning: omni_normtest is not valid with   \u001b[2m               \u001b[0m\n",
       "\u001b[2;36m                    \u001b[0m         less than \u001b[1;36m8\u001b[0m observations; \u001b[1;36m5\u001b[0m samples were given.                        \u001b[2m               \u001b[0m\n",
       "\u001b[2;36m                    \u001b[0m           \u001b[1;35mwarn\u001b[0m\u001b[1m(\u001b[0m\u001b[32m\"omni_normtest is not valid with less than 8 observations; %i \"\u001b[0m \u001b[2m               \u001b[0m\n",
       "\u001b[2;36m                    \u001b[0m                                                                                \u001b[2m               \u001b[0m\n"
      ]
     },
     "metadata": {},
     "output_type": "display_data"
    },
    {
     "data": {
      "text/html": [
       "<pre style=\"white-space:pre;overflow-x:auto;line-height:normal;font-family:Menlo,'DejaVu Sans Mono',consolas,'Courier New',monospace\"><span style=\"color: #7fbfbf; text-decoration-color: #7fbfbf\">                    </span><span style=\"color: #000080; text-decoration-color: #000080\">INFO    </span>                         Results: Ordinary least squares                   <a href=\"file:///home/maa/dev/PHD/src/phd/pipelines/regression_VCT/nodes.py\" target=\"_blank\"><span style=\"color: #7f7f7f; text-decoration-color: #7f7f7f\">nodes.py</span></a><span style=\"color: #7f7f7f; text-decoration-color: #7f7f7f\">:</span><a href=\"file:///home/maa/dev/PHD/src/phd/pipelines/regression_VCT/nodes.py#551\" target=\"_blank\"><span style=\"color: #7f7f7f; text-decoration-color: #7f7f7f\">551</span></a>\n",
       "<span style=\"color: #7fbfbf; text-decoration-color: #7fbfbf\">                    </span>         ========================================================================= <span style=\"color: #7f7f7f; text-decoration-color: #7f7f7f\">            </span>\n",
       "<span style=\"color: #7fbfbf; text-decoration-color: #7fbfbf\">                    </span>         =======                                                                   <span style=\"color: #7f7f7f; text-decoration-color: #7f7f7f\">            </span>\n",
       "<span style=\"color: #7fbfbf; text-decoration-color: #7fbfbf\">                    </span>         Model:                  OLS              Adj. R-squared <span style=\"font-weight: bold\">(</span>uncentered<span style=\"font-weight: bold\">)</span>:     <span style=\"color: #7f7f7f; text-decoration-color: #7f7f7f\">            </span>\n",
       "<span style=\"color: #7fbfbf; text-decoration-color: #7fbfbf\">                    </span>         <span style=\"color: #008080; text-decoration-color: #008080; font-weight: bold\">0.998</span>                                                                     <span style=\"color: #7f7f7f; text-decoration-color: #7f7f7f\">            </span>\n",
       "<span style=\"color: #7fbfbf; text-decoration-color: #7fbfbf\">                    </span>         Dependent Variable:     Y_H              AIC:                             <span style=\"color: #7f7f7f; text-decoration-color: #7f7f7f\">            </span>\n",
       "<span style=\"color: #7fbfbf; text-decoration-color: #7fbfbf\">                    </span>         <span style=\"color: #008080; text-decoration-color: #008080; font-weight: bold\">-76.5163</span>                                                                  <span style=\"color: #7f7f7f; text-decoration-color: #7f7f7f\">            </span>\n",
       "<span style=\"color: #7fbfbf; text-decoration-color: #7fbfbf\">                    </span>         Date:                   <span style=\"color: #008080; text-decoration-color: #008080; font-weight: bold\">2024</span>-<span style=\"color: #008080; text-decoration-color: #008080; font-weight: bold\">01</span>-<span style=\"color: #008080; text-decoration-color: #008080; font-weight: bold\">10</span> <span style=\"color: #00ff00; text-decoration-color: #00ff00; font-weight: bold\">14:16</span> BIC:                             <span style=\"color: #7f7f7f; text-decoration-color: #7f7f7f\">            </span>\n",
       "<span style=\"color: #7fbfbf; text-decoration-color: #7fbfbf\">                    </span>         <span style=\"color: #008080; text-decoration-color: #008080; font-weight: bold\">-77.2974</span>                                                                  <span style=\"color: #7f7f7f; text-decoration-color: #7f7f7f\">            </span>\n",
       "<span style=\"color: #7fbfbf; text-decoration-color: #7fbfbf\">                    </span>         No. Observations:       <span style=\"color: #008080; text-decoration-color: #008080; font-weight: bold\">5</span>                Log-Likelihood:                  <span style=\"color: #7f7f7f; text-decoration-color: #7f7f7f\">            </span>\n",
       "<span style=\"color: #7fbfbf; text-decoration-color: #7fbfbf\">                    </span>         <span style=\"color: #008080; text-decoration-color: #008080; font-weight: bold\">40.258</span>                                                                    <span style=\"color: #7f7f7f; text-decoration-color: #7f7f7f\">            </span>\n",
       "<span style=\"color: #7fbfbf; text-decoration-color: #7fbfbf\">                    </span>         Df Model:               <span style=\"color: #008080; text-decoration-color: #008080; font-weight: bold\">2</span>                F-statistic:                     <span style=\"color: #7f7f7f; text-decoration-color: #7f7f7f\">            </span>\n",
       "<span style=\"color: #7fbfbf; text-decoration-color: #7fbfbf\">                    </span>         <span style=\"color: #008080; text-decoration-color: #008080; font-weight: bold\">1490</span>.                                                                     <span style=\"color: #7f7f7f; text-decoration-color: #7f7f7f\">            </span>\n",
       "<span style=\"color: #7fbfbf; text-decoration-color: #7fbfbf\">                    </span>         Df Residuals:           <span style=\"color: #008080; text-decoration-color: #008080; font-weight: bold\">3</span>                Prob <span style=\"font-weight: bold\">(</span>F-statistic<span style=\"font-weight: bold\">)</span>:              <span style=\"color: #7f7f7f; text-decoration-color: #7f7f7f\">            </span>\n",
       "<span style=\"color: #7fbfbf; text-decoration-color: #7fbfbf\">                    </span>         <span style=\"color: #008080; text-decoration-color: #008080; font-weight: bold\">3.19e-05</span>                                                                  <span style=\"color: #7f7f7f; text-decoration-color: #7f7f7f\">            </span>\n",
       "<span style=\"color: #7fbfbf; text-decoration-color: #7fbfbf\">                    </span>         R-squared <span style=\"font-weight: bold\">(</span>uncentered<span style=\"font-weight: bold\">)</span>: <span style=\"color: #008080; text-decoration-color: #008080; font-weight: bold\">0.999</span>            Scale:                           <span style=\"color: #7f7f7f; text-decoration-color: #7f7f7f\">            </span>\n",
       "<span style=\"color: #7fbfbf; text-decoration-color: #7fbfbf\">                    </span>         <span style=\"color: #008080; text-decoration-color: #008080; font-weight: bold\">9.9042e-09</span>                                                                <span style=\"color: #7f7f7f; text-decoration-color: #7f7f7f\">            </span>\n",
       "<span style=\"color: #7fbfbf; text-decoration-color: #7fbfbf\">                    </span>         ------------------------------------------------------------------------- <span style=\"color: #7f7f7f; text-decoration-color: #7f7f7f\">            </span>\n",
       "<span style=\"color: #7fbfbf; text-decoration-color: #7fbfbf\">                    </span>         ------------                                                              <span style=\"color: #7f7f7f; text-decoration-color: #7f7f7f\">            </span>\n",
       "<span style=\"color: #7fbfbf; text-decoration-color: #7fbfbf\">                    </span>                      Coef.       Std.Err.         t          P&gt;|t|        <span style=\"font-weight: bold\">[</span><span style=\"color: #008080; text-decoration-color: #008080; font-weight: bold\">0.025</span>  <span style=\"color: #7f7f7f; text-decoration-color: #7f7f7f\">            </span>\n",
       "<span style=\"color: #7fbfbf; text-decoration-color: #7fbfbf\">                    </span>         <span style=\"color: #008080; text-decoration-color: #008080; font-weight: bold\">0.975</span><span style=\"font-weight: bold\">]</span>                                                                    <span style=\"color: #7f7f7f; text-decoration-color: #7f7f7f\">            </span>\n",
       "<span style=\"color: #7fbfbf; text-decoration-color: #7fbfbf\">                    </span>         ------------------------------------------------------------------------- <span style=\"color: #7f7f7f; text-decoration-color: #7f7f7f\">            </span>\n",
       "<span style=\"color: #7fbfbf; text-decoration-color: #7fbfbf\">                    </span>         ------------                                                              <span style=\"color: #7f7f7f; text-decoration-color: #7f7f7f\">            </span>\n",
       "<span style=\"color: #7fbfbf; text-decoration-color: #7fbfbf\">                    </span>         Yv          <span style=\"color: #008080; text-decoration-color: #008080; font-weight: bold\">-0.0068</span>        <span style=\"color: #008080; text-decoration-color: #008080; font-weight: bold\">0.0006</span>      <span style=\"color: #008080; text-decoration-color: #008080; font-weight: bold\">-12.0574</span>      <span style=\"color: #008080; text-decoration-color: #008080; font-weight: bold\">0.0012</span>      <span style=\"color: #008080; text-decoration-color: #008080; font-weight: bold\">-0.0086</span>  <span style=\"color: #7f7f7f; text-decoration-color: #7f7f7f\">            </span>\n",
       "<span style=\"color: #7fbfbf; text-decoration-color: #7fbfbf\">                    </span>         <span style=\"color: #008080; text-decoration-color: #008080; font-weight: bold\">-0.0050</span>                                                                   <span style=\"color: #7f7f7f; text-decoration-color: #7f7f7f\">            </span>\n",
       "<span style=\"color: #7fbfbf; text-decoration-color: #7fbfbf\">                    </span>         Yvvv        <span style=\"color: #008080; text-decoration-color: #008080; font-weight: bold\">-0.0531</span>        <span style=\"color: #008080; text-decoration-color: #008080; font-weight: bold\">0.0060</span>       <span style=\"color: #008080; text-decoration-color: #008080; font-weight: bold\">-8.7853</span>      <span style=\"color: #008080; text-decoration-color: #008080; font-weight: bold\">0.0031</span>      <span style=\"color: #008080; text-decoration-color: #008080; font-weight: bold\">-0.0723</span>  <span style=\"color: #7f7f7f; text-decoration-color: #7f7f7f\">            </span>\n",
       "<span style=\"color: #7fbfbf; text-decoration-color: #7fbfbf\">                    </span>         <span style=\"color: #008080; text-decoration-color: #008080; font-weight: bold\">-0.0339</span>                                                                   <span style=\"color: #7f7f7f; text-decoration-color: #7f7f7f\">            </span>\n",
       "<span style=\"color: #7fbfbf; text-decoration-color: #7fbfbf\">                    </span>         ------------------------------------------------------------------------- <span style=\"color: #7f7f7f; text-decoration-color: #7f7f7f\">            </span>\n",
       "<span style=\"color: #7fbfbf; text-decoration-color: #7fbfbf\">                    </span>         -------                                                                   <span style=\"color: #7f7f7f; text-decoration-color: #7f7f7f\">            </span>\n",
       "<span style=\"color: #7fbfbf; text-decoration-color: #7fbfbf\">                    </span>         Omnibus:                   nan               Durbin-Watson:               <span style=\"color: #7f7f7f; text-decoration-color: #7f7f7f\">            </span>\n",
       "<span style=\"color: #7fbfbf; text-decoration-color: #7fbfbf\">                    </span>         <span style=\"color: #008080; text-decoration-color: #008080; font-weight: bold\">1.372</span>                                                                     <span style=\"color: #7f7f7f; text-decoration-color: #7f7f7f\">            </span>\n",
       "<span style=\"color: #7fbfbf; text-decoration-color: #7fbfbf\">                    </span>         <span style=\"color: #800080; text-decoration-color: #800080; font-weight: bold\">Prob</span><span style=\"font-weight: bold\">(</span>Omnibus<span style=\"font-weight: bold\">)</span>:             nan               Jarque-Bera <span style=\"font-weight: bold\">(</span>JB<span style=\"font-weight: bold\">)</span>:            <span style=\"color: #7f7f7f; text-decoration-color: #7f7f7f\">            </span>\n",
       "<span style=\"color: #7fbfbf; text-decoration-color: #7fbfbf\">                    </span>         <span style=\"color: #008080; text-decoration-color: #008080; font-weight: bold\">0.445</span>                                                                     <span style=\"color: #7f7f7f; text-decoration-color: #7f7f7f\">            </span>\n",
       "<span style=\"color: #7fbfbf; text-decoration-color: #7fbfbf\">                    </span>         Skew:                      <span style=\"color: #008080; text-decoration-color: #008080; font-weight: bold\">0.637</span>             <span style=\"color: #800080; text-decoration-color: #800080; font-weight: bold\">Prob</span><span style=\"font-weight: bold\">(</span>JB<span style=\"font-weight: bold\">)</span>:                    <span style=\"color: #7f7f7f; text-decoration-color: #7f7f7f\">            </span>\n",
       "<span style=\"color: #7fbfbf; text-decoration-color: #7fbfbf\">                    </span>         <span style=\"color: #008080; text-decoration-color: #008080; font-weight: bold\">0.801</span>                                                                     <span style=\"color: #7f7f7f; text-decoration-color: #7f7f7f\">            </span>\n",
       "<span style=\"color: #7fbfbf; text-decoration-color: #7fbfbf\">                    </span>         Kurtosis:                  <span style=\"color: #008080; text-decoration-color: #008080; font-weight: bold\">2.285</span>             Condition No.:               <span style=\"color: #7f7f7f; text-decoration-color: #7f7f7f\">            </span>\n",
       "<span style=\"color: #7fbfbf; text-decoration-color: #7fbfbf\">                    </span>         <span style=\"color: #008080; text-decoration-color: #008080; font-weight: bold\">29</span>                                                                        <span style=\"color: #7f7f7f; text-decoration-color: #7f7f7f\">            </span>\n",
       "<span style=\"color: #7fbfbf; text-decoration-color: #7fbfbf\">                    </span>         ========================================================================= <span style=\"color: #7f7f7f; text-decoration-color: #7f7f7f\">            </span>\n",
       "<span style=\"color: #7fbfbf; text-decoration-color: #7fbfbf\">                    </span>         =======                                                                   <span style=\"color: #7f7f7f; text-decoration-color: #7f7f7f\">            </span>\n",
       "<span style=\"color: #7fbfbf; text-decoration-color: #7fbfbf\">                    </span>                                                                                   <span style=\"color: #7f7f7f; text-decoration-color: #7f7f7f\">            </span>\n",
       "</pre>\n"
      ],
      "text/plain": [
       "\u001b[2;36m                   \u001b[0m\u001b[2;36m \u001b[0m\u001b[34mINFO    \u001b[0m                         Results: Ordinary least squares                   \u001b]8;id=417783;file:///home/maa/dev/PHD/src/phd/pipelines/regression_VCT/nodes.py\u001b\\\u001b[2mnodes.py\u001b[0m\u001b]8;;\u001b\\\u001b[2m:\u001b[0m\u001b]8;id=459251;file:///home/maa/dev/PHD/src/phd/pipelines/regression_VCT/nodes.py#551\u001b\\\u001b[2m551\u001b[0m\u001b]8;;\u001b\\\n",
       "\u001b[2;36m                    \u001b[0m         ========================================================================= \u001b[2m            \u001b[0m\n",
       "\u001b[2;36m                    \u001b[0m         =======                                                                   \u001b[2m            \u001b[0m\n",
       "\u001b[2;36m                    \u001b[0m         Model:                  OLS              Adj. R-squared \u001b[1m(\u001b[0muncentered\u001b[1m)\u001b[0m:     \u001b[2m            \u001b[0m\n",
       "\u001b[2;36m                    \u001b[0m         \u001b[1;36m0.998\u001b[0m                                                                     \u001b[2m            \u001b[0m\n",
       "\u001b[2;36m                    \u001b[0m         Dependent Variable:     Y_H              AIC:                             \u001b[2m            \u001b[0m\n",
       "\u001b[2;36m                    \u001b[0m         \u001b[1;36m-76.5163\u001b[0m                                                                  \u001b[2m            \u001b[0m\n",
       "\u001b[2;36m                    \u001b[0m         Date:                   \u001b[1;36m2024\u001b[0m-\u001b[1;36m01\u001b[0m-\u001b[1;36m10\u001b[0m \u001b[1;92m14:16\u001b[0m BIC:                             \u001b[2m            \u001b[0m\n",
       "\u001b[2;36m                    \u001b[0m         \u001b[1;36m-77.2974\u001b[0m                                                                  \u001b[2m            \u001b[0m\n",
       "\u001b[2;36m                    \u001b[0m         No. Observations:       \u001b[1;36m5\u001b[0m                Log-Likelihood:                  \u001b[2m            \u001b[0m\n",
       "\u001b[2;36m                    \u001b[0m         \u001b[1;36m40.258\u001b[0m                                                                    \u001b[2m            \u001b[0m\n",
       "\u001b[2;36m                    \u001b[0m         Df Model:               \u001b[1;36m2\u001b[0m                F-statistic:                     \u001b[2m            \u001b[0m\n",
       "\u001b[2;36m                    \u001b[0m         \u001b[1;36m1490\u001b[0m.                                                                     \u001b[2m            \u001b[0m\n",
       "\u001b[2;36m                    \u001b[0m         Df Residuals:           \u001b[1;36m3\u001b[0m                Prob \u001b[1m(\u001b[0mF-statistic\u001b[1m)\u001b[0m:              \u001b[2m            \u001b[0m\n",
       "\u001b[2;36m                    \u001b[0m         \u001b[1;36m3.19e-05\u001b[0m                                                                  \u001b[2m            \u001b[0m\n",
       "\u001b[2;36m                    \u001b[0m         R-squared \u001b[1m(\u001b[0muncentered\u001b[1m)\u001b[0m: \u001b[1;36m0.999\u001b[0m            Scale:                           \u001b[2m            \u001b[0m\n",
       "\u001b[2;36m                    \u001b[0m         \u001b[1;36m9.9042e-09\u001b[0m                                                                \u001b[2m            \u001b[0m\n",
       "\u001b[2;36m                    \u001b[0m         ------------------------------------------------------------------------- \u001b[2m            \u001b[0m\n",
       "\u001b[2;36m                    \u001b[0m         ------------                                                              \u001b[2m            \u001b[0m\n",
       "\u001b[2;36m                    \u001b[0m                      Coef.       Std.Err.         t          P>|t|        \u001b[1m[\u001b[0m\u001b[1;36m0.025\u001b[0m  \u001b[2m            \u001b[0m\n",
       "\u001b[2;36m                    \u001b[0m         \u001b[1;36m0.975\u001b[0m\u001b[1m]\u001b[0m                                                                    \u001b[2m            \u001b[0m\n",
       "\u001b[2;36m                    \u001b[0m         ------------------------------------------------------------------------- \u001b[2m            \u001b[0m\n",
       "\u001b[2;36m                    \u001b[0m         ------------                                                              \u001b[2m            \u001b[0m\n",
       "\u001b[2;36m                    \u001b[0m         Yv          \u001b[1;36m-0.0068\u001b[0m        \u001b[1;36m0.0006\u001b[0m      \u001b[1;36m-12.0574\u001b[0m      \u001b[1;36m0.0012\u001b[0m      \u001b[1;36m-0.0086\u001b[0m  \u001b[2m            \u001b[0m\n",
       "\u001b[2;36m                    \u001b[0m         \u001b[1;36m-0.0050\u001b[0m                                                                   \u001b[2m            \u001b[0m\n",
       "\u001b[2;36m                    \u001b[0m         Yvvv        \u001b[1;36m-0.0531\u001b[0m        \u001b[1;36m0.0060\u001b[0m       \u001b[1;36m-8.7853\u001b[0m      \u001b[1;36m0.0031\u001b[0m      \u001b[1;36m-0.0723\u001b[0m  \u001b[2m            \u001b[0m\n",
       "\u001b[2;36m                    \u001b[0m         \u001b[1;36m-0.0339\u001b[0m                                                                   \u001b[2m            \u001b[0m\n",
       "\u001b[2;36m                    \u001b[0m         ------------------------------------------------------------------------- \u001b[2m            \u001b[0m\n",
       "\u001b[2;36m                    \u001b[0m         -------                                                                   \u001b[2m            \u001b[0m\n",
       "\u001b[2;36m                    \u001b[0m         Omnibus:                   nan               Durbin-Watson:               \u001b[2m            \u001b[0m\n",
       "\u001b[2;36m                    \u001b[0m         \u001b[1;36m1.372\u001b[0m                                                                     \u001b[2m            \u001b[0m\n",
       "\u001b[2;36m                    \u001b[0m         \u001b[1;35mProb\u001b[0m\u001b[1m(\u001b[0mOmnibus\u001b[1m)\u001b[0m:             nan               Jarque-Bera \u001b[1m(\u001b[0mJB\u001b[1m)\u001b[0m:            \u001b[2m            \u001b[0m\n",
       "\u001b[2;36m                    \u001b[0m         \u001b[1;36m0.445\u001b[0m                                                                     \u001b[2m            \u001b[0m\n",
       "\u001b[2;36m                    \u001b[0m         Skew:                      \u001b[1;36m0.637\u001b[0m             \u001b[1;35mProb\u001b[0m\u001b[1m(\u001b[0mJB\u001b[1m)\u001b[0m:                    \u001b[2m            \u001b[0m\n",
       "\u001b[2;36m                    \u001b[0m         \u001b[1;36m0.801\u001b[0m                                                                     \u001b[2m            \u001b[0m\n",
       "\u001b[2;36m                    \u001b[0m         Kurtosis:                  \u001b[1;36m2.285\u001b[0m             Condition No.:               \u001b[2m            \u001b[0m\n",
       "\u001b[2;36m                    \u001b[0m         \u001b[1;36m29\u001b[0m                                                                        \u001b[2m            \u001b[0m\n",
       "\u001b[2;36m                    \u001b[0m         ========================================================================= \u001b[2m            \u001b[0m\n",
       "\u001b[2;36m                    \u001b[0m         =======                                                                   \u001b[2m            \u001b[0m\n",
       "\u001b[2;36m                    \u001b[0m                                                                                   \u001b[2m            \u001b[0m\n"
      ]
     },
     "metadata": {},
     "output_type": "display_data"
    },
    {
     "data": {
      "text/html": [
       "<pre style=\"white-space:pre;overflow-x:auto;line-height:normal;font-family:Menlo,'DejaVu Sans Mono',consolas,'Courier New',monospace\"><span style=\"color: #7fbfbf; text-decoration-color: #7fbfbf\">                    </span><span style=\"color: #000080; text-decoration-color: #000080\">INFO    </span> Regression:Drift angle mz                                                 <a href=\"file:///home/maa/dev/PHD/src/phd/pipelines/regression_VCT/nodes.py\" target=\"_blank\"><span style=\"color: #7f7f7f; text-decoration-color: #7f7f7f\">nodes.py</span></a><span style=\"color: #7f7f7f; text-decoration-color: #7f7f7f\">:</span><a href=\"file:///home/maa/dev/PHD/src/phd/pipelines/regression_VCT/nodes.py#549\" target=\"_blank\"><span style=\"color: #7f7f7f; text-decoration-color: #7f7f7f\">549</span></a>\n",
       "</pre>\n"
      ],
      "text/plain": [
       "\u001b[2;36m                   \u001b[0m\u001b[2;36m \u001b[0m\u001b[34mINFO    \u001b[0m Regression:Drift angle mz                                                 \u001b]8;id=531992;file:///home/maa/dev/PHD/src/phd/pipelines/regression_VCT/nodes.py\u001b\\\u001b[2mnodes.py\u001b[0m\u001b]8;;\u001b\\\u001b[2m:\u001b[0m\u001b]8;id=459593;file:///home/maa/dev/PHD/src/phd/pipelines/regression_VCT/nodes.py#549\u001b\\\u001b[2m549\u001b[0m\u001b]8;;\u001b\\\n"
      ]
     },
     "metadata": {},
     "output_type": "display_data"
    },
    {
     "data": {
      "text/html": [
       "<pre style=\"white-space:pre;overflow-x:auto;line-height:normal;font-family:Menlo,'DejaVu Sans Mono',consolas,'Courier New',monospace\"><span style=\"color: #7fbfbf; text-decoration-color: #7fbfbf\">                    </span><span style=\"color: #800000; text-decoration-color: #800000\">WARNING </span> <span style=\"color: #800080; text-decoration-color: #800080\">/home/maa/anaconda3/envs/phd/lib/python3.10/site-packages/statsmodels/</span> <a href=\"file:///home/maa/anaconda3/envs/phd/lib/python3.10/warnings.py\" target=\"_blank\"><span style=\"color: #7f7f7f; text-decoration-color: #7f7f7f\">warnings.py</span></a><span style=\"color: #7f7f7f; text-decoration-color: #7f7f7f\">:</span><a href=\"file:///home/maa/anaconda3/envs/phd/lib/python3.10/warnings.py#109\" target=\"_blank\"><span style=\"color: #7f7f7f; text-decoration-color: #7f7f7f\">109</span></a>\n",
       "<span style=\"color: #7fbfbf; text-decoration-color: #7fbfbf\">                    </span>         <span style=\"color: #800080; text-decoration-color: #800080\">stats/</span><span style=\"color: #ff00ff; text-decoration-color: #ff00ff\">stattools.py</span>:<span style=\"color: #008080; text-decoration-color: #008080; font-weight: bold\">74</span>: ValueWarning: omni_normtest is not valid with   <span style=\"color: #7f7f7f; text-decoration-color: #7f7f7f\">               </span>\n",
       "<span style=\"color: #7fbfbf; text-decoration-color: #7fbfbf\">                    </span>         less than <span style=\"color: #008080; text-decoration-color: #008080; font-weight: bold\">8</span> observations; <span style=\"color: #008080; text-decoration-color: #008080; font-weight: bold\">5</span> samples were given.                        <span style=\"color: #7f7f7f; text-decoration-color: #7f7f7f\">               </span>\n",
       "<span style=\"color: #7fbfbf; text-decoration-color: #7fbfbf\">                    </span>           <span style=\"color: #800080; text-decoration-color: #800080; font-weight: bold\">warn</span><span style=\"font-weight: bold\">(</span><span style=\"color: #008000; text-decoration-color: #008000\">\"omni_normtest is not valid with less than 8 observations; %i \"</span> <span style=\"color: #7f7f7f; text-decoration-color: #7f7f7f\">               </span>\n",
       "<span style=\"color: #7fbfbf; text-decoration-color: #7fbfbf\">                    </span>                                                                                <span style=\"color: #7f7f7f; text-decoration-color: #7f7f7f\">               </span>\n",
       "</pre>\n"
      ],
      "text/plain": [
       "\u001b[2;36m                   \u001b[0m\u001b[2;36m \u001b[0m\u001b[31mWARNING \u001b[0m \u001b[35m/home/maa/anaconda3/envs/phd/lib/python3.10/site-packages/statsmodels/\u001b[0m \u001b]8;id=200468;file:///home/maa/anaconda3/envs/phd/lib/python3.10/warnings.py\u001b\\\u001b[2mwarnings.py\u001b[0m\u001b]8;;\u001b\\\u001b[2m:\u001b[0m\u001b]8;id=504290;file:///home/maa/anaconda3/envs/phd/lib/python3.10/warnings.py#109\u001b\\\u001b[2m109\u001b[0m\u001b]8;;\u001b\\\n",
       "\u001b[2;36m                    \u001b[0m         \u001b[35mstats/\u001b[0m\u001b[95mstattools.py\u001b[0m:\u001b[1;36m74\u001b[0m: ValueWarning: omni_normtest is not valid with   \u001b[2m               \u001b[0m\n",
       "\u001b[2;36m                    \u001b[0m         less than \u001b[1;36m8\u001b[0m observations; \u001b[1;36m5\u001b[0m samples were given.                        \u001b[2m               \u001b[0m\n",
       "\u001b[2;36m                    \u001b[0m           \u001b[1;35mwarn\u001b[0m\u001b[1m(\u001b[0m\u001b[32m\"omni_normtest is not valid with less than 8 observations; %i \"\u001b[0m \u001b[2m               \u001b[0m\n",
       "\u001b[2;36m                    \u001b[0m                                                                                \u001b[2m               \u001b[0m\n"
      ]
     },
     "metadata": {},
     "output_type": "display_data"
    },
    {
     "data": {
      "text/html": [
       "<pre style=\"white-space:pre;overflow-x:auto;line-height:normal;font-family:Menlo,'DejaVu Sans Mono',consolas,'Courier New',monospace\"><span style=\"color: #7fbfbf; text-decoration-color: #7fbfbf\">                    </span><span style=\"color: #000080; text-decoration-color: #000080\">INFO    </span>                         Results: Ordinary least squares                   <a href=\"file:///home/maa/dev/PHD/src/phd/pipelines/regression_VCT/nodes.py\" target=\"_blank\"><span style=\"color: #7f7f7f; text-decoration-color: #7f7f7f\">nodes.py</span></a><span style=\"color: #7f7f7f; text-decoration-color: #7f7f7f\">:</span><a href=\"file:///home/maa/dev/PHD/src/phd/pipelines/regression_VCT/nodes.py#551\" target=\"_blank\"><span style=\"color: #7f7f7f; text-decoration-color: #7f7f7f\">551</span></a>\n",
       "<span style=\"color: #7fbfbf; text-decoration-color: #7fbfbf\">                    </span>         ========================================================================= <span style=\"color: #7f7f7f; text-decoration-color: #7f7f7f\">            </span>\n",
       "<span style=\"color: #7fbfbf; text-decoration-color: #7fbfbf\">                    </span>         =======                                                                   <span style=\"color: #7f7f7f; text-decoration-color: #7f7f7f\">            </span>\n",
       "<span style=\"color: #7fbfbf; text-decoration-color: #7fbfbf\">                    </span>         Model:                  OLS              Adj. R-squared <span style=\"font-weight: bold\">(</span>uncentered<span style=\"font-weight: bold\">)</span>:     <span style=\"color: #7f7f7f; text-decoration-color: #7f7f7f\">            </span>\n",
       "<span style=\"color: #7fbfbf; text-decoration-color: #7fbfbf\">                    </span>         <span style=\"color: #008080; text-decoration-color: #008080; font-weight: bold\">1.000</span>                                                                     <span style=\"color: #7f7f7f; text-decoration-color: #7f7f7f\">            </span>\n",
       "<span style=\"color: #7fbfbf; text-decoration-color: #7fbfbf\">                    </span>         Dependent Variable:     N_H              AIC:                             <span style=\"color: #7f7f7f; text-decoration-color: #7f7f7f\">            </span>\n",
       "<span style=\"color: #7fbfbf; text-decoration-color: #7fbfbf\">                    </span>         <span style=\"color: #008080; text-decoration-color: #008080; font-weight: bold\">-95.5997</span>                                                                  <span style=\"color: #7f7f7f; text-decoration-color: #7f7f7f\">            </span>\n",
       "<span style=\"color: #7fbfbf; text-decoration-color: #7fbfbf\">                    </span>         Date:                   <span style=\"color: #008080; text-decoration-color: #008080; font-weight: bold\">2024</span>-<span style=\"color: #008080; text-decoration-color: #008080; font-weight: bold\">01</span>-<span style=\"color: #008080; text-decoration-color: #008080; font-weight: bold\">10</span> <span style=\"color: #00ff00; text-decoration-color: #00ff00; font-weight: bold\">14:16</span> BIC:                             <span style=\"color: #7f7f7f; text-decoration-color: #7f7f7f\">            </span>\n",
       "<span style=\"color: #7fbfbf; text-decoration-color: #7fbfbf\">                    </span>         <span style=\"color: #008080; text-decoration-color: #008080; font-weight: bold\">-96.3809</span>                                                                  <span style=\"color: #7f7f7f; text-decoration-color: #7f7f7f\">            </span>\n",
       "<span style=\"color: #7fbfbf; text-decoration-color: #7fbfbf\">                    </span>         No. Observations:       <span style=\"color: #008080; text-decoration-color: #008080; font-weight: bold\">5</span>                Log-Likelihood:                  <span style=\"color: #7f7f7f; text-decoration-color: #7f7f7f\">            </span>\n",
       "<span style=\"color: #7fbfbf; text-decoration-color: #7fbfbf\">                    </span>         <span style=\"color: #008080; text-decoration-color: #008080; font-weight: bold\">49.800</span>                                                                    <span style=\"color: #7f7f7f; text-decoration-color: #7f7f7f\">            </span>\n",
       "<span style=\"color: #7fbfbf; text-decoration-color: #7fbfbf\">                    </span>         Df Model:               <span style=\"color: #008080; text-decoration-color: #008080; font-weight: bold\">2</span>                F-statistic:                     <span style=\"color: #7f7f7f; text-decoration-color: #7f7f7f\">            </span>\n",
       "<span style=\"color: #7fbfbf; text-decoration-color: #7fbfbf\">                    </span>         <span style=\"color: #008080; text-decoration-color: #008080; font-weight: bold\">7808</span>.                                                                     <span style=\"color: #7f7f7f; text-decoration-color: #7f7f7f\">            </span>\n",
       "<span style=\"color: #7fbfbf; text-decoration-color: #7fbfbf\">                    </span>         Df Residuals:           <span style=\"color: #008080; text-decoration-color: #008080; font-weight: bold\">3</span>                Prob <span style=\"font-weight: bold\">(</span>F-statistic<span style=\"font-weight: bold\">)</span>:              <span style=\"color: #7f7f7f; text-decoration-color: #7f7f7f\">            </span>\n",
       "<span style=\"color: #7fbfbf; text-decoration-color: #7fbfbf\">                    </span>         <span style=\"color: #008080; text-decoration-color: #008080; font-weight: bold\">2.66e-06</span>                                                                  <span style=\"color: #7f7f7f; text-decoration-color: #7f7f7f\">            </span>\n",
       "<span style=\"color: #7fbfbf; text-decoration-color: #7fbfbf\">                    </span>         R-squared <span style=\"font-weight: bold\">(</span>uncentered<span style=\"font-weight: bold\">)</span>: <span style=\"color: #008080; text-decoration-color: #008080; font-weight: bold\">1.000</span>            Scale:                           <span style=\"color: #7f7f7f; text-decoration-color: #7f7f7f\">            </span>\n",
       "<span style=\"color: #7fbfbf; text-decoration-color: #7fbfbf\">                    </span>         <span style=\"color: #008080; text-decoration-color: #008080; font-weight: bold\">2.1790e-10</span>                                                                <span style=\"color: #7f7f7f; text-decoration-color: #7f7f7f\">            </span>\n",
       "<span style=\"color: #7fbfbf; text-decoration-color: #7fbfbf\">                    </span>         ------------------------------------------------------------------------- <span style=\"color: #7f7f7f; text-decoration-color: #7f7f7f\">            </span>\n",
       "<span style=\"color: #7fbfbf; text-decoration-color: #7fbfbf\">                    </span>         ------------                                                              <span style=\"color: #7f7f7f; text-decoration-color: #7f7f7f\">            </span>\n",
       "<span style=\"color: #7fbfbf; text-decoration-color: #7fbfbf\">                    </span>                      Coef.       Std.Err.         t          P&gt;|t|        <span style=\"font-weight: bold\">[</span><span style=\"color: #008080; text-decoration-color: #008080; font-weight: bold\">0.025</span>  <span style=\"color: #7f7f7f; text-decoration-color: #7f7f7f\">            </span>\n",
       "<span style=\"color: #7fbfbf; text-decoration-color: #7fbfbf\">                    </span>         <span style=\"color: #008080; text-decoration-color: #008080; font-weight: bold\">0.975</span><span style=\"font-weight: bold\">]</span>                                                                    <span style=\"color: #7f7f7f; text-decoration-color: #7f7f7f\">            </span>\n",
       "<span style=\"color: #7fbfbf; text-decoration-color: #7fbfbf\">                    </span>         ------------------------------------------------------------------------- <span style=\"color: #7f7f7f; text-decoration-color: #7f7f7f\">            </span>\n",
       "<span style=\"color: #7fbfbf; text-decoration-color: #7fbfbf\">                    </span>         ------------                                                              <span style=\"color: #7f7f7f; text-decoration-color: #7f7f7f\">            </span>\n",
       "<span style=\"color: #7fbfbf; text-decoration-color: #7fbfbf\">                    </span>         Nvvv        <span style=\"color: #008080; text-decoration-color: #008080; font-weight: bold\">-0.0138</span>        <span style=\"color: #008080; text-decoration-color: #008080; font-weight: bold\">0.0009</span>      <span style=\"color: #008080; text-decoration-color: #008080; font-weight: bold\">-15.3411</span>      <span style=\"color: #008080; text-decoration-color: #008080; font-weight: bold\">0.0006</span>      <span style=\"color: #008080; text-decoration-color: #008080; font-weight: bold\">-0.0166</span>  <span style=\"color: #7f7f7f; text-decoration-color: #7f7f7f\">            </span>\n",
       "<span style=\"color: #7fbfbf; text-decoration-color: #7fbfbf\">                    </span>         <span style=\"color: #008080; text-decoration-color: #008080; font-weight: bold\">-0.0109</span>                                                                   <span style=\"color: #7f7f7f; text-decoration-color: #7f7f7f\">            </span>\n",
       "<span style=\"color: #7fbfbf; text-decoration-color: #7fbfbf\">                    </span>         Nv          <span style=\"color: #008080; text-decoration-color: #008080; font-weight: bold\">-0.0027</span>        <span style=\"color: #008080; text-decoration-color: #008080; font-weight: bold\">0.0001</span>      <span style=\"color: #008080; text-decoration-color: #008080; font-weight: bold\">-32.2783</span>      <span style=\"color: #008080; text-decoration-color: #008080; font-weight: bold\">0.0001</span>      <span style=\"color: #008080; text-decoration-color: #008080; font-weight: bold\">-0.0030</span>  <span style=\"color: #7f7f7f; text-decoration-color: #7f7f7f\">            </span>\n",
       "<span style=\"color: #7fbfbf; text-decoration-color: #7fbfbf\">                    </span>         <span style=\"color: #008080; text-decoration-color: #008080; font-weight: bold\">-0.0024</span>                                                                   <span style=\"color: #7f7f7f; text-decoration-color: #7f7f7f\">            </span>\n",
       "<span style=\"color: #7fbfbf; text-decoration-color: #7fbfbf\">                    </span>         ------------------------------------------------------------------------- <span style=\"color: #7f7f7f; text-decoration-color: #7f7f7f\">            </span>\n",
       "<span style=\"color: #7fbfbf; text-decoration-color: #7fbfbf\">                    </span>         -------                                                                   <span style=\"color: #7f7f7f; text-decoration-color: #7f7f7f\">            </span>\n",
       "<span style=\"color: #7fbfbf; text-decoration-color: #7fbfbf\">                    </span>         Omnibus:                   nan               Durbin-Watson:               <span style=\"color: #7f7f7f; text-decoration-color: #7f7f7f\">            </span>\n",
       "<span style=\"color: #7fbfbf; text-decoration-color: #7fbfbf\">                    </span>         <span style=\"color: #008080; text-decoration-color: #008080; font-weight: bold\">2.818</span>                                                                     <span style=\"color: #7f7f7f; text-decoration-color: #7f7f7f\">            </span>\n",
       "<span style=\"color: #7fbfbf; text-decoration-color: #7fbfbf\">                    </span>         <span style=\"color: #800080; text-decoration-color: #800080; font-weight: bold\">Prob</span><span style=\"font-weight: bold\">(</span>Omnibus<span style=\"font-weight: bold\">)</span>:             nan               Jarque-Bera <span style=\"font-weight: bold\">(</span>JB<span style=\"font-weight: bold\">)</span>:            <span style=\"color: #7f7f7f; text-decoration-color: #7f7f7f\">            </span>\n",
       "<span style=\"color: #7fbfbf; text-decoration-color: #7fbfbf\">                    </span>         <span style=\"color: #008080; text-decoration-color: #008080; font-weight: bold\">0.558</span>                                                                     <span style=\"color: #7f7f7f; text-decoration-color: #7f7f7f\">            </span>\n",
       "<span style=\"color: #7fbfbf; text-decoration-color: #7fbfbf\">                    </span>         Skew:                      <span style=\"color: #008080; text-decoration-color: #008080; font-weight: bold\">0.741</span>             <span style=\"color: #800080; text-decoration-color: #800080; font-weight: bold\">Prob</span><span style=\"font-weight: bold\">(</span>JB<span style=\"font-weight: bold\">)</span>:                    <span style=\"color: #7f7f7f; text-decoration-color: #7f7f7f\">            </span>\n",
       "<span style=\"color: #7fbfbf; text-decoration-color: #7fbfbf\">                    </span>         <span style=\"color: #008080; text-decoration-color: #008080; font-weight: bold\">0.756</span>                                                                     <span style=\"color: #7f7f7f; text-decoration-color: #7f7f7f\">            </span>\n",
       "<span style=\"color: #7fbfbf; text-decoration-color: #7fbfbf\">                    </span>         Kurtosis:                  <span style=\"color: #008080; text-decoration-color: #008080; font-weight: bold\">2.306</span>             Condition No.:               <span style=\"color: #7f7f7f; text-decoration-color: #7f7f7f\">            </span>\n",
       "<span style=\"color: #7fbfbf; text-decoration-color: #7fbfbf\">                    </span>         <span style=\"color: #008080; text-decoration-color: #008080; font-weight: bold\">29</span>                                                                        <span style=\"color: #7f7f7f; text-decoration-color: #7f7f7f\">            </span>\n",
       "<span style=\"color: #7fbfbf; text-decoration-color: #7fbfbf\">                    </span>         ========================================================================= <span style=\"color: #7f7f7f; text-decoration-color: #7f7f7f\">            </span>\n",
       "<span style=\"color: #7fbfbf; text-decoration-color: #7fbfbf\">                    </span>         =======                                                                   <span style=\"color: #7f7f7f; text-decoration-color: #7f7f7f\">            </span>\n",
       "<span style=\"color: #7fbfbf; text-decoration-color: #7fbfbf\">                    </span>                                                                                   <span style=\"color: #7f7f7f; text-decoration-color: #7f7f7f\">            </span>\n",
       "</pre>\n"
      ],
      "text/plain": [
       "\u001b[2;36m                   \u001b[0m\u001b[2;36m \u001b[0m\u001b[34mINFO    \u001b[0m                         Results: Ordinary least squares                   \u001b]8;id=122388;file:///home/maa/dev/PHD/src/phd/pipelines/regression_VCT/nodes.py\u001b\\\u001b[2mnodes.py\u001b[0m\u001b]8;;\u001b\\\u001b[2m:\u001b[0m\u001b]8;id=875726;file:///home/maa/dev/PHD/src/phd/pipelines/regression_VCT/nodes.py#551\u001b\\\u001b[2m551\u001b[0m\u001b]8;;\u001b\\\n",
       "\u001b[2;36m                    \u001b[0m         ========================================================================= \u001b[2m            \u001b[0m\n",
       "\u001b[2;36m                    \u001b[0m         =======                                                                   \u001b[2m            \u001b[0m\n",
       "\u001b[2;36m                    \u001b[0m         Model:                  OLS              Adj. R-squared \u001b[1m(\u001b[0muncentered\u001b[1m)\u001b[0m:     \u001b[2m            \u001b[0m\n",
       "\u001b[2;36m                    \u001b[0m         \u001b[1;36m1.000\u001b[0m                                                                     \u001b[2m            \u001b[0m\n",
       "\u001b[2;36m                    \u001b[0m         Dependent Variable:     N_H              AIC:                             \u001b[2m            \u001b[0m\n",
       "\u001b[2;36m                    \u001b[0m         \u001b[1;36m-95.5997\u001b[0m                                                                  \u001b[2m            \u001b[0m\n",
       "\u001b[2;36m                    \u001b[0m         Date:                   \u001b[1;36m2024\u001b[0m-\u001b[1;36m01\u001b[0m-\u001b[1;36m10\u001b[0m \u001b[1;92m14:16\u001b[0m BIC:                             \u001b[2m            \u001b[0m\n",
       "\u001b[2;36m                    \u001b[0m         \u001b[1;36m-96.3809\u001b[0m                                                                  \u001b[2m            \u001b[0m\n",
       "\u001b[2;36m                    \u001b[0m         No. Observations:       \u001b[1;36m5\u001b[0m                Log-Likelihood:                  \u001b[2m            \u001b[0m\n",
       "\u001b[2;36m                    \u001b[0m         \u001b[1;36m49.800\u001b[0m                                                                    \u001b[2m            \u001b[0m\n",
       "\u001b[2;36m                    \u001b[0m         Df Model:               \u001b[1;36m2\u001b[0m                F-statistic:                     \u001b[2m            \u001b[0m\n",
       "\u001b[2;36m                    \u001b[0m         \u001b[1;36m7808\u001b[0m.                                                                     \u001b[2m            \u001b[0m\n",
       "\u001b[2;36m                    \u001b[0m         Df Residuals:           \u001b[1;36m3\u001b[0m                Prob \u001b[1m(\u001b[0mF-statistic\u001b[1m)\u001b[0m:              \u001b[2m            \u001b[0m\n",
       "\u001b[2;36m                    \u001b[0m         \u001b[1;36m2.66e-06\u001b[0m                                                                  \u001b[2m            \u001b[0m\n",
       "\u001b[2;36m                    \u001b[0m         R-squared \u001b[1m(\u001b[0muncentered\u001b[1m)\u001b[0m: \u001b[1;36m1.000\u001b[0m            Scale:                           \u001b[2m            \u001b[0m\n",
       "\u001b[2;36m                    \u001b[0m         \u001b[1;36m2.1790e-10\u001b[0m                                                                \u001b[2m            \u001b[0m\n",
       "\u001b[2;36m                    \u001b[0m         ------------------------------------------------------------------------- \u001b[2m            \u001b[0m\n",
       "\u001b[2;36m                    \u001b[0m         ------------                                                              \u001b[2m            \u001b[0m\n",
       "\u001b[2;36m                    \u001b[0m                      Coef.       Std.Err.         t          P>|t|        \u001b[1m[\u001b[0m\u001b[1;36m0.025\u001b[0m  \u001b[2m            \u001b[0m\n",
       "\u001b[2;36m                    \u001b[0m         \u001b[1;36m0.975\u001b[0m\u001b[1m]\u001b[0m                                                                    \u001b[2m            \u001b[0m\n",
       "\u001b[2;36m                    \u001b[0m         ------------------------------------------------------------------------- \u001b[2m            \u001b[0m\n",
       "\u001b[2;36m                    \u001b[0m         ------------                                                              \u001b[2m            \u001b[0m\n",
       "\u001b[2;36m                    \u001b[0m         Nvvv        \u001b[1;36m-0.0138\u001b[0m        \u001b[1;36m0.0009\u001b[0m      \u001b[1;36m-15.3411\u001b[0m      \u001b[1;36m0.0006\u001b[0m      \u001b[1;36m-0.0166\u001b[0m  \u001b[2m            \u001b[0m\n",
       "\u001b[2;36m                    \u001b[0m         \u001b[1;36m-0.0109\u001b[0m                                                                   \u001b[2m            \u001b[0m\n",
       "\u001b[2;36m                    \u001b[0m         Nv          \u001b[1;36m-0.0027\u001b[0m        \u001b[1;36m0.0001\u001b[0m      \u001b[1;36m-32.2783\u001b[0m      \u001b[1;36m0.0001\u001b[0m      \u001b[1;36m-0.0030\u001b[0m  \u001b[2m            \u001b[0m\n",
       "\u001b[2;36m                    \u001b[0m         \u001b[1;36m-0.0024\u001b[0m                                                                   \u001b[2m            \u001b[0m\n",
       "\u001b[2;36m                    \u001b[0m         ------------------------------------------------------------------------- \u001b[2m            \u001b[0m\n",
       "\u001b[2;36m                    \u001b[0m         -------                                                                   \u001b[2m            \u001b[0m\n",
       "\u001b[2;36m                    \u001b[0m         Omnibus:                   nan               Durbin-Watson:               \u001b[2m            \u001b[0m\n",
       "\u001b[2;36m                    \u001b[0m         \u001b[1;36m2.818\u001b[0m                                                                     \u001b[2m            \u001b[0m\n",
       "\u001b[2;36m                    \u001b[0m         \u001b[1;35mProb\u001b[0m\u001b[1m(\u001b[0mOmnibus\u001b[1m)\u001b[0m:             nan               Jarque-Bera \u001b[1m(\u001b[0mJB\u001b[1m)\u001b[0m:            \u001b[2m            \u001b[0m\n",
       "\u001b[2;36m                    \u001b[0m         \u001b[1;36m0.558\u001b[0m                                                                     \u001b[2m            \u001b[0m\n",
       "\u001b[2;36m                    \u001b[0m         Skew:                      \u001b[1;36m0.741\u001b[0m             \u001b[1;35mProb\u001b[0m\u001b[1m(\u001b[0mJB\u001b[1m)\u001b[0m:                    \u001b[2m            \u001b[0m\n",
       "\u001b[2;36m                    \u001b[0m         \u001b[1;36m0.756\u001b[0m                                                                     \u001b[2m            \u001b[0m\n",
       "\u001b[2;36m                    \u001b[0m         Kurtosis:                  \u001b[1;36m2.306\u001b[0m             Condition No.:               \u001b[2m            \u001b[0m\n",
       "\u001b[2;36m                    \u001b[0m         \u001b[1;36m29\u001b[0m                                                                        \u001b[2m            \u001b[0m\n",
       "\u001b[2;36m                    \u001b[0m         ========================================================================= \u001b[2m            \u001b[0m\n",
       "\u001b[2;36m                    \u001b[0m         =======                                                                   \u001b[2m            \u001b[0m\n",
       "\u001b[2;36m                    \u001b[0m                                                                                   \u001b[2m            \u001b[0m\n"
      ]
     },
     "metadata": {},
     "output_type": "display_data"
    },
    {
     "data": {
      "text/html": [
       "<pre style=\"white-space:pre;overflow-x:auto;line-height:normal;font-family:Menlo,'DejaVu Sans Mono',consolas,'Courier New',monospace\"><span style=\"color: #7fbfbf; text-decoration-color: #7fbfbf\">                    </span><span style=\"color: #000080; text-decoration-color: #000080\">INFO    </span> Regression:Circle fx                                                      <a href=\"file:///home/maa/dev/PHD/src/phd/pipelines/regression_VCT/nodes.py\" target=\"_blank\"><span style=\"color: #7f7f7f; text-decoration-color: #7f7f7f\">nodes.py</span></a><span style=\"color: #7f7f7f; text-decoration-color: #7f7f7f\">:</span><a href=\"file:///home/maa/dev/PHD/src/phd/pipelines/regression_VCT/nodes.py#549\" target=\"_blank\"><span style=\"color: #7f7f7f; text-decoration-color: #7f7f7f\">549</span></a>\n",
       "</pre>\n"
      ],
      "text/plain": [
       "\u001b[2;36m                   \u001b[0m\u001b[2;36m \u001b[0m\u001b[34mINFO    \u001b[0m Regression:Circle fx                                                      \u001b]8;id=773601;file:///home/maa/dev/PHD/src/phd/pipelines/regression_VCT/nodes.py\u001b\\\u001b[2mnodes.py\u001b[0m\u001b]8;;\u001b\\\u001b[2m:\u001b[0m\u001b]8;id=943648;file:///home/maa/dev/PHD/src/phd/pipelines/regression_VCT/nodes.py#549\u001b\\\u001b[2m549\u001b[0m\u001b]8;;\u001b\\\n"
      ]
     },
     "metadata": {},
     "output_type": "display_data"
    },
    {
     "data": {
      "text/html": [
       "<pre style=\"white-space:pre;overflow-x:auto;line-height:normal;font-family:Menlo,'DejaVu Sans Mono',consolas,'Courier New',monospace\"><span style=\"color: #7fbfbf; text-decoration-color: #7fbfbf\">                    </span><span style=\"color: #800000; text-decoration-color: #800000\">WARNING </span> <span style=\"color: #800080; text-decoration-color: #800080\">/home/maa/anaconda3/envs/phd/lib/python3.10/site-packages/statsmodels/</span> <a href=\"file:///home/maa/anaconda3/envs/phd/lib/python3.10/warnings.py\" target=\"_blank\"><span style=\"color: #7f7f7f; text-decoration-color: #7f7f7f\">warnings.py</span></a><span style=\"color: #7f7f7f; text-decoration-color: #7f7f7f\">:</span><a href=\"file:///home/maa/anaconda3/envs/phd/lib/python3.10/warnings.py#109\" target=\"_blank\"><span style=\"color: #7f7f7f; text-decoration-color: #7f7f7f\">109</span></a>\n",
       "<span style=\"color: #7fbfbf; text-decoration-color: #7fbfbf\">                    </span>         <span style=\"color: #800080; text-decoration-color: #800080\">stats/</span><span style=\"color: #ff00ff; text-decoration-color: #ff00ff\">stattools.py</span>:<span style=\"color: #008080; text-decoration-color: #008080; font-weight: bold\">74</span>: ValueWarning: omni_normtest is not valid with   <span style=\"color: #7f7f7f; text-decoration-color: #7f7f7f\">               </span>\n",
       "<span style=\"color: #7fbfbf; text-decoration-color: #7fbfbf\">                    </span>         less than <span style=\"color: #008080; text-decoration-color: #008080; font-weight: bold\">8</span> observations; <span style=\"color: #008080; text-decoration-color: #008080; font-weight: bold\">5</span> samples were given.                        <span style=\"color: #7f7f7f; text-decoration-color: #7f7f7f\">               </span>\n",
       "<span style=\"color: #7fbfbf; text-decoration-color: #7fbfbf\">                    </span>           <span style=\"color: #800080; text-decoration-color: #800080; font-weight: bold\">warn</span><span style=\"font-weight: bold\">(</span><span style=\"color: #008000; text-decoration-color: #008000\">\"omni_normtest is not valid with less than 8 observations; %i \"</span> <span style=\"color: #7f7f7f; text-decoration-color: #7f7f7f\">               </span>\n",
       "<span style=\"color: #7fbfbf; text-decoration-color: #7fbfbf\">                    </span>                                                                                <span style=\"color: #7f7f7f; text-decoration-color: #7f7f7f\">               </span>\n",
       "</pre>\n"
      ],
      "text/plain": [
       "\u001b[2;36m                   \u001b[0m\u001b[2;36m \u001b[0m\u001b[31mWARNING \u001b[0m \u001b[35m/home/maa/anaconda3/envs/phd/lib/python3.10/site-packages/statsmodels/\u001b[0m \u001b]8;id=389274;file:///home/maa/anaconda3/envs/phd/lib/python3.10/warnings.py\u001b\\\u001b[2mwarnings.py\u001b[0m\u001b]8;;\u001b\\\u001b[2m:\u001b[0m\u001b]8;id=427710;file:///home/maa/anaconda3/envs/phd/lib/python3.10/warnings.py#109\u001b\\\u001b[2m109\u001b[0m\u001b]8;;\u001b\\\n",
       "\u001b[2;36m                    \u001b[0m         \u001b[35mstats/\u001b[0m\u001b[95mstattools.py\u001b[0m:\u001b[1;36m74\u001b[0m: ValueWarning: omni_normtest is not valid with   \u001b[2m               \u001b[0m\n",
       "\u001b[2;36m                    \u001b[0m         less than \u001b[1;36m8\u001b[0m observations; \u001b[1;36m5\u001b[0m samples were given.                        \u001b[2m               \u001b[0m\n",
       "\u001b[2;36m                    \u001b[0m           \u001b[1;35mwarn\u001b[0m\u001b[1m(\u001b[0m\u001b[32m\"omni_normtest is not valid with less than 8 observations; %i \"\u001b[0m \u001b[2m               \u001b[0m\n",
       "\u001b[2;36m                    \u001b[0m                                                                                \u001b[2m               \u001b[0m\n"
      ]
     },
     "metadata": {},
     "output_type": "display_data"
    },
    {
     "data": {
      "text/html": [
       "<pre style=\"white-space:pre;overflow-x:auto;line-height:normal;font-family:Menlo,'DejaVu Sans Mono',consolas,'Courier New',monospace\"><span style=\"color: #7fbfbf; text-decoration-color: #7fbfbf\">                    </span><span style=\"color: #000080; text-decoration-color: #000080\">INFO    </span>                   Results: Ordinary least squares                         <a href=\"file:///home/maa/dev/PHD/src/phd/pipelines/regression_VCT/nodes.py\" target=\"_blank\"><span style=\"color: #7f7f7f; text-decoration-color: #7f7f7f\">nodes.py</span></a><span style=\"color: #7f7f7f; text-decoration-color: #7f7f7f\">:</span><a href=\"file:///home/maa/dev/PHD/src/phd/pipelines/regression_VCT/nodes.py#551\" target=\"_blank\"><span style=\"color: #7f7f7f; text-decoration-color: #7f7f7f\">551</span></a>\n",
       "<span style=\"color: #7fbfbf; text-decoration-color: #7fbfbf\">                    </span>         ===================================================================       <span style=\"color: #7f7f7f; text-decoration-color: #7f7f7f\">            </span>\n",
       "<span style=\"color: #7fbfbf; text-decoration-color: #7fbfbf\">                    </span>         Model:              OLS              Adj. R-squared:     <span style=\"color: #008080; text-decoration-color: #008080; font-weight: bold\">0.955</span>            <span style=\"color: #7f7f7f; text-decoration-color: #7f7f7f\">            </span>\n",
       "<span style=\"color: #7fbfbf; text-decoration-color: #7fbfbf\">                    </span>         Dependent Variable: X_H              AIC:                <span style=\"color: #008080; text-decoration-color: #008080; font-weight: bold\">-90.4591</span>         <span style=\"color: #7f7f7f; text-decoration-color: #7f7f7f\">            </span>\n",
       "<span style=\"color: #7fbfbf; text-decoration-color: #7fbfbf\">                    </span>         Date:               <span style=\"color: #008080; text-decoration-color: #008080; font-weight: bold\">2024</span>-<span style=\"color: #008080; text-decoration-color: #008080; font-weight: bold\">01</span>-<span style=\"color: #008080; text-decoration-color: #008080; font-weight: bold\">10</span> <span style=\"color: #00ff00; text-decoration-color: #00ff00; font-weight: bold\">14:16</span> BIC:                <span style=\"color: #008080; text-decoration-color: #008080; font-weight: bold\">-91.2402</span>         <span style=\"color: #7f7f7f; text-decoration-color: #7f7f7f\">            </span>\n",
       "<span style=\"color: #7fbfbf; text-decoration-color: #7fbfbf\">                    </span>         No. Observations:   <span style=\"color: #008080; text-decoration-color: #008080; font-weight: bold\">5</span>                Log-Likelihood:     <span style=\"color: #008080; text-decoration-color: #008080; font-weight: bold\">47.230</span>           <span style=\"color: #7f7f7f; text-decoration-color: #7f7f7f\">            </span>\n",
       "<span style=\"color: #7fbfbf; text-decoration-color: #7fbfbf\">                    </span>         Df Model:           <span style=\"color: #008080; text-decoration-color: #008080; font-weight: bold\">1</span>                F-statistic:        <span style=\"color: #008080; text-decoration-color: #008080; font-weight: bold\">86.16</span>            <span style=\"color: #7f7f7f; text-decoration-color: #7f7f7f\">            </span>\n",
       "<span style=\"color: #7fbfbf; text-decoration-color: #7fbfbf\">                    </span>         Df Residuals:       <span style=\"color: #008080; text-decoration-color: #008080; font-weight: bold\">3</span>                Prob <span style=\"font-weight: bold\">(</span>F-statistic<span style=\"font-weight: bold\">)</span>: <span style=\"color: #008080; text-decoration-color: #008080; font-weight: bold\">0.00265</span>          <span style=\"color: #7f7f7f; text-decoration-color: #7f7f7f\">            </span>\n",
       "<span style=\"color: #7fbfbf; text-decoration-color: #7fbfbf\">                    </span>         R-squared:          <span style=\"color: #008080; text-decoration-color: #008080; font-weight: bold\">0.966</span>            Scale:              <span style=\"color: #008080; text-decoration-color: #008080; font-weight: bold\">6.0920e-10</span>       <span style=\"color: #7f7f7f; text-decoration-color: #7f7f7f\">            </span>\n",
       "<span style=\"color: #7fbfbf; text-decoration-color: #7fbfbf\">                    </span>         ---------------------------------------------------------------------     <span style=\"color: #7f7f7f; text-decoration-color: #7f7f7f\">            </span>\n",
       "<span style=\"color: #7fbfbf; text-decoration-color: #7fbfbf\">                    </span>                      Coef.    Std.Err.      t      P&gt;|t|     <span style=\"font-weight: bold\">[</span><span style=\"color: #008080; text-decoration-color: #008080; font-weight: bold\">0.025</span>    <span style=\"color: #008080; text-decoration-color: #008080; font-weight: bold\">0.975</span><span style=\"font-weight: bold\">]</span>     <span style=\"color: #7f7f7f; text-decoration-color: #7f7f7f\">            </span>\n",
       "<span style=\"color: #7fbfbf; text-decoration-color: #7fbfbf\">                    </span>         ---------------------------------------------------------------------     <span style=\"color: #7f7f7f; text-decoration-color: #7f7f7f\">            </span>\n",
       "<span style=\"color: #7fbfbf; text-decoration-color: #7fbfbf\">                    </span>         Xrr         <span style=\"color: #008080; text-decoration-color: #008080; font-weight: bold\">-0.0007</span>     <span style=\"color: #008080; text-decoration-color: #008080; font-weight: bold\">0.0001</span>   <span style=\"color: #008080; text-decoration-color: #008080; font-weight: bold\">-9.2825</span>   <span style=\"color: #008080; text-decoration-color: #008080; font-weight: bold\">0.0026</span>   <span style=\"color: #008080; text-decoration-color: #008080; font-weight: bold\">-0.0009</span>   <span style=\"color: #008080; text-decoration-color: #008080; font-weight: bold\">-0.0004</span>     <span style=\"color: #7f7f7f; text-decoration-color: #7f7f7f\">            </span>\n",
       "<span style=\"color: #7fbfbf; text-decoration-color: #7fbfbf\">                    </span>         const        <span style=\"color: #008080; text-decoration-color: #008080; font-weight: bold\">0.0000</span>     <span style=\"color: #008080; text-decoration-color: #008080; font-weight: bold\">0.0000</span>    <span style=\"color: #008080; text-decoration-color: #008080; font-weight: bold\">1.0544</span>   <span style=\"color: #008080; text-decoration-color: #008080; font-weight: bold\">0.3691</span>   <span style=\"color: #008080; text-decoration-color: #008080; font-weight: bold\">-0.0000</span>    <span style=\"color: #008080; text-decoration-color: #008080; font-weight: bold\">0.0001</span>     <span style=\"color: #7f7f7f; text-decoration-color: #7f7f7f\">            </span>\n",
       "<span style=\"color: #7fbfbf; text-decoration-color: #7fbfbf\">                    </span>         -------------------------------------------------------------------       <span style=\"color: #7f7f7f; text-decoration-color: #7f7f7f\">            </span>\n",
       "<span style=\"color: #7fbfbf; text-decoration-color: #7fbfbf\">                    </span>         Omnibus:                nan          Durbin-Watson:           <span style=\"color: #008080; text-decoration-color: #008080; font-weight: bold\">1.772</span>       <span style=\"color: #7f7f7f; text-decoration-color: #7f7f7f\">            </span>\n",
       "<span style=\"color: #7fbfbf; text-decoration-color: #7fbfbf\">                    </span>         <span style=\"color: #800080; text-decoration-color: #800080; font-weight: bold\">Prob</span><span style=\"font-weight: bold\">(</span>Omnibus<span style=\"font-weight: bold\">)</span>:          nan          Jarque-Bera <span style=\"font-weight: bold\">(</span>JB<span style=\"font-weight: bold\">)</span>:        <span style=\"color: #008080; text-decoration-color: #008080; font-weight: bold\">0.410</span>       <span style=\"color: #7f7f7f; text-decoration-color: #7f7f7f\">            </span>\n",
       "<span style=\"color: #7fbfbf; text-decoration-color: #7fbfbf\">                    </span>         Skew:                   <span style=\"color: #008080; text-decoration-color: #008080; font-weight: bold\">0.192</span>        <span style=\"color: #800080; text-decoration-color: #800080; font-weight: bold\">Prob</span><span style=\"font-weight: bold\">(</span>JB<span style=\"font-weight: bold\">)</span>:                <span style=\"color: #008080; text-decoration-color: #008080; font-weight: bold\">0.815</span>       <span style=\"color: #7f7f7f; text-decoration-color: #7f7f7f\">            </span>\n",
       "<span style=\"color: #7fbfbf; text-decoration-color: #7fbfbf\">                    </span>         Kurtosis:               <span style=\"color: #008080; text-decoration-color: #008080; font-weight: bold\">1.650</span>        Condition No.:           <span style=\"color: #008080; text-decoration-color: #008080; font-weight: bold\">7</span>           <span style=\"color: #7f7f7f; text-decoration-color: #7f7f7f\">            </span>\n",
       "<span style=\"color: #7fbfbf; text-decoration-color: #7fbfbf\">                    </span>         ===================================================================       <span style=\"color: #7f7f7f; text-decoration-color: #7f7f7f\">            </span>\n",
       "<span style=\"color: #7fbfbf; text-decoration-color: #7fbfbf\">                    </span>                                                                                   <span style=\"color: #7f7f7f; text-decoration-color: #7f7f7f\">            </span>\n",
       "</pre>\n"
      ],
      "text/plain": [
       "\u001b[2;36m                   \u001b[0m\u001b[2;36m \u001b[0m\u001b[34mINFO    \u001b[0m                   Results: Ordinary least squares                         \u001b]8;id=263236;file:///home/maa/dev/PHD/src/phd/pipelines/regression_VCT/nodes.py\u001b\\\u001b[2mnodes.py\u001b[0m\u001b]8;;\u001b\\\u001b[2m:\u001b[0m\u001b]8;id=40783;file:///home/maa/dev/PHD/src/phd/pipelines/regression_VCT/nodes.py#551\u001b\\\u001b[2m551\u001b[0m\u001b]8;;\u001b\\\n",
       "\u001b[2;36m                    \u001b[0m         ===================================================================       \u001b[2m            \u001b[0m\n",
       "\u001b[2;36m                    \u001b[0m         Model:              OLS              Adj. R-squared:     \u001b[1;36m0.955\u001b[0m            \u001b[2m            \u001b[0m\n",
       "\u001b[2;36m                    \u001b[0m         Dependent Variable: X_H              AIC:                \u001b[1;36m-90.4591\u001b[0m         \u001b[2m            \u001b[0m\n",
       "\u001b[2;36m                    \u001b[0m         Date:               \u001b[1;36m2024\u001b[0m-\u001b[1;36m01\u001b[0m-\u001b[1;36m10\u001b[0m \u001b[1;92m14:16\u001b[0m BIC:                \u001b[1;36m-91.2402\u001b[0m         \u001b[2m            \u001b[0m\n",
       "\u001b[2;36m                    \u001b[0m         No. Observations:   \u001b[1;36m5\u001b[0m                Log-Likelihood:     \u001b[1;36m47.230\u001b[0m           \u001b[2m            \u001b[0m\n",
       "\u001b[2;36m                    \u001b[0m         Df Model:           \u001b[1;36m1\u001b[0m                F-statistic:        \u001b[1;36m86.16\u001b[0m            \u001b[2m            \u001b[0m\n",
       "\u001b[2;36m                    \u001b[0m         Df Residuals:       \u001b[1;36m3\u001b[0m                Prob \u001b[1m(\u001b[0mF-statistic\u001b[1m)\u001b[0m: \u001b[1;36m0.00265\u001b[0m          \u001b[2m            \u001b[0m\n",
       "\u001b[2;36m                    \u001b[0m         R-squared:          \u001b[1;36m0.966\u001b[0m            Scale:              \u001b[1;36m6.0920e-10\u001b[0m       \u001b[2m            \u001b[0m\n",
       "\u001b[2;36m                    \u001b[0m         ---------------------------------------------------------------------     \u001b[2m            \u001b[0m\n",
       "\u001b[2;36m                    \u001b[0m                      Coef.    Std.Err.      t      P>|t|     \u001b[1m[\u001b[0m\u001b[1;36m0.025\u001b[0m    \u001b[1;36m0.975\u001b[0m\u001b[1m]\u001b[0m     \u001b[2m            \u001b[0m\n",
       "\u001b[2;36m                    \u001b[0m         ---------------------------------------------------------------------     \u001b[2m            \u001b[0m\n",
       "\u001b[2;36m                    \u001b[0m         Xrr         \u001b[1;36m-0.0007\u001b[0m     \u001b[1;36m0.0001\u001b[0m   \u001b[1;36m-9.2825\u001b[0m   \u001b[1;36m0.0026\u001b[0m   \u001b[1;36m-0.0009\u001b[0m   \u001b[1;36m-0.0004\u001b[0m     \u001b[2m            \u001b[0m\n",
       "\u001b[2;36m                    \u001b[0m         const        \u001b[1;36m0.0000\u001b[0m     \u001b[1;36m0.0000\u001b[0m    \u001b[1;36m1.0544\u001b[0m   \u001b[1;36m0.3691\u001b[0m   \u001b[1;36m-0.0000\u001b[0m    \u001b[1;36m0.0001\u001b[0m     \u001b[2m            \u001b[0m\n",
       "\u001b[2;36m                    \u001b[0m         -------------------------------------------------------------------       \u001b[2m            \u001b[0m\n",
       "\u001b[2;36m                    \u001b[0m         Omnibus:                nan          Durbin-Watson:           \u001b[1;36m1.772\u001b[0m       \u001b[2m            \u001b[0m\n",
       "\u001b[2;36m                    \u001b[0m         \u001b[1;35mProb\u001b[0m\u001b[1m(\u001b[0mOmnibus\u001b[1m)\u001b[0m:          nan          Jarque-Bera \u001b[1m(\u001b[0mJB\u001b[1m)\u001b[0m:        \u001b[1;36m0.410\u001b[0m       \u001b[2m            \u001b[0m\n",
       "\u001b[2;36m                    \u001b[0m         Skew:                   \u001b[1;36m0.192\u001b[0m        \u001b[1;35mProb\u001b[0m\u001b[1m(\u001b[0mJB\u001b[1m)\u001b[0m:                \u001b[1;36m0.815\u001b[0m       \u001b[2m            \u001b[0m\n",
       "\u001b[2;36m                    \u001b[0m         Kurtosis:               \u001b[1;36m1.650\u001b[0m        Condition No.:           \u001b[1;36m7\u001b[0m           \u001b[2m            \u001b[0m\n",
       "\u001b[2;36m                    \u001b[0m         ===================================================================       \u001b[2m            \u001b[0m\n",
       "\u001b[2;36m                    \u001b[0m                                                                                   \u001b[2m            \u001b[0m\n"
      ]
     },
     "metadata": {},
     "output_type": "display_data"
    },
    {
     "data": {
      "text/html": [
       "<pre style=\"white-space:pre;overflow-x:auto;line-height:normal;font-family:Menlo,'DejaVu Sans Mono',consolas,'Courier New',monospace\"><span style=\"color: #7fbfbf; text-decoration-color: #7fbfbf\">                    </span><span style=\"color: #000080; text-decoration-color: #000080\">INFO    </span> Regression:Circle fy                                                      <a href=\"file:///home/maa/dev/PHD/src/phd/pipelines/regression_VCT/nodes.py\" target=\"_blank\"><span style=\"color: #7f7f7f; text-decoration-color: #7f7f7f\">nodes.py</span></a><span style=\"color: #7f7f7f; text-decoration-color: #7f7f7f\">:</span><a href=\"file:///home/maa/dev/PHD/src/phd/pipelines/regression_VCT/nodes.py#549\" target=\"_blank\"><span style=\"color: #7f7f7f; text-decoration-color: #7f7f7f\">549</span></a>\n",
       "</pre>\n"
      ],
      "text/plain": [
       "\u001b[2;36m                   \u001b[0m\u001b[2;36m \u001b[0m\u001b[34mINFO    \u001b[0m Regression:Circle fy                                                      \u001b]8;id=142093;file:///home/maa/dev/PHD/src/phd/pipelines/regression_VCT/nodes.py\u001b\\\u001b[2mnodes.py\u001b[0m\u001b]8;;\u001b\\\u001b[2m:\u001b[0m\u001b]8;id=277512;file:///home/maa/dev/PHD/src/phd/pipelines/regression_VCT/nodes.py#549\u001b\\\u001b[2m549\u001b[0m\u001b]8;;\u001b\\\n"
      ]
     },
     "metadata": {},
     "output_type": "display_data"
    },
    {
     "data": {
      "text/html": [
       "<pre style=\"white-space:pre;overflow-x:auto;line-height:normal;font-family:Menlo,'DejaVu Sans Mono',consolas,'Courier New',monospace\"><span style=\"color: #7fbfbf; text-decoration-color: #7fbfbf\">                    </span><span style=\"color: #800000; text-decoration-color: #800000\">WARNING </span> <span style=\"color: #800080; text-decoration-color: #800080\">/home/maa/anaconda3/envs/phd/lib/python3.10/site-packages/statsmodels/</span> <a href=\"file:///home/maa/anaconda3/envs/phd/lib/python3.10/warnings.py\" target=\"_blank\"><span style=\"color: #7f7f7f; text-decoration-color: #7f7f7f\">warnings.py</span></a><span style=\"color: #7f7f7f; text-decoration-color: #7f7f7f\">:</span><a href=\"file:///home/maa/anaconda3/envs/phd/lib/python3.10/warnings.py#109\" target=\"_blank\"><span style=\"color: #7f7f7f; text-decoration-color: #7f7f7f\">109</span></a>\n",
       "<span style=\"color: #7fbfbf; text-decoration-color: #7fbfbf\">                    </span>         <span style=\"color: #800080; text-decoration-color: #800080\">stats/</span><span style=\"color: #ff00ff; text-decoration-color: #ff00ff\">stattools.py</span>:<span style=\"color: #008080; text-decoration-color: #008080; font-weight: bold\">74</span>: ValueWarning: omni_normtest is not valid with   <span style=\"color: #7f7f7f; text-decoration-color: #7f7f7f\">               </span>\n",
       "<span style=\"color: #7fbfbf; text-decoration-color: #7fbfbf\">                    </span>         less than <span style=\"color: #008080; text-decoration-color: #008080; font-weight: bold\">8</span> observations; <span style=\"color: #008080; text-decoration-color: #008080; font-weight: bold\">5</span> samples were given.                        <span style=\"color: #7f7f7f; text-decoration-color: #7f7f7f\">               </span>\n",
       "<span style=\"color: #7fbfbf; text-decoration-color: #7fbfbf\">                    </span>           <span style=\"color: #800080; text-decoration-color: #800080; font-weight: bold\">warn</span><span style=\"font-weight: bold\">(</span><span style=\"color: #008000; text-decoration-color: #008000\">\"omni_normtest is not valid with less than 8 observations; %i \"</span> <span style=\"color: #7f7f7f; text-decoration-color: #7f7f7f\">               </span>\n",
       "<span style=\"color: #7fbfbf; text-decoration-color: #7fbfbf\">                    </span>                                                                                <span style=\"color: #7f7f7f; text-decoration-color: #7f7f7f\">               </span>\n",
       "</pre>\n"
      ],
      "text/plain": [
       "\u001b[2;36m                   \u001b[0m\u001b[2;36m \u001b[0m\u001b[31mWARNING \u001b[0m \u001b[35m/home/maa/anaconda3/envs/phd/lib/python3.10/site-packages/statsmodels/\u001b[0m \u001b]8;id=986806;file:///home/maa/anaconda3/envs/phd/lib/python3.10/warnings.py\u001b\\\u001b[2mwarnings.py\u001b[0m\u001b]8;;\u001b\\\u001b[2m:\u001b[0m\u001b]8;id=909582;file:///home/maa/anaconda3/envs/phd/lib/python3.10/warnings.py#109\u001b\\\u001b[2m109\u001b[0m\u001b]8;;\u001b\\\n",
       "\u001b[2;36m                    \u001b[0m         \u001b[35mstats/\u001b[0m\u001b[95mstattools.py\u001b[0m:\u001b[1;36m74\u001b[0m: ValueWarning: omni_normtest is not valid with   \u001b[2m               \u001b[0m\n",
       "\u001b[2;36m                    \u001b[0m         less than \u001b[1;36m8\u001b[0m observations; \u001b[1;36m5\u001b[0m samples were given.                        \u001b[2m               \u001b[0m\n",
       "\u001b[2;36m                    \u001b[0m           \u001b[1;35mwarn\u001b[0m\u001b[1m(\u001b[0m\u001b[32m\"omni_normtest is not valid with less than 8 observations; %i \"\u001b[0m \u001b[2m               \u001b[0m\n",
       "\u001b[2;36m                    \u001b[0m                                                                                \u001b[2m               \u001b[0m\n"
      ]
     },
     "metadata": {},
     "output_type": "display_data"
    },
    {
     "data": {
      "text/html": [
       "<pre style=\"white-space:pre;overflow-x:auto;line-height:normal;font-family:Menlo,'DejaVu Sans Mono',consolas,'Courier New',monospace\"><span style=\"color: #7fbfbf; text-decoration-color: #7fbfbf\">                    </span><span style=\"color: #000080; text-decoration-color: #000080\">INFO    </span>                         Results: Ordinary least squares                   <a href=\"file:///home/maa/dev/PHD/src/phd/pipelines/regression_VCT/nodes.py\" target=\"_blank\"><span style=\"color: #7f7f7f; text-decoration-color: #7f7f7f\">nodes.py</span></a><span style=\"color: #7f7f7f; text-decoration-color: #7f7f7f\">:</span><a href=\"file:///home/maa/dev/PHD/src/phd/pipelines/regression_VCT/nodes.py#551\" target=\"_blank\"><span style=\"color: #7f7f7f; text-decoration-color: #7f7f7f\">551</span></a>\n",
       "<span style=\"color: #7fbfbf; text-decoration-color: #7fbfbf\">                    </span>         ========================================================================= <span style=\"color: #7f7f7f; text-decoration-color: #7f7f7f\">            </span>\n",
       "<span style=\"color: #7fbfbf; text-decoration-color: #7fbfbf\">                    </span>         =======                                                                   <span style=\"color: #7f7f7f; text-decoration-color: #7f7f7f\">            </span>\n",
       "<span style=\"color: #7fbfbf; text-decoration-color: #7fbfbf\">                    </span>         Model:                  OLS              Adj. R-squared <span style=\"font-weight: bold\">(</span>uncentered<span style=\"font-weight: bold\">)</span>:     <span style=\"color: #7f7f7f; text-decoration-color: #7f7f7f\">            </span>\n",
       "<span style=\"color: #7fbfbf; text-decoration-color: #7fbfbf\">                    </span>         <span style=\"color: #008080; text-decoration-color: #008080; font-weight: bold\">0.966</span>                                                                     <span style=\"color: #7f7f7f; text-decoration-color: #7f7f7f\">            </span>\n",
       "<span style=\"color: #7fbfbf; text-decoration-color: #7fbfbf\">                    </span>         Dependent Variable:     Y_H              AIC:                             <span style=\"color: #7f7f7f; text-decoration-color: #7f7f7f\">            </span>\n",
       "<span style=\"color: #7fbfbf; text-decoration-color: #7fbfbf\">                    </span>         <span style=\"color: #008080; text-decoration-color: #008080; font-weight: bold\">-81.4998</span>                                                                  <span style=\"color: #7f7f7f; text-decoration-color: #7f7f7f\">            </span>\n",
       "<span style=\"color: #7fbfbf; text-decoration-color: #7fbfbf\">                    </span>         Date:                   <span style=\"color: #008080; text-decoration-color: #008080; font-weight: bold\">2024</span>-<span style=\"color: #008080; text-decoration-color: #008080; font-weight: bold\">01</span>-<span style=\"color: #008080; text-decoration-color: #008080; font-weight: bold\">10</span> <span style=\"color: #00ff00; text-decoration-color: #00ff00; font-weight: bold\">14:16</span> BIC:                             <span style=\"color: #7f7f7f; text-decoration-color: #7f7f7f\">            </span>\n",
       "<span style=\"color: #7fbfbf; text-decoration-color: #7fbfbf\">                    </span>         <span style=\"color: #008080; text-decoration-color: #008080; font-weight: bold\">-82.2809</span>                                                                  <span style=\"color: #7f7f7f; text-decoration-color: #7f7f7f\">            </span>\n",
       "<span style=\"color: #7fbfbf; text-decoration-color: #7fbfbf\">                    </span>         No. Observations:       <span style=\"color: #008080; text-decoration-color: #008080; font-weight: bold\">5</span>                Log-Likelihood:                  <span style=\"color: #7f7f7f; text-decoration-color: #7f7f7f\">            </span>\n",
       "<span style=\"color: #7fbfbf; text-decoration-color: #7fbfbf\">                    </span>         <span style=\"color: #008080; text-decoration-color: #008080; font-weight: bold\">42.750</span>                                                                    <span style=\"color: #7f7f7f; text-decoration-color: #7f7f7f\">            </span>\n",
       "<span style=\"color: #7fbfbf; text-decoration-color: #7fbfbf\">                    </span>         Df Model:               <span style=\"color: #008080; text-decoration-color: #008080; font-weight: bold\">2</span>                F-statistic:                     <span style=\"color: #7f7f7f; text-decoration-color: #7f7f7f\">            </span>\n",
       "<span style=\"color: #7fbfbf; text-decoration-color: #7fbfbf\">                    </span>         <span style=\"color: #008080; text-decoration-color: #008080; font-weight: bold\">71.18</span>                                                                     <span style=\"color: #7f7f7f; text-decoration-color: #7f7f7f\">            </span>\n",
       "<span style=\"color: #7fbfbf; text-decoration-color: #7fbfbf\">                    </span>         Df Residuals:           <span style=\"color: #008080; text-decoration-color: #008080; font-weight: bold\">3</span>                Prob <span style=\"font-weight: bold\">(</span>F-statistic<span style=\"font-weight: bold\">)</span>:              <span style=\"color: #7f7f7f; text-decoration-color: #7f7f7f\">            </span>\n",
       "<span style=\"color: #7fbfbf; text-decoration-color: #7fbfbf\">                    </span>         <span style=\"color: #008080; text-decoration-color: #008080; font-weight: bold\">0.00297</span>                                                                   <span style=\"color: #7f7f7f; text-decoration-color: #7f7f7f\">            </span>\n",
       "<span style=\"color: #7fbfbf; text-decoration-color: #7fbfbf\">                    </span>         R-squared <span style=\"font-weight: bold\">(</span>uncentered<span style=\"font-weight: bold\">)</span>: <span style=\"color: #008080; text-decoration-color: #008080; font-weight: bold\">0.979</span>            Scale:                           <span style=\"color: #7f7f7f; text-decoration-color: #7f7f7f\">            </span>\n",
       "<span style=\"color: #7fbfbf; text-decoration-color: #7fbfbf\">                    </span>         <span style=\"color: #008080; text-decoration-color: #008080; font-weight: bold\">3.6556e-09</span>                                                                <span style=\"color: #7f7f7f; text-decoration-color: #7f7f7f\">            </span>\n",
       "<span style=\"color: #7fbfbf; text-decoration-color: #7fbfbf\">                    </span>         ------------------------------------------------------------------------- <span style=\"color: #7f7f7f; text-decoration-color: #7f7f7f\">            </span>\n",
       "<span style=\"color: #7fbfbf; text-decoration-color: #7fbfbf\">                    </span>         ------------                                                              <span style=\"color: #7f7f7f; text-decoration-color: #7f7f7f\">            </span>\n",
       "<span style=\"color: #7fbfbf; text-decoration-color: #7fbfbf\">                    </span>                      Coef.       Std.Err.         t          P&gt;|t|        <span style=\"font-weight: bold\">[</span><span style=\"color: #008080; text-decoration-color: #008080; font-weight: bold\">0.025</span>  <span style=\"color: #7f7f7f; text-decoration-color: #7f7f7f\">            </span>\n",
       "<span style=\"color: #7fbfbf; text-decoration-color: #7fbfbf\">                    </span>         <span style=\"color: #008080; text-decoration-color: #008080; font-weight: bold\">0.975</span><span style=\"font-weight: bold\">]</span>                                                                    <span style=\"color: #7f7f7f; text-decoration-color: #7f7f7f\">            </span>\n",
       "<span style=\"color: #7fbfbf; text-decoration-color: #7fbfbf\">                    </span>         ------------------------------------------------------------------------- <span style=\"color: #7f7f7f; text-decoration-color: #7f7f7f\">            </span>\n",
       "<span style=\"color: #7fbfbf; text-decoration-color: #7fbfbf\">                    </span>         ------------                                                              <span style=\"color: #7f7f7f; text-decoration-color: #7f7f7f\">            </span>\n",
       "<span style=\"color: #7fbfbf; text-decoration-color: #7fbfbf\">                    </span>         Yrrr        <span style=\"color: #008080; text-decoration-color: #008080; font-weight: bold\">-0.0046</span>        <span style=\"color: #008080; text-decoration-color: #008080; font-weight: bold\">0.0004</span>      <span style=\"color: #008080; text-decoration-color: #008080; font-weight: bold\">-10.4440</span>      <span style=\"color: #008080; text-decoration-color: #008080; font-weight: bold\">0.0019</span>      <span style=\"color: #008080; text-decoration-color: #008080; font-weight: bold\">-0.0061</span>  <span style=\"color: #7f7f7f; text-decoration-color: #7f7f7f\">            </span>\n",
       "<span style=\"color: #7fbfbf; text-decoration-color: #7fbfbf\">                    </span>         <span style=\"color: #008080; text-decoration-color: #008080; font-weight: bold\">-0.0032</span>                                                                   <span style=\"color: #7f7f7f; text-decoration-color: #7f7f7f\">            </span>\n",
       "<span style=\"color: #7fbfbf; text-decoration-color: #7fbfbf\">                    </span>         Yr           <span style=\"color: #008080; text-decoration-color: #008080; font-weight: bold\">0.0011</span>        <span style=\"color: #008080; text-decoration-color: #008080; font-weight: bold\">0.0002</span>        <span style=\"color: #008080; text-decoration-color: #008080; font-weight: bold\">7.0585</span>      <span style=\"color: #008080; text-decoration-color: #008080; font-weight: bold\">0.0058</span>       <span style=\"color: #008080; text-decoration-color: #008080; font-weight: bold\">0.0006</span>  <span style=\"color: #7f7f7f; text-decoration-color: #7f7f7f\">            </span>\n",
       "<span style=\"color: #7fbfbf; text-decoration-color: #7fbfbf\">                    </span>         <span style=\"color: #008080; text-decoration-color: #008080; font-weight: bold\">0.0016</span>                                                                    <span style=\"color: #7f7f7f; text-decoration-color: #7f7f7f\">            </span>\n",
       "<span style=\"color: #7fbfbf; text-decoration-color: #7fbfbf\">                    </span>         ------------------------------------------------------------------------- <span style=\"color: #7f7f7f; text-decoration-color: #7f7f7f\">            </span>\n",
       "<span style=\"color: #7fbfbf; text-decoration-color: #7fbfbf\">                    </span>         -------                                                                   <span style=\"color: #7f7f7f; text-decoration-color: #7f7f7f\">            </span>\n",
       "<span style=\"color: #7fbfbf; text-decoration-color: #7fbfbf\">                    </span>         Omnibus:                    nan               Durbin-Watson:              <span style=\"color: #7f7f7f; text-decoration-color: #7f7f7f\">            </span>\n",
       "<span style=\"color: #7fbfbf; text-decoration-color: #7fbfbf\">                    </span>         <span style=\"color: #008080; text-decoration-color: #008080; font-weight: bold\">2.085</span>                                                                     <span style=\"color: #7f7f7f; text-decoration-color: #7f7f7f\">            </span>\n",
       "<span style=\"color: #7fbfbf; text-decoration-color: #7fbfbf\">                    </span>         <span style=\"color: #800080; text-decoration-color: #800080; font-weight: bold\">Prob</span><span style=\"font-weight: bold\">(</span>Omnibus<span style=\"font-weight: bold\">)</span>:              nan               Jarque-Bera <span style=\"font-weight: bold\">(</span>JB<span style=\"font-weight: bold\">)</span>:           <span style=\"color: #7f7f7f; text-decoration-color: #7f7f7f\">            </span>\n",
       "<span style=\"color: #7fbfbf; text-decoration-color: #7fbfbf\">                    </span>         <span style=\"color: #008080; text-decoration-color: #008080; font-weight: bold\">1.584</span>                                                                     <span style=\"color: #7f7f7f; text-decoration-color: #7f7f7f\">            </span>\n",
       "<span style=\"color: #7fbfbf; text-decoration-color: #7fbfbf\">                    </span>         Skew:                       <span style=\"color: #008080; text-decoration-color: #008080; font-weight: bold\">-1.378</span>            <span style=\"color: #800080; text-decoration-color: #800080; font-weight: bold\">Prob</span><span style=\"font-weight: bold\">(</span>JB<span style=\"font-weight: bold\">)</span>:                   <span style=\"color: #7f7f7f; text-decoration-color: #7f7f7f\">            </span>\n",
       "<span style=\"color: #7fbfbf; text-decoration-color: #7fbfbf\">                    </span>         <span style=\"color: #008080; text-decoration-color: #008080; font-weight: bold\">0.453</span>                                                                     <span style=\"color: #7f7f7f; text-decoration-color: #7f7f7f\">            </span>\n",
       "<span style=\"color: #7fbfbf; text-decoration-color: #7fbfbf\">                    </span>         Kurtosis:                   <span style=\"color: #008080; text-decoration-color: #008080; font-weight: bold\">3.081</span>             Condition No.:              <span style=\"color: #7f7f7f; text-decoration-color: #7f7f7f\">            </span>\n",
       "<span style=\"color: #7fbfbf; text-decoration-color: #7fbfbf\">                    </span>         <span style=\"color: #008080; text-decoration-color: #008080; font-weight: bold\">8</span>                                                                         <span style=\"color: #7f7f7f; text-decoration-color: #7f7f7f\">            </span>\n",
       "<span style=\"color: #7fbfbf; text-decoration-color: #7fbfbf\">                    </span>         ========================================================================= <span style=\"color: #7f7f7f; text-decoration-color: #7f7f7f\">            </span>\n",
       "<span style=\"color: #7fbfbf; text-decoration-color: #7fbfbf\">                    </span>         =======                                                                   <span style=\"color: #7f7f7f; text-decoration-color: #7f7f7f\">            </span>\n",
       "<span style=\"color: #7fbfbf; text-decoration-color: #7fbfbf\">                    </span>                                                                                   <span style=\"color: #7f7f7f; text-decoration-color: #7f7f7f\">            </span>\n",
       "</pre>\n"
      ],
      "text/plain": [
       "\u001b[2;36m                   \u001b[0m\u001b[2;36m \u001b[0m\u001b[34mINFO    \u001b[0m                         Results: Ordinary least squares                   \u001b]8;id=618362;file:///home/maa/dev/PHD/src/phd/pipelines/regression_VCT/nodes.py\u001b\\\u001b[2mnodes.py\u001b[0m\u001b]8;;\u001b\\\u001b[2m:\u001b[0m\u001b]8;id=233726;file:///home/maa/dev/PHD/src/phd/pipelines/regression_VCT/nodes.py#551\u001b\\\u001b[2m551\u001b[0m\u001b]8;;\u001b\\\n",
       "\u001b[2;36m                    \u001b[0m         ========================================================================= \u001b[2m            \u001b[0m\n",
       "\u001b[2;36m                    \u001b[0m         =======                                                                   \u001b[2m            \u001b[0m\n",
       "\u001b[2;36m                    \u001b[0m         Model:                  OLS              Adj. R-squared \u001b[1m(\u001b[0muncentered\u001b[1m)\u001b[0m:     \u001b[2m            \u001b[0m\n",
       "\u001b[2;36m                    \u001b[0m         \u001b[1;36m0.966\u001b[0m                                                                     \u001b[2m            \u001b[0m\n",
       "\u001b[2;36m                    \u001b[0m         Dependent Variable:     Y_H              AIC:                             \u001b[2m            \u001b[0m\n",
       "\u001b[2;36m                    \u001b[0m         \u001b[1;36m-81.4998\u001b[0m                                                                  \u001b[2m            \u001b[0m\n",
       "\u001b[2;36m                    \u001b[0m         Date:                   \u001b[1;36m2024\u001b[0m-\u001b[1;36m01\u001b[0m-\u001b[1;36m10\u001b[0m \u001b[1;92m14:16\u001b[0m BIC:                             \u001b[2m            \u001b[0m\n",
       "\u001b[2;36m                    \u001b[0m         \u001b[1;36m-82.2809\u001b[0m                                                                  \u001b[2m            \u001b[0m\n",
       "\u001b[2;36m                    \u001b[0m         No. Observations:       \u001b[1;36m5\u001b[0m                Log-Likelihood:                  \u001b[2m            \u001b[0m\n",
       "\u001b[2;36m                    \u001b[0m         \u001b[1;36m42.750\u001b[0m                                                                    \u001b[2m            \u001b[0m\n",
       "\u001b[2;36m                    \u001b[0m         Df Model:               \u001b[1;36m2\u001b[0m                F-statistic:                     \u001b[2m            \u001b[0m\n",
       "\u001b[2;36m                    \u001b[0m         \u001b[1;36m71.18\u001b[0m                                                                     \u001b[2m            \u001b[0m\n",
       "\u001b[2;36m                    \u001b[0m         Df Residuals:           \u001b[1;36m3\u001b[0m                Prob \u001b[1m(\u001b[0mF-statistic\u001b[1m)\u001b[0m:              \u001b[2m            \u001b[0m\n",
       "\u001b[2;36m                    \u001b[0m         \u001b[1;36m0.00297\u001b[0m                                                                   \u001b[2m            \u001b[0m\n",
       "\u001b[2;36m                    \u001b[0m         R-squared \u001b[1m(\u001b[0muncentered\u001b[1m)\u001b[0m: \u001b[1;36m0.979\u001b[0m            Scale:                           \u001b[2m            \u001b[0m\n",
       "\u001b[2;36m                    \u001b[0m         \u001b[1;36m3.6556e-09\u001b[0m                                                                \u001b[2m            \u001b[0m\n",
       "\u001b[2;36m                    \u001b[0m         ------------------------------------------------------------------------- \u001b[2m            \u001b[0m\n",
       "\u001b[2;36m                    \u001b[0m         ------------                                                              \u001b[2m            \u001b[0m\n",
       "\u001b[2;36m                    \u001b[0m                      Coef.       Std.Err.         t          P>|t|        \u001b[1m[\u001b[0m\u001b[1;36m0.025\u001b[0m  \u001b[2m            \u001b[0m\n",
       "\u001b[2;36m                    \u001b[0m         \u001b[1;36m0.975\u001b[0m\u001b[1m]\u001b[0m                                                                    \u001b[2m            \u001b[0m\n",
       "\u001b[2;36m                    \u001b[0m         ------------------------------------------------------------------------- \u001b[2m            \u001b[0m\n",
       "\u001b[2;36m                    \u001b[0m         ------------                                                              \u001b[2m            \u001b[0m\n",
       "\u001b[2;36m                    \u001b[0m         Yrrr        \u001b[1;36m-0.0046\u001b[0m        \u001b[1;36m0.0004\u001b[0m      \u001b[1;36m-10.4440\u001b[0m      \u001b[1;36m0.0019\u001b[0m      \u001b[1;36m-0.0061\u001b[0m  \u001b[2m            \u001b[0m\n",
       "\u001b[2;36m                    \u001b[0m         \u001b[1;36m-0.0032\u001b[0m                                                                   \u001b[2m            \u001b[0m\n",
       "\u001b[2;36m                    \u001b[0m         Yr           \u001b[1;36m0.0011\u001b[0m        \u001b[1;36m0.0002\u001b[0m        \u001b[1;36m7.0585\u001b[0m      \u001b[1;36m0.0058\u001b[0m       \u001b[1;36m0.0006\u001b[0m  \u001b[2m            \u001b[0m\n",
       "\u001b[2;36m                    \u001b[0m         \u001b[1;36m0.0016\u001b[0m                                                                    \u001b[2m            \u001b[0m\n",
       "\u001b[2;36m                    \u001b[0m         ------------------------------------------------------------------------- \u001b[2m            \u001b[0m\n",
       "\u001b[2;36m                    \u001b[0m         -------                                                                   \u001b[2m            \u001b[0m\n",
       "\u001b[2;36m                    \u001b[0m         Omnibus:                    nan               Durbin-Watson:              \u001b[2m            \u001b[0m\n",
       "\u001b[2;36m                    \u001b[0m         \u001b[1;36m2.085\u001b[0m                                                                     \u001b[2m            \u001b[0m\n",
       "\u001b[2;36m                    \u001b[0m         \u001b[1;35mProb\u001b[0m\u001b[1m(\u001b[0mOmnibus\u001b[1m)\u001b[0m:              nan               Jarque-Bera \u001b[1m(\u001b[0mJB\u001b[1m)\u001b[0m:           \u001b[2m            \u001b[0m\n",
       "\u001b[2;36m                    \u001b[0m         \u001b[1;36m1.584\u001b[0m                                                                     \u001b[2m            \u001b[0m\n",
       "\u001b[2;36m                    \u001b[0m         Skew:                       \u001b[1;36m-1.378\u001b[0m            \u001b[1;35mProb\u001b[0m\u001b[1m(\u001b[0mJB\u001b[1m)\u001b[0m:                   \u001b[2m            \u001b[0m\n",
       "\u001b[2;36m                    \u001b[0m         \u001b[1;36m0.453\u001b[0m                                                                     \u001b[2m            \u001b[0m\n",
       "\u001b[2;36m                    \u001b[0m         Kurtosis:                   \u001b[1;36m3.081\u001b[0m             Condition No.:              \u001b[2m            \u001b[0m\n",
       "\u001b[2;36m                    \u001b[0m         \u001b[1;36m8\u001b[0m                                                                         \u001b[2m            \u001b[0m\n",
       "\u001b[2;36m                    \u001b[0m         ========================================================================= \u001b[2m            \u001b[0m\n",
       "\u001b[2;36m                    \u001b[0m         =======                                                                   \u001b[2m            \u001b[0m\n",
       "\u001b[2;36m                    \u001b[0m                                                                                   \u001b[2m            \u001b[0m\n"
      ]
     },
     "metadata": {},
     "output_type": "display_data"
    },
    {
     "data": {
      "text/html": [
       "<pre style=\"white-space:pre;overflow-x:auto;line-height:normal;font-family:Menlo,'DejaVu Sans Mono',consolas,'Courier New',monospace\"><span style=\"color: #7fbfbf; text-decoration-color: #7fbfbf\">                    </span><span style=\"color: #000080; text-decoration-color: #000080\">INFO    </span> Regression:Circle mz                                                      <a href=\"file:///home/maa/dev/PHD/src/phd/pipelines/regression_VCT/nodes.py\" target=\"_blank\"><span style=\"color: #7f7f7f; text-decoration-color: #7f7f7f\">nodes.py</span></a><span style=\"color: #7f7f7f; text-decoration-color: #7f7f7f\">:</span><a href=\"file:///home/maa/dev/PHD/src/phd/pipelines/regression_VCT/nodes.py#549\" target=\"_blank\"><span style=\"color: #7f7f7f; text-decoration-color: #7f7f7f\">549</span></a>\n",
       "</pre>\n"
      ],
      "text/plain": [
       "\u001b[2;36m                   \u001b[0m\u001b[2;36m \u001b[0m\u001b[34mINFO    \u001b[0m Regression:Circle mz                                                      \u001b]8;id=182999;file:///home/maa/dev/PHD/src/phd/pipelines/regression_VCT/nodes.py\u001b\\\u001b[2mnodes.py\u001b[0m\u001b]8;;\u001b\\\u001b[2m:\u001b[0m\u001b]8;id=116622;file:///home/maa/dev/PHD/src/phd/pipelines/regression_VCT/nodes.py#549\u001b\\\u001b[2m549\u001b[0m\u001b]8;;\u001b\\\n"
      ]
     },
     "metadata": {},
     "output_type": "display_data"
    },
    {
     "data": {
      "text/html": [
       "<pre style=\"white-space:pre;overflow-x:auto;line-height:normal;font-family:Menlo,'DejaVu Sans Mono',consolas,'Courier New',monospace\"><span style=\"color: #7fbfbf; text-decoration-color: #7fbfbf\">                    </span><span style=\"color: #800000; text-decoration-color: #800000\">WARNING </span> <span style=\"color: #800080; text-decoration-color: #800080\">/home/maa/anaconda3/envs/phd/lib/python3.10/site-packages/statsmodels/</span> <a href=\"file:///home/maa/anaconda3/envs/phd/lib/python3.10/warnings.py\" target=\"_blank\"><span style=\"color: #7f7f7f; text-decoration-color: #7f7f7f\">warnings.py</span></a><span style=\"color: #7f7f7f; text-decoration-color: #7f7f7f\">:</span><a href=\"file:///home/maa/anaconda3/envs/phd/lib/python3.10/warnings.py#109\" target=\"_blank\"><span style=\"color: #7f7f7f; text-decoration-color: #7f7f7f\">109</span></a>\n",
       "<span style=\"color: #7fbfbf; text-decoration-color: #7fbfbf\">                    </span>         <span style=\"color: #800080; text-decoration-color: #800080\">stats/</span><span style=\"color: #ff00ff; text-decoration-color: #ff00ff\">stattools.py</span>:<span style=\"color: #008080; text-decoration-color: #008080; font-weight: bold\">74</span>: ValueWarning: omni_normtest is not valid with   <span style=\"color: #7f7f7f; text-decoration-color: #7f7f7f\">               </span>\n",
       "<span style=\"color: #7fbfbf; text-decoration-color: #7fbfbf\">                    </span>         less than <span style=\"color: #008080; text-decoration-color: #008080; font-weight: bold\">8</span> observations; <span style=\"color: #008080; text-decoration-color: #008080; font-weight: bold\">5</span> samples were given.                        <span style=\"color: #7f7f7f; text-decoration-color: #7f7f7f\">               </span>\n",
       "<span style=\"color: #7fbfbf; text-decoration-color: #7fbfbf\">                    </span>           <span style=\"color: #800080; text-decoration-color: #800080; font-weight: bold\">warn</span><span style=\"font-weight: bold\">(</span><span style=\"color: #008000; text-decoration-color: #008000\">\"omni_normtest is not valid with less than 8 observations; %i \"</span> <span style=\"color: #7f7f7f; text-decoration-color: #7f7f7f\">               </span>\n",
       "<span style=\"color: #7fbfbf; text-decoration-color: #7fbfbf\">                    </span>                                                                                <span style=\"color: #7f7f7f; text-decoration-color: #7f7f7f\">               </span>\n",
       "</pre>\n"
      ],
      "text/plain": [
       "\u001b[2;36m                   \u001b[0m\u001b[2;36m \u001b[0m\u001b[31mWARNING \u001b[0m \u001b[35m/home/maa/anaconda3/envs/phd/lib/python3.10/site-packages/statsmodels/\u001b[0m \u001b]8;id=106215;file:///home/maa/anaconda3/envs/phd/lib/python3.10/warnings.py\u001b\\\u001b[2mwarnings.py\u001b[0m\u001b]8;;\u001b\\\u001b[2m:\u001b[0m\u001b]8;id=527674;file:///home/maa/anaconda3/envs/phd/lib/python3.10/warnings.py#109\u001b\\\u001b[2m109\u001b[0m\u001b]8;;\u001b\\\n",
       "\u001b[2;36m                    \u001b[0m         \u001b[35mstats/\u001b[0m\u001b[95mstattools.py\u001b[0m:\u001b[1;36m74\u001b[0m: ValueWarning: omni_normtest is not valid with   \u001b[2m               \u001b[0m\n",
       "\u001b[2;36m                    \u001b[0m         less than \u001b[1;36m8\u001b[0m observations; \u001b[1;36m5\u001b[0m samples were given.                        \u001b[2m               \u001b[0m\n",
       "\u001b[2;36m                    \u001b[0m           \u001b[1;35mwarn\u001b[0m\u001b[1m(\u001b[0m\u001b[32m\"omni_normtest is not valid with less than 8 observations; %i \"\u001b[0m \u001b[2m               \u001b[0m\n",
       "\u001b[2;36m                    \u001b[0m                                                                                \u001b[2m               \u001b[0m\n"
      ]
     },
     "metadata": {},
     "output_type": "display_data"
    },
    {
     "data": {
      "text/html": [
       "<pre style=\"white-space:pre;overflow-x:auto;line-height:normal;font-family:Menlo,'DejaVu Sans Mono',consolas,'Courier New',monospace\"><span style=\"color: #7fbfbf; text-decoration-color: #7fbfbf\">                    </span><span style=\"color: #000080; text-decoration-color: #000080\">INFO    </span>                         Results: Ordinary least squares                   <a href=\"file:///home/maa/dev/PHD/src/phd/pipelines/regression_VCT/nodes.py\" target=\"_blank\"><span style=\"color: #7f7f7f; text-decoration-color: #7f7f7f\">nodes.py</span></a><span style=\"color: #7f7f7f; text-decoration-color: #7f7f7f\">:</span><a href=\"file:///home/maa/dev/PHD/src/phd/pipelines/regression_VCT/nodes.py#551\" target=\"_blank\"><span style=\"color: #7f7f7f; text-decoration-color: #7f7f7f\">551</span></a>\n",
       "<span style=\"color: #7fbfbf; text-decoration-color: #7fbfbf\">                    </span>         ========================================================================= <span style=\"color: #7f7f7f; text-decoration-color: #7f7f7f\">            </span>\n",
       "<span style=\"color: #7fbfbf; text-decoration-color: #7fbfbf\">                    </span>         =======                                                                   <span style=\"color: #7f7f7f; text-decoration-color: #7f7f7f\">            </span>\n",
       "<span style=\"color: #7fbfbf; text-decoration-color: #7fbfbf\">                    </span>         Model:                  OLS              Adj. R-squared <span style=\"font-weight: bold\">(</span>uncentered<span style=\"font-weight: bold\">)</span>:     <span style=\"color: #7f7f7f; text-decoration-color: #7f7f7f\">            </span>\n",
       "<span style=\"color: #7fbfbf; text-decoration-color: #7fbfbf\">                    </span>         <span style=\"color: #008080; text-decoration-color: #008080; font-weight: bold\">1.000</span>                                                                     <span style=\"color: #7f7f7f; text-decoration-color: #7f7f7f\">            </span>\n",
       "<span style=\"color: #7fbfbf; text-decoration-color: #7fbfbf\">                    </span>         Dependent Variable:     N_H              AIC:                             <span style=\"color: #7f7f7f; text-decoration-color: #7f7f7f\">            </span>\n",
       "<span style=\"color: #7fbfbf; text-decoration-color: #7fbfbf\">                    </span>         <span style=\"color: #008080; text-decoration-color: #008080; font-weight: bold\">-98.1650</span>                                                                  <span style=\"color: #7f7f7f; text-decoration-color: #7f7f7f\">            </span>\n",
       "<span style=\"color: #7fbfbf; text-decoration-color: #7fbfbf\">                    </span>         Date:                   <span style=\"color: #008080; text-decoration-color: #008080; font-weight: bold\">2024</span>-<span style=\"color: #008080; text-decoration-color: #008080; font-weight: bold\">01</span>-<span style=\"color: #008080; text-decoration-color: #008080; font-weight: bold\">10</span> <span style=\"color: #00ff00; text-decoration-color: #00ff00; font-weight: bold\">14:16</span> BIC:                             <span style=\"color: #7f7f7f; text-decoration-color: #7f7f7f\">            </span>\n",
       "<span style=\"color: #7fbfbf; text-decoration-color: #7fbfbf\">                    </span>         <span style=\"color: #008080; text-decoration-color: #008080; font-weight: bold\">-98.9461</span>                                                                  <span style=\"color: #7f7f7f; text-decoration-color: #7f7f7f\">            </span>\n",
       "<span style=\"color: #7fbfbf; text-decoration-color: #7fbfbf\">                    </span>         No. Observations:       <span style=\"color: #008080; text-decoration-color: #008080; font-weight: bold\">5</span>                Log-Likelihood:                  <span style=\"color: #7f7f7f; text-decoration-color: #7f7f7f\">            </span>\n",
       "<span style=\"color: #7fbfbf; text-decoration-color: #7fbfbf\">                    </span>         <span style=\"color: #008080; text-decoration-color: #008080; font-weight: bold\">51.082</span>                                                                    <span style=\"color: #7f7f7f; text-decoration-color: #7f7f7f\">            </span>\n",
       "<span style=\"color: #7fbfbf; text-decoration-color: #7fbfbf\">                    </span>         Df Model:               <span style=\"color: #008080; text-decoration-color: #008080; font-weight: bold\">2</span>                F-statistic:                     <span style=\"color: #7f7f7f; text-decoration-color: #7f7f7f\">            </span>\n",
       "<span style=\"color: #7fbfbf; text-decoration-color: #7fbfbf\">                    </span>         <span style=\"color: #008080; text-decoration-color: #008080; font-weight: bold\">7202</span>.                                                                     <span style=\"color: #7f7f7f; text-decoration-color: #7f7f7f\">            </span>\n",
       "<span style=\"color: #7fbfbf; text-decoration-color: #7fbfbf\">                    </span>         Df Residuals:           <span style=\"color: #008080; text-decoration-color: #008080; font-weight: bold\">3</span>                Prob <span style=\"font-weight: bold\">(</span>F-statistic<span style=\"font-weight: bold\">)</span>:              <span style=\"color: #7f7f7f; text-decoration-color: #7f7f7f\">            </span>\n",
       "<span style=\"color: #7fbfbf; text-decoration-color: #7fbfbf\">                    </span>         <span style=\"color: #008080; text-decoration-color: #008080; font-weight: bold\">3.00e-06</span>                                                                  <span style=\"color: #7f7f7f; text-decoration-color: #7f7f7f\">            </span>\n",
       "<span style=\"color: #7fbfbf; text-decoration-color: #7fbfbf\">                    </span>         R-squared <span style=\"font-weight: bold\">(</span>uncentered<span style=\"font-weight: bold\">)</span>: <span style=\"color: #008080; text-decoration-color: #008080; font-weight: bold\">1.000</span>            Scale:                           <span style=\"color: #7f7f7f; text-decoration-color: #7f7f7f\">            </span>\n",
       "<span style=\"color: #7fbfbf; text-decoration-color: #7fbfbf\">                    </span>         <span style=\"color: #008080; text-decoration-color: #008080; font-weight: bold\">1.3045e-10</span>                                                                <span style=\"color: #7f7f7f; text-decoration-color: #7f7f7f\">            </span>\n",
       "<span style=\"color: #7fbfbf; text-decoration-color: #7fbfbf\">                    </span>         ------------------------------------------------------------------------- <span style=\"color: #7f7f7f; text-decoration-color: #7f7f7f\">            </span>\n",
       "<span style=\"color: #7fbfbf; text-decoration-color: #7fbfbf\">                    </span>         ------------                                                              <span style=\"color: #7f7f7f; text-decoration-color: #7f7f7f\">            </span>\n",
       "<span style=\"color: #7fbfbf; text-decoration-color: #7fbfbf\">                    </span>                      Coef.       Std.Err.         t          P&gt;|t|        <span style=\"font-weight: bold\">[</span><span style=\"color: #008080; text-decoration-color: #008080; font-weight: bold\">0.025</span>  <span style=\"color: #7f7f7f; text-decoration-color: #7f7f7f\">            </span>\n",
       "<span style=\"color: #7fbfbf; text-decoration-color: #7fbfbf\">                    </span>         <span style=\"color: #008080; text-decoration-color: #008080; font-weight: bold\">0.975</span><span style=\"font-weight: bold\">]</span>                                                                    <span style=\"color: #7f7f7f; text-decoration-color: #7f7f7f\">            </span>\n",
       "<span style=\"color: #7fbfbf; text-decoration-color: #7fbfbf\">                    </span>         ------------------------------------------------------------------------- <span style=\"color: #7f7f7f; text-decoration-color: #7f7f7f\">            </span>\n",
       "<span style=\"color: #7fbfbf; text-decoration-color: #7fbfbf\">                    </span>         ------------                                                              <span style=\"color: #7f7f7f; text-decoration-color: #7f7f7f\">            </span>\n",
       "<span style=\"color: #7fbfbf; text-decoration-color: #7fbfbf\">                    </span>         Nrrr        <span style=\"color: #008080; text-decoration-color: #008080; font-weight: bold\">-0.0022</span>        <span style=\"color: #008080; text-decoration-color: #008080; font-weight: bold\">0.0001</span>      <span style=\"color: #008080; text-decoration-color: #008080; font-weight: bold\">-26.6491</span>      <span style=\"color: #008080; text-decoration-color: #008080; font-weight: bold\">0.0001</span>      <span style=\"color: #008080; text-decoration-color: #008080; font-weight: bold\">-0.0025</span>  <span style=\"color: #7f7f7f; text-decoration-color: #7f7f7f\">            </span>\n",
       "<span style=\"color: #7fbfbf; text-decoration-color: #7fbfbf\">                    </span>         <span style=\"color: #008080; text-decoration-color: #008080; font-weight: bold\">-0.0020</span>                                                                   <span style=\"color: #7f7f7f; text-decoration-color: #7f7f7f\">            </span>\n",
       "<span style=\"color: #7fbfbf; text-decoration-color: #7fbfbf\">                    </span>         Nr          <span style=\"color: #008080; text-decoration-color: #008080; font-weight: bold\">-0.0007</span>        <span style=\"color: #008080; text-decoration-color: #008080; font-weight: bold\">0.0000</span>      <span style=\"color: #008080; text-decoration-color: #008080; font-weight: bold\">-24.9270</span>      <span style=\"color: #008080; text-decoration-color: #008080; font-weight: bold\">0.0001</span>      <span style=\"color: #008080; text-decoration-color: #008080; font-weight: bold\">-0.0008</span>  <span style=\"color: #7f7f7f; text-decoration-color: #7f7f7f\">            </span>\n",
       "<span style=\"color: #7fbfbf; text-decoration-color: #7fbfbf\">                    </span>         <span style=\"color: #008080; text-decoration-color: #008080; font-weight: bold\">-0.0006</span>                                                                   <span style=\"color: #7f7f7f; text-decoration-color: #7f7f7f\">            </span>\n",
       "<span style=\"color: #7fbfbf; text-decoration-color: #7fbfbf\">                    </span>         ------------------------------------------------------------------------- <span style=\"color: #7f7f7f; text-decoration-color: #7f7f7f\">            </span>\n",
       "<span style=\"color: #7fbfbf; text-decoration-color: #7fbfbf\">                    </span>         -------                                                                   <span style=\"color: #7f7f7f; text-decoration-color: #7f7f7f\">            </span>\n",
       "<span style=\"color: #7fbfbf; text-decoration-color: #7fbfbf\">                    </span>         Omnibus:                    nan               Durbin-Watson:              <span style=\"color: #7f7f7f; text-decoration-color: #7f7f7f\">            </span>\n",
       "<span style=\"color: #7fbfbf; text-decoration-color: #7fbfbf\">                    </span>         <span style=\"color: #008080; text-decoration-color: #008080; font-weight: bold\">2.711</span>                                                                     <span style=\"color: #7f7f7f; text-decoration-color: #7f7f7f\">            </span>\n",
       "<span style=\"color: #7fbfbf; text-decoration-color: #7fbfbf\">                    </span>         <span style=\"color: #800080; text-decoration-color: #800080; font-weight: bold\">Prob</span><span style=\"font-weight: bold\">(</span>Omnibus<span style=\"font-weight: bold\">)</span>:              nan               Jarque-Bera <span style=\"font-weight: bold\">(</span>JB<span style=\"font-weight: bold\">)</span>:           <span style=\"color: #7f7f7f; text-decoration-color: #7f7f7f\">            </span>\n",
       "<span style=\"color: #7fbfbf; text-decoration-color: #7fbfbf\">                    </span>         <span style=\"color: #008080; text-decoration-color: #008080; font-weight: bold\">0.568</span>                                                                     <span style=\"color: #7f7f7f; text-decoration-color: #7f7f7f\">            </span>\n",
       "<span style=\"color: #7fbfbf; text-decoration-color: #7fbfbf\">                    </span>         Skew:                       <span style=\"color: #008080; text-decoration-color: #008080; font-weight: bold\">-0.378</span>            <span style=\"color: #800080; text-decoration-color: #800080; font-weight: bold\">Prob</span><span style=\"font-weight: bold\">(</span>JB<span style=\"font-weight: bold\">)</span>:                   <span style=\"color: #7f7f7f; text-decoration-color: #7f7f7f\">            </span>\n",
       "<span style=\"color: #7fbfbf; text-decoration-color: #7fbfbf\">                    </span>         <span style=\"color: #008080; text-decoration-color: #008080; font-weight: bold\">0.753</span>                                                                     <span style=\"color: #7f7f7f; text-decoration-color: #7f7f7f\">            </span>\n",
       "<span style=\"color: #7fbfbf; text-decoration-color: #7fbfbf\">                    </span>         Kurtosis:                   <span style=\"color: #008080; text-decoration-color: #008080; font-weight: bold\">1.532</span>             Condition No.:              <span style=\"color: #7f7f7f; text-decoration-color: #7f7f7f\">            </span>\n",
       "<span style=\"color: #7fbfbf; text-decoration-color: #7fbfbf\">                    </span>         <span style=\"color: #008080; text-decoration-color: #008080; font-weight: bold\">8</span>                                                                         <span style=\"color: #7f7f7f; text-decoration-color: #7f7f7f\">            </span>\n",
       "<span style=\"color: #7fbfbf; text-decoration-color: #7fbfbf\">                    </span>         ========================================================================= <span style=\"color: #7f7f7f; text-decoration-color: #7f7f7f\">            </span>\n",
       "<span style=\"color: #7fbfbf; text-decoration-color: #7fbfbf\">                    </span>         =======                                                                   <span style=\"color: #7f7f7f; text-decoration-color: #7f7f7f\">            </span>\n",
       "<span style=\"color: #7fbfbf; text-decoration-color: #7fbfbf\">                    </span>                                                                                   <span style=\"color: #7f7f7f; text-decoration-color: #7f7f7f\">            </span>\n",
       "</pre>\n"
      ],
      "text/plain": [
       "\u001b[2;36m                   \u001b[0m\u001b[2;36m \u001b[0m\u001b[34mINFO    \u001b[0m                         Results: Ordinary least squares                   \u001b]8;id=51090;file:///home/maa/dev/PHD/src/phd/pipelines/regression_VCT/nodes.py\u001b\\\u001b[2mnodes.py\u001b[0m\u001b]8;;\u001b\\\u001b[2m:\u001b[0m\u001b]8;id=952738;file:///home/maa/dev/PHD/src/phd/pipelines/regression_VCT/nodes.py#551\u001b\\\u001b[2m551\u001b[0m\u001b]8;;\u001b\\\n",
       "\u001b[2;36m                    \u001b[0m         ========================================================================= \u001b[2m            \u001b[0m\n",
       "\u001b[2;36m                    \u001b[0m         =======                                                                   \u001b[2m            \u001b[0m\n",
       "\u001b[2;36m                    \u001b[0m         Model:                  OLS              Adj. R-squared \u001b[1m(\u001b[0muncentered\u001b[1m)\u001b[0m:     \u001b[2m            \u001b[0m\n",
       "\u001b[2;36m                    \u001b[0m         \u001b[1;36m1.000\u001b[0m                                                                     \u001b[2m            \u001b[0m\n",
       "\u001b[2;36m                    \u001b[0m         Dependent Variable:     N_H              AIC:                             \u001b[2m            \u001b[0m\n",
       "\u001b[2;36m                    \u001b[0m         \u001b[1;36m-98.1650\u001b[0m                                                                  \u001b[2m            \u001b[0m\n",
       "\u001b[2;36m                    \u001b[0m         Date:                   \u001b[1;36m2024\u001b[0m-\u001b[1;36m01\u001b[0m-\u001b[1;36m10\u001b[0m \u001b[1;92m14:16\u001b[0m BIC:                             \u001b[2m            \u001b[0m\n",
       "\u001b[2;36m                    \u001b[0m         \u001b[1;36m-98.9461\u001b[0m                                                                  \u001b[2m            \u001b[0m\n",
       "\u001b[2;36m                    \u001b[0m         No. Observations:       \u001b[1;36m5\u001b[0m                Log-Likelihood:                  \u001b[2m            \u001b[0m\n",
       "\u001b[2;36m                    \u001b[0m         \u001b[1;36m51.082\u001b[0m                                                                    \u001b[2m            \u001b[0m\n",
       "\u001b[2;36m                    \u001b[0m         Df Model:               \u001b[1;36m2\u001b[0m                F-statistic:                     \u001b[2m            \u001b[0m\n",
       "\u001b[2;36m                    \u001b[0m         \u001b[1;36m7202\u001b[0m.                                                                     \u001b[2m            \u001b[0m\n",
       "\u001b[2;36m                    \u001b[0m         Df Residuals:           \u001b[1;36m3\u001b[0m                Prob \u001b[1m(\u001b[0mF-statistic\u001b[1m)\u001b[0m:              \u001b[2m            \u001b[0m\n",
       "\u001b[2;36m                    \u001b[0m         \u001b[1;36m3.00e-06\u001b[0m                                                                  \u001b[2m            \u001b[0m\n",
       "\u001b[2;36m                    \u001b[0m         R-squared \u001b[1m(\u001b[0muncentered\u001b[1m)\u001b[0m: \u001b[1;36m1.000\u001b[0m            Scale:                           \u001b[2m            \u001b[0m\n",
       "\u001b[2;36m                    \u001b[0m         \u001b[1;36m1.3045e-10\u001b[0m                                                                \u001b[2m            \u001b[0m\n",
       "\u001b[2;36m                    \u001b[0m         ------------------------------------------------------------------------- \u001b[2m            \u001b[0m\n",
       "\u001b[2;36m                    \u001b[0m         ------------                                                              \u001b[2m            \u001b[0m\n",
       "\u001b[2;36m                    \u001b[0m                      Coef.       Std.Err.         t          P>|t|        \u001b[1m[\u001b[0m\u001b[1;36m0.025\u001b[0m  \u001b[2m            \u001b[0m\n",
       "\u001b[2;36m                    \u001b[0m         \u001b[1;36m0.975\u001b[0m\u001b[1m]\u001b[0m                                                                    \u001b[2m            \u001b[0m\n",
       "\u001b[2;36m                    \u001b[0m         ------------------------------------------------------------------------- \u001b[2m            \u001b[0m\n",
       "\u001b[2;36m                    \u001b[0m         ------------                                                              \u001b[2m            \u001b[0m\n",
       "\u001b[2;36m                    \u001b[0m         Nrrr        \u001b[1;36m-0.0022\u001b[0m        \u001b[1;36m0.0001\u001b[0m      \u001b[1;36m-26.6491\u001b[0m      \u001b[1;36m0.0001\u001b[0m      \u001b[1;36m-0.0025\u001b[0m  \u001b[2m            \u001b[0m\n",
       "\u001b[2;36m                    \u001b[0m         \u001b[1;36m-0.0020\u001b[0m                                                                   \u001b[2m            \u001b[0m\n",
       "\u001b[2;36m                    \u001b[0m         Nr          \u001b[1;36m-0.0007\u001b[0m        \u001b[1;36m0.0000\u001b[0m      \u001b[1;36m-24.9270\u001b[0m      \u001b[1;36m0.0001\u001b[0m      \u001b[1;36m-0.0008\u001b[0m  \u001b[2m            \u001b[0m\n",
       "\u001b[2;36m                    \u001b[0m         \u001b[1;36m-0.0006\u001b[0m                                                                   \u001b[2m            \u001b[0m\n",
       "\u001b[2;36m                    \u001b[0m         ------------------------------------------------------------------------- \u001b[2m            \u001b[0m\n",
       "\u001b[2;36m                    \u001b[0m         -------                                                                   \u001b[2m            \u001b[0m\n",
       "\u001b[2;36m                    \u001b[0m         Omnibus:                    nan               Durbin-Watson:              \u001b[2m            \u001b[0m\n",
       "\u001b[2;36m                    \u001b[0m         \u001b[1;36m2.711\u001b[0m                                                                     \u001b[2m            \u001b[0m\n",
       "\u001b[2;36m                    \u001b[0m         \u001b[1;35mProb\u001b[0m\u001b[1m(\u001b[0mOmnibus\u001b[1m)\u001b[0m:              nan               Jarque-Bera \u001b[1m(\u001b[0mJB\u001b[1m)\u001b[0m:           \u001b[2m            \u001b[0m\n",
       "\u001b[2;36m                    \u001b[0m         \u001b[1;36m0.568\u001b[0m                                                                     \u001b[2m            \u001b[0m\n",
       "\u001b[2;36m                    \u001b[0m         Skew:                       \u001b[1;36m-0.378\u001b[0m            \u001b[1;35mProb\u001b[0m\u001b[1m(\u001b[0mJB\u001b[1m)\u001b[0m:                   \u001b[2m            \u001b[0m\n",
       "\u001b[2;36m                    \u001b[0m         \u001b[1;36m0.753\u001b[0m                                                                     \u001b[2m            \u001b[0m\n",
       "\u001b[2;36m                    \u001b[0m         Kurtosis:                   \u001b[1;36m1.532\u001b[0m             Condition No.:              \u001b[2m            \u001b[0m\n",
       "\u001b[2;36m                    \u001b[0m         \u001b[1;36m8\u001b[0m                                                                         \u001b[2m            \u001b[0m\n",
       "\u001b[2;36m                    \u001b[0m         ========================================================================= \u001b[2m            \u001b[0m\n",
       "\u001b[2;36m                    \u001b[0m         =======                                                                   \u001b[2m            \u001b[0m\n",
       "\u001b[2;36m                    \u001b[0m                                                                                   \u001b[2m            \u001b[0m\n"
      ]
     },
     "metadata": {},
     "output_type": "display_data"
    },
    {
     "data": {
      "text/html": [
       "<pre style=\"white-space:pre;overflow-x:auto;line-height:normal;font-family:Menlo,'DejaVu Sans Mono',consolas,'Courier New',monospace\"><span style=\"color: #7fbfbf; text-decoration-color: #7fbfbf\">                    </span><span style=\"color: #000080; text-decoration-color: #000080\">INFO    </span> Regression:Circle + Drift fx                                              <a href=\"file:///home/maa/dev/PHD/src/phd/pipelines/regression_VCT/nodes.py\" target=\"_blank\"><span style=\"color: #7f7f7f; text-decoration-color: #7f7f7f\">nodes.py</span></a><span style=\"color: #7f7f7f; text-decoration-color: #7f7f7f\">:</span><a href=\"file:///home/maa/dev/PHD/src/phd/pipelines/regression_VCT/nodes.py#549\" target=\"_blank\"><span style=\"color: #7f7f7f; text-decoration-color: #7f7f7f\">549</span></a>\n",
       "</pre>\n"
      ],
      "text/plain": [
       "\u001b[2;36m                   \u001b[0m\u001b[2;36m \u001b[0m\u001b[34mINFO    \u001b[0m Regression:Circle + Drift fx                                              \u001b]8;id=649425;file:///home/maa/dev/PHD/src/phd/pipelines/regression_VCT/nodes.py\u001b\\\u001b[2mnodes.py\u001b[0m\u001b]8;;\u001b\\\u001b[2m:\u001b[0m\u001b]8;id=924443;file:///home/maa/dev/PHD/src/phd/pipelines/regression_VCT/nodes.py#549\u001b\\\u001b[2m549\u001b[0m\u001b]8;;\u001b\\\n"
      ]
     },
     "metadata": {},
     "output_type": "display_data"
    },
    {
     "data": {
      "text/html": [
       "<pre style=\"white-space:pre;overflow-x:auto;line-height:normal;font-family:Menlo,'DejaVu Sans Mono',consolas,'Courier New',monospace\"><span style=\"color: #7fbfbf; text-decoration-color: #7fbfbf\">                    </span><span style=\"color: #000080; text-decoration-color: #000080\">INFO    </span>                   Results: Ordinary least squares                         <a href=\"file:///home/maa/dev/PHD/src/phd/pipelines/regression_VCT/nodes.py\" target=\"_blank\"><span style=\"color: #7f7f7f; text-decoration-color: #7f7f7f\">nodes.py</span></a><span style=\"color: #7f7f7f; text-decoration-color: #7f7f7f\">:</span><a href=\"file:///home/maa/dev/PHD/src/phd/pipelines/regression_VCT/nodes.py#551\" target=\"_blank\"><span style=\"color: #7f7f7f; text-decoration-color: #7f7f7f\">551</span></a>\n",
       "<span style=\"color: #7fbfbf; text-decoration-color: #7fbfbf\">                    </span>         ===================================================================       <span style=\"color: #7f7f7f; text-decoration-color: #7f7f7f\">            </span>\n",
       "<span style=\"color: #7fbfbf; text-decoration-color: #7fbfbf\">                    </span>         Model:              OLS              Adj. R-squared:     <span style=\"color: #008080; text-decoration-color: #008080; font-weight: bold\">0.112</span>            <span style=\"color: #7f7f7f; text-decoration-color: #7f7f7f\">            </span>\n",
       "<span style=\"color: #7fbfbf; text-decoration-color: #7fbfbf\">                    </span>         Dependent Variable: X_H              AIC:                <span style=\"color: #008080; text-decoration-color: #008080; font-weight: bold\">-2139.8598</span>       <span style=\"color: #7f7f7f; text-decoration-color: #7f7f7f\">            </span>\n",
       "<span style=\"color: #7fbfbf; text-decoration-color: #7fbfbf\">                    </span>         Date:               <span style=\"color: #008080; text-decoration-color: #008080; font-weight: bold\">2024</span>-<span style=\"color: #008080; text-decoration-color: #008080; font-weight: bold\">01</span>-<span style=\"color: #008080; text-decoration-color: #008080; font-weight: bold\">10</span> <span style=\"color: #00ff00; text-decoration-color: #00ff00; font-weight: bold\">14:16</span> BIC:                <span style=\"color: #008080; text-decoration-color: #008080; font-weight: bold\">-2134.2518</span>       <span style=\"color: #7f7f7f; text-decoration-color: #7f7f7f\">            </span>\n",
       "<span style=\"color: #7fbfbf; text-decoration-color: #7fbfbf\">                    </span>         No. Observations:   <span style=\"color: #008080; text-decoration-color: #008080; font-weight: bold\">122</span>              Log-Likelihood:     <span style=\"color: #008080; text-decoration-color: #008080; font-weight: bold\">1071.9</span>           <span style=\"color: #7f7f7f; text-decoration-color: #7f7f7f\">            </span>\n",
       "<span style=\"color: #7fbfbf; text-decoration-color: #7fbfbf\">                    </span>         Df Model:           <span style=\"color: #008080; text-decoration-color: #008080; font-weight: bold\">1</span>                F-statistic:        <span style=\"color: #008080; text-decoration-color: #008080; font-weight: bold\">16.31</span>            <span style=\"color: #7f7f7f; text-decoration-color: #7f7f7f\">            </span>\n",
       "<span style=\"color: #7fbfbf; text-decoration-color: #7fbfbf\">                    </span>         Df Residuals:       <span style=\"color: #008080; text-decoration-color: #008080; font-weight: bold\">120</span>              Prob <span style=\"font-weight: bold\">(</span>F-statistic<span style=\"font-weight: bold\">)</span>: <span style=\"color: #008080; text-decoration-color: #008080; font-weight: bold\">9.53e-05</span>         <span style=\"color: #7f7f7f; text-decoration-color: #7f7f7f\">            </span>\n",
       "<span style=\"color: #7fbfbf; text-decoration-color: #7fbfbf\">                    </span>         R-squared:          <span style=\"color: #008080; text-decoration-color: #008080; font-weight: bold\">0.120</span>            Scale:              <span style=\"color: #008080; text-decoration-color: #008080; font-weight: bold\">1.3900e-09</span>       <span style=\"color: #7f7f7f; text-decoration-color: #7f7f7f\">            </span>\n",
       "<span style=\"color: #7fbfbf; text-decoration-color: #7fbfbf\">                    </span>         ---------------------------------------------------------------------     <span style=\"color: #7f7f7f; text-decoration-color: #7f7f7f\">            </span>\n",
       "<span style=\"color: #7fbfbf; text-decoration-color: #7fbfbf\">                    </span>                      Coef.    Std.Err.      t      P&gt;|t|     <span style=\"font-weight: bold\">[</span><span style=\"color: #008080; text-decoration-color: #008080; font-weight: bold\">0.025</span>    <span style=\"color: #008080; text-decoration-color: #008080; font-weight: bold\">0.975</span><span style=\"font-weight: bold\">]</span>     <span style=\"color: #7f7f7f; text-decoration-color: #7f7f7f\">            </span>\n",
       "<span style=\"color: #7fbfbf; text-decoration-color: #7fbfbf\">                    </span>         ---------------------------------------------------------------------     <span style=\"color: #7f7f7f; text-decoration-color: #7f7f7f\">            </span>\n",
       "<span style=\"color: #7fbfbf; text-decoration-color: #7fbfbf\">                    </span>         Xvr          <span style=\"color: #008080; text-decoration-color: #008080; font-weight: bold\">0.0014</span>     <span style=\"color: #008080; text-decoration-color: #008080; font-weight: bold\">0.0003</span>    <span style=\"color: #008080; text-decoration-color: #008080; font-weight: bold\">4.0383</span>   <span style=\"color: #008080; text-decoration-color: #008080; font-weight: bold\">0.0001</span>    <span style=\"color: #008080; text-decoration-color: #008080; font-weight: bold\">0.0007</span>    <span style=\"color: #008080; text-decoration-color: #008080; font-weight: bold\">0.0021</span>     <span style=\"color: #7f7f7f; text-decoration-color: #7f7f7f\">            </span>\n",
       "<span style=\"color: #7fbfbf; text-decoration-color: #7fbfbf\">                    </span>         const       <span style=\"color: #008080; text-decoration-color: #008080; font-weight: bold\">-0.0000</span>     <span style=\"color: #008080; text-decoration-color: #008080; font-weight: bold\">0.0000</span>   <span style=\"color: #008080; text-decoration-color: #008080; font-weight: bold\">-5.0790</span>   <span style=\"color: #008080; text-decoration-color: #008080; font-weight: bold\">0.0000</span>   <span style=\"color: #008080; text-decoration-color: #008080; font-weight: bold\">-0.0000</span>   <span style=\"color: #008080; text-decoration-color: #008080; font-weight: bold\">-0.0000</span>     <span style=\"color: #7f7f7f; text-decoration-color: #7f7f7f\">            </span>\n",
       "<span style=\"color: #7fbfbf; text-decoration-color: #7fbfbf\">                    </span>         -------------------------------------------------------------------       <span style=\"color: #7f7f7f; text-decoration-color: #7f7f7f\">            </span>\n",
       "<span style=\"color: #7fbfbf; text-decoration-color: #7fbfbf\">                    </span>         Omnibus:               <span style=\"color: #008080; text-decoration-color: #008080; font-weight: bold\">72.204</span>       Durbin-Watson:          <span style=\"color: #008080; text-decoration-color: #008080; font-weight: bold\">1.113</span>         <span style=\"color: #7f7f7f; text-decoration-color: #7f7f7f\">            </span>\n",
       "<span style=\"color: #7fbfbf; text-decoration-color: #7fbfbf\">                    </span>         <span style=\"color: #800080; text-decoration-color: #800080; font-weight: bold\">Prob</span><span style=\"font-weight: bold\">(</span>Omnibus<span style=\"font-weight: bold\">)</span>:         <span style=\"color: #008080; text-decoration-color: #008080; font-weight: bold\">0.000</span>        Jarque-Bera <span style=\"font-weight: bold\">(</span>JB<span style=\"font-weight: bold\">)</span>:       <span style=\"color: #008080; text-decoration-color: #008080; font-weight: bold\">264.557</span>       <span style=\"color: #7f7f7f; text-decoration-color: #7f7f7f\">            </span>\n",
       "<span style=\"color: #7fbfbf; text-decoration-color: #7fbfbf\">                    </span>         Skew:                  <span style=\"color: #008080; text-decoration-color: #008080; font-weight: bold\">-2.239</span>       <span style=\"color: #800080; text-decoration-color: #800080; font-weight: bold\">Prob</span><span style=\"font-weight: bold\">(</span>JB<span style=\"font-weight: bold\">)</span>:               <span style=\"color: #008080; text-decoration-color: #008080; font-weight: bold\">0.000</span>         <span style=\"color: #7f7f7f; text-decoration-color: #7f7f7f\">            </span>\n",
       "<span style=\"color: #7fbfbf; text-decoration-color: #7fbfbf\">                    </span>         Kurtosis:              <span style=\"color: #008080; text-decoration-color: #008080; font-weight: bold\">8.657</span>        Condition No.:          <span style=\"color: #008080; text-decoration-color: #008080; font-weight: bold\">102</span>           <span style=\"color: #7f7f7f; text-decoration-color: #7f7f7f\">            </span>\n",
       "<span style=\"color: #7fbfbf; text-decoration-color: #7fbfbf\">                    </span>         ===================================================================       <span style=\"color: #7f7f7f; text-decoration-color: #7f7f7f\">            </span>\n",
       "<span style=\"color: #7fbfbf; text-decoration-color: #7fbfbf\">                    </span>                                                                                   <span style=\"color: #7f7f7f; text-decoration-color: #7f7f7f\">            </span>\n",
       "</pre>\n"
      ],
      "text/plain": [
       "\u001b[2;36m                   \u001b[0m\u001b[2;36m \u001b[0m\u001b[34mINFO    \u001b[0m                   Results: Ordinary least squares                         \u001b]8;id=176350;file:///home/maa/dev/PHD/src/phd/pipelines/regression_VCT/nodes.py\u001b\\\u001b[2mnodes.py\u001b[0m\u001b]8;;\u001b\\\u001b[2m:\u001b[0m\u001b]8;id=9982;file:///home/maa/dev/PHD/src/phd/pipelines/regression_VCT/nodes.py#551\u001b\\\u001b[2m551\u001b[0m\u001b]8;;\u001b\\\n",
       "\u001b[2;36m                    \u001b[0m         ===================================================================       \u001b[2m            \u001b[0m\n",
       "\u001b[2;36m                    \u001b[0m         Model:              OLS              Adj. R-squared:     \u001b[1;36m0.112\u001b[0m            \u001b[2m            \u001b[0m\n",
       "\u001b[2;36m                    \u001b[0m         Dependent Variable: X_H              AIC:                \u001b[1;36m-2139.8598\u001b[0m       \u001b[2m            \u001b[0m\n",
       "\u001b[2;36m                    \u001b[0m         Date:               \u001b[1;36m2024\u001b[0m-\u001b[1;36m01\u001b[0m-\u001b[1;36m10\u001b[0m \u001b[1;92m14:16\u001b[0m BIC:                \u001b[1;36m-2134.2518\u001b[0m       \u001b[2m            \u001b[0m\n",
       "\u001b[2;36m                    \u001b[0m         No. Observations:   \u001b[1;36m122\u001b[0m              Log-Likelihood:     \u001b[1;36m1071.9\u001b[0m           \u001b[2m            \u001b[0m\n",
       "\u001b[2;36m                    \u001b[0m         Df Model:           \u001b[1;36m1\u001b[0m                F-statistic:        \u001b[1;36m16.31\u001b[0m            \u001b[2m            \u001b[0m\n",
       "\u001b[2;36m                    \u001b[0m         Df Residuals:       \u001b[1;36m120\u001b[0m              Prob \u001b[1m(\u001b[0mF-statistic\u001b[1m)\u001b[0m: \u001b[1;36m9.53e-05\u001b[0m         \u001b[2m            \u001b[0m\n",
       "\u001b[2;36m                    \u001b[0m         R-squared:          \u001b[1;36m0.120\u001b[0m            Scale:              \u001b[1;36m1.3900e-09\u001b[0m       \u001b[2m            \u001b[0m\n",
       "\u001b[2;36m                    \u001b[0m         ---------------------------------------------------------------------     \u001b[2m            \u001b[0m\n",
       "\u001b[2;36m                    \u001b[0m                      Coef.    Std.Err.      t      P>|t|     \u001b[1m[\u001b[0m\u001b[1;36m0.025\u001b[0m    \u001b[1;36m0.975\u001b[0m\u001b[1m]\u001b[0m     \u001b[2m            \u001b[0m\n",
       "\u001b[2;36m                    \u001b[0m         ---------------------------------------------------------------------     \u001b[2m            \u001b[0m\n",
       "\u001b[2;36m                    \u001b[0m         Xvr          \u001b[1;36m0.0014\u001b[0m     \u001b[1;36m0.0003\u001b[0m    \u001b[1;36m4.0383\u001b[0m   \u001b[1;36m0.0001\u001b[0m    \u001b[1;36m0.0007\u001b[0m    \u001b[1;36m0.0021\u001b[0m     \u001b[2m            \u001b[0m\n",
       "\u001b[2;36m                    \u001b[0m         const       \u001b[1;36m-0.0000\u001b[0m     \u001b[1;36m0.0000\u001b[0m   \u001b[1;36m-5.0790\u001b[0m   \u001b[1;36m0.0000\u001b[0m   \u001b[1;36m-0.0000\u001b[0m   \u001b[1;36m-0.0000\u001b[0m     \u001b[2m            \u001b[0m\n",
       "\u001b[2;36m                    \u001b[0m         -------------------------------------------------------------------       \u001b[2m            \u001b[0m\n",
       "\u001b[2;36m                    \u001b[0m         Omnibus:               \u001b[1;36m72.204\u001b[0m       Durbin-Watson:          \u001b[1;36m1.113\u001b[0m         \u001b[2m            \u001b[0m\n",
       "\u001b[2;36m                    \u001b[0m         \u001b[1;35mProb\u001b[0m\u001b[1m(\u001b[0mOmnibus\u001b[1m)\u001b[0m:         \u001b[1;36m0.000\u001b[0m        Jarque-Bera \u001b[1m(\u001b[0mJB\u001b[1m)\u001b[0m:       \u001b[1;36m264.557\u001b[0m       \u001b[2m            \u001b[0m\n",
       "\u001b[2;36m                    \u001b[0m         Skew:                  \u001b[1;36m-2.239\u001b[0m       \u001b[1;35mProb\u001b[0m\u001b[1m(\u001b[0mJB\u001b[1m)\u001b[0m:               \u001b[1;36m0.000\u001b[0m         \u001b[2m            \u001b[0m\n",
       "\u001b[2;36m                    \u001b[0m         Kurtosis:              \u001b[1;36m8.657\u001b[0m        Condition No.:          \u001b[1;36m102\u001b[0m           \u001b[2m            \u001b[0m\n",
       "\u001b[2;36m                    \u001b[0m         ===================================================================       \u001b[2m            \u001b[0m\n",
       "\u001b[2;36m                    \u001b[0m                                                                                   \u001b[2m            \u001b[0m\n"
      ]
     },
     "metadata": {},
     "output_type": "display_data"
    },
    {
     "data": {
      "text/html": [
       "<pre style=\"white-space:pre;overflow-x:auto;line-height:normal;font-family:Menlo,'DejaVu Sans Mono',consolas,'Courier New',monospace\"><span style=\"color: #7fbfbf; text-decoration-color: #7fbfbf\">                    </span><span style=\"color: #000080; text-decoration-color: #000080\">INFO    </span> Regression:Circle + Drift fy                                              <a href=\"file:///home/maa/dev/PHD/src/phd/pipelines/regression_VCT/nodes.py\" target=\"_blank\"><span style=\"color: #7f7f7f; text-decoration-color: #7f7f7f\">nodes.py</span></a><span style=\"color: #7f7f7f; text-decoration-color: #7f7f7f\">:</span><a href=\"file:///home/maa/dev/PHD/src/phd/pipelines/regression_VCT/nodes.py#549\" target=\"_blank\"><span style=\"color: #7f7f7f; text-decoration-color: #7f7f7f\">549</span></a>\n",
       "</pre>\n"
      ],
      "text/plain": [
       "\u001b[2;36m                   \u001b[0m\u001b[2;36m \u001b[0m\u001b[34mINFO    \u001b[0m Regression:Circle + Drift fy                                              \u001b]8;id=669596;file:///home/maa/dev/PHD/src/phd/pipelines/regression_VCT/nodes.py\u001b\\\u001b[2mnodes.py\u001b[0m\u001b]8;;\u001b\\\u001b[2m:\u001b[0m\u001b]8;id=450220;file:///home/maa/dev/PHD/src/phd/pipelines/regression_VCT/nodes.py#549\u001b\\\u001b[2m549\u001b[0m\u001b]8;;\u001b\\\n"
      ]
     },
     "metadata": {},
     "output_type": "display_data"
    },
    {
     "data": {
      "text/html": [
       "<pre style=\"white-space:pre;overflow-x:auto;line-height:normal;font-family:Menlo,'DejaVu Sans Mono',consolas,'Courier New',monospace\"><span style=\"color: #7fbfbf; text-decoration-color: #7fbfbf\">                    </span><span style=\"color: #000080; text-decoration-color: #000080\">INFO    </span>                         Results: Ordinary least squares                   <a href=\"file:///home/maa/dev/PHD/src/phd/pipelines/regression_VCT/nodes.py\" target=\"_blank\"><span style=\"color: #7f7f7f; text-decoration-color: #7f7f7f\">nodes.py</span></a><span style=\"color: #7f7f7f; text-decoration-color: #7f7f7f\">:</span><a href=\"file:///home/maa/dev/PHD/src/phd/pipelines/regression_VCT/nodes.py#551\" target=\"_blank\"><span style=\"color: #7f7f7f; text-decoration-color: #7f7f7f\">551</span></a>\n",
       "<span style=\"color: #7fbfbf; text-decoration-color: #7fbfbf\">                    </span>         ========================================================================= <span style=\"color: #7f7f7f; text-decoration-color: #7f7f7f\">            </span>\n",
       "<span style=\"color: #7fbfbf; text-decoration-color: #7fbfbf\">                    </span>         =======                                                                   <span style=\"color: #7f7f7f; text-decoration-color: #7f7f7f\">            </span>\n",
       "<span style=\"color: #7fbfbf; text-decoration-color: #7fbfbf\">                    </span>         Model:                  OLS              Adj. R-squared <span style=\"font-weight: bold\">(</span>uncentered<span style=\"font-weight: bold\">)</span>:     <span style=\"color: #7f7f7f; text-decoration-color: #7f7f7f\">            </span>\n",
       "<span style=\"color: #7fbfbf; text-decoration-color: #7fbfbf\">                    </span>         <span style=\"color: #008080; text-decoration-color: #008080; font-weight: bold\">0.477</span>                                                                     <span style=\"color: #7f7f7f; text-decoration-color: #7f7f7f\">            </span>\n",
       "<span style=\"color: #7fbfbf; text-decoration-color: #7fbfbf\">                    </span>         Dependent Variable:     Y_H              AIC:                             <span style=\"color: #7f7f7f; text-decoration-color: #7f7f7f\">            </span>\n",
       "<span style=\"color: #7fbfbf; text-decoration-color: #7fbfbf\">                    </span>         <span style=\"color: #008080; text-decoration-color: #008080; font-weight: bold\">-1927.1391</span>                                                                <span style=\"color: #7f7f7f; text-decoration-color: #7f7f7f\">            </span>\n",
       "<span style=\"color: #7fbfbf; text-decoration-color: #7fbfbf\">                    </span>         Date:                   <span style=\"color: #008080; text-decoration-color: #008080; font-weight: bold\">2024</span>-<span style=\"color: #008080; text-decoration-color: #008080; font-weight: bold\">01</span>-<span style=\"color: #008080; text-decoration-color: #008080; font-weight: bold\">10</span> <span style=\"color: #00ff00; text-decoration-color: #00ff00; font-weight: bold\">14:16</span> BIC:                             <span style=\"color: #7f7f7f; text-decoration-color: #7f7f7f\">            </span>\n",
       "<span style=\"color: #7fbfbf; text-decoration-color: #7fbfbf\">                    </span>         <span style=\"color: #008080; text-decoration-color: #008080; font-weight: bold\">-1921.5311</span>                                                                <span style=\"color: #7f7f7f; text-decoration-color: #7f7f7f\">            </span>\n",
       "<span style=\"color: #7fbfbf; text-decoration-color: #7fbfbf\">                    </span>         No. Observations:       <span style=\"color: #008080; text-decoration-color: #008080; font-weight: bold\">122</span>              Log-Likelihood:                  <span style=\"color: #7f7f7f; text-decoration-color: #7f7f7f\">            </span>\n",
       "<span style=\"color: #7fbfbf; text-decoration-color: #7fbfbf\">                    </span>         <span style=\"color: #008080; text-decoration-color: #008080; font-weight: bold\">965.57</span>                                                                    <span style=\"color: #7f7f7f; text-decoration-color: #7f7f7f\">            </span>\n",
       "<span style=\"color: #7fbfbf; text-decoration-color: #7fbfbf\">                    </span>         Df Model:               <span style=\"color: #008080; text-decoration-color: #008080; font-weight: bold\">2</span>                F-statistic:                     <span style=\"color: #7f7f7f; text-decoration-color: #7f7f7f\">            </span>\n",
       "<span style=\"color: #7fbfbf; text-decoration-color: #7fbfbf\">                    </span>         <span style=\"color: #008080; text-decoration-color: #008080; font-weight: bold\">56.53</span>                                                                     <span style=\"color: #7f7f7f; text-decoration-color: #7f7f7f\">            </span>\n",
       "<span style=\"color: #7fbfbf; text-decoration-color: #7fbfbf\">                    </span>         Df Residuals:           <span style=\"color: #008080; text-decoration-color: #008080; font-weight: bold\">120</span>              Prob <span style=\"font-weight: bold\">(</span>F-statistic<span style=\"font-weight: bold\">)</span>:              <span style=\"color: #7f7f7f; text-decoration-color: #7f7f7f\">            </span>\n",
       "<span style=\"color: #7fbfbf; text-decoration-color: #7fbfbf\">                    </span>         <span style=\"color: #008080; text-decoration-color: #008080; font-weight: bold\">5.04e-18</span>                                                                  <span style=\"color: #7f7f7f; text-decoration-color: #7f7f7f\">            </span>\n",
       "<span style=\"color: #7fbfbf; text-decoration-color: #7fbfbf\">                    </span>         R-squared <span style=\"font-weight: bold\">(</span>uncentered<span style=\"font-weight: bold\">)</span>: <span style=\"color: #008080; text-decoration-color: #008080; font-weight: bold\">0.485</span>            Scale:                           <span style=\"color: #7f7f7f; text-decoration-color: #7f7f7f\">            </span>\n",
       "<span style=\"color: #7fbfbf; text-decoration-color: #7fbfbf\">                    </span>         <span style=\"color: #008080; text-decoration-color: #008080; font-weight: bold\">7.9479e-09</span>                                                                <span style=\"color: #7f7f7f; text-decoration-color: #7f7f7f\">            </span>\n",
       "<span style=\"color: #7fbfbf; text-decoration-color: #7fbfbf\">                    </span>         ------------------------------------------------------------------------- <span style=\"color: #7f7f7f; text-decoration-color: #7f7f7f\">            </span>\n",
       "<span style=\"color: #7fbfbf; text-decoration-color: #7fbfbf\">                    </span>         ------------                                                              <span style=\"color: #7f7f7f; text-decoration-color: #7f7f7f\">            </span>\n",
       "<span style=\"color: #7fbfbf; text-decoration-color: #7fbfbf\">                    </span>                       Coef.       Std.Err.         t         P&gt;|t|        <span style=\"font-weight: bold\">[</span><span style=\"color: #008080; text-decoration-color: #008080; font-weight: bold\">0.025</span>  <span style=\"color: #7f7f7f; text-decoration-color: #7f7f7f\">            </span>\n",
       "<span style=\"color: #7fbfbf; text-decoration-color: #7fbfbf\">                    </span>         <span style=\"color: #008080; text-decoration-color: #008080; font-weight: bold\">0.975</span><span style=\"font-weight: bold\">]</span>                                                                    <span style=\"color: #7f7f7f; text-decoration-color: #7f7f7f\">            </span>\n",
       "<span style=\"color: #7fbfbf; text-decoration-color: #7fbfbf\">                    </span>         ------------------------------------------------------------------------- <span style=\"color: #7f7f7f; text-decoration-color: #7f7f7f\">            </span>\n",
       "<span style=\"color: #7fbfbf; text-decoration-color: #7fbfbf\">                    </span>         ------------                                                              <span style=\"color: #7f7f7f; text-decoration-color: #7f7f7f\">            </span>\n",
       "<span style=\"color: #7fbfbf; text-decoration-color: #7fbfbf\">                    </span>         Yvvr         <span style=\"color: #008080; text-decoration-color: #008080; font-weight: bold\">-0.0925</span>        <span style=\"color: #008080; text-decoration-color: #008080; font-weight: bold\">0.0095</span>      <span style=\"color: #008080; text-decoration-color: #008080; font-weight: bold\">-9.7298</span>      <span style=\"color: #008080; text-decoration-color: #008080; font-weight: bold\">0.0000</span>      <span style=\"color: #008080; text-decoration-color: #008080; font-weight: bold\">-0.1113</span>  <span style=\"color: #7f7f7f; text-decoration-color: #7f7f7f\">            </span>\n",
       "<span style=\"color: #7fbfbf; text-decoration-color: #7fbfbf\">                    </span>         <span style=\"color: #008080; text-decoration-color: #008080; font-weight: bold\">-0.0737</span>                                                                   <span style=\"color: #7f7f7f; text-decoration-color: #7f7f7f\">            </span>\n",
       "<span style=\"color: #7fbfbf; text-decoration-color: #7fbfbf\">                    </span>         Yvrr         <span style=\"color: #008080; text-decoration-color: #008080; font-weight: bold\">-0.0436</span>        <span style=\"color: #008080; text-decoration-color: #008080; font-weight: bold\">0.0070</span>      <span style=\"color: #008080; text-decoration-color: #008080; font-weight: bold\">-6.1853</span>      <span style=\"color: #008080; text-decoration-color: #008080; font-weight: bold\">0.0000</span>      <span style=\"color: #008080; text-decoration-color: #008080; font-weight: bold\">-0.0576</span>  <span style=\"color: #7f7f7f; text-decoration-color: #7f7f7f\">            </span>\n",
       "<span style=\"color: #7fbfbf; text-decoration-color: #7fbfbf\">                    </span>         <span style=\"color: #008080; text-decoration-color: #008080; font-weight: bold\">-0.0296</span>                                                                   <span style=\"color: #7f7f7f; text-decoration-color: #7f7f7f\">            </span>\n",
       "<span style=\"color: #7fbfbf; text-decoration-color: #7fbfbf\">                    </span>         ------------------------------------------------------------------------- <span style=\"color: #7f7f7f; text-decoration-color: #7f7f7f\">            </span>\n",
       "<span style=\"color: #7fbfbf; text-decoration-color: #7fbfbf\">                    </span>         -------                                                                   <span style=\"color: #7f7f7f; text-decoration-color: #7f7f7f\">            </span>\n",
       "<span style=\"color: #7fbfbf; text-decoration-color: #7fbfbf\">                    </span>         Omnibus:                    <span style=\"color: #008080; text-decoration-color: #008080; font-weight: bold\">0.326</span>             Durbin-Watson:              <span style=\"color: #7f7f7f; text-decoration-color: #7f7f7f\">            </span>\n",
       "<span style=\"color: #7fbfbf; text-decoration-color: #7fbfbf\">                    </span>         <span style=\"color: #008080; text-decoration-color: #008080; font-weight: bold\">2.332</span>                                                                     <span style=\"color: #7f7f7f; text-decoration-color: #7f7f7f\">            </span>\n",
       "<span style=\"color: #7fbfbf; text-decoration-color: #7fbfbf\">                    </span>         <span style=\"color: #800080; text-decoration-color: #800080; font-weight: bold\">Prob</span><span style=\"font-weight: bold\">(</span>Omnibus<span style=\"font-weight: bold\">)</span>:              <span style=\"color: #008080; text-decoration-color: #008080; font-weight: bold\">0.850</span>             Jarque-Bera <span style=\"font-weight: bold\">(</span>JB<span style=\"font-weight: bold\">)</span>:           <span style=\"color: #7f7f7f; text-decoration-color: #7f7f7f\">            </span>\n",
       "<span style=\"color: #7fbfbf; text-decoration-color: #7fbfbf\">                    </span>         <span style=\"color: #008080; text-decoration-color: #008080; font-weight: bold\">0.492</span>                                                                     <span style=\"color: #7f7f7f; text-decoration-color: #7f7f7f\">            </span>\n",
       "<span style=\"color: #7fbfbf; text-decoration-color: #7fbfbf\">                    </span>         Skew:                       <span style=\"color: #008080; text-decoration-color: #008080; font-weight: bold\">-0.000</span>            <span style=\"color: #800080; text-decoration-color: #800080; font-weight: bold\">Prob</span><span style=\"font-weight: bold\">(</span>JB<span style=\"font-weight: bold\">)</span>:                   <span style=\"color: #7f7f7f; text-decoration-color: #7f7f7f\">            </span>\n",
       "<span style=\"color: #7fbfbf; text-decoration-color: #7fbfbf\">                    </span>         <span style=\"color: #008080; text-decoration-color: #008080; font-weight: bold\">0.782</span>                                                                     <span style=\"color: #7f7f7f; text-decoration-color: #7f7f7f\">            </span>\n",
       "<span style=\"color: #7fbfbf; text-decoration-color: #7fbfbf\">                    </span>         Kurtosis:                   <span style=\"color: #008080; text-decoration-color: #008080; font-weight: bold\">2.689</span>             Condition No.:              <span style=\"color: #7f7f7f; text-decoration-color: #7f7f7f\">            </span>\n",
       "<span style=\"color: #7fbfbf; text-decoration-color: #7fbfbf\">                    </span>         <span style=\"color: #008080; text-decoration-color: #008080; font-weight: bold\">4</span>                                                                         <span style=\"color: #7f7f7f; text-decoration-color: #7f7f7f\">            </span>\n",
       "<span style=\"color: #7fbfbf; text-decoration-color: #7fbfbf\">                    </span>         ========================================================================= <span style=\"color: #7f7f7f; text-decoration-color: #7f7f7f\">            </span>\n",
       "<span style=\"color: #7fbfbf; text-decoration-color: #7fbfbf\">                    </span>         =======                                                                   <span style=\"color: #7f7f7f; text-decoration-color: #7f7f7f\">            </span>\n",
       "<span style=\"color: #7fbfbf; text-decoration-color: #7fbfbf\">                    </span>                                                                                   <span style=\"color: #7f7f7f; text-decoration-color: #7f7f7f\">            </span>\n",
       "</pre>\n"
      ],
      "text/plain": [
       "\u001b[2;36m                   \u001b[0m\u001b[2;36m \u001b[0m\u001b[34mINFO    \u001b[0m                         Results: Ordinary least squares                   \u001b]8;id=30597;file:///home/maa/dev/PHD/src/phd/pipelines/regression_VCT/nodes.py\u001b\\\u001b[2mnodes.py\u001b[0m\u001b]8;;\u001b\\\u001b[2m:\u001b[0m\u001b]8;id=872046;file:///home/maa/dev/PHD/src/phd/pipelines/regression_VCT/nodes.py#551\u001b\\\u001b[2m551\u001b[0m\u001b]8;;\u001b\\\n",
       "\u001b[2;36m                    \u001b[0m         ========================================================================= \u001b[2m            \u001b[0m\n",
       "\u001b[2;36m                    \u001b[0m         =======                                                                   \u001b[2m            \u001b[0m\n",
       "\u001b[2;36m                    \u001b[0m         Model:                  OLS              Adj. R-squared \u001b[1m(\u001b[0muncentered\u001b[1m)\u001b[0m:     \u001b[2m            \u001b[0m\n",
       "\u001b[2;36m                    \u001b[0m         \u001b[1;36m0.477\u001b[0m                                                                     \u001b[2m            \u001b[0m\n",
       "\u001b[2;36m                    \u001b[0m         Dependent Variable:     Y_H              AIC:                             \u001b[2m            \u001b[0m\n",
       "\u001b[2;36m                    \u001b[0m         \u001b[1;36m-1927.1391\u001b[0m                                                                \u001b[2m            \u001b[0m\n",
       "\u001b[2;36m                    \u001b[0m         Date:                   \u001b[1;36m2024\u001b[0m-\u001b[1;36m01\u001b[0m-\u001b[1;36m10\u001b[0m \u001b[1;92m14:16\u001b[0m BIC:                             \u001b[2m            \u001b[0m\n",
       "\u001b[2;36m                    \u001b[0m         \u001b[1;36m-1921.5311\u001b[0m                                                                \u001b[2m            \u001b[0m\n",
       "\u001b[2;36m                    \u001b[0m         No. Observations:       \u001b[1;36m122\u001b[0m              Log-Likelihood:                  \u001b[2m            \u001b[0m\n",
       "\u001b[2;36m                    \u001b[0m         \u001b[1;36m965.57\u001b[0m                                                                    \u001b[2m            \u001b[0m\n",
       "\u001b[2;36m                    \u001b[0m         Df Model:               \u001b[1;36m2\u001b[0m                F-statistic:                     \u001b[2m            \u001b[0m\n",
       "\u001b[2;36m                    \u001b[0m         \u001b[1;36m56.53\u001b[0m                                                                     \u001b[2m            \u001b[0m\n",
       "\u001b[2;36m                    \u001b[0m         Df Residuals:           \u001b[1;36m120\u001b[0m              Prob \u001b[1m(\u001b[0mF-statistic\u001b[1m)\u001b[0m:              \u001b[2m            \u001b[0m\n",
       "\u001b[2;36m                    \u001b[0m         \u001b[1;36m5.04e-18\u001b[0m                                                                  \u001b[2m            \u001b[0m\n",
       "\u001b[2;36m                    \u001b[0m         R-squared \u001b[1m(\u001b[0muncentered\u001b[1m)\u001b[0m: \u001b[1;36m0.485\u001b[0m            Scale:                           \u001b[2m            \u001b[0m\n",
       "\u001b[2;36m                    \u001b[0m         \u001b[1;36m7.9479e-09\u001b[0m                                                                \u001b[2m            \u001b[0m\n",
       "\u001b[2;36m                    \u001b[0m         ------------------------------------------------------------------------- \u001b[2m            \u001b[0m\n",
       "\u001b[2;36m                    \u001b[0m         ------------                                                              \u001b[2m            \u001b[0m\n",
       "\u001b[2;36m                    \u001b[0m                       Coef.       Std.Err.         t         P>|t|        \u001b[1m[\u001b[0m\u001b[1;36m0.025\u001b[0m  \u001b[2m            \u001b[0m\n",
       "\u001b[2;36m                    \u001b[0m         \u001b[1;36m0.975\u001b[0m\u001b[1m]\u001b[0m                                                                    \u001b[2m            \u001b[0m\n",
       "\u001b[2;36m                    \u001b[0m         ------------------------------------------------------------------------- \u001b[2m            \u001b[0m\n",
       "\u001b[2;36m                    \u001b[0m         ------------                                                              \u001b[2m            \u001b[0m\n",
       "\u001b[2;36m                    \u001b[0m         Yvvr         \u001b[1;36m-0.0925\u001b[0m        \u001b[1;36m0.0095\u001b[0m      \u001b[1;36m-9.7298\u001b[0m      \u001b[1;36m0.0000\u001b[0m      \u001b[1;36m-0.1113\u001b[0m  \u001b[2m            \u001b[0m\n",
       "\u001b[2;36m                    \u001b[0m         \u001b[1;36m-0.0737\u001b[0m                                                                   \u001b[2m            \u001b[0m\n",
       "\u001b[2;36m                    \u001b[0m         Yvrr         \u001b[1;36m-0.0436\u001b[0m        \u001b[1;36m0.0070\u001b[0m      \u001b[1;36m-6.1853\u001b[0m      \u001b[1;36m0.0000\u001b[0m      \u001b[1;36m-0.0576\u001b[0m  \u001b[2m            \u001b[0m\n",
       "\u001b[2;36m                    \u001b[0m         \u001b[1;36m-0.0296\u001b[0m                                                                   \u001b[2m            \u001b[0m\n",
       "\u001b[2;36m                    \u001b[0m         ------------------------------------------------------------------------- \u001b[2m            \u001b[0m\n",
       "\u001b[2;36m                    \u001b[0m         -------                                                                   \u001b[2m            \u001b[0m\n",
       "\u001b[2;36m                    \u001b[0m         Omnibus:                    \u001b[1;36m0.326\u001b[0m             Durbin-Watson:              \u001b[2m            \u001b[0m\n",
       "\u001b[2;36m                    \u001b[0m         \u001b[1;36m2.332\u001b[0m                                                                     \u001b[2m            \u001b[0m\n",
       "\u001b[2;36m                    \u001b[0m         \u001b[1;35mProb\u001b[0m\u001b[1m(\u001b[0mOmnibus\u001b[1m)\u001b[0m:              \u001b[1;36m0.850\u001b[0m             Jarque-Bera \u001b[1m(\u001b[0mJB\u001b[1m)\u001b[0m:           \u001b[2m            \u001b[0m\n",
       "\u001b[2;36m                    \u001b[0m         \u001b[1;36m0.492\u001b[0m                                                                     \u001b[2m            \u001b[0m\n",
       "\u001b[2;36m                    \u001b[0m         Skew:                       \u001b[1;36m-0.000\u001b[0m            \u001b[1;35mProb\u001b[0m\u001b[1m(\u001b[0mJB\u001b[1m)\u001b[0m:                   \u001b[2m            \u001b[0m\n",
       "\u001b[2;36m                    \u001b[0m         \u001b[1;36m0.782\u001b[0m                                                                     \u001b[2m            \u001b[0m\n",
       "\u001b[2;36m                    \u001b[0m         Kurtosis:                   \u001b[1;36m2.689\u001b[0m             Condition No.:              \u001b[2m            \u001b[0m\n",
       "\u001b[2;36m                    \u001b[0m         \u001b[1;36m4\u001b[0m                                                                         \u001b[2m            \u001b[0m\n",
       "\u001b[2;36m                    \u001b[0m         ========================================================================= \u001b[2m            \u001b[0m\n",
       "\u001b[2;36m                    \u001b[0m         =======                                                                   \u001b[2m            \u001b[0m\n",
       "\u001b[2;36m                    \u001b[0m                                                                                   \u001b[2m            \u001b[0m\n"
      ]
     },
     "metadata": {},
     "output_type": "display_data"
    },
    {
     "data": {
      "text/html": [
       "<pre style=\"white-space:pre;overflow-x:auto;line-height:normal;font-family:Menlo,'DejaVu Sans Mono',consolas,'Courier New',monospace\"><span style=\"color: #7fbfbf; text-decoration-color: #7fbfbf\">                    </span><span style=\"color: #000080; text-decoration-color: #000080\">INFO    </span> Regression:Circle + Drift mz                                              <a href=\"file:///home/maa/dev/PHD/src/phd/pipelines/regression_VCT/nodes.py\" target=\"_blank\"><span style=\"color: #7f7f7f; text-decoration-color: #7f7f7f\">nodes.py</span></a><span style=\"color: #7f7f7f; text-decoration-color: #7f7f7f\">:</span><a href=\"file:///home/maa/dev/PHD/src/phd/pipelines/regression_VCT/nodes.py#549\" target=\"_blank\"><span style=\"color: #7f7f7f; text-decoration-color: #7f7f7f\">549</span></a>\n",
       "</pre>\n"
      ],
      "text/plain": [
       "\u001b[2;36m                   \u001b[0m\u001b[2;36m \u001b[0m\u001b[34mINFO    \u001b[0m Regression:Circle + Drift mz                                              \u001b]8;id=724397;file:///home/maa/dev/PHD/src/phd/pipelines/regression_VCT/nodes.py\u001b\\\u001b[2mnodes.py\u001b[0m\u001b]8;;\u001b\\\u001b[2m:\u001b[0m\u001b]8;id=390455;file:///home/maa/dev/PHD/src/phd/pipelines/regression_VCT/nodes.py#549\u001b\\\u001b[2m549\u001b[0m\u001b]8;;\u001b\\\n"
      ]
     },
     "metadata": {},
     "output_type": "display_data"
    },
    {
     "data": {
      "text/html": [
       "<pre style=\"white-space:pre;overflow-x:auto;line-height:normal;font-family:Menlo,'DejaVu Sans Mono',consolas,'Courier New',monospace\"><span style=\"color: #7fbfbf; text-decoration-color: #7fbfbf\">                    </span><span style=\"color: #000080; text-decoration-color: #000080\">INFO    </span>                         Results: Ordinary least squares                   <a href=\"file:///home/maa/dev/PHD/src/phd/pipelines/regression_VCT/nodes.py\" target=\"_blank\"><span style=\"color: #7f7f7f; text-decoration-color: #7f7f7f\">nodes.py</span></a><span style=\"color: #7f7f7f; text-decoration-color: #7f7f7f\">:</span><a href=\"file:///home/maa/dev/PHD/src/phd/pipelines/regression_VCT/nodes.py#551\" target=\"_blank\"><span style=\"color: #7f7f7f; text-decoration-color: #7f7f7f\">551</span></a>\n",
       "<span style=\"color: #7fbfbf; text-decoration-color: #7fbfbf\">                    </span>         ========================================================================= <span style=\"color: #7f7f7f; text-decoration-color: #7f7f7f\">            </span>\n",
       "<span style=\"color: #7fbfbf; text-decoration-color: #7fbfbf\">                    </span>         =======                                                                   <span style=\"color: #7f7f7f; text-decoration-color: #7f7f7f\">            </span>\n",
       "<span style=\"color: #7fbfbf; text-decoration-color: #7fbfbf\">                    </span>         Model:                  OLS              Adj. R-squared <span style=\"font-weight: bold\">(</span>uncentered<span style=\"font-weight: bold\">)</span>:     <span style=\"color: #7f7f7f; text-decoration-color: #7f7f7f\">            </span>\n",
       "<span style=\"color: #7fbfbf; text-decoration-color: #7fbfbf\">                    </span>         <span style=\"color: #008080; text-decoration-color: #008080; font-weight: bold\">0.934</span>                                                                     <span style=\"color: #7f7f7f; text-decoration-color: #7f7f7f\">            </span>\n",
       "<span style=\"color: #7fbfbf; text-decoration-color: #7fbfbf\">                    </span>         Dependent Variable:     N_H              AIC:                             <span style=\"color: #7f7f7f; text-decoration-color: #7f7f7f\">            </span>\n",
       "<span style=\"color: #7fbfbf; text-decoration-color: #7fbfbf\">                    </span>         <span style=\"color: #008080; text-decoration-color: #008080; font-weight: bold\">-2463.9545</span>                                                                <span style=\"color: #7f7f7f; text-decoration-color: #7f7f7f\">            </span>\n",
       "<span style=\"color: #7fbfbf; text-decoration-color: #7fbfbf\">                    </span>         Date:                   <span style=\"color: #008080; text-decoration-color: #008080; font-weight: bold\">2024</span>-<span style=\"color: #008080; text-decoration-color: #008080; font-weight: bold\">01</span>-<span style=\"color: #008080; text-decoration-color: #008080; font-weight: bold\">10</span> <span style=\"color: #00ff00; text-decoration-color: #00ff00; font-weight: bold\">14:16</span> BIC:                             <span style=\"color: #7f7f7f; text-decoration-color: #7f7f7f\">            </span>\n",
       "<span style=\"color: #7fbfbf; text-decoration-color: #7fbfbf\">                    </span>         <span style=\"color: #008080; text-decoration-color: #008080; font-weight: bold\">-2458.3465</span>                                                                <span style=\"color: #7f7f7f; text-decoration-color: #7f7f7f\">            </span>\n",
       "<span style=\"color: #7fbfbf; text-decoration-color: #7fbfbf\">                    </span>         No. Observations:       <span style=\"color: #008080; text-decoration-color: #008080; font-weight: bold\">122</span>              Log-Likelihood:                  <span style=\"color: #7f7f7f; text-decoration-color: #7f7f7f\">            </span>\n",
       "<span style=\"color: #7fbfbf; text-decoration-color: #7fbfbf\">                    </span>         <span style=\"color: #008080; text-decoration-color: #008080; font-weight: bold\">1234.0</span>                                                                    <span style=\"color: #7f7f7f; text-decoration-color: #7f7f7f\">            </span>\n",
       "<span style=\"color: #7fbfbf; text-decoration-color: #7fbfbf\">                    </span>         Df Model:               <span style=\"color: #008080; text-decoration-color: #008080; font-weight: bold\">2</span>                F-statistic:                     <span style=\"color: #7f7f7f; text-decoration-color: #7f7f7f\">            </span>\n",
       "<span style=\"color: #7fbfbf; text-decoration-color: #7fbfbf\">                    </span>         <span style=\"color: #008080; text-decoration-color: #008080; font-weight: bold\">862.5</span>                                                                     <span style=\"color: #7f7f7f; text-decoration-color: #7f7f7f\">            </span>\n",
       "<span style=\"color: #7fbfbf; text-decoration-color: #7fbfbf\">                    </span>         Df Residuals:           <span style=\"color: #008080; text-decoration-color: #008080; font-weight: bold\">120</span>              Prob <span style=\"font-weight: bold\">(</span>F-statistic<span style=\"font-weight: bold\">)</span>:              <span style=\"color: #7f7f7f; text-decoration-color: #7f7f7f\">            </span>\n",
       "<span style=\"color: #7fbfbf; text-decoration-color: #7fbfbf\">                    </span>         <span style=\"color: #008080; text-decoration-color: #008080; font-weight: bold\">6.18e-72</span>                                                                  <span style=\"color: #7f7f7f; text-decoration-color: #7f7f7f\">            </span>\n",
       "<span style=\"color: #7fbfbf; text-decoration-color: #7fbfbf\">                    </span>         R-squared <span style=\"font-weight: bold\">(</span>uncentered<span style=\"font-weight: bold\">)</span>: <span style=\"color: #008080; text-decoration-color: #008080; font-weight: bold\">0.935</span>            Scale:                           <span style=\"color: #7f7f7f; text-decoration-color: #7f7f7f\">            </span>\n",
       "<span style=\"color: #7fbfbf; text-decoration-color: #7fbfbf\">                    </span>         <span style=\"color: #008080; text-decoration-color: #008080; font-weight: bold\">9.7567e-11</span>                                                                <span style=\"color: #7f7f7f; text-decoration-color: #7f7f7f\">            </span>\n",
       "<span style=\"color: #7fbfbf; text-decoration-color: #7fbfbf\">                    </span>         ------------------------------------------------------------------------- <span style=\"color: #7f7f7f; text-decoration-color: #7f7f7f\">            </span>\n",
       "<span style=\"color: #7fbfbf; text-decoration-color: #7fbfbf\">                    </span>         ------------                                                              <span style=\"color: #7f7f7f; text-decoration-color: #7f7f7f\">            </span>\n",
       "<span style=\"color: #7fbfbf; text-decoration-color: #7fbfbf\">                    </span>                      Coef.       Std.Err.         t          P&gt;|t|        <span style=\"font-weight: bold\">[</span><span style=\"color: #008080; text-decoration-color: #008080; font-weight: bold\">0.025</span>  <span style=\"color: #7f7f7f; text-decoration-color: #7f7f7f\">            </span>\n",
       "<span style=\"color: #7fbfbf; text-decoration-color: #7fbfbf\">                    </span>         <span style=\"color: #008080; text-decoration-color: #008080; font-weight: bold\">0.975</span><span style=\"font-weight: bold\">]</span>                                                                    <span style=\"color: #7f7f7f; text-decoration-color: #7f7f7f\">            </span>\n",
       "<span style=\"color: #7fbfbf; text-decoration-color: #7fbfbf\">                    </span>         ------------------------------------------------------------------------- <span style=\"color: #7f7f7f; text-decoration-color: #7f7f7f\">            </span>\n",
       "<span style=\"color: #7fbfbf; text-decoration-color: #7fbfbf\">                    </span>         ------------                                                              <span style=\"color: #7f7f7f; text-decoration-color: #7f7f7f\">            </span>\n",
       "<span style=\"color: #7fbfbf; text-decoration-color: #7fbfbf\">                    </span>         Nvvr        <span style=\"color: #008080; text-decoration-color: #008080; font-weight: bold\">-0.0361</span>        <span style=\"color: #008080; text-decoration-color: #008080; font-weight: bold\">0.0011</span>      <span style=\"color: #008080; text-decoration-color: #008080; font-weight: bold\">-34.2485</span>      <span style=\"color: #008080; text-decoration-color: #008080; font-weight: bold\">0.0000</span>      <span style=\"color: #008080; text-decoration-color: #008080; font-weight: bold\">-0.0382</span>  <span style=\"color: #7f7f7f; text-decoration-color: #7f7f7f\">            </span>\n",
       "<span style=\"color: #7fbfbf; text-decoration-color: #7fbfbf\">                    </span>         <span style=\"color: #008080; text-decoration-color: #008080; font-weight: bold\">-0.0340</span>                                                                   <span style=\"color: #7f7f7f; text-decoration-color: #7f7f7f\">            </span>\n",
       "<span style=\"color: #7fbfbf; text-decoration-color: #7fbfbf\">                    </span>         Nvrr        <span style=\"color: #008080; text-decoration-color: #008080; font-weight: bold\">-0.0137</span>        <span style=\"color: #008080; text-decoration-color: #008080; font-weight: bold\">0.0008</span>      <span style=\"color: #008080; text-decoration-color: #008080; font-weight: bold\">-17.4895</span>      <span style=\"color: #008080; text-decoration-color: #008080; font-weight: bold\">0.0000</span>      <span style=\"color: #008080; text-decoration-color: #008080; font-weight: bold\">-0.0152</span>  <span style=\"color: #7f7f7f; text-decoration-color: #7f7f7f\">            </span>\n",
       "<span style=\"color: #7fbfbf; text-decoration-color: #7fbfbf\">                    </span>         <span style=\"color: #008080; text-decoration-color: #008080; font-weight: bold\">-0.0121</span>                                                                   <span style=\"color: #7f7f7f; text-decoration-color: #7f7f7f\">            </span>\n",
       "<span style=\"color: #7fbfbf; text-decoration-color: #7fbfbf\">                    </span>         ------------------------------------------------------------------------- <span style=\"color: #7f7f7f; text-decoration-color: #7f7f7f\">            </span>\n",
       "<span style=\"color: #7fbfbf; text-decoration-color: #7fbfbf\">                    </span>         -------                                                                   <span style=\"color: #7f7f7f; text-decoration-color: #7f7f7f\">            </span>\n",
       "<span style=\"color: #7fbfbf; text-decoration-color: #7fbfbf\">                    </span>         Omnibus:                   <span style=\"color: #008080; text-decoration-color: #008080; font-weight: bold\">0.014</span>             Durbin-Watson:               <span style=\"color: #7f7f7f; text-decoration-color: #7f7f7f\">            </span>\n",
       "<span style=\"color: #7fbfbf; text-decoration-color: #7fbfbf\">                    </span>         <span style=\"color: #008080; text-decoration-color: #008080; font-weight: bold\">2.075</span>                                                                     <span style=\"color: #7f7f7f; text-decoration-color: #7f7f7f\">            </span>\n",
       "<span style=\"color: #7fbfbf; text-decoration-color: #7fbfbf\">                    </span>         <span style=\"color: #800080; text-decoration-color: #800080; font-weight: bold\">Prob</span><span style=\"font-weight: bold\">(</span>Omnibus<span style=\"font-weight: bold\">)</span>:             <span style=\"color: #008080; text-decoration-color: #008080; font-weight: bold\">0.993</span>             Jarque-Bera <span style=\"font-weight: bold\">(</span>JB<span style=\"font-weight: bold\">)</span>:            <span style=\"color: #7f7f7f; text-decoration-color: #7f7f7f\">            </span>\n",
       "<span style=\"color: #7fbfbf; text-decoration-color: #7fbfbf\">                    </span>         <span style=\"color: #008080; text-decoration-color: #008080; font-weight: bold\">0.026</span>                                                                     <span style=\"color: #7f7f7f; text-decoration-color: #7f7f7f\">            </span>\n",
       "<span style=\"color: #7fbfbf; text-decoration-color: #7fbfbf\">                    </span>         Skew:                      <span style=\"color: #008080; text-decoration-color: #008080; font-weight: bold\">0.000</span>             <span style=\"color: #800080; text-decoration-color: #800080; font-weight: bold\">Prob</span><span style=\"font-weight: bold\">(</span>JB<span style=\"font-weight: bold\">)</span>:                    <span style=\"color: #7f7f7f; text-decoration-color: #7f7f7f\">            </span>\n",
       "<span style=\"color: #7fbfbf; text-decoration-color: #7fbfbf\">                    </span>         <span style=\"color: #008080; text-decoration-color: #008080; font-weight: bold\">0.987</span>                                                                     <span style=\"color: #7f7f7f; text-decoration-color: #7f7f7f\">            </span>\n",
       "<span style=\"color: #7fbfbf; text-decoration-color: #7fbfbf\">                    </span>         Kurtosis:                  <span style=\"color: #008080; text-decoration-color: #008080; font-weight: bold\">2.929</span>             Condition No.:               <span style=\"color: #7f7f7f; text-decoration-color: #7f7f7f\">            </span>\n",
       "<span style=\"color: #7fbfbf; text-decoration-color: #7fbfbf\">                    </span>         <span style=\"color: #008080; text-decoration-color: #008080; font-weight: bold\">4</span>                                                                         <span style=\"color: #7f7f7f; text-decoration-color: #7f7f7f\">            </span>\n",
       "<span style=\"color: #7fbfbf; text-decoration-color: #7fbfbf\">                    </span>         ========================================================================= <span style=\"color: #7f7f7f; text-decoration-color: #7f7f7f\">            </span>\n",
       "<span style=\"color: #7fbfbf; text-decoration-color: #7fbfbf\">                    </span>         =======                                                                   <span style=\"color: #7f7f7f; text-decoration-color: #7f7f7f\">            </span>\n",
       "<span style=\"color: #7fbfbf; text-decoration-color: #7fbfbf\">                    </span>                                                                                   <span style=\"color: #7f7f7f; text-decoration-color: #7f7f7f\">            </span>\n",
       "</pre>\n"
      ],
      "text/plain": [
       "\u001b[2;36m                   \u001b[0m\u001b[2;36m \u001b[0m\u001b[34mINFO    \u001b[0m                         Results: Ordinary least squares                   \u001b]8;id=89949;file:///home/maa/dev/PHD/src/phd/pipelines/regression_VCT/nodes.py\u001b\\\u001b[2mnodes.py\u001b[0m\u001b]8;;\u001b\\\u001b[2m:\u001b[0m\u001b]8;id=374205;file:///home/maa/dev/PHD/src/phd/pipelines/regression_VCT/nodes.py#551\u001b\\\u001b[2m551\u001b[0m\u001b]8;;\u001b\\\n",
       "\u001b[2;36m                    \u001b[0m         ========================================================================= \u001b[2m            \u001b[0m\n",
       "\u001b[2;36m                    \u001b[0m         =======                                                                   \u001b[2m            \u001b[0m\n",
       "\u001b[2;36m                    \u001b[0m         Model:                  OLS              Adj. R-squared \u001b[1m(\u001b[0muncentered\u001b[1m)\u001b[0m:     \u001b[2m            \u001b[0m\n",
       "\u001b[2;36m                    \u001b[0m         \u001b[1;36m0.934\u001b[0m                                                                     \u001b[2m            \u001b[0m\n",
       "\u001b[2;36m                    \u001b[0m         Dependent Variable:     N_H              AIC:                             \u001b[2m            \u001b[0m\n",
       "\u001b[2;36m                    \u001b[0m         \u001b[1;36m-2463.9545\u001b[0m                                                                \u001b[2m            \u001b[0m\n",
       "\u001b[2;36m                    \u001b[0m         Date:                   \u001b[1;36m2024\u001b[0m-\u001b[1;36m01\u001b[0m-\u001b[1;36m10\u001b[0m \u001b[1;92m14:16\u001b[0m BIC:                             \u001b[2m            \u001b[0m\n",
       "\u001b[2;36m                    \u001b[0m         \u001b[1;36m-2458.3465\u001b[0m                                                                \u001b[2m            \u001b[0m\n",
       "\u001b[2;36m                    \u001b[0m         No. Observations:       \u001b[1;36m122\u001b[0m              Log-Likelihood:                  \u001b[2m            \u001b[0m\n",
       "\u001b[2;36m                    \u001b[0m         \u001b[1;36m1234.0\u001b[0m                                                                    \u001b[2m            \u001b[0m\n",
       "\u001b[2;36m                    \u001b[0m         Df Model:               \u001b[1;36m2\u001b[0m                F-statistic:                     \u001b[2m            \u001b[0m\n",
       "\u001b[2;36m                    \u001b[0m         \u001b[1;36m862.5\u001b[0m                                                                     \u001b[2m            \u001b[0m\n",
       "\u001b[2;36m                    \u001b[0m         Df Residuals:           \u001b[1;36m120\u001b[0m              Prob \u001b[1m(\u001b[0mF-statistic\u001b[1m)\u001b[0m:              \u001b[2m            \u001b[0m\n",
       "\u001b[2;36m                    \u001b[0m         \u001b[1;36m6.18e-72\u001b[0m                                                                  \u001b[2m            \u001b[0m\n",
       "\u001b[2;36m                    \u001b[0m         R-squared \u001b[1m(\u001b[0muncentered\u001b[1m)\u001b[0m: \u001b[1;36m0.935\u001b[0m            Scale:                           \u001b[2m            \u001b[0m\n",
       "\u001b[2;36m                    \u001b[0m         \u001b[1;36m9.7567e-11\u001b[0m                                                                \u001b[2m            \u001b[0m\n",
       "\u001b[2;36m                    \u001b[0m         ------------------------------------------------------------------------- \u001b[2m            \u001b[0m\n",
       "\u001b[2;36m                    \u001b[0m         ------------                                                              \u001b[2m            \u001b[0m\n",
       "\u001b[2;36m                    \u001b[0m                      Coef.       Std.Err.         t          P>|t|        \u001b[1m[\u001b[0m\u001b[1;36m0.025\u001b[0m  \u001b[2m            \u001b[0m\n",
       "\u001b[2;36m                    \u001b[0m         \u001b[1;36m0.975\u001b[0m\u001b[1m]\u001b[0m                                                                    \u001b[2m            \u001b[0m\n",
       "\u001b[2;36m                    \u001b[0m         ------------------------------------------------------------------------- \u001b[2m            \u001b[0m\n",
       "\u001b[2;36m                    \u001b[0m         ------------                                                              \u001b[2m            \u001b[0m\n",
       "\u001b[2;36m                    \u001b[0m         Nvvr        \u001b[1;36m-0.0361\u001b[0m        \u001b[1;36m0.0011\u001b[0m      \u001b[1;36m-34.2485\u001b[0m      \u001b[1;36m0.0000\u001b[0m      \u001b[1;36m-0.0382\u001b[0m  \u001b[2m            \u001b[0m\n",
       "\u001b[2;36m                    \u001b[0m         \u001b[1;36m-0.0340\u001b[0m                                                                   \u001b[2m            \u001b[0m\n",
       "\u001b[2;36m                    \u001b[0m         Nvrr        \u001b[1;36m-0.0137\u001b[0m        \u001b[1;36m0.0008\u001b[0m      \u001b[1;36m-17.4895\u001b[0m      \u001b[1;36m0.0000\u001b[0m      \u001b[1;36m-0.0152\u001b[0m  \u001b[2m            \u001b[0m\n",
       "\u001b[2;36m                    \u001b[0m         \u001b[1;36m-0.0121\u001b[0m                                                                   \u001b[2m            \u001b[0m\n",
       "\u001b[2;36m                    \u001b[0m         ------------------------------------------------------------------------- \u001b[2m            \u001b[0m\n",
       "\u001b[2;36m                    \u001b[0m         -------                                                                   \u001b[2m            \u001b[0m\n",
       "\u001b[2;36m                    \u001b[0m         Omnibus:                   \u001b[1;36m0.014\u001b[0m             Durbin-Watson:               \u001b[2m            \u001b[0m\n",
       "\u001b[2;36m                    \u001b[0m         \u001b[1;36m2.075\u001b[0m                                                                     \u001b[2m            \u001b[0m\n",
       "\u001b[2;36m                    \u001b[0m         \u001b[1;35mProb\u001b[0m\u001b[1m(\u001b[0mOmnibus\u001b[1m)\u001b[0m:             \u001b[1;36m0.993\u001b[0m             Jarque-Bera \u001b[1m(\u001b[0mJB\u001b[1m)\u001b[0m:            \u001b[2m            \u001b[0m\n",
       "\u001b[2;36m                    \u001b[0m         \u001b[1;36m0.026\u001b[0m                                                                     \u001b[2m            \u001b[0m\n",
       "\u001b[2;36m                    \u001b[0m         Skew:                      \u001b[1;36m0.000\u001b[0m             \u001b[1;35mProb\u001b[0m\u001b[1m(\u001b[0mJB\u001b[1m)\u001b[0m:                    \u001b[2m            \u001b[0m\n",
       "\u001b[2;36m                    \u001b[0m         \u001b[1;36m0.987\u001b[0m                                                                     \u001b[2m            \u001b[0m\n",
       "\u001b[2;36m                    \u001b[0m         Kurtosis:                  \u001b[1;36m2.929\u001b[0m             Condition No.:               \u001b[2m            \u001b[0m\n",
       "\u001b[2;36m                    \u001b[0m         \u001b[1;36m4\u001b[0m                                                                         \u001b[2m            \u001b[0m\n",
       "\u001b[2;36m                    \u001b[0m         ========================================================================= \u001b[2m            \u001b[0m\n",
       "\u001b[2;36m                    \u001b[0m         =======                                                                   \u001b[2m            \u001b[0m\n",
       "\u001b[2;36m                    \u001b[0m                                                                                   \u001b[2m            \u001b[0m\n"
      ]
     },
     "metadata": {},
     "output_type": "display_data"
    }
   ],
   "source": [
    "model_,models = regress_VCT(model=model, df_VCT=df_VCT, pipeline=pipeline, exclude_parameters=exclude_parameters)"
   ]
  },
  {
   "cell_type": "code",
   "execution_count": 22,
   "id": "50508693-2d2e-4df6-aca2-12b2176f6900",
   "metadata": {},
   "outputs": [],
   "source": [
    "regression = models['Circle + Drift mz']"
   ]
  },
  {
   "cell_type": "code",
   "execution_count": 23,
   "id": "b0ec2076-80e1-41bd-8961-9f5c448f0d65",
   "metadata": {},
   "outputs": [
    {
     "data": {
      "text/plain": [
       "['Nvvr', 'Nvrr']"
      ]
     },
     "execution_count": 23,
     "metadata": {},
     "output_type": "execute_result"
    }
   ],
   "source": [
    "list(regression.params.keys())"
   ]
  },
  {
   "cell_type": "code",
   "execution_count": 24,
   "id": "e40b4bc2-606d-4d09-9312-1f4adda54893",
   "metadata": {},
   "outputs": [],
   "source": [
    "parameters = pd.Series()\n",
    "for name, regression in models.items():\n",
    "    parameters[name] = list(regression.params.keys())"
   ]
  },
  {
   "cell_type": "code",
   "execution_count": 25,
   "id": "4515a93a-1a99-4ca5-8296-fa044ed351e2",
   "metadata": {},
   "outputs": [
    {
     "data": {
      "text/plain": [
       "rudder hull interaction aH            [aH]\n",
       "rudder hull interaction xH            [xH]\n",
       "resistance                        [X0, Xu]\n",
       "Drift angle fx                [Xvv, const]\n",
       "Drift angle fy                  [Yv, Yvvv]\n",
       "Drift angle mz                  [Nvvv, Nv]\n",
       "Circle fx                     [Xrr, const]\n",
       "Circle fy                       [Yrrr, Yr]\n",
       "Circle mz                       [Nrrr, Nr]\n",
       "Circle + Drift fx             [Xvr, const]\n",
       "Circle + Drift fy             [Yvvr, Yvrr]\n",
       "Circle + Drift mz             [Nvvr, Nvrr]\n",
       "dtype: object"
      ]
     },
     "execution_count": 25,
     "metadata": {},
     "output_type": "execute_result"
    }
   ],
   "source": [
    "parameters"
   ]
  },
  {
   "cell_type": "code",
   "execution_count": 26,
   "id": "4aebc6dd-ba47-4175-8f18-d03fb3ea55b0",
   "metadata": {},
   "outputs": [
    {
     "data": {
      "text/latex": [
       "$\\displaystyle N_{H} = N_{0} + N_{rrr} r^{3} + N_{r} r + N_{vrr} r^{2} v + N_{vvr} r v^{2} + N_{vvv} v^{3} + N_{v} v$"
      ],
      "text/plain": [
       "Eq(N_H, N_{0} + N_{rrr}*r**3 + N_{r}*r + N_{vrr}*r**2*v + N_{vvr}*r*v**2 + N_{vvv}*v**3 + N_{v}*v)"
      ]
     },
     "execution_count": 26,
     "metadata": {},
     "output_type": "execute_result"
    }
   ],
   "source": [
    "regression.eq"
   ]
  },
  {
   "cell_type": "code",
   "execution_count": 27,
   "id": "67331872-7176-4978-96b5-ef055f6f20d1",
   "metadata": {},
   "outputs": [
    {
     "data": {
      "text/plain": [
       "\"{N_{H}}'\""
      ]
     },
     "execution_count": 27,
     "metadata": {},
     "output_type": "execute_result"
    }
   ],
   "source": [
    "eq_latex = sp.latex(regression.eq.lhs)\n",
    "eq_latex_prime = f\"{{{eq_latex}}}'\"\n",
    "eq_latex_prime"
   ]
  },
  {
   "cell_type": "code",
   "execution_count": 28,
   "id": "ffa0b1a4-f4cf-4953-b042-6f46dcaace1d",
   "metadata": {},
   "outputs": [],
   "source": [
    "def to_latex_prime(expression):\n",
    "    eq_latex = sp.latex(expression)\n",
    "    eq_latex_prime = f\"${{{eq_latex}}}'$\"\n",
    "    eq_latex_prime = eq_latex_prime.replace('delta',r'\\delta')\n",
    "    return eq_latex_prime"
   ]
  },
  {
   "cell_type": "code",
   "execution_count": 33,
   "id": "7e221e91-7232-4974-8181-7eb36adb1310",
   "metadata": {},
   "outputs": [],
   "source": [
    "name_replace={\n",
    "    \"rudder hull interaction aH\":\"Rudder angle\",\n",
    "    \"rudder hull interaction xH\":\"Rudder angle\",\n",
    "    \"resistance\":\"Self propulsion\",\n",
    "}"
   ]
  },
  {
   "cell_type": "code",
   "execution_count": 37,
   "id": "c11f1767-ba58-44e1-8163-b0ef2fa1ff0d",
   "metadata": {},
   "outputs": [],
   "source": [
    "table_regression_pipeline = pd.DataFrame()\n",
    "found = set([u,v,r,delta,thrust_port,thrust_stbd,p.Xthruststbd,p.Xthrustport,y_p_port, y_p_stbd,p.Y0,p.N0,Y_R,N_R])\n",
    "for name, regression in models.items():\n",
    "    new_parameters = regression.eq.rhs.free_symbols - found\n",
    "    found=found.union(regression.eq.rhs.free_symbols)\n",
    "    \n",
    "    test_type = str(name)\n",
    "    test_type = test_type.replace(\" fx\",\"\")\n",
    "    test_type = test_type.replace(\" fy\",\"\")\n",
    "    test_type = test_type.replace(\" mz\",\"\")\n",
    "    table_regression_pipeline.loc[name,'Test type'] = name_replace.get(test_type,test_type) \n",
    "    table_regression_pipeline.loc[name,'Label'] = to_latex_prime(regression.eq.lhs)\n",
    "    table_regression_pipeline.loc[name,'Features'] = \" \".join([to_latex_prime(parameter) for parameter in new_parameters])"
   ]
  },
  {
   "cell_type": "code",
   "execution_count": 38,
   "id": "077c2f10-146b-429a-817b-155ba443639e",
   "metadata": {},
   "outputs": [
    {
     "data": {
      "text/html": [
       "<div>\n",
       "<style scoped>\n",
       "    .dataframe tbody tr th:only-of-type {\n",
       "        vertical-align: middle;\n",
       "    }\n",
       "\n",
       "    .dataframe tbody tr th {\n",
       "        vertical-align: top;\n",
       "    }\n",
       "\n",
       "    .dataframe thead th {\n",
       "        text-align: right;\n",
       "    }\n",
       "</style>\n",
       "<table border=\"1\" class=\"dataframe\">\n",
       "  <thead>\n",
       "    <tr style=\"text-align: right;\">\n",
       "      <th></th>\n",
       "      <th>Test type</th>\n",
       "      <th>Label</th>\n",
       "      <th>Features</th>\n",
       "    </tr>\n",
       "  </thead>\n",
       "  <tbody>\n",
       "    <tr>\n",
       "      <th>rudder hull interaction aH</th>\n",
       "      <td>Rudder angle</td>\n",
       "      <td>${Y_{D}}'$</td>\n",
       "      <td>${a_{H}}'$</td>\n",
       "    </tr>\n",
       "    <tr>\n",
       "      <th>rudder hull interaction xH</th>\n",
       "      <td>Rudder angle</td>\n",
       "      <td>${N_{D}}'$</td>\n",
       "      <td>${x_{H}}'$</td>\n",
       "    </tr>\n",
       "    <tr>\n",
       "      <th>resistance</th>\n",
       "      <td>Self propulsion</td>\n",
       "      <td>${X_{H}}'$</td>\n",
       "      <td>${X_{u}}'$ ${X_{0}}'$</td>\n",
       "    </tr>\n",
       "    <tr>\n",
       "      <th>Drift angle fx</th>\n",
       "      <td>Drift angle</td>\n",
       "      <td>${X_{H}}'$</td>\n",
       "      <td>${X_{vv}}'$</td>\n",
       "    </tr>\n",
       "    <tr>\n",
       "      <th>Drift angle fy</th>\n",
       "      <td>Drift angle</td>\n",
       "      <td>${Y_{H}}'$</td>\n",
       "      <td>${Y_{vvv}}'$ ${Y_{v}}'$</td>\n",
       "    </tr>\n",
       "    <tr>\n",
       "      <th>Drift angle mz</th>\n",
       "      <td>Drift angle</td>\n",
       "      <td>${N_{H}}'$</td>\n",
       "      <td>${N_{v}}'$ ${N_{vvv}}'$</td>\n",
       "    </tr>\n",
       "    <tr>\n",
       "      <th>Circle fx</th>\n",
       "      <td>Circle</td>\n",
       "      <td>${X_{H}}'$</td>\n",
       "      <td>${X_{rr}}'$</td>\n",
       "    </tr>\n",
       "    <tr>\n",
       "      <th>Circle fy</th>\n",
       "      <td>Circle</td>\n",
       "      <td>${Y_{H}}'$</td>\n",
       "      <td>${Y_{rrr}}'$ ${Y_{r}}'$</td>\n",
       "    </tr>\n",
       "    <tr>\n",
       "      <th>Circle mz</th>\n",
       "      <td>Circle</td>\n",
       "      <td>${N_{H}}'$</td>\n",
       "      <td>${N_{rrr}}'$ ${N_{r}}'$</td>\n",
       "    </tr>\n",
       "    <tr>\n",
       "      <th>Circle + Drift fx</th>\n",
       "      <td>Circle + Drift</td>\n",
       "      <td>${X_{H}}'$</td>\n",
       "      <td>${X_{vr}}'$</td>\n",
       "    </tr>\n",
       "    <tr>\n",
       "      <th>Circle + Drift fy</th>\n",
       "      <td>Circle + Drift</td>\n",
       "      <td>${Y_{H}}'$</td>\n",
       "      <td>${Y_{vrr}}'$ ${Y_{vvr}}'$</td>\n",
       "    </tr>\n",
       "    <tr>\n",
       "      <th>Circle + Drift mz</th>\n",
       "      <td>Circle + Drift</td>\n",
       "      <td>${N_{H}}'$</td>\n",
       "      <td>${N_{vvr}}'$ ${N_{vrr}}'$</td>\n",
       "    </tr>\n",
       "  </tbody>\n",
       "</table>\n",
       "</div>"
      ],
      "text/plain": [
       "                                  Test type       Label                   Features\n",
       "rudder hull interaction aH     Rudder angle  ${Y_{D}}'$                 ${a_{H}}'$\n",
       "rudder hull interaction xH     Rudder angle  ${N_{D}}'$                 ${x_{H}}'$\n",
       "resistance                  Self propulsion  ${X_{H}}'$      ${X_{u}}'$ ${X_{0}}'$\n",
       "Drift angle fx                  Drift angle  ${X_{H}}'$                ${X_{vv}}'$\n",
       "Drift angle fy                  Drift angle  ${Y_{H}}'$    ${Y_{vvv}}'$ ${Y_{v}}'$\n",
       "Drift angle mz                  Drift angle  ${N_{H}}'$    ${N_{v}}'$ ${N_{vvv}}'$\n",
       "Circle fx                            Circle  ${X_{H}}'$                ${X_{rr}}'$\n",
       "Circle fy                            Circle  ${Y_{H}}'$    ${Y_{rrr}}'$ ${Y_{r}}'$\n",
       "Circle mz                            Circle  ${N_{H}}'$    ${N_{rrr}}'$ ${N_{r}}'$\n",
       "Circle + Drift fx            Circle + Drift  ${X_{H}}'$                ${X_{vr}}'$\n",
       "Circle + Drift fy            Circle + Drift  ${Y_{H}}'$  ${Y_{vrr}}'$ ${Y_{vvr}}'$\n",
       "Circle + Drift mz            Circle + Drift  ${N_{H}}'$  ${N_{vvr}}'$ ${N_{vrr}}'$"
      ]
     },
     "execution_count": 38,
     "metadata": {},
     "output_type": "execute_result"
    }
   ],
   "source": [
    "table_regression_pipeline"
   ]
  },
  {
   "cell_type": "code",
   "execution_count": 39,
   "id": "cb922561-29b9-48d2-b1ab-829f11525459",
   "metadata": {},
   "outputs": [],
   "source": [
    "table_regression_pipeline.to_csv(paper.file_path_with_nb_ref(\"regression_pipeline_semiempirical.csv\", directory='tables'), index=False)"
   ]
  },
  {
   "cell_type": "code",
   "execution_count": null,
   "id": "542db0cd-e66b-478a-94e4-3c43a7e9c7e6",
   "metadata": {},
   "outputs": [],
   "source": []
  }
 ],
 "metadata": {
  "kernelspec": {
   "display_name": "Kedro (phd)",
   "language": "python",
   "name": "kedro_phd"
  },
  "language_info": {
   "codemirror_mode": {
    "name": "ipython",
    "version": 3
   },
   "file_extension": ".py",
   "mimetype": "text/x-python",
   "name": "python",
   "nbconvert_exporter": "python",
   "pygments_lexer": "ipython3",
   "version": "3.10.10"
  }
 },
 "nbformat": 4,
 "nbformat_minor": 5
}
