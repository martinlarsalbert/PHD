{
 "cells": [
  {
   "cell_type": "markdown",
   "id": "b36b929f-994d-4b75-8eea-3455ae04d30c",
   "metadata": {},
   "source": [
    "# Method: VCT regression"
   ]
  },
  {
   "cell_type": "code",
   "execution_count": 1,
   "id": "437d6687-3de2-49b1-b381-12aed5a419c9",
   "metadata": {},
   "outputs": [],
   "source": [
    "#import warnings\n",
    "#warnings.filterwarnings('ignore')\n",
    "%matplotlib inline\n",
    "%load_ext autoreload\n",
    "%autoreload 2\n",
    "%config Completer.use_jedi = False"
   ]
  },
  {
   "cell_type": "code",
   "execution_count": 93,
   "id": "3c7ee721-8ac4-4011-bc2d-723863a77c73",
   "metadata": {},
   "outputs": [],
   "source": [
    "import pandas as pd\n",
    "pd.set_option('display.max_rows', 5000)\n",
    "pd.set_option('display.max_columns', 5000)\n",
    "pd.set_option('display.width', 10000)\n",
    "import numpy as np\n",
    "import yaml\n",
    "\n",
    "from vessel_manoeuvring_models.visualization.plot import track_plot, plot\n",
    "from phd.visualization.plot_ship import track_plots\n",
    "from vessel_manoeuvring_models.prime_system import PrimeSystem\n",
    "from phd.visualization.plot_prediction import plot_total_force, plot_force_components, predict, plot_compare_model_forces, plot_parameter_contributions\n",
    "from phd.visualization.bokeh_plotting import create_tab\n",
    "from vessel_manoeuvring_models.symbols import *\n",
    "import matplotlib.pyplot as plt\n",
    "from vessel_manoeuvring_models.substitute_dynamic_symbols import run, lambdify, remove_functions, prime\n",
    "from vessel_manoeuvring_models.parameters import df_parameters\n",
    "p = df_parameters[\"symbol\"]\n",
    "import statsmodels.api as sm\n",
    "import sympy as sp\n",
    "from sympy import Eq, symbols, latex\n",
    "import paper\n",
    "from paper import save_fig, save_eq\n",
    "import vessel_manoeuvring_models\n",
    "from phd.pipelines.regression_VCT.nodes import df_VCT_to_prime, regress_VCT\n",
    "from phd.pipelines.regression_VCT.regression_pipeline import pipeline, pipeline_RHI"
   ]
  },
  {
   "cell_type": "code",
   "execution_count": 29,
   "id": "96675a7e-9a9e-4565-b6fc-5908ebf21231",
   "metadata": {},
   "outputs": [
    {
     "data": {
      "text/html": [
       "<pre style=\"white-space:pre;overflow-x:auto;line-height:normal;font-family:Menlo,'DejaVu Sans Mono',consolas,'Courier New',monospace\"><span style=\"color: #7fbfbf; text-decoration-color: #7fbfbf\">[02/07/24 11:36:45] </span><span style=\"color: #000080; text-decoration-color: #000080\">INFO    </span> Loading data from <span style=\"color: #008000; text-decoration-color: #008000\">'wPCC.ship_data'</span> <span style=\"font-weight: bold\">(</span>YAMLDataSet<span style=\"font-weight: bold\">)</span><span style=\"color: #808000; text-decoration-color: #808000\">...</span>                <a href=\"file:///home/maa/miniconda3/envs/phd/lib/python3.10/site-packages/kedro/io/data_catalog.py\" target=\"_blank\"><span style=\"color: #7f7f7f; text-decoration-color: #7f7f7f\">data_catalog.py</span></a><span style=\"color: #7f7f7f; text-decoration-color: #7f7f7f\">:</span><a href=\"file:///home/maa/miniconda3/envs/phd/lib/python3.10/site-packages/kedro/io/data_catalog.py#502\" target=\"_blank\"><span style=\"color: #7f7f7f; text-decoration-color: #7f7f7f\">502</span></a>\n",
       "</pre>\n"
      ],
      "text/plain": [
       "\u001b[2;36m[02/07/24 11:36:45]\u001b[0m\u001b[2;36m \u001b[0m\u001b[34mINFO    \u001b[0m Loading data from \u001b[32m'wPCC.ship_data'\u001b[0m \u001b[1m(\u001b[0mYAMLDataSet\u001b[1m)\u001b[0m\u001b[33m...\u001b[0m                \u001b]8;id=421590;file:///home/maa/miniconda3/envs/phd/lib/python3.10/site-packages/kedro/io/data_catalog.py\u001b\\\u001b[2mdata_catalog.py\u001b[0m\u001b]8;;\u001b\\\u001b[2m:\u001b[0m\u001b]8;id=569373;file:///home/maa/miniconda3/envs/phd/lib/python3.10/site-packages/kedro/io/data_catalog.py#502\u001b\\\u001b[2m502\u001b[0m\u001b]8;;\u001b\\\n"
      ]
     },
     "metadata": {},
     "output_type": "display_data"
    },
    {
     "data": {
      "text/html": [
       "<pre style=\"white-space:pre;overflow-x:auto;line-height:normal;font-family:Menlo,'DejaVu Sans Mono',consolas,'Courier New',monospace\"><span style=\"color: #7fbfbf; text-decoration-color: #7fbfbf\">                    </span><span style=\"color: #000080; text-decoration-color: #000080\">INFO    </span> Loading data from <span style=\"color: #008000; text-decoration-color: #008000\">'wPCC.models_VCT'</span> <span style=\"font-weight: bold\">(</span>PartitionedDataset<span style=\"font-weight: bold\">)</span><span style=\"color: #808000; text-decoration-color: #808000\">...</span>        <a href=\"file:///home/maa/miniconda3/envs/phd/lib/python3.10/site-packages/kedro/io/data_catalog.py\" target=\"_blank\"><span style=\"color: #7f7f7f; text-decoration-color: #7f7f7f\">data_catalog.py</span></a><span style=\"color: #7f7f7f; text-decoration-color: #7f7f7f\">:</span><a href=\"file:///home/maa/miniconda3/envs/phd/lib/python3.10/site-packages/kedro/io/data_catalog.py#502\" target=\"_blank\"><span style=\"color: #7f7f7f; text-decoration-color: #7f7f7f\">502</span></a>\n",
       "</pre>\n"
      ],
      "text/plain": [
       "\u001b[2;36m                   \u001b[0m\u001b[2;36m \u001b[0m\u001b[34mINFO    \u001b[0m Loading data from \u001b[32m'wPCC.models_VCT'\u001b[0m \u001b[1m(\u001b[0mPartitionedDataset\u001b[1m)\u001b[0m\u001b[33m...\u001b[0m        \u001b]8;id=378971;file:///home/maa/miniconda3/envs/phd/lib/python3.10/site-packages/kedro/io/data_catalog.py\u001b\\\u001b[2mdata_catalog.py\u001b[0m\u001b]8;;\u001b\\\u001b[2m:\u001b[0m\u001b]8;id=812362;file:///home/maa/miniconda3/envs/phd/lib/python3.10/site-packages/kedro/io/data_catalog.py#502\u001b\\\u001b[2m502\u001b[0m\u001b]8;;\u001b\\\n"
      ]
     },
     "metadata": {},
     "output_type": "display_data"
    },
    {
     "data": {
      "text/html": [
       "<pre style=\"white-space:pre;overflow-x:auto;line-height:normal;font-family:Menlo,'DejaVu Sans Mono',consolas,'Courier New',monospace\"><span style=\"color: #7fbfbf; text-decoration-color: #7fbfbf\">                    </span><span style=\"color: #000080; text-decoration-color: #000080\">INFO    </span> Loading data from <span style=\"color: #008000; text-decoration-color: #008000\">'wPCC.df_VCT_scaled'</span> <span style=\"font-weight: bold\">(</span>CSVDataSet<span style=\"font-weight: bold\">)</span><span style=\"color: #808000; text-decoration-color: #808000\">...</span>             <a href=\"file:///home/maa/miniconda3/envs/phd/lib/python3.10/site-packages/kedro/io/data_catalog.py\" target=\"_blank\"><span style=\"color: #7f7f7f; text-decoration-color: #7f7f7f\">data_catalog.py</span></a><span style=\"color: #7f7f7f; text-decoration-color: #7f7f7f\">:</span><a href=\"file:///home/maa/miniconda3/envs/phd/lib/python3.10/site-packages/kedro/io/data_catalog.py#502\" target=\"_blank\"><span style=\"color: #7f7f7f; text-decoration-color: #7f7f7f\">502</span></a>\n",
       "</pre>\n"
      ],
      "text/plain": [
       "\u001b[2;36m                   \u001b[0m\u001b[2;36m \u001b[0m\u001b[34mINFO    \u001b[0m Loading data from \u001b[32m'wPCC.df_VCT_scaled'\u001b[0m \u001b[1m(\u001b[0mCSVDataSet\u001b[1m)\u001b[0m\u001b[33m...\u001b[0m             \u001b]8;id=187125;file:///home/maa/miniconda3/envs/phd/lib/python3.10/site-packages/kedro/io/data_catalog.py\u001b\\\u001b[2mdata_catalog.py\u001b[0m\u001b]8;;\u001b\\\u001b[2m:\u001b[0m\u001b]8;id=20915;file:///home/maa/miniconda3/envs/phd/lib/python3.10/site-packages/kedro/io/data_catalog.py#502\u001b\\\u001b[2m502\u001b[0m\u001b]8;;\u001b\\\n"
      ]
     },
     "metadata": {},
     "output_type": "display_data"
    },
    {
     "data": {
      "text/html": [
       "<pre style=\"white-space:pre;overflow-x:auto;line-height:normal;font-family:Menlo,'DejaVu Sans Mono',consolas,'Courier New',monospace\"><span style=\"color: #7fbfbf; text-decoration-color: #7fbfbf\">                    </span><span style=\"color: #000080; text-decoration-color: #000080\">INFO    </span> Loading data from <span style=\"color: #008000; text-decoration-color: #008000\">'params:wPCC.VCT_exclude_parameters'</span>             <a href=\"file:///home/maa/miniconda3/envs/phd/lib/python3.10/site-packages/kedro/io/data_catalog.py\" target=\"_blank\"><span style=\"color: #7f7f7f; text-decoration-color: #7f7f7f\">data_catalog.py</span></a><span style=\"color: #7f7f7f; text-decoration-color: #7f7f7f\">:</span><a href=\"file:///home/maa/miniconda3/envs/phd/lib/python3.10/site-packages/kedro/io/data_catalog.py#502\" target=\"_blank\"><span style=\"color: #7f7f7f; text-decoration-color: #7f7f7f\">502</span></a>\n",
       "<span style=\"color: #7fbfbf; text-decoration-color: #7fbfbf\">                    </span>         <span style=\"font-weight: bold\">(</span>MemoryDataset<span style=\"font-weight: bold\">)</span><span style=\"color: #808000; text-decoration-color: #808000\">...</span>                                                 <span style=\"color: #7f7f7f; text-decoration-color: #7f7f7f\">                   </span>\n",
       "</pre>\n"
      ],
      "text/plain": [
       "\u001b[2;36m                   \u001b[0m\u001b[2;36m \u001b[0m\u001b[34mINFO    \u001b[0m Loading data from \u001b[32m'params:wPCC.VCT_exclude_parameters'\u001b[0m             \u001b]8;id=518273;file:///home/maa/miniconda3/envs/phd/lib/python3.10/site-packages/kedro/io/data_catalog.py\u001b\\\u001b[2mdata_catalog.py\u001b[0m\u001b]8;;\u001b\\\u001b[2m:\u001b[0m\u001b]8;id=846491;file:///home/maa/miniconda3/envs/phd/lib/python3.10/site-packages/kedro/io/data_catalog.py#502\u001b\\\u001b[2m502\u001b[0m\u001b]8;;\u001b\\\n",
       "\u001b[2;36m                    \u001b[0m         \u001b[1m(\u001b[0mMemoryDataset\u001b[1m)\u001b[0m\u001b[33m...\u001b[0m                                                 \u001b[2m                   \u001b[0m\n"
      ]
     },
     "metadata": {},
     "output_type": "display_data"
    }
   ],
   "source": [
    "#%reload_kedro\n",
    "ship='wPCC'\n",
    "ship_data = catalog.load(f\"{ship}.ship_data\")\n",
    "model_loaders = catalog.load(f\"{ship}.models_VCT\")\n",
    "#models_rudder_VCT_loaders = catalog.load(f\"{ship}.models_rudder_VCT\")\n",
    "df_VCT = catalog.load(f\"{ship}.df_VCT_scaled\")\n",
    "exclude_parameters = catalog.load(f\"params:{ship}.VCT_exclude_parameters\")"
   ]
  },
  {
   "cell_type": "code",
   "execution_count": 30,
   "id": "2bb0811a-0f4a-401e-bd7c-5ea1cb00ab87",
   "metadata": {},
   "outputs": [
    {
     "data": {
      "text/html": [
       "<pre style=\"white-space:pre;overflow-x:auto;line-height:normal;font-family:Menlo,'DejaVu Sans Mono',consolas,'Courier New',monospace\"></pre>\n"
      ],
      "text/plain": []
     },
     "metadata": {},
     "output_type": "display_data"
    },
    {
     "data": {
      "text/plain": [
       "\n",
       "\u001b[1m{\u001b[0m\n",
       "    \u001b[32m'Y0'\u001b[0m: \u001b[1;36m0\u001b[0m,\n",
       "    \u001b[32m'N0'\u001b[0m: \u001b[1;36m0\u001b[0m,\n",
       "    \u001b[32m'Yvdeltadelta'\u001b[0m: \u001b[1;36m0\u001b[0m,\n",
       "    \u001b[32m'Yvvdelta'\u001b[0m: \u001b[1;36m0\u001b[0m,\n",
       "    \u001b[32m'Yrdeltadelta'\u001b[0m: \u001b[1;36m0\u001b[0m,\n",
       "    \u001b[32m'Yrrdelta'\u001b[0m: \u001b[1;36m0\u001b[0m,\n",
       "    \u001b[32m'Yvrdelta'\u001b[0m: \u001b[1;36m0\u001b[0m,\n",
       "    \u001b[32m'Nrrdelta'\u001b[0m: \u001b[1;36m0\u001b[0m,\n",
       "    \u001b[32m'Nvrdelta'\u001b[0m: \u001b[1;36m0\u001b[0m,\n",
       "    \u001b[32m'Nvdeltadelta'\u001b[0m: \u001b[1;36m0\u001b[0m,\n",
       "    \u001b[32m'Nrdeltadelta'\u001b[0m: \u001b[1;36m0\u001b[0m,\n",
       "    \u001b[32m'Nvvdelta'\u001b[0m: \u001b[1;36m0\u001b[0m,\n",
       "    \u001b[32m'Xthrustport'\u001b[0m: \u001b[1;36m0.883\u001b[0m,\n",
       "    \u001b[32m'Xthruststbd'\u001b[0m: \u001b[1;36m0.883\u001b[0m,\n",
       "    \u001b[32m'Yvvv'\u001b[0m: \u001b[1;36m0\u001b[0m,\n",
       "    \u001b[32m'Nvvv'\u001b[0m: \u001b[1;36m0\u001b[0m,\n",
       "    \u001b[32m'Nrrr'\u001b[0m: \u001b[1;36m0\u001b[0m,\n",
       "    \u001b[32m'Yvvr'\u001b[0m: \u001b[1;36m0\u001b[0m,\n",
       "    \u001b[32m'Yvrr'\u001b[0m: \u001b[1;36m0\u001b[0m,\n",
       "    \u001b[32m'Nvvr'\u001b[0m: \u001b[1;36m0\u001b[0m,\n",
       "    \u001b[32m'Nvrr'\u001b[0m: \u001b[1;36m0\u001b[0m,\n",
       "    \u001b[32m'Yr'\u001b[0m: \u001b[1;36m0\u001b[0m,\n",
       "    \u001b[32m'Yrrr'\u001b[0m: \u001b[1;36m0\u001b[0m\n",
       "\u001b[1m}\u001b[0m"
      ]
     },
     "execution_count": 30,
     "metadata": {},
     "output_type": "execute_result"
    }
   ],
   "source": [
    "exclude_parameters"
   ]
  },
  {
   "cell_type": "markdown",
   "id": "899bd2eb-bbac-4cef-9521-c35f92e2b1f7",
   "metadata": {},
   "source": [
    "## Mathematical rudder model"
   ]
  },
  {
   "cell_type": "code",
   "execution_count": 31,
   "id": "30a7cb46-8197-476e-8497-182cad104d89",
   "metadata": {},
   "outputs": [],
   "source": [
    "model = model_loaders['semiempirical_covered']()"
   ]
  },
  {
   "cell_type": "code",
   "execution_count": 32,
   "id": "2adbb901-59b9-4265-968f-5f24ef73afdd",
   "metadata": {},
   "outputs": [
    {
     "name": "stdout",
     "output_type": "stream",
     "text": [
      "hull: PrimeEquationSubSystem\n",
      "propellers: PropellersSimpleSystem\n",
      "rudder_port: SemiempiricalRudderSystemCovered\n",
      "rudder_stbd: SemiempiricalRudderSystemCovered\n",
      "rudders: Rudders\n",
      "rudder_hull_interaction: RudderHullInteractionSystem\n",
      "wind_force: DummyWindForceSystem\n"
     ]
    }
   ],
   "source": [
    "model.show_subsystems()"
   ]
  },
  {
   "cell_type": "code",
   "execution_count": 33,
   "id": "b282bfee-0c0a-4fd0-8f6b-84875b8dc19d",
   "metadata": {},
   "outputs": [],
   "source": [
    "df_VCT_prime = df_VCT_to_prime(model=model, df_VCT=df_VCT)"
   ]
  },
  {
   "cell_type": "code",
   "execution_count": 34,
   "id": "2ac25579-4259-48c5-9167-269f8a0108c8",
   "metadata": {},
   "outputs": [],
   "source": [
    "regression_pipeline = pipeline(df_VCT_prime=df_VCT_prime, model=model)"
   ]
  },
  {
   "cell_type": "code",
   "execution_count": 35,
   "id": "296c4131-5dd2-4e4c-93e5-4297ad6f87c8",
   "metadata": {},
   "outputs": [
    {
     "data": {
      "text/html": [
       "<pre style=\"white-space:pre;overflow-x:auto;line-height:normal;font-family:Menlo,'DejaVu Sans Mono',consolas,'Courier New',monospace\"></pre>\n"
      ],
      "text/plain": []
     },
     "metadata": {},
     "output_type": "display_data"
    },
    {
     "data": {
      "text/plain": [
       "\u001b[1;35mdict_keys\u001b[0m\u001b[1m(\u001b[0m\u001b[1m[\u001b[0m\u001b[32m'resistance'\u001b[0m, \u001b[32m'Drift angle fx'\u001b[0m, \u001b[32m'Drift angle fy'\u001b[0m, \u001b[32m'Drift angle mz'\u001b[0m, \u001b[32m'Circle fx'\u001b[0m, \u001b[32m'Circle fy'\u001b[0m, \u001b[32m'Circle mz'\u001b[0m, \u001b[32m'Circle + Drift fx'\u001b[0m, \u001b[32m'Circle + Drift fy'\u001b[0m, \u001b[32m'Circle + Drift mz'\u001b[0m\u001b[1m]\u001b[0m\u001b[1m)\u001b[0m"
      ]
     },
     "execution_count": 35,
     "metadata": {},
     "output_type": "execute_result"
    }
   ],
   "source": [
    "regression_pipeline.keys()"
   ]
  },
  {
   "cell_type": "code",
   "execution_count": 36,
   "id": "73d7e696-c19c-48b2-8d41-3201424c4c97",
   "metadata": {},
   "outputs": [],
   "source": [
    "regression = regression_pipeline['Drift angle fy']"
   ]
  },
  {
   "cell_type": "code",
   "execution_count": 37,
   "id": "4c4535e1-2b89-48e0-927d-c7a193b5b653",
   "metadata": {},
   "outputs": [
    {
     "data": {
      "text/html": [
       "<pre style=\"white-space:pre;overflow-x:auto;line-height:normal;font-family:Menlo,'DejaVu Sans Mono',consolas,'Courier New',monospace\"></pre>\n"
      ],
      "text/plain": []
     },
     "metadata": {},
     "output_type": "display_data"
    },
    {
     "data": {
      "text/latex": [
       "$\\displaystyle Y_{H} = Y_{0} + Y_{vvv} v^{3} + Y_{v} v$"
      ],
      "text/plain": [
       "\u001b[1;35mEq\u001b[0m\u001b[1m(\u001b[0mY_H, Y_\u001b[1m{\u001b[0m\u001b[1;36m0\u001b[0m\u001b[1m}\u001b[0m + Y_\u001b[1m{\u001b[0mvvv\u001b[1m}\u001b[0m*v**\u001b[1;36m3\u001b[0m + Y_\u001b[1m{\u001b[0mv\u001b[1m}\u001b[0m*v\u001b[1m)\u001b[0m"
      ]
     },
     "execution_count": 37,
     "metadata": {},
     "output_type": "execute_result"
    }
   ],
   "source": [
    "regression['eq']"
   ]
  },
  {
   "cell_type": "code",
   "execution_count": 38,
   "id": "cba0c68c-4e5f-420d-8e00-1128ea5a9502",
   "metadata": {},
   "outputs": [
    {
     "data": {
      "text/html": [
       "<pre style=\"white-space:pre;overflow-x:auto;line-height:normal;font-family:Menlo,'DejaVu Sans Mono',consolas,'Courier New',monospace\"></pre>\n"
      ],
      "text/plain": []
     },
     "metadata": {},
     "output_type": "display_data"
    },
    {
     "data": {
      "text/latex": [
       "$\\displaystyle X_{H} = X_{0} + X_{u} u$"
      ],
      "text/plain": [
       "\u001b[1;35mEq\u001b[0m\u001b[1m(\u001b[0mX_H, X_\u001b[1m{\u001b[0m\u001b[1;36m0\u001b[0m\u001b[1m}\u001b[0m + X_\u001b[1m{\u001b[0mu\u001b[1m}\u001b[0m*u\u001b[1m)\u001b[0m"
      ]
     },
     "metadata": {},
     "output_type": "display_data"
    },
    {
     "data": {
      "text/html": [
       "<pre style=\"white-space:pre;overflow-x:auto;line-height:normal;font-family:Menlo,'DejaVu Sans Mono',consolas,'Courier New',monospace\"></pre>\n"
      ],
      "text/plain": []
     },
     "metadata": {},
     "output_type": "display_data"
    },
    {
     "data": {
      "text/latex": [
       "$\\displaystyle X_{H} = X_{0} + X_{u} u + X_{vv} v^{2}$"
      ],
      "text/plain": [
       "\u001b[1;35mEq\u001b[0m\u001b[1m(\u001b[0mX_H, X_\u001b[1m{\u001b[0m\u001b[1;36m0\u001b[0m\u001b[1m}\u001b[0m + X_\u001b[1m{\u001b[0mu\u001b[1m}\u001b[0m*u + X_\u001b[1m{\u001b[0mvv\u001b[1m}\u001b[0m*v**\u001b[1;36m2\u001b[0m\u001b[1m)\u001b[0m"
      ]
     },
     "metadata": {},
     "output_type": "display_data"
    },
    {
     "data": {
      "text/html": [
       "<pre style=\"white-space:pre;overflow-x:auto;line-height:normal;font-family:Menlo,'DejaVu Sans Mono',consolas,'Courier New',monospace\"></pre>\n"
      ],
      "text/plain": []
     },
     "metadata": {},
     "output_type": "display_data"
    },
    {
     "data": {
      "text/latex": [
       "$\\displaystyle Y_{H} = Y_{0} + Y_{vvv} v^{3} + Y_{v} v$"
      ],
      "text/plain": [
       "\u001b[1;35mEq\u001b[0m\u001b[1m(\u001b[0mY_H, Y_\u001b[1m{\u001b[0m\u001b[1;36m0\u001b[0m\u001b[1m}\u001b[0m + Y_\u001b[1m{\u001b[0mvvv\u001b[1m}\u001b[0m*v**\u001b[1;36m3\u001b[0m + Y_\u001b[1m{\u001b[0mv\u001b[1m}\u001b[0m*v\u001b[1m)\u001b[0m"
      ]
     },
     "metadata": {},
     "output_type": "display_data"
    },
    {
     "data": {
      "text/html": [
       "<pre style=\"white-space:pre;overflow-x:auto;line-height:normal;font-family:Menlo,'DejaVu Sans Mono',consolas,'Courier New',monospace\"></pre>\n"
      ],
      "text/plain": []
     },
     "metadata": {},
     "output_type": "display_data"
    },
    {
     "data": {
      "text/latex": [
       "$\\displaystyle N_{H} = N_{0} + N_{vvv} v^{3} + N_{v} v$"
      ],
      "text/plain": [
       "\u001b[1;35mEq\u001b[0m\u001b[1m(\u001b[0mN_H, N_\u001b[1m{\u001b[0m\u001b[1;36m0\u001b[0m\u001b[1m}\u001b[0m + N_\u001b[1m{\u001b[0mvvv\u001b[1m}\u001b[0m*v**\u001b[1;36m3\u001b[0m + N_\u001b[1m{\u001b[0mv\u001b[1m}\u001b[0m*v\u001b[1m)\u001b[0m"
      ]
     },
     "metadata": {},
     "output_type": "display_data"
    },
    {
     "data": {
      "text/html": [
       "<pre style=\"white-space:pre;overflow-x:auto;line-height:normal;font-family:Menlo,'DejaVu Sans Mono',consolas,'Courier New',monospace\"></pre>\n"
      ],
      "text/plain": []
     },
     "metadata": {},
     "output_type": "display_data"
    },
    {
     "data": {
      "text/latex": [
       "$\\displaystyle X_{H} = X_{0} + X_{rr} r^{2} + X_{u} u$"
      ],
      "text/plain": [
       "\u001b[1;35mEq\u001b[0m\u001b[1m(\u001b[0mX_H, X_\u001b[1m{\u001b[0m\u001b[1;36m0\u001b[0m\u001b[1m}\u001b[0m + X_\u001b[1m{\u001b[0mrr\u001b[1m}\u001b[0m*r**\u001b[1;36m2\u001b[0m + X_\u001b[1m{\u001b[0mu\u001b[1m}\u001b[0m*u\u001b[1m)\u001b[0m"
      ]
     },
     "metadata": {},
     "output_type": "display_data"
    },
    {
     "data": {
      "text/html": [
       "<pre style=\"white-space:pre;overflow-x:auto;line-height:normal;font-family:Menlo,'DejaVu Sans Mono',consolas,'Courier New',monospace\"></pre>\n"
      ],
      "text/plain": []
     },
     "metadata": {},
     "output_type": "display_data"
    },
    {
     "data": {
      "text/latex": [
       "$\\displaystyle Y_{H} = Y_{0} + Y_{rrr} r^{3} + Y_{r} r$"
      ],
      "text/plain": [
       "\u001b[1;35mEq\u001b[0m\u001b[1m(\u001b[0mY_H, Y_\u001b[1m{\u001b[0m\u001b[1;36m0\u001b[0m\u001b[1m}\u001b[0m + Y_\u001b[1m{\u001b[0mrrr\u001b[1m}\u001b[0m*r**\u001b[1;36m3\u001b[0m + Y_\u001b[1m{\u001b[0mr\u001b[1m}\u001b[0m*r\u001b[1m)\u001b[0m"
      ]
     },
     "metadata": {},
     "output_type": "display_data"
    },
    {
     "data": {
      "text/html": [
       "<pre style=\"white-space:pre;overflow-x:auto;line-height:normal;font-family:Menlo,'DejaVu Sans Mono',consolas,'Courier New',monospace\"></pre>\n"
      ],
      "text/plain": []
     },
     "metadata": {},
     "output_type": "display_data"
    },
    {
     "data": {
      "text/latex": [
       "$\\displaystyle N_{H} = N_{0} + N_{rrr} r^{3} + N_{r} r$"
      ],
      "text/plain": [
       "\u001b[1;35mEq\u001b[0m\u001b[1m(\u001b[0mN_H, N_\u001b[1m{\u001b[0m\u001b[1;36m0\u001b[0m\u001b[1m}\u001b[0m + N_\u001b[1m{\u001b[0mrrr\u001b[1m}\u001b[0m*r**\u001b[1;36m3\u001b[0m + N_\u001b[1m{\u001b[0mr\u001b[1m}\u001b[0m*r\u001b[1m)\u001b[0m"
      ]
     },
     "metadata": {},
     "output_type": "display_data"
    },
    {
     "data": {
      "text/html": [
       "<pre style=\"white-space:pre;overflow-x:auto;line-height:normal;font-family:Menlo,'DejaVu Sans Mono',consolas,'Courier New',monospace\"></pre>\n"
      ],
      "text/plain": []
     },
     "metadata": {},
     "output_type": "display_data"
    },
    {
     "data": {
      "text/latex": [
       "$\\displaystyle X_{H} = X_{0} + X_{rr} r^{2} + X_{u} u + X_{vr} r v + X_{vv} v^{2}$"
      ],
      "text/plain": [
       "\u001b[1;35mEq\u001b[0m\u001b[1m(\u001b[0mX_H, X_\u001b[1m{\u001b[0m\u001b[1;36m0\u001b[0m\u001b[1m}\u001b[0m + X_\u001b[1m{\u001b[0mrr\u001b[1m}\u001b[0m*r**\u001b[1;36m2\u001b[0m + X_\u001b[1m{\u001b[0mu\u001b[1m}\u001b[0m*u + X_\u001b[1m{\u001b[0mvr\u001b[1m}\u001b[0m*r*v + X_\u001b[1m{\u001b[0mvv\u001b[1m}\u001b[0m*v**\u001b[1;36m2\u001b[0m\u001b[1m)\u001b[0m"
      ]
     },
     "metadata": {},
     "output_type": "display_data"
    },
    {
     "data": {
      "text/html": [
       "<pre style=\"white-space:pre;overflow-x:auto;line-height:normal;font-family:Menlo,'DejaVu Sans Mono',consolas,'Courier New',monospace\"></pre>\n"
      ],
      "text/plain": []
     },
     "metadata": {},
     "output_type": "display_data"
    },
    {
     "data": {
      "text/latex": [
       "$\\displaystyle Y_{H} = Y_{0} + Y_{rrr} r^{3} + Y_{r} r + Y_{vrr} r^{2} v + Y_{vvr} r v^{2} + Y_{vvv} v^{3} + Y_{v} v$"
      ],
      "text/plain": [
       "\u001b[1;35mEq\u001b[0m\u001b[1m(\u001b[0mY_H, Y_\u001b[1m{\u001b[0m\u001b[1;36m0\u001b[0m\u001b[1m}\u001b[0m + Y_\u001b[1m{\u001b[0mrrr\u001b[1m}\u001b[0m*r**\u001b[1;36m3\u001b[0m + Y_\u001b[1m{\u001b[0mr\u001b[1m}\u001b[0m*r + Y_\u001b[1m{\u001b[0mvrr\u001b[1m}\u001b[0m*r**\u001b[1;36m2\u001b[0m*v + Y_\u001b[1m{\u001b[0mvvr\u001b[1m}\u001b[0m*r*v**\u001b[1;36m2\u001b[0m + Y_\u001b[1m{\u001b[0mvvv\u001b[1m}\u001b[0m*v**\u001b[1;36m3\u001b[0m + Y_\u001b[1m{\u001b[0mv\u001b[1m}\u001b[0m*v\u001b[1m)\u001b[0m"
      ]
     },
     "metadata": {},
     "output_type": "display_data"
    },
    {
     "data": {
      "text/html": [
       "<pre style=\"white-space:pre;overflow-x:auto;line-height:normal;font-family:Menlo,'DejaVu Sans Mono',consolas,'Courier New',monospace\"></pre>\n"
      ],
      "text/plain": []
     },
     "metadata": {},
     "output_type": "display_data"
    },
    {
     "data": {
      "text/latex": [
       "$\\displaystyle N_{H} = N_{0} + N_{rrr} r^{3} + N_{r} r + N_{vrr} r^{2} v + N_{vvr} r v^{2} + N_{vvv} v^{3} + N_{v} v$"
      ],
      "text/plain": [
       "\u001b[1;35mEq\u001b[0m\u001b[1m(\u001b[0mN_H, N_\u001b[1m{\u001b[0m\u001b[1;36m0\u001b[0m\u001b[1m}\u001b[0m + N_\u001b[1m{\u001b[0mrrr\u001b[1m}\u001b[0m*r**\u001b[1;36m3\u001b[0m + N_\u001b[1m{\u001b[0mr\u001b[1m}\u001b[0m*r + N_\u001b[1m{\u001b[0mvrr\u001b[1m}\u001b[0m*r**\u001b[1;36m2\u001b[0m*v + N_\u001b[1m{\u001b[0mvvr\u001b[1m}\u001b[0m*r*v**\u001b[1;36m2\u001b[0m + N_\u001b[1m{\u001b[0mvvv\u001b[1m}\u001b[0m*v**\u001b[1;36m3\u001b[0m + N_\u001b[1m{\u001b[0mv\u001b[1m}\u001b[0m*v\u001b[1m)\u001b[0m"
      ]
     },
     "metadata": {},
     "output_type": "display_data"
    }
   ],
   "source": [
    "for name,regression in regression_pipeline.items():\n",
    "    display(regression['eq'])"
   ]
  },
  {
   "cell_type": "code",
   "execution_count": 39,
   "id": "58a69bb4-b48e-493b-ba56-0bcc71f2eb77",
   "metadata": {},
   "outputs": [
    {
     "data": {
      "text/html": [
       "<pre style=\"white-space:pre;overflow-x:auto;line-height:normal;font-family:Menlo,'DejaVu Sans Mono',consolas,'Courier New',monospace\"></pre>\n"
      ],
      "text/plain": []
     },
     "metadata": {},
     "output_type": "display_data"
    },
    {
     "data": {
      "text/plain": [
       "\n",
       "\u001b[1;35marray\u001b[0m\u001b[1m(\u001b[0m\u001b[1m[\u001b[0m\u001b[32m'Circle'\u001b[0m, \u001b[32m'Circle + Drift'\u001b[0m, \u001b[32m'Circle + rudder angle'\u001b[0m, \u001b[32m'Drift angle'\u001b[0m,\n",
       "       \u001b[32m'Rudder and drift angle'\u001b[0m, \u001b[32m'Rudder angle'\u001b[0m, \u001b[32m'Thrust variation'\u001b[0m,\n",
       "       \u001b[32m'self propulsion'\u001b[0m, \u001b[32m'Rudder angle resistance \u001b[0m\u001b[32m(\u001b[0m\u001b[32mno propeller\u001b[0m\u001b[32m)\u001b[0m\u001b[32m'\u001b[0m\u001b[1m]\u001b[0m,\n",
       "      \u001b[33mdtype\u001b[0m=\u001b[35mobject\u001b[0m\u001b[1m)\u001b[0m"
      ]
     },
     "execution_count": 39,
     "metadata": {},
     "output_type": "execute_result"
    }
   ],
   "source": [
    "df_VCT['test type'].unique()"
   ]
  },
  {
   "cell_type": "code",
   "execution_count": 40,
   "id": "08254a3d-a80c-4207-813e-6382c7e5b825",
   "metadata": {},
   "outputs": [
    {
     "data": {
      "text/html": [
       "<pre style=\"white-space:pre;overflow-x:auto;line-height:normal;font-family:Menlo,'DejaVu Sans Mono',consolas,'Courier New',monospace\"></pre>\n"
      ],
      "text/plain": []
     },
     "metadata": {},
     "output_type": "display_data"
    },
    {
     "data": {
      "text/html": [
       "<div>\n",
       "<style scoped>\n",
       "    .dataframe tbody tr th:only-of-type {\n",
       "        vertical-align: middle;\n",
       "    }\n",
       "\n",
       "    .dataframe tbody tr th {\n",
       "        vertical-align: top;\n",
       "    }\n",
       "\n",
       "    .dataframe thead th {\n",
       "        text-align: right;\n",
       "    }\n",
       "</style>\n",
       "<table border=\"1\" class=\"dataframe\">\n",
       "  <thead>\n",
       "    <tr style=\"text-align: right;\">\n",
       "      <th></th>\n",
       "      <th>u</th>\n",
       "      <th>v</th>\n",
       "      <th>r</th>\n",
       "      <th>delta</th>\n",
       "      <th>thrust</th>\n",
       "    </tr>\n",
       "    <tr>\n",
       "      <th>test type</th>\n",
       "      <th></th>\n",
       "      <th></th>\n",
       "      <th></th>\n",
       "      <th></th>\n",
       "      <th></th>\n",
       "    </tr>\n",
       "  </thead>\n",
       "  <tbody>\n",
       "    <tr>\n",
       "      <th>Circle</th>\n",
       "      <td>0.961770</td>\n",
       "      <td>-0.000000</td>\n",
       "      <td>-0.023974</td>\n",
       "      <td>-0.000000</td>\n",
       "      <td>10.394889</td>\n",
       "    </tr>\n",
       "    <tr>\n",
       "      <th>Circle + Drift</th>\n",
       "      <td>0.961770</td>\n",
       "      <td>0.167010</td>\n",
       "      <td>0.047949</td>\n",
       "      <td>-0.000000</td>\n",
       "      <td>9.709370</td>\n",
       "    </tr>\n",
       "    <tr>\n",
       "      <th>Circle + rudder angle</th>\n",
       "      <td>0.961770</td>\n",
       "      <td>-0.000000</td>\n",
       "      <td>-0.023974</td>\n",
       "      <td>0.069813</td>\n",
       "      <td>9.291126</td>\n",
       "    </tr>\n",
       "    <tr>\n",
       "      <th>Drift angle</th>\n",
       "      <td>0.961184</td>\n",
       "      <td>-0.033565</td>\n",
       "      <td>0.000000</td>\n",
       "      <td>-0.000000</td>\n",
       "      <td>10.664554</td>\n",
       "    </tr>\n",
       "    <tr>\n",
       "      <th>Rudder and drift angle</th>\n",
       "      <td>0.959427</td>\n",
       "      <td>-0.067090</td>\n",
       "      <td>0.000000</td>\n",
       "      <td>0.069813</td>\n",
       "      <td>9.410107</td>\n",
       "    </tr>\n",
       "    <tr>\n",
       "      <th>Rudder angle</th>\n",
       "      <td>0.961770</td>\n",
       "      <td>-0.000000</td>\n",
       "      <td>0.000000</td>\n",
       "      <td>-0.052360</td>\n",
       "      <td>9.229330</td>\n",
       "    </tr>\n",
       "    <tr>\n",
       "      <th>Rudder angle resistance (no propeller)</th>\n",
       "      <td>0.961770</td>\n",
       "      <td>-0.000000</td>\n",
       "      <td>0.000000</td>\n",
       "      <td>-0.087266</td>\n",
       "      <td>0.000000</td>\n",
       "    </tr>\n",
       "    <tr>\n",
       "      <th>Thrust variation</th>\n",
       "      <td>0.961770</td>\n",
       "      <td>-0.000000</td>\n",
       "      <td>0.000000</td>\n",
       "      <td>-0.174533</td>\n",
       "      <td>13.721516</td>\n",
       "    </tr>\n",
       "    <tr>\n",
       "      <th>self propulsion</th>\n",
       "      <td>0.961770</td>\n",
       "      <td>-0.000000</td>\n",
       "      <td>0.000000</td>\n",
       "      <td>-0.000000</td>\n",
       "      <td>9.130484</td>\n",
       "    </tr>\n",
       "  </tbody>\n",
       "</table>\n",
       "</div>"
      ],
      "text/plain": [
       "\n",
       "                                               u         v         r     delta     thrust\n",
       "test type                                                                                \n",
       "Circle                                  \u001b[1;36m0.961770\u001b[0m \u001b[1;36m-0.000000\u001b[0m \u001b[1;36m-0.023974\u001b[0m \u001b[1;36m-0.000000\u001b[0m  \u001b[1;36m10.394889\u001b[0m\n",
       "Circle + Drift                          \u001b[1;36m0.961770\u001b[0m  \u001b[1;36m0.167010\u001b[0m  \u001b[1;36m0.047949\u001b[0m \u001b[1;36m-0.000000\u001b[0m   \u001b[1;36m9.709370\u001b[0m\n",
       "Circle + rudder angle                   \u001b[1;36m0.961770\u001b[0m \u001b[1;36m-0.000000\u001b[0m \u001b[1;36m-0.023974\u001b[0m  \u001b[1;36m0.069813\u001b[0m   \u001b[1;36m9.291126\u001b[0m\n",
       "Drift angle                             \u001b[1;36m0.961184\u001b[0m \u001b[1;36m-0.033565\u001b[0m  \u001b[1;36m0.000000\u001b[0m \u001b[1;36m-0.000000\u001b[0m  \u001b[1;36m10.664554\u001b[0m\n",
       "Rudder and drift angle                  \u001b[1;36m0.959427\u001b[0m \u001b[1;36m-0.067090\u001b[0m  \u001b[1;36m0.000000\u001b[0m  \u001b[1;36m0.069813\u001b[0m   \u001b[1;36m9.410107\u001b[0m\n",
       "Rudder angle                            \u001b[1;36m0.961770\u001b[0m \u001b[1;36m-0.000000\u001b[0m  \u001b[1;36m0.000000\u001b[0m \u001b[1;36m-0.052360\u001b[0m   \u001b[1;36m9.229330\u001b[0m\n",
       "Rudder angle resistance \u001b[1m(\u001b[0mno propeller\u001b[1m)\u001b[0m  \u001b[1;36m0.961770\u001b[0m \u001b[1;36m-0.000000\u001b[0m  \u001b[1;36m0.000000\u001b[0m \u001b[1;36m-0.087266\u001b[0m   \u001b[1;36m0.000000\u001b[0m\n",
       "Thrust variation                        \u001b[1;36m0.961770\u001b[0m \u001b[1;36m-0.000000\u001b[0m  \u001b[1;36m0.000000\u001b[0m \u001b[1;36m-0.174533\u001b[0m  \u001b[1;36m13.721516\u001b[0m\n",
       "self propulsion                         \u001b[1;36m0.961770\u001b[0m \u001b[1;36m-0.000000\u001b[0m  \u001b[1;36m0.000000\u001b[0m \u001b[1;36m-0.000000\u001b[0m   \u001b[1;36m9.130484\u001b[0m"
      ]
     },
     "execution_count": 40,
     "metadata": {},
     "output_type": "execute_result"
    }
   ],
   "source": [
    "df_VCT.groupby(by='test type').max()[['u','v','r','delta','thrust']]"
   ]
  },
  {
   "cell_type": "code",
   "execution_count": 41,
   "id": "d8a2d32b-c70c-4ccc-a40a-57b6928946c3",
   "metadata": {},
   "outputs": [
    {
     "data": {
      "text/html": [
       "<pre style=\"white-space:pre;overflow-x:auto;line-height:normal;font-family:Menlo,'DejaVu Sans Mono',consolas,'Courier New',monospace\"></pre>\n"
      ],
      "text/plain": []
     },
     "metadata": {},
     "output_type": "display_data"
    },
    {
     "data": {
      "text/html": [
       "<div>\n",
       "<style scoped>\n",
       "    .dataframe tbody tr th:only-of-type {\n",
       "        vertical-align: middle;\n",
       "    }\n",
       "\n",
       "    .dataframe tbody tr th {\n",
       "        vertical-align: top;\n",
       "    }\n",
       "\n",
       "    .dataframe thead th {\n",
       "        text-align: right;\n",
       "    }\n",
       "</style>\n",
       "<table border=\"1\" class=\"dataframe\">\n",
       "  <thead>\n",
       "    <tr style=\"text-align: right;\">\n",
       "      <th></th>\n",
       "      <th>u</th>\n",
       "      <th>v</th>\n",
       "      <th>r</th>\n",
       "      <th>delta</th>\n",
       "      <th>thrust</th>\n",
       "    </tr>\n",
       "    <tr>\n",
       "      <th>test type</th>\n",
       "      <th></th>\n",
       "      <th></th>\n",
       "      <th></th>\n",
       "      <th></th>\n",
       "      <th></th>\n",
       "    </tr>\n",
       "  </thead>\n",
       "  <tbody>\n",
       "    <tr>\n",
       "      <th>Circle</th>\n",
       "      <td>0.961770</td>\n",
       "      <td>-0.000000</td>\n",
       "      <td>-0.127864</td>\n",
       "      <td>-0.000000</td>\n",
       "      <td>9.249258</td>\n",
       "    </tr>\n",
       "    <tr>\n",
       "      <th>Circle + Drift</th>\n",
       "      <td>0.947158</td>\n",
       "      <td>-0.167010</td>\n",
       "      <td>-0.047949</td>\n",
       "      <td>-0.000000</td>\n",
       "      <td>9.095822</td>\n",
       "    </tr>\n",
       "    <tr>\n",
       "      <th>Circle + rudder angle</th>\n",
       "      <td>0.961770</td>\n",
       "      <td>-0.000000</td>\n",
       "      <td>-0.023974</td>\n",
       "      <td>-0.069813</td>\n",
       "      <td>9.228015</td>\n",
       "    </tr>\n",
       "    <tr>\n",
       "      <th>Drift angle</th>\n",
       "      <td>0.903768</td>\n",
       "      <td>-0.328945</td>\n",
       "      <td>0.000000</td>\n",
       "      <td>-0.000000</td>\n",
       "      <td>9.124859</td>\n",
       "    </tr>\n",
       "    <tr>\n",
       "      <th>Rudder and drift angle</th>\n",
       "      <td>0.959427</td>\n",
       "      <td>-0.067090</td>\n",
       "      <td>0.000000</td>\n",
       "      <td>-0.069813</td>\n",
       "      <td>9.381886</td>\n",
       "    </tr>\n",
       "    <tr>\n",
       "      <th>Rudder angle</th>\n",
       "      <td>0.961770</td>\n",
       "      <td>-0.000000</td>\n",
       "      <td>0.000000</td>\n",
       "      <td>-0.261799</td>\n",
       "      <td>9.095363</td>\n",
       "    </tr>\n",
       "    <tr>\n",
       "      <th>Rudder angle resistance (no propeller)</th>\n",
       "      <td>0.961770</td>\n",
       "      <td>-0.000000</td>\n",
       "      <td>0.000000</td>\n",
       "      <td>-0.261799</td>\n",
       "      <td>0.000000</td>\n",
       "    </tr>\n",
       "    <tr>\n",
       "      <th>Thrust variation</th>\n",
       "      <td>0.480885</td>\n",
       "      <td>-0.000000</td>\n",
       "      <td>0.000000</td>\n",
       "      <td>-0.174533</td>\n",
       "      <td>1.360484</td>\n",
       "    </tr>\n",
       "    <tr>\n",
       "      <th>self propulsion</th>\n",
       "      <td>0.480885</td>\n",
       "      <td>-0.000000</td>\n",
       "      <td>0.000000</td>\n",
       "      <td>-0.000000</td>\n",
       "      <td>2.577043</td>\n",
       "    </tr>\n",
       "  </tbody>\n",
       "</table>\n",
       "</div>"
      ],
      "text/plain": [
       "\n",
       "                                               u         v         r     delta    thrust\n",
       "test type                                                                               \n",
       "Circle                                  \u001b[1;36m0.961770\u001b[0m \u001b[1;36m-0.000000\u001b[0m \u001b[1;36m-0.127864\u001b[0m \u001b[1;36m-0.000000\u001b[0m  \u001b[1;36m9.249258\u001b[0m\n",
       "Circle + Drift                          \u001b[1;36m0.947158\u001b[0m \u001b[1;36m-0.167010\u001b[0m \u001b[1;36m-0.047949\u001b[0m \u001b[1;36m-0.000000\u001b[0m  \u001b[1;36m9.095822\u001b[0m\n",
       "Circle + rudder angle                   \u001b[1;36m0.961770\u001b[0m \u001b[1;36m-0.000000\u001b[0m \u001b[1;36m-0.023974\u001b[0m \u001b[1;36m-0.069813\u001b[0m  \u001b[1;36m9.228015\u001b[0m\n",
       "Drift angle                             \u001b[1;36m0.903768\u001b[0m \u001b[1;36m-0.328945\u001b[0m  \u001b[1;36m0.000000\u001b[0m \u001b[1;36m-0.000000\u001b[0m  \u001b[1;36m9.124859\u001b[0m\n",
       "Rudder and drift angle                  \u001b[1;36m0.959427\u001b[0m \u001b[1;36m-0.067090\u001b[0m  \u001b[1;36m0.000000\u001b[0m \u001b[1;36m-0.069813\u001b[0m  \u001b[1;36m9.381886\u001b[0m\n",
       "Rudder angle                            \u001b[1;36m0.961770\u001b[0m \u001b[1;36m-0.000000\u001b[0m  \u001b[1;36m0.000000\u001b[0m \u001b[1;36m-0.261799\u001b[0m  \u001b[1;36m9.095363\u001b[0m\n",
       "Rudder angle resistance \u001b[1m(\u001b[0mno propeller\u001b[1m)\u001b[0m  \u001b[1;36m0.961770\u001b[0m \u001b[1;36m-0.000000\u001b[0m  \u001b[1;36m0.000000\u001b[0m \u001b[1;36m-0.261799\u001b[0m  \u001b[1;36m0.000000\u001b[0m\n",
       "Thrust variation                        \u001b[1;36m0.480885\u001b[0m \u001b[1;36m-0.000000\u001b[0m  \u001b[1;36m0.000000\u001b[0m \u001b[1;36m-0.174533\u001b[0m  \u001b[1;36m1.360484\u001b[0m\n",
       "self propulsion                         \u001b[1;36m0.480885\u001b[0m \u001b[1;36m-0.000000\u001b[0m  \u001b[1;36m0.000000\u001b[0m \u001b[1;36m-0.000000\u001b[0m  \u001b[1;36m2.577043\u001b[0m"
      ]
     },
     "execution_count": 41,
     "metadata": {},
     "output_type": "execute_result"
    }
   ],
   "source": [
    "df_VCT.groupby(by='test type').min()[['u','v','r','delta','thrust']]"
   ]
  },
  {
   "cell_type": "code",
   "execution_count": 42,
   "id": "4a87c736-763e-473c-8445-d5cd36f15b89",
   "metadata": {},
   "outputs": [],
   "source": [
    "eq_N_D = model.expand_subsystemequations(model.N_D_eq)"
   ]
  },
  {
   "cell_type": "code",
   "execution_count": 43,
   "id": "9a1f6990-1e28-4aff-b885-50e29a6362fa",
   "metadata": {},
   "outputs": [
    {
     "data": {
      "text/html": [
       "<pre style=\"white-space:pre;overflow-x:auto;line-height:normal;font-family:Menlo,'DejaVu Sans Mono',consolas,'Courier New',monospace\"></pre>\n"
      ],
      "text/plain": []
     },
     "metadata": {},
     "output_type": "display_data"
    },
    {
     "data": {
      "text/latex": [
       "$\\displaystyle N_{D} = N_{R} x_{H} + N_{0} + x_{R} \\left(D_{R port} \\sin{\\left(\\gamma_{0 port} + \\operatorname{atan}{\\left(\\frac{V_{R y port}}{V_{R x C port}} \\right)} \\right)} + L_{R port} \\cos{\\left(\\gamma_{0 port} + \\operatorname{atan}{\\left(\\frac{V_{R y port}}{V_{R x C port}} \\right)} \\right)}\\right) + x_{R} \\left(D_{R stbd} \\sin{\\left(\\gamma_{0 stbd} + \\operatorname{atan}{\\left(\\frac{V_{R y stbd}}{V_{R x C stbd}} \\right)} \\right)} + L_{R stbd} \\cos{\\left(\\gamma_{0 stbd} + \\operatorname{atan}{\\left(\\frac{V_{R y stbd}}{V_{R x C stbd}} \\right)} \\right)}\\right)$"
      ],
      "text/plain": [
       "\u001b[1;35mEq\u001b[0m\u001b[1m(\u001b[0mN_D, N_R*x_H + N_\u001b[1m{\u001b[0m\u001b[1;36m0\u001b[0m\u001b[1m}\u001b[0m + x_R*\u001b[1m(\u001b[0mD_R_port*\u001b[1;35msin\u001b[0m\u001b[1m(\u001b[0mgamma_0_port + \u001b[1;35matan\u001b[0m\u001b[1m(\u001b[0mV_R_y_port/V_R_x_C_port\u001b[1m)\u001b[0m\u001b[1m)\u001b[0m + L_R_port*\u001b[1;35mcos\u001b[0m\u001b[1m(\u001b[0mgamma_0_port + \u001b[1;35matan\u001b[0m\u001b[1m(\u001b[0mV_R_y_port/V_R_x_C_port\u001b[1m)\u001b[0m\u001b[1m)\u001b[0m\u001b[1m)\u001b[0m + x_R*\u001b[1m(\u001b[0mD_R_stbd*\u001b[1;35msin\u001b[0m\u001b[1m(\u001b[0mgamma_0_stbd + \u001b[1;35matan\u001b[0m\u001b[1m(\u001b[0mV_R_y_stbd/V_R_x_C_stbd\u001b[1m)\u001b[0m\u001b[1m)\u001b[0m + L_R_stbd*\u001b[1;35mcos\u001b[0m\u001b[1m(\u001b[0mgamma_0_stbd + \u001b[1;35matan\u001b[0m\u001b[1m(\u001b[0mV_R_y_stbd/V_R_x_C_stbd\u001b[1m)\u001b[0m\u001b[1m)\u001b[0m\u001b[1m)\u001b[0m\u001b[1m)\u001b[0m"
      ]
     },
     "execution_count": 43,
     "metadata": {},
     "output_type": "execute_result"
    }
   ],
   "source": [
    "eq_N_D.subs([\n",
    "    (v,0),\n",
    "    (r,0),\n",
    "    (delta,0),\n",
    "    (thrust_port,0),\n",
    "    (thrust_stbd,0),\n",
    "])"
   ]
  },
  {
   "cell_type": "code",
   "execution_count": 44,
   "id": "67fa75df-9f58-404b-a709-1c264cb9f7ab",
   "metadata": {},
   "outputs": [
    {
     "data": {
      "text/html": [
       "<pre style=\"white-space:pre;overflow-x:auto;line-height:normal;font-family:Menlo,'DejaVu Sans Mono',consolas,'Courier New',monospace\"></pre>\n"
      ],
      "text/plain": []
     },
     "metadata": {},
     "output_type": "display_data"
    },
    {
     "data": {
      "text/plain": [
       "\n",
       "\u001b[1m{\u001b[0m\n",
       "    \u001b[32m'Y0'\u001b[0m: \u001b[1;36m0\u001b[0m,\n",
       "    \u001b[32m'N0'\u001b[0m: \u001b[1;36m0\u001b[0m,\n",
       "    \u001b[32m'Yvdeltadelta'\u001b[0m: \u001b[1;36m0\u001b[0m,\n",
       "    \u001b[32m'Yvvdelta'\u001b[0m: \u001b[1;36m0\u001b[0m,\n",
       "    \u001b[32m'Yrdeltadelta'\u001b[0m: \u001b[1;36m0\u001b[0m,\n",
       "    \u001b[32m'Yrrdelta'\u001b[0m: \u001b[1;36m0\u001b[0m,\n",
       "    \u001b[32m'Yvrdelta'\u001b[0m: \u001b[1;36m0\u001b[0m,\n",
       "    \u001b[32m'Nrrdelta'\u001b[0m: \u001b[1;36m0\u001b[0m,\n",
       "    \u001b[32m'Nvrdelta'\u001b[0m: \u001b[1;36m0\u001b[0m,\n",
       "    \u001b[32m'Nvdeltadelta'\u001b[0m: \u001b[1;36m0\u001b[0m,\n",
       "    \u001b[32m'Nrdeltadelta'\u001b[0m: \u001b[1;36m0\u001b[0m,\n",
       "    \u001b[32m'Nvvdelta'\u001b[0m: \u001b[1;36m0\u001b[0m,\n",
       "    \u001b[32m'Xthrustport'\u001b[0m: \u001b[1;36m0.883\u001b[0m,\n",
       "    \u001b[32m'Xthruststbd'\u001b[0m: \u001b[1;36m0.883\u001b[0m,\n",
       "    \u001b[32m'Yvvv'\u001b[0m: \u001b[1;36m0\u001b[0m,\n",
       "    \u001b[32m'Nvvv'\u001b[0m: \u001b[1;36m0\u001b[0m,\n",
       "    \u001b[32m'Nrrr'\u001b[0m: \u001b[1;36m0\u001b[0m,\n",
       "    \u001b[32m'Yvvr'\u001b[0m: \u001b[1;36m0\u001b[0m,\n",
       "    \u001b[32m'Yvrr'\u001b[0m: \u001b[1;36m0\u001b[0m,\n",
       "    \u001b[32m'Nvvr'\u001b[0m: \u001b[1;36m0\u001b[0m,\n",
       "    \u001b[32m'Nvrr'\u001b[0m: \u001b[1;36m0\u001b[0m,\n",
       "    \u001b[32m'Yr'\u001b[0m: \u001b[1;36m0\u001b[0m,\n",
       "    \u001b[32m'Yrrr'\u001b[0m: \u001b[1;36m0\u001b[0m\n",
       "\u001b[1m}\u001b[0m"
      ]
     },
     "execution_count": 44,
     "metadata": {},
     "output_type": "execute_result"
    }
   ],
   "source": [
    "exclude_parameters"
   ]
  },
  {
   "cell_type": "code",
   "execution_count": 94,
   "id": "33387aba-9a74-48c9-a885-55cb277f10e4",
   "metadata": {
    "tags": []
   },
   "outputs": [
    {
     "data": {
      "text/html": [
       "<pre style=\"white-space:pre;overflow-x:auto;line-height:normal;font-family:Menlo,'DejaVu Sans Mono',consolas,'Courier New',monospace\"><span style=\"color: #7fbfbf; text-decoration-color: #7fbfbf\">[02/07/24 15:39:29] </span><span style=\"color: #000080; text-decoration-color: #000080\">INFO    </span> Excluding:<span style=\"font-weight: bold\">{</span><span style=\"color: #008000; text-decoration-color: #008000\">'Y0'</span>: <span style=\"color: #008080; text-decoration-color: #008080; font-weight: bold\">0</span>, <span style=\"color: #008000; text-decoration-color: #008000\">'N0'</span>: <span style=\"color: #008080; text-decoration-color: #008080; font-weight: bold\">0</span>, <span style=\"color: #008000; text-decoration-color: #008000\">'Yvdeltadelta'</span>: <span style=\"color: #008080; text-decoration-color: #008080; font-weight: bold\">0</span>, <span style=\"color: #008000; text-decoration-color: #008000\">'Yvvdelta'</span>: <a href=\"file:///home/maa/dev/PHD/src/phd/pipelines/regression_VCT/regression_pipeline.py\" target=\"_blank\"><span style=\"color: #7f7f7f; text-decoration-color: #7f7f7f\">regression_pipeline.py</span></a><span style=\"color: #7f7f7f; text-decoration-color: #7f7f7f\">:</span><a href=\"file:///home/maa/dev/PHD/src/phd/pipelines/regression_VCT/regression_pipeline.py#286\" target=\"_blank\"><span style=\"color: #7f7f7f; text-decoration-color: #7f7f7f\">286</span></a>\n",
       "<span style=\"color: #7fbfbf; text-decoration-color: #7fbfbf\">                    </span>         <span style=\"color: #008080; text-decoration-color: #008080; font-weight: bold\">0</span>, <span style=\"color: #008000; text-decoration-color: #008000\">'Yrdeltadelta'</span>: <span style=\"color: #008080; text-decoration-color: #008080; font-weight: bold\">0</span>, <span style=\"color: #008000; text-decoration-color: #008000\">'Yrrdelta'</span>: <span style=\"color: #008080; text-decoration-color: #008080; font-weight: bold\">0</span>, <span style=\"color: #008000; text-decoration-color: #008000\">'Yvrdelta'</span>: <span style=\"color: #008080; text-decoration-color: #008080; font-weight: bold\">0</span>,         <span style=\"color: #7f7f7f; text-decoration-color: #7f7f7f\">                          </span>\n",
       "<span style=\"color: #7fbfbf; text-decoration-color: #7fbfbf\">                    </span>         <span style=\"color: #008000; text-decoration-color: #008000\">'Nrrdelta'</span>: <span style=\"color: #008080; text-decoration-color: #008080; font-weight: bold\">0</span>, <span style=\"color: #008000; text-decoration-color: #008000\">'Nvrdelta'</span>: <span style=\"color: #008080; text-decoration-color: #008080; font-weight: bold\">0</span>, <span style=\"color: #008000; text-decoration-color: #008000\">'Nvdeltadelta'</span>: <span style=\"color: #008080; text-decoration-color: #008080; font-weight: bold\">0</span>,            <span style=\"color: #7f7f7f; text-decoration-color: #7f7f7f\">                          </span>\n",
       "<span style=\"color: #7fbfbf; text-decoration-color: #7fbfbf\">                    </span>         <span style=\"color: #008000; text-decoration-color: #008000\">'Nrdeltadelta'</span>: <span style=\"color: #008080; text-decoration-color: #008080; font-weight: bold\">0</span>, <span style=\"color: #008000; text-decoration-color: #008000\">'Nvvdelta'</span>: <span style=\"color: #008080; text-decoration-color: #008080; font-weight: bold\">0</span>, <span style=\"color: #008000; text-decoration-color: #008000\">'Xthrustport'</span>: <span style=\"color: #008080; text-decoration-color: #008080; font-weight: bold\">0.883</span>,     <span style=\"color: #7f7f7f; text-decoration-color: #7f7f7f\">                          </span>\n",
       "<span style=\"color: #7fbfbf; text-decoration-color: #7fbfbf\">                    </span>         <span style=\"color: #008000; text-decoration-color: #008000\">'Xthruststbd'</span>: <span style=\"color: #008080; text-decoration-color: #008080; font-weight: bold\">0.883</span>, <span style=\"color: #008000; text-decoration-color: #008000\">'Yvvv'</span>: <span style=\"color: #008080; text-decoration-color: #008080; font-weight: bold\">0</span>, <span style=\"color: #008000; text-decoration-color: #008000\">'Nvvv'</span>: <span style=\"color: #008080; text-decoration-color: #008080; font-weight: bold\">0</span>, <span style=\"color: #008000; text-decoration-color: #008000\">'Nrrr'</span>: <span style=\"color: #008080; text-decoration-color: #008080; font-weight: bold\">0</span>,      <span style=\"color: #7f7f7f; text-decoration-color: #7f7f7f\">                          </span>\n",
       "<span style=\"color: #7fbfbf; text-decoration-color: #7fbfbf\">                    </span>         <span style=\"color: #008000; text-decoration-color: #008000\">'Yvvr'</span>: <span style=\"color: #008080; text-decoration-color: #008080; font-weight: bold\">0</span>, <span style=\"color: #008000; text-decoration-color: #008000\">'Yvrr'</span>: <span style=\"color: #008080; text-decoration-color: #008080; font-weight: bold\">0</span>, <span style=\"color: #008000; text-decoration-color: #008000\">'Nvvr'</span>: <span style=\"color: #008080; text-decoration-color: #008080; font-weight: bold\">0</span>, <span style=\"color: #008000; text-decoration-color: #008000\">'Nvrr'</span>: <span style=\"color: #008080; text-decoration-color: #008080; font-weight: bold\">0</span>, <span style=\"color: #008000; text-decoration-color: #008000\">'Yr'</span>: <span style=\"color: #008080; text-decoration-color: #008080; font-weight: bold\">0</span>,        <span style=\"color: #7f7f7f; text-decoration-color: #7f7f7f\">                          </span>\n",
       "<span style=\"color: #7fbfbf; text-decoration-color: #7fbfbf\">                    </span>         <span style=\"color: #008000; text-decoration-color: #008000\">'Yrrr'</span>: <span style=\"color: #008080; text-decoration-color: #008080; font-weight: bold\">0</span><span style=\"font-weight: bold\">}</span>                                                  <span style=\"color: #7f7f7f; text-decoration-color: #7f7f7f\">                          </span>\n",
       "</pre>\n"
      ],
      "text/plain": [
       "\u001b[2;36m[02/07/24 15:39:29]\u001b[0m\u001b[2;36m \u001b[0m\u001b[34mINFO    \u001b[0m Excluding:\u001b[1m{\u001b[0m\u001b[32m'Y0'\u001b[0m: \u001b[1;36m0\u001b[0m, \u001b[32m'N0'\u001b[0m: \u001b[1;36m0\u001b[0m, \u001b[32m'Yvdeltadelta'\u001b[0m: \u001b[1;36m0\u001b[0m, \u001b[32m'Yvvdelta'\u001b[0m: \u001b]8;id=180741;file:///home/maa/dev/PHD/src/phd/pipelines/regression_VCT/regression_pipeline.py\u001b\\\u001b[2mregression_pipeline.py\u001b[0m\u001b]8;;\u001b\\\u001b[2m:\u001b[0m\u001b]8;id=440003;file:///home/maa/dev/PHD/src/phd/pipelines/regression_VCT/regression_pipeline.py#286\u001b\\\u001b[2m286\u001b[0m\u001b]8;;\u001b\\\n",
       "\u001b[2;36m                    \u001b[0m         \u001b[1;36m0\u001b[0m, \u001b[32m'Yrdeltadelta'\u001b[0m: \u001b[1;36m0\u001b[0m, \u001b[32m'Yrrdelta'\u001b[0m: \u001b[1;36m0\u001b[0m, \u001b[32m'Yvrdelta'\u001b[0m: \u001b[1;36m0\u001b[0m,         \u001b[2m                          \u001b[0m\n",
       "\u001b[2;36m                    \u001b[0m         \u001b[32m'Nrrdelta'\u001b[0m: \u001b[1;36m0\u001b[0m, \u001b[32m'Nvrdelta'\u001b[0m: \u001b[1;36m0\u001b[0m, \u001b[32m'Nvdeltadelta'\u001b[0m: \u001b[1;36m0\u001b[0m,            \u001b[2m                          \u001b[0m\n",
       "\u001b[2;36m                    \u001b[0m         \u001b[32m'Nrdeltadelta'\u001b[0m: \u001b[1;36m0\u001b[0m, \u001b[32m'Nvvdelta'\u001b[0m: \u001b[1;36m0\u001b[0m, \u001b[32m'Xthrustport'\u001b[0m: \u001b[1;36m0.883\u001b[0m,     \u001b[2m                          \u001b[0m\n",
       "\u001b[2;36m                    \u001b[0m         \u001b[32m'Xthruststbd'\u001b[0m: \u001b[1;36m0.883\u001b[0m, \u001b[32m'Yvvv'\u001b[0m: \u001b[1;36m0\u001b[0m, \u001b[32m'Nvvv'\u001b[0m: \u001b[1;36m0\u001b[0m, \u001b[32m'Nrrr'\u001b[0m: \u001b[1;36m0\u001b[0m,      \u001b[2m                          \u001b[0m\n",
       "\u001b[2;36m                    \u001b[0m         \u001b[32m'Yvvr'\u001b[0m: \u001b[1;36m0\u001b[0m, \u001b[32m'Yvrr'\u001b[0m: \u001b[1;36m0\u001b[0m, \u001b[32m'Nvvr'\u001b[0m: \u001b[1;36m0\u001b[0m, \u001b[32m'Nvrr'\u001b[0m: \u001b[1;36m0\u001b[0m, \u001b[32m'Yr'\u001b[0m: \u001b[1;36m0\u001b[0m,        \u001b[2m                          \u001b[0m\n",
       "\u001b[2;36m                    \u001b[0m         \u001b[32m'Yrrr'\u001b[0m: \u001b[1;36m0\u001b[0m\u001b[1m}\u001b[0m                                                  \u001b[2m                          \u001b[0m\n"
      ]
     },
     "metadata": {},
     "output_type": "display_data"
    },
    {
     "data": {
      "text/html": [
       "<pre style=\"white-space:pre;overflow-x:auto;line-height:normal;font-family:Menlo,'DejaVu Sans Mono',consolas,'Courier New',monospace\"><span style=\"color: #7fbfbf; text-decoration-color: #7fbfbf\">                    </span><span style=\"color: #000080; text-decoration-color: #000080\">INFO    </span> Fitting:rudder hull interaction aH                          <a href=\"file:///home/maa/dev/PHD/src/phd/pipelines/regression_VCT/regression_pipeline.py\" target=\"_blank\"><span style=\"color: #7f7f7f; text-decoration-color: #7f7f7f\">regression_pipeline.py</span></a><span style=\"color: #7f7f7f; text-decoration-color: #7f7f7f\">:</span><a href=\"file:///home/maa/dev/PHD/src/phd/pipelines/regression_VCT/regression_pipeline.py#288\" target=\"_blank\"><span style=\"color: #7f7f7f; text-decoration-color: #7f7f7f\">288</span></a>\n",
       "</pre>\n"
      ],
      "text/plain": [
       "\u001b[2;36m                   \u001b[0m\u001b[2;36m \u001b[0m\u001b[34mINFO    \u001b[0m Fitting:rudder hull interaction aH                          \u001b]8;id=352176;file:///home/maa/dev/PHD/src/phd/pipelines/regression_VCT/regression_pipeline.py\u001b\\\u001b[2mregression_pipeline.py\u001b[0m\u001b]8;;\u001b\\\u001b[2m:\u001b[0m\u001b]8;id=296970;file:///home/maa/dev/PHD/src/phd/pipelines/regression_VCT/regression_pipeline.py#288\u001b\\\u001b[2m288\u001b[0m\u001b]8;;\u001b\\\n"
      ]
     },
     "metadata": {},
     "output_type": "display_data"
    },
    {
     "data": {
      "text/html": [
       "<pre style=\"white-space:pre;overflow-x:auto;line-height:normal;font-family:Menlo,'DejaVu Sans Mono',consolas,'Courier New',monospace\"><span style=\"color: #7fbfbf; text-decoration-color: #7fbfbf\">[02/07/24 15:39:30] </span><span style=\"color: #000080; text-decoration-color: #000080\">INFO    </span> Fitting:rudder hull interaction xH                          <a href=\"file:///home/maa/dev/PHD/src/phd/pipelines/regression_VCT/regression_pipeline.py\" target=\"_blank\"><span style=\"color: #7f7f7f; text-decoration-color: #7f7f7f\">regression_pipeline.py</span></a><span style=\"color: #7f7f7f; text-decoration-color: #7f7f7f\">:</span><a href=\"file:///home/maa/dev/PHD/src/phd/pipelines/regression_VCT/regression_pipeline.py#288\" target=\"_blank\"><span style=\"color: #7f7f7f; text-decoration-color: #7f7f7f\">288</span></a>\n",
       "</pre>\n"
      ],
      "text/plain": [
       "\u001b[2;36m[02/07/24 15:39:30]\u001b[0m\u001b[2;36m \u001b[0m\u001b[34mINFO    \u001b[0m Fitting:rudder hull interaction xH                          \u001b]8;id=56952;file:///home/maa/dev/PHD/src/phd/pipelines/regression_VCT/regression_pipeline.py\u001b\\\u001b[2mregression_pipeline.py\u001b[0m\u001b]8;;\u001b\\\u001b[2m:\u001b[0m\u001b]8;id=289972;file:///home/maa/dev/PHD/src/phd/pipelines/regression_VCT/regression_pipeline.py#288\u001b\\\u001b[2m288\u001b[0m\u001b]8;;\u001b\\\n"
      ]
     },
     "metadata": {},
     "output_type": "display_data"
    },
    {
     "data": {
      "text/html": [
       "<pre style=\"white-space:pre;overflow-x:auto;line-height:normal;font-family:Menlo,'DejaVu Sans Mono',consolas,'Courier New',monospace\"><span style=\"color: #7fbfbf; text-decoration-color: #7fbfbf\">                    </span><span style=\"color: #000080; text-decoration-color: #000080\">INFO    </span> Regression:rudder hull interaction aH                                     <a href=\"file:///home/maa/dev/PHD/src/phd/pipelines/regression_VCT/nodes.py\" target=\"_blank\"><span style=\"color: #7f7f7f; text-decoration-color: #7f7f7f\">nodes.py</span></a><span style=\"color: #7f7f7f; text-decoration-color: #7f7f7f\">:</span><a href=\"file:///home/maa/dev/PHD/src/phd/pipelines/regression_VCT/nodes.py#662\" target=\"_blank\"><span style=\"color: #7f7f7f; text-decoration-color: #7f7f7f\">662</span></a>\n",
       "</pre>\n"
      ],
      "text/plain": [
       "\u001b[2;36m                   \u001b[0m\u001b[2;36m \u001b[0m\u001b[34mINFO    \u001b[0m Regression:rudder hull interaction aH                                     \u001b]8;id=331457;file:///home/maa/dev/PHD/src/phd/pipelines/regression_VCT/nodes.py\u001b\\\u001b[2mnodes.py\u001b[0m\u001b]8;;\u001b\\\u001b[2m:\u001b[0m\u001b]8;id=182427;file:///home/maa/dev/PHD/src/phd/pipelines/regression_VCT/nodes.py#662\u001b\\\u001b[2m662\u001b[0m\u001b]8;;\u001b\\\n"
      ]
     },
     "metadata": {},
     "output_type": "display_data"
    },
    {
     "name": "stdout",
     "output_type": "stream",
     "text": [
      "Y_D = Y_R⋅a_H\n"
     ]
    },
    {
     "data": {
      "text/html": [
       "<pre style=\"white-space:pre;overflow-x:auto;line-height:normal;font-family:Menlo,'DejaVu Sans Mono',consolas,'Courier New',monospace\"><span style=\"color: #7fbfbf; text-decoration-color: #7fbfbf\">                    </span><span style=\"color: #000080; text-decoration-color: #000080\">INFO    </span> <span style=\"color: #800080; text-decoration-color: #800080; font-style: italic\">None</span>                                                                      <a href=\"file:///home/maa/dev/PHD/src/phd/pipelines/regression_VCT/nodes.py\" target=\"_blank\"><span style=\"color: #7f7f7f; text-decoration-color: #7f7f7f\">nodes.py</span></a><span style=\"color: #7f7f7f; text-decoration-color: #7f7f7f\">:</span><a href=\"file:///home/maa/dev/PHD/src/phd/pipelines/regression_VCT/nodes.py#663\" target=\"_blank\"><span style=\"color: #7f7f7f; text-decoration-color: #7f7f7f\">663</span></a>\n",
       "</pre>\n"
      ],
      "text/plain": [
       "\u001b[2;36m                   \u001b[0m\u001b[2;36m \u001b[0m\u001b[34mINFO    \u001b[0m \u001b[3;35mNone\u001b[0m                                                                      \u001b]8;id=71038;file:///home/maa/dev/PHD/src/phd/pipelines/regression_VCT/nodes.py\u001b\\\u001b[2mnodes.py\u001b[0m\u001b]8;;\u001b\\\u001b[2m:\u001b[0m\u001b]8;id=388038;file:///home/maa/dev/PHD/src/phd/pipelines/regression_VCT/nodes.py#663\u001b\\\u001b[2m663\u001b[0m\u001b]8;;\u001b\\\n"
      ]
     },
     "metadata": {},
     "output_type": "display_data"
    },
    {
     "data": {
      "text/html": [
       "<pre style=\"white-space:pre;overflow-x:auto;line-height:normal;font-family:Menlo,'DejaVu Sans Mono',consolas,'Courier New',monospace\"><span style=\"color: #7fbfbf; text-decoration-color: #7fbfbf\">                    </span><span style=\"color: #800000; text-decoration-color: #800000\">WARNING </span> <span style=\"color: #800080; text-decoration-color: #800080\">/home/maa/miniconda3/envs/phd/lib/python3.10/site-packages/statsmodels</span> <a href=\"file:///home/maa/miniconda3/envs/phd/lib/python3.10/warnings.py\" target=\"_blank\"><span style=\"color: #7f7f7f; text-decoration-color: #7f7f7f\">warnings.py</span></a><span style=\"color: #7f7f7f; text-decoration-color: #7f7f7f\">:</span><a href=\"file:///home/maa/miniconda3/envs/phd/lib/python3.10/warnings.py#109\" target=\"_blank\"><span style=\"color: #7f7f7f; text-decoration-color: #7f7f7f\">109</span></a>\n",
       "<span style=\"color: #7fbfbf; text-decoration-color: #7fbfbf\">                    </span>         <span style=\"color: #800080; text-decoration-color: #800080\">/stats/</span><span style=\"color: #ff00ff; text-decoration-color: #ff00ff\">stattools.py</span>:<span style=\"color: #008080; text-decoration-color: #008080; font-weight: bold\">74</span>: ValueWarning: omni_normtest is not valid with  <span style=\"color: #7f7f7f; text-decoration-color: #7f7f7f\">               </span>\n",
       "<span style=\"color: #7fbfbf; text-decoration-color: #7fbfbf\">                    </span>         less than <span style=\"color: #008080; text-decoration-color: #008080; font-weight: bold\">8</span> observations; <span style=\"color: #008080; text-decoration-color: #008080; font-weight: bold\">4</span> samples were given.                        <span style=\"color: #7f7f7f; text-decoration-color: #7f7f7f\">               </span>\n",
       "<span style=\"color: #7fbfbf; text-decoration-color: #7fbfbf\">                    </span>           <span style=\"color: #800080; text-decoration-color: #800080; font-weight: bold\">warn</span><span style=\"font-weight: bold\">(</span><span style=\"color: #008000; text-decoration-color: #008000\">\"omni_normtest is not valid with less than 8 observations; %i \"</span> <span style=\"color: #7f7f7f; text-decoration-color: #7f7f7f\">               </span>\n",
       "<span style=\"color: #7fbfbf; text-decoration-color: #7fbfbf\">                    </span>                                                                                <span style=\"color: #7f7f7f; text-decoration-color: #7f7f7f\">               </span>\n",
       "</pre>\n"
      ],
      "text/plain": [
       "\u001b[2;36m                   \u001b[0m\u001b[2;36m \u001b[0m\u001b[31mWARNING \u001b[0m \u001b[35m/home/maa/miniconda3/envs/phd/lib/python3.10/site-packages/statsmodels\u001b[0m \u001b]8;id=170848;file:///home/maa/miniconda3/envs/phd/lib/python3.10/warnings.py\u001b\\\u001b[2mwarnings.py\u001b[0m\u001b]8;;\u001b\\\u001b[2m:\u001b[0m\u001b]8;id=303718;file:///home/maa/miniconda3/envs/phd/lib/python3.10/warnings.py#109\u001b\\\u001b[2m109\u001b[0m\u001b]8;;\u001b\\\n",
       "\u001b[2;36m                    \u001b[0m         \u001b[35m/stats/\u001b[0m\u001b[95mstattools.py\u001b[0m:\u001b[1;36m74\u001b[0m: ValueWarning: omni_normtest is not valid with  \u001b[2m               \u001b[0m\n",
       "\u001b[2;36m                    \u001b[0m         less than \u001b[1;36m8\u001b[0m observations; \u001b[1;36m4\u001b[0m samples were given.                        \u001b[2m               \u001b[0m\n",
       "\u001b[2;36m                    \u001b[0m           \u001b[1;35mwarn\u001b[0m\u001b[1m(\u001b[0m\u001b[32m\"omni_normtest is not valid with less than 8 observations; %i \"\u001b[0m \u001b[2m               \u001b[0m\n",
       "\u001b[2;36m                    \u001b[0m                                                                                \u001b[2m               \u001b[0m\n"
      ]
     },
     "metadata": {},
     "output_type": "display_data"
    },
    {
     "data": {
      "text/html": [
       "<pre style=\"white-space:pre;overflow-x:auto;line-height:normal;font-family:Menlo,'DejaVu Sans Mono',consolas,'Courier New',monospace\"><span style=\"color: #7fbfbf; text-decoration-color: #7fbfbf\">                    </span><span style=\"color: #000080; text-decoration-color: #000080\">INFO    </span>                         Results: Ordinary least squares                   <a href=\"file:///home/maa/dev/PHD/src/phd/pipelines/regression_VCT/nodes.py\" target=\"_blank\"><span style=\"color: #7f7f7f; text-decoration-color: #7f7f7f\">nodes.py</span></a><span style=\"color: #7f7f7f; text-decoration-color: #7f7f7f\">:</span><a href=\"file:///home/maa/dev/PHD/src/phd/pipelines/regression_VCT/nodes.py#665\" target=\"_blank\"><span style=\"color: #7f7f7f; text-decoration-color: #7f7f7f\">665</span></a>\n",
       "<span style=\"color: #7fbfbf; text-decoration-color: #7fbfbf\">                    </span>         ========================================================================= <span style=\"color: #7f7f7f; text-decoration-color: #7f7f7f\">            </span>\n",
       "<span style=\"color: #7fbfbf; text-decoration-color: #7fbfbf\">                    </span>         =======                                                                   <span style=\"color: #7f7f7f; text-decoration-color: #7f7f7f\">            </span>\n",
       "<span style=\"color: #7fbfbf; text-decoration-color: #7fbfbf\">                    </span>         Model:                  OLS              Adj. R-squared <span style=\"font-weight: bold\">(</span>uncentered<span style=\"font-weight: bold\">)</span>:     <span style=\"color: #7f7f7f; text-decoration-color: #7f7f7f\">            </span>\n",
       "<span style=\"color: #7fbfbf; text-decoration-color: #7fbfbf\">                    </span>         <span style=\"color: #008080; text-decoration-color: #008080; font-weight: bold\">1.000</span>                                                                     <span style=\"color: #7f7f7f; text-decoration-color: #7f7f7f\">            </span>\n",
       "<span style=\"color: #7fbfbf; text-decoration-color: #7fbfbf\">                    </span>         Dependent Variable:     Y_D              AIC:                             <span style=\"color: #7f7f7f; text-decoration-color: #7f7f7f\">            </span>\n",
       "<span style=\"color: #7fbfbf; text-decoration-color: #7fbfbf\">                    </span>         <span style=\"color: #008080; text-decoration-color: #008080; font-weight: bold\">-88.1513</span>                                                                  <span style=\"color: #7f7f7f; text-decoration-color: #7f7f7f\">            </span>\n",
       "<span style=\"color: #7fbfbf; text-decoration-color: #7fbfbf\">                    </span>         Date:                   <span style=\"color: #008080; text-decoration-color: #008080; font-weight: bold\">2024</span>-<span style=\"color: #008080; text-decoration-color: #008080; font-weight: bold\">02</span>-<span style=\"color: #008080; text-decoration-color: #008080; font-weight: bold\">07</span> <span style=\"color: #00ff00; text-decoration-color: #00ff00; font-weight: bold\">15:39</span> BIC:                             <span style=\"color: #7f7f7f; text-decoration-color: #7f7f7f\">            </span>\n",
       "<span style=\"color: #7fbfbf; text-decoration-color: #7fbfbf\">                    </span>         <span style=\"color: #008080; text-decoration-color: #008080; font-weight: bold\">-88.7650</span>                                                                  <span style=\"color: #7f7f7f; text-decoration-color: #7f7f7f\">            </span>\n",
       "<span style=\"color: #7fbfbf; text-decoration-color: #7fbfbf\">                    </span>         No. Observations:       <span style=\"color: #008080; text-decoration-color: #008080; font-weight: bold\">4</span>                Log-Likelihood:                  <span style=\"color: #7f7f7f; text-decoration-color: #7f7f7f\">            </span>\n",
       "<span style=\"color: #7fbfbf; text-decoration-color: #7fbfbf\">                    </span>         <span style=\"color: #008080; text-decoration-color: #008080; font-weight: bold\">45.076</span>                                                                    <span style=\"color: #7f7f7f; text-decoration-color: #7f7f7f\">            </span>\n",
       "<span style=\"color: #7fbfbf; text-decoration-color: #7fbfbf\">                    </span>         Df Model:               <span style=\"color: #008080; text-decoration-color: #008080; font-weight: bold\">1</span>                F-statistic:                     <span style=\"color: #7f7f7f; text-decoration-color: #7f7f7f\">            </span>\n",
       "<span style=\"color: #7fbfbf; text-decoration-color: #7fbfbf\">                    </span>         <span style=\"color: #008080; text-decoration-color: #008080; font-weight: bold\">2.166e+05</span>                                                                 <span style=\"color: #7f7f7f; text-decoration-color: #7f7f7f\">            </span>\n",
       "<span style=\"color: #7fbfbf; text-decoration-color: #7fbfbf\">                    </span>         Df Residuals:           <span style=\"color: #008080; text-decoration-color: #008080; font-weight: bold\">3</span>                Prob <span style=\"font-weight: bold\">(</span>F-statistic<span style=\"font-weight: bold\">)</span>:              <span style=\"color: #7f7f7f; text-decoration-color: #7f7f7f\">            </span>\n",
       "<span style=\"color: #7fbfbf; text-decoration-color: #7fbfbf\">                    </span>         <span style=\"color: #008080; text-decoration-color: #008080; font-weight: bold\">2.19e-08</span>                                                                  <span style=\"color: #7f7f7f; text-decoration-color: #7f7f7f\">            </span>\n",
       "<span style=\"color: #7fbfbf; text-decoration-color: #7fbfbf\">                    </span>         R-squared <span style=\"font-weight: bold\">(</span>uncentered<span style=\"font-weight: bold\">)</span>: <span style=\"color: #008080; text-decoration-color: #008080; font-weight: bold\">1.000</span>            Scale:                           <span style=\"color: #7f7f7f; text-decoration-color: #7f7f7f\">            </span>\n",
       "<span style=\"color: #7fbfbf; text-decoration-color: #7fbfbf\">                    </span>         <span style=\"color: #008080; text-decoration-color: #008080; font-weight: bold\">1.2718e-11</span>                                                                <span style=\"color: #7f7f7f; text-decoration-color: #7f7f7f\">            </span>\n",
       "<span style=\"color: #7fbfbf; text-decoration-color: #7fbfbf\">                    </span>         ------------------------------------------------------------------------- <span style=\"color: #7f7f7f; text-decoration-color: #7f7f7f\">            </span>\n",
       "<span style=\"color: #7fbfbf; text-decoration-color: #7fbfbf\">                    </span>         -------------                                                             <span style=\"color: #7f7f7f; text-decoration-color: #7f7f7f\">            </span>\n",
       "<span style=\"color: #7fbfbf; text-decoration-color: #7fbfbf\">                    </span>                    Coef.        Std.Err.          t           P&gt;|t|        <span style=\"font-weight: bold\">[</span><span style=\"color: #008080; text-decoration-color: #008080; font-weight: bold\">0.025</span> <span style=\"color: #7f7f7f; text-decoration-color: #7f7f7f\">            </span>\n",
       "<span style=\"color: #7fbfbf; text-decoration-color: #7fbfbf\">                    </span>         <span style=\"color: #008080; text-decoration-color: #008080; font-weight: bold\">0.975</span><span style=\"font-weight: bold\">]</span>                                                                    <span style=\"color: #7f7f7f; text-decoration-color: #7f7f7f\">            </span>\n",
       "<span style=\"color: #7fbfbf; text-decoration-color: #7fbfbf\">                    </span>         ------------------------------------------------------------------------- <span style=\"color: #7f7f7f; text-decoration-color: #7f7f7f\">            </span>\n",
       "<span style=\"color: #7fbfbf; text-decoration-color: #7fbfbf\">                    </span>         -------------                                                             <span style=\"color: #7f7f7f; text-decoration-color: #7f7f7f\">            </span>\n",
       "<span style=\"color: #7fbfbf; text-decoration-color: #7fbfbf\">                    </span>         aH         <span style=\"color: #008080; text-decoration-color: #008080; font-weight: bold\">1.1282</span>         <span style=\"color: #008080; text-decoration-color: #008080; font-weight: bold\">0.0024</span>       <span style=\"color: #008080; text-decoration-color: #008080; font-weight: bold\">465.4504</span>       <span style=\"color: #008080; text-decoration-color: #008080; font-weight: bold\">0.0000</span>       <span style=\"color: #008080; text-decoration-color: #008080; font-weight: bold\">1.1205</span> <span style=\"color: #7f7f7f; text-decoration-color: #7f7f7f\">            </span>\n",
       "<span style=\"color: #7fbfbf; text-decoration-color: #7fbfbf\">                    </span>         <span style=\"color: #008080; text-decoration-color: #008080; font-weight: bold\">1.1360</span>                                                                    <span style=\"color: #7f7f7f; text-decoration-color: #7f7f7f\">            </span>\n",
       "<span style=\"color: #7fbfbf; text-decoration-color: #7fbfbf\">                    </span>         ------------------------------------------------------------------------- <span style=\"color: #7f7f7f; text-decoration-color: #7f7f7f\">            </span>\n",
       "<span style=\"color: #7fbfbf; text-decoration-color: #7fbfbf\">                    </span>         -------                                                                   <span style=\"color: #7f7f7f; text-decoration-color: #7f7f7f\">            </span>\n",
       "<span style=\"color: #7fbfbf; text-decoration-color: #7fbfbf\">                    </span>         Omnibus:                   nan               Durbin-Watson:               <span style=\"color: #7f7f7f; text-decoration-color: #7f7f7f\">            </span>\n",
       "<span style=\"color: #7fbfbf; text-decoration-color: #7fbfbf\">                    </span>         <span style=\"color: #008080; text-decoration-color: #008080; font-weight: bold\">1.718</span>                                                                     <span style=\"color: #7f7f7f; text-decoration-color: #7f7f7f\">            </span>\n",
       "<span style=\"color: #7fbfbf; text-decoration-color: #7fbfbf\">                    </span>         <span style=\"color: #800080; text-decoration-color: #800080; font-weight: bold\">Prob</span><span style=\"font-weight: bold\">(</span>Omnibus<span style=\"font-weight: bold\">)</span>:             nan               Jarque-Bera <span style=\"font-weight: bold\">(</span>JB<span style=\"font-weight: bold\">)</span>:            <span style=\"color: #7f7f7f; text-decoration-color: #7f7f7f\">            </span>\n",
       "<span style=\"color: #7fbfbf; text-decoration-color: #7fbfbf\">                    </span>         <span style=\"color: #008080; text-decoration-color: #008080; font-weight: bold\">0.526</span>                                                                     <span style=\"color: #7f7f7f; text-decoration-color: #7f7f7f\">            </span>\n",
       "<span style=\"color: #7fbfbf; text-decoration-color: #7fbfbf\">                    </span>         Skew:                      <span style=\"color: #008080; text-decoration-color: #008080; font-weight: bold\">0.769</span>             <span style=\"color: #800080; text-decoration-color: #800080; font-weight: bold\">Prob</span><span style=\"font-weight: bold\">(</span>JB<span style=\"font-weight: bold\">)</span>:                    <span style=\"color: #7f7f7f; text-decoration-color: #7f7f7f\">            </span>\n",
       "<span style=\"color: #7fbfbf; text-decoration-color: #7fbfbf\">                    </span>         <span style=\"color: #008080; text-decoration-color: #008080; font-weight: bold\">0.769</span>                                                                     <span style=\"color: #7f7f7f; text-decoration-color: #7f7f7f\">            </span>\n",
       "<span style=\"color: #7fbfbf; text-decoration-color: #7fbfbf\">                    </span>         Kurtosis:                  <span style=\"color: #008080; text-decoration-color: #008080; font-weight: bold\">2.113</span>             Condition No.:               <span style=\"color: #7f7f7f; text-decoration-color: #7f7f7f\">            </span>\n",
       "<span style=\"color: #7fbfbf; text-decoration-color: #7fbfbf\">                    </span>         <span style=\"color: #008080; text-decoration-color: #008080; font-weight: bold\">1</span>                                                                         <span style=\"color: #7f7f7f; text-decoration-color: #7f7f7f\">            </span>\n",
       "<span style=\"color: #7fbfbf; text-decoration-color: #7fbfbf\">                    </span>         ========================================================================= <span style=\"color: #7f7f7f; text-decoration-color: #7f7f7f\">            </span>\n",
       "<span style=\"color: #7fbfbf; text-decoration-color: #7fbfbf\">                    </span>         =======                                                                   <span style=\"color: #7f7f7f; text-decoration-color: #7f7f7f\">            </span>\n",
       "<span style=\"color: #7fbfbf; text-decoration-color: #7fbfbf\">                    </span>         Notes:                                                                    <span style=\"color: #7f7f7f; text-decoration-color: #7f7f7f\">            </span>\n",
       "<span style=\"color: #7fbfbf; text-decoration-color: #7fbfbf\">                    </span>         <span style=\"font-weight: bold\">[</span><span style=\"color: #008080; text-decoration-color: #008080; font-weight: bold\">1</span><span style=\"font-weight: bold\">]</span> R² is computed without centering <span style=\"font-weight: bold\">(</span>uncentered<span style=\"font-weight: bold\">)</span> since the               <span style=\"color: #7f7f7f; text-decoration-color: #7f7f7f\">            </span>\n",
       "<span style=\"color: #7fbfbf; text-decoration-color: #7fbfbf\">                    </span>         model does not contain a constant.                                        <span style=\"color: #7f7f7f; text-decoration-color: #7f7f7f\">            </span>\n",
       "<span style=\"color: #7fbfbf; text-decoration-color: #7fbfbf\">                    </span>         <span style=\"font-weight: bold\">[</span><span style=\"color: #008080; text-decoration-color: #008080; font-weight: bold\">2</span><span style=\"font-weight: bold\">]</span> Standard Errors assume that the covariance matrix of the errors is    <span style=\"color: #7f7f7f; text-decoration-color: #7f7f7f\">            </span>\n",
       "<span style=\"color: #7fbfbf; text-decoration-color: #7fbfbf\">                    </span>         correctly                                                                 <span style=\"color: #7f7f7f; text-decoration-color: #7f7f7f\">            </span>\n",
       "<span style=\"color: #7fbfbf; text-decoration-color: #7fbfbf\">                    </span>         specified.                                                                <span style=\"color: #7f7f7f; text-decoration-color: #7f7f7f\">            </span>\n",
       "</pre>\n"
      ],
      "text/plain": [
       "\u001b[2;36m                   \u001b[0m\u001b[2;36m \u001b[0m\u001b[34mINFO    \u001b[0m                         Results: Ordinary least squares                   \u001b]8;id=289419;file:///home/maa/dev/PHD/src/phd/pipelines/regression_VCT/nodes.py\u001b\\\u001b[2mnodes.py\u001b[0m\u001b]8;;\u001b\\\u001b[2m:\u001b[0m\u001b]8;id=539455;file:///home/maa/dev/PHD/src/phd/pipelines/regression_VCT/nodes.py#665\u001b\\\u001b[2m665\u001b[0m\u001b]8;;\u001b\\\n",
       "\u001b[2;36m                    \u001b[0m         ========================================================================= \u001b[2m            \u001b[0m\n",
       "\u001b[2;36m                    \u001b[0m         =======                                                                   \u001b[2m            \u001b[0m\n",
       "\u001b[2;36m                    \u001b[0m         Model:                  OLS              Adj. R-squared \u001b[1m(\u001b[0muncentered\u001b[1m)\u001b[0m:     \u001b[2m            \u001b[0m\n",
       "\u001b[2;36m                    \u001b[0m         \u001b[1;36m1.000\u001b[0m                                                                     \u001b[2m            \u001b[0m\n",
       "\u001b[2;36m                    \u001b[0m         Dependent Variable:     Y_D              AIC:                             \u001b[2m            \u001b[0m\n",
       "\u001b[2;36m                    \u001b[0m         \u001b[1;36m-88.1513\u001b[0m                                                                  \u001b[2m            \u001b[0m\n",
       "\u001b[2;36m                    \u001b[0m         Date:                   \u001b[1;36m2024\u001b[0m-\u001b[1;36m02\u001b[0m-\u001b[1;36m07\u001b[0m \u001b[1;92m15:39\u001b[0m BIC:                             \u001b[2m            \u001b[0m\n",
       "\u001b[2;36m                    \u001b[0m         \u001b[1;36m-88.7650\u001b[0m                                                                  \u001b[2m            \u001b[0m\n",
       "\u001b[2;36m                    \u001b[0m         No. Observations:       \u001b[1;36m4\u001b[0m                Log-Likelihood:                  \u001b[2m            \u001b[0m\n",
       "\u001b[2;36m                    \u001b[0m         \u001b[1;36m45.076\u001b[0m                                                                    \u001b[2m            \u001b[0m\n",
       "\u001b[2;36m                    \u001b[0m         Df Model:               \u001b[1;36m1\u001b[0m                F-statistic:                     \u001b[2m            \u001b[0m\n",
       "\u001b[2;36m                    \u001b[0m         \u001b[1;36m2.166e+05\u001b[0m                                                                 \u001b[2m            \u001b[0m\n",
       "\u001b[2;36m                    \u001b[0m         Df Residuals:           \u001b[1;36m3\u001b[0m                Prob \u001b[1m(\u001b[0mF-statistic\u001b[1m)\u001b[0m:              \u001b[2m            \u001b[0m\n",
       "\u001b[2;36m                    \u001b[0m         \u001b[1;36m2.19e-08\u001b[0m                                                                  \u001b[2m            \u001b[0m\n",
       "\u001b[2;36m                    \u001b[0m         R-squared \u001b[1m(\u001b[0muncentered\u001b[1m)\u001b[0m: \u001b[1;36m1.000\u001b[0m            Scale:                           \u001b[2m            \u001b[0m\n",
       "\u001b[2;36m                    \u001b[0m         \u001b[1;36m1.2718e-11\u001b[0m                                                                \u001b[2m            \u001b[0m\n",
       "\u001b[2;36m                    \u001b[0m         ------------------------------------------------------------------------- \u001b[2m            \u001b[0m\n",
       "\u001b[2;36m                    \u001b[0m         -------------                                                             \u001b[2m            \u001b[0m\n",
       "\u001b[2;36m                    \u001b[0m                    Coef.        Std.Err.          t           P>|t|        \u001b[1m[\u001b[0m\u001b[1;36m0.025\u001b[0m \u001b[2m            \u001b[0m\n",
       "\u001b[2;36m                    \u001b[0m         \u001b[1;36m0.975\u001b[0m\u001b[1m]\u001b[0m                                                                    \u001b[2m            \u001b[0m\n",
       "\u001b[2;36m                    \u001b[0m         ------------------------------------------------------------------------- \u001b[2m            \u001b[0m\n",
       "\u001b[2;36m                    \u001b[0m         -------------                                                             \u001b[2m            \u001b[0m\n",
       "\u001b[2;36m                    \u001b[0m         aH         \u001b[1;36m1.1282\u001b[0m         \u001b[1;36m0.0024\u001b[0m       \u001b[1;36m465.4504\u001b[0m       \u001b[1;36m0.0000\u001b[0m       \u001b[1;36m1.1205\u001b[0m \u001b[2m            \u001b[0m\n",
       "\u001b[2;36m                    \u001b[0m         \u001b[1;36m1.1360\u001b[0m                                                                    \u001b[2m            \u001b[0m\n",
       "\u001b[2;36m                    \u001b[0m         ------------------------------------------------------------------------- \u001b[2m            \u001b[0m\n",
       "\u001b[2;36m                    \u001b[0m         -------                                                                   \u001b[2m            \u001b[0m\n",
       "\u001b[2;36m                    \u001b[0m         Omnibus:                   nan               Durbin-Watson:               \u001b[2m            \u001b[0m\n",
       "\u001b[2;36m                    \u001b[0m         \u001b[1;36m1.718\u001b[0m                                                                     \u001b[2m            \u001b[0m\n",
       "\u001b[2;36m                    \u001b[0m         \u001b[1;35mProb\u001b[0m\u001b[1m(\u001b[0mOmnibus\u001b[1m)\u001b[0m:             nan               Jarque-Bera \u001b[1m(\u001b[0mJB\u001b[1m)\u001b[0m:            \u001b[2m            \u001b[0m\n",
       "\u001b[2;36m                    \u001b[0m         \u001b[1;36m0.526\u001b[0m                                                                     \u001b[2m            \u001b[0m\n",
       "\u001b[2;36m                    \u001b[0m         Skew:                      \u001b[1;36m0.769\u001b[0m             \u001b[1;35mProb\u001b[0m\u001b[1m(\u001b[0mJB\u001b[1m)\u001b[0m:                    \u001b[2m            \u001b[0m\n",
       "\u001b[2;36m                    \u001b[0m         \u001b[1;36m0.769\u001b[0m                                                                     \u001b[2m            \u001b[0m\n",
       "\u001b[2;36m                    \u001b[0m         Kurtosis:                  \u001b[1;36m2.113\u001b[0m             Condition No.:               \u001b[2m            \u001b[0m\n",
       "\u001b[2;36m                    \u001b[0m         \u001b[1;36m1\u001b[0m                                                                         \u001b[2m            \u001b[0m\n",
       "\u001b[2;36m                    \u001b[0m         ========================================================================= \u001b[2m            \u001b[0m\n",
       "\u001b[2;36m                    \u001b[0m         =======                                                                   \u001b[2m            \u001b[0m\n",
       "\u001b[2;36m                    \u001b[0m         Notes:                                                                    \u001b[2m            \u001b[0m\n",
       "\u001b[2;36m                    \u001b[0m         \u001b[1m[\u001b[0m\u001b[1;36m1\u001b[0m\u001b[1m]\u001b[0m R² is computed without centering \u001b[1m(\u001b[0muncentered\u001b[1m)\u001b[0m since the               \u001b[2m            \u001b[0m\n",
       "\u001b[2;36m                    \u001b[0m         model does not contain a constant.                                        \u001b[2m            \u001b[0m\n",
       "\u001b[2;36m                    \u001b[0m         \u001b[1m[\u001b[0m\u001b[1;36m2\u001b[0m\u001b[1m]\u001b[0m Standard Errors assume that the covariance matrix of the errors is    \u001b[2m            \u001b[0m\n",
       "\u001b[2;36m                    \u001b[0m         correctly                                                                 \u001b[2m            \u001b[0m\n",
       "\u001b[2;36m                    \u001b[0m         specified.                                                                \u001b[2m            \u001b[0m\n"
      ]
     },
     "metadata": {},
     "output_type": "display_data"
    },
    {
     "data": {
      "text/html": [
       "<pre style=\"white-space:pre;overflow-x:auto;line-height:normal;font-family:Menlo,'DejaVu Sans Mono',consolas,'Courier New',monospace\"><span style=\"color: #7fbfbf; text-decoration-color: #7fbfbf\">                    </span><span style=\"color: #000080; text-decoration-color: #000080\">INFO    </span> Regression:rudder hull interaction xH                                     <a href=\"file:///home/maa/dev/PHD/src/phd/pipelines/regression_VCT/nodes.py\" target=\"_blank\"><span style=\"color: #7f7f7f; text-decoration-color: #7f7f7f\">nodes.py</span></a><span style=\"color: #7f7f7f; text-decoration-color: #7f7f7f\">:</span><a href=\"file:///home/maa/dev/PHD/src/phd/pipelines/regression_VCT/nodes.py#662\" target=\"_blank\"><span style=\"color: #7f7f7f; text-decoration-color: #7f7f7f\">662</span></a>\n",
       "</pre>\n"
      ],
      "text/plain": [
       "\u001b[2;36m                   \u001b[0m\u001b[2;36m \u001b[0m\u001b[34mINFO    \u001b[0m Regression:rudder hull interaction xH                                     \u001b]8;id=236571;file:///home/maa/dev/PHD/src/phd/pipelines/regression_VCT/nodes.py\u001b\\\u001b[2mnodes.py\u001b[0m\u001b]8;;\u001b\\\u001b[2m:\u001b[0m\u001b]8;id=793191;file:///home/maa/dev/PHD/src/phd/pipelines/regression_VCT/nodes.py#662\u001b\\\u001b[2m662\u001b[0m\u001b]8;;\u001b\\\n"
      ]
     },
     "metadata": {},
     "output_type": "display_data"
    },
    {
     "name": "stdout",
     "output_type": "stream",
     "text": [
      "N_D = N_R⋅x_H\n"
     ]
    },
    {
     "data": {
      "text/html": [
       "<pre style=\"white-space:pre;overflow-x:auto;line-height:normal;font-family:Menlo,'DejaVu Sans Mono',consolas,'Courier New',monospace\"><span style=\"color: #7fbfbf; text-decoration-color: #7fbfbf\">                    </span><span style=\"color: #000080; text-decoration-color: #000080\">INFO    </span> <span style=\"color: #800080; text-decoration-color: #800080; font-style: italic\">None</span>                                                                      <a href=\"file:///home/maa/dev/PHD/src/phd/pipelines/regression_VCT/nodes.py\" target=\"_blank\"><span style=\"color: #7f7f7f; text-decoration-color: #7f7f7f\">nodes.py</span></a><span style=\"color: #7f7f7f; text-decoration-color: #7f7f7f\">:</span><a href=\"file:///home/maa/dev/PHD/src/phd/pipelines/regression_VCT/nodes.py#663\" target=\"_blank\"><span style=\"color: #7f7f7f; text-decoration-color: #7f7f7f\">663</span></a>\n",
       "</pre>\n"
      ],
      "text/plain": [
       "\u001b[2;36m                   \u001b[0m\u001b[2;36m \u001b[0m\u001b[34mINFO    \u001b[0m \u001b[3;35mNone\u001b[0m                                                                      \u001b]8;id=15408;file:///home/maa/dev/PHD/src/phd/pipelines/regression_VCT/nodes.py\u001b\\\u001b[2mnodes.py\u001b[0m\u001b]8;;\u001b\\\u001b[2m:\u001b[0m\u001b]8;id=34490;file:///home/maa/dev/PHD/src/phd/pipelines/regression_VCT/nodes.py#663\u001b\\\u001b[2m663\u001b[0m\u001b]8;;\u001b\\\n"
      ]
     },
     "metadata": {},
     "output_type": "display_data"
    },
    {
     "data": {
      "text/html": [
       "<pre style=\"white-space:pre;overflow-x:auto;line-height:normal;font-family:Menlo,'DejaVu Sans Mono',consolas,'Courier New',monospace\"><span style=\"color: #7fbfbf; text-decoration-color: #7fbfbf\">                    </span><span style=\"color: #800000; text-decoration-color: #800000\">WARNING </span> <span style=\"color: #800080; text-decoration-color: #800080\">/home/maa/miniconda3/envs/phd/lib/python3.10/site-packages/statsmodels</span> <a href=\"file:///home/maa/miniconda3/envs/phd/lib/python3.10/warnings.py\" target=\"_blank\"><span style=\"color: #7f7f7f; text-decoration-color: #7f7f7f\">warnings.py</span></a><span style=\"color: #7f7f7f; text-decoration-color: #7f7f7f\">:</span><a href=\"file:///home/maa/miniconda3/envs/phd/lib/python3.10/warnings.py#109\" target=\"_blank\"><span style=\"color: #7f7f7f; text-decoration-color: #7f7f7f\">109</span></a>\n",
       "<span style=\"color: #7fbfbf; text-decoration-color: #7fbfbf\">                    </span>         <span style=\"color: #800080; text-decoration-color: #800080\">/stats/</span><span style=\"color: #ff00ff; text-decoration-color: #ff00ff\">stattools.py</span>:<span style=\"color: #008080; text-decoration-color: #008080; font-weight: bold\">74</span>: ValueWarning: omni_normtest is not valid with  <span style=\"color: #7f7f7f; text-decoration-color: #7f7f7f\">               </span>\n",
       "<span style=\"color: #7fbfbf; text-decoration-color: #7fbfbf\">                    </span>         less than <span style=\"color: #008080; text-decoration-color: #008080; font-weight: bold\">8</span> observations; <span style=\"color: #008080; text-decoration-color: #008080; font-weight: bold\">4</span> samples were given.                        <span style=\"color: #7f7f7f; text-decoration-color: #7f7f7f\">               </span>\n",
       "<span style=\"color: #7fbfbf; text-decoration-color: #7fbfbf\">                    </span>           <span style=\"color: #800080; text-decoration-color: #800080; font-weight: bold\">warn</span><span style=\"font-weight: bold\">(</span><span style=\"color: #008000; text-decoration-color: #008000\">\"omni_normtest is not valid with less than 8 observations; %i \"</span> <span style=\"color: #7f7f7f; text-decoration-color: #7f7f7f\">               </span>\n",
       "<span style=\"color: #7fbfbf; text-decoration-color: #7fbfbf\">                    </span>                                                                                <span style=\"color: #7f7f7f; text-decoration-color: #7f7f7f\">               </span>\n",
       "</pre>\n"
      ],
      "text/plain": [
       "\u001b[2;36m                   \u001b[0m\u001b[2;36m \u001b[0m\u001b[31mWARNING \u001b[0m \u001b[35m/home/maa/miniconda3/envs/phd/lib/python3.10/site-packages/statsmodels\u001b[0m \u001b]8;id=802558;file:///home/maa/miniconda3/envs/phd/lib/python3.10/warnings.py\u001b\\\u001b[2mwarnings.py\u001b[0m\u001b]8;;\u001b\\\u001b[2m:\u001b[0m\u001b]8;id=692224;file:///home/maa/miniconda3/envs/phd/lib/python3.10/warnings.py#109\u001b\\\u001b[2m109\u001b[0m\u001b]8;;\u001b\\\n",
       "\u001b[2;36m                    \u001b[0m         \u001b[35m/stats/\u001b[0m\u001b[95mstattools.py\u001b[0m:\u001b[1;36m74\u001b[0m: ValueWarning: omni_normtest is not valid with  \u001b[2m               \u001b[0m\n",
       "\u001b[2;36m                    \u001b[0m         less than \u001b[1;36m8\u001b[0m observations; \u001b[1;36m4\u001b[0m samples were given.                        \u001b[2m               \u001b[0m\n",
       "\u001b[2;36m                    \u001b[0m           \u001b[1;35mwarn\u001b[0m\u001b[1m(\u001b[0m\u001b[32m\"omni_normtest is not valid with less than 8 observations; %i \"\u001b[0m \u001b[2m               \u001b[0m\n",
       "\u001b[2;36m                    \u001b[0m                                                                                \u001b[2m               \u001b[0m\n"
      ]
     },
     "metadata": {},
     "output_type": "display_data"
    },
    {
     "data": {
      "text/html": [
       "<pre style=\"white-space:pre;overflow-x:auto;line-height:normal;font-family:Menlo,'DejaVu Sans Mono',consolas,'Courier New',monospace\"><span style=\"color: #7fbfbf; text-decoration-color: #7fbfbf\">                    </span><span style=\"color: #000080; text-decoration-color: #000080\">INFO    </span>                         Results: Ordinary least squares                   <a href=\"file:///home/maa/dev/PHD/src/phd/pipelines/regression_VCT/nodes.py\" target=\"_blank\"><span style=\"color: #7f7f7f; text-decoration-color: #7f7f7f\">nodes.py</span></a><span style=\"color: #7f7f7f; text-decoration-color: #7f7f7f\">:</span><a href=\"file:///home/maa/dev/PHD/src/phd/pipelines/regression_VCT/nodes.py#665\" target=\"_blank\"><span style=\"color: #7f7f7f; text-decoration-color: #7f7f7f\">665</span></a>\n",
       "<span style=\"color: #7fbfbf; text-decoration-color: #7fbfbf\">                    </span>         ========================================================================= <span style=\"color: #7f7f7f; text-decoration-color: #7f7f7f\">            </span>\n",
       "<span style=\"color: #7fbfbf; text-decoration-color: #7fbfbf\">                    </span>         =======                                                                   <span style=\"color: #7f7f7f; text-decoration-color: #7f7f7f\">            </span>\n",
       "<span style=\"color: #7fbfbf; text-decoration-color: #7fbfbf\">                    </span>         Model:                  OLS              Adj. R-squared <span style=\"font-weight: bold\">(</span>uncentered<span style=\"font-weight: bold\">)</span>:     <span style=\"color: #7f7f7f; text-decoration-color: #7f7f7f\">            </span>\n",
       "<span style=\"color: #7fbfbf; text-decoration-color: #7fbfbf\">                    </span>         <span style=\"color: #008080; text-decoration-color: #008080; font-weight: bold\">1.000</span>                                                                     <span style=\"color: #7f7f7f; text-decoration-color: #7f7f7f\">            </span>\n",
       "<span style=\"color: #7fbfbf; text-decoration-color: #7fbfbf\">                    </span>         Dependent Variable:     N_D              AIC:                             <span style=\"color: #7f7f7f; text-decoration-color: #7f7f7f\">            </span>\n",
       "<span style=\"color: #7fbfbf; text-decoration-color: #7fbfbf\">                    </span>         <span style=\"color: #008080; text-decoration-color: #008080; font-weight: bold\">-96.9978</span>                                                                  <span style=\"color: #7f7f7f; text-decoration-color: #7f7f7f\">            </span>\n",
       "<span style=\"color: #7fbfbf; text-decoration-color: #7fbfbf\">                    </span>         Date:                   <span style=\"color: #008080; text-decoration-color: #008080; font-weight: bold\">2024</span>-<span style=\"color: #008080; text-decoration-color: #008080; font-weight: bold\">02</span>-<span style=\"color: #008080; text-decoration-color: #008080; font-weight: bold\">07</span> <span style=\"color: #00ff00; text-decoration-color: #00ff00; font-weight: bold\">15:39</span> BIC:                             <span style=\"color: #7f7f7f; text-decoration-color: #7f7f7f\">            </span>\n",
       "<span style=\"color: #7fbfbf; text-decoration-color: #7fbfbf\">                    </span>         <span style=\"color: #008080; text-decoration-color: #008080; font-weight: bold\">-97.6115</span>                                                                  <span style=\"color: #7f7f7f; text-decoration-color: #7f7f7f\">            </span>\n",
       "<span style=\"color: #7fbfbf; text-decoration-color: #7fbfbf\">                    </span>         No. Observations:       <span style=\"color: #008080; text-decoration-color: #008080; font-weight: bold\">4</span>                Log-Likelihood:                  <span style=\"color: #7f7f7f; text-decoration-color: #7f7f7f\">            </span>\n",
       "<span style=\"color: #7fbfbf; text-decoration-color: #7fbfbf\">                    </span>         <span style=\"color: #008080; text-decoration-color: #008080; font-weight: bold\">49.499</span>                                                                    <span style=\"color: #7f7f7f; text-decoration-color: #7f7f7f\">            </span>\n",
       "<span style=\"color: #7fbfbf; text-decoration-color: #7fbfbf\">                    </span>         Df Model:               <span style=\"color: #008080; text-decoration-color: #008080; font-weight: bold\">1</span>                F-statistic:                     <span style=\"color: #7f7f7f; text-decoration-color: #7f7f7f\">            </span>\n",
       "<span style=\"color: #7fbfbf; text-decoration-color: #7fbfbf\">                    </span>         <span style=\"color: #008080; text-decoration-color: #008080; font-weight: bold\">4.599e+05</span>                                                                 <span style=\"color: #7f7f7f; text-decoration-color: #7f7f7f\">            </span>\n",
       "<span style=\"color: #7fbfbf; text-decoration-color: #7fbfbf\">                    </span>         Df Residuals:           <span style=\"color: #008080; text-decoration-color: #008080; font-weight: bold\">3</span>                Prob <span style=\"font-weight: bold\">(</span>F-statistic<span style=\"font-weight: bold\">)</span>:              <span style=\"color: #7f7f7f; text-decoration-color: #7f7f7f\">            </span>\n",
       "<span style=\"color: #7fbfbf; text-decoration-color: #7fbfbf\">                    </span>         <span style=\"color: #008080; text-decoration-color: #008080; font-weight: bold\">7.07e-09</span>                                                                  <span style=\"color: #7f7f7f; text-decoration-color: #7f7f7f\">            </span>\n",
       "<span style=\"color: #7fbfbf; text-decoration-color: #7fbfbf\">                    </span>         R-squared <span style=\"font-weight: bold\">(</span>uncentered<span style=\"font-weight: bold\">)</span>: <span style=\"color: #008080; text-decoration-color: #008080; font-weight: bold\">1.000</span>            Scale:                           <span style=\"color: #7f7f7f; text-decoration-color: #7f7f7f\">            </span>\n",
       "<span style=\"color: #7fbfbf; text-decoration-color: #7fbfbf\">                    </span>         <span style=\"color: #008080; text-decoration-color: #008080; font-weight: bold\">1.3929e-12</span>                                                                <span style=\"color: #7f7f7f; text-decoration-color: #7f7f7f\">            </span>\n",
       "<span style=\"color: #7fbfbf; text-decoration-color: #7fbfbf\">                    </span>         ------------------------------------------------------------------------- <span style=\"color: #7f7f7f; text-decoration-color: #7f7f7f\">            </span>\n",
       "<span style=\"color: #7fbfbf; text-decoration-color: #7fbfbf\">                    </span>         -------------                                                             <span style=\"color: #7f7f7f; text-decoration-color: #7f7f7f\">            </span>\n",
       "<span style=\"color: #7fbfbf; text-decoration-color: #7fbfbf\">                    </span>                    Coef.        Std.Err.          t           P&gt;|t|        <span style=\"font-weight: bold\">[</span><span style=\"color: #008080; text-decoration-color: #008080; font-weight: bold\">0.025</span> <span style=\"color: #7f7f7f; text-decoration-color: #7f7f7f\">            </span>\n",
       "<span style=\"color: #7fbfbf; text-decoration-color: #7fbfbf\">                    </span>         <span style=\"color: #008080; text-decoration-color: #008080; font-weight: bold\">0.975</span><span style=\"font-weight: bold\">]</span>                                                                    <span style=\"color: #7f7f7f; text-decoration-color: #7f7f7f\">            </span>\n",
       "<span style=\"color: #7fbfbf; text-decoration-color: #7fbfbf\">                    </span>         ------------------------------------------------------------------------- <span style=\"color: #7f7f7f; text-decoration-color: #7f7f7f\">            </span>\n",
       "<span style=\"color: #7fbfbf; text-decoration-color: #7fbfbf\">                    </span>         -------------                                                             <span style=\"color: #7f7f7f; text-decoration-color: #7f7f7f\">            </span>\n",
       "<span style=\"color: #7fbfbf; text-decoration-color: #7fbfbf\">                    </span>         xH         <span style=\"color: #008080; text-decoration-color: #008080; font-weight: bold\">1.1250</span>         <span style=\"color: #008080; text-decoration-color: #008080; font-weight: bold\">0.0017</span>       <span style=\"color: #008080; text-decoration-color: #008080; font-weight: bold\">678.1346</span>       <span style=\"color: #008080; text-decoration-color: #008080; font-weight: bold\">0.0000</span>       <span style=\"color: #008080; text-decoration-color: #008080; font-weight: bold\">1.1197</span> <span style=\"color: #7f7f7f; text-decoration-color: #7f7f7f\">            </span>\n",
       "<span style=\"color: #7fbfbf; text-decoration-color: #7fbfbf\">                    </span>         <span style=\"color: #008080; text-decoration-color: #008080; font-weight: bold\">1.1302</span>                                                                    <span style=\"color: #7f7f7f; text-decoration-color: #7f7f7f\">            </span>\n",
       "<span style=\"color: #7fbfbf; text-decoration-color: #7fbfbf\">                    </span>         ------------------------------------------------------------------------- <span style=\"color: #7f7f7f; text-decoration-color: #7f7f7f\">            </span>\n",
       "<span style=\"color: #7fbfbf; text-decoration-color: #7fbfbf\">                    </span>         -------                                                                   <span style=\"color: #7f7f7f; text-decoration-color: #7f7f7f\">            </span>\n",
       "<span style=\"color: #7fbfbf; text-decoration-color: #7fbfbf\">                    </span>         Omnibus:                    nan               Durbin-Watson:              <span style=\"color: #7f7f7f; text-decoration-color: #7f7f7f\">            </span>\n",
       "<span style=\"color: #7fbfbf; text-decoration-color: #7fbfbf\">                    </span>         <span style=\"color: #008080; text-decoration-color: #008080; font-weight: bold\">1.583</span>                                                                     <span style=\"color: #7f7f7f; text-decoration-color: #7f7f7f\">            </span>\n",
       "<span style=\"color: #7fbfbf; text-decoration-color: #7fbfbf\">                    </span>         <span style=\"color: #800080; text-decoration-color: #800080; font-weight: bold\">Prob</span><span style=\"font-weight: bold\">(</span>Omnibus<span style=\"font-weight: bold\">)</span>:              nan               Jarque-Bera <span style=\"font-weight: bold\">(</span>JB<span style=\"font-weight: bold\">)</span>:           <span style=\"color: #7f7f7f; text-decoration-color: #7f7f7f\">            </span>\n",
       "<span style=\"color: #7fbfbf; text-decoration-color: #7fbfbf\">                    </span>         <span style=\"color: #008080; text-decoration-color: #008080; font-weight: bold\">0.379</span>                                                                     <span style=\"color: #7f7f7f; text-decoration-color: #7f7f7f\">            </span>\n",
       "<span style=\"color: #7fbfbf; text-decoration-color: #7fbfbf\">                    </span>         Skew:                       <span style=\"color: #008080; text-decoration-color: #008080; font-weight: bold\">-0.593</span>            <span style=\"color: #800080; text-decoration-color: #800080; font-weight: bold\">Prob</span><span style=\"font-weight: bold\">(</span>JB<span style=\"font-weight: bold\">)</span>:                   <span style=\"color: #7f7f7f; text-decoration-color: #7f7f7f\">            </span>\n",
       "<span style=\"color: #7fbfbf; text-decoration-color: #7fbfbf\">                    </span>         <span style=\"color: #008080; text-decoration-color: #008080; font-weight: bold\">0.827</span>                                                                     <span style=\"color: #7f7f7f; text-decoration-color: #7f7f7f\">            </span>\n",
       "<span style=\"color: #7fbfbf; text-decoration-color: #7fbfbf\">                    </span>         Kurtosis:                   <span style=\"color: #008080; text-decoration-color: #008080; font-weight: bold\">2.069</span>             Condition No.:              <span style=\"color: #7f7f7f; text-decoration-color: #7f7f7f\">            </span>\n",
       "<span style=\"color: #7fbfbf; text-decoration-color: #7fbfbf\">                    </span>         <span style=\"color: #008080; text-decoration-color: #008080; font-weight: bold\">1</span>                                                                         <span style=\"color: #7f7f7f; text-decoration-color: #7f7f7f\">            </span>\n",
       "<span style=\"color: #7fbfbf; text-decoration-color: #7fbfbf\">                    </span>         ========================================================================= <span style=\"color: #7f7f7f; text-decoration-color: #7f7f7f\">            </span>\n",
       "<span style=\"color: #7fbfbf; text-decoration-color: #7fbfbf\">                    </span>         =======                                                                   <span style=\"color: #7f7f7f; text-decoration-color: #7f7f7f\">            </span>\n",
       "<span style=\"color: #7fbfbf; text-decoration-color: #7fbfbf\">                    </span>         Notes:                                                                    <span style=\"color: #7f7f7f; text-decoration-color: #7f7f7f\">            </span>\n",
       "<span style=\"color: #7fbfbf; text-decoration-color: #7fbfbf\">                    </span>         <span style=\"font-weight: bold\">[</span><span style=\"color: #008080; text-decoration-color: #008080; font-weight: bold\">1</span><span style=\"font-weight: bold\">]</span> R² is computed without centering <span style=\"font-weight: bold\">(</span>uncentered<span style=\"font-weight: bold\">)</span> since the               <span style=\"color: #7f7f7f; text-decoration-color: #7f7f7f\">            </span>\n",
       "<span style=\"color: #7fbfbf; text-decoration-color: #7fbfbf\">                    </span>         model does not contain a constant.                                        <span style=\"color: #7f7f7f; text-decoration-color: #7f7f7f\">            </span>\n",
       "<span style=\"color: #7fbfbf; text-decoration-color: #7fbfbf\">                    </span>         <span style=\"font-weight: bold\">[</span><span style=\"color: #008080; text-decoration-color: #008080; font-weight: bold\">2</span><span style=\"font-weight: bold\">]</span> Standard Errors assume that the covariance matrix of the errors is    <span style=\"color: #7f7f7f; text-decoration-color: #7f7f7f\">            </span>\n",
       "<span style=\"color: #7fbfbf; text-decoration-color: #7fbfbf\">                    </span>         correctly                                                                 <span style=\"color: #7f7f7f; text-decoration-color: #7f7f7f\">            </span>\n",
       "<span style=\"color: #7fbfbf; text-decoration-color: #7fbfbf\">                    </span>         specified.                                                                <span style=\"color: #7f7f7f; text-decoration-color: #7f7f7f\">            </span>\n",
       "</pre>\n"
      ],
      "text/plain": [
       "\u001b[2;36m                   \u001b[0m\u001b[2;36m \u001b[0m\u001b[34mINFO    \u001b[0m                         Results: Ordinary least squares                   \u001b]8;id=18160;file:///home/maa/dev/PHD/src/phd/pipelines/regression_VCT/nodes.py\u001b\\\u001b[2mnodes.py\u001b[0m\u001b]8;;\u001b\\\u001b[2m:\u001b[0m\u001b]8;id=707362;file:///home/maa/dev/PHD/src/phd/pipelines/regression_VCT/nodes.py#665\u001b\\\u001b[2m665\u001b[0m\u001b]8;;\u001b\\\n",
       "\u001b[2;36m                    \u001b[0m         ========================================================================= \u001b[2m            \u001b[0m\n",
       "\u001b[2;36m                    \u001b[0m         =======                                                                   \u001b[2m            \u001b[0m\n",
       "\u001b[2;36m                    \u001b[0m         Model:                  OLS              Adj. R-squared \u001b[1m(\u001b[0muncentered\u001b[1m)\u001b[0m:     \u001b[2m            \u001b[0m\n",
       "\u001b[2;36m                    \u001b[0m         \u001b[1;36m1.000\u001b[0m                                                                     \u001b[2m            \u001b[0m\n",
       "\u001b[2;36m                    \u001b[0m         Dependent Variable:     N_D              AIC:                             \u001b[2m            \u001b[0m\n",
       "\u001b[2;36m                    \u001b[0m         \u001b[1;36m-96.9978\u001b[0m                                                                  \u001b[2m            \u001b[0m\n",
       "\u001b[2;36m                    \u001b[0m         Date:                   \u001b[1;36m2024\u001b[0m-\u001b[1;36m02\u001b[0m-\u001b[1;36m07\u001b[0m \u001b[1;92m15:39\u001b[0m BIC:                             \u001b[2m            \u001b[0m\n",
       "\u001b[2;36m                    \u001b[0m         \u001b[1;36m-97.6115\u001b[0m                                                                  \u001b[2m            \u001b[0m\n",
       "\u001b[2;36m                    \u001b[0m         No. Observations:       \u001b[1;36m4\u001b[0m                Log-Likelihood:                  \u001b[2m            \u001b[0m\n",
       "\u001b[2;36m                    \u001b[0m         \u001b[1;36m49.499\u001b[0m                                                                    \u001b[2m            \u001b[0m\n",
       "\u001b[2;36m                    \u001b[0m         Df Model:               \u001b[1;36m1\u001b[0m                F-statistic:                     \u001b[2m            \u001b[0m\n",
       "\u001b[2;36m                    \u001b[0m         \u001b[1;36m4.599e+05\u001b[0m                                                                 \u001b[2m            \u001b[0m\n",
       "\u001b[2;36m                    \u001b[0m         Df Residuals:           \u001b[1;36m3\u001b[0m                Prob \u001b[1m(\u001b[0mF-statistic\u001b[1m)\u001b[0m:              \u001b[2m            \u001b[0m\n",
       "\u001b[2;36m                    \u001b[0m         \u001b[1;36m7.07e-09\u001b[0m                                                                  \u001b[2m            \u001b[0m\n",
       "\u001b[2;36m                    \u001b[0m         R-squared \u001b[1m(\u001b[0muncentered\u001b[1m)\u001b[0m: \u001b[1;36m1.000\u001b[0m            Scale:                           \u001b[2m            \u001b[0m\n",
       "\u001b[2;36m                    \u001b[0m         \u001b[1;36m1.3929e-12\u001b[0m                                                                \u001b[2m            \u001b[0m\n",
       "\u001b[2;36m                    \u001b[0m         ------------------------------------------------------------------------- \u001b[2m            \u001b[0m\n",
       "\u001b[2;36m                    \u001b[0m         -------------                                                             \u001b[2m            \u001b[0m\n",
       "\u001b[2;36m                    \u001b[0m                    Coef.        Std.Err.          t           P>|t|        \u001b[1m[\u001b[0m\u001b[1;36m0.025\u001b[0m \u001b[2m            \u001b[0m\n",
       "\u001b[2;36m                    \u001b[0m         \u001b[1;36m0.975\u001b[0m\u001b[1m]\u001b[0m                                                                    \u001b[2m            \u001b[0m\n",
       "\u001b[2;36m                    \u001b[0m         ------------------------------------------------------------------------- \u001b[2m            \u001b[0m\n",
       "\u001b[2;36m                    \u001b[0m         -------------                                                             \u001b[2m            \u001b[0m\n",
       "\u001b[2;36m                    \u001b[0m         xH         \u001b[1;36m1.1250\u001b[0m         \u001b[1;36m0.0017\u001b[0m       \u001b[1;36m678.1346\u001b[0m       \u001b[1;36m0.0000\u001b[0m       \u001b[1;36m1.1197\u001b[0m \u001b[2m            \u001b[0m\n",
       "\u001b[2;36m                    \u001b[0m         \u001b[1;36m1.1302\u001b[0m                                                                    \u001b[2m            \u001b[0m\n",
       "\u001b[2;36m                    \u001b[0m         ------------------------------------------------------------------------- \u001b[2m            \u001b[0m\n",
       "\u001b[2;36m                    \u001b[0m         -------                                                                   \u001b[2m            \u001b[0m\n",
       "\u001b[2;36m                    \u001b[0m         Omnibus:                    nan               Durbin-Watson:              \u001b[2m            \u001b[0m\n",
       "\u001b[2;36m                    \u001b[0m         \u001b[1;36m1.583\u001b[0m                                                                     \u001b[2m            \u001b[0m\n",
       "\u001b[2;36m                    \u001b[0m         \u001b[1;35mProb\u001b[0m\u001b[1m(\u001b[0mOmnibus\u001b[1m)\u001b[0m:              nan               Jarque-Bera \u001b[1m(\u001b[0mJB\u001b[1m)\u001b[0m:           \u001b[2m            \u001b[0m\n",
       "\u001b[2;36m                    \u001b[0m         \u001b[1;36m0.379\u001b[0m                                                                     \u001b[2m            \u001b[0m\n",
       "\u001b[2;36m                    \u001b[0m         Skew:                       \u001b[1;36m-0.593\u001b[0m            \u001b[1;35mProb\u001b[0m\u001b[1m(\u001b[0mJB\u001b[1m)\u001b[0m:                   \u001b[2m            \u001b[0m\n",
       "\u001b[2;36m                    \u001b[0m         \u001b[1;36m0.827\u001b[0m                                                                     \u001b[2m            \u001b[0m\n",
       "\u001b[2;36m                    \u001b[0m         Kurtosis:                   \u001b[1;36m2.069\u001b[0m             Condition No.:              \u001b[2m            \u001b[0m\n",
       "\u001b[2;36m                    \u001b[0m         \u001b[1;36m1\u001b[0m                                                                         \u001b[2m            \u001b[0m\n",
       "\u001b[2;36m                    \u001b[0m         ========================================================================= \u001b[2m            \u001b[0m\n",
       "\u001b[2;36m                    \u001b[0m         =======                                                                   \u001b[2m            \u001b[0m\n",
       "\u001b[2;36m                    \u001b[0m         Notes:                                                                    \u001b[2m            \u001b[0m\n",
       "\u001b[2;36m                    \u001b[0m         \u001b[1m[\u001b[0m\u001b[1;36m1\u001b[0m\u001b[1m]\u001b[0m R² is computed without centering \u001b[1m(\u001b[0muncentered\u001b[1m)\u001b[0m since the               \u001b[2m            \u001b[0m\n",
       "\u001b[2;36m                    \u001b[0m         model does not contain a constant.                                        \u001b[2m            \u001b[0m\n",
       "\u001b[2;36m                    \u001b[0m         \u001b[1m[\u001b[0m\u001b[1;36m2\u001b[0m\u001b[1m]\u001b[0m Standard Errors assume that the covariance matrix of the errors is    \u001b[2m            \u001b[0m\n",
       "\u001b[2;36m                    \u001b[0m         correctly                                                                 \u001b[2m            \u001b[0m\n",
       "\u001b[2;36m                    \u001b[0m         specified.                                                                \u001b[2m            \u001b[0m\n"
      ]
     },
     "metadata": {},
     "output_type": "display_data"
    },
    {
     "data": {
      "text/html": [
       "<pre style=\"white-space:pre;overflow-x:auto;line-height:normal;font-family:Menlo,'DejaVu Sans Mono',consolas,'Courier New',monospace\"><span style=\"color: #7fbfbf; text-decoration-color: #7fbfbf\">                    </span><span style=\"color: #000080; text-decoration-color: #000080\">INFO    </span> Excluding:<span style=\"font-weight: bold\">{</span><span style=\"color: #008000; text-decoration-color: #008000\">'Y0'</span>: <span style=\"color: #008080; text-decoration-color: #008080; font-weight: bold\">0</span>, <span style=\"color: #008000; text-decoration-color: #008000\">'N0'</span>: <span style=\"color: #008080; text-decoration-color: #008080; font-weight: bold\">0</span>, <span style=\"color: #008000; text-decoration-color: #008000\">'Yvdeltadelta'</span>: <span style=\"color: #008080; text-decoration-color: #008080; font-weight: bold\">0</span>, <span style=\"color: #008000; text-decoration-color: #008000\">'Yvvdelta'</span>: <a href=\"file:///home/maa/dev/PHD/src/phd/pipelines/regression_VCT/regression_pipeline.py\" target=\"_blank\"><span style=\"color: #7f7f7f; text-decoration-color: #7f7f7f\">regression_pipeline.py</span></a><span style=\"color: #7f7f7f; text-decoration-color: #7f7f7f\">:</span><a href=\"file:///home/maa/dev/PHD/src/phd/pipelines/regression_VCT/regression_pipeline.py#286\" target=\"_blank\"><span style=\"color: #7f7f7f; text-decoration-color: #7f7f7f\">286</span></a>\n",
       "<span style=\"color: #7fbfbf; text-decoration-color: #7fbfbf\">                    </span>         <span style=\"color: #008080; text-decoration-color: #008080; font-weight: bold\">0</span>, <span style=\"color: #008000; text-decoration-color: #008000\">'Yrdeltadelta'</span>: <span style=\"color: #008080; text-decoration-color: #008080; font-weight: bold\">0</span>, <span style=\"color: #008000; text-decoration-color: #008000\">'Yrrdelta'</span>: <span style=\"color: #008080; text-decoration-color: #008080; font-weight: bold\">0</span>, <span style=\"color: #008000; text-decoration-color: #008000\">'Yvrdelta'</span>: <span style=\"color: #008080; text-decoration-color: #008080; font-weight: bold\">0</span>,         <span style=\"color: #7f7f7f; text-decoration-color: #7f7f7f\">                          </span>\n",
       "<span style=\"color: #7fbfbf; text-decoration-color: #7fbfbf\">                    </span>         <span style=\"color: #008000; text-decoration-color: #008000\">'Nrrdelta'</span>: <span style=\"color: #008080; text-decoration-color: #008080; font-weight: bold\">0</span>, <span style=\"color: #008000; text-decoration-color: #008000\">'Nvrdelta'</span>: <span style=\"color: #008080; text-decoration-color: #008080; font-weight: bold\">0</span>, <span style=\"color: #008000; text-decoration-color: #008000\">'Nvdeltadelta'</span>: <span style=\"color: #008080; text-decoration-color: #008080; font-weight: bold\">0</span>,            <span style=\"color: #7f7f7f; text-decoration-color: #7f7f7f\">                          </span>\n",
       "<span style=\"color: #7fbfbf; text-decoration-color: #7fbfbf\">                    </span>         <span style=\"color: #008000; text-decoration-color: #008000\">'Nrdeltadelta'</span>: <span style=\"color: #008080; text-decoration-color: #008080; font-weight: bold\">0</span>, <span style=\"color: #008000; text-decoration-color: #008000\">'Nvvdelta'</span>: <span style=\"color: #008080; text-decoration-color: #008080; font-weight: bold\">0</span>, <span style=\"color: #008000; text-decoration-color: #008000\">'Xthrustport'</span>: <span style=\"color: #008080; text-decoration-color: #008080; font-weight: bold\">0.883</span>,     <span style=\"color: #7f7f7f; text-decoration-color: #7f7f7f\">                          </span>\n",
       "<span style=\"color: #7fbfbf; text-decoration-color: #7fbfbf\">                    </span>         <span style=\"color: #008000; text-decoration-color: #008000\">'Xthruststbd'</span>: <span style=\"color: #008080; text-decoration-color: #008080; font-weight: bold\">0.883</span>, <span style=\"color: #008000; text-decoration-color: #008000\">'Yvvv'</span>: <span style=\"color: #008080; text-decoration-color: #008080; font-weight: bold\">0</span>, <span style=\"color: #008000; text-decoration-color: #008000\">'Nvvv'</span>: <span style=\"color: #008080; text-decoration-color: #008080; font-weight: bold\">0</span>, <span style=\"color: #008000; text-decoration-color: #008000\">'Nrrr'</span>: <span style=\"color: #008080; text-decoration-color: #008080; font-weight: bold\">0</span>,      <span style=\"color: #7f7f7f; text-decoration-color: #7f7f7f\">                          </span>\n",
       "<span style=\"color: #7fbfbf; text-decoration-color: #7fbfbf\">                    </span>         <span style=\"color: #008000; text-decoration-color: #008000\">'Yvvr'</span>: <span style=\"color: #008080; text-decoration-color: #008080; font-weight: bold\">0</span>, <span style=\"color: #008000; text-decoration-color: #008000\">'Yvrr'</span>: <span style=\"color: #008080; text-decoration-color: #008080; font-weight: bold\">0</span>, <span style=\"color: #008000; text-decoration-color: #008000\">'Nvvr'</span>: <span style=\"color: #008080; text-decoration-color: #008080; font-weight: bold\">0</span>, <span style=\"color: #008000; text-decoration-color: #008000\">'Nvrr'</span>: <span style=\"color: #008080; text-decoration-color: #008080; font-weight: bold\">0</span>, <span style=\"color: #008000; text-decoration-color: #008000\">'Yr'</span>: <span style=\"color: #008080; text-decoration-color: #008080; font-weight: bold\">0</span>,        <span style=\"color: #7f7f7f; text-decoration-color: #7f7f7f\">                          </span>\n",
       "<span style=\"color: #7fbfbf; text-decoration-color: #7fbfbf\">                    </span>         <span style=\"color: #008000; text-decoration-color: #008000\">'Yrrr'</span>: <span style=\"color: #008080; text-decoration-color: #008080; font-weight: bold\">0</span><span style=\"font-weight: bold\">}</span>                                                  <span style=\"color: #7f7f7f; text-decoration-color: #7f7f7f\">                          </span>\n",
       "</pre>\n"
      ],
      "text/plain": [
       "\u001b[2;36m                   \u001b[0m\u001b[2;36m \u001b[0m\u001b[34mINFO    \u001b[0m Excluding:\u001b[1m{\u001b[0m\u001b[32m'Y0'\u001b[0m: \u001b[1;36m0\u001b[0m, \u001b[32m'N0'\u001b[0m: \u001b[1;36m0\u001b[0m, \u001b[32m'Yvdeltadelta'\u001b[0m: \u001b[1;36m0\u001b[0m, \u001b[32m'Yvvdelta'\u001b[0m: \u001b]8;id=302290;file:///home/maa/dev/PHD/src/phd/pipelines/regression_VCT/regression_pipeline.py\u001b\\\u001b[2mregression_pipeline.py\u001b[0m\u001b]8;;\u001b\\\u001b[2m:\u001b[0m\u001b]8;id=456923;file:///home/maa/dev/PHD/src/phd/pipelines/regression_VCT/regression_pipeline.py#286\u001b\\\u001b[2m286\u001b[0m\u001b]8;;\u001b\\\n",
       "\u001b[2;36m                    \u001b[0m         \u001b[1;36m0\u001b[0m, \u001b[32m'Yrdeltadelta'\u001b[0m: \u001b[1;36m0\u001b[0m, \u001b[32m'Yrrdelta'\u001b[0m: \u001b[1;36m0\u001b[0m, \u001b[32m'Yvrdelta'\u001b[0m: \u001b[1;36m0\u001b[0m,         \u001b[2m                          \u001b[0m\n",
       "\u001b[2;36m                    \u001b[0m         \u001b[32m'Nrrdelta'\u001b[0m: \u001b[1;36m0\u001b[0m, \u001b[32m'Nvrdelta'\u001b[0m: \u001b[1;36m0\u001b[0m, \u001b[32m'Nvdeltadelta'\u001b[0m: \u001b[1;36m0\u001b[0m,            \u001b[2m                          \u001b[0m\n",
       "\u001b[2;36m                    \u001b[0m         \u001b[32m'Nrdeltadelta'\u001b[0m: \u001b[1;36m0\u001b[0m, \u001b[32m'Nvvdelta'\u001b[0m: \u001b[1;36m0\u001b[0m, \u001b[32m'Xthrustport'\u001b[0m: \u001b[1;36m0.883\u001b[0m,     \u001b[2m                          \u001b[0m\n",
       "\u001b[2;36m                    \u001b[0m         \u001b[32m'Xthruststbd'\u001b[0m: \u001b[1;36m0.883\u001b[0m, \u001b[32m'Yvvv'\u001b[0m: \u001b[1;36m0\u001b[0m, \u001b[32m'Nvvv'\u001b[0m: \u001b[1;36m0\u001b[0m, \u001b[32m'Nrrr'\u001b[0m: \u001b[1;36m0\u001b[0m,      \u001b[2m                          \u001b[0m\n",
       "\u001b[2;36m                    \u001b[0m         \u001b[32m'Yvvr'\u001b[0m: \u001b[1;36m0\u001b[0m, \u001b[32m'Yvrr'\u001b[0m: \u001b[1;36m0\u001b[0m, \u001b[32m'Nvvr'\u001b[0m: \u001b[1;36m0\u001b[0m, \u001b[32m'Nvrr'\u001b[0m: \u001b[1;36m0\u001b[0m, \u001b[32m'Yr'\u001b[0m: \u001b[1;36m0\u001b[0m,        \u001b[2m                          \u001b[0m\n",
       "\u001b[2;36m                    \u001b[0m         \u001b[32m'Yrrr'\u001b[0m: \u001b[1;36m0\u001b[0m\u001b[1m}\u001b[0m                                                  \u001b[2m                          \u001b[0m\n"
      ]
     },
     "metadata": {},
     "output_type": "display_data"
    },
    {
     "data": {
      "text/html": [
       "<pre style=\"white-space:pre;overflow-x:auto;line-height:normal;font-family:Menlo,'DejaVu Sans Mono',consolas,'Courier New',monospace\"><span style=\"color: #7fbfbf; text-decoration-color: #7fbfbf\">                    </span><span style=\"color: #000080; text-decoration-color: #000080\">INFO    </span> Fitting:resistance                                          <a href=\"file:///home/maa/dev/PHD/src/phd/pipelines/regression_VCT/regression_pipeline.py\" target=\"_blank\"><span style=\"color: #7f7f7f; text-decoration-color: #7f7f7f\">regression_pipeline.py</span></a><span style=\"color: #7f7f7f; text-decoration-color: #7f7f7f\">:</span><a href=\"file:///home/maa/dev/PHD/src/phd/pipelines/regression_VCT/regression_pipeline.py#288\" target=\"_blank\"><span style=\"color: #7f7f7f; text-decoration-color: #7f7f7f\">288</span></a>\n",
       "</pre>\n"
      ],
      "text/plain": [
       "\u001b[2;36m                   \u001b[0m\u001b[2;36m \u001b[0m\u001b[34mINFO    \u001b[0m Fitting:resistance                                          \u001b]8;id=963842;file:///home/maa/dev/PHD/src/phd/pipelines/regression_VCT/regression_pipeline.py\u001b\\\u001b[2mregression_pipeline.py\u001b[0m\u001b]8;;\u001b\\\u001b[2m:\u001b[0m\u001b]8;id=683603;file:///home/maa/dev/PHD/src/phd/pipelines/regression_VCT/regression_pipeline.py#288\u001b\\\u001b[2m288\u001b[0m\u001b]8;;\u001b\\\n"
      ]
     },
     "metadata": {},
     "output_type": "display_data"
    },
    {
     "data": {
      "text/html": [
       "<pre style=\"white-space:pre;overflow-x:auto;line-height:normal;font-family:Menlo,'DejaVu Sans Mono',consolas,'Courier New',monospace\"><span style=\"color: #7fbfbf; text-decoration-color: #7fbfbf\">                    </span><span style=\"color: #000080; text-decoration-color: #000080\">INFO    </span> Fitting:Drift angle fx                                      <a href=\"file:///home/maa/dev/PHD/src/phd/pipelines/regression_VCT/regression_pipeline.py\" target=\"_blank\"><span style=\"color: #7f7f7f; text-decoration-color: #7f7f7f\">regression_pipeline.py</span></a><span style=\"color: #7f7f7f; text-decoration-color: #7f7f7f\">:</span><a href=\"file:///home/maa/dev/PHD/src/phd/pipelines/regression_VCT/regression_pipeline.py#288\" target=\"_blank\"><span style=\"color: #7f7f7f; text-decoration-color: #7f7f7f\">288</span></a>\n",
       "</pre>\n"
      ],
      "text/plain": [
       "\u001b[2;36m                   \u001b[0m\u001b[2;36m \u001b[0m\u001b[34mINFO    \u001b[0m Fitting:Drift angle fx                                      \u001b]8;id=642671;file:///home/maa/dev/PHD/src/phd/pipelines/regression_VCT/regression_pipeline.py\u001b\\\u001b[2mregression_pipeline.py\u001b[0m\u001b]8;;\u001b\\\u001b[2m:\u001b[0m\u001b]8;id=382940;file:///home/maa/dev/PHD/src/phd/pipelines/regression_VCT/regression_pipeline.py#288\u001b\\\u001b[2m288\u001b[0m\u001b]8;;\u001b\\\n"
      ]
     },
     "metadata": {},
     "output_type": "display_data"
    },
    {
     "data": {
      "text/html": [
       "<pre style=\"white-space:pre;overflow-x:auto;line-height:normal;font-family:Menlo,'DejaVu Sans Mono',consolas,'Courier New',monospace\"><span style=\"color: #7fbfbf; text-decoration-color: #7fbfbf\">                    </span><span style=\"color: #000080; text-decoration-color: #000080\">INFO    </span> Fitting:Drift angle fy                                      <a href=\"file:///home/maa/dev/PHD/src/phd/pipelines/regression_VCT/regression_pipeline.py\" target=\"_blank\"><span style=\"color: #7f7f7f; text-decoration-color: #7f7f7f\">regression_pipeline.py</span></a><span style=\"color: #7f7f7f; text-decoration-color: #7f7f7f\">:</span><a href=\"file:///home/maa/dev/PHD/src/phd/pipelines/regression_VCT/regression_pipeline.py#288\" target=\"_blank\"><span style=\"color: #7f7f7f; text-decoration-color: #7f7f7f\">288</span></a>\n",
       "</pre>\n"
      ],
      "text/plain": [
       "\u001b[2;36m                   \u001b[0m\u001b[2;36m \u001b[0m\u001b[34mINFO    \u001b[0m Fitting:Drift angle fy                                      \u001b]8;id=795140;file:///home/maa/dev/PHD/src/phd/pipelines/regression_VCT/regression_pipeline.py\u001b\\\u001b[2mregression_pipeline.py\u001b[0m\u001b]8;;\u001b\\\u001b[2m:\u001b[0m\u001b]8;id=785224;file:///home/maa/dev/PHD/src/phd/pipelines/regression_VCT/regression_pipeline.py#288\u001b\\\u001b[2m288\u001b[0m\u001b]8;;\u001b\\\n"
      ]
     },
     "metadata": {},
     "output_type": "display_data"
    },
    {
     "data": {
      "text/html": [
       "<pre style=\"white-space:pre;overflow-x:auto;line-height:normal;font-family:Menlo,'DejaVu Sans Mono',consolas,'Courier New',monospace\"><span style=\"color: #7fbfbf; text-decoration-color: #7fbfbf\">                    </span><span style=\"color: #000080; text-decoration-color: #000080\">INFO    </span> Fitting:Drift angle mz                                      <a href=\"file:///home/maa/dev/PHD/src/phd/pipelines/regression_VCT/regression_pipeline.py\" target=\"_blank\"><span style=\"color: #7f7f7f; text-decoration-color: #7f7f7f\">regression_pipeline.py</span></a><span style=\"color: #7f7f7f; text-decoration-color: #7f7f7f\">:</span><a href=\"file:///home/maa/dev/PHD/src/phd/pipelines/regression_VCT/regression_pipeline.py#288\" target=\"_blank\"><span style=\"color: #7f7f7f; text-decoration-color: #7f7f7f\">288</span></a>\n",
       "</pre>\n"
      ],
      "text/plain": [
       "\u001b[2;36m                   \u001b[0m\u001b[2;36m \u001b[0m\u001b[34mINFO    \u001b[0m Fitting:Drift angle mz                                      \u001b]8;id=454771;file:///home/maa/dev/PHD/src/phd/pipelines/regression_VCT/regression_pipeline.py\u001b\\\u001b[2mregression_pipeline.py\u001b[0m\u001b]8;;\u001b\\\u001b[2m:\u001b[0m\u001b]8;id=520898;file:///home/maa/dev/PHD/src/phd/pipelines/regression_VCT/regression_pipeline.py#288\u001b\\\u001b[2m288\u001b[0m\u001b]8;;\u001b\\\n"
      ]
     },
     "metadata": {},
     "output_type": "display_data"
    },
    {
     "data": {
      "text/html": [
       "<pre style=\"white-space:pre;overflow-x:auto;line-height:normal;font-family:Menlo,'DejaVu Sans Mono',consolas,'Courier New',monospace\"><span style=\"color: #7fbfbf; text-decoration-color: #7fbfbf\">                    </span><span style=\"color: #000080; text-decoration-color: #000080\">INFO    </span> Fitting:Circle fx                                           <a href=\"file:///home/maa/dev/PHD/src/phd/pipelines/regression_VCT/regression_pipeline.py\" target=\"_blank\"><span style=\"color: #7f7f7f; text-decoration-color: #7f7f7f\">regression_pipeline.py</span></a><span style=\"color: #7f7f7f; text-decoration-color: #7f7f7f\">:</span><a href=\"file:///home/maa/dev/PHD/src/phd/pipelines/regression_VCT/regression_pipeline.py#288\" target=\"_blank\"><span style=\"color: #7f7f7f; text-decoration-color: #7f7f7f\">288</span></a>\n",
       "</pre>\n"
      ],
      "text/plain": [
       "\u001b[2;36m                   \u001b[0m\u001b[2;36m \u001b[0m\u001b[34mINFO    \u001b[0m Fitting:Circle fx                                           \u001b]8;id=265092;file:///home/maa/dev/PHD/src/phd/pipelines/regression_VCT/regression_pipeline.py\u001b\\\u001b[2mregression_pipeline.py\u001b[0m\u001b]8;;\u001b\\\u001b[2m:\u001b[0m\u001b]8;id=297606;file:///home/maa/dev/PHD/src/phd/pipelines/regression_VCT/regression_pipeline.py#288\u001b\\\u001b[2m288\u001b[0m\u001b]8;;\u001b\\\n"
      ]
     },
     "metadata": {},
     "output_type": "display_data"
    },
    {
     "data": {
      "text/html": [
       "<pre style=\"white-space:pre;overflow-x:auto;line-height:normal;font-family:Menlo,'DejaVu Sans Mono',consolas,'Courier New',monospace\"><span style=\"color: #7fbfbf; text-decoration-color: #7fbfbf\">                    </span><span style=\"color: #000080; text-decoration-color: #000080\">INFO    </span> Fitting:Circle fy                                           <a href=\"file:///home/maa/dev/PHD/src/phd/pipelines/regression_VCT/regression_pipeline.py\" target=\"_blank\"><span style=\"color: #7f7f7f; text-decoration-color: #7f7f7f\">regression_pipeline.py</span></a><span style=\"color: #7f7f7f; text-decoration-color: #7f7f7f\">:</span><a href=\"file:///home/maa/dev/PHD/src/phd/pipelines/regression_VCT/regression_pipeline.py#288\" target=\"_blank\"><span style=\"color: #7f7f7f; text-decoration-color: #7f7f7f\">288</span></a>\n",
       "</pre>\n"
      ],
      "text/plain": [
       "\u001b[2;36m                   \u001b[0m\u001b[2;36m \u001b[0m\u001b[34mINFO    \u001b[0m Fitting:Circle fy                                           \u001b]8;id=723498;file:///home/maa/dev/PHD/src/phd/pipelines/regression_VCT/regression_pipeline.py\u001b\\\u001b[2mregression_pipeline.py\u001b[0m\u001b]8;;\u001b\\\u001b[2m:\u001b[0m\u001b]8;id=293726;file:///home/maa/dev/PHD/src/phd/pipelines/regression_VCT/regression_pipeline.py#288\u001b\\\u001b[2m288\u001b[0m\u001b]8;;\u001b\\\n"
      ]
     },
     "metadata": {},
     "output_type": "display_data"
    },
    {
     "name": "stdout",
     "output_type": "stream",
     "text": [
      "skipping:Circle fy with equation: Eq(Y_H, Y_{0} + Y_{rrr}*r**3 + Y_{r}*r)\n"
     ]
    },
    {
     "data": {
      "text/html": [
       "<pre style=\"white-space:pre;overflow-x:auto;line-height:normal;font-family:Menlo,'DejaVu Sans Mono',consolas,'Courier New',monospace\"><span style=\"color: #7fbfbf; text-decoration-color: #7fbfbf\">                    </span><span style=\"color: #000080; text-decoration-color: #000080\">INFO    </span> Fitting:Circle mz                                           <a href=\"file:///home/maa/dev/PHD/src/phd/pipelines/regression_VCT/regression_pipeline.py\" target=\"_blank\"><span style=\"color: #7f7f7f; text-decoration-color: #7f7f7f\">regression_pipeline.py</span></a><span style=\"color: #7f7f7f; text-decoration-color: #7f7f7f\">:</span><a href=\"file:///home/maa/dev/PHD/src/phd/pipelines/regression_VCT/regression_pipeline.py#288\" target=\"_blank\"><span style=\"color: #7f7f7f; text-decoration-color: #7f7f7f\">288</span></a>\n",
       "</pre>\n"
      ],
      "text/plain": [
       "\u001b[2;36m                   \u001b[0m\u001b[2;36m \u001b[0m\u001b[34mINFO    \u001b[0m Fitting:Circle mz                                           \u001b]8;id=178823;file:///home/maa/dev/PHD/src/phd/pipelines/regression_VCT/regression_pipeline.py\u001b\\\u001b[2mregression_pipeline.py\u001b[0m\u001b]8;;\u001b\\\u001b[2m:\u001b[0m\u001b]8;id=581814;file:///home/maa/dev/PHD/src/phd/pipelines/regression_VCT/regression_pipeline.py#288\u001b\\\u001b[2m288\u001b[0m\u001b]8;;\u001b\\\n"
      ]
     },
     "metadata": {},
     "output_type": "display_data"
    },
    {
     "data": {
      "text/html": [
       "<pre style=\"white-space:pre;overflow-x:auto;line-height:normal;font-family:Menlo,'DejaVu Sans Mono',consolas,'Courier New',monospace\"><span style=\"color: #7fbfbf; text-decoration-color: #7fbfbf\">                    </span><span style=\"color: #000080; text-decoration-color: #000080\">INFO    </span> Fitting:Circle + Drift fx                                   <a href=\"file:///home/maa/dev/PHD/src/phd/pipelines/regression_VCT/regression_pipeline.py\" target=\"_blank\"><span style=\"color: #7f7f7f; text-decoration-color: #7f7f7f\">regression_pipeline.py</span></a><span style=\"color: #7f7f7f; text-decoration-color: #7f7f7f\">:</span><a href=\"file:///home/maa/dev/PHD/src/phd/pipelines/regression_VCT/regression_pipeline.py#288\" target=\"_blank\"><span style=\"color: #7f7f7f; text-decoration-color: #7f7f7f\">288</span></a>\n",
       "</pre>\n"
      ],
      "text/plain": [
       "\u001b[2;36m                   \u001b[0m\u001b[2;36m \u001b[0m\u001b[34mINFO    \u001b[0m Fitting:Circle + Drift fx                                   \u001b]8;id=340491;file:///home/maa/dev/PHD/src/phd/pipelines/regression_VCT/regression_pipeline.py\u001b\\\u001b[2mregression_pipeline.py\u001b[0m\u001b]8;;\u001b\\\u001b[2m:\u001b[0m\u001b]8;id=472986;file:///home/maa/dev/PHD/src/phd/pipelines/regression_VCT/regression_pipeline.py#288\u001b\\\u001b[2m288\u001b[0m\u001b]8;;\u001b\\\n"
      ]
     },
     "metadata": {},
     "output_type": "display_data"
    },
    {
     "data": {
      "text/html": [
       "<pre style=\"white-space:pre;overflow-x:auto;line-height:normal;font-family:Menlo,'DejaVu Sans Mono',consolas,'Courier New',monospace\"><span style=\"color: #7fbfbf; text-decoration-color: #7fbfbf\">                    </span><span style=\"color: #000080; text-decoration-color: #000080\">INFO    </span> Fitting:Circle + Drift fy                                   <a href=\"file:///home/maa/dev/PHD/src/phd/pipelines/regression_VCT/regression_pipeline.py\" target=\"_blank\"><span style=\"color: #7f7f7f; text-decoration-color: #7f7f7f\">regression_pipeline.py</span></a><span style=\"color: #7f7f7f; text-decoration-color: #7f7f7f\">:</span><a href=\"file:///home/maa/dev/PHD/src/phd/pipelines/regression_VCT/regression_pipeline.py#288\" target=\"_blank\"><span style=\"color: #7f7f7f; text-decoration-color: #7f7f7f\">288</span></a>\n",
       "</pre>\n"
      ],
      "text/plain": [
       "\u001b[2;36m                   \u001b[0m\u001b[2;36m \u001b[0m\u001b[34mINFO    \u001b[0m Fitting:Circle + Drift fy                                   \u001b]8;id=320062;file:///home/maa/dev/PHD/src/phd/pipelines/regression_VCT/regression_pipeline.py\u001b\\\u001b[2mregression_pipeline.py\u001b[0m\u001b]8;;\u001b\\\u001b[2m:\u001b[0m\u001b]8;id=517911;file:///home/maa/dev/PHD/src/phd/pipelines/regression_VCT/regression_pipeline.py#288\u001b\\\u001b[2m288\u001b[0m\u001b]8;;\u001b\\\n"
      ]
     },
     "metadata": {},
     "output_type": "display_data"
    },
    {
     "name": "stdout",
     "output_type": "stream",
     "text": [
      "skipping:Circle + Drift fy with equation: Eq(Y_H, Y_{0} + Y_{rrr}*r**3 + Y_{r}*r + Y_{vrr}*r**2*v + Y_{vvr}*r*v**2 + Y_{vvv}*v**3 + Y_{v}*v)\n"
     ]
    },
    {
     "data": {
      "text/html": [
       "<pre style=\"white-space:pre;overflow-x:auto;line-height:normal;font-family:Menlo,'DejaVu Sans Mono',consolas,'Courier New',monospace\"><span style=\"color: #7fbfbf; text-decoration-color: #7fbfbf\">                    </span><span style=\"color: #000080; text-decoration-color: #000080\">INFO    </span> Fitting:Circle + Drift mz                                   <a href=\"file:///home/maa/dev/PHD/src/phd/pipelines/regression_VCT/regression_pipeline.py\" target=\"_blank\"><span style=\"color: #7f7f7f; text-decoration-color: #7f7f7f\">regression_pipeline.py</span></a><span style=\"color: #7f7f7f; text-decoration-color: #7f7f7f\">:</span><a href=\"file:///home/maa/dev/PHD/src/phd/pipelines/regression_VCT/regression_pipeline.py#288\" target=\"_blank\"><span style=\"color: #7f7f7f; text-decoration-color: #7f7f7f\">288</span></a>\n",
       "</pre>\n"
      ],
      "text/plain": [
       "\u001b[2;36m                   \u001b[0m\u001b[2;36m \u001b[0m\u001b[34mINFO    \u001b[0m Fitting:Circle + Drift mz                                   \u001b]8;id=632704;file:///home/maa/dev/PHD/src/phd/pipelines/regression_VCT/regression_pipeline.py\u001b\\\u001b[2mregression_pipeline.py\u001b[0m\u001b]8;;\u001b\\\u001b[2m:\u001b[0m\u001b]8;id=256437;file:///home/maa/dev/PHD/src/phd/pipelines/regression_VCT/regression_pipeline.py#288\u001b\\\u001b[2m288\u001b[0m\u001b]8;;\u001b\\\n"
      ]
     },
     "metadata": {},
     "output_type": "display_data"
    },
    {
     "name": "stdout",
     "output_type": "stream",
     "text": [
      "skipping:Circle + Drift mz with equation: Eq(N_H, N_{0} + N_{rrr}*r**3 + N_{r}*r + N_{vrr}*r**2*v + N_{vvr}*r*v**2 + N_{vvv}*v**3 + N_{v}*v)\n"
     ]
    },
    {
     "data": {
      "text/html": [
       "<pre style=\"white-space:pre;overflow-x:auto;line-height:normal;font-family:Menlo,'DejaVu Sans Mono',consolas,'Courier New',monospace\"><span style=\"color: #7fbfbf; text-decoration-color: #7fbfbf\">[02/07/24 15:39:31] </span><span style=\"color: #000080; text-decoration-color: #000080\">INFO    </span> Regression:resistance                                                     <a href=\"file:///home/maa/dev/PHD/src/phd/pipelines/regression_VCT/nodes.py\" target=\"_blank\"><span style=\"color: #7f7f7f; text-decoration-color: #7f7f7f\">nodes.py</span></a><span style=\"color: #7f7f7f; text-decoration-color: #7f7f7f\">:</span><a href=\"file:///home/maa/dev/PHD/src/phd/pipelines/regression_VCT/nodes.py#662\" target=\"_blank\"><span style=\"color: #7f7f7f; text-decoration-color: #7f7f7f\">662</span></a>\n",
       "</pre>\n"
      ],
      "text/plain": [
       "\u001b[2;36m[02/07/24 15:39:31]\u001b[0m\u001b[2;36m \u001b[0m\u001b[34mINFO    \u001b[0m Regression:resistance                                                     \u001b]8;id=365421;file:///home/maa/dev/PHD/src/phd/pipelines/regression_VCT/nodes.py\u001b\\\u001b[2mnodes.py\u001b[0m\u001b]8;;\u001b\\\u001b[2m:\u001b[0m\u001b]8;id=228373;file:///home/maa/dev/PHD/src/phd/pipelines/regression_VCT/nodes.py#662\u001b\\\u001b[2m662\u001b[0m\u001b]8;;\u001b\\\n"
      ]
     },
     "metadata": {},
     "output_type": "display_data"
    },
    {
     "name": "stdout",
     "output_type": "stream",
     "text": [
      "X_H = X_{0} + X_{u}⋅u\n"
     ]
    },
    {
     "data": {
      "text/html": [
       "<pre style=\"white-space:pre;overflow-x:auto;line-height:normal;font-family:Menlo,'DejaVu Sans Mono',consolas,'Courier New',monospace\"><span style=\"color: #7fbfbf; text-decoration-color: #7fbfbf\">                    </span><span style=\"color: #000080; text-decoration-color: #000080\">INFO    </span> <span style=\"color: #800080; text-decoration-color: #800080; font-style: italic\">None</span>                                                                      <a href=\"file:///home/maa/dev/PHD/src/phd/pipelines/regression_VCT/nodes.py\" target=\"_blank\"><span style=\"color: #7f7f7f; text-decoration-color: #7f7f7f\">nodes.py</span></a><span style=\"color: #7f7f7f; text-decoration-color: #7f7f7f\">:</span><a href=\"file:///home/maa/dev/PHD/src/phd/pipelines/regression_VCT/nodes.py#663\" target=\"_blank\"><span style=\"color: #7f7f7f; text-decoration-color: #7f7f7f\">663</span></a>\n",
       "</pre>\n"
      ],
      "text/plain": [
       "\u001b[2;36m                   \u001b[0m\u001b[2;36m \u001b[0m\u001b[34mINFO    \u001b[0m \u001b[3;35mNone\u001b[0m                                                                      \u001b]8;id=762884;file:///home/maa/dev/PHD/src/phd/pipelines/regression_VCT/nodes.py\u001b\\\u001b[2mnodes.py\u001b[0m\u001b]8;;\u001b\\\u001b[2m:\u001b[0m\u001b]8;id=169269;file:///home/maa/dev/PHD/src/phd/pipelines/regression_VCT/nodes.py#663\u001b\\\u001b[2m663\u001b[0m\u001b]8;;\u001b\\\n"
      ]
     },
     "metadata": {},
     "output_type": "display_data"
    },
    {
     "data": {
      "text/html": [
       "<pre style=\"white-space:pre;overflow-x:auto;line-height:normal;font-family:Menlo,'DejaVu Sans Mono',consolas,'Courier New',monospace\"><span style=\"color: #7fbfbf; text-decoration-color: #7fbfbf\">                    </span><span style=\"color: #800000; text-decoration-color: #800000\">WARNING </span> <span style=\"color: #800080; text-decoration-color: #800080\">/home/maa/miniconda3/envs/phd/lib/python3.10/site-packages/statsmodels</span> <a href=\"file:///home/maa/miniconda3/envs/phd/lib/python3.10/warnings.py\" target=\"_blank\"><span style=\"color: #7f7f7f; text-decoration-color: #7f7f7f\">warnings.py</span></a><span style=\"color: #7f7f7f; text-decoration-color: #7f7f7f\">:</span><a href=\"file:///home/maa/miniconda3/envs/phd/lib/python3.10/warnings.py#109\" target=\"_blank\"><span style=\"color: #7f7f7f; text-decoration-color: #7f7f7f\">109</span></a>\n",
       "<span style=\"color: #7fbfbf; text-decoration-color: #7fbfbf\">                    </span>         <span style=\"color: #800080; text-decoration-color: #800080\">/stats/</span><span style=\"color: #ff00ff; text-decoration-color: #ff00ff\">stattools.py</span>:<span style=\"color: #008080; text-decoration-color: #008080; font-weight: bold\">125</span>: RuntimeWarning: Precision loss occurred in    <span style=\"color: #7f7f7f; text-decoration-color: #7f7f7f\">               </span>\n",
       "<span style=\"color: #7fbfbf; text-decoration-color: #7fbfbf\">                    </span>         moment calculation due to catastrophic cancellation. This occurs when  <span style=\"color: #7f7f7f; text-decoration-color: #7f7f7f\">               </span>\n",
       "<span style=\"color: #7fbfbf; text-decoration-color: #7fbfbf\">                    </span>         the data are nearly identical. Results may be unreliable.              <span style=\"color: #7f7f7f; text-decoration-color: #7f7f7f\">               </span>\n",
       "<span style=\"color: #7fbfbf; text-decoration-color: #7fbfbf\">                    </span>           skew = <span style=\"color: #800080; text-decoration-color: #800080; font-weight: bold\">stats.skew</span><span style=\"font-weight: bold\">(</span>resids, <span style=\"color: #808000; text-decoration-color: #808000\">axis</span>=<span style=\"color: #800080; text-decoration-color: #800080\">axis</span><span style=\"font-weight: bold\">)</span>                                 <span style=\"color: #7f7f7f; text-decoration-color: #7f7f7f\">               </span>\n",
       "<span style=\"color: #7fbfbf; text-decoration-color: #7fbfbf\">                    </span>                                                                                <span style=\"color: #7f7f7f; text-decoration-color: #7f7f7f\">               </span>\n",
       "</pre>\n"
      ],
      "text/plain": [
       "\u001b[2;36m                   \u001b[0m\u001b[2;36m \u001b[0m\u001b[31mWARNING \u001b[0m \u001b[35m/home/maa/miniconda3/envs/phd/lib/python3.10/site-packages/statsmodels\u001b[0m \u001b]8;id=772263;file:///home/maa/miniconda3/envs/phd/lib/python3.10/warnings.py\u001b\\\u001b[2mwarnings.py\u001b[0m\u001b]8;;\u001b\\\u001b[2m:\u001b[0m\u001b]8;id=999415;file:///home/maa/miniconda3/envs/phd/lib/python3.10/warnings.py#109\u001b\\\u001b[2m109\u001b[0m\u001b]8;;\u001b\\\n",
       "\u001b[2;36m                    \u001b[0m         \u001b[35m/stats/\u001b[0m\u001b[95mstattools.py\u001b[0m:\u001b[1;36m125\u001b[0m: RuntimeWarning: Precision loss occurred in    \u001b[2m               \u001b[0m\n",
       "\u001b[2;36m                    \u001b[0m         moment calculation due to catastrophic cancellation. This occurs when  \u001b[2m               \u001b[0m\n",
       "\u001b[2;36m                    \u001b[0m         the data are nearly identical. Results may be unreliable.              \u001b[2m               \u001b[0m\n",
       "\u001b[2;36m                    \u001b[0m           skew = \u001b[1;35mstats.skew\u001b[0m\u001b[1m(\u001b[0mresids, \u001b[33maxis\u001b[0m=\u001b[35maxis\u001b[0m\u001b[1m)\u001b[0m                                 \u001b[2m               \u001b[0m\n",
       "\u001b[2;36m                    \u001b[0m                                                                                \u001b[2m               \u001b[0m\n"
      ]
     },
     "metadata": {},
     "output_type": "display_data"
    },
    {
     "data": {
      "text/html": [
       "<pre style=\"white-space:pre;overflow-x:auto;line-height:normal;font-family:Menlo,'DejaVu Sans Mono',consolas,'Courier New',monospace\"><span style=\"color: #7fbfbf; text-decoration-color: #7fbfbf\">                    </span><span style=\"color: #800000; text-decoration-color: #800000\">WARNING </span> <span style=\"color: #800080; text-decoration-color: #800080\">/home/maa/miniconda3/envs/phd/lib/python3.10/site-packages/statsmodels</span> <a href=\"file:///home/maa/miniconda3/envs/phd/lib/python3.10/warnings.py\" target=\"_blank\"><span style=\"color: #7f7f7f; text-decoration-color: #7f7f7f\">warnings.py</span></a><span style=\"color: #7f7f7f; text-decoration-color: #7f7f7f\">:</span><a href=\"file:///home/maa/miniconda3/envs/phd/lib/python3.10/warnings.py#109\" target=\"_blank\"><span style=\"color: #7f7f7f; text-decoration-color: #7f7f7f\">109</span></a>\n",
       "<span style=\"color: #7fbfbf; text-decoration-color: #7fbfbf\">                    </span>         <span style=\"color: #800080; text-decoration-color: #800080\">/stats/</span><span style=\"color: #ff00ff; text-decoration-color: #ff00ff\">stattools.py</span>:<span style=\"color: #008080; text-decoration-color: #008080; font-weight: bold\">126</span>: RuntimeWarning: Precision loss occurred in    <span style=\"color: #7f7f7f; text-decoration-color: #7f7f7f\">               </span>\n",
       "<span style=\"color: #7fbfbf; text-decoration-color: #7fbfbf\">                    </span>         moment calculation due to catastrophic cancellation. This occurs when  <span style=\"color: #7f7f7f; text-decoration-color: #7f7f7f\">               </span>\n",
       "<span style=\"color: #7fbfbf; text-decoration-color: #7fbfbf\">                    </span>         the data are nearly identical. Results may be unreliable.              <span style=\"color: #7f7f7f; text-decoration-color: #7f7f7f\">               </span>\n",
       "<span style=\"color: #7fbfbf; text-decoration-color: #7fbfbf\">                    </span>           kurtosis = <span style=\"color: #008080; text-decoration-color: #008080; font-weight: bold\">3</span> + <span style=\"color: #800080; text-decoration-color: #800080; font-weight: bold\">stats.kurtosis</span><span style=\"font-weight: bold\">(</span>resids, <span style=\"color: #808000; text-decoration-color: #808000\">axis</span>=<span style=\"color: #800080; text-decoration-color: #800080\">axis</span><span style=\"font-weight: bold\">)</span>                     <span style=\"color: #7f7f7f; text-decoration-color: #7f7f7f\">               </span>\n",
       "<span style=\"color: #7fbfbf; text-decoration-color: #7fbfbf\">                    </span>                                                                                <span style=\"color: #7f7f7f; text-decoration-color: #7f7f7f\">               </span>\n",
       "</pre>\n"
      ],
      "text/plain": [
       "\u001b[2;36m                   \u001b[0m\u001b[2;36m \u001b[0m\u001b[31mWARNING \u001b[0m \u001b[35m/home/maa/miniconda3/envs/phd/lib/python3.10/site-packages/statsmodels\u001b[0m \u001b]8;id=316873;file:///home/maa/miniconda3/envs/phd/lib/python3.10/warnings.py\u001b\\\u001b[2mwarnings.py\u001b[0m\u001b]8;;\u001b\\\u001b[2m:\u001b[0m\u001b]8;id=823678;file:///home/maa/miniconda3/envs/phd/lib/python3.10/warnings.py#109\u001b\\\u001b[2m109\u001b[0m\u001b]8;;\u001b\\\n",
       "\u001b[2;36m                    \u001b[0m         \u001b[35m/stats/\u001b[0m\u001b[95mstattools.py\u001b[0m:\u001b[1;36m126\u001b[0m: RuntimeWarning: Precision loss occurred in    \u001b[2m               \u001b[0m\n",
       "\u001b[2;36m                    \u001b[0m         moment calculation due to catastrophic cancellation. This occurs when  \u001b[2m               \u001b[0m\n",
       "\u001b[2;36m                    \u001b[0m         the data are nearly identical. Results may be unreliable.              \u001b[2m               \u001b[0m\n",
       "\u001b[2;36m                    \u001b[0m           kurtosis = \u001b[1;36m3\u001b[0m + \u001b[1;35mstats.kurtosis\u001b[0m\u001b[1m(\u001b[0mresids, \u001b[33maxis\u001b[0m=\u001b[35maxis\u001b[0m\u001b[1m)\u001b[0m                     \u001b[2m               \u001b[0m\n",
       "\u001b[2;36m                    \u001b[0m                                                                                \u001b[2m               \u001b[0m\n"
      ]
     },
     "metadata": {},
     "output_type": "display_data"
    },
    {
     "data": {
      "text/html": [
       "<pre style=\"white-space:pre;overflow-x:auto;line-height:normal;font-family:Menlo,'DejaVu Sans Mono',consolas,'Courier New',monospace\"><span style=\"color: #7fbfbf; text-decoration-color: #7fbfbf\">                    </span><span style=\"color: #800000; text-decoration-color: #800000\">WARNING </span> <span style=\"color: #800080; text-decoration-color: #800080\">/home/maa/miniconda3/envs/phd/lib/python3.10/site-packages/statsmodels</span> <a href=\"file:///home/maa/miniconda3/envs/phd/lib/python3.10/warnings.py\" target=\"_blank\"><span style=\"color: #7f7f7f; text-decoration-color: #7f7f7f\">warnings.py</span></a><span style=\"color: #7f7f7f; text-decoration-color: #7f7f7f\">:</span><a href=\"file:///home/maa/miniconda3/envs/phd/lib/python3.10/warnings.py#109\" target=\"_blank\"><span style=\"color: #7f7f7f; text-decoration-color: #7f7f7f\">109</span></a>\n",
       "<span style=\"color: #7fbfbf; text-decoration-color: #7fbfbf\">                    </span>         <span style=\"color: #800080; text-decoration-color: #800080\">/stats/</span><span style=\"color: #ff00ff; text-decoration-color: #ff00ff\">stattools.py</span>:<span style=\"color: #008080; text-decoration-color: #008080; font-weight: bold\">74</span>: ValueWarning: omni_normtest is not valid with  <span style=\"color: #7f7f7f; text-decoration-color: #7f7f7f\">               </span>\n",
       "<span style=\"color: #7fbfbf; text-decoration-color: #7fbfbf\">                    </span>         less than <span style=\"color: #008080; text-decoration-color: #008080; font-weight: bold\">8</span> observations; <span style=\"color: #008080; text-decoration-color: #008080; font-weight: bold\">2</span> samples were given.                        <span style=\"color: #7f7f7f; text-decoration-color: #7f7f7f\">               </span>\n",
       "<span style=\"color: #7fbfbf; text-decoration-color: #7fbfbf\">                    </span>           <span style=\"color: #800080; text-decoration-color: #800080; font-weight: bold\">warn</span><span style=\"font-weight: bold\">(</span><span style=\"color: #008000; text-decoration-color: #008000\">\"omni_normtest is not valid with less than 8 observations; %i \"</span> <span style=\"color: #7f7f7f; text-decoration-color: #7f7f7f\">               </span>\n",
       "<span style=\"color: #7fbfbf; text-decoration-color: #7fbfbf\">                    </span>                                                                                <span style=\"color: #7f7f7f; text-decoration-color: #7f7f7f\">               </span>\n",
       "</pre>\n"
      ],
      "text/plain": [
       "\u001b[2;36m                   \u001b[0m\u001b[2;36m \u001b[0m\u001b[31mWARNING \u001b[0m \u001b[35m/home/maa/miniconda3/envs/phd/lib/python3.10/site-packages/statsmodels\u001b[0m \u001b]8;id=843683;file:///home/maa/miniconda3/envs/phd/lib/python3.10/warnings.py\u001b\\\u001b[2mwarnings.py\u001b[0m\u001b]8;;\u001b\\\u001b[2m:\u001b[0m\u001b]8;id=723905;file:///home/maa/miniconda3/envs/phd/lib/python3.10/warnings.py#109\u001b\\\u001b[2m109\u001b[0m\u001b]8;;\u001b\\\n",
       "\u001b[2;36m                    \u001b[0m         \u001b[35m/stats/\u001b[0m\u001b[95mstattools.py\u001b[0m:\u001b[1;36m74\u001b[0m: ValueWarning: omni_normtest is not valid with  \u001b[2m               \u001b[0m\n",
       "\u001b[2;36m                    \u001b[0m         less than \u001b[1;36m8\u001b[0m observations; \u001b[1;36m2\u001b[0m samples were given.                        \u001b[2m               \u001b[0m\n",
       "\u001b[2;36m                    \u001b[0m           \u001b[1;35mwarn\u001b[0m\u001b[1m(\u001b[0m\u001b[32m\"omni_normtest is not valid with less than 8 observations; %i \"\u001b[0m \u001b[2m               \u001b[0m\n",
       "\u001b[2;36m                    \u001b[0m                                                                                \u001b[2m               \u001b[0m\n"
      ]
     },
     "metadata": {},
     "output_type": "display_data"
    },
    {
     "data": {
      "text/html": [
       "<pre style=\"white-space:pre;overflow-x:auto;line-height:normal;font-family:Menlo,'DejaVu Sans Mono',consolas,'Courier New',monospace\"><span style=\"color: #7fbfbf; text-decoration-color: #7fbfbf\">                    </span><span style=\"color: #800000; text-decoration-color: #800000\">WARNING </span> <span style=\"color: #800080; text-decoration-color: #800080\">/home/maa/miniconda3/envs/phd/lib/python3.10/site-packages/statsmodels</span> <a href=\"file:///home/maa/miniconda3/envs/phd/lib/python3.10/warnings.py\" target=\"_blank\"><span style=\"color: #7f7f7f; text-decoration-color: #7f7f7f\">warnings.py</span></a><span style=\"color: #7f7f7f; text-decoration-color: #7f7f7f\">:</span><a href=\"file:///home/maa/miniconda3/envs/phd/lib/python3.10/warnings.py#109\" target=\"_blank\"><span style=\"color: #7f7f7f; text-decoration-color: #7f7f7f\">109</span></a>\n",
       "<span style=\"color: #7fbfbf; text-decoration-color: #7fbfbf\">                    </span>         <span style=\"color: #800080; text-decoration-color: #800080\">/regression/</span><span style=\"color: #ff00ff; text-decoration-color: #ff00ff\">linear_model.py</span>:<span style=\"color: #008080; text-decoration-color: #008080; font-weight: bold\">1717</span>: RuntimeWarning: divide by zero       <span style=\"color: #7f7f7f; text-decoration-color: #7f7f7f\">               </span>\n",
       "<span style=\"color: #7fbfbf; text-decoration-color: #7fbfbf\">                    </span>         encountered in scalar divide                                           <span style=\"color: #7f7f7f; text-decoration-color: #7f7f7f\">               </span>\n",
       "<span style=\"color: #7fbfbf; text-decoration-color: #7fbfbf\">                    </span>           return <span style=\"color: #800080; text-decoration-color: #800080; font-weight: bold\">np.dot</span><span style=\"font-weight: bold\">(</span>wresid, wresid<span style=\"font-weight: bold\">)</span> <span style=\"color: #800080; text-decoration-color: #800080\">/</span> self.df_resid                        <span style=\"color: #7f7f7f; text-decoration-color: #7f7f7f\">               </span>\n",
       "<span style=\"color: #7fbfbf; text-decoration-color: #7fbfbf\">                    </span>                                                                                <span style=\"color: #7f7f7f; text-decoration-color: #7f7f7f\">               </span>\n",
       "</pre>\n"
      ],
      "text/plain": [
       "\u001b[2;36m                   \u001b[0m\u001b[2;36m \u001b[0m\u001b[31mWARNING \u001b[0m \u001b[35m/home/maa/miniconda3/envs/phd/lib/python3.10/site-packages/statsmodels\u001b[0m \u001b]8;id=182090;file:///home/maa/miniconda3/envs/phd/lib/python3.10/warnings.py\u001b\\\u001b[2mwarnings.py\u001b[0m\u001b]8;;\u001b\\\u001b[2m:\u001b[0m\u001b]8;id=618483;file:///home/maa/miniconda3/envs/phd/lib/python3.10/warnings.py#109\u001b\\\u001b[2m109\u001b[0m\u001b]8;;\u001b\\\n",
       "\u001b[2;36m                    \u001b[0m         \u001b[35m/regression/\u001b[0m\u001b[95mlinear_model.py\u001b[0m:\u001b[1;36m1717\u001b[0m: RuntimeWarning: divide by zero       \u001b[2m               \u001b[0m\n",
       "\u001b[2;36m                    \u001b[0m         encountered in scalar divide                                           \u001b[2m               \u001b[0m\n",
       "\u001b[2;36m                    \u001b[0m           return \u001b[1;35mnp.dot\u001b[0m\u001b[1m(\u001b[0mwresid, wresid\u001b[1m)\u001b[0m \u001b[35m/\u001b[0m self.df_resid                        \u001b[2m               \u001b[0m\n",
       "\u001b[2;36m                    \u001b[0m                                                                                \u001b[2m               \u001b[0m\n"
      ]
     },
     "metadata": {},
     "output_type": "display_data"
    },
    {
     "data": {
      "text/html": [
       "<pre style=\"white-space:pre;overflow-x:auto;line-height:normal;font-family:Menlo,'DejaVu Sans Mono',consolas,'Courier New',monospace\"><span style=\"color: #7fbfbf; text-decoration-color: #7fbfbf\">                    </span><span style=\"color: #800000; text-decoration-color: #800000\">WARNING </span> <span style=\"color: #800080; text-decoration-color: #800080\">/home/maa/miniconda3/envs/phd/lib/python3.10/site-packages/statsmodels</span> <a href=\"file:///home/maa/miniconda3/envs/phd/lib/python3.10/warnings.py\" target=\"_blank\"><span style=\"color: #7f7f7f; text-decoration-color: #7f7f7f\">warnings.py</span></a><span style=\"color: #7f7f7f; text-decoration-color: #7f7f7f\">:</span><a href=\"file:///home/maa/miniconda3/envs/phd/lib/python3.10/warnings.py#109\" target=\"_blank\"><span style=\"color: #7f7f7f; text-decoration-color: #7f7f7f\">109</span></a>\n",
       "<span style=\"color: #7fbfbf; text-decoration-color: #7fbfbf\">                    </span>         <span style=\"color: #800080; text-decoration-color: #800080\">/regression/</span><span style=\"color: #ff00ff; text-decoration-color: #ff00ff\">linear_model.py</span>:<span style=\"color: #008080; text-decoration-color: #008080; font-weight: bold\">1795</span>: RuntimeWarning: divide by zero       <span style=\"color: #7f7f7f; text-decoration-color: #7f7f7f\">               </span>\n",
       "<span style=\"color: #7fbfbf; text-decoration-color: #7fbfbf\">                    </span>         encountered in divide                                                  <span style=\"color: #7f7f7f; text-decoration-color: #7f7f7f\">               </span>\n",
       "<span style=\"color: #7fbfbf; text-decoration-color: #7fbfbf\">                    </span>           return <span style=\"color: #008080; text-decoration-color: #008080; font-weight: bold\">1</span> - <span style=\"font-weight: bold\">(</span><span style=\"color: #800080; text-decoration-color: #800080; font-weight: bold\">np.divide</span><span style=\"font-weight: bold\">(</span>self.nobs - self.k_constant, self.df_resid<span style=\"font-weight: bold\">)</span>    <span style=\"color: #7f7f7f; text-decoration-color: #7f7f7f\">               </span>\n",
       "<span style=\"color: #7fbfbf; text-decoration-color: #7fbfbf\">                    </span>                                                                                <span style=\"color: #7f7f7f; text-decoration-color: #7f7f7f\">               </span>\n",
       "</pre>\n"
      ],
      "text/plain": [
       "\u001b[2;36m                   \u001b[0m\u001b[2;36m \u001b[0m\u001b[31mWARNING \u001b[0m \u001b[35m/home/maa/miniconda3/envs/phd/lib/python3.10/site-packages/statsmodels\u001b[0m \u001b]8;id=735637;file:///home/maa/miniconda3/envs/phd/lib/python3.10/warnings.py\u001b\\\u001b[2mwarnings.py\u001b[0m\u001b]8;;\u001b\\\u001b[2m:\u001b[0m\u001b]8;id=544113;file:///home/maa/miniconda3/envs/phd/lib/python3.10/warnings.py#109\u001b\\\u001b[2m109\u001b[0m\u001b]8;;\u001b\\\n",
       "\u001b[2;36m                    \u001b[0m         \u001b[35m/regression/\u001b[0m\u001b[95mlinear_model.py\u001b[0m:\u001b[1;36m1795\u001b[0m: RuntimeWarning: divide by zero       \u001b[2m               \u001b[0m\n",
       "\u001b[2;36m                    \u001b[0m         encountered in divide                                                  \u001b[2m               \u001b[0m\n",
       "\u001b[2;36m                    \u001b[0m           return \u001b[1;36m1\u001b[0m - \u001b[1m(\u001b[0m\u001b[1;35mnp.divide\u001b[0m\u001b[1m(\u001b[0mself.nobs - self.k_constant, self.df_resid\u001b[1m)\u001b[0m    \u001b[2m               \u001b[0m\n",
       "\u001b[2;36m                    \u001b[0m                                                                                \u001b[2m               \u001b[0m\n"
      ]
     },
     "metadata": {},
     "output_type": "display_data"
    },
    {
     "data": {
      "text/html": [
       "<pre style=\"white-space:pre;overflow-x:auto;line-height:normal;font-family:Menlo,'DejaVu Sans Mono',consolas,'Courier New',monospace\"><span style=\"color: #7fbfbf; text-decoration-color: #7fbfbf\">                    </span><span style=\"color: #800000; text-decoration-color: #800000\">WARNING </span> <span style=\"color: #800080; text-decoration-color: #800080\">/home/maa/miniconda3/envs/phd/lib/python3.10/site-packages/statsmodels</span> <a href=\"file:///home/maa/miniconda3/envs/phd/lib/python3.10/warnings.py\" target=\"_blank\"><span style=\"color: #7f7f7f; text-decoration-color: #7f7f7f\">warnings.py</span></a><span style=\"color: #7f7f7f; text-decoration-color: #7f7f7f\">:</span><a href=\"file:///home/maa/miniconda3/envs/phd/lib/python3.10/warnings.py#109\" target=\"_blank\"><span style=\"color: #7f7f7f; text-decoration-color: #7f7f7f\">109</span></a>\n",
       "<span style=\"color: #7fbfbf; text-decoration-color: #7fbfbf\">                    </span>         <span style=\"color: #800080; text-decoration-color: #800080\">/regression/</span><span style=\"color: #ff00ff; text-decoration-color: #ff00ff\">linear_model.py</span>:<span style=\"color: #008080; text-decoration-color: #008080; font-weight: bold\">1795</span>: RuntimeWarning: invalid value        <span style=\"color: #7f7f7f; text-decoration-color: #7f7f7f\">               </span>\n",
       "<span style=\"color: #7fbfbf; text-decoration-color: #7fbfbf\">                    </span>         encountered in scalar multiply                                         <span style=\"color: #7f7f7f; text-decoration-color: #7f7f7f\">               </span>\n",
       "<span style=\"color: #7fbfbf; text-decoration-color: #7fbfbf\">                    </span>           return <span style=\"color: #008080; text-decoration-color: #008080; font-weight: bold\">1</span> - <span style=\"font-weight: bold\">(</span><span style=\"color: #800080; text-decoration-color: #800080; font-weight: bold\">np.divide</span><span style=\"font-weight: bold\">(</span>self.nobs - self.k_constant, self.df_resid<span style=\"font-weight: bold\">)</span>    <span style=\"color: #7f7f7f; text-decoration-color: #7f7f7f\">               </span>\n",
       "<span style=\"color: #7fbfbf; text-decoration-color: #7fbfbf\">                    </span>                                                                                <span style=\"color: #7f7f7f; text-decoration-color: #7f7f7f\">               </span>\n",
       "</pre>\n"
      ],
      "text/plain": [
       "\u001b[2;36m                   \u001b[0m\u001b[2;36m \u001b[0m\u001b[31mWARNING \u001b[0m \u001b[35m/home/maa/miniconda3/envs/phd/lib/python3.10/site-packages/statsmodels\u001b[0m \u001b]8;id=977338;file:///home/maa/miniconda3/envs/phd/lib/python3.10/warnings.py\u001b\\\u001b[2mwarnings.py\u001b[0m\u001b]8;;\u001b\\\u001b[2m:\u001b[0m\u001b]8;id=518836;file:///home/maa/miniconda3/envs/phd/lib/python3.10/warnings.py#109\u001b\\\u001b[2m109\u001b[0m\u001b]8;;\u001b\\\n",
       "\u001b[2;36m                    \u001b[0m         \u001b[35m/regression/\u001b[0m\u001b[95mlinear_model.py\u001b[0m:\u001b[1;36m1795\u001b[0m: RuntimeWarning: invalid value        \u001b[2m               \u001b[0m\n",
       "\u001b[2;36m                    \u001b[0m         encountered in scalar multiply                                         \u001b[2m               \u001b[0m\n",
       "\u001b[2;36m                    \u001b[0m           return \u001b[1;36m1\u001b[0m - \u001b[1m(\u001b[0m\u001b[1;35mnp.divide\u001b[0m\u001b[1m(\u001b[0mself.nobs - self.k_constant, self.df_resid\u001b[1m)\u001b[0m    \u001b[2m               \u001b[0m\n",
       "\u001b[2;36m                    \u001b[0m                                                                                \u001b[2m               \u001b[0m\n"
      ]
     },
     "metadata": {},
     "output_type": "display_data"
    },
    {
     "data": {
      "text/html": [
       "<pre style=\"white-space:pre;overflow-x:auto;line-height:normal;font-family:Menlo,'DejaVu Sans Mono',consolas,'Courier New',monospace\"><span style=\"color: #7fbfbf; text-decoration-color: #7fbfbf\">                    </span><span style=\"color: #000080; text-decoration-color: #000080\">INFO    </span>                  Results: Ordinary least squares                          <a href=\"file:///home/maa/dev/PHD/src/phd/pipelines/regression_VCT/nodes.py\" target=\"_blank\"><span style=\"color: #7f7f7f; text-decoration-color: #7f7f7f\">nodes.py</span></a><span style=\"color: #7f7f7f; text-decoration-color: #7f7f7f\">:</span><a href=\"file:///home/maa/dev/PHD/src/phd/pipelines/regression_VCT/nodes.py#665\" target=\"_blank\"><span style=\"color: #7f7f7f; text-decoration-color: #7f7f7f\">665</span></a>\n",
       "<span style=\"color: #7fbfbf; text-decoration-color: #7fbfbf\">                    </span>         ==================================================================        <span style=\"color: #7f7f7f; text-decoration-color: #7f7f7f\">            </span>\n",
       "<span style=\"color: #7fbfbf; text-decoration-color: #7fbfbf\">                    </span>         Model:              OLS              Adj. R-squared:     nan              <span style=\"color: #7f7f7f; text-decoration-color: #7f7f7f\">            </span>\n",
       "<span style=\"color: #7fbfbf; text-decoration-color: #7fbfbf\">                    </span>         Dependent Variable: X_H              AIC:                <span style=\"color: #008080; text-decoration-color: #008080; font-weight: bold\">-162.2247</span>        <span style=\"color: #7f7f7f; text-decoration-color: #7f7f7f\">            </span>\n",
       "<span style=\"color: #7fbfbf; text-decoration-color: #7fbfbf\">                    </span>         Date:               <span style=\"color: #008080; text-decoration-color: #008080; font-weight: bold\">2024</span>-<span style=\"color: #008080; text-decoration-color: #008080; font-weight: bold\">02</span>-<span style=\"color: #008080; text-decoration-color: #008080; font-weight: bold\">07</span> <span style=\"color: #00ff00; text-decoration-color: #00ff00; font-weight: bold\">15:39</span> BIC:                <span style=\"color: #008080; text-decoration-color: #008080; font-weight: bold\">-164.8385</span>        <span style=\"color: #7f7f7f; text-decoration-color: #7f7f7f\">            </span>\n",
       "<span style=\"color: #7fbfbf; text-decoration-color: #7fbfbf\">                    </span>         No. Observations:   <span style=\"color: #008080; text-decoration-color: #008080; font-weight: bold\">2</span>                Log-Likelihood:     <span style=\"color: #008080; text-decoration-color: #008080; font-weight: bold\">83.112</span>           <span style=\"color: #7f7f7f; text-decoration-color: #7f7f7f\">            </span>\n",
       "<span style=\"color: #7fbfbf; text-decoration-color: #7fbfbf\">                    </span>         Df Model:           <span style=\"color: #008080; text-decoration-color: #008080; font-weight: bold\">1</span>                F-statistic:        nan              <span style=\"color: #7f7f7f; text-decoration-color: #7f7f7f\">            </span>\n",
       "<span style=\"color: #7fbfbf; text-decoration-color: #7fbfbf\">                    </span>         Df Residuals:       <span style=\"color: #008080; text-decoration-color: #008080; font-weight: bold\">0</span>                Prob <span style=\"font-weight: bold\">(</span>F-statistic<span style=\"font-weight: bold\">)</span>: nan              <span style=\"color: #7f7f7f; text-decoration-color: #7f7f7f\">            </span>\n",
       "<span style=\"color: #7fbfbf; text-decoration-color: #7fbfbf\">                    </span>         R-squared:          <span style=\"color: #008080; text-decoration-color: #008080; font-weight: bold\">1.000</span>            Scale:              inf              <span style=\"color: #7f7f7f; text-decoration-color: #7f7f7f\">            </span>\n",
       "<span style=\"color: #7fbfbf; text-decoration-color: #7fbfbf\">                    </span>         ---------------------------------------------------------------------     <span style=\"color: #7f7f7f; text-decoration-color: #7f7f7f\">            </span>\n",
       "<span style=\"color: #7fbfbf; text-decoration-color: #7fbfbf\">                    </span>                    Coef.     Std.Err.       t       P&gt;|t|    <span style=\"font-weight: bold\">[</span><span style=\"color: #008080; text-decoration-color: #008080; font-weight: bold\">0.025</span>    <span style=\"color: #008080; text-decoration-color: #008080; font-weight: bold\">0.975</span><span style=\"font-weight: bold\">]</span>     <span style=\"color: #7f7f7f; text-decoration-color: #7f7f7f\">            </span>\n",
       "<span style=\"color: #7fbfbf; text-decoration-color: #7fbfbf\">                    </span>         ---------------------------------------------------------------------     <span style=\"color: #7f7f7f; text-decoration-color: #7f7f7f\">            </span>\n",
       "<span style=\"color: #7fbfbf; text-decoration-color: #7fbfbf\">                    </span>         X0        <span style=\"color: #008080; text-decoration-color: #008080; font-weight: bold\">-0.0010</span>         inf    <span style=\"color: #008080; text-decoration-color: #008080; font-weight: bold\">-0.0000</span>      nan       nan       nan     <span style=\"color: #7f7f7f; text-decoration-color: #7f7f7f\">            </span>\n",
       "<span style=\"color: #7fbfbf; text-decoration-color: #7fbfbf\">                    </span>         Xu         <span style=\"color: #008080; text-decoration-color: #008080; font-weight: bold\">0.0005</span>         inf     <span style=\"color: #008080; text-decoration-color: #008080; font-weight: bold\">0.0000</span>      nan       nan       nan     <span style=\"color: #7f7f7f; text-decoration-color: #7f7f7f\">            </span>\n",
       "<span style=\"color: #7fbfbf; text-decoration-color: #7fbfbf\">                    </span>         ------------------------------------------------------------------        <span style=\"color: #7f7f7f; text-decoration-color: #7f7f7f\">            </span>\n",
       "<span style=\"color: #7fbfbf; text-decoration-color: #7fbfbf\">                    </span>         Omnibus:               nan         Durbin-Watson:            <span style=\"color: #008080; text-decoration-color: #008080; font-weight: bold\">0.000</span>        <span style=\"color: #7f7f7f; text-decoration-color: #7f7f7f\">            </span>\n",
       "<span style=\"color: #7fbfbf; text-decoration-color: #7fbfbf\">                    </span>         <span style=\"color: #800080; text-decoration-color: #800080; font-weight: bold\">Prob</span><span style=\"font-weight: bold\">(</span>Omnibus<span style=\"font-weight: bold\">)</span>:         nan         Jarque-Bera <span style=\"font-weight: bold\">(</span>JB<span style=\"font-weight: bold\">)</span>:         nan          <span style=\"color: #7f7f7f; text-decoration-color: #7f7f7f\">            </span>\n",
       "<span style=\"color: #7fbfbf; text-decoration-color: #7fbfbf\">                    </span>         Skew:                  nan         <span style=\"color: #800080; text-decoration-color: #800080; font-weight: bold\">Prob</span><span style=\"font-weight: bold\">(</span>JB<span style=\"font-weight: bold\">)</span>:                 nan          <span style=\"color: #7f7f7f; text-decoration-color: #7f7f7f\">            </span>\n",
       "<span style=\"color: #7fbfbf; text-decoration-color: #7fbfbf\">                    </span>         Kurtosis:              nan         Condition No.:            <span style=\"color: #008080; text-decoration-color: #008080; font-weight: bold\">22</span>           <span style=\"color: #7f7f7f; text-decoration-color: #7f7f7f\">            </span>\n",
       "<span style=\"color: #7fbfbf; text-decoration-color: #7fbfbf\">                    </span>         ==================================================================        <span style=\"color: #7f7f7f; text-decoration-color: #7f7f7f\">            </span>\n",
       "<span style=\"color: #7fbfbf; text-decoration-color: #7fbfbf\">                    </span>         Notes:                                                                    <span style=\"color: #7f7f7f; text-decoration-color: #7f7f7f\">            </span>\n",
       "<span style=\"color: #7fbfbf; text-decoration-color: #7fbfbf\">                    </span>         <span style=\"font-weight: bold\">[</span><span style=\"color: #008080; text-decoration-color: #008080; font-weight: bold\">1</span><span style=\"font-weight: bold\">]</span> Standard Errors assume that the covariance matrix of the              <span style=\"color: #7f7f7f; text-decoration-color: #7f7f7f\">            </span>\n",
       "<span style=\"color: #7fbfbf; text-decoration-color: #7fbfbf\">                    </span>         errors is correctly specified.                                            <span style=\"color: #7f7f7f; text-decoration-color: #7f7f7f\">            </span>\n",
       "</pre>\n"
      ],
      "text/plain": [
       "\u001b[2;36m                   \u001b[0m\u001b[2;36m \u001b[0m\u001b[34mINFO    \u001b[0m                  Results: Ordinary least squares                          \u001b]8;id=243983;file:///home/maa/dev/PHD/src/phd/pipelines/regression_VCT/nodes.py\u001b\\\u001b[2mnodes.py\u001b[0m\u001b]8;;\u001b\\\u001b[2m:\u001b[0m\u001b]8;id=936610;file:///home/maa/dev/PHD/src/phd/pipelines/regression_VCT/nodes.py#665\u001b\\\u001b[2m665\u001b[0m\u001b]8;;\u001b\\\n",
       "\u001b[2;36m                    \u001b[0m         ==================================================================        \u001b[2m            \u001b[0m\n",
       "\u001b[2;36m                    \u001b[0m         Model:              OLS              Adj. R-squared:     nan              \u001b[2m            \u001b[0m\n",
       "\u001b[2;36m                    \u001b[0m         Dependent Variable: X_H              AIC:                \u001b[1;36m-162.2247\u001b[0m        \u001b[2m            \u001b[0m\n",
       "\u001b[2;36m                    \u001b[0m         Date:               \u001b[1;36m2024\u001b[0m-\u001b[1;36m02\u001b[0m-\u001b[1;36m07\u001b[0m \u001b[1;92m15:39\u001b[0m BIC:                \u001b[1;36m-164.8385\u001b[0m        \u001b[2m            \u001b[0m\n",
       "\u001b[2;36m                    \u001b[0m         No. Observations:   \u001b[1;36m2\u001b[0m                Log-Likelihood:     \u001b[1;36m83.112\u001b[0m           \u001b[2m            \u001b[0m\n",
       "\u001b[2;36m                    \u001b[0m         Df Model:           \u001b[1;36m1\u001b[0m                F-statistic:        nan              \u001b[2m            \u001b[0m\n",
       "\u001b[2;36m                    \u001b[0m         Df Residuals:       \u001b[1;36m0\u001b[0m                Prob \u001b[1m(\u001b[0mF-statistic\u001b[1m)\u001b[0m: nan              \u001b[2m            \u001b[0m\n",
       "\u001b[2;36m                    \u001b[0m         R-squared:          \u001b[1;36m1.000\u001b[0m            Scale:              inf              \u001b[2m            \u001b[0m\n",
       "\u001b[2;36m                    \u001b[0m         ---------------------------------------------------------------------     \u001b[2m            \u001b[0m\n",
       "\u001b[2;36m                    \u001b[0m                    Coef.     Std.Err.       t       P>|t|    \u001b[1m[\u001b[0m\u001b[1;36m0.025\u001b[0m    \u001b[1;36m0.975\u001b[0m\u001b[1m]\u001b[0m     \u001b[2m            \u001b[0m\n",
       "\u001b[2;36m                    \u001b[0m         ---------------------------------------------------------------------     \u001b[2m            \u001b[0m\n",
       "\u001b[2;36m                    \u001b[0m         X0        \u001b[1;36m-0.0010\u001b[0m         inf    \u001b[1;36m-0.0000\u001b[0m      nan       nan       nan     \u001b[2m            \u001b[0m\n",
       "\u001b[2;36m                    \u001b[0m         Xu         \u001b[1;36m0.0005\u001b[0m         inf     \u001b[1;36m0.0000\u001b[0m      nan       nan       nan     \u001b[2m            \u001b[0m\n",
       "\u001b[2;36m                    \u001b[0m         ------------------------------------------------------------------        \u001b[2m            \u001b[0m\n",
       "\u001b[2;36m                    \u001b[0m         Omnibus:               nan         Durbin-Watson:            \u001b[1;36m0.000\u001b[0m        \u001b[2m            \u001b[0m\n",
       "\u001b[2;36m                    \u001b[0m         \u001b[1;35mProb\u001b[0m\u001b[1m(\u001b[0mOmnibus\u001b[1m)\u001b[0m:         nan         Jarque-Bera \u001b[1m(\u001b[0mJB\u001b[1m)\u001b[0m:         nan          \u001b[2m            \u001b[0m\n",
       "\u001b[2;36m                    \u001b[0m         Skew:                  nan         \u001b[1;35mProb\u001b[0m\u001b[1m(\u001b[0mJB\u001b[1m)\u001b[0m:                 nan          \u001b[2m            \u001b[0m\n",
       "\u001b[2;36m                    \u001b[0m         Kurtosis:              nan         Condition No.:            \u001b[1;36m22\u001b[0m           \u001b[2m            \u001b[0m\n",
       "\u001b[2;36m                    \u001b[0m         ==================================================================        \u001b[2m            \u001b[0m\n",
       "\u001b[2;36m                    \u001b[0m         Notes:                                                                    \u001b[2m            \u001b[0m\n",
       "\u001b[2;36m                    \u001b[0m         \u001b[1m[\u001b[0m\u001b[1;36m1\u001b[0m\u001b[1m]\u001b[0m Standard Errors assume that the covariance matrix of the              \u001b[2m            \u001b[0m\n",
       "\u001b[2;36m                    \u001b[0m         errors is correctly specified.                                            \u001b[2m            \u001b[0m\n"
      ]
     },
     "metadata": {},
     "output_type": "display_data"
    },
    {
     "data": {
      "text/html": [
       "<pre style=\"white-space:pre;overflow-x:auto;line-height:normal;font-family:Menlo,'DejaVu Sans Mono',consolas,'Courier New',monospace\"><span style=\"color: #7fbfbf; text-decoration-color: #7fbfbf\">                    </span><span style=\"color: #000080; text-decoration-color: #000080\">INFO    </span> Regression:Drift angle fx                                                 <a href=\"file:///home/maa/dev/PHD/src/phd/pipelines/regression_VCT/nodes.py\" target=\"_blank\"><span style=\"color: #7f7f7f; text-decoration-color: #7f7f7f\">nodes.py</span></a><span style=\"color: #7f7f7f; text-decoration-color: #7f7f7f\">:</span><a href=\"file:///home/maa/dev/PHD/src/phd/pipelines/regression_VCT/nodes.py#662\" target=\"_blank\"><span style=\"color: #7f7f7f; text-decoration-color: #7f7f7f\">662</span></a>\n",
       "</pre>\n"
      ],
      "text/plain": [
       "\u001b[2;36m                   \u001b[0m\u001b[2;36m \u001b[0m\u001b[34mINFO    \u001b[0m Regression:Drift angle fx                                                 \u001b]8;id=774329;file:///home/maa/dev/PHD/src/phd/pipelines/regression_VCT/nodes.py\u001b\\\u001b[2mnodes.py\u001b[0m\u001b]8;;\u001b\\\u001b[2m:\u001b[0m\u001b]8;id=772295;file:///home/maa/dev/PHD/src/phd/pipelines/regression_VCT/nodes.py#662\u001b\\\u001b[2m662\u001b[0m\u001b]8;;\u001b\\\n"
      ]
     },
     "metadata": {},
     "output_type": "display_data"
    },
    {
     "name": "stdout",
     "output_type": "stream",
     "text": [
      "                                2\n",
      "X_H = X_{0} + X_{u}⋅u + X_{vv}⋅v \n"
     ]
    },
    {
     "data": {
      "text/html": [
       "<pre style=\"white-space:pre;overflow-x:auto;line-height:normal;font-family:Menlo,'DejaVu Sans Mono',consolas,'Courier New',monospace\"><span style=\"color: #7fbfbf; text-decoration-color: #7fbfbf\">                    </span><span style=\"color: #000080; text-decoration-color: #000080\">INFO    </span> <span style=\"color: #800080; text-decoration-color: #800080; font-style: italic\">None</span>                                                                      <a href=\"file:///home/maa/dev/PHD/src/phd/pipelines/regression_VCT/nodes.py\" target=\"_blank\"><span style=\"color: #7f7f7f; text-decoration-color: #7f7f7f\">nodes.py</span></a><span style=\"color: #7f7f7f; text-decoration-color: #7f7f7f\">:</span><a href=\"file:///home/maa/dev/PHD/src/phd/pipelines/regression_VCT/nodes.py#663\" target=\"_blank\"><span style=\"color: #7f7f7f; text-decoration-color: #7f7f7f\">663</span></a>\n",
       "</pre>\n"
      ],
      "text/plain": [
       "\u001b[2;36m                   \u001b[0m\u001b[2;36m \u001b[0m\u001b[34mINFO    \u001b[0m \u001b[3;35mNone\u001b[0m                                                                      \u001b]8;id=965789;file:///home/maa/dev/PHD/src/phd/pipelines/regression_VCT/nodes.py\u001b\\\u001b[2mnodes.py\u001b[0m\u001b]8;;\u001b\\\u001b[2m:\u001b[0m\u001b]8;id=76630;file:///home/maa/dev/PHD/src/phd/pipelines/regression_VCT/nodes.py#663\u001b\\\u001b[2m663\u001b[0m\u001b]8;;\u001b\\\n"
      ]
     },
     "metadata": {},
     "output_type": "display_data"
    },
    {
     "data": {
      "text/html": [
       "<pre style=\"white-space:pre;overflow-x:auto;line-height:normal;font-family:Menlo,'DejaVu Sans Mono',consolas,'Courier New',monospace\"><span style=\"color: #7fbfbf; text-decoration-color: #7fbfbf\">                    </span><span style=\"color: #800000; text-decoration-color: #800000\">WARNING </span> <span style=\"color: #800080; text-decoration-color: #800080\">/home/maa/miniconda3/envs/phd/lib/python3.10/site-packages/statsmodels</span> <a href=\"file:///home/maa/miniconda3/envs/phd/lib/python3.10/warnings.py\" target=\"_blank\"><span style=\"color: #7f7f7f; text-decoration-color: #7f7f7f\">warnings.py</span></a><span style=\"color: #7f7f7f; text-decoration-color: #7f7f7f\">:</span><a href=\"file:///home/maa/miniconda3/envs/phd/lib/python3.10/warnings.py#109\" target=\"_blank\"><span style=\"color: #7f7f7f; text-decoration-color: #7f7f7f\">109</span></a>\n",
       "<span style=\"color: #7fbfbf; text-decoration-color: #7fbfbf\">                    </span>         <span style=\"color: #800080; text-decoration-color: #800080\">/stats/</span><span style=\"color: #ff00ff; text-decoration-color: #ff00ff\">stattools.py</span>:<span style=\"color: #008080; text-decoration-color: #008080; font-weight: bold\">74</span>: ValueWarning: omni_normtest is not valid with  <span style=\"color: #7f7f7f; text-decoration-color: #7f7f7f\">               </span>\n",
       "<span style=\"color: #7fbfbf; text-decoration-color: #7fbfbf\">                    </span>         less than <span style=\"color: #008080; text-decoration-color: #008080; font-weight: bold\">8</span> observations; <span style=\"color: #008080; text-decoration-color: #008080; font-weight: bold\">5</span> samples were given.                        <span style=\"color: #7f7f7f; text-decoration-color: #7f7f7f\">               </span>\n",
       "<span style=\"color: #7fbfbf; text-decoration-color: #7fbfbf\">                    </span>           <span style=\"color: #800080; text-decoration-color: #800080; font-weight: bold\">warn</span><span style=\"font-weight: bold\">(</span><span style=\"color: #008000; text-decoration-color: #008000\">\"omni_normtest is not valid with less than 8 observations; %i \"</span> <span style=\"color: #7f7f7f; text-decoration-color: #7f7f7f\">               </span>\n",
       "<span style=\"color: #7fbfbf; text-decoration-color: #7fbfbf\">                    </span>                                                                                <span style=\"color: #7f7f7f; text-decoration-color: #7f7f7f\">               </span>\n",
       "</pre>\n"
      ],
      "text/plain": [
       "\u001b[2;36m                   \u001b[0m\u001b[2;36m \u001b[0m\u001b[31mWARNING \u001b[0m \u001b[35m/home/maa/miniconda3/envs/phd/lib/python3.10/site-packages/statsmodels\u001b[0m \u001b]8;id=982314;file:///home/maa/miniconda3/envs/phd/lib/python3.10/warnings.py\u001b\\\u001b[2mwarnings.py\u001b[0m\u001b]8;;\u001b\\\u001b[2m:\u001b[0m\u001b]8;id=680385;file:///home/maa/miniconda3/envs/phd/lib/python3.10/warnings.py#109\u001b\\\u001b[2m109\u001b[0m\u001b]8;;\u001b\\\n",
       "\u001b[2;36m                    \u001b[0m         \u001b[35m/stats/\u001b[0m\u001b[95mstattools.py\u001b[0m:\u001b[1;36m74\u001b[0m: ValueWarning: omni_normtest is not valid with  \u001b[2m               \u001b[0m\n",
       "\u001b[2;36m                    \u001b[0m         less than \u001b[1;36m8\u001b[0m observations; \u001b[1;36m5\u001b[0m samples were given.                        \u001b[2m               \u001b[0m\n",
       "\u001b[2;36m                    \u001b[0m           \u001b[1;35mwarn\u001b[0m\u001b[1m(\u001b[0m\u001b[32m\"omni_normtest is not valid with less than 8 observations; %i \"\u001b[0m \u001b[2m               \u001b[0m\n",
       "\u001b[2;36m                    \u001b[0m                                                                                \u001b[2m               \u001b[0m\n"
      ]
     },
     "metadata": {},
     "output_type": "display_data"
    },
    {
     "data": {
      "text/html": [
       "<pre style=\"white-space:pre;overflow-x:auto;line-height:normal;font-family:Menlo,'DejaVu Sans Mono',consolas,'Courier New',monospace\"><span style=\"color: #7fbfbf; text-decoration-color: #7fbfbf\">                    </span><span style=\"color: #000080; text-decoration-color: #000080\">INFO    </span>                   Results: Ordinary least squares                         <a href=\"file:///home/maa/dev/PHD/src/phd/pipelines/regression_VCT/nodes.py\" target=\"_blank\"><span style=\"color: #7f7f7f; text-decoration-color: #7f7f7f\">nodes.py</span></a><span style=\"color: #7f7f7f; text-decoration-color: #7f7f7f\">:</span><a href=\"file:///home/maa/dev/PHD/src/phd/pipelines/regression_VCT/nodes.py#665\" target=\"_blank\"><span style=\"color: #7f7f7f; text-decoration-color: #7f7f7f\">665</span></a>\n",
       "<span style=\"color: #7fbfbf; text-decoration-color: #7fbfbf\">                    </span>         ===================================================================       <span style=\"color: #7f7f7f; text-decoration-color: #7f7f7f\">            </span>\n",
       "<span style=\"color: #7fbfbf; text-decoration-color: #7fbfbf\">                    </span>         Model:              OLS              Adj. R-squared:     <span style=\"color: #008080; text-decoration-color: #008080; font-weight: bold\">0.196</span>            <span style=\"color: #7f7f7f; text-decoration-color: #7f7f7f\">            </span>\n",
       "<span style=\"color: #7fbfbf; text-decoration-color: #7fbfbf\">                    </span>         Dependent Variable: X_H              AIC:                <span style=\"color: #008080; text-decoration-color: #008080; font-weight: bold\">-87.8733</span>         <span style=\"color: #7f7f7f; text-decoration-color: #7f7f7f\">            </span>\n",
       "<span style=\"color: #7fbfbf; text-decoration-color: #7fbfbf\">                    </span>         Date:               <span style=\"color: #008080; text-decoration-color: #008080; font-weight: bold\">2024</span>-<span style=\"color: #008080; text-decoration-color: #008080; font-weight: bold\">02</span>-<span style=\"color: #008080; text-decoration-color: #008080; font-weight: bold\">07</span> <span style=\"color: #00ff00; text-decoration-color: #00ff00; font-weight: bold\">15:39</span> BIC:                <span style=\"color: #008080; text-decoration-color: #008080; font-weight: bold\">-88.6544</span>         <span style=\"color: #7f7f7f; text-decoration-color: #7f7f7f\">            </span>\n",
       "<span style=\"color: #7fbfbf; text-decoration-color: #7fbfbf\">                    </span>         No. Observations:   <span style=\"color: #008080; text-decoration-color: #008080; font-weight: bold\">5</span>                Log-Likelihood:     <span style=\"color: #008080; text-decoration-color: #008080; font-weight: bold\">45.937</span>           <span style=\"color: #7f7f7f; text-decoration-color: #7f7f7f\">            </span>\n",
       "<span style=\"color: #7fbfbf; text-decoration-color: #7fbfbf\">                    </span>         Df Model:           <span style=\"color: #008080; text-decoration-color: #008080; font-weight: bold\">1</span>                F-statistic:        <span style=\"color: #008080; text-decoration-color: #008080; font-weight: bold\">1.975</span>            <span style=\"color: #7f7f7f; text-decoration-color: #7f7f7f\">            </span>\n",
       "<span style=\"color: #7fbfbf; text-decoration-color: #7fbfbf\">                    </span>         Df Residuals:       <span style=\"color: #008080; text-decoration-color: #008080; font-weight: bold\">3</span>                Prob <span style=\"font-weight: bold\">(</span>F-statistic<span style=\"font-weight: bold\">)</span>: <span style=\"color: #008080; text-decoration-color: #008080; font-weight: bold\">0.255</span>            <span style=\"color: #7f7f7f; text-decoration-color: #7f7f7f\">            </span>\n",
       "<span style=\"color: #7fbfbf; text-decoration-color: #7fbfbf\">                    </span>         R-squared:          <span style=\"color: #008080; text-decoration-color: #008080; font-weight: bold\">0.397</span>            Scale:              <span style=\"color: #008080; text-decoration-color: #008080; font-weight: bold\">1.0218e-09</span>       <span style=\"color: #7f7f7f; text-decoration-color: #7f7f7f\">            </span>\n",
       "<span style=\"color: #7fbfbf; text-decoration-color: #7fbfbf\">                    </span>         ----------------------------------------------------------------------    <span style=\"color: #7f7f7f; text-decoration-color: #7f7f7f\">            </span>\n",
       "<span style=\"color: #7fbfbf; text-decoration-color: #7fbfbf\">                    </span>                   Coef.     Std.Err.       t       P&gt;|t|      <span style=\"font-weight: bold\">[</span><span style=\"color: #008080; text-decoration-color: #008080; font-weight: bold\">0.025</span>    <span style=\"color: #008080; text-decoration-color: #008080; font-weight: bold\">0.975</span><span style=\"font-weight: bold\">]</span>    <span style=\"color: #7f7f7f; text-decoration-color: #7f7f7f\">            </span>\n",
       "<span style=\"color: #7fbfbf; text-decoration-color: #7fbfbf\">                    </span>         ----------------------------------------------------------------------    <span style=\"color: #7f7f7f; text-decoration-color: #7f7f7f\">            </span>\n",
       "<span style=\"color: #7fbfbf; text-decoration-color: #7fbfbf\">                    </span>         Xvv       <span style=\"color: #008080; text-decoration-color: #008080; font-weight: bold\">0.0005</span>      <span style=\"color: #008080; text-decoration-color: #008080; font-weight: bold\">0.0003</span>     <span style=\"color: #008080; text-decoration-color: #008080; font-weight: bold\">1.4053</span>    <span style=\"color: #008080; text-decoration-color: #008080; font-weight: bold\">0.2546</span>    <span style=\"color: #008080; text-decoration-color: #008080; font-weight: bold\">-0.0006</span>    <span style=\"color: #008080; text-decoration-color: #008080; font-weight: bold\">0.0015</span>    <span style=\"color: #7f7f7f; text-decoration-color: #7f7f7f\">            </span>\n",
       "<span style=\"color: #7fbfbf; text-decoration-color: #7fbfbf\">                    </span>         const    <span style=\"color: #008080; text-decoration-color: #008080; font-weight: bold\">-0.0000</span>      <span style=\"color: #008080; text-decoration-color: #008080; font-weight: bold\">0.0000</span>    <span style=\"color: #008080; text-decoration-color: #008080; font-weight: bold\">-1.1818</span>    <span style=\"color: #008080; text-decoration-color: #008080; font-weight: bold\">0.3224</span>    <span style=\"color: #008080; text-decoration-color: #008080; font-weight: bold\">-0.0001</span>    <span style=\"color: #008080; text-decoration-color: #008080; font-weight: bold\">0.0000</span>    <span style=\"color: #7f7f7f; text-decoration-color: #7f7f7f\">            </span>\n",
       "<span style=\"color: #7fbfbf; text-decoration-color: #7fbfbf\">                    </span>         -------------------------------------------------------------------       <span style=\"color: #7f7f7f; text-decoration-color: #7f7f7f\">            </span>\n",
       "<span style=\"color: #7fbfbf; text-decoration-color: #7fbfbf\">                    </span>         Omnibus:               nan           Durbin-Watson:           <span style=\"color: #008080; text-decoration-color: #008080; font-weight: bold\">1.746</span>       <span style=\"color: #7f7f7f; text-decoration-color: #7f7f7f\">            </span>\n",
       "<span style=\"color: #7fbfbf; text-decoration-color: #7fbfbf\">                    </span>         <span style=\"color: #800080; text-decoration-color: #800080; font-weight: bold\">Prob</span><span style=\"font-weight: bold\">(</span>Omnibus<span style=\"font-weight: bold\">)</span>:         nan           Jarque-Bera <span style=\"font-weight: bold\">(</span>JB<span style=\"font-weight: bold\">)</span>:        <span style=\"color: #008080; text-decoration-color: #008080; font-weight: bold\">0.529</span>       <span style=\"color: #7f7f7f; text-decoration-color: #7f7f7f\">            </span>\n",
       "<span style=\"color: #7fbfbf; text-decoration-color: #7fbfbf\">                    </span>         Skew:                  <span style=\"color: #008080; text-decoration-color: #008080; font-weight: bold\">-0.637</span>        <span style=\"color: #800080; text-decoration-color: #800080; font-weight: bold\">Prob</span><span style=\"font-weight: bold\">(</span>JB<span style=\"font-weight: bold\">)</span>:                <span style=\"color: #008080; text-decoration-color: #008080; font-weight: bold\">0.768</span>       <span style=\"color: #7f7f7f; text-decoration-color: #7f7f7f\">            </span>\n",
       "<span style=\"color: #7fbfbf; text-decoration-color: #7fbfbf\">                    </span>         Kurtosis:              <span style=\"color: #008080; text-decoration-color: #008080; font-weight: bold\">2.042</span>         Condition No.:           <span style=\"color: #008080; text-decoration-color: #008080; font-weight: bold\">23</span>          <span style=\"color: #7f7f7f; text-decoration-color: #7f7f7f\">            </span>\n",
       "<span style=\"color: #7fbfbf; text-decoration-color: #7fbfbf\">                    </span>         ===================================================================       <span style=\"color: #7f7f7f; text-decoration-color: #7f7f7f\">            </span>\n",
       "<span style=\"color: #7fbfbf; text-decoration-color: #7fbfbf\">                    </span>         Notes:                                                                    <span style=\"color: #7f7f7f; text-decoration-color: #7f7f7f\">            </span>\n",
       "<span style=\"color: #7fbfbf; text-decoration-color: #7fbfbf\">                    </span>         <span style=\"font-weight: bold\">[</span><span style=\"color: #008080; text-decoration-color: #008080; font-weight: bold\">1</span><span style=\"font-weight: bold\">]</span> Standard Errors assume that the covariance matrix of the errors       <span style=\"color: #7f7f7f; text-decoration-color: #7f7f7f\">            </span>\n",
       "<span style=\"color: #7fbfbf; text-decoration-color: #7fbfbf\">                    </span>         is correctly specified.                                                   <span style=\"color: #7f7f7f; text-decoration-color: #7f7f7f\">            </span>\n",
       "</pre>\n"
      ],
      "text/plain": [
       "\u001b[2;36m                   \u001b[0m\u001b[2;36m \u001b[0m\u001b[34mINFO    \u001b[0m                   Results: Ordinary least squares                         \u001b]8;id=461323;file:///home/maa/dev/PHD/src/phd/pipelines/regression_VCT/nodes.py\u001b\\\u001b[2mnodes.py\u001b[0m\u001b]8;;\u001b\\\u001b[2m:\u001b[0m\u001b]8;id=117744;file:///home/maa/dev/PHD/src/phd/pipelines/regression_VCT/nodes.py#665\u001b\\\u001b[2m665\u001b[0m\u001b]8;;\u001b\\\n",
       "\u001b[2;36m                    \u001b[0m         ===================================================================       \u001b[2m            \u001b[0m\n",
       "\u001b[2;36m                    \u001b[0m         Model:              OLS              Adj. R-squared:     \u001b[1;36m0.196\u001b[0m            \u001b[2m            \u001b[0m\n",
       "\u001b[2;36m                    \u001b[0m         Dependent Variable: X_H              AIC:                \u001b[1;36m-87.8733\u001b[0m         \u001b[2m            \u001b[0m\n",
       "\u001b[2;36m                    \u001b[0m         Date:               \u001b[1;36m2024\u001b[0m-\u001b[1;36m02\u001b[0m-\u001b[1;36m07\u001b[0m \u001b[1;92m15:39\u001b[0m BIC:                \u001b[1;36m-88.6544\u001b[0m         \u001b[2m            \u001b[0m\n",
       "\u001b[2;36m                    \u001b[0m         No. Observations:   \u001b[1;36m5\u001b[0m                Log-Likelihood:     \u001b[1;36m45.937\u001b[0m           \u001b[2m            \u001b[0m\n",
       "\u001b[2;36m                    \u001b[0m         Df Model:           \u001b[1;36m1\u001b[0m                F-statistic:        \u001b[1;36m1.975\u001b[0m            \u001b[2m            \u001b[0m\n",
       "\u001b[2;36m                    \u001b[0m         Df Residuals:       \u001b[1;36m3\u001b[0m                Prob \u001b[1m(\u001b[0mF-statistic\u001b[1m)\u001b[0m: \u001b[1;36m0.255\u001b[0m            \u001b[2m            \u001b[0m\n",
       "\u001b[2;36m                    \u001b[0m         R-squared:          \u001b[1;36m0.397\u001b[0m            Scale:              \u001b[1;36m1.0218e-09\u001b[0m       \u001b[2m            \u001b[0m\n",
       "\u001b[2;36m                    \u001b[0m         ----------------------------------------------------------------------    \u001b[2m            \u001b[0m\n",
       "\u001b[2;36m                    \u001b[0m                   Coef.     Std.Err.       t       P>|t|      \u001b[1m[\u001b[0m\u001b[1;36m0.025\u001b[0m    \u001b[1;36m0.975\u001b[0m\u001b[1m]\u001b[0m    \u001b[2m            \u001b[0m\n",
       "\u001b[2;36m                    \u001b[0m         ----------------------------------------------------------------------    \u001b[2m            \u001b[0m\n",
       "\u001b[2;36m                    \u001b[0m         Xvv       \u001b[1;36m0.0005\u001b[0m      \u001b[1;36m0.0003\u001b[0m     \u001b[1;36m1.4053\u001b[0m    \u001b[1;36m0.2546\u001b[0m    \u001b[1;36m-0.0006\u001b[0m    \u001b[1;36m0.0015\u001b[0m    \u001b[2m            \u001b[0m\n",
       "\u001b[2;36m                    \u001b[0m         const    \u001b[1;36m-0.0000\u001b[0m      \u001b[1;36m0.0000\u001b[0m    \u001b[1;36m-1.1818\u001b[0m    \u001b[1;36m0.3224\u001b[0m    \u001b[1;36m-0.0001\u001b[0m    \u001b[1;36m0.0000\u001b[0m    \u001b[2m            \u001b[0m\n",
       "\u001b[2;36m                    \u001b[0m         -------------------------------------------------------------------       \u001b[2m            \u001b[0m\n",
       "\u001b[2;36m                    \u001b[0m         Omnibus:               nan           Durbin-Watson:           \u001b[1;36m1.746\u001b[0m       \u001b[2m            \u001b[0m\n",
       "\u001b[2;36m                    \u001b[0m         \u001b[1;35mProb\u001b[0m\u001b[1m(\u001b[0mOmnibus\u001b[1m)\u001b[0m:         nan           Jarque-Bera \u001b[1m(\u001b[0mJB\u001b[1m)\u001b[0m:        \u001b[1;36m0.529\u001b[0m       \u001b[2m            \u001b[0m\n",
       "\u001b[2;36m                    \u001b[0m         Skew:                  \u001b[1;36m-0.637\u001b[0m        \u001b[1;35mProb\u001b[0m\u001b[1m(\u001b[0mJB\u001b[1m)\u001b[0m:                \u001b[1;36m0.768\u001b[0m       \u001b[2m            \u001b[0m\n",
       "\u001b[2;36m                    \u001b[0m         Kurtosis:              \u001b[1;36m2.042\u001b[0m         Condition No.:           \u001b[1;36m23\u001b[0m          \u001b[2m            \u001b[0m\n",
       "\u001b[2;36m                    \u001b[0m         ===================================================================       \u001b[2m            \u001b[0m\n",
       "\u001b[2;36m                    \u001b[0m         Notes:                                                                    \u001b[2m            \u001b[0m\n",
       "\u001b[2;36m                    \u001b[0m         \u001b[1m[\u001b[0m\u001b[1;36m1\u001b[0m\u001b[1m]\u001b[0m Standard Errors assume that the covariance matrix of the errors       \u001b[2m            \u001b[0m\n",
       "\u001b[2;36m                    \u001b[0m         is correctly specified.                                                   \u001b[2m            \u001b[0m\n"
      ]
     },
     "metadata": {},
     "output_type": "display_data"
    },
    {
     "data": {
      "text/html": [
       "<pre style=\"white-space:pre;overflow-x:auto;line-height:normal;font-family:Menlo,'DejaVu Sans Mono',consolas,'Courier New',monospace\"><span style=\"color: #7fbfbf; text-decoration-color: #7fbfbf\">                    </span><span style=\"color: #000080; text-decoration-color: #000080\">INFO    </span> Regression:Drift angle fy                                                 <a href=\"file:///home/maa/dev/PHD/src/phd/pipelines/regression_VCT/nodes.py\" target=\"_blank\"><span style=\"color: #7f7f7f; text-decoration-color: #7f7f7f\">nodes.py</span></a><span style=\"color: #7f7f7f; text-decoration-color: #7f7f7f\">:</span><a href=\"file:///home/maa/dev/PHD/src/phd/pipelines/regression_VCT/nodes.py#662\" target=\"_blank\"><span style=\"color: #7f7f7f; text-decoration-color: #7f7f7f\">662</span></a>\n",
       "</pre>\n"
      ],
      "text/plain": [
       "\u001b[2;36m                   \u001b[0m\u001b[2;36m \u001b[0m\u001b[34mINFO    \u001b[0m Regression:Drift angle fy                                                 \u001b]8;id=457240;file:///home/maa/dev/PHD/src/phd/pipelines/regression_VCT/nodes.py\u001b\\\u001b[2mnodes.py\u001b[0m\u001b]8;;\u001b\\\u001b[2m:\u001b[0m\u001b]8;id=372951;file:///home/maa/dev/PHD/src/phd/pipelines/regression_VCT/nodes.py#662\u001b\\\u001b[2m662\u001b[0m\u001b]8;;\u001b\\\n"
      ]
     },
     "metadata": {},
     "output_type": "display_data"
    },
    {
     "name": "stdout",
     "output_type": "stream",
     "text": [
      "                       3          \n",
      "Y_H = Y_{0} + Y_{vvv}⋅v  + Y_{v}⋅v\n"
     ]
    },
    {
     "data": {
      "text/html": [
       "<pre style=\"white-space:pre;overflow-x:auto;line-height:normal;font-family:Menlo,'DejaVu Sans Mono',consolas,'Courier New',monospace\"><span style=\"color: #7fbfbf; text-decoration-color: #7fbfbf\">                    </span><span style=\"color: #000080; text-decoration-color: #000080\">INFO    </span> <span style=\"color: #800080; text-decoration-color: #800080; font-style: italic\">None</span>                                                                      <a href=\"file:///home/maa/dev/PHD/src/phd/pipelines/regression_VCT/nodes.py\" target=\"_blank\"><span style=\"color: #7f7f7f; text-decoration-color: #7f7f7f\">nodes.py</span></a><span style=\"color: #7f7f7f; text-decoration-color: #7f7f7f\">:</span><a href=\"file:///home/maa/dev/PHD/src/phd/pipelines/regression_VCT/nodes.py#663\" target=\"_blank\"><span style=\"color: #7f7f7f; text-decoration-color: #7f7f7f\">663</span></a>\n",
       "</pre>\n"
      ],
      "text/plain": [
       "\u001b[2;36m                   \u001b[0m\u001b[2;36m \u001b[0m\u001b[34mINFO    \u001b[0m \u001b[3;35mNone\u001b[0m                                                                      \u001b]8;id=919413;file:///home/maa/dev/PHD/src/phd/pipelines/regression_VCT/nodes.py\u001b\\\u001b[2mnodes.py\u001b[0m\u001b]8;;\u001b\\\u001b[2m:\u001b[0m\u001b]8;id=268707;file:///home/maa/dev/PHD/src/phd/pipelines/regression_VCT/nodes.py#663\u001b\\\u001b[2m663\u001b[0m\u001b]8;;\u001b\\\n"
      ]
     },
     "metadata": {},
     "output_type": "display_data"
    },
    {
     "data": {
      "text/html": [
       "<pre style=\"white-space:pre;overflow-x:auto;line-height:normal;font-family:Menlo,'DejaVu Sans Mono',consolas,'Courier New',monospace\"><span style=\"color: #7fbfbf; text-decoration-color: #7fbfbf\">                    </span><span style=\"color: #800000; text-decoration-color: #800000\">WARNING </span> <span style=\"color: #800080; text-decoration-color: #800080\">/home/maa/miniconda3/envs/phd/lib/python3.10/site-packages/statsmodels</span> <a href=\"file:///home/maa/miniconda3/envs/phd/lib/python3.10/warnings.py\" target=\"_blank\"><span style=\"color: #7f7f7f; text-decoration-color: #7f7f7f\">warnings.py</span></a><span style=\"color: #7f7f7f; text-decoration-color: #7f7f7f\">:</span><a href=\"file:///home/maa/miniconda3/envs/phd/lib/python3.10/warnings.py#109\" target=\"_blank\"><span style=\"color: #7f7f7f; text-decoration-color: #7f7f7f\">109</span></a>\n",
       "<span style=\"color: #7fbfbf; text-decoration-color: #7fbfbf\">                    </span>         <span style=\"color: #800080; text-decoration-color: #800080\">/stats/</span><span style=\"color: #ff00ff; text-decoration-color: #ff00ff\">stattools.py</span>:<span style=\"color: #008080; text-decoration-color: #008080; font-weight: bold\">74</span>: ValueWarning: omni_normtest is not valid with  <span style=\"color: #7f7f7f; text-decoration-color: #7f7f7f\">               </span>\n",
       "<span style=\"color: #7fbfbf; text-decoration-color: #7fbfbf\">                    </span>         less than <span style=\"color: #008080; text-decoration-color: #008080; font-weight: bold\">8</span> observations; <span style=\"color: #008080; text-decoration-color: #008080; font-weight: bold\">5</span> samples were given.                        <span style=\"color: #7f7f7f; text-decoration-color: #7f7f7f\">               </span>\n",
       "<span style=\"color: #7fbfbf; text-decoration-color: #7fbfbf\">                    </span>           <span style=\"color: #800080; text-decoration-color: #800080; font-weight: bold\">warn</span><span style=\"font-weight: bold\">(</span><span style=\"color: #008000; text-decoration-color: #008000\">\"omni_normtest is not valid with less than 8 observations; %i \"</span> <span style=\"color: #7f7f7f; text-decoration-color: #7f7f7f\">               </span>\n",
       "<span style=\"color: #7fbfbf; text-decoration-color: #7fbfbf\">                    </span>                                                                                <span style=\"color: #7f7f7f; text-decoration-color: #7f7f7f\">               </span>\n",
       "</pre>\n"
      ],
      "text/plain": [
       "\u001b[2;36m                   \u001b[0m\u001b[2;36m \u001b[0m\u001b[31mWARNING \u001b[0m \u001b[35m/home/maa/miniconda3/envs/phd/lib/python3.10/site-packages/statsmodels\u001b[0m \u001b]8;id=577709;file:///home/maa/miniconda3/envs/phd/lib/python3.10/warnings.py\u001b\\\u001b[2mwarnings.py\u001b[0m\u001b]8;;\u001b\\\u001b[2m:\u001b[0m\u001b]8;id=496581;file:///home/maa/miniconda3/envs/phd/lib/python3.10/warnings.py#109\u001b\\\u001b[2m109\u001b[0m\u001b]8;;\u001b\\\n",
       "\u001b[2;36m                    \u001b[0m         \u001b[35m/stats/\u001b[0m\u001b[95mstattools.py\u001b[0m:\u001b[1;36m74\u001b[0m: ValueWarning: omni_normtest is not valid with  \u001b[2m               \u001b[0m\n",
       "\u001b[2;36m                    \u001b[0m         less than \u001b[1;36m8\u001b[0m observations; \u001b[1;36m5\u001b[0m samples were given.                        \u001b[2m               \u001b[0m\n",
       "\u001b[2;36m                    \u001b[0m           \u001b[1;35mwarn\u001b[0m\u001b[1m(\u001b[0m\u001b[32m\"omni_normtest is not valid with less than 8 observations; %i \"\u001b[0m \u001b[2m               \u001b[0m\n",
       "\u001b[2;36m                    \u001b[0m                                                                                \u001b[2m               \u001b[0m\n"
      ]
     },
     "metadata": {},
     "output_type": "display_data"
    },
    {
     "data": {
      "text/html": [
       "<pre style=\"white-space:pre;overflow-x:auto;line-height:normal;font-family:Menlo,'DejaVu Sans Mono',consolas,'Courier New',monospace\"><span style=\"color: #7fbfbf; text-decoration-color: #7fbfbf\">                    </span><span style=\"color: #000080; text-decoration-color: #000080\">INFO    </span>                         Results: Ordinary least squares                   <a href=\"file:///home/maa/dev/PHD/src/phd/pipelines/regression_VCT/nodes.py\" target=\"_blank\"><span style=\"color: #7f7f7f; text-decoration-color: #7f7f7f\">nodes.py</span></a><span style=\"color: #7f7f7f; text-decoration-color: #7f7f7f\">:</span><a href=\"file:///home/maa/dev/PHD/src/phd/pipelines/regression_VCT/nodes.py#665\" target=\"_blank\"><span style=\"color: #7f7f7f; text-decoration-color: #7f7f7f\">665</span></a>\n",
       "<span style=\"color: #7fbfbf; text-decoration-color: #7fbfbf\">                    </span>         ========================================================================= <span style=\"color: #7f7f7f; text-decoration-color: #7f7f7f\">            </span>\n",
       "<span style=\"color: #7fbfbf; text-decoration-color: #7fbfbf\">                    </span>         =======                                                                   <span style=\"color: #7f7f7f; text-decoration-color: #7f7f7f\">            </span>\n",
       "<span style=\"color: #7fbfbf; text-decoration-color: #7fbfbf\">                    </span>         Model:                  OLS              Adj. R-squared <span style=\"font-weight: bold\">(</span>uncentered<span style=\"font-weight: bold\">)</span>:     <span style=\"color: #7f7f7f; text-decoration-color: #7f7f7f\">            </span>\n",
       "<span style=\"color: #7fbfbf; text-decoration-color: #7fbfbf\">                    </span>         <span style=\"color: #008080; text-decoration-color: #008080; font-weight: bold\">0.966</span>                                                                     <span style=\"color: #7f7f7f; text-decoration-color: #7f7f7f\">            </span>\n",
       "<span style=\"color: #7fbfbf; text-decoration-color: #7fbfbf\">                    </span>         Dependent Variable:     Y_H              AIC:                             <span style=\"color: #7f7f7f; text-decoration-color: #7f7f7f\">            </span>\n",
       "<span style=\"color: #7fbfbf; text-decoration-color: #7fbfbf\">                    </span>         <span style=\"color: #008080; text-decoration-color: #008080; font-weight: bold\">-62.0879</span>                                                                  <span style=\"color: #7f7f7f; text-decoration-color: #7f7f7f\">            </span>\n",
       "<span style=\"color: #7fbfbf; text-decoration-color: #7fbfbf\">                    </span>         Date:                   <span style=\"color: #008080; text-decoration-color: #008080; font-weight: bold\">2024</span>-<span style=\"color: #008080; text-decoration-color: #008080; font-weight: bold\">02</span>-<span style=\"color: #008080; text-decoration-color: #008080; font-weight: bold\">07</span> <span style=\"color: #00ff00; text-decoration-color: #00ff00; font-weight: bold\">15:39</span> BIC:                             <span style=\"color: #7f7f7f; text-decoration-color: #7f7f7f\">            </span>\n",
       "<span style=\"color: #7fbfbf; text-decoration-color: #7fbfbf\">                    </span>         <span style=\"color: #008080; text-decoration-color: #008080; font-weight: bold\">-62.4785</span>                                                                  <span style=\"color: #7f7f7f; text-decoration-color: #7f7f7f\">            </span>\n",
       "<span style=\"color: #7fbfbf; text-decoration-color: #7fbfbf\">                    </span>         No. Observations:       <span style=\"color: #008080; text-decoration-color: #008080; font-weight: bold\">5</span>                Log-Likelihood:                  <span style=\"color: #7f7f7f; text-decoration-color: #7f7f7f\">            </span>\n",
       "<span style=\"color: #7fbfbf; text-decoration-color: #7fbfbf\">                    </span>         <span style=\"color: #008080; text-decoration-color: #008080; font-weight: bold\">32.044</span>                                                                    <span style=\"color: #7f7f7f; text-decoration-color: #7f7f7f\">            </span>\n",
       "<span style=\"color: #7fbfbf; text-decoration-color: #7fbfbf\">                    </span>         Df Model:               <span style=\"color: #008080; text-decoration-color: #008080; font-weight: bold\">1</span>                F-statistic:                     <span style=\"color: #7f7f7f; text-decoration-color: #7f7f7f\">            </span>\n",
       "<span style=\"color: #7fbfbf; text-decoration-color: #7fbfbf\">                    </span>         <span style=\"color: #008080; text-decoration-color: #008080; font-weight: bold\">144.8</span>                                                                     <span style=\"color: #7f7f7f; text-decoration-color: #7f7f7f\">            </span>\n",
       "<span style=\"color: #7fbfbf; text-decoration-color: #7fbfbf\">                    </span>         Df Residuals:           <span style=\"color: #008080; text-decoration-color: #008080; font-weight: bold\">4</span>                Prob <span style=\"font-weight: bold\">(</span>F-statistic<span style=\"font-weight: bold\">)</span>:              <span style=\"color: #7f7f7f; text-decoration-color: #7f7f7f\">            </span>\n",
       "<span style=\"color: #7fbfbf; text-decoration-color: #7fbfbf\">                    </span>         <span style=\"color: #008080; text-decoration-color: #008080; font-weight: bold\">0.000273</span>                                                                  <span style=\"color: #7f7f7f; text-decoration-color: #7f7f7f\">            </span>\n",
       "<span style=\"color: #7fbfbf; text-decoration-color: #7fbfbf\">                    </span>         R-squared <span style=\"font-weight: bold\">(</span>uncentered<span style=\"font-weight: bold\">)</span>: <span style=\"color: #008080; text-decoration-color: #008080; font-weight: bold\">0.973</span>            Scale:                           <span style=\"color: #7f7f7f; text-decoration-color: #7f7f7f\">            </span>\n",
       "<span style=\"color: #7fbfbf; text-decoration-color: #7fbfbf\">                    </span>         <span style=\"color: #008080; text-decoration-color: #008080; font-weight: bold\">1.9853e-07</span>                                                                <span style=\"color: #7f7f7f; text-decoration-color: #7f7f7f\">            </span>\n",
       "<span style=\"color: #7fbfbf; text-decoration-color: #7fbfbf\">                    </span>         ------------------------------------------------------------------------- <span style=\"color: #7f7f7f; text-decoration-color: #7f7f7f\">            </span>\n",
       "<span style=\"color: #7fbfbf; text-decoration-color: #7fbfbf\">                    </span>         ------------                                                              <span style=\"color: #7f7f7f; text-decoration-color: #7f7f7f\">            </span>\n",
       "<span style=\"color: #7fbfbf; text-decoration-color: #7fbfbf\">                    </span>                      Coef.       Std.Err.         t          P&gt;|t|        <span style=\"font-weight: bold\">[</span><span style=\"color: #008080; text-decoration-color: #008080; font-weight: bold\">0.025</span>  <span style=\"color: #7f7f7f; text-decoration-color: #7f7f7f\">            </span>\n",
       "<span style=\"color: #7fbfbf; text-decoration-color: #7fbfbf\">                    </span>         <span style=\"color: #008080; text-decoration-color: #008080; font-weight: bold\">0.975</span><span style=\"font-weight: bold\">]</span>                                                                    <span style=\"color: #7f7f7f; text-decoration-color: #7f7f7f\">            </span>\n",
       "<span style=\"color: #7fbfbf; text-decoration-color: #7fbfbf\">                    </span>         ------------------------------------------------------------------------- <span style=\"color: #7f7f7f; text-decoration-color: #7f7f7f\">            </span>\n",
       "<span style=\"color: #7fbfbf; text-decoration-color: #7fbfbf\">                    </span>         ------------                                                              <span style=\"color: #7f7f7f; text-decoration-color: #7f7f7f\">            </span>\n",
       "<span style=\"color: #7fbfbf; text-decoration-color: #7fbfbf\">                    </span>         Yv          <span style=\"color: #008080; text-decoration-color: #008080; font-weight: bold\">-0.0114</span>        <span style=\"color: #008080; text-decoration-color: #008080; font-weight: bold\">0.0009</span>      <span style=\"color: #008080; text-decoration-color: #008080; font-weight: bold\">-12.0340</span>      <span style=\"color: #008080; text-decoration-color: #008080; font-weight: bold\">0.0003</span>      <span style=\"color: #008080; text-decoration-color: #008080; font-weight: bold\">-0.0141</span>  <span style=\"color: #7f7f7f; text-decoration-color: #7f7f7f\">            </span>\n",
       "<span style=\"color: #7fbfbf; text-decoration-color: #7fbfbf\">                    </span>         <span style=\"color: #008080; text-decoration-color: #008080; font-weight: bold\">-0.0088</span>                                                                   <span style=\"color: #7f7f7f; text-decoration-color: #7f7f7f\">            </span>\n",
       "<span style=\"color: #7fbfbf; text-decoration-color: #7fbfbf\">                    </span>         ------------------------------------------------------------------------- <span style=\"color: #7f7f7f; text-decoration-color: #7f7f7f\">            </span>\n",
       "<span style=\"color: #7fbfbf; text-decoration-color: #7fbfbf\">                    </span>         -------                                                                   <span style=\"color: #7f7f7f; text-decoration-color: #7f7f7f\">            </span>\n",
       "<span style=\"color: #7fbfbf; text-decoration-color: #7fbfbf\">                    </span>         Omnibus:                   nan               Durbin-Watson:               <span style=\"color: #7f7f7f; text-decoration-color: #7f7f7f\">            </span>\n",
       "<span style=\"color: #7fbfbf; text-decoration-color: #7fbfbf\">                    </span>         <span style=\"color: #008080; text-decoration-color: #008080; font-weight: bold\">1.954</span>                                                                     <span style=\"color: #7f7f7f; text-decoration-color: #7f7f7f\">            </span>\n",
       "<span style=\"color: #7fbfbf; text-decoration-color: #7fbfbf\">                    </span>         <span style=\"color: #800080; text-decoration-color: #800080; font-weight: bold\">Prob</span><span style=\"font-weight: bold\">(</span>Omnibus<span style=\"font-weight: bold\">)</span>:             nan               Jarque-Bera <span style=\"font-weight: bold\">(</span>JB<span style=\"font-weight: bold\">)</span>:            <span style=\"color: #7f7f7f; text-decoration-color: #7f7f7f\">            </span>\n",
       "<span style=\"color: #7fbfbf; text-decoration-color: #7fbfbf\">                    </span>         <span style=\"color: #008080; text-decoration-color: #008080; font-weight: bold\">1.535</span>                                                                     <span style=\"color: #7f7f7f; text-decoration-color: #7f7f7f\">            </span>\n",
       "<span style=\"color: #7fbfbf; text-decoration-color: #7fbfbf\">                    </span>         Skew:                      <span style=\"color: #008080; text-decoration-color: #008080; font-weight: bold\">1.357</span>             <span style=\"color: #800080; text-decoration-color: #800080; font-weight: bold\">Prob</span><span style=\"font-weight: bold\">(</span>JB<span style=\"font-weight: bold\">)</span>:                    <span style=\"color: #7f7f7f; text-decoration-color: #7f7f7f\">            </span>\n",
       "<span style=\"color: #7fbfbf; text-decoration-color: #7fbfbf\">                    </span>         <span style=\"color: #008080; text-decoration-color: #008080; font-weight: bold\">0.464</span>                                                                     <span style=\"color: #7f7f7f; text-decoration-color: #7f7f7f\">            </span>\n",
       "<span style=\"color: #7fbfbf; text-decoration-color: #7fbfbf\">                    </span>         Kurtosis:                  <span style=\"color: #008080; text-decoration-color: #008080; font-weight: bold\">3.049</span>             Condition No.:               <span style=\"color: #7f7f7f; text-decoration-color: #7f7f7f\">            </span>\n",
       "<span style=\"color: #7fbfbf; text-decoration-color: #7fbfbf\">                    </span>         <span style=\"color: #008080; text-decoration-color: #008080; font-weight: bold\">1</span>                                                                         <span style=\"color: #7f7f7f; text-decoration-color: #7f7f7f\">            </span>\n",
       "<span style=\"color: #7fbfbf; text-decoration-color: #7fbfbf\">                    </span>         ========================================================================= <span style=\"color: #7f7f7f; text-decoration-color: #7f7f7f\">            </span>\n",
       "<span style=\"color: #7fbfbf; text-decoration-color: #7fbfbf\">                    </span>         =======                                                                   <span style=\"color: #7f7f7f; text-decoration-color: #7f7f7f\">            </span>\n",
       "<span style=\"color: #7fbfbf; text-decoration-color: #7fbfbf\">                    </span>         Notes:                                                                    <span style=\"color: #7f7f7f; text-decoration-color: #7f7f7f\">            </span>\n",
       "<span style=\"color: #7fbfbf; text-decoration-color: #7fbfbf\">                    </span>         <span style=\"font-weight: bold\">[</span><span style=\"color: #008080; text-decoration-color: #008080; font-weight: bold\">1</span><span style=\"font-weight: bold\">]</span> R² is computed without centering <span style=\"font-weight: bold\">(</span>uncentered<span style=\"font-weight: bold\">)</span> since the               <span style=\"color: #7f7f7f; text-decoration-color: #7f7f7f\">            </span>\n",
       "<span style=\"color: #7fbfbf; text-decoration-color: #7fbfbf\">                    </span>         model does not contain a constant.                                        <span style=\"color: #7f7f7f; text-decoration-color: #7f7f7f\">            </span>\n",
       "<span style=\"color: #7fbfbf; text-decoration-color: #7fbfbf\">                    </span>         <span style=\"font-weight: bold\">[</span><span style=\"color: #008080; text-decoration-color: #008080; font-weight: bold\">2</span><span style=\"font-weight: bold\">]</span> Standard Errors assume that the covariance matrix of the errors is    <span style=\"color: #7f7f7f; text-decoration-color: #7f7f7f\">            </span>\n",
       "<span style=\"color: #7fbfbf; text-decoration-color: #7fbfbf\">                    </span>         correctly                                                                 <span style=\"color: #7f7f7f; text-decoration-color: #7f7f7f\">            </span>\n",
       "<span style=\"color: #7fbfbf; text-decoration-color: #7fbfbf\">                    </span>         specified.                                                                <span style=\"color: #7f7f7f; text-decoration-color: #7f7f7f\">            </span>\n",
       "</pre>\n"
      ],
      "text/plain": [
       "\u001b[2;36m                   \u001b[0m\u001b[2;36m \u001b[0m\u001b[34mINFO    \u001b[0m                         Results: Ordinary least squares                   \u001b]8;id=694945;file:///home/maa/dev/PHD/src/phd/pipelines/regression_VCT/nodes.py\u001b\\\u001b[2mnodes.py\u001b[0m\u001b]8;;\u001b\\\u001b[2m:\u001b[0m\u001b]8;id=759694;file:///home/maa/dev/PHD/src/phd/pipelines/regression_VCT/nodes.py#665\u001b\\\u001b[2m665\u001b[0m\u001b]8;;\u001b\\\n",
       "\u001b[2;36m                    \u001b[0m         ========================================================================= \u001b[2m            \u001b[0m\n",
       "\u001b[2;36m                    \u001b[0m         =======                                                                   \u001b[2m            \u001b[0m\n",
       "\u001b[2;36m                    \u001b[0m         Model:                  OLS              Adj. R-squared \u001b[1m(\u001b[0muncentered\u001b[1m)\u001b[0m:     \u001b[2m            \u001b[0m\n",
       "\u001b[2;36m                    \u001b[0m         \u001b[1;36m0.966\u001b[0m                                                                     \u001b[2m            \u001b[0m\n",
       "\u001b[2;36m                    \u001b[0m         Dependent Variable:     Y_H              AIC:                             \u001b[2m            \u001b[0m\n",
       "\u001b[2;36m                    \u001b[0m         \u001b[1;36m-62.0879\u001b[0m                                                                  \u001b[2m            \u001b[0m\n",
       "\u001b[2;36m                    \u001b[0m         Date:                   \u001b[1;36m2024\u001b[0m-\u001b[1;36m02\u001b[0m-\u001b[1;36m07\u001b[0m \u001b[1;92m15:39\u001b[0m BIC:                             \u001b[2m            \u001b[0m\n",
       "\u001b[2;36m                    \u001b[0m         \u001b[1;36m-62.4785\u001b[0m                                                                  \u001b[2m            \u001b[0m\n",
       "\u001b[2;36m                    \u001b[0m         No. Observations:       \u001b[1;36m5\u001b[0m                Log-Likelihood:                  \u001b[2m            \u001b[0m\n",
       "\u001b[2;36m                    \u001b[0m         \u001b[1;36m32.044\u001b[0m                                                                    \u001b[2m            \u001b[0m\n",
       "\u001b[2;36m                    \u001b[0m         Df Model:               \u001b[1;36m1\u001b[0m                F-statistic:                     \u001b[2m            \u001b[0m\n",
       "\u001b[2;36m                    \u001b[0m         \u001b[1;36m144.8\u001b[0m                                                                     \u001b[2m            \u001b[0m\n",
       "\u001b[2;36m                    \u001b[0m         Df Residuals:           \u001b[1;36m4\u001b[0m                Prob \u001b[1m(\u001b[0mF-statistic\u001b[1m)\u001b[0m:              \u001b[2m            \u001b[0m\n",
       "\u001b[2;36m                    \u001b[0m         \u001b[1;36m0.000273\u001b[0m                                                                  \u001b[2m            \u001b[0m\n",
       "\u001b[2;36m                    \u001b[0m         R-squared \u001b[1m(\u001b[0muncentered\u001b[1m)\u001b[0m: \u001b[1;36m0.973\u001b[0m            Scale:                           \u001b[2m            \u001b[0m\n",
       "\u001b[2;36m                    \u001b[0m         \u001b[1;36m1.9853e-07\u001b[0m                                                                \u001b[2m            \u001b[0m\n",
       "\u001b[2;36m                    \u001b[0m         ------------------------------------------------------------------------- \u001b[2m            \u001b[0m\n",
       "\u001b[2;36m                    \u001b[0m         ------------                                                              \u001b[2m            \u001b[0m\n",
       "\u001b[2;36m                    \u001b[0m                      Coef.       Std.Err.         t          P>|t|        \u001b[1m[\u001b[0m\u001b[1;36m0.025\u001b[0m  \u001b[2m            \u001b[0m\n",
       "\u001b[2;36m                    \u001b[0m         \u001b[1;36m0.975\u001b[0m\u001b[1m]\u001b[0m                                                                    \u001b[2m            \u001b[0m\n",
       "\u001b[2;36m                    \u001b[0m         ------------------------------------------------------------------------- \u001b[2m            \u001b[0m\n",
       "\u001b[2;36m                    \u001b[0m         ------------                                                              \u001b[2m            \u001b[0m\n",
       "\u001b[2;36m                    \u001b[0m         Yv          \u001b[1;36m-0.0114\u001b[0m        \u001b[1;36m0.0009\u001b[0m      \u001b[1;36m-12.0340\u001b[0m      \u001b[1;36m0.0003\u001b[0m      \u001b[1;36m-0.0141\u001b[0m  \u001b[2m            \u001b[0m\n",
       "\u001b[2;36m                    \u001b[0m         \u001b[1;36m-0.0088\u001b[0m                                                                   \u001b[2m            \u001b[0m\n",
       "\u001b[2;36m                    \u001b[0m         ------------------------------------------------------------------------- \u001b[2m            \u001b[0m\n",
       "\u001b[2;36m                    \u001b[0m         -------                                                                   \u001b[2m            \u001b[0m\n",
       "\u001b[2;36m                    \u001b[0m         Omnibus:                   nan               Durbin-Watson:               \u001b[2m            \u001b[0m\n",
       "\u001b[2;36m                    \u001b[0m         \u001b[1;36m1.954\u001b[0m                                                                     \u001b[2m            \u001b[0m\n",
       "\u001b[2;36m                    \u001b[0m         \u001b[1;35mProb\u001b[0m\u001b[1m(\u001b[0mOmnibus\u001b[1m)\u001b[0m:             nan               Jarque-Bera \u001b[1m(\u001b[0mJB\u001b[1m)\u001b[0m:            \u001b[2m            \u001b[0m\n",
       "\u001b[2;36m                    \u001b[0m         \u001b[1;36m1.535\u001b[0m                                                                     \u001b[2m            \u001b[0m\n",
       "\u001b[2;36m                    \u001b[0m         Skew:                      \u001b[1;36m1.357\u001b[0m             \u001b[1;35mProb\u001b[0m\u001b[1m(\u001b[0mJB\u001b[1m)\u001b[0m:                    \u001b[2m            \u001b[0m\n",
       "\u001b[2;36m                    \u001b[0m         \u001b[1;36m0.464\u001b[0m                                                                     \u001b[2m            \u001b[0m\n",
       "\u001b[2;36m                    \u001b[0m         Kurtosis:                  \u001b[1;36m3.049\u001b[0m             Condition No.:               \u001b[2m            \u001b[0m\n",
       "\u001b[2;36m                    \u001b[0m         \u001b[1;36m1\u001b[0m                                                                         \u001b[2m            \u001b[0m\n",
       "\u001b[2;36m                    \u001b[0m         ========================================================================= \u001b[2m            \u001b[0m\n",
       "\u001b[2;36m                    \u001b[0m         =======                                                                   \u001b[2m            \u001b[0m\n",
       "\u001b[2;36m                    \u001b[0m         Notes:                                                                    \u001b[2m            \u001b[0m\n",
       "\u001b[2;36m                    \u001b[0m         \u001b[1m[\u001b[0m\u001b[1;36m1\u001b[0m\u001b[1m]\u001b[0m R² is computed without centering \u001b[1m(\u001b[0muncentered\u001b[1m)\u001b[0m since the               \u001b[2m            \u001b[0m\n",
       "\u001b[2;36m                    \u001b[0m         model does not contain a constant.                                        \u001b[2m            \u001b[0m\n",
       "\u001b[2;36m                    \u001b[0m         \u001b[1m[\u001b[0m\u001b[1;36m2\u001b[0m\u001b[1m]\u001b[0m Standard Errors assume that the covariance matrix of the errors is    \u001b[2m            \u001b[0m\n",
       "\u001b[2;36m                    \u001b[0m         correctly                                                                 \u001b[2m            \u001b[0m\n",
       "\u001b[2;36m                    \u001b[0m         specified.                                                                \u001b[2m            \u001b[0m\n"
      ]
     },
     "metadata": {},
     "output_type": "display_data"
    },
    {
     "data": {
      "text/html": [
       "<pre style=\"white-space:pre;overflow-x:auto;line-height:normal;font-family:Menlo,'DejaVu Sans Mono',consolas,'Courier New',monospace\"><span style=\"color: #7fbfbf; text-decoration-color: #7fbfbf\">                    </span><span style=\"color: #000080; text-decoration-color: #000080\">INFO    </span> Regression:Drift angle mz                                                 <a href=\"file:///home/maa/dev/PHD/src/phd/pipelines/regression_VCT/nodes.py\" target=\"_blank\"><span style=\"color: #7f7f7f; text-decoration-color: #7f7f7f\">nodes.py</span></a><span style=\"color: #7f7f7f; text-decoration-color: #7f7f7f\">:</span><a href=\"file:///home/maa/dev/PHD/src/phd/pipelines/regression_VCT/nodes.py#662\" target=\"_blank\"><span style=\"color: #7f7f7f; text-decoration-color: #7f7f7f\">662</span></a>\n",
       "</pre>\n"
      ],
      "text/plain": [
       "\u001b[2;36m                   \u001b[0m\u001b[2;36m \u001b[0m\u001b[34mINFO    \u001b[0m Regression:Drift angle mz                                                 \u001b]8;id=506721;file:///home/maa/dev/PHD/src/phd/pipelines/regression_VCT/nodes.py\u001b\\\u001b[2mnodes.py\u001b[0m\u001b]8;;\u001b\\\u001b[2m:\u001b[0m\u001b]8;id=872255;file:///home/maa/dev/PHD/src/phd/pipelines/regression_VCT/nodes.py#662\u001b\\\u001b[2m662\u001b[0m\u001b]8;;\u001b\\\n"
      ]
     },
     "metadata": {},
     "output_type": "display_data"
    },
    {
     "name": "stdout",
     "output_type": "stream",
     "text": [
      "                       3          \n",
      "N_H = N_{0} + N_{vvv}⋅v  + N_{v}⋅v\n"
     ]
    },
    {
     "data": {
      "text/html": [
       "<pre style=\"white-space:pre;overflow-x:auto;line-height:normal;font-family:Menlo,'DejaVu Sans Mono',consolas,'Courier New',monospace\"><span style=\"color: #7fbfbf; text-decoration-color: #7fbfbf\">                    </span><span style=\"color: #000080; text-decoration-color: #000080\">INFO    </span> <span style=\"color: #800080; text-decoration-color: #800080; font-style: italic\">None</span>                                                                      <a href=\"file:///home/maa/dev/PHD/src/phd/pipelines/regression_VCT/nodes.py\" target=\"_blank\"><span style=\"color: #7f7f7f; text-decoration-color: #7f7f7f\">nodes.py</span></a><span style=\"color: #7f7f7f; text-decoration-color: #7f7f7f\">:</span><a href=\"file:///home/maa/dev/PHD/src/phd/pipelines/regression_VCT/nodes.py#663\" target=\"_blank\"><span style=\"color: #7f7f7f; text-decoration-color: #7f7f7f\">663</span></a>\n",
       "</pre>\n"
      ],
      "text/plain": [
       "\u001b[2;36m                   \u001b[0m\u001b[2;36m \u001b[0m\u001b[34mINFO    \u001b[0m \u001b[3;35mNone\u001b[0m                                                                      \u001b]8;id=294707;file:///home/maa/dev/PHD/src/phd/pipelines/regression_VCT/nodes.py\u001b\\\u001b[2mnodes.py\u001b[0m\u001b]8;;\u001b\\\u001b[2m:\u001b[0m\u001b]8;id=16487;file:///home/maa/dev/PHD/src/phd/pipelines/regression_VCT/nodes.py#663\u001b\\\u001b[2m663\u001b[0m\u001b]8;;\u001b\\\n"
      ]
     },
     "metadata": {},
     "output_type": "display_data"
    },
    {
     "data": {
      "text/html": [
       "<pre style=\"white-space:pre;overflow-x:auto;line-height:normal;font-family:Menlo,'DejaVu Sans Mono',consolas,'Courier New',monospace\"><span style=\"color: #7fbfbf; text-decoration-color: #7fbfbf\">                    </span><span style=\"color: #800000; text-decoration-color: #800000\">WARNING </span> <span style=\"color: #800080; text-decoration-color: #800080\">/home/maa/miniconda3/envs/phd/lib/python3.10/site-packages/statsmodels</span> <a href=\"file:///home/maa/miniconda3/envs/phd/lib/python3.10/warnings.py\" target=\"_blank\"><span style=\"color: #7f7f7f; text-decoration-color: #7f7f7f\">warnings.py</span></a><span style=\"color: #7f7f7f; text-decoration-color: #7f7f7f\">:</span><a href=\"file:///home/maa/miniconda3/envs/phd/lib/python3.10/warnings.py#109\" target=\"_blank\"><span style=\"color: #7f7f7f; text-decoration-color: #7f7f7f\">109</span></a>\n",
       "<span style=\"color: #7fbfbf; text-decoration-color: #7fbfbf\">                    </span>         <span style=\"color: #800080; text-decoration-color: #800080\">/stats/</span><span style=\"color: #ff00ff; text-decoration-color: #ff00ff\">stattools.py</span>:<span style=\"color: #008080; text-decoration-color: #008080; font-weight: bold\">74</span>: ValueWarning: omni_normtest is not valid with  <span style=\"color: #7f7f7f; text-decoration-color: #7f7f7f\">               </span>\n",
       "<span style=\"color: #7fbfbf; text-decoration-color: #7fbfbf\">                    </span>         less than <span style=\"color: #008080; text-decoration-color: #008080; font-weight: bold\">8</span> observations; <span style=\"color: #008080; text-decoration-color: #008080; font-weight: bold\">5</span> samples were given.                        <span style=\"color: #7f7f7f; text-decoration-color: #7f7f7f\">               </span>\n",
       "<span style=\"color: #7fbfbf; text-decoration-color: #7fbfbf\">                    </span>           <span style=\"color: #800080; text-decoration-color: #800080; font-weight: bold\">warn</span><span style=\"font-weight: bold\">(</span><span style=\"color: #008000; text-decoration-color: #008000\">\"omni_normtest is not valid with less than 8 observations; %i \"</span> <span style=\"color: #7f7f7f; text-decoration-color: #7f7f7f\">               </span>\n",
       "<span style=\"color: #7fbfbf; text-decoration-color: #7fbfbf\">                    </span>                                                                                <span style=\"color: #7f7f7f; text-decoration-color: #7f7f7f\">               </span>\n",
       "</pre>\n"
      ],
      "text/plain": [
       "\u001b[2;36m                   \u001b[0m\u001b[2;36m \u001b[0m\u001b[31mWARNING \u001b[0m \u001b[35m/home/maa/miniconda3/envs/phd/lib/python3.10/site-packages/statsmodels\u001b[0m \u001b]8;id=599269;file:///home/maa/miniconda3/envs/phd/lib/python3.10/warnings.py\u001b\\\u001b[2mwarnings.py\u001b[0m\u001b]8;;\u001b\\\u001b[2m:\u001b[0m\u001b]8;id=78847;file:///home/maa/miniconda3/envs/phd/lib/python3.10/warnings.py#109\u001b\\\u001b[2m109\u001b[0m\u001b]8;;\u001b\\\n",
       "\u001b[2;36m                    \u001b[0m         \u001b[35m/stats/\u001b[0m\u001b[95mstattools.py\u001b[0m:\u001b[1;36m74\u001b[0m: ValueWarning: omni_normtest is not valid with  \u001b[2m               \u001b[0m\n",
       "\u001b[2;36m                    \u001b[0m         less than \u001b[1;36m8\u001b[0m observations; \u001b[1;36m5\u001b[0m samples were given.                        \u001b[2m               \u001b[0m\n",
       "\u001b[2;36m                    \u001b[0m           \u001b[1;35mwarn\u001b[0m\u001b[1m(\u001b[0m\u001b[32m\"omni_normtest is not valid with less than 8 observations; %i \"\u001b[0m \u001b[2m               \u001b[0m\n",
       "\u001b[2;36m                    \u001b[0m                                                                                \u001b[2m               \u001b[0m\n"
      ]
     },
     "metadata": {},
     "output_type": "display_data"
    },
    {
     "data": {
      "text/html": [
       "<pre style=\"white-space:pre;overflow-x:auto;line-height:normal;font-family:Menlo,'DejaVu Sans Mono',consolas,'Courier New',monospace\"><span style=\"color: #7fbfbf; text-decoration-color: #7fbfbf\">                    </span><span style=\"color: #000080; text-decoration-color: #000080\">INFO    </span>                         Results: Ordinary least squares                   <a href=\"file:///home/maa/dev/PHD/src/phd/pipelines/regression_VCT/nodes.py\" target=\"_blank\"><span style=\"color: #7f7f7f; text-decoration-color: #7f7f7f\">nodes.py</span></a><span style=\"color: #7f7f7f; text-decoration-color: #7f7f7f\">:</span><a href=\"file:///home/maa/dev/PHD/src/phd/pipelines/regression_VCT/nodes.py#665\" target=\"_blank\"><span style=\"color: #7f7f7f; text-decoration-color: #7f7f7f\">665</span></a>\n",
       "<span style=\"color: #7fbfbf; text-decoration-color: #7fbfbf\">                    </span>         ========================================================================= <span style=\"color: #7f7f7f; text-decoration-color: #7f7f7f\">            </span>\n",
       "<span style=\"color: #7fbfbf; text-decoration-color: #7fbfbf\">                    </span>         =======                                                                   <span style=\"color: #7f7f7f; text-decoration-color: #7f7f7f\">            </span>\n",
       "<span style=\"color: #7fbfbf; text-decoration-color: #7fbfbf\">                    </span>         Model:                  OLS              Adj. R-squared <span style=\"font-weight: bold\">(</span>uncentered<span style=\"font-weight: bold\">)</span>:     <span style=\"color: #7f7f7f; text-decoration-color: #7f7f7f\">            </span>\n",
       "<span style=\"color: #7fbfbf; text-decoration-color: #7fbfbf\">                    </span>         <span style=\"color: #008080; text-decoration-color: #008080; font-weight: bold\">0.981</span>                                                                     <span style=\"color: #7f7f7f; text-decoration-color: #7f7f7f\">            </span>\n",
       "<span style=\"color: #7fbfbf; text-decoration-color: #7fbfbf\">                    </span>         Dependent Variable:     N_H              AIC:                             <span style=\"color: #7f7f7f; text-decoration-color: #7f7f7f\">            </span>\n",
       "<span style=\"color: #7fbfbf; text-decoration-color: #7fbfbf\">                    </span>         <span style=\"color: #008080; text-decoration-color: #008080; font-weight: bold\">-75.7241</span>                                                                  <span style=\"color: #7f7f7f; text-decoration-color: #7f7f7f\">            </span>\n",
       "<span style=\"color: #7fbfbf; text-decoration-color: #7fbfbf\">                    </span>         Date:                   <span style=\"color: #008080; text-decoration-color: #008080; font-weight: bold\">2024</span>-<span style=\"color: #008080; text-decoration-color: #008080; font-weight: bold\">02</span>-<span style=\"color: #008080; text-decoration-color: #008080; font-weight: bold\">07</span> <span style=\"color: #00ff00; text-decoration-color: #00ff00; font-weight: bold\">15:39</span> BIC:                             <span style=\"color: #7f7f7f; text-decoration-color: #7f7f7f\">            </span>\n",
       "<span style=\"color: #7fbfbf; text-decoration-color: #7fbfbf\">                    </span>         <span style=\"color: #008080; text-decoration-color: #008080; font-weight: bold\">-76.1147</span>                                                                  <span style=\"color: #7f7f7f; text-decoration-color: #7f7f7f\">            </span>\n",
       "<span style=\"color: #7fbfbf; text-decoration-color: #7fbfbf\">                    </span>         No. Observations:       <span style=\"color: #008080; text-decoration-color: #008080; font-weight: bold\">5</span>                Log-Likelihood:                  <span style=\"color: #7f7f7f; text-decoration-color: #7f7f7f\">            </span>\n",
       "<span style=\"color: #7fbfbf; text-decoration-color: #7fbfbf\">                    </span>         <span style=\"color: #008080; text-decoration-color: #008080; font-weight: bold\">38.862</span>                                                                    <span style=\"color: #7f7f7f; text-decoration-color: #7f7f7f\">            </span>\n",
       "<span style=\"color: #7fbfbf; text-decoration-color: #7fbfbf\">                    </span>         Df Model:               <span style=\"color: #008080; text-decoration-color: #008080; font-weight: bold\">1</span>                F-statistic:                     <span style=\"color: #7f7f7f; text-decoration-color: #7f7f7f\">            </span>\n",
       "<span style=\"color: #7fbfbf; text-decoration-color: #7fbfbf\">                    </span>         <span style=\"color: #008080; text-decoration-color: #008080; font-weight: bold\">258.1</span>                                                                     <span style=\"color: #7f7f7f; text-decoration-color: #7f7f7f\">            </span>\n",
       "<span style=\"color: #7fbfbf; text-decoration-color: #7fbfbf\">                    </span>         Df Residuals:           <span style=\"color: #008080; text-decoration-color: #008080; font-weight: bold\">4</span>                Prob <span style=\"font-weight: bold\">(</span>F-statistic<span style=\"font-weight: bold\">)</span>:              <span style=\"color: #7f7f7f; text-decoration-color: #7f7f7f\">            </span>\n",
       "<span style=\"color: #7fbfbf; text-decoration-color: #7fbfbf\">                    </span>         <span style=\"color: #008080; text-decoration-color: #008080; font-weight: bold\">8.78e-05</span>                                                                  <span style=\"color: #7f7f7f; text-decoration-color: #7f7f7f\">            </span>\n",
       "<span style=\"color: #7fbfbf; text-decoration-color: #7fbfbf\">                    </span>         R-squared <span style=\"font-weight: bold\">(</span>uncentered<span style=\"font-weight: bold\">)</span>: <span style=\"color: #008080; text-decoration-color: #008080; font-weight: bold\">0.985</span>            Scale:                           <span style=\"color: #7f7f7f; text-decoration-color: #7f7f7f\">            </span>\n",
       "<span style=\"color: #7fbfbf; text-decoration-color: #7fbfbf\">                    </span>         <span style=\"color: #008080; text-decoration-color: #008080; font-weight: bold\">1.2984e-08</span>                                                                <span style=\"color: #7f7f7f; text-decoration-color: #7f7f7f\">            </span>\n",
       "<span style=\"color: #7fbfbf; text-decoration-color: #7fbfbf\">                    </span>         ------------------------------------------------------------------------- <span style=\"color: #7f7f7f; text-decoration-color: #7f7f7f\">            </span>\n",
       "<span style=\"color: #7fbfbf; text-decoration-color: #7fbfbf\">                    </span>         ------------                                                              <span style=\"color: #7f7f7f; text-decoration-color: #7f7f7f\">            </span>\n",
       "<span style=\"color: #7fbfbf; text-decoration-color: #7fbfbf\">                    </span>                      Coef.       Std.Err.         t          P&gt;|t|        <span style=\"font-weight: bold\">[</span><span style=\"color: #008080; text-decoration-color: #008080; font-weight: bold\">0.025</span>  <span style=\"color: #7f7f7f; text-decoration-color: #7f7f7f\">            </span>\n",
       "<span style=\"color: #7fbfbf; text-decoration-color: #7fbfbf\">                    </span>         <span style=\"color: #008080; text-decoration-color: #008080; font-weight: bold\">0.975</span><span style=\"font-weight: bold\">]</span>                                                                    <span style=\"color: #7f7f7f; text-decoration-color: #7f7f7f\">            </span>\n",
       "<span style=\"color: #7fbfbf; text-decoration-color: #7fbfbf\">                    </span>         ------------------------------------------------------------------------- <span style=\"color: #7f7f7f; text-decoration-color: #7f7f7f\">            </span>\n",
       "<span style=\"color: #7fbfbf; text-decoration-color: #7fbfbf\">                    </span>         ------------                                                              <span style=\"color: #7f7f7f; text-decoration-color: #7f7f7f\">            </span>\n",
       "<span style=\"color: #7fbfbf; text-decoration-color: #7fbfbf\">                    </span>         Nv          <span style=\"color: #008080; text-decoration-color: #008080; font-weight: bold\">-0.0039</span>        <span style=\"color: #008080; text-decoration-color: #008080; font-weight: bold\">0.0002</span>      <span style=\"color: #008080; text-decoration-color: #008080; font-weight: bold\">-16.0658</span>      <span style=\"color: #008080; text-decoration-color: #008080; font-weight: bold\">0.0001</span>      <span style=\"color: #008080; text-decoration-color: #008080; font-weight: bold\">-0.0046</span>  <span style=\"color: #7f7f7f; text-decoration-color: #7f7f7f\">            </span>\n",
       "<span style=\"color: #7fbfbf; text-decoration-color: #7fbfbf\">                    </span>         <span style=\"color: #008080; text-decoration-color: #008080; font-weight: bold\">-0.0032</span>                                                                   <span style=\"color: #7f7f7f; text-decoration-color: #7f7f7f\">            </span>\n",
       "<span style=\"color: #7fbfbf; text-decoration-color: #7fbfbf\">                    </span>         ------------------------------------------------------------------------- <span style=\"color: #7f7f7f; text-decoration-color: #7f7f7f\">            </span>\n",
       "<span style=\"color: #7fbfbf; text-decoration-color: #7fbfbf\">                    </span>         -------                                                                   <span style=\"color: #7f7f7f; text-decoration-color: #7f7f7f\">            </span>\n",
       "<span style=\"color: #7fbfbf; text-decoration-color: #7fbfbf\">                    </span>         Omnibus:                   nan               Durbin-Watson:               <span style=\"color: #7f7f7f; text-decoration-color: #7f7f7f\">            </span>\n",
       "<span style=\"color: #7fbfbf; text-decoration-color: #7fbfbf\">                    </span>         <span style=\"color: #008080; text-decoration-color: #008080; font-weight: bold\">1.712</span>                                                                     <span style=\"color: #7f7f7f; text-decoration-color: #7f7f7f\">            </span>\n",
       "<span style=\"color: #7fbfbf; text-decoration-color: #7fbfbf\">                    </span>         <span style=\"color: #800080; text-decoration-color: #800080; font-weight: bold\">Prob</span><span style=\"font-weight: bold\">(</span>Omnibus<span style=\"font-weight: bold\">)</span>:             nan               Jarque-Bera <span style=\"font-weight: bold\">(</span>JB<span style=\"font-weight: bold\">)</span>:            <span style=\"color: #7f7f7f; text-decoration-color: #7f7f7f\">            </span>\n",
       "<span style=\"color: #7fbfbf; text-decoration-color: #7fbfbf\">                    </span>         <span style=\"color: #008080; text-decoration-color: #008080; font-weight: bold\">0.710</span>                                                                     <span style=\"color: #7f7f7f; text-decoration-color: #7f7f7f\">            </span>\n",
       "<span style=\"color: #7fbfbf; text-decoration-color: #7fbfbf\">                    </span>         Skew:                      <span style=\"color: #008080; text-decoration-color: #008080; font-weight: bold\">0.912</span>             <span style=\"color: #800080; text-decoration-color: #800080; font-weight: bold\">Prob</span><span style=\"font-weight: bold\">(</span>JB<span style=\"font-weight: bold\">)</span>:                    <span style=\"color: #7f7f7f; text-decoration-color: #7f7f7f\">            </span>\n",
       "<span style=\"color: #7fbfbf; text-decoration-color: #7fbfbf\">                    </span>         <span style=\"color: #008080; text-decoration-color: #008080; font-weight: bold\">0.701</span>                                                                     <span style=\"color: #7f7f7f; text-decoration-color: #7f7f7f\">            </span>\n",
       "<span style=\"color: #7fbfbf; text-decoration-color: #7fbfbf\">                    </span>         Kurtosis:                  <span style=\"color: #008080; text-decoration-color: #008080; font-weight: bold\">2.715</span>             Condition No.:               <span style=\"color: #7f7f7f; text-decoration-color: #7f7f7f\">            </span>\n",
       "<span style=\"color: #7fbfbf; text-decoration-color: #7fbfbf\">                    </span>         <span style=\"color: #008080; text-decoration-color: #008080; font-weight: bold\">1</span>                                                                         <span style=\"color: #7f7f7f; text-decoration-color: #7f7f7f\">            </span>\n",
       "<span style=\"color: #7fbfbf; text-decoration-color: #7fbfbf\">                    </span>         ========================================================================= <span style=\"color: #7f7f7f; text-decoration-color: #7f7f7f\">            </span>\n",
       "<span style=\"color: #7fbfbf; text-decoration-color: #7fbfbf\">                    </span>         =======                                                                   <span style=\"color: #7f7f7f; text-decoration-color: #7f7f7f\">            </span>\n",
       "<span style=\"color: #7fbfbf; text-decoration-color: #7fbfbf\">                    </span>         Notes:                                                                    <span style=\"color: #7f7f7f; text-decoration-color: #7f7f7f\">            </span>\n",
       "<span style=\"color: #7fbfbf; text-decoration-color: #7fbfbf\">                    </span>         <span style=\"font-weight: bold\">[</span><span style=\"color: #008080; text-decoration-color: #008080; font-weight: bold\">1</span><span style=\"font-weight: bold\">]</span> R² is computed without centering <span style=\"font-weight: bold\">(</span>uncentered<span style=\"font-weight: bold\">)</span> since the               <span style=\"color: #7f7f7f; text-decoration-color: #7f7f7f\">            </span>\n",
       "<span style=\"color: #7fbfbf; text-decoration-color: #7fbfbf\">                    </span>         model does not contain a constant.                                        <span style=\"color: #7f7f7f; text-decoration-color: #7f7f7f\">            </span>\n",
       "<span style=\"color: #7fbfbf; text-decoration-color: #7fbfbf\">                    </span>         <span style=\"font-weight: bold\">[</span><span style=\"color: #008080; text-decoration-color: #008080; font-weight: bold\">2</span><span style=\"font-weight: bold\">]</span> Standard Errors assume that the covariance matrix of the errors is    <span style=\"color: #7f7f7f; text-decoration-color: #7f7f7f\">            </span>\n",
       "<span style=\"color: #7fbfbf; text-decoration-color: #7fbfbf\">                    </span>         correctly                                                                 <span style=\"color: #7f7f7f; text-decoration-color: #7f7f7f\">            </span>\n",
       "<span style=\"color: #7fbfbf; text-decoration-color: #7fbfbf\">                    </span>         specified.                                                                <span style=\"color: #7f7f7f; text-decoration-color: #7f7f7f\">            </span>\n",
       "</pre>\n"
      ],
      "text/plain": [
       "\u001b[2;36m                   \u001b[0m\u001b[2;36m \u001b[0m\u001b[34mINFO    \u001b[0m                         Results: Ordinary least squares                   \u001b]8;id=888309;file:///home/maa/dev/PHD/src/phd/pipelines/regression_VCT/nodes.py\u001b\\\u001b[2mnodes.py\u001b[0m\u001b]8;;\u001b\\\u001b[2m:\u001b[0m\u001b]8;id=873219;file:///home/maa/dev/PHD/src/phd/pipelines/regression_VCT/nodes.py#665\u001b\\\u001b[2m665\u001b[0m\u001b]8;;\u001b\\\n",
       "\u001b[2;36m                    \u001b[0m         ========================================================================= \u001b[2m            \u001b[0m\n",
       "\u001b[2;36m                    \u001b[0m         =======                                                                   \u001b[2m            \u001b[0m\n",
       "\u001b[2;36m                    \u001b[0m         Model:                  OLS              Adj. R-squared \u001b[1m(\u001b[0muncentered\u001b[1m)\u001b[0m:     \u001b[2m            \u001b[0m\n",
       "\u001b[2;36m                    \u001b[0m         \u001b[1;36m0.981\u001b[0m                                                                     \u001b[2m            \u001b[0m\n",
       "\u001b[2;36m                    \u001b[0m         Dependent Variable:     N_H              AIC:                             \u001b[2m            \u001b[0m\n",
       "\u001b[2;36m                    \u001b[0m         \u001b[1;36m-75.7241\u001b[0m                                                                  \u001b[2m            \u001b[0m\n",
       "\u001b[2;36m                    \u001b[0m         Date:                   \u001b[1;36m2024\u001b[0m-\u001b[1;36m02\u001b[0m-\u001b[1;36m07\u001b[0m \u001b[1;92m15:39\u001b[0m BIC:                             \u001b[2m            \u001b[0m\n",
       "\u001b[2;36m                    \u001b[0m         \u001b[1;36m-76.1147\u001b[0m                                                                  \u001b[2m            \u001b[0m\n",
       "\u001b[2;36m                    \u001b[0m         No. Observations:       \u001b[1;36m5\u001b[0m                Log-Likelihood:                  \u001b[2m            \u001b[0m\n",
       "\u001b[2;36m                    \u001b[0m         \u001b[1;36m38.862\u001b[0m                                                                    \u001b[2m            \u001b[0m\n",
       "\u001b[2;36m                    \u001b[0m         Df Model:               \u001b[1;36m1\u001b[0m                F-statistic:                     \u001b[2m            \u001b[0m\n",
       "\u001b[2;36m                    \u001b[0m         \u001b[1;36m258.1\u001b[0m                                                                     \u001b[2m            \u001b[0m\n",
       "\u001b[2;36m                    \u001b[0m         Df Residuals:           \u001b[1;36m4\u001b[0m                Prob \u001b[1m(\u001b[0mF-statistic\u001b[1m)\u001b[0m:              \u001b[2m            \u001b[0m\n",
       "\u001b[2;36m                    \u001b[0m         \u001b[1;36m8.78e-05\u001b[0m                                                                  \u001b[2m            \u001b[0m\n",
       "\u001b[2;36m                    \u001b[0m         R-squared \u001b[1m(\u001b[0muncentered\u001b[1m)\u001b[0m: \u001b[1;36m0.985\u001b[0m            Scale:                           \u001b[2m            \u001b[0m\n",
       "\u001b[2;36m                    \u001b[0m         \u001b[1;36m1.2984e-08\u001b[0m                                                                \u001b[2m            \u001b[0m\n",
       "\u001b[2;36m                    \u001b[0m         ------------------------------------------------------------------------- \u001b[2m            \u001b[0m\n",
       "\u001b[2;36m                    \u001b[0m         ------------                                                              \u001b[2m            \u001b[0m\n",
       "\u001b[2;36m                    \u001b[0m                      Coef.       Std.Err.         t          P>|t|        \u001b[1m[\u001b[0m\u001b[1;36m0.025\u001b[0m  \u001b[2m            \u001b[0m\n",
       "\u001b[2;36m                    \u001b[0m         \u001b[1;36m0.975\u001b[0m\u001b[1m]\u001b[0m                                                                    \u001b[2m            \u001b[0m\n",
       "\u001b[2;36m                    \u001b[0m         ------------------------------------------------------------------------- \u001b[2m            \u001b[0m\n",
       "\u001b[2;36m                    \u001b[0m         ------------                                                              \u001b[2m            \u001b[0m\n",
       "\u001b[2;36m                    \u001b[0m         Nv          \u001b[1;36m-0.0039\u001b[0m        \u001b[1;36m0.0002\u001b[0m      \u001b[1;36m-16.0658\u001b[0m      \u001b[1;36m0.0001\u001b[0m      \u001b[1;36m-0.0046\u001b[0m  \u001b[2m            \u001b[0m\n",
       "\u001b[2;36m                    \u001b[0m         \u001b[1;36m-0.0032\u001b[0m                                                                   \u001b[2m            \u001b[0m\n",
       "\u001b[2;36m                    \u001b[0m         ------------------------------------------------------------------------- \u001b[2m            \u001b[0m\n",
       "\u001b[2;36m                    \u001b[0m         -------                                                                   \u001b[2m            \u001b[0m\n",
       "\u001b[2;36m                    \u001b[0m         Omnibus:                   nan               Durbin-Watson:               \u001b[2m            \u001b[0m\n",
       "\u001b[2;36m                    \u001b[0m         \u001b[1;36m1.712\u001b[0m                                                                     \u001b[2m            \u001b[0m\n",
       "\u001b[2;36m                    \u001b[0m         \u001b[1;35mProb\u001b[0m\u001b[1m(\u001b[0mOmnibus\u001b[1m)\u001b[0m:             nan               Jarque-Bera \u001b[1m(\u001b[0mJB\u001b[1m)\u001b[0m:            \u001b[2m            \u001b[0m\n",
       "\u001b[2;36m                    \u001b[0m         \u001b[1;36m0.710\u001b[0m                                                                     \u001b[2m            \u001b[0m\n",
       "\u001b[2;36m                    \u001b[0m         Skew:                      \u001b[1;36m0.912\u001b[0m             \u001b[1;35mProb\u001b[0m\u001b[1m(\u001b[0mJB\u001b[1m)\u001b[0m:                    \u001b[2m            \u001b[0m\n",
       "\u001b[2;36m                    \u001b[0m         \u001b[1;36m0.701\u001b[0m                                                                     \u001b[2m            \u001b[0m\n",
       "\u001b[2;36m                    \u001b[0m         Kurtosis:                  \u001b[1;36m2.715\u001b[0m             Condition No.:               \u001b[2m            \u001b[0m\n",
       "\u001b[2;36m                    \u001b[0m         \u001b[1;36m1\u001b[0m                                                                         \u001b[2m            \u001b[0m\n",
       "\u001b[2;36m                    \u001b[0m         ========================================================================= \u001b[2m            \u001b[0m\n",
       "\u001b[2;36m                    \u001b[0m         =======                                                                   \u001b[2m            \u001b[0m\n",
       "\u001b[2;36m                    \u001b[0m         Notes:                                                                    \u001b[2m            \u001b[0m\n",
       "\u001b[2;36m                    \u001b[0m         \u001b[1m[\u001b[0m\u001b[1;36m1\u001b[0m\u001b[1m]\u001b[0m R² is computed without centering \u001b[1m(\u001b[0muncentered\u001b[1m)\u001b[0m since the               \u001b[2m            \u001b[0m\n",
       "\u001b[2;36m                    \u001b[0m         model does not contain a constant.                                        \u001b[2m            \u001b[0m\n",
       "\u001b[2;36m                    \u001b[0m         \u001b[1m[\u001b[0m\u001b[1;36m2\u001b[0m\u001b[1m]\u001b[0m Standard Errors assume that the covariance matrix of the errors is    \u001b[2m            \u001b[0m\n",
       "\u001b[2;36m                    \u001b[0m         correctly                                                                 \u001b[2m            \u001b[0m\n",
       "\u001b[2;36m                    \u001b[0m         specified.                                                                \u001b[2m            \u001b[0m\n"
      ]
     },
     "metadata": {},
     "output_type": "display_data"
    },
    {
     "data": {
      "text/html": [
       "<pre style=\"white-space:pre;overflow-x:auto;line-height:normal;font-family:Menlo,'DejaVu Sans Mono',consolas,'Courier New',monospace\"><span style=\"color: #7fbfbf; text-decoration-color: #7fbfbf\">                    </span><span style=\"color: #000080; text-decoration-color: #000080\">INFO    </span> Regression:Circle fx                                                      <a href=\"file:///home/maa/dev/PHD/src/phd/pipelines/regression_VCT/nodes.py\" target=\"_blank\"><span style=\"color: #7f7f7f; text-decoration-color: #7f7f7f\">nodes.py</span></a><span style=\"color: #7f7f7f; text-decoration-color: #7f7f7f\">:</span><a href=\"file:///home/maa/dev/PHD/src/phd/pipelines/regression_VCT/nodes.py#662\" target=\"_blank\"><span style=\"color: #7f7f7f; text-decoration-color: #7f7f7f\">662</span></a>\n",
       "</pre>\n"
      ],
      "text/plain": [
       "\u001b[2;36m                   \u001b[0m\u001b[2;36m \u001b[0m\u001b[34mINFO    \u001b[0m Regression:Circle fx                                                      \u001b]8;id=913953;file:///home/maa/dev/PHD/src/phd/pipelines/regression_VCT/nodes.py\u001b\\\u001b[2mnodes.py\u001b[0m\u001b]8;;\u001b\\\u001b[2m:\u001b[0m\u001b]8;id=987430;file:///home/maa/dev/PHD/src/phd/pipelines/regression_VCT/nodes.py#662\u001b\\\u001b[2m662\u001b[0m\u001b]8;;\u001b\\\n"
      ]
     },
     "metadata": {},
     "output_type": "display_data"
    },
    {
     "name": "stdout",
     "output_type": "stream",
     "text": [
      "                      2          \n",
      "X_H = X_{0} + X_{rr}⋅r  + X_{u}⋅u\n"
     ]
    },
    {
     "data": {
      "text/html": [
       "<pre style=\"white-space:pre;overflow-x:auto;line-height:normal;font-family:Menlo,'DejaVu Sans Mono',consolas,'Courier New',monospace\"><span style=\"color: #7fbfbf; text-decoration-color: #7fbfbf\">                    </span><span style=\"color: #000080; text-decoration-color: #000080\">INFO    </span> <span style=\"color: #800080; text-decoration-color: #800080; font-style: italic\">None</span>                                                                      <a href=\"file:///home/maa/dev/PHD/src/phd/pipelines/regression_VCT/nodes.py\" target=\"_blank\"><span style=\"color: #7f7f7f; text-decoration-color: #7f7f7f\">nodes.py</span></a><span style=\"color: #7f7f7f; text-decoration-color: #7f7f7f\">:</span><a href=\"file:///home/maa/dev/PHD/src/phd/pipelines/regression_VCT/nodes.py#663\" target=\"_blank\"><span style=\"color: #7f7f7f; text-decoration-color: #7f7f7f\">663</span></a>\n",
       "</pre>\n"
      ],
      "text/plain": [
       "\u001b[2;36m                   \u001b[0m\u001b[2;36m \u001b[0m\u001b[34mINFO    \u001b[0m \u001b[3;35mNone\u001b[0m                                                                      \u001b]8;id=424578;file:///home/maa/dev/PHD/src/phd/pipelines/regression_VCT/nodes.py\u001b\\\u001b[2mnodes.py\u001b[0m\u001b]8;;\u001b\\\u001b[2m:\u001b[0m\u001b]8;id=409892;file:///home/maa/dev/PHD/src/phd/pipelines/regression_VCT/nodes.py#663\u001b\\\u001b[2m663\u001b[0m\u001b]8;;\u001b\\\n"
      ]
     },
     "metadata": {},
     "output_type": "display_data"
    },
    {
     "data": {
      "text/html": [
       "<pre style=\"white-space:pre;overflow-x:auto;line-height:normal;font-family:Menlo,'DejaVu Sans Mono',consolas,'Courier New',monospace\"><span style=\"color: #7fbfbf; text-decoration-color: #7fbfbf\">                    </span><span style=\"color: #800000; text-decoration-color: #800000\">WARNING </span> <span style=\"color: #800080; text-decoration-color: #800080\">/home/maa/miniconda3/envs/phd/lib/python3.10/site-packages/statsmodels</span> <a href=\"file:///home/maa/miniconda3/envs/phd/lib/python3.10/warnings.py\" target=\"_blank\"><span style=\"color: #7f7f7f; text-decoration-color: #7f7f7f\">warnings.py</span></a><span style=\"color: #7f7f7f; text-decoration-color: #7f7f7f\">:</span><a href=\"file:///home/maa/miniconda3/envs/phd/lib/python3.10/warnings.py#109\" target=\"_blank\"><span style=\"color: #7f7f7f; text-decoration-color: #7f7f7f\">109</span></a>\n",
       "<span style=\"color: #7fbfbf; text-decoration-color: #7fbfbf\">                    </span>         <span style=\"color: #800080; text-decoration-color: #800080\">/stats/</span><span style=\"color: #ff00ff; text-decoration-color: #ff00ff\">stattools.py</span>:<span style=\"color: #008080; text-decoration-color: #008080; font-weight: bold\">74</span>: ValueWarning: omni_normtest is not valid with  <span style=\"color: #7f7f7f; text-decoration-color: #7f7f7f\">               </span>\n",
       "<span style=\"color: #7fbfbf; text-decoration-color: #7fbfbf\">                    </span>         less than <span style=\"color: #008080; text-decoration-color: #008080; font-weight: bold\">8</span> observations; <span style=\"color: #008080; text-decoration-color: #008080; font-weight: bold\">5</span> samples were given.                        <span style=\"color: #7f7f7f; text-decoration-color: #7f7f7f\">               </span>\n",
       "<span style=\"color: #7fbfbf; text-decoration-color: #7fbfbf\">                    </span>           <span style=\"color: #800080; text-decoration-color: #800080; font-weight: bold\">warn</span><span style=\"font-weight: bold\">(</span><span style=\"color: #008000; text-decoration-color: #008000\">\"omni_normtest is not valid with less than 8 observations; %i \"</span> <span style=\"color: #7f7f7f; text-decoration-color: #7f7f7f\">               </span>\n",
       "<span style=\"color: #7fbfbf; text-decoration-color: #7fbfbf\">                    </span>                                                                                <span style=\"color: #7f7f7f; text-decoration-color: #7f7f7f\">               </span>\n",
       "</pre>\n"
      ],
      "text/plain": [
       "\u001b[2;36m                   \u001b[0m\u001b[2;36m \u001b[0m\u001b[31mWARNING \u001b[0m \u001b[35m/home/maa/miniconda3/envs/phd/lib/python3.10/site-packages/statsmodels\u001b[0m \u001b]8;id=149617;file:///home/maa/miniconda3/envs/phd/lib/python3.10/warnings.py\u001b\\\u001b[2mwarnings.py\u001b[0m\u001b]8;;\u001b\\\u001b[2m:\u001b[0m\u001b]8;id=729174;file:///home/maa/miniconda3/envs/phd/lib/python3.10/warnings.py#109\u001b\\\u001b[2m109\u001b[0m\u001b]8;;\u001b\\\n",
       "\u001b[2;36m                    \u001b[0m         \u001b[35m/stats/\u001b[0m\u001b[95mstattools.py\u001b[0m:\u001b[1;36m74\u001b[0m: ValueWarning: omni_normtest is not valid with  \u001b[2m               \u001b[0m\n",
       "\u001b[2;36m                    \u001b[0m         less than \u001b[1;36m8\u001b[0m observations; \u001b[1;36m5\u001b[0m samples were given.                        \u001b[2m               \u001b[0m\n",
       "\u001b[2;36m                    \u001b[0m           \u001b[1;35mwarn\u001b[0m\u001b[1m(\u001b[0m\u001b[32m\"omni_normtest is not valid with less than 8 observations; %i \"\u001b[0m \u001b[2m               \u001b[0m\n",
       "\u001b[2;36m                    \u001b[0m                                                                                \u001b[2m               \u001b[0m\n"
      ]
     },
     "metadata": {},
     "output_type": "display_data"
    },
    {
     "data": {
      "text/html": [
       "<pre style=\"white-space:pre;overflow-x:auto;line-height:normal;font-family:Menlo,'DejaVu Sans Mono',consolas,'Courier New',monospace\"><span style=\"color: #7fbfbf; text-decoration-color: #7fbfbf\">                    </span><span style=\"color: #000080; text-decoration-color: #000080\">INFO    </span>                   Results: Ordinary least squares                         <a href=\"file:///home/maa/dev/PHD/src/phd/pipelines/regression_VCT/nodes.py\" target=\"_blank\"><span style=\"color: #7f7f7f; text-decoration-color: #7f7f7f\">nodes.py</span></a><span style=\"color: #7f7f7f; text-decoration-color: #7f7f7f\">:</span><a href=\"file:///home/maa/dev/PHD/src/phd/pipelines/regression_VCT/nodes.py#665\" target=\"_blank\"><span style=\"color: #7f7f7f; text-decoration-color: #7f7f7f\">665</span></a>\n",
       "<span style=\"color: #7fbfbf; text-decoration-color: #7fbfbf\">                    </span>         ===================================================================       <span style=\"color: #7f7f7f; text-decoration-color: #7f7f7f\">            </span>\n",
       "<span style=\"color: #7fbfbf; text-decoration-color: #7fbfbf\">                    </span>         Model:              OLS              Adj. R-squared:     <span style=\"color: #008080; text-decoration-color: #008080; font-weight: bold\">0.955</span>            <span style=\"color: #7f7f7f; text-decoration-color: #7f7f7f\">            </span>\n",
       "<span style=\"color: #7fbfbf; text-decoration-color: #7fbfbf\">                    </span>         Dependent Variable: X_H              AIC:                <span style=\"color: #008080; text-decoration-color: #008080; font-weight: bold\">-90.4591</span>         <span style=\"color: #7f7f7f; text-decoration-color: #7f7f7f\">            </span>\n",
       "<span style=\"color: #7fbfbf; text-decoration-color: #7fbfbf\">                    </span>         Date:               <span style=\"color: #008080; text-decoration-color: #008080; font-weight: bold\">2024</span>-<span style=\"color: #008080; text-decoration-color: #008080; font-weight: bold\">02</span>-<span style=\"color: #008080; text-decoration-color: #008080; font-weight: bold\">07</span> <span style=\"color: #00ff00; text-decoration-color: #00ff00; font-weight: bold\">15:39</span> BIC:                <span style=\"color: #008080; text-decoration-color: #008080; font-weight: bold\">-91.2402</span>         <span style=\"color: #7f7f7f; text-decoration-color: #7f7f7f\">            </span>\n",
       "<span style=\"color: #7fbfbf; text-decoration-color: #7fbfbf\">                    </span>         No. Observations:   <span style=\"color: #008080; text-decoration-color: #008080; font-weight: bold\">5</span>                Log-Likelihood:     <span style=\"color: #008080; text-decoration-color: #008080; font-weight: bold\">47.230</span>           <span style=\"color: #7f7f7f; text-decoration-color: #7f7f7f\">            </span>\n",
       "<span style=\"color: #7fbfbf; text-decoration-color: #7fbfbf\">                    </span>         Df Model:           <span style=\"color: #008080; text-decoration-color: #008080; font-weight: bold\">1</span>                F-statistic:        <span style=\"color: #008080; text-decoration-color: #008080; font-weight: bold\">86.16</span>            <span style=\"color: #7f7f7f; text-decoration-color: #7f7f7f\">            </span>\n",
       "<span style=\"color: #7fbfbf; text-decoration-color: #7fbfbf\">                    </span>         Df Residuals:       <span style=\"color: #008080; text-decoration-color: #008080; font-weight: bold\">3</span>                Prob <span style=\"font-weight: bold\">(</span>F-statistic<span style=\"font-weight: bold\">)</span>: <span style=\"color: #008080; text-decoration-color: #008080; font-weight: bold\">0.00265</span>          <span style=\"color: #7f7f7f; text-decoration-color: #7f7f7f\">            </span>\n",
       "<span style=\"color: #7fbfbf; text-decoration-color: #7fbfbf\">                    </span>         R-squared:          <span style=\"color: #008080; text-decoration-color: #008080; font-weight: bold\">0.966</span>            Scale:              <span style=\"color: #008080; text-decoration-color: #008080; font-weight: bold\">6.0920e-10</span>       <span style=\"color: #7f7f7f; text-decoration-color: #7f7f7f\">            </span>\n",
       "<span style=\"color: #7fbfbf; text-decoration-color: #7fbfbf\">                    </span>         ---------------------------------------------------------------------     <span style=\"color: #7f7f7f; text-decoration-color: #7f7f7f\">            </span>\n",
       "<span style=\"color: #7fbfbf; text-decoration-color: #7fbfbf\">                    </span>                      Coef.    Std.Err.      t      P&gt;|t|     <span style=\"font-weight: bold\">[</span><span style=\"color: #008080; text-decoration-color: #008080; font-weight: bold\">0.025</span>    <span style=\"color: #008080; text-decoration-color: #008080; font-weight: bold\">0.975</span><span style=\"font-weight: bold\">]</span>     <span style=\"color: #7f7f7f; text-decoration-color: #7f7f7f\">            </span>\n",
       "<span style=\"color: #7fbfbf; text-decoration-color: #7fbfbf\">                    </span>         ---------------------------------------------------------------------     <span style=\"color: #7f7f7f; text-decoration-color: #7f7f7f\">            </span>\n",
       "<span style=\"color: #7fbfbf; text-decoration-color: #7fbfbf\">                    </span>         Xrr         <span style=\"color: #008080; text-decoration-color: #008080; font-weight: bold\">-0.0007</span>     <span style=\"color: #008080; text-decoration-color: #008080; font-weight: bold\">0.0001</span>   <span style=\"color: #008080; text-decoration-color: #008080; font-weight: bold\">-9.2825</span>   <span style=\"color: #008080; text-decoration-color: #008080; font-weight: bold\">0.0026</span>   <span style=\"color: #008080; text-decoration-color: #008080; font-weight: bold\">-0.0009</span>   <span style=\"color: #008080; text-decoration-color: #008080; font-weight: bold\">-0.0004</span>     <span style=\"color: #7f7f7f; text-decoration-color: #7f7f7f\">            </span>\n",
       "<span style=\"color: #7fbfbf; text-decoration-color: #7fbfbf\">                    </span>         const        <span style=\"color: #008080; text-decoration-color: #008080; font-weight: bold\">0.0000</span>     <span style=\"color: #008080; text-decoration-color: #008080; font-weight: bold\">0.0000</span>    <span style=\"color: #008080; text-decoration-color: #008080; font-weight: bold\">1.0544</span>   <span style=\"color: #008080; text-decoration-color: #008080; font-weight: bold\">0.3691</span>   <span style=\"color: #008080; text-decoration-color: #008080; font-weight: bold\">-0.0000</span>    <span style=\"color: #008080; text-decoration-color: #008080; font-weight: bold\">0.0001</span>     <span style=\"color: #7f7f7f; text-decoration-color: #7f7f7f\">            </span>\n",
       "<span style=\"color: #7fbfbf; text-decoration-color: #7fbfbf\">                    </span>         -------------------------------------------------------------------       <span style=\"color: #7f7f7f; text-decoration-color: #7f7f7f\">            </span>\n",
       "<span style=\"color: #7fbfbf; text-decoration-color: #7fbfbf\">                    </span>         Omnibus:                nan          Durbin-Watson:           <span style=\"color: #008080; text-decoration-color: #008080; font-weight: bold\">1.772</span>       <span style=\"color: #7f7f7f; text-decoration-color: #7f7f7f\">            </span>\n",
       "<span style=\"color: #7fbfbf; text-decoration-color: #7fbfbf\">                    </span>         <span style=\"color: #800080; text-decoration-color: #800080; font-weight: bold\">Prob</span><span style=\"font-weight: bold\">(</span>Omnibus<span style=\"font-weight: bold\">)</span>:          nan          Jarque-Bera <span style=\"font-weight: bold\">(</span>JB<span style=\"font-weight: bold\">)</span>:        <span style=\"color: #008080; text-decoration-color: #008080; font-weight: bold\">0.410</span>       <span style=\"color: #7f7f7f; text-decoration-color: #7f7f7f\">            </span>\n",
       "<span style=\"color: #7fbfbf; text-decoration-color: #7fbfbf\">                    </span>         Skew:                   <span style=\"color: #008080; text-decoration-color: #008080; font-weight: bold\">0.192</span>        <span style=\"color: #800080; text-decoration-color: #800080; font-weight: bold\">Prob</span><span style=\"font-weight: bold\">(</span>JB<span style=\"font-weight: bold\">)</span>:                <span style=\"color: #008080; text-decoration-color: #008080; font-weight: bold\">0.815</span>       <span style=\"color: #7f7f7f; text-decoration-color: #7f7f7f\">            </span>\n",
       "<span style=\"color: #7fbfbf; text-decoration-color: #7fbfbf\">                    </span>         Kurtosis:               <span style=\"color: #008080; text-decoration-color: #008080; font-weight: bold\">1.650</span>        Condition No.:           <span style=\"color: #008080; text-decoration-color: #008080; font-weight: bold\">7</span>           <span style=\"color: #7f7f7f; text-decoration-color: #7f7f7f\">            </span>\n",
       "<span style=\"color: #7fbfbf; text-decoration-color: #7fbfbf\">                    </span>         ===================================================================       <span style=\"color: #7f7f7f; text-decoration-color: #7f7f7f\">            </span>\n",
       "<span style=\"color: #7fbfbf; text-decoration-color: #7fbfbf\">                    </span>         Notes:                                                                    <span style=\"color: #7f7f7f; text-decoration-color: #7f7f7f\">            </span>\n",
       "<span style=\"color: #7fbfbf; text-decoration-color: #7fbfbf\">                    </span>         <span style=\"font-weight: bold\">[</span><span style=\"color: #008080; text-decoration-color: #008080; font-weight: bold\">1</span><span style=\"font-weight: bold\">]</span> Standard Errors assume that the covariance matrix of the errors       <span style=\"color: #7f7f7f; text-decoration-color: #7f7f7f\">            </span>\n",
       "<span style=\"color: #7fbfbf; text-decoration-color: #7fbfbf\">                    </span>         is correctly specified.                                                   <span style=\"color: #7f7f7f; text-decoration-color: #7f7f7f\">            </span>\n",
       "</pre>\n"
      ],
      "text/plain": [
       "\u001b[2;36m                   \u001b[0m\u001b[2;36m \u001b[0m\u001b[34mINFO    \u001b[0m                   Results: Ordinary least squares                         \u001b]8;id=948075;file:///home/maa/dev/PHD/src/phd/pipelines/regression_VCT/nodes.py\u001b\\\u001b[2mnodes.py\u001b[0m\u001b]8;;\u001b\\\u001b[2m:\u001b[0m\u001b]8;id=468147;file:///home/maa/dev/PHD/src/phd/pipelines/regression_VCT/nodes.py#665\u001b\\\u001b[2m665\u001b[0m\u001b]8;;\u001b\\\n",
       "\u001b[2;36m                    \u001b[0m         ===================================================================       \u001b[2m            \u001b[0m\n",
       "\u001b[2;36m                    \u001b[0m         Model:              OLS              Adj. R-squared:     \u001b[1;36m0.955\u001b[0m            \u001b[2m            \u001b[0m\n",
       "\u001b[2;36m                    \u001b[0m         Dependent Variable: X_H              AIC:                \u001b[1;36m-90.4591\u001b[0m         \u001b[2m            \u001b[0m\n",
       "\u001b[2;36m                    \u001b[0m         Date:               \u001b[1;36m2024\u001b[0m-\u001b[1;36m02\u001b[0m-\u001b[1;36m07\u001b[0m \u001b[1;92m15:39\u001b[0m BIC:                \u001b[1;36m-91.2402\u001b[0m         \u001b[2m            \u001b[0m\n",
       "\u001b[2;36m                    \u001b[0m         No. Observations:   \u001b[1;36m5\u001b[0m                Log-Likelihood:     \u001b[1;36m47.230\u001b[0m           \u001b[2m            \u001b[0m\n",
       "\u001b[2;36m                    \u001b[0m         Df Model:           \u001b[1;36m1\u001b[0m                F-statistic:        \u001b[1;36m86.16\u001b[0m            \u001b[2m            \u001b[0m\n",
       "\u001b[2;36m                    \u001b[0m         Df Residuals:       \u001b[1;36m3\u001b[0m                Prob \u001b[1m(\u001b[0mF-statistic\u001b[1m)\u001b[0m: \u001b[1;36m0.00265\u001b[0m          \u001b[2m            \u001b[0m\n",
       "\u001b[2;36m                    \u001b[0m         R-squared:          \u001b[1;36m0.966\u001b[0m            Scale:              \u001b[1;36m6.0920e-10\u001b[0m       \u001b[2m            \u001b[0m\n",
       "\u001b[2;36m                    \u001b[0m         ---------------------------------------------------------------------     \u001b[2m            \u001b[0m\n",
       "\u001b[2;36m                    \u001b[0m                      Coef.    Std.Err.      t      P>|t|     \u001b[1m[\u001b[0m\u001b[1;36m0.025\u001b[0m    \u001b[1;36m0.975\u001b[0m\u001b[1m]\u001b[0m     \u001b[2m            \u001b[0m\n",
       "\u001b[2;36m                    \u001b[0m         ---------------------------------------------------------------------     \u001b[2m            \u001b[0m\n",
       "\u001b[2;36m                    \u001b[0m         Xrr         \u001b[1;36m-0.0007\u001b[0m     \u001b[1;36m0.0001\u001b[0m   \u001b[1;36m-9.2825\u001b[0m   \u001b[1;36m0.0026\u001b[0m   \u001b[1;36m-0.0009\u001b[0m   \u001b[1;36m-0.0004\u001b[0m     \u001b[2m            \u001b[0m\n",
       "\u001b[2;36m                    \u001b[0m         const        \u001b[1;36m0.0000\u001b[0m     \u001b[1;36m0.0000\u001b[0m    \u001b[1;36m1.0544\u001b[0m   \u001b[1;36m0.3691\u001b[0m   \u001b[1;36m-0.0000\u001b[0m    \u001b[1;36m0.0001\u001b[0m     \u001b[2m            \u001b[0m\n",
       "\u001b[2;36m                    \u001b[0m         -------------------------------------------------------------------       \u001b[2m            \u001b[0m\n",
       "\u001b[2;36m                    \u001b[0m         Omnibus:                nan          Durbin-Watson:           \u001b[1;36m1.772\u001b[0m       \u001b[2m            \u001b[0m\n",
       "\u001b[2;36m                    \u001b[0m         \u001b[1;35mProb\u001b[0m\u001b[1m(\u001b[0mOmnibus\u001b[1m)\u001b[0m:          nan          Jarque-Bera \u001b[1m(\u001b[0mJB\u001b[1m)\u001b[0m:        \u001b[1;36m0.410\u001b[0m       \u001b[2m            \u001b[0m\n",
       "\u001b[2;36m                    \u001b[0m         Skew:                   \u001b[1;36m0.192\u001b[0m        \u001b[1;35mProb\u001b[0m\u001b[1m(\u001b[0mJB\u001b[1m)\u001b[0m:                \u001b[1;36m0.815\u001b[0m       \u001b[2m            \u001b[0m\n",
       "\u001b[2;36m                    \u001b[0m         Kurtosis:               \u001b[1;36m1.650\u001b[0m        Condition No.:           \u001b[1;36m7\u001b[0m           \u001b[2m            \u001b[0m\n",
       "\u001b[2;36m                    \u001b[0m         ===================================================================       \u001b[2m            \u001b[0m\n",
       "\u001b[2;36m                    \u001b[0m         Notes:                                                                    \u001b[2m            \u001b[0m\n",
       "\u001b[2;36m                    \u001b[0m         \u001b[1m[\u001b[0m\u001b[1;36m1\u001b[0m\u001b[1m]\u001b[0m Standard Errors assume that the covariance matrix of the errors       \u001b[2m            \u001b[0m\n",
       "\u001b[2;36m                    \u001b[0m         is correctly specified.                                                   \u001b[2m            \u001b[0m\n"
      ]
     },
     "metadata": {},
     "output_type": "display_data"
    },
    {
     "data": {
      "text/html": [
       "<pre style=\"white-space:pre;overflow-x:auto;line-height:normal;font-family:Menlo,'DejaVu Sans Mono',consolas,'Courier New',monospace\"><span style=\"color: #7fbfbf; text-decoration-color: #7fbfbf\">                    </span><span style=\"color: #000080; text-decoration-color: #000080\">INFO    </span> Regression:Circle mz                                                      <a href=\"file:///home/maa/dev/PHD/src/phd/pipelines/regression_VCT/nodes.py\" target=\"_blank\"><span style=\"color: #7f7f7f; text-decoration-color: #7f7f7f\">nodes.py</span></a><span style=\"color: #7f7f7f; text-decoration-color: #7f7f7f\">:</span><a href=\"file:///home/maa/dev/PHD/src/phd/pipelines/regression_VCT/nodes.py#662\" target=\"_blank\"><span style=\"color: #7f7f7f; text-decoration-color: #7f7f7f\">662</span></a>\n",
       "</pre>\n"
      ],
      "text/plain": [
       "\u001b[2;36m                   \u001b[0m\u001b[2;36m \u001b[0m\u001b[34mINFO    \u001b[0m Regression:Circle mz                                                      \u001b]8;id=544107;file:///home/maa/dev/PHD/src/phd/pipelines/regression_VCT/nodes.py\u001b\\\u001b[2mnodes.py\u001b[0m\u001b]8;;\u001b\\\u001b[2m:\u001b[0m\u001b]8;id=559024;file:///home/maa/dev/PHD/src/phd/pipelines/regression_VCT/nodes.py#662\u001b\\\u001b[2m662\u001b[0m\u001b]8;;\u001b\\\n"
      ]
     },
     "metadata": {},
     "output_type": "display_data"
    },
    {
     "name": "stdout",
     "output_type": "stream",
     "text": [
      "                       3          \n",
      "N_H = N_{0} + N_{rrr}⋅r  + N_{r}⋅r\n"
     ]
    },
    {
     "data": {
      "text/html": [
       "<pre style=\"white-space:pre;overflow-x:auto;line-height:normal;font-family:Menlo,'DejaVu Sans Mono',consolas,'Courier New',monospace\"><span style=\"color: #7fbfbf; text-decoration-color: #7fbfbf\">                    </span><span style=\"color: #000080; text-decoration-color: #000080\">INFO    </span> <span style=\"color: #800080; text-decoration-color: #800080; font-style: italic\">None</span>                                                                      <a href=\"file:///home/maa/dev/PHD/src/phd/pipelines/regression_VCT/nodes.py\" target=\"_blank\"><span style=\"color: #7f7f7f; text-decoration-color: #7f7f7f\">nodes.py</span></a><span style=\"color: #7f7f7f; text-decoration-color: #7f7f7f\">:</span><a href=\"file:///home/maa/dev/PHD/src/phd/pipelines/regression_VCT/nodes.py#663\" target=\"_blank\"><span style=\"color: #7f7f7f; text-decoration-color: #7f7f7f\">663</span></a>\n",
       "</pre>\n"
      ],
      "text/plain": [
       "\u001b[2;36m                   \u001b[0m\u001b[2;36m \u001b[0m\u001b[34mINFO    \u001b[0m \u001b[3;35mNone\u001b[0m                                                                      \u001b]8;id=415878;file:///home/maa/dev/PHD/src/phd/pipelines/regression_VCT/nodes.py\u001b\\\u001b[2mnodes.py\u001b[0m\u001b]8;;\u001b\\\u001b[2m:\u001b[0m\u001b]8;id=696038;file:///home/maa/dev/PHD/src/phd/pipelines/regression_VCT/nodes.py#663\u001b\\\u001b[2m663\u001b[0m\u001b]8;;\u001b\\\n"
      ]
     },
     "metadata": {},
     "output_type": "display_data"
    },
    {
     "data": {
      "text/html": [
       "<pre style=\"white-space:pre;overflow-x:auto;line-height:normal;font-family:Menlo,'DejaVu Sans Mono',consolas,'Courier New',monospace\"><span style=\"color: #7fbfbf; text-decoration-color: #7fbfbf\">                    </span><span style=\"color: #800000; text-decoration-color: #800000\">WARNING </span> <span style=\"color: #800080; text-decoration-color: #800080\">/home/maa/miniconda3/envs/phd/lib/python3.10/site-packages/statsmodels</span> <a href=\"file:///home/maa/miniconda3/envs/phd/lib/python3.10/warnings.py\" target=\"_blank\"><span style=\"color: #7f7f7f; text-decoration-color: #7f7f7f\">warnings.py</span></a><span style=\"color: #7f7f7f; text-decoration-color: #7f7f7f\">:</span><a href=\"file:///home/maa/miniconda3/envs/phd/lib/python3.10/warnings.py#109\" target=\"_blank\"><span style=\"color: #7f7f7f; text-decoration-color: #7f7f7f\">109</span></a>\n",
       "<span style=\"color: #7fbfbf; text-decoration-color: #7fbfbf\">                    </span>         <span style=\"color: #800080; text-decoration-color: #800080\">/stats/</span><span style=\"color: #ff00ff; text-decoration-color: #ff00ff\">stattools.py</span>:<span style=\"color: #008080; text-decoration-color: #008080; font-weight: bold\">74</span>: ValueWarning: omni_normtest is not valid with  <span style=\"color: #7f7f7f; text-decoration-color: #7f7f7f\">               </span>\n",
       "<span style=\"color: #7fbfbf; text-decoration-color: #7fbfbf\">                    </span>         less than <span style=\"color: #008080; text-decoration-color: #008080; font-weight: bold\">8</span> observations; <span style=\"color: #008080; text-decoration-color: #008080; font-weight: bold\">5</span> samples were given.                        <span style=\"color: #7f7f7f; text-decoration-color: #7f7f7f\">               </span>\n",
       "<span style=\"color: #7fbfbf; text-decoration-color: #7fbfbf\">                    </span>           <span style=\"color: #800080; text-decoration-color: #800080; font-weight: bold\">warn</span><span style=\"font-weight: bold\">(</span><span style=\"color: #008000; text-decoration-color: #008000\">\"omni_normtest is not valid with less than 8 observations; %i \"</span> <span style=\"color: #7f7f7f; text-decoration-color: #7f7f7f\">               </span>\n",
       "<span style=\"color: #7fbfbf; text-decoration-color: #7fbfbf\">                    </span>                                                                                <span style=\"color: #7f7f7f; text-decoration-color: #7f7f7f\">               </span>\n",
       "</pre>\n"
      ],
      "text/plain": [
       "\u001b[2;36m                   \u001b[0m\u001b[2;36m \u001b[0m\u001b[31mWARNING \u001b[0m \u001b[35m/home/maa/miniconda3/envs/phd/lib/python3.10/site-packages/statsmodels\u001b[0m \u001b]8;id=67912;file:///home/maa/miniconda3/envs/phd/lib/python3.10/warnings.py\u001b\\\u001b[2mwarnings.py\u001b[0m\u001b]8;;\u001b\\\u001b[2m:\u001b[0m\u001b]8;id=572005;file:///home/maa/miniconda3/envs/phd/lib/python3.10/warnings.py#109\u001b\\\u001b[2m109\u001b[0m\u001b]8;;\u001b\\\n",
       "\u001b[2;36m                    \u001b[0m         \u001b[35m/stats/\u001b[0m\u001b[95mstattools.py\u001b[0m:\u001b[1;36m74\u001b[0m: ValueWarning: omni_normtest is not valid with  \u001b[2m               \u001b[0m\n",
       "\u001b[2;36m                    \u001b[0m         less than \u001b[1;36m8\u001b[0m observations; \u001b[1;36m5\u001b[0m samples were given.                        \u001b[2m               \u001b[0m\n",
       "\u001b[2;36m                    \u001b[0m           \u001b[1;35mwarn\u001b[0m\u001b[1m(\u001b[0m\u001b[32m\"omni_normtest is not valid with less than 8 observations; %i \"\u001b[0m \u001b[2m               \u001b[0m\n",
       "\u001b[2;36m                    \u001b[0m                                                                                \u001b[2m               \u001b[0m\n"
      ]
     },
     "metadata": {},
     "output_type": "display_data"
    },
    {
     "data": {
      "text/html": [
       "<pre style=\"white-space:pre;overflow-x:auto;line-height:normal;font-family:Menlo,'DejaVu Sans Mono',consolas,'Courier New',monospace\"><span style=\"color: #7fbfbf; text-decoration-color: #7fbfbf\">                    </span><span style=\"color: #000080; text-decoration-color: #000080\">INFO    </span>                         Results: Ordinary least squares                   <a href=\"file:///home/maa/dev/PHD/src/phd/pipelines/regression_VCT/nodes.py\" target=\"_blank\"><span style=\"color: #7f7f7f; text-decoration-color: #7f7f7f\">nodes.py</span></a><span style=\"color: #7f7f7f; text-decoration-color: #7f7f7f\">:</span><a href=\"file:///home/maa/dev/PHD/src/phd/pipelines/regression_VCT/nodes.py#665\" target=\"_blank\"><span style=\"color: #7f7f7f; text-decoration-color: #7f7f7f\">665</span></a>\n",
       "<span style=\"color: #7fbfbf; text-decoration-color: #7fbfbf\">                    </span>         ========================================================================= <span style=\"color: #7f7f7f; text-decoration-color: #7f7f7f\">            </span>\n",
       "<span style=\"color: #7fbfbf; text-decoration-color: #7fbfbf\">                    </span>         =======                                                                   <span style=\"color: #7f7f7f; text-decoration-color: #7f7f7f\">            </span>\n",
       "<span style=\"color: #7fbfbf; text-decoration-color: #7fbfbf\">                    </span>         Model:                  OLS              Adj. R-squared <span style=\"font-weight: bold\">(</span>uncentered<span style=\"font-weight: bold\">)</span>:     <span style=\"color: #7f7f7f; text-decoration-color: #7f7f7f\">            </span>\n",
       "<span style=\"color: #7fbfbf; text-decoration-color: #7fbfbf\">                    </span>         <span style=\"color: #008080; text-decoration-color: #008080; font-weight: bold\">0.938</span>                                                                     <span style=\"color: #7f7f7f; text-decoration-color: #7f7f7f\">            </span>\n",
       "<span style=\"color: #7fbfbf; text-decoration-color: #7fbfbf\">                    </span>         Dependent Variable:     N_H              AIC:                             <span style=\"color: #7f7f7f; text-decoration-color: #7f7f7f\">            </span>\n",
       "<span style=\"color: #7fbfbf; text-decoration-color: #7fbfbf\">                    </span>         <span style=\"color: #008080; text-decoration-color: #008080; font-weight: bold\">-72.8094</span>                                                                  <span style=\"color: #7f7f7f; text-decoration-color: #7f7f7f\">            </span>\n",
       "<span style=\"color: #7fbfbf; text-decoration-color: #7fbfbf\">                    </span>         Date:                   <span style=\"color: #008080; text-decoration-color: #008080; font-weight: bold\">2024</span>-<span style=\"color: #008080; text-decoration-color: #008080; font-weight: bold\">02</span>-<span style=\"color: #008080; text-decoration-color: #008080; font-weight: bold\">07</span> <span style=\"color: #00ff00; text-decoration-color: #00ff00; font-weight: bold\">15:39</span> BIC:                             <span style=\"color: #7f7f7f; text-decoration-color: #7f7f7f\">            </span>\n",
       "<span style=\"color: #7fbfbf; text-decoration-color: #7fbfbf\">                    </span>         <span style=\"color: #008080; text-decoration-color: #008080; font-weight: bold\">-73.2000</span>                                                                  <span style=\"color: #7f7f7f; text-decoration-color: #7f7f7f\">            </span>\n",
       "<span style=\"color: #7fbfbf; text-decoration-color: #7fbfbf\">                    </span>         No. Observations:       <span style=\"color: #008080; text-decoration-color: #008080; font-weight: bold\">5</span>                Log-Likelihood:                  <span style=\"color: #7f7f7f; text-decoration-color: #7f7f7f\">            </span>\n",
       "<span style=\"color: #7fbfbf; text-decoration-color: #7fbfbf\">                    </span>         <span style=\"color: #008080; text-decoration-color: #008080; font-weight: bold\">37.405</span>                                                                    <span style=\"color: #7f7f7f; text-decoration-color: #7f7f7f\">            </span>\n",
       "<span style=\"color: #7fbfbf; text-decoration-color: #7fbfbf\">                    </span>         Df Model:               <span style=\"color: #008080; text-decoration-color: #008080; font-weight: bold\">1</span>                F-statistic:                     <span style=\"color: #7f7f7f; text-decoration-color: #7f7f7f\">            </span>\n",
       "<span style=\"color: #7fbfbf; text-decoration-color: #7fbfbf\">                    </span>         <span style=\"color: #008080; text-decoration-color: #008080; font-weight: bold\">76.80</span>                                                                     <span style=\"color: #7f7f7f; text-decoration-color: #7f7f7f\">            </span>\n",
       "<span style=\"color: #7fbfbf; text-decoration-color: #7fbfbf\">                    </span>         Df Residuals:           <span style=\"color: #008080; text-decoration-color: #008080; font-weight: bold\">4</span>                Prob <span style=\"font-weight: bold\">(</span>F-statistic<span style=\"font-weight: bold\">)</span>:              <span style=\"color: #7f7f7f; text-decoration-color: #7f7f7f\">            </span>\n",
       "<span style=\"color: #7fbfbf; text-decoration-color: #7fbfbf\">                    </span>         <span style=\"color: #008080; text-decoration-color: #008080; font-weight: bold\">0.000935</span>                                                                  <span style=\"color: #7f7f7f; text-decoration-color: #7f7f7f\">            </span>\n",
       "<span style=\"color: #7fbfbf; text-decoration-color: #7fbfbf\">                    </span>         R-squared <span style=\"font-weight: bold\">(</span>uncentered<span style=\"font-weight: bold\">)</span>: <span style=\"color: #008080; text-decoration-color: #008080; font-weight: bold\">0.950</span>            Scale:                           <span style=\"color: #7f7f7f; text-decoration-color: #7f7f7f\">            </span>\n",
       "<span style=\"color: #7fbfbf; text-decoration-color: #7fbfbf\">                    </span>         <span style=\"color: #008080; text-decoration-color: #008080; font-weight: bold\">2.3258e-08</span>                                                                <span style=\"color: #7f7f7f; text-decoration-color: #7f7f7f\">            </span>\n",
       "<span style=\"color: #7fbfbf; text-decoration-color: #7fbfbf\">                    </span>         ------------------------------------------------------------------------- <span style=\"color: #7f7f7f; text-decoration-color: #7f7f7f\">            </span>\n",
       "<span style=\"color: #7fbfbf; text-decoration-color: #7fbfbf\">                    </span>         -------------                                                             <span style=\"color: #7f7f7f; text-decoration-color: #7f7f7f\">            </span>\n",
       "<span style=\"color: #7fbfbf; text-decoration-color: #7fbfbf\">                    </span>                   Coef.        Std.Err.          t          P&gt;|t|         <span style=\"font-weight: bold\">[</span><span style=\"color: #008080; text-decoration-color: #008080; font-weight: bold\">0.025</span>  <span style=\"color: #7f7f7f; text-decoration-color: #7f7f7f\">            </span>\n",
       "<span style=\"color: #7fbfbf; text-decoration-color: #7fbfbf\">                    </span>         <span style=\"color: #008080; text-decoration-color: #008080; font-weight: bold\">0.975</span><span style=\"font-weight: bold\">]</span>                                                                    <span style=\"color: #7f7f7f; text-decoration-color: #7f7f7f\">            </span>\n",
       "<span style=\"color: #7fbfbf; text-decoration-color: #7fbfbf\">                    </span>         ------------------------------------------------------------------------- <span style=\"color: #7f7f7f; text-decoration-color: #7f7f7f\">            </span>\n",
       "<span style=\"color: #7fbfbf; text-decoration-color: #7fbfbf\">                    </span>         -------------                                                             <span style=\"color: #7f7f7f; text-decoration-color: #7f7f7f\">            </span>\n",
       "<span style=\"color: #7fbfbf; text-decoration-color: #7fbfbf\">                    </span>         Nr       <span style=\"color: #008080; text-decoration-color: #008080; font-weight: bold\">-0.0014</span>         <span style=\"color: #008080; text-decoration-color: #008080; font-weight: bold\">0.0002</span>       <span style=\"color: #008080; text-decoration-color: #008080; font-weight: bold\">-8.7637</span>       <span style=\"color: #008080; text-decoration-color: #008080; font-weight: bold\">0.0009</span>       <span style=\"color: #008080; text-decoration-color: #008080; font-weight: bold\">-0.0019</span>  <span style=\"color: #7f7f7f; text-decoration-color: #7f7f7f\">            </span>\n",
       "<span style=\"color: #7fbfbf; text-decoration-color: #7fbfbf\">                    </span>         <span style=\"color: #008080; text-decoration-color: #008080; font-weight: bold\">-0.0010</span>                                                                   <span style=\"color: #7f7f7f; text-decoration-color: #7f7f7f\">            </span>\n",
       "<span style=\"color: #7fbfbf; text-decoration-color: #7fbfbf\">                    </span>         ------------------------------------------------------------------------- <span style=\"color: #7f7f7f; text-decoration-color: #7f7f7f\">            </span>\n",
       "<span style=\"color: #7fbfbf; text-decoration-color: #7fbfbf\">                    </span>         -------                                                                   <span style=\"color: #7f7f7f; text-decoration-color: #7f7f7f\">            </span>\n",
       "<span style=\"color: #7fbfbf; text-decoration-color: #7fbfbf\">                    </span>         Omnibus:                   nan               Durbin-Watson:               <span style=\"color: #7f7f7f; text-decoration-color: #7f7f7f\">            </span>\n",
       "<span style=\"color: #7fbfbf; text-decoration-color: #7fbfbf\">                    </span>         <span style=\"color: #008080; text-decoration-color: #008080; font-weight: bold\">0.922</span>                                                                     <span style=\"color: #7f7f7f; text-decoration-color: #7f7f7f\">            </span>\n",
       "<span style=\"color: #7fbfbf; text-decoration-color: #7fbfbf\">                    </span>         <span style=\"color: #800080; text-decoration-color: #800080; font-weight: bold\">Prob</span><span style=\"font-weight: bold\">(</span>Omnibus<span style=\"font-weight: bold\">)</span>:             nan               Jarque-Bera <span style=\"font-weight: bold\">(</span>JB<span style=\"font-weight: bold\">)</span>:            <span style=\"color: #7f7f7f; text-decoration-color: #7f7f7f\">            </span>\n",
       "<span style=\"color: #7fbfbf; text-decoration-color: #7fbfbf\">                    </span>         <span style=\"color: #008080; text-decoration-color: #008080; font-weight: bold\">1.596</span>                                                                     <span style=\"color: #7f7f7f; text-decoration-color: #7f7f7f\">            </span>\n",
       "<span style=\"color: #7fbfbf; text-decoration-color: #7fbfbf\">                    </span>         Skew:                      <span style=\"color: #008080; text-decoration-color: #008080; font-weight: bold\">1.383</span>             <span style=\"color: #800080; text-decoration-color: #800080; font-weight: bold\">Prob</span><span style=\"font-weight: bold\">(</span>JB<span style=\"font-weight: bold\">)</span>:                    <span style=\"color: #7f7f7f; text-decoration-color: #7f7f7f\">            </span>\n",
       "<span style=\"color: #7fbfbf; text-decoration-color: #7fbfbf\">                    </span>         <span style=\"color: #008080; text-decoration-color: #008080; font-weight: bold\">0.450</span>                                                                     <span style=\"color: #7f7f7f; text-decoration-color: #7f7f7f\">            </span>\n",
       "<span style=\"color: #7fbfbf; text-decoration-color: #7fbfbf\">                    </span>         Kurtosis:                  <span style=\"color: #008080; text-decoration-color: #008080; font-weight: bold\">3.095</span>             Condition No.:               <span style=\"color: #7f7f7f; text-decoration-color: #7f7f7f\">            </span>\n",
       "<span style=\"color: #7fbfbf; text-decoration-color: #7fbfbf\">                    </span>         <span style=\"color: #008080; text-decoration-color: #008080; font-weight: bold\">1</span>                                                                         <span style=\"color: #7f7f7f; text-decoration-color: #7f7f7f\">            </span>\n",
       "<span style=\"color: #7fbfbf; text-decoration-color: #7fbfbf\">                    </span>         ========================================================================= <span style=\"color: #7f7f7f; text-decoration-color: #7f7f7f\">            </span>\n",
       "<span style=\"color: #7fbfbf; text-decoration-color: #7fbfbf\">                    </span>         =======                                                                   <span style=\"color: #7f7f7f; text-decoration-color: #7f7f7f\">            </span>\n",
       "<span style=\"color: #7fbfbf; text-decoration-color: #7fbfbf\">                    </span>         Notes:                                                                    <span style=\"color: #7f7f7f; text-decoration-color: #7f7f7f\">            </span>\n",
       "<span style=\"color: #7fbfbf; text-decoration-color: #7fbfbf\">                    </span>         <span style=\"font-weight: bold\">[</span><span style=\"color: #008080; text-decoration-color: #008080; font-weight: bold\">1</span><span style=\"font-weight: bold\">]</span> R² is computed without centering <span style=\"font-weight: bold\">(</span>uncentered<span style=\"font-weight: bold\">)</span> since the               <span style=\"color: #7f7f7f; text-decoration-color: #7f7f7f\">            </span>\n",
       "<span style=\"color: #7fbfbf; text-decoration-color: #7fbfbf\">                    </span>         model does not contain a constant.                                        <span style=\"color: #7f7f7f; text-decoration-color: #7f7f7f\">            </span>\n",
       "<span style=\"color: #7fbfbf; text-decoration-color: #7fbfbf\">                    </span>         <span style=\"font-weight: bold\">[</span><span style=\"color: #008080; text-decoration-color: #008080; font-weight: bold\">2</span><span style=\"font-weight: bold\">]</span> Standard Errors assume that the covariance matrix of the errors is    <span style=\"color: #7f7f7f; text-decoration-color: #7f7f7f\">            </span>\n",
       "<span style=\"color: #7fbfbf; text-decoration-color: #7fbfbf\">                    </span>         correctly                                                                 <span style=\"color: #7f7f7f; text-decoration-color: #7f7f7f\">            </span>\n",
       "<span style=\"color: #7fbfbf; text-decoration-color: #7fbfbf\">                    </span>         specified.                                                                <span style=\"color: #7f7f7f; text-decoration-color: #7f7f7f\">            </span>\n",
       "</pre>\n"
      ],
      "text/plain": [
       "\u001b[2;36m                   \u001b[0m\u001b[2;36m \u001b[0m\u001b[34mINFO    \u001b[0m                         Results: Ordinary least squares                   \u001b]8;id=266101;file:///home/maa/dev/PHD/src/phd/pipelines/regression_VCT/nodes.py\u001b\\\u001b[2mnodes.py\u001b[0m\u001b]8;;\u001b\\\u001b[2m:\u001b[0m\u001b]8;id=275188;file:///home/maa/dev/PHD/src/phd/pipelines/regression_VCT/nodes.py#665\u001b\\\u001b[2m665\u001b[0m\u001b]8;;\u001b\\\n",
       "\u001b[2;36m                    \u001b[0m         ========================================================================= \u001b[2m            \u001b[0m\n",
       "\u001b[2;36m                    \u001b[0m         =======                                                                   \u001b[2m            \u001b[0m\n",
       "\u001b[2;36m                    \u001b[0m         Model:                  OLS              Adj. R-squared \u001b[1m(\u001b[0muncentered\u001b[1m)\u001b[0m:     \u001b[2m            \u001b[0m\n",
       "\u001b[2;36m                    \u001b[0m         \u001b[1;36m0.938\u001b[0m                                                                     \u001b[2m            \u001b[0m\n",
       "\u001b[2;36m                    \u001b[0m         Dependent Variable:     N_H              AIC:                             \u001b[2m            \u001b[0m\n",
       "\u001b[2;36m                    \u001b[0m         \u001b[1;36m-72.8094\u001b[0m                                                                  \u001b[2m            \u001b[0m\n",
       "\u001b[2;36m                    \u001b[0m         Date:                   \u001b[1;36m2024\u001b[0m-\u001b[1;36m02\u001b[0m-\u001b[1;36m07\u001b[0m \u001b[1;92m15:39\u001b[0m BIC:                             \u001b[2m            \u001b[0m\n",
       "\u001b[2;36m                    \u001b[0m         \u001b[1;36m-73.2000\u001b[0m                                                                  \u001b[2m            \u001b[0m\n",
       "\u001b[2;36m                    \u001b[0m         No. Observations:       \u001b[1;36m5\u001b[0m                Log-Likelihood:                  \u001b[2m            \u001b[0m\n",
       "\u001b[2;36m                    \u001b[0m         \u001b[1;36m37.405\u001b[0m                                                                    \u001b[2m            \u001b[0m\n",
       "\u001b[2;36m                    \u001b[0m         Df Model:               \u001b[1;36m1\u001b[0m                F-statistic:                     \u001b[2m            \u001b[0m\n",
       "\u001b[2;36m                    \u001b[0m         \u001b[1;36m76.80\u001b[0m                                                                     \u001b[2m            \u001b[0m\n",
       "\u001b[2;36m                    \u001b[0m         Df Residuals:           \u001b[1;36m4\u001b[0m                Prob \u001b[1m(\u001b[0mF-statistic\u001b[1m)\u001b[0m:              \u001b[2m            \u001b[0m\n",
       "\u001b[2;36m                    \u001b[0m         \u001b[1;36m0.000935\u001b[0m                                                                  \u001b[2m            \u001b[0m\n",
       "\u001b[2;36m                    \u001b[0m         R-squared \u001b[1m(\u001b[0muncentered\u001b[1m)\u001b[0m: \u001b[1;36m0.950\u001b[0m            Scale:                           \u001b[2m            \u001b[0m\n",
       "\u001b[2;36m                    \u001b[0m         \u001b[1;36m2.3258e-08\u001b[0m                                                                \u001b[2m            \u001b[0m\n",
       "\u001b[2;36m                    \u001b[0m         ------------------------------------------------------------------------- \u001b[2m            \u001b[0m\n",
       "\u001b[2;36m                    \u001b[0m         -------------                                                             \u001b[2m            \u001b[0m\n",
       "\u001b[2;36m                    \u001b[0m                   Coef.        Std.Err.          t          P>|t|         \u001b[1m[\u001b[0m\u001b[1;36m0.025\u001b[0m  \u001b[2m            \u001b[0m\n",
       "\u001b[2;36m                    \u001b[0m         \u001b[1;36m0.975\u001b[0m\u001b[1m]\u001b[0m                                                                    \u001b[2m            \u001b[0m\n",
       "\u001b[2;36m                    \u001b[0m         ------------------------------------------------------------------------- \u001b[2m            \u001b[0m\n",
       "\u001b[2;36m                    \u001b[0m         -------------                                                             \u001b[2m            \u001b[0m\n",
       "\u001b[2;36m                    \u001b[0m         Nr       \u001b[1;36m-0.0014\u001b[0m         \u001b[1;36m0.0002\u001b[0m       \u001b[1;36m-8.7637\u001b[0m       \u001b[1;36m0.0009\u001b[0m       \u001b[1;36m-0.0019\u001b[0m  \u001b[2m            \u001b[0m\n",
       "\u001b[2;36m                    \u001b[0m         \u001b[1;36m-0.0010\u001b[0m                                                                   \u001b[2m            \u001b[0m\n",
       "\u001b[2;36m                    \u001b[0m         ------------------------------------------------------------------------- \u001b[2m            \u001b[0m\n",
       "\u001b[2;36m                    \u001b[0m         -------                                                                   \u001b[2m            \u001b[0m\n",
       "\u001b[2;36m                    \u001b[0m         Omnibus:                   nan               Durbin-Watson:               \u001b[2m            \u001b[0m\n",
       "\u001b[2;36m                    \u001b[0m         \u001b[1;36m0.922\u001b[0m                                                                     \u001b[2m            \u001b[0m\n",
       "\u001b[2;36m                    \u001b[0m         \u001b[1;35mProb\u001b[0m\u001b[1m(\u001b[0mOmnibus\u001b[1m)\u001b[0m:             nan               Jarque-Bera \u001b[1m(\u001b[0mJB\u001b[1m)\u001b[0m:            \u001b[2m            \u001b[0m\n",
       "\u001b[2;36m                    \u001b[0m         \u001b[1;36m1.596\u001b[0m                                                                     \u001b[2m            \u001b[0m\n",
       "\u001b[2;36m                    \u001b[0m         Skew:                      \u001b[1;36m1.383\u001b[0m             \u001b[1;35mProb\u001b[0m\u001b[1m(\u001b[0mJB\u001b[1m)\u001b[0m:                    \u001b[2m            \u001b[0m\n",
       "\u001b[2;36m                    \u001b[0m         \u001b[1;36m0.450\u001b[0m                                                                     \u001b[2m            \u001b[0m\n",
       "\u001b[2;36m                    \u001b[0m         Kurtosis:                  \u001b[1;36m3.095\u001b[0m             Condition No.:               \u001b[2m            \u001b[0m\n",
       "\u001b[2;36m                    \u001b[0m         \u001b[1;36m1\u001b[0m                                                                         \u001b[2m            \u001b[0m\n",
       "\u001b[2;36m                    \u001b[0m         ========================================================================= \u001b[2m            \u001b[0m\n",
       "\u001b[2;36m                    \u001b[0m         =======                                                                   \u001b[2m            \u001b[0m\n",
       "\u001b[2;36m                    \u001b[0m         Notes:                                                                    \u001b[2m            \u001b[0m\n",
       "\u001b[2;36m                    \u001b[0m         \u001b[1m[\u001b[0m\u001b[1;36m1\u001b[0m\u001b[1m]\u001b[0m R² is computed without centering \u001b[1m(\u001b[0muncentered\u001b[1m)\u001b[0m since the               \u001b[2m            \u001b[0m\n",
       "\u001b[2;36m                    \u001b[0m         model does not contain a constant.                                        \u001b[2m            \u001b[0m\n",
       "\u001b[2;36m                    \u001b[0m         \u001b[1m[\u001b[0m\u001b[1;36m2\u001b[0m\u001b[1m]\u001b[0m Standard Errors assume that the covariance matrix of the errors is    \u001b[2m            \u001b[0m\n",
       "\u001b[2;36m                    \u001b[0m         correctly                                                                 \u001b[2m            \u001b[0m\n",
       "\u001b[2;36m                    \u001b[0m         specified.                                                                \u001b[2m            \u001b[0m\n"
      ]
     },
     "metadata": {},
     "output_type": "display_data"
    },
    {
     "data": {
      "text/html": [
       "<pre style=\"white-space:pre;overflow-x:auto;line-height:normal;font-family:Menlo,'DejaVu Sans Mono',consolas,'Courier New',monospace\"><span style=\"color: #7fbfbf; text-decoration-color: #7fbfbf\">                    </span><span style=\"color: #000080; text-decoration-color: #000080\">INFO    </span> Regression:Circle + Drift fx                                              <a href=\"file:///home/maa/dev/PHD/src/phd/pipelines/regression_VCT/nodes.py\" target=\"_blank\"><span style=\"color: #7f7f7f; text-decoration-color: #7f7f7f\">nodes.py</span></a><span style=\"color: #7f7f7f; text-decoration-color: #7f7f7f\">:</span><a href=\"file:///home/maa/dev/PHD/src/phd/pipelines/regression_VCT/nodes.py#662\" target=\"_blank\"><span style=\"color: #7f7f7f; text-decoration-color: #7f7f7f\">662</span></a>\n",
       "</pre>\n"
      ],
      "text/plain": [
       "\u001b[2;36m                   \u001b[0m\u001b[2;36m \u001b[0m\u001b[34mINFO    \u001b[0m Regression:Circle + Drift fx                                              \u001b]8;id=999663;file:///home/maa/dev/PHD/src/phd/pipelines/regression_VCT/nodes.py\u001b\\\u001b[2mnodes.py\u001b[0m\u001b]8;;\u001b\\\u001b[2m:\u001b[0m\u001b]8;id=530845;file:///home/maa/dev/PHD/src/phd/pipelines/regression_VCT/nodes.py#662\u001b\\\u001b[2m662\u001b[0m\u001b]8;;\u001b\\\n"
      ]
     },
     "metadata": {},
     "output_type": "display_data"
    },
    {
     "name": "stdout",
     "output_type": "stream",
     "text": [
      "                      2                                  2\n",
      "X_H = X_{0} + X_{rr}⋅r  + X_{u}⋅u + X_{vr}⋅r⋅v + X_{vv}⋅v \n"
     ]
    },
    {
     "data": {
      "text/html": [
       "<pre style=\"white-space:pre;overflow-x:auto;line-height:normal;font-family:Menlo,'DejaVu Sans Mono',consolas,'Courier New',monospace\"><span style=\"color: #7fbfbf; text-decoration-color: #7fbfbf\">                    </span><span style=\"color: #000080; text-decoration-color: #000080\">INFO    </span> <span style=\"color: #800080; text-decoration-color: #800080; font-style: italic\">None</span>                                                                      <a href=\"file:///home/maa/dev/PHD/src/phd/pipelines/regression_VCT/nodes.py\" target=\"_blank\"><span style=\"color: #7f7f7f; text-decoration-color: #7f7f7f\">nodes.py</span></a><span style=\"color: #7f7f7f; text-decoration-color: #7f7f7f\">:</span><a href=\"file:///home/maa/dev/PHD/src/phd/pipelines/regression_VCT/nodes.py#663\" target=\"_blank\"><span style=\"color: #7f7f7f; text-decoration-color: #7f7f7f\">663</span></a>\n",
       "</pre>\n"
      ],
      "text/plain": [
       "\u001b[2;36m                   \u001b[0m\u001b[2;36m \u001b[0m\u001b[34mINFO    \u001b[0m \u001b[3;35mNone\u001b[0m                                                                      \u001b]8;id=368980;file:///home/maa/dev/PHD/src/phd/pipelines/regression_VCT/nodes.py\u001b\\\u001b[2mnodes.py\u001b[0m\u001b]8;;\u001b\\\u001b[2m:\u001b[0m\u001b]8;id=507233;file:///home/maa/dev/PHD/src/phd/pipelines/regression_VCT/nodes.py#663\u001b\\\u001b[2m663\u001b[0m\u001b]8;;\u001b\\\n"
      ]
     },
     "metadata": {},
     "output_type": "display_data"
    },
    {
     "data": {
      "text/html": [
       "<pre style=\"white-space:pre;overflow-x:auto;line-height:normal;font-family:Menlo,'DejaVu Sans Mono',consolas,'Courier New',monospace\"><span style=\"color: #7fbfbf; text-decoration-color: #7fbfbf\">                    </span><span style=\"color: #000080; text-decoration-color: #000080\">INFO    </span>                   Results: Ordinary least squares                         <a href=\"file:///home/maa/dev/PHD/src/phd/pipelines/regression_VCT/nodes.py\" target=\"_blank\"><span style=\"color: #7f7f7f; text-decoration-color: #7f7f7f\">nodes.py</span></a><span style=\"color: #7f7f7f; text-decoration-color: #7f7f7f\">:</span><a href=\"file:///home/maa/dev/PHD/src/phd/pipelines/regression_VCT/nodes.py#665\" target=\"_blank\"><span style=\"color: #7f7f7f; text-decoration-color: #7f7f7f\">665</span></a>\n",
       "<span style=\"color: #7fbfbf; text-decoration-color: #7fbfbf\">                    </span>         ===================================================================       <span style=\"color: #7f7f7f; text-decoration-color: #7f7f7f\">            </span>\n",
       "<span style=\"color: #7fbfbf; text-decoration-color: #7fbfbf\">                    </span>         Model:              OLS              Adj. R-squared:     <span style=\"color: #008080; text-decoration-color: #008080; font-weight: bold\">0.949</span>            <span style=\"color: #7f7f7f; text-decoration-color: #7f7f7f\">            </span>\n",
       "<span style=\"color: #7fbfbf; text-decoration-color: #7fbfbf\">                    </span>         Dependent Variable: X_H              AIC:                <span style=\"color: #008080; text-decoration-color: #008080; font-weight: bold\">-402.6519</span>        <span style=\"color: #7f7f7f; text-decoration-color: #7f7f7f\">            </span>\n",
       "<span style=\"color: #7fbfbf; text-decoration-color: #7fbfbf\">                    </span>         Date:               <span style=\"color: #008080; text-decoration-color: #008080; font-weight: bold\">2024</span>-<span style=\"color: #008080; text-decoration-color: #008080; font-weight: bold\">02</span>-<span style=\"color: #008080; text-decoration-color: #008080; font-weight: bold\">07</span> <span style=\"color: #00ff00; text-decoration-color: #00ff00; font-weight: bold\">15:39</span> BIC:                <span style=\"color: #008080; text-decoration-color: #008080; font-weight: bold\">-400.6604</span>        <span style=\"color: #7f7f7f; text-decoration-color: #7f7f7f\">            </span>\n",
       "<span style=\"color: #7fbfbf; text-decoration-color: #7fbfbf\">                    </span>         No. Observations:   <span style=\"color: #008080; text-decoration-color: #008080; font-weight: bold\">20</span>               Log-Likelihood:     <span style=\"color: #008080; text-decoration-color: #008080; font-weight: bold\">203.33</span>           <span style=\"color: #7f7f7f; text-decoration-color: #7f7f7f\">            </span>\n",
       "<span style=\"color: #7fbfbf; text-decoration-color: #7fbfbf\">                    </span>         Df Model:           <span style=\"color: #008080; text-decoration-color: #008080; font-weight: bold\">1</span>                F-statistic:        <span style=\"color: #008080; text-decoration-color: #008080; font-weight: bold\">352.6</span>            <span style=\"color: #7f7f7f; text-decoration-color: #7f7f7f\">            </span>\n",
       "<span style=\"color: #7fbfbf; text-decoration-color: #7fbfbf\">                    </span>         Df Residuals:       <span style=\"color: #008080; text-decoration-color: #008080; font-weight: bold\">18</span>               Prob <span style=\"font-weight: bold\">(</span>F-statistic<span style=\"font-weight: bold\">)</span>: <span style=\"color: #008080; text-decoration-color: #008080; font-weight: bold\">2.85e-13</span>         <span style=\"color: #7f7f7f; text-decoration-color: #7f7f7f\">            </span>\n",
       "<span style=\"color: #7fbfbf; text-decoration-color: #7fbfbf\">                    </span>         R-squared:          <span style=\"color: #008080; text-decoration-color: #008080; font-weight: bold\">0.951</span>            Scale:              <span style=\"color: #008080; text-decoration-color: #008080; font-weight: bold\">9.6150e-11</span>       <span style=\"color: #7f7f7f; text-decoration-color: #7f7f7f\">            </span>\n",
       "<span style=\"color: #7fbfbf; text-decoration-color: #7fbfbf\">                    </span>         ----------------------------------------------------------------------    <span style=\"color: #7f7f7f; text-decoration-color: #7f7f7f\">            </span>\n",
       "<span style=\"color: #7fbfbf; text-decoration-color: #7fbfbf\">                    </span>                    Coef.     Std.Err.       t       P&gt;|t|     <span style=\"font-weight: bold\">[</span><span style=\"color: #008080; text-decoration-color: #008080; font-weight: bold\">0.025</span>    <span style=\"color: #008080; text-decoration-color: #008080; font-weight: bold\">0.975</span><span style=\"font-weight: bold\">]</span>    <span style=\"color: #7f7f7f; text-decoration-color: #7f7f7f\">            </span>\n",
       "<span style=\"color: #7fbfbf; text-decoration-color: #7fbfbf\">                    </span>         ----------------------------------------------------------------------    <span style=\"color: #7f7f7f; text-decoration-color: #7f7f7f\">            </span>\n",
       "<span style=\"color: #7fbfbf; text-decoration-color: #7fbfbf\">                    </span>         Xvr        <span style=\"color: #008080; text-decoration-color: #008080; font-weight: bold\">0.0031</span>      <span style=\"color: #008080; text-decoration-color: #008080; font-weight: bold\">0.0002</span>    <span style=\"color: #008080; text-decoration-color: #008080; font-weight: bold\">18.7771</span>    <span style=\"color: #008080; text-decoration-color: #008080; font-weight: bold\">0.0000</span>    <span style=\"color: #008080; text-decoration-color: #008080; font-weight: bold\">0.0028</span>    <span style=\"color: #008080; text-decoration-color: #008080; font-weight: bold\">0.0035</span>    <span style=\"color: #7f7f7f; text-decoration-color: #7f7f7f\">            </span>\n",
       "<span style=\"color: #7fbfbf; text-decoration-color: #7fbfbf\">                    </span>         const      <span style=\"color: #008080; text-decoration-color: #008080; font-weight: bold\">0.0000</span>      <span style=\"color: #008080; text-decoration-color: #008080; font-weight: bold\">0.0000</span>     <span style=\"color: #008080; text-decoration-color: #008080; font-weight: bold\">3.4411</span>    <span style=\"color: #008080; text-decoration-color: #008080; font-weight: bold\">0.0029</span>    <span style=\"color: #008080; text-decoration-color: #008080; font-weight: bold\">0.0000</span>    <span style=\"color: #008080; text-decoration-color: #008080; font-weight: bold\">0.0000</span>    <span style=\"color: #7f7f7f; text-decoration-color: #7f7f7f\">            </span>\n",
       "<span style=\"color: #7fbfbf; text-decoration-color: #7fbfbf\">                    </span>         -------------------------------------------------------------------       <span style=\"color: #7f7f7f; text-decoration-color: #7f7f7f\">            </span>\n",
       "<span style=\"color: #7fbfbf; text-decoration-color: #7fbfbf\">                    </span>         Omnibus:               <span style=\"color: #008080; text-decoration-color: #008080; font-weight: bold\">3.677</span>         Durbin-Watson:           <span style=\"color: #008080; text-decoration-color: #008080; font-weight: bold\">2.679</span>       <span style=\"color: #7f7f7f; text-decoration-color: #7f7f7f\">            </span>\n",
       "<span style=\"color: #7fbfbf; text-decoration-color: #7fbfbf\">                    </span>         <span style=\"color: #800080; text-decoration-color: #800080; font-weight: bold\">Prob</span><span style=\"font-weight: bold\">(</span>Omnibus<span style=\"font-weight: bold\">)</span>:         <span style=\"color: #008080; text-decoration-color: #008080; font-weight: bold\">0.159</span>         Jarque-Bera <span style=\"font-weight: bold\">(</span>JB<span style=\"font-weight: bold\">)</span>:        <span style=\"color: #008080; text-decoration-color: #008080; font-weight: bold\">1.863</span>       <span style=\"color: #7f7f7f; text-decoration-color: #7f7f7f\">            </span>\n",
       "<span style=\"color: #7fbfbf; text-decoration-color: #7fbfbf\">                    </span>         Skew:                  <span style=\"color: #008080; text-decoration-color: #008080; font-weight: bold\">-0.458</span>        <span style=\"color: #800080; text-decoration-color: #800080; font-weight: bold\">Prob</span><span style=\"font-weight: bold\">(</span>JB<span style=\"font-weight: bold\">)</span>:                <span style=\"color: #008080; text-decoration-color: #008080; font-weight: bold\">0.394</span>       <span style=\"color: #7f7f7f; text-decoration-color: #7f7f7f\">            </span>\n",
       "<span style=\"color: #7fbfbf; text-decoration-color: #7fbfbf\">                    </span>         Kurtosis:              <span style=\"color: #008080; text-decoration-color: #008080; font-weight: bold\">1.818</span>         Condition No.:           <span style=\"color: #008080; text-decoration-color: #008080; font-weight: bold\">76</span>          <span style=\"color: #7f7f7f; text-decoration-color: #7f7f7f\">            </span>\n",
       "<span style=\"color: #7fbfbf; text-decoration-color: #7fbfbf\">                    </span>         ===================================================================       <span style=\"color: #7f7f7f; text-decoration-color: #7f7f7f\">            </span>\n",
       "<span style=\"color: #7fbfbf; text-decoration-color: #7fbfbf\">                    </span>         Notes:                                                                    <span style=\"color: #7f7f7f; text-decoration-color: #7f7f7f\">            </span>\n",
       "<span style=\"color: #7fbfbf; text-decoration-color: #7fbfbf\">                    </span>         <span style=\"font-weight: bold\">[</span><span style=\"color: #008080; text-decoration-color: #008080; font-weight: bold\">1</span><span style=\"font-weight: bold\">]</span> Standard Errors assume that the covariance matrix of the errors       <span style=\"color: #7f7f7f; text-decoration-color: #7f7f7f\">            </span>\n",
       "<span style=\"color: #7fbfbf; text-decoration-color: #7fbfbf\">                    </span>         is correctly specified.                                                   <span style=\"color: #7f7f7f; text-decoration-color: #7f7f7f\">            </span>\n",
       "</pre>\n"
      ],
      "text/plain": [
       "\u001b[2;36m                   \u001b[0m\u001b[2;36m \u001b[0m\u001b[34mINFO    \u001b[0m                   Results: Ordinary least squares                         \u001b]8;id=82481;file:///home/maa/dev/PHD/src/phd/pipelines/regression_VCT/nodes.py\u001b\\\u001b[2mnodes.py\u001b[0m\u001b]8;;\u001b\\\u001b[2m:\u001b[0m\u001b]8;id=60086;file:///home/maa/dev/PHD/src/phd/pipelines/regression_VCT/nodes.py#665\u001b\\\u001b[2m665\u001b[0m\u001b]8;;\u001b\\\n",
       "\u001b[2;36m                    \u001b[0m         ===================================================================       \u001b[2m            \u001b[0m\n",
       "\u001b[2;36m                    \u001b[0m         Model:              OLS              Adj. R-squared:     \u001b[1;36m0.949\u001b[0m            \u001b[2m            \u001b[0m\n",
       "\u001b[2;36m                    \u001b[0m         Dependent Variable: X_H              AIC:                \u001b[1;36m-402.6519\u001b[0m        \u001b[2m            \u001b[0m\n",
       "\u001b[2;36m                    \u001b[0m         Date:               \u001b[1;36m2024\u001b[0m-\u001b[1;36m02\u001b[0m-\u001b[1;36m07\u001b[0m \u001b[1;92m15:39\u001b[0m BIC:                \u001b[1;36m-400.6604\u001b[0m        \u001b[2m            \u001b[0m\n",
       "\u001b[2;36m                    \u001b[0m         No. Observations:   \u001b[1;36m20\u001b[0m               Log-Likelihood:     \u001b[1;36m203.33\u001b[0m           \u001b[2m            \u001b[0m\n",
       "\u001b[2;36m                    \u001b[0m         Df Model:           \u001b[1;36m1\u001b[0m                F-statistic:        \u001b[1;36m352.6\u001b[0m            \u001b[2m            \u001b[0m\n",
       "\u001b[2;36m                    \u001b[0m         Df Residuals:       \u001b[1;36m18\u001b[0m               Prob \u001b[1m(\u001b[0mF-statistic\u001b[1m)\u001b[0m: \u001b[1;36m2.85e-13\u001b[0m         \u001b[2m            \u001b[0m\n",
       "\u001b[2;36m                    \u001b[0m         R-squared:          \u001b[1;36m0.951\u001b[0m            Scale:              \u001b[1;36m9.6150e-11\u001b[0m       \u001b[2m            \u001b[0m\n",
       "\u001b[2;36m                    \u001b[0m         ----------------------------------------------------------------------    \u001b[2m            \u001b[0m\n",
       "\u001b[2;36m                    \u001b[0m                    Coef.     Std.Err.       t       P>|t|     \u001b[1m[\u001b[0m\u001b[1;36m0.025\u001b[0m    \u001b[1;36m0.975\u001b[0m\u001b[1m]\u001b[0m    \u001b[2m            \u001b[0m\n",
       "\u001b[2;36m                    \u001b[0m         ----------------------------------------------------------------------    \u001b[2m            \u001b[0m\n",
       "\u001b[2;36m                    \u001b[0m         Xvr        \u001b[1;36m0.0031\u001b[0m      \u001b[1;36m0.0002\u001b[0m    \u001b[1;36m18.7771\u001b[0m    \u001b[1;36m0.0000\u001b[0m    \u001b[1;36m0.0028\u001b[0m    \u001b[1;36m0.0035\u001b[0m    \u001b[2m            \u001b[0m\n",
       "\u001b[2;36m                    \u001b[0m         const      \u001b[1;36m0.0000\u001b[0m      \u001b[1;36m0.0000\u001b[0m     \u001b[1;36m3.4411\u001b[0m    \u001b[1;36m0.0029\u001b[0m    \u001b[1;36m0.0000\u001b[0m    \u001b[1;36m0.0000\u001b[0m    \u001b[2m            \u001b[0m\n",
       "\u001b[2;36m                    \u001b[0m         -------------------------------------------------------------------       \u001b[2m            \u001b[0m\n",
       "\u001b[2;36m                    \u001b[0m         Omnibus:               \u001b[1;36m3.677\u001b[0m         Durbin-Watson:           \u001b[1;36m2.679\u001b[0m       \u001b[2m            \u001b[0m\n",
       "\u001b[2;36m                    \u001b[0m         \u001b[1;35mProb\u001b[0m\u001b[1m(\u001b[0mOmnibus\u001b[1m)\u001b[0m:         \u001b[1;36m0.159\u001b[0m         Jarque-Bera \u001b[1m(\u001b[0mJB\u001b[1m)\u001b[0m:        \u001b[1;36m1.863\u001b[0m       \u001b[2m            \u001b[0m\n",
       "\u001b[2;36m                    \u001b[0m         Skew:                  \u001b[1;36m-0.458\u001b[0m        \u001b[1;35mProb\u001b[0m\u001b[1m(\u001b[0mJB\u001b[1m)\u001b[0m:                \u001b[1;36m0.394\u001b[0m       \u001b[2m            \u001b[0m\n",
       "\u001b[2;36m                    \u001b[0m         Kurtosis:              \u001b[1;36m1.818\u001b[0m         Condition No.:           \u001b[1;36m76\u001b[0m          \u001b[2m            \u001b[0m\n",
       "\u001b[2;36m                    \u001b[0m         ===================================================================       \u001b[2m            \u001b[0m\n",
       "\u001b[2;36m                    \u001b[0m         Notes:                                                                    \u001b[2m            \u001b[0m\n",
       "\u001b[2;36m                    \u001b[0m         \u001b[1m[\u001b[0m\u001b[1;36m1\u001b[0m\u001b[1m]\u001b[0m Standard Errors assume that the covariance matrix of the errors       \u001b[2m            \u001b[0m\n",
       "\u001b[2;36m                    \u001b[0m         is correctly specified.                                                   \u001b[2m            \u001b[0m\n"
      ]
     },
     "metadata": {},
     "output_type": "display_data"
    }
   ],
   "source": [
    "model_,models = regress_VCT(model=model, df_VCT=df_VCT, pipeline=pipeline_RHI, exclude_parameters=exclude_parameters)\n",
    "model_,models_ = regress_VCT(model=model, df_VCT=df_VCT, pipeline=pipeline, exclude_parameters=exclude_parameters)\n",
    "models.update(models_)"
   ]
  },
  {
   "cell_type": "code",
   "execution_count": 95,
   "id": "e40b4bc2-606d-4d09-9312-1f4adda54893",
   "metadata": {},
   "outputs": [],
   "source": [
    "parameters = pd.Series()\n",
    "for name, regression in models.items():\n",
    "    mask = regression.params.values != 0\n",
    "    parameters[name] = np.array(regression.params.keys())[mask]"
   ]
  },
  {
   "cell_type": "code",
   "execution_count": null,
   "id": "5a0ef999-c2b8-4ed6-8d06-8362589b5e8a",
   "metadata": {},
   "outputs": [],
   "source": []
  },
  {
   "cell_type": "code",
   "execution_count": 96,
   "id": "4515a93a-1a99-4ca5-8296-fa044ed351e2",
   "metadata": {},
   "outputs": [
    {
     "data": {
      "text/html": [
       "<pre style=\"white-space:pre;overflow-x:auto;line-height:normal;font-family:Menlo,'DejaVu Sans Mono',consolas,'Courier New',monospace\"></pre>\n"
      ],
      "text/plain": []
     },
     "metadata": {},
     "output_type": "display_data"
    },
    {
     "data": {
      "text/plain": [
       "\n",
       "rudder hull interaction aH            \u001b[1m[\u001b[0maH\u001b[1m]\u001b[0m\n",
       "rudder hull interaction xH            \u001b[1m[\u001b[0mxH\u001b[1m]\u001b[0m\n",
       "resistance                        \u001b[1m[\u001b[0mX0, Xu\u001b[1m]\u001b[0m\n",
       "Drift angle fx                \u001b[1m[\u001b[0mXvv, const\u001b[1m]\u001b[0m\n",
       "Drift angle fy                        \u001b[1m[\u001b[0mYv\u001b[1m]\u001b[0m\n",
       "Drift angle mz                        \u001b[1m[\u001b[0mNv\u001b[1m]\u001b[0m\n",
       "Circle fx                     \u001b[1m[\u001b[0mXrr, const\u001b[1m]\u001b[0m\n",
       "Circle mz                             \u001b[1m[\u001b[0mNr\u001b[1m]\u001b[0m\n",
       "Circle + Drift fx             \u001b[1m[\u001b[0mXvr, const\u001b[1m]\u001b[0m\n",
       "dtype: object"
      ]
     },
     "execution_count": 96,
     "metadata": {},
     "output_type": "execute_result"
    }
   ],
   "source": [
    "parameters"
   ]
  },
  {
   "cell_type": "code",
   "execution_count": 97,
   "id": "4aebc6dd-ba47-4175-8f18-d03fb3ea55b0",
   "metadata": {},
   "outputs": [
    {
     "data": {
      "text/html": [
       "<pre style=\"white-space:pre;overflow-x:auto;line-height:normal;font-family:Menlo,'DejaVu Sans Mono',consolas,'Courier New',monospace\"></pre>\n"
      ],
      "text/plain": []
     },
     "metadata": {},
     "output_type": "display_data"
    },
    {
     "data": {
      "text/latex": [
       "$\\displaystyle X_{H} = X_{0} + X_{rr} r^{2} + X_{u} u + X_{vr} r v + X_{vv} v^{2}$"
      ],
      "text/plain": [
       "\u001b[1;35mEq\u001b[0m\u001b[1m(\u001b[0mX_H, X_\u001b[1m{\u001b[0m\u001b[1;36m0\u001b[0m\u001b[1m}\u001b[0m + X_\u001b[1m{\u001b[0mrr\u001b[1m}\u001b[0m*r**\u001b[1;36m2\u001b[0m + X_\u001b[1m{\u001b[0mu\u001b[1m}\u001b[0m*u + X_\u001b[1m{\u001b[0mvr\u001b[1m}\u001b[0m*r*v + X_\u001b[1m{\u001b[0mvv\u001b[1m}\u001b[0m*v**\u001b[1;36m2\u001b[0m\u001b[1m)\u001b[0m"
      ]
     },
     "execution_count": 97,
     "metadata": {},
     "output_type": "execute_result"
    }
   ],
   "source": [
    "regression.eq"
   ]
  },
  {
   "cell_type": "code",
   "execution_count": 98,
   "id": "67331872-7176-4978-96b5-ef055f6f20d1",
   "metadata": {},
   "outputs": [
    {
     "data": {
      "text/html": [
       "<pre style=\"white-space:pre;overflow-x:auto;line-height:normal;font-family:Menlo,'DejaVu Sans Mono',consolas,'Courier New',monospace\"></pre>\n"
      ],
      "text/plain": []
     },
     "metadata": {},
     "output_type": "display_data"
    },
    {
     "data": {
      "text/plain": [
       "\u001b[32m\"\u001b[0m\u001b[32m{\u001b[0m\u001b[32mX_\u001b[0m\u001b[32m{\u001b[0m\u001b[32mH\u001b[0m\u001b[32m}\u001b[0m\u001b[32m}\u001b[0m\u001b[32m'\"\u001b[0m"
      ]
     },
     "execution_count": 98,
     "metadata": {},
     "output_type": "execute_result"
    }
   ],
   "source": [
    "eq_latex = sp.latex(regression.eq.lhs)\n",
    "eq_latex_prime = f\"{{{eq_latex}}}'\"\n",
    "eq_latex_prime"
   ]
  },
  {
   "cell_type": "code",
   "execution_count": 99,
   "id": "ffa0b1a4-f4cf-4953-b042-6f46dcaace1d",
   "metadata": {},
   "outputs": [],
   "source": [
    "def to_latex_prime(expression):\n",
    "    eq_latex = sp.latex(expression)\n",
    "    eq_latex_prime = f\"${{{eq_latex}}}'$\"\n",
    "    eq_latex_prime = eq_latex_prime.replace('delta',r'\\delta')\n",
    "    return eq_latex_prime"
   ]
  },
  {
   "cell_type": "code",
   "execution_count": 100,
   "id": "7e221e91-7232-4974-8181-7eb36adb1310",
   "metadata": {},
   "outputs": [],
   "source": [
    "name_replace={\n",
    "    \"rudder hull interaction aH\":\"Rudder angle\",\n",
    "    \"rudder hull interaction xH\":\"Rudder angle\",\n",
    "    \"resistance\":\"Self propulsion\",\n",
    "}"
   ]
  },
  {
   "cell_type": "code",
   "execution_count": 108,
   "id": "a05295d0-80bb-4f82-a8f0-6e4b4b64a641",
   "metadata": {},
   "outputs": [],
   "source": [
    "variable_names = {symbol:key for key,symbol in df_parameters['symbol'].items()}\n",
    "variable_names[a_H] = 'a_H'\n",
    "variable_names[x_H] = 'x_H'"
   ]
  },
  {
   "cell_type": "code",
   "execution_count": 109,
   "id": "c11f1767-ba58-44e1-8163-b0ef2fa1ff0d",
   "metadata": {},
   "outputs": [],
   "source": [
    "table_regression_pipeline = pd.DataFrame()\n",
    "found = set([u,v,r,delta,thrust_port,thrust_stbd,p.Xthruststbd,p.Xthrustport,y_p_port, y_p_stbd,p.Y0,p.N0,Y_R,N_R])\n",
    "for name, regression in models.items():\n",
    "    new_parameters = regression.eq.rhs.free_symbols - found\n",
    "\n",
    "    zeros = []\n",
    "    for parameter in new_parameters:\n",
    "        if model.parameters[variable_names[parameter]] == 0:\n",
    "            zeros.append(parameter)\n",
    "\n",
    "    new_parameters = new_parameters - set(zeros)\n",
    "    \n",
    "    found=found.union(new_parameters)\n",
    "    \n",
    "    test_type = str(name)\n",
    "    test_type = test_type.replace(\" fx\",\"\")\n",
    "    test_type = test_type.replace(\" fy\",\"\")\n",
    "    test_type = test_type.replace(\" mz\",\"\")\n",
    "    table_regression_pipeline.loc[name,'Test type'] = name_replace.get(test_type,test_type) \n",
    "    table_regression_pipeline.loc[name,'Label'] = to_latex_prime(regression.eq.lhs)\n",
    "    table_regression_pipeline.loc[name,'Features'] = \" \".join([to_latex_prime(parameter) for parameter in new_parameters])"
   ]
  },
  {
   "cell_type": "code",
   "execution_count": 110,
   "id": "ab487bc5-8aa5-4d5e-92cb-a1dfdc08a948",
   "metadata": {},
   "outputs": [
    {
     "data": {
      "text/html": [
       "<pre style=\"white-space:pre;overflow-x:auto;line-height:normal;font-family:Menlo,'DejaVu Sans Mono',consolas,'Courier New',monospace\"></pre>\n"
      ],
      "text/plain": []
     },
     "metadata": {},
     "output_type": "display_data"
    },
    {
     "data": {
      "text/plain": [
       "\u001b[3;92mTrue\u001b[0m"
      ]
     },
     "execution_count": 110,
     "metadata": {},
     "output_type": "execute_result"
    }
   ],
   "source": [
    "model.parameters[variable_names[p.Nvvv]] == 0"
   ]
  },
  {
   "cell_type": "code",
   "execution_count": 111,
   "id": "077c2f10-146b-429a-817b-155ba443639e",
   "metadata": {},
   "outputs": [
    {
     "data": {
      "text/html": [
       "<pre style=\"white-space:pre;overflow-x:auto;line-height:normal;font-family:Menlo,'DejaVu Sans Mono',consolas,'Courier New',monospace\"></pre>\n"
      ],
      "text/plain": []
     },
     "metadata": {},
     "output_type": "display_data"
    },
    {
     "data": {
      "text/html": [
       "<div>\n",
       "<style scoped>\n",
       "    .dataframe tbody tr th:only-of-type {\n",
       "        vertical-align: middle;\n",
       "    }\n",
       "\n",
       "    .dataframe tbody tr th {\n",
       "        vertical-align: top;\n",
       "    }\n",
       "\n",
       "    .dataframe thead th {\n",
       "        text-align: right;\n",
       "    }\n",
       "</style>\n",
       "<table border=\"1\" class=\"dataframe\">\n",
       "  <thead>\n",
       "    <tr style=\"text-align: right;\">\n",
       "      <th></th>\n",
       "      <th>Test type</th>\n",
       "      <th>Label</th>\n",
       "      <th>Features</th>\n",
       "    </tr>\n",
       "  </thead>\n",
       "  <tbody>\n",
       "    <tr>\n",
       "      <th>rudder hull interaction aH</th>\n",
       "      <td>Rudder angle</td>\n",
       "      <td>${Y_{D}}'$</td>\n",
       "      <td>${a_{H}}'$</td>\n",
       "    </tr>\n",
       "    <tr>\n",
       "      <th>rudder hull interaction xH</th>\n",
       "      <td>Rudder angle</td>\n",
       "      <td>${N_{D}}'$</td>\n",
       "      <td>${x_{H}}'$</td>\n",
       "    </tr>\n",
       "    <tr>\n",
       "      <th>resistance</th>\n",
       "      <td>Self propulsion</td>\n",
       "      <td>${X_{H}}'$</td>\n",
       "      <td>${X_{u}}'$ ${X_{0}}'$</td>\n",
       "    </tr>\n",
       "    <tr>\n",
       "      <th>Drift angle fx</th>\n",
       "      <td>Drift angle</td>\n",
       "      <td>${X_{H}}'$</td>\n",
       "      <td>${X_{vv}}'$</td>\n",
       "    </tr>\n",
       "    <tr>\n",
       "      <th>Drift angle fy</th>\n",
       "      <td>Drift angle</td>\n",
       "      <td>${Y_{H}}'$</td>\n",
       "      <td>${Y_{v}}'$</td>\n",
       "    </tr>\n",
       "    <tr>\n",
       "      <th>Drift angle mz</th>\n",
       "      <td>Drift angle</td>\n",
       "      <td>${N_{H}}'$</td>\n",
       "      <td>${N_{v}}'$</td>\n",
       "    </tr>\n",
       "    <tr>\n",
       "      <th>Circle fx</th>\n",
       "      <td>Circle</td>\n",
       "      <td>${X_{H}}'$</td>\n",
       "      <td>${X_{rr}}'$</td>\n",
       "    </tr>\n",
       "    <tr>\n",
       "      <th>Circle mz</th>\n",
       "      <td>Circle</td>\n",
       "      <td>${N_{H}}'$</td>\n",
       "      <td>${N_{r}}'$</td>\n",
       "    </tr>\n",
       "    <tr>\n",
       "      <th>Circle + Drift fx</th>\n",
       "      <td>Circle + Drift</td>\n",
       "      <td>${X_{H}}'$</td>\n",
       "      <td>${X_{vr}}'$</td>\n",
       "    </tr>\n",
       "  </tbody>\n",
       "</table>\n",
       "</div>"
      ],
      "text/plain": [
       "\n",
       "                                  Test type       Label               Features\n",
       "rudder hull interaction aH     Rudder angle  $\u001b[1m{\u001b[0mY_\u001b[1m{\u001b[0mD\u001b[1m}\u001b[0m\u001b[1m}\u001b[0m\u001b[32m'$             $\u001b[0m\u001b[32m{\u001b[0m\u001b[32ma_\u001b[0m\u001b[32m{\u001b[0m\u001b[32mH\u001b[0m\u001b[32m}\u001b[0m\u001b[32m}\u001b[0m\u001b[32m'\u001b[0m$\n",
       "rudder hull interaction xH     Rudder angle  $\u001b[1m{\u001b[0mN_\u001b[1m{\u001b[0mD\u001b[1m}\u001b[0m\u001b[1m}\u001b[0m\u001b[32m'$             $\u001b[0m\u001b[32m{\u001b[0m\u001b[32mx_\u001b[0m\u001b[32m{\u001b[0m\u001b[32mH\u001b[0m\u001b[32m}\u001b[0m\u001b[32m}\u001b[0m\u001b[32m'\u001b[0m$\n",
       "resistance                  Self propulsion  $\u001b[1m{\u001b[0mX_\u001b[1m{\u001b[0mH\u001b[1m}\u001b[0m\u001b[1m}\u001b[0m\u001b[32m'$  $\u001b[0m\u001b[32m{\u001b[0m\u001b[32mX_\u001b[0m\u001b[32m{\u001b[0m\u001b[32mu\u001b[0m\u001b[32m}\u001b[0m\u001b[32m}\u001b[0m\u001b[32m'\u001b[0m$ $\u001b[1m{\u001b[0mX_\u001b[1m{\u001b[0m\u001b[1;36m0\u001b[0m\u001b[1m}\u001b[0m\u001b[1m}\u001b[0m'$\n",
       "Drift angle fx                  Drift angle  $\u001b[1m{\u001b[0mX_\u001b[1m{\u001b[0mH\u001b[1m}\u001b[0m\u001b[1m}\u001b[0m\u001b[32m'$            $\u001b[0m\u001b[32m{\u001b[0m\u001b[32mX_\u001b[0m\u001b[32m{\u001b[0m\u001b[32mvv\u001b[0m\u001b[32m}\u001b[0m\u001b[32m}\u001b[0m\u001b[32m'\u001b[0m$\n",
       "Drift angle fy                  Drift angle  $\u001b[1m{\u001b[0mY_\u001b[1m{\u001b[0mH\u001b[1m}\u001b[0m\u001b[1m}\u001b[0m\u001b[32m'$             $\u001b[0m\u001b[32m{\u001b[0m\u001b[32mY_\u001b[0m\u001b[32m{\u001b[0m\u001b[32mv\u001b[0m\u001b[32m}\u001b[0m\u001b[32m}\u001b[0m\u001b[32m'\u001b[0m$\n",
       "Drift angle mz                  Drift angle  $\u001b[1m{\u001b[0mN_\u001b[1m{\u001b[0mH\u001b[1m}\u001b[0m\u001b[1m}\u001b[0m\u001b[32m'$             $\u001b[0m\u001b[32m{\u001b[0m\u001b[32mN_\u001b[0m\u001b[32m{\u001b[0m\u001b[32mv\u001b[0m\u001b[32m}\u001b[0m\u001b[32m}\u001b[0m\u001b[32m'\u001b[0m$\n",
       "Circle fx                            Circle  $\u001b[1m{\u001b[0mX_\u001b[1m{\u001b[0mH\u001b[1m}\u001b[0m\u001b[1m}\u001b[0m\u001b[32m'$            $\u001b[0m\u001b[32m{\u001b[0m\u001b[32mX_\u001b[0m\u001b[32m{\u001b[0m\u001b[32mrr\u001b[0m\u001b[32m}\u001b[0m\u001b[32m}\u001b[0m\u001b[32m'\u001b[0m$\n",
       "Circle mz                            Circle  $\u001b[1m{\u001b[0mN_\u001b[1m{\u001b[0mH\u001b[1m}\u001b[0m\u001b[1m}\u001b[0m\u001b[32m'$             $\u001b[0m\u001b[32m{\u001b[0m\u001b[32mN_\u001b[0m\u001b[32m{\u001b[0m\u001b[32mr\u001b[0m\u001b[32m}\u001b[0m\u001b[32m}\u001b[0m\u001b[32m'\u001b[0m$\n",
       "Circle + Drift fx            Circle + Drift  $\u001b[1m{\u001b[0mX_\u001b[1m{\u001b[0mH\u001b[1m}\u001b[0m\u001b[1m}\u001b[0m\u001b[32m'$            $\u001b[0m\u001b[32m{\u001b[0m\u001b[32mX_\u001b[0m\u001b[32m{\u001b[0m\u001b[32mvr\u001b[0m\u001b[32m}\u001b[0m\u001b[32m}\u001b[0m\u001b[32m'\u001b[0m$"
      ]
     },
     "execution_count": 111,
     "metadata": {},
     "output_type": "execute_result"
    }
   ],
   "source": [
    "table_regression_pipeline"
   ]
  },
  {
   "cell_type": "code",
   "execution_count": 112,
   "id": "cb922561-29b9-48d2-b1ab-829f11525459",
   "metadata": {},
   "outputs": [],
   "source": [
    "table_regression_pipeline.to_csv(paper.file_path_with_nb_ref(\"regression_pipeline_semiempirical.csv\", directory='tables'), index=False)"
   ]
  },
  {
   "cell_type": "code",
   "execution_count": null,
   "id": "70582e7c-64ec-415d-9193-8de3135723c1",
   "metadata": {},
   "outputs": [],
   "source": []
  }
 ],
 "metadata": {
  "kernelspec": {
   "display_name": "Kedro (phd)",
   "language": "python",
   "name": "kedro_phd"
  },
  "language_info": {
   "codemirror_mode": {
    "name": "ipython",
    "version": 3
   },
   "file_extension": ".py",
   "mimetype": "text/x-python",
   "name": "python",
   "nbconvert_exporter": "python",
   "pygments_lexer": "ipython3",
   "version": "3.10.0"
  }
 },
 "nbformat": 4,
 "nbformat_minor": 5
}
