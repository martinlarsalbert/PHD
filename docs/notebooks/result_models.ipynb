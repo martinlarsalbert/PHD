{
 "cells": [
  {
   "cell_type": "markdown",
   "id": "73b818e3-c2d1-404f-8d10-04420970090d",
   "metadata": {},
   "source": [
    "# Result models"
   ]
  },
  {
   "cell_type": "code",
   "execution_count": 1,
   "id": "8b12dea1-f0d7-4aa5-969c-901c0064cda2",
   "metadata": {},
   "outputs": [],
   "source": [
    "#import warnings\n",
    "#warnings.filterwarnings('ignore')\n",
    "%matplotlib inline\n",
    "%load_ext autoreload\n",
    "%autoreload 2\n",
    "%config Completer.use_jedi = False"
   ]
  },
  {
   "cell_type": "code",
   "execution_count": 2,
   "id": "7de1fea8-6fb8-4ad0-b597-74b8dae1d84e",
   "metadata": {},
   "outputs": [],
   "source": [
    "import pandas as pd\n",
    "pd.set_option('display.max_rows', 5000)\n",
    "pd.set_option('display.max_columns', 5000)\n",
    "pd.set_option('display.width', 10000)\n",
    "import numpy as np\n",
    "import yaml\n",
    "\n",
    "from vessel_manoeuvring_models.visualization.plot import track_plot, plot\n",
    "from phd.visualization.plot_ship import track_plots\n",
    "from vessel_manoeuvring_models.prime_system import PrimeSystem\n",
    "from phd.visualization.plot_prediction import plot_total_force, plot_force_components, predict, plot_compare_model_forces, plot_parameter_contributions, group_parameters, joined_parameter_contributions, same_ylims\n",
    "from vessel_manoeuvring_models.symbols import *\n",
    "import matplotlib.pyplot as plt\n",
    "from vessel_manoeuvring_models.substitute_dynamic_symbols import run, lambdify, remove_functions, prime\n",
    "from vessel_manoeuvring_models.parameters import df_parameters\n",
    "p = df_parameters[\"symbol\"]\n",
    "import statsmodels.api as sm\n",
    "import sympy as sp\n",
    "from sympy import Eq, symbols, latex\n",
    "import paper\n",
    "from paper import save_fig, save_eq\n",
    "import yaml\n",
    "with open(\"styles.yml\", mode='r') as file:\n",
    "    styles = yaml.safe_load(file)\n",
    "from phd.pipelines.predict.nodes import score\n",
    "import vessel_manoeuvring_models.models.IMO_simulations"
   ]
  },
  {
   "cell_type": "code",
   "execution_count": 11,
   "id": "66aa1022-cb00-4aa4-bbf1-11370d11d54a",
   "metadata": {},
   "outputs": [
    {
     "data": {
      "text/html": [
       "<pre style=\"white-space:pre;overflow-x:auto;line-height:normal;font-family:Menlo,'DejaVu Sans Mono',consolas,'Courier New',monospace\"><span style=\"color: #7fbfbf; text-decoration-color: #7fbfbf\">[02/05/24 09:24:31] </span><span style=\"color: #000080; text-decoration-color: #000080\">INFO    </span> Loading data from <span style=\"color: #008000; text-decoration-color: #008000\">'wPCC.ship_data'</span> <span style=\"font-weight: bold\">(</span>YAMLDataSet<span style=\"font-weight: bold\">)</span><span style=\"color: #808000; text-decoration-color: #808000\">...</span>                <a href=\"file:///home/maa/miniconda3/envs/phd/lib/python3.10/site-packages/kedro/io/data_catalog.py\" target=\"_blank\"><span style=\"color: #7f7f7f; text-decoration-color: #7f7f7f\">data_catalog.py</span></a><span style=\"color: #7f7f7f; text-decoration-color: #7f7f7f\">:</span><a href=\"file:///home/maa/miniconda3/envs/phd/lib/python3.10/site-packages/kedro/io/data_catalog.py#502\" target=\"_blank\"><span style=\"color: #7f7f7f; text-decoration-color: #7f7f7f\">502</span></a>\n",
       "</pre>\n"
      ],
      "text/plain": [
       "\u001b[2;36m[02/05/24 09:24:31]\u001b[0m\u001b[2;36m \u001b[0m\u001b[34mINFO    \u001b[0m Loading data from \u001b[32m'wPCC.ship_data'\u001b[0m \u001b[1m(\u001b[0mYAMLDataSet\u001b[1m)\u001b[0m\u001b[33m...\u001b[0m                \u001b]8;id=407983;file:///home/maa/miniconda3/envs/phd/lib/python3.10/site-packages/kedro/io/data_catalog.py\u001b\\\u001b[2mdata_catalog.py\u001b[0m\u001b]8;;\u001b\\\u001b[2m:\u001b[0m\u001b]8;id=452473;file:///home/maa/miniconda3/envs/phd/lib/python3.10/site-packages/kedro/io/data_catalog.py#502\u001b\\\u001b[2m502\u001b[0m\u001b]8;;\u001b\\\n"
      ]
     },
     "metadata": {},
     "output_type": "display_data"
    },
    {
     "data": {
      "text/html": [
       "<pre style=\"white-space:pre;overflow-x:auto;line-height:normal;font-family:Menlo,'DejaVu Sans Mono',consolas,'Courier New',monospace\"><span style=\"color: #7fbfbf; text-decoration-color: #7fbfbf\">                    </span><span style=\"color: #000080; text-decoration-color: #000080\">INFO    </span> Loading data from <span style=\"color: #008000; text-decoration-color: #008000\">'wPCC.models_VCT_MDL'</span> <span style=\"font-weight: bold\">(</span>PartitionedDataset<span style=\"font-weight: bold\">)</span><span style=\"color: #808000; text-decoration-color: #808000\">...</span>    <a href=\"file:///home/maa/miniconda3/envs/phd/lib/python3.10/site-packages/kedro/io/data_catalog.py\" target=\"_blank\"><span style=\"color: #7f7f7f; text-decoration-color: #7f7f7f\">data_catalog.py</span></a><span style=\"color: #7f7f7f; text-decoration-color: #7f7f7f\">:</span><a href=\"file:///home/maa/miniconda3/envs/phd/lib/python3.10/site-packages/kedro/io/data_catalog.py#502\" target=\"_blank\"><span style=\"color: #7f7f7f; text-decoration-color: #7f7f7f\">502</span></a>\n",
       "</pre>\n"
      ],
      "text/plain": [
       "\u001b[2;36m                   \u001b[0m\u001b[2;36m \u001b[0m\u001b[34mINFO    \u001b[0m Loading data from \u001b[32m'wPCC.models_VCT_MDL'\u001b[0m \u001b[1m(\u001b[0mPartitionedDataset\u001b[1m)\u001b[0m\u001b[33m...\u001b[0m    \u001b]8;id=938987;file:///home/maa/miniconda3/envs/phd/lib/python3.10/site-packages/kedro/io/data_catalog.py\u001b\\\u001b[2mdata_catalog.py\u001b[0m\u001b]8;;\u001b\\\u001b[2m:\u001b[0m\u001b]8;id=893589;file:///home/maa/miniconda3/envs/phd/lib/python3.10/site-packages/kedro/io/data_catalog.py#502\u001b\\\u001b[2m502\u001b[0m\u001b]8;;\u001b\\\n"
      ]
     },
     "metadata": {},
     "output_type": "display_data"
    },
    {
     "data": {
      "text/html": [
       "<pre style=\"white-space:pre;overflow-x:auto;line-height:normal;font-family:Menlo,'DejaVu Sans Mono',consolas,'Courier New',monospace\"><span style=\"color: #7fbfbf; text-decoration-color: #7fbfbf\">                    </span><span style=\"color: #000080; text-decoration-color: #000080\">INFO    </span> Loading data from <span style=\"color: #008000; text-decoration-color: #008000\">'wPCC.models_ID_hull2'</span> <span style=\"font-weight: bold\">(</span>PartitionedDataset<span style=\"font-weight: bold\">)</span><span style=\"color: #808000; text-decoration-color: #808000\">...</span>   <a href=\"file:///home/maa/miniconda3/envs/phd/lib/python3.10/site-packages/kedro/io/data_catalog.py\" target=\"_blank\"><span style=\"color: #7f7f7f; text-decoration-color: #7f7f7f\">data_catalog.py</span></a><span style=\"color: #7f7f7f; text-decoration-color: #7f7f7f\">:</span><a href=\"file:///home/maa/miniconda3/envs/phd/lib/python3.10/site-packages/kedro/io/data_catalog.py#502\" target=\"_blank\"><span style=\"color: #7f7f7f; text-decoration-color: #7f7f7f\">502</span></a>\n",
       "</pre>\n"
      ],
      "text/plain": [
       "\u001b[2;36m                   \u001b[0m\u001b[2;36m \u001b[0m\u001b[34mINFO    \u001b[0m Loading data from \u001b[32m'wPCC.models_ID_hull2'\u001b[0m \u001b[1m(\u001b[0mPartitionedDataset\u001b[1m)\u001b[0m\u001b[33m...\u001b[0m   \u001b]8;id=694754;file:///home/maa/miniconda3/envs/phd/lib/python3.10/site-packages/kedro/io/data_catalog.py\u001b\\\u001b[2mdata_catalog.py\u001b[0m\u001b]8;;\u001b\\\u001b[2m:\u001b[0m\u001b]8;id=872159;file:///home/maa/miniconda3/envs/phd/lib/python3.10/site-packages/kedro/io/data_catalog.py#502\u001b\\\u001b[2m502\u001b[0m\u001b]8;;\u001b\\\n"
      ]
     },
     "metadata": {},
     "output_type": "display_data"
    },
    {
     "data": {
      "text/html": [
       "<pre style=\"white-space:pre;overflow-x:auto;line-height:normal;font-family:Menlo,'DejaVu Sans Mono',consolas,'Courier New',monospace\"><span style=\"color: #7fbfbf; text-decoration-color: #7fbfbf\">                    </span><span style=\"color: #800000; text-decoration-color: #800000\">WARNING </span> <span style=\"color: #800080; text-decoration-color: #800080\">/home/maa/miniconda3/envs/phd/lib/python3.10/site-packages/kedro/io/</span><span style=\"color: #ff00ff; text-decoration-color: #ff00ff\">pa</span> <a href=\"file:///home/maa/miniconda3/envs/phd/lib/python3.10/warnings.py\" target=\"_blank\"><span style=\"color: #7f7f7f; text-decoration-color: #7f7f7f\">warnings.py</span></a><span style=\"color: #7f7f7f; text-decoration-color: #7f7f7f\">:</span><a href=\"file:///home/maa/miniconda3/envs/phd/lib/python3.10/warnings.py#109\" target=\"_blank\"><span style=\"color: #7f7f7f; text-decoration-color: #7f7f7f\">109</span></a>\n",
       "<span style=\"color: #7fbfbf; text-decoration-color: #7fbfbf\">                    </span>         <span style=\"color: #ff00ff; text-decoration-color: #ff00ff\">rtitioned_dataset.py</span>:<span style=\"color: #008080; text-decoration-color: #008080; font-weight: bold\">200</span>: KedroDeprecationWarning:                     <span style=\"color: #7f7f7f; text-decoration-color: #7f7f7f\">               </span>\n",
       "<span style=\"color: #7fbfbf; text-decoration-color: #7fbfbf\">                    </span>         <span style=\"color: #008000; text-decoration-color: #008000\">'PartitionedDataset'</span> has been moved to `kedro-datasets` and will be    <span style=\"color: #7f7f7f; text-decoration-color: #7f7f7f\">               </span>\n",
       "<span style=\"color: #7fbfbf; text-decoration-color: #7fbfbf\">                    </span>         removed in Kedro <span style=\"color: #008080; text-decoration-color: #008080; font-weight: bold\">0.19</span>.<span style=\"color: #008080; text-decoration-color: #008080; font-weight: bold\">0</span>.                                               <span style=\"color: #7f7f7f; text-decoration-color: #7f7f7f\">               </span>\n",
       "<span style=\"color: #7fbfbf; text-decoration-color: #7fbfbf\">                    </span>           <span style=\"color: #800080; text-decoration-color: #800080; font-weight: bold\">warnings.warn</span><span style=\"font-weight: bold\">(</span>                                                       <span style=\"color: #7f7f7f; text-decoration-color: #7f7f7f\">               </span>\n",
       "<span style=\"color: #7fbfbf; text-decoration-color: #7fbfbf\">                    </span>                                                                                <span style=\"color: #7f7f7f; text-decoration-color: #7f7f7f\">               </span>\n",
       "</pre>\n"
      ],
      "text/plain": [
       "\u001b[2;36m                   \u001b[0m\u001b[2;36m \u001b[0m\u001b[31mWARNING \u001b[0m \u001b[35m/home/maa/miniconda3/envs/phd/lib/python3.10/site-packages/kedro/io/\u001b[0m\u001b[95mpa\u001b[0m \u001b]8;id=843479;file:///home/maa/miniconda3/envs/phd/lib/python3.10/warnings.py\u001b\\\u001b[2mwarnings.py\u001b[0m\u001b]8;;\u001b\\\u001b[2m:\u001b[0m\u001b]8;id=377242;file:///home/maa/miniconda3/envs/phd/lib/python3.10/warnings.py#109\u001b\\\u001b[2m109\u001b[0m\u001b]8;;\u001b\\\n",
       "\u001b[2;36m                    \u001b[0m         \u001b[95mrtitioned_dataset.py\u001b[0m:\u001b[1;36m200\u001b[0m: KedroDeprecationWarning:                     \u001b[2m               \u001b[0m\n",
       "\u001b[2;36m                    \u001b[0m         \u001b[32m'PartitionedDataset'\u001b[0m has been moved to `kedro-datasets` and will be    \u001b[2m               \u001b[0m\n",
       "\u001b[2;36m                    \u001b[0m         removed in Kedro \u001b[1;36m0.19\u001b[0m.\u001b[1;36m0\u001b[0m.                                               \u001b[2m               \u001b[0m\n",
       "\u001b[2;36m                    \u001b[0m           \u001b[1;35mwarnings.warn\u001b[0m\u001b[1m(\u001b[0m                                                       \u001b[2m               \u001b[0m\n",
       "\u001b[2;36m                    \u001b[0m                                                                                \u001b[2m               \u001b[0m\n"
      ]
     },
     "metadata": {},
     "output_type": "display_data"
    },
    {
     "data": {
      "text/html": [
       "<pre style=\"white-space:pre;overflow-x:auto;line-height:normal;font-family:Menlo,'DejaVu Sans Mono',consolas,'Courier New',monospace\"><span style=\"color: #7fbfbf; text-decoration-color: #7fbfbf\">                    </span><span style=\"color: #000080; text-decoration-color: #000080\">INFO    </span> Loading data from <span style=\"color: #008000; text-decoration-color: #008000\">'wPCC.models_ID_hull_rudder2'</span>                    <a href=\"file:///home/maa/miniconda3/envs/phd/lib/python3.10/site-packages/kedro/io/data_catalog.py\" target=\"_blank\"><span style=\"color: #7f7f7f; text-decoration-color: #7f7f7f\">data_catalog.py</span></a><span style=\"color: #7f7f7f; text-decoration-color: #7f7f7f\">:</span><a href=\"file:///home/maa/miniconda3/envs/phd/lib/python3.10/site-packages/kedro/io/data_catalog.py#502\" target=\"_blank\"><span style=\"color: #7f7f7f; text-decoration-color: #7f7f7f\">502</span></a>\n",
       "<span style=\"color: #7fbfbf; text-decoration-color: #7fbfbf\">                    </span>         <span style=\"font-weight: bold\">(</span>PartitionedDataset<span style=\"font-weight: bold\">)</span><span style=\"color: #808000; text-decoration-color: #808000\">...</span>                                            <span style=\"color: #7f7f7f; text-decoration-color: #7f7f7f\">                   </span>\n",
       "</pre>\n"
      ],
      "text/plain": [
       "\u001b[2;36m                   \u001b[0m\u001b[2;36m \u001b[0m\u001b[34mINFO    \u001b[0m Loading data from \u001b[32m'wPCC.models_ID_hull_rudder2'\u001b[0m                    \u001b]8;id=833915;file:///home/maa/miniconda3/envs/phd/lib/python3.10/site-packages/kedro/io/data_catalog.py\u001b\\\u001b[2mdata_catalog.py\u001b[0m\u001b]8;;\u001b\\\u001b[2m:\u001b[0m\u001b]8;id=829141;file:///home/maa/miniconda3/envs/phd/lib/python3.10/site-packages/kedro/io/data_catalog.py#502\u001b\\\u001b[2m502\u001b[0m\u001b]8;;\u001b\\\n",
       "\u001b[2;36m                    \u001b[0m         \u001b[1m(\u001b[0mPartitionedDataset\u001b[1m)\u001b[0m\u001b[33m...\u001b[0m                                            \u001b[2m                   \u001b[0m\n"
      ]
     },
     "metadata": {},
     "output_type": "display_data"
    }
   ],
   "source": [
    "#%reload_kedro\n",
    "ship='wPCC'\n",
    "ship_data = catalog.load(f\"{ship}.ship_data\")\n",
    "\n",
    "loaders = {\n",
    "        \n",
    "    'Reference model' : catalog.load(f\"{ship}.models_VCT_MDL\")['semiempirical_covered'],\n",
    "    'Physics informed ID' : catalog.load(f\"{ship}.models_ID_hull2\")['semiempirical_covered'],\n",
    "    \n",
    "    #'Abkowitz  VCT': catalog.load(f\"{ship}.models_rudder_VCT_MDL\")['Abkowitz'],\n",
    "    'Abkowitz ID' : catalog.load(f\"{ship}.models_ID_hull_rudder2\")['Abkowitz'],\n",
    "}"
   ]
  },
  {
   "cell_type": "code",
   "execution_count": 12,
   "id": "0dc7e454-708a-4a81-b30b-9819fc340adf",
   "metadata": {},
   "outputs": [],
   "source": [
    "models = {name:loader() for name,loader in loaders.items()}"
   ]
  },
  {
   "cell_type": "code",
   "execution_count": 30,
   "id": "d9737dcd-2146-460c-9839-b951b532321d",
   "metadata": {},
   "outputs": [],
   "source": [
    "dofs=['X','Y','N']\n",
    "_=[]\n",
    "for model_name,model in models.items():\n",
    "    pars_all = {}\n",
    "    for dof in dofs:\n",
    "        pars = {key:value for key,value in model.parameters.items() if ((value!=0) and (key[0]==dof) and (not 'dot' in key) and (not 'delta' in key) and (not 'thrust' in key))}\n",
    "        pars_all.update(pars)\n",
    "    \n",
    "    pars_all['model'] = model_name\n",
    "    _.append(pars_all)\n",
    "\n",
    "df_parameters = pd.DataFrame(_)\n",
    "df_parameters = df_parameters.set_index('model').transpose()\n",
    "df_parameters.index = pd.Series(df_parameters.index).apply(lambda x:fr\"${{{x[0]}'}}_{{{x[1:]}}}$\")"
   ]
  },
  {
   "cell_type": "code",
   "execution_count": 31,
   "id": "f9f0db34-915c-4093-86ef-dae37ca9df32",
   "metadata": {},
   "outputs": [
    {
     "data": {
      "text/html": [
       "<pre style=\"white-space:pre;overflow-x:auto;line-height:normal;font-family:Menlo,'DejaVu Sans Mono',consolas,'Courier New',monospace\"></pre>\n"
      ],
      "text/plain": []
     },
     "metadata": {},
     "output_type": "display_data"
    },
    {
     "data": {
      "text/html": [
       "<div>\n",
       "<style scoped>\n",
       "    .dataframe tbody tr th:only-of-type {\n",
       "        vertical-align: middle;\n",
       "    }\n",
       "\n",
       "    .dataframe tbody tr th {\n",
       "        vertical-align: top;\n",
       "    }\n",
       "\n",
       "    .dataframe thead th {\n",
       "        text-align: right;\n",
       "    }\n",
       "</style>\n",
       "<table border=\"1\" class=\"dataframe\">\n",
       "  <thead>\n",
       "    <tr style=\"text-align: right;\">\n",
       "      <th>model</th>\n",
       "      <th>Reference model</th>\n",
       "      <th>Physics informed ID</th>\n",
       "      <th>Abkowitz ID</th>\n",
       "    </tr>\n",
       "  </thead>\n",
       "  <tbody>\n",
       "    <tr>\n",
       "      <th>${X'}_{0}$</th>\n",
       "      <td>-0.001023</td>\n",
       "      <td>-0.001023</td>\n",
       "      <td>-0.001023</td>\n",
       "    </tr>\n",
       "    <tr>\n",
       "      <th>${X'}_{u}$</th>\n",
       "      <td>0.000335</td>\n",
       "      <td>0.000335</td>\n",
       "      <td>0.000335</td>\n",
       "    </tr>\n",
       "    <tr>\n",
       "      <th>${X'}_{vv}$</th>\n",
       "      <td>-0.000483</td>\n",
       "      <td>-0.005464</td>\n",
       "      <td>0.015722</td>\n",
       "    </tr>\n",
       "    <tr>\n",
       "      <th>${X'}_{rr}$</th>\n",
       "      <td>-0.000303</td>\n",
       "      <td>0.001867</td>\n",
       "      <td>0.020849</td>\n",
       "    </tr>\n",
       "    <tr>\n",
       "      <th>${X'}_{vr}$</th>\n",
       "      <td>0.002553</td>\n",
       "      <td>0.004087</td>\n",
       "      <td>0.036856</td>\n",
       "    </tr>\n",
       "    <tr>\n",
       "      <th>${Y'}_{v}$</th>\n",
       "      <td>-0.007984</td>\n",
       "      <td>-0.008875</td>\n",
       "      <td>-0.020439</td>\n",
       "    </tr>\n",
       "    <tr>\n",
       "      <th>${N'}_{v}$</th>\n",
       "      <td>-0.003206</td>\n",
       "      <td>-0.002769</td>\n",
       "      <td>-0.000402</td>\n",
       "    </tr>\n",
       "    <tr>\n",
       "      <th>${N'}_{r}$</th>\n",
       "      <td>-0.001551</td>\n",
       "      <td>-0.001546</td>\n",
       "      <td>-0.002849</td>\n",
       "    </tr>\n",
       "  </tbody>\n",
       "</table>\n",
       "</div>"
      ],
      "text/plain": [
       "\n",
       "model        Reference model  Physics informed ID  Abkowitz ID\n",
       "$\u001b[1m{\u001b[0mX'\u001b[1m}\u001b[0m_\u001b[1m{\u001b[0m\u001b[1;36m0\u001b[0m\u001b[1m}\u001b[0m$         \u001b[1;36m-0.001023\u001b[0m            \u001b[1;36m-0.001023\u001b[0m    \u001b[1;36m-0.001023\u001b[0m\n",
       "$\u001b[1m{\u001b[0mX'\u001b[1m}\u001b[0m_\u001b[1m{\u001b[0mu\u001b[1m}\u001b[0m$          \u001b[1;36m0.000335\u001b[0m             \u001b[1;36m0.000335\u001b[0m     \u001b[1;36m0.000335\u001b[0m\n",
       "$\u001b[1m{\u001b[0mX'\u001b[1m}\u001b[0m_\u001b[1m{\u001b[0mvv\u001b[1m}\u001b[0m$        \u001b[1;36m-0.000483\u001b[0m            \u001b[1;36m-0.005464\u001b[0m     \u001b[1;36m0.015722\u001b[0m\n",
       "$\u001b[1m{\u001b[0mX'\u001b[1m}\u001b[0m_\u001b[1m{\u001b[0mrr\u001b[1m}\u001b[0m$        \u001b[1;36m-0.000303\u001b[0m             \u001b[1;36m0.001867\u001b[0m     \u001b[1;36m0.020849\u001b[0m\n",
       "$\u001b[1m{\u001b[0mX'\u001b[1m}\u001b[0m_\u001b[1m{\u001b[0mvr\u001b[1m}\u001b[0m$         \u001b[1;36m0.002553\u001b[0m             \u001b[1;36m0.004087\u001b[0m     \u001b[1;36m0.036856\u001b[0m\n",
       "$\u001b[1m{\u001b[0mY'\u001b[1m}\u001b[0m_\u001b[1m{\u001b[0mv\u001b[1m}\u001b[0m$         \u001b[1;36m-0.007984\u001b[0m            \u001b[1;36m-0.008875\u001b[0m    \u001b[1;36m-0.020439\u001b[0m\n",
       "$\u001b[1m{\u001b[0mN'\u001b[1m}\u001b[0m_\u001b[1m{\u001b[0mv\u001b[1m}\u001b[0m$         \u001b[1;36m-0.003206\u001b[0m            \u001b[1;36m-0.002769\u001b[0m    \u001b[1;36m-0.000402\u001b[0m\n",
       "$\u001b[1m{\u001b[0mN'\u001b[1m}\u001b[0m_\u001b[1m{\u001b[0mr\u001b[1m}\u001b[0m$         \u001b[1;36m-0.001551\u001b[0m            \u001b[1;36m-0.001546\u001b[0m    \u001b[1;36m-0.002849\u001b[0m"
      ]
     },
     "execution_count": 31,
     "metadata": {},
     "output_type": "execute_result"
    }
   ],
   "source": [
    "df_parameters"
   ]
  },
  {
   "cell_type": "code",
   "execution_count": null,
   "id": "2ca0c768-1436-4e2c-a029-0b5da1ee30d1",
   "metadata": {},
   "outputs": [],
   "source": [
    "df_parameters.to_csv(paper.file_path_with_nb_ref(\"parameters.csv\", directory='tables'), index=False)"
   ]
  }
 ],
 "metadata": {
  "kernelspec": {
   "display_name": "Kedro (phd)",
   "language": "python",
   "name": "kedro_phd"
  },
  "language_info": {
   "codemirror_mode": {
    "name": "ipython",
    "version": 3
   },
   "file_extension": ".py",
   "mimetype": "text/x-python",
   "name": "python",
   "nbconvert_exporter": "python",
   "pygments_lexer": "ipython3",
   "version": "3.10.0"
  }
 },
 "nbformat": 4,
 "nbformat_minor": 5
}
