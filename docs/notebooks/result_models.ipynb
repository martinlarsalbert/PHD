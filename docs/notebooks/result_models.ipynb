{
 "cells": [
  {
   "cell_type": "markdown",
   "id": "73b818e3-c2d1-404f-8d10-04420970090d",
   "metadata": {},
   "source": [
    "# Result models"
   ]
  },
  {
   "cell_type": "code",
   "execution_count": 1,
   "id": "8b12dea1-f0d7-4aa5-969c-901c0064cda2",
   "metadata": {},
   "outputs": [],
   "source": [
    "#import warnings\n",
    "#warnings.filterwarnings('ignore')\n",
    "%matplotlib inline\n",
    "%load_ext autoreload\n",
    "%autoreload 2\n",
    "%config Completer.use_jedi = False"
   ]
  },
  {
   "cell_type": "code",
   "execution_count": 2,
   "id": "7de1fea8-6fb8-4ad0-b597-74b8dae1d84e",
   "metadata": {},
   "outputs": [],
   "source": [
    "import pandas as pd\n",
    "pd.set_option('display.max_rows', 5000)\n",
    "pd.set_option('display.max_columns', 5000)\n",
    "pd.set_option('display.width', 10000)\n",
    "import numpy as np\n",
    "import yaml\n",
    "\n",
    "from vessel_manoeuvring_models.visualization.plot import track_plot, plot\n",
    "from phd.visualization.plot_ship import track_plots\n",
    "from vessel_manoeuvring_models.prime_system import PrimeSystem\n",
    "from phd.visualization.plot_prediction import plot_total_force, plot_force_components, predict, plot_compare_model_forces, plot_parameter_contributions, group_parameters, joined_parameter_contributions, same_ylims\n",
    "from vessel_manoeuvring_models.symbols import *\n",
    "import matplotlib.pyplot as plt\n",
    "from vessel_manoeuvring_models.substitute_dynamic_symbols import run, lambdify, remove_functions, prime\n",
    "from vessel_manoeuvring_models.parameters import df_parameters as df_parameters_all\n",
    "p = df_parameters_all[\"symbol\"]\n",
    "import statsmodels.api as sm\n",
    "import sympy as sp\n",
    "from sympy import Eq, symbols, latex\n",
    "import paper\n",
    "from paper import save_fig, save_eq\n",
    "import yaml\n",
    "with open(\"styles.yml\", mode='r') as file:\n",
    "    styles = yaml.safe_load(file)\n",
    "from phd.pipelines.predict.nodes import score\n",
    "import vessel_manoeuvring_models.models.IMO_simulations\n",
    "from phd.paper.equation import to_latex"
   ]
  },
  {
   "cell_type": "code",
   "execution_count": 3,
   "id": "66aa1022-cb00-4aa4-bbf1-11370d11d54a",
   "metadata": {},
   "outputs": [
    {
     "data": {
      "text/html": [
       "<pre style=\"white-space:pre;overflow-x:auto;line-height:normal;font-family:Menlo,'DejaVu Sans Mono',consolas,'Courier New',monospace\"><span style=\"color: #7fbfbf; text-decoration-color: #7fbfbf\">[02/14/24 09:33:47] </span><span style=\"color: #000080; text-decoration-color: #000080\">INFO    </span> Loading data from <span style=\"color: #008000; text-decoration-color: #008000\">'wPCC.ship_data'</span> <span style=\"font-weight: bold\">(</span>YAMLDataSet<span style=\"font-weight: bold\">)</span><span style=\"color: #808000; text-decoration-color: #808000\">...</span>                <a href=\"file:///home/maa/anaconda3/envs/phd/lib/python3.10/site-packages/kedro/io/data_catalog.py\" target=\"_blank\"><span style=\"color: #7f7f7f; text-decoration-color: #7f7f7f\">data_catalog.py</span></a><span style=\"color: #7f7f7f; text-decoration-color: #7f7f7f\">:</span><a href=\"file:///home/maa/anaconda3/envs/phd/lib/python3.10/site-packages/kedro/io/data_catalog.py#502\" target=\"_blank\"><span style=\"color: #7f7f7f; text-decoration-color: #7f7f7f\">502</span></a>\n",
       "</pre>\n"
      ],
      "text/plain": [
       "\u001b[2;36m[02/14/24 09:33:47]\u001b[0m\u001b[2;36m \u001b[0m\u001b[34mINFO    \u001b[0m Loading data from \u001b[32m'wPCC.ship_data'\u001b[0m \u001b[1m(\u001b[0mYAMLDataSet\u001b[1m)\u001b[0m\u001b[33m...\u001b[0m                \u001b]8;id=737018;file:///home/maa/anaconda3/envs/phd/lib/python3.10/site-packages/kedro/io/data_catalog.py\u001b\\\u001b[2mdata_catalog.py\u001b[0m\u001b]8;;\u001b\\\u001b[2m:\u001b[0m\u001b]8;id=50673;file:///home/maa/anaconda3/envs/phd/lib/python3.10/site-packages/kedro/io/data_catalog.py#502\u001b\\\u001b[2m502\u001b[0m\u001b]8;;\u001b\\\n"
      ]
     },
     "metadata": {},
     "output_type": "display_data"
    },
    {
     "data": {
      "text/html": [
       "<pre style=\"white-space:pre;overflow-x:auto;line-height:normal;font-family:Menlo,'DejaVu Sans Mono',consolas,'Courier New',monospace\"><span style=\"color: #7fbfbf; text-decoration-color: #7fbfbf\">                    </span><span style=\"color: #800000; text-decoration-color: #800000\">WARNING </span> <span style=\"color: #800080; text-decoration-color: #800080\">/home/maa/anaconda3/envs/phd/lib/python3.10/site-packages/kedro/io/</span><span style=\"color: #ff00ff; text-decoration-color: #ff00ff\">par</span> <a href=\"file:///home/maa/anaconda3/envs/phd/lib/python3.10/warnings.py\" target=\"_blank\"><span style=\"color: #7f7f7f; text-decoration-color: #7f7f7f\">warnings.py</span></a><span style=\"color: #7f7f7f; text-decoration-color: #7f7f7f\">:</span><a href=\"file:///home/maa/anaconda3/envs/phd/lib/python3.10/warnings.py#109\" target=\"_blank\"><span style=\"color: #7f7f7f; text-decoration-color: #7f7f7f\">109</span></a>\n",
       "<span style=\"color: #7fbfbf; text-decoration-color: #7fbfbf\">                    </span>         <span style=\"color: #ff00ff; text-decoration-color: #ff00ff\">titioned_dataset.py</span>:<span style=\"color: #008080; text-decoration-color: #008080; font-weight: bold\">200</span>: KedroDeprecationWarning: <span style=\"color: #008000; text-decoration-color: #008000\">'PartitionedDataset'</span> <span style=\"color: #7f7f7f; text-decoration-color: #7f7f7f\">               </span>\n",
       "<span style=\"color: #7fbfbf; text-decoration-color: #7fbfbf\">                    </span>         has been moved to `kedro-datasets` and will be removed in Kedro        <span style=\"color: #7f7f7f; text-decoration-color: #7f7f7f\">               </span>\n",
       "<span style=\"color: #7fbfbf; text-decoration-color: #7fbfbf\">                    </span>         <span style=\"color: #008080; text-decoration-color: #008080; font-weight: bold\">0.19</span>.<span style=\"color: #008080; text-decoration-color: #008080; font-weight: bold\">0</span>.                                                                <span style=\"color: #7f7f7f; text-decoration-color: #7f7f7f\">               </span>\n",
       "<span style=\"color: #7fbfbf; text-decoration-color: #7fbfbf\">                    </span>           <span style=\"color: #800080; text-decoration-color: #800080; font-weight: bold\">warnings.warn</span><span style=\"font-weight: bold\">(</span>                                                       <span style=\"color: #7f7f7f; text-decoration-color: #7f7f7f\">               </span>\n",
       "<span style=\"color: #7fbfbf; text-decoration-color: #7fbfbf\">                    </span>                                                                                <span style=\"color: #7f7f7f; text-decoration-color: #7f7f7f\">               </span>\n",
       "</pre>\n"
      ],
      "text/plain": [
       "\u001b[2;36m                   \u001b[0m\u001b[2;36m \u001b[0m\u001b[31mWARNING \u001b[0m \u001b[35m/home/maa/anaconda3/envs/phd/lib/python3.10/site-packages/kedro/io/\u001b[0m\u001b[95mpar\u001b[0m \u001b]8;id=135476;file:///home/maa/anaconda3/envs/phd/lib/python3.10/warnings.py\u001b\\\u001b[2mwarnings.py\u001b[0m\u001b]8;;\u001b\\\u001b[2m:\u001b[0m\u001b]8;id=310401;file:///home/maa/anaconda3/envs/phd/lib/python3.10/warnings.py#109\u001b\\\u001b[2m109\u001b[0m\u001b]8;;\u001b\\\n",
       "\u001b[2;36m                    \u001b[0m         \u001b[95mtitioned_dataset.py\u001b[0m:\u001b[1;36m200\u001b[0m: KedroDeprecationWarning: \u001b[32m'PartitionedDataset'\u001b[0m \u001b[2m               \u001b[0m\n",
       "\u001b[2;36m                    \u001b[0m         has been moved to `kedro-datasets` and will be removed in Kedro        \u001b[2m               \u001b[0m\n",
       "\u001b[2;36m                    \u001b[0m         \u001b[1;36m0.19\u001b[0m.\u001b[1;36m0\u001b[0m.                                                                \u001b[2m               \u001b[0m\n",
       "\u001b[2;36m                    \u001b[0m           \u001b[1;35mwarnings.warn\u001b[0m\u001b[1m(\u001b[0m                                                       \u001b[2m               \u001b[0m\n",
       "\u001b[2;36m                    \u001b[0m                                                                                \u001b[2m               \u001b[0m\n"
      ]
     },
     "metadata": {},
     "output_type": "display_data"
    },
    {
     "data": {
      "text/html": [
       "<pre style=\"white-space:pre;overflow-x:auto;line-height:normal;font-family:Menlo,'DejaVu Sans Mono',consolas,'Courier New',monospace\"><span style=\"color: #7fbfbf; text-decoration-color: #7fbfbf\">                    </span><span style=\"color: #800000; text-decoration-color: #800000\">WARNING </span> <span style=\"color: #800080; text-decoration-color: #800080\">/home/maa/anaconda3/envs/phd/lib/python3.10/site-packages/kedro/io/</span><span style=\"color: #ff00ff; text-decoration-color: #ff00ff\">__i</span> <a href=\"file:///home/maa/anaconda3/envs/phd/lib/python3.10/warnings.py\" target=\"_blank\"><span style=\"color: #7f7f7f; text-decoration-color: #7f7f7f\">warnings.py</span></a><span style=\"color: #7f7f7f; text-decoration-color: #7f7f7f\">:</span><a href=\"file:///home/maa/anaconda3/envs/phd/lib/python3.10/warnings.py#109\" target=\"_blank\"><span style=\"color: #7f7f7f; text-decoration-color: #7f7f7f\">109</span></a>\n",
       "<span style=\"color: #7fbfbf; text-decoration-color: #7fbfbf\">                    </span>         <span style=\"color: #ff00ff; text-decoration-color: #ff00ff\">nit__.py</span>:<span style=\"color: #008080; text-decoration-color: #008080; font-weight: bold\">44</span>: KedroDeprecationWarning: <span style=\"color: #008000; text-decoration-color: #008000\">'AbstractDataSet'</span> has been       <span style=\"color: #7f7f7f; text-decoration-color: #7f7f7f\">               </span>\n",
       "<span style=\"color: #7fbfbf; text-decoration-color: #7fbfbf\">                    </span>         renamed to <span style=\"color: #008000; text-decoration-color: #008000\">'AbstractDataset'</span>, and the alias will be removed in Kedro   <span style=\"color: #7f7f7f; text-decoration-color: #7f7f7f\">               </span>\n",
       "<span style=\"color: #7fbfbf; text-decoration-color: #7fbfbf\">                    </span>         <span style=\"color: #008080; text-decoration-color: #008080; font-weight: bold\">0.19</span>.<span style=\"color: #008080; text-decoration-color: #008080; font-weight: bold\">0</span>                                                                 <span style=\"color: #7f7f7f; text-decoration-color: #7f7f7f\">               </span>\n",
       "<span style=\"color: #7fbfbf; text-decoration-color: #7fbfbf\">                    </span>           return <span style=\"color: #800080; text-decoration-color: #800080; font-weight: bold\">getattr</span><span style=\"font-weight: bold\">(</span>kedro.io.core, name<span style=\"font-weight: bold\">)</span>                                  <span style=\"color: #7f7f7f; text-decoration-color: #7f7f7f\">               </span>\n",
       "<span style=\"color: #7fbfbf; text-decoration-color: #7fbfbf\">                    </span>                                                                                <span style=\"color: #7f7f7f; text-decoration-color: #7f7f7f\">               </span>\n",
       "</pre>\n"
      ],
      "text/plain": [
       "\u001b[2;36m                   \u001b[0m\u001b[2;36m \u001b[0m\u001b[31mWARNING \u001b[0m \u001b[35m/home/maa/anaconda3/envs/phd/lib/python3.10/site-packages/kedro/io/\u001b[0m\u001b[95m__i\u001b[0m \u001b]8;id=207406;file:///home/maa/anaconda3/envs/phd/lib/python3.10/warnings.py\u001b\\\u001b[2mwarnings.py\u001b[0m\u001b]8;;\u001b\\\u001b[2m:\u001b[0m\u001b]8;id=120383;file:///home/maa/anaconda3/envs/phd/lib/python3.10/warnings.py#109\u001b\\\u001b[2m109\u001b[0m\u001b]8;;\u001b\\\n",
       "\u001b[2;36m                    \u001b[0m         \u001b[95mnit__.py\u001b[0m:\u001b[1;36m44\u001b[0m: KedroDeprecationWarning: \u001b[32m'AbstractDataSet'\u001b[0m has been       \u001b[2m               \u001b[0m\n",
       "\u001b[2;36m                    \u001b[0m         renamed to \u001b[32m'AbstractDataset'\u001b[0m, and the alias will be removed in Kedro   \u001b[2m               \u001b[0m\n",
       "\u001b[2;36m                    \u001b[0m         \u001b[1;36m0.19\u001b[0m.\u001b[1;36m0\u001b[0m                                                                 \u001b[2m               \u001b[0m\n",
       "\u001b[2;36m                    \u001b[0m           return \u001b[1;35mgetattr\u001b[0m\u001b[1m(\u001b[0mkedro.io.core, name\u001b[1m)\u001b[0m                                  \u001b[2m               \u001b[0m\n",
       "\u001b[2;36m                    \u001b[0m                                                                                \u001b[2m               \u001b[0m\n"
      ]
     },
     "metadata": {},
     "output_type": "display_data"
    },
    {
     "data": {
      "text/html": [
       "<pre style=\"white-space:pre;overflow-x:auto;line-height:normal;font-family:Menlo,'DejaVu Sans Mono',consolas,'Courier New',monospace\"><span style=\"color: #7fbfbf; text-decoration-color: #7fbfbf\">                    </span><span style=\"color: #000080; text-decoration-color: #000080\">INFO    </span> Loading data from <span style=\"color: #008000; text-decoration-color: #008000\">'wPCC.models_VCT_MDL'</span> <span style=\"font-weight: bold\">(</span>PartitionedDataset<span style=\"font-weight: bold\">)</span><span style=\"color: #808000; text-decoration-color: #808000\">...</span>    <a href=\"file:///home/maa/anaconda3/envs/phd/lib/python3.10/site-packages/kedro/io/data_catalog.py\" target=\"_blank\"><span style=\"color: #7f7f7f; text-decoration-color: #7f7f7f\">data_catalog.py</span></a><span style=\"color: #7f7f7f; text-decoration-color: #7f7f7f\">:</span><a href=\"file:///home/maa/anaconda3/envs/phd/lib/python3.10/site-packages/kedro/io/data_catalog.py#502\" target=\"_blank\"><span style=\"color: #7f7f7f; text-decoration-color: #7f7f7f\">502</span></a>\n",
       "</pre>\n"
      ],
      "text/plain": [
       "\u001b[2;36m                   \u001b[0m\u001b[2;36m \u001b[0m\u001b[34mINFO    \u001b[0m Loading data from \u001b[32m'wPCC.models_VCT_MDL'\u001b[0m \u001b[1m(\u001b[0mPartitionedDataset\u001b[1m)\u001b[0m\u001b[33m...\u001b[0m    \u001b]8;id=743688;file:///home/maa/anaconda3/envs/phd/lib/python3.10/site-packages/kedro/io/data_catalog.py\u001b\\\u001b[2mdata_catalog.py\u001b[0m\u001b]8;;\u001b\\\u001b[2m:\u001b[0m\u001b]8;id=298956;file:///home/maa/anaconda3/envs/phd/lib/python3.10/site-packages/kedro/io/data_catalog.py#502\u001b\\\u001b[2m502\u001b[0m\u001b]8;;\u001b\\\n"
      ]
     },
     "metadata": {},
     "output_type": "display_data"
    },
    {
     "data": {
      "text/html": [
       "<pre style=\"white-space:pre;overflow-x:auto;line-height:normal;font-family:Menlo,'DejaVu Sans Mono',consolas,'Courier New',monospace\"><span style=\"color: #7fbfbf; text-decoration-color: #7fbfbf\">                    </span><span style=\"color: #000080; text-decoration-color: #000080\">INFO    </span> Loading data from <span style=\"color: #008000; text-decoration-color: #008000\">'wPCC.models_ID_hull2'</span> <span style=\"font-weight: bold\">(</span>PartitionedDataset<span style=\"font-weight: bold\">)</span><span style=\"color: #808000; text-decoration-color: #808000\">...</span>   <a href=\"file:///home/maa/anaconda3/envs/phd/lib/python3.10/site-packages/kedro/io/data_catalog.py\" target=\"_blank\"><span style=\"color: #7f7f7f; text-decoration-color: #7f7f7f\">data_catalog.py</span></a><span style=\"color: #7f7f7f; text-decoration-color: #7f7f7f\">:</span><a href=\"file:///home/maa/anaconda3/envs/phd/lib/python3.10/site-packages/kedro/io/data_catalog.py#502\" target=\"_blank\"><span style=\"color: #7f7f7f; text-decoration-color: #7f7f7f\">502</span></a>\n",
       "</pre>\n"
      ],
      "text/plain": [
       "\u001b[2;36m                   \u001b[0m\u001b[2;36m \u001b[0m\u001b[34mINFO    \u001b[0m Loading data from \u001b[32m'wPCC.models_ID_hull2'\u001b[0m \u001b[1m(\u001b[0mPartitionedDataset\u001b[1m)\u001b[0m\u001b[33m...\u001b[0m   \u001b]8;id=188052;file:///home/maa/anaconda3/envs/phd/lib/python3.10/site-packages/kedro/io/data_catalog.py\u001b\\\u001b[2mdata_catalog.py\u001b[0m\u001b]8;;\u001b\\\u001b[2m:\u001b[0m\u001b]8;id=631132;file:///home/maa/anaconda3/envs/phd/lib/python3.10/site-packages/kedro/io/data_catalog.py#502\u001b\\\u001b[2m502\u001b[0m\u001b]8;;\u001b\\\n"
      ]
     },
     "metadata": {},
     "output_type": "display_data"
    },
    {
     "data": {
      "text/html": [
       "<pre style=\"white-space:pre;overflow-x:auto;line-height:normal;font-family:Menlo,'DejaVu Sans Mono',consolas,'Courier New',monospace\"><span style=\"color: #7fbfbf; text-decoration-color: #7fbfbf\">                    </span><span style=\"color: #000080; text-decoration-color: #000080\">INFO    </span> Loading data from <span style=\"color: #008000; text-decoration-color: #008000\">'wPCC.models_ID_hull_rudder2'</span>                    <a href=\"file:///home/maa/anaconda3/envs/phd/lib/python3.10/site-packages/kedro/io/data_catalog.py\" target=\"_blank\"><span style=\"color: #7f7f7f; text-decoration-color: #7f7f7f\">data_catalog.py</span></a><span style=\"color: #7f7f7f; text-decoration-color: #7f7f7f\">:</span><a href=\"file:///home/maa/anaconda3/envs/phd/lib/python3.10/site-packages/kedro/io/data_catalog.py#502\" target=\"_blank\"><span style=\"color: #7f7f7f; text-decoration-color: #7f7f7f\">502</span></a>\n",
       "<span style=\"color: #7fbfbf; text-decoration-color: #7fbfbf\">                    </span>         <span style=\"font-weight: bold\">(</span>PartitionedDataset<span style=\"font-weight: bold\">)</span><span style=\"color: #808000; text-decoration-color: #808000\">...</span>                                            <span style=\"color: #7f7f7f; text-decoration-color: #7f7f7f\">                   </span>\n",
       "</pre>\n"
      ],
      "text/plain": [
       "\u001b[2;36m                   \u001b[0m\u001b[2;36m \u001b[0m\u001b[34mINFO    \u001b[0m Loading data from \u001b[32m'wPCC.models_ID_hull_rudder2'\u001b[0m                    \u001b]8;id=839934;file:///home/maa/anaconda3/envs/phd/lib/python3.10/site-packages/kedro/io/data_catalog.py\u001b\\\u001b[2mdata_catalog.py\u001b[0m\u001b]8;;\u001b\\\u001b[2m:\u001b[0m\u001b]8;id=625163;file:///home/maa/anaconda3/envs/phd/lib/python3.10/site-packages/kedro/io/data_catalog.py#502\u001b\\\u001b[2m502\u001b[0m\u001b]8;;\u001b\\\n",
       "\u001b[2;36m                    \u001b[0m         \u001b[1m(\u001b[0mPartitionedDataset\u001b[1m)\u001b[0m\u001b[33m...\u001b[0m                                            \u001b[2m                   \u001b[0m\n"
      ]
     },
     "metadata": {},
     "output_type": "display_data"
    }
   ],
   "source": [
    "#%reload_kedro\n",
    "ship='wPCC'\n",
    "ship_data = catalog.load(f\"{ship}.ship_data\")\n",
    "\n",
    "loaders = {\n",
    "        \n",
    "    'Reference model' : catalog.load(f\"{ship}.models_VCT_MDL\")['semiempirical_covered'],\n",
    "    'Physics informed ID' : catalog.load(f\"{ship}.models_ID_hull2\")['semiempirical_covered'],\n",
    "    \n",
    "    #'Abkowitz  VCT': catalog.load(f\"{ship}.models_rudder_VCT_MDL\")['Abkowitz'],\n",
    "    'Abkowitz ID' : catalog.load(f\"{ship}.models_ID_hull_rudder2\")['Abkowitz'],\n",
    "}"
   ]
  },
  {
   "cell_type": "code",
   "execution_count": 4,
   "id": "0dc7e454-708a-4a81-b30b-9819fc340adf",
   "metadata": {},
   "outputs": [],
   "source": [
    "models = {name:loader() for name,loader in loaders.items()}"
   ]
  },
  {
   "cell_type": "code",
   "execution_count": 5,
   "id": "d9737dcd-2146-460c-9839-b951b532321d",
   "metadata": {},
   "outputs": [],
   "source": [
    "dofs=['X','Y','N']\n",
    "_=[]\n",
    "for model_name,model in models.items():\n",
    "    pars_all = {}\n",
    "    for dof in dofs:\n",
    "        pars = {key:value for key,value in model.parameters.items() if ((value!=0) and (key[0]==dof) and (not 'dot' in key) and (not 'delta' in key) and (not 'thrust' in key))}\n",
    "        pars_all.update(pars)\n",
    "    \n",
    "    pars_all['model'] = model_name\n",
    "    _.append(pars_all)\n",
    "\n",
    "df_parameters = pd.DataFrame(_)\n",
    "df_parameters = df_parameters.set_index('model').transpose()\n",
    "df_parameters.index = pd.Series(df_parameters.index).apply(lambda x:fr\"${{{x[0]}'}}_{{{x[1:]}}}$\")\n",
    "df_parameters.index.name='Coefficient'"
   ]
  },
  {
   "cell_type": "code",
   "execution_count": 6,
   "id": "f9f0db34-915c-4093-86ef-dae37ca9df32",
   "metadata": {},
   "outputs": [
    {
     "data": {
      "text/html": [
       "<div>\n",
       "<style scoped>\n",
       "    .dataframe tbody tr th:only-of-type {\n",
       "        vertical-align: middle;\n",
       "    }\n",
       "\n",
       "    .dataframe tbody tr th {\n",
       "        vertical-align: top;\n",
       "    }\n",
       "\n",
       "    .dataframe thead th {\n",
       "        text-align: right;\n",
       "    }\n",
       "</style>\n",
       "<table border=\"1\" class=\"dataframe\">\n",
       "  <thead>\n",
       "    <tr style=\"text-align: right;\">\n",
       "      <th>model</th>\n",
       "      <th>Reference model</th>\n",
       "      <th>Physics informed ID</th>\n",
       "      <th>Abkowitz ID</th>\n",
       "    </tr>\n",
       "    <tr>\n",
       "      <th>Coefficient</th>\n",
       "      <th></th>\n",
       "      <th></th>\n",
       "      <th></th>\n",
       "    </tr>\n",
       "  </thead>\n",
       "  <tbody>\n",
       "    <tr>\n",
       "      <th>${X'}_{0}$</th>\n",
       "      <td>-0.001025</td>\n",
       "      <td>-0.001025</td>\n",
       "      <td>-0.001025</td>\n",
       "    </tr>\n",
       "    <tr>\n",
       "      <th>${X'}_{u}$</th>\n",
       "      <td>0.000336</td>\n",
       "      <td>0.000336</td>\n",
       "      <td>0.000336</td>\n",
       "    </tr>\n",
       "    <tr>\n",
       "      <th>${X'}_{vv}$</th>\n",
       "      <td>-0.000483</td>\n",
       "      <td>-0.003830</td>\n",
       "      <td>0.004788</td>\n",
       "    </tr>\n",
       "    <tr>\n",
       "      <th>${X'}_{rr}$</th>\n",
       "      <td>-0.000303</td>\n",
       "      <td>0.000994</td>\n",
       "      <td>0.012427</td>\n",
       "    </tr>\n",
       "    <tr>\n",
       "      <th>${X'}_{vr}$</th>\n",
       "      <td>0.002451</td>\n",
       "      <td>0.003034</td>\n",
       "      <td>0.019839</td>\n",
       "    </tr>\n",
       "    <tr>\n",
       "      <th>${Y'}_{v}$</th>\n",
       "      <td>-0.007978</td>\n",
       "      <td>-0.008948</td>\n",
       "      <td>-0.020783</td>\n",
       "    </tr>\n",
       "    <tr>\n",
       "      <th>${N'}_{v}$</th>\n",
       "      <td>-0.003209</td>\n",
       "      <td>-0.002781</td>\n",
       "      <td>-0.000983</td>\n",
       "    </tr>\n",
       "    <tr>\n",
       "      <th>${N'}_{r}$</th>\n",
       "      <td>-0.001552</td>\n",
       "      <td>-0.001534</td>\n",
       "      <td>-0.003246</td>\n",
       "    </tr>\n",
       "  </tbody>\n",
       "</table>\n",
       "</div>"
      ],
      "text/plain": [
       "model        Reference model  Physics informed ID  Abkowitz ID\n",
       "Coefficient                                                   \n",
       "${X'}_{0}$         -0.001025            -0.001025    -0.001025\n",
       "${X'}_{u}$          0.000336             0.000336     0.000336\n",
       "${X'}_{vv}$        -0.000483            -0.003830     0.004788\n",
       "${X'}_{rr}$        -0.000303             0.000994     0.012427\n",
       "${X'}_{vr}$         0.002451             0.003034     0.019839\n",
       "${Y'}_{v}$         -0.007978            -0.008948    -0.020783\n",
       "${N'}_{v}$         -0.003209            -0.002781    -0.000983\n",
       "${N'}_{r}$         -0.001552            -0.001534    -0.003246"
      ]
     },
     "execution_count": 6,
     "metadata": {},
     "output_type": "execute_result"
    }
   ],
   "source": [
    "df_parameters"
   ]
  },
  {
   "cell_type": "code",
   "execution_count": 7,
   "id": "2ca0c768-1436-4e2c-a029-0b5da1ee30d1",
   "metadata": {},
   "outputs": [],
   "source": [
    "df_parameters.to_csv(paper.file_path_with_nb_ref(\"parameters.csv\", directory='tables'), index=True)"
   ]
  },
  {
   "cell_type": "markdown",
   "id": "9e729680-7bcf-41b1-bf82-8d98f0db62e8",
   "metadata": {},
   "source": [
    "## Other parameters"
   ]
  },
  {
   "cell_type": "code",
   "execution_count": 8,
   "id": "e80910b3-4398-4477-af56-0bde52f2b256",
   "metadata": {},
   "outputs": [
    {
     "data": {
      "text/plain": [
       "['Xrr', 'Xvr', 'Xvv', 'X0', 'Xu', 'Yv', 'Nr', 'Nv']"
      ]
     },
     "execution_count": 8,
     "metadata": {},
     "output_type": "execute_result"
    }
   ],
   "source": [
    "keys = list(pars_all.keys())\n",
    "keys.remove('model')\n",
    "keys"
   ]
  },
  {
   "cell_type": "code",
   "execution_count": 9,
   "id": "de7cd423-79ec-4fe2-aff8-d448d250f100",
   "metadata": {},
   "outputs": [],
   "source": [
    "model = models['Reference model']\n",
    "other_parameters = pd.Series(model.parameters)\n",
    "other_parameters = other_parameters.drop(keys);"
   ]
  },
  {
   "cell_type": "markdown",
   "id": "39e456a1-7a93-4782-8447-a163335ce98f",
   "metadata": {},
   "source": [
    "## Added masses"
   ]
  },
  {
   "cell_type": "code",
   "execution_count": 10,
   "id": "4134d95f-153b-4ce0-8fe1-cd1ebd7ea048",
   "metadata": {},
   "outputs": [
    {
     "data": {
      "text/plain": [
       "Xudot    0.000179\n",
       "Yvdot   -0.006109\n",
       "Yrdot   -0.000303\n",
       "Nvdot   -0.000128\n",
       "Nrdot   -0.000157\n",
       "dtype: float64"
      ]
     },
     "execution_count": 10,
     "metadata": {},
     "output_type": "execute_result"
    }
   ],
   "source": [
    "mask = other_parameters.index.str.contains('dot')\n",
    "added_masses = other_parameters[mask]\n",
    "other_parameters = other_parameters.drop(added_masses.index);\n",
    "added_masses"
   ]
  },
  {
   "cell_type": "code",
   "execution_count": 11,
   "id": "380cc714-a728-402b-9f8a-3f01ed079b38",
   "metadata": {},
   "outputs": [],
   "source": [
    "pd.DataFrame(added_masses).transpose().to_csv(paper.file_path_with_nb_ref(\"added_masses.csv\", directory='tables'), index=False)"
   ]
  },
  {
   "cell_type": "code",
   "execution_count": 12,
   "id": "91622499-6898-4eac-8d4e-f9775013a0d7",
   "metadata": {},
   "outputs": [],
   "source": [
    "df_added_masses = pd.DataFrame(index=added_masses.index)\n",
    "df_added_masses['Parameter'] = df_parameters_all.loc[added_masses.index]['symbol']\n",
    "df_added_masses['Parameter'] = df_added_masses['Parameter'].apply(lambda x: f\"${x}$\")\n",
    "df_added_masses['Value'] = added_masses\n",
    "df_added_masses = df_added_masses.set_index('Parameter').transpose()"
   ]
  },
  {
   "cell_type": "code",
   "execution_count": 13,
   "id": "4bd190e9-1b95-47d8-8964-5cc742b4ff9f",
   "metadata": {},
   "outputs": [
    {
     "data": {
      "text/html": [
       "<div>\n",
       "<style scoped>\n",
       "    .dataframe tbody tr th:only-of-type {\n",
       "        vertical-align: middle;\n",
       "    }\n",
       "\n",
       "    .dataframe tbody tr th {\n",
       "        vertical-align: top;\n",
       "    }\n",
       "\n",
       "    .dataframe thead th {\n",
       "        text-align: right;\n",
       "    }\n",
       "</style>\n",
       "<table border=\"1\" class=\"dataframe\">\n",
       "  <thead>\n",
       "    <tr style=\"text-align: right;\">\n",
       "      <th>Parameter</th>\n",
       "      <th>$X_{\\dot{u}}$</th>\n",
       "      <th>$Y_{\\dot{v}}$</th>\n",
       "      <th>$Y_{\\dot{r}}$</th>\n",
       "      <th>$N_{\\dot{v}}$</th>\n",
       "      <th>$N_{\\dot{r}}$</th>\n",
       "    </tr>\n",
       "  </thead>\n",
       "  <tbody>\n",
       "    <tr>\n",
       "      <th>Value</th>\n",
       "      <td>0.000179</td>\n",
       "      <td>-0.006109</td>\n",
       "      <td>-0.000303</td>\n",
       "      <td>-0.000128</td>\n",
       "      <td>-0.000157</td>\n",
       "    </tr>\n",
       "  </tbody>\n",
       "</table>\n",
       "</div>"
      ],
      "text/plain": [
       "Parameter  $X_{\\dot{u}}$  $Y_{\\dot{v}}$  $Y_{\\dot{r}}$  $N_{\\dot{v}}$  $N_{\\dot{r}}$\n",
       "Value           0.000179      -0.006109      -0.000303      -0.000128      -0.000157"
      ]
     },
     "execution_count": 13,
     "metadata": {},
     "output_type": "execute_result"
    }
   ],
   "source": [
    "df_added_masses"
   ]
  },
  {
   "cell_type": "code",
   "execution_count": 14,
   "id": "38852080-b3bb-49ab-b388-a0e254b894f3",
   "metadata": {},
   "outputs": [],
   "source": [
    "df_added_masses.to_csv(paper.file_path_with_nb_ref(\"added_masses.csv\", directory='tables'), index=False)"
   ]
  },
  {
   "cell_type": "code",
   "execution_count": 15,
   "id": "2310a35c-5745-4d83-b0f3-74e826537612",
   "metadata": {},
   "outputs": [],
   "source": [
    "symbols = []\n",
    "for key, eq in model.equations.items():\n",
    "    symbols+=list(eq.rhs.free_symbols)\n",
    "symbols = list(set(symbols))"
   ]
  },
  {
   "cell_type": "code",
   "execution_count": 16,
   "id": "5e02669e-34dc-4823-99be-e1a39a243125",
   "metadata": {},
   "outputs": [],
   "source": [
    "parameters = {}\n",
    "for symbol in symbols:\n",
    "    key = str(symbol)\n",
    "    if key in model.parameters:\n",
    "        parameters[symbol] = model.parameters[key]  \n",
    "\n",
    "    if key in model.ship_parameters:\n",
    "        parameters[symbol] = model.ship_parameters[key]    "
   ]
  },
  {
   "cell_type": "code",
   "execution_count": 17,
   "id": "5f9cb073-6c8d-466b-ada8-5c88ebc296bb",
   "metadata": {},
   "outputs": [
    {
     "data": {
      "text/plain": [
       "{C_L_tune: 1.0,\n",
       " delta_alpha_s: 0,\n",
       " A_R_U: 0.01647301230087661,\n",
       " x: 0.027800910486710073,\n",
       " s: -10,\n",
       " gamma_0_port: 0.044,\n",
       " r_0: 0.06067961165048543,\n",
       " e_0: 0.9,\n",
       " A_R: 0.030095732397021395,\n",
       " y_p_port: -0.2176,\n",
       " y_p_stbd: 0.2176,\n",
       " b_R: 0.17427184466019416,\n",
       " delta_lim: 0.2617993877991494,\n",
       " kappa_v_gamma_g: 0.12614619635893423,\n",
       " kappa_v: 0.8875332235434824,\n",
       " kappa_r_gamma_g: 0.8265178168548643,\n",
       " nu: 1.18849e-06,\n",
       " c_t: 0.19878640776699028,\n",
       " w_f: 0.297,\n",
       " c_r: 0.14660194174757282,\n",
       " C_D_tune: 1.0685595467405165,\n",
       " a_H: 0.12824552804749745,\n",
       " C_D0_tune: 7.740218543115913,\n",
       " rho: 1000,\n",
       " Omega: 0,\n",
       " y_R: 0,\n",
       " A_R_C: 0.013622720096144783,\n",
       " x_R: -2.45,\n",
       " kappa_r: 1.194039652718919,\n",
       " x_H: 0.12495489987343933,\n",
       " gamma_0_stbd: -0.044}"
      ]
     },
     "execution_count": 17,
     "metadata": {},
     "output_type": "execute_result"
    }
   ],
   "source": [
    "parameters"
   ]
  },
  {
   "cell_type": "code",
   "execution_count": 18,
   "id": "b678eaa6-30b3-41f2-97f4-3b0f5e4bca48",
   "metadata": {},
   "outputs": [],
   "source": [
    "df_parameters = pd.DataFrame(index=parameters.keys())\n",
    "df_parameters['Parameter'] = pd.Series(df_parameters.index, index=df_parameters.index).apply(lambda x : f\"${to_latex(x)}$\")\n",
    "df_parameters.sort_values(by='Parameter', inplace=True)\n",
    "df_parameters['Value'] = parameters\n",
    "df_parameters.index = pd.Series(df_parameters.index).astype(str)\n",
    "\n",
    "df_parameters.drop(index=['delta_alpha_s'], inplace=True)  # remove stalling\n",
    "df_parameters.drop(index=['y_R'], inplace=True)  # remove stalling\n",
    "#df_parameters.reset_index(inplace=True, drop=True)"
   ]
  },
  {
   "cell_type": "code",
   "execution_count": 19,
   "id": "468cf7ef-ab8f-4932-b7a8-19a433af3caa",
   "metadata": {},
   "outputs": [
    {
     "data": {
      "text/html": [
       "<div>\n",
       "<style scoped>\n",
       "    .dataframe tbody tr th:only-of-type {\n",
       "        vertical-align: middle;\n",
       "    }\n",
       "\n",
       "    .dataframe tbody tr th {\n",
       "        vertical-align: top;\n",
       "    }\n",
       "\n",
       "    .dataframe thead th {\n",
       "        text-align: right;\n",
       "    }\n",
       "</style>\n",
       "<table border=\"1\" class=\"dataframe\">\n",
       "  <thead>\n",
       "    <tr style=\"text-align: right;\">\n",
       "      <th></th>\n",
       "      <th>Parameter</th>\n",
       "      <th>Value</th>\n",
       "    </tr>\n",
       "  </thead>\n",
       "  <tbody>\n",
       "    <tr>\n",
       "      <th>A_R_C</th>\n",
       "      <td>$A_{R C}$</td>\n",
       "      <td>0.013623</td>\n",
       "    </tr>\n",
       "    <tr>\n",
       "      <th>A_R_U</th>\n",
       "      <td>$A_{R U}$</td>\n",
       "      <td>0.016473</td>\n",
       "    </tr>\n",
       "    <tr>\n",
       "      <th>A_R</th>\n",
       "      <td>$A_{R}$</td>\n",
       "      <td>0.030096</td>\n",
       "    </tr>\n",
       "    <tr>\n",
       "      <th>C_D_tune</th>\n",
       "      <td>$C_{D tune}$</td>\n",
       "      <td>1.068560</td>\n",
       "    </tr>\n",
       "    <tr>\n",
       "      <th>C_D0_tune</th>\n",
       "      <td>$C_{D0 tune}$</td>\n",
       "      <td>7.740219</td>\n",
       "    </tr>\n",
       "    <tr>\n",
       "      <th>C_L_tune</th>\n",
       "      <td>$C_{L tune}$</td>\n",
       "      <td>1.000000</td>\n",
       "    </tr>\n",
       "    <tr>\n",
       "      <th>Omega</th>\n",
       "      <td>$\\Omega$</td>\n",
       "      <td>0.000000</td>\n",
       "    </tr>\n",
       "    <tr>\n",
       "      <th>delta_lim</th>\n",
       "      <td>$\\delta_{lim}$</td>\n",
       "      <td>0.261799</td>\n",
       "    </tr>\n",
       "    <tr>\n",
       "      <th>gamma_0_port</th>\n",
       "      <td>$\\gamma_{0 port}$</td>\n",
       "      <td>0.044000</td>\n",
       "    </tr>\n",
       "    <tr>\n",
       "      <th>gamma_0_stbd</th>\n",
       "      <td>$\\gamma_{0 stbd}$</td>\n",
       "      <td>-0.044000</td>\n",
       "    </tr>\n",
       "    <tr>\n",
       "      <th>kappa_r_gamma_g</th>\n",
       "      <td>$\\kappa_{r \\gamma g}$</td>\n",
       "      <td>0.826518</td>\n",
       "    </tr>\n",
       "    <tr>\n",
       "      <th>kappa_r</th>\n",
       "      <td>$\\kappa_{r}$</td>\n",
       "      <td>1.194040</td>\n",
       "    </tr>\n",
       "    <tr>\n",
       "      <th>kappa_v_gamma_g</th>\n",
       "      <td>$\\kappa_{v \\gamma g}$</td>\n",
       "      <td>0.126146</td>\n",
       "    </tr>\n",
       "    <tr>\n",
       "      <th>kappa_v</th>\n",
       "      <td>$\\kappa_{v}$</td>\n",
       "      <td>0.887533</td>\n",
       "    </tr>\n",
       "    <tr>\n",
       "      <th>nu</th>\n",
       "      <td>$\\nu$</td>\n",
       "      <td>0.000001</td>\n",
       "    </tr>\n",
       "    <tr>\n",
       "      <th>rho</th>\n",
       "      <td>$\\rho$</td>\n",
       "      <td>1000.000000</td>\n",
       "    </tr>\n",
       "    <tr>\n",
       "      <th>a_H</th>\n",
       "      <td>$a_{H}$</td>\n",
       "      <td>0.128246</td>\n",
       "    </tr>\n",
       "    <tr>\n",
       "      <th>b_R</th>\n",
       "      <td>$b_{R}$</td>\n",
       "      <td>0.174272</td>\n",
       "    </tr>\n",
       "    <tr>\n",
       "      <th>c_r</th>\n",
       "      <td>$c_{r}$</td>\n",
       "      <td>0.146602</td>\n",
       "    </tr>\n",
       "    <tr>\n",
       "      <th>c_t</th>\n",
       "      <td>$c_{t}$</td>\n",
       "      <td>0.198786</td>\n",
       "    </tr>\n",
       "    <tr>\n",
       "      <th>e_0</th>\n",
       "      <td>$e_{0}$</td>\n",
       "      <td>0.900000</td>\n",
       "    </tr>\n",
       "    <tr>\n",
       "      <th>r_0</th>\n",
       "      <td>$r_{0}$</td>\n",
       "      <td>0.060680</td>\n",
       "    </tr>\n",
       "    <tr>\n",
       "      <th>s</th>\n",
       "      <td>$s$</td>\n",
       "      <td>-10.000000</td>\n",
       "    </tr>\n",
       "    <tr>\n",
       "      <th>w_f</th>\n",
       "      <td>$w_{f}$</td>\n",
       "      <td>0.297000</td>\n",
       "    </tr>\n",
       "    <tr>\n",
       "      <th>x</th>\n",
       "      <td>$x$</td>\n",
       "      <td>0.027801</td>\n",
       "    </tr>\n",
       "    <tr>\n",
       "      <th>x_H</th>\n",
       "      <td>$x_{H}$</td>\n",
       "      <td>0.124955</td>\n",
       "    </tr>\n",
       "    <tr>\n",
       "      <th>x_R</th>\n",
       "      <td>$x_{R}$</td>\n",
       "      <td>-2.450000</td>\n",
       "    </tr>\n",
       "    <tr>\n",
       "      <th>y_p_port</th>\n",
       "      <td>$y_{p port}$</td>\n",
       "      <td>-0.217600</td>\n",
       "    </tr>\n",
       "    <tr>\n",
       "      <th>y_p_stbd</th>\n",
       "      <td>$y_{p stbd}$</td>\n",
       "      <td>0.217600</td>\n",
       "    </tr>\n",
       "  </tbody>\n",
       "</table>\n",
       "</div>"
      ],
      "text/plain": [
       "                             Parameter        Value\n",
       "A_R_C                        $A_{R C}$     0.013623\n",
       "A_R_U                        $A_{R U}$     0.016473\n",
       "A_R                            $A_{R}$     0.030096\n",
       "C_D_tune                  $C_{D tune}$     1.068560\n",
       "C_D0_tune                $C_{D0 tune}$     7.740219\n",
       "C_L_tune                  $C_{L tune}$     1.000000\n",
       "Omega                         $\\Omega$     0.000000\n",
       "delta_lim               $\\delta_{lim}$     0.261799\n",
       "gamma_0_port         $\\gamma_{0 port}$     0.044000\n",
       "gamma_0_stbd         $\\gamma_{0 stbd}$    -0.044000\n",
       "kappa_r_gamma_g  $\\kappa_{r \\gamma g}$     0.826518\n",
       "kappa_r                   $\\kappa_{r}$     1.194040\n",
       "kappa_v_gamma_g  $\\kappa_{v \\gamma g}$     0.126146\n",
       "kappa_v                   $\\kappa_{v}$     0.887533\n",
       "nu                               $\\nu$     0.000001\n",
       "rho                             $\\rho$  1000.000000\n",
       "a_H                            $a_{H}$     0.128246\n",
       "b_R                            $b_{R}$     0.174272\n",
       "c_r                            $c_{r}$     0.146602\n",
       "c_t                            $c_{t}$     0.198786\n",
       "e_0                            $e_{0}$     0.900000\n",
       "r_0                            $r_{0}$     0.060680\n",
       "s                                  $s$   -10.000000\n",
       "w_f                            $w_{f}$     0.297000\n",
       "x                                  $x$     0.027801\n",
       "x_H                            $x_{H}$     0.124955\n",
       "x_R                            $x_{R}$    -2.450000\n",
       "y_p_port                  $y_{p port}$    -0.217600\n",
       "y_p_stbd                  $y_{p stbd}$     0.217600"
      ]
     },
     "execution_count": 19,
     "metadata": {},
     "output_type": "execute_result"
    }
   ],
   "source": [
    "df_parameters"
   ]
  },
  {
   "cell_type": "code",
   "execution_count": 20,
   "id": "24f038bc-8416-4402-8b17-a114bfb41a97",
   "metadata": {},
   "outputs": [],
   "source": [
    "df_parameters.loc['delta_lim','Parameter'] = r'$\\delta_{lim}$ $[rad]$'\n",
    "df_parameters.loc['gamma_0_port','Parameter'] = r'$\\gamma_{0port}$ $[rad]$'\n",
    "df_parameters.loc['gamma_0_stbd','Parameter'] = r'$\\gamma_{0stbd}$ $[rad]$'"
   ]
  },
  {
   "cell_type": "code",
   "execution_count": 21,
   "id": "23334b21-759f-4411-96d3-1568882970ee",
   "metadata": {},
   "outputs": [],
   "source": [
    "table = paper.table_columns(df_parameters,columns=3)"
   ]
  },
  {
   "cell_type": "code",
   "execution_count": 22,
   "id": "02b53ac3-8b05-4a46-b51f-9de5d4e48204",
   "metadata": {},
   "outputs": [
    {
     "data": {
      "text/html": [
       "<div>\n",
       "<style scoped>\n",
       "    .dataframe tbody tr th:only-of-type {\n",
       "        vertical-align: middle;\n",
       "    }\n",
       "\n",
       "    .dataframe tbody tr th {\n",
       "        vertical-align: top;\n",
       "    }\n",
       "\n",
       "    .dataframe thead th {\n",
       "        text-align: right;\n",
       "    }\n",
       "</style>\n",
       "<table border=\"1\" class=\"dataframe\">\n",
       "  <thead>\n",
       "    <tr style=\"text-align: right;\">\n",
       "      <th></th>\n",
       "      <th>Parameter</th>\n",
       "      <th>Value</th>\n",
       "      <th>Parameter1</th>\n",
       "      <th>Value1</th>\n",
       "      <th>Parameter2</th>\n",
       "      <th>Value2</th>\n",
       "    </tr>\n",
       "  </thead>\n",
       "  <tbody>\n",
       "    <tr>\n",
       "      <th>0</th>\n",
       "      <td>$A_{R C}$</td>\n",
       "      <td>0.013623</td>\n",
       "      <td>$\\kappa_{r \\gamma g}$</td>\n",
       "      <td>0.826518</td>\n",
       "      <td>$e_{0}$</td>\n",
       "      <td>0.900000</td>\n",
       "    </tr>\n",
       "    <tr>\n",
       "      <th>1</th>\n",
       "      <td>$A_{R U}$</td>\n",
       "      <td>0.016473</td>\n",
       "      <td>$\\kappa_{r}$</td>\n",
       "      <td>1.194040</td>\n",
       "      <td>$r_{0}$</td>\n",
       "      <td>0.060680</td>\n",
       "    </tr>\n",
       "    <tr>\n",
       "      <th>2</th>\n",
       "      <td>$A_{R}$</td>\n",
       "      <td>0.030096</td>\n",
       "      <td>$\\kappa_{v \\gamma g}$</td>\n",
       "      <td>0.126146</td>\n",
       "      <td>$s$</td>\n",
       "      <td>-10.000000</td>\n",
       "    </tr>\n",
       "    <tr>\n",
       "      <th>3</th>\n",
       "      <td>$C_{D tune}$</td>\n",
       "      <td>1.068560</td>\n",
       "      <td>$\\kappa_{v}$</td>\n",
       "      <td>0.887533</td>\n",
       "      <td>$w_{f}$</td>\n",
       "      <td>0.297000</td>\n",
       "    </tr>\n",
       "    <tr>\n",
       "      <th>4</th>\n",
       "      <td>$C_{D0 tune}$</td>\n",
       "      <td>7.740219</td>\n",
       "      <td>$\\nu$</td>\n",
       "      <td>0.000001</td>\n",
       "      <td>$x$</td>\n",
       "      <td>0.027801</td>\n",
       "    </tr>\n",
       "    <tr>\n",
       "      <th>5</th>\n",
       "      <td>$C_{L tune}$</td>\n",
       "      <td>1.000000</td>\n",
       "      <td>$\\rho$</td>\n",
       "      <td>1000.000000</td>\n",
       "      <td>$x_{H}$</td>\n",
       "      <td>0.124955</td>\n",
       "    </tr>\n",
       "    <tr>\n",
       "      <th>6</th>\n",
       "      <td>$\\Omega$</td>\n",
       "      <td>0.000000</td>\n",
       "      <td>$a_{H}$</td>\n",
       "      <td>0.128246</td>\n",
       "      <td>$x_{R}$</td>\n",
       "      <td>-2.450000</td>\n",
       "    </tr>\n",
       "    <tr>\n",
       "      <th>7</th>\n",
       "      <td>$\\delta_{lim}$ $[rad]$</td>\n",
       "      <td>0.261799</td>\n",
       "      <td>$b_{R}$</td>\n",
       "      <td>0.174272</td>\n",
       "      <td>$y_{p port}$</td>\n",
       "      <td>-0.217600</td>\n",
       "    </tr>\n",
       "    <tr>\n",
       "      <th>8</th>\n",
       "      <td>$\\gamma_{0port}$ $[rad]$</td>\n",
       "      <td>0.044000</td>\n",
       "      <td>$c_{r}$</td>\n",
       "      <td>0.146602</td>\n",
       "      <td>$y_{p stbd}$</td>\n",
       "      <td>0.217600</td>\n",
       "    </tr>\n",
       "    <tr>\n",
       "      <th>9</th>\n",
       "      <td>$\\gamma_{0stbd}$ $[rad]$</td>\n",
       "      <td>-0.044000</td>\n",
       "      <td>$c_{t}$</td>\n",
       "      <td>0.198786</td>\n",
       "      <td>NaN</td>\n",
       "      <td>NaN</td>\n",
       "    </tr>\n",
       "  </tbody>\n",
       "</table>\n",
       "</div>"
      ],
      "text/plain": [
       "                  Parameter     Value             Parameter1       Value1    Parameter2     Value2\n",
       "0                 $A_{R C}$  0.013623  $\\kappa_{r \\gamma g}$     0.826518       $e_{0}$   0.900000\n",
       "1                 $A_{R U}$  0.016473           $\\kappa_{r}$     1.194040       $r_{0}$   0.060680\n",
       "2                   $A_{R}$  0.030096  $\\kappa_{v \\gamma g}$     0.126146           $s$ -10.000000\n",
       "3              $C_{D tune}$  1.068560           $\\kappa_{v}$     0.887533       $w_{f}$   0.297000\n",
       "4             $C_{D0 tune}$  7.740219                  $\\nu$     0.000001           $x$   0.027801\n",
       "5              $C_{L tune}$  1.000000                 $\\rho$  1000.000000       $x_{H}$   0.124955\n",
       "6                  $\\Omega$  0.000000                $a_{H}$     0.128246       $x_{R}$  -2.450000\n",
       "7    $\\delta_{lim}$ $[rad]$  0.261799                $b_{R}$     0.174272  $y_{p port}$  -0.217600\n",
       "8  $\\gamma_{0port}$ $[rad]$  0.044000                $c_{r}$     0.146602  $y_{p stbd}$   0.217600\n",
       "9  $\\gamma_{0stbd}$ $[rad]$ -0.044000                $c_{t}$     0.198786           NaN        NaN"
      ]
     },
     "execution_count": 22,
     "metadata": {},
     "output_type": "execute_result"
    }
   ],
   "source": [
    "table"
   ]
  },
  {
   "cell_type": "code",
   "execution_count": 23,
   "id": "b5523a22-0ada-4b50-a8ab-3e0388da9083",
   "metadata": {},
   "outputs": [],
   "source": [
    "table.to_csv(paper.file_path_with_nb_ref(\"other_parameters.csv\", directory='tables'), index=False)"
   ]
  },
  {
   "cell_type": "markdown",
   "id": "840231e6-9bcd-4740-9d0b-e629ae2a1f98",
   "metadata": {},
   "source": [
    "## Main particulars"
   ]
  },
  {
   "cell_type": "code",
   "execution_count": 32,
   "id": "6a82fc21-5e4c-4c2d-915d-a0b927e12fff",
   "metadata": {},
   "outputs": [],
   "source": [
    "ship_parameters = pd.Series(model.ship_parameters)\n",
    "keys = list(set(ship_parameters.index) - set(df_parameters.index))\n",
    "ship_parameters = ship_parameters[keys].copy()\n",
    "ship_parameters.drop(index=[\n",
    "    'TWIN',\n",
    "    'y_fan_fore',\n",
    "    'x_p',\n",
    "    'y_R_stbd',\n",
    "    'y_fan_aft',\n",
    "    'x_r',\n",
    "    'volume',\n",
    "    'n_prop',\n",
    "    'z_p',\n",
    "    'x_fan_fore',\n",
    "    'y_R_port',\n",
    "    'A_YV',\n",
    "    'A_XV',\n",
    "    'rho_A',\n",
    "    'x_fan_aft',\n",
    "    'CB',\n",
    "    'c',\n",
    "    'w_p0',\n",
    "    'z_R',\n",
    "    'y_R',\n",
    "    \n",
    "], inplace=True)"
   ]
  },
  {
   "cell_type": "code",
   "execution_count": 33,
   "id": "9f697c82-446b-433d-8ece-1616920babfe",
   "metadata": {},
   "outputs": [
    {
     "data": {
      "text/plain": [
       "I_z             742.046279\n",
       "scale_factor     41.200000\n",
       "T                 0.206311\n",
       "m               441.026784\n",
       "B                 0.946602\n",
       "D                 0.121359\n",
       "tdf               0.117000\n",
       "L                 5.014563\n",
       "x_G              -0.239897\n",
       "dtype: float64"
      ]
     },
     "execution_count": 33,
     "metadata": {},
     "output_type": "execute_result"
    }
   ],
   "source": [
    "ship_parameters"
   ]
  },
  {
   "cell_type": "code",
   "execution_count": 34,
   "id": "3992154d-3433-4042-b8ed-c040d2bc9022",
   "metadata": {},
   "outputs": [],
   "source": [
    "df_ship_parameters = pd.DataFrame(index=ship_parameters.index)\n",
    "df_ship_parameters['Parameter'] = pd.Series(df_ship_parameters.index, index=df_ship_parameters.index).apply(lambda x : f\"${to_latex(x)}$\")\n",
    "df_ship_parameters['Value'] = ship_parameters\n",
    "df_ship_parameters['Description'] = ''"
   ]
  },
  {
   "cell_type": "code",
   "execution_count": 35,
   "id": "3f453f11-abab-4ab3-9d04-1b6cf952f993",
   "metadata": {},
   "outputs": [],
   "source": [
    "df_ship_parameters.loc['I_z','Parameter'] = r'$I_{zz}$'\n",
    "df_ship_parameters.loc['x_G','Parameter'] = r'$x_{G}$'\n",
    "df_ship_parameters.loc['scale_factor','Parameter'] = r'Scale factor'\n",
    "df_ship_parameters.loc['tdf','Parameter'] = r'$t_{df}$'\n",
    "df_ship_parameters.loc['T','Parameter'] = r'$T_{m}$'\n",
    "df_ship_parameters.sort_index(inplace=True)"
   ]
  },
  {
   "cell_type": "code",
   "execution_count": 36,
   "id": "a8059339-6782-431d-9545-1161b2cd6b23",
   "metadata": {},
   "outputs": [],
   "source": [
    "df_ship_parameters.loc['B','Description'] = r'Breadth'\n",
    "df_ship_parameters.loc['D','Description'] = r'Propeller diameter'\n",
    "df_ship_parameters.loc['I_z','Description'] = r'Yaw moment of inertia around midship'\n",
    "df_ship_parameters.loc['L','Description'] = r'Length between perpendiculars'\n",
    "df_ship_parameters.loc['T','Description'] = r'Mean draught'\n",
    "df_ship_parameters.loc['m','Description'] = r'Ship mass'\n",
    "df_ship_parameters.loc['tdf','Description'] = r'Thrust deduction factor'\n",
    "df_ship_parameters.loc['x_G','Description'] = r'Longitudinal c.o.g.'\n"
   ]
  },
  {
   "cell_type": "code",
   "execution_count": 37,
   "id": "0a539010-4fa1-48d1-a3d2-db0974fa11c1",
   "metadata": {},
   "outputs": [
    {
     "data": {
      "text/html": [
       "<div>\n",
       "<style scoped>\n",
       "    .dataframe tbody tr th:only-of-type {\n",
       "        vertical-align: middle;\n",
       "    }\n",
       "\n",
       "    .dataframe tbody tr th {\n",
       "        vertical-align: top;\n",
       "    }\n",
       "\n",
       "    .dataframe thead th {\n",
       "        text-align: right;\n",
       "    }\n",
       "</style>\n",
       "<table border=\"1\" class=\"dataframe\">\n",
       "  <thead>\n",
       "    <tr style=\"text-align: right;\">\n",
       "      <th></th>\n",
       "      <th>Parameter</th>\n",
       "      <th>Value</th>\n",
       "      <th>Description</th>\n",
       "    </tr>\n",
       "  </thead>\n",
       "  <tbody>\n",
       "    <tr>\n",
       "      <th>B</th>\n",
       "      <td>$\\mathtt{\\text{B}}$</td>\n",
       "      <td>0.946602</td>\n",
       "      <td>Breadth</td>\n",
       "    </tr>\n",
       "    <tr>\n",
       "      <th>D</th>\n",
       "      <td>$\\mathtt{\\text{D}}$</td>\n",
       "      <td>0.121359</td>\n",
       "      <td>Propeller diameter</td>\n",
       "    </tr>\n",
       "    <tr>\n",
       "      <th>I_z</th>\n",
       "      <td>$I_{zz}$</td>\n",
       "      <td>742.046279</td>\n",
       "      <td>Yaw moment of inertia around midship</td>\n",
       "    </tr>\n",
       "    <tr>\n",
       "      <th>L</th>\n",
       "      <td>$\\mathtt{\\text{L}}$</td>\n",
       "      <td>5.014563</td>\n",
       "      <td>Length between perpendiculars</td>\n",
       "    </tr>\n",
       "    <tr>\n",
       "      <th>T</th>\n",
       "      <td>$T_{m}$</td>\n",
       "      <td>0.206311</td>\n",
       "      <td>Mean draught</td>\n",
       "    </tr>\n",
       "    <tr>\n",
       "      <th>m</th>\n",
       "      <td>$\\mathtt{\\text{m}}$</td>\n",
       "      <td>441.026784</td>\n",
       "      <td>Ship mass</td>\n",
       "    </tr>\n",
       "    <tr>\n",
       "      <th>scale_factor</th>\n",
       "      <td>Scale factor</td>\n",
       "      <td>41.200000</td>\n",
       "      <td></td>\n",
       "    </tr>\n",
       "    <tr>\n",
       "      <th>tdf</th>\n",
       "      <td>$t_{df}$</td>\n",
       "      <td>0.117000</td>\n",
       "      <td>Thrust deduction factor</td>\n",
       "    </tr>\n",
       "    <tr>\n",
       "      <th>x_G</th>\n",
       "      <td>$x_{G}$</td>\n",
       "      <td>-0.239897</td>\n",
       "      <td>Longitudinal c.o.g.</td>\n",
       "    </tr>\n",
       "  </tbody>\n",
       "</table>\n",
       "</div>"
      ],
      "text/plain": [
       "                        Parameter       Value                           Description\n",
       "B             $\\mathtt{\\text{B}}$    0.946602                               Breadth\n",
       "D             $\\mathtt{\\text{D}}$    0.121359                    Propeller diameter\n",
       "I_z                      $I_{zz}$  742.046279  Yaw moment of inertia around midship\n",
       "L             $\\mathtt{\\text{L}}$    5.014563         Length between perpendiculars\n",
       "T                         $T_{m}$    0.206311                          Mean draught\n",
       "m             $\\mathtt{\\text{m}}$  441.026784                             Ship mass\n",
       "scale_factor         Scale factor   41.200000                                      \n",
       "tdf                      $t_{df}$    0.117000               Thrust deduction factor\n",
       "x_G                       $x_{G}$   -0.239897                   Longitudinal c.o.g."
      ]
     },
     "execution_count": 37,
     "metadata": {},
     "output_type": "execute_result"
    }
   ],
   "source": [
    "df_ship_parameters"
   ]
  },
  {
   "cell_type": "code",
   "execution_count": 38,
   "id": "b4b189ff-470c-4516-bda8-95930614aae4",
   "metadata": {},
   "outputs": [],
   "source": [
    "df_ship_parameters.to_csv(paper.file_path_with_nb_ref(\"main_particulars.csv\", directory='tables'), index=False)"
   ]
  },
  {
   "cell_type": "code",
   "execution_count": 39,
   "id": "d2883aa6-0fb4-4a00-aabe-054b44138e89",
   "metadata": {},
   "outputs": [
    {
     "data": {
      "text/plain": [
       "{'T': 0.2063106796116504,\n",
       " 'L': 5.014563106796117,\n",
       " 'CB': 0.45034232324249973,\n",
       " 'B': 0.9466019417475728,\n",
       " 'rho': 1000,\n",
       " 'x_G': -0.23989669902912625,\n",
       " 'm': 441.0267843660858,\n",
       " 'I_z': 742.0462794081202,\n",
       " 'volume': 0.4410267843660858,\n",
       " 'scale_factor': 41.2,\n",
       " 'x_r': -2.45,\n",
       " 'TWIN': 1,\n",
       " 'x_p': -2.42219908951329,\n",
       " 'y_p_port': -0.2176,\n",
       " 'y_p_stbd': 0.2176,\n",
       " 'z_p': 0.12730849514563097,\n",
       " 'y_R_port': -0.2176,\n",
       " 'y_R_stbd': 0.2176,\n",
       " 'D': 0.12135922330097086,\n",
       " 'w_p0': 0.151,\n",
       " 'A_XV': 0.5938354227542653,\n",
       " 'A_YV': 3.3958124999999995,\n",
       " 'rho_A': 1.225,\n",
       " 'n_prop': 2,\n",
       " 'tdf': 0.117,\n",
       " 'A_R': 0.030095732397021395,\n",
       " 'b_R': 0.17427184466019416,\n",
       " 'c_r': 0.14660194174757282,\n",
       " 'c_t': 0.19878640776699028,\n",
       " 'c': 0.17269417475728155,\n",
       " 'x_fan_fore': 1.2877184466019416,\n",
       " 'x_fan_aft': -1.5381815533980583,\n",
       " 'y_fan_aft': 0,\n",
       " 'y_fan_fore': 0,\n",
       " 'r_0': 0.06067961165048543,\n",
       " 'x': 0.027800910486710073,\n",
       " 'x_R': -2.45,\n",
       " 'y_R': 0,\n",
       " 'z_R': 0,\n",
       " 'w_f': 0.297,\n",
       " 'A_R_C': 0.013622720096144783,\n",
       " 'A_R_U': 0.01647301230087661}"
      ]
     },
     "execution_count": 39,
     "metadata": {},
     "output_type": "execute_result"
    }
   ],
   "source": [
    "model.ship_parameters"
   ]
  },
  {
   "cell_type": "code",
   "execution_count": null,
   "id": "1fea2774-1901-41a5-8780-fc2604184cad",
   "metadata": {},
   "outputs": [],
   "source": []
  },
  {
   "cell_type": "code",
   "execution_count": null,
   "id": "4c99bed4-3c7d-4de6-98c2-d2575d307178",
   "metadata": {},
   "outputs": [],
   "source": []
  }
 ],
 "metadata": {
  "kernelspec": {
   "display_name": "Kedro (phd)",
   "language": "python",
   "name": "kedro_phd"
  },
  "language_info": {
   "codemirror_mode": {
    "name": "ipython",
    "version": 3
   },
   "file_extension": ".py",
   "mimetype": "text/x-python",
   "name": "python",
   "nbconvert_exporter": "python",
   "pygments_lexer": "ipython3",
   "version": "3.10.10"
  }
 },
 "nbformat": 4,
 "nbformat_minor": 5
}
