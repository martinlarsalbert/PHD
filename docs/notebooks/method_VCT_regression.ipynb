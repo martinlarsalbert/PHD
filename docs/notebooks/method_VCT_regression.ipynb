{
 "cells": [
  {
   "cell_type": "markdown",
   "id": "b36b929f-994d-4b75-8eea-3455ae04d30c",
   "metadata": {},
   "source": [
    "# Method: VCT regression"
   ]
  },
  {
   "cell_type": "code",
   "execution_count": 3,
   "id": "437d6687-3de2-49b1-b381-12aed5a419c9",
   "metadata": {},
   "outputs": [
    {
     "name": "stdout",
     "output_type": "stream",
     "text": [
      "The autoreload extension is already loaded. To reload it, use:\n",
      "  %reload_ext autoreload\n"
     ]
    }
   ],
   "source": [
    "#import warnings\n",
    "#warnings.filterwarnings('ignore')\n",
    "%matplotlib inline\n",
    "%load_ext autoreload\n",
    "%autoreload 2\n",
    "%config Completer.use_jedi = False"
   ]
  },
  {
   "cell_type": "code",
   "execution_count": 38,
   "id": "3c7ee721-8ac4-4011-bc2d-723863a77c73",
   "metadata": {},
   "outputs": [],
   "source": [
    "import pandas as pd\n",
    "pd.set_option('display.max_rows', 5000)\n",
    "pd.set_option('display.max_columns', 5000)\n",
    "pd.set_option('display.width', 10000)\n",
    "import numpy as np\n",
    "import yaml\n",
    "\n",
    "from vessel_manoeuvring_models.visualization.plot import track_plot, plot\n",
    "from phd.visualization.plot_ship import track_plots\n",
    "from vessel_manoeuvring_models.prime_system import PrimeSystem\n",
    "from phd.visualization.plot_prediction import plot_total_force, plot_force_components, predict, plot_compare_model_forces, plot_parameter_contributions\n",
    "from phd.visualization.bokeh_plotting import create_tab\n",
    "from vessel_manoeuvring_models.symbols import *\n",
    "import matplotlib.pyplot as plt\n",
    "from vessel_manoeuvring_models.substitute_dynamic_symbols import run, lambdify, remove_functions, prime\n",
    "from vessel_manoeuvring_models.parameters import df_parameters\n",
    "p = df_parameters[\"symbol\"]\n",
    "import statsmodels.api as sm\n",
    "import sympy as sp\n",
    "from sympy import Eq, symbols, latex\n",
    "import paper\n",
    "from paper import save_fig, save_eq\n",
    "import vessel_manoeuvring_models\n",
    "from phd.pipelines.regression_VCT.nodes import df_VCT_to_prime, regress_VCT\n",
    "from phd.pipelines.regression_VCT.regression_pipeline import pipeline_with_rudder"
   ]
  },
  {
   "cell_type": "code",
   "execution_count": 40,
   "id": "96675a7e-9a9e-4565-b6fc-5908ebf21231",
   "metadata": {},
   "outputs": [
    {
     "data": {
      "text/html": [
       "<pre style=\"white-space:pre;overflow-x:auto;line-height:normal;font-family:Menlo,'DejaVu Sans Mono',consolas,'Courier New',monospace\"><span style=\"color: #7fbfbf; text-decoration-color: #7fbfbf\">[01/10/24 13:13:24] </span><span style=\"color: #000080; text-decoration-color: #000080\">INFO    </span> Loading data from <span style=\"color: #008000; text-decoration-color: #008000\">'wPCC.ship_data'</span> <span style=\"font-weight: bold\">(</span>YAMLDataSet<span style=\"font-weight: bold\">)</span><span style=\"color: #808000; text-decoration-color: #808000\">...</span>                <a href=\"file:///home/maa/anaconda3/envs/phd/lib/python3.10/site-packages/kedro/io/data_catalog.py\" target=\"_blank\"><span style=\"color: #7f7f7f; text-decoration-color: #7f7f7f\">data_catalog.py</span></a><span style=\"color: #7f7f7f; text-decoration-color: #7f7f7f\">:</span><a href=\"file:///home/maa/anaconda3/envs/phd/lib/python3.10/site-packages/kedro/io/data_catalog.py#502\" target=\"_blank\"><span style=\"color: #7f7f7f; text-decoration-color: #7f7f7f\">502</span></a>\n",
       "</pre>\n"
      ],
      "text/plain": [
       "\u001b[2;36m[01/10/24 13:13:24]\u001b[0m\u001b[2;36m \u001b[0m\u001b[34mINFO    \u001b[0m Loading data from \u001b[32m'wPCC.ship_data'\u001b[0m \u001b[1m(\u001b[0mYAMLDataSet\u001b[1m)\u001b[0m\u001b[33m...\u001b[0m                \u001b]8;id=495122;file:///home/maa/anaconda3/envs/phd/lib/python3.10/site-packages/kedro/io/data_catalog.py\u001b\\\u001b[2mdata_catalog.py\u001b[0m\u001b]8;;\u001b\\\u001b[2m:\u001b[0m\u001b]8;id=529048;file:///home/maa/anaconda3/envs/phd/lib/python3.10/site-packages/kedro/io/data_catalog.py#502\u001b\\\u001b[2m502\u001b[0m\u001b]8;;\u001b\\\n"
      ]
     },
     "metadata": {},
     "output_type": "display_data"
    },
    {
     "data": {
      "text/html": [
       "<pre style=\"white-space:pre;overflow-x:auto;line-height:normal;font-family:Menlo,'DejaVu Sans Mono',consolas,'Courier New',monospace\"><span style=\"color: #7fbfbf; text-decoration-color: #7fbfbf\">                    </span><span style=\"color: #000080; text-decoration-color: #000080\">INFO    </span> Loading data from <span style=\"color: #008000; text-decoration-color: #008000\">'wPCC.models_VCT'</span> <span style=\"font-weight: bold\">(</span>PartitionedDataset<span style=\"font-weight: bold\">)</span><span style=\"color: #808000; text-decoration-color: #808000\">...</span>        <a href=\"file:///home/maa/anaconda3/envs/phd/lib/python3.10/site-packages/kedro/io/data_catalog.py\" target=\"_blank\"><span style=\"color: #7f7f7f; text-decoration-color: #7f7f7f\">data_catalog.py</span></a><span style=\"color: #7f7f7f; text-decoration-color: #7f7f7f\">:</span><a href=\"file:///home/maa/anaconda3/envs/phd/lib/python3.10/site-packages/kedro/io/data_catalog.py#502\" target=\"_blank\"><span style=\"color: #7f7f7f; text-decoration-color: #7f7f7f\">502</span></a>\n",
       "</pre>\n"
      ],
      "text/plain": [
       "\u001b[2;36m                   \u001b[0m\u001b[2;36m \u001b[0m\u001b[34mINFO    \u001b[0m Loading data from \u001b[32m'wPCC.models_VCT'\u001b[0m \u001b[1m(\u001b[0mPartitionedDataset\u001b[1m)\u001b[0m\u001b[33m...\u001b[0m        \u001b]8;id=226315;file:///home/maa/anaconda3/envs/phd/lib/python3.10/site-packages/kedro/io/data_catalog.py\u001b\\\u001b[2mdata_catalog.py\u001b[0m\u001b]8;;\u001b\\\u001b[2m:\u001b[0m\u001b]8;id=956921;file:///home/maa/anaconda3/envs/phd/lib/python3.10/site-packages/kedro/io/data_catalog.py#502\u001b\\\u001b[2m502\u001b[0m\u001b]8;;\u001b\\\n"
      ]
     },
     "metadata": {},
     "output_type": "display_data"
    },
    {
     "data": {
      "text/html": [
       "<pre style=\"white-space:pre;overflow-x:auto;line-height:normal;font-family:Menlo,'DejaVu Sans Mono',consolas,'Courier New',monospace\"><span style=\"color: #7fbfbf; text-decoration-color: #7fbfbf\">                    </span><span style=\"color: #000080; text-decoration-color: #000080\">INFO    </span> Loading data from <span style=\"color: #008000; text-decoration-color: #008000\">'wPCC.models_rudder_VCT'</span> <span style=\"font-weight: bold\">(</span>PartitionedDataset<span style=\"font-weight: bold\">)</span><span style=\"color: #808000; text-decoration-color: #808000\">...</span> <a href=\"file:///home/maa/anaconda3/envs/phd/lib/python3.10/site-packages/kedro/io/data_catalog.py\" target=\"_blank\"><span style=\"color: #7f7f7f; text-decoration-color: #7f7f7f\">data_catalog.py</span></a><span style=\"color: #7f7f7f; text-decoration-color: #7f7f7f\">:</span><a href=\"file:///home/maa/anaconda3/envs/phd/lib/python3.10/site-packages/kedro/io/data_catalog.py#502\" target=\"_blank\"><span style=\"color: #7f7f7f; text-decoration-color: #7f7f7f\">502</span></a>\n",
       "</pre>\n"
      ],
      "text/plain": [
       "\u001b[2;36m                   \u001b[0m\u001b[2;36m \u001b[0m\u001b[34mINFO    \u001b[0m Loading data from \u001b[32m'wPCC.models_rudder_VCT'\u001b[0m \u001b[1m(\u001b[0mPartitionedDataset\u001b[1m)\u001b[0m\u001b[33m...\u001b[0m \u001b]8;id=34214;file:///home/maa/anaconda3/envs/phd/lib/python3.10/site-packages/kedro/io/data_catalog.py\u001b\\\u001b[2mdata_catalog.py\u001b[0m\u001b]8;;\u001b\\\u001b[2m:\u001b[0m\u001b]8;id=429768;file:///home/maa/anaconda3/envs/phd/lib/python3.10/site-packages/kedro/io/data_catalog.py#502\u001b\\\u001b[2m502\u001b[0m\u001b]8;;\u001b\\\n"
      ]
     },
     "metadata": {},
     "output_type": "display_data"
    },
    {
     "data": {
      "text/html": [
       "<pre style=\"white-space:pre;overflow-x:auto;line-height:normal;font-family:Menlo,'DejaVu Sans Mono',consolas,'Courier New',monospace\"><span style=\"color: #7fbfbf; text-decoration-color: #7fbfbf\">                    </span><span style=\"color: #000080; text-decoration-color: #000080\">INFO    </span> Loading data from <span style=\"color: #008000; text-decoration-color: #008000\">'wPCC.df_VCT_scaled'</span> <span style=\"font-weight: bold\">(</span>CSVDataSet<span style=\"font-weight: bold\">)</span><span style=\"color: #808000; text-decoration-color: #808000\">...</span>             <a href=\"file:///home/maa/anaconda3/envs/phd/lib/python3.10/site-packages/kedro/io/data_catalog.py\" target=\"_blank\"><span style=\"color: #7f7f7f; text-decoration-color: #7f7f7f\">data_catalog.py</span></a><span style=\"color: #7f7f7f; text-decoration-color: #7f7f7f\">:</span><a href=\"file:///home/maa/anaconda3/envs/phd/lib/python3.10/site-packages/kedro/io/data_catalog.py#502\" target=\"_blank\"><span style=\"color: #7f7f7f; text-decoration-color: #7f7f7f\">502</span></a>\n",
       "</pre>\n"
      ],
      "text/plain": [
       "\u001b[2;36m                   \u001b[0m\u001b[2;36m \u001b[0m\u001b[34mINFO    \u001b[0m Loading data from \u001b[32m'wPCC.df_VCT_scaled'\u001b[0m \u001b[1m(\u001b[0mCSVDataSet\u001b[1m)\u001b[0m\u001b[33m...\u001b[0m             \u001b]8;id=709146;file:///home/maa/anaconda3/envs/phd/lib/python3.10/site-packages/kedro/io/data_catalog.py\u001b\\\u001b[2mdata_catalog.py\u001b[0m\u001b]8;;\u001b\\\u001b[2m:\u001b[0m\u001b]8;id=174594;file:///home/maa/anaconda3/envs/phd/lib/python3.10/site-packages/kedro/io/data_catalog.py#502\u001b\\\u001b[2m502\u001b[0m\u001b]8;;\u001b\\\n"
      ]
     },
     "metadata": {},
     "output_type": "display_data"
    },
    {
     "data": {
      "text/html": [
       "<pre style=\"white-space:pre;overflow-x:auto;line-height:normal;font-family:Menlo,'DejaVu Sans Mono',consolas,'Courier New',monospace\"><span style=\"color: #7fbfbf; text-decoration-color: #7fbfbf\">                    </span><span style=\"color: #000080; text-decoration-color: #000080\">INFO    </span> Loading data from <span style=\"color: #008000; text-decoration-color: #008000\">'params:wPCC.VCT_exclude_parameters'</span>             <a href=\"file:///home/maa/anaconda3/envs/phd/lib/python3.10/site-packages/kedro/io/data_catalog.py\" target=\"_blank\"><span style=\"color: #7f7f7f; text-decoration-color: #7f7f7f\">data_catalog.py</span></a><span style=\"color: #7f7f7f; text-decoration-color: #7f7f7f\">:</span><a href=\"file:///home/maa/anaconda3/envs/phd/lib/python3.10/site-packages/kedro/io/data_catalog.py#502\" target=\"_blank\"><span style=\"color: #7f7f7f; text-decoration-color: #7f7f7f\">502</span></a>\n",
       "<span style=\"color: #7fbfbf; text-decoration-color: #7fbfbf\">                    </span>         <span style=\"font-weight: bold\">(</span>MemoryDataset<span style=\"font-weight: bold\">)</span><span style=\"color: #808000; text-decoration-color: #808000\">...</span>                                                 <span style=\"color: #7f7f7f; text-decoration-color: #7f7f7f\">                   </span>\n",
       "</pre>\n"
      ],
      "text/plain": [
       "\u001b[2;36m                   \u001b[0m\u001b[2;36m \u001b[0m\u001b[34mINFO    \u001b[0m Loading data from \u001b[32m'params:wPCC.VCT_exclude_parameters'\u001b[0m             \u001b]8;id=898930;file:///home/maa/anaconda3/envs/phd/lib/python3.10/site-packages/kedro/io/data_catalog.py\u001b\\\u001b[2mdata_catalog.py\u001b[0m\u001b]8;;\u001b\\\u001b[2m:\u001b[0m\u001b]8;id=490231;file:///home/maa/anaconda3/envs/phd/lib/python3.10/site-packages/kedro/io/data_catalog.py#502\u001b\\\u001b[2m502\u001b[0m\u001b]8;;\u001b\\\n",
       "\u001b[2;36m                    \u001b[0m         \u001b[1m(\u001b[0mMemoryDataset\u001b[1m)\u001b[0m\u001b[33m...\u001b[0m                                                 \u001b[2m                   \u001b[0m\n"
      ]
     },
     "metadata": {},
     "output_type": "display_data"
    }
   ],
   "source": [
    "#%reload_kedro\n",
    "ship='wPCC'\n",
    "ship_data = catalog.load(f\"{ship}.ship_data\")\n",
    "model_loaders = catalog.load(f\"{ship}.models_VCT\")\n",
    "models_rudder_VCT_loaders = catalog.load(f\"{ship}.models_rudder_VCT\")\n",
    "df_VCT = catalog.load(f\"{ship}.df_VCT_scaled\")\n",
    "exclude_parameters = catalog.load(f\"params:{ship}.VCT_exclude_parameters\")"
   ]
  },
  {
   "cell_type": "markdown",
   "id": "899bd2eb-bbac-4cef-9521-c35f92e2b1f7",
   "metadata": {},
   "source": [
    "## Mathematical rudder model"
   ]
  },
  {
   "cell_type": "code",
   "execution_count": 5,
   "id": "30a7cb46-8197-476e-8497-182cad104d89",
   "metadata": {},
   "outputs": [],
   "source": [
    "model_abkowitz = models_rudder_VCT_loaders['Abkowitz']()"
   ]
  },
  {
   "cell_type": "code",
   "execution_count": 18,
   "id": "2adbb901-59b9-4265-968f-5f24ef73afdd",
   "metadata": {},
   "outputs": [
    {
     "name": "stdout",
     "output_type": "stream",
     "text": [
      "hull: PrimeEquationSubSystem\n",
      "propellers: PropellersSimpleSystem\n",
      "rudders: AbkowitzRudderSystem\n",
      "rudder_hull_interaction: RudderHullInteractionDummySystem\n",
      "wind_force: DummyWindForceSystem\n"
     ]
    }
   ],
   "source": [
    "model_abkowitz.show_subsystems()"
   ]
  },
  {
   "cell_type": "code",
   "execution_count": 8,
   "id": "b282bfee-0c0a-4fd0-8f6b-84875b8dc19d",
   "metadata": {},
   "outputs": [],
   "source": [
    "df_VCT_prime = df_VCT_to_prime(model=model_abkowitz, df_VCT=df_VCT)"
   ]
  },
  {
   "cell_type": "code",
   "execution_count": 10,
   "id": "2ac25579-4259-48c5-9167-269f8a0108c8",
   "metadata": {},
   "outputs": [],
   "source": [
    "regression_pipeline = pipeline_with_rudder(df_VCT_prime=df_VCT_prime, model=model_abkowitz)"
   ]
  },
  {
   "cell_type": "code",
   "execution_count": 12,
   "id": "296c4131-5dd2-4e4c-93e5-4297ad6f87c8",
   "metadata": {},
   "outputs": [
    {
     "data": {
      "text/plain": [
       "dict_keys(['Rudder fx', 'Rudder fy', 'Rudder mz', 'resistance', 'resistance fy', 'resistance mz', 'Drift angle fx', 'Drift angle fy', 'Drift angle mz', 'Circle fx', 'Circle fy', 'Circle mz', 'Circle + Drift fx', 'Circle + Drift fy', 'Circle + Drift mz'])"
      ]
     },
     "execution_count": 12,
     "metadata": {},
     "output_type": "execute_result"
    }
   ],
   "source": [
    "regression_pipeline.keys()"
   ]
  },
  {
   "cell_type": "code",
   "execution_count": 13,
   "id": "73d7e696-c19c-48b2-8d41-3201424c4c97",
   "metadata": {},
   "outputs": [],
   "source": [
    "regression = regression_pipeline['Rudder fy']"
   ]
  },
  {
   "cell_type": "code",
   "execution_count": 16,
   "id": "4c4535e1-2b89-48e0-927d-c7a193b5b653",
   "metadata": {},
   "outputs": [
    {
     "data": {
      "text/latex": [
       "$\\displaystyle Y_{D} = Y_{0} + Y_{deltadeltadelta} \\delta^{3} + Y_{delta} \\delta$"
      ],
      "text/plain": [
       "Eq(Y_D, Y_{0} + Y_{deltadeltadelta}*delta**3 + Y_{delta}*delta)"
      ]
     },
     "execution_count": 16,
     "metadata": {},
     "output_type": "execute_result"
    }
   ],
   "source": [
    "regression['eq']"
   ]
  },
  {
   "cell_type": "code",
   "execution_count": 17,
   "id": "cba0c68c-4e5f-420d-8e00-1128ea5a9502",
   "metadata": {},
   "outputs": [
    {
     "data": {
      "text/latex": [
       "$\\displaystyle X_{R} = X_{deltadelta} \\delta^{2}$"
      ],
      "text/plain": [
       "Eq(X_R, X_{deltadelta}*delta**2)"
      ]
     },
     "metadata": {},
     "output_type": "display_data"
    },
    {
     "data": {
      "text/latex": [
       "$\\displaystyle Y_{D} = Y_{0} + Y_{deltadeltadelta} \\delta^{3} + Y_{delta} \\delta$"
      ],
      "text/plain": [
       "Eq(Y_D, Y_{0} + Y_{deltadeltadelta}*delta**3 + Y_{delta}*delta)"
      ]
     },
     "metadata": {},
     "output_type": "display_data"
    },
    {
     "data": {
      "text/latex": [
       "$\\displaystyle N_{D} = N_{0} + N_{deltadeltadelta} \\delta^{3} + N_{delta} \\delta - X_{thrustport} thrust_{port} y_{p port} - X_{thruststbd} thrust_{stbd} y_{p stbd}$"
      ],
      "text/plain": [
       "Eq(N_D, N_{0} + N_{deltadeltadelta}*delta**3 + N_{delta}*delta - X_{thrustport}*thrust_port*y_p_port - X_{thruststbd}*thrust_stbd*y_p_stbd)"
      ]
     },
     "metadata": {},
     "output_type": "display_data"
    },
    {
     "data": {
      "text/latex": [
       "$\\displaystyle X_{D} = X_{0} + X_{deltadelta} \\delta^{2} + X_{thrustport} thrust_{port} + X_{thruststbd} thrust_{stbd} + X_{u} u$"
      ],
      "text/plain": [
       "Eq(X_D, X_{0} + X_{deltadelta}*delta**2 + X_{thrustport}*thrust_port + X_{thruststbd}*thrust_stbd + X_{u}*u)"
      ]
     },
     "metadata": {},
     "output_type": "display_data"
    },
    {
     "data": {
      "text/latex": [
       "$\\displaystyle Y_{D} = Y_{0} + Y_{deltadeltadelta} \\delta^{3} + Y_{delta} \\delta$"
      ],
      "text/plain": [
       "Eq(Y_D, Y_{0} + Y_{deltadeltadelta}*delta**3 + Y_{delta}*delta)"
      ]
     },
     "metadata": {},
     "output_type": "display_data"
    },
    {
     "data": {
      "text/latex": [
       "$\\displaystyle N_{D} = N_{0} + N_{deltadeltadelta} \\delta^{3} + N_{delta} \\delta - X_{thrustport} thrust_{port} y_{p port} - X_{thruststbd} thrust_{stbd} y_{p stbd}$"
      ],
      "text/plain": [
       "Eq(N_D, N_{0} + N_{deltadeltadelta}*delta**3 + N_{delta}*delta - X_{thrustport}*thrust_port*y_p_port - X_{thruststbd}*thrust_stbd*y_p_stbd)"
      ]
     },
     "metadata": {},
     "output_type": "display_data"
    },
    {
     "data": {
      "text/latex": [
       "$\\displaystyle X_{D} = X_{0} + X_{thrustport} thrust_{port} + X_{thruststbd} thrust_{stbd} + X_{u} u + X_{vv} v^{2}$"
      ],
      "text/plain": [
       "Eq(X_D, X_{0} + X_{thrustport}*thrust_port + X_{thruststbd}*thrust_stbd + X_{u}*u + X_{vv}*v**2)"
      ]
     },
     "metadata": {},
     "output_type": "display_data"
    },
    {
     "data": {
      "text/latex": [
       "$\\displaystyle Y_{D} = Y_{0} + Y_{vvv} v^{3} + Y_{v} v$"
      ],
      "text/plain": [
       "Eq(Y_D, Y_{0} + Y_{vvv}*v**3 + Y_{v}*v)"
      ]
     },
     "metadata": {},
     "output_type": "display_data"
    },
    {
     "data": {
      "text/latex": [
       "$\\displaystyle N_{D} = N_{0} + N_{vvv} v^{3} + N_{v} v - X_{thrustport} thrust_{port} y_{p port} - X_{thruststbd} thrust_{stbd} y_{p stbd}$"
      ],
      "text/plain": [
       "Eq(N_D, N_{0} + N_{vvv}*v**3 + N_{v}*v - X_{thrustport}*thrust_port*y_p_port - X_{thruststbd}*thrust_stbd*y_p_stbd)"
      ]
     },
     "metadata": {},
     "output_type": "display_data"
    },
    {
     "data": {
      "text/latex": [
       "$\\displaystyle X_{D} = X_{0} + X_{rr} r^{2} + X_{thrustport} thrust_{port} + X_{thruststbd} thrust_{stbd} + X_{u} u$"
      ],
      "text/plain": [
       "Eq(X_D, X_{0} + X_{rr}*r**2 + X_{thrustport}*thrust_port + X_{thruststbd}*thrust_stbd + X_{u}*u)"
      ]
     },
     "metadata": {},
     "output_type": "display_data"
    },
    {
     "data": {
      "text/latex": [
       "$\\displaystyle Y_{D} = Y_{0} + Y_{rrr} r^{3} + Y_{r} r$"
      ],
      "text/plain": [
       "Eq(Y_D, Y_{0} + Y_{rrr}*r**3 + Y_{r}*r)"
      ]
     },
     "metadata": {},
     "output_type": "display_data"
    },
    {
     "data": {
      "text/latex": [
       "$\\displaystyle N_{D} = N_{0} + N_{rrr} r^{3} + N_{r} r - X_{thrustport} thrust_{port} y_{p port} - X_{thruststbd} thrust_{stbd} y_{p stbd}$"
      ],
      "text/plain": [
       "Eq(N_D, N_{0} + N_{rrr}*r**3 + N_{r}*r - X_{thrustport}*thrust_port*y_p_port - X_{thruststbd}*thrust_stbd*y_p_stbd)"
      ]
     },
     "metadata": {},
     "output_type": "display_data"
    },
    {
     "data": {
      "text/latex": [
       "$\\displaystyle X_{D} = X_{0} + X_{rr} r^{2} + X_{thrustport} thrust_{port} + X_{thruststbd} thrust_{stbd} + X_{u} u + X_{vr} r v + X_{vv} v^{2}$"
      ],
      "text/plain": [
       "Eq(X_D, X_{0} + X_{rr}*r**2 + X_{thrustport}*thrust_port + X_{thruststbd}*thrust_stbd + X_{u}*u + X_{vr}*r*v + X_{vv}*v**2)"
      ]
     },
     "metadata": {},
     "output_type": "display_data"
    },
    {
     "data": {
      "text/latex": [
       "$\\displaystyle Y_{D} = Y_{0} + Y_{rrr} r^{3} + Y_{r} r + Y_{vrr} r^{2} v + Y_{vvr} r v^{2} + Y_{vvv} v^{3} + Y_{v} v$"
      ],
      "text/plain": [
       "Eq(Y_D, Y_{0} + Y_{rrr}*r**3 + Y_{r}*r + Y_{vrr}*r**2*v + Y_{vvr}*r*v**2 + Y_{vvv}*v**3 + Y_{v}*v)"
      ]
     },
     "metadata": {},
     "output_type": "display_data"
    },
    {
     "data": {
      "text/latex": [
       "$\\displaystyle N_{D} = N_{0} + N_{rrr} r^{3} + N_{r} r + N_{vrr} r^{2} v + N_{vvr} r v^{2} + N_{vvv} v^{3} + N_{v} v - X_{thrustport} thrust_{port} y_{p port} - X_{thruststbd} thrust_{stbd} y_{p stbd}$"
      ],
      "text/plain": [
       "Eq(N_D, N_{0} + N_{rrr}*r**3 + N_{r}*r + N_{vrr}*r**2*v + N_{vvr}*r*v**2 + N_{vvv}*v**3 + N_{v}*v - X_{thrustport}*thrust_port*y_p_port - X_{thruststbd}*thrust_stbd*y_p_stbd)"
      ]
     },
     "metadata": {},
     "output_type": "display_data"
    }
   ],
   "source": [
    "for name,regression in regression_pipeline.items():\n",
    "    display(regression['eq'])"
   ]
  },
  {
   "cell_type": "code",
   "execution_count": 19,
   "id": "58a69bb4-b48e-493b-ba56-0bcc71f2eb77",
   "metadata": {},
   "outputs": [
    {
     "data": {
      "text/plain": [
       "array(['Circle', 'Circle + Drift', 'Circle + rudder angle', 'Drift angle',\n",
       "       'Rudder and drift angle', 'Rudder angle', 'Thrust variation',\n",
       "       'self propulsion', 'Rudder angle resistance (no propeller)'],\n",
       "      dtype=object)"
      ]
     },
     "execution_count": 19,
     "metadata": {},
     "output_type": "execute_result"
    }
   ],
   "source": [
    "df_VCT['test type'].unique()"
   ]
  },
  {
   "cell_type": "code",
   "execution_count": 27,
   "id": "08254a3d-a80c-4207-813e-6382c7e5b825",
   "metadata": {},
   "outputs": [
    {
     "data": {
      "text/html": [
       "<div>\n",
       "<style scoped>\n",
       "    .dataframe tbody tr th:only-of-type {\n",
       "        vertical-align: middle;\n",
       "    }\n",
       "\n",
       "    .dataframe tbody tr th {\n",
       "        vertical-align: top;\n",
       "    }\n",
       "\n",
       "    .dataframe thead th {\n",
       "        text-align: right;\n",
       "    }\n",
       "</style>\n",
       "<table border=\"1\" class=\"dataframe\">\n",
       "  <thead>\n",
       "    <tr style=\"text-align: right;\">\n",
       "      <th></th>\n",
       "      <th>u</th>\n",
       "      <th>v</th>\n",
       "      <th>r</th>\n",
       "      <th>delta</th>\n",
       "      <th>thrust</th>\n",
       "    </tr>\n",
       "    <tr>\n",
       "      <th>test type</th>\n",
       "      <th></th>\n",
       "      <th></th>\n",
       "      <th></th>\n",
       "      <th></th>\n",
       "      <th></th>\n",
       "    </tr>\n",
       "  </thead>\n",
       "  <tbody>\n",
       "    <tr>\n",
       "      <th>Circle</th>\n",
       "      <td>0.961770</td>\n",
       "      <td>-0.000000</td>\n",
       "      <td>-0.023974</td>\n",
       "      <td>-0.000000</td>\n",
       "      <td>10.394889</td>\n",
       "    </tr>\n",
       "    <tr>\n",
       "      <th>Circle + Drift</th>\n",
       "      <td>0.961770</td>\n",
       "      <td>0.167010</td>\n",
       "      <td>0.047949</td>\n",
       "      <td>-0.000000</td>\n",
       "      <td>9.709370</td>\n",
       "    </tr>\n",
       "    <tr>\n",
       "      <th>Circle + rudder angle</th>\n",
       "      <td>0.961770</td>\n",
       "      <td>-0.000000</td>\n",
       "      <td>-0.023974</td>\n",
       "      <td>0.069813</td>\n",
       "      <td>9.291126</td>\n",
       "    </tr>\n",
       "    <tr>\n",
       "      <th>Drift angle</th>\n",
       "      <td>0.961184</td>\n",
       "      <td>-0.033565</td>\n",
       "      <td>0.000000</td>\n",
       "      <td>-0.000000</td>\n",
       "      <td>10.664554</td>\n",
       "    </tr>\n",
       "    <tr>\n",
       "      <th>Rudder and drift angle</th>\n",
       "      <td>0.959427</td>\n",
       "      <td>-0.067090</td>\n",
       "      <td>0.000000</td>\n",
       "      <td>0.069813</td>\n",
       "      <td>9.410107</td>\n",
       "    </tr>\n",
       "    <tr>\n",
       "      <th>Rudder angle</th>\n",
       "      <td>0.961770</td>\n",
       "      <td>-0.000000</td>\n",
       "      <td>0.000000</td>\n",
       "      <td>-0.052360</td>\n",
       "      <td>9.229330</td>\n",
       "    </tr>\n",
       "    <tr>\n",
       "      <th>Rudder angle resistance (no propeller)</th>\n",
       "      <td>0.961770</td>\n",
       "      <td>-0.000000</td>\n",
       "      <td>0.000000</td>\n",
       "      <td>-0.087266</td>\n",
       "      <td>0.000000</td>\n",
       "    </tr>\n",
       "    <tr>\n",
       "      <th>Thrust variation</th>\n",
       "      <td>0.961770</td>\n",
       "      <td>-0.000000</td>\n",
       "      <td>0.000000</td>\n",
       "      <td>-0.174533</td>\n",
       "      <td>13.721516</td>\n",
       "    </tr>\n",
       "    <tr>\n",
       "      <th>self propulsion</th>\n",
       "      <td>0.961770</td>\n",
       "      <td>-0.000000</td>\n",
       "      <td>0.000000</td>\n",
       "      <td>-0.000000</td>\n",
       "      <td>9.130484</td>\n",
       "    </tr>\n",
       "  </tbody>\n",
       "</table>\n",
       "</div>"
      ],
      "text/plain": [
       "                                               u         v         r     delta     thrust\n",
       "test type                                                                                \n",
       "Circle                                  0.961770 -0.000000 -0.023974 -0.000000  10.394889\n",
       "Circle + Drift                          0.961770  0.167010  0.047949 -0.000000   9.709370\n",
       "Circle + rudder angle                   0.961770 -0.000000 -0.023974  0.069813   9.291126\n",
       "Drift angle                             0.961184 -0.033565  0.000000 -0.000000  10.664554\n",
       "Rudder and drift angle                  0.959427 -0.067090  0.000000  0.069813   9.410107\n",
       "Rudder angle                            0.961770 -0.000000  0.000000 -0.052360   9.229330\n",
       "Rudder angle resistance (no propeller)  0.961770 -0.000000  0.000000 -0.087266   0.000000\n",
       "Thrust variation                        0.961770 -0.000000  0.000000 -0.174533  13.721516\n",
       "self propulsion                         0.961770 -0.000000  0.000000 -0.000000   9.130484"
      ]
     },
     "execution_count": 27,
     "metadata": {},
     "output_type": "execute_result"
    }
   ],
   "source": [
    "df_VCT.groupby(by='test type').max()[['u','v','r','delta','thrust']]"
   ]
  },
  {
   "cell_type": "code",
   "execution_count": 28,
   "id": "d8a2d32b-c70c-4ccc-a40a-57b6928946c3",
   "metadata": {},
   "outputs": [
    {
     "data": {
      "text/html": [
       "<div>\n",
       "<style scoped>\n",
       "    .dataframe tbody tr th:only-of-type {\n",
       "        vertical-align: middle;\n",
       "    }\n",
       "\n",
       "    .dataframe tbody tr th {\n",
       "        vertical-align: top;\n",
       "    }\n",
       "\n",
       "    .dataframe thead th {\n",
       "        text-align: right;\n",
       "    }\n",
       "</style>\n",
       "<table border=\"1\" class=\"dataframe\">\n",
       "  <thead>\n",
       "    <tr style=\"text-align: right;\">\n",
       "      <th></th>\n",
       "      <th>u</th>\n",
       "      <th>v</th>\n",
       "      <th>r</th>\n",
       "      <th>delta</th>\n",
       "      <th>thrust</th>\n",
       "    </tr>\n",
       "    <tr>\n",
       "      <th>test type</th>\n",
       "      <th></th>\n",
       "      <th></th>\n",
       "      <th></th>\n",
       "      <th></th>\n",
       "      <th></th>\n",
       "    </tr>\n",
       "  </thead>\n",
       "  <tbody>\n",
       "    <tr>\n",
       "      <th>Circle</th>\n",
       "      <td>0.961770</td>\n",
       "      <td>-0.000000</td>\n",
       "      <td>-0.127864</td>\n",
       "      <td>-0.000000</td>\n",
       "      <td>9.249258</td>\n",
       "    </tr>\n",
       "    <tr>\n",
       "      <th>Circle + Drift</th>\n",
       "      <td>0.947079</td>\n",
       "      <td>-0.167010</td>\n",
       "      <td>-0.047949</td>\n",
       "      <td>-0.000000</td>\n",
       "      <td>0.000000</td>\n",
       "    </tr>\n",
       "    <tr>\n",
       "      <th>Circle + rudder angle</th>\n",
       "      <td>0.961770</td>\n",
       "      <td>-0.000000</td>\n",
       "      <td>-0.023974</td>\n",
       "      <td>-0.069813</td>\n",
       "      <td>9.228015</td>\n",
       "    </tr>\n",
       "    <tr>\n",
       "      <th>Drift angle</th>\n",
       "      <td>0.903768</td>\n",
       "      <td>-0.328945</td>\n",
       "      <td>0.000000</td>\n",
       "      <td>-0.000000</td>\n",
       "      <td>9.124859</td>\n",
       "    </tr>\n",
       "    <tr>\n",
       "      <th>Rudder and drift angle</th>\n",
       "      <td>0.959427</td>\n",
       "      <td>-0.067090</td>\n",
       "      <td>0.000000</td>\n",
       "      <td>-0.069813</td>\n",
       "      <td>9.381886</td>\n",
       "    </tr>\n",
       "    <tr>\n",
       "      <th>Rudder angle</th>\n",
       "      <td>0.961770</td>\n",
       "      <td>-0.000000</td>\n",
       "      <td>0.000000</td>\n",
       "      <td>-0.261799</td>\n",
       "      <td>9.095363</td>\n",
       "    </tr>\n",
       "    <tr>\n",
       "      <th>Rudder angle resistance (no propeller)</th>\n",
       "      <td>0.961770</td>\n",
       "      <td>-0.000000</td>\n",
       "      <td>0.000000</td>\n",
       "      <td>-0.261799</td>\n",
       "      <td>0.000000</td>\n",
       "    </tr>\n",
       "    <tr>\n",
       "      <th>Thrust variation</th>\n",
       "      <td>0.480885</td>\n",
       "      <td>-0.000000</td>\n",
       "      <td>0.000000</td>\n",
       "      <td>-0.174533</td>\n",
       "      <td>1.360484</td>\n",
       "    </tr>\n",
       "    <tr>\n",
       "      <th>self propulsion</th>\n",
       "      <td>0.480885</td>\n",
       "      <td>-0.000000</td>\n",
       "      <td>0.000000</td>\n",
       "      <td>-0.000000</td>\n",
       "      <td>2.577043</td>\n",
       "    </tr>\n",
       "  </tbody>\n",
       "</table>\n",
       "</div>"
      ],
      "text/plain": [
       "                                               u         v         r     delta    thrust\n",
       "test type                                                                               \n",
       "Circle                                  0.961770 -0.000000 -0.127864 -0.000000  9.249258\n",
       "Circle + Drift                          0.947079 -0.167010 -0.047949 -0.000000  0.000000\n",
       "Circle + rudder angle                   0.961770 -0.000000 -0.023974 -0.069813  9.228015\n",
       "Drift angle                             0.903768 -0.328945  0.000000 -0.000000  9.124859\n",
       "Rudder and drift angle                  0.959427 -0.067090  0.000000 -0.069813  9.381886\n",
       "Rudder angle                            0.961770 -0.000000  0.000000 -0.261799  9.095363\n",
       "Rudder angle resistance (no propeller)  0.961770 -0.000000  0.000000 -0.261799  0.000000\n",
       "Thrust variation                        0.480885 -0.000000  0.000000 -0.174533  1.360484\n",
       "self propulsion                         0.480885 -0.000000  0.000000 -0.000000  2.577043"
      ]
     },
     "execution_count": 28,
     "metadata": {},
     "output_type": "execute_result"
    }
   ],
   "source": [
    "df_VCT.groupby(by='test type').min()[['u','v','r','delta','thrust']]"
   ]
  },
  {
   "cell_type": "code",
   "execution_count": 30,
   "id": "4a87c736-763e-473c-8445-d5cd36f15b89",
   "metadata": {},
   "outputs": [],
   "source": [
    "eq_N_D = model_abkowitz.expand_subsystemequations(model_abkowitz.N_D_eq)"
   ]
  },
  {
   "cell_type": "code",
   "execution_count": 36,
   "id": "9a1f6990-1e28-4aff-b885-50e29a6362fa",
   "metadata": {},
   "outputs": [
    {
     "data": {
      "text/latex": [
       "$\\displaystyle N_{D} = N_{0}$"
      ],
      "text/plain": [
       "Eq(N_D, N_{0})"
      ]
     },
     "execution_count": 36,
     "metadata": {},
     "output_type": "execute_result"
    }
   ],
   "source": [
    "eq_N_D.subs([\n",
    "    (v,0),\n",
    "    (r,0),\n",
    "    (delta,0),\n",
    "    (thrust_port,0),\n",
    "    (thrust_stbd,0),\n",
    "])"
   ]
  },
  {
   "cell_type": "code",
   "execution_count": 41,
   "id": "67fa75df-9f58-404b-a709-1c264cb9f7ab",
   "metadata": {},
   "outputs": [
    {
     "data": {
      "text/plain": [
       "{'Y0': 0,\n",
       " 'N0': 0,\n",
       " 'Yvdeltadelta': 0,\n",
       " 'Yvvdelta': 0,\n",
       " 'Yrdeltadelta': 0,\n",
       " 'Yrrdelta': 0,\n",
       " 'Yvrdelta': 0,\n",
       " 'Nrrdelta': 0,\n",
       " 'Nvrdelta': 0,\n",
       " 'Nvdeltadelta': 0,\n",
       " 'Nrdeltadelta': 0,\n",
       " 'Nvvdelta': 0,\n",
       " 'Xthrustport': 0.883,\n",
       " 'Xthruststbd': 0.883}"
      ]
     },
     "execution_count": 41,
     "metadata": {},
     "output_type": "execute_result"
    }
   ],
   "source": [
    "exclude_parameters"
   ]
  },
  {
   "cell_type": "code",
   "execution_count": 54,
   "id": "33387aba-9a74-48c9-a885-55cb277f10e4",
   "metadata": {},
   "outputs": [
    {
     "data": {
      "text/html": [
       "<pre style=\"white-space:pre;overflow-x:auto;line-height:normal;font-family:Menlo,'DejaVu Sans Mono',consolas,'Courier New',monospace\"><span style=\"color: #7fbfbf; text-decoration-color: #7fbfbf\">[01/10/24 13:25:22] </span><span style=\"color: #000080; text-decoration-color: #000080\">INFO    </span> Fitting:Rudder fx                                           <a href=\"file:///home/maa/dev/PHD/src/phd/pipelines/regression_VCT/regression_pipeline.py\" target=\"_blank\"><span style=\"color: #7f7f7f; text-decoration-color: #7f7f7f\">regression_pipeline.py</span></a><span style=\"color: #7f7f7f; text-decoration-color: #7f7f7f\">:</span><a href=\"file:///home/maa/dev/PHD/src/phd/pipelines/regression_VCT/regression_pipeline.py#297\" target=\"_blank\"><span style=\"color: #7f7f7f; text-decoration-color: #7f7f7f\">297</span></a>\n",
       "</pre>\n"
      ],
      "text/plain": [
       "\u001b[2;36m[01/10/24 13:25:22]\u001b[0m\u001b[2;36m \u001b[0m\u001b[34mINFO    \u001b[0m Fitting:Rudder fx                                           \u001b]8;id=217956;file:///home/maa/dev/PHD/src/phd/pipelines/regression_VCT/regression_pipeline.py\u001b\\\u001b[2mregression_pipeline.py\u001b[0m\u001b]8;;\u001b\\\u001b[2m:\u001b[0m\u001b]8;id=824547;file:///home/maa/dev/PHD/src/phd/pipelines/regression_VCT/regression_pipeline.py#297\u001b\\\u001b[2m297\u001b[0m\u001b]8;;\u001b\\\n"
      ]
     },
     "metadata": {},
     "output_type": "display_data"
    },
    {
     "data": {
      "text/html": [
       "<pre style=\"white-space:pre;overflow-x:auto;line-height:normal;font-family:Menlo,'DejaVu Sans Mono',consolas,'Courier New',monospace\"><span style=\"color: #7fbfbf; text-decoration-color: #7fbfbf\">                    </span><span style=\"color: #000080; text-decoration-color: #000080\">INFO    </span> Fitting:Rudder fy                                           <a href=\"file:///home/maa/dev/PHD/src/phd/pipelines/regression_VCT/regression_pipeline.py\" target=\"_blank\"><span style=\"color: #7f7f7f; text-decoration-color: #7f7f7f\">regression_pipeline.py</span></a><span style=\"color: #7f7f7f; text-decoration-color: #7f7f7f\">:</span><a href=\"file:///home/maa/dev/PHD/src/phd/pipelines/regression_VCT/regression_pipeline.py#297\" target=\"_blank\"><span style=\"color: #7f7f7f; text-decoration-color: #7f7f7f\">297</span></a>\n",
       "</pre>\n"
      ],
      "text/plain": [
       "\u001b[2;36m                   \u001b[0m\u001b[2;36m \u001b[0m\u001b[34mINFO    \u001b[0m Fitting:Rudder fy                                           \u001b]8;id=126798;file:///home/maa/dev/PHD/src/phd/pipelines/regression_VCT/regression_pipeline.py\u001b\\\u001b[2mregression_pipeline.py\u001b[0m\u001b]8;;\u001b\\\u001b[2m:\u001b[0m\u001b]8;id=963719;file:///home/maa/dev/PHD/src/phd/pipelines/regression_VCT/regression_pipeline.py#297\u001b\\\u001b[2m297\u001b[0m\u001b]8;;\u001b\\\n"
      ]
     },
     "metadata": {},
     "output_type": "display_data"
    },
    {
     "data": {
      "text/html": [
       "<pre style=\"white-space:pre;overflow-x:auto;line-height:normal;font-family:Menlo,'DejaVu Sans Mono',consolas,'Courier New',monospace\"><span style=\"color: #7fbfbf; text-decoration-color: #7fbfbf\">                    </span><span style=\"color: #000080; text-decoration-color: #000080\">INFO    </span> Fitting:Rudder mz                                           <a href=\"file:///home/maa/dev/PHD/src/phd/pipelines/regression_VCT/regression_pipeline.py\" target=\"_blank\"><span style=\"color: #7f7f7f; text-decoration-color: #7f7f7f\">regression_pipeline.py</span></a><span style=\"color: #7f7f7f; text-decoration-color: #7f7f7f\">:</span><a href=\"file:///home/maa/dev/PHD/src/phd/pipelines/regression_VCT/regression_pipeline.py#297\" target=\"_blank\"><span style=\"color: #7f7f7f; text-decoration-color: #7f7f7f\">297</span></a>\n",
       "</pre>\n"
      ],
      "text/plain": [
       "\u001b[2;36m                   \u001b[0m\u001b[2;36m \u001b[0m\u001b[34mINFO    \u001b[0m Fitting:Rudder mz                                           \u001b]8;id=443675;file:///home/maa/dev/PHD/src/phd/pipelines/regression_VCT/regression_pipeline.py\u001b\\\u001b[2mregression_pipeline.py\u001b[0m\u001b]8;;\u001b\\\u001b[2m:\u001b[0m\u001b]8;id=665013;file:///home/maa/dev/PHD/src/phd/pipelines/regression_VCT/regression_pipeline.py#297\u001b\\\u001b[2m297\u001b[0m\u001b]8;;\u001b\\\n"
      ]
     },
     "metadata": {},
     "output_type": "display_data"
    },
    {
     "data": {
      "text/html": [
       "<pre style=\"white-space:pre;overflow-x:auto;line-height:normal;font-family:Menlo,'DejaVu Sans Mono',consolas,'Courier New',monospace\"><span style=\"color: #7fbfbf; text-decoration-color: #7fbfbf\">                    </span><span style=\"color: #000080; text-decoration-color: #000080\">INFO    </span> Fitting:resistance                                          <a href=\"file:///home/maa/dev/PHD/src/phd/pipelines/regression_VCT/regression_pipeline.py\" target=\"_blank\"><span style=\"color: #7f7f7f; text-decoration-color: #7f7f7f\">regression_pipeline.py</span></a><span style=\"color: #7f7f7f; text-decoration-color: #7f7f7f\">:</span><a href=\"file:///home/maa/dev/PHD/src/phd/pipelines/regression_VCT/regression_pipeline.py#297\" target=\"_blank\"><span style=\"color: #7f7f7f; text-decoration-color: #7f7f7f\">297</span></a>\n",
       "</pre>\n"
      ],
      "text/plain": [
       "\u001b[2;36m                   \u001b[0m\u001b[2;36m \u001b[0m\u001b[34mINFO    \u001b[0m Fitting:resistance                                          \u001b]8;id=630286;file:///home/maa/dev/PHD/src/phd/pipelines/regression_VCT/regression_pipeline.py\u001b\\\u001b[2mregression_pipeline.py\u001b[0m\u001b]8;;\u001b\\\u001b[2m:\u001b[0m\u001b]8;id=383949;file:///home/maa/dev/PHD/src/phd/pipelines/regression_VCT/regression_pipeline.py#297\u001b\\\u001b[2m297\u001b[0m\u001b]8;;\u001b\\\n"
      ]
     },
     "metadata": {},
     "output_type": "display_data"
    },
    {
     "data": {
      "text/html": [
       "<pre style=\"white-space:pre;overflow-x:auto;line-height:normal;font-family:Menlo,'DejaVu Sans Mono',consolas,'Courier New',monospace\"><span style=\"color: #7fbfbf; text-decoration-color: #7fbfbf\">                    </span><span style=\"color: #000080; text-decoration-color: #000080\">INFO    </span> Fitting:resistance fy                                       <a href=\"file:///home/maa/dev/PHD/src/phd/pipelines/regression_VCT/regression_pipeline.py\" target=\"_blank\"><span style=\"color: #7f7f7f; text-decoration-color: #7f7f7f\">regression_pipeline.py</span></a><span style=\"color: #7f7f7f; text-decoration-color: #7f7f7f\">:</span><a href=\"file:///home/maa/dev/PHD/src/phd/pipelines/regression_VCT/regression_pipeline.py#297\" target=\"_blank\"><span style=\"color: #7f7f7f; text-decoration-color: #7f7f7f\">297</span></a>\n",
       "</pre>\n"
      ],
      "text/plain": [
       "\u001b[2;36m                   \u001b[0m\u001b[2;36m \u001b[0m\u001b[34mINFO    \u001b[0m Fitting:resistance fy                                       \u001b]8;id=200260;file:///home/maa/dev/PHD/src/phd/pipelines/regression_VCT/regression_pipeline.py\u001b\\\u001b[2mregression_pipeline.py\u001b[0m\u001b]8;;\u001b\\\u001b[2m:\u001b[0m\u001b]8;id=908439;file:///home/maa/dev/PHD/src/phd/pipelines/regression_VCT/regression_pipeline.py#297\u001b\\\u001b[2m297\u001b[0m\u001b]8;;\u001b\\\n"
      ]
     },
     "metadata": {},
     "output_type": "display_data"
    },
    {
     "name": "stdout",
     "output_type": "stream",
     "text": [
      "skipping:resistance fy with equation: Eq(Y_D, Y_{0} + Y_{deltadeltadelta}*delta**3 + Y_{delta}*delta)\n"
     ]
    },
    {
     "data": {
      "text/html": [
       "<pre style=\"white-space:pre;overflow-x:auto;line-height:normal;font-family:Menlo,'DejaVu Sans Mono',consolas,'Courier New',monospace\"><span style=\"color: #7fbfbf; text-decoration-color: #7fbfbf\">                    </span><span style=\"color: #000080; text-decoration-color: #000080\">INFO    </span> Fitting:resistance mz                                       <a href=\"file:///home/maa/dev/PHD/src/phd/pipelines/regression_VCT/regression_pipeline.py\" target=\"_blank\"><span style=\"color: #7f7f7f; text-decoration-color: #7f7f7f\">regression_pipeline.py</span></a><span style=\"color: #7f7f7f; text-decoration-color: #7f7f7f\">:</span><a href=\"file:///home/maa/dev/PHD/src/phd/pipelines/regression_VCT/regression_pipeline.py#297\" target=\"_blank\"><span style=\"color: #7f7f7f; text-decoration-color: #7f7f7f\">297</span></a>\n",
       "</pre>\n"
      ],
      "text/plain": [
       "\u001b[2;36m                   \u001b[0m\u001b[2;36m \u001b[0m\u001b[34mINFO    \u001b[0m Fitting:resistance mz                                       \u001b]8;id=36650;file:///home/maa/dev/PHD/src/phd/pipelines/regression_VCT/regression_pipeline.py\u001b\\\u001b[2mregression_pipeline.py\u001b[0m\u001b]8;;\u001b\\\u001b[2m:\u001b[0m\u001b]8;id=984638;file:///home/maa/dev/PHD/src/phd/pipelines/regression_VCT/regression_pipeline.py#297\u001b\\\u001b[2m297\u001b[0m\u001b]8;;\u001b\\\n"
      ]
     },
     "metadata": {},
     "output_type": "display_data"
    },
    {
     "name": "stdout",
     "output_type": "stream",
     "text": [
      "skipping:resistance mz with equation: Eq(N_D, N_{0} + N_{deltadeltadelta}*delta**3 + N_{delta}*delta - X_{thrustport}*thrust_port*y_p_port - X_{thruststbd}*thrust_stbd*y_p_stbd)\n"
     ]
    },
    {
     "data": {
      "text/html": [
       "<pre style=\"white-space:pre;overflow-x:auto;line-height:normal;font-family:Menlo,'DejaVu Sans Mono',consolas,'Courier New',monospace\"><span style=\"color: #7fbfbf; text-decoration-color: #7fbfbf\">[01/10/24 13:25:23] </span><span style=\"color: #000080; text-decoration-color: #000080\">INFO    </span> Fitting:Drift angle fx                                      <a href=\"file:///home/maa/dev/PHD/src/phd/pipelines/regression_VCT/regression_pipeline.py\" target=\"_blank\"><span style=\"color: #7f7f7f; text-decoration-color: #7f7f7f\">regression_pipeline.py</span></a><span style=\"color: #7f7f7f; text-decoration-color: #7f7f7f\">:</span><a href=\"file:///home/maa/dev/PHD/src/phd/pipelines/regression_VCT/regression_pipeline.py#297\" target=\"_blank\"><span style=\"color: #7f7f7f; text-decoration-color: #7f7f7f\">297</span></a>\n",
       "</pre>\n"
      ],
      "text/plain": [
       "\u001b[2;36m[01/10/24 13:25:23]\u001b[0m\u001b[2;36m \u001b[0m\u001b[34mINFO    \u001b[0m Fitting:Drift angle fx                                      \u001b]8;id=322868;file:///home/maa/dev/PHD/src/phd/pipelines/regression_VCT/regression_pipeline.py\u001b\\\u001b[2mregression_pipeline.py\u001b[0m\u001b]8;;\u001b\\\u001b[2m:\u001b[0m\u001b]8;id=898197;file:///home/maa/dev/PHD/src/phd/pipelines/regression_VCT/regression_pipeline.py#297\u001b\\\u001b[2m297\u001b[0m\u001b]8;;\u001b\\\n"
      ]
     },
     "metadata": {},
     "output_type": "display_data"
    },
    {
     "data": {
      "text/html": [
       "<pre style=\"white-space:pre;overflow-x:auto;line-height:normal;font-family:Menlo,'DejaVu Sans Mono',consolas,'Courier New',monospace\"><span style=\"color: #7fbfbf; text-decoration-color: #7fbfbf\">                    </span><span style=\"color: #000080; text-decoration-color: #000080\">INFO    </span> Fitting:Drift angle fy                                      <a href=\"file:///home/maa/dev/PHD/src/phd/pipelines/regression_VCT/regression_pipeline.py\" target=\"_blank\"><span style=\"color: #7f7f7f; text-decoration-color: #7f7f7f\">regression_pipeline.py</span></a><span style=\"color: #7f7f7f; text-decoration-color: #7f7f7f\">:</span><a href=\"file:///home/maa/dev/PHD/src/phd/pipelines/regression_VCT/regression_pipeline.py#297\" target=\"_blank\"><span style=\"color: #7f7f7f; text-decoration-color: #7f7f7f\">297</span></a>\n",
       "</pre>\n"
      ],
      "text/plain": [
       "\u001b[2;36m                   \u001b[0m\u001b[2;36m \u001b[0m\u001b[34mINFO    \u001b[0m Fitting:Drift angle fy                                      \u001b]8;id=243782;file:///home/maa/dev/PHD/src/phd/pipelines/regression_VCT/regression_pipeline.py\u001b\\\u001b[2mregression_pipeline.py\u001b[0m\u001b]8;;\u001b\\\u001b[2m:\u001b[0m\u001b]8;id=430677;file:///home/maa/dev/PHD/src/phd/pipelines/regression_VCT/regression_pipeline.py#297\u001b\\\u001b[2m297\u001b[0m\u001b]8;;\u001b\\\n"
      ]
     },
     "metadata": {},
     "output_type": "display_data"
    },
    {
     "data": {
      "text/html": [
       "<pre style=\"white-space:pre;overflow-x:auto;line-height:normal;font-family:Menlo,'DejaVu Sans Mono',consolas,'Courier New',monospace\"><span style=\"color: #7fbfbf; text-decoration-color: #7fbfbf\">                    </span><span style=\"color: #000080; text-decoration-color: #000080\">INFO    </span> Fitting:Drift angle mz                                      <a href=\"file:///home/maa/dev/PHD/src/phd/pipelines/regression_VCT/regression_pipeline.py\" target=\"_blank\"><span style=\"color: #7f7f7f; text-decoration-color: #7f7f7f\">regression_pipeline.py</span></a><span style=\"color: #7f7f7f; text-decoration-color: #7f7f7f\">:</span><a href=\"file:///home/maa/dev/PHD/src/phd/pipelines/regression_VCT/regression_pipeline.py#297\" target=\"_blank\"><span style=\"color: #7f7f7f; text-decoration-color: #7f7f7f\">297</span></a>\n",
       "</pre>\n"
      ],
      "text/plain": [
       "\u001b[2;36m                   \u001b[0m\u001b[2;36m \u001b[0m\u001b[34mINFO    \u001b[0m Fitting:Drift angle mz                                      \u001b]8;id=600923;file:///home/maa/dev/PHD/src/phd/pipelines/regression_VCT/regression_pipeline.py\u001b\\\u001b[2mregression_pipeline.py\u001b[0m\u001b]8;;\u001b\\\u001b[2m:\u001b[0m\u001b]8;id=240270;file:///home/maa/dev/PHD/src/phd/pipelines/regression_VCT/regression_pipeline.py#297\u001b\\\u001b[2m297\u001b[0m\u001b]8;;\u001b\\\n"
      ]
     },
     "metadata": {},
     "output_type": "display_data"
    },
    {
     "data": {
      "text/html": [
       "<pre style=\"white-space:pre;overflow-x:auto;line-height:normal;font-family:Menlo,'DejaVu Sans Mono',consolas,'Courier New',monospace\"><span style=\"color: #7fbfbf; text-decoration-color: #7fbfbf\">                    </span><span style=\"color: #000080; text-decoration-color: #000080\">INFO    </span> Fitting:Circle fx                                           <a href=\"file:///home/maa/dev/PHD/src/phd/pipelines/regression_VCT/regression_pipeline.py\" target=\"_blank\"><span style=\"color: #7f7f7f; text-decoration-color: #7f7f7f\">regression_pipeline.py</span></a><span style=\"color: #7f7f7f; text-decoration-color: #7f7f7f\">:</span><a href=\"file:///home/maa/dev/PHD/src/phd/pipelines/regression_VCT/regression_pipeline.py#297\" target=\"_blank\"><span style=\"color: #7f7f7f; text-decoration-color: #7f7f7f\">297</span></a>\n",
       "</pre>\n"
      ],
      "text/plain": [
       "\u001b[2;36m                   \u001b[0m\u001b[2;36m \u001b[0m\u001b[34mINFO    \u001b[0m Fitting:Circle fx                                           \u001b]8;id=8699;file:///home/maa/dev/PHD/src/phd/pipelines/regression_VCT/regression_pipeline.py\u001b\\\u001b[2mregression_pipeline.py\u001b[0m\u001b]8;;\u001b\\\u001b[2m:\u001b[0m\u001b]8;id=839062;file:///home/maa/dev/PHD/src/phd/pipelines/regression_VCT/regression_pipeline.py#297\u001b\\\u001b[2m297\u001b[0m\u001b]8;;\u001b\\\n"
      ]
     },
     "metadata": {},
     "output_type": "display_data"
    },
    {
     "data": {
      "text/html": [
       "<pre style=\"white-space:pre;overflow-x:auto;line-height:normal;font-family:Menlo,'DejaVu Sans Mono',consolas,'Courier New',monospace\"><span style=\"color: #7fbfbf; text-decoration-color: #7fbfbf\">                    </span><span style=\"color: #000080; text-decoration-color: #000080\">INFO    </span> Fitting:Circle fy                                           <a href=\"file:///home/maa/dev/PHD/src/phd/pipelines/regression_VCT/regression_pipeline.py\" target=\"_blank\"><span style=\"color: #7f7f7f; text-decoration-color: #7f7f7f\">regression_pipeline.py</span></a><span style=\"color: #7f7f7f; text-decoration-color: #7f7f7f\">:</span><a href=\"file:///home/maa/dev/PHD/src/phd/pipelines/regression_VCT/regression_pipeline.py#297\" target=\"_blank\"><span style=\"color: #7f7f7f; text-decoration-color: #7f7f7f\">297</span></a>\n",
       "</pre>\n"
      ],
      "text/plain": [
       "\u001b[2;36m                   \u001b[0m\u001b[2;36m \u001b[0m\u001b[34mINFO    \u001b[0m Fitting:Circle fy                                           \u001b]8;id=191832;file:///home/maa/dev/PHD/src/phd/pipelines/regression_VCT/regression_pipeline.py\u001b\\\u001b[2mregression_pipeline.py\u001b[0m\u001b]8;;\u001b\\\u001b[2m:\u001b[0m\u001b]8;id=307538;file:///home/maa/dev/PHD/src/phd/pipelines/regression_VCT/regression_pipeline.py#297\u001b\\\u001b[2m297\u001b[0m\u001b]8;;\u001b\\\n"
      ]
     },
     "metadata": {},
     "output_type": "display_data"
    },
    {
     "data": {
      "text/html": [
       "<pre style=\"white-space:pre;overflow-x:auto;line-height:normal;font-family:Menlo,'DejaVu Sans Mono',consolas,'Courier New',monospace\"><span style=\"color: #7fbfbf; text-decoration-color: #7fbfbf\">                    </span><span style=\"color: #000080; text-decoration-color: #000080\">INFO    </span> Fitting:Circle mz                                           <a href=\"file:///home/maa/dev/PHD/src/phd/pipelines/regression_VCT/regression_pipeline.py\" target=\"_blank\"><span style=\"color: #7f7f7f; text-decoration-color: #7f7f7f\">regression_pipeline.py</span></a><span style=\"color: #7f7f7f; text-decoration-color: #7f7f7f\">:</span><a href=\"file:///home/maa/dev/PHD/src/phd/pipelines/regression_VCT/regression_pipeline.py#297\" target=\"_blank\"><span style=\"color: #7f7f7f; text-decoration-color: #7f7f7f\">297</span></a>\n",
       "</pre>\n"
      ],
      "text/plain": [
       "\u001b[2;36m                   \u001b[0m\u001b[2;36m \u001b[0m\u001b[34mINFO    \u001b[0m Fitting:Circle mz                                           \u001b]8;id=156866;file:///home/maa/dev/PHD/src/phd/pipelines/regression_VCT/regression_pipeline.py\u001b\\\u001b[2mregression_pipeline.py\u001b[0m\u001b]8;;\u001b\\\u001b[2m:\u001b[0m\u001b]8;id=650216;file:///home/maa/dev/PHD/src/phd/pipelines/regression_VCT/regression_pipeline.py#297\u001b\\\u001b[2m297\u001b[0m\u001b]8;;\u001b\\\n"
      ]
     },
     "metadata": {},
     "output_type": "display_data"
    },
    {
     "data": {
      "text/html": [
       "<pre style=\"white-space:pre;overflow-x:auto;line-height:normal;font-family:Menlo,'DejaVu Sans Mono',consolas,'Courier New',monospace\"><span style=\"color: #7fbfbf; text-decoration-color: #7fbfbf\">[01/10/24 13:25:24] </span><span style=\"color: #000080; text-decoration-color: #000080\">INFO    </span> Fitting:Circle + Drift fx                                   <a href=\"file:///home/maa/dev/PHD/src/phd/pipelines/regression_VCT/regression_pipeline.py\" target=\"_blank\"><span style=\"color: #7f7f7f; text-decoration-color: #7f7f7f\">regression_pipeline.py</span></a><span style=\"color: #7f7f7f; text-decoration-color: #7f7f7f\">:</span><a href=\"file:///home/maa/dev/PHD/src/phd/pipelines/regression_VCT/regression_pipeline.py#297\" target=\"_blank\"><span style=\"color: #7f7f7f; text-decoration-color: #7f7f7f\">297</span></a>\n",
       "</pre>\n"
      ],
      "text/plain": [
       "\u001b[2;36m[01/10/24 13:25:24]\u001b[0m\u001b[2;36m \u001b[0m\u001b[34mINFO    \u001b[0m Fitting:Circle + Drift fx                                   \u001b]8;id=874900;file:///home/maa/dev/PHD/src/phd/pipelines/regression_VCT/regression_pipeline.py\u001b\\\u001b[2mregression_pipeline.py\u001b[0m\u001b]8;;\u001b\\\u001b[2m:\u001b[0m\u001b]8;id=774098;file:///home/maa/dev/PHD/src/phd/pipelines/regression_VCT/regression_pipeline.py#297\u001b\\\u001b[2m297\u001b[0m\u001b]8;;\u001b\\\n"
      ]
     },
     "metadata": {},
     "output_type": "display_data"
    },
    {
     "data": {
      "text/html": [
       "<pre style=\"white-space:pre;overflow-x:auto;line-height:normal;font-family:Menlo,'DejaVu Sans Mono',consolas,'Courier New',monospace\"><span style=\"color: #7fbfbf; text-decoration-color: #7fbfbf\">                    </span><span style=\"color: #000080; text-decoration-color: #000080\">INFO    </span> Fitting:Circle + Drift fy                                   <a href=\"file:///home/maa/dev/PHD/src/phd/pipelines/regression_VCT/regression_pipeline.py\" target=\"_blank\"><span style=\"color: #7f7f7f; text-decoration-color: #7f7f7f\">regression_pipeline.py</span></a><span style=\"color: #7f7f7f; text-decoration-color: #7f7f7f\">:</span><a href=\"file:///home/maa/dev/PHD/src/phd/pipelines/regression_VCT/regression_pipeline.py#297\" target=\"_blank\"><span style=\"color: #7f7f7f; text-decoration-color: #7f7f7f\">297</span></a>\n",
       "</pre>\n"
      ],
      "text/plain": [
       "\u001b[2;36m                   \u001b[0m\u001b[2;36m \u001b[0m\u001b[34mINFO    \u001b[0m Fitting:Circle + Drift fy                                   \u001b]8;id=707666;file:///home/maa/dev/PHD/src/phd/pipelines/regression_VCT/regression_pipeline.py\u001b\\\u001b[2mregression_pipeline.py\u001b[0m\u001b]8;;\u001b\\\u001b[2m:\u001b[0m\u001b]8;id=828563;file:///home/maa/dev/PHD/src/phd/pipelines/regression_VCT/regression_pipeline.py#297\u001b\\\u001b[2m297\u001b[0m\u001b]8;;\u001b\\\n"
      ]
     },
     "metadata": {},
     "output_type": "display_data"
    },
    {
     "data": {
      "text/html": [
       "<pre style=\"white-space:pre;overflow-x:auto;line-height:normal;font-family:Menlo,'DejaVu Sans Mono',consolas,'Courier New',monospace\"><span style=\"color: #7fbfbf; text-decoration-color: #7fbfbf\">                    </span><span style=\"color: #000080; text-decoration-color: #000080\">INFO    </span> Fitting:Circle + Drift mz                                   <a href=\"file:///home/maa/dev/PHD/src/phd/pipelines/regression_VCT/regression_pipeline.py\" target=\"_blank\"><span style=\"color: #7f7f7f; text-decoration-color: #7f7f7f\">regression_pipeline.py</span></a><span style=\"color: #7f7f7f; text-decoration-color: #7f7f7f\">:</span><a href=\"file:///home/maa/dev/PHD/src/phd/pipelines/regression_VCT/regression_pipeline.py#297\" target=\"_blank\"><span style=\"color: #7f7f7f; text-decoration-color: #7f7f7f\">297</span></a>\n",
       "</pre>\n"
      ],
      "text/plain": [
       "\u001b[2;36m                   \u001b[0m\u001b[2;36m \u001b[0m\u001b[34mINFO    \u001b[0m Fitting:Circle + Drift mz                                   \u001b]8;id=127797;file:///home/maa/dev/PHD/src/phd/pipelines/regression_VCT/regression_pipeline.py\u001b\\\u001b[2mregression_pipeline.py\u001b[0m\u001b]8;;\u001b\\\u001b[2m:\u001b[0m\u001b]8;id=424105;file:///home/maa/dev/PHD/src/phd/pipelines/regression_VCT/regression_pipeline.py#297\u001b\\\u001b[2m297\u001b[0m\u001b]8;;\u001b\\\n"
      ]
     },
     "metadata": {},
     "output_type": "display_data"
    },
    {
     "data": {
      "text/html": [
       "<pre style=\"white-space:pre;overflow-x:auto;line-height:normal;font-family:Menlo,'DejaVu Sans Mono',consolas,'Courier New',monospace\"><span style=\"color: #7fbfbf; text-decoration-color: #7fbfbf\">                    </span><span style=\"color: #000080; text-decoration-color: #000080\">INFO    </span> Regression:Rudder fx                                                      <a href=\"file:///home/maa/dev/PHD/src/phd/pipelines/regression_VCT/nodes.py\" target=\"_blank\"><span style=\"color: #7f7f7f; text-decoration-color: #7f7f7f\">nodes.py</span></a><span style=\"color: #7f7f7f; text-decoration-color: #7f7f7f\">:</span><a href=\"file:///home/maa/dev/PHD/src/phd/pipelines/regression_VCT/nodes.py#549\" target=\"_blank\"><span style=\"color: #7f7f7f; text-decoration-color: #7f7f7f\">549</span></a>\n",
       "</pre>\n"
      ],
      "text/plain": [
       "\u001b[2;36m                   \u001b[0m\u001b[2;36m \u001b[0m\u001b[34mINFO    \u001b[0m Regression:Rudder fx                                                      \u001b]8;id=831541;file:///home/maa/dev/PHD/src/phd/pipelines/regression_VCT/nodes.py\u001b\\\u001b[2mnodes.py\u001b[0m\u001b]8;;\u001b\\\u001b[2m:\u001b[0m\u001b]8;id=987838;file:///home/maa/dev/PHD/src/phd/pipelines/regression_VCT/nodes.py#549\u001b\\\u001b[2m549\u001b[0m\u001b]8;;\u001b\\\n"
      ]
     },
     "metadata": {},
     "output_type": "display_data"
    },
    {
     "data": {
      "text/html": [
       "<pre style=\"white-space:pre;overflow-x:auto;line-height:normal;font-family:Menlo,'DejaVu Sans Mono',consolas,'Courier New',monospace\"><span style=\"color: #7fbfbf; text-decoration-color: #7fbfbf\">                    </span><span style=\"color: #800000; text-decoration-color: #800000\">WARNING </span> <span style=\"color: #800080; text-decoration-color: #800080\">/home/maa/anaconda3/envs/phd/lib/python3.10/site-packages/statsmodels/</span> <a href=\"file:///home/maa/anaconda3/envs/phd/lib/python3.10/warnings.py\" target=\"_blank\"><span style=\"color: #7f7f7f; text-decoration-color: #7f7f7f\">warnings.py</span></a><span style=\"color: #7f7f7f; text-decoration-color: #7f7f7f\">:</span><a href=\"file:///home/maa/anaconda3/envs/phd/lib/python3.10/warnings.py#109\" target=\"_blank\"><span style=\"color: #7f7f7f; text-decoration-color: #7f7f7f\">109</span></a>\n",
       "<span style=\"color: #7fbfbf; text-decoration-color: #7fbfbf\">                    </span>         <span style=\"color: #800080; text-decoration-color: #800080\">stats/</span><span style=\"color: #ff00ff; text-decoration-color: #ff00ff\">stattools.py</span>:<span style=\"color: #008080; text-decoration-color: #008080; font-weight: bold\">74</span>: ValueWarning: omni_normtest is not valid with   <span style=\"color: #7f7f7f; text-decoration-color: #7f7f7f\">               </span>\n",
       "<span style=\"color: #7fbfbf; text-decoration-color: #7fbfbf\">                    </span>         less than <span style=\"color: #008080; text-decoration-color: #008080; font-weight: bold\">8</span> observations; <span style=\"color: #008080; text-decoration-color: #008080; font-weight: bold\">4</span> samples were given.                        <span style=\"color: #7f7f7f; text-decoration-color: #7f7f7f\">               </span>\n",
       "<span style=\"color: #7fbfbf; text-decoration-color: #7fbfbf\">                    </span>           <span style=\"color: #800080; text-decoration-color: #800080; font-weight: bold\">warn</span><span style=\"font-weight: bold\">(</span><span style=\"color: #008000; text-decoration-color: #008000\">\"omni_normtest is not valid with less than 8 observations; %i \"</span> <span style=\"color: #7f7f7f; text-decoration-color: #7f7f7f\">               </span>\n",
       "<span style=\"color: #7fbfbf; text-decoration-color: #7fbfbf\">                    </span>                                                                                <span style=\"color: #7f7f7f; text-decoration-color: #7f7f7f\">               </span>\n",
       "</pre>\n"
      ],
      "text/plain": [
       "\u001b[2;36m                   \u001b[0m\u001b[2;36m \u001b[0m\u001b[31mWARNING \u001b[0m \u001b[35m/home/maa/anaconda3/envs/phd/lib/python3.10/site-packages/statsmodels/\u001b[0m \u001b]8;id=353182;file:///home/maa/anaconda3/envs/phd/lib/python3.10/warnings.py\u001b\\\u001b[2mwarnings.py\u001b[0m\u001b]8;;\u001b\\\u001b[2m:\u001b[0m\u001b]8;id=644484;file:///home/maa/anaconda3/envs/phd/lib/python3.10/warnings.py#109\u001b\\\u001b[2m109\u001b[0m\u001b]8;;\u001b\\\n",
       "\u001b[2;36m                    \u001b[0m         \u001b[35mstats/\u001b[0m\u001b[95mstattools.py\u001b[0m:\u001b[1;36m74\u001b[0m: ValueWarning: omni_normtest is not valid with   \u001b[2m               \u001b[0m\n",
       "\u001b[2;36m                    \u001b[0m         less than \u001b[1;36m8\u001b[0m observations; \u001b[1;36m4\u001b[0m samples were given.                        \u001b[2m               \u001b[0m\n",
       "\u001b[2;36m                    \u001b[0m           \u001b[1;35mwarn\u001b[0m\u001b[1m(\u001b[0m\u001b[32m\"omni_normtest is not valid with less than 8 observations; %i \"\u001b[0m \u001b[2m               \u001b[0m\n",
       "\u001b[2;36m                    \u001b[0m                                                                                \u001b[2m               \u001b[0m\n"
      ]
     },
     "metadata": {},
     "output_type": "display_data"
    },
    {
     "data": {
      "text/html": [
       "<pre style=\"white-space:pre;overflow-x:auto;line-height:normal;font-family:Menlo,'DejaVu Sans Mono',consolas,'Courier New',monospace\"><span style=\"color: #7fbfbf; text-decoration-color: #7fbfbf\">                    </span><span style=\"color: #000080; text-decoration-color: #000080\">INFO    </span>                   Results: Ordinary least squares                         <a href=\"file:///home/maa/dev/PHD/src/phd/pipelines/regression_VCT/nodes.py\" target=\"_blank\"><span style=\"color: #7f7f7f; text-decoration-color: #7f7f7f\">nodes.py</span></a><span style=\"color: #7f7f7f; text-decoration-color: #7f7f7f\">:</span><a href=\"file:///home/maa/dev/PHD/src/phd/pipelines/regression_VCT/nodes.py#551\" target=\"_blank\"><span style=\"color: #7f7f7f; text-decoration-color: #7f7f7f\">551</span></a>\n",
       "<span style=\"color: #7fbfbf; text-decoration-color: #7fbfbf\">                    </span>         ===================================================================       <span style=\"color: #7f7f7f; text-decoration-color: #7f7f7f\">            </span>\n",
       "<span style=\"color: #7fbfbf; text-decoration-color: #7fbfbf\">                    </span>         Model:              OLS              Adj. R-squared:     <span style=\"color: #008080; text-decoration-color: #008080; font-weight: bold\">0.999</span>            <span style=\"color: #7f7f7f; text-decoration-color: #7f7f7f\">            </span>\n",
       "<span style=\"color: #7fbfbf; text-decoration-color: #7fbfbf\">                    </span>         Dependent Variable: X_R              AIC:                <span style=\"color: #008080; text-decoration-color: #008080; font-weight: bold\">-91.3640</span>         <span style=\"color: #7f7f7f; text-decoration-color: #7f7f7f\">            </span>\n",
       "<span style=\"color: #7fbfbf; text-decoration-color: #7fbfbf\">                    </span>         Date:               <span style=\"color: #008080; text-decoration-color: #008080; font-weight: bold\">2024</span>-<span style=\"color: #008080; text-decoration-color: #008080; font-weight: bold\">01</span>-<span style=\"color: #008080; text-decoration-color: #008080; font-weight: bold\">10</span> <span style=\"color: #00ff00; text-decoration-color: #00ff00; font-weight: bold\">13:25</span> BIC:                <span style=\"color: #008080; text-decoration-color: #008080; font-weight: bold\">-92.5914</span>         <span style=\"color: #7f7f7f; text-decoration-color: #7f7f7f\">            </span>\n",
       "<span style=\"color: #7fbfbf; text-decoration-color: #7fbfbf\">                    </span>         No. Observations:   <span style=\"color: #008080; text-decoration-color: #008080; font-weight: bold\">4</span>                Log-Likelihood:     <span style=\"color: #008080; text-decoration-color: #008080; font-weight: bold\">47.682</span>           <span style=\"color: #7f7f7f; text-decoration-color: #7f7f7f\">            </span>\n",
       "<span style=\"color: #7fbfbf; text-decoration-color: #7fbfbf\">                    </span>         Df Model:           <span style=\"color: #008080; text-decoration-color: #008080; font-weight: bold\">1</span>                F-statistic:        <span style=\"color: #008080; text-decoration-color: #008080; font-weight: bold\">4558</span>.            <span style=\"color: #7f7f7f; text-decoration-color: #7f7f7f\">            </span>\n",
       "<span style=\"color: #7fbfbf; text-decoration-color: #7fbfbf\">                    </span>         Df Residuals:       <span style=\"color: #008080; text-decoration-color: #008080; font-weight: bold\">2</span>                Prob <span style=\"font-weight: bold\">(</span>F-statistic<span style=\"font-weight: bold\">)</span>: <span style=\"color: #008080; text-decoration-color: #008080; font-weight: bold\">0.000219</span>         <span style=\"color: #7f7f7f; text-decoration-color: #7f7f7f\">            </span>\n",
       "<span style=\"color: #7fbfbf; text-decoration-color: #7fbfbf\">                    </span>         R-squared:          <span style=\"color: #008080; text-decoration-color: #008080; font-weight: bold\">1.000</span>            Scale:              <span style=\"color: #008080; text-decoration-color: #008080; font-weight: bold\">5.1825e-12</span>       <span style=\"color: #7f7f7f; text-decoration-color: #7f7f7f\">            </span>\n",
       "<span style=\"color: #7fbfbf; text-decoration-color: #7fbfbf\">                    </span>         --------------------------------------------------------------------      <span style=\"color: #7f7f7f; text-decoration-color: #7f7f7f\">            </span>\n",
       "<span style=\"color: #7fbfbf; text-decoration-color: #7fbfbf\">                    </span>                         Coef.   Std.Err.     t      P&gt;|t|    <span style=\"font-weight: bold\">[</span><span style=\"color: #008080; text-decoration-color: #008080; font-weight: bold\">0.025</span>   <span style=\"color: #008080; text-decoration-color: #008080; font-weight: bold\">0.975</span><span style=\"font-weight: bold\">]</span>      <span style=\"color: #7f7f7f; text-decoration-color: #7f7f7f\">            </span>\n",
       "<span style=\"color: #7fbfbf; text-decoration-color: #7fbfbf\">                    </span>         --------------------------------------------------------------------      <span style=\"color: #7f7f7f; text-decoration-color: #7f7f7f\">            </span>\n",
       "<span style=\"color: #7fbfbf; text-decoration-color: #7fbfbf\">                    </span>         Xdeltadelta    <span style=\"color: #008080; text-decoration-color: #008080; font-weight: bold\">-0.0030</span>    <span style=\"color: #008080; text-decoration-color: #008080; font-weight: bold\">0.0000</span>  <span style=\"color: #008080; text-decoration-color: #008080; font-weight: bold\">-67.5164</span>  <span style=\"color: #008080; text-decoration-color: #008080; font-weight: bold\">0.0002</span>  <span style=\"color: #008080; text-decoration-color: #008080; font-weight: bold\">-0.0032</span>  <span style=\"color: #008080; text-decoration-color: #008080; font-weight: bold\">-0.0028</span>      <span style=\"color: #7f7f7f; text-decoration-color: #7f7f7f\">            </span>\n",
       "<span style=\"color: #7fbfbf; text-decoration-color: #7fbfbf\">                    </span>         const          <span style=\"color: #008080; text-decoration-color: #008080; font-weight: bold\">-0.0001</span>    <span style=\"color: #008080; text-decoration-color: #008080; font-weight: bold\">0.0000</span>  <span style=\"color: #008080; text-decoration-color: #008080; font-weight: bold\">-58.8748</span>  <span style=\"color: #008080; text-decoration-color: #008080; font-weight: bold\">0.0003</span>  <span style=\"color: #008080; text-decoration-color: #008080; font-weight: bold\">-0.0001</span>  <span style=\"color: #008080; text-decoration-color: #008080; font-weight: bold\">-0.0001</span>      <span style=\"color: #7f7f7f; text-decoration-color: #7f7f7f\">            </span>\n",
       "<span style=\"color: #7fbfbf; text-decoration-color: #7fbfbf\">                    </span>         -------------------------------------------------------------------       <span style=\"color: #7f7f7f; text-decoration-color: #7f7f7f\">            </span>\n",
       "<span style=\"color: #7fbfbf; text-decoration-color: #7fbfbf\">                    </span>         Omnibus:               nan           Durbin-Watson:           <span style=\"color: #008080; text-decoration-color: #008080; font-weight: bold\">2.088</span>       <span style=\"color: #7f7f7f; text-decoration-color: #7f7f7f\">            </span>\n",
       "<span style=\"color: #7fbfbf; text-decoration-color: #7fbfbf\">                    </span>         <span style=\"color: #800080; text-decoration-color: #800080; font-weight: bold\">Prob</span><span style=\"font-weight: bold\">(</span>Omnibus<span style=\"font-weight: bold\">)</span>:         nan           Jarque-Bera <span style=\"font-weight: bold\">(</span>JB<span style=\"font-weight: bold\">)</span>:        <span style=\"color: #008080; text-decoration-color: #008080; font-weight: bold\">0.504</span>       <span style=\"color: #7f7f7f; text-decoration-color: #7f7f7f\">            </span>\n",
       "<span style=\"color: #7fbfbf; text-decoration-color: #7fbfbf\">                    </span>         Skew:                  <span style=\"color: #008080; text-decoration-color: #008080; font-weight: bold\">-0.263</span>        <span style=\"color: #800080; text-decoration-color: #800080; font-weight: bold\">Prob</span><span style=\"font-weight: bold\">(</span>JB<span style=\"font-weight: bold\">)</span>:                <span style=\"color: #008080; text-decoration-color: #008080; font-weight: bold\">0.777</span>       <span style=\"color: #7f7f7f; text-decoration-color: #7f7f7f\">            </span>\n",
       "<span style=\"color: #7fbfbf; text-decoration-color: #7fbfbf\">                    </span>         Kurtosis:              <span style=\"color: #008080; text-decoration-color: #008080; font-weight: bold\">1.343</span>         Condition No.:           <span style=\"color: #008080; text-decoration-color: #008080; font-weight: bold\">39</span>          <span style=\"color: #7f7f7f; text-decoration-color: #7f7f7f\">            </span>\n",
       "<span style=\"color: #7fbfbf; text-decoration-color: #7fbfbf\">                    </span>         ===================================================================       <span style=\"color: #7f7f7f; text-decoration-color: #7f7f7f\">            </span>\n",
       "<span style=\"color: #7fbfbf; text-decoration-color: #7fbfbf\">                    </span>                                                                                   <span style=\"color: #7f7f7f; text-decoration-color: #7f7f7f\">            </span>\n",
       "</pre>\n"
      ],
      "text/plain": [
       "\u001b[2;36m                   \u001b[0m\u001b[2;36m \u001b[0m\u001b[34mINFO    \u001b[0m                   Results: Ordinary least squares                         \u001b]8;id=15388;file:///home/maa/dev/PHD/src/phd/pipelines/regression_VCT/nodes.py\u001b\\\u001b[2mnodes.py\u001b[0m\u001b]8;;\u001b\\\u001b[2m:\u001b[0m\u001b]8;id=799582;file:///home/maa/dev/PHD/src/phd/pipelines/regression_VCT/nodes.py#551\u001b\\\u001b[2m551\u001b[0m\u001b]8;;\u001b\\\n",
       "\u001b[2;36m                    \u001b[0m         ===================================================================       \u001b[2m            \u001b[0m\n",
       "\u001b[2;36m                    \u001b[0m         Model:              OLS              Adj. R-squared:     \u001b[1;36m0.999\u001b[0m            \u001b[2m            \u001b[0m\n",
       "\u001b[2;36m                    \u001b[0m         Dependent Variable: X_R              AIC:                \u001b[1;36m-91.3640\u001b[0m         \u001b[2m            \u001b[0m\n",
       "\u001b[2;36m                    \u001b[0m         Date:               \u001b[1;36m2024\u001b[0m-\u001b[1;36m01\u001b[0m-\u001b[1;36m10\u001b[0m \u001b[1;92m13:25\u001b[0m BIC:                \u001b[1;36m-92.5914\u001b[0m         \u001b[2m            \u001b[0m\n",
       "\u001b[2;36m                    \u001b[0m         No. Observations:   \u001b[1;36m4\u001b[0m                Log-Likelihood:     \u001b[1;36m47.682\u001b[0m           \u001b[2m            \u001b[0m\n",
       "\u001b[2;36m                    \u001b[0m         Df Model:           \u001b[1;36m1\u001b[0m                F-statistic:        \u001b[1;36m4558\u001b[0m.            \u001b[2m            \u001b[0m\n",
       "\u001b[2;36m                    \u001b[0m         Df Residuals:       \u001b[1;36m2\u001b[0m                Prob \u001b[1m(\u001b[0mF-statistic\u001b[1m)\u001b[0m: \u001b[1;36m0.000219\u001b[0m         \u001b[2m            \u001b[0m\n",
       "\u001b[2;36m                    \u001b[0m         R-squared:          \u001b[1;36m1.000\u001b[0m            Scale:              \u001b[1;36m5.1825e-12\u001b[0m       \u001b[2m            \u001b[0m\n",
       "\u001b[2;36m                    \u001b[0m         --------------------------------------------------------------------      \u001b[2m            \u001b[0m\n",
       "\u001b[2;36m                    \u001b[0m                         Coef.   Std.Err.     t      P>|t|    \u001b[1m[\u001b[0m\u001b[1;36m0.025\u001b[0m   \u001b[1;36m0.975\u001b[0m\u001b[1m]\u001b[0m      \u001b[2m            \u001b[0m\n",
       "\u001b[2;36m                    \u001b[0m         --------------------------------------------------------------------      \u001b[2m            \u001b[0m\n",
       "\u001b[2;36m                    \u001b[0m         Xdeltadelta    \u001b[1;36m-0.0030\u001b[0m    \u001b[1;36m0.0000\u001b[0m  \u001b[1;36m-67.5164\u001b[0m  \u001b[1;36m0.0002\u001b[0m  \u001b[1;36m-0.0032\u001b[0m  \u001b[1;36m-0.0028\u001b[0m      \u001b[2m            \u001b[0m\n",
       "\u001b[2;36m                    \u001b[0m         const          \u001b[1;36m-0.0001\u001b[0m    \u001b[1;36m0.0000\u001b[0m  \u001b[1;36m-58.8748\u001b[0m  \u001b[1;36m0.0003\u001b[0m  \u001b[1;36m-0.0001\u001b[0m  \u001b[1;36m-0.0001\u001b[0m      \u001b[2m            \u001b[0m\n",
       "\u001b[2;36m                    \u001b[0m         -------------------------------------------------------------------       \u001b[2m            \u001b[0m\n",
       "\u001b[2;36m                    \u001b[0m         Omnibus:               nan           Durbin-Watson:           \u001b[1;36m2.088\u001b[0m       \u001b[2m            \u001b[0m\n",
       "\u001b[2;36m                    \u001b[0m         \u001b[1;35mProb\u001b[0m\u001b[1m(\u001b[0mOmnibus\u001b[1m)\u001b[0m:         nan           Jarque-Bera \u001b[1m(\u001b[0mJB\u001b[1m)\u001b[0m:        \u001b[1;36m0.504\u001b[0m       \u001b[2m            \u001b[0m\n",
       "\u001b[2;36m                    \u001b[0m         Skew:                  \u001b[1;36m-0.263\u001b[0m        \u001b[1;35mProb\u001b[0m\u001b[1m(\u001b[0mJB\u001b[1m)\u001b[0m:                \u001b[1;36m0.777\u001b[0m       \u001b[2m            \u001b[0m\n",
       "\u001b[2;36m                    \u001b[0m         Kurtosis:              \u001b[1;36m1.343\u001b[0m         Condition No.:           \u001b[1;36m39\u001b[0m          \u001b[2m            \u001b[0m\n",
       "\u001b[2;36m                    \u001b[0m         ===================================================================       \u001b[2m            \u001b[0m\n",
       "\u001b[2;36m                    \u001b[0m                                                                                   \u001b[2m            \u001b[0m\n"
      ]
     },
     "metadata": {},
     "output_type": "display_data"
    },
    {
     "data": {
      "text/html": [
       "<pre style=\"white-space:pre;overflow-x:auto;line-height:normal;font-family:Menlo,'DejaVu Sans Mono',consolas,'Courier New',monospace\"><span style=\"color: #7fbfbf; text-decoration-color: #7fbfbf\">                    </span><span style=\"color: #000080; text-decoration-color: #000080\">INFO    </span> Regression:Rudder fy                                                      <a href=\"file:///home/maa/dev/PHD/src/phd/pipelines/regression_VCT/nodes.py\" target=\"_blank\"><span style=\"color: #7f7f7f; text-decoration-color: #7f7f7f\">nodes.py</span></a><span style=\"color: #7f7f7f; text-decoration-color: #7f7f7f\">:</span><a href=\"file:///home/maa/dev/PHD/src/phd/pipelines/regression_VCT/nodes.py#549\" target=\"_blank\"><span style=\"color: #7f7f7f; text-decoration-color: #7f7f7f\">549</span></a>\n",
       "</pre>\n"
      ],
      "text/plain": [
       "\u001b[2;36m                   \u001b[0m\u001b[2;36m \u001b[0m\u001b[34mINFO    \u001b[0m Regression:Rudder fy                                                      \u001b]8;id=766167;file:///home/maa/dev/PHD/src/phd/pipelines/regression_VCT/nodes.py\u001b\\\u001b[2mnodes.py\u001b[0m\u001b]8;;\u001b\\\u001b[2m:\u001b[0m\u001b]8;id=608726;file:///home/maa/dev/PHD/src/phd/pipelines/regression_VCT/nodes.py#549\u001b\\\u001b[2m549\u001b[0m\u001b]8;;\u001b\\\n"
      ]
     },
     "metadata": {},
     "output_type": "display_data"
    },
    {
     "data": {
      "text/html": [
       "<pre style=\"white-space:pre;overflow-x:auto;line-height:normal;font-family:Menlo,'DejaVu Sans Mono',consolas,'Courier New',monospace\"><span style=\"color: #7fbfbf; text-decoration-color: #7fbfbf\">                    </span><span style=\"color: #800000; text-decoration-color: #800000\">WARNING </span> <span style=\"color: #800080; text-decoration-color: #800080\">/home/maa/anaconda3/envs/phd/lib/python3.10/site-packages/statsmodels/</span> <a href=\"file:///home/maa/anaconda3/envs/phd/lib/python3.10/warnings.py\" target=\"_blank\"><span style=\"color: #7f7f7f; text-decoration-color: #7f7f7f\">warnings.py</span></a><span style=\"color: #7f7f7f; text-decoration-color: #7f7f7f\">:</span><a href=\"file:///home/maa/anaconda3/envs/phd/lib/python3.10/warnings.py#109\" target=\"_blank\"><span style=\"color: #7f7f7f; text-decoration-color: #7f7f7f\">109</span></a>\n",
       "<span style=\"color: #7fbfbf; text-decoration-color: #7fbfbf\">                    </span>         <span style=\"color: #800080; text-decoration-color: #800080\">stats/</span><span style=\"color: #ff00ff; text-decoration-color: #ff00ff\">stattools.py</span>:<span style=\"color: #008080; text-decoration-color: #008080; font-weight: bold\">74</span>: ValueWarning: omni_normtest is not valid with   <span style=\"color: #7f7f7f; text-decoration-color: #7f7f7f\">               </span>\n",
       "<span style=\"color: #7fbfbf; text-decoration-color: #7fbfbf\">                    </span>         less than <span style=\"color: #008080; text-decoration-color: #008080; font-weight: bold\">8</span> observations; <span style=\"color: #008080; text-decoration-color: #008080; font-weight: bold\">4</span> samples were given.                        <span style=\"color: #7f7f7f; text-decoration-color: #7f7f7f\">               </span>\n",
       "<span style=\"color: #7fbfbf; text-decoration-color: #7fbfbf\">                    </span>           <span style=\"color: #800080; text-decoration-color: #800080; font-weight: bold\">warn</span><span style=\"font-weight: bold\">(</span><span style=\"color: #008000; text-decoration-color: #008000\">\"omni_normtest is not valid with less than 8 observations; %i \"</span> <span style=\"color: #7f7f7f; text-decoration-color: #7f7f7f\">               </span>\n",
       "<span style=\"color: #7fbfbf; text-decoration-color: #7fbfbf\">                    </span>                                                                                <span style=\"color: #7f7f7f; text-decoration-color: #7f7f7f\">               </span>\n",
       "</pre>\n"
      ],
      "text/plain": [
       "\u001b[2;36m                   \u001b[0m\u001b[2;36m \u001b[0m\u001b[31mWARNING \u001b[0m \u001b[35m/home/maa/anaconda3/envs/phd/lib/python3.10/site-packages/statsmodels/\u001b[0m \u001b]8;id=364453;file:///home/maa/anaconda3/envs/phd/lib/python3.10/warnings.py\u001b\\\u001b[2mwarnings.py\u001b[0m\u001b]8;;\u001b\\\u001b[2m:\u001b[0m\u001b]8;id=421992;file:///home/maa/anaconda3/envs/phd/lib/python3.10/warnings.py#109\u001b\\\u001b[2m109\u001b[0m\u001b]8;;\u001b\\\n",
       "\u001b[2;36m                    \u001b[0m         \u001b[35mstats/\u001b[0m\u001b[95mstattools.py\u001b[0m:\u001b[1;36m74\u001b[0m: ValueWarning: omni_normtest is not valid with   \u001b[2m               \u001b[0m\n",
       "\u001b[2;36m                    \u001b[0m         less than \u001b[1;36m8\u001b[0m observations; \u001b[1;36m4\u001b[0m samples were given.                        \u001b[2m               \u001b[0m\n",
       "\u001b[2;36m                    \u001b[0m           \u001b[1;35mwarn\u001b[0m\u001b[1m(\u001b[0m\u001b[32m\"omni_normtest is not valid with less than 8 observations; %i \"\u001b[0m \u001b[2m               \u001b[0m\n",
       "\u001b[2;36m                    \u001b[0m                                                                                \u001b[2m               \u001b[0m\n"
      ]
     },
     "metadata": {},
     "output_type": "display_data"
    },
    {
     "data": {
      "text/html": [
       "<pre style=\"white-space:pre;overflow-x:auto;line-height:normal;font-family:Menlo,'DejaVu Sans Mono',consolas,'Courier New',monospace\"><span style=\"color: #7fbfbf; text-decoration-color: #7fbfbf\">                    </span><span style=\"color: #000080; text-decoration-color: #000080\">INFO    </span>                         Results: Ordinary least squares                   <a href=\"file:///home/maa/dev/PHD/src/phd/pipelines/regression_VCT/nodes.py\" target=\"_blank\"><span style=\"color: #7f7f7f; text-decoration-color: #7f7f7f\">nodes.py</span></a><span style=\"color: #7f7f7f; text-decoration-color: #7f7f7f\">:</span><a href=\"file:///home/maa/dev/PHD/src/phd/pipelines/regression_VCT/nodes.py#551\" target=\"_blank\"><span style=\"color: #7f7f7f; text-decoration-color: #7f7f7f\">551</span></a>\n",
       "<span style=\"color: #7fbfbf; text-decoration-color: #7fbfbf\">                    </span>         ========================================================================= <span style=\"color: #7f7f7f; text-decoration-color: #7f7f7f\">            </span>\n",
       "<span style=\"color: #7fbfbf; text-decoration-color: #7fbfbf\">                    </span>         =======                                                                   <span style=\"color: #7f7f7f; text-decoration-color: #7f7f7f\">            </span>\n",
       "<span style=\"color: #7fbfbf; text-decoration-color: #7fbfbf\">                    </span>         Model:                  OLS              Adj. R-squared <span style=\"font-weight: bold\">(</span>uncentered<span style=\"font-weight: bold\">)</span>:     <span style=\"color: #7f7f7f; text-decoration-color: #7f7f7f\">            </span>\n",
       "<span style=\"color: #7fbfbf; text-decoration-color: #7fbfbf\">                    </span>         <span style=\"color: #008080; text-decoration-color: #008080; font-weight: bold\">1.000</span>                                                                     <span style=\"color: #7f7f7f; text-decoration-color: #7f7f7f\">            </span>\n",
       "<span style=\"color: #7fbfbf; text-decoration-color: #7fbfbf\">                    </span>         Dependent Variable:     Y_D              AIC:                             <span style=\"color: #7f7f7f; text-decoration-color: #7f7f7f\">            </span>\n",
       "<span style=\"color: #7fbfbf; text-decoration-color: #7fbfbf\">                    </span>         <span style=\"color: #008080; text-decoration-color: #008080; font-weight: bold\">-96.2122</span>                                                                  <span style=\"color: #7f7f7f; text-decoration-color: #7f7f7f\">            </span>\n",
       "<span style=\"color: #7fbfbf; text-decoration-color: #7fbfbf\">                    </span>         Date:                   <span style=\"color: #008080; text-decoration-color: #008080; font-weight: bold\">2024</span>-<span style=\"color: #008080; text-decoration-color: #008080; font-weight: bold\">01</span>-<span style=\"color: #008080; text-decoration-color: #008080; font-weight: bold\">10</span> <span style=\"color: #00ff00; text-decoration-color: #00ff00; font-weight: bold\">13:25</span> BIC:                             <span style=\"color: #7f7f7f; text-decoration-color: #7f7f7f\">            </span>\n",
       "<span style=\"color: #7fbfbf; text-decoration-color: #7fbfbf\">                    </span>         <span style=\"color: #008080; text-decoration-color: #008080; font-weight: bold\">-97.4396</span>                                                                  <span style=\"color: #7f7f7f; text-decoration-color: #7f7f7f\">            </span>\n",
       "<span style=\"color: #7fbfbf; text-decoration-color: #7fbfbf\">                    </span>         No. Observations:       <span style=\"color: #008080; text-decoration-color: #008080; font-weight: bold\">4</span>                Log-Likelihood:                  <span style=\"color: #7f7f7f; text-decoration-color: #7f7f7f\">            </span>\n",
       "<span style=\"color: #7fbfbf; text-decoration-color: #7fbfbf\">                    </span>         <span style=\"color: #008080; text-decoration-color: #008080; font-weight: bold\">50.106</span>                                                                    <span style=\"color: #7f7f7f; text-decoration-color: #7f7f7f\">            </span>\n",
       "<span style=\"color: #7fbfbf; text-decoration-color: #7fbfbf\">                    </span>         Df Model:               <span style=\"color: #008080; text-decoration-color: #008080; font-weight: bold\">2</span>                F-statistic:                     <span style=\"color: #7f7f7f; text-decoration-color: #7f7f7f\">            </span>\n",
       "<span style=\"color: #7fbfbf; text-decoration-color: #7fbfbf\">                    </span>         <span style=\"color: #008080; text-decoration-color: #008080; font-weight: bold\">8.933e+05</span>                                                                 <span style=\"color: #7f7f7f; text-decoration-color: #7f7f7f\">            </span>\n",
       "<span style=\"color: #7fbfbf; text-decoration-color: #7fbfbf\">                    </span>         Df Residuals:           <span style=\"color: #008080; text-decoration-color: #008080; font-weight: bold\">2</span>                Prob <span style=\"font-weight: bold\">(</span>F-statistic<span style=\"font-weight: bold\">)</span>:              <span style=\"color: #7f7f7f; text-decoration-color: #7f7f7f\">            </span>\n",
       "<span style=\"color: #7fbfbf; text-decoration-color: #7fbfbf\">                    </span>         <span style=\"color: #008080; text-decoration-color: #008080; font-weight: bold\">1.12e-06</span>                                                                  <span style=\"color: #7f7f7f; text-decoration-color: #7f7f7f\">            </span>\n",
       "<span style=\"color: #7fbfbf; text-decoration-color: #7fbfbf\">                    </span>         R-squared <span style=\"font-weight: bold\">(</span>uncentered<span style=\"font-weight: bold\">)</span>: <span style=\"color: #008080; text-decoration-color: #008080; font-weight: bold\">1.000</span>            Scale:                           <span style=\"color: #7f7f7f; text-decoration-color: #7f7f7f\">            </span>\n",
       "<span style=\"color: #7fbfbf; text-decoration-color: #7fbfbf\">                    </span>         <span style=\"color: #008080; text-decoration-color: #008080; font-weight: bold\">1.5422e-12</span>                                                                <span style=\"color: #7f7f7f; text-decoration-color: #7f7f7f\">            </span>\n",
       "<span style=\"color: #7fbfbf; text-decoration-color: #7fbfbf\">                    </span>         ------------------------------------------------------------------------- <span style=\"color: #7f7f7f; text-decoration-color: #7f7f7f\">            </span>\n",
       "<span style=\"color: #7fbfbf; text-decoration-color: #7fbfbf\">                    </span>         ----------                                                                <span style=\"color: #7f7f7f; text-decoration-color: #7f7f7f\">            </span>\n",
       "<span style=\"color: #7fbfbf; text-decoration-color: #7fbfbf\">                    </span>                                Coef.     Std.Err.       t        P&gt;|t|     <span style=\"font-weight: bold\">[</span><span style=\"color: #008080; text-decoration-color: #008080; font-weight: bold\">0.025</span> <span style=\"color: #7f7f7f; text-decoration-color: #7f7f7f\">            </span>\n",
       "<span style=\"color: #7fbfbf; text-decoration-color: #7fbfbf\">                    </span>         <span style=\"color: #008080; text-decoration-color: #008080; font-weight: bold\">0.975</span><span style=\"font-weight: bold\">]</span>                                                                    <span style=\"color: #7f7f7f; text-decoration-color: #7f7f7f\">            </span>\n",
       "<span style=\"color: #7fbfbf; text-decoration-color: #7fbfbf\">                    </span>         ------------------------------------------------------------------------- <span style=\"color: #7f7f7f; text-decoration-color: #7f7f7f\">            </span>\n",
       "<span style=\"color: #7fbfbf; text-decoration-color: #7fbfbf\">                    </span>         ----------                                                                <span style=\"color: #7f7f7f; text-decoration-color: #7f7f7f\">            </span>\n",
       "<span style=\"color: #7fbfbf; text-decoration-color: #7fbfbf\">                    </span>         Ydeltadeltadelta       <span style=\"color: #008080; text-decoration-color: #008080; font-weight: bold\">0.0067</span>      <span style=\"color: #008080; text-decoration-color: #008080; font-weight: bold\">0.0002</span>     <span style=\"color: #008080; text-decoration-color: #008080; font-weight: bold\">41.2613</span>    <span style=\"color: #008080; text-decoration-color: #008080; font-weight: bold\">0.0006</span>    <span style=\"color: #008080; text-decoration-color: #008080; font-weight: bold\">0.0060</span> <span style=\"color: #7f7f7f; text-decoration-color: #7f7f7f\">            </span>\n",
       "<span style=\"color: #7fbfbf; text-decoration-color: #7fbfbf\">                    </span>         <span style=\"color: #008080; text-decoration-color: #008080; font-weight: bold\">0.0074</span>                                                                    <span style=\"color: #7f7f7f; text-decoration-color: #7f7f7f\">            </span>\n",
       "<span style=\"color: #7fbfbf; text-decoration-color: #7fbfbf\">                    </span>         Ydelta                 <span style=\"color: #008080; text-decoration-color: #008080; font-weight: bold\">0.0046</span>      <span style=\"color: #008080; text-decoration-color: #008080; font-weight: bold\">0.0000</span>    <span style=\"color: #008080; text-decoration-color: #008080; font-weight: bold\">504.4185</span>    <span style=\"color: #008080; text-decoration-color: #008080; font-weight: bold\">0.0000</span>    <span style=\"color: #008080; text-decoration-color: #008080; font-weight: bold\">0.0046</span> <span style=\"color: #7f7f7f; text-decoration-color: #7f7f7f\">            </span>\n",
       "<span style=\"color: #7fbfbf; text-decoration-color: #7fbfbf\">                    </span>         <span style=\"color: #008080; text-decoration-color: #008080; font-weight: bold\">0.0046</span>                                                                    <span style=\"color: #7f7f7f; text-decoration-color: #7f7f7f\">            </span>\n",
       "<span style=\"color: #7fbfbf; text-decoration-color: #7fbfbf\">                    </span>         ------------------------------------------------------------------------- <span style=\"color: #7f7f7f; text-decoration-color: #7f7f7f\">            </span>\n",
       "<span style=\"color: #7fbfbf; text-decoration-color: #7fbfbf\">                    </span>         -------                                                                   <span style=\"color: #7f7f7f; text-decoration-color: #7f7f7f\">            </span>\n",
       "<span style=\"color: #7fbfbf; text-decoration-color: #7fbfbf\">                    </span>         Omnibus:                    nan               Durbin-Watson:              <span style=\"color: #7f7f7f; text-decoration-color: #7f7f7f\">            </span>\n",
       "<span style=\"color: #7fbfbf; text-decoration-color: #7fbfbf\">                    </span>         <span style=\"color: #008080; text-decoration-color: #008080; font-weight: bold\">0.857</span>                                                                     <span style=\"color: #7f7f7f; text-decoration-color: #7f7f7f\">            </span>\n",
       "<span style=\"color: #7fbfbf; text-decoration-color: #7fbfbf\">                    </span>         <span style=\"color: #800080; text-decoration-color: #800080; font-weight: bold\">Prob</span><span style=\"font-weight: bold\">(</span>Omnibus<span style=\"font-weight: bold\">)</span>:              nan               Jarque-Bera <span style=\"font-weight: bold\">(</span>JB<span style=\"font-weight: bold\">)</span>:           <span style=\"color: #7f7f7f; text-decoration-color: #7f7f7f\">            </span>\n",
       "<span style=\"color: #7fbfbf; text-decoration-color: #7fbfbf\">                    </span>         <span style=\"color: #008080; text-decoration-color: #008080; font-weight: bold\">0.706</span>                                                                     <span style=\"color: #7f7f7f; text-decoration-color: #7f7f7f\">            </span>\n",
       "<span style=\"color: #7fbfbf; text-decoration-color: #7fbfbf\">                    </span>         Skew:                       <span style=\"color: #008080; text-decoration-color: #008080; font-weight: bold\">-0.931</span>            <span style=\"color: #800080; text-decoration-color: #800080; font-weight: bold\">Prob</span><span style=\"font-weight: bold\">(</span>JB<span style=\"font-weight: bold\">)</span>:                   <span style=\"color: #7f7f7f; text-decoration-color: #7f7f7f\">            </span>\n",
       "<span style=\"color: #7fbfbf; text-decoration-color: #7fbfbf\">                    </span>         <span style=\"color: #008080; text-decoration-color: #008080; font-weight: bold\">0.702</span>                                                                     <span style=\"color: #7f7f7f; text-decoration-color: #7f7f7f\">            </span>\n",
       "<span style=\"color: #7fbfbf; text-decoration-color: #7fbfbf\">                    </span>         Kurtosis:                   <span style=\"color: #008080; text-decoration-color: #008080; font-weight: bold\">2.122</span>             Condition No.:              <span style=\"color: #7f7f7f; text-decoration-color: #7f7f7f\">            </span>\n",
       "<span style=\"color: #7fbfbf; text-decoration-color: #7fbfbf\">                    </span>         <span style=\"color: #008080; text-decoration-color: #008080; font-weight: bold\">44</span>                                                                        <span style=\"color: #7f7f7f; text-decoration-color: #7f7f7f\">            </span>\n",
       "<span style=\"color: #7fbfbf; text-decoration-color: #7fbfbf\">                    </span>         ========================================================================= <span style=\"color: #7f7f7f; text-decoration-color: #7f7f7f\">            </span>\n",
       "<span style=\"color: #7fbfbf; text-decoration-color: #7fbfbf\">                    </span>         =======                                                                   <span style=\"color: #7f7f7f; text-decoration-color: #7f7f7f\">            </span>\n",
       "<span style=\"color: #7fbfbf; text-decoration-color: #7fbfbf\">                    </span>                                                                                   <span style=\"color: #7f7f7f; text-decoration-color: #7f7f7f\">            </span>\n",
       "</pre>\n"
      ],
      "text/plain": [
       "\u001b[2;36m                   \u001b[0m\u001b[2;36m \u001b[0m\u001b[34mINFO    \u001b[0m                         Results: Ordinary least squares                   \u001b]8;id=215023;file:///home/maa/dev/PHD/src/phd/pipelines/regression_VCT/nodes.py\u001b\\\u001b[2mnodes.py\u001b[0m\u001b]8;;\u001b\\\u001b[2m:\u001b[0m\u001b]8;id=93047;file:///home/maa/dev/PHD/src/phd/pipelines/regression_VCT/nodes.py#551\u001b\\\u001b[2m551\u001b[0m\u001b]8;;\u001b\\\n",
       "\u001b[2;36m                    \u001b[0m         ========================================================================= \u001b[2m            \u001b[0m\n",
       "\u001b[2;36m                    \u001b[0m         =======                                                                   \u001b[2m            \u001b[0m\n",
       "\u001b[2;36m                    \u001b[0m         Model:                  OLS              Adj. R-squared \u001b[1m(\u001b[0muncentered\u001b[1m)\u001b[0m:     \u001b[2m            \u001b[0m\n",
       "\u001b[2;36m                    \u001b[0m         \u001b[1;36m1.000\u001b[0m                                                                     \u001b[2m            \u001b[0m\n",
       "\u001b[2;36m                    \u001b[0m         Dependent Variable:     Y_D              AIC:                             \u001b[2m            \u001b[0m\n",
       "\u001b[2;36m                    \u001b[0m         \u001b[1;36m-96.2122\u001b[0m                                                                  \u001b[2m            \u001b[0m\n",
       "\u001b[2;36m                    \u001b[0m         Date:                   \u001b[1;36m2024\u001b[0m-\u001b[1;36m01\u001b[0m-\u001b[1;36m10\u001b[0m \u001b[1;92m13:25\u001b[0m BIC:                             \u001b[2m            \u001b[0m\n",
       "\u001b[2;36m                    \u001b[0m         \u001b[1;36m-97.4396\u001b[0m                                                                  \u001b[2m            \u001b[0m\n",
       "\u001b[2;36m                    \u001b[0m         No. Observations:       \u001b[1;36m4\u001b[0m                Log-Likelihood:                  \u001b[2m            \u001b[0m\n",
       "\u001b[2;36m                    \u001b[0m         \u001b[1;36m50.106\u001b[0m                                                                    \u001b[2m            \u001b[0m\n",
       "\u001b[2;36m                    \u001b[0m         Df Model:               \u001b[1;36m2\u001b[0m                F-statistic:                     \u001b[2m            \u001b[0m\n",
       "\u001b[2;36m                    \u001b[0m         \u001b[1;36m8.933e+05\u001b[0m                                                                 \u001b[2m            \u001b[0m\n",
       "\u001b[2;36m                    \u001b[0m         Df Residuals:           \u001b[1;36m2\u001b[0m                Prob \u001b[1m(\u001b[0mF-statistic\u001b[1m)\u001b[0m:              \u001b[2m            \u001b[0m\n",
       "\u001b[2;36m                    \u001b[0m         \u001b[1;36m1.12e-06\u001b[0m                                                                  \u001b[2m            \u001b[0m\n",
       "\u001b[2;36m                    \u001b[0m         R-squared \u001b[1m(\u001b[0muncentered\u001b[1m)\u001b[0m: \u001b[1;36m1.000\u001b[0m            Scale:                           \u001b[2m            \u001b[0m\n",
       "\u001b[2;36m                    \u001b[0m         \u001b[1;36m1.5422e-12\u001b[0m                                                                \u001b[2m            \u001b[0m\n",
       "\u001b[2;36m                    \u001b[0m         ------------------------------------------------------------------------- \u001b[2m            \u001b[0m\n",
       "\u001b[2;36m                    \u001b[0m         ----------                                                                \u001b[2m            \u001b[0m\n",
       "\u001b[2;36m                    \u001b[0m                                Coef.     Std.Err.       t        P>|t|     \u001b[1m[\u001b[0m\u001b[1;36m0.025\u001b[0m \u001b[2m            \u001b[0m\n",
       "\u001b[2;36m                    \u001b[0m         \u001b[1;36m0.975\u001b[0m\u001b[1m]\u001b[0m                                                                    \u001b[2m            \u001b[0m\n",
       "\u001b[2;36m                    \u001b[0m         ------------------------------------------------------------------------- \u001b[2m            \u001b[0m\n",
       "\u001b[2;36m                    \u001b[0m         ----------                                                                \u001b[2m            \u001b[0m\n",
       "\u001b[2;36m                    \u001b[0m         Ydeltadeltadelta       \u001b[1;36m0.0067\u001b[0m      \u001b[1;36m0.0002\u001b[0m     \u001b[1;36m41.2613\u001b[0m    \u001b[1;36m0.0006\u001b[0m    \u001b[1;36m0.0060\u001b[0m \u001b[2m            \u001b[0m\n",
       "\u001b[2;36m                    \u001b[0m         \u001b[1;36m0.0074\u001b[0m                                                                    \u001b[2m            \u001b[0m\n",
       "\u001b[2;36m                    \u001b[0m         Ydelta                 \u001b[1;36m0.0046\u001b[0m      \u001b[1;36m0.0000\u001b[0m    \u001b[1;36m504.4185\u001b[0m    \u001b[1;36m0.0000\u001b[0m    \u001b[1;36m0.0046\u001b[0m \u001b[2m            \u001b[0m\n",
       "\u001b[2;36m                    \u001b[0m         \u001b[1;36m0.0046\u001b[0m                                                                    \u001b[2m            \u001b[0m\n",
       "\u001b[2;36m                    \u001b[0m         ------------------------------------------------------------------------- \u001b[2m            \u001b[0m\n",
       "\u001b[2;36m                    \u001b[0m         -------                                                                   \u001b[2m            \u001b[0m\n",
       "\u001b[2;36m                    \u001b[0m         Omnibus:                    nan               Durbin-Watson:              \u001b[2m            \u001b[0m\n",
       "\u001b[2;36m                    \u001b[0m         \u001b[1;36m0.857\u001b[0m                                                                     \u001b[2m            \u001b[0m\n",
       "\u001b[2;36m                    \u001b[0m         \u001b[1;35mProb\u001b[0m\u001b[1m(\u001b[0mOmnibus\u001b[1m)\u001b[0m:              nan               Jarque-Bera \u001b[1m(\u001b[0mJB\u001b[1m)\u001b[0m:           \u001b[2m            \u001b[0m\n",
       "\u001b[2;36m                    \u001b[0m         \u001b[1;36m0.706\u001b[0m                                                                     \u001b[2m            \u001b[0m\n",
       "\u001b[2;36m                    \u001b[0m         Skew:                       \u001b[1;36m-0.931\u001b[0m            \u001b[1;35mProb\u001b[0m\u001b[1m(\u001b[0mJB\u001b[1m)\u001b[0m:                   \u001b[2m            \u001b[0m\n",
       "\u001b[2;36m                    \u001b[0m         \u001b[1;36m0.702\u001b[0m                                                                     \u001b[2m            \u001b[0m\n",
       "\u001b[2;36m                    \u001b[0m         Kurtosis:                   \u001b[1;36m2.122\u001b[0m             Condition No.:              \u001b[2m            \u001b[0m\n",
       "\u001b[2;36m                    \u001b[0m         \u001b[1;36m44\u001b[0m                                                                        \u001b[2m            \u001b[0m\n",
       "\u001b[2;36m                    \u001b[0m         ========================================================================= \u001b[2m            \u001b[0m\n",
       "\u001b[2;36m                    \u001b[0m         =======                                                                   \u001b[2m            \u001b[0m\n",
       "\u001b[2;36m                    \u001b[0m                                                                                   \u001b[2m            \u001b[0m\n"
      ]
     },
     "metadata": {},
     "output_type": "display_data"
    },
    {
     "data": {
      "text/html": [
       "<pre style=\"white-space:pre;overflow-x:auto;line-height:normal;font-family:Menlo,'DejaVu Sans Mono',consolas,'Courier New',monospace\"><span style=\"color: #7fbfbf; text-decoration-color: #7fbfbf\">                    </span><span style=\"color: #000080; text-decoration-color: #000080\">INFO    </span> Regression:Rudder mz                                                      <a href=\"file:///home/maa/dev/PHD/src/phd/pipelines/regression_VCT/nodes.py\" target=\"_blank\"><span style=\"color: #7f7f7f; text-decoration-color: #7f7f7f\">nodes.py</span></a><span style=\"color: #7f7f7f; text-decoration-color: #7f7f7f\">:</span><a href=\"file:///home/maa/dev/PHD/src/phd/pipelines/regression_VCT/nodes.py#549\" target=\"_blank\"><span style=\"color: #7f7f7f; text-decoration-color: #7f7f7f\">549</span></a>\n",
       "</pre>\n"
      ],
      "text/plain": [
       "\u001b[2;36m                   \u001b[0m\u001b[2;36m \u001b[0m\u001b[34mINFO    \u001b[0m Regression:Rudder mz                                                      \u001b]8;id=253226;file:///home/maa/dev/PHD/src/phd/pipelines/regression_VCT/nodes.py\u001b\\\u001b[2mnodes.py\u001b[0m\u001b]8;;\u001b\\\u001b[2m:\u001b[0m\u001b]8;id=212979;file:///home/maa/dev/PHD/src/phd/pipelines/regression_VCT/nodes.py#549\u001b\\\u001b[2m549\u001b[0m\u001b]8;;\u001b\\\n"
      ]
     },
     "metadata": {},
     "output_type": "display_data"
    },
    {
     "data": {
      "text/html": [
       "<pre style=\"white-space:pre;overflow-x:auto;line-height:normal;font-family:Menlo,'DejaVu Sans Mono',consolas,'Courier New',monospace\"><span style=\"color: #7fbfbf; text-decoration-color: #7fbfbf\">                    </span><span style=\"color: #800000; text-decoration-color: #800000\">WARNING </span> <span style=\"color: #800080; text-decoration-color: #800080\">/home/maa/anaconda3/envs/phd/lib/python3.10/site-packages/statsmodels/</span> <a href=\"file:///home/maa/anaconda3/envs/phd/lib/python3.10/warnings.py\" target=\"_blank\"><span style=\"color: #7f7f7f; text-decoration-color: #7f7f7f\">warnings.py</span></a><span style=\"color: #7f7f7f; text-decoration-color: #7f7f7f\">:</span><a href=\"file:///home/maa/anaconda3/envs/phd/lib/python3.10/warnings.py#109\" target=\"_blank\"><span style=\"color: #7f7f7f; text-decoration-color: #7f7f7f\">109</span></a>\n",
       "<span style=\"color: #7fbfbf; text-decoration-color: #7fbfbf\">                    </span>         <span style=\"color: #800080; text-decoration-color: #800080\">stats/</span><span style=\"color: #ff00ff; text-decoration-color: #ff00ff\">stattools.py</span>:<span style=\"color: #008080; text-decoration-color: #008080; font-weight: bold\">74</span>: ValueWarning: omni_normtest is not valid with   <span style=\"color: #7f7f7f; text-decoration-color: #7f7f7f\">               </span>\n",
       "<span style=\"color: #7fbfbf; text-decoration-color: #7fbfbf\">                    </span>         less than <span style=\"color: #008080; text-decoration-color: #008080; font-weight: bold\">8</span> observations; <span style=\"color: #008080; text-decoration-color: #008080; font-weight: bold\">4</span> samples were given.                        <span style=\"color: #7f7f7f; text-decoration-color: #7f7f7f\">               </span>\n",
       "<span style=\"color: #7fbfbf; text-decoration-color: #7fbfbf\">                    </span>           <span style=\"color: #800080; text-decoration-color: #800080; font-weight: bold\">warn</span><span style=\"font-weight: bold\">(</span><span style=\"color: #008000; text-decoration-color: #008000\">\"omni_normtest is not valid with less than 8 observations; %i \"</span> <span style=\"color: #7f7f7f; text-decoration-color: #7f7f7f\">               </span>\n",
       "<span style=\"color: #7fbfbf; text-decoration-color: #7fbfbf\">                    </span>                                                                                <span style=\"color: #7f7f7f; text-decoration-color: #7f7f7f\">               </span>\n",
       "</pre>\n"
      ],
      "text/plain": [
       "\u001b[2;36m                   \u001b[0m\u001b[2;36m \u001b[0m\u001b[31mWARNING \u001b[0m \u001b[35m/home/maa/anaconda3/envs/phd/lib/python3.10/site-packages/statsmodels/\u001b[0m \u001b]8;id=957707;file:///home/maa/anaconda3/envs/phd/lib/python3.10/warnings.py\u001b\\\u001b[2mwarnings.py\u001b[0m\u001b]8;;\u001b\\\u001b[2m:\u001b[0m\u001b]8;id=321851;file:///home/maa/anaconda3/envs/phd/lib/python3.10/warnings.py#109\u001b\\\u001b[2m109\u001b[0m\u001b]8;;\u001b\\\n",
       "\u001b[2;36m                    \u001b[0m         \u001b[35mstats/\u001b[0m\u001b[95mstattools.py\u001b[0m:\u001b[1;36m74\u001b[0m: ValueWarning: omni_normtest is not valid with   \u001b[2m               \u001b[0m\n",
       "\u001b[2;36m                    \u001b[0m         less than \u001b[1;36m8\u001b[0m observations; \u001b[1;36m4\u001b[0m samples were given.                        \u001b[2m               \u001b[0m\n",
       "\u001b[2;36m                    \u001b[0m           \u001b[1;35mwarn\u001b[0m\u001b[1m(\u001b[0m\u001b[32m\"omni_normtest is not valid with less than 8 observations; %i \"\u001b[0m \u001b[2m               \u001b[0m\n",
       "\u001b[2;36m                    \u001b[0m                                                                                \u001b[2m               \u001b[0m\n"
      ]
     },
     "metadata": {},
     "output_type": "display_data"
    },
    {
     "data": {
      "text/html": [
       "<pre style=\"white-space:pre;overflow-x:auto;line-height:normal;font-family:Menlo,'DejaVu Sans Mono',consolas,'Courier New',monospace\"><span style=\"color: #7fbfbf; text-decoration-color: #7fbfbf\">                    </span><span style=\"color: #000080; text-decoration-color: #000080\">INFO    </span>                         Results: Ordinary least squares                   <a href=\"file:///home/maa/dev/PHD/src/phd/pipelines/regression_VCT/nodes.py\" target=\"_blank\"><span style=\"color: #7f7f7f; text-decoration-color: #7f7f7f\">nodes.py</span></a><span style=\"color: #7f7f7f; text-decoration-color: #7f7f7f\">:</span><a href=\"file:///home/maa/dev/PHD/src/phd/pipelines/regression_VCT/nodes.py#551\" target=\"_blank\"><span style=\"color: #7f7f7f; text-decoration-color: #7f7f7f\">551</span></a>\n",
       "<span style=\"color: #7fbfbf; text-decoration-color: #7fbfbf\">                    </span>         ========================================================================= <span style=\"color: #7f7f7f; text-decoration-color: #7f7f7f\">            </span>\n",
       "<span style=\"color: #7fbfbf; text-decoration-color: #7fbfbf\">                    </span>         =======                                                                   <span style=\"color: #7f7f7f; text-decoration-color: #7f7f7f\">            </span>\n",
       "<span style=\"color: #7fbfbf; text-decoration-color: #7fbfbf\">                    </span>         Model:                  OLS              Adj. R-squared <span style=\"font-weight: bold\">(</span>uncentered<span style=\"font-weight: bold\">)</span>:     <span style=\"color: #7f7f7f; text-decoration-color: #7f7f7f\">            </span>\n",
       "<span style=\"color: #7fbfbf; text-decoration-color: #7fbfbf\">                    </span>         <span style=\"color: #008080; text-decoration-color: #008080; font-weight: bold\">1.000</span>                                                                     <span style=\"color: #7f7f7f; text-decoration-color: #7f7f7f\">            </span>\n",
       "<span style=\"color: #7fbfbf; text-decoration-color: #7fbfbf\">                    </span>         Dependent Variable:     N_D              AIC:                             <span style=\"color: #7f7f7f; text-decoration-color: #7f7f7f\">            </span>\n",
       "<span style=\"color: #7fbfbf; text-decoration-color: #7fbfbf\">                    </span>         <span style=\"color: #008080; text-decoration-color: #008080; font-weight: bold\">-101.2356</span>                                                                 <span style=\"color: #7f7f7f; text-decoration-color: #7f7f7f\">            </span>\n",
       "<span style=\"color: #7fbfbf; text-decoration-color: #7fbfbf\">                    </span>         Date:                   <span style=\"color: #008080; text-decoration-color: #008080; font-weight: bold\">2024</span>-<span style=\"color: #008080; text-decoration-color: #008080; font-weight: bold\">01</span>-<span style=\"color: #008080; text-decoration-color: #008080; font-weight: bold\">10</span> <span style=\"color: #00ff00; text-decoration-color: #00ff00; font-weight: bold\">13:25</span> BIC:                             <span style=\"color: #7f7f7f; text-decoration-color: #7f7f7f\">            </span>\n",
       "<span style=\"color: #7fbfbf; text-decoration-color: #7fbfbf\">                    </span>         <span style=\"color: #008080; text-decoration-color: #008080; font-weight: bold\">-102.4631</span>                                                                 <span style=\"color: #7f7f7f; text-decoration-color: #7f7f7f\">            </span>\n",
       "<span style=\"color: #7fbfbf; text-decoration-color: #7fbfbf\">                    </span>         No. Observations:       <span style=\"color: #008080; text-decoration-color: #008080; font-weight: bold\">4</span>                Log-Likelihood:                  <span style=\"color: #7f7f7f; text-decoration-color: #7f7f7f\">            </span>\n",
       "<span style=\"color: #7fbfbf; text-decoration-color: #7fbfbf\">                    </span>         <span style=\"color: #008080; text-decoration-color: #008080; font-weight: bold\">52.618</span>                                                                    <span style=\"color: #7f7f7f; text-decoration-color: #7f7f7f\">            </span>\n",
       "<span style=\"color: #7fbfbf; text-decoration-color: #7fbfbf\">                    </span>         Df Model:               <span style=\"color: #008080; text-decoration-color: #008080; font-weight: bold\">2</span>                F-statistic:                     <span style=\"color: #7f7f7f; text-decoration-color: #7f7f7f\">            </span>\n",
       "<span style=\"color: #7fbfbf; text-decoration-color: #7fbfbf\">                    </span>         <span style=\"color: #008080; text-decoration-color: #008080; font-weight: bold\">7.291e+05</span>                                                                 <span style=\"color: #7f7f7f; text-decoration-color: #7f7f7f\">            </span>\n",
       "<span style=\"color: #7fbfbf; text-decoration-color: #7fbfbf\">                    </span>         Df Residuals:           <span style=\"color: #008080; text-decoration-color: #008080; font-weight: bold\">2</span>                Prob <span style=\"font-weight: bold\">(</span>F-statistic<span style=\"font-weight: bold\">)</span>:              <span style=\"color: #7f7f7f; text-decoration-color: #7f7f7f\">            </span>\n",
       "<span style=\"color: #7fbfbf; text-decoration-color: #7fbfbf\">                    </span>         <span style=\"color: #008080; text-decoration-color: #008080; font-weight: bold\">1.37e-06</span>                                                                  <span style=\"color: #7f7f7f; text-decoration-color: #7f7f7f\">            </span>\n",
       "<span style=\"color: #7fbfbf; text-decoration-color: #7fbfbf\">                    </span>         R-squared <span style=\"font-weight: bold\">(</span>uncentered<span style=\"font-weight: bold\">)</span>: <span style=\"color: #008080; text-decoration-color: #008080; font-weight: bold\">1.000</span>            Scale:                           <span style=\"color: #7f7f7f; text-decoration-color: #7f7f7f\">            </span>\n",
       "<span style=\"color: #7fbfbf; text-decoration-color: #7fbfbf\">                    </span>         <span style=\"color: #008080; text-decoration-color: #008080; font-weight: bold\">4.3928e-13</span>                                                                <span style=\"color: #7f7f7f; text-decoration-color: #7f7f7f\">            </span>\n",
       "<span style=\"color: #7fbfbf; text-decoration-color: #7fbfbf\">                    </span>         ------------------------------------------------------------------------- <span style=\"color: #7f7f7f; text-decoration-color: #7f7f7f\">            </span>\n",
       "<span style=\"color: #7fbfbf; text-decoration-color: #7fbfbf\">                    </span>         ---------                                                                 <span style=\"color: #7f7f7f; text-decoration-color: #7f7f7f\">            </span>\n",
       "<span style=\"color: #7fbfbf; text-decoration-color: #7fbfbf\">                    </span>                                 Coef.    Std.Err.       t       P&gt;|t|     <span style=\"font-weight: bold\">[</span><span style=\"color: #008080; text-decoration-color: #008080; font-weight: bold\">0.025</span>  <span style=\"color: #7f7f7f; text-decoration-color: #7f7f7f\">            </span>\n",
       "<span style=\"color: #7fbfbf; text-decoration-color: #7fbfbf\">                    </span>         <span style=\"color: #008080; text-decoration-color: #008080; font-weight: bold\">0.975</span><span style=\"font-weight: bold\">]</span>                                                                    <span style=\"color: #7f7f7f; text-decoration-color: #7f7f7f\">            </span>\n",
       "<span style=\"color: #7fbfbf; text-decoration-color: #7fbfbf\">                    </span>         ------------------------------------------------------------------------- <span style=\"color: #7f7f7f; text-decoration-color: #7f7f7f\">            </span>\n",
       "<span style=\"color: #7fbfbf; text-decoration-color: #7fbfbf\">                    </span>         ---------                                                                 <span style=\"color: #7f7f7f; text-decoration-color: #7f7f7f\">            </span>\n",
       "<span style=\"color: #7fbfbf; text-decoration-color: #7fbfbf\">                    </span>         Ndeltadeltadelta       <span style=\"color: #008080; text-decoration-color: #008080; font-weight: bold\">-0.0034</span>     <span style=\"color: #008080; text-decoration-color: #008080; font-weight: bold\">0.0001</span>    <span style=\"color: #008080; text-decoration-color: #008080; font-weight: bold\">-38.8219</span>   <span style=\"color: #008080; text-decoration-color: #008080; font-weight: bold\">0.0007</span>   <span style=\"color: #008080; text-decoration-color: #008080; font-weight: bold\">-0.0038</span>  <span style=\"color: #7f7f7f; text-decoration-color: #7f7f7f\">            </span>\n",
       "<span style=\"color: #7fbfbf; text-decoration-color: #7fbfbf\">                    </span>         <span style=\"color: #008080; text-decoration-color: #008080; font-weight: bold\">-0.0030</span>                                                                   <span style=\"color: #7f7f7f; text-decoration-color: #7f7f7f\">            </span>\n",
       "<span style=\"color: #7fbfbf; text-decoration-color: #7fbfbf\">                    </span>         Ndelta                 <span style=\"color: #008080; text-decoration-color: #008080; font-weight: bold\">-0.0022</span>     <span style=\"color: #008080; text-decoration-color: #008080; font-weight: bold\">0.0000</span>   <span style=\"color: #008080; text-decoration-color: #008080; font-weight: bold\">-454.2816</span>   <span style=\"color: #008080; text-decoration-color: #008080; font-weight: bold\">0.0000</span>   <span style=\"color: #008080; text-decoration-color: #008080; font-weight: bold\">-0.0022</span>  <span style=\"color: #7f7f7f; text-decoration-color: #7f7f7f\">            </span>\n",
       "<span style=\"color: #7fbfbf; text-decoration-color: #7fbfbf\">                    </span>         <span style=\"color: #008080; text-decoration-color: #008080; font-weight: bold\">-0.0022</span>                                                                   <span style=\"color: #7f7f7f; text-decoration-color: #7f7f7f\">            </span>\n",
       "<span style=\"color: #7fbfbf; text-decoration-color: #7fbfbf\">                    </span>         ------------------------------------------------------------------------- <span style=\"color: #7f7f7f; text-decoration-color: #7f7f7f\">            </span>\n",
       "<span style=\"color: #7fbfbf; text-decoration-color: #7fbfbf\">                    </span>         -------                                                                   <span style=\"color: #7f7f7f; text-decoration-color: #7f7f7f\">            </span>\n",
       "<span style=\"color: #7fbfbf; text-decoration-color: #7fbfbf\">                    </span>         Omnibus:                   nan               Durbin-Watson:               <span style=\"color: #7f7f7f; text-decoration-color: #7f7f7f\">            </span>\n",
       "<span style=\"color: #7fbfbf; text-decoration-color: #7fbfbf\">                    </span>         <span style=\"color: #008080; text-decoration-color: #008080; font-weight: bold\">0.854</span>                                                                     <span style=\"color: #7f7f7f; text-decoration-color: #7f7f7f\">            </span>\n",
       "<span style=\"color: #7fbfbf; text-decoration-color: #7fbfbf\">                    </span>         <span style=\"color: #800080; text-decoration-color: #800080; font-weight: bold\">Prob</span><span style=\"font-weight: bold\">(</span>Omnibus<span style=\"font-weight: bold\">)</span>:             nan               Jarque-Bera <span style=\"font-weight: bold\">(</span>JB<span style=\"font-weight: bold\">)</span>:            <span style=\"color: #7f7f7f; text-decoration-color: #7f7f7f\">            </span>\n",
       "<span style=\"color: #7fbfbf; text-decoration-color: #7fbfbf\">                    </span>         <span style=\"color: #008080; text-decoration-color: #008080; font-weight: bold\">0.705</span>                                                                     <span style=\"color: #7f7f7f; text-decoration-color: #7f7f7f\">            </span>\n",
       "<span style=\"color: #7fbfbf; text-decoration-color: #7fbfbf\">                    </span>         Skew:                      <span style=\"color: #008080; text-decoration-color: #008080; font-weight: bold\">0.931</span>             <span style=\"color: #800080; text-decoration-color: #800080; font-weight: bold\">Prob</span><span style=\"font-weight: bold\">(</span>JB<span style=\"font-weight: bold\">)</span>:                    <span style=\"color: #7f7f7f; text-decoration-color: #7f7f7f\">            </span>\n",
       "<span style=\"color: #7fbfbf; text-decoration-color: #7fbfbf\">                    </span>         <span style=\"color: #008080; text-decoration-color: #008080; font-weight: bold\">0.703</span>                                                                     <span style=\"color: #7f7f7f; text-decoration-color: #7f7f7f\">            </span>\n",
       "<span style=\"color: #7fbfbf; text-decoration-color: #7fbfbf\">                    </span>         Kurtosis:                  <span style=\"color: #008080; text-decoration-color: #008080; font-weight: bold\">2.124</span>             Condition No.:               <span style=\"color: #7f7f7f; text-decoration-color: #7f7f7f\">            </span>\n",
       "<span style=\"color: #7fbfbf; text-decoration-color: #7fbfbf\">                    </span>         <span style=\"color: #008080; text-decoration-color: #008080; font-weight: bold\">44</span>                                                                        <span style=\"color: #7f7f7f; text-decoration-color: #7f7f7f\">            </span>\n",
       "<span style=\"color: #7fbfbf; text-decoration-color: #7fbfbf\">                    </span>         ========================================================================= <span style=\"color: #7f7f7f; text-decoration-color: #7f7f7f\">            </span>\n",
       "<span style=\"color: #7fbfbf; text-decoration-color: #7fbfbf\">                    </span>         =======                                                                   <span style=\"color: #7f7f7f; text-decoration-color: #7f7f7f\">            </span>\n",
       "<span style=\"color: #7fbfbf; text-decoration-color: #7fbfbf\">                    </span>                                                                                   <span style=\"color: #7f7f7f; text-decoration-color: #7f7f7f\">            </span>\n",
       "</pre>\n"
      ],
      "text/plain": [
       "\u001b[2;36m                   \u001b[0m\u001b[2;36m \u001b[0m\u001b[34mINFO    \u001b[0m                         Results: Ordinary least squares                   \u001b]8;id=546441;file:///home/maa/dev/PHD/src/phd/pipelines/regression_VCT/nodes.py\u001b\\\u001b[2mnodes.py\u001b[0m\u001b]8;;\u001b\\\u001b[2m:\u001b[0m\u001b]8;id=627315;file:///home/maa/dev/PHD/src/phd/pipelines/regression_VCT/nodes.py#551\u001b\\\u001b[2m551\u001b[0m\u001b]8;;\u001b\\\n",
       "\u001b[2;36m                    \u001b[0m         ========================================================================= \u001b[2m            \u001b[0m\n",
       "\u001b[2;36m                    \u001b[0m         =======                                                                   \u001b[2m            \u001b[0m\n",
       "\u001b[2;36m                    \u001b[0m         Model:                  OLS              Adj. R-squared \u001b[1m(\u001b[0muncentered\u001b[1m)\u001b[0m:     \u001b[2m            \u001b[0m\n",
       "\u001b[2;36m                    \u001b[0m         \u001b[1;36m1.000\u001b[0m                                                                     \u001b[2m            \u001b[0m\n",
       "\u001b[2;36m                    \u001b[0m         Dependent Variable:     N_D              AIC:                             \u001b[2m            \u001b[0m\n",
       "\u001b[2;36m                    \u001b[0m         \u001b[1;36m-101.2356\u001b[0m                                                                 \u001b[2m            \u001b[0m\n",
       "\u001b[2;36m                    \u001b[0m         Date:                   \u001b[1;36m2024\u001b[0m-\u001b[1;36m01\u001b[0m-\u001b[1;36m10\u001b[0m \u001b[1;92m13:25\u001b[0m BIC:                             \u001b[2m            \u001b[0m\n",
       "\u001b[2;36m                    \u001b[0m         \u001b[1;36m-102.4631\u001b[0m                                                                 \u001b[2m            \u001b[0m\n",
       "\u001b[2;36m                    \u001b[0m         No. Observations:       \u001b[1;36m4\u001b[0m                Log-Likelihood:                  \u001b[2m            \u001b[0m\n",
       "\u001b[2;36m                    \u001b[0m         \u001b[1;36m52.618\u001b[0m                                                                    \u001b[2m            \u001b[0m\n",
       "\u001b[2;36m                    \u001b[0m         Df Model:               \u001b[1;36m2\u001b[0m                F-statistic:                     \u001b[2m            \u001b[0m\n",
       "\u001b[2;36m                    \u001b[0m         \u001b[1;36m7.291e+05\u001b[0m                                                                 \u001b[2m            \u001b[0m\n",
       "\u001b[2;36m                    \u001b[0m         Df Residuals:           \u001b[1;36m2\u001b[0m                Prob \u001b[1m(\u001b[0mF-statistic\u001b[1m)\u001b[0m:              \u001b[2m            \u001b[0m\n",
       "\u001b[2;36m                    \u001b[0m         \u001b[1;36m1.37e-06\u001b[0m                                                                  \u001b[2m            \u001b[0m\n",
       "\u001b[2;36m                    \u001b[0m         R-squared \u001b[1m(\u001b[0muncentered\u001b[1m)\u001b[0m: \u001b[1;36m1.000\u001b[0m            Scale:                           \u001b[2m            \u001b[0m\n",
       "\u001b[2;36m                    \u001b[0m         \u001b[1;36m4.3928e-13\u001b[0m                                                                \u001b[2m            \u001b[0m\n",
       "\u001b[2;36m                    \u001b[0m         ------------------------------------------------------------------------- \u001b[2m            \u001b[0m\n",
       "\u001b[2;36m                    \u001b[0m         ---------                                                                 \u001b[2m            \u001b[0m\n",
       "\u001b[2;36m                    \u001b[0m                                 Coef.    Std.Err.       t       P>|t|     \u001b[1m[\u001b[0m\u001b[1;36m0.025\u001b[0m  \u001b[2m            \u001b[0m\n",
       "\u001b[2;36m                    \u001b[0m         \u001b[1;36m0.975\u001b[0m\u001b[1m]\u001b[0m                                                                    \u001b[2m            \u001b[0m\n",
       "\u001b[2;36m                    \u001b[0m         ------------------------------------------------------------------------- \u001b[2m            \u001b[0m\n",
       "\u001b[2;36m                    \u001b[0m         ---------                                                                 \u001b[2m            \u001b[0m\n",
       "\u001b[2;36m                    \u001b[0m         Ndeltadeltadelta       \u001b[1;36m-0.0034\u001b[0m     \u001b[1;36m0.0001\u001b[0m    \u001b[1;36m-38.8219\u001b[0m   \u001b[1;36m0.0007\u001b[0m   \u001b[1;36m-0.0038\u001b[0m  \u001b[2m            \u001b[0m\n",
       "\u001b[2;36m                    \u001b[0m         \u001b[1;36m-0.0030\u001b[0m                                                                   \u001b[2m            \u001b[0m\n",
       "\u001b[2;36m                    \u001b[0m         Ndelta                 \u001b[1;36m-0.0022\u001b[0m     \u001b[1;36m0.0000\u001b[0m   \u001b[1;36m-454.2816\u001b[0m   \u001b[1;36m0.0000\u001b[0m   \u001b[1;36m-0.0022\u001b[0m  \u001b[2m            \u001b[0m\n",
       "\u001b[2;36m                    \u001b[0m         \u001b[1;36m-0.0022\u001b[0m                                                                   \u001b[2m            \u001b[0m\n",
       "\u001b[2;36m                    \u001b[0m         ------------------------------------------------------------------------- \u001b[2m            \u001b[0m\n",
       "\u001b[2;36m                    \u001b[0m         -------                                                                   \u001b[2m            \u001b[0m\n",
       "\u001b[2;36m                    \u001b[0m         Omnibus:                   nan               Durbin-Watson:               \u001b[2m            \u001b[0m\n",
       "\u001b[2;36m                    \u001b[0m         \u001b[1;36m0.854\u001b[0m                                                                     \u001b[2m            \u001b[0m\n",
       "\u001b[2;36m                    \u001b[0m         \u001b[1;35mProb\u001b[0m\u001b[1m(\u001b[0mOmnibus\u001b[1m)\u001b[0m:             nan               Jarque-Bera \u001b[1m(\u001b[0mJB\u001b[1m)\u001b[0m:            \u001b[2m            \u001b[0m\n",
       "\u001b[2;36m                    \u001b[0m         \u001b[1;36m0.705\u001b[0m                                                                     \u001b[2m            \u001b[0m\n",
       "\u001b[2;36m                    \u001b[0m         Skew:                      \u001b[1;36m0.931\u001b[0m             \u001b[1;35mProb\u001b[0m\u001b[1m(\u001b[0mJB\u001b[1m)\u001b[0m:                    \u001b[2m            \u001b[0m\n",
       "\u001b[2;36m                    \u001b[0m         \u001b[1;36m0.703\u001b[0m                                                                     \u001b[2m            \u001b[0m\n",
       "\u001b[2;36m                    \u001b[0m         Kurtosis:                  \u001b[1;36m2.124\u001b[0m             Condition No.:               \u001b[2m            \u001b[0m\n",
       "\u001b[2;36m                    \u001b[0m         \u001b[1;36m44\u001b[0m                                                                        \u001b[2m            \u001b[0m\n",
       "\u001b[2;36m                    \u001b[0m         ========================================================================= \u001b[2m            \u001b[0m\n",
       "\u001b[2;36m                    \u001b[0m         =======                                                                   \u001b[2m            \u001b[0m\n",
       "\u001b[2;36m                    \u001b[0m                                                                                   \u001b[2m            \u001b[0m\n"
      ]
     },
     "metadata": {},
     "output_type": "display_data"
    },
    {
     "data": {
      "text/html": [
       "<pre style=\"white-space:pre;overflow-x:auto;line-height:normal;font-family:Menlo,'DejaVu Sans Mono',consolas,'Courier New',monospace\"><span style=\"color: #7fbfbf; text-decoration-color: #7fbfbf\">                    </span><span style=\"color: #000080; text-decoration-color: #000080\">INFO    </span> Regression:resistance                                                     <a href=\"file:///home/maa/dev/PHD/src/phd/pipelines/regression_VCT/nodes.py\" target=\"_blank\"><span style=\"color: #7f7f7f; text-decoration-color: #7f7f7f\">nodes.py</span></a><span style=\"color: #7f7f7f; text-decoration-color: #7f7f7f\">:</span><a href=\"file:///home/maa/dev/PHD/src/phd/pipelines/regression_VCT/nodes.py#549\" target=\"_blank\"><span style=\"color: #7f7f7f; text-decoration-color: #7f7f7f\">549</span></a>\n",
       "</pre>\n"
      ],
      "text/plain": [
       "\u001b[2;36m                   \u001b[0m\u001b[2;36m \u001b[0m\u001b[34mINFO    \u001b[0m Regression:resistance                                                     \u001b]8;id=20147;file:///home/maa/dev/PHD/src/phd/pipelines/regression_VCT/nodes.py\u001b\\\u001b[2mnodes.py\u001b[0m\u001b]8;;\u001b\\\u001b[2m:\u001b[0m\u001b]8;id=471345;file:///home/maa/dev/PHD/src/phd/pipelines/regression_VCT/nodes.py#549\u001b\\\u001b[2m549\u001b[0m\u001b]8;;\u001b\\\n"
      ]
     },
     "metadata": {},
     "output_type": "display_data"
    },
    {
     "data": {
      "text/html": [
       "<pre style=\"white-space:pre;overflow-x:auto;line-height:normal;font-family:Menlo,'DejaVu Sans Mono',consolas,'Courier New',monospace\"><span style=\"color: #7fbfbf; text-decoration-color: #7fbfbf\">                    </span><span style=\"color: #800000; text-decoration-color: #800000\">WARNING </span> <span style=\"color: #800080; text-decoration-color: #800080\">/home/maa/anaconda3/envs/phd/lib/python3.10/site-packages/statsmodels/</span> <a href=\"file:///home/maa/anaconda3/envs/phd/lib/python3.10/warnings.py\" target=\"_blank\"><span style=\"color: #7f7f7f; text-decoration-color: #7f7f7f\">warnings.py</span></a><span style=\"color: #7f7f7f; text-decoration-color: #7f7f7f\">:</span><a href=\"file:///home/maa/anaconda3/envs/phd/lib/python3.10/warnings.py#109\" target=\"_blank\"><span style=\"color: #7f7f7f; text-decoration-color: #7f7f7f\">109</span></a>\n",
       "<span style=\"color: #7fbfbf; text-decoration-color: #7fbfbf\">                    </span>         <span style=\"color: #800080; text-decoration-color: #800080\">stats/</span><span style=\"color: #ff00ff; text-decoration-color: #ff00ff\">stattools.py</span>:<span style=\"color: #008080; text-decoration-color: #008080; font-weight: bold\">74</span>: ValueWarning: omni_normtest is not valid with   <span style=\"color: #7f7f7f; text-decoration-color: #7f7f7f\">               </span>\n",
       "<span style=\"color: #7fbfbf; text-decoration-color: #7fbfbf\">                    </span>         less than <span style=\"color: #008080; text-decoration-color: #008080; font-weight: bold\">8</span> observations; <span style=\"color: #008080; text-decoration-color: #008080; font-weight: bold\">2</span> samples were given.                        <span style=\"color: #7f7f7f; text-decoration-color: #7f7f7f\">               </span>\n",
       "<span style=\"color: #7fbfbf; text-decoration-color: #7fbfbf\">                    </span>           <span style=\"color: #800080; text-decoration-color: #800080; font-weight: bold\">warn</span><span style=\"font-weight: bold\">(</span><span style=\"color: #008000; text-decoration-color: #008000\">\"omni_normtest is not valid with less than 8 observations; %i \"</span> <span style=\"color: #7f7f7f; text-decoration-color: #7f7f7f\">               </span>\n",
       "<span style=\"color: #7fbfbf; text-decoration-color: #7fbfbf\">                    </span>                                                                                <span style=\"color: #7f7f7f; text-decoration-color: #7f7f7f\">               </span>\n",
       "</pre>\n"
      ],
      "text/plain": [
       "\u001b[2;36m                   \u001b[0m\u001b[2;36m \u001b[0m\u001b[31mWARNING \u001b[0m \u001b[35m/home/maa/anaconda3/envs/phd/lib/python3.10/site-packages/statsmodels/\u001b[0m \u001b]8;id=976811;file:///home/maa/anaconda3/envs/phd/lib/python3.10/warnings.py\u001b\\\u001b[2mwarnings.py\u001b[0m\u001b]8;;\u001b\\\u001b[2m:\u001b[0m\u001b]8;id=956372;file:///home/maa/anaconda3/envs/phd/lib/python3.10/warnings.py#109\u001b\\\u001b[2m109\u001b[0m\u001b]8;;\u001b\\\n",
       "\u001b[2;36m                    \u001b[0m         \u001b[35mstats/\u001b[0m\u001b[95mstattools.py\u001b[0m:\u001b[1;36m74\u001b[0m: ValueWarning: omni_normtest is not valid with   \u001b[2m               \u001b[0m\n",
       "\u001b[2;36m                    \u001b[0m         less than \u001b[1;36m8\u001b[0m observations; \u001b[1;36m2\u001b[0m samples were given.                        \u001b[2m               \u001b[0m\n",
       "\u001b[2;36m                    \u001b[0m           \u001b[1;35mwarn\u001b[0m\u001b[1m(\u001b[0m\u001b[32m\"omni_normtest is not valid with less than 8 observations; %i \"\u001b[0m \u001b[2m               \u001b[0m\n",
       "\u001b[2;36m                    \u001b[0m                                                                                \u001b[2m               \u001b[0m\n"
      ]
     },
     "metadata": {},
     "output_type": "display_data"
    },
    {
     "data": {
      "text/html": [
       "<pre style=\"white-space:pre;overflow-x:auto;line-height:normal;font-family:Menlo,'DejaVu Sans Mono',consolas,'Courier New',monospace\"><span style=\"color: #7fbfbf; text-decoration-color: #7fbfbf\">                    </span><span style=\"color: #800000; text-decoration-color: #800000\">WARNING </span> <span style=\"color: #800080; text-decoration-color: #800080\">/home/maa/anaconda3/envs/phd/lib/python3.10/site-packages/statsmodels/</span> <a href=\"file:///home/maa/anaconda3/envs/phd/lib/python3.10/warnings.py\" target=\"_blank\"><span style=\"color: #7f7f7f; text-decoration-color: #7f7f7f\">warnings.py</span></a><span style=\"color: #7f7f7f; text-decoration-color: #7f7f7f\">:</span><a href=\"file:///home/maa/anaconda3/envs/phd/lib/python3.10/warnings.py#109\" target=\"_blank\"><span style=\"color: #7f7f7f; text-decoration-color: #7f7f7f\">109</span></a>\n",
       "<span style=\"color: #7fbfbf; text-decoration-color: #7fbfbf\">                    </span>         <span style=\"color: #800080; text-decoration-color: #800080\">regression/</span><span style=\"color: #ff00ff; text-decoration-color: #ff00ff\">linear_model.py</span>:<span style=\"color: #008080; text-decoration-color: #008080; font-weight: bold\">1687</span>: RuntimeWarning: divide by zero        <span style=\"color: #7f7f7f; text-decoration-color: #7f7f7f\">               </span>\n",
       "<span style=\"color: #7fbfbf; text-decoration-color: #7fbfbf\">                    </span>         encountered in scalar divide                                           <span style=\"color: #7f7f7f; text-decoration-color: #7f7f7f\">               </span>\n",
       "<span style=\"color: #7fbfbf; text-decoration-color: #7fbfbf\">                    </span>           return <span style=\"color: #800080; text-decoration-color: #800080; font-weight: bold\">np.dot</span><span style=\"font-weight: bold\">(</span>wresid, wresid<span style=\"font-weight: bold\">)</span> <span style=\"color: #800080; text-decoration-color: #800080\">/</span> self.df_resid                        <span style=\"color: #7f7f7f; text-decoration-color: #7f7f7f\">               </span>\n",
       "<span style=\"color: #7fbfbf; text-decoration-color: #7fbfbf\">                    </span>                                                                                <span style=\"color: #7f7f7f; text-decoration-color: #7f7f7f\">               </span>\n",
       "</pre>\n"
      ],
      "text/plain": [
       "\u001b[2;36m                   \u001b[0m\u001b[2;36m \u001b[0m\u001b[31mWARNING \u001b[0m \u001b[35m/home/maa/anaconda3/envs/phd/lib/python3.10/site-packages/statsmodels/\u001b[0m \u001b]8;id=763831;file:///home/maa/anaconda3/envs/phd/lib/python3.10/warnings.py\u001b\\\u001b[2mwarnings.py\u001b[0m\u001b]8;;\u001b\\\u001b[2m:\u001b[0m\u001b]8;id=467109;file:///home/maa/anaconda3/envs/phd/lib/python3.10/warnings.py#109\u001b\\\u001b[2m109\u001b[0m\u001b]8;;\u001b\\\n",
       "\u001b[2;36m                    \u001b[0m         \u001b[35mregression/\u001b[0m\u001b[95mlinear_model.py\u001b[0m:\u001b[1;36m1687\u001b[0m: RuntimeWarning: divide by zero        \u001b[2m               \u001b[0m\n",
       "\u001b[2;36m                    \u001b[0m         encountered in scalar divide                                           \u001b[2m               \u001b[0m\n",
       "\u001b[2;36m                    \u001b[0m           return \u001b[1;35mnp.dot\u001b[0m\u001b[1m(\u001b[0mwresid, wresid\u001b[1m)\u001b[0m \u001b[35m/\u001b[0m self.df_resid                        \u001b[2m               \u001b[0m\n",
       "\u001b[2;36m                    \u001b[0m                                                                                \u001b[2m               \u001b[0m\n"
      ]
     },
     "metadata": {},
     "output_type": "display_data"
    },
    {
     "data": {
      "text/html": [
       "<pre style=\"white-space:pre;overflow-x:auto;line-height:normal;font-family:Menlo,'DejaVu Sans Mono',consolas,'Courier New',monospace\"><span style=\"color: #7fbfbf; text-decoration-color: #7fbfbf\">                    </span><span style=\"color: #800000; text-decoration-color: #800000\">WARNING </span> <span style=\"color: #800080; text-decoration-color: #800080\">/home/maa/anaconda3/envs/phd/lib/python3.10/site-packages/statsmodels/</span> <a href=\"file:///home/maa/anaconda3/envs/phd/lib/python3.10/warnings.py\" target=\"_blank\"><span style=\"color: #7f7f7f; text-decoration-color: #7f7f7f\">warnings.py</span></a><span style=\"color: #7f7f7f; text-decoration-color: #7f7f7f\">:</span><a href=\"file:///home/maa/anaconda3/envs/phd/lib/python3.10/warnings.py#109\" target=\"_blank\"><span style=\"color: #7f7f7f; text-decoration-color: #7f7f7f\">109</span></a>\n",
       "<span style=\"color: #7fbfbf; text-decoration-color: #7fbfbf\">                    </span>         <span style=\"color: #800080; text-decoration-color: #800080\">regression/</span><span style=\"color: #ff00ff; text-decoration-color: #ff00ff\">linear_model.py</span>:<span style=\"color: #008080; text-decoration-color: #008080; font-weight: bold\">1765</span>: RuntimeWarning: divide by zero        <span style=\"color: #7f7f7f; text-decoration-color: #7f7f7f\">               </span>\n",
       "<span style=\"color: #7fbfbf; text-decoration-color: #7fbfbf\">                    </span>         encountered in divide                                                  <span style=\"color: #7f7f7f; text-decoration-color: #7f7f7f\">               </span>\n",
       "<span style=\"color: #7fbfbf; text-decoration-color: #7fbfbf\">                    </span>           return <span style=\"color: #008080; text-decoration-color: #008080; font-weight: bold\">1</span> - <span style=\"font-weight: bold\">(</span><span style=\"color: #800080; text-decoration-color: #800080; font-weight: bold\">np.divide</span><span style=\"font-weight: bold\">(</span>self.nobs - self.k_constant, self.df_resid<span style=\"font-weight: bold\">)</span>    <span style=\"color: #7f7f7f; text-decoration-color: #7f7f7f\">               </span>\n",
       "<span style=\"color: #7fbfbf; text-decoration-color: #7fbfbf\">                    </span>                                                                                <span style=\"color: #7f7f7f; text-decoration-color: #7f7f7f\">               </span>\n",
       "</pre>\n"
      ],
      "text/plain": [
       "\u001b[2;36m                   \u001b[0m\u001b[2;36m \u001b[0m\u001b[31mWARNING \u001b[0m \u001b[35m/home/maa/anaconda3/envs/phd/lib/python3.10/site-packages/statsmodels/\u001b[0m \u001b]8;id=944631;file:///home/maa/anaconda3/envs/phd/lib/python3.10/warnings.py\u001b\\\u001b[2mwarnings.py\u001b[0m\u001b]8;;\u001b\\\u001b[2m:\u001b[0m\u001b]8;id=896542;file:///home/maa/anaconda3/envs/phd/lib/python3.10/warnings.py#109\u001b\\\u001b[2m109\u001b[0m\u001b]8;;\u001b\\\n",
       "\u001b[2;36m                    \u001b[0m         \u001b[35mregression/\u001b[0m\u001b[95mlinear_model.py\u001b[0m:\u001b[1;36m1765\u001b[0m: RuntimeWarning: divide by zero        \u001b[2m               \u001b[0m\n",
       "\u001b[2;36m                    \u001b[0m         encountered in divide                                                  \u001b[2m               \u001b[0m\n",
       "\u001b[2;36m                    \u001b[0m           return \u001b[1;36m1\u001b[0m - \u001b[1m(\u001b[0m\u001b[1;35mnp.divide\u001b[0m\u001b[1m(\u001b[0mself.nobs - self.k_constant, self.df_resid\u001b[1m)\u001b[0m    \u001b[2m               \u001b[0m\n",
       "\u001b[2;36m                    \u001b[0m                                                                                \u001b[2m               \u001b[0m\n"
      ]
     },
     "metadata": {},
     "output_type": "display_data"
    },
    {
     "data": {
      "text/html": [
       "<pre style=\"white-space:pre;overflow-x:auto;line-height:normal;font-family:Menlo,'DejaVu Sans Mono',consolas,'Courier New',monospace\"><span style=\"color: #7fbfbf; text-decoration-color: #7fbfbf\">                    </span><span style=\"color: #800000; text-decoration-color: #800000\">WARNING </span> <span style=\"color: #800080; text-decoration-color: #800080\">/home/maa/anaconda3/envs/phd/lib/python3.10/site-packages/statsmodels/</span> <a href=\"file:///home/maa/anaconda3/envs/phd/lib/python3.10/warnings.py\" target=\"_blank\"><span style=\"color: #7f7f7f; text-decoration-color: #7f7f7f\">warnings.py</span></a><span style=\"color: #7f7f7f; text-decoration-color: #7f7f7f\">:</span><a href=\"file:///home/maa/anaconda3/envs/phd/lib/python3.10/warnings.py#109\" target=\"_blank\"><span style=\"color: #7f7f7f; text-decoration-color: #7f7f7f\">109</span></a>\n",
       "<span style=\"color: #7fbfbf; text-decoration-color: #7fbfbf\">                    </span>         <span style=\"color: #800080; text-decoration-color: #800080\">regression/</span><span style=\"color: #ff00ff; text-decoration-color: #ff00ff\">linear_model.py</span>:<span style=\"color: #008080; text-decoration-color: #008080; font-weight: bold\">1765</span>: RuntimeWarning: invalid value         <span style=\"color: #7f7f7f; text-decoration-color: #7f7f7f\">               </span>\n",
       "<span style=\"color: #7fbfbf; text-decoration-color: #7fbfbf\">                    </span>         encountered in scalar multiply                                         <span style=\"color: #7f7f7f; text-decoration-color: #7f7f7f\">               </span>\n",
       "<span style=\"color: #7fbfbf; text-decoration-color: #7fbfbf\">                    </span>           return <span style=\"color: #008080; text-decoration-color: #008080; font-weight: bold\">1</span> - <span style=\"font-weight: bold\">(</span><span style=\"color: #800080; text-decoration-color: #800080; font-weight: bold\">np.divide</span><span style=\"font-weight: bold\">(</span>self.nobs - self.k_constant, self.df_resid<span style=\"font-weight: bold\">)</span>    <span style=\"color: #7f7f7f; text-decoration-color: #7f7f7f\">               </span>\n",
       "<span style=\"color: #7fbfbf; text-decoration-color: #7fbfbf\">                    </span>                                                                                <span style=\"color: #7f7f7f; text-decoration-color: #7f7f7f\">               </span>\n",
       "</pre>\n"
      ],
      "text/plain": [
       "\u001b[2;36m                   \u001b[0m\u001b[2;36m \u001b[0m\u001b[31mWARNING \u001b[0m \u001b[35m/home/maa/anaconda3/envs/phd/lib/python3.10/site-packages/statsmodels/\u001b[0m \u001b]8;id=871219;file:///home/maa/anaconda3/envs/phd/lib/python3.10/warnings.py\u001b\\\u001b[2mwarnings.py\u001b[0m\u001b]8;;\u001b\\\u001b[2m:\u001b[0m\u001b]8;id=357395;file:///home/maa/anaconda3/envs/phd/lib/python3.10/warnings.py#109\u001b\\\u001b[2m109\u001b[0m\u001b]8;;\u001b\\\n",
       "\u001b[2;36m                    \u001b[0m         \u001b[35mregression/\u001b[0m\u001b[95mlinear_model.py\u001b[0m:\u001b[1;36m1765\u001b[0m: RuntimeWarning: invalid value         \u001b[2m               \u001b[0m\n",
       "\u001b[2;36m                    \u001b[0m         encountered in scalar multiply                                         \u001b[2m               \u001b[0m\n",
       "\u001b[2;36m                    \u001b[0m           return \u001b[1;36m1\u001b[0m - \u001b[1m(\u001b[0m\u001b[1;35mnp.divide\u001b[0m\u001b[1m(\u001b[0mself.nobs - self.k_constant, self.df_resid\u001b[1m)\u001b[0m    \u001b[2m               \u001b[0m\n",
       "\u001b[2;36m                    \u001b[0m                                                                                \u001b[2m               \u001b[0m\n"
      ]
     },
     "metadata": {},
     "output_type": "display_data"
    },
    {
     "data": {
      "text/html": [
       "<pre style=\"white-space:pre;overflow-x:auto;line-height:normal;font-family:Menlo,'DejaVu Sans Mono',consolas,'Courier New',monospace\"><span style=\"color: #7fbfbf; text-decoration-color: #7fbfbf\">                    </span><span style=\"color: #000080; text-decoration-color: #000080\">INFO    </span>                  Results: Ordinary least squares                          <a href=\"file:///home/maa/dev/PHD/src/phd/pipelines/regression_VCT/nodes.py\" target=\"_blank\"><span style=\"color: #7f7f7f; text-decoration-color: #7f7f7f\">nodes.py</span></a><span style=\"color: #7f7f7f; text-decoration-color: #7f7f7f\">:</span><a href=\"file:///home/maa/dev/PHD/src/phd/pipelines/regression_VCT/nodes.py#551\" target=\"_blank\"><span style=\"color: #7f7f7f; text-decoration-color: #7f7f7f\">551</span></a>\n",
       "<span style=\"color: #7fbfbf; text-decoration-color: #7fbfbf\">                    </span>         ==================================================================        <span style=\"color: #7f7f7f; text-decoration-color: #7f7f7f\">            </span>\n",
       "<span style=\"color: #7fbfbf; text-decoration-color: #7fbfbf\">                    </span>         Model:              OLS              Adj. R-squared:     nan              <span style=\"color: #7f7f7f; text-decoration-color: #7f7f7f\">            </span>\n",
       "<span style=\"color: #7fbfbf; text-decoration-color: #7fbfbf\">                    </span>         Dependent Variable: X_D              AIC:                <span style=\"color: #008080; text-decoration-color: #008080; font-weight: bold\">-161.2537</span>        <span style=\"color: #7f7f7f; text-decoration-color: #7f7f7f\">            </span>\n",
       "<span style=\"color: #7fbfbf; text-decoration-color: #7fbfbf\">                    </span>         Date:               <span style=\"color: #008080; text-decoration-color: #008080; font-weight: bold\">2024</span>-<span style=\"color: #008080; text-decoration-color: #008080; font-weight: bold\">01</span>-<span style=\"color: #008080; text-decoration-color: #008080; font-weight: bold\">10</span> <span style=\"color: #00ff00; text-decoration-color: #00ff00; font-weight: bold\">13:25</span> BIC:                <span style=\"color: #008080; text-decoration-color: #008080; font-weight: bold\">-163.8674</span>        <span style=\"color: #7f7f7f; text-decoration-color: #7f7f7f\">            </span>\n",
       "<span style=\"color: #7fbfbf; text-decoration-color: #7fbfbf\">                    </span>         No. Observations:   <span style=\"color: #008080; text-decoration-color: #008080; font-weight: bold\">2</span>                Log-Likelihood:     <span style=\"color: #008080; text-decoration-color: #008080; font-weight: bold\">82.627</span>           <span style=\"color: #7f7f7f; text-decoration-color: #7f7f7f\">            </span>\n",
       "<span style=\"color: #7fbfbf; text-decoration-color: #7fbfbf\">                    </span>         Df Model:           <span style=\"color: #008080; text-decoration-color: #008080; font-weight: bold\">1</span>                F-statistic:        nan              <span style=\"color: #7f7f7f; text-decoration-color: #7f7f7f\">            </span>\n",
       "<span style=\"color: #7fbfbf; text-decoration-color: #7fbfbf\">                    </span>         Df Residuals:       <span style=\"color: #008080; text-decoration-color: #008080; font-weight: bold\">0</span>                Prob <span style=\"font-weight: bold\">(</span>F-statistic<span style=\"font-weight: bold\">)</span>: nan              <span style=\"color: #7f7f7f; text-decoration-color: #7f7f7f\">            </span>\n",
       "<span style=\"color: #7fbfbf; text-decoration-color: #7fbfbf\">                    </span>         R-squared:          <span style=\"color: #008080; text-decoration-color: #008080; font-weight: bold\">1.000</span>            Scale:              inf              <span style=\"color: #7f7f7f; text-decoration-color: #7f7f7f\">            </span>\n",
       "<span style=\"color: #7fbfbf; text-decoration-color: #7fbfbf\">                    </span>         ---------------------------------------------------------------------     <span style=\"color: #7f7f7f; text-decoration-color: #7f7f7f\">            </span>\n",
       "<span style=\"color: #7fbfbf; text-decoration-color: #7fbfbf\">                    </span>                    Coef.     Std.Err.       t       P&gt;|t|    <span style=\"font-weight: bold\">[</span><span style=\"color: #008080; text-decoration-color: #008080; font-weight: bold\">0.025</span>    <span style=\"color: #008080; text-decoration-color: #008080; font-weight: bold\">0.975</span><span style=\"font-weight: bold\">]</span>     <span style=\"color: #7f7f7f; text-decoration-color: #7f7f7f\">            </span>\n",
       "<span style=\"color: #7fbfbf; text-decoration-color: #7fbfbf\">                    </span>         ---------------------------------------------------------------------     <span style=\"color: #7f7f7f; text-decoration-color: #7f7f7f\">            </span>\n",
       "<span style=\"color: #7fbfbf; text-decoration-color: #7fbfbf\">                    </span>         Xu         <span style=\"color: #008080; text-decoration-color: #008080; font-weight: bold\">0.0001</span>         inf     <span style=\"color: #008080; text-decoration-color: #008080; font-weight: bold\">0.0000</span>      nan       nan       nan     <span style=\"color: #7f7f7f; text-decoration-color: #7f7f7f\">            </span>\n",
       "<span style=\"color: #7fbfbf; text-decoration-color: #7fbfbf\">                    </span>         X0        <span style=\"color: #008080; text-decoration-color: #008080; font-weight: bold\">-0.0007</span>         inf    <span style=\"color: #008080; text-decoration-color: #008080; font-weight: bold\">-0.0000</span>      nan       nan       nan     <span style=\"color: #7f7f7f; text-decoration-color: #7f7f7f\">            </span>\n",
       "<span style=\"color: #7fbfbf; text-decoration-color: #7fbfbf\">                    </span>         ------------------------------------------------------------------        <span style=\"color: #7f7f7f; text-decoration-color: #7f7f7f\">            </span>\n",
       "<span style=\"color: #7fbfbf; text-decoration-color: #7fbfbf\">                    </span>         Omnibus:               nan          Durbin-Watson:           <span style=\"color: #008080; text-decoration-color: #008080; font-weight: bold\">0.077</span>        <span style=\"color: #7f7f7f; text-decoration-color: #7f7f7f\">            </span>\n",
       "<span style=\"color: #7fbfbf; text-decoration-color: #7fbfbf\">                    </span>         <span style=\"color: #800080; text-decoration-color: #800080; font-weight: bold\">Prob</span><span style=\"font-weight: bold\">(</span>Omnibus<span style=\"font-weight: bold\">)</span>:         nan          Jarque-Bera <span style=\"font-weight: bold\">(</span>JB<span style=\"font-weight: bold\">)</span>:        <span style=\"color: #008080; text-decoration-color: #008080; font-weight: bold\">0.333</span>        <span style=\"color: #7f7f7f; text-decoration-color: #7f7f7f\">            </span>\n",
       "<span style=\"color: #7fbfbf; text-decoration-color: #7fbfbf\">                    </span>         Skew:                  <span style=\"color: #008080; text-decoration-color: #008080; font-weight: bold\">0.000</span>        <span style=\"color: #800080; text-decoration-color: #800080; font-weight: bold\">Prob</span><span style=\"font-weight: bold\">(</span>JB<span style=\"font-weight: bold\">)</span>:                <span style=\"color: #008080; text-decoration-color: #008080; font-weight: bold\">0.846</span>        <span style=\"color: #7f7f7f; text-decoration-color: #7f7f7f\">            </span>\n",
       "<span style=\"color: #7fbfbf; text-decoration-color: #7fbfbf\">                    </span>         Kurtosis:              <span style=\"color: #008080; text-decoration-color: #008080; font-weight: bold\">1.000</span>        Condition No.:           <span style=\"color: #008080; text-decoration-color: #008080; font-weight: bold\">3</span>            <span style=\"color: #7f7f7f; text-decoration-color: #7f7f7f\">            </span>\n",
       "<span style=\"color: #7fbfbf; text-decoration-color: #7fbfbf\">                    </span>         ==================================================================        <span style=\"color: #7f7f7f; text-decoration-color: #7f7f7f\">            </span>\n",
       "<span style=\"color: #7fbfbf; text-decoration-color: #7fbfbf\">                    </span>                                                                                   <span style=\"color: #7f7f7f; text-decoration-color: #7f7f7f\">            </span>\n",
       "</pre>\n"
      ],
      "text/plain": [
       "\u001b[2;36m                   \u001b[0m\u001b[2;36m \u001b[0m\u001b[34mINFO    \u001b[0m                  Results: Ordinary least squares                          \u001b]8;id=160797;file:///home/maa/dev/PHD/src/phd/pipelines/regression_VCT/nodes.py\u001b\\\u001b[2mnodes.py\u001b[0m\u001b]8;;\u001b\\\u001b[2m:\u001b[0m\u001b]8;id=454723;file:///home/maa/dev/PHD/src/phd/pipelines/regression_VCT/nodes.py#551\u001b\\\u001b[2m551\u001b[0m\u001b]8;;\u001b\\\n",
       "\u001b[2;36m                    \u001b[0m         ==================================================================        \u001b[2m            \u001b[0m\n",
       "\u001b[2;36m                    \u001b[0m         Model:              OLS              Adj. R-squared:     nan              \u001b[2m            \u001b[0m\n",
       "\u001b[2;36m                    \u001b[0m         Dependent Variable: X_D              AIC:                \u001b[1;36m-161.2537\u001b[0m        \u001b[2m            \u001b[0m\n",
       "\u001b[2;36m                    \u001b[0m         Date:               \u001b[1;36m2024\u001b[0m-\u001b[1;36m01\u001b[0m-\u001b[1;36m10\u001b[0m \u001b[1;92m13:25\u001b[0m BIC:                \u001b[1;36m-163.8674\u001b[0m        \u001b[2m            \u001b[0m\n",
       "\u001b[2;36m                    \u001b[0m         No. Observations:   \u001b[1;36m2\u001b[0m                Log-Likelihood:     \u001b[1;36m82.627\u001b[0m           \u001b[2m            \u001b[0m\n",
       "\u001b[2;36m                    \u001b[0m         Df Model:           \u001b[1;36m1\u001b[0m                F-statistic:        nan              \u001b[2m            \u001b[0m\n",
       "\u001b[2;36m                    \u001b[0m         Df Residuals:       \u001b[1;36m0\u001b[0m                Prob \u001b[1m(\u001b[0mF-statistic\u001b[1m)\u001b[0m: nan              \u001b[2m            \u001b[0m\n",
       "\u001b[2;36m                    \u001b[0m         R-squared:          \u001b[1;36m1.000\u001b[0m            Scale:              inf              \u001b[2m            \u001b[0m\n",
       "\u001b[2;36m                    \u001b[0m         ---------------------------------------------------------------------     \u001b[2m            \u001b[0m\n",
       "\u001b[2;36m                    \u001b[0m                    Coef.     Std.Err.       t       P>|t|    \u001b[1m[\u001b[0m\u001b[1;36m0.025\u001b[0m    \u001b[1;36m0.975\u001b[0m\u001b[1m]\u001b[0m     \u001b[2m            \u001b[0m\n",
       "\u001b[2;36m                    \u001b[0m         ---------------------------------------------------------------------     \u001b[2m            \u001b[0m\n",
       "\u001b[2;36m                    \u001b[0m         Xu         \u001b[1;36m0.0001\u001b[0m         inf     \u001b[1;36m0.0000\u001b[0m      nan       nan       nan     \u001b[2m            \u001b[0m\n",
       "\u001b[2;36m                    \u001b[0m         X0        \u001b[1;36m-0.0007\u001b[0m         inf    \u001b[1;36m-0.0000\u001b[0m      nan       nan       nan     \u001b[2m            \u001b[0m\n",
       "\u001b[2;36m                    \u001b[0m         ------------------------------------------------------------------        \u001b[2m            \u001b[0m\n",
       "\u001b[2;36m                    \u001b[0m         Omnibus:               nan          Durbin-Watson:           \u001b[1;36m0.077\u001b[0m        \u001b[2m            \u001b[0m\n",
       "\u001b[2;36m                    \u001b[0m         \u001b[1;35mProb\u001b[0m\u001b[1m(\u001b[0mOmnibus\u001b[1m)\u001b[0m:         nan          Jarque-Bera \u001b[1m(\u001b[0mJB\u001b[1m)\u001b[0m:        \u001b[1;36m0.333\u001b[0m        \u001b[2m            \u001b[0m\n",
       "\u001b[2;36m                    \u001b[0m         Skew:                  \u001b[1;36m0.000\u001b[0m        \u001b[1;35mProb\u001b[0m\u001b[1m(\u001b[0mJB\u001b[1m)\u001b[0m:                \u001b[1;36m0.846\u001b[0m        \u001b[2m            \u001b[0m\n",
       "\u001b[2;36m                    \u001b[0m         Kurtosis:              \u001b[1;36m1.000\u001b[0m        Condition No.:           \u001b[1;36m3\u001b[0m            \u001b[2m            \u001b[0m\n",
       "\u001b[2;36m                    \u001b[0m         ==================================================================        \u001b[2m            \u001b[0m\n",
       "\u001b[2;36m                    \u001b[0m                                                                                   \u001b[2m            \u001b[0m\n"
      ]
     },
     "metadata": {},
     "output_type": "display_data"
    },
    {
     "data": {
      "text/html": [
       "<pre style=\"white-space:pre;overflow-x:auto;line-height:normal;font-family:Menlo,'DejaVu Sans Mono',consolas,'Courier New',monospace\"><span style=\"color: #7fbfbf; text-decoration-color: #7fbfbf\">                    </span><span style=\"color: #000080; text-decoration-color: #000080\">INFO    </span> Regression:Drift angle fx                                                 <a href=\"file:///home/maa/dev/PHD/src/phd/pipelines/regression_VCT/nodes.py\" target=\"_blank\"><span style=\"color: #7f7f7f; text-decoration-color: #7f7f7f\">nodes.py</span></a><span style=\"color: #7f7f7f; text-decoration-color: #7f7f7f\">:</span><a href=\"file:///home/maa/dev/PHD/src/phd/pipelines/regression_VCT/nodes.py#549\" target=\"_blank\"><span style=\"color: #7f7f7f; text-decoration-color: #7f7f7f\">549</span></a>\n",
       "</pre>\n"
      ],
      "text/plain": [
       "\u001b[2;36m                   \u001b[0m\u001b[2;36m \u001b[0m\u001b[34mINFO    \u001b[0m Regression:Drift angle fx                                                 \u001b]8;id=10522;file:///home/maa/dev/PHD/src/phd/pipelines/regression_VCT/nodes.py\u001b\\\u001b[2mnodes.py\u001b[0m\u001b]8;;\u001b\\\u001b[2m:\u001b[0m\u001b]8;id=701510;file:///home/maa/dev/PHD/src/phd/pipelines/regression_VCT/nodes.py#549\u001b\\\u001b[2m549\u001b[0m\u001b]8;;\u001b\\\n"
      ]
     },
     "metadata": {},
     "output_type": "display_data"
    },
    {
     "data": {
      "text/html": [
       "<pre style=\"white-space:pre;overflow-x:auto;line-height:normal;font-family:Menlo,'DejaVu Sans Mono',consolas,'Courier New',monospace\"><span style=\"color: #7fbfbf; text-decoration-color: #7fbfbf\">                    </span><span style=\"color: #800000; text-decoration-color: #800000\">WARNING </span> <span style=\"color: #800080; text-decoration-color: #800080\">/home/maa/anaconda3/envs/phd/lib/python3.10/site-packages/statsmodels/</span> <a href=\"file:///home/maa/anaconda3/envs/phd/lib/python3.10/warnings.py\" target=\"_blank\"><span style=\"color: #7f7f7f; text-decoration-color: #7f7f7f\">warnings.py</span></a><span style=\"color: #7f7f7f; text-decoration-color: #7f7f7f\">:</span><a href=\"file:///home/maa/anaconda3/envs/phd/lib/python3.10/warnings.py#109\" target=\"_blank\"><span style=\"color: #7f7f7f; text-decoration-color: #7f7f7f\">109</span></a>\n",
       "<span style=\"color: #7fbfbf; text-decoration-color: #7fbfbf\">                    </span>         <span style=\"color: #800080; text-decoration-color: #800080\">stats/</span><span style=\"color: #ff00ff; text-decoration-color: #ff00ff\">stattools.py</span>:<span style=\"color: #008080; text-decoration-color: #008080; font-weight: bold\">74</span>: ValueWarning: omni_normtest is not valid with   <span style=\"color: #7f7f7f; text-decoration-color: #7f7f7f\">               </span>\n",
       "<span style=\"color: #7fbfbf; text-decoration-color: #7fbfbf\">                    </span>         less than <span style=\"color: #008080; text-decoration-color: #008080; font-weight: bold\">8</span> observations; <span style=\"color: #008080; text-decoration-color: #008080; font-weight: bold\">5</span> samples were given.                        <span style=\"color: #7f7f7f; text-decoration-color: #7f7f7f\">               </span>\n",
       "<span style=\"color: #7fbfbf; text-decoration-color: #7fbfbf\">                    </span>           <span style=\"color: #800080; text-decoration-color: #800080; font-weight: bold\">warn</span><span style=\"font-weight: bold\">(</span><span style=\"color: #008000; text-decoration-color: #008000\">\"omni_normtest is not valid with less than 8 observations; %i \"</span> <span style=\"color: #7f7f7f; text-decoration-color: #7f7f7f\">               </span>\n",
       "<span style=\"color: #7fbfbf; text-decoration-color: #7fbfbf\">                    </span>                                                                                <span style=\"color: #7f7f7f; text-decoration-color: #7f7f7f\">               </span>\n",
       "</pre>\n"
      ],
      "text/plain": [
       "\u001b[2;36m                   \u001b[0m\u001b[2;36m \u001b[0m\u001b[31mWARNING \u001b[0m \u001b[35m/home/maa/anaconda3/envs/phd/lib/python3.10/site-packages/statsmodels/\u001b[0m \u001b]8;id=604782;file:///home/maa/anaconda3/envs/phd/lib/python3.10/warnings.py\u001b\\\u001b[2mwarnings.py\u001b[0m\u001b]8;;\u001b\\\u001b[2m:\u001b[0m\u001b]8;id=650819;file:///home/maa/anaconda3/envs/phd/lib/python3.10/warnings.py#109\u001b\\\u001b[2m109\u001b[0m\u001b]8;;\u001b\\\n",
       "\u001b[2;36m                    \u001b[0m         \u001b[35mstats/\u001b[0m\u001b[95mstattools.py\u001b[0m:\u001b[1;36m74\u001b[0m: ValueWarning: omni_normtest is not valid with   \u001b[2m               \u001b[0m\n",
       "\u001b[2;36m                    \u001b[0m         less than \u001b[1;36m8\u001b[0m observations; \u001b[1;36m5\u001b[0m samples were given.                        \u001b[2m               \u001b[0m\n",
       "\u001b[2;36m                    \u001b[0m           \u001b[1;35mwarn\u001b[0m\u001b[1m(\u001b[0m\u001b[32m\"omni_normtest is not valid with less than 8 observations; %i \"\u001b[0m \u001b[2m               \u001b[0m\n",
       "\u001b[2;36m                    \u001b[0m                                                                                \u001b[2m               \u001b[0m\n"
      ]
     },
     "metadata": {},
     "output_type": "display_data"
    },
    {
     "data": {
      "text/html": [
       "<pre style=\"white-space:pre;overflow-x:auto;line-height:normal;font-family:Menlo,'DejaVu Sans Mono',consolas,'Courier New',monospace\"><span style=\"color: #7fbfbf; text-decoration-color: #7fbfbf\">[01/10/24 13:25:25] </span><span style=\"color: #000080; text-decoration-color: #000080\">INFO    </span>                   Results: Ordinary least squares                         <a href=\"file:///home/maa/dev/PHD/src/phd/pipelines/regression_VCT/nodes.py\" target=\"_blank\"><span style=\"color: #7f7f7f; text-decoration-color: #7f7f7f\">nodes.py</span></a><span style=\"color: #7f7f7f; text-decoration-color: #7f7f7f\">:</span><a href=\"file:///home/maa/dev/PHD/src/phd/pipelines/regression_VCT/nodes.py#551\" target=\"_blank\"><span style=\"color: #7f7f7f; text-decoration-color: #7f7f7f\">551</span></a>\n",
       "<span style=\"color: #7fbfbf; text-decoration-color: #7fbfbf\">                    </span>         ===================================================================       <span style=\"color: #7f7f7f; text-decoration-color: #7f7f7f\">            </span>\n",
       "<span style=\"color: #7fbfbf; text-decoration-color: #7fbfbf\">                    </span>         Model:              OLS              Adj. R-squared:     <span style=\"color: #008080; text-decoration-color: #008080; font-weight: bold\">0.894</span>            <span style=\"color: #7f7f7f; text-decoration-color: #7f7f7f\">            </span>\n",
       "<span style=\"color: #7fbfbf; text-decoration-color: #7fbfbf\">                    </span>         Dependent Variable: X_D              AIC:                <span style=\"color: #008080; text-decoration-color: #008080; font-weight: bold\">-88.8582</span>         <span style=\"color: #7f7f7f; text-decoration-color: #7f7f7f\">            </span>\n",
       "<span style=\"color: #7fbfbf; text-decoration-color: #7fbfbf\">                    </span>         Date:               <span style=\"color: #008080; text-decoration-color: #008080; font-weight: bold\">2024</span>-<span style=\"color: #008080; text-decoration-color: #008080; font-weight: bold\">01</span>-<span style=\"color: #008080; text-decoration-color: #008080; font-weight: bold\">10</span> <span style=\"color: #00ff00; text-decoration-color: #00ff00; font-weight: bold\">13:25</span> BIC:                <span style=\"color: #008080; text-decoration-color: #008080; font-weight: bold\">-89.6393</span>         <span style=\"color: #7f7f7f; text-decoration-color: #7f7f7f\">            </span>\n",
       "<span style=\"color: #7fbfbf; text-decoration-color: #7fbfbf\">                    </span>         No. Observations:   <span style=\"color: #008080; text-decoration-color: #008080; font-weight: bold\">5</span>                Log-Likelihood:     <span style=\"color: #008080; text-decoration-color: #008080; font-weight: bold\">46.429</span>           <span style=\"color: #7f7f7f; text-decoration-color: #7f7f7f\">            </span>\n",
       "<span style=\"color: #7fbfbf; text-decoration-color: #7fbfbf\">                    </span>         Df Model:           <span style=\"color: #008080; text-decoration-color: #008080; font-weight: bold\">1</span>                F-statistic:        <span style=\"color: #008080; text-decoration-color: #008080; font-weight: bold\">34.88</span>            <span style=\"color: #7f7f7f; text-decoration-color: #7f7f7f\">            </span>\n",
       "<span style=\"color: #7fbfbf; text-decoration-color: #7fbfbf\">                    </span>         Df Residuals:       <span style=\"color: #008080; text-decoration-color: #008080; font-weight: bold\">3</span>                Prob <span style=\"font-weight: bold\">(</span>F-statistic<span style=\"font-weight: bold\">)</span>: <span style=\"color: #008080; text-decoration-color: #008080; font-weight: bold\">0.00969</span>          <span style=\"color: #7f7f7f; text-decoration-color: #7f7f7f\">            </span>\n",
       "<span style=\"color: #7fbfbf; text-decoration-color: #7fbfbf\">                    </span>         R-squared:          <span style=\"color: #008080; text-decoration-color: #008080; font-weight: bold\">0.921</span>            Scale:              <span style=\"color: #008080; text-decoration-color: #008080; font-weight: bold\">8.3910e-10</span>       <span style=\"color: #7f7f7f; text-decoration-color: #7f7f7f\">            </span>\n",
       "<span style=\"color: #7fbfbf; text-decoration-color: #7fbfbf\">                    </span>         ----------------------------------------------------------------------    <span style=\"color: #7f7f7f; text-decoration-color: #7f7f7f\">            </span>\n",
       "<span style=\"color: #7fbfbf; text-decoration-color: #7fbfbf\">                    </span>                   Coef.     Std.Err.       t       P&gt;|t|      <span style=\"font-weight: bold\">[</span><span style=\"color: #008080; text-decoration-color: #008080; font-weight: bold\">0.025</span>    <span style=\"color: #008080; text-decoration-color: #008080; font-weight: bold\">0.975</span><span style=\"font-weight: bold\">]</span>    <span style=\"color: #7f7f7f; text-decoration-color: #7f7f7f\">            </span>\n",
       "<span style=\"color: #7fbfbf; text-decoration-color: #7fbfbf\">                    </span>         ----------------------------------------------------------------------    <span style=\"color: #7f7f7f; text-decoration-color: #7f7f7f\">            </span>\n",
       "<span style=\"color: #7fbfbf; text-decoration-color: #7fbfbf\">                    </span>         Xvv       <span style=\"color: #008080; text-decoration-color: #008080; font-weight: bold\">0.0018</span>      <span style=\"color: #008080; text-decoration-color: #008080; font-weight: bold\">0.0003</span>     <span style=\"color: #008080; text-decoration-color: #008080; font-weight: bold\">5.9060</span>    <span style=\"color: #008080; text-decoration-color: #008080; font-weight: bold\">0.0097</span>     <span style=\"color: #008080; text-decoration-color: #008080; font-weight: bold\">0.0008</span>    <span style=\"color: #008080; text-decoration-color: #008080; font-weight: bold\">0.0027</span>    <span style=\"color: #7f7f7f; text-decoration-color: #7f7f7f\">            </span>\n",
       "<span style=\"color: #7fbfbf; text-decoration-color: #7fbfbf\">                    </span>         const    <span style=\"color: #008080; text-decoration-color: #008080; font-weight: bold\">-0.0000</span>      <span style=\"color: #008080; text-decoration-color: #008080; font-weight: bold\">0.0000</span>    <span style=\"color: #008080; text-decoration-color: #008080; font-weight: bold\">-1.3469</span>    <span style=\"color: #008080; text-decoration-color: #008080; font-weight: bold\">0.2707</span>    <span style=\"color: #008080; text-decoration-color: #008080; font-weight: bold\">-0.0001</span>    <span style=\"color: #008080; text-decoration-color: #008080; font-weight: bold\">0.0000</span>    <span style=\"color: #7f7f7f; text-decoration-color: #7f7f7f\">            </span>\n",
       "<span style=\"color: #7fbfbf; text-decoration-color: #7fbfbf\">                    </span>         -------------------------------------------------------------------       <span style=\"color: #7f7f7f; text-decoration-color: #7f7f7f\">            </span>\n",
       "<span style=\"color: #7fbfbf; text-decoration-color: #7fbfbf\">                    </span>         Omnibus:               nan           Durbin-Watson:           <span style=\"color: #008080; text-decoration-color: #008080; font-weight: bold\">1.626</span>       <span style=\"color: #7f7f7f; text-decoration-color: #7f7f7f\">            </span>\n",
       "<span style=\"color: #7fbfbf; text-decoration-color: #7fbfbf\">                    </span>         <span style=\"color: #800080; text-decoration-color: #800080; font-weight: bold\">Prob</span><span style=\"font-weight: bold\">(</span>Omnibus<span style=\"font-weight: bold\">)</span>:         nan           Jarque-Bera <span style=\"font-weight: bold\">(</span>JB<span style=\"font-weight: bold\">)</span>:        <span style=\"color: #008080; text-decoration-color: #008080; font-weight: bold\">0.503</span>       <span style=\"color: #7f7f7f; text-decoration-color: #7f7f7f\">            </span>\n",
       "<span style=\"color: #7fbfbf; text-decoration-color: #7fbfbf\">                    </span>         Skew:                  <span style=\"color: #008080; text-decoration-color: #008080; font-weight: bold\">-0.455</span>        <span style=\"color: #800080; text-decoration-color: #800080; font-weight: bold\">Prob</span><span style=\"font-weight: bold\">(</span>JB<span style=\"font-weight: bold\">)</span>:                <span style=\"color: #008080; text-decoration-color: #008080; font-weight: bold\">0.778</span>       <span style=\"color: #7f7f7f; text-decoration-color: #7f7f7f\">            </span>\n",
       "<span style=\"color: #7fbfbf; text-decoration-color: #7fbfbf\">                    </span>         Kurtosis:              <span style=\"color: #008080; text-decoration-color: #008080; font-weight: bold\">1.740</span>         Condition No.:           <span style=\"color: #008080; text-decoration-color: #008080; font-weight: bold\">23</span>          <span style=\"color: #7f7f7f; text-decoration-color: #7f7f7f\">            </span>\n",
       "<span style=\"color: #7fbfbf; text-decoration-color: #7fbfbf\">                    </span>         ===================================================================       <span style=\"color: #7f7f7f; text-decoration-color: #7f7f7f\">            </span>\n",
       "<span style=\"color: #7fbfbf; text-decoration-color: #7fbfbf\">                    </span>                                                                                   <span style=\"color: #7f7f7f; text-decoration-color: #7f7f7f\">            </span>\n",
       "</pre>\n"
      ],
      "text/plain": [
       "\u001b[2;36m[01/10/24 13:25:25]\u001b[0m\u001b[2;36m \u001b[0m\u001b[34mINFO    \u001b[0m                   Results: Ordinary least squares                         \u001b]8;id=397893;file:///home/maa/dev/PHD/src/phd/pipelines/regression_VCT/nodes.py\u001b\\\u001b[2mnodes.py\u001b[0m\u001b]8;;\u001b\\\u001b[2m:\u001b[0m\u001b]8;id=484054;file:///home/maa/dev/PHD/src/phd/pipelines/regression_VCT/nodes.py#551\u001b\\\u001b[2m551\u001b[0m\u001b]8;;\u001b\\\n",
       "\u001b[2;36m                    \u001b[0m         ===================================================================       \u001b[2m            \u001b[0m\n",
       "\u001b[2;36m                    \u001b[0m         Model:              OLS              Adj. R-squared:     \u001b[1;36m0.894\u001b[0m            \u001b[2m            \u001b[0m\n",
       "\u001b[2;36m                    \u001b[0m         Dependent Variable: X_D              AIC:                \u001b[1;36m-88.8582\u001b[0m         \u001b[2m            \u001b[0m\n",
       "\u001b[2;36m                    \u001b[0m         Date:               \u001b[1;36m2024\u001b[0m-\u001b[1;36m01\u001b[0m-\u001b[1;36m10\u001b[0m \u001b[1;92m13:25\u001b[0m BIC:                \u001b[1;36m-89.6393\u001b[0m         \u001b[2m            \u001b[0m\n",
       "\u001b[2;36m                    \u001b[0m         No. Observations:   \u001b[1;36m5\u001b[0m                Log-Likelihood:     \u001b[1;36m46.429\u001b[0m           \u001b[2m            \u001b[0m\n",
       "\u001b[2;36m                    \u001b[0m         Df Model:           \u001b[1;36m1\u001b[0m                F-statistic:        \u001b[1;36m34.88\u001b[0m            \u001b[2m            \u001b[0m\n",
       "\u001b[2;36m                    \u001b[0m         Df Residuals:       \u001b[1;36m3\u001b[0m                Prob \u001b[1m(\u001b[0mF-statistic\u001b[1m)\u001b[0m: \u001b[1;36m0.00969\u001b[0m          \u001b[2m            \u001b[0m\n",
       "\u001b[2;36m                    \u001b[0m         R-squared:          \u001b[1;36m0.921\u001b[0m            Scale:              \u001b[1;36m8.3910e-10\u001b[0m       \u001b[2m            \u001b[0m\n",
       "\u001b[2;36m                    \u001b[0m         ----------------------------------------------------------------------    \u001b[2m            \u001b[0m\n",
       "\u001b[2;36m                    \u001b[0m                   Coef.     Std.Err.       t       P>|t|      \u001b[1m[\u001b[0m\u001b[1;36m0.025\u001b[0m    \u001b[1;36m0.975\u001b[0m\u001b[1m]\u001b[0m    \u001b[2m            \u001b[0m\n",
       "\u001b[2;36m                    \u001b[0m         ----------------------------------------------------------------------    \u001b[2m            \u001b[0m\n",
       "\u001b[2;36m                    \u001b[0m         Xvv       \u001b[1;36m0.0018\u001b[0m      \u001b[1;36m0.0003\u001b[0m     \u001b[1;36m5.9060\u001b[0m    \u001b[1;36m0.0097\u001b[0m     \u001b[1;36m0.0008\u001b[0m    \u001b[1;36m0.0027\u001b[0m    \u001b[2m            \u001b[0m\n",
       "\u001b[2;36m                    \u001b[0m         const    \u001b[1;36m-0.0000\u001b[0m      \u001b[1;36m0.0000\u001b[0m    \u001b[1;36m-1.3469\u001b[0m    \u001b[1;36m0.2707\u001b[0m    \u001b[1;36m-0.0001\u001b[0m    \u001b[1;36m0.0000\u001b[0m    \u001b[2m            \u001b[0m\n",
       "\u001b[2;36m                    \u001b[0m         -------------------------------------------------------------------       \u001b[2m            \u001b[0m\n",
       "\u001b[2;36m                    \u001b[0m         Omnibus:               nan           Durbin-Watson:           \u001b[1;36m1.626\u001b[0m       \u001b[2m            \u001b[0m\n",
       "\u001b[2;36m                    \u001b[0m         \u001b[1;35mProb\u001b[0m\u001b[1m(\u001b[0mOmnibus\u001b[1m)\u001b[0m:         nan           Jarque-Bera \u001b[1m(\u001b[0mJB\u001b[1m)\u001b[0m:        \u001b[1;36m0.503\u001b[0m       \u001b[2m            \u001b[0m\n",
       "\u001b[2;36m                    \u001b[0m         Skew:                  \u001b[1;36m-0.455\u001b[0m        \u001b[1;35mProb\u001b[0m\u001b[1m(\u001b[0mJB\u001b[1m)\u001b[0m:                \u001b[1;36m0.778\u001b[0m       \u001b[2m            \u001b[0m\n",
       "\u001b[2;36m                    \u001b[0m         Kurtosis:              \u001b[1;36m1.740\u001b[0m         Condition No.:           \u001b[1;36m23\u001b[0m          \u001b[2m            \u001b[0m\n",
       "\u001b[2;36m                    \u001b[0m         ===================================================================       \u001b[2m            \u001b[0m\n",
       "\u001b[2;36m                    \u001b[0m                                                                                   \u001b[2m            \u001b[0m\n"
      ]
     },
     "metadata": {},
     "output_type": "display_data"
    },
    {
     "data": {
      "text/html": [
       "<pre style=\"white-space:pre;overflow-x:auto;line-height:normal;font-family:Menlo,'DejaVu Sans Mono',consolas,'Courier New',monospace\"><span style=\"color: #7fbfbf; text-decoration-color: #7fbfbf\">                    </span><span style=\"color: #000080; text-decoration-color: #000080\">INFO    </span> Regression:Drift angle fy                                                 <a href=\"file:///home/maa/dev/PHD/src/phd/pipelines/regression_VCT/nodes.py\" target=\"_blank\"><span style=\"color: #7f7f7f; text-decoration-color: #7f7f7f\">nodes.py</span></a><span style=\"color: #7f7f7f; text-decoration-color: #7f7f7f\">:</span><a href=\"file:///home/maa/dev/PHD/src/phd/pipelines/regression_VCT/nodes.py#549\" target=\"_blank\"><span style=\"color: #7f7f7f; text-decoration-color: #7f7f7f\">549</span></a>\n",
       "</pre>\n"
      ],
      "text/plain": [
       "\u001b[2;36m                   \u001b[0m\u001b[2;36m \u001b[0m\u001b[34mINFO    \u001b[0m Regression:Drift angle fy                                                 \u001b]8;id=963273;file:///home/maa/dev/PHD/src/phd/pipelines/regression_VCT/nodes.py\u001b\\\u001b[2mnodes.py\u001b[0m\u001b]8;;\u001b\\\u001b[2m:\u001b[0m\u001b]8;id=822432;file:///home/maa/dev/PHD/src/phd/pipelines/regression_VCT/nodes.py#549\u001b\\\u001b[2m549\u001b[0m\u001b]8;;\u001b\\\n"
      ]
     },
     "metadata": {},
     "output_type": "display_data"
    },
    {
     "data": {
      "text/html": [
       "<pre style=\"white-space:pre;overflow-x:auto;line-height:normal;font-family:Menlo,'DejaVu Sans Mono',consolas,'Courier New',monospace\"><span style=\"color: #7fbfbf; text-decoration-color: #7fbfbf\">                    </span><span style=\"color: #800000; text-decoration-color: #800000\">WARNING </span> <span style=\"color: #800080; text-decoration-color: #800080\">/home/maa/anaconda3/envs/phd/lib/python3.10/site-packages/statsmodels/</span> <a href=\"file:///home/maa/anaconda3/envs/phd/lib/python3.10/warnings.py\" target=\"_blank\"><span style=\"color: #7f7f7f; text-decoration-color: #7f7f7f\">warnings.py</span></a><span style=\"color: #7f7f7f; text-decoration-color: #7f7f7f\">:</span><a href=\"file:///home/maa/anaconda3/envs/phd/lib/python3.10/warnings.py#109\" target=\"_blank\"><span style=\"color: #7f7f7f; text-decoration-color: #7f7f7f\">109</span></a>\n",
       "<span style=\"color: #7fbfbf; text-decoration-color: #7fbfbf\">                    </span>         <span style=\"color: #800080; text-decoration-color: #800080\">stats/</span><span style=\"color: #ff00ff; text-decoration-color: #ff00ff\">stattools.py</span>:<span style=\"color: #008080; text-decoration-color: #008080; font-weight: bold\">74</span>: ValueWarning: omni_normtest is not valid with   <span style=\"color: #7f7f7f; text-decoration-color: #7f7f7f\">               </span>\n",
       "<span style=\"color: #7fbfbf; text-decoration-color: #7fbfbf\">                    </span>         less than <span style=\"color: #008080; text-decoration-color: #008080; font-weight: bold\">8</span> observations; <span style=\"color: #008080; text-decoration-color: #008080; font-weight: bold\">5</span> samples were given.                        <span style=\"color: #7f7f7f; text-decoration-color: #7f7f7f\">               </span>\n",
       "<span style=\"color: #7fbfbf; text-decoration-color: #7fbfbf\">                    </span>           <span style=\"color: #800080; text-decoration-color: #800080; font-weight: bold\">warn</span><span style=\"font-weight: bold\">(</span><span style=\"color: #008000; text-decoration-color: #008000\">\"omni_normtest is not valid with less than 8 observations; %i \"</span> <span style=\"color: #7f7f7f; text-decoration-color: #7f7f7f\">               </span>\n",
       "<span style=\"color: #7fbfbf; text-decoration-color: #7fbfbf\">                    </span>                                                                                <span style=\"color: #7f7f7f; text-decoration-color: #7f7f7f\">               </span>\n",
       "</pre>\n"
      ],
      "text/plain": [
       "\u001b[2;36m                   \u001b[0m\u001b[2;36m \u001b[0m\u001b[31mWARNING \u001b[0m \u001b[35m/home/maa/anaconda3/envs/phd/lib/python3.10/site-packages/statsmodels/\u001b[0m \u001b]8;id=630102;file:///home/maa/anaconda3/envs/phd/lib/python3.10/warnings.py\u001b\\\u001b[2mwarnings.py\u001b[0m\u001b]8;;\u001b\\\u001b[2m:\u001b[0m\u001b]8;id=622676;file:///home/maa/anaconda3/envs/phd/lib/python3.10/warnings.py#109\u001b\\\u001b[2m109\u001b[0m\u001b]8;;\u001b\\\n",
       "\u001b[2;36m                    \u001b[0m         \u001b[35mstats/\u001b[0m\u001b[95mstattools.py\u001b[0m:\u001b[1;36m74\u001b[0m: ValueWarning: omni_normtest is not valid with   \u001b[2m               \u001b[0m\n",
       "\u001b[2;36m                    \u001b[0m         less than \u001b[1;36m8\u001b[0m observations; \u001b[1;36m5\u001b[0m samples were given.                        \u001b[2m               \u001b[0m\n",
       "\u001b[2;36m                    \u001b[0m           \u001b[1;35mwarn\u001b[0m\u001b[1m(\u001b[0m\u001b[32m\"omni_normtest is not valid with less than 8 observations; %i \"\u001b[0m \u001b[2m               \u001b[0m\n",
       "\u001b[2;36m                    \u001b[0m                                                                                \u001b[2m               \u001b[0m\n"
      ]
     },
     "metadata": {},
     "output_type": "display_data"
    },
    {
     "data": {
      "text/html": [
       "<pre style=\"white-space:pre;overflow-x:auto;line-height:normal;font-family:Menlo,'DejaVu Sans Mono',consolas,'Courier New',monospace\"><span style=\"color: #7fbfbf; text-decoration-color: #7fbfbf\">                    </span><span style=\"color: #000080; text-decoration-color: #000080\">INFO    </span>                         Results: Ordinary least squares                   <a href=\"file:///home/maa/dev/PHD/src/phd/pipelines/regression_VCT/nodes.py\" target=\"_blank\"><span style=\"color: #7f7f7f; text-decoration-color: #7f7f7f\">nodes.py</span></a><span style=\"color: #7f7f7f; text-decoration-color: #7f7f7f\">:</span><a href=\"file:///home/maa/dev/PHD/src/phd/pipelines/regression_VCT/nodes.py#551\" target=\"_blank\"><span style=\"color: #7f7f7f; text-decoration-color: #7f7f7f\">551</span></a>\n",
       "<span style=\"color: #7fbfbf; text-decoration-color: #7fbfbf\">                    </span>         ========================================================================= <span style=\"color: #7f7f7f; text-decoration-color: #7f7f7f\">            </span>\n",
       "<span style=\"color: #7fbfbf; text-decoration-color: #7fbfbf\">                    </span>         =======                                                                   <span style=\"color: #7f7f7f; text-decoration-color: #7f7f7f\">            </span>\n",
       "<span style=\"color: #7fbfbf; text-decoration-color: #7fbfbf\">                    </span>         Model:                  OLS              Adj. R-squared <span style=\"font-weight: bold\">(</span>uncentered<span style=\"font-weight: bold\">)</span>:     <span style=\"color: #7f7f7f; text-decoration-color: #7f7f7f\">            </span>\n",
       "<span style=\"color: #7fbfbf; text-decoration-color: #7fbfbf\">                    </span>         <span style=\"color: #008080; text-decoration-color: #008080; font-weight: bold\">0.999</span>                                                                     <span style=\"color: #7f7f7f; text-decoration-color: #7f7f7f\">            </span>\n",
       "<span style=\"color: #7fbfbf; text-decoration-color: #7fbfbf\">                    </span>         Dependent Variable:     Y_D              AIC:                             <span style=\"color: #7f7f7f; text-decoration-color: #7f7f7f\">            </span>\n",
       "<span style=\"color: #7fbfbf; text-decoration-color: #7fbfbf\">                    </span>         <span style=\"color: #008080; text-decoration-color: #008080; font-weight: bold\">-76.4356</span>                                                                  <span style=\"color: #7f7f7f; text-decoration-color: #7f7f7f\">            </span>\n",
       "<span style=\"color: #7fbfbf; text-decoration-color: #7fbfbf\">                    </span>         Date:                   <span style=\"color: #008080; text-decoration-color: #008080; font-weight: bold\">2024</span>-<span style=\"color: #008080; text-decoration-color: #008080; font-weight: bold\">01</span>-<span style=\"color: #008080; text-decoration-color: #008080; font-weight: bold\">10</span> <span style=\"color: #00ff00; text-decoration-color: #00ff00; font-weight: bold\">13:25</span> BIC:                             <span style=\"color: #7f7f7f; text-decoration-color: #7f7f7f\">            </span>\n",
       "<span style=\"color: #7fbfbf; text-decoration-color: #7fbfbf\">                    </span>         <span style=\"color: #008080; text-decoration-color: #008080; font-weight: bold\">-77.2167</span>                                                                  <span style=\"color: #7f7f7f; text-decoration-color: #7f7f7f\">            </span>\n",
       "<span style=\"color: #7fbfbf; text-decoration-color: #7fbfbf\">                    </span>         No. Observations:       <span style=\"color: #008080; text-decoration-color: #008080; font-weight: bold\">5</span>                Log-Likelihood:                  <span style=\"color: #7f7f7f; text-decoration-color: #7f7f7f\">            </span>\n",
       "<span style=\"color: #7fbfbf; text-decoration-color: #7fbfbf\">                    </span>         <span style=\"color: #008080; text-decoration-color: #008080; font-weight: bold\">40.218</span>                                                                    <span style=\"color: #7f7f7f; text-decoration-color: #7f7f7f\">            </span>\n",
       "<span style=\"color: #7fbfbf; text-decoration-color: #7fbfbf\">                    </span>         Df Model:               <span style=\"color: #008080; text-decoration-color: #008080; font-weight: bold\">2</span>                F-statistic:                     <span style=\"color: #7f7f7f; text-decoration-color: #7f7f7f\">            </span>\n",
       "<span style=\"color: #7fbfbf; text-decoration-color: #7fbfbf\">                    </span>         <span style=\"color: #008080; text-decoration-color: #008080; font-weight: bold\">2709</span>.                                                                     <span style=\"color: #7f7f7f; text-decoration-color: #7f7f7f\">            </span>\n",
       "<span style=\"color: #7fbfbf; text-decoration-color: #7fbfbf\">                    </span>         Df Residuals:           <span style=\"color: #008080; text-decoration-color: #008080; font-weight: bold\">3</span>                Prob <span style=\"font-weight: bold\">(</span>F-statistic<span style=\"font-weight: bold\">)</span>:              <span style=\"color: #7f7f7f; text-decoration-color: #7f7f7f\">            </span>\n",
       "<span style=\"color: #7fbfbf; text-decoration-color: #7fbfbf\">                    </span>         <span style=\"color: #008080; text-decoration-color: #008080; font-weight: bold\">1.30e-05</span>                                                                  <span style=\"color: #7f7f7f; text-decoration-color: #7f7f7f\">            </span>\n",
       "<span style=\"color: #7fbfbf; text-decoration-color: #7fbfbf\">                    </span>         R-squared <span style=\"font-weight: bold\">(</span>uncentered<span style=\"font-weight: bold\">)</span>: <span style=\"color: #008080; text-decoration-color: #008080; font-weight: bold\">0.999</span>            Scale:                           <span style=\"color: #7f7f7f; text-decoration-color: #7f7f7f\">            </span>\n",
       "<span style=\"color: #7fbfbf; text-decoration-color: #7fbfbf\">                    </span>         <span style=\"color: #008080; text-decoration-color: #008080; font-weight: bold\">1.0065e-08</span>                                                                <span style=\"color: #7f7f7f; text-decoration-color: #7f7f7f\">            </span>\n",
       "<span style=\"color: #7fbfbf; text-decoration-color: #7fbfbf\">                    </span>         ------------------------------------------------------------------------- <span style=\"color: #7f7f7f; text-decoration-color: #7f7f7f\">            </span>\n",
       "<span style=\"color: #7fbfbf; text-decoration-color: #7fbfbf\">                    </span>         ------------                                                              <span style=\"color: #7f7f7f; text-decoration-color: #7f7f7f\">            </span>\n",
       "<span style=\"color: #7fbfbf; text-decoration-color: #7fbfbf\">                    </span>                      Coef.       Std.Err.         t          P&gt;|t|        <span style=\"font-weight: bold\">[</span><span style=\"color: #008080; text-decoration-color: #008080; font-weight: bold\">0.025</span>  <span style=\"color: #7f7f7f; text-decoration-color: #7f7f7f\">            </span>\n",
       "<span style=\"color: #7fbfbf; text-decoration-color: #7fbfbf\">                    </span>         <span style=\"color: #008080; text-decoration-color: #008080; font-weight: bold\">0.975</span><span style=\"font-weight: bold\">]</span>                                                                    <span style=\"color: #7f7f7f; text-decoration-color: #7f7f7f\">            </span>\n",
       "<span style=\"color: #7fbfbf; text-decoration-color: #7fbfbf\">                    </span>         ------------------------------------------------------------------------- <span style=\"color: #7f7f7f; text-decoration-color: #7f7f7f\">            </span>\n",
       "<span style=\"color: #7fbfbf; text-decoration-color: #7fbfbf\">                    </span>         ------------                                                              <span style=\"color: #7f7f7f; text-decoration-color: #7f7f7f\">            </span>\n",
       "<span style=\"color: #7fbfbf; text-decoration-color: #7fbfbf\">                    </span>         Yv          <span style=\"color: #008080; text-decoration-color: #008080; font-weight: bold\">-0.0104</span>        <span style=\"color: #008080; text-decoration-color: #008080; font-weight: bold\">0.0006</span>      <span style=\"color: #008080; text-decoration-color: #008080; font-weight: bold\">-18.3205</span>      <span style=\"color: #008080; text-decoration-color: #008080; font-weight: bold\">0.0004</span>      <span style=\"color: #008080; text-decoration-color: #008080; font-weight: bold\">-0.0123</span>  <span style=\"color: #7f7f7f; text-decoration-color: #7f7f7f\">            </span>\n",
       "<span style=\"color: #7fbfbf; text-decoration-color: #7fbfbf\">                    </span>         <span style=\"color: #008080; text-decoration-color: #008080; font-weight: bold\">-0.0086</span>                                                                   <span style=\"color: #7f7f7f; text-decoration-color: #7f7f7f\">            </span>\n",
       "<span style=\"color: #7fbfbf; text-decoration-color: #7fbfbf\">                    </span>         Yvvv        <span style=\"color: #008080; text-decoration-color: #008080; font-weight: bold\">-0.0594</span>        <span style=\"color: #008080; text-decoration-color: #008080; font-weight: bold\">0.0061</span>       <span style=\"color: #008080; text-decoration-color: #008080; font-weight: bold\">-9.7471</span>      <span style=\"color: #008080; text-decoration-color: #008080; font-weight: bold\">0.0023</span>      <span style=\"color: #008080; text-decoration-color: #008080; font-weight: bold\">-0.0788</span>  <span style=\"color: #7f7f7f; text-decoration-color: #7f7f7f\">            </span>\n",
       "<span style=\"color: #7fbfbf; text-decoration-color: #7fbfbf\">                    </span>         <span style=\"color: #008080; text-decoration-color: #008080; font-weight: bold\">-0.0400</span>                                                                   <span style=\"color: #7f7f7f; text-decoration-color: #7f7f7f\">            </span>\n",
       "<span style=\"color: #7fbfbf; text-decoration-color: #7fbfbf\">                    </span>         ------------------------------------------------------------------------- <span style=\"color: #7f7f7f; text-decoration-color: #7f7f7f\">            </span>\n",
       "<span style=\"color: #7fbfbf; text-decoration-color: #7fbfbf\">                    </span>         -------                                                                   <span style=\"color: #7f7f7f; text-decoration-color: #7f7f7f\">            </span>\n",
       "<span style=\"color: #7fbfbf; text-decoration-color: #7fbfbf\">                    </span>         Omnibus:                   nan               Durbin-Watson:               <span style=\"color: #7f7f7f; text-decoration-color: #7f7f7f\">            </span>\n",
       "<span style=\"color: #7fbfbf; text-decoration-color: #7fbfbf\">                    </span>         <span style=\"color: #008080; text-decoration-color: #008080; font-weight: bold\">1.044</span>                                                                     <span style=\"color: #7f7f7f; text-decoration-color: #7f7f7f\">            </span>\n",
       "<span style=\"color: #7fbfbf; text-decoration-color: #7fbfbf\">                    </span>         <span style=\"color: #800080; text-decoration-color: #800080; font-weight: bold\">Prob</span><span style=\"font-weight: bold\">(</span>Omnibus<span style=\"font-weight: bold\">)</span>:             nan               Jarque-Bera <span style=\"font-weight: bold\">(</span>JB<span style=\"font-weight: bold\">)</span>:            <span style=\"color: #7f7f7f; text-decoration-color: #7f7f7f\">            </span>\n",
       "<span style=\"color: #7fbfbf; text-decoration-color: #7fbfbf\">                    </span>         <span style=\"color: #008080; text-decoration-color: #008080; font-weight: bold\">0.167</span>                                                                     <span style=\"color: #7f7f7f; text-decoration-color: #7f7f7f\">            </span>\n",
       "<span style=\"color: #7fbfbf; text-decoration-color: #7fbfbf\">                    </span>         Skew:                      <span style=\"color: #008080; text-decoration-color: #008080; font-weight: bold\">0.093</span>             <span style=\"color: #800080; text-decoration-color: #800080; font-weight: bold\">Prob</span><span style=\"font-weight: bold\">(</span>JB<span style=\"font-weight: bold\">)</span>:                    <span style=\"color: #7f7f7f; text-decoration-color: #7f7f7f\">            </span>\n",
       "<span style=\"color: #7fbfbf; text-decoration-color: #7fbfbf\">                    </span>         <span style=\"color: #008080; text-decoration-color: #008080; font-weight: bold\">0.920</span>                                                                     <span style=\"color: #7f7f7f; text-decoration-color: #7f7f7f\">            </span>\n",
       "<span style=\"color: #7fbfbf; text-decoration-color: #7fbfbf\">                    </span>         Kurtosis:                  <span style=\"color: #008080; text-decoration-color: #008080; font-weight: bold\">2.125</span>             Condition No.:               <span style=\"color: #7f7f7f; text-decoration-color: #7f7f7f\">            </span>\n",
       "<span style=\"color: #7fbfbf; text-decoration-color: #7fbfbf\">                    </span>         <span style=\"color: #008080; text-decoration-color: #008080; font-weight: bold\">29</span>                                                                        <span style=\"color: #7f7f7f; text-decoration-color: #7f7f7f\">            </span>\n",
       "<span style=\"color: #7fbfbf; text-decoration-color: #7fbfbf\">                    </span>         ========================================================================= <span style=\"color: #7f7f7f; text-decoration-color: #7f7f7f\">            </span>\n",
       "<span style=\"color: #7fbfbf; text-decoration-color: #7fbfbf\">                    </span>         =======                                                                   <span style=\"color: #7f7f7f; text-decoration-color: #7f7f7f\">            </span>\n",
       "<span style=\"color: #7fbfbf; text-decoration-color: #7fbfbf\">                    </span>                                                                                   <span style=\"color: #7f7f7f; text-decoration-color: #7f7f7f\">            </span>\n",
       "</pre>\n"
      ],
      "text/plain": [
       "\u001b[2;36m                   \u001b[0m\u001b[2;36m \u001b[0m\u001b[34mINFO    \u001b[0m                         Results: Ordinary least squares                   \u001b]8;id=131579;file:///home/maa/dev/PHD/src/phd/pipelines/regression_VCT/nodes.py\u001b\\\u001b[2mnodes.py\u001b[0m\u001b]8;;\u001b\\\u001b[2m:\u001b[0m\u001b]8;id=277431;file:///home/maa/dev/PHD/src/phd/pipelines/regression_VCT/nodes.py#551\u001b\\\u001b[2m551\u001b[0m\u001b]8;;\u001b\\\n",
       "\u001b[2;36m                    \u001b[0m         ========================================================================= \u001b[2m            \u001b[0m\n",
       "\u001b[2;36m                    \u001b[0m         =======                                                                   \u001b[2m            \u001b[0m\n",
       "\u001b[2;36m                    \u001b[0m         Model:                  OLS              Adj. R-squared \u001b[1m(\u001b[0muncentered\u001b[1m)\u001b[0m:     \u001b[2m            \u001b[0m\n",
       "\u001b[2;36m                    \u001b[0m         \u001b[1;36m0.999\u001b[0m                                                                     \u001b[2m            \u001b[0m\n",
       "\u001b[2;36m                    \u001b[0m         Dependent Variable:     Y_D              AIC:                             \u001b[2m            \u001b[0m\n",
       "\u001b[2;36m                    \u001b[0m         \u001b[1;36m-76.4356\u001b[0m                                                                  \u001b[2m            \u001b[0m\n",
       "\u001b[2;36m                    \u001b[0m         Date:                   \u001b[1;36m2024\u001b[0m-\u001b[1;36m01\u001b[0m-\u001b[1;36m10\u001b[0m \u001b[1;92m13:25\u001b[0m BIC:                             \u001b[2m            \u001b[0m\n",
       "\u001b[2;36m                    \u001b[0m         \u001b[1;36m-77.2167\u001b[0m                                                                  \u001b[2m            \u001b[0m\n",
       "\u001b[2;36m                    \u001b[0m         No. Observations:       \u001b[1;36m5\u001b[0m                Log-Likelihood:                  \u001b[2m            \u001b[0m\n",
       "\u001b[2;36m                    \u001b[0m         \u001b[1;36m40.218\u001b[0m                                                                    \u001b[2m            \u001b[0m\n",
       "\u001b[2;36m                    \u001b[0m         Df Model:               \u001b[1;36m2\u001b[0m                F-statistic:                     \u001b[2m            \u001b[0m\n",
       "\u001b[2;36m                    \u001b[0m         \u001b[1;36m2709\u001b[0m.                                                                     \u001b[2m            \u001b[0m\n",
       "\u001b[2;36m                    \u001b[0m         Df Residuals:           \u001b[1;36m3\u001b[0m                Prob \u001b[1m(\u001b[0mF-statistic\u001b[1m)\u001b[0m:              \u001b[2m            \u001b[0m\n",
       "\u001b[2;36m                    \u001b[0m         \u001b[1;36m1.30e-05\u001b[0m                                                                  \u001b[2m            \u001b[0m\n",
       "\u001b[2;36m                    \u001b[0m         R-squared \u001b[1m(\u001b[0muncentered\u001b[1m)\u001b[0m: \u001b[1;36m0.999\u001b[0m            Scale:                           \u001b[2m            \u001b[0m\n",
       "\u001b[2;36m                    \u001b[0m         \u001b[1;36m1.0065e-08\u001b[0m                                                                \u001b[2m            \u001b[0m\n",
       "\u001b[2;36m                    \u001b[0m         ------------------------------------------------------------------------- \u001b[2m            \u001b[0m\n",
       "\u001b[2;36m                    \u001b[0m         ------------                                                              \u001b[2m            \u001b[0m\n",
       "\u001b[2;36m                    \u001b[0m                      Coef.       Std.Err.         t          P>|t|        \u001b[1m[\u001b[0m\u001b[1;36m0.025\u001b[0m  \u001b[2m            \u001b[0m\n",
       "\u001b[2;36m                    \u001b[0m         \u001b[1;36m0.975\u001b[0m\u001b[1m]\u001b[0m                                                                    \u001b[2m            \u001b[0m\n",
       "\u001b[2;36m                    \u001b[0m         ------------------------------------------------------------------------- \u001b[2m            \u001b[0m\n",
       "\u001b[2;36m                    \u001b[0m         ------------                                                              \u001b[2m            \u001b[0m\n",
       "\u001b[2;36m                    \u001b[0m         Yv          \u001b[1;36m-0.0104\u001b[0m        \u001b[1;36m0.0006\u001b[0m      \u001b[1;36m-18.3205\u001b[0m      \u001b[1;36m0.0004\u001b[0m      \u001b[1;36m-0.0123\u001b[0m  \u001b[2m            \u001b[0m\n",
       "\u001b[2;36m                    \u001b[0m         \u001b[1;36m-0.0086\u001b[0m                                                                   \u001b[2m            \u001b[0m\n",
       "\u001b[2;36m                    \u001b[0m         Yvvv        \u001b[1;36m-0.0594\u001b[0m        \u001b[1;36m0.0061\u001b[0m       \u001b[1;36m-9.7471\u001b[0m      \u001b[1;36m0.0023\u001b[0m      \u001b[1;36m-0.0788\u001b[0m  \u001b[2m            \u001b[0m\n",
       "\u001b[2;36m                    \u001b[0m         \u001b[1;36m-0.0400\u001b[0m                                                                   \u001b[2m            \u001b[0m\n",
       "\u001b[2;36m                    \u001b[0m         ------------------------------------------------------------------------- \u001b[2m            \u001b[0m\n",
       "\u001b[2;36m                    \u001b[0m         -------                                                                   \u001b[2m            \u001b[0m\n",
       "\u001b[2;36m                    \u001b[0m         Omnibus:                   nan               Durbin-Watson:               \u001b[2m            \u001b[0m\n",
       "\u001b[2;36m                    \u001b[0m         \u001b[1;36m1.044\u001b[0m                                                                     \u001b[2m            \u001b[0m\n",
       "\u001b[2;36m                    \u001b[0m         \u001b[1;35mProb\u001b[0m\u001b[1m(\u001b[0mOmnibus\u001b[1m)\u001b[0m:             nan               Jarque-Bera \u001b[1m(\u001b[0mJB\u001b[1m)\u001b[0m:            \u001b[2m            \u001b[0m\n",
       "\u001b[2;36m                    \u001b[0m         \u001b[1;36m0.167\u001b[0m                                                                     \u001b[2m            \u001b[0m\n",
       "\u001b[2;36m                    \u001b[0m         Skew:                      \u001b[1;36m0.093\u001b[0m             \u001b[1;35mProb\u001b[0m\u001b[1m(\u001b[0mJB\u001b[1m)\u001b[0m:                    \u001b[2m            \u001b[0m\n",
       "\u001b[2;36m                    \u001b[0m         \u001b[1;36m0.920\u001b[0m                                                                     \u001b[2m            \u001b[0m\n",
       "\u001b[2;36m                    \u001b[0m         Kurtosis:                  \u001b[1;36m2.125\u001b[0m             Condition No.:               \u001b[2m            \u001b[0m\n",
       "\u001b[2;36m                    \u001b[0m         \u001b[1;36m29\u001b[0m                                                                        \u001b[2m            \u001b[0m\n",
       "\u001b[2;36m                    \u001b[0m         ========================================================================= \u001b[2m            \u001b[0m\n",
       "\u001b[2;36m                    \u001b[0m         =======                                                                   \u001b[2m            \u001b[0m\n",
       "\u001b[2;36m                    \u001b[0m                                                                                   \u001b[2m            \u001b[0m\n"
      ]
     },
     "metadata": {},
     "output_type": "display_data"
    },
    {
     "data": {
      "text/html": [
       "<pre style=\"white-space:pre;overflow-x:auto;line-height:normal;font-family:Menlo,'DejaVu Sans Mono',consolas,'Courier New',monospace\"><span style=\"color: #7fbfbf; text-decoration-color: #7fbfbf\">                    </span><span style=\"color: #000080; text-decoration-color: #000080\">INFO    </span> Regression:Drift angle mz                                                 <a href=\"file:///home/maa/dev/PHD/src/phd/pipelines/regression_VCT/nodes.py\" target=\"_blank\"><span style=\"color: #7f7f7f; text-decoration-color: #7f7f7f\">nodes.py</span></a><span style=\"color: #7f7f7f; text-decoration-color: #7f7f7f\">:</span><a href=\"file:///home/maa/dev/PHD/src/phd/pipelines/regression_VCT/nodes.py#549\" target=\"_blank\"><span style=\"color: #7f7f7f; text-decoration-color: #7f7f7f\">549</span></a>\n",
       "</pre>\n"
      ],
      "text/plain": [
       "\u001b[2;36m                   \u001b[0m\u001b[2;36m \u001b[0m\u001b[34mINFO    \u001b[0m Regression:Drift angle mz                                                 \u001b]8;id=749664;file:///home/maa/dev/PHD/src/phd/pipelines/regression_VCT/nodes.py\u001b\\\u001b[2mnodes.py\u001b[0m\u001b]8;;\u001b\\\u001b[2m:\u001b[0m\u001b]8;id=145160;file:///home/maa/dev/PHD/src/phd/pipelines/regression_VCT/nodes.py#549\u001b\\\u001b[2m549\u001b[0m\u001b]8;;\u001b\\\n"
      ]
     },
     "metadata": {},
     "output_type": "display_data"
    },
    {
     "data": {
      "text/html": [
       "<pre style=\"white-space:pre;overflow-x:auto;line-height:normal;font-family:Menlo,'DejaVu Sans Mono',consolas,'Courier New',monospace\"><span style=\"color: #7fbfbf; text-decoration-color: #7fbfbf\">                    </span><span style=\"color: #800000; text-decoration-color: #800000\">WARNING </span> <span style=\"color: #800080; text-decoration-color: #800080\">/home/maa/anaconda3/envs/phd/lib/python3.10/site-packages/statsmodels/</span> <a href=\"file:///home/maa/anaconda3/envs/phd/lib/python3.10/warnings.py\" target=\"_blank\"><span style=\"color: #7f7f7f; text-decoration-color: #7f7f7f\">warnings.py</span></a><span style=\"color: #7f7f7f; text-decoration-color: #7f7f7f\">:</span><a href=\"file:///home/maa/anaconda3/envs/phd/lib/python3.10/warnings.py#109\" target=\"_blank\"><span style=\"color: #7f7f7f; text-decoration-color: #7f7f7f\">109</span></a>\n",
       "<span style=\"color: #7fbfbf; text-decoration-color: #7fbfbf\">                    </span>         <span style=\"color: #800080; text-decoration-color: #800080\">stats/</span><span style=\"color: #ff00ff; text-decoration-color: #ff00ff\">stattools.py</span>:<span style=\"color: #008080; text-decoration-color: #008080; font-weight: bold\">74</span>: ValueWarning: omni_normtest is not valid with   <span style=\"color: #7f7f7f; text-decoration-color: #7f7f7f\">               </span>\n",
       "<span style=\"color: #7fbfbf; text-decoration-color: #7fbfbf\">                    </span>         less than <span style=\"color: #008080; text-decoration-color: #008080; font-weight: bold\">8</span> observations; <span style=\"color: #008080; text-decoration-color: #008080; font-weight: bold\">5</span> samples were given.                        <span style=\"color: #7f7f7f; text-decoration-color: #7f7f7f\">               </span>\n",
       "<span style=\"color: #7fbfbf; text-decoration-color: #7fbfbf\">                    </span>           <span style=\"color: #800080; text-decoration-color: #800080; font-weight: bold\">warn</span><span style=\"font-weight: bold\">(</span><span style=\"color: #008000; text-decoration-color: #008000\">\"omni_normtest is not valid with less than 8 observations; %i \"</span> <span style=\"color: #7f7f7f; text-decoration-color: #7f7f7f\">               </span>\n",
       "<span style=\"color: #7fbfbf; text-decoration-color: #7fbfbf\">                    </span>                                                                                <span style=\"color: #7f7f7f; text-decoration-color: #7f7f7f\">               </span>\n",
       "</pre>\n"
      ],
      "text/plain": [
       "\u001b[2;36m                   \u001b[0m\u001b[2;36m \u001b[0m\u001b[31mWARNING \u001b[0m \u001b[35m/home/maa/anaconda3/envs/phd/lib/python3.10/site-packages/statsmodels/\u001b[0m \u001b]8;id=729986;file:///home/maa/anaconda3/envs/phd/lib/python3.10/warnings.py\u001b\\\u001b[2mwarnings.py\u001b[0m\u001b]8;;\u001b\\\u001b[2m:\u001b[0m\u001b]8;id=939103;file:///home/maa/anaconda3/envs/phd/lib/python3.10/warnings.py#109\u001b\\\u001b[2m109\u001b[0m\u001b]8;;\u001b\\\n",
       "\u001b[2;36m                    \u001b[0m         \u001b[35mstats/\u001b[0m\u001b[95mstattools.py\u001b[0m:\u001b[1;36m74\u001b[0m: ValueWarning: omni_normtest is not valid with   \u001b[2m               \u001b[0m\n",
       "\u001b[2;36m                    \u001b[0m         less than \u001b[1;36m8\u001b[0m observations; \u001b[1;36m5\u001b[0m samples were given.                        \u001b[2m               \u001b[0m\n",
       "\u001b[2;36m                    \u001b[0m           \u001b[1;35mwarn\u001b[0m\u001b[1m(\u001b[0m\u001b[32m\"omni_normtest is not valid with less than 8 observations; %i \"\u001b[0m \u001b[2m               \u001b[0m\n",
       "\u001b[2;36m                    \u001b[0m                                                                                \u001b[2m               \u001b[0m\n"
      ]
     },
     "metadata": {},
     "output_type": "display_data"
    },
    {
     "data": {
      "text/html": [
       "<pre style=\"white-space:pre;overflow-x:auto;line-height:normal;font-family:Menlo,'DejaVu Sans Mono',consolas,'Courier New',monospace\"><span style=\"color: #7fbfbf; text-decoration-color: #7fbfbf\">                    </span><span style=\"color: #000080; text-decoration-color: #000080\">INFO    </span>                         Results: Ordinary least squares                   <a href=\"file:///home/maa/dev/PHD/src/phd/pipelines/regression_VCT/nodes.py\" target=\"_blank\"><span style=\"color: #7f7f7f; text-decoration-color: #7f7f7f\">nodes.py</span></a><span style=\"color: #7f7f7f; text-decoration-color: #7f7f7f\">:</span><a href=\"file:///home/maa/dev/PHD/src/phd/pipelines/regression_VCT/nodes.py#551\" target=\"_blank\"><span style=\"color: #7f7f7f; text-decoration-color: #7f7f7f\">551</span></a>\n",
       "<span style=\"color: #7fbfbf; text-decoration-color: #7fbfbf\">                    </span>         ========================================================================= <span style=\"color: #7f7f7f; text-decoration-color: #7f7f7f\">            </span>\n",
       "<span style=\"color: #7fbfbf; text-decoration-color: #7fbfbf\">                    </span>         =======                                                                   <span style=\"color: #7f7f7f; text-decoration-color: #7f7f7f\">            </span>\n",
       "<span style=\"color: #7fbfbf; text-decoration-color: #7fbfbf\">                    </span>         Model:                  OLS              Adj. R-squared <span style=\"font-weight: bold\">(</span>uncentered<span style=\"font-weight: bold\">)</span>:     <span style=\"color: #7f7f7f; text-decoration-color: #7f7f7f\">            </span>\n",
       "<span style=\"color: #7fbfbf; text-decoration-color: #7fbfbf\">                    </span>         <span style=\"color: #008080; text-decoration-color: #008080; font-weight: bold\">1.000</span>                                                                     <span style=\"color: #7f7f7f; text-decoration-color: #7f7f7f\">            </span>\n",
       "<span style=\"color: #7fbfbf; text-decoration-color: #7fbfbf\">                    </span>         Dependent Variable:     N_D              AIC:                             <span style=\"color: #7f7f7f; text-decoration-color: #7f7f7f\">            </span>\n",
       "<span style=\"color: #7fbfbf; text-decoration-color: #7fbfbf\">                    </span>         <span style=\"color: #008080; text-decoration-color: #008080; font-weight: bold\">-101.2225</span>                                                                 <span style=\"color: #7f7f7f; text-decoration-color: #7f7f7f\">            </span>\n",
       "<span style=\"color: #7fbfbf; text-decoration-color: #7fbfbf\">                    </span>         Date:                   <span style=\"color: #008080; text-decoration-color: #008080; font-weight: bold\">2024</span>-<span style=\"color: #008080; text-decoration-color: #008080; font-weight: bold\">01</span>-<span style=\"color: #008080; text-decoration-color: #008080; font-weight: bold\">10</span> <span style=\"color: #00ff00; text-decoration-color: #00ff00; font-weight: bold\">13:25</span> BIC:                             <span style=\"color: #7f7f7f; text-decoration-color: #7f7f7f\">            </span>\n",
       "<span style=\"color: #7fbfbf; text-decoration-color: #7fbfbf\">                    </span>         <span style=\"color: #008080; text-decoration-color: #008080; font-weight: bold\">-102.0036</span>                                                                 <span style=\"color: #7f7f7f; text-decoration-color: #7f7f7f\">            </span>\n",
       "<span style=\"color: #7fbfbf; text-decoration-color: #7fbfbf\">                    </span>         No. Observations:       <span style=\"color: #008080; text-decoration-color: #008080; font-weight: bold\">5</span>                Log-Likelihood:                  <span style=\"color: #7f7f7f; text-decoration-color: #7f7f7f\">            </span>\n",
       "<span style=\"color: #7fbfbf; text-decoration-color: #7fbfbf\">                    </span>         <span style=\"color: #008080; text-decoration-color: #008080; font-weight: bold\">52.611</span>                                                                    <span style=\"color: #7f7f7f; text-decoration-color: #7f7f7f\">            </span>\n",
       "<span style=\"color: #7fbfbf; text-decoration-color: #7fbfbf\">                    </span>         Df Model:               <span style=\"color: #008080; text-decoration-color: #008080; font-weight: bold\">2</span>                F-statistic:                     <span style=\"color: #7f7f7f; text-decoration-color: #7f7f7f\">            </span>\n",
       "<span style=\"color: #7fbfbf; text-decoration-color: #7fbfbf\">                    </span>         <span style=\"color: #008080; text-decoration-color: #008080; font-weight: bold\">5818</span>.                                                                     <span style=\"color: #7f7f7f; text-decoration-color: #7f7f7f\">            </span>\n",
       "<span style=\"color: #7fbfbf; text-decoration-color: #7fbfbf\">                    </span>         Df Residuals:           <span style=\"color: #008080; text-decoration-color: #008080; font-weight: bold\">3</span>                Prob <span style=\"font-weight: bold\">(</span>F-statistic<span style=\"font-weight: bold\">)</span>:              <span style=\"color: #7f7f7f; text-decoration-color: #7f7f7f\">            </span>\n",
       "<span style=\"color: #7fbfbf; text-decoration-color: #7fbfbf\">                    </span>         <span style=\"color: #008080; text-decoration-color: #008080; font-weight: bold\">4.14e-06</span>                                                                  <span style=\"color: #7f7f7f; text-decoration-color: #7f7f7f\">            </span>\n",
       "<span style=\"color: #7fbfbf; text-decoration-color: #7fbfbf\">                    </span>         R-squared <span style=\"font-weight: bold\">(</span>uncentered<span style=\"font-weight: bold\">)</span>: <span style=\"color: #008080; text-decoration-color: #008080; font-weight: bold\">1.000</span>            Scale:                           <span style=\"color: #7f7f7f; text-decoration-color: #7f7f7f\">            </span>\n",
       "<span style=\"color: #7fbfbf; text-decoration-color: #7fbfbf\">                    </span>         <span style=\"color: #008080; text-decoration-color: #008080; font-weight: bold\">7.0773e-11</span>                                                                <span style=\"color: #7f7f7f; text-decoration-color: #7f7f7f\">            </span>\n",
       "<span style=\"color: #7fbfbf; text-decoration-color: #7fbfbf\">                    </span>         ------------------------------------------------------------------------- <span style=\"color: #7f7f7f; text-decoration-color: #7f7f7f\">            </span>\n",
       "<span style=\"color: #7fbfbf; text-decoration-color: #7fbfbf\">                    </span>         ------------                                                              <span style=\"color: #7f7f7f; text-decoration-color: #7f7f7f\">            </span>\n",
       "<span style=\"color: #7fbfbf; text-decoration-color: #7fbfbf\">                    </span>                      Coef.       Std.Err.         t          P&gt;|t|        <span style=\"font-weight: bold\">[</span><span style=\"color: #008080; text-decoration-color: #008080; font-weight: bold\">0.025</span>  <span style=\"color: #7f7f7f; text-decoration-color: #7f7f7f\">            </span>\n",
       "<span style=\"color: #7fbfbf; text-decoration-color: #7fbfbf\">                    </span>         <span style=\"color: #008080; text-decoration-color: #008080; font-weight: bold\">0.975</span><span style=\"font-weight: bold\">]</span>                                                                    <span style=\"color: #7f7f7f; text-decoration-color: #7f7f7f\">            </span>\n",
       "<span style=\"color: #7fbfbf; text-decoration-color: #7fbfbf\">                    </span>         ------------------------------------------------------------------------- <span style=\"color: #7f7f7f; text-decoration-color: #7f7f7f\">            </span>\n",
       "<span style=\"color: #7fbfbf; text-decoration-color: #7fbfbf\">                    </span>         ------------                                                              <span style=\"color: #7f7f7f; text-decoration-color: #7f7f7f\">            </span>\n",
       "<span style=\"color: #7fbfbf; text-decoration-color: #7fbfbf\">                    </span>         Nvvv        <span style=\"color: #008080; text-decoration-color: #008080; font-weight: bold\">-0.0108</span>        <span style=\"color: #008080; text-decoration-color: #008080; font-weight: bold\">0.0005</span>      <span style=\"color: #008080; text-decoration-color: #008080; font-weight: bold\">-21.1040</span>      <span style=\"color: #008080; text-decoration-color: #008080; font-weight: bold\">0.0002</span>      <span style=\"color: #008080; text-decoration-color: #008080; font-weight: bold\">-0.0124</span>  <span style=\"color: #7f7f7f; text-decoration-color: #7f7f7f\">            </span>\n",
       "<span style=\"color: #7fbfbf; text-decoration-color: #7fbfbf\">                    </span>         <span style=\"color: #008080; text-decoration-color: #008080; font-weight: bold\">-0.0092</span>                                                                   <span style=\"color: #7f7f7f; text-decoration-color: #7f7f7f\">            </span>\n",
       "<span style=\"color: #7fbfbf; text-decoration-color: #7fbfbf\">                    </span>         Nv          <span style=\"color: #008080; text-decoration-color: #008080; font-weight: bold\">-0.0010</span>        <span style=\"color: #008080; text-decoration-color: #008080; font-weight: bold\">0.0000</span>      <span style=\"color: #008080; text-decoration-color: #008080; font-weight: bold\">-20.1011</span>      <span style=\"color: #008080; text-decoration-color: #008080; font-weight: bold\">0.0003</span>      <span style=\"color: #008080; text-decoration-color: #008080; font-weight: bold\">-0.0011</span>  <span style=\"color: #7f7f7f; text-decoration-color: #7f7f7f\">            </span>\n",
       "<span style=\"color: #7fbfbf; text-decoration-color: #7fbfbf\">                    </span>         <span style=\"color: #008080; text-decoration-color: #008080; font-weight: bold\">-0.0008</span>                                                                   <span style=\"color: #7f7f7f; text-decoration-color: #7f7f7f\">            </span>\n",
       "<span style=\"color: #7fbfbf; text-decoration-color: #7fbfbf\">                    </span>         ------------------------------------------------------------------------- <span style=\"color: #7f7f7f; text-decoration-color: #7f7f7f\">            </span>\n",
       "<span style=\"color: #7fbfbf; text-decoration-color: #7fbfbf\">                    </span>         -------                                                                   <span style=\"color: #7f7f7f; text-decoration-color: #7f7f7f\">            </span>\n",
       "<span style=\"color: #7fbfbf; text-decoration-color: #7fbfbf\">                    </span>         Omnibus:                   nan               Durbin-Watson:               <span style=\"color: #7f7f7f; text-decoration-color: #7f7f7f\">            </span>\n",
       "<span style=\"color: #7fbfbf; text-decoration-color: #7fbfbf\">                    </span>         <span style=\"color: #008080; text-decoration-color: #008080; font-weight: bold\">1.244</span>                                                                     <span style=\"color: #7f7f7f; text-decoration-color: #7f7f7f\">            </span>\n",
       "<span style=\"color: #7fbfbf; text-decoration-color: #7fbfbf\">                    </span>         <span style=\"color: #800080; text-decoration-color: #800080; font-weight: bold\">Prob</span><span style=\"font-weight: bold\">(</span>Omnibus<span style=\"font-weight: bold\">)</span>:             nan               Jarque-Bera <span style=\"font-weight: bold\">(</span>JB<span style=\"font-weight: bold\">)</span>:            <span style=\"color: #7f7f7f; text-decoration-color: #7f7f7f\">            </span>\n",
       "<span style=\"color: #7fbfbf; text-decoration-color: #7fbfbf\">                    </span>         <span style=\"color: #008080; text-decoration-color: #008080; font-weight: bold\">0.657</span>                                                                     <span style=\"color: #7f7f7f; text-decoration-color: #7f7f7f\">            </span>\n",
       "<span style=\"color: #7fbfbf; text-decoration-color: #7fbfbf\">                    </span>         Skew:                      <span style=\"color: #008080; text-decoration-color: #008080; font-weight: bold\">0.838</span>             <span style=\"color: #800080; text-decoration-color: #800080; font-weight: bold\">Prob</span><span style=\"font-weight: bold\">(</span>JB<span style=\"font-weight: bold\">)</span>:                    <span style=\"color: #7f7f7f; text-decoration-color: #7f7f7f\">            </span>\n",
       "<span style=\"color: #7fbfbf; text-decoration-color: #7fbfbf\">                    </span>         <span style=\"color: #008080; text-decoration-color: #008080; font-weight: bold\">0.720</span>                                                                     <span style=\"color: #7f7f7f; text-decoration-color: #7f7f7f\">            </span>\n",
       "<span style=\"color: #7fbfbf; text-decoration-color: #7fbfbf\">                    </span>         Kurtosis:                  <span style=\"color: #008080; text-decoration-color: #008080; font-weight: bold\">2.415</span>             Condition No.:               <span style=\"color: #7f7f7f; text-decoration-color: #7f7f7f\">            </span>\n",
       "<span style=\"color: #7fbfbf; text-decoration-color: #7fbfbf\">                    </span>         <span style=\"color: #008080; text-decoration-color: #008080; font-weight: bold\">29</span>                                                                        <span style=\"color: #7f7f7f; text-decoration-color: #7f7f7f\">            </span>\n",
       "<span style=\"color: #7fbfbf; text-decoration-color: #7fbfbf\">                    </span>         ========================================================================= <span style=\"color: #7f7f7f; text-decoration-color: #7f7f7f\">            </span>\n",
       "<span style=\"color: #7fbfbf; text-decoration-color: #7fbfbf\">                    </span>         =======                                                                   <span style=\"color: #7f7f7f; text-decoration-color: #7f7f7f\">            </span>\n",
       "<span style=\"color: #7fbfbf; text-decoration-color: #7fbfbf\">                    </span>                                                                                   <span style=\"color: #7f7f7f; text-decoration-color: #7f7f7f\">            </span>\n",
       "</pre>\n"
      ],
      "text/plain": [
       "\u001b[2;36m                   \u001b[0m\u001b[2;36m \u001b[0m\u001b[34mINFO    \u001b[0m                         Results: Ordinary least squares                   \u001b]8;id=671302;file:///home/maa/dev/PHD/src/phd/pipelines/regression_VCT/nodes.py\u001b\\\u001b[2mnodes.py\u001b[0m\u001b]8;;\u001b\\\u001b[2m:\u001b[0m\u001b]8;id=680968;file:///home/maa/dev/PHD/src/phd/pipelines/regression_VCT/nodes.py#551\u001b\\\u001b[2m551\u001b[0m\u001b]8;;\u001b\\\n",
       "\u001b[2;36m                    \u001b[0m         ========================================================================= \u001b[2m            \u001b[0m\n",
       "\u001b[2;36m                    \u001b[0m         =======                                                                   \u001b[2m            \u001b[0m\n",
       "\u001b[2;36m                    \u001b[0m         Model:                  OLS              Adj. R-squared \u001b[1m(\u001b[0muncentered\u001b[1m)\u001b[0m:     \u001b[2m            \u001b[0m\n",
       "\u001b[2;36m                    \u001b[0m         \u001b[1;36m1.000\u001b[0m                                                                     \u001b[2m            \u001b[0m\n",
       "\u001b[2;36m                    \u001b[0m         Dependent Variable:     N_D              AIC:                             \u001b[2m            \u001b[0m\n",
       "\u001b[2;36m                    \u001b[0m         \u001b[1;36m-101.2225\u001b[0m                                                                 \u001b[2m            \u001b[0m\n",
       "\u001b[2;36m                    \u001b[0m         Date:                   \u001b[1;36m2024\u001b[0m-\u001b[1;36m01\u001b[0m-\u001b[1;36m10\u001b[0m \u001b[1;92m13:25\u001b[0m BIC:                             \u001b[2m            \u001b[0m\n",
       "\u001b[2;36m                    \u001b[0m         \u001b[1;36m-102.0036\u001b[0m                                                                 \u001b[2m            \u001b[0m\n",
       "\u001b[2;36m                    \u001b[0m         No. Observations:       \u001b[1;36m5\u001b[0m                Log-Likelihood:                  \u001b[2m            \u001b[0m\n",
       "\u001b[2;36m                    \u001b[0m         \u001b[1;36m52.611\u001b[0m                                                                    \u001b[2m            \u001b[0m\n",
       "\u001b[2;36m                    \u001b[0m         Df Model:               \u001b[1;36m2\u001b[0m                F-statistic:                     \u001b[2m            \u001b[0m\n",
       "\u001b[2;36m                    \u001b[0m         \u001b[1;36m5818\u001b[0m.                                                                     \u001b[2m            \u001b[0m\n",
       "\u001b[2;36m                    \u001b[0m         Df Residuals:           \u001b[1;36m3\u001b[0m                Prob \u001b[1m(\u001b[0mF-statistic\u001b[1m)\u001b[0m:              \u001b[2m            \u001b[0m\n",
       "\u001b[2;36m                    \u001b[0m         \u001b[1;36m4.14e-06\u001b[0m                                                                  \u001b[2m            \u001b[0m\n",
       "\u001b[2;36m                    \u001b[0m         R-squared \u001b[1m(\u001b[0muncentered\u001b[1m)\u001b[0m: \u001b[1;36m1.000\u001b[0m            Scale:                           \u001b[2m            \u001b[0m\n",
       "\u001b[2;36m                    \u001b[0m         \u001b[1;36m7.0773e-11\u001b[0m                                                                \u001b[2m            \u001b[0m\n",
       "\u001b[2;36m                    \u001b[0m         ------------------------------------------------------------------------- \u001b[2m            \u001b[0m\n",
       "\u001b[2;36m                    \u001b[0m         ------------                                                              \u001b[2m            \u001b[0m\n",
       "\u001b[2;36m                    \u001b[0m                      Coef.       Std.Err.         t          P>|t|        \u001b[1m[\u001b[0m\u001b[1;36m0.025\u001b[0m  \u001b[2m            \u001b[0m\n",
       "\u001b[2;36m                    \u001b[0m         \u001b[1;36m0.975\u001b[0m\u001b[1m]\u001b[0m                                                                    \u001b[2m            \u001b[0m\n",
       "\u001b[2;36m                    \u001b[0m         ------------------------------------------------------------------------- \u001b[2m            \u001b[0m\n",
       "\u001b[2;36m                    \u001b[0m         ------------                                                              \u001b[2m            \u001b[0m\n",
       "\u001b[2;36m                    \u001b[0m         Nvvv        \u001b[1;36m-0.0108\u001b[0m        \u001b[1;36m0.0005\u001b[0m      \u001b[1;36m-21.1040\u001b[0m      \u001b[1;36m0.0002\u001b[0m      \u001b[1;36m-0.0124\u001b[0m  \u001b[2m            \u001b[0m\n",
       "\u001b[2;36m                    \u001b[0m         \u001b[1;36m-0.0092\u001b[0m                                                                   \u001b[2m            \u001b[0m\n",
       "\u001b[2;36m                    \u001b[0m         Nv          \u001b[1;36m-0.0010\u001b[0m        \u001b[1;36m0.0000\u001b[0m      \u001b[1;36m-20.1011\u001b[0m      \u001b[1;36m0.0003\u001b[0m      \u001b[1;36m-0.0011\u001b[0m  \u001b[2m            \u001b[0m\n",
       "\u001b[2;36m                    \u001b[0m         \u001b[1;36m-0.0008\u001b[0m                                                                   \u001b[2m            \u001b[0m\n",
       "\u001b[2;36m                    \u001b[0m         ------------------------------------------------------------------------- \u001b[2m            \u001b[0m\n",
       "\u001b[2;36m                    \u001b[0m         -------                                                                   \u001b[2m            \u001b[0m\n",
       "\u001b[2;36m                    \u001b[0m         Omnibus:                   nan               Durbin-Watson:               \u001b[2m            \u001b[0m\n",
       "\u001b[2;36m                    \u001b[0m         \u001b[1;36m1.244\u001b[0m                                                                     \u001b[2m            \u001b[0m\n",
       "\u001b[2;36m                    \u001b[0m         \u001b[1;35mProb\u001b[0m\u001b[1m(\u001b[0mOmnibus\u001b[1m)\u001b[0m:             nan               Jarque-Bera \u001b[1m(\u001b[0mJB\u001b[1m)\u001b[0m:            \u001b[2m            \u001b[0m\n",
       "\u001b[2;36m                    \u001b[0m         \u001b[1;36m0.657\u001b[0m                                                                     \u001b[2m            \u001b[0m\n",
       "\u001b[2;36m                    \u001b[0m         Skew:                      \u001b[1;36m0.838\u001b[0m             \u001b[1;35mProb\u001b[0m\u001b[1m(\u001b[0mJB\u001b[1m)\u001b[0m:                    \u001b[2m            \u001b[0m\n",
       "\u001b[2;36m                    \u001b[0m         \u001b[1;36m0.720\u001b[0m                                                                     \u001b[2m            \u001b[0m\n",
       "\u001b[2;36m                    \u001b[0m         Kurtosis:                  \u001b[1;36m2.415\u001b[0m             Condition No.:               \u001b[2m            \u001b[0m\n",
       "\u001b[2;36m                    \u001b[0m         \u001b[1;36m29\u001b[0m                                                                        \u001b[2m            \u001b[0m\n",
       "\u001b[2;36m                    \u001b[0m         ========================================================================= \u001b[2m            \u001b[0m\n",
       "\u001b[2;36m                    \u001b[0m         =======                                                                   \u001b[2m            \u001b[0m\n",
       "\u001b[2;36m                    \u001b[0m                                                                                   \u001b[2m            \u001b[0m\n"
      ]
     },
     "metadata": {},
     "output_type": "display_data"
    },
    {
     "data": {
      "text/html": [
       "<pre style=\"white-space:pre;overflow-x:auto;line-height:normal;font-family:Menlo,'DejaVu Sans Mono',consolas,'Courier New',monospace\"><span style=\"color: #7fbfbf; text-decoration-color: #7fbfbf\">                    </span><span style=\"color: #000080; text-decoration-color: #000080\">INFO    </span> Regression:Circle fx                                                      <a href=\"file:///home/maa/dev/PHD/src/phd/pipelines/regression_VCT/nodes.py\" target=\"_blank\"><span style=\"color: #7f7f7f; text-decoration-color: #7f7f7f\">nodes.py</span></a><span style=\"color: #7f7f7f; text-decoration-color: #7f7f7f\">:</span><a href=\"file:///home/maa/dev/PHD/src/phd/pipelines/regression_VCT/nodes.py#549\" target=\"_blank\"><span style=\"color: #7f7f7f; text-decoration-color: #7f7f7f\">549</span></a>\n",
       "</pre>\n"
      ],
      "text/plain": [
       "\u001b[2;36m                   \u001b[0m\u001b[2;36m \u001b[0m\u001b[34mINFO    \u001b[0m Regression:Circle fx                                                      \u001b]8;id=122168;file:///home/maa/dev/PHD/src/phd/pipelines/regression_VCT/nodes.py\u001b\\\u001b[2mnodes.py\u001b[0m\u001b]8;;\u001b\\\u001b[2m:\u001b[0m\u001b]8;id=200767;file:///home/maa/dev/PHD/src/phd/pipelines/regression_VCT/nodes.py#549\u001b\\\u001b[2m549\u001b[0m\u001b]8;;\u001b\\\n"
      ]
     },
     "metadata": {},
     "output_type": "display_data"
    },
    {
     "data": {
      "text/html": [
       "<pre style=\"white-space:pre;overflow-x:auto;line-height:normal;font-family:Menlo,'DejaVu Sans Mono',consolas,'Courier New',monospace\"><span style=\"color: #7fbfbf; text-decoration-color: #7fbfbf\">                    </span><span style=\"color: #800000; text-decoration-color: #800000\">WARNING </span> <span style=\"color: #800080; text-decoration-color: #800080\">/home/maa/anaconda3/envs/phd/lib/python3.10/site-packages/statsmodels/</span> <a href=\"file:///home/maa/anaconda3/envs/phd/lib/python3.10/warnings.py\" target=\"_blank\"><span style=\"color: #7f7f7f; text-decoration-color: #7f7f7f\">warnings.py</span></a><span style=\"color: #7f7f7f; text-decoration-color: #7f7f7f\">:</span><a href=\"file:///home/maa/anaconda3/envs/phd/lib/python3.10/warnings.py#109\" target=\"_blank\"><span style=\"color: #7f7f7f; text-decoration-color: #7f7f7f\">109</span></a>\n",
       "<span style=\"color: #7fbfbf; text-decoration-color: #7fbfbf\">                    </span>         <span style=\"color: #800080; text-decoration-color: #800080\">stats/</span><span style=\"color: #ff00ff; text-decoration-color: #ff00ff\">stattools.py</span>:<span style=\"color: #008080; text-decoration-color: #008080; font-weight: bold\">74</span>: ValueWarning: omni_normtest is not valid with   <span style=\"color: #7f7f7f; text-decoration-color: #7f7f7f\">               </span>\n",
       "<span style=\"color: #7fbfbf; text-decoration-color: #7fbfbf\">                    </span>         less than <span style=\"color: #008080; text-decoration-color: #008080; font-weight: bold\">8</span> observations; <span style=\"color: #008080; text-decoration-color: #008080; font-weight: bold\">5</span> samples were given.                        <span style=\"color: #7f7f7f; text-decoration-color: #7f7f7f\">               </span>\n",
       "<span style=\"color: #7fbfbf; text-decoration-color: #7fbfbf\">                    </span>           <span style=\"color: #800080; text-decoration-color: #800080; font-weight: bold\">warn</span><span style=\"font-weight: bold\">(</span><span style=\"color: #008000; text-decoration-color: #008000\">\"omni_normtest is not valid with less than 8 observations; %i \"</span> <span style=\"color: #7f7f7f; text-decoration-color: #7f7f7f\">               </span>\n",
       "<span style=\"color: #7fbfbf; text-decoration-color: #7fbfbf\">                    </span>                                                                                <span style=\"color: #7f7f7f; text-decoration-color: #7f7f7f\">               </span>\n",
       "</pre>\n"
      ],
      "text/plain": [
       "\u001b[2;36m                   \u001b[0m\u001b[2;36m \u001b[0m\u001b[31mWARNING \u001b[0m \u001b[35m/home/maa/anaconda3/envs/phd/lib/python3.10/site-packages/statsmodels/\u001b[0m \u001b]8;id=504686;file:///home/maa/anaconda3/envs/phd/lib/python3.10/warnings.py\u001b\\\u001b[2mwarnings.py\u001b[0m\u001b]8;;\u001b\\\u001b[2m:\u001b[0m\u001b]8;id=628794;file:///home/maa/anaconda3/envs/phd/lib/python3.10/warnings.py#109\u001b\\\u001b[2m109\u001b[0m\u001b]8;;\u001b\\\n",
       "\u001b[2;36m                    \u001b[0m         \u001b[35mstats/\u001b[0m\u001b[95mstattools.py\u001b[0m:\u001b[1;36m74\u001b[0m: ValueWarning: omni_normtest is not valid with   \u001b[2m               \u001b[0m\n",
       "\u001b[2;36m                    \u001b[0m         less than \u001b[1;36m8\u001b[0m observations; \u001b[1;36m5\u001b[0m samples were given.                        \u001b[2m               \u001b[0m\n",
       "\u001b[2;36m                    \u001b[0m           \u001b[1;35mwarn\u001b[0m\u001b[1m(\u001b[0m\u001b[32m\"omni_normtest is not valid with less than 8 observations; %i \"\u001b[0m \u001b[2m               \u001b[0m\n",
       "\u001b[2;36m                    \u001b[0m                                                                                \u001b[2m               \u001b[0m\n"
      ]
     },
     "metadata": {},
     "output_type": "display_data"
    },
    {
     "data": {
      "text/html": [
       "<pre style=\"white-space:pre;overflow-x:auto;line-height:normal;font-family:Menlo,'DejaVu Sans Mono',consolas,'Courier New',monospace\"><span style=\"color: #7fbfbf; text-decoration-color: #7fbfbf\">                    </span><span style=\"color: #000080; text-decoration-color: #000080\">INFO    </span>                   Results: Ordinary least squares                         <a href=\"file:///home/maa/dev/PHD/src/phd/pipelines/regression_VCT/nodes.py\" target=\"_blank\"><span style=\"color: #7f7f7f; text-decoration-color: #7f7f7f\">nodes.py</span></a><span style=\"color: #7f7f7f; text-decoration-color: #7f7f7f\">:</span><a href=\"file:///home/maa/dev/PHD/src/phd/pipelines/regression_VCT/nodes.py#551\" target=\"_blank\"><span style=\"color: #7f7f7f; text-decoration-color: #7f7f7f\">551</span></a>\n",
       "<span style=\"color: #7fbfbf; text-decoration-color: #7fbfbf\">                    </span>         ===================================================================       <span style=\"color: #7f7f7f; text-decoration-color: #7f7f7f\">            </span>\n",
       "<span style=\"color: #7fbfbf; text-decoration-color: #7fbfbf\">                    </span>         Model:              OLS              Adj. R-squared:     <span style=\"color: #008080; text-decoration-color: #008080; font-weight: bold\">0.530</span>            <span style=\"color: #7f7f7f; text-decoration-color: #7f7f7f\">            </span>\n",
       "<span style=\"color: #7fbfbf; text-decoration-color: #7fbfbf\">                    </span>         Dependent Variable: X_D              AIC:                <span style=\"color: #008080; text-decoration-color: #008080; font-weight: bold\">-85.8481</span>         <span style=\"color: #7f7f7f; text-decoration-color: #7f7f7f\">            </span>\n",
       "<span style=\"color: #7fbfbf; text-decoration-color: #7fbfbf\">                    </span>         Date:               <span style=\"color: #008080; text-decoration-color: #008080; font-weight: bold\">2024</span>-<span style=\"color: #008080; text-decoration-color: #008080; font-weight: bold\">01</span>-<span style=\"color: #008080; text-decoration-color: #008080; font-weight: bold\">10</span> <span style=\"color: #00ff00; text-decoration-color: #00ff00; font-weight: bold\">13:25</span> BIC:                <span style=\"color: #008080; text-decoration-color: #008080; font-weight: bold\">-86.6292</span>         <span style=\"color: #7f7f7f; text-decoration-color: #7f7f7f\">            </span>\n",
       "<span style=\"color: #7fbfbf; text-decoration-color: #7fbfbf\">                    </span>         No. Observations:   <span style=\"color: #008080; text-decoration-color: #008080; font-weight: bold\">5</span>                Log-Likelihood:     <span style=\"color: #008080; text-decoration-color: #008080; font-weight: bold\">44.924</span>           <span style=\"color: #7f7f7f; text-decoration-color: #7f7f7f\">            </span>\n",
       "<span style=\"color: #7fbfbf; text-decoration-color: #7fbfbf\">                    </span>         Df Model:           <span style=\"color: #008080; text-decoration-color: #008080; font-weight: bold\">1</span>                F-statistic:        <span style=\"color: #008080; text-decoration-color: #008080; font-weight: bold\">5.508</span>            <span style=\"color: #7f7f7f; text-decoration-color: #7f7f7f\">            </span>\n",
       "<span style=\"color: #7fbfbf; text-decoration-color: #7fbfbf\">                    </span>         Df Residuals:       <span style=\"color: #008080; text-decoration-color: #008080; font-weight: bold\">3</span>                Prob <span style=\"font-weight: bold\">(</span>F-statistic<span style=\"font-weight: bold\">)</span>: <span style=\"color: #008080; text-decoration-color: #008080; font-weight: bold\">0.101</span>            <span style=\"color: #7f7f7f; text-decoration-color: #7f7f7f\">            </span>\n",
       "<span style=\"color: #7fbfbf; text-decoration-color: #7fbfbf\">                    </span>         R-squared:          <span style=\"color: #008080; text-decoration-color: #008080; font-weight: bold\">0.647</span>            Scale:              <span style=\"color: #008080; text-decoration-color: #008080; font-weight: bold\">1.5320e-09</span>       <span style=\"color: #7f7f7f; text-decoration-color: #7f7f7f\">            </span>\n",
       "<span style=\"color: #7fbfbf; text-decoration-color: #7fbfbf\">                    </span>         ----------------------------------------------------------------------    <span style=\"color: #7f7f7f; text-decoration-color: #7f7f7f\">            </span>\n",
       "<span style=\"color: #7fbfbf; text-decoration-color: #7fbfbf\">                    </span>                   Coef.     Std.Err.       t       P&gt;|t|      <span style=\"font-weight: bold\">[</span><span style=\"color: #008080; text-decoration-color: #008080; font-weight: bold\">0.025</span>    <span style=\"color: #008080; text-decoration-color: #008080; font-weight: bold\">0.975</span><span style=\"font-weight: bold\">]</span>    <span style=\"color: #7f7f7f; text-decoration-color: #7f7f7f\">            </span>\n",
       "<span style=\"color: #7fbfbf; text-decoration-color: #7fbfbf\">                    </span>         ----------------------------------------------------------------------    <span style=\"color: #7f7f7f; text-decoration-color: #7f7f7f\">            </span>\n",
       "<span style=\"color: #7fbfbf; text-decoration-color: #7fbfbf\">                    </span>         Xrr      <span style=\"color: #008080; text-decoration-color: #008080; font-weight: bold\">-0.0003</span>      <span style=\"color: #008080; text-decoration-color: #008080; font-weight: bold\">0.0001</span>    <span style=\"color: #008080; text-decoration-color: #008080; font-weight: bold\">-2.3468</span>    <span style=\"color: #008080; text-decoration-color: #008080; font-weight: bold\">0.1006</span>    <span style=\"color: #008080; text-decoration-color: #008080; font-weight: bold\">-0.0006</span>    <span style=\"color: #008080; text-decoration-color: #008080; font-weight: bold\">0.0001</span>    <span style=\"color: #7f7f7f; text-decoration-color: #7f7f7f\">            </span>\n",
       "<span style=\"color: #7fbfbf; text-decoration-color: #7fbfbf\">                    </span>         const     <span style=\"color: #008080; text-decoration-color: #008080; font-weight: bold\">0.0000</span>      <span style=\"color: #008080; text-decoration-color: #008080; font-weight: bold\">0.0000</span>     <span style=\"color: #008080; text-decoration-color: #008080; font-weight: bold\">0.9626</span>    <span style=\"color: #008080; text-decoration-color: #008080; font-weight: bold\">0.4068</span>    <span style=\"color: #008080; text-decoration-color: #008080; font-weight: bold\">-0.0001</span>    <span style=\"color: #008080; text-decoration-color: #008080; font-weight: bold\">0.0001</span>    <span style=\"color: #7f7f7f; text-decoration-color: #7f7f7f\">            </span>\n",
       "<span style=\"color: #7fbfbf; text-decoration-color: #7fbfbf\">                    </span>         -------------------------------------------------------------------       <span style=\"color: #7f7f7f; text-decoration-color: #7f7f7f\">            </span>\n",
       "<span style=\"color: #7fbfbf; text-decoration-color: #7fbfbf\">                    </span>         Omnibus:                nan          Durbin-Watson:           <span style=\"color: #008080; text-decoration-color: #008080; font-weight: bold\">2.057</span>       <span style=\"color: #7f7f7f; text-decoration-color: #7f7f7f\">            </span>\n",
       "<span style=\"color: #7fbfbf; text-decoration-color: #7fbfbf\">                    </span>         <span style=\"color: #800080; text-decoration-color: #800080; font-weight: bold\">Prob</span><span style=\"font-weight: bold\">(</span>Omnibus<span style=\"font-weight: bold\">)</span>:          nan          Jarque-Bera <span style=\"font-weight: bold\">(</span>JB<span style=\"font-weight: bold\">)</span>:        <span style=\"color: #008080; text-decoration-color: #008080; font-weight: bold\">0.500</span>       <span style=\"color: #7f7f7f; text-decoration-color: #7f7f7f\">            </span>\n",
       "<span style=\"color: #7fbfbf; text-decoration-color: #7fbfbf\">                    </span>         Skew:                   <span style=\"color: #008080; text-decoration-color: #008080; font-weight: bold\">0.637</span>        <span style=\"color: #800080; text-decoration-color: #800080; font-weight: bold\">Prob</span><span style=\"font-weight: bold\">(</span>JB<span style=\"font-weight: bold\">)</span>:                <span style=\"color: #008080; text-decoration-color: #008080; font-weight: bold\">0.779</span>       <span style=\"color: #7f7f7f; text-decoration-color: #7f7f7f\">            </span>\n",
       "<span style=\"color: #7fbfbf; text-decoration-color: #7fbfbf\">                    </span>         Kurtosis:               <span style=\"color: #008080; text-decoration-color: #008080; font-weight: bold\">2.117</span>        Condition No.:           <span style=\"color: #008080; text-decoration-color: #008080; font-weight: bold\">7</span>           <span style=\"color: #7f7f7f; text-decoration-color: #7f7f7f\">            </span>\n",
       "<span style=\"color: #7fbfbf; text-decoration-color: #7fbfbf\">                    </span>         ===================================================================       <span style=\"color: #7f7f7f; text-decoration-color: #7f7f7f\">            </span>\n",
       "<span style=\"color: #7fbfbf; text-decoration-color: #7fbfbf\">                    </span>                                                                                   <span style=\"color: #7f7f7f; text-decoration-color: #7f7f7f\">            </span>\n",
       "</pre>\n"
      ],
      "text/plain": [
       "\u001b[2;36m                   \u001b[0m\u001b[2;36m \u001b[0m\u001b[34mINFO    \u001b[0m                   Results: Ordinary least squares                         \u001b]8;id=112610;file:///home/maa/dev/PHD/src/phd/pipelines/regression_VCT/nodes.py\u001b\\\u001b[2mnodes.py\u001b[0m\u001b]8;;\u001b\\\u001b[2m:\u001b[0m\u001b]8;id=986312;file:///home/maa/dev/PHD/src/phd/pipelines/regression_VCT/nodes.py#551\u001b\\\u001b[2m551\u001b[0m\u001b]8;;\u001b\\\n",
       "\u001b[2;36m                    \u001b[0m         ===================================================================       \u001b[2m            \u001b[0m\n",
       "\u001b[2;36m                    \u001b[0m         Model:              OLS              Adj. R-squared:     \u001b[1;36m0.530\u001b[0m            \u001b[2m            \u001b[0m\n",
       "\u001b[2;36m                    \u001b[0m         Dependent Variable: X_D              AIC:                \u001b[1;36m-85.8481\u001b[0m         \u001b[2m            \u001b[0m\n",
       "\u001b[2;36m                    \u001b[0m         Date:               \u001b[1;36m2024\u001b[0m-\u001b[1;36m01\u001b[0m-\u001b[1;36m10\u001b[0m \u001b[1;92m13:25\u001b[0m BIC:                \u001b[1;36m-86.6292\u001b[0m         \u001b[2m            \u001b[0m\n",
       "\u001b[2;36m                    \u001b[0m         No. Observations:   \u001b[1;36m5\u001b[0m                Log-Likelihood:     \u001b[1;36m44.924\u001b[0m           \u001b[2m            \u001b[0m\n",
       "\u001b[2;36m                    \u001b[0m         Df Model:           \u001b[1;36m1\u001b[0m                F-statistic:        \u001b[1;36m5.508\u001b[0m            \u001b[2m            \u001b[0m\n",
       "\u001b[2;36m                    \u001b[0m         Df Residuals:       \u001b[1;36m3\u001b[0m                Prob \u001b[1m(\u001b[0mF-statistic\u001b[1m)\u001b[0m: \u001b[1;36m0.101\u001b[0m            \u001b[2m            \u001b[0m\n",
       "\u001b[2;36m                    \u001b[0m         R-squared:          \u001b[1;36m0.647\u001b[0m            Scale:              \u001b[1;36m1.5320e-09\u001b[0m       \u001b[2m            \u001b[0m\n",
       "\u001b[2;36m                    \u001b[0m         ----------------------------------------------------------------------    \u001b[2m            \u001b[0m\n",
       "\u001b[2;36m                    \u001b[0m                   Coef.     Std.Err.       t       P>|t|      \u001b[1m[\u001b[0m\u001b[1;36m0.025\u001b[0m    \u001b[1;36m0.975\u001b[0m\u001b[1m]\u001b[0m    \u001b[2m            \u001b[0m\n",
       "\u001b[2;36m                    \u001b[0m         ----------------------------------------------------------------------    \u001b[2m            \u001b[0m\n",
       "\u001b[2;36m                    \u001b[0m         Xrr      \u001b[1;36m-0.0003\u001b[0m      \u001b[1;36m0.0001\u001b[0m    \u001b[1;36m-2.3468\u001b[0m    \u001b[1;36m0.1006\u001b[0m    \u001b[1;36m-0.0006\u001b[0m    \u001b[1;36m0.0001\u001b[0m    \u001b[2m            \u001b[0m\n",
       "\u001b[2;36m                    \u001b[0m         const     \u001b[1;36m0.0000\u001b[0m      \u001b[1;36m0.0000\u001b[0m     \u001b[1;36m0.9626\u001b[0m    \u001b[1;36m0.4068\u001b[0m    \u001b[1;36m-0.0001\u001b[0m    \u001b[1;36m0.0001\u001b[0m    \u001b[2m            \u001b[0m\n",
       "\u001b[2;36m                    \u001b[0m         -------------------------------------------------------------------       \u001b[2m            \u001b[0m\n",
       "\u001b[2;36m                    \u001b[0m         Omnibus:                nan          Durbin-Watson:           \u001b[1;36m2.057\u001b[0m       \u001b[2m            \u001b[0m\n",
       "\u001b[2;36m                    \u001b[0m         \u001b[1;35mProb\u001b[0m\u001b[1m(\u001b[0mOmnibus\u001b[1m)\u001b[0m:          nan          Jarque-Bera \u001b[1m(\u001b[0mJB\u001b[1m)\u001b[0m:        \u001b[1;36m0.500\u001b[0m       \u001b[2m            \u001b[0m\n",
       "\u001b[2;36m                    \u001b[0m         Skew:                   \u001b[1;36m0.637\u001b[0m        \u001b[1;35mProb\u001b[0m\u001b[1m(\u001b[0mJB\u001b[1m)\u001b[0m:                \u001b[1;36m0.779\u001b[0m       \u001b[2m            \u001b[0m\n",
       "\u001b[2;36m                    \u001b[0m         Kurtosis:               \u001b[1;36m2.117\u001b[0m        Condition No.:           \u001b[1;36m7\u001b[0m           \u001b[2m            \u001b[0m\n",
       "\u001b[2;36m                    \u001b[0m         ===================================================================       \u001b[2m            \u001b[0m\n",
       "\u001b[2;36m                    \u001b[0m                                                                                   \u001b[2m            \u001b[0m\n"
      ]
     },
     "metadata": {},
     "output_type": "display_data"
    },
    {
     "data": {
      "text/html": [
       "<pre style=\"white-space:pre;overflow-x:auto;line-height:normal;font-family:Menlo,'DejaVu Sans Mono',consolas,'Courier New',monospace\"><span style=\"color: #7fbfbf; text-decoration-color: #7fbfbf\">                    </span><span style=\"color: #000080; text-decoration-color: #000080\">INFO    </span> Regression:Circle fy                                                      <a href=\"file:///home/maa/dev/PHD/src/phd/pipelines/regression_VCT/nodes.py\" target=\"_blank\"><span style=\"color: #7f7f7f; text-decoration-color: #7f7f7f\">nodes.py</span></a><span style=\"color: #7f7f7f; text-decoration-color: #7f7f7f\">:</span><a href=\"file:///home/maa/dev/PHD/src/phd/pipelines/regression_VCT/nodes.py#549\" target=\"_blank\"><span style=\"color: #7f7f7f; text-decoration-color: #7f7f7f\">549</span></a>\n",
       "</pre>\n"
      ],
      "text/plain": [
       "\u001b[2;36m                   \u001b[0m\u001b[2;36m \u001b[0m\u001b[34mINFO    \u001b[0m Regression:Circle fy                                                      \u001b]8;id=241902;file:///home/maa/dev/PHD/src/phd/pipelines/regression_VCT/nodes.py\u001b\\\u001b[2mnodes.py\u001b[0m\u001b]8;;\u001b\\\u001b[2m:\u001b[0m\u001b]8;id=817017;file:///home/maa/dev/PHD/src/phd/pipelines/regression_VCT/nodes.py#549\u001b\\\u001b[2m549\u001b[0m\u001b]8;;\u001b\\\n"
      ]
     },
     "metadata": {},
     "output_type": "display_data"
    },
    {
     "data": {
      "text/html": [
       "<pre style=\"white-space:pre;overflow-x:auto;line-height:normal;font-family:Menlo,'DejaVu Sans Mono',consolas,'Courier New',monospace\"><span style=\"color: #7fbfbf; text-decoration-color: #7fbfbf\">                    </span><span style=\"color: #800000; text-decoration-color: #800000\">WARNING </span> <span style=\"color: #800080; text-decoration-color: #800080\">/home/maa/anaconda3/envs/phd/lib/python3.10/site-packages/statsmodels/</span> <a href=\"file:///home/maa/anaconda3/envs/phd/lib/python3.10/warnings.py\" target=\"_blank\"><span style=\"color: #7f7f7f; text-decoration-color: #7f7f7f\">warnings.py</span></a><span style=\"color: #7f7f7f; text-decoration-color: #7f7f7f\">:</span><a href=\"file:///home/maa/anaconda3/envs/phd/lib/python3.10/warnings.py#109\" target=\"_blank\"><span style=\"color: #7f7f7f; text-decoration-color: #7f7f7f\">109</span></a>\n",
       "<span style=\"color: #7fbfbf; text-decoration-color: #7fbfbf\">                    </span>         <span style=\"color: #800080; text-decoration-color: #800080\">stats/</span><span style=\"color: #ff00ff; text-decoration-color: #ff00ff\">stattools.py</span>:<span style=\"color: #008080; text-decoration-color: #008080; font-weight: bold\">74</span>: ValueWarning: omni_normtest is not valid with   <span style=\"color: #7f7f7f; text-decoration-color: #7f7f7f\">               </span>\n",
       "<span style=\"color: #7fbfbf; text-decoration-color: #7fbfbf\">                    </span>         less than <span style=\"color: #008080; text-decoration-color: #008080; font-weight: bold\">8</span> observations; <span style=\"color: #008080; text-decoration-color: #008080; font-weight: bold\">5</span> samples were given.                        <span style=\"color: #7f7f7f; text-decoration-color: #7f7f7f\">               </span>\n",
       "<span style=\"color: #7fbfbf; text-decoration-color: #7fbfbf\">                    </span>           <span style=\"color: #800080; text-decoration-color: #800080; font-weight: bold\">warn</span><span style=\"font-weight: bold\">(</span><span style=\"color: #008000; text-decoration-color: #008000\">\"omni_normtest is not valid with less than 8 observations; %i \"</span> <span style=\"color: #7f7f7f; text-decoration-color: #7f7f7f\">               </span>\n",
       "<span style=\"color: #7fbfbf; text-decoration-color: #7fbfbf\">                    </span>                                                                                <span style=\"color: #7f7f7f; text-decoration-color: #7f7f7f\">               </span>\n",
       "</pre>\n"
      ],
      "text/plain": [
       "\u001b[2;36m                   \u001b[0m\u001b[2;36m \u001b[0m\u001b[31mWARNING \u001b[0m \u001b[35m/home/maa/anaconda3/envs/phd/lib/python3.10/site-packages/statsmodels/\u001b[0m \u001b]8;id=907140;file:///home/maa/anaconda3/envs/phd/lib/python3.10/warnings.py\u001b\\\u001b[2mwarnings.py\u001b[0m\u001b]8;;\u001b\\\u001b[2m:\u001b[0m\u001b]8;id=850698;file:///home/maa/anaconda3/envs/phd/lib/python3.10/warnings.py#109\u001b\\\u001b[2m109\u001b[0m\u001b]8;;\u001b\\\n",
       "\u001b[2;36m                    \u001b[0m         \u001b[35mstats/\u001b[0m\u001b[95mstattools.py\u001b[0m:\u001b[1;36m74\u001b[0m: ValueWarning: omni_normtest is not valid with   \u001b[2m               \u001b[0m\n",
       "\u001b[2;36m                    \u001b[0m         less than \u001b[1;36m8\u001b[0m observations; \u001b[1;36m5\u001b[0m samples were given.                        \u001b[2m               \u001b[0m\n",
       "\u001b[2;36m                    \u001b[0m           \u001b[1;35mwarn\u001b[0m\u001b[1m(\u001b[0m\u001b[32m\"omni_normtest is not valid with less than 8 observations; %i \"\u001b[0m \u001b[2m               \u001b[0m\n",
       "\u001b[2;36m                    \u001b[0m                                                                                \u001b[2m               \u001b[0m\n"
      ]
     },
     "metadata": {},
     "output_type": "display_data"
    },
    {
     "data": {
      "text/html": [
       "<pre style=\"white-space:pre;overflow-x:auto;line-height:normal;font-family:Menlo,'DejaVu Sans Mono',consolas,'Courier New',monospace\"><span style=\"color: #7fbfbf; text-decoration-color: #7fbfbf\">                    </span><span style=\"color: #000080; text-decoration-color: #000080\">INFO    </span>                         Results: Ordinary least squares                   <a href=\"file:///home/maa/dev/PHD/src/phd/pipelines/regression_VCT/nodes.py\" target=\"_blank\"><span style=\"color: #7f7f7f; text-decoration-color: #7f7f7f\">nodes.py</span></a><span style=\"color: #7f7f7f; text-decoration-color: #7f7f7f\">:</span><a href=\"file:///home/maa/dev/PHD/src/phd/pipelines/regression_VCT/nodes.py#551\" target=\"_blank\"><span style=\"color: #7f7f7f; text-decoration-color: #7f7f7f\">551</span></a>\n",
       "<span style=\"color: #7fbfbf; text-decoration-color: #7fbfbf\">                    </span>         ========================================================================= <span style=\"color: #7f7f7f; text-decoration-color: #7f7f7f\">            </span>\n",
       "<span style=\"color: #7fbfbf; text-decoration-color: #7fbfbf\">                    </span>         =======                                                                   <span style=\"color: #7f7f7f; text-decoration-color: #7f7f7f\">            </span>\n",
       "<span style=\"color: #7fbfbf; text-decoration-color: #7fbfbf\">                    </span>         Model:                  OLS              Adj. R-squared <span style=\"font-weight: bold\">(</span>uncentered<span style=\"font-weight: bold\">)</span>:     <span style=\"color: #7f7f7f; text-decoration-color: #7f7f7f\">            </span>\n",
       "<span style=\"color: #7fbfbf; text-decoration-color: #7fbfbf\">                    </span>         <span style=\"color: #008080; text-decoration-color: #008080; font-weight: bold\">0.991</span>                                                                     <span style=\"color: #7f7f7f; text-decoration-color: #7f7f7f\">            </span>\n",
       "<span style=\"color: #7fbfbf; text-decoration-color: #7fbfbf\">                    </span>         Dependent Variable:     Y_D              AIC:                             <span style=\"color: #7f7f7f; text-decoration-color: #7f7f7f\">            </span>\n",
       "<span style=\"color: #7fbfbf; text-decoration-color: #7fbfbf\">                    </span>         <span style=\"color: #008080; text-decoration-color: #008080; font-weight: bold\">-76.1512</span>                                                                  <span style=\"color: #7f7f7f; text-decoration-color: #7f7f7f\">            </span>\n",
       "<span style=\"color: #7fbfbf; text-decoration-color: #7fbfbf\">                    </span>         Date:                   <span style=\"color: #008080; text-decoration-color: #008080; font-weight: bold\">2024</span>-<span style=\"color: #008080; text-decoration-color: #008080; font-weight: bold\">01</span>-<span style=\"color: #008080; text-decoration-color: #008080; font-weight: bold\">10</span> <span style=\"color: #00ff00; text-decoration-color: #00ff00; font-weight: bold\">13:25</span> BIC:                             <span style=\"color: #7f7f7f; text-decoration-color: #7f7f7f\">            </span>\n",
       "<span style=\"color: #7fbfbf; text-decoration-color: #7fbfbf\">                    </span>         <span style=\"color: #008080; text-decoration-color: #008080; font-weight: bold\">-76.9323</span>                                                                  <span style=\"color: #7f7f7f; text-decoration-color: #7f7f7f\">            </span>\n",
       "<span style=\"color: #7fbfbf; text-decoration-color: #7fbfbf\">                    </span>         No. Observations:       <span style=\"color: #008080; text-decoration-color: #008080; font-weight: bold\">5</span>                Log-Likelihood:                  <span style=\"color: #7f7f7f; text-decoration-color: #7f7f7f\">            </span>\n",
       "<span style=\"color: #7fbfbf; text-decoration-color: #7fbfbf\">                    </span>         <span style=\"color: #008080; text-decoration-color: #008080; font-weight: bold\">40.076</span>                                                                    <span style=\"color: #7f7f7f; text-decoration-color: #7f7f7f\">            </span>\n",
       "<span style=\"color: #7fbfbf; text-decoration-color: #7fbfbf\">                    </span>         Df Model:               <span style=\"color: #008080; text-decoration-color: #008080; font-weight: bold\">2</span>                F-statistic:                     <span style=\"color: #7f7f7f; text-decoration-color: #7f7f7f\">            </span>\n",
       "<span style=\"color: #7fbfbf; text-decoration-color: #7fbfbf\">                    </span>         <span style=\"color: #008080; text-decoration-color: #008080; font-weight: bold\">271.1</span>                                                                     <span style=\"color: #7f7f7f; text-decoration-color: #7f7f7f\">            </span>\n",
       "<span style=\"color: #7fbfbf; text-decoration-color: #7fbfbf\">                    </span>         Df Residuals:           <span style=\"color: #008080; text-decoration-color: #008080; font-weight: bold\">3</span>                Prob <span style=\"font-weight: bold\">(</span>F-statistic<span style=\"font-weight: bold\">)</span>:              <span style=\"color: #7f7f7f; text-decoration-color: #7f7f7f\">            </span>\n",
       "<span style=\"color: #7fbfbf; text-decoration-color: #7fbfbf\">                    </span>         <span style=\"color: #008080; text-decoration-color: #008080; font-weight: bold\">0.000408</span>                                                                  <span style=\"color: #7f7f7f; text-decoration-color: #7f7f7f\">            </span>\n",
       "<span style=\"color: #7fbfbf; text-decoration-color: #7fbfbf\">                    </span>         R-squared <span style=\"font-weight: bold\">(</span>uncentered<span style=\"font-weight: bold\">)</span>: <span style=\"color: #008080; text-decoration-color: #008080; font-weight: bold\">0.994</span>            Scale:                           <span style=\"color: #7f7f7f; text-decoration-color: #7f7f7f\">            </span>\n",
       "<span style=\"color: #7fbfbf; text-decoration-color: #7fbfbf\">                    </span>         <span style=\"color: #008080; text-decoration-color: #008080; font-weight: bold\">1.0654e-08</span>                                                                <span style=\"color: #7f7f7f; text-decoration-color: #7f7f7f\">            </span>\n",
       "<span style=\"color: #7fbfbf; text-decoration-color: #7fbfbf\">                    </span>         ------------------------------------------------------------------------- <span style=\"color: #7f7f7f; text-decoration-color: #7f7f7f\">            </span>\n",
       "<span style=\"color: #7fbfbf; text-decoration-color: #7fbfbf\">                    </span>         ------------                                                              <span style=\"color: #7f7f7f; text-decoration-color: #7f7f7f\">            </span>\n",
       "<span style=\"color: #7fbfbf; text-decoration-color: #7fbfbf\">                    </span>                       Coef.       Std.Err.         t         P&gt;|t|        <span style=\"font-weight: bold\">[</span><span style=\"color: #008080; text-decoration-color: #008080; font-weight: bold\">0.025</span>  <span style=\"color: #7f7f7f; text-decoration-color: #7f7f7f\">            </span>\n",
       "<span style=\"color: #7fbfbf; text-decoration-color: #7fbfbf\">                    </span>         <span style=\"color: #008080; text-decoration-color: #008080; font-weight: bold\">0.975</span><span style=\"font-weight: bold\">]</span>                                                                    <span style=\"color: #7f7f7f; text-decoration-color: #7f7f7f\">            </span>\n",
       "<span style=\"color: #7fbfbf; text-decoration-color: #7fbfbf\">                    </span>         ------------------------------------------------------------------------- <span style=\"color: #7f7f7f; text-decoration-color: #7f7f7f\">            </span>\n",
       "<span style=\"color: #7fbfbf; text-decoration-color: #7fbfbf\">                    </span>         ------------                                                              <span style=\"color: #7f7f7f; text-decoration-color: #7f7f7f\">            </span>\n",
       "<span style=\"color: #7fbfbf; text-decoration-color: #7fbfbf\">                    </span>         Yrrr         <span style=\"color: #008080; text-decoration-color: #008080; font-weight: bold\">-0.0039</span>        <span style=\"color: #008080; text-decoration-color: #008080; font-weight: bold\">0.0008</span>      <span style=\"color: #008080; text-decoration-color: #008080; font-weight: bold\">-5.0770</span>      <span style=\"color: #008080; text-decoration-color: #008080; font-weight: bold\">0.0148</span>      <span style=\"color: #008080; text-decoration-color: #008080; font-weight: bold\">-0.0063</span>  <span style=\"color: #7f7f7f; text-decoration-color: #7f7f7f\">            </span>\n",
       "<span style=\"color: #7fbfbf; text-decoration-color: #7fbfbf\">                    </span>         <span style=\"color: #008080; text-decoration-color: #008080; font-weight: bold\">-0.0014</span>                                                                   <span style=\"color: #7f7f7f; text-decoration-color: #7f7f7f\">            </span>\n",
       "<span style=\"color: #7fbfbf; text-decoration-color: #7fbfbf\">                    </span>         Yr            <span style=\"color: #008080; text-decoration-color: #008080; font-weight: bold\">0.0037</span>        <span style=\"color: #008080; text-decoration-color: #008080; font-weight: bold\">0.0003</span>      <span style=\"color: #008080; text-decoration-color: #008080; font-weight: bold\">14.1466</span>      <span style=\"color: #008080; text-decoration-color: #008080; font-weight: bold\">0.0008</span>       <span style=\"color: #008080; text-decoration-color: #008080; font-weight: bold\">0.0029</span>  <span style=\"color: #7f7f7f; text-decoration-color: #7f7f7f\">            </span>\n",
       "<span style=\"color: #7fbfbf; text-decoration-color: #7fbfbf\">                    </span>         <span style=\"color: #008080; text-decoration-color: #008080; font-weight: bold\">0.0045</span>                                                                    <span style=\"color: #7f7f7f; text-decoration-color: #7f7f7f\">            </span>\n",
       "<span style=\"color: #7fbfbf; text-decoration-color: #7fbfbf\">                    </span>         ------------------------------------------------------------------------- <span style=\"color: #7f7f7f; text-decoration-color: #7f7f7f\">            </span>\n",
       "<span style=\"color: #7fbfbf; text-decoration-color: #7fbfbf\">                    </span>         -------                                                                   <span style=\"color: #7f7f7f; text-decoration-color: #7f7f7f\">            </span>\n",
       "<span style=\"color: #7fbfbf; text-decoration-color: #7fbfbf\">                    </span>         Omnibus:                    nan               Durbin-Watson:              <span style=\"color: #7f7f7f; text-decoration-color: #7f7f7f\">            </span>\n",
       "<span style=\"color: #7fbfbf; text-decoration-color: #7fbfbf\">                    </span>         <span style=\"color: #008080; text-decoration-color: #008080; font-weight: bold\">2.073</span>                                                                     <span style=\"color: #7f7f7f; text-decoration-color: #7f7f7f\">            </span>\n",
       "<span style=\"color: #7fbfbf; text-decoration-color: #7fbfbf\">                    </span>         <span style=\"color: #800080; text-decoration-color: #800080; font-weight: bold\">Prob</span><span style=\"font-weight: bold\">(</span>Omnibus<span style=\"font-weight: bold\">)</span>:              nan               Jarque-Bera <span style=\"font-weight: bold\">(</span>JB<span style=\"font-weight: bold\">)</span>:           <span style=\"color: #7f7f7f; text-decoration-color: #7f7f7f\">            </span>\n",
       "<span style=\"color: #7fbfbf; text-decoration-color: #7fbfbf\">                    </span>         <span style=\"color: #008080; text-decoration-color: #008080; font-weight: bold\">1.623</span>                                                                     <span style=\"color: #7f7f7f; text-decoration-color: #7f7f7f\">            </span>\n",
       "<span style=\"color: #7fbfbf; text-decoration-color: #7fbfbf\">                    </span>         Skew:                       <span style=\"color: #008080; text-decoration-color: #008080; font-weight: bold\">-1.395</span>            <span style=\"color: #800080; text-decoration-color: #800080; font-weight: bold\">Prob</span><span style=\"font-weight: bold\">(</span>JB<span style=\"font-weight: bold\">)</span>:                   <span style=\"color: #7f7f7f; text-decoration-color: #7f7f7f\">            </span>\n",
       "<span style=\"color: #7fbfbf; text-decoration-color: #7fbfbf\">                    </span>         <span style=\"color: #008080; text-decoration-color: #008080; font-weight: bold\">0.444</span>                                                                     <span style=\"color: #7f7f7f; text-decoration-color: #7f7f7f\">            </span>\n",
       "<span style=\"color: #7fbfbf; text-decoration-color: #7fbfbf\">                    </span>         Kurtosis:                   <span style=\"color: #008080; text-decoration-color: #008080; font-weight: bold\">3.101</span>             Condition No.:              <span style=\"color: #7f7f7f; text-decoration-color: #7f7f7f\">            </span>\n",
       "<span style=\"color: #7fbfbf; text-decoration-color: #7fbfbf\">                    </span>         <span style=\"color: #008080; text-decoration-color: #008080; font-weight: bold\">8</span>                                                                         <span style=\"color: #7f7f7f; text-decoration-color: #7f7f7f\">            </span>\n",
       "<span style=\"color: #7fbfbf; text-decoration-color: #7fbfbf\">                    </span>         ========================================================================= <span style=\"color: #7f7f7f; text-decoration-color: #7f7f7f\">            </span>\n",
       "<span style=\"color: #7fbfbf; text-decoration-color: #7fbfbf\">                    </span>         =======                                                                   <span style=\"color: #7f7f7f; text-decoration-color: #7f7f7f\">            </span>\n",
       "<span style=\"color: #7fbfbf; text-decoration-color: #7fbfbf\">                    </span>                                                                                   <span style=\"color: #7f7f7f; text-decoration-color: #7f7f7f\">            </span>\n",
       "</pre>\n"
      ],
      "text/plain": [
       "\u001b[2;36m                   \u001b[0m\u001b[2;36m \u001b[0m\u001b[34mINFO    \u001b[0m                         Results: Ordinary least squares                   \u001b]8;id=837647;file:///home/maa/dev/PHD/src/phd/pipelines/regression_VCT/nodes.py\u001b\\\u001b[2mnodes.py\u001b[0m\u001b]8;;\u001b\\\u001b[2m:\u001b[0m\u001b]8;id=729846;file:///home/maa/dev/PHD/src/phd/pipelines/regression_VCT/nodes.py#551\u001b\\\u001b[2m551\u001b[0m\u001b]8;;\u001b\\\n",
       "\u001b[2;36m                    \u001b[0m         ========================================================================= \u001b[2m            \u001b[0m\n",
       "\u001b[2;36m                    \u001b[0m         =======                                                                   \u001b[2m            \u001b[0m\n",
       "\u001b[2;36m                    \u001b[0m         Model:                  OLS              Adj. R-squared \u001b[1m(\u001b[0muncentered\u001b[1m)\u001b[0m:     \u001b[2m            \u001b[0m\n",
       "\u001b[2;36m                    \u001b[0m         \u001b[1;36m0.991\u001b[0m                                                                     \u001b[2m            \u001b[0m\n",
       "\u001b[2;36m                    \u001b[0m         Dependent Variable:     Y_D              AIC:                             \u001b[2m            \u001b[0m\n",
       "\u001b[2;36m                    \u001b[0m         \u001b[1;36m-76.1512\u001b[0m                                                                  \u001b[2m            \u001b[0m\n",
       "\u001b[2;36m                    \u001b[0m         Date:                   \u001b[1;36m2024\u001b[0m-\u001b[1;36m01\u001b[0m-\u001b[1;36m10\u001b[0m \u001b[1;92m13:25\u001b[0m BIC:                             \u001b[2m            \u001b[0m\n",
       "\u001b[2;36m                    \u001b[0m         \u001b[1;36m-76.9323\u001b[0m                                                                  \u001b[2m            \u001b[0m\n",
       "\u001b[2;36m                    \u001b[0m         No. Observations:       \u001b[1;36m5\u001b[0m                Log-Likelihood:                  \u001b[2m            \u001b[0m\n",
       "\u001b[2;36m                    \u001b[0m         \u001b[1;36m40.076\u001b[0m                                                                    \u001b[2m            \u001b[0m\n",
       "\u001b[2;36m                    \u001b[0m         Df Model:               \u001b[1;36m2\u001b[0m                F-statistic:                     \u001b[2m            \u001b[0m\n",
       "\u001b[2;36m                    \u001b[0m         \u001b[1;36m271.1\u001b[0m                                                                     \u001b[2m            \u001b[0m\n",
       "\u001b[2;36m                    \u001b[0m         Df Residuals:           \u001b[1;36m3\u001b[0m                Prob \u001b[1m(\u001b[0mF-statistic\u001b[1m)\u001b[0m:              \u001b[2m            \u001b[0m\n",
       "\u001b[2;36m                    \u001b[0m         \u001b[1;36m0.000408\u001b[0m                                                                  \u001b[2m            \u001b[0m\n",
       "\u001b[2;36m                    \u001b[0m         R-squared \u001b[1m(\u001b[0muncentered\u001b[1m)\u001b[0m: \u001b[1;36m0.994\u001b[0m            Scale:                           \u001b[2m            \u001b[0m\n",
       "\u001b[2;36m                    \u001b[0m         \u001b[1;36m1.0654e-08\u001b[0m                                                                \u001b[2m            \u001b[0m\n",
       "\u001b[2;36m                    \u001b[0m         ------------------------------------------------------------------------- \u001b[2m            \u001b[0m\n",
       "\u001b[2;36m                    \u001b[0m         ------------                                                              \u001b[2m            \u001b[0m\n",
       "\u001b[2;36m                    \u001b[0m                       Coef.       Std.Err.         t         P>|t|        \u001b[1m[\u001b[0m\u001b[1;36m0.025\u001b[0m  \u001b[2m            \u001b[0m\n",
       "\u001b[2;36m                    \u001b[0m         \u001b[1;36m0.975\u001b[0m\u001b[1m]\u001b[0m                                                                    \u001b[2m            \u001b[0m\n",
       "\u001b[2;36m                    \u001b[0m         ------------------------------------------------------------------------- \u001b[2m            \u001b[0m\n",
       "\u001b[2;36m                    \u001b[0m         ------------                                                              \u001b[2m            \u001b[0m\n",
       "\u001b[2;36m                    \u001b[0m         Yrrr         \u001b[1;36m-0.0039\u001b[0m        \u001b[1;36m0.0008\u001b[0m      \u001b[1;36m-5.0770\u001b[0m      \u001b[1;36m0.0148\u001b[0m      \u001b[1;36m-0.0063\u001b[0m  \u001b[2m            \u001b[0m\n",
       "\u001b[2;36m                    \u001b[0m         \u001b[1;36m-0.0014\u001b[0m                                                                   \u001b[2m            \u001b[0m\n",
       "\u001b[2;36m                    \u001b[0m         Yr            \u001b[1;36m0.0037\u001b[0m        \u001b[1;36m0.0003\u001b[0m      \u001b[1;36m14.1466\u001b[0m      \u001b[1;36m0.0008\u001b[0m       \u001b[1;36m0.0029\u001b[0m  \u001b[2m            \u001b[0m\n",
       "\u001b[2;36m                    \u001b[0m         \u001b[1;36m0.0045\u001b[0m                                                                    \u001b[2m            \u001b[0m\n",
       "\u001b[2;36m                    \u001b[0m         ------------------------------------------------------------------------- \u001b[2m            \u001b[0m\n",
       "\u001b[2;36m                    \u001b[0m         -------                                                                   \u001b[2m            \u001b[0m\n",
       "\u001b[2;36m                    \u001b[0m         Omnibus:                    nan               Durbin-Watson:              \u001b[2m            \u001b[0m\n",
       "\u001b[2;36m                    \u001b[0m         \u001b[1;36m2.073\u001b[0m                                                                     \u001b[2m            \u001b[0m\n",
       "\u001b[2;36m                    \u001b[0m         \u001b[1;35mProb\u001b[0m\u001b[1m(\u001b[0mOmnibus\u001b[1m)\u001b[0m:              nan               Jarque-Bera \u001b[1m(\u001b[0mJB\u001b[1m)\u001b[0m:           \u001b[2m            \u001b[0m\n",
       "\u001b[2;36m                    \u001b[0m         \u001b[1;36m1.623\u001b[0m                                                                     \u001b[2m            \u001b[0m\n",
       "\u001b[2;36m                    \u001b[0m         Skew:                       \u001b[1;36m-1.395\u001b[0m            \u001b[1;35mProb\u001b[0m\u001b[1m(\u001b[0mJB\u001b[1m)\u001b[0m:                   \u001b[2m            \u001b[0m\n",
       "\u001b[2;36m                    \u001b[0m         \u001b[1;36m0.444\u001b[0m                                                                     \u001b[2m            \u001b[0m\n",
       "\u001b[2;36m                    \u001b[0m         Kurtosis:                   \u001b[1;36m3.101\u001b[0m             Condition No.:              \u001b[2m            \u001b[0m\n",
       "\u001b[2;36m                    \u001b[0m         \u001b[1;36m8\u001b[0m                                                                         \u001b[2m            \u001b[0m\n",
       "\u001b[2;36m                    \u001b[0m         ========================================================================= \u001b[2m            \u001b[0m\n",
       "\u001b[2;36m                    \u001b[0m         =======                                                                   \u001b[2m            \u001b[0m\n",
       "\u001b[2;36m                    \u001b[0m                                                                                   \u001b[2m            \u001b[0m\n"
      ]
     },
     "metadata": {},
     "output_type": "display_data"
    },
    {
     "data": {
      "text/html": [
       "<pre style=\"white-space:pre;overflow-x:auto;line-height:normal;font-family:Menlo,'DejaVu Sans Mono',consolas,'Courier New',monospace\"><span style=\"color: #7fbfbf; text-decoration-color: #7fbfbf\">                    </span><span style=\"color: #000080; text-decoration-color: #000080\">INFO    </span> Regression:Circle mz                                                      <a href=\"file:///home/maa/dev/PHD/src/phd/pipelines/regression_VCT/nodes.py\" target=\"_blank\"><span style=\"color: #7f7f7f; text-decoration-color: #7f7f7f\">nodes.py</span></a><span style=\"color: #7f7f7f; text-decoration-color: #7f7f7f\">:</span><a href=\"file:///home/maa/dev/PHD/src/phd/pipelines/regression_VCT/nodes.py#549\" target=\"_blank\"><span style=\"color: #7f7f7f; text-decoration-color: #7f7f7f\">549</span></a>\n",
       "</pre>\n"
      ],
      "text/plain": [
       "\u001b[2;36m                   \u001b[0m\u001b[2;36m \u001b[0m\u001b[34mINFO    \u001b[0m Regression:Circle mz                                                      \u001b]8;id=672514;file:///home/maa/dev/PHD/src/phd/pipelines/regression_VCT/nodes.py\u001b\\\u001b[2mnodes.py\u001b[0m\u001b]8;;\u001b\\\u001b[2m:\u001b[0m\u001b]8;id=195167;file:///home/maa/dev/PHD/src/phd/pipelines/regression_VCT/nodes.py#549\u001b\\\u001b[2m549\u001b[0m\u001b]8;;\u001b\\\n"
      ]
     },
     "metadata": {},
     "output_type": "display_data"
    },
    {
     "data": {
      "text/html": [
       "<pre style=\"white-space:pre;overflow-x:auto;line-height:normal;font-family:Menlo,'DejaVu Sans Mono',consolas,'Courier New',monospace\"><span style=\"color: #7fbfbf; text-decoration-color: #7fbfbf\">                    </span><span style=\"color: #800000; text-decoration-color: #800000\">WARNING </span> <span style=\"color: #800080; text-decoration-color: #800080\">/home/maa/anaconda3/envs/phd/lib/python3.10/site-packages/statsmodels/</span> <a href=\"file:///home/maa/anaconda3/envs/phd/lib/python3.10/warnings.py\" target=\"_blank\"><span style=\"color: #7f7f7f; text-decoration-color: #7f7f7f\">warnings.py</span></a><span style=\"color: #7f7f7f; text-decoration-color: #7f7f7f\">:</span><a href=\"file:///home/maa/anaconda3/envs/phd/lib/python3.10/warnings.py#109\" target=\"_blank\"><span style=\"color: #7f7f7f; text-decoration-color: #7f7f7f\">109</span></a>\n",
       "<span style=\"color: #7fbfbf; text-decoration-color: #7fbfbf\">                    </span>         <span style=\"color: #800080; text-decoration-color: #800080\">stats/</span><span style=\"color: #ff00ff; text-decoration-color: #ff00ff\">stattools.py</span>:<span style=\"color: #008080; text-decoration-color: #008080; font-weight: bold\">74</span>: ValueWarning: omni_normtest is not valid with   <span style=\"color: #7f7f7f; text-decoration-color: #7f7f7f\">               </span>\n",
       "<span style=\"color: #7fbfbf; text-decoration-color: #7fbfbf\">                    </span>         less than <span style=\"color: #008080; text-decoration-color: #008080; font-weight: bold\">8</span> observations; <span style=\"color: #008080; text-decoration-color: #008080; font-weight: bold\">5</span> samples were given.                        <span style=\"color: #7f7f7f; text-decoration-color: #7f7f7f\">               </span>\n",
       "<span style=\"color: #7fbfbf; text-decoration-color: #7fbfbf\">                    </span>           <span style=\"color: #800080; text-decoration-color: #800080; font-weight: bold\">warn</span><span style=\"font-weight: bold\">(</span><span style=\"color: #008000; text-decoration-color: #008000\">\"omni_normtest is not valid with less than 8 observations; %i \"</span> <span style=\"color: #7f7f7f; text-decoration-color: #7f7f7f\">               </span>\n",
       "<span style=\"color: #7fbfbf; text-decoration-color: #7fbfbf\">                    </span>                                                                                <span style=\"color: #7f7f7f; text-decoration-color: #7f7f7f\">               </span>\n",
       "</pre>\n"
      ],
      "text/plain": [
       "\u001b[2;36m                   \u001b[0m\u001b[2;36m \u001b[0m\u001b[31mWARNING \u001b[0m \u001b[35m/home/maa/anaconda3/envs/phd/lib/python3.10/site-packages/statsmodels/\u001b[0m \u001b]8;id=961689;file:///home/maa/anaconda3/envs/phd/lib/python3.10/warnings.py\u001b\\\u001b[2mwarnings.py\u001b[0m\u001b]8;;\u001b\\\u001b[2m:\u001b[0m\u001b]8;id=840389;file:///home/maa/anaconda3/envs/phd/lib/python3.10/warnings.py#109\u001b\\\u001b[2m109\u001b[0m\u001b]8;;\u001b\\\n",
       "\u001b[2;36m                    \u001b[0m         \u001b[35mstats/\u001b[0m\u001b[95mstattools.py\u001b[0m:\u001b[1;36m74\u001b[0m: ValueWarning: omni_normtest is not valid with   \u001b[2m               \u001b[0m\n",
       "\u001b[2;36m                    \u001b[0m         less than \u001b[1;36m8\u001b[0m observations; \u001b[1;36m5\u001b[0m samples were given.                        \u001b[2m               \u001b[0m\n",
       "\u001b[2;36m                    \u001b[0m           \u001b[1;35mwarn\u001b[0m\u001b[1m(\u001b[0m\u001b[32m\"omni_normtest is not valid with less than 8 observations; %i \"\u001b[0m \u001b[2m               \u001b[0m\n",
       "\u001b[2;36m                    \u001b[0m                                                                                \u001b[2m               \u001b[0m\n"
      ]
     },
     "metadata": {},
     "output_type": "display_data"
    },
    {
     "data": {
      "text/html": [
       "<pre style=\"white-space:pre;overflow-x:auto;line-height:normal;font-family:Menlo,'DejaVu Sans Mono',consolas,'Courier New',monospace\"><span style=\"color: #7fbfbf; text-decoration-color: #7fbfbf\">                    </span><span style=\"color: #000080; text-decoration-color: #000080\">INFO    </span>                         Results: Ordinary least squares                   <a href=\"file:///home/maa/dev/PHD/src/phd/pipelines/regression_VCT/nodes.py\" target=\"_blank\"><span style=\"color: #7f7f7f; text-decoration-color: #7f7f7f\">nodes.py</span></a><span style=\"color: #7f7f7f; text-decoration-color: #7f7f7f\">:</span><a href=\"file:///home/maa/dev/PHD/src/phd/pipelines/regression_VCT/nodes.py#551\" target=\"_blank\"><span style=\"color: #7f7f7f; text-decoration-color: #7f7f7f\">551</span></a>\n",
       "<span style=\"color: #7fbfbf; text-decoration-color: #7fbfbf\">                    </span>         ========================================================================= <span style=\"color: #7f7f7f; text-decoration-color: #7f7f7f\">            </span>\n",
       "<span style=\"color: #7fbfbf; text-decoration-color: #7fbfbf\">                    </span>         =======                                                                   <span style=\"color: #7f7f7f; text-decoration-color: #7f7f7f\">            </span>\n",
       "<span style=\"color: #7fbfbf; text-decoration-color: #7fbfbf\">                    </span>         Model:                  OLS              Adj. R-squared <span style=\"font-weight: bold\">(</span>uncentered<span style=\"font-weight: bold\">)</span>:     <span style=\"color: #7f7f7f; text-decoration-color: #7f7f7f\">            </span>\n",
       "<span style=\"color: #7fbfbf; text-decoration-color: #7fbfbf\">                    </span>         <span style=\"color: #008080; text-decoration-color: #008080; font-weight: bold\">1.000</span>                                                                     <span style=\"color: #7f7f7f; text-decoration-color: #7f7f7f\">            </span>\n",
       "<span style=\"color: #7fbfbf; text-decoration-color: #7fbfbf\">                    </span>         Dependent Variable:     N_D              AIC:                             <span style=\"color: #7f7f7f; text-decoration-color: #7f7f7f\">            </span>\n",
       "<span style=\"color: #7fbfbf; text-decoration-color: #7fbfbf\">                    </span>         <span style=\"color: #008080; text-decoration-color: #008080; font-weight: bold\">-94.6222</span>                                                                  <span style=\"color: #7f7f7f; text-decoration-color: #7f7f7f\">            </span>\n",
       "<span style=\"color: #7fbfbf; text-decoration-color: #7fbfbf\">                    </span>         Date:                   <span style=\"color: #008080; text-decoration-color: #008080; font-weight: bold\">2024</span>-<span style=\"color: #008080; text-decoration-color: #008080; font-weight: bold\">01</span>-<span style=\"color: #008080; text-decoration-color: #008080; font-weight: bold\">10</span> <span style=\"color: #00ff00; text-decoration-color: #00ff00; font-weight: bold\">13:25</span> BIC:                             <span style=\"color: #7f7f7f; text-decoration-color: #7f7f7f\">            </span>\n",
       "<span style=\"color: #7fbfbf; text-decoration-color: #7fbfbf\">                    </span>         <span style=\"color: #008080; text-decoration-color: #008080; font-weight: bold\">-95.4034</span>                                                                  <span style=\"color: #7f7f7f; text-decoration-color: #7f7f7f\">            </span>\n",
       "<span style=\"color: #7fbfbf; text-decoration-color: #7fbfbf\">                    </span>         No. Observations:       <span style=\"color: #008080; text-decoration-color: #008080; font-weight: bold\">5</span>                Log-Likelihood:                  <span style=\"color: #7f7f7f; text-decoration-color: #7f7f7f\">            </span>\n",
       "<span style=\"color: #7fbfbf; text-decoration-color: #7fbfbf\">                    </span>         <span style=\"color: #008080; text-decoration-color: #008080; font-weight: bold\">49.311</span>                                                                    <span style=\"color: #7f7f7f; text-decoration-color: #7f7f7f\">            </span>\n",
       "<span style=\"color: #7fbfbf; text-decoration-color: #7fbfbf\">                    </span>         Df Model:               <span style=\"color: #008080; text-decoration-color: #008080; font-weight: bold\">2</span>                F-statistic:                     <span style=\"color: #7f7f7f; text-decoration-color: #7f7f7f\">            </span>\n",
       "<span style=\"color: #7fbfbf; text-decoration-color: #7fbfbf\">                    </span>         <span style=\"color: #008080; text-decoration-color: #008080; font-weight: bold\">1.335e+04</span>                                                                 <span style=\"color: #7f7f7f; text-decoration-color: #7f7f7f\">            </span>\n",
       "<span style=\"color: #7fbfbf; text-decoration-color: #7fbfbf\">                    </span>         Df Residuals:           <span style=\"color: #008080; text-decoration-color: #008080; font-weight: bold\">3</span>                Prob <span style=\"font-weight: bold\">(</span>F-statistic<span style=\"font-weight: bold\">)</span>:              <span style=\"color: #7f7f7f; text-decoration-color: #7f7f7f\">            </span>\n",
       "<span style=\"color: #7fbfbf; text-decoration-color: #7fbfbf\">                    </span>         <span style=\"color: #008080; text-decoration-color: #008080; font-weight: bold\">1.19e-06</span>                                                                  <span style=\"color: #7f7f7f; text-decoration-color: #7f7f7f\">            </span>\n",
       "<span style=\"color: #7fbfbf; text-decoration-color: #7fbfbf\">                    </span>         R-squared <span style=\"font-weight: bold\">(</span>uncentered<span style=\"font-weight: bold\">)</span>: <span style=\"color: #008080; text-decoration-color: #008080; font-weight: bold\">1.000</span>            Scale:                           <span style=\"color: #7f7f7f; text-decoration-color: #7f7f7f\">            </span>\n",
       "<span style=\"color: #7fbfbf; text-decoration-color: #7fbfbf\">                    </span>         <span style=\"color: #008080; text-decoration-color: #008080; font-weight: bold\">2.6494e-10</span>                                                                <span style=\"color: #7f7f7f; text-decoration-color: #7f7f7f\">            </span>\n",
       "<span style=\"color: #7fbfbf; text-decoration-color: #7fbfbf\">                    </span>         ------------------------------------------------------------------------- <span style=\"color: #7f7f7f; text-decoration-color: #7f7f7f\">            </span>\n",
       "<span style=\"color: #7fbfbf; text-decoration-color: #7fbfbf\">                    </span>         ------------                                                              <span style=\"color: #7f7f7f; text-decoration-color: #7f7f7f\">            </span>\n",
       "<span style=\"color: #7fbfbf; text-decoration-color: #7fbfbf\">                    </span>                      Coef.       Std.Err.         t          P&gt;|t|        <span style=\"font-weight: bold\">[</span><span style=\"color: #008080; text-decoration-color: #008080; font-weight: bold\">0.025</span>  <span style=\"color: #7f7f7f; text-decoration-color: #7f7f7f\">            </span>\n",
       "<span style=\"color: #7fbfbf; text-decoration-color: #7fbfbf\">                    </span>         <span style=\"color: #008080; text-decoration-color: #008080; font-weight: bold\">0.975</span><span style=\"font-weight: bold\">]</span>                                                                    <span style=\"color: #7f7f7f; text-decoration-color: #7f7f7f\">            </span>\n",
       "<span style=\"color: #7fbfbf; text-decoration-color: #7fbfbf\">                    </span>         ------------------------------------------------------------------------- <span style=\"color: #7f7f7f; text-decoration-color: #7f7f7f\">            </span>\n",
       "<span style=\"color: #7fbfbf; text-decoration-color: #7fbfbf\">                    </span>         ------------                                                              <span style=\"color: #7f7f7f; text-decoration-color: #7f7f7f\">            </span>\n",
       "<span style=\"color: #7fbfbf; text-decoration-color: #7fbfbf\">                    </span>         Nr          <span style=\"color: #008080; text-decoration-color: #008080; font-weight: bold\">-0.0020</span>        <span style=\"color: #008080; text-decoration-color: #008080; font-weight: bold\">0.0000</span>      <span style=\"color: #008080; text-decoration-color: #008080; font-weight: bold\">-48.0765</span>      <span style=\"color: #008080; text-decoration-color: #008080; font-weight: bold\">0.0000</span>      <span style=\"color: #008080; text-decoration-color: #008080; font-weight: bold\">-0.0021</span>  <span style=\"color: #7f7f7f; text-decoration-color: #7f7f7f\">            </span>\n",
       "<span style=\"color: #7fbfbf; text-decoration-color: #7fbfbf\">                    </span>         <span style=\"color: #008080; text-decoration-color: #008080; font-weight: bold\">-0.0019</span>                                                                   <span style=\"color: #7f7f7f; text-decoration-color: #7f7f7f\">            </span>\n",
       "<span style=\"color: #7fbfbf; text-decoration-color: #7fbfbf\">                    </span>         Nrrr        <span style=\"color: #008080; text-decoration-color: #008080; font-weight: bold\">-0.0026</span>        <span style=\"color: #008080; text-decoration-color: #008080; font-weight: bold\">0.0001</span>      <span style=\"color: #008080; text-decoration-color: #008080; font-weight: bold\">-21.9003</span>      <span style=\"color: #008080; text-decoration-color: #008080; font-weight: bold\">0.0002</span>      <span style=\"color: #008080; text-decoration-color: #008080; font-weight: bold\">-0.0030</span>  <span style=\"color: #7f7f7f; text-decoration-color: #7f7f7f\">            </span>\n",
       "<span style=\"color: #7fbfbf; text-decoration-color: #7fbfbf\">                    </span>         <span style=\"color: #008080; text-decoration-color: #008080; font-weight: bold\">-0.0022</span>                                                                   <span style=\"color: #7f7f7f; text-decoration-color: #7f7f7f\">            </span>\n",
       "<span style=\"color: #7fbfbf; text-decoration-color: #7fbfbf\">                    </span>         ------------------------------------------------------------------------- <span style=\"color: #7f7f7f; text-decoration-color: #7f7f7f\">            </span>\n",
       "<span style=\"color: #7fbfbf; text-decoration-color: #7fbfbf\">                    </span>         -------                                                                   <span style=\"color: #7f7f7f; text-decoration-color: #7f7f7f\">            </span>\n",
       "<span style=\"color: #7fbfbf; text-decoration-color: #7fbfbf\">                    </span>         Omnibus:                    nan               Durbin-Watson:              <span style=\"color: #7f7f7f; text-decoration-color: #7f7f7f\">            </span>\n",
       "<span style=\"color: #7fbfbf; text-decoration-color: #7fbfbf\">                    </span>         <span style=\"color: #008080; text-decoration-color: #008080; font-weight: bold\">1.109</span>                                                                     <span style=\"color: #7f7f7f; text-decoration-color: #7f7f7f\">            </span>\n",
       "<span style=\"color: #7fbfbf; text-decoration-color: #7fbfbf\">                    </span>         <span style=\"color: #800080; text-decoration-color: #800080; font-weight: bold\">Prob</span><span style=\"font-weight: bold\">(</span>Omnibus<span style=\"font-weight: bold\">)</span>:              nan               Jarque-Bera <span style=\"font-weight: bold\">(</span>JB<span style=\"font-weight: bold\">)</span>:           <span style=\"color: #7f7f7f; text-decoration-color: #7f7f7f\">            </span>\n",
       "<span style=\"color: #7fbfbf; text-decoration-color: #7fbfbf\">                    </span>         <span style=\"color: #008080; text-decoration-color: #008080; font-weight: bold\">0.181</span>                                                                     <span style=\"color: #7f7f7f; text-decoration-color: #7f7f7f\">            </span>\n",
       "<span style=\"color: #7fbfbf; text-decoration-color: #7fbfbf\">                    </span>         Skew:                       <span style=\"color: #008080; text-decoration-color: #008080; font-weight: bold\">-0.188</span>            <span style=\"color: #800080; text-decoration-color: #800080; font-weight: bold\">Prob</span><span style=\"font-weight: bold\">(</span>JB<span style=\"font-weight: bold\">)</span>:                   <span style=\"color: #7f7f7f; text-decoration-color: #7f7f7f\">            </span>\n",
       "<span style=\"color: #7fbfbf; text-decoration-color: #7fbfbf\">                    </span>         <span style=\"color: #008080; text-decoration-color: #008080; font-weight: bold\">0.913</span>                                                                     <span style=\"color: #7f7f7f; text-decoration-color: #7f7f7f\">            </span>\n",
       "<span style=\"color: #7fbfbf; text-decoration-color: #7fbfbf\">                    </span>         Kurtosis:                   <span style=\"color: #008080; text-decoration-color: #008080; font-weight: bold\">2.146</span>             Condition No.:              <span style=\"color: #7f7f7f; text-decoration-color: #7f7f7f\">            </span>\n",
       "<span style=\"color: #7fbfbf; text-decoration-color: #7fbfbf\">                    </span>         <span style=\"color: #008080; text-decoration-color: #008080; font-weight: bold\">8</span>                                                                         <span style=\"color: #7f7f7f; text-decoration-color: #7f7f7f\">            </span>\n",
       "<span style=\"color: #7fbfbf; text-decoration-color: #7fbfbf\">                    </span>         ========================================================================= <span style=\"color: #7f7f7f; text-decoration-color: #7f7f7f\">            </span>\n",
       "<span style=\"color: #7fbfbf; text-decoration-color: #7fbfbf\">                    </span>         =======                                                                   <span style=\"color: #7f7f7f; text-decoration-color: #7f7f7f\">            </span>\n",
       "<span style=\"color: #7fbfbf; text-decoration-color: #7fbfbf\">                    </span>                                                                                   <span style=\"color: #7f7f7f; text-decoration-color: #7f7f7f\">            </span>\n",
       "</pre>\n"
      ],
      "text/plain": [
       "\u001b[2;36m                   \u001b[0m\u001b[2;36m \u001b[0m\u001b[34mINFO    \u001b[0m                         Results: Ordinary least squares                   \u001b]8;id=635027;file:///home/maa/dev/PHD/src/phd/pipelines/regression_VCT/nodes.py\u001b\\\u001b[2mnodes.py\u001b[0m\u001b]8;;\u001b\\\u001b[2m:\u001b[0m\u001b]8;id=200456;file:///home/maa/dev/PHD/src/phd/pipelines/regression_VCT/nodes.py#551\u001b\\\u001b[2m551\u001b[0m\u001b]8;;\u001b\\\n",
       "\u001b[2;36m                    \u001b[0m         ========================================================================= \u001b[2m            \u001b[0m\n",
       "\u001b[2;36m                    \u001b[0m         =======                                                                   \u001b[2m            \u001b[0m\n",
       "\u001b[2;36m                    \u001b[0m         Model:                  OLS              Adj. R-squared \u001b[1m(\u001b[0muncentered\u001b[1m)\u001b[0m:     \u001b[2m            \u001b[0m\n",
       "\u001b[2;36m                    \u001b[0m         \u001b[1;36m1.000\u001b[0m                                                                     \u001b[2m            \u001b[0m\n",
       "\u001b[2;36m                    \u001b[0m         Dependent Variable:     N_D              AIC:                             \u001b[2m            \u001b[0m\n",
       "\u001b[2;36m                    \u001b[0m         \u001b[1;36m-94.6222\u001b[0m                                                                  \u001b[2m            \u001b[0m\n",
       "\u001b[2;36m                    \u001b[0m         Date:                   \u001b[1;36m2024\u001b[0m-\u001b[1;36m01\u001b[0m-\u001b[1;36m10\u001b[0m \u001b[1;92m13:25\u001b[0m BIC:                             \u001b[2m            \u001b[0m\n",
       "\u001b[2;36m                    \u001b[0m         \u001b[1;36m-95.4034\u001b[0m                                                                  \u001b[2m            \u001b[0m\n",
       "\u001b[2;36m                    \u001b[0m         No. Observations:       \u001b[1;36m5\u001b[0m                Log-Likelihood:                  \u001b[2m            \u001b[0m\n",
       "\u001b[2;36m                    \u001b[0m         \u001b[1;36m49.311\u001b[0m                                                                    \u001b[2m            \u001b[0m\n",
       "\u001b[2;36m                    \u001b[0m         Df Model:               \u001b[1;36m2\u001b[0m                F-statistic:                     \u001b[2m            \u001b[0m\n",
       "\u001b[2;36m                    \u001b[0m         \u001b[1;36m1.335e+04\u001b[0m                                                                 \u001b[2m            \u001b[0m\n",
       "\u001b[2;36m                    \u001b[0m         Df Residuals:           \u001b[1;36m3\u001b[0m                Prob \u001b[1m(\u001b[0mF-statistic\u001b[1m)\u001b[0m:              \u001b[2m            \u001b[0m\n",
       "\u001b[2;36m                    \u001b[0m         \u001b[1;36m1.19e-06\u001b[0m                                                                  \u001b[2m            \u001b[0m\n",
       "\u001b[2;36m                    \u001b[0m         R-squared \u001b[1m(\u001b[0muncentered\u001b[1m)\u001b[0m: \u001b[1;36m1.000\u001b[0m            Scale:                           \u001b[2m            \u001b[0m\n",
       "\u001b[2;36m                    \u001b[0m         \u001b[1;36m2.6494e-10\u001b[0m                                                                \u001b[2m            \u001b[0m\n",
       "\u001b[2;36m                    \u001b[0m         ------------------------------------------------------------------------- \u001b[2m            \u001b[0m\n",
       "\u001b[2;36m                    \u001b[0m         ------------                                                              \u001b[2m            \u001b[0m\n",
       "\u001b[2;36m                    \u001b[0m                      Coef.       Std.Err.         t          P>|t|        \u001b[1m[\u001b[0m\u001b[1;36m0.025\u001b[0m  \u001b[2m            \u001b[0m\n",
       "\u001b[2;36m                    \u001b[0m         \u001b[1;36m0.975\u001b[0m\u001b[1m]\u001b[0m                                                                    \u001b[2m            \u001b[0m\n",
       "\u001b[2;36m                    \u001b[0m         ------------------------------------------------------------------------- \u001b[2m            \u001b[0m\n",
       "\u001b[2;36m                    \u001b[0m         ------------                                                              \u001b[2m            \u001b[0m\n",
       "\u001b[2;36m                    \u001b[0m         Nr          \u001b[1;36m-0.0020\u001b[0m        \u001b[1;36m0.0000\u001b[0m      \u001b[1;36m-48.0765\u001b[0m      \u001b[1;36m0.0000\u001b[0m      \u001b[1;36m-0.0021\u001b[0m  \u001b[2m            \u001b[0m\n",
       "\u001b[2;36m                    \u001b[0m         \u001b[1;36m-0.0019\u001b[0m                                                                   \u001b[2m            \u001b[0m\n",
       "\u001b[2;36m                    \u001b[0m         Nrrr        \u001b[1;36m-0.0026\u001b[0m        \u001b[1;36m0.0001\u001b[0m      \u001b[1;36m-21.9003\u001b[0m      \u001b[1;36m0.0002\u001b[0m      \u001b[1;36m-0.0030\u001b[0m  \u001b[2m            \u001b[0m\n",
       "\u001b[2;36m                    \u001b[0m         \u001b[1;36m-0.0022\u001b[0m                                                                   \u001b[2m            \u001b[0m\n",
       "\u001b[2;36m                    \u001b[0m         ------------------------------------------------------------------------- \u001b[2m            \u001b[0m\n",
       "\u001b[2;36m                    \u001b[0m         -------                                                                   \u001b[2m            \u001b[0m\n",
       "\u001b[2;36m                    \u001b[0m         Omnibus:                    nan               Durbin-Watson:              \u001b[2m            \u001b[0m\n",
       "\u001b[2;36m                    \u001b[0m         \u001b[1;36m1.109\u001b[0m                                                                     \u001b[2m            \u001b[0m\n",
       "\u001b[2;36m                    \u001b[0m         \u001b[1;35mProb\u001b[0m\u001b[1m(\u001b[0mOmnibus\u001b[1m)\u001b[0m:              nan               Jarque-Bera \u001b[1m(\u001b[0mJB\u001b[1m)\u001b[0m:           \u001b[2m            \u001b[0m\n",
       "\u001b[2;36m                    \u001b[0m         \u001b[1;36m0.181\u001b[0m                                                                     \u001b[2m            \u001b[0m\n",
       "\u001b[2;36m                    \u001b[0m         Skew:                       \u001b[1;36m-0.188\u001b[0m            \u001b[1;35mProb\u001b[0m\u001b[1m(\u001b[0mJB\u001b[1m)\u001b[0m:                   \u001b[2m            \u001b[0m\n",
       "\u001b[2;36m                    \u001b[0m         \u001b[1;36m0.913\u001b[0m                                                                     \u001b[2m            \u001b[0m\n",
       "\u001b[2;36m                    \u001b[0m         Kurtosis:                   \u001b[1;36m2.146\u001b[0m             Condition No.:              \u001b[2m            \u001b[0m\n",
       "\u001b[2;36m                    \u001b[0m         \u001b[1;36m8\u001b[0m                                                                         \u001b[2m            \u001b[0m\n",
       "\u001b[2;36m                    \u001b[0m         ========================================================================= \u001b[2m            \u001b[0m\n",
       "\u001b[2;36m                    \u001b[0m         =======                                                                   \u001b[2m            \u001b[0m\n",
       "\u001b[2;36m                    \u001b[0m                                                                                   \u001b[2m            \u001b[0m\n"
      ]
     },
     "metadata": {},
     "output_type": "display_data"
    },
    {
     "data": {
      "text/html": [
       "<pre style=\"white-space:pre;overflow-x:auto;line-height:normal;font-family:Menlo,'DejaVu Sans Mono',consolas,'Courier New',monospace\"><span style=\"color: #7fbfbf; text-decoration-color: #7fbfbf\">                    </span><span style=\"color: #000080; text-decoration-color: #000080\">INFO    </span> Regression:Circle + Drift fx                                              <a href=\"file:///home/maa/dev/PHD/src/phd/pipelines/regression_VCT/nodes.py\" target=\"_blank\"><span style=\"color: #7f7f7f; text-decoration-color: #7f7f7f\">nodes.py</span></a><span style=\"color: #7f7f7f; text-decoration-color: #7f7f7f\">:</span><a href=\"file:///home/maa/dev/PHD/src/phd/pipelines/regression_VCT/nodes.py#549\" target=\"_blank\"><span style=\"color: #7f7f7f; text-decoration-color: #7f7f7f\">549</span></a>\n",
       "</pre>\n"
      ],
      "text/plain": [
       "\u001b[2;36m                   \u001b[0m\u001b[2;36m \u001b[0m\u001b[34mINFO    \u001b[0m Regression:Circle + Drift fx                                              \u001b]8;id=307549;file:///home/maa/dev/PHD/src/phd/pipelines/regression_VCT/nodes.py\u001b\\\u001b[2mnodes.py\u001b[0m\u001b]8;;\u001b\\\u001b[2m:\u001b[0m\u001b]8;id=557809;file:///home/maa/dev/PHD/src/phd/pipelines/regression_VCT/nodes.py#549\u001b\\\u001b[2m549\u001b[0m\u001b]8;;\u001b\\\n"
      ]
     },
     "metadata": {},
     "output_type": "display_data"
    },
    {
     "data": {
      "text/html": [
       "<pre style=\"white-space:pre;overflow-x:auto;line-height:normal;font-family:Menlo,'DejaVu Sans Mono',consolas,'Courier New',monospace\"><span style=\"color: #7fbfbf; text-decoration-color: #7fbfbf\">                    </span><span style=\"color: #000080; text-decoration-color: #000080\">INFO    </span>                   Results: Ordinary least squares                         <a href=\"file:///home/maa/dev/PHD/src/phd/pipelines/regression_VCT/nodes.py\" target=\"_blank\"><span style=\"color: #7f7f7f; text-decoration-color: #7f7f7f\">nodes.py</span></a><span style=\"color: #7f7f7f; text-decoration-color: #7f7f7f\">:</span><a href=\"file:///home/maa/dev/PHD/src/phd/pipelines/regression_VCT/nodes.py#551\" target=\"_blank\"><span style=\"color: #7f7f7f; text-decoration-color: #7f7f7f\">551</span></a>\n",
       "<span style=\"color: #7fbfbf; text-decoration-color: #7fbfbf\">                    </span>         ===================================================================       <span style=\"color: #7f7f7f; text-decoration-color: #7f7f7f\">            </span>\n",
       "<span style=\"color: #7fbfbf; text-decoration-color: #7fbfbf\">                    </span>         Model:              OLS              Adj. R-squared:     <span style=\"color: #008080; text-decoration-color: #008080; font-weight: bold\">-0.000</span>           <span style=\"color: #7f7f7f; text-decoration-color: #7f7f7f\">            </span>\n",
       "<span style=\"color: #7fbfbf; text-decoration-color: #7fbfbf\">                    </span>         Dependent Variable: X_D              AIC:                <span style=\"color: #008080; text-decoration-color: #008080; font-weight: bold\">-2243.2433</span>       <span style=\"color: #7f7f7f; text-decoration-color: #7f7f7f\">            </span>\n",
       "<span style=\"color: #7fbfbf; text-decoration-color: #7fbfbf\">                    </span>         Date:               <span style=\"color: #008080; text-decoration-color: #008080; font-weight: bold\">2024</span>-<span style=\"color: #008080; text-decoration-color: #008080; font-weight: bold\">01</span>-<span style=\"color: #008080; text-decoration-color: #008080; font-weight: bold\">10</span> <span style=\"color: #00ff00; text-decoration-color: #00ff00; font-weight: bold\">13:25</span> BIC:                <span style=\"color: #008080; text-decoration-color: #008080; font-weight: bold\">-2237.6353</span>       <span style=\"color: #7f7f7f; text-decoration-color: #7f7f7f\">            </span>\n",
       "<span style=\"color: #7fbfbf; text-decoration-color: #7fbfbf\">                    </span>         No. Observations:   <span style=\"color: #008080; text-decoration-color: #008080; font-weight: bold\">122</span>              Log-Likelihood:     <span style=\"color: #008080; text-decoration-color: #008080; font-weight: bold\">1123.6</span>           <span style=\"color: #7f7f7f; text-decoration-color: #7f7f7f\">            </span>\n",
       "<span style=\"color: #7fbfbf; text-decoration-color: #7fbfbf\">                    </span>         Df Model:           <span style=\"color: #008080; text-decoration-color: #008080; font-weight: bold\">1</span>                F-statistic:        <span style=\"color: #008080; text-decoration-color: #008080; font-weight: bold\">0.9637</span>           <span style=\"color: #7f7f7f; text-decoration-color: #7f7f7f\">            </span>\n",
       "<span style=\"color: #7fbfbf; text-decoration-color: #7fbfbf\">                    </span>         Df Residuals:       <span style=\"color: #008080; text-decoration-color: #008080; font-weight: bold\">120</span>              Prob <span style=\"font-weight: bold\">(</span>F-statistic<span style=\"font-weight: bold\">)</span>: <span style=\"color: #008080; text-decoration-color: #008080; font-weight: bold\">0.328</span>            <span style=\"color: #7f7f7f; text-decoration-color: #7f7f7f\">            </span>\n",
       "<span style=\"color: #7fbfbf; text-decoration-color: #7fbfbf\">                    </span>         R-squared:          <span style=\"color: #008080; text-decoration-color: #008080; font-weight: bold\">0.008</span>            Scale:              <span style=\"color: #008080; text-decoration-color: #008080; font-weight: bold\">5.9565e-10</span>       <span style=\"color: #7f7f7f; text-decoration-color: #7f7f7f\">            </span>\n",
       "<span style=\"color: #7fbfbf; text-decoration-color: #7fbfbf\">                    </span>         ---------------------------------------------------------------------     <span style=\"color: #7f7f7f; text-decoration-color: #7f7f7f\">            </span>\n",
       "<span style=\"color: #7fbfbf; text-decoration-color: #7fbfbf\">                    </span>                      Coef.    Std.Err.      t      P&gt;|t|     <span style=\"font-weight: bold\">[</span><span style=\"color: #008080; text-decoration-color: #008080; font-weight: bold\">0.025</span>    <span style=\"color: #008080; text-decoration-color: #008080; font-weight: bold\">0.975</span><span style=\"font-weight: bold\">]</span>     <span style=\"color: #7f7f7f; text-decoration-color: #7f7f7f\">            </span>\n",
       "<span style=\"color: #7fbfbf; text-decoration-color: #7fbfbf\">                    </span>         ---------------------------------------------------------------------     <span style=\"color: #7f7f7f; text-decoration-color: #7f7f7f\">            </span>\n",
       "<span style=\"color: #7fbfbf; text-decoration-color: #7fbfbf\">                    </span>         Xvr         <span style=\"color: #008080; text-decoration-color: #008080; font-weight: bold\">-0.0002</span>     <span style=\"color: #008080; text-decoration-color: #008080; font-weight: bold\">0.0002</span>   <span style=\"color: #008080; text-decoration-color: #008080; font-weight: bold\">-0.9817</span>   <span style=\"color: #008080; text-decoration-color: #008080; font-weight: bold\">0.3282</span>   <span style=\"color: #008080; text-decoration-color: #008080; font-weight: bold\">-0.0007</span>    <span style=\"color: #008080; text-decoration-color: #008080; font-weight: bold\">0.0002</span>     <span style=\"color: #7f7f7f; text-decoration-color: #7f7f7f\">            </span>\n",
       "<span style=\"color: #7fbfbf; text-decoration-color: #7fbfbf\">                    </span>         const       <span style=\"color: #008080; text-decoration-color: #008080; font-weight: bold\">-0.0000</span>     <span style=\"color: #008080; text-decoration-color: #008080; font-weight: bold\">0.0000</span>   <span style=\"color: #008080; text-decoration-color: #008080; font-weight: bold\">-4.4618</span>   <span style=\"color: #008080; text-decoration-color: #008080; font-weight: bold\">0.0000</span>   <span style=\"color: #008080; text-decoration-color: #008080; font-weight: bold\">-0.0000</span>   <span style=\"color: #008080; text-decoration-color: #008080; font-weight: bold\">-0.0000</span>     <span style=\"color: #7f7f7f; text-decoration-color: #7f7f7f\">            </span>\n",
       "<span style=\"color: #7fbfbf; text-decoration-color: #7fbfbf\">                    </span>         -------------------------------------------------------------------       <span style=\"color: #7f7f7f; text-decoration-color: #7f7f7f\">            </span>\n",
       "<span style=\"color: #7fbfbf; text-decoration-color: #7fbfbf\">                    </span>         Omnibus:               <span style=\"color: #008080; text-decoration-color: #008080; font-weight: bold\">9.106</span>         Durbin-Watson:           <span style=\"color: #008080; text-decoration-color: #008080; font-weight: bold\">1.792</span>       <span style=\"color: #7f7f7f; text-decoration-color: #7f7f7f\">            </span>\n",
       "<span style=\"color: #7fbfbf; text-decoration-color: #7fbfbf\">                    </span>         <span style=\"color: #800080; text-decoration-color: #800080; font-weight: bold\">Prob</span><span style=\"font-weight: bold\">(</span>Omnibus<span style=\"font-weight: bold\">)</span>:         <span style=\"color: #008080; text-decoration-color: #008080; font-weight: bold\">0.011</span>         Jarque-Bera <span style=\"font-weight: bold\">(</span>JB<span style=\"font-weight: bold\">)</span>:        <span style=\"color: #008080; text-decoration-color: #008080; font-weight: bold\">9.022</span>       <span style=\"color: #7f7f7f; text-decoration-color: #7f7f7f\">            </span>\n",
       "<span style=\"color: #7fbfbf; text-decoration-color: #7fbfbf\">                    </span>         Skew:                  <span style=\"color: #008080; text-decoration-color: #008080; font-weight: bold\">-0.645</span>        <span style=\"color: #800080; text-decoration-color: #800080; font-weight: bold\">Prob</span><span style=\"font-weight: bold\">(</span>JB<span style=\"font-weight: bold\">)</span>:                <span style=\"color: #008080; text-decoration-color: #008080; font-weight: bold\">0.011</span>       <span style=\"color: #7f7f7f; text-decoration-color: #7f7f7f\">            </span>\n",
       "<span style=\"color: #7fbfbf; text-decoration-color: #7fbfbf\">                    </span>         Kurtosis:              <span style=\"color: #008080; text-decoration-color: #008080; font-weight: bold\">3.336</span>         Condition No.:           <span style=\"color: #008080; text-decoration-color: #008080; font-weight: bold\">102</span>         <span style=\"color: #7f7f7f; text-decoration-color: #7f7f7f\">            </span>\n",
       "<span style=\"color: #7fbfbf; text-decoration-color: #7fbfbf\">                    </span>         ===================================================================       <span style=\"color: #7f7f7f; text-decoration-color: #7f7f7f\">            </span>\n",
       "<span style=\"color: #7fbfbf; text-decoration-color: #7fbfbf\">                    </span>                                                                                   <span style=\"color: #7f7f7f; text-decoration-color: #7f7f7f\">            </span>\n",
       "</pre>\n"
      ],
      "text/plain": [
       "\u001b[2;36m                   \u001b[0m\u001b[2;36m \u001b[0m\u001b[34mINFO    \u001b[0m                   Results: Ordinary least squares                         \u001b]8;id=518096;file:///home/maa/dev/PHD/src/phd/pipelines/regression_VCT/nodes.py\u001b\\\u001b[2mnodes.py\u001b[0m\u001b]8;;\u001b\\\u001b[2m:\u001b[0m\u001b]8;id=752524;file:///home/maa/dev/PHD/src/phd/pipelines/regression_VCT/nodes.py#551\u001b\\\u001b[2m551\u001b[0m\u001b]8;;\u001b\\\n",
       "\u001b[2;36m                    \u001b[0m         ===================================================================       \u001b[2m            \u001b[0m\n",
       "\u001b[2;36m                    \u001b[0m         Model:              OLS              Adj. R-squared:     \u001b[1;36m-0.000\u001b[0m           \u001b[2m            \u001b[0m\n",
       "\u001b[2;36m                    \u001b[0m         Dependent Variable: X_D              AIC:                \u001b[1;36m-2243.2433\u001b[0m       \u001b[2m            \u001b[0m\n",
       "\u001b[2;36m                    \u001b[0m         Date:               \u001b[1;36m2024\u001b[0m-\u001b[1;36m01\u001b[0m-\u001b[1;36m10\u001b[0m \u001b[1;92m13:25\u001b[0m BIC:                \u001b[1;36m-2237.6353\u001b[0m       \u001b[2m            \u001b[0m\n",
       "\u001b[2;36m                    \u001b[0m         No. Observations:   \u001b[1;36m122\u001b[0m              Log-Likelihood:     \u001b[1;36m1123.6\u001b[0m           \u001b[2m            \u001b[0m\n",
       "\u001b[2;36m                    \u001b[0m         Df Model:           \u001b[1;36m1\u001b[0m                F-statistic:        \u001b[1;36m0.9637\u001b[0m           \u001b[2m            \u001b[0m\n",
       "\u001b[2;36m                    \u001b[0m         Df Residuals:       \u001b[1;36m120\u001b[0m              Prob \u001b[1m(\u001b[0mF-statistic\u001b[1m)\u001b[0m: \u001b[1;36m0.328\u001b[0m            \u001b[2m            \u001b[0m\n",
       "\u001b[2;36m                    \u001b[0m         R-squared:          \u001b[1;36m0.008\u001b[0m            Scale:              \u001b[1;36m5.9565e-10\u001b[0m       \u001b[2m            \u001b[0m\n",
       "\u001b[2;36m                    \u001b[0m         ---------------------------------------------------------------------     \u001b[2m            \u001b[0m\n",
       "\u001b[2;36m                    \u001b[0m                      Coef.    Std.Err.      t      P>|t|     \u001b[1m[\u001b[0m\u001b[1;36m0.025\u001b[0m    \u001b[1;36m0.975\u001b[0m\u001b[1m]\u001b[0m     \u001b[2m            \u001b[0m\n",
       "\u001b[2;36m                    \u001b[0m         ---------------------------------------------------------------------     \u001b[2m            \u001b[0m\n",
       "\u001b[2;36m                    \u001b[0m         Xvr         \u001b[1;36m-0.0002\u001b[0m     \u001b[1;36m0.0002\u001b[0m   \u001b[1;36m-0.9817\u001b[0m   \u001b[1;36m0.3282\u001b[0m   \u001b[1;36m-0.0007\u001b[0m    \u001b[1;36m0.0002\u001b[0m     \u001b[2m            \u001b[0m\n",
       "\u001b[2;36m                    \u001b[0m         const       \u001b[1;36m-0.0000\u001b[0m     \u001b[1;36m0.0000\u001b[0m   \u001b[1;36m-4.4618\u001b[0m   \u001b[1;36m0.0000\u001b[0m   \u001b[1;36m-0.0000\u001b[0m   \u001b[1;36m-0.0000\u001b[0m     \u001b[2m            \u001b[0m\n",
       "\u001b[2;36m                    \u001b[0m         -------------------------------------------------------------------       \u001b[2m            \u001b[0m\n",
       "\u001b[2;36m                    \u001b[0m         Omnibus:               \u001b[1;36m9.106\u001b[0m         Durbin-Watson:           \u001b[1;36m1.792\u001b[0m       \u001b[2m            \u001b[0m\n",
       "\u001b[2;36m                    \u001b[0m         \u001b[1;35mProb\u001b[0m\u001b[1m(\u001b[0mOmnibus\u001b[1m)\u001b[0m:         \u001b[1;36m0.011\u001b[0m         Jarque-Bera \u001b[1m(\u001b[0mJB\u001b[1m)\u001b[0m:        \u001b[1;36m9.022\u001b[0m       \u001b[2m            \u001b[0m\n",
       "\u001b[2;36m                    \u001b[0m         Skew:                  \u001b[1;36m-0.645\u001b[0m        \u001b[1;35mProb\u001b[0m\u001b[1m(\u001b[0mJB\u001b[1m)\u001b[0m:                \u001b[1;36m0.011\u001b[0m       \u001b[2m            \u001b[0m\n",
       "\u001b[2;36m                    \u001b[0m         Kurtosis:              \u001b[1;36m3.336\u001b[0m         Condition No.:           \u001b[1;36m102\u001b[0m         \u001b[2m            \u001b[0m\n",
       "\u001b[2;36m                    \u001b[0m         ===================================================================       \u001b[2m            \u001b[0m\n",
       "\u001b[2;36m                    \u001b[0m                                                                                   \u001b[2m            \u001b[0m\n"
      ]
     },
     "metadata": {},
     "output_type": "display_data"
    },
    {
     "data": {
      "text/html": [
       "<pre style=\"white-space:pre;overflow-x:auto;line-height:normal;font-family:Menlo,'DejaVu Sans Mono',consolas,'Courier New',monospace\"><span style=\"color: #7fbfbf; text-decoration-color: #7fbfbf\">                    </span><span style=\"color: #000080; text-decoration-color: #000080\">INFO    </span> Regression:Circle + Drift fy                                              <a href=\"file:///home/maa/dev/PHD/src/phd/pipelines/regression_VCT/nodes.py\" target=\"_blank\"><span style=\"color: #7f7f7f; text-decoration-color: #7f7f7f\">nodes.py</span></a><span style=\"color: #7f7f7f; text-decoration-color: #7f7f7f\">:</span><a href=\"file:///home/maa/dev/PHD/src/phd/pipelines/regression_VCT/nodes.py#549\" target=\"_blank\"><span style=\"color: #7f7f7f; text-decoration-color: #7f7f7f\">549</span></a>\n",
       "</pre>\n"
      ],
      "text/plain": [
       "\u001b[2;36m                   \u001b[0m\u001b[2;36m \u001b[0m\u001b[34mINFO    \u001b[0m Regression:Circle + Drift fy                                              \u001b]8;id=770166;file:///home/maa/dev/PHD/src/phd/pipelines/regression_VCT/nodes.py\u001b\\\u001b[2mnodes.py\u001b[0m\u001b]8;;\u001b\\\u001b[2m:\u001b[0m\u001b]8;id=48042;file:///home/maa/dev/PHD/src/phd/pipelines/regression_VCT/nodes.py#549\u001b\\\u001b[2m549\u001b[0m\u001b]8;;\u001b\\\n"
      ]
     },
     "metadata": {},
     "output_type": "display_data"
    },
    {
     "data": {
      "text/html": [
       "<pre style=\"white-space:pre;overflow-x:auto;line-height:normal;font-family:Menlo,'DejaVu Sans Mono',consolas,'Courier New',monospace\"><span style=\"color: #7fbfbf; text-decoration-color: #7fbfbf\">                    </span><span style=\"color: #000080; text-decoration-color: #000080\">INFO    </span>                         Results: Ordinary least squares                   <a href=\"file:///home/maa/dev/PHD/src/phd/pipelines/regression_VCT/nodes.py\" target=\"_blank\"><span style=\"color: #7f7f7f; text-decoration-color: #7f7f7f\">nodes.py</span></a><span style=\"color: #7f7f7f; text-decoration-color: #7f7f7f\">:</span><a href=\"file:///home/maa/dev/PHD/src/phd/pipelines/regression_VCT/nodes.py#551\" target=\"_blank\"><span style=\"color: #7f7f7f; text-decoration-color: #7f7f7f\">551</span></a>\n",
       "<span style=\"color: #7fbfbf; text-decoration-color: #7fbfbf\">                    </span>         ========================================================================= <span style=\"color: #7f7f7f; text-decoration-color: #7f7f7f\">            </span>\n",
       "<span style=\"color: #7fbfbf; text-decoration-color: #7fbfbf\">                    </span>         =======                                                                   <span style=\"color: #7f7f7f; text-decoration-color: #7f7f7f\">            </span>\n",
       "<span style=\"color: #7fbfbf; text-decoration-color: #7fbfbf\">                    </span>         Model:                  OLS              Adj. R-squared <span style=\"font-weight: bold\">(</span>uncentered<span style=\"font-weight: bold\">)</span>:     <span style=\"color: #7f7f7f; text-decoration-color: #7f7f7f\">            </span>\n",
       "<span style=\"color: #7fbfbf; text-decoration-color: #7fbfbf\">                    </span>         <span style=\"color: #008080; text-decoration-color: #008080; font-weight: bold\">0.347</span>                                                                     <span style=\"color: #7f7f7f; text-decoration-color: #7f7f7f\">            </span>\n",
       "<span style=\"color: #7fbfbf; text-decoration-color: #7fbfbf\">                    </span>         Dependent Variable:     Y_D              AIC:                             <span style=\"color: #7f7f7f; text-decoration-color: #7f7f7f\">            </span>\n",
       "<span style=\"color: #7fbfbf; text-decoration-color: #7fbfbf\">                    </span>         <span style=\"color: #008080; text-decoration-color: #008080; font-weight: bold\">-1926.0282</span>                                                                <span style=\"color: #7f7f7f; text-decoration-color: #7f7f7f\">            </span>\n",
       "<span style=\"color: #7fbfbf; text-decoration-color: #7fbfbf\">                    </span>         Date:                   <span style=\"color: #008080; text-decoration-color: #008080; font-weight: bold\">2024</span>-<span style=\"color: #008080; text-decoration-color: #008080; font-weight: bold\">01</span>-<span style=\"color: #008080; text-decoration-color: #008080; font-weight: bold\">10</span> <span style=\"color: #00ff00; text-decoration-color: #00ff00; font-weight: bold\">13:25</span> BIC:                             <span style=\"color: #7f7f7f; text-decoration-color: #7f7f7f\">            </span>\n",
       "<span style=\"color: #7fbfbf; text-decoration-color: #7fbfbf\">                    </span>         <span style=\"color: #008080; text-decoration-color: #008080; font-weight: bold\">-1920.4202</span>                                                                <span style=\"color: #7f7f7f; text-decoration-color: #7f7f7f\">            </span>\n",
       "<span style=\"color: #7fbfbf; text-decoration-color: #7fbfbf\">                    </span>         No. Observations:       <span style=\"color: #008080; text-decoration-color: #008080; font-weight: bold\">122</span>              Log-Likelihood:                  <span style=\"color: #7f7f7f; text-decoration-color: #7f7f7f\">            </span>\n",
       "<span style=\"color: #7fbfbf; text-decoration-color: #7fbfbf\">                    </span>         <span style=\"color: #008080; text-decoration-color: #008080; font-weight: bold\">965.01</span>                                                                    <span style=\"color: #7f7f7f; text-decoration-color: #7f7f7f\">            </span>\n",
       "<span style=\"color: #7fbfbf; text-decoration-color: #7fbfbf\">                    </span>         Df Model:               <span style=\"color: #008080; text-decoration-color: #008080; font-weight: bold\">2</span>                F-statistic:                     <span style=\"color: #7f7f7f; text-decoration-color: #7f7f7f\">            </span>\n",
       "<span style=\"color: #7fbfbf; text-decoration-color: #7fbfbf\">                    </span>         <span style=\"color: #008080; text-decoration-color: #008080; font-weight: bold\">33.37</span>                                                                     <span style=\"color: #7f7f7f; text-decoration-color: #7f7f7f\">            </span>\n",
       "<span style=\"color: #7fbfbf; text-decoration-color: #7fbfbf\">                    </span>         Df Residuals:           <span style=\"color: #008080; text-decoration-color: #008080; font-weight: bold\">120</span>              Prob <span style=\"font-weight: bold\">(</span>F-statistic<span style=\"font-weight: bold\">)</span>:              <span style=\"color: #7f7f7f; text-decoration-color: #7f7f7f\">            </span>\n",
       "<span style=\"color: #7fbfbf; text-decoration-color: #7fbfbf\">                    </span>         <span style=\"color: #008080; text-decoration-color: #008080; font-weight: bold\">2.99e-12</span>                                                                  <span style=\"color: #7f7f7f; text-decoration-color: #7f7f7f\">            </span>\n",
       "<span style=\"color: #7fbfbf; text-decoration-color: #7fbfbf\">                    </span>         R-squared <span style=\"font-weight: bold\">(</span>uncentered<span style=\"font-weight: bold\">)</span>: <span style=\"color: #008080; text-decoration-color: #008080; font-weight: bold\">0.357</span>            Scale:                           <span style=\"color: #7f7f7f; text-decoration-color: #7f7f7f\">            </span>\n",
       "<span style=\"color: #7fbfbf; text-decoration-color: #7fbfbf\">                    </span>         <span style=\"color: #008080; text-decoration-color: #008080; font-weight: bold\">8.0206e-09</span>                                                                <span style=\"color: #7f7f7f; text-decoration-color: #7f7f7f\">            </span>\n",
       "<span style=\"color: #7fbfbf; text-decoration-color: #7fbfbf\">                    </span>         ------------------------------------------------------------------------- <span style=\"color: #7f7f7f; text-decoration-color: #7f7f7f\">            </span>\n",
       "<span style=\"color: #7fbfbf; text-decoration-color: #7fbfbf\">                    </span>         ------------                                                              <span style=\"color: #7f7f7f; text-decoration-color: #7f7f7f\">            </span>\n",
       "<span style=\"color: #7fbfbf; text-decoration-color: #7fbfbf\">                    </span>                       Coef.       Std.Err.         t         P&gt;|t|        <span style=\"font-weight: bold\">[</span><span style=\"color: #008080; text-decoration-color: #008080; font-weight: bold\">0.025</span>  <span style=\"color: #7f7f7f; text-decoration-color: #7f7f7f\">            </span>\n",
       "<span style=\"color: #7fbfbf; text-decoration-color: #7fbfbf\">                    </span>         <span style=\"color: #008080; text-decoration-color: #008080; font-weight: bold\">0.975</span><span style=\"font-weight: bold\">]</span>                                                                    <span style=\"color: #7f7f7f; text-decoration-color: #7f7f7f\">            </span>\n",
       "<span style=\"color: #7fbfbf; text-decoration-color: #7fbfbf\">                    </span>         ------------------------------------------------------------------------- <span style=\"color: #7f7f7f; text-decoration-color: #7f7f7f\">            </span>\n",
       "<span style=\"color: #7fbfbf; text-decoration-color: #7fbfbf\">                    </span>         ------------                                                              <span style=\"color: #7f7f7f; text-decoration-color: #7f7f7f\">            </span>\n",
       "<span style=\"color: #7fbfbf; text-decoration-color: #7fbfbf\">                    </span>         Yvrr         <span style=\"color: #008080; text-decoration-color: #008080; font-weight: bold\">-0.0531</span>        <span style=\"color: #008080; text-decoration-color: #008080; font-weight: bold\">0.0071</span>      <span style=\"color: #008080; text-decoration-color: #008080; font-weight: bold\">-7.4978</span>      <span style=\"color: #008080; text-decoration-color: #008080; font-weight: bold\">0.0000</span>      <span style=\"color: #008080; text-decoration-color: #008080; font-weight: bold\">-0.0671</span>  <span style=\"color: #7f7f7f; text-decoration-color: #7f7f7f\">            </span>\n",
       "<span style=\"color: #7fbfbf; text-decoration-color: #7fbfbf\">                    </span>         <span style=\"color: #008080; text-decoration-color: #008080; font-weight: bold\">-0.0391</span>                                                                   <span style=\"color: #7f7f7f; text-decoration-color: #7f7f7f\">            </span>\n",
       "<span style=\"color: #7fbfbf; text-decoration-color: #7fbfbf\">                    </span>         Yvvr         <span style=\"color: #008080; text-decoration-color: #008080; font-weight: bold\">-0.0774</span>        <span style=\"color: #008080; text-decoration-color: #008080; font-weight: bold\">0.0096</span>      <span style=\"color: #008080; text-decoration-color: #008080; font-weight: bold\">-8.1045</span>      <span style=\"color: #008080; text-decoration-color: #008080; font-weight: bold\">0.0000</span>      <span style=\"color: #008080; text-decoration-color: #008080; font-weight: bold\">-0.0963</span>  <span style=\"color: #7f7f7f; text-decoration-color: #7f7f7f\">            </span>\n",
       "<span style=\"color: #7fbfbf; text-decoration-color: #7fbfbf\">                    </span>         <span style=\"color: #008080; text-decoration-color: #008080; font-weight: bold\">-0.0585</span>                                                                   <span style=\"color: #7f7f7f; text-decoration-color: #7f7f7f\">            </span>\n",
       "<span style=\"color: #7fbfbf; text-decoration-color: #7fbfbf\">                    </span>         ------------------------------------------------------------------------- <span style=\"color: #7f7f7f; text-decoration-color: #7f7f7f\">            </span>\n",
       "<span style=\"color: #7fbfbf; text-decoration-color: #7fbfbf\">                    </span>         -------                                                                   <span style=\"color: #7f7f7f; text-decoration-color: #7f7f7f\">            </span>\n",
       "<span style=\"color: #7fbfbf; text-decoration-color: #7fbfbf\">                    </span>         Omnibus:                  <span style=\"color: #008080; text-decoration-color: #008080; font-weight: bold\">409.913</span>            Durbin-Watson:               <span style=\"color: #7f7f7f; text-decoration-color: #7f7f7f\">            </span>\n",
       "<span style=\"color: #7fbfbf; text-decoration-color: #7fbfbf\">                    </span>         <span style=\"color: #008080; text-decoration-color: #008080; font-weight: bold\">1.625</span>                                                                     <span style=\"color: #7f7f7f; text-decoration-color: #7f7f7f\">            </span>\n",
       "<span style=\"color: #7fbfbf; text-decoration-color: #7fbfbf\">                    </span>         <span style=\"color: #800080; text-decoration-color: #800080; font-weight: bold\">Prob</span><span style=\"font-weight: bold\">(</span>Omnibus<span style=\"font-weight: bold\">)</span>:            <span style=\"color: #008080; text-decoration-color: #008080; font-weight: bold\">0.000</span>              Jarque-Bera <span style=\"font-weight: bold\">(</span>JB<span style=\"font-weight: bold\">)</span>:            <span style=\"color: #7f7f7f; text-decoration-color: #7f7f7f\">            </span>\n",
       "<span style=\"color: #7fbfbf; text-decoration-color: #7fbfbf\">                    </span>         <span style=\"color: #008080; text-decoration-color: #008080; font-weight: bold\">11.443</span>                                                                    <span style=\"color: #7f7f7f; text-decoration-color: #7f7f7f\">            </span>\n",
       "<span style=\"color: #7fbfbf; text-decoration-color: #7fbfbf\">                    </span>         Skew:                     <span style=\"color: #008080; text-decoration-color: #008080; font-weight: bold\">0.000</span>              <span style=\"color: #800080; text-decoration-color: #800080; font-weight: bold\">Prob</span><span style=\"font-weight: bold\">(</span>JB<span style=\"font-weight: bold\">)</span>:                    <span style=\"color: #7f7f7f; text-decoration-color: #7f7f7f\">            </span>\n",
       "<span style=\"color: #7fbfbf; text-decoration-color: #7fbfbf\">                    </span>         <span style=\"color: #008080; text-decoration-color: #008080; font-weight: bold\">0.003</span>                                                                     <span style=\"color: #7f7f7f; text-decoration-color: #7f7f7f\">            </span>\n",
       "<span style=\"color: #7fbfbf; text-decoration-color: #7fbfbf\">                    </span>         Kurtosis:                 <span style=\"color: #008080; text-decoration-color: #008080; font-weight: bold\">1.500</span>              Condition No.:               <span style=\"color: #7f7f7f; text-decoration-color: #7f7f7f\">            </span>\n",
       "<span style=\"color: #7fbfbf; text-decoration-color: #7fbfbf\">                    </span>         <span style=\"color: #008080; text-decoration-color: #008080; font-weight: bold\">4</span>                                                                         <span style=\"color: #7f7f7f; text-decoration-color: #7f7f7f\">            </span>\n",
       "<span style=\"color: #7fbfbf; text-decoration-color: #7fbfbf\">                    </span>         ========================================================================= <span style=\"color: #7f7f7f; text-decoration-color: #7f7f7f\">            </span>\n",
       "<span style=\"color: #7fbfbf; text-decoration-color: #7fbfbf\">                    </span>         =======                                                                   <span style=\"color: #7f7f7f; text-decoration-color: #7f7f7f\">            </span>\n",
       "<span style=\"color: #7fbfbf; text-decoration-color: #7fbfbf\">                    </span>                                                                                   <span style=\"color: #7f7f7f; text-decoration-color: #7f7f7f\">            </span>\n",
       "</pre>\n"
      ],
      "text/plain": [
       "\u001b[2;36m                   \u001b[0m\u001b[2;36m \u001b[0m\u001b[34mINFO    \u001b[0m                         Results: Ordinary least squares                   \u001b]8;id=336057;file:///home/maa/dev/PHD/src/phd/pipelines/regression_VCT/nodes.py\u001b\\\u001b[2mnodes.py\u001b[0m\u001b]8;;\u001b\\\u001b[2m:\u001b[0m\u001b]8;id=945282;file:///home/maa/dev/PHD/src/phd/pipelines/regression_VCT/nodes.py#551\u001b\\\u001b[2m551\u001b[0m\u001b]8;;\u001b\\\n",
       "\u001b[2;36m                    \u001b[0m         ========================================================================= \u001b[2m            \u001b[0m\n",
       "\u001b[2;36m                    \u001b[0m         =======                                                                   \u001b[2m            \u001b[0m\n",
       "\u001b[2;36m                    \u001b[0m         Model:                  OLS              Adj. R-squared \u001b[1m(\u001b[0muncentered\u001b[1m)\u001b[0m:     \u001b[2m            \u001b[0m\n",
       "\u001b[2;36m                    \u001b[0m         \u001b[1;36m0.347\u001b[0m                                                                     \u001b[2m            \u001b[0m\n",
       "\u001b[2;36m                    \u001b[0m         Dependent Variable:     Y_D              AIC:                             \u001b[2m            \u001b[0m\n",
       "\u001b[2;36m                    \u001b[0m         \u001b[1;36m-1926.0282\u001b[0m                                                                \u001b[2m            \u001b[0m\n",
       "\u001b[2;36m                    \u001b[0m         Date:                   \u001b[1;36m2024\u001b[0m-\u001b[1;36m01\u001b[0m-\u001b[1;36m10\u001b[0m \u001b[1;92m13:25\u001b[0m BIC:                             \u001b[2m            \u001b[0m\n",
       "\u001b[2;36m                    \u001b[0m         \u001b[1;36m-1920.4202\u001b[0m                                                                \u001b[2m            \u001b[0m\n",
       "\u001b[2;36m                    \u001b[0m         No. Observations:       \u001b[1;36m122\u001b[0m              Log-Likelihood:                  \u001b[2m            \u001b[0m\n",
       "\u001b[2;36m                    \u001b[0m         \u001b[1;36m965.01\u001b[0m                                                                    \u001b[2m            \u001b[0m\n",
       "\u001b[2;36m                    \u001b[0m         Df Model:               \u001b[1;36m2\u001b[0m                F-statistic:                     \u001b[2m            \u001b[0m\n",
       "\u001b[2;36m                    \u001b[0m         \u001b[1;36m33.37\u001b[0m                                                                     \u001b[2m            \u001b[0m\n",
       "\u001b[2;36m                    \u001b[0m         Df Residuals:           \u001b[1;36m120\u001b[0m              Prob \u001b[1m(\u001b[0mF-statistic\u001b[1m)\u001b[0m:              \u001b[2m            \u001b[0m\n",
       "\u001b[2;36m                    \u001b[0m         \u001b[1;36m2.99e-12\u001b[0m                                                                  \u001b[2m            \u001b[0m\n",
       "\u001b[2;36m                    \u001b[0m         R-squared \u001b[1m(\u001b[0muncentered\u001b[1m)\u001b[0m: \u001b[1;36m0.357\u001b[0m            Scale:                           \u001b[2m            \u001b[0m\n",
       "\u001b[2;36m                    \u001b[0m         \u001b[1;36m8.0206e-09\u001b[0m                                                                \u001b[2m            \u001b[0m\n",
       "\u001b[2;36m                    \u001b[0m         ------------------------------------------------------------------------- \u001b[2m            \u001b[0m\n",
       "\u001b[2;36m                    \u001b[0m         ------------                                                              \u001b[2m            \u001b[0m\n",
       "\u001b[2;36m                    \u001b[0m                       Coef.       Std.Err.         t         P>|t|        \u001b[1m[\u001b[0m\u001b[1;36m0.025\u001b[0m  \u001b[2m            \u001b[0m\n",
       "\u001b[2;36m                    \u001b[0m         \u001b[1;36m0.975\u001b[0m\u001b[1m]\u001b[0m                                                                    \u001b[2m            \u001b[0m\n",
       "\u001b[2;36m                    \u001b[0m         ------------------------------------------------------------------------- \u001b[2m            \u001b[0m\n",
       "\u001b[2;36m                    \u001b[0m         ------------                                                              \u001b[2m            \u001b[0m\n",
       "\u001b[2;36m                    \u001b[0m         Yvrr         \u001b[1;36m-0.0531\u001b[0m        \u001b[1;36m0.0071\u001b[0m      \u001b[1;36m-7.4978\u001b[0m      \u001b[1;36m0.0000\u001b[0m      \u001b[1;36m-0.0671\u001b[0m  \u001b[2m            \u001b[0m\n",
       "\u001b[2;36m                    \u001b[0m         \u001b[1;36m-0.0391\u001b[0m                                                                   \u001b[2m            \u001b[0m\n",
       "\u001b[2;36m                    \u001b[0m         Yvvr         \u001b[1;36m-0.0774\u001b[0m        \u001b[1;36m0.0096\u001b[0m      \u001b[1;36m-8.1045\u001b[0m      \u001b[1;36m0.0000\u001b[0m      \u001b[1;36m-0.0963\u001b[0m  \u001b[2m            \u001b[0m\n",
       "\u001b[2;36m                    \u001b[0m         \u001b[1;36m-0.0585\u001b[0m                                                                   \u001b[2m            \u001b[0m\n",
       "\u001b[2;36m                    \u001b[0m         ------------------------------------------------------------------------- \u001b[2m            \u001b[0m\n",
       "\u001b[2;36m                    \u001b[0m         -------                                                                   \u001b[2m            \u001b[0m\n",
       "\u001b[2;36m                    \u001b[0m         Omnibus:                  \u001b[1;36m409.913\u001b[0m            Durbin-Watson:               \u001b[2m            \u001b[0m\n",
       "\u001b[2;36m                    \u001b[0m         \u001b[1;36m1.625\u001b[0m                                                                     \u001b[2m            \u001b[0m\n",
       "\u001b[2;36m                    \u001b[0m         \u001b[1;35mProb\u001b[0m\u001b[1m(\u001b[0mOmnibus\u001b[1m)\u001b[0m:            \u001b[1;36m0.000\u001b[0m              Jarque-Bera \u001b[1m(\u001b[0mJB\u001b[1m)\u001b[0m:            \u001b[2m            \u001b[0m\n",
       "\u001b[2;36m                    \u001b[0m         \u001b[1;36m11.443\u001b[0m                                                                    \u001b[2m            \u001b[0m\n",
       "\u001b[2;36m                    \u001b[0m         Skew:                     \u001b[1;36m0.000\u001b[0m              \u001b[1;35mProb\u001b[0m\u001b[1m(\u001b[0mJB\u001b[1m)\u001b[0m:                    \u001b[2m            \u001b[0m\n",
       "\u001b[2;36m                    \u001b[0m         \u001b[1;36m0.003\u001b[0m                                                                     \u001b[2m            \u001b[0m\n",
       "\u001b[2;36m                    \u001b[0m         Kurtosis:                 \u001b[1;36m1.500\u001b[0m              Condition No.:               \u001b[2m            \u001b[0m\n",
       "\u001b[2;36m                    \u001b[0m         \u001b[1;36m4\u001b[0m                                                                         \u001b[2m            \u001b[0m\n",
       "\u001b[2;36m                    \u001b[0m         ========================================================================= \u001b[2m            \u001b[0m\n",
       "\u001b[2;36m                    \u001b[0m         =======                                                                   \u001b[2m            \u001b[0m\n",
       "\u001b[2;36m                    \u001b[0m                                                                                   \u001b[2m            \u001b[0m\n"
      ]
     },
     "metadata": {},
     "output_type": "display_data"
    },
    {
     "data": {
      "text/html": [
       "<pre style=\"white-space:pre;overflow-x:auto;line-height:normal;font-family:Menlo,'DejaVu Sans Mono',consolas,'Courier New',monospace\"><span style=\"color: #7fbfbf; text-decoration-color: #7fbfbf\">                    </span><span style=\"color: #000080; text-decoration-color: #000080\">INFO    </span> Regression:Circle + Drift mz                                              <a href=\"file:///home/maa/dev/PHD/src/phd/pipelines/regression_VCT/nodes.py\" target=\"_blank\"><span style=\"color: #7f7f7f; text-decoration-color: #7f7f7f\">nodes.py</span></a><span style=\"color: #7f7f7f; text-decoration-color: #7f7f7f\">:</span><a href=\"file:///home/maa/dev/PHD/src/phd/pipelines/regression_VCT/nodes.py#549\" target=\"_blank\"><span style=\"color: #7f7f7f; text-decoration-color: #7f7f7f\">549</span></a>\n",
       "</pre>\n"
      ],
      "text/plain": [
       "\u001b[2;36m                   \u001b[0m\u001b[2;36m \u001b[0m\u001b[34mINFO    \u001b[0m Regression:Circle + Drift mz                                              \u001b]8;id=985624;file:///home/maa/dev/PHD/src/phd/pipelines/regression_VCT/nodes.py\u001b\\\u001b[2mnodes.py\u001b[0m\u001b]8;;\u001b\\\u001b[2m:\u001b[0m\u001b]8;id=892793;file:///home/maa/dev/PHD/src/phd/pipelines/regression_VCT/nodes.py#549\u001b\\\u001b[2m549\u001b[0m\u001b]8;;\u001b\\\n"
      ]
     },
     "metadata": {},
     "output_type": "display_data"
    },
    {
     "data": {
      "text/html": [
       "<pre style=\"white-space:pre;overflow-x:auto;line-height:normal;font-family:Menlo,'DejaVu Sans Mono',consolas,'Courier New',monospace\"><span style=\"color: #7fbfbf; text-decoration-color: #7fbfbf\">                    </span><span style=\"color: #000080; text-decoration-color: #000080\">INFO    </span>                         Results: Ordinary least squares                   <a href=\"file:///home/maa/dev/PHD/src/phd/pipelines/regression_VCT/nodes.py\" target=\"_blank\"><span style=\"color: #7f7f7f; text-decoration-color: #7f7f7f\">nodes.py</span></a><span style=\"color: #7f7f7f; text-decoration-color: #7f7f7f\">:</span><a href=\"file:///home/maa/dev/PHD/src/phd/pipelines/regression_VCT/nodes.py#551\" target=\"_blank\"><span style=\"color: #7f7f7f; text-decoration-color: #7f7f7f\">551</span></a>\n",
       "<span style=\"color: #7fbfbf; text-decoration-color: #7fbfbf\">                    </span>         ========================================================================= <span style=\"color: #7f7f7f; text-decoration-color: #7f7f7f\">            </span>\n",
       "<span style=\"color: #7fbfbf; text-decoration-color: #7fbfbf\">                    </span>         =======                                                                   <span style=\"color: #7f7f7f; text-decoration-color: #7f7f7f\">            </span>\n",
       "<span style=\"color: #7fbfbf; text-decoration-color: #7fbfbf\">                    </span>         Model:                  OLS              Adj. R-squared <span style=\"font-weight: bold\">(</span>uncentered<span style=\"font-weight: bold\">)</span>:     <span style=\"color: #7f7f7f; text-decoration-color: #7f7f7f\">            </span>\n",
       "<span style=\"color: #7fbfbf; text-decoration-color: #7fbfbf\">                    </span>         <span style=\"color: #008080; text-decoration-color: #008080; font-weight: bold\">0.902</span>                                                                     <span style=\"color: #7f7f7f; text-decoration-color: #7f7f7f\">            </span>\n",
       "<span style=\"color: #7fbfbf; text-decoration-color: #7fbfbf\">                    </span>         Dependent Variable:     N_D              AIC:                             <span style=\"color: #7f7f7f; text-decoration-color: #7f7f7f\">            </span>\n",
       "<span style=\"color: #7fbfbf; text-decoration-color: #7fbfbf\">                    </span>         <span style=\"color: #008080; text-decoration-color: #008080; font-weight: bold\">-2314.7936</span>                                                                <span style=\"color: #7f7f7f; text-decoration-color: #7f7f7f\">            </span>\n",
       "<span style=\"color: #7fbfbf; text-decoration-color: #7fbfbf\">                    </span>         Date:                   <span style=\"color: #008080; text-decoration-color: #008080; font-weight: bold\">2024</span>-<span style=\"color: #008080; text-decoration-color: #008080; font-weight: bold\">01</span>-<span style=\"color: #008080; text-decoration-color: #008080; font-weight: bold\">10</span> <span style=\"color: #00ff00; text-decoration-color: #00ff00; font-weight: bold\">13:25</span> BIC:                             <span style=\"color: #7f7f7f; text-decoration-color: #7f7f7f\">            </span>\n",
       "<span style=\"color: #7fbfbf; text-decoration-color: #7fbfbf\">                    </span>         <span style=\"color: #008080; text-decoration-color: #008080; font-weight: bold\">-2309.1855</span>                                                                <span style=\"color: #7f7f7f; text-decoration-color: #7f7f7f\">            </span>\n",
       "<span style=\"color: #7fbfbf; text-decoration-color: #7fbfbf\">                    </span>         No. Observations:       <span style=\"color: #008080; text-decoration-color: #008080; font-weight: bold\">122</span>              Log-Likelihood:                  <span style=\"color: #7f7f7f; text-decoration-color: #7f7f7f\">            </span>\n",
       "<span style=\"color: #7fbfbf; text-decoration-color: #7fbfbf\">                    </span>         <span style=\"color: #008080; text-decoration-color: #008080; font-weight: bold\">1159.4</span>                                                                    <span style=\"color: #7f7f7f; text-decoration-color: #7f7f7f\">            </span>\n",
       "<span style=\"color: #7fbfbf; text-decoration-color: #7fbfbf\">                    </span>         Df Model:               <span style=\"color: #008080; text-decoration-color: #008080; font-weight: bold\">2</span>                F-statistic:                     <span style=\"color: #7f7f7f; text-decoration-color: #7f7f7f\">            </span>\n",
       "<span style=\"color: #7fbfbf; text-decoration-color: #7fbfbf\">                    </span>         <span style=\"color: #008080; text-decoration-color: #008080; font-weight: bold\">565.4</span>                                                                     <span style=\"color: #7f7f7f; text-decoration-color: #7f7f7f\">            </span>\n",
       "<span style=\"color: #7fbfbf; text-decoration-color: #7fbfbf\">                    </span>         Df Residuals:           <span style=\"color: #008080; text-decoration-color: #008080; font-weight: bold\">120</span>              Prob <span style=\"font-weight: bold\">(</span>F-statistic<span style=\"font-weight: bold\">)</span>:              <span style=\"color: #7f7f7f; text-decoration-color: #7f7f7f\">            </span>\n",
       "<span style=\"color: #7fbfbf; text-decoration-color: #7fbfbf\">                    </span>         <span style=\"color: #008080; text-decoration-color: #008080; font-weight: bold\">8.30e-62</span>                                                                  <span style=\"color: #7f7f7f; text-decoration-color: #7f7f7f\">            </span>\n",
       "<span style=\"color: #7fbfbf; text-decoration-color: #7fbfbf\">                    </span>         R-squared <span style=\"font-weight: bold\">(</span>uncentered<span style=\"font-weight: bold\">)</span>: <span style=\"color: #008080; text-decoration-color: #008080; font-weight: bold\">0.904</span>            Scale:                           <span style=\"color: #7f7f7f; text-decoration-color: #7f7f7f\">            </span>\n",
       "<span style=\"color: #7fbfbf; text-decoration-color: #7fbfbf\">                    </span>         <span style=\"color: #008080; text-decoration-color: #008080; font-weight: bold\">3.3135e-10</span>                                                                <span style=\"color: #7f7f7f; text-decoration-color: #7f7f7f\">            </span>\n",
       "<span style=\"color: #7fbfbf; text-decoration-color: #7fbfbf\">                    </span>         ------------------------------------------------------------------------- <span style=\"color: #7f7f7f; text-decoration-color: #7f7f7f\">            </span>\n",
       "<span style=\"color: #7fbfbf; text-decoration-color: #7fbfbf\">                    </span>         ------------                                                              <span style=\"color: #7f7f7f; text-decoration-color: #7f7f7f\">            </span>\n",
       "<span style=\"color: #7fbfbf; text-decoration-color: #7fbfbf\">                    </span>                      Coef.       Std.Err.         t          P&gt;|t|        <span style=\"font-weight: bold\">[</span><span style=\"color: #008080; text-decoration-color: #008080; font-weight: bold\">0.025</span>  <span style=\"color: #7f7f7f; text-decoration-color: #7f7f7f\">            </span>\n",
       "<span style=\"color: #7fbfbf; text-decoration-color: #7fbfbf\">                    </span>         <span style=\"color: #008080; text-decoration-color: #008080; font-weight: bold\">0.975</span><span style=\"font-weight: bold\">]</span>                                                                    <span style=\"color: #7f7f7f; text-decoration-color: #7f7f7f\">            </span>\n",
       "<span style=\"color: #7fbfbf; text-decoration-color: #7fbfbf\">                    </span>         ------------------------------------------------------------------------- <span style=\"color: #7f7f7f; text-decoration-color: #7f7f7f\">            </span>\n",
       "<span style=\"color: #7fbfbf; text-decoration-color: #7fbfbf\">                    </span>         ------------                                                              <span style=\"color: #7f7f7f; text-decoration-color: #7f7f7f\">            </span>\n",
       "<span style=\"color: #7fbfbf; text-decoration-color: #7fbfbf\">                    </span>         Nvvr        <span style=\"color: #008080; text-decoration-color: #008080; font-weight: bold\">-0.0432</span>        <span style=\"color: #008080; text-decoration-color: #008080; font-weight: bold\">0.0019</span>      <span style=\"color: #008080; text-decoration-color: #008080; font-weight: bold\">-22.2720</span>      <span style=\"color: #008080; text-decoration-color: #008080; font-weight: bold\">0.0000</span>      <span style=\"color: #008080; text-decoration-color: #008080; font-weight: bold\">-0.0471</span>  <span style=\"color: #7f7f7f; text-decoration-color: #7f7f7f\">            </span>\n",
       "<span style=\"color: #7fbfbf; text-decoration-color: #7fbfbf\">                    </span>         <span style=\"color: #008080; text-decoration-color: #008080; font-weight: bold\">-0.0394</span>                                                                   <span style=\"color: #7f7f7f; text-decoration-color: #7f7f7f\">            </span>\n",
       "<span style=\"color: #7fbfbf; text-decoration-color: #7fbfbf\">                    </span>         Nvrr        <span style=\"color: #008080; text-decoration-color: #008080; font-weight: bold\">-0.0091</span>        <span style=\"color: #008080; text-decoration-color: #008080; font-weight: bold\">0.0014</span>       <span style=\"color: #008080; text-decoration-color: #008080; font-weight: bold\">-6.3197</span>      <span style=\"color: #008080; text-decoration-color: #008080; font-weight: bold\">0.0000</span>      <span style=\"color: #008080; text-decoration-color: #008080; font-weight: bold\">-0.0119</span>  <span style=\"color: #7f7f7f; text-decoration-color: #7f7f7f\">            </span>\n",
       "<span style=\"color: #7fbfbf; text-decoration-color: #7fbfbf\">                    </span>         <span style=\"color: #008080; text-decoration-color: #008080; font-weight: bold\">-0.0062</span>                                                                   <span style=\"color: #7f7f7f; text-decoration-color: #7f7f7f\">            </span>\n",
       "<span style=\"color: #7fbfbf; text-decoration-color: #7fbfbf\">                    </span>         ------------------------------------------------------------------------- <span style=\"color: #7f7f7f; text-decoration-color: #7f7f7f\">            </span>\n",
       "<span style=\"color: #7fbfbf; text-decoration-color: #7fbfbf\">                    </span>         -------                                                                   <span style=\"color: #7f7f7f; text-decoration-color: #7f7f7f\">            </span>\n",
       "<span style=\"color: #7fbfbf; text-decoration-color: #7fbfbf\">                    </span>         Omnibus:                  <span style=\"color: #008080; text-decoration-color: #008080; font-weight: bold\">21.041</span>            Durbin-Watson:                <span style=\"color: #7f7f7f; text-decoration-color: #7f7f7f\">            </span>\n",
       "<span style=\"color: #7fbfbf; text-decoration-color: #7fbfbf\">                    </span>         <span style=\"color: #008080; text-decoration-color: #008080; font-weight: bold\">2.356</span>                                                                     <span style=\"color: #7f7f7f; text-decoration-color: #7f7f7f\">            </span>\n",
       "<span style=\"color: #7fbfbf; text-decoration-color: #7fbfbf\">                    </span>         <span style=\"color: #800080; text-decoration-color: #800080; font-weight: bold\">Prob</span><span style=\"font-weight: bold\">(</span>Omnibus<span style=\"font-weight: bold\">)</span>:            <span style=\"color: #008080; text-decoration-color: #008080; font-weight: bold\">0.000</span>             Jarque-Bera <span style=\"font-weight: bold\">(</span>JB<span style=\"font-weight: bold\">)</span>:             <span style=\"color: #7f7f7f; text-decoration-color: #7f7f7f\">            </span>\n",
       "<span style=\"color: #7fbfbf; text-decoration-color: #7fbfbf\">                    </span>         <span style=\"color: #008080; text-decoration-color: #008080; font-weight: bold\">124.574</span>                                                                   <span style=\"color: #7f7f7f; text-decoration-color: #7f7f7f\">            </span>\n",
       "<span style=\"color: #7fbfbf; text-decoration-color: #7fbfbf\">                    </span>         Skew:                     <span style=\"color: #008080; text-decoration-color: #008080; font-weight: bold\">-0.000</span>            <span style=\"color: #800080; text-decoration-color: #800080; font-weight: bold\">Prob</span><span style=\"font-weight: bold\">(</span>JB<span style=\"font-weight: bold\">)</span>:                     <span style=\"color: #7f7f7f; text-decoration-color: #7f7f7f\">            </span>\n",
       "<span style=\"color: #7fbfbf; text-decoration-color: #7fbfbf\">                    </span>         <span style=\"color: #008080; text-decoration-color: #008080; font-weight: bold\">0.000</span>                                                                     <span style=\"color: #7f7f7f; text-decoration-color: #7f7f7f\">            </span>\n",
       "<span style=\"color: #7fbfbf; text-decoration-color: #7fbfbf\">                    </span>         Kurtosis:                 <span style=\"color: #008080; text-decoration-color: #008080; font-weight: bold\">7.950</span>             Condition No.:                <span style=\"color: #7f7f7f; text-decoration-color: #7f7f7f\">            </span>\n",
       "<span style=\"color: #7fbfbf; text-decoration-color: #7fbfbf\">                    </span>         <span style=\"color: #008080; text-decoration-color: #008080; font-weight: bold\">4</span>                                                                         <span style=\"color: #7f7f7f; text-decoration-color: #7f7f7f\">            </span>\n",
       "<span style=\"color: #7fbfbf; text-decoration-color: #7fbfbf\">                    </span>         ========================================================================= <span style=\"color: #7f7f7f; text-decoration-color: #7f7f7f\">            </span>\n",
       "<span style=\"color: #7fbfbf; text-decoration-color: #7fbfbf\">                    </span>         =======                                                                   <span style=\"color: #7f7f7f; text-decoration-color: #7f7f7f\">            </span>\n",
       "<span style=\"color: #7fbfbf; text-decoration-color: #7fbfbf\">                    </span>                                                                                   <span style=\"color: #7f7f7f; text-decoration-color: #7f7f7f\">            </span>\n",
       "</pre>\n"
      ],
      "text/plain": [
       "\u001b[2;36m                   \u001b[0m\u001b[2;36m \u001b[0m\u001b[34mINFO    \u001b[0m                         Results: Ordinary least squares                   \u001b]8;id=812095;file:///home/maa/dev/PHD/src/phd/pipelines/regression_VCT/nodes.py\u001b\\\u001b[2mnodes.py\u001b[0m\u001b]8;;\u001b\\\u001b[2m:\u001b[0m\u001b]8;id=544113;file:///home/maa/dev/PHD/src/phd/pipelines/regression_VCT/nodes.py#551\u001b\\\u001b[2m551\u001b[0m\u001b]8;;\u001b\\\n",
       "\u001b[2;36m                    \u001b[0m         ========================================================================= \u001b[2m            \u001b[0m\n",
       "\u001b[2;36m                    \u001b[0m         =======                                                                   \u001b[2m            \u001b[0m\n",
       "\u001b[2;36m                    \u001b[0m         Model:                  OLS              Adj. R-squared \u001b[1m(\u001b[0muncentered\u001b[1m)\u001b[0m:     \u001b[2m            \u001b[0m\n",
       "\u001b[2;36m                    \u001b[0m         \u001b[1;36m0.902\u001b[0m                                                                     \u001b[2m            \u001b[0m\n",
       "\u001b[2;36m                    \u001b[0m         Dependent Variable:     N_D              AIC:                             \u001b[2m            \u001b[0m\n",
       "\u001b[2;36m                    \u001b[0m         \u001b[1;36m-2314.7936\u001b[0m                                                                \u001b[2m            \u001b[0m\n",
       "\u001b[2;36m                    \u001b[0m         Date:                   \u001b[1;36m2024\u001b[0m-\u001b[1;36m01\u001b[0m-\u001b[1;36m10\u001b[0m \u001b[1;92m13:25\u001b[0m BIC:                             \u001b[2m            \u001b[0m\n",
       "\u001b[2;36m                    \u001b[0m         \u001b[1;36m-2309.1855\u001b[0m                                                                \u001b[2m            \u001b[0m\n",
       "\u001b[2;36m                    \u001b[0m         No. Observations:       \u001b[1;36m122\u001b[0m              Log-Likelihood:                  \u001b[2m            \u001b[0m\n",
       "\u001b[2;36m                    \u001b[0m         \u001b[1;36m1159.4\u001b[0m                                                                    \u001b[2m            \u001b[0m\n",
       "\u001b[2;36m                    \u001b[0m         Df Model:               \u001b[1;36m2\u001b[0m                F-statistic:                     \u001b[2m            \u001b[0m\n",
       "\u001b[2;36m                    \u001b[0m         \u001b[1;36m565.4\u001b[0m                                                                     \u001b[2m            \u001b[0m\n",
       "\u001b[2;36m                    \u001b[0m         Df Residuals:           \u001b[1;36m120\u001b[0m              Prob \u001b[1m(\u001b[0mF-statistic\u001b[1m)\u001b[0m:              \u001b[2m            \u001b[0m\n",
       "\u001b[2;36m                    \u001b[0m         \u001b[1;36m8.30e-62\u001b[0m                                                                  \u001b[2m            \u001b[0m\n",
       "\u001b[2;36m                    \u001b[0m         R-squared \u001b[1m(\u001b[0muncentered\u001b[1m)\u001b[0m: \u001b[1;36m0.904\u001b[0m            Scale:                           \u001b[2m            \u001b[0m\n",
       "\u001b[2;36m                    \u001b[0m         \u001b[1;36m3.3135e-10\u001b[0m                                                                \u001b[2m            \u001b[0m\n",
       "\u001b[2;36m                    \u001b[0m         ------------------------------------------------------------------------- \u001b[2m            \u001b[0m\n",
       "\u001b[2;36m                    \u001b[0m         ------------                                                              \u001b[2m            \u001b[0m\n",
       "\u001b[2;36m                    \u001b[0m                      Coef.       Std.Err.         t          P>|t|        \u001b[1m[\u001b[0m\u001b[1;36m0.025\u001b[0m  \u001b[2m            \u001b[0m\n",
       "\u001b[2;36m                    \u001b[0m         \u001b[1;36m0.975\u001b[0m\u001b[1m]\u001b[0m                                                                    \u001b[2m            \u001b[0m\n",
       "\u001b[2;36m                    \u001b[0m         ------------------------------------------------------------------------- \u001b[2m            \u001b[0m\n",
       "\u001b[2;36m                    \u001b[0m         ------------                                                              \u001b[2m            \u001b[0m\n",
       "\u001b[2;36m                    \u001b[0m         Nvvr        \u001b[1;36m-0.0432\u001b[0m        \u001b[1;36m0.0019\u001b[0m      \u001b[1;36m-22.2720\u001b[0m      \u001b[1;36m0.0000\u001b[0m      \u001b[1;36m-0.0471\u001b[0m  \u001b[2m            \u001b[0m\n",
       "\u001b[2;36m                    \u001b[0m         \u001b[1;36m-0.0394\u001b[0m                                                                   \u001b[2m            \u001b[0m\n",
       "\u001b[2;36m                    \u001b[0m         Nvrr        \u001b[1;36m-0.0091\u001b[0m        \u001b[1;36m0.0014\u001b[0m       \u001b[1;36m-6.3197\u001b[0m      \u001b[1;36m0.0000\u001b[0m      \u001b[1;36m-0.0119\u001b[0m  \u001b[2m            \u001b[0m\n",
       "\u001b[2;36m                    \u001b[0m         \u001b[1;36m-0.0062\u001b[0m                                                                   \u001b[2m            \u001b[0m\n",
       "\u001b[2;36m                    \u001b[0m         ------------------------------------------------------------------------- \u001b[2m            \u001b[0m\n",
       "\u001b[2;36m                    \u001b[0m         -------                                                                   \u001b[2m            \u001b[0m\n",
       "\u001b[2;36m                    \u001b[0m         Omnibus:                  \u001b[1;36m21.041\u001b[0m            Durbin-Watson:                \u001b[2m            \u001b[0m\n",
       "\u001b[2;36m                    \u001b[0m         \u001b[1;36m2.356\u001b[0m                                                                     \u001b[2m            \u001b[0m\n",
       "\u001b[2;36m                    \u001b[0m         \u001b[1;35mProb\u001b[0m\u001b[1m(\u001b[0mOmnibus\u001b[1m)\u001b[0m:            \u001b[1;36m0.000\u001b[0m             Jarque-Bera \u001b[1m(\u001b[0mJB\u001b[1m)\u001b[0m:             \u001b[2m            \u001b[0m\n",
       "\u001b[2;36m                    \u001b[0m         \u001b[1;36m124.574\u001b[0m                                                                   \u001b[2m            \u001b[0m\n",
       "\u001b[2;36m                    \u001b[0m         Skew:                     \u001b[1;36m-0.000\u001b[0m            \u001b[1;35mProb\u001b[0m\u001b[1m(\u001b[0mJB\u001b[1m)\u001b[0m:                     \u001b[2m            \u001b[0m\n",
       "\u001b[2;36m                    \u001b[0m         \u001b[1;36m0.000\u001b[0m                                                                     \u001b[2m            \u001b[0m\n",
       "\u001b[2;36m                    \u001b[0m         Kurtosis:                 \u001b[1;36m7.950\u001b[0m             Condition No.:                \u001b[2m            \u001b[0m\n",
       "\u001b[2;36m                    \u001b[0m         \u001b[1;36m4\u001b[0m                                                                         \u001b[2m            \u001b[0m\n",
       "\u001b[2;36m                    \u001b[0m         ========================================================================= \u001b[2m            \u001b[0m\n",
       "\u001b[2;36m                    \u001b[0m         =======                                                                   \u001b[2m            \u001b[0m\n",
       "\u001b[2;36m                    \u001b[0m                                                                                   \u001b[2m            \u001b[0m\n"
      ]
     },
     "metadata": {},
     "output_type": "display_data"
    }
   ],
   "source": [
    "model_,models = regress_VCT(model=model_abkowitz, df_VCT=df_VCT, pipeline=pipeline_with_rudder, exclude_parameters=exclude_parameters)"
   ]
  },
  {
   "cell_type": "code",
   "execution_count": 57,
   "id": "50508693-2d2e-4df6-aca2-12b2176f6900",
   "metadata": {},
   "outputs": [],
   "source": [
    "regression = models['Circle + Drift mz']"
   ]
  },
  {
   "cell_type": "code",
   "execution_count": 49,
   "id": "b0ec2076-80e1-41bd-8961-9f5c448f0d65",
   "metadata": {},
   "outputs": [
    {
     "data": {
      "text/plain": [
       "['Ydeltadeltadelta', 'Ydelta']"
      ]
     },
     "execution_count": 49,
     "metadata": {},
     "output_type": "execute_result"
    }
   ],
   "source": [
    "list(regression.params.keys())"
   ]
  },
  {
   "cell_type": "code",
   "execution_count": 50,
   "id": "e40b4bc2-606d-4d09-9312-1f4adda54893",
   "metadata": {},
   "outputs": [],
   "source": [
    "parameters = pd.Series()\n",
    "for name, regression in models.items():\n",
    "    parameters[name] = list(regression.params.keys())"
   ]
  },
  {
   "cell_type": "code",
   "execution_count": 51,
   "id": "4515a93a-1a99-4ca5-8296-fa044ed351e2",
   "metadata": {},
   "outputs": [
    {
     "data": {
      "text/plain": [
       "Rudder fx                  [Xdeltadelta, const]\n",
       "Rudder fy            [Ydeltadeltadelta, Ydelta]\n",
       "Rudder mz            [Ndeltadeltadelta, Ndelta]\n",
       "resistance                             [Xu, X0]\n",
       "Drift angle fx                     [Xvv, const]\n",
       "Drift angle fy                       [Yv, Yvvv]\n",
       "Drift angle mz                       [Nvvv, Nv]\n",
       "Circle fx                          [Xrr, const]\n",
       "Circle fy                            [Yrrr, Yr]\n",
       "Circle mz                            [Nr, Nrrr]\n",
       "Circle + Drift fx                  [Xvr, const]\n",
       "Circle + Drift fy                  [Yvrr, Yvvr]\n",
       "Circle + Drift mz                  [Nvvr, Nvrr]\n",
       "dtype: object"
      ]
     },
     "execution_count": 51,
     "metadata": {},
     "output_type": "execute_result"
    }
   ],
   "source": [
    "parameters"
   ]
  },
  {
   "cell_type": "code",
   "execution_count": 58,
   "id": "4aebc6dd-ba47-4175-8f18-d03fb3ea55b0",
   "metadata": {},
   "outputs": [
    {
     "data": {
      "text/latex": [
       "$\\displaystyle N_{D} = N_{0} + N_{rrr} r^{3} + N_{r} r + N_{vrr} r^{2} v + N_{vvr} r v^{2} + N_{vvv} v^{3} + N_{v} v - X_{thrustport} thrust_{port} y_{p port} - X_{thruststbd} thrust_{stbd} y_{p stbd}$"
      ],
      "text/plain": [
       "Eq(N_D, N_{0} + N_{rrr}*r**3 + N_{r}*r + N_{vrr}*r**2*v + N_{vvr}*r*v**2 + N_{vvv}*v**3 + N_{v}*v - X_{thrustport}*thrust_port*y_p_port - X_{thruststbd}*thrust_stbd*y_p_stbd)"
      ]
     },
     "execution_count": 58,
     "metadata": {},
     "output_type": "execute_result"
    }
   ],
   "source": [
    "regression.eq"
   ]
  },
  {
   "cell_type": "code",
   "execution_count": 94,
   "id": "67331872-7176-4978-96b5-ef055f6f20d1",
   "metadata": {},
   "outputs": [
    {
     "data": {
      "text/plain": [
       "\"{N_{D}}'\""
      ]
     },
     "execution_count": 94,
     "metadata": {},
     "output_type": "execute_result"
    }
   ],
   "source": [
    "eq_latex = sp.latex(regression.eq.lhs)\n",
    "eq_latex_prime = f\"{{{eq_latex}}}'\"\n",
    "eq_latex_prime"
   ]
  },
  {
   "cell_type": "code",
   "execution_count": 143,
   "id": "ffa0b1a4-f4cf-4953-b042-6f46dcaace1d",
   "metadata": {},
   "outputs": [],
   "source": [
    "def to_latex_prime(expression):\n",
    "    eq_latex = sp.latex(expression)\n",
    "    eq_latex_prime = f\"${{{eq_latex}}}'$\"\n",
    "    eq_latex_prime = eq_latex_prime.replace('delta',r'\\delta')\n",
    "    return eq_latex_prime"
   ]
  },
  {
   "cell_type": "code",
   "execution_count": 144,
   "id": "7e221e91-7232-4974-8181-7eb36adb1310",
   "metadata": {},
   "outputs": [],
   "source": [
    "name_replace={\n",
    "    \"Rudder\":\"Rudder angle\",\n",
    "    \"resistance\":\"Self propulsion\",\n",
    "}"
   ]
  },
  {
   "cell_type": "code",
   "execution_count": 145,
   "id": "c11f1767-ba58-44e1-8163-b0ef2fa1ff0d",
   "metadata": {},
   "outputs": [],
   "source": [
    "table_regression_pipeline = pd.DataFrame()\n",
    "found = set([u,v,r,delta,thrust_port,thrust_stbd,p.Xthruststbd,p.Xthrustport,y_p_port, y_p_stbd,p.Y0,p.N0])\n",
    "for name, regression in models.items():\n",
    "    new_parameters = regression.eq.rhs.free_symbols - found\n",
    "    found=found.union(regression.eq.rhs.free_symbols)\n",
    "    \n",
    "    test_type = str(name)\n",
    "    test_type = test_type.replace(\" fx\",\"\")\n",
    "    test_type = test_type.replace(\" fy\",\"\")\n",
    "    test_type = test_type.replace(\" mz\",\"\")\n",
    "    table_regression_pipeline.loc[name,'Test type'] = name_replace.get(test_type,test_type) \n",
    "    table_regression_pipeline.loc[name,'Label'] = to_latex_prime(regression.eq.lhs)\n",
    "    table_regression_pipeline.loc[name,'Features'] = \" \".join([to_latex_prime(parameter) for parameter in new_parameters])"
   ]
  },
  {
   "cell_type": "code",
   "execution_count": 146,
   "id": "077c2f10-146b-429a-817b-155ba443639e",
   "metadata": {},
   "outputs": [
    {
     "data": {
      "text/html": [
       "<div>\n",
       "<style scoped>\n",
       "    .dataframe tbody tr th:only-of-type {\n",
       "        vertical-align: middle;\n",
       "    }\n",
       "\n",
       "    .dataframe tbody tr th {\n",
       "        vertical-align: top;\n",
       "    }\n",
       "\n",
       "    .dataframe thead th {\n",
       "        text-align: right;\n",
       "    }\n",
       "</style>\n",
       "<table border=\"1\" class=\"dataframe\">\n",
       "  <thead>\n",
       "    <tr style=\"text-align: right;\">\n",
       "      <th></th>\n",
       "      <th>Test type</th>\n",
       "      <th>Label</th>\n",
       "      <th>Features</th>\n",
       "    </tr>\n",
       "  </thead>\n",
       "  <tbody>\n",
       "    <tr>\n",
       "      <th>Rudder fx</th>\n",
       "      <td>Rudder angle</td>\n",
       "      <td>${X_{R}}'$</td>\n",
       "      <td>${X_{\\delta\\delta}}'$</td>\n",
       "    </tr>\n",
       "    <tr>\n",
       "      <th>Rudder fy</th>\n",
       "      <td>Rudder angle</td>\n",
       "      <td>${Y_{D}}'$</td>\n",
       "      <td>${Y_{\\delta}}'$ ${Y_{\\delta\\delta\\delta}}'$</td>\n",
       "    </tr>\n",
       "    <tr>\n",
       "      <th>Rudder mz</th>\n",
       "      <td>Rudder angle</td>\n",
       "      <td>${N_{D}}'$</td>\n",
       "      <td>${N_{\\delta}}'$ ${N_{\\delta\\delta\\delta}}'$</td>\n",
       "    </tr>\n",
       "    <tr>\n",
       "      <th>resistance</th>\n",
       "      <td>Self propulsion</td>\n",
       "      <td>${X_{D}}'$</td>\n",
       "      <td>${X_{u}}'$ ${X_{0}}'$</td>\n",
       "    </tr>\n",
       "    <tr>\n",
       "      <th>Drift angle fx</th>\n",
       "      <td>Drift angle</td>\n",
       "      <td>${X_{D}}'$</td>\n",
       "      <td>${X_{vv}}'$</td>\n",
       "    </tr>\n",
       "    <tr>\n",
       "      <th>Drift angle fy</th>\n",
       "      <td>Drift angle</td>\n",
       "      <td>${Y_{D}}'$</td>\n",
       "      <td>${Y_{vvv}}'$ ${Y_{v}}'$</td>\n",
       "    </tr>\n",
       "    <tr>\n",
       "      <th>Drift angle mz</th>\n",
       "      <td>Drift angle</td>\n",
       "      <td>${N_{D}}'$</td>\n",
       "      <td>${N_{vvv}}'$ ${N_{v}}'$</td>\n",
       "    </tr>\n",
       "    <tr>\n",
       "      <th>Circle fx</th>\n",
       "      <td>Circle</td>\n",
       "      <td>${X_{D}}'$</td>\n",
       "      <td>${X_{rr}}'$</td>\n",
       "    </tr>\n",
       "    <tr>\n",
       "      <th>Circle fy</th>\n",
       "      <td>Circle</td>\n",
       "      <td>${Y_{D}}'$</td>\n",
       "      <td>${Y_{r}}'$ ${Y_{rrr}}'$</td>\n",
       "    </tr>\n",
       "    <tr>\n",
       "      <th>Circle mz</th>\n",
       "      <td>Circle</td>\n",
       "      <td>${N_{D}}'$</td>\n",
       "      <td>${N_{rrr}}'$ ${N_{r}}'$</td>\n",
       "    </tr>\n",
       "    <tr>\n",
       "      <th>Circle + Drift fx</th>\n",
       "      <td>Circle + Drift</td>\n",
       "      <td>${X_{D}}'$</td>\n",
       "      <td>${X_{vr}}'$</td>\n",
       "    </tr>\n",
       "    <tr>\n",
       "      <th>Circle + Drift fy</th>\n",
       "      <td>Circle + Drift</td>\n",
       "      <td>${Y_{D}}'$</td>\n",
       "      <td>${Y_{vvr}}'$ ${Y_{vrr}}'$</td>\n",
       "    </tr>\n",
       "    <tr>\n",
       "      <th>Circle + Drift mz</th>\n",
       "      <td>Circle + Drift</td>\n",
       "      <td>${N_{D}}'$</td>\n",
       "      <td>${N_{vrr}}'$ ${N_{vvr}}'$</td>\n",
       "    </tr>\n",
       "  </tbody>\n",
       "</table>\n",
       "</div>"
      ],
      "text/plain": [
       "                         Test type       Label                                     Features\n",
       "Rudder fx             Rudder angle  ${X_{R}}'$                        ${X_{\\delta\\delta}}'$\n",
       "Rudder fy             Rudder angle  ${Y_{D}}'$  ${Y_{\\delta}}'$ ${Y_{\\delta\\delta\\delta}}'$\n",
       "Rudder mz             Rudder angle  ${N_{D}}'$  ${N_{\\delta}}'$ ${N_{\\delta\\delta\\delta}}'$\n",
       "resistance         Self propulsion  ${X_{D}}'$                        ${X_{u}}'$ ${X_{0}}'$\n",
       "Drift angle fx         Drift angle  ${X_{D}}'$                                  ${X_{vv}}'$\n",
       "Drift angle fy         Drift angle  ${Y_{D}}'$                      ${Y_{vvv}}'$ ${Y_{v}}'$\n",
       "Drift angle mz         Drift angle  ${N_{D}}'$                      ${N_{vvv}}'$ ${N_{v}}'$\n",
       "Circle fx                   Circle  ${X_{D}}'$                                  ${X_{rr}}'$\n",
       "Circle fy                   Circle  ${Y_{D}}'$                      ${Y_{r}}'$ ${Y_{rrr}}'$\n",
       "Circle mz                   Circle  ${N_{D}}'$                      ${N_{rrr}}'$ ${N_{r}}'$\n",
       "Circle + Drift fx   Circle + Drift  ${X_{D}}'$                                  ${X_{vr}}'$\n",
       "Circle + Drift fy   Circle + Drift  ${Y_{D}}'$                    ${Y_{vvr}}'$ ${Y_{vrr}}'$\n",
       "Circle + Drift mz   Circle + Drift  ${N_{D}}'$                    ${N_{vrr}}'$ ${N_{vvr}}'$"
      ]
     },
     "execution_count": 146,
     "metadata": {},
     "output_type": "execute_result"
    }
   ],
   "source": [
    "table_regression_pipeline"
   ]
  },
  {
   "cell_type": "code",
   "execution_count": 147,
   "id": "cb922561-29b9-48d2-b1ab-829f11525459",
   "metadata": {},
   "outputs": [],
   "source": [
    "table_regression_pipeline.to_csv(paper.file_path_with_nb_ref(\"regression_pipeline_abkowitz.csv\", directory='tables'), index=False)"
   ]
  },
  {
   "cell_type": "markdown",
   "id": "0677957d-485f-48c4-a679-f235b278342f",
   "metadata": {},
   "source": [
    "## Semi-empirical model"
   ]
  },
  {
   "cell_type": "code",
   "execution_count": 148,
   "id": "b74e6189-d593-48b9-8a0c-371538e0a161",
   "metadata": {},
   "outputs": [],
   "source": [
    "model = model_loaders['semiempirical_covered']()"
   ]
  },
  {
   "cell_type": "code",
   "execution_count": 149,
   "id": "94308378-34e0-4464-bb83-e55019f86ff6",
   "metadata": {},
   "outputs": [
    {
     "data": {
      "text/plain": [
       "{'semiempirical_covered': <bound method AbstractDataset.load of <phd.extras.datasets.model_dataset.ModularVesselSimulatorDataSet object at 0x7fc2eca92c80>>}"
      ]
     },
     "execution_count": 149,
     "metadata": {},
     "output_type": "execute_result"
    }
   ],
   "source": [
    "model"
   ]
  },
  {
   "cell_type": "code",
   "execution_count": null,
   "id": "b2d74fcb-e193-45a8-8bb9-3a6dec76151f",
   "metadata": {},
   "outputs": [],
   "source": []
  }
 ],
 "metadata": {
  "kernelspec": {
   "display_name": "Kedro (phd)",
   "language": "python",
   "name": "kedro_phd"
  },
  "language_info": {
   "codemirror_mode": {
    "name": "ipython",
    "version": 3
   },
   "file_extension": ".py",
   "mimetype": "text/x-python",
   "name": "python",
   "nbconvert_exporter": "python",
   "pygments_lexer": "ipython3",
   "version": "3.10.10"
  }
 },
 "nbformat": 4,
 "nbformat_minor": 5
}
