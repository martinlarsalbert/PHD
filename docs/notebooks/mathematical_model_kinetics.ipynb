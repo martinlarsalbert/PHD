{
 "cells": [
  {
   "cell_type": "markdown",
   "id": "85c9260d-35e7-416e-a3ea-d38a47731972",
   "metadata": {},
   "source": [
    "# Mathematical model kinetics"
   ]
  },
  {
   "cell_type": "code",
   "execution_count": 1,
   "id": "126d6f87-6cda-4b3c-8eea-53a3bbca9f33",
   "metadata": {},
   "outputs": [],
   "source": [
    "#import warnings\n",
    "#warnings.filterwarnings('ignore')\n",
    "%matplotlib inline\n",
    "%load_ext autoreload\n",
    "%autoreload 2\n",
    "%config Completer.use_jedi = False"
   ]
  },
  {
   "cell_type": "code",
   "execution_count": 3,
   "id": "32a0204f-c11a-40f8-91ed-7773ccf318bf",
   "metadata": {},
   "outputs": [],
   "source": [
    "import pandas as pd\n",
    "pd.set_option('display.max_rows', 5000)\n",
    "pd.set_option('display.max_columns', 5000)\n",
    "pd.set_option('display.width', 10000)\n",
    "pd.set_option('max_colwidth', 10000)\n",
    "import numpy as np\n",
    "import yaml\n",
    "\n",
    "from vessel_manoeuvring_models.visualization.plot import track_plot, plot\n",
    "from phd.visualization.plot_ship import track_plots\n",
    "from vessel_manoeuvring_models.prime_system import PrimeSystem\n",
    "from phd.visualization.plot_prediction import plot_total_force, plot_force_components, predict, plot_compare_model_forces, plot_parameter_contributions\n",
    "#from phd.visualization.bokeh_plotting import create_tab\n",
    "from vessel_manoeuvring_models.symbols import *\n",
    "import matplotlib.pyplot as plt\n",
    "from vessel_manoeuvring_models.substitute_dynamic_symbols import run, lambdify, remove_functions, prime\n",
    "from vessel_manoeuvring_models.parameters import df_parameters\n",
    "p = df_parameters[\"symbol\"]\n",
    "import statsmodels.api as sm\n",
    "import sympy as sp\n",
    "from sympy import Eq, symbols, latex\n",
    "import paper\n",
    "from paper import save_fig, save_eq\n",
    "import vessel_manoeuvring_models\n",
    "import re\n",
    "import os"
   ]
  },
  {
   "cell_type": "code",
   "execution_count": 4,
   "id": "0b20a13f-48c7-469b-8bce-73f2655d0333",
   "metadata": {},
   "outputs": [
    {
     "data": {
      "text/html": [
       "<pre style=\"white-space:pre;overflow-x:auto;line-height:normal;font-family:Menlo,'DejaVu Sans Mono',consolas,'Courier New',monospace\"><span style=\"color: #7fbfbf; text-decoration-color: #7fbfbf\">[07/10/24 17:05:20] </span><span style=\"color: #000080; text-decoration-color: #000080\">INFO    </span> Loading data from <span style=\"color: #008000; text-decoration-color: #008000\">'wPCC.ship_data'</span> <span style=\"font-weight: bold\">(</span>YAMLDataSet<span style=\"font-weight: bold\">)</span><span style=\"color: #808000; text-decoration-color: #808000\">...</span>                <a href=\"file:///home/maa/dev/System-identification-of-a-physics-informed-ship-model-for-better-predictions-in-wind-conditions/.conda/lib/python3.10/site-packages/kedro/io/data_catalog.py\" target=\"_blank\"><span style=\"color: #7f7f7f; text-decoration-color: #7f7f7f\">data_catalog.py</span></a><span style=\"color: #7f7f7f; text-decoration-color: #7f7f7f\">:</span><a href=\"file:///home/maa/dev/System-identification-of-a-physics-informed-ship-model-for-better-predictions-in-wind-conditions/.conda/lib/python3.10/site-packages/kedro/io/data_catalog.py#502\" target=\"_blank\"><span style=\"color: #7f7f7f; text-decoration-color: #7f7f7f\">502</span></a>\n",
       "</pre>\n"
      ],
      "text/plain": [
       "\u001b[2;36m[07/10/24 17:05:20]\u001b[0m\u001b[2;36m \u001b[0m\u001b[34mINFO    \u001b[0m Loading data from \u001b[32m'wPCC.ship_data'\u001b[0m \u001b[1m(\u001b[0mYAMLDataSet\u001b[1m)\u001b[0m\u001b[33m...\u001b[0m                \u001b]8;id=348435;file:///home/maa/dev/System-identification-of-a-physics-informed-ship-model-for-better-predictions-in-wind-conditions/.conda/lib/python3.10/site-packages/kedro/io/data_catalog.py\u001b\\\u001b[2mdata_catalog.py\u001b[0m\u001b]8;;\u001b\\\u001b[2m:\u001b[0m\u001b]8;id=141627;file:///home/maa/dev/System-identification-of-a-physics-informed-ship-model-for-better-predictions-in-wind-conditions/.conda/lib/python3.10/site-packages/kedro/io/data_catalog.py#502\u001b\\\u001b[2m502\u001b[0m\u001b]8;;\u001b\\\n"
      ]
     },
     "metadata": {},
     "output_type": "display_data"
    },
    {
     "data": {
      "text/html": [
       "<pre style=\"white-space:pre;overflow-x:auto;line-height:normal;font-family:Menlo,'DejaVu Sans Mono',consolas,'Courier New',monospace\"><span style=\"color: #7fbfbf; text-decoration-color: #7fbfbf\">                    </span><span style=\"color: #800000; text-decoration-color: #800000\">WARNING </span> <span style=\"color: #800080; text-decoration-color: #800080\">/home/maa/dev/System-identification-of-a-physics-informed-ship-model-f</span> <a href=\"file:///home/maa/dev/System-identification-of-a-physics-informed-ship-model-for-better-predictions-in-wind-conditions/.conda/lib/python3.10/warnings.py\" target=\"_blank\"><span style=\"color: #7f7f7f; text-decoration-color: #7f7f7f\">warnings.py</span></a><span style=\"color: #7f7f7f; text-decoration-color: #7f7f7f\">:</span><a href=\"file:///home/maa/dev/System-identification-of-a-physics-informed-ship-model-for-better-predictions-in-wind-conditions/.conda/lib/python3.10/warnings.py#109\" target=\"_blank\"><span style=\"color: #7f7f7f; text-decoration-color: #7f7f7f\">109</span></a>\n",
       "<span style=\"color: #7fbfbf; text-decoration-color: #7fbfbf\">                    </span>         <span style=\"color: #800080; text-decoration-color: #800080\">or-better-predictions-in-wind-conditions/.conda/lib/python3.10/site-pa</span> <span style=\"color: #7f7f7f; text-decoration-color: #7f7f7f\">               </span>\n",
       "<span style=\"color: #7fbfbf; text-decoration-color: #7fbfbf\">                    </span>         <span style=\"color: #800080; text-decoration-color: #800080\">ckages/kedro/io/</span><span style=\"color: #ff00ff; text-decoration-color: #ff00ff\">partitioned_dataset.py</span>:<span style=\"color: #008080; text-decoration-color: #008080; font-weight: bold\">200</span>: KedroDeprecationWarning:   <span style=\"color: #7f7f7f; text-decoration-color: #7f7f7f\">               </span>\n",
       "<span style=\"color: #7fbfbf; text-decoration-color: #7fbfbf\">                    </span>         <span style=\"color: #008000; text-decoration-color: #008000\">'PartitionedDataset'</span> has been moved to `kedro-datasets` and will be    <span style=\"color: #7f7f7f; text-decoration-color: #7f7f7f\">               </span>\n",
       "<span style=\"color: #7fbfbf; text-decoration-color: #7fbfbf\">                    </span>         removed in Kedro <span style=\"color: #008080; text-decoration-color: #008080; font-weight: bold\">0.19</span>.<span style=\"color: #008080; text-decoration-color: #008080; font-weight: bold\">0</span>.                                               <span style=\"color: #7f7f7f; text-decoration-color: #7f7f7f\">               </span>\n",
       "<span style=\"color: #7fbfbf; text-decoration-color: #7fbfbf\">                    </span>           <span style=\"color: #800080; text-decoration-color: #800080; font-weight: bold\">warnings.warn</span><span style=\"font-weight: bold\">(</span>                                                       <span style=\"color: #7f7f7f; text-decoration-color: #7f7f7f\">               </span>\n",
       "<span style=\"color: #7fbfbf; text-decoration-color: #7fbfbf\">                    </span>                                                                                <span style=\"color: #7f7f7f; text-decoration-color: #7f7f7f\">               </span>\n",
       "</pre>\n"
      ],
      "text/plain": [
       "\u001b[2;36m                   \u001b[0m\u001b[2;36m \u001b[0m\u001b[31mWARNING \u001b[0m \u001b[35m/home/maa/dev/System-identification-of-a-physics-informed-ship-model-f\u001b[0m \u001b]8;id=426524;file:///home/maa/dev/System-identification-of-a-physics-informed-ship-model-for-better-predictions-in-wind-conditions/.conda/lib/python3.10/warnings.py\u001b\\\u001b[2mwarnings.py\u001b[0m\u001b]8;;\u001b\\\u001b[2m:\u001b[0m\u001b]8;id=514307;file:///home/maa/dev/System-identification-of-a-physics-informed-ship-model-for-better-predictions-in-wind-conditions/.conda/lib/python3.10/warnings.py#109\u001b\\\u001b[2m109\u001b[0m\u001b]8;;\u001b\\\n",
       "\u001b[2;36m                    \u001b[0m         \u001b[35mor-better-predictions-in-wind-conditions/.conda/lib/python3.10/site-pa\u001b[0m \u001b[2m               \u001b[0m\n",
       "\u001b[2;36m                    \u001b[0m         \u001b[35mckages/kedro/io/\u001b[0m\u001b[95mpartitioned_dataset.py\u001b[0m:\u001b[1;36m200\u001b[0m: KedroDeprecationWarning:   \u001b[2m               \u001b[0m\n",
       "\u001b[2;36m                    \u001b[0m         \u001b[32m'PartitionedDataset'\u001b[0m has been moved to `kedro-datasets` and will be    \u001b[2m               \u001b[0m\n",
       "\u001b[2;36m                    \u001b[0m         removed in Kedro \u001b[1;36m0.19\u001b[0m.\u001b[1;36m0\u001b[0m.                                               \u001b[2m               \u001b[0m\n",
       "\u001b[2;36m                    \u001b[0m           \u001b[1;35mwarnings.warn\u001b[0m\u001b[1m(\u001b[0m                                                       \u001b[2m               \u001b[0m\n",
       "\u001b[2;36m                    \u001b[0m                                                                                \u001b[2m               \u001b[0m\n"
      ]
     },
     "metadata": {},
     "output_type": "display_data"
    },
    {
     "data": {
      "text/html": [
       "<pre style=\"white-space:pre;overflow-x:auto;line-height:normal;font-family:Menlo,'DejaVu Sans Mono',consolas,'Courier New',monospace\"><span style=\"color: #7fbfbf; text-decoration-color: #7fbfbf\">                    </span><span style=\"color: #800000; text-decoration-color: #800000\">WARNING </span> <span style=\"color: #800080; text-decoration-color: #800080\">/home/maa/dev/System-identification-of-a-physics-informed-ship-model-f</span> <a href=\"file:///home/maa/dev/System-identification-of-a-physics-informed-ship-model-for-better-predictions-in-wind-conditions/.conda/lib/python3.10/warnings.py\" target=\"_blank\"><span style=\"color: #7f7f7f; text-decoration-color: #7f7f7f\">warnings.py</span></a><span style=\"color: #7f7f7f; text-decoration-color: #7f7f7f\">:</span><a href=\"file:///home/maa/dev/System-identification-of-a-physics-informed-ship-model-for-better-predictions-in-wind-conditions/.conda/lib/python3.10/warnings.py#109\" target=\"_blank\"><span style=\"color: #7f7f7f; text-decoration-color: #7f7f7f\">109</span></a>\n",
       "<span style=\"color: #7fbfbf; text-decoration-color: #7fbfbf\">                    </span>         <span style=\"color: #800080; text-decoration-color: #800080\">or-better-predictions-in-wind-conditions/.conda/lib/python3.10/site-pa</span> <span style=\"color: #7f7f7f; text-decoration-color: #7f7f7f\">               </span>\n",
       "<span style=\"color: #7fbfbf; text-decoration-color: #7fbfbf\">                    </span>         <span style=\"color: #800080; text-decoration-color: #800080\">ckages/kedro/io/</span><span style=\"color: #ff00ff; text-decoration-color: #ff00ff\">__init__.py</span>:<span style=\"color: #008080; text-decoration-color: #008080; font-weight: bold\">44</span>: KedroDeprecationWarning:               <span style=\"color: #7f7f7f; text-decoration-color: #7f7f7f\">               </span>\n",
       "<span style=\"color: #7fbfbf; text-decoration-color: #7fbfbf\">                    </span>         <span style=\"color: #008000; text-decoration-color: #008000\">'AbstractDataSet'</span> has been renamed to <span style=\"color: #008000; text-decoration-color: #008000\">'AbstractDataset'</span>, and the alias <span style=\"color: #7f7f7f; text-decoration-color: #7f7f7f\">               </span>\n",
       "<span style=\"color: #7fbfbf; text-decoration-color: #7fbfbf\">                    </span>         will be removed in Kedro <span style=\"color: #008080; text-decoration-color: #008080; font-weight: bold\">0.19</span>.<span style=\"color: #008080; text-decoration-color: #008080; font-weight: bold\">0</span>                                        <span style=\"color: #7f7f7f; text-decoration-color: #7f7f7f\">               </span>\n",
       "<span style=\"color: #7fbfbf; text-decoration-color: #7fbfbf\">                    </span>           return <span style=\"color: #800080; text-decoration-color: #800080; font-weight: bold\">getattr</span><span style=\"font-weight: bold\">(</span>kedro.io.core, name<span style=\"font-weight: bold\">)</span>                                  <span style=\"color: #7f7f7f; text-decoration-color: #7f7f7f\">               </span>\n",
       "<span style=\"color: #7fbfbf; text-decoration-color: #7fbfbf\">                    </span>                                                                                <span style=\"color: #7f7f7f; text-decoration-color: #7f7f7f\">               </span>\n",
       "</pre>\n"
      ],
      "text/plain": [
       "\u001b[2;36m                   \u001b[0m\u001b[2;36m \u001b[0m\u001b[31mWARNING \u001b[0m \u001b[35m/home/maa/dev/System-identification-of-a-physics-informed-ship-model-f\u001b[0m \u001b]8;id=449843;file:///home/maa/dev/System-identification-of-a-physics-informed-ship-model-for-better-predictions-in-wind-conditions/.conda/lib/python3.10/warnings.py\u001b\\\u001b[2mwarnings.py\u001b[0m\u001b]8;;\u001b\\\u001b[2m:\u001b[0m\u001b]8;id=377992;file:///home/maa/dev/System-identification-of-a-physics-informed-ship-model-for-better-predictions-in-wind-conditions/.conda/lib/python3.10/warnings.py#109\u001b\\\u001b[2m109\u001b[0m\u001b]8;;\u001b\\\n",
       "\u001b[2;36m                    \u001b[0m         \u001b[35mor-better-predictions-in-wind-conditions/.conda/lib/python3.10/site-pa\u001b[0m \u001b[2m               \u001b[0m\n",
       "\u001b[2;36m                    \u001b[0m         \u001b[35mckages/kedro/io/\u001b[0m\u001b[95m__init__.py\u001b[0m:\u001b[1;36m44\u001b[0m: KedroDeprecationWarning:               \u001b[2m               \u001b[0m\n",
       "\u001b[2;36m                    \u001b[0m         \u001b[32m'AbstractDataSet'\u001b[0m has been renamed to \u001b[32m'AbstractDataset'\u001b[0m, and the alias \u001b[2m               \u001b[0m\n",
       "\u001b[2;36m                    \u001b[0m         will be removed in Kedro \u001b[1;36m0.19\u001b[0m.\u001b[1;36m0\u001b[0m                                        \u001b[2m               \u001b[0m\n",
       "\u001b[2;36m                    \u001b[0m           return \u001b[1;35mgetattr\u001b[0m\u001b[1m(\u001b[0mkedro.io.core, name\u001b[1m)\u001b[0m                                  \u001b[2m               \u001b[0m\n",
       "\u001b[2;36m                    \u001b[0m                                                                                \u001b[2m               \u001b[0m\n"
      ]
     },
     "metadata": {},
     "output_type": "display_data"
    },
    {
     "data": {
      "text/html": [
       "<pre style=\"white-space:pre;overflow-x:auto;line-height:normal;font-family:Menlo,'DejaVu Sans Mono',consolas,'Courier New',monospace\"><span style=\"color: #7fbfbf; text-decoration-color: #7fbfbf\">                    </span><span style=\"color: #000080; text-decoration-color: #000080\">INFO    </span> Loading data from <span style=\"color: #008000; text-decoration-color: #008000\">'wPCC.models_VCT'</span> <span style=\"font-weight: bold\">(</span>PartitionedDataset<span style=\"font-weight: bold\">)</span><span style=\"color: #808000; text-decoration-color: #808000\">...</span>        <a href=\"file:///home/maa/dev/System-identification-of-a-physics-informed-ship-model-for-better-predictions-in-wind-conditions/.conda/lib/python3.10/site-packages/kedro/io/data_catalog.py\" target=\"_blank\"><span style=\"color: #7f7f7f; text-decoration-color: #7f7f7f\">data_catalog.py</span></a><span style=\"color: #7f7f7f; text-decoration-color: #7f7f7f\">:</span><a href=\"file:///home/maa/dev/System-identification-of-a-physics-informed-ship-model-for-better-predictions-in-wind-conditions/.conda/lib/python3.10/site-packages/kedro/io/data_catalog.py#502\" target=\"_blank\"><span style=\"color: #7f7f7f; text-decoration-color: #7f7f7f\">502</span></a>\n",
       "</pre>\n"
      ],
      "text/plain": [
       "\u001b[2;36m                   \u001b[0m\u001b[2;36m \u001b[0m\u001b[34mINFO    \u001b[0m Loading data from \u001b[32m'wPCC.models_VCT'\u001b[0m \u001b[1m(\u001b[0mPartitionedDataset\u001b[1m)\u001b[0m\u001b[33m...\u001b[0m        \u001b]8;id=273193;file:///home/maa/dev/System-identification-of-a-physics-informed-ship-model-for-better-predictions-in-wind-conditions/.conda/lib/python3.10/site-packages/kedro/io/data_catalog.py\u001b\\\u001b[2mdata_catalog.py\u001b[0m\u001b]8;;\u001b\\\u001b[2m:\u001b[0m\u001b]8;id=695965;file:///home/maa/dev/System-identification-of-a-physics-informed-ship-model-for-better-predictions-in-wind-conditions/.conda/lib/python3.10/site-packages/kedro/io/data_catalog.py#502\u001b\\\u001b[2m502\u001b[0m\u001b]8;;\u001b\\\n"
      ]
     },
     "metadata": {},
     "output_type": "display_data"
    },
    {
     "data": {
      "text/html": [
       "<pre style=\"white-space:pre;overflow-x:auto;line-height:normal;font-family:Menlo,'DejaVu Sans Mono',consolas,'Courier New',monospace\"><span style=\"color: #7fbfbf; text-decoration-color: #7fbfbf\">                    </span><span style=\"color: #000080; text-decoration-color: #000080\">INFO    </span> Loading data from <span style=\"color: #008000; text-decoration-color: #008000\">'wPCC.models_rudder_VCT'</span> <span style=\"font-weight: bold\">(</span>PartitionedDataset<span style=\"font-weight: bold\">)</span><span style=\"color: #808000; text-decoration-color: #808000\">...</span> <a href=\"file:///home/maa/dev/System-identification-of-a-physics-informed-ship-model-for-better-predictions-in-wind-conditions/.conda/lib/python3.10/site-packages/kedro/io/data_catalog.py\" target=\"_blank\"><span style=\"color: #7f7f7f; text-decoration-color: #7f7f7f\">data_catalog.py</span></a><span style=\"color: #7f7f7f; text-decoration-color: #7f7f7f\">:</span><a href=\"file:///home/maa/dev/System-identification-of-a-physics-informed-ship-model-for-better-predictions-in-wind-conditions/.conda/lib/python3.10/site-packages/kedro/io/data_catalog.py#502\" target=\"_blank\"><span style=\"color: #7f7f7f; text-decoration-color: #7f7f7f\">502</span></a>\n",
       "</pre>\n"
      ],
      "text/plain": [
       "\u001b[2;36m                   \u001b[0m\u001b[2;36m \u001b[0m\u001b[34mINFO    \u001b[0m Loading data from \u001b[32m'wPCC.models_rudder_VCT'\u001b[0m \u001b[1m(\u001b[0mPartitionedDataset\u001b[1m)\u001b[0m\u001b[33m...\u001b[0m \u001b]8;id=111226;file:///home/maa/dev/System-identification-of-a-physics-informed-ship-model-for-better-predictions-in-wind-conditions/.conda/lib/python3.10/site-packages/kedro/io/data_catalog.py\u001b\\\u001b[2mdata_catalog.py\u001b[0m\u001b]8;;\u001b\\\u001b[2m:\u001b[0m\u001b]8;id=675190;file:///home/maa/dev/System-identification-of-a-physics-informed-ship-model-for-better-predictions-in-wind-conditions/.conda/lib/python3.10/site-packages/kedro/io/data_catalog.py#502\u001b\\\u001b[2m502\u001b[0m\u001b]8;;\u001b\\\n"
      ]
     },
     "metadata": {},
     "output_type": "display_data"
    }
   ],
   "source": [
    "#%reload_kedro\n",
    "ship='wPCC'\n",
    "ship_data = catalog.load(f\"{ship}.ship_data\")\n",
    "model_loaders = catalog.load(f\"{ship}.models_VCT\")\n",
    "models_rudder_VCT_loaders = catalog.load(f\"{ship}.models_rudder_VCT\")"
   ]
  },
  {
   "cell_type": "code",
   "execution_count": 5,
   "id": "491510ad-d482-4448-842d-3abcecfaaf13",
   "metadata": {},
   "outputs": [
    {
     "data": {
      "text/html": [
       "<pre style=\"white-space:pre;overflow-x:auto;line-height:normal;font-family:Menlo,'DejaVu Sans Mono',consolas,'Courier New',monospace\"></pre>\n"
      ],
      "text/plain": []
     },
     "metadata": {},
     "output_type": "display_data"
    },
    {
     "data": {
      "text/plain": [
       "\n",
       "\u001b[1m{\u001b[0m\n",
       "    \u001b[32m'semiempirical_covered'\u001b[0m: \u001b[1m<\u001b[0m\u001b[1;95mbound\u001b[0m\u001b[39m method AbstractDataset.load of <phd.extras.datasets.model_dataset.ModularVesselSimulatorDataSet object at \u001b[0m\u001b[1;36m0x7fe40fd45f60\u001b[0m\u001b[39m>\u001b[0m\u001b[1m>\u001b[0m\n",
       "\u001b[1m}\u001b[0m"
      ]
     },
     "execution_count": 5,
     "metadata": {},
     "output_type": "execute_result"
    }
   ],
   "source": [
    "model_loaders"
   ]
  },
  {
   "cell_type": "code",
   "execution_count": 6,
   "id": "3a905f49-23d7-4495-b6b9-08da60be962b",
   "metadata": {},
   "outputs": [
    {
     "data": {
      "text/html": [
       "<pre style=\"white-space:pre;overflow-x:auto;line-height:normal;font-family:Menlo,'DejaVu Sans Mono',consolas,'Courier New',monospace\"></pre>\n"
      ],
      "text/plain": []
     },
     "metadata": {},
     "output_type": "display_data"
    },
    {
     "data": {
      "text/plain": [
       "\n",
       "\u001b[1m{\u001b[0m\n",
       "    \u001b[32m'Abkowitz'\u001b[0m: \u001b[1m<\u001b[0m\u001b[1;95mbound\u001b[0m\u001b[39m method AbstractDataset.load of <phd.extras.datasets.model_dataset.ModularVesselSimulatorDataSet object at \u001b[0m\u001b[1;36m0x7fe40fd467d0\u001b[0m\u001b[39m>\u001b[0m\u001b[1m>\u001b[0m\n",
       "\u001b[1m}\u001b[0m"
      ]
     },
     "execution_count": 6,
     "metadata": {},
     "output_type": "execute_result"
    }
   ],
   "source": [
    "models_rudder_VCT_loaders"
   ]
  },
  {
   "cell_type": "code",
   "execution_count": 7,
   "id": "3756a84c-6388-40a2-8a93-1b3ff0da97b0",
   "metadata": {},
   "outputs": [],
   "source": [
    "model = model_loaders['semiempirical_covered']()"
   ]
  },
  {
   "cell_type": "code",
   "execution_count": 8,
   "id": "de94c842-116c-42a5-be26-e0ff73328f47",
   "metadata": {},
   "outputs": [],
   "source": [
    "model_abkowitz = models_rudder_VCT_loaders['Abkowitz']()"
   ]
  },
  {
   "cell_type": "code",
   "execution_count": 9,
   "id": "fa0e276e-73af-474a-b704-4017834b5bf9",
   "metadata": {},
   "outputs": [],
   "source": [
    "eq_X_D = remove_functions(model.X_D_eq)"
   ]
  },
  {
   "cell_type": "code",
   "execution_count": null,
   "id": "bd18f999-bb4f-480c-9453-ad36a73db085",
   "metadata": {},
   "outputs": [],
   "source": []
  },
  {
   "cell_type": "code",
   "execution_count": 10,
   "id": "28f5d13e-919f-4a19-b2fc-382ce71340fc",
   "metadata": {},
   "outputs": [
    {
     "data": {
      "text/html": [
       "<pre style=\"white-space:pre;overflow-x:auto;line-height:normal;font-family:Menlo,'DejaVu Sans Mono',consolas,'Courier New',monospace\"></pre>\n"
      ],
      "text/plain": []
     },
     "metadata": {},
     "output_type": "display_data"
    },
    {
     "data": {
      "text/html": [
       "mathematical_model_kinetics.X"
      ],
      "text/plain": [
       "\u001b[1m<\u001b[0m\u001b[1;95mIPython.core.display.HTML\u001b[0m\u001b[39m object\u001b[0m\u001b[1m>\u001b[0m"
      ]
     },
     "metadata": {},
     "output_type": "display_data"
    },
    {
     "data": {
      "text/html": [
       "<pre style=\"white-space:pre;overflow-x:auto;line-height:normal;font-family:Menlo,'DejaVu Sans Mono',consolas,'Courier New',monospace\"></pre>\n"
      ],
      "text/plain": []
     },
     "metadata": {},
     "output_type": "display_data"
    },
    {
     "data": {
      "text/latex": [
       "$\\displaystyle m \\left(\\dot{u} - r^{2} x_{G} - r v\\right) = X_{D} + X_{\\dot{u}} \\dot{u}$"
      ],
      "text/plain": [
       "\u001b[1m<\u001b[0m\u001b[1;95mIPython.core.display.Math\u001b[0m\u001b[39m object\u001b[0m\u001b[1m>\u001b[0m"
      ]
     },
     "metadata": {},
     "output_type": "display_data"
    },
    {
     "data": {
      "text/html": [
       "<pre style=\"white-space:pre;overflow-x:auto;line-height:normal;font-family:Menlo,'DejaVu Sans Mono',consolas,'Courier New',monospace\"></pre>\n"
      ],
      "text/plain": []
     },
     "metadata": {},
     "output_type": "display_data"
    },
    {
     "data": {
      "text/html": [
       "<br>"
      ],
      "text/plain": [
       "\u001b[1m<\u001b[0m\u001b[1;95mIPython.core.display.HTML\u001b[0m\u001b[39m object\u001b[0m\u001b[1m>\u001b[0m"
      ]
     },
     "metadata": {},
     "output_type": "display_data"
    },
    {
     "data": {
      "text/html": [
       "<pre style=\"white-space:pre;overflow-x:auto;line-height:normal;font-family:Menlo,'DejaVu Sans Mono',consolas,'Courier New',monospace\"></pre>\n"
      ],
      "text/plain": []
     },
     "metadata": {},
     "output_type": "display_data"
    },
    {
     "data": {
      "text/html": [
       "mathematical_model_kinetics.Y"
      ],
      "text/plain": [
       "\u001b[1m<\u001b[0m\u001b[1;95mIPython.core.display.HTML\u001b[0m\u001b[39m object\u001b[0m\u001b[1m>\u001b[0m"
      ]
     },
     "metadata": {},
     "output_type": "display_data"
    },
    {
     "data": {
      "text/html": [
       "<pre style=\"white-space:pre;overflow-x:auto;line-height:normal;font-family:Menlo,'DejaVu Sans Mono',consolas,'Courier New',monospace\"></pre>\n"
      ],
      "text/plain": []
     },
     "metadata": {},
     "output_type": "display_data"
    },
    {
     "data": {
      "text/latex": [
       "$\\displaystyle m \\left(\\dot{r} x_{G} + \\dot{v} + r u\\right) = Y_{D} + Y_{\\dot{r}} \\dot{r} + Y_{\\dot{v}} \\dot{v}$"
      ],
      "text/plain": [
       "\u001b[1m<\u001b[0m\u001b[1;95mIPython.core.display.Math\u001b[0m\u001b[39m object\u001b[0m\u001b[1m>\u001b[0m"
      ]
     },
     "metadata": {},
     "output_type": "display_data"
    },
    {
     "data": {
      "text/html": [
       "<pre style=\"white-space:pre;overflow-x:auto;line-height:normal;font-family:Menlo,'DejaVu Sans Mono',consolas,'Courier New',monospace\"></pre>\n"
      ],
      "text/plain": []
     },
     "metadata": {},
     "output_type": "display_data"
    },
    {
     "data": {
      "text/html": [
       "<br>"
      ],
      "text/plain": [
       "\u001b[1m<\u001b[0m\u001b[1;95mIPython.core.display.HTML\u001b[0m\u001b[39m object\u001b[0m\u001b[1m>\u001b[0m"
      ]
     },
     "metadata": {},
     "output_type": "display_data"
    },
    {
     "data": {
      "text/html": [
       "<pre style=\"white-space:pre;overflow-x:auto;line-height:normal;font-family:Menlo,'DejaVu Sans Mono',consolas,'Courier New',monospace\"></pre>\n"
      ],
      "text/plain": []
     },
     "metadata": {},
     "output_type": "display_data"
    },
    {
     "data": {
      "text/html": [
       "mathematical_model_kinetics.N"
      ],
      "text/plain": [
       "\u001b[1m<\u001b[0m\u001b[1;95mIPython.core.display.HTML\u001b[0m\u001b[39m object\u001b[0m\u001b[1m>\u001b[0m"
      ]
     },
     "metadata": {},
     "output_type": "display_data"
    },
    {
     "data": {
      "text/html": [
       "<pre style=\"white-space:pre;overflow-x:auto;line-height:normal;font-family:Menlo,'DejaVu Sans Mono',consolas,'Courier New',monospace\"></pre>\n"
      ],
      "text/plain": []
     },
     "metadata": {},
     "output_type": "display_data"
    },
    {
     "data": {
      "text/latex": [
       "$\\displaystyle I_{z} \\dot{r} + m x_{G} \\left(\\dot{v} + r u\\right) = N_{D} + N_{\\dot{r}} \\dot{r} + N_{\\dot{v}} \\dot{v}$"
      ],
      "text/plain": [
       "\u001b[1m<\u001b[0m\u001b[1;95mIPython.core.display.Math\u001b[0m\u001b[39m object\u001b[0m\u001b[1m>\u001b[0m"
      ]
     },
     "metadata": {},
     "output_type": "display_data"
    },
    {
     "data": {
      "text/html": [
       "<pre style=\"white-space:pre;overflow-x:auto;line-height:normal;font-family:Menlo,'DejaVu Sans Mono',consolas,'Courier New',monospace\"></pre>\n"
      ],
      "text/plain": []
     },
     "metadata": {},
     "output_type": "display_data"
    },
    {
     "data": {
      "text/html": [
       "<br>"
      ],
      "text/plain": [
       "\u001b[1m<\u001b[0m\u001b[1;95mIPython.core.display.HTML\u001b[0m\u001b[39m object\u001b[0m\u001b[1m>\u001b[0m"
      ]
     },
     "metadata": {},
     "output_type": "display_data"
    }
   ],
   "source": [
    "eq_X = sp.Eq(model.X_eq.lhs,model.X_eq.rhs.subs(model.X_D_eq.rhs,X_D_))\n",
    "eq_Y = sp.Eq(model.Y_eq.lhs,model.Y_eq.rhs.subs(model.Y_D_eq.rhs,Y_D_))\n",
    "eq_N = sp.Eq(model.N_eq.lhs,model.N_eq.rhs.subs(model.N_D_eq.rhs,N_D_))\n",
    "\n",
    "save_eq(remove_functions(eq_X), file_name='X')\n",
    "save_eq(remove_functions(eq_Y), file_name='Y')\n",
    "save_eq(remove_functions(eq_N), file_name='N')"
   ]
  },
  {
   "cell_type": "code",
   "execution_count": 11,
   "id": "4e75e769-32b5-4625-94c2-58a6f6017cbe",
   "metadata": {},
   "outputs": [
    {
     "data": {
      "text/html": [
       "<pre style=\"white-space:pre;overflow-x:auto;line-height:normal;font-family:Menlo,'DejaVu Sans Mono',consolas,'Courier New',monospace\"></pre>\n"
      ],
      "text/plain": []
     },
     "metadata": {},
     "output_type": "display_data"
    },
    {
     "data": {
      "text/html": [
       "mathematical_model_kinetics.X_D"
      ],
      "text/plain": [
       "\u001b[1m<\u001b[0m\u001b[1;95mIPython.core.display.HTML\u001b[0m\u001b[39m object\u001b[0m\u001b[1m>\u001b[0m"
      ]
     },
     "metadata": {},
     "output_type": "display_data"
    },
    {
     "data": {
      "text/html": [
       "<pre style=\"white-space:pre;overflow-x:auto;line-height:normal;font-family:Menlo,'DejaVu Sans Mono',consolas,'Courier New',monospace\"></pre>\n"
      ],
      "text/plain": []
     },
     "metadata": {},
     "output_type": "display_data"
    },
    {
     "data": {
      "text/latex": [
       "$\\displaystyle X_{D} = X_{H} + X_{P} + X_{R}$"
      ],
      "text/plain": [
       "\u001b[1m<\u001b[0m\u001b[1;95mIPython.core.display.Math\u001b[0m\u001b[39m object\u001b[0m\u001b[1m>\u001b[0m"
      ]
     },
     "metadata": {},
     "output_type": "display_data"
    },
    {
     "data": {
      "text/html": [
       "<pre style=\"white-space:pre;overflow-x:auto;line-height:normal;font-family:Menlo,'DejaVu Sans Mono',consolas,'Courier New',monospace\"></pre>\n"
      ],
      "text/plain": []
     },
     "metadata": {},
     "output_type": "display_data"
    },
    {
     "data": {
      "text/html": [
       "<br>"
      ],
      "text/plain": [
       "\u001b[1m<\u001b[0m\u001b[1;95mIPython.core.display.HTML\u001b[0m\u001b[39m object\u001b[0m\u001b[1m>\u001b[0m"
      ]
     },
     "metadata": {},
     "output_type": "display_data"
    },
    {
     "data": {
      "text/html": [
       "<pre style=\"white-space:pre;overflow-x:auto;line-height:normal;font-family:Menlo,'DejaVu Sans Mono',consolas,'Courier New',monospace\"></pre>\n"
      ],
      "text/plain": []
     },
     "metadata": {},
     "output_type": "display_data"
    },
    {
     "data": {
      "text/html": [
       "mathematical_model_kinetics.Y_D"
      ],
      "text/plain": [
       "\u001b[1m<\u001b[0m\u001b[1;95mIPython.core.display.HTML\u001b[0m\u001b[39m object\u001b[0m\u001b[1m>\u001b[0m"
      ]
     },
     "metadata": {},
     "output_type": "display_data"
    },
    {
     "data": {
      "text/html": [
       "<pre style=\"white-space:pre;overflow-x:auto;line-height:normal;font-family:Menlo,'DejaVu Sans Mono',consolas,'Courier New',monospace\"></pre>\n"
      ],
      "text/plain": []
     },
     "metadata": {},
     "output_type": "display_data"
    },
    {
     "data": {
      "text/latex": [
       "$\\displaystyle Y_{D} = Y_{H} + Y_{P} + Y_{R} + Y_{RHI}$"
      ],
      "text/plain": [
       "\u001b[1m<\u001b[0m\u001b[1;95mIPython.core.display.Math\u001b[0m\u001b[39m object\u001b[0m\u001b[1m>\u001b[0m"
      ]
     },
     "metadata": {},
     "output_type": "display_data"
    },
    {
     "data": {
      "text/html": [
       "<pre style=\"white-space:pre;overflow-x:auto;line-height:normal;font-family:Menlo,'DejaVu Sans Mono',consolas,'Courier New',monospace\"></pre>\n"
      ],
      "text/plain": []
     },
     "metadata": {},
     "output_type": "display_data"
    },
    {
     "data": {
      "text/html": [
       "<br>"
      ],
      "text/plain": [
       "\u001b[1m<\u001b[0m\u001b[1;95mIPython.core.display.HTML\u001b[0m\u001b[39m object\u001b[0m\u001b[1m>\u001b[0m"
      ]
     },
     "metadata": {},
     "output_type": "display_data"
    },
    {
     "data": {
      "text/html": [
       "<pre style=\"white-space:pre;overflow-x:auto;line-height:normal;font-family:Menlo,'DejaVu Sans Mono',consolas,'Courier New',monospace\"></pre>\n"
      ],
      "text/plain": []
     },
     "metadata": {},
     "output_type": "display_data"
    },
    {
     "data": {
      "text/html": [
       "mathematical_model_kinetics.N_D"
      ],
      "text/plain": [
       "\u001b[1m<\u001b[0m\u001b[1;95mIPython.core.display.HTML\u001b[0m\u001b[39m object\u001b[0m\u001b[1m>\u001b[0m"
      ]
     },
     "metadata": {},
     "output_type": "display_data"
    },
    {
     "data": {
      "text/html": [
       "<pre style=\"white-space:pre;overflow-x:auto;line-height:normal;font-family:Menlo,'DejaVu Sans Mono',consolas,'Courier New',monospace\"></pre>\n"
      ],
      "text/plain": []
     },
     "metadata": {},
     "output_type": "display_data"
    },
    {
     "data": {
      "text/latex": [
       "$\\displaystyle N_{D} = N_{H} + N_{P} + N_{R} + N_{RHI}$"
      ],
      "text/plain": [
       "\u001b[1m<\u001b[0m\u001b[1;95mIPython.core.display.Math\u001b[0m\u001b[39m object\u001b[0m\u001b[1m>\u001b[0m"
      ]
     },
     "metadata": {},
     "output_type": "display_data"
    },
    {
     "data": {
      "text/html": [
       "<pre style=\"white-space:pre;overflow-x:auto;line-height:normal;font-family:Menlo,'DejaVu Sans Mono',consolas,'Courier New',monospace\"></pre>\n"
      ],
      "text/plain": []
     },
     "metadata": {},
     "output_type": "display_data"
    },
    {
     "data": {
      "text/html": [
       "<br>"
      ],
      "text/plain": [
       "\u001b[1m<\u001b[0m\u001b[1;95mIPython.core.display.HTML\u001b[0m\u001b[39m object\u001b[0m\u001b[1m>\u001b[0m"
      ]
     },
     "metadata": {},
     "output_type": "display_data"
    }
   ],
   "source": [
    "X_D_eq = remove_functions(model.X_D_eq).subs([\n",
    "    (\"X_W\",0),\n",
    "    (\"X_RHI\",0),\n",
    "])\n",
    "Y_D_eq = remove_functions(model.Y_D_eq).subs(\"Y_W\",0)\n",
    "N_D_eq = remove_functions(model.N_D_eq).subs(\"N_W\",0)\n",
    "\n",
    "save_eq(remove_functions(X_D_eq), file_name='X_D')\n",
    "save_eq(remove_functions(Y_D_eq), file_name='Y_D')\n",
    "save_eq(remove_functions(N_D_eq), file_name='N_D')"
   ]
  },
  {
   "cell_type": "code",
   "execution_count": 12,
   "id": "aaf5d0bb-bc6c-4671-872a-b79b3a070ab4",
   "metadata": {},
   "outputs": [
    {
     "name": "stdout",
     "output_type": "stream",
     "text": [
      "hull: PrimeEquationSubSystem\n",
      "propellers: PropellersSimpleSystem\n",
      "rudder_port: SemiempiricalRudderSystemCovered\n",
      "rudder_stbd: SemiempiricalRudderSystemCovered\n",
      "rudders: Rudders\n",
      "rudder_hull_interaction: RudderHullInteractionSystem\n",
      "wind_force: DummyWindForceSystem\n"
     ]
    }
   ],
   "source": [
    "model.show_subsystems()"
   ]
  },
  {
   "cell_type": "markdown",
   "id": "a55396d3-be8f-430d-8f7b-e410808fd765",
   "metadata": {},
   "source": [
    "## Hull"
   ]
  },
  {
   "cell_type": "code",
   "execution_count": 13,
   "id": "db7d878a-46f4-45e3-b2ae-450d6563d653",
   "metadata": {},
   "outputs": [],
   "source": [
    "from phd.paper.equation import to_latex\n",
    "from IPython.display import display, Latex, Math, HTML\n",
    "\n",
    "eq_latex = to_latex(model.subsystems['hull'].equations['Y_H'])\n",
    "\n",
    "eq_latex = eq_latex.replace(r'Y_{rrr} r^{3}',r'\\cancel{Y_{rrr}} r^{3}')"
   ]
  },
  {
   "cell_type": "code",
   "execution_count": 14,
   "id": "2a3df348-9cb3-4665-a6a3-ac92f97a5ac8",
   "metadata": {},
   "outputs": [],
   "source": [
    "def cancel(eq:sp.Eq,cancels = []):\n",
    "    subs={}\n",
    "    for cancel in cancels:\n",
    "        subs[cancel]=sp.Symbol(fr'\\cancel{{{cancel}}}')\n",
    "    eq = eq.subs(subs)\n",
    "    return eq"
   ]
  },
  {
   "cell_type": "code",
   "execution_count": 15,
   "id": "a4178eb6-a3c0-48b1-b3a1-fae3ea2ab0bf",
   "metadata": {},
   "outputs": [
    {
     "data": {
      "text/html": [
       "<pre style=\"white-space:pre;overflow-x:auto;line-height:normal;font-family:Menlo,'DejaVu Sans Mono',consolas,'Courier New',monospace\"></pre>\n"
      ],
      "text/plain": []
     },
     "metadata": {},
     "output_type": "display_data"
    },
    {
     "data": {
      "text/html": [
       "mathematical_model_kinetics.X_H"
      ],
      "text/plain": [
       "\u001b[1m<\u001b[0m\u001b[1;95mIPython.core.display.HTML\u001b[0m\u001b[39m object\u001b[0m\u001b[1m>\u001b[0m"
      ]
     },
     "metadata": {},
     "output_type": "display_data"
    },
    {
     "data": {
      "text/html": [
       "<pre style=\"white-space:pre;overflow-x:auto;line-height:normal;font-family:Menlo,'DejaVu Sans Mono',consolas,'Courier New',monospace\"></pre>\n"
      ],
      "text/plain": []
     },
     "metadata": {},
     "output_type": "display_data"
    },
    {
     "data": {
      "text/latex": [
       "$\\displaystyle {X_H'} = {X_{0}'} + {X_{rr}'} {r'}^{2} + {X_{u}'} {u'} + {X_{vr}'} {r'} {v'} + {X_{vv}'} {v'}^{2}$"
      ],
      "text/plain": [
       "\u001b[1m<\u001b[0m\u001b[1;95mIPython.core.display.Math\u001b[0m\u001b[39m object\u001b[0m\u001b[1m>\u001b[0m"
      ]
     },
     "metadata": {},
     "output_type": "display_data"
    },
    {
     "data": {
      "text/html": [
       "<pre style=\"white-space:pre;overflow-x:auto;line-height:normal;font-family:Menlo,'DejaVu Sans Mono',consolas,'Courier New',monospace\"></pre>\n"
      ],
      "text/plain": []
     },
     "metadata": {},
     "output_type": "display_data"
    },
    {
     "data": {
      "text/html": [
       "<br>"
      ],
      "text/plain": [
       "\u001b[1m<\u001b[0m\u001b[1;95mIPython.core.display.HTML\u001b[0m\u001b[39m object\u001b[0m\u001b[1m>\u001b[0m"
      ]
     },
     "metadata": {},
     "output_type": "display_data"
    },
    {
     "data": {
      "text/html": [
       "<pre style=\"white-space:pre;overflow-x:auto;line-height:normal;font-family:Menlo,'DejaVu Sans Mono',consolas,'Courier New',monospace\"></pre>\n"
      ],
      "text/plain": []
     },
     "metadata": {},
     "output_type": "display_data"
    },
    {
     "data": {
      "text/html": [
       "mathematical_model_kinetics.Y_H"
      ],
      "text/plain": [
       "\u001b[1m<\u001b[0m\u001b[1;95mIPython.core.display.HTML\u001b[0m\u001b[39m object\u001b[0m\u001b[1m>\u001b[0m"
      ]
     },
     "metadata": {},
     "output_type": "display_data"
    },
    {
     "data": {
      "text/html": [
       "<pre style=\"white-space:pre;overflow-x:auto;line-height:normal;font-family:Menlo,'DejaVu Sans Mono',consolas,'Courier New',monospace\"></pre>\n"
      ],
      "text/plain": []
     },
     "metadata": {},
     "output_type": "display_data"
    },
    {
     "data": {
      "text/latex": [
       "$\\displaystyle {Y_H'} = {Y_{0}'} + {Y_{r}'} {r'} + {Y_{v}'} {v'} + {\\cancel{Y_{rrr}}'} {r'}^{3} + {\\cancel{Y_{vrr}}'} {r'}^{2} {v'} + {\\cancel{Y_{vvr}}'} {r'} {v'}^{2} + {\\cancel{Y_{vvv}}'} {v'}^{3}$"
      ],
      "text/plain": [
       "\u001b[1m<\u001b[0m\u001b[1;95mIPython.core.display.Math\u001b[0m\u001b[39m object\u001b[0m\u001b[1m>\u001b[0m"
      ]
     },
     "metadata": {},
     "output_type": "display_data"
    },
    {
     "data": {
      "text/html": [
       "<pre style=\"white-space:pre;overflow-x:auto;line-height:normal;font-family:Menlo,'DejaVu Sans Mono',consolas,'Courier New',monospace\"></pre>\n"
      ],
      "text/plain": []
     },
     "metadata": {},
     "output_type": "display_data"
    },
    {
     "data": {
      "text/html": [
       "<br>"
      ],
      "text/plain": [
       "\u001b[1m<\u001b[0m\u001b[1;95mIPython.core.display.HTML\u001b[0m\u001b[39m object\u001b[0m\u001b[1m>\u001b[0m"
      ]
     },
     "metadata": {},
     "output_type": "display_data"
    },
    {
     "data": {
      "text/html": [
       "<pre style=\"white-space:pre;overflow-x:auto;line-height:normal;font-family:Menlo,'DejaVu Sans Mono',consolas,'Courier New',monospace\"></pre>\n"
      ],
      "text/plain": []
     },
     "metadata": {},
     "output_type": "display_data"
    },
    {
     "data": {
      "text/html": [
       "mathematical_model_kinetics.N_H"
      ],
      "text/plain": [
       "\u001b[1m<\u001b[0m\u001b[1;95mIPython.core.display.HTML\u001b[0m\u001b[39m object\u001b[0m\u001b[1m>\u001b[0m"
      ]
     },
     "metadata": {},
     "output_type": "display_data"
    },
    {
     "data": {
      "text/html": [
       "<pre style=\"white-space:pre;overflow-x:auto;line-height:normal;font-family:Menlo,'DejaVu Sans Mono',consolas,'Courier New',monospace\"></pre>\n"
      ],
      "text/plain": []
     },
     "metadata": {},
     "output_type": "display_data"
    },
    {
     "data": {
      "text/latex": [
       "$\\displaystyle {N_H'} = {N_{0}'} + {N_{r}'} {r'} + {N_{v}'} {v'} + {\\cancel{N_{rrr}}'} {r'}^{3} + {\\cancel{N_{vrr}}'} {r'}^{2} {v'} + {\\cancel{N_{vvr}}'} {r'} {v'}^{2} + {\\cancel{N_{vvv}}'} {v'}^{3}$"
      ],
      "text/plain": [
       "\u001b[1m<\u001b[0m\u001b[1;95mIPython.core.display.Math\u001b[0m\u001b[39m object\u001b[0m\u001b[1m>\u001b[0m"
      ]
     },
     "metadata": {},
     "output_type": "display_data"
    },
    {
     "data": {
      "text/html": [
       "<pre style=\"white-space:pre;overflow-x:auto;line-height:normal;font-family:Menlo,'DejaVu Sans Mono',consolas,'Courier New',monospace\"></pre>\n"
      ],
      "text/plain": []
     },
     "metadata": {},
     "output_type": "display_data"
    },
    {
     "data": {
      "text/html": [
       "<br>"
      ],
      "text/plain": [
       "\u001b[1m<\u001b[0m\u001b[1;95mIPython.core.display.HTML\u001b[0m\u001b[39m object\u001b[0m\u001b[1m>\u001b[0m"
      ]
     },
     "metadata": {},
     "output_type": "display_data"
    }
   ],
   "source": [
    "cancels = [\n",
    "    p.Yrrr,p.Yvrr,p.Yvvr,p.Yvvv,\n",
    "    p.Nrrr,p.Nvrr,p.Nvvr,p.Nvvv,\n",
    "]\n",
    "for name, eq in model.subsystems['hull'].equations.items():\n",
    "    #save_eq(cancel(prime(eq)), file_name=name)\n",
    "    save_eq(prime(cancel(eq, cancels=cancels)), file_name=name)"
   ]
  },
  {
   "cell_type": "markdown",
   "id": "960df9fb-7a52-493b-9bcc-de56632a3182",
   "metadata": {},
   "source": [
    "## Propellers"
   ]
  },
  {
   "cell_type": "code",
   "execution_count": 16,
   "id": "c6ec611d-ce3d-40c4-bfbf-2cfa93f1ebc2",
   "metadata": {},
   "outputs": [
    {
     "data": {
      "text/html": [
       "<pre style=\"white-space:pre;overflow-x:auto;line-height:normal;font-family:Menlo,'DejaVu Sans Mono',consolas,'Courier New',monospace\"></pre>\n"
      ],
      "text/plain": []
     },
     "metadata": {},
     "output_type": "display_data"
    },
    {
     "data": {
      "text/html": [
       "mathematical_model_kinetics.X_P_port"
      ],
      "text/plain": [
       "\u001b[1m<\u001b[0m\u001b[1;95mIPython.core.display.HTML\u001b[0m\u001b[39m object\u001b[0m\u001b[1m>\u001b[0m"
      ]
     },
     "metadata": {},
     "output_type": "display_data"
    },
    {
     "data": {
      "text/html": [
       "<pre style=\"white-space:pre;overflow-x:auto;line-height:normal;font-family:Menlo,'DejaVu Sans Mono',consolas,'Courier New',monospace\"></pre>\n"
      ],
      "text/plain": []
     },
     "metadata": {},
     "output_type": "display_data"
    },
    {
     "data": {
      "text/latex": [
       "$\\displaystyle X_{P port} = X_{Tport} T_{port}$"
      ],
      "text/plain": [
       "\u001b[1m<\u001b[0m\u001b[1;95mIPython.core.display.Math\u001b[0m\u001b[39m object\u001b[0m\u001b[1m>\u001b[0m"
      ]
     },
     "metadata": {},
     "output_type": "display_data"
    },
    {
     "data": {
      "text/html": [
       "<pre style=\"white-space:pre;overflow-x:auto;line-height:normal;font-family:Menlo,'DejaVu Sans Mono',consolas,'Courier New',monospace\"></pre>\n"
      ],
      "text/plain": []
     },
     "metadata": {},
     "output_type": "display_data"
    },
    {
     "data": {
      "text/html": [
       "<br>"
      ],
      "text/plain": [
       "\u001b[1m<\u001b[0m\u001b[1;95mIPython.core.display.HTML\u001b[0m\u001b[39m object\u001b[0m\u001b[1m>\u001b[0m"
      ]
     },
     "metadata": {},
     "output_type": "display_data"
    },
    {
     "data": {
      "text/html": [
       "<pre style=\"white-space:pre;overflow-x:auto;line-height:normal;font-family:Menlo,'DejaVu Sans Mono',consolas,'Courier New',monospace\"></pre>\n"
      ],
      "text/plain": []
     },
     "metadata": {},
     "output_type": "display_data"
    },
    {
     "data": {
      "text/html": [
       "mathematical_model_kinetics.X_P_stbd"
      ],
      "text/plain": [
       "\u001b[1m<\u001b[0m\u001b[1;95mIPython.core.display.HTML\u001b[0m\u001b[39m object\u001b[0m\u001b[1m>\u001b[0m"
      ]
     },
     "metadata": {},
     "output_type": "display_data"
    },
    {
     "data": {
      "text/html": [
       "<pre style=\"white-space:pre;overflow-x:auto;line-height:normal;font-family:Menlo,'DejaVu Sans Mono',consolas,'Courier New',monospace\"></pre>\n"
      ],
      "text/plain": []
     },
     "metadata": {},
     "output_type": "display_data"
    },
    {
     "data": {
      "text/latex": [
       "$\\displaystyle X_{P stbd} = X_{Tstbd} T_{stbd}$"
      ],
      "text/plain": [
       "\u001b[1m<\u001b[0m\u001b[1;95mIPython.core.display.Math\u001b[0m\u001b[39m object\u001b[0m\u001b[1m>\u001b[0m"
      ]
     },
     "metadata": {},
     "output_type": "display_data"
    },
    {
     "data": {
      "text/html": [
       "<pre style=\"white-space:pre;overflow-x:auto;line-height:normal;font-family:Menlo,'DejaVu Sans Mono',consolas,'Courier New',monospace\"></pre>\n"
      ],
      "text/plain": []
     },
     "metadata": {},
     "output_type": "display_data"
    },
    {
     "data": {
      "text/html": [
       "<br>"
      ],
      "text/plain": [
       "\u001b[1m<\u001b[0m\u001b[1;95mIPython.core.display.HTML\u001b[0m\u001b[39m object\u001b[0m\u001b[1m>\u001b[0m"
      ]
     },
     "metadata": {},
     "output_type": "display_data"
    },
    {
     "data": {
      "text/html": [
       "<pre style=\"white-space:pre;overflow-x:auto;line-height:normal;font-family:Menlo,'DejaVu Sans Mono',consolas,'Courier New',monospace\"></pre>\n"
      ],
      "text/plain": []
     },
     "metadata": {},
     "output_type": "display_data"
    },
    {
     "data": {
      "text/html": [
       "mathematical_model_kinetics.X_P"
      ],
      "text/plain": [
       "\u001b[1m<\u001b[0m\u001b[1;95mIPython.core.display.HTML\u001b[0m\u001b[39m object\u001b[0m\u001b[1m>\u001b[0m"
      ]
     },
     "metadata": {},
     "output_type": "display_data"
    },
    {
     "data": {
      "text/html": [
       "<pre style=\"white-space:pre;overflow-x:auto;line-height:normal;font-family:Menlo,'DejaVu Sans Mono',consolas,'Courier New',monospace\"></pre>\n"
      ],
      "text/plain": []
     },
     "metadata": {},
     "output_type": "display_data"
    },
    {
     "data": {
      "text/latex": [
       "$\\displaystyle X_{P} = X_{P port} + X_{P stbd}$"
      ],
      "text/plain": [
       "\u001b[1m<\u001b[0m\u001b[1;95mIPython.core.display.Math\u001b[0m\u001b[39m object\u001b[0m\u001b[1m>\u001b[0m"
      ]
     },
     "metadata": {},
     "output_type": "display_data"
    },
    {
     "data": {
      "text/html": [
       "<pre style=\"white-space:pre;overflow-x:auto;line-height:normal;font-family:Menlo,'DejaVu Sans Mono',consolas,'Courier New',monospace\"></pre>\n"
      ],
      "text/plain": []
     },
     "metadata": {},
     "output_type": "display_data"
    },
    {
     "data": {
      "text/html": [
       "<br>"
      ],
      "text/plain": [
       "\u001b[1m<\u001b[0m\u001b[1;95mIPython.core.display.HTML\u001b[0m\u001b[39m object\u001b[0m\u001b[1m>\u001b[0m"
      ]
     },
     "metadata": {},
     "output_type": "display_data"
    },
    {
     "data": {
      "text/html": [
       "<pre style=\"white-space:pre;overflow-x:auto;line-height:normal;font-family:Menlo,'DejaVu Sans Mono',consolas,'Courier New',monospace\"></pre>\n"
      ],
      "text/plain": []
     },
     "metadata": {},
     "output_type": "display_data"
    },
    {
     "data": {
      "text/html": [
       "mathematical_model_kinetics.Y_P"
      ],
      "text/plain": [
       "\u001b[1m<\u001b[0m\u001b[1;95mIPython.core.display.HTML\u001b[0m\u001b[39m object\u001b[0m\u001b[1m>\u001b[0m"
      ]
     },
     "metadata": {},
     "output_type": "display_data"
    },
    {
     "data": {
      "text/html": [
       "<pre style=\"white-space:pre;overflow-x:auto;line-height:normal;font-family:Menlo,'DejaVu Sans Mono',consolas,'Courier New',monospace\"></pre>\n"
      ],
      "text/plain": []
     },
     "metadata": {},
     "output_type": "display_data"
    },
    {
     "data": {
      "text/latex": [
       "$\\displaystyle Y_{P} = 0$"
      ],
      "text/plain": [
       "\u001b[1m<\u001b[0m\u001b[1;95mIPython.core.display.Math\u001b[0m\u001b[39m object\u001b[0m\u001b[1m>\u001b[0m"
      ]
     },
     "metadata": {},
     "output_type": "display_data"
    },
    {
     "data": {
      "text/html": [
       "<pre style=\"white-space:pre;overflow-x:auto;line-height:normal;font-family:Menlo,'DejaVu Sans Mono',consolas,'Courier New',monospace\"></pre>\n"
      ],
      "text/plain": []
     },
     "metadata": {},
     "output_type": "display_data"
    },
    {
     "data": {
      "text/html": [
       "<br>"
      ],
      "text/plain": [
       "\u001b[1m<\u001b[0m\u001b[1;95mIPython.core.display.HTML\u001b[0m\u001b[39m object\u001b[0m\u001b[1m>\u001b[0m"
      ]
     },
     "metadata": {},
     "output_type": "display_data"
    },
    {
     "data": {
      "text/html": [
       "<pre style=\"white-space:pre;overflow-x:auto;line-height:normal;font-family:Menlo,'DejaVu Sans Mono',consolas,'Courier New',monospace\"></pre>\n"
      ],
      "text/plain": []
     },
     "metadata": {},
     "output_type": "display_data"
    },
    {
     "data": {
      "text/html": [
       "mathematical_model_kinetics.N_P_port"
      ],
      "text/plain": [
       "\u001b[1m<\u001b[0m\u001b[1;95mIPython.core.display.HTML\u001b[0m\u001b[39m object\u001b[0m\u001b[1m>\u001b[0m"
      ]
     },
     "metadata": {},
     "output_type": "display_data"
    },
    {
     "data": {
      "text/html": [
       "<pre style=\"white-space:pre;overflow-x:auto;line-height:normal;font-family:Menlo,'DejaVu Sans Mono',consolas,'Courier New',monospace\"></pre>\n"
      ],
      "text/plain": []
     },
     "metadata": {},
     "output_type": "display_data"
    },
    {
     "data": {
      "text/latex": [
       "$\\displaystyle N_{P port} = - X_{P port} y_{p port}$"
      ],
      "text/plain": [
       "\u001b[1m<\u001b[0m\u001b[1;95mIPython.core.display.Math\u001b[0m\u001b[39m object\u001b[0m\u001b[1m>\u001b[0m"
      ]
     },
     "metadata": {},
     "output_type": "display_data"
    },
    {
     "data": {
      "text/html": [
       "<pre style=\"white-space:pre;overflow-x:auto;line-height:normal;font-family:Menlo,'DejaVu Sans Mono',consolas,'Courier New',monospace\"></pre>\n"
      ],
      "text/plain": []
     },
     "metadata": {},
     "output_type": "display_data"
    },
    {
     "data": {
      "text/html": [
       "<br>"
      ],
      "text/plain": [
       "\u001b[1m<\u001b[0m\u001b[1;95mIPython.core.display.HTML\u001b[0m\u001b[39m object\u001b[0m\u001b[1m>\u001b[0m"
      ]
     },
     "metadata": {},
     "output_type": "display_data"
    },
    {
     "data": {
      "text/html": [
       "<pre style=\"white-space:pre;overflow-x:auto;line-height:normal;font-family:Menlo,'DejaVu Sans Mono',consolas,'Courier New',monospace\"></pre>\n"
      ],
      "text/plain": []
     },
     "metadata": {},
     "output_type": "display_data"
    },
    {
     "data": {
      "text/html": [
       "mathematical_model_kinetics.N_P_stbd"
      ],
      "text/plain": [
       "\u001b[1m<\u001b[0m\u001b[1;95mIPython.core.display.HTML\u001b[0m\u001b[39m object\u001b[0m\u001b[1m>\u001b[0m"
      ]
     },
     "metadata": {},
     "output_type": "display_data"
    },
    {
     "data": {
      "text/html": [
       "<pre style=\"white-space:pre;overflow-x:auto;line-height:normal;font-family:Menlo,'DejaVu Sans Mono',consolas,'Courier New',monospace\"></pre>\n"
      ],
      "text/plain": []
     },
     "metadata": {},
     "output_type": "display_data"
    },
    {
     "data": {
      "text/latex": [
       "$\\displaystyle N_{P stbd} = - X_{P stbd} y_{p stbd}$"
      ],
      "text/plain": [
       "\u001b[1m<\u001b[0m\u001b[1;95mIPython.core.display.Math\u001b[0m\u001b[39m object\u001b[0m\u001b[1m>\u001b[0m"
      ]
     },
     "metadata": {},
     "output_type": "display_data"
    },
    {
     "data": {
      "text/html": [
       "<pre style=\"white-space:pre;overflow-x:auto;line-height:normal;font-family:Menlo,'DejaVu Sans Mono',consolas,'Courier New',monospace\"></pre>\n"
      ],
      "text/plain": []
     },
     "metadata": {},
     "output_type": "display_data"
    },
    {
     "data": {
      "text/html": [
       "<br>"
      ],
      "text/plain": [
       "\u001b[1m<\u001b[0m\u001b[1;95mIPython.core.display.HTML\u001b[0m\u001b[39m object\u001b[0m\u001b[1m>\u001b[0m"
      ]
     },
     "metadata": {},
     "output_type": "display_data"
    },
    {
     "data": {
      "text/html": [
       "<pre style=\"white-space:pre;overflow-x:auto;line-height:normal;font-family:Menlo,'DejaVu Sans Mono',consolas,'Courier New',monospace\"></pre>\n"
      ],
      "text/plain": []
     },
     "metadata": {},
     "output_type": "display_data"
    },
    {
     "data": {
      "text/html": [
       "mathematical_model_kinetics.N_P"
      ],
      "text/plain": [
       "\u001b[1m<\u001b[0m\u001b[1;95mIPython.core.display.HTML\u001b[0m\u001b[39m object\u001b[0m\u001b[1m>\u001b[0m"
      ]
     },
     "metadata": {},
     "output_type": "display_data"
    },
    {
     "data": {
      "text/html": [
       "<pre style=\"white-space:pre;overflow-x:auto;line-height:normal;font-family:Menlo,'DejaVu Sans Mono',consolas,'Courier New',monospace\"></pre>\n"
      ],
      "text/plain": []
     },
     "metadata": {},
     "output_type": "display_data"
    },
    {
     "data": {
      "text/latex": [
       "$\\displaystyle N_{P} = N_{P port} + N_{P stbd}$"
      ],
      "text/plain": [
       "\u001b[1m<\u001b[0m\u001b[1;95mIPython.core.display.Math\u001b[0m\u001b[39m object\u001b[0m\u001b[1m>\u001b[0m"
      ]
     },
     "metadata": {},
     "output_type": "display_data"
    },
    {
     "data": {
      "text/html": [
       "<pre style=\"white-space:pre;overflow-x:auto;line-height:normal;font-family:Menlo,'DejaVu Sans Mono',consolas,'Courier New',monospace\"></pre>\n"
      ],
      "text/plain": []
     },
     "metadata": {},
     "output_type": "display_data"
    },
    {
     "data": {
      "text/html": [
       "<br>"
      ],
      "text/plain": [
       "\u001b[1m<\u001b[0m\u001b[1;95mIPython.core.display.HTML\u001b[0m\u001b[39m object\u001b[0m\u001b[1m>\u001b[0m"
      ]
     },
     "metadata": {},
     "output_type": "display_data"
    }
   ],
   "source": [
    "for name, eq in model.subsystems['propellers'].equations.items():\n",
    "        \n",
    "    if isinstance(model.subsystems['propellers'], vessel_manoeuvring_models.models.subsystem.PrimeEquationSubSystem):\n",
    "        save_eq(prime(eq), file_name=name)\n",
    "    else:\n",
    "        save_eq(eq, file_name=name)"
   ]
  },
  {
   "cell_type": "markdown",
   "id": "a4907d3e-395c-41d0-bbb7-6ba9b623a6d9",
   "metadata": {},
   "source": [
    "## Rudder hull interaction"
   ]
  },
  {
   "cell_type": "code",
   "execution_count": 17,
   "id": "2b69dd6d-1232-45da-8478-dc227f5c247e",
   "metadata": {},
   "outputs": [
    {
     "data": {
      "text/html": [
       "<pre style=\"white-space:pre;overflow-x:auto;line-height:normal;font-family:Menlo,'DejaVu Sans Mono',consolas,'Courier New',monospace\"></pre>\n"
      ],
      "text/plain": []
     },
     "metadata": {},
     "output_type": "display_data"
    },
    {
     "data": {
      "text/html": [
       "mathematical_model_kinetics.X_RHI"
      ],
      "text/plain": [
       "\u001b[1m<\u001b[0m\u001b[1;95mIPython.core.display.HTML\u001b[0m\u001b[39m object\u001b[0m\u001b[1m>\u001b[0m"
      ]
     },
     "metadata": {},
     "output_type": "display_data"
    },
    {
     "data": {
      "text/html": [
       "<pre style=\"white-space:pre;overflow-x:auto;line-height:normal;font-family:Menlo,'DejaVu Sans Mono',consolas,'Courier New',monospace\"></pre>\n"
      ],
      "text/plain": []
     },
     "metadata": {},
     "output_type": "display_data"
    },
    {
     "data": {
      "text/latex": [
       "$\\displaystyle X_{RHI} = 0$"
      ],
      "text/plain": [
       "\u001b[1m<\u001b[0m\u001b[1;95mIPython.core.display.Math\u001b[0m\u001b[39m object\u001b[0m\u001b[1m>\u001b[0m"
      ]
     },
     "metadata": {},
     "output_type": "display_data"
    },
    {
     "data": {
      "text/html": [
       "<pre style=\"white-space:pre;overflow-x:auto;line-height:normal;font-family:Menlo,'DejaVu Sans Mono',consolas,'Courier New',monospace\"></pre>\n"
      ],
      "text/plain": []
     },
     "metadata": {},
     "output_type": "display_data"
    },
    {
     "data": {
      "text/html": [
       "<br>"
      ],
      "text/plain": [
       "\u001b[1m<\u001b[0m\u001b[1;95mIPython.core.display.HTML\u001b[0m\u001b[39m object\u001b[0m\u001b[1m>\u001b[0m"
      ]
     },
     "metadata": {},
     "output_type": "display_data"
    },
    {
     "data": {
      "text/html": [
       "<pre style=\"white-space:pre;overflow-x:auto;line-height:normal;font-family:Menlo,'DejaVu Sans Mono',consolas,'Courier New',monospace\"></pre>\n"
      ],
      "text/plain": []
     },
     "metadata": {},
     "output_type": "display_data"
    },
    {
     "data": {
      "text/html": [
       "mathematical_model_kinetics.Y_RHI"
      ],
      "text/plain": [
       "\u001b[1m<\u001b[0m\u001b[1;95mIPython.core.display.HTML\u001b[0m\u001b[39m object\u001b[0m\u001b[1m>\u001b[0m"
      ]
     },
     "metadata": {},
     "output_type": "display_data"
    },
    {
     "data": {
      "text/html": [
       "<pre style=\"white-space:pre;overflow-x:auto;line-height:normal;font-family:Menlo,'DejaVu Sans Mono',consolas,'Courier New',monospace\"></pre>\n"
      ],
      "text/plain": []
     },
     "metadata": {},
     "output_type": "display_data"
    },
    {
     "data": {
      "text/latex": [
       "$\\displaystyle Y_{RHI} = Y_{R} a_{H}$"
      ],
      "text/plain": [
       "\u001b[1m<\u001b[0m\u001b[1;95mIPython.core.display.Math\u001b[0m\u001b[39m object\u001b[0m\u001b[1m>\u001b[0m"
      ]
     },
     "metadata": {},
     "output_type": "display_data"
    },
    {
     "data": {
      "text/html": [
       "<pre style=\"white-space:pre;overflow-x:auto;line-height:normal;font-family:Menlo,'DejaVu Sans Mono',consolas,'Courier New',monospace\"></pre>\n"
      ],
      "text/plain": []
     },
     "metadata": {},
     "output_type": "display_data"
    },
    {
     "data": {
      "text/html": [
       "<br>"
      ],
      "text/plain": [
       "\u001b[1m<\u001b[0m\u001b[1;95mIPython.core.display.HTML\u001b[0m\u001b[39m object\u001b[0m\u001b[1m>\u001b[0m"
      ]
     },
     "metadata": {},
     "output_type": "display_data"
    },
    {
     "data": {
      "text/html": [
       "<pre style=\"white-space:pre;overflow-x:auto;line-height:normal;font-family:Menlo,'DejaVu Sans Mono',consolas,'Courier New',monospace\"></pre>\n"
      ],
      "text/plain": []
     },
     "metadata": {},
     "output_type": "display_data"
    },
    {
     "data": {
      "text/html": [
       "mathematical_model_kinetics.N_RHI"
      ],
      "text/plain": [
       "\u001b[1m<\u001b[0m\u001b[1;95mIPython.core.display.HTML\u001b[0m\u001b[39m object\u001b[0m\u001b[1m>\u001b[0m"
      ]
     },
     "metadata": {},
     "output_type": "display_data"
    },
    {
     "data": {
      "text/html": [
       "<pre style=\"white-space:pre;overflow-x:auto;line-height:normal;font-family:Menlo,'DejaVu Sans Mono',consolas,'Courier New',monospace\"></pre>\n"
      ],
      "text/plain": []
     },
     "metadata": {},
     "output_type": "display_data"
    },
    {
     "data": {
      "text/latex": [
       "$\\displaystyle N_{RHI} = N_{R} x_{H}$"
      ],
      "text/plain": [
       "\u001b[1m<\u001b[0m\u001b[1;95mIPython.core.display.Math\u001b[0m\u001b[39m object\u001b[0m\u001b[1m>\u001b[0m"
      ]
     },
     "metadata": {},
     "output_type": "display_data"
    },
    {
     "data": {
      "text/html": [
       "<pre style=\"white-space:pre;overflow-x:auto;line-height:normal;font-family:Menlo,'DejaVu Sans Mono',consolas,'Courier New',monospace\"></pre>\n"
      ],
      "text/plain": []
     },
     "metadata": {},
     "output_type": "display_data"
    },
    {
     "data": {
      "text/html": [
       "<br>"
      ],
      "text/plain": [
       "\u001b[1m<\u001b[0m\u001b[1;95mIPython.core.display.HTML\u001b[0m\u001b[39m object\u001b[0m\u001b[1m>\u001b[0m"
      ]
     },
     "metadata": {},
     "output_type": "display_data"
    }
   ],
   "source": [
    "for name, eq in model.subsystems['rudder_hull_interaction'].equations.items():\n",
    "    if isinstance(model.subsystems['rudder_hull_interaction'], vessel_manoeuvring_models.models.subsystem.PrimeEquationSubSystem):\n",
    "        save_eq(prime(eq), file_name=name)\n",
    "    else:\n",
    "        save_eq(eq, file_name=name)"
   ]
  },
  {
   "cell_type": "markdown",
   "id": "707b33f2-4e8b-429d-87b6-1b9b6677fca0",
   "metadata": {},
   "source": [
    "## Pure mathematical rudder model"
   ]
  },
  {
   "cell_type": "code",
   "execution_count": 18,
   "id": "3e77dee0-1a59-45d9-8416-2f84eebd4a7d",
   "metadata": {},
   "outputs": [
    {
     "name": "stdout",
     "output_type": "stream",
     "text": [
      "hull: PrimeEquationSubSystem\n",
      "propellers: PropellersSimpleSystem\n",
      "rudders: AbkowitzRudderSystem\n",
      "rudder_hull_interaction: RudderHullInteractionDummySystem\n",
      "wind_force: DummyWindForceSystem\n"
     ]
    }
   ],
   "source": [
    "model_abkowitz.show_subsystems()"
   ]
  },
  {
   "cell_type": "code",
   "execution_count": 19,
   "id": "507b0561-9cd9-4adf-b878-fd5a006f581f",
   "metadata": {},
   "outputs": [
    {
     "data": {
      "text/html": [
       "<pre style=\"white-space:pre;overflow-x:auto;line-height:normal;font-family:Menlo,'DejaVu Sans Mono',consolas,'Courier New',monospace\"></pre>\n"
      ],
      "text/plain": []
     },
     "metadata": {},
     "output_type": "display_data"
    },
    {
     "data": {
      "text/plain": [
       "\u001b[32m'N_\u001b[0m\u001b[32m{\u001b[0m\u001b[32mdelta\u001b[0m\u001b[32m}\u001b[0m\u001b[32m'\u001b[0m"
      ]
     },
     "execution_count": 19,
     "metadata": {},
     "output_type": "execute_result"
    }
   ],
   "source": [
    "str(p.Ndelta)"
   ]
  },
  {
   "cell_type": "code",
   "execution_count": 20,
   "id": "99808fd4-52b3-491c-ac9e-46dc7882daff",
   "metadata": {},
   "outputs": [],
   "source": [
    "subs = {sp.Symbol(str(row['symbol'])):sp.Symbol(str(row['symbol']).replace('delta',r'\\delta')) for name, row in df_parameters.iterrows()}\n",
    "for name, eq in model_abkowitz.subsystems['rudders'].equations.items():\n",
    "    eq = eq.subs(delta,sp.Symbol(r'\\delta'))\n",
    "    model_abkowitz.subsystems['rudders'].equations[name] = eq.subs(subs)\n",
    "    "
   ]
  },
  {
   "cell_type": "code",
   "execution_count": 21,
   "id": "984abb26-16f5-4441-b367-5e97492b86c2",
   "metadata": {},
   "outputs": [
    {
     "data": {
      "text/html": [
       "<pre style=\"white-space:pre;overflow-x:auto;line-height:normal;font-family:Menlo,'DejaVu Sans Mono',consolas,'Courier New',monospace\"></pre>\n"
      ],
      "text/plain": []
     },
     "metadata": {},
     "output_type": "display_data"
    },
    {
     "data": {
      "text/html": [
       "mathematical_model_kinetics.X_R_math"
      ],
      "text/plain": [
       "\u001b[1m<\u001b[0m\u001b[1;95mIPython.core.display.HTML\u001b[0m\u001b[39m object\u001b[0m\u001b[1m>\u001b[0m"
      ]
     },
     "metadata": {},
     "output_type": "display_data"
    },
    {
     "data": {
      "text/html": [
       "<pre style=\"white-space:pre;overflow-x:auto;line-height:normal;font-family:Menlo,'DejaVu Sans Mono',consolas,'Courier New',monospace\"></pre>\n"
      ],
      "text/plain": []
     },
     "metadata": {},
     "output_type": "display_data"
    },
    {
     "data": {
      "text/latex": [
       "$\\displaystyle {X_R'} = {X_{\\delta\\delta}'} {\\delta'}^{2}$"
      ],
      "text/plain": [
       "\u001b[1m<\u001b[0m\u001b[1;95mIPython.core.display.Math\u001b[0m\u001b[39m object\u001b[0m\u001b[1m>\u001b[0m"
      ]
     },
     "metadata": {},
     "output_type": "display_data"
    },
    {
     "data": {
      "text/html": [
       "<pre style=\"white-space:pre;overflow-x:auto;line-height:normal;font-family:Menlo,'DejaVu Sans Mono',consolas,'Courier New',monospace\"></pre>\n"
      ],
      "text/plain": []
     },
     "metadata": {},
     "output_type": "display_data"
    },
    {
     "data": {
      "text/html": [
       "<br>"
      ],
      "text/plain": [
       "\u001b[1m<\u001b[0m\u001b[1;95mIPython.core.display.HTML\u001b[0m\u001b[39m object\u001b[0m\u001b[1m>\u001b[0m"
      ]
     },
     "metadata": {},
     "output_type": "display_data"
    },
    {
     "data": {
      "text/html": [
       "<pre style=\"white-space:pre;overflow-x:auto;line-height:normal;font-family:Menlo,'DejaVu Sans Mono',consolas,'Courier New',monospace\"></pre>\n"
      ],
      "text/plain": []
     },
     "metadata": {},
     "output_type": "display_data"
    },
    {
     "data": {
      "text/html": [
       "mathematical_model_kinetics.Y_R_math"
      ],
      "text/plain": [
       "\u001b[1m<\u001b[0m\u001b[1;95mIPython.core.display.HTML\u001b[0m\u001b[39m object\u001b[0m\u001b[1m>\u001b[0m"
      ]
     },
     "metadata": {},
     "output_type": "display_data"
    },
    {
     "data": {
      "text/html": [
       "<pre style=\"white-space:pre;overflow-x:auto;line-height:normal;font-family:Menlo,'DejaVu Sans Mono',consolas,'Courier New',monospace\"></pre>\n"
      ],
      "text/plain": []
     },
     "metadata": {},
     "output_type": "display_data"
    },
    {
     "data": {
      "text/latex": [
       "$\\displaystyle {Y_R'} = {Y_{\\delta\\delta\\delta}'} {\\delta'}^{3} + {Y_{\\delta}'} {\\delta'} + {Y_{r\\delta\\delta}'} {\\delta'}^{2} {r'} + {Y_{rr\\delta}'} {\\delta'} {r'}^{2} + {Y_{v\\delta\\delta}'} {\\delta'}^{2} {v'} + {Y_{vr\\delta}'} {\\delta'} {r'} {v'} + {Y_{vv\\delta}'} {\\delta'} {v'}^{2}$"
      ],
      "text/plain": [
       "\u001b[1m<\u001b[0m\u001b[1;95mIPython.core.display.Math\u001b[0m\u001b[39m object\u001b[0m\u001b[1m>\u001b[0m"
      ]
     },
     "metadata": {},
     "output_type": "display_data"
    },
    {
     "data": {
      "text/html": [
       "<pre style=\"white-space:pre;overflow-x:auto;line-height:normal;font-family:Menlo,'DejaVu Sans Mono',consolas,'Courier New',monospace\"></pre>\n"
      ],
      "text/plain": []
     },
     "metadata": {},
     "output_type": "display_data"
    },
    {
     "data": {
      "text/html": [
       "<br>"
      ],
      "text/plain": [
       "\u001b[1m<\u001b[0m\u001b[1;95mIPython.core.display.HTML\u001b[0m\u001b[39m object\u001b[0m\u001b[1m>\u001b[0m"
      ]
     },
     "metadata": {},
     "output_type": "display_data"
    },
    {
     "data": {
      "text/html": [
       "<pre style=\"white-space:pre;overflow-x:auto;line-height:normal;font-family:Menlo,'DejaVu Sans Mono',consolas,'Courier New',monospace\"></pre>\n"
      ],
      "text/plain": []
     },
     "metadata": {},
     "output_type": "display_data"
    },
    {
     "data": {
      "text/html": [
       "mathematical_model_kinetics.N_R_math"
      ],
      "text/plain": [
       "\u001b[1m<\u001b[0m\u001b[1;95mIPython.core.display.HTML\u001b[0m\u001b[39m object\u001b[0m\u001b[1m>\u001b[0m"
      ]
     },
     "metadata": {},
     "output_type": "display_data"
    },
    {
     "data": {
      "text/html": [
       "<pre style=\"white-space:pre;overflow-x:auto;line-height:normal;font-family:Menlo,'DejaVu Sans Mono',consolas,'Courier New',monospace\"></pre>\n"
      ],
      "text/plain": []
     },
     "metadata": {},
     "output_type": "display_data"
    },
    {
     "data": {
      "text/latex": [
       "$\\displaystyle {N_R'} = {N_{\\delta\\delta\\delta}'} {\\delta'}^{3} + {N_{\\delta}'} {\\delta'} + {N_{r\\delta\\delta}'} {\\delta'}^{2} {r'} + {N_{rr\\delta}'} {\\delta'} {r'}^{2} + {N_{v\\delta\\delta}'} {\\delta'}^{2} {v'} + {N_{vr\\delta}'} {\\delta'} {r'} {v'} + {N_{vv\\delta}'} {\\delta'} {v'}^{2}$"
      ],
      "text/plain": [
       "\u001b[1m<\u001b[0m\u001b[1;95mIPython.core.display.Math\u001b[0m\u001b[39m object\u001b[0m\u001b[1m>\u001b[0m"
      ]
     },
     "metadata": {},
     "output_type": "display_data"
    },
    {
     "data": {
      "text/html": [
       "<pre style=\"white-space:pre;overflow-x:auto;line-height:normal;font-family:Menlo,'DejaVu Sans Mono',consolas,'Courier New',monospace\"></pre>\n"
      ],
      "text/plain": []
     },
     "metadata": {},
     "output_type": "display_data"
    },
    {
     "data": {
      "text/html": [
       "<br>"
      ],
      "text/plain": [
       "\u001b[1m<\u001b[0m\u001b[1;95mIPython.core.display.HTML\u001b[0m\u001b[39m object\u001b[0m\u001b[1m>\u001b[0m"
      ]
     },
     "metadata": {},
     "output_type": "display_data"
    }
   ],
   "source": [
    "for name, eq in model_abkowitz.subsystems['rudders'].equations.items():\n",
    "    \n",
    "    file_name = f\"{name}_math\"\n",
    "    \n",
    "    if isinstance(model_abkowitz.subsystems['rudders'], vessel_manoeuvring_models.models.subsystem.PrimeEquationSubSystem):\n",
    "        save_eq(prime(eq), file_name=file_name)\n",
    "    else:\n",
    "        save_eq(eq, file_name=file_name)"
   ]
  },
  {
   "cell_type": "markdown",
   "id": "57c32cb4-eb35-4ee1-b1b2-e0e04e6bd81d",
   "metadata": {},
   "source": [
    "## Semi-empirical rudder model"
   ]
  },
  {
   "cell_type": "code",
   "execution_count": 22,
   "id": "e929b3cb-b243-45ea-9464-b63fa883a313",
   "metadata": {},
   "outputs": [],
   "source": [
    "rudder = model.subsystems['rudder_port']\n",
    "#rudder.equations['r_p_port'] = rudder.equations['r_p_port'].subs('r_p_port','r_x_port')"
   ]
  },
  {
   "cell_type": "code",
   "execution_count": 23,
   "id": "fc4666d6-6d31-4c31-9d1f-a4eebc1acee8",
   "metadata": {},
   "outputs": [
    {
     "data": {
      "text/html": [
       "<pre style=\"white-space:pre;overflow-x:auto;line-height:normal;font-family:Menlo,'DejaVu Sans Mono',consolas,'Courier New',monospace\"></pre>\n"
      ],
      "text/plain": []
     },
     "metadata": {},
     "output_type": "display_data"
    },
    {
     "data": {
      "text/latex": [
       "$\\displaystyle X_{R port} = - D_{R port} \\cos{\\left(\\alpha_{f port} \\right)} + L_{R port} \\sin{\\left(\\alpha_{f port} \\right)}$"
      ],
      "text/plain": [
       "\u001b[1;35mEq\u001b[0m\u001b[1m(\u001b[0mX_R_port, -D_R_port*\u001b[1;35mcos\u001b[0m\u001b[1m(\u001b[0malpha_f_port\u001b[1m)\u001b[0m + L_R_port*\u001b[1;35msin\u001b[0m\u001b[1m(\u001b[0malpha_f_port\u001b[1m)\u001b[0m\u001b[1m)\u001b[0m"
      ]
     },
     "execution_count": 23,
     "metadata": {},
     "output_type": "execute_result"
    }
   ],
   "source": [
    "rudder.equations['X_R_port']"
   ]
  },
  {
   "cell_type": "code",
   "execution_count": 24,
   "id": "6523e368-9596-485f-b5dd-d4f6102ba540",
   "metadata": {},
   "outputs": [],
   "source": [
    "keys = list(rudder.equations.keys())\n",
    "keys.reverse()"
   ]
  },
  {
   "cell_type": "markdown",
   "id": "ae9ebdc5-a55a-4266-9100-ecafe3c4b58f",
   "metadata": {},
   "source": [
    "### Remove stall"
   ]
  },
  {
   "cell_type": "code",
   "execution_count": 25,
   "id": "b4795bce-b90b-45c6-bd0f-0d212d9533c8",
   "metadata": {},
   "outputs": [],
   "source": [
    "rudder.equations['C_L_port'] = sp.Eq(rudder.equations['C_L_port'].lhs,rudder.equations['C_L_port'].rhs.args[0][0])"
   ]
  },
  {
   "cell_type": "code",
   "execution_count": 26,
   "id": "c053f1b9-a4c6-40b2-a87f-1e5103f3f728",
   "metadata": {},
   "outputs": [
    {
     "data": {
      "text/html": [
       "<pre style=\"white-space:pre;overflow-x:auto;line-height:normal;font-family:Menlo,'DejaVu Sans Mono',consolas,'Courier New',monospace\"></pre>\n"
      ],
      "text/plain": []
     },
     "metadata": {},
     "output_type": "display_data"
    },
    {
     "data": {
      "text/latex": [
       "$\\displaystyle C_{L port} = \\lambda_{gap port} \\left(\\alpha_{port} dC_{L dalpha port} + \\frac{C_{D crossflow port} \\alpha_{port} \\left|{\\alpha_{port}}\\right|}{AR_{e port}}\\right)$"
      ],
      "text/plain": [
       "\u001b[1;35mEq\u001b[0m\u001b[1m(\u001b[0mC_L_port, lambda_gap_port*\u001b[1m(\u001b[0malpha_port*dC_L_dalpha_port + C_D_crossflow_port*alpha_port*\u001b[1;35mAbs\u001b[0m\u001b[1m(\u001b[0malpha_port\u001b[1m)\u001b[0m\u001b[35m/\u001b[0m\u001b[95mAR_e_port\u001b[0m\u001b[1m)\u001b[0m\u001b[1m)\u001b[0m"
      ]
     },
     "execution_count": 26,
     "metadata": {},
     "output_type": "execute_result"
    }
   ],
   "source": [
    "rudder.equations['C_L_port']"
   ]
  },
  {
   "cell_type": "code",
   "execution_count": 27,
   "id": "cc31c458-26e5-469d-9748-8e36a68bc403",
   "metadata": {},
   "outputs": [],
   "source": [
    "C_L_tune = sp.symbols(\"C_L_tune\")"
   ]
  },
  {
   "cell_type": "code",
   "execution_count": 28,
   "id": "59f0b9b7-5dd2-4da9-99dd-444ed1c09575",
   "metadata": {},
   "outputs": [],
   "source": [
    "rudder.equations['L_R_C_port'] = rudder.equations['L_R_C_port'].subs(C_L_tune,1)\n",
    "rudder.equations['L_R_U_port'] = rudder.equations['L_R_U_port'].subs(C_L_tune,1)"
   ]
  },
  {
   "cell_type": "code",
   "execution_count": 29,
   "id": "a6003402-3ab1-4b52-8edb-75e7a8e673a5",
   "metadata": {},
   "outputs": [],
   "source": [
    "C_D_crossflow_port = symbols(\"C_D_crossflow_port\")  # crossflow drag coefficient\n",
    "delta = symbols(\"delta\")  # crossflow drag coefficient\n",
    "\n",
    "lambda_gap_port,K_gap = symbols(\n",
    "    \"lambda_gap_port, K_gap\"\n",
    ")\n",
    "\n",
    "subs={\n",
    "    C_D_crossflow_port : symbols(\"C_DC\"),\n",
    "    lambda_gap_port: K_gap,\n",
    "    \n",
    "}\n",
    "for name,eq in rudder.equations.items():\n",
    "    rudder.equations[name] = eq.subs(subs)\n"
   ]
  },
  {
   "cell_type": "code",
   "execution_count": 30,
   "id": "a030693d-d0d2-4d80-9f20-cefb3c5ca08d",
   "metadata": {},
   "outputs": [
    {
     "data": {
      "text/html": [
       "<pre style=\"white-space:pre;overflow-x:auto;line-height:normal;font-family:Menlo,'DejaVu Sans Mono',consolas,'Courier New',monospace\"></pre>\n"
      ],
      "text/plain": []
     },
     "metadata": {},
     "output_type": "display_data"
    },
    {
     "data": {
      "text/latex": [
       "$\\displaystyle C_{L port} = K_{gap} \\left(\\alpha_{port} dC_{L dalpha port} + \\frac{C_{DC} \\alpha_{port} \\left|{\\alpha_{port}}\\right|}{AR_{e port}}\\right)$"
      ],
      "text/plain": [
       "\u001b[1;35mEq\u001b[0m\u001b[1m(\u001b[0mC_L_port, K_gap*\u001b[1m(\u001b[0malpha_port*dC_L_dalpha_port + C_DC*alpha_port*\u001b[1;35mAbs\u001b[0m\u001b[1m(\u001b[0malpha_port\u001b[1m)\u001b[0m\u001b[35m/\u001b[0m\u001b[95mAR_e_port\u001b[0m\u001b[1m)\u001b[0m\u001b[1m)\u001b[0m"
      ]
     },
     "execution_count": 30,
     "metadata": {},
     "output_type": "execute_result"
    }
   ],
   "source": [
    "rudder.equations[\"C_L_port\"]"
   ]
  },
  {
   "cell_type": "code",
   "execution_count": 31,
   "id": "b22451be-aad2-411c-91e7-8b99899213d5",
   "metadata": {},
   "outputs": [
    {
     "data": {
      "text/html": [
       "<pre style=\"white-space:pre;overflow-x:auto;line-height:normal;font-family:Menlo,'DejaVu Sans Mono',consolas,'Courier New',monospace\"></pre>\n"
      ],
      "text/plain": []
     },
     "metadata": {},
     "output_type": "display_data"
    },
    {
     "data": {
      "text/html": [
       "mathematical_model_kinetics.N_R_semiempirical"
      ],
      "text/plain": [
       "\u001b[1m<\u001b[0m\u001b[1;95mIPython.core.display.HTML\u001b[0m\u001b[39m object\u001b[0m\u001b[1m>\u001b[0m"
      ]
     },
     "metadata": {},
     "output_type": "display_data"
    },
    {
     "data": {
      "text/html": [
       "<pre style=\"white-space:pre;overflow-x:auto;line-height:normal;font-family:Menlo,'DejaVu Sans Mono',consolas,'Courier New',monospace\"></pre>\n"
      ],
      "text/plain": []
     },
     "metadata": {},
     "output_type": "display_data"
    },
    {
     "data": {
      "text/latex": [
       "$\\displaystyle N_{R } = Y_{R } x_{R}$"
      ],
      "text/plain": [
       "\u001b[1m<\u001b[0m\u001b[1;95mIPython.core.display.Math\u001b[0m\u001b[39m object\u001b[0m\u001b[1m>\u001b[0m"
      ]
     },
     "metadata": {},
     "output_type": "display_data"
    },
    {
     "data": {
      "text/html": [
       "<pre style=\"white-space:pre;overflow-x:auto;line-height:normal;font-family:Menlo,'DejaVu Sans Mono',consolas,'Courier New',monospace\"></pre>\n"
      ],
      "text/plain": []
     },
     "metadata": {},
     "output_type": "display_data"
    },
    {
     "data": {
      "text/html": [
       "<br>"
      ],
      "text/plain": [
       "\u001b[1m<\u001b[0m\u001b[1;95mIPython.core.display.HTML\u001b[0m\u001b[39m object\u001b[0m\u001b[1m>\u001b[0m"
      ]
     },
     "metadata": {},
     "output_type": "display_data"
    },
    {
     "data": {
      "text/html": [
       "<pre style=\"white-space:pre;overflow-x:auto;line-height:normal;font-family:Menlo,'DejaVu Sans Mono',consolas,'Courier New',monospace\"></pre>\n"
      ],
      "text/plain": []
     },
     "metadata": {},
     "output_type": "display_data"
    },
    {
     "data": {
      "text/html": [
       "mathematical_model_kinetics.Y_R_semiempirical"
      ],
      "text/plain": [
       "\u001b[1m<\u001b[0m\u001b[1;95mIPython.core.display.HTML\u001b[0m\u001b[39m object\u001b[0m\u001b[1m>\u001b[0m"
      ]
     },
     "metadata": {},
     "output_type": "display_data"
    },
    {
     "data": {
      "text/html": [
       "<pre style=\"white-space:pre;overflow-x:auto;line-height:normal;font-family:Menlo,'DejaVu Sans Mono',consolas,'Courier New',monospace\"></pre>\n"
      ],
      "text/plain": []
     },
     "metadata": {},
     "output_type": "display_data"
    },
    {
     "data": {
      "text/latex": [
       "$\\displaystyle Y_{R } = D_{R } \\sin{\\left(\\alpha_{f } \\right)} + L_{R } \\cos{\\left(\\alpha_{f } \\right)}$"
      ],
      "text/plain": [
       "\u001b[1m<\u001b[0m\u001b[1;95mIPython.core.display.Math\u001b[0m\u001b[39m object\u001b[0m\u001b[1m>\u001b[0m"
      ]
     },
     "metadata": {},
     "output_type": "display_data"
    },
    {
     "data": {
      "text/html": [
       "<pre style=\"white-space:pre;overflow-x:auto;line-height:normal;font-family:Menlo,'DejaVu Sans Mono',consolas,'Courier New',monospace\"></pre>\n"
      ],
      "text/plain": []
     },
     "metadata": {},
     "output_type": "display_data"
    },
    {
     "data": {
      "text/html": [
       "<br>"
      ],
      "text/plain": [
       "\u001b[1m<\u001b[0m\u001b[1;95mIPython.core.display.HTML\u001b[0m\u001b[39m object\u001b[0m\u001b[1m>\u001b[0m"
      ]
     },
     "metadata": {},
     "output_type": "display_data"
    },
    {
     "data": {
      "text/html": [
       "<pre style=\"white-space:pre;overflow-x:auto;line-height:normal;font-family:Menlo,'DejaVu Sans Mono',consolas,'Courier New',monospace\"></pre>\n"
      ],
      "text/plain": []
     },
     "metadata": {},
     "output_type": "display_data"
    },
    {
     "data": {
      "text/html": [
       "mathematical_model_kinetics.X_R_semiempirical"
      ],
      "text/plain": [
       "\u001b[1m<\u001b[0m\u001b[1;95mIPython.core.display.HTML\u001b[0m\u001b[39m object\u001b[0m\u001b[1m>\u001b[0m"
      ]
     },
     "metadata": {},
     "output_type": "display_data"
    },
    {
     "data": {
      "text/html": [
       "<pre style=\"white-space:pre;overflow-x:auto;line-height:normal;font-family:Menlo,'DejaVu Sans Mono',consolas,'Courier New',monospace\"></pre>\n"
      ],
      "text/plain": []
     },
     "metadata": {},
     "output_type": "display_data"
    },
    {
     "data": {
      "text/latex": [
       "$\\displaystyle X_{R } = - D_{R } \\cos{\\left(\\alpha_{f } \\right)} + L_{R } \\sin{\\left(\\alpha_{f } \\right)}$"
      ],
      "text/plain": [
       "\u001b[1m<\u001b[0m\u001b[1;95mIPython.core.display.Math\u001b[0m\u001b[39m object\u001b[0m\u001b[1m>\u001b[0m"
      ]
     },
     "metadata": {},
     "output_type": "display_data"
    },
    {
     "data": {
      "text/html": [
       "<pre style=\"white-space:pre;overflow-x:auto;line-height:normal;font-family:Menlo,'DejaVu Sans Mono',consolas,'Courier New',monospace\"></pre>\n"
      ],
      "text/plain": []
     },
     "metadata": {},
     "output_type": "display_data"
    },
    {
     "data": {
      "text/html": [
       "<br>"
      ],
      "text/plain": [
       "\u001b[1m<\u001b[0m\u001b[1;95mIPython.core.display.HTML\u001b[0m\u001b[39m object\u001b[0m\u001b[1m>\u001b[0m"
      ]
     },
     "metadata": {},
     "output_type": "display_data"
    },
    {
     "data": {
      "text/html": [
       "<pre style=\"white-space:pre;overflow-x:auto;line-height:normal;font-family:Menlo,'DejaVu Sans Mono',consolas,'Courier New',monospace\"></pre>\n"
      ],
      "text/plain": []
     },
     "metadata": {},
     "output_type": "display_data"
    },
    {
     "data": {
      "text/html": [
       "mathematical_model_kinetics.D_R_semiempirical"
      ],
      "text/plain": [
       "\u001b[1m<\u001b[0m\u001b[1;95mIPython.core.display.HTML\u001b[0m\u001b[39m object\u001b[0m\u001b[1m>\u001b[0m"
      ]
     },
     "metadata": {},
     "output_type": "display_data"
    },
    {
     "data": {
      "text/html": [
       "<pre style=\"white-space:pre;overflow-x:auto;line-height:normal;font-family:Menlo,'DejaVu Sans Mono',consolas,'Courier New',monospace\"></pre>\n"
      ],
      "text/plain": []
     },
     "metadata": {},
     "output_type": "display_data"
    },
    {
     "data": {
      "text/latex": [
       "$\\displaystyle D_{R } = 0.5 \\rho \\left(A_{R C} C_{D C } V_{R C }^{2} + A_{R U} C_{D U } V_{R U }^{2}\\right)$"
      ],
      "text/plain": [
       "\u001b[1m<\u001b[0m\u001b[1;95mIPython.core.display.Math\u001b[0m\u001b[39m object\u001b[0m\u001b[1m>\u001b[0m"
      ]
     },
     "metadata": {},
     "output_type": "display_data"
    },
    {
     "data": {
      "text/html": [
       "<pre style=\"white-space:pre;overflow-x:auto;line-height:normal;font-family:Menlo,'DejaVu Sans Mono',consolas,'Courier New',monospace\"></pre>\n"
      ],
      "text/plain": []
     },
     "metadata": {},
     "output_type": "display_data"
    },
    {
     "data": {
      "text/html": [
       "<br>"
      ],
      "text/plain": [
       "\u001b[1m<\u001b[0m\u001b[1;95mIPython.core.display.HTML\u001b[0m\u001b[39m object\u001b[0m\u001b[1m>\u001b[0m"
      ]
     },
     "metadata": {},
     "output_type": "display_data"
    },
    {
     "data": {
      "text/html": [
       "<pre style=\"white-space:pre;overflow-x:auto;line-height:normal;font-family:Menlo,'DejaVu Sans Mono',consolas,'Courier New',monospace\"></pre>\n"
      ],
      "text/plain": []
     },
     "metadata": {},
     "output_type": "display_data"
    },
    {
     "data": {
      "text/html": [
       "mathematical_model_kinetics.C_D_C_semiempirical"
      ],
      "text/plain": [
       "\u001b[1m<\u001b[0m\u001b[1;95mIPython.core.display.HTML\u001b[0m\u001b[39m object\u001b[0m\u001b[1m>\u001b[0m"
      ]
     },
     "metadata": {},
     "output_type": "display_data"
    },
    {
     "data": {
      "text/html": [
       "<pre style=\"white-space:pre;overflow-x:auto;line-height:normal;font-family:Menlo,'DejaVu Sans Mono',consolas,'Courier New',monospace\"></pre>\n"
      ],
      "text/plain": []
     },
     "metadata": {},
     "output_type": "display_data"
    },
    {
     "data": {
      "text/latex": [
       "$\\displaystyle C_{D C } = C_{D0 C } + \\frac{C_{D tune} C_{L }^{2}}{\\pi AR_{e } e_{0}}$"
      ],
      "text/plain": [
       "\u001b[1m<\u001b[0m\u001b[1;95mIPython.core.display.Math\u001b[0m\u001b[39m object\u001b[0m\u001b[1m>\u001b[0m"
      ]
     },
     "metadata": {},
     "output_type": "display_data"
    },
    {
     "data": {
      "text/html": [
       "<pre style=\"white-space:pre;overflow-x:auto;line-height:normal;font-family:Menlo,'DejaVu Sans Mono',consolas,'Courier New',monospace\"></pre>\n"
      ],
      "text/plain": []
     },
     "metadata": {},
     "output_type": "display_data"
    },
    {
     "data": {
      "text/html": [
       "<br>"
      ],
      "text/plain": [
       "\u001b[1m<\u001b[0m\u001b[1;95mIPython.core.display.HTML\u001b[0m\u001b[39m object\u001b[0m\u001b[1m>\u001b[0m"
      ]
     },
     "metadata": {},
     "output_type": "display_data"
    },
    {
     "data": {
      "text/html": [
       "<pre style=\"white-space:pre;overflow-x:auto;line-height:normal;font-family:Menlo,'DejaVu Sans Mono',consolas,'Courier New',monospace\"></pre>\n"
      ],
      "text/plain": []
     },
     "metadata": {},
     "output_type": "display_data"
    },
    {
     "data": {
      "text/html": [
       "mathematical_model_kinetics.C_D0_C_semiempirical"
      ],
      "text/plain": [
       "\u001b[1m<\u001b[0m\u001b[1;95mIPython.core.display.HTML\u001b[0m\u001b[39m object\u001b[0m\u001b[1m>\u001b[0m"
      ]
     },
     "metadata": {},
     "output_type": "display_data"
    },
    {
     "data": {
      "text/html": [
       "<pre style=\"white-space:pre;overflow-x:auto;line-height:normal;font-family:Menlo,'DejaVu Sans Mono',consolas,'Courier New',monospace\"></pre>\n"
      ],
      "text/plain": []
     },
     "metadata": {},
     "output_type": "display_data"
    },
    {
     "data": {
      "text/latex": [
       "$\\displaystyle C_{D0 C } = 2.5 C_{D0 tune} C_{F C }$"
      ],
      "text/plain": [
       "\u001b[1m<\u001b[0m\u001b[1;95mIPython.core.display.Math\u001b[0m\u001b[39m object\u001b[0m\u001b[1m>\u001b[0m"
      ]
     },
     "metadata": {},
     "output_type": "display_data"
    },
    {
     "data": {
      "text/html": [
       "<pre style=\"white-space:pre;overflow-x:auto;line-height:normal;font-family:Menlo,'DejaVu Sans Mono',consolas,'Courier New',monospace\"></pre>\n"
      ],
      "text/plain": []
     },
     "metadata": {},
     "output_type": "display_data"
    },
    {
     "data": {
      "text/html": [
       "<br>"
      ],
      "text/plain": [
       "\u001b[1m<\u001b[0m\u001b[1;95mIPython.core.display.HTML\u001b[0m\u001b[39m object\u001b[0m\u001b[1m>\u001b[0m"
      ]
     },
     "metadata": {},
     "output_type": "display_data"
    },
    {
     "data": {
      "text/html": [
       "<pre style=\"white-space:pre;overflow-x:auto;line-height:normal;font-family:Menlo,'DejaVu Sans Mono',consolas,'Courier New',monospace\"></pre>\n"
      ],
      "text/plain": []
     },
     "metadata": {},
     "output_type": "display_data"
    },
    {
     "data": {
      "text/html": [
       "mathematical_model_kinetics.C_F_C_semiempirical"
      ],
      "text/plain": [
       "\u001b[1m<\u001b[0m\u001b[1;95mIPython.core.display.HTML\u001b[0m\u001b[39m object\u001b[0m\u001b[1m>\u001b[0m"
      ]
     },
     "metadata": {},
     "output_type": "display_data"
    },
    {
     "data": {
      "text/html": [
       "<pre style=\"white-space:pre;overflow-x:auto;line-height:normal;font-family:Menlo,'DejaVu Sans Mono',consolas,'Courier New',monospace\"></pre>\n"
      ],
      "text/plain": []
     },
     "metadata": {},
     "output_type": "display_data"
    },
    {
     "data": {
      "text/latex": [
       "$\\displaystyle C_{F C } = \\frac{0.075 \\log{\\left(10 \\right)}^{2}}{\\log{\\left(Re_{F C } - 2 \\right)}^{2}}$"
      ],
      "text/plain": [
       "\u001b[1m<\u001b[0m\u001b[1;95mIPython.core.display.Math\u001b[0m\u001b[39m object\u001b[0m\u001b[1m>\u001b[0m"
      ]
     },
     "metadata": {},
     "output_type": "display_data"
    },
    {
     "data": {
      "text/html": [
       "<pre style=\"white-space:pre;overflow-x:auto;line-height:normal;font-family:Menlo,'DejaVu Sans Mono',consolas,'Courier New',monospace\"></pre>\n"
      ],
      "text/plain": []
     },
     "metadata": {},
     "output_type": "display_data"
    },
    {
     "data": {
      "text/html": [
       "<br>"
      ],
      "text/plain": [
       "\u001b[1m<\u001b[0m\u001b[1;95mIPython.core.display.HTML\u001b[0m\u001b[39m object\u001b[0m\u001b[1m>\u001b[0m"
      ]
     },
     "metadata": {},
     "output_type": "display_data"
    },
    {
     "data": {
      "text/html": [
       "<pre style=\"white-space:pre;overflow-x:auto;line-height:normal;font-family:Menlo,'DejaVu Sans Mono',consolas,'Courier New',monospace\"></pre>\n"
      ],
      "text/plain": []
     },
     "metadata": {},
     "output_type": "display_data"
    },
    {
     "data": {
      "text/html": [
       "mathematical_model_kinetics.Re_F_C_semiempirical"
      ],
      "text/plain": [
       "\u001b[1m<\u001b[0m\u001b[1;95mIPython.core.display.HTML\u001b[0m\u001b[39m object\u001b[0m\u001b[1m>\u001b[0m"
      ]
     },
     "metadata": {},
     "output_type": "display_data"
    },
    {
     "data": {
      "text/html": [
       "<pre style=\"white-space:pre;overflow-x:auto;line-height:normal;font-family:Menlo,'DejaVu Sans Mono',consolas,'Courier New',monospace\"></pre>\n"
      ],
      "text/plain": []
     },
     "metadata": {},
     "output_type": "display_data"
    },
    {
     "data": {
      "text/latex": [
       "$\\displaystyle Re_{F C } = \\frac{V_{R C } c_{}}{\\nu}$"
      ],
      "text/plain": [
       "\u001b[1m<\u001b[0m\u001b[1;95mIPython.core.display.Math\u001b[0m\u001b[39m object\u001b[0m\u001b[1m>\u001b[0m"
      ]
     },
     "metadata": {},
     "output_type": "display_data"
    },
    {
     "data": {
      "text/html": [
       "<pre style=\"white-space:pre;overflow-x:auto;line-height:normal;font-family:Menlo,'DejaVu Sans Mono',consolas,'Courier New',monospace\"></pre>\n"
      ],
      "text/plain": []
     },
     "metadata": {},
     "output_type": "display_data"
    },
    {
     "data": {
      "text/html": [
       "<br>"
      ],
      "text/plain": [
       "\u001b[1m<\u001b[0m\u001b[1;95mIPython.core.display.HTML\u001b[0m\u001b[39m object\u001b[0m\u001b[1m>\u001b[0m"
      ]
     },
     "metadata": {},
     "output_type": "display_data"
    },
    {
     "data": {
      "text/html": [
       "<pre style=\"white-space:pre;overflow-x:auto;line-height:normal;font-family:Menlo,'DejaVu Sans Mono',consolas,'Courier New',monospace\"></pre>\n"
      ],
      "text/plain": []
     },
     "metadata": {},
     "output_type": "display_data"
    },
    {
     "data": {
      "text/html": [
       "mathematical_model_kinetics.C_D_U_semiempirical"
      ],
      "text/plain": [
       "\u001b[1m<\u001b[0m\u001b[1;95mIPython.core.display.HTML\u001b[0m\u001b[39m object\u001b[0m\u001b[1m>\u001b[0m"
      ]
     },
     "metadata": {},
     "output_type": "display_data"
    },
    {
     "data": {
      "text/html": [
       "<pre style=\"white-space:pre;overflow-x:auto;line-height:normal;font-family:Menlo,'DejaVu Sans Mono',consolas,'Courier New',monospace\"></pre>\n"
      ],
      "text/plain": []
     },
     "metadata": {},
     "output_type": "display_data"
    },
    {
     "data": {
      "text/latex": [
       "$\\displaystyle C_{D U } = C_{D0 U } + \\frac{C_{D tune} C_{L }^{2}}{\\pi AR_{e } e_{0}}$"
      ],
      "text/plain": [
       "\u001b[1m<\u001b[0m\u001b[1;95mIPython.core.display.Math\u001b[0m\u001b[39m object\u001b[0m\u001b[1m>\u001b[0m"
      ]
     },
     "metadata": {},
     "output_type": "display_data"
    },
    {
     "data": {
      "text/html": [
       "<pre style=\"white-space:pre;overflow-x:auto;line-height:normal;font-family:Menlo,'DejaVu Sans Mono',consolas,'Courier New',monospace\"></pre>\n"
      ],
      "text/plain": []
     },
     "metadata": {},
     "output_type": "display_data"
    },
    {
     "data": {
      "text/html": [
       "<br>"
      ],
      "text/plain": [
       "\u001b[1m<\u001b[0m\u001b[1;95mIPython.core.display.HTML\u001b[0m\u001b[39m object\u001b[0m\u001b[1m>\u001b[0m"
      ]
     },
     "metadata": {},
     "output_type": "display_data"
    },
    {
     "data": {
      "text/html": [
       "<pre style=\"white-space:pre;overflow-x:auto;line-height:normal;font-family:Menlo,'DejaVu Sans Mono',consolas,'Courier New',monospace\"></pre>\n"
      ],
      "text/plain": []
     },
     "metadata": {},
     "output_type": "display_data"
    },
    {
     "data": {
      "text/html": [
       "mathematical_model_kinetics.C_D0_U_semiempirical"
      ],
      "text/plain": [
       "\u001b[1m<\u001b[0m\u001b[1;95mIPython.core.display.HTML\u001b[0m\u001b[39m object\u001b[0m\u001b[1m>\u001b[0m"
      ]
     },
     "metadata": {},
     "output_type": "display_data"
    },
    {
     "data": {
      "text/html": [
       "<pre style=\"white-space:pre;overflow-x:auto;line-height:normal;font-family:Menlo,'DejaVu Sans Mono',consolas,'Courier New',monospace\"></pre>\n"
      ],
      "text/plain": []
     },
     "metadata": {},
     "output_type": "display_data"
    },
    {
     "data": {
      "text/latex": [
       "$\\displaystyle C_{D0 U } = 2.5 C_{D0 tune} C_{F U }$"
      ],
      "text/plain": [
       "\u001b[1m<\u001b[0m\u001b[1;95mIPython.core.display.Math\u001b[0m\u001b[39m object\u001b[0m\u001b[1m>\u001b[0m"
      ]
     },
     "metadata": {},
     "output_type": "display_data"
    },
    {
     "data": {
      "text/html": [
       "<pre style=\"white-space:pre;overflow-x:auto;line-height:normal;font-family:Menlo,'DejaVu Sans Mono',consolas,'Courier New',monospace\"></pre>\n"
      ],
      "text/plain": []
     },
     "metadata": {},
     "output_type": "display_data"
    },
    {
     "data": {
      "text/html": [
       "<br>"
      ],
      "text/plain": [
       "\u001b[1m<\u001b[0m\u001b[1;95mIPython.core.display.HTML\u001b[0m\u001b[39m object\u001b[0m\u001b[1m>\u001b[0m"
      ]
     },
     "metadata": {},
     "output_type": "display_data"
    },
    {
     "data": {
      "text/html": [
       "<pre style=\"white-space:pre;overflow-x:auto;line-height:normal;font-family:Menlo,'DejaVu Sans Mono',consolas,'Courier New',monospace\"></pre>\n"
      ],
      "text/plain": []
     },
     "metadata": {},
     "output_type": "display_data"
    },
    {
     "data": {
      "text/html": [
       "mathematical_model_kinetics.C_F_U_semiempirical"
      ],
      "text/plain": [
       "\u001b[1m<\u001b[0m\u001b[1;95mIPython.core.display.HTML\u001b[0m\u001b[39m object\u001b[0m\u001b[1m>\u001b[0m"
      ]
     },
     "metadata": {},
     "output_type": "display_data"
    },
    {
     "data": {
      "text/html": [
       "<pre style=\"white-space:pre;overflow-x:auto;line-height:normal;font-family:Menlo,'DejaVu Sans Mono',consolas,'Courier New',monospace\"></pre>\n"
      ],
      "text/plain": []
     },
     "metadata": {},
     "output_type": "display_data"
    },
    {
     "data": {
      "text/latex": [
       "$\\displaystyle C_{F U } = \\frac{0.075 \\log{\\left(10 \\right)}^{2}}{\\log{\\left(Re_{F U } - 2 \\right)}^{2}}$"
      ],
      "text/plain": [
       "\u001b[1m<\u001b[0m\u001b[1;95mIPython.core.display.Math\u001b[0m\u001b[39m object\u001b[0m\u001b[1m>\u001b[0m"
      ]
     },
     "metadata": {},
     "output_type": "display_data"
    },
    {
     "data": {
      "text/html": [
       "<pre style=\"white-space:pre;overflow-x:auto;line-height:normal;font-family:Menlo,'DejaVu Sans Mono',consolas,'Courier New',monospace\"></pre>\n"
      ],
      "text/plain": []
     },
     "metadata": {},
     "output_type": "display_data"
    },
    {
     "data": {
      "text/html": [
       "<br>"
      ],
      "text/plain": [
       "\u001b[1m<\u001b[0m\u001b[1;95mIPython.core.display.HTML\u001b[0m\u001b[39m object\u001b[0m\u001b[1m>\u001b[0m"
      ]
     },
     "metadata": {},
     "output_type": "display_data"
    },
    {
     "data": {
      "text/html": [
       "<pre style=\"white-space:pre;overflow-x:auto;line-height:normal;font-family:Menlo,'DejaVu Sans Mono',consolas,'Courier New',monospace\"></pre>\n"
      ],
      "text/plain": []
     },
     "metadata": {},
     "output_type": "display_data"
    },
    {
     "data": {
      "text/html": [
       "mathematical_model_kinetics.Re_F_U_semiempirical"
      ],
      "text/plain": [
       "\u001b[1m<\u001b[0m\u001b[1;95mIPython.core.display.HTML\u001b[0m\u001b[39m object\u001b[0m\u001b[1m>\u001b[0m"
      ]
     },
     "metadata": {},
     "output_type": "display_data"
    },
    {
     "data": {
      "text/html": [
       "<pre style=\"white-space:pre;overflow-x:auto;line-height:normal;font-family:Menlo,'DejaVu Sans Mono',consolas,'Courier New',monospace\"></pre>\n"
      ],
      "text/plain": []
     },
     "metadata": {},
     "output_type": "display_data"
    },
    {
     "data": {
      "text/latex": [
       "$\\displaystyle Re_{F U } = \\frac{V_{R U } c_{}}{\\nu}$"
      ],
      "text/plain": [
       "\u001b[1m<\u001b[0m\u001b[1;95mIPython.core.display.Math\u001b[0m\u001b[39m object\u001b[0m\u001b[1m>\u001b[0m"
      ]
     },
     "metadata": {},
     "output_type": "display_data"
    },
    {
     "data": {
      "text/html": [
       "<pre style=\"white-space:pre;overflow-x:auto;line-height:normal;font-family:Menlo,'DejaVu Sans Mono',consolas,'Courier New',monospace\"></pre>\n"
      ],
      "text/plain": []
     },
     "metadata": {},
     "output_type": "display_data"
    },
    {
     "data": {
      "text/html": [
       "<br>"
      ],
      "text/plain": [
       "\u001b[1m<\u001b[0m\u001b[1;95mIPython.core.display.HTML\u001b[0m\u001b[39m object\u001b[0m\u001b[1m>\u001b[0m"
      ]
     },
     "metadata": {},
     "output_type": "display_data"
    },
    {
     "data": {
      "text/html": [
       "<pre style=\"white-space:pre;overflow-x:auto;line-height:normal;font-family:Menlo,'DejaVu Sans Mono',consolas,'Courier New',monospace\"></pre>\n"
      ],
      "text/plain": []
     },
     "metadata": {},
     "output_type": "display_data"
    },
    {
     "data": {
      "text/html": [
       "mathematical_model_kinetics.alpha_f_semiempirical"
      ],
      "text/plain": [
       "\u001b[1m<\u001b[0m\u001b[1;95mIPython.core.display.HTML\u001b[0m\u001b[39m object\u001b[0m\u001b[1m>\u001b[0m"
      ]
     },
     "metadata": {},
     "output_type": "display_data"
    },
    {
     "data": {
      "text/html": [
       "<pre style=\"white-space:pre;overflow-x:auto;line-height:normal;font-family:Menlo,'DejaVu Sans Mono',consolas,'Courier New',monospace\"></pre>\n"
      ],
      "text/plain": []
     },
     "metadata": {},
     "output_type": "display_data"
    },
    {
     "data": {
      "text/latex": [
       "$\\displaystyle \\alpha_{f } = \\gamma_{0 } + \\gamma_{}$"
      ],
      "text/plain": [
       "\u001b[1m<\u001b[0m\u001b[1;95mIPython.core.display.Math\u001b[0m\u001b[39m object\u001b[0m\u001b[1m>\u001b[0m"
      ]
     },
     "metadata": {},
     "output_type": "display_data"
    },
    {
     "data": {
      "text/html": [
       "<pre style=\"white-space:pre;overflow-x:auto;line-height:normal;font-family:Menlo,'DejaVu Sans Mono',consolas,'Courier New',monospace\"></pre>\n"
      ],
      "text/plain": []
     },
     "metadata": {},
     "output_type": "display_data"
    },
    {
     "data": {
      "text/html": [
       "<br>"
      ],
      "text/plain": [
       "\u001b[1m<\u001b[0m\u001b[1;95mIPython.core.display.HTML\u001b[0m\u001b[39m object\u001b[0m\u001b[1m>\u001b[0m"
      ]
     },
     "metadata": {},
     "output_type": "display_data"
    },
    {
     "data": {
      "text/html": [
       "<pre style=\"white-space:pre;overflow-x:auto;line-height:normal;font-family:Menlo,'DejaVu Sans Mono',consolas,'Courier New',monospace\"></pre>\n"
      ],
      "text/plain": []
     },
     "metadata": {},
     "output_type": "display_data"
    },
    {
     "data": {
      "text/html": [
       "mathematical_model_kinetics.L_R_semiempirical"
      ],
      "text/plain": [
       "\u001b[1m<\u001b[0m\u001b[1;95mIPython.core.display.HTML\u001b[0m\u001b[39m object\u001b[0m\u001b[1m>\u001b[0m"
      ]
     },
     "metadata": {},
     "output_type": "display_data"
    },
    {
     "data": {
      "text/html": [
       "<pre style=\"white-space:pre;overflow-x:auto;line-height:normal;font-family:Menlo,'DejaVu Sans Mono',consolas,'Courier New',monospace\"></pre>\n"
      ],
      "text/plain": []
     },
     "metadata": {},
     "output_type": "display_data"
    },
    {
     "data": {
      "text/latex": [
       "$\\displaystyle L_{R } = L_{R C } + L_{R U }$"
      ],
      "text/plain": [
       "\u001b[1m<\u001b[0m\u001b[1;95mIPython.core.display.Math\u001b[0m\u001b[39m object\u001b[0m\u001b[1m>\u001b[0m"
      ]
     },
     "metadata": {},
     "output_type": "display_data"
    },
    {
     "data": {
      "text/html": [
       "<pre style=\"white-space:pre;overflow-x:auto;line-height:normal;font-family:Menlo,'DejaVu Sans Mono',consolas,'Courier New',monospace\"></pre>\n"
      ],
      "text/plain": []
     },
     "metadata": {},
     "output_type": "display_data"
    },
    {
     "data": {
      "text/html": [
       "<br>"
      ],
      "text/plain": [
       "\u001b[1m<\u001b[0m\u001b[1;95mIPython.core.display.HTML\u001b[0m\u001b[39m object\u001b[0m\u001b[1m>\u001b[0m"
      ]
     },
     "metadata": {},
     "output_type": "display_data"
    },
    {
     "data": {
      "text/html": [
       "<pre style=\"white-space:pre;overflow-x:auto;line-height:normal;font-family:Menlo,'DejaVu Sans Mono',consolas,'Courier New',monospace\"></pre>\n"
      ],
      "text/plain": []
     },
     "metadata": {},
     "output_type": "display_data"
    },
    {
     "data": {
      "text/html": [
       "mathematical_model_kinetics.L_R_C_semiempirical"
      ],
      "text/plain": [
       "\u001b[1m<\u001b[0m\u001b[1;95mIPython.core.display.HTML\u001b[0m\u001b[39m object\u001b[0m\u001b[1m>\u001b[0m"
      ]
     },
     "metadata": {},
     "output_type": "display_data"
    },
    {
     "data": {
      "text/html": [
       "<pre style=\"white-space:pre;overflow-x:auto;line-height:normal;font-family:Menlo,'DejaVu Sans Mono',consolas,'Courier New',monospace\"></pre>\n"
      ],
      "text/plain": []
     },
     "metadata": {},
     "output_type": "display_data"
    },
    {
     "data": {
      "text/latex": [
       "$\\displaystyle L_{R C } = \\frac{A_{R C} C_{L } V_{R C }^{2} \\lambda_{R } \\rho}{2}$"
      ],
      "text/plain": [
       "\u001b[1m<\u001b[0m\u001b[1;95mIPython.core.display.Math\u001b[0m\u001b[39m object\u001b[0m\u001b[1m>\u001b[0m"
      ]
     },
     "metadata": {},
     "output_type": "display_data"
    },
    {
     "data": {
      "text/html": [
       "<pre style=\"white-space:pre;overflow-x:auto;line-height:normal;font-family:Menlo,'DejaVu Sans Mono',consolas,'Courier New',monospace\"></pre>\n"
      ],
      "text/plain": []
     },
     "metadata": {},
     "output_type": "display_data"
    },
    {
     "data": {
      "text/html": [
       "<br>"
      ],
      "text/plain": [
       "\u001b[1m<\u001b[0m\u001b[1;95mIPython.core.display.HTML\u001b[0m\u001b[39m object\u001b[0m\u001b[1m>\u001b[0m"
      ]
     },
     "metadata": {},
     "output_type": "display_data"
    },
    {
     "data": {
      "text/html": [
       "<pre style=\"white-space:pre;overflow-x:auto;line-height:normal;font-family:Menlo,'DejaVu Sans Mono',consolas,'Courier New',monospace\"></pre>\n"
      ],
      "text/plain": []
     },
     "metadata": {},
     "output_type": "display_data"
    },
    {
     "data": {
      "text/html": [
       "mathematical_model_kinetics.V_R_C_semiempirical"
      ],
      "text/plain": [
       "\u001b[1m<\u001b[0m\u001b[1;95mIPython.core.display.HTML\u001b[0m\u001b[39m object\u001b[0m\u001b[1m>\u001b[0m"
      ]
     },
     "metadata": {},
     "output_type": "display_data"
    },
    {
     "data": {
      "text/html": [
       "<pre style=\"white-space:pre;overflow-x:auto;line-height:normal;font-family:Menlo,'DejaVu Sans Mono',consolas,'Courier New',monospace\"></pre>\n"
      ],
      "text/plain": []
     },
     "metadata": {},
     "output_type": "display_data"
    },
    {
     "data": {
      "text/latex": [
       "$\\displaystyle V_{R C } = \\sqrt{V_{R x C }^{2} + V_{R y }^{2}}$"
      ],
      "text/plain": [
       "\u001b[1m<\u001b[0m\u001b[1;95mIPython.core.display.Math\u001b[0m\u001b[39m object\u001b[0m\u001b[1m>\u001b[0m"
      ]
     },
     "metadata": {},
     "output_type": "display_data"
    },
    {
     "data": {
      "text/html": [
       "<pre style=\"white-space:pre;overflow-x:auto;line-height:normal;font-family:Menlo,'DejaVu Sans Mono',consolas,'Courier New',monospace\"></pre>\n"
      ],
      "text/plain": []
     },
     "metadata": {},
     "output_type": "display_data"
    },
    {
     "data": {
      "text/html": [
       "<br>"
      ],
      "text/plain": [
       "\u001b[1m<\u001b[0m\u001b[1;95mIPython.core.display.HTML\u001b[0m\u001b[39m object\u001b[0m\u001b[1m>\u001b[0m"
      ]
     },
     "metadata": {},
     "output_type": "display_data"
    },
    {
     "data": {
      "text/html": [
       "<pre style=\"white-space:pre;overflow-x:auto;line-height:normal;font-family:Menlo,'DejaVu Sans Mono',consolas,'Courier New',monospace\"></pre>\n"
      ],
      "text/plain": []
     },
     "metadata": {},
     "output_type": "display_data"
    },
    {
     "data": {
      "text/html": [
       "mathematical_model_kinetics.lambda_R_semiempirical"
      ],
      "text/plain": [
       "\u001b[1m<\u001b[0m\u001b[1;95mIPython.core.display.HTML\u001b[0m\u001b[39m object\u001b[0m\u001b[1m>\u001b[0m"
      ]
     },
     "metadata": {},
     "output_type": "display_data"
    },
    {
     "data": {
      "text/html": [
       "<pre style=\"white-space:pre;overflow-x:auto;line-height:normal;font-family:Menlo,'DejaVu Sans Mono',consolas,'Courier New',monospace\"></pre>\n"
      ],
      "text/plain": []
     },
     "metadata": {},
     "output_type": "display_data"
    },
    {
     "data": {
      "text/latex": [
       "$\\displaystyle \\lambda_{R } = \\left(\\frac{V_{A }}{V_{x corr }}\\right)^{f_{}}$"
      ],
      "text/plain": [
       "\u001b[1m<\u001b[0m\u001b[1;95mIPython.core.display.Math\u001b[0m\u001b[39m object\u001b[0m\u001b[1m>\u001b[0m"
      ]
     },
     "metadata": {},
     "output_type": "display_data"
    },
    {
     "data": {
      "text/html": [
       "<pre style=\"white-space:pre;overflow-x:auto;line-height:normal;font-family:Menlo,'DejaVu Sans Mono',consolas,'Courier New',monospace\"></pre>\n"
      ],
      "text/plain": []
     },
     "metadata": {},
     "output_type": "display_data"
    },
    {
     "data": {
      "text/html": [
       "<br>"
      ],
      "text/plain": [
       "\u001b[1m<\u001b[0m\u001b[1;95mIPython.core.display.HTML\u001b[0m\u001b[39m object\u001b[0m\u001b[1m>\u001b[0m"
      ]
     },
     "metadata": {},
     "output_type": "display_data"
    },
    {
     "data": {
      "text/html": [
       "<pre style=\"white-space:pre;overflow-x:auto;line-height:normal;font-family:Menlo,'DejaVu Sans Mono',consolas,'Courier New',monospace\"></pre>\n"
      ],
      "text/plain": []
     },
     "metadata": {},
     "output_type": "display_data"
    },
    {
     "data": {
      "text/html": [
       "mathematical_model_kinetics.f_semiempirical"
      ],
      "text/plain": [
       "\u001b[1m<\u001b[0m\u001b[1;95mIPython.core.display.HTML\u001b[0m\u001b[39m object\u001b[0m\u001b[1m>\u001b[0m"
      ]
     },
     "metadata": {},
     "output_type": "display_data"
    },
    {
     "data": {
      "text/html": [
       "<pre style=\"white-space:pre;overflow-x:auto;line-height:normal;font-family:Menlo,'DejaVu Sans Mono',consolas,'Courier New',monospace\"></pre>\n"
      ],
      "text/plain": []
     },
     "metadata": {},
     "output_type": "display_data"
    },
    {
     "data": {
      "text/latex": [
       "$\\displaystyle f_{} = \\frac{512}{\\left(2 + \\frac{d_{}}{c_{}}\\right)^{8}}$"
      ],
      "text/plain": [
       "\u001b[1m<\u001b[0m\u001b[1;95mIPython.core.display.Math\u001b[0m\u001b[39m object\u001b[0m\u001b[1m>\u001b[0m"
      ]
     },
     "metadata": {},
     "output_type": "display_data"
    },
    {
     "data": {
      "text/html": [
       "<pre style=\"white-space:pre;overflow-x:auto;line-height:normal;font-family:Menlo,'DejaVu Sans Mono',consolas,'Courier New',monospace\"></pre>\n"
      ],
      "text/plain": []
     },
     "metadata": {},
     "output_type": "display_data"
    },
    {
     "data": {
      "text/html": [
       "<br>"
      ],
      "text/plain": [
       "\u001b[1m<\u001b[0m\u001b[1;95mIPython.core.display.HTML\u001b[0m\u001b[39m object\u001b[0m\u001b[1m>\u001b[0m"
      ]
     },
     "metadata": {},
     "output_type": "display_data"
    },
    {
     "data": {
      "text/html": [
       "<pre style=\"white-space:pre;overflow-x:auto;line-height:normal;font-family:Menlo,'DejaVu Sans Mono',consolas,'Courier New',monospace\"></pre>\n"
      ],
      "text/plain": []
     },
     "metadata": {},
     "output_type": "display_data"
    },
    {
     "data": {
      "text/html": [
       "mathematical_model_kinetics.d_semiempirical"
      ],
      "text/plain": [
       "\u001b[1m<\u001b[0m\u001b[1;95mIPython.core.display.HTML\u001b[0m\u001b[39m object\u001b[0m\u001b[1m>\u001b[0m"
      ]
     },
     "metadata": {},
     "output_type": "display_data"
    },
    {
     "data": {
      "text/html": [
       "<pre style=\"white-space:pre;overflow-x:auto;line-height:normal;font-family:Menlo,'DejaVu Sans Mono',consolas,'Courier New',monospace\"></pre>\n"
      ],
      "text/plain": []
     },
     "metadata": {},
     "output_type": "display_data"
    },
    {
     "data": {
      "text/latex": [
       "$\\displaystyle d_{} = \\frac{\\sqrt{\\pi} \\left(r_{\\Delta } + r_{x }\\right)}{2}$"
      ],
      "text/plain": [
       "\u001b[1m<\u001b[0m\u001b[1;95mIPython.core.display.Math\u001b[0m\u001b[39m object\u001b[0m\u001b[1m>\u001b[0m"
      ]
     },
     "metadata": {},
     "output_type": "display_data"
    },
    {
     "data": {
      "text/html": [
       "<pre style=\"white-space:pre;overflow-x:auto;line-height:normal;font-family:Menlo,'DejaVu Sans Mono',consolas,'Courier New',monospace\"></pre>\n"
      ],
      "text/plain": []
     },
     "metadata": {},
     "output_type": "display_data"
    },
    {
     "data": {
      "text/html": [
       "<br>"
      ],
      "text/plain": [
       "\u001b[1m<\u001b[0m\u001b[1;95mIPython.core.display.HTML\u001b[0m\u001b[39m object\u001b[0m\u001b[1m>\u001b[0m"
      ]
     },
     "metadata": {},
     "output_type": "display_data"
    },
    {
     "data": {
      "text/html": [
       "<pre style=\"white-space:pre;overflow-x:auto;line-height:normal;font-family:Menlo,'DejaVu Sans Mono',consolas,'Courier New',monospace\"></pre>\n"
      ],
      "text/plain": []
     },
     "metadata": {},
     "output_type": "display_data"
    },
    {
     "data": {
      "text/html": [
       "mathematical_model_kinetics.c_semiempirical"
      ],
      "text/plain": [
       "\u001b[1m<\u001b[0m\u001b[1;95mIPython.core.display.HTML\u001b[0m\u001b[39m object\u001b[0m\u001b[1m>\u001b[0m"
      ]
     },
     "metadata": {},
     "output_type": "display_data"
    },
    {
     "data": {
      "text/html": [
       "<pre style=\"white-space:pre;overflow-x:auto;line-height:normal;font-family:Menlo,'DejaVu Sans Mono',consolas,'Courier New',monospace\"></pre>\n"
      ],
      "text/plain": []
     },
     "metadata": {},
     "output_type": "display_data"
    },
    {
     "data": {
      "text/latex": [
       "$\\displaystyle c_{} = \\frac{c_{r}}{2} + \\frac{c_{t}}{2}$"
      ],
      "text/plain": [
       "\u001b[1m<\u001b[0m\u001b[1;95mIPython.core.display.Math\u001b[0m\u001b[39m object\u001b[0m\u001b[1m>\u001b[0m"
      ]
     },
     "metadata": {},
     "output_type": "display_data"
    },
    {
     "data": {
      "text/html": [
       "<pre style=\"white-space:pre;overflow-x:auto;line-height:normal;font-family:Menlo,'DejaVu Sans Mono',consolas,'Courier New',monospace\"></pre>\n"
      ],
      "text/plain": []
     },
     "metadata": {},
     "output_type": "display_data"
    },
    {
     "data": {
      "text/html": [
       "<br>"
      ],
      "text/plain": [
       "\u001b[1m<\u001b[0m\u001b[1;95mIPython.core.display.HTML\u001b[0m\u001b[39m object\u001b[0m\u001b[1m>\u001b[0m"
      ]
     },
     "metadata": {},
     "output_type": "display_data"
    },
    {
     "data": {
      "text/html": [
       "<pre style=\"white-space:pre;overflow-x:auto;line-height:normal;font-family:Menlo,'DejaVu Sans Mono',consolas,'Courier New',monospace\"></pre>\n"
      ],
      "text/plain": []
     },
     "metadata": {},
     "output_type": "display_data"
    },
    {
     "data": {
      "text/html": [
       "mathematical_model_kinetics.L_R_U_semiempirical"
      ],
      "text/plain": [
       "\u001b[1m<\u001b[0m\u001b[1;95mIPython.core.display.HTML\u001b[0m\u001b[39m object\u001b[0m\u001b[1m>\u001b[0m"
      ]
     },
     "metadata": {},
     "output_type": "display_data"
    },
    {
     "data": {
      "text/html": [
       "<pre style=\"white-space:pre;overflow-x:auto;line-height:normal;font-family:Menlo,'DejaVu Sans Mono',consolas,'Courier New',monospace\"></pre>\n"
      ],
      "text/plain": []
     },
     "metadata": {},
     "output_type": "display_data"
    },
    {
     "data": {
      "text/latex": [
       "$\\displaystyle L_{R U } = \\frac{A_{R U} C_{L } V_{R U }^{2} \\rho}{2}$"
      ],
      "text/plain": [
       "\u001b[1m<\u001b[0m\u001b[1;95mIPython.core.display.Math\u001b[0m\u001b[39m object\u001b[0m\u001b[1m>\u001b[0m"
      ]
     },
     "metadata": {},
     "output_type": "display_data"
    },
    {
     "data": {
      "text/html": [
       "<pre style=\"white-space:pre;overflow-x:auto;line-height:normal;font-family:Menlo,'DejaVu Sans Mono',consolas,'Courier New',monospace\"></pre>\n"
      ],
      "text/plain": []
     },
     "metadata": {},
     "output_type": "display_data"
    },
    {
     "data": {
      "text/html": [
       "<br>"
      ],
      "text/plain": [
       "\u001b[1m<\u001b[0m\u001b[1;95mIPython.core.display.HTML\u001b[0m\u001b[39m object\u001b[0m\u001b[1m>\u001b[0m"
      ]
     },
     "metadata": {},
     "output_type": "display_data"
    },
    {
     "data": {
      "text/html": [
       "<pre style=\"white-space:pre;overflow-x:auto;line-height:normal;font-family:Menlo,'DejaVu Sans Mono',consolas,'Courier New',monospace\"></pre>\n"
      ],
      "text/plain": []
     },
     "metadata": {},
     "output_type": "display_data"
    },
    {
     "data": {
      "text/html": [
       "mathematical_model_kinetics.C_L_semiempirical"
      ],
      "text/plain": [
       "\u001b[1m<\u001b[0m\u001b[1;95mIPython.core.display.HTML\u001b[0m\u001b[39m object\u001b[0m\u001b[1m>\u001b[0m"
      ]
     },
     "metadata": {},
     "output_type": "display_data"
    },
    {
     "data": {
      "text/html": [
       "<pre style=\"white-space:pre;overflow-x:auto;line-height:normal;font-family:Menlo,'DejaVu Sans Mono',consolas,'Courier New',monospace\"></pre>\n"
      ],
      "text/plain": []
     },
     "metadata": {},
     "output_type": "display_data"
    },
    {
     "data": {
      "text/latex": [
       "$\\displaystyle C_{L } = K_{gap} \\left(\\alpha_{} \\frac{\\partial C_L}{\\partial \\alpha} + \\frac{C_{DC} \\alpha_{} \\left|{\\alpha_{}}\\right|}{AR_{e }}\\right)$"
      ],
      "text/plain": [
       "\u001b[1m<\u001b[0m\u001b[1;95mIPython.core.display.Math\u001b[0m\u001b[39m object\u001b[0m\u001b[1m>\u001b[0m"
      ]
     },
     "metadata": {},
     "output_type": "display_data"
    },
    {
     "data": {
      "text/html": [
       "<pre style=\"white-space:pre;overflow-x:auto;line-height:normal;font-family:Menlo,'DejaVu Sans Mono',consolas,'Courier New',monospace\"></pre>\n"
      ],
      "text/plain": []
     },
     "metadata": {},
     "output_type": "display_data"
    },
    {
     "data": {
      "text/html": [
       "<br>"
      ],
      "text/plain": [
       "\u001b[1m<\u001b[0m\u001b[1;95mIPython.core.display.HTML\u001b[0m\u001b[39m object\u001b[0m\u001b[1m>\u001b[0m"
      ]
     },
     "metadata": {},
     "output_type": "display_data"
    },
    {
     "data": {
      "text/html": [
       "<pre style=\"white-space:pre;overflow-x:auto;line-height:normal;font-family:Menlo,'DejaVu Sans Mono',consolas,'Courier New',monospace\"></pre>\n"
      ],
      "text/plain": []
     },
     "metadata": {},
     "output_type": "display_data"
    },
    {
     "data": {
      "text/html": [
       "mathematical_model_kinetics.lambda_gap_semiempirical"
      ],
      "text/plain": [
       "\u001b[1m<\u001b[0m\u001b[1;95mIPython.core.display.HTML\u001b[0m\u001b[39m object\u001b[0m\u001b[1m>\u001b[0m"
      ]
     },
     "metadata": {},
     "output_type": "display_data"
    },
    {
     "data": {
      "text/html": [
       "<pre style=\"white-space:pre;overflow-x:auto;line-height:normal;font-family:Menlo,'DejaVu Sans Mono',consolas,'Courier New',monospace\"></pre>\n"
      ],
      "text/plain": []
     },
     "metadata": {},
     "output_type": "display_data"
    },
    {
     "data": {
      "text/latex": [
       "$\\displaystyle K_{gap} = \\begin{cases} 1 & \\text{for}\\: \\delta_{lim} > \\left|{\\delta}\\right| \\\\s \\left(- \\delta_{lim} + \\left|{\\delta}\\right|\\right)^{2} + 1 & \\text{otherwise} \\end{cases}$"
      ],
      "text/plain": [
       "\u001b[1m<\u001b[0m\u001b[1;95mIPython.core.display.Math\u001b[0m\u001b[39m object\u001b[0m\u001b[1m>\u001b[0m"
      ]
     },
     "metadata": {},
     "output_type": "display_data"
    },
    {
     "data": {
      "text/html": [
       "<pre style=\"white-space:pre;overflow-x:auto;line-height:normal;font-family:Menlo,'DejaVu Sans Mono',consolas,'Courier New',monospace\"></pre>\n"
      ],
      "text/plain": []
     },
     "metadata": {},
     "output_type": "display_data"
    },
    {
     "data": {
      "text/html": [
       "<br>"
      ],
      "text/plain": [
       "\u001b[1m<\u001b[0m\u001b[1;95mIPython.core.display.HTML\u001b[0m\u001b[39m object\u001b[0m\u001b[1m>\u001b[0m"
      ]
     },
     "metadata": {},
     "output_type": "display_data"
    },
    {
     "data": {
      "text/html": [
       "<pre style=\"white-space:pre;overflow-x:auto;line-height:normal;font-family:Menlo,'DejaVu Sans Mono',consolas,'Courier New',monospace\"></pre>\n"
      ],
      "text/plain": []
     },
     "metadata": {},
     "output_type": "display_data"
    },
    {
     "data": {
      "text/html": [
       "mathematical_model_kinetics.B_0_semiempirical"
      ],
      "text/plain": [
       "\u001b[1m<\u001b[0m\u001b[1;95mIPython.core.display.HTML\u001b[0m\u001b[39m object\u001b[0m\u001b[1m>\u001b[0m"
      ]
     },
     "metadata": {},
     "output_type": "display_data"
    },
    {
     "data": {
      "text/html": [
       "<pre style=\"white-space:pre;overflow-x:auto;line-height:normal;font-family:Menlo,'DejaVu Sans Mono',consolas,'Courier New',monospace\"></pre>\n"
      ],
      "text/plain": []
     },
     "metadata": {},
     "output_type": "display_data"
    },
    {
     "data": {
      "text/latex": [
       "$\\displaystyle B_{0 } = 1 - B_{s }$"
      ],
      "text/plain": [
       "\u001b[1m<\u001b[0m\u001b[1;95mIPython.core.display.Math\u001b[0m\u001b[39m object\u001b[0m\u001b[1m>\u001b[0m"
      ]
     },
     "metadata": {},
     "output_type": "display_data"
    },
    {
     "data": {
      "text/html": [
       "<pre style=\"white-space:pre;overflow-x:auto;line-height:normal;font-family:Menlo,'DejaVu Sans Mono',consolas,'Courier New',monospace\"></pre>\n"
      ],
      "text/plain": []
     },
     "metadata": {},
     "output_type": "display_data"
    },
    {
     "data": {
      "text/html": [
       "<br>"
      ],
      "text/plain": [
       "\u001b[1m<\u001b[0m\u001b[1;95mIPython.core.display.HTML\u001b[0m\u001b[39m object\u001b[0m\u001b[1m>\u001b[0m"
      ]
     },
     "metadata": {},
     "output_type": "display_data"
    },
    {
     "data": {
      "text/html": [
       "<pre style=\"white-space:pre;overflow-x:auto;line-height:normal;font-family:Menlo,'DejaVu Sans Mono',consolas,'Courier New',monospace\"></pre>\n"
      ],
      "text/plain": []
     },
     "metadata": {},
     "output_type": "display_data"
    },
    {
     "data": {
      "text/html": [
       "mathematical_model_kinetics.B_s_semiempirical"
      ],
      "text/plain": [
       "\u001b[1m<\u001b[0m\u001b[1;95mIPython.core.display.HTML\u001b[0m\u001b[39m object\u001b[0m\u001b[1m>\u001b[0m"
      ]
     },
     "metadata": {},
     "output_type": "display_data"
    },
    {
     "data": {
      "text/html": [
       "<pre style=\"white-space:pre;overflow-x:auto;line-height:normal;font-family:Menlo,'DejaVu Sans Mono',consolas,'Courier New',monospace\"></pre>\n"
      ],
      "text/plain": []
     },
     "metadata": {},
     "output_type": "display_data"
    },
    {
     "data": {
      "text/latex": [
       "$\\displaystyle B_{s } = \\begin{cases} 1 & \\text{for}\\: \\left|{\\alpha_{}}\\right| > 1.25 \\alpha_{s } \\\\u_{s } \\left(- 2 u_{s }^{2} + 3 u_{s }\\right) & \\text{otherwise} \\end{cases}$"
      ],
      "text/plain": [
       "\u001b[1m<\u001b[0m\u001b[1;95mIPython.core.display.Math\u001b[0m\u001b[39m object\u001b[0m\u001b[1m>\u001b[0m"
      ]
     },
     "metadata": {},
     "output_type": "display_data"
    },
    {
     "data": {
      "text/html": [
       "<pre style=\"white-space:pre;overflow-x:auto;line-height:normal;font-family:Menlo,'DejaVu Sans Mono',consolas,'Courier New',monospace\"></pre>\n"
      ],
      "text/plain": []
     },
     "metadata": {},
     "output_type": "display_data"
    },
    {
     "data": {
      "text/html": [
       "<br>"
      ],
      "text/plain": [
       "\u001b[1m<\u001b[0m\u001b[1;95mIPython.core.display.HTML\u001b[0m\u001b[39m object\u001b[0m\u001b[1m>\u001b[0m"
      ]
     },
     "metadata": {},
     "output_type": "display_data"
    },
    {
     "data": {
      "text/html": [
       "<pre style=\"white-space:pre;overflow-x:auto;line-height:normal;font-family:Menlo,'DejaVu Sans Mono',consolas,'Courier New',monospace\"></pre>\n"
      ],
      "text/plain": []
     },
     "metadata": {},
     "output_type": "display_data"
    },
    {
     "data": {
      "text/html": [
       "mathematical_model_kinetics.u_s_semiempirical"
      ],
      "text/plain": [
       "\u001b[1m<\u001b[0m\u001b[1;95mIPython.core.display.HTML\u001b[0m\u001b[39m object\u001b[0m\u001b[1m>\u001b[0m"
      ]
     },
     "metadata": {},
     "output_type": "display_data"
    },
    {
     "data": {
      "text/html": [
       "<pre style=\"white-space:pre;overflow-x:auto;line-height:normal;font-family:Menlo,'DejaVu Sans Mono',consolas,'Courier New',monospace\"></pre>\n"
      ],
      "text/plain": []
     },
     "metadata": {},
     "output_type": "display_data"
    },
    {
     "data": {
      "text/latex": [
       "$\\displaystyle u_{s } = \\frac{- 4 \\alpha_{s } + 4 \\left|{\\alpha_{}}\\right|}{\\alpha_{s }}$"
      ],
      "text/plain": [
       "\u001b[1m<\u001b[0m\u001b[1;95mIPython.core.display.Math\u001b[0m\u001b[39m object\u001b[0m\u001b[1m>\u001b[0m"
      ]
     },
     "metadata": {},
     "output_type": "display_data"
    },
    {
     "data": {
      "text/html": [
       "<pre style=\"white-space:pre;overflow-x:auto;line-height:normal;font-family:Menlo,'DejaVu Sans Mono',consolas,'Courier New',monospace\"></pre>\n"
      ],
      "text/plain": []
     },
     "metadata": {},
     "output_type": "display_data"
    },
    {
     "data": {
      "text/html": [
       "<br>"
      ],
      "text/plain": [
       "\u001b[1m<\u001b[0m\u001b[1;95mIPython.core.display.HTML\u001b[0m\u001b[39m object\u001b[0m\u001b[1m>\u001b[0m"
      ]
     },
     "metadata": {},
     "output_type": "display_data"
    },
    {
     "data": {
      "text/html": [
       "<pre style=\"white-space:pre;overflow-x:auto;line-height:normal;font-family:Menlo,'DejaVu Sans Mono',consolas,'Courier New',monospace\"></pre>\n"
      ],
      "text/plain": []
     },
     "metadata": {},
     "output_type": "display_data"
    },
    {
     "data": {
      "text/html": [
       "mathematical_model_kinetics.C_N_semiempirical"
      ],
      "text/plain": [
       "\u001b[1m<\u001b[0m\u001b[1;95mIPython.core.display.HTML\u001b[0m\u001b[39m object\u001b[0m\u001b[1m>\u001b[0m"
      ]
     },
     "metadata": {},
     "output_type": "display_data"
    },
    {
     "data": {
      "text/html": [
       "<pre style=\"white-space:pre;overflow-x:auto;line-height:normal;font-family:Menlo,'DejaVu Sans Mono',consolas,'Courier New',monospace\"></pre>\n"
      ],
      "text/plain": []
     },
     "metadata": {},
     "output_type": "display_data"
    },
    {
     "data": {
      "text/latex": [
       "$\\displaystyle C_{N } = 1.8$"
      ],
      "text/plain": [
       "\u001b[1m<\u001b[0m\u001b[1;95mIPython.core.display.Math\u001b[0m\u001b[39m object\u001b[0m\u001b[1m>\u001b[0m"
      ]
     },
     "metadata": {},
     "output_type": "display_data"
    },
    {
     "data": {
      "text/html": [
       "<pre style=\"white-space:pre;overflow-x:auto;line-height:normal;font-family:Menlo,'DejaVu Sans Mono',consolas,'Courier New',monospace\"></pre>\n"
      ],
      "text/plain": []
     },
     "metadata": {},
     "output_type": "display_data"
    },
    {
     "data": {
      "text/html": [
       "<br>"
      ],
      "text/plain": [
       "\u001b[1m<\u001b[0m\u001b[1;95mIPython.core.display.HTML\u001b[0m\u001b[39m object\u001b[0m\u001b[1m>\u001b[0m"
      ]
     },
     "metadata": {},
     "output_type": "display_data"
    },
    {
     "data": {
      "text/html": [
       "<pre style=\"white-space:pre;overflow-x:auto;line-height:normal;font-family:Menlo,'DejaVu Sans Mono',consolas,'Courier New',monospace\"></pre>\n"
      ],
      "text/plain": []
     },
     "metadata": {},
     "output_type": "display_data"
    },
    {
     "data": {
      "text/html": [
       "mathematical_model_kinetics.alpha_semiempirical"
      ],
      "text/plain": [
       "\u001b[1m<\u001b[0m\u001b[1;95mIPython.core.display.HTML\u001b[0m\u001b[39m object\u001b[0m\u001b[1m>\u001b[0m"
      ]
     },
     "metadata": {},
     "output_type": "display_data"
    },
    {
     "data": {
      "text/html": [
       "<pre style=\"white-space:pre;overflow-x:auto;line-height:normal;font-family:Menlo,'DejaVu Sans Mono',consolas,'Courier New',monospace\"></pre>\n"
      ],
      "text/plain": []
     },
     "metadata": {},
     "output_type": "display_data"
    },
    {
     "data": {
      "text/latex": [
       "$\\displaystyle \\alpha_{} = \\delta + \\gamma_{0 } + \\gamma_{}$"
      ],
      "text/plain": [
       "\u001b[1m<\u001b[0m\u001b[1;95mIPython.core.display.Math\u001b[0m\u001b[39m object\u001b[0m\u001b[1m>\u001b[0m"
      ]
     },
     "metadata": {},
     "output_type": "display_data"
    },
    {
     "data": {
      "text/html": [
       "<pre style=\"white-space:pre;overflow-x:auto;line-height:normal;font-family:Menlo,'DejaVu Sans Mono',consolas,'Courier New',monospace\"></pre>\n"
      ],
      "text/plain": []
     },
     "metadata": {},
     "output_type": "display_data"
    },
    {
     "data": {
      "text/html": [
       "<br>"
      ],
      "text/plain": [
       "\u001b[1m<\u001b[0m\u001b[1;95mIPython.core.display.HTML\u001b[0m\u001b[39m object\u001b[0m\u001b[1m>\u001b[0m"
      ]
     },
     "metadata": {},
     "output_type": "display_data"
    },
    {
     "data": {
      "text/html": [
       "<pre style=\"white-space:pre;overflow-x:auto;line-height:normal;font-family:Menlo,'DejaVu Sans Mono',consolas,'Courier New',monospace\"></pre>\n"
      ],
      "text/plain": []
     },
     "metadata": {},
     "output_type": "display_data"
    },
    {
     "data": {
      "text/html": [
       "mathematical_model_kinetics.gamma_semiempirical"
      ],
      "text/plain": [
       "\u001b[1m<\u001b[0m\u001b[1;95mIPython.core.display.HTML\u001b[0m\u001b[39m object\u001b[0m\u001b[1m>\u001b[0m"
      ]
     },
     "metadata": {},
     "output_type": "display_data"
    },
    {
     "data": {
      "text/html": [
       "<pre style=\"white-space:pre;overflow-x:auto;line-height:normal;font-family:Menlo,'DejaVu Sans Mono',consolas,'Courier New',monospace\"></pre>\n"
      ],
      "text/plain": []
     },
     "metadata": {},
     "output_type": "display_data"
    },
    {
     "data": {
      "text/latex": [
       "$\\displaystyle \\gamma_{} = \\operatorname{atan}{\\left(\\frac{V_{R y }}{V_{R x C }} \\right)}$"
      ],
      "text/plain": [
       "\u001b[1m<\u001b[0m\u001b[1;95mIPython.core.display.Math\u001b[0m\u001b[39m object\u001b[0m\u001b[1m>\u001b[0m"
      ]
     },
     "metadata": {},
     "output_type": "display_data"
    },
    {
     "data": {
      "text/html": [
       "<pre style=\"white-space:pre;overflow-x:auto;line-height:normal;font-family:Menlo,'DejaVu Sans Mono',consolas,'Courier New',monospace\"></pre>\n"
      ],
      "text/plain": []
     },
     "metadata": {},
     "output_type": "display_data"
    },
    {
     "data": {
      "text/html": [
       "<br>"
      ],
      "text/plain": [
       "\u001b[1m<\u001b[0m\u001b[1;95mIPython.core.display.HTML\u001b[0m\u001b[39m object\u001b[0m\u001b[1m>\u001b[0m"
      ]
     },
     "metadata": {},
     "output_type": "display_data"
    },
    {
     "data": {
      "text/html": [
       "<pre style=\"white-space:pre;overflow-x:auto;line-height:normal;font-family:Menlo,'DejaVu Sans Mono',consolas,'Courier New',monospace\"></pre>\n"
      ],
      "text/plain": []
     },
     "metadata": {},
     "output_type": "display_data"
    },
    {
     "data": {
      "text/html": [
       "mathematical_model_kinetics.C_L_max_semiempirical"
      ],
      "text/plain": [
       "\u001b[1m<\u001b[0m\u001b[1;95mIPython.core.display.HTML\u001b[0m\u001b[39m object\u001b[0m\u001b[1m>\u001b[0m"
      ]
     },
     "metadata": {},
     "output_type": "display_data"
    },
    {
     "data": {
      "text/html": [
       "<pre style=\"white-space:pre;overflow-x:auto;line-height:normal;font-family:Menlo,'DejaVu Sans Mono',consolas,'Courier New',monospace\"></pre>\n"
      ],
      "text/plain": []
     },
     "metadata": {},
     "output_type": "display_data"
    },
    {
     "data": {
      "text/latex": [
       "$\\displaystyle C_{L max } = \\alpha_{s } \\frac{\\partial C_L}{\\partial \\alpha} + \\frac{C_{DC} \\alpha_{s } \\left|{\\alpha_{s }}\\right|}{AR_{e }}$"
      ],
      "text/plain": [
       "\u001b[1m<\u001b[0m\u001b[1;95mIPython.core.display.Math\u001b[0m\u001b[39m object\u001b[0m\u001b[1m>\u001b[0m"
      ]
     },
     "metadata": {},
     "output_type": "display_data"
    },
    {
     "data": {
      "text/html": [
       "<pre style=\"white-space:pre;overflow-x:auto;line-height:normal;font-family:Menlo,'DejaVu Sans Mono',consolas,'Courier New',monospace\"></pre>\n"
      ],
      "text/plain": []
     },
     "metadata": {},
     "output_type": "display_data"
    },
    {
     "data": {
      "text/html": [
       "<br>"
      ],
      "text/plain": [
       "\u001b[1m<\u001b[0m\u001b[1;95mIPython.core.display.HTML\u001b[0m\u001b[39m object\u001b[0m\u001b[1m>\u001b[0m"
      ]
     },
     "metadata": {},
     "output_type": "display_data"
    },
    {
     "data": {
      "text/html": [
       "<pre style=\"white-space:pre;overflow-x:auto;line-height:normal;font-family:Menlo,'DejaVu Sans Mono',consolas,'Courier New',monospace\"></pre>\n"
      ],
      "text/plain": []
     },
     "metadata": {},
     "output_type": "display_data"
    },
    {
     "data": {
      "text/html": [
       "mathematical_model_kinetics.alpha_s_semiempirical"
      ],
      "text/plain": [
       "\u001b[1m<\u001b[0m\u001b[1;95mIPython.core.display.HTML\u001b[0m\u001b[39m object\u001b[0m\u001b[1m>\u001b[0m"
      ]
     },
     "metadata": {},
     "output_type": "display_data"
    },
    {
     "data": {
      "text/html": [
       "<pre style=\"white-space:pre;overflow-x:auto;line-height:normal;font-family:Menlo,'DejaVu Sans Mono',consolas,'Courier New',monospace\"></pre>\n"
      ],
      "text/plain": []
     },
     "metadata": {},
     "output_type": "display_data"
    },
    {
     "data": {
      "text/latex": [
       "$\\displaystyle \\alpha_{s } = \\delta_{\\alpha s} + \\begin{cases} 0.075 AR_{e }^{2} - 0.445 AR_{e } + 1.225 & \\text{for}\\: AR_{e } \\leq 3 \\\\0.565 & \\text{otherwise} \\end{cases}$"
      ],
      "text/plain": [
       "\u001b[1m<\u001b[0m\u001b[1;95mIPython.core.display.Math\u001b[0m\u001b[39m object\u001b[0m\u001b[1m>\u001b[0m"
      ]
     },
     "metadata": {},
     "output_type": "display_data"
    },
    {
     "data": {
      "text/html": [
       "<pre style=\"white-space:pre;overflow-x:auto;line-height:normal;font-family:Menlo,'DejaVu Sans Mono',consolas,'Courier New',monospace\"></pre>\n"
      ],
      "text/plain": []
     },
     "metadata": {},
     "output_type": "display_data"
    },
    {
     "data": {
      "text/html": [
       "<br>"
      ],
      "text/plain": [
       "\u001b[1m<\u001b[0m\u001b[1;95mIPython.core.display.HTML\u001b[0m\u001b[39m object\u001b[0m\u001b[1m>\u001b[0m"
      ]
     },
     "metadata": {},
     "output_type": "display_data"
    },
    {
     "data": {
      "text/html": [
       "<pre style=\"white-space:pre;overflow-x:auto;line-height:normal;font-family:Menlo,'DejaVu Sans Mono',consolas,'Courier New',monospace\"></pre>\n"
      ],
      "text/plain": []
     },
     "metadata": {},
     "output_type": "display_data"
    },
    {
     "data": {
      "text/html": [
       "mathematical_model_kinetics.dC_L_dalpha_semiempirical"
      ],
      "text/plain": [
       "\u001b[1m<\u001b[0m\u001b[1;95mIPython.core.display.HTML\u001b[0m\u001b[39m object\u001b[0m\u001b[1m>\u001b[0m"
      ]
     },
     "metadata": {},
     "output_type": "display_data"
    },
    {
     "data": {
      "text/html": [
       "<pre style=\"white-space:pre;overflow-x:auto;line-height:normal;font-family:Menlo,'DejaVu Sans Mono',consolas,'Courier New',monospace\"></pre>\n"
      ],
      "text/plain": []
     },
     "metadata": {},
     "output_type": "display_data"
    },
    {
     "data": {
      "text/latex": [
       "$\\displaystyle \\frac{\\partial C_L}{\\partial \\alpha} = \\frac{AR_{e } a_{0 }}{\\sqrt{\\frac{AR_{e }^{2}}{\\cos^{4}{\\left(\\Omega \\right)}} + 4} \\cos{\\left(\\Omega \\right)} + 1.8}$"
      ],
      "text/plain": [
       "\u001b[1m<\u001b[0m\u001b[1;95mIPython.core.display.Math\u001b[0m\u001b[39m object\u001b[0m\u001b[1m>\u001b[0m"
      ]
     },
     "metadata": {},
     "output_type": "display_data"
    },
    {
     "data": {
      "text/html": [
       "<pre style=\"white-space:pre;overflow-x:auto;line-height:normal;font-family:Menlo,'DejaVu Sans Mono',consolas,'Courier New',monospace\"></pre>\n"
      ],
      "text/plain": []
     },
     "metadata": {},
     "output_type": "display_data"
    },
    {
     "data": {
      "text/html": [
       "<br>"
      ],
      "text/plain": [
       "\u001b[1m<\u001b[0m\u001b[1;95mIPython.core.display.HTML\u001b[0m\u001b[39m object\u001b[0m\u001b[1m>\u001b[0m"
      ]
     },
     "metadata": {},
     "output_type": "display_data"
    },
    {
     "data": {
      "text/html": [
       "<pre style=\"white-space:pre;overflow-x:auto;line-height:normal;font-family:Menlo,'DejaVu Sans Mono',consolas,'Courier New',monospace\"></pre>\n"
      ],
      "text/plain": []
     },
     "metadata": {},
     "output_type": "display_data"
    },
    {
     "data": {
      "text/html": [
       "mathematical_model_kinetics.a_0_semiempirical"
      ],
      "text/plain": [
       "\u001b[1m<\u001b[0m\u001b[1;95mIPython.core.display.HTML\u001b[0m\u001b[39m object\u001b[0m\u001b[1m>\u001b[0m"
      ]
     },
     "metadata": {},
     "output_type": "display_data"
    },
    {
     "data": {
      "text/html": [
       "<pre style=\"white-space:pre;overflow-x:auto;line-height:normal;font-family:Menlo,'DejaVu Sans Mono',consolas,'Courier New',monospace\"></pre>\n"
      ],
      "text/plain": []
     },
     "metadata": {},
     "output_type": "display_data"
    },
    {
     "data": {
      "text/latex": [
       "$\\displaystyle a_{0 } = 1.8 \\pi$"
      ],
      "text/plain": [
       "\u001b[1m<\u001b[0m\u001b[1;95mIPython.core.display.Math\u001b[0m\u001b[39m object\u001b[0m\u001b[1m>\u001b[0m"
      ]
     },
     "metadata": {},
     "output_type": "display_data"
    },
    {
     "data": {
      "text/html": [
       "<pre style=\"white-space:pre;overflow-x:auto;line-height:normal;font-family:Menlo,'DejaVu Sans Mono',consolas,'Courier New',monospace\"></pre>\n"
      ],
      "text/plain": []
     },
     "metadata": {},
     "output_type": "display_data"
    },
    {
     "data": {
      "text/html": [
       "<br>"
      ],
      "text/plain": [
       "\u001b[1m<\u001b[0m\u001b[1;95mIPython.core.display.HTML\u001b[0m\u001b[39m object\u001b[0m\u001b[1m>\u001b[0m"
      ]
     },
     "metadata": {},
     "output_type": "display_data"
    },
    {
     "data": {
      "text/html": [
       "<pre style=\"white-space:pre;overflow-x:auto;line-height:normal;font-family:Menlo,'DejaVu Sans Mono',consolas,'Courier New',monospace\"></pre>\n"
      ],
      "text/plain": []
     },
     "metadata": {},
     "output_type": "display_data"
    },
    {
     "data": {
      "text/html": [
       "mathematical_model_kinetics.C_D_crossflow_semiempirical"
      ],
      "text/plain": [
       "\u001b[1m<\u001b[0m\u001b[1;95mIPython.core.display.HTML\u001b[0m\u001b[39m object\u001b[0m\u001b[1m>\u001b[0m"
      ]
     },
     "metadata": {},
     "output_type": "display_data"
    },
    {
     "data": {
      "text/html": [
       "<pre style=\"white-space:pre;overflow-x:auto;line-height:normal;font-family:Menlo,'DejaVu Sans Mono',consolas,'Courier New',monospace\"></pre>\n"
      ],
      "text/plain": []
     },
     "metadata": {},
     "output_type": "display_data"
    },
    {
     "data": {
      "text/latex": [
       "$\\displaystyle C_{DC} = 1.6 \\lambda^{} + 0.1$"
      ],
      "text/plain": [
       "\u001b[1m<\u001b[0m\u001b[1;95mIPython.core.display.Math\u001b[0m\u001b[39m object\u001b[0m\u001b[1m>\u001b[0m"
      ]
     },
     "metadata": {},
     "output_type": "display_data"
    },
    {
     "data": {
      "text/html": [
       "<pre style=\"white-space:pre;overflow-x:auto;line-height:normal;font-family:Menlo,'DejaVu Sans Mono',consolas,'Courier New',monospace\"></pre>\n"
      ],
      "text/plain": []
     },
     "metadata": {},
     "output_type": "display_data"
    },
    {
     "data": {
      "text/html": [
       "<br>"
      ],
      "text/plain": [
       "\u001b[1m<\u001b[0m\u001b[1;95mIPython.core.display.HTML\u001b[0m\u001b[39m object\u001b[0m\u001b[1m>\u001b[0m"
      ]
     },
     "metadata": {},
     "output_type": "display_data"
    },
    {
     "data": {
      "text/html": [
       "<pre style=\"white-space:pre;overflow-x:auto;line-height:normal;font-family:Menlo,'DejaVu Sans Mono',consolas,'Courier New',monospace\"></pre>\n"
      ],
      "text/plain": []
     },
     "metadata": {},
     "output_type": "display_data"
    },
    {
     "data": {
      "text/html": [
       "mathematical_model_kinetics.lambda__semiempirical"
      ],
      "text/plain": [
       "\u001b[1m<\u001b[0m\u001b[1;95mIPython.core.display.HTML\u001b[0m\u001b[39m object\u001b[0m\u001b[1m>\u001b[0m"
      ]
     },
     "metadata": {},
     "output_type": "display_data"
    },
    {
     "data": {
      "text/html": [
       "<pre style=\"white-space:pre;overflow-x:auto;line-height:normal;font-family:Menlo,'DejaVu Sans Mono',consolas,'Courier New',monospace\"></pre>\n"
      ],
      "text/plain": []
     },
     "metadata": {},
     "output_type": "display_data"
    },
    {
     "data": {
      "text/latex": [
       "$\\displaystyle \\lambda^{} = \\frac{c_{t}}{c_{r}}$"
      ],
      "text/plain": [
       "\u001b[1m<\u001b[0m\u001b[1;95mIPython.core.display.Math\u001b[0m\u001b[39m object\u001b[0m\u001b[1m>\u001b[0m"
      ]
     },
     "metadata": {},
     "output_type": "display_data"
    },
    {
     "data": {
      "text/html": [
       "<pre style=\"white-space:pre;overflow-x:auto;line-height:normal;font-family:Menlo,'DejaVu Sans Mono',consolas,'Courier New',monospace\"></pre>\n"
      ],
      "text/plain": []
     },
     "metadata": {},
     "output_type": "display_data"
    },
    {
     "data": {
      "text/html": [
       "<br>"
      ],
      "text/plain": [
       "\u001b[1m<\u001b[0m\u001b[1;95mIPython.core.display.HTML\u001b[0m\u001b[39m object\u001b[0m\u001b[1m>\u001b[0m"
      ]
     },
     "metadata": {},
     "output_type": "display_data"
    },
    {
     "data": {
      "text/html": [
       "<pre style=\"white-space:pre;overflow-x:auto;line-height:normal;font-family:Menlo,'DejaVu Sans Mono',consolas,'Courier New',monospace\"></pre>\n"
      ],
      "text/plain": []
     },
     "metadata": {},
     "output_type": "display_data"
    },
    {
     "data": {
      "text/html": [
       "mathematical_model_kinetics.AR_e_semiempirical"
      ],
      "text/plain": [
       "\u001b[1m<\u001b[0m\u001b[1;95mIPython.core.display.HTML\u001b[0m\u001b[39m object\u001b[0m\u001b[1m>\u001b[0m"
      ]
     },
     "metadata": {},
     "output_type": "display_data"
    },
    {
     "data": {
      "text/html": [
       "<pre style=\"white-space:pre;overflow-x:auto;line-height:normal;font-family:Menlo,'DejaVu Sans Mono',consolas,'Courier New',monospace\"></pre>\n"
      ],
      "text/plain": []
     },
     "metadata": {},
     "output_type": "display_data"
    },
    {
     "data": {
      "text/latex": [
       "$\\displaystyle AR_{e } = 2 AR_{g }$"
      ],
      "text/plain": [
       "\u001b[1m<\u001b[0m\u001b[1;95mIPython.core.display.Math\u001b[0m\u001b[39m object\u001b[0m\u001b[1m>\u001b[0m"
      ]
     },
     "metadata": {},
     "output_type": "display_data"
    },
    {
     "data": {
      "text/html": [
       "<pre style=\"white-space:pre;overflow-x:auto;line-height:normal;font-family:Menlo,'DejaVu Sans Mono',consolas,'Courier New',monospace\"></pre>\n"
      ],
      "text/plain": []
     },
     "metadata": {},
     "output_type": "display_data"
    },
    {
     "data": {
      "text/html": [
       "<br>"
      ],
      "text/plain": [
       "\u001b[1m<\u001b[0m\u001b[1;95mIPython.core.display.HTML\u001b[0m\u001b[39m object\u001b[0m\u001b[1m>\u001b[0m"
      ]
     },
     "metadata": {},
     "output_type": "display_data"
    },
    {
     "data": {
      "text/html": [
       "<pre style=\"white-space:pre;overflow-x:auto;line-height:normal;font-family:Menlo,'DejaVu Sans Mono',consolas,'Courier New',monospace\"></pre>\n"
      ],
      "text/plain": []
     },
     "metadata": {},
     "output_type": "display_data"
    },
    {
     "data": {
      "text/html": [
       "mathematical_model_kinetics.AR_g_semiempirical"
      ],
      "text/plain": [
       "\u001b[1m<\u001b[0m\u001b[1;95mIPython.core.display.HTML\u001b[0m\u001b[39m object\u001b[0m\u001b[1m>\u001b[0m"
      ]
     },
     "metadata": {},
     "output_type": "display_data"
    },
    {
     "data": {
      "text/html": [
       "<pre style=\"white-space:pre;overflow-x:auto;line-height:normal;font-family:Menlo,'DejaVu Sans Mono',consolas,'Courier New',monospace\"></pre>\n"
      ],
      "text/plain": []
     },
     "metadata": {},
     "output_type": "display_data"
    },
    {
     "data": {
      "text/latex": [
       "$\\displaystyle AR_{g } = \\frac{b_{R}^{2}}{A_{R}}$"
      ],
      "text/plain": [
       "\u001b[1m<\u001b[0m\u001b[1;95mIPython.core.display.Math\u001b[0m\u001b[39m object\u001b[0m\u001b[1m>\u001b[0m"
      ]
     },
     "metadata": {},
     "output_type": "display_data"
    },
    {
     "data": {
      "text/html": [
       "<pre style=\"white-space:pre;overflow-x:auto;line-height:normal;font-family:Menlo,'DejaVu Sans Mono',consolas,'Courier New',monospace\"></pre>\n"
      ],
      "text/plain": []
     },
     "metadata": {},
     "output_type": "display_data"
    },
    {
     "data": {
      "text/html": [
       "<br>"
      ],
      "text/plain": [
       "\u001b[1m<\u001b[0m\u001b[1;95mIPython.core.display.HTML\u001b[0m\u001b[39m object\u001b[0m\u001b[1m>\u001b[0m"
      ]
     },
     "metadata": {},
     "output_type": "display_data"
    },
    {
     "data": {
      "text/html": [
       "<pre style=\"white-space:pre;overflow-x:auto;line-height:normal;font-family:Menlo,'DejaVu Sans Mono',consolas,'Courier New',monospace\"></pre>\n"
      ],
      "text/plain": []
     },
     "metadata": {},
     "output_type": "display_data"
    },
    {
     "data": {
      "text/html": [
       "mathematical_model_kinetics.V_R_U_semiempirical"
      ],
      "text/plain": [
       "\u001b[1m<\u001b[0m\u001b[1;95mIPython.core.display.HTML\u001b[0m\u001b[39m object\u001b[0m\u001b[1m>\u001b[0m"
      ]
     },
     "metadata": {},
     "output_type": "display_data"
    },
    {
     "data": {
      "text/html": [
       "<pre style=\"white-space:pre;overflow-x:auto;line-height:normal;font-family:Menlo,'DejaVu Sans Mono',consolas,'Courier New',monospace\"></pre>\n"
      ],
      "text/plain": []
     },
     "metadata": {},
     "output_type": "display_data"
    },
    {
     "data": {
      "text/latex": [
       "$\\displaystyle V_{R U } = \\sqrt{V_{R x U }^{2} + V_{R y }^{2}}$"
      ],
      "text/plain": [
       "\u001b[1m<\u001b[0m\u001b[1;95mIPython.core.display.Math\u001b[0m\u001b[39m object\u001b[0m\u001b[1m>\u001b[0m"
      ]
     },
     "metadata": {},
     "output_type": "display_data"
    },
    {
     "data": {
      "text/html": [
       "<pre style=\"white-space:pre;overflow-x:auto;line-height:normal;font-family:Menlo,'DejaVu Sans Mono',consolas,'Courier New',monospace\"></pre>\n"
      ],
      "text/plain": []
     },
     "metadata": {},
     "output_type": "display_data"
    },
    {
     "data": {
      "text/html": [
       "<br>"
      ],
      "text/plain": [
       "\u001b[1m<\u001b[0m\u001b[1;95mIPython.core.display.HTML\u001b[0m\u001b[39m object\u001b[0m\u001b[1m>\u001b[0m"
      ]
     },
     "metadata": {},
     "output_type": "display_data"
    },
    {
     "data": {
      "text/html": [
       "<pre style=\"white-space:pre;overflow-x:auto;line-height:normal;font-family:Menlo,'DejaVu Sans Mono',consolas,'Courier New',monospace\"></pre>\n"
      ],
      "text/plain": []
     },
     "metadata": {},
     "output_type": "display_data"
    },
    {
     "data": {
      "text/html": [
       "mathematical_model_kinetics.V_R_y_semiempirical"
      ],
      "text/plain": [
       "\u001b[1m<\u001b[0m\u001b[1;95mIPython.core.display.HTML\u001b[0m\u001b[39m object\u001b[0m\u001b[1m>\u001b[0m"
      ]
     },
     "metadata": {},
     "output_type": "display_data"
    },
    {
     "data": {
      "text/html": [
       "<pre style=\"white-space:pre;overflow-x:auto;line-height:normal;font-family:Menlo,'DejaVu Sans Mono',consolas,'Courier New',monospace\"></pre>\n"
      ],
      "text/plain": []
     },
     "metadata": {},
     "output_type": "display_data"
    },
    {
     "data": {
      "text/latex": [
       "$\\displaystyle V_{R y } = - \\kappa_{r tot } r x_{R} - \\kappa_{v tot } v$"
      ],
      "text/plain": [
       "\u001b[1m<\u001b[0m\u001b[1;95mIPython.core.display.Math\u001b[0m\u001b[39m object\u001b[0m\u001b[1m>\u001b[0m"
      ]
     },
     "metadata": {},
     "output_type": "display_data"
    },
    {
     "data": {
      "text/html": [
       "<pre style=\"white-space:pre;overflow-x:auto;line-height:normal;font-family:Menlo,'DejaVu Sans Mono',consolas,'Courier New',monospace\"></pre>\n"
      ],
      "text/plain": []
     },
     "metadata": {},
     "output_type": "display_data"
    },
    {
     "data": {
      "text/html": [
       "<br>"
      ],
      "text/plain": [
       "\u001b[1m<\u001b[0m\u001b[1;95mIPython.core.display.HTML\u001b[0m\u001b[39m object\u001b[0m\u001b[1m>\u001b[0m"
      ]
     },
     "metadata": {},
     "output_type": "display_data"
    },
    {
     "data": {
      "text/html": [
       "<pre style=\"white-space:pre;overflow-x:auto;line-height:normal;font-family:Menlo,'DejaVu Sans Mono',consolas,'Courier New',monospace\"></pre>\n"
      ],
      "text/plain": []
     },
     "metadata": {},
     "output_type": "display_data"
    },
    {
     "data": {
      "text/html": [
       "mathematical_model_kinetics.kappa_v_tot_semiempirical"
      ],
      "text/plain": [
       "\u001b[1m<\u001b[0m\u001b[1;95mIPython.core.display.HTML\u001b[0m\u001b[39m object\u001b[0m\u001b[1m>\u001b[0m"
      ]
     },
     "metadata": {},
     "output_type": "display_data"
    },
    {
     "data": {
      "text/html": [
       "<pre style=\"white-space:pre;overflow-x:auto;line-height:normal;font-family:Menlo,'DejaVu Sans Mono',consolas,'Courier New',monospace\"></pre>\n"
      ],
      "text/plain": []
     },
     "metadata": {},
     "output_type": "display_data"
    },
    {
     "data": {
      "text/latex": [
       "$\\displaystyle \\kappa_{v tot } = \\kappa_{v} + \\kappa_{v \\gamma g} \\left|{\\gamma_{g }}\\right|$"
      ],
      "text/plain": [
       "\u001b[1m<\u001b[0m\u001b[1;95mIPython.core.display.Math\u001b[0m\u001b[39m object\u001b[0m\u001b[1m>\u001b[0m"
      ]
     },
     "metadata": {},
     "output_type": "display_data"
    },
    {
     "data": {
      "text/html": [
       "<pre style=\"white-space:pre;overflow-x:auto;line-height:normal;font-family:Menlo,'DejaVu Sans Mono',consolas,'Courier New',monospace\"></pre>\n"
      ],
      "text/plain": []
     },
     "metadata": {},
     "output_type": "display_data"
    },
    {
     "data": {
      "text/html": [
       "<br>"
      ],
      "text/plain": [
       "\u001b[1m<\u001b[0m\u001b[1;95mIPython.core.display.HTML\u001b[0m\u001b[39m object\u001b[0m\u001b[1m>\u001b[0m"
      ]
     },
     "metadata": {},
     "output_type": "display_data"
    },
    {
     "data": {
      "text/html": [
       "<pre style=\"white-space:pre;overflow-x:auto;line-height:normal;font-family:Menlo,'DejaVu Sans Mono',consolas,'Courier New',monospace\"></pre>\n"
      ],
      "text/plain": []
     },
     "metadata": {},
     "output_type": "display_data"
    },
    {
     "data": {
      "text/html": [
       "mathematical_model_kinetics.kappa_r_tot_semiempirical"
      ],
      "text/plain": [
       "\u001b[1m<\u001b[0m\u001b[1;95mIPython.core.display.HTML\u001b[0m\u001b[39m object\u001b[0m\u001b[1m>\u001b[0m"
      ]
     },
     "metadata": {},
     "output_type": "display_data"
    },
    {
     "data": {
      "text/html": [
       "<pre style=\"white-space:pre;overflow-x:auto;line-height:normal;font-family:Menlo,'DejaVu Sans Mono',consolas,'Courier New',monospace\"></pre>\n"
      ],
      "text/plain": []
     },
     "metadata": {},
     "output_type": "display_data"
    },
    {
     "data": {
      "text/latex": [
       "$\\displaystyle \\kappa_{r tot } = \\kappa_{r} + \\kappa_{r \\gamma g} \\left|{\\gamma_{g }}\\right|$"
      ],
      "text/plain": [
       "\u001b[1m<\u001b[0m\u001b[1;95mIPython.core.display.Math\u001b[0m\u001b[39m object\u001b[0m\u001b[1m>\u001b[0m"
      ]
     },
     "metadata": {},
     "output_type": "display_data"
    },
    {
     "data": {
      "text/html": [
       "<pre style=\"white-space:pre;overflow-x:auto;line-height:normal;font-family:Menlo,'DejaVu Sans Mono',consolas,'Courier New',monospace\"></pre>\n"
      ],
      "text/plain": []
     },
     "metadata": {},
     "output_type": "display_data"
    },
    {
     "data": {
      "text/html": [
       "<br>"
      ],
      "text/plain": [
       "\u001b[1m<\u001b[0m\u001b[1;95mIPython.core.display.HTML\u001b[0m\u001b[39m object\u001b[0m\u001b[1m>\u001b[0m"
      ]
     },
     "metadata": {},
     "output_type": "display_data"
    },
    {
     "data": {
      "text/html": [
       "<pre style=\"white-space:pre;overflow-x:auto;line-height:normal;font-family:Menlo,'DejaVu Sans Mono',consolas,'Courier New',monospace\"></pre>\n"
      ],
      "text/plain": []
     },
     "metadata": {},
     "output_type": "display_data"
    },
    {
     "data": {
      "text/html": [
       "mathematical_model_kinetics.gamma_g_semiempirical"
      ],
      "text/plain": [
       "\u001b[1m<\u001b[0m\u001b[1;95mIPython.core.display.HTML\u001b[0m\u001b[39m object\u001b[0m\u001b[1m>\u001b[0m"
      ]
     },
     "metadata": {},
     "output_type": "display_data"
    },
    {
     "data": {
      "text/html": [
       "<pre style=\"white-space:pre;overflow-x:auto;line-height:normal;font-family:Menlo,'DejaVu Sans Mono',consolas,'Courier New',monospace\"></pre>\n"
      ],
      "text/plain": []
     },
     "metadata": {},
     "output_type": "display_data"
    },
    {
     "data": {
      "text/latex": [
       "$\\displaystyle \\gamma_{g } = \\operatorname{atan}{\\left(\\frac{- r x_{R} - v}{V_{R x C }} \\right)}$"
      ],
      "text/plain": [
       "\u001b[1m<\u001b[0m\u001b[1;95mIPython.core.display.Math\u001b[0m\u001b[39m object\u001b[0m\u001b[1m>\u001b[0m"
      ]
     },
     "metadata": {},
     "output_type": "display_data"
    },
    {
     "data": {
      "text/html": [
       "<pre style=\"white-space:pre;overflow-x:auto;line-height:normal;font-family:Menlo,'DejaVu Sans Mono',consolas,'Courier New',monospace\"></pre>\n"
      ],
      "text/plain": []
     },
     "metadata": {},
     "output_type": "display_data"
    },
    {
     "data": {
      "text/html": [
       "<br>"
      ],
      "text/plain": [
       "\u001b[1m<\u001b[0m\u001b[1;95mIPython.core.display.HTML\u001b[0m\u001b[39m object\u001b[0m\u001b[1m>\u001b[0m"
      ]
     },
     "metadata": {},
     "output_type": "display_data"
    },
    {
     "data": {
      "text/html": [
       "<pre style=\"white-space:pre;overflow-x:auto;line-height:normal;font-family:Menlo,'DejaVu Sans Mono',consolas,'Courier New',monospace\"></pre>\n"
      ],
      "text/plain": []
     },
     "metadata": {},
     "output_type": "display_data"
    },
    {
     "data": {
      "text/html": [
       "mathematical_model_kinetics.V_R_x_C_semiempirical"
      ],
      "text/plain": [
       "\u001b[1m<\u001b[0m\u001b[1;95mIPython.core.display.HTML\u001b[0m\u001b[39m object\u001b[0m\u001b[1m>\u001b[0m"
      ]
     },
     "metadata": {},
     "output_type": "display_data"
    },
    {
     "data": {
      "text/html": [
       "<pre style=\"white-space:pre;overflow-x:auto;line-height:normal;font-family:Menlo,'DejaVu Sans Mono',consolas,'Courier New',monospace\"></pre>\n"
      ],
      "text/plain": []
     },
     "metadata": {},
     "output_type": "display_data"
    },
    {
     "data": {
      "text/latex": [
       "$\\displaystyle V_{R x C } = V_{x corr } - r y_{R}$"
      ],
      "text/plain": [
       "\u001b[1m<\u001b[0m\u001b[1;95mIPython.core.display.Math\u001b[0m\u001b[39m object\u001b[0m\u001b[1m>\u001b[0m"
      ]
     },
     "metadata": {},
     "output_type": "display_data"
    },
    {
     "data": {
      "text/html": [
       "<pre style=\"white-space:pre;overflow-x:auto;line-height:normal;font-family:Menlo,'DejaVu Sans Mono',consolas,'Courier New',monospace\"></pre>\n"
      ],
      "text/plain": []
     },
     "metadata": {},
     "output_type": "display_data"
    },
    {
     "data": {
      "text/html": [
       "<br>"
      ],
      "text/plain": [
       "\u001b[1m<\u001b[0m\u001b[1;95mIPython.core.display.HTML\u001b[0m\u001b[39m object\u001b[0m\u001b[1m>\u001b[0m"
      ]
     },
     "metadata": {},
     "output_type": "display_data"
    },
    {
     "data": {
      "text/html": [
       "<pre style=\"white-space:pre;overflow-x:auto;line-height:normal;font-family:Menlo,'DejaVu Sans Mono',consolas,'Courier New',monospace\"></pre>\n"
      ],
      "text/plain": []
     },
     "metadata": {},
     "output_type": "display_data"
    },
    {
     "data": {
      "text/html": [
       "mathematical_model_kinetics.V_x_corr_semiempirical"
      ],
      "text/plain": [
       "\u001b[1m<\u001b[0m\u001b[1;95mIPython.core.display.HTML\u001b[0m\u001b[39m object\u001b[0m\u001b[1m>\u001b[0m"
      ]
     },
     "metadata": {},
     "output_type": "display_data"
    },
    {
     "data": {
      "text/html": [
       "<pre style=\"white-space:pre;overflow-x:auto;line-height:normal;font-family:Menlo,'DejaVu Sans Mono',consolas,'Courier New',monospace\"></pre>\n"
      ],
      "text/plain": []
     },
     "metadata": {},
     "output_type": "display_data"
    },
    {
     "data": {
      "text/latex": [
       "$\\displaystyle V_{x corr } = V_{A } + \\frac{r_{x }^{2} \\left(- V_{A } + V_{x C }\\right)}{\\left(r_{\\Delta } + r_{x }\\right)^{2}}$"
      ],
      "text/plain": [
       "\u001b[1m<\u001b[0m\u001b[1;95mIPython.core.display.Math\u001b[0m\u001b[39m object\u001b[0m\u001b[1m>\u001b[0m"
      ]
     },
     "metadata": {},
     "output_type": "display_data"
    },
    {
     "data": {
      "text/html": [
       "<pre style=\"white-space:pre;overflow-x:auto;line-height:normal;font-family:Menlo,'DejaVu Sans Mono',consolas,'Courier New',monospace\"></pre>\n"
      ],
      "text/plain": []
     },
     "metadata": {},
     "output_type": "display_data"
    },
    {
     "data": {
      "text/html": [
       "<br>"
      ],
      "text/plain": [
       "\u001b[1m<\u001b[0m\u001b[1;95mIPython.core.display.HTML\u001b[0m\u001b[39m object\u001b[0m\u001b[1m>\u001b[0m"
      ]
     },
     "metadata": {},
     "output_type": "display_data"
    },
    {
     "data": {
      "text/html": [
       "<pre style=\"white-space:pre;overflow-x:auto;line-height:normal;font-family:Menlo,'DejaVu Sans Mono',consolas,'Courier New',monospace\"></pre>\n"
      ],
      "text/plain": []
     },
     "metadata": {},
     "output_type": "display_data"
    },
    {
     "data": {
      "text/html": [
       "mathematical_model_kinetics.r_Delta_semiempirical"
      ],
      "text/plain": [
       "\u001b[1m<\u001b[0m\u001b[1;95mIPython.core.display.HTML\u001b[0m\u001b[39m object\u001b[0m\u001b[1m>\u001b[0m"
      ]
     },
     "metadata": {},
     "output_type": "display_data"
    },
    {
     "data": {
      "text/html": [
       "<pre style=\"white-space:pre;overflow-x:auto;line-height:normal;font-family:Menlo,'DejaVu Sans Mono',consolas,'Courier New',monospace\"></pre>\n"
      ],
      "text/plain": []
     },
     "metadata": {},
     "output_type": "display_data"
    },
    {
     "data": {
      "text/latex": [
       "$\\displaystyle r_{\\Delta } = \\frac{0.15 x \\left(- V_{A } + V_{x C }\\right)}{V_{A } + V_{x C }}$"
      ],
      "text/plain": [
       "\u001b[1m<\u001b[0m\u001b[1;95mIPython.core.display.Math\u001b[0m\u001b[39m object\u001b[0m\u001b[1m>\u001b[0m"
      ]
     },
     "metadata": {},
     "output_type": "display_data"
    },
    {
     "data": {
      "text/html": [
       "<pre style=\"white-space:pre;overflow-x:auto;line-height:normal;font-family:Menlo,'DejaVu Sans Mono',consolas,'Courier New',monospace\"></pre>\n"
      ],
      "text/plain": []
     },
     "metadata": {},
     "output_type": "display_data"
    },
    {
     "data": {
      "text/html": [
       "<br>"
      ],
      "text/plain": [
       "\u001b[1m<\u001b[0m\u001b[1;95mIPython.core.display.HTML\u001b[0m\u001b[39m object\u001b[0m\u001b[1m>\u001b[0m"
      ]
     },
     "metadata": {},
     "output_type": "display_data"
    },
    {
     "data": {
      "text/html": [
       "<pre style=\"white-space:pre;overflow-x:auto;line-height:normal;font-family:Menlo,'DejaVu Sans Mono',consolas,'Courier New',monospace\"></pre>\n"
      ],
      "text/plain": []
     },
     "metadata": {},
     "output_type": "display_data"
    },
    {
     "data": {
      "text/html": [
       "mathematical_model_kinetics.V_x_C_semiempirical"
      ],
      "text/plain": [
       "\u001b[1m<\u001b[0m\u001b[1;95mIPython.core.display.HTML\u001b[0m\u001b[39m object\u001b[0m\u001b[1m>\u001b[0m"
      ]
     },
     "metadata": {},
     "output_type": "display_data"
    },
    {
     "data": {
      "text/html": [
       "<pre style=\"white-space:pre;overflow-x:auto;line-height:normal;font-family:Menlo,'DejaVu Sans Mono',consolas,'Courier New',monospace\"></pre>\n"
      ],
      "text/plain": []
     },
     "metadata": {},
     "output_type": "display_data"
    },
    {
     "data": {
      "text/latex": [
       "$\\displaystyle V_{x C } = \\frac{V_{\\infty } r_{\\infty }^{2}}{r_{x }^{2}}$"
      ],
      "text/plain": [
       "\u001b[1m<\u001b[0m\u001b[1;95mIPython.core.display.Math\u001b[0m\u001b[39m object\u001b[0m\u001b[1m>\u001b[0m"
      ]
     },
     "metadata": {},
     "output_type": "display_data"
    },
    {
     "data": {
      "text/html": [
       "<pre style=\"white-space:pre;overflow-x:auto;line-height:normal;font-family:Menlo,'DejaVu Sans Mono',consolas,'Courier New',monospace\"></pre>\n"
      ],
      "text/plain": []
     },
     "metadata": {},
     "output_type": "display_data"
    },
    {
     "data": {
      "text/html": [
       "<br>"
      ],
      "text/plain": [
       "\u001b[1m<\u001b[0m\u001b[1;95mIPython.core.display.HTML\u001b[0m\u001b[39m object\u001b[0m\u001b[1m>\u001b[0m"
      ]
     },
     "metadata": {},
     "output_type": "display_data"
    },
    {
     "data": {
      "text/html": [
       "<pre style=\"white-space:pre;overflow-x:auto;line-height:normal;font-family:Menlo,'DejaVu Sans Mono',consolas,'Courier New',monospace\"></pre>\n"
      ],
      "text/plain": []
     },
     "metadata": {},
     "output_type": "display_data"
    },
    {
     "data": {
      "text/html": [
       "mathematical_model_kinetics.r_x_semiempirical"
      ],
      "text/plain": [
       "\u001b[1m<\u001b[0m\u001b[1;95mIPython.core.display.HTML\u001b[0m\u001b[39m object\u001b[0m\u001b[1m>\u001b[0m"
      ]
     },
     "metadata": {},
     "output_type": "display_data"
    },
    {
     "data": {
      "text/html": [
       "<pre style=\"white-space:pre;overflow-x:auto;line-height:normal;font-family:Menlo,'DejaVu Sans Mono',consolas,'Courier New',monospace\"></pre>\n"
      ],
      "text/plain": []
     },
     "metadata": {},
     "output_type": "display_data"
    },
    {
     "data": {
      "text/latex": [
       "$\\displaystyle r_{x } = \\frac{r_{0} \\left(\\frac{r_{\\infty } \\left(\\frac{x}{r_{0}}\\right)^{1.5}}{r_{0}} + \\frac{0.14 r_{\\infty }^{3}}{r_{0}^{3}}\\right)}{\\left(\\frac{x}{r_{0}}\\right)^{1.5} + \\frac{0.14 r_{\\infty }^{3}}{r_{0}^{3}}}$"
      ],
      "text/plain": [
       "\u001b[1m<\u001b[0m\u001b[1;95mIPython.core.display.Math\u001b[0m\u001b[39m object\u001b[0m\u001b[1m>\u001b[0m"
      ]
     },
     "metadata": {},
     "output_type": "display_data"
    },
    {
     "data": {
      "text/html": [
       "<pre style=\"white-space:pre;overflow-x:auto;line-height:normal;font-family:Menlo,'DejaVu Sans Mono',consolas,'Courier New',monospace\"></pre>\n"
      ],
      "text/plain": []
     },
     "metadata": {},
     "output_type": "display_data"
    },
    {
     "data": {
      "text/html": [
       "<br>"
      ],
      "text/plain": [
       "\u001b[1m<\u001b[0m\u001b[1;95mIPython.core.display.HTML\u001b[0m\u001b[39m object\u001b[0m\u001b[1m>\u001b[0m"
      ]
     },
     "metadata": {},
     "output_type": "display_data"
    },
    {
     "data": {
      "text/html": [
       "<pre style=\"white-space:pre;overflow-x:auto;line-height:normal;font-family:Menlo,'DejaVu Sans Mono',consolas,'Courier New',monospace\"></pre>\n"
      ],
      "text/plain": []
     },
     "metadata": {},
     "output_type": "display_data"
    },
    {
     "data": {
      "text/html": [
       "mathematical_model_kinetics.r_infty_semiempirical"
      ],
      "text/plain": [
       "\u001b[1m<\u001b[0m\u001b[1;95mIPython.core.display.HTML\u001b[0m\u001b[39m object\u001b[0m\u001b[1m>\u001b[0m"
      ]
     },
     "metadata": {},
     "output_type": "display_data"
    },
    {
     "data": {
      "text/html": [
       "<pre style=\"white-space:pre;overflow-x:auto;line-height:normal;font-family:Menlo,'DejaVu Sans Mono',consolas,'Courier New',monospace\"></pre>\n"
      ],
      "text/plain": []
     },
     "metadata": {},
     "output_type": "display_data"
    },
    {
     "data": {
      "text/latex": [
       "$\\displaystyle r_{\\infty } = r_{0} \\sqrt{\\frac{V_{A }}{2 V_{\\infty }} + \\frac{1}{2}}$"
      ],
      "text/plain": [
       "\u001b[1m<\u001b[0m\u001b[1;95mIPython.core.display.Math\u001b[0m\u001b[39m object\u001b[0m\u001b[1m>\u001b[0m"
      ]
     },
     "metadata": {},
     "output_type": "display_data"
    },
    {
     "data": {
      "text/html": [
       "<pre style=\"white-space:pre;overflow-x:auto;line-height:normal;font-family:Menlo,'DejaVu Sans Mono',consolas,'Courier New',monospace\"></pre>\n"
      ],
      "text/plain": []
     },
     "metadata": {},
     "output_type": "display_data"
    },
    {
     "data": {
      "text/html": [
       "<br>"
      ],
      "text/plain": [
       "\u001b[1m<\u001b[0m\u001b[1;95mIPython.core.display.HTML\u001b[0m\u001b[39m object\u001b[0m\u001b[1m>\u001b[0m"
      ]
     },
     "metadata": {},
     "output_type": "display_data"
    },
    {
     "data": {
      "text/html": [
       "<pre style=\"white-space:pre;overflow-x:auto;line-height:normal;font-family:Menlo,'DejaVu Sans Mono',consolas,'Courier New',monospace\"></pre>\n"
      ],
      "text/plain": []
     },
     "metadata": {},
     "output_type": "display_data"
    },
    {
     "data": {
      "text/html": [
       "mathematical_model_kinetics.V_infty_semiempirical"
      ],
      "text/plain": [
       "\u001b[1m<\u001b[0m\u001b[1;95mIPython.core.display.HTML\u001b[0m\u001b[39m object\u001b[0m\u001b[1m>\u001b[0m"
      ]
     },
     "metadata": {},
     "output_type": "display_data"
    },
    {
     "data": {
      "text/html": [
       "<pre style=\"white-space:pre;overflow-x:auto;line-height:normal;font-family:Menlo,'DejaVu Sans Mono',consolas,'Courier New',monospace\"></pre>\n"
      ],
      "text/plain": []
     },
     "metadata": {},
     "output_type": "display_data"
    },
    {
     "data": {
      "text/latex": [
       "$\\displaystyle V_{\\infty } = V_{A } \\sqrt{C_{Th } + 1}$"
      ],
      "text/plain": [
       "\u001b[1m<\u001b[0m\u001b[1;95mIPython.core.display.Math\u001b[0m\u001b[39m object\u001b[0m\u001b[1m>\u001b[0m"
      ]
     },
     "metadata": {},
     "output_type": "display_data"
    },
    {
     "data": {
      "text/html": [
       "<pre style=\"white-space:pre;overflow-x:auto;line-height:normal;font-family:Menlo,'DejaVu Sans Mono',consolas,'Courier New',monospace\"></pre>\n"
      ],
      "text/plain": []
     },
     "metadata": {},
     "output_type": "display_data"
    },
    {
     "data": {
      "text/html": [
       "<br>"
      ],
      "text/plain": [
       "\u001b[1m<\u001b[0m\u001b[1;95mIPython.core.display.HTML\u001b[0m\u001b[39m object\u001b[0m\u001b[1m>\u001b[0m"
      ]
     },
     "metadata": {},
     "output_type": "display_data"
    },
    {
     "data": {
      "text/html": [
       "<pre style=\"white-space:pre;overflow-x:auto;line-height:normal;font-family:Menlo,'DejaVu Sans Mono',consolas,'Courier New',monospace\"></pre>\n"
      ],
      "text/plain": []
     },
     "metadata": {},
     "output_type": "display_data"
    },
    {
     "data": {
      "text/html": [
       "mathematical_model_kinetics.C_Th_semiempirical"
      ],
      "text/plain": [
       "\u001b[1m<\u001b[0m\u001b[1;95mIPython.core.display.HTML\u001b[0m\u001b[39m object\u001b[0m\u001b[1m>\u001b[0m"
      ]
     },
     "metadata": {},
     "output_type": "display_data"
    },
    {
     "data": {
      "text/html": [
       "<pre style=\"white-space:pre;overflow-x:auto;line-height:normal;font-family:Menlo,'DejaVu Sans Mono',consolas,'Courier New',monospace\"></pre>\n"
      ],
      "text/plain": []
     },
     "metadata": {},
     "output_type": "display_data"
    },
    {
     "data": {
      "text/latex": [
       "$\\displaystyle C_{Th } = \\frac{2 T_{}}{\\pi V_{A }^{2} r_{0}^{2} \\rho}$"
      ],
      "text/plain": [
       "\u001b[1m<\u001b[0m\u001b[1;95mIPython.core.display.Math\u001b[0m\u001b[39m object\u001b[0m\u001b[1m>\u001b[0m"
      ]
     },
     "metadata": {},
     "output_type": "display_data"
    },
    {
     "data": {
      "text/html": [
       "<pre style=\"white-space:pre;overflow-x:auto;line-height:normal;font-family:Menlo,'DejaVu Sans Mono',consolas,'Courier New',monospace\"></pre>\n"
      ],
      "text/plain": []
     },
     "metadata": {},
     "output_type": "display_data"
    },
    {
     "data": {
      "text/html": [
       "<br>"
      ],
      "text/plain": [
       "\u001b[1m<\u001b[0m\u001b[1;95mIPython.core.display.HTML\u001b[0m\u001b[39m object\u001b[0m\u001b[1m>\u001b[0m"
      ]
     },
     "metadata": {},
     "output_type": "display_data"
    },
    {
     "data": {
      "text/html": [
       "<pre style=\"white-space:pre;overflow-x:auto;line-height:normal;font-family:Menlo,'DejaVu Sans Mono',consolas,'Courier New',monospace\"></pre>\n"
      ],
      "text/plain": []
     },
     "metadata": {},
     "output_type": "display_data"
    },
    {
     "data": {
      "text/html": [
       "mathematical_model_kinetics.V_R_x_U_semiempirical"
      ],
      "text/plain": [
       "\u001b[1m<\u001b[0m\u001b[1;95mIPython.core.display.HTML\u001b[0m\u001b[39m object\u001b[0m\u001b[1m>\u001b[0m"
      ]
     },
     "metadata": {},
     "output_type": "display_data"
    },
    {
     "data": {
      "text/html": [
       "<pre style=\"white-space:pre;overflow-x:auto;line-height:normal;font-family:Menlo,'DejaVu Sans Mono',consolas,'Courier New',monospace\"></pre>\n"
      ],
      "text/plain": []
     },
     "metadata": {},
     "output_type": "display_data"
    },
    {
     "data": {
      "text/latex": [
       "$\\displaystyle V_{R x U } = V_{x U } - r y_{R}$"
      ],
      "text/plain": [
       "\u001b[1m<\u001b[0m\u001b[1;95mIPython.core.display.Math\u001b[0m\u001b[39m object\u001b[0m\u001b[1m>\u001b[0m"
      ]
     },
     "metadata": {},
     "output_type": "display_data"
    },
    {
     "data": {
      "text/html": [
       "<pre style=\"white-space:pre;overflow-x:auto;line-height:normal;font-family:Menlo,'DejaVu Sans Mono',consolas,'Courier New',monospace\"></pre>\n"
      ],
      "text/plain": []
     },
     "metadata": {},
     "output_type": "display_data"
    },
    {
     "data": {
      "text/html": [
       "<br>"
      ],
      "text/plain": [
       "\u001b[1m<\u001b[0m\u001b[1;95mIPython.core.display.HTML\u001b[0m\u001b[39m object\u001b[0m\u001b[1m>\u001b[0m"
      ]
     },
     "metadata": {},
     "output_type": "display_data"
    },
    {
     "data": {
      "text/html": [
       "<pre style=\"white-space:pre;overflow-x:auto;line-height:normal;font-family:Menlo,'DejaVu Sans Mono',consolas,'Courier New',monospace\"></pre>\n"
      ],
      "text/plain": []
     },
     "metadata": {},
     "output_type": "display_data"
    },
    {
     "data": {
      "text/html": [
       "mathematical_model_kinetics.V_x_U_semiempirical"
      ],
      "text/plain": [
       "\u001b[1m<\u001b[0m\u001b[1;95mIPython.core.display.HTML\u001b[0m\u001b[39m object\u001b[0m\u001b[1m>\u001b[0m"
      ]
     },
     "metadata": {},
     "output_type": "display_data"
    },
    {
     "data": {
      "text/html": [
       "<pre style=\"white-space:pre;overflow-x:auto;line-height:normal;font-family:Menlo,'DejaVu Sans Mono',consolas,'Courier New',monospace\"></pre>\n"
      ],
      "text/plain": []
     },
     "metadata": {},
     "output_type": "display_data"
    },
    {
     "data": {
      "text/latex": [
       "$\\displaystyle V_{x U } = V_{A }$"
      ],
      "text/plain": [
       "\u001b[1m<\u001b[0m\u001b[1;95mIPython.core.display.Math\u001b[0m\u001b[39m object\u001b[0m\u001b[1m>\u001b[0m"
      ]
     },
     "metadata": {},
     "output_type": "display_data"
    },
    {
     "data": {
      "text/html": [
       "<pre style=\"white-space:pre;overflow-x:auto;line-height:normal;font-family:Menlo,'DejaVu Sans Mono',consolas,'Courier New',monospace\"></pre>\n"
      ],
      "text/plain": []
     },
     "metadata": {},
     "output_type": "display_data"
    },
    {
     "data": {
      "text/html": [
       "<br>"
      ],
      "text/plain": [
       "\u001b[1m<\u001b[0m\u001b[1;95mIPython.core.display.HTML\u001b[0m\u001b[39m object\u001b[0m\u001b[1m>\u001b[0m"
      ]
     },
     "metadata": {},
     "output_type": "display_data"
    },
    {
     "data": {
      "text/html": [
       "<pre style=\"white-space:pre;overflow-x:auto;line-height:normal;font-family:Menlo,'DejaVu Sans Mono',consolas,'Courier New',monospace\"></pre>\n"
      ],
      "text/plain": []
     },
     "metadata": {},
     "output_type": "display_data"
    },
    {
     "data": {
      "text/html": [
       "mathematical_model_kinetics.V_A_semiempirical"
      ],
      "text/plain": [
       "\u001b[1m<\u001b[0m\u001b[1;95mIPython.core.display.HTML\u001b[0m\u001b[39m object\u001b[0m\u001b[1m>\u001b[0m"
      ]
     },
     "metadata": {},
     "output_type": "display_data"
    },
    {
     "data": {
      "text/html": [
       "<pre style=\"white-space:pre;overflow-x:auto;line-height:normal;font-family:Menlo,'DejaVu Sans Mono',consolas,'Courier New',monospace\"></pre>\n"
      ],
      "text/plain": []
     },
     "metadata": {},
     "output_type": "display_data"
    },
    {
     "data": {
      "text/latex": [
       "$\\displaystyle V_{A } = u \\left(1 - w_{f}\\right)$"
      ],
      "text/plain": [
       "\u001b[1m<\u001b[0m\u001b[1;95mIPython.core.display.Math\u001b[0m\u001b[39m object\u001b[0m\u001b[1m>\u001b[0m"
      ]
     },
     "metadata": {},
     "output_type": "display_data"
    },
    {
     "data": {
      "text/html": [
       "<pre style=\"white-space:pre;overflow-x:auto;line-height:normal;font-family:Menlo,'DejaVu Sans Mono',consolas,'Courier New',monospace\"></pre>\n"
      ],
      "text/plain": []
     },
     "metadata": {},
     "output_type": "display_data"
    },
    {
     "data": {
      "text/html": [
       "<br>"
      ],
      "text/plain": [
       "\u001b[1m<\u001b[0m\u001b[1;95mIPython.core.display.HTML\u001b[0m\u001b[39m object\u001b[0m\u001b[1m>\u001b[0m"
      ]
     },
     "metadata": {},
     "output_type": "display_data"
    }
   ],
   "source": [
    "replace_latex = {\n",
    "    r\"dC_{L dalpha }\" : r\"\\frac{\\partial C_L}{\\partial \\alpha}\",\n",
    "}\n",
    "for name in keys:\n",
    "    eq = rudder.equations[name]\n",
    "    name_clean = name.replace('_port','')\n",
    "    file_name = f\"{name_clean}_semiempirical\" \n",
    "    save_eq(eq, file_name=file_name, subs={'port':''}, replace_latex=replace_latex)"
   ]
  },
  {
   "cell_type": "code",
   "execution_count": 32,
   "id": "d3c11bba-01c9-49b1-86cd-6acc7b14b9f0",
   "metadata": {},
   "outputs": [
    {
     "data": {
      "text/html": [
       "<pre style=\"white-space:pre;overflow-x:auto;line-height:normal;font-family:Menlo,'DejaVu Sans Mono',consolas,'Courier New',monospace\"></pre>\n"
      ],
      "text/plain": []
     },
     "metadata": {},
     "output_type": "display_data"
    },
    {
     "data": {
      "text/html": [
       "mathematical_model_kinetics.V_A_semiempirical"
      ],
      "text/plain": [
       "\u001b[1m<\u001b[0m\u001b[1;95mIPython.core.display.HTML\u001b[0m\u001b[39m object\u001b[0m\u001b[1m>\u001b[0m"
      ]
     },
     "metadata": {},
     "output_type": "display_data"
    },
    {
     "data": {
      "text/html": [
       "<pre style=\"white-space:pre;overflow-x:auto;line-height:normal;font-family:Menlo,'DejaVu Sans Mono',consolas,'Courier New',monospace\"></pre>\n"
      ],
      "text/plain": []
     },
     "metadata": {},
     "output_type": "display_data"
    },
    {
     "data": {
      "text/latex": [
       "$\\displaystyle V_{A } = u \\left(1 - w_{f}\\right)$"
      ],
      "text/plain": [
       "\u001b[1m<\u001b[0m\u001b[1;95mIPython.core.display.Math\u001b[0m\u001b[39m object\u001b[0m\u001b[1m>\u001b[0m"
      ]
     },
     "metadata": {},
     "output_type": "display_data"
    },
    {
     "data": {
      "text/html": [
       "<pre style=\"white-space:pre;overflow-x:auto;line-height:normal;font-family:Menlo,'DejaVu Sans Mono',consolas,'Courier New',monospace\"></pre>\n"
      ],
      "text/plain": []
     },
     "metadata": {},
     "output_type": "display_data"
    },
    {
     "data": {
      "text/html": [
       "<br>"
      ],
      "text/plain": [
       "\u001b[1m<\u001b[0m\u001b[1;95mIPython.core.display.HTML\u001b[0m\u001b[39m object\u001b[0m\u001b[1m>\u001b[0m"
      ]
     },
     "metadata": {},
     "output_type": "display_data"
    }
   ],
   "source": [
    "save_eq(eq, file_name=file_name, subs={'port':''}, replace_latex=replace_latex)"
   ]
  },
  {
   "cell_type": "code",
   "execution_count": 33,
   "id": "ed681833-abba-4795-abb2-93d8508efb1a",
   "metadata": {},
   "outputs": [
    {
     "name": "stdout",
     "output_type": "stream",
     "text": [
      "\n",
      "\\begin{equation}\n",
      "\\label{eq:N_R_semiempirical}\n",
      "\\input{equations/mathematical_model_kinetics.N_R_semiempirical}\n",
      "\\end{equation}\n",
      "%\n",
      "\\begin{equation}\n",
      "\\label{eq:Y_R_semiempirical}\n",
      "\\input{equations/mathematical_model_kinetics.Y_R_semiempirical}\n",
      "\\end{equation}\n",
      "%\n",
      "\\begin{equation}\n",
      "\\label{eq:X_R_semiempirical}\n",
      "\\input{equations/mathematical_model_kinetics.X_R_semiempirical}\n",
      "\\end{equation}\n",
      "%\n",
      "\\begin{equation}\n",
      "\\label{eq:D_R_semiempirical}\n",
      "\\input{equations/mathematical_model_kinetics.D_R_semiempirical}\n",
      "\\end{equation}\n",
      "%\n",
      "\\begin{equation}\n",
      "\\label{eq:C_D_C_semiempirical}\n",
      "\\input{equations/mathematical_model_kinetics.C_D_C_semiempirical}\n",
      "\\end{equation}\n",
      "%\n",
      "\\begin{equation}\n",
      "\\label{eq:C_D0_C_semiempirical}\n",
      "\\input{equations/mathematical_model_kinetics.C_D0_C_semiempirical}\n",
      "\\end{equation}\n",
      "%\n",
      "\\begin{equation}\n",
      "\\label{eq:C_F_C_semiempirical}\n",
      "\\input{equations/mathematical_model_kinetics.C_F_C_semiempirical}\n",
      "\\end{equation}\n",
      "%\n",
      "\\begin{equation}\n",
      "\\label{eq:Re_F_C_semiempirical}\n",
      "\\input{equations/mathematical_model_kinetics.Re_F_C_semiempirical}\n",
      "\\end{equation}\n",
      "%\n",
      "\\begin{equation}\n",
      "\\label{eq:C_D_U_semiempirical}\n",
      "\\input{equations/mathematical_model_kinetics.C_D_U_semiempirical}\n",
      "\\end{equation}\n",
      "%\n",
      "\\begin{equation}\n",
      "\\label{eq:C_D0_U_semiempirical}\n",
      "\\input{equations/mathematical_model_kinetics.C_D0_U_semiempirical}\n",
      "\\end{equation}\n",
      "%\n",
      "\\begin{equation}\n",
      "\\label{eq:C_F_U_semiempirical}\n",
      "\\input{equations/mathematical_model_kinetics.C_F_U_semiempirical}\n",
      "\\end{equation}\n",
      "%\n",
      "\\begin{equation}\n",
      "\\label{eq:Re_F_U_semiempirical}\n",
      "\\input{equations/mathematical_model_kinetics.Re_F_U_semiempirical}\n",
      "\\end{equation}\n",
      "%\n",
      "\\begin{equation}\n",
      "\\label{eq:alpha_f_semiempirical}\n",
      "\\input{equations/mathematical_model_kinetics.alpha_f_semiempirical}\n",
      "\\end{equation}\n",
      "%\n",
      "\\begin{equation}\n",
      "\\label{eq:L_R_semiempirical}\n",
      "\\input{equations/mathematical_model_kinetics.L_R_semiempirical}\n",
      "\\end{equation}\n",
      "%\n",
      "\\begin{equation}\n",
      "\\label{eq:L_R_C_semiempirical}\n",
      "\\input{equations/mathematical_model_kinetics.L_R_C_semiempirical}\n",
      "\\end{equation}\n",
      "%\n",
      "\\begin{equation}\n",
      "\\label{eq:V_R_C_semiempirical}\n",
      "\\input{equations/mathematical_model_kinetics.V_R_C_semiempirical}\n",
      "\\end{equation}\n",
      "%\n",
      "\\begin{equation}\n",
      "\\label{eq:lambda_R_semiempirical}\n",
      "\\input{equations/mathematical_model_kinetics.lambda_R_semiempirical}\n",
      "\\end{equation}\n",
      "%\n",
      "\\begin{equation}\n",
      "\\label{eq:f_semiempirical}\n",
      "\\input{equations/mathematical_model_kinetics.f_semiempirical}\n",
      "\\end{equation}\n",
      "%\n",
      "\\begin{equation}\n",
      "\\label{eq:d_semiempirical}\n",
      "\\input{equations/mathematical_model_kinetics.d_semiempirical}\n",
      "\\end{equation}\n",
      "%\n",
      "\\begin{equation}\n",
      "\\label{eq:c_semiempirical}\n",
      "\\input{equations/mathematical_model_kinetics.c_semiempirical}\n",
      "\\end{equation}\n",
      "%\n",
      "\\begin{equation}\n",
      "\\label{eq:L_R_U_semiempirical}\n",
      "\\input{equations/mathematical_model_kinetics.L_R_U_semiempirical}\n",
      "\\end{equation}\n",
      "%\n",
      "\\begin{equation}\n",
      "\\label{eq:C_L_semiempirical}\n",
      "\\input{equations/mathematical_model_kinetics.C_L_semiempirical}\n",
      "\\end{equation}\n",
      "%\n",
      "\\begin{equation}\n",
      "\\label{eq:lambda_gap_semiempirical}\n",
      "\\input{equations/mathematical_model_kinetics.lambda_gap_semiempirical}\n",
      "\\end{equation}\n",
      "%\n",
      "\\begin{equation}\n",
      "\\label{eq:B_0_semiempirical}\n",
      "\\input{equations/mathematical_model_kinetics.B_0_semiempirical}\n",
      "\\end{equation}\n",
      "%\n",
      "\\begin{equation}\n",
      "\\label{eq:B_s_semiempirical}\n",
      "\\input{equations/mathematical_model_kinetics.B_s_semiempirical}\n",
      "\\end{equation}\n",
      "%\n",
      "\\begin{equation}\n",
      "\\label{eq:u_s_semiempirical}\n",
      "\\input{equations/mathematical_model_kinetics.u_s_semiempirical}\n",
      "\\end{equation}\n",
      "%\n",
      "\\begin{equation}\n",
      "\\label{eq:C_N_semiempirical}\n",
      "\\input{equations/mathematical_model_kinetics.C_N_semiempirical}\n",
      "\\end{equation}\n",
      "%\n",
      "\\begin{equation}\n",
      "\\label{eq:alpha_semiempirical}\n",
      "\\input{equations/mathematical_model_kinetics.alpha_semiempirical}\n",
      "\\end{equation}\n",
      "%\n",
      "\\begin{equation}\n",
      "\\label{eq:gamma_semiempirical}\n",
      "\\input{equations/mathematical_model_kinetics.gamma_semiempirical}\n",
      "\\end{equation}\n",
      "%\n",
      "\\begin{equation}\n",
      "\\label{eq:C_L_max_semiempirical}\n",
      "\\input{equations/mathematical_model_kinetics.C_L_max_semiempirical}\n",
      "\\end{equation}\n",
      "%\n",
      "\\begin{equation}\n",
      "\\label{eq:alpha_s_semiempirical}\n",
      "\\input{equations/mathematical_model_kinetics.alpha_s_semiempirical}\n",
      "\\end{equation}\n",
      "%\n",
      "\\begin{equation}\n",
      "\\label{eq:dC_L_dalpha_semiempirical}\n",
      "\\input{equations/mathematical_model_kinetics.dC_L_dalpha_semiempirical}\n",
      "\\end{equation}\n",
      "%\n",
      "\\begin{equation}\n",
      "\\label{eq:a_0_semiempirical}\n",
      "\\input{equations/mathematical_model_kinetics.a_0_semiempirical}\n",
      "\\end{equation}\n",
      "%\n",
      "\\begin{equation}\n",
      "\\label{eq:C_D_crossflow_semiempirical}\n",
      "\\input{equations/mathematical_model_kinetics.C_D_crossflow_semiempirical}\n",
      "\\end{equation}\n",
      "%\n",
      "\\begin{equation}\n",
      "\\label{eq:lambda__semiempirical}\n",
      "\\input{equations/mathematical_model_kinetics.lambda__semiempirical}\n",
      "\\end{equation}\n",
      "%\n",
      "\\begin{equation}\n",
      "\\label{eq:AR_e_semiempirical}\n",
      "\\input{equations/mathematical_model_kinetics.AR_e_semiempirical}\n",
      "\\end{equation}\n",
      "%\n",
      "\\begin{equation}\n",
      "\\label{eq:AR_g_semiempirical}\n",
      "\\input{equations/mathematical_model_kinetics.AR_g_semiempirical}\n",
      "\\end{equation}\n",
      "%\n",
      "\\begin{equation}\n",
      "\\label{eq:V_R_U_semiempirical}\n",
      "\\input{equations/mathematical_model_kinetics.V_R_U_semiempirical}\n",
      "\\end{equation}\n",
      "%\n",
      "\\begin{equation}\n",
      "\\label{eq:V_R_y_semiempirical}\n",
      "\\input{equations/mathematical_model_kinetics.V_R_y_semiempirical}\n",
      "\\end{equation}\n",
      "%\n",
      "\\begin{equation}\n",
      "\\label{eq:kappa_v_tot_semiempirical}\n",
      "\\input{equations/mathematical_model_kinetics.kappa_v_tot_semiempirical}\n",
      "\\end{equation}\n",
      "%\n",
      "\\begin{equation}\n",
      "\\label{eq:kappa_r_tot_semiempirical}\n",
      "\\input{equations/mathematical_model_kinetics.kappa_r_tot_semiempirical}\n",
      "\\end{equation}\n",
      "%\n",
      "\\begin{equation}\n",
      "\\label{eq:gamma_g_semiempirical}\n",
      "\\input{equations/mathematical_model_kinetics.gamma_g_semiempirical}\n",
      "\\end{equation}\n",
      "%\n",
      "\\begin{equation}\n",
      "\\label{eq:V_R_x_C_semiempirical}\n",
      "\\input{equations/mathematical_model_kinetics.V_R_x_C_semiempirical}\n",
      "\\end{equation}\n",
      "%\n",
      "\\begin{equation}\n",
      "\\label{eq:V_x_corr_semiempirical}\n",
      "\\input{equations/mathematical_model_kinetics.V_x_corr_semiempirical}\n",
      "\\end{equation}\n",
      "%\n",
      "\\begin{equation}\n",
      "\\label{eq:r_Delta_semiempirical}\n",
      "\\input{equations/mathematical_model_kinetics.r_Delta_semiempirical}\n",
      "\\end{equation}\n",
      "%\n",
      "\\begin{equation}\n",
      "\\label{eq:V_x_C_semiempirical}\n",
      "\\input{equations/mathematical_model_kinetics.V_x_C_semiempirical}\n",
      "\\end{equation}\n",
      "%\n",
      "\\begin{equation}\n",
      "\\label{eq:r_x_semiempirical}\n",
      "\\input{equations/mathematical_model_kinetics.r_x_semiempirical}\n",
      "\\end{equation}\n",
      "%\n",
      "\\begin{equation}\n",
      "\\label{eq:r_infty_semiempirical}\n",
      "\\input{equations/mathematical_model_kinetics.r_infty_semiempirical}\n",
      "\\end{equation}\n",
      "%\n",
      "\\begin{equation}\n",
      "\\label{eq:V_infty_semiempirical}\n",
      "\\input{equations/mathematical_model_kinetics.V_infty_semiempirical}\n",
      "\\end{equation}\n",
      "%\n",
      "\\begin{equation}\n",
      "\\label{eq:C_Th_semiempirical}\n",
      "\\input{equations/mathematical_model_kinetics.C_Th_semiempirical}\n",
      "\\end{equation}\n",
      "%\n",
      "\\begin{equation}\n",
      "\\label{eq:V_R_x_U_semiempirical}\n",
      "\\input{equations/mathematical_model_kinetics.V_R_x_U_semiempirical}\n",
      "\\end{equation}\n",
      "%\n",
      "\\begin{equation}\n",
      "\\label{eq:V_x_U_semiempirical}\n",
      "\\input{equations/mathematical_model_kinetics.V_x_U_semiempirical}\n",
      "\\end{equation}\n",
      "%\n",
      "\\begin{equation}\n",
      "\\label{eq:V_A_semiempirical}\n",
      "\\input{equations/mathematical_model_kinetics.V_A_semiempirical}\n",
      "\\end{equation}\n",
      "%\n"
     ]
    }
   ],
   "source": [
    "s_latex = \"\"\n",
    "for name in keys:\n",
    "    eq = rudder.equations[name]\n",
    "    name_clean = name.replace('_port','')\n",
    "    file_name = f\"{name_clean}_semiempirical\"\n",
    "    \n",
    "    eq_latex = fr\"\"\"\n",
    "\\begin{{equation}}\n",
    "\\label{{eq:{file_name}}}\n",
    "\\input{{equations/mathematical_model_kinetics.{file_name}}}\n",
    "\\end{{equation}}\n",
    "%\"\"\"\n",
    "    s_latex+=eq_latex\n",
    "\n",
    "print(s_latex)"
   ]
  },
  {
   "cell_type": "markdown",
   "id": "e695bff4-b3c3-4b27-9459-826ed72cbc93",
   "metadata": {},
   "source": [
    "## Nomenclature"
   ]
  },
  {
   "cell_type": "code",
   "execution_count": 34,
   "id": "74532837-614e-4dc1-9442-c2b96b2514b2",
   "metadata": {},
   "outputs": [],
   "source": [
    "df_nomenclature = pd.DataFrame(columns=['LaTeX','Description','file_names'])\n",
    "for lhs, eq in paper.equations.items():\n",
    "    for symbol in eq['equation'].free_symbols:\n",
    "        if symbol in df_nomenclature.index:\n",
    "            df_nomenclature.loc[symbol,'file_names'].append(eq['file_name'])\n",
    "        else:\n",
    "            df_nomenclature.loc[symbol,'file_names'] = [eq['file_name']]\n",
    "\n",
    "subs = {sp.Symbol(str(row['symbol'])):sp.Symbol(str(row['symbol']).replace('delta',r'\\delta')) for name, row in df_parameters.iterrows()}\n",
    "parameters = [prime(symbol.subs(subs)) for name,symbol in p.items()]\n",
    "\n",
    "index = list(set(df_nomenclature.index) - set(parameters))\n",
    "df_nomenclature = df_nomenclature.loc[index].copy()\n",
    "\n",
    "df_nomenclature.index = [sp.Symbol(symbol.name.replace('_port','')) for symbol in df_nomenclature.index]\n",
    "df_nomenclature.index = [sp.Symbol(symbol.name.replace('_stbd','')) for symbol in df_nomenclature.index]\n",
    "df_nomenclature.index = [sp.Symbol(symbol.name.replace('port','')) for symbol in df_nomenclature.index]\n",
    "df_nomenclature.index = [sp.Symbol(symbol.name.replace('stbd','')) for symbol in df_nomenclature.index]\n",
    "df_nomenclature.index = [sp.Symbol(symbol.name.replace(\"'\",'')) for symbol in df_nomenclature.index] \n",
    "\n",
    "df_nomenclature['LaTeX'] = [f\"${paper.to_latex(symbol)}$\" for symbol in df_nomenclature.index]\n",
    "df_nomenclature.sort_values(by='LaTeX', key=lambda col: col.str.lower(), inplace=True)\n",
    "\n",
    "df_nomenclature.index = df_nomenclature.index.astype(str)\n",
    "df_nomenclature.index = [re.sub(r\"^{\", \"\", s) for s in df_nomenclature.index]\n",
    "df_nomenclature.index = [re.sub(r\"}$\", \"\", s) for s in df_nomenclature.index]\n",
    "df_nomenclature.index = [s.replace(\"\\\\\",\"\") for s in df_nomenclature.index]\n",
    "\n",
    "mask = df_nomenclature['LaTeX'].str.contains(r'\\\\cancel')\n",
    "df_nomenclature = df_nomenclature.loc[~mask].copy()"
   ]
  },
  {
   "cell_type": "code",
   "execution_count": 35,
   "id": "69751eb6-8d52-42cc-b4fb-26a9a07adce1",
   "metadata": {},
   "outputs": [],
   "source": [
    "df_nomenclature_new = pd.DataFrame(columns=df_nomenclature.columns)\n",
    "\n",
    "files = {}\n",
    "\n",
    "for symbol, row in df_nomenclature.iterrows():\n",
    "\n",
    "    if symbol in df_nomenclature_new.index:\n",
    "        continue\n",
    "\n",
    "    df_nomenclature_new.loc[symbol] = row\n",
    "\n",
    "    \n",
    "    if len(df_nomenclature.loc[symbol]) > 1:\n",
    "        file_names_all = []\n",
    "        for file_names in df_nomenclature.loc[symbol,'file_names']:\n",
    "            if isinstance(file_names, list):\n",
    "                file_names_all+=file_names\n",
    "            else:\n",
    "                file_names_all.append(file_names)\n",
    "\n",
    "        files[symbol] = list(set(file_names_all))\n",
    "\n",
    "df_nomenclature_new['file_names'] = files"
   ]
  },
  {
   "cell_type": "markdown",
   "id": "5e1db58a-fe60-4c4c-95d9-507b38a78361",
   "metadata": {},
   "source": [
    "### Parse the LaTeX for equation references"
   ]
  },
  {
   "cell_type": "code",
   "execution_count": 36,
   "id": "9da21707-1968-4c4d-be47-66ef793fb85e",
   "metadata": {},
   "outputs": [
    {
     "data": {
      "text/html": [
       "<pre style=\"white-space:pre;overflow-x:auto;line-height:normal;font-family:Menlo,'DejaVu Sans Mono',consolas,'Courier New',monospace\"></pre>\n"
      ],
      "text/plain": []
     },
     "metadata": {},
     "output_type": "display_data"
    },
    {
     "data": {
      "text/plain": [
       "\u001b[32m'gamma_g_semiempirical'\u001b[0m"
      ]
     },
     "execution_count": 36,
     "metadata": {},
     "output_type": "execute_result"
    }
   ],
   "source": [
    "s = r\"\\input{equations/mathematical_model_kinetics.gamma_g_semiempirical}\"\n",
    "result = re.search(r\"\\\\input\\{equations/mathematical_model_kinetics\\.([^}]+)\\}\", s)\n",
    "result.group(1)"
   ]
  },
  {
   "cell_type": "code",
   "execution_count": 37,
   "id": "8fa659cb-4981-4fe1-a14d-820f31a99dc1",
   "metadata": {},
   "outputs": [
    {
     "name": "stdout",
     "output_type": "stream",
     "text": [
      "gamma_g_semiempirical\n"
     ]
    }
   ],
   "source": [
    "for result in re.finditer(r\"\\\\input\\{equations/mathematical_model_kinetics\\.([^}]+)\\}\", s):\n",
    "    print(result.group(1))"
   ]
  },
  {
   "cell_type": "code",
   "execution_count": 38,
   "id": "51c3281f-02c7-4d5c-860d-a261fe097a99",
   "metadata": {},
   "outputs": [
    {
     "data": {
      "text/html": [
       "<pre style=\"white-space:pre;overflow-x:auto;line-height:normal;font-family:Menlo,'DejaVu Sans Mono',consolas,'Courier New',monospace\"></pre>\n"
      ],
      "text/plain": []
     },
     "metadata": {},
     "output_type": "display_data"
    },
    {
     "data": {
      "text/plain": [
       "\u001b[32m'/home/maa/dev/PHD/docs/System-identification-for-a-physically-correct-ship-manoeuvring-model-in-wind-conditions'\u001b[0m"
      ]
     },
     "execution_count": 38,
     "metadata": {},
     "output_type": "execute_result"
    }
   ],
   "source": [
    "paper.paper_path"
   ]
  },
  {
   "cell_type": "code",
   "execution_count": 39,
   "id": "5b93fc1a-4099-47db-816d-a9e4803f4b49",
   "metadata": {},
   "outputs": [],
   "source": [
    "equations = []\n",
    "for file_name in os.listdir(paper.paper_path):\n",
    "    if not os.path.splitext(file_name)[-1] == '.tex':\n",
    "        continue\n",
    "\n",
    "    file_path = os.path.join(paper.paper_path, file_name)\n",
    "    with open(file_path, mode='r') as file:\n",
    "        s = file.read()\n",
    "\n",
    "    for result in re.finditer(r\"\\\\input\\{equations/mathematical_model_kinetics\\.([^}]+)\\}\", s):\n",
    "        equations.append(result.group(1))\n",
    "\n",
    "equations = set(equations)"
   ]
  },
  {
   "cell_type": "code",
   "execution_count": 40,
   "id": "fb90d844-bcfd-4225-a040-bdeb0c8f2197",
   "metadata": {},
   "outputs": [],
   "source": [
    "mask_active_symbols = [len(set(row['file_names']) & equations) > 0 for index, row in df_nomenclature_new.iterrows()]\n",
    "df_nomenclature_new = df_nomenclature_new.loc[mask_active_symbols].copy()\n",
    "df_nomenclature_new.drop(index=['dC_L_dalpha'], inplace=True)"
   ]
  },
  {
   "cell_type": "code",
   "execution_count": 41,
   "id": "fbc790f2-cf66-48a6-8c71-d119fd65c5fc",
   "metadata": {},
   "outputs": [],
   "source": [
    "descriptions = {\n",
    "    'alpha' : 'Rudder angle of attack',\n",
    "    'alpha_f': 'Rudder inflow angle',\n",
    "    'delta': 'Rudder angle',\n",
    "    'delta_lim': 'Rudder gap limit',\n",
    "    'dot{r': 'Yaw acceleration',\n",
    "    'dot{u': 'Surge acceleration',\n",
    "    'dot{v': 'Sway acceleration',\n",
    "    'gamma': 'Prop. induced angle',\n",
    "    'gamma_0': 'Rudder initial inflow',\n",
    "    'gamma_g': 'Geometric inflow angle',\n",
    "    'kappa_r_gamma_g': '$\\kappa_r$ nonlinear',\n",
    "    'kappa_r_tot': '$\\kappa_r$ total',\n",
    "    'kappa_r': 'Yaw rate flow straightening',\n",
    "    'kappa_v_gamma_g': '$\\kappa_v$ nonlinear',\n",
    "    'kappa_v_tot': '$\\kappa_v$ total',\n",
    "    'kappa_v': 'Drift flow straightening',\n",
    "    'lambda_gap': 'Rudder gap effec',\n",
    "    'lambda_R': 'limited radius of the prop. slipstream',\n",
    "    'lambda_': 'Rudder taper ratio',\n",
    "    'nu': 'Kinematic viscosity',\n",
    "    'Omega': 'Rudder sweep angle',\n",
    "    'rho': 'Water density',\n",
    "    'a_0': 'Section lift curve slope',\n",
    "    'a_H': 'Sway rudder interaction',\n",
    "    'A_R_C': 'Rudder area covered',\n",
    "    'A_R_U': 'Rudder area uncovered',\n",
    "    'A_R': 'Rudder area',\n",
    "    'AR_e': 'Effective aspect ratio',\n",
    "    'AR_g': 'Geometric aspect ratio',\n",
    "    'b_R': 'Rudder span',\n",
    "    'c': 'Rudder chord',\n",
    "    'C_D_C': 'Drag coeff. covered',\n",
    "    'C_D_tune': 'Drag coeff. tunnig',\n",
    "    'C_D_U': 'Drag coeff. uncovered',\n",
    "    'C_D0_C': 'Initial drag coeff. covered',\n",
    "    'C_D0_tune': 'Initial drag coeff. tune',\n",
    "    'C_D0_U': 'Initial drag coeff. uncovered',\n",
    "    'C_DC': 'Rudder cross-flow drag',\n",
    "    'C_F_C': 'Friction coeff. covered',\n",
    "    'C_F_U': 'Friction coeff. uncovered',\n",
    "    'C_L': 'Lift coeff.',\n",
    "    'c_r': 'Rudder root choord',\n",
    "    'C_Th': 'Thrust coeff.',\n",
    "    'c_t': 'Rudder tip choord',\n",
    "    'd': 'lift diminished variable',\n",
    "    'D_R': 'Rudder drag',\n",
    "    'dC_L_dalpha': 'Lift slope',\n",
    "    'e_0': 'Oswald efficiency factor',\n",
    "    'f': 'lift diminished variable',\n",
    "    'I_z': 'Yaw mass intertia',\n",
    "    'L_R_C': 'Lift covered part',\n",
    "    'L_R_U': 'Lift uncovered part',\n",
    "    'L_R': 'Rudder lift',\n",
    "    'm': 'Ship mass',\n",
    "    'N_{dot{r}': 'Yaw added mass',\n",
    "    'N_{dot{v}': 'Yaw added mass',\n",
    "    'N_D': 'Yaw damping moment',\n",
    "    'N_H': 'Hull yawing moment',\n",
    "    'N_P': 'Prop. yawing moment',\n",
    "    'N_RHI': 'Rudder hull interaction',\n",
    "    'N_R': 'Rudder yawing moment',\n",
    "    'r': 'Yaw rate',\n",
    "    'r_0': 'Prop. radius',\n",
    "    'r_Delta': 'Turbulent mixing',\n",
    "    'r_infty': 'Prop. slipstream',\n",
    "    'r_x': 'Prop. slipstream at rudder',\n",
    "    'Re_F_C': 'Reynold number covered',\n",
    "    'Re_F_U': 'Reynold number uncovered',\n",
    "    's': 'Rudder gap coefficient',\n",
    "    'thrust': 'Thrust',\n",
    "    'u': 'Surge vel.',\n",
    "    'v': 'Sway vel.',\n",
    "    'V_infty': 'Prop. slipstream',\n",
    "    'V_A': 'Apparent vel.',\n",
    "    'V_R_C': 'Rudder vel. covered',\n",
    "    'V_R_U': 'Rudder vel. uncovered',\n",
    "    'V_R_x_C': 'Axial vel. covered',\n",
    "    'V_R_x_U': 'Axial vel. uncovered',\n",
    "    'V_R_y': 'Rudder transverse vel.',\n",
    "    'V_x_corr': 'Turbulent mixing',\n",
    "    'V_x_C': 'No turbulent mixing',\n",
    "    'V_x_U': 'No turbulent mixing',\n",
    "    'w_f': 'Taylor wake',\n",
    "    'x': 'Prop. to rudder',\n",
    "    'X_{dot{u}': 'Surge added mass',\n",
    "    'X_D': 'Surge damping force',\n",
    "    'x_G': 'Center of gravity',\n",
    "    'x_H': 'Yaw rudder interaction',\n",
    "    'X_H': 'Hull surge force',\n",
    "    'X_P': 'Prop. surge force',\n",
    "    'x_R': 'Rudder lever',\n",
    "    'X_R': 'Rudder surge force',\n",
    "    'X_{thrust': 'Thrust deduction',\n",
    "    'Y_{dot{r}': 'Sway added mass',\n",
    "    'Y_{dot{v}': 'Sway added mass',\n",
    "    'Y_D': 'Sway damping force',\n",
    "    'Y_H': 'Hull sway force',\n",
    "    'y_p': 'Propeller lever',\n",
    "    'Y_P': 'Propeller sway force',\n",
    "    'Y_RHI': 'Rudder hull interaction',\n",
    "    'Y_R': 'Rudder sway force',\n",
    "    'y_R': 'Rudder lever'\n",
    "}\n",
    "descriptions=pd.Series(descriptions)"
   ]
  },
  {
   "cell_type": "code",
   "execution_count": 42,
   "id": "2a27f7bd-3980-44a4-a421-70bac09c30d3",
   "metadata": {},
   "outputs": [],
   "source": [
    "#{f\"{index}\":'' for index in df_nomenclature_new.index}"
   ]
  },
  {
   "cell_type": "code",
   "execution_count": 43,
   "id": "7fe1469a-d799-4876-8b5d-3812c44e69f7",
   "metadata": {},
   "outputs": [
    {
     "data": {
      "text/html": [
       "<pre style=\"white-space:pre;overflow-x:auto;line-height:normal;font-family:Menlo,'DejaVu Sans Mono',consolas,'Courier New',monospace\"></pre>\n"
      ],
      "text/plain": []
     },
     "metadata": {},
     "output_type": "display_data"
    },
    {
     "data": {
      "text/plain": [
       "\n",
       "\u001b[1;35mIndex\u001b[0m\u001b[1m(\u001b[0m\u001b[1m[\u001b[0m\u001b[32m'alpha'\u001b[0m, \u001b[32m'alpha_f'\u001b[0m, \u001b[32m'delta'\u001b[0m, \u001b[32m'delta_lim'\u001b[0m, \u001b[32m'dot\u001b[0m\u001b[32m{\u001b[0m\u001b[32mr'\u001b[0m, \u001b[32m'dot\u001b[0m\u001b[32m{\u001b[0m\u001b[32mu'\u001b[0m, \u001b[32m'dot\u001b[0m\u001b[32m{\u001b[0m\u001b[32mv'\u001b[0m, \u001b[32m'gamma'\u001b[0m, \u001b[32m'gamma_0'\u001b[0m, \u001b[32m'gamma_g'\u001b[0m,\n",
       "       \u001b[33m...\u001b[0m\n",
       "       \u001b[32m'X_\u001b[0m\u001b[32m{\u001b[0m\u001b[32mthrust'\u001b[0m, \u001b[32m'Y_\u001b[0m\u001b[32m{\u001b[0m\u001b[32mdot\u001b[0m\u001b[32m{\u001b[0m\u001b[32mr\u001b[0m\u001b[32m}\u001b[0m\u001b[32m'\u001b[0m, \u001b[32m'Y_\u001b[0m\u001b[32m{\u001b[0m\u001b[32mdot\u001b[0m\u001b[32m{\u001b[0m\u001b[32mv\u001b[0m\u001b[32m}\u001b[0m\u001b[32m'\u001b[0m, \u001b[32m'Y_D'\u001b[0m, \u001b[32m'Y_H'\u001b[0m, \u001b[32m'Y_P'\u001b[0m, \u001b[32m'y_p'\u001b[0m, \u001b[32m'Y_RHI'\u001b[0m, \u001b[32m'Y_R'\u001b[0m, \u001b[32m'y_R'\u001b[0m\u001b[1m]\u001b[0m, \u001b[33mdtype\u001b[0m=\u001b[32m'object'\u001b[0m, \u001b[33mlength\u001b[0m=\u001b[1;36m101\u001b[0m\u001b[1m)\u001b[0m"
      ]
     },
     "execution_count": 43,
     "metadata": {},
     "output_type": "execute_result"
    }
   ],
   "source": [
    "df_nomenclature_new.index"
   ]
  },
  {
   "cell_type": "code",
   "execution_count": 44,
   "id": "8e6194a5-3b1b-4399-9903-a70af4f47f48",
   "metadata": {},
   "outputs": [],
   "source": [
    "df_nomenclature_new['Description'] = descriptions"
   ]
  },
  {
   "cell_type": "code",
   "execution_count": 45,
   "id": "8df02303-1d9e-4f48-9f69-1bd430091622",
   "metadata": {},
   "outputs": [
    {
     "data": {
      "text/html": [
       "<pre style=\"white-space:pre;overflow-x:auto;line-height:normal;font-family:Menlo,'DejaVu Sans Mono',consolas,'Courier New',monospace\"></pre>\n"
      ],
      "text/plain": []
     },
     "metadata": {},
     "output_type": "display_data"
    },
    {
     "data": {
      "text/html": [
       "<div>\n",
       "<style scoped>\n",
       "    .dataframe tbody tr th:only-of-type {\n",
       "        vertical-align: middle;\n",
       "    }\n",
       "\n",
       "    .dataframe tbody tr th {\n",
       "        vertical-align: top;\n",
       "    }\n",
       "\n",
       "    .dataframe thead th {\n",
       "        text-align: right;\n",
       "    }\n",
       "</style>\n",
       "<table border=\"1\" class=\"dataframe\">\n",
       "  <thead>\n",
       "    <tr style=\"text-align: right;\">\n",
       "      <th></th>\n",
       "      <th>LaTeX</th>\n",
       "      <th>Description</th>\n",
       "      <th>file_names</th>\n",
       "    </tr>\n",
       "  </thead>\n",
       "  <tbody>\n",
       "    <tr>\n",
       "      <th>alpha</th>\n",
       "      <td>$\\alpha$</td>\n",
       "      <td>Rudder angle of attack</td>\n",
       "      <td>[B_s_semiempirical, C_L_semiempirical, alpha_semiempirical, u_s_semiempirical]</td>\n",
       "    </tr>\n",
       "    <tr>\n",
       "      <th>alpha_f</th>\n",
       "      <td>$\\alpha_{f}$</td>\n",
       "      <td>Rudder inflow angle</td>\n",
       "      <td>[alpha_f_semiempirical, X_R_semiempirical, Y_R_semiempirical]</td>\n",
       "    </tr>\n",
       "    <tr>\n",
       "      <th>delta</th>\n",
       "      <td>$\\delta$</td>\n",
       "      <td>Rudder angle</td>\n",
       "      <td>[N_R_math, Y_R_math, lambda_gap_semiempirical, X_R_math, alpha_semiempirical]</td>\n",
       "    </tr>\n",
       "    <tr>\n",
       "      <th>delta_lim</th>\n",
       "      <td>$\\delta_{lim}$</td>\n",
       "      <td>Rudder gap limit</td>\n",
       "      <td>[lambda_gap_semiempirical]</td>\n",
       "    </tr>\n",
       "    <tr>\n",
       "      <th>dot{r</th>\n",
       "      <td>$\\dot{r}$</td>\n",
       "      <td>Yaw acceleration</td>\n",
       "      <td>[Y, N]</td>\n",
       "    </tr>\n",
       "    <tr>\n",
       "      <th>dot{u</th>\n",
       "      <td>$\\dot{u}$</td>\n",
       "      <td>Surge acceleration</td>\n",
       "      <td>[X]</td>\n",
       "    </tr>\n",
       "    <tr>\n",
       "      <th>dot{v</th>\n",
       "      <td>$\\dot{v}$</td>\n",
       "      <td>Sway acceleration</td>\n",
       "      <td>[Y, N]</td>\n",
       "    </tr>\n",
       "    <tr>\n",
       "      <th>gamma</th>\n",
       "      <td>$\\gamma$</td>\n",
       "      <td>Prop. induced angle</td>\n",
       "      <td>[gamma_semiempirical, alpha_f_semiempirical, alpha_semiempirical]</td>\n",
       "    </tr>\n",
       "    <tr>\n",
       "      <th>gamma_0</th>\n",
       "      <td>$\\gamma_{0}$</td>\n",
       "      <td>Rudder initial inflow</td>\n",
       "      <td>[alpha_f_semiempirical, alpha_semiempirical]</td>\n",
       "    </tr>\n",
       "    <tr>\n",
       "      <th>gamma_g</th>\n",
       "      <td>$\\gamma_{g}$</td>\n",
       "      <td>Geometric inflow angle</td>\n",
       "      <td>[gamma_g_semiempirical, kappa_r_tot_semiempirical, kappa_v_tot_semiempirical]</td>\n",
       "    </tr>\n",
       "    <tr>\n",
       "      <th>kappa_r_gamma_g</th>\n",
       "      <td>$\\kappa_{r \\gamma g}$</td>\n",
       "      <td>$\\kappa_r$ nonlinear</td>\n",
       "      <td>[kappa_r_tot_semiempirical]</td>\n",
       "    </tr>\n",
       "    <tr>\n",
       "      <th>kappa_r_tot</th>\n",
       "      <td>$\\kappa_{r tot}$</td>\n",
       "      <td>$\\kappa_r$ total</td>\n",
       "      <td>[V_R_y_semiempirical, kappa_r_tot_semiempirical]</td>\n",
       "    </tr>\n",
       "    <tr>\n",
       "      <th>kappa_r</th>\n",
       "      <td>$\\kappa_{r}$</td>\n",
       "      <td>Yaw rate flow straightening</td>\n",
       "      <td>[kappa_r_tot_semiempirical]</td>\n",
       "    </tr>\n",
       "    <tr>\n",
       "      <th>kappa_v_gamma_g</th>\n",
       "      <td>$\\kappa_{v \\gamma g}$</td>\n",
       "      <td>$\\kappa_v$ nonlinear</td>\n",
       "      <td>[kappa_v_tot_semiempirical]</td>\n",
       "    </tr>\n",
       "    <tr>\n",
       "      <th>kappa_v_tot</th>\n",
       "      <td>$\\kappa_{v tot}$</td>\n",
       "      <td>$\\kappa_v$ total</td>\n",
       "      <td>[V_R_y_semiempirical, kappa_v_tot_semiempirical]</td>\n",
       "    </tr>\n",
       "    <tr>\n",
       "      <th>kappa_v</th>\n",
       "      <td>$\\kappa_{v}$</td>\n",
       "      <td>Drift flow straightening</td>\n",
       "      <td>[kappa_v_tot_semiempirical]</td>\n",
       "    </tr>\n",
       "    <tr>\n",
       "      <th>lambda_R</th>\n",
       "      <td>$\\lambda_{R}$</td>\n",
       "      <td>limited radius of the prop. slipstream</td>\n",
       "      <td>[lambda_R_semiempirical, L_R_C_semiempirical]</td>\n",
       "    </tr>\n",
       "    <tr>\n",
       "      <th>lambda_</th>\n",
       "      <td>$\\lambda_{}$</td>\n",
       "      <td>Rudder taper ratio</td>\n",
       "      <td>[lambda__semiempirical, C_D_crossflow_semiempirical]</td>\n",
       "    </tr>\n",
       "    <tr>\n",
       "      <th>nu</th>\n",
       "      <td>$\\nu$</td>\n",
       "      <td>Kinematic viscosity</td>\n",
       "      <td>[Re_F_C_semiempirical, Re_F_U_semiempirical]</td>\n",
       "    </tr>\n",
       "    <tr>\n",
       "      <th>Omega</th>\n",
       "      <td>$\\Omega$</td>\n",
       "      <td>Rudder sweep angle</td>\n",
       "      <td>[dC_L_dalpha_semiempirical]</td>\n",
       "    </tr>\n",
       "    <tr>\n",
       "      <th>rho</th>\n",
       "      <td>$\\rho$</td>\n",
       "      <td>Water density</td>\n",
       "      <td>[L_R_U_semiempirical, C_Th_semiempirical, D_R_semiempirical, L_R_C_semiempirical]</td>\n",
       "    </tr>\n",
       "    <tr>\n",
       "      <th>a_0</th>\n",
       "      <td>$a_{0}$</td>\n",
       "      <td>Section lift curve slope</td>\n",
       "      <td>[a_0_semiempirical, dC_L_dalpha_semiempirical]</td>\n",
       "    </tr>\n",
       "    <tr>\n",
       "      <th>a_H</th>\n",
       "      <td>$a_{H}$</td>\n",
       "      <td>Sway rudder interaction</td>\n",
       "      <td>[Y_RHI]</td>\n",
       "    </tr>\n",
       "    <tr>\n",
       "      <th>A_R_C</th>\n",
       "      <td>$A_{R C}$</td>\n",
       "      <td>Rudder area covered</td>\n",
       "      <td>[D_R_semiempirical, L_R_C_semiempirical]</td>\n",
       "    </tr>\n",
       "    <tr>\n",
       "      <th>A_R_U</th>\n",
       "      <td>$A_{R U}$</td>\n",
       "      <td>Rudder area uncovered</td>\n",
       "      <td>[D_R_semiempirical, L_R_U_semiempirical]</td>\n",
       "    </tr>\n",
       "    <tr>\n",
       "      <th>A_R</th>\n",
       "      <td>$A_{R}$</td>\n",
       "      <td>Rudder area</td>\n",
       "      <td>[AR_g_semiempirical]</td>\n",
       "    </tr>\n",
       "    <tr>\n",
       "      <th>AR_e</th>\n",
       "      <td>$AR_{e}$</td>\n",
       "      <td>Effective aspect ratio</td>\n",
       "      <td>[C_L_semiempirical, AR_e_semiempirical, C_L_max_semiempirical, alpha_s_semiempirical, C_D_C_semiempirical, C_D_U_semiempirical, dC_L_dalpha_semiempirical]</td>\n",
       "    </tr>\n",
       "    <tr>\n",
       "      <th>AR_g</th>\n",
       "      <td>$AR_{g}$</td>\n",
       "      <td>Geometric aspect ratio</td>\n",
       "      <td>[AR_e_semiempirical, AR_g_semiempirical]</td>\n",
       "    </tr>\n",
       "    <tr>\n",
       "      <th>b_R</th>\n",
       "      <td>$b_{R}$</td>\n",
       "      <td>Rudder span</td>\n",
       "      <td>[AR_g_semiempirical]</td>\n",
       "    </tr>\n",
       "    <tr>\n",
       "      <th>c</th>\n",
       "      <td>$c$</td>\n",
       "      <td>Rudder chord</td>\n",
       "      <td>[Re_F_C_semiempirical, f_semiempirical, Re_F_U_semiempirical, c_semiempirical]</td>\n",
       "    </tr>\n",
       "    <tr>\n",
       "      <th>C_D_C</th>\n",
       "      <td>$C_{D C}$</td>\n",
       "      <td>Drag coeff. covered</td>\n",
       "      <td>[C_D_C_semiempirical, D_R_semiempirical]</td>\n",
       "    </tr>\n",
       "    <tr>\n",
       "      <th>C_D_tune</th>\n",
       "      <td>$C_{D tune}$</td>\n",
       "      <td>Drag coeff. tunnig</td>\n",
       "      <td>[C_D_C_semiempirical, C_D_U_semiempirical]</td>\n",
       "    </tr>\n",
       "    <tr>\n",
       "      <th>C_D_U</th>\n",
       "      <td>$C_{D U}$</td>\n",
       "      <td>Drag coeff. uncovered</td>\n",
       "      <td>[C_D_U_semiempirical, D_R_semiempirical]</td>\n",
       "    </tr>\n",
       "    <tr>\n",
       "      <th>C_D0_C</th>\n",
       "      <td>$C_{D0 C}$</td>\n",
       "      <td>Initial drag coeff. covered</td>\n",
       "      <td>[C_D_C_semiempirical, C_D0_C_semiempirical]</td>\n",
       "    </tr>\n",
       "    <tr>\n",
       "      <th>C_D0_tune</th>\n",
       "      <td>$C_{D0 tune}$</td>\n",
       "      <td>Initial drag coeff. tune</td>\n",
       "      <td>[C_D0_U_semiempirical, C_D0_C_semiempirical]</td>\n",
       "    </tr>\n",
       "    <tr>\n",
       "      <th>C_D0_U</th>\n",
       "      <td>$C_{D0 U}$</td>\n",
       "      <td>Initial drag coeff. uncovered</td>\n",
       "      <td>[C_D0_U_semiempirical, C_D_U_semiempirical]</td>\n",
       "    </tr>\n",
       "    <tr>\n",
       "      <th>C_DC</th>\n",
       "      <td>$C_{DC}$</td>\n",
       "      <td>Rudder cross-flow drag</td>\n",
       "      <td>[C_L_semiempirical, C_L_max_semiempirical, C_D_crossflow_semiempirical]</td>\n",
       "    </tr>\n",
       "    <tr>\n",
       "      <th>C_F_C</th>\n",
       "      <td>$C_{F C}$</td>\n",
       "      <td>Friction coeff. covered</td>\n",
       "      <td>[C_F_C_semiempirical, C_D0_C_semiempirical]</td>\n",
       "    </tr>\n",
       "    <tr>\n",
       "      <th>C_F_U</th>\n",
       "      <td>$C_{F U}$</td>\n",
       "      <td>Friction coeff. uncovered</td>\n",
       "      <td>[C_F_U_semiempirical, C_D0_U_semiempirical]</td>\n",
       "    </tr>\n",
       "    <tr>\n",
       "      <th>C_L</th>\n",
       "      <td>$C_{L}$</td>\n",
       "      <td>Lift coeff.</td>\n",
       "      <td>[C_L_semiempirical, C_D_C_semiempirical, C_D_U_semiempirical, L_R_C_semiempirical, L_R_U_semiempirical]</td>\n",
       "    </tr>\n",
       "    <tr>\n",
       "      <th>c_r</th>\n",
       "      <td>$c_{r}$</td>\n",
       "      <td>Rudder root choord</td>\n",
       "      <td>[c_semiempirical, lambda__semiempirical]</td>\n",
       "    </tr>\n",
       "    <tr>\n",
       "      <th>C_Th</th>\n",
       "      <td>$C_{Th}$</td>\n",
       "      <td>Thrust coeff.</td>\n",
       "      <td>[C_Th_semiempirical, V_infty_semiempirical]</td>\n",
       "    </tr>\n",
       "    <tr>\n",
       "      <th>c_t</th>\n",
       "      <td>$c_{t}$</td>\n",
       "      <td>Rudder tip choord</td>\n",
       "      <td>[c_semiempirical, lambda__semiempirical]</td>\n",
       "    </tr>\n",
       "    <tr>\n",
       "      <th>d</th>\n",
       "      <td>$d$</td>\n",
       "      <td>lift diminished variable</td>\n",
       "      <td>[d_semiempirical, f_semiempirical]</td>\n",
       "    </tr>\n",
       "    <tr>\n",
       "      <th>D_R</th>\n",
       "      <td>$D_{R}$</td>\n",
       "      <td>Rudder drag</td>\n",
       "      <td>[X_R_semiempirical, D_R_semiempirical, Y_R_semiempirical]</td>\n",
       "    </tr>\n",
       "    <tr>\n",
       "      <th>e_0</th>\n",
       "      <td>$e_{0}$</td>\n",
       "      <td>Oswald efficiency factor</td>\n",
       "      <td>[C_D_C_semiempirical, C_D_U_semiempirical]</td>\n",
       "    </tr>\n",
       "    <tr>\n",
       "      <th>f</th>\n",
       "      <td>$f$</td>\n",
       "      <td>lift diminished variable</td>\n",
       "      <td>[f_semiempirical, lambda_R_semiempirical]</td>\n",
       "    </tr>\n",
       "    <tr>\n",
       "      <th>I_z</th>\n",
       "      <td>$I_{z}$</td>\n",
       "      <td>Yaw mass intertia</td>\n",
       "      <td>[N]</td>\n",
       "    </tr>\n",
       "    <tr>\n",
       "      <th>K_gap</th>\n",
       "      <td>$K_{gap}$</td>\n",
       "      <td>NaN</td>\n",
       "      <td>[C_L_semiempirical, lambda_gap_semiempirical]</td>\n",
       "    </tr>\n",
       "    <tr>\n",
       "      <th>L_R_C</th>\n",
       "      <td>$L_{R C}$</td>\n",
       "      <td>Lift covered part</td>\n",
       "      <td>[L_R_semiempirical, L_R_C_semiempirical]</td>\n",
       "    </tr>\n",
       "    <tr>\n",
       "      <th>L_R_U</th>\n",
       "      <td>$L_{R U}$</td>\n",
       "      <td>Lift uncovered part</td>\n",
       "      <td>[L_R_semiempirical, L_R_U_semiempirical]</td>\n",
       "    </tr>\n",
       "    <tr>\n",
       "      <th>L_R</th>\n",
       "      <td>$L_{R}$</td>\n",
       "      <td>Rudder lift</td>\n",
       "      <td>[X_R_semiempirical, L_R_semiempirical, Y_R_semiempirical]</td>\n",
       "    </tr>\n",
       "    <tr>\n",
       "      <th>m</th>\n",
       "      <td>$m$</td>\n",
       "      <td>Ship mass</td>\n",
       "      <td>[Y, N, X]</td>\n",
       "    </tr>\n",
       "    <tr>\n",
       "      <th>N_{dot{r}</th>\n",
       "      <td>$N_{\\dot{r}}$</td>\n",
       "      <td>Yaw added mass</td>\n",
       "      <td>[N]</td>\n",
       "    </tr>\n",
       "    <tr>\n",
       "      <th>N_{dot{v}</th>\n",
       "      <td>$N_{\\dot{v}}$</td>\n",
       "      <td>Yaw added mass</td>\n",
       "      <td>[N]</td>\n",
       "    </tr>\n",
       "    <tr>\n",
       "      <th>N_D</th>\n",
       "      <td>$N_{D}$</td>\n",
       "      <td>Yaw damping moment</td>\n",
       "      <td>[N_D, N]</td>\n",
       "    </tr>\n",
       "    <tr>\n",
       "      <th>N_H</th>\n",
       "      <td>$N_{H}$</td>\n",
       "      <td>Hull yawing moment</td>\n",
       "      <td>[N_H, N_D]</td>\n",
       "    </tr>\n",
       "    <tr>\n",
       "      <th>N_P</th>\n",
       "      <td>$N_{P}$</td>\n",
       "      <td>Prop. yawing moment</td>\n",
       "      <td>[N_D, N_P, N_P_port, N_P_stbd]</td>\n",
       "    </tr>\n",
       "    <tr>\n",
       "      <th>N_RHI</th>\n",
       "      <td>$N_{RHI}$</td>\n",
       "      <td>Rudder hull interaction</td>\n",
       "      <td>[N_D, N_RHI]</td>\n",
       "    </tr>\n",
       "    <tr>\n",
       "      <th>N_R</th>\n",
       "      <td>$N_{R}$</td>\n",
       "      <td>Rudder yawing moment</td>\n",
       "      <td>[N_R_semiempirical, N_R_math, N_D, N_RHI]</td>\n",
       "    </tr>\n",
       "    <tr>\n",
       "      <th>r</th>\n",
       "      <td>$r$</td>\n",
       "      <td>Yaw rate</td>\n",
       "      <td>[V_R_y_semiempirical, N_H, Y_R_math, N_R_math, V_R_x_C_semiempirical, gamma_g_semiempirical, X_H, X, V_R_x_U_semiempirical, N, Y, Y_H]</td>\n",
       "    </tr>\n",
       "    <tr>\n",
       "      <th>r_0</th>\n",
       "      <td>$r_{0}$</td>\n",
       "      <td>Prop. radius</td>\n",
       "      <td>[C_Th_semiempirical, r_x_semiempirical, r_infty_semiempirical]</td>\n",
       "    </tr>\n",
       "    <tr>\n",
       "      <th>r_Delta</th>\n",
       "      <td>$r_{\\Delta}$</td>\n",
       "      <td>Turbulent mixing</td>\n",
       "      <td>[d_semiempirical, r_Delta_semiempirical, V_x_corr_semiempirical]</td>\n",
       "    </tr>\n",
       "    <tr>\n",
       "      <th>r_infty</th>\n",
       "      <td>$r_{\\infty}$</td>\n",
       "      <td>Prop. slipstream</td>\n",
       "      <td>[V_x_C_semiempirical, r_infty_semiempirical, r_x_semiempirical]</td>\n",
       "    </tr>\n",
       "    <tr>\n",
       "      <th>r_x</th>\n",
       "      <td>$r_{x}$</td>\n",
       "      <td>Prop. slipstream at rudder</td>\n",
       "      <td>[r_x_semiempirical, d_semiempirical, V_x_C_semiempirical, V_x_corr_semiempirical]</td>\n",
       "    </tr>\n",
       "    <tr>\n",
       "      <th>Re_F_C</th>\n",
       "      <td>$Re_{F C}$</td>\n",
       "      <td>Reynold number covered</td>\n",
       "      <td>[C_F_C_semiempirical, Re_F_C_semiempirical]</td>\n",
       "    </tr>\n",
       "    <tr>\n",
       "      <th>Re_F_U</th>\n",
       "      <td>$Re_{F U}$</td>\n",
       "      <td>Reynold number uncovered</td>\n",
       "      <td>[C_F_U_semiempirical, Re_F_U_semiempirical]</td>\n",
       "    </tr>\n",
       "    <tr>\n",
       "      <th>s</th>\n",
       "      <td>$s$</td>\n",
       "      <td>Rudder gap coefficient</td>\n",
       "      <td>[lambda_gap_semiempirical]</td>\n",
       "    </tr>\n",
       "    <tr>\n",
       "      <th>thrust</th>\n",
       "      <td>$T$</td>\n",
       "      <td>Thrust</td>\n",
       "      <td>[X_P_port, C_Th_semiempirical, X_P_stbd]</td>\n",
       "    </tr>\n",
       "    <tr>\n",
       "      <th>u</th>\n",
       "      <td>$u$</td>\n",
       "      <td>Surge vel.</td>\n",
       "      <td>[Y, X_H, V_A_semiempirical, N]</td>\n",
       "    </tr>\n",
       "    <tr>\n",
       "      <th>v</th>\n",
       "      <td>$v$</td>\n",
       "      <td>Sway vel.</td>\n",
       "      <td>[V_R_y_semiempirical, N_H, Y_R_math, N_R_math, gamma_g_semiempirical, X_H, X, Y_H]</td>\n",
       "    </tr>\n",
       "    <tr>\n",
       "      <th>V_infty</th>\n",
       "      <td>$V_{\\infty}$</td>\n",
       "      <td>Prop. slipstream</td>\n",
       "      <td>[V_x_C_semiempirical, r_infty_semiempirical, V_infty_semiempirical]</td>\n",
       "    </tr>\n",
       "    <tr>\n",
       "      <th>V_A</th>\n",
       "      <td>$V_{A}$</td>\n",
       "      <td>Apparent vel.</td>\n",
       "      <td>[V_infty_semiempirical, V_x_corr_semiempirical, V_x_U_semiempirical, C_Th_semiempirical, lambda_R_semiempirical, r_Delta_semiempirical, V_A_semiempirical, r_infty_semiempirical]</td>\n",
       "    </tr>\n",
       "    <tr>\n",
       "      <th>V_R_C</th>\n",
       "      <td>$V_{R C}$</td>\n",
       "      <td>Rudder vel. covered</td>\n",
       "      <td>[Re_F_C_semiempirical, V_R_C_semiempirical, D_R_semiempirical, L_R_C_semiempirical]</td>\n",
       "    </tr>\n",
       "    <tr>\n",
       "      <th>V_R_U</th>\n",
       "      <td>$V_{R U}$</td>\n",
       "      <td>Rudder vel. uncovered</td>\n",
       "      <td>[V_R_U_semiempirical, Re_F_U_semiempirical, D_R_semiempirical, L_R_U_semiempirical]</td>\n",
       "    </tr>\n",
       "    <tr>\n",
       "      <th>V_R_x_C</th>\n",
       "      <td>$V_{R x C}$</td>\n",
       "      <td>Axial vel. covered</td>\n",
       "      <td>[gamma_semiempirical, V_R_C_semiempirical, V_R_x_C_semiempirical, gamma_g_semiempirical]</td>\n",
       "    </tr>\n",
       "    <tr>\n",
       "      <th>V_R_x_U</th>\n",
       "      <td>$V_{R x U}$</td>\n",
       "      <td>Axial vel. uncovered</td>\n",
       "      <td>[V_R_x_U_semiempirical, V_R_U_semiempirical]</td>\n",
       "    </tr>\n",
       "    <tr>\n",
       "      <th>V_R_y</th>\n",
       "      <td>$V_{R y}$</td>\n",
       "      <td>Rudder transverse vel.</td>\n",
       "      <td>[gamma_semiempirical, V_R_C_semiempirical, V_R_y_semiempirical, V_R_U_semiempirical]</td>\n",
       "    </tr>\n",
       "    <tr>\n",
       "      <th>V_x_corr</th>\n",
       "      <td>$V_{x corr}$</td>\n",
       "      <td>Turbulent mixing</td>\n",
       "      <td>[lambda_R_semiempirical, V_R_x_C_semiempirical, V_x_corr_semiempirical]</td>\n",
       "    </tr>\n",
       "    <tr>\n",
       "      <th>V_x_C</th>\n",
       "      <td>$V_{x C}$</td>\n",
       "      <td>No turbulent mixing</td>\n",
       "      <td>[r_Delta_semiempirical, V_x_C_semiempirical, V_x_corr_semiempirical]</td>\n",
       "    </tr>\n",
       "    <tr>\n",
       "      <th>V_x_U</th>\n",
       "      <td>$V_{x U}$</td>\n",
       "      <td>No turbulent mixing</td>\n",
       "      <td>[V_R_x_U_semiempirical, V_x_U_semiempirical]</td>\n",
       "    </tr>\n",
       "    <tr>\n",
       "      <th>w_f</th>\n",
       "      <td>$w_{f}$</td>\n",
       "      <td>Taylor wake</td>\n",
       "      <td>[V_A_semiempirical]</td>\n",
       "    </tr>\n",
       "    <tr>\n",
       "      <th>x</th>\n",
       "      <td>$x$</td>\n",
       "      <td>Prop. to rudder</td>\n",
       "      <td>[r_Delta_semiempirical, r_x_semiempirical]</td>\n",
       "    </tr>\n",
       "    <tr>\n",
       "      <th>X_{dot{u}</th>\n",
       "      <td>$X_{\\dot{u}}$</td>\n",
       "      <td>Surge added mass</td>\n",
       "      <td>[X]</td>\n",
       "    </tr>\n",
       "    <tr>\n",
       "      <th>X_D</th>\n",
       "      <td>$X_{D}$</td>\n",
       "      <td>Surge damping force</td>\n",
       "      <td>[X_D, X]</td>\n",
       "    </tr>\n",
       "    <tr>\n",
       "      <th>x_G</th>\n",
       "      <td>$x_{G}$</td>\n",
       "      <td>Center of gravity</td>\n",
       "      <td>[Y, N, X]</td>\n",
       "    </tr>\n",
       "    <tr>\n",
       "      <th>X_H</th>\n",
       "      <td>$X_{H}$</td>\n",
       "      <td>Hull surge force</td>\n",
       "      <td>[X_D, X_H]</td>\n",
       "    </tr>\n",
       "    <tr>\n",
       "      <th>x_H</th>\n",
       "      <td>$x_{H}$</td>\n",
       "      <td>Yaw rudder interaction</td>\n",
       "      <td>[N_RHI]</td>\n",
       "    </tr>\n",
       "    <tr>\n",
       "      <th>X_P</th>\n",
       "      <td>$X_{P}$</td>\n",
       "      <td>Prop. surge force</td>\n",
       "      <td>[X_P, X_P_port, X_D, N_P_port, X_P_stbd, N_P_stbd]</td>\n",
       "    </tr>\n",
       "    <tr>\n",
       "      <th>X_R</th>\n",
       "      <td>$X_{R}$</td>\n",
       "      <td>Rudder surge force</td>\n",
       "      <td>[X_D, X_R_math, X_R_semiempirical]</td>\n",
       "    </tr>\n",
       "    <tr>\n",
       "      <th>x_R</th>\n",
       "      <td>$x_{R}$</td>\n",
       "      <td>Rudder lever</td>\n",
       "      <td>[N_R_semiempirical, V_R_y_semiempirical, gamma_g_semiempirical]</td>\n",
       "    </tr>\n",
       "    <tr>\n",
       "      <th>X_{thrust</th>\n",
       "      <td>$X_{T}$</td>\n",
       "      <td>Thrust deduction</td>\n",
       "      <td>[X_P_port, X_P_stbd]</td>\n",
       "    </tr>\n",
       "    <tr>\n",
       "      <th>Y_{dot{r}</th>\n",
       "      <td>$Y_{\\dot{r}}$</td>\n",
       "      <td>Sway added mass</td>\n",
       "      <td>[Y]</td>\n",
       "    </tr>\n",
       "    <tr>\n",
       "      <th>Y_{dot{v}</th>\n",
       "      <td>$Y_{\\dot{v}}$</td>\n",
       "      <td>Sway added mass</td>\n",
       "      <td>[Y]</td>\n",
       "    </tr>\n",
       "    <tr>\n",
       "      <th>Y_D</th>\n",
       "      <td>$Y_{D}$</td>\n",
       "      <td>Sway damping force</td>\n",
       "      <td>[Y, Y_D]</td>\n",
       "    </tr>\n",
       "    <tr>\n",
       "      <th>Y_H</th>\n",
       "      <td>$Y_{H}$</td>\n",
       "      <td>Hull sway force</td>\n",
       "      <td>[Y_H, Y_D]</td>\n",
       "    </tr>\n",
       "    <tr>\n",
       "      <th>Y_P</th>\n",
       "      <td>$Y_{P}$</td>\n",
       "      <td>Propeller sway force</td>\n",
       "      <td>[Y_P, Y_D]</td>\n",
       "    </tr>\n",
       "    <tr>\n",
       "      <th>y_p</th>\n",
       "      <td>$y_{p}$</td>\n",
       "      <td>Propeller lever</td>\n",
       "      <td>[N_P_port, N_P_stbd]</td>\n",
       "    </tr>\n",
       "    <tr>\n",
       "      <th>Y_RHI</th>\n",
       "      <td>$Y_{RHI}$</td>\n",
       "      <td>Rudder hull interaction</td>\n",
       "      <td>[Y_RHI, Y_D]</td>\n",
       "    </tr>\n",
       "    <tr>\n",
       "      <th>Y_R</th>\n",
       "      <td>$Y_{R}$</td>\n",
       "      <td>Rudder sway force</td>\n",
       "      <td>[N_R_semiempirical, Y_RHI, Y_R_math, Y_D, Y_R_semiempirical]</td>\n",
       "    </tr>\n",
       "    <tr>\n",
       "      <th>y_R</th>\n",
       "      <td>$y_{R}$</td>\n",
       "      <td>Rudder lever</td>\n",
       "      <td>[V_R_x_U_semiempirical, V_R_x_C_semiempirical]</td>\n",
       "    </tr>\n",
       "  </tbody>\n",
       "</table>\n",
       "</div>"
      ],
      "text/plain": [
       "\n",
       "                                 LaTeX                             Description                                                                                                                                                                         file_names\n",
       "alpha                         $\\alpha$                  Rudder angle of attack                                                                                                     \u001b[1m[\u001b[0mB_s_semiempirical, C_L_semiempirical, alpha_semiempirical, u_s_semiempirical\u001b[1m]\u001b[0m\n",
       "alpha_f                   $\\alpha_\u001b[1m{\u001b[0mf\u001b[1m}\u001b[0m$                     Rudder inflow angle                                                                                                                      \u001b[1m[\u001b[0malpha_f_semiempirical, X_R_semiempirical, Y_R_semiempirical\u001b[1m]\u001b[0m\n",
       "delta                         $\\delta$                            Rudder angle                                                                                                      \u001b[1m[\u001b[0mN_R_math, Y_R_math, lambda_gap_semiempirical, X_R_math, alpha_semiempirical\u001b[1m]\u001b[0m\n",
       "delta_lim               $\\delta_\u001b[1m{\u001b[0mlim\u001b[1m}\u001b[0m$                        Rudder gap limit                                                                                                                                                         \u001b[1m[\u001b[0mlambda_gap_semiempirical\u001b[1m]\u001b[0m\n",
       "dot\u001b[1m{\u001b[0mr                        $\\dot\u001b[1m{\u001b[0mr\u001b[1m}\u001b[0m$                        Yaw acceleration                                                                                                                                                                             \u001b[1m[\u001b[0mY, N\u001b[1m]\u001b[0m\n",
       "dot\u001b[1m{\u001b[0mu                        $\\dot\u001b[1m{\u001b[0mu\u001b[1m}\u001b[0m$                      Surge acceleration                                                                                                                                                                                \u001b[1m[\u001b[0mX\u001b[1m]\u001b[0m\n",
       "dot\u001b[1m{\u001b[0mv                        $\\dot\u001b[1m{\u001b[0mv\u001b[1m}\u001b[0m$                       Sway acceleration                                                                                                                                                                             \u001b[1m[\u001b[0mY, N\u001b[1m]\u001b[0m\n",
       "gamma                         $\\gamma$                     Prop. induced angle                                                                                                                  \u001b[1m[\u001b[0mgamma_semiempirical, alpha_f_semiempirical, alpha_semiempirical\u001b[1m]\u001b[0m\n",
       "gamma_0                   $\\gamma_\u001b[1m{\u001b[0m\u001b[1;36m0\u001b[0m\u001b[1m}\u001b[0m$                   Rudder initial inflow                                                                                                                                       \u001b[1m[\u001b[0malpha_f_semiempirical, alpha_semiempirical\u001b[1m]\u001b[0m\n",
       "gamma_g                   $\\gamma_\u001b[1m{\u001b[0mg\u001b[1m}\u001b[0m$                  Geometric inflow angle                                                                                                      \u001b[1m[\u001b[0mgamma_g_semiempirical, kappa_r_tot_semiempirical, kappa_v_tot_semiempirical\u001b[1m]\u001b[0m\n",
       "kappa_r_gamma_g  $\\kappa_\u001b[1m{\u001b[0mr \\gamma g\u001b[1m}\u001b[0m$                    $\\kappa_r$ nonlinear                                                                                                                                                        \u001b[1m[\u001b[0mkappa_r_tot_semiempirical\u001b[1m]\u001b[0m\n",
       "kappa_r_tot           $\\kappa_\u001b[1m{\u001b[0mr tot\u001b[1m}\u001b[0m$                        $\\kappa_r$ total                                                                                                                                   \u001b[1m[\u001b[0mV_R_y_semiempirical, kappa_r_tot_semiempirical\u001b[1m]\u001b[0m\n",
       "kappa_r                   $\\kappa_\u001b[1m{\u001b[0mr\u001b[1m}\u001b[0m$             Yaw rate flow straightening                                                                                                                                                        \u001b[1m[\u001b[0mkappa_r_tot_semiempirical\u001b[1m]\u001b[0m\n",
       "kappa_v_gamma_g  $\\kappa_\u001b[1m{\u001b[0mv \\gamma g\u001b[1m}\u001b[0m$                    $\\kappa_v$ nonlinear                                                                                                                                                        \u001b[1m[\u001b[0mkappa_v_tot_semiempirical\u001b[1m]\u001b[0m\n",
       "kappa_v_tot           $\\kappa_\u001b[1m{\u001b[0mv tot\u001b[1m}\u001b[0m$                        $\\kappa_v$ total                                                                                                                                   \u001b[1m[\u001b[0mV_R_y_semiempirical, kappa_v_tot_semiempirical\u001b[1m]\u001b[0m\n",
       "kappa_v                   $\\kappa_\u001b[1m{\u001b[0mv\u001b[1m}\u001b[0m$                Drift flow straightening                                                                                                                                                        \u001b[1m[\u001b[0mkappa_v_tot_semiempirical\u001b[1m]\u001b[0m\n",
       "lambda_R                 $\\lambda_\u001b[1m{\u001b[0mR\u001b[1m}\u001b[0m$  limited radius of the prop. slipstream                                                                                                                                      \u001b[1m[\u001b[0mlambda_R_semiempirical, L_R_C_semiempirical\u001b[1m]\u001b[0m\n",
       "lambda_                   $\\lambda_\u001b[1m{\u001b[0m\u001b[1m}\u001b[0m$                      Rudder taper ratio                                                                                                                               \u001b[1m[\u001b[0mlambda__semiempirical, C_D_crossflow_semiempirical\u001b[1m]\u001b[0m\n",
       "nu                               $\\nu$                     Kinematic viscosity                                                                                                                                       \u001b[1m[\u001b[0mRe_F_C_semiempirical, Re_F_U_semiempirical\u001b[1m]\u001b[0m\n",
       "Omega                         $\\Omega$                      Rudder sweep angle                                                                                                                                                        \u001b[1m[\u001b[0mdC_L_dalpha_semiempirical\u001b[1m]\u001b[0m\n",
       "rho                             $\\rho$                           Water density                                                                                                  \u001b[1m[\u001b[0mL_R_U_semiempirical, C_Th_semiempirical, D_R_semiempirical, L_R_C_semiempirical\u001b[1m]\u001b[0m\n",
       "a_0                            $a_\u001b[1m{\u001b[0m\u001b[1;36m0\u001b[0m\u001b[1m}\u001b[0m$                Section lift curve slope                                                                                                                                     \u001b[1m[\u001b[0ma_0_semiempirical, dC_L_dalpha_semiempirical\u001b[1m]\u001b[0m\n",
       "a_H                            $a_\u001b[1m{\u001b[0mH\u001b[1m}\u001b[0m$                 Sway rudder interaction                                                                                                                                                                            \u001b[1m[\u001b[0mY_RHI\u001b[1m]\u001b[0m\n",
       "A_R_C                        $A_\u001b[1m{\u001b[0mR C\u001b[1m}\u001b[0m$                     Rudder area covered                                                                                                                                           \u001b[1m[\u001b[0mD_R_semiempirical, L_R_C_semiempirical\u001b[1m]\u001b[0m\n",
       "A_R_U                        $A_\u001b[1m{\u001b[0mR U\u001b[1m}\u001b[0m$                   Rudder area uncovered                                                                                                                                           \u001b[1m[\u001b[0mD_R_semiempirical, L_R_U_semiempirical\u001b[1m]\u001b[0m\n",
       "A_R                            $A_\u001b[1m{\u001b[0mR\u001b[1m}\u001b[0m$                             Rudder area                                                                                                                                                               \u001b[1m[\u001b[0mAR_g_semiempirical\u001b[1m]\u001b[0m\n",
       "AR_e                          $AR_\u001b[1m{\u001b[0me\u001b[1m}\u001b[0m$                  Effective aspect ratio                         \u001b[1m[\u001b[0mC_L_semiempirical, AR_e_semiempirical, C_L_max_semiempirical, alpha_s_semiempirical, C_D_C_semiempirical, C_D_U_semiempirical, dC_L_dalpha_semiempirical\u001b[1m]\u001b[0m\n",
       "AR_g                          $AR_\u001b[1m{\u001b[0mg\u001b[1m}\u001b[0m$                  Geometric aspect ratio                                                                                                                                           \u001b[1m[\u001b[0mAR_e_semiempirical, AR_g_semiempirical\u001b[1m]\u001b[0m\n",
       "b_R                            $b_\u001b[1m{\u001b[0mR\u001b[1m}\u001b[0m$                             Rudder span                                                                                                                                                               \u001b[1m[\u001b[0mAR_g_semiempirical\u001b[1m]\u001b[0m\n",
       "c                                  $c$                            Rudder chord                                                                                                     \u001b[1m[\u001b[0mRe_F_C_semiempirical, f_semiempirical, Re_F_U_semiempirical, c_semiempirical\u001b[1m]\u001b[0m\n",
       "C_D_C                        $C_\u001b[1m{\u001b[0mD C\u001b[1m}\u001b[0m$                     Drag coeff. covered                                                                                                                                           \u001b[1m[\u001b[0mC_D_C_semiempirical, D_R_semiempirical\u001b[1m]\u001b[0m\n",
       "C_D_tune                  $C_\u001b[1m{\u001b[0mD tune\u001b[1m}\u001b[0m$                      Drag coeff. tunnig                                                                                                                                         \u001b[1m[\u001b[0mC_D_C_semiempirical, C_D_U_semiempirical\u001b[1m]\u001b[0m\n",
       "C_D_U                        $C_\u001b[1m{\u001b[0mD U\u001b[1m}\u001b[0m$                   Drag coeff. uncovered                                                                                                                                           \u001b[1m[\u001b[0mC_D_U_semiempirical, D_R_semiempirical\u001b[1m]\u001b[0m\n",
       "C_D0_C                      $C_\u001b[1m{\u001b[0mD0 C\u001b[1m}\u001b[0m$             Initial drag coeff. covered                                                                                                                                        \u001b[1m[\u001b[0mC_D_C_semiempirical, C_D0_C_semiempirical\u001b[1m]\u001b[0m\n",
       "C_D0_tune                $C_\u001b[1m{\u001b[0mD0 tune\u001b[1m}\u001b[0m$                Initial drag coeff. tune                                                                                                                                       \u001b[1m[\u001b[0mC_D0_U_semiempirical, C_D0_C_semiempirical\u001b[1m]\u001b[0m\n",
       "C_D0_U                      $C_\u001b[1m{\u001b[0mD0 U\u001b[1m}\u001b[0m$           Initial drag coeff. uncovered                                                                                                                                        \u001b[1m[\u001b[0mC_D0_U_semiempirical, C_D_U_semiempirical\u001b[1m]\u001b[0m\n",
       "C_DC                          $C_\u001b[1m{\u001b[0mDC\u001b[1m}\u001b[0m$                  Rudder cross-flow drag                                                                                                            \u001b[1m[\u001b[0mC_L_semiempirical, C_L_max_semiempirical, C_D_crossflow_semiempirical\u001b[1m]\u001b[0m\n",
       "C_F_C                        $C_\u001b[1m{\u001b[0mF C\u001b[1m}\u001b[0m$                 Friction coeff. covered                                                                                                                                        \u001b[1m[\u001b[0mC_F_C_semiempirical, C_D0_C_semiempirical\u001b[1m]\u001b[0m\n",
       "C_F_U                        $C_\u001b[1m{\u001b[0mF U\u001b[1m}\u001b[0m$               Friction coeff. uncovered                                                                                                                                        \u001b[1m[\u001b[0mC_F_U_semiempirical, C_D0_U_semiempirical\u001b[1m]\u001b[0m\n",
       "C_L                            $C_\u001b[1m{\u001b[0mL\u001b[1m}\u001b[0m$                             Lift coeff.                                                                            \u001b[1m[\u001b[0mC_L_semiempirical, C_D_C_semiempirical, C_D_U_semiempirical, L_R_C_semiempirical, L_R_U_semiempirical\u001b[1m]\u001b[0m\n",
       "c_r                            $c_\u001b[1m{\u001b[0mr\u001b[1m}\u001b[0m$                      Rudder root choord                                                                                                                                           \u001b[1m[\u001b[0mc_semiempirical, lambda__semiempirical\u001b[1m]\u001b[0m\n",
       "C_Th                          $C_\u001b[1m{\u001b[0mTh\u001b[1m}\u001b[0m$                           Thrust coeff.                                                                                                                                        \u001b[1m[\u001b[0mC_Th_semiempirical, V_infty_semiempirical\u001b[1m]\u001b[0m\n",
       "c_t                            $c_\u001b[1m{\u001b[0mt\u001b[1m}\u001b[0m$                       Rudder tip choord                                                                                                                                           \u001b[1m[\u001b[0mc_semiempirical, lambda__semiempirical\u001b[1m]\u001b[0m\n",
       "d                                  $d$                lift diminished variable                                                                                                                                                 \u001b[1m[\u001b[0md_semiempirical, f_semiempirical\u001b[1m]\u001b[0m\n",
       "D_R                            $D_\u001b[1m{\u001b[0mR\u001b[1m}\u001b[0m$                             Rudder drag                                                                                                                          \u001b[1m[\u001b[0mX_R_semiempirical, D_R_semiempirical, Y_R_semiempirical\u001b[1m]\u001b[0m\n",
       "e_0                            $e_\u001b[1m{\u001b[0m\u001b[1;36m0\u001b[0m\u001b[1m}\u001b[0m$                Oswald efficiency factor                                                                                                                                         \u001b[1m[\u001b[0mC_D_C_semiempirical, C_D_U_semiempirical\u001b[1m]\u001b[0m\n",
       "f                                  $f$                lift diminished variable                                                                                                                                          \u001b[1m[\u001b[0mf_semiempirical, lambda_R_semiempirical\u001b[1m]\u001b[0m\n",
       "I_z                            $I_\u001b[1m{\u001b[0mz\u001b[1m}\u001b[0m$                       Yaw mass intertia                                                                                                                                                                                \u001b[1m[\u001b[0mN\u001b[1m]\u001b[0m\n",
       "K_gap                        $K_\u001b[1m{\u001b[0mgap\u001b[1m}\u001b[0m$                                     NaN                                                                                                                                      \u001b[1m[\u001b[0mC_L_semiempirical, lambda_gap_semiempirical\u001b[1m]\u001b[0m\n",
       "L_R_C                        $L_\u001b[1m{\u001b[0mR C\u001b[1m}\u001b[0m$                       Lift covered part                                                                                                                                           \u001b[1m[\u001b[0mL_R_semiempirical, L_R_C_semiempirical\u001b[1m]\u001b[0m\n",
       "L_R_U                        $L_\u001b[1m{\u001b[0mR U\u001b[1m}\u001b[0m$                     Lift uncovered part                                                                                                                                           \u001b[1m[\u001b[0mL_R_semiempirical, L_R_U_semiempirical\u001b[1m]\u001b[0m\n",
       "L_R                            $L_\u001b[1m{\u001b[0mR\u001b[1m}\u001b[0m$                             Rudder lift                                                                                                                          \u001b[1m[\u001b[0mX_R_semiempirical, L_R_semiempirical, Y_R_semiempirical\u001b[1m]\u001b[0m\n",
       "m                                  $m$                               Ship mass                                                                                                                                                                          \u001b[1m[\u001b[0mY, N, X\u001b[1m]\u001b[0m\n",
       "N_\u001b[1m{\u001b[0mdot\u001b[1m{\u001b[0mr\u001b[1m}\u001b[0m                $N_\u001b[1m{\u001b[0m\\dot\u001b[1m{\u001b[0mr\u001b[1m}\u001b[0m\u001b[1m}\u001b[0m$                          Yaw added mass                                                                                                                                                                                \u001b[1m[\u001b[0mN\u001b[1m]\u001b[0m\n",
       "N_\u001b[1m{\u001b[0mdot\u001b[1m{\u001b[0mv\u001b[1m}\u001b[0m                $N_\u001b[1m{\u001b[0m\\dot\u001b[1m{\u001b[0mv\u001b[1m}\u001b[0m\u001b[1m}\u001b[0m$                          Yaw added mass                                                                                                                                                                                \u001b[1m[\u001b[0mN\u001b[1m]\u001b[0m\n",
       "N_D                            $N_\u001b[1m{\u001b[0mD\u001b[1m}\u001b[0m$                      Yaw damping moment                                                                                                                                                                           \u001b[1m[\u001b[0mN_D, N\u001b[1m]\u001b[0m\n",
       "N_H                            $N_\u001b[1m{\u001b[0mH\u001b[1m}\u001b[0m$                      Hull yawing moment                                                                                                                                                                         \u001b[1m[\u001b[0mN_H, N_D\u001b[1m]\u001b[0m\n",
       "N_P                            $N_\u001b[1m{\u001b[0mP\u001b[1m}\u001b[0m$                     Prop. yawing moment                                                                                                                                                     \u001b[1m[\u001b[0mN_D, N_P, N_P_port, N_P_stbd\u001b[1m]\u001b[0m\n",
       "N_RHI                        $N_\u001b[1m{\u001b[0mRHI\u001b[1m}\u001b[0m$                 Rudder hull interaction                                                                                                                                                                       \u001b[1m[\u001b[0mN_D, N_RHI\u001b[1m]\u001b[0m\n",
       "N_R                            $N_\u001b[1m{\u001b[0mR\u001b[1m}\u001b[0m$                    Rudder yawing moment                                                                                                                                          \u001b[1m[\u001b[0mN_R_semiempirical, N_R_math, N_D, N_RHI\u001b[1m]\u001b[0m\n",
       "r                                  $r$                                Yaw rate                                             \u001b[1m[\u001b[0mV_R_y_semiempirical, N_H, Y_R_math, N_R_math, V_R_x_C_semiempirical, gamma_g_semiempirical, X_H, X, V_R_x_U_semiempirical, N, Y, Y_H\u001b[1m]\u001b[0m\n",
       "r_0                            $r_\u001b[1m{\u001b[0m\u001b[1;36m0\u001b[0m\u001b[1m}\u001b[0m$                            Prop. radius                                                                                                                     \u001b[1m[\u001b[0mC_Th_semiempirical, r_x_semiempirical, r_infty_semiempirical\u001b[1m]\u001b[0m\n",
       "r_Delta                   $r_\u001b[1m{\u001b[0m\\Delta\u001b[1m}\u001b[0m$                        Turbulent mixing                                                                                                                   \u001b[1m[\u001b[0md_semiempirical, r_Delta_semiempirical, V_x_corr_semiempirical\u001b[1m]\u001b[0m\n",
       "r_infty                   $r_\u001b[1m{\u001b[0m\\infty\u001b[1m}\u001b[0m$                        Prop. slipstream                                                                                                                    \u001b[1m[\u001b[0mV_x_C_semiempirical, r_infty_semiempirical, r_x_semiempirical\u001b[1m]\u001b[0m\n",
       "r_x                            $r_\u001b[1m{\u001b[0mx\u001b[1m}\u001b[0m$              Prop. slipstream at rudder                                                                                                  \u001b[1m[\u001b[0mr_x_semiempirical, d_semiempirical, V_x_C_semiempirical, V_x_corr_semiempirical\u001b[1m]\u001b[0m\n",
       "Re_F_C                      $Re_\u001b[1m{\u001b[0mF C\u001b[1m}\u001b[0m$                  Reynold number covered                                                                                                                                        \u001b[1m[\u001b[0mC_F_C_semiempirical, Re_F_C_semiempirical\u001b[1m]\u001b[0m\n",
       "Re_F_U                      $Re_\u001b[1m{\u001b[0mF U\u001b[1m}\u001b[0m$                Reynold number uncovered                                                                                                                                        \u001b[1m[\u001b[0mC_F_U_semiempirical, Re_F_U_semiempirical\u001b[1m]\u001b[0m\n",
       "s                                  $s$                  Rudder gap coefficient                                                                                                                                                         \u001b[1m[\u001b[0mlambda_gap_semiempirical\u001b[1m]\u001b[0m\n",
       "thrust                             $T$                                  Thrust                                                                                                                                           \u001b[1m[\u001b[0mX_P_port, C_Th_semiempirical, X_P_stbd\u001b[1m]\u001b[0m\n",
       "u                                  $u$                              Surge vel.                                                                                                                                                     \u001b[1m[\u001b[0mY, X_H, V_A_semiempirical, N\u001b[1m]\u001b[0m\n",
       "v                                  $v$                               Sway vel.                                                                                                 \u001b[1m[\u001b[0mV_R_y_semiempirical, N_H, Y_R_math, N_R_math, gamma_g_semiempirical, X_H, X, Y_H\u001b[1m]\u001b[0m\n",
       "V_infty                   $V_\u001b[1m{\u001b[0m\\infty\u001b[1m}\u001b[0m$                        Prop. slipstream                                                                                                                \u001b[1m[\u001b[0mV_x_C_semiempirical, r_infty_semiempirical, V_infty_semiempirical\u001b[1m]\u001b[0m\n",
       "V_A                            $V_\u001b[1m{\u001b[0mA\u001b[1m}\u001b[0m$                           Apparent vel.  \u001b[1m[\u001b[0mV_infty_semiempirical, V_x_corr_semiempirical, V_x_U_semiempirical, C_Th_semiempirical, lambda_R_semiempirical, r_Delta_semiempirical, V_A_semiempirical, r_infty_semiempirical\u001b[1m]\u001b[0m\n",
       "V_R_C                        $V_\u001b[1m{\u001b[0mR C\u001b[1m}\u001b[0m$                     Rudder vel. covered                                                                                                \u001b[1m[\u001b[0mRe_F_C_semiempirical, V_R_C_semiempirical, D_R_semiempirical, L_R_C_semiempirical\u001b[1m]\u001b[0m\n",
       "V_R_U                        $V_\u001b[1m{\u001b[0mR U\u001b[1m}\u001b[0m$                   Rudder vel. uncovered                                                                                                \u001b[1m[\u001b[0mV_R_U_semiempirical, Re_F_U_semiempirical, D_R_semiempirical, L_R_U_semiempirical\u001b[1m]\u001b[0m\n",
       "V_R_x_C                    $V_\u001b[1m{\u001b[0mR x C\u001b[1m}\u001b[0m$                      Axial vel. covered                                                                                           \u001b[1m[\u001b[0mgamma_semiempirical, V_R_C_semiempirical, V_R_x_C_semiempirical, gamma_g_semiempirical\u001b[1m]\u001b[0m\n",
       "V_R_x_U                    $V_\u001b[1m{\u001b[0mR x U\u001b[1m}\u001b[0m$                    Axial vel. uncovered                                                                                                                                       \u001b[1m[\u001b[0mV_R_x_U_semiempirical, V_R_U_semiempirical\u001b[1m]\u001b[0m\n",
       "V_R_y                        $V_\u001b[1m{\u001b[0mR y\u001b[1m}\u001b[0m$                  Rudder transverse vel.                                                                                               \u001b[1m[\u001b[0mgamma_semiempirical, V_R_C_semiempirical, V_R_y_semiempirical, V_R_U_semiempirical\u001b[1m]\u001b[0m\n",
       "V_x_corr                  $V_\u001b[1m{\u001b[0mx corr\u001b[1m}\u001b[0m$                        Turbulent mixing                                                                                                            \u001b[1m[\u001b[0mlambda_R_semiempirical, V_R_x_C_semiempirical, V_x_corr_semiempirical\u001b[1m]\u001b[0m\n",
       "V_x_C                        $V_\u001b[1m{\u001b[0mx C\u001b[1m}\u001b[0m$                     No turbulent mixing                                                                                                               \u001b[1m[\u001b[0mr_Delta_semiempirical, V_x_C_semiempirical, V_x_corr_semiempirical\u001b[1m]\u001b[0m\n",
       "V_x_U                        $V_\u001b[1m{\u001b[0mx U\u001b[1m}\u001b[0m$                     No turbulent mixing                                                                                                                                       \u001b[1m[\u001b[0mV_R_x_U_semiempirical, V_x_U_semiempirical\u001b[1m]\u001b[0m\n",
       "w_f                            $w_\u001b[1m{\u001b[0mf\u001b[1m}\u001b[0m$                             Taylor wake                                                                                                                                                                \u001b[1m[\u001b[0mV_A_semiempirical\u001b[1m]\u001b[0m\n",
       "x                                  $x$                         Prop. to rudder                                                                                                                                         \u001b[1m[\u001b[0mr_Delta_semiempirical, r_x_semiempirical\u001b[1m]\u001b[0m\n",
       "X_\u001b[1m{\u001b[0mdot\u001b[1m{\u001b[0mu\u001b[1m}\u001b[0m                $X_\u001b[1m{\u001b[0m\\dot\u001b[1m{\u001b[0mu\u001b[1m}\u001b[0m\u001b[1m}\u001b[0m$                        Surge added mass                                                                                                                                                                                \u001b[1m[\u001b[0mX\u001b[1m]\u001b[0m\n",
       "X_D                            $X_\u001b[1m{\u001b[0mD\u001b[1m}\u001b[0m$                     Surge damping force                                                                                                                                                                           \u001b[1m[\u001b[0mX_D, X\u001b[1m]\u001b[0m\n",
       "x_G                            $x_\u001b[1m{\u001b[0mG\u001b[1m}\u001b[0m$                       Center of gravity                                                                                                                                                                          \u001b[1m[\u001b[0mY, N, X\u001b[1m]\u001b[0m\n",
       "X_H                            $X_\u001b[1m{\u001b[0mH\u001b[1m}\u001b[0m$                        Hull surge force                                                                                                                                                                         \u001b[1m[\u001b[0mX_D, X_H\u001b[1m]\u001b[0m\n",
       "x_H                            $x_\u001b[1m{\u001b[0mH\u001b[1m}\u001b[0m$                  Yaw rudder interaction                                                                                                                                                                            \u001b[1m[\u001b[0mN_RHI\u001b[1m]\u001b[0m\n",
       "X_P                            $X_\u001b[1m{\u001b[0mP\u001b[1m}\u001b[0m$                       Prop. surge force                                                                                                                                 \u001b[1m[\u001b[0mX_P, X_P_port, X_D, N_P_port, X_P_stbd, N_P_stbd\u001b[1m]\u001b[0m\n",
       "X_R                            $X_\u001b[1m{\u001b[0mR\u001b[1m}\u001b[0m$                      Rudder surge force                                                                                                                                                 \u001b[1m[\u001b[0mX_D, X_R_math, X_R_semiempirical\u001b[1m]\u001b[0m\n",
       "x_R                            $x_\u001b[1m{\u001b[0mR\u001b[1m}\u001b[0m$                            Rudder lever                                                                                                                    \u001b[1m[\u001b[0mN_R_semiempirical, V_R_y_semiempirical, gamma_g_semiempirical\u001b[1m]\u001b[0m\n",
       "X_\u001b[1m{\u001b[0mthrust                      $X_\u001b[1m{\u001b[0mT\u001b[1m}\u001b[0m$                        Thrust deduction                                                                                                                                                               \u001b[1m[\u001b[0mX_P_port, X_P_stbd\u001b[1m]\u001b[0m\n",
       "Y_\u001b[1m{\u001b[0mdot\u001b[1m{\u001b[0mr\u001b[1m}\u001b[0m                $Y_\u001b[1m{\u001b[0m\\dot\u001b[1m{\u001b[0mr\u001b[1m}\u001b[0m\u001b[1m}\u001b[0m$                         Sway added mass                                                                                                                                                                                \u001b[1m[\u001b[0mY\u001b[1m]\u001b[0m\n",
       "Y_\u001b[1m{\u001b[0mdot\u001b[1m{\u001b[0mv\u001b[1m}\u001b[0m                $Y_\u001b[1m{\u001b[0m\\dot\u001b[1m{\u001b[0mv\u001b[1m}\u001b[0m\u001b[1m}\u001b[0m$                         Sway added mass                                                                                                                                                                                \u001b[1m[\u001b[0mY\u001b[1m]\u001b[0m\n",
       "Y_D                            $Y_\u001b[1m{\u001b[0mD\u001b[1m}\u001b[0m$                      Sway damping force                                                                                                                                                                           \u001b[1m[\u001b[0mY, Y_D\u001b[1m]\u001b[0m\n",
       "Y_H                            $Y_\u001b[1m{\u001b[0mH\u001b[1m}\u001b[0m$                         Hull sway force                                                                                                                                                                         \u001b[1m[\u001b[0mY_H, Y_D\u001b[1m]\u001b[0m\n",
       "Y_P                            $Y_\u001b[1m{\u001b[0mP\u001b[1m}\u001b[0m$                    Propeller sway force                                                                                                                                                                         \u001b[1m[\u001b[0mY_P, Y_D\u001b[1m]\u001b[0m\n",
       "y_p                            $y_\u001b[1m{\u001b[0mp\u001b[1m}\u001b[0m$                         Propeller lever                                                                                                                                                               \u001b[1m[\u001b[0mN_P_port, N_P_stbd\u001b[1m]\u001b[0m\n",
       "Y_RHI                        $Y_\u001b[1m{\u001b[0mRHI\u001b[1m}\u001b[0m$                 Rudder hull interaction                                                                                                                                                                       \u001b[1m[\u001b[0mY_RHI, Y_D\u001b[1m]\u001b[0m\n",
       "Y_R                            $Y_\u001b[1m{\u001b[0mR\u001b[1m}\u001b[0m$                       Rudder sway force                                                                                                                       \u001b[1m[\u001b[0mN_R_semiempirical, Y_RHI, Y_R_math, Y_D, Y_R_semiempirical\u001b[1m]\u001b[0m\n",
       "y_R                            $y_\u001b[1m{\u001b[0mR\u001b[1m}\u001b[0m$                            Rudder lever                                                                                                                                     \u001b[1m[\u001b[0mV_R_x_U_semiempirical, V_R_x_C_semiempirical\u001b[1m]\u001b[0m"
      ]
     },
     "execution_count": 45,
     "metadata": {},
     "output_type": "execute_result"
    }
   ],
   "source": [
    "df_nomenclature_new"
   ]
  },
  {
   "cell_type": "code",
   "execution_count": 46,
   "id": "d3e64ea6-d4d2-40d5-a407-71cd7dcb8883",
   "metadata": {},
   "outputs": [],
   "source": [
    "table = paper.table_columns(df_nomenclature_new[['LaTeX','Description']], columns=3)\n",
    "table.to_csv(paper.file_path_with_nb_ref(\"nomenclature.csv\", directory='tables'), index=False)"
   ]
  },
  {
   "cell_type": "code",
   "execution_count": 47,
   "id": "295cb85c-2388-4848-8bdc-f1c1fbc758e5",
   "metadata": {},
   "outputs": [
    {
     "data": {
      "text/html": [
       "<pre style=\"white-space:pre;overflow-x:auto;line-height:normal;font-family:Menlo,'DejaVu Sans Mono',consolas,'Courier New',monospace\"></pre>\n"
      ],
      "text/plain": []
     },
     "metadata": {},
     "output_type": "display_data"
    },
    {
     "data": {
      "text/html": [
       "<div>\n",
       "<style scoped>\n",
       "    .dataframe tbody tr th:only-of-type {\n",
       "        vertical-align: middle;\n",
       "    }\n",
       "\n",
       "    .dataframe tbody tr th {\n",
       "        vertical-align: top;\n",
       "    }\n",
       "\n",
       "    .dataframe thead th {\n",
       "        text-align: right;\n",
       "    }\n",
       "</style>\n",
       "<table border=\"1\" class=\"dataframe\">\n",
       "  <thead>\n",
       "    <tr style=\"text-align: right;\">\n",
       "      <th></th>\n",
       "      <th>LaTeX</th>\n",
       "      <th>Description</th>\n",
       "      <th>LaTeX1</th>\n",
       "      <th>Description1</th>\n",
       "      <th>LaTeX2</th>\n",
       "      <th>Description2</th>\n",
       "    </tr>\n",
       "  </thead>\n",
       "  <tbody>\n",
       "    <tr>\n",
       "      <th>0</th>\n",
       "      <td>$\\alpha$</td>\n",
       "      <td>Rudder angle of attack</td>\n",
       "      <td>$C_{D0 tune}$</td>\n",
       "      <td>Initial drag coeff. tune</td>\n",
       "      <td>$T$</td>\n",
       "      <td>Thrust</td>\n",
       "    </tr>\n",
       "    <tr>\n",
       "      <th>1</th>\n",
       "      <td>$\\alpha_{f}$</td>\n",
       "      <td>Rudder inflow angle</td>\n",
       "      <td>$C_{D0 U}$</td>\n",
       "      <td>Initial drag coeff. uncovered</td>\n",
       "      <td>$u$</td>\n",
       "      <td>Surge vel.</td>\n",
       "    </tr>\n",
       "    <tr>\n",
       "      <th>2</th>\n",
       "      <td>$\\delta$</td>\n",
       "      <td>Rudder angle</td>\n",
       "      <td>$C_{DC}$</td>\n",
       "      <td>Rudder cross-flow drag</td>\n",
       "      <td>$v$</td>\n",
       "      <td>Sway vel.</td>\n",
       "    </tr>\n",
       "    <tr>\n",
       "      <th>3</th>\n",
       "      <td>$\\delta_{lim}$</td>\n",
       "      <td>Rudder gap limit</td>\n",
       "      <td>$C_{F C}$</td>\n",
       "      <td>Friction coeff. covered</td>\n",
       "      <td>$V_{\\infty}$</td>\n",
       "      <td>Prop. slipstream</td>\n",
       "    </tr>\n",
       "    <tr>\n",
       "      <th>4</th>\n",
       "      <td>$\\dot{r}$</td>\n",
       "      <td>Yaw acceleration</td>\n",
       "      <td>$C_{F U}$</td>\n",
       "      <td>Friction coeff. uncovered</td>\n",
       "      <td>$V_{A}$</td>\n",
       "      <td>Apparent vel.</td>\n",
       "    </tr>\n",
       "    <tr>\n",
       "      <th>5</th>\n",
       "      <td>$\\dot{u}$</td>\n",
       "      <td>Surge acceleration</td>\n",
       "      <td>$C_{L}$</td>\n",
       "      <td>Lift coeff.</td>\n",
       "      <td>$V_{R C}$</td>\n",
       "      <td>Rudder vel. covered</td>\n",
       "    </tr>\n",
       "    <tr>\n",
       "      <th>6</th>\n",
       "      <td>$\\dot{v}$</td>\n",
       "      <td>Sway acceleration</td>\n",
       "      <td>$c_{r}$</td>\n",
       "      <td>Rudder root choord</td>\n",
       "      <td>$V_{R U}$</td>\n",
       "      <td>Rudder vel. uncovered</td>\n",
       "    </tr>\n",
       "    <tr>\n",
       "      <th>7</th>\n",
       "      <td>$\\gamma$</td>\n",
       "      <td>Prop. induced angle</td>\n",
       "      <td>$C_{Th}$</td>\n",
       "      <td>Thrust coeff.</td>\n",
       "      <td>$V_{R x C}$</td>\n",
       "      <td>Axial vel. covered</td>\n",
       "    </tr>\n",
       "    <tr>\n",
       "      <th>8</th>\n",
       "      <td>$\\gamma_{0}$</td>\n",
       "      <td>Rudder initial inflow</td>\n",
       "      <td>$c_{t}$</td>\n",
       "      <td>Rudder tip choord</td>\n",
       "      <td>$V_{R x U}$</td>\n",
       "      <td>Axial vel. uncovered</td>\n",
       "    </tr>\n",
       "    <tr>\n",
       "      <th>9</th>\n",
       "      <td>$\\gamma_{g}$</td>\n",
       "      <td>Geometric inflow angle</td>\n",
       "      <td>$d$</td>\n",
       "      <td>lift diminished variable</td>\n",
       "      <td>$V_{R y}$</td>\n",
       "      <td>Rudder transverse vel.</td>\n",
       "    </tr>\n",
       "    <tr>\n",
       "      <th>10</th>\n",
       "      <td>$\\kappa_{r \\gamma g}$</td>\n",
       "      <td>$\\kappa_r$ nonlinear</td>\n",
       "      <td>$D_{R}$</td>\n",
       "      <td>Rudder drag</td>\n",
       "      <td>$V_{x corr}$</td>\n",
       "      <td>Turbulent mixing</td>\n",
       "    </tr>\n",
       "    <tr>\n",
       "      <th>11</th>\n",
       "      <td>$\\kappa_{r tot}$</td>\n",
       "      <td>$\\kappa_r$ total</td>\n",
       "      <td>$e_{0}$</td>\n",
       "      <td>Oswald efficiency factor</td>\n",
       "      <td>$V_{x C}$</td>\n",
       "      <td>No turbulent mixing</td>\n",
       "    </tr>\n",
       "    <tr>\n",
       "      <th>12</th>\n",
       "      <td>$\\kappa_{r}$</td>\n",
       "      <td>Yaw rate flow straightening</td>\n",
       "      <td>$f$</td>\n",
       "      <td>lift diminished variable</td>\n",
       "      <td>$V_{x U}$</td>\n",
       "      <td>No turbulent mixing</td>\n",
       "    </tr>\n",
       "    <tr>\n",
       "      <th>13</th>\n",
       "      <td>$\\kappa_{v \\gamma g}$</td>\n",
       "      <td>$\\kappa_v$ nonlinear</td>\n",
       "      <td>$I_{z}$</td>\n",
       "      <td>Yaw mass intertia</td>\n",
       "      <td>$w_{f}$</td>\n",
       "      <td>Taylor wake</td>\n",
       "    </tr>\n",
       "    <tr>\n",
       "      <th>14</th>\n",
       "      <td>$\\kappa_{v tot}$</td>\n",
       "      <td>$\\kappa_v$ total</td>\n",
       "      <td>$K_{gap}$</td>\n",
       "      <td>NaN</td>\n",
       "      <td>$x$</td>\n",
       "      <td>Prop. to rudder</td>\n",
       "    </tr>\n",
       "    <tr>\n",
       "      <th>15</th>\n",
       "      <td>$\\kappa_{v}$</td>\n",
       "      <td>Drift flow straightening</td>\n",
       "      <td>$L_{R C}$</td>\n",
       "      <td>Lift covered part</td>\n",
       "      <td>$X_{\\dot{u}}$</td>\n",
       "      <td>Surge added mass</td>\n",
       "    </tr>\n",
       "    <tr>\n",
       "      <th>16</th>\n",
       "      <td>$\\lambda_{R}$</td>\n",
       "      <td>limited radius of the prop. slipstream</td>\n",
       "      <td>$L_{R U}$</td>\n",
       "      <td>Lift uncovered part</td>\n",
       "      <td>$X_{D}$</td>\n",
       "      <td>Surge damping force</td>\n",
       "    </tr>\n",
       "    <tr>\n",
       "      <th>17</th>\n",
       "      <td>$\\lambda_{}$</td>\n",
       "      <td>Rudder taper ratio</td>\n",
       "      <td>$L_{R}$</td>\n",
       "      <td>Rudder lift</td>\n",
       "      <td>$x_{G}$</td>\n",
       "      <td>Center of gravity</td>\n",
       "    </tr>\n",
       "    <tr>\n",
       "      <th>18</th>\n",
       "      <td>$\\nu$</td>\n",
       "      <td>Kinematic viscosity</td>\n",
       "      <td>$m$</td>\n",
       "      <td>Ship mass</td>\n",
       "      <td>$X_{H}$</td>\n",
       "      <td>Hull surge force</td>\n",
       "    </tr>\n",
       "    <tr>\n",
       "      <th>19</th>\n",
       "      <td>$\\Omega$</td>\n",
       "      <td>Rudder sweep angle</td>\n",
       "      <td>$N_{\\dot{r}}$</td>\n",
       "      <td>Yaw added mass</td>\n",
       "      <td>$x_{H}$</td>\n",
       "      <td>Yaw rudder interaction</td>\n",
       "    </tr>\n",
       "    <tr>\n",
       "      <th>20</th>\n",
       "      <td>$\\rho$</td>\n",
       "      <td>Water density</td>\n",
       "      <td>$N_{\\dot{v}}$</td>\n",
       "      <td>Yaw added mass</td>\n",
       "      <td>$X_{P}$</td>\n",
       "      <td>Prop. surge force</td>\n",
       "    </tr>\n",
       "    <tr>\n",
       "      <th>21</th>\n",
       "      <td>$a_{0}$</td>\n",
       "      <td>Section lift curve slope</td>\n",
       "      <td>$N_{D}$</td>\n",
       "      <td>Yaw damping moment</td>\n",
       "      <td>$X_{R}$</td>\n",
       "      <td>Rudder surge force</td>\n",
       "    </tr>\n",
       "    <tr>\n",
       "      <th>22</th>\n",
       "      <td>$a_{H}$</td>\n",
       "      <td>Sway rudder interaction</td>\n",
       "      <td>$N_{H}$</td>\n",
       "      <td>Hull yawing moment</td>\n",
       "      <td>$x_{R}$</td>\n",
       "      <td>Rudder lever</td>\n",
       "    </tr>\n",
       "    <tr>\n",
       "      <th>23</th>\n",
       "      <td>$A_{R C}$</td>\n",
       "      <td>Rudder area covered</td>\n",
       "      <td>$N_{P}$</td>\n",
       "      <td>Prop. yawing moment</td>\n",
       "      <td>$X_{T}$</td>\n",
       "      <td>Thrust deduction</td>\n",
       "    </tr>\n",
       "    <tr>\n",
       "      <th>24</th>\n",
       "      <td>$A_{R U}$</td>\n",
       "      <td>Rudder area uncovered</td>\n",
       "      <td>$N_{RHI}$</td>\n",
       "      <td>Rudder hull interaction</td>\n",
       "      <td>$Y_{\\dot{r}}$</td>\n",
       "      <td>Sway added mass</td>\n",
       "    </tr>\n",
       "    <tr>\n",
       "      <th>25</th>\n",
       "      <td>$A_{R}$</td>\n",
       "      <td>Rudder area</td>\n",
       "      <td>$N_{R}$</td>\n",
       "      <td>Rudder yawing moment</td>\n",
       "      <td>$Y_{\\dot{v}}$</td>\n",
       "      <td>Sway added mass</td>\n",
       "    </tr>\n",
       "    <tr>\n",
       "      <th>26</th>\n",
       "      <td>$AR_{e}$</td>\n",
       "      <td>Effective aspect ratio</td>\n",
       "      <td>$r$</td>\n",
       "      <td>Yaw rate</td>\n",
       "      <td>$Y_{D}$</td>\n",
       "      <td>Sway damping force</td>\n",
       "    </tr>\n",
       "    <tr>\n",
       "      <th>27</th>\n",
       "      <td>$AR_{g}$</td>\n",
       "      <td>Geometric aspect ratio</td>\n",
       "      <td>$r_{0}$</td>\n",
       "      <td>Prop. radius</td>\n",
       "      <td>$Y_{H}$</td>\n",
       "      <td>Hull sway force</td>\n",
       "    </tr>\n",
       "    <tr>\n",
       "      <th>28</th>\n",
       "      <td>$b_{R}$</td>\n",
       "      <td>Rudder span</td>\n",
       "      <td>$r_{\\Delta}$</td>\n",
       "      <td>Turbulent mixing</td>\n",
       "      <td>$Y_{P}$</td>\n",
       "      <td>Propeller sway force</td>\n",
       "    </tr>\n",
       "    <tr>\n",
       "      <th>29</th>\n",
       "      <td>$c$</td>\n",
       "      <td>Rudder chord</td>\n",
       "      <td>$r_{\\infty}$</td>\n",
       "      <td>Prop. slipstream</td>\n",
       "      <td>$y_{p}$</td>\n",
       "      <td>Propeller lever</td>\n",
       "    </tr>\n",
       "    <tr>\n",
       "      <th>30</th>\n",
       "      <td>$C_{D C}$</td>\n",
       "      <td>Drag coeff. covered</td>\n",
       "      <td>$r_{x}$</td>\n",
       "      <td>Prop. slipstream at rudder</td>\n",
       "      <td>$Y_{RHI}$</td>\n",
       "      <td>Rudder hull interaction</td>\n",
       "    </tr>\n",
       "    <tr>\n",
       "      <th>31</th>\n",
       "      <td>$C_{D tune}$</td>\n",
       "      <td>Drag coeff. tunnig</td>\n",
       "      <td>$Re_{F C}$</td>\n",
       "      <td>Reynold number covered</td>\n",
       "      <td>$Y_{R}$</td>\n",
       "      <td>Rudder sway force</td>\n",
       "    </tr>\n",
       "    <tr>\n",
       "      <th>32</th>\n",
       "      <td>$C_{D U}$</td>\n",
       "      <td>Drag coeff. uncovered</td>\n",
       "      <td>$Re_{F U}$</td>\n",
       "      <td>Reynold number uncovered</td>\n",
       "      <td>$y_{R}$</td>\n",
       "      <td>Rudder lever</td>\n",
       "    </tr>\n",
       "    <tr>\n",
       "      <th>33</th>\n",
       "      <td>$C_{D0 C}$</td>\n",
       "      <td>Initial drag coeff. covered</td>\n",
       "      <td>$s$</td>\n",
       "      <td>Rudder gap coefficient</td>\n",
       "      <td>NaN</td>\n",
       "      <td>NaN</td>\n",
       "    </tr>\n",
       "  </tbody>\n",
       "</table>\n",
       "</div>"
      ],
      "text/plain": [
       "\n",
       "                    LaTeX                             Description         LaTeX1                   Description1         LaTeX2             Description2\n",
       "\u001b[1;36m0\u001b[0m                $\\alpha$                  Rudder angle of attack  $C_\u001b[1m{\u001b[0mD0 tune\u001b[1m}\u001b[0m$       Initial drag coeff. tune            $T$                   Thrust\n",
       "\u001b[1;36m1\u001b[0m            $\\alpha_\u001b[1m{\u001b[0mf\u001b[1m}\u001b[0m$                     Rudder inflow angle     $C_\u001b[1m{\u001b[0mD0 U\u001b[1m}\u001b[0m$  Initial drag coeff. uncovered            $u$               Surge vel.\n",
       "\u001b[1;36m2\u001b[0m                $\\delta$                            Rudder angle       $C_\u001b[1m{\u001b[0mDC\u001b[1m}\u001b[0m$         Rudder cross-flow drag            $v$                Sway vel.\n",
       "\u001b[1;36m3\u001b[0m          $\\delta_\u001b[1m{\u001b[0mlim\u001b[1m}\u001b[0m$                        Rudder gap limit      $C_\u001b[1m{\u001b[0mF C\u001b[1m}\u001b[0m$        Friction coeff. covered   $V_\u001b[1m{\u001b[0m\\infty\u001b[1m}\u001b[0m$         Prop. slipstream\n",
       "\u001b[1;36m4\u001b[0m               $\\dot\u001b[1m{\u001b[0mr\u001b[1m}\u001b[0m$                        Yaw acceleration      $C_\u001b[1m{\u001b[0mF U\u001b[1m}\u001b[0m$      Friction coeff. uncovered        $V_\u001b[1m{\u001b[0mA\u001b[1m}\u001b[0m$            Apparent vel.\n",
       "\u001b[1;36m5\u001b[0m               $\\dot\u001b[1m{\u001b[0mu\u001b[1m}\u001b[0m$                      Surge acceleration        $C_\u001b[1m{\u001b[0mL\u001b[1m}\u001b[0m$                    Lift coeff.      $V_\u001b[1m{\u001b[0mR C\u001b[1m}\u001b[0m$      Rudder vel. covered\n",
       "\u001b[1;36m6\u001b[0m               $\\dot\u001b[1m{\u001b[0mv\u001b[1m}\u001b[0m$                       Sway acceleration        $c_\u001b[1m{\u001b[0mr\u001b[1m}\u001b[0m$             Rudder root choord      $V_\u001b[1m{\u001b[0mR U\u001b[1m}\u001b[0m$    Rudder vel. uncovered\n",
       "\u001b[1;36m7\u001b[0m                $\\gamma$                     Prop. induced angle       $C_\u001b[1m{\u001b[0mTh\u001b[1m}\u001b[0m$                  Thrust coeff.    $V_\u001b[1m{\u001b[0mR x C\u001b[1m}\u001b[0m$       Axial vel. covered\n",
       "\u001b[1;36m8\u001b[0m            $\\gamma_\u001b[1m{\u001b[0m\u001b[1;36m0\u001b[0m\u001b[1m}\u001b[0m$                   Rudder initial inflow        $c_\u001b[1m{\u001b[0mt\u001b[1m}\u001b[0m$              Rudder tip choord    $V_\u001b[1m{\u001b[0mR x U\u001b[1m}\u001b[0m$     Axial vel. uncovered\n",
       "\u001b[1;36m9\u001b[0m            $\\gamma_\u001b[1m{\u001b[0mg\u001b[1m}\u001b[0m$                  Geometric inflow angle            $d$       lift diminished variable      $V_\u001b[1m{\u001b[0mR y\u001b[1m}\u001b[0m$   Rudder transverse vel.\n",
       "\u001b[1;36m10\u001b[0m  $\\kappa_\u001b[1m{\u001b[0mr \\gamma g\u001b[1m}\u001b[0m$                    $\\kappa_r$ nonlinear        $D_\u001b[1m{\u001b[0mR\u001b[1m}\u001b[0m$                    Rudder drag   $V_\u001b[1m{\u001b[0mx corr\u001b[1m}\u001b[0m$         Turbulent mixing\n",
       "\u001b[1;36m11\u001b[0m       $\\kappa_\u001b[1m{\u001b[0mr tot\u001b[1m}\u001b[0m$                        $\\kappa_r$ total        $e_\u001b[1m{\u001b[0m\u001b[1;36m0\u001b[0m\u001b[1m}\u001b[0m$       Oswald efficiency factor      $V_\u001b[1m{\u001b[0mx C\u001b[1m}\u001b[0m$      No turbulent mixing\n",
       "\u001b[1;36m12\u001b[0m           $\\kappa_\u001b[1m{\u001b[0mr\u001b[1m}\u001b[0m$             Yaw rate flow straightening            $f$       lift diminished variable      $V_\u001b[1m{\u001b[0mx U\u001b[1m}\u001b[0m$      No turbulent mixing\n",
       "\u001b[1;36m13\u001b[0m  $\\kappa_\u001b[1m{\u001b[0mv \\gamma g\u001b[1m}\u001b[0m$                    $\\kappa_v$ nonlinear        $I_\u001b[1m{\u001b[0mz\u001b[1m}\u001b[0m$              Yaw mass intertia        $w_\u001b[1m{\u001b[0mf\u001b[1m}\u001b[0m$              Taylor wake\n",
       "\u001b[1;36m14\u001b[0m       $\\kappa_\u001b[1m{\u001b[0mv tot\u001b[1m}\u001b[0m$                        $\\kappa_v$ total      $K_\u001b[1m{\u001b[0mgap\u001b[1m}\u001b[0m$                            NaN            $x$          Prop. to rudder\n",
       "\u001b[1;36m15\u001b[0m           $\\kappa_\u001b[1m{\u001b[0mv\u001b[1m}\u001b[0m$                Drift flow straightening      $L_\u001b[1m{\u001b[0mR C\u001b[1m}\u001b[0m$              Lift covered part  $X_\u001b[1m{\u001b[0m\\dot\u001b[1m{\u001b[0mu\u001b[1m}\u001b[0m\u001b[1m}\u001b[0m$         Surge added mass\n",
       "\u001b[1;36m16\u001b[0m          $\\lambda_\u001b[1m{\u001b[0mR\u001b[1m}\u001b[0m$  limited radius of the prop. slipstream      $L_\u001b[1m{\u001b[0mR U\u001b[1m}\u001b[0m$            Lift uncovered part        $X_\u001b[1m{\u001b[0mD\u001b[1m}\u001b[0m$      Surge damping force\n",
       "\u001b[1;36m17\u001b[0m           $\\lambda_\u001b[1m{\u001b[0m\u001b[1m}\u001b[0m$                      Rudder taper ratio        $L_\u001b[1m{\u001b[0mR\u001b[1m}\u001b[0m$                    Rudder lift        $x_\u001b[1m{\u001b[0mG\u001b[1m}\u001b[0m$        Center of gravity\n",
       "\u001b[1;36m18\u001b[0m                  $\\nu$                     Kinematic viscosity            $m$                      Ship mass        $X_\u001b[1m{\u001b[0mH\u001b[1m}\u001b[0m$         Hull surge force\n",
       "\u001b[1;36m19\u001b[0m               $\\Omega$                      Rudder sweep angle  $N_\u001b[1m{\u001b[0m\\dot\u001b[1m{\u001b[0mr\u001b[1m}\u001b[0m\u001b[1m}\u001b[0m$                 Yaw added mass        $x_\u001b[1m{\u001b[0mH\u001b[1m}\u001b[0m$   Yaw rudder interaction\n",
       "\u001b[1;36m20\u001b[0m                 $\\rho$                           Water density  $N_\u001b[1m{\u001b[0m\\dot\u001b[1m{\u001b[0mv\u001b[1m}\u001b[0m\u001b[1m}\u001b[0m$                 Yaw added mass        $X_\u001b[1m{\u001b[0mP\u001b[1m}\u001b[0m$        Prop. surge force\n",
       "\u001b[1;36m21\u001b[0m                $a_\u001b[1m{\u001b[0m\u001b[1;36m0\u001b[0m\u001b[1m}\u001b[0m$                Section lift curve slope        $N_\u001b[1m{\u001b[0mD\u001b[1m}\u001b[0m$             Yaw damping moment        $X_\u001b[1m{\u001b[0mR\u001b[1m}\u001b[0m$       Rudder surge force\n",
       "\u001b[1;36m22\u001b[0m                $a_\u001b[1m{\u001b[0mH\u001b[1m}\u001b[0m$                 Sway rudder interaction        $N_\u001b[1m{\u001b[0mH\u001b[1m}\u001b[0m$             Hull yawing moment        $x_\u001b[1m{\u001b[0mR\u001b[1m}\u001b[0m$             Rudder lever\n",
       "\u001b[1;36m23\u001b[0m              $A_\u001b[1m{\u001b[0mR C\u001b[1m}\u001b[0m$                     Rudder area covered        $N_\u001b[1m{\u001b[0mP\u001b[1m}\u001b[0m$            Prop. yawing moment        $X_\u001b[1m{\u001b[0mT\u001b[1m}\u001b[0m$         Thrust deduction\n",
       "\u001b[1;36m24\u001b[0m              $A_\u001b[1m{\u001b[0mR U\u001b[1m}\u001b[0m$                   Rudder area uncovered      $N_\u001b[1m{\u001b[0mRHI\u001b[1m}\u001b[0m$        Rudder hull interaction  $Y_\u001b[1m{\u001b[0m\\dot\u001b[1m{\u001b[0mr\u001b[1m}\u001b[0m\u001b[1m}\u001b[0m$          Sway added mass\n",
       "\u001b[1;36m25\u001b[0m                $A_\u001b[1m{\u001b[0mR\u001b[1m}\u001b[0m$                             Rudder area        $N_\u001b[1m{\u001b[0mR\u001b[1m}\u001b[0m$           Rudder yawing moment  $Y_\u001b[1m{\u001b[0m\\dot\u001b[1m{\u001b[0mv\u001b[1m}\u001b[0m\u001b[1m}\u001b[0m$          Sway added mass\n",
       "\u001b[1;36m26\u001b[0m               $AR_\u001b[1m{\u001b[0me\u001b[1m}\u001b[0m$                  Effective aspect ratio            $r$                       Yaw rate        $Y_\u001b[1m{\u001b[0mD\u001b[1m}\u001b[0m$       Sway damping force\n",
       "\u001b[1;36m27\u001b[0m               $AR_\u001b[1m{\u001b[0mg\u001b[1m}\u001b[0m$                  Geometric aspect ratio        $r_\u001b[1m{\u001b[0m\u001b[1;36m0\u001b[0m\u001b[1m}\u001b[0m$                   Prop. radius        $Y_\u001b[1m{\u001b[0mH\u001b[1m}\u001b[0m$          Hull sway force\n",
       "\u001b[1;36m28\u001b[0m                $b_\u001b[1m{\u001b[0mR\u001b[1m}\u001b[0m$                             Rudder span   $r_\u001b[1m{\u001b[0m\\Delta\u001b[1m}\u001b[0m$               Turbulent mixing        $Y_\u001b[1m{\u001b[0mP\u001b[1m}\u001b[0m$     Propeller sway force\n",
       "\u001b[1;36m29\u001b[0m                    $c$                            Rudder chord   $r_\u001b[1m{\u001b[0m\\infty\u001b[1m}\u001b[0m$               Prop. slipstream        $y_\u001b[1m{\u001b[0mp\u001b[1m}\u001b[0m$          Propeller lever\n",
       "\u001b[1;36m30\u001b[0m              $C_\u001b[1m{\u001b[0mD C\u001b[1m}\u001b[0m$                     Drag coeff. covered        $r_\u001b[1m{\u001b[0mx\u001b[1m}\u001b[0m$     Prop. slipstream at rudder      $Y_\u001b[1m{\u001b[0mRHI\u001b[1m}\u001b[0m$  Rudder hull interaction\n",
       "\u001b[1;36m31\u001b[0m           $C_\u001b[1m{\u001b[0mD tune\u001b[1m}\u001b[0m$                      Drag coeff. tunnig     $Re_\u001b[1m{\u001b[0mF C\u001b[1m}\u001b[0m$         Reynold number covered        $Y_\u001b[1m{\u001b[0mR\u001b[1m}\u001b[0m$        Rudder sway force\n",
       "\u001b[1;36m32\u001b[0m              $C_\u001b[1m{\u001b[0mD U\u001b[1m}\u001b[0m$                   Drag coeff. uncovered     $Re_\u001b[1m{\u001b[0mF U\u001b[1m}\u001b[0m$       Reynold number uncovered        $y_\u001b[1m{\u001b[0mR\u001b[1m}\u001b[0m$             Rudder lever\n",
       "\u001b[1;36m33\u001b[0m             $C_\u001b[1m{\u001b[0mD0 C\u001b[1m}\u001b[0m$             Initial drag coeff. covered            $s$         Rudder gap coefficient            NaN                      NaN"
      ]
     },
     "execution_count": 47,
     "metadata": {},
     "output_type": "execute_result"
    }
   ],
   "source": [
    "table"
   ]
  }
 ],
 "metadata": {
  "kernelspec": {
   "display_name": "Kedro (phd)",
   "language": "python",
   "name": "kedro_phd"
  },
  "language_info": {
   "codemirror_mode": {
    "name": "ipython",
    "version": 3
   },
   "file_extension": ".py",
   "mimetype": "text/x-python",
   "name": "python",
   "nbconvert_exporter": "python",
   "pygments_lexer": "ipython3",
   "version": "3.10.0"
  }
 },
 "nbformat": 4,
 "nbformat_minor": 5
}
