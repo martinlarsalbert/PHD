{
 "cells": [
  {
   "cell_type": "markdown",
   "id": "85c9260d-35e7-416e-a3ea-d38a47731972",
   "metadata": {},
   "source": [
    "# Mathematical model kinetics"
   ]
  },
  {
   "cell_type": "code",
   "execution_count": 1,
   "id": "126d6f87-6cda-4b3c-8eea-53a3bbca9f33",
   "metadata": {},
   "outputs": [],
   "source": [
    "#import warnings\n",
    "#warnings.filterwarnings('ignore')\n",
    "%matplotlib inline\n",
    "%load_ext autoreload\n",
    "%autoreload 2\n",
    "%config Completer.use_jedi = False"
   ]
  },
  {
   "cell_type": "code",
   "execution_count": 47,
   "id": "32a0204f-c11a-40f8-91ed-7773ccf318bf",
   "metadata": {},
   "outputs": [],
   "source": [
    "import pandas as pd\n",
    "pd.set_option('display.max_rows', 5000)\n",
    "pd.set_option('display.max_columns', 5000)\n",
    "pd.set_option('display.width', 10000)\n",
    "import numpy as np\n",
    "import yaml\n",
    "\n",
    "from vessel_manoeuvring_models.visualization.plot import track_plot, plot\n",
    "from phd.visualization.plot_ship import track_plots\n",
    "from vessel_manoeuvring_models.prime_system import PrimeSystem\n",
    "from phd.visualization.plot_prediction import plot_total_force, plot_force_components, predict, plot_compare_model_forces, plot_parameter_contributions\n",
    "from phd.visualization.bokeh_plotting import create_tab\n",
    "from vessel_manoeuvring_models.symbols import *\n",
    "import matplotlib.pyplot as plt\n",
    "from vessel_manoeuvring_models.substitute_dynamic_symbols import run, lambdify, remove_functions, prime\n",
    "from vessel_manoeuvring_models.parameters import df_parameters\n",
    "p = df_parameters[\"symbol\"]\n",
    "import statsmodels.api as sm\n",
    "import sympy as sp\n",
    "from sympy import Eq, symbols, latex\n",
    "import paper\n",
    "from paper import save_fig, save_eq"
   ]
  },
  {
   "cell_type": "code",
   "execution_count": 72,
   "id": "0b20a13f-48c7-469b-8bce-73f2655d0333",
   "metadata": {},
   "outputs": [
    {
     "data": {
      "text/html": [
       "<pre style=\"white-space:pre;overflow-x:auto;line-height:normal;font-family:Menlo,'DejaVu Sans Mono',consolas,'Courier New',monospace\"><span style=\"color: #7fbfbf; text-decoration-color: #7fbfbf\">[01/09/24 07:34:25] </span><span style=\"color: #000080; text-decoration-color: #000080\">INFO    </span> Loading data from <span style=\"color: #008000; text-decoration-color: #008000\">'wPCC.ship_data'</span> <span style=\"font-weight: bold\">(</span>YAMLDataSet<span style=\"font-weight: bold\">)</span><span style=\"color: #808000; text-decoration-color: #808000\">...</span>                <a href=\"file:///home/maa/anaconda3/envs/phd/lib/python3.10/site-packages/kedro/io/data_catalog.py\" target=\"_blank\"><span style=\"color: #7f7f7f; text-decoration-color: #7f7f7f\">data_catalog.py</span></a><span style=\"color: #7f7f7f; text-decoration-color: #7f7f7f\">:</span><a href=\"file:///home/maa/anaconda3/envs/phd/lib/python3.10/site-packages/kedro/io/data_catalog.py#502\" target=\"_blank\"><span style=\"color: #7f7f7f; text-decoration-color: #7f7f7f\">502</span></a>\n",
       "</pre>\n"
      ],
      "text/plain": [
       "\u001b[2;36m[01/09/24 07:34:25]\u001b[0m\u001b[2;36m \u001b[0m\u001b[34mINFO    \u001b[0m Loading data from \u001b[32m'wPCC.ship_data'\u001b[0m \u001b[1m(\u001b[0mYAMLDataSet\u001b[1m)\u001b[0m\u001b[33m...\u001b[0m                \u001b]8;id=113885;file:///home/maa/anaconda3/envs/phd/lib/python3.10/site-packages/kedro/io/data_catalog.py\u001b\\\u001b[2mdata_catalog.py\u001b[0m\u001b]8;;\u001b\\\u001b[2m:\u001b[0m\u001b]8;id=211678;file:///home/maa/anaconda3/envs/phd/lib/python3.10/site-packages/kedro/io/data_catalog.py#502\u001b\\\u001b[2m502\u001b[0m\u001b]8;;\u001b\\\n"
      ]
     },
     "metadata": {},
     "output_type": "display_data"
    },
    {
     "data": {
      "text/html": [
       "<pre style=\"white-space:pre;overflow-x:auto;line-height:normal;font-family:Menlo,'DejaVu Sans Mono',consolas,'Courier New',monospace\"><span style=\"color: #7fbfbf; text-decoration-color: #7fbfbf\">                    </span><span style=\"color: #000080; text-decoration-color: #000080\">INFO    </span> Loading data from <span style=\"color: #008000; text-decoration-color: #008000\">'wPCC.models_VCT'</span> <span style=\"font-weight: bold\">(</span>PartitionedDataset<span style=\"font-weight: bold\">)</span><span style=\"color: #808000; text-decoration-color: #808000\">...</span>        <a href=\"file:///home/maa/anaconda3/envs/phd/lib/python3.10/site-packages/kedro/io/data_catalog.py\" target=\"_blank\"><span style=\"color: #7f7f7f; text-decoration-color: #7f7f7f\">data_catalog.py</span></a><span style=\"color: #7f7f7f; text-decoration-color: #7f7f7f\">:</span><a href=\"file:///home/maa/anaconda3/envs/phd/lib/python3.10/site-packages/kedro/io/data_catalog.py#502\" target=\"_blank\"><span style=\"color: #7f7f7f; text-decoration-color: #7f7f7f\">502</span></a>\n",
       "</pre>\n"
      ],
      "text/plain": [
       "\u001b[2;36m                   \u001b[0m\u001b[2;36m \u001b[0m\u001b[34mINFO    \u001b[0m Loading data from \u001b[32m'wPCC.models_VCT'\u001b[0m \u001b[1m(\u001b[0mPartitionedDataset\u001b[1m)\u001b[0m\u001b[33m...\u001b[0m        \u001b]8;id=771573;file:///home/maa/anaconda3/envs/phd/lib/python3.10/site-packages/kedro/io/data_catalog.py\u001b\\\u001b[2mdata_catalog.py\u001b[0m\u001b]8;;\u001b\\\u001b[2m:\u001b[0m\u001b]8;id=600765;file:///home/maa/anaconda3/envs/phd/lib/python3.10/site-packages/kedro/io/data_catalog.py#502\u001b\\\u001b[2m502\u001b[0m\u001b]8;;\u001b\\\n"
      ]
     },
     "metadata": {},
     "output_type": "display_data"
    },
    {
     "data": {
      "text/html": [
       "<pre style=\"white-space:pre;overflow-x:auto;line-height:normal;font-family:Menlo,'DejaVu Sans Mono',consolas,'Courier New',monospace\"><span style=\"color: #7fbfbf; text-decoration-color: #7fbfbf\">                    </span><span style=\"color: #800000; text-decoration-color: #800000\">WARNING </span> <span style=\"color: #800080; text-decoration-color: #800080\">/home/maa/anaconda3/envs/phd/lib/python3.10/site-packages/kedro/io/</span><span style=\"color: #ff00ff; text-decoration-color: #ff00ff\">par</span> <a href=\"file:///home/maa/anaconda3/envs/phd/lib/python3.10/warnings.py\" target=\"_blank\"><span style=\"color: #7f7f7f; text-decoration-color: #7f7f7f\">warnings.py</span></a><span style=\"color: #7f7f7f; text-decoration-color: #7f7f7f\">:</span><a href=\"file:///home/maa/anaconda3/envs/phd/lib/python3.10/warnings.py#109\" target=\"_blank\"><span style=\"color: #7f7f7f; text-decoration-color: #7f7f7f\">109</span></a>\n",
       "<span style=\"color: #7fbfbf; text-decoration-color: #7fbfbf\">                    </span>         <span style=\"color: #ff00ff; text-decoration-color: #ff00ff\">titioned_dataset.py</span>:<span style=\"color: #008080; text-decoration-color: #008080; font-weight: bold\">200</span>: KedroDeprecationWarning: <span style=\"color: #008000; text-decoration-color: #008000\">'PartitionedDataset'</span> <span style=\"color: #7f7f7f; text-decoration-color: #7f7f7f\">               </span>\n",
       "<span style=\"color: #7fbfbf; text-decoration-color: #7fbfbf\">                    </span>         has been moved to `kedro-datasets` and will be removed in Kedro        <span style=\"color: #7f7f7f; text-decoration-color: #7f7f7f\">               </span>\n",
       "<span style=\"color: #7fbfbf; text-decoration-color: #7fbfbf\">                    </span>         <span style=\"color: #008080; text-decoration-color: #008080; font-weight: bold\">0.19</span>.<span style=\"color: #008080; text-decoration-color: #008080; font-weight: bold\">0</span>.                                                                <span style=\"color: #7f7f7f; text-decoration-color: #7f7f7f\">               </span>\n",
       "<span style=\"color: #7fbfbf; text-decoration-color: #7fbfbf\">                    </span>           <span style=\"color: #800080; text-decoration-color: #800080; font-weight: bold\">warnings.warn</span><span style=\"font-weight: bold\">(</span>                                                       <span style=\"color: #7f7f7f; text-decoration-color: #7f7f7f\">               </span>\n",
       "<span style=\"color: #7fbfbf; text-decoration-color: #7fbfbf\">                    </span>                                                                                <span style=\"color: #7f7f7f; text-decoration-color: #7f7f7f\">               </span>\n",
       "</pre>\n"
      ],
      "text/plain": [
       "\u001b[2;36m                   \u001b[0m\u001b[2;36m \u001b[0m\u001b[31mWARNING \u001b[0m \u001b[35m/home/maa/anaconda3/envs/phd/lib/python3.10/site-packages/kedro/io/\u001b[0m\u001b[95mpar\u001b[0m \u001b]8;id=533150;file:///home/maa/anaconda3/envs/phd/lib/python3.10/warnings.py\u001b\\\u001b[2mwarnings.py\u001b[0m\u001b]8;;\u001b\\\u001b[2m:\u001b[0m\u001b]8;id=699061;file:///home/maa/anaconda3/envs/phd/lib/python3.10/warnings.py#109\u001b\\\u001b[2m109\u001b[0m\u001b]8;;\u001b\\\n",
       "\u001b[2;36m                    \u001b[0m         \u001b[95mtitioned_dataset.py\u001b[0m:\u001b[1;36m200\u001b[0m: KedroDeprecationWarning: \u001b[32m'PartitionedDataset'\u001b[0m \u001b[2m               \u001b[0m\n",
       "\u001b[2;36m                    \u001b[0m         has been moved to `kedro-datasets` and will be removed in Kedro        \u001b[2m               \u001b[0m\n",
       "\u001b[2;36m                    \u001b[0m         \u001b[1;36m0.19\u001b[0m.\u001b[1;36m0\u001b[0m.                                                                \u001b[2m               \u001b[0m\n",
       "\u001b[2;36m                    \u001b[0m           \u001b[1;35mwarnings.warn\u001b[0m\u001b[1m(\u001b[0m                                                       \u001b[2m               \u001b[0m\n",
       "\u001b[2;36m                    \u001b[0m                                                                                \u001b[2m               \u001b[0m\n"
      ]
     },
     "metadata": {},
     "output_type": "display_data"
    },
    {
     "data": {
      "text/html": [
       "<pre style=\"white-space:pre;overflow-x:auto;line-height:normal;font-family:Menlo,'DejaVu Sans Mono',consolas,'Courier New',monospace\"><span style=\"color: #7fbfbf; text-decoration-color: #7fbfbf\">                    </span><span style=\"color: #000080; text-decoration-color: #000080\">INFO    </span> Loading data from <span style=\"color: #008000; text-decoration-color: #008000\">'wPCC.models_rudder_VCT'</span> <span style=\"font-weight: bold\">(</span>PartitionedDataset<span style=\"font-weight: bold\">)</span><span style=\"color: #808000; text-decoration-color: #808000\">...</span> <a href=\"file:///home/maa/anaconda3/envs/phd/lib/python3.10/site-packages/kedro/io/data_catalog.py\" target=\"_blank\"><span style=\"color: #7f7f7f; text-decoration-color: #7f7f7f\">data_catalog.py</span></a><span style=\"color: #7f7f7f; text-decoration-color: #7f7f7f\">:</span><a href=\"file:///home/maa/anaconda3/envs/phd/lib/python3.10/site-packages/kedro/io/data_catalog.py#502\" target=\"_blank\"><span style=\"color: #7f7f7f; text-decoration-color: #7f7f7f\">502</span></a>\n",
       "</pre>\n"
      ],
      "text/plain": [
       "\u001b[2;36m                   \u001b[0m\u001b[2;36m \u001b[0m\u001b[34mINFO    \u001b[0m Loading data from \u001b[32m'wPCC.models_rudder_VCT'\u001b[0m \u001b[1m(\u001b[0mPartitionedDataset\u001b[1m)\u001b[0m\u001b[33m...\u001b[0m \u001b]8;id=573730;file:///home/maa/anaconda3/envs/phd/lib/python3.10/site-packages/kedro/io/data_catalog.py\u001b\\\u001b[2mdata_catalog.py\u001b[0m\u001b]8;;\u001b\\\u001b[2m:\u001b[0m\u001b]8;id=536805;file:///home/maa/anaconda3/envs/phd/lib/python3.10/site-packages/kedro/io/data_catalog.py#502\u001b\\\u001b[2m502\u001b[0m\u001b]8;;\u001b\\\n"
      ]
     },
     "metadata": {},
     "output_type": "display_data"
    }
   ],
   "source": [
    "#%reload_kedro\n",
    "ship='wPCC'\n",
    "ship_data = catalog.load(f\"{ship}.ship_data\")\n",
    "model_loaders = catalog.load(f\"{ship}.models_VCT\")\n",
    "models_rudder_VCT_loaders = catalog.load(f\"{ship}.models_rudder_VCT\")"
   ]
  },
  {
   "cell_type": "code",
   "execution_count": 7,
   "id": "491510ad-d482-4448-842d-3abcecfaaf13",
   "metadata": {},
   "outputs": [
    {
     "data": {
      "text/plain": [
       "{'semiempirical_covered': <bound method AbstractDataset.load of <phd.extras.datasets.model_dataset.ModularVesselSimulatorDataSet object at 0x7f4d68087040>>}"
      ]
     },
     "execution_count": 7,
     "metadata": {},
     "output_type": "execute_result"
    }
   ],
   "source": [
    "model_loaders"
   ]
  },
  {
   "cell_type": "code",
   "execution_count": 73,
   "id": "3a905f49-23d7-4495-b6b9-08da60be962b",
   "metadata": {},
   "outputs": [
    {
     "data": {
      "text/plain": [
       "{'Abkowitz': <bound method AbstractDataset.load of <phd.extras.datasets.model_dataset.ModularVesselSimulatorDataSet object at 0x7f4d6236cc40>>}"
      ]
     },
     "execution_count": 73,
     "metadata": {},
     "output_type": "execute_result"
    }
   ],
   "source": [
    "models_rudder_VCT_loaders"
   ]
  },
  {
   "cell_type": "code",
   "execution_count": 8,
   "id": "3756a84c-6388-40a2-8a93-1b3ff0da97b0",
   "metadata": {},
   "outputs": [],
   "source": [
    "model = model_loaders['semiempirical_covered']()"
   ]
  },
  {
   "cell_type": "code",
   "execution_count": 75,
   "id": "de94c842-116c-42a5-be26-e0ff73328f47",
   "metadata": {},
   "outputs": [],
   "source": [
    "model_abkowitz = models_rudder_VCT_loaders['Abkowitz']()"
   ]
  },
  {
   "cell_type": "code",
   "execution_count": 9,
   "id": "fa0e276e-73af-474a-b704-4017834b5bf9",
   "metadata": {},
   "outputs": [
    {
     "data": {
      "text/latex": [
       "$\\displaystyle m \\left(\\dot{u} - r^{2} x_{G} - r v\\right) = X_{RHI} + X_{\\dot{u}} \\dot{u} + X_{H}{\\left(u,v,r,\\delta \\right)} + X_{P}{\\left(u,v,r,rev \\right)} + X_{R}{\\left(u,v,r,\\delta,thrust \\right)} + X_{W}{\\left(C_{x3},C_{x2},C_{x0},C_{x4},C_{x5},aws,C_{x1},A_{XV},awa,\\rho_{A} \\right)}$"
      ],
      "text/plain": [
       "Eq(m*(\\dot{u} - r**2*x_G - r*v), X_RHI + X_{\\dot{u}}*\\dot{u} + X_H(u, v, r, delta) + X_P(u, v, r, rev) + X_R(u, v, r, delta, thrust) + X_W(C_x3, C_x2, C_x0, C_x4, C_x5, aws, C_x1, A_XV, awa, rho_A))"
      ]
     },
     "execution_count": 9,
     "metadata": {},
     "output_type": "execute_result"
    }
   ],
   "source": [
    "model.X_eq"
   ]
  },
  {
   "cell_type": "code",
   "execution_count": 22,
   "id": "28f5d13e-919f-4a19-b2fc-382ce71340fc",
   "metadata": {},
   "outputs": [
    {
     "data": {
      "text/plain": [
       "'mathematical_model_kinetics.X'"
      ]
     },
     "metadata": {},
     "output_type": "display_data"
    },
    {
     "data": {
      "text/latex": [
       "$\\displaystyle m \\left(\\dot{u} - r^{2} x_{G} - r v\\right) = X_{D}$"
      ],
      "text/plain": [
       "Eq(m*(\\dot{u} - r**2*x_G - r*v), X_D)"
      ]
     },
     "metadata": {},
     "output_type": "display_data"
    },
    {
     "data": {
      "text/plain": [
       "''"
      ]
     },
     "metadata": {},
     "output_type": "display_data"
    },
    {
     "data": {
      "text/plain": [
       "'mathematical_model_kinetics.Y'"
      ]
     },
     "metadata": {},
     "output_type": "display_data"
    },
    {
     "data": {
      "text/latex": [
       "$\\displaystyle m \\left(\\dot{r} x_{G} + \\dot{v} + r u\\right) = Y_{D}$"
      ],
      "text/plain": [
       "Eq(m*(\\dot{r}*x_G + \\dot{v} + r*u), Y_D)"
      ]
     },
     "metadata": {},
     "output_type": "display_data"
    },
    {
     "data": {
      "text/plain": [
       "''"
      ]
     },
     "metadata": {},
     "output_type": "display_data"
    },
    {
     "data": {
      "text/plain": [
       "'mathematical_model_kinetics.N'"
      ]
     },
     "metadata": {},
     "output_type": "display_data"
    },
    {
     "data": {
      "text/latex": [
       "$\\displaystyle I_{z} \\dot{r} + m x_{G} \\left(\\dot{v} + r u\\right) = N_{D}$"
      ],
      "text/plain": [
       "Eq(I_z*\\dot{r} + m*x_G*(\\dot{v} + r*u), N_D)"
      ]
     },
     "metadata": {},
     "output_type": "display_data"
    },
    {
     "data": {
      "text/plain": [
       "''"
      ]
     },
     "metadata": {},
     "output_type": "display_data"
    }
   ],
   "source": [
    "eq_X = Eq(model.X_eq.lhs,X_D)\n",
    "eq_Y = Eq(model.Y_eq.lhs,Y_D)\n",
    "eq_N = Eq(model.N_eq.lhs,N_D)\n",
    "\n",
    "save_eq(remove_functions(eq_X), file_name='X')\n",
    "save_eq(remove_functions(eq_Y), file_name='Y')\n",
    "save_eq(remove_functions(eq_N), file_name='N')"
   ]
  },
  {
   "cell_type": "code",
   "execution_count": 71,
   "id": "4e75e769-32b5-4625-94c2-58a6f6017cbe",
   "metadata": {},
   "outputs": [
    {
     "data": {
      "text/plain": [
       "'mathematical_model_kinetics.X_D'"
      ]
     },
     "metadata": {},
     "output_type": "display_data"
    },
    {
     "data": {
      "text/latex": [
       "$\\displaystyle X_{D} = X_{H} + X_{P} + X_{R}$"
      ],
      "text/plain": [
       "Eq(X_D, X_H + X_P + X_R)"
      ]
     },
     "metadata": {},
     "output_type": "display_data"
    },
    {
     "data": {
      "text/plain": [
       "''"
      ]
     },
     "metadata": {},
     "output_type": "display_data"
    },
    {
     "data": {
      "text/plain": [
       "'mathematical_model_kinetics.Y_D'"
      ]
     },
     "metadata": {},
     "output_type": "display_data"
    },
    {
     "data": {
      "text/latex": [
       "$\\displaystyle Y_{D} = Y_{H} + Y_{P} + Y_{R} + Y_{RHI}$"
      ],
      "text/plain": [
       "Eq(Y_D, Y_H + Y_P + Y_R + Y_RHI)"
      ]
     },
     "metadata": {},
     "output_type": "display_data"
    },
    {
     "data": {
      "text/plain": [
       "''"
      ]
     },
     "metadata": {},
     "output_type": "display_data"
    },
    {
     "data": {
      "text/plain": [
       "'mathematical_model_kinetics.N_D'"
      ]
     },
     "metadata": {},
     "output_type": "display_data"
    },
    {
     "data": {
      "text/latex": [
       "$\\displaystyle N_{D} = N_{H} + N_{P} + N_{R} + N_{RHI}$"
      ],
      "text/plain": [
       "Eq(N_D, N_H + N_P + N_R + N_RHI)"
      ]
     },
     "metadata": {},
     "output_type": "display_data"
    },
    {
     "data": {
      "text/plain": [
       "''"
      ]
     },
     "metadata": {},
     "output_type": "display_data"
    }
   ],
   "source": [
    "X_D_eq = remove_functions(model.X_D_eq).subs([\n",
    "    (\"X_W\",0),\n",
    "    (\"X_RHI\",0),\n",
    "])\n",
    "Y_D_eq = remove_functions(model.Y_D_eq).subs(\"Y_W\",0)\n",
    "N_D_eq = remove_functions(model.N_D_eq).subs(\"N_W\",0)\n",
    "\n",
    "save_eq(remove_functions(X_D_eq), file_name='X_D')\n",
    "save_eq(remove_functions(Y_D_eq), file_name='Y_D')\n",
    "save_eq(remove_functions(N_D_eq), file_name='N_D')"
   ]
  },
  {
   "cell_type": "code",
   "execution_count": 26,
   "id": "aaf5d0bb-bc6c-4671-872a-b79b3a070ab4",
   "metadata": {},
   "outputs": [
    {
     "name": "stdout",
     "output_type": "stream",
     "text": [
      "hull: PrimeEquationSubSystem\n",
      "propellers: PropellersSimpleSystem\n",
      "rudder_port: SemiempiricalRudderSystemCovered\n",
      "rudder_stbd: SemiempiricalRudderSystemCovered\n",
      "rudders: Rudders\n",
      "rudder_hull_interaction: RudderHullInteractionSystem\n",
      "wind_force: DummyWindForceSystem\n"
     ]
    }
   ],
   "source": [
    "model.show_subsystems()"
   ]
  },
  {
   "cell_type": "markdown",
   "id": "a55396d3-be8f-430d-8f7b-e410808fd765",
   "metadata": {},
   "source": [
    "## Hull"
   ]
  },
  {
   "cell_type": "code",
   "execution_count": 51,
   "id": "a4178eb6-a3c0-48b1-b3a1-fae3ea2ab0bf",
   "metadata": {},
   "outputs": [
    {
     "data": {
      "text/plain": [
       "'mathematical_model_kinetics.X_H'"
      ]
     },
     "metadata": {},
     "output_type": "display_data"
    },
    {
     "data": {
      "text/latex": [
       "$\\displaystyle {X_H'} = {X_{0}'} + {X_{rr}'} {r'}^{2} + {X_{u}'} {u'} + {X_{vr}'} {r'} {v'} + {X_{vv}'} {v'}^{2}$"
      ],
      "text/plain": [
       "Eq({X_H'}, {X_{0}'} + {X_{rr}'}*{r'}**2 + {X_{u}'}*{u'} + {X_{vr}'}*{r'}*{v'} + {X_{vv}'}*{v'}**2)"
      ]
     },
     "metadata": {},
     "output_type": "display_data"
    },
    {
     "data": {
      "text/plain": [
       "''"
      ]
     },
     "metadata": {},
     "output_type": "display_data"
    },
    {
     "data": {
      "text/plain": [
       "'mathematical_model_kinetics.Y_H'"
      ]
     },
     "metadata": {},
     "output_type": "display_data"
    },
    {
     "data": {
      "text/latex": [
       "$\\displaystyle {Y_H'} = {Y_{0}'} + {Y_{rrr}'} {r'}^{3} + {Y_{r}'} {r'} + {Y_{vrr}'} {r'}^{2} {v'} + {Y_{vvr}'} {r'} {v'}^{2} + {Y_{vvv}'} {v'}^{3} + {Y_{v}'} {v'}$"
      ],
      "text/plain": [
       "Eq({Y_H'}, {Y_{0}'} + {Y_{rrr}'}*{r'}**3 + {Y_{r}'}*{r'} + {Y_{vrr}'}*{r'}**2*{v'} + {Y_{vvr}'}*{r'}*{v'}**2 + {Y_{vvv}'}*{v'}**3 + {Y_{v}'}*{v'})"
      ]
     },
     "metadata": {},
     "output_type": "display_data"
    },
    {
     "data": {
      "text/plain": [
       "''"
      ]
     },
     "metadata": {},
     "output_type": "display_data"
    },
    {
     "data": {
      "text/plain": [
       "'mathematical_model_kinetics.N_H'"
      ]
     },
     "metadata": {},
     "output_type": "display_data"
    },
    {
     "data": {
      "text/latex": [
       "$\\displaystyle {N_H'} = {N_{0}'} + {N_{rrr}'} {r'}^{3} + {N_{r}'} {r'} + {N_{vrr}'} {r'}^{2} {v'} + {N_{vvr}'} {r'} {v'}^{2} + {N_{vvv}'} {v'}^{3} + {N_{v}'} {v'}$"
      ],
      "text/plain": [
       "Eq({N_H'}, {N_{0}'} + {N_{rrr}'}*{r'}**3 + {N_{r}'}*{r'} + {N_{vrr}'}*{r'}**2*{v'} + {N_{vvr}'}*{r'}*{v'}**2 + {N_{vvv}'}*{v'}**3 + {N_{v}'}*{v'})"
      ]
     },
     "metadata": {},
     "output_type": "display_data"
    },
    {
     "data": {
      "text/plain": [
       "''"
      ]
     },
     "metadata": {},
     "output_type": "display_data"
    }
   ],
   "source": [
    "for name, eq in model.subsystems['hull'].equations.items():\n",
    "    save_eq(prime(eq), file_name=name)"
   ]
  },
  {
   "cell_type": "markdown",
   "id": "960df9fb-7a52-493b-9bcc-de56632a3182",
   "metadata": {},
   "source": [
    "## Propellers"
   ]
  },
  {
   "cell_type": "code",
   "execution_count": 116,
   "id": "c6ec611d-ce3d-40c4-bfbf-2cfa93f1ebc2",
   "metadata": {},
   "outputs": [
    {
     "data": {
      "text/html": [
       "mathematical_model_kinetics.X_P_port"
      ],
      "text/plain": [
       "<IPython.core.display.HTML object>"
      ]
     },
     "metadata": {},
     "output_type": "display_data"
    },
    {
     "data": {
      "text/latex": [
       "$\\displaystyle X_{P port} = X_{thrustport} thrust_{port}$"
      ],
      "text/plain": [
       "<IPython.core.display.Math object>"
      ]
     },
     "metadata": {},
     "output_type": "display_data"
    },
    {
     "data": {
      "text/html": [
       "<br>"
      ],
      "text/plain": [
       "<IPython.core.display.HTML object>"
      ]
     },
     "metadata": {},
     "output_type": "display_data"
    },
    {
     "data": {
      "text/html": [
       "mathematical_model_kinetics.X_P_stbd"
      ],
      "text/plain": [
       "<IPython.core.display.HTML object>"
      ]
     },
     "metadata": {},
     "output_type": "display_data"
    },
    {
     "data": {
      "text/latex": [
       "$\\displaystyle X_{P stbd} = X_{thruststbd} thrust_{stbd}$"
      ],
      "text/plain": [
       "<IPython.core.display.Math object>"
      ]
     },
     "metadata": {},
     "output_type": "display_data"
    },
    {
     "data": {
      "text/html": [
       "<br>"
      ],
      "text/plain": [
       "<IPython.core.display.HTML object>"
      ]
     },
     "metadata": {},
     "output_type": "display_data"
    },
    {
     "data": {
      "text/html": [
       "mathematical_model_kinetics.X_P"
      ],
      "text/plain": [
       "<IPython.core.display.HTML object>"
      ]
     },
     "metadata": {},
     "output_type": "display_data"
    },
    {
     "data": {
      "text/latex": [
       "$\\displaystyle X_{P} = X_{P port} + X_{P stbd}$"
      ],
      "text/plain": [
       "<IPython.core.display.Math object>"
      ]
     },
     "metadata": {},
     "output_type": "display_data"
    },
    {
     "data": {
      "text/html": [
       "<br>"
      ],
      "text/plain": [
       "<IPython.core.display.HTML object>"
      ]
     },
     "metadata": {},
     "output_type": "display_data"
    },
    {
     "data": {
      "text/html": [
       "mathematical_model_kinetics.Y_P"
      ],
      "text/plain": [
       "<IPython.core.display.HTML object>"
      ]
     },
     "metadata": {},
     "output_type": "display_data"
    },
    {
     "data": {
      "text/latex": [
       "$\\displaystyle Y_{P} = 0$"
      ],
      "text/plain": [
       "<IPython.core.display.Math object>"
      ]
     },
     "metadata": {},
     "output_type": "display_data"
    },
    {
     "data": {
      "text/html": [
       "<br>"
      ],
      "text/plain": [
       "<IPython.core.display.HTML object>"
      ]
     },
     "metadata": {},
     "output_type": "display_data"
    },
    {
     "data": {
      "text/html": [
       "mathematical_model_kinetics.N_P_port"
      ],
      "text/plain": [
       "<IPython.core.display.HTML object>"
      ]
     },
     "metadata": {},
     "output_type": "display_data"
    },
    {
     "data": {
      "text/latex": [
       "$\\displaystyle N_{P port} = - X_{P port} y_{p port}$"
      ],
      "text/plain": [
       "<IPython.core.display.Math object>"
      ]
     },
     "metadata": {},
     "output_type": "display_data"
    },
    {
     "data": {
      "text/html": [
       "<br>"
      ],
      "text/plain": [
       "<IPython.core.display.HTML object>"
      ]
     },
     "metadata": {},
     "output_type": "display_data"
    },
    {
     "data": {
      "text/html": [
       "mathematical_model_kinetics.N_P_stbd"
      ],
      "text/plain": [
       "<IPython.core.display.HTML object>"
      ]
     },
     "metadata": {},
     "output_type": "display_data"
    },
    {
     "data": {
      "text/latex": [
       "$\\displaystyle N_{P stbd} = - X_{P stbd} y_{p stbd}$"
      ],
      "text/plain": [
       "<IPython.core.display.Math object>"
      ]
     },
     "metadata": {},
     "output_type": "display_data"
    },
    {
     "data": {
      "text/html": [
       "<br>"
      ],
      "text/plain": [
       "<IPython.core.display.HTML object>"
      ]
     },
     "metadata": {},
     "output_type": "display_data"
    },
    {
     "data": {
      "text/html": [
       "mathematical_model_kinetics.N_P"
      ],
      "text/plain": [
       "<IPython.core.display.HTML object>"
      ]
     },
     "metadata": {},
     "output_type": "display_data"
    },
    {
     "data": {
      "text/latex": [
       "$\\displaystyle N_{P} = N_{P port} + N_{P stbd}$"
      ],
      "text/plain": [
       "<IPython.core.display.Math object>"
      ]
     },
     "metadata": {},
     "output_type": "display_data"
    },
    {
     "data": {
      "text/html": [
       "<br>"
      ],
      "text/plain": [
       "<IPython.core.display.HTML object>"
      ]
     },
     "metadata": {},
     "output_type": "display_data"
    }
   ],
   "source": [
    "for name, eq in model.subsystems['propellers'].equations.items():\n",
    "    if isinstance(model.subsystems['propellers'], vessel_manoeuvring_models.models.subsystem.PrimeEquationSubSystem):\n",
    "        save_eq(prime(eq), file_name=name)\n",
    "    else:\n",
    "        save_eq(eq, file_name=name)"
   ]
  },
  {
   "cell_type": "markdown",
   "id": "a4907d3e-395c-41d0-bbb7-6ba9b623a6d9",
   "metadata": {},
   "source": [
    "## Rudder hull interaction"
   ]
  },
  {
   "cell_type": "code",
   "execution_count": 70,
   "id": "2b69dd6d-1232-45da-8478-dc227f5c247e",
   "metadata": {},
   "outputs": [
    {
     "data": {
      "text/plain": [
       "'mathematical_model_kinetics.X_RHI'"
      ]
     },
     "metadata": {},
     "output_type": "display_data"
    },
    {
     "data": {
      "text/latex": [
       "$\\displaystyle X_{RHI} = 0$"
      ],
      "text/plain": [
       "Eq(X_RHI, 0)"
      ]
     },
     "metadata": {},
     "output_type": "display_data"
    },
    {
     "data": {
      "text/plain": [
       "''"
      ]
     },
     "metadata": {},
     "output_type": "display_data"
    },
    {
     "data": {
      "text/plain": [
       "'mathematical_model_kinetics.Y_RHI'"
      ]
     },
     "metadata": {},
     "output_type": "display_data"
    },
    {
     "data": {
      "text/latex": [
       "$\\displaystyle Y_{RHI} = Y_{R} a_{H}$"
      ],
      "text/plain": [
       "Eq(Y_RHI, Y_R*a_H)"
      ]
     },
     "metadata": {},
     "output_type": "display_data"
    },
    {
     "data": {
      "text/plain": [
       "''"
      ]
     },
     "metadata": {},
     "output_type": "display_data"
    },
    {
     "data": {
      "text/plain": [
       "'mathematical_model_kinetics.N_RHI'"
      ]
     },
     "metadata": {},
     "output_type": "display_data"
    },
    {
     "data": {
      "text/latex": [
       "$\\displaystyle N_{RHI} = N_{R} x_{H}$"
      ],
      "text/plain": [
       "Eq(N_RHI, N_R*x_H)"
      ]
     },
     "metadata": {},
     "output_type": "display_data"
    },
    {
     "data": {
      "text/plain": [
       "''"
      ]
     },
     "metadata": {},
     "output_type": "display_data"
    }
   ],
   "source": [
    "for name, eq in model.subsystems['rudder_hull_interaction'].equations.items():\n",
    "    if isinstance(model.subsystems['rudder_hull_interaction'], vessel_manoeuvring_models.models.subsystem.PrimeEquationSubSystem):\n",
    "        save_eq(prime(eq), file_name=name)\n",
    "    else:\n",
    "        save_eq(eq, file_name=name)"
   ]
  },
  {
   "cell_type": "markdown",
   "id": "707b33f2-4e8b-429d-87b6-1b9b6677fca0",
   "metadata": {},
   "source": [
    "## Pure mathematical rudder model"
   ]
  },
  {
   "cell_type": "code",
   "execution_count": 76,
   "id": "3e77dee0-1a59-45d9-8416-2f84eebd4a7d",
   "metadata": {},
   "outputs": [
    {
     "name": "stdout",
     "output_type": "stream",
     "text": [
      "hull: PrimeEquationSubSystem\n",
      "propellers: PropellersSimpleSystem\n",
      "rudders: AbkowitzRudderSystem\n",
      "rudder_hull_interaction: RudderHullInteractionDummySystem\n",
      "wind_force: DummyWindForceSystem\n"
     ]
    }
   ],
   "source": [
    "model_abkowitz.show_subsystems()"
   ]
  },
  {
   "cell_type": "code",
   "execution_count": 108,
   "id": "984abb26-16f5-4441-b367-5e97492b86c2",
   "metadata": {},
   "outputs": [
    {
     "data": {
      "text/html": [
       "mathematical_model_kinetics.X_R_math"
      ],
      "text/plain": [
       "<IPython.core.display.HTML object>"
      ]
     },
     "metadata": {},
     "output_type": "display_data"
    },
    {
     "data": {
      "text/latex": [
       "$\\displaystyle {X_R'} = {X_{\\delta\\delta}'} {\\delta'}^{2}$"
      ],
      "text/plain": [
       "<IPython.core.display.Math object>"
      ]
     },
     "metadata": {},
     "output_type": "display_data"
    },
    {
     "data": {
      "text/html": [
       "<br>"
      ],
      "text/plain": [
       "<IPython.core.display.HTML object>"
      ]
     },
     "metadata": {},
     "output_type": "display_data"
    },
    {
     "data": {
      "text/html": [
       "mathematical_model_kinetics.Y_R_math"
      ],
      "text/plain": [
       "<IPython.core.display.HTML object>"
      ]
     },
     "metadata": {},
     "output_type": "display_data"
    },
    {
     "data": {
      "text/latex": [
       "$\\displaystyle {Y_R'} = {Y_{\\delta\\delta\\delta}'} {\\delta'}^{3} + {Y_{\\delta}'} {\\delta'} + {Y_{r\\delta\\delta}'} {\\delta'}^{2} {r'} + {Y_{rr\\delta}'} {\\delta'} {r'}^{2} + {Y_{v\\delta\\delta}'} {\\delta'}^{2} {v'} + {Y_{vr\\delta}'} {\\delta'} {r'} {v'} + {Y_{vv\\delta}'} {\\delta'} {v'}^{2}$"
      ],
      "text/plain": [
       "<IPython.core.display.Math object>"
      ]
     },
     "metadata": {},
     "output_type": "display_data"
    },
    {
     "data": {
      "text/html": [
       "<br>"
      ],
      "text/plain": [
       "<IPython.core.display.HTML object>"
      ]
     },
     "metadata": {},
     "output_type": "display_data"
    },
    {
     "data": {
      "text/html": [
       "mathematical_model_kinetics.N_R_math"
      ],
      "text/plain": [
       "<IPython.core.display.HTML object>"
      ]
     },
     "metadata": {},
     "output_type": "display_data"
    },
    {
     "data": {
      "text/latex": [
       "$\\displaystyle {N_R'} = {N_{\\delta\\delta\\delta}'} {\\delta'}^{3} + {N_{\\delta}'} {\\delta'} + {N_{r\\delta\\delta}'} {\\delta'}^{2} {r'} + {N_{rr\\delta}'} {\\delta'} {r'}^{2} + {N_{v\\delta\\delta}'} {\\delta'}^{2} {v'} + {N_{vr\\delta}'} {\\delta'} {r'} {v'} + {N_{vv\\delta}'} {\\delta'} {v'}^{2}$"
      ],
      "text/plain": [
       "<IPython.core.display.Math object>"
      ]
     },
     "metadata": {},
     "output_type": "display_data"
    },
    {
     "data": {
      "text/html": [
       "<br>"
      ],
      "text/plain": [
       "<IPython.core.display.HTML object>"
      ]
     },
     "metadata": {},
     "output_type": "display_data"
    }
   ],
   "source": [
    "for name, eq in model_abkowitz.subsystems['rudders'].equations.items():\n",
    "    \n",
    "    file_name = f\"{name}_math\"\n",
    "    \n",
    "    if isinstance(model_abkowitz.subsystems['rudders'], vessel_manoeuvring_models.models.subsystem.PrimeEquationSubSystem):\n",
    "        save_eq(prime(eq), file_name=file_name)\n",
    "    else:\n",
    "        save_eq(eq, file_name=file_name)"
   ]
  },
  {
   "cell_type": "markdown",
   "id": "57c32cb4-eb35-4ee1-b1b2-e0e04e6bd81d",
   "metadata": {},
   "source": [
    "## Semi-empirical rudder model"
   ]
  },
  {
   "cell_type": "code",
   "execution_count": 110,
   "id": "e929b3cb-b243-45ea-9464-b63fa883a313",
   "metadata": {},
   "outputs": [],
   "source": [
    "rudder = model.subsystems['rudder_port']"
   ]
  },
  {
   "cell_type": "code",
   "execution_count": 150,
   "id": "fc4666d6-6d31-4c31-9d1f-a4eebc1acee8",
   "metadata": {},
   "outputs": [
    {
     "data": {
      "text/latex": [
       "$\\displaystyle X_{R port} = - D_{R port} \\cos{\\left(\\alpha_{f port} \\right)} + L_{R port} \\sin{\\left(\\alpha_{f port} \\right)}$"
      ],
      "text/plain": [
       "Eq(X_R_port, -D_R_port*cos(alpha_f_port) + L_R_port*sin(alpha_f_port))"
      ]
     },
     "execution_count": 150,
     "metadata": {},
     "output_type": "execute_result"
    }
   ],
   "source": [
    "rudder.equations['X_R_port']"
   ]
  },
  {
   "cell_type": "code",
   "execution_count": 129,
   "id": "6523e368-9596-485f-b5dd-d4f6102ba540",
   "metadata": {},
   "outputs": [],
   "source": [
    "keys = list(rudder.equations.keys())\n",
    "keys.reverse()"
   ]
  },
  {
   "cell_type": "code",
   "execution_count": 155,
   "id": "b22451be-aad2-411c-91e7-8b99899213d5",
   "metadata": {},
   "outputs": [
    {
     "data": {
      "text/html": [
       "mathematical_model_kinetics.N_R_semiempirical"
      ],
      "text/plain": [
       "<IPython.core.display.HTML object>"
      ]
     },
     "metadata": {},
     "output_type": "display_data"
    },
    {
     "data": {
      "text/latex": [
       "$\\displaystyle N_{R } = Y_{R } x_{R}$"
      ],
      "text/plain": [
       "<IPython.core.display.Math object>"
      ]
     },
     "metadata": {},
     "output_type": "display_data"
    },
    {
     "data": {
      "text/html": [
       "<br>"
      ],
      "text/plain": [
       "<IPython.core.display.HTML object>"
      ]
     },
     "metadata": {},
     "output_type": "display_data"
    },
    {
     "data": {
      "text/html": [
       "mathematical_model_kinetics.Y_R_semiempirical"
      ],
      "text/plain": [
       "<IPython.core.display.HTML object>"
      ]
     },
     "metadata": {},
     "output_type": "display_data"
    },
    {
     "data": {
      "text/latex": [
       "$\\displaystyle Y_{R } = D_{R } \\sin{\\left(\\alpha_{f } \\right)} + L_{R } \\cos{\\left(\\alpha_{f } \\right)}$"
      ],
      "text/plain": [
       "<IPython.core.display.Math object>"
      ]
     },
     "metadata": {},
     "output_type": "display_data"
    },
    {
     "data": {
      "text/html": [
       "<br>"
      ],
      "text/plain": [
       "<IPython.core.display.HTML object>"
      ]
     },
     "metadata": {},
     "output_type": "display_data"
    },
    {
     "data": {
      "text/html": [
       "mathematical_model_kinetics.X_R_semiempirical"
      ],
      "text/plain": [
       "<IPython.core.display.HTML object>"
      ]
     },
     "metadata": {},
     "output_type": "display_data"
    },
    {
     "data": {
      "text/latex": [
       "$\\displaystyle X_{R } = - D_{R } \\cos{\\left(\\alpha_{f } \\right)} + L_{R } \\sin{\\left(\\alpha_{f } \\right)}$"
      ],
      "text/plain": [
       "<IPython.core.display.Math object>"
      ]
     },
     "metadata": {},
     "output_type": "display_data"
    },
    {
     "data": {
      "text/html": [
       "<br>"
      ],
      "text/plain": [
       "<IPython.core.display.HTML object>"
      ]
     },
     "metadata": {},
     "output_type": "display_data"
    },
    {
     "data": {
      "text/html": [
       "mathematical_model_kinetics.L_R_semiempirical"
      ],
      "text/plain": [
       "<IPython.core.display.HTML object>"
      ]
     },
     "metadata": {},
     "output_type": "display_data"
    },
    {
     "data": {
      "text/latex": [
       "$\\displaystyle L_{R } = L_{R C } + L_{R U }$"
      ],
      "text/plain": [
       "<IPython.core.display.Math object>"
      ]
     },
     "metadata": {},
     "output_type": "display_data"
    },
    {
     "data": {
      "text/html": [
       "<br>"
      ],
      "text/plain": [
       "<IPython.core.display.HTML object>"
      ]
     },
     "metadata": {},
     "output_type": "display_data"
    },
    {
     "data": {
      "text/html": [
       "mathematical_model_kinetics.L_R_U_semiempirical"
      ],
      "text/plain": [
       "<IPython.core.display.HTML object>"
      ]
     },
     "metadata": {},
     "output_type": "display_data"
    },
    {
     "data": {
      "text/latex": [
       "$\\displaystyle L_{R U } = \\frac{A_{R U} C_{L } C_{L tune} V_{R U }^{2} \\rho}{2}$"
      ],
      "text/plain": [
       "<IPython.core.display.Math object>"
      ]
     },
     "metadata": {},
     "output_type": "display_data"
    },
    {
     "data": {
      "text/html": [
       "<br>"
      ],
      "text/plain": [
       "<IPython.core.display.HTML object>"
      ]
     },
     "metadata": {},
     "output_type": "display_data"
    },
    {
     "data": {
      "text/html": [
       "mathematical_model_kinetics.L_R_C_semiempirical"
      ],
      "text/plain": [
       "<IPython.core.display.HTML object>"
      ]
     },
     "metadata": {},
     "output_type": "display_data"
    },
    {
     "data": {
      "text/latex": [
       "$\\displaystyle L_{R C } = \\frac{A_{R C} C_{L } C_{L tune} V_{R C }^{2} \\lambda_{R } \\rho}{2}$"
      ],
      "text/plain": [
       "<IPython.core.display.Math object>"
      ]
     },
     "metadata": {},
     "output_type": "display_data"
    },
    {
     "data": {
      "text/html": [
       "<br>"
      ],
      "text/plain": [
       "<IPython.core.display.HTML object>"
      ]
     },
     "metadata": {},
     "output_type": "display_data"
    },
    {
     "data": {
      "text/html": [
       "mathematical_model_kinetics.lambda_R_semiempirical"
      ],
      "text/plain": [
       "<IPython.core.display.HTML object>"
      ]
     },
     "metadata": {},
     "output_type": "display_data"
    },
    {
     "data": {
      "text/latex": [
       "$\\displaystyle \\lambda_{R } = \\left(\\frac{V_{A }}{V_{x corr }}\\right)^{f_{}}$"
      ],
      "text/plain": [
       "<IPython.core.display.Math object>"
      ]
     },
     "metadata": {},
     "output_type": "display_data"
    },
    {
     "data": {
      "text/html": [
       "<br>"
      ],
      "text/plain": [
       "<IPython.core.display.HTML object>"
      ]
     },
     "metadata": {},
     "output_type": "display_data"
    },
    {
     "data": {
      "text/html": [
       "mathematical_model_kinetics.f_semiempirical"
      ],
      "text/plain": [
       "<IPython.core.display.HTML object>"
      ]
     },
     "metadata": {},
     "output_type": "display_data"
    },
    {
     "data": {
      "text/latex": [
       "$\\displaystyle f_{} = \\frac{512}{\\left(2 + \\frac{d_{}}{c_{}}\\right)^{8}}$"
      ],
      "text/plain": [
       "<IPython.core.display.Math object>"
      ]
     },
     "metadata": {},
     "output_type": "display_data"
    },
    {
     "data": {
      "text/html": [
       "<br>"
      ],
      "text/plain": [
       "<IPython.core.display.HTML object>"
      ]
     },
     "metadata": {},
     "output_type": "display_data"
    },
    {
     "data": {
      "text/html": [
       "mathematical_model_kinetics.d_semiempirical"
      ],
      "text/plain": [
       "<IPython.core.display.HTML object>"
      ]
     },
     "metadata": {},
     "output_type": "display_data"
    },
    {
     "data": {
      "text/latex": [
       "$\\displaystyle d_{} = \\frac{\\sqrt{\\pi} \\left(r_{\\Delta } + r_{p }\\right)}{2}$"
      ],
      "text/plain": [
       "<IPython.core.display.Math object>"
      ]
     },
     "metadata": {},
     "output_type": "display_data"
    },
    {
     "data": {
      "text/html": [
       "<br>"
      ],
      "text/plain": [
       "<IPython.core.display.HTML object>"
      ]
     },
     "metadata": {},
     "output_type": "display_data"
    },
    {
     "data": {
      "text/html": [
       "mathematical_model_kinetics.V_x_corr_semiempirical"
      ],
      "text/plain": [
       "<IPython.core.display.HTML object>"
      ]
     },
     "metadata": {},
     "output_type": "display_data"
    },
    {
     "data": {
      "text/latex": [
       "$\\displaystyle V_{x corr } = V_{A } + \\frac{r_{p }^{2} \\left(- V_{A } + V_{x C }\\right)}{\\left(r_{\\Delta } + r_{p }\\right)^{2}}$"
      ],
      "text/plain": [
       "<IPython.core.display.Math object>"
      ]
     },
     "metadata": {},
     "output_type": "display_data"
    },
    {
     "data": {
      "text/html": [
       "<br>"
      ],
      "text/plain": [
       "<IPython.core.display.HTML object>"
      ]
     },
     "metadata": {},
     "output_type": "display_data"
    },
    {
     "data": {
      "text/html": [
       "mathematical_model_kinetics.r_Delta_semiempirical"
      ],
      "text/plain": [
       "<IPython.core.display.HTML object>"
      ]
     },
     "metadata": {},
     "output_type": "display_data"
    },
    {
     "data": {
      "text/latex": [
       "$\\displaystyle r_{\\Delta } = \\frac{0.15 x \\left(- V_{A } + V_{x C }\\right)}{V_{A } + V_{x C }}$"
      ],
      "text/plain": [
       "<IPython.core.display.Math object>"
      ]
     },
     "metadata": {},
     "output_type": "display_data"
    },
    {
     "data": {
      "text/html": [
       "<br>"
      ],
      "text/plain": [
       "<IPython.core.display.HTML object>"
      ]
     },
     "metadata": {},
     "output_type": "display_data"
    },
    {
     "data": {
      "text/html": [
       "mathematical_model_kinetics.alpha_f_semiempirical"
      ],
      "text/plain": [
       "<IPython.core.display.HTML object>"
      ]
     },
     "metadata": {},
     "output_type": "display_data"
    },
    {
     "data": {
      "text/latex": [
       "$\\displaystyle \\alpha_{f } = \\gamma_{0 } + \\gamma_{}$"
      ],
      "text/plain": [
       "<IPython.core.display.Math object>"
      ]
     },
     "metadata": {},
     "output_type": "display_data"
    },
    {
     "data": {
      "text/html": [
       "<br>"
      ],
      "text/plain": [
       "<IPython.core.display.HTML object>"
      ]
     },
     "metadata": {},
     "output_type": "display_data"
    },
    {
     "data": {
      "text/html": [
       "mathematical_model_kinetics.D_R_semiempirical"
      ],
      "text/plain": [
       "<IPython.core.display.HTML object>"
      ]
     },
     "metadata": {},
     "output_type": "display_data"
    },
    {
     "data": {
      "text/latex": [
       "$\\displaystyle D_{R } = 0.5 \\rho \\left(A_{R C} C_{D C } V_{R C }^{2} + A_{R U} C_{D U } V_{R U }^{2}\\right)$"
      ],
      "text/plain": [
       "<IPython.core.display.Math object>"
      ]
     },
     "metadata": {},
     "output_type": "display_data"
    },
    {
     "data": {
      "text/html": [
       "<br>"
      ],
      "text/plain": [
       "<IPython.core.display.HTML object>"
      ]
     },
     "metadata": {},
     "output_type": "display_data"
    },
    {
     "data": {
      "text/html": [
       "mathematical_model_kinetics.C_D_C_semiempirical"
      ],
      "text/plain": [
       "<IPython.core.display.HTML object>"
      ]
     },
     "metadata": {},
     "output_type": "display_data"
    },
    {
     "data": {
      "text/latex": [
       "$\\displaystyle C_{D C } = C_{D0 C } + \\frac{C_{D tune} C_{L }^{2}}{\\pi AR_{e } e_{0}}$"
      ],
      "text/plain": [
       "<IPython.core.display.Math object>"
      ]
     },
     "metadata": {},
     "output_type": "display_data"
    },
    {
     "data": {
      "text/html": [
       "<br>"
      ],
      "text/plain": [
       "<IPython.core.display.HTML object>"
      ]
     },
     "metadata": {},
     "output_type": "display_data"
    },
    {
     "data": {
      "text/html": [
       "mathematical_model_kinetics.C_D0_C_semiempirical"
      ],
      "text/plain": [
       "<IPython.core.display.HTML object>"
      ]
     },
     "metadata": {},
     "output_type": "display_data"
    },
    {
     "data": {
      "text/latex": [
       "$\\displaystyle C_{D0 C } = 2.5 C_{D0 tune} C_{F C }$"
      ],
      "text/plain": [
       "<IPython.core.display.Math object>"
      ]
     },
     "metadata": {},
     "output_type": "display_data"
    },
    {
     "data": {
      "text/html": [
       "<br>"
      ],
      "text/plain": [
       "<IPython.core.display.HTML object>"
      ]
     },
     "metadata": {},
     "output_type": "display_data"
    },
    {
     "data": {
      "text/html": [
       "mathematical_model_kinetics.C_F_C_semiempirical"
      ],
      "text/plain": [
       "<IPython.core.display.HTML object>"
      ]
     },
     "metadata": {},
     "output_type": "display_data"
    },
    {
     "data": {
      "text/latex": [
       "$\\displaystyle C_{F C } = \\frac{0.075 \\log{\\left(10 \\right)}^{2}}{\\log{\\left(Re_{F C } - 2 \\right)}^{2}}$"
      ],
      "text/plain": [
       "<IPython.core.display.Math object>"
      ]
     },
     "metadata": {},
     "output_type": "display_data"
    },
    {
     "data": {
      "text/html": [
       "<br>"
      ],
      "text/plain": [
       "<IPython.core.display.HTML object>"
      ]
     },
     "metadata": {},
     "output_type": "display_data"
    },
    {
     "data": {
      "text/html": [
       "mathematical_model_kinetics.Re_F_C_semiempirical"
      ],
      "text/plain": [
       "<IPython.core.display.HTML object>"
      ]
     },
     "metadata": {},
     "output_type": "display_data"
    },
    {
     "data": {
      "text/latex": [
       "$\\displaystyle Re_{F C } = \\frac{V_{R C } c_{}}{\\nu}$"
      ],
      "text/plain": [
       "<IPython.core.display.Math object>"
      ]
     },
     "metadata": {},
     "output_type": "display_data"
    },
    {
     "data": {
      "text/html": [
       "<br>"
      ],
      "text/plain": [
       "<IPython.core.display.HTML object>"
      ]
     },
     "metadata": {},
     "output_type": "display_data"
    },
    {
     "data": {
      "text/html": [
       "mathematical_model_kinetics.V_R_C_semiempirical"
      ],
      "text/plain": [
       "<IPython.core.display.HTML object>"
      ]
     },
     "metadata": {},
     "output_type": "display_data"
    },
    {
     "data": {
      "text/latex": [
       "$\\displaystyle V_{R C } = \\sqrt{V_{R x C }^{2} + V_{R y }^{2}}$"
      ],
      "text/plain": [
       "<IPython.core.display.Math object>"
      ]
     },
     "metadata": {},
     "output_type": "display_data"
    },
    {
     "data": {
      "text/html": [
       "<br>"
      ],
      "text/plain": [
       "<IPython.core.display.HTML object>"
      ]
     },
     "metadata": {},
     "output_type": "display_data"
    },
    {
     "data": {
      "text/html": [
       "mathematical_model_kinetics.C_D_U_semiempirical"
      ],
      "text/plain": [
       "<IPython.core.display.HTML object>"
      ]
     },
     "metadata": {},
     "output_type": "display_data"
    },
    {
     "data": {
      "text/latex": [
       "$\\displaystyle C_{D U } = C_{D0 U } + \\frac{C_{D tune} C_{L }^{2}}{\\pi AR_{e } e_{0}}$"
      ],
      "text/plain": [
       "<IPython.core.display.Math object>"
      ]
     },
     "metadata": {},
     "output_type": "display_data"
    },
    {
     "data": {
      "text/html": [
       "<br>"
      ],
      "text/plain": [
       "<IPython.core.display.HTML object>"
      ]
     },
     "metadata": {},
     "output_type": "display_data"
    },
    {
     "data": {
      "text/html": [
       "mathematical_model_kinetics.C_L_semiempirical"
      ],
      "text/plain": [
       "<IPython.core.display.HTML object>"
      ]
     },
     "metadata": {},
     "output_type": "display_data"
    },
    {
     "data": {
      "text/latex": [
       "$\\displaystyle C_{L } = \\begin{cases} \\alpha_{} dC_{L dalpha } + \\frac{C_{D crossflow } \\alpha_{} \\left|{\\alpha_{}}\\right|}{AR_{e }} & \\text{for}\\: \\alpha_{s } > \\left|{\\alpha_{}}\\right| \\\\B_{0 } C_{L max } \\operatorname{sign}{\\left(\\alpha_{} \\right)} + B_{s } C_{N } \\sin{\\left(\\alpha_{} \\right)} \\cos{\\left(\\alpha_{} \\right)} & \\text{otherwise} \\end{cases}$"
      ],
      "text/plain": [
       "<IPython.core.display.Math object>"
      ]
     },
     "metadata": {},
     "output_type": "display_data"
    },
    {
     "data": {
      "text/html": [
       "<br>"
      ],
      "text/plain": [
       "<IPython.core.display.HTML object>"
      ]
     },
     "metadata": {},
     "output_type": "display_data"
    },
    {
     "data": {
      "text/html": [
       "mathematical_model_kinetics.C_N_semiempirical"
      ],
      "text/plain": [
       "<IPython.core.display.HTML object>"
      ]
     },
     "metadata": {},
     "output_type": "display_data"
    },
    {
     "data": {
      "text/latex": [
       "$\\displaystyle C_{N } = 1.8$"
      ],
      "text/plain": [
       "<IPython.core.display.Math object>"
      ]
     },
     "metadata": {},
     "output_type": "display_data"
    },
    {
     "data": {
      "text/html": [
       "<br>"
      ],
      "text/plain": [
       "<IPython.core.display.HTML object>"
      ]
     },
     "metadata": {},
     "output_type": "display_data"
    },
    {
     "data": {
      "text/html": [
       "mathematical_model_kinetics.C_L_max_semiempirical"
      ],
      "text/plain": [
       "<IPython.core.display.HTML object>"
      ]
     },
     "metadata": {},
     "output_type": "display_data"
    },
    {
     "data": {
      "text/latex": [
       "$\\displaystyle C_{L max } = \\alpha_{s } dC_{L dalpha } + \\frac{C_{D crossflow } \\alpha_{s } \\left|{\\alpha_{s }}\\right|}{AR_{e }}$"
      ],
      "text/plain": [
       "<IPython.core.display.Math object>"
      ]
     },
     "metadata": {},
     "output_type": "display_data"
    },
    {
     "data": {
      "text/html": [
       "<br>"
      ],
      "text/plain": [
       "<IPython.core.display.HTML object>"
      ]
     },
     "metadata": {},
     "output_type": "display_data"
    },
    {
     "data": {
      "text/html": [
       "mathematical_model_kinetics.dC_L_dalpha_semiempirical"
      ],
      "text/plain": [
       "<IPython.core.display.HTML object>"
      ]
     },
     "metadata": {},
     "output_type": "display_data"
    },
    {
     "data": {
      "text/latex": [
       "$\\displaystyle dC_{L dalpha } = \\frac{AR_{e } a_{0 }}{\\sqrt{\\frac{AR_{e }^{2}}{\\cos^{4}{\\left(\\Omega \\right)}} + 4} \\cos{\\left(\\Omega \\right)} + 1.8}$"
      ],
      "text/plain": [
       "<IPython.core.display.Math object>"
      ]
     },
     "metadata": {},
     "output_type": "display_data"
    },
    {
     "data": {
      "text/html": [
       "<br>"
      ],
      "text/plain": [
       "<IPython.core.display.HTML object>"
      ]
     },
     "metadata": {},
     "output_type": "display_data"
    },
    {
     "data": {
      "text/html": [
       "mathematical_model_kinetics.a_0_semiempirical"
      ],
      "text/plain": [
       "<IPython.core.display.HTML object>"
      ]
     },
     "metadata": {},
     "output_type": "display_data"
    },
    {
     "data": {
      "text/latex": [
       "$\\displaystyle a_{0 } = 1.8 \\pi$"
      ],
      "text/plain": [
       "<IPython.core.display.Math object>"
      ]
     },
     "metadata": {},
     "output_type": "display_data"
    },
    {
     "data": {
      "text/html": [
       "<br>"
      ],
      "text/plain": [
       "<IPython.core.display.HTML object>"
      ]
     },
     "metadata": {},
     "output_type": "display_data"
    },
    {
     "data": {
      "text/html": [
       "mathematical_model_kinetics.C_D_crossflow_semiempirical"
      ],
      "text/plain": [
       "<IPython.core.display.HTML object>"
      ]
     },
     "metadata": {},
     "output_type": "display_data"
    },
    {
     "data": {
      "text/latex": [
       "$\\displaystyle C_{D crossflow } = 1.6 \\lambda^{} + 0.1$"
      ],
      "text/plain": [
       "<IPython.core.display.Math object>"
      ]
     },
     "metadata": {},
     "output_type": "display_data"
    },
    {
     "data": {
      "text/html": [
       "<br>"
      ],
      "text/plain": [
       "<IPython.core.display.HTML object>"
      ]
     },
     "metadata": {},
     "output_type": "display_data"
    },
    {
     "data": {
      "text/html": [
       "mathematical_model_kinetics.lambda__semiempirical"
      ],
      "text/plain": [
       "<IPython.core.display.HTML object>"
      ]
     },
     "metadata": {},
     "output_type": "display_data"
    },
    {
     "data": {
      "text/latex": [
       "$\\displaystyle \\lambda^{} = \\frac{c_{t}}{c_{r}}$"
      ],
      "text/plain": [
       "<IPython.core.display.Math object>"
      ]
     },
     "metadata": {},
     "output_type": "display_data"
    },
    {
     "data": {
      "text/html": [
       "<br>"
      ],
      "text/plain": [
       "<IPython.core.display.HTML object>"
      ]
     },
     "metadata": {},
     "output_type": "display_data"
    },
    {
     "data": {
      "text/html": [
       "mathematical_model_kinetics.B_0_semiempirical"
      ],
      "text/plain": [
       "<IPython.core.display.HTML object>"
      ]
     },
     "metadata": {},
     "output_type": "display_data"
    },
    {
     "data": {
      "text/latex": [
       "$\\displaystyle B_{0 } = 1 - B_{s }$"
      ],
      "text/plain": [
       "<IPython.core.display.Math object>"
      ]
     },
     "metadata": {},
     "output_type": "display_data"
    },
    {
     "data": {
      "text/html": [
       "<br>"
      ],
      "text/plain": [
       "<IPython.core.display.HTML object>"
      ]
     },
     "metadata": {},
     "output_type": "display_data"
    },
    {
     "data": {
      "text/html": [
       "mathematical_model_kinetics.B_s_semiempirical"
      ],
      "text/plain": [
       "<IPython.core.display.HTML object>"
      ]
     },
     "metadata": {},
     "output_type": "display_data"
    },
    {
     "data": {
      "text/latex": [
       "$\\displaystyle B_{s } = \\begin{cases} 1 & \\text{for}\\: \\left|{\\alpha_{}}\\right| > 1.25 \\alpha_{s } \\\\u_{s } \\left(- 2 u_{s }^{2} + 3 u_{s }\\right) & \\text{otherwise} \\end{cases}$"
      ],
      "text/plain": [
       "<IPython.core.display.Math object>"
      ]
     },
     "metadata": {},
     "output_type": "display_data"
    },
    {
     "data": {
      "text/html": [
       "<br>"
      ],
      "text/plain": [
       "<IPython.core.display.HTML object>"
      ]
     },
     "metadata": {},
     "output_type": "display_data"
    },
    {
     "data": {
      "text/html": [
       "mathematical_model_kinetics.u_s_semiempirical"
      ],
      "text/plain": [
       "<IPython.core.display.HTML object>"
      ]
     },
     "metadata": {},
     "output_type": "display_data"
    },
    {
     "data": {
      "text/latex": [
       "$\\displaystyle u_{s } = \\frac{- 4 \\alpha_{s } + 4 \\left|{\\alpha_{}}\\right|}{\\alpha_{s }}$"
      ],
      "text/plain": [
       "<IPython.core.display.Math object>"
      ]
     },
     "metadata": {},
     "output_type": "display_data"
    },
    {
     "data": {
      "text/html": [
       "<br>"
      ],
      "text/plain": [
       "<IPython.core.display.HTML object>"
      ]
     },
     "metadata": {},
     "output_type": "display_data"
    },
    {
     "data": {
      "text/html": [
       "mathematical_model_kinetics.alpha_s_semiempirical"
      ],
      "text/plain": [
       "<IPython.core.display.HTML object>"
      ]
     },
     "metadata": {},
     "output_type": "display_data"
    },
    {
     "data": {
      "text/latex": [
       "$\\displaystyle \\alpha_{s } = \\\\delta_{\\alpha s} + \\begin{cases} 0.075 AR_{e }^{2} - 0.445 AR_{e } + 1.225 & \\text{for}\\: AR_{e } \\leq 3 \\\\0.565 & \\text{otherwise} \\end{cases}$"
      ],
      "text/plain": [
       "<IPython.core.display.Math object>"
      ]
     },
     "metadata": {},
     "output_type": "display_data"
    },
    {
     "data": {
      "text/html": [
       "<br>"
      ],
      "text/plain": [
       "<IPython.core.display.HTML object>"
      ]
     },
     "metadata": {},
     "output_type": "display_data"
    },
    {
     "data": {
      "text/html": [
       "mathematical_model_kinetics.alpha_semiempirical"
      ],
      "text/plain": [
       "<IPython.core.display.HTML object>"
      ]
     },
     "metadata": {},
     "output_type": "display_data"
    },
    {
     "data": {
      "text/latex": [
       "$\\displaystyle \\alpha_{} = \\\\delta + \\gamma_{0 } + \\gamma_{}$"
      ],
      "text/plain": [
       "<IPython.core.display.Math object>"
      ]
     },
     "metadata": {},
     "output_type": "display_data"
    },
    {
     "data": {
      "text/html": [
       "<br>"
      ],
      "text/plain": [
       "<IPython.core.display.HTML object>"
      ]
     },
     "metadata": {},
     "output_type": "display_data"
    },
    {
     "data": {
      "text/html": [
       "mathematical_model_kinetics.gamma_semiempirical"
      ],
      "text/plain": [
       "<IPython.core.display.HTML object>"
      ]
     },
     "metadata": {},
     "output_type": "display_data"
    },
    {
     "data": {
      "text/latex": [
       "$\\displaystyle \\gamma_{} = \\operatorname{atan}{\\left(\\frac{V_{R y }}{V_{R x C }} \\right)}$"
      ],
      "text/plain": [
       "<IPython.core.display.Math object>"
      ]
     },
     "metadata": {},
     "output_type": "display_data"
    },
    {
     "data": {
      "text/html": [
       "<br>"
      ],
      "text/plain": [
       "<IPython.core.display.HTML object>"
      ]
     },
     "metadata": {},
     "output_type": "display_data"
    },
    {
     "data": {
      "text/html": [
       "mathematical_model_kinetics.AR_e_semiempirical"
      ],
      "text/plain": [
       "<IPython.core.display.HTML object>"
      ]
     },
     "metadata": {},
     "output_type": "display_data"
    },
    {
     "data": {
      "text/latex": [
       "$\\displaystyle AR_{e } = AR_{g } \\left(2 - \\left|{\\frac{\\\\delta}{\\\\delta_{lim}}}\\right|\\right)$"
      ],
      "text/plain": [
       "<IPython.core.display.Math object>"
      ]
     },
     "metadata": {},
     "output_type": "display_data"
    },
    {
     "data": {
      "text/html": [
       "<br>"
      ],
      "text/plain": [
       "<IPython.core.display.HTML object>"
      ]
     },
     "metadata": {},
     "output_type": "display_data"
    },
    {
     "data": {
      "text/html": [
       "mathematical_model_kinetics.AR_g_semiempirical"
      ],
      "text/plain": [
       "<IPython.core.display.HTML object>"
      ]
     },
     "metadata": {},
     "output_type": "display_data"
    },
    {
     "data": {
      "text/latex": [
       "$\\displaystyle AR_{g } = \\frac{b_{R}^{2}}{A_{R}}$"
      ],
      "text/plain": [
       "<IPython.core.display.Math object>"
      ]
     },
     "metadata": {},
     "output_type": "display_data"
    },
    {
     "data": {
      "text/html": [
       "<br>"
      ],
      "text/plain": [
       "<IPython.core.display.HTML object>"
      ]
     },
     "metadata": {},
     "output_type": "display_data"
    },
    {
     "data": {
      "text/html": [
       "mathematical_model_kinetics.C_D0_U_semiempirical"
      ],
      "text/plain": [
       "<IPython.core.display.HTML object>"
      ]
     },
     "metadata": {},
     "output_type": "display_data"
    },
    {
     "data": {
      "text/latex": [
       "$\\displaystyle C_{D0 U } = 2.5 C_{D0 tune} C_{F U }$"
      ],
      "text/plain": [
       "<IPython.core.display.Math object>"
      ]
     },
     "metadata": {},
     "output_type": "display_data"
    },
    {
     "data": {
      "text/html": [
       "<br>"
      ],
      "text/plain": [
       "<IPython.core.display.HTML object>"
      ]
     },
     "metadata": {},
     "output_type": "display_data"
    },
    {
     "data": {
      "text/html": [
       "mathematical_model_kinetics.C_F_U_semiempirical"
      ],
      "text/plain": [
       "<IPython.core.display.HTML object>"
      ]
     },
     "metadata": {},
     "output_type": "display_data"
    },
    {
     "data": {
      "text/latex": [
       "$\\displaystyle C_{F U } = \\frac{0.075 \\log{\\left(10 \\right)}^{2}}{\\log{\\left(Re_{F U } - 2 \\right)}^{2}}$"
      ],
      "text/plain": [
       "<IPython.core.display.Math object>"
      ]
     },
     "metadata": {},
     "output_type": "display_data"
    },
    {
     "data": {
      "text/html": [
       "<br>"
      ],
      "text/plain": [
       "<IPython.core.display.HTML object>"
      ]
     },
     "metadata": {},
     "output_type": "display_data"
    },
    {
     "data": {
      "text/html": [
       "mathematical_model_kinetics.Re_F_U_semiempirical"
      ],
      "text/plain": [
       "<IPython.core.display.HTML object>"
      ]
     },
     "metadata": {},
     "output_type": "display_data"
    },
    {
     "data": {
      "text/latex": [
       "$\\displaystyle Re_{F U } = \\frac{V_{R U } c_{}}{\\nu}$"
      ],
      "text/plain": [
       "<IPython.core.display.Math object>"
      ]
     },
     "metadata": {},
     "output_type": "display_data"
    },
    {
     "data": {
      "text/html": [
       "<br>"
      ],
      "text/plain": [
       "<IPython.core.display.HTML object>"
      ]
     },
     "metadata": {},
     "output_type": "display_data"
    },
    {
     "data": {
      "text/html": [
       "mathematical_model_kinetics.V_R_U_semiempirical"
      ],
      "text/plain": [
       "<IPython.core.display.HTML object>"
      ]
     },
     "metadata": {},
     "output_type": "display_data"
    },
    {
     "data": {
      "text/latex": [
       "$\\displaystyle V_{R U } = \\sqrt{V_{R x U }^{2} + V_{R y }^{2}}$"
      ],
      "text/plain": [
       "<IPython.core.display.Math object>"
      ]
     },
     "metadata": {},
     "output_type": "display_data"
    },
    {
     "data": {
      "text/html": [
       "<br>"
      ],
      "text/plain": [
       "<IPython.core.display.HTML object>"
      ]
     },
     "metadata": {},
     "output_type": "display_data"
    },
    {
     "data": {
      "text/html": [
       "mathematical_model_kinetics.V_R_x_U_semiempirical"
      ],
      "text/plain": [
       "<IPython.core.display.HTML object>"
      ]
     },
     "metadata": {},
     "output_type": "display_data"
    },
    {
     "data": {
      "text/latex": [
       "$\\displaystyle V_{R x U } = V_{x U } - r y_{R}$"
      ],
      "text/plain": [
       "<IPython.core.display.Math object>"
      ]
     },
     "metadata": {},
     "output_type": "display_data"
    },
    {
     "data": {
      "text/html": [
       "<br>"
      ],
      "text/plain": [
       "<IPython.core.display.HTML object>"
      ]
     },
     "metadata": {},
     "output_type": "display_data"
    },
    {
     "data": {
      "text/html": [
       "mathematical_model_kinetics.V_x_U_semiempirical"
      ],
      "text/plain": [
       "<IPython.core.display.HTML object>"
      ]
     },
     "metadata": {},
     "output_type": "display_data"
    },
    {
     "data": {
      "text/latex": [
       "$\\displaystyle V_{x U } = V_{A }$"
      ],
      "text/plain": [
       "<IPython.core.display.Math object>"
      ]
     },
     "metadata": {},
     "output_type": "display_data"
    },
    {
     "data": {
      "text/html": [
       "<br>"
      ],
      "text/plain": [
       "<IPython.core.display.HTML object>"
      ]
     },
     "metadata": {},
     "output_type": "display_data"
    },
    {
     "data": {
      "text/html": [
       "mathematical_model_kinetics.V_R_y_semiempirical"
      ],
      "text/plain": [
       "<IPython.core.display.HTML object>"
      ]
     },
     "metadata": {},
     "output_type": "display_data"
    },
    {
     "data": {
      "text/latex": [
       "$\\displaystyle V_{R y } = - \\kappa_{r tot } r x_{R} - \\kappa_{v tot } v$"
      ],
      "text/plain": [
       "<IPython.core.display.Math object>"
      ]
     },
     "metadata": {},
     "output_type": "display_data"
    },
    {
     "data": {
      "text/html": [
       "<br>"
      ],
      "text/plain": [
       "<IPython.core.display.HTML object>"
      ]
     },
     "metadata": {},
     "output_type": "display_data"
    },
    {
     "data": {
      "text/html": [
       "mathematical_model_kinetics.kappa_r_tot_semiempirical"
      ],
      "text/plain": [
       "<IPython.core.display.HTML object>"
      ]
     },
     "metadata": {},
     "output_type": "display_data"
    },
    {
     "data": {
      "text/latex": [
       "$\\displaystyle \\kappa_{r tot } = \\kappa_{r} + \\kappa_{r \\gamma g} \\left|{\\gamma_{g }}\\right|$"
      ],
      "text/plain": [
       "<IPython.core.display.Math object>"
      ]
     },
     "metadata": {},
     "output_type": "display_data"
    },
    {
     "data": {
      "text/html": [
       "<br>"
      ],
      "text/plain": [
       "<IPython.core.display.HTML object>"
      ]
     },
     "metadata": {},
     "output_type": "display_data"
    },
    {
     "data": {
      "text/html": [
       "mathematical_model_kinetics.kappa_v_tot_semiempirical"
      ],
      "text/plain": [
       "<IPython.core.display.HTML object>"
      ]
     },
     "metadata": {},
     "output_type": "display_data"
    },
    {
     "data": {
      "text/latex": [
       "$\\displaystyle \\kappa_{v tot } = \\kappa_{v} + \\kappa_{v \\gamma g} \\left|{\\gamma_{g }}\\right|$"
      ],
      "text/plain": [
       "<IPython.core.display.Math object>"
      ]
     },
     "metadata": {},
     "output_type": "display_data"
    },
    {
     "data": {
      "text/html": [
       "<br>"
      ],
      "text/plain": [
       "<IPython.core.display.HTML object>"
      ]
     },
     "metadata": {},
     "output_type": "display_data"
    },
    {
     "data": {
      "text/html": [
       "mathematical_model_kinetics.gamma_g_semiempirical"
      ],
      "text/plain": [
       "<IPython.core.display.HTML object>"
      ]
     },
     "metadata": {},
     "output_type": "display_data"
    },
    {
     "data": {
      "text/latex": [
       "$\\displaystyle \\gamma_{g } = \\operatorname{atan}{\\left(\\frac{- r x_{R} - v}{V_{R x C }} \\right)}$"
      ],
      "text/plain": [
       "<IPython.core.display.Math object>"
      ]
     },
     "metadata": {},
     "output_type": "display_data"
    },
    {
     "data": {
      "text/html": [
       "<br>"
      ],
      "text/plain": [
       "<IPython.core.display.HTML object>"
      ]
     },
     "metadata": {},
     "output_type": "display_data"
    },
    {
     "data": {
      "text/html": [
       "mathematical_model_kinetics.V_R_x_C_semiempirical"
      ],
      "text/plain": [
       "<IPython.core.display.HTML object>"
      ]
     },
     "metadata": {},
     "output_type": "display_data"
    },
    {
     "data": {
      "text/latex": [
       "$\\displaystyle V_{R x C } = V_{x C } - r y_{R}$"
      ],
      "text/plain": [
       "<IPython.core.display.Math object>"
      ]
     },
     "metadata": {},
     "output_type": "display_data"
    },
    {
     "data": {
      "text/html": [
       "<br>"
      ],
      "text/plain": [
       "<IPython.core.display.HTML object>"
      ]
     },
     "metadata": {},
     "output_type": "display_data"
    },
    {
     "data": {
      "text/html": [
       "mathematical_model_kinetics.V_x_C_semiempirical"
      ],
      "text/plain": [
       "<IPython.core.display.HTML object>"
      ]
     },
     "metadata": {},
     "output_type": "display_data"
    },
    {
     "data": {
      "text/latex": [
       "$\\displaystyle V_{x C } = \\frac{V_{\\infty } r_{\\infty }^{2}}{r_{p }^{2}}$"
      ],
      "text/plain": [
       "<IPython.core.display.Math object>"
      ]
     },
     "metadata": {},
     "output_type": "display_data"
    },
    {
     "data": {
      "text/html": [
       "<br>"
      ],
      "text/plain": [
       "<IPython.core.display.HTML object>"
      ]
     },
     "metadata": {},
     "output_type": "display_data"
    },
    {
     "data": {
      "text/html": [
       "mathematical_model_kinetics.r_p_semiempirical"
      ],
      "text/plain": [
       "<IPython.core.display.HTML object>"
      ]
     },
     "metadata": {},
     "output_type": "display_data"
    },
    {
     "data": {
      "text/latex": [
       "$\\displaystyle r_{p } = \\frac{r_{0} \\left(\\frac{r_{\\infty } \\left(\\frac{x}{r_{0}}\\right)^{1.5}}{r_{0}} + \\frac{0.14 r_{\\infty }^{3}}{r_{0}^{3}}\\right)}{\\left(\\frac{x}{r_{0}}\\right)^{1.5} + \\frac{0.14 r_{\\infty }^{3}}{r_{0}^{3}}}$"
      ],
      "text/plain": [
       "<IPython.core.display.Math object>"
      ]
     },
     "metadata": {},
     "output_type": "display_data"
    },
    {
     "data": {
      "text/html": [
       "<br>"
      ],
      "text/plain": [
       "<IPython.core.display.HTML object>"
      ]
     },
     "metadata": {},
     "output_type": "display_data"
    },
    {
     "data": {
      "text/html": [
       "mathematical_model_kinetics.r_infty_semiempirical"
      ],
      "text/plain": [
       "<IPython.core.display.HTML object>"
      ]
     },
     "metadata": {},
     "output_type": "display_data"
    },
    {
     "data": {
      "text/latex": [
       "$\\displaystyle r_{\\infty } = r_{0} \\sqrt{\\frac{V_{A }}{2 V_{\\infty }} + \\frac{1}{2}}$"
      ],
      "text/plain": [
       "<IPython.core.display.Math object>"
      ]
     },
     "metadata": {},
     "output_type": "display_data"
    },
    {
     "data": {
      "text/html": [
       "<br>"
      ],
      "text/plain": [
       "<IPython.core.display.HTML object>"
      ]
     },
     "metadata": {},
     "output_type": "display_data"
    },
    {
     "data": {
      "text/html": [
       "mathematical_model_kinetics.V_infty_semiempirical"
      ],
      "text/plain": [
       "<IPython.core.display.HTML object>"
      ]
     },
     "metadata": {},
     "output_type": "display_data"
    },
    {
     "data": {
      "text/latex": [
       "$\\displaystyle V_{\\infty } = V_{A } \\sqrt{C_{Th } + 1}$"
      ],
      "text/plain": [
       "<IPython.core.display.Math object>"
      ]
     },
     "metadata": {},
     "output_type": "display_data"
    },
    {
     "data": {
      "text/html": [
       "<br>"
      ],
      "text/plain": [
       "<IPython.core.display.HTML object>"
      ]
     },
     "metadata": {},
     "output_type": "display_data"
    },
    {
     "data": {
      "text/html": [
       "mathematical_model_kinetics.C_Th_semiempirical"
      ],
      "text/plain": [
       "<IPython.core.display.HTML object>"
      ]
     },
     "metadata": {},
     "output_type": "display_data"
    },
    {
     "data": {
      "text/latex": [
       "$\\displaystyle C_{Th } = \\frac{2 T_{}}{\\pi V_{A }^{2} r_{0}^{2} \\rho}$"
      ],
      "text/plain": [
       "<IPython.core.display.Math object>"
      ]
     },
     "metadata": {},
     "output_type": "display_data"
    },
    {
     "data": {
      "text/html": [
       "<br>"
      ],
      "text/plain": [
       "<IPython.core.display.HTML object>"
      ]
     },
     "metadata": {},
     "output_type": "display_data"
    },
    {
     "data": {
      "text/html": [
       "mathematical_model_kinetics.V_A_semiempirical"
      ],
      "text/plain": [
       "<IPython.core.display.HTML object>"
      ]
     },
     "metadata": {},
     "output_type": "display_data"
    },
    {
     "data": {
      "text/latex": [
       "$\\displaystyle V_{A } = u \\left(1 - w_{f}\\right)$"
      ],
      "text/plain": [
       "<IPython.core.display.Math object>"
      ]
     },
     "metadata": {},
     "output_type": "display_data"
    },
    {
     "data": {
      "text/html": [
       "<br>"
      ],
      "text/plain": [
       "<IPython.core.display.HTML object>"
      ]
     },
     "metadata": {},
     "output_type": "display_data"
    },
    {
     "data": {
      "text/html": [
       "mathematical_model_kinetics.c_semiempirical"
      ],
      "text/plain": [
       "<IPython.core.display.HTML object>"
      ]
     },
     "metadata": {},
     "output_type": "display_data"
    },
    {
     "data": {
      "text/latex": [
       "$\\displaystyle c_{} = \\frac{c_{r}}{2} + \\frac{c_{t}}{2}$"
      ],
      "text/plain": [
       "<IPython.core.display.Math object>"
      ]
     },
     "metadata": {},
     "output_type": "display_data"
    },
    {
     "data": {
      "text/html": [
       "<br>"
      ],
      "text/plain": [
       "<IPython.core.display.HTML object>"
      ]
     },
     "metadata": {},
     "output_type": "display_data"
    }
   ],
   "source": [
    "for name in keys:\n",
    "    eq = rudder.equations[name]\n",
    "    name_clean = name.replace('_port','')\n",
    "    file_name = f\"{name_clean}_semiempirical\"    \n",
    "    save_eq(eq, file_name=file_name, subs={'port':''})"
   ]
  },
  {
   "cell_type": "code",
   "execution_count": 134,
   "id": "8e3c7f70-57f6-4733-af3c-28084b3b248e",
   "metadata": {},
   "outputs": [
    {
     "data": {
      "text/plain": [
       "'\\\\begin{equation}\\n    \\\\label{eq:c_semiempirical}\\n    \\\\input{equations/mathematical_model_kinetics.c_semiempirical}\\n\\\\end{equation}'"
      ]
     },
     "execution_count": 134,
     "metadata": {},
     "output_type": "execute_result"
    }
   ],
   "source": []
  },
  {
   "cell_type": "code",
   "execution_count": 142,
   "id": "ed681833-abba-4795-abb2-93d8508efb1a",
   "metadata": {},
   "outputs": [
    {
     "name": "stdout",
     "output_type": "stream",
     "text": [
      "\n",
      "\\begin{equation}\n",
      "\\label{eq:N_R_semiempirical}\n",
      "\\input{equations/mathematical_model_kinetics.N_R_semiempirical}\n",
      "\\end{equation}\n",
      "%\n",
      "\\begin{equation}\n",
      "\\label{eq:Y_R_semiempirical}\n",
      "\\input{equations/mathematical_model_kinetics.Y_R_semiempirical}\n",
      "\\end{equation}\n",
      "%\n",
      "\\begin{equation}\n",
      "\\label{eq:X_R_semiempirical}\n",
      "\\input{equations/mathematical_model_kinetics.X_R_semiempirical}\n",
      "\\end{equation}\n",
      "%\n",
      "\\begin{equation}\n",
      "\\label{eq:L_R_semiempirical}\n",
      "\\input{equations/mathematical_model_kinetics.L_R_semiempirical}\n",
      "\\end{equation}\n",
      "%\n",
      "\\begin{equation}\n",
      "\\label{eq:L_R_U_semiempirical}\n",
      "\\input{equations/mathematical_model_kinetics.L_R_U_semiempirical}\n",
      "\\end{equation}\n",
      "%\n",
      "\\begin{equation}\n",
      "\\label{eq:L_R_C_semiempirical}\n",
      "\\input{equations/mathematical_model_kinetics.L_R_C_semiempirical}\n",
      "\\end{equation}\n",
      "%\n",
      "\\begin{equation}\n",
      "\\label{eq:lambda_R_semiempirical}\n",
      "\\input{equations/mathematical_model_kinetics.lambda_R_semiempirical}\n",
      "\\end{equation}\n",
      "%\n",
      "\\begin{equation}\n",
      "\\label{eq:f_semiempirical}\n",
      "\\input{equations/mathematical_model_kinetics.f_semiempirical}\n",
      "\\end{equation}\n",
      "%\n",
      "\\begin{equation}\n",
      "\\label{eq:d_semiempirical}\n",
      "\\input{equations/mathematical_model_kinetics.d_semiempirical}\n",
      "\\end{equation}\n",
      "%\n",
      "\\begin{equation}\n",
      "\\label{eq:V_x_corr_semiempirical}\n",
      "\\input{equations/mathematical_model_kinetics.V_x_corr_semiempirical}\n",
      "\\end{equation}\n",
      "%\n",
      "\\begin{equation}\n",
      "\\label{eq:r_Delta_semiempirical}\n",
      "\\input{equations/mathematical_model_kinetics.r_Delta_semiempirical}\n",
      "\\end{equation}\n",
      "%\n",
      "\\begin{equation}\n",
      "\\label{eq:alpha_f_semiempirical}\n",
      "\\input{equations/mathematical_model_kinetics.alpha_f_semiempirical}\n",
      "\\end{equation}\n",
      "%\n",
      "\\begin{equation}\n",
      "\\label{eq:D_R_semiempirical}\n",
      "\\input{equations/mathematical_model_kinetics.D_R_semiempirical}\n",
      "\\end{equation}\n",
      "%\n",
      "\\begin{equation}\n",
      "\\label{eq:C_D_C_semiempirical}\n",
      "\\input{equations/mathematical_model_kinetics.C_D_C_semiempirical}\n",
      "\\end{equation}\n",
      "%\n",
      "\\begin{equation}\n",
      "\\label{eq:C_D0_C_semiempirical}\n",
      "\\input{equations/mathematical_model_kinetics.C_D0_C_semiempirical}\n",
      "\\end{equation}\n",
      "%\n",
      "\\begin{equation}\n",
      "\\label{eq:C_F_C_semiempirical}\n",
      "\\input{equations/mathematical_model_kinetics.C_F_C_semiempirical}\n",
      "\\end{equation}\n",
      "%\n",
      "\\begin{equation}\n",
      "\\label{eq:Re_F_C_semiempirical}\n",
      "\\input{equations/mathematical_model_kinetics.Re_F_C_semiempirical}\n",
      "\\end{equation}\n",
      "%\n",
      "\\begin{equation}\n",
      "\\label{eq:V_R_C_semiempirical}\n",
      "\\input{equations/mathematical_model_kinetics.V_R_C_semiempirical}\n",
      "\\end{equation}\n",
      "%\n",
      "\\begin{equation}\n",
      "\\label{eq:C_D_U_semiempirical}\n",
      "\\input{equations/mathematical_model_kinetics.C_D_U_semiempirical}\n",
      "\\end{equation}\n",
      "%\n",
      "\\begin{equation}\n",
      "\\label{eq:C_L_semiempirical}\n",
      "\\input{equations/mathematical_model_kinetics.C_L_semiempirical}\n",
      "\\end{equation}\n",
      "%\n",
      "\\begin{equation}\n",
      "\\label{eq:C_N_semiempirical}\n",
      "\\input{equations/mathematical_model_kinetics.C_N_semiempirical}\n",
      "\\end{equation}\n",
      "%\n",
      "\\begin{equation}\n",
      "\\label{eq:C_L_max_semiempirical}\n",
      "\\input{equations/mathematical_model_kinetics.C_L_max_semiempirical}\n",
      "\\end{equation}\n",
      "%\n",
      "\\begin{equation}\n",
      "\\label{eq:dC_L_dalpha_semiempirical}\n",
      "\\input{equations/mathematical_model_kinetics.dC_L_dalpha_semiempirical}\n",
      "\\end{equation}\n",
      "%\n",
      "\\begin{equation}\n",
      "\\label{eq:a_0_semiempirical}\n",
      "\\input{equations/mathematical_model_kinetics.a_0_semiempirical}\n",
      "\\end{equation}\n",
      "%\n",
      "\\begin{equation}\n",
      "\\label{eq:C_D_crossflow_semiempirical}\n",
      "\\input{equations/mathematical_model_kinetics.C_D_crossflow_semiempirical}\n",
      "\\end{equation}\n",
      "%\n",
      "\\begin{equation}\n",
      "\\label{eq:lambda__semiempirical}\n",
      "\\input{equations/mathematical_model_kinetics.lambda__semiempirical}\n",
      "\\end{equation}\n",
      "%\n",
      "\\begin{equation}\n",
      "\\label{eq:B_0_semiempirical}\n",
      "\\input{equations/mathematical_model_kinetics.B_0_semiempirical}\n",
      "\\end{equation}\n",
      "%\n",
      "\\begin{equation}\n",
      "\\label{eq:B_s_semiempirical}\n",
      "\\input{equations/mathematical_model_kinetics.B_s_semiempirical}\n",
      "\\end{equation}\n",
      "%\n",
      "\\begin{equation}\n",
      "\\label{eq:u_s_semiempirical}\n",
      "\\input{equations/mathematical_model_kinetics.u_s_semiempirical}\n",
      "\\end{equation}\n",
      "%\n",
      "\\begin{equation}\n",
      "\\label{eq:alpha_s_semiempirical}\n",
      "\\input{equations/mathematical_model_kinetics.alpha_s_semiempirical}\n",
      "\\end{equation}\n",
      "%\n",
      "\\begin{equation}\n",
      "\\label{eq:alpha_semiempirical}\n",
      "\\input{equations/mathematical_model_kinetics.alpha_semiempirical}\n",
      "\\end{equation}\n",
      "%\n",
      "\\begin{equation}\n",
      "\\label{eq:gamma_semiempirical}\n",
      "\\input{equations/mathematical_model_kinetics.gamma_semiempirical}\n",
      "\\end{equation}\n",
      "%\n",
      "\\begin{equation}\n",
      "\\label{eq:AR_e_semiempirical}\n",
      "\\input{equations/mathematical_model_kinetics.AR_e_semiempirical}\n",
      "\\end{equation}\n",
      "%\n",
      "\\begin{equation}\n",
      "\\label{eq:AR_g_semiempirical}\n",
      "\\input{equations/mathematical_model_kinetics.AR_g_semiempirical}\n",
      "\\end{equation}\n",
      "%\n",
      "\\begin{equation}\n",
      "\\label{eq:C_D0_U_semiempirical}\n",
      "\\input{equations/mathematical_model_kinetics.C_D0_U_semiempirical}\n",
      "\\end{equation}\n",
      "%\n",
      "\\begin{equation}\n",
      "\\label{eq:C_F_U_semiempirical}\n",
      "\\input{equations/mathematical_model_kinetics.C_F_U_semiempirical}\n",
      "\\end{equation}\n",
      "%\n",
      "\\begin{equation}\n",
      "\\label{eq:Re_F_U_semiempirical}\n",
      "\\input{equations/mathematical_model_kinetics.Re_F_U_semiempirical}\n",
      "\\end{equation}\n",
      "%\n",
      "\\begin{equation}\n",
      "\\label{eq:V_R_U_semiempirical}\n",
      "\\input{equations/mathematical_model_kinetics.V_R_U_semiempirical}\n",
      "\\end{equation}\n",
      "%\n",
      "\\begin{equation}\n",
      "\\label{eq:V_R_x_U_semiempirical}\n",
      "\\input{equations/mathematical_model_kinetics.V_R_x_U_semiempirical}\n",
      "\\end{equation}\n",
      "%\n",
      "\\begin{equation}\n",
      "\\label{eq:V_x_U_semiempirical}\n",
      "\\input{equations/mathematical_model_kinetics.V_x_U_semiempirical}\n",
      "\\end{equation}\n",
      "%\n",
      "\\begin{equation}\n",
      "\\label{eq:V_R_y_semiempirical}\n",
      "\\input{equations/mathematical_model_kinetics.V_R_y_semiempirical}\n",
      "\\end{equation}\n",
      "%\n",
      "\\begin{equation}\n",
      "\\label{eq:kappa_r_tot_semiempirical}\n",
      "\\input{equations/mathematical_model_kinetics.kappa_r_tot_semiempirical}\n",
      "\\end{equation}\n",
      "%\n",
      "\\begin{equation}\n",
      "\\label{eq:kappa_v_tot_semiempirical}\n",
      "\\input{equations/mathematical_model_kinetics.kappa_v_tot_semiempirical}\n",
      "\\end{equation}\n",
      "%\n",
      "\\begin{equation}\n",
      "\\label{eq:gamma_g_semiempirical}\n",
      "\\input{equations/mathematical_model_kinetics.gamma_g_semiempirical}\n",
      "\\end{equation}\n",
      "%\n",
      "\\begin{equation}\n",
      "\\label{eq:V_R_x_C_semiempirical}\n",
      "\\input{equations/mathematical_model_kinetics.V_R_x_C_semiempirical}\n",
      "\\end{equation}\n",
      "%\n",
      "\\begin{equation}\n",
      "\\label{eq:V_x_C_semiempirical}\n",
      "\\input{equations/mathematical_model_kinetics.V_x_C_semiempirical}\n",
      "\\end{equation}\n",
      "%\n",
      "\\begin{equation}\n",
      "\\label{eq:r_p_semiempirical}\n",
      "\\input{equations/mathematical_model_kinetics.r_p_semiempirical}\n",
      "\\end{equation}\n",
      "%\n",
      "\\begin{equation}\n",
      "\\label{eq:r_infty_semiempirical}\n",
      "\\input{equations/mathematical_model_kinetics.r_infty_semiempirical}\n",
      "\\end{equation}\n",
      "%\n",
      "\\begin{equation}\n",
      "\\label{eq:V_infty_semiempirical}\n",
      "\\input{equations/mathematical_model_kinetics.V_infty_semiempirical}\n",
      "\\end{equation}\n",
      "%\n",
      "\\begin{equation}\n",
      "\\label{eq:C_Th_semiempirical}\n",
      "\\input{equations/mathematical_model_kinetics.C_Th_semiempirical}\n",
      "\\end{equation}\n",
      "%\n",
      "\\begin{equation}\n",
      "\\label{eq:V_A_semiempirical}\n",
      "\\input{equations/mathematical_model_kinetics.V_A_semiempirical}\n",
      "\\end{equation}\n",
      "%\n",
      "\\begin{equation}\n",
      "\\label{eq:c_semiempirical}\n",
      "\\input{equations/mathematical_model_kinetics.c_semiempirical}\n",
      "\\end{equation}\n",
      "%\n"
     ]
    }
   ],
   "source": [
    "s_latex = \"\"\n",
    "for name in keys:\n",
    "    eq = rudder.equations[name]\n",
    "    name_clean = name.replace('_port','')\n",
    "    file_name = f\"{name_clean}_semiempirical\"\n",
    "    \n",
    "    eq_latex = fr\"\"\"\n",
    "\\begin{{equation}}\n",
    "\\label{{eq:{file_name}}}\n",
    "\\input{{equations/mathematical_model_kinetics.{file_name}}}\n",
    "\\end{{equation}}\n",
    "%\"\"\"\n",
    "    s_latex+=eq_latex\n",
    "\n",
    "print(s_latex)"
   ]
  },
  {
   "cell_type": "code",
   "execution_count": null,
   "id": "bef0fec6-7c40-4cd1-88fc-d14178f12cdc",
   "metadata": {},
   "outputs": [],
   "source": []
  }
 ],
 "metadata": {
  "kernelspec": {
   "display_name": "Kedro (phd)",
   "language": "python",
   "name": "kedro_phd"
  },
  "language_info": {
   "codemirror_mode": {
    "name": "ipython",
    "version": 3
   },
   "file_extension": ".py",
   "mimetype": "text/x-python",
   "name": "python",
   "nbconvert_exporter": "python",
   "pygments_lexer": "ipython3",
   "version": "3.10.10"
  }
 },
 "nbformat": 4,
 "nbformat_minor": 5
}
