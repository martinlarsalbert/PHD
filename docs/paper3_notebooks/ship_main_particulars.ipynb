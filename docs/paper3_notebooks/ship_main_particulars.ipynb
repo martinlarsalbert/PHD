{
 "cells": [
  {
   "cell_type": "markdown",
   "id": "ef6613d0-f2a9-4915-895d-7b85982d8eb7",
   "metadata": {},
   "source": [
    "# Ship main particulars"
   ]
  },
  {
   "cell_type": "code",
   "execution_count": 1,
   "id": "126d6f87-6cda-4b3c-8eea-53a3bbca9f33",
   "metadata": {},
   "outputs": [],
   "source": [
    "import warnings\n",
    "warnings.filterwarnings('ignore')\n",
    "%matplotlib inline\n",
    "%load_ext autoreload\n",
    "%autoreload 2\n",
    "%config Completer.use_jedi = False"
   ]
  },
  {
   "cell_type": "code",
   "execution_count": 1,
   "id": "1eba1192-792e-4a7a-9498-b0dc84a4455a",
   "metadata": {},
   "outputs": [
    {
     "data": {
      "text/html": [
       "<pre style=\"white-space:pre;overflow-x:auto;line-height:normal;font-family:Menlo,'DejaVu Sans Mono',consolas,'Courier New',monospace\"><span style=\"color: #800000; text-decoration-color: #800000\">╭─────────────────────────────── </span><span style=\"color: #800000; text-decoration-color: #800000; font-weight: bold\">Traceback </span><span style=\"color: #bf7f7f; text-decoration-color: #bf7f7f; font-weight: bold\">(most recent call last)</span><span style=\"color: #800000; text-decoration-color: #800000\"> ────────────────────────────────╮</span>\n",
       "<span style=\"color: #800000; text-decoration-color: #800000\">│</span> in <span style=\"color: #00ff00; text-decoration-color: #00ff00\">&lt;module&gt;</span>:<span style=\"color: #0000ff; text-decoration-color: #0000ff\">10</span>                                                                                   <span style=\"color: #800000; text-decoration-color: #800000\">│</span>\n",
       "<span style=\"color: #800000; text-decoration-color: #800000\">│</span>                                                                                                  <span style=\"color: #800000; text-decoration-color: #800000\">│</span>\n",
       "<span style=\"color: #800000; text-decoration-color: #800000\">│</span>   <span style=\"color: #7f7f7f; text-decoration-color: #7f7f7f\"> 7 </span>                                                                                            <span style=\"color: #800000; text-decoration-color: #800000\">│</span>\n",
       "<span style=\"color: #800000; text-decoration-color: #800000\">│</span>   <span style=\"color: #7f7f7f; text-decoration-color: #7f7f7f\"> 8 </span><span style=\"color: #0000ff; text-decoration-color: #0000ff\">from</span> <span style=\"color: #00ffff; text-decoration-color: #00ffff; text-decoration: underline\">vessel_manoeuvring_models.visualization.plot</span> <span style=\"color: #0000ff; text-decoration-color: #0000ff\">import</span> track_plot, plot                   <span style=\"color: #800000; text-decoration-color: #800000\">│</span>\n",
       "<span style=\"color: #800000; text-decoration-color: #800000\">│</span>   <span style=\"color: #7f7f7f; text-decoration-color: #7f7f7f\"> 9 </span><span style=\"color: #0000ff; text-decoration-color: #0000ff\">from</span> <span style=\"color: #00ffff; text-decoration-color: #00ffff; text-decoration: underline\">phd.visualization.plot_ship</span> <span style=\"color: #0000ff; text-decoration-color: #0000ff\">import</span> track_plots                                         <span style=\"color: #800000; text-decoration-color: #800000\">│</span>\n",
       "<span style=\"color: #800000; text-decoration-color: #800000\">│</span> <span style=\"color: #800000; text-decoration-color: #800000\">❱ </span>10 <span style=\"color: #0000ff; text-decoration-color: #0000ff\">from</span> <span style=\"color: #00ffff; text-decoration-color: #00ffff; text-decoration: underline\">wPCC_pipeline.pipelines.preprocess.nodes</span> <span style=\"color: #0000ff; text-decoration-color: #0000ff\">import</span> load, add_thrust                       <span style=\"color: #800000; text-decoration-color: #800000\">│</span>\n",
       "<span style=\"color: #800000; text-decoration-color: #800000\">│</span>   <span style=\"color: #7f7f7f; text-decoration-color: #7f7f7f\">11 </span><span style=\"color: #0000ff; text-decoration-color: #0000ff\">from</span> <span style=\"color: #00ffff; text-decoration-color: #00ffff; text-decoration: underline\">sklearn.metrics</span> <span style=\"color: #0000ff; text-decoration-color: #0000ff\">import</span> mean_squared_error                                              <span style=\"color: #800000; text-decoration-color: #800000\">│</span>\n",
       "<span style=\"color: #800000; text-decoration-color: #800000\">│</span>   <span style=\"color: #7f7f7f; text-decoration-color: #7f7f7f\">12 </span><span style=\"color: #0000ff; text-decoration-color: #0000ff\">import</span> <span style=\"color: #00ffff; text-decoration-color: #00ffff; text-decoration: underline\">sympy</span> <span style=\"color: #0000ff; text-decoration-color: #0000ff\">as</span> <span style=\"color: #00ffff; text-decoration-color: #00ffff; text-decoration: underline\">sp</span>                                                                          <span style=\"color: #800000; text-decoration-color: #800000\">│</span>\n",
       "<span style=\"color: #800000; text-decoration-color: #800000\">│</span>   <span style=\"color: #7f7f7f; text-decoration-color: #7f7f7f\">13 </span><span style=\"color: #0000ff; text-decoration-color: #0000ff\">from</span> <span style=\"color: #00ffff; text-decoration-color: #00ffff; text-decoration: underline\">functools</span> <span style=\"color: #0000ff; text-decoration-color: #0000ff\">import</span> reduce                                                                <span style=\"color: #800000; text-decoration-color: #800000\">│</span>\n",
       "<span style=\"color: #800000; text-decoration-color: #800000\">╰──────────────────────────────────────────────────────────────────────────────────────────────────╯</span>\n",
       "<span style=\"color: #ff0000; text-decoration-color: #ff0000; font-weight: bold\">ModuleNotFoundError: </span>No module named <span style=\"color: #008000; text-decoration-color: #008000\">'wPCC_pipeline'</span>\n",
       "</pre>\n"
      ],
      "text/plain": [
       "\u001b[31m╭─\u001b[0m\u001b[31m──────────────────────────────\u001b[0m\u001b[31m \u001b[0m\u001b[1;31mTraceback \u001b[0m\u001b[1;2;31m(most recent call last)\u001b[0m\u001b[31m \u001b[0m\u001b[31m───────────────────────────────\u001b[0m\u001b[31m─╮\u001b[0m\n",
       "\u001b[31m│\u001b[0m in \u001b[92m<module>\u001b[0m:\u001b[94m10\u001b[0m                                                                                   \u001b[31m│\u001b[0m\n",
       "\u001b[31m│\u001b[0m                                                                                                  \u001b[31m│\u001b[0m\n",
       "\u001b[31m│\u001b[0m   \u001b[2m 7 \u001b[0m                                                                                            \u001b[31m│\u001b[0m\n",
       "\u001b[31m│\u001b[0m   \u001b[2m 8 \u001b[0m\u001b[94mfrom\u001b[0m \u001b[4;96mvessel_manoeuvring_models\u001b[0m\u001b[4;96m.\u001b[0m\u001b[4;96mvisualization\u001b[0m\u001b[4;96m.\u001b[0m\u001b[4;96mplot\u001b[0m \u001b[94mimport\u001b[0m track_plot, plot                   \u001b[31m│\u001b[0m\n",
       "\u001b[31m│\u001b[0m   \u001b[2m 9 \u001b[0m\u001b[94mfrom\u001b[0m \u001b[4;96mphd\u001b[0m\u001b[4;96m.\u001b[0m\u001b[4;96mvisualization\u001b[0m\u001b[4;96m.\u001b[0m\u001b[4;96mplot_ship\u001b[0m \u001b[94mimport\u001b[0m track_plots                                         \u001b[31m│\u001b[0m\n",
       "\u001b[31m│\u001b[0m \u001b[31m❱ \u001b[0m10 \u001b[94mfrom\u001b[0m \u001b[4;96mwPCC_pipeline\u001b[0m\u001b[4;96m.\u001b[0m\u001b[4;96mpipelines\u001b[0m\u001b[4;96m.\u001b[0m\u001b[4;96mpreprocess\u001b[0m\u001b[4;96m.\u001b[0m\u001b[4;96mnodes\u001b[0m \u001b[94mimport\u001b[0m load, add_thrust                       \u001b[31m│\u001b[0m\n",
       "\u001b[31m│\u001b[0m   \u001b[2m11 \u001b[0m\u001b[94mfrom\u001b[0m \u001b[4;96msklearn\u001b[0m\u001b[4;96m.\u001b[0m\u001b[4;96mmetrics\u001b[0m \u001b[94mimport\u001b[0m mean_squared_error                                              \u001b[31m│\u001b[0m\n",
       "\u001b[31m│\u001b[0m   \u001b[2m12 \u001b[0m\u001b[94mimport\u001b[0m \u001b[4;96msympy\u001b[0m \u001b[94mas\u001b[0m \u001b[4;96msp\u001b[0m                                                                          \u001b[31m│\u001b[0m\n",
       "\u001b[31m│\u001b[0m   \u001b[2m13 \u001b[0m\u001b[94mfrom\u001b[0m \u001b[4;96mfunctools\u001b[0m \u001b[94mimport\u001b[0m reduce                                                                \u001b[31m│\u001b[0m\n",
       "\u001b[31m╰──────────────────────────────────────────────────────────────────────────────────────────────────╯\u001b[0m\n",
       "\u001b[1;91mModuleNotFoundError: \u001b[0mNo module named \u001b[32m'wPCC_pipeline'\u001b[0m\n"
      ]
     },
     "metadata": {},
     "output_type": "display_data"
    }
   ],
   "source": [
    "import pandas as pd\n",
    "pd.set_option('display.max_rows', 5000)\n",
    "pd.set_option('display.max_columns', 5000)\n",
    "pd.set_option('display.width', 10000)\n",
    "import numpy as np\n",
    "import yaml\n",
    "\n",
    "from vessel_manoeuvring_models.visualization.plot import track_plot, plot\n",
    "from phd.visualization.plot_ship import track_plots\n",
    "from wPCC_pipeline.pipelines.preprocess.nodes import load, add_thrust\n",
    "from sklearn.metrics import mean_squared_error\n",
    "import sympy as sp\n",
    "from functools import reduce\n",
    "from operator import add\n",
    "from vessel_manoeuvring_models.symbols import *\n",
    "import vessel_manoeuvring_models.symbols as symbols\n",
    "from IPython.display import display\n",
    "from vessel_manoeuvring_models.prime_system import df_prime\n",
    "from vessel_manoeuvring_models.substitute_dynamic_symbols import run, lambdify, get_function_subs\n",
    "from vessel_manoeuvring_models.parameters import df_parameters\n",
    "from phd.helpers import mean\n",
    "from vessel_manoeuvring_models.angles import mean_angle\n",
    "from vessel_manoeuvring_models.angles import smallest_signed_angle\n",
    "import inspect\n",
    "from phd.visualization.plot_prediction import plot_total_force, plot_force_components\n",
    "from vessel_manoeuvring_models.models.modular_simulator import ModularVesselSimulator, function_eq, subs_simpler\n",
    "from scipy.optimize import least_squares\n",
    "from vessel_manoeuvring_models.models.diff_eq_to_matrix import DiffEqToMatrix\n",
    "from vessel_manoeuvring_models.prime_system import PrimeSystem\n",
    "import statsmodels.api as sm\n",
    "import logging\n",
    "log = logging.getLogger(__name__)\n",
    "import paper\n",
    "import matplotlib.pyplot as plt\n",
    "import os\n",
    "from vessel_manoeuvring_models.prime_system import standard_units\n",
    "plt.style.use('bmh')"
   ]
  },
  {
   "cell_type": "code",
   "execution_count": 4,
   "id": "19c1c9d8-5a4b-4dd3-8ee1-a7c92e6205b5",
   "metadata": {},
   "outputs": [
    {
     "data": {
      "text/html": [
       "<pre style=\"white-space:pre;overflow-x:auto;line-height:normal;font-family:Menlo,'DejaVu Sans Mono',consolas,'Courier New',monospace\"><span style=\"color: #7fbfbf; text-decoration-color: #7fbfbf\">[07/18/23 16:12:44] </span><span style=\"color: #000080; text-decoration-color: #000080\">INFO    </span> Resolved project path as: <span style=\"color: #800080; text-decoration-color: #800080\">/home/maa/dev/</span><span style=\"color: #ff00ff; text-decoration-color: #ff00ff\">PHD.</span>                           <a href=\"file:///home/maa/anaconda3/envs/phd/lib/python3.10/site-packages/kedro/ipython/__init__.py\" target=\"_blank\"><span style=\"color: #7f7f7f; text-decoration-color: #7f7f7f\">__init__.py</span></a><span style=\"color: #7f7f7f; text-decoration-color: #7f7f7f\">:</span><a href=\"file:///home/maa/anaconda3/envs/phd/lib/python3.10/site-packages/kedro/ipython/__init__.py#134\" target=\"_blank\"><span style=\"color: #7f7f7f; text-decoration-color: #7f7f7f\">134</span></a>\n",
       "<span style=\"color: #7fbfbf; text-decoration-color: #7fbfbf\">                    </span>         To set a different path, run <span style=\"color: #008000; text-decoration-color: #008000\">'%reload_kedro &lt;project_root&gt;'</span>            <span style=\"color: #7f7f7f; text-decoration-color: #7f7f7f\">               </span>\n",
       "</pre>\n"
      ],
      "text/plain": [
       "\u001b[2;36m[07/18/23 16:12:44]\u001b[0m\u001b[2;36m \u001b[0m\u001b[34mINFO    \u001b[0m Resolved project path as: \u001b[35m/home/maa/dev/\u001b[0m\u001b[95mPHD.\u001b[0m                           \u001b]8;id=36858;file:///home/maa/anaconda3/envs/phd/lib/python3.10/site-packages/kedro/ipython/__init__.py\u001b\\\u001b[2m__init__.py\u001b[0m\u001b]8;;\u001b\\\u001b[2m:\u001b[0m\u001b]8;id=435646;file:///home/maa/anaconda3/envs/phd/lib/python3.10/site-packages/kedro/ipython/__init__.py#134\u001b\\\u001b[2m134\u001b[0m\u001b]8;;\u001b\\\n",
       "\u001b[2;36m                    \u001b[0m         To set a different path, run \u001b[32m'%reload_kedro \u001b[0m\u001b[32m<\u001b[0m\u001b[32mproject_root\u001b[0m\u001b[32m>\u001b[0m\u001b[32m'\u001b[0m            \u001b[2m               \u001b[0m\n"
      ]
     },
     "metadata": {},
     "output_type": "display_data"
    },
    {
     "data": {
      "text/html": [
       "<pre style=\"white-space:pre;overflow-x:auto;line-height:normal;font-family:Menlo,'DejaVu Sans Mono',consolas,'Courier New',monospace\"><span style=\"color: #7fbfbf; text-decoration-color: #7fbfbf\">[07/18/23 16:12:54] </span><span style=\"color: #000080; text-decoration-color: #000080\">INFO    </span> Kedro project phd                                                      <a href=\"file:///home/maa/anaconda3/envs/phd/lib/python3.10/site-packages/kedro/ipython/__init__.py\" target=\"_blank\"><span style=\"color: #7f7f7f; text-decoration-color: #7f7f7f\">__init__.py</span></a><span style=\"color: #7f7f7f; text-decoration-color: #7f7f7f\">:</span><a href=\"file:///home/maa/anaconda3/envs/phd/lib/python3.10/site-packages/kedro/ipython/__init__.py#103\" target=\"_blank\"><span style=\"color: #7f7f7f; text-decoration-color: #7f7f7f\">103</span></a>\n",
       "</pre>\n"
      ],
      "text/plain": [
       "\u001b[2;36m[07/18/23 16:12:54]\u001b[0m\u001b[2;36m \u001b[0m\u001b[34mINFO    \u001b[0m Kedro project phd                                                      \u001b]8;id=981327;file:///home/maa/anaconda3/envs/phd/lib/python3.10/site-packages/kedro/ipython/__init__.py\u001b\\\u001b[2m__init__.py\u001b[0m\u001b]8;;\u001b\\\u001b[2m:\u001b[0m\u001b]8;id=307677;file:///home/maa/anaconda3/envs/phd/lib/python3.10/site-packages/kedro/ipython/__init__.py#103\u001b\\\u001b[2m103\u001b[0m\u001b]8;;\u001b\\\n"
      ]
     },
     "metadata": {},
     "output_type": "display_data"
    },
    {
     "data": {
      "text/html": [
       "<pre style=\"white-space:pre;overflow-x:auto;line-height:normal;font-family:Menlo,'DejaVu Sans Mono',consolas,'Courier New',monospace\"><span style=\"color: #7fbfbf; text-decoration-color: #7fbfbf\">                    </span><span style=\"color: #000080; text-decoration-color: #000080\">INFO    </span> Defined global variable <span style=\"color: #008000; text-decoration-color: #008000\">'context'</span>, <span style=\"color: #008000; text-decoration-color: #008000\">'session'</span>, <span style=\"color: #008000; text-decoration-color: #008000\">'catalog'</span> and            <a href=\"file:///home/maa/anaconda3/envs/phd/lib/python3.10/site-packages/kedro/ipython/__init__.py\" target=\"_blank\"><span style=\"color: #7f7f7f; text-decoration-color: #7f7f7f\">__init__.py</span></a><span style=\"color: #7f7f7f; text-decoration-color: #7f7f7f\">:</span><a href=\"file:///home/maa/anaconda3/envs/phd/lib/python3.10/site-packages/kedro/ipython/__init__.py#104\" target=\"_blank\"><span style=\"color: #7f7f7f; text-decoration-color: #7f7f7f\">104</span></a>\n",
       "<span style=\"color: #7fbfbf; text-decoration-color: #7fbfbf\">                    </span>         <span style=\"color: #008000; text-decoration-color: #008000\">'pipelines'</span>                                                            <span style=\"color: #7f7f7f; text-decoration-color: #7f7f7f\">               </span>\n",
       "</pre>\n"
      ],
      "text/plain": [
       "\u001b[2;36m                   \u001b[0m\u001b[2;36m \u001b[0m\u001b[34mINFO    \u001b[0m Defined global variable \u001b[32m'context'\u001b[0m, \u001b[32m'session'\u001b[0m, \u001b[32m'catalog'\u001b[0m and            \u001b]8;id=589616;file:///home/maa/anaconda3/envs/phd/lib/python3.10/site-packages/kedro/ipython/__init__.py\u001b\\\u001b[2m__init__.py\u001b[0m\u001b]8;;\u001b\\\u001b[2m:\u001b[0m\u001b]8;id=811193;file:///home/maa/anaconda3/envs/phd/lib/python3.10/site-packages/kedro/ipython/__init__.py#104\u001b\\\u001b[2m104\u001b[0m\u001b]8;;\u001b\\\n",
       "\u001b[2;36m                    \u001b[0m         \u001b[32m'pipelines'\u001b[0m                                                            \u001b[2m               \u001b[0m\n"
      ]
     },
     "metadata": {},
     "output_type": "display_data"
    },
    {
     "data": {
      "text/html": [
       "<pre style=\"white-space:pre;overflow-x:auto;line-height:normal;font-family:Menlo,'DejaVu Sans Mono',consolas,'Courier New',monospace\"><span style=\"color: #7fbfbf; text-decoration-color: #7fbfbf\">                    </span><span style=\"color: #000080; text-decoration-color: #000080\">INFO    </span> Registered line magic <span style=\"color: #008000; text-decoration-color: #008000\">'run_viz'</span>                                        <a href=\"file:///home/maa/anaconda3/envs/phd/lib/python3.10/site-packages/kedro/ipython/__init__.py\" target=\"_blank\"><span style=\"color: #7f7f7f; text-decoration-color: #7f7f7f\">__init__.py</span></a><span style=\"color: #7f7f7f; text-decoration-color: #7f7f7f\">:</span><a href=\"file:///home/maa/anaconda3/envs/phd/lib/python3.10/site-packages/kedro/ipython/__init__.py#110\" target=\"_blank\"><span style=\"color: #7f7f7f; text-decoration-color: #7f7f7f\">110</span></a>\n",
       "</pre>\n"
      ],
      "text/plain": [
       "\u001b[2;36m                   \u001b[0m\u001b[2;36m \u001b[0m\u001b[34mINFO    \u001b[0m Registered line magic \u001b[32m'run_viz'\u001b[0m                                        \u001b]8;id=541925;file:///home/maa/anaconda3/envs/phd/lib/python3.10/site-packages/kedro/ipython/__init__.py\u001b\\\u001b[2m__init__.py\u001b[0m\u001b]8;;\u001b\\\u001b[2m:\u001b[0m\u001b]8;id=604425;file:///home/maa/anaconda3/envs/phd/lib/python3.10/site-packages/kedro/ipython/__init__.py#110\u001b\\\u001b[2m110\u001b[0m\u001b]8;;\u001b\\\n"
      ]
     },
     "metadata": {},
     "output_type": "display_data"
    },
    {
     "data": {
      "text/html": [
       "<pre style=\"white-space:pre;overflow-x:auto;line-height:normal;font-family:Menlo,'DejaVu Sans Mono',consolas,'Courier New',monospace\"><span style=\"color: #7fbfbf; text-decoration-color: #7fbfbf\">                    </span><span style=\"color: #000080; text-decoration-color: #000080\">INFO    </span> Loading data from <span style=\"color: #008000; text-decoration-color: #008000\">'wPCC.ship_data'</span> <span style=\"font-weight: bold\">(</span>YAMLDataSet<span style=\"font-weight: bold\">)</span><span style=\"color: #808000; text-decoration-color: #808000\">...</span>                <a href=\"file:///home/maa/anaconda3/envs/phd/lib/python3.10/site-packages/kedro/io/data_catalog.py\" target=\"_blank\"><span style=\"color: #7f7f7f; text-decoration-color: #7f7f7f\">data_catalog.py</span></a><span style=\"color: #7f7f7f; text-decoration-color: #7f7f7f\">:</span><a href=\"file:///home/maa/anaconda3/envs/phd/lib/python3.10/site-packages/kedro/io/data_catalog.py#343\" target=\"_blank\"><span style=\"color: #7f7f7f; text-decoration-color: #7f7f7f\">343</span></a>\n",
       "</pre>\n"
      ],
      "text/plain": [
       "\u001b[2;36m                   \u001b[0m\u001b[2;36m \u001b[0m\u001b[34mINFO    \u001b[0m Loading data from \u001b[32m'wPCC.ship_data'\u001b[0m \u001b[1m(\u001b[0mYAMLDataSet\u001b[1m)\u001b[0m\u001b[33m...\u001b[0m                \u001b]8;id=295746;file:///home/maa/anaconda3/envs/phd/lib/python3.10/site-packages/kedro/io/data_catalog.py\u001b\\\u001b[2mdata_catalog.py\u001b[0m\u001b]8;;\u001b\\\u001b[2m:\u001b[0m\u001b]8;id=745484;file:///home/maa/anaconda3/envs/phd/lib/python3.10/site-packages/kedro/io/data_catalog.py#343\u001b\\\u001b[2m343\u001b[0m\u001b]8;;\u001b\\\n"
      ]
     },
     "metadata": {},
     "output_type": "display_data"
    },
    {
     "data": {
      "text/html": [
       "<pre style=\"white-space:pre;overflow-x:auto;line-height:normal;font-family:Menlo,'DejaVu Sans Mono',consolas,'Courier New',monospace\"><span style=\"color: #7fbfbf; text-decoration-color: #7fbfbf\">                    </span><span style=\"color: #000080; text-decoration-color: #000080\">INFO    </span> Loading data from <span style=\"color: #008000; text-decoration-color: #008000\">'7m.ship_data'</span> <span style=\"font-weight: bold\">(</span>YAMLDataSet<span style=\"font-weight: bold\">)</span><span style=\"color: #808000; text-decoration-color: #808000\">...</span>                  <a href=\"file:///home/maa/anaconda3/envs/phd/lib/python3.10/site-packages/kedro/io/data_catalog.py\" target=\"_blank\"><span style=\"color: #7f7f7f; text-decoration-color: #7f7f7f\">data_catalog.py</span></a><span style=\"color: #7f7f7f; text-decoration-color: #7f7f7f\">:</span><a href=\"file:///home/maa/anaconda3/envs/phd/lib/python3.10/site-packages/kedro/io/data_catalog.py#343\" target=\"_blank\"><span style=\"color: #7f7f7f; text-decoration-color: #7f7f7f\">343</span></a>\n",
       "</pre>\n"
      ],
      "text/plain": [
       "\u001b[2;36m                   \u001b[0m\u001b[2;36m \u001b[0m\u001b[34mINFO    \u001b[0m Loading data from \u001b[32m'7m.ship_data'\u001b[0m \u001b[1m(\u001b[0mYAMLDataSet\u001b[1m)\u001b[0m\u001b[33m...\u001b[0m                  \u001b]8;id=109993;file:///home/maa/anaconda3/envs/phd/lib/python3.10/site-packages/kedro/io/data_catalog.py\u001b\\\u001b[2mdata_catalog.py\u001b[0m\u001b]8;;\u001b\\\u001b[2m:\u001b[0m\u001b]8;id=759390;file:///home/maa/anaconda3/envs/phd/lib/python3.10/site-packages/kedro/io/data_catalog.py#343\u001b\\\u001b[2m343\u001b[0m\u001b]8;;\u001b\\\n"
      ]
     },
     "metadata": {},
     "output_type": "display_data"
    }
   ],
   "source": [
    "%reload_kedro\n",
    "ships=['wPCC','7m']\n",
    "\n",
    "ship_datas = {ship:catalog.load(f\"{ship}.ship_data\") for ship in ships}\n"
   ]
  },
  {
   "cell_type": "code",
   "execution_count": 2,
   "id": "f19f981c-5305-4c84-8b83-a4cefe4afb44",
   "metadata": {},
   "outputs": [
    {
     "data": {
      "text/html": [
       "<pre style=\"white-space:pre;overflow-x:auto;line-height:normal;font-family:Menlo,'DejaVu Sans Mono',consolas,'Courier New',monospace\"><span style=\"color: #800000; text-decoration-color: #800000\">╭─────────────────────────────── </span><span style=\"color: #800000; text-decoration-color: #800000; font-weight: bold\">Traceback </span><span style=\"color: #bf7f7f; text-decoration-color: #bf7f7f; font-weight: bold\">(most recent call last)</span><span style=\"color: #800000; text-decoration-color: #800000\"> ────────────────────────────────╮</span>\n",
       "<span style=\"color: #800000; text-decoration-color: #800000\">│</span> in <span style=\"color: #00ff00; text-decoration-color: #00ff00\">&lt;module&gt;</span>:<span style=\"color: #0000ff; text-decoration-color: #0000ff\">1</span>                                                                                    <span style=\"color: #800000; text-decoration-color: #800000\">│</span>\n",
       "<span style=\"color: #800000; text-decoration-color: #800000\">│</span>                                                                                                  <span style=\"color: #800000; text-decoration-color: #800000\">│</span>\n",
       "<span style=\"color: #800000; text-decoration-color: #800000\">│</span> <span style=\"color: #800000; text-decoration-color: #800000\">❱ </span>1 df_main_particulars = pd.DataFrame(ship_datas).sort_index()                                  <span style=\"color: #800000; text-decoration-color: #800000\">│</span>\n",
       "<span style=\"color: #800000; text-decoration-color: #800000\">│</span>   <span style=\"color: #7f7f7f; text-decoration-color: #7f7f7f\">2 </span>df_main_particulars.rename(columns={<span style=\"color: #808000; text-decoration-color: #808000\">'wPCC'</span>:<span style=\"color: #808000; text-decoration-color: #808000\">'5m'</span>},inplace=<span style=\"color: #0000ff; text-decoration-color: #0000ff\">True</span>)                               <span style=\"color: #800000; text-decoration-color: #800000\">│</span>\n",
       "<span style=\"color: #800000; text-decoration-color: #800000\">│</span>   <span style=\"color: #7f7f7f; text-decoration-color: #7f7f7f\">3 </span>df_main_particulars.index.name=<span style=\"color: #808000; text-decoration-color: #808000\">'Particular'</span>                                                  <span style=\"color: #800000; text-decoration-color: #800000\">│</span>\n",
       "<span style=\"color: #800000; text-decoration-color: #800000\">│</span>   <span style=\"color: #7f7f7f; text-decoration-color: #7f7f7f\">4 </span>df_main_particulars=df_main_particulars.select_dtypes(exclude=<span style=\"color: #808000; text-decoration-color: #808000\">'object'</span>)                      <span style=\"color: #800000; text-decoration-color: #800000\">│</span>\n",
       "<span style=\"color: #800000; text-decoration-color: #800000\">╰──────────────────────────────────────────────────────────────────────────────────────────────────╯</span>\n",
       "<span style=\"color: #ff0000; text-decoration-color: #ff0000; font-weight: bold\">NameError: </span>name <span style=\"color: #008000; text-decoration-color: #008000\">'ship_datas'</span> is not defined\n",
       "</pre>\n"
      ],
      "text/plain": [
       "\u001b[31m╭─\u001b[0m\u001b[31m──────────────────────────────\u001b[0m\u001b[31m \u001b[0m\u001b[1;31mTraceback \u001b[0m\u001b[1;2;31m(most recent call last)\u001b[0m\u001b[31m \u001b[0m\u001b[31m───────────────────────────────\u001b[0m\u001b[31m─╮\u001b[0m\n",
       "\u001b[31m│\u001b[0m in \u001b[92m<module>\u001b[0m:\u001b[94m1\u001b[0m                                                                                    \u001b[31m│\u001b[0m\n",
       "\u001b[31m│\u001b[0m                                                                                                  \u001b[31m│\u001b[0m\n",
       "\u001b[31m│\u001b[0m \u001b[31m❱ \u001b[0m1 df_main_particulars = pd.DataFrame(ship_datas).sort_index()                                  \u001b[31m│\u001b[0m\n",
       "\u001b[31m│\u001b[0m   \u001b[2m2 \u001b[0mdf_main_particulars.rename(columns={\u001b[33m'\u001b[0m\u001b[33mwPCC\u001b[0m\u001b[33m'\u001b[0m:\u001b[33m'\u001b[0m\u001b[33m5m\u001b[0m\u001b[33m'\u001b[0m},inplace=\u001b[94mTrue\u001b[0m)                               \u001b[31m│\u001b[0m\n",
       "\u001b[31m│\u001b[0m   \u001b[2m3 \u001b[0mdf_main_particulars.index.name=\u001b[33m'\u001b[0m\u001b[33mParticular\u001b[0m\u001b[33m'\u001b[0m                                                  \u001b[31m│\u001b[0m\n",
       "\u001b[31m│\u001b[0m   \u001b[2m4 \u001b[0mdf_main_particulars=df_main_particulars.select_dtypes(exclude=\u001b[33m'\u001b[0m\u001b[33mobject\u001b[0m\u001b[33m'\u001b[0m)                      \u001b[31m│\u001b[0m\n",
       "\u001b[31m╰──────────────────────────────────────────────────────────────────────────────────────────────────╯\u001b[0m\n",
       "\u001b[1;91mNameError: \u001b[0mname \u001b[32m'ship_datas'\u001b[0m is not defined\n"
      ]
     },
     "metadata": {},
     "output_type": "display_data"
    }
   ],
   "source": [
    "df_main_particulars = pd.DataFrame(ship_datas).sort_index()\n",
    "df_main_particulars.rename(columns={'wPCC':'5m'},inplace=True)\n",
    "df_main_particulars.index.name='Particular'\n",
    "df_main_particulars=df_main_particulars.select_dtypes(exclude='object')\n",
    "df_main_particulars.drop(index=['TWIN'], inplace=True)\n",
    "df_main_particulars.loc['x_G','5m'] = df_main_particulars.loc['x_G','7m']*df_main_particulars.loc['scale_factor','7m']/df_main_particulars.loc['scale_factor','5m']\n"
   ]
  },
  {
   "cell_type": "code",
   "execution_count": 73,
   "id": "8000487e-be76-4229-898e-7ee3ba6e5a7c",
   "metadata": {},
   "outputs": [],
   "source": [
    "symbols_dict = {key:symbol for key,symbol in symbols.__dict__.items() if isinstance(symbol, sp.Symbol)}"
   ]
  },
  {
   "cell_type": "code",
   "execution_count": 74,
   "id": "f18be174-e7f3-401f-b3bd-0aaa355b5618",
   "metadata": {},
   "outputs": [],
   "source": [
    "table = df_main_particulars.applymap(np.format_float_positional, precision=4, unique=True, fractional=False)\n",
    "table.reset_index(inplace=True)\n",
    "table['Unit'] = table['Particular'].apply(lambda x:f\"{standard_units.get(x,'').replace('_',' ')}\")\n",
    "table['Particular'] = table['Particular'].apply(lambda x:f\"${symbols_dict.get(x,x)}$\")"
   ]
  },
  {
   "cell_type": "code",
   "execution_count": 80,
   "id": "3d878251-4198-418f-bf46-976b6ce83c95",
   "metadata": {},
   "outputs": [],
   "source": [
    "file_path = paper.file_path_with_nb_ref(\"main_particulars.csv\")\n",
    "table = table[['Particular','Unit','5m','7m']].copy()\n",
    "table.to_csv(file_path,index=False)"
   ]
  },
  {
   "cell_type": "code",
   "execution_count": 76,
   "id": "dd433d32-507a-46a5-830a-2856d4347372",
   "metadata": {},
   "outputs": [
    {
     "data": {
      "text/html": [
       "<div>\n",
       "<style scoped>\n",
       "    .dataframe tbody tr th:only-of-type {\n",
       "        vertical-align: middle;\n",
       "    }\n",
       "\n",
       "    .dataframe tbody tr th {\n",
       "        vertical-align: top;\n",
       "    }\n",
       "\n",
       "    .dataframe thead th {\n",
       "        text-align: right;\n",
       "    }\n",
       "</style>\n",
       "<table border=\"1\" class=\"dataframe\">\n",
       "  <thead>\n",
       "    <tr style=\"text-align: right;\">\n",
       "      <th></th>\n",
       "      <th>Particular</th>\n",
       "      <th>Unit</th>\n",
       "      <th>5m</th>\n",
       "      <th>7m</th>\n",
       "    </tr>\n",
       "  </thead>\n",
       "  <tbody>\n",
       "    <tr>\n",
       "      <th>0</th>\n",
       "      <td>$A_R$</td>\n",
       "      <td>area</td>\n",
       "      <td>0.04124</td>\n",
       "      <td>0.07778</td>\n",
       "    </tr>\n",
       "    <tr>\n",
       "      <th>1</th>\n",
       "      <td>$A_XV$</td>\n",
       "      <td>area</td>\n",
       "      <td>0.5938</td>\n",
       "      <td>1.120</td>\n",
       "    </tr>\n",
       "    <tr>\n",
       "      <th>2</th>\n",
       "      <td>$A_YV$</td>\n",
       "      <td>area</td>\n",
       "      <td>3.396</td>\n",
       "      <td>6.405</td>\n",
       "    </tr>\n",
       "    <tr>\n",
       "      <th>3</th>\n",
       "      <td>$B$</td>\n",
       "      <td>length</td>\n",
       "      <td>0.9466</td>\n",
       "      <td>1.3</td>\n",
       "    </tr>\n",
       "    <tr>\n",
       "      <th>4</th>\n",
       "      <td>$CB$</td>\n",
       "      <td>-</td>\n",
       "      <td>0.4503</td>\n",
       "      <td>0.4503</td>\n",
       "    </tr>\n",
       "    <tr>\n",
       "      <th>5</th>\n",
       "      <td>$D$</td>\n",
       "      <td>length</td>\n",
       "      <td>0.1214</td>\n",
       "      <td>0.1667</td>\n",
       "    </tr>\n",
       "    <tr>\n",
       "      <th>6</th>\n",
       "      <td>$I_z$</td>\n",
       "      <td>inertia moment</td>\n",
       "      <td>693.1</td>\n",
       "      <td>3430.</td>\n",
       "    </tr>\n",
       "    <tr>\n",
       "      <th>7</th>\n",
       "      <td>$L$</td>\n",
       "      <td>length</td>\n",
       "      <td>5.015</td>\n",
       "      <td>6.887</td>\n",
       "    </tr>\n",
       "    <tr>\n",
       "      <th>8</th>\n",
       "      <td>$T$</td>\n",
       "      <td>length</td>\n",
       "      <td>0.2063</td>\n",
       "      <td>0.2833</td>\n",
       "    </tr>\n",
       "    <tr>\n",
       "      <th>9</th>\n",
       "      <td>$b_R$</td>\n",
       "      <td>length</td>\n",
       "      <td>0.1743</td>\n",
       "      <td>0.2393</td>\n",
       "    </tr>\n",
       "    <tr>\n",
       "      <th>10</th>\n",
       "      <td>$m$</td>\n",
       "      <td>mass</td>\n",
       "      <td>441.0</td>\n",
       "      <td>1157.</td>\n",
       "    </tr>\n",
       "    <tr>\n",
       "      <th>11</th>\n",
       "      <td>$n_prop$</td>\n",
       "      <td>-</td>\n",
       "      <td>2.</td>\n",
       "      <td>2.</td>\n",
       "    </tr>\n",
       "    <tr>\n",
       "      <th>12</th>\n",
       "      <td>$rho$</td>\n",
       "      <td>density</td>\n",
       "      <td>1000.</td>\n",
       "      <td>1013.</td>\n",
       "    </tr>\n",
       "    <tr>\n",
       "      <th>13</th>\n",
       "      <td>$rho_A$</td>\n",
       "      <td>density</td>\n",
       "      <td>1.225</td>\n",
       "      <td>1.241</td>\n",
       "    </tr>\n",
       "    <tr>\n",
       "      <th>14</th>\n",
       "      <td>$scale_factor$</td>\n",
       "      <td>-</td>\n",
       "      <td>41.2</td>\n",
       "      <td>30.</td>\n",
       "    </tr>\n",
       "    <tr>\n",
       "      <th>15</th>\n",
       "      <td>$tdf$</td>\n",
       "      <td>-</td>\n",
       "      <td>0.117</td>\n",
       "      <td>0.117</td>\n",
       "    </tr>\n",
       "    <tr>\n",
       "      <th>16</th>\n",
       "      <td>$volume$</td>\n",
       "      <td>volume</td>\n",
       "      <td>0.4410</td>\n",
       "      <td>1.142</td>\n",
       "    </tr>\n",
       "    <tr>\n",
       "      <th>17</th>\n",
       "      <td>$w_p0$</td>\n",
       "      <td>-</td>\n",
       "      <td>0.151</td>\n",
       "      <td>0.151</td>\n",
       "    </tr>\n",
       "    <tr>\n",
       "      <th>18</th>\n",
       "      <td>$x_G$</td>\n",
       "      <td>length</td>\n",
       "      <td>-0.2399</td>\n",
       "      <td>-0.3295</td>\n",
       "    </tr>\n",
       "    <tr>\n",
       "      <th>19</th>\n",
       "      <td>$x_p$</td>\n",
       "      <td>length</td>\n",
       "      <td>-2.422</td>\n",
       "      <td>-3.326</td>\n",
       "    </tr>\n",
       "    <tr>\n",
       "      <th>20</th>\n",
       "      <td>$x_r$</td>\n",
       "      <td>length</td>\n",
       "      <td>-2.507</td>\n",
       "      <td>-3.493</td>\n",
       "    </tr>\n",
       "  </tbody>\n",
       "</table>\n",
       "</div>"
      ],
      "text/plain": [
       "        Particular            Unit       5m       7m\n",
       "0            $A_R$            area  0.04124  0.07778\n",
       "1           $A_XV$            area   0.5938    1.120\n",
       "2           $A_YV$            area    3.396    6.405\n",
       "3              $B$          length   0.9466      1.3\n",
       "4             $CB$               -   0.4503   0.4503\n",
       "5              $D$          length   0.1214   0.1667\n",
       "6            $I_z$  inertia moment    693.1    3430.\n",
       "7              $L$          length    5.015    6.887\n",
       "8              $T$          length   0.2063   0.2833\n",
       "9            $b_R$          length   0.1743   0.2393\n",
       "10             $m$            mass    441.0    1157.\n",
       "11        $n_prop$               -       2.       2.\n",
       "12           $rho$         density    1000.    1013.\n",
       "13         $rho_A$         density    1.225    1.241\n",
       "14  $scale_factor$               -     41.2      30.\n",
       "15           $tdf$               -    0.117    0.117\n",
       "16        $volume$          volume   0.4410    1.142\n",
       "17          $w_p0$               -    0.151    0.151\n",
       "18           $x_G$          length  -0.2399  -0.3295\n",
       "19           $x_p$          length   -2.422   -3.326\n",
       "20           $x_r$          length   -2.507   -3.493"
      ]
     },
     "execution_count": 76,
     "metadata": {},
     "output_type": "execute_result"
    }
   ],
   "source": [
    "table"
   ]
  }
 ],
 "metadata": {
  "kernelspec": {
   "display_name": "Kedro (phd)",
   "language": "python",
   "name": "kedro_phd"
  },
  "language_info": {
   "codemirror_mode": {
    "name": "ipython",
    "version": 3
   },
   "file_extension": ".py",
   "mimetype": "text/x-python",
   "name": "python",
   "nbconvert_exporter": "python",
   "pygments_lexer": "ipython3",
   "version": "3.10.0"
  }
 },
 "nbformat": 4,
 "nbformat_minor": 5
}
