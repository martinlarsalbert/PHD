{
 "cells": [
  {
   "cell_type": "code",
   "execution_count": 1,
   "id": "0",
   "metadata": {},
   "outputs": [],
   "source": [
    "#import warnings\n",
    "#warnings.filterwarnings('ignore')\n",
    "%matplotlib inline\n",
    "%load_ext autoreload\n",
    "%autoreload 2\n",
    "%config Completer.use_jedi = True"
   ]
  },
  {
   "cell_type": "code",
   "execution_count": 2,
   "id": "cbe3213d-ca94-4afa-b5a8-7c9bea2b8a26",
   "metadata": {},
   "outputs": [],
   "source": [
    "import paper\n",
    "\n",
    "import sympy as sp\n",
    "from sympy import Eq,symbols\n",
    "from vessel_manoeuvring_models.symbols import *\n",
    "from sympy import ImmutableDenseMatrix\n",
    "from vessel_manoeuvring_models.parameters import df_parameters\n",
    "p = df_parameters[\"symbol\"]\n",
    "p2 = p.copy() \n",
    "\n",
    "from vessel_manoeuvring_models.substitute_dynamic_symbols import (\n",
    "    lambdify,\n",
    "    run,\n",
    "    expression_to_python_method,\n",
    "    only_functions,\n",
    ")\n",
    "\n",
    "from vessel_manoeuvring_models.models import fossen\n",
    "from vessel_manoeuvring_models.models.fossen import *\n",
    "\n",
    "\n",
    "I_z = sp.Symbol(I_z.name, positive=True)\n",
    "m = sp.Symbol(m.name, positive=True)\n",
    "x_G = sp.Symbol(x_G.name, positive=True)   \n",
    "p.Yvdot = sp.Symbol(p.Yvdot.name, negative=True)\n",
    "p.Yrdot = sp.Symbol(p.Yrdot.name, negative=True)\n",
    "p.Nvdot = sp.Symbol(p.Nvdot.name, negative=True)\n",
    "p.Nrdot = sp.Symbol(p.Nrdot.name, negative=True)\n",
    "\n"
   ]
  },
  {
   "cell_type": "code",
   "execution_count": 3,
   "id": "4daf045c-9364-4879-a556-c5b607aa9148",
   "metadata": {},
   "outputs": [],
   "source": [
    "def eq(expression, file_name=None):\n",
    "    print(paper.save_eq(expression, file_name=file_name))"
   ]
  },
  {
   "cell_type": "code",
   "execution_count": 4,
   "id": "853e877b-e80d-4a71-a8cc-a828dabccfe6",
   "metadata": {},
   "outputs": [
    {
     "data": {
      "text/html": [
       "<pre style=\"white-space:pre;overflow-x:auto;line-height:normal;font-family:Menlo,'DejaVu Sans Mono',consolas,'Courier New',monospace\"></pre>\n"
      ],
      "text/plain": []
     },
     "metadata": {},
     "output_type": "display_data"
    },
    {
     "data": {
      "text/html": [
       "155.10_Fossen_model.fossen_original"
      ],
      "text/plain": [
       "\u001b[1m<\u001b[0m\u001b[1;95mIPython.core.display.HTML\u001b[0m\u001b[39m object\u001b[0m\u001b[1m>\u001b[0m"
      ]
     },
     "metadata": {},
     "output_type": "display_data"
    },
    {
     "data": {
      "text/html": [
       "<pre style=\"white-space:pre;overflow-x:auto;line-height:normal;font-family:Menlo,'DejaVu Sans Mono',consolas,'Courier New',monospace\"></pre>\n"
      ],
      "text/plain": []
     },
     "metadata": {},
     "output_type": "display_data"
    },
    {
     "data": {
      "text/latex": [
       "$\\displaystyle \\dot{\\mathbf{\\upsilon}} \\mathbf{M} + \\mathbf{C} \\mathbf{\\upsilon} + \\mathbf{D} = \\mathbf{\\tau_{wave}} + \\mathbf{\\tau_{wind}} + \\mathbf{\\tau}$"
      ],
      "text/plain": [
       "\u001b[1m<\u001b[0m\u001b[1;95mIPython.core.display.Math\u001b[0m\u001b[39m object\u001b[0m\u001b[1m>\u001b[0m"
      ]
     },
     "metadata": {},
     "output_type": "display_data"
    },
    {
     "data": {
      "text/html": [
       "<pre style=\"white-space:pre;overflow-x:auto;line-height:normal;font-family:Menlo,'DejaVu Sans Mono',consolas,'Courier New',monospace\"></pre>\n"
      ],
      "text/plain": []
     },
     "metadata": {},
     "output_type": "display_data"
    },
    {
     "data": {
      "text/html": [
       "<br>"
      ],
      "text/plain": [
       "\u001b[1m<\u001b[0m\u001b[1;95mIPython.core.display.HTML\u001b[0m\u001b[39m object\u001b[0m\u001b[1m>\u001b[0m"
      ]
     },
     "metadata": {},
     "output_type": "display_data"
    },
    {
     "name": "stdout",
     "output_type": "stream",
     "text": [
      "\\dot{\\mathbf{\\upsilon}} \\mathbf{M} + \\mathbf{C} \\mathbf{\\upsilon} + \\mathbf{D} = \\mathbf{\\tau_{wave}} + \\mathbf{\\tau_{wind}} + \\mathbf{\\tau}\n"
     ]
    }
   ],
   "source": [
    "eq_fossen_original = Eq(M*upsilon1d + C*upsilon + D, + tau + tau_wind + tau_wave)\n",
    "print(paper.save_eq(eq_fossen_original, file_name='fossen_original'))"
   ]
  },
  {
   "cell_type": "code",
   "execution_count": 5,
   "id": "39884ad7-09b0-4a58-8787-c40d4c1f537d",
   "metadata": {},
   "outputs": [
    {
     "data": {
      "text/html": [
       "<pre style=\"white-space:pre;overflow-x:auto;line-height:normal;font-family:Menlo,'DejaVu Sans Mono',consolas,'Courier New',monospace\"></pre>\n"
      ],
      "text/plain": []
     },
     "metadata": {},
     "output_type": "display_data"
    },
    {
     "data": {
      "text/html": [
       "155.10_Fossen_model.fossen_modified"
      ],
      "text/plain": [
       "\u001b[1m<\u001b[0m\u001b[1;95mIPython.core.display.HTML\u001b[0m\u001b[39m object\u001b[0m\u001b[1m>\u001b[0m"
      ]
     },
     "metadata": {},
     "output_type": "display_data"
    },
    {
     "data": {
      "text/html": [
       "<pre style=\"white-space:pre;overflow-x:auto;line-height:normal;font-family:Menlo,'DejaVu Sans Mono',consolas,'Courier New',monospace\"></pre>\n"
      ],
      "text/plain": []
     },
     "metadata": {},
     "output_type": "display_data"
    },
    {
     "data": {
      "text/latex": [
       "$\\displaystyle \\dot{\\mathbf{\\upsilon}} \\mathbf{M} + \\mathbf{C} \\mathbf{\\upsilon} = \\mathbf{D} + \\mathbf{\\tau_{wave}} + \\mathbf{\\tau_{wind}} + \\mathbf{\\tau}$"
      ],
      "text/plain": [
       "\u001b[1m<\u001b[0m\u001b[1;95mIPython.core.display.Math\u001b[0m\u001b[39m object\u001b[0m\u001b[1m>\u001b[0m"
      ]
     },
     "metadata": {},
     "output_type": "display_data"
    },
    {
     "data": {
      "text/html": [
       "<pre style=\"white-space:pre;overflow-x:auto;line-height:normal;font-family:Menlo,'DejaVu Sans Mono',consolas,'Courier New',monospace\"></pre>\n"
      ],
      "text/plain": []
     },
     "metadata": {},
     "output_type": "display_data"
    },
    {
     "data": {
      "text/html": [
       "<br>"
      ],
      "text/plain": [
       "\u001b[1m<\u001b[0m\u001b[1;95mIPython.core.display.HTML\u001b[0m\u001b[39m object\u001b[0m\u001b[1m>\u001b[0m"
      ]
     },
     "metadata": {},
     "output_type": "display_data"
    },
    {
     "name": "stdout",
     "output_type": "stream",
     "text": [
      "\\dot{\\mathbf{\\upsilon}} \\mathbf{M} + \\mathbf{C} \\mathbf{\\upsilon} = \\mathbf{D} + \\mathbf{\\tau_{wave}} + \\mathbf{\\tau_{wind}} + \\mathbf{\\tau}\n"
     ]
    }
   ],
   "source": [
    "eq(fossen.eq_main, 'fossen_modified')"
   ]
  },
  {
   "cell_type": "code",
   "execution_count": 6,
   "id": "37b86097-0740-4073-8743-6cf5d49d5e34",
   "metadata": {},
   "outputs": [
    {
     "data": {
      "text/html": [
       "<pre style=\"white-space:pre;overflow-x:auto;line-height:normal;font-family:Menlo,'DejaVu Sans Mono',consolas,'Courier New',monospace\"></pre>\n"
      ],
      "text/plain": []
     },
     "metadata": {},
     "output_type": "display_data"
    },
    {
     "data": {
      "text/html": [
       "155.10_Fossen_model.M"
      ],
      "text/plain": [
       "\u001b[1m<\u001b[0m\u001b[1;95mIPython.core.display.HTML\u001b[0m\u001b[39m object\u001b[0m\u001b[1m>\u001b[0m"
      ]
     },
     "metadata": {},
     "output_type": "display_data"
    },
    {
     "data": {
      "text/html": [
       "<pre style=\"white-space:pre;overflow-x:auto;line-height:normal;font-family:Menlo,'DejaVu Sans Mono',consolas,'Courier New',monospace\"></pre>\n"
      ],
      "text/plain": []
     },
     "metadata": {},
     "output_type": "display_data"
    },
    {
     "data": {
      "text/latex": [
       "$\\displaystyle \\mathbf{M} = \\mathbf{M_A} + \\mathbf{M_{RB}}$"
      ],
      "text/plain": [
       "\u001b[1m<\u001b[0m\u001b[1;95mIPython.core.display.Math\u001b[0m\u001b[39m object\u001b[0m\u001b[1m>\u001b[0m"
      ]
     },
     "metadata": {},
     "output_type": "display_data"
    },
    {
     "data": {
      "text/html": [
       "<pre style=\"white-space:pre;overflow-x:auto;line-height:normal;font-family:Menlo,'DejaVu Sans Mono',consolas,'Courier New',monospace\"></pre>\n"
      ],
      "text/plain": []
     },
     "metadata": {},
     "output_type": "display_data"
    },
    {
     "data": {
      "text/html": [
       "<br>"
      ],
      "text/plain": [
       "\u001b[1m<\u001b[0m\u001b[1;95mIPython.core.display.HTML\u001b[0m\u001b[39m object\u001b[0m\u001b[1m>\u001b[0m"
      ]
     },
     "metadata": {},
     "output_type": "display_data"
    },
    {
     "name": "stdout",
     "output_type": "stream",
     "text": [
      "\\mathbf{M} = \\mathbf{M_A} + \\mathbf{M_{RB}}\n"
     ]
    }
   ],
   "source": [
    "eq_M = Eq(M, M_RB+M_A)\n",
    "eq(eq_M,'M')"
   ]
  },
  {
   "cell_type": "code",
   "execution_count": 7,
   "id": "eae08153-6b8c-4650-9251-e7d5c2872e44",
   "metadata": {},
   "outputs": [
    {
     "data": {
      "text/html": [
       "<pre style=\"white-space:pre;overflow-x:auto;line-height:normal;font-family:Menlo,'DejaVu Sans Mono',consolas,'Courier New',monospace\"></pre>\n"
      ],
      "text/plain": []
     },
     "metadata": {},
     "output_type": "display_data"
    },
    {
     "data": {
      "text/html": [
       "155.10_Fossen_model.C"
      ],
      "text/plain": [
       "\u001b[1m<\u001b[0m\u001b[1;95mIPython.core.display.HTML\u001b[0m\u001b[39m object\u001b[0m\u001b[1m>\u001b[0m"
      ]
     },
     "metadata": {},
     "output_type": "display_data"
    },
    {
     "data": {
      "text/html": [
       "<pre style=\"white-space:pre;overflow-x:auto;line-height:normal;font-family:Menlo,'DejaVu Sans Mono',consolas,'Courier New',monospace\"></pre>\n"
      ],
      "text/plain": []
     },
     "metadata": {},
     "output_type": "display_data"
    },
    {
     "data": {
      "text/latex": [
       "$\\displaystyle \\mathbf{C} = \\mathbf{C_A} + \\mathbf{C_{RB}}$"
      ],
      "text/plain": [
       "\u001b[1m<\u001b[0m\u001b[1;95mIPython.core.display.Math\u001b[0m\u001b[39m object\u001b[0m\u001b[1m>\u001b[0m"
      ]
     },
     "metadata": {},
     "output_type": "display_data"
    },
    {
     "data": {
      "text/html": [
       "<pre style=\"white-space:pre;overflow-x:auto;line-height:normal;font-family:Menlo,'DejaVu Sans Mono',consolas,'Courier New',monospace\"></pre>\n"
      ],
      "text/plain": []
     },
     "metadata": {},
     "output_type": "display_data"
    },
    {
     "data": {
      "text/html": [
       "<br>"
      ],
      "text/plain": [
       "\u001b[1m<\u001b[0m\u001b[1;95mIPython.core.display.HTML\u001b[0m\u001b[39m object\u001b[0m\u001b[1m>\u001b[0m"
      ]
     },
     "metadata": {},
     "output_type": "display_data"
    },
    {
     "name": "stdout",
     "output_type": "stream",
     "text": [
      "\\mathbf{C} = \\mathbf{C_A} + \\mathbf{C_{RB}}\n"
     ]
    }
   ],
   "source": [
    "eq_C = Eq(C, C_RB+C_A)\n",
    "eq(eq_C,'C')"
   ]
  },
  {
   "cell_type": "code",
   "execution_count": 8,
   "id": "f0a7f2ef-6811-4a7c-8dc6-d2b318f6a9c1",
   "metadata": {},
   "outputs": [
    {
     "data": {
      "text/html": [
       "<pre style=\"white-space:pre;overflow-x:auto;line-height:normal;font-family:Menlo,'DejaVu Sans Mono',consolas,'Courier New',monospace\"></pre>\n"
      ],
      "text/plain": []
     },
     "metadata": {},
     "output_type": "display_data"
    },
    {
     "data": {
      "text/html": [
       "155.10_Fossen_model.M_RB"
      ],
      "text/plain": [
       "\u001b[1m<\u001b[0m\u001b[1;95mIPython.core.display.HTML\u001b[0m\u001b[39m object\u001b[0m\u001b[1m>\u001b[0m"
      ]
     },
     "metadata": {},
     "output_type": "display_data"
    },
    {
     "data": {
      "text/html": [
       "<pre style=\"white-space:pre;overflow-x:auto;line-height:normal;font-family:Menlo,'DejaVu Sans Mono',consolas,'Courier New',monospace\"></pre>\n"
      ],
      "text/plain": []
     },
     "metadata": {},
     "output_type": "display_data"
    },
    {
     "data": {
      "text/latex": [
       "$\\displaystyle \\mathbf{M_{RB}} = \\left[\\begin{matrix}m & 0 & 0\\\\0 & m & m x_{G}\\\\0 & m x_{G} & I_{z}\\end{matrix}\\right]$"
      ],
      "text/plain": [
       "\u001b[1m<\u001b[0m\u001b[1;95mIPython.core.display.Math\u001b[0m\u001b[39m object\u001b[0m\u001b[1m>\u001b[0m"
      ]
     },
     "metadata": {},
     "output_type": "display_data"
    },
    {
     "data": {
      "text/html": [
       "<pre style=\"white-space:pre;overflow-x:auto;line-height:normal;font-family:Menlo,'DejaVu Sans Mono',consolas,'Courier New',monospace\"></pre>\n"
      ],
      "text/plain": []
     },
     "metadata": {},
     "output_type": "display_data"
    },
    {
     "data": {
      "text/html": [
       "<br>"
      ],
      "text/plain": [
       "\u001b[1m<\u001b[0m\u001b[1;95mIPython.core.display.HTML\u001b[0m\u001b[39m object\u001b[0m\u001b[1m>\u001b[0m"
      ]
     },
     "metadata": {},
     "output_type": "display_data"
    },
    {
     "name": "stdout",
     "output_type": "stream",
     "text": [
      "\\mathbf{M_{RB}} = \\left[\\begin{matrix}m & 0 & 0\\\\0 & m & m x_{G}\\\\0 & m x_{G} & I_{z}\\end{matrix}\\right]\n"
     ]
    }
   ],
   "source": [
    "eq_M_RB = Eq(M_RB,ImmutableDenseMatrix([\n",
    "    \n",
    "    [m,0    ,0],\n",
    "    [0,m    ,m*x_G],\n",
    "    [0,m*x_G,I_z],\n",
    "    \n",
    "]), evaluate=False)\n",
    "eq(eq_M_RB,'M_RB')"
   ]
  },
  {
   "cell_type": "code",
   "execution_count": 9,
   "id": "ddac92e4-e509-4c47-8d1e-220a059ff09b",
   "metadata": {},
   "outputs": [
    {
     "data": {
      "text/html": [
       "<pre style=\"white-space:pre;overflow-x:auto;line-height:normal;font-family:Menlo,'DejaVu Sans Mono',consolas,'Courier New',monospace\"></pre>\n"
      ],
      "text/plain": []
     },
     "metadata": {},
     "output_type": "display_data"
    },
    {
     "data": {
      "text/html": [
       "155.10_Fossen_model.C_RB"
      ],
      "text/plain": [
       "\u001b[1m<\u001b[0m\u001b[1;95mIPython.core.display.HTML\u001b[0m\u001b[39m object\u001b[0m\u001b[1m>\u001b[0m"
      ]
     },
     "metadata": {},
     "output_type": "display_data"
    },
    {
     "data": {
      "text/html": [
       "<pre style=\"white-space:pre;overflow-x:auto;line-height:normal;font-family:Menlo,'DejaVu Sans Mono',consolas,'Courier New',monospace\"></pre>\n"
      ],
      "text/plain": []
     },
     "metadata": {},
     "output_type": "display_data"
    },
    {
     "data": {
      "text/latex": [
       "$\\displaystyle \\mathbf{C_{RB}} = \\left[\\begin{matrix}0 & - m r & - m r x_{G}\\\\m r & 0 & 0\\\\m r x_{G} & 0 & 0\\end{matrix}\\right]$"
      ],
      "text/plain": [
       "\u001b[1m<\u001b[0m\u001b[1;95mIPython.core.display.Math\u001b[0m\u001b[39m object\u001b[0m\u001b[1m>\u001b[0m"
      ]
     },
     "metadata": {},
     "output_type": "display_data"
    },
    {
     "data": {
      "text/html": [
       "<pre style=\"white-space:pre;overflow-x:auto;line-height:normal;font-family:Menlo,'DejaVu Sans Mono',consolas,'Courier New',monospace\"></pre>\n"
      ],
      "text/plain": []
     },
     "metadata": {},
     "output_type": "display_data"
    },
    {
     "data": {
      "text/html": [
       "<br>"
      ],
      "text/plain": [
       "\u001b[1m<\u001b[0m\u001b[1;95mIPython.core.display.HTML\u001b[0m\u001b[39m object\u001b[0m\u001b[1m>\u001b[0m"
      ]
     },
     "metadata": {},
     "output_type": "display_data"
    },
    {
     "name": "stdout",
     "output_type": "stream",
     "text": [
      "\\mathbf{C_{RB}} = \\left[\\begin{matrix}0 & - m r & - m r x_{G}\\\\m r & 0 & 0\\\\m r x_{G} & 0 & 0\\end{matrix}\\right]\n"
     ]
    }
   ],
   "source": [
    "eq_C_RB = Eq(C_RB,ImmutableDenseMatrix([\n",
    "    \n",
    "    [0,-m*r,-m*x_G*r],\n",
    "    [m*r,0,0],\n",
    "    [m*x_G*r,0,0],\n",
    "    \n",
    "]), evaluate=False)\n",
    "eq(eq_C_RB,'C_RB')"
   ]
  },
  {
   "cell_type": "code",
   "execution_count": 10,
   "id": "952501b1-c2d4-47b6-bf5d-0fbdf34db2da",
   "metadata": {},
   "outputs": [
    {
     "data": {
      "text/html": [
       "<pre style=\"white-space:pre;overflow-x:auto;line-height:normal;font-family:Menlo,'DejaVu Sans Mono',consolas,'Courier New',monospace\"></pre>\n"
      ],
      "text/plain": []
     },
     "metadata": {},
     "output_type": "display_data"
    },
    {
     "data": {
      "text/html": [
       "155.10_Fossen_model.M_A"
      ],
      "text/plain": [
       "\u001b[1m<\u001b[0m\u001b[1;95mIPython.core.display.HTML\u001b[0m\u001b[39m object\u001b[0m\u001b[1m>\u001b[0m"
      ]
     },
     "metadata": {},
     "output_type": "display_data"
    },
    {
     "data": {
      "text/html": [
       "<pre style=\"white-space:pre;overflow-x:auto;line-height:normal;font-family:Menlo,'DejaVu Sans Mono',consolas,'Courier New',monospace\"></pre>\n"
      ],
      "text/plain": []
     },
     "metadata": {},
     "output_type": "display_data"
    },
    {
     "data": {
      "text/latex": [
       "$\\displaystyle \\mathbf{M_A} = \\left[\\begin{matrix}- X_{\\dot{u}} & 0 & 0\\\\0 & - Y_{\\dot{v}} & - Y_{\\dot{r}}\\\\0 & - N_{\\dot{v}} & - N_{\\dot{r}}\\end{matrix}\\right]$"
      ],
      "text/plain": [
       "\u001b[1m<\u001b[0m\u001b[1;95mIPython.core.display.Math\u001b[0m\u001b[39m object\u001b[0m\u001b[1m>\u001b[0m"
      ]
     },
     "metadata": {},
     "output_type": "display_data"
    },
    {
     "data": {
      "text/html": [
       "<pre style=\"white-space:pre;overflow-x:auto;line-height:normal;font-family:Menlo,'DejaVu Sans Mono',consolas,'Courier New',monospace\"></pre>\n"
      ],
      "text/plain": []
     },
     "metadata": {},
     "output_type": "display_data"
    },
    {
     "data": {
      "text/html": [
       "<br>"
      ],
      "text/plain": [
       "\u001b[1m<\u001b[0m\u001b[1;95mIPython.core.display.HTML\u001b[0m\u001b[39m object\u001b[0m\u001b[1m>\u001b[0m"
      ]
     },
     "metadata": {},
     "output_type": "display_data"
    },
    {
     "name": "stdout",
     "output_type": "stream",
     "text": [
      "\\mathbf{M_A} = \\left[\\begin{matrix}- X_{\\dot{u}} & 0 & 0\\\\0 & - Y_{\\dot{v}} & - Y_{\\dot{r}}\\\\0 & - N_{\\dot{v}} & - N_{\\dot{r}}\\end{matrix}\\right]\n"
     ]
    }
   ],
   "source": [
    "eq_M_A = Eq(M_A,-ImmutableDenseMatrix([\n",
    "    \n",
    "    [p.Xudot,0,0],\n",
    "    [0,p.Yvdot,p.Yrdot],\n",
    "    [0,p.Nvdot,p.Nrdot],\n",
    "    \n",
    "]), evaluate=False)\n",
    "eq(eq_M_A,'M_A') "
   ]
  },
  {
   "cell_type": "code",
   "execution_count": 11,
   "id": "099eb668-efdf-4cc6-b52b-c0105dda7074",
   "metadata": {},
   "outputs": [
    {
     "data": {
      "text/html": [
       "<pre style=\"white-space:pre;overflow-x:auto;line-height:normal;font-family:Menlo,'DejaVu Sans Mono',consolas,'Courier New',monospace\"></pre>\n"
      ],
      "text/plain": []
     },
     "metadata": {},
     "output_type": "display_data"
    },
    {
     "data": {
      "text/html": [
       "155.10_Fossen_model.C_A"
      ],
      "text/plain": [
       "\u001b[1m<\u001b[0m\u001b[1;95mIPython.core.display.HTML\u001b[0m\u001b[39m object\u001b[0m\u001b[1m>\u001b[0m"
      ]
     },
     "metadata": {},
     "output_type": "display_data"
    },
    {
     "data": {
      "text/html": [
       "<pre style=\"white-space:pre;overflow-x:auto;line-height:normal;font-family:Menlo,'DejaVu Sans Mono',consolas,'Courier New',monospace\"></pre>\n"
      ],
      "text/plain": []
     },
     "metadata": {},
     "output_type": "display_data"
    },
    {
     "data": {
      "text/latex": [
       "$\\displaystyle \\mathbf{C_A} = \\left[\\begin{matrix}0 & 0 & Y_{\\dot{r}} r + Y_{\\dot{v}} v\\\\0 & 0 & - X_{\\dot{u}} u\\\\- Y_{\\dot{r}} r - Y_{\\dot{v}} v & X_{\\dot{u}} u & 0\\end{matrix}\\right]$"
      ],
      "text/plain": [
       "\u001b[1m<\u001b[0m\u001b[1;95mIPython.core.display.Math\u001b[0m\u001b[39m object\u001b[0m\u001b[1m>\u001b[0m"
      ]
     },
     "metadata": {},
     "output_type": "display_data"
    },
    {
     "data": {
      "text/html": [
       "<pre style=\"white-space:pre;overflow-x:auto;line-height:normal;font-family:Menlo,'DejaVu Sans Mono',consolas,'Courier New',monospace\"></pre>\n"
      ],
      "text/plain": []
     },
     "metadata": {},
     "output_type": "display_data"
    },
    {
     "data": {
      "text/html": [
       "<br>"
      ],
      "text/plain": [
       "\u001b[1m<\u001b[0m\u001b[1;95mIPython.core.display.HTML\u001b[0m\u001b[39m object\u001b[0m\u001b[1m>\u001b[0m"
      ]
     },
     "metadata": {},
     "output_type": "display_data"
    },
    {
     "name": "stdout",
     "output_type": "stream",
     "text": [
      "\\mathbf{C_A} = \\left[\\begin{matrix}0 & 0 & Y_{\\dot{r}} r + Y_{\\dot{v}} v\\\\0 & 0 & - X_{\\dot{u}} u\\\\- Y_{\\dot{r}} r - Y_{\\dot{v}} v & X_{\\dot{u}} u & 0\\end{matrix}\\right]\n"
     ]
    }
   ],
   "source": [
    "eq_C_A = Eq(C_A,ImmutableDenseMatrix([\n",
    "    \n",
    "    [0,0,p.Yvdot*v+p.Yrdot*r],\n",
    "    [0,0,-p.Xudot*u],\n",
    "    [-p.Yvdot*v-p.Yrdot*r,p.Xudot*u,0],\n",
    "    \n",
    "]), evaluate=False)\n",
    "eq(eq_C_A,'C_A') "
   ]
  },
  {
   "cell_type": "code",
   "execution_count": 12,
   "id": "236d51bd-1854-464f-89f9-1a6ff85a59c0",
   "metadata": {},
   "outputs": [
    {
     "data": {
      "text/html": [
       "<pre style=\"white-space:pre;overflow-x:auto;line-height:normal;font-family:Menlo,'DejaVu Sans Mono',consolas,'Courier New',monospace\"></pre>\n"
      ],
      "text/plain": []
     },
     "metadata": {},
     "output_type": "display_data"
    },
    {
     "data": {
      "text/html": [
       "155.10_Fossen_model.upsilon"
      ],
      "text/plain": [
       "\u001b[1m<\u001b[0m\u001b[1;95mIPython.core.display.HTML\u001b[0m\u001b[39m object\u001b[0m\u001b[1m>\u001b[0m"
      ]
     },
     "metadata": {},
     "output_type": "display_data"
    },
    {
     "data": {
      "text/html": [
       "<pre style=\"white-space:pre;overflow-x:auto;line-height:normal;font-family:Menlo,'DejaVu Sans Mono',consolas,'Courier New',monospace\"></pre>\n"
      ],
      "text/plain": []
     },
     "metadata": {},
     "output_type": "display_data"
    },
    {
     "data": {
      "text/latex": [
       "$\\displaystyle \\mathbf{\\upsilon} = \\left[\\begin{matrix}u\\\\v\\\\r\\end{matrix}\\right]$"
      ],
      "text/plain": [
       "\u001b[1m<\u001b[0m\u001b[1;95mIPython.core.display.Math\u001b[0m\u001b[39m object\u001b[0m\u001b[1m>\u001b[0m"
      ]
     },
     "metadata": {},
     "output_type": "display_data"
    },
    {
     "data": {
      "text/html": [
       "<pre style=\"white-space:pre;overflow-x:auto;line-height:normal;font-family:Menlo,'DejaVu Sans Mono',consolas,'Courier New',monospace\"></pre>\n"
      ],
      "text/plain": []
     },
     "metadata": {},
     "output_type": "display_data"
    },
    {
     "data": {
      "text/html": [
       "<br>"
      ],
      "text/plain": [
       "\u001b[1m<\u001b[0m\u001b[1;95mIPython.core.display.HTML\u001b[0m\u001b[39m object\u001b[0m\u001b[1m>\u001b[0m"
      ]
     },
     "metadata": {},
     "output_type": "display_data"
    },
    {
     "name": "stdout",
     "output_type": "stream",
     "text": [
      "\\mathbf{\\upsilon} = \\left[\\begin{matrix}u\\\\v\\\\r\\end{matrix}\\right]\n"
     ]
    }
   ],
   "source": [
    "eq_upsilon = Eq(upsilon,ImmutableDenseMatrix([u,v,r]), evaluate=False)\n",
    "eq(eq_upsilon,'upsilon')"
   ]
  },
  {
   "cell_type": "code",
   "execution_count": 13,
   "id": "d163df77-9291-4ab0-acf5-c33900e0cf33",
   "metadata": {},
   "outputs": [
    {
     "data": {
      "text/html": [
       "<pre style=\"white-space:pre;overflow-x:auto;line-height:normal;font-family:Menlo,'DejaVu Sans Mono',consolas,'Courier New',monospace\"></pre>\n"
      ],
      "text/plain": []
     },
     "metadata": {},
     "output_type": "display_data"
    },
    {
     "data": {
      "text/html": [
       "155.10_Fossen_model.upsilon1d"
      ],
      "text/plain": [
       "\u001b[1m<\u001b[0m\u001b[1;95mIPython.core.display.HTML\u001b[0m\u001b[39m object\u001b[0m\u001b[1m>\u001b[0m"
      ]
     },
     "metadata": {},
     "output_type": "display_data"
    },
    {
     "data": {
      "text/html": [
       "<pre style=\"white-space:pre;overflow-x:auto;line-height:normal;font-family:Menlo,'DejaVu Sans Mono',consolas,'Courier New',monospace\"></pre>\n"
      ],
      "text/plain": []
     },
     "metadata": {},
     "output_type": "display_data"
    },
    {
     "data": {
      "text/latex": [
       "$\\displaystyle \\dot{\\mathbf{\\upsilon}} = \\left[\\begin{matrix}\\dot{u}\\\\\\dot{v}\\\\\\dot{r}\\end{matrix}\\right]$"
      ],
      "text/plain": [
       "\u001b[1m<\u001b[0m\u001b[1;95mIPython.core.display.Math\u001b[0m\u001b[39m object\u001b[0m\u001b[1m>\u001b[0m"
      ]
     },
     "metadata": {},
     "output_type": "display_data"
    },
    {
     "data": {
      "text/html": [
       "<pre style=\"white-space:pre;overflow-x:auto;line-height:normal;font-family:Menlo,'DejaVu Sans Mono',consolas,'Courier New',monospace\"></pre>\n"
      ],
      "text/plain": []
     },
     "metadata": {},
     "output_type": "display_data"
    },
    {
     "data": {
      "text/html": [
       "<br>"
      ],
      "text/plain": [
       "\u001b[1m<\u001b[0m\u001b[1;95mIPython.core.display.HTML\u001b[0m\u001b[39m object\u001b[0m\u001b[1m>\u001b[0m"
      ]
     },
     "metadata": {},
     "output_type": "display_data"
    },
    {
     "name": "stdout",
     "output_type": "stream",
     "text": [
      "\\dot{\\mathbf{\\upsilon}} = \\left[\\begin{matrix}\\dot{u}\\\\\\dot{v}\\\\\\dot{r}\\end{matrix}\\right]\n"
     ]
    }
   ],
   "source": [
    "eq_upsilon1d = Eq(upsilon1d,ImmutableDenseMatrix([u1d,v1d,r1d]), evaluate=False)\n",
    "eq(eq_upsilon1d,'upsilon1d')"
   ]
  },
  {
   "cell_type": "code",
   "execution_count": 14,
   "id": "44180c6c-9c2e-4cb2-8ff8-698b4e28f3a8",
   "metadata": {},
   "outputs": [],
   "source": [
    "def subs_lhs_rhs(eq_main, equations):\n",
    "    for eq in equations:\n",
    "        eq_main = eq_main.subs(eq.lhs,eq.rhs)\n",
    "\n",
    "    return eq_main"
   ]
  },
  {
   "cell_type": "code",
   "execution_count": 15,
   "id": "8015799c-2aed-4536-aea4-47221014687e",
   "metadata": {},
   "outputs": [
    {
     "data": {
      "text/html": [
       "<pre style=\"white-space:pre;overflow-x:auto;line-height:normal;font-family:Menlo,'DejaVu Sans Mono',consolas,'Courier New',monospace\"></pre>\n"
      ],
      "text/plain": []
     },
     "metadata": {},
     "output_type": "display_data"
    },
    {
     "data": {
      "text/html": [
       "155.10_Fossen_model.M_expanded"
      ],
      "text/plain": [
       "\u001b[1m<\u001b[0m\u001b[1;95mIPython.core.display.HTML\u001b[0m\u001b[39m object\u001b[0m\u001b[1m>\u001b[0m"
      ]
     },
     "metadata": {},
     "output_type": "display_data"
    },
    {
     "data": {
      "text/html": [
       "<pre style=\"white-space:pre;overflow-x:auto;line-height:normal;font-family:Menlo,'DejaVu Sans Mono',consolas,'Courier New',monospace\"></pre>\n"
      ],
      "text/plain": []
     },
     "metadata": {},
     "output_type": "display_data"
    },
    {
     "data": {
      "text/latex": [
       "$\\displaystyle \\mathbf{M} = \\left[\\begin{matrix}- X_{\\dot{u}} + m & 0 & 0\\\\0 & - Y_{\\dot{v}} + m & - Y_{\\dot{r}} + m x_{G}\\\\0 & - N_{\\dot{v}} + m x_{G} & I_{z} - N_{\\dot{r}}\\end{matrix}\\right]$"
      ],
      "text/plain": [
       "\u001b[1m<\u001b[0m\u001b[1;95mIPython.core.display.Math\u001b[0m\u001b[39m object\u001b[0m\u001b[1m>\u001b[0m"
      ]
     },
     "metadata": {},
     "output_type": "display_data"
    },
    {
     "data": {
      "text/html": [
       "<pre style=\"white-space:pre;overflow-x:auto;line-height:normal;font-family:Menlo,'DejaVu Sans Mono',consolas,'Courier New',monospace\"></pre>\n"
      ],
      "text/plain": []
     },
     "metadata": {},
     "output_type": "display_data"
    },
    {
     "data": {
      "text/html": [
       "<br>"
      ],
      "text/plain": [
       "\u001b[1m<\u001b[0m\u001b[1;95mIPython.core.display.HTML\u001b[0m\u001b[39m object\u001b[0m\u001b[1m>\u001b[0m"
      ]
     },
     "metadata": {},
     "output_type": "display_data"
    },
    {
     "name": "stdout",
     "output_type": "stream",
     "text": [
      "\\mathbf{M} = \\left[\\begin{matrix}- X_{\\dot{u}} + m & 0 & 0\\\\0 & - Y_{\\dot{v}} + m & - Y_{\\dot{r}} + m x_{G}\\\\0 & - N_{\\dot{v}} + m x_{G} & I_{z} - N_{\\dot{r}}\\end{matrix}\\right]\n"
     ]
    }
   ],
   "source": [
    "eq_M_expanded = Eq(eq_M.lhs, subs_lhs_rhs(eq_M.rhs, [eq_M_A, eq_M_RB]), evaluate=False)\n",
    "eq(eq_M_expanded,'M_expanded')"
   ]
  },
  {
   "cell_type": "code",
   "execution_count": 16,
   "id": "2aae3b88-30a6-422d-b17f-4628ed3e1e09",
   "metadata": {},
   "outputs": [
    {
     "data": {
      "text/html": [
       "<pre style=\"white-space:pre;overflow-x:auto;line-height:normal;font-family:Menlo,'DejaVu Sans Mono',consolas,'Courier New',monospace\"></pre>\n"
      ],
      "text/plain": []
     },
     "metadata": {},
     "output_type": "display_data"
    },
    {
     "data": {
      "text/html": [
       "155.10_Fossen_model.C_expanded"
      ],
      "text/plain": [
       "\u001b[1m<\u001b[0m\u001b[1;95mIPython.core.display.HTML\u001b[0m\u001b[39m object\u001b[0m\u001b[1m>\u001b[0m"
      ]
     },
     "metadata": {},
     "output_type": "display_data"
    },
    {
     "data": {
      "text/html": [
       "<pre style=\"white-space:pre;overflow-x:auto;line-height:normal;font-family:Menlo,'DejaVu Sans Mono',consolas,'Courier New',monospace\"></pre>\n"
      ],
      "text/plain": []
     },
     "metadata": {},
     "output_type": "display_data"
    },
    {
     "data": {
      "text/latex": [
       "$\\displaystyle \\mathbf{C} = \\left[\\begin{matrix}0 & - m r & Y_{\\dot{r}} r + Y_{\\dot{v}} v - m r x_{G}\\\\m r & 0 & - X_{\\dot{u}} u\\\\- Y_{\\dot{r}} r - Y_{\\dot{v}} v + m r x_{G} & X_{\\dot{u}} u & 0\\end{matrix}\\right]$"
      ],
      "text/plain": [
       "\u001b[1m<\u001b[0m\u001b[1;95mIPython.core.display.Math\u001b[0m\u001b[39m object\u001b[0m\u001b[1m>\u001b[0m"
      ]
     },
     "metadata": {},
     "output_type": "display_data"
    },
    {
     "data": {
      "text/html": [
       "<pre style=\"white-space:pre;overflow-x:auto;line-height:normal;font-family:Menlo,'DejaVu Sans Mono',consolas,'Courier New',monospace\"></pre>\n"
      ],
      "text/plain": []
     },
     "metadata": {},
     "output_type": "display_data"
    },
    {
     "data": {
      "text/html": [
       "<br>"
      ],
      "text/plain": [
       "\u001b[1m<\u001b[0m\u001b[1;95mIPython.core.display.HTML\u001b[0m\u001b[39m object\u001b[0m\u001b[1m>\u001b[0m"
      ]
     },
     "metadata": {},
     "output_type": "display_data"
    },
    {
     "name": "stdout",
     "output_type": "stream",
     "text": [
      "\\mathbf{C} = \\left[\\begin{matrix}0 & - m r & Y_{\\dot{r}} r + Y_{\\dot{v}} v - m r x_{G}\\\\m r & 0 & - X_{\\dot{u}} u\\\\- Y_{\\dot{r}} r - Y_{\\dot{v}} v + m r x_{G} & X_{\\dot{u}} u & 0\\end{matrix}\\right]\n"
     ]
    }
   ],
   "source": [
    "eq_C_expanded = Eq(eq_C.lhs, subs_lhs_rhs(eq_C.rhs, [eq_C_A, eq_C_RB]), evaluate=False)\n",
    "eq(eq_C_expanded,'C_expanded')"
   ]
  },
  {
   "cell_type": "markdown",
   "id": "f51f13e5-a3e2-404f-b93e-025ec345109d",
   "metadata": {},
   "source": [
    "## Calculating the acceleration"
   ]
  },
  {
   "cell_type": "code",
   "execution_count": 17,
   "id": "5716beba-59ff-495e-b486-6d574f79e15d",
   "metadata": {},
   "outputs": [
    {
     "data": {
      "text/html": [
       "<pre style=\"white-space:pre;overflow-x:auto;line-height:normal;font-family:Menlo,'DejaVu Sans Mono',consolas,'Courier New',monospace\"></pre>\n"
      ],
      "text/plain": []
     },
     "metadata": {},
     "output_type": "display_data"
    },
    {
     "data": {
      "text/html": [
       "155.10_Fossen_model.newton"
      ],
      "text/plain": [
       "\u001b[1m<\u001b[0m\u001b[1;95mIPython.core.display.HTML\u001b[0m\u001b[39m object\u001b[0m\u001b[1m>\u001b[0m"
      ]
     },
     "metadata": {},
     "output_type": "display_data"
    },
    {
     "data": {
      "text/html": [
       "<pre style=\"white-space:pre;overflow-x:auto;line-height:normal;font-family:Menlo,'DejaVu Sans Mono',consolas,'Courier New',monospace\"></pre>\n"
      ],
      "text/plain": []
     },
     "metadata": {},
     "output_type": "display_data"
    },
    {
     "data": {
      "text/latex": [
       "$\\displaystyle \\dot{\\mathbf{\\upsilon}} \\mathbf{M} = - \\mathbf{C} \\mathbf{\\upsilon} + \\mathbf{D} + \\mathbf{\\tau_{wave}} + \\mathbf{\\tau_{wind}} + \\mathbf{\\tau}$"
      ],
      "text/plain": [
       "\u001b[1m<\u001b[0m\u001b[1;95mIPython.core.display.Math\u001b[0m\u001b[39m object\u001b[0m\u001b[1m>\u001b[0m"
      ]
     },
     "metadata": {},
     "output_type": "display_data"
    },
    {
     "data": {
      "text/html": [
       "<pre style=\"white-space:pre;overflow-x:auto;line-height:normal;font-family:Menlo,'DejaVu Sans Mono',consolas,'Courier New',monospace\"></pre>\n"
      ],
      "text/plain": []
     },
     "metadata": {},
     "output_type": "display_data"
    },
    {
     "data": {
      "text/html": [
       "<br>"
      ],
      "text/plain": [
       "\u001b[1m<\u001b[0m\u001b[1;95mIPython.core.display.HTML\u001b[0m\u001b[39m object\u001b[0m\u001b[1m>\u001b[0m"
      ]
     },
     "metadata": {},
     "output_type": "display_data"
    },
    {
     "name": "stdout",
     "output_type": "stream",
     "text": [
      "\\dot{\\mathbf{\\upsilon}} \\mathbf{M} = - \\mathbf{C} \\mathbf{\\upsilon} + \\mathbf{D} + \\mathbf{\\tau_{wave}} + \\mathbf{\\tau_{wind}} + \\mathbf{\\tau}\n"
     ]
    }
   ],
   "source": [
    "eq_newton = Eq(upsilon1d*M, sp.solve(fossen.eq_main,upsilon1d*M)[0])\n",
    "eq(eq_newton,'newton')"
   ]
  },
  {
   "cell_type": "code",
   "execution_count": 18,
   "id": "55715c52-98f7-472d-a42b-fd69ad967ef1",
   "metadata": {},
   "outputs": [
    {
     "data": {
      "text/html": [
       "<pre style=\"white-space:pre;overflow-x:auto;line-height:normal;font-family:Menlo,'DejaVu Sans Mono',consolas,'Courier New',monospace\"></pre>\n"
      ],
      "text/plain": []
     },
     "metadata": {},
     "output_type": "display_data"
    },
    {
     "data": {
      "text/html": [
       "155.10_Fossen_model.newton_F"
      ],
      "text/plain": [
       "\u001b[1m<\u001b[0m\u001b[1;95mIPython.core.display.HTML\u001b[0m\u001b[39m object\u001b[0m\u001b[1m>\u001b[0m"
      ]
     },
     "metadata": {},
     "output_type": "display_data"
    },
    {
     "data": {
      "text/html": [
       "<pre style=\"white-space:pre;overflow-x:auto;line-height:normal;font-family:Menlo,'DejaVu Sans Mono',consolas,'Courier New',monospace\"></pre>\n"
      ],
      "text/plain": []
     },
     "metadata": {},
     "output_type": "display_data"
    },
    {
     "data": {
      "text/latex": [
       "$\\displaystyle F = - \\mathbf{C} \\mathbf{\\upsilon} + \\mathbf{D} + \\mathbf{\\tau_{wave}} + \\mathbf{\\tau_{wind}} + \\mathbf{\\tau}$"
      ],
      "text/plain": [
       "\u001b[1m<\u001b[0m\u001b[1;95mIPython.core.display.Math\u001b[0m\u001b[39m object\u001b[0m\u001b[1m>\u001b[0m"
      ]
     },
     "metadata": {},
     "output_type": "display_data"
    },
    {
     "data": {
      "text/html": [
       "<pre style=\"white-space:pre;overflow-x:auto;line-height:normal;font-family:Menlo,'DejaVu Sans Mono',consolas,'Courier New',monospace\"></pre>\n"
      ],
      "text/plain": []
     },
     "metadata": {},
     "output_type": "display_data"
    },
    {
     "data": {
      "text/html": [
       "<br>"
      ],
      "text/plain": [
       "\u001b[1m<\u001b[0m\u001b[1;95mIPython.core.display.HTML\u001b[0m\u001b[39m object\u001b[0m\u001b[1m>\u001b[0m"
      ]
     },
     "metadata": {},
     "output_type": "display_data"
    },
    {
     "name": "stdout",
     "output_type": "stream",
     "text": [
      "F = - \\mathbf{C} \\mathbf{\\upsilon} + \\mathbf{D} + \\mathbf{\\tau_{wave}} + \\mathbf{\\tau_{wind}} + \\mathbf{\\tau}\n"
     ]
    }
   ],
   "source": [
    "F = symbols(\"F\")\n",
    "eq_F = Eq(F,eq_newton.rhs)\n",
    "eq(eq_F,'newton_F')"
   ]
  },
  {
   "cell_type": "code",
   "execution_count": 19,
   "id": "26a80262-447f-4045-9cad-52986235253f",
   "metadata": {},
   "outputs": [
    {
     "data": {
      "text/html": [
       "<pre style=\"white-space:pre;overflow-x:auto;line-height:normal;font-family:Menlo,'DejaVu Sans Mono',consolas,'Courier New',monospace\"></pre>\n"
      ],
      "text/plain": []
     },
     "metadata": {},
     "output_type": "display_data"
    },
    {
     "data": {
      "text/html": [
       "155.10_Fossen_model.newton2"
      ],
      "text/plain": [
       "\u001b[1m<\u001b[0m\u001b[1;95mIPython.core.display.HTML\u001b[0m\u001b[39m object\u001b[0m\u001b[1m>\u001b[0m"
      ]
     },
     "metadata": {},
     "output_type": "display_data"
    },
    {
     "data": {
      "text/html": [
       "<pre style=\"white-space:pre;overflow-x:auto;line-height:normal;font-family:Menlo,'DejaVu Sans Mono',consolas,'Courier New',monospace\"></pre>\n"
      ],
      "text/plain": []
     },
     "metadata": {},
     "output_type": "display_data"
    },
    {
     "data": {
      "text/latex": [
       "$\\displaystyle \\dot{\\mathbf{\\upsilon}} \\mathbf{M} = F$"
      ],
      "text/plain": [
       "\u001b[1m<\u001b[0m\u001b[1;95mIPython.core.display.Math\u001b[0m\u001b[39m object\u001b[0m\u001b[1m>\u001b[0m"
      ]
     },
     "metadata": {},
     "output_type": "display_data"
    },
    {
     "data": {
      "text/html": [
       "<pre style=\"white-space:pre;overflow-x:auto;line-height:normal;font-family:Menlo,'DejaVu Sans Mono',consolas,'Courier New',monospace\"></pre>\n"
      ],
      "text/plain": []
     },
     "metadata": {},
     "output_type": "display_data"
    },
    {
     "data": {
      "text/html": [
       "<br>"
      ],
      "text/plain": [
       "\u001b[1m<\u001b[0m\u001b[1;95mIPython.core.display.HTML\u001b[0m\u001b[39m object\u001b[0m\u001b[1m>\u001b[0m"
      ]
     },
     "metadata": {},
     "output_type": "display_data"
    },
    {
     "name": "stdout",
     "output_type": "stream",
     "text": [
      "\\dot{\\mathbf{\\upsilon}} \\mathbf{M} = F\n"
     ]
    }
   ],
   "source": [
    "eq_newton2 = eq_newton.subs(eq_F.rhs, eq_F.lhs)\n",
    "eq(eq_newton2,'newton2')"
   ]
  },
  {
   "cell_type": "code",
   "execution_count": 20,
   "id": "899c28db-12f3-49fe-b871-9b11d4905239",
   "metadata": {},
   "outputs": [
    {
     "data": {
      "text/html": [
       "<pre style=\"white-space:pre;overflow-x:auto;line-height:normal;font-family:Menlo,'DejaVu Sans Mono',consolas,'Courier New',monospace\"></pre>\n"
      ],
      "text/plain": []
     },
     "metadata": {},
     "output_type": "display_data"
    },
    {
     "data": {
      "text/html": [
       "155.10_Fossen_model.S"
      ],
      "text/plain": [
       "\u001b[1m<\u001b[0m\u001b[1;95mIPython.core.display.HTML\u001b[0m\u001b[39m object\u001b[0m\u001b[1m>\u001b[0m"
      ]
     },
     "metadata": {},
     "output_type": "display_data"
    },
    {
     "data": {
      "text/html": [
       "<pre style=\"white-space:pre;overflow-x:auto;line-height:normal;font-family:Menlo,'DejaVu Sans Mono',consolas,'Courier New',monospace\"></pre>\n"
      ],
      "text/plain": []
     },
     "metadata": {},
     "output_type": "display_data"
    },
    {
     "data": {
      "text/latex": [
       "$\\displaystyle S = I_{z} Y_{\\dot{v}} - I_{z} m - N_{\\dot{r}} Y_{\\dot{v}} + N_{\\dot{r}} m + N_{\\dot{v}} Y_{\\dot{r}} - N_{\\dot{v}} m x_{G} - Y_{\\dot{r}} m x_{G} + m^{2} x_{G}^{2}$"
      ],
      "text/plain": [
       "\u001b[1m<\u001b[0m\u001b[1;95mIPython.core.display.Math\u001b[0m\u001b[39m object\u001b[0m\u001b[1m>\u001b[0m"
      ]
     },
     "metadata": {},
     "output_type": "display_data"
    },
    {
     "data": {
      "text/html": [
       "<pre style=\"white-space:pre;overflow-x:auto;line-height:normal;font-family:Menlo,'DejaVu Sans Mono',consolas,'Courier New',monospace\"></pre>\n"
      ],
      "text/plain": []
     },
     "metadata": {},
     "output_type": "display_data"
    },
    {
     "data": {
      "text/html": [
       "<br>"
      ],
      "text/plain": [
       "\u001b[1m<\u001b[0m\u001b[1;95mIPython.core.display.HTML\u001b[0m\u001b[39m object\u001b[0m\u001b[1m>\u001b[0m"
      ]
     },
     "metadata": {},
     "output_type": "display_data"
    },
    {
     "name": "stdout",
     "output_type": "stream",
     "text": [
      "S = I_{z} Y_{\\dot{v}} - I_{z} m - N_{\\dot{r}} Y_{\\dot{v}} + N_{\\dot{r}} m + N_{\\dot{v}} Y_{\\dot{r}} - N_{\\dot{v}} m x_{G} - Y_{\\dot{r}} m x_{G} + m^{2} x_{G}^{2}\n"
     ]
    }
   ],
   "source": [
    "M_inv = eq_M_expanded.rhs.inv()\n",
    "S = symbols(\"S\")\n",
    "eq_S = Eq(S,M_inv[1,1].args[0].args[0])\n",
    "eq(eq_S,'S')"
   ]
  },
  {
   "cell_type": "code",
   "execution_count": 21,
   "id": "9adbb268-3c29-4317-9f11-7fd80e20a963",
   "metadata": {},
   "outputs": [
    {
     "data": {
      "text/html": [
       "<pre style=\"white-space:pre;overflow-x:auto;line-height:normal;font-family:Menlo,'DejaVu Sans Mono',consolas,'Courier New',monospace\"></pre>\n"
      ],
      "text/plain": []
     },
     "metadata": {},
     "output_type": "display_data"
    },
    {
     "data": {
      "text/html": [
       "155.10_Fossen_model.M_inv"
      ],
      "text/plain": [
       "\u001b[1m<\u001b[0m\u001b[1;95mIPython.core.display.HTML\u001b[0m\u001b[39m object\u001b[0m\u001b[1m>\u001b[0m"
      ]
     },
     "metadata": {},
     "output_type": "display_data"
    },
    {
     "data": {
      "text/html": [
       "<pre style=\"white-space:pre;overflow-x:auto;line-height:normal;font-family:Menlo,'DejaVu Sans Mono',consolas,'Courier New',monospace\"></pre>\n"
      ],
      "text/plain": []
     },
     "metadata": {},
     "output_type": "display_data"
    },
    {
     "data": {
      "text/latex": [
       "$\\displaystyle \\frac{1}{\\mathbf{M}} = \\left[\\begin{matrix}\\frac{1}{- X_{\\dot{u}} + m} & 0 & 0\\\\0 & \\frac{- I_{z} + N_{\\dot{r}}}{S} & \\frac{- Y_{\\dot{r}} + m x_{G}}{S}\\\\0 & \\frac{- N_{\\dot{v}} + m x_{G}}{S} & \\frac{Y_{\\dot{v}} - m}{S}\\end{matrix}\\right]$"
      ],
      "text/plain": [
       "\u001b[1m<\u001b[0m\u001b[1;95mIPython.core.display.Math\u001b[0m\u001b[39m object\u001b[0m\u001b[1m>\u001b[0m"
      ]
     },
     "metadata": {},
     "output_type": "display_data"
    },
    {
     "data": {
      "text/html": [
       "<pre style=\"white-space:pre;overflow-x:auto;line-height:normal;font-family:Menlo,'DejaVu Sans Mono',consolas,'Courier New',monospace\"></pre>\n"
      ],
      "text/plain": []
     },
     "metadata": {},
     "output_type": "display_data"
    },
    {
     "data": {
      "text/html": [
       "<br>"
      ],
      "text/plain": [
       "\u001b[1m<\u001b[0m\u001b[1;95mIPython.core.display.HTML\u001b[0m\u001b[39m object\u001b[0m\u001b[1m>\u001b[0m"
      ]
     },
     "metadata": {},
     "output_type": "display_data"
    },
    {
     "name": "stdout",
     "output_type": "stream",
     "text": [
      "\\frac{1}{\\mathbf{M}} = \\left[\\begin{matrix}\\frac{1}{- X_{\\dot{u}} + m} & 0 & 0\\\\0 & \\frac{- I_{z} + N_{\\dot{r}}}{S} & \\frac{- Y_{\\dot{r}} + m x_{G}}{S}\\\\0 & \\frac{- N_{\\dot{v}} + m x_{G}}{S} & \\frac{Y_{\\dot{v}} - m}{S}\\end{matrix}\\right]\n"
     ]
    }
   ],
   "source": [
    "eq_M_inv = Eq(M**(-1),M_inv.subs(eq_S.rhs,eq_S.lhs), evaluate=False)\n",
    "eq(eq_M_inv,'M_inv')"
   ]
  },
  {
   "cell_type": "markdown",
   "id": "c96e0543-13d1-46a2-aeea-28286459c32f",
   "metadata": {},
   "source": [
    "## The force vector"
   ]
  },
  {
   "cell_type": "code",
   "execution_count": 22,
   "id": "817944c8-2233-4d4f-8091-724570861d7d",
   "metadata": {},
   "outputs": [
    {
     "data": {
      "text/html": [
       "<pre style=\"white-space:pre;overflow-x:auto;line-height:normal;font-family:Menlo,'DejaVu Sans Mono',consolas,'Courier New',monospace\"></pre>\n"
      ],
      "text/plain": []
     },
     "metadata": {},
     "output_type": "display_data"
    },
    {
     "data": {
      "text/html": [
       "155.10_Fossen_model.D"
      ],
      "text/plain": [
       "\u001b[1m<\u001b[0m\u001b[1;95mIPython.core.display.HTML\u001b[0m\u001b[39m object\u001b[0m\u001b[1m>\u001b[0m"
      ]
     },
     "metadata": {},
     "output_type": "display_data"
    },
    {
     "data": {
      "text/html": [
       "<pre style=\"white-space:pre;overflow-x:auto;line-height:normal;font-family:Menlo,'DejaVu Sans Mono',consolas,'Courier New',monospace\"></pre>\n"
      ],
      "text/plain": []
     },
     "metadata": {},
     "output_type": "display_data"
    },
    {
     "data": {
      "text/latex": [
       "$\\displaystyle \\mathbf{D} = \\left[\\begin{matrix}X_{D}\\\\Y_{D}\\\\N_{D}\\end{matrix}\\right]$"
      ],
      "text/plain": [
       "\u001b[1m<\u001b[0m\u001b[1;95mIPython.core.display.Math\u001b[0m\u001b[39m object\u001b[0m\u001b[1m>\u001b[0m"
      ]
     },
     "metadata": {},
     "output_type": "display_data"
    },
    {
     "data": {
      "text/html": [
       "<pre style=\"white-space:pre;overflow-x:auto;line-height:normal;font-family:Menlo,'DejaVu Sans Mono',consolas,'Courier New',monospace\"></pre>\n"
      ],
      "text/plain": []
     },
     "metadata": {},
     "output_type": "display_data"
    },
    {
     "data": {
      "text/html": [
       "<br>"
      ],
      "text/plain": [
       "\u001b[1m<\u001b[0m\u001b[1;95mIPython.core.display.HTML\u001b[0m\u001b[39m object\u001b[0m\u001b[1m>\u001b[0m"
      ]
     },
     "metadata": {},
     "output_type": "display_data"
    },
    {
     "name": "stdout",
     "output_type": "stream",
     "text": [
      "\\mathbf{D} = \\left[\\begin{matrix}X_{D}\\\\Y_{D}\\\\N_{D}\\end{matrix}\\right]\n"
     ]
    }
   ],
   "source": [
    "eq_D = Eq(D,fossen.eq_D.rhs.subs([(X_D,X_D_),(Y_D,Y_D_),(N_D,N_D_)]), evaluate=False)\n",
    "eq(eq_D,'D')"
   ]
  },
  {
   "cell_type": "code",
   "execution_count": 23,
   "id": "32e1fabb-f1df-4543-9ba1-d606bef21230",
   "metadata": {},
   "outputs": [
    {
     "data": {
      "text/html": [
       "<pre style=\"white-space:pre;overflow-x:auto;line-height:normal;font-family:Menlo,'DejaVu Sans Mono',consolas,'Courier New',monospace\"></pre>\n"
      ],
      "text/plain": []
     },
     "metadata": {},
     "output_type": "display_data"
    },
    {
     "data": {
      "text/latex": [
       "$\\displaystyle \\left[\\begin{matrix}u\\\\v\\\\r\\end{matrix}\\right]$"
      ],
      "text/plain": [
       "\n",
       "\u001b[1;35mMatrix\u001b[0m\u001b[1m(\u001b[0m\u001b[1m[\u001b[0m\n",
       "\u001b[1m[\u001b[0mu\u001b[1m]\u001b[0m,\n",
       "\u001b[1m[\u001b[0mv\u001b[1m]\u001b[0m,\n",
       "\u001b[1m[\u001b[0mr\u001b[1m]\u001b[0m\u001b[1m]\u001b[0m\u001b[1m)\u001b[0m"
      ]
     },
     "execution_count": 23,
     "metadata": {},
     "output_type": "execute_result"
    }
   ],
   "source": [
    "eq_upsilon.rhs"
   ]
  },
  {
   "cell_type": "code",
   "execution_count": 24,
   "id": "689df156-2290-43d6-b8a6-f2f6a4b77643",
   "metadata": {},
   "outputs": [
    {
     "data": {
      "text/html": [
       "<pre style=\"white-space:pre;overflow-x:auto;line-height:normal;font-family:Menlo,'DejaVu Sans Mono',consolas,'Courier New',monospace\"></pre>\n"
      ],
      "text/plain": []
     },
     "metadata": {},
     "output_type": "display_data"
    },
    {
     "data": {
      "text/html": [
       "155.10_Fossen_model.F_expanded"
      ],
      "text/plain": [
       "\u001b[1m<\u001b[0m\u001b[1;95mIPython.core.display.HTML\u001b[0m\u001b[39m object\u001b[0m\u001b[1m>\u001b[0m"
      ]
     },
     "metadata": {},
     "output_type": "display_data"
    },
    {
     "data": {
      "text/html": [
       "<pre style=\"white-space:pre;overflow-x:auto;line-height:normal;font-family:Menlo,'DejaVu Sans Mono',consolas,'Courier New',monospace\"></pre>\n"
      ],
      "text/plain": []
     },
     "metadata": {},
     "output_type": "display_data"
    },
    {
     "data": {
      "text/latex": [
       "$\\displaystyle F = \\mathbf{D} + \\mathbf{\\tau_{wave}} + \\mathbf{\\tau_{wind}} + \\mathbf{\\tau} + \\left[\\begin{matrix}m r v - r \\left(Y_{\\dot{r}} r + Y_{\\dot{v}} v - m r x_{G}\\right)\\\\X_{\\dot{u}} r u - m r u\\\\- X_{\\dot{u}} u v - u \\left(- Y_{\\dot{r}} r - Y_{\\dot{v}} v + m r x_{G}\\right)\\end{matrix}\\right]$"
      ],
      "text/plain": [
       "\u001b[1m<\u001b[0m\u001b[1;95mIPython.core.display.Math\u001b[0m\u001b[39m object\u001b[0m\u001b[1m>\u001b[0m"
      ]
     },
     "metadata": {},
     "output_type": "display_data"
    },
    {
     "data": {
      "text/html": [
       "<pre style=\"white-space:pre;overflow-x:auto;line-height:normal;font-family:Menlo,'DejaVu Sans Mono',consolas,'Courier New',monospace\"></pre>\n"
      ],
      "text/plain": []
     },
     "metadata": {},
     "output_type": "display_data"
    },
    {
     "data": {
      "text/html": [
       "<br>"
      ],
      "text/plain": [
       "\u001b[1m<\u001b[0m\u001b[1;95mIPython.core.display.HTML\u001b[0m\u001b[39m object\u001b[0m\u001b[1m>\u001b[0m"
      ]
     },
     "metadata": {},
     "output_type": "display_data"
    },
    {
     "name": "stdout",
     "output_type": "stream",
     "text": [
      "F = \\mathbf{D} + \\mathbf{\\tau_{wave}} + \\mathbf{\\tau_{wind}} + \\mathbf{\\tau} + \\left[\\begin{matrix}m r v - r \\left(Y_{\\dot{r}} r + Y_{\\dot{v}} v - m r x_{G}\\right)\\\\X_{\\dot{u}} r u - m r u\\\\- X_{\\dot{u}} u v - u \\left(- Y_{\\dot{r}} r - Y_{\\dot{v}} v + m r x_{G}\\right)\\end{matrix}\\right]\n"
     ]
    }
   ],
   "source": [
    "eq_F_expanded = Eq(F,eq_F.rhs.subs(C*upsilon, eq_C_expanded.rhs*eq_upsilon.rhs))\n",
    "eq(eq_F_expanded,'F_expanded')"
   ]
  },
  {
   "cell_type": "code",
   "execution_count": 25,
   "id": "d3c112e3-3341-441c-92ab-6776dd22fea3",
   "metadata": {},
   "outputs": [
    {
     "data": {
      "text/html": [
       "<pre style=\"white-space:pre;overflow-x:auto;line-height:normal;font-family:Menlo,'DejaVu Sans Mono',consolas,'Courier New',monospace\"></pre>\n"
      ],
      "text/plain": []
     },
     "metadata": {},
     "output_type": "display_data"
    },
    {
     "data": {
      "text/html": [
       "155.10_Fossen_model.F_expanded_no_weather"
      ],
      "text/plain": [
       "\u001b[1m<\u001b[0m\u001b[1;95mIPython.core.display.HTML\u001b[0m\u001b[39m object\u001b[0m\u001b[1m>\u001b[0m"
      ]
     },
     "metadata": {},
     "output_type": "display_data"
    },
    {
     "data": {
      "text/html": [
       "<pre style=\"white-space:pre;overflow-x:auto;line-height:normal;font-family:Menlo,'DejaVu Sans Mono',consolas,'Courier New',monospace\"></pre>\n"
      ],
      "text/plain": []
     },
     "metadata": {},
     "output_type": "display_data"
    },
    {
     "data": {
      "text/latex": [
       "$\\displaystyle F = \\left[\\begin{matrix}X_{D} + m r v - r \\left(Y_{\\dot{r}} r + Y_{\\dot{v}} v - m r x_{G}\\right)\\\\X_{\\dot{u}} r u + Y_{D} - m r u\\\\N_{D} - X_{\\dot{u}} u v - u \\left(- Y_{\\dot{r}} r - Y_{\\dot{v}} v + m r x_{G}\\right)\\end{matrix}\\right]$"
      ],
      "text/plain": [
       "\u001b[1m<\u001b[0m\u001b[1;95mIPython.core.display.Math\u001b[0m\u001b[39m object\u001b[0m\u001b[1m>\u001b[0m"
      ]
     },
     "metadata": {},
     "output_type": "display_data"
    },
    {
     "data": {
      "text/html": [
       "<pre style=\"white-space:pre;overflow-x:auto;line-height:normal;font-family:Menlo,'DejaVu Sans Mono',consolas,'Courier New',monospace\"></pre>\n"
      ],
      "text/plain": []
     },
     "metadata": {},
     "output_type": "display_data"
    },
    {
     "data": {
      "text/html": [
       "<br>"
      ],
      "text/plain": [
       "\u001b[1m<\u001b[0m\u001b[1;95mIPython.core.display.HTML\u001b[0m\u001b[39m object\u001b[0m\u001b[1m>\u001b[0m"
      ]
     },
     "metadata": {},
     "output_type": "display_data"
    },
    {
     "name": "stdout",
     "output_type": "stream",
     "text": [
      "F = \\left[\\begin{matrix}X_{D} + m r v - r \\left(Y_{\\dot{r}} r + Y_{\\dot{v}} v - m r x_{G}\\right)\\\\X_{\\dot{u}} r u + Y_{D} - m r u\\\\N_{D} - X_{\\dot{u}} u v - u \\left(- Y_{\\dot{r}} r - Y_{\\dot{v}} v + m r x_{G}\\right)\\end{matrix}\\right]\n"
     ]
    }
   ],
   "source": [
    "eq_F_expanded_no_weather = Eq(F,eq_F_expanded.rhs.subs([(tau_wind,0),(tau_wave,0),(tau,0),(D,eq_D.rhs)]), evaluate=False)\n",
    "eq(eq_F_expanded_no_weather,'F_expanded_no_weather')"
   ]
  },
  {
   "cell_type": "code",
   "execution_count": 26,
   "id": "931339d0-e0fa-4d64-8e7b-ecda7f857b7c",
   "metadata": {},
   "outputs": [
    {
     "data": {
      "text/html": [
       "<pre style=\"white-space:pre;overflow-x:auto;line-height:normal;font-family:Menlo,'DejaVu Sans Mono',consolas,'Courier New',monospace\"></pre>\n"
      ],
      "text/plain": []
     },
     "metadata": {},
     "output_type": "display_data"
    },
    {
     "data": {
      "text/html": [
       "155.10_Fossen_model.F_expanded_no_weather2"
      ],
      "text/plain": [
       "\u001b[1m<\u001b[0m\u001b[1;95mIPython.core.display.HTML\u001b[0m\u001b[39m object\u001b[0m\u001b[1m>\u001b[0m"
      ]
     },
     "metadata": {},
     "output_type": "display_data"
    },
    {
     "data": {
      "text/html": [
       "<pre style=\"white-space:pre;overflow-x:auto;line-height:normal;font-family:Menlo,'DejaVu Sans Mono',consolas,'Courier New',monospace\"></pre>\n"
      ],
      "text/plain": []
     },
     "metadata": {},
     "output_type": "display_data"
    },
    {
     "data": {
      "text/latex": [
       "$\\displaystyle F = \\left[\\begin{matrix}X_{D} - Y_{\\dot{r}} r^{2} + m r^{2} x_{G} + r v \\left(- Y_{\\dot{v}} + m\\right)\\\\Y_{D} + r u \\left(X_{\\dot{u}} - m\\right)\\\\N_{D} + r u \\left(Y_{\\dot{r}} - m x_{G}\\right) + u v \\left(- X_{\\dot{u}} + Y_{\\dot{v}}\\right)\\end{matrix}\\right]$"
      ],
      "text/plain": [
       "\u001b[1m<\u001b[0m\u001b[1;95mIPython.core.display.Math\u001b[0m\u001b[39m object\u001b[0m\u001b[1m>\u001b[0m"
      ]
     },
     "metadata": {},
     "output_type": "display_data"
    },
    {
     "data": {
      "text/html": [
       "<pre style=\"white-space:pre;overflow-x:auto;line-height:normal;font-family:Menlo,'DejaVu Sans Mono',consolas,'Courier New',monospace\"></pre>\n"
      ],
      "text/plain": []
     },
     "metadata": {},
     "output_type": "display_data"
    },
    {
     "data": {
      "text/html": [
       "<br>"
      ],
      "text/plain": [
       "\u001b[1m<\u001b[0m\u001b[1;95mIPython.core.display.HTML\u001b[0m\u001b[39m object\u001b[0m\u001b[1m>\u001b[0m"
      ]
     },
     "metadata": {},
     "output_type": "display_data"
    },
    {
     "name": "stdout",
     "output_type": "stream",
     "text": [
      "F = \\left[\\begin{matrix}X_{D} - Y_{\\dot{r}} r^{2} + m r^{2} x_{G} + r v \\left(- Y_{\\dot{v}} + m\\right)\\\\Y_{D} + r u \\left(X_{\\dot{u}} - m\\right)\\\\N_{D} + r u \\left(Y_{\\dot{r}} - m x_{G}\\right) + u v \\left(- X_{\\dot{u}} + Y_{\\dot{v}}\\right)\\end{matrix}\\right]\n"
     ]
    }
   ],
   "source": [
    "rows = []\n",
    "for row in eq_F_expanded_no_weather.rhs.args[2]:\n",
    "    rows.append(row.expand().collect(r*u).collect(u*v).collect(r*v))\n",
    "\n",
    "eq_F_expanded_no_weather2 = Eq(F,sp.ImmutableDenseMatrix(rows), evaluate=False)\n",
    "eq(eq_F_expanded_no_weather2,'F_expanded_no_weather2')"
   ]
  },
  {
   "cell_type": "code",
   "execution_count": 27,
   "id": "265fe519-f87e-4e23-9fd6-404e3de02868",
   "metadata": {},
   "outputs": [
    {
     "data": {
      "text/html": [
       "<pre style=\"white-space:pre;overflow-x:auto;line-height:normal;font-family:Menlo,'DejaVu Sans Mono',consolas,'Courier New',monospace\"></pre>\n"
      ],
      "text/plain": []
     },
     "metadata": {},
     "output_type": "display_data"
    },
    {
     "data": {
      "text/latex": [
       "$\\displaystyle \\left( X_{D} + m r v - r \\left(Y_{\\dot{r}} r + Y_{\\dot{v}} v - m r x_{G}\\right), \\  X_{\\dot{u}} r u + Y_{D} - m r u, \\  N_{D} - X_{\\dot{u}} u v - u \\left(- Y_{\\dot{r}} r - Y_{\\dot{v}} v + m r x_{G}\\right)\\right)$"
      ],
      "text/plain": [
       "\u001b[1m(\u001b[0mX_D + m*r*v - r*\u001b[1m(\u001b[0mY_\u001b[1m{\u001b[0m\\dot\u001b[1m{\u001b[0mr\u001b[1m}\u001b[0m\u001b[1m}\u001b[0m*r + Y_\u001b[1m{\u001b[0m\\dot\u001b[1m{\u001b[0mv\u001b[1m}\u001b[0m\u001b[1m}\u001b[0m*v - m*r*x_G\u001b[1m)\u001b[0m, X_\u001b[1m{\u001b[0m\\dot\u001b[1m{\u001b[0mu\u001b[1m}\u001b[0m\u001b[1m}\u001b[0m*r*u + Y_D - m*r*u, N_D - X_\u001b[1m{\u001b[0m\\dot\u001b[1m{\u001b[0mu\u001b[1m}\u001b[0m\u001b[1m}\u001b[0m*u*v - u*\u001b[1m(\u001b[0m-Y_\u001b[1m{\u001b[0m\\dot\u001b[1m{\u001b[0mr\u001b[1m}\u001b[0m\u001b[1m}\u001b[0m*r - Y_\u001b[1m{\u001b[0m\\dot\u001b[1m{\u001b[0mv\u001b[1m}\u001b[0m\u001b[1m}\u001b[0m*v + m*r*x_G\u001b[1m)\u001b[0m\u001b[1m)\u001b[0m"
      ]
     },
     "execution_count": 27,
     "metadata": {},
     "output_type": "execute_result"
    }
   ],
   "source": [
    "eq_F_expanded_no_weather.rhs.args[2]"
   ]
  },
  {
   "cell_type": "code",
   "execution_count": 28,
   "id": "6bd75224-00a4-4208-b7c3-e0397b9a0fb6",
   "metadata": {},
   "outputs": [
    {
     "data": {
      "text/html": [
       "<pre style=\"white-space:pre;overflow-x:auto;line-height:normal;font-family:Menlo,'DejaVu Sans Mono',consolas,'Courier New',monospace\"></pre>\n"
      ],
      "text/plain": []
     },
     "metadata": {},
     "output_type": "display_data"
    },
    {
     "data": {
      "text/latex": [
       "$\\displaystyle X_{D} - Y_{\\dot{r}} r^{2} + m r^{2} x_{G} + r v \\left(- Y_{\\dot{v}} + m\\right)$"
      ],
      "text/plain": [
       "X_D - Y_\u001b[1m{\u001b[0m\\dot\u001b[1m{\u001b[0mr\u001b[1m}\u001b[0m\u001b[1m}\u001b[0m*r**\u001b[1;36m2\u001b[0m + m*r**\u001b[1;36m2\u001b[0m*x_G + r*v*\u001b[1m(\u001b[0m-Y_\u001b[1m{\u001b[0m\\dot\u001b[1m{\u001b[0mv\u001b[1m}\u001b[0m\u001b[1m}\u001b[0m + m\u001b[1m)\u001b[0m"
      ]
     },
     "execution_count": 28,
     "metadata": {},
     "output_type": "execute_result"
    }
   ],
   "source": [
    "eq_F_expanded_no_weather.rhs[0].expand().collect(r*u).collect(u*v).collect(r*v)"
   ]
  },
  {
   "cell_type": "code",
   "execution_count": 29,
   "id": "f44ecb7d-aff4-4899-828e-22f35e5cffc7",
   "metadata": {},
   "outputs": [
    {
     "data": {
      "text/html": [
       "<pre style=\"white-space:pre;overflow-x:auto;line-height:normal;font-family:Menlo,'DejaVu Sans Mono',consolas,'Courier New',monospace\"></pre>\n"
      ],
      "text/plain": []
     },
     "metadata": {},
     "output_type": "display_data"
    },
    {
     "data": {
      "text/latex": [
       "$\\displaystyle Y_{D} + r u \\left(X_{\\dot{u}} - m\\right)$"
      ],
      "text/plain": [
       "Y_D + r*u*\u001b[1m(\u001b[0mX_\u001b[1m{\u001b[0m\\dot\u001b[1m{\u001b[0mu\u001b[1m}\u001b[0m\u001b[1m}\u001b[0m - m\u001b[1m)\u001b[0m"
      ]
     },
     "execution_count": 29,
     "metadata": {},
     "output_type": "execute_result"
    }
   ],
   "source": [
    "eq_F_expanded_no_weather.rhs[1].expand().collect(r*u).collect(u*v)"
   ]
  },
  {
   "cell_type": "code",
   "execution_count": 30,
   "id": "bcf87288-9c7f-413c-82ac-4f29e5350ba5",
   "metadata": {},
   "outputs": [
    {
     "data": {
      "text/html": [
       "<pre style=\"white-space:pre;overflow-x:auto;line-height:normal;font-family:Menlo,'DejaVu Sans Mono',consolas,'Courier New',monospace\"></pre>\n"
      ],
      "text/plain": []
     },
     "metadata": {},
     "output_type": "display_data"
    },
    {
     "data": {
      "text/latex": [
       "$\\displaystyle N_{D} + r u \\left(Y_{\\dot{r}} - m x_{G}\\right) + u v \\left(- X_{\\dot{u}} + Y_{\\dot{v}}\\right)$"
      ],
      "text/plain": [
       "N_D + r*u*\u001b[1m(\u001b[0mY_\u001b[1m{\u001b[0m\\dot\u001b[1m{\u001b[0mr\u001b[1m}\u001b[0m\u001b[1m}\u001b[0m - m*x_G\u001b[1m)\u001b[0m + u*v*\u001b[1m(\u001b[0m-X_\u001b[1m{\u001b[0m\\dot\u001b[1m{\u001b[0mu\u001b[1m}\u001b[0m\u001b[1m}\u001b[0m + Y_\u001b[1m{\u001b[0m\\dot\u001b[1m{\u001b[0mv\u001b[1m}\u001b[0m\u001b[1m}\u001b[0m\u001b[1m)\u001b[0m"
      ]
     },
     "execution_count": 30,
     "metadata": {},
     "output_type": "execute_result"
    }
   ],
   "source": [
    "eq_F_expanded_no_weather.rhs[2].expand().collect(r*u).collect(u*v)"
   ]
  },
  {
   "cell_type": "markdown",
   "id": "8c3d2686-915e-47c9-84fb-3c01fc8f70c1",
   "metadata": {},
   "source": [
    "## $\\mathbf{M}$ invertable?"
   ]
  },
  {
   "cell_type": "code",
   "execution_count": 31,
   "id": "f8cd5c30-3d14-4192-9fc4-8365ae10d6f4",
   "metadata": {},
   "outputs": [
    {
     "data": {
      "text/html": [
       "<pre style=\"white-space:pre;overflow-x:auto;line-height:normal;font-family:Menlo,'DejaVu Sans Mono',consolas,'Courier New',monospace\"></pre>\n"
      ],
      "text/plain": []
     },
     "metadata": {},
     "output_type": "display_data"
    },
    {
     "data": {
      "text/latex": [
       "$\\displaystyle \\left[\\begin{matrix}- X_{\\dot{u}} + m & 0 & 0\\\\0 & - Y_{\\dot{v}} + m & - Y_{\\dot{r}} + m x_{G}\\\\0 & - N_{\\dot{v}} + m x_{G} & I_{z} - N_{\\dot{r}}\\end{matrix}\\right]$"
      ],
      "text/plain": [
       "\n",
       "\u001b[1;35mMatrix\u001b[0m\u001b[1m(\u001b[0m\u001b[1m[\u001b[0m\n",
       "\u001b[1m[\u001b[0m-X_\u001b[1m{\u001b[0m\\dot\u001b[1m{\u001b[0mu\u001b[1m}\u001b[0m\u001b[1m}\u001b[0m + m,                    \u001b[1;36m0\u001b[0m,                    \u001b[1;36m0\u001b[0m\u001b[1m]\u001b[0m,\n",
       "\u001b[1m[\u001b[0m               \u001b[1;36m0\u001b[0m,     -Y_\u001b[1m{\u001b[0m\\dot\u001b[1m{\u001b[0mv\u001b[1m}\u001b[0m\u001b[1m}\u001b[0m + m, -Y_\u001b[1m{\u001b[0m\\dot\u001b[1m{\u001b[0mr\u001b[1m}\u001b[0m\u001b[1m}\u001b[0m + m*x_G\u001b[1m]\u001b[0m,\n",
       "\u001b[1m[\u001b[0m               \u001b[1;36m0\u001b[0m, -N_\u001b[1m{\u001b[0m\\dot\u001b[1m{\u001b[0mv\u001b[1m}\u001b[0m\u001b[1m}\u001b[0m + m*x_G,    I_z - N_\u001b[1m{\u001b[0m\\dot\u001b[1m{\u001b[0mr\u001b[1m}\u001b[0m\u001b[1m}\u001b[0m\u001b[1m]\u001b[0m\u001b[1m]\u001b[0m\u001b[1m)\u001b[0m"
      ]
     },
     "execution_count": 31,
     "metadata": {},
     "output_type": "execute_result"
    }
   ],
   "source": [
    "M_ = eq_M_expanded.rhs\n",
    "M_"
   ]
  },
  {
   "cell_type": "code",
   "execution_count": 32,
   "id": "effd1a5b-4705-4e4a-861d-2b01cad92fd3",
   "metadata": {},
   "outputs": [
    {
     "data": {
      "text/html": [
       "<pre style=\"white-space:pre;overflow-x:auto;line-height:normal;font-family:Menlo,'DejaVu Sans Mono',consolas,'Courier New',monospace\"></pre>\n"
      ],
      "text/plain": []
     },
     "metadata": {},
     "output_type": "display_data"
    },
    {
     "data": {
      "text/latex": [
       "$\\displaystyle \\left[\\begin{matrix}- Y_{\\dot{v}} + m & - Y_{\\dot{r}} + m x_{G}\\\\- N_{\\dot{v}} + m x_{G} & I_{z} - N_{\\dot{r}}\\end{matrix}\\right]$"
      ],
      "text/plain": [
       "\n",
       "\u001b[1;35mMatrix\u001b[0m\u001b[1m(\u001b[0m\u001b[1m[\u001b[0m\n",
       "\u001b[1m[\u001b[0m    -Y_\u001b[1m{\u001b[0m\\dot\u001b[1m{\u001b[0mv\u001b[1m}\u001b[0m\u001b[1m}\u001b[0m + m, -Y_\u001b[1m{\u001b[0m\\dot\u001b[1m{\u001b[0mr\u001b[1m}\u001b[0m\u001b[1m}\u001b[0m + m*x_G\u001b[1m]\u001b[0m,\n",
       "\u001b[1m[\u001b[0m-N_\u001b[1m{\u001b[0m\\dot\u001b[1m{\u001b[0mv\u001b[1m}\u001b[0m\u001b[1m}\u001b[0m + m*x_G,    I_z - N_\u001b[1m{\u001b[0m\\dot\u001b[1m{\u001b[0mr\u001b[1m}\u001b[0m\u001b[1m}\u001b[0m\u001b[1m]\u001b[0m\u001b[1m]\u001b[0m\u001b[1m)\u001b[0m"
      ]
     },
     "execution_count": 32,
     "metadata": {},
     "output_type": "execute_result"
    }
   ],
   "source": [
    "M_[1:,1:]"
   ]
  },
  {
   "cell_type": "markdown",
   "id": "71f38c6a-87f8-4045-af1b-51553c87a2ca",
   "metadata": {},
   "source": [
    "### square?"
   ]
  },
  {
   "cell_type": "code",
   "execution_count": 33,
   "id": "4a3607fe-715b-458d-ab85-6edfe4dc1404",
   "metadata": {},
   "outputs": [],
   "source": [
    "assert M_.shape[0] ==  M_.shape[1]"
   ]
  },
  {
   "cell_type": "markdown",
   "id": "3c33e197-ad1a-4f7d-992f-e25eb3e5f503",
   "metadata": {},
   "source": [
    "### Full rank?"
   ]
  },
  {
   "cell_type": "code",
   "execution_count": 34,
   "id": "84d39cd8-116e-49a3-b70c-e98bc652a41d",
   "metadata": {},
   "outputs": [],
   "source": [
    "is_full_rank = M_.rank() == M_.shape[0]\n",
    "assert is_full_rank"
   ]
  },
  {
   "cell_type": "markdown",
   "id": "79ecddfa-dfb9-4fbc-ad3d-849f3fed9882",
   "metadata": {},
   "source": [
    "### nonzero determinant?"
   ]
  },
  {
   "cell_type": "code",
   "execution_count": 65,
   "id": "19cb3554-47f8-4fa8-8976-d092652962fb",
   "metadata": {},
   "outputs": [
    {
     "data": {
      "text/html": [
       "<pre style=\"white-space:pre;overflow-x:auto;line-height:normal;font-family:Menlo,'DejaVu Sans Mono',consolas,'Courier New',monospace\"></pre>\n"
      ],
      "text/plain": []
     },
     "metadata": {},
     "output_type": "display_data"
    },
    {
     "data": {
      "text/latex": [
       "$\\displaystyle I_{z} Y_{\\dot{v}} - I_{z} m - N_{\\dot{r}} Y_{\\dot{v}} + N_{\\dot{r}} m + N_{\\dot{v}} Y_{\\dot{r}} - N_{\\dot{v}} m x_{G} - Y_{\\dot{r}} m x_{G} + m^{2} x_{G}^{2}$"
      ],
      "text/plain": [
       "I_z*Y_\u001b[1m{\u001b[0m\\dot\u001b[1m{\u001b[0mv\u001b[1m}\u001b[0m\u001b[1m}\u001b[0m - I_z*m - N_\u001b[1m{\u001b[0m\\dot\u001b[1m{\u001b[0mr\u001b[1m}\u001b[0m\u001b[1m}\u001b[0m*Y_\u001b[1m{\u001b[0m\\dot\u001b[1m{\u001b[0mv\u001b[1m}\u001b[0m\u001b[1m}\u001b[0m + N_\u001b[1m{\u001b[0m\\dot\u001b[1m{\u001b[0mr\u001b[1m}\u001b[0m\u001b[1m}\u001b[0m*m + N_\u001b[1m{\u001b[0m\\dot\u001b[1m{\u001b[0mv\u001b[1m}\u001b[0m\u001b[1m}\u001b[0m*Y_\u001b[1m{\u001b[0m\\dot\u001b[1m{\u001b[0mr\u001b[1m}\u001b[0m\u001b[1m}\u001b[0m - N_\u001b[1m{\u001b[0m\\dot\u001b[1m{\u001b[0mv\u001b[1m}\u001b[0m\u001b[1m}\u001b[0m*m*x_G - Y_\u001b[1m{\u001b[0m\\dot\u001b[1m{\u001b[0mr\u001b[1m}\u001b[0m\u001b[1m}\u001b[0m*m*x_G + m**\u001b[1;36m2\u001b[0m*x_G**\u001b[1;36m2\u001b[0m"
      ]
     },
     "execution_count": 65,
     "metadata": {},
     "output_type": "execute_result"
    }
   ],
   "source": [
    "#det = -M_[1:,1:].det()\n",
    "det = eq_S.rhs\n",
    "det"
   ]
  },
  {
   "cell_type": "code",
   "execution_count": 66,
   "id": "724049f1-5eb5-470f-bfe9-16052e70d370",
   "metadata": {},
   "outputs": [
    {
     "data": {
      "text/html": [
       "<pre style=\"white-space:pre;overflow-x:auto;line-height:normal;font-family:Menlo,'DejaVu Sans Mono',consolas,'Courier New',monospace\"></pre>\n"
      ],
      "text/plain": []
     },
     "metadata": {},
     "output_type": "display_data"
    },
    {
     "data": {
      "text/latex": [
       "$\\displaystyle - \\left|{I_{z} Y_{\\dot{v}}}\\right| - \\left|{I_{z} m}\\right| - \\left|{N_{\\dot{r}} Y_{\\dot{v}}}\\right| - \\left|{N_{\\dot{r}} m}\\right| + \\left|{N_{\\dot{v}} Y_{\\dot{r}}}\\right| + \\left|{m^{2} x_{G}^{2}}\\right| + \\left|{N_{\\dot{v}} m x_{G}}\\right| + \\left|{Y_{\\dot{r}} m x_{G}}\\right|$"
      ],
      "text/plain": [
       "-\u001b[1;35mAbs\u001b[0m\u001b[1m(\u001b[0mI_z*Y_\u001b[1m{\u001b[0m\\dot\u001b[1m{\u001b[0mv\u001b[1m}\u001b[0m\u001b[1m}\u001b[0m\u001b[1m)\u001b[0m - \u001b[1;35mAbs\u001b[0m\u001b[1m(\u001b[0mI_z*m\u001b[1m)\u001b[0m - \u001b[1;35mAbs\u001b[0m\u001b[1m(\u001b[0mN_\u001b[1m{\u001b[0m\\dot\u001b[1m{\u001b[0mr\u001b[1m}\u001b[0m\u001b[1m}\u001b[0m*Y_\u001b[1m{\u001b[0m\\dot\u001b[1m{\u001b[0mv\u001b[1m}\u001b[0m\u001b[1m}\u001b[0m\u001b[1m)\u001b[0m - \u001b[1;35mAbs\u001b[0m\u001b[1m(\u001b[0mN_\u001b[1m{\u001b[0m\\dot\u001b[1m{\u001b[0mr\u001b[1m}\u001b[0m\u001b[1m}\u001b[0m*m\u001b[1m)\u001b[0m + \u001b[1;35mAbs\u001b[0m\u001b[1m(\u001b[0mN_\u001b[1m{\u001b[0m\\dot\u001b[1m{\u001b[0mv\u001b[1m}\u001b[0m\u001b[1m}\u001b[0m*Y_\u001b[1m{\u001b[0m\\dot\u001b[1m{\u001b[0mr\u001b[1m}\u001b[0m\u001b[1m}\u001b[0m\u001b[1m)\u001b[0m + \u001b[1;35mAbs\u001b[0m\u001b[1m(\u001b[0mm**\u001b[1;36m2\u001b[0m*x_G**\u001b[1;36m2\u001b[0m\u001b[1m)\u001b[0m + \u001b[1;35mAbs\u001b[0m\u001b[1m(\u001b[0mN_\u001b[1m{\u001b[0m\\dot\u001b[1m{\u001b[0mv\u001b[1m}\u001b[0m\u001b[1m}\u001b[0m*m*x_G\u001b[1m)\u001b[0m + \u001b[1;35mAbs\u001b[0m\u001b[1m(\u001b[0mY_\u001b[1m{\u001b[0m\\dot\u001b[1m{\u001b[0mr\u001b[1m}\u001b[0m\u001b[1m}\u001b[0m*m*x_G\u001b[1m)\u001b[0m"
      ]
     },
     "execution_count": 66,
     "metadata": {},
     "output_type": "execute_result"
    }
   ],
   "source": [
    "subs_sign = {symbol:sp.Abs(sp.Symbol(symbol.name)) if sp.sign(symbol)==1 else -sp.Abs(sp.Symbol(symbol.name)) for symbol in det.free_symbols}\n",
    "det_sign = sp.simplify(det.subs(subs_sign))\n",
    "det_sign"
   ]
  },
  {
   "cell_type": "code",
   "execution_count": 68,
   "id": "75887aea-605a-43de-b389-6ced2b688c37",
   "metadata": {},
   "outputs": [
    {
     "data": {
      "text/html": [
       "<pre style=\"white-space:pre;overflow-x:auto;line-height:normal;font-family:Menlo,'DejaVu Sans Mono',consolas,'Courier New',monospace\"></pre>\n"
      ],
      "text/plain": []
     },
     "metadata": {},
     "output_type": "display_data"
    },
    {
     "data": {
      "text/html": [
       "155.10_Fossen_model.eq_S_sign"
      ],
      "text/plain": [
       "\u001b[1m<\u001b[0m\u001b[1;95mIPython.core.display.HTML\u001b[0m\u001b[39m object\u001b[0m\u001b[1m>\u001b[0m"
      ]
     },
     "metadata": {},
     "output_type": "display_data"
    },
    {
     "data": {
      "text/html": [
       "<pre style=\"white-space:pre;overflow-x:auto;line-height:normal;font-family:Menlo,'DejaVu Sans Mono',consolas,'Courier New',monospace\"></pre>\n"
      ],
      "text/plain": []
     },
     "metadata": {},
     "output_type": "display_data"
    },
    {
     "data": {
      "text/latex": [
       "$\\displaystyle S = - \\left|{I_{z} Y_{\\dot{v}}}\\right| - \\left|{I_{z} m}\\right| - \\left|{N_{\\dot{r}} Y_{\\dot{v}}}\\right| - \\left|{N_{\\dot{r}} m}\\right| + \\left|{N_{\\dot{v}} Y_{\\dot{r}}}\\right| + \\left|{m^{2} x_{G}^{2}}\\right| + \\left|{N_{\\dot{v}} m x_{G}}\\right| + \\left|{Y_{\\dot{r}} m x_{G}}\\right|$"
      ],
      "text/plain": [
       "\u001b[1m<\u001b[0m\u001b[1;95mIPython.core.display.Math\u001b[0m\u001b[39m object\u001b[0m\u001b[1m>\u001b[0m"
      ]
     },
     "metadata": {},
     "output_type": "display_data"
    },
    {
     "data": {
      "text/html": [
       "<pre style=\"white-space:pre;overflow-x:auto;line-height:normal;font-family:Menlo,'DejaVu Sans Mono',consolas,'Courier New',monospace\"></pre>\n"
      ],
      "text/plain": []
     },
     "metadata": {},
     "output_type": "display_data"
    },
    {
     "data": {
      "text/html": [
       "<br>"
      ],
      "text/plain": [
       "\u001b[1m<\u001b[0m\u001b[1;95mIPython.core.display.HTML\u001b[0m\u001b[39m object\u001b[0m\u001b[1m>\u001b[0m"
      ]
     },
     "metadata": {},
     "output_type": "display_data"
    },
    {
     "name": "stdout",
     "output_type": "stream",
     "text": [
      "S = - \\left|{I_{z} Y_{\\dot{v}}}\\right| - \\left|{I_{z} m}\\right| - \\left|{N_{\\dot{r}} Y_{\\dot{v}}}\\right| - \\left|{N_{\\dot{r}} m}\\right| + \\left|{N_{\\dot{v}} Y_{\\dot{r}}}\\right| + \\left|{m^{2} x_{G}^{2}}\\right| + \\left|{N_{\\dot{v}} m x_{G}}\\right| + \\left|{Y_{\\dot{r}} m x_{G}}\\right|\n"
     ]
    }
   ],
   "source": [
    "eq_S_sign = Eq(S,det_sign)\n",
    "eq(eq_S_sign,'eq_S_sign')"
   ]
  },
  {
   "cell_type": "code",
   "execution_count": 37,
   "id": "b5701bbe-1993-4aa2-98a0-16ff00d870e7",
   "metadata": {},
   "outputs": [],
   "source": [
    "sub_python2 = {value:key for key,value in p2.items()}"
   ]
  },
  {
   "cell_type": "code",
   "execution_count": 43,
   "id": "bb717651-d6d2-4281-82d1-c0cb7c115f8f",
   "metadata": {},
   "outputs": [
    {
     "data": {
      "text/html": [
       "<pre style=\"white-space:pre;overflow-x:auto;line-height:normal;font-family:Menlo,'DejaVu Sans Mono',consolas,'Courier New',monospace\"><span style=\"color: #7fbfbf; text-decoration-color: #7fbfbf\">[02/19/25 13:24:06] </span><span style=\"color: #800000; text-decoration-color: #800000\">WARNING </span> <span style=\"color: #800080; text-decoration-color: #800080\">/home/maa/miniconda3/envs/phd/lib/python3.10/site-packages/kedro/io/</span><span style=\"color: #ff00ff; text-decoration-color: #ff00ff\">pa</span> <a href=\"file:///home/maa/miniconda3/envs/phd/lib/python3.10/warnings.py\" target=\"_blank\"><span style=\"color: #7f7f7f; text-decoration-color: #7f7f7f\">warnings.py</span></a><span style=\"color: #7f7f7f; text-decoration-color: #7f7f7f\">:</span><a href=\"file:///home/maa/miniconda3/envs/phd/lib/python3.10/warnings.py#109\" target=\"_blank\"><span style=\"color: #7f7f7f; text-decoration-color: #7f7f7f\">109</span></a>\n",
       "<span style=\"color: #7fbfbf; text-decoration-color: #7fbfbf\">                    </span>         <span style=\"color: #ff00ff; text-decoration-color: #ff00ff\">rtitioned_dataset.py</span>:<span style=\"color: #008080; text-decoration-color: #008080; font-weight: bold\">200</span>: KedroDeprecationWarning:                     <span style=\"color: #7f7f7f; text-decoration-color: #7f7f7f\">               </span>\n",
       "<span style=\"color: #7fbfbf; text-decoration-color: #7fbfbf\">                    </span>         <span style=\"color: #008000; text-decoration-color: #008000\">'PartitionedDataset'</span> has been moved to `kedro-datasets` and will be    <span style=\"color: #7f7f7f; text-decoration-color: #7f7f7f\">               </span>\n",
       "<span style=\"color: #7fbfbf; text-decoration-color: #7fbfbf\">                    </span>         removed in Kedro <span style=\"color: #008080; text-decoration-color: #008080; font-weight: bold\">0.19</span>.<span style=\"color: #008080; text-decoration-color: #008080; font-weight: bold\">0</span>.                                               <span style=\"color: #7f7f7f; text-decoration-color: #7f7f7f\">               </span>\n",
       "<span style=\"color: #7fbfbf; text-decoration-color: #7fbfbf\">                    </span>           <span style=\"color: #800080; text-decoration-color: #800080; font-weight: bold\">warnings.warn</span><span style=\"font-weight: bold\">(</span>                                                       <span style=\"color: #7f7f7f; text-decoration-color: #7f7f7f\">               </span>\n",
       "<span style=\"color: #7fbfbf; text-decoration-color: #7fbfbf\">                    </span>                                                                                <span style=\"color: #7f7f7f; text-decoration-color: #7f7f7f\">               </span>\n",
       "</pre>\n"
      ],
      "text/plain": [
       "\u001b[2;36m[02/19/25 13:24:06]\u001b[0m\u001b[2;36m \u001b[0m\u001b[31mWARNING \u001b[0m \u001b[35m/home/maa/miniconda3/envs/phd/lib/python3.10/site-packages/kedro/io/\u001b[0m\u001b[95mpa\u001b[0m \u001b]8;id=712782;file:///home/maa/miniconda3/envs/phd/lib/python3.10/warnings.py\u001b\\\u001b[2mwarnings.py\u001b[0m\u001b]8;;\u001b\\\u001b[2m:\u001b[0m\u001b]8;id=271587;file:///home/maa/miniconda3/envs/phd/lib/python3.10/warnings.py#109\u001b\\\u001b[2m109\u001b[0m\u001b]8;;\u001b\\\n",
       "\u001b[2;36m                    \u001b[0m         \u001b[95mrtitioned_dataset.py\u001b[0m:\u001b[1;36m200\u001b[0m: KedroDeprecationWarning:                     \u001b[2m               \u001b[0m\n",
       "\u001b[2;36m                    \u001b[0m         \u001b[32m'PartitionedDataset'\u001b[0m has been moved to `kedro-datasets` and will be    \u001b[2m               \u001b[0m\n",
       "\u001b[2;36m                    \u001b[0m         removed in Kedro \u001b[1;36m0.19\u001b[0m.\u001b[1;36m0\u001b[0m.                                               \u001b[2m               \u001b[0m\n",
       "\u001b[2;36m                    \u001b[0m           \u001b[1;35mwarnings.warn\u001b[0m\u001b[1m(\u001b[0m                                                       \u001b[2m               \u001b[0m\n",
       "\u001b[2;36m                    \u001b[0m                                                                                \u001b[2m               \u001b[0m\n"
      ]
     },
     "metadata": {},
     "output_type": "display_data"
    },
    {
     "data": {
      "text/html": [
       "<pre style=\"white-space:pre;overflow-x:auto;line-height:normal;font-family:Menlo,'DejaVu Sans Mono',consolas,'Courier New',monospace\"><span style=\"color: #7fbfbf; text-decoration-color: #7fbfbf\">                    </span><span style=\"color: #800000; text-decoration-color: #800000\">WARNING </span> <span style=\"color: #800080; text-decoration-color: #800080\">/home/maa/miniconda3/envs/phd/lib/python3.10/site-packages/kedro/io/</span><span style=\"color: #ff00ff; text-decoration-color: #ff00ff\">__</span> <a href=\"file:///home/maa/miniconda3/envs/phd/lib/python3.10/warnings.py\" target=\"_blank\"><span style=\"color: #7f7f7f; text-decoration-color: #7f7f7f\">warnings.py</span></a><span style=\"color: #7f7f7f; text-decoration-color: #7f7f7f\">:</span><a href=\"file:///home/maa/miniconda3/envs/phd/lib/python3.10/warnings.py#109\" target=\"_blank\"><span style=\"color: #7f7f7f; text-decoration-color: #7f7f7f\">109</span></a>\n",
       "<span style=\"color: #7fbfbf; text-decoration-color: #7fbfbf\">                    </span>         <span style=\"color: #ff00ff; text-decoration-color: #ff00ff\">init__.py</span>:<span style=\"color: #008080; text-decoration-color: #008080; font-weight: bold\">44</span>: KedroDeprecationWarning: <span style=\"color: #008000; text-decoration-color: #008000\">'AbstractDataSet'</span> has been      <span style=\"color: #7f7f7f; text-decoration-color: #7f7f7f\">               </span>\n",
       "<span style=\"color: #7fbfbf; text-decoration-color: #7fbfbf\">                    </span>         renamed to <span style=\"color: #008000; text-decoration-color: #008000\">'AbstractDataset'</span>, and the alias will be removed in Kedro   <span style=\"color: #7f7f7f; text-decoration-color: #7f7f7f\">               </span>\n",
       "<span style=\"color: #7fbfbf; text-decoration-color: #7fbfbf\">                    </span>         <span style=\"color: #008080; text-decoration-color: #008080; font-weight: bold\">0.19</span>.<span style=\"color: #008080; text-decoration-color: #008080; font-weight: bold\">0</span>                                                                 <span style=\"color: #7f7f7f; text-decoration-color: #7f7f7f\">               </span>\n",
       "<span style=\"color: #7fbfbf; text-decoration-color: #7fbfbf\">                    </span>           return <span style=\"color: #800080; text-decoration-color: #800080; font-weight: bold\">getattr</span><span style=\"font-weight: bold\">(</span>kedro.io.core, name<span style=\"font-weight: bold\">)</span>                                  <span style=\"color: #7f7f7f; text-decoration-color: #7f7f7f\">               </span>\n",
       "<span style=\"color: #7fbfbf; text-decoration-color: #7fbfbf\">                    </span>                                                                                <span style=\"color: #7f7f7f; text-decoration-color: #7f7f7f\">               </span>\n",
       "</pre>\n"
      ],
      "text/plain": [
       "\u001b[2;36m                   \u001b[0m\u001b[2;36m \u001b[0m\u001b[31mWARNING \u001b[0m \u001b[35m/home/maa/miniconda3/envs/phd/lib/python3.10/site-packages/kedro/io/\u001b[0m\u001b[95m__\u001b[0m \u001b]8;id=10084;file:///home/maa/miniconda3/envs/phd/lib/python3.10/warnings.py\u001b\\\u001b[2mwarnings.py\u001b[0m\u001b]8;;\u001b\\\u001b[2m:\u001b[0m\u001b]8;id=216141;file:///home/maa/miniconda3/envs/phd/lib/python3.10/warnings.py#109\u001b\\\u001b[2m109\u001b[0m\u001b]8;;\u001b\\\n",
       "\u001b[2;36m                    \u001b[0m         \u001b[95minit__.py\u001b[0m:\u001b[1;36m44\u001b[0m: KedroDeprecationWarning: \u001b[32m'AbstractDataSet'\u001b[0m has been      \u001b[2m               \u001b[0m\n",
       "\u001b[2;36m                    \u001b[0m         renamed to \u001b[32m'AbstractDataset'\u001b[0m, and the alias will be removed in Kedro   \u001b[2m               \u001b[0m\n",
       "\u001b[2;36m                    \u001b[0m         \u001b[1;36m0.19\u001b[0m.\u001b[1;36m0\u001b[0m                                                                 \u001b[2m               \u001b[0m\n",
       "\u001b[2;36m                    \u001b[0m           return \u001b[1;35mgetattr\u001b[0m\u001b[1m(\u001b[0mkedro.io.core, name\u001b[1m)\u001b[0m                                  \u001b[2m               \u001b[0m\n",
       "\u001b[2;36m                    \u001b[0m                                                                                \u001b[2m               \u001b[0m\n"
      ]
     },
     "metadata": {},
     "output_type": "display_data"
    },
    {
     "data": {
      "text/html": [
       "<pre style=\"white-space:pre;overflow-x:auto;line-height:normal;font-family:Menlo,'DejaVu Sans Mono',consolas,'Courier New',monospace\"><span style=\"color: #7fbfbf; text-decoration-color: #7fbfbf\">[02/19/25 13:24:07] </span><span style=\"color: #000080; text-decoration-color: #000080\">INFO    </span> Loading data from <span style=\"color: #008000; text-decoration-color: #008000\">'optiwise.models_VCT_MMG_rudder_MDL'</span>             <a href=\"file:///home/maa/miniconda3/envs/phd/lib/python3.10/site-packages/kedro/io/data_catalog.py\" target=\"_blank\"><span style=\"color: #7f7f7f; text-decoration-color: #7f7f7f\">data_catalog.py</span></a><span style=\"color: #7f7f7f; text-decoration-color: #7f7f7f\">:</span><a href=\"file:///home/maa/miniconda3/envs/phd/lib/python3.10/site-packages/kedro/io/data_catalog.py#502\" target=\"_blank\"><span style=\"color: #7f7f7f; text-decoration-color: #7f7f7f\">502</span></a>\n",
       "<span style=\"color: #7fbfbf; text-decoration-color: #7fbfbf\">                    </span>         <span style=\"font-weight: bold\">(</span>PartitionedDataset<span style=\"font-weight: bold\">)</span><span style=\"color: #808000; text-decoration-color: #808000\">...</span>                                            <span style=\"color: #7f7f7f; text-decoration-color: #7f7f7f\">                   </span>\n",
       "</pre>\n"
      ],
      "text/plain": [
       "\u001b[2;36m[02/19/25 13:24:07]\u001b[0m\u001b[2;36m \u001b[0m\u001b[34mINFO    \u001b[0m Loading data from \u001b[32m'optiwise.models_VCT_MMG_rudder_MDL'\u001b[0m             \u001b]8;id=227756;file:///home/maa/miniconda3/envs/phd/lib/python3.10/site-packages/kedro/io/data_catalog.py\u001b\\\u001b[2mdata_catalog.py\u001b[0m\u001b]8;;\u001b\\\u001b[2m:\u001b[0m\u001b]8;id=577769;file:///home/maa/miniconda3/envs/phd/lib/python3.10/site-packages/kedro/io/data_catalog.py#502\u001b\\\u001b[2m502\u001b[0m\u001b]8;;\u001b\\\n",
       "\u001b[2;36m                    \u001b[0m         \u001b[1m(\u001b[0mPartitionedDataset\u001b[1m)\u001b[0m\u001b[33m...\u001b[0m                                            \u001b[2m                   \u001b[0m\n"
      ]
     },
     "metadata": {},
     "output_type": "display_data"
    }
   ],
   "source": [
    "ship_name = \"optiwise\"\n",
    "model = catalog.load(f\"{ship_name}.models_VCT_MMG_rudder_MDL\")[\"quadratic\"]()"
   ]
  },
  {
   "cell_type": "code",
   "execution_count": 51,
   "id": "e490938d-a2c0-4e6a-9c0f-cf0a8fb0c710",
   "metadata": {},
   "outputs": [],
   "source": [
    "mask = pd.Series(model.parameters).index.str.contains('dot')\n",
    "parameters = pd.concat((\n",
    "    pd.Series(model.ship_parameters_prime)[['I_z','m','x_G']],\n",
    "    pd.Series(model.parameters)[mask],\n",
    "))"
   ]
  },
  {
   "cell_type": "code",
   "execution_count": 52,
   "id": "0175f3f2-b2fe-4d66-a4f5-facf2c4ab1b6",
   "metadata": {},
   "outputs": [],
   "source": [
    "calculations = {}\n",
    "\n",
    "for part in det_sign.args:\n",
    "    calculations[part] = run(lambdify(part.subs(sub_python2)),parameters) \n",
    "\n",
    "calculations = pd.Series(calculations)"
   ]
  },
  {
   "cell_type": "code",
   "execution_count": 53,
   "id": "d790b0ad-4985-4b8e-b39d-b4bcfe4de845",
   "metadata": {},
   "outputs": [
    {
     "data": {
      "text/html": [
       "<pre style=\"white-space:pre;overflow-x:auto;line-height:normal;font-family:Menlo,'DejaVu Sans Mono',consolas,'Courier New',monospace\"></pre>\n"
      ],
      "text/plain": []
     },
     "metadata": {},
     "output_type": "display_data"
    },
    {
     "data": {
      "text/plain": [
       "\n",
       "-\u001b[1;35mAbs\u001b[0m\u001b[1m(\u001b[0mI_z*Y_\u001b[1m{\u001b[0m\\dot\u001b[1m{\u001b[0mv\u001b[1m}\u001b[0m\u001b[1m}\u001b[0m\u001b[1m)\u001b[0m           \u001b[1;36m-1.779705e-05\u001b[0m\n",
       "-\u001b[1;35mAbs\u001b[0m\u001b[1m(\u001b[0mI_z*m\u001b[1m)\u001b[0m                     \u001b[1;36m-2.071602e-05\u001b[0m\n",
       "-\u001b[1;35mAbs\u001b[0m\u001b[1m(\u001b[0mN_\u001b[1m{\u001b[0m\\dot\u001b[1m{\u001b[0mr\u001b[1m}\u001b[0m\u001b[1m}\u001b[0m*Y_\u001b[1m{\u001b[0m\\dot\u001b[1m{\u001b[0mv\u001b[1m}\u001b[0m\u001b[1m}\u001b[0m\u001b[1m)\u001b[0m   \u001b[1;36m-1.124506e-05\u001b[0m\n",
       "-\u001b[1;35mAbs\u001b[0m\u001b[1m(\u001b[0mN_\u001b[1m{\u001b[0m\\dot\u001b[1m{\u001b[0mr\u001b[1m}\u001b[0m\u001b[1m}\u001b[0m*m\u001b[1m)\u001b[0m             \u001b[1;36m-1.308941e-05\u001b[0m\n",
       "\u001b[1;35mAbs\u001b[0m\u001b[1m(\u001b[0mN_\u001b[1m{\u001b[0m\\dot\u001b[1m{\u001b[0mv\u001b[1m}\u001b[0m\u001b[1m}\u001b[0m*Y_\u001b[1m{\u001b[0m\\dot\u001b[1m{\u001b[0mr\u001b[1m}\u001b[0m\u001b[1m}\u001b[0m\u001b[1m)\u001b[0m     \u001b[1;36m2.883690e-07\u001b[0m\n",
       "\u001b[1;35mAbs\u001b[0m\u001b[1m(\u001b[0mm**\u001b[1;36m2\u001b[0m*x_G**\u001b[1;36m2\u001b[0m\u001b[1m)\u001b[0m                 \u001b[1;36m4.417278e-07\u001b[0m\n",
       "\u001b[1;35mAbs\u001b[0m\u001b[1m(\u001b[0mN_\u001b[1m{\u001b[0m\\dot\u001b[1m{\u001b[0mv\u001b[1m}\u001b[0m\u001b[1m}\u001b[0m*m*x_G\u001b[1m)\u001b[0m           \u001b[1;36m3.569042e-07\u001b[0m\n",
       "\u001b[1;35mAbs\u001b[0m\u001b[1m(\u001b[0mY_\u001b[1m{\u001b[0m\\dot\u001b[1m{\u001b[0mr\u001b[1m}\u001b[0m\u001b[1m}\u001b[0m*m*x_G\u001b[1m)\u001b[0m           \u001b[1;36m3.569042e-07\u001b[0m\n",
       "dtype: float64"
      ]
     },
     "execution_count": 53,
     "metadata": {},
     "output_type": "execute_result"
    }
   ],
   "source": [
    "calculations"
   ]
  },
  {
   "cell_type": "code",
   "execution_count": 61,
   "id": "634fa67f-f60d-4227-8a67-67199c4a66db",
   "metadata": {},
   "outputs": [],
   "source": [
    "df_calulations = pd.DataFrame()\n",
    "df_calulations['value'] = calculations\n",
    "df_calulations['part'] =  pd.Series(df_calulations.index, index=df_calulations.index).apply(lambda x:f\"${sp.latex(x)}$\")\n",
    "df_calulations['magnitude'] = df_calulations['value'].apply(lambda x: np.sign(x)*10**np.floor(np.log10(abs(x))))"
   ]
  },
  {
   "cell_type": "code",
   "execution_count": 62,
   "id": "3e7f2b98-e68b-42b7-993b-bb767c69a176",
   "metadata": {},
   "outputs": [
    {
     "data": {
      "text/html": [
       "<pre style=\"white-space:pre;overflow-x:auto;line-height:normal;font-family:Menlo,'DejaVu Sans Mono',consolas,'Courier New',monospace\"></pre>\n"
      ],
      "text/plain": []
     },
     "metadata": {},
     "output_type": "display_data"
    },
    {
     "data": {
      "text/html": [
       "<div>\n",
       "<style scoped>\n",
       "    .dataframe tbody tr th:only-of-type {\n",
       "        vertical-align: middle;\n",
       "    }\n",
       "\n",
       "    .dataframe tbody tr th {\n",
       "        vertical-align: top;\n",
       "    }\n",
       "\n",
       "    .dataframe thead th {\n",
       "        text-align: right;\n",
       "    }\n",
       "</style>\n",
       "<table border=\"1\" class=\"dataframe\">\n",
       "  <thead>\n",
       "    <tr style=\"text-align: right;\">\n",
       "      <th></th>\n",
       "      <th>part</th>\n",
       "      <th>value</th>\n",
       "      <th>magnitude</th>\n",
       "    </tr>\n",
       "  </thead>\n",
       "  <tbody>\n",
       "    <tr>\n",
       "      <th>-Abs(I_z*Y_{\\dot{v}})</th>\n",
       "      <td>$- \\left|{I_{z} Y_{\\dot{v}}}\\right|$</td>\n",
       "      <td>-1.779705e-05</td>\n",
       "      <td>-1.000000e-05</td>\n",
       "    </tr>\n",
       "    <tr>\n",
       "      <th>-Abs(I_z*m)</th>\n",
       "      <td>$- \\left|{I_{z} m}\\right|$</td>\n",
       "      <td>-2.071602e-05</td>\n",
       "      <td>-1.000000e-05</td>\n",
       "    </tr>\n",
       "    <tr>\n",
       "      <th>-Abs(N_{\\dot{r}}*Y_{\\dot{v}})</th>\n",
       "      <td>$- \\left|{N_{\\dot{r}} Y_{\\dot{v}}}\\right|$</td>\n",
       "      <td>-1.124506e-05</td>\n",
       "      <td>-1.000000e-05</td>\n",
       "    </tr>\n",
       "    <tr>\n",
       "      <th>-Abs(N_{\\dot{r}}*m)</th>\n",
       "      <td>$- \\left|{N_{\\dot{r}} m}\\right|$</td>\n",
       "      <td>-1.308941e-05</td>\n",
       "      <td>-1.000000e-05</td>\n",
       "    </tr>\n",
       "    <tr>\n",
       "      <th>Abs(N_{\\dot{v}}*Y_{\\dot{r}})</th>\n",
       "      <td>$\\left|{N_{\\dot{v}} Y_{\\dot{r}}}\\right|$</td>\n",
       "      <td>2.883690e-07</td>\n",
       "      <td>1.000000e-07</td>\n",
       "    </tr>\n",
       "    <tr>\n",
       "      <th>Abs(m**2*x_G**2)</th>\n",
       "      <td>$\\left|{m^{2} x_{G}^{2}}\\right|$</td>\n",
       "      <td>4.417278e-07</td>\n",
       "      <td>1.000000e-07</td>\n",
       "    </tr>\n",
       "    <tr>\n",
       "      <th>Abs(N_{\\dot{v}}*m*x_G)</th>\n",
       "      <td>$\\left|{N_{\\dot{v}} m x_{G}}\\right|$</td>\n",
       "      <td>3.569042e-07</td>\n",
       "      <td>1.000000e-07</td>\n",
       "    </tr>\n",
       "    <tr>\n",
       "      <th>Abs(Y_{\\dot{r}}*m*x_G)</th>\n",
       "      <td>$\\left|{Y_{\\dot{r}} m x_{G}}\\right|$</td>\n",
       "      <td>3.569042e-07</td>\n",
       "      <td>1.000000e-07</td>\n",
       "    </tr>\n",
       "  </tbody>\n",
       "</table>\n",
       "</div>"
      ],
      "text/plain": [
       "\n",
       "                                                                     part  \\\n",
       "-\u001b[1;35mAbs\u001b[0m\u001b[1m(\u001b[0mI_z*Y_\u001b[1m{\u001b[0m\\dot\u001b[1m{\u001b[0mv\u001b[1m}\u001b[0m\u001b[1m}\u001b[0m\u001b[1m)\u001b[0m                $- \\left|\u001b[1m{\u001b[0mI_\u001b[1m{\u001b[0mz\u001b[1m}\u001b[0m Y_\u001b[1m{\u001b[0m\\dot\u001b[1m{\u001b[0mv\u001b[1m}\u001b[0m\u001b[1m}\u001b[0m\u001b[1m}\u001b[0m\\right|$   \n",
       "-\u001b[1;35mAbs\u001b[0m\u001b[1m(\u001b[0mI_z*m\u001b[1m)\u001b[0m                                    $- \\left|\u001b[1m{\u001b[0mI_\u001b[1m{\u001b[0mz\u001b[1m}\u001b[0m m\u001b[1m}\u001b[0m\\right|$   \n",
       "-\u001b[1;35mAbs\u001b[0m\u001b[1m(\u001b[0mN_\u001b[1m{\u001b[0m\\dot\u001b[1m{\u001b[0mr\u001b[1m}\u001b[0m\u001b[1m}\u001b[0m*Y_\u001b[1m{\u001b[0m\\dot\u001b[1m{\u001b[0mv\u001b[1m}\u001b[0m\u001b[1m}\u001b[0m\u001b[1m)\u001b[0m  $- \\left|\u001b[1m{\u001b[0mN_\u001b[1m{\u001b[0m\\dot\u001b[1m{\u001b[0mr\u001b[1m}\u001b[0m\u001b[1m}\u001b[0m Y_\u001b[1m{\u001b[0m\\dot\u001b[1m{\u001b[0mv\u001b[1m}\u001b[0m\u001b[1m}\u001b[0m\u001b[1m}\u001b[0m\\right|$   \n",
       "-\u001b[1;35mAbs\u001b[0m\u001b[1m(\u001b[0mN_\u001b[1m{\u001b[0m\\dot\u001b[1m{\u001b[0mr\u001b[1m}\u001b[0m\u001b[1m}\u001b[0m*m\u001b[1m)\u001b[0m                      $- \\left|\u001b[1m{\u001b[0mN_\u001b[1m{\u001b[0m\\dot\u001b[1m{\u001b[0mr\u001b[1m}\u001b[0m\u001b[1m}\u001b[0m m\u001b[1m}\u001b[0m\\right|$   \n",
       "\u001b[1;35mAbs\u001b[0m\u001b[1m(\u001b[0mN_\u001b[1m{\u001b[0m\\dot\u001b[1m{\u001b[0mv\u001b[1m}\u001b[0m\u001b[1m}\u001b[0m*Y_\u001b[1m{\u001b[0m\\dot\u001b[1m{\u001b[0mr\u001b[1m}\u001b[0m\u001b[1m}\u001b[0m\u001b[1m)\u001b[0m     $\\left|\u001b[1m{\u001b[0mN_\u001b[1m{\u001b[0m\\dot\u001b[1m{\u001b[0mv\u001b[1m}\u001b[0m\u001b[1m}\u001b[0m Y_\u001b[1m{\u001b[0m\\dot\u001b[1m{\u001b[0mr\u001b[1m}\u001b[0m\u001b[1m}\u001b[0m\u001b[1m}\u001b[0m\\right|$   \n",
       "\u001b[1;35mAbs\u001b[0m\u001b[1m(\u001b[0mm**\u001b[1;36m2\u001b[0m*x_G**\u001b[1;36m2\u001b[0m\u001b[1m)\u001b[0m                         $\\left|\u001b[1m{\u001b[0mm^\u001b[1m{\u001b[0m\u001b[1;36m2\u001b[0m\u001b[1m}\u001b[0m x_\u001b[1m{\u001b[0mG\u001b[1m}\u001b[0m^\u001b[1m{\u001b[0m\u001b[1;36m2\u001b[0m\u001b[1m}\u001b[0m\u001b[1m}\u001b[0m\\right|$   \n",
       "\u001b[1;35mAbs\u001b[0m\u001b[1m(\u001b[0mN_\u001b[1m{\u001b[0m\\dot\u001b[1m{\u001b[0mv\u001b[1m}\u001b[0m\u001b[1m}\u001b[0m*m*x_G\u001b[1m)\u001b[0m               $\\left|\u001b[1m{\u001b[0mN_\u001b[1m{\u001b[0m\\dot\u001b[1m{\u001b[0mv\u001b[1m}\u001b[0m\u001b[1m}\u001b[0m m x_\u001b[1m{\u001b[0mG\u001b[1m}\u001b[0m\u001b[1m}\u001b[0m\\right|$   \n",
       "\u001b[1;35mAbs\u001b[0m\u001b[1m(\u001b[0mY_\u001b[1m{\u001b[0m\\dot\u001b[1m{\u001b[0mr\u001b[1m}\u001b[0m\u001b[1m}\u001b[0m*m*x_G\u001b[1m)\u001b[0m               $\\left|\u001b[1m{\u001b[0mY_\u001b[1m{\u001b[0m\\dot\u001b[1m{\u001b[0mr\u001b[1m}\u001b[0m\u001b[1m}\u001b[0m m x_\u001b[1m{\u001b[0mG\u001b[1m}\u001b[0m\u001b[1m}\u001b[0m\\right|$   \n",
       "\n",
       "                                      value     magnitude  \n",
       "-\u001b[1;35mAbs\u001b[0m\u001b[1m(\u001b[0mI_z*Y_\u001b[1m{\u001b[0m\\dot\u001b[1m{\u001b[0mv\u001b[1m}\u001b[0m\u001b[1m}\u001b[0m\u001b[1m)\u001b[0m         \u001b[1;36m-1.779705e-05\u001b[0m \u001b[1;36m-1.000000e-05\u001b[0m  \n",
       "-\u001b[1;35mAbs\u001b[0m\u001b[1m(\u001b[0mI_z*m\u001b[1m)\u001b[0m                   \u001b[1;36m-2.071602e-05\u001b[0m \u001b[1;36m-1.000000e-05\u001b[0m  \n",
       "-\u001b[1;35mAbs\u001b[0m\u001b[1m(\u001b[0mN_\u001b[1m{\u001b[0m\\dot\u001b[1m{\u001b[0mr\u001b[1m}\u001b[0m\u001b[1m}\u001b[0m*Y_\u001b[1m{\u001b[0m\\dot\u001b[1m{\u001b[0mv\u001b[1m}\u001b[0m\u001b[1m}\u001b[0m\u001b[1m)\u001b[0m \u001b[1;36m-1.124506e-05\u001b[0m \u001b[1;36m-1.000000e-05\u001b[0m  \n",
       "-\u001b[1;35mAbs\u001b[0m\u001b[1m(\u001b[0mN_\u001b[1m{\u001b[0m\\dot\u001b[1m{\u001b[0mr\u001b[1m}\u001b[0m\u001b[1m}\u001b[0m*m\u001b[1m)\u001b[0m           \u001b[1;36m-1.308941e-05\u001b[0m \u001b[1;36m-1.000000e-05\u001b[0m  \n",
       "\u001b[1;35mAbs\u001b[0m\u001b[1m(\u001b[0mN_\u001b[1m{\u001b[0m\\dot\u001b[1m{\u001b[0mv\u001b[1m}\u001b[0m\u001b[1m}\u001b[0m*Y_\u001b[1m{\u001b[0m\\dot\u001b[1m{\u001b[0mr\u001b[1m}\u001b[0m\u001b[1m}\u001b[0m\u001b[1m)\u001b[0m   \u001b[1;36m2.883690e-07\u001b[0m  \u001b[1;36m1.000000e-07\u001b[0m  \n",
       "\u001b[1;35mAbs\u001b[0m\u001b[1m(\u001b[0mm**\u001b[1;36m2\u001b[0m*x_G**\u001b[1;36m2\u001b[0m\u001b[1m)\u001b[0m               \u001b[1;36m4.417278e-07\u001b[0m  \u001b[1;36m1.000000e-07\u001b[0m  \n",
       "\u001b[1;35mAbs\u001b[0m\u001b[1m(\u001b[0mN_\u001b[1m{\u001b[0m\\dot\u001b[1m{\u001b[0mv\u001b[1m}\u001b[0m\u001b[1m}\u001b[0m*m*x_G\u001b[1m)\u001b[0m         \u001b[1;36m3.569042e-07\u001b[0m  \u001b[1;36m1.000000e-07\u001b[0m  \n",
       "\u001b[1;35mAbs\u001b[0m\u001b[1m(\u001b[0mY_\u001b[1m{\u001b[0m\\dot\u001b[1m{\u001b[0mr\u001b[1m}\u001b[0m\u001b[1m}\u001b[0m*m*x_G\u001b[1m)\u001b[0m         \u001b[1;36m3.569042e-07\u001b[0m  \u001b[1;36m1.000000e-07\u001b[0m  "
      ]
     },
     "execution_count": 62,
     "metadata": {},
     "output_type": "execute_result"
    }
   ],
   "source": [
    "df_calulations[['part','value','magnitude']]"
   ]
  },
  {
   "cell_type": "code",
   "execution_count": 63,
   "id": "7f7713da-11c7-4374-9200-d94a2965fdef",
   "metadata": {},
   "outputs": [],
   "source": [
    "df_calulations[['part','magnitude']].to_csv(paper.file_path_with_nb_ref(\"determinant.csv\", directory='tables'), index=False)"
   ]
  },
  {
   "cell_type": "code",
   "execution_count": null,
   "id": "f14cd376-dcad-4ba0-b9d4-fce65a5cf1d3",
   "metadata": {},
   "outputs": [],
   "source": []
  },
  {
   "cell_type": "code",
   "execution_count": null,
   "id": "af4421be-e1c6-4f35-99b0-2276eb12bae4",
   "metadata": {},
   "outputs": [],
   "source": []
  },
  {
   "cell_type": "code",
   "execution_count": 60,
   "id": "b7aba984-de34-4362-9221-81337393f267",
   "metadata": {},
   "outputs": [
    {
     "data": {
      "text/html": [
       "<pre style=\"white-space:pre;overflow-x:auto;line-height:normal;font-family:Menlo,'DejaVu Sans Mono',consolas,'Courier New',monospace\"></pre>\n"
      ],
      "text/plain": []
     },
     "metadata": {},
     "output_type": "display_data"
    },
    {
     "data": {
      "text/plain": [
       "\n",
       "-\u001b[1;35mAbs\u001b[0m\u001b[1m(\u001b[0mI_z*Y_\u001b[1m{\u001b[0m\\dot\u001b[1m{\u001b[0mv\u001b[1m}\u001b[0m\u001b[1m}\u001b[0m\u001b[1m)\u001b[0m           \u001b[1;36m-1.000000e-05\u001b[0m\n",
       "-\u001b[1;35mAbs\u001b[0m\u001b[1m(\u001b[0mI_z*m\u001b[1m)\u001b[0m                     \u001b[1;36m-1.000000e-05\u001b[0m\n",
       "-\u001b[1;35mAbs\u001b[0m\u001b[1m(\u001b[0mN_\u001b[1m{\u001b[0m\\dot\u001b[1m{\u001b[0mr\u001b[1m}\u001b[0m\u001b[1m}\u001b[0m*Y_\u001b[1m{\u001b[0m\\dot\u001b[1m{\u001b[0mv\u001b[1m}\u001b[0m\u001b[1m}\u001b[0m\u001b[1m)\u001b[0m   \u001b[1;36m-1.000000e-05\u001b[0m\n",
       "-\u001b[1;35mAbs\u001b[0m\u001b[1m(\u001b[0mN_\u001b[1m{\u001b[0m\\dot\u001b[1m{\u001b[0mr\u001b[1m}\u001b[0m\u001b[1m}\u001b[0m*m\u001b[1m)\u001b[0m             \u001b[1;36m-1.000000e-05\u001b[0m\n",
       "\u001b[1;35mAbs\u001b[0m\u001b[1m(\u001b[0mN_\u001b[1m{\u001b[0m\\dot\u001b[1m{\u001b[0mv\u001b[1m}\u001b[0m\u001b[1m}\u001b[0m*Y_\u001b[1m{\u001b[0m\\dot\u001b[1m{\u001b[0mr\u001b[1m}\u001b[0m\u001b[1m}\u001b[0m\u001b[1m)\u001b[0m     \u001b[1;36m1.000000e-07\u001b[0m\n",
       "\u001b[1;35mAbs\u001b[0m\u001b[1m(\u001b[0mm**\u001b[1;36m2\u001b[0m*x_G**\u001b[1;36m2\u001b[0m\u001b[1m)\u001b[0m                 \u001b[1;36m1.000000e-07\u001b[0m\n",
       "\u001b[1;35mAbs\u001b[0m\u001b[1m(\u001b[0mN_\u001b[1m{\u001b[0m\\dot\u001b[1m{\u001b[0mv\u001b[1m}\u001b[0m\u001b[1m}\u001b[0m*m*x_G\u001b[1m)\u001b[0m           \u001b[1;36m1.000000e-07\u001b[0m\n",
       "\u001b[1;35mAbs\u001b[0m\u001b[1m(\u001b[0mY_\u001b[1m{\u001b[0m\\dot\u001b[1m{\u001b[0mr\u001b[1m}\u001b[0m\u001b[1m}\u001b[0m*m*x_G\u001b[1m)\u001b[0m           \u001b[1;36m1.000000e-07\u001b[0m\n",
       "Name: value, dtype: float64"
      ]
     },
     "execution_count": 60,
     "metadata": {},
     "output_type": "execute_result"
    }
   ],
   "source": [
    "df_calulations['value'].apply(lambda x: np.sign(x)*10**np.floor(np.log10(abs(x))))"
   ]
  },
  {
   "cell_type": "code",
   "execution_count": null,
   "id": "25f59d17-1203-45cf-8f85-2e85ac2d9033",
   "metadata": {},
   "outputs": [],
   "source": [
    "eq_det = Eq(det,0)\n",
    "eq_det = Eq(eq_det.lhs+I_z*m,eq_det.rhs+I_z*m)\n",
    "eq_det = Eq(eq_det.lhs+p.Nrdot*p.Yvdot,eq_det.rhs+p.Nrdot*p.Yvdot)\n",
    "eq_det = Eq(eq_det.lhs+p.Nvdot*m*x_G,eq_det.rhs+p.Nvdot*m*x_G)\n",
    "eq_det = Eq(eq_det.lhs+p.Yrdot*m*x_G,eq_det.rhs+p.Yrdot*m*x_G)\n"
   ]
  },
  {
   "cell_type": "code",
   "execution_count": null,
   "id": "d20f7d3e-2a0d-48a8-b63f-79e05e63789f",
   "metadata": {},
   "outputs": [],
   "source": [
    "eq_det"
   ]
  },
  {
   "cell_type": "code",
   "execution_count": null,
   "id": "5da0937e-f535-490a-802a-b179bf692f46",
   "metadata": {},
   "outputs": [],
   "source": [
    "det.args"
   ]
  },
  {
   "cell_type": "code",
   "execution_count": null,
   "id": "23d6df68-f734-454a-990e-bbb16ff844ff",
   "metadata": {},
   "outputs": [],
   "source": [
    "parts_sign = []\n",
    "\n",
    "for arg in det.args:\n",
    "    if sp.sign(arg) == 1:\n",
    "        parts_sign.append(sp.Abs(arg))\n",
    "    else:\n",
    "        parts_sign.append(-sp.Abs(arg))"
   ]
  },
  {
   "cell_type": "code",
   "execution_count": null,
   "id": "84566f18-35bb-48dc-ac20-a16d84cfa56b",
   "metadata": {},
   "outputs": [],
   "source": [
    "sp.Abs(sp.Symbol(p.Yvdot.name))"
   ]
  },
  {
   "cell_type": "code",
   "execution_count": null,
   "id": "b4afff17-66e6-4454-8de2-4aaf1ff96b9e",
   "metadata": {},
   "outputs": [],
   "source": [
    "sp.simplify(sp.Abs(sp.symbols('l'))*sp.Abs(sp.symbols('k')))"
   ]
  },
  {
   "cell_type": "code",
   "execution_count": null,
   "id": "bfe5fa03-0f29-4d3c-b4a4-ababb2b693a4",
   "metadata": {},
   "outputs": [],
   "source": [
    "sub_python = {value:key for key,value in p.items()}"
   ]
  },
  {
   "cell_type": "code",
   "execution_count": null,
   "id": "b55cdddb-fd00-457f-a497-e5021041e728",
   "metadata": {},
   "outputs": [],
   "source": [
    "calculations_lhs = {}\n",
    "\n",
    "for part in eq_det.lhs.args:\n",
    "    calculations_lhs[part] = run(lambdify(part.subs(sub_python)),parameters) \n",
    "\n",
    "calculations_lhs = pd.Series(calculations_lhs)"
   ]
  },
  {
   "cell_type": "code",
   "execution_count": null,
   "id": "87220af3-ebb0-4751-931a-75182589e897",
   "metadata": {},
   "outputs": [],
   "source": [
    "calculations_rhs = {}\n",
    "\n",
    "for part in eq_det.rhs.args:\n",
    "    calculations_rhs[part] = run(lambdify(part.subs(sub_python)),parameters) \n",
    "\n",
    "calculations_rhs = pd.Series(calculations_rhs)"
   ]
  },
  {
   "cell_type": "code",
   "execution_count": null,
   "id": "668a044d-108c-4659-80d6-87ca6d302895",
   "metadata": {},
   "outputs": [],
   "source": [
    "df_calulations_lhs = pd.DataFrame()\n",
    "df_calulations_lhs['value'] = calculations_lhs\n",
    "df_calulations_lhs['side'] = 'LHS'\n",
    "\n",
    "df_calulations_rhs = pd.DataFrame()\n",
    "df_calulations_rhs['value'] = calculations_rhs\n",
    "df_calulations_rhs['side'] = 'RHS'\n"
   ]
  },
  {
   "cell_type": "code",
   "execution_count": null,
   "id": "7cddcf51-cb48-4f30-8b29-7fd4afdebb22",
   "metadata": {},
   "outputs": [],
   "source": [
    "df_calulations = pd.concat((df_calulations_lhs,df_calulations_rhs),axis=0)\n",
    "df_calulations['abs(value)'] = df_calulations['value'].abs()\n",
    "df_calulations['sign'] = np.sign(df_calulations['value'])\n",
    "df_calulations['sign'] = df_calulations['sign'].astype(int)\n",
    "df_calulations.sort_values(by='abs(value)', ascending=False, inplace=True)\n",
    "df_calulations['exponent'] = df_calulations['value'].apply(lambda x: int(np.floor(np.log10(abs(x)))))\n",
    "df_calulations['part'] =  pd.Series(df_calulations.index, index=df_calulations.index).apply(lambda x:f\"${sp.latex(x)}$\")"
   ]
  },
  {
   "cell_type": "code",
   "execution_count": null,
   "id": "e9dac26d-97e1-480a-8576-823b101962c5",
   "metadata": {},
   "outputs": [],
   "source": [
    "df_calulations"
   ]
  },
  {
   "cell_type": "code",
   "execution_count": null,
   "id": "7a656b79-d6c6-4a98-b841-7fc4a4b78dca",
   "metadata": {},
   "outputs": [],
   "source": [
    "df_calulations[['part','sign','exponent']]"
   ]
  },
  {
   "cell_type": "code",
   "execution_count": null,
   "id": "8a495e39-49d5-4f4a-b4fe-388d3132870c",
   "metadata": {},
   "outputs": [],
   "source": [
    "df_calulations[['part','sign','exponent']].to_csv(paper.file_path_with_nb_ref(\"determinant.csv\", directory='tables'), index=False)"
   ]
  },
  {
   "cell_type": "code",
   "execution_count": null,
   "id": "8958534c-ab7e-4719-b279-f9927ed0ec7c",
   "metadata": {},
   "outputs": [],
   "source": [
    "M_.inv()"
   ]
  },
  {
   "cell_type": "code",
   "execution_count": null,
   "id": "123eba6d-2fd3-4c7e-8325-f6fcf9a5c8ac",
   "metadata": {},
   "outputs": [],
   "source": [
    "-M_[1:,1:].det()"
   ]
  },
  {
   "cell_type": "code",
   "execution_count": null,
   "id": "03df5faa-fa51-4c79-8cd4-ff6ff51d5661",
   "metadata": {},
   "outputs": [],
   "source": []
  },
  {
   "cell_type": "code",
   "execution_count": null,
   "id": "2306c33d-e595-4ca9-8f2b-a4b8ae1e6c8d",
   "metadata": {},
   "outputs": [],
   "source": []
  }
 ],
 "metadata": {
  "kernelspec": {
   "display_name": "Kedro (phd)",
   "language": "python",
   "name": "kedro_phd"
  },
  "language_info": {
   "codemirror_mode": {
    "name": "ipython",
    "version": 3
   },
   "file_extension": ".py",
   "mimetype": "text/x-python",
   "name": "python",
   "nbconvert_exporter": "python",
   "pygments_lexer": "ipython3",
   "version": "3.10.0"
  }
 },
 "nbformat": 4,
 "nbformat_minor": 5
}
