{
 "cells": [
  {
   "cell_type": "markdown",
   "id": "85c9260d-35e7-416e-a3ea-d38a47731972",
   "metadata": {},
   "source": [
    "# Mathematical model MMG modified quadratic"
   ]
  },
  {
   "cell_type": "code",
   "execution_count": 2,
   "id": "126d6f87-6cda-4b3c-8eea-53a3bbca9f33",
   "metadata": {},
   "outputs": [],
   "source": [
    "#import warnings\n",
    "#warnings.filterwarnings('ignore')\n",
    "%matplotlib inline\n",
    "%load_ext autoreload\n",
    "%autoreload 2\n",
    "%config Completer.use_jedi = False"
   ]
  },
  {
   "cell_type": "code",
   "execution_count": 3,
   "id": "32a0204f-c11a-40f8-91ed-7773ccf318bf",
   "metadata": {},
   "outputs": [],
   "source": [
    "import pandas as pd\n",
    "pd.set_option('display.max_rows', 5000)\n",
    "pd.set_option('display.max_columns', 5000)\n",
    "pd.set_option('display.width', 10000)\n",
    "pd.set_option('max_colwidth', 10000)\n",
    "import numpy as np\n",
    "import yaml\n",
    "\n",
    "from vessel_manoeuvring_models.visualization.plot import track_plot, plot\n",
    "from phd.visualization.plot_ship import track_plots\n",
    "from vessel_manoeuvring_models.prime_system import PrimeSystem\n",
    "from phd.visualization.plot_prediction import plot_total_force, plot_force_components, predict, plot_compare_model_forces, plot_parameter_contributions\n",
    "#from phd.visualization.bokeh_plotting import create_tab\n",
    "from vessel_manoeuvring_models.symbols import *\n",
    "import matplotlib.pyplot as plt\n",
    "from vessel_manoeuvring_models.substitute_dynamic_symbols import run, lambdify, remove_functions, prime\n",
    "from vessel_manoeuvring_models.parameters import df_parameters\n",
    "p = df_parameters[\"symbol\"]\n",
    "import statsmodels.api as sm\n",
    "import sympy as sp\n",
    "from sympy import Eq, symbols, latex\n",
    "import paper\n",
    "from paper import save_fig, save_eq\n",
    "import vessel_manoeuvring_models\n",
    "import re\n",
    "import os"
   ]
  },
  {
   "cell_type": "code",
   "execution_count": 4,
   "id": "0b20a13f-48c7-469b-8bce-73f2655d0333",
   "metadata": {},
   "outputs": [
    {
     "data": {
      "text/html": [
       "<pre style=\"white-space:pre;overflow-x:auto;line-height:normal;font-family:Menlo,'DejaVu Sans Mono',consolas,'Courier New',monospace\"><span style=\"color: #7fbfbf; text-decoration-color: #7fbfbf\">[12/10/24 08:45:20] </span><span style=\"color: #000080; text-decoration-color: #000080\">INFO    </span> Loading data from <span style=\"color: #008000; text-decoration-color: #008000\">'optiwise.ship_data'</span> <span style=\"font-weight: bold\">(</span>YAMLDataSet<span style=\"font-weight: bold\">)</span><span style=\"color: #808000; text-decoration-color: #808000\">...</span>            <a href=\"file:///home/maa/miniconda3/envs/phd/lib/python3.10/site-packages/kedro/io/data_catalog.py\" target=\"_blank\"><span style=\"color: #7f7f7f; text-decoration-color: #7f7f7f\">data_catalog.py</span></a><span style=\"color: #7f7f7f; text-decoration-color: #7f7f7f\">:</span><a href=\"file:///home/maa/miniconda3/envs/phd/lib/python3.10/site-packages/kedro/io/data_catalog.py#502\" target=\"_blank\"><span style=\"color: #7f7f7f; text-decoration-color: #7f7f7f\">502</span></a>\n",
       "</pre>\n"
      ],
      "text/plain": [
       "\u001b[2;36m[12/10/24 08:45:20]\u001b[0m\u001b[2;36m \u001b[0m\u001b[34mINFO    \u001b[0m Loading data from \u001b[32m'optiwise.ship_data'\u001b[0m \u001b[1m(\u001b[0mYAMLDataSet\u001b[1m)\u001b[0m\u001b[33m...\u001b[0m            \u001b]8;id=297991;file:///home/maa/miniconda3/envs/phd/lib/python3.10/site-packages/kedro/io/data_catalog.py\u001b\\\u001b[2mdata_catalog.py\u001b[0m\u001b]8;;\u001b\\\u001b[2m:\u001b[0m\u001b]8;id=273970;file:///home/maa/miniconda3/envs/phd/lib/python3.10/site-packages/kedro/io/data_catalog.py#502\u001b\\\u001b[2m502\u001b[0m\u001b]8;;\u001b\\\n"
      ]
     },
     "metadata": {},
     "output_type": "display_data"
    }
   ],
   "source": [
    "#%reload_kedro\n",
    "ship_name='optiwise'\n",
    "ship_data = catalog.load(f\"{ship_name}.ship_data\")\n",
    "#model_loaders = \"semiempirical rudder\" : catalog.load(f\"{ship}.models_VCT_MDL\")['semiempirical_covered_inertia'],\n",
    "#models_rudder_VCT_loaders = catalog.load(f\"{ship}.models_rudder_VCT\")"
   ]
  },
  {
   "cell_type": "code",
   "execution_count": 5,
   "id": "3756a84c-6388-40a2-8a93-1b3ff0da97b0",
   "metadata": {},
   "outputs": [
    {
     "data": {
      "text/html": [
       "<pre style=\"white-space:pre;overflow-x:auto;line-height:normal;font-family:Menlo,'DejaVu Sans Mono',consolas,'Courier New',monospace\"><span style=\"color: #7fbfbf; text-decoration-color: #7fbfbf\">                    </span><span style=\"color: #800000; text-decoration-color: #800000\">WARNING </span> <span style=\"color: #800080; text-decoration-color: #800080\">/home/maa/miniconda3/envs/phd/lib/python3.10/site-packages/kedro/io/</span><span style=\"color: #ff00ff; text-decoration-color: #ff00ff\">pa</span> <a href=\"file:///home/maa/miniconda3/envs/phd/lib/python3.10/warnings.py\" target=\"_blank\"><span style=\"color: #7f7f7f; text-decoration-color: #7f7f7f\">warnings.py</span></a><span style=\"color: #7f7f7f; text-decoration-color: #7f7f7f\">:</span><a href=\"file:///home/maa/miniconda3/envs/phd/lib/python3.10/warnings.py#109\" target=\"_blank\"><span style=\"color: #7f7f7f; text-decoration-color: #7f7f7f\">109</span></a>\n",
       "<span style=\"color: #7fbfbf; text-decoration-color: #7fbfbf\">                    </span>         <span style=\"color: #ff00ff; text-decoration-color: #ff00ff\">rtitioned_dataset.py</span>:<span style=\"color: #008080; text-decoration-color: #008080; font-weight: bold\">200</span>: KedroDeprecationWarning:                     <span style=\"color: #7f7f7f; text-decoration-color: #7f7f7f\">               </span>\n",
       "<span style=\"color: #7fbfbf; text-decoration-color: #7fbfbf\">                    </span>         <span style=\"color: #008000; text-decoration-color: #008000\">'PartitionedDataset'</span> has been moved to `kedro-datasets` and will be    <span style=\"color: #7f7f7f; text-decoration-color: #7f7f7f\">               </span>\n",
       "<span style=\"color: #7fbfbf; text-decoration-color: #7fbfbf\">                    </span>         removed in Kedro <span style=\"color: #008080; text-decoration-color: #008080; font-weight: bold\">0.19</span>.<span style=\"color: #008080; text-decoration-color: #008080; font-weight: bold\">0</span>.                                               <span style=\"color: #7f7f7f; text-decoration-color: #7f7f7f\">               </span>\n",
       "<span style=\"color: #7fbfbf; text-decoration-color: #7fbfbf\">                    </span>           <span style=\"color: #800080; text-decoration-color: #800080; font-weight: bold\">warnings.warn</span><span style=\"font-weight: bold\">(</span>                                                       <span style=\"color: #7f7f7f; text-decoration-color: #7f7f7f\">               </span>\n",
       "<span style=\"color: #7fbfbf; text-decoration-color: #7fbfbf\">                    </span>                                                                                <span style=\"color: #7f7f7f; text-decoration-color: #7f7f7f\">               </span>\n",
       "</pre>\n"
      ],
      "text/plain": [
       "\u001b[2;36m                   \u001b[0m\u001b[2;36m \u001b[0m\u001b[31mWARNING \u001b[0m \u001b[35m/home/maa/miniconda3/envs/phd/lib/python3.10/site-packages/kedro/io/\u001b[0m\u001b[95mpa\u001b[0m \u001b]8;id=312552;file:///home/maa/miniconda3/envs/phd/lib/python3.10/warnings.py\u001b\\\u001b[2mwarnings.py\u001b[0m\u001b]8;;\u001b\\\u001b[2m:\u001b[0m\u001b]8;id=616170;file:///home/maa/miniconda3/envs/phd/lib/python3.10/warnings.py#109\u001b\\\u001b[2m109\u001b[0m\u001b]8;;\u001b\\\n",
       "\u001b[2;36m                    \u001b[0m         \u001b[95mrtitioned_dataset.py\u001b[0m:\u001b[1;36m200\u001b[0m: KedroDeprecationWarning:                     \u001b[2m               \u001b[0m\n",
       "\u001b[2;36m                    \u001b[0m         \u001b[32m'PartitionedDataset'\u001b[0m has been moved to `kedro-datasets` and will be    \u001b[2m               \u001b[0m\n",
       "\u001b[2;36m                    \u001b[0m         removed in Kedro \u001b[1;36m0.19\u001b[0m.\u001b[1;36m0\u001b[0m.                                               \u001b[2m               \u001b[0m\n",
       "\u001b[2;36m                    \u001b[0m           \u001b[1;35mwarnings.warn\u001b[0m\u001b[1m(\u001b[0m                                                       \u001b[2m               \u001b[0m\n",
       "\u001b[2;36m                    \u001b[0m                                                                                \u001b[2m               \u001b[0m\n"
      ]
     },
     "metadata": {},
     "output_type": "display_data"
    },
    {
     "data": {
      "text/html": [
       "<pre style=\"white-space:pre;overflow-x:auto;line-height:normal;font-family:Menlo,'DejaVu Sans Mono',consolas,'Courier New',monospace\"><span style=\"color: #7fbfbf; text-decoration-color: #7fbfbf\">                    </span><span style=\"color: #800000; text-decoration-color: #800000\">WARNING </span> <span style=\"color: #800080; text-decoration-color: #800080\">/home/maa/miniconda3/envs/phd/lib/python3.10/site-packages/kedro/io/</span><span style=\"color: #ff00ff; text-decoration-color: #ff00ff\">__</span> <a href=\"file:///home/maa/miniconda3/envs/phd/lib/python3.10/warnings.py\" target=\"_blank\"><span style=\"color: #7f7f7f; text-decoration-color: #7f7f7f\">warnings.py</span></a><span style=\"color: #7f7f7f; text-decoration-color: #7f7f7f\">:</span><a href=\"file:///home/maa/miniconda3/envs/phd/lib/python3.10/warnings.py#109\" target=\"_blank\"><span style=\"color: #7f7f7f; text-decoration-color: #7f7f7f\">109</span></a>\n",
       "<span style=\"color: #7fbfbf; text-decoration-color: #7fbfbf\">                    </span>         <span style=\"color: #ff00ff; text-decoration-color: #ff00ff\">init__.py</span>:<span style=\"color: #008080; text-decoration-color: #008080; font-weight: bold\">44</span>: KedroDeprecationWarning: <span style=\"color: #008000; text-decoration-color: #008000\">'AbstractDataSet'</span> has been      <span style=\"color: #7f7f7f; text-decoration-color: #7f7f7f\">               </span>\n",
       "<span style=\"color: #7fbfbf; text-decoration-color: #7fbfbf\">                    </span>         renamed to <span style=\"color: #008000; text-decoration-color: #008000\">'AbstractDataset'</span>, and the alias will be removed in Kedro   <span style=\"color: #7f7f7f; text-decoration-color: #7f7f7f\">               </span>\n",
       "<span style=\"color: #7fbfbf; text-decoration-color: #7fbfbf\">                    </span>         <span style=\"color: #008080; text-decoration-color: #008080; font-weight: bold\">0.19</span>.<span style=\"color: #008080; text-decoration-color: #008080; font-weight: bold\">0</span>                                                                 <span style=\"color: #7f7f7f; text-decoration-color: #7f7f7f\">               </span>\n",
       "<span style=\"color: #7fbfbf; text-decoration-color: #7fbfbf\">                    </span>           return <span style=\"color: #800080; text-decoration-color: #800080; font-weight: bold\">getattr</span><span style=\"font-weight: bold\">(</span>kedro.io.core, name<span style=\"font-weight: bold\">)</span>                                  <span style=\"color: #7f7f7f; text-decoration-color: #7f7f7f\">               </span>\n",
       "<span style=\"color: #7fbfbf; text-decoration-color: #7fbfbf\">                    </span>                                                                                <span style=\"color: #7f7f7f; text-decoration-color: #7f7f7f\">               </span>\n",
       "</pre>\n"
      ],
      "text/plain": [
       "\u001b[2;36m                   \u001b[0m\u001b[2;36m \u001b[0m\u001b[31mWARNING \u001b[0m \u001b[35m/home/maa/miniconda3/envs/phd/lib/python3.10/site-packages/kedro/io/\u001b[0m\u001b[95m__\u001b[0m \u001b]8;id=764716;file:///home/maa/miniconda3/envs/phd/lib/python3.10/warnings.py\u001b\\\u001b[2mwarnings.py\u001b[0m\u001b]8;;\u001b\\\u001b[2m:\u001b[0m\u001b]8;id=314792;file:///home/maa/miniconda3/envs/phd/lib/python3.10/warnings.py#109\u001b\\\u001b[2m109\u001b[0m\u001b]8;;\u001b\\\n",
       "\u001b[2;36m                    \u001b[0m         \u001b[95minit__.py\u001b[0m:\u001b[1;36m44\u001b[0m: KedroDeprecationWarning: \u001b[32m'AbstractDataSet'\u001b[0m has been      \u001b[2m               \u001b[0m\n",
       "\u001b[2;36m                    \u001b[0m         renamed to \u001b[32m'AbstractDataset'\u001b[0m, and the alias will be removed in Kedro   \u001b[2m               \u001b[0m\n",
       "\u001b[2;36m                    \u001b[0m         \u001b[1;36m0.19\u001b[0m.\u001b[1;36m0\u001b[0m                                                                 \u001b[2m               \u001b[0m\n",
       "\u001b[2;36m                    \u001b[0m           return \u001b[1;35mgetattr\u001b[0m\u001b[1m(\u001b[0mkedro.io.core, name\u001b[1m)\u001b[0m                                  \u001b[2m               \u001b[0m\n",
       "\u001b[2;36m                    \u001b[0m                                                                                \u001b[2m               \u001b[0m\n"
      ]
     },
     "metadata": {},
     "output_type": "display_data"
    },
    {
     "data": {
      "text/html": [
       "<pre style=\"white-space:pre;overflow-x:auto;line-height:normal;font-family:Menlo,'DejaVu Sans Mono',consolas,'Courier New',monospace\"><span style=\"color: #7fbfbf; text-decoration-color: #7fbfbf\">                    </span><span style=\"color: #000080; text-decoration-color: #000080\">INFO    </span> Loading data from <span style=\"color: #008000; text-decoration-color: #008000\">'optiwise.models_VCT_MMG_rudder_MDL'</span>             <a href=\"file:///home/maa/miniconda3/envs/phd/lib/python3.10/site-packages/kedro/io/data_catalog.py\" target=\"_blank\"><span style=\"color: #7f7f7f; text-decoration-color: #7f7f7f\">data_catalog.py</span></a><span style=\"color: #7f7f7f; text-decoration-color: #7f7f7f\">:</span><a href=\"file:///home/maa/miniconda3/envs/phd/lib/python3.10/site-packages/kedro/io/data_catalog.py#502\" target=\"_blank\"><span style=\"color: #7f7f7f; text-decoration-color: #7f7f7f\">502</span></a>\n",
       "<span style=\"color: #7fbfbf; text-decoration-color: #7fbfbf\">                    </span>         <span style=\"font-weight: bold\">(</span>PartitionedDataset<span style=\"font-weight: bold\">)</span><span style=\"color: #808000; text-decoration-color: #808000\">...</span>                                            <span style=\"color: #7f7f7f; text-decoration-color: #7f7f7f\">                   </span>\n",
       "</pre>\n"
      ],
      "text/plain": [
       "\u001b[2;36m                   \u001b[0m\u001b[2;36m \u001b[0m\u001b[34mINFO    \u001b[0m Loading data from \u001b[32m'optiwise.models_VCT_MMG_rudder_MDL'\u001b[0m             \u001b]8;id=98145;file:///home/maa/miniconda3/envs/phd/lib/python3.10/site-packages/kedro/io/data_catalog.py\u001b\\\u001b[2mdata_catalog.py\u001b[0m\u001b]8;;\u001b\\\u001b[2m:\u001b[0m\u001b]8;id=902616;file:///home/maa/miniconda3/envs/phd/lib/python3.10/site-packages/kedro/io/data_catalog.py#502\u001b\\\u001b[2m502\u001b[0m\u001b]8;;\u001b\\\n",
       "\u001b[2;36m                    \u001b[0m         \u001b[1m(\u001b[0mPartitionedDataset\u001b[1m)\u001b[0m\u001b[33m...\u001b[0m                                            \u001b[2m                   \u001b[0m\n"
      ]
     },
     "metadata": {},
     "output_type": "display_data"
    }
   ],
   "source": [
    "model = catalog.load(f\"{ship_name}.models_VCT_MMG_rudder_MDL\")[\"quadratic\"]()"
   ]
  },
  {
   "cell_type": "markdown",
   "id": "57c32cb4-eb35-4ee1-b1b2-e0e04e6bd81d",
   "metadata": {},
   "source": [
    "## Modified quadratic rudder model"
   ]
  },
  {
   "cell_type": "code",
   "execution_count": 6,
   "id": "e929b3cb-b243-45ea-9464-b63fa883a313",
   "metadata": {},
   "outputs": [],
   "source": [
    "rudder = model.subsystems['rudder']\n",
    "#rudder.equations['r_p_port'] = rudder.equations['r_p_port'].subs('r_p_port','r_x_port')"
   ]
  },
  {
   "cell_type": "code",
   "execution_count": 7,
   "id": "6523e368-9596-485f-b5dd-d4f6102ba540",
   "metadata": {},
   "outputs": [],
   "source": [
    "keys = list(rudder.equations.keys())\n",
    "keys.reverse()"
   ]
  },
  {
   "cell_type": "code",
   "execution_count": 8,
   "id": "b22451be-aad2-411c-91e7-8b99899213d5",
   "metadata": {
    "collapsed": true,
    "jupyter": {
     "outputs_hidden": true
    }
   },
   "outputs": [
    {
     "data": {
      "text/html": [
       "<pre style=\"white-space:pre;overflow-x:auto;line-height:normal;font-family:Menlo,'DejaVu Sans Mono',consolas,'Courier New',monospace\"></pre>\n"
      ],
      "text/plain": []
     },
     "metadata": {},
     "output_type": "display_data"
    },
    {
     "data": {
      "text/html": [
       "mathematical_model_kinetics.N_R_semiempirical"
      ],
      "text/plain": [
       "\u001b[1m<\u001b[0m\u001b[1;95mIPython.core.display.HTML\u001b[0m\u001b[39m object\u001b[0m\u001b[1m>\u001b[0m"
      ]
     },
     "metadata": {},
     "output_type": "display_data"
    },
    {
     "data": {
      "text/html": [
       "<pre style=\"white-space:pre;overflow-x:auto;line-height:normal;font-family:Menlo,'DejaVu Sans Mono',consolas,'Courier New',monospace\"></pre>\n"
      ],
      "text/plain": []
     },
     "metadata": {},
     "output_type": "display_data"
    },
    {
     "data": {
      "text/latex": [
       "$\\displaystyle N_{R} = Y_{R} x_{r}$"
      ],
      "text/plain": [
       "\u001b[1m<\u001b[0m\u001b[1;95mIPython.core.display.Math\u001b[0m\u001b[39m object\u001b[0m\u001b[1m>\u001b[0m"
      ]
     },
     "metadata": {},
     "output_type": "display_data"
    },
    {
     "data": {
      "text/html": [
       "<pre style=\"white-space:pre;overflow-x:auto;line-height:normal;font-family:Menlo,'DejaVu Sans Mono',consolas,'Courier New',monospace\"></pre>\n"
      ],
      "text/plain": []
     },
     "metadata": {},
     "output_type": "display_data"
    },
    {
     "data": {
      "text/html": [
       "<br>"
      ],
      "text/plain": [
       "\u001b[1m<\u001b[0m\u001b[1;95mIPython.core.display.HTML\u001b[0m\u001b[39m object\u001b[0m\u001b[1m>\u001b[0m"
      ]
     },
     "metadata": {},
     "output_type": "display_data"
    },
    {
     "data": {
      "text/html": [
       "<pre style=\"white-space:pre;overflow-x:auto;line-height:normal;font-family:Menlo,'DejaVu Sans Mono',consolas,'Courier New',monospace\"></pre>\n"
      ],
      "text/plain": []
     },
     "metadata": {},
     "output_type": "display_data"
    },
    {
     "data": {
      "text/html": [
       "mathematical_model_kinetics.Y_R_semiempirical"
      ],
      "text/plain": [
       "\u001b[1m<\u001b[0m\u001b[1;95mIPython.core.display.HTML\u001b[0m\u001b[39m object\u001b[0m\u001b[1m>\u001b[0m"
      ]
     },
     "metadata": {},
     "output_type": "display_data"
    },
    {
     "data": {
      "text/html": [
       "<pre style=\"white-space:pre;overflow-x:auto;line-height:normal;font-family:Menlo,'DejaVu Sans Mono',consolas,'Courier New',monospace\"></pre>\n"
      ],
      "text/plain": []
     },
     "metadata": {},
     "output_type": "display_data"
    },
    {
     "data": {
      "text/latex": [
       "$\\displaystyle Y_{R} = - F_{N} \\cos{\\left(\\delta \\right)}$"
      ],
      "text/plain": [
       "\u001b[1m<\u001b[0m\u001b[1;95mIPython.core.display.Math\u001b[0m\u001b[39m object\u001b[0m\u001b[1m>\u001b[0m"
      ]
     },
     "metadata": {},
     "output_type": "display_data"
    },
    {
     "data": {
      "text/html": [
       "<pre style=\"white-space:pre;overflow-x:auto;line-height:normal;font-family:Menlo,'DejaVu Sans Mono',consolas,'Courier New',monospace\"></pre>\n"
      ],
      "text/plain": []
     },
     "metadata": {},
     "output_type": "display_data"
    },
    {
     "data": {
      "text/html": [
       "<br>"
      ],
      "text/plain": [
       "\u001b[1m<\u001b[0m\u001b[1;95mIPython.core.display.HTML\u001b[0m\u001b[39m object\u001b[0m\u001b[1m>\u001b[0m"
      ]
     },
     "metadata": {},
     "output_type": "display_data"
    },
    {
     "data": {
      "text/html": [
       "<pre style=\"white-space:pre;overflow-x:auto;line-height:normal;font-family:Menlo,'DejaVu Sans Mono',consolas,'Courier New',monospace\"></pre>\n"
      ],
      "text/plain": []
     },
     "metadata": {},
     "output_type": "display_data"
    },
    {
     "data": {
      "text/html": [
       "mathematical_model_kinetics.X_R_semiempirical"
      ],
      "text/plain": [
       "\u001b[1m<\u001b[0m\u001b[1;95mIPython.core.display.HTML\u001b[0m\u001b[39m object\u001b[0m\u001b[1m>\u001b[0m"
      ]
     },
     "metadata": {},
     "output_type": "display_data"
    },
    {
     "data": {
      "text/html": [
       "<pre style=\"white-space:pre;overflow-x:auto;line-height:normal;font-family:Menlo,'DejaVu Sans Mono',consolas,'Courier New',monospace\"></pre>\n"
      ],
      "text/plain": []
     },
     "metadata": {},
     "output_type": "display_data"
    },
    {
     "data": {
      "text/latex": [
       "$\\displaystyle X_{R} = - F_{N} \\left(t_{R} - 1\\right) \\sin{\\left(\\delta \\right)}$"
      ],
      "text/plain": [
       "\u001b[1m<\u001b[0m\u001b[1;95mIPython.core.display.Math\u001b[0m\u001b[39m object\u001b[0m\u001b[1m>\u001b[0m"
      ]
     },
     "metadata": {},
     "output_type": "display_data"
    },
    {
     "data": {
      "text/html": [
       "<pre style=\"white-space:pre;overflow-x:auto;line-height:normal;font-family:Menlo,'DejaVu Sans Mono',consolas,'Courier New',monospace\"></pre>\n"
      ],
      "text/plain": []
     },
     "metadata": {},
     "output_type": "display_data"
    },
    {
     "data": {
      "text/html": [
       "<br>"
      ],
      "text/plain": [
       "\u001b[1m<\u001b[0m\u001b[1;95mIPython.core.display.HTML\u001b[0m\u001b[39m object\u001b[0m\u001b[1m>\u001b[0m"
      ]
     },
     "metadata": {},
     "output_type": "display_data"
    },
    {
     "data": {
      "text/html": [
       "<pre style=\"white-space:pre;overflow-x:auto;line-height:normal;font-family:Menlo,'DejaVu Sans Mono',consolas,'Courier New',monospace\"></pre>\n"
      ],
      "text/plain": []
     },
     "metadata": {},
     "output_type": "display_data"
    },
    {
     "data": {
      "text/html": [
       "mathematical_model_kinetics.F_N_semiempirical"
      ],
      "text/plain": [
       "\u001b[1m<\u001b[0m\u001b[1;95mIPython.core.display.HTML\u001b[0m\u001b[39m object\u001b[0m\u001b[1m>\u001b[0m"
      ]
     },
     "metadata": {},
     "output_type": "display_data"
    },
    {
     "data": {
      "text/html": [
       "<pre style=\"white-space:pre;overflow-x:auto;line-height:normal;font-family:Menlo,'DejaVu Sans Mono',consolas,'Courier New',monospace\"></pre>\n"
      ],
      "text/plain": []
     },
     "metadata": {},
     "output_type": "display_data"
    },
    {
     "data": {
      "text/latex": [
       "$\\displaystyle F_{N} = - \\frac{A_{R} U_{R}^{2} f_{\\alpha} \\rho \\sin{\\left(\\alpha_{R} \\right)}}{2}$"
      ],
      "text/plain": [
       "\u001b[1m<\u001b[0m\u001b[1;95mIPython.core.display.Math\u001b[0m\u001b[39m object\u001b[0m\u001b[1m>\u001b[0m"
      ]
     },
     "metadata": {},
     "output_type": "display_data"
    },
    {
     "data": {
      "text/html": [
       "<pre style=\"white-space:pre;overflow-x:auto;line-height:normal;font-family:Menlo,'DejaVu Sans Mono',consolas,'Courier New',monospace\"></pre>\n"
      ],
      "text/plain": []
     },
     "metadata": {},
     "output_type": "display_data"
    },
    {
     "data": {
      "text/html": [
       "<br>"
      ],
      "text/plain": [
       "\u001b[1m<\u001b[0m\u001b[1;95mIPython.core.display.HTML\u001b[0m\u001b[39m object\u001b[0m\u001b[1m>\u001b[0m"
      ]
     },
     "metadata": {},
     "output_type": "display_data"
    },
    {
     "data": {
      "text/html": [
       "<pre style=\"white-space:pre;overflow-x:auto;line-height:normal;font-family:Menlo,'DejaVu Sans Mono',consolas,'Courier New',monospace\"></pre>\n"
      ],
      "text/plain": []
     },
     "metadata": {},
     "output_type": "display_data"
    },
    {
     "data": {
      "text/html": [
       "mathematical_model_kinetics.U_R_semiempirical"
      ],
      "text/plain": [
       "\u001b[1m<\u001b[0m\u001b[1;95mIPython.core.display.HTML\u001b[0m\u001b[39m object\u001b[0m\u001b[1m>\u001b[0m"
      ]
     },
     "metadata": {},
     "output_type": "display_data"
    },
    {
     "data": {
      "text/html": [
       "<pre style=\"white-space:pre;overflow-x:auto;line-height:normal;font-family:Menlo,'DejaVu Sans Mono',consolas,'Courier New',monospace\"></pre>\n"
      ],
      "text/plain": []
     },
     "metadata": {},
     "output_type": "display_data"
    },
    {
     "data": {
      "text/latex": [
       "$\\displaystyle U_{R} = \\sqrt{u_{R}^{2} + v_{R}^{2}}$"
      ],
      "text/plain": [
       "\u001b[1m<\u001b[0m\u001b[1;95mIPython.core.display.Math\u001b[0m\u001b[39m object\u001b[0m\u001b[1m>\u001b[0m"
      ]
     },
     "metadata": {},
     "output_type": "display_data"
    },
    {
     "data": {
      "text/html": [
       "<pre style=\"white-space:pre;overflow-x:auto;line-height:normal;font-family:Menlo,'DejaVu Sans Mono',consolas,'Courier New',monospace\"></pre>\n"
      ],
      "text/plain": []
     },
     "metadata": {},
     "output_type": "display_data"
    },
    {
     "data": {
      "text/html": [
       "<br>"
      ],
      "text/plain": [
       "\u001b[1m<\u001b[0m\u001b[1;95mIPython.core.display.HTML\u001b[0m\u001b[39m object\u001b[0m\u001b[1m>\u001b[0m"
      ]
     },
     "metadata": {},
     "output_type": "display_data"
    },
    {
     "data": {
      "text/html": [
       "<pre style=\"white-space:pre;overflow-x:auto;line-height:normal;font-family:Menlo,'DejaVu Sans Mono',consolas,'Courier New',monospace\"></pre>\n"
      ],
      "text/plain": []
     },
     "metadata": {},
     "output_type": "display_data"
    },
    {
     "data": {
      "text/html": [
       "mathematical_model_kinetics.f_alpha_semiempirical"
      ],
      "text/plain": [
       "\u001b[1m<\u001b[0m\u001b[1;95mIPython.core.display.HTML\u001b[0m\u001b[39m object\u001b[0m\u001b[1m>\u001b[0m"
      ]
     },
     "metadata": {},
     "output_type": "display_data"
    },
    {
     "data": {
      "text/html": [
       "<pre style=\"white-space:pre;overflow-x:auto;line-height:normal;font-family:Menlo,'DejaVu Sans Mono',consolas,'Courier New',monospace\"></pre>\n"
      ],
      "text/plain": []
     },
     "metadata": {},
     "output_type": "display_data"
    },
    {
     "data": {
      "text/latex": [
       "$\\displaystyle f_{\\alpha} = \\frac{6.13 \\Lambda}{\\Lambda + 2.25}$"
      ],
      "text/plain": [
       "\u001b[1m<\u001b[0m\u001b[1;95mIPython.core.display.Math\u001b[0m\u001b[39m object\u001b[0m\u001b[1m>\u001b[0m"
      ]
     },
     "metadata": {},
     "output_type": "display_data"
    },
    {
     "data": {
      "text/html": [
       "<pre style=\"white-space:pre;overflow-x:auto;line-height:normal;font-family:Menlo,'DejaVu Sans Mono',consolas,'Courier New',monospace\"></pre>\n"
      ],
      "text/plain": []
     },
     "metadata": {},
     "output_type": "display_data"
    },
    {
     "data": {
      "text/html": [
       "<br>"
      ],
      "text/plain": [
       "\u001b[1m<\u001b[0m\u001b[1;95mIPython.core.display.HTML\u001b[0m\u001b[39m object\u001b[0m\u001b[1m>\u001b[0m"
      ]
     },
     "metadata": {},
     "output_type": "display_data"
    },
    {
     "data": {
      "text/html": [
       "<pre style=\"white-space:pre;overflow-x:auto;line-height:normal;font-family:Menlo,'DejaVu Sans Mono',consolas,'Courier New',monospace\"></pre>\n"
      ],
      "text/plain": []
     },
     "metadata": {},
     "output_type": "display_data"
    },
    {
     "data": {
      "text/html": [
       "mathematical_model_kinetics.Lambda_semiempirical"
      ],
      "text/plain": [
       "\u001b[1m<\u001b[0m\u001b[1;95mIPython.core.display.HTML\u001b[0m\u001b[39m object\u001b[0m\u001b[1m>\u001b[0m"
      ]
     },
     "metadata": {},
     "output_type": "display_data"
    },
    {
     "data": {
      "text/html": [
       "<pre style=\"white-space:pre;overflow-x:auto;line-height:normal;font-family:Menlo,'DejaVu Sans Mono',consolas,'Courier New',monospace\"></pre>\n"
      ],
      "text/plain": []
     },
     "metadata": {},
     "output_type": "display_data"
    },
    {
     "data": {
      "text/latex": [
       "$\\displaystyle \\Lambda = \\frac{H_{R}}{C_{R}}$"
      ],
      "text/plain": [
       "\u001b[1m<\u001b[0m\u001b[1;95mIPython.core.display.Math\u001b[0m\u001b[39m object\u001b[0m\u001b[1m>\u001b[0m"
      ]
     },
     "metadata": {},
     "output_type": "display_data"
    },
    {
     "data": {
      "text/html": [
       "<pre style=\"white-space:pre;overflow-x:auto;line-height:normal;font-family:Menlo,'DejaVu Sans Mono',consolas,'Courier New',monospace\"></pre>\n"
      ],
      "text/plain": []
     },
     "metadata": {},
     "output_type": "display_data"
    },
    {
     "data": {
      "text/html": [
       "<br>"
      ],
      "text/plain": [
       "\u001b[1m<\u001b[0m\u001b[1;95mIPython.core.display.HTML\u001b[0m\u001b[39m object\u001b[0m\u001b[1m>\u001b[0m"
      ]
     },
     "metadata": {},
     "output_type": "display_data"
    },
    {
     "data": {
      "text/html": [
       "<pre style=\"white-space:pre;overflow-x:auto;line-height:normal;font-family:Menlo,'DejaVu Sans Mono',consolas,'Courier New',monospace\"></pre>\n"
      ],
      "text/plain": []
     },
     "metadata": {},
     "output_type": "display_data"
    },
    {
     "data": {
      "text/html": [
       "mathematical_model_kinetics.alpha_R_semiempirical"
      ],
      "text/plain": [
       "\u001b[1m<\u001b[0m\u001b[1;95mIPython.core.display.HTML\u001b[0m\u001b[39m object\u001b[0m\u001b[1m>\u001b[0m"
      ]
     },
     "metadata": {},
     "output_type": "display_data"
    },
    {
     "data": {
      "text/html": [
       "<pre style=\"white-space:pre;overflow-x:auto;line-height:normal;font-family:Menlo,'DejaVu Sans Mono',consolas,'Courier New',monospace\"></pre>\n"
      ],
      "text/plain": []
     },
     "metadata": {},
     "output_type": "display_data"
    },
    {
     "data": {
      "text/latex": [
       "$\\displaystyle \\alpha_{R} = \\delta + \\gamma_{0} + \\operatorname{atan}{\\left(\\frac{v_{R}}{u_{R}} \\right)}$"
      ],
      "text/plain": [
       "\u001b[1m<\u001b[0m\u001b[1;95mIPython.core.display.Math\u001b[0m\u001b[39m object\u001b[0m\u001b[1m>\u001b[0m"
      ]
     },
     "metadata": {},
     "output_type": "display_data"
    },
    {
     "data": {
      "text/html": [
       "<pre style=\"white-space:pre;overflow-x:auto;line-height:normal;font-family:Menlo,'DejaVu Sans Mono',consolas,'Courier New',monospace\"></pre>\n"
      ],
      "text/plain": []
     },
     "metadata": {},
     "output_type": "display_data"
    },
    {
     "data": {
      "text/html": [
       "<br>"
      ],
      "text/plain": [
       "\u001b[1m<\u001b[0m\u001b[1;95mIPython.core.display.HTML\u001b[0m\u001b[39m object\u001b[0m\u001b[1m>\u001b[0m"
      ]
     },
     "metadata": {},
     "output_type": "display_data"
    },
    {
     "data": {
      "text/html": [
       "<pre style=\"white-space:pre;overflow-x:auto;line-height:normal;font-family:Menlo,'DejaVu Sans Mono',consolas,'Courier New',monospace\"></pre>\n"
      ],
      "text/plain": []
     },
     "metadata": {},
     "output_type": "display_data"
    },
    {
     "data": {
      "text/html": [
       "mathematical_model_kinetics.u_R_semiempirical"
      ],
      "text/plain": [
       "\u001b[1m<\u001b[0m\u001b[1;95mIPython.core.display.HTML\u001b[0m\u001b[39m object\u001b[0m\u001b[1m>\u001b[0m"
      ]
     },
     "metadata": {},
     "output_type": "display_data"
    },
    {
     "data": {
      "text/html": [
       "<pre style=\"white-space:pre;overflow-x:auto;line-height:normal;font-family:Menlo,'DejaVu Sans Mono',consolas,'Courier New',monospace\"></pre>\n"
      ],
      "text/plain": []
     },
     "metadata": {},
     "output_type": "display_data"
    },
    {
     "data": {
      "text/latex": [
       "$\\displaystyle u_{R} = \\epsilon u \\left(1 - w_{p}\\right) \\sqrt{\\eta \\left(\\kappa \\left(\\sqrt{C_{Th} + 1} - 1\\right) + 1\\right)^{2} - \\eta + 1}$"
      ],
      "text/plain": [
       "\u001b[1m<\u001b[0m\u001b[1;95mIPython.core.display.Math\u001b[0m\u001b[39m object\u001b[0m\u001b[1m>\u001b[0m"
      ]
     },
     "metadata": {},
     "output_type": "display_data"
    },
    {
     "data": {
      "text/html": [
       "<pre style=\"white-space:pre;overflow-x:auto;line-height:normal;font-family:Menlo,'DejaVu Sans Mono',consolas,'Courier New',monospace\"></pre>\n"
      ],
      "text/plain": []
     },
     "metadata": {},
     "output_type": "display_data"
    },
    {
     "data": {
      "text/html": [
       "<br>"
      ],
      "text/plain": [
       "\u001b[1m<\u001b[0m\u001b[1;95mIPython.core.display.HTML\u001b[0m\u001b[39m object\u001b[0m\u001b[1m>\u001b[0m"
      ]
     },
     "metadata": {},
     "output_type": "display_data"
    },
    {
     "data": {
      "text/html": [
       "<pre style=\"white-space:pre;overflow-x:auto;line-height:normal;font-family:Menlo,'DejaVu Sans Mono',consolas,'Courier New',monospace\"></pre>\n"
      ],
      "text/plain": []
     },
     "metadata": {},
     "output_type": "display_data"
    },
    {
     "data": {
      "text/html": [
       "mathematical_model_kinetics.C_Th_semiempirical"
      ],
      "text/plain": [
       "\u001b[1m<\u001b[0m\u001b[1;95mIPython.core.display.HTML\u001b[0m\u001b[39m object\u001b[0m\u001b[1m>\u001b[0m"
      ]
     },
     "metadata": {},
     "output_type": "display_data"
    },
    {
     "data": {
      "text/html": [
       "<pre style=\"white-space:pre;overflow-x:auto;line-height:normal;font-family:Menlo,'DejaVu Sans Mono',consolas,'Courier New',monospace\"></pre>\n"
      ],
      "text/plain": []
     },
     "metadata": {},
     "output_type": "display_data"
    },
    {
     "data": {
      "text/latex": [
       "$\\displaystyle C_{Th} = \\frac{2 T}{\\pi V_{A}^{2} r_{0}^{2} \\rho}$"
      ],
      "text/plain": [
       "\u001b[1m<\u001b[0m\u001b[1;95mIPython.core.display.Math\u001b[0m\u001b[39m object\u001b[0m\u001b[1m>\u001b[0m"
      ]
     },
     "metadata": {},
     "output_type": "display_data"
    },
    {
     "data": {
      "text/html": [
       "<pre style=\"white-space:pre;overflow-x:auto;line-height:normal;font-family:Menlo,'DejaVu Sans Mono',consolas,'Courier New',monospace\"></pre>\n"
      ],
      "text/plain": []
     },
     "metadata": {},
     "output_type": "display_data"
    },
    {
     "data": {
      "text/html": [
       "<br>"
      ],
      "text/plain": [
       "\u001b[1m<\u001b[0m\u001b[1;95mIPython.core.display.HTML\u001b[0m\u001b[39m object\u001b[0m\u001b[1m>\u001b[0m"
      ]
     },
     "metadata": {},
     "output_type": "display_data"
    },
    {
     "data": {
      "text/html": [
       "<pre style=\"white-space:pre;overflow-x:auto;line-height:normal;font-family:Menlo,'DejaVu Sans Mono',consolas,'Courier New',monospace\"></pre>\n"
      ],
      "text/plain": []
     },
     "metadata": {},
     "output_type": "display_data"
    },
    {
     "data": {
      "text/html": [
       "mathematical_model_kinetics.V_A_semiempirical"
      ],
      "text/plain": [
       "\u001b[1m<\u001b[0m\u001b[1;95mIPython.core.display.HTML\u001b[0m\u001b[39m object\u001b[0m\u001b[1m>\u001b[0m"
      ]
     },
     "metadata": {},
     "output_type": "display_data"
    },
    {
     "data": {
      "text/html": [
       "<pre style=\"white-space:pre;overflow-x:auto;line-height:normal;font-family:Menlo,'DejaVu Sans Mono',consolas,'Courier New',monospace\"></pre>\n"
      ],
      "text/plain": []
     },
     "metadata": {},
     "output_type": "display_data"
    },
    {
     "data": {
      "text/latex": [
       "$\\displaystyle V_{A} = u \\left(1 - w_{p}\\right)$"
      ],
      "text/plain": [
       "\u001b[1m<\u001b[0m\u001b[1;95mIPython.core.display.Math\u001b[0m\u001b[39m object\u001b[0m\u001b[1m>\u001b[0m"
      ]
     },
     "metadata": {},
     "output_type": "display_data"
    },
    {
     "data": {
      "text/html": [
       "<pre style=\"white-space:pre;overflow-x:auto;line-height:normal;font-family:Menlo,'DejaVu Sans Mono',consolas,'Courier New',monospace\"></pre>\n"
      ],
      "text/plain": []
     },
     "metadata": {},
     "output_type": "display_data"
    },
    {
     "data": {
      "text/html": [
       "<br>"
      ],
      "text/plain": [
       "\u001b[1m<\u001b[0m\u001b[1;95mIPython.core.display.HTML\u001b[0m\u001b[39m object\u001b[0m\u001b[1m>\u001b[0m"
      ]
     },
     "metadata": {},
     "output_type": "display_data"
    },
    {
     "data": {
      "text/html": [
       "<pre style=\"white-space:pre;overflow-x:auto;line-height:normal;font-family:Menlo,'DejaVu Sans Mono',consolas,'Courier New',monospace\"></pre>\n"
      ],
      "text/plain": []
     },
     "metadata": {},
     "output_type": "display_data"
    },
    {
     "data": {
      "text/html": [
       "mathematical_model_kinetics.eta_semiempirical"
      ],
      "text/plain": [
       "\u001b[1m<\u001b[0m\u001b[1;95mIPython.core.display.HTML\u001b[0m\u001b[39m object\u001b[0m\u001b[1m>\u001b[0m"
      ]
     },
     "metadata": {},
     "output_type": "display_data"
    },
    {
     "data": {
      "text/html": [
       "<pre style=\"white-space:pre;overflow-x:auto;line-height:normal;font-family:Menlo,'DejaVu Sans Mono',consolas,'Courier New',monospace\"></pre>\n"
      ],
      "text/plain": []
     },
     "metadata": {},
     "output_type": "display_data"
    },
    {
     "data": {
      "text/latex": [
       "$\\displaystyle \\eta = \\frac{D}{H_{R}}$"
      ],
      "text/plain": [
       "\u001b[1m<\u001b[0m\u001b[1;95mIPython.core.display.Math\u001b[0m\u001b[39m object\u001b[0m\u001b[1m>\u001b[0m"
      ]
     },
     "metadata": {},
     "output_type": "display_data"
    },
    {
     "data": {
      "text/html": [
       "<pre style=\"white-space:pre;overflow-x:auto;line-height:normal;font-family:Menlo,'DejaVu Sans Mono',consolas,'Courier New',monospace\"></pre>\n"
      ],
      "text/plain": []
     },
     "metadata": {},
     "output_type": "display_data"
    },
    {
     "data": {
      "text/html": [
       "<br>"
      ],
      "text/plain": [
       "\u001b[1m<\u001b[0m\u001b[1;95mIPython.core.display.HTML\u001b[0m\u001b[39m object\u001b[0m\u001b[1m>\u001b[0m"
      ]
     },
     "metadata": {},
     "output_type": "display_data"
    },
    {
     "data": {
      "text/html": [
       "<pre style=\"white-space:pre;overflow-x:auto;line-height:normal;font-family:Menlo,'DejaVu Sans Mono',consolas,'Courier New',monospace\"></pre>\n"
      ],
      "text/plain": []
     },
     "metadata": {},
     "output_type": "display_data"
    },
    {
     "data": {
      "text/html": [
       "mathematical_model_kinetics.v_R_semiempirical"
      ],
      "text/plain": [
       "\u001b[1m<\u001b[0m\u001b[1;95mIPython.core.display.HTML\u001b[0m\u001b[39m object\u001b[0m\u001b[1m>\u001b[0m"
      ]
     },
     "metadata": {},
     "output_type": "display_data"
    },
    {
     "data": {
      "text/html": [
       "<pre style=\"white-space:pre;overflow-x:auto;line-height:normal;font-family:Menlo,'DejaVu Sans Mono',consolas,'Courier New',monospace\"></pre>\n"
      ],
      "text/plain": []
     },
     "metadata": {},
     "output_type": "display_data"
    },
    {
     "data": {
      "text/latex": [
       "$\\displaystyle v_{R} = U \\beta_{R} \\gamma_{R}$"
      ],
      "text/plain": [
       "\u001b[1m<\u001b[0m\u001b[1;95mIPython.core.display.Math\u001b[0m\u001b[39m object\u001b[0m\u001b[1m>\u001b[0m"
      ]
     },
     "metadata": {},
     "output_type": "display_data"
    },
    {
     "data": {
      "text/html": [
       "<pre style=\"white-space:pre;overflow-x:auto;line-height:normal;font-family:Menlo,'DejaVu Sans Mono',consolas,'Courier New',monospace\"></pre>\n"
      ],
      "text/plain": []
     },
     "metadata": {},
     "output_type": "display_data"
    },
    {
     "data": {
      "text/html": [
       "<br>"
      ],
      "text/plain": [
       "\u001b[1m<\u001b[0m\u001b[1;95mIPython.core.display.HTML\u001b[0m\u001b[39m object\u001b[0m\u001b[1m>\u001b[0m"
      ]
     },
     "metadata": {},
     "output_type": "display_data"
    },
    {
     "data": {
      "text/html": [
       "<pre style=\"white-space:pre;overflow-x:auto;line-height:normal;font-family:Menlo,'DejaVu Sans Mono',consolas,'Courier New',monospace\"></pre>\n"
      ],
      "text/plain": []
     },
     "metadata": {},
     "output_type": "display_data"
    },
    {
     "data": {
      "text/html": [
       "mathematical_model_kinetics.gamma_R_semiempirical"
      ],
      "text/plain": [
       "\u001b[1m<\u001b[0m\u001b[1;95mIPython.core.display.HTML\u001b[0m\u001b[39m object\u001b[0m\u001b[1m>\u001b[0m"
      ]
     },
     "metadata": {},
     "output_type": "display_data"
    },
    {
     "data": {
      "text/html": [
       "<pre style=\"white-space:pre;overflow-x:auto;line-height:normal;font-family:Menlo,'DejaVu Sans Mono',consolas,'Courier New',monospace\"></pre>\n"
      ],
      "text/plain": []
     },
     "metadata": {},
     "output_type": "display_data"
    },
    {
     "data": {
      "text/latex": [
       "$\\displaystyle \\gamma_{R} = \\begin{cases} \\gamma_{R2 neg} \\left|{\\beta_{R}}\\right| + \\gamma_{R neg} & \\text{for}\\: \\beta_{R} \\leq 0 \\\\\\gamma_{R2 pos} \\left|{\\beta_{R}}\\right| + \\gamma_{R pos} & \\text{otherwise} \\end{cases}$"
      ],
      "text/plain": [
       "\u001b[1m<\u001b[0m\u001b[1;95mIPython.core.display.Math\u001b[0m\u001b[39m object\u001b[0m\u001b[1m>\u001b[0m"
      ]
     },
     "metadata": {},
     "output_type": "display_data"
    },
    {
     "data": {
      "text/html": [
       "<pre style=\"white-space:pre;overflow-x:auto;line-height:normal;font-family:Menlo,'DejaVu Sans Mono',consolas,'Courier New',monospace\"></pre>\n"
      ],
      "text/plain": []
     },
     "metadata": {},
     "output_type": "display_data"
    },
    {
     "data": {
      "text/html": [
       "<br>"
      ],
      "text/plain": [
       "\u001b[1m<\u001b[0m\u001b[1;95mIPython.core.display.HTML\u001b[0m\u001b[39m object\u001b[0m\u001b[1m>\u001b[0m"
      ]
     },
     "metadata": {},
     "output_type": "display_data"
    },
    {
     "data": {
      "text/html": [
       "<pre style=\"white-space:pre;overflow-x:auto;line-height:normal;font-family:Menlo,'DejaVu Sans Mono',consolas,'Courier New',monospace\"></pre>\n"
      ],
      "text/plain": []
     },
     "metadata": {},
     "output_type": "display_data"
    },
    {
     "data": {
      "text/html": [
       "mathematical_model_kinetics.beta_R_semiempirical"
      ],
      "text/plain": [
       "\u001b[1m<\u001b[0m\u001b[1;95mIPython.core.display.HTML\u001b[0m\u001b[39m object\u001b[0m\u001b[1m>\u001b[0m"
      ]
     },
     "metadata": {},
     "output_type": "display_data"
    },
    {
     "data": {
      "text/html": [
       "<pre style=\"white-space:pre;overflow-x:auto;line-height:normal;font-family:Menlo,'DejaVu Sans Mono',consolas,'Courier New',monospace\"></pre>\n"
      ],
      "text/plain": []
     },
     "metadata": {},
     "output_type": "display_data"
    },
    {
     "data": {
      "text/latex": [
       "$\\displaystyle \\beta_{R} = \\beta - \\frac{l_{R} r}{U}$"
      ],
      "text/plain": [
       "\u001b[1m<\u001b[0m\u001b[1;95mIPython.core.display.Math\u001b[0m\u001b[39m object\u001b[0m\u001b[1m>\u001b[0m"
      ]
     },
     "metadata": {},
     "output_type": "display_data"
    },
    {
     "data": {
      "text/html": [
       "<pre style=\"white-space:pre;overflow-x:auto;line-height:normal;font-family:Menlo,'DejaVu Sans Mono',consolas,'Courier New',monospace\"></pre>\n"
      ],
      "text/plain": []
     },
     "metadata": {},
     "output_type": "display_data"
    },
    {
     "data": {
      "text/html": [
       "<br>"
      ],
      "text/plain": [
       "\u001b[1m<\u001b[0m\u001b[1;95mIPython.core.display.HTML\u001b[0m\u001b[39m object\u001b[0m\u001b[1m>\u001b[0m"
      ]
     },
     "metadata": {},
     "output_type": "display_data"
    },
    {
     "data": {
      "text/html": [
       "<pre style=\"white-space:pre;overflow-x:auto;line-height:normal;font-family:Menlo,'DejaVu Sans Mono',consolas,'Courier New',monospace\"></pre>\n"
      ],
      "text/plain": []
     },
     "metadata": {},
     "output_type": "display_data"
    },
    {
     "data": {
      "text/html": [
       "mathematical_model_kinetics.beta_semiempirical"
      ],
      "text/plain": [
       "\u001b[1m<\u001b[0m\u001b[1;95mIPython.core.display.HTML\u001b[0m\u001b[39m object\u001b[0m\u001b[1m>\u001b[0m"
      ]
     },
     "metadata": {},
     "output_type": "display_data"
    },
    {
     "data": {
      "text/html": [
       "<pre style=\"white-space:pre;overflow-x:auto;line-height:normal;font-family:Menlo,'DejaVu Sans Mono',consolas,'Courier New',monospace\"></pre>\n"
      ],
      "text/plain": []
     },
     "metadata": {},
     "output_type": "display_data"
    },
    {
     "data": {
      "text/latex": [
       "$\\displaystyle \\beta = \\operatorname{atan}_{2}{\\left(- v,u \\right)}$"
      ],
      "text/plain": [
       "\u001b[1m<\u001b[0m\u001b[1;95mIPython.core.display.Math\u001b[0m\u001b[39m object\u001b[0m\u001b[1m>\u001b[0m"
      ]
     },
     "metadata": {},
     "output_type": "display_data"
    },
    {
     "data": {
      "text/html": [
       "<pre style=\"white-space:pre;overflow-x:auto;line-height:normal;font-family:Menlo,'DejaVu Sans Mono',consolas,'Courier New',monospace\"></pre>\n"
      ],
      "text/plain": []
     },
     "metadata": {},
     "output_type": "display_data"
    },
    {
     "data": {
      "text/html": [
       "<br>"
      ],
      "text/plain": [
       "\u001b[1m<\u001b[0m\u001b[1;95mIPython.core.display.HTML\u001b[0m\u001b[39m object\u001b[0m\u001b[1m>\u001b[0m"
      ]
     },
     "metadata": {},
     "output_type": "display_data"
    }
   ],
   "source": [
    "replace_latex = {\n",
    "    r\"dC_{L dalpha }\" : r\"\\frac{\\partial C_L}{\\partial \\alpha}\",\n",
    "}\n",
    "for name in keys:\n",
    "    eq = rudder.equations[name]\n",
    "    name_clean = name.replace('_port','')\n",
    "    file_name = f\"{name_clean}_semiempirical\" \n",
    "    save_eq(eq, file_name=file_name, subs={'port':''}, replace_latex=replace_latex)"
   ]
  },
  {
   "cell_type": "code",
   "execution_count": 9,
   "id": "d3c11bba-01c9-49b1-86cd-6acc7b14b9f0",
   "metadata": {},
   "outputs": [
    {
     "data": {
      "text/html": [
       "<pre style=\"white-space:pre;overflow-x:auto;line-height:normal;font-family:Menlo,'DejaVu Sans Mono',consolas,'Courier New',monospace\"></pre>\n"
      ],
      "text/plain": []
     },
     "metadata": {},
     "output_type": "display_data"
    },
    {
     "data": {
      "text/html": [
       "mathematical_model_kinetics.beta_semiempirical"
      ],
      "text/plain": [
       "\u001b[1m<\u001b[0m\u001b[1;95mIPython.core.display.HTML\u001b[0m\u001b[39m object\u001b[0m\u001b[1m>\u001b[0m"
      ]
     },
     "metadata": {},
     "output_type": "display_data"
    },
    {
     "data": {
      "text/html": [
       "<pre style=\"white-space:pre;overflow-x:auto;line-height:normal;font-family:Menlo,'DejaVu Sans Mono',consolas,'Courier New',monospace\"></pre>\n"
      ],
      "text/plain": []
     },
     "metadata": {},
     "output_type": "display_data"
    },
    {
     "data": {
      "text/latex": [
       "$\\displaystyle \\beta = \\operatorname{atan}_{2}{\\left(- v,u \\right)}$"
      ],
      "text/plain": [
       "\u001b[1m<\u001b[0m\u001b[1;95mIPython.core.display.Math\u001b[0m\u001b[39m object\u001b[0m\u001b[1m>\u001b[0m"
      ]
     },
     "metadata": {},
     "output_type": "display_data"
    },
    {
     "data": {
      "text/html": [
       "<pre style=\"white-space:pre;overflow-x:auto;line-height:normal;font-family:Menlo,'DejaVu Sans Mono',consolas,'Courier New',monospace\"></pre>\n"
      ],
      "text/plain": []
     },
     "metadata": {},
     "output_type": "display_data"
    },
    {
     "data": {
      "text/html": [
       "<br>"
      ],
      "text/plain": [
       "\u001b[1m<\u001b[0m\u001b[1;95mIPython.core.display.HTML\u001b[0m\u001b[39m object\u001b[0m\u001b[1m>\u001b[0m"
      ]
     },
     "metadata": {},
     "output_type": "display_data"
    },
    {
     "data": {
      "text/html": [
       "<pre style=\"white-space:pre;overflow-x:auto;line-height:normal;font-family:Menlo,'DejaVu Sans Mono',consolas,'Courier New',monospace\"></pre>\n"
      ],
      "text/plain": []
     },
     "metadata": {},
     "output_type": "display_data"
    },
    {
     "data": {
      "text/plain": [
       "\u001b[32m'\\\\beta = \\\\operatorname\u001b[0m\u001b[32m{\u001b[0m\u001b[32matan\u001b[0m\u001b[32m}\u001b[0m\u001b[32m_\u001b[0m\u001b[32m{\u001b[0m\u001b[32m2\u001b[0m\u001b[32m}\u001b[0m\u001b[32m{\u001b[0m\u001b[32m\\\\left\u001b[0m\u001b[32m(\u001b[0m\u001b[32m- v,u \\\\right\u001b[0m\u001b[32m)\u001b[0m\u001b[32m}\u001b[0m\u001b[32m'\u001b[0m"
      ]
     },
     "execution_count": 9,
     "metadata": {},
     "output_type": "execute_result"
    }
   ],
   "source": [
    "save_eq(eq, file_name=file_name, subs={}, replace_latex=replace_latex)"
   ]
  },
  {
   "cell_type": "code",
   "execution_count": 10,
   "id": "ed681833-abba-4795-abb2-93d8508efb1a",
   "metadata": {},
   "outputs": [
    {
     "name": "stdout",
     "output_type": "stream",
     "text": [
      "\n",
      "\\begin{equation}\n",
      "\\label{eq:N_R_semiempirical}\n",
      "\\input{equations/mathematical_model_kinetics.N_R_semiempirical}\n",
      "\\end{equation}\n",
      "%\n",
      "\\begin{equation}\n",
      "\\label{eq:Y_R_semiempirical}\n",
      "\\input{equations/mathematical_model_kinetics.Y_R_semiempirical}\n",
      "\\end{equation}\n",
      "%\n",
      "\\begin{equation}\n",
      "\\label{eq:X_R_semiempirical}\n",
      "\\input{equations/mathematical_model_kinetics.X_R_semiempirical}\n",
      "\\end{equation}\n",
      "%\n",
      "\\begin{equation}\n",
      "\\label{eq:F_N_semiempirical}\n",
      "\\input{equations/mathematical_model_kinetics.F_N_semiempirical}\n",
      "\\end{equation}\n",
      "%\n",
      "\\begin{equation}\n",
      "\\label{eq:U_R_semiempirical}\n",
      "\\input{equations/mathematical_model_kinetics.U_R_semiempirical}\n",
      "\\end{equation}\n",
      "%\n",
      "\\begin{equation}\n",
      "\\label{eq:f_alpha_semiempirical}\n",
      "\\input{equations/mathematical_model_kinetics.f_alpha_semiempirical}\n",
      "\\end{equation}\n",
      "%\n",
      "\\begin{equation}\n",
      "\\label{eq:Lambda_semiempirical}\n",
      "\\input{equations/mathematical_model_kinetics.Lambda_semiempirical}\n",
      "\\end{equation}\n",
      "%\n",
      "\\begin{equation}\n",
      "\\label{eq:alpha_R_semiempirical}\n",
      "\\input{equations/mathematical_model_kinetics.alpha_R_semiempirical}\n",
      "\\end{equation}\n",
      "%\n",
      "\\begin{equation}\n",
      "\\label{eq:u_R_semiempirical}\n",
      "\\input{equations/mathematical_model_kinetics.u_R_semiempirical}\n",
      "\\end{equation}\n",
      "%\n",
      "\\begin{equation}\n",
      "\\label{eq:C_Th_semiempirical}\n",
      "\\input{equations/mathematical_model_kinetics.C_Th_semiempirical}\n",
      "\\end{equation}\n",
      "%\n",
      "\\begin{equation}\n",
      "\\label{eq:V_A_semiempirical}\n",
      "\\input{equations/mathematical_model_kinetics.V_A_semiempirical}\n",
      "\\end{equation}\n",
      "%\n",
      "\\begin{equation}\n",
      "\\label{eq:eta_semiempirical}\n",
      "\\input{equations/mathematical_model_kinetics.eta_semiempirical}\n",
      "\\end{equation}\n",
      "%\n",
      "\\begin{equation}\n",
      "\\label{eq:v_R_semiempirical}\n",
      "\\input{equations/mathematical_model_kinetics.v_R_semiempirical}\n",
      "\\end{equation}\n",
      "%\n",
      "\\begin{equation}\n",
      "\\label{eq:gamma_R_semiempirical}\n",
      "\\input{equations/mathematical_model_kinetics.gamma_R_semiempirical}\n",
      "\\end{equation}\n",
      "%\n",
      "\\begin{equation}\n",
      "\\label{eq:beta_R_semiempirical}\n",
      "\\input{equations/mathematical_model_kinetics.beta_R_semiempirical}\n",
      "\\end{equation}\n",
      "%\n",
      "\\begin{equation}\n",
      "\\label{eq:beta_semiempirical}\n",
      "\\input{equations/mathematical_model_kinetics.beta_semiempirical}\n",
      "\\end{equation}\n",
      "%\n"
     ]
    }
   ],
   "source": [
    "s_latex = \"\"\n",
    "for name in keys:\n",
    "    eq = rudder.equations[name]\n",
    "    name_clean = name.replace('_port','')\n",
    "    file_name = f\"{name_clean}_semiempirical\"\n",
    "    \n",
    "    eq_latex = fr\"\"\"\n",
    "\\begin{{equation}}\n",
    "\\label{{eq:{file_name}}}\n",
    "\\input{{equations/mathematical_model_kinetics.{file_name}}}\n",
    "\\end{{equation}}\n",
    "%\"\"\"\n",
    "    s_latex+=eq_latex\n",
    "\n",
    "print(s_latex)"
   ]
  },
  {
   "cell_type": "markdown",
   "id": "e695bff4-b3c3-4b27-9459-826ed72cbc93",
   "metadata": {},
   "source": [
    "## Nomenclature"
   ]
  },
  {
   "cell_type": "code",
   "execution_count": 11,
   "id": "74532837-614e-4dc1-9442-c2b96b2514b2",
   "metadata": {},
   "outputs": [],
   "source": [
    "df_nomenclature = pd.DataFrame(columns=['LaTeX','Description','file_names'])\n",
    "for lhs, eq in paper.equations.items():\n",
    "    for symbol in eq['equation'].free_symbols:\n",
    "        if symbol in df_nomenclature.index:\n",
    "            df_nomenclature.loc[symbol,'file_names'].append(eq['file_name'])\n",
    "        else:\n",
    "            df_nomenclature.loc[symbol,'file_names'] = [eq['file_name']]\n",
    "\n",
    "subs = {sp.Symbol(str(row['symbol'])):sp.Symbol(str(row['symbol']).replace('delta',r'\\delta')) for name, row in df_parameters.iterrows()}\n",
    "parameters = [prime(symbol.subs(subs)) for name,symbol in p.items()]\n",
    "\n",
    "index = list(set(df_nomenclature.index) - set(parameters))\n",
    "df_nomenclature = df_nomenclature.loc[index].copy()\n",
    "\n",
    "df_nomenclature.index = [sp.Symbol(symbol.name.replace('_port','')) for symbol in df_nomenclature.index]\n",
    "df_nomenclature.index = [sp.Symbol(symbol.name.replace('_stbd','')) for symbol in df_nomenclature.index]\n",
    "df_nomenclature.index = [sp.Symbol(symbol.name.replace('port','')) for symbol in df_nomenclature.index]\n",
    "df_nomenclature.index = [sp.Symbol(symbol.name.replace('stbd','')) for symbol in df_nomenclature.index]\n",
    "df_nomenclature.index = [sp.Symbol(symbol.name.replace(\"'\",'')) for symbol in df_nomenclature.index] \n",
    "\n",
    "df_nomenclature['LaTeX'] = [f\"${paper.to_latex(symbol)}$\" for symbol in df_nomenclature.index]\n",
    "#df_nomenclature.sort_values(by='LaTeX', key=lambda col: col.str.lower(), inplace=True)\n",
    "#\n",
    "#df_nomenclature.index = df_nomenclature.index.astype(str)\n",
    "#df_nomenclature.index = [re.sub(r\"^{\", \"\", s) for s in df_nomenclature.index]\n",
    "#df_nomenclature.index = [re.sub(r\"}$\", \"\", s) for s in df_nomenclature.index]\n",
    "#df_nomenclature.index = [s.replace(\"\\\\\",\"\") for s in df_nomenclature.index]\n",
    "#\n",
    "#mask = df_nomenclature['LaTeX'].str.contains(r'\\\\cancel')\n",
    "#df_nomenclature = df_nomenclature.loc[~mask].copy()"
   ]
  },
  {
   "cell_type": "code",
   "execution_count": 12,
   "id": "69751eb6-8d52-42cc-b4fb-26a9a07adce1",
   "metadata": {},
   "outputs": [],
   "source": [
    "df_nomenclature_new = pd.DataFrame(columns=df_nomenclature.columns)\n",
    "\n",
    "files = {}\n",
    "\n",
    "for symbol, row in df_nomenclature.iterrows():\n",
    "\n",
    "    if symbol in df_nomenclature_new.index:\n",
    "        continue\n",
    "\n",
    "    df_nomenclature_new.loc[symbol] = row\n",
    "\n",
    "    \n",
    "    if len(df_nomenclature.loc[symbol]) > 1:\n",
    "        file_names_all = []\n",
    "        for file_names in df_nomenclature.loc[symbol,'file_names']:\n",
    "            if isinstance(file_names, list):\n",
    "                file_names_all+=file_names\n",
    "            else:\n",
    "                file_names_all.append(file_names)\n",
    "\n",
    "        files[symbol] = list(set(file_names_all))\n",
    "\n",
    "df_nomenclature_new['file_names'] = files"
   ]
  },
  {
   "cell_type": "markdown",
   "id": "5e1db58a-fe60-4c4c-95d9-507b38a78361",
   "metadata": {},
   "source": [
    "### Parse the LaTeX for equation references"
   ]
  },
  {
   "cell_type": "code",
   "execution_count": 13,
   "id": "9da21707-1968-4c4d-be47-66ef793fb85e",
   "metadata": {},
   "outputs": [
    {
     "data": {
      "text/html": [
       "<pre style=\"white-space:pre;overflow-x:auto;line-height:normal;font-family:Menlo,'DejaVu Sans Mono',consolas,'Courier New',monospace\"></pre>\n"
      ],
      "text/plain": []
     },
     "metadata": {},
     "output_type": "display_data"
    },
    {
     "data": {
      "text/plain": [
       "\u001b[32m'gamma_g_semiempirical'\u001b[0m"
      ]
     },
     "execution_count": 13,
     "metadata": {},
     "output_type": "execute_result"
    }
   ],
   "source": [
    "s = r\"\\input{equations/mathematical_model_kinetics.gamma_g_semiempirical}\"\n",
    "result = re.search(r\"\\\\input\\{equations/mathematical_model_kinetics\\.([^}]+)\\}\", s)\n",
    "result.group(1)"
   ]
  },
  {
   "cell_type": "code",
   "execution_count": 14,
   "id": "8fa659cb-4981-4fe1-a14d-820f31a99dc1",
   "metadata": {},
   "outputs": [
    {
     "name": "stdout",
     "output_type": "stream",
     "text": [
      "gamma_g_semiempirical\n"
     ]
    }
   ],
   "source": [
    "for result in re.finditer(r\"\\\\input\\{equations/mathematical_model_kinetics\\.([^}]+)\\}\", s):\n",
    "    print(result.group(1))"
   ]
  },
  {
   "cell_type": "code",
   "execution_count": 15,
   "id": "51c3281f-02c7-4d5c-860d-a261fe097a99",
   "metadata": {},
   "outputs": [
    {
     "data": {
      "text/html": [
       "<pre style=\"white-space:pre;overflow-x:auto;line-height:normal;font-family:Menlo,'DejaVu Sans Mono',consolas,'Courier New',monospace\"></pre>\n"
      ],
      "text/plain": []
     },
     "metadata": {},
     "output_type": "display_data"
    },
    {
     "data": {
      "text/plain": [
       "\u001b[32m'/home/maa/dev/PHD/docs/paper5'\u001b[0m"
      ]
     },
     "execution_count": 15,
     "metadata": {},
     "output_type": "execute_result"
    }
   ],
   "source": [
    "paper.paper_path"
   ]
  },
  {
   "cell_type": "code",
   "execution_count": 16,
   "id": "5b93fc1a-4099-47db-816d-a9e4803f4b49",
   "metadata": {},
   "outputs": [],
   "source": [
    "equations = []\n",
    "for file_name in os.listdir(paper.paper_path):\n",
    "    if not os.path.splitext(file_name)[-1] == '.tex':\n",
    "        continue\n",
    "\n",
    "    file_path = os.path.join(paper.paper_path, file_name)\n",
    "    with open(file_path, mode='r') as file:\n",
    "        s = file.read()\n",
    "\n",
    "    for result in re.finditer(r\"\\\\input\\{equations/mathematical_model_kinetics\\.([^}]+)\\}\", s):\n",
    "        equations.append(result.group(1))\n",
    "\n",
    "equations = set(equations)"
   ]
  },
  {
   "cell_type": "code",
   "execution_count": 17,
   "id": "fb90d844-bcfd-4225-a040-bdeb0c8f2197",
   "metadata": {},
   "outputs": [],
   "source": [
    "mask_active_symbols = [len(set(row['file_names']) & equations) > 0 for index, row in df_nomenclature_new.iterrows()]\n",
    "df_nomenclature_new = df_nomenclature_new.loc[mask_active_symbols].copy()\n",
    "if 'dC_L_dalpha' in df_nomenclature_new.index:\n",
    "    df_nomenclature_new.drop(index=['dC_L_dalpha'], inplace=True)"
   ]
  },
  {
   "cell_type": "code",
   "execution_count": 18,
   "id": "fbc790f2-cf66-48a6-8c71-d119fd65c5fc",
   "metadata": {},
   "outputs": [],
   "source": [
    "descriptions = {\n",
    "    'alpha' : 'Rudder angle of attack',\n",
    "    'alpha_f': 'Rudder inflow angle',\n",
    "    'delta': 'Rudder angle',\n",
    "    'delta_lim': 'Rudder gap limit',\n",
    "    'dot{r': 'Yaw acceleration',\n",
    "    'dot{u': 'Surge acceleration',\n",
    "    'dot{v': 'Sway acceleration',\n",
    "    'gamma': 'Prop. induced angle',\n",
    "    'gamma_0': 'Rudder initial inflow',\n",
    "    'gamma_g': 'Geometric inflow angle',\n",
    "    'kappa_r_gamma_g': '$\\kappa_r$ nonlinear',\n",
    "    'kappa_r_tot': '$\\kappa_r$ total',\n",
    "    'kappa_r': 'Yaw rate flow straightening',\n",
    "    'kappa_v_gamma_g': '$\\kappa_v$ nonlinear',\n",
    "    'kappa_v_tot': '$\\kappa_v$ total',\n",
    "    'kappa_v': 'Drift flow straightening',\n",
    "    'lambda_gap': 'Rudder gap effec',\n",
    "    'lambda_R': 'limited radius of the prop. slipstream',\n",
    "    'lambda_': 'Rudder taper ratio',\n",
    "    'nu': 'Kinematic viscosity',\n",
    "    'Omega': 'Rudder sweep angle',\n",
    "    'rho': 'Water density',\n",
    "    'a_0': 'Section lift curve slope',\n",
    "    'a_H': 'Sway rudder interaction',\n",
    "    'A_R_C': 'Rudder area covered',\n",
    "    'A_R_U': 'Rudder area uncovered',\n",
    "    'A_R': 'Rudder area',\n",
    "    'AR_e': 'Effective aspect ratio',\n",
    "    'AR_g': 'Geometric aspect ratio',\n",
    "    'b_R': 'Rudder span',\n",
    "    'c': 'Rudder chord',\n",
    "    'C_D_C': 'Drag coeff. covered',\n",
    "    'C_D_tune': 'Drag coeff. tunnig',\n",
    "    'C_D_U': 'Drag coeff. uncovered',\n",
    "    'C_D0_C': 'Initial drag coeff. covered',\n",
    "    'C_D0_tune': 'Initial drag coeff. tune',\n",
    "    'C_D0_U': 'Initial drag coeff. uncovered',\n",
    "    'C_DC': 'Rudder cross-flow drag',\n",
    "    'C_F_C': 'Friction coeff. covered',\n",
    "    'C_F_U': 'Friction coeff. uncovered',\n",
    "    'C_L': 'Lift coeff.',\n",
    "    'c_r': 'Rudder root choord',\n",
    "    'C_Th': 'Thrust coeff.',\n",
    "    'c_t': 'Rudder tip choord',\n",
    "    'd': 'lift diminished variable',\n",
    "    'D_R': 'Rudder drag',\n",
    "    'dC_L_dalpha': 'Lift slope',\n",
    "    'e_0': 'Oswald efficiency factor',\n",
    "    'f': 'lift diminished variable',\n",
    "    'I_z': 'Yaw mass intertia',\n",
    "    'L_R_C': 'Lift covered part',\n",
    "    'L_R_U': 'Lift uncovered part',\n",
    "    'L_R': 'Rudder lift',\n",
    "    'm': 'Ship mass',\n",
    "    'N_{dot{r}': 'Yaw added mass',\n",
    "    'N_{dot{v}': 'Yaw added mass',\n",
    "    'N_D': 'Yaw damping moment',\n",
    "    'N_H': 'Hull yawing moment',\n",
    "    'N_P': 'Prop. yawing moment',\n",
    "    'N_RHI': 'Rudder hull interaction',\n",
    "    'N_R': 'Rudder yawing moment',\n",
    "    'r': 'Yaw rate',\n",
    "    'r_0': 'Prop. radius',\n",
    "    'r_Delta': 'Turbulent mixing',\n",
    "    'r_infty': 'Prop. slipstream',\n",
    "    'r_x': 'Prop. slipstream at rudder',\n",
    "    'Re_F_C': 'Reynold number covered',\n",
    "    'Re_F_U': 'Reynold number uncovered',\n",
    "    's': 'Rudder gap coefficient',\n",
    "    'thrust': 'Thrust',\n",
    "    'u': 'Surge vel.',\n",
    "    'v': 'Sway vel.',\n",
    "    'V_infty': 'Prop. slipstream',\n",
    "    'V_A': 'Apparent vel.',\n",
    "    'V_R_C': 'Rudder vel. covered',\n",
    "    'V_R_U': 'Rudder vel. uncovered',\n",
    "    'V_R_x_C': 'Axial vel. covered',\n",
    "    'V_R_x_U': 'Axial vel. uncovered',\n",
    "    'V_R_y': 'Rudder transverse vel.',\n",
    "    'V_x_corr': 'Turbulent mixing',\n",
    "    'V_x_C': 'No turbulent mixing',\n",
    "    'V_x_U': 'No turbulent mixing',\n",
    "    'w_f': 'Taylor wake',\n",
    "    'x': 'Prop. to rudder',\n",
    "    'X_{dot{u}': 'Surge added mass',\n",
    "    'X_D': 'Surge damping force',\n",
    "    'x_G': 'Center of gravity',\n",
    "    'x_H': 'Yaw rudder interaction',\n",
    "    'X_H': 'Hull surge force',\n",
    "    'X_P': 'Prop. surge force',\n",
    "    'x_R': 'Rudder lever',\n",
    "    'X_R': 'Rudder surge force',\n",
    "    'X_{thrust': 'Thrust deduction',\n",
    "    'Y_{dot{r}': 'Sway added mass',\n",
    "    'Y_{dot{v}': 'Sway added mass',\n",
    "    'Y_D': 'Sway damping force',\n",
    "    'Y_H': 'Hull sway force',\n",
    "    'y_p': 'Propeller lever',\n",
    "    'Y_P': 'Propeller sway force',\n",
    "    'Y_RHI': 'Rudder hull interaction',\n",
    "    'Y_R': 'Rudder sway force',\n",
    "    'y_R': 'Rudder lever'\n",
    "}\n",
    "descriptions=pd.Series(descriptions)"
   ]
  },
  {
   "cell_type": "code",
   "execution_count": 19,
   "id": "2a27f7bd-3980-44a4-a421-70bac09c30d3",
   "metadata": {},
   "outputs": [],
   "source": [
    "#{f\"{index}\":'' for index in df_nomenclature_new.index}"
   ]
  },
  {
   "cell_type": "code",
   "execution_count": 20,
   "id": "7fe1469a-d799-4876-8b5d-3812c44e69f7",
   "metadata": {},
   "outputs": [
    {
     "data": {
      "text/html": [
       "<pre style=\"white-space:pre;overflow-x:auto;line-height:normal;font-family:Menlo,'DejaVu Sans Mono',consolas,'Courier New',monospace\"></pre>\n"
      ],
      "text/plain": []
     },
     "metadata": {},
     "output_type": "display_data"
    },
    {
     "data": {
      "text/plain": [
       "\u001b[1;35mIndex\u001b[0m\u001b[1m(\u001b[0m\u001b[1m[\u001b[0malpha_R, gamma_R_neg, v_R, gamma_R2_neg, u_R, gamma_R, gamma_R2_pos, gamma_0, gamma_R_pos, beta_R, delta\u001b[1m]\u001b[0m, \u001b[33mdtype\u001b[0m=\u001b[32m'object'\u001b[0m\u001b[1m)\u001b[0m"
      ]
     },
     "execution_count": 20,
     "metadata": {},
     "output_type": "execute_result"
    }
   ],
   "source": [
    "df_nomenclature_new.index"
   ]
  },
  {
   "cell_type": "code",
   "execution_count": 21,
   "id": "8e6194a5-3b1b-4399-9903-a70af4f47f48",
   "metadata": {},
   "outputs": [],
   "source": [
    "df_nomenclature_new['Description'] = descriptions"
   ]
  },
  {
   "cell_type": "code",
   "execution_count": 22,
   "id": "8df02303-1d9e-4f48-9f69-1bd430091622",
   "metadata": {},
   "outputs": [
    {
     "data": {
      "text/html": [
       "<pre style=\"white-space:pre;overflow-x:auto;line-height:normal;font-family:Menlo,'DejaVu Sans Mono',consolas,'Courier New',monospace\"></pre>\n"
      ],
      "text/plain": []
     },
     "metadata": {},
     "output_type": "display_data"
    },
    {
     "data": {
      "text/html": [
       "<div>\n",
       "<style scoped>\n",
       "    .dataframe tbody tr th:only-of-type {\n",
       "        vertical-align: middle;\n",
       "    }\n",
       "\n",
       "    .dataframe tbody tr th {\n",
       "        vertical-align: top;\n",
       "    }\n",
       "\n",
       "    .dataframe thead th {\n",
       "        text-align: right;\n",
       "    }\n",
       "</style>\n",
       "<table border=\"1\" class=\"dataframe\">\n",
       "  <thead>\n",
       "    <tr style=\"text-align: right;\">\n",
       "      <th></th>\n",
       "      <th>LaTeX</th>\n",
       "      <th>Description</th>\n",
       "      <th>file_names</th>\n",
       "    </tr>\n",
       "  </thead>\n",
       "  <tbody>\n",
       "    <tr>\n",
       "      <th>alpha_R</th>\n",
       "      <td>$\\alpha_{R}$</td>\n",
       "      <td>NaN</td>\n",
       "      <td>[alpha_R_semiempirical, F_N_semiempirical]</td>\n",
       "    </tr>\n",
       "    <tr>\n",
       "      <th>gamma_R_neg</th>\n",
       "      <td>$\\gamma_{R neg}$</td>\n",
       "      <td>NaN</td>\n",
       "      <td>[gamma_R_semiempirical]</td>\n",
       "    </tr>\n",
       "    <tr>\n",
       "      <th>v_R</th>\n",
       "      <td>$v_{R}$</td>\n",
       "      <td>NaN</td>\n",
       "      <td>[v_R_semiempirical, U_R_semiempirical, alpha_R_semiempirical]</td>\n",
       "    </tr>\n",
       "    <tr>\n",
       "      <th>gamma_R2_neg</th>\n",
       "      <td>$\\gamma_{R2 neg}$</td>\n",
       "      <td>NaN</td>\n",
       "      <td>[gamma_R_semiempirical]</td>\n",
       "    </tr>\n",
       "    <tr>\n",
       "      <th>u_R</th>\n",
       "      <td>$u_{R}$</td>\n",
       "      <td>NaN</td>\n",
       "      <td>[U_R_semiempirical, alpha_R_semiempirical, u_R_semiempirical]</td>\n",
       "    </tr>\n",
       "    <tr>\n",
       "      <th>gamma_R</th>\n",
       "      <td>$\\gamma_{R}$</td>\n",
       "      <td>NaN</td>\n",
       "      <td>[v_R_semiempirical, gamma_R_semiempirical]</td>\n",
       "    </tr>\n",
       "    <tr>\n",
       "      <th>gamma_R2_pos</th>\n",
       "      <td>$\\gamma_{R2 pos}$</td>\n",
       "      <td>NaN</td>\n",
       "      <td>[gamma_R_semiempirical]</td>\n",
       "    </tr>\n",
       "    <tr>\n",
       "      <th>gamma_0</th>\n",
       "      <td>$\\gamma_{0}$</td>\n",
       "      <td>NaN</td>\n",
       "      <td>[alpha_R_semiempirical]</td>\n",
       "    </tr>\n",
       "    <tr>\n",
       "      <th>gamma_R_pos</th>\n",
       "      <td>$\\gamma_{R pos}$</td>\n",
       "      <td>NaN</td>\n",
       "      <td>[gamma_R_semiempirical]</td>\n",
       "    </tr>\n",
       "    <tr>\n",
       "      <th>beta_R</th>\n",
       "      <td>$\\beta_{R}$</td>\n",
       "      <td>NaN</td>\n",
       "      <td>[v_R_semiempirical, gamma_R_semiempirical, beta_R_semiempirical]</td>\n",
       "    </tr>\n",
       "    <tr>\n",
       "      <th>delta</th>\n",
       "      <td>$\\delta$</td>\n",
       "      <td>NaN</td>\n",
       "      <td>[X_R_semiempirical, Y_R_semiempirical, alpha_R_semiempirical]</td>\n",
       "    </tr>\n",
       "  </tbody>\n",
       "</table>\n",
       "</div>"
      ],
      "text/plain": [
       "\n",
       "                          LaTeX Description                                                        file_names\n",
       "alpha_R            $\\alpha_\u001b[1m{\u001b[0mR\u001b[1m}\u001b[0m$         NaN                        \u001b[1m[\u001b[0malpha_R_semiempirical, F_N_semiempirical\u001b[1m]\u001b[0m\n",
       "gamma_R_neg    $\\gamma_\u001b[1m{\u001b[0mR neg\u001b[1m}\u001b[0m$         NaN                                           \u001b[1m[\u001b[0mgamma_R_semiempirical\u001b[1m]\u001b[0m\n",
       "v_R                     $v_\u001b[1m{\u001b[0mR\u001b[1m}\u001b[0m$         NaN     \u001b[1m[\u001b[0mv_R_semiempirical, U_R_semiempirical, alpha_R_semiempirical\u001b[1m]\u001b[0m\n",
       "gamma_R2_neg  $\\gamma_\u001b[1m{\u001b[0mR2 neg\u001b[1m}\u001b[0m$         NaN                                           \u001b[1m[\u001b[0mgamma_R_semiempirical\u001b[1m]\u001b[0m\n",
       "u_R                     $u_\u001b[1m{\u001b[0mR\u001b[1m}\u001b[0m$         NaN     \u001b[1m[\u001b[0mU_R_semiempirical, alpha_R_semiempirical, u_R_semiempirical\u001b[1m]\u001b[0m\n",
       "gamma_R            $\\gamma_\u001b[1m{\u001b[0mR\u001b[1m}\u001b[0m$         NaN                        \u001b[1m[\u001b[0mv_R_semiempirical, gamma_R_semiempirical\u001b[1m]\u001b[0m\n",
       "gamma_R2_pos  $\\gamma_\u001b[1m{\u001b[0mR2 pos\u001b[1m}\u001b[0m$         NaN                                           \u001b[1m[\u001b[0mgamma_R_semiempirical\u001b[1m]\u001b[0m\n",
       "gamma_0            $\\gamma_\u001b[1m{\u001b[0m\u001b[1;36m0\u001b[0m\u001b[1m}\u001b[0m$         NaN                                           \u001b[1m[\u001b[0malpha_R_semiempirical\u001b[1m]\u001b[0m\n",
       "gamma_R_pos    $\\gamma_\u001b[1m{\u001b[0mR pos\u001b[1m}\u001b[0m$         NaN                                           \u001b[1m[\u001b[0mgamma_R_semiempirical\u001b[1m]\u001b[0m\n",
       "beta_R              $\\beta_\u001b[1m{\u001b[0mR\u001b[1m}\u001b[0m$         NaN  \u001b[1m[\u001b[0mv_R_semiempirical, gamma_R_semiempirical, beta_R_semiempirical\u001b[1m]\u001b[0m\n",
       "delta                  $\\delta$         NaN     \u001b[1m[\u001b[0mX_R_semiempirical, Y_R_semiempirical, alpha_R_semiempirical\u001b[1m]\u001b[0m"
      ]
     },
     "execution_count": 22,
     "metadata": {},
     "output_type": "execute_result"
    }
   ],
   "source": [
    "df_nomenclature_new"
   ]
  },
  {
   "cell_type": "code",
   "execution_count": 23,
   "id": "d3e64ea6-d4d2-40d5-a407-71cd7dcb8883",
   "metadata": {},
   "outputs": [],
   "source": [
    "table = paper.table_columns(df_nomenclature_new[['LaTeX','Description']], columns=3)\n",
    "#table.to_csv(paper.file_path_with_nb_ref(\"nomenclature.csv\", directory='tables'), index=False)"
   ]
  },
  {
   "cell_type": "code",
   "execution_count": 24,
   "id": "295cb85c-2388-4848-8bdc-f1c1fbc758e5",
   "metadata": {},
   "outputs": [
    {
     "data": {
      "text/html": [
       "<pre style=\"white-space:pre;overflow-x:auto;line-height:normal;font-family:Menlo,'DejaVu Sans Mono',consolas,'Courier New',monospace\"></pre>\n"
      ],
      "text/plain": []
     },
     "metadata": {},
     "output_type": "display_data"
    },
    {
     "data": {
      "text/html": [
       "<div>\n",
       "<style scoped>\n",
       "    .dataframe tbody tr th:only-of-type {\n",
       "        vertical-align: middle;\n",
       "    }\n",
       "\n",
       "    .dataframe tbody tr th {\n",
       "        vertical-align: top;\n",
       "    }\n",
       "\n",
       "    .dataframe thead th {\n",
       "        text-align: right;\n",
       "    }\n",
       "</style>\n",
       "<table border=\"1\" class=\"dataframe\">\n",
       "  <thead>\n",
       "    <tr style=\"text-align: right;\">\n",
       "      <th></th>\n",
       "      <th>LaTeX</th>\n",
       "      <th>Description</th>\n",
       "      <th>LaTeX1</th>\n",
       "      <th>Description1</th>\n",
       "      <th>LaTeX2</th>\n",
       "      <th>Description2</th>\n",
       "    </tr>\n",
       "  </thead>\n",
       "  <tbody>\n",
       "    <tr>\n",
       "      <th>0</th>\n",
       "      <td>$\\alpha_{R}$</td>\n",
       "      <td>NaN</td>\n",
       "      <td>$u_{R}$</td>\n",
       "      <td>NaN</td>\n",
       "      <td>$\\gamma_{R pos}$</td>\n",
       "      <td>NaN</td>\n",
       "    </tr>\n",
       "    <tr>\n",
       "      <th>1</th>\n",
       "      <td>$\\gamma_{R neg}$</td>\n",
       "      <td>NaN</td>\n",
       "      <td>$\\gamma_{R}$</td>\n",
       "      <td>NaN</td>\n",
       "      <td>$\\beta_{R}$</td>\n",
       "      <td>NaN</td>\n",
       "    </tr>\n",
       "    <tr>\n",
       "      <th>2</th>\n",
       "      <td>$v_{R}$</td>\n",
       "      <td>NaN</td>\n",
       "      <td>$\\gamma_{R2 pos}$</td>\n",
       "      <td>NaN</td>\n",
       "      <td>$\\delta$</td>\n",
       "      <td>NaN</td>\n",
       "    </tr>\n",
       "    <tr>\n",
       "      <th>3</th>\n",
       "      <td>$\\gamma_{R2 neg}$</td>\n",
       "      <td>NaN</td>\n",
       "      <td>$\\gamma_{0}$</td>\n",
       "      <td>NaN</td>\n",
       "      <td>NaN</td>\n",
       "      <td>NaN</td>\n",
       "    </tr>\n",
       "  </tbody>\n",
       "</table>\n",
       "</div>"
      ],
      "text/plain": [
       "\n",
       "               LaTeX Description             LaTeX1 Description1            LaTeX2 Description2\n",
       "\u001b[1;36m0\u001b[0m       $\\alpha_\u001b[1m{\u001b[0mR\u001b[1m}\u001b[0m$         NaN            $u_\u001b[1m{\u001b[0mR\u001b[1m}\u001b[0m$          NaN  $\\gamma_\u001b[1m{\u001b[0mR pos\u001b[1m}\u001b[0m$          NaN\n",
       "\u001b[1;36m1\u001b[0m   $\\gamma_\u001b[1m{\u001b[0mR neg\u001b[1m}\u001b[0m$         NaN       $\\gamma_\u001b[1m{\u001b[0mR\u001b[1m}\u001b[0m$          NaN       $\\beta_\u001b[1m{\u001b[0mR\u001b[1m}\u001b[0m$          NaN\n",
       "\u001b[1;36m2\u001b[0m            $v_\u001b[1m{\u001b[0mR\u001b[1m}\u001b[0m$         NaN  $\\gamma_\u001b[1m{\u001b[0mR2 pos\u001b[1m}\u001b[0m$          NaN          $\\delta$          NaN\n",
       "\u001b[1;36m3\u001b[0m  $\\gamma_\u001b[1m{\u001b[0mR2 neg\u001b[1m}\u001b[0m$         NaN       $\\gamma_\u001b[1m{\u001b[0m\u001b[1;36m0\u001b[0m\u001b[1m}\u001b[0m$          NaN               NaN          NaN"
      ]
     },
     "execution_count": 24,
     "metadata": {},
     "output_type": "execute_result"
    }
   ],
   "source": [
    "table"
   ]
  },
  {
   "cell_type": "code",
   "execution_count": null,
   "id": "c7aaf940-c031-4e64-aa3f-cb9225f5f4ea",
   "metadata": {},
   "outputs": [],
   "source": []
  }
 ],
 "metadata": {
  "kernelspec": {
   "display_name": "Kedro (phd)",
   "language": "python",
   "name": "kedro_phd"
  },
  "language_info": {
   "codemirror_mode": {
    "name": "ipython",
    "version": 3
   },
   "file_extension": ".py",
   "mimetype": "text/x-python",
   "name": "python",
   "nbconvert_exporter": "python",
   "pygments_lexer": "ipython3",
   "version": "3.10.0"
  }
 },
 "nbformat": 4,
 "nbformat_minor": 5
}
