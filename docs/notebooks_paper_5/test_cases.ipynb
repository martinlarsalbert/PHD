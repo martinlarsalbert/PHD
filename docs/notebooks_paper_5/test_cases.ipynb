{
 "cells": [
  {
   "cell_type": "markdown",
   "id": "73b818e3-c2d1-404f-8d10-04420970090d",
   "metadata": {},
   "source": [
    "# Main particulars Optiwise"
   ]
  },
  {
   "cell_type": "code",
   "execution_count": 1,
   "id": "8b12dea1-f0d7-4aa5-969c-901c0064cda2",
   "metadata": {},
   "outputs": [],
   "source": [
    "#import warnings\n",
    "#warnings.filterwarnings('ignore')\n",
    "%matplotlib inline\n",
    "%load_ext autoreload\n",
    "%autoreload 2\n",
    "%config Completer.use_jedi = False"
   ]
  },
  {
   "cell_type": "code",
   "execution_count": 2,
   "id": "7de1fea8-6fb8-4ad0-b597-74b8dae1d84e",
   "metadata": {},
   "outputs": [],
   "source": [
    "import pandas as pd\n",
    "pd.set_option('display.max_rows', 5000)\n",
    "pd.set_option('display.max_columns', 5000)\n",
    "pd.set_option('display.width', 10000)\n",
    "import numpy as np\n",
    "import yaml\n",
    "\n",
    "from vessel_manoeuvring_models.visualization.plot import track_plot, plot\n",
    "from phd.visualization.plot_ship import track_plots\n",
    "from vessel_manoeuvring_models.prime_system import PrimeSystem\n",
    "from phd.visualization.plot_prediction import plot_total_force, plot_force_components, predict, plot_compare_model_forces, plot_parameter_contributions, group_parameters, joined_parameter_contributions, same_ylims\n",
    "from vessel_manoeuvring_models.symbols import *\n",
    "import matplotlib.pyplot as plt\n",
    "from vessel_manoeuvring_models.substitute_dynamic_symbols import run, lambdify, remove_functions, prime\n",
    "from vessel_manoeuvring_models.parameters import df_parameters as df_parameters_all\n",
    "p = df_parameters_all[\"symbol\"]\n",
    "import statsmodels.api as sm\n",
    "import sympy as sp\n",
    "from sympy import Eq, symbols, latex\n",
    "import paper\n",
    "from paper import save_fig, save_eq\n",
    "import yaml\n",
    "#with open(\"styles.yml\", mode='r') as file:\n",
    "#    styles = yaml.safe_load(file)\n",
    "from phd.visualization.styles import styles\n",
    "from phd.pipelines.predict.nodes import score\n",
    "import vessel_manoeuvring_models.models.IMO_simulations\n",
    "from phd.paper.equation import to_latex"
   ]
  },
  {
   "cell_type": "code",
   "execution_count": 3,
   "id": "b0f2bd8a-d119-4133-a27a-0d88bf92ba51",
   "metadata": {},
   "outputs": [
    {
     "data": {
      "text/html": [
       "<pre style=\"white-space:pre;overflow-x:auto;line-height:normal;font-family:Menlo,'DejaVu Sans Mono',consolas,'Courier New',monospace\"><span style=\"color: #7fbfbf; text-decoration-color: #7fbfbf\">[01/27/25 13:32:50] </span><span style=\"color: #800000; text-decoration-color: #800000\">WARNING </span> <span style=\"color: #800080; text-decoration-color: #800080\">/home/maa/miniconda3/envs/phd/lib/python3.10/site-packages/kedro/io/</span><span style=\"color: #ff00ff; text-decoration-color: #ff00ff\">pa</span> <a href=\"file:///home/maa/miniconda3/envs/phd/lib/python3.10/warnings.py\" target=\"_blank\"><span style=\"color: #7f7f7f; text-decoration-color: #7f7f7f\">warnings.py</span></a><span style=\"color: #7f7f7f; text-decoration-color: #7f7f7f\">:</span><a href=\"file:///home/maa/miniconda3/envs/phd/lib/python3.10/warnings.py#109\" target=\"_blank\"><span style=\"color: #7f7f7f; text-decoration-color: #7f7f7f\">109</span></a>\n",
       "<span style=\"color: #7fbfbf; text-decoration-color: #7fbfbf\">                    </span>         <span style=\"color: #ff00ff; text-decoration-color: #ff00ff\">rtitioned_dataset.py</span>:<span style=\"color: #008080; text-decoration-color: #008080; font-weight: bold\">200</span>: KedroDeprecationWarning:                     <span style=\"color: #7f7f7f; text-decoration-color: #7f7f7f\">               </span>\n",
       "<span style=\"color: #7fbfbf; text-decoration-color: #7fbfbf\">                    </span>         <span style=\"color: #008000; text-decoration-color: #008000\">'PartitionedDataset'</span> has been moved to `kedro-datasets` and will be    <span style=\"color: #7f7f7f; text-decoration-color: #7f7f7f\">               </span>\n",
       "<span style=\"color: #7fbfbf; text-decoration-color: #7fbfbf\">                    </span>         removed in Kedro <span style=\"color: #008080; text-decoration-color: #008080; font-weight: bold\">0.19</span>.<span style=\"color: #008080; text-decoration-color: #008080; font-weight: bold\">0</span>.                                               <span style=\"color: #7f7f7f; text-decoration-color: #7f7f7f\">               </span>\n",
       "<span style=\"color: #7fbfbf; text-decoration-color: #7fbfbf\">                    </span>           <span style=\"color: #800080; text-decoration-color: #800080; font-weight: bold\">warnings.warn</span><span style=\"font-weight: bold\">(</span>                                                       <span style=\"color: #7f7f7f; text-decoration-color: #7f7f7f\">               </span>\n",
       "<span style=\"color: #7fbfbf; text-decoration-color: #7fbfbf\">                    </span>                                                                                <span style=\"color: #7f7f7f; text-decoration-color: #7f7f7f\">               </span>\n",
       "</pre>\n"
      ],
      "text/plain": [
       "\u001b[2;36m[01/27/25 13:32:50]\u001b[0m\u001b[2;36m \u001b[0m\u001b[31mWARNING \u001b[0m \u001b[35m/home/maa/miniconda3/envs/phd/lib/python3.10/site-packages/kedro/io/\u001b[0m\u001b[95mpa\u001b[0m \u001b]8;id=173568;file:///home/maa/miniconda3/envs/phd/lib/python3.10/warnings.py\u001b\\\u001b[2mwarnings.py\u001b[0m\u001b]8;;\u001b\\\u001b[2m:\u001b[0m\u001b]8;id=601239;file:///home/maa/miniconda3/envs/phd/lib/python3.10/warnings.py#109\u001b\\\u001b[2m109\u001b[0m\u001b]8;;\u001b\\\n",
       "\u001b[2;36m                    \u001b[0m         \u001b[95mrtitioned_dataset.py\u001b[0m:\u001b[1;36m200\u001b[0m: KedroDeprecationWarning:                     \u001b[2m               \u001b[0m\n",
       "\u001b[2;36m                    \u001b[0m         \u001b[32m'PartitionedDataset'\u001b[0m has been moved to `kedro-datasets` and will be    \u001b[2m               \u001b[0m\n",
       "\u001b[2;36m                    \u001b[0m         removed in Kedro \u001b[1;36m0.19\u001b[0m.\u001b[1;36m0\u001b[0m.                                               \u001b[2m               \u001b[0m\n",
       "\u001b[2;36m                    \u001b[0m           \u001b[1;35mwarnings.warn\u001b[0m\u001b[1m(\u001b[0m                                                       \u001b[2m               \u001b[0m\n",
       "\u001b[2;36m                    \u001b[0m                                                                                \u001b[2m               \u001b[0m\n"
      ]
     },
     "metadata": {},
     "output_type": "display_data"
    },
    {
     "data": {
      "text/html": [
       "<pre style=\"white-space:pre;overflow-x:auto;line-height:normal;font-family:Menlo,'DejaVu Sans Mono',consolas,'Courier New',monospace\"><span style=\"color: #7fbfbf; text-decoration-color: #7fbfbf\">                    </span><span style=\"color: #800000; text-decoration-color: #800000\">WARNING </span> <span style=\"color: #800080; text-decoration-color: #800080\">/home/maa/miniconda3/envs/phd/lib/python3.10/site-packages/kedro/io/</span><span style=\"color: #ff00ff; text-decoration-color: #ff00ff\">__</span> <a href=\"file:///home/maa/miniconda3/envs/phd/lib/python3.10/warnings.py\" target=\"_blank\"><span style=\"color: #7f7f7f; text-decoration-color: #7f7f7f\">warnings.py</span></a><span style=\"color: #7f7f7f; text-decoration-color: #7f7f7f\">:</span><a href=\"file:///home/maa/miniconda3/envs/phd/lib/python3.10/warnings.py#109\" target=\"_blank\"><span style=\"color: #7f7f7f; text-decoration-color: #7f7f7f\">109</span></a>\n",
       "<span style=\"color: #7fbfbf; text-decoration-color: #7fbfbf\">                    </span>         <span style=\"color: #ff00ff; text-decoration-color: #ff00ff\">init__.py</span>:<span style=\"color: #008080; text-decoration-color: #008080; font-weight: bold\">44</span>: KedroDeprecationWarning: <span style=\"color: #008000; text-decoration-color: #008000\">'AbstractDataSet'</span> has been      <span style=\"color: #7f7f7f; text-decoration-color: #7f7f7f\">               </span>\n",
       "<span style=\"color: #7fbfbf; text-decoration-color: #7fbfbf\">                    </span>         renamed to <span style=\"color: #008000; text-decoration-color: #008000\">'AbstractDataset'</span>, and the alias will be removed in Kedro   <span style=\"color: #7f7f7f; text-decoration-color: #7f7f7f\">               </span>\n",
       "<span style=\"color: #7fbfbf; text-decoration-color: #7fbfbf\">                    </span>         <span style=\"color: #008080; text-decoration-color: #008080; font-weight: bold\">0.19</span>.<span style=\"color: #008080; text-decoration-color: #008080; font-weight: bold\">0</span>                                                                 <span style=\"color: #7f7f7f; text-decoration-color: #7f7f7f\">               </span>\n",
       "<span style=\"color: #7fbfbf; text-decoration-color: #7fbfbf\">                    </span>           return <span style=\"color: #800080; text-decoration-color: #800080; font-weight: bold\">getattr</span><span style=\"font-weight: bold\">(</span>kedro.io.core, name<span style=\"font-weight: bold\">)</span>                                  <span style=\"color: #7f7f7f; text-decoration-color: #7f7f7f\">               </span>\n",
       "<span style=\"color: #7fbfbf; text-decoration-color: #7fbfbf\">                    </span>                                                                                <span style=\"color: #7f7f7f; text-decoration-color: #7f7f7f\">               </span>\n",
       "</pre>\n"
      ],
      "text/plain": [
       "\u001b[2;36m                   \u001b[0m\u001b[2;36m \u001b[0m\u001b[31mWARNING \u001b[0m \u001b[35m/home/maa/miniconda3/envs/phd/lib/python3.10/site-packages/kedro/io/\u001b[0m\u001b[95m__\u001b[0m \u001b]8;id=889240;file:///home/maa/miniconda3/envs/phd/lib/python3.10/warnings.py\u001b\\\u001b[2mwarnings.py\u001b[0m\u001b]8;;\u001b\\\u001b[2m:\u001b[0m\u001b]8;id=856594;file:///home/maa/miniconda3/envs/phd/lib/python3.10/warnings.py#109\u001b\\\u001b[2m109\u001b[0m\u001b]8;;\u001b\\\n",
       "\u001b[2;36m                    \u001b[0m         \u001b[95minit__.py\u001b[0m:\u001b[1;36m44\u001b[0m: KedroDeprecationWarning: \u001b[32m'AbstractDataSet'\u001b[0m has been      \u001b[2m               \u001b[0m\n",
       "\u001b[2;36m                    \u001b[0m         renamed to \u001b[32m'AbstractDataset'\u001b[0m, and the alias will be removed in Kedro   \u001b[2m               \u001b[0m\n",
       "\u001b[2;36m                    \u001b[0m         \u001b[1;36m0.19\u001b[0m.\u001b[1;36m0\u001b[0m                                                                 \u001b[2m               \u001b[0m\n",
       "\u001b[2;36m                    \u001b[0m           return \u001b[1;35mgetattr\u001b[0m\u001b[1m(\u001b[0mkedro.io.core, name\u001b[1m)\u001b[0m                                  \u001b[2m               \u001b[0m\n",
       "\u001b[2;36m                    \u001b[0m                                                                                \u001b[2m               \u001b[0m\n"
      ]
     },
     "metadata": {},
     "output_type": "display_data"
    },
    {
     "data": {
      "text/html": [
       "<pre style=\"white-space:pre;overflow-x:auto;line-height:normal;font-family:Menlo,'DejaVu Sans Mono',consolas,'Courier New',monospace\"><span style=\"color: #7fbfbf; text-decoration-color: #7fbfbf\">                    </span><span style=\"color: #000080; text-decoration-color: #000080\">INFO    </span> Loading data from <span style=\"color: #008000; text-decoration-color: #008000\">'wPCC.models_VCT_MDL'</span> <span style=\"font-weight: bold\">(</span>PartitionedDataset<span style=\"font-weight: bold\">)</span><span style=\"color: #808000; text-decoration-color: #808000\">...</span>    <a href=\"file:///home/maa/miniconda3/envs/phd/lib/python3.10/site-packages/kedro/io/data_catalog.py\" target=\"_blank\"><span style=\"color: #7f7f7f; text-decoration-color: #7f7f7f\">data_catalog.py</span></a><span style=\"color: #7f7f7f; text-decoration-color: #7f7f7f\">:</span><a href=\"file:///home/maa/miniconda3/envs/phd/lib/python3.10/site-packages/kedro/io/data_catalog.py#502\" target=\"_blank\"><span style=\"color: #7f7f7f; text-decoration-color: #7f7f7f\">502</span></a>\n",
       "</pre>\n"
      ],
      "text/plain": [
       "\u001b[2;36m                   \u001b[0m\u001b[2;36m \u001b[0m\u001b[34mINFO    \u001b[0m Loading data from \u001b[32m'wPCC.models_VCT_MDL'\u001b[0m \u001b[1m(\u001b[0mPartitionedDataset\u001b[1m)\u001b[0m\u001b[33m...\u001b[0m    \u001b]8;id=556952;file:///home/maa/miniconda3/envs/phd/lib/python3.10/site-packages/kedro/io/data_catalog.py\u001b\\\u001b[2mdata_catalog.py\u001b[0m\u001b]8;;\u001b\\\u001b[2m:\u001b[0m\u001b]8;id=441176;file:///home/maa/miniconda3/envs/phd/lib/python3.10/site-packages/kedro/io/data_catalog.py#502\u001b\\\u001b[2m502\u001b[0m\u001b]8;;\u001b\\\n"
      ]
     },
     "metadata": {},
     "output_type": "display_data"
    }
   ],
   "source": [
    "model_wPCC = catalog.load(f\"wPCC.models_VCT_MDL\")['semiempirical_covered_inertia']()"
   ]
  },
  {
   "cell_type": "code",
   "execution_count": 4,
   "id": "66aa1022-cb00-4aa4-bbf1-11370d11d54a",
   "metadata": {},
   "outputs": [
    {
     "data": {
      "text/html": [
       "<pre style=\"white-space:pre;overflow-x:auto;line-height:normal;font-family:Menlo,'DejaVu Sans Mono',consolas,'Courier New',monospace\"><span style=\"color: #7fbfbf; text-decoration-color: #7fbfbf\">[01/27/25 13:33:11] </span><span style=\"color: #000080; text-decoration-color: #000080\">INFO    </span> Loading data from <span style=\"color: #008000; text-decoration-color: #008000\">'optiwise.ship_data'</span> <span style=\"font-weight: bold\">(</span>YAMLDataSet<span style=\"font-weight: bold\">)</span><span style=\"color: #808000; text-decoration-color: #808000\">...</span>            <a href=\"file:///home/maa/miniconda3/envs/phd/lib/python3.10/site-packages/kedro/io/data_catalog.py\" target=\"_blank\"><span style=\"color: #7f7f7f; text-decoration-color: #7f7f7f\">data_catalog.py</span></a><span style=\"color: #7f7f7f; text-decoration-color: #7f7f7f\">:</span><a href=\"file:///home/maa/miniconda3/envs/phd/lib/python3.10/site-packages/kedro/io/data_catalog.py#502\" target=\"_blank\"><span style=\"color: #7f7f7f; text-decoration-color: #7f7f7f\">502</span></a>\n",
       "</pre>\n"
      ],
      "text/plain": [
       "\u001b[2;36m[01/27/25 13:33:11]\u001b[0m\u001b[2;36m \u001b[0m\u001b[34mINFO    \u001b[0m Loading data from \u001b[32m'optiwise.ship_data'\u001b[0m \u001b[1m(\u001b[0mYAMLDataSet\u001b[1m)\u001b[0m\u001b[33m...\u001b[0m            \u001b]8;id=60440;file:///home/maa/miniconda3/envs/phd/lib/python3.10/site-packages/kedro/io/data_catalog.py\u001b\\\u001b[2mdata_catalog.py\u001b[0m\u001b]8;;\u001b\\\u001b[2m:\u001b[0m\u001b]8;id=712307;file:///home/maa/miniconda3/envs/phd/lib/python3.10/site-packages/kedro/io/data_catalog.py#502\u001b\\\u001b[2m502\u001b[0m\u001b]8;;\u001b\\\n"
      ]
     },
     "metadata": {},
     "output_type": "display_data"
    },
    {
     "data": {
      "text/html": [
       "<pre style=\"white-space:pre;overflow-x:auto;line-height:normal;font-family:Menlo,'DejaVu Sans Mono',consolas,'Courier New',monospace\"><span style=\"color: #7fbfbf; text-decoration-color: #7fbfbf\">                    </span><span style=\"color: #000080; text-decoration-color: #000080\">INFO    </span> Loading data from <span style=\"color: #008000; text-decoration-color: #008000\">'optiwise.models_VCT_MDL'</span>                        <a href=\"file:///home/maa/miniconda3/envs/phd/lib/python3.10/site-packages/kedro/io/data_catalog.py\" target=\"_blank\"><span style=\"color: #7f7f7f; text-decoration-color: #7f7f7f\">data_catalog.py</span></a><span style=\"color: #7f7f7f; text-decoration-color: #7f7f7f\">:</span><a href=\"file:///home/maa/miniconda3/envs/phd/lib/python3.10/site-packages/kedro/io/data_catalog.py#502\" target=\"_blank\"><span style=\"color: #7f7f7f; text-decoration-color: #7f7f7f\">502</span></a>\n",
       "<span style=\"color: #7fbfbf; text-decoration-color: #7fbfbf\">                    </span>         <span style=\"font-weight: bold\">(</span>PartitionedDataset<span style=\"font-weight: bold\">)</span><span style=\"color: #808000; text-decoration-color: #808000\">...</span>                                            <span style=\"color: #7f7f7f; text-decoration-color: #7f7f7f\">                   </span>\n",
       "</pre>\n"
      ],
      "text/plain": [
       "\u001b[2;36m                   \u001b[0m\u001b[2;36m \u001b[0m\u001b[34mINFO    \u001b[0m Loading data from \u001b[32m'optiwise.models_VCT_MDL'\u001b[0m                        \u001b]8;id=95150;file:///home/maa/miniconda3/envs/phd/lib/python3.10/site-packages/kedro/io/data_catalog.py\u001b\\\u001b[2mdata_catalog.py\u001b[0m\u001b]8;;\u001b\\\u001b[2m:\u001b[0m\u001b]8;id=122204;file:///home/maa/miniconda3/envs/phd/lib/python3.10/site-packages/kedro/io/data_catalog.py#502\u001b\\\u001b[2m502\u001b[0m\u001b]8;;\u001b\\\n",
       "\u001b[2;36m                    \u001b[0m         \u001b[1m(\u001b[0mPartitionedDataset\u001b[1m)\u001b[0m\u001b[33m...\u001b[0m                                            \u001b[2m                   \u001b[0m\n"
      ]
     },
     "metadata": {},
     "output_type": "display_data"
    }
   ],
   "source": [
    "#%reload_kedro\n",
    "ship='optiwise'\n",
    "ship_data = catalog.load(f\"{ship}.ship_data\")\n",
    "\n",
    "loaders = {\n",
    "    \"semiempirical rudder\" : catalog.load(f\"{ship}.models_VCT_MDL\")['semiempirical_covered_inertia'],\n",
    "}"
   ]
  },
  {
   "cell_type": "code",
   "execution_count": 5,
   "id": "03119185-5b8b-4967-b13d-0e114f9e33aa",
   "metadata": {},
   "outputs": [
    {
     "data": {
      "text/html": [
       "<pre style=\"white-space:pre;overflow-x:auto;line-height:normal;font-family:Menlo,'DejaVu Sans Mono',consolas,'Courier New',monospace\"><span style=\"color: #7fbfbf; text-decoration-color: #7fbfbf\">                    </span><span style=\"color: #000080; text-decoration-color: #000080\">INFO    </span> Loading data from <span style=\"color: #008000; text-decoration-color: #008000\">'optiwise.models_VCT_MDL'</span>                        <a href=\"file:///home/maa/miniconda3/envs/phd/lib/python3.10/site-packages/kedro/io/data_catalog.py\" target=\"_blank\"><span style=\"color: #7f7f7f; text-decoration-color: #7f7f7f\">data_catalog.py</span></a><span style=\"color: #7f7f7f; text-decoration-color: #7f7f7f\">:</span><a href=\"file:///home/maa/miniconda3/envs/phd/lib/python3.10/site-packages/kedro/io/data_catalog.py#502\" target=\"_blank\"><span style=\"color: #7f7f7f; text-decoration-color: #7f7f7f\">502</span></a>\n",
       "<span style=\"color: #7fbfbf; text-decoration-color: #7fbfbf\">                    </span>         <span style=\"font-weight: bold\">(</span>PartitionedDataset<span style=\"font-weight: bold\">)</span><span style=\"color: #808000; text-decoration-color: #808000\">...</span>                                            <span style=\"color: #7f7f7f; text-decoration-color: #7f7f7f\">                   </span>\n",
       "</pre>\n"
      ],
      "text/plain": [
       "\u001b[2;36m                   \u001b[0m\u001b[2;36m \u001b[0m\u001b[34mINFO    \u001b[0m Loading data from \u001b[32m'optiwise.models_VCT_MDL'\u001b[0m                        \u001b]8;id=813051;file:///home/maa/miniconda3/envs/phd/lib/python3.10/site-packages/kedro/io/data_catalog.py\u001b\\\u001b[2mdata_catalog.py\u001b[0m\u001b]8;;\u001b\\\u001b[2m:\u001b[0m\u001b]8;id=206225;file:///home/maa/miniconda3/envs/phd/lib/python3.10/site-packages/kedro/io/data_catalog.py#502\u001b\\\u001b[2m502\u001b[0m\u001b]8;;\u001b\\\n",
       "\u001b[2;36m                    \u001b[0m         \u001b[1m(\u001b[0mPartitionedDataset\u001b[1m)\u001b[0m\u001b[33m...\u001b[0m                                            \u001b[2m                   \u001b[0m\n"
      ]
     },
     "metadata": {},
     "output_type": "display_data"
    },
    {
     "data": {
      "text/html": [
       "<pre style=\"white-space:pre;overflow-x:auto;line-height:normal;font-family:Menlo,'DejaVu Sans Mono',consolas,'Courier New',monospace\"></pre>\n"
      ],
      "text/plain": []
     },
     "metadata": {},
     "output_type": "display_data"
    },
    {
     "data": {
      "text/plain": [
       "\n",
       "\u001b[1m{\u001b[0m\n",
       "    \u001b[32m'semiempirical_covered_inertia'\u001b[0m: \u001b[1m<\u001b[0m\u001b[1;95mbound\u001b[0m\u001b[39m method AbstractDataset.load of <phd.extras.datasets.model_dataset.ModularVesselSimulatorDataSet object at \u001b[0m\u001b[1;36m0x7ff53f797100\u001b[0m\u001b[39m>\u001b[0m\u001b[1m>\u001b[0m\n",
       "\u001b[1m}\u001b[0m"
      ]
     },
     "execution_count": 5,
     "metadata": {},
     "output_type": "execute_result"
    }
   ],
   "source": [
    "catalog.load(f\"{ship}.models_VCT_MDL\")"
   ]
  },
  {
   "cell_type": "code",
   "execution_count": 6,
   "id": "0dc7e454-708a-4a81-b30b-9819fc340adf",
   "metadata": {},
   "outputs": [],
   "source": [
    "models = {name:loader() for name,loader in loaders.items()}"
   ]
  },
  {
   "cell_type": "code",
   "execution_count": 7,
   "id": "d9737dcd-2146-460c-9839-b951b532321d",
   "metadata": {},
   "outputs": [],
   "source": [
    "dofs=['X','Y','N']\n",
    "_=[]\n",
    "for model_name,model in models.items():\n",
    "    pars_all = {}\n",
    "    for dof in dofs:\n",
    "        pars = {key:value for key,value in model.parameters.items() if ((value!=0) and (key[0]==dof) and (not 'dot' in key) and (not 'delta' in key) and (not 'thrust' in key))}\n",
    "        pars_all.update(pars)\n",
    "    \n",
    "    pars_all['model'] = styles[model_name]['label']\n",
    "    _.append(pars_all)\n",
    "\n",
    "df_parameters = pd.DataFrame(_)\n",
    "df_parameters = df_parameters.set_index('model').transpose()\n",
    "df_parameters.index = pd.Series(df_parameters.index).apply(lambda x:fr\"${{{x[0]}'}}_{{{x[1:]}}}$\")\n",
    "df_parameters.index.name='Coefficient'"
   ]
  },
  {
   "cell_type": "code",
   "execution_count": 8,
   "id": "f9f0db34-915c-4093-86ef-dae37ca9df32",
   "metadata": {},
   "outputs": [
    {
     "data": {
      "text/html": [
       "<pre style=\"white-space:pre;overflow-x:auto;line-height:normal;font-family:Menlo,'DejaVu Sans Mono',consolas,'Courier New',monospace\"></pre>\n"
      ],
      "text/plain": []
     },
     "metadata": {},
     "output_type": "display_data"
    },
    {
     "data": {
      "text/html": [
       "<div>\n",
       "<style scoped>\n",
       "    .dataframe tbody tr th:only-of-type {\n",
       "        vertical-align: middle;\n",
       "    }\n",
       "\n",
       "    .dataframe tbody tr th {\n",
       "        vertical-align: top;\n",
       "    }\n",
       "\n",
       "    .dataframe thead th {\n",
       "        text-align: right;\n",
       "    }\n",
       "</style>\n",
       "<table border=\"1\" class=\"dataframe\">\n",
       "  <thead>\n",
       "    <tr style=\"text-align: right;\">\n",
       "      <th>model</th>\n",
       "      <th>semi-empirical rudder</th>\n",
       "    </tr>\n",
       "    <tr>\n",
       "      <th>Coefficient</th>\n",
       "      <th></th>\n",
       "    </tr>\n",
       "  </thead>\n",
       "  <tbody>\n",
       "    <tr>\n",
       "      <th>${X'}_{0}$</th>\n",
       "      <td>-0.001363</td>\n",
       "    </tr>\n",
       "    <tr>\n",
       "      <th>${X'}_{u}$</th>\n",
       "      <td>0.000417</td>\n",
       "    </tr>\n",
       "    <tr>\n",
       "      <th>${X'}_{vv}$</th>\n",
       "      <td>-0.002161</td>\n",
       "    </tr>\n",
       "    <tr>\n",
       "      <th>${X'}_{rr}$</th>\n",
       "      <td>-0.001232</td>\n",
       "    </tr>\n",
       "    <tr>\n",
       "      <th>${X'}_{vr}$</th>\n",
       "      <td>-0.005647</td>\n",
       "    </tr>\n",
       "    <tr>\n",
       "      <th>${Y'}_{vvv}$</th>\n",
       "      <td>-0.176322</td>\n",
       "    </tr>\n",
       "    <tr>\n",
       "      <th>${Y'}_{v}$</th>\n",
       "      <td>-0.015159</td>\n",
       "    </tr>\n",
       "    <tr>\n",
       "      <th>${Y'}_{r}$</th>\n",
       "      <td>0.006785</td>\n",
       "    </tr>\n",
       "    <tr>\n",
       "      <th>${Y'}_{vrr}$</th>\n",
       "      <td>-0.105037</td>\n",
       "    </tr>\n",
       "    <tr>\n",
       "      <th>${Y'}_{vvr}$</th>\n",
       "      <td>-0.074281</td>\n",
       "    </tr>\n",
       "    <tr>\n",
       "      <th>${N'}_{v}$</th>\n",
       "      <td>0.005162</td>\n",
       "    </tr>\n",
       "    <tr>\n",
       "      <th>${N'}_{vvv}$</th>\n",
       "      <td>-0.007646</td>\n",
       "    </tr>\n",
       "    <tr>\n",
       "      <th>${N'}_{r}$</th>\n",
       "      <td>-0.001838</td>\n",
       "    </tr>\n",
       "    <tr>\n",
       "      <th>${N'}_{vvr}$</th>\n",
       "      <td>-0.016552</td>\n",
       "    </tr>\n",
       "    <tr>\n",
       "      <th>${N'}_{vrr}$</th>\n",
       "      <td>-0.002705</td>\n",
       "    </tr>\n",
       "  </tbody>\n",
       "</table>\n",
       "</div>"
      ],
      "text/plain": [
       "\n",
       "model         semi-empirical rudder\n",
       "Coefficient                        \n",
       "$\u001b[1m{\u001b[0mX'\u001b[1m}\u001b[0m_\u001b[1m{\u001b[0m\u001b[1;36m0\u001b[0m\u001b[1m}\u001b[0m$                \u001b[1;36m-0.001363\u001b[0m\n",
       "$\u001b[1m{\u001b[0mX'\u001b[1m}\u001b[0m_\u001b[1m{\u001b[0mu\u001b[1m}\u001b[0m$                 \u001b[1;36m0.000417\u001b[0m\n",
       "$\u001b[1m{\u001b[0mX'\u001b[1m}\u001b[0m_\u001b[1m{\u001b[0mvv\u001b[1m}\u001b[0m$               \u001b[1;36m-0.002161\u001b[0m\n",
       "$\u001b[1m{\u001b[0mX'\u001b[1m}\u001b[0m_\u001b[1m{\u001b[0mrr\u001b[1m}\u001b[0m$               \u001b[1;36m-0.001232\u001b[0m\n",
       "$\u001b[1m{\u001b[0mX'\u001b[1m}\u001b[0m_\u001b[1m{\u001b[0mvr\u001b[1m}\u001b[0m$               \u001b[1;36m-0.005647\u001b[0m\n",
       "$\u001b[1m{\u001b[0mY'\u001b[1m}\u001b[0m_\u001b[1m{\u001b[0mvvv\u001b[1m}\u001b[0m$              \u001b[1;36m-0.176322\u001b[0m\n",
       "$\u001b[1m{\u001b[0mY'\u001b[1m}\u001b[0m_\u001b[1m{\u001b[0mv\u001b[1m}\u001b[0m$                \u001b[1;36m-0.015159\u001b[0m\n",
       "$\u001b[1m{\u001b[0mY'\u001b[1m}\u001b[0m_\u001b[1m{\u001b[0mr\u001b[1m}\u001b[0m$                 \u001b[1;36m0.006785\u001b[0m\n",
       "$\u001b[1m{\u001b[0mY'\u001b[1m}\u001b[0m_\u001b[1m{\u001b[0mvrr\u001b[1m}\u001b[0m$              \u001b[1;36m-0.105037\u001b[0m\n",
       "$\u001b[1m{\u001b[0mY'\u001b[1m}\u001b[0m_\u001b[1m{\u001b[0mvvr\u001b[1m}\u001b[0m$              \u001b[1;36m-0.074281\u001b[0m\n",
       "$\u001b[1m{\u001b[0mN'\u001b[1m}\u001b[0m_\u001b[1m{\u001b[0mv\u001b[1m}\u001b[0m$                 \u001b[1;36m0.005162\u001b[0m\n",
       "$\u001b[1m{\u001b[0mN'\u001b[1m}\u001b[0m_\u001b[1m{\u001b[0mvvv\u001b[1m}\u001b[0m$              \u001b[1;36m-0.007646\u001b[0m\n",
       "$\u001b[1m{\u001b[0mN'\u001b[1m}\u001b[0m_\u001b[1m{\u001b[0mr\u001b[1m}\u001b[0m$                \u001b[1;36m-0.001838\u001b[0m\n",
       "$\u001b[1m{\u001b[0mN'\u001b[1m}\u001b[0m_\u001b[1m{\u001b[0mvvr\u001b[1m}\u001b[0m$              \u001b[1;36m-0.016552\u001b[0m\n",
       "$\u001b[1m{\u001b[0mN'\u001b[1m}\u001b[0m_\u001b[1m{\u001b[0mvrr\u001b[1m}\u001b[0m$              \u001b[1;36m-0.002705\u001b[0m"
      ]
     },
     "execution_count": 8,
     "metadata": {},
     "output_type": "execute_result"
    }
   ],
   "source": [
    "df_parameters"
   ]
  },
  {
   "cell_type": "code",
   "execution_count": 9,
   "id": "2ca0c768-1436-4e2c-a029-0b5da1ee30d1",
   "metadata": {},
   "outputs": [],
   "source": [
    "df_parameters.to_csv(paper.file_path_with_nb_ref(\"parameters.csv\", directory='tables'), index=True)"
   ]
  },
  {
   "cell_type": "markdown",
   "id": "9e729680-7bcf-41b1-bf82-8d98f0db62e8",
   "metadata": {},
   "source": [
    "## Other parameters"
   ]
  },
  {
   "cell_type": "code",
   "execution_count": 10,
   "id": "e80910b3-4398-4477-af56-0bde52f2b256",
   "metadata": {},
   "outputs": [
    {
     "data": {
      "text/html": [
       "<pre style=\"white-space:pre;overflow-x:auto;line-height:normal;font-family:Menlo,'DejaVu Sans Mono',consolas,'Courier New',monospace\"></pre>\n"
      ],
      "text/plain": []
     },
     "metadata": {},
     "output_type": "display_data"
    },
    {
     "data": {
      "text/plain": [
       "\n",
       "\u001b[1m[\u001b[0m\n",
       "    \u001b[32m'X0'\u001b[0m,\n",
       "    \u001b[32m'Xu'\u001b[0m,\n",
       "    \u001b[32m'Xvv'\u001b[0m,\n",
       "    \u001b[32m'Xrr'\u001b[0m,\n",
       "    \u001b[32m'Xvr'\u001b[0m,\n",
       "    \u001b[32m'Yvvv'\u001b[0m,\n",
       "    \u001b[32m'Yv'\u001b[0m,\n",
       "    \u001b[32m'Yr'\u001b[0m,\n",
       "    \u001b[32m'Yvrr'\u001b[0m,\n",
       "    \u001b[32m'Yvvr'\u001b[0m,\n",
       "    \u001b[32m'Nv'\u001b[0m,\n",
       "    \u001b[32m'Nvvv'\u001b[0m,\n",
       "    \u001b[32m'Nr'\u001b[0m,\n",
       "    \u001b[32m'Nvvr'\u001b[0m,\n",
       "    \u001b[32m'Nvrr'\u001b[0m\n",
       "\u001b[1m]\u001b[0m"
      ]
     },
     "execution_count": 10,
     "metadata": {},
     "output_type": "execute_result"
    }
   ],
   "source": [
    "keys = list(pars_all.keys())\n",
    "keys.remove('model')\n",
    "keys"
   ]
  },
  {
   "cell_type": "code",
   "execution_count": 11,
   "id": "de7cd423-79ec-4fe2-aff8-d448d250f100",
   "metadata": {},
   "outputs": [],
   "source": [
    "model = models[\"semiempirical rudder\"]\n",
    "other_parameters = pd.Series(model.parameters)\n",
    "other_parameters = other_parameters.drop(keys);"
   ]
  },
  {
   "cell_type": "markdown",
   "id": "39e456a1-7a93-4782-8447-a163335ce98f",
   "metadata": {},
   "source": [
    "## Added masses"
   ]
  },
  {
   "cell_type": "code",
   "execution_count": 12,
   "id": "4134d95f-153b-4ce0-8fe1-cd1ebd7ea048",
   "metadata": {},
   "outputs": [
    {
     "data": {
      "text/html": [
       "<pre style=\"white-space:pre;overflow-x:auto;line-height:normal;font-family:Menlo,'DejaVu Sans Mono',consolas,'Courier New',monospace\"></pre>\n"
      ],
      "text/plain": []
     },
     "metadata": {},
     "output_type": "display_data"
    },
    {
     "data": {
      "text/plain": [
       "\n",
       "Xudot   \u001b[1;36m-0.001864\u001b[0m\n",
       "Yvdot   \u001b[1;36m-0.015473\u001b[0m\n",
       "Yrdot   \u001b[1;36m-0.000537\u001b[0m\n",
       "Nvdot   \u001b[1;36m-0.000537\u001b[0m\n",
       "Nrdot   \u001b[1;36m-0.000727\u001b[0m\n",
       "dtype: float64"
      ]
     },
     "execution_count": 12,
     "metadata": {},
     "output_type": "execute_result"
    }
   ],
   "source": [
    "mask = other_parameters.index.str.contains('dot')\n",
    "added_masses = other_parameters[mask]\n",
    "other_parameters = other_parameters.drop(added_masses.index);\n",
    "added_masses"
   ]
  },
  {
   "cell_type": "code",
   "execution_count": 13,
   "id": "380cc714-a728-402b-9f8a-3f01ed079b38",
   "metadata": {},
   "outputs": [],
   "source": [
    "pd.DataFrame(added_masses).transpose().to_csv(paper.file_path_with_nb_ref(\"added_masses.csv\", directory='tables'), index=False)"
   ]
  },
  {
   "cell_type": "code",
   "execution_count": 14,
   "id": "91622499-6898-4eac-8d4e-f9775013a0d7",
   "metadata": {},
   "outputs": [],
   "source": [
    "df_added_masses = pd.DataFrame(index=added_masses.index)\n",
    "#df_added_masses['Parameter'] = df_parameters_all.loc[added_masses.index]['symbol']\n",
    "#df_added_masses['Parameter'] = df_added_masses['Parameter'].apply(lambda x: f\"${x}$\")\n",
    "df_added_masses['Value'] = added_masses\n",
    "#df_added_masses = df_added_masses.set_index('Parameter').transpose()\n",
    "df_added_masses = df_added_masses.transpose()"
   ]
  },
  {
   "cell_type": "code",
   "execution_count": 15,
   "id": "4bd190e9-1b95-47d8-8964-5cc742b4ff9f",
   "metadata": {},
   "outputs": [
    {
     "data": {
      "text/html": [
       "<pre style=\"white-space:pre;overflow-x:auto;line-height:normal;font-family:Menlo,'DejaVu Sans Mono',consolas,'Courier New',monospace\"></pre>\n"
      ],
      "text/plain": []
     },
     "metadata": {},
     "output_type": "display_data"
    },
    {
     "data": {
      "text/html": [
       "<div>\n",
       "<style scoped>\n",
       "    .dataframe tbody tr th:only-of-type {\n",
       "        vertical-align: middle;\n",
       "    }\n",
       "\n",
       "    .dataframe tbody tr th {\n",
       "        vertical-align: top;\n",
       "    }\n",
       "\n",
       "    .dataframe thead th {\n",
       "        text-align: right;\n",
       "    }\n",
       "</style>\n",
       "<table border=\"1\" class=\"dataframe\">\n",
       "  <thead>\n",
       "    <tr style=\"text-align: right;\">\n",
       "      <th></th>\n",
       "      <th>Xudot</th>\n",
       "      <th>Yvdot</th>\n",
       "      <th>Yrdot</th>\n",
       "      <th>Nvdot</th>\n",
       "      <th>Nrdot</th>\n",
       "    </tr>\n",
       "  </thead>\n",
       "  <tbody>\n",
       "    <tr>\n",
       "      <th>Value</th>\n",
       "      <td>-0.001864</td>\n",
       "      <td>-0.015473</td>\n",
       "      <td>-0.000537</td>\n",
       "      <td>-0.000537</td>\n",
       "      <td>-0.000727</td>\n",
       "    </tr>\n",
       "  </tbody>\n",
       "</table>\n",
       "</div>"
      ],
      "text/plain": [
       "\n",
       "          Xudot     Yvdot     Yrdot     Nvdot     Nrdot\n",
       "Value \u001b[1;36m-0.001864\u001b[0m \u001b[1;36m-0.015473\u001b[0m \u001b[1;36m-0.000537\u001b[0m \u001b[1;36m-0.000537\u001b[0m \u001b[1;36m-0.000727\u001b[0m"
      ]
     },
     "execution_count": 15,
     "metadata": {},
     "output_type": "execute_result"
    }
   ],
   "source": [
    "df_added_masses"
   ]
  },
  {
   "cell_type": "code",
   "execution_count": 16,
   "id": "38852080-b3bb-49ab-b388-a0e254b894f3",
   "metadata": {},
   "outputs": [],
   "source": [
    "df_added_masses.to_csv(paper.file_path_with_nb_ref(\"added_masses.csv\", directory='tables'), index=False)"
   ]
  },
  {
   "cell_type": "code",
   "execution_count": 17,
   "id": "2310a35c-5745-4d83-b0f3-74e826537612",
   "metadata": {},
   "outputs": [],
   "source": [
    "symbols = []\n",
    "for key, eq in model.equations.items():\n",
    "    symbols+=list(eq.rhs.free_symbols)\n",
    "symbols = list(set(symbols))"
   ]
  },
  {
   "cell_type": "code",
   "execution_count": 138,
   "id": "5e02669e-34dc-4823-99be-e1a39a243125",
   "metadata": {},
   "outputs": [],
   "source": [
    "parameters = {}\n",
    "for symbol in symbols:\n",
    "    key = str(symbol)\n",
    "    if key in model.parameters:\n",
    "        parameters[symbol] = model.parameters[key]  \n",
    "\n",
    "    if key in model.ship_parameters:\n",
    "        parameters[symbol] = model.ship_parameters[key]    "
   ]
  },
  {
   "cell_type": "code",
   "execution_count": 139,
   "id": "5f9cb073-6c8d-466b-ada8-5c88ebc296bb",
   "metadata": {},
   "outputs": [
    {
     "data": {
      "text/html": [
       "<pre style=\"white-space:pre;overflow-x:auto;line-height:normal;font-family:Menlo,'DejaVu Sans Mono',consolas,'Courier New',monospace\"></pre>\n"
      ],
      "text/plain": []
     },
     "metadata": {},
     "output_type": "display_data"
    },
    {
     "data": {
      "text/plain": [
       "\n",
       "\u001b[1m{\u001b[0m\n",
       "    kappa_v_pos: \u001b[1;36m0.7999995368183748\u001b[0m,\n",
       "    Omega: \u001b[1;36m0\u001b[0m,\n",
       "    kappa_r_neg: \u001b[1;36m0.6954713902464055\u001b[0m,\n",
       "    C_2_beta_p_neg: \u001b[1;36m1.1\u001b[0m,\n",
       "    x_H: \u001b[1;36m0.2110586462690569\u001b[0m,\n",
       "    x_R: \u001b[1;36m-2.389705882205995\u001b[0m,\n",
       "    s: \u001b[1;36m0\u001b[0m,\n",
       "    A_R_C: \u001b[1;36m0.02506725778238429\u001b[0m,\n",
       "    kappa_r_pos: \u001b[1;36m0.6954713902464055\u001b[0m,\n",
       "    C_D_tune: \u001b[1;36m1.322683954360055\u001b[0m,\n",
       "    kappa_v_neg: \u001b[1;36m0.2666665122727916\u001b[0m,\n",
       "    A_R_U: \u001b[1;36m0.009695826123375053\u001b[0m,\n",
       "    rho: \u001b[1;36m1026.0\u001b[0m,\n",
       "    a_H: \u001b[1;36m0.27814404918002955\u001b[0m,\n",
       "    e_0: \u001b[1;36m0.9\u001b[0m,\n",
       "    A_R: \u001b[1;36m0.03476308390575934\u001b[0m,\n",
       "    C_2_beta_p_pos: \u001b[1;36m1.6\u001b[0m,\n",
       "    C_D0_tune: \u001b[1;36m8.56397840233827\u001b[0m,\n",
       "    C_1: \u001b[1;36m2.0\u001b[0m,\n",
       "    c_r: \u001b[1;36m0.17161764704827054\u001b[0m,\n",
       "    C_L_tune: \u001b[1;36m1\u001b[0m,\n",
       "    y_R: \u001b[1;36m0\u001b[0m,\n",
       "    x_p: \u001b[1;36m-2.3036764704465793\u001b[0m,\n",
       "    nu: \u001b[1;36m1.18849e-06\u001b[0m,\n",
       "    r_0: \u001b[1;36m0.07794117646579553\u001b[0m,\n",
       "    gamma_0: \u001b[1;36m-0.023212879051524585\u001b[0m,\n",
       "    w_p0: \u001b[1;36m0.5049\u001b[0m,\n",
       "    c_t: \u001b[1;36m0.14999999999077632\u001b[0m,\n",
       "    b_R: \u001b[1;36m0.2161764705749423\u001b[0m,\n",
       "    delta_lim: \u001b[1;36m0.6108652381980153\u001b[0m,\n",
       "    x: \u001b[1;36m0.08602941175941581\u001b[0m\n",
       "\u001b[1m}\u001b[0m"
      ]
     },
     "execution_count": 139,
     "metadata": {},
     "output_type": "execute_result"
    }
   ],
   "source": [
    "parameters"
   ]
  },
  {
   "cell_type": "code",
   "execution_count": 134,
   "id": "b678eaa6-30b3-41f2-97f4-3b0f5e4bca48",
   "metadata": {},
   "outputs": [],
   "source": [
    "df_parameters = pd.DataFrame(index=parameters.keys())\n",
    "df_parameters['Parameter'] = pd.Series(df_parameters.index, index=df_parameters.index).apply(lambda x : f\"${to_latex(x)}$\")\n",
    "df_parameters.sort_values(by='Parameter', inplace=True)\n",
    "df_parameters['Value'] = parameters\n",
    "df_parameters.index = pd.Series(df_parameters.index).astype(str)\n",
    "\n",
    "#df_parameters.drop(index=['delta_alpha_s'], inplace=True)  # remove stalling\n",
    "df_parameters.drop(index=['y_R'], inplace=True)  # remove stalling\n",
    "df_parameters.drop(index=['C_L_tune'], inplace=True)  # not used\n",
    "#df_parameters.reset_index(inplace=True, drop=True)"
   ]
  },
  {
   "cell_type": "code",
   "execution_count": 132,
   "id": "468cf7ef-ab8f-4932-b7a8-19a433af3caa",
   "metadata": {},
   "outputs": [
    {
     "data": {
      "text/html": [
       "<pre style=\"white-space:pre;overflow-x:auto;line-height:normal;font-family:Menlo,'DejaVu Sans Mono',consolas,'Courier New',monospace\"></pre>\n"
      ],
      "text/plain": []
     },
     "metadata": {},
     "output_type": "display_data"
    },
    {
     "data": {
      "text/html": [
       "<div>\n",
       "<style scoped>\n",
       "    .dataframe tbody tr th:only-of-type {\n",
       "        vertical-align: middle;\n",
       "    }\n",
       "\n",
       "    .dataframe tbody tr th {\n",
       "        vertical-align: top;\n",
       "    }\n",
       "\n",
       "    .dataframe thead th {\n",
       "        text-align: right;\n",
       "    }\n",
       "</style>\n",
       "<table border=\"1\" class=\"dataframe\">\n",
       "  <thead>\n",
       "    <tr style=\"text-align: right;\">\n",
       "      <th></th>\n",
       "      <th>Parameter</th>\n",
       "      <th>Value</th>\n",
       "    </tr>\n",
       "  </thead>\n",
       "  <tbody>\n",
       "    <tr>\n",
       "      <th>A_R_C</th>\n",
       "      <td>$A_{R C}$</td>\n",
       "      <td>0.025067</td>\n",
       "    </tr>\n",
       "    <tr>\n",
       "      <th>A_R_U</th>\n",
       "      <td>$A_{R U}$</td>\n",
       "      <td>0.009696</td>\n",
       "    </tr>\n",
       "    <tr>\n",
       "      <th>A_R</th>\n",
       "      <td>$A_{R}$</td>\n",
       "      <td>0.034763</td>\n",
       "    </tr>\n",
       "    <tr>\n",
       "      <th>C_1</th>\n",
       "      <td>$C_{1}$</td>\n",
       "      <td>2.000000</td>\n",
       "    </tr>\n",
       "    <tr>\n",
       "      <th>C_2_beta_p_neg</th>\n",
       "      <td>$C_{2 \\beta p neg}$</td>\n",
       "      <td>1.100000</td>\n",
       "    </tr>\n",
       "    <tr>\n",
       "      <th>C_2_beta_p_pos</th>\n",
       "      <td>$C_{2 \\beta p pos}$</td>\n",
       "      <td>1.600000</td>\n",
       "    </tr>\n",
       "    <tr>\n",
       "      <th>C_D_tune</th>\n",
       "      <td>$C_{D tune}$</td>\n",
       "      <td>1.322684</td>\n",
       "    </tr>\n",
       "    <tr>\n",
       "      <th>C_D0_tune</th>\n",
       "      <td>$C_{D0 tune}$</td>\n",
       "      <td>8.563978</td>\n",
       "    </tr>\n",
       "    <tr>\n",
       "      <th>Omega</th>\n",
       "      <td>$\\Omega$</td>\n",
       "      <td>0.000000</td>\n",
       "    </tr>\n",
       "    <tr>\n",
       "      <th>delta_lim</th>\n",
       "      <td>$\\delta_{lim}$</td>\n",
       "      <td>0.610865</td>\n",
       "    </tr>\n",
       "    <tr>\n",
       "      <th>gamma_0</th>\n",
       "      <td>$\\gamma_{0}$</td>\n",
       "      <td>-0.023213</td>\n",
       "    </tr>\n",
       "    <tr>\n",
       "      <th>kappa_r_neg</th>\n",
       "      <td>$\\kappa_{r neg}$</td>\n",
       "      <td>0.695471</td>\n",
       "    </tr>\n",
       "    <tr>\n",
       "      <th>kappa_r_pos</th>\n",
       "      <td>$\\kappa_{r pos}$</td>\n",
       "      <td>0.695471</td>\n",
       "    </tr>\n",
       "    <tr>\n",
       "      <th>kappa_v_neg</th>\n",
       "      <td>$\\kappa_{v neg}$</td>\n",
       "      <td>0.266667</td>\n",
       "    </tr>\n",
       "    <tr>\n",
       "      <th>kappa_v_pos</th>\n",
       "      <td>$\\kappa_{v pos}$</td>\n",
       "      <td>0.800000</td>\n",
       "    </tr>\n",
       "    <tr>\n",
       "      <th>nu</th>\n",
       "      <td>$\\nu$</td>\n",
       "      <td>0.000001</td>\n",
       "    </tr>\n",
       "    <tr>\n",
       "      <th>rho</th>\n",
       "      <td>$\\rho$</td>\n",
       "      <td>1026.000000</td>\n",
       "    </tr>\n",
       "    <tr>\n",
       "      <th>a_H</th>\n",
       "      <td>$a_{H}$</td>\n",
       "      <td>0.278144</td>\n",
       "    </tr>\n",
       "    <tr>\n",
       "      <th>b_R</th>\n",
       "      <td>$b_{R}$</td>\n",
       "      <td>0.216176</td>\n",
       "    </tr>\n",
       "    <tr>\n",
       "      <th>c_r</th>\n",
       "      <td>$c_{r}$</td>\n",
       "      <td>0.171618</td>\n",
       "    </tr>\n",
       "    <tr>\n",
       "      <th>c_t</th>\n",
       "      <td>$c_{t}$</td>\n",
       "      <td>0.150000</td>\n",
       "    </tr>\n",
       "    <tr>\n",
       "      <th>e_0</th>\n",
       "      <td>$e_{0}$</td>\n",
       "      <td>0.900000</td>\n",
       "    </tr>\n",
       "    <tr>\n",
       "      <th>r_0</th>\n",
       "      <td>$r_{0}$</td>\n",
       "      <td>0.077941</td>\n",
       "    </tr>\n",
       "    <tr>\n",
       "      <th>s</th>\n",
       "      <td>$s$</td>\n",
       "      <td>0.000000</td>\n",
       "    </tr>\n",
       "    <tr>\n",
       "      <th>w_p0</th>\n",
       "      <td>$w_{p0}$</td>\n",
       "      <td>0.504900</td>\n",
       "    </tr>\n",
       "    <tr>\n",
       "      <th>x</th>\n",
       "      <td>$x$</td>\n",
       "      <td>0.086029</td>\n",
       "    </tr>\n",
       "    <tr>\n",
       "      <th>x_H</th>\n",
       "      <td>$x_{H}$</td>\n",
       "      <td>0.211059</td>\n",
       "    </tr>\n",
       "    <tr>\n",
       "      <th>x_R</th>\n",
       "      <td>$x_{R}$</td>\n",
       "      <td>-2.389706</td>\n",
       "    </tr>\n",
       "    <tr>\n",
       "      <th>x_p</th>\n",
       "      <td>$x_{p}$</td>\n",
       "      <td>-2.303676</td>\n",
       "    </tr>\n",
       "  </tbody>\n",
       "</table>\n",
       "</div>"
      ],
      "text/plain": [
       "\n",
       "                          Parameter        Value\n",
       "A_R_C                     $A_\u001b[1m{\u001b[0mR C\u001b[1m}\u001b[0m$     \u001b[1;36m0.025067\u001b[0m\n",
       "A_R_U                     $A_\u001b[1m{\u001b[0mR U\u001b[1m}\u001b[0m$     \u001b[1;36m0.009696\u001b[0m\n",
       "A_R                         $A_\u001b[1m{\u001b[0mR\u001b[1m}\u001b[0m$     \u001b[1;36m0.034763\u001b[0m\n",
       "C_1                         $C_\u001b[1m{\u001b[0m\u001b[1;36m1\u001b[0m\u001b[1m}\u001b[0m$     \u001b[1;36m2.000000\u001b[0m\n",
       "C_2_beta_p_neg  $C_\u001b[1m{\u001b[0m\u001b[1;36m2\u001b[0m \\beta p neg\u001b[1m}\u001b[0m$     \u001b[1;36m1.100000\u001b[0m\n",
       "C_2_beta_p_pos  $C_\u001b[1m{\u001b[0m\u001b[1;36m2\u001b[0m \\beta p pos\u001b[1m}\u001b[0m$     \u001b[1;36m1.600000\u001b[0m\n",
       "C_D_tune               $C_\u001b[1m{\u001b[0mD tune\u001b[1m}\u001b[0m$     \u001b[1;36m1.322684\u001b[0m\n",
       "C_D0_tune             $C_\u001b[1m{\u001b[0mD0 tune\u001b[1m}\u001b[0m$     \u001b[1;36m8.563978\u001b[0m\n",
       "Omega                      $\\Omega$     \u001b[1;36m0.000000\u001b[0m\n",
       "delta_lim            $\\delta_\u001b[1m{\u001b[0mlim\u001b[1m}\u001b[0m$     \u001b[1;36m0.610865\u001b[0m\n",
       "gamma_0                $\\gamma_\u001b[1m{\u001b[0m\u001b[1;36m0\u001b[0m\u001b[1m}\u001b[0m$    \u001b[1;36m-0.023213\u001b[0m\n",
       "kappa_r_neg        $\\kappa_\u001b[1m{\u001b[0mr neg\u001b[1m}\u001b[0m$     \u001b[1;36m0.695471\u001b[0m\n",
       "kappa_r_pos        $\\kappa_\u001b[1m{\u001b[0mr pos\u001b[1m}\u001b[0m$     \u001b[1;36m0.695471\u001b[0m\n",
       "kappa_v_neg        $\\kappa_\u001b[1m{\u001b[0mv neg\u001b[1m}\u001b[0m$     \u001b[1;36m0.266667\u001b[0m\n",
       "kappa_v_pos        $\\kappa_\u001b[1m{\u001b[0mv pos\u001b[1m}\u001b[0m$     \u001b[1;36m0.800000\u001b[0m\n",
       "nu                            $\\nu$     \u001b[1;36m0.000001\u001b[0m\n",
       "rho                          $\\rho$  \u001b[1;36m1026.000000\u001b[0m\n",
       "a_H                         $a_\u001b[1m{\u001b[0mH\u001b[1m}\u001b[0m$     \u001b[1;36m0.278144\u001b[0m\n",
       "b_R                         $b_\u001b[1m{\u001b[0mR\u001b[1m}\u001b[0m$     \u001b[1;36m0.216176\u001b[0m\n",
       "c_r                         $c_\u001b[1m{\u001b[0mr\u001b[1m}\u001b[0m$     \u001b[1;36m0.171618\u001b[0m\n",
       "c_t                         $c_\u001b[1m{\u001b[0mt\u001b[1m}\u001b[0m$     \u001b[1;36m0.150000\u001b[0m\n",
       "e_0                         $e_\u001b[1m{\u001b[0m\u001b[1;36m0\u001b[0m\u001b[1m}\u001b[0m$     \u001b[1;36m0.900000\u001b[0m\n",
       "r_0                         $r_\u001b[1m{\u001b[0m\u001b[1;36m0\u001b[0m\u001b[1m}\u001b[0m$     \u001b[1;36m0.077941\u001b[0m\n",
       "s                               $s$     \u001b[1;36m0.000000\u001b[0m\n",
       "w_p0                       $w_\u001b[1m{\u001b[0mp0\u001b[1m}\u001b[0m$     \u001b[1;36m0.504900\u001b[0m\n",
       "x                               $x$     \u001b[1;36m0.086029\u001b[0m\n",
       "x_H                         $x_\u001b[1m{\u001b[0mH\u001b[1m}\u001b[0m$     \u001b[1;36m0.211059\u001b[0m\n",
       "x_R                         $x_\u001b[1m{\u001b[0mR\u001b[1m}\u001b[0m$    \u001b[1;36m-2.389706\u001b[0m\n",
       "x_p                         $x_\u001b[1m{\u001b[0mp\u001b[1m}\u001b[0m$    \u001b[1;36m-2.303676\u001b[0m"
      ]
     },
     "execution_count": 132,
     "metadata": {},
     "output_type": "execute_result"
    }
   ],
   "source": [
    "df_parameters"
   ]
  },
  {
   "cell_type": "code",
   "execution_count": 96,
   "id": "24f038bc-8416-4402-8b17-a114bfb41a97",
   "metadata": {},
   "outputs": [],
   "source": [
    "df_parameters.loc['delta_lim','Parameter'] = r'$\\delta_{lim}$ $[rad]$'\n",
    "df_parameters.loc['gamma_0_port','Parameter'] = r'$\\gamma_{0port}$ $[rad]$'\n",
    "df_parameters.loc['gamma_0_stbd','Parameter'] = r'$\\gamma_{0stbd}$ $[rad]$'"
   ]
  },
  {
   "cell_type": "code",
   "execution_count": 97,
   "id": "23334b21-759f-4411-96d3-1568882970ee",
   "metadata": {},
   "outputs": [],
   "source": [
    "table = paper.table_columns(df_parameters,columns=3)"
   ]
  },
  {
   "cell_type": "code",
   "execution_count": 98,
   "id": "02b53ac3-8b05-4a46-b51f-9de5d4e48204",
   "metadata": {},
   "outputs": [
    {
     "data": {
      "text/html": [
       "<pre style=\"white-space:pre;overflow-x:auto;line-height:normal;font-family:Menlo,'DejaVu Sans Mono',consolas,'Courier New',monospace\"></pre>\n"
      ],
      "text/plain": []
     },
     "metadata": {},
     "output_type": "display_data"
    },
    {
     "data": {
      "text/html": [
       "<div>\n",
       "<style scoped>\n",
       "    .dataframe tbody tr th:only-of-type {\n",
       "        vertical-align: middle;\n",
       "    }\n",
       "\n",
       "    .dataframe tbody tr th {\n",
       "        vertical-align: top;\n",
       "    }\n",
       "\n",
       "    .dataframe thead th {\n",
       "        text-align: right;\n",
       "    }\n",
       "</style>\n",
       "<table border=\"1\" class=\"dataframe\">\n",
       "  <thead>\n",
       "    <tr style=\"text-align: right;\">\n",
       "      <th></th>\n",
       "      <th>Parameter</th>\n",
       "      <th>Value</th>\n",
       "      <th>Parameter1</th>\n",
       "      <th>Value1</th>\n",
       "      <th>Parameter2</th>\n",
       "      <th>Value2</th>\n",
       "    </tr>\n",
       "  </thead>\n",
       "  <tbody>\n",
       "    <tr>\n",
       "      <th>0</th>\n",
       "      <td>$A_{R C}$</td>\n",
       "      <td>0.025067</td>\n",
       "      <td>$\\kappa_{r neg}$</td>\n",
       "      <td>0.695471</td>\n",
       "      <td>$r_{0}$</td>\n",
       "      <td>0.077941</td>\n",
       "    </tr>\n",
       "    <tr>\n",
       "      <th>1</th>\n",
       "      <td>$A_{R U}$</td>\n",
       "      <td>0.009696</td>\n",
       "      <td>$\\kappa_{r pos}$</td>\n",
       "      <td>0.695471</td>\n",
       "      <td>$s$</td>\n",
       "      <td>0.000000</td>\n",
       "    </tr>\n",
       "    <tr>\n",
       "      <th>2</th>\n",
       "      <td>$A_{R}$</td>\n",
       "      <td>0.034763</td>\n",
       "      <td>$\\kappa_{v neg}$</td>\n",
       "      <td>0.266667</td>\n",
       "      <td>$w_{p0}$</td>\n",
       "      <td>0.504900</td>\n",
       "    </tr>\n",
       "    <tr>\n",
       "      <th>3</th>\n",
       "      <td>$C_{1}$</td>\n",
       "      <td>2.000000</td>\n",
       "      <td>$\\kappa_{v pos}$</td>\n",
       "      <td>0.800000</td>\n",
       "      <td>$x$</td>\n",
       "      <td>0.086029</td>\n",
       "    </tr>\n",
       "    <tr>\n",
       "      <th>4</th>\n",
       "      <td>$C_{2 \\beta p neg}$</td>\n",
       "      <td>1.100000</td>\n",
       "      <td>$\\nu$</td>\n",
       "      <td>0.000001</td>\n",
       "      <td>$x_{H}$</td>\n",
       "      <td>0.211059</td>\n",
       "    </tr>\n",
       "    <tr>\n",
       "      <th>5</th>\n",
       "      <td>$C_{2 \\beta p pos}$</td>\n",
       "      <td>1.600000</td>\n",
       "      <td>$\\rho$</td>\n",
       "      <td>1026.000000</td>\n",
       "      <td>$x_{R}$</td>\n",
       "      <td>-2.389706</td>\n",
       "    </tr>\n",
       "    <tr>\n",
       "      <th>6</th>\n",
       "      <td>$C_{D tune}$</td>\n",
       "      <td>1.322684</td>\n",
       "      <td>$a_{H}$</td>\n",
       "      <td>0.278144</td>\n",
       "      <td>$x_{p}$</td>\n",
       "      <td>-2.303676</td>\n",
       "    </tr>\n",
       "    <tr>\n",
       "      <th>7</th>\n",
       "      <td>$C_{D0 tune}$</td>\n",
       "      <td>8.563978</td>\n",
       "      <td>$b_{R}$</td>\n",
       "      <td>0.216176</td>\n",
       "      <td>$\\gamma_{0port}$ $[rad]$</td>\n",
       "      <td>NaN</td>\n",
       "    </tr>\n",
       "    <tr>\n",
       "      <th>8</th>\n",
       "      <td>$\\Omega$</td>\n",
       "      <td>0.000000</td>\n",
       "      <td>$c_{r}$</td>\n",
       "      <td>0.171618</td>\n",
       "      <td>$\\gamma_{0stbd}$ $[rad]$</td>\n",
       "      <td>NaN</td>\n",
       "    </tr>\n",
       "    <tr>\n",
       "      <th>9</th>\n",
       "      <td>$\\delta_{lim}$ $[rad]$</td>\n",
       "      <td>0.610865</td>\n",
       "      <td>$c_{t}$</td>\n",
       "      <td>0.150000</td>\n",
       "      <td>NaN</td>\n",
       "      <td>NaN</td>\n",
       "    </tr>\n",
       "    <tr>\n",
       "      <th>10</th>\n",
       "      <td>$\\gamma_{0}$</td>\n",
       "      <td>-0.023213</td>\n",
       "      <td>$e_{0}$</td>\n",
       "      <td>0.900000</td>\n",
       "      <td>NaN</td>\n",
       "      <td>NaN</td>\n",
       "    </tr>\n",
       "  </tbody>\n",
       "</table>\n",
       "</div>"
      ],
      "text/plain": [
       "\n",
       "                 Parameter     Value        Parameter1       Value1                Parameter2    Value2\n",
       "\u001b[1;36m0\u001b[0m                $A_\u001b[1m{\u001b[0mR C\u001b[1m}\u001b[0m$  \u001b[1;36m0.025067\u001b[0m  $\\kappa_\u001b[1m{\u001b[0mr neg\u001b[1m}\u001b[0m$     \u001b[1;36m0.695471\u001b[0m                   $r_\u001b[1m{\u001b[0m\u001b[1;36m0\u001b[0m\u001b[1m}\u001b[0m$  \u001b[1;36m0.077941\u001b[0m\n",
       "\u001b[1;36m1\u001b[0m                $A_\u001b[1m{\u001b[0mR U\u001b[1m}\u001b[0m$  \u001b[1;36m0.009696\u001b[0m  $\\kappa_\u001b[1m{\u001b[0mr pos\u001b[1m}\u001b[0m$     \u001b[1;36m0.695471\u001b[0m                       $s$  \u001b[1;36m0.000000\u001b[0m\n",
       "\u001b[1;36m2\u001b[0m                  $A_\u001b[1m{\u001b[0mR\u001b[1m}\u001b[0m$  \u001b[1;36m0.034763\u001b[0m  $\\kappa_\u001b[1m{\u001b[0mv neg\u001b[1m}\u001b[0m$     \u001b[1;36m0.266667\u001b[0m                  $w_\u001b[1m{\u001b[0mp0\u001b[1m}\u001b[0m$  \u001b[1;36m0.504900\u001b[0m\n",
       "\u001b[1;36m3\u001b[0m                  $C_\u001b[1m{\u001b[0m\u001b[1;36m1\u001b[0m\u001b[1m}\u001b[0m$  \u001b[1;36m2.000000\u001b[0m  $\\kappa_\u001b[1m{\u001b[0mv pos\u001b[1m}\u001b[0m$     \u001b[1;36m0.800000\u001b[0m                       $x$  \u001b[1;36m0.086029\u001b[0m\n",
       "\u001b[1;36m4\u001b[0m      $C_\u001b[1m{\u001b[0m\u001b[1;36m2\u001b[0m \\beta p neg\u001b[1m}\u001b[0m$  \u001b[1;36m1.100000\u001b[0m             $\\nu$     \u001b[1;36m0.000001\u001b[0m                   $x_\u001b[1m{\u001b[0mH\u001b[1m}\u001b[0m$  \u001b[1;36m0.211059\u001b[0m\n",
       "\u001b[1;36m5\u001b[0m      $C_\u001b[1m{\u001b[0m\u001b[1;36m2\u001b[0m \\beta p pos\u001b[1m}\u001b[0m$  \u001b[1;36m1.600000\u001b[0m            $\\rho$  \u001b[1;36m1026.000000\u001b[0m                   $x_\u001b[1m{\u001b[0mR\u001b[1m}\u001b[0m$ \u001b[1;36m-2.389706\u001b[0m\n",
       "\u001b[1;36m6\u001b[0m             $C_\u001b[1m{\u001b[0mD tune\u001b[1m}\u001b[0m$  \u001b[1;36m1.322684\u001b[0m           $a_\u001b[1m{\u001b[0mH\u001b[1m}\u001b[0m$     \u001b[1;36m0.278144\u001b[0m                   $x_\u001b[1m{\u001b[0mp\u001b[1m}\u001b[0m$ \u001b[1;36m-2.303676\u001b[0m\n",
       "\u001b[1;36m7\u001b[0m            $C_\u001b[1m{\u001b[0mD0 tune\u001b[1m}\u001b[0m$  \u001b[1;36m8.563978\u001b[0m           $b_\u001b[1m{\u001b[0mR\u001b[1m}\u001b[0m$     \u001b[1;36m0.216176\u001b[0m  $\\gamma_\u001b[1m{\u001b[0m0port\u001b[1m}\u001b[0m$ $\u001b[1m[\u001b[0mrad\u001b[1m]\u001b[0m$       NaN\n",
       "\u001b[1;36m8\u001b[0m                 $\\Omega$  \u001b[1;36m0.000000\u001b[0m           $c_\u001b[1m{\u001b[0mr\u001b[1m}\u001b[0m$     \u001b[1;36m0.171618\u001b[0m  $\\gamma_\u001b[1m{\u001b[0m0stbd\u001b[1m}\u001b[0m$ $\u001b[1m[\u001b[0mrad\u001b[1m]\u001b[0m$       NaN\n",
       "\u001b[1;36m9\u001b[0m   $\\delta_\u001b[1m{\u001b[0mlim\u001b[1m}\u001b[0m$ $\u001b[1m[\u001b[0mrad\u001b[1m]\u001b[0m$  \u001b[1;36m0.610865\u001b[0m           $c_\u001b[1m{\u001b[0mt\u001b[1m}\u001b[0m$     \u001b[1;36m0.150000\u001b[0m                       NaN       NaN\n",
       "\u001b[1;36m10\u001b[0m            $\\gamma_\u001b[1m{\u001b[0m\u001b[1;36m0\u001b[0m\u001b[1m}\u001b[0m$ \u001b[1;36m-0.023213\u001b[0m           $e_\u001b[1m{\u001b[0m\u001b[1;36m0\u001b[0m\u001b[1m}\u001b[0m$     \u001b[1;36m0.900000\u001b[0m                       NaN       NaN"
      ]
     },
     "execution_count": 98,
     "metadata": {},
     "output_type": "execute_result"
    }
   ],
   "source": [
    "table"
   ]
  },
  {
   "cell_type": "code",
   "execution_count": 99,
   "id": "b5523a22-0ada-4b50-a8ab-3e0388da9083",
   "metadata": {},
   "outputs": [],
   "source": [
    "table.to_csv(paper.file_path_with_nb_ref(\"other_parameters.csv\", directory='tables'), index=False)"
   ]
  },
  {
   "cell_type": "markdown",
   "id": "840231e6-9bcd-4740-9d0b-e629ae2a1f98",
   "metadata": {},
   "source": [
    "## Main particulars joined"
   ]
  },
  {
   "cell_type": "code",
   "execution_count": 100,
   "id": "6a82fc21-5e4c-4c2d-915d-a0b927e12fff",
   "metadata": {},
   "outputs": [],
   "source": [
    "def ship_parameters_to_table(model):\n",
    "    ship_parameters = pd.Series(model.ship_parameters)\n",
    "    #keys = list(set(ship_parameters.index) - set(df_parameters.index))\n",
    "    keys = list(set(ship_parameters.index))\n",
    "    ship_parameters = ship_parameters[keys].copy()\n",
    "    \n",
    "    drops = [\n",
    "        'TWIN',\n",
    "        'y_fan_fore',\n",
    "        'x_p',\n",
    "        'y_R_stbd',\n",
    "        'y_fan_aft',\n",
    "        'x_r',\n",
    "        'volume',\n",
    "        'n_prop',\n",
    "        'z_p',\n",
    "        'x_fan_fore',\n",
    "        'y_R_port',\n",
    "        'A_YV',\n",
    "        'A_XV',\n",
    "        'rho_A',\n",
    "        'x_fan_aft',\n",
    "        'CB',\n",
    "        'c',\n",
    "        'w_p0',\n",
    "        'z_R',\n",
    "        'y_R',\n",
    "        'y_p_port',\n",
    "        'y_p_stbd',\n",
    "        \n",
    "    ]\n",
    "    \n",
    "    for key in drops:\n",
    "        if key in ship_parameters:\n",
    "            ship_parameters.drop(index=key, inplace=True)\n",
    "\n",
    "    return ship_parameters"
   ]
  },
  {
   "cell_type": "code",
   "execution_count": 101,
   "id": "01fc409a-74f1-4822-af51-e7134e8d914b",
   "metadata": {},
   "outputs": [
    {
     "data": {
      "text/html": [
       "<pre style=\"white-space:pre;overflow-x:auto;line-height:normal;font-family:Menlo,'DejaVu Sans Mono',consolas,'Courier New',monospace\"></pre>\n"
      ],
      "text/plain": []
     },
     "metadata": {},
     "output_type": "display_data"
    },
    {
     "data": {
      "text/plain": [
       "\n",
       "\u001b[1m{\u001b[0m\n",
       "    \u001b[32m'A_R'\u001b[0m: \u001b[1;36m0.03476308390575934\u001b[0m,\n",
       "    \u001b[32m'B'\u001b[0m: \u001b[1;36m0.8823529411222136\u001b[0m,\n",
       "    \u001b[32m'CB'\u001b[0m: \u001b[1;36m0.7733293347328436\u001b[0m,\n",
       "    \u001b[32m'D'\u001b[0m: \u001b[1;36m0.15588235293159106\u001b[0m,\n",
       "    \u001b[32m'I_z'\u001b[0m: \u001b[1;36m1471.5096397140396\u001b[0m,\n",
       "    \u001b[32m'L'\u001b[0m: \u001b[1;36m4.77941176441199\u001b[0m,\n",
       "    \u001b[32m'T'\u001b[0m: \u001b[1;36m0.30147058821675626\u001b[0m,\n",
       "    \u001b[32m'TWIN'\u001b[0m: \u001b[1;36m0.0\u001b[0m,\n",
       "    \u001b[32m'b_R'\u001b[0m: \u001b[1;36m0.2161764705749423\u001b[0m,\n",
       "    \u001b[32m'c_r'\u001b[0m: \u001b[1;36m0.17161764704827054\u001b[0m,\n",
       "    \u001b[32m'c_t'\u001b[0m: \u001b[1;36m0.14999999999077632\u001b[0m,\n",
       "    \u001b[32m'm'\u001b[0m: \u001b[1;36m1008.7268469541564\u001b[0m,\n",
       "    \u001b[32m'rho'\u001b[0m: \u001b[1;36m1026.0\u001b[0m,\n",
       "    \u001b[32m'scale_factor'\u001b[0m: \u001b[1;36m68.0000000041814\u001b[0m,\n",
       "    \u001b[32m'tdf'\u001b[0m: \u001b[1;36m0.21\u001b[0m,\n",
       "    \u001b[32m'volume'\u001b[0m: \u001b[1;36m0.9831645681814392\u001b[0m,\n",
       "    \u001b[32m'x_G'\u001b[0m: \u001b[1;36m0.17636764704797847\u001b[0m,\n",
       "    \u001b[32m'x_p'\u001b[0m: \u001b[1;36m-2.3036764704465793\u001b[0m,\n",
       "    \u001b[32m'x_r'\u001b[0m: \u001b[1;36m-2.389705882205995\u001b[0m,\n",
       "    \u001b[32m'y_R'\u001b[0m: \u001b[1;36m0\u001b[0m,\n",
       "    \u001b[32m'y_p'\u001b[0m: \u001b[1;36m0.0\u001b[0m,\n",
       "    \u001b[32m'r_0'\u001b[0m: \u001b[1;36m0.07794117646579553\u001b[0m,\n",
       "    \u001b[32m'x'\u001b[0m: \u001b[1;36m0.08602941175941581\u001b[0m,\n",
       "    \u001b[32m'x_R'\u001b[0m: \u001b[1;36m-2.389705882205995\u001b[0m,\n",
       "    \u001b[32m'z_R'\u001b[0m: \u001b[1;36m0\u001b[0m,\n",
       "    \u001b[32m'A_R_C'\u001b[0m: \u001b[1;36m0.02506725778238429\u001b[0m,\n",
       "    \u001b[32m'A_R_U'\u001b[0m: \u001b[1;36m0.009695826123375053\u001b[0m\n",
       "\u001b[1m}\u001b[0m"
      ]
     },
     "execution_count": 101,
     "metadata": {},
     "output_type": "execute_result"
    }
   ],
   "source": [
    "model.ship_parameters"
   ]
  },
  {
   "cell_type": "code",
   "execution_count": 102,
   "id": "d2347e9a-d8c4-42a3-a9d7-3529bc58c7d4",
   "metadata": {},
   "outputs": [
    {
     "data": {
      "text/html": [
       "<pre style=\"white-space:pre;overflow-x:auto;line-height:normal;font-family:Menlo,'DejaVu Sans Mono',consolas,'Courier New',monospace\"></pre>\n"
      ],
      "text/plain": []
     },
     "metadata": {},
     "output_type": "display_data"
    },
    {
     "data": {
      "text/plain": [
       "\u001b[32m'\\\\mathtt\u001b[0m\u001b[32m{\u001b[0m\u001b[32m\\\\text\u001b[0m\u001b[32m{\u001b[0m\u001b[32mx\\\\_R\u001b[0m\u001b[32m}\u001b[0m\u001b[32m}\u001b[0m\u001b[32m'\u001b[0m"
      ]
     },
     "execution_count": 102,
     "metadata": {},
     "output_type": "execute_result"
    }
   ],
   "source": [
    "to_latex('x_R')"
   ]
  },
  {
   "cell_type": "code",
   "execution_count": 103,
   "id": "9f697c82-446b-433d-8ece-1616920babfe",
   "metadata": {},
   "outputs": [],
   "source": [
    "ship_parameters_optiwise = ship_parameters_to_table(model=model)"
   ]
  },
  {
   "cell_type": "code",
   "execution_count": 104,
   "id": "93f13afd-b779-48ec-9622-2e2f253467bc",
   "metadata": {},
   "outputs": [],
   "source": [
    "ship_parameters_wPCC = ship_parameters_to_table(model=model_wPCC)"
   ]
  },
  {
   "cell_type": "code",
   "execution_count": 105,
   "id": "3992154d-3433-4042-b8ed-c040d2bc9022",
   "metadata": {},
   "outputs": [],
   "source": [
    "df_ship_parameters = pd.DataFrame(index=ship_parameters_wPCC.index)\n",
    "df_ship_parameters['Parameter'] = pd.Series(df_ship_parameters.index, index=df_ship_parameters.index).apply(lambda x : f\"${to_latex(x)}$\")\n",
    "df_ship_parameters['wPCC'] = ship_parameters_wPCC\n",
    "df_ship_parameters['Optiwise'] = ship_parameters_optiwise\n",
    "df_ship_parameters['Description'] = ''\n",
    "\n",
    "df_ship_parameters.drop(index=[\n",
    "    'A_R_C',\n",
    "    'A_R_U',\n",
    "    'r_0',\n",
    "    'rho',\n",
    "    'x',\n",
    "    \n",
    "], inplace=True)"
   ]
  },
  {
   "cell_type": "code",
   "execution_count": 106,
   "id": "3f453f11-abab-4ab3-9d04-1b6cf952f993",
   "metadata": {},
   "outputs": [],
   "source": [
    "df_ship_parameters.loc['I_z','Parameter'] = r'$I_{zz}$'\n",
    "df_ship_parameters.loc['x_G','Parameter'] = r'$x_{G}$'\n",
    "df_ship_parameters.loc['scale_factor','Parameter'] = r'Scale factor'\n",
    "df_ship_parameters.loc['tdf','Parameter'] = r'$t_{df}$'\n",
    "df_ship_parameters.loc['T','Parameter'] = r'$T_{m}$'\n",
    "df_ship_parameters.sort_index(inplace=True)"
   ]
  },
  {
   "cell_type": "code",
   "execution_count": 148,
   "id": "a8059339-6782-431d-9545-1161b2cd6b23",
   "metadata": {},
   "outputs": [],
   "source": [
    "df_ship_parameters.loc['B','Description'] = r'Breadth'\n",
    "df_ship_parameters.loc['D','Description'] = r'Propeller diameter'\n",
    "df_ship_parameters.loc['I_z','Description'] = r'Yaw moment of inertia around L/2'\n",
    "df_ship_parameters.loc['L','Description'] = r'Length between perpendiculars'\n",
    "df_ship_parameters.loc['T','Description'] = r'Mean draught'\n",
    "df_ship_parameters.loc['m','Description'] = r'Ship mass'\n",
    "df_ship_parameters.loc['tdf','Description'] = r'Thrust deduction factor'\n",
    "df_ship_parameters.loc['x_G','Description'] = r'Longitudinal c.o.g.'\n",
    "df_ship_parameters.loc['A_R','Description'] = r'Projected rudder area'\n",
    "df_ship_parameters.loc['A_R','Parameter'] = r'$A_R$'\n",
    "df_ship_parameters.loc['b_R','Description'] = r'Rudder height'\n",
    "df_ship_parameters.loc['b_R','Parameter'] = r'$b_R$'\n",
    "df_ship_parameters.loc['c_r','Description'] = r'Rudder root chord'\n",
    "df_ship_parameters.loc['c_r','Parameter'] = r'$c_r$'\n",
    "df_ship_parameters.loc['c_t','Description'] = r'Rudder tip chord'\n",
    "df_ship_parameters.loc['c_t','Parameter'] = r'$c_t$'\n",
    "df_ship_parameters.loc['x_R','Description'] = r'Rudder position from L/2'\n",
    "df_ship_parameters.loc['x_R','Parameter'] =  r'$x_R$'\n",
    "\n",
    "df_ship_parameters.loc['B',  'Unit'] = r'm'\n",
    "df_ship_parameters.loc['D',  'Unit'] = r'm'\n",
    "df_ship_parameters.loc['I_z','Unit'] = r'kgm\\textsuperscript{2}'\n",
    "df_ship_parameters.loc['L',  'Unit'] = r'm'\n",
    "df_ship_parameters.loc['T',  'Unit'] = r'm'\n",
    "df_ship_parameters.loc['m',  'Unit'] = r'kg'\n",
    "df_ship_parameters.loc['tdf','Unit'] = ''\n",
    "df_ship_parameters.loc['x_G','Unit'] = 'm'\n",
    "df_ship_parameters.loc['A_R','Unit'] = r'm\\textsuperscript{2}'\n",
    "df_ship_parameters.loc['b_R','Unit'] = 'm'\n",
    "df_ship_parameters.loc['c_r','Unit'] = 'm'\n",
    "df_ship_parameters.loc['c_t','Unit'] = 'm'\n",
    "df_ship_parameters.loc['x_R','Unit'] = 'm'\n"
   ]
  },
  {
   "cell_type": "code",
   "execution_count": 149,
   "id": "0a539010-4fa1-48d1-a3d2-db0974fa11c1",
   "metadata": {},
   "outputs": [
    {
     "data": {
      "text/html": [
       "<pre style=\"white-space:pre;overflow-x:auto;line-height:normal;font-family:Menlo,'DejaVu Sans Mono',consolas,'Courier New',monospace\"></pre>\n"
      ],
      "text/plain": []
     },
     "metadata": {},
     "output_type": "display_data"
    },
    {
     "data": {
      "text/html": [
       "<div>\n",
       "<style scoped>\n",
       "    .dataframe tbody tr th:only-of-type {\n",
       "        vertical-align: middle;\n",
       "    }\n",
       "\n",
       "    .dataframe tbody tr th {\n",
       "        vertical-align: top;\n",
       "    }\n",
       "\n",
       "    .dataframe thead th {\n",
       "        text-align: right;\n",
       "    }\n",
       "</style>\n",
       "<table border=\"1\" class=\"dataframe\">\n",
       "  <thead>\n",
       "    <tr style=\"text-align: right;\">\n",
       "      <th></th>\n",
       "      <th>Parameter</th>\n",
       "      <th>wPCC</th>\n",
       "      <th>Optiwise</th>\n",
       "      <th>Description</th>\n",
       "      <th>Unit</th>\n",
       "    </tr>\n",
       "  </thead>\n",
       "  <tbody>\n",
       "    <tr>\n",
       "      <th>A_R</th>\n",
       "      <td>$A_R$</td>\n",
       "      <td>0.030096</td>\n",
       "      <td>0.034763</td>\n",
       "      <td>Projected rudder area</td>\n",
       "      <td>m\\textsuperscript{2}</td>\n",
       "    </tr>\n",
       "    <tr>\n",
       "      <th>B</th>\n",
       "      <td>$\\mathtt{\\text{B}}$</td>\n",
       "      <td>0.946602</td>\n",
       "      <td>0.882353</td>\n",
       "      <td>Breadth</td>\n",
       "      <td>m</td>\n",
       "    </tr>\n",
       "    <tr>\n",
       "      <th>D</th>\n",
       "      <td>$\\mathtt{\\text{D}}$</td>\n",
       "      <td>0.121359</td>\n",
       "      <td>0.155882</td>\n",
       "      <td>Propeller diameter</td>\n",
       "      <td>m</td>\n",
       "    </tr>\n",
       "    <tr>\n",
       "      <th>I_z</th>\n",
       "      <td>$I_{zz}$</td>\n",
       "      <td>742.046279</td>\n",
       "      <td>1471.509640</td>\n",
       "      <td>Yaw moment of inertia around L/2</td>\n",
       "      <td>kgm\\textsuperscript{2}</td>\n",
       "    </tr>\n",
       "    <tr>\n",
       "      <th>L</th>\n",
       "      <td>$\\mathtt{\\text{L}}$</td>\n",
       "      <td>5.014563</td>\n",
       "      <td>4.779412</td>\n",
       "      <td>Length between perpendiculars</td>\n",
       "      <td>m</td>\n",
       "    </tr>\n",
       "    <tr>\n",
       "      <th>T</th>\n",
       "      <td>$T_{m}$</td>\n",
       "      <td>0.206311</td>\n",
       "      <td>0.301471</td>\n",
       "      <td>Mean draught</td>\n",
       "      <td>m</td>\n",
       "    </tr>\n",
       "    <tr>\n",
       "      <th>b_R</th>\n",
       "      <td>$b_R$</td>\n",
       "      <td>0.174272</td>\n",
       "      <td>0.216176</td>\n",
       "      <td>Rudder height</td>\n",
       "      <td>m</td>\n",
       "    </tr>\n",
       "    <tr>\n",
       "      <th>c_r</th>\n",
       "      <td>$c_r$</td>\n",
       "      <td>0.192476</td>\n",
       "      <td>0.171618</td>\n",
       "      <td>Rudder root chord</td>\n",
       "      <td>m</td>\n",
       "    </tr>\n",
       "    <tr>\n",
       "      <th>c_t</th>\n",
       "      <td>$c_t$</td>\n",
       "      <td>0.152913</td>\n",
       "      <td>0.150000</td>\n",
       "      <td>Rudder tip chord</td>\n",
       "      <td>m</td>\n",
       "    </tr>\n",
       "    <tr>\n",
       "      <th>m</th>\n",
       "      <td>$\\mathtt{\\text{m}}$</td>\n",
       "      <td>441.026784</td>\n",
       "      <td>1008.726847</td>\n",
       "      <td>Ship mass</td>\n",
       "      <td>kg</td>\n",
       "    </tr>\n",
       "    <tr>\n",
       "      <th>scale_factor</th>\n",
       "      <td>Scale factor</td>\n",
       "      <td>41.200000</td>\n",
       "      <td>68.000000</td>\n",
       "      <td></td>\n",
       "      <td>NaN</td>\n",
       "    </tr>\n",
       "    <tr>\n",
       "      <th>tdf</th>\n",
       "      <td>$t_{df}$</td>\n",
       "      <td>0.117000</td>\n",
       "      <td>0.210000</td>\n",
       "      <td>Thrust deduction factor</td>\n",
       "      <td></td>\n",
       "    </tr>\n",
       "    <tr>\n",
       "      <th>x_G</th>\n",
       "      <td>$x_{G}$</td>\n",
       "      <td>-0.239897</td>\n",
       "      <td>0.176368</td>\n",
       "      <td>Longitudinal c.o.g.</td>\n",
       "      <td>m</td>\n",
       "    </tr>\n",
       "    <tr>\n",
       "      <th>x_R</th>\n",
       "      <td>$x_R$</td>\n",
       "      <td>-2.450000</td>\n",
       "      <td>-2.389706</td>\n",
       "      <td>Rudder position from L/2</td>\n",
       "      <td>m</td>\n",
       "    </tr>\n",
       "  </tbody>\n",
       "</table>\n",
       "</div>"
      ],
      "text/plain": [
       "\n",
       "                        Parameter        wPCC     Optiwise                       Description                    Unit\n",
       "A_R                         $A_R$    \u001b[1;36m0.030096\u001b[0m     \u001b[1;36m0.034763\u001b[0m             Projected rudder area    m\\textsuperscript\u001b[1m{\u001b[0m\u001b[1;36m2\u001b[0m\u001b[1m}\u001b[0m\n",
       "B             $\\mathtt\u001b[1m{\u001b[0m\\text\u001b[1m{\u001b[0mB\u001b[1m}\u001b[0m\u001b[1m}\u001b[0m$    \u001b[1;36m0.946602\u001b[0m     \u001b[1;36m0.882353\u001b[0m                           Breadth                       m\n",
       "D             $\\mathtt\u001b[1m{\u001b[0m\\text\u001b[1m{\u001b[0mD\u001b[1m}\u001b[0m\u001b[1m}\u001b[0m$    \u001b[1;36m0.121359\u001b[0m     \u001b[1;36m0.155882\u001b[0m                Propeller diameter                       m\n",
       "I_z                      $I_\u001b[1m{\u001b[0mzz\u001b[1m}\u001b[0m$  \u001b[1;36m742.046279\u001b[0m  \u001b[1;36m1471.509640\u001b[0m  Yaw moment of inertia around L/\u001b[1;36m2\u001b[0m  kgm\\textsuperscript\u001b[1m{\u001b[0m\u001b[1;36m2\u001b[0m\u001b[1m}\u001b[0m\n",
       "L             $\\mathtt\u001b[1m{\u001b[0m\\text\u001b[1m{\u001b[0mL\u001b[1m}\u001b[0m\u001b[1m}\u001b[0m$    \u001b[1;36m5.014563\u001b[0m     \u001b[1;36m4.779412\u001b[0m     Length between perpendiculars                       m\n",
       "T                         $T_\u001b[1m{\u001b[0mm\u001b[1m}\u001b[0m$    \u001b[1;36m0.206311\u001b[0m     \u001b[1;36m0.301471\u001b[0m                      Mean draught                       m\n",
       "b_R                         $b_R$    \u001b[1;36m0.174272\u001b[0m     \u001b[1;36m0.216176\u001b[0m                     Rudder height                       m\n",
       "c_r                         $c_r$    \u001b[1;36m0.192476\u001b[0m     \u001b[1;36m0.171618\u001b[0m                 Rudder root chord                       m\n",
       "c_t                         $c_t$    \u001b[1;36m0.152913\u001b[0m     \u001b[1;36m0.150000\u001b[0m                  Rudder tip chord                       m\n",
       "m             $\\mathtt\u001b[1m{\u001b[0m\\text\u001b[1m{\u001b[0mm\u001b[1m}\u001b[0m\u001b[1m}\u001b[0m$  \u001b[1;36m441.026784\u001b[0m  \u001b[1;36m1008.726847\u001b[0m                         Ship mass                      kg\n",
       "scale_factor         Scale factor   \u001b[1;36m41.200000\u001b[0m    \u001b[1;36m68.000000\u001b[0m                                                       NaN\n",
       "tdf                      $t_\u001b[1m{\u001b[0mdf\u001b[1m}\u001b[0m$    \u001b[1;36m0.117000\u001b[0m     \u001b[1;36m0.210000\u001b[0m           Thrust deduction factor                       \n",
       "x_G                       $x_\u001b[1m{\u001b[0mG\u001b[1m}\u001b[0m$   \u001b[1;36m-0.239897\u001b[0m     \u001b[1;36m0.176368\u001b[0m               Longitudinal c.o.g.                       m\n",
       "x_R                         $x_R$   \u001b[1;36m-2.450000\u001b[0m    \u001b[1;36m-2.389706\u001b[0m          Rudder position from L/\u001b[1;36m2\u001b[0m                       m"
      ]
     },
     "execution_count": 149,
     "metadata": {},
     "output_type": "execute_result"
    }
   ],
   "source": [
    "df_ship_parameters"
   ]
  },
  {
   "cell_type": "code",
   "execution_count": 150,
   "id": "ec83e65f-9bd4-49b2-aa1c-6aeeeffec453",
   "metadata": {},
   "outputs": [
    {
     "data": {
      "text/html": [
       "<pre style=\"white-space:pre;overflow-x:auto;line-height:normal;font-family:Menlo,'DejaVu Sans Mono',consolas,'Courier New',monospace\"></pre>\n"
      ],
      "text/plain": []
     },
     "metadata": {},
     "output_type": "display_data"
    },
    {
     "data": {
      "text/plain": [
       "\u001b[32m'\\\\mathtt\u001b[0m\u001b[32m{\u001b[0m\u001b[32m\\\\text\u001b[0m\u001b[32m{\u001b[0m\u001b[32mA\\\\_R\u001b[0m\u001b[32m}\u001b[0m\u001b[32m}\u001b[0m\u001b[32m'\u001b[0m"
      ]
     },
     "execution_count": 150,
     "metadata": {},
     "output_type": "execute_result"
    }
   ],
   "source": [
    "to_latex('A_R')"
   ]
  },
  {
   "cell_type": "code",
   "execution_count": 151,
   "id": "b8f61779-c650-4a26-a91a-43d8b5ac4d67",
   "metadata": {},
   "outputs": [
    {
     "data": {
      "text/html": [
       "<pre style=\"white-space:pre;overflow-x:auto;line-height:normal;font-family:Menlo,'DejaVu Sans Mono',consolas,'Courier New',monospace\"></pre>\n"
      ],
      "text/plain": []
     },
     "metadata": {},
     "output_type": "display_data"
    },
    {
     "data": {
      "text/plain": [
       "\u001b[32m'\\\\mathtt\u001b[0m\u001b[32m{\u001b[0m\u001b[32m\\\\text\u001b[0m\u001b[32m{\u001b[0m\u001b[32mA\\\\_\\\\\u001b[0m\u001b[32m{\u001b[0m\u001b[32mR\\\\\u001b[0m\u001b[32m}\u001b[0m\u001b[32m}\u001b[0m\u001b[32m}\u001b[0m\u001b[32m'\u001b[0m"
      ]
     },
     "execution_count": 151,
     "metadata": {},
     "output_type": "execute_result"
    }
   ],
   "source": [
    "latex('A_{R}')"
   ]
  },
  {
   "cell_type": "code",
   "execution_count": 152,
   "id": "b4b189ff-470c-4516-bda8-95930614aae4",
   "metadata": {},
   "outputs": [],
   "source": [
    "df_ship_parameters.to_csv(paper.file_path_with_nb_ref(\"main_particulars.csv\", directory='tables'), index=False)"
   ]
  },
  {
   "cell_type": "code",
   "execution_count": 34,
   "id": "d2883aa6-0fb4-4a00-aabe-054b44138e89",
   "metadata": {},
   "outputs": [
    {
     "data": {
      "text/html": [
       "<pre style=\"white-space:pre;overflow-x:auto;line-height:normal;font-family:Menlo,'DejaVu Sans Mono',consolas,'Courier New',monospace\"></pre>\n"
      ],
      "text/plain": []
     },
     "metadata": {},
     "output_type": "display_data"
    },
    {
     "data": {
      "text/plain": [
       "\n",
       "\u001b[1m{\u001b[0m\n",
       "    \u001b[32m'A_R'\u001b[0m: \u001b[1;36m0.03476308390575934\u001b[0m,\n",
       "    \u001b[32m'B'\u001b[0m: \u001b[1;36m0.8823529411222136\u001b[0m,\n",
       "    \u001b[32m'CB'\u001b[0m: \u001b[1;36m0.7733293347328436\u001b[0m,\n",
       "    \u001b[32m'D'\u001b[0m: \u001b[1;36m0.15588235293159106\u001b[0m,\n",
       "    \u001b[32m'I_z'\u001b[0m: \u001b[1;36m1471.5096397140396\u001b[0m,\n",
       "    \u001b[32m'L'\u001b[0m: \u001b[1;36m4.77941176441199\u001b[0m,\n",
       "    \u001b[32m'T'\u001b[0m: \u001b[1;36m0.30147058821675626\u001b[0m,\n",
       "    \u001b[32m'TWIN'\u001b[0m: \u001b[1;36m0.0\u001b[0m,\n",
       "    \u001b[32m'b_R'\u001b[0m: \u001b[1;36m0.2161764705749423\u001b[0m,\n",
       "    \u001b[32m'c_r'\u001b[0m: \u001b[1;36m0.17161764704827054\u001b[0m,\n",
       "    \u001b[32m'c_t'\u001b[0m: \u001b[1;36m0.14999999999077632\u001b[0m,\n",
       "    \u001b[32m'm'\u001b[0m: \u001b[1;36m1008.7268469541564\u001b[0m,\n",
       "    \u001b[32m'rho'\u001b[0m: \u001b[1;36m1026.0\u001b[0m,\n",
       "    \u001b[32m'scale_factor'\u001b[0m: \u001b[1;36m68.0000000041814\u001b[0m,\n",
       "    \u001b[32m'tdf'\u001b[0m: \u001b[1;36m0.21\u001b[0m,\n",
       "    \u001b[32m'volume'\u001b[0m: \u001b[1;36m0.9831645681814392\u001b[0m,\n",
       "    \u001b[32m'x_G'\u001b[0m: \u001b[1;36m0.17636764704797847\u001b[0m,\n",
       "    \u001b[32m'x_p'\u001b[0m: \u001b[1;36m-2.3036764704465793\u001b[0m,\n",
       "    \u001b[32m'x_r'\u001b[0m: \u001b[1;36m-2.389705882205995\u001b[0m,\n",
       "    \u001b[32m'y_R'\u001b[0m: \u001b[1;36m0\u001b[0m,\n",
       "    \u001b[32m'y_p'\u001b[0m: \u001b[1;36m0.0\u001b[0m,\n",
       "    \u001b[32m'r_0'\u001b[0m: \u001b[1;36m0.07794117646579553\u001b[0m,\n",
       "    \u001b[32m'x'\u001b[0m: \u001b[1;36m0.08602941175941581\u001b[0m,\n",
       "    \u001b[32m'x_R'\u001b[0m: \u001b[1;36m-2.389705882205995\u001b[0m,\n",
       "    \u001b[32m'z_R'\u001b[0m: \u001b[1;36m0\u001b[0m,\n",
       "    \u001b[32m'A_R_C'\u001b[0m: \u001b[1;36m0.02506725778238429\u001b[0m,\n",
       "    \u001b[32m'A_R_U'\u001b[0m: \u001b[1;36m0.009695826123375053\u001b[0m\n",
       "\u001b[1m}\u001b[0m"
      ]
     },
     "execution_count": 34,
     "metadata": {},
     "output_type": "execute_result"
    }
   ],
   "source": [
    "model.ship_parameters"
   ]
  },
  {
   "cell_type": "code",
   "execution_count": null,
   "id": "ef6cfd74-6276-41e6-a446-33d54984aa02",
   "metadata": {},
   "outputs": [],
   "source": []
  },
  {
   "cell_type": "code",
   "execution_count": null,
   "id": "8643b2d0-91e6-441c-b8d0-57e69845e6a3",
   "metadata": {},
   "outputs": [],
   "source": []
  }
 ],
 "metadata": {
  "kernelspec": {
   "display_name": "Kedro (phd)",
   "language": "python",
   "name": "kedro_phd"
  },
  "language_info": {
   "codemirror_mode": {
    "name": "ipython",
    "version": 3
   },
   "file_extension": ".py",
   "mimetype": "text/x-python",
   "name": "python",
   "nbconvert_exporter": "python",
   "pygments_lexer": "ipython3",
   "version": "3.10.0"
  }
 },
 "nbformat": 4,
 "nbformat_minor": 5
}
