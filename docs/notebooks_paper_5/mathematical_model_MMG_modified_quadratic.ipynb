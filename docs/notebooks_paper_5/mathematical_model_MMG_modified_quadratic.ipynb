{
 "cells": [
  {
   "cell_type": "markdown",
   "id": "85c9260d-35e7-416e-a3ea-d38a47731972",
   "metadata": {},
   "source": [
    "# Mathematical model kinetics"
   ]
  },
  {
   "cell_type": "code",
   "execution_count": 46,
   "id": "126d6f87-6cda-4b3c-8eea-53a3bbca9f33",
   "metadata": {},
   "outputs": [
    {
     "name": "stdout",
     "output_type": "stream",
     "text": [
      "The autoreload extension is already loaded. To reload it, use:\n",
      "  %reload_ext autoreload\n"
     ]
    }
   ],
   "source": [
    "#import warnings\n",
    "#warnings.filterwarnings('ignore')\n",
    "%matplotlib inline\n",
    "%load_ext autoreload\n",
    "%autoreload 2\n",
    "%config Completer.use_jedi = False"
   ]
  },
  {
   "cell_type": "code",
   "execution_count": 47,
   "id": "32a0204f-c11a-40f8-91ed-7773ccf318bf",
   "metadata": {},
   "outputs": [],
   "source": [
    "import pandas as pd\n",
    "pd.set_option('display.max_rows', 5000)\n",
    "pd.set_option('display.max_columns', 5000)\n",
    "pd.set_option('display.width', 10000)\n",
    "pd.set_option('max_colwidth', 10000)\n",
    "import numpy as np\n",
    "import yaml\n",
    "\n",
    "from vessel_manoeuvring_models.visualization.plot import track_plot, plot\n",
    "from phd.visualization.plot_ship import track_plots\n",
    "from vessel_manoeuvring_models.prime_system import PrimeSystem\n",
    "from phd.visualization.plot_prediction import plot_total_force, plot_force_components, predict, plot_compare_model_forces, plot_parameter_contributions\n",
    "#from phd.visualization.bokeh_plotting import create_tab\n",
    "from vessel_manoeuvring_models.symbols import *\n",
    "import matplotlib.pyplot as plt\n",
    "from vessel_manoeuvring_models.substitute_dynamic_symbols import run, lambdify, remove_functions, prime\n",
    "from vessel_manoeuvring_models.parameters import df_parameters\n",
    "p = df_parameters[\"symbol\"]\n",
    "import statsmodels.api as sm\n",
    "import sympy as sp\n",
    "from sympy import Eq, symbols, latex\n",
    "import paper\n",
    "from paper import save_fig, save_eq\n",
    "import vessel_manoeuvring_models\n",
    "import re\n",
    "import os"
   ]
  },
  {
   "cell_type": "code",
   "execution_count": 48,
   "id": "0b20a13f-48c7-469b-8bce-73f2655d0333",
   "metadata": {},
   "outputs": [
    {
     "data": {
      "text/html": [
       "<pre style=\"white-space:pre;overflow-x:auto;line-height:normal;font-family:Menlo,'DejaVu Sans Mono',consolas,'Courier New',monospace\"><span style=\"color: #7fbfbf; text-decoration-color: #7fbfbf\">[12/03/24 09:45:20] </span><span style=\"color: #000080; text-decoration-color: #000080\">INFO    </span> Loading data from <span style=\"color: #008000; text-decoration-color: #008000\">'wPCC.ship_data'</span> <span style=\"font-weight: bold\">(</span>YAMLDataSet<span style=\"font-weight: bold\">)</span><span style=\"color: #808000; text-decoration-color: #808000\">...</span>                <a href=\"file:///home/maa/miniconda3/envs/phd/lib/python3.10/site-packages/kedro/io/data_catalog.py\" target=\"_blank\"><span style=\"color: #7f7f7f; text-decoration-color: #7f7f7f\">data_catalog.py</span></a><span style=\"color: #7f7f7f; text-decoration-color: #7f7f7f\">:</span><a href=\"file:///home/maa/miniconda3/envs/phd/lib/python3.10/site-packages/kedro/io/data_catalog.py#502\" target=\"_blank\"><span style=\"color: #7f7f7f; text-decoration-color: #7f7f7f\">502</span></a>\n",
       "</pre>\n"
      ],
      "text/plain": [
       "\u001b[2;36m[12/03/24 09:45:20]\u001b[0m\u001b[2;36m \u001b[0m\u001b[34mINFO    \u001b[0m Loading data from \u001b[32m'wPCC.ship_data'\u001b[0m \u001b[1m(\u001b[0mYAMLDataSet\u001b[1m)\u001b[0m\u001b[33m...\u001b[0m                \u001b]8;id=901549;file:///home/maa/miniconda3/envs/phd/lib/python3.10/site-packages/kedro/io/data_catalog.py\u001b\\\u001b[2mdata_catalog.py\u001b[0m\u001b]8;;\u001b\\\u001b[2m:\u001b[0m\u001b]8;id=840113;file:///home/maa/miniconda3/envs/phd/lib/python3.10/site-packages/kedro/io/data_catalog.py#502\u001b\\\u001b[2m502\u001b[0m\u001b]8;;\u001b\\\n"
      ]
     },
     "metadata": {},
     "output_type": "display_data"
    }
   ],
   "source": [
    "#%reload_kedro\n",
    "ship='wPCC'\n",
    "ship_data = catalog.load(f\"{ship}.ship_data\")\n",
    "#model_loaders = \"semiempirical rudder\" : catalog.load(f\"{ship}.models_VCT_MDL\")['semiempirical_covered_inertia'],\n",
    "#models_rudder_VCT_loaders = catalog.load(f\"{ship}.models_rudder_VCT\")"
   ]
  },
  {
   "cell_type": "code",
   "execution_count": 49,
   "id": "3756a84c-6388-40a2-8a93-1b3ff0da97b0",
   "metadata": {},
   "outputs": [
    {
     "data": {
      "text/html": [
       "<pre style=\"white-space:pre;overflow-x:auto;line-height:normal;font-family:Menlo,'DejaVu Sans Mono',consolas,'Courier New',monospace\"><span style=\"color: #7fbfbf; text-decoration-color: #7fbfbf\">                    </span><span style=\"color: #000080; text-decoration-color: #000080\">INFO    </span> Loading data from <span style=\"color: #008000; text-decoration-color: #008000\">'wPCC.models_VCT'</span> <span style=\"font-weight: bold\">(</span>PartitionedDataset<span style=\"font-weight: bold\">)</span><span style=\"color: #808000; text-decoration-color: #808000\">...</span>        <a href=\"file:///home/maa/miniconda3/envs/phd/lib/python3.10/site-packages/kedro/io/data_catalog.py\" target=\"_blank\"><span style=\"color: #7f7f7f; text-decoration-color: #7f7f7f\">data_catalog.py</span></a><span style=\"color: #7f7f7f; text-decoration-color: #7f7f7f\">:</span><a href=\"file:///home/maa/miniconda3/envs/phd/lib/python3.10/site-packages/kedro/io/data_catalog.py#502\" target=\"_blank\"><span style=\"color: #7f7f7f; text-decoration-color: #7f7f7f\">502</span></a>\n",
       "</pre>\n"
      ],
      "text/plain": [
       "\u001b[2;36m                   \u001b[0m\u001b[2;36m \u001b[0m\u001b[34mINFO    \u001b[0m Loading data from \u001b[32m'wPCC.models_VCT'\u001b[0m \u001b[1m(\u001b[0mPartitionedDataset\u001b[1m)\u001b[0m\u001b[33m...\u001b[0m        \u001b]8;id=917563;file:///home/maa/miniconda3/envs/phd/lib/python3.10/site-packages/kedro/io/data_catalog.py\u001b\\\u001b[2mdata_catalog.py\u001b[0m\u001b]8;;\u001b\\\u001b[2m:\u001b[0m\u001b]8;id=767031;file:///home/maa/miniconda3/envs/phd/lib/python3.10/site-packages/kedro/io/data_catalog.py#502\u001b\\\u001b[2m502\u001b[0m\u001b]8;;\u001b\\\n"
      ]
     },
     "metadata": {},
     "output_type": "display_data"
    }
   ],
   "source": [
    "model = catalog.load(f\"{ship}.models_VCT\")['semiempirical_covered_inertia']()"
   ]
  },
  {
   "cell_type": "code",
   "execution_count": 50,
   "id": "fa0e276e-73af-474a-b704-4017834b5bf9",
   "metadata": {},
   "outputs": [],
   "source": [
    "eq_X_D = remove_functions(model.X_D_eq)"
   ]
  },
  {
   "cell_type": "code",
   "execution_count": 51,
   "id": "28f5d13e-919f-4a19-b2fc-382ce71340fc",
   "metadata": {},
   "outputs": [],
   "source": [
    "eq_X = sp.Eq(model.X_eq.lhs,model.X_eq.rhs.subs(model.X_D_eq.rhs,X_D_))\n",
    "eq_Y = sp.Eq(model.Y_eq.lhs,model.Y_eq.rhs.subs(model.Y_D_eq.rhs,Y_D_))\n",
    "eq_N = sp.Eq(model.N_eq.lhs,model.N_eq.rhs.subs(model.N_D_eq.rhs,N_D_))\n",
    "\n",
    "#save_eq(remove_functions(eq_X), file_name='X')\n",
    "#save_eq(remove_functions(eq_Y), file_name='Y')\n",
    "#save_eq(remove_functions(eq_N), file_name='N')"
   ]
  },
  {
   "cell_type": "code",
   "execution_count": 52,
   "id": "4e75e769-32b5-4625-94c2-58a6f6017cbe",
   "metadata": {},
   "outputs": [
    {
     "data": {
      "text/html": [
       "<pre style=\"white-space:pre;overflow-x:auto;line-height:normal;font-family:Menlo,'DejaVu Sans Mono',consolas,'Courier New',monospace\"></pre>\n"
      ],
      "text/plain": []
     },
     "metadata": {},
     "output_type": "display_data"
    },
    {
     "data": {
      "text/html": [
       "mathematical_model_kinetics.X_D"
      ],
      "text/plain": [
       "\u001b[1m<\u001b[0m\u001b[1;95mIPython.core.display.HTML\u001b[0m\u001b[39m object\u001b[0m\u001b[1m>\u001b[0m"
      ]
     },
     "metadata": {},
     "output_type": "display_data"
    },
    {
     "data": {
      "text/html": [
       "<pre style=\"white-space:pre;overflow-x:auto;line-height:normal;font-family:Menlo,'DejaVu Sans Mono',consolas,'Courier New',monospace\"></pre>\n"
      ],
      "text/plain": []
     },
     "metadata": {},
     "output_type": "display_data"
    },
    {
     "data": {
      "text/latex": [
       "$\\displaystyle X_{D} = X_{H} + X_{P} + X_{R}$"
      ],
      "text/plain": [
       "\u001b[1m<\u001b[0m\u001b[1;95mIPython.core.display.Math\u001b[0m\u001b[39m object\u001b[0m\u001b[1m>\u001b[0m"
      ]
     },
     "metadata": {},
     "output_type": "display_data"
    },
    {
     "data": {
      "text/html": [
       "<pre style=\"white-space:pre;overflow-x:auto;line-height:normal;font-family:Menlo,'DejaVu Sans Mono',consolas,'Courier New',monospace\"></pre>\n"
      ],
      "text/plain": []
     },
     "metadata": {},
     "output_type": "display_data"
    },
    {
     "data": {
      "text/html": [
       "<br>"
      ],
      "text/plain": [
       "\u001b[1m<\u001b[0m\u001b[1;95mIPython.core.display.HTML\u001b[0m\u001b[39m object\u001b[0m\u001b[1m>\u001b[0m"
      ]
     },
     "metadata": {},
     "output_type": "display_data"
    },
    {
     "data": {
      "text/html": [
       "<pre style=\"white-space:pre;overflow-x:auto;line-height:normal;font-family:Menlo,'DejaVu Sans Mono',consolas,'Courier New',monospace\"></pre>\n"
      ],
      "text/plain": []
     },
     "metadata": {},
     "output_type": "display_data"
    },
    {
     "data": {
      "text/html": [
       "mathematical_model_kinetics.Y_D"
      ],
      "text/plain": [
       "\u001b[1m<\u001b[0m\u001b[1;95mIPython.core.display.HTML\u001b[0m\u001b[39m object\u001b[0m\u001b[1m>\u001b[0m"
      ]
     },
     "metadata": {},
     "output_type": "display_data"
    },
    {
     "data": {
      "text/html": [
       "<pre style=\"white-space:pre;overflow-x:auto;line-height:normal;font-family:Menlo,'DejaVu Sans Mono',consolas,'Courier New',monospace\"></pre>\n"
      ],
      "text/plain": []
     },
     "metadata": {},
     "output_type": "display_data"
    },
    {
     "data": {
      "text/latex": [
       "$\\displaystyle Y_{D} = Y_{H} + Y_{P} + Y_{R} + Y_{RHI}$"
      ],
      "text/plain": [
       "\u001b[1m<\u001b[0m\u001b[1;95mIPython.core.display.Math\u001b[0m\u001b[39m object\u001b[0m\u001b[1m>\u001b[0m"
      ]
     },
     "metadata": {},
     "output_type": "display_data"
    },
    {
     "data": {
      "text/html": [
       "<pre style=\"white-space:pre;overflow-x:auto;line-height:normal;font-family:Menlo,'DejaVu Sans Mono',consolas,'Courier New',monospace\"></pre>\n"
      ],
      "text/plain": []
     },
     "metadata": {},
     "output_type": "display_data"
    },
    {
     "data": {
      "text/html": [
       "<br>"
      ],
      "text/plain": [
       "\u001b[1m<\u001b[0m\u001b[1;95mIPython.core.display.HTML\u001b[0m\u001b[39m object\u001b[0m\u001b[1m>\u001b[0m"
      ]
     },
     "metadata": {},
     "output_type": "display_data"
    },
    {
     "data": {
      "text/html": [
       "<pre style=\"white-space:pre;overflow-x:auto;line-height:normal;font-family:Menlo,'DejaVu Sans Mono',consolas,'Courier New',monospace\"></pre>\n"
      ],
      "text/plain": []
     },
     "metadata": {},
     "output_type": "display_data"
    },
    {
     "data": {
      "text/html": [
       "mathematical_model_kinetics.N_D"
      ],
      "text/plain": [
       "\u001b[1m<\u001b[0m\u001b[1;95mIPython.core.display.HTML\u001b[0m\u001b[39m object\u001b[0m\u001b[1m>\u001b[0m"
      ]
     },
     "metadata": {},
     "output_type": "display_data"
    },
    {
     "data": {
      "text/html": [
       "<pre style=\"white-space:pre;overflow-x:auto;line-height:normal;font-family:Menlo,'DejaVu Sans Mono',consolas,'Courier New',monospace\"></pre>\n"
      ],
      "text/plain": []
     },
     "metadata": {},
     "output_type": "display_data"
    },
    {
     "data": {
      "text/latex": [
       "$\\displaystyle N_{D} = N_{H} + N_{P} + N_{R} + N_{RHI}$"
      ],
      "text/plain": [
       "\u001b[1m<\u001b[0m\u001b[1;95mIPython.core.display.Math\u001b[0m\u001b[39m object\u001b[0m\u001b[1m>\u001b[0m"
      ]
     },
     "metadata": {},
     "output_type": "display_data"
    },
    {
     "data": {
      "text/html": [
       "<pre style=\"white-space:pre;overflow-x:auto;line-height:normal;font-family:Menlo,'DejaVu Sans Mono',consolas,'Courier New',monospace\"></pre>\n"
      ],
      "text/plain": []
     },
     "metadata": {},
     "output_type": "display_data"
    },
    {
     "data": {
      "text/html": [
       "<br>"
      ],
      "text/plain": [
       "\u001b[1m<\u001b[0m\u001b[1;95mIPython.core.display.HTML\u001b[0m\u001b[39m object\u001b[0m\u001b[1m>\u001b[0m"
      ]
     },
     "metadata": {},
     "output_type": "display_data"
    },
    {
     "data": {
      "text/html": [
       "<pre style=\"white-space:pre;overflow-x:auto;line-height:normal;font-family:Menlo,'DejaVu Sans Mono',consolas,'Courier New',monospace\"></pre>\n"
      ],
      "text/plain": []
     },
     "metadata": {},
     "output_type": "display_data"
    },
    {
     "data": {
      "text/plain": [
       "\u001b[32m'N_\u001b[0m\u001b[32m{\u001b[0m\u001b[32mD\u001b[0m\u001b[32m}\u001b[0m\u001b[32m = N_\u001b[0m\u001b[32m{\u001b[0m\u001b[32mH\u001b[0m\u001b[32m}\u001b[0m\u001b[32m + N_\u001b[0m\u001b[32m{\u001b[0m\u001b[32mP\u001b[0m\u001b[32m}\u001b[0m\u001b[32m + N_\u001b[0m\u001b[32m{\u001b[0m\u001b[32mR\u001b[0m\u001b[32m}\u001b[0m\u001b[32m + N_\u001b[0m\u001b[32m{\u001b[0m\u001b[32mRHI\u001b[0m\u001b[32m}\u001b[0m\u001b[32m'\u001b[0m"
      ]
     },
     "execution_count": 52,
     "metadata": {},
     "output_type": "execute_result"
    }
   ],
   "source": [
    "X_D_eq = remove_functions(model.X_D_eq).subs([\n",
    "    (\"X_W\",0),\n",
    "    (\"X_RHI\",0),\n",
    "])\n",
    "Y_D_eq = remove_functions(model.Y_D_eq).subs(\"Y_W\",0)\n",
    "N_D_eq = remove_functions(model.N_D_eq).subs(\"N_W\",0)\n",
    "\n",
    "save_eq(remove_functions(X_D_eq), file_name='X_D')\n",
    "save_eq(remove_functions(Y_D_eq), file_name='Y_D')\n",
    "save_eq(remove_functions(N_D_eq), file_name='N_D')"
   ]
  },
  {
   "cell_type": "code",
   "execution_count": 53,
   "id": "aaf5d0bb-bc6c-4671-872a-b79b3a070ab4",
   "metadata": {},
   "outputs": [
    {
     "name": "stdout",
     "output_type": "stream",
     "text": [
      "hull: PrimeEquationSubSystem\n",
      "propellers: PropellersSimpleSystem\n",
      "rudder_port: SemiempiricalRudderSystemCovered\n",
      "rudder_stbd: SemiempiricalRudderSystemCovered\n",
      "rudders: Rudders\n",
      "rudder_hull_interaction: RudderHullInteractionSystem\n",
      "wind_force: DummyWindForceSystem\n"
     ]
    }
   ],
   "source": [
    "model.show_subsystems()"
   ]
  },
  {
   "cell_type": "markdown",
   "id": "a55396d3-be8f-430d-8f7b-e410808fd765",
   "metadata": {},
   "source": [
    "## Hull"
   ]
  },
  {
   "cell_type": "code",
   "execution_count": 54,
   "id": "db7d878a-46f4-45e3-b2ae-450d6563d653",
   "metadata": {},
   "outputs": [],
   "source": [
    "from phd.paper.equation import to_latex\n",
    "from IPython.display import display, Latex, Math, HTML\n",
    "\n",
    "eq_latex = to_latex(model.subsystems['hull'].equations['Y_H'])\n",
    "\n",
    "eq_latex = eq_latex.replace(r'Y_{rrr} r^{3}',r'\\cancel{Y_{rrr}} r^{3}')"
   ]
  },
  {
   "cell_type": "code",
   "execution_count": 55,
   "id": "2a3df348-9cb3-4665-a6a3-ac92f97a5ac8",
   "metadata": {},
   "outputs": [],
   "source": [
    "def cancel(eq:sp.Eq,cancels = []):\n",
    "    subs={}\n",
    "    for cancel in cancels:\n",
    "        subs[cancel]=sp.Symbol(fr'\\cancel{{{cancel}}}')\n",
    "    eq = eq.subs(subs)\n",
    "    return eq"
   ]
  },
  {
   "cell_type": "code",
   "execution_count": 56,
   "id": "a4178eb6-a3c0-48b1-b3a1-fae3ea2ab0bf",
   "metadata": {},
   "outputs": [
    {
     "data": {
      "text/html": [
       "<pre style=\"white-space:pre;overflow-x:auto;line-height:normal;font-family:Menlo,'DejaVu Sans Mono',consolas,'Courier New',monospace\"></pre>\n"
      ],
      "text/plain": []
     },
     "metadata": {},
     "output_type": "display_data"
    },
    {
     "data": {
      "text/html": [
       "mathematical_model_kinetics.X_H"
      ],
      "text/plain": [
       "\u001b[1m<\u001b[0m\u001b[1;95mIPython.core.display.HTML\u001b[0m\u001b[39m object\u001b[0m\u001b[1m>\u001b[0m"
      ]
     },
     "metadata": {},
     "output_type": "display_data"
    },
    {
     "data": {
      "text/html": [
       "<pre style=\"white-space:pre;overflow-x:auto;line-height:normal;font-family:Menlo,'DejaVu Sans Mono',consolas,'Courier New',monospace\"></pre>\n"
      ],
      "text/plain": []
     },
     "metadata": {},
     "output_type": "display_data"
    },
    {
     "data": {
      "text/latex": [
       "$\\displaystyle {X_H'} = {X_{0}'} + {X_{rr}'} {r'}^{2} + {X_{u}'} {u'} + {X_{vr}'} {r'} {v'} + {X_{vv}'} {v'}^{2}$"
      ],
      "text/plain": [
       "\u001b[1m<\u001b[0m\u001b[1;95mIPython.core.display.Math\u001b[0m\u001b[39m object\u001b[0m\u001b[1m>\u001b[0m"
      ]
     },
     "metadata": {},
     "output_type": "display_data"
    },
    {
     "data": {
      "text/html": [
       "<pre style=\"white-space:pre;overflow-x:auto;line-height:normal;font-family:Menlo,'DejaVu Sans Mono',consolas,'Courier New',monospace\"></pre>\n"
      ],
      "text/plain": []
     },
     "metadata": {},
     "output_type": "display_data"
    },
    {
     "data": {
      "text/html": [
       "<br>"
      ],
      "text/plain": [
       "\u001b[1m<\u001b[0m\u001b[1;95mIPython.core.display.HTML\u001b[0m\u001b[39m object\u001b[0m\u001b[1m>\u001b[0m"
      ]
     },
     "metadata": {},
     "output_type": "display_data"
    },
    {
     "data": {
      "text/html": [
       "<pre style=\"white-space:pre;overflow-x:auto;line-height:normal;font-family:Menlo,'DejaVu Sans Mono',consolas,'Courier New',monospace\"></pre>\n"
      ],
      "text/plain": []
     },
     "metadata": {},
     "output_type": "display_data"
    },
    {
     "data": {
      "text/html": [
       "mathematical_model_kinetics.Y_H"
      ],
      "text/plain": [
       "\u001b[1m<\u001b[0m\u001b[1;95mIPython.core.display.HTML\u001b[0m\u001b[39m object\u001b[0m\u001b[1m>\u001b[0m"
      ]
     },
     "metadata": {},
     "output_type": "display_data"
    },
    {
     "data": {
      "text/html": [
       "<pre style=\"white-space:pre;overflow-x:auto;line-height:normal;font-family:Menlo,'DejaVu Sans Mono',consolas,'Courier New',monospace\"></pre>\n"
      ],
      "text/plain": []
     },
     "metadata": {},
     "output_type": "display_data"
    },
    {
     "data": {
      "text/latex": [
       "$\\displaystyle {Y_H'} = {Y_{0}'} + {Y_{rrr}'} {r'}^{3} + {Y_{r}'} {r'} + {Y_{vrr}'} {r'}^{2} {v'} + {Y_{vvr}'} {r'} {v'}^{2} + {Y_{vvv}'} {v'}^{3} + {Y_{v}'} {v'}$"
      ],
      "text/plain": [
       "\u001b[1m<\u001b[0m\u001b[1;95mIPython.core.display.Math\u001b[0m\u001b[39m object\u001b[0m\u001b[1m>\u001b[0m"
      ]
     },
     "metadata": {},
     "output_type": "display_data"
    },
    {
     "data": {
      "text/html": [
       "<pre style=\"white-space:pre;overflow-x:auto;line-height:normal;font-family:Menlo,'DejaVu Sans Mono',consolas,'Courier New',monospace\"></pre>\n"
      ],
      "text/plain": []
     },
     "metadata": {},
     "output_type": "display_data"
    },
    {
     "data": {
      "text/html": [
       "<br>"
      ],
      "text/plain": [
       "\u001b[1m<\u001b[0m\u001b[1;95mIPython.core.display.HTML\u001b[0m\u001b[39m object\u001b[0m\u001b[1m>\u001b[0m"
      ]
     },
     "metadata": {},
     "output_type": "display_data"
    },
    {
     "data": {
      "text/html": [
       "<pre style=\"white-space:pre;overflow-x:auto;line-height:normal;font-family:Menlo,'DejaVu Sans Mono',consolas,'Courier New',monospace\"></pre>\n"
      ],
      "text/plain": []
     },
     "metadata": {},
     "output_type": "display_data"
    },
    {
     "data": {
      "text/html": [
       "mathematical_model_kinetics.N_H"
      ],
      "text/plain": [
       "\u001b[1m<\u001b[0m\u001b[1;95mIPython.core.display.HTML\u001b[0m\u001b[39m object\u001b[0m\u001b[1m>\u001b[0m"
      ]
     },
     "metadata": {},
     "output_type": "display_data"
    },
    {
     "data": {
      "text/html": [
       "<pre style=\"white-space:pre;overflow-x:auto;line-height:normal;font-family:Menlo,'DejaVu Sans Mono',consolas,'Courier New',monospace\"></pre>\n"
      ],
      "text/plain": []
     },
     "metadata": {},
     "output_type": "display_data"
    },
    {
     "data": {
      "text/latex": [
       "$\\displaystyle {N_H'} = {N_{0}'} + {N_{rrr}'} {r'}^{3} + {N_{r}'} {r'} + {N_{vrr}'} {r'}^{2} {v'} + {N_{vvr}'} {r'} {v'}^{2} + {N_{vvv}'} {v'}^{3} + {N_{v}'} {v'}$"
      ],
      "text/plain": [
       "\u001b[1m<\u001b[0m\u001b[1;95mIPython.core.display.Math\u001b[0m\u001b[39m object\u001b[0m\u001b[1m>\u001b[0m"
      ]
     },
     "metadata": {},
     "output_type": "display_data"
    },
    {
     "data": {
      "text/html": [
       "<pre style=\"white-space:pre;overflow-x:auto;line-height:normal;font-family:Menlo,'DejaVu Sans Mono',consolas,'Courier New',monospace\"></pre>\n"
      ],
      "text/plain": []
     },
     "metadata": {},
     "output_type": "display_data"
    },
    {
     "data": {
      "text/html": [
       "<br>"
      ],
      "text/plain": [
       "\u001b[1m<\u001b[0m\u001b[1;95mIPython.core.display.HTML\u001b[0m\u001b[39m object\u001b[0m\u001b[1m>\u001b[0m"
      ]
     },
     "metadata": {},
     "output_type": "display_data"
    }
   ],
   "source": [
    "cancels = [\n",
    "    #p.Yrrr,p.Yvrr,p.Yvvr,p.Yvvv,\n",
    "    #p.Nrrr,p.Nvrr,p.Nvvr,p.Nvvv,\n",
    "]\n",
    "for name, eq in model.subsystems['hull'].equations.items():\n",
    "    #save_eq(cancel(prime(eq)), file_name=name)\n",
    "    save_eq(prime(cancel(eq, cancels=cancels)), file_name=name)"
   ]
  },
  {
   "cell_type": "markdown",
   "id": "960df9fb-7a52-493b-9bcc-de56632a3182",
   "metadata": {},
   "source": [
    "## Propellers"
   ]
  },
  {
   "cell_type": "code",
   "execution_count": 57,
   "id": "c6ec611d-ce3d-40c4-bfbf-2cfa93f1ebc2",
   "metadata": {},
   "outputs": [
    {
     "data": {
      "text/html": [
       "<pre style=\"white-space:pre;overflow-x:auto;line-height:normal;font-family:Menlo,'DejaVu Sans Mono',consolas,'Courier New',monospace\"></pre>\n"
      ],
      "text/plain": []
     },
     "metadata": {},
     "output_type": "display_data"
    },
    {
     "data": {
      "text/html": [
       "mathematical_model_kinetics.X_P_port"
      ],
      "text/plain": [
       "\u001b[1m<\u001b[0m\u001b[1;95mIPython.core.display.HTML\u001b[0m\u001b[39m object\u001b[0m\u001b[1m>\u001b[0m"
      ]
     },
     "metadata": {},
     "output_type": "display_data"
    },
    {
     "data": {
      "text/html": [
       "<pre style=\"white-space:pre;overflow-x:auto;line-height:normal;font-family:Menlo,'DejaVu Sans Mono',consolas,'Courier New',monospace\"></pre>\n"
      ],
      "text/plain": []
     },
     "metadata": {},
     "output_type": "display_data"
    },
    {
     "data": {
      "text/latex": [
       "$\\displaystyle X_{P port} = X_{Tport} T_{port}$"
      ],
      "text/plain": [
       "\u001b[1m<\u001b[0m\u001b[1;95mIPython.core.display.Math\u001b[0m\u001b[39m object\u001b[0m\u001b[1m>\u001b[0m"
      ]
     },
     "metadata": {},
     "output_type": "display_data"
    },
    {
     "data": {
      "text/html": [
       "<pre style=\"white-space:pre;overflow-x:auto;line-height:normal;font-family:Menlo,'DejaVu Sans Mono',consolas,'Courier New',monospace\"></pre>\n"
      ],
      "text/plain": []
     },
     "metadata": {},
     "output_type": "display_data"
    },
    {
     "data": {
      "text/html": [
       "<br>"
      ],
      "text/plain": [
       "\u001b[1m<\u001b[0m\u001b[1;95mIPython.core.display.HTML\u001b[0m\u001b[39m object\u001b[0m\u001b[1m>\u001b[0m"
      ]
     },
     "metadata": {},
     "output_type": "display_data"
    },
    {
     "data": {
      "text/html": [
       "<pre style=\"white-space:pre;overflow-x:auto;line-height:normal;font-family:Menlo,'DejaVu Sans Mono',consolas,'Courier New',monospace\"></pre>\n"
      ],
      "text/plain": []
     },
     "metadata": {},
     "output_type": "display_data"
    },
    {
     "data": {
      "text/html": [
       "mathematical_model_kinetics.X_P_stbd"
      ],
      "text/plain": [
       "\u001b[1m<\u001b[0m\u001b[1;95mIPython.core.display.HTML\u001b[0m\u001b[39m object\u001b[0m\u001b[1m>\u001b[0m"
      ]
     },
     "metadata": {},
     "output_type": "display_data"
    },
    {
     "data": {
      "text/html": [
       "<pre style=\"white-space:pre;overflow-x:auto;line-height:normal;font-family:Menlo,'DejaVu Sans Mono',consolas,'Courier New',monospace\"></pre>\n"
      ],
      "text/plain": []
     },
     "metadata": {},
     "output_type": "display_data"
    },
    {
     "data": {
      "text/latex": [
       "$\\displaystyle X_{P stbd} = X_{Tstbd} T_{stbd}$"
      ],
      "text/plain": [
       "\u001b[1m<\u001b[0m\u001b[1;95mIPython.core.display.Math\u001b[0m\u001b[39m object\u001b[0m\u001b[1m>\u001b[0m"
      ]
     },
     "metadata": {},
     "output_type": "display_data"
    },
    {
     "data": {
      "text/html": [
       "<pre style=\"white-space:pre;overflow-x:auto;line-height:normal;font-family:Menlo,'DejaVu Sans Mono',consolas,'Courier New',monospace\"></pre>\n"
      ],
      "text/plain": []
     },
     "metadata": {},
     "output_type": "display_data"
    },
    {
     "data": {
      "text/html": [
       "<br>"
      ],
      "text/plain": [
       "\u001b[1m<\u001b[0m\u001b[1;95mIPython.core.display.HTML\u001b[0m\u001b[39m object\u001b[0m\u001b[1m>\u001b[0m"
      ]
     },
     "metadata": {},
     "output_type": "display_data"
    },
    {
     "data": {
      "text/html": [
       "<pre style=\"white-space:pre;overflow-x:auto;line-height:normal;font-family:Menlo,'DejaVu Sans Mono',consolas,'Courier New',monospace\"></pre>\n"
      ],
      "text/plain": []
     },
     "metadata": {},
     "output_type": "display_data"
    },
    {
     "data": {
      "text/html": [
       "mathematical_model_kinetics.X_P"
      ],
      "text/plain": [
       "\u001b[1m<\u001b[0m\u001b[1;95mIPython.core.display.HTML\u001b[0m\u001b[39m object\u001b[0m\u001b[1m>\u001b[0m"
      ]
     },
     "metadata": {},
     "output_type": "display_data"
    },
    {
     "data": {
      "text/html": [
       "<pre style=\"white-space:pre;overflow-x:auto;line-height:normal;font-family:Menlo,'DejaVu Sans Mono',consolas,'Courier New',monospace\"></pre>\n"
      ],
      "text/plain": []
     },
     "metadata": {},
     "output_type": "display_data"
    },
    {
     "data": {
      "text/latex": [
       "$\\displaystyle X_{P} = X_{P port} + X_{P stbd}$"
      ],
      "text/plain": [
       "\u001b[1m<\u001b[0m\u001b[1;95mIPython.core.display.Math\u001b[0m\u001b[39m object\u001b[0m\u001b[1m>\u001b[0m"
      ]
     },
     "metadata": {},
     "output_type": "display_data"
    },
    {
     "data": {
      "text/html": [
       "<pre style=\"white-space:pre;overflow-x:auto;line-height:normal;font-family:Menlo,'DejaVu Sans Mono',consolas,'Courier New',monospace\"></pre>\n"
      ],
      "text/plain": []
     },
     "metadata": {},
     "output_type": "display_data"
    },
    {
     "data": {
      "text/html": [
       "<br>"
      ],
      "text/plain": [
       "\u001b[1m<\u001b[0m\u001b[1;95mIPython.core.display.HTML\u001b[0m\u001b[39m object\u001b[0m\u001b[1m>\u001b[0m"
      ]
     },
     "metadata": {},
     "output_type": "display_data"
    },
    {
     "data": {
      "text/html": [
       "<pre style=\"white-space:pre;overflow-x:auto;line-height:normal;font-family:Menlo,'DejaVu Sans Mono',consolas,'Courier New',monospace\"></pre>\n"
      ],
      "text/plain": []
     },
     "metadata": {},
     "output_type": "display_data"
    },
    {
     "data": {
      "text/html": [
       "mathematical_model_kinetics.Y_P"
      ],
      "text/plain": [
       "\u001b[1m<\u001b[0m\u001b[1;95mIPython.core.display.HTML\u001b[0m\u001b[39m object\u001b[0m\u001b[1m>\u001b[0m"
      ]
     },
     "metadata": {},
     "output_type": "display_data"
    },
    {
     "data": {
      "text/html": [
       "<pre style=\"white-space:pre;overflow-x:auto;line-height:normal;font-family:Menlo,'DejaVu Sans Mono',consolas,'Courier New',monospace\"></pre>\n"
      ],
      "text/plain": []
     },
     "metadata": {},
     "output_type": "display_data"
    },
    {
     "data": {
      "text/latex": [
       "$\\displaystyle Y_{P} = 0$"
      ],
      "text/plain": [
       "\u001b[1m<\u001b[0m\u001b[1;95mIPython.core.display.Math\u001b[0m\u001b[39m object\u001b[0m\u001b[1m>\u001b[0m"
      ]
     },
     "metadata": {},
     "output_type": "display_data"
    },
    {
     "data": {
      "text/html": [
       "<pre style=\"white-space:pre;overflow-x:auto;line-height:normal;font-family:Menlo,'DejaVu Sans Mono',consolas,'Courier New',monospace\"></pre>\n"
      ],
      "text/plain": []
     },
     "metadata": {},
     "output_type": "display_data"
    },
    {
     "data": {
      "text/html": [
       "<br>"
      ],
      "text/plain": [
       "\u001b[1m<\u001b[0m\u001b[1;95mIPython.core.display.HTML\u001b[0m\u001b[39m object\u001b[0m\u001b[1m>\u001b[0m"
      ]
     },
     "metadata": {},
     "output_type": "display_data"
    },
    {
     "data": {
      "text/html": [
       "<pre style=\"white-space:pre;overflow-x:auto;line-height:normal;font-family:Menlo,'DejaVu Sans Mono',consolas,'Courier New',monospace\"></pre>\n"
      ],
      "text/plain": []
     },
     "metadata": {},
     "output_type": "display_data"
    },
    {
     "data": {
      "text/html": [
       "mathematical_model_kinetics.N_P_port"
      ],
      "text/plain": [
       "\u001b[1m<\u001b[0m\u001b[1;95mIPython.core.display.HTML\u001b[0m\u001b[39m object\u001b[0m\u001b[1m>\u001b[0m"
      ]
     },
     "metadata": {},
     "output_type": "display_data"
    },
    {
     "data": {
      "text/html": [
       "<pre style=\"white-space:pre;overflow-x:auto;line-height:normal;font-family:Menlo,'DejaVu Sans Mono',consolas,'Courier New',monospace\"></pre>\n"
      ],
      "text/plain": []
     },
     "metadata": {},
     "output_type": "display_data"
    },
    {
     "data": {
      "text/latex": [
       "$\\displaystyle N_{P port} = - X_{P port} y_{p port}$"
      ],
      "text/plain": [
       "\u001b[1m<\u001b[0m\u001b[1;95mIPython.core.display.Math\u001b[0m\u001b[39m object\u001b[0m\u001b[1m>\u001b[0m"
      ]
     },
     "metadata": {},
     "output_type": "display_data"
    },
    {
     "data": {
      "text/html": [
       "<pre style=\"white-space:pre;overflow-x:auto;line-height:normal;font-family:Menlo,'DejaVu Sans Mono',consolas,'Courier New',monospace\"></pre>\n"
      ],
      "text/plain": []
     },
     "metadata": {},
     "output_type": "display_data"
    },
    {
     "data": {
      "text/html": [
       "<br>"
      ],
      "text/plain": [
       "\u001b[1m<\u001b[0m\u001b[1;95mIPython.core.display.HTML\u001b[0m\u001b[39m object\u001b[0m\u001b[1m>\u001b[0m"
      ]
     },
     "metadata": {},
     "output_type": "display_data"
    },
    {
     "data": {
      "text/html": [
       "<pre style=\"white-space:pre;overflow-x:auto;line-height:normal;font-family:Menlo,'DejaVu Sans Mono',consolas,'Courier New',monospace\"></pre>\n"
      ],
      "text/plain": []
     },
     "metadata": {},
     "output_type": "display_data"
    },
    {
     "data": {
      "text/html": [
       "mathematical_model_kinetics.N_P_stbd"
      ],
      "text/plain": [
       "\u001b[1m<\u001b[0m\u001b[1;95mIPython.core.display.HTML\u001b[0m\u001b[39m object\u001b[0m\u001b[1m>\u001b[0m"
      ]
     },
     "metadata": {},
     "output_type": "display_data"
    },
    {
     "data": {
      "text/html": [
       "<pre style=\"white-space:pre;overflow-x:auto;line-height:normal;font-family:Menlo,'DejaVu Sans Mono',consolas,'Courier New',monospace\"></pre>\n"
      ],
      "text/plain": []
     },
     "metadata": {},
     "output_type": "display_data"
    },
    {
     "data": {
      "text/latex": [
       "$\\displaystyle N_{P stbd} = - X_{P stbd} y_{p stbd}$"
      ],
      "text/plain": [
       "\u001b[1m<\u001b[0m\u001b[1;95mIPython.core.display.Math\u001b[0m\u001b[39m object\u001b[0m\u001b[1m>\u001b[0m"
      ]
     },
     "metadata": {},
     "output_type": "display_data"
    },
    {
     "data": {
      "text/html": [
       "<pre style=\"white-space:pre;overflow-x:auto;line-height:normal;font-family:Menlo,'DejaVu Sans Mono',consolas,'Courier New',monospace\"></pre>\n"
      ],
      "text/plain": []
     },
     "metadata": {},
     "output_type": "display_data"
    },
    {
     "data": {
      "text/html": [
       "<br>"
      ],
      "text/plain": [
       "\u001b[1m<\u001b[0m\u001b[1;95mIPython.core.display.HTML\u001b[0m\u001b[39m object\u001b[0m\u001b[1m>\u001b[0m"
      ]
     },
     "metadata": {},
     "output_type": "display_data"
    },
    {
     "data": {
      "text/html": [
       "<pre style=\"white-space:pre;overflow-x:auto;line-height:normal;font-family:Menlo,'DejaVu Sans Mono',consolas,'Courier New',monospace\"></pre>\n"
      ],
      "text/plain": []
     },
     "metadata": {},
     "output_type": "display_data"
    },
    {
     "data": {
      "text/html": [
       "mathematical_model_kinetics.N_P"
      ],
      "text/plain": [
       "\u001b[1m<\u001b[0m\u001b[1;95mIPython.core.display.HTML\u001b[0m\u001b[39m object\u001b[0m\u001b[1m>\u001b[0m"
      ]
     },
     "metadata": {},
     "output_type": "display_data"
    },
    {
     "data": {
      "text/html": [
       "<pre style=\"white-space:pre;overflow-x:auto;line-height:normal;font-family:Menlo,'DejaVu Sans Mono',consolas,'Courier New',monospace\"></pre>\n"
      ],
      "text/plain": []
     },
     "metadata": {},
     "output_type": "display_data"
    },
    {
     "data": {
      "text/latex": [
       "$\\displaystyle N_{P} = N_{P port} + N_{P stbd}$"
      ],
      "text/plain": [
       "\u001b[1m<\u001b[0m\u001b[1;95mIPython.core.display.Math\u001b[0m\u001b[39m object\u001b[0m\u001b[1m>\u001b[0m"
      ]
     },
     "metadata": {},
     "output_type": "display_data"
    },
    {
     "data": {
      "text/html": [
       "<pre style=\"white-space:pre;overflow-x:auto;line-height:normal;font-family:Menlo,'DejaVu Sans Mono',consolas,'Courier New',monospace\"></pre>\n"
      ],
      "text/plain": []
     },
     "metadata": {},
     "output_type": "display_data"
    },
    {
     "data": {
      "text/html": [
       "<br>"
      ],
      "text/plain": [
       "\u001b[1m<\u001b[0m\u001b[1;95mIPython.core.display.HTML\u001b[0m\u001b[39m object\u001b[0m\u001b[1m>\u001b[0m"
      ]
     },
     "metadata": {},
     "output_type": "display_data"
    }
   ],
   "source": [
    "for name, eq in model.subsystems['propellers'].equations.items():\n",
    "        \n",
    "    if isinstance(model.subsystems['propellers'], vessel_manoeuvring_models.models.subsystem.PrimeEquationSubSystem):\n",
    "        save_eq(prime(eq), file_name=name)\n",
    "    else:\n",
    "        save_eq(eq, file_name=name)"
   ]
  },
  {
   "cell_type": "markdown",
   "id": "a4907d3e-395c-41d0-bbb7-6ba9b623a6d9",
   "metadata": {},
   "source": [
    "## Rudder hull interaction"
   ]
  },
  {
   "cell_type": "code",
   "execution_count": 58,
   "id": "2b69dd6d-1232-45da-8478-dc227f5c247e",
   "metadata": {},
   "outputs": [
    {
     "data": {
      "text/html": [
       "<pre style=\"white-space:pre;overflow-x:auto;line-height:normal;font-family:Menlo,'DejaVu Sans Mono',consolas,'Courier New',monospace\"></pre>\n"
      ],
      "text/plain": []
     },
     "metadata": {},
     "output_type": "display_data"
    },
    {
     "data": {
      "text/html": [
       "mathematical_model_kinetics.X_RHI"
      ],
      "text/plain": [
       "\u001b[1m<\u001b[0m\u001b[1;95mIPython.core.display.HTML\u001b[0m\u001b[39m object\u001b[0m\u001b[1m>\u001b[0m"
      ]
     },
     "metadata": {},
     "output_type": "display_data"
    },
    {
     "data": {
      "text/html": [
       "<pre style=\"white-space:pre;overflow-x:auto;line-height:normal;font-family:Menlo,'DejaVu Sans Mono',consolas,'Courier New',monospace\"></pre>\n"
      ],
      "text/plain": []
     },
     "metadata": {},
     "output_type": "display_data"
    },
    {
     "data": {
      "text/latex": [
       "$\\displaystyle X_{RHI} = 0$"
      ],
      "text/plain": [
       "\u001b[1m<\u001b[0m\u001b[1;95mIPython.core.display.Math\u001b[0m\u001b[39m object\u001b[0m\u001b[1m>\u001b[0m"
      ]
     },
     "metadata": {},
     "output_type": "display_data"
    },
    {
     "data": {
      "text/html": [
       "<pre style=\"white-space:pre;overflow-x:auto;line-height:normal;font-family:Menlo,'DejaVu Sans Mono',consolas,'Courier New',monospace\"></pre>\n"
      ],
      "text/plain": []
     },
     "metadata": {},
     "output_type": "display_data"
    },
    {
     "data": {
      "text/html": [
       "<br>"
      ],
      "text/plain": [
       "\u001b[1m<\u001b[0m\u001b[1;95mIPython.core.display.HTML\u001b[0m\u001b[39m object\u001b[0m\u001b[1m>\u001b[0m"
      ]
     },
     "metadata": {},
     "output_type": "display_data"
    },
    {
     "data": {
      "text/html": [
       "<pre style=\"white-space:pre;overflow-x:auto;line-height:normal;font-family:Menlo,'DejaVu Sans Mono',consolas,'Courier New',monospace\"></pre>\n"
      ],
      "text/plain": []
     },
     "metadata": {},
     "output_type": "display_data"
    },
    {
     "data": {
      "text/html": [
       "mathematical_model_kinetics.Y_RHI"
      ],
      "text/plain": [
       "\u001b[1m<\u001b[0m\u001b[1;95mIPython.core.display.HTML\u001b[0m\u001b[39m object\u001b[0m\u001b[1m>\u001b[0m"
      ]
     },
     "metadata": {},
     "output_type": "display_data"
    },
    {
     "data": {
      "text/html": [
       "<pre style=\"white-space:pre;overflow-x:auto;line-height:normal;font-family:Menlo,'DejaVu Sans Mono',consolas,'Courier New',monospace\"></pre>\n"
      ],
      "text/plain": []
     },
     "metadata": {},
     "output_type": "display_data"
    },
    {
     "data": {
      "text/latex": [
       "$\\displaystyle Y_{RHI} = Y_{R} a_{H}$"
      ],
      "text/plain": [
       "\u001b[1m<\u001b[0m\u001b[1;95mIPython.core.display.Math\u001b[0m\u001b[39m object\u001b[0m\u001b[1m>\u001b[0m"
      ]
     },
     "metadata": {},
     "output_type": "display_data"
    },
    {
     "data": {
      "text/html": [
       "<pre style=\"white-space:pre;overflow-x:auto;line-height:normal;font-family:Menlo,'DejaVu Sans Mono',consolas,'Courier New',monospace\"></pre>\n"
      ],
      "text/plain": []
     },
     "metadata": {},
     "output_type": "display_data"
    },
    {
     "data": {
      "text/html": [
       "<br>"
      ],
      "text/plain": [
       "\u001b[1m<\u001b[0m\u001b[1;95mIPython.core.display.HTML\u001b[0m\u001b[39m object\u001b[0m\u001b[1m>\u001b[0m"
      ]
     },
     "metadata": {},
     "output_type": "display_data"
    },
    {
     "data": {
      "text/html": [
       "<pre style=\"white-space:pre;overflow-x:auto;line-height:normal;font-family:Menlo,'DejaVu Sans Mono',consolas,'Courier New',monospace\"></pre>\n"
      ],
      "text/plain": []
     },
     "metadata": {},
     "output_type": "display_data"
    },
    {
     "data": {
      "text/html": [
       "mathematical_model_kinetics.N_RHI"
      ],
      "text/plain": [
       "\u001b[1m<\u001b[0m\u001b[1;95mIPython.core.display.HTML\u001b[0m\u001b[39m object\u001b[0m\u001b[1m>\u001b[0m"
      ]
     },
     "metadata": {},
     "output_type": "display_data"
    },
    {
     "data": {
      "text/html": [
       "<pre style=\"white-space:pre;overflow-x:auto;line-height:normal;font-family:Menlo,'DejaVu Sans Mono',consolas,'Courier New',monospace\"></pre>\n"
      ],
      "text/plain": []
     },
     "metadata": {},
     "output_type": "display_data"
    },
    {
     "data": {
      "text/latex": [
       "$\\displaystyle N_{RHI} = N_{R} x_{H}$"
      ],
      "text/plain": [
       "\u001b[1m<\u001b[0m\u001b[1;95mIPython.core.display.Math\u001b[0m\u001b[39m object\u001b[0m\u001b[1m>\u001b[0m"
      ]
     },
     "metadata": {},
     "output_type": "display_data"
    },
    {
     "data": {
      "text/html": [
       "<pre style=\"white-space:pre;overflow-x:auto;line-height:normal;font-family:Menlo,'DejaVu Sans Mono',consolas,'Courier New',monospace\"></pre>\n"
      ],
      "text/plain": []
     },
     "metadata": {},
     "output_type": "display_data"
    },
    {
     "data": {
      "text/html": [
       "<br>"
      ],
      "text/plain": [
       "\u001b[1m<\u001b[0m\u001b[1;95mIPython.core.display.HTML\u001b[0m\u001b[39m object\u001b[0m\u001b[1m>\u001b[0m"
      ]
     },
     "metadata": {},
     "output_type": "display_data"
    }
   ],
   "source": [
    "for name, eq in model.subsystems['rudder_hull_interaction'].equations.items():\n",
    "    if isinstance(model.subsystems['rudder_hull_interaction'], vessel_manoeuvring_models.models.subsystem.PrimeEquationSubSystem):\n",
    "        save_eq(prime(eq), file_name=name)\n",
    "    else:\n",
    "        save_eq(eq, file_name=name)"
   ]
  },
  {
   "cell_type": "markdown",
   "id": "57c32cb4-eb35-4ee1-b1b2-e0e04e6bd81d",
   "metadata": {},
   "source": [
    "## Semi-empirical rudder model"
   ]
  },
  {
   "cell_type": "code",
   "execution_count": 59,
   "id": "e929b3cb-b243-45ea-9464-b63fa883a313",
   "metadata": {},
   "outputs": [],
   "source": [
    "rudder = model.subsystems['rudder_port']\n",
    "#rudder.equations['r_p_port'] = rudder.equations['r_p_port'].subs('r_p_port','r_x_port')"
   ]
  },
  {
   "cell_type": "code",
   "execution_count": 60,
   "id": "fc4666d6-6d31-4c31-9d1f-a4eebc1acee8",
   "metadata": {},
   "outputs": [
    {
     "data": {
      "text/html": [
       "<pre style=\"white-space:pre;overflow-x:auto;line-height:normal;font-family:Menlo,'DejaVu Sans Mono',consolas,'Courier New',monospace\"></pre>\n"
      ],
      "text/plain": []
     },
     "metadata": {},
     "output_type": "display_data"
    },
    {
     "data": {
      "text/latex": [
       "$\\displaystyle X_{R port} = - D_{R port} \\cos{\\left(\\alpha_{f port} \\right)} + L_{R port} \\sin{\\left(\\alpha_{f port} \\right)}$"
      ],
      "text/plain": [
       "\u001b[1;35mEq\u001b[0m\u001b[1m(\u001b[0mX_R_port, -D_R_port*\u001b[1;35mcos\u001b[0m\u001b[1m(\u001b[0malpha_f_port\u001b[1m)\u001b[0m + L_R_port*\u001b[1;35msin\u001b[0m\u001b[1m(\u001b[0malpha_f_port\u001b[1m)\u001b[0m\u001b[1m)\u001b[0m"
      ]
     },
     "execution_count": 60,
     "metadata": {},
     "output_type": "execute_result"
    }
   ],
   "source": [
    "rudder.equations['X_R_port']"
   ]
  },
  {
   "cell_type": "code",
   "execution_count": 61,
   "id": "6523e368-9596-485f-b5dd-d4f6102ba540",
   "metadata": {},
   "outputs": [],
   "source": [
    "keys = list(rudder.equations.keys())\n",
    "keys.reverse()"
   ]
  },
  {
   "cell_type": "markdown",
   "id": "ae9ebdc5-a55a-4266-9100-ecafe3c4b58f",
   "metadata": {},
   "source": [
    "### Remove stall"
   ]
  },
  {
   "cell_type": "code",
   "execution_count": 62,
   "id": "b4795bce-b90b-45c6-bd0f-0d212d9533c8",
   "metadata": {},
   "outputs": [],
   "source": [
    "rudder.equations['C_L_port'] = sp.Eq(rudder.equations['C_L_port'].lhs,rudder.equations['C_L_port'].rhs.args[0][0])"
   ]
  },
  {
   "cell_type": "code",
   "execution_count": 63,
   "id": "c053f1b9-a4c6-40b2-a87f-1e5103f3f728",
   "metadata": {},
   "outputs": [
    {
     "data": {
      "text/html": [
       "<pre style=\"white-space:pre;overflow-x:auto;line-height:normal;font-family:Menlo,'DejaVu Sans Mono',consolas,'Courier New',monospace\"></pre>\n"
      ],
      "text/plain": []
     },
     "metadata": {},
     "output_type": "display_data"
    },
    {
     "data": {
      "text/latex": [
       "$\\displaystyle C_{L port} = K_{gap port} \\left(\\alpha_{port} dC_{L dalpha port} + \\frac{C_{D crossflow port} \\alpha_{port} \\left|{\\alpha_{port}}\\right|}{AR_{e port}}\\right)$"
      ],
      "text/plain": [
       "\u001b[1;35mEq\u001b[0m\u001b[1m(\u001b[0mC_L_port, K_gap_port*\u001b[1m(\u001b[0malpha_port*dC_L_dalpha_port + C_D_crossflow_port*alpha_port*\u001b[1;35mAbs\u001b[0m\u001b[1m(\u001b[0malpha_port\u001b[1m)\u001b[0m\u001b[35m/\u001b[0m\u001b[95mAR_e_port\u001b[0m\u001b[1m)\u001b[0m\u001b[1m)\u001b[0m"
      ]
     },
     "execution_count": 63,
     "metadata": {},
     "output_type": "execute_result"
    }
   ],
   "source": [
    "rudder.equations['C_L_port']"
   ]
  },
  {
   "cell_type": "code",
   "execution_count": 64,
   "id": "cc31c458-26e5-469d-9748-8e36a68bc403",
   "metadata": {},
   "outputs": [],
   "source": [
    "C_L_tune = sp.symbols(\"C_L_tune\")"
   ]
  },
  {
   "cell_type": "code",
   "execution_count": 65,
   "id": "59f0b9b7-5dd2-4da9-99dd-444ed1c09575",
   "metadata": {},
   "outputs": [],
   "source": [
    "rudder.equations['L_R_C_port'] = rudder.equations['L_R_C_port'].subs(C_L_tune,1)\n",
    "rudder.equations['L_R_U_port'] = rudder.equations['L_R_U_port'].subs(C_L_tune,1)"
   ]
  },
  {
   "cell_type": "code",
   "execution_count": 66,
   "id": "a6003402-3ab1-4b52-8edb-75e7a8e673a5",
   "metadata": {},
   "outputs": [],
   "source": [
    "C_D_crossflow_port = symbols(\"C_D_crossflow_port\")  # crossflow drag coefficient\n",
    "delta = symbols(\"delta\")  # crossflow drag coefficient\n",
    "\n",
    "lambda_gap_port,K_gap = symbols(\n",
    "    \"lambda_gap_port, K_gap\"\n",
    ")\n",
    "\n",
    "subs={\n",
    "    C_D_crossflow_port : symbols(\"C_DC\"),\n",
    "    lambda_gap_port: K_gap,\n",
    "    \n",
    "}\n",
    "for name,eq in rudder.equations.items():\n",
    "    rudder.equations[name] = eq.subs(subs)\n"
   ]
  },
  {
   "cell_type": "code",
   "execution_count": 67,
   "id": "a030693d-d0d2-4d80-9f20-cefb3c5ca08d",
   "metadata": {},
   "outputs": [
    {
     "data": {
      "text/html": [
       "<pre style=\"white-space:pre;overflow-x:auto;line-height:normal;font-family:Menlo,'DejaVu Sans Mono',consolas,'Courier New',monospace\"></pre>\n"
      ],
      "text/plain": []
     },
     "metadata": {},
     "output_type": "display_data"
    },
    {
     "data": {
      "text/latex": [
       "$\\displaystyle C_{L port} = K_{gap port} \\left(\\alpha_{port} dC_{L dalpha port} + \\frac{C_{DC} \\alpha_{port} \\left|{\\alpha_{port}}\\right|}{AR_{e port}}\\right)$"
      ],
      "text/plain": [
       "\u001b[1;35mEq\u001b[0m\u001b[1m(\u001b[0mC_L_port, K_gap_port*\u001b[1m(\u001b[0malpha_port*dC_L_dalpha_port + C_DC*alpha_port*\u001b[1;35mAbs\u001b[0m\u001b[1m(\u001b[0malpha_port\u001b[1m)\u001b[0m\u001b[35m/\u001b[0m\u001b[95mAR_e_port\u001b[0m\u001b[1m)\u001b[0m\u001b[1m)\u001b[0m"
      ]
     },
     "execution_count": 67,
     "metadata": {},
     "output_type": "execute_result"
    }
   ],
   "source": [
    "rudder.equations[\"C_L_port\"]"
   ]
  },
  {
   "cell_type": "code",
   "execution_count": 68,
   "id": "b22451be-aad2-411c-91e7-8b99899213d5",
   "metadata": {},
   "outputs": [
    {
     "data": {
      "text/html": [
       "<pre style=\"white-space:pre;overflow-x:auto;line-height:normal;font-family:Menlo,'DejaVu Sans Mono',consolas,'Courier New',monospace\"></pre>\n"
      ],
      "text/plain": []
     },
     "metadata": {},
     "output_type": "display_data"
    },
    {
     "data": {
      "text/html": [
       "mathematical_model_kinetics.N_R_semiempirical"
      ],
      "text/plain": [
       "\u001b[1m<\u001b[0m\u001b[1;95mIPython.core.display.HTML\u001b[0m\u001b[39m object\u001b[0m\u001b[1m>\u001b[0m"
      ]
     },
     "metadata": {},
     "output_type": "display_data"
    },
    {
     "data": {
      "text/html": [
       "<pre style=\"white-space:pre;overflow-x:auto;line-height:normal;font-family:Menlo,'DejaVu Sans Mono',consolas,'Courier New',monospace\"></pre>\n"
      ],
      "text/plain": []
     },
     "metadata": {},
     "output_type": "display_data"
    },
    {
     "data": {
      "text/latex": [
       "$\\displaystyle N_{R } = Y_{R } x_{R}$"
      ],
      "text/plain": [
       "\u001b[1m<\u001b[0m\u001b[1;95mIPython.core.display.Math\u001b[0m\u001b[39m object\u001b[0m\u001b[1m>\u001b[0m"
      ]
     },
     "metadata": {},
     "output_type": "display_data"
    },
    {
     "data": {
      "text/html": [
       "<pre style=\"white-space:pre;overflow-x:auto;line-height:normal;font-family:Menlo,'DejaVu Sans Mono',consolas,'Courier New',monospace\"></pre>\n"
      ],
      "text/plain": []
     },
     "metadata": {},
     "output_type": "display_data"
    },
    {
     "data": {
      "text/html": [
       "<br>"
      ],
      "text/plain": [
       "\u001b[1m<\u001b[0m\u001b[1;95mIPython.core.display.HTML\u001b[0m\u001b[39m object\u001b[0m\u001b[1m>\u001b[0m"
      ]
     },
     "metadata": {},
     "output_type": "display_data"
    },
    {
     "data": {
      "text/html": [
       "<pre style=\"white-space:pre;overflow-x:auto;line-height:normal;font-family:Menlo,'DejaVu Sans Mono',consolas,'Courier New',monospace\"></pre>\n"
      ],
      "text/plain": []
     },
     "metadata": {},
     "output_type": "display_data"
    },
    {
     "data": {
      "text/html": [
       "mathematical_model_kinetics.Y_R_semiempirical"
      ],
      "text/plain": [
       "\u001b[1m<\u001b[0m\u001b[1;95mIPython.core.display.HTML\u001b[0m\u001b[39m object\u001b[0m\u001b[1m>\u001b[0m"
      ]
     },
     "metadata": {},
     "output_type": "display_data"
    },
    {
     "data": {
      "text/html": [
       "<pre style=\"white-space:pre;overflow-x:auto;line-height:normal;font-family:Menlo,'DejaVu Sans Mono',consolas,'Courier New',monospace\"></pre>\n"
      ],
      "text/plain": []
     },
     "metadata": {},
     "output_type": "display_data"
    },
    {
     "data": {
      "text/latex": [
       "$\\displaystyle Y_{R } = D_{R } \\sin{\\left(\\alpha_{f } \\right)} + L_{R } \\cos{\\left(\\alpha_{f } \\right)}$"
      ],
      "text/plain": [
       "\u001b[1m<\u001b[0m\u001b[1;95mIPython.core.display.Math\u001b[0m\u001b[39m object\u001b[0m\u001b[1m>\u001b[0m"
      ]
     },
     "metadata": {},
     "output_type": "display_data"
    },
    {
     "data": {
      "text/html": [
       "<pre style=\"white-space:pre;overflow-x:auto;line-height:normal;font-family:Menlo,'DejaVu Sans Mono',consolas,'Courier New',monospace\"></pre>\n"
      ],
      "text/plain": []
     },
     "metadata": {},
     "output_type": "display_data"
    },
    {
     "data": {
      "text/html": [
       "<br>"
      ],
      "text/plain": [
       "\u001b[1m<\u001b[0m\u001b[1;95mIPython.core.display.HTML\u001b[0m\u001b[39m object\u001b[0m\u001b[1m>\u001b[0m"
      ]
     },
     "metadata": {},
     "output_type": "display_data"
    },
    {
     "data": {
      "text/html": [
       "<pre style=\"white-space:pre;overflow-x:auto;line-height:normal;font-family:Menlo,'DejaVu Sans Mono',consolas,'Courier New',monospace\"></pre>\n"
      ],
      "text/plain": []
     },
     "metadata": {},
     "output_type": "display_data"
    },
    {
     "data": {
      "text/html": [
       "mathematical_model_kinetics.X_R_semiempirical"
      ],
      "text/plain": [
       "\u001b[1m<\u001b[0m\u001b[1;95mIPython.core.display.HTML\u001b[0m\u001b[39m object\u001b[0m\u001b[1m>\u001b[0m"
      ]
     },
     "metadata": {},
     "output_type": "display_data"
    },
    {
     "data": {
      "text/html": [
       "<pre style=\"white-space:pre;overflow-x:auto;line-height:normal;font-family:Menlo,'DejaVu Sans Mono',consolas,'Courier New',monospace\"></pre>\n"
      ],
      "text/plain": []
     },
     "metadata": {},
     "output_type": "display_data"
    },
    {
     "data": {
      "text/latex": [
       "$\\displaystyle X_{R } = - D_{R } \\cos{\\left(\\alpha_{f } \\right)} + L_{R } \\sin{\\left(\\alpha_{f } \\right)}$"
      ],
      "text/plain": [
       "\u001b[1m<\u001b[0m\u001b[1;95mIPython.core.display.Math\u001b[0m\u001b[39m object\u001b[0m\u001b[1m>\u001b[0m"
      ]
     },
     "metadata": {},
     "output_type": "display_data"
    },
    {
     "data": {
      "text/html": [
       "<pre style=\"white-space:pre;overflow-x:auto;line-height:normal;font-family:Menlo,'DejaVu Sans Mono',consolas,'Courier New',monospace\"></pre>\n"
      ],
      "text/plain": []
     },
     "metadata": {},
     "output_type": "display_data"
    },
    {
     "data": {
      "text/html": [
       "<br>"
      ],
      "text/plain": [
       "\u001b[1m<\u001b[0m\u001b[1;95mIPython.core.display.HTML\u001b[0m\u001b[39m object\u001b[0m\u001b[1m>\u001b[0m"
      ]
     },
     "metadata": {},
     "output_type": "display_data"
    },
    {
     "data": {
      "text/html": [
       "<pre style=\"white-space:pre;overflow-x:auto;line-height:normal;font-family:Menlo,'DejaVu Sans Mono',consolas,'Courier New',monospace\"></pre>\n"
      ],
      "text/plain": []
     },
     "metadata": {},
     "output_type": "display_data"
    },
    {
     "data": {
      "text/html": [
       "mathematical_model_kinetics.D_R_semiempirical"
      ],
      "text/plain": [
       "\u001b[1m<\u001b[0m\u001b[1;95mIPython.core.display.HTML\u001b[0m\u001b[39m object\u001b[0m\u001b[1m>\u001b[0m"
      ]
     },
     "metadata": {},
     "output_type": "display_data"
    },
    {
     "data": {
      "text/html": [
       "<pre style=\"white-space:pre;overflow-x:auto;line-height:normal;font-family:Menlo,'DejaVu Sans Mono',consolas,'Courier New',monospace\"></pre>\n"
      ],
      "text/plain": []
     },
     "metadata": {},
     "output_type": "display_data"
    },
    {
     "data": {
      "text/latex": [
       "$\\displaystyle D_{R } = 0.5 \\rho \\left(A_{R C} C_{D C } V_{R C }^{2} + A_{R U} C_{D U } V_{R U }^{2}\\right)$"
      ],
      "text/plain": [
       "\u001b[1m<\u001b[0m\u001b[1;95mIPython.core.display.Math\u001b[0m\u001b[39m object\u001b[0m\u001b[1m>\u001b[0m"
      ]
     },
     "metadata": {},
     "output_type": "display_data"
    },
    {
     "data": {
      "text/html": [
       "<pre style=\"white-space:pre;overflow-x:auto;line-height:normal;font-family:Menlo,'DejaVu Sans Mono',consolas,'Courier New',monospace\"></pre>\n"
      ],
      "text/plain": []
     },
     "metadata": {},
     "output_type": "display_data"
    },
    {
     "data": {
      "text/html": [
       "<br>"
      ],
      "text/plain": [
       "\u001b[1m<\u001b[0m\u001b[1;95mIPython.core.display.HTML\u001b[0m\u001b[39m object\u001b[0m\u001b[1m>\u001b[0m"
      ]
     },
     "metadata": {},
     "output_type": "display_data"
    },
    {
     "data": {
      "text/html": [
       "<pre style=\"white-space:pre;overflow-x:auto;line-height:normal;font-family:Menlo,'DejaVu Sans Mono',consolas,'Courier New',monospace\"></pre>\n"
      ],
      "text/plain": []
     },
     "metadata": {},
     "output_type": "display_data"
    },
    {
     "data": {
      "text/html": [
       "mathematical_model_kinetics.C_D_U_semiempirical"
      ],
      "text/plain": [
       "\u001b[1m<\u001b[0m\u001b[1;95mIPython.core.display.HTML\u001b[0m\u001b[39m object\u001b[0m\u001b[1m>\u001b[0m"
      ]
     },
     "metadata": {},
     "output_type": "display_data"
    },
    {
     "data": {
      "text/html": [
       "<pre style=\"white-space:pre;overflow-x:auto;line-height:normal;font-family:Menlo,'DejaVu Sans Mono',consolas,'Courier New',monospace\"></pre>\n"
      ],
      "text/plain": []
     },
     "metadata": {},
     "output_type": "display_data"
    },
    {
     "data": {
      "text/latex": [
       "$\\displaystyle C_{D U } = C_{D0 U } + \\frac{C_{D tune} C_{L }^{2}}{\\pi AR_{e } e_{0}}$"
      ],
      "text/plain": [
       "\u001b[1m<\u001b[0m\u001b[1;95mIPython.core.display.Math\u001b[0m\u001b[39m object\u001b[0m\u001b[1m>\u001b[0m"
      ]
     },
     "metadata": {},
     "output_type": "display_data"
    },
    {
     "data": {
      "text/html": [
       "<pre style=\"white-space:pre;overflow-x:auto;line-height:normal;font-family:Menlo,'DejaVu Sans Mono',consolas,'Courier New',monospace\"></pre>\n"
      ],
      "text/plain": []
     },
     "metadata": {},
     "output_type": "display_data"
    },
    {
     "data": {
      "text/html": [
       "<br>"
      ],
      "text/plain": [
       "\u001b[1m<\u001b[0m\u001b[1;95mIPython.core.display.HTML\u001b[0m\u001b[39m object\u001b[0m\u001b[1m>\u001b[0m"
      ]
     },
     "metadata": {},
     "output_type": "display_data"
    },
    {
     "data": {
      "text/html": [
       "<pre style=\"white-space:pre;overflow-x:auto;line-height:normal;font-family:Menlo,'DejaVu Sans Mono',consolas,'Courier New',monospace\"></pre>\n"
      ],
      "text/plain": []
     },
     "metadata": {},
     "output_type": "display_data"
    },
    {
     "data": {
      "text/html": [
       "mathematical_model_kinetics.C_D0_U_semiempirical"
      ],
      "text/plain": [
       "\u001b[1m<\u001b[0m\u001b[1;95mIPython.core.display.HTML\u001b[0m\u001b[39m object\u001b[0m\u001b[1m>\u001b[0m"
      ]
     },
     "metadata": {},
     "output_type": "display_data"
    },
    {
     "data": {
      "text/html": [
       "<pre style=\"white-space:pre;overflow-x:auto;line-height:normal;font-family:Menlo,'DejaVu Sans Mono',consolas,'Courier New',monospace\"></pre>\n"
      ],
      "text/plain": []
     },
     "metadata": {},
     "output_type": "display_data"
    },
    {
     "data": {
      "text/latex": [
       "$\\displaystyle C_{D0 U } = 2.5 C_{D0 tune} C_{F U }$"
      ],
      "text/plain": [
       "\u001b[1m<\u001b[0m\u001b[1;95mIPython.core.display.Math\u001b[0m\u001b[39m object\u001b[0m\u001b[1m>\u001b[0m"
      ]
     },
     "metadata": {},
     "output_type": "display_data"
    },
    {
     "data": {
      "text/html": [
       "<pre style=\"white-space:pre;overflow-x:auto;line-height:normal;font-family:Menlo,'DejaVu Sans Mono',consolas,'Courier New',monospace\"></pre>\n"
      ],
      "text/plain": []
     },
     "metadata": {},
     "output_type": "display_data"
    },
    {
     "data": {
      "text/html": [
       "<br>"
      ],
      "text/plain": [
       "\u001b[1m<\u001b[0m\u001b[1;95mIPython.core.display.HTML\u001b[0m\u001b[39m object\u001b[0m\u001b[1m>\u001b[0m"
      ]
     },
     "metadata": {},
     "output_type": "display_data"
    },
    {
     "data": {
      "text/html": [
       "<pre style=\"white-space:pre;overflow-x:auto;line-height:normal;font-family:Menlo,'DejaVu Sans Mono',consolas,'Courier New',monospace\"></pre>\n"
      ],
      "text/plain": []
     },
     "metadata": {},
     "output_type": "display_data"
    },
    {
     "data": {
      "text/html": [
       "mathematical_model_kinetics.C_F_U_semiempirical"
      ],
      "text/plain": [
       "\u001b[1m<\u001b[0m\u001b[1;95mIPython.core.display.HTML\u001b[0m\u001b[39m object\u001b[0m\u001b[1m>\u001b[0m"
      ]
     },
     "metadata": {},
     "output_type": "display_data"
    },
    {
     "data": {
      "text/html": [
       "<pre style=\"white-space:pre;overflow-x:auto;line-height:normal;font-family:Menlo,'DejaVu Sans Mono',consolas,'Courier New',monospace\"></pre>\n"
      ],
      "text/plain": []
     },
     "metadata": {},
     "output_type": "display_data"
    },
    {
     "data": {
      "text/latex": [
       "$\\displaystyle C_{F U } = \\frac{0.075 \\log{\\left(10 \\right)}^{2}}{\\log{\\left(Re_{F U } - 2 \\right)}^{2}}$"
      ],
      "text/plain": [
       "\u001b[1m<\u001b[0m\u001b[1;95mIPython.core.display.Math\u001b[0m\u001b[39m object\u001b[0m\u001b[1m>\u001b[0m"
      ]
     },
     "metadata": {},
     "output_type": "display_data"
    },
    {
     "data": {
      "text/html": [
       "<pre style=\"white-space:pre;overflow-x:auto;line-height:normal;font-family:Menlo,'DejaVu Sans Mono',consolas,'Courier New',monospace\"></pre>\n"
      ],
      "text/plain": []
     },
     "metadata": {},
     "output_type": "display_data"
    },
    {
     "data": {
      "text/html": [
       "<br>"
      ],
      "text/plain": [
       "\u001b[1m<\u001b[0m\u001b[1;95mIPython.core.display.HTML\u001b[0m\u001b[39m object\u001b[0m\u001b[1m>\u001b[0m"
      ]
     },
     "metadata": {},
     "output_type": "display_data"
    },
    {
     "data": {
      "text/html": [
       "<pre style=\"white-space:pre;overflow-x:auto;line-height:normal;font-family:Menlo,'DejaVu Sans Mono',consolas,'Courier New',monospace\"></pre>\n"
      ],
      "text/plain": []
     },
     "metadata": {},
     "output_type": "display_data"
    },
    {
     "data": {
      "text/html": [
       "mathematical_model_kinetics.Re_F_U_semiempirical"
      ],
      "text/plain": [
       "\u001b[1m<\u001b[0m\u001b[1;95mIPython.core.display.HTML\u001b[0m\u001b[39m object\u001b[0m\u001b[1m>\u001b[0m"
      ]
     },
     "metadata": {},
     "output_type": "display_data"
    },
    {
     "data": {
      "text/html": [
       "<pre style=\"white-space:pre;overflow-x:auto;line-height:normal;font-family:Menlo,'DejaVu Sans Mono',consolas,'Courier New',monospace\"></pre>\n"
      ],
      "text/plain": []
     },
     "metadata": {},
     "output_type": "display_data"
    },
    {
     "data": {
      "text/latex": [
       "$\\displaystyle Re_{F U } = \\frac{V_{R U } c_{}}{\\nu}$"
      ],
      "text/plain": [
       "\u001b[1m<\u001b[0m\u001b[1;95mIPython.core.display.Math\u001b[0m\u001b[39m object\u001b[0m\u001b[1m>\u001b[0m"
      ]
     },
     "metadata": {},
     "output_type": "display_data"
    },
    {
     "data": {
      "text/html": [
       "<pre style=\"white-space:pre;overflow-x:auto;line-height:normal;font-family:Menlo,'DejaVu Sans Mono',consolas,'Courier New',monospace\"></pre>\n"
      ],
      "text/plain": []
     },
     "metadata": {},
     "output_type": "display_data"
    },
    {
     "data": {
      "text/html": [
       "<br>"
      ],
      "text/plain": [
       "\u001b[1m<\u001b[0m\u001b[1;95mIPython.core.display.HTML\u001b[0m\u001b[39m object\u001b[0m\u001b[1m>\u001b[0m"
      ]
     },
     "metadata": {},
     "output_type": "display_data"
    },
    {
     "data": {
      "text/html": [
       "<pre style=\"white-space:pre;overflow-x:auto;line-height:normal;font-family:Menlo,'DejaVu Sans Mono',consolas,'Courier New',monospace\"></pre>\n"
      ],
      "text/plain": []
     },
     "metadata": {},
     "output_type": "display_data"
    },
    {
     "data": {
      "text/html": [
       "mathematical_model_kinetics.C_D_C_semiempirical"
      ],
      "text/plain": [
       "\u001b[1m<\u001b[0m\u001b[1;95mIPython.core.display.HTML\u001b[0m\u001b[39m object\u001b[0m\u001b[1m>\u001b[0m"
      ]
     },
     "metadata": {},
     "output_type": "display_data"
    },
    {
     "data": {
      "text/html": [
       "<pre style=\"white-space:pre;overflow-x:auto;line-height:normal;font-family:Menlo,'DejaVu Sans Mono',consolas,'Courier New',monospace\"></pre>\n"
      ],
      "text/plain": []
     },
     "metadata": {},
     "output_type": "display_data"
    },
    {
     "data": {
      "text/latex": [
       "$\\displaystyle C_{D C } = C_{D0 C } + \\frac{C_{D tune} C_{L }^{2}}{\\pi AR_{e } e_{0}}$"
      ],
      "text/plain": [
       "\u001b[1m<\u001b[0m\u001b[1;95mIPython.core.display.Math\u001b[0m\u001b[39m object\u001b[0m\u001b[1m>\u001b[0m"
      ]
     },
     "metadata": {},
     "output_type": "display_data"
    },
    {
     "data": {
      "text/html": [
       "<pre style=\"white-space:pre;overflow-x:auto;line-height:normal;font-family:Menlo,'DejaVu Sans Mono',consolas,'Courier New',monospace\"></pre>\n"
      ],
      "text/plain": []
     },
     "metadata": {},
     "output_type": "display_data"
    },
    {
     "data": {
      "text/html": [
       "<br>"
      ],
      "text/plain": [
       "\u001b[1m<\u001b[0m\u001b[1;95mIPython.core.display.HTML\u001b[0m\u001b[39m object\u001b[0m\u001b[1m>\u001b[0m"
      ]
     },
     "metadata": {},
     "output_type": "display_data"
    },
    {
     "data": {
      "text/html": [
       "<pre style=\"white-space:pre;overflow-x:auto;line-height:normal;font-family:Menlo,'DejaVu Sans Mono',consolas,'Courier New',monospace\"></pre>\n"
      ],
      "text/plain": []
     },
     "metadata": {},
     "output_type": "display_data"
    },
    {
     "data": {
      "text/html": [
       "mathematical_model_kinetics.C_D0_C_semiempirical"
      ],
      "text/plain": [
       "\u001b[1m<\u001b[0m\u001b[1;95mIPython.core.display.HTML\u001b[0m\u001b[39m object\u001b[0m\u001b[1m>\u001b[0m"
      ]
     },
     "metadata": {},
     "output_type": "display_data"
    },
    {
     "data": {
      "text/html": [
       "<pre style=\"white-space:pre;overflow-x:auto;line-height:normal;font-family:Menlo,'DejaVu Sans Mono',consolas,'Courier New',monospace\"></pre>\n"
      ],
      "text/plain": []
     },
     "metadata": {},
     "output_type": "display_data"
    },
    {
     "data": {
      "text/latex": [
       "$\\displaystyle C_{D0 C } = 2.5 C_{D0 tune} C_{F C }$"
      ],
      "text/plain": [
       "\u001b[1m<\u001b[0m\u001b[1;95mIPython.core.display.Math\u001b[0m\u001b[39m object\u001b[0m\u001b[1m>\u001b[0m"
      ]
     },
     "metadata": {},
     "output_type": "display_data"
    },
    {
     "data": {
      "text/html": [
       "<pre style=\"white-space:pre;overflow-x:auto;line-height:normal;font-family:Menlo,'DejaVu Sans Mono',consolas,'Courier New',monospace\"></pre>\n"
      ],
      "text/plain": []
     },
     "metadata": {},
     "output_type": "display_data"
    },
    {
     "data": {
      "text/html": [
       "<br>"
      ],
      "text/plain": [
       "\u001b[1m<\u001b[0m\u001b[1;95mIPython.core.display.HTML\u001b[0m\u001b[39m object\u001b[0m\u001b[1m>\u001b[0m"
      ]
     },
     "metadata": {},
     "output_type": "display_data"
    },
    {
     "data": {
      "text/html": [
       "<pre style=\"white-space:pre;overflow-x:auto;line-height:normal;font-family:Menlo,'DejaVu Sans Mono',consolas,'Courier New',monospace\"></pre>\n"
      ],
      "text/plain": []
     },
     "metadata": {},
     "output_type": "display_data"
    },
    {
     "data": {
      "text/html": [
       "mathematical_model_kinetics.C_F_C_semiempirical"
      ],
      "text/plain": [
       "\u001b[1m<\u001b[0m\u001b[1;95mIPython.core.display.HTML\u001b[0m\u001b[39m object\u001b[0m\u001b[1m>\u001b[0m"
      ]
     },
     "metadata": {},
     "output_type": "display_data"
    },
    {
     "data": {
      "text/html": [
       "<pre style=\"white-space:pre;overflow-x:auto;line-height:normal;font-family:Menlo,'DejaVu Sans Mono',consolas,'Courier New',monospace\"></pre>\n"
      ],
      "text/plain": []
     },
     "metadata": {},
     "output_type": "display_data"
    },
    {
     "data": {
      "text/latex": [
       "$\\displaystyle C_{F C } = \\frac{0.075 \\log{\\left(10 \\right)}^{2}}{\\log{\\left(Re_{F C } - 2 \\right)}^{2}}$"
      ],
      "text/plain": [
       "\u001b[1m<\u001b[0m\u001b[1;95mIPython.core.display.Math\u001b[0m\u001b[39m object\u001b[0m\u001b[1m>\u001b[0m"
      ]
     },
     "metadata": {},
     "output_type": "display_data"
    },
    {
     "data": {
      "text/html": [
       "<pre style=\"white-space:pre;overflow-x:auto;line-height:normal;font-family:Menlo,'DejaVu Sans Mono',consolas,'Courier New',monospace\"></pre>\n"
      ],
      "text/plain": []
     },
     "metadata": {},
     "output_type": "display_data"
    },
    {
     "data": {
      "text/html": [
       "<br>"
      ],
      "text/plain": [
       "\u001b[1m<\u001b[0m\u001b[1;95mIPython.core.display.HTML\u001b[0m\u001b[39m object\u001b[0m\u001b[1m>\u001b[0m"
      ]
     },
     "metadata": {},
     "output_type": "display_data"
    },
    {
     "data": {
      "text/html": [
       "<pre style=\"white-space:pre;overflow-x:auto;line-height:normal;font-family:Menlo,'DejaVu Sans Mono',consolas,'Courier New',monospace\"></pre>\n"
      ],
      "text/plain": []
     },
     "metadata": {},
     "output_type": "display_data"
    },
    {
     "data": {
      "text/html": [
       "mathematical_model_kinetics.Re_F_C_semiempirical"
      ],
      "text/plain": [
       "\u001b[1m<\u001b[0m\u001b[1;95mIPython.core.display.HTML\u001b[0m\u001b[39m object\u001b[0m\u001b[1m>\u001b[0m"
      ]
     },
     "metadata": {},
     "output_type": "display_data"
    },
    {
     "data": {
      "text/html": [
       "<pre style=\"white-space:pre;overflow-x:auto;line-height:normal;font-family:Menlo,'DejaVu Sans Mono',consolas,'Courier New',monospace\"></pre>\n"
      ],
      "text/plain": []
     },
     "metadata": {},
     "output_type": "display_data"
    },
    {
     "data": {
      "text/latex": [
       "$\\displaystyle Re_{F C } = \\frac{V_{R C } c_{}}{\\nu}$"
      ],
      "text/plain": [
       "\u001b[1m<\u001b[0m\u001b[1;95mIPython.core.display.Math\u001b[0m\u001b[39m object\u001b[0m\u001b[1m>\u001b[0m"
      ]
     },
     "metadata": {},
     "output_type": "display_data"
    },
    {
     "data": {
      "text/html": [
       "<pre style=\"white-space:pre;overflow-x:auto;line-height:normal;font-family:Menlo,'DejaVu Sans Mono',consolas,'Courier New',monospace\"></pre>\n"
      ],
      "text/plain": []
     },
     "metadata": {},
     "output_type": "display_data"
    },
    {
     "data": {
      "text/html": [
       "<br>"
      ],
      "text/plain": [
       "\u001b[1m<\u001b[0m\u001b[1;95mIPython.core.display.HTML\u001b[0m\u001b[39m object\u001b[0m\u001b[1m>\u001b[0m"
      ]
     },
     "metadata": {},
     "output_type": "display_data"
    },
    {
     "data": {
      "text/html": [
       "<pre style=\"white-space:pre;overflow-x:auto;line-height:normal;font-family:Menlo,'DejaVu Sans Mono',consolas,'Courier New',monospace\"></pre>\n"
      ],
      "text/plain": []
     },
     "metadata": {},
     "output_type": "display_data"
    },
    {
     "data": {
      "text/html": [
       "mathematical_model_kinetics.alpha_f_semiempirical"
      ],
      "text/plain": [
       "\u001b[1m<\u001b[0m\u001b[1;95mIPython.core.display.HTML\u001b[0m\u001b[39m object\u001b[0m\u001b[1m>\u001b[0m"
      ]
     },
     "metadata": {},
     "output_type": "display_data"
    },
    {
     "data": {
      "text/html": [
       "<pre style=\"white-space:pre;overflow-x:auto;line-height:normal;font-family:Menlo,'DejaVu Sans Mono',consolas,'Courier New',monospace\"></pre>\n"
      ],
      "text/plain": []
     },
     "metadata": {},
     "output_type": "display_data"
    },
    {
     "data": {
      "text/latex": [
       "$\\displaystyle \\alpha_{f } = \\gamma_{0 } + \\gamma_{}$"
      ],
      "text/plain": [
       "\u001b[1m<\u001b[0m\u001b[1;95mIPython.core.display.Math\u001b[0m\u001b[39m object\u001b[0m\u001b[1m>\u001b[0m"
      ]
     },
     "metadata": {},
     "output_type": "display_data"
    },
    {
     "data": {
      "text/html": [
       "<pre style=\"white-space:pre;overflow-x:auto;line-height:normal;font-family:Menlo,'DejaVu Sans Mono',consolas,'Courier New',monospace\"></pre>\n"
      ],
      "text/plain": []
     },
     "metadata": {},
     "output_type": "display_data"
    },
    {
     "data": {
      "text/html": [
       "<br>"
      ],
      "text/plain": [
       "\u001b[1m<\u001b[0m\u001b[1;95mIPython.core.display.HTML\u001b[0m\u001b[39m object\u001b[0m\u001b[1m>\u001b[0m"
      ]
     },
     "metadata": {},
     "output_type": "display_data"
    },
    {
     "data": {
      "text/html": [
       "<pre style=\"white-space:pre;overflow-x:auto;line-height:normal;font-family:Menlo,'DejaVu Sans Mono',consolas,'Courier New',monospace\"></pre>\n"
      ],
      "text/plain": []
     },
     "metadata": {},
     "output_type": "display_data"
    },
    {
     "data": {
      "text/html": [
       "mathematical_model_kinetics.L_R_semiempirical"
      ],
      "text/plain": [
       "\u001b[1m<\u001b[0m\u001b[1;95mIPython.core.display.HTML\u001b[0m\u001b[39m object\u001b[0m\u001b[1m>\u001b[0m"
      ]
     },
     "metadata": {},
     "output_type": "display_data"
    },
    {
     "data": {
      "text/html": [
       "<pre style=\"white-space:pre;overflow-x:auto;line-height:normal;font-family:Menlo,'DejaVu Sans Mono',consolas,'Courier New',monospace\"></pre>\n"
      ],
      "text/plain": []
     },
     "metadata": {},
     "output_type": "display_data"
    },
    {
     "data": {
      "text/latex": [
       "$\\displaystyle L_{R } = L_{R C } + L_{R U }$"
      ],
      "text/plain": [
       "\u001b[1m<\u001b[0m\u001b[1;95mIPython.core.display.Math\u001b[0m\u001b[39m object\u001b[0m\u001b[1m>\u001b[0m"
      ]
     },
     "metadata": {},
     "output_type": "display_data"
    },
    {
     "data": {
      "text/html": [
       "<pre style=\"white-space:pre;overflow-x:auto;line-height:normal;font-family:Menlo,'DejaVu Sans Mono',consolas,'Courier New',monospace\"></pre>\n"
      ],
      "text/plain": []
     },
     "metadata": {},
     "output_type": "display_data"
    },
    {
     "data": {
      "text/html": [
       "<br>"
      ],
      "text/plain": [
       "\u001b[1m<\u001b[0m\u001b[1;95mIPython.core.display.HTML\u001b[0m\u001b[39m object\u001b[0m\u001b[1m>\u001b[0m"
      ]
     },
     "metadata": {},
     "output_type": "display_data"
    },
    {
     "data": {
      "text/html": [
       "<pre style=\"white-space:pre;overflow-x:auto;line-height:normal;font-family:Menlo,'DejaVu Sans Mono',consolas,'Courier New',monospace\"></pre>\n"
      ],
      "text/plain": []
     },
     "metadata": {},
     "output_type": "display_data"
    },
    {
     "data": {
      "text/html": [
       "mathematical_model_kinetics.L_R_U_semiempirical"
      ],
      "text/plain": [
       "\u001b[1m<\u001b[0m\u001b[1;95mIPython.core.display.HTML\u001b[0m\u001b[39m object\u001b[0m\u001b[1m>\u001b[0m"
      ]
     },
     "metadata": {},
     "output_type": "display_data"
    },
    {
     "data": {
      "text/html": [
       "<pre style=\"white-space:pre;overflow-x:auto;line-height:normal;font-family:Menlo,'DejaVu Sans Mono',consolas,'Courier New',monospace\"></pre>\n"
      ],
      "text/plain": []
     },
     "metadata": {},
     "output_type": "display_data"
    },
    {
     "data": {
      "text/latex": [
       "$\\displaystyle L_{R U } = \\frac{A_{R U} C_{L } V_{R U }^{2} \\rho}{2}$"
      ],
      "text/plain": [
       "\u001b[1m<\u001b[0m\u001b[1;95mIPython.core.display.Math\u001b[0m\u001b[39m object\u001b[0m\u001b[1m>\u001b[0m"
      ]
     },
     "metadata": {},
     "output_type": "display_data"
    },
    {
     "data": {
      "text/html": [
       "<pre style=\"white-space:pre;overflow-x:auto;line-height:normal;font-family:Menlo,'DejaVu Sans Mono',consolas,'Courier New',monospace\"></pre>\n"
      ],
      "text/plain": []
     },
     "metadata": {},
     "output_type": "display_data"
    },
    {
     "data": {
      "text/html": [
       "<br>"
      ],
      "text/plain": [
       "\u001b[1m<\u001b[0m\u001b[1;95mIPython.core.display.HTML\u001b[0m\u001b[39m object\u001b[0m\u001b[1m>\u001b[0m"
      ]
     },
     "metadata": {},
     "output_type": "display_data"
    },
    {
     "data": {
      "text/html": [
       "<pre style=\"white-space:pre;overflow-x:auto;line-height:normal;font-family:Menlo,'DejaVu Sans Mono',consolas,'Courier New',monospace\"></pre>\n"
      ],
      "text/plain": []
     },
     "metadata": {},
     "output_type": "display_data"
    },
    {
     "data": {
      "text/html": [
       "mathematical_model_kinetics.V_R_U_semiempirical"
      ],
      "text/plain": [
       "\u001b[1m<\u001b[0m\u001b[1;95mIPython.core.display.HTML\u001b[0m\u001b[39m object\u001b[0m\u001b[1m>\u001b[0m"
      ]
     },
     "metadata": {},
     "output_type": "display_data"
    },
    {
     "data": {
      "text/html": [
       "<pre style=\"white-space:pre;overflow-x:auto;line-height:normal;font-family:Menlo,'DejaVu Sans Mono',consolas,'Courier New',monospace\"></pre>\n"
      ],
      "text/plain": []
     },
     "metadata": {},
     "output_type": "display_data"
    },
    {
     "data": {
      "text/latex": [
       "$\\displaystyle V_{R U } = \\sqrt{V_{R x U }^{2} + V_{R y }^{2}}$"
      ],
      "text/plain": [
       "\u001b[1m<\u001b[0m\u001b[1;95mIPython.core.display.Math\u001b[0m\u001b[39m object\u001b[0m\u001b[1m>\u001b[0m"
      ]
     },
     "metadata": {},
     "output_type": "display_data"
    },
    {
     "data": {
      "text/html": [
       "<pre style=\"white-space:pre;overflow-x:auto;line-height:normal;font-family:Menlo,'DejaVu Sans Mono',consolas,'Courier New',monospace\"></pre>\n"
      ],
      "text/plain": []
     },
     "metadata": {},
     "output_type": "display_data"
    },
    {
     "data": {
      "text/html": [
       "<br>"
      ],
      "text/plain": [
       "\u001b[1m<\u001b[0m\u001b[1;95mIPython.core.display.HTML\u001b[0m\u001b[39m object\u001b[0m\u001b[1m>\u001b[0m"
      ]
     },
     "metadata": {},
     "output_type": "display_data"
    },
    {
     "data": {
      "text/html": [
       "<pre style=\"white-space:pre;overflow-x:auto;line-height:normal;font-family:Menlo,'DejaVu Sans Mono',consolas,'Courier New',monospace\"></pre>\n"
      ],
      "text/plain": []
     },
     "metadata": {},
     "output_type": "display_data"
    },
    {
     "data": {
      "text/html": [
       "mathematical_model_kinetics.V_R_x_U_semiempirical"
      ],
      "text/plain": [
       "\u001b[1m<\u001b[0m\u001b[1;95mIPython.core.display.HTML\u001b[0m\u001b[39m object\u001b[0m\u001b[1m>\u001b[0m"
      ]
     },
     "metadata": {},
     "output_type": "display_data"
    },
    {
     "data": {
      "text/html": [
       "<pre style=\"white-space:pre;overflow-x:auto;line-height:normal;font-family:Menlo,'DejaVu Sans Mono',consolas,'Courier New',monospace\"></pre>\n"
      ],
      "text/plain": []
     },
     "metadata": {},
     "output_type": "display_data"
    },
    {
     "data": {
      "text/latex": [
       "$\\displaystyle V_{R x U } = V_{x U } - r y_{R}$"
      ],
      "text/plain": [
       "\u001b[1m<\u001b[0m\u001b[1;95mIPython.core.display.Math\u001b[0m\u001b[39m object\u001b[0m\u001b[1m>\u001b[0m"
      ]
     },
     "metadata": {},
     "output_type": "display_data"
    },
    {
     "data": {
      "text/html": [
       "<pre style=\"white-space:pre;overflow-x:auto;line-height:normal;font-family:Menlo,'DejaVu Sans Mono',consolas,'Courier New',monospace\"></pre>\n"
      ],
      "text/plain": []
     },
     "metadata": {},
     "output_type": "display_data"
    },
    {
     "data": {
      "text/html": [
       "<br>"
      ],
      "text/plain": [
       "\u001b[1m<\u001b[0m\u001b[1;95mIPython.core.display.HTML\u001b[0m\u001b[39m object\u001b[0m\u001b[1m>\u001b[0m"
      ]
     },
     "metadata": {},
     "output_type": "display_data"
    },
    {
     "data": {
      "text/html": [
       "<pre style=\"white-space:pre;overflow-x:auto;line-height:normal;font-family:Menlo,'DejaVu Sans Mono',consolas,'Courier New',monospace\"></pre>\n"
      ],
      "text/plain": []
     },
     "metadata": {},
     "output_type": "display_data"
    },
    {
     "data": {
      "text/html": [
       "mathematical_model_kinetics.V_x_U_semiempirical"
      ],
      "text/plain": [
       "\u001b[1m<\u001b[0m\u001b[1;95mIPython.core.display.HTML\u001b[0m\u001b[39m object\u001b[0m\u001b[1m>\u001b[0m"
      ]
     },
     "metadata": {},
     "output_type": "display_data"
    },
    {
     "data": {
      "text/html": [
       "<pre style=\"white-space:pre;overflow-x:auto;line-height:normal;font-family:Menlo,'DejaVu Sans Mono',consolas,'Courier New',monospace\"></pre>\n"
      ],
      "text/plain": []
     },
     "metadata": {},
     "output_type": "display_data"
    },
    {
     "data": {
      "text/latex": [
       "$\\displaystyle V_{x U } = V_{A }$"
      ],
      "text/plain": [
       "\u001b[1m<\u001b[0m\u001b[1;95mIPython.core.display.Math\u001b[0m\u001b[39m object\u001b[0m\u001b[1m>\u001b[0m"
      ]
     },
     "metadata": {},
     "output_type": "display_data"
    },
    {
     "data": {
      "text/html": [
       "<pre style=\"white-space:pre;overflow-x:auto;line-height:normal;font-family:Menlo,'DejaVu Sans Mono',consolas,'Courier New',monospace\"></pre>\n"
      ],
      "text/plain": []
     },
     "metadata": {},
     "output_type": "display_data"
    },
    {
     "data": {
      "text/html": [
       "<br>"
      ],
      "text/plain": [
       "\u001b[1m<\u001b[0m\u001b[1;95mIPython.core.display.HTML\u001b[0m\u001b[39m object\u001b[0m\u001b[1m>\u001b[0m"
      ]
     },
     "metadata": {},
     "output_type": "display_data"
    },
    {
     "data": {
      "text/html": [
       "<pre style=\"white-space:pre;overflow-x:auto;line-height:normal;font-family:Menlo,'DejaVu Sans Mono',consolas,'Courier New',monospace\"></pre>\n"
      ],
      "text/plain": []
     },
     "metadata": {},
     "output_type": "display_data"
    },
    {
     "data": {
      "text/html": [
       "mathematical_model_kinetics.L_R_C_semiempirical"
      ],
      "text/plain": [
       "\u001b[1m<\u001b[0m\u001b[1;95mIPython.core.display.HTML\u001b[0m\u001b[39m object\u001b[0m\u001b[1m>\u001b[0m"
      ]
     },
     "metadata": {},
     "output_type": "display_data"
    },
    {
     "data": {
      "text/html": [
       "<pre style=\"white-space:pre;overflow-x:auto;line-height:normal;font-family:Menlo,'DejaVu Sans Mono',consolas,'Courier New',monospace\"></pre>\n"
      ],
      "text/plain": []
     },
     "metadata": {},
     "output_type": "display_data"
    },
    {
     "data": {
      "text/latex": [
       "$\\displaystyle L_{R C } = \\frac{A_{R C} C_{L } V_{R C }^{2} \\lambda_{R } \\rho}{2}$"
      ],
      "text/plain": [
       "\u001b[1m<\u001b[0m\u001b[1;95mIPython.core.display.Math\u001b[0m\u001b[39m object\u001b[0m\u001b[1m>\u001b[0m"
      ]
     },
     "metadata": {},
     "output_type": "display_data"
    },
    {
     "data": {
      "text/html": [
       "<pre style=\"white-space:pre;overflow-x:auto;line-height:normal;font-family:Menlo,'DejaVu Sans Mono',consolas,'Courier New',monospace\"></pre>\n"
      ],
      "text/plain": []
     },
     "metadata": {},
     "output_type": "display_data"
    },
    {
     "data": {
      "text/html": [
       "<br>"
      ],
      "text/plain": [
       "\u001b[1m<\u001b[0m\u001b[1;95mIPython.core.display.HTML\u001b[0m\u001b[39m object\u001b[0m\u001b[1m>\u001b[0m"
      ]
     },
     "metadata": {},
     "output_type": "display_data"
    },
    {
     "data": {
      "text/html": [
       "<pre style=\"white-space:pre;overflow-x:auto;line-height:normal;font-family:Menlo,'DejaVu Sans Mono',consolas,'Courier New',monospace\"></pre>\n"
      ],
      "text/plain": []
     },
     "metadata": {},
     "output_type": "display_data"
    },
    {
     "data": {
      "text/html": [
       "mathematical_model_kinetics.V_R_C_semiempirical"
      ],
      "text/plain": [
       "\u001b[1m<\u001b[0m\u001b[1;95mIPython.core.display.HTML\u001b[0m\u001b[39m object\u001b[0m\u001b[1m>\u001b[0m"
      ]
     },
     "metadata": {},
     "output_type": "display_data"
    },
    {
     "data": {
      "text/html": [
       "<pre style=\"white-space:pre;overflow-x:auto;line-height:normal;font-family:Menlo,'DejaVu Sans Mono',consolas,'Courier New',monospace\"></pre>\n"
      ],
      "text/plain": []
     },
     "metadata": {},
     "output_type": "display_data"
    },
    {
     "data": {
      "text/latex": [
       "$\\displaystyle V_{R C } = \\sqrt{V_{R x C }^{2} + V_{R y }^{2}}$"
      ],
      "text/plain": [
       "\u001b[1m<\u001b[0m\u001b[1;95mIPython.core.display.Math\u001b[0m\u001b[39m object\u001b[0m\u001b[1m>\u001b[0m"
      ]
     },
     "metadata": {},
     "output_type": "display_data"
    },
    {
     "data": {
      "text/html": [
       "<pre style=\"white-space:pre;overflow-x:auto;line-height:normal;font-family:Menlo,'DejaVu Sans Mono',consolas,'Courier New',monospace\"></pre>\n"
      ],
      "text/plain": []
     },
     "metadata": {},
     "output_type": "display_data"
    },
    {
     "data": {
      "text/html": [
       "<br>"
      ],
      "text/plain": [
       "\u001b[1m<\u001b[0m\u001b[1;95mIPython.core.display.HTML\u001b[0m\u001b[39m object\u001b[0m\u001b[1m>\u001b[0m"
      ]
     },
     "metadata": {},
     "output_type": "display_data"
    },
    {
     "data": {
      "text/html": [
       "<pre style=\"white-space:pre;overflow-x:auto;line-height:normal;font-family:Menlo,'DejaVu Sans Mono',consolas,'Courier New',monospace\"></pre>\n"
      ],
      "text/plain": []
     },
     "metadata": {},
     "output_type": "display_data"
    },
    {
     "data": {
      "text/html": [
       "mathematical_model_kinetics.lambda_R_semiempirical"
      ],
      "text/plain": [
       "\u001b[1m<\u001b[0m\u001b[1;95mIPython.core.display.HTML\u001b[0m\u001b[39m object\u001b[0m\u001b[1m>\u001b[0m"
      ]
     },
     "metadata": {},
     "output_type": "display_data"
    },
    {
     "data": {
      "text/html": [
       "<pre style=\"white-space:pre;overflow-x:auto;line-height:normal;font-family:Menlo,'DejaVu Sans Mono',consolas,'Courier New',monospace\"></pre>\n"
      ],
      "text/plain": []
     },
     "metadata": {},
     "output_type": "display_data"
    },
    {
     "data": {
      "text/latex": [
       "$\\displaystyle \\lambda_{R } = \\left(\\frac{V_{A }}{V_{x corr }}\\right)^{f_{}}$"
      ],
      "text/plain": [
       "\u001b[1m<\u001b[0m\u001b[1;95mIPython.core.display.Math\u001b[0m\u001b[39m object\u001b[0m\u001b[1m>\u001b[0m"
      ]
     },
     "metadata": {},
     "output_type": "display_data"
    },
    {
     "data": {
      "text/html": [
       "<pre style=\"white-space:pre;overflow-x:auto;line-height:normal;font-family:Menlo,'DejaVu Sans Mono',consolas,'Courier New',monospace\"></pre>\n"
      ],
      "text/plain": []
     },
     "metadata": {},
     "output_type": "display_data"
    },
    {
     "data": {
      "text/html": [
       "<br>"
      ],
      "text/plain": [
       "\u001b[1m<\u001b[0m\u001b[1;95mIPython.core.display.HTML\u001b[0m\u001b[39m object\u001b[0m\u001b[1m>\u001b[0m"
      ]
     },
     "metadata": {},
     "output_type": "display_data"
    },
    {
     "data": {
      "text/html": [
       "<pre style=\"white-space:pre;overflow-x:auto;line-height:normal;font-family:Menlo,'DejaVu Sans Mono',consolas,'Courier New',monospace\"></pre>\n"
      ],
      "text/plain": []
     },
     "metadata": {},
     "output_type": "display_data"
    },
    {
     "data": {
      "text/html": [
       "mathematical_model_kinetics.f_semiempirical"
      ],
      "text/plain": [
       "\u001b[1m<\u001b[0m\u001b[1;95mIPython.core.display.HTML\u001b[0m\u001b[39m object\u001b[0m\u001b[1m>\u001b[0m"
      ]
     },
     "metadata": {},
     "output_type": "display_data"
    },
    {
     "data": {
      "text/html": [
       "<pre style=\"white-space:pre;overflow-x:auto;line-height:normal;font-family:Menlo,'DejaVu Sans Mono',consolas,'Courier New',monospace\"></pre>\n"
      ],
      "text/plain": []
     },
     "metadata": {},
     "output_type": "display_data"
    },
    {
     "data": {
      "text/latex": [
       "$\\displaystyle f_{} = \\frac{512}{\\left(2 + \\frac{d_{}}{c_{}}\\right)^{8}}$"
      ],
      "text/plain": [
       "\u001b[1m<\u001b[0m\u001b[1;95mIPython.core.display.Math\u001b[0m\u001b[39m object\u001b[0m\u001b[1m>\u001b[0m"
      ]
     },
     "metadata": {},
     "output_type": "display_data"
    },
    {
     "data": {
      "text/html": [
       "<pre style=\"white-space:pre;overflow-x:auto;line-height:normal;font-family:Menlo,'DejaVu Sans Mono',consolas,'Courier New',monospace\"></pre>\n"
      ],
      "text/plain": []
     },
     "metadata": {},
     "output_type": "display_data"
    },
    {
     "data": {
      "text/html": [
       "<br>"
      ],
      "text/plain": [
       "\u001b[1m<\u001b[0m\u001b[1;95mIPython.core.display.HTML\u001b[0m\u001b[39m object\u001b[0m\u001b[1m>\u001b[0m"
      ]
     },
     "metadata": {},
     "output_type": "display_data"
    },
    {
     "data": {
      "text/html": [
       "<pre style=\"white-space:pre;overflow-x:auto;line-height:normal;font-family:Menlo,'DejaVu Sans Mono',consolas,'Courier New',monospace\"></pre>\n"
      ],
      "text/plain": []
     },
     "metadata": {},
     "output_type": "display_data"
    },
    {
     "data": {
      "text/html": [
       "mathematical_model_kinetics.c_semiempirical"
      ],
      "text/plain": [
       "\u001b[1m<\u001b[0m\u001b[1;95mIPython.core.display.HTML\u001b[0m\u001b[39m object\u001b[0m\u001b[1m>\u001b[0m"
      ]
     },
     "metadata": {},
     "output_type": "display_data"
    },
    {
     "data": {
      "text/html": [
       "<pre style=\"white-space:pre;overflow-x:auto;line-height:normal;font-family:Menlo,'DejaVu Sans Mono',consolas,'Courier New',monospace\"></pre>\n"
      ],
      "text/plain": []
     },
     "metadata": {},
     "output_type": "display_data"
    },
    {
     "data": {
      "text/latex": [
       "$\\displaystyle c_{} = \\frac{c_{r}}{2} + \\frac{c_{t}}{2}$"
      ],
      "text/plain": [
       "\u001b[1m<\u001b[0m\u001b[1;95mIPython.core.display.Math\u001b[0m\u001b[39m object\u001b[0m\u001b[1m>\u001b[0m"
      ]
     },
     "metadata": {},
     "output_type": "display_data"
    },
    {
     "data": {
      "text/html": [
       "<pre style=\"white-space:pre;overflow-x:auto;line-height:normal;font-family:Menlo,'DejaVu Sans Mono',consolas,'Courier New',monospace\"></pre>\n"
      ],
      "text/plain": []
     },
     "metadata": {},
     "output_type": "display_data"
    },
    {
     "data": {
      "text/html": [
       "<br>"
      ],
      "text/plain": [
       "\u001b[1m<\u001b[0m\u001b[1;95mIPython.core.display.HTML\u001b[0m\u001b[39m object\u001b[0m\u001b[1m>\u001b[0m"
      ]
     },
     "metadata": {},
     "output_type": "display_data"
    },
    {
     "data": {
      "text/html": [
       "<pre style=\"white-space:pre;overflow-x:auto;line-height:normal;font-family:Menlo,'DejaVu Sans Mono',consolas,'Courier New',monospace\"></pre>\n"
      ],
      "text/plain": []
     },
     "metadata": {},
     "output_type": "display_data"
    },
    {
     "data": {
      "text/html": [
       "mathematical_model_kinetics.d_semiempirical"
      ],
      "text/plain": [
       "\u001b[1m<\u001b[0m\u001b[1;95mIPython.core.display.HTML\u001b[0m\u001b[39m object\u001b[0m\u001b[1m>\u001b[0m"
      ]
     },
     "metadata": {},
     "output_type": "display_data"
    },
    {
     "data": {
      "text/html": [
       "<pre style=\"white-space:pre;overflow-x:auto;line-height:normal;font-family:Menlo,'DejaVu Sans Mono',consolas,'Courier New',monospace\"></pre>\n"
      ],
      "text/plain": []
     },
     "metadata": {},
     "output_type": "display_data"
    },
    {
     "data": {
      "text/latex": [
       "$\\displaystyle d_{} = \\frac{\\sqrt{\\pi} \\left(r_{\\Delta } + r_{x }\\right)}{2}$"
      ],
      "text/plain": [
       "\u001b[1m<\u001b[0m\u001b[1;95mIPython.core.display.Math\u001b[0m\u001b[39m object\u001b[0m\u001b[1m>\u001b[0m"
      ]
     },
     "metadata": {},
     "output_type": "display_data"
    },
    {
     "data": {
      "text/html": [
       "<pre style=\"white-space:pre;overflow-x:auto;line-height:normal;font-family:Menlo,'DejaVu Sans Mono',consolas,'Courier New',monospace\"></pre>\n"
      ],
      "text/plain": []
     },
     "metadata": {},
     "output_type": "display_data"
    },
    {
     "data": {
      "text/html": [
       "<br>"
      ],
      "text/plain": [
       "\u001b[1m<\u001b[0m\u001b[1;95mIPython.core.display.HTML\u001b[0m\u001b[39m object\u001b[0m\u001b[1m>\u001b[0m"
      ]
     },
     "metadata": {},
     "output_type": "display_data"
    },
    {
     "data": {
      "text/html": [
       "<pre style=\"white-space:pre;overflow-x:auto;line-height:normal;font-family:Menlo,'DejaVu Sans Mono',consolas,'Courier New',monospace\"></pre>\n"
      ],
      "text/plain": []
     },
     "metadata": {},
     "output_type": "display_data"
    },
    {
     "data": {
      "text/html": [
       "mathematical_model_kinetics.C_L_semiempirical"
      ],
      "text/plain": [
       "\u001b[1m<\u001b[0m\u001b[1;95mIPython.core.display.HTML\u001b[0m\u001b[39m object\u001b[0m\u001b[1m>\u001b[0m"
      ]
     },
     "metadata": {},
     "output_type": "display_data"
    },
    {
     "data": {
      "text/html": [
       "<pre style=\"white-space:pre;overflow-x:auto;line-height:normal;font-family:Menlo,'DejaVu Sans Mono',consolas,'Courier New',monospace\"></pre>\n"
      ],
      "text/plain": []
     },
     "metadata": {},
     "output_type": "display_data"
    },
    {
     "data": {
      "text/latex": [
       "$\\displaystyle C_{L } = K_{gap } \\left(\\alpha_{} \\frac{\\partial C_L}{\\partial \\alpha} + \\frac{C_{DC} \\alpha_{} \\left|{\\alpha_{}}\\right|}{AR_{e }}\\right)$"
      ],
      "text/plain": [
       "\u001b[1m<\u001b[0m\u001b[1;95mIPython.core.display.Math\u001b[0m\u001b[39m object\u001b[0m\u001b[1m>\u001b[0m"
      ]
     },
     "metadata": {},
     "output_type": "display_data"
    },
    {
     "data": {
      "text/html": [
       "<pre style=\"white-space:pre;overflow-x:auto;line-height:normal;font-family:Menlo,'DejaVu Sans Mono',consolas,'Courier New',monospace\"></pre>\n"
      ],
      "text/plain": []
     },
     "metadata": {},
     "output_type": "display_data"
    },
    {
     "data": {
      "text/html": [
       "<br>"
      ],
      "text/plain": [
       "\u001b[1m<\u001b[0m\u001b[1;95mIPython.core.display.HTML\u001b[0m\u001b[39m object\u001b[0m\u001b[1m>\u001b[0m"
      ]
     },
     "metadata": {},
     "output_type": "display_data"
    },
    {
     "data": {
      "text/html": [
       "<pre style=\"white-space:pre;overflow-x:auto;line-height:normal;font-family:Menlo,'DejaVu Sans Mono',consolas,'Courier New',monospace\"></pre>\n"
      ],
      "text/plain": []
     },
     "metadata": {},
     "output_type": "display_data"
    },
    {
     "data": {
      "text/html": [
       "mathematical_model_kinetics.C_N_semiempirical"
      ],
      "text/plain": [
       "\u001b[1m<\u001b[0m\u001b[1;95mIPython.core.display.HTML\u001b[0m\u001b[39m object\u001b[0m\u001b[1m>\u001b[0m"
      ]
     },
     "metadata": {},
     "output_type": "display_data"
    },
    {
     "data": {
      "text/html": [
       "<pre style=\"white-space:pre;overflow-x:auto;line-height:normal;font-family:Menlo,'DejaVu Sans Mono',consolas,'Courier New',monospace\"></pre>\n"
      ],
      "text/plain": []
     },
     "metadata": {},
     "output_type": "display_data"
    },
    {
     "data": {
      "text/latex": [
       "$\\displaystyle C_{N } = 1.8$"
      ],
      "text/plain": [
       "\u001b[1m<\u001b[0m\u001b[1;95mIPython.core.display.Math\u001b[0m\u001b[39m object\u001b[0m\u001b[1m>\u001b[0m"
      ]
     },
     "metadata": {},
     "output_type": "display_data"
    },
    {
     "data": {
      "text/html": [
       "<pre style=\"white-space:pre;overflow-x:auto;line-height:normal;font-family:Menlo,'DejaVu Sans Mono',consolas,'Courier New',monospace\"></pre>\n"
      ],
      "text/plain": []
     },
     "metadata": {},
     "output_type": "display_data"
    },
    {
     "data": {
      "text/html": [
       "<br>"
      ],
      "text/plain": [
       "\u001b[1m<\u001b[0m\u001b[1;95mIPython.core.display.HTML\u001b[0m\u001b[39m object\u001b[0m\u001b[1m>\u001b[0m"
      ]
     },
     "metadata": {},
     "output_type": "display_data"
    },
    {
     "data": {
      "text/html": [
       "<pre style=\"white-space:pre;overflow-x:auto;line-height:normal;font-family:Menlo,'DejaVu Sans Mono',consolas,'Courier New',monospace\"></pre>\n"
      ],
      "text/plain": []
     },
     "metadata": {},
     "output_type": "display_data"
    },
    {
     "data": {
      "text/html": [
       "mathematical_model_kinetics.C_L_max_semiempirical"
      ],
      "text/plain": [
       "\u001b[1m<\u001b[0m\u001b[1;95mIPython.core.display.HTML\u001b[0m\u001b[39m object\u001b[0m\u001b[1m>\u001b[0m"
      ]
     },
     "metadata": {},
     "output_type": "display_data"
    },
    {
     "data": {
      "text/html": [
       "<pre style=\"white-space:pre;overflow-x:auto;line-height:normal;font-family:Menlo,'DejaVu Sans Mono',consolas,'Courier New',monospace\"></pre>\n"
      ],
      "text/plain": []
     },
     "metadata": {},
     "output_type": "display_data"
    },
    {
     "data": {
      "text/latex": [
       "$\\displaystyle C_{L max } = \\alpha_{s } \\frac{\\partial C_L}{\\partial \\alpha} + \\frac{C_{DC} \\alpha_{s } \\left|{\\alpha_{s }}\\right|}{AR_{e }}$"
      ],
      "text/plain": [
       "\u001b[1m<\u001b[0m\u001b[1;95mIPython.core.display.Math\u001b[0m\u001b[39m object\u001b[0m\u001b[1m>\u001b[0m"
      ]
     },
     "metadata": {},
     "output_type": "display_data"
    },
    {
     "data": {
      "text/html": [
       "<pre style=\"white-space:pre;overflow-x:auto;line-height:normal;font-family:Menlo,'DejaVu Sans Mono',consolas,'Courier New',monospace\"></pre>\n"
      ],
      "text/plain": []
     },
     "metadata": {},
     "output_type": "display_data"
    },
    {
     "data": {
      "text/html": [
       "<br>"
      ],
      "text/plain": [
       "\u001b[1m<\u001b[0m\u001b[1;95mIPython.core.display.HTML\u001b[0m\u001b[39m object\u001b[0m\u001b[1m>\u001b[0m"
      ]
     },
     "metadata": {},
     "output_type": "display_data"
    },
    {
     "data": {
      "text/html": [
       "<pre style=\"white-space:pre;overflow-x:auto;line-height:normal;font-family:Menlo,'DejaVu Sans Mono',consolas,'Courier New',monospace\"></pre>\n"
      ],
      "text/plain": []
     },
     "metadata": {},
     "output_type": "display_data"
    },
    {
     "data": {
      "text/html": [
       "mathematical_model_kinetics.B_0_semiempirical"
      ],
      "text/plain": [
       "\u001b[1m<\u001b[0m\u001b[1;95mIPython.core.display.HTML\u001b[0m\u001b[39m object\u001b[0m\u001b[1m>\u001b[0m"
      ]
     },
     "metadata": {},
     "output_type": "display_data"
    },
    {
     "data": {
      "text/html": [
       "<pre style=\"white-space:pre;overflow-x:auto;line-height:normal;font-family:Menlo,'DejaVu Sans Mono',consolas,'Courier New',monospace\"></pre>\n"
      ],
      "text/plain": []
     },
     "metadata": {},
     "output_type": "display_data"
    },
    {
     "data": {
      "text/latex": [
       "$\\displaystyle B_{0 } = 1 - B_{s }$"
      ],
      "text/plain": [
       "\u001b[1m<\u001b[0m\u001b[1;95mIPython.core.display.Math\u001b[0m\u001b[39m object\u001b[0m\u001b[1m>\u001b[0m"
      ]
     },
     "metadata": {},
     "output_type": "display_data"
    },
    {
     "data": {
      "text/html": [
       "<pre style=\"white-space:pre;overflow-x:auto;line-height:normal;font-family:Menlo,'DejaVu Sans Mono',consolas,'Courier New',monospace\"></pre>\n"
      ],
      "text/plain": []
     },
     "metadata": {},
     "output_type": "display_data"
    },
    {
     "data": {
      "text/html": [
       "<br>"
      ],
      "text/plain": [
       "\u001b[1m<\u001b[0m\u001b[1;95mIPython.core.display.HTML\u001b[0m\u001b[39m object\u001b[0m\u001b[1m>\u001b[0m"
      ]
     },
     "metadata": {},
     "output_type": "display_data"
    },
    {
     "data": {
      "text/html": [
       "<pre style=\"white-space:pre;overflow-x:auto;line-height:normal;font-family:Menlo,'DejaVu Sans Mono',consolas,'Courier New',monospace\"></pre>\n"
      ],
      "text/plain": []
     },
     "metadata": {},
     "output_type": "display_data"
    },
    {
     "data": {
      "text/html": [
       "mathematical_model_kinetics.B_s_semiempirical"
      ],
      "text/plain": [
       "\u001b[1m<\u001b[0m\u001b[1;95mIPython.core.display.HTML\u001b[0m\u001b[39m object\u001b[0m\u001b[1m>\u001b[0m"
      ]
     },
     "metadata": {},
     "output_type": "display_data"
    },
    {
     "data": {
      "text/html": [
       "<pre style=\"white-space:pre;overflow-x:auto;line-height:normal;font-family:Menlo,'DejaVu Sans Mono',consolas,'Courier New',monospace\"></pre>\n"
      ],
      "text/plain": []
     },
     "metadata": {},
     "output_type": "display_data"
    },
    {
     "data": {
      "text/latex": [
       "$\\displaystyle B_{s } = \\begin{cases} 1 & \\text{for}\\: \\left|{\\alpha_{}}\\right| > 1.25 \\alpha_{s } \\\\u_{s } \\left(- 2 u_{s }^{2} + 3 u_{s }\\right) & \\text{otherwise} \\end{cases}$"
      ],
      "text/plain": [
       "\u001b[1m<\u001b[0m\u001b[1;95mIPython.core.display.Math\u001b[0m\u001b[39m object\u001b[0m\u001b[1m>\u001b[0m"
      ]
     },
     "metadata": {},
     "output_type": "display_data"
    },
    {
     "data": {
      "text/html": [
       "<pre style=\"white-space:pre;overflow-x:auto;line-height:normal;font-family:Menlo,'DejaVu Sans Mono',consolas,'Courier New',monospace\"></pre>\n"
      ],
      "text/plain": []
     },
     "metadata": {},
     "output_type": "display_data"
    },
    {
     "data": {
      "text/html": [
       "<br>"
      ],
      "text/plain": [
       "\u001b[1m<\u001b[0m\u001b[1;95mIPython.core.display.HTML\u001b[0m\u001b[39m object\u001b[0m\u001b[1m>\u001b[0m"
      ]
     },
     "metadata": {},
     "output_type": "display_data"
    },
    {
     "data": {
      "text/html": [
       "<pre style=\"white-space:pre;overflow-x:auto;line-height:normal;font-family:Menlo,'DejaVu Sans Mono',consolas,'Courier New',monospace\"></pre>\n"
      ],
      "text/plain": []
     },
     "metadata": {},
     "output_type": "display_data"
    },
    {
     "data": {
      "text/html": [
       "mathematical_model_kinetics.u_s_semiempirical"
      ],
      "text/plain": [
       "\u001b[1m<\u001b[0m\u001b[1;95mIPython.core.display.HTML\u001b[0m\u001b[39m object\u001b[0m\u001b[1m>\u001b[0m"
      ]
     },
     "metadata": {},
     "output_type": "display_data"
    },
    {
     "data": {
      "text/html": [
       "<pre style=\"white-space:pre;overflow-x:auto;line-height:normal;font-family:Menlo,'DejaVu Sans Mono',consolas,'Courier New',monospace\"></pre>\n"
      ],
      "text/plain": []
     },
     "metadata": {},
     "output_type": "display_data"
    },
    {
     "data": {
      "text/latex": [
       "$\\displaystyle u_{s } = \\frac{- 4 \\alpha_{s } + 4 \\left|{\\alpha_{}}\\right|}{\\alpha_{s }}$"
      ],
      "text/plain": [
       "\u001b[1m<\u001b[0m\u001b[1;95mIPython.core.display.Math\u001b[0m\u001b[39m object\u001b[0m\u001b[1m>\u001b[0m"
      ]
     },
     "metadata": {},
     "output_type": "display_data"
    },
    {
     "data": {
      "text/html": [
       "<pre style=\"white-space:pre;overflow-x:auto;line-height:normal;font-family:Menlo,'DejaVu Sans Mono',consolas,'Courier New',monospace\"></pre>\n"
      ],
      "text/plain": []
     },
     "metadata": {},
     "output_type": "display_data"
    },
    {
     "data": {
      "text/html": [
       "<br>"
      ],
      "text/plain": [
       "\u001b[1m<\u001b[0m\u001b[1;95mIPython.core.display.HTML\u001b[0m\u001b[39m object\u001b[0m\u001b[1m>\u001b[0m"
      ]
     },
     "metadata": {},
     "output_type": "display_data"
    },
    {
     "data": {
      "text/html": [
       "<pre style=\"white-space:pre;overflow-x:auto;line-height:normal;font-family:Menlo,'DejaVu Sans Mono',consolas,'Courier New',monospace\"></pre>\n"
      ],
      "text/plain": []
     },
     "metadata": {},
     "output_type": "display_data"
    },
    {
     "data": {
      "text/html": [
       "mathematical_model_kinetics.K_gap_semiempirical"
      ],
      "text/plain": [
       "\u001b[1m<\u001b[0m\u001b[1;95mIPython.core.display.HTML\u001b[0m\u001b[39m object\u001b[0m\u001b[1m>\u001b[0m"
      ]
     },
     "metadata": {},
     "output_type": "display_data"
    },
    {
     "data": {
      "text/html": [
       "<pre style=\"white-space:pre;overflow-x:auto;line-height:normal;font-family:Menlo,'DejaVu Sans Mono',consolas,'Courier New',monospace\"></pre>\n"
      ],
      "text/plain": []
     },
     "metadata": {},
     "output_type": "display_data"
    },
    {
     "data": {
      "text/latex": [
       "$\\displaystyle K_{gap } = \\begin{cases} 1 & \\text{for}\\: \\delta_{lim} > \\left|{\\delta}\\right| \\\\s \\left(- \\delta_{lim} + \\left|{\\delta}\\right|\\right)^{2} + 1 & \\text{otherwise} \\end{cases}$"
      ],
      "text/plain": [
       "\u001b[1m<\u001b[0m\u001b[1;95mIPython.core.display.Math\u001b[0m\u001b[39m object\u001b[0m\u001b[1m>\u001b[0m"
      ]
     },
     "metadata": {},
     "output_type": "display_data"
    },
    {
     "data": {
      "text/html": [
       "<pre style=\"white-space:pre;overflow-x:auto;line-height:normal;font-family:Menlo,'DejaVu Sans Mono',consolas,'Courier New',monospace\"></pre>\n"
      ],
      "text/plain": []
     },
     "metadata": {},
     "output_type": "display_data"
    },
    {
     "data": {
      "text/html": [
       "<br>"
      ],
      "text/plain": [
       "\u001b[1m<\u001b[0m\u001b[1;95mIPython.core.display.HTML\u001b[0m\u001b[39m object\u001b[0m\u001b[1m>\u001b[0m"
      ]
     },
     "metadata": {},
     "output_type": "display_data"
    },
    {
     "data": {
      "text/html": [
       "<pre style=\"white-space:pre;overflow-x:auto;line-height:normal;font-family:Menlo,'DejaVu Sans Mono',consolas,'Courier New',monospace\"></pre>\n"
      ],
      "text/plain": []
     },
     "metadata": {},
     "output_type": "display_data"
    },
    {
     "data": {
      "text/html": [
       "mathematical_model_kinetics.alpha_s_semiempirical"
      ],
      "text/plain": [
       "\u001b[1m<\u001b[0m\u001b[1;95mIPython.core.display.HTML\u001b[0m\u001b[39m object\u001b[0m\u001b[1m>\u001b[0m"
      ]
     },
     "metadata": {},
     "output_type": "display_data"
    },
    {
     "data": {
      "text/html": [
       "<pre style=\"white-space:pre;overflow-x:auto;line-height:normal;font-family:Menlo,'DejaVu Sans Mono',consolas,'Courier New',monospace\"></pre>\n"
      ],
      "text/plain": []
     },
     "metadata": {},
     "output_type": "display_data"
    },
    {
     "data": {
      "text/latex": [
       "$\\displaystyle \\alpha_{s } = \\delta_{\\alpha s} + \\begin{cases} 0.075 AR_{e }^{2} - 0.445 AR_{e } + 1.225 & \\text{for}\\: AR_{e } \\leq 3 \\\\0.565 & \\text{otherwise} \\end{cases}$"
      ],
      "text/plain": [
       "\u001b[1m<\u001b[0m\u001b[1;95mIPython.core.display.Math\u001b[0m\u001b[39m object\u001b[0m\u001b[1m>\u001b[0m"
      ]
     },
     "metadata": {},
     "output_type": "display_data"
    },
    {
     "data": {
      "text/html": [
       "<pre style=\"white-space:pre;overflow-x:auto;line-height:normal;font-family:Menlo,'DejaVu Sans Mono',consolas,'Courier New',monospace\"></pre>\n"
      ],
      "text/plain": []
     },
     "metadata": {},
     "output_type": "display_data"
    },
    {
     "data": {
      "text/html": [
       "<br>"
      ],
      "text/plain": [
       "\u001b[1m<\u001b[0m\u001b[1;95mIPython.core.display.HTML\u001b[0m\u001b[39m object\u001b[0m\u001b[1m>\u001b[0m"
      ]
     },
     "metadata": {},
     "output_type": "display_data"
    },
    {
     "data": {
      "text/html": [
       "<pre style=\"white-space:pre;overflow-x:auto;line-height:normal;font-family:Menlo,'DejaVu Sans Mono',consolas,'Courier New',monospace\"></pre>\n"
      ],
      "text/plain": []
     },
     "metadata": {},
     "output_type": "display_data"
    },
    {
     "data": {
      "text/html": [
       "mathematical_model_kinetics.C_D_crossflow_semiempirical"
      ],
      "text/plain": [
       "\u001b[1m<\u001b[0m\u001b[1;95mIPython.core.display.HTML\u001b[0m\u001b[39m object\u001b[0m\u001b[1m>\u001b[0m"
      ]
     },
     "metadata": {},
     "output_type": "display_data"
    },
    {
     "data": {
      "text/html": [
       "<pre style=\"white-space:pre;overflow-x:auto;line-height:normal;font-family:Menlo,'DejaVu Sans Mono',consolas,'Courier New',monospace\"></pre>\n"
      ],
      "text/plain": []
     },
     "metadata": {},
     "output_type": "display_data"
    },
    {
     "data": {
      "text/latex": [
       "$\\displaystyle C_{DC} = 1.6 \\lambda^{} + 0.1$"
      ],
      "text/plain": [
       "\u001b[1m<\u001b[0m\u001b[1;95mIPython.core.display.Math\u001b[0m\u001b[39m object\u001b[0m\u001b[1m>\u001b[0m"
      ]
     },
     "metadata": {},
     "output_type": "display_data"
    },
    {
     "data": {
      "text/html": [
       "<pre style=\"white-space:pre;overflow-x:auto;line-height:normal;font-family:Menlo,'DejaVu Sans Mono',consolas,'Courier New',monospace\"></pre>\n"
      ],
      "text/plain": []
     },
     "metadata": {},
     "output_type": "display_data"
    },
    {
     "data": {
      "text/html": [
       "<br>"
      ],
      "text/plain": [
       "\u001b[1m<\u001b[0m\u001b[1;95mIPython.core.display.HTML\u001b[0m\u001b[39m object\u001b[0m\u001b[1m>\u001b[0m"
      ]
     },
     "metadata": {},
     "output_type": "display_data"
    },
    {
     "data": {
      "text/html": [
       "<pre style=\"white-space:pre;overflow-x:auto;line-height:normal;font-family:Menlo,'DejaVu Sans Mono',consolas,'Courier New',monospace\"></pre>\n"
      ],
      "text/plain": []
     },
     "metadata": {},
     "output_type": "display_data"
    },
    {
     "data": {
      "text/html": [
       "mathematical_model_kinetics.lambda__semiempirical"
      ],
      "text/plain": [
       "\u001b[1m<\u001b[0m\u001b[1;95mIPython.core.display.HTML\u001b[0m\u001b[39m object\u001b[0m\u001b[1m>\u001b[0m"
      ]
     },
     "metadata": {},
     "output_type": "display_data"
    },
    {
     "data": {
      "text/html": [
       "<pre style=\"white-space:pre;overflow-x:auto;line-height:normal;font-family:Menlo,'DejaVu Sans Mono',consolas,'Courier New',monospace\"></pre>\n"
      ],
      "text/plain": []
     },
     "metadata": {},
     "output_type": "display_data"
    },
    {
     "data": {
      "text/latex": [
       "$\\displaystyle \\lambda^{} = \\frac{c_{t}}{c_{r}}$"
      ],
      "text/plain": [
       "\u001b[1m<\u001b[0m\u001b[1;95mIPython.core.display.Math\u001b[0m\u001b[39m object\u001b[0m\u001b[1m>\u001b[0m"
      ]
     },
     "metadata": {},
     "output_type": "display_data"
    },
    {
     "data": {
      "text/html": [
       "<pre style=\"white-space:pre;overflow-x:auto;line-height:normal;font-family:Menlo,'DejaVu Sans Mono',consolas,'Courier New',monospace\"></pre>\n"
      ],
      "text/plain": []
     },
     "metadata": {},
     "output_type": "display_data"
    },
    {
     "data": {
      "text/html": [
       "<br>"
      ],
      "text/plain": [
       "\u001b[1m<\u001b[0m\u001b[1;95mIPython.core.display.HTML\u001b[0m\u001b[39m object\u001b[0m\u001b[1m>\u001b[0m"
      ]
     },
     "metadata": {},
     "output_type": "display_data"
    },
    {
     "data": {
      "text/html": [
       "<pre style=\"white-space:pre;overflow-x:auto;line-height:normal;font-family:Menlo,'DejaVu Sans Mono',consolas,'Courier New',monospace\"></pre>\n"
      ],
      "text/plain": []
     },
     "metadata": {},
     "output_type": "display_data"
    },
    {
     "data": {
      "text/html": [
       "mathematical_model_kinetics.dC_L_dalpha_semiempirical"
      ],
      "text/plain": [
       "\u001b[1m<\u001b[0m\u001b[1;95mIPython.core.display.HTML\u001b[0m\u001b[39m object\u001b[0m\u001b[1m>\u001b[0m"
      ]
     },
     "metadata": {},
     "output_type": "display_data"
    },
    {
     "data": {
      "text/html": [
       "<pre style=\"white-space:pre;overflow-x:auto;line-height:normal;font-family:Menlo,'DejaVu Sans Mono',consolas,'Courier New',monospace\"></pre>\n"
      ],
      "text/plain": []
     },
     "metadata": {},
     "output_type": "display_data"
    },
    {
     "data": {
      "text/latex": [
       "$\\displaystyle \\frac{\\partial C_L}{\\partial \\alpha} = \\frac{AR_{e } a_{0 }}{\\sqrt{\\frac{AR_{e }^{2}}{\\cos^{4}{\\left(\\Omega \\right)}} + 4} \\cos{\\left(\\Omega \\right)} + 1.8}$"
      ],
      "text/plain": [
       "\u001b[1m<\u001b[0m\u001b[1;95mIPython.core.display.Math\u001b[0m\u001b[39m object\u001b[0m\u001b[1m>\u001b[0m"
      ]
     },
     "metadata": {},
     "output_type": "display_data"
    },
    {
     "data": {
      "text/html": [
       "<pre style=\"white-space:pre;overflow-x:auto;line-height:normal;font-family:Menlo,'DejaVu Sans Mono',consolas,'Courier New',monospace\"></pre>\n"
      ],
      "text/plain": []
     },
     "metadata": {},
     "output_type": "display_data"
    },
    {
     "data": {
      "text/html": [
       "<br>"
      ],
      "text/plain": [
       "\u001b[1m<\u001b[0m\u001b[1;95mIPython.core.display.HTML\u001b[0m\u001b[39m object\u001b[0m\u001b[1m>\u001b[0m"
      ]
     },
     "metadata": {},
     "output_type": "display_data"
    },
    {
     "data": {
      "text/html": [
       "<pre style=\"white-space:pre;overflow-x:auto;line-height:normal;font-family:Menlo,'DejaVu Sans Mono',consolas,'Courier New',monospace\"></pre>\n"
      ],
      "text/plain": []
     },
     "metadata": {},
     "output_type": "display_data"
    },
    {
     "data": {
      "text/html": [
       "mathematical_model_kinetics.a_0_semiempirical"
      ],
      "text/plain": [
       "\u001b[1m<\u001b[0m\u001b[1;95mIPython.core.display.HTML\u001b[0m\u001b[39m object\u001b[0m\u001b[1m>\u001b[0m"
      ]
     },
     "metadata": {},
     "output_type": "display_data"
    },
    {
     "data": {
      "text/html": [
       "<pre style=\"white-space:pre;overflow-x:auto;line-height:normal;font-family:Menlo,'DejaVu Sans Mono',consolas,'Courier New',monospace\"></pre>\n"
      ],
      "text/plain": []
     },
     "metadata": {},
     "output_type": "display_data"
    },
    {
     "data": {
      "text/latex": [
       "$\\displaystyle a_{0 } = 1.8 \\pi$"
      ],
      "text/plain": [
       "\u001b[1m<\u001b[0m\u001b[1;95mIPython.core.display.Math\u001b[0m\u001b[39m object\u001b[0m\u001b[1m>\u001b[0m"
      ]
     },
     "metadata": {},
     "output_type": "display_data"
    },
    {
     "data": {
      "text/html": [
       "<pre style=\"white-space:pre;overflow-x:auto;line-height:normal;font-family:Menlo,'DejaVu Sans Mono',consolas,'Courier New',monospace\"></pre>\n"
      ],
      "text/plain": []
     },
     "metadata": {},
     "output_type": "display_data"
    },
    {
     "data": {
      "text/html": [
       "<br>"
      ],
      "text/plain": [
       "\u001b[1m<\u001b[0m\u001b[1;95mIPython.core.display.HTML\u001b[0m\u001b[39m object\u001b[0m\u001b[1m>\u001b[0m"
      ]
     },
     "metadata": {},
     "output_type": "display_data"
    },
    {
     "data": {
      "text/html": [
       "<pre style=\"white-space:pre;overflow-x:auto;line-height:normal;font-family:Menlo,'DejaVu Sans Mono',consolas,'Courier New',monospace\"></pre>\n"
      ],
      "text/plain": []
     },
     "metadata": {},
     "output_type": "display_data"
    },
    {
     "data": {
      "text/html": [
       "mathematical_model_kinetics.AR_e_semiempirical"
      ],
      "text/plain": [
       "\u001b[1m<\u001b[0m\u001b[1;95mIPython.core.display.HTML\u001b[0m\u001b[39m object\u001b[0m\u001b[1m>\u001b[0m"
      ]
     },
     "metadata": {},
     "output_type": "display_data"
    },
    {
     "data": {
      "text/html": [
       "<pre style=\"white-space:pre;overflow-x:auto;line-height:normal;font-family:Menlo,'DejaVu Sans Mono',consolas,'Courier New',monospace\"></pre>\n"
      ],
      "text/plain": []
     },
     "metadata": {},
     "output_type": "display_data"
    },
    {
     "data": {
      "text/latex": [
       "$\\displaystyle AR_{e } = 2 AR_{g }$"
      ],
      "text/plain": [
       "\u001b[1m<\u001b[0m\u001b[1;95mIPython.core.display.Math\u001b[0m\u001b[39m object\u001b[0m\u001b[1m>\u001b[0m"
      ]
     },
     "metadata": {},
     "output_type": "display_data"
    },
    {
     "data": {
      "text/html": [
       "<pre style=\"white-space:pre;overflow-x:auto;line-height:normal;font-family:Menlo,'DejaVu Sans Mono',consolas,'Courier New',monospace\"></pre>\n"
      ],
      "text/plain": []
     },
     "metadata": {},
     "output_type": "display_data"
    },
    {
     "data": {
      "text/html": [
       "<br>"
      ],
      "text/plain": [
       "\u001b[1m<\u001b[0m\u001b[1;95mIPython.core.display.HTML\u001b[0m\u001b[39m object\u001b[0m\u001b[1m>\u001b[0m"
      ]
     },
     "metadata": {},
     "output_type": "display_data"
    },
    {
     "data": {
      "text/html": [
       "<pre style=\"white-space:pre;overflow-x:auto;line-height:normal;font-family:Menlo,'DejaVu Sans Mono',consolas,'Courier New',monospace\"></pre>\n"
      ],
      "text/plain": []
     },
     "metadata": {},
     "output_type": "display_data"
    },
    {
     "data": {
      "text/html": [
       "mathematical_model_kinetics.AR_g_semiempirical"
      ],
      "text/plain": [
       "\u001b[1m<\u001b[0m\u001b[1;95mIPython.core.display.HTML\u001b[0m\u001b[39m object\u001b[0m\u001b[1m>\u001b[0m"
      ]
     },
     "metadata": {},
     "output_type": "display_data"
    },
    {
     "data": {
      "text/html": [
       "<pre style=\"white-space:pre;overflow-x:auto;line-height:normal;font-family:Menlo,'DejaVu Sans Mono',consolas,'Courier New',monospace\"></pre>\n"
      ],
      "text/plain": []
     },
     "metadata": {},
     "output_type": "display_data"
    },
    {
     "data": {
      "text/latex": [
       "$\\displaystyle AR_{g } = \\frac{b_{R}^{2}}{A_{R}}$"
      ],
      "text/plain": [
       "\u001b[1m<\u001b[0m\u001b[1;95mIPython.core.display.Math\u001b[0m\u001b[39m object\u001b[0m\u001b[1m>\u001b[0m"
      ]
     },
     "metadata": {},
     "output_type": "display_data"
    },
    {
     "data": {
      "text/html": [
       "<pre style=\"white-space:pre;overflow-x:auto;line-height:normal;font-family:Menlo,'DejaVu Sans Mono',consolas,'Courier New',monospace\"></pre>\n"
      ],
      "text/plain": []
     },
     "metadata": {},
     "output_type": "display_data"
    },
    {
     "data": {
      "text/html": [
       "<br>"
      ],
      "text/plain": [
       "\u001b[1m<\u001b[0m\u001b[1;95mIPython.core.display.HTML\u001b[0m\u001b[39m object\u001b[0m\u001b[1m>\u001b[0m"
      ]
     },
     "metadata": {},
     "output_type": "display_data"
    },
    {
     "data": {
      "text/html": [
       "<pre style=\"white-space:pre;overflow-x:auto;line-height:normal;font-family:Menlo,'DejaVu Sans Mono',consolas,'Courier New',monospace\"></pre>\n"
      ],
      "text/plain": []
     },
     "metadata": {},
     "output_type": "display_data"
    },
    {
     "data": {
      "text/html": [
       "mathematical_model_kinetics.alpha_semiempirical"
      ],
      "text/plain": [
       "\u001b[1m<\u001b[0m\u001b[1;95mIPython.core.display.HTML\u001b[0m\u001b[39m object\u001b[0m\u001b[1m>\u001b[0m"
      ]
     },
     "metadata": {},
     "output_type": "display_data"
    },
    {
     "data": {
      "text/html": [
       "<pre style=\"white-space:pre;overflow-x:auto;line-height:normal;font-family:Menlo,'DejaVu Sans Mono',consolas,'Courier New',monospace\"></pre>\n"
      ],
      "text/plain": []
     },
     "metadata": {},
     "output_type": "display_data"
    },
    {
     "data": {
      "text/latex": [
       "$\\displaystyle \\alpha_{} = \\delta + \\gamma_{0 } + \\gamma_{}$"
      ],
      "text/plain": [
       "\u001b[1m<\u001b[0m\u001b[1;95mIPython.core.display.Math\u001b[0m\u001b[39m object\u001b[0m\u001b[1m>\u001b[0m"
      ]
     },
     "metadata": {},
     "output_type": "display_data"
    },
    {
     "data": {
      "text/html": [
       "<pre style=\"white-space:pre;overflow-x:auto;line-height:normal;font-family:Menlo,'DejaVu Sans Mono',consolas,'Courier New',monospace\"></pre>\n"
      ],
      "text/plain": []
     },
     "metadata": {},
     "output_type": "display_data"
    },
    {
     "data": {
      "text/html": [
       "<br>"
      ],
      "text/plain": [
       "\u001b[1m<\u001b[0m\u001b[1;95mIPython.core.display.HTML\u001b[0m\u001b[39m object\u001b[0m\u001b[1m>\u001b[0m"
      ]
     },
     "metadata": {},
     "output_type": "display_data"
    },
    {
     "data": {
      "text/html": [
       "<pre style=\"white-space:pre;overflow-x:auto;line-height:normal;font-family:Menlo,'DejaVu Sans Mono',consolas,'Courier New',monospace\"></pre>\n"
      ],
      "text/plain": []
     },
     "metadata": {},
     "output_type": "display_data"
    },
    {
     "data": {
      "text/html": [
       "mathematical_model_kinetics.gamma_semiempirical"
      ],
      "text/plain": [
       "\u001b[1m<\u001b[0m\u001b[1;95mIPython.core.display.HTML\u001b[0m\u001b[39m object\u001b[0m\u001b[1m>\u001b[0m"
      ]
     },
     "metadata": {},
     "output_type": "display_data"
    },
    {
     "data": {
      "text/html": [
       "<pre style=\"white-space:pre;overflow-x:auto;line-height:normal;font-family:Menlo,'DejaVu Sans Mono',consolas,'Courier New',monospace\"></pre>\n"
      ],
      "text/plain": []
     },
     "metadata": {},
     "output_type": "display_data"
    },
    {
     "data": {
      "text/latex": [
       "$\\displaystyle \\gamma_{} = \\operatorname{atan}{\\left(\\frac{V_{R y }}{V_{R x C }} \\right)}$"
      ],
      "text/plain": [
       "\u001b[1m<\u001b[0m\u001b[1;95mIPython.core.display.Math\u001b[0m\u001b[39m object\u001b[0m\u001b[1m>\u001b[0m"
      ]
     },
     "metadata": {},
     "output_type": "display_data"
    },
    {
     "data": {
      "text/html": [
       "<pre style=\"white-space:pre;overflow-x:auto;line-height:normal;font-family:Menlo,'DejaVu Sans Mono',consolas,'Courier New',monospace\"></pre>\n"
      ],
      "text/plain": []
     },
     "metadata": {},
     "output_type": "display_data"
    },
    {
     "data": {
      "text/html": [
       "<br>"
      ],
      "text/plain": [
       "\u001b[1m<\u001b[0m\u001b[1;95mIPython.core.display.HTML\u001b[0m\u001b[39m object\u001b[0m\u001b[1m>\u001b[0m"
      ]
     },
     "metadata": {},
     "output_type": "display_data"
    },
    {
     "data": {
      "text/html": [
       "<pre style=\"white-space:pre;overflow-x:auto;line-height:normal;font-family:Menlo,'DejaVu Sans Mono',consolas,'Courier New',monospace\"></pre>\n"
      ],
      "text/plain": []
     },
     "metadata": {},
     "output_type": "display_data"
    },
    {
     "data": {
      "text/html": [
       "mathematical_model_kinetics.V_R_y_semiempirical"
      ],
      "text/plain": [
       "\u001b[1m<\u001b[0m\u001b[1;95mIPython.core.display.HTML\u001b[0m\u001b[39m object\u001b[0m\u001b[1m>\u001b[0m"
      ]
     },
     "metadata": {},
     "output_type": "display_data"
    },
    {
     "data": {
      "text/html": [
       "<pre style=\"white-space:pre;overflow-x:auto;line-height:normal;font-family:Menlo,'DejaVu Sans Mono',consolas,'Courier New',monospace\"></pre>\n"
      ],
      "text/plain": []
     },
     "metadata": {},
     "output_type": "display_data"
    },
    {
     "data": {
      "text/latex": [
       "$\\displaystyle V_{R y } = - \\kappa_{r tot } r x_{R} - \\kappa_{v tot } v$"
      ],
      "text/plain": [
       "\u001b[1m<\u001b[0m\u001b[1;95mIPython.core.display.Math\u001b[0m\u001b[39m object\u001b[0m\u001b[1m>\u001b[0m"
      ]
     },
     "metadata": {},
     "output_type": "display_data"
    },
    {
     "data": {
      "text/html": [
       "<pre style=\"white-space:pre;overflow-x:auto;line-height:normal;font-family:Menlo,'DejaVu Sans Mono',consolas,'Courier New',monospace\"></pre>\n"
      ],
      "text/plain": []
     },
     "metadata": {},
     "output_type": "display_data"
    },
    {
     "data": {
      "text/html": [
       "<br>"
      ],
      "text/plain": [
       "\u001b[1m<\u001b[0m\u001b[1;95mIPython.core.display.HTML\u001b[0m\u001b[39m object\u001b[0m\u001b[1m>\u001b[0m"
      ]
     },
     "metadata": {},
     "output_type": "display_data"
    },
    {
     "data": {
      "text/html": [
       "<pre style=\"white-space:pre;overflow-x:auto;line-height:normal;font-family:Menlo,'DejaVu Sans Mono',consolas,'Courier New',monospace\"></pre>\n"
      ],
      "text/plain": []
     },
     "metadata": {},
     "output_type": "display_data"
    },
    {
     "data": {
      "text/html": [
       "mathematical_model_kinetics.kappa_r_tot_semiempirical"
      ],
      "text/plain": [
       "\u001b[1m<\u001b[0m\u001b[1;95mIPython.core.display.HTML\u001b[0m\u001b[39m object\u001b[0m\u001b[1m>\u001b[0m"
      ]
     },
     "metadata": {},
     "output_type": "display_data"
    },
    {
     "data": {
      "text/html": [
       "<pre style=\"white-space:pre;overflow-x:auto;line-height:normal;font-family:Menlo,'DejaVu Sans Mono',consolas,'Courier New',monospace\"></pre>\n"
      ],
      "text/plain": []
     },
     "metadata": {},
     "output_type": "display_data"
    },
    {
     "data": {
      "text/latex": [
       "$\\displaystyle \\kappa_{r tot } = \\kappa_{r} + \\kappa_{r \\gamma g} \\left|{\\gamma_{g }}\\right|$"
      ],
      "text/plain": [
       "\u001b[1m<\u001b[0m\u001b[1;95mIPython.core.display.Math\u001b[0m\u001b[39m object\u001b[0m\u001b[1m>\u001b[0m"
      ]
     },
     "metadata": {},
     "output_type": "display_data"
    },
    {
     "data": {
      "text/html": [
       "<pre style=\"white-space:pre;overflow-x:auto;line-height:normal;font-family:Menlo,'DejaVu Sans Mono',consolas,'Courier New',monospace\"></pre>\n"
      ],
      "text/plain": []
     },
     "metadata": {},
     "output_type": "display_data"
    },
    {
     "data": {
      "text/html": [
       "<br>"
      ],
      "text/plain": [
       "\u001b[1m<\u001b[0m\u001b[1;95mIPython.core.display.HTML\u001b[0m\u001b[39m object\u001b[0m\u001b[1m>\u001b[0m"
      ]
     },
     "metadata": {},
     "output_type": "display_data"
    },
    {
     "data": {
      "text/html": [
       "<pre style=\"white-space:pre;overflow-x:auto;line-height:normal;font-family:Menlo,'DejaVu Sans Mono',consolas,'Courier New',monospace\"></pre>\n"
      ],
      "text/plain": []
     },
     "metadata": {},
     "output_type": "display_data"
    },
    {
     "data": {
      "text/html": [
       "mathematical_model_kinetics.kappa_v_tot_semiempirical"
      ],
      "text/plain": [
       "\u001b[1m<\u001b[0m\u001b[1;95mIPython.core.display.HTML\u001b[0m\u001b[39m object\u001b[0m\u001b[1m>\u001b[0m"
      ]
     },
     "metadata": {},
     "output_type": "display_data"
    },
    {
     "data": {
      "text/html": [
       "<pre style=\"white-space:pre;overflow-x:auto;line-height:normal;font-family:Menlo,'DejaVu Sans Mono',consolas,'Courier New',monospace\"></pre>\n"
      ],
      "text/plain": []
     },
     "metadata": {},
     "output_type": "display_data"
    },
    {
     "data": {
      "text/latex": [
       "$\\displaystyle \\kappa_{v tot } = \\kappa_{v} + \\kappa_{v \\gamma g} \\left|{\\gamma_{g }}\\right|$"
      ],
      "text/plain": [
       "\u001b[1m<\u001b[0m\u001b[1;95mIPython.core.display.Math\u001b[0m\u001b[39m object\u001b[0m\u001b[1m>\u001b[0m"
      ]
     },
     "metadata": {},
     "output_type": "display_data"
    },
    {
     "data": {
      "text/html": [
       "<pre style=\"white-space:pre;overflow-x:auto;line-height:normal;font-family:Menlo,'DejaVu Sans Mono',consolas,'Courier New',monospace\"></pre>\n"
      ],
      "text/plain": []
     },
     "metadata": {},
     "output_type": "display_data"
    },
    {
     "data": {
      "text/html": [
       "<br>"
      ],
      "text/plain": [
       "\u001b[1m<\u001b[0m\u001b[1;95mIPython.core.display.HTML\u001b[0m\u001b[39m object\u001b[0m\u001b[1m>\u001b[0m"
      ]
     },
     "metadata": {},
     "output_type": "display_data"
    },
    {
     "data": {
      "text/html": [
       "<pre style=\"white-space:pre;overflow-x:auto;line-height:normal;font-family:Menlo,'DejaVu Sans Mono',consolas,'Courier New',monospace\"></pre>\n"
      ],
      "text/plain": []
     },
     "metadata": {},
     "output_type": "display_data"
    },
    {
     "data": {
      "text/html": [
       "mathematical_model_kinetics.gamma_g_semiempirical"
      ],
      "text/plain": [
       "\u001b[1m<\u001b[0m\u001b[1;95mIPython.core.display.HTML\u001b[0m\u001b[39m object\u001b[0m\u001b[1m>\u001b[0m"
      ]
     },
     "metadata": {},
     "output_type": "display_data"
    },
    {
     "data": {
      "text/html": [
       "<pre style=\"white-space:pre;overflow-x:auto;line-height:normal;font-family:Menlo,'DejaVu Sans Mono',consolas,'Courier New',monospace\"></pre>\n"
      ],
      "text/plain": []
     },
     "metadata": {},
     "output_type": "display_data"
    },
    {
     "data": {
      "text/latex": [
       "$\\displaystyle \\gamma_{g } = \\operatorname{atan}{\\left(\\frac{- r x_{R} - v}{V_{R x C }} \\right)}$"
      ],
      "text/plain": [
       "\u001b[1m<\u001b[0m\u001b[1;95mIPython.core.display.Math\u001b[0m\u001b[39m object\u001b[0m\u001b[1m>\u001b[0m"
      ]
     },
     "metadata": {},
     "output_type": "display_data"
    },
    {
     "data": {
      "text/html": [
       "<pre style=\"white-space:pre;overflow-x:auto;line-height:normal;font-family:Menlo,'DejaVu Sans Mono',consolas,'Courier New',monospace\"></pre>\n"
      ],
      "text/plain": []
     },
     "metadata": {},
     "output_type": "display_data"
    },
    {
     "data": {
      "text/html": [
       "<br>"
      ],
      "text/plain": [
       "\u001b[1m<\u001b[0m\u001b[1;95mIPython.core.display.HTML\u001b[0m\u001b[39m object\u001b[0m\u001b[1m>\u001b[0m"
      ]
     },
     "metadata": {},
     "output_type": "display_data"
    },
    {
     "data": {
      "text/html": [
       "<pre style=\"white-space:pre;overflow-x:auto;line-height:normal;font-family:Menlo,'DejaVu Sans Mono',consolas,'Courier New',monospace\"></pre>\n"
      ],
      "text/plain": []
     },
     "metadata": {},
     "output_type": "display_data"
    },
    {
     "data": {
      "text/html": [
       "mathematical_model_kinetics.V_R_x_C_semiempirical"
      ],
      "text/plain": [
       "\u001b[1m<\u001b[0m\u001b[1;95mIPython.core.display.HTML\u001b[0m\u001b[39m object\u001b[0m\u001b[1m>\u001b[0m"
      ]
     },
     "metadata": {},
     "output_type": "display_data"
    },
    {
     "data": {
      "text/html": [
       "<pre style=\"white-space:pre;overflow-x:auto;line-height:normal;font-family:Menlo,'DejaVu Sans Mono',consolas,'Courier New',monospace\"></pre>\n"
      ],
      "text/plain": []
     },
     "metadata": {},
     "output_type": "display_data"
    },
    {
     "data": {
      "text/latex": [
       "$\\displaystyle V_{R x C } = V_{x corr } - r y_{R}$"
      ],
      "text/plain": [
       "\u001b[1m<\u001b[0m\u001b[1;95mIPython.core.display.Math\u001b[0m\u001b[39m object\u001b[0m\u001b[1m>\u001b[0m"
      ]
     },
     "metadata": {},
     "output_type": "display_data"
    },
    {
     "data": {
      "text/html": [
       "<pre style=\"white-space:pre;overflow-x:auto;line-height:normal;font-family:Menlo,'DejaVu Sans Mono',consolas,'Courier New',monospace\"></pre>\n"
      ],
      "text/plain": []
     },
     "metadata": {},
     "output_type": "display_data"
    },
    {
     "data": {
      "text/html": [
       "<br>"
      ],
      "text/plain": [
       "\u001b[1m<\u001b[0m\u001b[1;95mIPython.core.display.HTML\u001b[0m\u001b[39m object\u001b[0m\u001b[1m>\u001b[0m"
      ]
     },
     "metadata": {},
     "output_type": "display_data"
    },
    {
     "data": {
      "text/html": [
       "<pre style=\"white-space:pre;overflow-x:auto;line-height:normal;font-family:Menlo,'DejaVu Sans Mono',consolas,'Courier New',monospace\"></pre>\n"
      ],
      "text/plain": []
     },
     "metadata": {},
     "output_type": "display_data"
    },
    {
     "data": {
      "text/html": [
       "mathematical_model_kinetics.V_x_corr_semiempirical"
      ],
      "text/plain": [
       "\u001b[1m<\u001b[0m\u001b[1;95mIPython.core.display.HTML\u001b[0m\u001b[39m object\u001b[0m\u001b[1m>\u001b[0m"
      ]
     },
     "metadata": {},
     "output_type": "display_data"
    },
    {
     "data": {
      "text/html": [
       "<pre style=\"white-space:pre;overflow-x:auto;line-height:normal;font-family:Menlo,'DejaVu Sans Mono',consolas,'Courier New',monospace\"></pre>\n"
      ],
      "text/plain": []
     },
     "metadata": {},
     "output_type": "display_data"
    },
    {
     "data": {
      "text/latex": [
       "$\\displaystyle V_{x corr } = V_{A } + \\frac{r_{x }^{2} \\left(- V_{A } + V_{x C }\\right)}{\\left(r_{\\Delta } + r_{x }\\right)^{2}}$"
      ],
      "text/plain": [
       "\u001b[1m<\u001b[0m\u001b[1;95mIPython.core.display.Math\u001b[0m\u001b[39m object\u001b[0m\u001b[1m>\u001b[0m"
      ]
     },
     "metadata": {},
     "output_type": "display_data"
    },
    {
     "data": {
      "text/html": [
       "<pre style=\"white-space:pre;overflow-x:auto;line-height:normal;font-family:Menlo,'DejaVu Sans Mono',consolas,'Courier New',monospace\"></pre>\n"
      ],
      "text/plain": []
     },
     "metadata": {},
     "output_type": "display_data"
    },
    {
     "data": {
      "text/html": [
       "<br>"
      ],
      "text/plain": [
       "\u001b[1m<\u001b[0m\u001b[1;95mIPython.core.display.HTML\u001b[0m\u001b[39m object\u001b[0m\u001b[1m>\u001b[0m"
      ]
     },
     "metadata": {},
     "output_type": "display_data"
    },
    {
     "data": {
      "text/html": [
       "<pre style=\"white-space:pre;overflow-x:auto;line-height:normal;font-family:Menlo,'DejaVu Sans Mono',consolas,'Courier New',monospace\"></pre>\n"
      ],
      "text/plain": []
     },
     "metadata": {},
     "output_type": "display_data"
    },
    {
     "data": {
      "text/html": [
       "mathematical_model_kinetics.r_Delta_semiempirical"
      ],
      "text/plain": [
       "\u001b[1m<\u001b[0m\u001b[1;95mIPython.core.display.HTML\u001b[0m\u001b[39m object\u001b[0m\u001b[1m>\u001b[0m"
      ]
     },
     "metadata": {},
     "output_type": "display_data"
    },
    {
     "data": {
      "text/html": [
       "<pre style=\"white-space:pre;overflow-x:auto;line-height:normal;font-family:Menlo,'DejaVu Sans Mono',consolas,'Courier New',monospace\"></pre>\n"
      ],
      "text/plain": []
     },
     "metadata": {},
     "output_type": "display_data"
    },
    {
     "data": {
      "text/latex": [
       "$\\displaystyle r_{\\Delta } = \\frac{0.15 x \\left(- V_{A } + V_{x C }\\right)}{V_{A } + V_{x C }}$"
      ],
      "text/plain": [
       "\u001b[1m<\u001b[0m\u001b[1;95mIPython.core.display.Math\u001b[0m\u001b[39m object\u001b[0m\u001b[1m>\u001b[0m"
      ]
     },
     "metadata": {},
     "output_type": "display_data"
    },
    {
     "data": {
      "text/html": [
       "<pre style=\"white-space:pre;overflow-x:auto;line-height:normal;font-family:Menlo,'DejaVu Sans Mono',consolas,'Courier New',monospace\"></pre>\n"
      ],
      "text/plain": []
     },
     "metadata": {},
     "output_type": "display_data"
    },
    {
     "data": {
      "text/html": [
       "<br>"
      ],
      "text/plain": [
       "\u001b[1m<\u001b[0m\u001b[1;95mIPython.core.display.HTML\u001b[0m\u001b[39m object\u001b[0m\u001b[1m>\u001b[0m"
      ]
     },
     "metadata": {},
     "output_type": "display_data"
    },
    {
     "data": {
      "text/html": [
       "<pre style=\"white-space:pre;overflow-x:auto;line-height:normal;font-family:Menlo,'DejaVu Sans Mono',consolas,'Courier New',monospace\"></pre>\n"
      ],
      "text/plain": []
     },
     "metadata": {},
     "output_type": "display_data"
    },
    {
     "data": {
      "text/html": [
       "mathematical_model_kinetics.V_x_C_semiempirical"
      ],
      "text/plain": [
       "\u001b[1m<\u001b[0m\u001b[1;95mIPython.core.display.HTML\u001b[0m\u001b[39m object\u001b[0m\u001b[1m>\u001b[0m"
      ]
     },
     "metadata": {},
     "output_type": "display_data"
    },
    {
     "data": {
      "text/html": [
       "<pre style=\"white-space:pre;overflow-x:auto;line-height:normal;font-family:Menlo,'DejaVu Sans Mono',consolas,'Courier New',monospace\"></pre>\n"
      ],
      "text/plain": []
     },
     "metadata": {},
     "output_type": "display_data"
    },
    {
     "data": {
      "text/latex": [
       "$\\displaystyle V_{x C } = \\frac{V_{\\infty } r_{\\infty }^{2}}{r_{x }^{2}}$"
      ],
      "text/plain": [
       "\u001b[1m<\u001b[0m\u001b[1;95mIPython.core.display.Math\u001b[0m\u001b[39m object\u001b[0m\u001b[1m>\u001b[0m"
      ]
     },
     "metadata": {},
     "output_type": "display_data"
    },
    {
     "data": {
      "text/html": [
       "<pre style=\"white-space:pre;overflow-x:auto;line-height:normal;font-family:Menlo,'DejaVu Sans Mono',consolas,'Courier New',monospace\"></pre>\n"
      ],
      "text/plain": []
     },
     "metadata": {},
     "output_type": "display_data"
    },
    {
     "data": {
      "text/html": [
       "<br>"
      ],
      "text/plain": [
       "\u001b[1m<\u001b[0m\u001b[1;95mIPython.core.display.HTML\u001b[0m\u001b[39m object\u001b[0m\u001b[1m>\u001b[0m"
      ]
     },
     "metadata": {},
     "output_type": "display_data"
    },
    {
     "data": {
      "text/html": [
       "<pre style=\"white-space:pre;overflow-x:auto;line-height:normal;font-family:Menlo,'DejaVu Sans Mono',consolas,'Courier New',monospace\"></pre>\n"
      ],
      "text/plain": []
     },
     "metadata": {},
     "output_type": "display_data"
    },
    {
     "data": {
      "text/html": [
       "mathematical_model_kinetics.r_x_semiempirical"
      ],
      "text/plain": [
       "\u001b[1m<\u001b[0m\u001b[1;95mIPython.core.display.HTML\u001b[0m\u001b[39m object\u001b[0m\u001b[1m>\u001b[0m"
      ]
     },
     "metadata": {},
     "output_type": "display_data"
    },
    {
     "data": {
      "text/html": [
       "<pre style=\"white-space:pre;overflow-x:auto;line-height:normal;font-family:Menlo,'DejaVu Sans Mono',consolas,'Courier New',monospace\"></pre>\n"
      ],
      "text/plain": []
     },
     "metadata": {},
     "output_type": "display_data"
    },
    {
     "data": {
      "text/latex": [
       "$\\displaystyle r_{x } = \\frac{r_{0} \\left(\\frac{r_{\\infty } \\left(\\frac{x}{r_{0}}\\right)^{1.5}}{r_{0}} + \\frac{0.14 r_{\\infty }^{3}}{r_{0}^{3}}\\right)}{\\left(\\frac{x}{r_{0}}\\right)^{1.5} + \\frac{0.14 r_{\\infty }^{3}}{r_{0}^{3}}}$"
      ],
      "text/plain": [
       "\u001b[1m<\u001b[0m\u001b[1;95mIPython.core.display.Math\u001b[0m\u001b[39m object\u001b[0m\u001b[1m>\u001b[0m"
      ]
     },
     "metadata": {},
     "output_type": "display_data"
    },
    {
     "data": {
      "text/html": [
       "<pre style=\"white-space:pre;overflow-x:auto;line-height:normal;font-family:Menlo,'DejaVu Sans Mono',consolas,'Courier New',monospace\"></pre>\n"
      ],
      "text/plain": []
     },
     "metadata": {},
     "output_type": "display_data"
    },
    {
     "data": {
      "text/html": [
       "<br>"
      ],
      "text/plain": [
       "\u001b[1m<\u001b[0m\u001b[1;95mIPython.core.display.HTML\u001b[0m\u001b[39m object\u001b[0m\u001b[1m>\u001b[0m"
      ]
     },
     "metadata": {},
     "output_type": "display_data"
    },
    {
     "data": {
      "text/html": [
       "<pre style=\"white-space:pre;overflow-x:auto;line-height:normal;font-family:Menlo,'DejaVu Sans Mono',consolas,'Courier New',monospace\"></pre>\n"
      ],
      "text/plain": []
     },
     "metadata": {},
     "output_type": "display_data"
    },
    {
     "data": {
      "text/html": [
       "mathematical_model_kinetics.r_infty_semiempirical"
      ],
      "text/plain": [
       "\u001b[1m<\u001b[0m\u001b[1;95mIPython.core.display.HTML\u001b[0m\u001b[39m object\u001b[0m\u001b[1m>\u001b[0m"
      ]
     },
     "metadata": {},
     "output_type": "display_data"
    },
    {
     "data": {
      "text/html": [
       "<pre style=\"white-space:pre;overflow-x:auto;line-height:normal;font-family:Menlo,'DejaVu Sans Mono',consolas,'Courier New',monospace\"></pre>\n"
      ],
      "text/plain": []
     },
     "metadata": {},
     "output_type": "display_data"
    },
    {
     "data": {
      "text/latex": [
       "$\\displaystyle r_{\\infty } = r_{0} \\sqrt{\\frac{V_{A }}{2 V_{\\infty }} + \\frac{1}{2}}$"
      ],
      "text/plain": [
       "\u001b[1m<\u001b[0m\u001b[1;95mIPython.core.display.Math\u001b[0m\u001b[39m object\u001b[0m\u001b[1m>\u001b[0m"
      ]
     },
     "metadata": {},
     "output_type": "display_data"
    },
    {
     "data": {
      "text/html": [
       "<pre style=\"white-space:pre;overflow-x:auto;line-height:normal;font-family:Menlo,'DejaVu Sans Mono',consolas,'Courier New',monospace\"></pre>\n"
      ],
      "text/plain": []
     },
     "metadata": {},
     "output_type": "display_data"
    },
    {
     "data": {
      "text/html": [
       "<br>"
      ],
      "text/plain": [
       "\u001b[1m<\u001b[0m\u001b[1;95mIPython.core.display.HTML\u001b[0m\u001b[39m object\u001b[0m\u001b[1m>\u001b[0m"
      ]
     },
     "metadata": {},
     "output_type": "display_data"
    },
    {
     "data": {
      "text/html": [
       "<pre style=\"white-space:pre;overflow-x:auto;line-height:normal;font-family:Menlo,'DejaVu Sans Mono',consolas,'Courier New',monospace\"></pre>\n"
      ],
      "text/plain": []
     },
     "metadata": {},
     "output_type": "display_data"
    },
    {
     "data": {
      "text/html": [
       "mathematical_model_kinetics.V_infty_semiempirical"
      ],
      "text/plain": [
       "\u001b[1m<\u001b[0m\u001b[1;95mIPython.core.display.HTML\u001b[0m\u001b[39m object\u001b[0m\u001b[1m>\u001b[0m"
      ]
     },
     "metadata": {},
     "output_type": "display_data"
    },
    {
     "data": {
      "text/html": [
       "<pre style=\"white-space:pre;overflow-x:auto;line-height:normal;font-family:Menlo,'DejaVu Sans Mono',consolas,'Courier New',monospace\"></pre>\n"
      ],
      "text/plain": []
     },
     "metadata": {},
     "output_type": "display_data"
    },
    {
     "data": {
      "text/latex": [
       "$\\displaystyle V_{\\infty } = V_{A } \\sqrt{C_{Th } + 1}$"
      ],
      "text/plain": [
       "\u001b[1m<\u001b[0m\u001b[1;95mIPython.core.display.Math\u001b[0m\u001b[39m object\u001b[0m\u001b[1m>\u001b[0m"
      ]
     },
     "metadata": {},
     "output_type": "display_data"
    },
    {
     "data": {
      "text/html": [
       "<pre style=\"white-space:pre;overflow-x:auto;line-height:normal;font-family:Menlo,'DejaVu Sans Mono',consolas,'Courier New',monospace\"></pre>\n"
      ],
      "text/plain": []
     },
     "metadata": {},
     "output_type": "display_data"
    },
    {
     "data": {
      "text/html": [
       "<br>"
      ],
      "text/plain": [
       "\u001b[1m<\u001b[0m\u001b[1;95mIPython.core.display.HTML\u001b[0m\u001b[39m object\u001b[0m\u001b[1m>\u001b[0m"
      ]
     },
     "metadata": {},
     "output_type": "display_data"
    },
    {
     "data": {
      "text/html": [
       "<pre style=\"white-space:pre;overflow-x:auto;line-height:normal;font-family:Menlo,'DejaVu Sans Mono',consolas,'Courier New',monospace\"></pre>\n"
      ],
      "text/plain": []
     },
     "metadata": {},
     "output_type": "display_data"
    },
    {
     "data": {
      "text/html": [
       "mathematical_model_kinetics.C_Th_semiempirical"
      ],
      "text/plain": [
       "\u001b[1m<\u001b[0m\u001b[1;95mIPython.core.display.HTML\u001b[0m\u001b[39m object\u001b[0m\u001b[1m>\u001b[0m"
      ]
     },
     "metadata": {},
     "output_type": "display_data"
    },
    {
     "data": {
      "text/html": [
       "<pre style=\"white-space:pre;overflow-x:auto;line-height:normal;font-family:Menlo,'DejaVu Sans Mono',consolas,'Courier New',monospace\"></pre>\n"
      ],
      "text/plain": []
     },
     "metadata": {},
     "output_type": "display_data"
    },
    {
     "data": {
      "text/latex": [
       "$\\displaystyle C_{Th } = \\frac{2 T_{}}{\\pi V_{A }^{2} r_{0}^{2} \\rho}$"
      ],
      "text/plain": [
       "\u001b[1m<\u001b[0m\u001b[1;95mIPython.core.display.Math\u001b[0m\u001b[39m object\u001b[0m\u001b[1m>\u001b[0m"
      ]
     },
     "metadata": {},
     "output_type": "display_data"
    },
    {
     "data": {
      "text/html": [
       "<pre style=\"white-space:pre;overflow-x:auto;line-height:normal;font-family:Menlo,'DejaVu Sans Mono',consolas,'Courier New',monospace\"></pre>\n"
      ],
      "text/plain": []
     },
     "metadata": {},
     "output_type": "display_data"
    },
    {
     "data": {
      "text/html": [
       "<br>"
      ],
      "text/plain": [
       "\u001b[1m<\u001b[0m\u001b[1;95mIPython.core.display.HTML\u001b[0m\u001b[39m object\u001b[0m\u001b[1m>\u001b[0m"
      ]
     },
     "metadata": {},
     "output_type": "display_data"
    },
    {
     "data": {
      "text/html": [
       "<pre style=\"white-space:pre;overflow-x:auto;line-height:normal;font-family:Menlo,'DejaVu Sans Mono',consolas,'Courier New',monospace\"></pre>\n"
      ],
      "text/plain": []
     },
     "metadata": {},
     "output_type": "display_data"
    },
    {
     "data": {
      "text/html": [
       "mathematical_model_kinetics.V_A_semiempirical"
      ],
      "text/plain": [
       "\u001b[1m<\u001b[0m\u001b[1;95mIPython.core.display.HTML\u001b[0m\u001b[39m object\u001b[0m\u001b[1m>\u001b[0m"
      ]
     },
     "metadata": {},
     "output_type": "display_data"
    },
    {
     "data": {
      "text/html": [
       "<pre style=\"white-space:pre;overflow-x:auto;line-height:normal;font-family:Menlo,'DejaVu Sans Mono',consolas,'Courier New',monospace\"></pre>\n"
      ],
      "text/plain": []
     },
     "metadata": {},
     "output_type": "display_data"
    },
    {
     "data": {
      "text/latex": [
       "$\\displaystyle V_{A } = u \\left(1 - w_{f}\\right)$"
      ],
      "text/plain": [
       "\u001b[1m<\u001b[0m\u001b[1;95mIPython.core.display.Math\u001b[0m\u001b[39m object\u001b[0m\u001b[1m>\u001b[0m"
      ]
     },
     "metadata": {},
     "output_type": "display_data"
    },
    {
     "data": {
      "text/html": [
       "<pre style=\"white-space:pre;overflow-x:auto;line-height:normal;font-family:Menlo,'DejaVu Sans Mono',consolas,'Courier New',monospace\"></pre>\n"
      ],
      "text/plain": []
     },
     "metadata": {},
     "output_type": "display_data"
    },
    {
     "data": {
      "text/html": [
       "<br>"
      ],
      "text/plain": [
       "\u001b[1m<\u001b[0m\u001b[1;95mIPython.core.display.HTML\u001b[0m\u001b[39m object\u001b[0m\u001b[1m>\u001b[0m"
      ]
     },
     "metadata": {},
     "output_type": "display_data"
    }
   ],
   "source": [
    "replace_latex = {\n",
    "    r\"dC_{L dalpha }\" : r\"\\frac{\\partial C_L}{\\partial \\alpha}\",\n",
    "}\n",
    "for name in keys:\n",
    "    eq = rudder.equations[name]\n",
    "    name_clean = name.replace('_port','')\n",
    "    file_name = f\"{name_clean}_semiempirical\" \n",
    "    save_eq(eq, file_name=file_name, subs={'port':''}, replace_latex=replace_latex)"
   ]
  },
  {
   "cell_type": "code",
   "execution_count": 69,
   "id": "d3c11bba-01c9-49b1-86cd-6acc7b14b9f0",
   "metadata": {},
   "outputs": [
    {
     "data": {
      "text/html": [
       "<pre style=\"white-space:pre;overflow-x:auto;line-height:normal;font-family:Menlo,'DejaVu Sans Mono',consolas,'Courier New',monospace\"></pre>\n"
      ],
      "text/plain": []
     },
     "metadata": {},
     "output_type": "display_data"
    },
    {
     "data": {
      "text/html": [
       "mathematical_model_kinetics.V_A_semiempirical"
      ],
      "text/plain": [
       "\u001b[1m<\u001b[0m\u001b[1;95mIPython.core.display.HTML\u001b[0m\u001b[39m object\u001b[0m\u001b[1m>\u001b[0m"
      ]
     },
     "metadata": {},
     "output_type": "display_data"
    },
    {
     "data": {
      "text/html": [
       "<pre style=\"white-space:pre;overflow-x:auto;line-height:normal;font-family:Menlo,'DejaVu Sans Mono',consolas,'Courier New',monospace\"></pre>\n"
      ],
      "text/plain": []
     },
     "metadata": {},
     "output_type": "display_data"
    },
    {
     "data": {
      "text/latex": [
       "$\\displaystyle V_{A } = u \\left(1 - w_{f}\\right)$"
      ],
      "text/plain": [
       "\u001b[1m<\u001b[0m\u001b[1;95mIPython.core.display.Math\u001b[0m\u001b[39m object\u001b[0m\u001b[1m>\u001b[0m"
      ]
     },
     "metadata": {},
     "output_type": "display_data"
    },
    {
     "data": {
      "text/html": [
       "<pre style=\"white-space:pre;overflow-x:auto;line-height:normal;font-family:Menlo,'DejaVu Sans Mono',consolas,'Courier New',monospace\"></pre>\n"
      ],
      "text/plain": []
     },
     "metadata": {},
     "output_type": "display_data"
    },
    {
     "data": {
      "text/html": [
       "<br>"
      ],
      "text/plain": [
       "\u001b[1m<\u001b[0m\u001b[1;95mIPython.core.display.HTML\u001b[0m\u001b[39m object\u001b[0m\u001b[1m>\u001b[0m"
      ]
     },
     "metadata": {},
     "output_type": "display_data"
    },
    {
     "data": {
      "text/html": [
       "<pre style=\"white-space:pre;overflow-x:auto;line-height:normal;font-family:Menlo,'DejaVu Sans Mono',consolas,'Courier New',monospace\"></pre>\n"
      ],
      "text/plain": []
     },
     "metadata": {},
     "output_type": "display_data"
    },
    {
     "data": {
      "text/plain": [
       "\u001b[32m'V_\u001b[0m\u001b[32m{\u001b[0m\u001b[32mA \u001b[0m\u001b[32m}\u001b[0m\u001b[32m = u \\\\left\u001b[0m\u001b[32m(\u001b[0m\u001b[32m1 - w_\u001b[0m\u001b[32m{\u001b[0m\u001b[32mf\u001b[0m\u001b[32m}\u001b[0m\u001b[32m\\\\right\u001b[0m\u001b[32m)\u001b[0m\u001b[32m'\u001b[0m"
      ]
     },
     "execution_count": 69,
     "metadata": {},
     "output_type": "execute_result"
    }
   ],
   "source": [
    "save_eq(eq, file_name=file_name, subs={'port':''}, replace_latex=replace_latex)"
   ]
  },
  {
   "cell_type": "code",
   "execution_count": 70,
   "id": "ed681833-abba-4795-abb2-93d8508efb1a",
   "metadata": {},
   "outputs": [
    {
     "name": "stdout",
     "output_type": "stream",
     "text": [
      "\n",
      "\\begin{equation}\n",
      "\\label{eq:N_R_semiempirical}\n",
      "\\input{equations/mathematical_model_kinetics.N_R_semiempirical}\n",
      "\\end{equation}\n",
      "%\n",
      "\\begin{equation}\n",
      "\\label{eq:Y_R_semiempirical}\n",
      "\\input{equations/mathematical_model_kinetics.Y_R_semiempirical}\n",
      "\\end{equation}\n",
      "%\n",
      "\\begin{equation}\n",
      "\\label{eq:X_R_semiempirical}\n",
      "\\input{equations/mathematical_model_kinetics.X_R_semiempirical}\n",
      "\\end{equation}\n",
      "%\n",
      "\\begin{equation}\n",
      "\\label{eq:D_R_semiempirical}\n",
      "\\input{equations/mathematical_model_kinetics.D_R_semiempirical}\n",
      "\\end{equation}\n",
      "%\n",
      "\\begin{equation}\n",
      "\\label{eq:C_D_U_semiempirical}\n",
      "\\input{equations/mathematical_model_kinetics.C_D_U_semiempirical}\n",
      "\\end{equation}\n",
      "%\n",
      "\\begin{equation}\n",
      "\\label{eq:C_D0_U_semiempirical}\n",
      "\\input{equations/mathematical_model_kinetics.C_D0_U_semiempirical}\n",
      "\\end{equation}\n",
      "%\n",
      "\\begin{equation}\n",
      "\\label{eq:C_F_U_semiempirical}\n",
      "\\input{equations/mathematical_model_kinetics.C_F_U_semiempirical}\n",
      "\\end{equation}\n",
      "%\n",
      "\\begin{equation}\n",
      "\\label{eq:Re_F_U_semiempirical}\n",
      "\\input{equations/mathematical_model_kinetics.Re_F_U_semiempirical}\n",
      "\\end{equation}\n",
      "%\n",
      "\\begin{equation}\n",
      "\\label{eq:C_D_C_semiempirical}\n",
      "\\input{equations/mathematical_model_kinetics.C_D_C_semiempirical}\n",
      "\\end{equation}\n",
      "%\n",
      "\\begin{equation}\n",
      "\\label{eq:C_D0_C_semiempirical}\n",
      "\\input{equations/mathematical_model_kinetics.C_D0_C_semiempirical}\n",
      "\\end{equation}\n",
      "%\n",
      "\\begin{equation}\n",
      "\\label{eq:C_F_C_semiempirical}\n",
      "\\input{equations/mathematical_model_kinetics.C_F_C_semiempirical}\n",
      "\\end{equation}\n",
      "%\n",
      "\\begin{equation}\n",
      "\\label{eq:Re_F_C_semiempirical}\n",
      "\\input{equations/mathematical_model_kinetics.Re_F_C_semiempirical}\n",
      "\\end{equation}\n",
      "%\n",
      "\\begin{equation}\n",
      "\\label{eq:alpha_f_semiempirical}\n",
      "\\input{equations/mathematical_model_kinetics.alpha_f_semiempirical}\n",
      "\\end{equation}\n",
      "%\n",
      "\\begin{equation}\n",
      "\\label{eq:L_R_semiempirical}\n",
      "\\input{equations/mathematical_model_kinetics.L_R_semiempirical}\n",
      "\\end{equation}\n",
      "%\n",
      "\\begin{equation}\n",
      "\\label{eq:L_R_U_semiempirical}\n",
      "\\input{equations/mathematical_model_kinetics.L_R_U_semiempirical}\n",
      "\\end{equation}\n",
      "%\n",
      "\\begin{equation}\n",
      "\\label{eq:V_R_U_semiempirical}\n",
      "\\input{equations/mathematical_model_kinetics.V_R_U_semiempirical}\n",
      "\\end{equation}\n",
      "%\n",
      "\\begin{equation}\n",
      "\\label{eq:V_R_x_U_semiempirical}\n",
      "\\input{equations/mathematical_model_kinetics.V_R_x_U_semiempirical}\n",
      "\\end{equation}\n",
      "%\n",
      "\\begin{equation}\n",
      "\\label{eq:V_x_U_semiempirical}\n",
      "\\input{equations/mathematical_model_kinetics.V_x_U_semiempirical}\n",
      "\\end{equation}\n",
      "%\n",
      "\\begin{equation}\n",
      "\\label{eq:L_R_C_semiempirical}\n",
      "\\input{equations/mathematical_model_kinetics.L_R_C_semiempirical}\n",
      "\\end{equation}\n",
      "%\n",
      "\\begin{equation}\n",
      "\\label{eq:V_R_C_semiempirical}\n",
      "\\input{equations/mathematical_model_kinetics.V_R_C_semiempirical}\n",
      "\\end{equation}\n",
      "%\n",
      "\\begin{equation}\n",
      "\\label{eq:lambda_R_semiempirical}\n",
      "\\input{equations/mathematical_model_kinetics.lambda_R_semiempirical}\n",
      "\\end{equation}\n",
      "%\n",
      "\\begin{equation}\n",
      "\\label{eq:f_semiempirical}\n",
      "\\input{equations/mathematical_model_kinetics.f_semiempirical}\n",
      "\\end{equation}\n",
      "%\n",
      "\\begin{equation}\n",
      "\\label{eq:c_semiempirical}\n",
      "\\input{equations/mathematical_model_kinetics.c_semiempirical}\n",
      "\\end{equation}\n",
      "%\n",
      "\\begin{equation}\n",
      "\\label{eq:d_semiempirical}\n",
      "\\input{equations/mathematical_model_kinetics.d_semiempirical}\n",
      "\\end{equation}\n",
      "%\n",
      "\\begin{equation}\n",
      "\\label{eq:C_L_semiempirical}\n",
      "\\input{equations/mathematical_model_kinetics.C_L_semiempirical}\n",
      "\\end{equation}\n",
      "%\n",
      "\\begin{equation}\n",
      "\\label{eq:C_N_semiempirical}\n",
      "\\input{equations/mathematical_model_kinetics.C_N_semiempirical}\n",
      "\\end{equation}\n",
      "%\n",
      "\\begin{equation}\n",
      "\\label{eq:C_L_max_semiempirical}\n",
      "\\input{equations/mathematical_model_kinetics.C_L_max_semiempirical}\n",
      "\\end{equation}\n",
      "%\n",
      "\\begin{equation}\n",
      "\\label{eq:B_0_semiempirical}\n",
      "\\input{equations/mathematical_model_kinetics.B_0_semiempirical}\n",
      "\\end{equation}\n",
      "%\n",
      "\\begin{equation}\n",
      "\\label{eq:B_s_semiempirical}\n",
      "\\input{equations/mathematical_model_kinetics.B_s_semiempirical}\n",
      "\\end{equation}\n",
      "%\n",
      "\\begin{equation}\n",
      "\\label{eq:u_s_semiempirical}\n",
      "\\input{equations/mathematical_model_kinetics.u_s_semiempirical}\n",
      "\\end{equation}\n",
      "%\n",
      "\\begin{equation}\n",
      "\\label{eq:K_gap_semiempirical}\n",
      "\\input{equations/mathematical_model_kinetics.K_gap_semiempirical}\n",
      "\\end{equation}\n",
      "%\n",
      "\\begin{equation}\n",
      "\\label{eq:alpha_s_semiempirical}\n",
      "\\input{equations/mathematical_model_kinetics.alpha_s_semiempirical}\n",
      "\\end{equation}\n",
      "%\n",
      "\\begin{equation}\n",
      "\\label{eq:C_D_crossflow_semiempirical}\n",
      "\\input{equations/mathematical_model_kinetics.C_D_crossflow_semiempirical}\n",
      "\\end{equation}\n",
      "%\n",
      "\\begin{equation}\n",
      "\\label{eq:lambda__semiempirical}\n",
      "\\input{equations/mathematical_model_kinetics.lambda__semiempirical}\n",
      "\\end{equation}\n",
      "%\n",
      "\\begin{equation}\n",
      "\\label{eq:dC_L_dalpha_semiempirical}\n",
      "\\input{equations/mathematical_model_kinetics.dC_L_dalpha_semiempirical}\n",
      "\\end{equation}\n",
      "%\n",
      "\\begin{equation}\n",
      "\\label{eq:a_0_semiempirical}\n",
      "\\input{equations/mathematical_model_kinetics.a_0_semiempirical}\n",
      "\\end{equation}\n",
      "%\n",
      "\\begin{equation}\n",
      "\\label{eq:AR_e_semiempirical}\n",
      "\\input{equations/mathematical_model_kinetics.AR_e_semiempirical}\n",
      "\\end{equation}\n",
      "%\n",
      "\\begin{equation}\n",
      "\\label{eq:AR_g_semiempirical}\n",
      "\\input{equations/mathematical_model_kinetics.AR_g_semiempirical}\n",
      "\\end{equation}\n",
      "%\n",
      "\\begin{equation}\n",
      "\\label{eq:alpha_semiempirical}\n",
      "\\input{equations/mathematical_model_kinetics.alpha_semiempirical}\n",
      "\\end{equation}\n",
      "%\n",
      "\\begin{equation}\n",
      "\\label{eq:gamma_semiempirical}\n",
      "\\input{equations/mathematical_model_kinetics.gamma_semiempirical}\n",
      "\\end{equation}\n",
      "%\n",
      "\\begin{equation}\n",
      "\\label{eq:V_R_y_semiempirical}\n",
      "\\input{equations/mathematical_model_kinetics.V_R_y_semiempirical}\n",
      "\\end{equation}\n",
      "%\n",
      "\\begin{equation}\n",
      "\\label{eq:kappa_r_tot_semiempirical}\n",
      "\\input{equations/mathematical_model_kinetics.kappa_r_tot_semiempirical}\n",
      "\\end{equation}\n",
      "%\n",
      "\\begin{equation}\n",
      "\\label{eq:kappa_v_tot_semiempirical}\n",
      "\\input{equations/mathematical_model_kinetics.kappa_v_tot_semiempirical}\n",
      "\\end{equation}\n",
      "%\n",
      "\\begin{equation}\n",
      "\\label{eq:gamma_g_semiempirical}\n",
      "\\input{equations/mathematical_model_kinetics.gamma_g_semiempirical}\n",
      "\\end{equation}\n",
      "%\n",
      "\\begin{equation}\n",
      "\\label{eq:V_R_x_C_semiempirical}\n",
      "\\input{equations/mathematical_model_kinetics.V_R_x_C_semiempirical}\n",
      "\\end{equation}\n",
      "%\n",
      "\\begin{equation}\n",
      "\\label{eq:V_x_corr_semiempirical}\n",
      "\\input{equations/mathematical_model_kinetics.V_x_corr_semiempirical}\n",
      "\\end{equation}\n",
      "%\n",
      "\\begin{equation}\n",
      "\\label{eq:r_Delta_semiempirical}\n",
      "\\input{equations/mathematical_model_kinetics.r_Delta_semiempirical}\n",
      "\\end{equation}\n",
      "%\n",
      "\\begin{equation}\n",
      "\\label{eq:V_x_C_semiempirical}\n",
      "\\input{equations/mathematical_model_kinetics.V_x_C_semiempirical}\n",
      "\\end{equation}\n",
      "%\n",
      "\\begin{equation}\n",
      "\\label{eq:r_x_semiempirical}\n",
      "\\input{equations/mathematical_model_kinetics.r_x_semiempirical}\n",
      "\\end{equation}\n",
      "%\n",
      "\\begin{equation}\n",
      "\\label{eq:r_infty_semiempirical}\n",
      "\\input{equations/mathematical_model_kinetics.r_infty_semiempirical}\n",
      "\\end{equation}\n",
      "%\n",
      "\\begin{equation}\n",
      "\\label{eq:V_infty_semiempirical}\n",
      "\\input{equations/mathematical_model_kinetics.V_infty_semiempirical}\n",
      "\\end{equation}\n",
      "%\n",
      "\\begin{equation}\n",
      "\\label{eq:C_Th_semiempirical}\n",
      "\\input{equations/mathematical_model_kinetics.C_Th_semiempirical}\n",
      "\\end{equation}\n",
      "%\n",
      "\\begin{equation}\n",
      "\\label{eq:V_A_semiempirical}\n",
      "\\input{equations/mathematical_model_kinetics.V_A_semiempirical}\n",
      "\\end{equation}\n",
      "%\n"
     ]
    }
   ],
   "source": [
    "s_latex = \"\"\n",
    "for name in keys:\n",
    "    eq = rudder.equations[name]\n",
    "    name_clean = name.replace('_port','')\n",
    "    file_name = f\"{name_clean}_semiempirical\"\n",
    "    \n",
    "    eq_latex = fr\"\"\"\n",
    "\\begin{{equation}}\n",
    "\\label{{eq:{file_name}}}\n",
    "\\input{{equations/mathematical_model_kinetics.{file_name}}}\n",
    "\\end{{equation}}\n",
    "%\"\"\"\n",
    "    s_latex+=eq_latex\n",
    "\n",
    "print(s_latex)"
   ]
  },
  {
   "cell_type": "markdown",
   "id": "e695bff4-b3c3-4b27-9459-826ed72cbc93",
   "metadata": {},
   "source": [
    "## Nomenclature"
   ]
  },
  {
   "cell_type": "code",
   "execution_count": 71,
   "id": "74532837-614e-4dc1-9442-c2b96b2514b2",
   "metadata": {},
   "outputs": [],
   "source": [
    "df_nomenclature = pd.DataFrame(columns=['LaTeX','Description','file_names'])\n",
    "for lhs, eq in paper.equations.items():\n",
    "    for symbol in eq['equation'].free_symbols:\n",
    "        if symbol in df_nomenclature.index:\n",
    "            df_nomenclature.loc[symbol,'file_names'].append(eq['file_name'])\n",
    "        else:\n",
    "            df_nomenclature.loc[symbol,'file_names'] = [eq['file_name']]\n",
    "\n",
    "subs = {sp.Symbol(str(row['symbol'])):sp.Symbol(str(row['symbol']).replace('delta',r'\\delta')) for name, row in df_parameters.iterrows()}\n",
    "parameters = [prime(symbol.subs(subs)) for name,symbol in p.items()]\n",
    "\n",
    "index = list(set(df_nomenclature.index) - set(parameters))\n",
    "df_nomenclature = df_nomenclature.loc[index].copy()\n",
    "\n",
    "df_nomenclature.index = [sp.Symbol(symbol.name.replace('_port','')) for symbol in df_nomenclature.index]\n",
    "df_nomenclature.index = [sp.Symbol(symbol.name.replace('_stbd','')) for symbol in df_nomenclature.index]\n",
    "df_nomenclature.index = [sp.Symbol(symbol.name.replace('port','')) for symbol in df_nomenclature.index]\n",
    "df_nomenclature.index = [sp.Symbol(symbol.name.replace('stbd','')) for symbol in df_nomenclature.index]\n",
    "df_nomenclature.index = [sp.Symbol(symbol.name.replace(\"'\",'')) for symbol in df_nomenclature.index] \n",
    "\n",
    "df_nomenclature['LaTeX'] = [f\"${paper.to_latex(symbol)}$\" for symbol in df_nomenclature.index]\n",
    "#df_nomenclature.sort_values(by='LaTeX', key=lambda col: col.str.lower(), inplace=True)\n",
    "#\n",
    "#df_nomenclature.index = df_nomenclature.index.astype(str)\n",
    "#df_nomenclature.index = [re.sub(r\"^{\", \"\", s) for s in df_nomenclature.index]\n",
    "#df_nomenclature.index = [re.sub(r\"}$\", \"\", s) for s in df_nomenclature.index]\n",
    "#df_nomenclature.index = [s.replace(\"\\\\\",\"\") for s in df_nomenclature.index]\n",
    "#\n",
    "#mask = df_nomenclature['LaTeX'].str.contains(r'\\\\cancel')\n",
    "#df_nomenclature = df_nomenclature.loc[~mask].copy()"
   ]
  },
  {
   "cell_type": "code",
   "execution_count": 72,
   "id": "69751eb6-8d52-42cc-b4fb-26a9a07adce1",
   "metadata": {},
   "outputs": [],
   "source": [
    "df_nomenclature_new = pd.DataFrame(columns=df_nomenclature.columns)\n",
    "\n",
    "files = {}\n",
    "\n",
    "for symbol, row in df_nomenclature.iterrows():\n",
    "\n",
    "    if symbol in df_nomenclature_new.index:\n",
    "        continue\n",
    "\n",
    "    df_nomenclature_new.loc[symbol] = row\n",
    "\n",
    "    \n",
    "    if len(df_nomenclature.loc[symbol]) > 1:\n",
    "        file_names_all = []\n",
    "        for file_names in df_nomenclature.loc[symbol,'file_names']:\n",
    "            if isinstance(file_names, list):\n",
    "                file_names_all+=file_names\n",
    "            else:\n",
    "                file_names_all.append(file_names)\n",
    "\n",
    "        files[symbol] = list(set(file_names_all))\n",
    "\n",
    "df_nomenclature_new['file_names'] = files"
   ]
  },
  {
   "cell_type": "markdown",
   "id": "5e1db58a-fe60-4c4c-95d9-507b38a78361",
   "metadata": {},
   "source": [
    "### Parse the LaTeX for equation references"
   ]
  },
  {
   "cell_type": "code",
   "execution_count": 73,
   "id": "9da21707-1968-4c4d-be47-66ef793fb85e",
   "metadata": {},
   "outputs": [
    {
     "data": {
      "text/html": [
       "<pre style=\"white-space:pre;overflow-x:auto;line-height:normal;font-family:Menlo,'DejaVu Sans Mono',consolas,'Courier New',monospace\"></pre>\n"
      ],
      "text/plain": []
     },
     "metadata": {},
     "output_type": "display_data"
    },
    {
     "data": {
      "text/plain": [
       "\u001b[32m'gamma_g_semiempirical'\u001b[0m"
      ]
     },
     "execution_count": 73,
     "metadata": {},
     "output_type": "execute_result"
    }
   ],
   "source": [
    "s = r\"\\input{equations/mathematical_model_kinetics.gamma_g_semiempirical}\"\n",
    "result = re.search(r\"\\\\input\\{equations/mathematical_model_kinetics\\.([^}]+)\\}\", s)\n",
    "result.group(1)"
   ]
  },
  {
   "cell_type": "code",
   "execution_count": 74,
   "id": "8fa659cb-4981-4fe1-a14d-820f31a99dc1",
   "metadata": {},
   "outputs": [
    {
     "name": "stdout",
     "output_type": "stream",
     "text": [
      "gamma_g_semiempirical\n"
     ]
    }
   ],
   "source": [
    "for result in re.finditer(r\"\\\\input\\{equations/mathematical_model_kinetics\\.([^}]+)\\}\", s):\n",
    "    print(result.group(1))"
   ]
  },
  {
   "cell_type": "code",
   "execution_count": 75,
   "id": "51c3281f-02c7-4d5c-860d-a261fe097a99",
   "metadata": {},
   "outputs": [
    {
     "data": {
      "text/html": [
       "<pre style=\"white-space:pre;overflow-x:auto;line-height:normal;font-family:Menlo,'DejaVu Sans Mono',consolas,'Courier New',monospace\"></pre>\n"
      ],
      "text/plain": []
     },
     "metadata": {},
     "output_type": "display_data"
    },
    {
     "data": {
      "text/plain": [
       "\u001b[32m'/home/maa/dev/PHD/docs/paper5'\u001b[0m"
      ]
     },
     "execution_count": 75,
     "metadata": {},
     "output_type": "execute_result"
    }
   ],
   "source": [
    "paper.paper_path"
   ]
  },
  {
   "cell_type": "code",
   "execution_count": 76,
   "id": "5b93fc1a-4099-47db-816d-a9e4803f4b49",
   "metadata": {},
   "outputs": [],
   "source": [
    "equations = []\n",
    "for file_name in os.listdir(paper.paper_path):\n",
    "    if not os.path.splitext(file_name)[-1] == '.tex':\n",
    "        continue\n",
    "\n",
    "    file_path = os.path.join(paper.paper_path, file_name)\n",
    "    with open(file_path, mode='r') as file:\n",
    "        s = file.read()\n",
    "\n",
    "    for result in re.finditer(r\"\\\\input\\{equations/mathematical_model_kinetics\\.([^}]+)\\}\", s):\n",
    "        equations.append(result.group(1))\n",
    "\n",
    "equations = set(equations)"
   ]
  },
  {
   "cell_type": "code",
   "execution_count": 78,
   "id": "fb90d844-bcfd-4225-a040-bdeb0c8f2197",
   "metadata": {},
   "outputs": [],
   "source": [
    "mask_active_symbols = [len(set(row['file_names']) & equations) > 0 for index, row in df_nomenclature_new.iterrows()]\n",
    "df_nomenclature_new = df_nomenclature_new.loc[mask_active_symbols].copy()\n",
    "if 'dC_L_dalpha' in df_nomenclature_new.index:\n",
    "    df_nomenclature_new.drop(index=['dC_L_dalpha'], inplace=True)"
   ]
  },
  {
   "cell_type": "code",
   "execution_count": 79,
   "id": "fbc790f2-cf66-48a6-8c71-d119fd65c5fc",
   "metadata": {},
   "outputs": [],
   "source": [
    "descriptions = {\n",
    "    'alpha' : 'Rudder angle of attack',\n",
    "    'alpha_f': 'Rudder inflow angle',\n",
    "    'delta': 'Rudder angle',\n",
    "    'delta_lim': 'Rudder gap limit',\n",
    "    'dot{r': 'Yaw acceleration',\n",
    "    'dot{u': 'Surge acceleration',\n",
    "    'dot{v': 'Sway acceleration',\n",
    "    'gamma': 'Prop. induced angle',\n",
    "    'gamma_0': 'Rudder initial inflow',\n",
    "    'gamma_g': 'Geometric inflow angle',\n",
    "    'kappa_r_gamma_g': '$\\kappa_r$ nonlinear',\n",
    "    'kappa_r_tot': '$\\kappa_r$ total',\n",
    "    'kappa_r': 'Yaw rate flow straightening',\n",
    "    'kappa_v_gamma_g': '$\\kappa_v$ nonlinear',\n",
    "    'kappa_v_tot': '$\\kappa_v$ total',\n",
    "    'kappa_v': 'Drift flow straightening',\n",
    "    'lambda_gap': 'Rudder gap effec',\n",
    "    'lambda_R': 'limited radius of the prop. slipstream',\n",
    "    'lambda_': 'Rudder taper ratio',\n",
    "    'nu': 'Kinematic viscosity',\n",
    "    'Omega': 'Rudder sweep angle',\n",
    "    'rho': 'Water density',\n",
    "    'a_0': 'Section lift curve slope',\n",
    "    'a_H': 'Sway rudder interaction',\n",
    "    'A_R_C': 'Rudder area covered',\n",
    "    'A_R_U': 'Rudder area uncovered',\n",
    "    'A_R': 'Rudder area',\n",
    "    'AR_e': 'Effective aspect ratio',\n",
    "    'AR_g': 'Geometric aspect ratio',\n",
    "    'b_R': 'Rudder span',\n",
    "    'c': 'Rudder chord',\n",
    "    'C_D_C': 'Drag coeff. covered',\n",
    "    'C_D_tune': 'Drag coeff. tunnig',\n",
    "    'C_D_U': 'Drag coeff. uncovered',\n",
    "    'C_D0_C': 'Initial drag coeff. covered',\n",
    "    'C_D0_tune': 'Initial drag coeff. tune',\n",
    "    'C_D0_U': 'Initial drag coeff. uncovered',\n",
    "    'C_DC': 'Rudder cross-flow drag',\n",
    "    'C_F_C': 'Friction coeff. covered',\n",
    "    'C_F_U': 'Friction coeff. uncovered',\n",
    "    'C_L': 'Lift coeff.',\n",
    "    'c_r': 'Rudder root choord',\n",
    "    'C_Th': 'Thrust coeff.',\n",
    "    'c_t': 'Rudder tip choord',\n",
    "    'd': 'lift diminished variable',\n",
    "    'D_R': 'Rudder drag',\n",
    "    'dC_L_dalpha': 'Lift slope',\n",
    "    'e_0': 'Oswald efficiency factor',\n",
    "    'f': 'lift diminished variable',\n",
    "    'I_z': 'Yaw mass intertia',\n",
    "    'L_R_C': 'Lift covered part',\n",
    "    'L_R_U': 'Lift uncovered part',\n",
    "    'L_R': 'Rudder lift',\n",
    "    'm': 'Ship mass',\n",
    "    'N_{dot{r}': 'Yaw added mass',\n",
    "    'N_{dot{v}': 'Yaw added mass',\n",
    "    'N_D': 'Yaw damping moment',\n",
    "    'N_H': 'Hull yawing moment',\n",
    "    'N_P': 'Prop. yawing moment',\n",
    "    'N_RHI': 'Rudder hull interaction',\n",
    "    'N_R': 'Rudder yawing moment',\n",
    "    'r': 'Yaw rate',\n",
    "    'r_0': 'Prop. radius',\n",
    "    'r_Delta': 'Turbulent mixing',\n",
    "    'r_infty': 'Prop. slipstream',\n",
    "    'r_x': 'Prop. slipstream at rudder',\n",
    "    'Re_F_C': 'Reynold number covered',\n",
    "    'Re_F_U': 'Reynold number uncovered',\n",
    "    's': 'Rudder gap coefficient',\n",
    "    'thrust': 'Thrust',\n",
    "    'u': 'Surge vel.',\n",
    "    'v': 'Sway vel.',\n",
    "    'V_infty': 'Prop. slipstream',\n",
    "    'V_A': 'Apparent vel.',\n",
    "    'V_R_C': 'Rudder vel. covered',\n",
    "    'V_R_U': 'Rudder vel. uncovered',\n",
    "    'V_R_x_C': 'Axial vel. covered',\n",
    "    'V_R_x_U': 'Axial vel. uncovered',\n",
    "    'V_R_y': 'Rudder transverse vel.',\n",
    "    'V_x_corr': 'Turbulent mixing',\n",
    "    'V_x_C': 'No turbulent mixing',\n",
    "    'V_x_U': 'No turbulent mixing',\n",
    "    'w_f': 'Taylor wake',\n",
    "    'x': 'Prop. to rudder',\n",
    "    'X_{dot{u}': 'Surge added mass',\n",
    "    'X_D': 'Surge damping force',\n",
    "    'x_G': 'Center of gravity',\n",
    "    'x_H': 'Yaw rudder interaction',\n",
    "    'X_H': 'Hull surge force',\n",
    "    'X_P': 'Prop. surge force',\n",
    "    'x_R': 'Rudder lever',\n",
    "    'X_R': 'Rudder surge force',\n",
    "    'X_{thrust': 'Thrust deduction',\n",
    "    'Y_{dot{r}': 'Sway added mass',\n",
    "    'Y_{dot{v}': 'Sway added mass',\n",
    "    'Y_D': 'Sway damping force',\n",
    "    'Y_H': 'Hull sway force',\n",
    "    'y_p': 'Propeller lever',\n",
    "    'Y_P': 'Propeller sway force',\n",
    "    'Y_RHI': 'Rudder hull interaction',\n",
    "    'Y_R': 'Rudder sway force',\n",
    "    'y_R': 'Rudder lever'\n",
    "}\n",
    "descriptions=pd.Series(descriptions)"
   ]
  },
  {
   "cell_type": "code",
   "execution_count": 80,
   "id": "2a27f7bd-3980-44a4-a421-70bac09c30d3",
   "metadata": {},
   "outputs": [],
   "source": [
    "#{f\"{index}\":'' for index in df_nomenclature_new.index}"
   ]
  },
  {
   "cell_type": "code",
   "execution_count": 81,
   "id": "7fe1469a-d799-4876-8b5d-3812c44e69f7",
   "metadata": {},
   "outputs": [
    {
     "data": {
      "text/html": [
       "<pre style=\"white-space:pre;overflow-x:auto;line-height:normal;font-family:Menlo,'DejaVu Sans Mono',consolas,'Courier New',monospace\"></pre>\n"
      ],
      "text/plain": []
     },
     "metadata": {},
     "output_type": "display_data"
    },
    {
     "data": {
      "text/plain": [
       "\u001b[1;35mIndex\u001b[0m\u001b[1m(\u001b[0m\u001b[1m[\u001b[0m\u001b[1m]\u001b[0m, \u001b[33mdtype\u001b[0m=\u001b[32m'object'\u001b[0m\u001b[1m)\u001b[0m"
      ]
     },
     "execution_count": 81,
     "metadata": {},
     "output_type": "execute_result"
    }
   ],
   "source": [
    "df_nomenclature_new.index"
   ]
  },
  {
   "cell_type": "code",
   "execution_count": 82,
   "id": "8e6194a5-3b1b-4399-9903-a70af4f47f48",
   "metadata": {},
   "outputs": [],
   "source": [
    "df_nomenclature_new['Description'] = descriptions"
   ]
  },
  {
   "cell_type": "code",
   "execution_count": 83,
   "id": "8df02303-1d9e-4f48-9f69-1bd430091622",
   "metadata": {},
   "outputs": [
    {
     "data": {
      "text/html": [
       "<pre style=\"white-space:pre;overflow-x:auto;line-height:normal;font-family:Menlo,'DejaVu Sans Mono',consolas,'Courier New',monospace\"></pre>\n"
      ],
      "text/plain": []
     },
     "metadata": {},
     "output_type": "display_data"
    },
    {
     "data": {
      "text/html": [
       "<div>\n",
       "<style scoped>\n",
       "    .dataframe tbody tr th:only-of-type {\n",
       "        vertical-align: middle;\n",
       "    }\n",
       "\n",
       "    .dataframe tbody tr th {\n",
       "        vertical-align: top;\n",
       "    }\n",
       "\n",
       "    .dataframe thead th {\n",
       "        text-align: right;\n",
       "    }\n",
       "</style>\n",
       "<table border=\"1\" class=\"dataframe\">\n",
       "  <thead>\n",
       "    <tr style=\"text-align: right;\">\n",
       "      <th></th>\n",
       "      <th>LaTeX</th>\n",
       "      <th>Description</th>\n",
       "      <th>file_names</th>\n",
       "    </tr>\n",
       "  </thead>\n",
       "  <tbody>\n",
       "    <tr>\n",
       "      <th>alpha</th>\n",
       "      <td>NaN</td>\n",
       "      <td>Rudder angle of attack</td>\n",
       "      <td>NaN</td>\n",
       "    </tr>\n",
       "    <tr>\n",
       "      <th>alpha_f</th>\n",
       "      <td>NaN</td>\n",
       "      <td>Rudder inflow angle</td>\n",
       "      <td>NaN</td>\n",
       "    </tr>\n",
       "    <tr>\n",
       "      <th>delta</th>\n",
       "      <td>NaN</td>\n",
       "      <td>Rudder angle</td>\n",
       "      <td>NaN</td>\n",
       "    </tr>\n",
       "    <tr>\n",
       "      <th>delta_lim</th>\n",
       "      <td>NaN</td>\n",
       "      <td>Rudder gap limit</td>\n",
       "      <td>NaN</td>\n",
       "    </tr>\n",
       "    <tr>\n",
       "      <th>dot{r</th>\n",
       "      <td>NaN</td>\n",
       "      <td>Yaw acceleration</td>\n",
       "      <td>NaN</td>\n",
       "    </tr>\n",
       "    <tr>\n",
       "      <th>dot{u</th>\n",
       "      <td>NaN</td>\n",
       "      <td>Surge acceleration</td>\n",
       "      <td>NaN</td>\n",
       "    </tr>\n",
       "    <tr>\n",
       "      <th>dot{v</th>\n",
       "      <td>NaN</td>\n",
       "      <td>Sway acceleration</td>\n",
       "      <td>NaN</td>\n",
       "    </tr>\n",
       "    <tr>\n",
       "      <th>gamma</th>\n",
       "      <td>NaN</td>\n",
       "      <td>Prop. induced angle</td>\n",
       "      <td>NaN</td>\n",
       "    </tr>\n",
       "    <tr>\n",
       "      <th>gamma_0</th>\n",
       "      <td>NaN</td>\n",
       "      <td>Rudder initial inflow</td>\n",
       "      <td>NaN</td>\n",
       "    </tr>\n",
       "    <tr>\n",
       "      <th>gamma_g</th>\n",
       "      <td>NaN</td>\n",
       "      <td>Geometric inflow angle</td>\n",
       "      <td>NaN</td>\n",
       "    </tr>\n",
       "    <tr>\n",
       "      <th>kappa_r_gamma_g</th>\n",
       "      <td>NaN</td>\n",
       "      <td>$\\kappa_r$ nonlinear</td>\n",
       "      <td>NaN</td>\n",
       "    </tr>\n",
       "    <tr>\n",
       "      <th>kappa_r_tot</th>\n",
       "      <td>NaN</td>\n",
       "      <td>$\\kappa_r$ total</td>\n",
       "      <td>NaN</td>\n",
       "    </tr>\n",
       "    <tr>\n",
       "      <th>kappa_r</th>\n",
       "      <td>NaN</td>\n",
       "      <td>Yaw rate flow straightening</td>\n",
       "      <td>NaN</td>\n",
       "    </tr>\n",
       "    <tr>\n",
       "      <th>kappa_v_gamma_g</th>\n",
       "      <td>NaN</td>\n",
       "      <td>$\\kappa_v$ nonlinear</td>\n",
       "      <td>NaN</td>\n",
       "    </tr>\n",
       "    <tr>\n",
       "      <th>kappa_v_tot</th>\n",
       "      <td>NaN</td>\n",
       "      <td>$\\kappa_v$ total</td>\n",
       "      <td>NaN</td>\n",
       "    </tr>\n",
       "    <tr>\n",
       "      <th>kappa_v</th>\n",
       "      <td>NaN</td>\n",
       "      <td>Drift flow straightening</td>\n",
       "      <td>NaN</td>\n",
       "    </tr>\n",
       "    <tr>\n",
       "      <th>lambda_gap</th>\n",
       "      <td>NaN</td>\n",
       "      <td>Rudder gap effec</td>\n",
       "      <td>NaN</td>\n",
       "    </tr>\n",
       "    <tr>\n",
       "      <th>lambda_R</th>\n",
       "      <td>NaN</td>\n",
       "      <td>limited radius of the prop. slipstream</td>\n",
       "      <td>NaN</td>\n",
       "    </tr>\n",
       "    <tr>\n",
       "      <th>lambda_</th>\n",
       "      <td>NaN</td>\n",
       "      <td>Rudder taper ratio</td>\n",
       "      <td>NaN</td>\n",
       "    </tr>\n",
       "    <tr>\n",
       "      <th>nu</th>\n",
       "      <td>NaN</td>\n",
       "      <td>Kinematic viscosity</td>\n",
       "      <td>NaN</td>\n",
       "    </tr>\n",
       "    <tr>\n",
       "      <th>Omega</th>\n",
       "      <td>NaN</td>\n",
       "      <td>Rudder sweep angle</td>\n",
       "      <td>NaN</td>\n",
       "    </tr>\n",
       "    <tr>\n",
       "      <th>rho</th>\n",
       "      <td>NaN</td>\n",
       "      <td>Water density</td>\n",
       "      <td>NaN</td>\n",
       "    </tr>\n",
       "    <tr>\n",
       "      <th>a_0</th>\n",
       "      <td>NaN</td>\n",
       "      <td>Section lift curve slope</td>\n",
       "      <td>NaN</td>\n",
       "    </tr>\n",
       "    <tr>\n",
       "      <th>a_H</th>\n",
       "      <td>NaN</td>\n",
       "      <td>Sway rudder interaction</td>\n",
       "      <td>NaN</td>\n",
       "    </tr>\n",
       "    <tr>\n",
       "      <th>A_R_C</th>\n",
       "      <td>NaN</td>\n",
       "      <td>Rudder area covered</td>\n",
       "      <td>NaN</td>\n",
       "    </tr>\n",
       "    <tr>\n",
       "      <th>A_R_U</th>\n",
       "      <td>NaN</td>\n",
       "      <td>Rudder area uncovered</td>\n",
       "      <td>NaN</td>\n",
       "    </tr>\n",
       "    <tr>\n",
       "      <th>A_R</th>\n",
       "      <td>NaN</td>\n",
       "      <td>Rudder area</td>\n",
       "      <td>NaN</td>\n",
       "    </tr>\n",
       "    <tr>\n",
       "      <th>AR_e</th>\n",
       "      <td>NaN</td>\n",
       "      <td>Effective aspect ratio</td>\n",
       "      <td>NaN</td>\n",
       "    </tr>\n",
       "    <tr>\n",
       "      <th>AR_g</th>\n",
       "      <td>NaN</td>\n",
       "      <td>Geometric aspect ratio</td>\n",
       "      <td>NaN</td>\n",
       "    </tr>\n",
       "    <tr>\n",
       "      <th>b_R</th>\n",
       "      <td>NaN</td>\n",
       "      <td>Rudder span</td>\n",
       "      <td>NaN</td>\n",
       "    </tr>\n",
       "    <tr>\n",
       "      <th>c</th>\n",
       "      <td>NaN</td>\n",
       "      <td>Rudder chord</td>\n",
       "      <td>NaN</td>\n",
       "    </tr>\n",
       "    <tr>\n",
       "      <th>C_D_C</th>\n",
       "      <td>NaN</td>\n",
       "      <td>Drag coeff. covered</td>\n",
       "      <td>NaN</td>\n",
       "    </tr>\n",
       "    <tr>\n",
       "      <th>C_D_tune</th>\n",
       "      <td>NaN</td>\n",
       "      <td>Drag coeff. tunnig</td>\n",
       "      <td>NaN</td>\n",
       "    </tr>\n",
       "    <tr>\n",
       "      <th>C_D_U</th>\n",
       "      <td>NaN</td>\n",
       "      <td>Drag coeff. uncovered</td>\n",
       "      <td>NaN</td>\n",
       "    </tr>\n",
       "    <tr>\n",
       "      <th>C_D0_C</th>\n",
       "      <td>NaN</td>\n",
       "      <td>Initial drag coeff. covered</td>\n",
       "      <td>NaN</td>\n",
       "    </tr>\n",
       "    <tr>\n",
       "      <th>C_D0_tune</th>\n",
       "      <td>NaN</td>\n",
       "      <td>Initial drag coeff. tune</td>\n",
       "      <td>NaN</td>\n",
       "    </tr>\n",
       "    <tr>\n",
       "      <th>C_D0_U</th>\n",
       "      <td>NaN</td>\n",
       "      <td>Initial drag coeff. uncovered</td>\n",
       "      <td>NaN</td>\n",
       "    </tr>\n",
       "    <tr>\n",
       "      <th>C_DC</th>\n",
       "      <td>NaN</td>\n",
       "      <td>Rudder cross-flow drag</td>\n",
       "      <td>NaN</td>\n",
       "    </tr>\n",
       "    <tr>\n",
       "      <th>C_F_C</th>\n",
       "      <td>NaN</td>\n",
       "      <td>Friction coeff. covered</td>\n",
       "      <td>NaN</td>\n",
       "    </tr>\n",
       "    <tr>\n",
       "      <th>C_F_U</th>\n",
       "      <td>NaN</td>\n",
       "      <td>Friction coeff. uncovered</td>\n",
       "      <td>NaN</td>\n",
       "    </tr>\n",
       "    <tr>\n",
       "      <th>C_L</th>\n",
       "      <td>NaN</td>\n",
       "      <td>Lift coeff.</td>\n",
       "      <td>NaN</td>\n",
       "    </tr>\n",
       "    <tr>\n",
       "      <th>c_r</th>\n",
       "      <td>NaN</td>\n",
       "      <td>Rudder root choord</td>\n",
       "      <td>NaN</td>\n",
       "    </tr>\n",
       "    <tr>\n",
       "      <th>C_Th</th>\n",
       "      <td>NaN</td>\n",
       "      <td>Thrust coeff.</td>\n",
       "      <td>NaN</td>\n",
       "    </tr>\n",
       "    <tr>\n",
       "      <th>c_t</th>\n",
       "      <td>NaN</td>\n",
       "      <td>Rudder tip choord</td>\n",
       "      <td>NaN</td>\n",
       "    </tr>\n",
       "    <tr>\n",
       "      <th>d</th>\n",
       "      <td>NaN</td>\n",
       "      <td>lift diminished variable</td>\n",
       "      <td>NaN</td>\n",
       "    </tr>\n",
       "    <tr>\n",
       "      <th>D_R</th>\n",
       "      <td>NaN</td>\n",
       "      <td>Rudder drag</td>\n",
       "      <td>NaN</td>\n",
       "    </tr>\n",
       "    <tr>\n",
       "      <th>dC_L_dalpha</th>\n",
       "      <td>NaN</td>\n",
       "      <td>Lift slope</td>\n",
       "      <td>NaN</td>\n",
       "    </tr>\n",
       "    <tr>\n",
       "      <th>e_0</th>\n",
       "      <td>NaN</td>\n",
       "      <td>Oswald efficiency factor</td>\n",
       "      <td>NaN</td>\n",
       "    </tr>\n",
       "    <tr>\n",
       "      <th>f</th>\n",
       "      <td>NaN</td>\n",
       "      <td>lift diminished variable</td>\n",
       "      <td>NaN</td>\n",
       "    </tr>\n",
       "    <tr>\n",
       "      <th>I_z</th>\n",
       "      <td>NaN</td>\n",
       "      <td>Yaw mass intertia</td>\n",
       "      <td>NaN</td>\n",
       "    </tr>\n",
       "    <tr>\n",
       "      <th>L_R_C</th>\n",
       "      <td>NaN</td>\n",
       "      <td>Lift covered part</td>\n",
       "      <td>NaN</td>\n",
       "    </tr>\n",
       "    <tr>\n",
       "      <th>L_R_U</th>\n",
       "      <td>NaN</td>\n",
       "      <td>Lift uncovered part</td>\n",
       "      <td>NaN</td>\n",
       "    </tr>\n",
       "    <tr>\n",
       "      <th>L_R</th>\n",
       "      <td>NaN</td>\n",
       "      <td>Rudder lift</td>\n",
       "      <td>NaN</td>\n",
       "    </tr>\n",
       "    <tr>\n",
       "      <th>m</th>\n",
       "      <td>NaN</td>\n",
       "      <td>Ship mass</td>\n",
       "      <td>NaN</td>\n",
       "    </tr>\n",
       "    <tr>\n",
       "      <th>N_{dot{r}</th>\n",
       "      <td>NaN</td>\n",
       "      <td>Yaw added mass</td>\n",
       "      <td>NaN</td>\n",
       "    </tr>\n",
       "    <tr>\n",
       "      <th>N_{dot{v}</th>\n",
       "      <td>NaN</td>\n",
       "      <td>Yaw added mass</td>\n",
       "      <td>NaN</td>\n",
       "    </tr>\n",
       "    <tr>\n",
       "      <th>N_D</th>\n",
       "      <td>NaN</td>\n",
       "      <td>Yaw damping moment</td>\n",
       "      <td>NaN</td>\n",
       "    </tr>\n",
       "    <tr>\n",
       "      <th>N_H</th>\n",
       "      <td>NaN</td>\n",
       "      <td>Hull yawing moment</td>\n",
       "      <td>NaN</td>\n",
       "    </tr>\n",
       "    <tr>\n",
       "      <th>N_P</th>\n",
       "      <td>NaN</td>\n",
       "      <td>Prop. yawing moment</td>\n",
       "      <td>NaN</td>\n",
       "    </tr>\n",
       "    <tr>\n",
       "      <th>N_RHI</th>\n",
       "      <td>NaN</td>\n",
       "      <td>Rudder hull interaction</td>\n",
       "      <td>NaN</td>\n",
       "    </tr>\n",
       "    <tr>\n",
       "      <th>N_R</th>\n",
       "      <td>NaN</td>\n",
       "      <td>Rudder yawing moment</td>\n",
       "      <td>NaN</td>\n",
       "    </tr>\n",
       "    <tr>\n",
       "      <th>r</th>\n",
       "      <td>NaN</td>\n",
       "      <td>Yaw rate</td>\n",
       "      <td>NaN</td>\n",
       "    </tr>\n",
       "    <tr>\n",
       "      <th>r_0</th>\n",
       "      <td>NaN</td>\n",
       "      <td>Prop. radius</td>\n",
       "      <td>NaN</td>\n",
       "    </tr>\n",
       "    <tr>\n",
       "      <th>r_Delta</th>\n",
       "      <td>NaN</td>\n",
       "      <td>Turbulent mixing</td>\n",
       "      <td>NaN</td>\n",
       "    </tr>\n",
       "    <tr>\n",
       "      <th>r_infty</th>\n",
       "      <td>NaN</td>\n",
       "      <td>Prop. slipstream</td>\n",
       "      <td>NaN</td>\n",
       "    </tr>\n",
       "    <tr>\n",
       "      <th>r_x</th>\n",
       "      <td>NaN</td>\n",
       "      <td>Prop. slipstream at rudder</td>\n",
       "      <td>NaN</td>\n",
       "    </tr>\n",
       "    <tr>\n",
       "      <th>Re_F_C</th>\n",
       "      <td>NaN</td>\n",
       "      <td>Reynold number covered</td>\n",
       "      <td>NaN</td>\n",
       "    </tr>\n",
       "    <tr>\n",
       "      <th>Re_F_U</th>\n",
       "      <td>NaN</td>\n",
       "      <td>Reynold number uncovered</td>\n",
       "      <td>NaN</td>\n",
       "    </tr>\n",
       "    <tr>\n",
       "      <th>s</th>\n",
       "      <td>NaN</td>\n",
       "      <td>Rudder gap coefficient</td>\n",
       "      <td>NaN</td>\n",
       "    </tr>\n",
       "    <tr>\n",
       "      <th>thrust</th>\n",
       "      <td>NaN</td>\n",
       "      <td>Thrust</td>\n",
       "      <td>NaN</td>\n",
       "    </tr>\n",
       "    <tr>\n",
       "      <th>u</th>\n",
       "      <td>NaN</td>\n",
       "      <td>Surge vel.</td>\n",
       "      <td>NaN</td>\n",
       "    </tr>\n",
       "    <tr>\n",
       "      <th>v</th>\n",
       "      <td>NaN</td>\n",
       "      <td>Sway vel.</td>\n",
       "      <td>NaN</td>\n",
       "    </tr>\n",
       "    <tr>\n",
       "      <th>V_infty</th>\n",
       "      <td>NaN</td>\n",
       "      <td>Prop. slipstream</td>\n",
       "      <td>NaN</td>\n",
       "    </tr>\n",
       "    <tr>\n",
       "      <th>V_A</th>\n",
       "      <td>NaN</td>\n",
       "      <td>Apparent vel.</td>\n",
       "      <td>NaN</td>\n",
       "    </tr>\n",
       "    <tr>\n",
       "      <th>V_R_C</th>\n",
       "      <td>NaN</td>\n",
       "      <td>Rudder vel. covered</td>\n",
       "      <td>NaN</td>\n",
       "    </tr>\n",
       "    <tr>\n",
       "      <th>V_R_U</th>\n",
       "      <td>NaN</td>\n",
       "      <td>Rudder vel. uncovered</td>\n",
       "      <td>NaN</td>\n",
       "    </tr>\n",
       "    <tr>\n",
       "      <th>V_R_x_C</th>\n",
       "      <td>NaN</td>\n",
       "      <td>Axial vel. covered</td>\n",
       "      <td>NaN</td>\n",
       "    </tr>\n",
       "    <tr>\n",
       "      <th>V_R_x_U</th>\n",
       "      <td>NaN</td>\n",
       "      <td>Axial vel. uncovered</td>\n",
       "      <td>NaN</td>\n",
       "    </tr>\n",
       "    <tr>\n",
       "      <th>V_R_y</th>\n",
       "      <td>NaN</td>\n",
       "      <td>Rudder transverse vel.</td>\n",
       "      <td>NaN</td>\n",
       "    </tr>\n",
       "    <tr>\n",
       "      <th>V_x_corr</th>\n",
       "      <td>NaN</td>\n",
       "      <td>Turbulent mixing</td>\n",
       "      <td>NaN</td>\n",
       "    </tr>\n",
       "    <tr>\n",
       "      <th>V_x_C</th>\n",
       "      <td>NaN</td>\n",
       "      <td>No turbulent mixing</td>\n",
       "      <td>NaN</td>\n",
       "    </tr>\n",
       "    <tr>\n",
       "      <th>V_x_U</th>\n",
       "      <td>NaN</td>\n",
       "      <td>No turbulent mixing</td>\n",
       "      <td>NaN</td>\n",
       "    </tr>\n",
       "    <tr>\n",
       "      <th>w_f</th>\n",
       "      <td>NaN</td>\n",
       "      <td>Taylor wake</td>\n",
       "      <td>NaN</td>\n",
       "    </tr>\n",
       "    <tr>\n",
       "      <th>x</th>\n",
       "      <td>NaN</td>\n",
       "      <td>Prop. to rudder</td>\n",
       "      <td>NaN</td>\n",
       "    </tr>\n",
       "    <tr>\n",
       "      <th>X_{dot{u}</th>\n",
       "      <td>NaN</td>\n",
       "      <td>Surge added mass</td>\n",
       "      <td>NaN</td>\n",
       "    </tr>\n",
       "    <tr>\n",
       "      <th>X_D</th>\n",
       "      <td>NaN</td>\n",
       "      <td>Surge damping force</td>\n",
       "      <td>NaN</td>\n",
       "    </tr>\n",
       "    <tr>\n",
       "      <th>x_G</th>\n",
       "      <td>NaN</td>\n",
       "      <td>Center of gravity</td>\n",
       "      <td>NaN</td>\n",
       "    </tr>\n",
       "    <tr>\n",
       "      <th>x_H</th>\n",
       "      <td>NaN</td>\n",
       "      <td>Yaw rudder interaction</td>\n",
       "      <td>NaN</td>\n",
       "    </tr>\n",
       "    <tr>\n",
       "      <th>X_H</th>\n",
       "      <td>NaN</td>\n",
       "      <td>Hull surge force</td>\n",
       "      <td>NaN</td>\n",
       "    </tr>\n",
       "    <tr>\n",
       "      <th>X_P</th>\n",
       "      <td>NaN</td>\n",
       "      <td>Prop. surge force</td>\n",
       "      <td>NaN</td>\n",
       "    </tr>\n",
       "    <tr>\n",
       "      <th>x_R</th>\n",
       "      <td>NaN</td>\n",
       "      <td>Rudder lever</td>\n",
       "      <td>NaN</td>\n",
       "    </tr>\n",
       "    <tr>\n",
       "      <th>X_R</th>\n",
       "      <td>NaN</td>\n",
       "      <td>Rudder surge force</td>\n",
       "      <td>NaN</td>\n",
       "    </tr>\n",
       "    <tr>\n",
       "      <th>X_{thrust</th>\n",
       "      <td>NaN</td>\n",
       "      <td>Thrust deduction</td>\n",
       "      <td>NaN</td>\n",
       "    </tr>\n",
       "    <tr>\n",
       "      <th>Y_{dot{r}</th>\n",
       "      <td>NaN</td>\n",
       "      <td>Sway added mass</td>\n",
       "      <td>NaN</td>\n",
       "    </tr>\n",
       "    <tr>\n",
       "      <th>Y_{dot{v}</th>\n",
       "      <td>NaN</td>\n",
       "      <td>Sway added mass</td>\n",
       "      <td>NaN</td>\n",
       "    </tr>\n",
       "    <tr>\n",
       "      <th>Y_D</th>\n",
       "      <td>NaN</td>\n",
       "      <td>Sway damping force</td>\n",
       "      <td>NaN</td>\n",
       "    </tr>\n",
       "    <tr>\n",
       "      <th>Y_H</th>\n",
       "      <td>NaN</td>\n",
       "      <td>Hull sway force</td>\n",
       "      <td>NaN</td>\n",
       "    </tr>\n",
       "    <tr>\n",
       "      <th>y_p</th>\n",
       "      <td>NaN</td>\n",
       "      <td>Propeller lever</td>\n",
       "      <td>NaN</td>\n",
       "    </tr>\n",
       "    <tr>\n",
       "      <th>Y_P</th>\n",
       "      <td>NaN</td>\n",
       "      <td>Propeller sway force</td>\n",
       "      <td>NaN</td>\n",
       "    </tr>\n",
       "    <tr>\n",
       "      <th>Y_RHI</th>\n",
       "      <td>NaN</td>\n",
       "      <td>Rudder hull interaction</td>\n",
       "      <td>NaN</td>\n",
       "    </tr>\n",
       "    <tr>\n",
       "      <th>Y_R</th>\n",
       "      <td>NaN</td>\n",
       "      <td>Rudder sway force</td>\n",
       "      <td>NaN</td>\n",
       "    </tr>\n",
       "    <tr>\n",
       "      <th>y_R</th>\n",
       "      <td>NaN</td>\n",
       "      <td>Rudder lever</td>\n",
       "      <td>NaN</td>\n",
       "    </tr>\n",
       "  </tbody>\n",
       "</table>\n",
       "</div>"
      ],
      "text/plain": [
       "\n",
       "                LaTeX                             Description file_names\n",
       "alpha             NaN                  Rudder angle of attack        NaN\n",
       "alpha_f           NaN                     Rudder inflow angle        NaN\n",
       "delta             NaN                            Rudder angle        NaN\n",
       "delta_lim         NaN                        Rudder gap limit        NaN\n",
       "dot\u001b[1m{\u001b[0mr             NaN                        Yaw acceleration        NaN\n",
       "dot\u001b[1m{\u001b[0mu             NaN                      Surge acceleration        NaN\n",
       "dot\u001b[1m{\u001b[0mv             NaN                       Sway acceleration        NaN\n",
       "gamma             NaN                     Prop. induced angle        NaN\n",
       "gamma_0           NaN                   Rudder initial inflow        NaN\n",
       "gamma_g           NaN                  Geometric inflow angle        NaN\n",
       "kappa_r_gamma_g   NaN                    $\\kappa_r$ nonlinear        NaN\n",
       "kappa_r_tot       NaN                        $\\kappa_r$ total        NaN\n",
       "kappa_r           NaN             Yaw rate flow straightening        NaN\n",
       "kappa_v_gamma_g   NaN                    $\\kappa_v$ nonlinear        NaN\n",
       "kappa_v_tot       NaN                        $\\kappa_v$ total        NaN\n",
       "kappa_v           NaN                Drift flow straightening        NaN\n",
       "lambda_gap        NaN                        Rudder gap effec        NaN\n",
       "lambda_R          NaN  limited radius of the prop. slipstream        NaN\n",
       "lambda_           NaN                      Rudder taper ratio        NaN\n",
       "nu                NaN                     Kinematic viscosity        NaN\n",
       "Omega             NaN                      Rudder sweep angle        NaN\n",
       "rho               NaN                           Water density        NaN\n",
       "a_0               NaN                Section lift curve slope        NaN\n",
       "a_H               NaN                 Sway rudder interaction        NaN\n",
       "A_R_C             NaN                     Rudder area covered        NaN\n",
       "A_R_U             NaN                   Rudder area uncovered        NaN\n",
       "A_R               NaN                             Rudder area        NaN\n",
       "AR_e              NaN                  Effective aspect ratio        NaN\n",
       "AR_g              NaN                  Geometric aspect ratio        NaN\n",
       "b_R               NaN                             Rudder span        NaN\n",
       "c                 NaN                            Rudder chord        NaN\n",
       "C_D_C             NaN                     Drag coeff. covered        NaN\n",
       "C_D_tune          NaN                      Drag coeff. tunnig        NaN\n",
       "C_D_U             NaN                   Drag coeff. uncovered        NaN\n",
       "C_D0_C            NaN             Initial drag coeff. covered        NaN\n",
       "C_D0_tune         NaN                Initial drag coeff. tune        NaN\n",
       "C_D0_U            NaN           Initial drag coeff. uncovered        NaN\n",
       "C_DC              NaN                  Rudder cross-flow drag        NaN\n",
       "C_F_C             NaN                 Friction coeff. covered        NaN\n",
       "C_F_U             NaN               Friction coeff. uncovered        NaN\n",
       "C_L               NaN                             Lift coeff.        NaN\n",
       "c_r               NaN                      Rudder root choord        NaN\n",
       "C_Th              NaN                           Thrust coeff.        NaN\n",
       "c_t               NaN                       Rudder tip choord        NaN\n",
       "d                 NaN                lift diminished variable        NaN\n",
       "D_R               NaN                             Rudder drag        NaN\n",
       "dC_L_dalpha       NaN                              Lift slope        NaN\n",
       "e_0               NaN                Oswald efficiency factor        NaN\n",
       "f                 NaN                lift diminished variable        NaN\n",
       "I_z               NaN                       Yaw mass intertia        NaN\n",
       "L_R_C             NaN                       Lift covered part        NaN\n",
       "L_R_U             NaN                     Lift uncovered part        NaN\n",
       "L_R               NaN                             Rudder lift        NaN\n",
       "m                 NaN                               Ship mass        NaN\n",
       "N_\u001b[1m{\u001b[0mdot\u001b[1m{\u001b[0mr\u001b[1m}\u001b[0m         NaN                          Yaw added mass        NaN\n",
       "N_\u001b[1m{\u001b[0mdot\u001b[1m{\u001b[0mv\u001b[1m}\u001b[0m         NaN                          Yaw added mass        NaN\n",
       "N_D               NaN                      Yaw damping moment        NaN\n",
       "N_H               NaN                      Hull yawing moment        NaN\n",
       "N_P               NaN                     Prop. yawing moment        NaN\n",
       "N_RHI             NaN                 Rudder hull interaction        NaN\n",
       "N_R               NaN                    Rudder yawing moment        NaN\n",
       "r                 NaN                                Yaw rate        NaN\n",
       "r_0               NaN                            Prop. radius        NaN\n",
       "r_Delta           NaN                        Turbulent mixing        NaN\n",
       "r_infty           NaN                        Prop. slipstream        NaN\n",
       "r_x               NaN              Prop. slipstream at rudder        NaN\n",
       "Re_F_C            NaN                  Reynold number covered        NaN\n",
       "Re_F_U            NaN                Reynold number uncovered        NaN\n",
       "s                 NaN                  Rudder gap coefficient        NaN\n",
       "thrust            NaN                                  Thrust        NaN\n",
       "u                 NaN                              Surge vel.        NaN\n",
       "v                 NaN                               Sway vel.        NaN\n",
       "V_infty           NaN                        Prop. slipstream        NaN\n",
       "V_A               NaN                           Apparent vel.        NaN\n",
       "V_R_C             NaN                     Rudder vel. covered        NaN\n",
       "V_R_U             NaN                   Rudder vel. uncovered        NaN\n",
       "V_R_x_C           NaN                      Axial vel. covered        NaN\n",
       "V_R_x_U           NaN                    Axial vel. uncovered        NaN\n",
       "V_R_y             NaN                  Rudder transverse vel.        NaN\n",
       "V_x_corr          NaN                        Turbulent mixing        NaN\n",
       "V_x_C             NaN                     No turbulent mixing        NaN\n",
       "V_x_U             NaN                     No turbulent mixing        NaN\n",
       "w_f               NaN                             Taylor wake        NaN\n",
       "x                 NaN                         Prop. to rudder        NaN\n",
       "X_\u001b[1m{\u001b[0mdot\u001b[1m{\u001b[0mu\u001b[1m}\u001b[0m         NaN                        Surge added mass        NaN\n",
       "X_D               NaN                     Surge damping force        NaN\n",
       "x_G               NaN                       Center of gravity        NaN\n",
       "x_H               NaN                  Yaw rudder interaction        NaN\n",
       "X_H               NaN                        Hull surge force        NaN\n",
       "X_P               NaN                       Prop. surge force        NaN\n",
       "x_R               NaN                            Rudder lever        NaN\n",
       "X_R               NaN                      Rudder surge force        NaN\n",
       "X_\u001b[1m{\u001b[0mthrust         NaN                        Thrust deduction        NaN\n",
       "Y_\u001b[1m{\u001b[0mdot\u001b[1m{\u001b[0mr\u001b[1m}\u001b[0m         NaN                         Sway added mass        NaN\n",
       "Y_\u001b[1m{\u001b[0mdot\u001b[1m{\u001b[0mv\u001b[1m}\u001b[0m         NaN                         Sway added mass        NaN\n",
       "Y_D               NaN                      Sway damping force        NaN\n",
       "Y_H               NaN                         Hull sway force        NaN\n",
       "y_p               NaN                         Propeller lever        NaN\n",
       "Y_P               NaN                    Propeller sway force        NaN\n",
       "Y_RHI             NaN                 Rudder hull interaction        NaN\n",
       "Y_R               NaN                       Rudder sway force        NaN\n",
       "y_R               NaN                            Rudder lever        NaN"
      ]
     },
     "execution_count": 83,
     "metadata": {},
     "output_type": "execute_result"
    }
   ],
   "source": [
    "df_nomenclature_new"
   ]
  },
  {
   "cell_type": "code",
   "execution_count": 84,
   "id": "d3e64ea6-d4d2-40d5-a407-71cd7dcb8883",
   "metadata": {},
   "outputs": [],
   "source": [
    "table = paper.table_columns(df_nomenclature_new[['LaTeX','Description']], columns=3)\n",
    "table.to_csv(paper.file_path_with_nb_ref(\"nomenclature.csv\", directory='tables'), index=False)"
   ]
  },
  {
   "cell_type": "code",
   "execution_count": 85,
   "id": "295cb85c-2388-4848-8bdc-f1c1fbc758e5",
   "metadata": {},
   "outputs": [
    {
     "data": {
      "text/html": [
       "<pre style=\"white-space:pre;overflow-x:auto;line-height:normal;font-family:Menlo,'DejaVu Sans Mono',consolas,'Courier New',monospace\"></pre>\n"
      ],
      "text/plain": []
     },
     "metadata": {},
     "output_type": "display_data"
    },
    {
     "data": {
      "text/html": [
       "<div>\n",
       "<style scoped>\n",
       "    .dataframe tbody tr th:only-of-type {\n",
       "        vertical-align: middle;\n",
       "    }\n",
       "\n",
       "    .dataframe tbody tr th {\n",
       "        vertical-align: top;\n",
       "    }\n",
       "\n",
       "    .dataframe thead th {\n",
       "        text-align: right;\n",
       "    }\n",
       "</style>\n",
       "<table border=\"1\" class=\"dataframe\">\n",
       "  <thead>\n",
       "    <tr style=\"text-align: right;\">\n",
       "      <th></th>\n",
       "      <th>LaTeX</th>\n",
       "      <th>Description</th>\n",
       "      <th>LaTeX1</th>\n",
       "      <th>Description1</th>\n",
       "      <th>LaTeX2</th>\n",
       "      <th>Description2</th>\n",
       "    </tr>\n",
       "  </thead>\n",
       "  <tbody>\n",
       "    <tr>\n",
       "      <th>0</th>\n",
       "      <td>NaN</td>\n",
       "      <td>Rudder angle of attack</td>\n",
       "      <td>NaN</td>\n",
       "      <td>Initial drag coeff. covered</td>\n",
       "      <td>NaN</td>\n",
       "      <td>Rudder gap coefficient</td>\n",
       "    </tr>\n",
       "    <tr>\n",
       "      <th>1</th>\n",
       "      <td>NaN</td>\n",
       "      <td>Rudder inflow angle</td>\n",
       "      <td>NaN</td>\n",
       "      <td>Initial drag coeff. tune</td>\n",
       "      <td>NaN</td>\n",
       "      <td>Thrust</td>\n",
       "    </tr>\n",
       "    <tr>\n",
       "      <th>2</th>\n",
       "      <td>NaN</td>\n",
       "      <td>Rudder angle</td>\n",
       "      <td>NaN</td>\n",
       "      <td>Initial drag coeff. uncovered</td>\n",
       "      <td>NaN</td>\n",
       "      <td>Surge vel.</td>\n",
       "    </tr>\n",
       "    <tr>\n",
       "      <th>3</th>\n",
       "      <td>NaN</td>\n",
       "      <td>Rudder gap limit</td>\n",
       "      <td>NaN</td>\n",
       "      <td>Rudder cross-flow drag</td>\n",
       "      <td>NaN</td>\n",
       "      <td>Sway vel.</td>\n",
       "    </tr>\n",
       "    <tr>\n",
       "      <th>4</th>\n",
       "      <td>NaN</td>\n",
       "      <td>Yaw acceleration</td>\n",
       "      <td>NaN</td>\n",
       "      <td>Friction coeff. covered</td>\n",
       "      <td>NaN</td>\n",
       "      <td>Prop. slipstream</td>\n",
       "    </tr>\n",
       "    <tr>\n",
       "      <th>5</th>\n",
       "      <td>NaN</td>\n",
       "      <td>Surge acceleration</td>\n",
       "      <td>NaN</td>\n",
       "      <td>Friction coeff. uncovered</td>\n",
       "      <td>NaN</td>\n",
       "      <td>Apparent vel.</td>\n",
       "    </tr>\n",
       "    <tr>\n",
       "      <th>6</th>\n",
       "      <td>NaN</td>\n",
       "      <td>Sway acceleration</td>\n",
       "      <td>NaN</td>\n",
       "      <td>Lift coeff.</td>\n",
       "      <td>NaN</td>\n",
       "      <td>Rudder vel. covered</td>\n",
       "    </tr>\n",
       "    <tr>\n",
       "      <th>7</th>\n",
       "      <td>NaN</td>\n",
       "      <td>Prop. induced angle</td>\n",
       "      <td>NaN</td>\n",
       "      <td>Rudder root choord</td>\n",
       "      <td>NaN</td>\n",
       "      <td>Rudder vel. uncovered</td>\n",
       "    </tr>\n",
       "    <tr>\n",
       "      <th>8</th>\n",
       "      <td>NaN</td>\n",
       "      <td>Rudder initial inflow</td>\n",
       "      <td>NaN</td>\n",
       "      <td>Thrust coeff.</td>\n",
       "      <td>NaN</td>\n",
       "      <td>Axial vel. covered</td>\n",
       "    </tr>\n",
       "    <tr>\n",
       "      <th>9</th>\n",
       "      <td>NaN</td>\n",
       "      <td>Geometric inflow angle</td>\n",
       "      <td>NaN</td>\n",
       "      <td>Rudder tip choord</td>\n",
       "      <td>NaN</td>\n",
       "      <td>Axial vel. uncovered</td>\n",
       "    </tr>\n",
       "    <tr>\n",
       "      <th>10</th>\n",
       "      <td>NaN</td>\n",
       "      <td>$\\kappa_r$ nonlinear</td>\n",
       "      <td>NaN</td>\n",
       "      <td>lift diminished variable</td>\n",
       "      <td>NaN</td>\n",
       "      <td>Rudder transverse vel.</td>\n",
       "    </tr>\n",
       "    <tr>\n",
       "      <th>11</th>\n",
       "      <td>NaN</td>\n",
       "      <td>$\\kappa_r$ total</td>\n",
       "      <td>NaN</td>\n",
       "      <td>Rudder drag</td>\n",
       "      <td>NaN</td>\n",
       "      <td>Turbulent mixing</td>\n",
       "    </tr>\n",
       "    <tr>\n",
       "      <th>12</th>\n",
       "      <td>NaN</td>\n",
       "      <td>Yaw rate flow straightening</td>\n",
       "      <td>NaN</td>\n",
       "      <td>Lift slope</td>\n",
       "      <td>NaN</td>\n",
       "      <td>No turbulent mixing</td>\n",
       "    </tr>\n",
       "    <tr>\n",
       "      <th>13</th>\n",
       "      <td>NaN</td>\n",
       "      <td>$\\kappa_v$ nonlinear</td>\n",
       "      <td>NaN</td>\n",
       "      <td>Oswald efficiency factor</td>\n",
       "      <td>NaN</td>\n",
       "      <td>No turbulent mixing</td>\n",
       "    </tr>\n",
       "    <tr>\n",
       "      <th>14</th>\n",
       "      <td>NaN</td>\n",
       "      <td>$\\kappa_v$ total</td>\n",
       "      <td>NaN</td>\n",
       "      <td>lift diminished variable</td>\n",
       "      <td>NaN</td>\n",
       "      <td>Taylor wake</td>\n",
       "    </tr>\n",
       "    <tr>\n",
       "      <th>15</th>\n",
       "      <td>NaN</td>\n",
       "      <td>Drift flow straightening</td>\n",
       "      <td>NaN</td>\n",
       "      <td>Yaw mass intertia</td>\n",
       "      <td>NaN</td>\n",
       "      <td>Prop. to rudder</td>\n",
       "    </tr>\n",
       "    <tr>\n",
       "      <th>16</th>\n",
       "      <td>NaN</td>\n",
       "      <td>Rudder gap effec</td>\n",
       "      <td>NaN</td>\n",
       "      <td>Lift covered part</td>\n",
       "      <td>NaN</td>\n",
       "      <td>Surge added mass</td>\n",
       "    </tr>\n",
       "    <tr>\n",
       "      <th>17</th>\n",
       "      <td>NaN</td>\n",
       "      <td>limited radius of the prop. slipstream</td>\n",
       "      <td>NaN</td>\n",
       "      <td>Lift uncovered part</td>\n",
       "      <td>NaN</td>\n",
       "      <td>Surge damping force</td>\n",
       "    </tr>\n",
       "    <tr>\n",
       "      <th>18</th>\n",
       "      <td>NaN</td>\n",
       "      <td>Rudder taper ratio</td>\n",
       "      <td>NaN</td>\n",
       "      <td>Rudder lift</td>\n",
       "      <td>NaN</td>\n",
       "      <td>Center of gravity</td>\n",
       "    </tr>\n",
       "    <tr>\n",
       "      <th>19</th>\n",
       "      <td>NaN</td>\n",
       "      <td>Kinematic viscosity</td>\n",
       "      <td>NaN</td>\n",
       "      <td>Ship mass</td>\n",
       "      <td>NaN</td>\n",
       "      <td>Yaw rudder interaction</td>\n",
       "    </tr>\n",
       "    <tr>\n",
       "      <th>20</th>\n",
       "      <td>NaN</td>\n",
       "      <td>Rudder sweep angle</td>\n",
       "      <td>NaN</td>\n",
       "      <td>Yaw added mass</td>\n",
       "      <td>NaN</td>\n",
       "      <td>Hull surge force</td>\n",
       "    </tr>\n",
       "    <tr>\n",
       "      <th>21</th>\n",
       "      <td>NaN</td>\n",
       "      <td>Water density</td>\n",
       "      <td>NaN</td>\n",
       "      <td>Yaw added mass</td>\n",
       "      <td>NaN</td>\n",
       "      <td>Prop. surge force</td>\n",
       "    </tr>\n",
       "    <tr>\n",
       "      <th>22</th>\n",
       "      <td>NaN</td>\n",
       "      <td>Section lift curve slope</td>\n",
       "      <td>NaN</td>\n",
       "      <td>Yaw damping moment</td>\n",
       "      <td>NaN</td>\n",
       "      <td>Rudder lever</td>\n",
       "    </tr>\n",
       "    <tr>\n",
       "      <th>23</th>\n",
       "      <td>NaN</td>\n",
       "      <td>Sway rudder interaction</td>\n",
       "      <td>NaN</td>\n",
       "      <td>Hull yawing moment</td>\n",
       "      <td>NaN</td>\n",
       "      <td>Rudder surge force</td>\n",
       "    </tr>\n",
       "    <tr>\n",
       "      <th>24</th>\n",
       "      <td>NaN</td>\n",
       "      <td>Rudder area covered</td>\n",
       "      <td>NaN</td>\n",
       "      <td>Prop. yawing moment</td>\n",
       "      <td>NaN</td>\n",
       "      <td>Thrust deduction</td>\n",
       "    </tr>\n",
       "    <tr>\n",
       "      <th>25</th>\n",
       "      <td>NaN</td>\n",
       "      <td>Rudder area uncovered</td>\n",
       "      <td>NaN</td>\n",
       "      <td>Rudder hull interaction</td>\n",
       "      <td>NaN</td>\n",
       "      <td>Sway added mass</td>\n",
       "    </tr>\n",
       "    <tr>\n",
       "      <th>26</th>\n",
       "      <td>NaN</td>\n",
       "      <td>Rudder area</td>\n",
       "      <td>NaN</td>\n",
       "      <td>Rudder yawing moment</td>\n",
       "      <td>NaN</td>\n",
       "      <td>Sway added mass</td>\n",
       "    </tr>\n",
       "    <tr>\n",
       "      <th>27</th>\n",
       "      <td>NaN</td>\n",
       "      <td>Effective aspect ratio</td>\n",
       "      <td>NaN</td>\n",
       "      <td>Yaw rate</td>\n",
       "      <td>NaN</td>\n",
       "      <td>Sway damping force</td>\n",
       "    </tr>\n",
       "    <tr>\n",
       "      <th>28</th>\n",
       "      <td>NaN</td>\n",
       "      <td>Geometric aspect ratio</td>\n",
       "      <td>NaN</td>\n",
       "      <td>Prop. radius</td>\n",
       "      <td>NaN</td>\n",
       "      <td>Hull sway force</td>\n",
       "    </tr>\n",
       "    <tr>\n",
       "      <th>29</th>\n",
       "      <td>NaN</td>\n",
       "      <td>Rudder span</td>\n",
       "      <td>NaN</td>\n",
       "      <td>Turbulent mixing</td>\n",
       "      <td>NaN</td>\n",
       "      <td>Propeller lever</td>\n",
       "    </tr>\n",
       "    <tr>\n",
       "      <th>30</th>\n",
       "      <td>NaN</td>\n",
       "      <td>Rudder chord</td>\n",
       "      <td>NaN</td>\n",
       "      <td>Prop. slipstream</td>\n",
       "      <td>NaN</td>\n",
       "      <td>Propeller sway force</td>\n",
       "    </tr>\n",
       "    <tr>\n",
       "      <th>31</th>\n",
       "      <td>NaN</td>\n",
       "      <td>Drag coeff. covered</td>\n",
       "      <td>NaN</td>\n",
       "      <td>Prop. slipstream at rudder</td>\n",
       "      <td>NaN</td>\n",
       "      <td>Rudder hull interaction</td>\n",
       "    </tr>\n",
       "    <tr>\n",
       "      <th>32</th>\n",
       "      <td>NaN</td>\n",
       "      <td>Drag coeff. tunnig</td>\n",
       "      <td>NaN</td>\n",
       "      <td>Reynold number covered</td>\n",
       "      <td>NaN</td>\n",
       "      <td>Rudder sway force</td>\n",
       "    </tr>\n",
       "    <tr>\n",
       "      <th>33</th>\n",
       "      <td>NaN</td>\n",
       "      <td>Drag coeff. uncovered</td>\n",
       "      <td>NaN</td>\n",
       "      <td>Reynold number uncovered</td>\n",
       "      <td>NaN</td>\n",
       "      <td>Rudder lever</td>\n",
       "    </tr>\n",
       "  </tbody>\n",
       "</table>\n",
       "</div>"
      ],
      "text/plain": [
       "\n",
       "   LaTeX                             Description LaTeX1                   Description1 LaTeX2             Description2\n",
       "\u001b[1;36m0\u001b[0m    NaN                  Rudder angle of attack    NaN    Initial drag coeff. covered    NaN   Rudder gap coefficient\n",
       "\u001b[1;36m1\u001b[0m    NaN                     Rudder inflow angle    NaN       Initial drag coeff. tune    NaN                   Thrust\n",
       "\u001b[1;36m2\u001b[0m    NaN                            Rudder angle    NaN  Initial drag coeff. uncovered    NaN               Surge vel.\n",
       "\u001b[1;36m3\u001b[0m    NaN                        Rudder gap limit    NaN         Rudder cross-flow drag    NaN                Sway vel.\n",
       "\u001b[1;36m4\u001b[0m    NaN                        Yaw acceleration    NaN        Friction coeff. covered    NaN         Prop. slipstream\n",
       "\u001b[1;36m5\u001b[0m    NaN                      Surge acceleration    NaN      Friction coeff. uncovered    NaN            Apparent vel.\n",
       "\u001b[1;36m6\u001b[0m    NaN                       Sway acceleration    NaN                    Lift coeff.    NaN      Rudder vel. covered\n",
       "\u001b[1;36m7\u001b[0m    NaN                     Prop. induced angle    NaN             Rudder root choord    NaN    Rudder vel. uncovered\n",
       "\u001b[1;36m8\u001b[0m    NaN                   Rudder initial inflow    NaN                  Thrust coeff.    NaN       Axial vel. covered\n",
       "\u001b[1;36m9\u001b[0m    NaN                  Geometric inflow angle    NaN              Rudder tip choord    NaN     Axial vel. uncovered\n",
       "\u001b[1;36m10\u001b[0m   NaN                    $\\kappa_r$ nonlinear    NaN       lift diminished variable    NaN   Rudder transverse vel.\n",
       "\u001b[1;36m11\u001b[0m   NaN                        $\\kappa_r$ total    NaN                    Rudder drag    NaN         Turbulent mixing\n",
       "\u001b[1;36m12\u001b[0m   NaN             Yaw rate flow straightening    NaN                     Lift slope    NaN      No turbulent mixing\n",
       "\u001b[1;36m13\u001b[0m   NaN                    $\\kappa_v$ nonlinear    NaN       Oswald efficiency factor    NaN      No turbulent mixing\n",
       "\u001b[1;36m14\u001b[0m   NaN                        $\\kappa_v$ total    NaN       lift diminished variable    NaN              Taylor wake\n",
       "\u001b[1;36m15\u001b[0m   NaN                Drift flow straightening    NaN              Yaw mass intertia    NaN          Prop. to rudder\n",
       "\u001b[1;36m16\u001b[0m   NaN                        Rudder gap effec    NaN              Lift covered part    NaN         Surge added mass\n",
       "\u001b[1;36m17\u001b[0m   NaN  limited radius of the prop. slipstream    NaN            Lift uncovered part    NaN      Surge damping force\n",
       "\u001b[1;36m18\u001b[0m   NaN                      Rudder taper ratio    NaN                    Rudder lift    NaN        Center of gravity\n",
       "\u001b[1;36m19\u001b[0m   NaN                     Kinematic viscosity    NaN                      Ship mass    NaN   Yaw rudder interaction\n",
       "\u001b[1;36m20\u001b[0m   NaN                      Rudder sweep angle    NaN                 Yaw added mass    NaN         Hull surge force\n",
       "\u001b[1;36m21\u001b[0m   NaN                           Water density    NaN                 Yaw added mass    NaN        Prop. surge force\n",
       "\u001b[1;36m22\u001b[0m   NaN                Section lift curve slope    NaN             Yaw damping moment    NaN             Rudder lever\n",
       "\u001b[1;36m23\u001b[0m   NaN                 Sway rudder interaction    NaN             Hull yawing moment    NaN       Rudder surge force\n",
       "\u001b[1;36m24\u001b[0m   NaN                     Rudder area covered    NaN            Prop. yawing moment    NaN         Thrust deduction\n",
       "\u001b[1;36m25\u001b[0m   NaN                   Rudder area uncovered    NaN        Rudder hull interaction    NaN          Sway added mass\n",
       "\u001b[1;36m26\u001b[0m   NaN                             Rudder area    NaN           Rudder yawing moment    NaN          Sway added mass\n",
       "\u001b[1;36m27\u001b[0m   NaN                  Effective aspect ratio    NaN                       Yaw rate    NaN       Sway damping force\n",
       "\u001b[1;36m28\u001b[0m   NaN                  Geometric aspect ratio    NaN                   Prop. radius    NaN          Hull sway force\n",
       "\u001b[1;36m29\u001b[0m   NaN                             Rudder span    NaN               Turbulent mixing    NaN          Propeller lever\n",
       "\u001b[1;36m30\u001b[0m   NaN                            Rudder chord    NaN               Prop. slipstream    NaN     Propeller sway force\n",
       "\u001b[1;36m31\u001b[0m   NaN                     Drag coeff. covered    NaN     Prop. slipstream at rudder    NaN  Rudder hull interaction\n",
       "\u001b[1;36m32\u001b[0m   NaN                      Drag coeff. tunnig    NaN         Reynold number covered    NaN        Rudder sway force\n",
       "\u001b[1;36m33\u001b[0m   NaN                   Drag coeff. uncovered    NaN       Reynold number uncovered    NaN             Rudder lever"
      ]
     },
     "execution_count": 85,
     "metadata": {},
     "output_type": "execute_result"
    }
   ],
   "source": [
    "table"
   ]
  },
  {
   "cell_type": "code",
   "execution_count": null,
   "id": "c7aaf940-c031-4e64-aa3f-cb9225f5f4ea",
   "metadata": {},
   "outputs": [],
   "source": []
  }
 ],
 "metadata": {
  "kernelspec": {
   "display_name": "Kedro (phd)",
   "language": "python",
   "name": "kedro_phd"
  },
  "language_info": {
   "codemirror_mode": {
    "name": "ipython",
    "version": 3
   },
   "file_extension": ".py",
   "mimetype": "text/x-python",
   "name": "python",
   "nbconvert_exporter": "python",
   "pygments_lexer": "ipython3",
   "version": "3.10.0"
  }
 },
 "nbformat": 4,
 "nbformat_minor": 5
}
