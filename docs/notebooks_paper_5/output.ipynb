{
 "cells": [
  {
   "cell_type": "markdown",
   "id": "6dc014f8",
   "metadata": {
    "tags": [
     "papermill-error-cell-tag"
    ]
   },
   "source": [
    "<span style=\"color:red; font-family:Helvetica Neue, Helvetica, Arial, sans-serif; font-size:2em;\">An Exception was encountered at '<a href=\"#papermill-error-cell\">In [2]</a>'.</span>"
   ]
  },
  {
   "cell_type": "markdown",
   "id": "a7b28146-2307-4ff2-83f5-9dda7d7b1394",
   "metadata": {
    "papermill": {
     "duration": 0.001619,
     "end_time": "2024-11-11T09:11:14.330500",
     "exception": false,
     "start_time": "2024-11-11T09:11:14.328881",
     "status": "completed"
    },
    "tags": []
   },
   "source": [
    "# Results Optiwise inverse dynamics"
   ]
  },
  {
   "cell_type": "code",
   "execution_count": 1,
   "id": "8b12dea1-f0d7-4aa5-969c-901c0064cda2",
   "metadata": {
    "execution": {
     "iopub.execute_input": "2024-11-11T09:11:14.334410Z",
     "iopub.status.busy": "2024-11-11T09:11:14.334198Z",
     "iopub.status.idle": "2024-11-11T09:11:14.832562Z",
     "shell.execute_reply": "2024-11-11T09:11:14.832003Z"
    },
    "papermill": {
     "duration": 0.501839,
     "end_time": "2024-11-11T09:11:14.833763",
     "exception": false,
     "start_time": "2024-11-11T09:11:14.331924",
     "status": "completed"
    },
    "tags": []
   },
   "outputs": [
    {
     "data": {
      "text/html": [
       "<pre style=\"white-space:pre;overflow-x:auto;line-height:normal;font-family:Menlo,'DejaVu Sans Mono',consolas,'Courier New',monospace\"><span style=\"color: #7fbfbf; text-decoration-color: #7fbfbf\">[11/11/24 10:11:14] </span><span style=\"color: #800000; text-decoration-color: #800000\">WARNING </span> Kedro extension was registered but couldn't find a Kedro project. Make  <a href=\"file:///home/maa/miniconda3/envs/phd/lib/python3.10/site-packages/kedro/ipython/__init__.py\" target=\"_blank\"><span style=\"color: #7f7f7f; text-decoration-color: #7f7f7f\">__init__.py</span></a><span style=\"color: #7f7f7f; text-decoration-color: #7f7f7f\">:</span><a href=\"file:///home/maa/miniconda3/envs/phd/lib/python3.10/site-packages/kedro/ipython/__init__.py#40\" target=\"_blank\"><span style=\"color: #7f7f7f; text-decoration-color: #7f7f7f\">40</span></a>\n",
       "<span style=\"color: #7fbfbf; text-decoration-color: #7fbfbf\">                    </span>         sure you run <span style=\"color: #008000; text-decoration-color: #008000\">'%reload_kedro &lt;project_root&gt;'</span>.                            <span style=\"color: #7f7f7f; text-decoration-color: #7f7f7f\">              </span>\n",
       "</pre>\n"
      ],
      "text/plain": [
       "\u001b[2;36m[11/11/24 10:11:14]\u001b[0m\u001b[2;36m \u001b[0m\u001b[31mWARNING \u001b[0m Kedro extension was registered but couldn't find a Kedro project. Make  \u001b]8;id=118601;file:///home/maa/miniconda3/envs/phd/lib/python3.10/site-packages/kedro/ipython/__init__.py\u001b\\\u001b[2m__init__.py\u001b[0m\u001b]8;;\u001b\\\u001b[2m:\u001b[0m\u001b]8;id=987226;file:///home/maa/miniconda3/envs/phd/lib/python3.10/site-packages/kedro/ipython/__init__.py#40\u001b\\\u001b[2m40\u001b[0m\u001b]8;;\u001b\\\n",
       "\u001b[2;36m                    \u001b[0m         sure you run \u001b[32m'%reload_kedro \u001b[0m\u001b[32m<\u001b[0m\u001b[32mproject_root\u001b[0m\u001b[32m>\u001b[0m\u001b[32m'\u001b[0m.                            \u001b[2m              \u001b[0m\n"
      ]
     },
     "metadata": {},
     "output_type": "display_data"
    }
   ],
   "source": [
    "#import warnings\n",
    "#warnings.filterwarnings('ignore')\n",
    "%matplotlib inline\n",
    "%load_ext autoreload\n",
    "%autoreload 2\n",
    "%config Completer.use_jedi = True\n",
    "%load_ext kedro.ipython"
   ]
  },
  {
   "cell_type": "markdown",
   "id": "18371256",
   "metadata": {
    "tags": [
     "papermill-error-cell-tag"
    ]
   },
   "source": [
    "<span id=\"papermill-error-cell\" style=\"color:red; font-family:Helvetica Neue, Helvetica, Arial, sans-serif; font-size:2em;\">Execution using papermill encountered an exception here and stopped:</span>"
   ]
  },
  {
   "cell_type": "code",
   "execution_count": 2,
   "id": "b6836716-87ea-4586-90cc-c3a3255f25d3",
   "metadata": {
    "execution": {
     "iopub.execute_input": "2024-11-11T09:11:14.840752Z",
     "iopub.status.busy": "2024-11-11T09:11:14.840569Z",
     "iopub.status.idle": "2024-11-11T09:11:15.387143Z",
     "shell.execute_reply": "2024-11-11T09:11:15.386093Z"
    },
    "papermill": {
     "duration": 0.552914,
     "end_time": "2024-11-11T09:11:15.388170",
     "exception": true,
     "start_time": "2024-11-11T09:11:14.835256",
     "status": "failed"
    },
    "tags": []
   },
   "outputs": [
    {
     "data": {
      "text/html": [
       "<pre style=\"white-space:pre;overflow-x:auto;line-height:normal;font-family:Menlo,'DejaVu Sans Mono',consolas,'Courier New',monospace\"><span style=\"color: #800000; text-decoration-color: #800000\">╭─────────────────────────────── </span><span style=\"color: #800000; text-decoration-color: #800000; font-weight: bold\">Traceback </span><span style=\"color: #bf7f7f; text-decoration-color: #bf7f7f; font-weight: bold\">(most recent call last)</span><span style=\"color: #800000; text-decoration-color: #800000\"> ────────────────────────────────╮</span>\n",
       "<span style=\"color: #800000; text-decoration-color: #800000\">│</span> in <span style=\"color: #00ff00; text-decoration-color: #00ff00\">&lt;module&gt;</span>:<span style=\"color: #0000ff; text-decoration-color: #0000ff\">9</span>                                                                                    <span style=\"color: #800000; text-decoration-color: #800000\">│</span>\n",
       "<span style=\"color: #800000; text-decoration-color: #800000\">│</span>                                                                                                  <span style=\"color: #800000; text-decoration-color: #800000\">│</span>\n",
       "<span style=\"color: #800000; text-decoration-color: #800000\">│</span>   <span style=\"color: #7f7f7f; text-decoration-color: #7f7f7f\"> 6 </span><span style=\"color: #0000ff; text-decoration-color: #0000ff\">import</span> <span style=\"color: #00ffff; text-decoration-color: #00ffff; text-decoration: underline\">yaml</span>                                                                                 <span style=\"color: #800000; text-decoration-color: #800000\">│</span>\n",
       "<span style=\"color: #800000; text-decoration-color: #800000\">│</span>   <span style=\"color: #7f7f7f; text-decoration-color: #7f7f7f\"> 7 </span>                                                                                            <span style=\"color: #800000; text-decoration-color: #800000\">│</span>\n",
       "<span style=\"color: #800000; text-decoration-color: #800000\">│</span>   <span style=\"color: #7f7f7f; text-decoration-color: #7f7f7f\"> 8 </span><span style=\"color: #0000ff; text-decoration-color: #0000ff\">from</span> <span style=\"color: #00ffff; text-decoration-color: #00ffff; text-decoration: underline\">vessel_manoeuvring_models.visualization.plot</span> <span style=\"color: #0000ff; text-decoration-color: #0000ff\">import</span> track_plot, plot                   <span style=\"color: #800000; text-decoration-color: #800000\">│</span>\n",
       "<span style=\"color: #800000; text-decoration-color: #800000\">│</span> <span style=\"color: #800000; text-decoration-color: #800000\">❱ </span> 9 <span style=\"color: #0000ff; text-decoration-color: #0000ff\">from</span> <span style=\"color: #00ffff; text-decoration-color: #00ffff; text-decoration: underline\">phd.visualization.plot_ship</span> <span style=\"color: #0000ff; text-decoration-color: #0000ff\">import</span> track_plots                                         <span style=\"color: #800000; text-decoration-color: #800000\">│</span>\n",
       "<span style=\"color: #800000; text-decoration-color: #800000\">│</span>   <span style=\"color: #7f7f7f; text-decoration-color: #7f7f7f\">10 </span><span style=\"color: #0000ff; text-decoration-color: #0000ff\">from</span> <span style=\"color: #00ffff; text-decoration-color: #00ffff; text-decoration: underline\">vessel_manoeuvring_models.prime_system</span> <span style=\"color: #0000ff; text-decoration-color: #0000ff\">import</span> PrimeSystem                              <span style=\"color: #800000; text-decoration-color: #800000\">│</span>\n",
       "<span style=\"color: #800000; text-decoration-color: #800000\">│</span>   <span style=\"color: #7f7f7f; text-decoration-color: #7f7f7f\">11 </span><span style=\"color: #0000ff; text-decoration-color: #0000ff\">from</span> <span style=\"color: #00ffff; text-decoration-color: #00ffff; text-decoration: underline\">phd.visualization.plot_prediction</span> <span style=\"color: #0000ff; text-decoration-color: #0000ff\">import</span> plot_total_force, plot_force_components, p    <span style=\"color: #800000; text-decoration-color: #800000\">│</span>\n",
       "<span style=\"color: #800000; text-decoration-color: #800000\">│</span>   <span style=\"color: #7f7f7f; text-decoration-color: #7f7f7f\">12 </span><span style=\"color: #0000ff; text-decoration-color: #0000ff\">from</span> <span style=\"color: #00ffff; text-decoration-color: #00ffff; text-decoration: underline\">vessel_manoeuvring_models.symbols</span> <span style=\"color: #0000ff; text-decoration-color: #0000ff\">import</span> *                                             <span style=\"color: #800000; text-decoration-color: #800000\">│</span>\n",
       "<span style=\"color: #800000; text-decoration-color: #800000\">╰──────────────────────────────────────────────────────────────────────────────────────────────────╯</span>\n",
       "<span style=\"color: #ff0000; text-decoration-color: #ff0000; font-weight: bold\">ModuleNotFoundError: </span>No module named <span style=\"color: #008000; text-decoration-color: #008000\">'phd'</span>\n",
       "</pre>\n"
      ],
      "text/plain": [
       "\u001b[31m╭─\u001b[0m\u001b[31m──────────────────────────────\u001b[0m\u001b[31m \u001b[0m\u001b[1;31mTraceback \u001b[0m\u001b[1;2;31m(most recent call last)\u001b[0m\u001b[31m \u001b[0m\u001b[31m───────────────────────────────\u001b[0m\u001b[31m─╮\u001b[0m\n",
       "\u001b[31m│\u001b[0m in \u001b[92m<module>\u001b[0m:\u001b[94m9\u001b[0m                                                                                    \u001b[31m│\u001b[0m\n",
       "\u001b[31m│\u001b[0m                                                                                                  \u001b[31m│\u001b[0m\n",
       "\u001b[31m│\u001b[0m   \u001b[2m 6 \u001b[0m\u001b[94mimport\u001b[0m \u001b[4;96myaml\u001b[0m                                                                                 \u001b[31m│\u001b[0m\n",
       "\u001b[31m│\u001b[0m   \u001b[2m 7 \u001b[0m                                                                                            \u001b[31m│\u001b[0m\n",
       "\u001b[31m│\u001b[0m   \u001b[2m 8 \u001b[0m\u001b[94mfrom\u001b[0m \u001b[4;96mvessel_manoeuvring_models\u001b[0m\u001b[4;96m.\u001b[0m\u001b[4;96mvisualization\u001b[0m\u001b[4;96m.\u001b[0m\u001b[4;96mplot\u001b[0m \u001b[94mimport\u001b[0m track_plot, plot                   \u001b[31m│\u001b[0m\n",
       "\u001b[31m│\u001b[0m \u001b[31m❱ \u001b[0m 9 \u001b[94mfrom\u001b[0m \u001b[4;96mphd\u001b[0m\u001b[4;96m.\u001b[0m\u001b[4;96mvisualization\u001b[0m\u001b[4;96m.\u001b[0m\u001b[4;96mplot_ship\u001b[0m \u001b[94mimport\u001b[0m track_plots                                         \u001b[31m│\u001b[0m\n",
       "\u001b[31m│\u001b[0m   \u001b[2m10 \u001b[0m\u001b[94mfrom\u001b[0m \u001b[4;96mvessel_manoeuvring_models\u001b[0m\u001b[4;96m.\u001b[0m\u001b[4;96mprime_system\u001b[0m \u001b[94mimport\u001b[0m PrimeSystem                              \u001b[31m│\u001b[0m\n",
       "\u001b[31m│\u001b[0m   \u001b[2m11 \u001b[0m\u001b[94mfrom\u001b[0m \u001b[4;96mphd\u001b[0m\u001b[4;96m.\u001b[0m\u001b[4;96mvisualization\u001b[0m\u001b[4;96m.\u001b[0m\u001b[4;96mplot_prediction\u001b[0m \u001b[94mimport\u001b[0m plot_total_force, plot_force_components, p    \u001b[31m│\u001b[0m\n",
       "\u001b[31m│\u001b[0m   \u001b[2m12 \u001b[0m\u001b[94mfrom\u001b[0m \u001b[4;96mvessel_manoeuvring_models\u001b[0m\u001b[4;96m.\u001b[0m\u001b[4;96msymbols\u001b[0m \u001b[94mimport\u001b[0m *                                             \u001b[31m│\u001b[0m\n",
       "\u001b[31m╰──────────────────────────────────────────────────────────────────────────────────────────────────╯\u001b[0m\n",
       "\u001b[1;91mModuleNotFoundError: \u001b[0mNo module named \u001b[32m'phd'\u001b[0m\n"
      ]
     },
     "metadata": {},
     "output_type": "display_data"
    }
   ],
   "source": [
    "import pandas as pd\n",
    "pd.set_option('display.max_rows', 5000)\n",
    "pd.set_option('display.max_columns', 5000)\n",
    "pd.set_option('display.width', 10000)\n",
    "import numpy as np\n",
    "import yaml\n",
    "\n",
    "from vessel_manoeuvring_models.visualization.plot import track_plot, plot\n",
    "from phd.visualization.plot_ship import track_plots\n",
    "from vessel_manoeuvring_models.prime_system import PrimeSystem\n",
    "from phd.visualization.plot_prediction import plot_total_force, plot_force_components, predict, plot_compare_model_forces, plot_parameter_contributions, group_parameters, joined_parameter_contributions, same_ylims\n",
    "from vessel_manoeuvring_models.symbols import *\n",
    "import matplotlib.pyplot as plt\n",
    "from vessel_manoeuvring_models.substitute_dynamic_symbols import run, lambdify, remove_functions, prime\n",
    "from vessel_manoeuvring_models.parameters import df_parameters\n",
    "p = df_parameters[\"symbol\"]\n",
    "import sympy as sp\n",
    "from sympy import Eq, symbols, latex\n",
    "from phd.pipelines.load_wPCC.nodes import preprocess,zigzag_angle\n",
    "from phd.pipelines.resimulate_with_autopilot.nodes import simulate_closed_loop, postprocess\n",
    "from phd.visualization.plot_vct import plot_VCT, flat_keys\n",
    "\n",
    "import paper\n",
    "from paper import styles\n",
    "from phd.visualization.units import units"
   ]
  },
  {
   "cell_type": "code",
   "execution_count": null,
   "id": "f1b9e2b9-088b-477a-bba1-75b61c1438d3",
   "metadata": {
    "papermill": {
     "duration": null,
     "end_time": null,
     "exception": null,
     "start_time": null,
     "status": "pending"
    },
    "tags": []
   },
   "outputs": [],
   "source": [
    "ship_name = \"optiwise\""
   ]
  },
  {
   "cell_type": "code",
   "execution_count": null,
   "id": "82e3a01e-bbf2-46ae-a632-740bab99f494",
   "metadata": {
    "papermill": {
     "duration": null,
     "end_time": null,
     "exception": null,
     "start_time": null,
     "status": "pending"
    },
    "tags": []
   },
   "outputs": [],
   "source": [
    "loaders = {\n",
    "    \"polynomial rudder\" : catalog.load(f\"{ship_name}.models_VCT_polynomial_rudder_MDL\")['simple'],\n",
    "    \"semiempirical rudder\" : catalog.load(f\"{ship_name}.models_VCT_MDL\")['semiempirical_covered_inertia'],\n",
    "}"
   ]
  },
  {
   "cell_type": "code",
   "execution_count": null,
   "id": "738f51a0-778e-40ce-93be-53f5a78f029c",
   "metadata": {
    "papermill": {
     "duration": null,
     "end_time": null,
     "exception": null,
     "start_time": null,
     "status": "pending"
    },
    "tags": []
   },
   "outputs": [],
   "source": [
    "models = {name:loader() for name,loader in loaders.items()}"
   ]
  },
  {
   "cell_type": "markdown",
   "id": "dc2ecd12-07c9-43a4-9948-1514f7a5691b",
   "metadata": {
    "papermill": {
     "duration": null,
     "end_time": null,
     "exception": null,
     "start_time": null,
     "status": "pending"
    },
    "tags": []
   },
   "source": [
    "## ID"
   ]
  },
  {
   "cell_type": "code",
   "execution_count": null,
   "id": "7759c1a8-b39e-4ccd-8751-ab2c443cbaff",
   "metadata": {
    "papermill": {
     "duration": null,
     "end_time": null,
     "exception": null,
     "start_time": null,
     "status": "pending"
    },
    "tags": []
   },
   "outputs": [],
   "source": [
    "meta_data_all = catalog.load(f\"{ship_name}.time_series_meta_data\")\n",
    "id_exists = [int(key) for key in catalog.load(f\"{ship_name}.tests_ek_smooth1\").keys()]\n",
    "#id_exists = [int(key) for key in catalog.load(f\"{ship_name}.tests_ek1\").keys()]\n",
    "\n",
    "ids = sorted(list(set(id_exists) & set(meta_data_all.index)))\n",
    "\n",
    "meta_data_all = meta_data_all.loc[ids].copy()\n",
    "#ids = [int(key) for key in catalog.load(\"wPCC.tests_ek_smooth1\").keys()]\n",
    "\n",
    "mask = ((meta_data_all['test_type'] == 'zigzag') & (meta_data_all['ship_speed'] > 0.9))\n",
    "\n",
    "meta_datas = meta_data_all.loc[mask].copy()\n",
    "\n",
    "ids = [\n",
    "    23590,\n",
    "    23591,\n",
    "    23594,\n",
    "    23596,\n",
    "]\n",
    "meta_datas = meta_datas.loc[ids].copy()\n",
    "meta_datas['angle'] = [\n",
    "    -10,\n",
    "    10,\n",
    "    -20,\n",
    "    20,\n",
    "]"
   ]
  },
  {
   "cell_type": "code",
   "execution_count": null,
   "id": "e8e4d6e7-cb42-4592-bafb-d80c03ea14c7",
   "metadata": {
    "papermill": {
     "duration": null,
     "end_time": null,
     "exception": null,
     "start_time": null,
     "status": "pending"
    },
    "tags": []
   },
   "outputs": [],
   "source": [
    "for id, meta_data in meta_datas.iterrows():\n",
    "\n",
    "    df_EKF_smooth = catalog.load(f\"{ship_name}.tests_ek_smooth1\")[str(id)]()\n",
    "    df_EKF_smooth['U'] = np.sqrt(df_EKF_smooth['u']**2 + df_EKF_smooth['v']**2)\n",
    "    #df_EKF_smooth['thrust'] = df_EKF_smooth['thrust_port'] + df_EKF_smooth['thrust_stbd']\n",
    "    #data = load(id=id, catalog=catalog, smooth=False)\n",
    "    #data = filter(data,cutoff=1)\n",
    "    #data = data.iloc[100:-100].copy()\n",
    "\n",
    "    if id==22774:\n",
    "        #data=data.loc[0:70].copy()\n",
    "        df_EKF_smooth = df_EKF_smooth.loc[0:70].copy()\n",
    "\n",
    "\n",
    "    fig = plot_compare_model_forces(model=models['polynomial rudder'], models=models, data=df_EKF_smooth, styles=styles, keys=['N_D','Y_D'], delta_corners=False);\n",
    "    #fig = plot_compare_model_forces(model=models[\"ID small\"], models=models, data=df_EKF_smooth, styles=styles, keys=['N_VCT','Y_VCT','N_H','N_R'], delta_corners=False);\n",
    "    \n",
    "    #fig.axes[-1].legend(loc='upper center', bbox_to_anchor=(0.05, 2.2), ncol=1)\n",
    "    #fig.axes[0].legend(loc='upper center', bbox_to_anchor=(0.25, 2.2), ncol=3)\n",
    "    fig.axes[1].legend(loc='upper center', bbox_to_anchor=(0.45, 1.30), ncol=3)\n",
    "    #fig.axes[1].legend(bbox_to_anchor=(0.7, 1.5), ncol=5)\n",
    "    #fig.axes[1].legend(ncol=3)\n",
    "    \n",
    "    for ax in fig.axes[1:5]:\n",
    "        ylims = ax.get_ylim()\n",
    "        ylims = [min([ylims[0],-30]), max([ylims[1],30]),]\n",
    "        ax.set_ylim(ylims)\n",
    "    \n",
    "    direction = \"port\" if meta_data['angle'] > 0 else \"stbd\"\n",
    "    name = f\"{meta_data['test_type']} {meta_data['angle1']:0.0f}/{meta_data['angle1']:0.0f} {direction}\"\n",
    "    fig.suptitle(name)\n",
    "\n",
    "    file_name = name.replace(\"/\",\"_\")\n",
    "    paper.save_fig(fig, f\"{file_name}.svg\")\n"
   ]
  },
  {
   "cell_type": "code",
   "execution_count": null,
   "id": "d61540bd-6a19-46ca-a63d-1257dbffd8a9",
   "metadata": {
    "papermill": {
     "duration": null,
     "end_time": null,
     "exception": null,
     "start_time": null,
     "status": "pending"
    },
    "tags": []
   },
   "outputs": [],
   "source": [
    "\n",
    "\n",
    "id=23594\n",
    "df_EKF_smooth = catalog.load(f\"{ship_name}.tests_ek_smooth1\")[str(id)]()\n",
    "df_EKF_smooth['U'] = np.sqrt(df_EKF_smooth['u']**2 + df_EKF_smooth['v']**2)\n",
    "\n",
    "fig,ax=plt.subplots()\n",
    "models['semiempirical rudder'].forces_from_motions(df_EKF_smooth).plot(y='Y_D',ax=ax)\n",
    "predict(model=models['semiempirical rudder'], data=df_EKF_smooth).plot(y='Y_D', ax=ax)\n",
    "\n",
    "fig,ax=plt.subplots()\n",
    "models['semiempirical rudder'].forces_from_motions(df_EKF_smooth).plot(y='N_D',ax=ax)\n",
    "predict(model=models['semiempirical rudder'], data=df_EKF_smooth).plot(y='N_D', ax=ax)"
   ]
  },
  {
   "cell_type": "markdown",
   "id": "5cde5d47-93bd-4575-92b5-01c86feb1a64",
   "metadata": {
    "papermill": {
     "duration": null,
     "end_time": null,
     "exception": null,
     "start_time": null,
     "status": "pending"
    },
    "tags": []
   },
   "source": [
    "## Closed loop simulation"
   ]
  },
  {
   "cell_type": "code",
   "execution_count": null,
   "id": "31f1f329-f608-47b4-8b7b-0351925369ad",
   "metadata": {
    "papermill": {
     "duration": null,
     "end_time": null,
     "exception": null,
     "start_time": null,
     "status": "pending"
    },
    "tags": []
   },
   "outputs": [],
   "source": [
    "for angle, group in meta_datas.groupby(by='angle1'):\n",
    "\n",
    "    fig,ax=plt.subplots()\n",
    "    include_label=True\n",
    "    \n",
    "    for id, meta_data in group.iterrows():\n",
    "    \n",
    "        df_EKF_smooth = catalog.load(f\"{ship_name}.tests_ek_smooth1\")[str(id)]()\n",
    "        df_EKF_smooth['U'] = np.sqrt(df_EKF_smooth['u']**2 + df_EKF_smooth['v']**2)\n",
    "    \n",
    "        dataframes = {'Experiment':df_EKF_smooth}\n",
    "        \n",
    "        for model_name, model in models.items():\n",
    "        \n",
    "            data = preprocess(df_EKF_smooth,ship_data=model.ship_parameters)\n",
    "            #angle = zigzag_angle(data_MDL=data)\n",
    "        \n",
    "            df_simulation = simulate_closed_loop(model=model,data=data)\n",
    "        \n",
    "            direction = \"port\" if meta_data['angle'] > 0 else \"stbd\"\n",
    "            name = f\"{meta_data['test_type']} {meta_data['angle1']:0.0f}/{meta_data['angle1']:0.0f} {direction} {model_name}\"\n",
    "        \n",
    "            dataframes[model_name] = df_simulation\n",
    "    \n",
    "        track_plots(dataframes, lpp=model.ship_parameters['L'], beam=model.ship_parameters['B'], include_wind=False, styles=styles, ax=ax, include_label=include_label);\n",
    "        fig = ax.get_figure()\n",
    "        direction = \"port\" if meta_data['angle'] > 0 else \"stbd\"\n",
    "        name = f\"{meta_data['test_type']} {meta_data['angle1']:0.0f}/{meta_data['angle1']:0.0f}\"\n",
    "        fig.suptitle(name)\n",
    "        file_name = name.replace(\"/\",\"_\")\n",
    "        paper.save_fig(fig, f\"track plot {file_name}.svg\")\n",
    "        \n",
    "        fig = plot(dataframes, keys=['psi','beta','V','delta'], units=units, styles=styles, ncols=2, include_label=include_label);\n",
    "        name = f\"{meta_data['test_type']} {meta_data['angle1']:0.0f}/{meta_data['angle1']:0.0f} {direction}\"\n",
    "        fig.suptitle(name)\n",
    "        file_name = name.replace(\"/\",\"_\")\n",
    "        paper.save_fig(fig, f\"closed loop {file_name}.svg\")\n",
    "        \n",
    "        \n",
    "        include_label=False"
   ]
  },
  {
   "cell_type": "code",
   "execution_count": null,
   "id": "d456a689-1aa5-49c6-bfa5-9bc620c247e4",
   "metadata": {
    "papermill": {
     "duration": null,
     "end_time": null,
     "exception": null,
     "start_time": null,
     "status": "pending"
    },
    "tags": []
   },
   "outputs": [],
   "source": [
    "styles"
   ]
  },
  {
   "cell_type": "code",
   "execution_count": null,
   "id": "993190bc-7878-4b15-8626-85422f9f18e6",
   "metadata": {
    "papermill": {
     "duration": null,
     "end_time": null,
     "exception": null,
     "start_time": null,
     "status": "pending"
    },
    "tags": []
   },
   "outputs": [],
   "source": []
  },
  {
   "cell_type": "code",
   "execution_count": null,
   "id": "fada0180-6d26-4e44-9c11-f8b24c8bf92a",
   "metadata": {
    "papermill": {
     "duration": null,
     "end_time": null,
     "exception": null,
     "start_time": null,
     "status": "pending"
    },
    "tags": []
   },
   "outputs": [],
   "source": []
  }
 ],
 "metadata": {
  "kernelspec": {
   "display_name": "Kedro (phd)",
   "language": "python",
   "name": "kedro_phd"
  },
  "language_info": {
   "codemirror_mode": {
    "name": "ipython",
    "version": 3
   },
   "file_extension": ".py",
   "mimetype": "text/x-python",
   "name": "python",
   "nbconvert_exporter": "python",
   "pygments_lexer": "ipython3",
   "version": "3.10.0"
  },
  "papermill": {
   "default_parameters": {},
   "duration": 2.111675,
   "end_time": "2024-11-11T09:11:15.807531",
   "environment_variables": {},
   "exception": true,
   "input_path": "/home/maa/dev/PHD/docs/notebooks_paper_5/results_optiwise_ID.ipynb",
   "output_path": "/home/maa/dev/PHD/docs/notebooks_paper_5/output.ipynb",
   "parameters": {},
   "start_time": "2024-11-11T09:11:13.695856",
   "version": "2.6.0"
  }
 },
 "nbformat": 4,
 "nbformat_minor": 5
}