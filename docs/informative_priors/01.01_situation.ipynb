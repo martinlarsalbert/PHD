{
 "cells": [
  {
   "cell_type": "markdown",
   "id": "f7ae816c-0859-4145-ad55-55184919d6e0",
   "metadata": {},
   "source": [
    "# Virtual Captive Tests (VCT)\n",
    "A dataset from a Virtual Captive Test (VCT) (see {numref}`reference_frame`) is used to highlight the problem with multicollinearity in linear regression.\n",
    "Bayesian inference with informative priors are explored as a way to mitigate this problem.\n",
    "\n",
    "```{figure} reference_frame.png\n",
    "---\n",
    "name: reference_frame\n",
    "---\n",
    "Drift angle test - measuring the forces at a certain speed and drift angle.\n",
    "```"
   ]
  },
  {
   "cell_type": "markdown",
   "id": "f34d8f9d-1820-4901-802f-9478ceec238a",
   "metadata": {
    "tags": [
     "remove_cell"
    ]
   },
   "source": [
    "![](reference_frame.png)"
   ]
  },
  {
   "cell_type": "code",
   "execution_count": null,
   "id": "ed6b34b9-d6db-47b6-9a23-6e6c333120c1",
   "metadata": {
    "tags": [
     "remove_cell"
    ]
   },
   "outputs": [],
   "source": [
    "import warnings\n",
    "warnings.filterwarnings('ignore')\n",
    "%matplotlib inline\n",
    "%load_ext autoreload\n",
    "%autoreload 2\n",
    "%config Completer.use_jedi = False"
   ]
  },
  {
   "cell_type": "code",
   "execution_count": null,
   "id": "3e0ef0e8-a120-40cc-904f-c5a7c8668353",
   "metadata": {
    "tags": [
     "remove_cell"
    ]
   },
   "outputs": [],
   "source": [
    "# Import pyMC3 and also arviz for visualisation\n",
    "import pymc as pm\n",
    "import arviz as az\n",
    "import sympy as sp\n",
    "import pandas as pd\n",
    "import numpy as np\n",
    "import statsmodels.api as sm\n",
    "\n",
    "\n",
    "import symseaman as ss\n",
    "from symseaman.substitute_dynamic_symbols import lambdify, remove_bis_eq, run, standard_substitutes\n",
    "from symseaman.seaman_symbols import *\n",
    "from vct.bis_system import BisSystem"
   ]
  },
  {
   "cell_type": "code",
   "execution_count": null,
   "id": "026561d1-7e8e-4558-b2b6-2a019e341757",
   "metadata": {
    "tags": [
     "remove_cell"
    ]
   },
   "outputs": [],
   "source": [
    "import sympy as sp\n",
    "from symseaman.seaman_symbols import *\n",
    "from symseaman.substitute_dynamic_symbols import run, lambdify, standard_substitutes, remove_bis, remove_bis_eq, standard_substitutes_eq, lower_and_abs\n",
    "from symseaman.seaman_symbol import BisSymbol\n",
    "import symseaman as ss\n",
    "from symseaman.seaman_symbol import expand_bis\n",
    "from symseaman.shipdict import ShipDict\n",
    "import pandas as pd\n",
    "pd.set_option('display.max_rows', 5000)\n",
    "pd.set_option('display.max_columns', 5000)\n",
    "pd.set_option('display.width', 10000)\n",
    "pd.set_option('max_colwidth', -1)\n",
    "import numpy as np\n",
    "import matplotlib.pyplot as plt\n",
    "#plt.rcParams['figure.figsize'] = 9,7\n",
    "#plt.style.use('bmh')\n",
    "import vct.bokeh_plotting as bokeh_plotting\n",
    "from numpy.testing import assert_almost_equal\n",
    "from scipy.interpolate import interp1d\n",
    "from symseaman.calculate import calculate_ship\n",
    "from symseaman.to_matrix import matrix_form, matrix_form_standard, exclude, exclude_derivatives\n",
    "from functools import reduce\n",
    "from operator import add\n",
    "from vct.regression_ols import Regression, RegressionPipeline\n",
    "import dill\n",
    "import seaborn as sns\n",
    "from myst_nb import glue"
   ]
  },
  {
   "cell_type": "code",
   "execution_count": null,
   "id": "8b298ca0-9563-483e-87fa-7dcee11400b6",
   "metadata": {
    "tags": [
     "remove_cell"
    ]
   },
   "outputs": [],
   "source": [
    "# Read configs:\n",
    "import anyconfig\n",
    "globals_path = \"../../conf/base/globals.yml\"\n",
    "global_variables = anyconfig.load(globals_path)\n",
    "ships = global_variables[\"ships\"]\n",
    "from vct.bis_system import BisSystem\n",
    "import statsmodels.api as sm\n",
    "from scipy.stats import norm\n",
    "from vct.regression_ols import data_to_bis\n",
    "from scipy.stats import norm, multivariate_normal\n",
    "from regression_ols import fit\n",
    "\n",
    "import matplotlib.pyplot as plt\n",
    "plt.style.use('jupyter')\n",
    "#az.style.use(\"arviz-grayscale\")"
   ]
  },
  {
   "cell_type": "code",
   "execution_count": null,
   "id": "00379312-00c4-42f8-b8dc-b370f97cf3d8",
   "metadata": {
    "tags": [
     "remove_cell"
    ]
   },
   "outputs": [],
   "source": [
    "%reload_kedro\n",
    "ship_name=ships[0]\n",
    "shipdict = catalog.load(f\"{ship_name}.shipdict_base\")\n",
    "ship_dict_from_regression = catalog.load(f\"{ ship_name }.ship_dict_from_regression\")\n",
    "\n",
    "df_VCT = catalog.load(f\"{ship_name}.df_VCT\")\n",
    "df_VCT['g'] = df_VCT['g'].fillna(method='pad')\n",
    "df_VCT['rho'] = df_VCT['rho'].fillna(method='pad')\n",
    "df_VCT['beta_deg'] = np.rad2deg(df_VCT['beta'])\n",
    "\n",
    "df_VCT['fx_hull'] = df_VCT['fx']  # Not true but works for this example...\n",
    "df_VCT['fy_hull'] = df_VCT['fy']  # Not true but works for this example...\n",
    "df_VCT['mz_hull'] = df_VCT['mz']  # Not true but works for this example...\n",
    "\n",
    "thrust_keys = catalog.load(f\"params:{ship_name}.thrust_keys\")\n",
    "\n",
    "if len(thrust_keys) > 0:\n",
    "    df_VCT['tprop'] = df_VCT[thrust_keys[0]]\n",
    "else:\n",
    "    df_VCT['tprop'] = 0\n",
    "    thrust_keys=['tprop']\n",
    "    \n",
    "derivatives = catalog.load(f\"{ship_name}.derivatives\")[\"OLS\"]\n",
    "derivatives_std = catalog.load(f\"{ship_name}.derivatives_std\")[\"OLS\"]"
   ]
  },
  {
   "cell_type": "markdown",
   "id": "987f9971-e8f9-41fa-9f59-8961e60f47a3",
   "metadata": {},
   "source": [
    "```{glue:figure} vct_drift\n",
    ":name: \"vct_drift\"\n",
    "\n",
    "Transverse force from drift angle variations with VCT for two ship speeds.\n",
    "```"
   ]
  },
  {
   "cell_type": "code",
   "execution_count": null,
   "id": "11235bfc-51cf-4de1-9a53-aa36526a5ff4",
   "metadata": {
    "tags": [
     "remove_cell"
    ]
   },
   "outputs": [],
   "source": [
    "df_ = df_VCT.groupby(by='test type').get_group('Drift angle')\n",
    "fig,ax=plt.subplots()\n",
    "for V_, group in df_.groupby(by='V'):\n",
    "    group.plot(x='beta_deg', y='fy', style='x', label=f\"V={np.round(V_,decimals=1)} [m/s]\", ax=ax)\n",
    "ax.set_xlabel(r'Drift angle $\\beta$ $[deg]$')\n",
    "ax.set_ylabel(r'Transverse force $F_y$ $[N]$');\n",
    "glue(\"vct_drift\",fig, display=False)"
   ]
  },
  {
   "cell_type": "markdown",
   "id": "1501753f-92f8-475d-90da-ce5748accb0d",
   "metadata": {},
   "source": [
    "A model to describe the transverse force as function of: the longitudinal speed $u$ and transverse speed $v$ together with the hydrodynamic derivatives (parameters) $Y_{v|v|}$, $Y_{uv}$, and $Y_{uuv}$:\n",
    "\n",
    "```{glue:math} eqsway\n",
    ":name: \"eqsway\"\n",
    "```"
   ]
  },
  {
   "cell_type": "code",
   "execution_count": null,
   "id": "e89624a1-97cf-41e5-a81a-432d85264bf8",
   "metadata": {
    "tags": [
     "remove_cell"
    ]
   },
   "outputs": [],
   "source": [
    "eq = ss.equations.hull.sway.eq_expanded.subs([\n",
    "    (phi.bis,0),\n",
    "    (r_w.bis,0),\n",
    "    (delta,0),\n",
    "    #(Y_uuv,0), # Note!\n",
    "    (Y_h.bis, 'F_y'),\n",
    "    (u_w.bis, 'u'),\n",
    "    (v_w.bis, 'v'),\n",
    "    \n",
    "    ])\n",
    "glue(\"eqsway\",remove_bis_eq(eq))"
   ]
  },
  {
   "cell_type": "markdown",
   "id": "5f074ffc-18bd-4c42-9646-2f59e4584133",
   "metadata": {
    "tags": []
   },
   "source": [
    "### Regression"
   ]
  },
  {
   "cell_type": "code",
   "execution_count": null,
   "id": "db452aaf-b277-4ab7-b5b9-ea06a7246580",
   "metadata": {
    "tags": [
     "remove_cell"
    ]
   },
   "outputs": [],
   "source": [
    "pipeline, df_bis = fit(df_VCT=df_VCT, shipdict=shipdict)\n",
    "pre_set_derivatives_0 = {}\n",
    "regression = pipeline['drift']"
   ]
  },
  {
   "cell_type": "code",
   "execution_count": null,
   "id": "2cf8da07-0b44-4b04-99da-f721de1f510f",
   "metadata": {
    "tags": [
     "remove_cell"
    ]
   },
   "outputs": [],
   "source": [
    "regression.eq_excluded"
   ]
  },
  {
   "cell_type": "code",
   "execution_count": null,
   "id": "65ed13e7-9751-4524-b24d-fdb2e02bbcbb",
   "metadata": {
    "tags": [
     "remove_cell"
    ]
   },
   "outputs": [],
   "source": [
    "pre_set_derivatives_0 = {}\n",
    "y,X=regression.label_and_features(derivatives=pre_set_derivatives_0, meta_data=pipeline.meta_data)"
   ]
  },
  {
   "cell_type": "markdown",
   "id": "a730b97b-da3f-49b8-9722-c79120cd1379",
   "metadata": {},
   "source": [
    "Estimation of the hydrodynamic derivatives can be formulated as a linear regression problem:\n",
    "```{math}\n",
    ":label: regression\n",
    "y = X \\beta + \\epsilon\n",
    "```\n",
    "\n",
    "Tthe feature matrix $X$ contains polynomials of the state ($u$ and $v$ here) namely: $u^2 \\cdot v$, $u \\cdot v$, and $v \\cdot |v|$ as given in the following table:\n",
    "\n",
    "```{glue:figure} features\n",
    ":name: \"features\"\n",
    "\n",
    "Feature matrix $X$.\n",
    "```"
   ]
  },
  {
   "cell_type": "code",
   "execution_count": null,
   "id": "e91771bc-fef5-4c9c-9fce-0538faacec76",
   "metadata": {
    "tags": [
     "remove_cell"
    ]
   },
   "outputs": [],
   "source": [
    "glue(\"features\",X.style.hide_index())"
   ]
  },
  {
   "cell_type": "code",
   "execution_count": null,
   "id": "fac49d45-1e9d-48f0-a90b-74da6e9ad9ff",
   "metadata": {
    "tags": [
     "remove_cell"
    ]
   },
   "outputs": [],
   "source": [
    "eq = ss.equations.hull.sway.eq_expanded.subs([\n",
    "    (phi.bis,0),\n",
    "    (r_w.bis,0),\n",
    "    (delta,0),\n",
    "    #(Y_uuv,0), # Note!\n",
    "    \n",
    "    ])\n",
    "eq"
   ]
  },
  {
   "cell_type": "code",
   "execution_count": null,
   "id": "af302844-9cf9-464f-bacf-b8185a864057",
   "metadata": {
    "tags": [
     "remove_cell"
    ]
   },
   "outputs": [],
   "source": [
    "lambda_sway = lambdify(eq, convert_to_SI=True)"
   ]
  },
  {
   "cell_type": "code",
   "execution_count": null,
   "id": "6df9bdbb-d903-419d-a2ed-14c587813309",
   "metadata": {
    "tags": [
     "remove_cell"
    ]
   },
   "outputs": [],
   "source": [
    "df_ = df_VCT.groupby(by='test type').get_group('Drift angle')\n",
    "df_predict = df_.copy()\n",
    "df_predict['fy_ols'] = run(function=lambda_sway, inputs=df_, l=shipdict.main_data['l'], disp=shipdict.design_particulars['disp'], **regression.regression.params)"
   ]
  },
  {
   "cell_type": "markdown",
   "id": "22917539-533f-4c93-b4b9-b23fe0affb2b",
   "metadata": {},
   "source": [
    "```{glue:figure} ols_regression\n",
    ":name: \"ols_regression\"\n",
    "\n",
    "Fitted model with multiple ordinary least square (OLS) regression.\n",
    "```"
   ]
  },
  {
   "cell_type": "code",
   "execution_count": null,
   "id": "e4011c42-557e-4fe4-9e8e-20a4143e6105",
   "metadata": {
    "tags": [
     "remove_cell"
    ]
   },
   "outputs": [],
   "source": [
    "fig,ax=plt.subplots()\n",
    "for V_, group in df_predict.groupby(by='V'):\n",
    "    plot = group.plot(x='beta_deg', y='fy', style='x', label=f\"V={np.round(V_,decimals=1)} [m/s]\", ax=ax)\n",
    "    color = plot.lines[-1].get_color()\n",
    "    group.plot(x='beta_deg', y='fy_ols', style='--', color=color, label=f\"OLS V={np.round(V_,decimals=1)} [m/s]\", zorder=-10, ax=ax)\n",
    "\n",
    "    ax.set_xlabel(r'Drift angle $\\beta$ $[deg]$')\n",
    "ax.set_ylabel(r'Transverse force $F_y$ $[N]$');\n",
    "glue(\"ols_regression\",fig, display=False)"
   ]
  },
  {
   "cell_type": "markdown",
   "id": "8dd3bb61-3fec-4e7c-8711-1b05083e8902",
   "metadata": {},
   "source": [
    "The regressed model seems to fit the data reasonably well - as seen in {numref}`ols_regression`. There is however high [**multicollinearity**](https://en.wikipedia.org/wiki/Multicollinearity) in this model, with high correlation between the features associated with each derivative as seen in {numref}`pairplot` and {numref}`corr`. \n",
    "\n",
    "```{glue:figure} pairplot\n",
    ":name: \"pairplot\"\n",
    "\n",
    "There is a high correlation between the features associated with each derivative.\n",
    "```\n",
    "\n",
    "```{glue:figure} corr\n",
    ":name: \"corr\"\n",
    "\n",
    "There is a high correlation between the features associated with each derivative.\n",
    "```"
   ]
  },
  {
   "cell_type": "code",
   "execution_count": null,
   "id": "855ec282-e168-44e9-90af-509634620355",
   "metadata": {
    "tags": [
     "remove_cell"
    ]
   },
   "outputs": [],
   "source": [
    "columns_sympy = {\n",
    "    'yuv':Y_uv,\n",
    "    'yuuv':Y_uuv,\n",
    "    'yvav':Y_vav,\n",
    "}\n",
    "columns_latex = {key:f\"${sp.latex(value)}$\" for key,value in columns_sympy.items()}\n",
    "X_ = X.copy()\n",
    "X_.rename(columns=columns_latex, index=columns_latex, inplace=True)\n",
    "grid = sns.pairplot(data=X_)\n",
    "glue(\"pairplot\",grid.fig, display=False)"
   ]
  },
  {
   "cell_type": "code",
   "execution_count": null,
   "id": "c2025825-7e87-4491-b8b6-7efe83611986",
   "metadata": {
    "tags": [
     "remove_cell"
    ]
   },
   "outputs": [],
   "source": [
    "import matplotlib as mpl\n",
    "\n",
    "corr = X.corr()\n",
    "\n",
    "columns_sympy = {\n",
    "    'yuv':Y_uv,\n",
    "    'yuuv':Y_uuv,\n",
    "    'yvav':Y_vav,\n",
    "}\n",
    "columns_latex = {key:f\"${sp.latex(value)}$\" for key,value in columns_sympy.items()}\n",
    "corr.rename(columns=columns_latex, index=columns_latex, inplace=True)\n",
    "\n",
    "fig,ax=plt.subplots()\n",
    "ax.set_aspect('equal', 'box')\n",
    "matrix=np.triu(np.ones((len(corr),len(corr))))\n",
    "\n",
    "import matplotlib as mpl\n",
    "cmap = mpl.cm.get_cmap('gray_r')\n",
    "cmap.set_bad(\"white\")\n",
    "\n",
    "sns.heatmap(corr.iloc[1:,0:-1], mask=matrix[1:,0:-1], linewidths=.5, annot=True, cmap=cmap, cbar=False, ax=ax, square=True, vmin=0, vmax=1)\n",
    "ax.grid(False)\n",
    "glue(\"corr\", fig, display=False)\n"
   ]
  },
  {
   "cell_type": "code",
   "execution_count": null,
   "id": "30efa861-caae-451f-b375-89f31467cbfc",
   "metadata": {
    "tags": [
     "remove_input"
    ]
   },
   "outputs": [],
   "source": [
    "regression.summary()"
   ]
  },
  {
   "cell_type": "markdown",
   "id": "512417cf-62ef-44c7-a40d-8800bc5f5918",
   "metadata": {},
   "source": [
    "## Monte Carlo simulations\n",
    "The uncertainty in the estimated hydrodynamic derivatives can be expressed as a multivariate normal distribution, with the mean values and the covariance matrix from the OLS regression. Monte carlo simulations can be carried out by random samping from this distribution, to study alternative realizations of the regression. 30 samples from this distribution are shown in {numref}`boxplots`."
   ]
  },
  {
   "cell_type": "code",
   "execution_count": null,
   "id": "af87b2f0-e7bf-46a3-add1-12f71fc116f3",
   "metadata": {
    "tags": [
     "remove_cell"
    ]
   },
   "outputs": [],
   "source": [
    "rv = multivariate_normal(mean = regression.regression.params, cov=regression.regression.cov_HC0)\n",
    "N = 30\n",
    "df_parameter_variation = pd.DataFrame(data=rv.rvs(N), columns=regression.regression.params.index)"
   ]
  },
  {
   "cell_type": "markdown",
   "id": "0628faa6-a009-4550-97b8-2ad9e7f49e8e",
   "metadata": {},
   "source": [
    "```{glue:figure} boxplots\n",
    ":name: \"boxplots\"\n",
    "\n",
    "Monte-Carlo simulations of the derivatives based on the mean values and covariance matrix from the OLS regression.\n",
    "```"
   ]
  },
  {
   "cell_type": "code",
   "execution_count": null,
   "id": "d374f19d-3430-4b21-982e-4f5564265df7",
   "metadata": {
    "tags": [
     "remove_cell"
    ]
   },
   "outputs": [],
   "source": [
    "fig,axes=plt.subplots(nrows=len(df_parameter_variation.columns))\n",
    "\n",
    "for ax,key in zip(axes,df_parameter_variation.columns):\n",
    "    sns.boxplot(x=df_parameter_variation[key], ax=ax)\n",
    "    sns.stripplot(x=df_parameter_variation[key], color='black', ax=ax)\n",
    "    ax.set_xlabel(columns_latex[key])\n",
    "    \n",
    "plt.tight_layout()\n",
    "glue(\"boxplots\",fig, display=False)"
   ]
  },
  {
   "cell_type": "code",
   "execution_count": null,
   "id": "7d5ea009-f9b7-48fb-98e5-77631c9ed4b9",
   "metadata": {
    "tags": [
     "remove_cell"
    ]
   },
   "outputs": [],
   "source": [
    "_ = []\n",
    "for index,variation in df_parameter_variation.iterrows():\n",
    "    \n",
    "    df_predict_ = df_[['V','beta_deg']].copy()\n",
    "    df_predict_['fy'] = run(function=lambda_sway, inputs=df_, l=shipdict.main_data['l'], disp=shipdict.design_particulars['disp'], **variation)\n",
    "    df_predict_[variation.index] = variation\n",
    "    df_predict_['variation'] = index\n",
    "    _.append(df_predict_)\n",
    "    \n",
    "df_parameter_variation_predictions = pd.concat(_)"
   ]
  },
  {
   "cell_type": "markdown",
   "id": "59c27d60-7af0-4b5c-b02c-0a76c863d40f",
   "metadata": {},
   "source": [
    "Predictions with these alternative models are shown in {numref}`variations` together with the data and the most probable OLS estimate. \n",
    "```{glue:figure} variations\n",
    ":name: \"variations\"\n",
    "\n",
    "Monte-Carlo simulations of alternative realizations of the derivatives from the OLS regression.\n",
    "```"
   ]
  },
  {
   "cell_type": "code",
   "execution_count": null,
   "id": "04b852d9-3e6e-493a-b4cd-5d60e735cdb0",
   "metadata": {
    "tags": [
     "remove_cell"
    ]
   },
   "outputs": [],
   "source": [
    "fig,ax=plt.subplots()\n",
    "for V_, group in df_predict.groupby(by='V'):\n",
    "    plot = group.plot(x='beta_deg', y='fy', style='x', label=f\"V={np.round(V_,decimals=1)} [m/s]\", ax=ax)\n",
    "    color = plot.lines[-1].get_color()\n",
    "    group.plot(x='beta_deg', y='fy_ols', style='--', color=color, label=f\"OLS V={np.round(V_,decimals=1)} [m/s]\", zorder=-10, ax=ax)\n",
    "\n",
    "    for variation, group_variation in df_parameter_variation_predictions.groupby(by='variation'):\n",
    "        mask = group_variation['V'] == V_\n",
    "        group_variation.loc[mask].plot(x='beta_deg', y='fy', style='-', color='black', label=f\"__none__\", zorder=-20, ax=ax, alpha=0.08)\n",
    "    \n",
    "    ax.set_xlabel(r'Drift angle $\\beta$ $[deg]$')\n",
    "ax.set_ylabel(r'Transverse force $F_y$ $[N]$');\n",
    "\n",
    "glue(\"variations\",fig, display=False)"
   ]
  },
  {
   "cell_type": "markdown",
   "id": "0d9fdc53-f5b5-48e0-9081-b07814890e99",
   "metadata": {},
   "source": [
    "## Conclusions\n",
    "It has been shown that due to multicollinearity, very different parameter estimations of the multiple linear regression problem can give almost the same prediction accuracy. However, only one of the models can be the correct one - having the correct estimation of the hydrodynamic derivatives as a fair representation of the underlying physics. One option to handle this problem would be to gather more data - till a satisfactory confidence level can be achieved in the estimatimated parameters.\n",
    "\n",
    "Another option is to reason about the estimated parameter values. Is there any prior knowledge about these parameters, that can be used to rule out some of the solutions? For instance: perhaps we know that $Y_{uv}<0$ based on our prior understanding about hydrodynamics - so that a positive drift angle $\\beta$ will always produce a positive lift force from the hull. How this kind of prior knowledge can be incorporated into the regression with Bayesian inference will be discussed in the next section."
   ]
  },
  {
   "cell_type": "code",
   "execution_count": null,
   "id": "dc2dfc40-fffd-43eb-b55e-d3b8d12a95ad",
   "metadata": {},
   "outputs": [],
   "source": []
  },
  {
   "cell_type": "code",
   "execution_count": null,
   "id": "69569597-954c-4a75-af96-59e518557054",
   "metadata": {},
   "outputs": [],
   "source": []
  },
  {
   "cell_type": "code",
   "execution_count": null,
   "id": "1aff3f91-9e38-4cc9-a01e-441070b52f0a",
   "metadata": {},
   "outputs": [],
   "source": []
  },
  {
   "cell_type": "code",
   "execution_count": null,
   "id": "0da04dd8-4933-4041-b10e-7920cb5ab463",
   "metadata": {},
   "outputs": [],
   "source": []
  },
  {
   "cell_type": "code",
   "execution_count": null,
   "id": "11e175ed-57e3-4752-8b4d-040b06ac1682",
   "metadata": {},
   "outputs": [],
   "source": []
  },
  {
   "cell_type": "code",
   "execution_count": null,
   "id": "82d2a4d2-19eb-4751-8098-8af049fb1b68",
   "metadata": {},
   "outputs": [],
   "source": []
  },
  {
   "cell_type": "code",
   "execution_count": null,
   "id": "3a398586-23de-4897-94de-53ca111afcaf",
   "metadata": {},
   "outputs": [],
   "source": []
  },
  {
   "cell_type": "code",
   "execution_count": null,
   "id": "ac783358-61ae-426b-a835-9eae92b2a850",
   "metadata": {},
   "outputs": [],
   "source": []
  },
  {
   "cell_type": "code",
   "execution_count": null,
   "id": "caef3fa3-1ef9-4d63-8a25-0e151d63692e",
   "metadata": {},
   "outputs": [],
   "source": []
  },
  {
   "cell_type": "code",
   "execution_count": null,
   "id": "d0d116c5-4f27-4d02-b9ce-167fef0e2d79",
   "metadata": {},
   "outputs": [],
   "source": []
  },
  {
   "cell_type": "code",
   "execution_count": null,
   "id": "6fbf56b1-f3c1-4e3c-97a3-e0bbba4c42be",
   "metadata": {},
   "outputs": [],
   "source": []
  }
 ],
 "metadata": {
  "kernelspec": {
   "display_name": "Kedro (phd)",
   "language": "python",
   "name": "kedro_phd"
  },
  "language_info": {
   "codemirror_mode": {
    "name": "ipython",
    "version": 3
   },
   "file_extension": ".py",
   "mimetype": "text/x-python",
   "name": "python",
   "nbconvert_exporter": "python",
   "pygments_lexer": "ipython3",
   "version": "3.10.6"
  }
 },
 "nbformat": 4,
 "nbformat_minor": 5
}
