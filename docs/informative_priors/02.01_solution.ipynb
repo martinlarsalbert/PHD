{
 "cells": [
  {
   "cell_type": "markdown",
   "id": "9af510ec-6d80-4306-ae19-f26295f8c8c5",
   "metadata": {
    "tags": []
   },
   "source": [
    "# Bayesian Inference\n",
    "Bayes' theorem provides a general recipe to estimate the value of the parameter\n",
    "$\\boldsymbol{\\theta}$ given observed data\n",
    "$\\boldsymbol{Y}$:\n",
    "\n",
    "```{math}\n",
    ":label: eq:posterior_dist\n",
    "\\underbrace{p(\\boldsymbol{\\theta} \\mid \\boldsymbol{Y})}_{\\text{posterior}} = \\frac{\\overbrace{p(\\boldsymbol{Y} \\mid \\boldsymbol{\\theta})}^{\\text{likelihood}}\\; \\overbrace{p(\\boldsymbol{\\theta})}^{\\text{prior}}}{\\underbrace{{p(\\boldsymbol{Y})}}_{\\text{marginal likelihood}}}\n",
    "\n",
    "```"
   ]
  },
  {
   "cell_type": "markdown",
   "id": "9e5d1f34-6f27-4af6-b0a2-153cc862df31",
   "metadata": {
    "tags": [
     "remove_cell"
    ]
   },
   "source": [
    "$ \\underbrace{p(\\boldsymbol{\\theta} \\mid \\boldsymbol{Y})}_{\\text{posterior}} = \\frac{\\overbrace{p(\\boldsymbol{Y} \\mid \\boldsymbol{\\theta})}^{\\text{likelihood}}\\; \\overbrace{p(\\boldsymbol{\\theta})}^{\\text{prior}}}{\\underbrace{{p(\\boldsymbol{Y})}}_{\\text{marginal likelihood}}} $"
   ]
  },
  {
   "cell_type": "markdown",
   "id": "8191c055-2f14-4004-9177-825af0a32429",
   "metadata": {},
   "source": [
    "* The likelihood function links the observed data with the unknown parameters \n",
    "* The prior distribution represents the uncertainty about the parameters before observing the data $\\boldsymbol{Y}$. \n",
    "* The posterior distribution, is the joint distribution over all the parameters in the model (conditioned on the\n",
    "observed data)."
   ]
  },
  {
   "cell_type": "code",
   "execution_count": null,
   "id": "ed6b34b9-d6db-47b6-9a23-6e6c333120c1",
   "metadata": {
    "tags": [
     "remove_cell"
    ]
   },
   "outputs": [],
   "source": [
    "import warnings\n",
    "warnings.filterwarnings('ignore')\n",
    "%matplotlib inline\n",
    "%load_ext autoreload\n",
    "%autoreload 2\n",
    "%config Completer.use_jedi = False"
   ]
  },
  {
   "cell_type": "code",
   "execution_count": null,
   "id": "3e0ef0e8-a120-40cc-904f-c5a7c8668353",
   "metadata": {
    "tags": [
     "remove_cell"
    ]
   },
   "outputs": [],
   "source": [
    "# Import pyMC3 and also arviz for visualisation\n",
    "import pymc as pm\n",
    "import arviz as az\n",
    "import sympy as sp\n",
    "import pandas as pd\n",
    "import numpy as np\n",
    "import statsmodels.api as sm\n",
    "\n",
    "\n",
    "import symseaman as ss\n",
    "from symseaman.substitute_dynamic_symbols import lambdify, remove_bis_eq, run, standard_substitutes\n",
    "from symseaman.seaman_symbols import *\n",
    "from vct.bis_system import BisSystem"
   ]
  },
  {
   "cell_type": "code",
   "execution_count": null,
   "id": "026561d1-7e8e-4558-b2b6-2a019e341757",
   "metadata": {
    "tags": [
     "remove_cell"
    ]
   },
   "outputs": [],
   "source": [
    "import sympy as sp\n",
    "from symseaman.seaman_symbols import *\n",
    "from symseaman.substitute_dynamic_symbols import run, lambdify, standard_substitutes, remove_bis, remove_bis_eq, standard_substitutes_eq, lower_and_abs\n",
    "from symseaman.seaman_symbol import BisSymbol\n",
    "import symseaman as ss\n",
    "from symseaman.seaman_symbol import expand_bis\n",
    "from symseaman.shipdict import ShipDict\n",
    "import pandas as pd\n",
    "pd.set_option('display.max_rows', 5000)\n",
    "pd.set_option('display.max_columns', 5000)\n",
    "pd.set_option('display.width', 10000)\n",
    "pd.set_option('max_colwidth', -1)\n",
    "import numpy as np\n",
    "import matplotlib.pyplot as plt\n",
    "#plt.rcParams['figure.figsize'] = 9,7\n",
    "#plt.style.use('bmh')\n",
    "import vct.bokeh_plotting as bokeh_plotting\n",
    "from numpy.testing import assert_almost_equal\n",
    "from scipy.interpolate import interp1d\n",
    "from symseaman.calculate import calculate_ship\n",
    "from symseaman.to_matrix import matrix_form, matrix_form_standard, exclude, exclude_derivatives\n",
    "from functools import reduce\n",
    "from operator import add\n",
    "from vct.regression_ols import Regression, RegressionPipeline\n",
    "import dill\n",
    "import seaborn as sns\n",
    "from myst_nb import glue\n",
    "import matplotlib.pyplot as plt\n",
    "plt.style.use('jupyter')"
   ]
  },
  {
   "cell_type": "code",
   "execution_count": null,
   "id": "8b298ca0-9563-483e-87fa-7dcee11400b6",
   "metadata": {
    "tags": [
     "remove_cell"
    ]
   },
   "outputs": [],
   "source": [
    "# Read configs:\n",
    "import anyconfig\n",
    "globals_path = \"../../conf/base/globals.yml\"\n",
    "global_variables = anyconfig.load(globals_path)\n",
    "ships = global_variables[\"ships\"]\n",
    "from vct.bis_system import BisSystem\n",
    "import statsmodels.api as sm\n",
    "from scipy.stats import norm\n",
    "from vct.regression_ols import data_to_bis\n",
    "from scipy.stats import norm, multivariate_normal\n",
    "import regression_ols, regression_ols_split"
   ]
  },
  {
   "cell_type": "code",
   "execution_count": null,
   "id": "00379312-00c4-42f8-b8dc-b370f97cf3d8",
   "metadata": {
    "tags": [
     "remove_cell"
    ]
   },
   "outputs": [],
   "source": [
    "%reload_kedro\n",
    "ship_name=ships[0]\n",
    "shipdict = catalog.load(f\"{ship_name}.shipdict_base\")\n",
    "ship_dict_from_regression = catalog.load(f\"{ ship_name }.ship_dict_from_regression\")\n",
    "\n",
    "df_VCT = catalog.load(f\"{ship_name}.df_VCT\")\n",
    "df_VCT['g'] = df_VCT['g'].fillna(method='pad')\n",
    "df_VCT['rho'] = df_VCT['rho'].fillna(method='pad')\n",
    "df_VCT['beta_deg'] = np.rad2deg(df_VCT['beta'])\n",
    "\n",
    "df_VCT['fx_hull'] = df_VCT['fx']  # Not true but works for this example...\n",
    "df_VCT['fy_hull'] = df_VCT['fy']  # Not true but works for this example...\n",
    "df_VCT['mz_hull'] = df_VCT['mz']  # Not true but works for this example...\n",
    "\n",
    "thrust_keys = catalog.load(f\"params:{ship_name}.thrust_keys\")\n",
    "\n",
    "if len(thrust_keys) > 0:\n",
    "    df_VCT['tprop'] = df_VCT[thrust_keys[0]]\n",
    "else:\n",
    "    df_VCT['tprop'] = 0\n",
    "    thrust_keys=['tprop']\n",
    "    \n",
    "derivatives = catalog.load(f\"{ship_name}.derivatives\")[\"OLS\"]\n",
    "derivatives_std = catalog.load(f\"{ship_name}.derivatives_std\")[\"OLS\"]"
   ]
  },
  {
   "cell_type": "code",
   "execution_count": null,
   "id": "47c8587d-5e85-4b3b-8e01-fdb88da9559c",
   "metadata": {
    "tags": [
     "remove_cell"
    ]
   },
   "outputs": [],
   "source": [
    "df_ = df_VCT.groupby(by='test type').get_group('Drift angle')\n",
    "pipeline, df_bis = regression_ols.fit(df_VCT=df_VCT, shipdict=shipdict)\n",
    "pre_set_derivatives_0 = {}\n",
    "regression = pipeline['drift']\n",
    "y,X=regression.label_and_features(derivatives=pre_set_derivatives_0, meta_data=pipeline.meta_data)"
   ]
  },
  {
   "cell_type": "code",
   "execution_count": null,
   "id": "c6c0f1b5-07d8-4254-867e-407a77fd4a70",
   "metadata": {
    "tags": [
     "remove_cell"
    ]
   },
   "outputs": [],
   "source": [
    "pipeline_split, _ = regression_ols_split.fit(df_VCT=df_VCT, shipdict=shipdict)"
   ]
  },
  {
   "cell_type": "markdown",
   "id": "4082ee2d-9a8d-463a-bc98-b9257bbc4d55",
   "metadata": {},
   "source": [
    "## Informative priors"
   ]
  },
  {
   "cell_type": "markdown",
   "id": "6172f825-99dc-45ac-9f56-6a0a4e0afdd0",
   "metadata": {},
   "source": [
    "It was shown that the OLS regression can produce a model that fits the data well, but that the individual hydrodynamic derivatives within the model are very uncertain due to muticollinearity.\n",
    "In the OLS regression, very little assumptions regarding the actual values of the hydrodynamic derivatives were made prior to the regression. This is a very usefull property when no prior understanding of the data and what the parameters in the model represent is available. \n",
    "\n",
    "In this case however, we can apply some reasoning with our prior knowledge about the data, which can be used to build informative priors to be later used in Bayesian inference.\n",
    "The model ({numref}`eqsway`) has a connection to the underlying hydrodynamics, where:\n",
    "* $Y_{uv}$ represents the hydrodynamic lift\n",
    "* $Y_{uuv}$ represents the speed dependent part of the hydrodynamic lift\n",
    "* $Y_{v|v|}$ represents the cross flow drag\n",
    "\n",
    "This knowledge can be used to make an adopted regression. Often a strategy can be adopted where the regression is split into two sub regressions - one for each speed. The estimated hydrodynamic lift coefficients for the two sub regressions are shown in {numref}`regressionsplit`. It seems that the absolute value of hydrodynamic derivative is a bit smaller for the higher speed than for the lower speed. $Y_{uv}$ and $Y_{uuv}$ can be estimated by fitting a line through these two points.\n",
    "\n",
    "```{glue:figure} regressionsplit\n",
    ":name: \"regressionsplit\"\n",
    "\n",
    "Regression split.\n",
    "```"
   ]
  },
  {
   "cell_type": "code",
   "execution_count": null,
   "id": "06192143-c2e6-417d-abea-2ab259a0c0c3",
   "metadata": {
    "tags": [
     "remove_cell"
    ]
   },
   "outputs": [],
   "source": [
    "df_yuv = pd.DataFrame(pipeline_split.get_suffixed_derivatives(derivative='yuv'))\n",
    "df_yuv['yvav'] = pipeline_split.get_suffixed_derivatives(derivative='yvav')\n",
    "Vs_ = df_yuv.index\n",
    "df_yuv['yuv_model'] = pipeline_split.derivatives['yuv'] + pipeline_split.derivatives['yuuv']*Vs_\n",
    "df_yuv['yvav_model'] = pipeline_split.derivatives['yvav']\n",
    "\n",
    "fig,ax=plt.subplots()\n",
    "df_yuv.plot(y='yuv', label='itterations', style='x', zorder=10, ax=ax)\n",
    "df_yuv.plot(y='yuv_model', label='model', style='--', ax=ax)\n",
    "ax.set_ylabel(r\"$Y_{uv}'' \\left( V'' \\right) $\")\n",
    "ax.set_xlabel(r\"$ V'' [-] $\")\n",
    "ax.set_ylim((-1.13,0))\n",
    "glue(\"regressionsplit\",fig, display=False)\n"
   ]
  },
  {
   "cell_type": "markdown",
   "id": "aa2e1989-95f7-4dbf-b655-555442936a0d",
   "metadata": {},
   "source": [
    "{numref}`informativepriors` shows the probability density functions (PDF) for hydrodynamic derivatives estimated with OLS regression on the whole dataset and the splitted regression.  \n",
    "\n",
    "```{glue:figure} informativepriors\n",
    ":name: \"informativepriors\"\n",
    "\n",
    "PDF:s for the estimated derivatives with OLS regression and splitted OLS regression.\n",
    "```"
   ]
  },
  {
   "cell_type": "code",
   "execution_count": null,
   "id": "dd6c0d24-4942-485a-84a9-1052c887da36",
   "metadata": {
    "tags": [
     "remove_cell"
    ]
   },
   "outputs": [],
   "source": [
    "columns = list(X.columns)\n",
    "\n",
    "#sigmas_ = [derivatives_std[key] for key in columns]\n",
    "#mus_ = [derivatives[key] for key in columns]\n",
    "\n",
    "sigmas_ = [pipeline_split.stds[key] for key in columns]\n",
    "mus_ = [pipeline_split.derivatives[key] for key in columns]\n",
    "data = df_\n",
    "sigma_ = 0.0001*data['fy'].abs().max()"
   ]
  },
  {
   "cell_type": "code",
   "execution_count": null,
   "id": "0e56c6c8-0077-449d-ba29-7181dd6c2118",
   "metadata": {
    "tags": [
     "remove_cell"
    ]
   },
   "outputs": [],
   "source": [
    "columns_sympy = {\n",
    "    'yuv':Y_uv,\n",
    "    'yuuv':Y_uuv,\n",
    "    'yvav':Y_vav,\n",
    "}\n",
    "columns_latex = {key:f\"${sp.latex(value)}$\" for key,value in columns_sympy.items()}\n",
    "\n",
    "#rvs_split_OLS = {key:norm(loc=derivatives[key], scale=derivatives_std[key]) for key in columns}\n",
    "rvs_split_OLS = {key:norm(loc=pipeline_split.derivatives[key], scale=pipeline_split.stds[key]) for key in columns}\n",
    "rvs_OLS = {key:norm(loc=regression.regression.params[key], scale=regression.regression.bse[key]) for key in columns}\n",
    "\n",
    "\n",
    "fig,axes=plt.subplots(ncols=len(rvs_OLS))\n",
    "for (key, rv),ax in zip(rvs_split_OLS.items(), axes.flatten()):\n",
    "    \n",
    "    rv_OLS = rvs_OLS[key]\n",
    "    x_ = np.linspace(rv_OLS.mean() - 3*rv_OLS.std(), rv_OLS.mean() + 3*rv_OLS.std(), 200)\n",
    "   \n",
    "    ax.plot(x_, rv_OLS.pdf(x_), label='OLS')\n",
    "    ax.plot(x_, rv.pdf(x_), label='OLS splitted')\n",
    "    \n",
    "        \n",
    "    ax.set_xlabel(columns_latex[key])\n",
    "    \n",
    "axes[0].legend()\n",
    "glue(\"informativepriors\", fig, display=False)\n"
   ]
  },
  {
   "cell_type": "markdown",
   "id": "6716cd74-8824-4273-af88-f98ac69026db",
   "metadata": {},
   "source": [
    "The PDF:s from the splitted OLS regression can now be used as informative priors to do Bayesian inference of the parameters."
   ]
  },
  {
   "cell_type": "code",
   "execution_count": null,
   "id": "cb19fff3-b030-49f9-a585-1862d3176c2f",
   "metadata": {
    "tags": [
     "remove_cell"
    ]
   },
   "outputs": [],
   "source": [
    "basic_model = pm.Model()\n",
    "\n",
    "\n",
    "\n",
    "with basic_model:\n",
    "    # Priors for unknown model parameters\n",
    "    parameters = pm.Normal(\"parameters\", mu=mus_, \n",
    "                           sigma=sigmas_, \n",
    "                           shape=len(columns))\n",
    "    \n",
    "    sigma = pm.HalfNormal(\"sigma\", sigma=sigma_)\n",
    "\n",
    "    # Expected value of outcome\n",
    "    mu = pm.math.dot(X, parameters)\n",
    "\n",
    "    # Likelihood (sampling distribution) of observations\n",
    "    Y_obs = pm.Normal(\"fy_obs\", mu=mu, sigma=sigma, observed=y)\n",
    "    #ν = pm.Uniform(\"ν\", 1, 10)\n",
    "    #Y_obs = pm.StudentT(\"fy_obs\", nu=ν, mu=mu, sigma=sigma, observed=y)"
   ]
  },
  {
   "cell_type": "code",
   "execution_count": null,
   "id": "110c1608-57bd-4302-acd7-3999f8d0cba2",
   "metadata": {
    "tags": [
     "remove_cell"
    ]
   },
   "outputs": [],
   "source": [
    "with basic_model:\n",
    "    prior = pm.sample_prior_predictive(samples=5000)\n",
    "    trace = pm.sample(draws=10000)"
   ]
  },
  {
   "cell_type": "code",
   "execution_count": null,
   "id": "0c98a430-5e19-4139-88cd-781300e4fa05",
   "metadata": {
    "tags": [
     "remove_cell"
    ]
   },
   "outputs": [],
   "source": [
    "with basic_model:\n",
    "    az.plot_posterior(trace,\n",
    "                  var_names=['parameters','sigma'],\n",
    "                  textsize=10,\n",
    "                  point_estimate='mean',\n",
    "                  rope_color='black',\n",
    "                  figsize=(14,4))"
   ]
  },
  {
   "cell_type": "code",
   "execution_count": null,
   "id": "5cae0213-a80c-4e99-8e84-a621b6c8dccf",
   "metadata": {
    "tags": [
     "remove_cell"
    ]
   },
   "outputs": [],
   "source": [
    "az.summary(trace)"
   ]
  },
  {
   "cell_type": "code",
   "execution_count": null,
   "id": "86f3c06d-2709-4433-9312-ec10bd6b77c9",
   "metadata": {
    "tags": [
     "remove_cell"
    ]
   },
   "outputs": [],
   "source": [
    "df_parameters_posterior = pd.DataFrame(data = np.concatenate((trace.posterior['parameters'].data[0],trace.posterior['parameters'].data[1])), columns=columns)"
   ]
  },
  {
   "cell_type": "markdown",
   "id": "5b4da4b8-11a8-4f5f-a809-da33bfb00cf0",
   "metadata": {},
   "source": [
    "```{glue:figure} bayesianinference\n",
    ":name: \"bayesianinference\"\n",
    "\n",
    "PDF:s for the estimated derivatives with OLS regression, splitted OLS regression and Bayesian inference.\n",
    "```"
   ]
  },
  {
   "cell_type": "code",
   "execution_count": null,
   "id": "ff332465-92af-48de-9463-5bb9d89a20d1",
   "metadata": {
    "tags": [
     "remove_cell"
    ]
   },
   "outputs": [],
   "source": [
    "fig,axes=plt.subplots(ncols=len(rvs_OLS))\n",
    "for (key, rv),ax in zip(rvs_split_OLS.items(), axes.flatten()):\n",
    "    \n",
    "    rv_OLS = rvs_OLS[key]\n",
    "    x_ = np.linspace(rv_OLS.mean() - 3*rv_OLS.std(), rv_OLS.mean() + 3*rv_OLS.std(), 200)\n",
    "   \n",
    "    ax.plot(x_, rv_OLS.pdf(x_), label='OLS')\n",
    "    ax.plot(x_, rv.pdf(x_), label='OLS splitted')\n",
    "    sns.kdeplot(df_parameters_posterior[key], ax=ax, label='Bayesian inference')\n",
    "        \n",
    "    ax.set_xlabel(columns_latex[key])\n",
    "    \n",
    "axes[1].legend(loc='center')\n",
    "glue(\"bayesianinference\", fig, display=False)"
   ]
  },
  {
   "cell_type": "code",
   "execution_count": null,
   "id": "ff3335de-c257-4764-b326-e9b4623f1742",
   "metadata": {
    "tags": [
     "remove_cell"
    ]
   },
   "outputs": [],
   "source": [
    "means = (trace.posterior['parameters'].data[0].mean(axis=0) + trace.posterior['parameters'].data[1].mean(axis=0))/2\n",
    "means = {key:mean for key,mean in zip(columns,means)}"
   ]
  },
  {
   "cell_type": "code",
   "execution_count": null,
   "id": "e27688c6-1809-46e7-a7b7-7afda65c8ccb",
   "metadata": {
    "tags": [
     "remove_cell"
    ]
   },
   "outputs": [],
   "source": [
    "stds = (trace.posterior['parameters'].data[0].std(axis=0) + trace.posterior['parameters'].data[1].std(axis=0))/2\n",
    "stds = {key:std for key,std in zip(columns,stds)}"
   ]
  },
  {
   "cell_type": "code",
   "execution_count": null,
   "id": "d7bed1f9-d275-4012-b014-ceae64177949",
   "metadata": {
    "tags": [
     "remove_cell"
    ]
   },
   "outputs": [],
   "source": [
    "df_parameters = pd.concat([\n",
    "pd.Series(means, name='Bayesian'),\n",
    "pd.Series({key:derivatives[key] for key in means.keys()}, name='splitted OLS'),\n",
    "pd.Series({key:regression.regression.params[key] for key in means.keys()}, name='OLS'),\n",
    "    \n",
    "], axis=1).transpose()"
   ]
  },
  {
   "cell_type": "markdown",
   "id": "eecc08d2-23ea-45af-9ee0-eaa3f621efa6",
   "metadata": {},
   "source": [
    "```{glue:figure} estimations\n",
    ":name: \"estimations\"\n",
    "\n",
    "Estimated hydrodynamic derivatives with the various methods.\n",
    "```"
   ]
  },
  {
   "cell_type": "code",
   "execution_count": null,
   "id": "ec570b8e-bdbc-4eea-a9a5-200a19adc321",
   "metadata": {
    "tags": [
     "remove_cell"
    ]
   },
   "outputs": [],
   "source": [
    "fig,ax=plt.subplots()\n",
    "df_parameters.rename(columns=columns_latex).plot.barh(ax=ax)\n",
    "glue(\"estimations\",fig, display=False)"
   ]
  },
  {
   "cell_type": "code",
   "execution_count": null,
   "id": "f707d4cb-4af0-4e90-9925-9d9fddecf27a",
   "metadata": {},
   "outputs": [],
   "source": []
  }
 ],
 "metadata": {
  "kernelspec": {
   "display_name": "Kedro (phd)",
   "language": "python",
   "name": "kedro_phd"
  },
  "language_info": {
   "codemirror_mode": {
    "name": "ipython",
    "version": 3
   },
   "file_extension": ".py",
   "mimetype": "text/x-python",
   "name": "python",
   "nbconvert_exporter": "python",
   "pygments_lexer": "ipython3",
   "version": "3.10.6"
  }
 },
 "nbformat": 4,
 "nbformat_minor": 5
}
