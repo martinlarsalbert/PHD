{
 "cells": [
  {
   "cell_type": "markdown",
   "id": "ac5562bc-333e-4759-bb46-f4957aaf422a",
   "metadata": {},
   "source": [
    "# Investigating the wind force influence\n",
    "Comparing lake data with simulation with a model that is unaware of the wind and with one that is aware of it."
   ]
  },
  {
   "cell_type": "code",
   "execution_count": null,
   "id": "7d7c21c0-f5cf-48d1-88aa-3b509a4f1add",
   "metadata": {},
   "outputs": [],
   "source": []
  }
 ],
 "metadata": {
  "kernelspec": {
   "display_name": "Kedro (phd)",
   "language": "python",
   "name": "kedro_phd"
  },
  "language_info": {
   "codemirror_mode": {
    "name": "ipython",
    "version": 3
   },
   "file_extension": ".py",
   "mimetype": "text/x-python",
   "name": "python",
   "nbconvert_exporter": "python",
   "pygments_lexer": "ipython3",
   "version": "3.10.10"
  }
 },
 "nbformat": 4,
 "nbformat_minor": 5
}
