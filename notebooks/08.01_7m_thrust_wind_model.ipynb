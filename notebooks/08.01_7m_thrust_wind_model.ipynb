{
 "cells": [
  {
   "cell_type": "markdown",
   "id": "4b741a2a-d977-4d70-b5ce-4592f7c22968",
   "metadata": {},
   "source": [
    "# wPCC MDL SLIC model with thrust and wind forces"
   ]
  },
  {
   "cell_type": "code",
   "execution_count": 3,
   "id": "e3343b8a-46cd-4f55-ab4d-5cf1d261a6ed",
   "metadata": {},
   "outputs": [],
   "source": [
    "import warnings\n",
    "warnings.filterwarnings('ignore')\n",
    "%matplotlib inline\n",
    "%load_ext autoreload\n",
    "%autoreload 2\n",
    "%config Completer.use_jedi = False"
   ]
  },
  {
   "cell_type": "code",
   "execution_count": 4,
   "id": "2cae9891-ed47-41ad-a99b-09bd791d0e2f",
   "metadata": {},
   "outputs": [],
   "source": [
    "import pandas as pd\n",
    "pd.set_option('display.max_rows', 5000)\n",
    "pd.set_option('display.max_columns', 5000)\n",
    "pd.set_option('display.width', 10000)\n",
    "import numpy as np\n",
    "import yaml\n",
    "\n",
    "from vessel_manoeuvring_models.visualization.plot import track_plot, plot\n",
    "from phd.visualization.plot_ship import track_plots\n",
    "from vessel_manoeuvring_models.extended_kalman_vmm import ExtendedKalman, SystemMatrixes\n",
    "from vmm_abkowitz_diminished import vmm as vmm\n",
    "from wPCC_pipeline.pipelines.brix.nodes import initial_parameters, extract_added_masses\n",
    "from wPCC_pipeline.pipelines.preprocess.nodes import load, add_thrust\n",
    "from wPCC_pipeline.pipelines.filter_data_extended_kalman.nodes import guess_covariance_matrixes, initial_state, extended_kalman_filter, extended_kalman_smoother\n",
    "from wPCC_pipeline.pipelines.motion_regression.nodes import predict_force, fit_motions, create_model_from_motion_regression\n",
    "from wPCC_pipeline.pipelines.prediction.nodes import simulate_euler\n",
    "from phd.pipelines.load_7m.nodes import fix_interpolated_angle\n",
    "from sklearn.metrics import mean_squared_error\n",
    "from vessel_manoeuvring_models.models.vmm import VMM, Simulator, ModelSimulator, ModelSimulatorWithPropeller, get_coefficients\n",
    "from vessel_manoeuvring_models.models.propeller import *\n",
    "import sympy as sp\n",
    "from functools import reduce\n",
    "from operator import add\n",
    "from vessel_manoeuvring_models.symbols import *\n",
    "from IPython.display import display\n",
    "from vessel_manoeuvring_models.prime_system import df_prime\n",
    "from vessel_manoeuvring_models.substitute_dynamic_symbols import run, lambdify\n",
    "from vessel_manoeuvring_models.models.vmm import VMM, Simulator, ModelSimulator\n",
    "from vessel_manoeuvring_models.parameters import df_parameters\n",
    "from phd.helpers import mean\n",
    "from vessel_manoeuvring_models.angles import mean_angle\n",
    "from vessel_manoeuvring_models.angles import smallest_signed_angle\n",
    "import inspect\n",
    "from copy import deepcopy\n",
    "from vessel_manoeuvring_models.models.wind_force_helpers import eq_abs, eq_sign\n",
    "from vessel_manoeuvring_models.models.diff_eq_to_matrix import DiffEqToMatrix\n",
    "\n",
    "import matplotlib.pyplot as plt\n",
    "plt.style.use('bmh')"
   ]
  },
  {
   "cell_type": "code",
   "execution_count": 5,
   "id": "9d868f4a-d238-47cf-bad2-aaccfe2c7e63",
   "metadata": {},
   "outputs": [],
   "source": [
    "import anyconfig\n",
    "globals_path = \"../conf/base/globals.yml\"\n",
    "global_variables = anyconfig.load(globals_path)\n",
    "ships = global_variables[\"ships\"]"
   ]
  },
  {
   "cell_type": "code",
   "execution_count": 6,
   "id": "ac96dc05-9083-4e2e-8ad0-55b754d9302b",
   "metadata": {},
   "outputs": [
    {
     "data": {
      "text/html": [
       "<pre style=\"white-space:pre;overflow-x:auto;line-height:normal;font-family:Menlo,'DejaVu Sans Mono',consolas,'Courier New',monospace\"><span style=\"color: #7fbfbf; text-decoration-color: #7fbfbf\">[05/30/23 15:30:55] </span><span style=\"color: #000080; text-decoration-color: #000080\">INFO    </span> Resolved project path as: <span style=\"color: #800080; text-decoration-color: #800080\">/home/maa/dev/</span><span style=\"color: #ff00ff; text-decoration-color: #ff00ff\">PHD.</span>                           <a href=\"file:///home/maa/anaconda3/envs/phd/lib/python3.10/site-packages/kedro/ipython/__init__.py\" target=\"_blank\"><span style=\"color: #7f7f7f; text-decoration-color: #7f7f7f\">__init__.py</span></a><span style=\"color: #7f7f7f; text-decoration-color: #7f7f7f\">:</span><a href=\"file:///home/maa/anaconda3/envs/phd/lib/python3.10/site-packages/kedro/ipython/__init__.py#134\" target=\"_blank\"><span style=\"color: #7f7f7f; text-decoration-color: #7f7f7f\">134</span></a>\n",
       "<span style=\"color: #7fbfbf; text-decoration-color: #7fbfbf\">                    </span>         To set a different path, run <span style=\"color: #008000; text-decoration-color: #008000\">'%reload_kedro &lt;project_root&gt;'</span>            <span style=\"color: #7f7f7f; text-decoration-color: #7f7f7f\">               </span>\n",
       "</pre>\n"
      ],
      "text/plain": [
       "\u001b[2;36m[05/30/23 15:30:55]\u001b[0m\u001b[2;36m \u001b[0m\u001b[34mINFO    \u001b[0m Resolved project path as: \u001b[35m/home/maa/dev/\u001b[0m\u001b[95mPHD.\u001b[0m                           \u001b]8;id=557689;file:///home/maa/anaconda3/envs/phd/lib/python3.10/site-packages/kedro/ipython/__init__.py\u001b\\\u001b[2m__init__.py\u001b[0m\u001b]8;;\u001b\\\u001b[2m:\u001b[0m\u001b]8;id=63457;file:///home/maa/anaconda3/envs/phd/lib/python3.10/site-packages/kedro/ipython/__init__.py#134\u001b\\\u001b[2m134\u001b[0m\u001b]8;;\u001b\\\n",
       "\u001b[2;36m                    \u001b[0m         To set a different path, run \u001b[32m'%reload_kedro \u001b[0m\u001b[32m<\u001b[0m\u001b[32mproject_root\u001b[0m\u001b[32m>\u001b[0m\u001b[32m'\u001b[0m            \u001b[2m               \u001b[0m\n"
      ]
     },
     "metadata": {},
     "output_type": "display_data"
    },
    {
     "data": {
      "text/html": [
       "<pre style=\"white-space:pre;overflow-x:auto;line-height:normal;font-family:Menlo,'DejaVu Sans Mono',consolas,'Courier New',monospace\"><span style=\"color: #7fbfbf; text-decoration-color: #7fbfbf\">[05/30/23 15:30:56] </span><span style=\"color: #000080; text-decoration-color: #000080\">INFO    </span> Kedro project phd                                                      <a href=\"file:///home/maa/anaconda3/envs/phd/lib/python3.10/site-packages/kedro/ipython/__init__.py\" target=\"_blank\"><span style=\"color: #7f7f7f; text-decoration-color: #7f7f7f\">__init__.py</span></a><span style=\"color: #7f7f7f; text-decoration-color: #7f7f7f\">:</span><a href=\"file:///home/maa/anaconda3/envs/phd/lib/python3.10/site-packages/kedro/ipython/__init__.py#103\" target=\"_blank\"><span style=\"color: #7f7f7f; text-decoration-color: #7f7f7f\">103</span></a>\n",
       "</pre>\n"
      ],
      "text/plain": [
       "\u001b[2;36m[05/30/23 15:30:56]\u001b[0m\u001b[2;36m \u001b[0m\u001b[34mINFO    \u001b[0m Kedro project phd                                                      \u001b]8;id=891130;file:///home/maa/anaconda3/envs/phd/lib/python3.10/site-packages/kedro/ipython/__init__.py\u001b\\\u001b[2m__init__.py\u001b[0m\u001b]8;;\u001b\\\u001b[2m:\u001b[0m\u001b]8;id=686602;file:///home/maa/anaconda3/envs/phd/lib/python3.10/site-packages/kedro/ipython/__init__.py#103\u001b\\\u001b[2m103\u001b[0m\u001b]8;;\u001b\\\n"
      ]
     },
     "metadata": {},
     "output_type": "display_data"
    },
    {
     "data": {
      "text/html": [
       "<pre style=\"white-space:pre;overflow-x:auto;line-height:normal;font-family:Menlo,'DejaVu Sans Mono',consolas,'Courier New',monospace\"><span style=\"color: #7fbfbf; text-decoration-color: #7fbfbf\">                    </span><span style=\"color: #000080; text-decoration-color: #000080\">INFO    </span> Defined global variable <span style=\"color: #008000; text-decoration-color: #008000\">'context'</span>, <span style=\"color: #008000; text-decoration-color: #008000\">'session'</span>, <span style=\"color: #008000; text-decoration-color: #008000\">'catalog'</span> and            <a href=\"file:///home/maa/anaconda3/envs/phd/lib/python3.10/site-packages/kedro/ipython/__init__.py\" target=\"_blank\"><span style=\"color: #7f7f7f; text-decoration-color: #7f7f7f\">__init__.py</span></a><span style=\"color: #7f7f7f; text-decoration-color: #7f7f7f\">:</span><a href=\"file:///home/maa/anaconda3/envs/phd/lib/python3.10/site-packages/kedro/ipython/__init__.py#104\" target=\"_blank\"><span style=\"color: #7f7f7f; text-decoration-color: #7f7f7f\">104</span></a>\n",
       "<span style=\"color: #7fbfbf; text-decoration-color: #7fbfbf\">                    </span>         <span style=\"color: #008000; text-decoration-color: #008000\">'pipelines'</span>                                                            <span style=\"color: #7f7f7f; text-decoration-color: #7f7f7f\">               </span>\n",
       "</pre>\n"
      ],
      "text/plain": [
       "\u001b[2;36m                   \u001b[0m\u001b[2;36m \u001b[0m\u001b[34mINFO    \u001b[0m Defined global variable \u001b[32m'context'\u001b[0m, \u001b[32m'session'\u001b[0m, \u001b[32m'catalog'\u001b[0m and            \u001b]8;id=208035;file:///home/maa/anaconda3/envs/phd/lib/python3.10/site-packages/kedro/ipython/__init__.py\u001b\\\u001b[2m__init__.py\u001b[0m\u001b]8;;\u001b\\\u001b[2m:\u001b[0m\u001b]8;id=546545;file:///home/maa/anaconda3/envs/phd/lib/python3.10/site-packages/kedro/ipython/__init__.py#104\u001b\\\u001b[2m104\u001b[0m\u001b]8;;\u001b\\\n",
       "\u001b[2;36m                    \u001b[0m         \u001b[32m'pipelines'\u001b[0m                                                            \u001b[2m               \u001b[0m\n"
      ]
     },
     "metadata": {},
     "output_type": "display_data"
    },
    {
     "data": {
      "text/html": [
       "<pre style=\"white-space:pre;overflow-x:auto;line-height:normal;font-family:Menlo,'DejaVu Sans Mono',consolas,'Courier New',monospace\"><span style=\"color: #7fbfbf; text-decoration-color: #7fbfbf\">                    </span><span style=\"color: #000080; text-decoration-color: #000080\">INFO    </span> Registered line magic <span style=\"color: #008000; text-decoration-color: #008000\">'run_viz'</span>                                        <a href=\"file:///home/maa/anaconda3/envs/phd/lib/python3.10/site-packages/kedro/ipython/__init__.py\" target=\"_blank\"><span style=\"color: #7f7f7f; text-decoration-color: #7f7f7f\">__init__.py</span></a><span style=\"color: #7f7f7f; text-decoration-color: #7f7f7f\">:</span><a href=\"file:///home/maa/anaconda3/envs/phd/lib/python3.10/site-packages/kedro/ipython/__init__.py#110\" target=\"_blank\"><span style=\"color: #7f7f7f; text-decoration-color: #7f7f7f\">110</span></a>\n",
       "</pre>\n"
      ],
      "text/plain": [
       "\u001b[2;36m                   \u001b[0m\u001b[2;36m \u001b[0m\u001b[34mINFO    \u001b[0m Registered line magic \u001b[32m'run_viz'\u001b[0m                                        \u001b]8;id=863029;file:///home/maa/anaconda3/envs/phd/lib/python3.10/site-packages/kedro/ipython/__init__.py\u001b\\\u001b[2m__init__.py\u001b[0m\u001b]8;;\u001b\\\u001b[2m:\u001b[0m\u001b]8;id=852903;file:///home/maa/anaconda3/envs/phd/lib/python3.10/site-packages/kedro/ipython/__init__.py#110\u001b\\\u001b[2m110\u001b[0m\u001b]8;;\u001b\\\n"
      ]
     },
     "metadata": {},
     "output_type": "display_data"
    },
    {
     "data": {
      "text/html": [
       "<pre style=\"white-space:pre;overflow-x:auto;line-height:normal;font-family:Menlo,'DejaVu Sans Mono',consolas,'Courier New',monospace\"><span style=\"color: #7fbfbf; text-decoration-color: #7fbfbf\">                    </span><span style=\"color: #000080; text-decoration-color: #000080\">INFO    </span> Loading data from <span style=\"color: #008000; text-decoration-color: #008000\">'7m.tests'</span> <span style=\"font-weight: bold\">(</span>PartitionedDataSet<span style=\"font-weight: bold\">)</span><span style=\"color: #808000; text-decoration-color: #808000\">...</span>               <a href=\"file:///home/maa/anaconda3/envs/phd/lib/python3.10/site-packages/kedro/io/data_catalog.py\" target=\"_blank\"><span style=\"color: #7f7f7f; text-decoration-color: #7f7f7f\">data_catalog.py</span></a><span style=\"color: #7f7f7f; text-decoration-color: #7f7f7f\">:</span><a href=\"file:///home/maa/anaconda3/envs/phd/lib/python3.10/site-packages/kedro/io/data_catalog.py#343\" target=\"_blank\"><span style=\"color: #7f7f7f; text-decoration-color: #7f7f7f\">343</span></a>\n",
       "</pre>\n"
      ],
      "text/plain": [
       "\u001b[2;36m                   \u001b[0m\u001b[2;36m \u001b[0m\u001b[34mINFO    \u001b[0m Loading data from \u001b[32m'7m.tests'\u001b[0m \u001b[1m(\u001b[0mPartitionedDataSet\u001b[1m)\u001b[0m\u001b[33m...\u001b[0m               \u001b]8;id=190827;file:///home/maa/anaconda3/envs/phd/lib/python3.10/site-packages/kedro/io/data_catalog.py\u001b\\\u001b[2mdata_catalog.py\u001b[0m\u001b]8;;\u001b\\\u001b[2m:\u001b[0m\u001b]8;id=395491;file:///home/maa/anaconda3/envs/phd/lib/python3.10/site-packages/kedro/io/data_catalog.py#343\u001b\\\u001b[2m343\u001b[0m\u001b]8;;\u001b\\\n"
      ]
     },
     "metadata": {},
     "output_type": "display_data"
    },
    {
     "data": {
      "text/html": [
       "<pre style=\"white-space:pre;overflow-x:auto;line-height:normal;font-family:Menlo,'DejaVu Sans Mono',consolas,'Courier New',monospace\"><span style=\"color: #7fbfbf; text-decoration-color: #7fbfbf\">                    </span><span style=\"color: #000080; text-decoration-color: #000080\">INFO    </span> Loading data from <span style=\"color: #008000; text-decoration-color: #008000\">'7m.ship_data'</span> <span style=\"font-weight: bold\">(</span>YAMLDataSet<span style=\"font-weight: bold\">)</span><span style=\"color: #808000; text-decoration-color: #808000\">...</span>                  <a href=\"file:///home/maa/anaconda3/envs/phd/lib/python3.10/site-packages/kedro/io/data_catalog.py\" target=\"_blank\"><span style=\"color: #7f7f7f; text-decoration-color: #7f7f7f\">data_catalog.py</span></a><span style=\"color: #7f7f7f; text-decoration-color: #7f7f7f\">:</span><a href=\"file:///home/maa/anaconda3/envs/phd/lib/python3.10/site-packages/kedro/io/data_catalog.py#343\" target=\"_blank\"><span style=\"color: #7f7f7f; text-decoration-color: #7f7f7f\">343</span></a>\n",
       "</pre>\n"
      ],
      "text/plain": [
       "\u001b[2;36m                   \u001b[0m\u001b[2;36m \u001b[0m\u001b[34mINFO    \u001b[0m Loading data from \u001b[32m'7m.ship_data'\u001b[0m \u001b[1m(\u001b[0mYAMLDataSet\u001b[1m)\u001b[0m\u001b[33m...\u001b[0m                  \u001b]8;id=440013;file:///home/maa/anaconda3/envs/phd/lib/python3.10/site-packages/kedro/io/data_catalog.py\u001b\\\u001b[2mdata_catalog.py\u001b[0m\u001b]8;;\u001b\\\u001b[2m:\u001b[0m\u001b]8;id=113826;file:///home/maa/anaconda3/envs/phd/lib/python3.10/site-packages/kedro/io/data_catalog.py#343\u001b\\\u001b[2m343\u001b[0m\u001b]8;;\u001b\\\n"
      ]
     },
     "metadata": {},
     "output_type": "display_data"
    },
    {
     "data": {
      "text/html": [
       "<pre style=\"white-space:pre;overflow-x:auto;line-height:normal;font-family:Menlo,'DejaVu Sans Mono',consolas,'Courier New',monospace\"><span style=\"color: #7fbfbf; text-decoration-color: #7fbfbf\">                    </span><span style=\"color: #000080; text-decoration-color: #000080\">INFO    </span> Loading data from <span style=\"color: #008000; text-decoration-color: #008000\">'params:7m.exclude_parameters'</span>                   <a href=\"file:///home/maa/anaconda3/envs/phd/lib/python3.10/site-packages/kedro/io/data_catalog.py\" target=\"_blank\"><span style=\"color: #7f7f7f; text-decoration-color: #7f7f7f\">data_catalog.py</span></a><span style=\"color: #7f7f7f; text-decoration-color: #7f7f7f\">:</span><a href=\"file:///home/maa/anaconda3/envs/phd/lib/python3.10/site-packages/kedro/io/data_catalog.py#343\" target=\"_blank\"><span style=\"color: #7f7f7f; text-decoration-color: #7f7f7f\">343</span></a>\n",
       "<span style=\"color: #7fbfbf; text-decoration-color: #7fbfbf\">                    </span>         <span style=\"font-weight: bold\">(</span>MemoryDataSet<span style=\"font-weight: bold\">)</span><span style=\"color: #808000; text-decoration-color: #808000\">...</span>                                                 <span style=\"color: #7f7f7f; text-decoration-color: #7f7f7f\">                   </span>\n",
       "</pre>\n"
      ],
      "text/plain": [
       "\u001b[2;36m                   \u001b[0m\u001b[2;36m \u001b[0m\u001b[34mINFO    \u001b[0m Loading data from \u001b[32m'params:7m.exclude_parameters'\u001b[0m                   \u001b]8;id=386183;file:///home/maa/anaconda3/envs/phd/lib/python3.10/site-packages/kedro/io/data_catalog.py\u001b\\\u001b[2mdata_catalog.py\u001b[0m\u001b]8;;\u001b\\\u001b[2m:\u001b[0m\u001b]8;id=926271;file:///home/maa/anaconda3/envs/phd/lib/python3.10/site-packages/kedro/io/data_catalog.py#343\u001b\\\u001b[2m343\u001b[0m\u001b]8;;\u001b\\\n",
       "\u001b[2;36m                    \u001b[0m         \u001b[1m(\u001b[0mMemoryDataSet\u001b[1m)\u001b[0m\u001b[33m...\u001b[0m                                                 \u001b[2m                   \u001b[0m\n"
      ]
     },
     "metadata": {},
     "output_type": "display_data"
    },
    {
     "data": {
      "text/html": [
       "<pre style=\"white-space:pre;overflow-x:auto;line-height:normal;font-family:Menlo,'DejaVu Sans Mono',consolas,'Courier New',monospace\"><span style=\"color: #7fbfbf; text-decoration-color: #7fbfbf\">                    </span><span style=\"color: #000080; text-decoration-color: #000080\">INFO    </span> Loading data from <span style=\"color: #008000; text-decoration-color: #008000\">'7m.test_meta_data'</span> <span style=\"font-weight: bold\">(</span>CSVDataSet<span style=\"font-weight: bold\">)</span><span style=\"color: #808000; text-decoration-color: #808000\">...</span>              <a href=\"file:///home/maa/anaconda3/envs/phd/lib/python3.10/site-packages/kedro/io/data_catalog.py\" target=\"_blank\"><span style=\"color: #7f7f7f; text-decoration-color: #7f7f7f\">data_catalog.py</span></a><span style=\"color: #7f7f7f; text-decoration-color: #7f7f7f\">:</span><a href=\"file:///home/maa/anaconda3/envs/phd/lib/python3.10/site-packages/kedro/io/data_catalog.py#343\" target=\"_blank\"><span style=\"color: #7f7f7f; text-decoration-color: #7f7f7f\">343</span></a>\n",
       "</pre>\n"
      ],
      "text/plain": [
       "\u001b[2;36m                   \u001b[0m\u001b[2;36m \u001b[0m\u001b[34mINFO    \u001b[0m Loading data from \u001b[32m'7m.test_meta_data'\u001b[0m \u001b[1m(\u001b[0mCSVDataSet\u001b[1m)\u001b[0m\u001b[33m...\u001b[0m              \u001b]8;id=426327;file:///home/maa/anaconda3/envs/phd/lib/python3.10/site-packages/kedro/io/data_catalog.py\u001b\\\u001b[2mdata_catalog.py\u001b[0m\u001b]8;;\u001b\\\u001b[2m:\u001b[0m\u001b]8;id=609830;file:///home/maa/anaconda3/envs/phd/lib/python3.10/site-packages/kedro/io/data_catalog.py#343\u001b\\\u001b[2m343\u001b[0m\u001b]8;;\u001b\\\n"
      ]
     },
     "metadata": {},
     "output_type": "display_data"
    },
    {
     "data": {
      "text/html": [
       "<pre style=\"white-space:pre;overflow-x:auto;line-height:normal;font-family:Menlo,'DejaVu Sans Mono',consolas,'Courier New',monospace\"><span style=\"color: #7fbfbf; text-decoration-color: #7fbfbf\">                    </span><span style=\"color: #000080; text-decoration-color: #000080\">INFO    </span> Loading data from <span style=\"color: #008000; text-decoration-color: #008000\">'7m.wind_data'</span> <span style=\"font-weight: bold\">(</span>CSVDataSet<span style=\"font-weight: bold\">)</span><span style=\"color: #808000; text-decoration-color: #808000\">...</span>                   <a href=\"file:///home/maa/anaconda3/envs/phd/lib/python3.10/site-packages/kedro/io/data_catalog.py\" target=\"_blank\"><span style=\"color: #7f7f7f; text-decoration-color: #7f7f7f\">data_catalog.py</span></a><span style=\"color: #7f7f7f; text-decoration-color: #7f7f7f\">:</span><a href=\"file:///home/maa/anaconda3/envs/phd/lib/python3.10/site-packages/kedro/io/data_catalog.py#343\" target=\"_blank\"><span style=\"color: #7f7f7f; text-decoration-color: #7f7f7f\">343</span></a>\n",
       "</pre>\n"
      ],
      "text/plain": [
       "\u001b[2;36m                   \u001b[0m\u001b[2;36m \u001b[0m\u001b[34mINFO    \u001b[0m Loading data from \u001b[32m'7m.wind_data'\u001b[0m \u001b[1m(\u001b[0mCSVDataSet\u001b[1m)\u001b[0m\u001b[33m...\u001b[0m                   \u001b]8;id=897612;file:///home/maa/anaconda3/envs/phd/lib/python3.10/site-packages/kedro/io/data_catalog.py\u001b\\\u001b[2mdata_catalog.py\u001b[0m\u001b]8;;\u001b\\\u001b[2m:\u001b[0m\u001b]8;id=554704;file:///home/maa/anaconda3/envs/phd/lib/python3.10/site-packages/kedro/io/data_catalog.py#343\u001b\\\u001b[2m343\u001b[0m\u001b]8;;\u001b\\\n"
      ]
     },
     "metadata": {},
     "output_type": "display_data"
    },
    {
     "data": {
      "text/html": [
       "<pre style=\"white-space:pre;overflow-x:auto;line-height:normal;font-family:Menlo,'DejaVu Sans Mono',consolas,'Courier New',monospace\"><span style=\"color: #7fbfbf; text-decoration-color: #7fbfbf\">                    </span><span style=\"color: #000080; text-decoration-color: #000080\">INFO    </span> Loading data from <span style=\"color: #008000; text-decoration-color: #008000\">'7m.models'</span> <span style=\"font-weight: bold\">(</span>PartitionedDataSet<span style=\"font-weight: bold\">)</span><span style=\"color: #808000; text-decoration-color: #808000\">...</span>              <a href=\"file:///home/maa/anaconda3/envs/phd/lib/python3.10/site-packages/kedro/io/data_catalog.py\" target=\"_blank\"><span style=\"color: #7f7f7f; text-decoration-color: #7f7f7f\">data_catalog.py</span></a><span style=\"color: #7f7f7f; text-decoration-color: #7f7f7f\">:</span><a href=\"file:///home/maa/anaconda3/envs/phd/lib/python3.10/site-packages/kedro/io/data_catalog.py#343\" target=\"_blank\"><span style=\"color: #7f7f7f; text-decoration-color: #7f7f7f\">343</span></a>\n",
       "</pre>\n"
      ],
      "text/plain": [
       "\u001b[2;36m                   \u001b[0m\u001b[2;36m \u001b[0m\u001b[34mINFO    \u001b[0m Loading data from \u001b[32m'7m.models'\u001b[0m \u001b[1m(\u001b[0mPartitionedDataSet\u001b[1m)\u001b[0m\u001b[33m...\u001b[0m              \u001b]8;id=433452;file:///home/maa/anaconda3/envs/phd/lib/python3.10/site-packages/kedro/io/data_catalog.py\u001b\\\u001b[2mdata_catalog.py\u001b[0m\u001b]8;;\u001b\\\u001b[2m:\u001b[0m\u001b]8;id=854778;file:///home/maa/anaconda3/envs/phd/lib/python3.10/site-packages/kedro/io/data_catalog.py#343\u001b\\\u001b[2m343\u001b[0m\u001b]8;;\u001b\\\n"
      ]
     },
     "metadata": {},
     "output_type": "display_data"
    },
    {
     "data": {
      "text/html": [
       "<pre style=\"white-space:pre;overflow-x:auto;line-height:normal;font-family:Menlo,'DejaVu Sans Mono',consolas,'Courier New',monospace\"><span style=\"color: #7fbfbf; text-decoration-color: #7fbfbf\">                    </span><span style=\"color: #000080; text-decoration-color: #000080\">INFO    </span> Loading data from <span style=\"color: #008000; text-decoration-color: #008000\">'wPCC.models'</span> <span style=\"font-weight: bold\">(</span>PartitionedDataSet<span style=\"font-weight: bold\">)</span><span style=\"color: #808000; text-decoration-color: #808000\">...</span>            <a href=\"file:///home/maa/anaconda3/envs/phd/lib/python3.10/site-packages/kedro/io/data_catalog.py\" target=\"_blank\"><span style=\"color: #7f7f7f; text-decoration-color: #7f7f7f\">data_catalog.py</span></a><span style=\"color: #7f7f7f; text-decoration-color: #7f7f7f\">:</span><a href=\"file:///home/maa/anaconda3/envs/phd/lib/python3.10/site-packages/kedro/io/data_catalog.py#343\" target=\"_blank\"><span style=\"color: #7f7f7f; text-decoration-color: #7f7f7f\">343</span></a>\n",
       "</pre>\n"
      ],
      "text/plain": [
       "\u001b[2;36m                   \u001b[0m\u001b[2;36m \u001b[0m\u001b[34mINFO    \u001b[0m Loading data from \u001b[32m'wPCC.models'\u001b[0m \u001b[1m(\u001b[0mPartitionedDataSet\u001b[1m)\u001b[0m\u001b[33m...\u001b[0m            \u001b]8;id=965397;file:///home/maa/anaconda3/envs/phd/lib/python3.10/site-packages/kedro/io/data_catalog.py\u001b\\\u001b[2mdata_catalog.py\u001b[0m\u001b]8;;\u001b\\\u001b[2m:\u001b[0m\u001b]8;id=299963;file:///home/maa/anaconda3/envs/phd/lib/python3.10/site-packages/kedro/io/data_catalog.py#343\u001b\\\u001b[2m343\u001b[0m\u001b]8;;\u001b\\\n"
      ]
     },
     "metadata": {},
     "output_type": "display_data"
    }
   ],
   "source": [
    "%reload_kedro\n",
    "ship='7m'\n",
    "\n",
    "time_series = catalog.load(f\"{ship}.tests\")\n",
    "ship_data = catalog.load(f\"{ship}.ship_data\")\n",
    "exclude_parameters = catalog.load(f\"params:{ship}.exclude_parameters\")\n",
    "time_series_meta_data = catalog.load(f\"{ship}.test_meta_data\")\n",
    "time_series_meta_data.index = time_series_meta_data.index.astype(str)\n",
    "wind_data = catalog.load(f\"{ship}.wind_data\")\n",
    "model_loaders = catalog.load(f\"{ship}.models\")\n",
    "MDL_model_loader = catalog.load(f\"wPCC.models\")"
   ]
  },
  {
   "cell_type": "code",
   "execution_count": 7,
   "id": "8f8a40a9-3bd8-44ad-87d5-2e26ed0847f2",
   "metadata": {},
   "outputs": [],
   "source": [
    "model_wPCC_MDL = MDL_model_loader['wpcc.updated.vmm_martins_simple.joined.model']()"
   ]
  },
  {
   "cell_type": "markdown",
   "id": "ec167e6d-1d03-475c-be94-ed60beee259a",
   "metadata": {},
   "source": [
    "## Update with 7m main dimensions"
   ]
  },
  {
   "cell_type": "code",
   "execution_count": 8,
   "id": "11df9388-5023-4be0-a802-b1e15587a116",
   "metadata": {},
   "outputs": [],
   "source": [
    "model_7m_MDL = model_wPCC_MDL.copy()\n",
    "model_7m_MDL.ship_parameters.update(ship_data)\n",
    "model_7m_MDL = deepcopy(model_7m_MDL)"
   ]
  },
  {
   "cell_type": "markdown",
   "id": "723e73eb-8a43-4982-aa1c-c740cdfbc9f5",
   "metadata": {},
   "source": [
    "## Add propeller thrust model"
   ]
  },
  {
   "cell_type": "markdown",
   "id": "9d37debb-34ac-4142-a660-d8eb31dfe8fd",
   "metadata": {},
   "source": [
    "Assuming that $w_p := w_{p0}$ is a good model:"
   ]
  },
  {
   "cell_type": "code",
   "execution_count": 9,
   "id": "35491ac4-3c09-438d-b148-5c3ac752c4a3",
   "metadata": {},
   "outputs": [
    {
     "data": {
      "text/latex": [
       "$\\displaystyle w_{p} = C_{0 w p0} + \\frac{C_{1 w p0} U}{\\sqrt{L g}}$"
      ],
      "text/plain": [
       "Eq(w_p, C0_w_p0 + C1_w_p0*U/sqrt(L*g))"
      ]
     },
     "execution_count": 9,
     "metadata": {},
     "output_type": "execute_result"
    }
   ],
   "source": [
    "eq_w_p = eq_w_p0.subs(w_p0,w_p)\n",
    "eq_w_p"
   ]
  },
  {
   "cell_type": "code",
   "execution_count": 10,
   "id": "50faaf69-083f-40c3-b58f-0305e6c295d9",
   "metadata": {},
   "outputs": [
    {
     "data": {
      "text/latex": [
       "$\\displaystyle thrust_{propeller} = \\frac{D^{2} n_{prop} \\rho \\left(C_{0 w p0}^{2} L g k_{2} u^{2} + 2 C_{0 w p0} C_{1 w p0} U k_{2} u^{2} \\sqrt{L g} - C_{0 w p0} D L g k_{1} rev u - 2 C_{0 w p0} L g k_{2} u^{2} + C_{1 w p0}^{2} U^{2} k_{2} u^{2} - C_{1 w p0} D U k_{1} rev u \\sqrt{L g} - 2 C_{1 w p0} U k_{2} u^{2} \\sqrt{L g} + D^{2} L g k_{0} rev^{2} + D L g k_{1} rev u + L g k_{2} u^{2}\\right)}{L g}$"
      ],
      "text/plain": [
       "Eq(thrust_propeller, D**2*n_prop*rho*(C0_w_p0**2*L*g*k_2*u**2 + 2*C0_w_p0*C1_w_p0*U*k_2*u**2*sqrt(L*g) - C0_w_p0*D*L*g*k_1*rev*u - 2*C0_w_p0*L*g*k_2*u**2 + C1_w_p0**2*U**2*k_2*u**2 - C1_w_p0*D*U*k_1*rev*u*sqrt(L*g) - 2*C1_w_p0*U*k_2*u**2*sqrt(L*g) + D**2*L*g*k_0*rev**2 + D*L*g*k_1*rev*u + L*g*k_2*u**2)/(L*g))"
      ]
     },
     "execution_count": 10,
     "metadata": {},
     "output_type": "execute_result"
    }
   ],
   "source": [
    "eqs = [eq_T,eq_K_T, eq_J, eq_w_p]\n",
    "solution = sp.solve(eqs, thrust_propeller, K_T, J, w_p, dict=True)\n",
    "eq_thrust_propeller = sp.Eq(thrust_propeller,n_prop*solution[0][thrust_propeller])\n",
    "eq_thrust_propeller"
   ]
  },
  {
   "cell_type": "code",
   "execution_count": 11,
   "id": "5d298db6-20e2-4a68-a208-aab34b44abaf",
   "metadata": {},
   "outputs": [],
   "source": [
    "lambda_thrust = lambdify(eq_thrust_propeller.rhs)"
   ]
  },
  {
   "cell_type": "code",
   "execution_count": 12,
   "id": "38de228a-031e-43a6-aabd-37d6bcb9edd9",
   "metadata": {},
   "outputs": [],
   "source": [
    "params_thrust = {\n",
    "    'C0_w_p0': 0.10378571428571445,\n",
    "     'C1_w_p0': 0.24690520231438584,\n",
    "     'k_0': 0.576581716472807,\n",
    "     'k_1': -0.3683675998138215,\n",
    "     'k_2': -0.07542975438913463\n",
    "}"
   ]
  },
  {
   "cell_type": "code",
   "execution_count": 13,
   "id": "b47eba76-aea6-4bac-bfd7-cd185e67fe75",
   "metadata": {},
   "outputs": [],
   "source": [
    "parameters = dict(model_7m_MDL.parameters.copy())\n",
    "parameters.update(params_thrust)\n",
    "g_=9.81\n",
    "parameters['g'] = g_\n",
    "\n",
    "model_with_propeller = ModelSimulatorWithPropeller(simulator=model_7m_MDL, \n",
    "                                                   parameters=parameters, \n",
    "                                                   ship_parameters=model_7m_MDL.ship_parameters, \n",
    "                                                   prime_system=model_7m_MDL.prime_system, \n",
    "                                                   lambda_thrust=lambda_thrust)\n",
    "model_with_propeller.parameters = parameters\n",
    "model_with_propeller.ship_parameters['n_prop'] = ship_data['n_prop']"
   ]
  },
  {
   "cell_type": "markdown",
   "id": "fd0c7a97-1295-455e-aa4b-3a91fd75666b",
   "metadata": {},
   "source": [
    "## Add wind force model"
   ]
  },
  {
   "cell_type": "code",
   "execution_count": 14,
   "id": "d561a04d-4558-49ba-83a5-2f46c8f27c69",
   "metadata": {},
   "outputs": [],
   "source": [
    "C_x,C_y,C_n = sp.symbols(\"C_x,C_y,C_n\")"
   ]
  },
  {
   "cell_type": "code",
   "execution_count": 15,
   "id": "d63b9c74-9b8e-46ce-aed9-ce6405efcb3b",
   "metadata": {},
   "outputs": [
    {
     "data": {
      "text/latex": [
       "$\\displaystyle C_{x} = C_{x0} + C_{x1} \\left|{awa}\\right| + C_{x2} awa^{2} + C_{x3} awa^{2} \\left|{awa}\\right| + C_{x4} awa^{4} + C_{x5} awa^{4} \\left|{awa}\\right|$"
      ],
      "text/plain": [
       "Eq(C_x, C_x0 + C_x1*Abs(awa) + C_x2*awa**2 + C_x3*awa**2*Abs(awa) + C_x4*awa**4 + C_x5*awa**4*Abs(awa))"
      ]
     },
     "metadata": {},
     "output_type": "display_data"
    },
    {
     "data": {
      "text/latex": [
       "$\\displaystyle C_{y} = C_{y1} awa + C_{y2} awa \\left|{awa}\\right| + C_{y3} awa^{3}$"
      ],
      "text/plain": [
       "Eq(C_y, C_y1*awa + C_y2*awa*Abs(awa) + C_y3*awa**3)"
      ]
     },
     "metadata": {},
     "output_type": "display_data"
    },
    {
     "data": {
      "text/latex": [
       "$\\displaystyle C_{n} = C_{n1} awa + C_{n2} awa \\left|{awa}\\right| + C_{n3} awa^{3}$"
      ],
      "text/plain": [
       "Eq(C_n, C_n1*awa + C_n2*awa*Abs(awa) + C_n3*awa**3)"
      ]
     },
     "metadata": {},
     "output_type": "display_data"
    },
    {
     "data": {
      "text/latex": [
       "$\\displaystyle F_{Wx} = A_{XV} C_{x0} aws^{2} \\rho_{A} + A_{XV} C_{x1} aws^{2} \\rho_{A} \\left|{awa}\\right| + A_{XV} C_{x2} awa^{2} aws^{2} \\rho_{A} + A_{XV} C_{x3} awa^{2} aws^{2} \\rho_{A} \\left|{awa}\\right| + A_{XV} C_{x4} awa^{4} aws^{2} \\rho_{A} + A_{XV} C_{x5} awa^{4} aws^{2} \\rho_{A} \\left|{awa}\\right|$"
      ],
      "text/plain": [
       "Eq(F_Wx, A_XV*C_x0*aws**2*rho_A + A_XV*C_x1*aws**2*rho_A*Abs(awa) + A_XV*C_x2*awa**2*aws**2*rho_A + A_XV*C_x3*awa**2*aws**2*rho_A*Abs(awa) + A_XV*C_x4*awa**4*aws**2*rho_A + A_XV*C_x5*awa**4*aws**2*rho_A*Abs(awa))"
      ]
     },
     "metadata": {},
     "output_type": "display_data"
    },
    {
     "data": {
      "text/latex": [
       "$\\displaystyle F_{Wy} = A_{YV} C_{y1} awa aws^{2} \\rho_{A} + A_{YV} C_{y2} awa aws^{2} \\rho_{A} \\left|{awa}\\right| + A_{YV} C_{y3} awa^{3} aws^{2} \\rho_{A}$"
      ],
      "text/plain": [
       "Eq(F_Wy, A_YV*C_y1*awa*aws**2*rho_A + A_YV*C_y2*awa*aws**2*rho_A*Abs(awa) + A_YV*C_y3*awa**3*aws**2*rho_A)"
      ]
     },
     "metadata": {},
     "output_type": "display_data"
    },
    {
     "data": {
      "text/latex": [
       "$\\displaystyle M_{Wz} = A_{YV} C_{n1} L awa aws^{2} \\rho_{A} + A_{YV} C_{n2} L awa aws^{2} \\rho_{A} \\left|{awa}\\right| + A_{YV} C_{n3} L awa^{3} aws^{2} \\rho_{A}$"
      ],
      "text/plain": [
       "Eq(M_Wz, A_YV*C_n1*L*awa*aws**2*rho_A + A_YV*C_n2*L*awa*aws**2*rho_A*Abs(awa) + A_YV*C_n3*L*awa**3*aws**2*rho_A)"
      ]
     },
     "metadata": {},
     "output_type": "display_data"
    }
   ],
   "source": [
    "deg_x = 5\n",
    "C_xs = eq_abs(deg=deg_x, symbol_prefix='C_x')\n",
    "eq_C_x = sp.Eq(C_x,C_xs)\n",
    "eq_F_Wx = sp.expand(sp.Eq(F_Wx, rho_A*A_XV*aws**2*C_xs))  # 1/2 is stored in the C_x...\n",
    "\n",
    "deg_y = 3\n",
    "C_ys = eq_sign(deg=deg_y, symbol_prefix='C_y', const=False) # 1/2 is stored in the C_y...\n",
    "eq_C_y = sp.Eq(C_y,C_ys)\n",
    "eq_F_Wy = sp.expand(sp.Eq(F_Wy, rho_A*A_YV*aws**2*C_ys))\n",
    "\n",
    "deg_n = 3\n",
    "C_ns = eq_sign(deg=deg_n, symbol_prefix='C_n', const=False)\n",
    "eq_C_n = sp.Eq(C_n,C_ns)\n",
    "eq_M_Wz = sp.expand(sp.Eq(M_Wz, rho_A*A_YV*aws**2*C_ns*L)) # 1/2 is stored in the C_n...\n",
    "\n",
    "display(eq_C_x)\n",
    "display(eq_C_y)\n",
    "display(eq_C_n)\n",
    "\n",
    "display(eq_F_Wx)\n",
    "display(eq_F_Wy)\n",
    "display(eq_M_Wz)"
   ]
  },
  {
   "cell_type": "code",
   "execution_count": 16,
   "id": "c5813e32-bf8f-432a-9ef2-7895f610b9aa",
   "metadata": {},
   "outputs": [],
   "source": [
    "eq_to_matrix_C_x = DiffEqToMatrix(eq_C_x, label=C_x, base_features=[awa])"
   ]
  },
  {
   "cell_type": "code",
   "execution_count": 17,
   "id": "d3ed5943-37c7-4b62-a6e5-5c356949710b",
   "metadata": {},
   "outputs": [
    {
     "data": {
      "text/latex": [
       "$\\displaystyle \\beta = \\left[\\begin{matrix}C_{x0}\\\\C_{x1}\\\\C_{x2}\\\\C_{x3}\\\\C_{x4}\\\\C_{x5}\\end{matrix}\\right]$"
      ],
      "text/plain": [
       "Eq(beta, Matrix([\n",
       "[C_x0],\n",
       "[C_x1],\n",
       "[C_x2],\n",
       "[C_x3],\n",
       "[C_x4],\n",
       "[C_x5]]))"
      ]
     },
     "execution_count": 17,
     "metadata": {},
     "output_type": "execute_result"
    }
   ],
   "source": [
    "eq_to_matrix_C_x.eq_beta"
   ]
  },
  {
   "cell_type": "code",
   "execution_count": 18,
   "id": "54fa6da4-a201-4d0b-abf9-7ff6c173e72b",
   "metadata": {},
   "outputs": [
    {
     "data": {
      "text/latex": [
       "$\\displaystyle X = \\left[\\begin{matrix}1 & \\left|{awa}\\right| & awa^{2} & awa^{2} \\left|{awa}\\right| & awa^{4} & awa^{4} \\left|{awa}\\right|\\end{matrix}\\right]$"
      ],
      "text/plain": [
       "Eq(X, Matrix([[1, Abs(awa), awa**2, awa**2*Abs(awa), awa**4, awa**4*Abs(awa)]]))"
      ]
     },
     "execution_count": 18,
     "metadata": {},
     "output_type": "execute_result"
    }
   ],
   "source": [
    "eq_to_matrix_C_x.eq_X"
   ]
  },
  {
   "cell_type": "markdown",
   "id": "67e6ca23-c8bb-4a0d-8808-87305d4cf600",
   "metadata": {},
   "source": [
    "## Coefficients"
   ]
  },
  {
   "cell_type": "code",
   "execution_count": 19,
   "id": "3521face-c5c6-4dcc-81b3-1df8e62ab6ed",
   "metadata": {},
   "outputs": [],
   "source": [
    "wind_data_HMD = pd.read_csv(\"HMD_PCTC.wind_data.csv\", index_col=0)\n",
    "wind_data_HMD.rename(columns={column:column.lower().replace(' ','') for column in wind_data_HMD.columns}, inplace=True)\n",
    "wind_data_HMD.index=360-wind_data_HMD.index\n",
    "wind_data_HMD.index = np.deg2rad(wind_data_HMD.index)\n",
    "wind_data_HMD.index = np.mod(wind_data_HMD.index + np.pi, 2 * np.pi) - np.pi\n",
    "wind_data_HMD['awa'] = wind_data_HMD.index\n",
    "wind_data_HMD.index.name = \"awa [rad]\"\n",
    "wind_data_HMD.sort_index(inplace=True)"
   ]
  },
  {
   "cell_type": "code",
   "execution_count": 20,
   "id": "2340ffaf-f067-4e6b-bfa5-efd46cd729d2",
   "metadata": {},
   "outputs": [
    {
     "data": {
      "text/html": [
       "<table class=\"simpletable\">\n",
       "<caption>OLS Regression Results</caption>\n",
       "<tr>\n",
       "  <th>Dep. Variable:</th>           <td>cx</td>        <th>  R-squared (uncentered):</th>      <td>   0.910</td>\n",
       "</tr>\n",
       "<tr>\n",
       "  <th>Model:</th>                   <td>OLS</td>       <th>  Adj. R-squared (uncentered):</th> <td>   0.892</td>\n",
       "</tr>\n",
       "<tr>\n",
       "  <th>Method:</th>             <td>Least Squares</td>  <th>  F-statistic:       </th>          <td>   52.08</td>\n",
       "</tr>\n",
       "<tr>\n",
       "  <th>Date:</th>             <td>Tue, 30 May 2023</td> <th>  Prob (F-statistic):</th>          <td>7.81e-15</td>\n",
       "</tr>\n",
       "<tr>\n",
       "  <th>Time:</th>                 <td>15:30:58</td>     <th>  Log-Likelihood:    </th>          <td>  15.118</td>\n",
       "</tr>\n",
       "<tr>\n",
       "  <th>No. Observations:</th>      <td>    37</td>      <th>  AIC:               </th>          <td>  -18.24</td>\n",
       "</tr>\n",
       "<tr>\n",
       "  <th>Df Residuals:</th>          <td>    31</td>      <th>  BIC:               </th>          <td>  -8.570</td>\n",
       "</tr>\n",
       "<tr>\n",
       "  <th>Df Model:</th>              <td>     6</td>      <th>                     </th>              <td> </td>   \n",
       "</tr>\n",
       "<tr>\n",
       "  <th>Covariance Type:</th>      <td>nonrobust</td>    <th>                     </th>              <td> </td>   \n",
       "</tr>\n",
       "</table>\n",
       "<table class=\"simpletable\">\n",
       "<tr>\n",
       "    <td></td>      <th>coef</th>     <th>std err</th>      <th>t</th>      <th>P>|t|</th>  <th>[0.025</th>    <th>0.975]</th>  \n",
       "</tr>\n",
       "<tr>\n",
       "  <th>C_x0</th> <td>   -0.5972</td> <td>    0.115</td> <td>   -5.172</td> <td> 0.000</td> <td>   -0.833</td> <td>   -0.362</td>\n",
       "</tr>\n",
       "<tr>\n",
       "  <th>C_x1</th> <td>   -0.9193</td> <td>    0.822</td> <td>   -1.119</td> <td> 0.272</td> <td>   -2.595</td> <td>    0.756</td>\n",
       "</tr>\n",
       "<tr>\n",
       "  <th>C_x2</th> <td>    4.0736</td> <td>    1.752</td> <td>    2.325</td> <td> 0.027</td> <td>    0.500</td> <td>    7.647</td>\n",
       "</tr>\n",
       "<tr>\n",
       "  <th>C_x3</th> <td>   -4.2666</td> <td>    1.470</td> <td>   -2.902</td> <td> 0.007</td> <td>   -7.265</td> <td>   -1.268</td>\n",
       "</tr>\n",
       "<tr>\n",
       "  <th>C_x4</th> <td>    1.7587</td> <td>    0.527</td> <td>    3.340</td> <td> 0.002</td> <td>    0.685</td> <td>    2.833</td>\n",
       "</tr>\n",
       "<tr>\n",
       "  <th>C_x5</th> <td>   -0.2453</td> <td>    0.067</td> <td>   -3.638</td> <td> 0.001</td> <td>   -0.383</td> <td>   -0.108</td>\n",
       "</tr>\n",
       "</table>\n",
       "<table class=\"simpletable\">\n",
       "<tr>\n",
       "  <th>Omnibus:</th>       <td> 1.469</td> <th>  Durbin-Watson:     </th> <td>   0.515</td>\n",
       "</tr>\n",
       "<tr>\n",
       "  <th>Prob(Omnibus):</th> <td> 0.480</td> <th>  Jarque-Bera (JB):  </th> <td>   1.260</td>\n",
       "</tr>\n",
       "<tr>\n",
       "  <th>Skew:</th>          <td> 0.436</td> <th>  Prob(JB):          </th> <td>   0.533</td>\n",
       "</tr>\n",
       "<tr>\n",
       "  <th>Kurtosis:</th>      <td> 2.762</td> <th>  Cond. No.          </th> <td>8.39e+03</td>\n",
       "</tr>\n",
       "</table><br/><br/>Notes:<br/>[1] R² is computed without centering (uncentered) since the model does not contain a constant.<br/>[2] Standard Errors assume that the covariance matrix of the errors is correctly specified.<br/>[3] The condition number is large, 8.39e+03. This might indicate that there are<br/>strong multicollinearity or other numerical problems."
      ],
      "text/plain": [
       "<class 'statsmodels.iolib.summary.Summary'>\n",
       "\"\"\"\n",
       "                                 OLS Regression Results                                \n",
       "=======================================================================================\n",
       "Dep. Variable:                     cx   R-squared (uncentered):                   0.910\n",
       "Model:                            OLS   Adj. R-squared (uncentered):              0.892\n",
       "Method:                 Least Squares   F-statistic:                              52.08\n",
       "Date:                Tue, 30 May 2023   Prob (F-statistic):                    7.81e-15\n",
       "Time:                        15:30:58   Log-Likelihood:                          15.118\n",
       "No. Observations:                  37   AIC:                                     -18.24\n",
       "Df Residuals:                      31   BIC:                                     -8.570\n",
       "Df Model:                           6                                                  \n",
       "Covariance Type:            nonrobust                                                  \n",
       "==============================================================================\n",
       "                 coef    std err          t      P>|t|      [0.025      0.975]\n",
       "------------------------------------------------------------------------------\n",
       "C_x0          -0.5972      0.115     -5.172      0.000      -0.833      -0.362\n",
       "C_x1          -0.9193      0.822     -1.119      0.272      -2.595       0.756\n",
       "C_x2           4.0736      1.752      2.325      0.027       0.500       7.647\n",
       "C_x3          -4.2666      1.470     -2.902      0.007      -7.265      -1.268\n",
       "C_x4           1.7587      0.527      3.340      0.002       0.685       2.833\n",
       "C_x5          -0.2453      0.067     -3.638      0.001      -0.383      -0.108\n",
       "==============================================================================\n",
       "Omnibus:                        1.469   Durbin-Watson:                   0.515\n",
       "Prob(Omnibus):                  0.480   Jarque-Bera (JB):                1.260\n",
       "Skew:                           0.436   Prob(JB):                        0.533\n",
       "Kurtosis:                       2.762   Cond. No.                     8.39e+03\n",
       "==============================================================================\n",
       "\n",
       "Notes:\n",
       "[1] R² is computed without centering (uncentered) since the model does not contain a constant.\n",
       "[2] Standard Errors assume that the covariance matrix of the errors is correctly specified.\n",
       "[3] The condition number is large, 8.39e+03. This might indicate that there are\n",
       "strong multicollinearity or other numerical problems.\n",
       "\"\"\""
      ]
     },
     "execution_count": 20,
     "metadata": {},
     "output_type": "execute_result"
    }
   ],
   "source": [
    "params_wind = {}\n",
    "X,y = eq_to_matrix_C_x.calculate_features_and_label(data=wind_data_HMD, y=wind_data_HMD['cx'], simplify_names=False)\n",
    "model_C_x = sm.OLS(y,X, hasconst=False)\n",
    "model_C_x_fit = model_C_x.fit()\n",
    "params_wind.update(model_C_x_fit.params)\n",
    "model_C_x_fit.summary()"
   ]
  },
  {
   "cell_type": "code",
   "execution_count": 21,
   "id": "7c460a6e-492f-4524-9757-945e818b155d",
   "metadata": {},
   "outputs": [
    {
     "data": {
      "text/html": [
       "<table class=\"simpletable\">\n",
       "<caption>OLS Regression Results</caption>\n",
       "<tr>\n",
       "  <th>Dep. Variable:</th>           <td>cy</td>        <th>  R-squared (uncentered):</th>      <td>   0.993</td>\n",
       "</tr>\n",
       "<tr>\n",
       "  <th>Model:</th>                   <td>OLS</td>       <th>  Adj. R-squared (uncentered):</th> <td>   0.992</td>\n",
       "</tr>\n",
       "<tr>\n",
       "  <th>Method:</th>             <td>Least Squares</td>  <th>  F-statistic:       </th>          <td>   1591.</td>\n",
       "</tr>\n",
       "<tr>\n",
       "  <th>Date:</th>             <td>Tue, 30 May 2023</td> <th>  Prob (F-statistic):</th>          <td>1.31e-36</td>\n",
       "</tr>\n",
       "<tr>\n",
       "  <th>Time:</th>                 <td>15:30:58</td>     <th>  Log-Likelihood:    </th>          <td>  46.821</td>\n",
       "</tr>\n",
       "<tr>\n",
       "  <th>No. Observations:</th>      <td>    37</td>      <th>  AIC:               </th>          <td>  -87.64</td>\n",
       "</tr>\n",
       "<tr>\n",
       "  <th>Df Residuals:</th>          <td>    34</td>      <th>  BIC:               </th>          <td>  -82.81</td>\n",
       "</tr>\n",
       "<tr>\n",
       "  <th>Df Model:</th>              <td>     3</td>      <th>                     </th>              <td> </td>   \n",
       "</tr>\n",
       "<tr>\n",
       "  <th>Covariance Type:</th>      <td>nonrobust</td>    <th>                     </th>              <td> </td>   \n",
       "</tr>\n",
       "</table>\n",
       "<table class=\"simpletable\">\n",
       "<tr>\n",
       "    <td></td>      <th>coef</th>     <th>std err</th>      <th>t</th>      <th>P>|t|</th>  <th>[0.025</th>    <th>0.975]</th>  \n",
       "</tr>\n",
       "<tr>\n",
       "  <th>C_y1</th> <td>   -1.5838</td> <td>    0.065</td> <td>  -24.431</td> <td> 0.000</td> <td>   -1.716</td> <td>   -1.452</td>\n",
       "</tr>\n",
       "<tr>\n",
       "  <th>C_y2</th> <td>    0.5956</td> <td>    0.064</td> <td>    9.364</td> <td> 0.000</td> <td>    0.466</td> <td>    0.725</td>\n",
       "</tr>\n",
       "<tr>\n",
       "  <th>C_y3</th> <td>   -0.0279</td> <td>    0.015</td> <td>   -1.869</td> <td> 0.070</td> <td>   -0.058</td> <td>    0.002</td>\n",
       "</tr>\n",
       "</table>\n",
       "<table class=\"simpletable\">\n",
       "<tr>\n",
       "  <th>Omnibus:</th>       <td> 0.566</td> <th>  Durbin-Watson:     </th> <td>   0.502</td>\n",
       "</tr>\n",
       "<tr>\n",
       "  <th>Prob(Omnibus):</th> <td> 0.754</td> <th>  Jarque-Bera (JB):  </th> <td>   0.569</td>\n",
       "</tr>\n",
       "<tr>\n",
       "  <th>Skew:</th>          <td> 0.267</td> <th>  Prob(JB):          </th> <td>   0.752</td>\n",
       "</tr>\n",
       "<tr>\n",
       "  <th>Kurtosis:</th>      <td> 2.711</td> <th>  Cond. No.          </th> <td>    97.4</td>\n",
       "</tr>\n",
       "</table><br/><br/>Notes:<br/>[1] R² is computed without centering (uncentered) since the model does not contain a constant.<br/>[2] Standard Errors assume that the covariance matrix of the errors is correctly specified."
      ],
      "text/plain": [
       "<class 'statsmodels.iolib.summary.Summary'>\n",
       "\"\"\"\n",
       "                                 OLS Regression Results                                \n",
       "=======================================================================================\n",
       "Dep. Variable:                     cy   R-squared (uncentered):                   0.993\n",
       "Model:                            OLS   Adj. R-squared (uncentered):              0.992\n",
       "Method:                 Least Squares   F-statistic:                              1591.\n",
       "Date:                Tue, 30 May 2023   Prob (F-statistic):                    1.31e-36\n",
       "Time:                        15:30:58   Log-Likelihood:                          46.821\n",
       "No. Observations:                  37   AIC:                                     -87.64\n",
       "Df Residuals:                      34   BIC:                                     -82.81\n",
       "Df Model:                           3                                                  \n",
       "Covariance Type:            nonrobust                                                  \n",
       "==============================================================================\n",
       "                 coef    std err          t      P>|t|      [0.025      0.975]\n",
       "------------------------------------------------------------------------------\n",
       "C_y1          -1.5838      0.065    -24.431      0.000      -1.716      -1.452\n",
       "C_y2           0.5956      0.064      9.364      0.000       0.466       0.725\n",
       "C_y3          -0.0279      0.015     -1.869      0.070      -0.058       0.002\n",
       "==============================================================================\n",
       "Omnibus:                        0.566   Durbin-Watson:                   0.502\n",
       "Prob(Omnibus):                  0.754   Jarque-Bera (JB):                0.569\n",
       "Skew:                           0.267   Prob(JB):                        0.752\n",
       "Kurtosis:                       2.711   Cond. No.                         97.4\n",
       "==============================================================================\n",
       "\n",
       "Notes:\n",
       "[1] R² is computed without centering (uncentered) since the model does not contain a constant.\n",
       "[2] Standard Errors assume that the covariance matrix of the errors is correctly specified.\n",
       "\"\"\""
      ]
     },
     "execution_count": 21,
     "metadata": {},
     "output_type": "execute_result"
    }
   ],
   "source": [
    "eq_to_matrix_C_y = DiffEqToMatrix(eq_C_y, label=C_y, base_features=[awa])\n",
    "X,y = eq_to_matrix_C_y.calculate_features_and_label(data=wind_data_HMD, y=wind_data_HMD['cy'], simplify_names=False)\n",
    "model_C_y = sm.OLS(y,X, hasconst=False)\n",
    "model_C_y_fit = model_C_y.fit()\n",
    "params_wind.update(model_C_y_fit.params)\n",
    "model_C_y_fit.summary()"
   ]
  },
  {
   "cell_type": "code",
   "execution_count": 22,
   "id": "ed5d5df4-97bc-4c90-a439-851f0ba2539f",
   "metadata": {},
   "outputs": [
    {
     "data": {
      "text/html": [
       "<table class=\"simpletable\">\n",
       "<caption>OLS Regression Results</caption>\n",
       "<tr>\n",
       "  <th>Dep. Variable:</th>           <td>cn</td>        <th>  R-squared (uncentered):</th>      <td>   0.955</td>\n",
       "</tr>\n",
       "<tr>\n",
       "  <th>Model:</th>                   <td>OLS</td>       <th>  Adj. R-squared (uncentered):</th> <td>   0.951</td>\n",
       "</tr>\n",
       "<tr>\n",
       "  <th>Method:</th>             <td>Least Squares</td>  <th>  F-statistic:       </th>          <td>   241.4</td>\n",
       "</tr>\n",
       "<tr>\n",
       "  <th>Date:</th>             <td>Tue, 30 May 2023</td> <th>  Prob (F-statistic):</th>          <td>5.56e-23</td>\n",
       "</tr>\n",
       "<tr>\n",
       "  <th>Time:</th>                 <td>15:30:58</td>     <th>  Log-Likelihood:    </th>          <td>  100.61</td>\n",
       "</tr>\n",
       "<tr>\n",
       "  <th>No. Observations:</th>      <td>    37</td>      <th>  AIC:               </th>          <td>  -195.2</td>\n",
       "</tr>\n",
       "<tr>\n",
       "  <th>Df Residuals:</th>          <td>    34</td>      <th>  BIC:               </th>          <td>  -190.4</td>\n",
       "</tr>\n",
       "<tr>\n",
       "  <th>Df Model:</th>              <td>     3</td>      <th>                     </th>              <td> </td>   \n",
       "</tr>\n",
       "<tr>\n",
       "  <th>Covariance Type:</th>      <td>nonrobust</td>    <th>                     </th>              <td> </td>   \n",
       "</tr>\n",
       "</table>\n",
       "<table class=\"simpletable\">\n",
       "<tr>\n",
       "    <td></td>      <th>coef</th>     <th>std err</th>      <th>t</th>      <th>P>|t|</th>  <th>[0.025</th>    <th>0.975]</th>  \n",
       "</tr>\n",
       "<tr>\n",
       "  <th>C_n1</th> <td>   -0.3157</td> <td>    0.015</td> <td>  -20.843</td> <td> 0.000</td> <td>   -0.347</td> <td>   -0.285</td>\n",
       "</tr>\n",
       "<tr>\n",
       "  <th>C_n2</th> <td>    0.3252</td> <td>    0.015</td> <td>   21.882</td> <td> 0.000</td> <td>    0.295</td> <td>    0.355</td>\n",
       "</tr>\n",
       "<tr>\n",
       "  <th>C_n3</th> <td>   -0.0722</td> <td>    0.003</td> <td>  -20.724</td> <td> 0.000</td> <td>   -0.079</td> <td>   -0.065</td>\n",
       "</tr>\n",
       "</table>\n",
       "<table class=\"simpletable\">\n",
       "<tr>\n",
       "  <th>Omnibus:</th>       <td> 8.044</td> <th>  Durbin-Watson:     </th> <td>   0.606</td>\n",
       "</tr>\n",
       "<tr>\n",
       "  <th>Prob(Omnibus):</th> <td> 0.018</td> <th>  Jarque-Bera (JB):  </th> <td>   2.647</td>\n",
       "</tr>\n",
       "<tr>\n",
       "  <th>Skew:</th>          <td> 0.259</td> <th>  Prob(JB):          </th> <td>   0.266</td>\n",
       "</tr>\n",
       "<tr>\n",
       "  <th>Kurtosis:</th>      <td> 1.797</td> <th>  Cond. No.          </th> <td>    97.4</td>\n",
       "</tr>\n",
       "</table><br/><br/>Notes:<br/>[1] R² is computed without centering (uncentered) since the model does not contain a constant.<br/>[2] Standard Errors assume that the covariance matrix of the errors is correctly specified."
      ],
      "text/plain": [
       "<class 'statsmodels.iolib.summary.Summary'>\n",
       "\"\"\"\n",
       "                                 OLS Regression Results                                \n",
       "=======================================================================================\n",
       "Dep. Variable:                     cn   R-squared (uncentered):                   0.955\n",
       "Model:                            OLS   Adj. R-squared (uncentered):              0.951\n",
       "Method:                 Least Squares   F-statistic:                              241.4\n",
       "Date:                Tue, 30 May 2023   Prob (F-statistic):                    5.56e-23\n",
       "Time:                        15:30:58   Log-Likelihood:                          100.61\n",
       "No. Observations:                  37   AIC:                                     -195.2\n",
       "Df Residuals:                      34   BIC:                                     -190.4\n",
       "Df Model:                           3                                                  \n",
       "Covariance Type:            nonrobust                                                  \n",
       "==============================================================================\n",
       "                 coef    std err          t      P>|t|      [0.025      0.975]\n",
       "------------------------------------------------------------------------------\n",
       "C_n1          -0.3157      0.015    -20.843      0.000      -0.347      -0.285\n",
       "C_n2           0.3252      0.015     21.882      0.000       0.295       0.355\n",
       "C_n3          -0.0722      0.003    -20.724      0.000      -0.079      -0.065\n",
       "==============================================================================\n",
       "Omnibus:                        8.044   Durbin-Watson:                   0.606\n",
       "Prob(Omnibus):                  0.018   Jarque-Bera (JB):                2.647\n",
       "Skew:                           0.259   Prob(JB):                        0.266\n",
       "Kurtosis:                       1.797   Cond. No.                         97.4\n",
       "==============================================================================\n",
       "\n",
       "Notes:\n",
       "[1] R² is computed without centering (uncentered) since the model does not contain a constant.\n",
       "[2] Standard Errors assume that the covariance matrix of the errors is correctly specified.\n",
       "\"\"\""
      ]
     },
     "execution_count": 22,
     "metadata": {},
     "output_type": "execute_result"
    }
   ],
   "source": [
    "eq_to_matrix_C_n = DiffEqToMatrix(eq_C_n, label=C_n, base_features=[awa])\n",
    "X,y = eq_to_matrix_C_n.calculate_features_and_label(data=wind_data_HMD, y=wind_data_HMD['cn'], simplify_names=False)\n",
    "model_C_n = sm.OLS(y,X, hasconst=False)\n",
    "model_C_n_fit = model_C_n.fit()\n",
    "params_wind.update(model_C_n_fit.params)\n",
    "model_C_n_fit.summary()"
   ]
  },
  {
   "cell_type": "code",
   "execution_count": 23,
   "id": "94540e1b-882d-4459-b7de-50b65e4e8762",
   "metadata": {},
   "outputs": [],
   "source": [
    "lambda_C_x = lambdify(eq_C_x.rhs)\n",
    "lambda_C_y = lambdify(eq_C_y.rhs)\n",
    "lambda_C_n = lambdify(eq_C_n.rhs)"
   ]
  },
  {
   "cell_type": "code",
   "execution_count": 24,
   "id": "aba0582d-f341-4dbc-a828-407644f3487c",
   "metadata": {},
   "outputs": [],
   "source": [
    "wind_data_HMD_predict = wind_data_HMD.copy()\n",
    "wind_data_HMD_predict['cx'] = run(function=lambda_C_x, inputs=wind_data_HMD, **params_wind)\n",
    "wind_data_HMD_predict['cy'] = run(function=lambda_C_y, inputs=wind_data_HMD, **params_wind)\n",
    "wind_data_HMD_predict['cn'] = run(function=lambda_C_n, inputs=wind_data_HMD, **params_wind)"
   ]
  },
  {
   "cell_type": "code",
   "execution_count": 25,
   "id": "14cef089-f754-4fc1-b894-40c49ec1f6ff",
   "metadata": {},
   "outputs": [
    {
     "data": {
      "image/png": "[encoded data removed]",
      "text/plain": [
       "<Figure size 640x480 with 1 Axes>"
      ]
     },
     "metadata": {},
     "output_type": "display_data"
    },
    {
     "data": {
      "image/png": "[encoded data removed]",
      "text/plain": [
       "<Figure size 640x480 with 1 Axes>"
      ]
     },
     "metadata": {},
     "output_type": "display_data"
    },
    {
     "data": {
      "image/png": "[encoded data removed]",
      "text/plain": [
       "<Figure size 640x480 with 1 Axes>"
      ]
     },
     "metadata": {},
     "output_type": "display_data"
    }
   ],
   "source": [
    "for dof in ['cx','cy','cn']:\n",
    "    fig,ax=plt.subplots()\n",
    "    wind_data_HMD.plot(y=dof, ax=ax, style='.', label='Data')\n",
    "    wind_data_HMD_predict.plot(y=dof, ax=ax, style='-', label='Model')\n",
    "    ax.set_ylabel(dof)\n"
   ]
  },
  {
   "cell_type": "code",
   "execution_count": 26,
   "id": "5060b5bd-6bf7-4c4c-ad59-32260085b58c",
   "metadata": {},
   "outputs": [
    {
     "data": {
      "text/latex": [
       "$\\displaystyle m \\left(\\dot{u} - r^{2} x_{G} - r v\\right) = X_{\\dot{u}} \\dot{u} + X_{deltadelta} \\delta^{2} + X_{rr} r^{2} + X_{thrust} thrust + X_{uu} u^{2} + X_{u} u + X_{vr} r v$"
      ],
      "text/plain": [
       "Eq(m*(\\dot{u} - r**2*x_G - r*v), X_{\\dot{u}}*\\dot{u} + X_{deltadelta}*delta**2 + X_{rr}*r**2 + X_{thrust}*thrust + X_{uu}*u**2 + X_{u}*u + X_{vr}*r*v)"
      ]
     },
     "execution_count": 26,
     "metadata": {},
     "output_type": "execute_result"
    }
   ],
   "source": [
    "model_7m_MDL.X_eq"
   ]
  },
  {
   "cell_type": "code",
   "execution_count": 27,
   "id": "b747f6ab-026f-41ee-96b7-c8d7a5a69f1c",
   "metadata": {},
   "outputs": [],
   "source": [
    "X_eq = sp.Eq(model_with_propeller.X_eq.lhs, model_with_propeller.X_eq.rhs + eq_F_Wx.rhs)\n",
    "Y_eq = sp.Eq(model_with_propeller.Y_eq.lhs, model_with_propeller.Y_eq.rhs + eq_F_Wy.rhs)\n",
    "N_eq = sp.Eq(model_with_propeller.N_eq.lhs, model_with_propeller.N_eq.rhs + eq_M_Wz.rhs)"
   ]
  },
  {
   "cell_type": "code",
   "execution_count": 28,
   "id": "3226f1db-6e42-4bdd-8037-1a27f92de634",
   "metadata": {},
   "outputs": [],
   "source": [
    "simulator = Simulator(X_eq=X_eq, Y_eq=Y_eq, N_eq=N_eq)\n",
    "vmm = VMM(X_eq=X_eq, Y_eq=Y_eq, N_eq=N_eq)\n",
    "simulator.define_quasi_static_forces(X_qs_eq=vmm.X_qs_eq, Y_qs_eq=vmm.Y_qs_eq, N_qs_eq=vmm.N_qs_eq)"
   ]
  },
  {
   "cell_type": "code",
   "execution_count": 29,
   "id": "17f2f690-a1f8-460b-97f8-c06e8c19ea63",
   "metadata": {},
   "outputs": [],
   "source": [
    "parameters = model_with_propeller.parameters.copy()\n",
    "parameters.update(params_wind)"
   ]
  },
  {
   "cell_type": "code",
   "execution_count": 30,
   "id": "494be750-0708-4f62-b591-08b0b82cf5fa",
   "metadata": {},
   "outputs": [],
   "source": [
    "model_with_propeller_wind = ModelSimulatorWithPropeller(simulator=simulator, parameters=parameters, ship_parameters=ship_data, control_keys=['delta','twa','tws'], prime_system=model_with_propeller.prime_system, lambda_thrust=lambda_thrust)\n",
    "model_with_propeller_wind.parameters = parameters"
   ]
  },
  {
   "cell_type": "markdown",
   "id": "35a89766-88ea-415b-8f15-3ae916a263e1",
   "metadata": {},
   "source": [
    "## Save models"
   ]
  },
  {
   "cell_type": "code",
   "execution_count": 31,
   "id": "18cd366d-2fe1-4173-a425-9faabd1658c4",
   "metadata": {},
   "outputs": [
    {
     "data": {
      "text/html": [
       "<pre style=\"white-space:pre;overflow-x:auto;line-height:normal;font-family:Menlo,'DejaVu Sans Mono',consolas,'Courier New',monospace\"><span style=\"color: #7fbfbf; text-decoration-color: #7fbfbf\">[05/30/23 15:31:01] </span><span style=\"color: #000080; text-decoration-color: #000080\">INFO    </span> Loading data from <span style=\"color: #008000; text-decoration-color: #008000\">'7m.models'</span> <span style=\"font-weight: bold\">(</span>PartitionedDataSet<span style=\"font-weight: bold\">)</span><span style=\"color: #808000; text-decoration-color: #808000\">...</span>              <a href=\"file:///home/maa/anaconda3/envs/phd/lib/python3.10/site-packages/kedro/io/data_catalog.py\" target=\"_blank\"><span style=\"color: #7f7f7f; text-decoration-color: #7f7f7f\">data_catalog.py</span></a><span style=\"color: #7f7f7f; text-decoration-color: #7f7f7f\">:</span><a href=\"file:///home/maa/anaconda3/envs/phd/lib/python3.10/site-packages/kedro/io/data_catalog.py#343\" target=\"_blank\"><span style=\"color: #7f7f7f; text-decoration-color: #7f7f7f\">343</span></a>\n",
       "</pre>\n"
      ],
      "text/plain": [
       "\u001b[2;36m[05/30/23 15:31:01]\u001b[0m\u001b[2;36m \u001b[0m\u001b[34mINFO    \u001b[0m Loading data from \u001b[32m'7m.models'\u001b[0m \u001b[1m(\u001b[0mPartitionedDataSet\u001b[1m)\u001b[0m\u001b[33m...\u001b[0m              \u001b]8;id=836722;file:///home/maa/anaconda3/envs/phd/lib/python3.10/site-packages/kedro/io/data_catalog.py\u001b\\\u001b[2mdata_catalog.py\u001b[0m\u001b]8;;\u001b\\\u001b[2m:\u001b[0m\u001b]8;id=646670;file:///home/maa/anaconda3/envs/phd/lib/python3.10/site-packages/kedro/io/data_catalog.py#343\u001b\\\u001b[2m343\u001b[0m\u001b]8;;\u001b\\\n"
      ]
     },
     "metadata": {},
     "output_type": "display_data"
    },
    {
     "data": {
      "text/html": [
       "<pre style=\"white-space:pre;overflow-x:auto;line-height:normal;font-family:Menlo,'DejaVu Sans Mono',consolas,'Courier New',monospace\"><span style=\"color: #7fbfbf; text-decoration-color: #7fbfbf\">                    </span><span style=\"color: #000080; text-decoration-color: #000080\">INFO    </span> Saving data to <span style=\"color: #008000; text-decoration-color: #008000\">'7m.models'</span> <span style=\"font-weight: bold\">(</span>PartitionedDataSet<span style=\"font-weight: bold\">)</span><span style=\"color: #808000; text-decoration-color: #808000\">...</span>                 <a href=\"file:///home/maa/anaconda3/envs/phd/lib/python3.10/site-packages/kedro/io/data_catalog.py\" target=\"_blank\"><span style=\"color: #7f7f7f; text-decoration-color: #7f7f7f\">data_catalog.py</span></a><span style=\"color: #7f7f7f; text-decoration-color: #7f7f7f\">:</span><a href=\"file:///home/maa/anaconda3/envs/phd/lib/python3.10/site-packages/kedro/io/data_catalog.py#382\" target=\"_blank\"><span style=\"color: #7f7f7f; text-decoration-color: #7f7f7f\">382</span></a>\n",
       "</pre>\n"
      ],
      "text/plain": [
       "\u001b[2;36m                   \u001b[0m\u001b[2;36m \u001b[0m\u001b[34mINFO    \u001b[0m Saving data to \u001b[32m'7m.models'\u001b[0m \u001b[1m(\u001b[0mPartitionedDataSet\u001b[1m)\u001b[0m\u001b[33m...\u001b[0m                 \u001b]8;id=506681;file:///home/maa/anaconda3/envs/phd/lib/python3.10/site-packages/kedro/io/data_catalog.py\u001b\\\u001b[2mdata_catalog.py\u001b[0m\u001b]8;;\u001b\\\u001b[2m:\u001b[0m\u001b]8;id=620908;file:///home/maa/anaconda3/envs/phd/lib/python3.10/site-packages/kedro/io/data_catalog.py#382\u001b\\\u001b[2m382\u001b[0m\u001b]8;;\u001b\\\n"
      ]
     },
     "metadata": {},
     "output_type": "display_data"
    }
   ],
   "source": [
    "model_with_propeller.parameters = pd.Series(model_with_propeller.parameters)\n",
    "model_with_propeller_wind.parameters = pd.Series(model_with_propeller_wind.parameters)\n",
    "\n",
    "\n",
    "try:\n",
    "    model_loaders_7m = catalog.load(f\"7m.models\")\n",
    "except Exception:\n",
    "    model_loaders_7m = {}\n",
    "    \n",
    "model_loaders_7m[\"SLIC_propeller\"] = model_with_propeller\n",
    "model_loaders_7m[\"SLIC_propeller_wind\"] = model_with_propeller_wind\n",
    "\n",
    "catalog.save(f\"7m.models\", model_loaders_7m)"
   ]
  },
  {
   "cell_type": "code",
   "execution_count": null,
   "id": "c49d36db-052b-4fe9-b676-d5b1af9d1b60",
   "metadata": {},
   "outputs": [],
   "source": []
  }
 ],
 "metadata": {
  "kernelspec": {
   "display_name": "Kedro (phd)",
   "language": "python",
   "name": "kedro_phd"
  },
  "language_info": {
   "codemirror_mode": {
    "name": "ipython",
    "version": 3
   },
   "file_extension": ".py",
   "mimetype": "text/x-python",
   "name": "python",
   "nbconvert_exporter": "python",
   "pygments_lexer": "ipython3",
   "version": "3.10.10"
  }
 },
 "nbformat": 4,
 "nbformat_minor": 5
}
