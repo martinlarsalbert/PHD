{
 "cells": [
  {
   "cell_type": "markdown",
   "id": "fb1cc10c-7c18-44d7-8384-c7ca4b24a6ec",
   "metadata": {},
   "source": [
    "# Simple conditioning plot"
   ]
  },
  {
   "cell_type": "code",
   "execution_count": null,
   "id": "d9305b35-345d-4674-b8da-ecbd8ba8e5d7",
   "metadata": {},
   "outputs": [],
   "source": [
    "# Import pyMC3 and also arviz for visualisation\n",
    "import pymc as pm\n",
    "import arviz as az\n",
    "import sympy as sp\n",
    "import pandas as pd\n",
    "import numpy as np\n",
    "import statsmodels.api as sm\n",
    "\n",
    "\n",
    "#plt.rcParams[\"figure.facecolor\"] = \"None\"\n",
    "#plt.rcParams[\"savefig.facecolor\"] = \"None\"\n",
    "#plt.rcParams['image.cmap'] = 'Accent'\n",
    "#plt.set_cmap('Accent')\n",
    "\n",
    "\n",
    "import symseaman as ss\n",
    "from symseaman.substitute_dynamic_symbols import lambdify, remove_bis_eq, run, standard_substitutes\n",
    "from symseaman.seaman_symbols import *\n",
    "from vct.bis_system import BisSystem\n",
    "from scipy.stats import norm\n",
    "from vct.regression_ols import product"
   ]
  },
  {
   "cell_type": "code",
   "execution_count": null,
   "id": "91f9c221-dc66-4897-97eb-5a565d992162",
   "metadata": {},
   "outputs": [],
   "source": [
    "import matplotlib.pyplot as plt\n",
    "plt.style.use('jupyter')\n",
    "plt.rcParams[\"figure.figsize\"] = (4,1.8)\n",
    "plt.rcParams[\"axes.labelsize\"] = 12\n",
    "plt.rcParams[\"legend.fontsize\"] = 12\n",
    "plt.set_cmap('jet')"
   ]
  },
  {
   "cell_type": "code",
   "execution_count": null,
   "id": "0037b29a-afff-4395-a9d5-5aeb9679f2d0",
   "metadata": {},
   "outputs": [],
   "source": [
    "theta_prior = norm(loc=2.5, scale=0.5)\n",
    "theta_likelihood = norm(loc=3.5, scale=1.0)"
   ]
  },
  {
   "cell_type": "code",
   "execution_count": null,
   "id": "0562c9e3-57b0-4ad7-9441-76ce0d67a47a",
   "metadata": {},
   "outputs": [],
   "source": [
    "theta_posterior = product(theta_prior, theta_likelihood)"
   ]
  },
  {
   "cell_type": "code",
   "execution_count": null,
   "id": "9984db96-e781-4bb8-bff7-d75f941ebea8",
   "metadata": {},
   "outputs": [],
   "source": [
    "plt.set_cmap('jet')\n",
    "rvs = [theta_prior,theta_likelihood,theta_posterior]\n",
    "xmins = [rv.mean() - 3*rv.std() for rv in rvs]\n",
    "xmaxs = [rv.mean() + 3*rv.std() for rv in rvs]\n",
    "\n",
    "xmin = np.min(xmins)\n",
    "xmax = np.max(xmaxs)\n",
    "\n",
    "x_ = np.linspace(xmin, \n",
    "                 xmax, 300)\n",
    "\n",
    "fig,ax=plt.subplots()\n",
    "ax.plot(x_,theta_prior.pdf(x_), label='prior')\n",
    "ax.plot(x_,theta_likelihood.pdf(x_), label='likelihood')\n",
    "ax.plot(x_,theta_posterior.pdf(x_), label='posterior')\n",
    "\n",
    "ax.legend()\n",
    "\n",
    "ax.set_xlabel(None)\n",
    "ax.set_yticks([])\n",
    "ax.set_xticks([])\n",
    "\n",
    "fig.savefig('theta.svg', transparent=True)"
   ]
  },
  {
   "cell_type": "code",
   "execution_count": null,
   "id": "05494f8b-db21-48b5-a0f0-7ba8b3e2e6b1",
   "metadata": {},
   "outputs": [],
   "source": [
    "np.random.seed(42)\n",
    "dx = x_[1]-x_[0]\n",
    "theta_priors = theta_prior.pdf(x_)\n",
    "theta_likelihoods = theta_likelihood.pdf(x_)"
   ]
  },
  {
   "cell_type": "code",
   "execution_count": null,
   "id": "4ac30e5f-fc32-4964-841a-6217d937910c",
   "metadata": {},
   "outputs": [],
   "source": [
    "theta_posteriors= (theta_priors*theta_likelihoods)/sum(theta_priors*theta_likelihoods*dx)"
   ]
  },
  {
   "cell_type": "code",
   "execution_count": null,
   "id": "fa8aebf2-b4bb-4fcc-972f-4607e7e6d99b",
   "metadata": {},
   "outputs": [],
   "source": [
    "\n",
    "fig,ax=plt.subplots()\n",
    "ax.plot(x_,theta_priors, color='red', label='prior')\n",
    "ax.plot(x_,theta_likelihoods, color='blue', label='likelihood')\n",
    "ax.plot(x_,theta_posteriors, color='purple', label='posterior')\n",
    "\n",
    "ax.legend()\n",
    "ax.set_xlabel(r'$\\theta$')"
   ]
  },
  {
   "cell_type": "code",
   "execution_count": null,
   "id": "d84de16d-e1e1-4d4d-bbba-47f875f15ac0",
   "metadata": {},
   "outputs": [],
   "source": [
    "basic_model = pm.Model()\n",
    "\n",
    "with basic_model:\n",
    "    # Priors for unknown model parameters\n",
    "    theta = pm.Normal(\"theta\", mu=theta_prior.mean(), \n",
    "                           sigma=theta_prior.std(), \n",
    "                     )\n",
    "    \n",
    "    sigma = pm.HalfNormal(\"sigma\", sigma=theta_likelihood.std())\n",
    "\n",
    "\n",
    "    # Likelihood (sampling distribution) of observations\n",
    "    Y_obs = pm.Normal(\"fy_obs\", mu=theta, sigma=theta_prior.std(), observed=theta_likelihoods)\n",
    "    #ν = pm.Uniform(\"ν\", 1, 10)\n",
    "    #Y_obs = pm.StudentT(\"fy_obs\", nu=ν, mu=mu, sigma=sigma, observed=y)"
   ]
  },
  {
   "cell_type": "code",
   "execution_count": null,
   "id": "7584a264-3cde-4020-ab7e-cd7f123b372b",
   "metadata": {},
   "outputs": [],
   "source": [
    "with basic_model:\n",
    "    # draw 1000 posterior samples\n",
    "    trace = pm.sample(draws=1000)"
   ]
  },
  {
   "cell_type": "code",
   "execution_count": null,
   "id": "2bf229d2-c9ca-4e45-ae80-52762695bde9",
   "metadata": {},
   "outputs": [],
   "source": [
    "with basic_model:\n",
    "    az.plot_posterior(trace,\n",
    "                  #var_names=['theta','sigma'],\n",
    "                  textsize=18,\n",
    "                  point_estimate='mean',\n",
    "                  rope_color='black')"
   ]
  },
  {
   "cell_type": "code",
   "execution_count": null,
   "id": "ad9be74f-7431-41c0-b9ff-6f80f5033283",
   "metadata": {},
   "outputs": [],
   "source": []
  },
  {
   "cell_type": "code",
   "execution_count": null,
   "id": "f1de013f-9f96-4b9b-b309-8cf2acddc9b0",
   "metadata": {},
   "outputs": [],
   "source": []
  },
  {
   "cell_type": "code",
   "execution_count": null,
   "id": "a7c7efbc-1b20-41ae-aefa-7aa368553ba4",
   "metadata": {},
   "outputs": [],
   "source": []
  },
  {
   "cell_type": "code",
   "execution_count": null,
   "id": "56fdc49a-c01b-4787-9801-f70caadd0e94",
   "metadata": {},
   "outputs": [],
   "source": []
  },
  {
   "cell_type": "code",
   "execution_count": null,
   "id": "b4c32211-7452-4f52-a0ee-2dbd1398fa82",
   "metadata": {},
   "outputs": [],
   "source": []
  },
  {
   "cell_type": "code",
   "execution_count": null,
   "id": "85983628-3ce9-41c5-a0f5-5c2936fc94b0",
   "metadata": {},
   "outputs": [],
   "source": []
  },
  {
   "cell_type": "code",
   "execution_count": null,
   "id": "ce728e33-bf25-4a0b-8fba-974f7de14721",
   "metadata": {},
   "outputs": [],
   "source": []
  }
 ],
 "metadata": {
  "kernelspec": {
   "display_name": "Kedro (phd)",
   "language": "python",
   "name": "kedro_phd"
  },
  "language_info": {
   "codemirror_mode": {
    "name": "ipython",
    "version": 3
   },
   "file_extension": ".py",
   "mimetype": "text/x-python",
   "name": "python",
   "nbconvert_exporter": "python",
   "pygments_lexer": "ipython3",
   "version": "3.10.6"
  }
 },
 "nbformat": 4,
 "nbformat_minor": 5
}
