{
 "cells": [
  {
   "cell_type": "markdown",
   "id": "7340caf1-ecc7-4919-a65d-3ed196901ec3",
   "metadata": {},
   "source": [
    "# Summary 2\n",
    "Previous conclusions: [Summary 1](01.01_summary.ipynb#Conclusions).\n",
    "* Add a propeller model, and perhaps also another rudder model\n",
    "    - [x] Propeller model\n",
    "    - [x] Rudder model\n",
    "    \n",
    "- [ ] Improve the Extended Kalman Filter initial state estimate\n",
    "- [x] Meeting with Ulysse\n",
    "- [ ] System identification on the real data\n",
    "- [x] scaling 5 m to 7 m? (Probably ok.)\n",
    "\n",
    "Three kinds of data:\n",
    "* Simulated data\n",
    "* Experimental data (TT/MDL)\n",
    "* Real data (7m data) Perhaps: \"Field study data\"?"
   ]
  },
  {
   "cell_type": "code",
   "execution_count": 1,
   "id": "69d15973-041e-47ca-a3a6-bd8f9974ad6d",
   "metadata": {},
   "outputs": [],
   "source": [
    "import warnings\n",
    "warnings.filterwarnings('ignore')\n",
    "%matplotlib inline\n",
    "%load_ext autoreload\n",
    "%autoreload 2"
   ]
  },
  {
   "cell_type": "code",
   "execution_count": 2,
   "id": "e8242dc1-b533-4345-bc9b-f0871208528f",
   "metadata": {},
   "outputs": [],
   "source": [
    "from vessel_manoeuvring_models.models.propeller import *"
   ]
  },
  {
   "cell_type": "markdown",
   "id": "3a1e23f2-d784-4c98-9805-38f7704634e0",
   "metadata": {
    "tags": []
   },
   "source": [
    "## Propeller model\n",
    "A propeller model was developed in [06.10_wPCC_vmm_propeller_model.ipynb](../06.10_wPCC_vmm_propeller_model.ipynb#wPCC-propeller-model-on-the-MDL-data)."
   ]
  },
  {
   "cell_type": "code",
   "execution_count": 4,
   "id": "e7df637e-ca0b-4206-80f9-bb5f4a871a02",
   "metadata": {},
   "outputs": [
    {
     "data": {
      "text/latex": [
       "$\\displaystyle thrust_{propeller} = D^{4} K_{T} rev^{2} \\rho$"
      ],
      "text/plain": [
       "Eq(thrust_propeller, D**4*K_T*rev**2*rho)"
      ]
     },
     "execution_count": 4,
     "metadata": {},
     "output_type": "execute_result"
    }
   ],
   "source": [
    "eq_T"
   ]
  },
  {
   "cell_type": "code",
   "execution_count": 3,
   "id": "19c0ec0b-7013-40ec-a966-234c771826bc",
   "metadata": {},
   "outputs": [
    {
     "data": {
      "text/latex": [
       "$\\displaystyle K_{T} = J^{2} k_{2} + J k_{1} + k_{0}$"
      ],
      "text/plain": [
       "Eq(K_T, J**2*k_2 + J*k_1 + k_0)"
      ]
     },
     "execution_count": 3,
     "metadata": {},
     "output_type": "execute_result"
    }
   ],
   "source": [
    "eq_K_T"
   ]
  },
  {
   "cell_type": "markdown",
   "id": "7715a99f-97a7-41af-a9f5-54b2238a4d11",
   "metadata": {
    "tags": []
   },
   "source": [
    "![](K_T.png)<br>\n",
    "$K_T$ fitted from MDL experiments."
   ]
  },
  {
   "cell_type": "markdown",
   "id": "fe0753ee-3354-4432-9b96-5e8b952e5af4",
   "metadata": {},
   "source": [
    "![](thrust_zigzag_port_stbd.png)<br>\n",
    "Thrust during MDL zigzag test."
   ]
  },
  {
   "cell_type": "markdown",
   "id": "0a052d56-3bae-4d52-9f88-cb155d015f77",
   "metadata": {},
   "source": [
    "![](thrust_model_track_plot.png)<br>\n",
    "Simulation with predicted thrust."
   ]
  },
  {
   "cell_type": "markdown",
   "id": "b5a47b49-61ca-43f2-9119-17db31ac4221",
   "metadata": {},
   "source": [
    "## Rudder model\n",
    "A semi empirical rudder model has been implemented ([09.20_semiempirical_rudder_with_thrust.ipynb](../09.20_semiempirical_rudder_with_thrust.ipynb#Semi-empirical-rudder-rudder-with-thrust)).\n",
    "![](lifting_line.png)<br>\n",
    "Comparison between semi empirical ligting line rudder model and CFD calculations (ShipFlow)."
   ]
  },
  {
   "cell_type": "markdown",
   "id": "743fea0e-7997-42d7-afe8-e813af6ab321",
   "metadata": {},
   "source": [
    "![](SLIC_vs_semiempirical_rudder.png)<br>\n",
    "Rudder forces predicted with model from system identification of MDL experiments (SLIC) and semi empirical model."
   ]
  },
  {
   "cell_type": "markdown",
   "id": "6bd3a111-fd95-4f06-a03e-23c56879abbd",
   "metadata": {},
   "source": [
    "![](simulation_semiempirical.png)<br>\n",
    "Simulation with rudder model replaced by semi-empirical model. The results are very different!"
   ]
  },
  {
   "cell_type": "markdown",
   "id": "10c7d49a-09db-465e-adcf-4287137c962a",
   "metadata": {},
   "source": [
    "## Feather and bowling ball hypothesis\n",
    "![](https://cdn.abcotvs.com/dip/images/382879_110514-cc-bowling-feathers-thumb.jpg?w=1600)"
   ]
  },
  {
   "cell_type": "markdown",
   "id": "3046e55c-35a0-426d-b152-c3d1382894b7",
   "metadata": {},
   "source": [
    "$$F_{rudder}+F_{hull}=0$$\n",
    "$$k(F_{rudder}+F_{hull})=0$$\n",
    "$k$ is not unique! When a third force $F_{wind}$ is introduced there is only one $k$ possible. Whatif $k$ is wrong from the system identification of Experiments?\n",
    "\n",
    "$$k \\cdot F_{rudder}+ k \\cdot F_{hull} + F_{wind}=0$$\n"
   ]
  },
  {
   "cell_type": "markdown",
   "id": "476029ab-94ee-4d5f-a3f5-4178310e657d",
   "metadata": {},
   "source": [
    "# Further work\n",
    "- [ ] Add propeller model to modular model\n",
    "- [ ] System identification on MDL data with this model\n",
    "- [ ] Add wind system to the modular model\n",
    "- [ ] Rerun simulations of field study data."
   ]
  },
  {
   "cell_type": "code",
   "execution_count": null,
   "id": "8d00e73b-1ee4-4198-912a-c94345999152",
   "metadata": {},
   "outputs": [],
   "source": []
  }
 ],
 "metadata": {
  "kernelspec": {
   "display_name": "Kedro (phd)",
   "language": "python",
   "name": "kedro_phd"
  },
  "language_info": {
   "codemirror_mode": {
    "name": "ipython",
    "version": 3
   },
   "file_extension": ".py",
   "mimetype": "text/x-python",
   "name": "python",
   "nbconvert_exporter": "python",
   "pygments_lexer": "ipython3",
   "version": "3.10.10"
  }
 },
 "nbformat": 4,
 "nbformat_minor": 5
}
