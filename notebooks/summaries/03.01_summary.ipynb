{
 "cells": [
  {
   "cell_type": "markdown",
   "id": "00182b2c-2c00-4b44-a672-d714cc145102",
   "metadata": {},
   "source": [
    "# Summary 3"
   ]
  },
  {
   "cell_type": "markdown",
   "id": "52ab3edc-b085-479b-80b9-26ab8cfffb91",
   "metadata": {},
   "source": [
    "## Completed tasks\n",
    "- [x] Add propeller model to modular model\n",
    "- [x] System identification on MDL data with this model\n",
    "- [x] Add wind system to the modular model\n",
    "- [x] Rerun simulations of field study data."
   ]
  },
  {
   "cell_type": "markdown",
   "id": "521b417b-6e2d-4445-b11d-ceb928d9bf20",
   "metadata": {},
   "source": [
    "## Resimulation of field study data\n",
    "[10.01_modular_wind_force_influence.ipynb#Simulations](../10.01_modular_wind_force_influence.ipynb#Simulations)"
   ]
  },
  {
   "cell_type": "markdown",
   "id": "a8a06b5a-29e2-49e9-a19e-d2aaf4037d4f",
   "metadata": {
    "tags": []
   },
   "source": [
    "# Force/Acceleration prediction error\n",
    "Running an entire simulation with the mathematical predictor model (system based model) to reproduce a real time series trajectory of the ship is perhaps the most straight forward way to assess the accuracy of this predictor model.\n",
    "\n",
    "![](../figures/deviating_simulations.PNG)\n",
    "<p align=centered>Fig.1 - The simulation and real data from the experiment is in complete different states in the later part of the simulations.</p>\n",
    "\n",
    "However, after a while when the simulation and real data begins to deviate (see Fig.1) this comparison is not so meaningfull anymore, as the simulation and real data are now in complete different states. If the simulation model is instead allowed to catch up with the real data, by updating with the real state, the simulated state and real state can be kept closer to each other, to allow for a more realistic comparison, also during the later stages of the simulation. This is instead the error of an online predictor that can make predictions into the nearby future, a number of steps ahead in a discrete time series. If the online predictor should only predict one step ahead, the predictor error is reduced to an acceleration prediction error, where the mathematical models ability to predict acceleration is assessed. When the inertia of ship and water is known, or assumed to be known, this is very closely related to assess the models ability to predict the forces correctly.\n",
    "\n",
    "The acceleration predictor error \\epsilon_a is defined as the difference between real acceleration $a$ and the predicted acceleration $\\hat{a}$,\n",
    "$$\\epsilon_a = a - \\hat{a}$$\n",
    "\n",
    "![](../figures/acceleration_prediction_error.png)"
   ]
  },
  {
   "cell_type": "markdown",
   "id": "1d45bcb8-58b0-4a26-86b4-e5cd2b22464d",
   "metadata": {},
   "source": [
    "## Force prediction error"
   ]
  },
  {
   "cell_type": "markdown",
   "id": "b8e798a4-5ab7-4cdf-8769-7475eeb81c4b",
   "metadata": {},
   "source": [
    "$$F = m*a$$\n",
    "If the interia is further assumed to be correct, in the equation of motion above, a force prediction error $\\epsilon_F$ can instead be considered,\n",
    "$$\\epsilon_F = F - \\hat{F}$$\n",
    "This gives a more direct assessment of the force prediction model. One must however bare in mind that the assumed intertia also has some uncertainty that has now been excluded from the assessment. "
   ]
  },
  {
   "cell_type": "markdown",
   "id": "905c1b8b-8f6d-4195-a69a-53db673a4fcb",
   "metadata": {},
   "source": [
    "Total force : [11.01_acceleration_prediction_error](../11.01_acceleration_prediction_error.ipynb#Total-force)"
   ]
  },
  {
   "cell_type": "markdown",
   "id": "fa7010b6-c425-4923-a801-082263bea613",
   "metadata": {},
   "source": [
    "Force components: [11.01_acceleration_prediction_error](../11.01_acceleration_prediction_error.ipynb#Force-components)"
   ]
  },
  {
   "cell_type": "markdown",
   "id": "d8c0b52f-dbc7-4610-9272-618fbf997df0",
   "metadata": {},
   "source": [
    "Simulation: [11.01_acceleration_prediction_error.ipynb](../11.01_acceleration_prediction_error.ipynb#Simulate)"
   ]
  },
  {
   "cell_type": "markdown",
   "id": "30422f02-aa71-4f68-9cf3-31e9aa3e564b",
   "metadata": {},
   "source": [
    "# Why does the model \"not work\"?"
   ]
  },
  {
   "cell_type": "markdown",
   "id": "477498b3-1e9b-488d-b180-20b0bebc9f09",
   "metadata": {
    "tags": []
   },
   "source": [
    "### Wind forces wrong\n",
    "* Wind measurements very uncertain?\n",
    "* Wind coefficients uncertain?"
   ]
  },
  {
   "cell_type": "markdown",
   "id": "27938789-dd54-4d19-8bc4-4fd9f541d1b7",
   "metadata": {},
   "source": [
    "### $\\beta$ - $r$ Hypothesis\n",
    "Hypothesis: [13.01_beta_r_hypothesis.ipynb](../13.01_beta_r_hypothesis.ipynb#$\\beta$---$r$-Hypothesis)"
   ]
  },
  {
   "cell_type": "markdown",
   "id": "19187f1f-87ae-428a-b878-c84619b25953",
   "metadata": {},
   "source": [
    "### Measured rudder angle is wrong"
   ]
  },
  {
   "cell_type": "markdown",
   "id": "bc258a57-afbb-408b-93bd-fb8b59a2c926",
   "metadata": {},
   "source": [
    "### Propeller thrust estimation does not work"
   ]
  },
  {
   "cell_type": "markdown",
   "id": "9ce00c81-cd5e-42c4-909a-d45f2ad315b1",
   "metadata": {},
   "source": [
    "# Conclusions\n",
    "* The present example corresponds to a full scale apparent wind speed of 27 m/s, which should be considered a sever condition.\n",
    "* acceleration prediction error $\\epsilon_a$ and force prediction error $\\epsilon_F$ are usefull measures to assess the prediction model error, that can help to highlight the weak spots of a model.\n",
    "* The wind forces seems to have a large influence on the total forces acting on the ship.\n",
    "* The wind speed and wind force coefficients also have large uncertainties.\n",
    "* The wind yaw moment in head winds has a destabilizing effect which can make the simulation diverge very rappidly from the real data if the apparent wind angle (awa) changes sign at the wrong place, which seems to be the case in the example above. \n",
    "* $\\beta$ - $r$ Hypothesis: the manoeuvring model may not be able to handle $\\beta>0$, $r \\approxeq 0$.\n",
    "\n",
    "### Present uncertainties in the prediction model:\n",
    "* The hydrodynamic model has <u>low uncertainty</u> since it has been proven to work in a laboratory environment without wind.\n",
    "* The aerodynamic model has <u>high uncertainty</u> since it is based on coefficients from wind tunnel tests with a similar ship.\n",
    "* The wind speed has <u> medium uncertainty</u> since it was measured on the model, but is probably disturbed. A more robust wind speed prediction, for instance by assuming that the wind is constant during the test can perhaps reduce the uncertainty?\n",
    "* The wave force influence is neglected in this model, which also adds some uncertainty. Assumtion: the wave forces are expected to have a large impact on the first order motions which can be neglected when long term motions during a whole zigzag manoeuvre should be predicted.\n",
    "* Some initial neutral rudder angle is needed for the ship to go straight, even for cases when no wind is present. There seems to be some unsymmetry in how the ship was build, the rudders where mounted etc. This calls for a small (~2 deg) initial rudder angle. This initial neutral rudder angle is <u>uncertain</u> and needs further investigations. \n",
    "* The propeller speed is unknown. The propeller is run at fixed power (at some setting 70%,80%...). The propeller speed can however be estimated with <u>low/medium uncertainty</u> under these conditions.\n",
    "\n",
    "## Action plan\n",
    "- [ ] Estimate the neutral rudder angle (or other means to make the ship go straight)\n",
    "- [x] Double check wind force coefficients\n",
    "- [ ] Explore the $\\beta$ - $r$ Hypothesis with existing Virtual Captive Test data (VCT).\n",
    "- [ ] Filter the field data with a Kalman filter\n",
    "- [ ] System identification of wind forces"
   ]
  },
  {
   "cell_type": "markdown",
   "id": "d286af7a-65c1-45ea-bac2-3d336198a76b",
   "metadata": {},
   "source": [
    "# Paper: research question\n",
    "* \"Adopting a laboratory system based manoeuvring model to a real sea environment.\"\n",
    "* Introduces additional uncertainties:\n",
    "    * Wind\n",
    "    * Waves (probably negligible influence)\n",
    "    * Current (probably negligible)\n",
    "    * Increased uncertainty of rudder angle measurement \n",
    "    * No propeller thrust or rpm: just propeller power (increases uncertainty).\n",
    "    * Scaling 5m -> 7m"
   ]
  }
 ],
 "metadata": {
  "kernelspec": {
   "display_name": "Kedro (phd)",
   "language": "python",
   "name": "kedro_phd"
  },
  "language_info": {
   "codemirror_mode": {
    "name": "ipython",
    "version": 3
   },
   "file_extension": ".py",
   "mimetype": "text/x-python",
   "name": "python",
   "nbconvert_exporter": "python",
   "pygments_lexer": "ipython3",
   "version": "3.10.10"
  }
 },
 "nbformat": 4,
 "nbformat_minor": 5
}
