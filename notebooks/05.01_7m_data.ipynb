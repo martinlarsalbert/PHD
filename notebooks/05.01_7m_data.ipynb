{
 "cells": [
  {
   "cell_type": "markdown",
   "id": "bf693c9b-fe0c-4b81-b7a3-c02327a3c6ec",
   "metadata": {},
   "source": [
    "# 7m data "
   ]
  },
  {
   "cell_type": "markdown",
   "id": "111340b2-0906-41a6-a2da-14247b26be83",
   "metadata": {},
   "source": [
    "![](https://www.kth.se/polopoly_fs/1.1032323.1606724850!/image/Segelfartygens%20chans%20att%20ta%20revansch%2003_liten.jpg)"
   ]
  },
  {
   "cell_type": "code",
   "execution_count": 3,
   "id": "f8661f98-c506-45d9-b884-e65050268cc5",
   "metadata": {},
   "outputs": [],
   "source": [
    "import warnings\n",
    "warnings.filterwarnings('ignore')\n",
    "%matplotlib inline\n",
    "%load_ext autoreload\n",
    "%autoreload 2\n",
    "%config Completer.use_jedi = False"
   ]
  },
  {
   "cell_type": "code",
   "execution_count": 4,
   "id": "a93c0e1e-d20f-47cb-8bb8-fdec7986e72e",
   "metadata": {},
   "outputs": [],
   "source": [
    "import anyconfig\n",
    "globals_path = \"../conf/base/globals.yml\"\n",
    "global_variables = anyconfig.load(globals_path)\n",
    "ships = global_variables[\"ships\"]"
   ]
  },
  {
   "cell_type": "code",
   "execution_count": 49,
   "id": "54b49b0b-178c-4de5-8130-9ed7649e755c",
   "metadata": {},
   "outputs": [],
   "source": [
    "import pandas as pd\n",
    "pd.set_option('display.max_rows', 5000)\n",
    "pd.set_option('display.max_columns', 5000)\n",
    "pd.set_option('display.width', 10000)\n",
    "pd.set_option('max_colwidth', -1)\n",
    "import numpy as np\n",
    "import yaml\n",
    "\n",
    "from vessel_manoeuvring_models.visualization.plot import track_plot, track_plots, plot\n",
    "from vessel_manoeuvring_models.extended_kalman_vmm import ExtendedKalman, SystemMatrixes\n",
    "from vessel_manoeuvring_models.models.vmm_martin_simple import martins_simple_model as vmm\n",
    "from wPCC_pipeline.pipelines.brix.nodes import initial_parameters, extract_added_masses\n",
    "from wPCC_pipeline.pipelines.preprocess.nodes import load, add_thrust\n",
    "from wPCC_pipeline.pipelines.filter_data_extended_kalman.nodes import guess_covariance_matrixes, initial_state, extended_kalman_filter, extended_kalman_smoother\n",
    "from wPCC_pipeline.pipelines.motion_regression.nodes import predict_force, fit_motions, create_model_from_motion_regression\n",
    "from wPCC_pipeline.pipelines.prediction.nodes import simulate_euler\n",
    "from sklearn.metrics import mean_squared_error\n",
    "from phd.visualization.maps import plot_map, plot_trips\n",
    "import re\n",
    "\n",
    "import matplotlib.pyplot as plt\n",
    "plt.style.use('bmh')"
   ]
  },
  {
   "cell_type": "code",
   "execution_count": 5,
   "id": "1d4a4b27-9ad5-4236-8b7d-9ac6a0e85968",
   "metadata": {},
   "outputs": [
    {
     "data": {
      "text/plain": [
       "['M5064-02-A', 'wPCC', '7m']"
      ]
     },
     "execution_count": 5,
     "metadata": {},
     "output_type": "execute_result"
    }
   ],
   "source": [
    "ships"
   ]
  },
  {
   "cell_type": "code",
   "execution_count": 8,
   "id": "02989cc5-d5a5-4c7e-a418-0bece41c0dbe",
   "metadata": {},
   "outputs": [
    {
     "data": {
      "text/html": [
       "<pre style=\"white-space:pre;overflow-x:auto;line-height:normal;font-family:Menlo,'DejaVu Sans Mono',consolas,'Courier New',monospace\"><span style=\"color: #7fbfbf; text-decoration-color: #7fbfbf\">[04/27/23 08:30:27] </span><span style=\"color: #000080; text-decoration-color: #000080\">INFO    </span> Resolved project path as: <span style=\"color: #800080; text-decoration-color: #800080\">/home/maa/dev/</span><span style=\"color: #ff00ff; text-decoration-color: #ff00ff\">PHD.</span>                           <a href=\"file:///home/maa/dev/PHD/venv/lib/python3.10/site-packages/kedro/ipython/__init__.py\" target=\"_blank\"><span style=\"color: #7f7f7f; text-decoration-color: #7f7f7f\">__init__.py</span></a><span style=\"color: #7f7f7f; text-decoration-color: #7f7f7f\">:</span><a href=\"file:///home/maa/dev/PHD/venv/lib/python3.10/site-packages/kedro/ipython/__init__.py#134\" target=\"_blank\"><span style=\"color: #7f7f7f; text-decoration-color: #7f7f7f\">134</span></a>\n",
       "<span style=\"color: #7fbfbf; text-decoration-color: #7fbfbf\">                    </span>         To set a different path, run <span style=\"color: #008000; text-decoration-color: #008000\">'%reload_kedro &lt;project_root&gt;'</span>            <span style=\"color: #7f7f7f; text-decoration-color: #7f7f7f\">               </span>\n",
       "</pre>\n"
      ],
      "text/plain": [
       "\u001b[2;36m[04/27/23 08:30:27]\u001b[0m\u001b[2;36m \u001b[0m\u001b[34mINFO    \u001b[0m Resolved project path as: \u001b[35m/home/maa/dev/\u001b[0m\u001b[95mPHD.\u001b[0m                           \u001b]8;id=1978;file:///home/maa/dev/PHD/venv/lib/python3.10/site-packages/kedro/ipython/__init__.py\u001b\\\u001b[2m__init__.py\u001b[0m\u001b]8;;\u001b\\\u001b[2m:\u001b[0m\u001b]8;id=808027;file:///home/maa/dev/PHD/venv/lib/python3.10/site-packages/kedro/ipython/__init__.py#134\u001b\\\u001b[2m134\u001b[0m\u001b]8;;\u001b\\\n",
       "\u001b[2;36m                    \u001b[0m         To set a different path, run \u001b[32m'%reload_kedro \u001b[0m\u001b[32m<\u001b[0m\u001b[32mproject_root\u001b[0m\u001b[32m>\u001b[0m\u001b[32m'\u001b[0m            \u001b[2m               \u001b[0m\n"
      ]
     },
     "metadata": {},
     "output_type": "display_data"
    },
    {
     "data": {
      "text/html": [
       "<pre style=\"white-space:pre;overflow-x:auto;line-height:normal;font-family:Menlo,'DejaVu Sans Mono',consolas,'Courier New',monospace\"><span style=\"color: #7fbfbf; text-decoration-color: #7fbfbf\">[04/27/23 08:30:30] </span><span style=\"color: #000080; text-decoration-color: #000080\">INFO    </span> Kedro project phd                                                      <a href=\"file:///home/maa/dev/PHD/venv/lib/python3.10/site-packages/kedro/ipython/__init__.py\" target=\"_blank\"><span style=\"color: #7f7f7f; text-decoration-color: #7f7f7f\">__init__.py</span></a><span style=\"color: #7f7f7f; text-decoration-color: #7f7f7f\">:</span><a href=\"file:///home/maa/dev/PHD/venv/lib/python3.10/site-packages/kedro/ipython/__init__.py#103\" target=\"_blank\"><span style=\"color: #7f7f7f; text-decoration-color: #7f7f7f\">103</span></a>\n",
       "</pre>\n"
      ],
      "text/plain": [
       "\u001b[2;36m[04/27/23 08:30:30]\u001b[0m\u001b[2;36m \u001b[0m\u001b[34mINFO    \u001b[0m Kedro project phd                                                      \u001b]8;id=952346;file:///home/maa/dev/PHD/venv/lib/python3.10/site-packages/kedro/ipython/__init__.py\u001b\\\u001b[2m__init__.py\u001b[0m\u001b]8;;\u001b\\\u001b[2m:\u001b[0m\u001b]8;id=669796;file:///home/maa/dev/PHD/venv/lib/python3.10/site-packages/kedro/ipython/__init__.py#103\u001b\\\u001b[2m103\u001b[0m\u001b]8;;\u001b\\\n"
      ]
     },
     "metadata": {},
     "output_type": "display_data"
    },
    {
     "data": {
      "text/html": [
       "<pre style=\"white-space:pre;overflow-x:auto;line-height:normal;font-family:Menlo,'DejaVu Sans Mono',consolas,'Courier New',monospace\"><span style=\"color: #7fbfbf; text-decoration-color: #7fbfbf\">                    </span><span style=\"color: #000080; text-decoration-color: #000080\">INFO    </span> Defined global variable <span style=\"color: #008000; text-decoration-color: #008000\">'context'</span>, <span style=\"color: #008000; text-decoration-color: #008000\">'session'</span>, <span style=\"color: #008000; text-decoration-color: #008000\">'catalog'</span> and            <a href=\"file:///home/maa/dev/PHD/venv/lib/python3.10/site-packages/kedro/ipython/__init__.py\" target=\"_blank\"><span style=\"color: #7f7f7f; text-decoration-color: #7f7f7f\">__init__.py</span></a><span style=\"color: #7f7f7f; text-decoration-color: #7f7f7f\">:</span><a href=\"file:///home/maa/dev/PHD/venv/lib/python3.10/site-packages/kedro/ipython/__init__.py#104\" target=\"_blank\"><span style=\"color: #7f7f7f; text-decoration-color: #7f7f7f\">104</span></a>\n",
       "<span style=\"color: #7fbfbf; text-decoration-color: #7fbfbf\">                    </span>         <span style=\"color: #008000; text-decoration-color: #008000\">'pipelines'</span>                                                            <span style=\"color: #7f7f7f; text-decoration-color: #7f7f7f\">               </span>\n",
       "</pre>\n"
      ],
      "text/plain": [
       "\u001b[2;36m                   \u001b[0m\u001b[2;36m \u001b[0m\u001b[34mINFO    \u001b[0m Defined global variable \u001b[32m'context'\u001b[0m, \u001b[32m'session'\u001b[0m, \u001b[32m'catalog'\u001b[0m and            \u001b]8;id=74504;file:///home/maa/dev/PHD/venv/lib/python3.10/site-packages/kedro/ipython/__init__.py\u001b\\\u001b[2m__init__.py\u001b[0m\u001b]8;;\u001b\\\u001b[2m:\u001b[0m\u001b]8;id=197996;file:///home/maa/dev/PHD/venv/lib/python3.10/site-packages/kedro/ipython/__init__.py#104\u001b\\\u001b[2m104\u001b[0m\u001b]8;;\u001b\\\n",
       "\u001b[2;36m                    \u001b[0m         \u001b[32m'pipelines'\u001b[0m                                                            \u001b[2m               \u001b[0m\n"
      ]
     },
     "metadata": {},
     "output_type": "display_data"
    },
    {
     "data": {
      "text/html": [
       "<pre style=\"white-space:pre;overflow-x:auto;line-height:normal;font-family:Menlo,'DejaVu Sans Mono',consolas,'Courier New',monospace\"><span style=\"color: #7fbfbf; text-decoration-color: #7fbfbf\">                    </span><span style=\"color: #000080; text-decoration-color: #000080\">INFO    </span> Loading data from <span style=\"color: #008000; text-decoration-color: #008000\">'7m.time_series'</span> <span style=\"font-weight: bold\">(</span>PartitionedDataSet<span style=\"font-weight: bold\">)</span><span style=\"color: #808000; text-decoration-color: #808000\">...</span>         <a href=\"file:///home/maa/dev/PHD/venv/lib/python3.10/site-packages/kedro/io/data_catalog.py\" target=\"_blank\"><span style=\"color: #7f7f7f; text-decoration-color: #7f7f7f\">data_catalog.py</span></a><span style=\"color: #7f7f7f; text-decoration-color: #7f7f7f\">:</span><a href=\"file:///home/maa/dev/PHD/venv/lib/python3.10/site-packages/kedro/io/data_catalog.py#343\" target=\"_blank\"><span style=\"color: #7f7f7f; text-decoration-color: #7f7f7f\">343</span></a>\n",
       "</pre>\n"
      ],
      "text/plain": [
       "\u001b[2;36m                   \u001b[0m\u001b[2;36m \u001b[0m\u001b[34mINFO    \u001b[0m Loading data from \u001b[32m'7m.time_series'\u001b[0m \u001b[1m(\u001b[0mPartitionedDataSet\u001b[1m)\u001b[0m\u001b[33m...\u001b[0m         \u001b]8;id=514782;file:///home/maa/dev/PHD/venv/lib/python3.10/site-packages/kedro/io/data_catalog.py\u001b\\\u001b[2mdata_catalog.py\u001b[0m\u001b]8;;\u001b\\\u001b[2m:\u001b[0m\u001b]8;id=142482;file:///home/maa/dev/PHD/venv/lib/python3.10/site-packages/kedro/io/data_catalog.py#343\u001b\\\u001b[2m343\u001b[0m\u001b]8;;\u001b\\\n"
      ]
     },
     "metadata": {},
     "output_type": "display_data"
    },
    {
     "data": {
      "text/html": [
       "<pre style=\"white-space:pre;overflow-x:auto;line-height:normal;font-family:Menlo,'DejaVu Sans Mono',consolas,'Courier New',monospace\"><span style=\"color: #7fbfbf; text-decoration-color: #7fbfbf\">                    </span><span style=\"color: #000080; text-decoration-color: #000080\">INFO    </span> Loading data from <span style=\"color: #008000; text-decoration-color: #008000\">'7m.ship_data'</span> <span style=\"font-weight: bold\">(</span>YAMLDataSet<span style=\"font-weight: bold\">)</span><span style=\"color: #808000; text-decoration-color: #808000\">...</span>                  <a href=\"file:///home/maa/dev/PHD/venv/lib/python3.10/site-packages/kedro/io/data_catalog.py\" target=\"_blank\"><span style=\"color: #7f7f7f; text-decoration-color: #7f7f7f\">data_catalog.py</span></a><span style=\"color: #7f7f7f; text-decoration-color: #7f7f7f\">:</span><a href=\"file:///home/maa/dev/PHD/venv/lib/python3.10/site-packages/kedro/io/data_catalog.py#343\" target=\"_blank\"><span style=\"color: #7f7f7f; text-decoration-color: #7f7f7f\">343</span></a>\n",
       "</pre>\n"
      ],
      "text/plain": [
       "\u001b[2;36m                   \u001b[0m\u001b[2;36m \u001b[0m\u001b[34mINFO    \u001b[0m Loading data from \u001b[32m'7m.ship_data'\u001b[0m \u001b[1m(\u001b[0mYAMLDataSet\u001b[1m)\u001b[0m\u001b[33m...\u001b[0m                  \u001b]8;id=472479;file:///home/maa/dev/PHD/venv/lib/python3.10/site-packages/kedro/io/data_catalog.py\u001b\\\u001b[2mdata_catalog.py\u001b[0m\u001b]8;;\u001b\\\u001b[2m:\u001b[0m\u001b]8;id=900665;file:///home/maa/dev/PHD/venv/lib/python3.10/site-packages/kedro/io/data_catalog.py#343\u001b\\\u001b[2m343\u001b[0m\u001b]8;;\u001b\\\n"
      ]
     },
     "metadata": {},
     "output_type": "display_data"
    }
   ],
   "source": [
    "%reload_kedro\n",
    "ship='7m'\n",
    "time_series = catalog.load(f\"{ship}.time_series\")\n",
    "ship_data = catalog.load(f\"{ship}.ship_data\")"
   ]
  },
  {
   "cell_type": "code",
   "execution_count": 9,
   "id": "f72df8d8-024a-4124-9604-9b7855184c0f",
   "metadata": {},
   "outputs": [
    {
     "data": {
      "text/plain": [
       "dict_keys(['motorZZ_10_thruster_40', 'motorZZ_11_thruster_60_Port', 'motorZZ_12_thruster_60_Stb', 'motorZZ_13_thruster_80_Stb', 'motorZZ_14_thruster_80_Port', 'motorZZ_15_thruster_20', 'motorZZ_1_thruster_100_Port', 'motorZZ_2_thruster_100_Stb', 'motorZZ_3_thruster_80_Port', 'motorZZ_4_thruster_80_Stb', 'motorZZ_5_thruster_60_Stb', 'motorZZ_6_thruster_60_Port', 'motorZZ_7_thruster_40_Stb', 'motorZZ_8_thruster_40_Port', 'motorZZ_9_thruster_40'])"
      ]
     },
     "execution_count": 9,
     "metadata": {},
     "output_type": "execute_result"
    }
   ],
   "source": [
    "time_series.keys()"
   ]
  },
  {
   "cell_type": "code",
   "execution_count": 58,
   "id": "4bebe3d5-fac5-418b-8e80-911ccf272b16",
   "metadata": {},
   "outputs": [],
   "source": [
    "id = 'motorZZ_4_thruster_80_Stb'\n",
    "data_raw = time_series[id]()\n",
    "data_raw.index = pd.to_datetime(data_raw.index, unit='s')\n",
    "data_raw['delta'] = -np.deg2rad(data_raw['rudderAngle(deg)'])  # (Change the convention of rudder angle)\n",
    "data_raw['-delta'] = -data_raw['delta']\n",
    "psi_ = np.unwrap(data_raw['yaw(rad)'])\n",
    "data_raw['psi'] = psi_ - psi_[0]\n",
    "\n",
    "# Remove the units from column names:\n",
    "regexp = re.compile(r'\\(.*\\)')\n",
    "renames = {column:regexp.sub('',column) for column in data_raw.columns}\n",
    "data_raw.rename(columns=renames, inplace=True)\n"
   ]
  },
  {
   "cell_type": "code",
   "execution_count": 59,
   "id": "c05994ca-0e07-45a3-944a-9ad6e503b12c",
   "metadata": {},
   "outputs": [
    {
     "data": {
      "text/html": [
       "<div>\n",
       "<style scoped>\n",
       "    .dataframe tbody tr th:only-of-type {\n",
       "        vertical-align: middle;\n",
       "    }\n",
       "\n",
       "    .dataframe tbody tr th {\n",
       "        vertical-align: top;\n",
       "    }\n",
       "\n",
       "    .dataframe thead th {\n",
       "        text-align: right;\n",
       "    }\n",
       "</style>\n",
       "<table border=\"1\" class=\"dataframe\">\n",
       "  <thead>\n",
       "    <tr style=\"text-align: right;\">\n",
       "      <th></th>\n",
       "      <th>yaw</th>\n",
       "      <th>cog</th>\n",
       "      <th>sog</th>\n",
       "      <th>rudderTarget</th>\n",
       "      <th>rudderAngle</th>\n",
       "      <th>latitude</th>\n",
       "      <th>longitude</th>\n",
       "      <th>heelAngle</th>\n",
       "      <th>awaBow</th>\n",
       "      <th>awsBow</th>\n",
       "      <th>twaBow</th>\n",
       "      <th>twsBow</th>\n",
       "      <th>awaStern</th>\n",
       "      <th>awsStern</th>\n",
       "      <th>twaStern</th>\n",
       "      <th>twsStern</th>\n",
       "      <th>delta</th>\n",
       "      <th>-delta</th>\n",
       "      <th>psi</th>\n",
       "    </tr>\n",
       "    <tr>\n",
       "      <th>time(s)</th>\n",
       "      <th></th>\n",
       "      <th></th>\n",
       "      <th></th>\n",
       "      <th></th>\n",
       "      <th></th>\n",
       "      <th></th>\n",
       "      <th></th>\n",
       "      <th></th>\n",
       "      <th></th>\n",
       "      <th></th>\n",
       "      <th></th>\n",
       "      <th></th>\n",
       "      <th></th>\n",
       "      <th></th>\n",
       "      <th></th>\n",
       "      <th></th>\n",
       "      <th></th>\n",
       "      <th></th>\n",
       "      <th></th>\n",
       "    </tr>\n",
       "  </thead>\n",
       "  <tbody>\n",
       "    <tr>\n",
       "      <th>2021-04-28 10:52:06.805670144</th>\n",
       "      <td>6.102997</td>\n",
       "      <td>6.122592</td>\n",
       "      <td>2.129027</td>\n",
       "      <td>3.627381</td>\n",
       "      <td>3.482813</td>\n",
       "      <td>59.288584</td>\n",
       "      <td>18.323485</td>\n",
       "      <td>0.028870</td>\n",
       "      <td>1.939275</td>\n",
       "      <td>1.350161</td>\n",
       "      <td>2.689728</td>\n",
       "      <td>2.889215</td>\n",
       "      <td>1.761699</td>\n",
       "      <td>1.180011</td>\n",
       "      <td>2.681771</td>\n",
       "      <td>2.610779</td>\n",
       "      <td>-0.060787</td>\n",
       "      <td>0.060787</td>\n",
       "      <td>0.000000</td>\n",
       "    </tr>\n",
       "    <tr>\n",
       "      <th>2021-04-28 10:52:07.005660160</th>\n",
       "      <td>6.104009</td>\n",
       "      <td>6.092483</td>\n",
       "      <td>2.136409</td>\n",
       "      <td>3.446834</td>\n",
       "      <td>3.482813</td>\n",
       "      <td>59.288588</td>\n",
       "      <td>18.323483</td>\n",
       "      <td>0.026458</td>\n",
       "      <td>1.928501</td>\n",
       "      <td>1.368823</td>\n",
       "      <td>2.681069</td>\n",
       "      <td>2.890932</td>\n",
       "      <td>1.775047</td>\n",
       "      <td>1.184181</td>\n",
       "      <td>2.684258</td>\n",
       "      <td>2.625318</td>\n",
       "      <td>-0.060787</td>\n",
       "      <td>0.060787</td>\n",
       "      <td>0.001012</td>\n",
       "    </tr>\n",
       "    <tr>\n",
       "      <th>2021-04-28 10:52:07.205640192</th>\n",
       "      <td>6.103620</td>\n",
       "      <td>6.061983</td>\n",
       "      <td>2.132644</td>\n",
       "      <td>3.390152</td>\n",
       "      <td>3.482813</td>\n",
       "      <td>59.288592</td>\n",
       "      <td>18.323482</td>\n",
       "      <td>0.016167</td>\n",
       "      <td>1.918660</td>\n",
       "      <td>1.385856</td>\n",
       "      <td>2.674836</td>\n",
       "      <td>2.897437</td>\n",
       "      <td>1.787239</td>\n",
       "      <td>1.187986</td>\n",
       "      <td>2.687887</td>\n",
       "      <td>2.642448</td>\n",
       "      <td>-0.060787</td>\n",
       "      <td>0.060787</td>\n",
       "      <td>0.000623</td>\n",
       "    </tr>\n",
       "    <tr>\n",
       "      <th>2021-04-28 10:52:07.405620224</th>\n",
       "      <td>6.104498</td>\n",
       "      <td>6.074221</td>\n",
       "      <td>2.128858</td>\n",
       "      <td>3.401347</td>\n",
       "      <td>3.482813</td>\n",
       "      <td>59.288595</td>\n",
       "      <td>18.323480</td>\n",
       "      <td>0.006572</td>\n",
       "      <td>1.908774</td>\n",
       "      <td>1.408022</td>\n",
       "      <td>2.667234</td>\n",
       "      <td>2.907018</td>\n",
       "      <td>1.798616</td>\n",
       "      <td>1.191535</td>\n",
       "      <td>2.691208</td>\n",
       "      <td>2.658206</td>\n",
       "      <td>-0.060787</td>\n",
       "      <td>0.060787</td>\n",
       "      <td>0.001502</td>\n",
       "    </tr>\n",
       "    <tr>\n",
       "      <th>2021-04-28 10:52:07.605720064</th>\n",
       "      <td>6.106305</td>\n",
       "      <td>6.103653</td>\n",
       "      <td>2.128647</td>\n",
       "      <td>3.362473</td>\n",
       "      <td>3.482813</td>\n",
       "      <td>59.288599</td>\n",
       "      <td>18.323478</td>\n",
       "      <td>0.005852</td>\n",
       "      <td>1.898938</td>\n",
       "      <td>1.434994</td>\n",
       "      <td>2.657961</td>\n",
       "      <td>2.918348</td>\n",
       "      <td>1.807564</td>\n",
       "      <td>1.194843</td>\n",
       "      <td>2.693403</td>\n",
       "      <td>2.670248</td>\n",
       "      <td>-0.060787</td>\n",
       "      <td>0.060787</td>\n",
       "      <td>0.003308</td>\n",
       "    </tr>\n",
       "  </tbody>\n",
       "</table>\n",
       "</div>"
      ],
      "text/plain": [
       "                                    yaw       cog       sog  rudderTarget  rudderAngle   latitude  longitude  heelAngle    awaBow    awsBow    twaBow    twsBow  awaStern  awsStern  twaStern  twsStern     delta    -delta       psi\n",
       "time(s)                                                                                                                                                                                                                              \n",
       "2021-04-28 10:52:06.805670144  6.102997  6.122592  2.129027  3.627381      3.482813     59.288584  18.323485  0.028870   1.939275  1.350161  2.689728  2.889215  1.761699  1.180011  2.681771  2.610779 -0.060787  0.060787  0.000000\n",
       "2021-04-28 10:52:07.005660160  6.104009  6.092483  2.136409  3.446834      3.482813     59.288588  18.323483  0.026458   1.928501  1.368823  2.681069  2.890932  1.775047  1.184181  2.684258  2.625318 -0.060787  0.060787  0.001012\n",
       "2021-04-28 10:52:07.205640192  6.103620  6.061983  2.132644  3.390152      3.482813     59.288592  18.323482  0.016167   1.918660  1.385856  2.674836  2.897437  1.787239  1.187986  2.687887  2.642448 -0.060787  0.060787  0.000623\n",
       "2021-04-28 10:52:07.405620224  6.104498  6.074221  2.128858  3.401347      3.482813     59.288595  18.323480  0.006572   1.908774  1.408022  2.667234  2.907018  1.798616  1.191535  2.691208  2.658206 -0.060787  0.060787  0.001502\n",
       "2021-04-28 10:52:07.605720064  6.106305  6.103653  2.128647  3.362473      3.482813     59.288599  18.323478  0.005852   1.898938  1.434994  2.657961  2.918348  1.807564  1.194843  2.693403  2.670248 -0.060787  0.060787  0.003308"
      ]
     },
     "execution_count": 59,
     "metadata": {},
     "output_type": "execute_result"
    }
   ],
   "source": [
    "data_raw.head()"
   ]
  },
  {
   "cell_type": "code",
   "execution_count": 60,
   "id": "6a3a2109-e598-4e45-93f6-65bf7b02c31b",
   "metadata": {},
   "outputs": [
    {
     "data": {
      "text/plain": [
       "<Axes: xlabel='time(s)'>"
      ]
     },
     "execution_count": 60,
     "metadata": {},
     "output_type": "execute_result"
    },
    {
     "data": {
      "image/png": "[encoded data removed]",
      "text/plain": [
       "<Figure size 640x480 with 1 Axes>"
      ]
     },
     "metadata": {},
     "output_type": "display_data"
    }
   ],
   "source": [
    "data_raw.plot(y=['psi','-delta'])"
   ]
  },
  {
   "cell_type": "code",
   "execution_count": 70,
   "id": "df26f7a1-abb1-414d-ae1d-dbb5180555bf",
   "metadata": {},
   "outputs": [
    {
     "data": {
      "text/html": [
       "<iframe srcdoc=\"&lt;!DOCTYPE html&gt;\n",
       "&lt;html&gt;\n",
       "&lt;head&gt;\n",
       "    \n",
       "    &lt;meta http-equiv=&quot;content-type&quot; content=&quot;text/html; charset=UTF-8&quot; /&gt;\n",
       "    \n",
       "        &lt;script&gt;\n",
       "            L_NO_TOUCH = false;\n",
       "            L_DISABLE_3D = false;\n",
       "        &lt;/script&gt;\n",
       "    \n",
       "    &lt;style&gt;html, body {width: 100%;height: 100%;margin: 0;padding: 0;}&lt;/style&gt;\n",
       "    &lt;style&gt;#map {position:absolute;top:0;bottom:0;right:0;left:0;}&lt;/style&gt;\n",
       "    &lt;script src=&quot;https://cdn.jsdelivr.net/npm/leaflet@1.9.3/dist/leaflet.js&quot;&gt;&lt;/script&gt;\n",
       "    &lt;script src=&quot;https://code.jquery.com/jquery-1.12.4.min.js&quot;&gt;&lt;/script&gt;\n",
       "    &lt;script src=&quot;https://cdn.jsdelivr.net/npm/bootstrap@5.2.2/dist/js/bootstrap.bundle.min.js&quot;&gt;&lt;/script&gt;\n",
       "    &lt;script src=&quot;https://cdnjs.cloudflare.com/ajax/libs/Leaflet.awesome-markers/2.0.2/leaflet.awesome-markers.js&quot;&gt;&lt;/script&gt;\n",
       "    &lt;link rel=&quot;stylesheet&quot; href=&quot;https://cdn.jsdelivr.net/npm/leaflet@1.9.3/dist/leaflet.css&quot;/&gt;\n",
       "    &lt;link rel=&quot;stylesheet&quot; href=&quot;https://cdn.jsdelivr.net/npm/bootstrap@5.2.2/dist/css/bootstrap.min.css&quot;/&gt;\n",
       "    &lt;link rel=&quot;stylesheet&quot; href=&quot;https://netdna.bootstrapcdn.com/bootstrap/3.0.0/css/bootstrap.min.css&quot;/&gt;\n",
       "    &lt;link rel=&quot;stylesheet&quot; href=&quot;https://cdn.jsdelivr.net/npm/@fortawesome/fontawesome-free@6.2.0/css/all.min.css&quot;/&gt;\n",
       "    &lt;link rel=&quot;stylesheet&quot; href=&quot;https://cdnjs.cloudflare.com/ajax/libs/Leaflet.awesome-markers/2.0.2/leaflet.awesome-markers.css&quot;/&gt;\n",
       "    &lt;link rel=&quot;stylesheet&quot; href=&quot;https://cdn.jsdelivr.net/gh/python-visualization/folium/folium/templates/leaflet.awesome.rotate.min.css&quot;/&gt;\n",
       "    \n",
       "            &lt;meta name=&quot;viewport&quot; content=&quot;width=device-width,\n",
       "                initial-scale=1.0, maximum-scale=1.0, user-scalable=no&quot; /&gt;\n",
       "            &lt;style&gt;\n",
       "                #map_f16e361a3a2f9a607e1a12d8e6bb9d79 {\n",
       "                    position: relative;\n",
       "                    width: 100.0%;\n",
       "                    height: 100.0%;\n",
       "                    left: 0.0%;\n",
       "                    top: 0.0%;\n",
       "                }\n",
       "                .leaflet-container { font-size: 1rem; }\n",
       "            &lt;/style&gt;\n",
       "        \n",
       "&lt;/head&gt;\n",
       "&lt;body&gt;\n",
       "    \n",
       "    \n",
       "            &lt;div class=&quot;folium-map&quot; id=&quot;map_f16e361a3a2f9a607e1a12d8e6bb9d79&quot; &gt;&lt;/div&gt;\n",
       "        \n",
       "&lt;/body&gt;\n",
       "&lt;script&gt;\n",
       "    \n",
       "    \n",
       "            var map_f16e361a3a2f9a607e1a12d8e6bb9d79 = L.map(\n",
       "                &quot;map_f16e361a3a2f9a607e1a12d8e6bb9d79&quot;,\n",
       "                {\n",
       "                    center: [59.289981257014865, 18.322997460542357],\n",
       "                    crs: L.CRS.EPSG3857,\n",
       "                    zoom: 17,\n",
       "                    zoomControl: true,\n",
       "                    preferCanvas: false,\n",
       "                }\n",
       "            );\n",
       "\n",
       "            \n",
       "\n",
       "        \n",
       "    \n",
       "            var tile_layer_8118117d05a4c2aa1f674bc9154d67f9 = L.tileLayer(\n",
       "                &quot;https://{s}.tile.openstreetmap.org/{z}/{x}/{y}.png&quot;,\n",
       "                {&quot;attribution&quot;: &quot;Data by \\u0026copy; \\u003ca target=\\&quot;_blank\\&quot; href=\\&quot;http://openstreetmap.org\\&quot;\\u003eOpenStreetMap\\u003c/a\\u003e, under \\u003ca target=\\&quot;_blank\\&quot; href=\\&quot;http://www.openstreetmap.org/copyright\\&quot;\\u003eODbL\\u003c/a\\u003e.&quot;, &quot;detectRetina&quot;: false, &quot;maxNativeZoom&quot;: 18, &quot;maxZoom&quot;: 18, &quot;minZoom&quot;: 0, &quot;noWrap&quot;: false, &quot;opacity&quot;: 1, &quot;subdomains&quot;: &quot;abc&quot;, &quot;tms&quot;: false}\n",
       "            ).addTo(map_f16e361a3a2f9a607e1a12d8e6bb9d79);\n",
       "        \n",
       "    \n",
       "            var color_line_24b59f64318f0029fe5df41566a42575 = L.featureGroup(\n",
       "                {&quot;popup&quot;: &quot;out&quot;}\n",
       "            ).addTo(map_f16e361a3a2f9a607e1a12d8e6bb9d79);\n",
       "        \n",
       "    \n",
       "            var poly_line_512324d083178f04b395e04812f47146 = L.polyline(\n",
       "                [[[59.2885841741255, 18.3234846756061], [59.2885953069097, 18.32347999361574]], [[59.2885953069097, 18.32347999361574], [59.28861420801631, 18.32347270367306]], [[59.28861420801631, 18.32347270367306], [59.28863318311968, 18.32346586460788]], [[59.28863318311968, 18.32346586460788], [59.28865187892408, 18.3234596412357]], [[59.28865187892408, 18.3234596412357], [59.288670454636645, 18.32345419627994]], [[59.288670454636645, 18.32345419627994], [59.288689069784006, 18.32344921644098]], [[59.288689069784006, 18.32344921644098], [59.288707686293534, 18.323444826706258]], [[59.288707686293534, 18.323444826706258], [59.28872608456436, 18.32344060612498]], [[59.28872608456436, 18.32344060612498], [59.288744659910165, 18.32343588224792]], [[59.288744659910165, 18.32343588224792], [59.28876329527226, 18.3234299402539]], [[59.28876329527226, 18.3234299402539], [59.28878208724656, 18.323424495602502]], [[59.28878208724656, 18.323424495602502], [59.28880121645152, 18.32341886239636]], [[59.28880121645152, 18.32341886239636], [59.28882029893608, 18.3234128523196]], [[59.28882029893608, 18.3234128523196], [59.28883938263495, 18.3234070891918]], [[59.28883938263495, 18.3234070891918], [59.28885835920678, 18.32340117524242]], [[59.28885835920678, 18.32340117524242], [59.28887713494394, 18.32339419685438]], [[59.28887713494394, 18.32339419685438], [59.28889609361577, 18.32338635008014]], [[59.28889609361577, 18.32338635008014], [59.28891486681548, 18.32337941780944]], [[59.28891486681548, 18.32337941780944], [59.28893391487842, 18.323373449239618]], [[59.28893391487842, 18.323373449239618], [59.288952545187456, 18.32336640912078]], [[59.288952545187456, 18.32336640912078], [59.2889713515911, 18.323358296515618]], [[59.2889713515911, 18.323358296515618], [59.28899024225258, 18.32335023073828]], [[59.28899024225258, 18.32335023073828], [59.28900936784125, 18.323342953901623]], [[59.28900936784125, 18.323342953901623], [59.289028580615614, 18.3233369026706]], [[59.289028580615614, 18.3233369026706], [59.28904764820194, 18.3233316787456]], [[59.28904764820194, 18.3233316787456], [59.289066663820016, 18.323326985997642]], [[59.289066663820016, 18.323326985997642], [59.289085751206855, 18.32332198755672]], [[59.289085751206855, 18.32332198755672], [59.289105020869236, 18.32331530267092]], [[59.289105020869236, 18.32331530267092], [59.28912422515909, 18.32330726158516]], [[59.28912422515909, 18.32330726158516], [59.28914338491508, 18.32329859849514]], [[59.28914338491508, 18.32329859849514], [59.28916273778871, 18.32329127592008]], [[59.28916273778871, 18.32329127592008], [59.28918215847244, 18.32328496685532]], [[59.28918215847244, 18.32328496685532], [59.28920144653906, 18.32327983503746]], [[59.28920144653906, 18.32327983503746], [59.28922072181, 18.32327464265484]], [[59.28922072181, 18.32327464265484], [59.2892402047763, 18.32326848220266]], [[59.2892402047763, 18.32326848220266], [59.28925935705384, 18.3232619625074]], [[59.28925935705384, 18.3232619625074], [59.2892783402055, 18.32325549485208]], [[59.2892783402055, 18.32325549485208], [59.28929723950027, 18.3232494652469]], [[59.28929723950027, 18.3232494652469], [59.2893164162932, 18.32324444101264]], [[59.2893164162932, 18.32324444101264], [59.28933579613143, 18.323239718714383]], [[59.28933579613143, 18.323239718714383], [59.2893553367481, 18.32323419984558]], [[59.2893553367481, 18.32323419984558], [59.2893748471476, 18.32322758198504]], [[59.2893748471476, 18.32322758198504], [59.2893937819584, 18.323220993901863]], [[59.2893937819584, 18.323220993901863], [59.28941271527206, 18.323215023256218]], [[59.28941271527206, 18.323215023256218], [59.2894315322765, 18.32320922073428]], [[59.2894315322765, 18.32320922073428], [59.2894501782161, 18.32320367693538]], [[59.2894501782161, 18.32320367693538], [59.2894686167502, 18.323198266105]], [[59.2894686167502, 18.323198266105], [59.289487267709475, 18.32319202859248]], [[59.289487267709475, 18.32319202859248], [59.289506117621364, 18.32318416396232]], [[59.289506117621364, 18.32318416396232], [59.28952509710636, 18.323176584786317]], [[59.28952509710636, 18.323176584786317], [59.289544183216776, 18.32316986823616]], [[59.289544183216776, 18.32316986823616], [59.28956321846728, 18.32316404441464]], [[59.28956321846728, 18.32316404441464], [59.2895823573618, 18.323157965747438]], [[59.2895823573618, 18.323157965747438], [59.28960144678956, 18.323152305072778]], [[59.28960144678956, 18.323152305072778], [59.289620918263935, 18.3231475482078]], [[59.289620918263935, 18.3231475482078], [59.28964041706227, 18.323143637723017]], [[59.28964041706227, 18.323143637723017], [59.28966159106645, 18.3231388824331]], [[59.28966159106645, 18.3231388824331], [59.28967906770548, 18.3231348064309]], [[59.28967906770548, 18.3231348064309], [59.28969820874356, 18.3231295489376]], [[59.28969820874356, 18.3231295489376], [59.28971753747326, 18.32312322152746]], [[59.28971753747326, 18.32312322152746], [59.289736564633245, 18.32311548923264]], [[59.289736564633245, 18.32311548923264], [59.2897550812916, 18.323105829472162]], [[59.2897550812916, 18.323105829472162], [59.28977340136375, 18.32309507245218]], [[59.28977340136375, 18.32309507245218], [59.28979223852592, 18.3230849204256]], [[59.28979223852592, 18.3230849204256], [59.28981160683524, 18.32307704279796]], [[59.28981160683524, 18.32307704279796], [59.28983062742196, 18.32307070450766]], [[59.28983062742196, 18.32307070450766], [59.289849463497106, 18.3230660622858]], [[59.289849463497106, 18.3230660622858], [59.289868459377224, 18.323064316170623]], [[59.289868459377224, 18.323064316170623], [59.2898870154461, 18.32306560723378]], [[59.2898870154461, 18.32306560723378], [59.28990546857856, 18.32306865321682]], [[59.28990546857856, 18.32306865321682], [59.28992407592216, 18.32307247721858]], [[59.28992407592216, 18.32307247721858], [59.28994279161136, 18.32307750608902]], [[59.28994279161136, 18.32307750608902], [59.28996155108856, 18.32308180336054]], [[59.28996155108856, 18.32308180336054], [59.28998032410952, 18.323084819716062]], [[59.28998032410952, 18.323084819716062], [59.28999890291692, 18.323086077314137]], [[59.28999890291692, 18.323086077314137], [59.29001738715764, 18.3230841576583]], [[59.29001738715764, 18.3230841576583], [59.29003568651704, 18.32307971505466]], [[59.29003568651704, 18.32307971505466], [59.29005364517584, 18.323073268199558]], [[59.29005364517584, 18.323073268199558], [59.2900703528303, 18.3230623196449]], [[59.2900703528303, 18.3230623196449], [59.29008633470344, 18.32304812757402]], [[59.29008633470344, 18.32304812757402], [59.29010191071181, 18.32303204100998]], [[59.29010191071181, 18.32303204100998], [59.290117059526246, 18.3230149725285]], [[59.290117059526246, 18.3230149725285], [59.29013248428388, 18.32299903928984]], [[59.29013248428388, 18.32299903928984], [59.29014851883183, 18.322984364933422]], [[59.29014851883183, 18.322984364933422], [59.29016418598944, 18.3229691483251]], [[59.29016418598944, 18.3229691483251], [59.2901794935803, 18.32295448931804]], [[59.2901794935803, 18.32295448931804], [59.29019576256924, 18.32294146157498]], [[59.29019576256924, 18.32294146157498], [59.290212467955676, 18.32293073498134]], [[59.290212467955676, 18.32293073498134], [59.29022916728313, 18.32292149551954]], [[59.29022916728313, 18.32292149551954], [59.290245934798385, 18.32291441940578]], [[59.290245934798385, 18.32291441940578], [59.29026327826324, 18.32291099578844]], [[59.29026327826324, 18.32291099578844], [59.29028098027212, 18.322912097682583]], [[59.29028098027212, 18.322912097682583], [59.29029878300046, 18.32291573025546]], [[59.29029878300046, 18.32291573025546], [59.290316864819815, 18.3229208467748]], [[59.290316864819815, 18.3229208467748], [59.2903352908512, 18.32292575672586]], [[59.2903352908512, 18.32292575672586], [59.29035348944924, 18.322930065517617]], [[59.29035348944924, 18.322930065517617], [59.2903717281392, 18.32293254100158]], [[59.2903717281392, 18.32293254100158], [59.29039017899264, 18.32293294211554]], [[59.29039017899264, 18.32293294211554], [59.290408575319624, 18.32293077796414]], [[59.290408575319624, 18.32293077796414], [59.29042652002204, 18.32292663967548]], [[59.29042652002204, 18.32292663967548], [59.29044407453166, 18.3229201269518]], [[59.29044407453166, 18.3229201269518], [59.290460801546125, 18.32290951794068]], [[59.290460801546125, 18.32290951794068], [59.29047661587682, 18.32289566494572]], [[59.29047661587682, 18.32289566494572], [59.29049181882034, 18.32288023427026]], [[59.29049181882034, 18.32288023427026], [59.290507229653784, 18.32286477274588]], [[59.290507229653784, 18.32286477274588], [59.29052288121318, 18.3228488777433]], [[59.29052288121318, 18.3228488777433], [59.29053828149348, 18.322833132003478]], [[59.29053828149348, 18.322833132003478], [59.290553951748436, 18.32281888993398]], [[59.290553951748436, 18.32281888993398], [59.290570027438164, 18.32280539528444]], [[59.290570027438164, 18.32280539528444], [59.290586385038445, 18.32279290925012]], [[59.290586385038445, 18.32279290925012], [59.29060294865044, 18.32278199565238]], [[59.29060294865044, 18.32278199565238], [59.2906197887041, 18.3227728454377]], [[59.2906197887041, 18.3227728454377], [59.29063666240256, 18.32276652563786]], [[59.29063666240256, 18.32276652563786], [59.290653915471026, 18.3227643082377]], [[59.290653915471026, 18.3227643082377], [59.29067136822512, 18.32276563158082]], [[59.29067136822512, 18.32276563158082], [59.29068882596856, 18.322769178098177]], [[59.29068882596856, 18.322769178098177], [59.29070641383934, 18.32277368743116]], [[59.29070641383934, 18.32277368743116], [59.29072450837536, 18.3227778788322]], [[59.29072450837536, 18.3227778788322], [59.290742772974696, 18.322782159515576]], [[59.290742772974696, 18.322782159515576], [59.29076090423398, 18.322785629919842]], [[59.29076090423398, 18.322785629919842], [59.29077923246564, 18.32278676886206]], [[59.29077923246564, 18.32278676886206], [59.290797968284586, 18.322785243336938]], [[59.290797968284586, 18.322785243336938], [59.2908162182281, 18.32278201512754]], [[59.2908162182281, 18.32278201512754], [59.29083413051302, 18.3227766136193]], [[59.29083413051302, 18.3227766136193], [59.29085171161923, 18.32276851847866]], [[59.29085171161923, 18.32276851847866], [59.290868596907956, 18.32275748218484]], [[59.290868596907956, 18.32275748218484], [59.29088459045678, 18.322744470208143]], [[59.29088459045678, 18.322744470208143], [59.29090017179806, 18.32273116376384]], [[59.29090017179806, 18.32273116376384], [59.290915850539264, 18.32271654091452]], [[59.290915850539264, 18.32271654091452], [59.290931459373915, 18.32270080320992]], [[59.290931459373915, 18.32270080320992], [59.290946357559434, 18.32268400806494]], [[59.290946357559434, 18.32268400806494], [59.29096088914004, 18.32266588765852]], [[59.29096088914004, 18.32266588765852], [59.29097579020324, 18.322646735761378]], [[59.29097579020324, 18.322646735761378], [59.290990837218054, 18.3226264485399]], [[59.290990837218054, 18.3226264485399], [59.29100579699824, 18.32260466494106]], [[59.29100579699824, 18.32260466494106], [59.29102091681905, 18.3225824240083]], [[59.29102091681905, 18.3225824240083], [59.29103582185773, 18.32256039890052]], [[59.29103582185773, 18.32256039890052], [59.291050324979004, 18.322537825471642]], [[59.291050324979004, 18.322537825471642], [59.2910642935146, 18.32251386348496]], [[59.2910642935146, 18.32251386348496], [59.29107843332614, 18.3224894871389]], [[59.29107843332614, 18.3224894871389], [59.29109199194431, 18.32246400177168]], [[59.29109199194431, 18.32246400177168], [59.291105417954256, 18.32243822770728]], [[59.291105417954256, 18.32243822770728], [59.29111879455267, 18.322412182195922]], [[59.29111879455267, 18.322412182195922], [59.291131006491604, 18.32238496014422]], [[59.291131006491604, 18.32238496014422], [59.29114320691228, 18.322357973336782]], [[59.29114320691228, 18.322357973336782], [59.29115523223946, 18.32233094827016]], [[59.29115523223946, 18.32233094827016], [59.29116724534238, 18.32230446732548]], [[59.29116724534238, 18.32230446732548], [59.291179366013964, 18.32227767065026]], [[59.291179366013964, 18.32227767065026], [59.29119065909564, 18.32224919102724]], [[59.29119065909564, 18.32224919102724], [59.29120169593129, 18.32222020560936]], [[59.29120169593129, 18.32222020560936], [59.291213038156215, 18.32219129523372]], [[59.291213038156215, 18.32219129523372], [59.2912231302623, 18.3221616076369]], [[59.2912231302623, 18.3221616076369], [59.29123258024955, 18.3221350401466]]],\n",
       "                {&quot;bubblingMouseEvents&quot;: true, &quot;color&quot;: &quot;#000000ff&quot;, &quot;dashArray&quot;: null, &quot;dashOffset&quot;: null, &quot;fill&quot;: false, &quot;fillColor&quot;: &quot;#000000ff&quot;, &quot;fillOpacity&quot;: 0.2, &quot;fillRule&quot;: &quot;evenodd&quot;, &quot;lineCap&quot;: &quot;round&quot;, &quot;lineJoin&quot;: &quot;round&quot;, &quot;noClip&quot;: false, &quot;opacity&quot;: 0.3, &quot;smoothFactor&quot;: 1.0, &quot;stroke&quot;: true, &quot;weight&quot;: 1.0}\n",
       "            ).addTo(color_line_24b59f64318f0029fe5df41566a42575);\n",
       "        \n",
       "    \n",
       "            var marker_3da823dec1ebe004696f1164a3847106 = L.marker(\n",
       "                [59.2885841741255, 18.3234846756061],\n",
       "                {}\n",
       "            ).addTo(map_f16e361a3a2f9a607e1a12d8e6bb9d79);\n",
       "        \n",
       "    \n",
       "            var icon_26ad87a442a9a53fd29422db0a5c13d8 = L.AwesomeMarkers.icon(\n",
       "                {&quot;extraClasses&quot;: &quot;fa-rotate-0&quot;, &quot;icon&quot;: &quot;play&quot;, &quot;iconColor&quot;: &quot;white&quot;, &quot;markerColor&quot;: &quot;green&quot;, &quot;prefix&quot;: &quot;glyphicon&quot;}\n",
       "            );\n",
       "            marker_3da823dec1ebe004696f1164a3847106.setIcon(icon_26ad87a442a9a53fd29422db0a5c13d8);\n",
       "        \n",
       "    \n",
       "        var popup_043a2a8a1af305664f751a00c3a8ddf0 = L.popup({&quot;maxWidth&quot;: &quot;100%&quot;});\n",
       "\n",
       "        \n",
       "            \n",
       "                var html_27a0a2bef6291747e97d68be2951bc3f = $(`&lt;div id=&quot;html_27a0a2bef6291747e97d68be2951bc3f&quot; style=&quot;width: 100.0%; height: 100.0%;&quot;&gt;start&lt;/div&gt;`)[0];\n",
       "                popup_043a2a8a1af305664f751a00c3a8ddf0.setContent(html_27a0a2bef6291747e97d68be2951bc3f);\n",
       "            \n",
       "        \n",
       "\n",
       "        marker_3da823dec1ebe004696f1164a3847106.bindPopup(popup_043a2a8a1af305664f751a00c3a8ddf0)\n",
       "        ;\n",
       "\n",
       "        \n",
       "    \n",
       "    \n",
       "            var marker_db97edb0785882e62172428380b6ef9a = L.marker(\n",
       "                [59.2912358754671, 18.3221269452108],\n",
       "                {}\n",
       "            ).addTo(map_f16e361a3a2f9a607e1a12d8e6bb9d79);\n",
       "        \n",
       "    \n",
       "            var icon_ce2af90062a6b36bd6340ad595e3841f = L.AwesomeMarkers.icon(\n",
       "                {&quot;extraClasses&quot;: &quot;fa-rotate-0&quot;, &quot;icon&quot;: &quot;stop&quot;, &quot;iconColor&quot;: &quot;white&quot;, &quot;markerColor&quot;: &quot;red&quot;, &quot;prefix&quot;: &quot;glyphicon&quot;}\n",
       "            );\n",
       "            marker_db97edb0785882e62172428380b6ef9a.setIcon(icon_ce2af90062a6b36bd6340ad595e3841f);\n",
       "        \n",
       "    \n",
       "        var popup_b18665a250cb072363738aaf95bbe803 = L.popup({&quot;maxWidth&quot;: &quot;100%&quot;});\n",
       "\n",
       "        \n",
       "            \n",
       "                var html_2c34582f951f6b33da6dab675b2358c8 = $(`&lt;div id=&quot;html_2c34582f951f6b33da6dab675b2358c8&quot; style=&quot;width: 100.0%; height: 100.0%;&quot;&gt;stop&lt;/div&gt;`)[0];\n",
       "                popup_b18665a250cb072363738aaf95bbe803.setContent(html_2c34582f951f6b33da6dab675b2358c8);\n",
       "            \n",
       "        \n",
       "\n",
       "        marker_db97edb0785882e62172428380b6ef9a.bindPopup(popup_b18665a250cb072363738aaf95bbe803)\n",
       "        ;\n",
       "\n",
       "        \n",
       "    \n",
       "&lt;/script&gt;\n",
       "&lt;/html&gt;\" width=\"1000\" height=\"600\"style=\"border:none !important;\" \"allowfullscreen\" \"webkitallowfullscreen\" \"mozallowfullscreen\"></iframe>"
      ],
      "text/plain": [
       "<branca.element.Figure at 0x7f4c3b543f70>"
      ]
     },
     "execution_count": 70,
     "metadata": {},
     "output_type": "execute_result"
    }
   ],
   "source": [
    "data_raw['trip_no'] = 0\n",
    "plot_map(df=data_raw, time_step='1S', zoom_start=17, color_key='sog', colormap=['black', 'black'])"
   ]
  }
 ],
 "metadata": {
  "kernelspec": {
   "display_name": "Kedro (phd)",
   "language": "python",
   "name": "kedro_phd"
  },
  "language_info": {
   "codemirror_mode": {
    "name": "ipython",
    "version": 3
   },
   "file_extension": ".py",
   "mimetype": "text/x-python",
   "name": "python",
   "nbconvert_exporter": "python",
   "pygments_lexer": "ipython3",
   "version": "3.10.6"
  }
 },
 "nbformat": 4,
 "nbformat_minor": 5
}
