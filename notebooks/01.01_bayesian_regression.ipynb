{
 "cells": [
  {
   "cell_type": "code",
   "execution_count": null,
   "id": "87c00e13-88db-4032-bb35-1165b41df09c",
   "metadata": {},
   "outputs": [],
   "source": [
    "import warnings\n",
    "warnings.filterwarnings('ignore')\n",
    "%matplotlib inline\n",
    "%load_ext autoreload\n",
    "%autoreload 2\n",
    "%config Completer.use_jedi = False"
   ]
  },
  {
   "cell_type": "code",
   "execution_count": null,
   "id": "2a877110-e021-4999-8ed7-65b10958bd6b",
   "metadata": {},
   "outputs": [],
   "source": [
    "# Import pyMC3 and also arviz for visualisation\n",
    "import pymc as pm\n",
    "import arviz as az\n",
    "# Import the other core data science packages\n",
    "import pandas as pd\n",
    "import numpy as np\n",
    "import matplotlib.pyplot as plt\n",
    "plt.style.use('bmh')\n",
    "from sklearn import datasets\n",
    "from scipy.stats import norm\n",
    "import statsmodels.formula.api as smf\n",
    "\n",
    "RANDOM_SEED = 8927\n",
    "rng = np.random.default_rng(RANDOM_SEED)\n",
    "import seaborn as sns\n",
    "import os"
   ]
  },
  {
   "cell_type": "markdown",
   "id": "0e5ee812-f65e-47b6-a908-b9f37cbbbdaa",
   "metadata": {},
   "source": [
    "## Data"
   ]
  },
  {
   "cell_type": "code",
   "execution_count": null,
   "id": "409086d5-b019-4d14-820d-ee89d7983690",
   "metadata": {},
   "outputs": [],
   "source": [
    "# True parameter values\n",
    "alpha_, sigma_ = 1, 0.05\n",
    "beta_ = [1]\n",
    "\n",
    "# Size of dataset\n",
    "size = 20\n",
    "\n",
    "data = pd.DataFrame()\n",
    "# Predictor variable\n",
    "data['x1'] = np.linspace(0,1,size)\n",
    "\n",
    "# Simulate outcome variable\n",
    "data['y'] = alpha_ + beta_[0] * data['x1']\n",
    "data['y_measure'] = data['y'] + rng.normal(size=size) * sigma_\n",
    "data['outlier'] = False\n",
    "\n",
    "# Adding one outlier:\n",
    "index = data.index[int(size*0.60)]\n",
    "data.loc[index,'outlier'] = True\n",
    "data.loc[index,'y_measure']*=1.5"
   ]
  },
  {
   "cell_type": "code",
   "execution_count": null,
   "id": "b3555abe-5c1c-4223-a8d4-7538148ce605",
   "metadata": {},
   "outputs": [],
   "source": [
    "fig,ax=plt.subplots()\n",
    "data.plot(x='x1', y='y', style='r-', ax=ax)\n",
    "\n",
    "data_good = data.loc[~data['outlier']]\n",
    "data_outliers = data.loc[data['outlier']]\n",
    "\n",
    "data_good.plot(x='x1', y='y_measure', style='.', ax=ax)\n",
    "data_outliers.plot(x='x1', y='y_measure', style='.', label='outlier', ax=ax)\n"
   ]
  },
  {
   "cell_type": "markdown",
   "id": "31ab86e9-1ea5-47c4-b22b-d93cfbaff7fd",
   "metadata": {},
   "source": [
    "## OLS regression"
   ]
  },
  {
   "cell_type": "code",
   "execution_count": null,
   "id": "06c9e686-3ccf-45f3-a8e8-5e95bc05b2c2",
   "metadata": {},
   "outputs": [],
   "source": [
    "# OLS line\n",
    "formula = 'y_measure ~ x1'\n",
    "results_robust = smf.ols(formula, data=data_good).fit()"
   ]
  },
  {
   "cell_type": "code",
   "execution_count": null,
   "id": "9950f814-ab25-41af-9172-07467437b550",
   "metadata": {},
   "outputs": [],
   "source": [
    "results_robust.summary()"
   ]
  },
  {
   "cell_type": "code",
   "execution_count": null,
   "id": "d41fe63e-8dde-487c-a454-ce876392256b",
   "metadata": {},
   "outputs": [],
   "source": [
    "results_ols = smf.ols(formula, data=data).fit()\n",
    "results_ols.summary()"
   ]
  },
  {
   "cell_type": "code",
   "execution_count": null,
   "id": "0fc58829-5c45-4db4-ab57-ebd62e2dd08a",
   "metadata": {},
   "outputs": [],
   "source": [
    "X = data[['x1']]\n",
    "prediction = X.copy()\n",
    "\n",
    "prediction['robust'] = results_robust.predict(X)\n",
    "prediction['OLS'] = results_ols.predict(X)\n",
    "\n",
    "fig,ax=plt.subplots(sharex=True)\n",
    "data_good.plot(x='x1', y='y_measure', style='.', ax=ax)\n",
    "data_outliers.plot(x='x1', y='y_measure', label='outliers', style='.', ax=ax)\n",
    "data.plot(x='x1', y='y', style='r-', ax=ax)\n",
    "\n",
    "prediction.plot(x='x1', y='robust', style='--', ax=ax)\n",
    "prediction.plot(x='x1', y='OLS', style='--', ax=ax)"
   ]
  },
  {
   "cell_type": "markdown",
   "id": "073f932f-f367-4955-b8ef-53bc32cfb14f",
   "metadata": {},
   "source": [
    "## Bayesian"
   ]
  },
  {
   "cell_type": "code",
   "execution_count": null,
   "id": "371ac1d3-344b-40d2-803c-894acd5ce8ca",
   "metadata": {},
   "outputs": [],
   "source": [
    "basic_model = pm.Model()\n",
    "\n",
    "with basic_model:\n",
    "    # Priors for unknown model parameters\n",
    "    alpha = pm.Normal(\"alpha\", mu=alpha_, sigma=0.1)\n",
    "    beta = pm.Normal(\"beta\", mu=beta_, sigma=0.1, shape=1)\n",
    "    sigma = pm.HalfNormal(\"sigma\", sigma=sigma_)\n",
    "\n",
    "    # Expected value of outcome\n",
    "    mu = alpha + beta[0] * data['x1']\n",
    "\n",
    "    # Likelihood (sampling distribution) of observations\n",
    "    Y_obs = pm.Normal(\"Y_obs\", mu=mu, sigma=sigma, observed=data['y_measure'])"
   ]
  },
  {
   "cell_type": "code",
   "execution_count": null,
   "id": "c5428c62-4dcf-4020-8824-39d2d6a2638a",
   "metadata": {},
   "outputs": [],
   "source": [
    "os.name"
   ]
  },
  {
   "cell_type": "code",
   "execution_count": null,
   "id": "ae3bd5d9-16f5-4573-af98-01464ea5552c",
   "metadata": {},
   "outputs": [],
   "source": [
    "import os\n",
    "if os.name == 'nt':\n",
    "    os.environ[\"PATH\"] += os.pathsep + 'C:/Program Files/Graphviz/bin'\n",
    "\n",
    "pm.model_to_graphviz(basic_model)"
   ]
  },
  {
   "cell_type": "code",
   "execution_count": null,
   "id": "bc6294a8-b192-4614-8181-c8abbd6528d0",
   "metadata": {},
   "outputs": [],
   "source": [
    "with basic_model:\n",
    "    # draw 1000 posterior samples\n",
    "    idata = pm.sample(draws=100)"
   ]
  },
  {
   "cell_type": "code",
   "execution_count": null,
   "id": "9f388a42-0d67-45c3-9365-ff9f41a362c5",
   "metadata": {},
   "outputs": [],
   "source": [
    "with basic_model:\n",
    "    az.plot_posterior(idata,\n",
    "                      var_names=['alpha', 'beta', 'sigma'],\n",
    "                      textsize=18,\n",
    "                      point_estimate='mean',\n",
    "                      rope_color='black')"
   ]
  },
  {
   "cell_type": "code",
   "execution_count": null,
   "id": "9fab2ce3-23dd-49cd-8852-6fcda3ba006d",
   "metadata": {},
   "outputs": [],
   "source": [
    "az.summary(idata)"
   ]
  },
  {
   "cell_type": "code",
   "execution_count": null,
   "id": "925ab13e-2c68-4c20-9e17-00151d856e23",
   "metadata": {},
   "outputs": [],
   "source": [
    "with basic_model:   \n",
    "    prior_samples = pm.sample_prior_predictive(samples=1000, var_names=[\"alpha\", \"beta\"])"
   ]
  },
  {
   "cell_type": "code",
   "execution_count": null,
   "id": "eb3f28ff-5990-4bf4-87c3-1be347057d98",
   "metadata": {},
   "outputs": [],
   "source": [
    "with basic_model:   \n",
    "    y_test = pm.sample_posterior_predictive(idata, var_names=[\"alpha\", \"beta\"])"
   ]
  },
  {
   "cell_type": "code",
   "execution_count": null,
   "id": "21570d92-ecc3-43b6-ad1f-3e8df600d163",
   "metadata": {},
   "outputs": [],
   "source": [
    "y_test"
   ]
  },
  {
   "cell_type": "code",
   "execution_count": null,
   "id": "68113aa8-3d31-4cab-aeea-a93ca168c4ed",
   "metadata": {},
   "outputs": [],
   "source": [
    "idata.posterior.data_vars['alpha'].data.mean()"
   ]
  },
  {
   "cell_type": "code",
   "execution_count": null,
   "id": "6f87be96-5990-4b7b-8ab2-a132474fbcb0",
   "metadata": {},
   "outputs": [],
   "source": [
    "prediction['Bayes'] = idata.posterior.data_vars['alpha'].data.mean() + idata.posterior.data_vars['beta'][0].data.mean()*data['x1']"
   ]
  },
  {
   "cell_type": "code",
   "execution_count": null,
   "id": "f95c7b35-b092-4d4e-a563-e1cca8d77fc0",
   "metadata": {},
   "outputs": [],
   "source": [
    "fig,ax=plt.subplots(sharex=True)\n",
    "data_good.plot(x='x1', y='y_measure', style='.', ax=ax)\n",
    "data_outliers.plot(x='x1', y='y_measure', label='outliers', style='.', ax=ax)\n",
    "data.plot(x='x1', y='y', style='r-', ax=ax)\n",
    "\n",
    "prediction.plot(x='x1', y='robust', style='--', ax=ax)\n",
    "prediction.plot(x='x1', y='OLS', style='--', ax=ax)\n",
    "prediction.plot(x='x1', y='Bayes', style='--', ax=ax)"
   ]
  },
  {
   "cell_type": "code",
   "execution_count": null,
   "id": "e9ccc045-ac87-4ef4-961f-bf0ecc714d68",
   "metadata": {},
   "outputs": [],
   "source": [
    "basic_model_robust = pm.Model()\n",
    "\n",
    "with basic_model_robust:\n",
    "    # Priors for unknown model parameters\n",
    "    alpha = pm.Normal(\"alpha\", mu=alpha_, sigma=0.1)\n",
    "    beta = pm.Normal(\"beta\", mu=beta_, sigma=0.1, shape=1)\n",
    "    sigma = pm.HalfNormal(\"sigma\", sigma=sigma_)\n",
    "\n",
    "    # Expected value of outcome\n",
    "    mu = alpha + beta[0] * data['x1']\n",
    "    \n",
    "    ν = pm.Uniform(\"ν\", 1, 10)\n",
    "    \n",
    "    # Likelihood (sampling distribution) of observations\n",
    "    # Using Student's T-distribution makes the regression more robust, (I don't know why...)\n",
    "    Y_obs = pm.StudentT(\"Y_obs\", nu=ν, mu=mu, sigma=sigma, observed=data['y_measure'])"
   ]
  },
  {
   "cell_type": "code",
   "execution_count": null,
   "id": "bef01754-2ac1-41d0-8542-13ff24a6b60e",
   "metadata": {},
   "outputs": [],
   "source": [
    "mu"
   ]
  },
  {
   "cell_type": "code",
   "execution_count": null,
   "id": "b6151de4-fd88-45f7-bb56-cb7583d33f9c",
   "metadata": {},
   "outputs": [],
   "source": [
    "with basic_model_robust:\n",
    "    # draw 1000 posterior samples\n",
    "    trace_robust = pm.sample(draws=100)"
   ]
  },
  {
   "cell_type": "code",
   "execution_count": null,
   "id": "aa230052-253e-4d0b-9816-ce11dcfedccb",
   "metadata": {},
   "outputs": [],
   "source": [
    "prediction['Bayes robust'] = trace_robust.posterior.data_vars['alpha'].data.mean() + trace_robust.posterior.data_vars['beta'][0].data.mean()*data['x1']"
   ]
  },
  {
   "cell_type": "code",
   "execution_count": null,
   "id": "00aabebf-f195-4198-aa93-94b242c5ec99",
   "metadata": {},
   "outputs": [],
   "source": [
    "fig,ax=plt.subplots(sharex=True)\n",
    "data_good.plot(x='x1', y='y_measure', style='.', ax=ax)\n",
    "data_outliers.plot(x='x1', y='y_measure', label='outliers', style='.', ax=ax)\n",
    "data.plot(x='x1', y='y', style='r-', ax=ax)\n",
    "\n",
    "prediction.plot(x='x1', y='robust', style='--', ax=ax)\n",
    "prediction.plot(x='x1', y='OLS', style='--', ax=ax)\n",
    "prediction.plot(x='x1', y='Bayes', style='--', ax=ax)\n",
    "prediction.plot(x='x1', y='Bayes robust', style='--', ax=ax)"
   ]
  },
  {
   "cell_type": "code",
   "execution_count": null,
   "id": "75d36134-2339-4b38-891b-de38aab11e25",
   "metadata": {},
   "outputs": [],
   "source": [
    "az.plot_trace(trace_robust)"
   ]
  }
 ],
 "metadata": {
  "kernelspec": {
   "display_name": "Python 3 (ipykernel)",
   "language": "python",
   "name": "python3"
  },
  "language_info": {
   "codemirror_mode": {
    "name": "ipython",
    "version": 3
   },
   "file_extension": ".py",
   "mimetype": "text/x-python",
   "name": "python",
   "nbconvert_exporter": "python",
   "pygments_lexer": "ipython3",
   "version": "3.10.6"
  }
 },
 "nbformat": 4,
 "nbformat_minor": 5
}
