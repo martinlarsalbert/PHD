{
 "cells": [
  {
   "cell_type": "code",
   "execution_count": null,
   "id": "ed6b34b9-d6db-47b6-9a23-6e6c333120c1",
   "metadata": {},
   "outputs": [],
   "source": [
    "import warnings\n",
    "warnings.filterwarnings('ignore')\n",
    "%matplotlib inline\n",
    "%load_ext autoreload\n",
    "%autoreload 2\n",
    "%config Completer.use_jedi = False"
   ]
  },
  {
   "cell_type": "code",
   "execution_count": null,
   "id": "3e0ef0e8-a120-40cc-904f-c5a7c8668353",
   "metadata": {},
   "outputs": [],
   "source": [
    "# Import pyMC3 and also arviz for visualisation\n",
    "import pymc as pm\n",
    "import arviz as az\n",
    "import sympy as sp\n",
    "import pandas as pd\n",
    "import numpy as np\n",
    "import statsmodels.api as sm\n",
    "\n",
    "import matplotlib.pyplot as plt\n",
    "plt.style.use('bmh')\n",
    "import symseaman as ss\n",
    "from symseaman.substitute_dynamic_symbols import lambdify, remove_bis_eq, run, standard_substitutes\n",
    "from symseaman.seaman_symbols import *\n",
    "from vct.bis_system import BisSystem"
   ]
  },
  {
   "cell_type": "code",
   "execution_count": null,
   "id": "026561d1-7e8e-4558-b2b6-2a019e341757",
   "metadata": {},
   "outputs": [],
   "source": [
    "import sympy as sp\n",
    "from symseaman.seaman_symbols import *\n",
    "from symseaman.substitute_dynamic_symbols import run, lambdify, standard_substitutes, remove_bis, remove_bis_eq, standard_substitutes_eq, lower_and_abs\n",
    "from symseaman.seaman_symbol import BisSymbol\n",
    "import symseaman as ss\n",
    "from symseaman.seaman_symbol import expand_bis\n",
    "from symseaman.shipdict import ShipDict\n",
    "import pandas as pd\n",
    "pd.set_option('display.max_rows', 5000)\n",
    "pd.set_option('display.max_columns', 5000)\n",
    "pd.set_option('display.width', 10000)\n",
    "pd.set_option('max_colwidth', -1)\n",
    "import numpy as np\n",
    "import matplotlib.pyplot as plt\n",
    "plt.rcParams['figure.figsize'] = 12, 4 \n",
    "plt.style.use('bmh')\n",
    "import vct.bokeh_plotting as bokeh_plotting\n",
    "from numpy.testing import assert_almost_equal\n",
    "from scipy.interpolate import interp1d\n",
    "from symseaman.calculate import calculate_ship\n",
    "from symseaman.to_matrix import matrix_form, matrix_form_standard, exclude, exclude_derivatives\n",
    "from functools import reduce\n",
    "from operator import add\n",
    "from vct.regression_ols import Regression, RegressionPipeline\n",
    "import dill"
   ]
  },
  {
   "cell_type": "code",
   "execution_count": null,
   "id": "8b298ca0-9563-483e-87fa-7dcee11400b6",
   "metadata": {},
   "outputs": [],
   "source": [
    "# Read configs:\n",
    "import anyconfig\n",
    "globals_path = \"../conf/base/globals.yml\"\n",
    "global_variables = anyconfig.load(globals_path)\n",
    "ships = global_variables[\"ships\"]\n",
    "from vct.bis_system import BisSystem\n",
    "import statsmodels.api as sm\n",
    "from scipy.stats import norm"
   ]
  },
  {
   "cell_type": "code",
   "execution_count": null,
   "id": "00379312-00c4-42f8-b8dc-b370f97cf3d8",
   "metadata": {},
   "outputs": [],
   "source": [
    "%reload_kedro\n",
    "ship_name=ships[0]\n",
    "shipdict = catalog.load(f\"{ship_name}.shipdict_base\")\n",
    "ship_dict_from_regression = catalog.load(f\"{ ship_name }.ship_dict_from_regression\")\n",
    "\n",
    "df_VCT = catalog.load(f\"{ship_name}.df_VCT\")\n",
    "df_VCT['g'] = df_VCT['g'].fillna(method='pad')\n",
    "df_VCT['rho'] = df_VCT['rho'].fillna(method='pad')\n",
    "\n",
    "thrust_keys = catalog.load(f\"params:{ship_name}.thrust_keys\")\n",
    "\n",
    "if len(thrust_keys) > 0:\n",
    "    df_VCT['tprop'] = df_VCT[thrust_keys[0]]\n",
    "else:\n",
    "    df_VCT['tprop'] = 0\n",
    "    thrust_keys=['tprop']\n",
    "    \n",
    "derivatives = catalog.load(f\"{ship_name}.derivatives\")[\"OLS\"]\n",
    "derivatives_std = catalog.load(f\"{ship_name}.derivatives_std\")[\"OLS\"]"
   ]
  },
  {
   "cell_type": "code",
   "execution_count": null,
   "id": "fcb68f81-737b-4073-a254-7a9f0f8ac316",
   "metadata": {},
   "outputs": [],
   "source": [
    "lpp_ = shipdict.main_data['l']\n",
    "t_ = shipdict.design_particulars['ta']\n",
    "disp_ = shipdict.design_particulars['disp']\n",
    "units={'fy_rudders':'force',\n",
    "       'fy_rudder':'force',\n",
    "       'tprop':'force',\n",
    "      }\n",
    "bis_system = BisSystem(lpp=lpp_, volume=disp_, units=units)\n",
    "\n",
    "interesting = list((set(bis_system.qd.keys()) & set(df_VCT.columns)) |  (set(df_VCT.columns) & set(['test type', 'model_name','fy_rudders','fy_rudder','tprop'])))\n",
    "interesting = list(set(interesting))\n",
    "df_bis = bis_system.df_to_bis(df_VCT[interesting])"
   ]
  },
  {
   "cell_type": "markdown",
   "id": "5f074ffc-18bd-4c42-9646-2f59e4584133",
   "metadata": {},
   "source": [
    "### $Y_{T\\delta}$"
   ]
  },
  {
   "cell_type": "code",
   "execution_count": null,
   "id": "5984edc6-590d-4f39-b001-d0880725d329",
   "metadata": {},
   "outputs": [],
   "source": [
    "class Regression_ytd(Regression):\n",
    "    _eq = ss.equations.sway.eq_expanded.subs([\n",
    "    (phi.bis,0),\n",
    "    (r_w.bis,0),\n",
    "    (v_w.bis,0),\n",
    "    #(Y_uudelta, 0),\n",
    "    ])\n",
    "    intercept=False"
   ]
  },
  {
   "cell_type": "code",
   "execution_count": null,
   "id": "b729fbdb-5805-4da5-8273-fc63252c1e4d",
   "metadata": {},
   "outputs": [],
   "source": [
    "pre_set_derivatives_0 = {\n",
    "    's':shipdict.rudder_coeff_data['s'],\n",
    "    'kv':shipdict.rudder_coeff_data['kv'],\n",
    "    'kr':shipdict.rudder_coeff_data['kr'],\n",
    "    'ktyh':derivatives['ktyh'],\n",
    "    'xxprop':derivatives['xxprop'],\n",
    "}\n",
    "pipeline = RegressionPipeline(shipdict=shipdict, pre_set_derivatives=pre_set_derivatives_0)\n",
    "\n",
    "mask = df_bis['test type'].isin(['Thrust variation','Rudder angle'])\n",
    "df_ = df_bis.loc[mask]\n",
    "\n",
    "pipeline['ytd'] = Regression_ytd(df=df_)"
   ]
  },
  {
   "cell_type": "code",
   "execution_count": null,
   "id": "db452aaf-b277-4ab7-b5b9-ea06a7246580",
   "metadata": {},
   "outputs": [],
   "source": [
    "regression = pipeline['ytd']"
   ]
  },
  {
   "cell_type": "code",
   "execution_count": null,
   "id": "65ed13e7-9751-4524-b24d-fdb2e02bbcbb",
   "metadata": {},
   "outputs": [],
   "source": [
    "y,X=regression.label_and_features(derivatives=pre_set_derivatives_0, meta_data=pipeline.meta_data)"
   ]
  },
  {
   "cell_type": "code",
   "execution_count": null,
   "id": "e91771bc-fef5-4c9c-9fce-0538faacec76",
   "metadata": {},
   "outputs": [],
   "source": [
    "X"
   ]
  },
  {
   "cell_type": "code",
   "execution_count": null,
   "id": "d8991e84-8abc-44ca-a30e-54f3aed67b1a",
   "metadata": {},
   "outputs": [],
   "source": [
    "regression.fit(derivatives=pre_set_derivatives_0, meta_data=pipeline.meta_data)"
   ]
  },
  {
   "cell_type": "code",
   "execution_count": null,
   "id": "cb19fff3-b030-49f9-a585-1862d3176c2f",
   "metadata": {},
   "outputs": [],
   "source": [
    "data = df_\n",
    "basic_model = pm.Model()\n",
    "\n",
    "columns = list(X.columns)\n",
    "\n",
    "sigmas_ = [derivatives_std[key] for key in columns]\n",
    "mus_ = [derivatives[key] for key in columns]\n",
    "sigma_ = 0.001*data['fy'].abs().max()\n",
    "\n",
    "with basic_model:\n",
    "    # Priors for unknown model parameters\n",
    "    parameters = pm.Normal(\"parameters\", mu=mus_, \n",
    "                           sigma=sigmas_, \n",
    "                           shape=len(columns))\n",
    "    \n",
    "    sigma = pm.HalfNormal(\"sigma\", sigma=sigma_)\n",
    "\n",
    "    # Expected value of outcome\n",
    "    mu = pm.math.dot(X, parameters)\n",
    "\n",
    "    # Likelihood (sampling distribution) of observations\n",
    "    Y_obs = pm.Normal(\"fy_obs\", mu=mu, sigma=sigma, observed=y)\n",
    "    #ν = pm.Uniform(\"ν\", 1, 10)\n",
    "    #Y_obs = pm.StudentT(\"fy_obs\", nu=ν, mu=mu, sigma=sigma, observed=y)"
   ]
  },
  {
   "cell_type": "code",
   "execution_count": null,
   "id": "110c1608-57bd-4302-acd7-3999f8d0cba2",
   "metadata": {},
   "outputs": [],
   "source": [
    "with basic_model:\n",
    "    # draw 1000 posterior samples\n",
    "    trace = pm.sample(draws=1000)"
   ]
  },
  {
   "cell_type": "code",
   "execution_count": null,
   "id": "0c98a430-5e19-4139-88cd-781300e4fa05",
   "metadata": {},
   "outputs": [],
   "source": [
    "with basic_model:\n",
    "    az.plot_posterior(trace,\n",
    "                  var_names=['parameters','sigma'],\n",
    "                  textsize=18,\n",
    "                  point_estimate='mean',\n",
    "                  rope_color='black')"
   ]
  },
  {
   "cell_type": "code",
   "execution_count": null,
   "id": "5cae0213-a80c-4e99-8e84-a621b6c8dccf",
   "metadata": {},
   "outputs": [],
   "source": [
    "az.summary(trace)"
   ]
  },
  {
   "cell_type": "code",
   "execution_count": null,
   "id": "ff3335de-c257-4764-b326-e9b4623f1742",
   "metadata": {},
   "outputs": [],
   "source": [
    "means = (trace.posterior['parameters'].data[0].mean(axis=0) + trace.posterior['parameters'].data[1].mean(axis=0))/2\n",
    "means = {key:mean for key,mean in zip(columns,means)}"
   ]
  },
  {
   "cell_type": "code",
   "execution_count": null,
   "id": "60e40837-3b73-41b2-943e-c0caf8d67404",
   "metadata": {},
   "outputs": [],
   "source": [
    "means"
   ]
  },
  {
   "cell_type": "code",
   "execution_count": null,
   "id": "e27688c6-1809-46e7-a7b7-7afda65c8ccb",
   "metadata": {},
   "outputs": [],
   "source": [
    "stds = (trace.posterior['parameters'].data[0].std(axis=0) + trace.posterior['parameters'].data[1].std(axis=0))/2\n",
    "stds = {key:std for key,std in zip(columns,stds)}"
   ]
  },
  {
   "cell_type": "code",
   "execution_count": null,
   "id": "cc8b9510-3414-49a6-a6df-3f83d5e0ce98",
   "metadata": {},
   "outputs": [],
   "source": [
    "stds"
   ]
  },
  {
   "cell_type": "code",
   "execution_count": null,
   "id": "875bc22d-aeb8-435c-b929-95cc4083302c",
   "metadata": {},
   "outputs": [],
   "source": [
    "regression.regression.bse['ytd']"
   ]
  },
  {
   "cell_type": "code",
   "execution_count": null,
   "id": "e1882770-4fcc-4530-b9d0-0b5904bbe765",
   "metadata": {},
   "outputs": [],
   "source": [
    "regression.regression.bse['yuud']"
   ]
  },
  {
   "cell_type": "code",
   "execution_count": null,
   "id": "6a99ba02-6f9c-417f-a51f-d484b2e7f07a",
   "metadata": {},
   "outputs": [],
   "source": [
    "derivatives_std['ytd']"
   ]
  },
  {
   "cell_type": "code",
   "execution_count": null,
   "id": "dde11d71-0bbb-48b6-acdf-463213f71fc3",
   "metadata": {},
   "outputs": [],
   "source": [
    "derivatives_std['yuud']"
   ]
  },
  {
   "cell_type": "code",
   "execution_count": null,
   "id": "d7bed1f9-d275-4012-b014-ceae64177949",
   "metadata": {},
   "outputs": [],
   "source": [
    "df_parameters = pd.concat([\n",
    "pd.Series(means, name='Bayesian'),\n",
    "pd.Series({key:derivatives[key] for key in means.keys()}, name='splitted OLS'),\n",
    "pd.Series({key:regression.regression.params[key] for key in means.keys()}, name='OLS'),\n",
    "    \n",
    "], axis=1).transpose()"
   ]
  },
  {
   "cell_type": "code",
   "execution_count": null,
   "id": "ec570b8e-bdbc-4eea-a9a5-200a19adc321",
   "metadata": {},
   "outputs": [],
   "source": [
    "df_parameters"
   ]
  }
 ],
 "metadata": {
  "kernelspec": {
   "display_name": "Kedro (phd)",
   "language": "python",
   "name": "kedro_phd"
  },
  "language_info": {
   "codemirror_mode": {
    "name": "ipython",
    "version": 3
   },
   "file_extension": ".py",
   "mimetype": "text/x-python",
   "name": "python",
   "nbconvert_exporter": "python",
   "pygments_lexer": "ipython3",
   "version": "3.10.6"
  }
 },
 "nbformat": 4,
 "nbformat_minor": 5
}
