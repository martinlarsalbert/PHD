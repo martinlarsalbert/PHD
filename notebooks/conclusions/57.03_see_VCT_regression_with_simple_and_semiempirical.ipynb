{
 "cells": [
  {
   "cell_type": "markdown",
   "id": "63ec2ec3-f84e-4294-9a4e-0821d9d28618",
   "metadata": {},
   "source": [
    "# VCT regression from the Kedro pipeline (simple and semiempirical rudder)"
   ]
  },
  {
   "cell_type": "code",
   "execution_count": null,
   "id": "5f92a9a8-4b59-427c-979d-b8f8730b13e8",
   "metadata": {},
   "outputs": [],
   "source": [
    "%load_ext kedro.extras.extensions.ipython\n",
    "import warnings\n",
    "warnings.filterwarnings('ignore')\n",
    "%matplotlib inline\n",
    "%load_ext autoreload\n",
    "%autoreload 2\n",
    "#%config Completer.use_jedi = False"
   ]
  },
  {
   "cell_type": "code",
   "execution_count": null,
   "id": "32a0204f-c11a-40f8-91ed-7773ccf318bf",
   "metadata": {},
   "outputs": [],
   "source": [
    "import pandas as pd\n",
    "pd.set_option('display.max_rows', 5000)\n",
    "pd.set_option('display.max_columns', 5000)\n",
    "pd.set_option('display.width', 10000)\n",
    "import numpy as np\n",
    "import yaml\n",
    "\n",
    "from vessel_manoeuvring_models.visualization.plot import track_plot, plot\n",
    "from phd.visualization.plot_ship import track_plots\n",
    "from vessel_manoeuvring_models.prime_system import PrimeSystem\n",
    "from phd.visualization.plot_prediction import plot_total_force, plot_force_components, predict, plot_compare_model_forces, plot_parameter_contributions\n",
    "from vct.bokeh_plotting import create_tab\n",
    "from vessel_manoeuvring_models.symbols import *\n",
    "import matplotlib.pyplot as plt\n",
    "from vessel_manoeuvring_models.substitute_dynamic_symbols import run, lambdify\n",
    "plt.style.use('bmh')\n",
    "plt.rcParams[\"figure.figsize\"] = (15,10)\n",
    "from vessel_manoeuvring_models.parameters import df_parameters\n",
    "p = df_parameters[\"symbol\"]\n",
    "import statsmodels.api as sm"
   ]
  },
  {
   "cell_type": "code",
   "execution_count": null,
   "id": "0b20a13f-48c7-469b-8bce-73f2655d0333",
   "metadata": {},
   "outputs": [],
   "source": [
    "#%reload_kedro\n",
    "ship='wPCC'\n",
    "ship_data = catalog.load(f\"{ship}.ship_data\")\n",
    "model_loaders = catalog.load(f\"{ship}.models_VCT\")\n",
    "models_rudder_VCT_loaders = catalog.load(f\"{ship}.models_rudder_VCT\")\n",
    "\n",
    "df_VCT = catalog.load(f\"{ship}.df_VCT\")\n",
    "resistance_MDL = catalog.load(f\"{ship}.resistance_MDL\")\n",
    "tests_ek_smooth = catalog.load(f\"{ship}.tests_ek_smooth\")\n",
    "tests_ek = catalog.load(f\"{ship}.tests_ek\")"
   ]
  },
  {
   "cell_type": "code",
   "execution_count": null,
   "id": "982824a6-5b5e-42ee-ac10-e61c635ed999",
   "metadata": {},
   "outputs": [],
   "source": [
    "model = model_loaders['semiempirical_covered']()"
   ]
  },
  {
   "cell_type": "code",
   "execution_count": null,
   "id": "8ed9b48f-946d-4229-b071-4bdddb4155e4",
   "metadata": {},
   "outputs": [],
   "source": [
    "model_rudder_VCT = models_rudder_VCT_loaders['Abkowitz']()"
   ]
  },
  {
   "cell_type": "code",
   "execution_count": null,
   "id": "4559ade6-63b4-4648-b137-ea0ad834a99f",
   "metadata": {},
   "outputs": [],
   "source": [
    "prime_system_ship = PrimeSystem(L=ship_data['L']*ship_data['scale_factor'], rho=df_VCT.iloc[0]['rho'])\n",
    "keys = ['x0',\n",
    "        'y0',\n",
    "        'psi',\n",
    "        'u',\n",
    "        'v',\n",
    "        'r',\n",
    "        'beta',\n",
    "        'V',\n",
    "        'U',\n",
    "        'delta',\n",
    "        'thrust',\n",
    "        'thrust_port',\n",
    "        'thrust_stbd',\n",
    "        'twa',\n",
    "        'tws',\n",
    "        'rev',\n",
    "        'X_D',\n",
    "        'Y_D',\n",
    "        'N_D',\n",
    "        'X_H',\n",
    "        'Y_H',\n",
    "        'N_H',\n",
    "        'X_R',\n",
    "        'Y_R',\n",
    "        'N_R',\n",
    "        'X_R_port',\n",
    "        'Y_R_port',\n",
    "        'N_R_port',\n",
    "        'X_R_stbd',\n",
    "        'Y_R_stbd',\n",
    "        'N_R_stbd',\n",
    "        'fx',\n",
    "        'fy',\n",
    "        'mz',\n",
    "        'test type',\n",
    "        'model_name',\n",
    "       ]\n",
    "\n",
    "\n",
    "\n",
    "df_VCT_prime = prime_system_ship.prime(df_VCT[keys], U=df_VCT['U'])\n",
    "df_VCT_scaled = model.prime_system.unprime(df_VCT_prime, U=df_VCT['U']/np.sqrt(ship_data['scale_factor']))"
   ]
  },
  {
   "cell_type": "code",
   "execution_count": null,
   "id": "1358a7d8-9889-4c50-85cc-e569598492d9",
   "metadata": {},
   "outputs": [],
   "source": [
    "model.parameters"
   ]
  },
  {
   "cell_type": "code",
   "execution_count": null,
   "id": "c5417d6c-1232-4ae4-bc26-ff9063840014",
   "metadata": {},
   "outputs": [],
   "source": [
    "model_rudder_VCT.parameters"
   ]
  },
  {
   "cell_type": "code",
   "execution_count": null,
   "id": "f45dd6bd-a768-4148-bcbd-a533099dbfea",
   "metadata": {},
   "outputs": [],
   "source": [
    "model_rudder_VCT.show_subsystems()"
   ]
  },
  {
   "cell_type": "code",
   "execution_count": null,
   "id": "32efa006-4c88-4b3f-abf1-59b3a5b2958a",
   "metadata": {},
   "outputs": [],
   "source": []
  },
  {
   "cell_type": "code",
   "execution_count": null,
   "id": "196f3add-f083-4490-95c2-536b519f55db",
   "metadata": {},
   "outputs": [],
   "source": [
    "rudders = model_rudder_VCT.subsystems['rudders']\n",
    "rudder_hull_interaction = model.subsystems['rudder_hull_interaction']\n",
    "rudder_hull_interaction.equations['Y_RHI'].subs(Y_R, rudders.equations['Y_R'].rhs).subs([\n",
    "    (v,0),\n",
    "    (r,0),\n",
    "])"
   ]
  },
  {
   "cell_type": "code",
   "execution_count": null,
   "id": "5fd1cb58-b24d-4429-a006-12a2ace0069a",
   "metadata": {},
   "outputs": [],
   "source": [
    "rudder_hull_interaction.equations['Y_RHI'].subs(Y_RHI,Y_D_)"
   ]
  },
  {
   "cell_type": "code",
   "execution_count": null,
   "id": "48f66642-07d2-4944-af4e-f12545029189",
   "metadata": {},
   "outputs": [],
   "source": [
    "rudders = model_rudder_VCT.subsystems['rudders']\n",
    "rudder_hull_interaction = model.subsystems['rudder_hull_interaction']\n",
    "rudder_hull_interaction.equations['N_RHI'].subs(Y_R, rudders.equations['Y_R'].rhs).subs([\n",
    "    (v,0),\n",
    "    (r,0),\n",
    "])"
   ]
  },
  {
   "cell_type": "code",
   "execution_count": null,
   "id": "0eec7a8e-1779-4b33-8f09-ad6b6eb4bfa7",
   "metadata": {},
   "outputs": [],
   "source": [
    "#model_ = model.copy()\n",
    "#model_rudder_VCT_ = model_rudder_VCT.copy()"
   ]
  },
  {
   "cell_type": "code",
   "execution_count": null,
   "id": "09b03ea5-37b4-406b-bdb4-3820c9aa21b5",
   "metadata": {},
   "outputs": [],
   "source": []
  },
  {
   "cell_type": "code",
   "execution_count": null,
   "id": "1b9b0909-4ba6-40da-8e28-294d4491f13f",
   "metadata": {},
   "outputs": [],
   "source": [
    "#model.parameters['C_D_tune']=1.25\n",
    "#model.parameters['C_D0_tune']=4.8\n",
    "\n",
    "#a_H_ = 0.13\n",
    "#model_.parameters['a_H'] = a_H_\n",
    "#model_rudder_VCT_.parameters['a_H'] = a_H_\n",
    "\n",
    "df_VCT_predict = predict(model, data=df_VCT_scaled)\n",
    "df_VCT_predict['model_name'] = 'VCT regression semiempirical rudder'\n",
    "\n",
    "df_VCT_predict_rudder_VCT = predict(model_rudder_VCT, data=df_VCT_scaled)\n",
    "df_VCT_predict_rudder_VCT['model_name'] = 'VCT regression simple rudder'\n",
    "\n",
    "\n",
    "df_result = pd.concat((df_VCT_scaled, df_VCT_predict,df_VCT_predict_rudder_VCT), axis=0)"
   ]
  },
  {
   "cell_type": "code",
   "execution_count": null,
   "id": "da962dc6-9967-4d3d-bd3e-55993e1309b1",
   "metadata": {},
   "outputs": [],
   "source": [
    "create_tab(df_result, ys=['X_D','Y_D','N_D','Y_H','N_H','X_R','Y_R','N_R'], plot_width=1200)"
   ]
  },
  {
   "cell_type": "markdown",
   "id": "c30cf7ea-693b-4e32-976d-4ef0717fcc38",
   "metadata": {},
   "source": [
    "## Compare with MDL inverse dynamics"
   ]
  },
  {
   "cell_type": "code",
   "execution_count": null,
   "id": "d5242013-5fec-4510-99c3-86576b366374",
   "metadata": {},
   "outputs": [],
   "source": [
    "#id = 22773\n",
    "id = 22772\n",
    "#id = 22770\n",
    "#id = 22764\n",
    "#id = 22774\n",
    "#id = 22616  # Spiral\n",
    "\n",
    "\n",
    "data_MDL = tests_ek_smooth[f'{id}']()\n",
    "data_MDL_ek = tests_ek[f'{id}']()\n",
    "\n",
    "\n",
    "data_MDL['V'] = data_MDL['U'] = np.sqrt(data_MDL['u']**2 + data_MDL['v']**2)\n",
    "data_MDL['beta'] = -np.arctan2(data_MDL['v'],data_MDL['u'])\n",
    "data_MDL['rev'] = data_MDL[['Prop/PS/Rpm','Prop/SB/Rpm']].mean(axis=1)\n",
    "data_MDL['twa']=0\n",
    "data_MDL['tws']=0\n",
    "data_MDL['theta']=0\n",
    "data_MDL['q']=0\n",
    "data_MDL['phi'] = data_MDL['roll']\n",
    "data_MDL['p'] = 0\n",
    "data_MDL['q1d'] = 0\n",
    "data_MDL['thrust_port'] = data_MDL['Prop/PS/Thrust']\n",
    "data_MDL['thrust_stbd'] = data_MDL['Prop/SB/Thrust']\n",
    "\n",
    "data_MDL_ek['V'] = data_MDL_ek['U'] = np.sqrt(data_MDL_ek['u']**2 + data_MDL_ek['v']**2)\n",
    "data_MDL_ek['beta'] = -np.arctan2(data_MDL_ek['v'],data_MDL_ek['u'])\n",
    "data_MDL_ek['rev'] = data_MDL_ek[['Prop/PS/Rpm','Prop/SB/Rpm']].mean(axis=1)\n",
    "data_MDL_ek['twa']=0\n",
    "data_MDL_ek['tws']=0\n",
    "data_MDL_ek['theta']=0\n",
    "data_MDL_ek['q']=0\n",
    "data_MDL_ek['phi'] = data_MDL_ek['roll']\n",
    "data_MDL_ek['p'] = 0\n",
    "data_MDL_ek['q1d'] = 0\n",
    "data_MDL_ek['thrust_port'] = data_MDL_ek['Prop/PS/Thrust']\n",
    "data_MDL_ek['thrust_stbd'] = data_MDL_ek['Prop/SB/Thrust']\n",
    "\n",
    "#start = (data_MDL['delta'].abs() > np.deg2rad(0.1)).idxmax()\n",
    "#data_MDL = data_MDL.loc[start:].copy()\n",
    "#data_MDL.index-=data_MDL.index[0]\n"
   ]
  },
  {
   "cell_type": "code",
   "execution_count": null,
   "id": "0737ebf7-fa68-4586-bdf4-541637175b69",
   "metadata": {},
   "outputs": [],
   "source": [
    "fig,axes=plt.subplots(nrows=2)\n",
    "ax=axes[0]\n",
    "data_MDL.plot(y='r1d',ax=ax,lw=0.5)\n",
    "data_MDL_ek.plot(y='r1d',ax=ax,lw=0.5)\n",
    "\n",
    "ax=axes[1]\n",
    "data_MDL.plot(y='v1d',ax=ax,lw=0.5)\n",
    "data_MDL_ek.plot(y='v1d',ax=ax,lw=0.5)"
   ]
  },
  {
   "cell_type": "code",
   "execution_count": null,
   "id": "af174279-1be1-40c3-9148-0c0a47cdc8d3",
   "metadata": {},
   "outputs": [],
   "source": [
    "model_MDL_loaders = catalog.load(f\"{ship}.models_VCT_MDL\")"
   ]
  },
  {
   "cell_type": "code",
   "execution_count": null,
   "id": "b4bf7723-ecc0-4045-99ea-af7dc1fab839",
   "metadata": {},
   "outputs": [],
   "source": [
    "model = model_MDL_loaders['semiempirical_covered']()"
   ]
  },
  {
   "cell_type": "code",
   "execution_count": null,
   "id": "ae4d7eb7-cefe-4a9d-a1b1-8e0740ba6169",
   "metadata": {},
   "outputs": [],
   "source": [
    "df_forces = predict(model=model, data=data_MDL)\n",
    "df_forces_rudder_VCT = predict(model=model_rudder_VCT, data=data_MDL)\n",
    "\n",
    "forces_from_motions = model.forces_from_motions(data=data_MDL)"
   ]
  },
  {
   "cell_type": "code",
   "execution_count": null,
   "id": "ee8d864f-c0c5-4721-9bbd-7fb5825aa343",
   "metadata": {},
   "outputs": [],
   "source": [
    "styles = {\n",
    "    'Experiment':{'style':'-', 'color':'green', 'zorder':-10, 'lw':1.0,'label':'Experiment'},\n",
    "    'Semi-empirical rudder':{'style':'b-','lw':0.5,'label':'Semi-empirical rudder'},\n",
    "    'Simple rudder':{'style':'r-','lw':0.5,'label':'Simple rudder'},\n",
    "    }"
   ]
  },
  {
   "cell_type": "code",
   "execution_count": null,
   "id": "a7b35cd0-7354-4afb-9be7-91dd4a9b7113",
   "metadata": {},
   "outputs": [],
   "source": [
    "#model.parameters['Nr'] = -0.0007225879175745149*1.7\n",
    "#model.parameters['l_R'] = -3.1115000000000004*1.2\n",
    "#model_rudder_VCT.parameters['Nr'] = -0.0019861528594665493*1.2"
   ]
  },
  {
   "cell_type": "code",
   "execution_count": null,
   "id": "10c5fe37-2da6-4a0d-9b43-ba1a5792798d",
   "metadata": {},
   "outputs": [],
   "source": [
    "model_rudder_VCT.parameters"
   ]
  },
  {
   "cell_type": "code",
   "execution_count": null,
   "id": "2f8fd31f-453b-4205-8811-5f89eebef1dd",
   "metadata": {},
   "outputs": [],
   "source": [
    "models = {\n",
    "    'Semi-empirical rudder': model,\n",
    "    'Simple rudder': model_rudder_VCT,\n",
    "    \n",
    "}"
   ]
  },
  {
   "cell_type": "code",
   "execution_count": null,
   "id": "9c4165c1-62ea-4a44-be2f-edebbdf6b1c3",
   "metadata": {},
   "outputs": [],
   "source": [
    "plot_compare_model_forces(model=models, data=data_MDL_ek, keys=['N_D','N_H','N_R'], styles=styles)"
   ]
  },
  {
   "cell_type": "code",
   "execution_count": null,
   "id": "02b3849d-fe6f-4dc9-87bb-3714a72002a5",
   "metadata": {},
   "outputs": [],
   "source": [
    "plot_parameter_contributions(model=model, data=data_MDL, prefix='N', unit='moment')"
   ]
  },
  {
   "cell_type": "code",
   "execution_count": null,
   "id": "cdf8b1ff-9210-49b8-a2fb-a75fafcd43a8",
   "metadata": {},
   "outputs": [],
   "source": [
    "plot_parameter_contributions(model=model_rudder_VCT, data=data_MDL, prefix='N', unit='moment')"
   ]
  },
  {
   "cell_type": "code",
   "execution_count": null,
   "id": "1442e7bf-3e33-40d3-bdc3-46f52b26cbdc",
   "metadata": {},
   "outputs": [],
   "source": [
    "plot_compare_model_forces(model=models, data=data_MDL_ek, keys=['Y_D','Y_H','Y_R'], styles=styles)"
   ]
  },
  {
   "cell_type": "code",
   "execution_count": null,
   "id": "b44c2501-aeb2-4f77-9bc8-9f0d76f8676b",
   "metadata": {},
   "outputs": [],
   "source": [
    "plot_parameter_contributions(model=model, data=data_MDL, prefix='Y', unit='force')"
   ]
  },
  {
   "cell_type": "code",
   "execution_count": null,
   "id": "3ce6b2e4-ffaf-445c-a505-1af8ef65a198",
   "metadata": {},
   "outputs": [],
   "source": [
    "plot_compare_model_forces(model=models, data=data_MDL, keys=['X_D','X_H','X_R'], styles=styles)"
   ]
  },
  {
   "cell_type": "markdown",
   "id": "1ba4b00e-d200-44bf-80d9-fe3cfdf689e1",
   "metadata": {},
   "source": [
    "## Simulation"
   ]
  },
  {
   "cell_type": "code",
   "execution_count": null,
   "id": "d4492959-fddd-4d5f-bfa2-b742a69c4133",
   "metadata": {},
   "outputs": [],
   "source": [
    "result_MDL = model.simulate(data_MDL)\n",
    "result_MDL_rudder_VCT = model_rudder_VCT.simulate(data_MDL)"
   ]
  },
  {
   "cell_type": "code",
   "execution_count": null,
   "id": "875752e0-56d3-4548-83d9-517bfea6245c",
   "metadata": {},
   "outputs": [],
   "source": [
    "dataframes = {'Experiment':data_MDL,\n",
    "              'Semiempirical rudder':result_MDL,\n",
    "              'Simple rudder':result_MDL_rudder_VCT,\n",
    "              \n",
    "             }\n",
    "\n",
    "\n",
    "ax = track_plots(dataframes=dataframes, lpp=ship_data['L'], beam=ship_data['B'], N=2, styles=styles);\n",
    "plot(dataframes=dataframes, keys=['u','thrust','r','beta','delta','psi'], styles=styles);"
   ]
  },
  {
   "cell_type": "markdown",
   "id": "03b51000-e043-4db0-9e3e-3cd5c6f68adb",
   "metadata": {},
   "source": [
    "## Investigating the added masses $N_{\\dot{r}}$ and $Y_{\\dot{r}}$"
   ]
  },
  {
   "cell_type": "code",
   "execution_count": null,
   "id": "14efd596-e832-41da-8d99-1017a3de4309",
   "metadata": {},
   "outputs": [],
   "source": [
    "eq = model.N_eq\n",
    "eq"
   ]
  },
  {
   "cell_type": "code",
   "execution_count": null,
   "id": "3a9546fe-3649-4d0e-871d-874e1ca7cdc3",
   "metadata": {},
   "outputs": [],
   "source": [
    "eq_Nrdot_inverse = sp.Eq(p.Nrdot, sp.solve(eq,p.Nrdot)[0])\n",
    "eq_Nrdot_inverse"
   ]
  },
  {
   "cell_type": "code",
   "execution_count": null,
   "id": "e62e6bf1-9819-47bf-a17f-a68b55052dd0",
   "metadata": {},
   "outputs": [],
   "source": [
    "eq_ = eq_Nrdot_inverse.subs([\n",
    "    (v1d,'v1d'),\n",
    "    (r1d,'r1d'),\n",
    "    (p.Nvdot,'Nvdot'),\n",
    "])\n",
    "lambda_Nrdot_inverse = lambdify(eq_.rhs, substitute_functions=True)"
   ]
  },
  {
   "cell_type": "code",
   "execution_count": null,
   "id": "b99e50d4-aef0-4eea-82d3-9b41e3389568",
   "metadata": {},
   "outputs": [],
   "source": [
    "prediction = predict(model=model, data=data_MDL)"
   ]
  },
  {
   "cell_type": "code",
   "execution_count": null,
   "id": "e8efe421-abbe-4385-a4d9-b9666de3814c",
   "metadata": {},
   "outputs": [],
   "source": [
    "prediction['Nrdot'] = run(lambda_Nrdot_inverse, inputs=prediction, **model.ship_parameters, **model.parameters)"
   ]
  },
  {
   "cell_type": "code",
   "execution_count": null,
   "id": "a308296d-2609-4eab-adf5-3b1161cec376",
   "metadata": {},
   "outputs": [],
   "source": [
    "mask = prediction['r1d'].abs() > prediction['r1d'].abs().quantile(0.4)\n",
    "prediction_ = prediction.loc[mask]\n",
    "prediction_['Nrdot'].loc[mask].hist(bins=100)"
   ]
  },
  {
   "cell_type": "markdown",
   "id": "f9624286-df3f-413c-a840-140dcd633f10",
   "metadata": {},
   "source": [
    "## Many"
   ]
  },
  {
   "cell_type": "code",
   "execution_count": null,
   "id": "e6c83ea2-1a08-4ec0-a2e0-2b26944d852e",
   "metadata": {},
   "outputs": [],
   "source": [
    "ids = [\n",
    "    22773,\n",
    "    22772,\n",
    "    22770,\n",
    "    22764,\n",
    "]\n",
    "\n",
    "data_MDL_many = []\n",
    "for id in ids:\n",
    "    data_MDL = tests_ek[f'{id}']()\n",
    "    data_MDL['V'] = data_MDL['U'] = np.sqrt(data_MDL['u']**2 + data_MDL['v']**2)\n",
    "    data_MDL['beta'] = -np.arctan2(data_MDL['v'],data_MDL['u'])\n",
    "    data_MDL['rev'] = data_MDL[['Prop/PS/Rpm','Prop/SB/Rpm']].mean(axis=1)\n",
    "    data_MDL['twa']=0\n",
    "    data_MDL['tws']=0\n",
    "    data_MDL['theta']=0\n",
    "    data_MDL['q']=0\n",
    "    data_MDL['phi'] = data_MDL['roll']\n",
    "    data_MDL['p'] = 0\n",
    "    data_MDL['q1d'] = 0\n",
    "    data_MDL['thrust_port'] = data_MDL['Prop/PS/Thrust']\n",
    "    data_MDL['thrust_stbd'] = data_MDL['Prop/SB/Thrust']\n",
    "    data_MDL_many.append(data_MDL)\n",
    "    \n",
    "data_MDL_many = pd.concat(data_MDL_many, axis=0)"
   ]
  },
  {
   "cell_type": "code",
   "execution_count": null,
   "id": "01ef44cf-08c3-4070-9d04-4cd0ed9b1e17",
   "metadata": {},
   "outputs": [],
   "source": [
    "prediction = predict(model=model, data=data_MDL_many)\n",
    "\n",
    "mask = prediction['r1d'].abs() > prediction['r1d'].abs().quantile(0.4)\n",
    "prediction_ = prediction.loc[mask]"
   ]
  },
  {
   "cell_type": "code",
   "execution_count": null,
   "id": "fdd9a631-98c6-4360-b501-9fcbcc6f7449",
   "metadata": {},
   "outputs": [],
   "source": [
    "eq = model.N_eq\n",
    "move=p.Nrdot*r1d\n",
    "eq_added_masses = sp.Eq(sp.solve(eq,move)[0],move)\n",
    "eq_added_masses\n",
    "\n",
    "eq_ = eq_added_masses.subs([\n",
    "    (v1d,'v1d'),\n",
    "    (r1d,'r1d'),\n",
    "    (p.Nvdot,'Nvdot'),\n",
    "])\n",
    "lambda_y = lambdify(eq_.lhs, substitute_functions=True)\n",
    "\n",
    "y = run(lambda_y, inputs=prediction_, Nvdot=0, **model.ship_parameters)\n",
    "X = prediction_[['r1d']]\n",
    "\n",
    "ols_model = sm.OLS(y,X)\n",
    "fit3 = ols_model.fit()\n",
    "fit3.summary2()"
   ]
  },
  {
   "cell_type": "code",
   "execution_count": null,
   "id": "25520690-f018-4a37-b61e-1946332b135e",
   "metadata": {},
   "outputs": [],
   "source": [
    "Nrdot_denominator = run(lambdify(df_parameters.loc['Nrdot','denominator']),inputs=model.ship_parameters)\n",
    "Nvdot_denominator = run(lambdify(df_parameters.loc['Nvdot','denominator']),inputs=model.ship_parameters)\n",
    "Yrdot_denominator = run(lambdify(df_parameters.loc['Yrdot','denominator']),inputs=model.ship_parameters)\n",
    "Yvdot_denominator = run(lambdify(df_parameters.loc['Yvdot','denominator']),inputs=model.ship_parameters)\n"
   ]
  },
  {
   "cell_type": "code",
   "execution_count": null,
   "id": "fb45b694-59ba-4c33-9a95-21efe78b1897",
   "metadata": {},
   "outputs": [],
   "source": [
    "fit3.params['r1d']/Nrdot_denominator"
   ]
  },
  {
   "cell_type": "code",
   "execution_count": null,
   "id": "47f2cd81-7b25-4fba-9757-df672a35e62b",
   "metadata": {},
   "outputs": [],
   "source": [
    "model.parameters['Nrdot']"
   ]
  },
  {
   "cell_type": "code",
   "execution_count": null,
   "id": "beeacae5-18d8-4af1-8b57-a211c75cfaab",
   "metadata": {},
   "outputs": [],
   "source": [
    "eq = model.Y_eq\n",
    "move=p.Yvdot*v1d\n",
    "eq_added_masses = sp.Eq(sp.solve(eq,move)[0],move)\n",
    "eq_added_masses\n",
    "\n",
    "eq_ = eq_added_masses.subs([\n",
    "    (v1d,'v1d'),\n",
    "    (r1d,'r1d'),\n",
    "    (p.Yrdot,'Yrdot'),\n",
    "])\n",
    "lambda_y = lambdify(eq_.lhs, substitute_functions=True)\n",
    "\n",
    "y = run(lambda_y, inputs=prediction_, Yrdot=0, **model.ship_parameters)\n",
    "X = prediction_[['v1d']]\n",
    "\n",
    "ols_model = sm.OLS(y,X)\n",
    "fit_yvdot = ols_model.fit()\n",
    "fit_yvdot.summary2()"
   ]
  },
  {
   "cell_type": "code",
   "execution_count": null,
   "id": "dd4c72a1-c855-4eae-ad69-079ad0b8b8fd",
   "metadata": {},
   "outputs": [],
   "source": [
    "fit_yvdot.params['v1d']/Yvdot_denominator"
   ]
  },
  {
   "cell_type": "code",
   "execution_count": null,
   "id": "066e837b-bfea-4519-8193-af07ee00b989",
   "metadata": {},
   "outputs": [],
   "source": [
    "model.parameters['Yvdot']"
   ]
  },
  {
   "cell_type": "code",
   "execution_count": null,
   "id": "04fa8deb-cb8a-4630-af64-dfd3e9bd9682",
   "metadata": {},
   "outputs": [],
   "source": []
  }
 ],
 "metadata": {
  "kernelspec": {
   "display_name": "Kedro (phd)",
   "language": "python",
   "name": "kedro_phd"
  },
  "language_info": {
   "codemirror_mode": {
    "name": "ipython",
    "version": 3
   },
   "file_extension": ".py",
   "mimetype": "text/x-python",
   "name": "python",
   "nbconvert_exporter": "python",
   "pygments_lexer": "ipython3",
   "version": "3.10.10"
  }
 },
 "nbformat": 4,
 "nbformat_minor": 5
}
