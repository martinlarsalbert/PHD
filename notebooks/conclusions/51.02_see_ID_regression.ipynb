{
 "cells": [
  {
   "cell_type": "markdown",
   "id": "9e709f10-7376-4e1b-970e-eeb419ce62a1",
   "metadata": {},
   "source": [
    "# See Inverse dynamics regression"
   ]
  },
  {
   "cell_type": "code",
   "execution_count": null,
   "id": "572c39a6-d687-4b94-8783-8947db0a08b3",
   "metadata": {},
   "outputs": [],
   "source": [
    "import warnings\n",
    "warnings.filterwarnings('ignore')\n",
    "%matplotlib inline\n",
    "%load_ext autoreload\n",
    "%autoreload 2\n",
    "#%config Completer.use_jedi = False"
   ]
  },
  {
   "cell_type": "code",
   "execution_count": null,
   "id": "e62bdd14-a61a-4fb2-b4e8-59089dce37f5",
   "metadata": {},
   "outputs": [],
   "source": [
    "import pandas as pd\n",
    "pd.set_option('display.max_rows', 5000)\n",
    "pd.set_option('display.max_columns', 5000)\n",
    "pd.set_option('display.width', 10000)\n",
    "import numpy as np\n",
    "import yaml\n",
    "\n",
    "from vessel_manoeuvring_models.visualization.plot import track_plot, plot\n",
    "from phd.visualization.plot_ship import track_plots\n",
    "from vessel_manoeuvring_models.prime_system import PrimeSystem\n",
    "from phd.visualization.plot_prediction import (plot_total_force, plot_force_components, predict, plot_compare_model_forces, plot_parameter_contributions)\n",
    "from vct.bokeh_plotting import create_tab\n",
    "from vessel_manoeuvring_models.symbols import *\n",
    "import matplotlib.pyplot as plt\n",
    "from vessel_manoeuvring_models.substitute_dynamic_symbols import run, lambdify\n",
    "plt.style.use('bmh')\n",
    "plt.rcParams[\"figure.figsize\"] = (15,10)\n",
    "from vessel_manoeuvring_models.parameters import df_parameters\n",
    "p = df_parameters[\"symbol\"]\n",
    "import statsmodels.api as sm"
   ]
  },
  {
   "cell_type": "code",
   "execution_count": null,
   "id": "c29f9aff-0770-49ee-be66-3132d757b51b",
   "metadata": {},
   "outputs": [],
   "source": [
    "#%reload_kedro\n",
    "ship='wPCC'\n",
    "ship_data = catalog.load(f\"{ship}.ship_data\")\n",
    "\n",
    "models_ID_hull = catalog.load(f\"{ship}.models_ID_hull\")\n",
    "models_ID_hull_rudder = catalog.load(f\"{ship}.models_ID_hull_rudder\")\n",
    "models_VCT_MDL_optimize = catalog.load(f\"{ship}.models_VCT_MDL_optimize\")\n",
    "models_VCT_MDL = catalog.load(f\"{ship}.models_VCT_MDL\")\n",
    "\n",
    "\n",
    "df_VCT = catalog.load(f\"{ship}.df_VCT\")\n",
    "resistance_MDL = catalog.load(f\"{ship}.resistance_MDL\")\n",
    "#tests_ek_smooth = catalog.load(f\"{ship}.tests_ek_smooth\")\n",
    "tests_ek = catalog.load(f\"{ship}.tests_ek\")\n",
    "\n",
    "mask = ((df_VCT['Y_R_port'] > 0) & (df_VCT['test type'] == 'self propulsion'))\n",
    "df_VCT = df_VCT.loc[~mask].copy()  ## remove duplicate self propulsion\n",
    "\n",
    "time_series_meta_data = catalog.load(f\"{ship}.time_series_meta_data\")\n",
    "#tests_ek_smooth_joined = catalog.load(f\"{ship}.tests_ek_smooth_joined\")\n",
    "tests_ek_joined = catalog.load(f\"{ship}.tests_ek_joined\")\n",
    "\n",
    "df_VCT = catalog.load(f\"{ship}.df_VCT\")\n",
    "mask = ((df_VCT['Y_R_port'] > 0) & (df_VCT['test type'] == 'self propulsion'))\n",
    "df_VCT = df_VCT.loc[~mask].copy()  ## remove duplicate self propulsion\n"
   ]
  },
  {
   "cell_type": "code",
   "execution_count": null,
   "id": "44f86fa6-d69e-4ff7-866f-483c7b0e8004",
   "metadata": {},
   "outputs": [],
   "source": [
    "fig,ax=plt.subplots()\n",
    "\n",
    "mask = tests_ek_joined['id'].isin([\n",
    "    #22774,  # Circle\n",
    "    #22611,\n",
    "    #22635,\n",
    "    #22639,\n",
    "    22769,\n",
    "    22771,\n",
    "])\n",
    "\n",
    "tests_ek_smooth_joined = tests_ek_joined.loc[~mask].copy()\n",
    "\n",
    "for id, group in tests_ek_smooth_joined.groupby(by='id'):\n",
    "    group[['x0','y0']].rolling(window=100).mean().plot(x='y0',y='x0', label=id, ax=ax)\n",
    "ax.axis('equal')"
   ]
  },
  {
   "cell_type": "code",
   "execution_count": null,
   "id": "217c7d05-e95b-493c-8fb3-3ef626aafef2",
   "metadata": {},
   "outputs": [],
   "source": [
    "model_ID_hull = models_ID_hull['semiempirical_covered']()"
   ]
  },
  {
   "cell_type": "code",
   "execution_count": null,
   "id": "345450a8-3e5c-4b9b-a93b-a8d223a07767",
   "metadata": {},
   "outputs": [],
   "source": [
    "model_ID_hull_rudder = models_ID_hull_rudder['Abkowitz']()"
   ]
  },
  {
   "cell_type": "code",
   "execution_count": null,
   "id": "cb81c727-d063-4fd7-b06d-8c33267ca23d",
   "metadata": {},
   "outputs": [],
   "source": [
    "model_VCT_MDL_optimize = models_VCT_MDL_optimize['semiempirical_covered']()"
   ]
  },
  {
   "cell_type": "code",
   "execution_count": null,
   "id": "35a0fadf-df68-4823-a043-a8f104eec0b2",
   "metadata": {},
   "outputs": [],
   "source": [
    "model_VCT_MDL = models_VCT_MDL['semiempirical_covered']()"
   ]
  },
  {
   "cell_type": "code",
   "execution_count": null,
   "id": "c3285481-4bdb-42d8-b520-22f1c49296e8",
   "metadata": {},
   "outputs": [],
   "source": [
    "#id = 22773\n",
    "#id = 22772\n",
    "id = 22770\n",
    "#id = 22764\n",
    "#id = 22774\n",
    "#id = 22616  # Spiral\n",
    "\n",
    "\n",
    "data_MDL = tests_ek[f'{id}']()\n",
    "data_MDL['V'] = data_MDL['U'] = np.sqrt(data_MDL['u']**2 + data_MDL['v']**2)\n",
    "data_MDL['beta'] = -np.arctan2(data_MDL['v'],data_MDL['u'])\n",
    "data_MDL['rev'] = data_MDL[['Prop/PS/Rpm','Prop/SB/Rpm']].mean(axis=1)\n",
    "data_MDL['twa']=0\n",
    "data_MDL['tws']=0\n",
    "data_MDL['theta']=0\n",
    "data_MDL['q']=0\n",
    "data_MDL['phi'] = data_MDL['roll']\n",
    "data_MDL['p'] = 0\n",
    "data_MDL['q1d'] = 0\n",
    "data_MDL['thrust_port'] = data_MDL['Prop/PS/Thrust']\n",
    "data_MDL['thrust_stbd'] = data_MDL['Prop/SB/Thrust']\n",
    "data_MDL['beta_deg'] =  np.rad2deg(data_MDL['beta'])"
   ]
  },
  {
   "cell_type": "code",
   "execution_count": null,
   "id": "9650dd1e-e5a2-4356-922d-6afd704fdcf7",
   "metadata": {},
   "outputs": [],
   "source": [
    "styles = {\n",
    "    \"Experiment\": {\n",
    "        \"style\": \"-\",\n",
    "        \"color\": \"black\",\n",
    "        \"zorder\": -10,\n",
    "        \"lw\": 1.0,\n",
    "        \"label\": \"Experiment\",\n",
    "    },\n",
    "    \"VCT\": {\n",
    "        \"style\": \"-\",\n",
    "        \"color\": \"green\",\n",
    "        \"zorder\": -10,\n",
    "        \"lw\": 1.0,\n",
    "        \"label\": \"VCT\",\n",
    "    },\n",
    "    \"VCT optimized\": {\n",
    "        \"style\": \"-\",\n",
    "        \"color\": \"red\",\n",
    "        \"zorder\": -10,\n",
    "        \"lw\": 1.0,\n",
    "        \"label\": \"VCT optimized\",\n",
    "    },\n",
    "    \"ID hull\": {\n",
    "        \"style\": \"-\",\n",
    "        \"color\": \"blue\",\n",
    "        \"zorder\": -10,\n",
    "        \"lw\": 1.0,\n",
    "        \"label\": \"ID hull\",\n",
    "    },\n",
    "    \"ID hull rudder\": {\n",
    "        \"style\": \"-\",\n",
    "        \"color\": \"magenta\",\n",
    "        \"zorder\": -10,\n",
    "        \"lw\": 1.0,\n",
    "        \"label\": \"ID hull rudder\",\n",
    "    },\n",
    "}\n",
    "\n",
    "\n",
    "models = {\n",
    "    'VCT' : model_VCT_MDL,\n",
    "    'VCT optimized' : model_VCT_MDL_optimize,\n",
    "    'ID hull' : model_ID_hull,\n",
    "    'ID hull rudder' : model_ID_hull_rudder,\n",
    "}"
   ]
  },
  {
   "cell_type": "code",
   "execution_count": null,
   "id": "9f040e4c-8bdd-4f91-99af-012daf77b1ab",
   "metadata": {},
   "outputs": [],
   "source": [
    "plot_compare_model_forces(model=models, data=data_MDL, styles=styles, keys=['Y_D','Y_H','Y_R'])"
   ]
  },
  {
   "cell_type": "code",
   "execution_count": null,
   "id": "678a85b5-e965-4906-b1a6-fdda181ae931",
   "metadata": {},
   "outputs": [],
   "source": [
    "plot_compare_model_forces(model=models, data=data_MDL, styles=styles, keys=['N_D','N_H','N_R'])"
   ]
  },
  {
   "cell_type": "code",
   "execution_count": null,
   "id": "589f5e3d-bc16-44cb-a13b-091cc97273cf",
   "metadata": {},
   "outputs": [],
   "source": [
    "plot_compare_model_forces(model=models, data=data_MDL, styles=styles, keys=['X_D','X_H','X_R'])"
   ]
  },
  {
   "cell_type": "code",
   "execution_count": null,
   "id": "1741400d-9749-466d-a29e-9ea8b36b7313",
   "metadata": {},
   "outputs": [],
   "source": [
    "dataframes = {\n",
    "    'Experiment':data_MDL,\n",
    "}\n",
    "for name, model in models.items():\n",
    "    dataframes[name] = model.simulate(data_MDL)"
   ]
  },
  {
   "cell_type": "code",
   "execution_count": null,
   "id": "2c8d9c54-c3e8-40b4-b0e6-56f68fe6ed55",
   "metadata": {},
   "outputs": [],
   "source": [
    "ax = track_plots(dataframes=dataframes, lpp=ship_data['L'], beam=ship_data['B'], styles=dict(styles), N=2);\n",
    "plot(dataframes=dataframes, keys=['u','thrust','r','beta','delta','psi','N_R'], styles=dict(styles));"
   ]
  },
  {
   "cell_type": "code",
   "execution_count": null,
   "id": "d6fbc163-e330-4cd6-bee3-1acb1f5c65a2",
   "metadata": {},
   "outputs": [],
   "source": [
    "#def plot_parameter_contributions(model, ax=None, prefix='N', unit='moment'):\n",
    "#\n",
    "#    if ax is None:\n",
    "#        fig,ax=plt.subplots()\n",
    "#    \n",
    "#    hull = model.subsystems['hull']\n",
    "#    df_parameters_contributions = hull.calculate_parameter_contributions(eq=hull.equations[f'{prefix}_H'], data=data_MDL, unit=unit)\n",
    "#    \n",
    "#    required = [f'{prefix}vv',f'{prefix}vvv',f'{prefix}rr',f'{prefix}rrr']\n",
    "#    for item in required:\n",
    "#        if not item in df_parameters_contributions:\n",
    "#            df_parameters_contributions[item]=0\n",
    "#    \n",
    "#    df_parameters_contributions_clean = df_parameters_contributions.copy()\n",
    "#    df_parameters_contributions_clean[f'{prefix}v+{prefix}vv+{prefix}vvv'] = df_parameters_contributions_clean[f'{prefix}v'] +  df_parameters_contributions_clean[f'{prefix}vv'] +  df_parameters_contributions_clean[f'{prefix}vvv']\n",
    "#    df_parameters_contributions_clean[f'{prefix}r+{prefix}rr+{prefix}rrr'] = df_parameters_contributions_clean[f'{prefix}r'] +  df_parameters_contributions_clean[f'{prefix}rr'] +  df_parameters_contributions_clean[f'{prefix}rrr']\n",
    "#    df_parameters_contributions_clean[f'{prefix}vvr+{prefix}vrr'] = df_parameters_contributions_clean[f'{prefix}vvr'] +  df_parameters_contributions_clean[f'{prefix}vrr']\n",
    "#    df_parameters_contributions_clean.drop(columns=[f'{prefix}v',f'{prefix}vv',f'{prefix}r',f'{prefix}rr',f'{prefix}vvr',f'{prefix}vrr',f'{prefix}vvv',f'{prefix}rrr',f'{prefix}0'],inplace=True)\n",
    "#    return df_parameters_contributions_clean.plot(ax=ax)"
   ]
  },
  {
   "cell_type": "code",
   "execution_count": null,
   "id": "769bfe54-0871-4b3b-805d-b3b96fef5e8f",
   "metadata": {},
   "outputs": [],
   "source": [
    "fig,axes=plt.subplots(nrows=len(models))\n",
    "\n",
    "for ax, (name, model) in zip(axes,models.items()):\n",
    "                      \n",
    "    ax.set_title(name)\n",
    "    plot_parameter_contributions(model=model, data=data_MDL, ax=ax, prefix='N', unit='moment')\n",
    "\n",
    "ylims = []\n",
    "for ax in axes:\n",
    "    ylims.append(ax.get_ylim())\n",
    "    \n",
    "ylims = [np.min(ylims, axis=0)[0],np.max(ylims, axis=0)[1]]\n",
    "for ax in axes:\n",
    "    ax.set_ylim(ylims) "
   ]
  },
  {
   "cell_type": "code",
   "execution_count": null,
   "id": "f7fbed2d-378b-4b60-9871-dc97ca1fe182",
   "metadata": {},
   "outputs": [],
   "source": [
    "fig,axes=plt.subplots(nrows=len(models))\n",
    "\n",
    "for ax, (name, model) in zip(axes,models.items()):\n",
    "                      \n",
    "    ax.set_title(name)\n",
    "    plot_parameter_contributions(model=model, data=data_MDL, ax=ax, prefix='Y', unit='force')\n",
    "\n",
    "ylims = []\n",
    "for ax in axes:\n",
    "    ylims.append(ax.get_ylim())\n",
    "    \n",
    "ylims = [np.min(ylims, axis=0)[0],np.max(ylims, axis=0)[1]]\n",
    "for ax in axes:\n",
    "    ax.set_ylim(ylims) "
   ]
  },
  {
   "cell_type": "code",
   "execution_count": null,
   "id": "17ba3925-6197-4f05-a35a-43a12ed173b9",
   "metadata": {},
   "outputs": [],
   "source": [
    "_ = []\n",
    "for name, model in models.items():\n",
    "    _.append(pd.Series({key:value for key,value in model.parameters.items() if ((key[0]=='N') & ~('dot' in key) & ~('delta' in key))},name=name))\n",
    "    \n",
    "df_parameters_N = pd.concat(_,axis=1).transpose()"
   ]
  },
  {
   "cell_type": "code",
   "execution_count": null,
   "id": "270e8ebd-eddf-400c-9be2-9e4408f59d4c",
   "metadata": {},
   "outputs": [],
   "source": [
    "df_parameters_N.transpose().plot.bar()"
   ]
  },
  {
   "cell_type": "code",
   "execution_count": null,
   "id": "1fe563b6-5353-4243-adde-53c3a011e83a",
   "metadata": {},
   "outputs": [],
   "source": [
    "prime_system_ship = PrimeSystem(L=ship_data['L']*ship_data['scale_factor'], rho=df_VCT.iloc[0]['rho'])\n",
    "keys = ['x0',\n",
    "        'y0',\n",
    "        'psi',\n",
    "        'u',\n",
    "        'v',\n",
    "        'r',\n",
    "        'beta',\n",
    "        'V',\n",
    "        'U',\n",
    "        'delta',\n",
    "        'thrust',\n",
    "        'thrust_port',\n",
    "        'thrust_stbd',\n",
    "        'twa',\n",
    "        'tws',\n",
    "        'rev',\n",
    "        'X_D',\n",
    "        'Y_D',\n",
    "        'N_D',\n",
    "        'X_H',\n",
    "        'Y_H',\n",
    "        'N_H',\n",
    "        'X_R',\n",
    "        'Y_R',\n",
    "        'N_R',\n",
    "        'X_R_port',\n",
    "        'Y_R_port',\n",
    "        'N_R_port',\n",
    "        'X_R_stbd',\n",
    "        'Y_R_stbd',\n",
    "        'N_R_stbd',\n",
    "        'fx',\n",
    "        'fy',\n",
    "        'mz',\n",
    "        'test type',\n",
    "        'model_name',\n",
    "       ]\n",
    "\n",
    "\n",
    "\n",
    "df_VCT_prime = prime_system_ship.prime(df_VCT[keys], U=df_VCT['U'])\n",
    "df_VCT_scaled = model.prime_system.unprime(df_VCT_prime, U=df_VCT['U']/np.sqrt(ship_data['scale_factor']))"
   ]
  },
  {
   "cell_type": "code",
   "execution_count": null,
   "id": "17475812-90db-4808-bb10-61fa098dc2c9",
   "metadata": {},
   "outputs": [],
   "source": [
    "_ = []\n",
    "for name, model in models.items():\n",
    "    df_VCT_predict = predict(model, data=df_VCT_scaled)\n",
    "    df_VCT_predict['model_name'] = name\n",
    "    _.append(df_VCT_predict)\n",
    "\n",
    "df_result = pd.concat([df_VCT_scaled] + _, axis=0)"
   ]
  },
  {
   "cell_type": "code",
   "execution_count": null,
   "id": "5c31644c-18b5-46b3-ae78-3b17994b06fe",
   "metadata": {},
   "outputs": [],
   "source": [
    "df_result['model_name'].unique()"
   ]
  },
  {
   "cell_type": "code",
   "execution_count": null,
   "id": "ea395f8d-a4d7-4444-a8f3-b510f05ba2b5",
   "metadata": {},
   "outputs": [],
   "source": [
    "create_tab(df_result, ys=['X_D','Y_D','N_D','X_R','Y_R','N_R'], plot_width=1200)"
   ]
  },
  {
   "cell_type": "code",
   "execution_count": null,
   "id": "a1cc565a-2d49-456e-b208-f19df3a6f6c8",
   "metadata": {},
   "outputs": [],
   "source": [
    "model_ID_hull_rudder.show_subsystems()"
   ]
  },
  {
   "cell_type": "code",
   "execution_count": null,
   "id": "c574a4d7-84a7-4460-9871-35c1f8ee890f",
   "metadata": {},
   "outputs": [],
   "source": [
    "model_ID_hull.show_subsystems()"
   ]
  },
  {
   "cell_type": "code",
   "execution_count": null,
   "id": "7e922fe7-470e-4594-89f9-a1b1f5595b89",
   "metadata": {},
   "outputs": [],
   "source": []
  },
  {
   "cell_type": "code",
   "execution_count": null,
   "id": "aaf610ad-2a93-47d8-aa0c-ce91deeb64ff",
   "metadata": {},
   "outputs": [],
   "source": []
  }
 ],
 "metadata": {
  "kernelspec": {
   "display_name": "Kedro (phd)",
   "language": "python",
   "name": "kedro_phd"
  },
  "language_info": {
   "codemirror_mode": {
    "name": "ipython",
    "version": 3
   },
   "file_extension": ".py",
   "mimetype": "text/x-python",
   "name": "python",
   "nbconvert_exporter": "python",
   "pygments_lexer": "ipython3",
   "version": "3.10.10"
  }
 },
 "nbformat": 4,
 "nbformat_minor": 5
}
