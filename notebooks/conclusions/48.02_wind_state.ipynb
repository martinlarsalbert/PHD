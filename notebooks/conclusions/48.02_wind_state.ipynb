{
 "cells": [
  {
   "cell_type": "markdown",
   "id": "fb1b8bd1-97fa-46cc-9f65-d5d136929c9a",
   "metadata": {},
   "source": [
    "# Models at a wind state"
   ]
  },
  {
   "cell_type": "code",
   "execution_count": null,
   "id": "b22821e8-f94b-4b9f-a8ba-759936d711e3",
   "metadata": {},
   "outputs": [],
   "source": [
    "%load_ext kedro.extras.extensions.ipython\n",
    "import warnings\n",
    "warnings.filterwarnings('ignore')\n",
    "%matplotlib inline\n",
    "%load_ext autoreload\n",
    "%autoreload 2\n",
    "#%config Completer.use_jedi = False"
   ]
  },
  {
   "cell_type": "code",
   "execution_count": null,
   "id": "f7a19358-a92f-40aa-9123-763cd24752ec",
   "metadata": {},
   "outputs": [],
   "source": [
    "import pandas as pd\n",
    "pd.set_option('display.max_rows', 5000)\n",
    "pd.set_option('display.max_columns', 5000)\n",
    "pd.set_option('display.width', 10000)\n",
    "import numpy as np\n",
    "import yaml\n",
    "\n",
    "from vessel_manoeuvring_models.visualization.plot import track_plot, plot\n",
    "from phd.visualization.plot_ship import track_plots\n",
    "import sympy as sp\n",
    "from functools import reduce\n",
    "from operator import add\n",
    "from vessel_manoeuvring_models.symbols import *\n",
    "import vessel_manoeuvring_models.symbols as symbols\n",
    "from IPython.display import display\n",
    "from vessel_manoeuvring_models.prime_system import df_prime\n",
    "from vessel_manoeuvring_models.substitute_dynamic_symbols import run, lambdify, get_function_subs\n",
    "\n",
    "from vessel_manoeuvring_models.parameters import df_parameters\n",
    "from phd.helpers import mean\n",
    "from vessel_manoeuvring_models.angles import mean_angle\n",
    "from vessel_manoeuvring_models.angles import smallest_signed_angle\n",
    "from vessel_manoeuvring_models.models.diff_eq_to_matrix import DiffEqToMatrix\n",
    "from vessel_manoeuvring_models import prime_system\n",
    "from vessel_manoeuvring_models.models.modular_simulator import subs_simpler\n",
    "import statsmodels.api as sm\n",
    "from vct.bokeh_plotting import create_tab\n",
    "from phd.visualization.plot_prediction import plot_total_force, plot_force_components, predict\n",
    "from sklearn.metrics import r2_score, mean_absolute_error\n",
    "from phd.pipelines.resimulate_with_autopilot.nodes import find_initial_equilibrium_rev\n",
    "from vessel_manoeuvring_models.prime_system import PrimeSystem\n",
    "from numpy.testing import assert_almost_equal\n",
    "\n",
    "import inspect\n",
    "from sympy.printing import pretty\n",
    "p = df_parameters[\"symbol\"]\n",
    "\n",
    "import logging\n",
    "log = logging.getLogger()\n",
    "handler = log.handlers[0]\n",
    "handler.setLevel(logging.ERROR)  # Remove info \n",
    "\n",
    "import matplotlib.pyplot as plt\n",
    "plt.style.use('bmh')\n",
    "plt.rcParams[\"figure.figsize\"] = (15,10)\n",
    "\n",
    "\n",
    "from vct.bokeh_plotting import create_tab\n",
    "import optimize_delta\n",
    "\n",
    "import yaml\n",
    "\n",
    "with open('styles.yml', 'r') as file:\n",
    "    styles = yaml.safe_load(file)"
   ]
  },
  {
   "cell_type": "code",
   "execution_count": null,
   "id": "3f333b87-5df8-4e16-b891-4e714ee30db3",
   "metadata": {},
   "outputs": [],
   "source": [
    "#%reload_kedro\n",
    "ship='wPCC'\n",
    "ship_data = catalog.load(f\"{ship}.ship_data\")\n",
    "models_ID_hull = catalog.load(f\"{ship}.models_ID_hull\")\n",
    "models_ID_hull_rudder = catalog.load(f\"{ship}.models_ID_hull_rudder\")\n",
    "models_VCT_MDL = catalog.load(f\"{ship}.models_VCT_MDL\")"
   ]
  },
  {
   "cell_type": "code",
   "execution_count": null,
   "id": "1be3d3fe-95de-4da6-a68f-7269631f9824",
   "metadata": {},
   "outputs": [],
   "source": [
    "models = {\n",
    "    'VCT' : models_VCT_MDL['semiempirical_covered'](),\n",
    "    'ID hull' : models_ID_hull['semiempirical_covered'](),\n",
    "    'ID hull rudder' : models_ID_hull_rudder['Abkowitz'](),\n",
    "}\n"
   ]
  },
  {
   "cell_type": "code",
   "execution_count": null,
   "id": "874e68b3-c65f-4c7d-a036-508e34bb8df7",
   "metadata": {},
   "outputs": [],
   "source": [
    "model = models['VCT']"
   ]
  },
  {
   "cell_type": "code",
   "execution_count": null,
   "id": "06463b1f-2f5f-42da-bd8e-00d4b6135460",
   "metadata": {},
   "outputs": [],
   "source": [
    "for name, subsytem in model.subsystems.items():\n",
    "    try:\n",
    "        subsytem.ship\n",
    "    except:\n",
    "        raise ValueError(name)"
   ]
  },
  {
   "cell_type": "code",
   "execution_count": null,
   "id": "223a6a55-f390-4524-8599-d3cb867d08dc",
   "metadata": {},
   "outputs": [],
   "source": [
    "model.show_subsystems()"
   ]
  },
  {
   "cell_type": "code",
   "execution_count": null,
   "id": "b664da5e-ec1c-48c4-aa47-bc7c566647e4",
   "metadata": {},
   "outputs": [],
   "source": [
    "N = 10\n",
    "data = pd.DataFrame(index=np.arange(N))\n",
    "data[model.states_str] = 0\n",
    "data[model.control_keys] = 0\n",
    "data['beta'] = np.deg2rad(np.linspace(-10,10,N))\n",
    "data['V'] = 0.8\n",
    "data['u'] = data['V']*np.cos(data['beta'])\n",
    "data['v'] = -data['V']*np.sin(data['beta'])\n",
    "data['thrust_port'] = 5\n",
    "data['thrust_stbd'] = 5\n",
    "data['thrust'] = data['thrust_port'] + data['thrust_stbd']"
   ]
  },
  {
   "cell_type": "code",
   "execution_count": null,
   "id": "5a824588-9b21-4c31-afa9-9843be3770c5",
   "metadata": {},
   "outputs": [],
   "source": [
    "dataframes={}\n",
    "for name, model_ in models.items():\n",
    "    dataframes[name] = predict(model=model_, data=data)"
   ]
  },
  {
   "cell_type": "code",
   "execution_count": null,
   "id": "fd331619-ab52-4287-942d-c7ac8ee77f62",
   "metadata": {},
   "outputs": [],
   "source": [
    "fig,axes=plt.subplots(nrows=3)\n",
    "\n",
    "ylims={}\n",
    "for ax,y,unit in zip(axes,['Y_D','N_D','N_H'],['N','Nm','Nm']):\n",
    "\n",
    "    for name,df in dataframes.items():\n",
    "        df['beta_deg'] = np.rad2deg(df['beta'])\n",
    "        df.plot(x='beta_deg', y=y, label=name, ax=ax)\n",
    "    ax.set_xlabel(r'Drift angle $\\beta$ $[deg]$')\n",
    "    ax.set_ylabel(fr'${y}$ $[{unit}]$')\n",
    "    ylims[y]=ax.get_ylim()"
   ]
  },
  {
   "cell_type": "code",
   "execution_count": null,
   "id": "2070d906-39b8-40fb-92fb-f7208db62b04",
   "metadata": {},
   "outputs": [],
   "source": [
    "#optimization_result = optimize_delta.fit(model=model, data=data)"
   ]
  },
  {
   "cell_type": "code",
   "execution_count": null,
   "id": "b61c1d3d-839f-45fb-af08-cbe47dd511b6",
   "metadata": {},
   "outputs": [],
   "source": [
    "#optimization_result"
   ]
  },
  {
   "cell_type": "code",
   "execution_count": null,
   "id": "c9adb59a-5f04-4deb-96f1-e96805ddf19e",
   "metadata": {},
   "outputs": [],
   "source": [
    "dataframes_optimized={}\n",
    "for name, model_ in models.items():\n",
    "    \n",
    "    data_optimized = data.copy()\n",
    "    optimization_result = optimize_delta.fit(model=model_, data=data_optimized)\n",
    "    data_optimized['delta'] = optimization_result.x\n",
    "    dataframes_optimized[name] = predict(model=model_, data=data_optimized)\n",
    "    #dataframes_optimized[name]['delta'] = data_optimized['delta']"
   ]
  },
  {
   "cell_type": "code",
   "execution_count": null,
   "id": "70bdb639-5920-4bf1-9384-113fe0750425",
   "metadata": {},
   "outputs": [],
   "source": [
    "fig,axes=plt.subplots(nrows=3)\n",
    "\n",
    "ylabels={\n",
    "'delta_deg':r\"$\\delta$\"\n",
    "}\n",
    "\n",
    "for ax,y,unit in zip(axes,['Y_D','N_D','delta_deg'],['N','Nm','deg']):\n",
    "\n",
    "    for name,df in dataframes_optimized.items():\n",
    "        df['beta_deg'] = np.rad2deg(df['beta'])\n",
    "        df['delta_deg'] = np.rad2deg(df['delta'])\n",
    "        \n",
    "        df.plot(x='beta_deg', y=y, label=name, ax=ax)\n",
    "    ax.set_xlabel(r'Drift angle $\\beta$ $[deg]$')\n",
    "    ylabel= ylabels.get(y,fr'${y}$')\n",
    "    ax.set_ylabel(fr'{ylabel} $[{unit}]$')\n",
    "    if y in ylims:\n",
    "        ax.set_ylim(ylims[y])"
   ]
  }
 ],
 "metadata": {
  "kernelspec": {
   "display_name": "Kedro (phd)",
   "language": "python",
   "name": "kedro_phd"
  },
  "language_info": {
   "codemirror_mode": {
    "name": "ipython",
    "version": 3
   },
   "file_extension": ".py",
   "mimetype": "text/x-python",
   "name": "python",
   "nbconvert_exporter": "python",
   "pygments_lexer": "ipython3",
   "version": "3.10.10"
  }
 },
 "nbformat": 4,
 "nbformat_minor": 5
}
