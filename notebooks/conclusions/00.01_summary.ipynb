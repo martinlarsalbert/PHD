{
 "cells": [
  {
   "cell_type": "markdown",
   "id": "f54f20a5-741a-4c6a-b3eb-a2066e1b5fbb",
   "metadata": {},
   "source": [
    "# Summary\n",
    "System identification is carried out on two different datasets with two different methods; direct regression is used on the virtual captive tests (VCT), inverse dynamics regression is used on the dataset from model tests with a free model.   \n",
    "\n",
    "A new modular manoeuvring model, inspired by the MMG model, is used in the identification of the manoeuvring dynamics of the wPCC. Two versions of this model will be explored. The first model is equiped with a new semiempirical rudder model which aims at modeling the rudder forces in a physically correct way based on wing lifting line theory. The second model is instead equiped with a much simpler and pure mathematical model taken from the well known Abkowitz model.  \n",
    "\n",
    "Results from the VCT regression can be seen in [01.01_VCT_regression.ipynb](./01.01_VCT_regression.ipynb) and the corresponding results from the inverse dynamics regression can be seen in [02.01_ID_regression.ipynb](./02.01_ID_regression.ipynb).\n",
    "\n",
    "The parameter decomposition on the two models identified with inverse dynamics show that the models are in fact very different. This is not evenident when the models are used to resimulate the zigzag manoeuvring tests, where both models have a good agreement with the model tests. \n",
    "\n",
    "In a wind state, with only drift angle and no yaw rate, the large difference between the two models becomes evident, as seen in [03.01_wind_state.ipynb](./03.01_wind_state.ipynb). It can be seen from the force prediction of a wind state that `model` and `Abkowitz` will give very different yawing moment. The yawing moment of `model` identified by inverse dynamics regression is much closer to `model VCT` - the model from VCT data which can be assumed to be more physically correct. \n",
    "\n",
    "## Conculsions\n",
    "Using the new semiempirical rudder model, which is more physically correct compared to a mathematical Abkowitz model, helps the inverse dynamics regression to identify a more physically correct model that can generalize better given training data from manoeuvring model test without wind to a new state with wind. "
   ]
  }
 ],
 "metadata": {
  "kernelspec": {
   "display_name": "Kedro (phd)",
   "language": "python",
   "name": "kedro_phd"
  },
  "language_info": {
   "codemirror_mode": {
    "name": "ipython",
    "version": 3
   },
   "file_extension": ".py",
   "mimetype": "text/x-python",
   "name": "python",
   "nbconvert_exporter": "python",
   "pygments_lexer": "ipython3",
   "version": "3.10.10"
  }
 },
 "nbformat": 4,
 "nbformat_minor": 5
}
