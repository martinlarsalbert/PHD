{
 "cells": [
  {
   "cell_type": "markdown",
   "id": "7a6a95d4-d9a9-40fd-b15c-38f9074c3431",
   "metadata": {},
   "source": [
    "# Semi-empirical rudder"
   ]
  },
  {
   "cell_type": "code",
   "execution_count": 1,
   "id": "2e52010b-bb5f-494d-a27c-d22f0e915003",
   "metadata": {},
   "outputs": [],
   "source": [
    "import warnings\n",
    "warnings.filterwarnings('ignore')\n",
    "%matplotlib inline\n",
    "%load_ext autoreload\n",
    "%autoreload 2\n",
    "#%config Completer.use_jedi = False"
   ]
  },
  {
   "cell_type": "code",
   "execution_count": 2,
   "id": "c906f7da-e3b9-4736-98e1-bfbc6c1b406a",
   "metadata": {},
   "outputs": [],
   "source": [
    "import pandas as pd\n",
    "pd.set_option('display.max_rows', 5000)\n",
    "pd.set_option('display.max_columns', 5000)\n",
    "pd.set_option('display.width', 10000)\n",
    "import numpy as np\n",
    "import yaml\n",
    "\n",
    "from vessel_manoeuvring_models.visualization.plot import track_plot, track_plots, plot\n",
    "from vessel_manoeuvring_models.extended_kalman_vmm import ExtendedKalman, SystemMatrixes\n",
    "from vmm_abkowitz_simplified import vmm\n",
    "#from vessel_manoeuvring_models.models.vmm_abkowitz_expanded import abkowitz_model_expanded as vmm\n",
    "\n",
    "from wPCC_pipeline.pipelines.brix.nodes import initial_parameters, extract_added_masses\n",
    "from wPCC_pipeline.pipelines.preprocess.nodes import load, add_thrust\n",
    "from wPCC_pipeline.pipelines.filter_data_extended_kalman.nodes import guess_covariance_matrixes, initial_state, extended_kalman_filter, extended_kalman_smoother\n",
    "from wPCC_pipeline.pipelines.motion_regression.nodes import predict_force, fit_motions, create_model_from_motion_regression\n",
    "from wPCC_pipeline.pipelines.prediction.nodes import simulate_euler\n",
    "from sklearn.metrics import mean_squared_error\n",
    "from vessel_manoeuvring_models.models.regression import Regression\n",
    "from vessel_manoeuvring_models.models.vmm import VMM, Simulator, ModelSimulator\n",
    "from vessel_manoeuvring_models.symbols import *\n",
    "from vessel_manoeuvring_models.parameters import df_parameters\n",
    "from vessel_manoeuvring_models.prime_system import PrimeSystem\n",
    "from wPCC_pipeline.pipelines.vct_data.nodes import vct_scaling\n",
    "p = df_parameters['symbol']\n",
    "from vessel_manoeuvring_models.models.diff_eq_to_matrix import DiffEqToMatrix\n",
    "from vessel_manoeuvring_models.substitute_dynamic_symbols import lambdify, run\n",
    "import statsmodels.api as sm\n",
    "import seaborn as sns\n",
    "from vessel_manoeuvring_models.models.propeller import *\n",
    "from vessel_manoeuvring_models.models.semiempirical_rudder import *\n",
    "import matplotlib.pyplot as plt\n",
    "plt.style.use('bmh')\n",
    "from copy import deepcopy\n",
    "\n",
    "#from vct.bokeh_plotting import create_tab"
   ]
  },
  {
   "cell_type": "markdown",
   "id": "6241c635-c5c5-413f-a950-c4fcf2af1aac",
   "metadata": {
    "papermill": {
     "duration": 0.026922,
     "end_time": "2021-09-28T07:58:50.177324",
     "exception": false,
     "start_time": "2021-09-28T07:58:50.150402",
     "status": "completed"
    },
    "tags": []
   },
   "source": [
    "## Load VCT data:"
   ]
  },
  {
   "cell_type": "code",
   "execution_count": 3,
   "id": "47f55e87-9ed9-49f3-ab7d-240e3ccbdd42",
   "metadata": {},
   "outputs": [
    {
     "data": {
      "text/html": [
       "<pre style=\"white-space:pre;overflow-x:auto;line-height:normal;font-family:Menlo,'DejaVu Sans Mono',consolas,'Courier New',monospace\"><span style=\"color: #7fbfbf; text-decoration-color: #7fbfbf\">[06/01/23 08:24:13] </span><span style=\"color: #000080; text-decoration-color: #000080\">INFO    </span> Resolved project path as: <span style=\"color: #800080; text-decoration-color: #800080\">/home/maa/dev/</span><span style=\"color: #ff00ff; text-decoration-color: #ff00ff\">PHD.</span>                           <a href=\"file:///home/maa/anaconda3/envs/phd/lib/python3.10/site-packages/kedro/ipython/__init__.py\" target=\"_blank\"><span style=\"color: #7f7f7f; text-decoration-color: #7f7f7f\">__init__.py</span></a><span style=\"color: #7f7f7f; text-decoration-color: #7f7f7f\">:</span><a href=\"file:///home/maa/anaconda3/envs/phd/lib/python3.10/site-packages/kedro/ipython/__init__.py#134\" target=\"_blank\"><span style=\"color: #7f7f7f; text-decoration-color: #7f7f7f\">134</span></a>\n",
       "<span style=\"color: #7fbfbf; text-decoration-color: #7fbfbf\">                    </span>         To set a different path, run <span style=\"color: #008000; text-decoration-color: #008000\">'%reload_kedro &lt;project_root&gt;'</span>            <span style=\"color: #7f7f7f; text-decoration-color: #7f7f7f\">               </span>\n",
       "</pre>\n"
      ],
      "text/plain": [
       "\u001b[2;36m[06/01/23 08:24:13]\u001b[0m\u001b[2;36m \u001b[0m\u001b[34mINFO    \u001b[0m Resolved project path as: \u001b[35m/home/maa/dev/\u001b[0m\u001b[95mPHD.\u001b[0m                           \u001b]8;id=181149;file:///home/maa/anaconda3/envs/phd/lib/python3.10/site-packages/kedro/ipython/__init__.py\u001b\\\u001b[2m__init__.py\u001b[0m\u001b]8;;\u001b\\\u001b[2m:\u001b[0m\u001b]8;id=112370;file:///home/maa/anaconda3/envs/phd/lib/python3.10/site-packages/kedro/ipython/__init__.py#134\u001b\\\u001b[2m134\u001b[0m\u001b]8;;\u001b\\\n",
       "\u001b[2;36m                    \u001b[0m         To set a different path, run \u001b[32m'%reload_kedro \u001b[0m\u001b[32m<\u001b[0m\u001b[32mproject_root\u001b[0m\u001b[32m>\u001b[0m\u001b[32m'\u001b[0m            \u001b[2m               \u001b[0m\n"
      ]
     },
     "metadata": {},
     "output_type": "display_data"
    },
    {
     "data": {
      "text/html": [
       "<pre style=\"white-space:pre;overflow-x:auto;line-height:normal;font-family:Menlo,'DejaVu Sans Mono',consolas,'Courier New',monospace\"><span style=\"color: #7fbfbf; text-decoration-color: #7fbfbf\">[06/01/23 08:24:13] </span><span style=\"color: #000080; text-decoration-color: #000080\">INFO    </span> Kedro project phd                                                      <a href=\"file:///home/maa/anaconda3/envs/phd/lib/python3.10/site-packages/kedro/ipython/__init__.py\" target=\"_blank\"><span style=\"color: #7f7f7f; text-decoration-color: #7f7f7f\">__init__.py</span></a><span style=\"color: #7f7f7f; text-decoration-color: #7f7f7f\">:</span><a href=\"file:///home/maa/anaconda3/envs/phd/lib/python3.10/site-packages/kedro/ipython/__init__.py#103\" target=\"_blank\"><span style=\"color: #7f7f7f; text-decoration-color: #7f7f7f\">103</span></a>\n",
       "</pre>\n"
      ],
      "text/plain": [
       "\u001b[2;36m[06/01/23 08:24:13]\u001b[0m\u001b[2;36m \u001b[0m\u001b[34mINFO    \u001b[0m Kedro project phd                                                      \u001b]8;id=340757;file:///home/maa/anaconda3/envs/phd/lib/python3.10/site-packages/kedro/ipython/__init__.py\u001b\\\u001b[2m__init__.py\u001b[0m\u001b]8;;\u001b\\\u001b[2m:\u001b[0m\u001b]8;id=155953;file:///home/maa/anaconda3/envs/phd/lib/python3.10/site-packages/kedro/ipython/__init__.py#103\u001b\\\u001b[2m103\u001b[0m\u001b]8;;\u001b\\\n"
      ]
     },
     "metadata": {},
     "output_type": "display_data"
    },
    {
     "data": {
      "text/html": [
       "<pre style=\"white-space:pre;overflow-x:auto;line-height:normal;font-family:Menlo,'DejaVu Sans Mono',consolas,'Courier New',monospace\"><span style=\"color: #7fbfbf; text-decoration-color: #7fbfbf\">                    </span><span style=\"color: #000080; text-decoration-color: #000080\">INFO    </span> Defined global variable <span style=\"color: #008000; text-decoration-color: #008000\">'context'</span>, <span style=\"color: #008000; text-decoration-color: #008000\">'session'</span>, <span style=\"color: #008000; text-decoration-color: #008000\">'catalog'</span> and            <a href=\"file:///home/maa/anaconda3/envs/phd/lib/python3.10/site-packages/kedro/ipython/__init__.py\" target=\"_blank\"><span style=\"color: #7f7f7f; text-decoration-color: #7f7f7f\">__init__.py</span></a><span style=\"color: #7f7f7f; text-decoration-color: #7f7f7f\">:</span><a href=\"file:///home/maa/anaconda3/envs/phd/lib/python3.10/site-packages/kedro/ipython/__init__.py#104\" target=\"_blank\"><span style=\"color: #7f7f7f; text-decoration-color: #7f7f7f\">104</span></a>\n",
       "<span style=\"color: #7fbfbf; text-decoration-color: #7fbfbf\">                    </span>         <span style=\"color: #008000; text-decoration-color: #008000\">'pipelines'</span>                                                            <span style=\"color: #7f7f7f; text-decoration-color: #7f7f7f\">               </span>\n",
       "</pre>\n"
      ],
      "text/plain": [
       "\u001b[2;36m                   \u001b[0m\u001b[2;36m \u001b[0m\u001b[34mINFO    \u001b[0m Defined global variable \u001b[32m'context'\u001b[0m, \u001b[32m'session'\u001b[0m, \u001b[32m'catalog'\u001b[0m and            \u001b]8;id=721872;file:///home/maa/anaconda3/envs/phd/lib/python3.10/site-packages/kedro/ipython/__init__.py\u001b\\\u001b[2m__init__.py\u001b[0m\u001b]8;;\u001b\\\u001b[2m:\u001b[0m\u001b]8;id=328782;file:///home/maa/anaconda3/envs/phd/lib/python3.10/site-packages/kedro/ipython/__init__.py#104\u001b\\\u001b[2m104\u001b[0m\u001b]8;;\u001b\\\n",
       "\u001b[2;36m                    \u001b[0m         \u001b[32m'pipelines'\u001b[0m                                                            \u001b[2m               \u001b[0m\n"
      ]
     },
     "metadata": {},
     "output_type": "display_data"
    },
    {
     "data": {
      "text/html": [
       "<pre style=\"white-space:pre;overflow-x:auto;line-height:normal;font-family:Menlo,'DejaVu Sans Mono',consolas,'Courier New',monospace\"><span style=\"color: #7fbfbf; text-decoration-color: #7fbfbf\">                    </span><span style=\"color: #000080; text-decoration-color: #000080\">INFO    </span> Registered line magic <span style=\"color: #008000; text-decoration-color: #008000\">'run_viz'</span>                                        <a href=\"file:///home/maa/anaconda3/envs/phd/lib/python3.10/site-packages/kedro/ipython/__init__.py\" target=\"_blank\"><span style=\"color: #7f7f7f; text-decoration-color: #7f7f7f\">__init__.py</span></a><span style=\"color: #7f7f7f; text-decoration-color: #7f7f7f\">:</span><a href=\"file:///home/maa/anaconda3/envs/phd/lib/python3.10/site-packages/kedro/ipython/__init__.py#110\" target=\"_blank\"><span style=\"color: #7f7f7f; text-decoration-color: #7f7f7f\">110</span></a>\n",
       "</pre>\n"
      ],
      "text/plain": [
       "\u001b[2;36m                   \u001b[0m\u001b[2;36m \u001b[0m\u001b[34mINFO    \u001b[0m Registered line magic \u001b[32m'run_viz'\u001b[0m                                        \u001b]8;id=459865;file:///home/maa/anaconda3/envs/phd/lib/python3.10/site-packages/kedro/ipython/__init__.py\u001b\\\u001b[2m__init__.py\u001b[0m\u001b]8;;\u001b\\\u001b[2m:\u001b[0m\u001b]8;id=433690;file:///home/maa/anaconda3/envs/phd/lib/python3.10/site-packages/kedro/ipython/__init__.py#110\u001b\\\u001b[2m110\u001b[0m\u001b]8;;\u001b\\\n"
      ]
     },
     "metadata": {},
     "output_type": "display_data"
    },
    {
     "data": {
      "text/html": [
       "<pre style=\"white-space:pre;overflow-x:auto;line-height:normal;font-family:Menlo,'DejaVu Sans Mono',consolas,'Courier New',monospace\"><span style=\"color: #7fbfbf; text-decoration-color: #7fbfbf\">                    </span><span style=\"color: #000080; text-decoration-color: #000080\">INFO    </span> Loading data from <span style=\"color: #008000; text-decoration-color: #008000\">'wPCC.time_series'</span> <span style=\"font-weight: bold\">(</span>PartitionedDataSet<span style=\"font-weight: bold\">)</span><span style=\"color: #808000; text-decoration-color: #808000\">...</span>       <a href=\"file:///home/maa/anaconda3/envs/phd/lib/python3.10/site-packages/kedro/io/data_catalog.py\" target=\"_blank\"><span style=\"color: #7f7f7f; text-decoration-color: #7f7f7f\">data_catalog.py</span></a><span style=\"color: #7f7f7f; text-decoration-color: #7f7f7f\">:</span><a href=\"file:///home/maa/anaconda3/envs/phd/lib/python3.10/site-packages/kedro/io/data_catalog.py#343\" target=\"_blank\"><span style=\"color: #7f7f7f; text-decoration-color: #7f7f7f\">343</span></a>\n",
       "</pre>\n"
      ],
      "text/plain": [
       "\u001b[2;36m                   \u001b[0m\u001b[2;36m \u001b[0m\u001b[34mINFO    \u001b[0m Loading data from \u001b[32m'wPCC.time_series'\u001b[0m \u001b[1m(\u001b[0mPartitionedDataSet\u001b[1m)\u001b[0m\u001b[33m...\u001b[0m       \u001b]8;id=876676;file:///home/maa/anaconda3/envs/phd/lib/python3.10/site-packages/kedro/io/data_catalog.py\u001b\\\u001b[2mdata_catalog.py\u001b[0m\u001b]8;;\u001b\\\u001b[2m:\u001b[0m\u001b]8;id=692813;file:///home/maa/anaconda3/envs/phd/lib/python3.10/site-packages/kedro/io/data_catalog.py#343\u001b\\\u001b[2m343\u001b[0m\u001b]8;;\u001b\\\n"
      ]
     },
     "metadata": {},
     "output_type": "display_data"
    },
    {
     "data": {
      "text/html": [
       "<pre style=\"white-space:pre;overflow-x:auto;line-height:normal;font-family:Menlo,'DejaVu Sans Mono',consolas,'Courier New',monospace\"><span style=\"color: #7fbfbf; text-decoration-color: #7fbfbf\">                    </span><span style=\"color: #000080; text-decoration-color: #000080\">INFO    </span> Loading data from <span style=\"color: #008000; text-decoration-color: #008000\">'wPCC.df_VCT'</span> <span style=\"font-weight: bold\">(</span>CSVDataSet<span style=\"font-weight: bold\">)</span><span style=\"color: #808000; text-decoration-color: #808000\">...</span>                    <a href=\"file:///home/maa/anaconda3/envs/phd/lib/python3.10/site-packages/kedro/io/data_catalog.py\" target=\"_blank\"><span style=\"color: #7f7f7f; text-decoration-color: #7f7f7f\">data_catalog.py</span></a><span style=\"color: #7f7f7f; text-decoration-color: #7f7f7f\">:</span><a href=\"file:///home/maa/anaconda3/envs/phd/lib/python3.10/site-packages/kedro/io/data_catalog.py#343\" target=\"_blank\"><span style=\"color: #7f7f7f; text-decoration-color: #7f7f7f\">343</span></a>\n",
       "</pre>\n"
      ],
      "text/plain": [
       "\u001b[2;36m                   \u001b[0m\u001b[2;36m \u001b[0m\u001b[34mINFO    \u001b[0m Loading data from \u001b[32m'wPCC.df_VCT'\u001b[0m \u001b[1m(\u001b[0mCSVDataSet\u001b[1m)\u001b[0m\u001b[33m...\u001b[0m                    \u001b]8;id=958338;file:///home/maa/anaconda3/envs/phd/lib/python3.10/site-packages/kedro/io/data_catalog.py\u001b\\\u001b[2mdata_catalog.py\u001b[0m\u001b]8;;\u001b\\\u001b[2m:\u001b[0m\u001b]8;id=58843;file:///home/maa/anaconda3/envs/phd/lib/python3.10/site-packages/kedro/io/data_catalog.py#343\u001b\\\u001b[2m343\u001b[0m\u001b]8;;\u001b\\\n"
      ]
     },
     "metadata": {},
     "output_type": "display_data"
    },
    {
     "data": {
      "text/html": [
       "<pre style=\"white-space:pre;overflow-x:auto;line-height:normal;font-family:Menlo,'DejaVu Sans Mono',consolas,'Courier New',monospace\"><span style=\"color: #7fbfbf; text-decoration-color: #7fbfbf\">                    </span><span style=\"color: #000080; text-decoration-color: #000080\">INFO    </span> Loading data from <span style=\"color: #008000; text-decoration-color: #008000\">'wPCC.ship_data'</span> <span style=\"font-weight: bold\">(</span>YAMLDataSet<span style=\"font-weight: bold\">)</span><span style=\"color: #808000; text-decoration-color: #808000\">...</span>                <a href=\"file:///home/maa/anaconda3/envs/phd/lib/python3.10/site-packages/kedro/io/data_catalog.py\" target=\"_blank\"><span style=\"color: #7f7f7f; text-decoration-color: #7f7f7f\">data_catalog.py</span></a><span style=\"color: #7f7f7f; text-decoration-color: #7f7f7f\">:</span><a href=\"file:///home/maa/anaconda3/envs/phd/lib/python3.10/site-packages/kedro/io/data_catalog.py#343\" target=\"_blank\"><span style=\"color: #7f7f7f; text-decoration-color: #7f7f7f\">343</span></a>\n",
       "</pre>\n"
      ],
      "text/plain": [
       "\u001b[2;36m                   \u001b[0m\u001b[2;36m \u001b[0m\u001b[34mINFO    \u001b[0m Loading data from \u001b[32m'wPCC.ship_data'\u001b[0m \u001b[1m(\u001b[0mYAMLDataSet\u001b[1m)\u001b[0m\u001b[33m...\u001b[0m                \u001b]8;id=669029;file:///home/maa/anaconda3/envs/phd/lib/python3.10/site-packages/kedro/io/data_catalog.py\u001b\\\u001b[2mdata_catalog.py\u001b[0m\u001b]8;;\u001b\\\u001b[2m:\u001b[0m\u001b]8;id=670984;file:///home/maa/anaconda3/envs/phd/lib/python3.10/site-packages/kedro/io/data_catalog.py#343\u001b\\\u001b[2m343\u001b[0m\u001b]8;;\u001b\\\n"
      ]
     },
     "metadata": {},
     "output_type": "display_data"
    },
    {
     "data": {
      "text/html": [
       "<pre style=\"white-space:pre;overflow-x:auto;line-height:normal;font-family:Menlo,'DejaVu Sans Mono',consolas,'Courier New',monospace\"><span style=\"color: #7fbfbf; text-decoration-color: #7fbfbf\">                    </span><span style=\"color: #000080; text-decoration-color: #000080\">INFO    </span> Loading data from <span style=\"color: #008000; text-decoration-color: #008000\">'params:wPCC.thrust_keys'</span> <span style=\"font-weight: bold\">(</span>MemoryDataSet<span style=\"font-weight: bold\">)</span><span style=\"color: #808000; text-decoration-color: #808000\">...</span>     <a href=\"file:///home/maa/anaconda3/envs/phd/lib/python3.10/site-packages/kedro/io/data_catalog.py\" target=\"_blank\"><span style=\"color: #7f7f7f; text-decoration-color: #7f7f7f\">data_catalog.py</span></a><span style=\"color: #7f7f7f; text-decoration-color: #7f7f7f\">:</span><a href=\"file:///home/maa/anaconda3/envs/phd/lib/python3.10/site-packages/kedro/io/data_catalog.py#343\" target=\"_blank\"><span style=\"color: #7f7f7f; text-decoration-color: #7f7f7f\">343</span></a>\n",
       "</pre>\n"
      ],
      "text/plain": [
       "\u001b[2;36m                   \u001b[0m\u001b[2;36m \u001b[0m\u001b[34mINFO    \u001b[0m Loading data from \u001b[32m'params:wPCC.thrust_keys'\u001b[0m \u001b[1m(\u001b[0mMemoryDataSet\u001b[1m)\u001b[0m\u001b[33m...\u001b[0m     \u001b]8;id=599194;file:///home/maa/anaconda3/envs/phd/lib/python3.10/site-packages/kedro/io/data_catalog.py\u001b\\\u001b[2mdata_catalog.py\u001b[0m\u001b]8;;\u001b\\\u001b[2m:\u001b[0m\u001b]8;id=884782;file:///home/maa/anaconda3/envs/phd/lib/python3.10/site-packages/kedro/io/data_catalog.py#343\u001b\\\u001b[2m343\u001b[0m\u001b]8;;\u001b\\\n"
      ]
     },
     "metadata": {},
     "output_type": "display_data"
    },
    {
     "data": {
      "text/html": [
       "<pre style=\"white-space:pre;overflow-x:auto;line-height:normal;font-family:Menlo,'DejaVu Sans Mono',consolas,'Courier New',monospace\"><span style=\"color: #7fbfbf; text-decoration-color: #7fbfbf\">                    </span><span style=\"color: #000080; text-decoration-color: #000080\">INFO    </span> Loading data from <span style=\"color: #008000; text-decoration-color: #008000\">'params:wPCC.exclude_parameters'</span>                 <a href=\"file:///home/maa/anaconda3/envs/phd/lib/python3.10/site-packages/kedro/io/data_catalog.py\" target=\"_blank\"><span style=\"color: #7f7f7f; text-decoration-color: #7f7f7f\">data_catalog.py</span></a><span style=\"color: #7f7f7f; text-decoration-color: #7f7f7f\">:</span><a href=\"file:///home/maa/anaconda3/envs/phd/lib/python3.10/site-packages/kedro/io/data_catalog.py#343\" target=\"_blank\"><span style=\"color: #7f7f7f; text-decoration-color: #7f7f7f\">343</span></a>\n",
       "<span style=\"color: #7fbfbf; text-decoration-color: #7fbfbf\">                    </span>         <span style=\"font-weight: bold\">(</span>MemoryDataSet<span style=\"font-weight: bold\">)</span><span style=\"color: #808000; text-decoration-color: #808000\">...</span>                                                 <span style=\"color: #7f7f7f; text-decoration-color: #7f7f7f\">                   </span>\n",
       "</pre>\n"
      ],
      "text/plain": [
       "\u001b[2;36m                   \u001b[0m\u001b[2;36m \u001b[0m\u001b[34mINFO    \u001b[0m Loading data from \u001b[32m'params:wPCC.exclude_parameters'\u001b[0m                 \u001b]8;id=94545;file:///home/maa/anaconda3/envs/phd/lib/python3.10/site-packages/kedro/io/data_catalog.py\u001b\\\u001b[2mdata_catalog.py\u001b[0m\u001b]8;;\u001b\\\u001b[2m:\u001b[0m\u001b]8;id=632164;file:///home/maa/anaconda3/envs/phd/lib/python3.10/site-packages/kedro/io/data_catalog.py#343\u001b\\\u001b[2m343\u001b[0m\u001b]8;;\u001b\\\n",
       "\u001b[2;36m                    \u001b[0m         \u001b[1m(\u001b[0mMemoryDataSet\u001b[1m)\u001b[0m\u001b[33m...\u001b[0m                                                 \u001b[2m                   \u001b[0m\n"
      ]
     },
     "metadata": {},
     "output_type": "display_data"
    },
    {
     "data": {
      "text/html": [
       "<pre style=\"white-space:pre;overflow-x:auto;line-height:normal;font-family:Menlo,'DejaVu Sans Mono',consolas,'Courier New',monospace\"><span style=\"color: #7fbfbf; text-decoration-color: #7fbfbf\">                    </span><span style=\"color: #000080; text-decoration-color: #000080\">INFO    </span> Loading data from <span style=\"color: #008000; text-decoration-color: #008000\">'wPCC.time_series_meta_data'</span> <span style=\"font-weight: bold\">(</span>CSVDataSet<span style=\"font-weight: bold\">)</span><span style=\"color: #808000; text-decoration-color: #808000\">...</span>     <a href=\"file:///home/maa/anaconda3/envs/phd/lib/python3.10/site-packages/kedro/io/data_catalog.py\" target=\"_blank\"><span style=\"color: #7f7f7f; text-decoration-color: #7f7f7f\">data_catalog.py</span></a><span style=\"color: #7f7f7f; text-decoration-color: #7f7f7f\">:</span><a href=\"file:///home/maa/anaconda3/envs/phd/lib/python3.10/site-packages/kedro/io/data_catalog.py#343\" target=\"_blank\"><span style=\"color: #7f7f7f; text-decoration-color: #7f7f7f\">343</span></a>\n",
       "</pre>\n"
      ],
      "text/plain": [
       "\u001b[2;36m                   \u001b[0m\u001b[2;36m \u001b[0m\u001b[34mINFO    \u001b[0m Loading data from \u001b[32m'wPCC.time_series_meta_data'\u001b[0m \u001b[1m(\u001b[0mCSVDataSet\u001b[1m)\u001b[0m\u001b[33m...\u001b[0m     \u001b]8;id=294698;file:///home/maa/anaconda3/envs/phd/lib/python3.10/site-packages/kedro/io/data_catalog.py\u001b\\\u001b[2mdata_catalog.py\u001b[0m\u001b]8;;\u001b\\\u001b[2m:\u001b[0m\u001b]8;id=25039;file:///home/maa/anaconda3/envs/phd/lib/python3.10/site-packages/kedro/io/data_catalog.py#343\u001b\\\u001b[2m343\u001b[0m\u001b]8;;\u001b\\\n"
      ]
     },
     "metadata": {},
     "output_type": "display_data"
    }
   ],
   "source": [
    "%reload_kedro\n",
    "ship='wPCC'\n",
    "time_series = catalog.load(f\"{ship}.time_series\")\n",
    "df_VCT = catalog.load(f\"{ship}.df_VCT\")\n",
    "ship_data = catalog.load(f\"{ship}.ship_data\")\n",
    "df_VCT = vct_scaling(data=df_VCT, ship_data=ship_data)\n",
    "df_VCT['U'] = df_VCT['V']\n",
    "df_VCT['fy_rudders']*=2  #(There seems to be onlu one rudder counted before)\n",
    "\n",
    "mask = df_VCT['model_name'].isin([\n",
    "    'V2_3_R2',\n",
    "])\n",
    "df_VCT = df_VCT.loc[mask].copy()\n",
    "\n",
    "thrust_keys = catalog.load(f\"params:{ship}.thrust_keys\")\n",
    "exclude_parameters = catalog.load(f\"params:{ship}.exclude_parameters\")\n",
    "time_series_meta_data = catalog.load(f\"{ship}.time_series_meta_data\")\n",
    "time_series_meta_data.index = time_series_meta_data.index.astype(str)\n",
    "time_series_meta_data.rename(columns={'test_type':'test type'}, inplace=True)"
   ]
  },
  {
   "cell_type": "code",
   "execution_count": null,
   "id": "3549c65a-ddfc-4a88-8a4f-d8da3a900621",
   "metadata": {},
   "outputs": [],
   "source": []
  },
  {
   "cell_type": "markdown",
   "id": "ab03d3ab-dc79-4b11-ba99-a508ad5a3a14",
   "metadata": {},
   "source": [
    "## Rudder lift"
   ]
  },
  {
   "cell_type": "code",
   "execution_count": 4,
   "id": "c7ed5851-2c1a-498d-a97c-93977b3d21b3",
   "metadata": {},
   "outputs": [
    {
     "data": {
      "text/latex": [
       "$\\displaystyle L = \\frac{A_{R} C_{L} C_{L tune} V_{R}^{2} \\rho}{2}$"
      ],
      "text/plain": [
       "Eq(L, A_R*C_L*C_L_tune*V_R**2*rho/2)"
      ]
     },
     "execution_count": 4,
     "metadata": {},
     "output_type": "execute_result"
    }
   ],
   "source": [
    "eq_L"
   ]
  },
  {
   "cell_type": "markdown",
   "id": "c8c1e510-bced-4f23-a95b-467d28465b20",
   "metadata": {},
   "source": [
    "where $A_R$ is the rudder area, $V_R$ is the flow velocity at the rudder."
   ]
  },
  {
   "cell_type": "code",
   "execution_count": 5,
   "id": "a5bb47fe-4cf0-4fb6-b6b2-d697851f0260",
   "metadata": {},
   "outputs": [
    {
     "data": {
      "text/latex": [
       "$\\displaystyle C_{L} = \\frac{2 \\pi \\Lambda \\left(\\Lambda + 1\\right) \\sin{\\left(\\delta + \\gamma \\kappa \\right)}}{\\left(\\Lambda + 2\\right)^{2}}$"
      ],
      "text/plain": [
       "Eq(C_L, 2*pi*Lambda*(Lambda + 1)*sin(delta + gamma*kappa)/(Lambda + 2)**2)"
      ]
     },
     "execution_count": 5,
     "metadata": {},
     "output_type": "execute_result"
    }
   ],
   "source": [
    "eq_C_L"
   ]
  },
  {
   "cell_type": "markdown",
   "id": "5de295d5-64d1-4c33-a2ca-ab162c809d68",
   "metadata": {},
   "source": [
    "where $\\Lambda$ is the aspect ratio, $\\delta$ is rudder angle. $\\gamma$ is the angle of the flow velocity ($V_R$), induced by the drift angle and yaw rate, given by,"
   ]
  },
  {
   "cell_type": "code",
   "execution_count": 6,
   "id": "7bc5fab6-de04-4cb8-b41d-290227dbc5b5",
   "metadata": {},
   "outputs": [
    {
     "data": {
      "text/latex": [
       "$\\displaystyle \\gamma = \\operatorname{atan}{\\left(\\frac{V_{yr}}{V_{xr}} \\right)}$"
      ],
      "text/plain": [
       "Eq(gamma, atan(V_yr/V_xr))"
      ]
     },
     "execution_count": 6,
     "metadata": {},
     "output_type": "execute_result"
    }
   ],
   "source": [
    "eq_gamma"
   ]
  },
  {
   "cell_type": "markdown",
   "id": "66fcc7a5-d33b-424f-b9aa-7adfe013e87f",
   "metadata": {},
   "source": [
    "$V_R$ is divided into components in the x,y, and z direction:"
   ]
  },
  {
   "cell_type": "code",
   "execution_count": 7,
   "id": "01681572-121e-4dbf-ab55-a88bd9094896",
   "metadata": {},
   "outputs": [
    {
     "data": {
      "text/latex": [
       "$\\displaystyle V_{R} = \\sqrt{V_{xr}^{2} + V_{yr}^{2} + V_{zr}^{2}}$"
      ],
      "text/plain": [
       "Eq(V_R, sqrt(V_xr**2 + V_yr**2 + V_zr**2))"
      ]
     },
     "execution_count": 7,
     "metadata": {},
     "output_type": "execute_result"
    }
   ],
   "source": [
    "eq_V_R"
   ]
  },
  {
   "cell_type": "markdown",
   "id": "7deb0a1a-14e1-4f52-82d5-9b6883f27098",
   "metadata": {},
   "source": [
    "Where the x y, and z components are given by the following three equations,"
   ]
  },
  {
   "cell_type": "code",
   "execution_count": 8,
   "id": "798ae51d-84d0-4aca-88bd-432d79de7cc1",
   "metadata": {},
   "outputs": [
    {
     "data": {
      "text/latex": [
       "$\\displaystyle V_{xr} = V_{x} + q z_{R} - r y_{R}$"
      ],
      "text/plain": [
       "Eq(V_xr, V_x + q*z_R - r*y_R)"
      ]
     },
     "execution_count": 8,
     "metadata": {},
     "output_type": "execute_result"
    }
   ],
   "source": [
    "eq_V_xR"
   ]
  },
  {
   "cell_type": "code",
   "execution_count": 9,
   "id": "8e42e9c1-ef2f-4dfa-9a87-442f021275f8",
   "metadata": {},
   "outputs": [
    {
     "data": {
      "text/latex": [
       "$\\displaystyle V_{yr} = p z_{R} - r x_{R} - v$"
      ],
      "text/plain": [
       "Eq(V_yr, p*z_R - r*x_R - v)"
      ]
     },
     "execution_count": 9,
     "metadata": {},
     "output_type": "execute_result"
    }
   ],
   "source": [
    "eq_V_yR"
   ]
  },
  {
   "cell_type": "code",
   "execution_count": 10,
   "id": "db098795-6fa0-4225-8181-a14ecd2ac6a6",
   "metadata": {},
   "outputs": [
    {
     "data": {
      "text/latex": [
       "$\\displaystyle V_{zr} = - q x_{R} - q y_{R} - w$"
      ],
      "text/plain": [
       "Eq(V_zr, -q*x_R - q*y_R - w)"
      ]
     },
     "execution_count": 10,
     "metadata": {},
     "output_type": "execute_result"
    }
   ],
   "source": [
    "eq_V_zR"
   ]
  },
  {
   "cell_type": "markdown",
   "id": "079d0fb7-0435-4233-b655-de20bb82cdda",
   "metadata": {},
   "source": [
    "But for a three degree of freedom (dof) model,"
   ]
  },
  {
   "cell_type": "code",
   "execution_count": 11,
   "id": "0fb8b657-b180-4e82-8882-61bc830494e4",
   "metadata": {},
   "outputs": [
    {
     "data": {
      "text/latex": [
       "$\\displaystyle V_{xr} = V_{x} - r y_{R}$"
      ],
      "text/plain": [
       "Eq(V_xr, V_x - r*y_R)"
      ]
     },
     "execution_count": 11,
     "metadata": {},
     "output_type": "execute_result"
    }
   ],
   "source": [
    "eq_V_xR_3dof = eq_V_xR.subs([\n",
    "(p,0),\n",
    "(q,0),\n",
    "(w,0),\n",
    "])\n",
    "eq_V_xR_3dof\n"
   ]
  },
  {
   "cell_type": "code",
   "execution_count": 12,
   "id": "7ce191d8-c108-4c69-8ee4-c0b90c2ebfba",
   "metadata": {},
   "outputs": [
    {
     "data": {
      "text/latex": [
       "$\\displaystyle V_{yr} = - r x_{R} - v$"
      ],
      "text/plain": [
       "Eq(V_yr, -r*x_R - v)"
      ]
     },
     "execution_count": 12,
     "metadata": {},
     "output_type": "execute_result"
    }
   ],
   "source": [
    "eq_V_yR_3dof = eq_V_yR.subs([\n",
    "(p,0),\n",
    "(q,0),\n",
    "(w,0),\n",
    "])\n",
    "eq_V_yR_3dof"
   ]
  },
  {
   "cell_type": "code",
   "execution_count": 13,
   "id": "9a8fd7ae-a365-45a9-a7ec-b4e9a6238dee",
   "metadata": {},
   "outputs": [
    {
     "data": {
      "text/latex": [
       "$\\displaystyle V_{zr} = 0$"
      ],
      "text/plain": [
       "Eq(V_zr, 0)"
      ]
     },
     "execution_count": 13,
     "metadata": {},
     "output_type": "execute_result"
    }
   ],
   "source": [
    "eq_V_zR_3dof = eq_V_zR.subs([\n",
    "(q,0),\n",
    "(w,0),\n",
    "])\n",
    "eq_V_zR_3dof"
   ]
  },
  {
   "cell_type": "markdown",
   "id": "b545c929-1d82-4b41-9756-0857f59c64f6",
   "metadata": {},
   "source": [
    "The so-called flow straightening effect of a hull is modelled by a factor $\\kappa$."
   ]
  },
  {
   "cell_type": "markdown",
   "id": "ce1c44ef-dd11-4279-827c-21a79e2ea3cc",
   "metadata": {},
   "source": [
    "The aspect ratio $\\Lambda$ depends on the rudder angle, which can be modelled as,"
   ]
  },
  {
   "cell_type": "code",
   "execution_count": 14,
   "id": "bd0aceae-2b2a-4a51-8237-5b9d5c9ee73b",
   "metadata": {},
   "outputs": [
    {
     "data": {
      "text/latex": [
       "$\\displaystyle \\Lambda = \\Lambda_{g} \\left(2 - \\left|{\\frac{\\delta}{\\delta_{lim}}}\\right|\\right)$"
      ],
      "text/plain": [
       "Eq(Lambda, Lambda_g*(2 - Abs(delta/delta_lim)))"
      ]
     },
     "execution_count": 14,
     "metadata": {},
     "output_type": "execute_result"
    }
   ],
   "source": [
    "eq_Lambda"
   ]
  },
  {
   "cell_type": "markdown",
   "id": "75f03c1b-f004-4d03-a32a-c70adaf3ea3d",
   "metadata": {},
   "source": [
    "where $\\Lambda_g$ is the geometric aspect ratio, given by "
   ]
  },
  {
   "cell_type": "code",
   "execution_count": 15,
   "id": "54a739a9-a3f1-4bd7-9a06-19301df9e448",
   "metadata": {},
   "outputs": [
    {
     "data": {
      "text/latex": [
       "$\\displaystyle \\Lambda_{g} = \\frac{b_{R}^{2}}{A_{R}}$"
      ],
      "text/plain": [
       "Eq(Lambda_g, b_R**2/A_R)"
      ]
     },
     "execution_count": 15,
     "metadata": {},
     "output_type": "execute_result"
    }
   ],
   "source": [
    "eq_Lambda_g"
   ]
  },
  {
   "cell_type": "code",
   "execution_count": 16,
   "id": "fafbb5cd-ce5e-43d3-a9fa-0ca6b0318e8d",
   "metadata": {},
   "outputs": [
    {
     "data": {
      "text/latex": [
       "$\\displaystyle \\frac{\\pi A_{R} C_{L tune} b_{R}^{2} \\rho \\left(\\left(V_{x} - r y_{R}\\right)^{2} + \\left(r x_{R} + v\\right)^{2}\\right) \\left(- A_{R} \\left|{\\frac{\\delta}{\\delta_{lim}}}\\right| + 2 A_{R} + b_{R}^{2} \\left|{\\frac{\\delta}{\\delta_{lim}}}\\right|^{2} - 4 b_{R}^{2} \\left|{\\frac{\\delta}{\\delta_{lim}}}\\right| + 4 b_{R}^{2}\\right) \\sin{\\left(\\delta - \\kappa \\operatorname{atan}{\\left(\\frac{r x_{R} + v}{V_{x} - r y_{R}} \\right)} \\right)}}{\\left(2 A_{R} - b_{R}^{2} \\left|{\\frac{\\delta}{\\delta_{lim}}}\\right| + 2 b_{R}^{2}\\right)^{2}}$"
      ],
      "text/plain": [
       "pi*A_R*C_L_tune*b_R**2*rho*((V_x - r*y_R)**2 + (r*x_R + v)**2)*(-A_R*Abs(delta/delta_lim) + 2*A_R + b_R**2*Abs(delta/delta_lim)**2 - 4*b_R**2*Abs(delta/delta_lim) + 4*b_R**2)*sin(delta - kappa*atan((r*x_R + v)/(V_x - r*y_R)))/(2*A_R - b_R**2*Abs(delta/delta_lim) + 2*b_R**2)**2"
      ]
     },
     "execution_count": 16,
     "metadata": {},
     "output_type": "execute_result"
    }
   ],
   "source": [
    "eqs = [\n",
    "eq_L,\n",
    "eq_C_L,\n",
    "eq_Lambda,\n",
    "eq_Lambda_g,\n",
    "eq_V_R,\n",
    "eq_V_xR_3dof,\n",
    "eq_V_yR_3dof,\n",
    "eq_V_zR_3dof,\n",
    "eq_gamma,\n",
    "]\n",
    "solution_lift = sp.solve(eqs, L, C_L, Lambda, Lambda_g, V_R, V_xR, V_yR, V_zR, gamma, dict=True)[0]\n",
    "solution_lift[L]"
   ]
  },
  {
   "cell_type": "code",
   "execution_count": 17,
   "id": "609d3c60-a284-4c62-800c-0fc95d15a61a",
   "metadata": {},
   "outputs": [
    {
     "data": {
      "text/plain": [
       "dict_keys([C_L, L, Lambda, Lambda_g, V_R, V_xr, V_yr, V_zr, gamma])"
      ]
     },
     "execution_count": 17,
     "metadata": {},
     "output_type": "execute_result"
    }
   ],
   "source": [
    "solution_lift.keys()"
   ]
  },
  {
   "cell_type": "markdown",
   "id": "8aba219f-7e2d-4b42-8357-1d3698bf09d4",
   "metadata": {},
   "source": [
    "### No propeller"
   ]
  },
  {
   "cell_type": "code",
   "execution_count": 18,
   "id": "95c53af2-d7e3-4951-9779-75de52f07524",
   "metadata": {},
   "outputs": [
    {
     "data": {
      "text/latex": [
       "$\\displaystyle V_{x} = u$"
      ],
      "text/plain": [
       "Eq(V_x, u)"
      ]
     },
     "execution_count": 18,
     "metadata": {},
     "output_type": "execute_result"
    }
   ],
   "source": [
    "eq_V_x_no_propeller = sp.Eq(V_x,u)\n",
    "eq_V_x_no_propeller"
   ]
  },
  {
   "cell_type": "code",
   "execution_count": 19,
   "id": "5df2efe1-adab-4d4d-a5ca-60cad196d3ba",
   "metadata": {},
   "outputs": [],
   "source": [
    "solution_no_propeller = deepcopy(solution_lift)"
   ]
  },
  {
   "cell_type": "code",
   "execution_count": 20,
   "id": "03bff2c7-515c-4520-809b-8284466b9625",
   "metadata": {},
   "outputs": [],
   "source": [
    "solution_no_propeller[L] = sp.simplify(solution_lift[L].subs(V_x,eq_V_x_no_propeller.rhs))"
   ]
  },
  {
   "cell_type": "code",
   "execution_count": 21,
   "id": "10988fdc-4a60-4421-8d3a-956030e15398",
   "metadata": {},
   "outputs": [
    {
     "data": {
      "text/latex": [
       "$\\displaystyle \\frac{\\pi A_{R} C_{L tune} b_{R}^{2} \\rho \\left(\\left(r x_{R} + v\\right)^{2} + \\left(r y_{R} - u\\right)^{2}\\right) \\left(- A_{R} \\left|{\\frac{\\delta}{\\delta_{lim}}}\\right| + 2 A_{R} + b_{R}^{2} \\left|{\\frac{\\delta}{\\delta_{lim}}}\\right|^{2} - 4 b_{R}^{2} \\left|{\\frac{\\delta}{\\delta_{lim}}}\\right| + 4 b_{R}^{2}\\right) \\sin{\\left(\\delta + \\kappa \\operatorname{atan}{\\left(\\frac{r x_{R} + v}{r y_{R} - u} \\right)} \\right)}}{\\left(2 A_{R} - b_{R}^{2} \\left|{\\frac{\\delta}{\\delta_{lim}}}\\right| + 2 b_{R}^{2}\\right)^{2}}$"
      ],
      "text/plain": [
       "pi*A_R*C_L_tune*b_R**2*rho*((r*x_R + v)**2 + (r*y_R - u)**2)*(-A_R*Abs(delta/delta_lim) + 2*A_R + b_R**2*Abs(delta/delta_lim)**2 - 4*b_R**2*Abs(delta/delta_lim) + 4*b_R**2)*sin(delta + kappa*atan((r*x_R + v)/(r*y_R - u)))/(2*A_R - b_R**2*Abs(delta/delta_lim) + 2*b_R**2)**2"
      ]
     },
     "execution_count": 21,
     "metadata": {},
     "output_type": "execute_result"
    }
   ],
   "source": [
    "solution_no_propeller[L]"
   ]
  },
  {
   "cell_type": "code",
   "execution_count": 22,
   "id": "cfe25418-19bb-486f-bde3-7193fd51cd02",
   "metadata": {},
   "outputs": [],
   "source": [
    "solution_no_propeller[Y_R] = sp.Eq(Y_R, n_prop*solution_no_propeller[L]).rhs"
   ]
  },
  {
   "cell_type": "code",
   "execution_count": 23,
   "id": "02bc6a69-033e-4986-a959-fe8d49d01ec2",
   "metadata": {},
   "outputs": [],
   "source": [
    "lambdas_no_propeller={key:lambdify(expression) for key,expression in solution_no_propeller.items()}"
   ]
  },
  {
   "cell_type": "code",
   "execution_count": 24,
   "id": "b9f78ffa-7da7-4c7f-bbbb-1f20da8a307a",
   "metadata": {},
   "outputs": [
    {
     "data": {
      "text/plain": [
       "<function _lambdifygenerated(A_R, C_L_tune, b_R, delta, delta_lim, kappa, n_prop, r, rho, u, v, x_R, y_R)>"
      ]
     },
     "execution_count": 24,
     "metadata": {},
     "output_type": "execute_result"
    }
   ],
   "source": [
    "lambdas_no_propeller[Y_R]"
   ]
  },
  {
   "cell_type": "markdown",
   "id": "ef225148-6043-4ebb-b754-9358c75f3c7a",
   "metadata": {},
   "source": [
    "#### Test the function"
   ]
  },
  {
   "cell_type": "code",
   "execution_count": 25,
   "id": "49ab32ed-1e38-4ba0-806e-95815f7995e4",
   "metadata": {},
   "outputs": [],
   "source": [
    "rudder_particulars = {\n",
    "'x_R' : ship_data['x_r'],\n",
    "'y_R' : 0,\n",
    "'z_R' : 0,\n",
    "'A_R' : 70/(ship_data['scale_factor']**2),\n",
    "'b_R'  : 7.18/ship_data['scale_factor'],\n",
    "'n_prop':ship_data['n_prop'],\n",
    "}"
   ]
  },
  {
   "cell_type": "code",
   "execution_count": 26,
   "id": "271d9c01-e859-476e-91ed-3ef5e4aec540",
   "metadata": {},
   "outputs": [],
   "source": [
    "df_rudder = df_VCT.groupby('test type').get_group('Rudder angle').copy()\n",
    "df_rudder.sort_values(by=['V','delta'], inplace=True)\n",
    "rudder_parameters = {\n",
    "\"C_L_tune\" : 1.0,\n",
    "\"delta_lim\": np.deg2rad(35),\n",
    "\"kappa\": 0.5, # (Small value means much flow straightening)\n",
    "}\n",
    "\n",
    "prediction = df_rudder.copy()\n",
    "prediction['fy_rudders'] = run(function=lambdas_no_propeller[Y_R], inputs=df_rudder, **rudder_particulars, **rudder_parameters)\n"
   ]
  },
  {
   "cell_type": "code",
   "execution_count": 27,
   "id": "d376af7f-bc31-4691-bd62-a176e69dd9a1",
   "metadata": {},
   "outputs": [
    {
     "data": {
      "image/png": "[encoded data removed]",
      "text/plain": [
       "<Figure size 640x480 with 1 Axes>"
      ]
     },
     "metadata": {},
     "output_type": "display_data"
    }
   ],
   "source": [
    "fig,ax=plt.subplots()\n",
    "prediction_groups = prediction.groupby(by='V', sort=False)\n",
    "key='fy_rudders'\n",
    "for V_, group in df_rudder.groupby(by='V', sort=False):\n",
    "    plot = group.plot(x='delta', y=key, label=f'V={np.round(V_,1)} m/s (ShipFlow)', style='.:', ax=ax)\n",
    "    color = plot.lines[-1].get_color()\n",
    "    prediction_groups.get_group(V_).plot(x='delta', y=key, label=f'V={np.round(V_,1)} m/s (Lifting line)', color=color, style='-', ax=ax)\n"
   ]
  },
  {
   "cell_type": "markdown",
   "id": "e447ccf9-d019-4106-b090-546eaeab51d3",
   "metadata": {},
   "source": [
    "# Adding propeller influence"
   ]
  },
  {
   "cell_type": "markdown",
   "id": "2353d2cb-c301-42a6-acdc-79807f73ecfd",
   "metadata": {},
   "source": [
    "The flow to the rudder behind a working propeller is influenced by the propeller race. In the model presented below, only the influence on the flow in the x direction is included. The velocity induced by the propeller, is modelled with an ideal propulsor model in potential flow, so that the velocity at the rudder can be expressed as,  "
   ]
  },
  {
   "cell_type": "code",
   "execution_count": 29,
   "id": "63398ead-6872-40b1-95cd-e391d860d8bb",
   "metadata": {},
   "outputs": [
    {
     "data": {
      "text/latex": [
       "$\\displaystyle V_{x} = \\frac{V_{inf} r_{inf}^{2}}{r_{p}^{2}}$"
      ],
      "text/plain": [
       "Eq(V_x, V_inf*r_inf**2/r_p**2)"
      ]
     },
     "execution_count": 29,
     "metadata": {},
     "output_type": "execute_result"
    }
   ],
   "source": [
    "eq_V_x"
   ]
  },
  {
   "cell_type": "markdown",
   "id": "08c41503-ab38-4899-8dd9-c385752b5902",
   "metadata": {},
   "source": [
    "where $V_{inf}$ is the axial flow velocity far downstream of the propeller, which can be calculated from the thrust coefficient $C_{Th}$,"
   ]
  },
  {
   "cell_type": "code",
   "execution_count": 30,
   "id": "f0622a1d-cca9-4466-b84d-70f663132045",
   "metadata": {},
   "outputs": [
    {
     "data": {
      "text/latex": [
       "$\\displaystyle V_{inf} = V_{A} \\sqrt{C_{Th} + 1}$"
      ],
      "text/plain": [
       "Eq(V_inf, V_A*sqrt(C_Th + 1))"
      ]
     },
     "execution_count": 30,
     "metadata": {},
     "output_type": "execute_result"
    }
   ],
   "source": [
    "eq_V_inf"
   ]
  },
  {
   "cell_type": "markdown",
   "id": "c1404adc-f058-4ba2-8330-b37484ad1aca",
   "metadata": {},
   "source": [
    "where the advance velocity $V_A$ is the velocity in the wake of the ship and $C_{Th}$ is the thrust coefficient,"
   ]
  },
  {
   "cell_type": "code",
   "execution_count": 31,
   "id": "b16e6e47-709a-4ee2-8326-ff2f54cf7a86",
   "metadata": {},
   "outputs": [
    {
     "data": {
      "text/latex": [
       "$\\displaystyle V_{A} = u \\left(1 - w_{f}\\right)$"
      ],
      "text/plain": [
       "Eq(V_A, u*(1 - w_f))"
      ]
     },
     "execution_count": 31,
     "metadata": {},
     "output_type": "execute_result"
    }
   ],
   "source": [
    "eq_V_A"
   ]
  },
  {
   "cell_type": "code",
   "execution_count": 32,
   "id": "c2f35f20-9230-414f-9ac9-8525c5909468",
   "metadata": {},
   "outputs": [
    {
     "data": {
      "text/latex": [
       "$\\displaystyle C_{Th} = \\frac{2 T}{\\pi V_{A}^{2} r_{0}^{2} \\rho}$"
      ],
      "text/plain": [
       "Eq(C_Th, 2*T/(pi*V_A**2*r_0**2*rho))"
      ]
     },
     "execution_count": 32,
     "metadata": {},
     "output_type": "execute_result"
    }
   ],
   "source": [
    "eq_C_Th"
   ]
  },
  {
   "cell_type": "markdown",
   "id": "93eeab1a-5431-401c-850d-dd689f9ac7b2",
   "metadata": {},
   "source": [
    "$r_{inf}$ is the he radius of the slipstream far behind the propeller which is calculated as,"
   ]
  },
  {
   "cell_type": "code",
   "execution_count": 33,
   "id": "7366a09e-89d2-4c85-97b6-5830b9be8ba3",
   "metadata": {},
   "outputs": [
    {
     "data": {
      "text/latex": [
       "$\\displaystyle r_{inf} = r_{0} \\sqrt{\\frac{V_{A}}{2 V_{inf}} + \\frac{1}{2}}$"
      ],
      "text/plain": [
       "Eq(r_inf, r_0*sqrt(V_A/(2*V_inf) + 1/2))"
      ]
     },
     "execution_count": 33,
     "metadata": {},
     "output_type": "execute_result"
    }
   ],
   "source": [
    "eq_r_inf"
   ]
  },
  {
   "cell_type": "markdown",
   "id": "f6d0ce42-8044-4c70-b91d-ced140765909",
   "metadata": {},
   "source": [
    "where $r_0$ is the propeller radius."
   ]
  },
  {
   "cell_type": "markdown",
   "id": "ca298101-ab95-45bd-a16c-1dbd599f0f9d",
   "metadata": {},
   "source": [
    "Since there the rudder is not positioned right on the propeller disk, this means that the axial distance between the propeller and the rudder should be accounted for. The radius of the propeller slip stream $r_p$ at a downstream distance $x$ between the propeller and rudder can be estimated by,"
   ]
  },
  {
   "cell_type": "code",
   "execution_count": 34,
   "id": "cff3391c-ca6f-4bb0-a2c9-a813cb70d3b8",
   "metadata": {},
   "outputs": [
    {
     "data": {
      "text/latex": [
       "$\\displaystyle r_{p} = \\frac{r_{0} \\left(\\frac{r_{inf} \\left(\\frac{x}{r_{0}}\\right)^{1.5}}{r_{0}} + \\frac{0.14 r_{inf}^{3}}{r_{0}^{3}}\\right)}{\\left(\\frac{x}{r_{0}}\\right)^{1.5} + \\frac{0.002744 r_{inf}^{3}}{r_{0}^{3}}}$"
      ],
      "text/plain": [
       "Eq(r_p, r_0*(r_inf*(x/r_0)**1.5/r_0 + 0.14*r_inf**3/r_0**3)/((x/r_0)**1.5 + 0.002744*r_inf**3/r_0**3))"
      ]
     },
     "execution_count": 34,
     "metadata": {},
     "output_type": "execute_result"
    }
   ],
   "source": [
    "eq_r"
   ]
  },
  {
   "cell_type": "markdown",
   "id": "88fb84af-7646-4e93-8814-685e2f5f476d",
   "metadata": {},
   "source": [
    "Turbulent mixing of the water jet and surrounding flow increases the radius of the slipstream by $\\Delta r$, so that a corrected $V_x$, $V_xcorr$ can be expressed as,"
   ]
  },
  {
   "cell_type": "code",
   "execution_count": 35,
   "id": "ed8ff929-a4b9-4129-aeb2-1b51c17e078b",
   "metadata": {},
   "outputs": [
    {
     "data": {
      "text/latex": [
       "$\\displaystyle V_{xcorr} = V_{A} + \\frac{r_{p} \\left(- V_{A} + V_{x}\\right)}{r_{\\Delta} + r_{p}}$"
      ],
      "text/plain": [
       "Eq(V_xcorr, V_A + r_p*(-V_A + V_x)/(r_Delta + r_p))"
      ]
     },
     "execution_count": 35,
     "metadata": {},
     "output_type": "execute_result"
    }
   ],
   "source": [
    "eq_V_x_corr"
   ]
  },
  {
   "cell_type": "code",
   "execution_count": 36,
   "id": "a8b171c0-e205-4a3d-adbf-b7ca402e86da",
   "metadata": {},
   "outputs": [
    {
     "data": {
      "text/latex": [
       "$\\displaystyle r_{\\Delta} = \\frac{0.15 x \\left(- V_{A} + V_{x}\\right)}{V_{A} + V_{x}}$"
      ],
      "text/plain": [
       "Eq(r_Delta, 0.15*x*(-V_A + V_x)/(V_A + V_x))"
      ]
     },
     "execution_count": 36,
     "metadata": {},
     "output_type": "execute_result"
    }
   ],
   "source": [
    "eq_r_Delta"
   ]
  },
  {
   "cell_type": "code",
   "execution_count": 37,
   "id": "6916631d-1000-4304-87a5-6c5ff133c282",
   "metadata": {},
   "outputs": [
    {
     "data": {
      "text/latex": [
       "$\\displaystyle r_{\\Delta} = \\frac{0.15 x \\left(- V_{A} + V_{x}\\right)}{V_{A} + V_{x}}$"
      ],
      "text/plain": [
       "Eq(r_Delta, 0.15*x*(-V_A + V_x)/(V_A + V_x))"
      ]
     },
     "execution_count": 37,
     "metadata": {},
     "output_type": "execute_result"
    }
   ],
   "source": [
    "eq_r_Delta"
   ]
  },
  {
   "cell_type": "code",
   "execution_count": 38,
   "id": "4f27c09f-3e63-4ee1-8b58-81e6acba482c",
   "metadata": {},
   "outputs": [],
   "source": [
    "eqs = [\n",
    "eq_V_x,\n",
    "eq_r,\n",
    "eq_r_inf,\n",
    "]\n",
    "solution_propeller = sp.solve(eqs,  V_x, r_p, r_inf, dict=True)[0]\n",
    "solution_propeller[V_x] = sp.simplify(solution_propeller[V_x].subs(V_inf, eq_V_inf.rhs))"
   ]
  },
  {
   "cell_type": "code",
   "execution_count": 39,
   "id": "cef7828d-44e4-4f71-b6ba-0efa06ac88d8",
   "metadata": {},
   "outputs": [],
   "source": [
    "solution_propeller[V_x] = sp.simplify(solution_propeller[V_x].subs([\n",
    "(C_Th, eq_C_Th.rhs),\n",
    "]))"
   ]
  },
  {
   "cell_type": "code",
   "execution_count": 40,
   "id": "85ae579d-7a19-403f-a5a7-1ffa6b9163d5",
   "metadata": {},
   "outputs": [],
   "source": [
    "solution_propeller[V_x] = solution_propeller[V_x].subs([\n",
    "(V_A, eq_V_A.rhs),\n",
    "])\n"
   ]
  },
  {
   "cell_type": "code",
   "execution_count": 46,
   "id": "8dd99c88-271c-4f71-a0ed-51647591c81f",
   "metadata": {},
   "outputs": [
    {
     "data": {
      "text/html": [
       "<pre style=\"white-space:pre;overflow-x:auto;line-height:normal;font-family:Menlo,'DejaVu Sans Mono',consolas,'Courier New',monospace\"><span style=\"color: #800000; text-decoration-color: #800000\">╭─────────────────────────────── </span><span style=\"color: #800000; text-decoration-color: #800000; font-weight: bold\">Traceback </span><span style=\"color: #bf7f7f; text-decoration-color: #bf7f7f; font-weight: bold\">(most recent call last)</span><span style=\"color: #800000; text-decoration-color: #800000\"> ────────────────────────────────╮</span>\n",
       "<span style=\"color: #800000; text-decoration-color: #800000\">│</span> in <span style=\"color: #00ff00; text-decoration-color: #00ff00\">&lt;module&gt;</span>:<span style=\"color: #0000ff; text-decoration-color: #0000ff\">1</span>                                                                                    <span style=\"color: #800000; text-decoration-color: #800000\">│</span>\n",
       "<span style=\"color: #800000; text-decoration-color: #800000\">│</span>                                                                                                  <span style=\"color: #800000; text-decoration-color: #800000\">│</span>\n",
       "<span style=\"color: #800000; text-decoration-color: #800000\">│</span> <span style=\"color: #800000; text-decoration-color: #800000\">❱ </span>1 solution_propeller[V_xcorr] = sp.simplify(eq_V_x_corr.subs([                                 <span style=\"color: #800000; text-decoration-color: #800000\">│</span>\n",
       "<span style=\"color: #800000; text-decoration-color: #800000\">│</span>   <span style=\"color: #7f7f7f; text-decoration-color: #7f7f7f\">2 </span>(r_Delta, eq_r_Delta.rhs),                                                                   <span style=\"color: #800000; text-decoration-color: #800000\">│</span>\n",
       "<span style=\"color: #800000; text-decoration-color: #800000\">│</span>   <span style=\"color: #7f7f7f; text-decoration-color: #7f7f7f\">3 </span>(r_p, eq_r.rhs),                                                                             <span style=\"color: #800000; text-decoration-color: #800000\">│</span>\n",
       "<span style=\"color: #800000; text-decoration-color: #800000\">│</span>   <span style=\"color: #7f7f7f; text-decoration-color: #7f7f7f\">4 </span>(r_inf, solution_propeller[r_inf]),                                                          <span style=\"color: #800000; text-decoration-color: #800000\">│</span>\n",
       "<span style=\"color: #800000; text-decoration-color: #800000\">│</span>                                                                                                  <span style=\"color: #800000; text-decoration-color: #800000\">│</span>\n",
       "<span style=\"color: #800000; text-decoration-color: #800000\">│</span> <span style=\"color: #bfbf7f; text-decoration-color: #bfbf7f\">/home/maa/anaconda3/envs/phd/lib/python3.10/site-packages/sympy/simplify/</span><span style=\"color: #808000; text-decoration-color: #808000; font-weight: bold\">simplify.py</span>:<span style=\"color: #0000ff; text-decoration-color: #0000ff\">601</span> in      <span style=\"color: #800000; text-decoration-color: #800000\">│</span>\n",
       "<span style=\"color: #800000; text-decoration-color: #800000\">│</span> <span style=\"color: #00ff00; text-decoration-color: #00ff00\">simplify</span>                                                                                         <span style=\"color: #800000; text-decoration-color: #800000\">│</span>\n",
       "<span style=\"color: #800000; text-decoration-color: #800000\">│</span>                                                                                                  <span style=\"color: #800000; text-decoration-color: #800000\">│</span>\n",
       "<span style=\"color: #800000; text-decoration-color: #800000\">│</span>   <span style=\"color: #7f7f7f; text-decoration-color: #7f7f7f\"> 598 │   </span>                                                                                      <span style=\"color: #800000; text-decoration-color: #800000\">│</span>\n",
       "<span style=\"color: #800000; text-decoration-color: #800000\">│</span>   <span style=\"color: #7f7f7f; text-decoration-color: #7f7f7f\"> 599 │   </span>_eval_simplify = <span style=\"color: #00ffff; text-decoration-color: #00ffff\">getattr</span>(expr, <span style=\"color: #808000; text-decoration-color: #808000\">'_eval_simplify'</span>, <span style=\"color: #0000ff; text-decoration-color: #0000ff\">None</span>)                                <span style=\"color: #800000; text-decoration-color: #800000\">│</span>\n",
       "<span style=\"color: #800000; text-decoration-color: #800000\">│</span>   <span style=\"color: #7f7f7f; text-decoration-color: #7f7f7f\"> 600 │   </span><span style=\"color: #0000ff; text-decoration-color: #0000ff\">if</span> _eval_simplify <span style=\"color: #ff00ff; text-decoration-color: #ff00ff\">is</span> <span style=\"color: #ff00ff; text-decoration-color: #ff00ff\">not</span> <span style=\"color: #0000ff; text-decoration-color: #0000ff\">None</span>:                                                        <span style=\"color: #800000; text-decoration-color: #800000\">│</span>\n",
       "<span style=\"color: #800000; text-decoration-color: #800000\">│</span> <span style=\"color: #800000; text-decoration-color: #800000\">❱ </span> 601 <span style=\"color: #7f7f7f; text-decoration-color: #7f7f7f\">│   │   </span><span style=\"color: #0000ff; text-decoration-color: #0000ff\">return</span> _eval_simplify(**kwargs)                                                   <span style=\"color: #800000; text-decoration-color: #800000\">│</span>\n",
       "<span style=\"color: #800000; text-decoration-color: #800000\">│</span>   <span style=\"color: #7f7f7f; text-decoration-color: #7f7f7f\"> 602 │   </span>                                                                                      <span style=\"color: #800000; text-decoration-color: #800000\">│</span>\n",
       "<span style=\"color: #800000; text-decoration-color: #800000\">│</span>   <span style=\"color: #7f7f7f; text-decoration-color: #7f7f7f\"> 603 │   </span>original_expr = expr = collect_abs(signsimp(expr))                                    <span style=\"color: #800000; text-decoration-color: #800000\">│</span>\n",
       "<span style=\"color: #800000; text-decoration-color: #800000\">│</span>   <span style=\"color: #7f7f7f; text-decoration-color: #7f7f7f\"> 604 </span>                                                                                          <span style=\"color: #800000; text-decoration-color: #800000\">│</span>\n",
       "<span style=\"color: #800000; text-decoration-color: #800000\">│</span>                                                                                                  <span style=\"color: #800000; text-decoration-color: #800000\">│</span>\n",
       "<span style=\"color: #800000; text-decoration-color: #800000\">│</span> <span style=\"color: #bfbf7f; text-decoration-color: #bfbf7f\">/home/maa/anaconda3/envs/phd/lib/python3.10/site-packages/sympy/core/</span><span style=\"color: #808000; text-decoration-color: #808000; font-weight: bold\">relational.py</span>:<span style=\"color: #0000ff; text-decoration-color: #0000ff\">691</span> in        <span style=\"color: #800000; text-decoration-color: #800000\">│</span>\n",
       "<span style=\"color: #800000; text-decoration-color: #800000\">│</span> <span style=\"color: #00ff00; text-decoration-color: #00ff00\">_eval_simplify</span>                                                                                   <span style=\"color: #800000; text-decoration-color: #800000\">│</span>\n",
       "<span style=\"color: #800000; text-decoration-color: #800000\">│</span>                                                                                                  <span style=\"color: #800000; text-decoration-color: #800000\">│</span>\n",
       "<span style=\"color: #800000; text-decoration-color: #800000\">│</span>   <span style=\"color: #7f7f7f; text-decoration-color: #7f7f7f\"> 688 │   </span>                                                                                      <span style=\"color: #800000; text-decoration-color: #800000\">│</span>\n",
       "<span style=\"color: #800000; text-decoration-color: #800000\">│</span>   <span style=\"color: #7f7f7f; text-decoration-color: #7f7f7f\"> 689 │   </span><span style=\"color: #0000ff; text-decoration-color: #0000ff\">def</span> <span style=\"color: #00ff00; text-decoration-color: #00ff00\">_eval_simplify</span>(<span style=\"color: #00ffff; text-decoration-color: #00ffff\">self</span>, **kwargs):                                                   <span style=\"color: #800000; text-decoration-color: #800000\">│</span>\n",
       "<span style=\"color: #800000; text-decoration-color: #800000\">│</span>   <span style=\"color: #7f7f7f; text-decoration-color: #7f7f7f\"> 690 │   │   # standard simplify</span>                                                               <span style=\"color: #800000; text-decoration-color: #800000\">│</span>\n",
       "<span style=\"color: #800000; text-decoration-color: #800000\">│</span> <span style=\"color: #800000; text-decoration-color: #800000\">❱ </span> 691 <span style=\"color: #7f7f7f; text-decoration-color: #7f7f7f\">│   │   </span>e = <span style=\"color: #00ffff; text-decoration-color: #00ffff\">super</span>()._eval_simplify(**kwargs)                                              <span style=\"color: #800000; text-decoration-color: #800000\">│</span>\n",
       "<span style=\"color: #800000; text-decoration-color: #800000\">│</span>   <span style=\"color: #7f7f7f; text-decoration-color: #7f7f7f\"> 692 │   │   </span><span style=\"color: #0000ff; text-decoration-color: #0000ff\">if</span> <span style=\"color: #ff00ff; text-decoration-color: #ff00ff\">not</span> <span style=\"color: #00ffff; text-decoration-color: #00ffff\">isinstance</span>(e, Equality):                                                   <span style=\"color: #800000; text-decoration-color: #800000\">│</span>\n",
       "<span style=\"color: #800000; text-decoration-color: #800000\">│</span>   <span style=\"color: #7f7f7f; text-decoration-color: #7f7f7f\"> 693 │   │   │   </span><span style=\"color: #0000ff; text-decoration-color: #0000ff\">return</span> e                                                                      <span style=\"color: #800000; text-decoration-color: #800000\">│</span>\n",
       "<span style=\"color: #800000; text-decoration-color: #800000\">│</span>   <span style=\"color: #7f7f7f; text-decoration-color: #7f7f7f\"> 694 │   │   </span><span style=\"color: #0000ff; text-decoration-color: #0000ff\">from</span> <span style=\"color: #00ffff; text-decoration-color: #00ffff; text-decoration: underline\">.expr</span> <span style=\"color: #0000ff; text-decoration-color: #0000ff\">import</span> Expr                                                            <span style=\"color: #800000; text-decoration-color: #800000\">│</span>\n",
       "<span style=\"color: #800000; text-decoration-color: #800000\">│</span>                                                                                                  <span style=\"color: #800000; text-decoration-color: #800000\">│</span>\n",
       "<span style=\"color: #800000; text-decoration-color: #800000\">│</span> <span style=\"color: #bfbf7f; text-decoration-color: #bfbf7f\">/home/maa/anaconda3/envs/phd/lib/python3.10/site-packages/sympy/core/</span><span style=\"color: #808000; text-decoration-color: #808000; font-weight: bold\">relational.py</span>:<span style=\"color: #0000ff; text-decoration-color: #0000ff\">419</span> in        <span style=\"color: #800000; text-decoration-color: #800000\">│</span>\n",
       "<span style=\"color: #800000; text-decoration-color: #800000\">│</span> <span style=\"color: #00ff00; text-decoration-color: #00ff00\">_eval_simplify</span>                                                                                   <span style=\"color: #800000; text-decoration-color: #800000\">│</span>\n",
       "<span style=\"color: #800000; text-decoration-color: #800000\">│</span>                                                                                                  <span style=\"color: #800000; text-decoration-color: #800000\">│</span>\n",
       "<span style=\"color: #800000; text-decoration-color: #800000\">│</span>   <span style=\"color: #7f7f7f; text-decoration-color: #7f7f7f\"> 416 │   │   </span><span style=\"color: #0000ff; text-decoration-color: #0000ff\">from</span> <span style=\"color: #00ffff; text-decoration-color: #00ffff; text-decoration: underline\">.add</span> <span style=\"color: #0000ff; text-decoration-color: #0000ff\">import</span> Add                                                              <span style=\"color: #800000; text-decoration-color: #800000\">│</span>\n",
       "<span style=\"color: #800000; text-decoration-color: #800000\">│</span>   <span style=\"color: #7f7f7f; text-decoration-color: #7f7f7f\"> 417 │   │   </span><span style=\"color: #0000ff; text-decoration-color: #0000ff\">from</span> <span style=\"color: #00ffff; text-decoration-color: #00ffff; text-decoration: underline\">.expr</span> <span style=\"color: #0000ff; text-decoration-color: #0000ff\">import</span> Expr                                                            <span style=\"color: #800000; text-decoration-color: #800000\">│</span>\n",
       "<span style=\"color: #800000; text-decoration-color: #800000\">│</span>   <span style=\"color: #7f7f7f; text-decoration-color: #7f7f7f\"> 418 │   │   </span>r = <span style=\"color: #00ffff; text-decoration-color: #00ffff\">self</span>                                                                          <span style=\"color: #800000; text-decoration-color: #800000\">│</span>\n",
       "<span style=\"color: #800000; text-decoration-color: #800000\">│</span> <span style=\"color: #800000; text-decoration-color: #800000\">❱ </span> 419 <span style=\"color: #7f7f7f; text-decoration-color: #7f7f7f\">│   │   </span>r = r.func(*[i.simplify(**kwargs) <span style=\"color: #0000ff; text-decoration-color: #0000ff\">for</span> i <span style=\"color: #ff00ff; text-decoration-color: #ff00ff\">in</span> r.args])                               <span style=\"color: #800000; text-decoration-color: #800000\">│</span>\n",
       "<span style=\"color: #800000; text-decoration-color: #800000\">│</span>   <span style=\"color: #7f7f7f; text-decoration-color: #7f7f7f\"> 420 │   │   </span><span style=\"color: #0000ff; text-decoration-color: #0000ff\">if</span> r.is_Relational:                                                               <span style=\"color: #800000; text-decoration-color: #800000\">│</span>\n",
       "<span style=\"color: #800000; text-decoration-color: #800000\">│</span>   <span style=\"color: #7f7f7f; text-decoration-color: #7f7f7f\"> 421 │   │   │   </span><span style=\"color: #0000ff; text-decoration-color: #0000ff\">if</span> <span style=\"color: #ff00ff; text-decoration-color: #ff00ff\">not</span> <span style=\"color: #00ffff; text-decoration-color: #00ffff\">isinstance</span>(r.lhs, Expr) <span style=\"color: #ff00ff; text-decoration-color: #ff00ff\">or</span> <span style=\"color: #ff00ff; text-decoration-color: #ff00ff\">not</span> <span style=\"color: #00ffff; text-decoration-color: #00ffff\">isinstance</span>(r.rhs, Expr):                <span style=\"color: #800000; text-decoration-color: #800000\">│</span>\n",
       "<span style=\"color: #800000; text-decoration-color: #800000\">│</span>   <span style=\"color: #7f7f7f; text-decoration-color: #7f7f7f\"> 422 │   │   │   │   </span><span style=\"color: #0000ff; text-decoration-color: #0000ff\">return</span> r                                                                  <span style=\"color: #800000; text-decoration-color: #800000\">│</span>\n",
       "<span style=\"color: #800000; text-decoration-color: #800000\">│</span>                                                                                                  <span style=\"color: #800000; text-decoration-color: #800000\">│</span>\n",
       "<span style=\"color: #800000; text-decoration-color: #800000\">│</span> <span style=\"color: #bfbf7f; text-decoration-color: #bfbf7f\">/home/maa/anaconda3/envs/phd/lib/python3.10/site-packages/sympy/core/</span><span style=\"color: #808000; text-decoration-color: #808000; font-weight: bold\">relational.py</span>:<span style=\"color: #0000ff; text-decoration-color: #0000ff\">419</span> in        <span style=\"color: #800000; text-decoration-color: #800000\">│</span>\n",
       "<span style=\"color: #800000; text-decoration-color: #800000\">│</span> <span style=\"color: #00ff00; text-decoration-color: #00ff00\">&lt;listcomp&gt;</span>                                                                                       <span style=\"color: #800000; text-decoration-color: #800000\">│</span>\n",
       "<span style=\"color: #800000; text-decoration-color: #800000\">│</span>                                                                                                  <span style=\"color: #800000; text-decoration-color: #800000\">│</span>\n",
       "<span style=\"color: #800000; text-decoration-color: #800000\">│</span>   <span style=\"color: #7f7f7f; text-decoration-color: #7f7f7f\"> 416 │   │   </span><span style=\"color: #0000ff; text-decoration-color: #0000ff\">from</span> <span style=\"color: #00ffff; text-decoration-color: #00ffff; text-decoration: underline\">.add</span> <span style=\"color: #0000ff; text-decoration-color: #0000ff\">import</span> Add                                                              <span style=\"color: #800000; text-decoration-color: #800000\">│</span>\n",
       "<span style=\"color: #800000; text-decoration-color: #800000\">│</span>   <span style=\"color: #7f7f7f; text-decoration-color: #7f7f7f\"> 417 │   │   </span><span style=\"color: #0000ff; text-decoration-color: #0000ff\">from</span> <span style=\"color: #00ffff; text-decoration-color: #00ffff; text-decoration: underline\">.expr</span> <span style=\"color: #0000ff; text-decoration-color: #0000ff\">import</span> Expr                                                            <span style=\"color: #800000; text-decoration-color: #800000\">│</span>\n",
       "<span style=\"color: #800000; text-decoration-color: #800000\">│</span>   <span style=\"color: #7f7f7f; text-decoration-color: #7f7f7f\"> 418 │   │   </span>r = <span style=\"color: #00ffff; text-decoration-color: #00ffff\">self</span>                                                                          <span style=\"color: #800000; text-decoration-color: #800000\">│</span>\n",
       "<span style=\"color: #800000; text-decoration-color: #800000\">│</span> <span style=\"color: #800000; text-decoration-color: #800000\">❱ </span> 419 <span style=\"color: #7f7f7f; text-decoration-color: #7f7f7f\">│   │   </span>r = r.func(*[i.simplify(**kwargs) <span style=\"color: #0000ff; text-decoration-color: #0000ff\">for</span> i <span style=\"color: #ff00ff; text-decoration-color: #ff00ff\">in</span> r.args])                               <span style=\"color: #800000; text-decoration-color: #800000\">│</span>\n",
       "<span style=\"color: #800000; text-decoration-color: #800000\">│</span>   <span style=\"color: #7f7f7f; text-decoration-color: #7f7f7f\"> 420 │   │   </span><span style=\"color: #0000ff; text-decoration-color: #0000ff\">if</span> r.is_Relational:                                                               <span style=\"color: #800000; text-decoration-color: #800000\">│</span>\n",
       "<span style=\"color: #800000; text-decoration-color: #800000\">│</span>   <span style=\"color: #7f7f7f; text-decoration-color: #7f7f7f\"> 421 │   │   │   </span><span style=\"color: #0000ff; text-decoration-color: #0000ff\">if</span> <span style=\"color: #ff00ff; text-decoration-color: #ff00ff\">not</span> <span style=\"color: #00ffff; text-decoration-color: #00ffff\">isinstance</span>(r.lhs, Expr) <span style=\"color: #ff00ff; text-decoration-color: #ff00ff\">or</span> <span style=\"color: #ff00ff; text-decoration-color: #ff00ff\">not</span> <span style=\"color: #00ffff; text-decoration-color: #00ffff\">isinstance</span>(r.rhs, Expr):                <span style=\"color: #800000; text-decoration-color: #800000\">│</span>\n",
       "<span style=\"color: #800000; text-decoration-color: #800000\">│</span>   <span style=\"color: #7f7f7f; text-decoration-color: #7f7f7f\"> 422 │   │   │   │   </span><span style=\"color: #0000ff; text-decoration-color: #0000ff\">return</span> r                                                                  <span style=\"color: #800000; text-decoration-color: #800000\">│</span>\n",
       "<span style=\"color: #800000; text-decoration-color: #800000\">│</span>                                                                                                  <span style=\"color: #800000; text-decoration-color: #800000\">│</span>\n",
       "<span style=\"color: #800000; text-decoration-color: #800000\">│</span> <span style=\"color: #bfbf7f; text-decoration-color: #bfbf7f\">/home/maa/anaconda3/envs/phd/lib/python3.10/site-packages/sympy/core/</span><span style=\"color: #808000; text-decoration-color: #808000; font-weight: bold\">basic.py</span>:<span style=\"color: #0000ff; text-decoration-color: #0000ff\">1767</span> in <span style=\"color: #00ff00; text-decoration-color: #00ff00\">simplify</span>   <span style=\"color: #800000; text-decoration-color: #800000\">│</span>\n",
       "<span style=\"color: #800000; text-decoration-color: #800000\">│</span>                                                                                                  <span style=\"color: #800000; text-decoration-color: #800000\">│</span>\n",
       "<span style=\"color: #800000; text-decoration-color: #800000\">│</span>   <span style=\"color: #7f7f7f; text-decoration-color: #7f7f7f\">1764 │   </span><span style=\"color: #0000ff; text-decoration-color: #0000ff\">def</span> <span style=\"color: #00ff00; text-decoration-color: #00ff00\">simplify</span>(<span style=\"color: #00ffff; text-decoration-color: #00ffff\">self</span>, **kwargs):                                                         <span style=\"color: #800000; text-decoration-color: #800000\">│</span>\n",
       "<span style=\"color: #800000; text-decoration-color: #800000\">│</span>   <span style=\"color: #7f7f7f; text-decoration-color: #7f7f7f\">1765 </span><span style=\"color: #bfbfbf; text-decoration-color: #bfbfbf\">│   │   </span><span style=\"color: #808000; text-decoration-color: #808000\">\"\"\"See the simplify function in sympy.simplify\"\"\"</span>                                 <span style=\"color: #800000; text-decoration-color: #800000\">│</span>\n",
       "<span style=\"color: #800000; text-decoration-color: #800000\">│</span>   <span style=\"color: #7f7f7f; text-decoration-color: #7f7f7f\">1766 │   │   </span><span style=\"color: #0000ff; text-decoration-color: #0000ff\">from</span> <span style=\"color: #00ffff; text-decoration-color: #00ffff; text-decoration: underline\">sympy.simplify.simplify</span> <span style=\"color: #0000ff; text-decoration-color: #0000ff\">import</span> simplify                                      <span style=\"color: #800000; text-decoration-color: #800000\">│</span>\n",
       "<span style=\"color: #800000; text-decoration-color: #800000\">│</span> <span style=\"color: #800000; text-decoration-color: #800000\">❱ </span>1767 <span style=\"color: #7f7f7f; text-decoration-color: #7f7f7f\">│   │   </span><span style=\"color: #0000ff; text-decoration-color: #0000ff\">return</span> simplify(<span style=\"color: #00ffff; text-decoration-color: #00ffff\">self</span>, **kwargs)                                                   <span style=\"color: #800000; text-decoration-color: #800000\">│</span>\n",
       "<span style=\"color: #800000; text-decoration-color: #800000\">│</span>   <span style=\"color: #7f7f7f; text-decoration-color: #7f7f7f\">1768 │   </span>                                                                                      <span style=\"color: #800000; text-decoration-color: #800000\">│</span>\n",
       "<span style=\"color: #800000; text-decoration-color: #800000\">│</span>   <span style=\"color: #7f7f7f; text-decoration-color: #7f7f7f\">1769 │   </span><span style=\"color: #0000ff; text-decoration-color: #0000ff\">def</span> <span style=\"color: #00ff00; text-decoration-color: #00ff00\">refine</span>(<span style=\"color: #00ffff; text-decoration-color: #00ffff\">self</span>, assumption=<span style=\"color: #0000ff; text-decoration-color: #0000ff\">True</span>):                                                    <span style=\"color: #800000; text-decoration-color: #800000\">│</span>\n",
       "<span style=\"color: #800000; text-decoration-color: #800000\">│</span>   <span style=\"color: #7f7f7f; text-decoration-color: #7f7f7f\">1770 </span><span style=\"color: #bfbfbf; text-decoration-color: #bfbfbf\">│   │   </span><span style=\"color: #808000; text-decoration-color: #808000\">\"\"\"See the refine function in sympy.assumptions\"\"\"</span>                                <span style=\"color: #800000; text-decoration-color: #800000\">│</span>\n",
       "<span style=\"color: #800000; text-decoration-color: #800000\">│</span>                                                                                                  <span style=\"color: #800000; text-decoration-color: #800000\">│</span>\n",
       "<span style=\"color: #800000; text-decoration-color: #800000\">│</span> <span style=\"color: #bfbf7f; text-decoration-color: #bfbf7f\">/home/maa/anaconda3/envs/phd/lib/python3.10/site-packages/sympy/simplify/</span><span style=\"color: #808000; text-decoration-color: #808000; font-weight: bold\">simplify.py</span>:<span style=\"color: #0000ff; text-decoration-color: #0000ff\">645</span> in      <span style=\"color: #800000; text-decoration-color: #800000\">│</span>\n",
       "<span style=\"color: #800000; text-decoration-color: #800000\">│</span> <span style=\"color: #00ff00; text-decoration-color: #00ff00\">simplify</span>                                                                                         <span style=\"color: #800000; text-decoration-color: #800000\">│</span>\n",
       "<span style=\"color: #800000; text-decoration-color: #800000\">│</span>                                                                                                  <span style=\"color: #800000; text-decoration-color: #800000\">│</span>\n",
       "<span style=\"color: #800000; text-decoration-color: #800000\">│</span>   <span style=\"color: #7f7f7f; text-decoration-color: #7f7f7f\"> 642 │   </span>expr = _bottom_up(expr, <span style=\"color: #0000ff; text-decoration-color: #0000ff\">lambda</span> w: <span style=\"color: #00ffff; text-decoration-color: #00ffff\">getattr</span>(w, <span style=\"color: #808000; text-decoration-color: #808000\">'normal'</span>, <span style=\"color: #0000ff; text-decoration-color: #0000ff\">lambda</span>: w)())                  <span style=\"color: #800000; text-decoration-color: #800000\">│</span>\n",
       "<span style=\"color: #800000; text-decoration-color: #800000\">│</span>   <span style=\"color: #7f7f7f; text-decoration-color: #7f7f7f\"> 643 │   </span>expr = Mul(*powsimp(expr).as_content_primitive())                                     <span style=\"color: #800000; text-decoration-color: #800000\">│</span>\n",
       "<span style=\"color: #800000; text-decoration-color: #800000\">│</span>   <span style=\"color: #7f7f7f; text-decoration-color: #7f7f7f\"> 644 │   </span>_e = cancel(expr)                                                                     <span style=\"color: #800000; text-decoration-color: #800000\">│</span>\n",
       "<span style=\"color: #800000; text-decoration-color: #800000\">│</span> <span style=\"color: #800000; text-decoration-color: #800000\">❱ </span> 645 <span style=\"color: #7f7f7f; text-decoration-color: #7f7f7f\">│   </span>expr1 = shorter(_e, _mexpand(_e).cancel())  <span style=\"color: #7f7f7f; text-decoration-color: #7f7f7f\"># issue 6829</span>                              <span style=\"color: #800000; text-decoration-color: #800000\">│</span>\n",
       "<span style=\"color: #800000; text-decoration-color: #800000\">│</span>   <span style=\"color: #7f7f7f; text-decoration-color: #7f7f7f\"> 646 │   </span>expr2 = shorter(together(expr, deep=<span style=\"color: #0000ff; text-decoration-color: #0000ff\">True</span>), together(expr1, deep=<span style=\"color: #0000ff; text-decoration-color: #0000ff\">True</span>))                <span style=\"color: #800000; text-decoration-color: #800000\">│</span>\n",
       "<span style=\"color: #800000; text-decoration-color: #800000\">│</span>   <span style=\"color: #7f7f7f; text-decoration-color: #7f7f7f\"> 647 │   </span>                                                                                      <span style=\"color: #800000; text-decoration-color: #800000\">│</span>\n",
       "<span style=\"color: #800000; text-decoration-color: #800000\">│</span>   <span style=\"color: #7f7f7f; text-decoration-color: #7f7f7f\"> 648 │   </span><span style=\"color: #0000ff; text-decoration-color: #0000ff\">if</span> ratio <span style=\"color: #ff00ff; text-decoration-color: #ff00ff\">is</span> S.Infinity:                                                               <span style=\"color: #800000; text-decoration-color: #800000\">│</span>\n",
       "<span style=\"color: #800000; text-decoration-color: #800000\">│</span>                                                                                                  <span style=\"color: #800000; text-decoration-color: #800000\">│</span>\n",
       "<span style=\"color: #800000; text-decoration-color: #800000\">│</span> <span style=\"color: #bfbf7f; text-decoration-color: #bfbf7f\">/home/maa/anaconda3/envs/phd/lib/python3.10/site-packages/sympy/core/</span><span style=\"color: #808000; text-decoration-color: #808000; font-weight: bold\">expr.py</span>:<span style=\"color: #0000ff; text-decoration-color: #0000ff\">3760</span> in <span style=\"color: #00ff00; text-decoration-color: #00ff00\">cancel</span>      <span style=\"color: #800000; text-decoration-color: #800000\">│</span>\n",
       "<span style=\"color: #800000; text-decoration-color: #800000\">│</span>                                                                                                  <span style=\"color: #800000; text-decoration-color: #800000\">│</span>\n",
       "<span style=\"color: #800000; text-decoration-color: #800000\">│</span>   <span style=\"color: #7f7f7f; text-decoration-color: #7f7f7f\">3757 │   </span><span style=\"color: #0000ff; text-decoration-color: #0000ff\">def</span> <span style=\"color: #00ff00; text-decoration-color: #00ff00\">cancel</span>(<span style=\"color: #00ffff; text-decoration-color: #00ffff\">self</span>, *gens, **args):                                                      <span style=\"color: #800000; text-decoration-color: #800000\">│</span>\n",
       "<span style=\"color: #800000; text-decoration-color: #800000\">│</span>   <span style=\"color: #7f7f7f; text-decoration-color: #7f7f7f\">3758 </span><span style=\"color: #bfbfbf; text-decoration-color: #bfbfbf\">│   │   </span><span style=\"color: #808000; text-decoration-color: #808000\">\"\"\"See the cancel function in sympy.polys\"\"\"</span>                                      <span style=\"color: #800000; text-decoration-color: #800000\">│</span>\n",
       "<span style=\"color: #800000; text-decoration-color: #800000\">│</span>   <span style=\"color: #7f7f7f; text-decoration-color: #7f7f7f\">3759 │   │   </span><span style=\"color: #0000ff; text-decoration-color: #0000ff\">from</span> <span style=\"color: #00ffff; text-decoration-color: #00ffff; text-decoration: underline\">sympy.polys.polytools</span> <span style=\"color: #0000ff; text-decoration-color: #0000ff\">import</span> cancel                                          <span style=\"color: #800000; text-decoration-color: #800000\">│</span>\n",
       "<span style=\"color: #800000; text-decoration-color: #800000\">│</span> <span style=\"color: #800000; text-decoration-color: #800000\">❱ </span>3760 <span style=\"color: #7f7f7f; text-decoration-color: #7f7f7f\">│   │   </span><span style=\"color: #0000ff; text-decoration-color: #0000ff\">return</span> cancel(<span style=\"color: #00ffff; text-decoration-color: #00ffff\">self</span>, *gens, **args)                                                <span style=\"color: #800000; text-decoration-color: #800000\">│</span>\n",
       "<span style=\"color: #800000; text-decoration-color: #800000\">│</span>   <span style=\"color: #7f7f7f; text-decoration-color: #7f7f7f\">3761 │   </span>                                                                                      <span style=\"color: #800000; text-decoration-color: #800000\">│</span>\n",
       "<span style=\"color: #800000; text-decoration-color: #800000\">│</span>   <span style=\"color: #7f7f7f; text-decoration-color: #7f7f7f\">3762 │   </span><span style=\"color: #0000ff; text-decoration-color: #0000ff\">def</span> <span style=\"color: #00ff00; text-decoration-color: #00ff00\">invert</span>(<span style=\"color: #00ffff; text-decoration-color: #00ffff\">self</span>, g, *gens, **args):                                                   <span style=\"color: #800000; text-decoration-color: #800000\">│</span>\n",
       "<span style=\"color: #800000; text-decoration-color: #800000\">│</span>   <span style=\"color: #7f7f7f; text-decoration-color: #7f7f7f\">3763 </span><span style=\"color: #bfbfbf; text-decoration-color: #bfbfbf\">│   │   </span><span style=\"color: #808000; text-decoration-color: #808000\">\"\"\"Return the multiplicative inverse of ``self`` mod ``g``</span>                        <span style=\"color: #800000; text-decoration-color: #800000\">│</span>\n",
       "<span style=\"color: #800000; text-decoration-color: #800000\">│</span>                                                                                                  <span style=\"color: #800000; text-decoration-color: #800000\">│</span>\n",
       "<span style=\"color: #800000; text-decoration-color: #800000\">│</span> <span style=\"color: #bfbf7f; text-decoration-color: #bfbf7f\">/home/maa/anaconda3/envs/phd/lib/python3.10/site-packages/sympy/polys/</span><span style=\"color: #808000; text-decoration-color: #808000; font-weight: bold\">polytools.py</span>:<span style=\"color: #0000ff; text-decoration-color: #0000ff\">6766</span> in       <span style=\"color: #800000; text-decoration-color: #800000\">│</span>\n",
       "<span style=\"color: #800000; text-decoration-color: #800000\">│</span> <span style=\"color: #00ff00; text-decoration-color: #00ff00\">cancel</span>                                                                                           <span style=\"color: #800000; text-decoration-color: #800000\">│</span>\n",
       "<span style=\"color: #800000; text-decoration-color: #800000\">│</span>                                                                                                  <span style=\"color: #800000; text-decoration-color: #800000\">│</span>\n",
       "<span style=\"color: #800000; text-decoration-color: #800000\">│</span>   <span style=\"color: #7f7f7f; text-decoration-color: #7f7f7f\">6763 │   </span><span style=\"color: #0000ff; text-decoration-color: #0000ff\">try</span>:                                                                                  <span style=\"color: #800000; text-decoration-color: #800000\">│</span>\n",
       "<span style=\"color: #800000; text-decoration-color: #800000\">│</span>   <span style=\"color: #7f7f7f; text-decoration-color: #7f7f7f\">6764 │   │   </span><span style=\"color: #0000ff; text-decoration-color: #0000ff\">if</span> f.has(Piecewise):                                                              <span style=\"color: #800000; text-decoration-color: #800000\">│</span>\n",
       "<span style=\"color: #800000; text-decoration-color: #800000\">│</span>   <span style=\"color: #7f7f7f; text-decoration-color: #7f7f7f\">6765 │   │   │   </span><span style=\"color: #0000ff; text-decoration-color: #0000ff\">raise</span> PolynomialError()                                                       <span style=\"color: #800000; text-decoration-color: #800000\">│</span>\n",
       "<span style=\"color: #800000; text-decoration-color: #800000\">│</span> <span style=\"color: #800000; text-decoration-color: #800000\">❱ </span>6766 <span style=\"color: #7f7f7f; text-decoration-color: #7f7f7f\">│   │   </span>R, (F, G) = sring((p, q), *gens, **args)                                          <span style=\"color: #800000; text-decoration-color: #800000\">│</span>\n",
       "<span style=\"color: #800000; text-decoration-color: #800000\">│</span>   <span style=\"color: #7f7f7f; text-decoration-color: #7f7f7f\">6767 │   │   </span><span style=\"color: #0000ff; text-decoration-color: #0000ff\">if</span> <span style=\"color: #ff00ff; text-decoration-color: #ff00ff\">not</span> R.ngens:                                                                   <span style=\"color: #800000; text-decoration-color: #800000\">│</span>\n",
       "<span style=\"color: #800000; text-decoration-color: #800000\">│</span>   <span style=\"color: #7f7f7f; text-decoration-color: #7f7f7f\">6768 │   │   │   </span><span style=\"color: #0000ff; text-decoration-color: #0000ff\">if</span> <span style=\"color: #ff00ff; text-decoration-color: #ff00ff\">not</span> <span style=\"color: #00ffff; text-decoration-color: #00ffff\">isinstance</span>(f, (<span style=\"color: #00ffff; text-decoration-color: #00ffff\">tuple</span>, Tuple)):                                         <span style=\"color: #800000; text-decoration-color: #800000\">│</span>\n",
       "<span style=\"color: #800000; text-decoration-color: #800000\">│</span>   <span style=\"color: #7f7f7f; text-decoration-color: #7f7f7f\">6769 │   │   │   │   </span><span style=\"color: #0000ff; text-decoration-color: #0000ff\">return</span> f.expand()                                                         <span style=\"color: #800000; text-decoration-color: #800000\">│</span>\n",
       "<span style=\"color: #800000; text-decoration-color: #800000\">│</span>                                                                                                  <span style=\"color: #800000; text-decoration-color: #800000\">│</span>\n",
       "<span style=\"color: #800000; text-decoration-color: #800000\">│</span> <span style=\"color: #bfbf7f; text-decoration-color: #bfbf7f\">/home/maa/anaconda3/envs/phd/lib/python3.10/site-packages/sympy/polys/</span><span style=\"color: #808000; text-decoration-color: #808000; font-weight: bold\">rings.py</span>:<span style=\"color: #0000ff; text-decoration-color: #0000ff\">163</span> in <span style=\"color: #00ff00; text-decoration-color: #00ff00\">sring</span>      <span style=\"color: #800000; text-decoration-color: #800000\">│</span>\n",
       "<span style=\"color: #800000; text-decoration-color: #800000\">│</span>                                                                                                  <span style=\"color: #800000; text-decoration-color: #800000\">│</span>\n",
       "<span style=\"color: #800000; text-decoration-color: #800000\">│</span>   <span style=\"color: #7f7f7f; text-decoration-color: #7f7f7f\"> 160 │   </span>opt = build_options(symbols, options)                                                 <span style=\"color: #800000; text-decoration-color: #800000\">│</span>\n",
       "<span style=\"color: #800000; text-decoration-color: #800000\">│</span>   <span style=\"color: #7f7f7f; text-decoration-color: #7f7f7f\"> 161 │   </span>                                                                                      <span style=\"color: #800000; text-decoration-color: #800000\">│</span>\n",
       "<span style=\"color: #800000; text-decoration-color: #800000\">│</span>   <span style=\"color: #7f7f7f; text-decoration-color: #7f7f7f\"> 162 │   # TODO: rewrite this so that it doesn't use expand() (see poly()).</span>                    <span style=\"color: #800000; text-decoration-color: #800000\">│</span>\n",
       "<span style=\"color: #800000; text-decoration-color: #800000\">│</span> <span style=\"color: #800000; text-decoration-color: #800000\">❱ </span> 163 <span style=\"color: #7f7f7f; text-decoration-color: #7f7f7f\">│   </span>reps, opt = _parallel_dict_from_expr(exprs, opt)                                      <span style=\"color: #800000; text-decoration-color: #800000\">│</span>\n",
       "<span style=\"color: #800000; text-decoration-color: #800000\">│</span>   <span style=\"color: #7f7f7f; text-decoration-color: #7f7f7f\"> 164 │   </span>                                                                                      <span style=\"color: #800000; text-decoration-color: #800000\">│</span>\n",
       "<span style=\"color: #800000; text-decoration-color: #800000\">│</span>   <span style=\"color: #7f7f7f; text-decoration-color: #7f7f7f\"> 165 │   </span><span style=\"color: #0000ff; text-decoration-color: #0000ff\">if</span> opt.domain <span style=\"color: #ff00ff; text-decoration-color: #ff00ff\">is</span> <span style=\"color: #0000ff; text-decoration-color: #0000ff\">None</span>:                                                                <span style=\"color: #800000; text-decoration-color: #800000\">│</span>\n",
       "<span style=\"color: #800000; text-decoration-color: #800000\">│</span>   <span style=\"color: #7f7f7f; text-decoration-color: #7f7f7f\"> 166 │   │   </span>coeffs = <span style=\"color: #00ffff; text-decoration-color: #00ffff\">sum</span>([ <span style=\"color: #00ffff; text-decoration-color: #00ffff\">list</span>(rep.values()) <span style=\"color: #0000ff; text-decoration-color: #0000ff\">for</span> rep <span style=\"color: #ff00ff; text-decoration-color: #ff00ff\">in</span> reps ], [])                          <span style=\"color: #800000; text-decoration-color: #800000\">│</span>\n",
       "<span style=\"color: #800000; text-decoration-color: #800000\">│</span>                                                                                                  <span style=\"color: #800000; text-decoration-color: #800000\">│</span>\n",
       "<span style=\"color: #800000; text-decoration-color: #800000\">│</span> <span style=\"color: #bfbf7f; text-decoration-color: #bfbf7f\">/home/maa/anaconda3/envs/phd/lib/python3.10/site-packages/sympy/polys/</span><span style=\"color: #808000; text-decoration-color: #808000; font-weight: bold\">polyutils.py</span>:<span style=\"color: #0000ff; text-decoration-color: #0000ff\">326</span> in        <span style=\"color: #800000; text-decoration-color: #800000\">│</span>\n",
       "<span style=\"color: #800000; text-decoration-color: #800000\">│</span> <span style=\"color: #00ff00; text-decoration-color: #00ff00\">_parallel_dict_from_expr</span>                                                                         <span style=\"color: #800000; text-decoration-color: #800000\">│</span>\n",
       "<span style=\"color: #800000; text-decoration-color: #800000\">│</span>                                                                                                  <span style=\"color: #800000; text-decoration-color: #800000\">│</span>\n",
       "<span style=\"color: #800000; text-decoration-color: #800000\">│</span>   <span style=\"color: #7f7f7f; text-decoration-color: #7f7f7f\">323 </span><span style=\"color: #0000ff; text-decoration-color: #0000ff\">def</span> <span style=\"color: #00ff00; text-decoration-color: #00ff00\">_parallel_dict_from_expr</span>(exprs, opt):                                                  <span style=\"color: #800000; text-decoration-color: #800000\">│</span>\n",
       "<span style=\"color: #800000; text-decoration-color: #800000\">│</span>   <span style=\"color: #7f7f7f; text-decoration-color: #7f7f7f\">324 </span><span style=\"color: #bfbfbf; text-decoration-color: #bfbfbf\">│   </span><span style=\"color: #808000; text-decoration-color: #808000\">\"\"\"Transform expressions into a multinomial form. \"\"\"</span>                                  <span style=\"color: #800000; text-decoration-color: #800000\">│</span>\n",
       "<span style=\"color: #800000; text-decoration-color: #800000\">│</span>   <span style=\"color: #7f7f7f; text-decoration-color: #7f7f7f\">325 │   </span><span style=\"color: #0000ff; text-decoration-color: #0000ff\">if</span> opt.expand <span style=\"color: #ff00ff; text-decoration-color: #ff00ff\">is</span> <span style=\"color: #ff00ff; text-decoration-color: #ff00ff\">not</span> <span style=\"color: #0000ff; text-decoration-color: #0000ff\">False</span>:                                                            <span style=\"color: #800000; text-decoration-color: #800000\">│</span>\n",
       "<span style=\"color: #800000; text-decoration-color: #800000\">│</span> <span style=\"color: #800000; text-decoration-color: #800000\">❱ </span>326 <span style=\"color: #7f7f7f; text-decoration-color: #7f7f7f\">│   │   </span>exprs = [ expr.expand() <span style=\"color: #0000ff; text-decoration-color: #0000ff\">for</span> expr <span style=\"color: #ff00ff; text-decoration-color: #ff00ff\">in</span> exprs ]                                        <span style=\"color: #800000; text-decoration-color: #800000\">│</span>\n",
       "<span style=\"color: #800000; text-decoration-color: #800000\">│</span>   <span style=\"color: #7f7f7f; text-decoration-color: #7f7f7f\">327 │   </span>                                                                                       <span style=\"color: #800000; text-decoration-color: #800000\">│</span>\n",
       "<span style=\"color: #800000; text-decoration-color: #800000\">│</span>   <span style=\"color: #7f7f7f; text-decoration-color: #7f7f7f\">328 │   </span><span style=\"color: #0000ff; text-decoration-color: #0000ff\">if</span> <span style=\"color: #00ffff; text-decoration-color: #00ffff\">any</span>(expr.is_commutative <span style=\"color: #ff00ff; text-decoration-color: #ff00ff\">is</span> <span style=\"color: #0000ff; text-decoration-color: #0000ff\">False</span> <span style=\"color: #0000ff; text-decoration-color: #0000ff\">for</span> expr <span style=\"color: #ff00ff; text-decoration-color: #ff00ff\">in</span> exprs):                                <span style=\"color: #800000; text-decoration-color: #800000\">│</span>\n",
       "<span style=\"color: #800000; text-decoration-color: #800000\">│</span>   <span style=\"color: #7f7f7f; text-decoration-color: #7f7f7f\">329 │   │   </span><span style=\"color: #0000ff; text-decoration-color: #0000ff\">raise</span> PolynomialError(<span style=\"color: #808000; text-decoration-color: #808000\">'non-commutative expressions are not supported'</span>)             <span style=\"color: #800000; text-decoration-color: #800000\">│</span>\n",
       "<span style=\"color: #800000; text-decoration-color: #800000\">│</span>                                                                                                  <span style=\"color: #800000; text-decoration-color: #800000\">│</span>\n",
       "<span style=\"color: #800000; text-decoration-color: #800000\">│</span> <span style=\"color: #bfbf7f; text-decoration-color: #bfbf7f\">/home/maa/anaconda3/envs/phd/lib/python3.10/site-packages/sympy/polys/</span><span style=\"color: #808000; text-decoration-color: #808000; font-weight: bold\">polyutils.py</span>:<span style=\"color: #0000ff; text-decoration-color: #0000ff\">326</span> in        <span style=\"color: #800000; text-decoration-color: #800000\">│</span>\n",
       "<span style=\"color: #800000; text-decoration-color: #800000\">│</span> <span style=\"color: #00ff00; text-decoration-color: #00ff00\">&lt;listcomp&gt;</span>                                                                                       <span style=\"color: #800000; text-decoration-color: #800000\">│</span>\n",
       "<span style=\"color: #800000; text-decoration-color: #800000\">│</span>                                                                                                  <span style=\"color: #800000; text-decoration-color: #800000\">│</span>\n",
       "<span style=\"color: #800000; text-decoration-color: #800000\">│</span>   <span style=\"color: #7f7f7f; text-decoration-color: #7f7f7f\">323 </span><span style=\"color: #0000ff; text-decoration-color: #0000ff\">def</span> <span style=\"color: #00ff00; text-decoration-color: #00ff00\">_parallel_dict_from_expr</span>(exprs, opt):                                                  <span style=\"color: #800000; text-decoration-color: #800000\">│</span>\n",
       "<span style=\"color: #800000; text-decoration-color: #800000\">│</span>   <span style=\"color: #7f7f7f; text-decoration-color: #7f7f7f\">324 </span><span style=\"color: #bfbfbf; text-decoration-color: #bfbfbf\">│   </span><span style=\"color: #808000; text-decoration-color: #808000\">\"\"\"Transform expressions into a multinomial form. \"\"\"</span>                                  <span style=\"color: #800000; text-decoration-color: #800000\">│</span>\n",
       "<span style=\"color: #800000; text-decoration-color: #800000\">│</span>   <span style=\"color: #7f7f7f; text-decoration-color: #7f7f7f\">325 │   </span><span style=\"color: #0000ff; text-decoration-color: #0000ff\">if</span> opt.expand <span style=\"color: #ff00ff; text-decoration-color: #ff00ff\">is</span> <span style=\"color: #ff00ff; text-decoration-color: #ff00ff\">not</span> <span style=\"color: #0000ff; text-decoration-color: #0000ff\">False</span>:                                                            <span style=\"color: #800000; text-decoration-color: #800000\">│</span>\n",
       "<span style=\"color: #800000; text-decoration-color: #800000\">│</span> <span style=\"color: #800000; text-decoration-color: #800000\">❱ </span>326 <span style=\"color: #7f7f7f; text-decoration-color: #7f7f7f\">│   │   </span>exprs = [ expr.expand() <span style=\"color: #0000ff; text-decoration-color: #0000ff\">for</span> expr <span style=\"color: #ff00ff; text-decoration-color: #ff00ff\">in</span> exprs ]                                        <span style=\"color: #800000; text-decoration-color: #800000\">│</span>\n",
       "<span style=\"color: #800000; text-decoration-color: #800000\">│</span>   <span style=\"color: #7f7f7f; text-decoration-color: #7f7f7f\">327 │   </span>                                                                                       <span style=\"color: #800000; text-decoration-color: #800000\">│</span>\n",
       "<span style=\"color: #800000; text-decoration-color: #800000\">│</span>   <span style=\"color: #7f7f7f; text-decoration-color: #7f7f7f\">328 │   </span><span style=\"color: #0000ff; text-decoration-color: #0000ff\">if</span> <span style=\"color: #00ffff; text-decoration-color: #00ffff\">any</span>(expr.is_commutative <span style=\"color: #ff00ff; text-decoration-color: #ff00ff\">is</span> <span style=\"color: #0000ff; text-decoration-color: #0000ff\">False</span> <span style=\"color: #0000ff; text-decoration-color: #0000ff\">for</span> expr <span style=\"color: #ff00ff; text-decoration-color: #ff00ff\">in</span> exprs):                                <span style=\"color: #800000; text-decoration-color: #800000\">│</span>\n",
       "<span style=\"color: #800000; text-decoration-color: #800000\">│</span>   <span style=\"color: #7f7f7f; text-decoration-color: #7f7f7f\">329 │   │   </span><span style=\"color: #0000ff; text-decoration-color: #0000ff\">raise</span> PolynomialError(<span style=\"color: #808000; text-decoration-color: #808000\">'non-commutative expressions are not supported'</span>)             <span style=\"color: #800000; text-decoration-color: #800000\">│</span>\n",
       "<span style=\"color: #800000; text-decoration-color: #800000\">│</span>                                                                                                  <span style=\"color: #800000; text-decoration-color: #800000\">│</span>\n",
       "<span style=\"color: #800000; text-decoration-color: #800000\">│</span> <span style=\"color: #bfbf7f; text-decoration-color: #bfbf7f\">/home/maa/anaconda3/envs/phd/lib/python3.10/site-packages/sympy/core/</span><span style=\"color: #808000; text-decoration-color: #808000; font-weight: bold\">cache.py</span>:<span style=\"color: #0000ff; text-decoration-color: #0000ff\">70</span> in <span style=\"color: #00ff00; text-decoration-color: #00ff00\">wrapper</span>      <span style=\"color: #800000; text-decoration-color: #800000\">│</span>\n",
       "<span style=\"color: #800000; text-decoration-color: #800000\">│</span>                                                                                                  <span style=\"color: #800000; text-decoration-color: #800000\">│</span>\n",
       "<span style=\"color: #800000; text-decoration-color: #800000\">│</span>   <span style=\"color: #7f7f7f; text-decoration-color: #7f7f7f\"> 67 │   │   </span><span style=\"color: #ff00ff; text-decoration-color: #ff00ff; font-weight: bold\">@wraps</span>(func)                                                                       <span style=\"color: #800000; text-decoration-color: #800000\">│</span>\n",
       "<span style=\"color: #800000; text-decoration-color: #800000\">│</span>   <span style=\"color: #7f7f7f; text-decoration-color: #7f7f7f\"> 68 │   │   </span><span style=\"color: #0000ff; text-decoration-color: #0000ff\">def</span> <span style=\"color: #00ff00; text-decoration-color: #00ff00\">wrapper</span>(*args, **kwargs):                                                      <span style=\"color: #800000; text-decoration-color: #800000\">│</span>\n",
       "<span style=\"color: #800000; text-decoration-color: #800000\">│</span>   <span style=\"color: #7f7f7f; text-decoration-color: #7f7f7f\"> 69 │   │   │   </span><span style=\"color: #0000ff; text-decoration-color: #0000ff\">try</span>:                                                                           <span style=\"color: #800000; text-decoration-color: #800000\">│</span>\n",
       "<span style=\"color: #800000; text-decoration-color: #800000\">│</span> <span style=\"color: #800000; text-decoration-color: #800000\">❱ </span> 70 <span style=\"color: #7f7f7f; text-decoration-color: #7f7f7f\">│   │   │   │   </span>retval = cfunc(*args, **kwargs)                                            <span style=\"color: #800000; text-decoration-color: #800000\">│</span>\n",
       "<span style=\"color: #800000; text-decoration-color: #800000\">│</span>   <span style=\"color: #7f7f7f; text-decoration-color: #7f7f7f\"> 71 │   │   │   </span><span style=\"color: #0000ff; text-decoration-color: #0000ff\">except</span> <span style=\"color: #00ffff; text-decoration-color: #00ffff\">TypeError</span> <span style=\"color: #0000ff; text-decoration-color: #0000ff\">as</span> e:                                                         <span style=\"color: #800000; text-decoration-color: #800000\">│</span>\n",
       "<span style=\"color: #800000; text-decoration-color: #800000\">│</span>   <span style=\"color: #7f7f7f; text-decoration-color: #7f7f7f\"> 72 │   │   │   │   </span><span style=\"color: #0000ff; text-decoration-color: #0000ff\">if</span> <span style=\"color: #ff00ff; text-decoration-color: #ff00ff\">not</span> e.args <span style=\"color: #ff00ff; text-decoration-color: #ff00ff\">or</span> <span style=\"color: #ff00ff; text-decoration-color: #ff00ff\">not</span> e.args[<span style=\"color: #0000ff; text-decoration-color: #0000ff\">0</span>].startswith(<span style=\"color: #808000; text-decoration-color: #808000\">'unhashable type:'</span>):             <span style=\"color: #800000; text-decoration-color: #800000\">│</span>\n",
       "<span style=\"color: #800000; text-decoration-color: #800000\">│</span>   <span style=\"color: #7f7f7f; text-decoration-color: #7f7f7f\"> 73 │   │   │   │   │   </span><span style=\"color: #0000ff; text-decoration-color: #0000ff\">raise</span>                                                                  <span style=\"color: #800000; text-decoration-color: #800000\">│</span>\n",
       "<span style=\"color: #800000; text-decoration-color: #800000\">│</span>                                                                                                  <span style=\"color: #800000; text-decoration-color: #800000\">│</span>\n",
       "<span style=\"color: #800000; text-decoration-color: #800000\">│</span> <span style=\"color: #bfbf7f; text-decoration-color: #bfbf7f\">/home/maa/anaconda3/envs/phd/lib/python3.10/site-packages/sympy/core/</span><span style=\"color: #808000; text-decoration-color: #808000; font-weight: bold\">expr.py</span>:<span style=\"color: #0000ff; text-decoration-color: #0000ff\">3651</span> in <span style=\"color: #00ff00; text-decoration-color: #00ff00\">expand</span>      <span style=\"color: #800000; text-decoration-color: #800000\">│</span>\n",
       "<span style=\"color: #800000; text-decoration-color: #800000\">│</span>                                                                                                  <span style=\"color: #800000; text-decoration-color: #800000\">│</span>\n",
       "<span style=\"color: #800000; text-decoration-color: #800000\">│</span>   <span style=\"color: #7f7f7f; text-decoration-color: #7f7f7f\">3648 │   │   │   </span>use_hint = hints[hint]                                                        <span style=\"color: #800000; text-decoration-color: #800000\">│</span>\n",
       "<span style=\"color: #800000; text-decoration-color: #800000\">│</span>   <span style=\"color: #7f7f7f; text-decoration-color: #7f7f7f\">3649 │   │   │   </span><span style=\"color: #0000ff; text-decoration-color: #0000ff\">if</span> use_hint:                                                                  <span style=\"color: #800000; text-decoration-color: #800000\">│</span>\n",
       "<span style=\"color: #800000; text-decoration-color: #800000\">│</span>   <span style=\"color: #7f7f7f; text-decoration-color: #7f7f7f\">3650 │   │   │   │   </span>hint = <span style=\"color: #808000; text-decoration-color: #808000\">'_eval_expand_'</span> + hint                                             <span style=\"color: #800000; text-decoration-color: #800000\">│</span>\n",
       "<span style=\"color: #800000; text-decoration-color: #800000\">│</span> <span style=\"color: #800000; text-decoration-color: #800000\">❱ </span>3651 <span style=\"color: #7f7f7f; text-decoration-color: #7f7f7f\">│   │   │   │   </span>expr, hit = Expr._expand_hint(expr, hint, deep=deep, **hints)             <span style=\"color: #800000; text-decoration-color: #800000\">│</span>\n",
       "<span style=\"color: #800000; text-decoration-color: #800000\">│</span>   <span style=\"color: #7f7f7f; text-decoration-color: #7f7f7f\">3652 │   │   </span>                                                                                  <span style=\"color: #800000; text-decoration-color: #800000\">│</span>\n",
       "<span style=\"color: #800000; text-decoration-color: #800000\">│</span>   <span style=\"color: #7f7f7f; text-decoration-color: #7f7f7f\">3653 │   │   </span><span style=\"color: #0000ff; text-decoration-color: #0000ff\">while</span> <span style=\"color: #0000ff; text-decoration-color: #0000ff\">True</span>:                                                                       <span style=\"color: #800000; text-decoration-color: #800000\">│</span>\n",
       "<span style=\"color: #800000; text-decoration-color: #800000\">│</span>   <span style=\"color: #7f7f7f; text-decoration-color: #7f7f7f\">3654 │   │   │   </span>was = expr                                                                    <span style=\"color: #800000; text-decoration-color: #800000\">│</span>\n",
       "<span style=\"color: #800000; text-decoration-color: #800000\">│</span>                                                                                                  <span style=\"color: #800000; text-decoration-color: #800000\">│</span>\n",
       "<span style=\"color: #800000; text-decoration-color: #800000\">│</span> <span style=\"color: #bfbf7f; text-decoration-color: #bfbf7f\">/home/maa/anaconda3/envs/phd/lib/python3.10/site-packages/sympy/core/</span><span style=\"color: #808000; text-decoration-color: #808000; font-weight: bold\">expr.py</span>:<span style=\"color: #0000ff; text-decoration-color: #0000ff\">3584</span> in             <span style=\"color: #800000; text-decoration-color: #800000\">│</span>\n",
       "<span style=\"color: #800000; text-decoration-color: #800000\">│</span> <span style=\"color: #00ff00; text-decoration-color: #00ff00\">_expand_hint</span>                                                                                     <span style=\"color: #800000; text-decoration-color: #800000\">│</span>\n",
       "<span style=\"color: #800000; text-decoration-color: #800000\">│</span>                                                                                                  <span style=\"color: #800000; text-decoration-color: #800000\">│</span>\n",
       "<span style=\"color: #800000; text-decoration-color: #800000\">│</span>   <span style=\"color: #7f7f7f; text-decoration-color: #7f7f7f\">3581 │   │   </span><span style=\"color: #0000ff; text-decoration-color: #0000ff\">if</span> deep <span style=\"color: #ff00ff; text-decoration-color: #ff00ff\">and</span> <span style=\"color: #00ffff; text-decoration-color: #00ffff\">getattr</span>(expr, <span style=\"color: #808000; text-decoration-color: #808000\">'args'</span>, ()) <span style=\"color: #ff00ff; text-decoration-color: #ff00ff\">and</span> <span style=\"color: #ff00ff; text-decoration-color: #ff00ff\">not</span> expr.is_Atom:                       <span style=\"color: #800000; text-decoration-color: #800000\">│</span>\n",
       "<span style=\"color: #800000; text-decoration-color: #800000\">│</span>   <span style=\"color: #7f7f7f; text-decoration-color: #7f7f7f\">3582 │   │   │   </span>sargs = []                                                                    <span style=\"color: #800000; text-decoration-color: #800000\">│</span>\n",
       "<span style=\"color: #800000; text-decoration-color: #800000\">│</span>   <span style=\"color: #7f7f7f; text-decoration-color: #7f7f7f\">3583 │   │   │   </span><span style=\"color: #0000ff; text-decoration-color: #0000ff\">for</span> arg <span style=\"color: #ff00ff; text-decoration-color: #ff00ff\">in</span> expr.args:                                                         <span style=\"color: #800000; text-decoration-color: #800000\">│</span>\n",
       "<span style=\"color: #800000; text-decoration-color: #800000\">│</span> <span style=\"color: #800000; text-decoration-color: #800000\">❱ </span>3584 <span style=\"color: #7f7f7f; text-decoration-color: #7f7f7f\">│   │   │   │   </span>arg, arghit = Expr._expand_hint(arg, hint, **hints)                       <span style=\"color: #800000; text-decoration-color: #800000\">│</span>\n",
       "<span style=\"color: #800000; text-decoration-color: #800000\">│</span>   <span style=\"color: #7f7f7f; text-decoration-color: #7f7f7f\">3585 │   │   │   │   </span>hit |= arghit                                                             <span style=\"color: #800000; text-decoration-color: #800000\">│</span>\n",
       "<span style=\"color: #800000; text-decoration-color: #800000\">│</span>   <span style=\"color: #7f7f7f; text-decoration-color: #7f7f7f\">3586 │   │   │   │   </span>sargs.append(arg)                                                         <span style=\"color: #800000; text-decoration-color: #800000\">│</span>\n",
       "<span style=\"color: #800000; text-decoration-color: #800000\">│</span>   <span style=\"color: #7f7f7f; text-decoration-color: #7f7f7f\">3587 </span>                                                                                          <span style=\"color: #800000; text-decoration-color: #800000\">│</span>\n",
       "<span style=\"color: #800000; text-decoration-color: #800000\">│</span>                                                                                                  <span style=\"color: #800000; text-decoration-color: #800000\">│</span>\n",
       "<span style=\"color: #800000; text-decoration-color: #800000\">│</span> <span style=\"color: #bfbf7f; text-decoration-color: #bfbf7f\">/home/maa/anaconda3/envs/phd/lib/python3.10/site-packages/sympy/core/</span><span style=\"color: #808000; text-decoration-color: #808000; font-weight: bold\">expr.py</span>:<span style=\"color: #0000ff; text-decoration-color: #0000ff\">3592</span> in             <span style=\"color: #800000; text-decoration-color: #800000\">│</span>\n",
       "<span style=\"color: #800000; text-decoration-color: #800000\">│</span> <span style=\"color: #00ff00; text-decoration-color: #00ff00\">_expand_hint</span>                                                                                     <span style=\"color: #800000; text-decoration-color: #800000\">│</span>\n",
       "<span style=\"color: #800000; text-decoration-color: #800000\">│</span>                                                                                                  <span style=\"color: #800000; text-decoration-color: #800000\">│</span>\n",
       "<span style=\"color: #800000; text-decoration-color: #800000\">│</span>   <span style=\"color: #7f7f7f; text-decoration-color: #7f7f7f\">3589 │   │   │   │   </span>expr = expr.func(*sargs)                                                  <span style=\"color: #800000; text-decoration-color: #800000\">│</span>\n",
       "<span style=\"color: #800000; text-decoration-color: #800000\">│</span>   <span style=\"color: #7f7f7f; text-decoration-color: #7f7f7f\">3590 │   │   </span>                                                                                  <span style=\"color: #800000; text-decoration-color: #800000\">│</span>\n",
       "<span style=\"color: #800000; text-decoration-color: #800000\">│</span>   <span style=\"color: #7f7f7f; text-decoration-color: #7f7f7f\">3591 │   │   </span><span style=\"color: #0000ff; text-decoration-color: #0000ff\">if</span> <span style=\"color: #00ffff; text-decoration-color: #00ffff\">hasattr</span>(expr, hint):                                                           <span style=\"color: #800000; text-decoration-color: #800000\">│</span>\n",
       "<span style=\"color: #800000; text-decoration-color: #800000\">│</span> <span style=\"color: #800000; text-decoration-color: #800000\">❱ </span>3592 <span style=\"color: #7f7f7f; text-decoration-color: #7f7f7f\">│   │   │   </span>newexpr = <span style=\"color: #00ffff; text-decoration-color: #00ffff\">getattr</span>(expr, hint)(**hints)                                        <span style=\"color: #800000; text-decoration-color: #800000\">│</span>\n",
       "<span style=\"color: #800000; text-decoration-color: #800000\">│</span>   <span style=\"color: #7f7f7f; text-decoration-color: #7f7f7f\">3593 │   │   │   </span><span style=\"color: #0000ff; text-decoration-color: #0000ff\">if</span> newexpr != expr:                                                           <span style=\"color: #800000; text-decoration-color: #800000\">│</span>\n",
       "<span style=\"color: #800000; text-decoration-color: #800000\">│</span>   <span style=\"color: #7f7f7f; text-decoration-color: #7f7f7f\">3594 │   │   │   │   </span><span style=\"color: #0000ff; text-decoration-color: #0000ff\">return</span> (newexpr, <span style=\"color: #0000ff; text-decoration-color: #0000ff\">True</span>)                                                    <span style=\"color: #800000; text-decoration-color: #800000\">│</span>\n",
       "<span style=\"color: #800000; text-decoration-color: #800000\">│</span>   <span style=\"color: #7f7f7f; text-decoration-color: #7f7f7f\">3595 </span>                                                                                          <span style=\"color: #800000; text-decoration-color: #800000\">│</span>\n",
       "<span style=\"color: #800000; text-decoration-color: #800000\">│</span>                                                                                                  <span style=\"color: #800000; text-decoration-color: #800000\">│</span>\n",
       "<span style=\"color: #800000; text-decoration-color: #800000\">│</span> <span style=\"color: #bfbf7f; text-decoration-color: #bfbf7f\">/home/maa/anaconda3/envs/phd/lib/python3.10/site-packages/sympy/core/</span><span style=\"color: #808000; text-decoration-color: #808000; font-weight: bold\">mul.py</span>:<span style=\"color: #0000ff; text-decoration-color: #0000ff\">947</span> in               <span style=\"color: #800000; text-decoration-color: #800000\">│</span>\n",
       "<span style=\"color: #800000; text-decoration-color: #800000\">│</span> <span style=\"color: #00ff00; text-decoration-color: #00ff00\">_eval_expand_mul</span>                                                                                 <span style=\"color: #800000; text-decoration-color: #800000\">│</span>\n",
       "<span style=\"color: #800000; text-decoration-color: #800000\">│</span>                                                                                                  <span style=\"color: #800000; text-decoration-color: #800000\">│</span>\n",
       "<span style=\"color: #800000; text-decoration-color: #800000\">│</span>   <span style=\"color: #7f7f7f; text-decoration-color: #7f7f7f\"> 944 │   │   │   </span>plain = <span style=\"color: #00ffff; text-decoration-color: #00ffff\">self</span>.func(*plain)                                                     <span style=\"color: #800000; text-decoration-color: #800000\">│</span>\n",
       "<span style=\"color: #800000; text-decoration-color: #800000\">│</span>   <span style=\"color: #7f7f7f; text-decoration-color: #7f7f7f\"> 945 │   │   │   </span><span style=\"color: #0000ff; text-decoration-color: #0000ff\">if</span> sums:                                                                      <span style=\"color: #800000; text-decoration-color: #800000\">│</span>\n",
       "<span style=\"color: #800000; text-decoration-color: #800000\">│</span>   <span style=\"color: #7f7f7f; text-decoration-color: #7f7f7f\"> 946 │   │   │   │   </span>deep = hints.get(<span style=\"color: #808000; text-decoration-color: #808000\">\"deep\"</span>, <span style=\"color: #0000ff; text-decoration-color: #0000ff\">False</span>)                                           <span style=\"color: #800000; text-decoration-color: #800000\">│</span>\n",
       "<span style=\"color: #800000; text-decoration-color: #800000\">│</span> <span style=\"color: #800000; text-decoration-color: #800000\">❱ </span> 947 <span style=\"color: #7f7f7f; text-decoration-color: #7f7f7f\">│   │   │   │   </span>terms = <span style=\"color: #00ffff; text-decoration-color: #00ffff\">self</span>.func._expandsums(sums)                                       <span style=\"color: #800000; text-decoration-color: #800000\">│</span>\n",
       "<span style=\"color: #800000; text-decoration-color: #800000\">│</span>   <span style=\"color: #7f7f7f; text-decoration-color: #7f7f7f\"> 948 │   │   │   │   </span>args = []                                                                 <span style=\"color: #800000; text-decoration-color: #800000\">│</span>\n",
       "<span style=\"color: #800000; text-decoration-color: #800000\">│</span>   <span style=\"color: #7f7f7f; text-decoration-color: #7f7f7f\"> 949 │   │   │   │   </span><span style=\"color: #0000ff; text-decoration-color: #0000ff\">for</span> term <span style=\"color: #ff00ff; text-decoration-color: #ff00ff\">in</span> terms:                                                        <span style=\"color: #800000; text-decoration-color: #800000\">│</span>\n",
       "<span style=\"color: #800000; text-decoration-color: #800000\">│</span>   <span style=\"color: #7f7f7f; text-decoration-color: #7f7f7f\"> 950 │   │   │   │   │   </span>t = <span style=\"color: #00ffff; text-decoration-color: #00ffff\">self</span>.func(plain, term)                                            <span style=\"color: #800000; text-decoration-color: #800000\">│</span>\n",
       "<span style=\"color: #800000; text-decoration-color: #800000\">│</span>                                                                                                  <span style=\"color: #800000; text-decoration-color: #800000\">│</span>\n",
       "<span style=\"color: #800000; text-decoration-color: #800000\">│</span> <span style=\"color: #bfbf7f; text-decoration-color: #bfbf7f\">/home/maa/anaconda3/envs/phd/lib/python3.10/site-packages/sympy/core/</span><span style=\"color: #808000; text-decoration-color: #808000; font-weight: bold\">mul.py</span>:<span style=\"color: #0000ff; text-decoration-color: #0000ff\">912</span> in <span style=\"color: #00ff00; text-decoration-color: #00ff00\">_expandsums</span>   <span style=\"color: #800000; text-decoration-color: #800000\">│</span>\n",
       "<span style=\"color: #800000; text-decoration-color: #800000\">│</span>                                                                                                  <span style=\"color: #800000; text-decoration-color: #800000\">│</span>\n",
       "<span style=\"color: #800000; text-decoration-color: #800000\">│</span>   <span style=\"color: #7f7f7f; text-decoration-color: #7f7f7f\"> 909 │   │   </span>left = Mul._expandsums(sums[:L//<span style=\"color: #0000ff; text-decoration-color: #0000ff\">2</span>])                                               <span style=\"color: #800000; text-decoration-color: #800000\">│</span>\n",
       "<span style=\"color: #800000; text-decoration-color: #800000\">│</span>   <span style=\"color: #7f7f7f; text-decoration-color: #7f7f7f\"> 910 │   │   </span>right = Mul._expandsums(sums[L//<span style=\"color: #0000ff; text-decoration-color: #0000ff\">2</span>:])                                              <span style=\"color: #800000; text-decoration-color: #800000\">│</span>\n",
       "<span style=\"color: #800000; text-decoration-color: #800000\">│</span>   <span style=\"color: #7f7f7f; text-decoration-color: #7f7f7f\"> 911 │   │   </span>                                                                                  <span style=\"color: #800000; text-decoration-color: #800000\">│</span>\n",
       "<span style=\"color: #800000; text-decoration-color: #800000\">│</span> <span style=\"color: #800000; text-decoration-color: #800000\">❱ </span> 912 <span style=\"color: #7f7f7f; text-decoration-color: #7f7f7f\">│   │   </span>terms = [Mul(a, b) <span style=\"color: #0000ff; text-decoration-color: #0000ff\">for</span> a <span style=\"color: #ff00ff; text-decoration-color: #ff00ff\">in</span> left <span style=\"color: #0000ff; text-decoration-color: #0000ff\">for</span> b <span style=\"color: #ff00ff; text-decoration-color: #ff00ff\">in</span> right]                                  <span style=\"color: #800000; text-decoration-color: #800000\">│</span>\n",
       "<span style=\"color: #800000; text-decoration-color: #800000\">│</span>   <span style=\"color: #7f7f7f; text-decoration-color: #7f7f7f\"> 913 │   │   </span>added = Add(*terms)                                                               <span style=\"color: #800000; text-decoration-color: #800000\">│</span>\n",
       "<span style=\"color: #800000; text-decoration-color: #800000\">│</span>   <span style=\"color: #7f7f7f; text-decoration-color: #7f7f7f\"> 914 │   │   </span><span style=\"color: #0000ff; text-decoration-color: #0000ff\">return</span> Add.make_args(added)  <span style=\"color: #7f7f7f; text-decoration-color: #7f7f7f\"># it may have collapsed down to one term</span>             <span style=\"color: #800000; text-decoration-color: #800000\">│</span>\n",
       "<span style=\"color: #800000; text-decoration-color: #800000\">│</span>   <span style=\"color: #7f7f7f; text-decoration-color: #7f7f7f\"> 915 </span>                                                                                          <span style=\"color: #800000; text-decoration-color: #800000\">│</span>\n",
       "<span style=\"color: #800000; text-decoration-color: #800000\">│</span>                                                                                                  <span style=\"color: #800000; text-decoration-color: #800000\">│</span>\n",
       "<span style=\"color: #800000; text-decoration-color: #800000\">│</span> <span style=\"color: #bfbf7f; text-decoration-color: #bfbf7f\">/home/maa/anaconda3/envs/phd/lib/python3.10/site-packages/sympy/core/</span><span style=\"color: #808000; text-decoration-color: #808000; font-weight: bold\">mul.py</span>:<span style=\"color: #0000ff; text-decoration-color: #0000ff\">912</span> in <span style=\"color: #00ff00; text-decoration-color: #00ff00\">&lt;listcomp&gt;</span>    <span style=\"color: #800000; text-decoration-color: #800000\">│</span>\n",
       "<span style=\"color: #800000; text-decoration-color: #800000\">│</span>                                                                                                  <span style=\"color: #800000; text-decoration-color: #800000\">│</span>\n",
       "<span style=\"color: #800000; text-decoration-color: #800000\">│</span>   <span style=\"color: #7f7f7f; text-decoration-color: #7f7f7f\"> 909 │   │   </span>left = Mul._expandsums(sums[:L//<span style=\"color: #0000ff; text-decoration-color: #0000ff\">2</span>])                                               <span style=\"color: #800000; text-decoration-color: #800000\">│</span>\n",
       "<span style=\"color: #800000; text-decoration-color: #800000\">│</span>   <span style=\"color: #7f7f7f; text-decoration-color: #7f7f7f\"> 910 │   │   </span>right = Mul._expandsums(sums[L//<span style=\"color: #0000ff; text-decoration-color: #0000ff\">2</span>:])                                              <span style=\"color: #800000; text-decoration-color: #800000\">│</span>\n",
       "<span style=\"color: #800000; text-decoration-color: #800000\">│</span>   <span style=\"color: #7f7f7f; text-decoration-color: #7f7f7f\"> 911 │   │   </span>                                                                                  <span style=\"color: #800000; text-decoration-color: #800000\">│</span>\n",
       "<span style=\"color: #800000; text-decoration-color: #800000\">│</span> <span style=\"color: #800000; text-decoration-color: #800000\">❱ </span> 912 <span style=\"color: #7f7f7f; text-decoration-color: #7f7f7f\">│   │   </span>terms = [Mul(a, b) <span style=\"color: #0000ff; text-decoration-color: #0000ff\">for</span> a <span style=\"color: #ff00ff; text-decoration-color: #ff00ff\">in</span> left <span style=\"color: #0000ff; text-decoration-color: #0000ff\">for</span> b <span style=\"color: #ff00ff; text-decoration-color: #ff00ff\">in</span> right]                                  <span style=\"color: #800000; text-decoration-color: #800000\">│</span>\n",
       "<span style=\"color: #800000; text-decoration-color: #800000\">│</span>   <span style=\"color: #7f7f7f; text-decoration-color: #7f7f7f\"> 913 │   │   </span>added = Add(*terms)                                                               <span style=\"color: #800000; text-decoration-color: #800000\">│</span>\n",
       "<span style=\"color: #800000; text-decoration-color: #800000\">│</span>   <span style=\"color: #7f7f7f; text-decoration-color: #7f7f7f\"> 914 │   │   </span><span style=\"color: #0000ff; text-decoration-color: #0000ff\">return</span> Add.make_args(added)  <span style=\"color: #7f7f7f; text-decoration-color: #7f7f7f\"># it may have collapsed down to one term</span>             <span style=\"color: #800000; text-decoration-color: #800000\">│</span>\n",
       "<span style=\"color: #800000; text-decoration-color: #800000\">│</span>   <span style=\"color: #7f7f7f; text-decoration-color: #7f7f7f\"> 915 </span>                                                                                          <span style=\"color: #800000; text-decoration-color: #800000\">│</span>\n",
       "<span style=\"color: #800000; text-decoration-color: #800000\">│</span>                                                                                                  <span style=\"color: #800000; text-decoration-color: #800000\">│</span>\n",
       "<span style=\"color: #800000; text-decoration-color: #800000\">│</span> <span style=\"color: #bfbf7f; text-decoration-color: #bfbf7f\">/home/maa/anaconda3/envs/phd/lib/python3.10/site-packages/sympy/core/</span><span style=\"color: #808000; text-decoration-color: #808000; font-weight: bold\">cache.py</span>:<span style=\"color: #0000ff; text-decoration-color: #0000ff\">70</span> in <span style=\"color: #00ff00; text-decoration-color: #00ff00\">wrapper</span>      <span style=\"color: #800000; text-decoration-color: #800000\">│</span>\n",
       "<span style=\"color: #800000; text-decoration-color: #800000\">│</span>                                                                                                  <span style=\"color: #800000; text-decoration-color: #800000\">│</span>\n",
       "<span style=\"color: #800000; text-decoration-color: #800000\">│</span>   <span style=\"color: #7f7f7f; text-decoration-color: #7f7f7f\"> 67 │   │   </span><span style=\"color: #ff00ff; text-decoration-color: #ff00ff; font-weight: bold\">@wraps</span>(func)                                                                       <span style=\"color: #800000; text-decoration-color: #800000\">│</span>\n",
       "<span style=\"color: #800000; text-decoration-color: #800000\">│</span>   <span style=\"color: #7f7f7f; text-decoration-color: #7f7f7f\"> 68 │   │   </span><span style=\"color: #0000ff; text-decoration-color: #0000ff\">def</span> <span style=\"color: #00ff00; text-decoration-color: #00ff00\">wrapper</span>(*args, **kwargs):                                                      <span style=\"color: #800000; text-decoration-color: #800000\">│</span>\n",
       "<span style=\"color: #800000; text-decoration-color: #800000\">│</span>   <span style=\"color: #7f7f7f; text-decoration-color: #7f7f7f\"> 69 │   │   │   </span><span style=\"color: #0000ff; text-decoration-color: #0000ff\">try</span>:                                                                           <span style=\"color: #800000; text-decoration-color: #800000\">│</span>\n",
       "<span style=\"color: #800000; text-decoration-color: #800000\">│</span> <span style=\"color: #800000; text-decoration-color: #800000\">❱ </span> 70 <span style=\"color: #7f7f7f; text-decoration-color: #7f7f7f\">│   │   │   │   </span>retval = cfunc(*args, **kwargs)                                            <span style=\"color: #800000; text-decoration-color: #800000\">│</span>\n",
       "<span style=\"color: #800000; text-decoration-color: #800000\">│</span>   <span style=\"color: #7f7f7f; text-decoration-color: #7f7f7f\"> 71 │   │   │   </span><span style=\"color: #0000ff; text-decoration-color: #0000ff\">except</span> <span style=\"color: #00ffff; text-decoration-color: #00ffff\">TypeError</span> <span style=\"color: #0000ff; text-decoration-color: #0000ff\">as</span> e:                                                         <span style=\"color: #800000; text-decoration-color: #800000\">│</span>\n",
       "<span style=\"color: #800000; text-decoration-color: #800000\">│</span>   <span style=\"color: #7f7f7f; text-decoration-color: #7f7f7f\"> 72 │   │   │   │   </span><span style=\"color: #0000ff; text-decoration-color: #0000ff\">if</span> <span style=\"color: #ff00ff; text-decoration-color: #ff00ff\">not</span> e.args <span style=\"color: #ff00ff; text-decoration-color: #ff00ff\">or</span> <span style=\"color: #ff00ff; text-decoration-color: #ff00ff\">not</span> e.args[<span style=\"color: #0000ff; text-decoration-color: #0000ff\">0</span>].startswith(<span style=\"color: #808000; text-decoration-color: #808000\">'unhashable type:'</span>):             <span style=\"color: #800000; text-decoration-color: #800000\">│</span>\n",
       "<span style=\"color: #800000; text-decoration-color: #800000\">│</span>   <span style=\"color: #7f7f7f; text-decoration-color: #7f7f7f\"> 73 │   │   │   │   │   </span><span style=\"color: #0000ff; text-decoration-color: #0000ff\">raise</span>                                                                  <span style=\"color: #800000; text-decoration-color: #800000\">│</span>\n",
       "<span style=\"color: #800000; text-decoration-color: #800000\">╰──────────────────────────────────────────────────────────────────────────────────────────────────╯</span>\n",
       "<span style=\"color: #ff0000; text-decoration-color: #ff0000; font-weight: bold\">KeyboardInterrupt</span>\n",
       "</pre>\n"
      ],
      "text/plain": [
       "\u001b[31m╭─\u001b[0m\u001b[31m──────────────────────────────\u001b[0m\u001b[31m \u001b[0m\u001b[1;31mTraceback \u001b[0m\u001b[1;2;31m(most recent call last)\u001b[0m\u001b[31m \u001b[0m\u001b[31m───────────────────────────────\u001b[0m\u001b[31m─╮\u001b[0m\n",
       "\u001b[31m│\u001b[0m in \u001b[92m<module>\u001b[0m:\u001b[94m1\u001b[0m                                                                                    \u001b[31m│\u001b[0m\n",
       "\u001b[31m│\u001b[0m                                                                                                  \u001b[31m│\u001b[0m\n",
       "\u001b[31m│\u001b[0m \u001b[31m❱ \u001b[0m1 solution_propeller[V_xcorr] = sp.simplify(eq_V_x_corr.subs([                                 \u001b[31m│\u001b[0m\n",
       "\u001b[31m│\u001b[0m   \u001b[2m2 \u001b[0m(r_Delta, eq_r_Delta.rhs),                                                                   \u001b[31m│\u001b[0m\n",
       "\u001b[31m│\u001b[0m   \u001b[2m3 \u001b[0m(r_p, eq_r.rhs),                                                                             \u001b[31m│\u001b[0m\n",
       "\u001b[31m│\u001b[0m   \u001b[2m4 \u001b[0m(r_inf, solution_propeller[r_inf]),                                                          \u001b[31m│\u001b[0m\n",
       "\u001b[31m│\u001b[0m                                                                                                  \u001b[31m│\u001b[0m\n",
       "\u001b[31m│\u001b[0m \u001b[2;33m/home/maa/anaconda3/envs/phd/lib/python3.10/site-packages/sympy/simplify/\u001b[0m\u001b[1;33msimplify.py\u001b[0m:\u001b[94m601\u001b[0m in      \u001b[31m│\u001b[0m\n",
       "\u001b[31m│\u001b[0m \u001b[92msimplify\u001b[0m                                                                                         \u001b[31m│\u001b[0m\n",
       "\u001b[31m│\u001b[0m                                                                                                  \u001b[31m│\u001b[0m\n",
       "\u001b[31m│\u001b[0m   \u001b[2m 598 \u001b[0m\u001b[2m│   \u001b[0m                                                                                      \u001b[31m│\u001b[0m\n",
       "\u001b[31m│\u001b[0m   \u001b[2m 599 \u001b[0m\u001b[2m│   \u001b[0m_eval_simplify = \u001b[96mgetattr\u001b[0m(expr, \u001b[33m'\u001b[0m\u001b[33m_eval_simplify\u001b[0m\u001b[33m'\u001b[0m, \u001b[94mNone\u001b[0m)                                \u001b[31m│\u001b[0m\n",
       "\u001b[31m│\u001b[0m   \u001b[2m 600 \u001b[0m\u001b[2m│   \u001b[0m\u001b[94mif\u001b[0m _eval_simplify \u001b[95mis\u001b[0m \u001b[95mnot\u001b[0m \u001b[94mNone\u001b[0m:                                                        \u001b[31m│\u001b[0m\n",
       "\u001b[31m│\u001b[0m \u001b[31m❱ \u001b[0m 601 \u001b[2m│   │   \u001b[0m\u001b[94mreturn\u001b[0m _eval_simplify(**kwargs)                                                   \u001b[31m│\u001b[0m\n",
       "\u001b[31m│\u001b[0m   \u001b[2m 602 \u001b[0m\u001b[2m│   \u001b[0m                                                                                      \u001b[31m│\u001b[0m\n",
       "\u001b[31m│\u001b[0m   \u001b[2m 603 \u001b[0m\u001b[2m│   \u001b[0moriginal_expr = expr = collect_abs(signsimp(expr))                                    \u001b[31m│\u001b[0m\n",
       "\u001b[31m│\u001b[0m   \u001b[2m 604 \u001b[0m                                                                                          \u001b[31m│\u001b[0m\n",
       "\u001b[31m│\u001b[0m                                                                                                  \u001b[31m│\u001b[0m\n",
       "\u001b[31m│\u001b[0m \u001b[2;33m/home/maa/anaconda3/envs/phd/lib/python3.10/site-packages/sympy/core/\u001b[0m\u001b[1;33mrelational.py\u001b[0m:\u001b[94m691\u001b[0m in        \u001b[31m│\u001b[0m\n",
       "\u001b[31m│\u001b[0m \u001b[92m_eval_simplify\u001b[0m                                                                                   \u001b[31m│\u001b[0m\n",
       "\u001b[31m│\u001b[0m                                                                                                  \u001b[31m│\u001b[0m\n",
       "\u001b[31m│\u001b[0m   \u001b[2m 688 \u001b[0m\u001b[2m│   \u001b[0m                                                                                      \u001b[31m│\u001b[0m\n",
       "\u001b[31m│\u001b[0m   \u001b[2m 689 \u001b[0m\u001b[2m│   \u001b[0m\u001b[94mdef\u001b[0m \u001b[92m_eval_simplify\u001b[0m(\u001b[96mself\u001b[0m, **kwargs):                                                   \u001b[31m│\u001b[0m\n",
       "\u001b[31m│\u001b[0m   \u001b[2m 690 \u001b[0m\u001b[2m│   │   \u001b[0m\u001b[2m# standard simplify\u001b[0m                                                               \u001b[31m│\u001b[0m\n",
       "\u001b[31m│\u001b[0m \u001b[31m❱ \u001b[0m 691 \u001b[2m│   │   \u001b[0me = \u001b[96msuper\u001b[0m()._eval_simplify(**kwargs)                                              \u001b[31m│\u001b[0m\n",
       "\u001b[31m│\u001b[0m   \u001b[2m 692 \u001b[0m\u001b[2m│   │   \u001b[0m\u001b[94mif\u001b[0m \u001b[95mnot\u001b[0m \u001b[96misinstance\u001b[0m(e, Equality):                                                   \u001b[31m│\u001b[0m\n",
       "\u001b[31m│\u001b[0m   \u001b[2m 693 \u001b[0m\u001b[2m│   │   │   \u001b[0m\u001b[94mreturn\u001b[0m e                                                                      \u001b[31m│\u001b[0m\n",
       "\u001b[31m│\u001b[0m   \u001b[2m 694 \u001b[0m\u001b[2m│   │   \u001b[0m\u001b[94mfrom\u001b[0m \u001b[4;96m.\u001b[0m\u001b[4;96mexpr\u001b[0m \u001b[94mimport\u001b[0m Expr                                                            \u001b[31m│\u001b[0m\n",
       "\u001b[31m│\u001b[0m                                                                                                  \u001b[31m│\u001b[0m\n",
       "\u001b[31m│\u001b[0m \u001b[2;33m/home/maa/anaconda3/envs/phd/lib/python3.10/site-packages/sympy/core/\u001b[0m\u001b[1;33mrelational.py\u001b[0m:\u001b[94m419\u001b[0m in        \u001b[31m│\u001b[0m\n",
       "\u001b[31m│\u001b[0m \u001b[92m_eval_simplify\u001b[0m                                                                                   \u001b[31m│\u001b[0m\n",
       "\u001b[31m│\u001b[0m                                                                                                  \u001b[31m│\u001b[0m\n",
       "\u001b[31m│\u001b[0m   \u001b[2m 416 \u001b[0m\u001b[2m│   │   \u001b[0m\u001b[94mfrom\u001b[0m \u001b[4;96m.\u001b[0m\u001b[4;96madd\u001b[0m \u001b[94mimport\u001b[0m Add                                                              \u001b[31m│\u001b[0m\n",
       "\u001b[31m│\u001b[0m   \u001b[2m 417 \u001b[0m\u001b[2m│   │   \u001b[0m\u001b[94mfrom\u001b[0m \u001b[4;96m.\u001b[0m\u001b[4;96mexpr\u001b[0m \u001b[94mimport\u001b[0m Expr                                                            \u001b[31m│\u001b[0m\n",
       "\u001b[31m│\u001b[0m   \u001b[2m 418 \u001b[0m\u001b[2m│   │   \u001b[0mr = \u001b[96mself\u001b[0m                                                                          \u001b[31m│\u001b[0m\n",
       "\u001b[31m│\u001b[0m \u001b[31m❱ \u001b[0m 419 \u001b[2m│   │   \u001b[0mr = r.func(*[i.simplify(**kwargs) \u001b[94mfor\u001b[0m i \u001b[95min\u001b[0m r.args])                               \u001b[31m│\u001b[0m\n",
       "\u001b[31m│\u001b[0m   \u001b[2m 420 \u001b[0m\u001b[2m│   │   \u001b[0m\u001b[94mif\u001b[0m r.is_Relational:                                                               \u001b[31m│\u001b[0m\n",
       "\u001b[31m│\u001b[0m   \u001b[2m 421 \u001b[0m\u001b[2m│   │   │   \u001b[0m\u001b[94mif\u001b[0m \u001b[95mnot\u001b[0m \u001b[96misinstance\u001b[0m(r.lhs, Expr) \u001b[95mor\u001b[0m \u001b[95mnot\u001b[0m \u001b[96misinstance\u001b[0m(r.rhs, Expr):                \u001b[31m│\u001b[0m\n",
       "\u001b[31m│\u001b[0m   \u001b[2m 422 \u001b[0m\u001b[2m│   │   │   │   \u001b[0m\u001b[94mreturn\u001b[0m r                                                                  \u001b[31m│\u001b[0m\n",
       "\u001b[31m│\u001b[0m                                                                                                  \u001b[31m│\u001b[0m\n",
       "\u001b[31m│\u001b[0m \u001b[2;33m/home/maa/anaconda3/envs/phd/lib/python3.10/site-packages/sympy/core/\u001b[0m\u001b[1;33mrelational.py\u001b[0m:\u001b[94m419\u001b[0m in        \u001b[31m│\u001b[0m\n",
       "\u001b[31m│\u001b[0m \u001b[92m<listcomp>\u001b[0m                                                                                       \u001b[31m│\u001b[0m\n",
       "\u001b[31m│\u001b[0m                                                                                                  \u001b[31m│\u001b[0m\n",
       "\u001b[31m│\u001b[0m   \u001b[2m 416 \u001b[0m\u001b[2m│   │   \u001b[0m\u001b[94mfrom\u001b[0m \u001b[4;96m.\u001b[0m\u001b[4;96madd\u001b[0m \u001b[94mimport\u001b[0m Add                                                              \u001b[31m│\u001b[0m\n",
       "\u001b[31m│\u001b[0m   \u001b[2m 417 \u001b[0m\u001b[2m│   │   \u001b[0m\u001b[94mfrom\u001b[0m \u001b[4;96m.\u001b[0m\u001b[4;96mexpr\u001b[0m \u001b[94mimport\u001b[0m Expr                                                            \u001b[31m│\u001b[0m\n",
       "\u001b[31m│\u001b[0m   \u001b[2m 418 \u001b[0m\u001b[2m│   │   \u001b[0mr = \u001b[96mself\u001b[0m                                                                          \u001b[31m│\u001b[0m\n",
       "\u001b[31m│\u001b[0m \u001b[31m❱ \u001b[0m 419 \u001b[2m│   │   \u001b[0mr = r.func(*[i.simplify(**kwargs) \u001b[94mfor\u001b[0m i \u001b[95min\u001b[0m r.args])                               \u001b[31m│\u001b[0m\n",
       "\u001b[31m│\u001b[0m   \u001b[2m 420 \u001b[0m\u001b[2m│   │   \u001b[0m\u001b[94mif\u001b[0m r.is_Relational:                                                               \u001b[31m│\u001b[0m\n",
       "\u001b[31m│\u001b[0m   \u001b[2m 421 \u001b[0m\u001b[2m│   │   │   \u001b[0m\u001b[94mif\u001b[0m \u001b[95mnot\u001b[0m \u001b[96misinstance\u001b[0m(r.lhs, Expr) \u001b[95mor\u001b[0m \u001b[95mnot\u001b[0m \u001b[96misinstance\u001b[0m(r.rhs, Expr):                \u001b[31m│\u001b[0m\n",
       "\u001b[31m│\u001b[0m   \u001b[2m 422 \u001b[0m\u001b[2m│   │   │   │   \u001b[0m\u001b[94mreturn\u001b[0m r                                                                  \u001b[31m│\u001b[0m\n",
       "\u001b[31m│\u001b[0m                                                                                                  \u001b[31m│\u001b[0m\n",
       "\u001b[31m│\u001b[0m \u001b[2;33m/home/maa/anaconda3/envs/phd/lib/python3.10/site-packages/sympy/core/\u001b[0m\u001b[1;33mbasic.py\u001b[0m:\u001b[94m1767\u001b[0m in \u001b[92msimplify\u001b[0m   \u001b[31m│\u001b[0m\n",
       "\u001b[31m│\u001b[0m                                                                                                  \u001b[31m│\u001b[0m\n",
       "\u001b[31m│\u001b[0m   \u001b[2m1764 \u001b[0m\u001b[2m│   \u001b[0m\u001b[94mdef\u001b[0m \u001b[92msimplify\u001b[0m(\u001b[96mself\u001b[0m, **kwargs):                                                         \u001b[31m│\u001b[0m\n",
       "\u001b[31m│\u001b[0m   \u001b[2m1765 \u001b[0m\u001b[2;90m│   │   \u001b[0m\u001b[33m\"\"\"See the simplify function in sympy.simplify\"\"\"\u001b[0m                                 \u001b[31m│\u001b[0m\n",
       "\u001b[31m│\u001b[0m   \u001b[2m1766 \u001b[0m\u001b[2m│   │   \u001b[0m\u001b[94mfrom\u001b[0m \u001b[4;96msympy\u001b[0m\u001b[4;96m.\u001b[0m\u001b[4;96msimplify\u001b[0m\u001b[4;96m.\u001b[0m\u001b[4;96msimplify\u001b[0m \u001b[94mimport\u001b[0m simplify                                      \u001b[31m│\u001b[0m\n",
       "\u001b[31m│\u001b[0m \u001b[31m❱ \u001b[0m1767 \u001b[2m│   │   \u001b[0m\u001b[94mreturn\u001b[0m simplify(\u001b[96mself\u001b[0m, **kwargs)                                                   \u001b[31m│\u001b[0m\n",
       "\u001b[31m│\u001b[0m   \u001b[2m1768 \u001b[0m\u001b[2m│   \u001b[0m                                                                                      \u001b[31m│\u001b[0m\n",
       "\u001b[31m│\u001b[0m   \u001b[2m1769 \u001b[0m\u001b[2m│   \u001b[0m\u001b[94mdef\u001b[0m \u001b[92mrefine\u001b[0m(\u001b[96mself\u001b[0m, assumption=\u001b[94mTrue\u001b[0m):                                                    \u001b[31m│\u001b[0m\n",
       "\u001b[31m│\u001b[0m   \u001b[2m1770 \u001b[0m\u001b[2;90m│   │   \u001b[0m\u001b[33m\"\"\"See the refine function in sympy.assumptions\"\"\"\u001b[0m                                \u001b[31m│\u001b[0m\n",
       "\u001b[31m│\u001b[0m                                                                                                  \u001b[31m│\u001b[0m\n",
       "\u001b[31m│\u001b[0m \u001b[2;33m/home/maa/anaconda3/envs/phd/lib/python3.10/site-packages/sympy/simplify/\u001b[0m\u001b[1;33msimplify.py\u001b[0m:\u001b[94m645\u001b[0m in      \u001b[31m│\u001b[0m\n",
       "\u001b[31m│\u001b[0m \u001b[92msimplify\u001b[0m                                                                                         \u001b[31m│\u001b[0m\n",
       "\u001b[31m│\u001b[0m                                                                                                  \u001b[31m│\u001b[0m\n",
       "\u001b[31m│\u001b[0m   \u001b[2m 642 \u001b[0m\u001b[2m│   \u001b[0mexpr = _bottom_up(expr, \u001b[94mlambda\u001b[0m w: \u001b[96mgetattr\u001b[0m(w, \u001b[33m'\u001b[0m\u001b[33mnormal\u001b[0m\u001b[33m'\u001b[0m, \u001b[94mlambda\u001b[0m: w)())                  \u001b[31m│\u001b[0m\n",
       "\u001b[31m│\u001b[0m   \u001b[2m 643 \u001b[0m\u001b[2m│   \u001b[0mexpr = Mul(*powsimp(expr).as_content_primitive())                                     \u001b[31m│\u001b[0m\n",
       "\u001b[31m│\u001b[0m   \u001b[2m 644 \u001b[0m\u001b[2m│   \u001b[0m_e = cancel(expr)                                                                     \u001b[31m│\u001b[0m\n",
       "\u001b[31m│\u001b[0m \u001b[31m❱ \u001b[0m 645 \u001b[2m│   \u001b[0mexpr1 = shorter(_e, _mexpand(_e).cancel())  \u001b[2m# issue 6829\u001b[0m                              \u001b[31m│\u001b[0m\n",
       "\u001b[31m│\u001b[0m   \u001b[2m 646 \u001b[0m\u001b[2m│   \u001b[0mexpr2 = shorter(together(expr, deep=\u001b[94mTrue\u001b[0m), together(expr1, deep=\u001b[94mTrue\u001b[0m))                \u001b[31m│\u001b[0m\n",
       "\u001b[31m│\u001b[0m   \u001b[2m 647 \u001b[0m\u001b[2m│   \u001b[0m                                                                                      \u001b[31m│\u001b[0m\n",
       "\u001b[31m│\u001b[0m   \u001b[2m 648 \u001b[0m\u001b[2m│   \u001b[0m\u001b[94mif\u001b[0m ratio \u001b[95mis\u001b[0m S.Infinity:                                                               \u001b[31m│\u001b[0m\n",
       "\u001b[31m│\u001b[0m                                                                                                  \u001b[31m│\u001b[0m\n",
       "\u001b[31m│\u001b[0m \u001b[2;33m/home/maa/anaconda3/envs/phd/lib/python3.10/site-packages/sympy/core/\u001b[0m\u001b[1;33mexpr.py\u001b[0m:\u001b[94m3760\u001b[0m in \u001b[92mcancel\u001b[0m      \u001b[31m│\u001b[0m\n",
       "\u001b[31m│\u001b[0m                                                                                                  \u001b[31m│\u001b[0m\n",
       "\u001b[31m│\u001b[0m   \u001b[2m3757 \u001b[0m\u001b[2m│   \u001b[0m\u001b[94mdef\u001b[0m \u001b[92mcancel\u001b[0m(\u001b[96mself\u001b[0m, *gens, **args):                                                      \u001b[31m│\u001b[0m\n",
       "\u001b[31m│\u001b[0m   \u001b[2m3758 \u001b[0m\u001b[2;90m│   │   \u001b[0m\u001b[33m\"\"\"See the cancel function in sympy.polys\"\"\"\u001b[0m                                      \u001b[31m│\u001b[0m\n",
       "\u001b[31m│\u001b[0m   \u001b[2m3759 \u001b[0m\u001b[2m│   │   \u001b[0m\u001b[94mfrom\u001b[0m \u001b[4;96msympy\u001b[0m\u001b[4;96m.\u001b[0m\u001b[4;96mpolys\u001b[0m\u001b[4;96m.\u001b[0m\u001b[4;96mpolytools\u001b[0m \u001b[94mimport\u001b[0m cancel                                          \u001b[31m│\u001b[0m\n",
       "\u001b[31m│\u001b[0m \u001b[31m❱ \u001b[0m3760 \u001b[2m│   │   \u001b[0m\u001b[94mreturn\u001b[0m cancel(\u001b[96mself\u001b[0m, *gens, **args)                                                \u001b[31m│\u001b[0m\n",
       "\u001b[31m│\u001b[0m   \u001b[2m3761 \u001b[0m\u001b[2m│   \u001b[0m                                                                                      \u001b[31m│\u001b[0m\n",
       "\u001b[31m│\u001b[0m   \u001b[2m3762 \u001b[0m\u001b[2m│   \u001b[0m\u001b[94mdef\u001b[0m \u001b[92minvert\u001b[0m(\u001b[96mself\u001b[0m, g, *gens, **args):                                                   \u001b[31m│\u001b[0m\n",
       "\u001b[31m│\u001b[0m   \u001b[2m3763 \u001b[0m\u001b[2;90m│   │   \u001b[0m\u001b[33m\"\"\"Return the multiplicative inverse of ``self`` mod ``g``\u001b[0m                        \u001b[31m│\u001b[0m\n",
       "\u001b[31m│\u001b[0m                                                                                                  \u001b[31m│\u001b[0m\n",
       "\u001b[31m│\u001b[0m \u001b[2;33m/home/maa/anaconda3/envs/phd/lib/python3.10/site-packages/sympy/polys/\u001b[0m\u001b[1;33mpolytools.py\u001b[0m:\u001b[94m6766\u001b[0m in       \u001b[31m│\u001b[0m\n",
       "\u001b[31m│\u001b[0m \u001b[92mcancel\u001b[0m                                                                                           \u001b[31m│\u001b[0m\n",
       "\u001b[31m│\u001b[0m                                                                                                  \u001b[31m│\u001b[0m\n",
       "\u001b[31m│\u001b[0m   \u001b[2m6763 \u001b[0m\u001b[2m│   \u001b[0m\u001b[94mtry\u001b[0m:                                                                                  \u001b[31m│\u001b[0m\n",
       "\u001b[31m│\u001b[0m   \u001b[2m6764 \u001b[0m\u001b[2m│   │   \u001b[0m\u001b[94mif\u001b[0m f.has(Piecewise):                                                              \u001b[31m│\u001b[0m\n",
       "\u001b[31m│\u001b[0m   \u001b[2m6765 \u001b[0m\u001b[2m│   │   │   \u001b[0m\u001b[94mraise\u001b[0m PolynomialError()                                                       \u001b[31m│\u001b[0m\n",
       "\u001b[31m│\u001b[0m \u001b[31m❱ \u001b[0m6766 \u001b[2m│   │   \u001b[0mR, (F, G) = sring((p, q), *gens, **args)                                          \u001b[31m│\u001b[0m\n",
       "\u001b[31m│\u001b[0m   \u001b[2m6767 \u001b[0m\u001b[2m│   │   \u001b[0m\u001b[94mif\u001b[0m \u001b[95mnot\u001b[0m R.ngens:                                                                   \u001b[31m│\u001b[0m\n",
       "\u001b[31m│\u001b[0m   \u001b[2m6768 \u001b[0m\u001b[2m│   │   │   \u001b[0m\u001b[94mif\u001b[0m \u001b[95mnot\u001b[0m \u001b[96misinstance\u001b[0m(f, (\u001b[96mtuple\u001b[0m, Tuple)):                                         \u001b[31m│\u001b[0m\n",
       "\u001b[31m│\u001b[0m   \u001b[2m6769 \u001b[0m\u001b[2m│   │   │   │   \u001b[0m\u001b[94mreturn\u001b[0m f.expand()                                                         \u001b[31m│\u001b[0m\n",
       "\u001b[31m│\u001b[0m                                                                                                  \u001b[31m│\u001b[0m\n",
       "\u001b[31m│\u001b[0m \u001b[2;33m/home/maa/anaconda3/envs/phd/lib/python3.10/site-packages/sympy/polys/\u001b[0m\u001b[1;33mrings.py\u001b[0m:\u001b[94m163\u001b[0m in \u001b[92msring\u001b[0m      \u001b[31m│\u001b[0m\n",
       "\u001b[31m│\u001b[0m                                                                                                  \u001b[31m│\u001b[0m\n",
       "\u001b[31m│\u001b[0m   \u001b[2m 160 \u001b[0m\u001b[2m│   \u001b[0mopt = build_options(symbols, options)                                                 \u001b[31m│\u001b[0m\n",
       "\u001b[31m│\u001b[0m   \u001b[2m 161 \u001b[0m\u001b[2m│   \u001b[0m                                                                                      \u001b[31m│\u001b[0m\n",
       "\u001b[31m│\u001b[0m   \u001b[2m 162 \u001b[0m\u001b[2m│   \u001b[0m\u001b[2m# TODO: rewrite this so that it doesn't use expand() (see poly()).\u001b[0m                    \u001b[31m│\u001b[0m\n",
       "\u001b[31m│\u001b[0m \u001b[31m❱ \u001b[0m 163 \u001b[2m│   \u001b[0mreps, opt = _parallel_dict_from_expr(exprs, opt)                                      \u001b[31m│\u001b[0m\n",
       "\u001b[31m│\u001b[0m   \u001b[2m 164 \u001b[0m\u001b[2m│   \u001b[0m                                                                                      \u001b[31m│\u001b[0m\n",
       "\u001b[31m│\u001b[0m   \u001b[2m 165 \u001b[0m\u001b[2m│   \u001b[0m\u001b[94mif\u001b[0m opt.domain \u001b[95mis\u001b[0m \u001b[94mNone\u001b[0m:                                                                \u001b[31m│\u001b[0m\n",
       "\u001b[31m│\u001b[0m   \u001b[2m 166 \u001b[0m\u001b[2m│   │   \u001b[0mcoeffs = \u001b[96msum\u001b[0m([ \u001b[96mlist\u001b[0m(rep.values()) \u001b[94mfor\u001b[0m rep \u001b[95min\u001b[0m reps ], [])                          \u001b[31m│\u001b[0m\n",
       "\u001b[31m│\u001b[0m                                                                                                  \u001b[31m│\u001b[0m\n",
       "\u001b[31m│\u001b[0m \u001b[2;33m/home/maa/anaconda3/envs/phd/lib/python3.10/site-packages/sympy/polys/\u001b[0m\u001b[1;33mpolyutils.py\u001b[0m:\u001b[94m326\u001b[0m in        \u001b[31m│\u001b[0m\n",
       "\u001b[31m│\u001b[0m \u001b[92m_parallel_dict_from_expr\u001b[0m                                                                         \u001b[31m│\u001b[0m\n",
       "\u001b[31m│\u001b[0m                                                                                                  \u001b[31m│\u001b[0m\n",
       "\u001b[31m│\u001b[0m   \u001b[2m323 \u001b[0m\u001b[94mdef\u001b[0m \u001b[92m_parallel_dict_from_expr\u001b[0m(exprs, opt):                                                  \u001b[31m│\u001b[0m\n",
       "\u001b[31m│\u001b[0m   \u001b[2m324 \u001b[0m\u001b[2;90m│   \u001b[0m\u001b[33m\"\"\"Transform expressions into a multinomial form. \"\"\"\u001b[0m                                  \u001b[31m│\u001b[0m\n",
       "\u001b[31m│\u001b[0m   \u001b[2m325 \u001b[0m\u001b[2m│   \u001b[0m\u001b[94mif\u001b[0m opt.expand \u001b[95mis\u001b[0m \u001b[95mnot\u001b[0m \u001b[94mFalse\u001b[0m:                                                            \u001b[31m│\u001b[0m\n",
       "\u001b[31m│\u001b[0m \u001b[31m❱ \u001b[0m326 \u001b[2m│   │   \u001b[0mexprs = [ expr.expand() \u001b[94mfor\u001b[0m expr \u001b[95min\u001b[0m exprs ]                                        \u001b[31m│\u001b[0m\n",
       "\u001b[31m│\u001b[0m   \u001b[2m327 \u001b[0m\u001b[2m│   \u001b[0m                                                                                       \u001b[31m│\u001b[0m\n",
       "\u001b[31m│\u001b[0m   \u001b[2m328 \u001b[0m\u001b[2m│   \u001b[0m\u001b[94mif\u001b[0m \u001b[96many\u001b[0m(expr.is_commutative \u001b[95mis\u001b[0m \u001b[94mFalse\u001b[0m \u001b[94mfor\u001b[0m expr \u001b[95min\u001b[0m exprs):                                \u001b[31m│\u001b[0m\n",
       "\u001b[31m│\u001b[0m   \u001b[2m329 \u001b[0m\u001b[2m│   │   \u001b[0m\u001b[94mraise\u001b[0m PolynomialError(\u001b[33m'\u001b[0m\u001b[33mnon-commutative expressions are not supported\u001b[0m\u001b[33m'\u001b[0m)             \u001b[31m│\u001b[0m\n",
       "\u001b[31m│\u001b[0m                                                                                                  \u001b[31m│\u001b[0m\n",
       "\u001b[31m│\u001b[0m \u001b[2;33m/home/maa/anaconda3/envs/phd/lib/python3.10/site-packages/sympy/polys/\u001b[0m\u001b[1;33mpolyutils.py\u001b[0m:\u001b[94m326\u001b[0m in        \u001b[31m│\u001b[0m\n",
       "\u001b[31m│\u001b[0m \u001b[92m<listcomp>\u001b[0m                                                                                       \u001b[31m│\u001b[0m\n",
       "\u001b[31m│\u001b[0m                                                                                                  \u001b[31m│\u001b[0m\n",
       "\u001b[31m│\u001b[0m   \u001b[2m323 \u001b[0m\u001b[94mdef\u001b[0m \u001b[92m_parallel_dict_from_expr\u001b[0m(exprs, opt):                                                  \u001b[31m│\u001b[0m\n",
       "\u001b[31m│\u001b[0m   \u001b[2m324 \u001b[0m\u001b[2;90m│   \u001b[0m\u001b[33m\"\"\"Transform expressions into a multinomial form. \"\"\"\u001b[0m                                  \u001b[31m│\u001b[0m\n",
       "\u001b[31m│\u001b[0m   \u001b[2m325 \u001b[0m\u001b[2m│   \u001b[0m\u001b[94mif\u001b[0m opt.expand \u001b[95mis\u001b[0m \u001b[95mnot\u001b[0m \u001b[94mFalse\u001b[0m:                                                            \u001b[31m│\u001b[0m\n",
       "\u001b[31m│\u001b[0m \u001b[31m❱ \u001b[0m326 \u001b[2m│   │   \u001b[0mexprs = [ expr.expand() \u001b[94mfor\u001b[0m expr \u001b[95min\u001b[0m exprs ]                                        \u001b[31m│\u001b[0m\n",
       "\u001b[31m│\u001b[0m   \u001b[2m327 \u001b[0m\u001b[2m│   \u001b[0m                                                                                       \u001b[31m│\u001b[0m\n",
       "\u001b[31m│\u001b[0m   \u001b[2m328 \u001b[0m\u001b[2m│   \u001b[0m\u001b[94mif\u001b[0m \u001b[96many\u001b[0m(expr.is_commutative \u001b[95mis\u001b[0m \u001b[94mFalse\u001b[0m \u001b[94mfor\u001b[0m expr \u001b[95min\u001b[0m exprs):                                \u001b[31m│\u001b[0m\n",
       "\u001b[31m│\u001b[0m   \u001b[2m329 \u001b[0m\u001b[2m│   │   \u001b[0m\u001b[94mraise\u001b[0m PolynomialError(\u001b[33m'\u001b[0m\u001b[33mnon-commutative expressions are not supported\u001b[0m\u001b[33m'\u001b[0m)             \u001b[31m│\u001b[0m\n",
       "\u001b[31m│\u001b[0m                                                                                                  \u001b[31m│\u001b[0m\n",
       "\u001b[31m│\u001b[0m \u001b[2;33m/home/maa/anaconda3/envs/phd/lib/python3.10/site-packages/sympy/core/\u001b[0m\u001b[1;33mcache.py\u001b[0m:\u001b[94m70\u001b[0m in \u001b[92mwrapper\u001b[0m      \u001b[31m│\u001b[0m\n",
       "\u001b[31m│\u001b[0m                                                                                                  \u001b[31m│\u001b[0m\n",
       "\u001b[31m│\u001b[0m   \u001b[2m 67 \u001b[0m\u001b[2m│   │   \u001b[0m\u001b[1;95m@wraps\u001b[0m(func)                                                                       \u001b[31m│\u001b[0m\n",
       "\u001b[31m│\u001b[0m   \u001b[2m 68 \u001b[0m\u001b[2m│   │   \u001b[0m\u001b[94mdef\u001b[0m \u001b[92mwrapper\u001b[0m(*args, **kwargs):                                                      \u001b[31m│\u001b[0m\n",
       "\u001b[31m│\u001b[0m   \u001b[2m 69 \u001b[0m\u001b[2m│   │   │   \u001b[0m\u001b[94mtry\u001b[0m:                                                                           \u001b[31m│\u001b[0m\n",
       "\u001b[31m│\u001b[0m \u001b[31m❱ \u001b[0m 70 \u001b[2m│   │   │   │   \u001b[0mretval = cfunc(*args, **kwargs)                                            \u001b[31m│\u001b[0m\n",
       "\u001b[31m│\u001b[0m   \u001b[2m 71 \u001b[0m\u001b[2m│   │   │   \u001b[0m\u001b[94mexcept\u001b[0m \u001b[96mTypeError\u001b[0m \u001b[94mas\u001b[0m e:                                                         \u001b[31m│\u001b[0m\n",
       "\u001b[31m│\u001b[0m   \u001b[2m 72 \u001b[0m\u001b[2m│   │   │   │   \u001b[0m\u001b[94mif\u001b[0m \u001b[95mnot\u001b[0m e.args \u001b[95mor\u001b[0m \u001b[95mnot\u001b[0m e.args[\u001b[94m0\u001b[0m].startswith(\u001b[33m'\u001b[0m\u001b[33munhashable type:\u001b[0m\u001b[33m'\u001b[0m):             \u001b[31m│\u001b[0m\n",
       "\u001b[31m│\u001b[0m   \u001b[2m 73 \u001b[0m\u001b[2m│   │   │   │   │   \u001b[0m\u001b[94mraise\u001b[0m                                                                  \u001b[31m│\u001b[0m\n",
       "\u001b[31m│\u001b[0m                                                                                                  \u001b[31m│\u001b[0m\n",
       "\u001b[31m│\u001b[0m \u001b[2;33m/home/maa/anaconda3/envs/phd/lib/python3.10/site-packages/sympy/core/\u001b[0m\u001b[1;33mexpr.py\u001b[0m:\u001b[94m3651\u001b[0m in \u001b[92mexpand\u001b[0m      \u001b[31m│\u001b[0m\n",
       "\u001b[31m│\u001b[0m                                                                                                  \u001b[31m│\u001b[0m\n",
       "\u001b[31m│\u001b[0m   \u001b[2m3648 \u001b[0m\u001b[2m│   │   │   \u001b[0muse_hint = hints[hint]                                                        \u001b[31m│\u001b[0m\n",
       "\u001b[31m│\u001b[0m   \u001b[2m3649 \u001b[0m\u001b[2m│   │   │   \u001b[0m\u001b[94mif\u001b[0m use_hint:                                                                  \u001b[31m│\u001b[0m\n",
       "\u001b[31m│\u001b[0m   \u001b[2m3650 \u001b[0m\u001b[2m│   │   │   │   \u001b[0mhint = \u001b[33m'\u001b[0m\u001b[33m_eval_expand_\u001b[0m\u001b[33m'\u001b[0m + hint                                             \u001b[31m│\u001b[0m\n",
       "\u001b[31m│\u001b[0m \u001b[31m❱ \u001b[0m3651 \u001b[2m│   │   │   │   \u001b[0mexpr, hit = Expr._expand_hint(expr, hint, deep=deep, **hints)             \u001b[31m│\u001b[0m\n",
       "\u001b[31m│\u001b[0m   \u001b[2m3652 \u001b[0m\u001b[2m│   │   \u001b[0m                                                                                  \u001b[31m│\u001b[0m\n",
       "\u001b[31m│\u001b[0m   \u001b[2m3653 \u001b[0m\u001b[2m│   │   \u001b[0m\u001b[94mwhile\u001b[0m \u001b[94mTrue\u001b[0m:                                                                       \u001b[31m│\u001b[0m\n",
       "\u001b[31m│\u001b[0m   \u001b[2m3654 \u001b[0m\u001b[2m│   │   │   \u001b[0mwas = expr                                                                    \u001b[31m│\u001b[0m\n",
       "\u001b[31m│\u001b[0m                                                                                                  \u001b[31m│\u001b[0m\n",
       "\u001b[31m│\u001b[0m \u001b[2;33m/home/maa/anaconda3/envs/phd/lib/python3.10/site-packages/sympy/core/\u001b[0m\u001b[1;33mexpr.py\u001b[0m:\u001b[94m3584\u001b[0m in             \u001b[31m│\u001b[0m\n",
       "\u001b[31m│\u001b[0m \u001b[92m_expand_hint\u001b[0m                                                                                     \u001b[31m│\u001b[0m\n",
       "\u001b[31m│\u001b[0m                                                                                                  \u001b[31m│\u001b[0m\n",
       "\u001b[31m│\u001b[0m   \u001b[2m3581 \u001b[0m\u001b[2m│   │   \u001b[0m\u001b[94mif\u001b[0m deep \u001b[95mand\u001b[0m \u001b[96mgetattr\u001b[0m(expr, \u001b[33m'\u001b[0m\u001b[33margs\u001b[0m\u001b[33m'\u001b[0m, ()) \u001b[95mand\u001b[0m \u001b[95mnot\u001b[0m expr.is_Atom:                       \u001b[31m│\u001b[0m\n",
       "\u001b[31m│\u001b[0m   \u001b[2m3582 \u001b[0m\u001b[2m│   │   │   \u001b[0msargs = []                                                                    \u001b[31m│\u001b[0m\n",
       "\u001b[31m│\u001b[0m   \u001b[2m3583 \u001b[0m\u001b[2m│   │   │   \u001b[0m\u001b[94mfor\u001b[0m arg \u001b[95min\u001b[0m expr.args:                                                         \u001b[31m│\u001b[0m\n",
       "\u001b[31m│\u001b[0m \u001b[31m❱ \u001b[0m3584 \u001b[2m│   │   │   │   \u001b[0marg, arghit = Expr._expand_hint(arg, hint, **hints)                       \u001b[31m│\u001b[0m\n",
       "\u001b[31m│\u001b[0m   \u001b[2m3585 \u001b[0m\u001b[2m│   │   │   │   \u001b[0mhit |= arghit                                                             \u001b[31m│\u001b[0m\n",
       "\u001b[31m│\u001b[0m   \u001b[2m3586 \u001b[0m\u001b[2m│   │   │   │   \u001b[0msargs.append(arg)                                                         \u001b[31m│\u001b[0m\n",
       "\u001b[31m│\u001b[0m   \u001b[2m3587 \u001b[0m                                                                                          \u001b[31m│\u001b[0m\n",
       "\u001b[31m│\u001b[0m                                                                                                  \u001b[31m│\u001b[0m\n",
       "\u001b[31m│\u001b[0m \u001b[2;33m/home/maa/anaconda3/envs/phd/lib/python3.10/site-packages/sympy/core/\u001b[0m\u001b[1;33mexpr.py\u001b[0m:\u001b[94m3592\u001b[0m in             \u001b[31m│\u001b[0m\n",
       "\u001b[31m│\u001b[0m \u001b[92m_expand_hint\u001b[0m                                                                                     \u001b[31m│\u001b[0m\n",
       "\u001b[31m│\u001b[0m                                                                                                  \u001b[31m│\u001b[0m\n",
       "\u001b[31m│\u001b[0m   \u001b[2m3589 \u001b[0m\u001b[2m│   │   │   │   \u001b[0mexpr = expr.func(*sargs)                                                  \u001b[31m│\u001b[0m\n",
       "\u001b[31m│\u001b[0m   \u001b[2m3590 \u001b[0m\u001b[2m│   │   \u001b[0m                                                                                  \u001b[31m│\u001b[0m\n",
       "\u001b[31m│\u001b[0m   \u001b[2m3591 \u001b[0m\u001b[2m│   │   \u001b[0m\u001b[94mif\u001b[0m \u001b[96mhasattr\u001b[0m(expr, hint):                                                           \u001b[31m│\u001b[0m\n",
       "\u001b[31m│\u001b[0m \u001b[31m❱ \u001b[0m3592 \u001b[2m│   │   │   \u001b[0mnewexpr = \u001b[96mgetattr\u001b[0m(expr, hint)(**hints)                                        \u001b[31m│\u001b[0m\n",
       "\u001b[31m│\u001b[0m   \u001b[2m3593 \u001b[0m\u001b[2m│   │   │   \u001b[0m\u001b[94mif\u001b[0m newexpr != expr:                                                           \u001b[31m│\u001b[0m\n",
       "\u001b[31m│\u001b[0m   \u001b[2m3594 \u001b[0m\u001b[2m│   │   │   │   \u001b[0m\u001b[94mreturn\u001b[0m (newexpr, \u001b[94mTrue\u001b[0m)                                                    \u001b[31m│\u001b[0m\n",
       "\u001b[31m│\u001b[0m   \u001b[2m3595 \u001b[0m                                                                                          \u001b[31m│\u001b[0m\n",
       "\u001b[31m│\u001b[0m                                                                                                  \u001b[31m│\u001b[0m\n",
       "\u001b[31m│\u001b[0m \u001b[2;33m/home/maa/anaconda3/envs/phd/lib/python3.10/site-packages/sympy/core/\u001b[0m\u001b[1;33mmul.py\u001b[0m:\u001b[94m947\u001b[0m in               \u001b[31m│\u001b[0m\n",
       "\u001b[31m│\u001b[0m \u001b[92m_eval_expand_mul\u001b[0m                                                                                 \u001b[31m│\u001b[0m\n",
       "\u001b[31m│\u001b[0m                                                                                                  \u001b[31m│\u001b[0m\n",
       "\u001b[31m│\u001b[0m   \u001b[2m 944 \u001b[0m\u001b[2m│   │   │   \u001b[0mplain = \u001b[96mself\u001b[0m.func(*plain)                                                     \u001b[31m│\u001b[0m\n",
       "\u001b[31m│\u001b[0m   \u001b[2m 945 \u001b[0m\u001b[2m│   │   │   \u001b[0m\u001b[94mif\u001b[0m sums:                                                                      \u001b[31m│\u001b[0m\n",
       "\u001b[31m│\u001b[0m   \u001b[2m 946 \u001b[0m\u001b[2m│   │   │   │   \u001b[0mdeep = hints.get(\u001b[33m\"\u001b[0m\u001b[33mdeep\u001b[0m\u001b[33m\"\u001b[0m, \u001b[94mFalse\u001b[0m)                                           \u001b[31m│\u001b[0m\n",
       "\u001b[31m│\u001b[0m \u001b[31m❱ \u001b[0m 947 \u001b[2m│   │   │   │   \u001b[0mterms = \u001b[96mself\u001b[0m.func._expandsums(sums)                                       \u001b[31m│\u001b[0m\n",
       "\u001b[31m│\u001b[0m   \u001b[2m 948 \u001b[0m\u001b[2m│   │   │   │   \u001b[0margs = []                                                                 \u001b[31m│\u001b[0m\n",
       "\u001b[31m│\u001b[0m   \u001b[2m 949 \u001b[0m\u001b[2m│   │   │   │   \u001b[0m\u001b[94mfor\u001b[0m term \u001b[95min\u001b[0m terms:                                                        \u001b[31m│\u001b[0m\n",
       "\u001b[31m│\u001b[0m   \u001b[2m 950 \u001b[0m\u001b[2m│   │   │   │   │   \u001b[0mt = \u001b[96mself\u001b[0m.func(plain, term)                                            \u001b[31m│\u001b[0m\n",
       "\u001b[31m│\u001b[0m                                                                                                  \u001b[31m│\u001b[0m\n",
       "\u001b[31m│\u001b[0m \u001b[2;33m/home/maa/anaconda3/envs/phd/lib/python3.10/site-packages/sympy/core/\u001b[0m\u001b[1;33mmul.py\u001b[0m:\u001b[94m912\u001b[0m in \u001b[92m_expandsums\u001b[0m   \u001b[31m│\u001b[0m\n",
       "\u001b[31m│\u001b[0m                                                                                                  \u001b[31m│\u001b[0m\n",
       "\u001b[31m│\u001b[0m   \u001b[2m 909 \u001b[0m\u001b[2m│   │   \u001b[0mleft = Mul._expandsums(sums[:L//\u001b[94m2\u001b[0m])                                               \u001b[31m│\u001b[0m\n",
       "\u001b[31m│\u001b[0m   \u001b[2m 910 \u001b[0m\u001b[2m│   │   \u001b[0mright = Mul._expandsums(sums[L//\u001b[94m2\u001b[0m:])                                              \u001b[31m│\u001b[0m\n",
       "\u001b[31m│\u001b[0m   \u001b[2m 911 \u001b[0m\u001b[2m│   │   \u001b[0m                                                                                  \u001b[31m│\u001b[0m\n",
       "\u001b[31m│\u001b[0m \u001b[31m❱ \u001b[0m 912 \u001b[2m│   │   \u001b[0mterms = [Mul(a, b) \u001b[94mfor\u001b[0m a \u001b[95min\u001b[0m left \u001b[94mfor\u001b[0m b \u001b[95min\u001b[0m right]                                  \u001b[31m│\u001b[0m\n",
       "\u001b[31m│\u001b[0m   \u001b[2m 913 \u001b[0m\u001b[2m│   │   \u001b[0madded = Add(*terms)                                                               \u001b[31m│\u001b[0m\n",
       "\u001b[31m│\u001b[0m   \u001b[2m 914 \u001b[0m\u001b[2m│   │   \u001b[0m\u001b[94mreturn\u001b[0m Add.make_args(added)  \u001b[2m# it may have collapsed down to one term\u001b[0m             \u001b[31m│\u001b[0m\n",
       "\u001b[31m│\u001b[0m   \u001b[2m 915 \u001b[0m                                                                                          \u001b[31m│\u001b[0m\n",
       "\u001b[31m│\u001b[0m                                                                                                  \u001b[31m│\u001b[0m\n",
       "\u001b[31m│\u001b[0m \u001b[2;33m/home/maa/anaconda3/envs/phd/lib/python3.10/site-packages/sympy/core/\u001b[0m\u001b[1;33mmul.py\u001b[0m:\u001b[94m912\u001b[0m in \u001b[92m<listcomp>\u001b[0m    \u001b[31m│\u001b[0m\n",
       "\u001b[31m│\u001b[0m                                                                                                  \u001b[31m│\u001b[0m\n",
       "\u001b[31m│\u001b[0m   \u001b[2m 909 \u001b[0m\u001b[2m│   │   \u001b[0mleft = Mul._expandsums(sums[:L//\u001b[94m2\u001b[0m])                                               \u001b[31m│\u001b[0m\n",
       "\u001b[31m│\u001b[0m   \u001b[2m 910 \u001b[0m\u001b[2m│   │   \u001b[0mright = Mul._expandsums(sums[L//\u001b[94m2\u001b[0m:])                                              \u001b[31m│\u001b[0m\n",
       "\u001b[31m│\u001b[0m   \u001b[2m 911 \u001b[0m\u001b[2m│   │   \u001b[0m                                                                                  \u001b[31m│\u001b[0m\n",
       "\u001b[31m│\u001b[0m \u001b[31m❱ \u001b[0m 912 \u001b[2m│   │   \u001b[0mterms = [Mul(a, b) \u001b[94mfor\u001b[0m a \u001b[95min\u001b[0m left \u001b[94mfor\u001b[0m b \u001b[95min\u001b[0m right]                                  \u001b[31m│\u001b[0m\n",
       "\u001b[31m│\u001b[0m   \u001b[2m 913 \u001b[0m\u001b[2m│   │   \u001b[0madded = Add(*terms)                                                               \u001b[31m│\u001b[0m\n",
       "\u001b[31m│\u001b[0m   \u001b[2m 914 \u001b[0m\u001b[2m│   │   \u001b[0m\u001b[94mreturn\u001b[0m Add.make_args(added)  \u001b[2m# it may have collapsed down to one term\u001b[0m             \u001b[31m│\u001b[0m\n",
       "\u001b[31m│\u001b[0m   \u001b[2m 915 \u001b[0m                                                                                          \u001b[31m│\u001b[0m\n",
       "\u001b[31m│\u001b[0m                                                                                                  \u001b[31m│\u001b[0m\n",
       "\u001b[31m│\u001b[0m \u001b[2;33m/home/maa/anaconda3/envs/phd/lib/python3.10/site-packages/sympy/core/\u001b[0m\u001b[1;33mcache.py\u001b[0m:\u001b[94m70\u001b[0m in \u001b[92mwrapper\u001b[0m      \u001b[31m│\u001b[0m\n",
       "\u001b[31m│\u001b[0m                                                                                                  \u001b[31m│\u001b[0m\n",
       "\u001b[31m│\u001b[0m   \u001b[2m 67 \u001b[0m\u001b[2m│   │   \u001b[0m\u001b[1;95m@wraps\u001b[0m(func)                                                                       \u001b[31m│\u001b[0m\n",
       "\u001b[31m│\u001b[0m   \u001b[2m 68 \u001b[0m\u001b[2m│   │   \u001b[0m\u001b[94mdef\u001b[0m \u001b[92mwrapper\u001b[0m(*args, **kwargs):                                                      \u001b[31m│\u001b[0m\n",
       "\u001b[31m│\u001b[0m   \u001b[2m 69 \u001b[0m\u001b[2m│   │   │   \u001b[0m\u001b[94mtry\u001b[0m:                                                                           \u001b[31m│\u001b[0m\n",
       "\u001b[31m│\u001b[0m \u001b[31m❱ \u001b[0m 70 \u001b[2m│   │   │   │   \u001b[0mretval = cfunc(*args, **kwargs)                                            \u001b[31m│\u001b[0m\n",
       "\u001b[31m│\u001b[0m   \u001b[2m 71 \u001b[0m\u001b[2m│   │   │   \u001b[0m\u001b[94mexcept\u001b[0m \u001b[96mTypeError\u001b[0m \u001b[94mas\u001b[0m e:                                                         \u001b[31m│\u001b[0m\n",
       "\u001b[31m│\u001b[0m   \u001b[2m 72 \u001b[0m\u001b[2m│   │   │   │   \u001b[0m\u001b[94mif\u001b[0m \u001b[95mnot\u001b[0m e.args \u001b[95mor\u001b[0m \u001b[95mnot\u001b[0m e.args[\u001b[94m0\u001b[0m].startswith(\u001b[33m'\u001b[0m\u001b[33munhashable type:\u001b[0m\u001b[33m'\u001b[0m):             \u001b[31m│\u001b[0m\n",
       "\u001b[31m│\u001b[0m   \u001b[2m 73 \u001b[0m\u001b[2m│   │   │   │   │   \u001b[0m\u001b[94mraise\u001b[0m                                                                  \u001b[31m│\u001b[0m\n",
       "\u001b[31m╰──────────────────────────────────────────────────────────────────────────────────────────────────╯\u001b[0m\n",
       "\u001b[1;91mKeyboardInterrupt\u001b[0m\n"
      ]
     },
     "metadata": {},
     "output_type": "display_data"
    }
   ],
   "source": [
    "solution_propeller[V_xcorr] = sp.simplify(eq_V_x_corr.subs([\n",
    "(r_Delta, eq_r_Delta.rhs),\n",
    "(r_p, eq_r.rhs),\n",
    "(r_inf, solution_propeller[r_inf]),\n",
    "(V_inf, eq_V_inf.rhs),\n",
    "(C_Th, eq_C_Th.rhs),\n",
    "#(V_x, solution_propeller[V_x]),\n",
    "]))"
   ]
  },
  {
   "cell_type": "code",
   "execution_count": null,
   "id": "320137d6-0537-4465-956b-421bab8f1a9c",
   "metadata": {},
   "outputs": [],
   "source": [
    "lambdas_propeller={key:lambdify(expression) for key,expression in solution_propeller.items()}"
   ]
  },
  {
   "cell_type": "code",
   "execution_count": 43,
   "id": "7d05483c-008f-4bbf-b78c-a830966dc89d",
   "metadata": {},
   "outputs": [
    {
     "data": {
      "text/plain": [
       "dict_keys([V_x, r_inf, r_p, V_xcorr])"
      ]
     },
     "execution_count": 43,
     "metadata": {},
     "output_type": "execute_result"
    }
   ],
   "source": [
    "lambdas_propeller.keys()"
   ]
  },
  {
   "cell_type": "code",
   "execution_count": 44,
   "id": "7ac6d7d3-3f60-4868-ad96-063cfc32b8fc",
   "metadata": {},
   "outputs": [
    {
     "data": {
      "text/plain": [
       "<function _lambdifygenerated(T, r_0, rho, u, w_f, x)>"
      ]
     },
     "execution_count": 44,
     "metadata": {},
     "output_type": "execute_result"
    }
   ],
   "source": [
    "lambdas_propeller[V_x]"
   ]
  },
  {
   "cell_type": "code",
   "execution_count": null,
   "id": "61ba986c-4f76-4803-b440-25dc2603cf7a",
   "metadata": {},
   "outputs": [],
   "source": []
  },
  {
   "cell_type": "code",
   "execution_count": null,
   "id": "6219557d-b0c0-4bf6-a4a4-45a1792ee971",
   "metadata": {},
   "outputs": [],
   "source": []
  }
 ],
 "metadata": {
  "kernelspec": {
   "display_name": "Kedro (phd)",
   "language": "python",
   "name": "kedro_phd"
  },
  "language_info": {
   "codemirror_mode": {
    "name": "ipython",
    "version": 3
   },
   "file_extension": ".py",
   "mimetype": "text/x-python",
   "name": "python",
   "nbconvert_exporter": "python",
   "pygments_lexer": "ipython3",
   "version": "3.10.10"
  }
 },
 "nbformat": 4,
 "nbformat_minor": 5
}
