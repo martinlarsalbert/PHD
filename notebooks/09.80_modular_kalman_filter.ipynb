{
 "cells": [
  {
   "cell_type": "markdown",
   "id": "ffc809f7-abe0-49aa-9641-c6ed201666ad",
   "metadata": {},
   "source": [
    "# ModularSimulator Kalman filter"
   ]
  },
  {
   "cell_type": "code",
   "execution_count": 1,
   "id": "2eb5190a-eb15-4ae2-ac8f-ffb091e568f8",
   "metadata": {},
   "outputs": [],
   "source": [
    "import warnings\n",
    "warnings.filterwarnings('ignore')\n",
    "%matplotlib inline\n",
    "%load_ext autoreload\n",
    "%autoreload 2\n",
    "#%config Completer.use_jedi = False"
   ]
  },
  {
   "cell_type": "code",
   "execution_count": 2,
   "id": "16509cf8-5d69-4d3f-8cf5-26920fb31226",
   "metadata": {},
   "outputs": [],
   "source": [
    "import pandas as pd\n",
    "pd.set_option('display.max_rows', 5000)\n",
    "pd.set_option('display.max_columns', 5000)\n",
    "pd.set_option('display.width', 10000)\n",
    "import numpy as np\n",
    "import yaml\n",
    "\n",
    "from vessel_manoeuvring_models.visualization.plot import track_plot, plot\n",
    "from phd.visualization.plot_ship import track_plots\n",
    "from vessel_manoeuvring_models.extended_kalman_vmm import ExtendedKalman, SystemMatrixes\n",
    "from vmm_abkowitz_diminished import vmm as vmm\n",
    "from wPCC_pipeline.pipelines.brix.nodes import initial_parameters, extract_added_masses\n",
    "from wPCC_pipeline.pipelines.preprocess.nodes import load, add_thrust\n",
    "from wPCC_pipeline.pipelines.filter_data_extended_kalman.nodes import guess_covariance_matrixes, initial_state, extended_kalman_filter, extended_kalman_smoother\n",
    "from wPCC_pipeline.pipelines.motion_regression.nodes import predict_force, fit_motions, create_model_from_motion_regression\n",
    "from wPCC_pipeline.pipelines.prediction.nodes import simulate_euler\n",
    "from phd.pipelines.load_7m.nodes import fix_interpolated_angle\n",
    "from sklearn.metrics import mean_squared_error\n",
    "from vessel_manoeuvring_models.models.vmm import VMM, Simulator, ModelSimulator, get_coefficients\n",
    "import sympy as sp\n",
    "from functools import reduce\n",
    "from operator import add\n",
    "from vessel_manoeuvring_models.symbols import *\n",
    "import vessel_manoeuvring_models.symbols as symbols\n",
    "#from vessel_manoeuvring_models.models.propeller import *\n",
    "from vessel_manoeuvring_models.models.semiempirical_rudder import SemiempiricalRudderSystem\n",
    "from IPython.display import display\n",
    "from vessel_manoeuvring_models.prime_system import df_prime\n",
    "from vessel_manoeuvring_models.substitute_dynamic_symbols import run, lambdify\n",
    "from vessel_manoeuvring_models.models.modular_simulator import ModularVesselSimulator\n",
    "from vessel_manoeuvring_models.models.subsystem import PrimeEquationSubSystem\n",
    "from vessel_manoeuvring_models.parameters import df_parameters\n",
    "from phd.helpers import mean\n",
    "from vessel_manoeuvring_models.angles import mean_angle\n",
    "from vessel_manoeuvring_models.angles import smallest_signed_angle\n",
    "from vessel_manoeuvring_models.models.diff_eq_to_matrix import DiffEqToMatrix\n",
    "from vessel_manoeuvring_models.nonlinear_vmm_equations import X_eom, Y_eom, N_eom, fx_eq, fy_eq, mz_eq\n",
    "from vessel_manoeuvring_models.extended_kalman_filter import extended_kalman_filter\n",
    "import inspect\n",
    "from sympy.printing import pretty\n",
    "p = df_parameters[\"symbol\"]\n",
    "\n",
    "import logging\n",
    "log = logging.getLogger(__name__)\n",
    "\n",
    "import matplotlib.pyplot as plt\n",
    "plt.style.use('bmh')"
   ]
  },
  {
   "cell_type": "code",
   "execution_count": 3,
   "id": "f18e1be2-6462-40f9-8b98-0b037eee8049",
   "metadata": {},
   "outputs": [
    {
     "data": {
      "text/html": [
       "<pre style=\"white-space:pre;overflow-x:auto;line-height:normal;font-family:Menlo,'DejaVu Sans Mono',consolas,'Courier New',monospace\"><span style=\"color: #7fbfbf; text-decoration-color: #7fbfbf\">[06/06/23 10:56:44] </span><span style=\"color: #000080; text-decoration-color: #000080\">INFO    </span> Resolved project path as: <span style=\"color: #800080; text-decoration-color: #800080\">/home/maa/dev/</span><span style=\"color: #ff00ff; text-decoration-color: #ff00ff\">PHD.</span>                           <a href=\"file:///home/maa/anaconda3/envs/phd/lib/python3.10/site-packages/kedro/ipython/__init__.py\" target=\"_blank\"><span style=\"color: #7f7f7f; text-decoration-color: #7f7f7f\">__init__.py</span></a><span style=\"color: #7f7f7f; text-decoration-color: #7f7f7f\">:</span><a href=\"file:///home/maa/anaconda3/envs/phd/lib/python3.10/site-packages/kedro/ipython/__init__.py#134\" target=\"_blank\"><span style=\"color: #7f7f7f; text-decoration-color: #7f7f7f\">134</span></a>\n",
       "<span style=\"color: #7fbfbf; text-decoration-color: #7fbfbf\">                    </span>         To set a different path, run <span style=\"color: #008000; text-decoration-color: #008000\">'%reload_kedro &lt;project_root&gt;'</span>            <span style=\"color: #7f7f7f; text-decoration-color: #7f7f7f\">               </span>\n",
       "</pre>\n"
      ],
      "text/plain": [
       "\u001b[2;36m[06/06/23 10:56:44]\u001b[0m\u001b[2;36m \u001b[0m\u001b[34mINFO    \u001b[0m Resolved project path as: \u001b[35m/home/maa/dev/\u001b[0m\u001b[95mPHD.\u001b[0m                           \u001b]8;id=582125;file:///home/maa/anaconda3/envs/phd/lib/python3.10/site-packages/kedro/ipython/__init__.py\u001b\\\u001b[2m__init__.py\u001b[0m\u001b]8;;\u001b\\\u001b[2m:\u001b[0m\u001b]8;id=9163;file:///home/maa/anaconda3/envs/phd/lib/python3.10/site-packages/kedro/ipython/__init__.py#134\u001b\\\u001b[2m134\u001b[0m\u001b]8;;\u001b\\\n",
       "\u001b[2;36m                    \u001b[0m         To set a different path, run \u001b[32m'%reload_kedro \u001b[0m\u001b[32m<\u001b[0m\u001b[32mproject_root\u001b[0m\u001b[32m>\u001b[0m\u001b[32m'\u001b[0m            \u001b[2m               \u001b[0m\n"
      ]
     },
     "metadata": {},
     "output_type": "display_data"
    },
    {
     "data": {
      "text/html": [
       "<pre style=\"white-space:pre;overflow-x:auto;line-height:normal;font-family:Menlo,'DejaVu Sans Mono',consolas,'Courier New',monospace\"><span style=\"color: #7fbfbf; text-decoration-color: #7fbfbf\">[06/06/23 10:56:54] </span><span style=\"color: #000080; text-decoration-color: #000080\">INFO    </span> Kedro project phd                                                      <a href=\"file:///home/maa/anaconda3/envs/phd/lib/python3.10/site-packages/kedro/ipython/__init__.py\" target=\"_blank\"><span style=\"color: #7f7f7f; text-decoration-color: #7f7f7f\">__init__.py</span></a><span style=\"color: #7f7f7f; text-decoration-color: #7f7f7f\">:</span><a href=\"file:///home/maa/anaconda3/envs/phd/lib/python3.10/site-packages/kedro/ipython/__init__.py#103\" target=\"_blank\"><span style=\"color: #7f7f7f; text-decoration-color: #7f7f7f\">103</span></a>\n",
       "</pre>\n"
      ],
      "text/plain": [
       "\u001b[2;36m[06/06/23 10:56:54]\u001b[0m\u001b[2;36m \u001b[0m\u001b[34mINFO    \u001b[0m Kedro project phd                                                      \u001b]8;id=579255;file:///home/maa/anaconda3/envs/phd/lib/python3.10/site-packages/kedro/ipython/__init__.py\u001b\\\u001b[2m__init__.py\u001b[0m\u001b]8;;\u001b\\\u001b[2m:\u001b[0m\u001b]8;id=163307;file:///home/maa/anaconda3/envs/phd/lib/python3.10/site-packages/kedro/ipython/__init__.py#103\u001b\\\u001b[2m103\u001b[0m\u001b]8;;\u001b\\\n"
      ]
     },
     "metadata": {},
     "output_type": "display_data"
    },
    {
     "data": {
      "text/html": [
       "<pre style=\"white-space:pre;overflow-x:auto;line-height:normal;font-family:Menlo,'DejaVu Sans Mono',consolas,'Courier New',monospace\"><span style=\"color: #7fbfbf; text-decoration-color: #7fbfbf\">                    </span><span style=\"color: #000080; text-decoration-color: #000080\">INFO    </span> Defined global variable <span style=\"color: #008000; text-decoration-color: #008000\">'context'</span>, <span style=\"color: #008000; text-decoration-color: #008000\">'session'</span>, <span style=\"color: #008000; text-decoration-color: #008000\">'catalog'</span> and            <a href=\"file:///home/maa/anaconda3/envs/phd/lib/python3.10/site-packages/kedro/ipython/__init__.py\" target=\"_blank\"><span style=\"color: #7f7f7f; text-decoration-color: #7f7f7f\">__init__.py</span></a><span style=\"color: #7f7f7f; text-decoration-color: #7f7f7f\">:</span><a href=\"file:///home/maa/anaconda3/envs/phd/lib/python3.10/site-packages/kedro/ipython/__init__.py#104\" target=\"_blank\"><span style=\"color: #7f7f7f; text-decoration-color: #7f7f7f\">104</span></a>\n",
       "<span style=\"color: #7fbfbf; text-decoration-color: #7fbfbf\">                    </span>         <span style=\"color: #008000; text-decoration-color: #008000\">'pipelines'</span>                                                            <span style=\"color: #7f7f7f; text-decoration-color: #7f7f7f\">               </span>\n",
       "</pre>\n"
      ],
      "text/plain": [
       "\u001b[2;36m                   \u001b[0m\u001b[2;36m \u001b[0m\u001b[34mINFO    \u001b[0m Defined global variable \u001b[32m'context'\u001b[0m, \u001b[32m'session'\u001b[0m, \u001b[32m'catalog'\u001b[0m and            \u001b]8;id=280244;file:///home/maa/anaconda3/envs/phd/lib/python3.10/site-packages/kedro/ipython/__init__.py\u001b\\\u001b[2m__init__.py\u001b[0m\u001b]8;;\u001b\\\u001b[2m:\u001b[0m\u001b]8;id=396776;file:///home/maa/anaconda3/envs/phd/lib/python3.10/site-packages/kedro/ipython/__init__.py#104\u001b\\\u001b[2m104\u001b[0m\u001b]8;;\u001b\\\n",
       "\u001b[2;36m                    \u001b[0m         \u001b[32m'pipelines'\u001b[0m                                                            \u001b[2m               \u001b[0m\n"
      ]
     },
     "metadata": {},
     "output_type": "display_data"
    },
    {
     "data": {
      "text/html": [
       "<pre style=\"white-space:pre;overflow-x:auto;line-height:normal;font-family:Menlo,'DejaVu Sans Mono',consolas,'Courier New',monospace\"><span style=\"color: #7fbfbf; text-decoration-color: #7fbfbf\">                    </span><span style=\"color: #000080; text-decoration-color: #000080\">INFO    </span> Registered line magic <span style=\"color: #008000; text-decoration-color: #008000\">'run_viz'</span>                                        <a href=\"file:///home/maa/anaconda3/envs/phd/lib/python3.10/site-packages/kedro/ipython/__init__.py\" target=\"_blank\"><span style=\"color: #7f7f7f; text-decoration-color: #7f7f7f\">__init__.py</span></a><span style=\"color: #7f7f7f; text-decoration-color: #7f7f7f\">:</span><a href=\"file:///home/maa/anaconda3/envs/phd/lib/python3.10/site-packages/kedro/ipython/__init__.py#110\" target=\"_blank\"><span style=\"color: #7f7f7f; text-decoration-color: #7f7f7f\">110</span></a>\n",
       "</pre>\n"
      ],
      "text/plain": [
       "\u001b[2;36m                   \u001b[0m\u001b[2;36m \u001b[0m\u001b[34mINFO    \u001b[0m Registered line magic \u001b[32m'run_viz'\u001b[0m                                        \u001b]8;id=676292;file:///home/maa/anaconda3/envs/phd/lib/python3.10/site-packages/kedro/ipython/__init__.py\u001b\\\u001b[2m__init__.py\u001b[0m\u001b]8;;\u001b\\\u001b[2m:\u001b[0m\u001b]8;id=330407;file:///home/maa/anaconda3/envs/phd/lib/python3.10/site-packages/kedro/ipython/__init__.py#110\u001b\\\u001b[2m110\u001b[0m\u001b]8;;\u001b\\\n"
      ]
     },
     "metadata": {},
     "output_type": "display_data"
    },
    {
     "data": {
      "text/html": [
       "<pre style=\"white-space:pre;overflow-x:auto;line-height:normal;font-family:Menlo,'DejaVu Sans Mono',consolas,'Courier New',monospace\"><span style=\"color: #7fbfbf; text-decoration-color: #7fbfbf\">                    </span><span style=\"color: #000080; text-decoration-color: #000080\">INFO    </span> Loading data from <span style=\"color: #008000; text-decoration-color: #008000\">'wPCC.time_series'</span> <span style=\"font-weight: bold\">(</span>PartitionedDataSet<span style=\"font-weight: bold\">)</span><span style=\"color: #808000; text-decoration-color: #808000\">...</span>       <a href=\"file:///home/maa/anaconda3/envs/phd/lib/python3.10/site-packages/kedro/io/data_catalog.py\" target=\"_blank\"><span style=\"color: #7f7f7f; text-decoration-color: #7f7f7f\">data_catalog.py</span></a><span style=\"color: #7f7f7f; text-decoration-color: #7f7f7f\">:</span><a href=\"file:///home/maa/anaconda3/envs/phd/lib/python3.10/site-packages/kedro/io/data_catalog.py#343\" target=\"_blank\"><span style=\"color: #7f7f7f; text-decoration-color: #7f7f7f\">343</span></a>\n",
       "</pre>\n"
      ],
      "text/plain": [
       "\u001b[2;36m                   \u001b[0m\u001b[2;36m \u001b[0m\u001b[34mINFO    \u001b[0m Loading data from \u001b[32m'wPCC.time_series'\u001b[0m \u001b[1m(\u001b[0mPartitionedDataSet\u001b[1m)\u001b[0m\u001b[33m...\u001b[0m       \u001b]8;id=154495;file:///home/maa/anaconda3/envs/phd/lib/python3.10/site-packages/kedro/io/data_catalog.py\u001b\\\u001b[2mdata_catalog.py\u001b[0m\u001b]8;;\u001b\\\u001b[2m:\u001b[0m\u001b]8;id=94688;file:///home/maa/anaconda3/envs/phd/lib/python3.10/site-packages/kedro/io/data_catalog.py#343\u001b\\\u001b[2m343\u001b[0m\u001b]8;;\u001b\\\n"
      ]
     },
     "metadata": {},
     "output_type": "display_data"
    },
    {
     "data": {
      "text/html": [
       "<pre style=\"white-space:pre;overflow-x:auto;line-height:normal;font-family:Menlo,'DejaVu Sans Mono',consolas,'Courier New',monospace\"><span style=\"color: #7fbfbf; text-decoration-color: #7fbfbf\">                    </span><span style=\"color: #000080; text-decoration-color: #000080\">INFO    </span> Loading data from <span style=\"color: #008000; text-decoration-color: #008000\">'wPCC.time_series_preprocessed.ek_smooth'</span>        <a href=\"file:///home/maa/anaconda3/envs/phd/lib/python3.10/site-packages/kedro/io/data_catalog.py\" target=\"_blank\"><span style=\"color: #7f7f7f; text-decoration-color: #7f7f7f\">data_catalog.py</span></a><span style=\"color: #7f7f7f; text-decoration-color: #7f7f7f\">:</span><a href=\"file:///home/maa/anaconda3/envs/phd/lib/python3.10/site-packages/kedro/io/data_catalog.py#343\" target=\"_blank\"><span style=\"color: #7f7f7f; text-decoration-color: #7f7f7f\">343</span></a>\n",
       "<span style=\"color: #7fbfbf; text-decoration-color: #7fbfbf\">                    </span>         <span style=\"font-weight: bold\">(</span>PartitionedDataSet<span style=\"font-weight: bold\">)</span><span style=\"color: #808000; text-decoration-color: #808000\">...</span>                                            <span style=\"color: #7f7f7f; text-decoration-color: #7f7f7f\">                   </span>\n",
       "</pre>\n"
      ],
      "text/plain": [
       "\u001b[2;36m                   \u001b[0m\u001b[2;36m \u001b[0m\u001b[34mINFO    \u001b[0m Loading data from \u001b[32m'wPCC.time_series_preprocessed.ek_smooth'\u001b[0m        \u001b]8;id=610275;file:///home/maa/anaconda3/envs/phd/lib/python3.10/site-packages/kedro/io/data_catalog.py\u001b\\\u001b[2mdata_catalog.py\u001b[0m\u001b]8;;\u001b\\\u001b[2m:\u001b[0m\u001b]8;id=736650;file:///home/maa/anaconda3/envs/phd/lib/python3.10/site-packages/kedro/io/data_catalog.py#343\u001b\\\u001b[2m343\u001b[0m\u001b]8;;\u001b\\\n",
       "\u001b[2;36m                    \u001b[0m         \u001b[1m(\u001b[0mPartitionedDataSet\u001b[1m)\u001b[0m\u001b[33m...\u001b[0m                                            \u001b[2m                   \u001b[0m\n"
      ]
     },
     "metadata": {},
     "output_type": "display_data"
    },
    {
     "data": {
      "text/html": [
       "<pre style=\"white-space:pre;overflow-x:auto;line-height:normal;font-family:Menlo,'DejaVu Sans Mono',consolas,'Courier New',monospace\"><span style=\"color: #7fbfbf; text-decoration-color: #7fbfbf\">                    </span><span style=\"color: #000080; text-decoration-color: #000080\">INFO    </span> Loading data from <span style=\"color: #008000; text-decoration-color: #008000\">'wPCC.ship_data'</span> <span style=\"font-weight: bold\">(</span>YAMLDataSet<span style=\"font-weight: bold\">)</span><span style=\"color: #808000; text-decoration-color: #808000\">...</span>                <a href=\"file:///home/maa/anaconda3/envs/phd/lib/python3.10/site-packages/kedro/io/data_catalog.py\" target=\"_blank\"><span style=\"color: #7f7f7f; text-decoration-color: #7f7f7f\">data_catalog.py</span></a><span style=\"color: #7f7f7f; text-decoration-color: #7f7f7f\">:</span><a href=\"file:///home/maa/anaconda3/envs/phd/lib/python3.10/site-packages/kedro/io/data_catalog.py#343\" target=\"_blank\"><span style=\"color: #7f7f7f; text-decoration-color: #7f7f7f\">343</span></a>\n",
       "</pre>\n"
      ],
      "text/plain": [
       "\u001b[2;36m                   \u001b[0m\u001b[2;36m \u001b[0m\u001b[34mINFO    \u001b[0m Loading data from \u001b[32m'wPCC.ship_data'\u001b[0m \u001b[1m(\u001b[0mYAMLDataSet\u001b[1m)\u001b[0m\u001b[33m...\u001b[0m                \u001b]8;id=674081;file:///home/maa/anaconda3/envs/phd/lib/python3.10/site-packages/kedro/io/data_catalog.py\u001b\\\u001b[2mdata_catalog.py\u001b[0m\u001b]8;;\u001b\\\u001b[2m:\u001b[0m\u001b]8;id=187232;file:///home/maa/anaconda3/envs/phd/lib/python3.10/site-packages/kedro/io/data_catalog.py#343\u001b\\\u001b[2m343\u001b[0m\u001b]8;;\u001b\\\n"
      ]
     },
     "metadata": {},
     "output_type": "display_data"
    },
    {
     "data": {
      "text/html": [
       "<pre style=\"white-space:pre;overflow-x:auto;line-height:normal;font-family:Menlo,'DejaVu Sans Mono',consolas,'Courier New',monospace\"><span style=\"color: #7fbfbf; text-decoration-color: #7fbfbf\">                    </span><span style=\"color: #000080; text-decoration-color: #000080\">INFO    </span> Loading data from <span style=\"color: #008000; text-decoration-color: #008000\">'params:wPCC.exclude_parameters'</span>                 <a href=\"file:///home/maa/anaconda3/envs/phd/lib/python3.10/site-packages/kedro/io/data_catalog.py\" target=\"_blank\"><span style=\"color: #7f7f7f; text-decoration-color: #7f7f7f\">data_catalog.py</span></a><span style=\"color: #7f7f7f; text-decoration-color: #7f7f7f\">:</span><a href=\"file:///home/maa/anaconda3/envs/phd/lib/python3.10/site-packages/kedro/io/data_catalog.py#343\" target=\"_blank\"><span style=\"color: #7f7f7f; text-decoration-color: #7f7f7f\">343</span></a>\n",
       "<span style=\"color: #7fbfbf; text-decoration-color: #7fbfbf\">                    </span>         <span style=\"font-weight: bold\">(</span>MemoryDataSet<span style=\"font-weight: bold\">)</span><span style=\"color: #808000; text-decoration-color: #808000\">...</span>                                                 <span style=\"color: #7f7f7f; text-decoration-color: #7f7f7f\">                   </span>\n",
       "</pre>\n"
      ],
      "text/plain": [
       "\u001b[2;36m                   \u001b[0m\u001b[2;36m \u001b[0m\u001b[34mINFO    \u001b[0m Loading data from \u001b[32m'params:wPCC.exclude_parameters'\u001b[0m                 \u001b]8;id=820516;file:///home/maa/anaconda3/envs/phd/lib/python3.10/site-packages/kedro/io/data_catalog.py\u001b\\\u001b[2mdata_catalog.py\u001b[0m\u001b]8;;\u001b\\\u001b[2m:\u001b[0m\u001b]8;id=901833;file:///home/maa/anaconda3/envs/phd/lib/python3.10/site-packages/kedro/io/data_catalog.py#343\u001b\\\u001b[2m343\u001b[0m\u001b]8;;\u001b\\\n",
       "\u001b[2;36m                    \u001b[0m         \u001b[1m(\u001b[0mMemoryDataSet\u001b[1m)\u001b[0m\u001b[33m...\u001b[0m                                                 \u001b[2m                   \u001b[0m\n"
      ]
     },
     "metadata": {},
     "output_type": "display_data"
    },
    {
     "data": {
      "text/html": [
       "<pre style=\"white-space:pre;overflow-x:auto;line-height:normal;font-family:Menlo,'DejaVu Sans Mono',consolas,'Courier New',monospace\"><span style=\"color: #7fbfbf; text-decoration-color: #7fbfbf\">                    </span><span style=\"color: #000080; text-decoration-color: #000080\">INFO    </span> Loading data from <span style=\"color: #008000; text-decoration-color: #008000\">'wPCC.time_series_meta_data'</span> <span style=\"font-weight: bold\">(</span>CSVDataSet<span style=\"font-weight: bold\">)</span><span style=\"color: #808000; text-decoration-color: #808000\">...</span>     <a href=\"file:///home/maa/anaconda3/envs/phd/lib/python3.10/site-packages/kedro/io/data_catalog.py\" target=\"_blank\"><span style=\"color: #7f7f7f; text-decoration-color: #7f7f7f\">data_catalog.py</span></a><span style=\"color: #7f7f7f; text-decoration-color: #7f7f7f\">:</span><a href=\"file:///home/maa/anaconda3/envs/phd/lib/python3.10/site-packages/kedro/io/data_catalog.py#343\" target=\"_blank\"><span style=\"color: #7f7f7f; text-decoration-color: #7f7f7f\">343</span></a>\n",
       "</pre>\n"
      ],
      "text/plain": [
       "\u001b[2;36m                   \u001b[0m\u001b[2;36m \u001b[0m\u001b[34mINFO    \u001b[0m Loading data from \u001b[32m'wPCC.time_series_meta_data'\u001b[0m \u001b[1m(\u001b[0mCSVDataSet\u001b[1m)\u001b[0m\u001b[33m...\u001b[0m     \u001b]8;id=744821;file:///home/maa/anaconda3/envs/phd/lib/python3.10/site-packages/kedro/io/data_catalog.py\u001b\\\u001b[2mdata_catalog.py\u001b[0m\u001b]8;;\u001b\\\u001b[2m:\u001b[0m\u001b]8;id=855199;file:///home/maa/anaconda3/envs/phd/lib/python3.10/site-packages/kedro/io/data_catalog.py#343\u001b\\\u001b[2m343\u001b[0m\u001b]8;;\u001b\\\n"
      ]
     },
     "metadata": {},
     "output_type": "display_data"
    },
    {
     "data": {
      "text/html": [
       "<pre style=\"white-space:pre;overflow-x:auto;line-height:normal;font-family:Menlo,'DejaVu Sans Mono',consolas,'Courier New',monospace\"><span style=\"color: #7fbfbf; text-decoration-color: #7fbfbf\">                    </span><span style=\"color: #000080; text-decoration-color: #000080\">INFO    </span> Loading data from <span style=\"color: #008000; text-decoration-color: #008000\">'wPCC.models'</span> <span style=\"font-weight: bold\">(</span>PartitionedDataSet<span style=\"font-weight: bold\">)</span><span style=\"color: #808000; text-decoration-color: #808000\">...</span>            <a href=\"file:///home/maa/anaconda3/envs/phd/lib/python3.10/site-packages/kedro/io/data_catalog.py\" target=\"_blank\"><span style=\"color: #7f7f7f; text-decoration-color: #7f7f7f\">data_catalog.py</span></a><span style=\"color: #7f7f7f; text-decoration-color: #7f7f7f\">:</span><a href=\"file:///home/maa/anaconda3/envs/phd/lib/python3.10/site-packages/kedro/io/data_catalog.py#343\" target=\"_blank\"><span style=\"color: #7f7f7f; text-decoration-color: #7f7f7f\">343</span></a>\n",
       "</pre>\n"
      ],
      "text/plain": [
       "\u001b[2;36m                   \u001b[0m\u001b[2;36m \u001b[0m\u001b[34mINFO    \u001b[0m Loading data from \u001b[32m'wPCC.models'\u001b[0m \u001b[1m(\u001b[0mPartitionedDataSet\u001b[1m)\u001b[0m\u001b[33m...\u001b[0m            \u001b]8;id=628281;file:///home/maa/anaconda3/envs/phd/lib/python3.10/site-packages/kedro/io/data_catalog.py\u001b\\\u001b[2mdata_catalog.py\u001b[0m\u001b]8;;\u001b\\\u001b[2m:\u001b[0m\u001b]8;id=462376;file:///home/maa/anaconda3/envs/phd/lib/python3.10/site-packages/kedro/io/data_catalog.py#343\u001b\\\u001b[2m343\u001b[0m\u001b]8;;\u001b\\\n"
      ]
     },
     "metadata": {},
     "output_type": "display_data"
    }
   ],
   "source": [
    "%reload_kedro\n",
    "ship='wPCC'\n",
    "time_series = catalog.load(f\"{ship}.time_series\")\n",
    "time_series_smooth = catalog.load(f\"{ship}.time_series_preprocessed.ek_smooth\")\n",
    "ship_data = catalog.load(f\"{ship}.ship_data\")\n",
    "exclude_parameters = catalog.load(f\"params:{ship}.exclude_parameters\")\n",
    "time_series_meta_data = catalog.load(f\"{ship}.time_series_meta_data\")\n",
    "time_series_meta_data.index = time_series_meta_data.index.astype(str)\n",
    "time_series_meta_data.rename(columns={'test_type':'test type'}, inplace=True)\n",
    "model_loader = catalog.load(f\"{ship}.models\")"
   ]
  },
  {
   "cell_type": "code",
   "execution_count": 4,
   "id": "63ee6eaa-6832-4d77-8ba6-b9632c58b874",
   "metadata": {},
   "outputs": [
    {
     "data": {
      "text/plain": [
       "{'SLIC_propeller': <bound method AbstractVersionedDataSet.load of <kedro.extras.datasets.pickle.pickle_dataset.PickleDataSet object at 0x7fc30a53f6d0>>,\n",
       " 'modular': <bound method AbstractVersionedDataSet.load of <kedro.extras.datasets.pickle.pickle_dataset.PickleDataSet object at 0x7fc30a53d6c0>>,\n",
       " 'semiempirical_rudder': <bound method AbstractVersionedDataSet.load of <kedro.extras.datasets.pickle.pickle_dataset.PickleDataSet object at 0x7fc30a53f8b0>>,\n",
       " 'vmm_abkowitz_diminished': <bound method AbstractVersionedDataSet.load of <kedro.extras.datasets.pickle.pickle_dataset.PickleDataSet object at 0x7fc30a53f760>>,\n",
       " 'wpcc.updated.vmm_martins_simple.joined.model': <bound method AbstractVersionedDataSet.load of <kedro.extras.datasets.pickle.pickle_dataset.PickleDataSet object at 0x7fc30a53f880>>}"
      ]
     },
     "execution_count": 4,
     "metadata": {},
     "output_type": "execute_result"
    }
   ],
   "source": [
    "model_loader"
   ]
  },
  {
   "cell_type": "code",
   "execution_count": 5,
   "id": "10cd6f4b-8e63-4f3e-9c46-ca9a87ab26cf",
   "metadata": {},
   "outputs": [],
   "source": [
    "model= model_loader['modular']()\n",
    "model_old = model_loader['wpcc.updated.vmm_martins_simple.joined.model']()"
   ]
  },
  {
   "cell_type": "code",
   "execution_count": 6,
   "id": "8202d298-884d-4ad1-ac79-430213c8c9c9",
   "metadata": {},
   "outputs": [
    {
     "data": {
      "text/latex": [
       "$\\displaystyle \\left[\\begin{matrix}\\frac{2 \\left(- m r \\left(r x_{G} + v\\right) - X_{H}{\\left(u,v,r,\\delta \\right)} - X_{R}{\\left(u,v,r,\\delta \\right)}\\right)}{L^{3} X_{\\dot{u}} \\rho - 2 m}\\\\\\frac{2 \\left(- \\left(2 I_{z} - L^{5} N_{\\dot{r}} \\rho\\right) \\left(- m r u + Y_{H}{\\left(u,v,r,\\delta \\right)} + Y_{R}{\\left(u,v,r,\\delta \\right)}\\right) - \\left(L^{4} Y_{\\dot{r}} \\rho - 2 m x_{G}\\right) \\left(- m r u x_{G} + N_{H}{\\left(u,v,r,\\delta \\right)} + N_{R}{\\left(u,v,r,\\delta \\right)}\\right)\\right)}{2 I_{z} L^{3} Y_{\\dot{v}} \\rho - 4 I_{z} m - L^{8} N_{\\dot{r}} Y_{\\dot{v}} \\rho^{2} + L^{8} N_{\\dot{v}} Y_{\\dot{r}} \\rho^{2} + 2 L^{5} N_{\\dot{r}} m \\rho - 2 L^{4} N_{\\dot{v}} m \\rho x_{G} - 2 L^{4} Y_{\\dot{r}} m \\rho x_{G} + 4 m^{2} x_{G}^{2}}\\\\\\frac{2 \\left(\\left(L^{3} Y_{\\dot{v}} \\rho - 2 m\\right) \\left(- m r u x_{G} + N_{H}{\\left(u,v,r,\\delta \\right)} + N_{R}{\\left(u,v,r,\\delta \\right)}\\right) - \\left(L^{4} N_{\\dot{v}} \\rho - 2 m x_{G}\\right) \\left(- m r u + Y_{H}{\\left(u,v,r,\\delta \\right)} + Y_{R}{\\left(u,v,r,\\delta \\right)}\\right)\\right)}{2 I_{z} L^{3} Y_{\\dot{v}} \\rho - 4 I_{z} m - L^{8} N_{\\dot{r}} Y_{\\dot{v}} \\rho^{2} + L^{8} N_{\\dot{v}} Y_{\\dot{r}} \\rho^{2} + 2 L^{5} N_{\\dot{r}} m \\rho - 2 L^{4} N_{\\dot{v}} m \\rho x_{G} - 2 L^{4} Y_{\\dot{r}} m \\rho x_{G} + 4 m^{2} x_{G}^{2}}\\end{matrix}\\right]$"
      ],
      "text/plain": [
       "Matrix([\n",
       "[                                                                                                                                                                                                                                                                                                                   2*(-m*r*(r*x_G + v) - X_H(u, v, r, delta) - X_R(u, v, r, delta))/(L**3*X_{\\dot{u}}*rho - 2*m)],\n",
       "[2*(-(2*I_z - L**5*N_{\\dot{r}}*rho)*(-m*r*u + Y_H(u, v, r, delta) + Y_R(u, v, r, delta)) - (L**4*Y_{\\dot{r}}*rho - 2*m*x_G)*(-m*r*u*x_G + N_H(u, v, r, delta) + N_R(u, v, r, delta)))/(2*I_z*L**3*Y_{\\dot{v}}*rho - 4*I_z*m - L**8*N_{\\dot{r}}*Y_{\\dot{v}}*rho**2 + L**8*N_{\\dot{v}}*Y_{\\dot{r}}*rho**2 + 2*L**5*N_{\\dot{r}}*m*rho - 2*L**4*N_{\\dot{v}}*m*rho*x_G - 2*L**4*Y_{\\dot{r}}*m*rho*x_G + 4*m**2*x_G**2)],\n",
       "[   2*((L**3*Y_{\\dot{v}}*rho - 2*m)*(-m*r*u*x_G + N_H(u, v, r, delta) + N_R(u, v, r, delta)) - (L**4*N_{\\dot{v}}*rho - 2*m*x_G)*(-m*r*u + Y_H(u, v, r, delta) + Y_R(u, v, r, delta)))/(2*I_z*L**3*Y_{\\dot{v}}*rho - 4*I_z*m - L**8*N_{\\dot{r}}*Y_{\\dot{v}}*rho**2 + L**8*N_{\\dot{v}}*Y_{\\dot{r}}*rho**2 + 2*L**5*N_{\\dot{r}}*m*rho - 2*L**4*N_{\\dot{v}}*m*rho*x_G - 2*L**4*Y_{\\dot{r}}*m*rho*x_G + 4*m**2*x_G**2)]])"
      ]
     },
     "execution_count": 6,
     "metadata": {},
     "output_type": "execute_result"
    }
   ],
   "source": [
    "model.acceleartion_eq_SI"
   ]
  },
  {
   "cell_type": "code",
   "execution_count": 7,
   "id": "54c72ff9-ecfa-4c79-a396-3a66eaf1ae9a",
   "metadata": {},
   "outputs": [
    {
     "data": {
      "text/plain": [
       "{'hull': <vessel_manoeuvring_models.models.subsystem.PrimeEquationSubSystem at 0x7fc30a514880>,\n",
       " 'rudders': <vessel_manoeuvring_models.models.subsystem.PrimeEquationSubSystem at 0x7fc30a5193f0>}"
      ]
     },
     "execution_count": 7,
     "metadata": {},
     "output_type": "execute_result"
    }
   ],
   "source": [
    "model.subsystems"
   ]
  },
  {
   "cell_type": "code",
   "execution_count": 8,
   "id": "495f8e8d-73e0-40d5-afac-8fc3c4d83778",
   "metadata": {},
   "outputs": [],
   "source": [
    "hull = model.subsystems['hull']\n",
    "rudders = model.subsystems['rudders']"
   ]
  },
  {
   "cell_type": "code",
   "execution_count": 9,
   "id": "58f28fef-0969-4eb9-9fdb-0a04785620b4",
   "metadata": {},
   "outputs": [],
   "source": [
    "states_dict = {\n",
    "'x_0':0,\n",
    "'y_0':0,\n",
    "'psi':0,\n",
    "'u':1,\n",
    "'v':0,\n",
    "'r':0,\n",
    "}\n",
    "control = {\n",
    "'delta':0,\n",
    "'thrust':0,\n",
    "}\n",
    "calculation = {}\n",
    "hull.calculate_partial_derivatives(states_dict=states_dict, control=control, calculation=calculation)\n",
    "rudders.calculate_partial_derivatives(states_dict=states_dict, control=control, calculation=calculation)"
   ]
  },
  {
   "cell_type": "code",
   "execution_count": 10,
   "id": "a6fd8915-1166-4cbe-aea9-fdcea75eccb9",
   "metadata": {},
   "outputs": [
    {
     "data": {
      "text/plain": [
       "{'ddx_0X_H': 0,\n",
       " 'ddy_0X_H': 0,\n",
       " 'ddpsiX_H': 0,\n",
       " 'dduX_H': 240.65056700706444,\n",
       " 'ddvX_H': 0.0,\n",
       " 'ddrX_H': -0.0,\n",
       " 'ddx_0Y_H': 0,\n",
       " 'ddy_0Y_H': 0,\n",
       " 'ddpsiY_H': 0,\n",
       " 'dduY_H': -0.3387710588406988,\n",
       " 'ddvY_H': -255.70758748650135,\n",
       " 'ddrY_H': -87.78115294162204,\n",
       " 'ddx_0N_H': 0,\n",
       " 'ddy_0N_H': 0,\n",
       " 'ddpsiN_H': 0,\n",
       " 'dduN_H': -0.21952311523639156,\n",
       " 'ddvN_H': -3.3340610445200096,\n",
       " 'ddrN_H': -573.5039827192941,\n",
       " 'ddx_0X_R': 0,\n",
       " 'ddy_0X_R': 0,\n",
       " 'ddpsiX_R': 0,\n",
       " 'dduX_R': 0,\n",
       " 'ddvX_R': 0,\n",
       " 'ddrX_R': 0,\n",
       " 'ddx_0Y_R': 0,\n",
       " 'ddy_0Y_R': 0,\n",
       " 'ddpsiY_R': 0,\n",
       " 'dduY_R': -0.0,\n",
       " 'ddvY_R': 0.0,\n",
       " 'ddrY_R': 0,\n",
       " 'ddx_0N_R': 0,\n",
       " 'ddy_0N_R': 0,\n",
       " 'ddpsiN_R': 0,\n",
       " 'dduN_R': 0.0,\n",
       " 'ddvN_R': 0.0,\n",
       " 'ddrN_R': 0}"
      ]
     },
     "execution_count": 10,
     "metadata": {},
     "output_type": "execute_result"
    }
   ],
   "source": [
    "calculation"
   ]
  },
  {
   "cell_type": "code",
   "execution_count": 11,
   "id": "a3d842bd-4a08-46d8-9707-632ac6f612e4",
   "metadata": {},
   "outputs": [],
   "source": [
    "x_dot = model.acceleartion_eq_SI"
   ]
  },
  {
   "cell_type": "code",
   "execution_count": 12,
   "id": "671aac26-8932-4d91-87aa-ae2c44e1f484",
   "metadata": {},
   "outputs": [
    {
     "data": {
      "text/latex": [
       "$\\displaystyle \\left[\\begin{matrix}\\frac{2 \\left(- m r \\left(r x_{G} + v\\right) - X_{H}{\\left(u,v,r,\\delta \\right)} - X_{R}{\\left(u,v,r,\\delta \\right)}\\right)}{L^{3} X_{\\dot{u}} \\rho - 2 m}\\\\\\frac{2 \\left(- \\left(2 I_{z} - L^{5} N_{\\dot{r}} \\rho\\right) \\left(- m r u + Y_{H}{\\left(u,v,r,\\delta \\right)} + Y_{R}{\\left(u,v,r,\\delta \\right)}\\right) - \\left(L^{4} Y_{\\dot{r}} \\rho - 2 m x_{G}\\right) \\left(- m r u x_{G} + N_{H}{\\left(u,v,r,\\delta \\right)} + N_{R}{\\left(u,v,r,\\delta \\right)}\\right)\\right)}{2 I_{z} L^{3} Y_{\\dot{v}} \\rho - 4 I_{z} m - L^{8} N_{\\dot{r}} Y_{\\dot{v}} \\rho^{2} + L^{8} N_{\\dot{v}} Y_{\\dot{r}} \\rho^{2} + 2 L^{5} N_{\\dot{r}} m \\rho - 2 L^{4} N_{\\dot{v}} m \\rho x_{G} - 2 L^{4} Y_{\\dot{r}} m \\rho x_{G} + 4 m^{2} x_{G}^{2}}\\\\\\frac{2 \\left(\\left(L^{3} Y_{\\dot{v}} \\rho - 2 m\\right) \\left(- m r u x_{G} + N_{H}{\\left(u,v,r,\\delta \\right)} + N_{R}{\\left(u,v,r,\\delta \\right)}\\right) - \\left(L^{4} N_{\\dot{v}} \\rho - 2 m x_{G}\\right) \\left(- m r u + Y_{H}{\\left(u,v,r,\\delta \\right)} + Y_{R}{\\left(u,v,r,\\delta \\right)}\\right)\\right)}{2 I_{z} L^{3} Y_{\\dot{v}} \\rho - 4 I_{z} m - L^{8} N_{\\dot{r}} Y_{\\dot{v}} \\rho^{2} + L^{8} N_{\\dot{v}} Y_{\\dot{r}} \\rho^{2} + 2 L^{5} N_{\\dot{r}} m \\rho - 2 L^{4} N_{\\dot{v}} m \\rho x_{G} - 2 L^{4} Y_{\\dot{r}} m \\rho x_{G} + 4 m^{2} x_{G}^{2}}\\end{matrix}\\right]$"
      ],
      "text/plain": [
       "Matrix([\n",
       "[                                                                                                                                                                                                                                                                                                                   2*(-m*r*(r*x_G + v) - X_H(u, v, r, delta) - X_R(u, v, r, delta))/(L**3*X_{\\dot{u}}*rho - 2*m)],\n",
       "[2*(-(2*I_z - L**5*N_{\\dot{r}}*rho)*(-m*r*u + Y_H(u, v, r, delta) + Y_R(u, v, r, delta)) - (L**4*Y_{\\dot{r}}*rho - 2*m*x_G)*(-m*r*u*x_G + N_H(u, v, r, delta) + N_R(u, v, r, delta)))/(2*I_z*L**3*Y_{\\dot{v}}*rho - 4*I_z*m - L**8*N_{\\dot{r}}*Y_{\\dot{v}}*rho**2 + L**8*N_{\\dot{v}}*Y_{\\dot{r}}*rho**2 + 2*L**5*N_{\\dot{r}}*m*rho - 2*L**4*N_{\\dot{v}}*m*rho*x_G - 2*L**4*Y_{\\dot{r}}*m*rho*x_G + 4*m**2*x_G**2)],\n",
       "[   2*((L**3*Y_{\\dot{v}}*rho - 2*m)*(-m*r*u*x_G + N_H(u, v, r, delta) + N_R(u, v, r, delta)) - (L**4*N_{\\dot{v}}*rho - 2*m*x_G)*(-m*r*u + Y_H(u, v, r, delta) + Y_R(u, v, r, delta)))/(2*I_z*L**3*Y_{\\dot{v}}*rho - 4*I_z*m - L**8*N_{\\dot{r}}*Y_{\\dot{v}}*rho**2 + L**8*N_{\\dot{v}}*Y_{\\dot{r}}*rho**2 + 2*L**5*N_{\\dot{r}}*m*rho - 2*L**4*N_{\\dot{v}}*m*rho*x_G - 2*L**4*Y_{\\dot{r}}*m*rho*x_G + 4*m**2*x_G**2)]])"
      ]
     },
     "execution_count": 12,
     "metadata": {},
     "output_type": "execute_result"
    }
   ],
   "source": [
    "x_dot"
   ]
  },
  {
   "cell_type": "code",
   "execution_count": 13,
   "id": "bb9f0778-ac9e-487d-81ad-bae77e4bab6a",
   "metadata": {},
   "outputs": [],
   "source": [
    "x_ = sp.Matrix(\n",
    "        [u * sp.cos(psi) - v * sp.sin(psi), u * sp.sin(psi) + v * sp.cos(psi), r]\n",
    "    )\n",
    "f_ = sp.Matrix.vstack(x_, x_dot)\n",
    "f_ = sympy.matrices.immutable.ImmutableDenseMatrix(f_)"
   ]
  },
  {
   "cell_type": "code",
   "execution_count": 14,
   "id": "6c10950c-5530-479b-8c17-c16258185b1e",
   "metadata": {},
   "outputs": [
    {
     "data": {
      "text/latex": [
       "$\\displaystyle \\left[\\begin{matrix}u \\cos{\\left(\\Psi \\right)} - v \\sin{\\left(\\Psi \\right)}\\\\u \\sin{\\left(\\Psi \\right)} + v \\cos{\\left(\\Psi \\right)}\\\\r\\\\\\frac{2 \\left(- m r \\left(r x_{G} + v\\right) - X_{H}{\\left(u,v,r,\\delta \\right)} - X_{R}{\\left(u,v,r,\\delta \\right)}\\right)}{L^{3} X_{\\dot{u}} \\rho - 2 m}\\\\\\frac{2 \\left(- \\left(2 I_{z} - L^{5} N_{\\dot{r}} \\rho\\right) \\left(- m r u + Y_{H}{\\left(u,v,r,\\delta \\right)} + Y_{R}{\\left(u,v,r,\\delta \\right)}\\right) - \\left(L^{4} Y_{\\dot{r}} \\rho - 2 m x_{G}\\right) \\left(- m r u x_{G} + N_{H}{\\left(u,v,r,\\delta \\right)} + N_{R}{\\left(u,v,r,\\delta \\right)}\\right)\\right)}{2 I_{z} L^{3} Y_{\\dot{v}} \\rho - 4 I_{z} m - L^{8} N_{\\dot{r}} Y_{\\dot{v}} \\rho^{2} + L^{8} N_{\\dot{v}} Y_{\\dot{r}} \\rho^{2} + 2 L^{5} N_{\\dot{r}} m \\rho - 2 L^{4} N_{\\dot{v}} m \\rho x_{G} - 2 L^{4} Y_{\\dot{r}} m \\rho x_{G} + 4 m^{2} x_{G}^{2}}\\\\\\frac{2 \\left(\\left(L^{3} Y_{\\dot{v}} \\rho - 2 m\\right) \\left(- m r u x_{G} + N_{H}{\\left(u,v,r,\\delta \\right)} + N_{R}{\\left(u,v,r,\\delta \\right)}\\right) - \\left(L^{4} N_{\\dot{v}} \\rho - 2 m x_{G}\\right) \\left(- m r u + Y_{H}{\\left(u,v,r,\\delta \\right)} + Y_{R}{\\left(u,v,r,\\delta \\right)}\\right)\\right)}{2 I_{z} L^{3} Y_{\\dot{v}} \\rho - 4 I_{z} m - L^{8} N_{\\dot{r}} Y_{\\dot{v}} \\rho^{2} + L^{8} N_{\\dot{v}} Y_{\\dot{r}} \\rho^{2} + 2 L^{5} N_{\\dot{r}} m \\rho - 2 L^{4} N_{\\dot{v}} m \\rho x_{G} - 2 L^{4} Y_{\\dot{r}} m \\rho x_{G} + 4 m^{2} x_{G}^{2}}\\end{matrix}\\right]$"
      ],
      "text/plain": [
       "Matrix([\n",
       "[                                                                                                                                                                                                                                                                                                                                                                                       u*cos(\\Psi) - v*sin(\\Psi)],\n",
       "[                                                                                                                                                                                                                                                                                                                                                                                       u*sin(\\Psi) + v*cos(\\Psi)],\n",
       "[                                                                                                                                                                                                                                                                                                                                                                                                               r],\n",
       "[                                                                                                                                                                                                                                                                                                                   2*(-m*r*(r*x_G + v) - X_H(u, v, r, delta) - X_R(u, v, r, delta))/(L**3*X_{\\dot{u}}*rho - 2*m)],\n",
       "[2*(-(2*I_z - L**5*N_{\\dot{r}}*rho)*(-m*r*u + Y_H(u, v, r, delta) + Y_R(u, v, r, delta)) - (L**4*Y_{\\dot{r}}*rho - 2*m*x_G)*(-m*r*u*x_G + N_H(u, v, r, delta) + N_R(u, v, r, delta)))/(2*I_z*L**3*Y_{\\dot{v}}*rho - 4*I_z*m - L**8*N_{\\dot{r}}*Y_{\\dot{v}}*rho**2 + L**8*N_{\\dot{v}}*Y_{\\dot{r}}*rho**2 + 2*L**5*N_{\\dot{r}}*m*rho - 2*L**4*N_{\\dot{v}}*m*rho*x_G - 2*L**4*Y_{\\dot{r}}*m*rho*x_G + 4*m**2*x_G**2)],\n",
       "[   2*((L**3*Y_{\\dot{v}}*rho - 2*m)*(-m*r*u*x_G + N_H(u, v, r, delta) + N_R(u, v, r, delta)) - (L**4*N_{\\dot{v}}*rho - 2*m*x_G)*(-m*r*u + Y_H(u, v, r, delta) + Y_R(u, v, r, delta)))/(2*I_z*L**3*Y_{\\dot{v}}*rho - 4*I_z*m - L**8*N_{\\dot{r}}*Y_{\\dot{v}}*rho**2 + L**8*N_{\\dot{v}}*Y_{\\dot{r}}*rho**2 + 2*L**5*N_{\\dot{r}}*m*rho - 2*L**4*N_{\\dot{v}}*m*rho*x_G - 2*L**4*Y_{\\dot{r}}*m*rho*x_G + 4*m**2*x_G**2)]])"
      ]
     },
     "execution_count": 14,
     "metadata": {},
     "output_type": "execute_result"
    }
   ],
   "source": [
    "f_"
   ]
  },
  {
   "cell_type": "code",
   "execution_count": 15,
   "id": "b67aba51-06d4-4b56-8374-c2e533b4edf9",
   "metadata": {},
   "outputs": [],
   "source": [
    "jac = f_.jacobian(model.states)"
   ]
  },
  {
   "cell_type": "code",
   "execution_count": 16,
   "id": "ac094aa7-d651-4a47-b1c3-0a5d049d04b9",
   "metadata": {},
   "outputs": [
    {
     "data": {
      "text/latex": [
       "$\\displaystyle \\left[\\begin{matrix}0 & 0 & - u \\sin{\\left(\\Psi \\right)} - v \\cos{\\left(\\Psi \\right)} & \\cos{\\left(\\Psi \\right)} & - \\sin{\\left(\\Psi \\right)} & 0\\\\0 & 0 & u \\cos{\\left(\\Psi \\right)} - v \\sin{\\left(\\Psi \\right)} & \\sin{\\left(\\Psi \\right)} & \\cos{\\left(\\Psi \\right)} & 0\\\\0 & 0 & 0 & 0 & 0 & 1\\\\0 & 0 & 0 & \\frac{2 \\left(- \\frac{\\partial}{\\partial u} X_{H}{\\left(u,v,r,\\delta \\right)} - \\frac{\\partial}{\\partial u} X_{R}{\\left(u,v,r,\\delta \\right)}\\right)}{L^{3} X_{\\dot{u}} \\rho - 2 m} & \\frac{2 \\left(- m r - \\frac{\\partial}{\\partial v} X_{H}{\\left(u,v,r,\\delta \\right)} - \\frac{\\partial}{\\partial v} X_{R}{\\left(u,v,r,\\delta \\right)}\\right)}{L^{3} X_{\\dot{u}} \\rho - 2 m} & \\frac{2 \\left(- m r x_{G} - m \\left(r x_{G} + v\\right) - \\frac{\\partial}{\\partial r} X_{H}{\\left(u,v,r,\\delta \\right)} - \\frac{\\partial}{\\partial r} X_{R}{\\left(u,v,r,\\delta \\right)}\\right)}{L^{3} X_{\\dot{u}} \\rho - 2 m}\\\\0 & 0 & 0 & \\frac{2 \\left(- \\left(2 I_{z} - L^{5} N_{\\dot{r}} \\rho\\right) \\left(- m r + \\frac{\\partial}{\\partial u} Y_{H}{\\left(u,v,r,\\delta \\right)} + \\frac{\\partial}{\\partial u} Y_{R}{\\left(u,v,r,\\delta \\right)}\\right) - \\left(L^{4} Y_{\\dot{r}} \\rho - 2 m x_{G}\\right) \\left(- m r x_{G} + \\frac{\\partial}{\\partial u} N_{H}{\\left(u,v,r,\\delta \\right)} + \\frac{\\partial}{\\partial u} N_{R}{\\left(u,v,r,\\delta \\right)}\\right)\\right)}{2 I_{z} L^{3} Y_{\\dot{v}} \\rho - 4 I_{z} m - L^{8} N_{\\dot{r}} Y_{\\dot{v}} \\rho^{2} + L^{8} N_{\\dot{v}} Y_{\\dot{r}} \\rho^{2} + 2 L^{5} N_{\\dot{r}} m \\rho - 2 L^{4} N_{\\dot{v}} m \\rho x_{G} - 2 L^{4} Y_{\\dot{r}} m \\rho x_{G} + 4 m^{2} x_{G}^{2}} & \\frac{2 \\left(- \\left(2 I_{z} - L^{5} N_{\\dot{r}} \\rho\\right) \\left(\\frac{\\partial}{\\partial v} Y_{H}{\\left(u,v,r,\\delta \\right)} + \\frac{\\partial}{\\partial v} Y_{R}{\\left(u,v,r,\\delta \\right)}\\right) - \\left(L^{4} Y_{\\dot{r}} \\rho - 2 m x_{G}\\right) \\left(\\frac{\\partial}{\\partial v} N_{H}{\\left(u,v,r,\\delta \\right)} + \\frac{\\partial}{\\partial v} N_{R}{\\left(u,v,r,\\delta \\right)}\\right)\\right)}{2 I_{z} L^{3} Y_{\\dot{v}} \\rho - 4 I_{z} m - L^{8} N_{\\dot{r}} Y_{\\dot{v}} \\rho^{2} + L^{8} N_{\\dot{v}} Y_{\\dot{r}} \\rho^{2} + 2 L^{5} N_{\\dot{r}} m \\rho - 2 L^{4} N_{\\dot{v}} m \\rho x_{G} - 2 L^{4} Y_{\\dot{r}} m \\rho x_{G} + 4 m^{2} x_{G}^{2}} & \\frac{2 \\left(- \\left(2 I_{z} - L^{5} N_{\\dot{r}} \\rho\\right) \\left(- m u + \\frac{\\partial}{\\partial r} Y_{H}{\\left(u,v,r,\\delta \\right)} + \\frac{\\partial}{\\partial r} Y_{R}{\\left(u,v,r,\\delta \\right)}\\right) - \\left(L^{4} Y_{\\dot{r}} \\rho - 2 m x_{G}\\right) \\left(- m u x_{G} + \\frac{\\partial}{\\partial r} N_{H}{\\left(u,v,r,\\delta \\right)} + \\frac{\\partial}{\\partial r} N_{R}{\\left(u,v,r,\\delta \\right)}\\right)\\right)}{2 I_{z} L^{3} Y_{\\dot{v}} \\rho - 4 I_{z} m - L^{8} N_{\\dot{r}} Y_{\\dot{v}} \\rho^{2} + L^{8} N_{\\dot{v}} Y_{\\dot{r}} \\rho^{2} + 2 L^{5} N_{\\dot{r}} m \\rho - 2 L^{4} N_{\\dot{v}} m \\rho x_{G} - 2 L^{4} Y_{\\dot{r}} m \\rho x_{G} + 4 m^{2} x_{G}^{2}}\\\\0 & 0 & 0 & \\frac{2 \\left(\\left(L^{3} Y_{\\dot{v}} \\rho - 2 m\\right) \\left(- m r x_{G} + \\frac{\\partial}{\\partial u} N_{H}{\\left(u,v,r,\\delta \\right)} + \\frac{\\partial}{\\partial u} N_{R}{\\left(u,v,r,\\delta \\right)}\\right) - \\left(L^{4} N_{\\dot{v}} \\rho - 2 m x_{G}\\right) \\left(- m r + \\frac{\\partial}{\\partial u} Y_{H}{\\left(u,v,r,\\delta \\right)} + \\frac{\\partial}{\\partial u} Y_{R}{\\left(u,v,r,\\delta \\right)}\\right)\\right)}{2 I_{z} L^{3} Y_{\\dot{v}} \\rho - 4 I_{z} m - L^{8} N_{\\dot{r}} Y_{\\dot{v}} \\rho^{2} + L^{8} N_{\\dot{v}} Y_{\\dot{r}} \\rho^{2} + 2 L^{5} N_{\\dot{r}} m \\rho - 2 L^{4} N_{\\dot{v}} m \\rho x_{G} - 2 L^{4} Y_{\\dot{r}} m \\rho x_{G} + 4 m^{2} x_{G}^{2}} & \\frac{2 \\left(\\left(L^{3} Y_{\\dot{v}} \\rho - 2 m\\right) \\left(\\frac{\\partial}{\\partial v} N_{H}{\\left(u,v,r,\\delta \\right)} + \\frac{\\partial}{\\partial v} N_{R}{\\left(u,v,r,\\delta \\right)}\\right) - \\left(L^{4} N_{\\dot{v}} \\rho - 2 m x_{G}\\right) \\left(\\frac{\\partial}{\\partial v} Y_{H}{\\left(u,v,r,\\delta \\right)} + \\frac{\\partial}{\\partial v} Y_{R}{\\left(u,v,r,\\delta \\right)}\\right)\\right)}{2 I_{z} L^{3} Y_{\\dot{v}} \\rho - 4 I_{z} m - L^{8} N_{\\dot{r}} Y_{\\dot{v}} \\rho^{2} + L^{8} N_{\\dot{v}} Y_{\\dot{r}} \\rho^{2} + 2 L^{5} N_{\\dot{r}} m \\rho - 2 L^{4} N_{\\dot{v}} m \\rho x_{G} - 2 L^{4} Y_{\\dot{r}} m \\rho x_{G} + 4 m^{2} x_{G}^{2}} & \\frac{2 \\left(\\left(L^{3} Y_{\\dot{v}} \\rho - 2 m\\right) \\left(- m u x_{G} + \\frac{\\partial}{\\partial r} N_{H}{\\left(u,v,r,\\delta \\right)} + \\frac{\\partial}{\\partial r} N_{R}{\\left(u,v,r,\\delta \\right)}\\right) - \\left(L^{4} N_{\\dot{v}} \\rho - 2 m x_{G}\\right) \\left(- m u + \\frac{\\partial}{\\partial r} Y_{H}{\\left(u,v,r,\\delta \\right)} + \\frac{\\partial}{\\partial r} Y_{R}{\\left(u,v,r,\\delta \\right)}\\right)\\right)}{2 I_{z} L^{3} Y_{\\dot{v}} \\rho - 4 I_{z} m - L^{8} N_{\\dot{r}} Y_{\\dot{v}} \\rho^{2} + L^{8} N_{\\dot{v}} Y_{\\dot{r}} \\rho^{2} + 2 L^{5} N_{\\dot{r}} m \\rho - 2 L^{4} N_{\\dot{v}} m \\rho x_{G} - 2 L^{4} Y_{\\dot{r}} m \\rho x_{G} + 4 m^{2} x_{G}^{2}}\\end{matrix}\\right]$"
      ],
      "text/plain": [
       "Matrix([\n",
       "[0, 0, -u*sin(\\Psi) - v*cos(\\Psi),                                                                                                                                                                                                                                                                                                                                                                                                                                                                cos(\\Psi),                                                                                                                                                                                                                                                                                                                                                                                                                                             -sin(\\Psi),                                                                                                                                                                                                                                                                                                                                                                                                                                                                        0],\n",
       "[0, 0,  u*cos(\\Psi) - v*sin(\\Psi),                                                                                                                                                                                                                                                                                                                                                                                                                                                                sin(\\Psi),                                                                                                                                                                                                                                                                                                                                                                                                                                              cos(\\Psi),                                                                                                                                                                                                                                                                                                                                                                                                                                                                        0],\n",
       "[0, 0,                          0,                                                                                                                                                                                                                                                                                                                                                                                                                                                                        0,                                                                                                                                                                                                                                                                                                                                                                                                                                                      0,                                                                                                                                                                                                                                                                                                                                                                                                                                                                        1],\n",
       "[0, 0,                          0,                                                                                                                                                                                                                                                                                                                                                                2*(-Derivative(X_H(u, v, r, delta), u) - Derivative(X_R(u, v, r, delta), u))/(L**3*X_{\\dot{u}}*rho - 2*m),                                                                                                                                                                                                                                                                                                                                        2*(-m*r - Derivative(X_H(u, v, r, delta), v) - Derivative(X_R(u, v, r, delta), v))/(L**3*X_{\\dot{u}}*rho - 2*m),                                                                                                                                                                                                                                                                                                                                      2*(-m*r*x_G - m*(r*x_G + v) - Derivative(X_H(u, v, r, delta), r) - Derivative(X_R(u, v, r, delta), r))/(L**3*X_{\\dot{u}}*rho - 2*m)],\n",
       "[0, 0,                          0, 2*(-(2*I_z - L**5*N_{\\dot{r}}*rho)*(-m*r + Derivative(Y_H(u, v, r, delta), u) + Derivative(Y_R(u, v, r, delta), u)) - (L**4*Y_{\\dot{r}}*rho - 2*m*x_G)*(-m*r*x_G + Derivative(N_H(u, v, r, delta), u) + Derivative(N_R(u, v, r, delta), u)))/(2*I_z*L**3*Y_{\\dot{v}}*rho - 4*I_z*m - L**8*N_{\\dot{r}}*Y_{\\dot{v}}*rho**2 + L**8*N_{\\dot{v}}*Y_{\\dot{r}}*rho**2 + 2*L**5*N_{\\dot{r}}*m*rho - 2*L**4*N_{\\dot{v}}*m*rho*x_G - 2*L**4*Y_{\\dot{r}}*m*rho*x_G + 4*m**2*x_G**2), 2*(-(2*I_z - L**5*N_{\\dot{r}}*rho)*(Derivative(Y_H(u, v, r, delta), v) + Derivative(Y_R(u, v, r, delta), v)) - (L**4*Y_{\\dot{r}}*rho - 2*m*x_G)*(Derivative(N_H(u, v, r, delta), v) + Derivative(N_R(u, v, r, delta), v)))/(2*I_z*L**3*Y_{\\dot{v}}*rho - 4*I_z*m - L**8*N_{\\dot{r}}*Y_{\\dot{v}}*rho**2 + L**8*N_{\\dot{v}}*Y_{\\dot{r}}*rho**2 + 2*L**5*N_{\\dot{r}}*m*rho - 2*L**4*N_{\\dot{v}}*m*rho*x_G - 2*L**4*Y_{\\dot{r}}*m*rho*x_G + 4*m**2*x_G**2), 2*(-(2*I_z - L**5*N_{\\dot{r}}*rho)*(-m*u + Derivative(Y_H(u, v, r, delta), r) + Derivative(Y_R(u, v, r, delta), r)) - (L**4*Y_{\\dot{r}}*rho - 2*m*x_G)*(-m*u*x_G + Derivative(N_H(u, v, r, delta), r) + Derivative(N_R(u, v, r, delta), r)))/(2*I_z*L**3*Y_{\\dot{v}}*rho - 4*I_z*m - L**8*N_{\\dot{r}}*Y_{\\dot{v}}*rho**2 + L**8*N_{\\dot{v}}*Y_{\\dot{r}}*rho**2 + 2*L**5*N_{\\dot{r}}*m*rho - 2*L**4*N_{\\dot{v}}*m*rho*x_G - 2*L**4*Y_{\\dot{r}}*m*rho*x_G + 4*m**2*x_G**2)],\n",
       "[0, 0,                          0,    2*((L**3*Y_{\\dot{v}}*rho - 2*m)*(-m*r*x_G + Derivative(N_H(u, v, r, delta), u) + Derivative(N_R(u, v, r, delta), u)) - (L**4*N_{\\dot{v}}*rho - 2*m*x_G)*(-m*r + Derivative(Y_H(u, v, r, delta), u) + Derivative(Y_R(u, v, r, delta), u)))/(2*I_z*L**3*Y_{\\dot{v}}*rho - 4*I_z*m - L**8*N_{\\dot{r}}*Y_{\\dot{v}}*rho**2 + L**8*N_{\\dot{v}}*Y_{\\dot{r}}*rho**2 + 2*L**5*N_{\\dot{r}}*m*rho - 2*L**4*N_{\\dot{v}}*m*rho*x_G - 2*L**4*Y_{\\dot{r}}*m*rho*x_G + 4*m**2*x_G**2),    2*((L**3*Y_{\\dot{v}}*rho - 2*m)*(Derivative(N_H(u, v, r, delta), v) + Derivative(N_R(u, v, r, delta), v)) - (L**4*N_{\\dot{v}}*rho - 2*m*x_G)*(Derivative(Y_H(u, v, r, delta), v) + Derivative(Y_R(u, v, r, delta), v)))/(2*I_z*L**3*Y_{\\dot{v}}*rho - 4*I_z*m - L**8*N_{\\dot{r}}*Y_{\\dot{v}}*rho**2 + L**8*N_{\\dot{v}}*Y_{\\dot{r}}*rho**2 + 2*L**5*N_{\\dot{r}}*m*rho - 2*L**4*N_{\\dot{v}}*m*rho*x_G - 2*L**4*Y_{\\dot{r}}*m*rho*x_G + 4*m**2*x_G**2),    2*((L**3*Y_{\\dot{v}}*rho - 2*m)*(-m*u*x_G + Derivative(N_H(u, v, r, delta), r) + Derivative(N_R(u, v, r, delta), r)) - (L**4*N_{\\dot{v}}*rho - 2*m*x_G)*(-m*u + Derivative(Y_H(u, v, r, delta), r) + Derivative(Y_R(u, v, r, delta), r)))/(2*I_z*L**3*Y_{\\dot{v}}*rho - 4*I_z*m - L**8*N_{\\dot{r}}*Y_{\\dot{v}}*rho**2 + L**8*N_{\\dot{v}}*Y_{\\dot{r}}*rho**2 + 2*L**5*N_{\\dot{r}}*m*rho - 2*L**4*N_{\\dot{v}}*m*rho*x_G - 2*L**4*Y_{\\dot{r}}*m*rho*x_G + 4*m**2*x_G**2)]])"
      ]
     },
     "execution_count": 16,
     "metadata": {},
     "output_type": "execute_result"
    }
   ],
   "source": [
    "jac"
   ]
  },
  {
   "cell_type": "code",
   "execution_count": 17,
   "id": "46d91d9a-406c-46bc-ad89-c6c198858122",
   "metadata": {},
   "outputs": [],
   "source": [
    "subs_simpler = {value: key for key, value in p.items()}\n",
    "subs_simpler[psi] = 'psi'\n",
    "lambda_jacobian = lambdify(jac.subs(subs_simpler), substitute_functions=True)"
   ]
  },
  {
   "cell_type": "code",
   "execution_count": 18,
   "id": "bc7d1e0e-b4f6-4259-87da-c074133b45a6",
   "metadata": {},
   "outputs": [
    {
     "data": {
      "text/plain": [
       "<function _lambdifygenerated(I_z, L, Nrdot, Nvdot, Xudot, Yrdot, Yvdot, ddrN_H, ddrN_R, ddrX_H, ddrX_R, ddrY_H, ddrY_R, dduN_H, dduN_R, dduX_H, dduX_R, dduY_H, dduY_R, ddvN_H, ddvN_R, ddvX_H, ddvX_R, ddvY_H, ddvY_R, m, psi, r, rho, u, v, x_G)>"
      ]
     },
     "execution_count": 18,
     "metadata": {},
     "output_type": "execute_result"
    }
   ],
   "source": [
    "lambda_jacobian"
   ]
  },
  {
   "cell_type": "code",
   "execution_count": 19,
   "id": "9b45c761-b408-4d8a-9930-c89e32453f42",
   "metadata": {},
   "outputs": [
    {
     "data": {
      "text/plain": [
       "array([[ 0.00000000e+00,  0.00000000e+00, -0.00000000e+00,\n",
       "         1.00000000e+00, -0.00000000e+00,  0.00000000e+00],\n",
       "       [ 0.00000000e+00,  0.00000000e+00,  1.00000000e+00,\n",
       "         0.00000000e+00,  1.00000000e+00,  0.00000000e+00],\n",
       "       [ 0.00000000e+00,  0.00000000e+00,  0.00000000e+00,\n",
       "         0.00000000e+00,  0.00000000e+00,  1.00000000e+00],\n",
       "       [ 0.00000000e+00,  0.00000000e+00,  0.00000000e+00,\n",
       "         5.59973607e-01,  0.00000000e+00, -0.00000000e+00],\n",
       "       [ 0.00000000e+00,  0.00000000e+00,  0.00000000e+00,\n",
       "        -3.89774757e-04, -3.10414793e-01, -5.85377698e-01],\n",
       "       [ 0.00000000e+00,  0.00000000e+00,  0.00000000e+00,\n",
       "        -1.74619736e-04,  7.93114546e-03, -4.71240386e-01]])"
      ]
     },
     "execution_count": 19,
     "metadata": {},
     "output_type": "execute_result"
    }
   ],
   "source": [
    "self = hull\n",
    "run(function=lambda_jacobian, inputs=states_dict, \n",
    "                    **control,\n",
    "                    **calculation,\n",
    "                    **self.ship.ship_parameters,\n",
    "                    **self.ship.parameters,)"
   ]
  },
  {
   "cell_type": "code",
   "execution_count": 20,
   "id": "0fec7f4e-a7da-468a-a7a7-8f2981077e12",
   "metadata": {},
   "outputs": [
    {
     "data": {
      "text/plain": [
       "array([[ 1.00000000e+00,  0.00000000e+00, -0.00000000e+00,\n",
       "         1.00000000e-02, -0.00000000e+00,  0.00000000e+00],\n",
       "       [ 0.00000000e+00,  1.00000000e+00,  1.00000000e-02,\n",
       "         0.00000000e+00,  1.00000000e-02,  0.00000000e+00],\n",
       "       [ 0.00000000e+00,  0.00000000e+00,  1.00000000e+00,\n",
       "         0.00000000e+00,  0.00000000e+00,  1.00000000e-02],\n",
       "       [ 0.00000000e+00,  0.00000000e+00,  0.00000000e+00,\n",
       "         1.00559974e+00,  0.00000000e+00, -0.00000000e+00],\n",
       "       [ 0.00000000e+00,  0.00000000e+00,  0.00000000e+00,\n",
       "        -3.89774757e-06,  9.96895852e-01, -5.85377698e-03],\n",
       "       [ 0.00000000e+00,  0.00000000e+00,  0.00000000e+00,\n",
       "        -1.74619736e-06,  7.93114546e-05,  9.95287596e-01]])"
      ]
     },
     "execution_count": 20,
     "metadata": {},
     "output_type": "execute_result"
    }
   ],
   "source": [
    "model.calculate_jacobian(states_dict=states_dict, control=control, h=0.01)"
   ]
  },
  {
   "cell_type": "code",
   "execution_count": 21,
   "id": "d4c76469-ce38-4088-974c-dca21e1cd59d",
   "metadata": {},
   "outputs": [
    {
     "data": {
      "text/plain": [
       "<function _lambdifygenerated(I_z, L, N_H, N_R, Nrdot, Nvdot, X_H, X_R, Xudot, Y_H, Y_R, Yrdot, Yvdot, m, psi, r, rho, u, v, x_G)>"
      ]
     },
     "execution_count": 21,
     "metadata": {},
     "output_type": "execute_result"
    }
   ],
   "source": [
    "model.lambda_f"
   ]
  },
  {
   "cell_type": "code",
   "execution_count": 76,
   "id": "3f837b91-d463-49c1-bbe8-571fbaca75de",
   "metadata": {},
   "outputs": [],
   "source": [
    "def lambda_f(x: np.ndarray, input: pd.Series) -> np.ndarray:\n",
    "    \n",
    "    states_dict = {\n",
    "        'x0':x[0],\n",
    "        'y0':x[1],\n",
    "        'psi':x[2],\n",
    "        'u' : x[3],\n",
    "        'v' : x[4],\n",
    "        'r' : x[5],\n",
    "    }\n",
    "    \n",
    "    control = {key:value for key,value in zip(model.control_keys,input)}    \n",
    "    calculation = model.calculate_forces(states_dict=states_dict, control=control)\n",
    "    return run(model.lambda_f, inputs=states_dict, **control, \n",
    "            **model.parameters,\n",
    "            **model.ship_parameters,\n",
    "            **calculation,)\n",
    "    "
   ]
  },
  {
   "cell_type": "code",
   "execution_count": 77,
   "id": "08117517-3bfa-4f4c-9fba-99d075f64264",
   "metadata": {},
   "outputs": [
    {
     "data": {
      "text/plain": [
       "array([[ 1.00000000e+00],\n",
       "       [ 0.00000000e+00],\n",
       "       [ 0.00000000e+00],\n",
       "       [-2.41070285e-02],\n",
       "       [-3.89774757e-04],\n",
       "       [-1.74619736e-04]])"
      ]
     },
     "execution_count": 77,
     "metadata": {},
     "output_type": "execute_result"
    }
   ],
   "source": [
    "lambda_f(x=[0,0,0,1,0,0], input=[0,0])"
   ]
  },
  {
   "cell_type": "code",
   "execution_count": 78,
   "id": "c9a0e034-f468-49a7-b3e9-862b3f7e15ec",
   "metadata": {},
   "outputs": [],
   "source": [
    "raw_data = time_series['22773']()\n",
    "data = load(raw_data)\n",
    "data = add_thrust(data, thrust_channels=['Prop/PS/Thrust','Prop/SB/Thrust'])\n",
    "#data = time_series_smooth['wpcc.updated.22774.ek_smooth']()\n",
    "#data['V'] = data['U'] = np.sqrt(data['u']**2 + data['v']**2)\n",
    "\n",
    "data['rev'] = data[['Prop/SB/Rpm', 'Prop/PS/Rpm']].mean(axis=1)\n",
    "g_=9.81\n",
    "data['g'] = g_"
   ]
  },
  {
   "cell_type": "code",
   "execution_count": 79,
   "id": "bee0de49-340f-4900-a2ee-c4ced240b446",
   "metadata": {},
   "outputs": [],
   "source": [
    "h_=np.mean(np.diff(data.index))\n",
    "def lambda_jacobian(x: np.ndarray, input: pd.Series) -> np.ndarray:\n",
    "    \n",
    "    states_dict = {\n",
    "        'x0':x[0],\n",
    "        'y0':x[1],\n",
    "        'psi':x[2],\n",
    "        'u' : x[3],\n",
    "        'v' : x[4],\n",
    "        'r' : x[5],\n",
    "    }\n",
    "    \n",
    "    control = {key:value for key,value in zip(model.control_keys,input)}    \n",
    "    return model.calculate_jacobian(states_dict=states_dict, control=control, h=h_)\n",
    "    "
   ]
  },
  {
   "cell_type": "code",
   "execution_count": 80,
   "id": "a54e4cbf-b763-44cd-8e86-7b8c326e2218",
   "metadata": {},
   "outputs": [
    {
     "data": {
      "text/plain": [
       "array([[ 1.00000000e+00,  0.00000000e+00, -0.00000000e+00,\n",
       "         1.00000006e-02, -0.00000000e+00,  0.00000000e+00],\n",
       "       [ 0.00000000e+00,  1.00000000e+00,  1.00000006e-02,\n",
       "         0.00000000e+00,  1.00000006e-02,  0.00000000e+00],\n",
       "       [ 0.00000000e+00,  0.00000000e+00,  1.00000000e+00,\n",
       "         0.00000000e+00,  0.00000000e+00,  1.00000006e-02],\n",
       "       [ 0.00000000e+00,  0.00000000e+00,  0.00000000e+00,\n",
       "         9.99517859e-01, -0.00000000e+00, -0.00000000e+00],\n",
       "       [ 0.00000000e+00,  0.00000000e+00,  0.00000000e+00,\n",
       "        -7.79549560e-06,  9.96895852e-01, -5.85377731e-03],\n",
       "       [ 0.00000000e+00,  0.00000000e+00,  0.00000000e+00,\n",
       "        -3.49239491e-06,  7.93114591e-05,  9.95287596e-01]])"
      ]
     },
     "execution_count": 80,
     "metadata": {},
     "output_type": "execute_result"
    }
   ],
   "source": [
    "lambda_jacobian(x=[0,0,0,1,0,0], input=[0,0])"
   ]
  },
  {
   "cell_type": "code",
   "execution_count": 81,
   "id": "01ac52fa-1e30-4691-a276-f22d6b87388e",
   "metadata": {},
   "outputs": [],
   "source": [
    "system_matrixes = SystemMatrixes(vmm=model_old)"
   ]
  },
  {
   "cell_type": "code",
   "execution_count": 82,
   "id": "b693254e-f9ed-42f7-a17e-ea1005bb5fd1",
   "metadata": {},
   "outputs": [],
   "source": [
    "ek_covariance_input = yaml.safe_load(\"\"\"\n",
    "process_variance:\n",
    "  u : 0.003\n",
    "  v : 0.003\n",
    "  r : 0.019  # [deg]\n",
    "measurement_error_max:\n",
    "  positions: 0.05\n",
    "  psi: 0.5  # [deg]\n",
    "\"\"\"\n",
    ")                                     \n",
    "                                     \n",
    "covariance_matrixes = guess_covariance_matrixes(ek_covariance_input=ek_covariance_input,data=data)\n",
    "covariance_matrixes = {key:np.array(value) for key,value in covariance_matrixes.items()}"
   ]
  },
  {
   "cell_type": "code",
   "execution_count": 83,
   "id": "0580ffd5-aa86-48bd-8aa0-c83e1f59c058",
   "metadata": {},
   "outputs": [
    {
     "data": {
      "text/plain": [
       "{'P_prd': array([[2.77777778e-04, 0.00000000e+00, 0.00000000e+00, 0.00000000e+00,\n",
       "         0.00000000e+00, 0.00000000e+00],\n",
       "        [0.00000000e+00, 2.77777778e-04, 0.00000000e+00, 0.00000000e+00,\n",
       "         0.00000000e+00, 0.00000000e+00],\n",
       "        [0.00000000e+00, 0.00000000e+00, 8.46159499e-06, 0.00000000e+00,\n",
       "         0.00000000e+00, 0.00000000e+00],\n",
       "        [0.00000000e+00, 0.00000000e+00, 0.00000000e+00, 3.00000017e-05,\n",
       "         0.00000000e+00, 0.00000000e+00],\n",
       "        [0.00000000e+00, 0.00000000e+00, 0.00000000e+00, 0.00000000e+00,\n",
       "         3.00000017e-05, 0.00000000e+00],\n",
       "        [0.00000000e+00, 0.00000000e+00, 0.00000000e+00, 0.00000000e+00,\n",
       "         0.00000000e+00, 3.31612577e-06]]),\n",
       " 'Qd': array([[3.00000017e-05, 0.00000000e+00, 0.00000000e+00],\n",
       "        [0.00000000e+00, 3.00000017e-05, 0.00000000e+00],\n",
       "        [0.00000000e+00, 0.00000000e+00, 3.31612577e-06]]),\n",
       " 'Rd': array([[2.77777778e-04, 0.00000000e+00, 0.00000000e+00],\n",
       "        [0.00000000e+00, 2.77777778e-04, 0.00000000e+00],\n",
       "        [0.00000000e+00, 0.00000000e+00, 8.46159499e-06]])}"
      ]
     },
     "execution_count": 83,
     "metadata": {},
     "output_type": "execute_result"
    }
   ],
   "source": [
    "covariance_matrixes"
   ]
  },
  {
   "cell_type": "code",
   "execution_count": 84,
   "id": "58f76b1c-7f1a-4027-9e08-63e8d4700f31",
   "metadata": {},
   "outputs": [],
   "source": [
    "Cd = np.array(\n",
    "        [\n",
    "            [1, 0, 0, 0, 0, 0],\n",
    "            [0, 1, 0, 0, 0, 0],\n",
    "            [0, 0, 1, 0, 0, 0],\n",
    "        ]\n",
    "    )\n",
    "\n",
    "E = np.array(\n",
    "    [\n",
    "        [0, 0, 0],\n",
    "        [0, 0, 0],\n",
    "        [0, 0, 0],\n",
    "        [1, 0, 0],\n",
    "        [0, 1, 0],\n",
    "        [0, 0, 1],\n",
    "    ],\n",
    ")"
   ]
  },
  {
   "cell_type": "code",
   "execution_count": 85,
   "id": "c084c2cf-9946-45cc-8887-83b3db81c24e",
   "metadata": {},
   "outputs": [],
   "source": [
    "ek = ExtendedKalman(\n",
    "        vmm=model_old,\n",
    "        parameters=model_old.parameters,\n",
    "        ship_parameters=model_old.ship_parameters,\n",
    "        system_matrixes=system_matrixes,\n",
    "    )"
   ]
  },
  {
   "cell_type": "code",
   "execution_count": 86,
   "id": "0916bfd1-326b-4658-891b-d625199cbbd2",
   "metadata": {},
   "outputs": [],
   "source": [
    "time_steps_old = ek.filter(\n",
    "        data=data,\n",
    "        **covariance_matrixes, \n",
    "        E=E,\n",
    "        Cd=Cd,\n",
    "        input_columns=['delta','thrust'],\n",
    "    )"
   ]
  },
  {
   "cell_type": "code",
   "execution_count": 87,
   "id": "dc75739c-b5c4-4b11-93bb-3497150b1f22",
   "metadata": {},
   "outputs": [],
   "source": [
    "input = pd.Series(\n",
    "{'delta':0.1,\n",
    " 'thrust':100,\n",
    "})\n",
    "jac_old = ek.lambda_jacobian(x=[0,0,0,1,1,1], input=input)"
   ]
  },
  {
   "cell_type": "code",
   "execution_count": 88,
   "id": "f0365440-8f11-449e-8aa2-4bca705fda69",
   "metadata": {},
   "outputs": [],
   "source": [
    "jac = lambda_jacobian(x=[0,0,0,1,1,1], input=[0.1,100])"
   ]
  },
  {
   "cell_type": "code",
   "execution_count": 89,
   "id": "64b9661d-2cb6-4fad-a1a8-a0838337312e",
   "metadata": {},
   "outputs": [
    {
     "data": {
      "text/plain": [
       "array([[ 1., nan,  1.,  1., nan, nan],\n",
       "       [nan,  1.,  1., nan,  1., nan],\n",
       "       [nan, nan,  1., nan, nan,  1.],\n",
       "       [nan, nan, nan,  1.,  1.,  1.],\n",
       "       [nan, nan, nan,  1.,  1.,  1.],\n",
       "       [nan, nan, nan,  1.,  1.,  1.]])"
      ]
     },
     "execution_count": 89,
     "metadata": {},
     "output_type": "execute_result"
    }
   ],
   "source": [
    "jac/jac_old"
   ]
  },
  {
   "cell_type": "code",
   "execution_count": 90,
   "id": "d0862bc0-89ed-49ce-aed5-37cba729a9c3",
   "metadata": {},
   "outputs": [
    {
     "data": {
      "text/plain": [
       "array([[  1.        ],\n",
       "       [  2.        ],\n",
       "       [  3.        ],\n",
       "       [ -9.17228375],\n",
       "       [ 19.95007703],\n",
       "       [-40.32233969]])"
      ]
     },
     "execution_count": 90,
     "metadata": {},
     "output_type": "execute_result"
    }
   ],
   "source": [
    "states_dict = {\n",
    "        'x0':0,\n",
    "        'y0':0,\n",
    "        'psi':0,\n",
    "        'u' : 1,\n",
    "        'v' : 2,\n",
    "        'r' : 3,\n",
    "    }\n",
    "control={\n",
    "'delta':0.1,\n",
    "'thrust':1000,\n",
    "}\n",
    "run(system_matrixes._lambda_f, inputs=states_dict, **control, **model.parameters, **model.ship_parameters)"
   ]
  },
  {
   "cell_type": "code",
   "execution_count": 91,
   "id": "6daa46ab-3e8e-4140-a6d6-47d322a5e099",
   "metadata": {},
   "outputs": [
    {
     "data": {
      "text/plain": [
       "array([[  1.        ],\n",
       "       [  2.        ],\n",
       "       [  3.        ],\n",
       "       [ -9.17228375],\n",
       "       [ 19.95007703],\n",
       "       [-40.32233969]])"
      ]
     },
     "execution_count": 91,
     "metadata": {},
     "output_type": "execute_result"
    }
   ],
   "source": [
    "calculation = model.calculate_forces(states_dict=states_dict, control=control)\n",
    "run(model.lambda_f, inputs=states_dict, **control, **model.parameters, **model.ship_parameters, **calculation)"
   ]
  },
  {
   "cell_type": "code",
   "execution_count": 92,
   "id": "2b730d0c-6b46-4ab6-82e9-1be9dc6fc15a",
   "metadata": {},
   "outputs": [
    {
     "data": {
      "text/plain": [
       "array([[ 1.        ,  0.        , -0.02      ,  0.01      , -0.        ,\n",
       "         0.        ],\n",
       "       [ 0.        ,  1.        ,  0.01      ,  0.        ,  0.01      ,\n",
       "         0.        ],\n",
       "       [ 0.        ,  0.        ,  1.        ,  0.        ,  0.        ,\n",
       "         0.01      ],\n",
       "       [ 0.        ,  0.        ,  0.        ,  0.99534529, -0.00879691,\n",
       "        -0.06743016],\n",
       "       [ 0.        ,  0.        ,  0.        , -0.1220089 ,  1.15544339,\n",
       "         0.07003222],\n",
       "       [ 0.        ,  0.        ,  0.        ,  0.15771907, -0.28268099,\n",
       "         0.8670785 ]])"
      ]
     },
     "execution_count": 92,
     "metadata": {},
     "output_type": "execute_result"
    }
   ],
   "source": [
    "run(system_matrixes._lambda_jacobian, inputs=states_dict, **control, **model.parameters, **model.ship_parameters, h=h_)"
   ]
  },
  {
   "cell_type": "code",
   "execution_count": 93,
   "id": "44c63ac3-3ab4-4d41-ae34-22dd162819d3",
   "metadata": {},
   "outputs": [
    {
     "data": {
      "text/plain": [
       "array([[ 1.        ,  0.        , -0.02      ,  0.01      , -0.        ,\n",
       "         0.        ],\n",
       "       [ 0.        ,  1.        ,  0.01      ,  0.        ,  0.01      ,\n",
       "         0.        ],\n",
       "       [ 0.        ,  0.        ,  1.        ,  0.        ,  0.        ,\n",
       "         0.01      ],\n",
       "       [ 0.        ,  0.        ,  0.        ,  0.99534529, -0.00879691,\n",
       "        -0.06743016],\n",
       "       [ 0.        ,  0.        ,  0.        , -0.1220089 ,  1.15544339,\n",
       "         0.07003222],\n",
       "       [ 0.        ,  0.        ,  0.        ,  0.15771907, -0.28268099,\n",
       "         0.8670785 ]])"
      ]
     },
     "execution_count": 93,
     "metadata": {},
     "output_type": "execute_result"
    }
   ],
   "source": [
    "model.calculate_jacobian(states_dict=states_dict, control=control, h=h_)\n",
    "#run(model.lambda_jacobian, inputs=states_dict, **control, **model.parameters, **model.ship_parameters, h=1)"
   ]
  },
  {
   "cell_type": "code",
   "execution_count": 94,
   "id": "ad4e08a5-1cf2-421f-a49d-2d88122fd869",
   "metadata": {},
   "outputs": [
    {
     "data": {
      "text/plain": [
       "array([[ 1.        ,  0.        , -0.02      ,  0.01      , -0.        ,\n",
       "         0.        ],\n",
       "       [ 0.        ,  1.        ,  0.01      ,  0.        ,  0.01      ,\n",
       "         0.        ],\n",
       "       [ 0.        ,  0.        ,  1.        ,  0.        ,  0.        ,\n",
       "         0.01      ],\n",
       "       [ 0.        ,  0.        ,  0.        ,  0.99534529, -0.00879691,\n",
       "        -0.06743016],\n",
       "       [ 0.        ,  0.        ,  0.        , -0.1220089 ,  1.15544339,\n",
       "         0.07003222],\n",
       "       [ 0.        ,  0.        ,  0.        ,  0.15771907, -0.28268099,\n",
       "         0.8670785 ]])"
      ]
     },
     "execution_count": 94,
     "metadata": {},
     "output_type": "execute_result"
    }
   ],
   "source": [
    "input = [value for value in control.values()]\n",
    "x = [value for value in states_dict.values()][0:6]\n",
    "\n",
    "lambda_jacobian(x=x, input=input)"
   ]
  },
  {
   "cell_type": "code",
   "execution_count": 95,
   "id": "5e00b35b-0b4b-4364-b936-dbd6ff57fa30",
   "metadata": {},
   "outputs": [],
   "source": [
    "time_steps = extended_kalman_filter(lambda_f=lambda_f, \n",
    "                            lambda_jacobian=lambda_jacobian, \n",
    "                            data=data, \n",
    "                            **covariance_matrixes, \n",
    "                            E=E, \n",
    "                            Cd=Cd,\n",
    "                            input_columns=['delta','thrust'])"
   ]
  },
  {
   "cell_type": "code",
   "execution_count": 96,
   "id": "4c7b5cc0-ec01-4f44-8ffa-a2b66c725899",
   "metadata": {},
   "outputs": [],
   "source": [
    "from vessel_manoeuvring_models.extended_kalman_filter import get_time_step_array, time_steps_to_df"
   ]
  },
  {
   "cell_type": "code",
   "execution_count": 97,
   "id": "724922e3-59d2-4e84-9810-f047455cd331",
   "metadata": {},
   "outputs": [],
   "source": [
    "df = time_steps_to_df(time_steps)\n",
    "df_old = time_steps_to_df(time_steps_old)"
   ]
  },
  {
   "cell_type": "code",
   "execution_count": 98,
   "id": "78dd08e7-bad2-46a2-a163-0957b707c110",
   "metadata": {},
   "outputs": [
    {
     "data": {
      "text/plain": [
       "<Axes: xlabel='time'>"
      ]
     },
     "execution_count": 98,
     "metadata": {},
     "output_type": "execute_result"
    },
    {
     "data": {
      "image/png": "[encoded data removed]",
      "text/plain": [
       "<Figure size 640x480 with 1 Axes>"
      ]
     },
     "metadata": {},
     "output_type": "display_data"
    }
   ],
   "source": [
    "fig,ax=plt.subplots()\n",
    "df.plot(y='r', label='Modular', ax=ax)\n",
    "df_old.plot(y='r', label='Old', ax=ax)\n",
    "data.rolling(window=100).mean().plot(y='r', label='data', ax=ax)"
   ]
  },
  {
   "cell_type": "code",
   "execution_count": 101,
   "id": "d2c65f6e-eec1-4bcc-9a82-2421f274276c",
   "metadata": {},
   "outputs": [
    {
     "data": {
      "text/plain": [
       "<Axes: >"
      ]
     },
     "execution_count": 101,
     "metadata": {},
     "output_type": "execute_result"
    },
    {
     "data": {
      "image/png": "[encoded data removed]",
      "text/plain": [
       "<Figure size 640x480 with 1 Axes>"
      ]
     },
     "metadata": {},
     "output_type": "display_data"
    }
   ],
   "source": [
    "fig,ax=plt.subplots()\n",
    "df.plot(y='r1d', label='Modular', ax=ax)\n",
    "df_old.plot(y='r1d', label='Old', ax=ax)\n",
    "#data.rolling(window=1000).mean().plot(y='r1d', label='data', ax=ax)"
   ]
  },
  {
   "cell_type": "code",
   "execution_count": 46,
   "id": "a9c5f2f3-87bc-4580-9199-cf10d6c5a7b9",
   "metadata": {},
   "outputs": [],
   "source": [
    "f_X_H = sp.Function('X_H')(u,v,r,delta)\n",
    "f_Y_H = sp.Function('Y_H')(u,v,r,delta)\n",
    "f_N_H = sp.Function('N_H')(u,v,r,delta)\n",
    "\n",
    "f_X_R = sp.Function('X_R')(u,v,r,delta)\n",
    "f_Y_R = sp.Function('Y_R')(u,v,r,delta)\n",
    "f_N_R = sp.Function('N_R')(u,v,r,delta)\n",
    "\n",
    "f_X_P = sp.Function('X_P')(u,v,r,delta)"
   ]
  },
  {
   "cell_type": "code",
   "execution_count": 47,
   "id": "ed127fdd-7a83-4177-93fd-a26bfb8dd9f1",
   "metadata": {},
   "outputs": [
    {
     "data": {
      "text/latex": [
       "$\\displaystyle m \\left(\\dot{u} - r^{2} x_{G} - r v\\right) = X_{\\dot{u}} \\dot{u} + X_{H}{\\left(u,v,r,\\delta \\right)}$"
      ],
      "text/plain": [
       "Eq(m*(\\dot{u} - r**2*x_G - r*v), X_{\\dot{u}}*\\dot{u} + X_H(u, v, r, delta))"
      ]
     },
     "metadata": {},
     "output_type": "display_data"
    },
    {
     "data": {
      "text/latex": [
       "$\\displaystyle m \\left(\\dot{r} x_{G} + \\dot{v} + r u\\right) = Y_{\\dot{r}} \\dot{r} + Y_{\\dot{v}} \\dot{v} + Y_{H}{\\left(u,v,r,\\delta \\right)}$"
      ],
      "text/plain": [
       "Eq(m*(\\dot{r}*x_G + \\dot{v} + r*u), Y_{\\dot{r}}*\\dot{r} + Y_{\\dot{v}}*\\dot{v} + Y_H(u, v, r, delta))"
      ]
     },
     "metadata": {},
     "output_type": "display_data"
    },
    {
     "data": {
      "text/latex": [
       "$\\displaystyle I_{z} \\dot{r} + m x_{G} \\left(\\dot{v} + r u\\right) = N_{\\dot{r}} \\dot{r} + N_{\\dot{v}} \\dot{v} + N_{H}{\\left(u,v,r,\\delta \\right)}$"
      ],
      "text/plain": [
       "Eq(I_z*\\dot{r} + m*x_G*(\\dot{v} + r*u), N_{\\dot{r}}*\\dot{r} + N_{\\dot{v}}*\\dot{v} + N_H(u, v, r, delta))"
      ]
     },
     "metadata": {},
     "output_type": "display_data"
    }
   ],
   "source": [
    "X_eq = model.X_eq.subs(f_X_R,0)\n",
    "Y_eq = model.Y_eq.subs(f_Y_R,0)\n",
    "N_eq = model.N_eq.subs(f_N_R,0)\n",
    "\n",
    "display(X_eq)\n",
    "display(Y_eq)\n",
    "display(N_eq)\n"
   ]
  },
  {
   "cell_type": "code",
   "execution_count": 48,
   "id": "a7b437b8-2fc0-40e9-8553-dfa31aac43ab",
   "metadata": {},
   "outputs": [],
   "source": [
    "model_same = model = ModularVesselSimulator(X_eq=X_eq, Y_eq=Y_eq, N_eq=N_eq, \n",
    "                                            ship_parameters=model_old.ship_parameters, \n",
    "                                            parameters=model_old.parameters, \n",
    "                                            control_keys=model_old.control_keys)\n",
    "#model.subsystems['hull'] = hull"
   ]
  },
  {
   "cell_type": "code",
   "execution_count": null,
   "id": "bc937660-ebb6-4ae9-9aff-413cd5d3f9cd",
   "metadata": {},
   "outputs": [],
   "source": []
  },
  {
   "cell_type": "code",
   "execution_count": 49,
   "id": "fcc56f41-fe0d-4497-b120-1824a8e7ae00",
   "metadata": {},
   "outputs": [
    {
     "data": {
      "text/latex": [
       "$\\displaystyle X_{H} = X_{deltadelta} \\delta^{2} + X_{rr} r^{2} + X_{thrust} thrust + X_{uu} u^{2} + X_{u} u + X_{vr} r v$"
      ],
      "text/plain": [
       "Eq(X_H, X_{deltadelta}*delta**2 + X_{rr}*r**2 + X_{thrust}*thrust + X_{uu}*u**2 + X_{u}*u + X_{vr}*r*v)"
      ]
     },
     "metadata": {},
     "output_type": "display_data"
    },
    {
     "data": {
      "text/latex": [
       "$\\displaystyle Y_{H} = Y_{delta} \\delta + Y_{r} r + Y_{thrustdelta} \\delta thrust + Y_{thrust} thrust + Y_{ur} r u + Y_{u} u + Y_{vvdelta} \\delta v^{2} + Y_{v} v$"
      ],
      "text/plain": [
       "Eq(Y_H, Y_{delta}*delta + Y_{r}*r + Y_{thrustdelta}*delta*thrust + Y_{thrust}*thrust + Y_{ur}*r*u + Y_{u}*u + Y_{vvdelta}*delta*v**2 + Y_{v}*v)"
      ]
     },
     "metadata": {},
     "output_type": "display_data"
    },
    {
     "data": {
      "text/latex": [
       "$\\displaystyle N_{H} = N_{delta} \\delta + N_{r} r + N_{thrustdelta} \\delta thrust + N_{thrust} thrust + N_{ur} r u + N_{u} u + N_{vvdelta} \\delta v^{2} + N_{v} v$"
      ],
      "text/plain": [
       "Eq(N_H, N_{delta}*delta + N_{r}*r + N_{thrustdelta}*delta*thrust + N_{thrust}*thrust + N_{ur}*r*u + N_{u}*u + N_{vvdelta}*delta*v**2 + N_{v}*v)"
      ]
     },
     "metadata": {},
     "output_type": "display_data"
    }
   ],
   "source": [
    "eq_X_H = sp.Eq(X_H,model_old.X_qs_eq.rhs)\n",
    "eq_Y_H = sp.Eq(Y_H,model_old.Y_qs_eq.rhs)\n",
    "eq_N_H = sp.Eq(N_H,model_old.N_qs_eq.rhs)\n",
    "display(eq_X_H)\n",
    "display(eq_Y_H)\n",
    "display(eq_N_H)"
   ]
  },
  {
   "cell_type": "code",
   "execution_count": 50,
   "id": "4c54fadb-b03a-4e52-9d7d-45982916f8e1",
   "metadata": {},
   "outputs": [],
   "source": [
    "equations_hull = [eq_X_H, eq_Y_H, eq_N_H]\n",
    "hull = PrimeEquationSubSystem(ship=model, equations=equations_hull)\n",
    "model_same.subsystems['hull'] = hull"
   ]
  },
  {
   "cell_type": "code",
   "execution_count": 51,
   "id": "a39ebf33-0ff6-4a9e-850d-acea004ff438",
   "metadata": {},
   "outputs": [],
   "source": [
    "h_=np.mean(np.diff(data.index))\n",
    "def lambda_jacobian2(x: np.ndarray, input: pd.Series) -> np.ndarray:\n",
    "    \n",
    "    states_dict = {\n",
    "        'x0':x[0],\n",
    "        'y0':x[1],\n",
    "        'psi':x[2],\n",
    "        'u' : x[3],\n",
    "        'v' : x[4],\n",
    "        'r' : x[5],\n",
    "    }\n",
    "    \n",
    "    control = {key:value for key,value in zip(model.control_keys,input)}    \n",
    "    return model_same.calculate_jacobian(states_dict=states_dict, control=control, h=h_)"
   ]
  },
  {
   "cell_type": "code",
   "execution_count": 52,
   "id": "26231a9c-8554-41b7-b2c6-1a6f2c11b8b1",
   "metadata": {},
   "outputs": [
    {
     "data": {
      "text/plain": [
       "{'ddx_0X_H': <function _lambdifygenerated()>,\n",
       " 'ddy_0X_H': <function _lambdifygenerated()>,\n",
       " 'ddpsiX_H': <function _lambdifygenerated()>,\n",
       " 'dduX_H': <function _lambdifygenerated(L, Xdeltadelta, Xu, Xuu, delta, rho, u, v)>,\n",
       " 'ddvX_H': <function _lambdifygenerated(L, Xdeltadelta, Xu, Xvr, delta, r, rho, u, v)>,\n",
       " 'ddrX_H': <function _lambdifygenerated(L, Xrr, Xvr, r, rho, v)>,\n",
       " 'ddx_0Y_H': <function _lambdifygenerated()>,\n",
       " 'ddy_0Y_H': <function _lambdifygenerated()>,\n",
       " 'ddpsiY_H': <function _lambdifygenerated()>,\n",
       " 'dduY_H': <function _lambdifygenerated(L, Ydelta, Yr, Ythrust, Ythrustdelta, Yu, Yur, Yv, Yvvdelta, delta, r, rho, thrust, u, v)>,\n",
       " 'ddvY_H': <function _lambdifygenerated(L, Ydelta, Yr, Ythrust, Ythrustdelta, Yu, Yur, Yv, Yvvdelta, delta, r, rho, thrust, u, v)>,\n",
       " 'ddrY_H': <function _lambdifygenerated(L, Yr, Yur, rho, u, v)>,\n",
       " 'ddx_0N_H': <function _lambdifygenerated()>,\n",
       " 'ddy_0N_H': <function _lambdifygenerated()>,\n",
       " 'ddpsiN_H': <function _lambdifygenerated()>,\n",
       " 'dduN_H': <function _lambdifygenerated(L, Ndelta, Nr, Nthrust, Nthrustdelta, Nu, Nur, Nv, Nvvdelta, delta, r, rho, thrust, u, v)>,\n",
       " 'ddvN_H': <function _lambdifygenerated(L, Ndelta, Nr, Nthrust, Nthrustdelta, Nu, Nur, Nv, Nvvdelta, delta, r, rho, thrust, u, v)>,\n",
       " 'ddrN_H': <function _lambdifygenerated(L, Nr, Nur, rho, u, v)>}"
      ]
     },
     "execution_count": 52,
     "metadata": {},
     "output_type": "execute_result"
    }
   ],
   "source": [
    "hull.partial_derivative_lambdas"
   ]
  },
  {
   "cell_type": "code",
   "execution_count": 53,
   "id": "6eafa021-6ff1-40c2-9408-b48560b24cbf",
   "metadata": {},
   "outputs": [
    {
     "data": {
      "text/plain": [
       "array([[ 1.        ,  0.        , -0.01      ,  0.01      , -0.        ,\n",
       "         0.        ],\n",
       "       [ 0.        ,  1.        ,  0.01      ,  0.        ,  0.01      ,\n",
       "         0.        ],\n",
       "       [ 0.        ,  0.        ,  1.        ,  0.        ,  0.        ,\n",
       "         0.01      ],\n",
       "       [ 0.        ,  0.        ,  0.        ,  0.99876307, -0.00542522,\n",
       "        -0.02284597],\n",
       "       [ 0.        ,  0.        ,  0.        , -0.02588754,  1.03842678,\n",
       "         0.01957606],\n",
       "       [ 0.        ,  0.        ,  0.        ,  0.02549931, -0.07551633,\n",
       "         0.95232398]])"
      ]
     },
     "execution_count": 53,
     "metadata": {},
     "output_type": "execute_result"
    }
   ],
   "source": [
    "jac2 = lambda_jacobian2(x=[0,0,0,1,1,1], input=[0.1,100])\n",
    "jac2"
   ]
  },
  {
   "cell_type": "code",
   "execution_count": 54,
   "id": "8846868f-99d3-49fd-a83a-e88b42197d83",
   "metadata": {},
   "outputs": [
    {
     "data": {
      "text/plain": [
       "array([[ 1.        ,  0.        , -0.01      ,  0.01      , -0.        ,\n",
       "         0.        ],\n",
       "       [ 0.        ,  1.        ,  0.01      ,  0.        ,  0.01      ,\n",
       "         0.        ],\n",
       "       [ 0.        ,  0.        ,  1.        ,  0.        ,  0.        ,\n",
       "         0.01      ],\n",
       "       [ 0.        ,  0.        ,  0.        ,  0.99876307, -0.00542522,\n",
       "        -0.02284597],\n",
       "       [ 0.        ,  0.        ,  0.        , -0.02588754,  1.03842678,\n",
       "         0.01957606],\n",
       "       [ 0.        ,  0.        ,  0.        ,  0.02549931, -0.07551633,\n",
       "         0.95232398]])"
      ]
     },
     "execution_count": 54,
     "metadata": {},
     "output_type": "execute_result"
    }
   ],
   "source": [
    "input = pd.Series(\n",
    "{'delta':0.1,\n",
    " 'thrust':100,\n",
    "})\n",
    "jac_old = ek.lambda_jacobian(x=[0,0,0,1,1,1], input=input)\n",
    "jac_old"
   ]
  },
  {
   "cell_type": "code",
   "execution_count": 55,
   "id": "d11b4e64-f09e-4fd8-8a53-2e88fe68bb8a",
   "metadata": {},
   "outputs": [
    {
     "data": {
      "text/plain": [
       "array([[ 1., nan,  1.,  1., nan, nan],\n",
       "       [nan,  1.,  1., nan,  1., nan],\n",
       "       [nan, nan,  1., nan, nan,  1.],\n",
       "       [nan, nan, nan,  1.,  1.,  1.],\n",
       "       [nan, nan, nan,  1.,  1.,  1.],\n",
       "       [nan, nan, nan,  1.,  1.,  1.]])"
      ]
     },
     "execution_count": 55,
     "metadata": {},
     "output_type": "execute_result"
    }
   ],
   "source": [
    "jac2/jac_old"
   ]
  },
  {
   "cell_type": "code",
   "execution_count": 56,
   "id": "5702af88-bcca-4af5-bd39-fffab545c7ae",
   "metadata": {},
   "outputs": [
    {
     "data": {
      "text/plain": [
       "array([ 1.        ,  1.        ,  1.        , -1.26993921,  1.60590011,\n",
       "       -4.88484887])"
      ]
     },
     "execution_count": 56,
     "metadata": {},
     "output_type": "execute_result"
    }
   ],
   "source": [
    "ek.lambda_f(x=np.array([0,0,0,1,1,1]), input=input)"
   ]
  },
  {
   "cell_type": "code",
   "execution_count": 57,
   "id": "210ba1cb-1af3-4a55-adea-ccf79bb365cf",
   "metadata": {},
   "outputs": [
    {
     "data": {
      "text/plain": [
       "array([[ 1.        ],\n",
       "       [ 1.        ],\n",
       "       [ 1.        ],\n",
       "       [-1.26993921],\n",
       "       [ 1.60590011],\n",
       "       [-4.88484887]])"
      ]
     },
     "execution_count": 57,
     "metadata": {},
     "output_type": "execute_result"
    }
   ],
   "source": [
    "lambda_f(x=np.array([0,0,0,1,1,1]), input=[0.1,100])"
   ]
  },
  {
   "cell_type": "code",
   "execution_count": 58,
   "id": "10295dc6-0fa5-4749-be1c-9a154471e638",
   "metadata": {},
   "outputs": [
    {
     "data": {
      "text/latex": [
       "$\\displaystyle X_{H} = X_{deltadelta} \\delta^{2} + X_{rr} r^{2} + X_{thrust} thrust + X_{uu} u^{2} + X_{u} u + X_{vr} r v$"
      ],
      "text/plain": [
       "Eq(X_H, X_{deltadelta}*delta**2 + X_{rr}*r**2 + X_{thrust}*thrust + X_{uu}*u**2 + X_{u}*u + X_{vr}*r*v)"
      ]
     },
     "execution_count": 58,
     "metadata": {},
     "output_type": "execute_result"
    }
   ],
   "source": [
    "eq = hull.equations['X_H']\n",
    "eq"
   ]
  },
  {
   "cell_type": "code",
   "execution_count": 59,
   "id": "596ad3fd-88f7-471e-ad9a-8c7fe95b26d9",
   "metadata": {},
   "outputs": [],
   "source": [
    "from vessel_manoeuvring_models.prime_system import standard_units\n",
    "from vessel_manoeuvring_models import prime_system\n",
    "\n",
    "u_prime, v_prime = sp.symbols(\"u' v'\")\n",
    "subs_prime = [\n",
    "    (m, m / prime_system.df_prime.mass.denominator),\n",
    "    (I_z, I_z / prime_system.df_prime.inertia_moment.denominator),\n",
    "    (x_G, x_G / prime_system.df_prime.length.denominator),\n",
    "    (u_prime, u / sp.sqrt(u**2 + v**2)),\n",
    "    (v_prime, v / sp.sqrt(u**2 + v**2)),\n",
    "    (r, r / (sp.sqrt(u**2 + v**2) / L)),\n",
    "    (thrust, thrust / (sp.Rational(1, 2) * rho * (u**2 + v**2) * L**2)),\n",
    "]\n",
    "\n",
    "\n",
    "name='X_H'\n",
    "unit = standard_units[name]\n",
    "denominator = prime_system.df_prime.loc[\"denominator\", unit]\n",
    "eq_SI = sp.Eq(eq.lhs, eq.rhs.subs(subs_prime) * denominator)"
   ]
  },
  {
   "cell_type": "code",
   "execution_count": 60,
   "id": "c5c1763b-7ed3-45fb-998a-7e7e07f2c29b",
   "metadata": {},
   "outputs": [
    {
     "data": {
      "text/plain": [
       "'force'"
      ]
     },
     "execution_count": 60,
     "metadata": {},
     "output_type": "execute_result"
    }
   ],
   "source": [
    "unit"
   ]
  },
  {
   "cell_type": "code",
   "execution_count": 61,
   "id": "7cce68e9-6605-425a-8911-2f2ae08de242",
   "metadata": {},
   "outputs": [
    {
     "data": {
      "text/latex": [
       "$\\displaystyle \\frac{L^{2} U^{2} \\rho}{2}$"
      ],
      "text/plain": [
       "L**2*U**2*rho/2"
      ]
     },
     "execution_count": 61,
     "metadata": {},
     "output_type": "execute_result"
    }
   ],
   "source": [
    "denominator"
   ]
  },
  {
   "cell_type": "code",
   "execution_count": 62,
   "id": "dcc6fc91-8879-4604-b00e-43386f86496b",
   "metadata": {},
   "outputs": [
    {
     "data": {
      "text/plain": [
       "[(m, 2*m/(L**3*rho)),\n",
       " (I_z, 2*I_z/(L**5*rho)),\n",
       " (x_G, x_G/L),\n",
       " (u', u/sqrt(u**2 + v**2)),\n",
       " (v', v/sqrt(u**2 + v**2)),\n",
       " (r, L*r/sqrt(u**2 + v**2)),\n",
       " (thrust, 2*thrust/(L**2*rho*(u**2 + v**2)))]"
      ]
     },
     "execution_count": 62,
     "metadata": {},
     "output_type": "execute_result"
    }
   ],
   "source": [
    "subs_prime"
   ]
  },
  {
   "cell_type": "code",
   "execution_count": 63,
   "id": "e6d82ab4-fbe8-45c0-9272-32835056c458",
   "metadata": {},
   "outputs": [
    {
     "data": {
      "text/latex": [
       "$\\displaystyle X_{H} = \\frac{L^{2} U^{2} \\rho \\left(\\frac{L^{2} X_{rr} r^{2}}{u^{2} + v^{2}} + \\frac{L X_{vr} r v}{\\sqrt{u^{2} + v^{2}}} + X_{deltadelta} \\delta^{2} + X_{uu} u^{2} + X_{u} u + \\frac{2 X_{thrust} thrust}{L^{2} \\rho \\left(u^{2} + v^{2}\\right)}\\right)}{2}$"
      ],
      "text/plain": [
       "Eq(X_H, L**2*U**2*rho*(L**2*X_{rr}*r**2/(u**2 + v**2) + L*X_{vr}*r*v/sqrt(u**2 + v**2) + X_{deltadelta}*delta**2 + X_{uu}*u**2 + X_{u}*u + 2*X_{thrust}*thrust/(L**2*rho*(u**2 + v**2)))/2)"
      ]
     },
     "execution_count": 63,
     "metadata": {},
     "output_type": "execute_result"
    }
   ],
   "source": [
    "eq_SI"
   ]
  },
  {
   "cell_type": "code",
   "execution_count": 64,
   "id": "e9106891-fbc7-4a08-ba9f-b39c8e9ec63a",
   "metadata": {},
   "outputs": [
    {
     "data": {
      "text/latex": [
       "$\\displaystyle \\frac{L^{2} U^{2} \\rho \\left(- \\frac{2 L^{2} Xrr r^{2} u}{\\left(u^{2} + v^{2}\\right)^{2}} - \\frac{L Xvr r u v}{\\left(u^{2} + v^{2}\\right)^{\\frac{3}{2}}} + Xu + 2 Xuu u - \\frac{4 Xthrust thrust u}{L^{2} \\rho \\left(u^{2} + v^{2}\\right)^{2}}\\right)}{2}$"
      ],
      "text/plain": [
       "L**2*U**2*rho*(-2*L**2*Xrr*r**2*u/(u**2 + v**2)**2 - L*Xvr*r*u*v/(u**2 + v**2)**(3/2) + Xu + 2*Xuu*u - 4*Xthrust*thrust*u/(L**2*rho*(u**2 + v**2)**2))/2"
      ]
     },
     "execution_count": 64,
     "metadata": {},
     "output_type": "execute_result"
    }
   ],
   "source": [
    "hull.get_eq_partial_derivatives(eq=eq_SI)['dduX_H']"
   ]
  },
  {
   "cell_type": "code",
   "execution_count": 65,
   "id": "7412273f-2ae7-4a39-bc35-f373e951f151",
   "metadata": {},
   "outputs": [
    {
     "data": {
      "text/latex": [
       "$\\displaystyle Xu + 2 Xuu u$"
      ],
      "text/plain": [
       "Xu + 2*Xuu*u"
      ]
     },
     "execution_count": 65,
     "metadata": {},
     "output_type": "execute_result"
    }
   ],
   "source": [
    "partial_derivative_prime = hull.get_eq_partial_derivatives(eq=eq)['dduX_H']\n",
    "partial_derivative_prime"
   ]
  },
  {
   "cell_type": "code",
   "execution_count": 66,
   "id": "acc3961a-1996-4c5b-8fdb-5a857af1bf44",
   "metadata": {},
   "outputs": [],
   "source": [
    "vmm = model\n",
    "X_eq = vmm.X_eq.subs(f_X_H, hull.equations['X_H'].rhs)\n",
    "Y_eq = vmm.Y_eq.subs(f_Y_H, hull.equations['Y_H'].rhs)\n",
    "N_eq = vmm.N_eq.subs(f_N_H, hull.equations['N_H'].rhs)\n",
    "A, b = sp.linear_eq_to_matrix([X_eq, Y_eq, N_eq], [u1d, v1d, r1d])"
   ]
  },
  {
   "cell_type": "code",
   "execution_count": 67,
   "id": "28bc6d7c-5184-47c1-a308-b1c8d2a4bd98",
   "metadata": {},
   "outputs": [
    {
     "data": {
      "text/latex": [
       "$\\displaystyle \\left[\\begin{matrix}X_{deltadelta} \\delta^{2} + X_{rr} r^{2} + X_{thrust} thrust + X_{uu} u^{2} + X_{u} u + X_{vr} r v - m \\left(- r^{2} x_{G} - r v\\right)\\\\Y_{delta} \\delta + Y_{r} r + Y_{thrustdelta} \\delta thrust + Y_{thrust} thrust + Y_{ur} r u + Y_{u} u + Y_{vvdelta} \\delta v^{2} + Y_{v} v - m r u\\\\N_{delta} \\delta + N_{r} r + N_{thrustdelta} \\delta thrust + N_{thrust} thrust + N_{ur} r u + N_{u} u + N_{vvdelta} \\delta v^{2} + N_{v} v - m r u x_{G}\\end{matrix}\\right]$"
      ],
      "text/plain": [
       "Matrix([\n",
       "[                              X_{deltadelta}*delta**2 + X_{rr}*r**2 + X_{thrust}*thrust + X_{uu}*u**2 + X_{u}*u + X_{vr}*r*v - m*(-r**2*x_G - r*v)],\n",
       "[    Y_{delta}*delta + Y_{r}*r + Y_{thrustdelta}*delta*thrust + Y_{thrust}*thrust + Y_{ur}*r*u + Y_{u}*u + Y_{vvdelta}*delta*v**2 + Y_{v}*v - m*r*u],\n",
       "[N_{delta}*delta + N_{r}*r + N_{thrustdelta}*delta*thrust + N_{thrust}*thrust + N_{ur}*r*u + N_{u}*u + N_{vvdelta}*delta*v**2 + N_{v}*v - m*r*u*x_G]])"
      ]
     },
     "execution_count": 67,
     "metadata": {},
     "output_type": "execute_result"
    }
   ],
   "source": [
    "b"
   ]
  },
  {
   "cell_type": "code",
   "execution_count": 68,
   "id": "8e2a5de5-a9c5-4c20-a3b9-d62a588184d6",
   "metadata": {},
   "outputs": [],
   "source": [
    "u_prime, v_prime = sp.symbols(\"u' v'\")\n",
    "h = sp.symbols(\"h\")  # time step\n",
    "subs_prime = [\n",
    "    (m, m / prime_system.df_prime.mass.denominator),\n",
    "    (I_z, I_z / prime_system.df_prime.inertia_moment.denominator),\n",
    "    (x_G, x_G / prime_system.df_prime.length.denominator),\n",
    "    (u_prime, u / sp.sqrt(u**2 + v**2)),\n",
    "    (v_prime, v / sp.sqrt(u**2 + v**2)),\n",
    "    (r, r / (sp.sqrt(u**2 + v**2) / L)),\n",
    "    (thrust, thrust / (sp.Rational(1, 2) * rho * (u**2 + v**2) * L**2)),\n",
    "]\n",
    "subs = subs_prime\n",
    "A_SI = A.subs([(u, u_prime), (v, v_prime)]).subs(subs)\n",
    "b_SI = b.subs([(u, u_prime), (v, v_prime)]).subs(subs)\n",
    "x_dot = sympy.matrices.dense.matrix_multiply_elementwise(\n",
    "    A_SI.inv() * b_SI,  # (Slow...)\n",
    "    sp.Matrix(\n",
    "        [\n",
    "            (u**2 + v**2) / L,\n",
    "            (u**2 + v**2) / L,\n",
    "            (u**2 + v**2) / (L**2),\n",
    "        ]\n",
    "    ),\n",
    ")\n",
    "x_ = sp.Matrix(\n",
    "    [u * sp.cos(psi) - v * sp.sin(psi), u * sp.sin(psi) + v * sp.cos(psi), r]\n",
    ")\n",
    "f_ = sp.Matrix.vstack(x_, x_dot)\n",
    "no_states = len(f_)\n",
    "no_measurement_states = no_states - A.shape[0]\n",
    "subs = {value: key for key, value in p.items()}\n",
    "subs[psi] = sp.symbols(\"psi\")\n",
    "keys = list(set(subs.keys()) & set(f_.free_symbols))\n",
    "subs_ = {key: subs[key] for key in keys}\n",
    "expr = f_.subs(subs_)\n",
    "_lambda_f = sp.lambdify(list(expr.free_symbols), expr, modules=\"numpy\")\n",
    "x, x1d = sp.symbols(r\"\\vec{x} \\dot{\\vec{x}}\")  # State vector\n",
    "eq_x = sp.Eq(x, sp.UnevaluatedExpr(sp.Matrix([x_0, y_0, psi, u, v, r])))\n",
    "jac = sp.eye(6, 6) + f_.jacobian(eq_x.rhs.doit()) * h\n",
    "keys = list(set(subs.keys()) & set(jac.free_symbols))\n",
    "subs_ = {key: subs[key] for key in keys}\n",
    "expr = jac.subs(subs_)\n",
    "_lambda_jacobian = sp.lambdify(list(expr.free_symbols), expr, modules=\"numpy\")"
   ]
  },
  {
   "cell_type": "code",
   "execution_count": 69,
   "id": "505b83f3-c83e-4d55-a9ec-62edf363ee96",
   "metadata": {},
   "outputs": [
    {
     "data": {
      "text/latex": [
       "$\\displaystyle \\left[\\begin{matrix}\\frac{L^{2} \\rho \\left(u^{2} + v^{2}\\right) \\left(\\frac{L^{2} X_{rr} r^{2}}{u^{2} + v^{2}} + \\frac{L X_{vr} r v}{u^{2} + v^{2}} + X_{deltadelta} \\delta^{2} + \\frac{X_{uu} u^{2}}{u^{2} + v^{2}} + \\frac{X_{u} u}{\\sqrt{u^{2} + v^{2}}} + \\frac{2 X_{thrust} thrust}{L^{2} \\rho \\left(u^{2} + v^{2}\\right)} - \\frac{2 m \\left(- \\frac{L r^{2} x_{G}}{u^{2} + v^{2}} - \\frac{L r v}{u^{2} + v^{2}}\\right)}{L^{3} \\rho}\\right)}{- L^{3} X_{\\dot{u}} \\rho + 2 m}\\\\\\frac{\\left(u^{2} + v^{2}\\right) \\left(\\frac{\\left(- 2 I_{z} L^{3} \\rho + L^{8} N_{\\dot{r}} \\rho^{2}\\right) \\left(\\frac{L Y_{r} r}{\\sqrt{u^{2} + v^{2}}} + \\frac{L Y_{ur} r u}{u^{2} + v^{2}} + Y_{delta} \\delta + \\frac{Y_{u} u}{\\sqrt{u^{2} + v^{2}}} + \\frac{Y_{vvdelta} \\delta v^{2}}{u^{2} + v^{2}} + \\frac{Y_{v} v}{\\sqrt{u^{2} + v^{2}}} + \\frac{2 Y_{thrustdelta} \\delta thrust}{L^{2} \\rho \\left(u^{2} + v^{2}\\right)} + \\frac{2 Y_{thrust} thrust}{L^{2} \\rho \\left(u^{2} + v^{2}\\right)} - \\frac{2 m r u}{L^{2} \\rho \\left(u^{2} + v^{2}\\right)}\\right)}{2 I_{z} L^{3} Y_{\\dot{v}} \\rho - 4 I_{z} m - L^{8} N_{\\dot{r}} Y_{\\dot{v}} \\rho^{2} + L^{8} N_{\\dot{v}} Y_{\\dot{r}} \\rho^{2} + 2 L^{5} N_{\\dot{r}} m \\rho - 2 L^{4} N_{\\dot{v}} m \\rho x_{G} - 2 L^{4} Y_{\\dot{r}} m \\rho x_{G} + 4 m^{2} x_{G}^{2}} + \\frac{\\left(- L^{8} Y_{\\dot{r}} \\rho^{2} + 2 L^{4} m \\rho x_{G}\\right) \\left(\\frac{L N_{r} r}{\\sqrt{u^{2} + v^{2}}} + \\frac{L N_{ur} r u}{u^{2} + v^{2}} + N_{delta} \\delta + \\frac{N_{u} u}{\\sqrt{u^{2} + v^{2}}} + \\frac{N_{vvdelta} \\delta v^{2}}{u^{2} + v^{2}} + \\frac{N_{v} v}{\\sqrt{u^{2} + v^{2}}} + \\frac{2 N_{thrustdelta} \\delta thrust}{L^{2} \\rho \\left(u^{2} + v^{2}\\right)} + \\frac{2 N_{thrust} thrust}{L^{2} \\rho \\left(u^{2} + v^{2}\\right)} - \\frac{2 m r u x_{G}}{L^{3} \\rho \\left(u^{2} + v^{2}\\right)}\\right)}{2 I_{z} L^{3} Y_{\\dot{v}} \\rho - 4 I_{z} m - L^{8} N_{\\dot{r}} Y_{\\dot{v}} \\rho^{2} + L^{8} N_{\\dot{v}} Y_{\\dot{r}} \\rho^{2} + 2 L^{5} N_{\\dot{r}} m \\rho - 2 L^{4} N_{\\dot{v}} m \\rho x_{G} - 2 L^{4} Y_{\\dot{r}} m \\rho x_{G} + 4 m^{2} x_{G}^{2}}\\right)}{L}\\\\\\frac{\\left(u^{2} + v^{2}\\right) \\left(\\frac{\\left(- L^{8} N_{\\dot{v}} \\rho^{2} + 2 L^{4} m \\rho x_{G}\\right) \\left(\\frac{L Y_{r} r}{\\sqrt{u^{2} + v^{2}}} + \\frac{L Y_{ur} r u}{u^{2} + v^{2}} + Y_{delta} \\delta + \\frac{Y_{u} u}{\\sqrt{u^{2} + v^{2}}} + \\frac{Y_{vvdelta} \\delta v^{2}}{u^{2} + v^{2}} + \\frac{Y_{v} v}{\\sqrt{u^{2} + v^{2}}} + \\frac{2 Y_{thrustdelta} \\delta thrust}{L^{2} \\rho \\left(u^{2} + v^{2}\\right)} + \\frac{2 Y_{thrust} thrust}{L^{2} \\rho \\left(u^{2} + v^{2}\\right)} - \\frac{2 m r u}{L^{2} \\rho \\left(u^{2} + v^{2}\\right)}\\right)}{2 I_{z} L^{3} Y_{\\dot{v}} \\rho - 4 I_{z} m - L^{8} N_{\\dot{r}} Y_{\\dot{v}} \\rho^{2} + L^{8} N_{\\dot{v}} Y_{\\dot{r}} \\rho^{2} + 2 L^{5} N_{\\dot{r}} m \\rho - 2 L^{4} N_{\\dot{v}} m \\rho x_{G} - 2 L^{4} Y_{\\dot{r}} m \\rho x_{G} + 4 m^{2} x_{G}^{2}} + \\frac{\\left(L^{8} Y_{\\dot{v}} \\rho^{2} - 2 L^{5} m \\rho\\right) \\left(\\frac{L N_{r} r}{\\sqrt{u^{2} + v^{2}}} + \\frac{L N_{ur} r u}{u^{2} + v^{2}} + N_{delta} \\delta + \\frac{N_{u} u}{\\sqrt{u^{2} + v^{2}}} + \\frac{N_{vvdelta} \\delta v^{2}}{u^{2} + v^{2}} + \\frac{N_{v} v}{\\sqrt{u^{2} + v^{2}}} + \\frac{2 N_{thrustdelta} \\delta thrust}{L^{2} \\rho \\left(u^{2} + v^{2}\\right)} + \\frac{2 N_{thrust} thrust}{L^{2} \\rho \\left(u^{2} + v^{2}\\right)} - \\frac{2 m r u x_{G}}{L^{3} \\rho \\left(u^{2} + v^{2}\\right)}\\right)}{2 I_{z} L^{3} Y_{\\dot{v}} \\rho - 4 I_{z} m - L^{8} N_{\\dot{r}} Y_{\\dot{v}} \\rho^{2} + L^{8} N_{\\dot{v}} Y_{\\dot{r}} \\rho^{2} + 2 L^{5} N_{\\dot{r}} m \\rho - 2 L^{4} N_{\\dot{v}} m \\rho x_{G} - 2 L^{4} Y_{\\dot{r}} m \\rho x_{G} + 4 m^{2} x_{G}^{2}}\\right)}{L^{2}}\\end{matrix}\\right]$"
      ],
      "text/plain": [
       "Matrix([\n",
       "[                                                                                                                                                                                                                                                                                                                                                                                                                                                                                                                                                                                                                                                                                                                                                                                                                                                                                                   L**2*rho*(u**2 + v**2)*(L**2*X_{rr}*r**2/(u**2 + v**2) + L*X_{vr}*r*v/(u**2 + v**2) + X_{deltadelta}*delta**2 + X_{uu}*u**2/(u**2 + v**2) + X_{u}*u/sqrt(u**2 + v**2) + 2*X_{thrust}*thrust/(L**2*rho*(u**2 + v**2)) - 2*m*(-L*r**2*x_G/(u**2 + v**2) - L*r*v/(u**2 + v**2))/(L**3*rho))/(-L**3*X_{\\dot{u}}*rho + 2*m)],\n",
       "[(u**2 + v**2)*((-2*I_z*L**3*rho + L**8*N_{\\dot{r}}*rho**2)*(L*Y_{r}*r/sqrt(u**2 + v**2) + L*Y_{ur}*r*u/(u**2 + v**2) + Y_{delta}*delta + Y_{u}*u/sqrt(u**2 + v**2) + Y_{vvdelta}*delta*v**2/(u**2 + v**2) + Y_{v}*v/sqrt(u**2 + v**2) + 2*Y_{thrustdelta}*delta*thrust/(L**2*rho*(u**2 + v**2)) + 2*Y_{thrust}*thrust/(L**2*rho*(u**2 + v**2)) - 2*m*r*u/(L**2*rho*(u**2 + v**2)))/(2*I_z*L**3*Y_{\\dot{v}}*rho - 4*I_z*m - L**8*N_{\\dot{r}}*Y_{\\dot{v}}*rho**2 + L**8*N_{\\dot{v}}*Y_{\\dot{r}}*rho**2 + 2*L**5*N_{\\dot{r}}*m*rho - 2*L**4*N_{\\dot{v}}*m*rho*x_G - 2*L**4*Y_{\\dot{r}}*m*rho*x_G + 4*m**2*x_G**2) + (-L**8*Y_{\\dot{r}}*rho**2 + 2*L**4*m*rho*x_G)*(L*N_{r}*r/sqrt(u**2 + v**2) + L*N_{ur}*r*u/(u**2 + v**2) + N_{delta}*delta + N_{u}*u/sqrt(u**2 + v**2) + N_{vvdelta}*delta*v**2/(u**2 + v**2) + N_{v}*v/sqrt(u**2 + v**2) + 2*N_{thrustdelta}*delta*thrust/(L**2*rho*(u**2 + v**2)) + 2*N_{thrust}*thrust/(L**2*rho*(u**2 + v**2)) - 2*m*r*u*x_G/(L**3*rho*(u**2 + v**2)))/(2*I_z*L**3*Y_{\\dot{v}}*rho - 4*I_z*m - L**8*N_{\\dot{r}}*Y_{\\dot{v}}*rho**2 + L**8*N_{\\dot{v}}*Y_{\\dot{r}}*rho**2 + 2*L**5*N_{\\dot{r}}*m*rho - 2*L**4*N_{\\dot{v}}*m*rho*x_G - 2*L**4*Y_{\\dot{r}}*m*rho*x_G + 4*m**2*x_G**2))/L],\n",
       "[(u**2 + v**2)*((-L**8*N_{\\dot{v}}*rho**2 + 2*L**4*m*rho*x_G)*(L*Y_{r}*r/sqrt(u**2 + v**2) + L*Y_{ur}*r*u/(u**2 + v**2) + Y_{delta}*delta + Y_{u}*u/sqrt(u**2 + v**2) + Y_{vvdelta}*delta*v**2/(u**2 + v**2) + Y_{v}*v/sqrt(u**2 + v**2) + 2*Y_{thrustdelta}*delta*thrust/(L**2*rho*(u**2 + v**2)) + 2*Y_{thrust}*thrust/(L**2*rho*(u**2 + v**2)) - 2*m*r*u/(L**2*rho*(u**2 + v**2)))/(2*I_z*L**3*Y_{\\dot{v}}*rho - 4*I_z*m - L**8*N_{\\dot{r}}*Y_{\\dot{v}}*rho**2 + L**8*N_{\\dot{v}}*Y_{\\dot{r}}*rho**2 + 2*L**5*N_{\\dot{r}}*m*rho - 2*L**4*N_{\\dot{v}}*m*rho*x_G - 2*L**4*Y_{\\dot{r}}*m*rho*x_G + 4*m**2*x_G**2) + (L**8*Y_{\\dot{v}}*rho**2 - 2*L**5*m*rho)*(L*N_{r}*r/sqrt(u**2 + v**2) + L*N_{ur}*r*u/(u**2 + v**2) + N_{delta}*delta + N_{u}*u/sqrt(u**2 + v**2) + N_{vvdelta}*delta*v**2/(u**2 + v**2) + N_{v}*v/sqrt(u**2 + v**2) + 2*N_{thrustdelta}*delta*thrust/(L**2*rho*(u**2 + v**2)) + 2*N_{thrust}*thrust/(L**2*rho*(u**2 + v**2)) - 2*m*r*u*x_G/(L**3*rho*(u**2 + v**2)))/(2*I_z*L**3*Y_{\\dot{v}}*rho - 4*I_z*m - L**8*N_{\\dot{r}}*Y_{\\dot{v}}*rho**2 + L**8*N_{\\dot{v}}*Y_{\\dot{r}}*rho**2 + 2*L**5*N_{\\dot{r}}*m*rho - 2*L**4*N_{\\dot{v}}*m*rho*x_G - 2*L**4*Y_{\\dot{r}}*m*rho*x_G + 4*m**2*x_G**2))/L**2]])"
      ]
     },
     "execution_count": 69,
     "metadata": {},
     "output_type": "execute_result"
    }
   ],
   "source": [
    "x_dot"
   ]
  },
  {
   "cell_type": "code",
   "execution_count": 70,
   "id": "d05c6c69-c559-4861-a2d0-08f1d0d928d2",
   "metadata": {},
   "outputs": [
    {
     "data": {
      "text/latex": [
       "$\\displaystyle \\frac{L^{2} \\rho \\left(2 X_{deltadelta} \\delta^{2} u \\sqrt{u^{2} + v^{2}} + 2 X_{uu} u \\sqrt{u^{2} + v^{2}} + 2 X_{u} u^{2} + X_{u} v^{2}\\right)}{\\sqrt{u^{2} + v^{2}} \\left(- L^{3} X_{\\dot{u}} \\rho + 2 m\\right)}$"
      ],
      "text/plain": [
       "L**2*rho*(2*X_{deltadelta}*delta**2*u*sqrt(u**2 + v**2) + 2*X_{uu}*u*sqrt(u**2 + v**2) + 2*X_{u}*u**2 + X_{u}*v**2)/(sqrt(u**2 + v**2)*(-L**3*X_{\\dot{u}}*rho + 2*m))"
      ]
     },
     "execution_count": 70,
     "metadata": {},
     "output_type": "execute_result"
    }
   ],
   "source": [
    "jac_old = f_.jacobian(eq_x.rhs.doit())\n",
    "sp.simplify(jac_old[3,3])"
   ]
  },
  {
   "cell_type": "code",
   "execution_count": 71,
   "id": "2a118584-37a9-4c46-b2da-66aa3f949081",
   "metadata": {},
   "outputs": [
    {
     "data": {
      "text/latex": [
       "$\\displaystyle - \\frac{2 \\frac{\\partial}{\\partial u} X_{H}{\\left(u,v,r,\\delta \\right)}}{L^{3} X_{\\dot{u}} \\rho - 2 m}$"
      ],
      "text/plain": [
       "-2*Derivative(X_H(u, v, r, delta), u)/(L**3*X_{\\dot{u}}*rho - 2*m)"
      ]
     },
     "execution_count": 71,
     "metadata": {},
     "output_type": "execute_result"
    }
   ],
   "source": [
    "jac = model_same.jac\n",
    "jac[3,3]"
   ]
  },
  {
   "cell_type": "code",
   "execution_count": 72,
   "id": "4c51319e-c596-43ba-9474-bbf537157c14",
   "metadata": {},
   "outputs": [
    {
     "data": {
      "text/latex": [
       "$\\displaystyle L^{2} Xdeltadelta \\delta^{2} \\rho u + \\frac{L^{2} Xu \\rho u^{2}}{2 \\sqrt{u^{2} + v^{2}}} + \\frac{L^{2} Xu \\rho \\sqrt{u^{2} + v^{2}}}{2} + L^{2} Xuu \\rho u$"
      ],
      "text/plain": [
       "L**2*Xdeltadelta*delta**2*rho*u + L**2*Xu*rho*u**2/(2*sqrt(u**2 + v**2)) + L**2*Xu*rho*sqrt(u**2 + v**2)/2 + L**2*Xuu*rho*u"
      ]
     },
     "execution_count": 72,
     "metadata": {},
     "output_type": "execute_result"
    }
   ],
   "source": [
    "hull.partial_derivatives['dduX_H']"
   ]
  },
  {
   "cell_type": "code",
   "execution_count": 73,
   "id": "c46c33d5-6f55-4b73-a312-3e6b046b5639",
   "metadata": {},
   "outputs": [
    {
     "data": {
      "text/latex": [
       "$\\displaystyle \\frac{L^{2} \\rho \\left(- Xu u^{2} + \\sqrt{u^{2} + v^{2}} \\left(- 2 Xdeltadelta \\delta^{2} u - Xu \\sqrt{u^{2} + v^{2}} - 2 Xuu u\\right)\\right)}{\\sqrt{u^{2} + v^{2}} \\left(L^{3} X_{\\dot{u}} \\rho - 2 m\\right)}$"
      ],
      "text/plain": [
       "L**2*rho*(-Xu*u**2 + sqrt(u**2 + v**2)*(-2*Xdeltadelta*delta**2*u - Xu*sqrt(u**2 + v**2) - 2*Xuu*u))/(sqrt(u**2 + v**2)*(L**3*X_{\\dot{u}}*rho - 2*m))"
      ]
     },
     "execution_count": 73,
     "metadata": {},
     "output_type": "execute_result"
    }
   ],
   "source": [
    "sp.simplify(jac[3,3].subs(f_X_H.diff(u), hull.partial_derivatives['dduX_H']))"
   ]
  },
  {
   "cell_type": "code",
   "execution_count": 74,
   "id": "a6e58980-e91e-498a-b797-c20eb694f6b1",
   "metadata": {},
   "outputs": [],
   "source": [
    "denominator = denominator.subs(U,sp.sqrt(u**2+v**2))"
   ]
  },
  {
   "cell_type": "code",
   "execution_count": 75,
   "id": "81dda784-79e8-4235-b828-2f16416068c8",
   "metadata": {},
   "outputs": [
    {
     "data": {
      "text/latex": [
       "$\\displaystyle \\frac{L^{3} X_{vr} r \\rho u v}{2 \\sqrt{u^{2} + v^{2}}} + L^{2} X_{deltadelta} \\delta^{2} \\rho u + 2 L^{2} X_{uu} \\rho u^{3} + L^{2} X_{uu} \\rho u v^{2} + \\frac{3 L^{2} X_{u} \\rho u^{2}}{2} + \\frac{L^{2} X_{u} \\rho v^{2}}{2}$"
      ],
      "text/plain": [
       "L**3*X_{vr}*r*rho*u*v/(2*sqrt(u**2 + v**2)) + L**2*X_{deltadelta}*delta**2*rho*u + 2*L**2*X_{uu}*rho*u**3 + L**2*X_{uu}*rho*u*v**2 + 3*L**2*X_{u}*rho*u**2/2 + L**2*X_{u}*rho*v**2/2"
      ]
     },
     "execution_count": 75,
     "metadata": {},
     "output_type": "execute_result"
    }
   ],
   "source": [
    "sp.simplify((hull.equations['X_H'].subs(subs_prime).rhs*denominator).diff(u))"
   ]
  },
  {
   "cell_type": "code",
   "execution_count": null,
   "id": "4f96c047-16fa-48a4-827f-7e7b90059136",
   "metadata": {},
   "outputs": [],
   "source": []
  },
  {
   "cell_type": "code",
   "execution_count": null,
   "id": "967e5bb4-3f87-4f45-bbee-76d25f373f12",
   "metadata": {},
   "outputs": [],
   "source": []
  },
  {
   "cell_type": "code",
   "execution_count": null,
   "id": "8b68d1f6-9044-4e59-a754-293d3ebea6cb",
   "metadata": {},
   "outputs": [],
   "source": []
  },
  {
   "cell_type": "code",
   "execution_count": null,
   "id": "74fafb00-9e8f-4030-9b0b-50258348edce",
   "metadata": {},
   "outputs": [],
   "source": []
  }
 ],
 "metadata": {
  "kernelspec": {
   "display_name": "Kedro (phd)",
   "language": "python",
   "name": "kedro_phd"
  },
  "language_info": {
   "codemirror_mode": {
    "name": "ipython",
    "version": 3
   },
   "file_extension": ".py",
   "mimetype": "text/x-python",
   "name": "python",
   "nbconvert_exporter": "python",
   "pygments_lexer": "ipython3",
   "version": "3.10.10"
  }
 },
 "nbformat": 4,
 "nbformat_minor": 5
}
