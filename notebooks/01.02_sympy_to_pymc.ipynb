{
 "cells": [
  {
   "cell_type": "code",
   "execution_count": null,
   "id": "5687272a-5eeb-48ee-9aef-2c1a93d169ef",
   "metadata": {},
   "outputs": [],
   "source": [
    "import warnings\n",
    "warnings.filterwarnings('ignore')\n",
    "%matplotlib inline\n",
    "%load_ext autoreload\n",
    "%autoreload 2\n",
    "%config Completer.use_jedi = False"
   ]
  },
  {
   "cell_type": "code",
   "execution_count": null,
   "id": "5f3d4ada-0a35-4f8a-966b-4b176c874281",
   "metadata": {},
   "outputs": [],
   "source": [
    "# Import pyMC3 and also arviz for visualisation\n",
    "import pymc as pm\n",
    "import arviz as az\n",
    "import sympy as sp\n",
    "import pandas as pd\n",
    "import numpy as np\n",
    "\n",
    "import matplotlib.pyplot as plt\n",
    "plt.style.use('bmh')\n",
    "\n",
    "RANDOM_SEED = 8927\n",
    "rng = np.random.default_rng(RANDOM_SEED)"
   ]
  },
  {
   "cell_type": "code",
   "execution_count": null,
   "id": "945121e3-7242-41ee-b54d-372543128692",
   "metadata": {},
   "outputs": [],
   "source": [
    "fy,yuud,ytd, u, T, delta = sp.symbols('fy,Y_uud,Y_td, u, T, delta')\n",
    "eq_fy = sp.Eq(fy,yuud*u**2*delta + ytd*T*delta)\n",
    "eq_fy"
   ]
  },
  {
   "cell_type": "code",
   "execution_count": null,
   "id": "1ea98e95-1ff7-4ef1-97f6-fb7f1af1b347",
   "metadata": {},
   "outputs": [],
   "source": [
    "lambda_fy = sp.lambdify(list(eq_fy.rhs.free_symbols), eq_fy.rhs)"
   ]
  },
  {
   "cell_type": "markdown",
   "id": "30cc1de1-b886-410c-b3b1-d3f515565362",
   "metadata": {},
   "source": [
    "## Data"
   ]
  },
  {
   "cell_type": "code",
   "execution_count": null,
   "id": "82076cc9-d019-4aea-8d89-01d8deb2a57c",
   "metadata": {},
   "outputs": [],
   "source": [
    "# Size of dataset\n",
    "size = 20\n",
    "\n",
    "data = pd.DataFrame()\n",
    "# Predictor variable\n",
    "data['delta'] = np.linspace(0,np.deg2rad(10),size)\n",
    "data['u'] = 0.1\n",
    "data['T'] = 0.1\n",
    "\n",
    "# Simulate outcome variable\n",
    "ytd_=0.5\n",
    "yuud_=0.2\n",
    "\n",
    "data['fy'] = lambda_fy(Y_uud=yuud_, Y_td=ytd_, u=data['u'], delta=data['delta'], T=data['T'])\n",
    "\n",
    "sigma_=0.2*data['fy'].abs().max()\n",
    "data['fy_measure'] = data['fy'] + rng.normal(size=size) * sigma_"
   ]
  },
  {
   "cell_type": "code",
   "execution_count": null,
   "id": "d43d9ee0-1806-4cff-a314-8acd6681b6c1",
   "metadata": {},
   "outputs": [],
   "source": [
    "variables = [u,T,delta]\n",
    "features = eq_fy.rhs.free_symbols - set(variables)\n",
    "A_,b_ = sp.linear_eq_to_matrix(eq_fy, features)\n",
    "A_"
   ]
  },
  {
   "cell_type": "code",
   "execution_count": null,
   "id": "c5f9bf79-3ab4-4315-a02d-76260ab34d94",
   "metadata": {},
   "outputs": [],
   "source": [
    "features"
   ]
  },
  {
   "cell_type": "code",
   "execution_count": null,
   "id": "3b94a4e5-28f8-48f5-aaec-a8c25112df2f",
   "metadata": {},
   "outputs": [],
   "source": [
    "lambda_features = sp.lambdify(list(A_.free_symbols),A_)\n",
    "lambda_labels = sp.lambdify(list(b_.free_symbols),b_)"
   ]
  },
  {
   "cell_type": "code",
   "execution_count": null,
   "id": "f91aca14-a915-4923-8c15-837e3257923a",
   "metadata": {},
   "outputs": [],
   "source": [
    "columns =[symbol.name for symbol in features]\n",
    "X = pd.DataFrame(lambda_features(T=data['T'], delta=data['delta'], u=data['u'])[0].T, columns=columns, index=data.index)"
   ]
  },
  {
   "cell_type": "code",
   "execution_count": null,
   "id": "573e379c-d5e6-4094-8757-bbac41fe2a05",
   "metadata": {},
   "outputs": [],
   "source": [
    "y = pd.Series(lambda_labels(data['fy']).flatten(), index=data.index)"
   ]
  },
  {
   "cell_type": "code",
   "execution_count": null,
   "id": "2bc31b13-aa10-4986-942c-00034cc64194",
   "metadata": {},
   "outputs": [],
   "source": [
    "features"
   ]
  },
  {
   "cell_type": "code",
   "execution_count": null,
   "id": "611acb69-bdf9-4193-a468-a9c74ede229d",
   "metadata": {},
   "outputs": [],
   "source": [
    "columns"
   ]
  },
  {
   "cell_type": "code",
   "execution_count": null,
   "id": "5df447e0-56fb-4e1f-b137-8fc52046e85b",
   "metadata": {},
   "outputs": [],
   "source": [
    "mus = {\n",
    "    'Y_uud':yuud_,\n",
    "    'Y_td':ytd_,\n",
    "}\n",
    "\n",
    "stds = {\n",
    "    'Y_uud':0.02,\n",
    "    'Y_td':0.02,\n",
    "}\n",
    "\n"
   ]
  },
  {
   "cell_type": "code",
   "execution_count": null,
   "id": "b56137a0-3ea7-49fc-a90d-2647b4bbb076",
   "metadata": {},
   "outputs": [],
   "source": [
    "basic_model = pm.Model()\n",
    "\n",
    "sigmas_ = [stds[key] for key in columns]\n",
    "mus_ = [mus[key] for key in columns]\n",
    "\n",
    "with basic_model:\n",
    "    # Priors for unknown model parameters\n",
    "    parameters = pm.Normal(\"parameters\", mu=mus_, \n",
    "                           sigma=sigmas_, \n",
    "                           shape=len(mus))\n",
    "    \n",
    "    sigma = pm.HalfNormal(\"sigma\", sigma=sigma_)\n",
    "\n",
    "    # Expected value of outcome\n",
    "    mu = pm.math.dot(X, parameters)\n",
    "\n",
    "    # Likelihood (sampling distribution) of observations\n",
    "    fy_obs = pm.Normal(\"fy_obs\", mu=mu, sigma=sigma, observed=data['fy_measure'])"
   ]
  },
  {
   "cell_type": "code",
   "execution_count": null,
   "id": "f687158d-4143-46de-9dc9-d54b9c4964ca",
   "metadata": {},
   "outputs": [],
   "source": [
    "with basic_model:\n",
    "    # draw 1000 posterior samples\n",
    "    trace = pm.sample(draws=100)"
   ]
  },
  {
   "cell_type": "code",
   "execution_count": null,
   "id": "5dcbc760-8895-40a2-b409-1e77aab97cb1",
   "metadata": {},
   "outputs": [],
   "source": [
    "with basic_model:\n",
    "    az.plot_posterior(trace,\n",
    "                  var_names=['parameters','sigma'],\n",
    "                  textsize=18,\n",
    "                  point_estimate='mean',\n",
    "                  rope_color='black')"
   ]
  },
  {
   "cell_type": "code",
   "execution_count": null,
   "id": "31eb13be-8833-4a03-877c-301095a2a8f1",
   "metadata": {},
   "outputs": [],
   "source": [
    "az.summary(trace)"
   ]
  },
  {
   "cell_type": "code",
   "execution_count": null,
   "id": "da8549fd-28c5-4b62-aca9-7747420cd997",
   "metadata": {},
   "outputs": [],
   "source": [
    "means = (trace.posterior['parameters'].data[0].mean(axis=0) + trace.posterior['parameters'].data[1].mean(axis=0))/2\n",
    "means = {key:mean for key,mean in zip(columns,means)}"
   ]
  },
  {
   "cell_type": "code",
   "execution_count": null,
   "id": "1891deb1-c6a2-48f6-9efc-3872e2207613",
   "metadata": {},
   "outputs": [],
   "source": [
    "data['Bayesian'] = lambda_fy(Y_uud=means['Y_uud'], Y_td=means['Y_td'], u=data['u'], delta=data['delta'], T=data['T'])"
   ]
  },
  {
   "cell_type": "code",
   "execution_count": null,
   "id": "f519cea7-6c65-4ea7-8306-2f4b9f571a2c",
   "metadata": {},
   "outputs": [],
   "source": [
    "fig,ax=plt.subplots()\n",
    "data.plot(x='delta', y='fy', ax=ax)\n",
    "data.plot(x='delta', y='fy_measure', style='.', ax=ax)\n",
    "data.plot(x='delta', y='Bayesian', style='--', ax=ax)\n",
    "\n",
    "for params in trace.posterior['parameters'][0].data:\n",
    "    param = {key:mean for key,mean in zip(columns,params)}\n",
    "    ax.plot(data['delta'],lambda_fy(Y_uud=param['Y_uud'], Y_td=param['Y_td'], u=data['u'], delta=data['delta'], T=data['T']), alpha=0.1, color='grey', zorder=-10)"
   ]
  }
 ],
 "metadata": {
  "kernelspec": {
   "display_name": "Python 3 (ipykernel)",
   "language": "python",
   "name": "python3"
  },
  "language_info": {
   "codemirror_mode": {
    "name": "ipython",
    "version": 3
   },
   "file_extension": ".py",
   "mimetype": "text/x-python",
   "name": "python",
   "nbconvert_exporter": "python",
   "pygments_lexer": "ipython3",
   "version": "3.8.10"
  }
 },
 "nbformat": 4,
 "nbformat_minor": 5
}
