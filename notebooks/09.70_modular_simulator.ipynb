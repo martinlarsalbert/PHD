{
 "cells": [
  {
   "cell_type": "markdown",
   "id": "5440b9f3-6bb9-415e-add3-1548d954696b",
   "metadata": {},
   "source": [
    "# Implementation of a new modular simulator"
   ]
  },
  {
   "cell_type": "code",
   "execution_count": 1,
   "id": "3729ef49-8a1c-4bf8-bb7b-978c045e8afb",
   "metadata": {},
   "outputs": [],
   "source": [
    "import warnings\n",
    "warnings.filterwarnings('ignore')\n",
    "%matplotlib inline\n",
    "%load_ext autoreload\n",
    "%autoreload 2\n",
    "#%config Completer.use_jedi = False"
   ]
  },
  {
   "cell_type": "code",
   "execution_count": 2,
   "id": "e76fd068-0481-459e-831c-a8ac922f564f",
   "metadata": {},
   "outputs": [],
   "source": [
    "import pandas as pd\n",
    "pd.set_option('display.max_rows', 5000)\n",
    "pd.set_option('display.max_columns', 5000)\n",
    "pd.set_option('display.width', 10000)\n",
    "import numpy as np\n",
    "import yaml\n",
    "\n",
    "from vessel_manoeuvring_models.visualization.plot import track_plot, plot\n",
    "from phd.visualization.plot_ship import track_plots\n",
    "from vessel_manoeuvring_models.extended_kalman_vmm import ExtendedKalman, SystemMatrixes\n",
    "from vmm_abkowitz_diminished import vmm as vmm\n",
    "from wPCC_pipeline.pipelines.brix.nodes import initial_parameters, extract_added_masses\n",
    "from wPCC_pipeline.pipelines.preprocess.nodes import load, add_thrust\n",
    "from wPCC_pipeline.pipelines.filter_data_extended_kalman.nodes import guess_covariance_matrixes, initial_state, extended_kalman_filter, extended_kalman_smoother\n",
    "from wPCC_pipeline.pipelines.motion_regression.nodes import predict_force, fit_motions, create_model_from_motion_regression\n",
    "from wPCC_pipeline.pipelines.prediction.nodes import simulate_euler\n",
    "from phd.pipelines.load_7m.nodes import fix_interpolated_angle\n",
    "from sklearn.metrics import mean_squared_error\n",
    "from vessel_manoeuvring_models.models.vmm import VMM, Simulator, ModelSimulator, get_coefficients\n",
    "import sympy as sp\n",
    "from functools import reduce\n",
    "from operator import add\n",
    "from vessel_manoeuvring_models.symbols import *\n",
    "import vessel_manoeuvring_models.symbols as symbols\n",
    "from IPython.display import display\n",
    "from vessel_manoeuvring_models.prime_system import df_prime\n",
    "from vessel_manoeuvring_models.substitute_dynamic_symbols import run, lambdify\n",
    "from vessel_manoeuvring_models.models.vmm import VMM, Simulator, ModelSimulator\n",
    "from vessel_manoeuvring_models.models.modular_simulator import ModularVesselSimulator\n",
    "from vessel_manoeuvring_models.models.subsystem import PrimeEquationSubSystem\n",
    "from vessel_manoeuvring_models.parameters import df_parameters\n",
    "from phd.helpers import mean\n",
    "from vessel_manoeuvring_models.angles import mean_angle\n",
    "from vessel_manoeuvring_models.angles import smallest_signed_angle\n",
    "from vessel_manoeuvring_models.models.diff_eq_to_matrix import DiffEqToMatrix\n",
    "from vessel_manoeuvring_models.nonlinear_vmm_equations import X_eom, Y_eom, N_eom, fx_eq, fy_eq, mz_eq\n",
    "import inspect\n",
    "p = df_parameters[\"symbol\"]\n",
    "\n",
    "import logging\n",
    "log = logging.getLogger(__name__)\n",
    "\n",
    "import matplotlib.pyplot as plt\n",
    "plt.style.use('bmh')"
   ]
  },
  {
   "cell_type": "code",
   "execution_count": 3,
   "id": "1a9e8f7d-4af0-491e-8f38-fcf73a652adc",
   "metadata": {},
   "outputs": [
    {
     "data": {
      "text/html": [
       "<pre style=\"white-space:pre;overflow-x:auto;line-height:normal;font-family:Menlo,'DejaVu Sans Mono',consolas,'Courier New',monospace\"><span style=\"color: #7fbfbf; text-decoration-color: #7fbfbf\">[06/05/23 16:38:22] </span><span style=\"color: #000080; text-decoration-color: #000080\">INFO    </span> Resolved project path as: <span style=\"color: #800080; text-decoration-color: #800080\">/home/maa/dev/</span><span style=\"color: #ff00ff; text-decoration-color: #ff00ff\">PHD.</span>                           <a href=\"file:///home/maa/anaconda3/envs/phd/lib/python3.10/site-packages/kedro/ipython/__init__.py\" target=\"_blank\"><span style=\"color: #7f7f7f; text-decoration-color: #7f7f7f\">__init__.py</span></a><span style=\"color: #7f7f7f; text-decoration-color: #7f7f7f\">:</span><a href=\"file:///home/maa/anaconda3/envs/phd/lib/python3.10/site-packages/kedro/ipython/__init__.py#134\" target=\"_blank\"><span style=\"color: #7f7f7f; text-decoration-color: #7f7f7f\">134</span></a>\n",
       "<span style=\"color: #7fbfbf; text-decoration-color: #7fbfbf\">                    </span>         To set a different path, run <span style=\"color: #008000; text-decoration-color: #008000\">'%reload_kedro &lt;project_root&gt;'</span>            <span style=\"color: #7f7f7f; text-decoration-color: #7f7f7f\">               </span>\n",
       "</pre>\n"
      ],
      "text/plain": [
       "\u001b[2;36m[06/05/23 16:38:22]\u001b[0m\u001b[2;36m \u001b[0m\u001b[34mINFO    \u001b[0m Resolved project path as: \u001b[35m/home/maa/dev/\u001b[0m\u001b[95mPHD.\u001b[0m                           \u001b]8;id=787655;file:///home/maa/anaconda3/envs/phd/lib/python3.10/site-packages/kedro/ipython/__init__.py\u001b\\\u001b[2m__init__.py\u001b[0m\u001b]8;;\u001b\\\u001b[2m:\u001b[0m\u001b]8;id=933202;file:///home/maa/anaconda3/envs/phd/lib/python3.10/site-packages/kedro/ipython/__init__.py#134\u001b\\\u001b[2m134\u001b[0m\u001b]8;;\u001b\\\n",
       "\u001b[2;36m                    \u001b[0m         To set a different path, run \u001b[32m'%reload_kedro \u001b[0m\u001b[32m<\u001b[0m\u001b[32mproject_root\u001b[0m\u001b[32m>\u001b[0m\u001b[32m'\u001b[0m            \u001b[2m               \u001b[0m\n"
      ]
     },
     "metadata": {},
     "output_type": "display_data"
    },
    {
     "data": {
      "text/html": [
       "<pre style=\"white-space:pre;overflow-x:auto;line-height:normal;font-family:Menlo,'DejaVu Sans Mono',consolas,'Courier New',monospace\"><span style=\"color: #7fbfbf; text-decoration-color: #7fbfbf\">[06/05/23 16:38:28] </span><span style=\"color: #000080; text-decoration-color: #000080\">INFO    </span> Kedro project phd                                                      <a href=\"file:///home/maa/anaconda3/envs/phd/lib/python3.10/site-packages/kedro/ipython/__init__.py\" target=\"_blank\"><span style=\"color: #7f7f7f; text-decoration-color: #7f7f7f\">__init__.py</span></a><span style=\"color: #7f7f7f; text-decoration-color: #7f7f7f\">:</span><a href=\"file:///home/maa/anaconda3/envs/phd/lib/python3.10/site-packages/kedro/ipython/__init__.py#103\" target=\"_blank\"><span style=\"color: #7f7f7f; text-decoration-color: #7f7f7f\">103</span></a>\n",
       "</pre>\n"
      ],
      "text/plain": [
       "\u001b[2;36m[06/05/23 16:38:28]\u001b[0m\u001b[2;36m \u001b[0m\u001b[34mINFO    \u001b[0m Kedro project phd                                                      \u001b]8;id=209957;file:///home/maa/anaconda3/envs/phd/lib/python3.10/site-packages/kedro/ipython/__init__.py\u001b\\\u001b[2m__init__.py\u001b[0m\u001b]8;;\u001b\\\u001b[2m:\u001b[0m\u001b]8;id=91933;file:///home/maa/anaconda3/envs/phd/lib/python3.10/site-packages/kedro/ipython/__init__.py#103\u001b\\\u001b[2m103\u001b[0m\u001b]8;;\u001b\\\n"
      ]
     },
     "metadata": {},
     "output_type": "display_data"
    },
    {
     "data": {
      "text/html": [
       "<pre style=\"white-space:pre;overflow-x:auto;line-height:normal;font-family:Menlo,'DejaVu Sans Mono',consolas,'Courier New',monospace\"><span style=\"color: #7fbfbf; text-decoration-color: #7fbfbf\">                    </span><span style=\"color: #000080; text-decoration-color: #000080\">INFO    </span> Defined global variable <span style=\"color: #008000; text-decoration-color: #008000\">'context'</span>, <span style=\"color: #008000; text-decoration-color: #008000\">'session'</span>, <span style=\"color: #008000; text-decoration-color: #008000\">'catalog'</span> and            <a href=\"file:///home/maa/anaconda3/envs/phd/lib/python3.10/site-packages/kedro/ipython/__init__.py\" target=\"_blank\"><span style=\"color: #7f7f7f; text-decoration-color: #7f7f7f\">__init__.py</span></a><span style=\"color: #7f7f7f; text-decoration-color: #7f7f7f\">:</span><a href=\"file:///home/maa/anaconda3/envs/phd/lib/python3.10/site-packages/kedro/ipython/__init__.py#104\" target=\"_blank\"><span style=\"color: #7f7f7f; text-decoration-color: #7f7f7f\">104</span></a>\n",
       "<span style=\"color: #7fbfbf; text-decoration-color: #7fbfbf\">                    </span>         <span style=\"color: #008000; text-decoration-color: #008000\">'pipelines'</span>                                                            <span style=\"color: #7f7f7f; text-decoration-color: #7f7f7f\">               </span>\n",
       "</pre>\n"
      ],
      "text/plain": [
       "\u001b[2;36m                   \u001b[0m\u001b[2;36m \u001b[0m\u001b[34mINFO    \u001b[0m Defined global variable \u001b[32m'context'\u001b[0m, \u001b[32m'session'\u001b[0m, \u001b[32m'catalog'\u001b[0m and            \u001b]8;id=466709;file:///home/maa/anaconda3/envs/phd/lib/python3.10/site-packages/kedro/ipython/__init__.py\u001b\\\u001b[2m__init__.py\u001b[0m\u001b]8;;\u001b\\\u001b[2m:\u001b[0m\u001b]8;id=942139;file:///home/maa/anaconda3/envs/phd/lib/python3.10/site-packages/kedro/ipython/__init__.py#104\u001b\\\u001b[2m104\u001b[0m\u001b]8;;\u001b\\\n",
       "\u001b[2;36m                    \u001b[0m         \u001b[32m'pipelines'\u001b[0m                                                            \u001b[2m               \u001b[0m\n"
      ]
     },
     "metadata": {},
     "output_type": "display_data"
    },
    {
     "data": {
      "text/html": [
       "<pre style=\"white-space:pre;overflow-x:auto;line-height:normal;font-family:Menlo,'DejaVu Sans Mono',consolas,'Courier New',monospace\"><span style=\"color: #7fbfbf; text-decoration-color: #7fbfbf\">                    </span><span style=\"color: #000080; text-decoration-color: #000080\">INFO    </span> Registered line magic <span style=\"color: #008000; text-decoration-color: #008000\">'run_viz'</span>                                        <a href=\"file:///home/maa/anaconda3/envs/phd/lib/python3.10/site-packages/kedro/ipython/__init__.py\" target=\"_blank\"><span style=\"color: #7f7f7f; text-decoration-color: #7f7f7f\">__init__.py</span></a><span style=\"color: #7f7f7f; text-decoration-color: #7f7f7f\">:</span><a href=\"file:///home/maa/anaconda3/envs/phd/lib/python3.10/site-packages/kedro/ipython/__init__.py#110\" target=\"_blank\"><span style=\"color: #7f7f7f; text-decoration-color: #7f7f7f\">110</span></a>\n",
       "</pre>\n"
      ],
      "text/plain": [
       "\u001b[2;36m                   \u001b[0m\u001b[2;36m \u001b[0m\u001b[34mINFO    \u001b[0m Registered line magic \u001b[32m'run_viz'\u001b[0m                                        \u001b]8;id=215320;file:///home/maa/anaconda3/envs/phd/lib/python3.10/site-packages/kedro/ipython/__init__.py\u001b\\\u001b[2m__init__.py\u001b[0m\u001b]8;;\u001b\\\u001b[2m:\u001b[0m\u001b]8;id=566901;file:///home/maa/anaconda3/envs/phd/lib/python3.10/site-packages/kedro/ipython/__init__.py#110\u001b\\\u001b[2m110\u001b[0m\u001b]8;;\u001b\\\n"
      ]
     },
     "metadata": {},
     "output_type": "display_data"
    },
    {
     "data": {
      "text/html": [
       "<pre style=\"white-space:pre;overflow-x:auto;line-height:normal;font-family:Menlo,'DejaVu Sans Mono',consolas,'Courier New',monospace\"><span style=\"color: #7fbfbf; text-decoration-color: #7fbfbf\">                    </span><span style=\"color: #000080; text-decoration-color: #000080\">INFO    </span> Loading data from <span style=\"color: #008000; text-decoration-color: #008000\">'wPCC.time_series'</span> <span style=\"font-weight: bold\">(</span>PartitionedDataSet<span style=\"font-weight: bold\">)</span><span style=\"color: #808000; text-decoration-color: #808000\">...</span>       <a href=\"file:///home/maa/anaconda3/envs/phd/lib/python3.10/site-packages/kedro/io/data_catalog.py\" target=\"_blank\"><span style=\"color: #7f7f7f; text-decoration-color: #7f7f7f\">data_catalog.py</span></a><span style=\"color: #7f7f7f; text-decoration-color: #7f7f7f\">:</span><a href=\"file:///home/maa/anaconda3/envs/phd/lib/python3.10/site-packages/kedro/io/data_catalog.py#343\" target=\"_blank\"><span style=\"color: #7f7f7f; text-decoration-color: #7f7f7f\">343</span></a>\n",
       "</pre>\n"
      ],
      "text/plain": [
       "\u001b[2;36m                   \u001b[0m\u001b[2;36m \u001b[0m\u001b[34mINFO    \u001b[0m Loading data from \u001b[32m'wPCC.time_series'\u001b[0m \u001b[1m(\u001b[0mPartitionedDataSet\u001b[1m)\u001b[0m\u001b[33m...\u001b[0m       \u001b]8;id=452306;file:///home/maa/anaconda3/envs/phd/lib/python3.10/site-packages/kedro/io/data_catalog.py\u001b\\\u001b[2mdata_catalog.py\u001b[0m\u001b]8;;\u001b\\\u001b[2m:\u001b[0m\u001b]8;id=423088;file:///home/maa/anaconda3/envs/phd/lib/python3.10/site-packages/kedro/io/data_catalog.py#343\u001b\\\u001b[2m343\u001b[0m\u001b]8;;\u001b\\\n"
      ]
     },
     "metadata": {},
     "output_type": "display_data"
    },
    {
     "data": {
      "text/html": [
       "<pre style=\"white-space:pre;overflow-x:auto;line-height:normal;font-family:Menlo,'DejaVu Sans Mono',consolas,'Courier New',monospace\"><span style=\"color: #7fbfbf; text-decoration-color: #7fbfbf\">                    </span><span style=\"color: #000080; text-decoration-color: #000080\">INFO    </span> Loading data from <span style=\"color: #008000; text-decoration-color: #008000\">'wPCC.time_series_preprocessed.ek_smooth'</span>        <a href=\"file:///home/maa/anaconda3/envs/phd/lib/python3.10/site-packages/kedro/io/data_catalog.py\" target=\"_blank\"><span style=\"color: #7f7f7f; text-decoration-color: #7f7f7f\">data_catalog.py</span></a><span style=\"color: #7f7f7f; text-decoration-color: #7f7f7f\">:</span><a href=\"file:///home/maa/anaconda3/envs/phd/lib/python3.10/site-packages/kedro/io/data_catalog.py#343\" target=\"_blank\"><span style=\"color: #7f7f7f; text-decoration-color: #7f7f7f\">343</span></a>\n",
       "<span style=\"color: #7fbfbf; text-decoration-color: #7fbfbf\">                    </span>         <span style=\"font-weight: bold\">(</span>PartitionedDataSet<span style=\"font-weight: bold\">)</span><span style=\"color: #808000; text-decoration-color: #808000\">...</span>                                            <span style=\"color: #7f7f7f; text-decoration-color: #7f7f7f\">                   </span>\n",
       "</pre>\n"
      ],
      "text/plain": [
       "\u001b[2;36m                   \u001b[0m\u001b[2;36m \u001b[0m\u001b[34mINFO    \u001b[0m Loading data from \u001b[32m'wPCC.time_series_preprocessed.ek_smooth'\u001b[0m        \u001b]8;id=789799;file:///home/maa/anaconda3/envs/phd/lib/python3.10/site-packages/kedro/io/data_catalog.py\u001b\\\u001b[2mdata_catalog.py\u001b[0m\u001b]8;;\u001b\\\u001b[2m:\u001b[0m\u001b]8;id=344604;file:///home/maa/anaconda3/envs/phd/lib/python3.10/site-packages/kedro/io/data_catalog.py#343\u001b\\\u001b[2m343\u001b[0m\u001b]8;;\u001b\\\n",
       "\u001b[2;36m                    \u001b[0m         \u001b[1m(\u001b[0mPartitionedDataSet\u001b[1m)\u001b[0m\u001b[33m...\u001b[0m                                            \u001b[2m                   \u001b[0m\n"
      ]
     },
     "metadata": {},
     "output_type": "display_data"
    },
    {
     "data": {
      "text/html": [
       "<pre style=\"white-space:pre;overflow-x:auto;line-height:normal;font-family:Menlo,'DejaVu Sans Mono',consolas,'Courier New',monospace\"><span style=\"color: #7fbfbf; text-decoration-color: #7fbfbf\">                    </span><span style=\"color: #000080; text-decoration-color: #000080\">INFO    </span> Loading data from <span style=\"color: #008000; text-decoration-color: #008000\">'wPCC.ship_data'</span> <span style=\"font-weight: bold\">(</span>YAMLDataSet<span style=\"font-weight: bold\">)</span><span style=\"color: #808000; text-decoration-color: #808000\">...</span>                <a href=\"file:///home/maa/anaconda3/envs/phd/lib/python3.10/site-packages/kedro/io/data_catalog.py\" target=\"_blank\"><span style=\"color: #7f7f7f; text-decoration-color: #7f7f7f\">data_catalog.py</span></a><span style=\"color: #7f7f7f; text-decoration-color: #7f7f7f\">:</span><a href=\"file:///home/maa/anaconda3/envs/phd/lib/python3.10/site-packages/kedro/io/data_catalog.py#343\" target=\"_blank\"><span style=\"color: #7f7f7f; text-decoration-color: #7f7f7f\">343</span></a>\n",
       "</pre>\n"
      ],
      "text/plain": [
       "\u001b[2;36m                   \u001b[0m\u001b[2;36m \u001b[0m\u001b[34mINFO    \u001b[0m Loading data from \u001b[32m'wPCC.ship_data'\u001b[0m \u001b[1m(\u001b[0mYAMLDataSet\u001b[1m)\u001b[0m\u001b[33m...\u001b[0m                \u001b]8;id=524790;file:///home/maa/anaconda3/envs/phd/lib/python3.10/site-packages/kedro/io/data_catalog.py\u001b\\\u001b[2mdata_catalog.py\u001b[0m\u001b]8;;\u001b\\\u001b[2m:\u001b[0m\u001b]8;id=309087;file:///home/maa/anaconda3/envs/phd/lib/python3.10/site-packages/kedro/io/data_catalog.py#343\u001b\\\u001b[2m343\u001b[0m\u001b]8;;\u001b\\\n"
      ]
     },
     "metadata": {},
     "output_type": "display_data"
    },
    {
     "data": {
      "text/html": [
       "<pre style=\"white-space:pre;overflow-x:auto;line-height:normal;font-family:Menlo,'DejaVu Sans Mono',consolas,'Courier New',monospace\"><span style=\"color: #7fbfbf; text-decoration-color: #7fbfbf\">                    </span><span style=\"color: #000080; text-decoration-color: #000080\">INFO    </span> Loading data from <span style=\"color: #008000; text-decoration-color: #008000\">'params:wPCC.exclude_parameters'</span>                 <a href=\"file:///home/maa/anaconda3/envs/phd/lib/python3.10/site-packages/kedro/io/data_catalog.py\" target=\"_blank\"><span style=\"color: #7f7f7f; text-decoration-color: #7f7f7f\">data_catalog.py</span></a><span style=\"color: #7f7f7f; text-decoration-color: #7f7f7f\">:</span><a href=\"file:///home/maa/anaconda3/envs/phd/lib/python3.10/site-packages/kedro/io/data_catalog.py#343\" target=\"_blank\"><span style=\"color: #7f7f7f; text-decoration-color: #7f7f7f\">343</span></a>\n",
       "<span style=\"color: #7fbfbf; text-decoration-color: #7fbfbf\">                    </span>         <span style=\"font-weight: bold\">(</span>MemoryDataSet<span style=\"font-weight: bold\">)</span><span style=\"color: #808000; text-decoration-color: #808000\">...</span>                                                 <span style=\"color: #7f7f7f; text-decoration-color: #7f7f7f\">                   </span>\n",
       "</pre>\n"
      ],
      "text/plain": [
       "\u001b[2;36m                   \u001b[0m\u001b[2;36m \u001b[0m\u001b[34mINFO    \u001b[0m Loading data from \u001b[32m'params:wPCC.exclude_parameters'\u001b[0m                 \u001b]8;id=363572;file:///home/maa/anaconda3/envs/phd/lib/python3.10/site-packages/kedro/io/data_catalog.py\u001b\\\u001b[2mdata_catalog.py\u001b[0m\u001b]8;;\u001b\\\u001b[2m:\u001b[0m\u001b]8;id=53953;file:///home/maa/anaconda3/envs/phd/lib/python3.10/site-packages/kedro/io/data_catalog.py#343\u001b\\\u001b[2m343\u001b[0m\u001b]8;;\u001b\\\n",
       "\u001b[2;36m                    \u001b[0m         \u001b[1m(\u001b[0mMemoryDataSet\u001b[1m)\u001b[0m\u001b[33m...\u001b[0m                                                 \u001b[2m                   \u001b[0m\n"
      ]
     },
     "metadata": {},
     "output_type": "display_data"
    },
    {
     "data": {
      "text/html": [
       "<pre style=\"white-space:pre;overflow-x:auto;line-height:normal;font-family:Menlo,'DejaVu Sans Mono',consolas,'Courier New',monospace\"><span style=\"color: #7fbfbf; text-decoration-color: #7fbfbf\">                    </span><span style=\"color: #000080; text-decoration-color: #000080\">INFO    </span> Loading data from <span style=\"color: #008000; text-decoration-color: #008000\">'wPCC.time_series_meta_data'</span> <span style=\"font-weight: bold\">(</span>CSVDataSet<span style=\"font-weight: bold\">)</span><span style=\"color: #808000; text-decoration-color: #808000\">...</span>     <a href=\"file:///home/maa/anaconda3/envs/phd/lib/python3.10/site-packages/kedro/io/data_catalog.py\" target=\"_blank\"><span style=\"color: #7f7f7f; text-decoration-color: #7f7f7f\">data_catalog.py</span></a><span style=\"color: #7f7f7f; text-decoration-color: #7f7f7f\">:</span><a href=\"file:///home/maa/anaconda3/envs/phd/lib/python3.10/site-packages/kedro/io/data_catalog.py#343\" target=\"_blank\"><span style=\"color: #7f7f7f; text-decoration-color: #7f7f7f\">343</span></a>\n",
       "</pre>\n"
      ],
      "text/plain": [
       "\u001b[2;36m                   \u001b[0m\u001b[2;36m \u001b[0m\u001b[34mINFO    \u001b[0m Loading data from \u001b[32m'wPCC.time_series_meta_data'\u001b[0m \u001b[1m(\u001b[0mCSVDataSet\u001b[1m)\u001b[0m\u001b[33m...\u001b[0m     \u001b]8;id=646675;file:///home/maa/anaconda3/envs/phd/lib/python3.10/site-packages/kedro/io/data_catalog.py\u001b\\\u001b[2mdata_catalog.py\u001b[0m\u001b]8;;\u001b\\\u001b[2m:\u001b[0m\u001b]8;id=369275;file:///home/maa/anaconda3/envs/phd/lib/python3.10/site-packages/kedro/io/data_catalog.py#343\u001b\\\u001b[2m343\u001b[0m\u001b]8;;\u001b\\\n"
      ]
     },
     "metadata": {},
     "output_type": "display_data"
    },
    {
     "data": {
      "text/html": [
       "<pre style=\"white-space:pre;overflow-x:auto;line-height:normal;font-family:Menlo,'DejaVu Sans Mono',consolas,'Courier New',monospace\"><span style=\"color: #7fbfbf; text-decoration-color: #7fbfbf\">                    </span><span style=\"color: #000080; text-decoration-color: #000080\">INFO    </span> Loading data from <span style=\"color: #008000; text-decoration-color: #008000\">'wPCC.models'</span> <span style=\"font-weight: bold\">(</span>PartitionedDataSet<span style=\"font-weight: bold\">)</span><span style=\"color: #808000; text-decoration-color: #808000\">...</span>            <a href=\"file:///home/maa/anaconda3/envs/phd/lib/python3.10/site-packages/kedro/io/data_catalog.py\" target=\"_blank\"><span style=\"color: #7f7f7f; text-decoration-color: #7f7f7f\">data_catalog.py</span></a><span style=\"color: #7f7f7f; text-decoration-color: #7f7f7f\">:</span><a href=\"file:///home/maa/anaconda3/envs/phd/lib/python3.10/site-packages/kedro/io/data_catalog.py#343\" target=\"_blank\"><span style=\"color: #7f7f7f; text-decoration-color: #7f7f7f\">343</span></a>\n",
       "</pre>\n"
      ],
      "text/plain": [
       "\u001b[2;36m                   \u001b[0m\u001b[2;36m \u001b[0m\u001b[34mINFO    \u001b[0m Loading data from \u001b[32m'wPCC.models'\u001b[0m \u001b[1m(\u001b[0mPartitionedDataSet\u001b[1m)\u001b[0m\u001b[33m...\u001b[0m            \u001b]8;id=867918;file:///home/maa/anaconda3/envs/phd/lib/python3.10/site-packages/kedro/io/data_catalog.py\u001b\\\u001b[2mdata_catalog.py\u001b[0m\u001b]8;;\u001b\\\u001b[2m:\u001b[0m\u001b]8;id=104460;file:///home/maa/anaconda3/envs/phd/lib/python3.10/site-packages/kedro/io/data_catalog.py#343\u001b\\\u001b[2m343\u001b[0m\u001b]8;;\u001b\\\n"
      ]
     },
     "metadata": {},
     "output_type": "display_data"
    }
   ],
   "source": [
    "%reload_kedro\n",
    "ship='wPCC'\n",
    "time_series = catalog.load(f\"{ship}.time_series\")\n",
    "time_series_smooth = catalog.load(f\"{ship}.time_series_preprocessed.ek_smooth\")\n",
    "ship_data = catalog.load(f\"{ship}.ship_data\")\n",
    "exclude_parameters = catalog.load(f\"params:{ship}.exclude_parameters\")\n",
    "time_series_meta_data = catalog.load(f\"{ship}.time_series_meta_data\")\n",
    "time_series_meta_data.index = time_series_meta_data.index.astype(str)\n",
    "time_series_meta_data.rename(columns={'test_type':'test type'}, inplace=True)\n",
    "model_loader = catalog.load(f\"{ship}.models\")"
   ]
  },
  {
   "cell_type": "code",
   "execution_count": 4,
   "id": "85eef02d-74d5-40da-a151-68e63e5149fb",
   "metadata": {},
   "outputs": [],
   "source": [
    "model_old = model_loader['wpcc.updated.vmm_martins_simple.joined.model']()"
   ]
  },
  {
   "cell_type": "code",
   "execution_count": 5,
   "id": "c35c9ca0-f928-463b-a569-15d5aabcbfe7",
   "metadata": {},
   "outputs": [
    {
     "data": {
      "text/latex": [
       "$\\displaystyle m \\left(\\dot{u} - r^{2} x_{G} - r v\\right) = X_{force}$"
      ],
      "text/plain": [
       "Eq(m*(\\dot{u} - r**2*x_G - r*v), X_force)"
      ]
     },
     "metadata": {},
     "output_type": "display_data"
    },
    {
     "data": {
      "text/latex": [
       "$\\displaystyle m \\left(\\dot{r} x_{G} + \\dot{v} + r u\\right) = Y_{force}$"
      ],
      "text/plain": [
       "Eq(m*(\\dot{r}*x_G + \\dot{v} + r*u), Y_force)"
      ]
     },
     "metadata": {},
     "output_type": "display_data"
    },
    {
     "data": {
      "text/latex": [
       "$\\displaystyle I_{z} \\dot{r} + m x_{G} \\left(\\dot{v} + r u\\right) = N_{force}$"
      ],
      "text/plain": [
       "Eq(I_z*\\dot{r} + m*x_G*(\\dot{v} + r*u), N_force)"
      ]
     },
     "metadata": {},
     "output_type": "display_data"
    }
   ],
   "source": [
    "display(X_eom)\n",
    "display(Y_eom)\n",
    "display(N_eom)"
   ]
  },
  {
   "cell_type": "code",
   "execution_count": 6,
   "id": "6b39c554-7472-48a4-a4fe-3eb5293e35ec",
   "metadata": {},
   "outputs": [],
   "source": [
    "#X_D_ = sp.symbols('X_D')\n",
    "#Y_D_ = sp.symbols('Y_D')\n",
    "#N_D_ = sp.symbols('N_D')\n",
    "#fx_eq = fx_eq.subs(X_D,X_D_)\n",
    "#fy_eq = fy_eq.subs(Y_D,Y_D_)\n",
    "#mz_eq = mz_eq.subs(N_D,N_D_)"
   ]
  },
  {
   "cell_type": "code",
   "execution_count": 7,
   "id": "22ceb431-8de5-4775-bb3a-5ca1d4e6b82c",
   "metadata": {},
   "outputs": [],
   "source": [
    "f_X_H = sp.Function('X_H')(u,v,r,delta)\n",
    "f_Y_H = sp.Function('Y_H')(u,v,r,delta)\n",
    "f_N_H = sp.Function('N_H')(u,v,r,delta)\n",
    "\n",
    "f_X_R = sp.Function('X_R')(u,v,r,delta)\n",
    "f_Y_R = sp.Function('Y_R')(u,v,r,delta)\n",
    "f_N_R = sp.Function('N_R')(u,v,r,delta)\n",
    "\n",
    "f_X_P = sp.Function('X_P')(u,v,r,delta)"
   ]
  },
  {
   "cell_type": "code",
   "execution_count": 8,
   "id": "054ebda4-b5dd-4894-9c40-68731b3403ad",
   "metadata": {},
   "outputs": [
    {
     "data": {
      "text/latex": [
       "$\\displaystyle X_{force} = X_{\\dot{r}} \\dot{r} + X_{\\dot{u}} \\dot{u} + X_{\\dot{v}} \\dot{v} + X_{H}{\\left(u,v,r,\\delta \\right)} + X_{P}{\\left(u,v,r,\\delta \\right)} + X_{R}{\\left(u,v,r,\\delta \\right)}$"
      ],
      "text/plain": [
       "Eq(X_force, X_{\\dot{r}}*\\dot{r} + X_{\\dot{u}}*\\dot{u} + X_{\\dot{v}}*\\dot{v} + X_H(u, v, r, delta) + X_P(u, v, r, delta) + X_R(u, v, r, delta))"
      ]
     },
     "metadata": {},
     "output_type": "display_data"
    },
    {
     "data": {
      "text/latex": [
       "$\\displaystyle Y_{force} = Y_{\\dot{r}} \\dot{r} + Y_{\\dot{u}} \\dot{u} + Y_{\\dot{v}} \\dot{v} + Y_{H}{\\left(u,v,r,\\delta \\right)} + Y_{R}{\\left(u,v,r,\\delta \\right)}$"
      ],
      "text/plain": [
       "Eq(Y_force, Y_{\\dot{r}}*\\dot{r} + Y_{\\dot{u}}*\\dot{u} + Y_{\\dot{v}}*\\dot{v} + Y_H(u, v, r, delta) + Y_R(u, v, r, delta))"
      ]
     },
     "metadata": {},
     "output_type": "display_data"
    },
    {
     "data": {
      "text/latex": [
       "$\\displaystyle N_{force} = N_{\\dot{r}} \\dot{r} + N_{\\dot{u}} \\dot{v} + N_{\\dot{v}} \\dot{v} + N_{H}{\\left(u,v,r,\\delta \\right)} + N_{R}{\\left(u,v,r,\\delta \\right)}$"
      ],
      "text/plain": [
       "Eq(N_force, N_{\\dot{r}}*\\dot{r} + N_{\\dot{u}}*\\dot{v} + N_{\\dot{v}}*\\dot{v} + N_H(u, v, r, delta) + N_R(u, v, r, delta))"
      ]
     },
     "metadata": {},
     "output_type": "display_data"
    }
   ],
   "source": [
    "eq_X_force = fx_eq.subs(X_D, f_X_H + f_X_R + f_X_P)\n",
    "eq_Y_force = fy_eq.subs(Y_D, f_Y_H + f_Y_R)\n",
    "eq_N_force = mz_eq.subs(N_D, f_N_H + f_N_R)\n",
    "\n",
    "display(eq_X_force)\n",
    "display(eq_Y_force)\n",
    "display(eq_N_force)"
   ]
  },
  {
   "cell_type": "code",
   "execution_count": 9,
   "id": "0473e389-72fe-4576-8de8-8812108d2b8c",
   "metadata": {},
   "outputs": [
    {
     "data": {
      "text/latex": [
       "$\\displaystyle m \\left(\\dot{u} - r^{2} x_{G} - r v\\right) = X_{\\dot{r}} \\dot{r} + X_{\\dot{u}} \\dot{u} + X_{\\dot{v}} \\dot{v} + X_{H}{\\left(u,v,r,\\delta \\right)} + X_{P}{\\left(u,v,r,\\delta \\right)} + X_{R}{\\left(u,v,r,\\delta \\right)}$"
      ],
      "text/plain": [
       "Eq(m*(\\dot{u} - r**2*x_G - r*v), X_{\\dot{r}}*\\dot{r} + X_{\\dot{u}}*\\dot{u} + X_{\\dot{v}}*\\dot{v} + X_H(u, v, r, delta) + X_P(u, v, r, delta) + X_R(u, v, r, delta))"
      ]
     },
     "metadata": {},
     "output_type": "display_data"
    },
    {
     "data": {
      "text/latex": [
       "$\\displaystyle m \\left(\\dot{r} x_{G} + \\dot{v} + r u\\right) = Y_{\\dot{r}} \\dot{r} + Y_{\\dot{u}} \\dot{u} + Y_{\\dot{v}} \\dot{v} + Y_{H}{\\left(u,v,r,\\delta \\right)} + Y_{R}{\\left(u,v,r,\\delta \\right)}$"
      ],
      "text/plain": [
       "Eq(m*(\\dot{r}*x_G + \\dot{v} + r*u), Y_{\\dot{r}}*\\dot{r} + Y_{\\dot{u}}*\\dot{u} + Y_{\\dot{v}}*\\dot{v} + Y_H(u, v, r, delta) + Y_R(u, v, r, delta))"
      ]
     },
     "metadata": {},
     "output_type": "display_data"
    },
    {
     "data": {
      "text/latex": [
       "$\\displaystyle I_{z} \\dot{r} + m x_{G} \\left(\\dot{v} + r u\\right) = N_{\\dot{r}} \\dot{r} + N_{\\dot{u}} \\dot{v} + N_{\\dot{v}} \\dot{v} + N_{H}{\\left(u,v,r,\\delta \\right)} + N_{R}{\\left(u,v,r,\\delta \\right)}$"
      ],
      "text/plain": [
       "Eq(I_z*\\dot{r} + m*x_G*(\\dot{v} + r*u), N_{\\dot{r}}*\\dot{r} + N_{\\dot{u}}*\\dot{v} + N_{\\dot{v}}*\\dot{v} + N_H(u, v, r, delta) + N_R(u, v, r, delta))"
      ]
     },
     "metadata": {},
     "output_type": "display_data"
    }
   ],
   "source": [
    "X_eq = X_eom.subs(X_force,eq_X_force.rhs)\n",
    "Y_eq = Y_eom.subs(Y_force,eq_Y_force.rhs)\n",
    "N_eq = N_eom.subs(N_force,eq_N_force.rhs)\n",
    "\n",
    "display(X_eq)\n",
    "display(Y_eq)\n",
    "display(N_eq)\n"
   ]
  },
  {
   "cell_type": "code",
   "execution_count": 10,
   "id": "ce1b6811-c041-4388-befc-64e3a618e96c",
   "metadata": {},
   "outputs": [
    {
     "data": {
      "text/latex": [
       "$\\displaystyle m \\left(\\dot{u} - r^{2} x_{G} - r v\\right) = X_{\\dot{u}} \\dot{u} + X_{H}{\\left(u,v,r,\\delta \\right)} + X_{P}{\\left(u,v,r,\\delta \\right)} + X_{R}{\\left(u,v,r,\\delta \\right)}$"
      ],
      "text/plain": [
       "Eq(m*(\\dot{u} - r**2*x_G - r*v), X_{\\dot{u}}*\\dot{u} + X_H(u, v, r, delta) + X_P(u, v, r, delta) + X_R(u, v, r, delta))"
      ]
     },
     "metadata": {},
     "output_type": "display_data"
    },
    {
     "data": {
      "text/latex": [
       "$\\displaystyle m \\left(\\dot{r} x_{G} + \\dot{v} + r u\\right) = Y_{\\dot{r}} \\dot{r} + Y_{\\dot{v}} \\dot{v} + Y_{H}{\\left(u,v,r,\\delta \\right)} + Y_{R}{\\left(u,v,r,\\delta \\right)}$"
      ],
      "text/plain": [
       "Eq(m*(\\dot{r}*x_G + \\dot{v} + r*u), Y_{\\dot{r}}*\\dot{r} + Y_{\\dot{v}}*\\dot{v} + Y_H(u, v, r, delta) + Y_R(u, v, r, delta))"
      ]
     },
     "metadata": {},
     "output_type": "display_data"
    },
    {
     "data": {
      "text/latex": [
       "$\\displaystyle I_{z} \\dot{r} + m x_{G} \\left(\\dot{v} + r u\\right) = N_{\\dot{r}} \\dot{r} + N_{\\dot{v}} \\dot{v} + N_{H}{\\left(u,v,r,\\delta \\right)} + N_{R}{\\left(u,v,r,\\delta \\right)}$"
      ],
      "text/plain": [
       "Eq(I_z*\\dot{r} + m*x_G*(\\dot{v} + r*u), N_{\\dot{r}}*\\dot{r} + N_{\\dot{v}}*\\dot{v} + N_H(u, v, r, delta) + N_R(u, v, r, delta))"
      ]
     },
     "metadata": {},
     "output_type": "display_data"
    }
   ],
   "source": [
    "subs = [\n",
    "    (p.Xvdot, 0),\n",
    "    (p.Xrdot, 0),\n",
    "    (p.Yudot, 0),\n",
    "    # (p.Yrdot,0),  # this is probably not true\n",
    "    (p.Nudot, 0),\n",
    "    # (p.Nvdot,0),# this is probably not true\n",
    "]\n",
    "X_eq=X_eq.subs(subs)\n",
    "Y_eq=Y_eq.subs(subs)\n",
    "N_eq=N_eq.subs(subs)\n",
    "\n",
    "display(X_eq)\n",
    "display(Y_eq)\n",
    "display(N_eq)"
   ]
  },
  {
   "cell_type": "code",
   "execution_count": 11,
   "id": "646de769-73e3-4e7a-84a1-ec97001dc45f",
   "metadata": {},
   "outputs": [
    {
     "data": {
      "text/latex": [
       "$\\displaystyle m \\left(\\dot{u} - r^{2} x_{G} - r v\\right) = X_{\\dot{u}} \\dot{u} + X_{H}{\\left(u,v,r,\\delta \\right)}$"
      ],
      "text/plain": [
       "Eq(m*(\\dot{u} - r**2*x_G - r*v), X_{\\dot{u}}*\\dot{u} + X_H(u, v, r, delta))"
      ]
     },
     "metadata": {},
     "output_type": "display_data"
    },
    {
     "data": {
      "text/latex": [
       "$\\displaystyle m \\left(\\dot{r} x_{G} + \\dot{v} + r u\\right) = Y_{\\dot{r}} \\dot{r} + Y_{\\dot{v}} \\dot{v} + Y_{H}{\\left(u,v,r,\\delta \\right)}$"
      ],
      "text/plain": [
       "Eq(m*(\\dot{r}*x_G + \\dot{v} + r*u), Y_{\\dot{r}}*\\dot{r} + Y_{\\dot{v}}*\\dot{v} + Y_H(u, v, r, delta))"
      ]
     },
     "metadata": {},
     "output_type": "display_data"
    },
    {
     "data": {
      "text/latex": [
       "$\\displaystyle I_{z} \\dot{r} + m x_{G} \\left(\\dot{v} + r u\\right) = N_{\\dot{r}} \\dot{r} + N_{\\dot{v}} \\dot{v} + N_{H}{\\left(u,v,r,\\delta \\right)}$"
      ],
      "text/plain": [
       "Eq(I_z*\\dot{r} + m*x_G*(\\dot{v} + r*u), N_{\\dot{r}}*\\dot{r} + N_{\\dot{v}}*\\dot{v} + N_H(u, v, r, delta))"
      ]
     },
     "metadata": {},
     "output_type": "display_data"
    }
   ],
   "source": [
    "X_eq=X_eq.subs([\n",
    "(f_X_P,0),\n",
    "(f_X_R,0),\n",
    "])\n",
    "Y_eq=Y_eq.subs([\n",
    "(f_Y_R,0),\n",
    "])\n",
    "N_eq=N_eq.subs([\n",
    "(f_N_R,0),\n",
    "])\n",
    "\n",
    "display(X_eq)\n",
    "display(Y_eq)\n",
    "display(N_eq)"
   ]
  },
  {
   "cell_type": "code",
   "execution_count": 12,
   "id": "4381c33f-57bf-43f6-9925-d0222fa47260",
   "metadata": {},
   "outputs": [],
   "source": [
    "parameters = dict(model_old.parameters)\n",
    "model = ModularVesselSimulator(X_eq=X_eq, Y_eq=Y_eq, N_eq=N_eq, ship_parameters=ship_data, parameters=parameters, control_keys=model_old.control_keys)"
   ]
  },
  {
   "cell_type": "code",
   "execution_count": 13,
   "id": "e5f030da-d947-4445-b5b1-6963090beeaa",
   "metadata": {},
   "outputs": [
    {
     "data": {
      "text/latex": [
       "$\\displaystyle X_{D} = X_{H}{\\left(u,v,r,\\delta \\right)}$"
      ],
      "text/plain": [
       "Eq(X_D, X_H(u, v, r, delta))"
      ]
     },
     "execution_count": 13,
     "metadata": {},
     "output_type": "execute_result"
    }
   ],
   "source": [
    "model.X_D_eq"
   ]
  },
  {
   "cell_type": "code",
   "execution_count": 14,
   "id": "f72f1635-3a2e-431c-a179-ba3888440aa2",
   "metadata": {},
   "outputs": [
    {
     "data": {
      "text/latex": [
       "$\\displaystyle \\left[\\begin{matrix}\\frac{2 \\left(- m r \\left(r x_{G} + v\\right) - X_{H}{\\left(u,v,r,\\delta \\right)}\\right)}{L^{3} X_{\\dot{u}} \\rho - 2 m}\\\\\\frac{2 \\left(\\left(2 I_{z} - L^{5} N_{\\dot{r}} \\rho\\right) \\left(m r u - Y_{H}{\\left(u,v,r,\\delta \\right)}\\right) + \\left(L^{4} Y_{\\dot{r}} \\rho - 2 m x_{G}\\right) \\left(m r u x_{G} - N_{H}{\\left(u,v,r,\\delta \\right)}\\right)\\right)}{2 I_{z} L^{3} Y_{\\dot{v}} \\rho - 4 I_{z} m - L^{8} N_{\\dot{r}} Y_{\\dot{v}} \\rho^{2} + L^{8} N_{\\dot{v}} Y_{\\dot{r}} \\rho^{2} + 2 L^{5} N_{\\dot{r}} m \\rho - 2 L^{4} N_{\\dot{v}} m \\rho x_{G} - 2 L^{4} Y_{\\dot{r}} m \\rho x_{G} + 4 m^{2} x_{G}^{2}}\\\\\\frac{2 \\left(- \\left(L^{3} Y_{\\dot{v}} \\rho - 2 m\\right) \\left(m r u x_{G} - N_{H}{\\left(u,v,r,\\delta \\right)}\\right) + \\left(L^{4} N_{\\dot{v}} \\rho - 2 m x_{G}\\right) \\left(m r u - Y_{H}{\\left(u,v,r,\\delta \\right)}\\right)\\right)}{2 I_{z} L^{3} Y_{\\dot{v}} \\rho - 4 I_{z} m - L^{8} N_{\\dot{r}} Y_{\\dot{v}} \\rho^{2} + L^{8} N_{\\dot{v}} Y_{\\dot{r}} \\rho^{2} + 2 L^{5} N_{\\dot{r}} m \\rho - 2 L^{4} N_{\\dot{v}} m \\rho x_{G} - 2 L^{4} Y_{\\dot{r}} m \\rho x_{G} + 4 m^{2} x_{G}^{2}}\\end{matrix}\\right]$"
      ],
      "text/plain": [
       "Matrix([\n",
       "[                                                                                                                                                                                                                                                                                          2*(-m*r*(r*x_G + v) - X_H(u, v, r, delta))/(L**3*X_{\\dot{u}}*rho - 2*m)],\n",
       "[2*((2*I_z - L**5*N_{\\dot{r}}*rho)*(m*r*u - Y_H(u, v, r, delta)) + (L**4*Y_{\\dot{r}}*rho - 2*m*x_G)*(m*r*u*x_G - N_H(u, v, r, delta)))/(2*I_z*L**3*Y_{\\dot{v}}*rho - 4*I_z*m - L**8*N_{\\dot{r}}*Y_{\\dot{v}}*rho**2 + L**8*N_{\\dot{v}}*Y_{\\dot{r}}*rho**2 + 2*L**5*N_{\\dot{r}}*m*rho - 2*L**4*N_{\\dot{v}}*m*rho*x_G - 2*L**4*Y_{\\dot{r}}*m*rho*x_G + 4*m**2*x_G**2)],\n",
       "[ 2*(-(L**3*Y_{\\dot{v}}*rho - 2*m)*(m*r*u*x_G - N_H(u, v, r, delta)) + (L**4*N_{\\dot{v}}*rho - 2*m*x_G)*(m*r*u - Y_H(u, v, r, delta)))/(2*I_z*L**3*Y_{\\dot{v}}*rho - 4*I_z*m - L**8*N_{\\dot{r}}*Y_{\\dot{v}}*rho**2 + L**8*N_{\\dot{v}}*Y_{\\dot{r}}*rho**2 + 2*L**5*N_{\\dot{r}}*m*rho - 2*L**4*N_{\\dot{v}}*m*rho*x_G - 2*L**4*Y_{\\dot{r}}*m*rho*x_G + 4*m**2*x_G**2)]])"
      ]
     },
     "execution_count": 14,
     "metadata": {},
     "output_type": "execute_result"
    }
   ],
   "source": [
    "model.acceleartion_eq_SI"
   ]
  },
  {
   "cell_type": "code",
   "execution_count": 15,
   "id": "45166464-54cc-46d4-8a73-74651c2a53da",
   "metadata": {},
   "outputs": [
    {
     "data": {
      "text/plain": [
       "<function _lambdifygenerated(I_z, L, N_H, Nrdot, Nvdot, X_H, Xudot, Y_H, Yrdot, Yvdot, m, r, rho, u, v, x_G)>"
      ]
     },
     "execution_count": 15,
     "metadata": {},
     "output_type": "execute_result"
    }
   ],
   "source": [
    "model.acceleration_lambda_SI"
   ]
  },
  {
   "cell_type": "code",
   "execution_count": 16,
   "id": "f1d82205-4480-4edb-ac75-8782443cafd1",
   "metadata": {},
   "outputs": [
    {
     "data": {
      "text/latex": [
       "$\\displaystyle X_{H} = X_{deltadelta} \\delta^{2} + X_{rr} r^{2} + X_{thrust} thrust + X_{uu} u^{2} + X_{u} u + X_{vr} r v$"
      ],
      "text/plain": [
       "Eq(X_H, X_{deltadelta}*delta**2 + X_{rr}*r**2 + X_{thrust}*thrust + X_{uu}*u**2 + X_{u}*u + X_{vr}*r*v)"
      ]
     },
     "metadata": {},
     "output_type": "display_data"
    },
    {
     "data": {
      "text/latex": [
       "$\\displaystyle Y_{H} = Y_{delta} \\delta + Y_{r} r + Y_{thrustdelta} \\delta thrust + Y_{thrust} thrust + Y_{ur} r u + Y_{u} u + Y_{vvdelta} \\delta v^{2} + Y_{v} v$"
      ],
      "text/plain": [
       "Eq(Y_H, Y_{delta}*delta + Y_{r}*r + Y_{thrustdelta}*delta*thrust + Y_{thrust}*thrust + Y_{ur}*r*u + Y_{u}*u + Y_{vvdelta}*delta*v**2 + Y_{v}*v)"
      ]
     },
     "metadata": {},
     "output_type": "display_data"
    },
    {
     "data": {
      "text/latex": [
       "$\\displaystyle N_{H} = N_{delta} \\delta + N_{r} r + N_{thrustdelta} \\delta thrust + N_{thrust} thrust + N_{ur} r u + N_{u} u + N_{vvdelta} \\delta v^{2} + N_{v} v$"
      ],
      "text/plain": [
       "Eq(N_H, N_{delta}*delta + N_{r}*r + N_{thrustdelta}*delta*thrust + N_{thrust}*thrust + N_{ur}*r*u + N_{u}*u + N_{vvdelta}*delta*v**2 + N_{v}*v)"
      ]
     },
     "metadata": {},
     "output_type": "display_data"
    }
   ],
   "source": [
    "eq_X_old = sp.Eq(X_H,model_old.X_qs_eq.rhs)\n",
    "eq_Y_old = sp.Eq(Y_H,model_old.Y_qs_eq.rhs)\n",
    "eq_N_old = sp.Eq(N_H,model_old.N_qs_eq.rhs)\n",
    "display(eq_X_old)\n",
    "display(eq_Y_old)\n",
    "display(eq_N_old)"
   ]
  },
  {
   "cell_type": "code",
   "execution_count": 17,
   "id": "1c474413-b4cc-4240-9a88-0e572a9cb738",
   "metadata": {},
   "outputs": [
    {
     "data": {
      "text/plain": [
       "(X_{deltadelta}*delta**2,\n",
       " X_{rr}*r**2,\n",
       " X_{thrust}*thrust,\n",
       " X_{uu}*u**2,\n",
       " X_{u}*u,\n",
       " X_{vr}*r*v)"
      ]
     },
     "execution_count": 17,
     "metadata": {},
     "output_type": "execute_result"
    }
   ],
   "source": [
    "eq_X_old.rhs.args"
   ]
  },
  {
   "cell_type": "code",
   "execution_count": 18,
   "id": "d079c75a-1166-42f8-8f0a-4baa9575f83b",
   "metadata": {},
   "outputs": [
    {
     "data": {
      "text/latex": [
       "$\\displaystyle X_{R} = X_{deltadelta} \\delta^{2}$"
      ],
      "text/plain": [
       "Eq(X_R, X_{deltadelta}*delta**2)"
      ]
     },
     "metadata": {},
     "output_type": "display_data"
    },
    {
     "data": {
      "text/latex": [
       "$\\displaystyle Y_{R} = Y_{delta} \\delta + Y_{thrustdelta} \\delta thrust + Y_{vvdelta} \\delta v^{2}$"
      ],
      "text/plain": [
       "Eq(Y_R, Y_{delta}*delta + Y_{thrustdelta}*delta*thrust + Y_{vvdelta}*delta*v**2)"
      ]
     },
     "metadata": {},
     "output_type": "display_data"
    },
    {
     "data": {
      "text/latex": [
       "$\\displaystyle N_{R} = N_{delta} \\delta + N_{thrustdelta} \\delta thrust + N_{vvdelta} \\delta v^{2}$"
      ],
      "text/plain": [
       "Eq(N_R, N_{delta}*delta + N_{thrustdelta}*delta*thrust + N_{vvdelta}*delta*v**2)"
      ]
     },
     "metadata": {},
     "output_type": "display_data"
    }
   ],
   "source": [
    "expressions = [part for part in eq_X_old.rhs.args if delta in part.free_symbols]\n",
    "eq_X_R = sp.Eq(X_R,reduce(add,expressions))\n",
    "\n",
    "expressions = [part for part in eq_Y_old.rhs.args if delta in part.free_symbols]\n",
    "eq_Y_R = sp.Eq(Y_R,reduce(add,expressions))\n",
    "\n",
    "expressions = [part for part in eq_N_old.rhs.args if delta in part.free_symbols]\n",
    "eq_N_R = sp.Eq(N_R,reduce(add,expressions))\n",
    "\n",
    "display(eq_X_R)\n",
    "display(eq_Y_R)\n",
    "display(eq_N_R)"
   ]
  },
  {
   "cell_type": "code",
   "execution_count": 19,
   "id": "97d9101b-6b0c-4bf8-993f-95dacfdc8164",
   "metadata": {},
   "outputs": [
    {
     "data": {
      "text/latex": [
       "$\\displaystyle X_{H} = X_{rr} r^{2} + X_{thrust} thrust + X_{uu} u^{2} + X_{u} u + X_{vr} r v$"
      ],
      "text/plain": [
       "Eq(X_H, X_{rr}*r**2 + X_{thrust}*thrust + X_{uu}*u**2 + X_{u}*u + X_{vr}*r*v)"
      ]
     },
     "metadata": {},
     "output_type": "display_data"
    },
    {
     "data": {
      "text/latex": [
       "$\\displaystyle Y_{H} = Y_{r} r + Y_{thrust} thrust + Y_{ur} r u + Y_{u} u + Y_{v} v$"
      ],
      "text/plain": [
       "Eq(Y_H, Y_{r}*r + Y_{thrust}*thrust + Y_{ur}*r*u + Y_{u}*u + Y_{v}*v)"
      ]
     },
     "metadata": {},
     "output_type": "display_data"
    },
    {
     "data": {
      "text/latex": [
       "$\\displaystyle N_{H} = N_{r} r + N_{thrust} thrust + N_{ur} r u + N_{u} u + N_{v} v$"
      ],
      "text/plain": [
       "Eq(N_H, N_{r}*r + N_{thrust}*thrust + N_{ur}*r*u + N_{u}*u + N_{v}*v)"
      ]
     },
     "metadata": {},
     "output_type": "display_data"
    }
   ],
   "source": [
    "eq_X_H = sp.Eq(X_H,eq_X_old.rhs.subs(eq_X_R.rhs,0))\n",
    "eq_Y_H = sp.Eq(Y_H,eq_Y_old.rhs.subs(eq_Y_R.rhs,0))\n",
    "eq_N_H = sp.Eq(N_H,eq_N_old.rhs.subs(eq_N_R.rhs,0))\n",
    "display(eq_X_H)\n",
    "display(eq_Y_H)\n",
    "display(eq_N_H)"
   ]
  },
  {
   "cell_type": "code",
   "execution_count": 20,
   "id": "38610ec0-4999-43c2-8ce3-ecb9122e0ceb",
   "metadata": {},
   "outputs": [],
   "source": [
    "equations_hull = [eq_X_H, eq_Y_H, eq_N_H]\n",
    "hull = PrimeEquationSubSystem(ship=model, equations=equations_hull)\n",
    "equations_rudders = [eq_X_R, eq_Y_R, eq_N_R]\n",
    "rudders = PrimeEquationSubSystem(ship=model, equations=equations_rudders)"
   ]
  },
  {
   "cell_type": "code",
   "execution_count": 21,
   "id": "07dc85d9-3a88-4c6f-aa6d-6c6881107e59",
   "metadata": {},
   "outputs": [
    {
     "data": {
      "text/latex": [
       "$\\displaystyle Y_{H} = Y_{r} r + Y_{thrust} thrust + Y_{ur} r u + Y_{u} u + Y_{v} v$"
      ],
      "text/plain": [
       "Eq(Y_H, Y_{r}*r + Y_{thrust}*thrust + Y_{ur}*r*u + Y_{u}*u + Y_{v}*v)"
      ]
     },
     "execution_count": 21,
     "metadata": {},
     "output_type": "execute_result"
    }
   ],
   "source": [
    "hull.equations['Y_H']"
   ]
  },
  {
   "cell_type": "code",
   "execution_count": 22,
   "id": "31ad0fb4-96e0-4359-bb21-525b775f4841",
   "metadata": {},
   "outputs": [
    {
     "data": {
      "text/latex": [
       "$\\displaystyle X_{R} = X_{deltadelta} \\delta^{2}$"
      ],
      "text/plain": [
       "Eq(X_R, X_{deltadelta}*delta**2)"
      ]
     },
     "execution_count": 22,
     "metadata": {},
     "output_type": "execute_result"
    }
   ],
   "source": [
    "rudders.equations['X_R']"
   ]
  },
  {
   "cell_type": "code",
   "execution_count": 23,
   "id": "d06b0c24-9c18-4f69-ab52-eada95e12716",
   "metadata": {},
   "outputs": [
    {
     "data": {
      "text/latex": [
       "$\\displaystyle m \\left(\\dot{u} - r^{2} x_{G} - r v\\right) = X_{\\dot{u}} \\dot{u} + X_{H}{\\left(u,v,r,\\delta \\right)} + X_{R}{\\left(u,v,r,\\delta \\right)}$"
      ],
      "text/plain": [
       "Eq(m*(\\dot{u} - r**2*x_G - r*v), X_{\\dot{u}}*\\dot{u} + X_H(u, v, r, delta) + X_R(u, v, r, delta))"
      ]
     },
     "metadata": {},
     "output_type": "display_data"
    },
    {
     "data": {
      "text/latex": [
       "$\\displaystyle m \\left(\\dot{r} x_{G} + \\dot{v} + r u\\right) = Y_{\\dot{r}} \\dot{r} + Y_{\\dot{v}} \\dot{v} + Y_{H}{\\left(u,v,r,\\delta \\right)} + Y_{R}{\\left(u,v,r,\\delta \\right)}$"
      ],
      "text/plain": [
       "Eq(m*(\\dot{r}*x_G + \\dot{v} + r*u), Y_{\\dot{r}}*\\dot{r} + Y_{\\dot{v}}*\\dot{v} + Y_H(u, v, r, delta) + Y_R(u, v, r, delta))"
      ]
     },
     "metadata": {},
     "output_type": "display_data"
    },
    {
     "data": {
      "text/latex": [
       "$\\displaystyle I_{z} \\dot{r} + m x_{G} \\left(\\dot{v} + r u\\right) = N_{\\dot{r}} \\dot{r} + N_{\\dot{v}} \\dot{v} + N_{H}{\\left(u,v,r,\\delta \\right)} + N_{R}{\\left(u,v,r,\\delta \\right)}$"
      ],
      "text/plain": [
       "Eq(I_z*\\dot{r} + m*x_G*(\\dot{v} + r*u), N_{\\dot{r}}*\\dot{r} + N_{\\dot{v}}*\\dot{v} + N_H(u, v, r, delta) + N_R(u, v, r, delta))"
      ]
     },
     "metadata": {},
     "output_type": "display_data"
    }
   ],
   "source": [
    "X_eq = X_eom.subs(X_force,eq_X_force.rhs)\n",
    "Y_eq = Y_eom.subs(Y_force,eq_Y_force.rhs)\n",
    "N_eq = N_eom.subs(N_force,eq_N_force.rhs)\n",
    "subs = [\n",
    "    (p.Xvdot, 0),\n",
    "    (p.Xrdot, 0),\n",
    "    (p.Yudot, 0),\n",
    "    # (p.Yrdot,0),  # this is probably not true\n",
    "    (p.Nudot, 0),\n",
    "    # (p.Nvdot,0),# this is probably not true\n",
    "]\n",
    "X_eq=X_eq.subs(subs)\n",
    "Y_eq=Y_eq.subs(subs)\n",
    "N_eq=N_eq.subs(subs)\n",
    "X_eq=X_eq.subs([\n",
    "(f_X_P,0),\n",
    "])\n",
    "\n",
    "display(X_eq)\n",
    "display(Y_eq)\n",
    "display(N_eq)"
   ]
  },
  {
   "cell_type": "code",
   "execution_count": 24,
   "id": "91758847-5a9b-4350-b813-bde7d362c664",
   "metadata": {},
   "outputs": [
    {
     "data": {
      "text/latex": [
       "$\\displaystyle m \\left(\\dot{u} - r^{2} x_{G} - r v\\right) = X_{\\dot{u}} \\dot{u} + X_{H}{\\left(u,v,r,\\delta \\right)} + X_{R}{\\left(u,v,r,\\delta \\right)}$"
      ],
      "text/plain": [
       "Eq(m*(\\dot{u} - r**2*x_G - r*v), X_{\\dot{u}}*\\dot{u} + X_H(u, v, r, delta) + X_R(u, v, r, delta))"
      ]
     },
     "execution_count": 24,
     "metadata": {},
     "output_type": "execute_result"
    }
   ],
   "source": [
    "X_eq"
   ]
  },
  {
   "cell_type": "code",
   "execution_count": 25,
   "id": "6ac0cebc-d49d-4789-a6d3-8a69fe1265ad",
   "metadata": {},
   "outputs": [],
   "source": [
    "parameters = dict(model_old.parameters)\n",
    "model = ModularVesselSimulator(X_eq=X_eq, Y_eq=Y_eq, N_eq=N_eq, ship_parameters=ship_data, parameters=parameters, control_keys=model_old.control_keys)\n",
    "model.subsystems['hull'] = hull\n",
    "model.subsystems['rudders'] = rudders"
   ]
  },
  {
   "cell_type": "code",
   "execution_count": 26,
   "id": "f5adc395-01a6-4441-8b4a-76fd91e480f3",
   "metadata": {},
   "outputs": [
    {
     "data": {
      "text/plain": [
       "{'ddx_0X_H': <function _lambdifygenerated()>,\n",
       " 'ddy_0X_H': <function _lambdifygenerated()>,\n",
       " 'ddpsiX_H': <function _lambdifygenerated()>,\n",
       " 'dduX_H': <function _lambdifygenerated(L, U, Xrr, Xthrust, Xu, Xuu, Xvr, r, rho, thrust, u, v)>,\n",
       " 'ddvX_H': <function _lambdifygenerated(L, U, Xrr, Xthrust, Xvr, r, rho, thrust, u, v)>,\n",
       " 'ddrX_H': <function _lambdifygenerated(L, U, Xrr, Xvr, r, rho, u, v)>,\n",
       " 'ddx_0Y_H': <function _lambdifygenerated()>,\n",
       " 'ddy_0Y_H': <function _lambdifygenerated()>,\n",
       " 'ddpsiY_H': <function _lambdifygenerated()>,\n",
       " 'dduY_H': <function _lambdifygenerated(L, U, Yr, Ythrust, Yu, Yur, r, rho, thrust, u, v)>,\n",
       " 'ddvY_H': <function _lambdifygenerated(L, U, Yr, Ythrust, Yur, Yv, r, rho, thrust, u, v)>,\n",
       " 'ddrY_H': <function _lambdifygenerated(L, U, Yr, Yur, rho, u, v)>,\n",
       " 'ddx_0N_H': <function _lambdifygenerated()>,\n",
       " 'ddy_0N_H': <function _lambdifygenerated()>,\n",
       " 'ddpsiN_H': <function _lambdifygenerated()>,\n",
       " 'dduN_H': <function _lambdifygenerated(L, Nr, Nthrust, Nu, Nur, U, r, rho, thrust, u, v)>,\n",
       " 'ddvN_H': <function _lambdifygenerated(L, Nr, Nthrust, Nur, Nv, U, r, rho, thrust, u, v)>,\n",
       " 'ddrN_H': <function _lambdifygenerated(L, Nr, Nur, U, rho, u, v)>}"
      ]
     },
     "execution_count": 26,
     "metadata": {},
     "output_type": "execute_result"
    }
   ],
   "source": [
    "hull.partial_derivative_lambdas"
   ]
  },
  {
   "cell_type": "markdown",
   "id": "173f8049-3f45-47d5-9a6a-4e07a83760c7",
   "metadata": {},
   "source": [
    "### Save"
   ]
  },
  {
   "cell_type": "code",
   "execution_count": 27,
   "id": "d4807517-de7a-4db6-b397-9bd88cba1d3d",
   "metadata": {},
   "outputs": [
    {
     "data": {
      "text/html": [
       "<pre style=\"white-space:pre;overflow-x:auto;line-height:normal;font-family:Menlo,'DejaVu Sans Mono',consolas,'Courier New',monospace\"><span style=\"color: #7fbfbf; text-decoration-color: #7fbfbf\">[06/05/23 16:38:52] </span><span style=\"color: #000080; text-decoration-color: #000080\">INFO    </span> Saving data to <span style=\"color: #008000; text-decoration-color: #008000\">'wPCC.models'</span> <span style=\"font-weight: bold\">(</span>PartitionedDataSet<span style=\"font-weight: bold\">)</span><span style=\"color: #808000; text-decoration-color: #808000\">...</span>               <a href=\"file:///home/maa/anaconda3/envs/phd/lib/python3.10/site-packages/kedro/io/data_catalog.py\" target=\"_blank\"><span style=\"color: #7f7f7f; text-decoration-color: #7f7f7f\">data_catalog.py</span></a><span style=\"color: #7f7f7f; text-decoration-color: #7f7f7f\">:</span><a href=\"file:///home/maa/anaconda3/envs/phd/lib/python3.10/site-packages/kedro/io/data_catalog.py#382\" target=\"_blank\"><span style=\"color: #7f7f7f; text-decoration-color: #7f7f7f\">382</span></a>\n",
       "</pre>\n"
      ],
      "text/plain": [
       "\u001b[2;36m[06/05/23 16:38:52]\u001b[0m\u001b[2;36m \u001b[0m\u001b[34mINFO    \u001b[0m Saving data to \u001b[32m'wPCC.models'\u001b[0m \u001b[1m(\u001b[0mPartitionedDataSet\u001b[1m)\u001b[0m\u001b[33m...\u001b[0m               \u001b]8;id=171705;file:///home/maa/anaconda3/envs/phd/lib/python3.10/site-packages/kedro/io/data_catalog.py\u001b\\\u001b[2mdata_catalog.py\u001b[0m\u001b]8;;\u001b\\\u001b[2m:\u001b[0m\u001b]8;id=804133;file:///home/maa/anaconda3/envs/phd/lib/python3.10/site-packages/kedro/io/data_catalog.py#382\u001b\\\u001b[2m382\u001b[0m\u001b]8;;\u001b\\\n"
      ]
     },
     "metadata": {},
     "output_type": "display_data"
    }
   ],
   "source": [
    "model_loader[\"modular\"] = model\n",
    "catalog.save(f\"{ship}.models\", model_loader)"
   ]
  },
  {
   "cell_type": "code",
   "execution_count": 28,
   "id": "168ae645-f5c8-4e72-9089-df084ea1d1b5",
   "metadata": {},
   "outputs": [
    {
     "data": {
      "text/plain": [
       "{'X_H': -10.360077713371078,\n",
       " 'Y_H': -0.3387710588406988,\n",
       " 'N_H': -0.21952311523639156}"
      ]
     },
     "execution_count": 28,
     "metadata": {},
     "output_type": "execute_result"
    }
   ],
   "source": [
    "states_dict = {\n",
    "'u':1,\n",
    "'v':0,\n",
    "'r':0,\n",
    "}\n",
    "control={\n",
    "'delta':0,\n",
    "'thrust':0,\n",
    "}\n",
    "calculation={}\n",
    "hull.calculate_forces(states_dict=states_dict, control=control, calculation=calculation)"
   ]
  },
  {
   "cell_type": "code",
   "execution_count": 29,
   "id": "b82bdb33-3cbe-4c67-9e22-ffd1a2f4c58c",
   "metadata": {},
   "outputs": [
    {
     "data": {
      "text/latex": [
       "$\\displaystyle X_{D} = X_{H}{\\left(u,v,r,\\delta \\right)} + X_{R}{\\left(u,v,r,\\delta \\right)}$"
      ],
      "text/plain": [
       "Eq(X_D, X_H(u, v, r, delta) + X_R(u, v, r, delta))"
      ]
     },
     "execution_count": 29,
     "metadata": {},
     "output_type": "execute_result"
    }
   ],
   "source": [
    "model.X_D_eq"
   ]
  },
  {
   "cell_type": "code",
   "execution_count": 30,
   "id": "8bd9cf89-1ec0-4550-abfe-648abd3e75eb",
   "metadata": {},
   "outputs": [
    {
     "data": {
      "text/plain": [
       "<function _lambdifygenerated(X_H, X_R)>"
      ]
     },
     "execution_count": 30,
     "metadata": {},
     "output_type": "execute_result"
    }
   ],
   "source": [
    "model.lambda_X_D"
   ]
  },
  {
   "cell_type": "code",
   "execution_count": 31,
   "id": "2cdb3106-a31f-4ac4-b510-36cec245f631",
   "metadata": {},
   "outputs": [
    {
     "data": {
      "text/plain": [
       "{'X_H': -10.360077713371078,\n",
       " 'Y_H': -0.3387710588406988,\n",
       " 'N_H': -0.21952311523639156,\n",
       " 'X_R': -0.0,\n",
       " 'Y_R': 0.0,\n",
       " 'N_R': -0.0,\n",
       " 'X_D': -10.360077713371078,\n",
       " 'Y_D': -0.3387710588406988,\n",
       " 'N_D': -0.21952311523639156}"
      ]
     },
     "execution_count": 31,
     "metadata": {},
     "output_type": "execute_result"
    }
   ],
   "source": [
    "model.subsystems['hull'] = hull\n",
    "calculation = model.calculate_forces(states_dict=states_dict, control=control)\n",
    "calculation"
   ]
  },
  {
   "cell_type": "code",
   "execution_count": 32,
   "id": "e83fe515-d648-4bbc-be14-64be53368959",
   "metadata": {},
   "outputs": [
    {
     "data": {
      "text/plain": [
       "array([[-0.02410703],\n",
       "       [-0.00038977],\n",
       "       [-0.00017462]])"
      ]
     },
     "execution_count": 32,
     "metadata": {},
     "output_type": "execute_result"
    }
   ],
   "source": [
    "acceleration = model.calculate_acceleration(states_dict=states_dict, control=control)\n",
    "acceleration"
   ]
  },
  {
   "cell_type": "code",
   "execution_count": 33,
   "id": "09c51dd0-8b47-4707-8ab2-97a922759947",
   "metadata": {},
   "outputs": [
    {
     "data": {
      "text/plain": [
       "-0.024107028529250465"
      ]
     },
     "execution_count": 33,
     "metadata": {},
     "output_type": "execute_result"
    }
   ],
   "source": [
    "acceleration[0][0]"
   ]
  },
  {
   "cell_type": "code",
   "execution_count": 34,
   "id": "0203b304-168c-4a53-a56d-3aab8f6ef453",
   "metadata": {},
   "outputs": [
    {
     "data": {
      "text/plain": [
       "-0.00038977475743484224"
      ]
     },
     "execution_count": 34,
     "metadata": {},
     "output_type": "execute_result"
    }
   ],
   "source": [
    "acceleration[1][0]"
   ]
  },
  {
   "cell_type": "markdown",
   "id": "a260e9a2-c9a0-45c9-b35c-73997b14e9ac",
   "metadata": {},
   "source": [
    "## Simulate"
   ]
  },
  {
   "cell_type": "code",
   "execution_count": 35,
   "id": "27216ecf-4052-48c3-b813-43b9ef554ef7",
   "metadata": {},
   "outputs": [],
   "source": [
    "data = time_series_smooth['wpcc.updated.22773.ek_smooth']()\n",
    "#data = time_series_smooth['wpcc.updated.22774.ek_smooth']()\n",
    "data['V'] = data['U'] = np.sqrt(data['u']**2 + data['v']**2)\n",
    "data['rev'] = data[['Prop/SB/Rpm', 'Prop/PS/Rpm']].mean(axis=1)\n",
    "g_=9.81\n",
    "data['g'] = g_"
   ]
  },
  {
   "cell_type": "code",
   "execution_count": 36,
   "id": "3fa4f875-2c8f-4afb-9056-486a7bc468f8",
   "metadata": {},
   "outputs": [],
   "source": [
    "result_old = model_old.simulate(data)"
   ]
  },
  {
   "cell_type": "code",
   "execution_count": 37,
   "id": "a0afae0e-1a77-4673-a02b-309e8e7a1ef4",
   "metadata": {},
   "outputs": [],
   "source": [
    "result = model.simulate(data)"
   ]
  },
  {
   "cell_type": "code",
   "execution_count": 38,
   "id": "79f662dc-51d9-4379-aae0-1c0b4157a154",
   "metadata": {},
   "outputs": [
    {
     "data": {
      "text/html": [
       "<div>\n",
       "<style scoped>\n",
       "    .dataframe tbody tr th:only-of-type {\n",
       "        vertical-align: middle;\n",
       "    }\n",
       "\n",
       "    .dataframe tbody tr th {\n",
       "        vertical-align: top;\n",
       "    }\n",
       "\n",
       "    .dataframe thead th {\n",
       "        text-align: right;\n",
       "    }\n",
       "</style>\n",
       "<table border=\"1\" class=\"dataframe\">\n",
       "  <thead>\n",
       "    <tr style=\"text-align: right;\">\n",
       "      <th></th>\n",
       "      <th>u</th>\n",
       "      <th>v</th>\n",
       "      <th>r</th>\n",
       "      <th>x0</th>\n",
       "      <th>y0</th>\n",
       "      <th>psi</th>\n",
       "      <th>u1d</th>\n",
       "      <th>v1d</th>\n",
       "      <th>r1d</th>\n",
       "      <th>X_H</th>\n",
       "      <th>Y_H</th>\n",
       "      <th>N_H</th>\n",
       "      <th>X_R</th>\n",
       "      <th>Y_R</th>\n",
       "      <th>N_R</th>\n",
       "      <th>X_D</th>\n",
       "      <th>Y_D</th>\n",
       "      <th>N_D</th>\n",
       "      <th>beta</th>\n",
       "      <th>U</th>\n",
       "    </tr>\n",
       "  </thead>\n",
       "  <tbody>\n",
       "    <tr>\n",
       "      <th>0.00</th>\n",
       "      <td>0.939222</td>\n",
       "      <td>0.023695</td>\n",
       "      <td>-0.008880</td>\n",
       "      <td>-0.002863</td>\n",
       "      <td>-0.037007</td>\n",
       "      <td>0.007873</td>\n",
       "      <td>0.001498</td>\n",
       "      <td>-0.002389</td>\n",
       "      <td>0.003981</td>\n",
       "      <td>0.736567</td>\n",
       "      <td>-5.270261</td>\n",
       "      <td>4.546532</td>\n",
       "      <td>-1.497989e-09</td>\n",
       "      <td>-0.000315</td>\n",
       "      <td>0.000763</td>\n",
       "      <td>0.736567</td>\n",
       "      <td>-5.270576</td>\n",
       "      <td>4.547296</td>\n",
       "      <td>-0.025223</td>\n",
       "      <td>0.939521</td>\n",
       "    </tr>\n",
       "    <tr>\n",
       "      <th>0.01</th>\n",
       "      <td>0.939238</td>\n",
       "      <td>0.023671</td>\n",
       "      <td>-0.008840</td>\n",
       "      <td>0.006527</td>\n",
       "      <td>-0.036697</td>\n",
       "      <td>0.007784</td>\n",
       "      <td>0.001568</td>\n",
       "      <td>-0.002404</td>\n",
       "      <td>0.003964</td>\n",
       "      <td>0.766260</td>\n",
       "      <td>-5.267797</td>\n",
       "      <td>4.525079</td>\n",
       "      <td>-5.992147e-09</td>\n",
       "      <td>-0.000630</td>\n",
       "      <td>0.001527</td>\n",
       "      <td>0.766260</td>\n",
       "      <td>-5.268427</td>\n",
       "      <td>4.526606</td>\n",
       "      <td>-0.025197</td>\n",
       "      <td>0.939536</td>\n",
       "    </tr>\n",
       "    <tr>\n",
       "      <th>0.02</th>\n",
       "      <td>0.939256</td>\n",
       "      <td>0.023647</td>\n",
       "      <td>-0.008800</td>\n",
       "      <td>0.015918</td>\n",
       "      <td>-0.036388</td>\n",
       "      <td>0.007696</td>\n",
       "      <td>0.001583</td>\n",
       "      <td>-0.002419</td>\n",
       "      <td>0.003946</td>\n",
       "      <td>0.772059</td>\n",
       "      <td>-5.265296</td>\n",
       "      <td>4.503733</td>\n",
       "      <td>-5.992370e-09</td>\n",
       "      <td>-0.000630</td>\n",
       "      <td>0.001527</td>\n",
       "      <td>0.772059</td>\n",
       "      <td>-5.265927</td>\n",
       "      <td>4.505259</td>\n",
       "      <td>-0.025171</td>\n",
       "      <td>0.939554</td>\n",
       "    </tr>\n",
       "    <tr>\n",
       "      <th>0.03</th>\n",
       "      <td>0.939271</td>\n",
       "      <td>0.023623</td>\n",
       "      <td>-0.008761</td>\n",
       "      <td>0.025308</td>\n",
       "      <td>-0.036080</td>\n",
       "      <td>0.007608</td>\n",
       "      <td>0.001511</td>\n",
       "      <td>-0.002434</td>\n",
       "      <td>0.003928</td>\n",
       "      <td>0.740747</td>\n",
       "      <td>-5.262729</td>\n",
       "      <td>4.482467</td>\n",
       "      <td>-5.992557e-09</td>\n",
       "      <td>-0.000630</td>\n",
       "      <td>0.001527</td>\n",
       "      <td>0.740747</td>\n",
       "      <td>-5.263359</td>\n",
       "      <td>4.483994</td>\n",
       "      <td>-0.025145</td>\n",
       "      <td>0.939568</td>\n",
       "    </tr>\n",
       "    <tr>\n",
       "      <th>0.04</th>\n",
       "      <td>0.939284</td>\n",
       "      <td>0.023598</td>\n",
       "      <td>-0.008722</td>\n",
       "      <td>0.034699</td>\n",
       "      <td>-0.035772</td>\n",
       "      <td>0.007521</td>\n",
       "      <td>0.001349</td>\n",
       "      <td>-0.002448</td>\n",
       "      <td>0.003910</td>\n",
       "      <td>0.670321</td>\n",
       "      <td>-5.260099</td>\n",
       "      <td>4.461287</td>\n",
       "      <td>-5.992714e-09</td>\n",
       "      <td>-0.000630</td>\n",
       "      <td>0.001527</td>\n",
       "      <td>0.670321</td>\n",
       "      <td>-5.260730</td>\n",
       "      <td>4.462813</td>\n",
       "      <td>-0.025119</td>\n",
       "      <td>0.939581</td>\n",
       "    </tr>\n",
       "  </tbody>\n",
       "</table>\n",
       "</div>"
      ],
      "text/plain": [
       "             u         v         r        x0        y0       psi       u1d       v1d       r1d       X_H       Y_H       N_H           X_R       Y_R       N_R       X_D       Y_D       N_D      beta         U\n",
       "0.00  0.939222  0.023695 -0.008880 -0.002863 -0.037007  0.007873  0.001498 -0.002389  0.003981  0.736567 -5.270261  4.546532 -1.497989e-09 -0.000315  0.000763  0.736567 -5.270576  4.547296 -0.025223  0.939521\n",
       "0.01  0.939238  0.023671 -0.008840  0.006527 -0.036697  0.007784  0.001568 -0.002404  0.003964  0.766260 -5.267797  4.525079 -5.992147e-09 -0.000630  0.001527  0.766260 -5.268427  4.526606 -0.025197  0.939536\n",
       "0.02  0.939256  0.023647 -0.008800  0.015918 -0.036388  0.007696  0.001583 -0.002419  0.003946  0.772059 -5.265296  4.503733 -5.992370e-09 -0.000630  0.001527  0.772059 -5.265927  4.505259 -0.025171  0.939554\n",
       "0.03  0.939271  0.023623 -0.008761  0.025308 -0.036080  0.007608  0.001511 -0.002434  0.003928  0.740747 -5.262729  4.482467 -5.992557e-09 -0.000630  0.001527  0.740747 -5.263359  4.483994 -0.025145  0.939568\n",
       "0.04  0.939284  0.023598 -0.008722  0.034699 -0.035772  0.007521  0.001349 -0.002448  0.003910  0.670321 -5.260099  4.461287 -5.992714e-09 -0.000630  0.001527  0.670321 -5.260730  4.462813 -0.025119  0.939581"
      ]
     },
     "execution_count": 38,
     "metadata": {},
     "output_type": "execute_result"
    }
   ],
   "source": [
    "result.head()"
   ]
  },
  {
   "cell_type": "code",
   "execution_count": 39,
   "id": "8a70a71f-1928-4b4b-b65a-2bc04f7003cc",
   "metadata": {},
   "outputs": [
    {
     "data": {
      "image/png": "[encoded data removed]",
      "text/plain": [
       "<Figure size 640x480 with 1 Axes>"
      ]
     },
     "metadata": {},
     "output_type": "display_data"
    },
    {
     "data": {
      "image/png": "[encoded data removed]",
      "text/plain": [
       "<Figure size 640x480 with 4 Axes>"
      ]
     },
     "metadata": {},
     "output_type": "display_data"
    }
   ],
   "source": [
    "result_with_measured_thrust = model.simulate(data)\n",
    "\n",
    "dataframes = {\n",
    "              'Old model':result_old.result,\n",
    "              'Modular model':result,\n",
    "             }\n",
    "track_plots(dataframes=dataframes, lpp=ship_data['L'], beam=ship_data['B'], N=10)\n",
    "plot(dataframes, keys=['u','v','r','psi']);"
   ]
  },
  {
   "cell_type": "code",
   "execution_count": null,
   "id": "73d0c713-a6b9-447e-abc4-a4edbfe0a398",
   "metadata": {},
   "outputs": [],
   "source": []
  },
  {
   "cell_type": "code",
   "execution_count": null,
   "id": "91a0a4c2-c7b9-456c-a19e-7ab276e24cc8",
   "metadata": {},
   "outputs": [],
   "source": []
  }
 ],
 "metadata": {
  "kernelspec": {
   "display_name": "Kedro (phd)",
   "language": "python",
   "name": "kedro_phd"
  },
  "language_info": {
   "codemirror_mode": {
    "name": "ipython",
    "version": 3
   },
   "file_extension": ".py",
   "mimetype": "text/x-python",
   "name": "python",
   "nbconvert_exporter": "python",
   "pygments_lexer": "ipython3",
   "version": "3.10.10"
  }
 },
 "nbformat": 4,
 "nbformat_minor": 5
}
