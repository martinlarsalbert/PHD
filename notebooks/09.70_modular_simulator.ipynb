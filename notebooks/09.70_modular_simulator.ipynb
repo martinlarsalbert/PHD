{
 "cells": [
  {
   "cell_type": "markdown",
   "id": "5440b9f3-6bb9-415e-add3-1548d954696b",
   "metadata": {},
   "source": [
    "# Implementation of a new modular simulator"
   ]
  },
  {
   "cell_type": "code",
   "execution_count": 1,
   "id": "3729ef49-8a1c-4bf8-bb7b-978c045e8afb",
   "metadata": {},
   "outputs": [],
   "source": [
    "import warnings\n",
    "warnings.filterwarnings('ignore')\n",
    "%matplotlib inline\n",
    "%load_ext autoreload\n",
    "%autoreload 2\n",
    "#%config Completer.use_jedi = False"
   ]
  },
  {
   "cell_type": "code",
   "execution_count": 2,
   "id": "e76fd068-0481-459e-831c-a8ac922f564f",
   "metadata": {},
   "outputs": [],
   "source": [
    "import pandas as pd\n",
    "pd.set_option('display.max_rows', 5000)\n",
    "pd.set_option('display.max_columns', 5000)\n",
    "pd.set_option('display.width', 10000)\n",
    "import numpy as np\n",
    "import yaml\n",
    "\n",
    "from vessel_manoeuvring_models.visualization.plot import track_plot, plot\n",
    "from phd.visualization.plot_ship import track_plots\n",
    "from vessel_manoeuvring_models.extended_kalman_vmm import ExtendedKalman, SystemMatrixes\n",
    "from vmm_abkowitz_diminished import vmm as vmm\n",
    "from wPCC_pipeline.pipelines.brix.nodes import initial_parameters, extract_added_masses\n",
    "from wPCC_pipeline.pipelines.preprocess.nodes import load, add_thrust\n",
    "from wPCC_pipeline.pipelines.filter_data_extended_kalman.nodes import guess_covariance_matrixes, initial_state, extended_kalman_filter, extended_kalman_smoother\n",
    "from wPCC_pipeline.pipelines.motion_regression.nodes import predict_force, fit_motions, create_model_from_motion_regression\n",
    "from wPCC_pipeline.pipelines.prediction.nodes import simulate_euler\n",
    "from phd.pipelines.load_7m.nodes import fix_interpolated_angle\n",
    "from sklearn.metrics import mean_squared_error\n",
    "from vessel_manoeuvring_models.models.vmm import VMM, Simulator, ModelSimulator, get_coefficients\n",
    "import sympy as sp\n",
    "from functools import reduce\n",
    "from operator import add\n",
    "from vessel_manoeuvring_models.symbols import *\n",
    "import vessel_manoeuvring_models.symbols as symbols\n",
    "from IPython.display import display\n",
    "from vessel_manoeuvring_models.prime_system import df_prime\n",
    "from vessel_manoeuvring_models.substitute_dynamic_symbols import run, lambdify\n",
    "from vessel_manoeuvring_models.models.vmm import VMM, Simulator, ModelSimulator\n",
    "from vessel_manoeuvring_models.models.modular_simulator import ModularVesselSimulator\n",
    "from vessel_manoeuvring_models.models.subsystem import PrimeEquationSystem\n",
    "from vessel_manoeuvring_models.parameters import df_parameters\n",
    "from phd.helpers import mean\n",
    "from vessel_manoeuvring_models.angles import mean_angle\n",
    "from vessel_manoeuvring_models.angles import smallest_signed_angle\n",
    "from vessel_manoeuvring_models.models.diff_eq_to_matrix import DiffEqToMatrix\n",
    "from vessel_manoeuvring_models.nonlinear_vmm_equations import X_eom, Y_eom, N_eom, fx_eq, fy_eq, mz_eq\n",
    "import inspect\n",
    "p = df_parameters[\"symbol\"]\n",
    "\n",
    "import logging\n",
    "log = logging.getLogger(__name__)\n",
    "\n",
    "import matplotlib.pyplot as plt\n",
    "plt.style.use('bmh')"
   ]
  },
  {
   "cell_type": "code",
   "execution_count": 3,
   "id": "1a9e8f7d-4af0-491e-8f38-fcf73a652adc",
   "metadata": {},
   "outputs": [
    {
     "data": {
      "text/html": [
       "<pre style=\"white-space:pre;overflow-x:auto;line-height:normal;font-family:Menlo,'DejaVu Sans Mono',consolas,'Courier New',monospace\"><span style=\"color: #7fbfbf; text-decoration-color: #7fbfbf\">[06/02/23 08:45:32] </span><span style=\"color: #000080; text-decoration-color: #000080\">INFO    </span> Resolved project path as: <span style=\"color: #800080; text-decoration-color: #800080\">/home/maa/dev/</span><span style=\"color: #ff00ff; text-decoration-color: #ff00ff\">PHD.</span>                           <a href=\"file:///home/maa/anaconda3/envs/phd/lib/python3.10/site-packages/kedro/ipython/__init__.py\" target=\"_blank\"><span style=\"color: #7f7f7f; text-decoration-color: #7f7f7f\">__init__.py</span></a><span style=\"color: #7f7f7f; text-decoration-color: #7f7f7f\">:</span><a href=\"file:///home/maa/anaconda3/envs/phd/lib/python3.10/site-packages/kedro/ipython/__init__.py#134\" target=\"_blank\"><span style=\"color: #7f7f7f; text-decoration-color: #7f7f7f\">134</span></a>\n",
       "<span style=\"color: #7fbfbf; text-decoration-color: #7fbfbf\">                    </span>         To set a different path, run <span style=\"color: #008000; text-decoration-color: #008000\">'%reload_kedro &lt;project_root&gt;'</span>            <span style=\"color: #7f7f7f; text-decoration-color: #7f7f7f\">               </span>\n",
       "</pre>\n"
      ],
      "text/plain": [
       "\u001b[2;36m[06/02/23 08:45:32]\u001b[0m\u001b[2;36m \u001b[0m\u001b[34mINFO    \u001b[0m Resolved project path as: \u001b[35m/home/maa/dev/\u001b[0m\u001b[95mPHD.\u001b[0m                           \u001b]8;id=901423;file:///home/maa/anaconda3/envs/phd/lib/python3.10/site-packages/kedro/ipython/__init__.py\u001b\\\u001b[2m__init__.py\u001b[0m\u001b]8;;\u001b\\\u001b[2m:\u001b[0m\u001b]8;id=124581;file:///home/maa/anaconda3/envs/phd/lib/python3.10/site-packages/kedro/ipython/__init__.py#134\u001b\\\u001b[2m134\u001b[0m\u001b]8;;\u001b\\\n",
       "\u001b[2;36m                    \u001b[0m         To set a different path, run \u001b[32m'%reload_kedro \u001b[0m\u001b[32m<\u001b[0m\u001b[32mproject_root\u001b[0m\u001b[32m>\u001b[0m\u001b[32m'\u001b[0m            \u001b[2m               \u001b[0m\n"
      ]
     },
     "metadata": {},
     "output_type": "display_data"
    },
    {
     "data": {
      "text/html": [
       "<pre style=\"white-space:pre;overflow-x:auto;line-height:normal;font-family:Menlo,'DejaVu Sans Mono',consolas,'Courier New',monospace\"><span style=\"color: #7fbfbf; text-decoration-color: #7fbfbf\">[06/02/23 08:45:33] </span><span style=\"color: #000080; text-decoration-color: #000080\">INFO    </span> Kedro project phd                                                      <a href=\"file:///home/maa/anaconda3/envs/phd/lib/python3.10/site-packages/kedro/ipython/__init__.py\" target=\"_blank\"><span style=\"color: #7f7f7f; text-decoration-color: #7f7f7f\">__init__.py</span></a><span style=\"color: #7f7f7f; text-decoration-color: #7f7f7f\">:</span><a href=\"file:///home/maa/anaconda3/envs/phd/lib/python3.10/site-packages/kedro/ipython/__init__.py#103\" target=\"_blank\"><span style=\"color: #7f7f7f; text-decoration-color: #7f7f7f\">103</span></a>\n",
       "</pre>\n"
      ],
      "text/plain": [
       "\u001b[2;36m[06/02/23 08:45:33]\u001b[0m\u001b[2;36m \u001b[0m\u001b[34mINFO    \u001b[0m Kedro project phd                                                      \u001b]8;id=83359;file:///home/maa/anaconda3/envs/phd/lib/python3.10/site-packages/kedro/ipython/__init__.py\u001b\\\u001b[2m__init__.py\u001b[0m\u001b]8;;\u001b\\\u001b[2m:\u001b[0m\u001b]8;id=405659;file:///home/maa/anaconda3/envs/phd/lib/python3.10/site-packages/kedro/ipython/__init__.py#103\u001b\\\u001b[2m103\u001b[0m\u001b]8;;\u001b\\\n"
      ]
     },
     "metadata": {},
     "output_type": "display_data"
    },
    {
     "data": {
      "text/html": [
       "<pre style=\"white-space:pre;overflow-x:auto;line-height:normal;font-family:Menlo,'DejaVu Sans Mono',consolas,'Courier New',monospace\"><span style=\"color: #7fbfbf; text-decoration-color: #7fbfbf\">                    </span><span style=\"color: #000080; text-decoration-color: #000080\">INFO    </span> Defined global variable <span style=\"color: #008000; text-decoration-color: #008000\">'context'</span>, <span style=\"color: #008000; text-decoration-color: #008000\">'session'</span>, <span style=\"color: #008000; text-decoration-color: #008000\">'catalog'</span> and            <a href=\"file:///home/maa/anaconda3/envs/phd/lib/python3.10/site-packages/kedro/ipython/__init__.py\" target=\"_blank\"><span style=\"color: #7f7f7f; text-decoration-color: #7f7f7f\">__init__.py</span></a><span style=\"color: #7f7f7f; text-decoration-color: #7f7f7f\">:</span><a href=\"file:///home/maa/anaconda3/envs/phd/lib/python3.10/site-packages/kedro/ipython/__init__.py#104\" target=\"_blank\"><span style=\"color: #7f7f7f; text-decoration-color: #7f7f7f\">104</span></a>\n",
       "<span style=\"color: #7fbfbf; text-decoration-color: #7fbfbf\">                    </span>         <span style=\"color: #008000; text-decoration-color: #008000\">'pipelines'</span>                                                            <span style=\"color: #7f7f7f; text-decoration-color: #7f7f7f\">               </span>\n",
       "</pre>\n"
      ],
      "text/plain": [
       "\u001b[2;36m                   \u001b[0m\u001b[2;36m \u001b[0m\u001b[34mINFO    \u001b[0m Defined global variable \u001b[32m'context'\u001b[0m, \u001b[32m'session'\u001b[0m, \u001b[32m'catalog'\u001b[0m and            \u001b]8;id=674396;file:///home/maa/anaconda3/envs/phd/lib/python3.10/site-packages/kedro/ipython/__init__.py\u001b\\\u001b[2m__init__.py\u001b[0m\u001b]8;;\u001b\\\u001b[2m:\u001b[0m\u001b]8;id=80866;file:///home/maa/anaconda3/envs/phd/lib/python3.10/site-packages/kedro/ipython/__init__.py#104\u001b\\\u001b[2m104\u001b[0m\u001b]8;;\u001b\\\n",
       "\u001b[2;36m                    \u001b[0m         \u001b[32m'pipelines'\u001b[0m                                                            \u001b[2m               \u001b[0m\n"
      ]
     },
     "metadata": {},
     "output_type": "display_data"
    },
    {
     "data": {
      "text/html": [
       "<pre style=\"white-space:pre;overflow-x:auto;line-height:normal;font-family:Menlo,'DejaVu Sans Mono',consolas,'Courier New',monospace\"><span style=\"color: #7fbfbf; text-decoration-color: #7fbfbf\">                    </span><span style=\"color: #000080; text-decoration-color: #000080\">INFO    </span> Registered line magic <span style=\"color: #008000; text-decoration-color: #008000\">'run_viz'</span>                                        <a href=\"file:///home/maa/anaconda3/envs/phd/lib/python3.10/site-packages/kedro/ipython/__init__.py\" target=\"_blank\"><span style=\"color: #7f7f7f; text-decoration-color: #7f7f7f\">__init__.py</span></a><span style=\"color: #7f7f7f; text-decoration-color: #7f7f7f\">:</span><a href=\"file:///home/maa/anaconda3/envs/phd/lib/python3.10/site-packages/kedro/ipython/__init__.py#110\" target=\"_blank\"><span style=\"color: #7f7f7f; text-decoration-color: #7f7f7f\">110</span></a>\n",
       "</pre>\n"
      ],
      "text/plain": [
       "\u001b[2;36m                   \u001b[0m\u001b[2;36m \u001b[0m\u001b[34mINFO    \u001b[0m Registered line magic \u001b[32m'run_viz'\u001b[0m                                        \u001b]8;id=931882;file:///home/maa/anaconda3/envs/phd/lib/python3.10/site-packages/kedro/ipython/__init__.py\u001b\\\u001b[2m__init__.py\u001b[0m\u001b]8;;\u001b\\\u001b[2m:\u001b[0m\u001b]8;id=751539;file:///home/maa/anaconda3/envs/phd/lib/python3.10/site-packages/kedro/ipython/__init__.py#110\u001b\\\u001b[2m110\u001b[0m\u001b]8;;\u001b\\\n"
      ]
     },
     "metadata": {},
     "output_type": "display_data"
    },
    {
     "data": {
      "text/html": [
       "<pre style=\"white-space:pre;overflow-x:auto;line-height:normal;font-family:Menlo,'DejaVu Sans Mono',consolas,'Courier New',monospace\"><span style=\"color: #7fbfbf; text-decoration-color: #7fbfbf\">                    </span><span style=\"color: #000080; text-decoration-color: #000080\">INFO    </span> Loading data from <span style=\"color: #008000; text-decoration-color: #008000\">'wPCC.time_series'</span> <span style=\"font-weight: bold\">(</span>PartitionedDataSet<span style=\"font-weight: bold\">)</span><span style=\"color: #808000; text-decoration-color: #808000\">...</span>       <a href=\"file:///home/maa/anaconda3/envs/phd/lib/python3.10/site-packages/kedro/io/data_catalog.py\" target=\"_blank\"><span style=\"color: #7f7f7f; text-decoration-color: #7f7f7f\">data_catalog.py</span></a><span style=\"color: #7f7f7f; text-decoration-color: #7f7f7f\">:</span><a href=\"file:///home/maa/anaconda3/envs/phd/lib/python3.10/site-packages/kedro/io/data_catalog.py#343\" target=\"_blank\"><span style=\"color: #7f7f7f; text-decoration-color: #7f7f7f\">343</span></a>\n",
       "</pre>\n"
      ],
      "text/plain": [
       "\u001b[2;36m                   \u001b[0m\u001b[2;36m \u001b[0m\u001b[34mINFO    \u001b[0m Loading data from \u001b[32m'wPCC.time_series'\u001b[0m \u001b[1m(\u001b[0mPartitionedDataSet\u001b[1m)\u001b[0m\u001b[33m...\u001b[0m       \u001b]8;id=385245;file:///home/maa/anaconda3/envs/phd/lib/python3.10/site-packages/kedro/io/data_catalog.py\u001b\\\u001b[2mdata_catalog.py\u001b[0m\u001b]8;;\u001b\\\u001b[2m:\u001b[0m\u001b]8;id=696175;file:///home/maa/anaconda3/envs/phd/lib/python3.10/site-packages/kedro/io/data_catalog.py#343\u001b\\\u001b[2m343\u001b[0m\u001b]8;;\u001b\\\n"
      ]
     },
     "metadata": {},
     "output_type": "display_data"
    },
    {
     "data": {
      "text/html": [
       "<pre style=\"white-space:pre;overflow-x:auto;line-height:normal;font-family:Menlo,'DejaVu Sans Mono',consolas,'Courier New',monospace\"><span style=\"color: #7fbfbf; text-decoration-color: #7fbfbf\">                    </span><span style=\"color: #000080; text-decoration-color: #000080\">INFO    </span> Loading data from <span style=\"color: #008000; text-decoration-color: #008000\">'wPCC.time_series_preprocessed.ek_smooth'</span>        <a href=\"file:///home/maa/anaconda3/envs/phd/lib/python3.10/site-packages/kedro/io/data_catalog.py\" target=\"_blank\"><span style=\"color: #7f7f7f; text-decoration-color: #7f7f7f\">data_catalog.py</span></a><span style=\"color: #7f7f7f; text-decoration-color: #7f7f7f\">:</span><a href=\"file:///home/maa/anaconda3/envs/phd/lib/python3.10/site-packages/kedro/io/data_catalog.py#343\" target=\"_blank\"><span style=\"color: #7f7f7f; text-decoration-color: #7f7f7f\">343</span></a>\n",
       "<span style=\"color: #7fbfbf; text-decoration-color: #7fbfbf\">                    </span>         <span style=\"font-weight: bold\">(</span>PartitionedDataSet<span style=\"font-weight: bold\">)</span><span style=\"color: #808000; text-decoration-color: #808000\">...</span>                                            <span style=\"color: #7f7f7f; text-decoration-color: #7f7f7f\">                   </span>\n",
       "</pre>\n"
      ],
      "text/plain": [
       "\u001b[2;36m                   \u001b[0m\u001b[2;36m \u001b[0m\u001b[34mINFO    \u001b[0m Loading data from \u001b[32m'wPCC.time_series_preprocessed.ek_smooth'\u001b[0m        \u001b]8;id=647306;file:///home/maa/anaconda3/envs/phd/lib/python3.10/site-packages/kedro/io/data_catalog.py\u001b\\\u001b[2mdata_catalog.py\u001b[0m\u001b]8;;\u001b\\\u001b[2m:\u001b[0m\u001b]8;id=388117;file:///home/maa/anaconda3/envs/phd/lib/python3.10/site-packages/kedro/io/data_catalog.py#343\u001b\\\u001b[2m343\u001b[0m\u001b]8;;\u001b\\\n",
       "\u001b[2;36m                    \u001b[0m         \u001b[1m(\u001b[0mPartitionedDataSet\u001b[1m)\u001b[0m\u001b[33m...\u001b[0m                                            \u001b[2m                   \u001b[0m\n"
      ]
     },
     "metadata": {},
     "output_type": "display_data"
    },
    {
     "data": {
      "text/html": [
       "<pre style=\"white-space:pre;overflow-x:auto;line-height:normal;font-family:Menlo,'DejaVu Sans Mono',consolas,'Courier New',monospace\"><span style=\"color: #7fbfbf; text-decoration-color: #7fbfbf\">                    </span><span style=\"color: #000080; text-decoration-color: #000080\">INFO    </span> Loading data from <span style=\"color: #008000; text-decoration-color: #008000\">'wPCC.ship_data'</span> <span style=\"font-weight: bold\">(</span>YAMLDataSet<span style=\"font-weight: bold\">)</span><span style=\"color: #808000; text-decoration-color: #808000\">...</span>                <a href=\"file:///home/maa/anaconda3/envs/phd/lib/python3.10/site-packages/kedro/io/data_catalog.py\" target=\"_blank\"><span style=\"color: #7f7f7f; text-decoration-color: #7f7f7f\">data_catalog.py</span></a><span style=\"color: #7f7f7f; text-decoration-color: #7f7f7f\">:</span><a href=\"file:///home/maa/anaconda3/envs/phd/lib/python3.10/site-packages/kedro/io/data_catalog.py#343\" target=\"_blank\"><span style=\"color: #7f7f7f; text-decoration-color: #7f7f7f\">343</span></a>\n",
       "</pre>\n"
      ],
      "text/plain": [
       "\u001b[2;36m                   \u001b[0m\u001b[2;36m \u001b[0m\u001b[34mINFO    \u001b[0m Loading data from \u001b[32m'wPCC.ship_data'\u001b[0m \u001b[1m(\u001b[0mYAMLDataSet\u001b[1m)\u001b[0m\u001b[33m...\u001b[0m                \u001b]8;id=364480;file:///home/maa/anaconda3/envs/phd/lib/python3.10/site-packages/kedro/io/data_catalog.py\u001b\\\u001b[2mdata_catalog.py\u001b[0m\u001b]8;;\u001b\\\u001b[2m:\u001b[0m\u001b]8;id=284077;file:///home/maa/anaconda3/envs/phd/lib/python3.10/site-packages/kedro/io/data_catalog.py#343\u001b\\\u001b[2m343\u001b[0m\u001b]8;;\u001b\\\n"
      ]
     },
     "metadata": {},
     "output_type": "display_data"
    },
    {
     "data": {
      "text/html": [
       "<pre style=\"white-space:pre;overflow-x:auto;line-height:normal;font-family:Menlo,'DejaVu Sans Mono',consolas,'Courier New',monospace\"><span style=\"color: #7fbfbf; text-decoration-color: #7fbfbf\">                    </span><span style=\"color: #000080; text-decoration-color: #000080\">INFO    </span> Loading data from <span style=\"color: #008000; text-decoration-color: #008000\">'params:wPCC.exclude_parameters'</span>                 <a href=\"file:///home/maa/anaconda3/envs/phd/lib/python3.10/site-packages/kedro/io/data_catalog.py\" target=\"_blank\"><span style=\"color: #7f7f7f; text-decoration-color: #7f7f7f\">data_catalog.py</span></a><span style=\"color: #7f7f7f; text-decoration-color: #7f7f7f\">:</span><a href=\"file:///home/maa/anaconda3/envs/phd/lib/python3.10/site-packages/kedro/io/data_catalog.py#343\" target=\"_blank\"><span style=\"color: #7f7f7f; text-decoration-color: #7f7f7f\">343</span></a>\n",
       "<span style=\"color: #7fbfbf; text-decoration-color: #7fbfbf\">                    </span>         <span style=\"font-weight: bold\">(</span>MemoryDataSet<span style=\"font-weight: bold\">)</span><span style=\"color: #808000; text-decoration-color: #808000\">...</span>                                                 <span style=\"color: #7f7f7f; text-decoration-color: #7f7f7f\">                   </span>\n",
       "</pre>\n"
      ],
      "text/plain": [
       "\u001b[2;36m                   \u001b[0m\u001b[2;36m \u001b[0m\u001b[34mINFO    \u001b[0m Loading data from \u001b[32m'params:wPCC.exclude_parameters'\u001b[0m                 \u001b]8;id=524800;file:///home/maa/anaconda3/envs/phd/lib/python3.10/site-packages/kedro/io/data_catalog.py\u001b\\\u001b[2mdata_catalog.py\u001b[0m\u001b]8;;\u001b\\\u001b[2m:\u001b[0m\u001b]8;id=570043;file:///home/maa/anaconda3/envs/phd/lib/python3.10/site-packages/kedro/io/data_catalog.py#343\u001b\\\u001b[2m343\u001b[0m\u001b]8;;\u001b\\\n",
       "\u001b[2;36m                    \u001b[0m         \u001b[1m(\u001b[0mMemoryDataSet\u001b[1m)\u001b[0m\u001b[33m...\u001b[0m                                                 \u001b[2m                   \u001b[0m\n"
      ]
     },
     "metadata": {},
     "output_type": "display_data"
    },
    {
     "data": {
      "text/html": [
       "<pre style=\"white-space:pre;overflow-x:auto;line-height:normal;font-family:Menlo,'DejaVu Sans Mono',consolas,'Courier New',monospace\"><span style=\"color: #7fbfbf; text-decoration-color: #7fbfbf\">                    </span><span style=\"color: #000080; text-decoration-color: #000080\">INFO    </span> Loading data from <span style=\"color: #008000; text-decoration-color: #008000\">'wPCC.time_series_meta_data'</span> <span style=\"font-weight: bold\">(</span>CSVDataSet<span style=\"font-weight: bold\">)</span><span style=\"color: #808000; text-decoration-color: #808000\">...</span>     <a href=\"file:///home/maa/anaconda3/envs/phd/lib/python3.10/site-packages/kedro/io/data_catalog.py\" target=\"_blank\"><span style=\"color: #7f7f7f; text-decoration-color: #7f7f7f\">data_catalog.py</span></a><span style=\"color: #7f7f7f; text-decoration-color: #7f7f7f\">:</span><a href=\"file:///home/maa/anaconda3/envs/phd/lib/python3.10/site-packages/kedro/io/data_catalog.py#343\" target=\"_blank\"><span style=\"color: #7f7f7f; text-decoration-color: #7f7f7f\">343</span></a>\n",
       "</pre>\n"
      ],
      "text/plain": [
       "\u001b[2;36m                   \u001b[0m\u001b[2;36m \u001b[0m\u001b[34mINFO    \u001b[0m Loading data from \u001b[32m'wPCC.time_series_meta_data'\u001b[0m \u001b[1m(\u001b[0mCSVDataSet\u001b[1m)\u001b[0m\u001b[33m...\u001b[0m     \u001b]8;id=647807;file:///home/maa/anaconda3/envs/phd/lib/python3.10/site-packages/kedro/io/data_catalog.py\u001b\\\u001b[2mdata_catalog.py\u001b[0m\u001b]8;;\u001b\\\u001b[2m:\u001b[0m\u001b]8;id=668911;file:///home/maa/anaconda3/envs/phd/lib/python3.10/site-packages/kedro/io/data_catalog.py#343\u001b\\\u001b[2m343\u001b[0m\u001b]8;;\u001b\\\n"
      ]
     },
     "metadata": {},
     "output_type": "display_data"
    },
    {
     "data": {
      "text/html": [
       "<pre style=\"white-space:pre;overflow-x:auto;line-height:normal;font-family:Menlo,'DejaVu Sans Mono',consolas,'Courier New',monospace\"><span style=\"color: #7fbfbf; text-decoration-color: #7fbfbf\">                    </span><span style=\"color: #000080; text-decoration-color: #000080\">INFO    </span> Loading data from <span style=\"color: #008000; text-decoration-color: #008000\">'wPCC.models'</span> <span style=\"font-weight: bold\">(</span>PartitionedDataSet<span style=\"font-weight: bold\">)</span><span style=\"color: #808000; text-decoration-color: #808000\">...</span>            <a href=\"file:///home/maa/anaconda3/envs/phd/lib/python3.10/site-packages/kedro/io/data_catalog.py\" target=\"_blank\"><span style=\"color: #7f7f7f; text-decoration-color: #7f7f7f\">data_catalog.py</span></a><span style=\"color: #7f7f7f; text-decoration-color: #7f7f7f\">:</span><a href=\"file:///home/maa/anaconda3/envs/phd/lib/python3.10/site-packages/kedro/io/data_catalog.py#343\" target=\"_blank\"><span style=\"color: #7f7f7f; text-decoration-color: #7f7f7f\">343</span></a>\n",
       "</pre>\n"
      ],
      "text/plain": [
       "\u001b[2;36m                   \u001b[0m\u001b[2;36m \u001b[0m\u001b[34mINFO    \u001b[0m Loading data from \u001b[32m'wPCC.models'\u001b[0m \u001b[1m(\u001b[0mPartitionedDataSet\u001b[1m)\u001b[0m\u001b[33m...\u001b[0m            \u001b]8;id=672393;file:///home/maa/anaconda3/envs/phd/lib/python3.10/site-packages/kedro/io/data_catalog.py\u001b\\\u001b[2mdata_catalog.py\u001b[0m\u001b]8;;\u001b\\\u001b[2m:\u001b[0m\u001b]8;id=3248;file:///home/maa/anaconda3/envs/phd/lib/python3.10/site-packages/kedro/io/data_catalog.py#343\u001b\\\u001b[2m343\u001b[0m\u001b]8;;\u001b\\\n"
      ]
     },
     "metadata": {},
     "output_type": "display_data"
    }
   ],
   "source": [
    "%reload_kedro\n",
    "ship='wPCC'\n",
    "time_series = catalog.load(f\"{ship}.time_series\")\n",
    "time_series_smooth = catalog.load(f\"{ship}.time_series_preprocessed.ek_smooth\")\n",
    "ship_data = catalog.load(f\"{ship}.ship_data\")\n",
    "exclude_parameters = catalog.load(f\"params:{ship}.exclude_parameters\")\n",
    "time_series_meta_data = catalog.load(f\"{ship}.time_series_meta_data\")\n",
    "time_series_meta_data.index = time_series_meta_data.index.astype(str)\n",
    "time_series_meta_data.rename(columns={'test_type':'test type'}, inplace=True)\n",
    "model_loader = catalog.load(f\"{ship}.models\")"
   ]
  },
  {
   "cell_type": "code",
   "execution_count": 4,
   "id": "85eef02d-74d5-40da-a151-68e63e5149fb",
   "metadata": {},
   "outputs": [],
   "source": [
    "model_old = model_loader['wpcc.updated.vmm_martins_simple.joined.model']()"
   ]
  },
  {
   "cell_type": "code",
   "execution_count": 5,
   "id": "c35c9ca0-f928-463b-a569-15d5aabcbfe7",
   "metadata": {},
   "outputs": [
    {
     "data": {
      "text/latex": [
       "$\\displaystyle m \\left(\\dot{u} - r^{2} x_{G} - r v\\right) = X_{force}$"
      ],
      "text/plain": [
       "Eq(m*(\\dot{u} - r**2*x_G - r*v), X_force)"
      ]
     },
     "metadata": {},
     "output_type": "display_data"
    },
    {
     "data": {
      "text/latex": [
       "$\\displaystyle m \\left(\\dot{r} x_{G} + \\dot{v} + r u\\right) = Y_{force}$"
      ],
      "text/plain": [
       "Eq(m*(\\dot{r}*x_G + \\dot{v} + r*u), Y_force)"
      ]
     },
     "metadata": {},
     "output_type": "display_data"
    },
    {
     "data": {
      "text/latex": [
       "$\\displaystyle I_{z} \\dot{r} + m x_{G} \\left(\\dot{v} + r u\\right) = N_{force}$"
      ],
      "text/plain": [
       "Eq(I_z*\\dot{r} + m*x_G*(\\dot{v} + r*u), N_force)"
      ]
     },
     "metadata": {},
     "output_type": "display_data"
    }
   ],
   "source": [
    "display(X_eom)\n",
    "display(Y_eom)\n",
    "display(N_eom)"
   ]
  },
  {
   "cell_type": "code",
   "execution_count": 6,
   "id": "6b39c554-7472-48a4-a4fe-3eb5293e35ec",
   "metadata": {},
   "outputs": [],
   "source": [
    "X_D_ = sp.symbols('X_D')\n",
    "Y_D_ = sp.symbols('Y_D')\n",
    "N_D_ = sp.symbols('N_D')\n",
    "fx_eq = fx_eq.subs(X_D,X_D_)\n",
    "fy_eq = fy_eq.subs(Y_D,Y_D_)\n",
    "mz_eq = mz_eq.subs(N_D,N_D_)"
   ]
  },
  {
   "cell_type": "code",
   "execution_count": 7,
   "id": "054ebda4-b5dd-4894-9c40-68731b3403ad",
   "metadata": {},
   "outputs": [
    {
     "data": {
      "text/latex": [
       "$\\displaystyle X_{force} = X_{H} + X_{P} + X_{R} + X_{\\dot{r}} \\dot{r} + X_{\\dot{u}} \\dot{u} + X_{\\dot{v}} \\dot{v}$"
      ],
      "text/plain": [
       "Eq(X_force, X_H + X_P + X_R + X_{\\dot{r}}*\\dot{r} + X_{\\dot{u}}*\\dot{u} + X_{\\dot{v}}*\\dot{v})"
      ]
     },
     "metadata": {},
     "output_type": "display_data"
    },
    {
     "data": {
      "text/latex": [
       "$\\displaystyle Y_{force} = Y_{H} + Y_{R} + Y_{\\dot{r}} \\dot{r} + Y_{\\dot{u}} \\dot{u} + Y_{\\dot{v}} \\dot{v}$"
      ],
      "text/plain": [
       "Eq(Y_force, Y_H + Y_R + Y_{\\dot{r}}*\\dot{r} + Y_{\\dot{u}}*\\dot{u} + Y_{\\dot{v}}*\\dot{v})"
      ]
     },
     "metadata": {},
     "output_type": "display_data"
    },
    {
     "data": {
      "text/latex": [
       "$\\displaystyle N_{force} = N_{H} + N_{R} + N_{\\dot{r}} \\dot{r} + N_{\\dot{u}} \\dot{v} + N_{\\dot{v}} \\dot{v}$"
      ],
      "text/plain": [
       "Eq(N_force, N_H + N_R + N_{\\dot{r}}*\\dot{r} + N_{\\dot{u}}*\\dot{v} + N_{\\dot{v}}*\\dot{v})"
      ]
     },
     "metadata": {},
     "output_type": "display_data"
    }
   ],
   "source": [
    "eq_X_force = fx_eq.subs(X_D_, X_H + X_R + X_P)\n",
    "eq_Y_force = fy_eq.subs(Y_D_, Y_H + Y_R)\n",
    "eq_N_force = mz_eq.subs(N_D_, N_H + N_R)\n",
    "\n",
    "display(eq_X_force)\n",
    "display(eq_Y_force)\n",
    "display(eq_N_force)"
   ]
  },
  {
   "cell_type": "code",
   "execution_count": 8,
   "id": "0473e389-72fe-4576-8de8-8812108d2b8c",
   "metadata": {},
   "outputs": [
    {
     "data": {
      "text/latex": [
       "$\\displaystyle m \\left(\\dot{u} - r^{2} x_{G} - r v\\right) = X_{H} + X_{P} + X_{R} + X_{\\dot{r}} \\dot{r} + X_{\\dot{u}} \\dot{u} + X_{\\dot{v}} \\dot{v}$"
      ],
      "text/plain": [
       "Eq(m*(\\dot{u} - r**2*x_G - r*v), X_H + X_P + X_R + X_{\\dot{r}}*\\dot{r} + X_{\\dot{u}}*\\dot{u} + X_{\\dot{v}}*\\dot{v})"
      ]
     },
     "metadata": {},
     "output_type": "display_data"
    },
    {
     "data": {
      "text/latex": [
       "$\\displaystyle m \\left(\\dot{r} x_{G} + \\dot{v} + r u\\right) = Y_{H} + Y_{R} + Y_{\\dot{r}} \\dot{r} + Y_{\\dot{u}} \\dot{u} + Y_{\\dot{v}} \\dot{v}$"
      ],
      "text/plain": [
       "Eq(m*(\\dot{r}*x_G + \\dot{v} + r*u), Y_H + Y_R + Y_{\\dot{r}}*\\dot{r} + Y_{\\dot{u}}*\\dot{u} + Y_{\\dot{v}}*\\dot{v})"
      ]
     },
     "metadata": {},
     "output_type": "display_data"
    },
    {
     "data": {
      "text/latex": [
       "$\\displaystyle I_{z} \\dot{r} + m x_{G} \\left(\\dot{v} + r u\\right) = N_{H} + N_{R} + N_{\\dot{r}} \\dot{r} + N_{\\dot{u}} \\dot{v} + N_{\\dot{v}} \\dot{v}$"
      ],
      "text/plain": [
       "Eq(I_z*\\dot{r} + m*x_G*(\\dot{v} + r*u), N_H + N_R + N_{\\dot{r}}*\\dot{r} + N_{\\dot{u}}*\\dot{v} + N_{\\dot{v}}*\\dot{v})"
      ]
     },
     "metadata": {},
     "output_type": "display_data"
    }
   ],
   "source": [
    "X_eq = X_eom.subs(X_force,eq_X_force.rhs)\n",
    "Y_eq = Y_eom.subs(Y_force,eq_Y_force.rhs)\n",
    "N_eq = N_eom.subs(N_force,eq_N_force.rhs)\n",
    "\n",
    "display(X_eq)\n",
    "display(Y_eq)\n",
    "display(N_eq)\n"
   ]
  },
  {
   "cell_type": "code",
   "execution_count": 9,
   "id": "ce1b6811-c041-4388-befc-64e3a618e96c",
   "metadata": {},
   "outputs": [
    {
     "data": {
      "text/latex": [
       "$\\displaystyle m \\left(\\dot{u} - r^{2} x_{G} - r v\\right) = X_{H} + X_{P} + X_{R} + X_{\\dot{u}} \\dot{u}$"
      ],
      "text/plain": [
       "Eq(m*(\\dot{u} - r**2*x_G - r*v), X_H + X_P + X_R + X_{\\dot{u}}*\\dot{u})"
      ]
     },
     "metadata": {},
     "output_type": "display_data"
    },
    {
     "data": {
      "text/latex": [
       "$\\displaystyle m \\left(\\dot{r} x_{G} + \\dot{v} + r u\\right) = Y_{H} + Y_{R} + Y_{\\dot{r}} \\dot{r} + Y_{\\dot{v}} \\dot{v}$"
      ],
      "text/plain": [
       "Eq(m*(\\dot{r}*x_G + \\dot{v} + r*u), Y_H + Y_R + Y_{\\dot{r}}*\\dot{r} + Y_{\\dot{v}}*\\dot{v})"
      ]
     },
     "metadata": {},
     "output_type": "display_data"
    },
    {
     "data": {
      "text/latex": [
       "$\\displaystyle I_{z} \\dot{r} + m x_{G} \\left(\\dot{v} + r u\\right) = N_{H} + N_{R} + N_{\\dot{r}} \\dot{r} + N_{\\dot{v}} \\dot{v}$"
      ],
      "text/plain": [
       "Eq(I_z*\\dot{r} + m*x_G*(\\dot{v} + r*u), N_H + N_R + N_{\\dot{r}}*\\dot{r} + N_{\\dot{v}}*\\dot{v})"
      ]
     },
     "metadata": {},
     "output_type": "display_data"
    }
   ],
   "source": [
    "subs = [\n",
    "    (p.Xvdot, 0),\n",
    "    (p.Xrdot, 0),\n",
    "    (p.Yudot, 0),\n",
    "    # (p.Yrdot,0),  # this is probably not true\n",
    "    (p.Nudot, 0),\n",
    "    # (p.Nvdot,0),# this is probably not true\n",
    "]\n",
    "X_eq=X_eq.subs(subs)\n",
    "Y_eq=Y_eq.subs(subs)\n",
    "N_eq=N_eq.subs(subs)\n",
    "\n",
    "display(X_eq)\n",
    "display(Y_eq)\n",
    "display(N_eq)"
   ]
  },
  {
   "cell_type": "code",
   "execution_count": 10,
   "id": "646de769-73e3-4e7a-84a1-ec97001dc45f",
   "metadata": {},
   "outputs": [
    {
     "data": {
      "text/latex": [
       "$\\displaystyle m \\left(\\dot{u} - r^{2} x_{G} - r v\\right) = X_{H} + X_{\\dot{u}} \\dot{u}$"
      ],
      "text/plain": [
       "Eq(m*(\\dot{u} - r**2*x_G - r*v), X_H + X_{\\dot{u}}*\\dot{u})"
      ]
     },
     "metadata": {},
     "output_type": "display_data"
    },
    {
     "data": {
      "text/latex": [
       "$\\displaystyle m \\left(\\dot{r} x_{G} + \\dot{v} + r u\\right) = Y_{H} + Y_{\\dot{r}} \\dot{r} + Y_{\\dot{v}} \\dot{v}$"
      ],
      "text/plain": [
       "Eq(m*(\\dot{r}*x_G + \\dot{v} + r*u), Y_H + Y_{\\dot{r}}*\\dot{r} + Y_{\\dot{v}}*\\dot{v})"
      ]
     },
     "metadata": {},
     "output_type": "display_data"
    },
    {
     "data": {
      "text/latex": [
       "$\\displaystyle I_{z} \\dot{r} + m x_{G} \\left(\\dot{v} + r u\\right) = N_{H} + N_{\\dot{r}} \\dot{r} + N_{\\dot{v}} \\dot{v}$"
      ],
      "text/plain": [
       "Eq(I_z*\\dot{r} + m*x_G*(\\dot{v} + r*u), N_H + N_{\\dot{r}}*\\dot{r} + N_{\\dot{v}}*\\dot{v})"
      ]
     },
     "metadata": {},
     "output_type": "display_data"
    }
   ],
   "source": [
    "X_eq=X_eq.subs([\n",
    "(X_P,0),\n",
    "(X_R,0),\n",
    "])\n",
    "Y_eq=Y_eq.subs([\n",
    "(Y_R,0),\n",
    "])\n",
    "N_eq=N_eq.subs([\n",
    "(N_R,0),\n",
    "])\n",
    "\n",
    "display(X_eq)\n",
    "display(Y_eq)\n",
    "display(N_eq)"
   ]
  },
  {
   "cell_type": "code",
   "execution_count": 48,
   "id": "4381c33f-57bf-43f6-9925-d0222fa47260",
   "metadata": {},
   "outputs": [],
   "source": [
    "parameters = dict(model_old.parameters)\n",
    "model = ModularVesselSimulator(X_eq=X_eq, Y_eq=Y_eq, N_eq=N_eq, ship_parameters=ship_data, parameters=parameters, control_keys=model_old.control_keys)"
   ]
  },
  {
   "cell_type": "code",
   "execution_count": 49,
   "id": "e5f030da-d947-4445-b5b1-6963090beeaa",
   "metadata": {},
   "outputs": [
    {
     "data": {
      "text/latex": [
       "$\\displaystyle X_{D} = X_{H}$"
      ],
      "text/plain": [
       "Eq(X_D, X_H)"
      ]
     },
     "execution_count": 49,
     "metadata": {},
     "output_type": "execute_result"
    }
   ],
   "source": [
    "model.X_D_eq"
   ]
  },
  {
   "cell_type": "code",
   "execution_count": 50,
   "id": "f72f1635-3a2e-431c-a179-ba3888440aa2",
   "metadata": {},
   "outputs": [
    {
     "data": {
      "text/latex": [
       "$\\displaystyle \\left[\\begin{matrix}\\frac{2 \\left(- X_{D} - m r \\left(r x_{G} + v\\right)\\right)}{L^{3} X_{\\dot{u}} \\rho - 2 m}\\\\\\frac{2 \\left(- \\left(2 I_{z} - L^{5} N_{\\dot{r}} \\rho\\right) \\left(Y_{D} - m r u\\right) - \\left(N_{D} - m r u x_{G}\\right) \\left(L^{4} Y_{\\dot{r}} \\rho - 2 m x_{G}\\right)\\right)}{2 I_{z} L^{3} Y_{\\dot{v}} \\rho - 4 I_{z} m - L^{8} N_{\\dot{r}} Y_{\\dot{v}} \\rho^{2} + L^{8} N_{\\dot{v}} Y_{\\dot{r}} \\rho^{2} + 2 L^{5} N_{\\dot{r}} m \\rho - 2 L^{4} N_{\\dot{v}} m \\rho x_{G} - 2 L^{4} Y_{\\dot{r}} m \\rho x_{G} + 4 m^{2} x_{G}^{2}}\\\\\\frac{2 \\left(\\left(N_{D} - m r u x_{G}\\right) \\left(L^{3} Y_{\\dot{v}} \\rho - 2 m\\right) - \\left(Y_{D} - m r u\\right) \\left(L^{4} N_{\\dot{v}} \\rho - 2 m x_{G}\\right)\\right)}{2 I_{z} L^{3} Y_{\\dot{v}} \\rho - 4 I_{z} m - L^{8} N_{\\dot{r}} Y_{\\dot{v}} \\rho^{2} + L^{8} N_{\\dot{v}} Y_{\\dot{r}} \\rho^{2} + 2 L^{5} N_{\\dot{r}} m \\rho - 2 L^{4} N_{\\dot{v}} m \\rho x_{G} - 2 L^{4} Y_{\\dot{r}} m \\rho x_{G} + 4 m^{2} x_{G}^{2}}\\end{matrix}\\right]$"
      ],
      "text/plain": [
       "Matrix([\n",
       "[                                                                                                                                                                                                                                                                           2*(-X_D - m*r*(r*x_G + v))/(L**3*X_{\\dot{u}}*rho - 2*m)],\n",
       "[2*(-(2*I_z - L**5*N_{\\dot{r}}*rho)*(Y_D - m*r*u) - (N_D - m*r*u*x_G)*(L**4*Y_{\\dot{r}}*rho - 2*m*x_G))/(2*I_z*L**3*Y_{\\dot{v}}*rho - 4*I_z*m - L**8*N_{\\dot{r}}*Y_{\\dot{v}}*rho**2 + L**8*N_{\\dot{v}}*Y_{\\dot{r}}*rho**2 + 2*L**5*N_{\\dot{r}}*m*rho - 2*L**4*N_{\\dot{v}}*m*rho*x_G - 2*L**4*Y_{\\dot{r}}*m*rho*x_G + 4*m**2*x_G**2)],\n",
       "[   2*((N_D - m*r*u*x_G)*(L**3*Y_{\\dot{v}}*rho - 2*m) - (Y_D - m*r*u)*(L**4*N_{\\dot{v}}*rho - 2*m*x_G))/(2*I_z*L**3*Y_{\\dot{v}}*rho - 4*I_z*m - L**8*N_{\\dot{r}}*Y_{\\dot{v}}*rho**2 + L**8*N_{\\dot{v}}*Y_{\\dot{r}}*rho**2 + 2*L**5*N_{\\dot{r}}*m*rho - 2*L**4*N_{\\dot{v}}*m*rho*x_G - 2*L**4*Y_{\\dot{r}}*m*rho*x_G + 4*m**2*x_G**2)]])"
      ]
     },
     "execution_count": 50,
     "metadata": {},
     "output_type": "execute_result"
    }
   ],
   "source": [
    "model.acceleartion_eq_SI"
   ]
  },
  {
   "cell_type": "code",
   "execution_count": 51,
   "id": "45166464-54cc-46d4-8a73-74651c2a53da",
   "metadata": {},
   "outputs": [
    {
     "data": {
      "text/plain": [
       "<function _lambdifygenerated(I_z, L, N_D, Nrdot, Nvdot, X_D, Xudot, Y_D, Yrdot, Yvdot, m, r, rho, u, v, x_G)>"
      ]
     },
     "execution_count": 51,
     "metadata": {},
     "output_type": "execute_result"
    }
   ],
   "source": [
    "model.acceleration_lambda_SI"
   ]
  },
  {
   "cell_type": "code",
   "execution_count": null,
   "id": "f1d82205-4480-4edb-ac75-8782443cafd1",
   "metadata": {},
   "outputs": [],
   "source": []
  },
  {
   "cell_type": "code",
   "execution_count": 52,
   "id": "97d9101b-6b0c-4bf8-993f-95dacfdc8164",
   "metadata": {},
   "outputs": [
    {
     "data": {
      "text/latex": [
       "$\\displaystyle X_{H} = X_{deltadelta} \\delta^{2} + X_{rr} r^{2} + X_{thrust} thrust + X_{uu} u^{2} + X_{u} u + X_{vr} r v$"
      ],
      "text/plain": [
       "Eq(X_H, X_{deltadelta}*delta**2 + X_{rr}*r**2 + X_{thrust}*thrust + X_{uu}*u**2 + X_{u}*u + X_{vr}*r*v)"
      ]
     },
     "metadata": {},
     "output_type": "display_data"
    },
    {
     "data": {
      "text/latex": [
       "$\\displaystyle Y_{H} = Y_{delta} \\delta + Y_{r} r + Y_{thrustdelta} \\delta thrust + Y_{thrust} thrust + Y_{ur} r u + Y_{u} u + Y_{vvdelta} \\delta v^{2} + Y_{v} v$"
      ],
      "text/plain": [
       "Eq(Y_H, Y_{delta}*delta + Y_{r}*r + Y_{thrustdelta}*delta*thrust + Y_{thrust}*thrust + Y_{ur}*r*u + Y_{u}*u + Y_{vvdelta}*delta*v**2 + Y_{v}*v)"
      ]
     },
     "metadata": {},
     "output_type": "display_data"
    },
    {
     "data": {
      "text/latex": [
       "$\\displaystyle N_{H} = N_{delta} \\delta + N_{r} r + N_{thrustdelta} \\delta thrust + N_{thrust} thrust + N_{ur} r u + N_{u} u + N_{vvdelta} \\delta v^{2} + N_{v} v$"
      ],
      "text/plain": [
       "Eq(N_H, N_{delta}*delta + N_{r}*r + N_{thrustdelta}*delta*thrust + N_{thrust}*thrust + N_{ur}*r*u + N_{u}*u + N_{vvdelta}*delta*v**2 + N_{v}*v)"
      ]
     },
     "metadata": {},
     "output_type": "display_data"
    }
   ],
   "source": [
    "eq_X_H = sp.Eq(X_H,model_old.X_qs_eq.rhs)\n",
    "eq_Y_H = sp.Eq(Y_H,model_old.Y_qs_eq.rhs)\n",
    "eq_N_H = sp.Eq(N_H,model_old.N_qs_eq.rhs)\n",
    "display(eq_X_H)\n",
    "display(eq_Y_H)\n",
    "display(eq_N_H)"
   ]
  },
  {
   "cell_type": "code",
   "execution_count": 53,
   "id": "38610ec0-4999-43c2-8ce3-ecb9122e0ceb",
   "metadata": {},
   "outputs": [],
   "source": [
    "hull = PrimeEquationSystem(ship=model, X_eq=eq_X_H, Y_eq=eq_Y_H, N_eq=eq_N_H)"
   ]
  },
  {
   "cell_type": "code",
   "execution_count": 54,
   "id": "168ae645-f5c8-4e72-9089-df084ea1d1b5",
   "metadata": {},
   "outputs": [
    {
     "data": {
      "text/plain": [
       "{'X_H': -10.360077713371078,\n",
       " 'Y_H': -0.3387710588406988,\n",
       " 'N_H': -0.21952311523639156}"
      ]
     },
     "execution_count": 54,
     "metadata": {},
     "output_type": "execute_result"
    }
   ],
   "source": [
    "states_dict = {\n",
    "'u':1,\n",
    "'v':0,\n",
    "'r':0,\n",
    "}\n",
    "control={\n",
    "'delta':0,\n",
    "'thrust':0,\n",
    "}\n",
    "calculation={}\n",
    "hull.calculate_forces(states_dict=states_dict, control=control, calculation=calculation)"
   ]
  },
  {
   "cell_type": "code",
   "execution_count": 55,
   "id": "2cdb3106-a31f-4ac4-b510-36cec245f631",
   "metadata": {},
   "outputs": [
    {
     "data": {
      "text/plain": [
       "{'X_H': -10.360077713371078,\n",
       " 'Y_H': -0.3387710588406988,\n",
       " 'N_H': -0.21952311523639156,\n",
       " 'X_D': -10.360077713371078,\n",
       " 'Y_D': -0.3387710588406988,\n",
       " 'N_D': -0.21952311523639156}"
      ]
     },
     "execution_count": 55,
     "metadata": {},
     "output_type": "execute_result"
    }
   ],
   "source": [
    "model.subsystems['hull'] = hull\n",
    "calculation = model.calculate_forces(states_dict=states_dict, control=control)\n",
    "calculation"
   ]
  },
  {
   "cell_type": "code",
   "execution_count": 56,
   "id": "e83fe515-d648-4bbc-be14-64be53368959",
   "metadata": {},
   "outputs": [
    {
     "data": {
      "text/plain": [
       "array([[-0.02410703],\n",
       "       [-0.00038977],\n",
       "       [-0.00017462]])"
      ]
     },
     "execution_count": 56,
     "metadata": {},
     "output_type": "execute_result"
    }
   ],
   "source": [
    "acceleration = model.calculate_acceleration(states_dict=states_dict, control=control)\n",
    "acceleration"
   ]
  },
  {
   "cell_type": "code",
   "execution_count": 57,
   "id": "09c51dd0-8b47-4707-8ab2-97a922759947",
   "metadata": {},
   "outputs": [
    {
     "data": {
      "text/plain": [
       "-0.024107028529250465"
      ]
     },
     "execution_count": 57,
     "metadata": {},
     "output_type": "execute_result"
    }
   ],
   "source": [
    "acceleration[0][0]"
   ]
  },
  {
   "cell_type": "code",
   "execution_count": 58,
   "id": "0203b304-168c-4a53-a56d-3aab8f6ef453",
   "metadata": {},
   "outputs": [
    {
     "data": {
      "text/plain": [
       "-0.00038977475743484224"
      ]
     },
     "execution_count": 58,
     "metadata": {},
     "output_type": "execute_result"
    }
   ],
   "source": [
    "acceleration[1][0]"
   ]
  },
  {
   "cell_type": "markdown",
   "id": "a260e9a2-c9a0-45c9-b35c-73997b14e9ac",
   "metadata": {},
   "source": [
    "## Simulate"
   ]
  },
  {
   "cell_type": "code",
   "execution_count": 65,
   "id": "27216ecf-4052-48c3-b813-43b9ef554ef7",
   "metadata": {},
   "outputs": [],
   "source": [
    "data = time_series_smooth['wpcc.updated.22773.ek_smooth']()\n",
    "#data = time_series_smooth['wpcc.updated.22774.ek_smooth']()\n",
    "data['V'] = data['U'] = np.sqrt(data['u']**2 + data['v']**2)\n",
    "data['rev'] = data[['Prop/SB/Rpm', 'Prop/PS/Rpm']].mean(axis=1)\n",
    "g_=9.81\n",
    "data['g'] = g_"
   ]
  },
  {
   "cell_type": "code",
   "execution_count": 66,
   "id": "3fa4f875-2c8f-4afb-9056-486a7bc468f8",
   "metadata": {},
   "outputs": [],
   "source": [
    "result_old = model_old.simulate(data)"
   ]
  },
  {
   "cell_type": "code",
   "execution_count": 67,
   "id": "a0afae0e-1a77-4673-a02b-309e8e7a1ef4",
   "metadata": {},
   "outputs": [],
   "source": [
    "result = model.simulate(data)"
   ]
  },
  {
   "cell_type": "code",
   "execution_count": 68,
   "id": "8a70a71f-1928-4b4b-b65a-2bc04f7003cc",
   "metadata": {},
   "outputs": [
    {
     "data": {
      "image/png": "[encoded data removed]",
      "text/plain": [
       "<Figure size 640x480 with 1 Axes>"
      ]
     },
     "metadata": {},
     "output_type": "display_data"
    },
    {
     "data": {
      "image/png": "[encoded data removed]",
      "text/plain": [
       "<Figure size 640x480 with 4 Axes>"
      ]
     },
     "metadata": {},
     "output_type": "display_data"
    }
   ],
   "source": [
    "result_with_measured_thrust = model.simulate(data)\n",
    "\n",
    "dataframes = {\n",
    "              'Old model':result_old.result,\n",
    "              'Modular model':result.result,\n",
    "             }\n",
    "track_plots(dataframes=dataframes, lpp=ship_data['L'], beam=ship_data['B'], N=10)\n",
    "plot(dataframes, keys=['u','v','r','psi']);"
   ]
  },
  {
   "cell_type": "code",
   "execution_count": 69,
   "id": "65cbf146-efb3-4b7f-ac36-7f0aa059afc9",
   "metadata": {},
   "outputs": [
    {
     "data": {
      "text/latex": [
       "$\\displaystyle \\left[\\begin{matrix}\\frac{- X_{D} - m r \\left(r x_{G} + v\\right)}{X_{\\dot{u}} - m}\\\\\\frac{- \\left(I_{z} - N_{\\dot{r}}\\right) \\left(Y_{D} - m r u\\right) - \\left(N_{D} - m r u x_{G}\\right) \\left(Y_{\\dot{r}} - m x_{G}\\right)}{I_{z} Y_{\\dot{v}} - I_{z} m - N_{\\dot{r}} Y_{\\dot{v}} + N_{\\dot{r}} m + N_{\\dot{v}} Y_{\\dot{r}} - N_{\\dot{v}} m x_{G} - Y_{\\dot{r}} m x_{G} + m^{2} x_{G}^{2}}\\\\\\frac{\\left(N_{D} - m r u x_{G}\\right) \\left(Y_{\\dot{v}} - m\\right) - \\left(N_{\\dot{v}} - m x_{G}\\right) \\left(Y_{D} - m r u\\right)}{I_{z} Y_{\\dot{v}} - I_{z} m - N_{\\dot{r}} Y_{\\dot{v}} + N_{\\dot{r}} m + N_{\\dot{v}} Y_{\\dot{r}} - N_{\\dot{v}} m x_{G} - Y_{\\dot{r}} m x_{G} + m^{2} x_{G}^{2}}\\end{matrix}\\right]$"
      ],
      "text/plain": [
       "Matrix([\n",
       "[                                                                                                                                                                                        (-X_D - m*r*(r*x_G + v))/(X_{\\dot{u}} - m)],\n",
       "[(-(I_z - N_{\\dot{r}})*(Y_D - m*r*u) - (N_D - m*r*u*x_G)*(Y_{\\dot{r}} - m*x_G))/(I_z*Y_{\\dot{v}} - I_z*m - N_{\\dot{r}}*Y_{\\dot{v}} + N_{\\dot{r}}*m + N_{\\dot{v}}*Y_{\\dot{r}} - N_{\\dot{v}}*m*x_G - Y_{\\dot{r}}*m*x_G + m**2*x_G**2)],\n",
       "[   ((N_D - m*r*u*x_G)*(Y_{\\dot{v}} - m) - (N_{\\dot{v}} - m*x_G)*(Y_D - m*r*u))/(I_z*Y_{\\dot{v}} - I_z*m - N_{\\dot{r}}*Y_{\\dot{v}} + N_{\\dot{r}}*m + N_{\\dot{v}}*Y_{\\dot{r}} - N_{\\dot{v}}*m*x_G - Y_{\\dot{r}}*m*x_G + m**2*x_G**2)]])"
      ]
     },
     "execution_count": 69,
     "metadata": {},
     "output_type": "execute_result"
    }
   ],
   "source": [
    "sp.simplify(model.acceleartion_eq)"
   ]
  },
  {
   "cell_type": "code",
   "execution_count": 70,
   "id": "fe44ba98-8908-4219-b3dc-adf8fd2bc018",
   "metadata": {},
   "outputs": [
    {
     "data": {
      "text/latex": [
       "$\\displaystyle \\left[\\begin{matrix}\\frac{2 \\left(- X_{D} - m r \\left(r x_{G} + v\\right)\\right)}{L^{3} X_{\\dot{u}} \\rho - 2 m}\\\\\\frac{2 \\left(- \\left(2 I_{z} - L^{5} N_{\\dot{r}} \\rho\\right) \\left(Y_{D} - m r u\\right) - \\left(N_{D} - m r u x_{G}\\right) \\left(L^{4} Y_{\\dot{r}} \\rho - 2 m x_{G}\\right)\\right)}{2 I_{z} L^{3} Y_{\\dot{v}} \\rho - 4 I_{z} m - L^{8} N_{\\dot{r}} Y_{\\dot{v}} \\rho^{2} + L^{8} N_{\\dot{v}} Y_{\\dot{r}} \\rho^{2} + 2 L^{5} N_{\\dot{r}} m \\rho - 2 L^{4} N_{\\dot{v}} m \\rho x_{G} - 2 L^{4} Y_{\\dot{r}} m \\rho x_{G} + 4 m^{2} x_{G}^{2}}\\\\\\frac{2 \\left(\\left(N_{D} - m r u x_{G}\\right) \\left(L^{3} Y_{\\dot{v}} \\rho - 2 m\\right) - \\left(Y_{D} - m r u\\right) \\left(L^{4} N_{\\dot{v}} \\rho - 2 m x_{G}\\right)\\right)}{2 I_{z} L^{3} Y_{\\dot{v}} \\rho - 4 I_{z} m - L^{8} N_{\\dot{r}} Y_{\\dot{v}} \\rho^{2} + L^{8} N_{\\dot{v}} Y_{\\dot{r}} \\rho^{2} + 2 L^{5} N_{\\dot{r}} m \\rho - 2 L^{4} N_{\\dot{v}} m \\rho x_{G} - 2 L^{4} Y_{\\dot{r}} m \\rho x_{G} + 4 m^{2} x_{G}^{2}}\\end{matrix}\\right]$"
      ],
      "text/plain": [
       "Matrix([\n",
       "[                                                                                                                                                                                                                                                                           2*(-X_D - m*r*(r*x_G + v))/(L**3*X_{\\dot{u}}*rho - 2*m)],\n",
       "[2*(-(2*I_z - L**5*N_{\\dot{r}}*rho)*(Y_D - m*r*u) - (N_D - m*r*u*x_G)*(L**4*Y_{\\dot{r}}*rho - 2*m*x_G))/(2*I_z*L**3*Y_{\\dot{v}}*rho - 4*I_z*m - L**8*N_{\\dot{r}}*Y_{\\dot{v}}*rho**2 + L**8*N_{\\dot{v}}*Y_{\\dot{r}}*rho**2 + 2*L**5*N_{\\dot{r}}*m*rho - 2*L**4*N_{\\dot{v}}*m*rho*x_G - 2*L**4*Y_{\\dot{r}}*m*rho*x_G + 4*m**2*x_G**2)],\n",
       "[   2*((N_D - m*r*u*x_G)*(L**3*Y_{\\dot{v}}*rho - 2*m) - (Y_D - m*r*u)*(L**4*N_{\\dot{v}}*rho - 2*m*x_G))/(2*I_z*L**3*Y_{\\dot{v}}*rho - 4*I_z*m - L**8*N_{\\dot{r}}*Y_{\\dot{v}}*rho**2 + L**8*N_{\\dot{v}}*Y_{\\dot{r}}*rho**2 + 2*L**5*N_{\\dot{r}}*m*rho - 2*L**4*N_{\\dot{v}}*m*rho*x_G - 2*L**4*Y_{\\dot{r}}*m*rho*x_G + 4*m**2*x_G**2)]])"
      ]
     },
     "execution_count": 70,
     "metadata": {},
     "output_type": "execute_result"
    }
   ],
   "source": [
    "model.acceleartion_eq_SI"
   ]
  },
  {
   "cell_type": "code",
   "execution_count": null,
   "id": "75abc9d1-4de1-4ddc-a196-e6fe51e016f0",
   "metadata": {},
   "outputs": [],
   "source": []
  }
 ],
 "metadata": {
  "kernelspec": {
   "display_name": "Kedro (phd)",
   "language": "python",
   "name": "kedro_phd"
  },
  "language_info": {
   "codemirror_mode": {
    "name": "ipython",
    "version": 3
   },
   "file_extension": ".py",
   "mimetype": "text/x-python",
   "name": "python",
   "nbconvert_exporter": "python",
   "pygments_lexer": "ipython3",
   "version": "3.10.10"
  }
 },
 "nbformat": 4,
 "nbformat_minor": 5
}
