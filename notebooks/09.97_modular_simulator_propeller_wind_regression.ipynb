{
 "cells": [
  {
   "cell_type": "markdown",
   "id": "fcb4d6b1-f539-4001-b0c7-10f6d95cc120",
   "metadata": {},
   "source": [
    "# Regression with a modular simulation model\n",
    "* The semi empirical rudder is not part of the regression, but needs to be subtracted from the left hand side.\n",
    "* Now also with propeller model\n",
    "* And wind system"
   ]
  },
  {
   "cell_type": "code",
   "execution_count": 1,
   "id": "ccc39956-f480-4456-9e4f-8b4004e57918",
   "metadata": {},
   "outputs": [],
   "source": [
    "import warnings\n",
    "warnings.filterwarnings('ignore')\n",
    "%matplotlib inline\n",
    "%load_ext autoreload\n",
    "%autoreload 2\n",
    "#%config Completer.use_jedi = False"
   ]
  },
  {
   "cell_type": "code",
   "execution_count": 2,
   "id": "8131dc6c-a9c0-49a7-9e6c-13240037d26c",
   "metadata": {},
   "outputs": [],
   "source": [
    "import pandas as pd\n",
    "pd.set_option('display.max_rows', 5000)\n",
    "pd.set_option('display.max_columns', 5000)\n",
    "pd.set_option('display.width', 10000)\n",
    "import numpy as np\n",
    "import yaml\n",
    "\n",
    "from vessel_manoeuvring_models.visualization.plot import track_plot, plot\n",
    "from phd.visualization.plot_ship import track_plots\n",
    "from vessel_manoeuvring_models.extended_kalman_vmm import ExtendedKalman, SystemMatrixes\n",
    "from vmm_abkowitz_diminished import vmm as vmm\n",
    "from wPCC_pipeline.pipelines.brix.nodes import initial_parameters, extract_added_masses\n",
    "from wPCC_pipeline.pipelines.preprocess.nodes import load, add_thrust\n",
    "from wPCC_pipeline.pipelines.filter_data_extended_kalman.nodes import guess_covariance_matrixes, initial_state, extended_kalman_filter, extended_kalman_smoother\n",
    "from wPCC_pipeline.pipelines.motion_regression.nodes import predict_force, fit_motions, create_model_from_motion_regression\n",
    "from wPCC_pipeline.pipelines.prediction.nodes import simulate_euler\n",
    "from phd.pipelines.load_7m.nodes import fix_interpolated_angle\n",
    "from sklearn.metrics import mean_squared_error\n",
    "from vessel_manoeuvring_models.models.vmm import VMM, Simulator, ModelSimulator, get_coefficients\n",
    "import sympy as sp\n",
    "from functools import reduce\n",
    "from operator import add\n",
    "from vessel_manoeuvring_models.symbols import *\n",
    "import vessel_manoeuvring_models.symbols as symbols\n",
    "from vessel_manoeuvring_models.models.propeller import *\n",
    "from vessel_manoeuvring_models.models.semiempirical_rudder import SemiempiricalRudderSystem\n",
    "from vessel_manoeuvring_models.models.wind_force import WindForceSystem\n",
    "from IPython.display import display\n",
    "from vessel_manoeuvring_models.prime_system import df_prime\n",
    "from vessel_manoeuvring_models.substitute_dynamic_symbols import run, lambdify\n",
    "from vessel_manoeuvring_models.models.modular_simulator import ModularVesselSimulator\n",
    "from vessel_manoeuvring_models.models.subsystem import PrimeEquationSubSystem, EquationSubSystem\n",
    "from vessel_manoeuvring_models.parameters import df_parameters\n",
    "from phd.helpers import mean\n",
    "from vessel_manoeuvring_models.angles import mean_angle\n",
    "from vessel_manoeuvring_models.angles import smallest_signed_angle\n",
    "from vessel_manoeuvring_models.models.diff_eq_to_matrix import DiffEqToMatrix\n",
    "from vessel_manoeuvring_models import prime_system\n",
    "from vessel_manoeuvring_models.models.modular_simulator import subs_simpler\n",
    "import statsmodels.api as sm\n",
    "\n",
    "import inspect\n",
    "from sympy.printing import pretty\n",
    "p = df_parameters[\"symbol\"]\n",
    "\n",
    "import logging\n",
    "log = logging.getLogger(__name__)\n",
    "\n",
    "import matplotlib.pyplot as plt\n",
    "plt.style.use('bmh')"
   ]
  },
  {
   "cell_type": "code",
   "execution_count": 3,
   "id": "da392c22-76d3-4c1b-8997-d61b6234609d",
   "metadata": {},
   "outputs": [
    {
     "data": {
      "text/html": [
       "<pre style=\"white-space:pre;overflow-x:auto;line-height:normal;font-family:Menlo,'DejaVu Sans Mono',consolas,'Courier New',monospace\"><span style=\"color: #7fbfbf; text-decoration-color: #7fbfbf\">[07/24/23 09:44:29] </span><span style=\"color: #000080; text-decoration-color: #000080\">INFO    </span> Resolved project path as: <span style=\"color: #800080; text-decoration-color: #800080\">/home/maa/dev/</span><span style=\"color: #ff00ff; text-decoration-color: #ff00ff\">PHD.</span>                           <a href=\"file:///home/maa/anaconda3/envs/phd/lib/python3.10/site-packages/kedro/ipython/__init__.py\" target=\"_blank\"><span style=\"color: #7f7f7f; text-decoration-color: #7f7f7f\">__init__.py</span></a><span style=\"color: #7f7f7f; text-decoration-color: #7f7f7f\">:</span><a href=\"file:///home/maa/anaconda3/envs/phd/lib/python3.10/site-packages/kedro/ipython/__init__.py#134\" target=\"_blank\"><span style=\"color: #7f7f7f; text-decoration-color: #7f7f7f\">134</span></a>\n",
       "<span style=\"color: #7fbfbf; text-decoration-color: #7fbfbf\">                    </span>         To set a different path, run <span style=\"color: #008000; text-decoration-color: #008000\">'%reload_kedro &lt;project_root&gt;'</span>            <span style=\"color: #7f7f7f; text-decoration-color: #7f7f7f\">               </span>\n",
       "</pre>\n"
      ],
      "text/plain": [
       "\u001b[2;36m[07/24/23 09:44:29]\u001b[0m\u001b[2;36m \u001b[0m\u001b[34mINFO    \u001b[0m Resolved project path as: \u001b[35m/home/maa/dev/\u001b[0m\u001b[95mPHD.\u001b[0m                           \u001b]8;id=982978;file:///home/maa/anaconda3/envs/phd/lib/python3.10/site-packages/kedro/ipython/__init__.py\u001b\\\u001b[2m__init__.py\u001b[0m\u001b]8;;\u001b\\\u001b[2m:\u001b[0m\u001b]8;id=442619;file:///home/maa/anaconda3/envs/phd/lib/python3.10/site-packages/kedro/ipython/__init__.py#134\u001b\\\u001b[2m134\u001b[0m\u001b]8;;\u001b\\\n",
       "\u001b[2;36m                    \u001b[0m         To set a different path, run \u001b[32m'%reload_kedro \u001b[0m\u001b[32m<\u001b[0m\u001b[32mproject_root\u001b[0m\u001b[32m>\u001b[0m\u001b[32m'\u001b[0m            \u001b[2m               \u001b[0m\n"
      ]
     },
     "metadata": {},
     "output_type": "display_data"
    },
    {
     "data": {
      "text/html": [
       "<pre style=\"white-space:pre;overflow-x:auto;line-height:normal;font-family:Menlo,'DejaVu Sans Mono',consolas,'Courier New',monospace\"><span style=\"color: #7fbfbf; text-decoration-color: #7fbfbf\">[07/24/23 09:44:40] </span><span style=\"color: #000080; text-decoration-color: #000080\">INFO    </span> Kedro project phd                                                      <a href=\"file:///home/maa/anaconda3/envs/phd/lib/python3.10/site-packages/kedro/ipython/__init__.py\" target=\"_blank\"><span style=\"color: #7f7f7f; text-decoration-color: #7f7f7f\">__init__.py</span></a><span style=\"color: #7f7f7f; text-decoration-color: #7f7f7f\">:</span><a href=\"file:///home/maa/anaconda3/envs/phd/lib/python3.10/site-packages/kedro/ipython/__init__.py#103\" target=\"_blank\"><span style=\"color: #7f7f7f; text-decoration-color: #7f7f7f\">103</span></a>\n",
       "</pre>\n"
      ],
      "text/plain": [
       "\u001b[2;36m[07/24/23 09:44:40]\u001b[0m\u001b[2;36m \u001b[0m\u001b[34mINFO    \u001b[0m Kedro project phd                                                      \u001b]8;id=14416;file:///home/maa/anaconda3/envs/phd/lib/python3.10/site-packages/kedro/ipython/__init__.py\u001b\\\u001b[2m__init__.py\u001b[0m\u001b]8;;\u001b\\\u001b[2m:\u001b[0m\u001b]8;id=933785;file:///home/maa/anaconda3/envs/phd/lib/python3.10/site-packages/kedro/ipython/__init__.py#103\u001b\\\u001b[2m103\u001b[0m\u001b]8;;\u001b\\\n"
      ]
     },
     "metadata": {},
     "output_type": "display_data"
    },
    {
     "data": {
      "text/html": [
       "<pre style=\"white-space:pre;overflow-x:auto;line-height:normal;font-family:Menlo,'DejaVu Sans Mono',consolas,'Courier New',monospace\"><span style=\"color: #7fbfbf; text-decoration-color: #7fbfbf\">                    </span><span style=\"color: #000080; text-decoration-color: #000080\">INFO    </span> Defined global variable <span style=\"color: #008000; text-decoration-color: #008000\">'context'</span>, <span style=\"color: #008000; text-decoration-color: #008000\">'session'</span>, <span style=\"color: #008000; text-decoration-color: #008000\">'catalog'</span> and            <a href=\"file:///home/maa/anaconda3/envs/phd/lib/python3.10/site-packages/kedro/ipython/__init__.py\" target=\"_blank\"><span style=\"color: #7f7f7f; text-decoration-color: #7f7f7f\">__init__.py</span></a><span style=\"color: #7f7f7f; text-decoration-color: #7f7f7f\">:</span><a href=\"file:///home/maa/anaconda3/envs/phd/lib/python3.10/site-packages/kedro/ipython/__init__.py#104\" target=\"_blank\"><span style=\"color: #7f7f7f; text-decoration-color: #7f7f7f\">104</span></a>\n",
       "<span style=\"color: #7fbfbf; text-decoration-color: #7fbfbf\">                    </span>         <span style=\"color: #008000; text-decoration-color: #008000\">'pipelines'</span>                                                            <span style=\"color: #7f7f7f; text-decoration-color: #7f7f7f\">               </span>\n",
       "</pre>\n"
      ],
      "text/plain": [
       "\u001b[2;36m                   \u001b[0m\u001b[2;36m \u001b[0m\u001b[34mINFO    \u001b[0m Defined global variable \u001b[32m'context'\u001b[0m, \u001b[32m'session'\u001b[0m, \u001b[32m'catalog'\u001b[0m and            \u001b]8;id=715803;file:///home/maa/anaconda3/envs/phd/lib/python3.10/site-packages/kedro/ipython/__init__.py\u001b\\\u001b[2m__init__.py\u001b[0m\u001b]8;;\u001b\\\u001b[2m:\u001b[0m\u001b]8;id=406991;file:///home/maa/anaconda3/envs/phd/lib/python3.10/site-packages/kedro/ipython/__init__.py#104\u001b\\\u001b[2m104\u001b[0m\u001b]8;;\u001b\\\n",
       "\u001b[2;36m                    \u001b[0m         \u001b[32m'pipelines'\u001b[0m                                                            \u001b[2m               \u001b[0m\n"
      ]
     },
     "metadata": {},
     "output_type": "display_data"
    },
    {
     "data": {
      "text/html": [
       "<pre style=\"white-space:pre;overflow-x:auto;line-height:normal;font-family:Menlo,'DejaVu Sans Mono',consolas,'Courier New',monospace\"><span style=\"color: #7fbfbf; text-decoration-color: #7fbfbf\">                    </span><span style=\"color: #000080; text-decoration-color: #000080\">INFO    </span> Registered line magic <span style=\"color: #008000; text-decoration-color: #008000\">'run_viz'</span>                                        <a href=\"file:///home/maa/anaconda3/envs/phd/lib/python3.10/site-packages/kedro/ipython/__init__.py\" target=\"_blank\"><span style=\"color: #7f7f7f; text-decoration-color: #7f7f7f\">__init__.py</span></a><span style=\"color: #7f7f7f; text-decoration-color: #7f7f7f\">:</span><a href=\"file:///home/maa/anaconda3/envs/phd/lib/python3.10/site-packages/kedro/ipython/__init__.py#110\" target=\"_blank\"><span style=\"color: #7f7f7f; text-decoration-color: #7f7f7f\">110</span></a>\n",
       "</pre>\n"
      ],
      "text/plain": [
       "\u001b[2;36m                   \u001b[0m\u001b[2;36m \u001b[0m\u001b[34mINFO    \u001b[0m Registered line magic \u001b[32m'run_viz'\u001b[0m                                        \u001b]8;id=889638;file:///home/maa/anaconda3/envs/phd/lib/python3.10/site-packages/kedro/ipython/__init__.py\u001b\\\u001b[2m__init__.py\u001b[0m\u001b]8;;\u001b\\\u001b[2m:\u001b[0m\u001b]8;id=76477;file:///home/maa/anaconda3/envs/phd/lib/python3.10/site-packages/kedro/ipython/__init__.py#110\u001b\\\u001b[2m110\u001b[0m\u001b]8;;\u001b\\\n"
      ]
     },
     "metadata": {},
     "output_type": "display_data"
    },
    {
     "data": {
      "text/html": [
       "<pre style=\"white-space:pre;overflow-x:auto;line-height:normal;font-family:Menlo,'DejaVu Sans Mono',consolas,'Courier New',monospace\"><span style=\"color: #7fbfbf; text-decoration-color: #7fbfbf\">                    </span><span style=\"color: #000080; text-decoration-color: #000080\">INFO    </span> Loading data from <span style=\"color: #008000; text-decoration-color: #008000\">'wPCC.time_series'</span> <span style=\"font-weight: bold\">(</span>PartitionedDataSet<span style=\"font-weight: bold\">)</span><span style=\"color: #808000; text-decoration-color: #808000\">...</span>       <a href=\"file:///home/maa/anaconda3/envs/phd/lib/python3.10/site-packages/kedro/io/data_catalog.py\" target=\"_blank\"><span style=\"color: #7f7f7f; text-decoration-color: #7f7f7f\">data_catalog.py</span></a><span style=\"color: #7f7f7f; text-decoration-color: #7f7f7f\">:</span><a href=\"file:///home/maa/anaconda3/envs/phd/lib/python3.10/site-packages/kedro/io/data_catalog.py#343\" target=\"_blank\"><span style=\"color: #7f7f7f; text-decoration-color: #7f7f7f\">343</span></a>\n",
       "</pre>\n"
      ],
      "text/plain": [
       "\u001b[2;36m                   \u001b[0m\u001b[2;36m \u001b[0m\u001b[34mINFO    \u001b[0m Loading data from \u001b[32m'wPCC.time_series'\u001b[0m \u001b[1m(\u001b[0mPartitionedDataSet\u001b[1m)\u001b[0m\u001b[33m...\u001b[0m       \u001b]8;id=50452;file:///home/maa/anaconda3/envs/phd/lib/python3.10/site-packages/kedro/io/data_catalog.py\u001b\\\u001b[2mdata_catalog.py\u001b[0m\u001b]8;;\u001b\\\u001b[2m:\u001b[0m\u001b]8;id=340045;file:///home/maa/anaconda3/envs/phd/lib/python3.10/site-packages/kedro/io/data_catalog.py#343\u001b\\\u001b[2m343\u001b[0m\u001b]8;;\u001b\\\n"
      ]
     },
     "metadata": {},
     "output_type": "display_data"
    },
    {
     "data": {
      "text/html": [
       "<pre style=\"white-space:pre;overflow-x:auto;line-height:normal;font-family:Menlo,'DejaVu Sans Mono',consolas,'Courier New',monospace\"><span style=\"color: #7fbfbf; text-decoration-color: #7fbfbf\">                    </span><span style=\"color: #000080; text-decoration-color: #000080\">INFO    </span> Loading data from <span style=\"color: #008000; text-decoration-color: #008000\">'wPCC.time_series_preprocessed.ek_smooth'</span>        <a href=\"file:///home/maa/anaconda3/envs/phd/lib/python3.10/site-packages/kedro/io/data_catalog.py\" target=\"_blank\"><span style=\"color: #7f7f7f; text-decoration-color: #7f7f7f\">data_catalog.py</span></a><span style=\"color: #7f7f7f; text-decoration-color: #7f7f7f\">:</span><a href=\"file:///home/maa/anaconda3/envs/phd/lib/python3.10/site-packages/kedro/io/data_catalog.py#343\" target=\"_blank\"><span style=\"color: #7f7f7f; text-decoration-color: #7f7f7f\">343</span></a>\n",
       "<span style=\"color: #7fbfbf; text-decoration-color: #7fbfbf\">                    </span>         <span style=\"font-weight: bold\">(</span>PartitionedDataSet<span style=\"font-weight: bold\">)</span><span style=\"color: #808000; text-decoration-color: #808000\">...</span>                                            <span style=\"color: #7f7f7f; text-decoration-color: #7f7f7f\">                   </span>\n",
       "</pre>\n"
      ],
      "text/plain": [
       "\u001b[2;36m                   \u001b[0m\u001b[2;36m \u001b[0m\u001b[34mINFO    \u001b[0m Loading data from \u001b[32m'wPCC.time_series_preprocessed.ek_smooth'\u001b[0m        \u001b]8;id=134459;file:///home/maa/anaconda3/envs/phd/lib/python3.10/site-packages/kedro/io/data_catalog.py\u001b\\\u001b[2mdata_catalog.py\u001b[0m\u001b]8;;\u001b\\\u001b[2m:\u001b[0m\u001b]8;id=839661;file:///home/maa/anaconda3/envs/phd/lib/python3.10/site-packages/kedro/io/data_catalog.py#343\u001b\\\u001b[2m343\u001b[0m\u001b]8;;\u001b\\\n",
       "\u001b[2;36m                    \u001b[0m         \u001b[1m(\u001b[0mPartitionedDataSet\u001b[1m)\u001b[0m\u001b[33m...\u001b[0m                                            \u001b[2m                   \u001b[0m\n"
      ]
     },
     "metadata": {},
     "output_type": "display_data"
    },
    {
     "data": {
      "text/html": [
       "<pre style=\"white-space:pre;overflow-x:auto;line-height:normal;font-family:Menlo,'DejaVu Sans Mono',consolas,'Courier New',monospace\"><span style=\"color: #7fbfbf; text-decoration-color: #7fbfbf\">                    </span><span style=\"color: #000080; text-decoration-color: #000080\">INFO    </span> Loading data from <span style=\"color: #008000; text-decoration-color: #008000\">'wPCC.ship_data'</span> <span style=\"font-weight: bold\">(</span>YAMLDataSet<span style=\"font-weight: bold\">)</span><span style=\"color: #808000; text-decoration-color: #808000\">...</span>                <a href=\"file:///home/maa/anaconda3/envs/phd/lib/python3.10/site-packages/kedro/io/data_catalog.py\" target=\"_blank\"><span style=\"color: #7f7f7f; text-decoration-color: #7f7f7f\">data_catalog.py</span></a><span style=\"color: #7f7f7f; text-decoration-color: #7f7f7f\">:</span><a href=\"file:///home/maa/anaconda3/envs/phd/lib/python3.10/site-packages/kedro/io/data_catalog.py#343\" target=\"_blank\"><span style=\"color: #7f7f7f; text-decoration-color: #7f7f7f\">343</span></a>\n",
       "</pre>\n"
      ],
      "text/plain": [
       "\u001b[2;36m                   \u001b[0m\u001b[2;36m \u001b[0m\u001b[34mINFO    \u001b[0m Loading data from \u001b[32m'wPCC.ship_data'\u001b[0m \u001b[1m(\u001b[0mYAMLDataSet\u001b[1m)\u001b[0m\u001b[33m...\u001b[0m                \u001b]8;id=989404;file:///home/maa/anaconda3/envs/phd/lib/python3.10/site-packages/kedro/io/data_catalog.py\u001b\\\u001b[2mdata_catalog.py\u001b[0m\u001b]8;;\u001b\\\u001b[2m:\u001b[0m\u001b]8;id=990246;file:///home/maa/anaconda3/envs/phd/lib/python3.10/site-packages/kedro/io/data_catalog.py#343\u001b\\\u001b[2m343\u001b[0m\u001b]8;;\u001b\\\n"
      ]
     },
     "metadata": {},
     "output_type": "display_data"
    },
    {
     "data": {
      "text/html": [
       "<pre style=\"white-space:pre;overflow-x:auto;line-height:normal;font-family:Menlo,'DejaVu Sans Mono',consolas,'Courier New',monospace\"><span style=\"color: #7fbfbf; text-decoration-color: #7fbfbf\">                    </span><span style=\"color: #000080; text-decoration-color: #000080\">INFO    </span> Loading data from <span style=\"color: #008000; text-decoration-color: #008000\">'params:wPCC.exclude_parameters'</span>                 <a href=\"file:///home/maa/anaconda3/envs/phd/lib/python3.10/site-packages/kedro/io/data_catalog.py\" target=\"_blank\"><span style=\"color: #7f7f7f; text-decoration-color: #7f7f7f\">data_catalog.py</span></a><span style=\"color: #7f7f7f; text-decoration-color: #7f7f7f\">:</span><a href=\"file:///home/maa/anaconda3/envs/phd/lib/python3.10/site-packages/kedro/io/data_catalog.py#343\" target=\"_blank\"><span style=\"color: #7f7f7f; text-decoration-color: #7f7f7f\">343</span></a>\n",
       "<span style=\"color: #7fbfbf; text-decoration-color: #7fbfbf\">                    </span>         <span style=\"font-weight: bold\">(</span>MemoryDataSet<span style=\"font-weight: bold\">)</span><span style=\"color: #808000; text-decoration-color: #808000\">...</span>                                                 <span style=\"color: #7f7f7f; text-decoration-color: #7f7f7f\">                   </span>\n",
       "</pre>\n"
      ],
      "text/plain": [
       "\u001b[2;36m                   \u001b[0m\u001b[2;36m \u001b[0m\u001b[34mINFO    \u001b[0m Loading data from \u001b[32m'params:wPCC.exclude_parameters'\u001b[0m                 \u001b]8;id=209952;file:///home/maa/anaconda3/envs/phd/lib/python3.10/site-packages/kedro/io/data_catalog.py\u001b\\\u001b[2mdata_catalog.py\u001b[0m\u001b]8;;\u001b\\\u001b[2m:\u001b[0m\u001b]8;id=131562;file:///home/maa/anaconda3/envs/phd/lib/python3.10/site-packages/kedro/io/data_catalog.py#343\u001b\\\u001b[2m343\u001b[0m\u001b]8;;\u001b\\\n",
       "\u001b[2;36m                    \u001b[0m         \u001b[1m(\u001b[0mMemoryDataSet\u001b[1m)\u001b[0m\u001b[33m...\u001b[0m                                                 \u001b[2m                   \u001b[0m\n"
      ]
     },
     "metadata": {},
     "output_type": "display_data"
    },
    {
     "data": {
      "text/html": [
       "<pre style=\"white-space:pre;overflow-x:auto;line-height:normal;font-family:Menlo,'DejaVu Sans Mono',consolas,'Courier New',monospace\"><span style=\"color: #7fbfbf; text-decoration-color: #7fbfbf\">                    </span><span style=\"color: #000080; text-decoration-color: #000080\">INFO    </span> Loading data from <span style=\"color: #008000; text-decoration-color: #008000\">'wPCC.time_series_meta_data'</span> <span style=\"font-weight: bold\">(</span>CSVDataSet<span style=\"font-weight: bold\">)</span><span style=\"color: #808000; text-decoration-color: #808000\">...</span>     <a href=\"file:///home/maa/anaconda3/envs/phd/lib/python3.10/site-packages/kedro/io/data_catalog.py\" target=\"_blank\"><span style=\"color: #7f7f7f; text-decoration-color: #7f7f7f\">data_catalog.py</span></a><span style=\"color: #7f7f7f; text-decoration-color: #7f7f7f\">:</span><a href=\"file:///home/maa/anaconda3/envs/phd/lib/python3.10/site-packages/kedro/io/data_catalog.py#343\" target=\"_blank\"><span style=\"color: #7f7f7f; text-decoration-color: #7f7f7f\">343</span></a>\n",
       "</pre>\n"
      ],
      "text/plain": [
       "\u001b[2;36m                   \u001b[0m\u001b[2;36m \u001b[0m\u001b[34mINFO    \u001b[0m Loading data from \u001b[32m'wPCC.time_series_meta_data'\u001b[0m \u001b[1m(\u001b[0mCSVDataSet\u001b[1m)\u001b[0m\u001b[33m...\u001b[0m     \u001b]8;id=909026;file:///home/maa/anaconda3/envs/phd/lib/python3.10/site-packages/kedro/io/data_catalog.py\u001b\\\u001b[2mdata_catalog.py\u001b[0m\u001b]8;;\u001b\\\u001b[2m:\u001b[0m\u001b]8;id=874015;file:///home/maa/anaconda3/envs/phd/lib/python3.10/site-packages/kedro/io/data_catalog.py#343\u001b\\\u001b[2m343\u001b[0m\u001b]8;;\u001b\\\n"
      ]
     },
     "metadata": {},
     "output_type": "display_data"
    },
    {
     "data": {
      "text/html": [
       "<pre style=\"white-space:pre;overflow-x:auto;line-height:normal;font-family:Menlo,'DejaVu Sans Mono',consolas,'Courier New',monospace\"><span style=\"color: #7fbfbf; text-decoration-color: #7fbfbf\">                    </span><span style=\"color: #000080; text-decoration-color: #000080\">INFO    </span> Loading data from <span style=\"color: #008000; text-decoration-color: #008000\">'wPCC.models'</span> <span style=\"font-weight: bold\">(</span>PartitionedDataSet<span style=\"font-weight: bold\">)</span><span style=\"color: #808000; text-decoration-color: #808000\">...</span>            <a href=\"file:///home/maa/anaconda3/envs/phd/lib/python3.10/site-packages/kedro/io/data_catalog.py\" target=\"_blank\"><span style=\"color: #7f7f7f; text-decoration-color: #7f7f7f\">data_catalog.py</span></a><span style=\"color: #7f7f7f; text-decoration-color: #7f7f7f\">:</span><a href=\"file:///home/maa/anaconda3/envs/phd/lib/python3.10/site-packages/kedro/io/data_catalog.py#343\" target=\"_blank\"><span style=\"color: #7f7f7f; text-decoration-color: #7f7f7f\">343</span></a>\n",
       "</pre>\n"
      ],
      "text/plain": [
       "\u001b[2;36m                   \u001b[0m\u001b[2;36m \u001b[0m\u001b[34mINFO    \u001b[0m Loading data from \u001b[32m'wPCC.models'\u001b[0m \u001b[1m(\u001b[0mPartitionedDataSet\u001b[1m)\u001b[0m\u001b[33m...\u001b[0m            \u001b]8;id=835391;file:///home/maa/anaconda3/envs/phd/lib/python3.10/site-packages/kedro/io/data_catalog.py\u001b\\\u001b[2mdata_catalog.py\u001b[0m\u001b]8;;\u001b\\\u001b[2m:\u001b[0m\u001b]8;id=146055;file:///home/maa/anaconda3/envs/phd/lib/python3.10/site-packages/kedro/io/data_catalog.py#343\u001b\\\u001b[2m343\u001b[0m\u001b]8;;\u001b\\\n"
      ]
     },
     "metadata": {},
     "output_type": "display_data"
    },
    {
     "data": {
      "text/html": [
       "<pre style=\"white-space:pre;overflow-x:auto;line-height:normal;font-family:Menlo,'DejaVu Sans Mono',consolas,'Courier New',monospace\"><span style=\"color: #7fbfbf; text-decoration-color: #7fbfbf\">                    </span><span style=\"color: #000080; text-decoration-color: #000080\">INFO    </span> Loading data from <span style=\"color: #008000; text-decoration-color: #008000\">'7m.models'</span> <span style=\"font-weight: bold\">(</span>PartitionedDataSet<span style=\"font-weight: bold\">)</span><span style=\"color: #808000; text-decoration-color: #808000\">...</span>              <a href=\"file:///home/maa/anaconda3/envs/phd/lib/python3.10/site-packages/kedro/io/data_catalog.py\" target=\"_blank\"><span style=\"color: #7f7f7f; text-decoration-color: #7f7f7f\">data_catalog.py</span></a><span style=\"color: #7f7f7f; text-decoration-color: #7f7f7f\">:</span><a href=\"file:///home/maa/anaconda3/envs/phd/lib/python3.10/site-packages/kedro/io/data_catalog.py#343\" target=\"_blank\"><span style=\"color: #7f7f7f; text-decoration-color: #7f7f7f\">343</span></a>\n",
       "</pre>\n"
      ],
      "text/plain": [
       "\u001b[2;36m                   \u001b[0m\u001b[2;36m \u001b[0m\u001b[34mINFO    \u001b[0m Loading data from \u001b[32m'7m.models'\u001b[0m \u001b[1m(\u001b[0mPartitionedDataSet\u001b[1m)\u001b[0m\u001b[33m...\u001b[0m              \u001b]8;id=570317;file:///home/maa/anaconda3/envs/phd/lib/python3.10/site-packages/kedro/io/data_catalog.py\u001b\\\u001b[2mdata_catalog.py\u001b[0m\u001b]8;;\u001b\\\u001b[2m:\u001b[0m\u001b]8;id=445353;file:///home/maa/anaconda3/envs/phd/lib/python3.10/site-packages/kedro/io/data_catalog.py#343\u001b\\\u001b[2m343\u001b[0m\u001b]8;;\u001b\\\n"
      ]
     },
     "metadata": {},
     "output_type": "display_data"
    }
   ],
   "source": [
    "%reload_kedro\n",
    "ship='wPCC'\n",
    "time_series = catalog.load(f\"{ship}.time_series\")\n",
    "time_series_smooth = catalog.load(f\"{ship}.time_series_preprocessed.ek_smooth\")\n",
    "ship_data = catalog.load(f\"{ship}.ship_data\")\n",
    "exclude_parameters = catalog.load(f\"params:{ship}.exclude_parameters\")\n",
    "time_series_meta_data = catalog.load(f\"{ship}.time_series_meta_data\")\n",
    "time_series_meta_data.index = time_series_meta_data.index.astype(str)\n",
    "time_series_meta_data.rename(columns={'test_type':'test type'}, inplace=True)\n",
    "model_loader = catalog.load(f\"{ship}.models\")\n",
    "model_loader_7m = catalog.load(f\"7m.models\")\n"
   ]
  },
  {
   "cell_type": "code",
   "execution_count": 5,
   "id": "b7860aa6-0be4-45b7-a395-a7f871a25d7c",
   "metadata": {},
   "outputs": [
    {
     "data": {
      "text/plain": [
       "dict_keys(['vmm_7m_vct.MDL_hull_inverse_dynamics', 'vmm_7m_vct.VCT_MDL_resistance', 'vmm_7m_vct.vct', 'vmm_7m_vct_wind.MDL_hull_inverse_dynamics', 'vmm_7m_vct_wind.VCT_MDL_resistance', 'vmm_7m_vct_wind.vct', 'vmm_martins_simple.MDL_hull_inverse_dynamics', 'vmm_martins_simple.VCT_MDL_resistance', 'vmm_martins_simple.vct', 'vmm_martins_simple_thrust.MDL_inverse_dynamics', 'vmm_simple.VCT_MDL_resistance', 'vmm_simple.vct', 'vmm_simple_wind.VCT_MDL_resistance', 'vmm_simple_wind.vct'])"
      ]
     },
     "execution_count": 5,
     "metadata": {},
     "output_type": "execute_result"
    }
   ],
   "source": [
    "model_loader.keys()"
   ]
  },
  {
   "cell_type": "code",
   "execution_count": 6,
   "id": "05fa339a-ff8a-4c50-813d-f0e5d9d96546",
   "metadata": {},
   "outputs": [],
   "source": [
    "model= model_loader[\"vmm_7m_vct.VCT_MDL_resistance\"]()"
   ]
  },
  {
   "cell_type": "code",
   "execution_count": 7,
   "id": "478eb259-b04f-4dba-985e-de4a3e761ac1",
   "metadata": {},
   "outputs": [
    {
     "data": {
      "text/html": [
       "<pre style=\"white-space:pre;overflow-x:auto;line-height:normal;font-family:Menlo,'DejaVu Sans Mono',consolas,'Courier New',monospace\"><span style=\"color: #7fbfbf; text-decoration-color: #7fbfbf\">[07/24/23 09:45:39] </span><span style=\"color: #000080; text-decoration-color: #000080\">INFO    </span> Loading data from <span style=\"color: #008000; text-decoration-color: #008000\">'7m.ship_data'</span> <span style=\"font-weight: bold\">(</span>YAMLDataSet<span style=\"font-weight: bold\">)</span><span style=\"color: #808000; text-decoration-color: #808000\">...</span>                  <a href=\"file:///home/maa/anaconda3/envs/phd/lib/python3.10/site-packages/kedro/io/data_catalog.py\" target=\"_blank\"><span style=\"color: #7f7f7f; text-decoration-color: #7f7f7f\">data_catalog.py</span></a><span style=\"color: #7f7f7f; text-decoration-color: #7f7f7f\">:</span><a href=\"file:///home/maa/anaconda3/envs/phd/lib/python3.10/site-packages/kedro/io/data_catalog.py#343\" target=\"_blank\"><span style=\"color: #7f7f7f; text-decoration-color: #7f7f7f\">343</span></a>\n",
       "</pre>\n"
      ],
      "text/plain": [
       "\u001b[2;36m[07/24/23 09:45:39]\u001b[0m\u001b[2;36m \u001b[0m\u001b[34mINFO    \u001b[0m Loading data from \u001b[32m'7m.ship_data'\u001b[0m \u001b[1m(\u001b[0mYAMLDataSet\u001b[1m)\u001b[0m\u001b[33m...\u001b[0m                  \u001b]8;id=598338;file:///home/maa/anaconda3/envs/phd/lib/python3.10/site-packages/kedro/io/data_catalog.py\u001b\\\u001b[2mdata_catalog.py\u001b[0m\u001b]8;;\u001b\\\u001b[2m:\u001b[0m\u001b]8;id=456071;file:///home/maa/anaconda3/envs/phd/lib/python3.10/site-packages/kedro/io/data_catalog.py#343\u001b\\\u001b[2m343\u001b[0m\u001b]8;;\u001b\\\n"
      ]
     },
     "metadata": {},
     "output_type": "display_data"
    }
   ],
   "source": [
    "ship_data_7m = catalog.load(f\"7m.ship_data\")"
   ]
  },
  {
   "cell_type": "code",
   "execution_count": 8,
   "id": "b97dcc1e-0fea-4686-8880-03446cc3ad34",
   "metadata": {},
   "outputs": [],
   "source": [
    "ship_data['A_XV'] = ship_data_7m['A_XV']*ship_data_7m['scale_factor']**2/(ship_data['scale_factor']**2)\n",
    "ship_data['A_YV'] = ship_data_7m['A_YV']*ship_data_7m['scale_factor']**2/(ship_data['scale_factor']**2)\n",
    "ship_data['rho_A'] = ship_data_7m['rho_A']\n",
    "model.ship_parameters.update(ship_data)"
   ]
  },
  {
   "cell_type": "code",
   "execution_count": 9,
   "id": "11fa4e9f-2218-4ccf-a021-fd9d3894e590",
   "metadata": {},
   "outputs": [],
   "source": [
    "#A_XV: 1.120  # Transverse projected area above the waterline including superstructures\n",
    "#A_YV: 6.037  # Longitudinal projected area above the waterline including superstructures\n",
    "#rho_A: 1.225 # Mass density of air [kg/m3]"
   ]
  },
  {
   "cell_type": "code",
   "execution_count": 10,
   "id": "5d2dd989-63c7-4049-a895-031b3c30cb35",
   "metadata": {},
   "outputs": [],
   "source": [
    "data = time_series_smooth['wpcc.updated.22773.ek_smooth']()\n",
    "#data = time_series_smooth['wpcc.updated.22774.ek_smooth']()\n",
    "data['V'] = data['U'] = np.sqrt(data['u']**2 + data['v']**2)\n",
    "data['rev'] = data[['Prop/SB/Rpm', 'Prop/PS/Rpm']].mean(axis=1)\n",
    "data['twa'] = 0\n",
    "data['tws'] = 0\n"
   ]
  },
  {
   "cell_type": "code",
   "execution_count": 11,
   "id": "6cd6cf3d-6c5b-4ec1-a76d-33bc1475f30d",
   "metadata": {},
   "outputs": [],
   "source": [
    "result = model.simulate(data)"
   ]
  },
  {
   "cell_type": "code",
   "execution_count": 12,
   "id": "6e6b64f6-5204-49b2-929e-b3fc7c15c845",
   "metadata": {},
   "outputs": [
    {
     "data": {
      "image/png": "[encoded data removed]",
      "text/plain": [
       "<Figure size 640x480 with 1 Axes>"
      ]
     },
     "metadata": {},
     "output_type": "display_data"
    },
    {
     "data": {
      "image/png": "[encoded data removed]",
      "text/plain": [
       "<Figure size 640x480 with 4 Axes>"
      ]
     },
     "metadata": {},
     "output_type": "display_data"
    }
   ],
   "source": [
    "dataframes = {\n",
    "              'Experiment':data,\n",
    "              'Modular propeller rudder':result,\n",
    "             }\n",
    "ax = track_plots(dataframes=dataframes, lpp=ship_data['L'], beam=ship_data['B'], N=10)\n",
    "plot(dataframes, keys=['u','v','r','thrust']);"
   ]
  },
  {
   "cell_type": "code",
   "execution_count": 13,
   "id": "be733d1a-d38c-466b-882a-bf12ade5c2ef",
   "metadata": {},
   "outputs": [
    {
     "data": {
      "text/plain": [
       "{'hull': <vessel_manoeuvring_models.models.subsystem.PrimeEquationSubSystem at 0x7f2892ba5e70>,\n",
       " 'propellers': <vessel_manoeuvring_models.models.propeller.PropellersSystem at 0x7f2892a60df0>,\n",
       " 'rudders': <vessel_manoeuvring_models.models.semiempirical_rudder.SemiempiricalRudderSystem at 0x7f2892f09f30>,\n",
       " 'wind_force': <vessel_manoeuvring_models.models.wind_force.DummyWindForceSystem at 0x7f2892d7e590>}"
      ]
     },
     "execution_count": 13,
     "metadata": {},
     "output_type": "execute_result"
    }
   ],
   "source": [
    "model.subsystems"
   ]
  },
  {
   "cell_type": "code",
   "execution_count": 14,
   "id": "ddde628e-4336-4018-8359-f6cf54c07f7f",
   "metadata": {},
   "outputs": [],
   "source": [
    "wind_force = WindForceSystem(ship=model, create_jacobians=False)"
   ]
  },
  {
   "cell_type": "code",
   "execution_count": 15,
   "id": "0cea33e7-bd82-489a-99a6-87badb088c49",
   "metadata": {},
   "outputs": [
    {
     "data": {
      "text/plain": [
       "<function vessel_manoeuvring_models.models.wind_force.WindForceSystem.__init__.<locals>.awa_signed_angle(U, cog, psi, twa, tws)>"
      ]
     },
     "execution_count": 15,
     "metadata": {},
     "output_type": "execute_result"
    }
   ],
   "source": [
    "wind_force.lambdas['awa']"
   ]
  },
  {
   "cell_type": "code",
   "execution_count": 16,
   "id": "270e0dbc-18c7-42f4-9b4b-8e0c1c19dbde",
   "metadata": {},
   "outputs": [
    {
     "data": {
      "text/latex": [
       "$\\displaystyle cog = \\operatorname{atan}_{2}{\\left(u \\sin{\\left(\\Psi \\right)} + v \\cos{\\left(\\Psi \\right)},u \\cos{\\left(\\Psi \\right)} - v \\sin{\\left(\\Psi \\right)} \\right)}$"
      ],
      "text/plain": [
       "Eq(cog, atan2(u*sin(\\Psi) + v*cos(\\Psi), u*cos(\\Psi) - v*sin(\\Psi)))"
      ]
     },
     "metadata": {},
     "output_type": "display_data"
    },
    {
     "data": {
      "text/latex": [
       "$\\displaystyle aws = \\sqrt{U^{2} + 2 U tws \\cos{\\left(cog - twa \\right)} + tws^{2}}$"
      ],
      "text/plain": [
       "Eq(aws, sqrt(U**2 + 2*U*tws*cos(cog - twa) + tws**2))"
      ]
     },
     "metadata": {},
     "output_type": "display_data"
    },
    {
     "data": {
      "text/latex": [
       "$\\displaystyle awa = \\operatorname{atan}_{2}{\\left(U \\sin{\\left(\\Psi - cog \\right)} + tws \\sin{\\left(\\Psi - twa \\right)},- U \\cos{\\left(\\Psi - cog \\right)} - tws \\cos{\\left(\\Psi - twa \\right)} \\right)} + \\pi$"
      ],
      "text/plain": [
       "Eq(awa, atan2(U*sin(\\Psi - cog) + tws*sin(\\Psi - twa), -U*cos(\\Psi - cog) - tws*cos(\\Psi - twa)) + pi)"
      ]
     },
     "metadata": {},
     "output_type": "display_data"
    },
    {
     "data": {
      "text/latex": [
       "$\\displaystyle X_{W} = A_{XV} C_{x0} aws^{2} \\rho_{A} + A_{XV} C_{x1} aws^{2} \\rho_{A} \\left|{awa}\\right| + A_{XV} C_{x2} awa^{2} aws^{2} \\rho_{A} + A_{XV} C_{x3} awa^{2} aws^{2} \\rho_{A} \\left|{awa}\\right| + A_{XV} C_{x4} awa^{4} aws^{2} \\rho_{A} + A_{XV} C_{x5} awa^{4} aws^{2} \\rho_{A} \\left|{awa}\\right|$"
      ],
      "text/plain": [
       "Eq(X_W, A_XV*C_x0*aws**2*rho_A + A_XV*C_x1*aws**2*rho_A*Abs(awa) + A_XV*C_x2*awa**2*aws**2*rho_A + A_XV*C_x3*awa**2*aws**2*rho_A*Abs(awa) + A_XV*C_x4*awa**4*aws**2*rho_A + A_XV*C_x5*awa**4*aws**2*rho_A*Abs(awa))"
      ]
     },
     "metadata": {},
     "output_type": "display_data"
    },
    {
     "data": {
      "text/latex": [
       "$\\displaystyle Y_{W} = A_{YV} C_{y1} awa aws^{2} \\rho_{A} + A_{YV} C_{y2} awa aws^{2} \\rho_{A} \\left|{awa}\\right| + A_{YV} C_{y3} awa^{3} aws^{2} \\rho_{A}$"
      ],
      "text/plain": [
       "Eq(Y_W, A_YV*C_y1*awa*aws**2*rho_A + A_YV*C_y2*awa*aws**2*rho_A*Abs(awa) + A_YV*C_y3*awa**3*aws**2*rho_A)"
      ]
     },
     "metadata": {},
     "output_type": "display_data"
    },
    {
     "data": {
      "text/latex": [
       "$\\displaystyle N_{W} = A_{YV} C_{n1} L awa aws^{2} \\rho_{A} + A_{YV} C_{n2} L awa aws^{2} \\rho_{A} \\left|{awa}\\right| + A_{YV} C_{n3} L awa^{3} aws^{2} \\rho_{A}$"
      ],
      "text/plain": [
       "Eq(N_W, A_YV*C_n1*L*awa*aws**2*rho_A + A_YV*C_n2*L*awa*aws**2*rho_A*Abs(awa) + A_YV*C_n3*L*awa**3*aws**2*rho_A)"
      ]
     },
     "metadata": {},
     "output_type": "display_data"
    }
   ],
   "source": [
    "for eq in wind_force.equations.values():\n",
    "    display(eq)"
   ]
  },
  {
   "cell_type": "code",
   "execution_count": 17,
   "id": "9b81a870-fa49-4fc8-bd42-80ad7a7bf78d",
   "metadata": {},
   "outputs": [
    {
     "data": {
      "text/latex": [
       "$\\displaystyle aws = \\sqrt{U^{2} + 2 U tws \\cos{\\left(cog - twa \\right)} + tws^{2}}$"
      ],
      "text/plain": [
       "Eq(aws, sqrt(U**2 + 2*U*tws*cos(cog - twa) + tws**2))"
      ]
     },
     "execution_count": 17,
     "metadata": {},
     "output_type": "execute_result"
    }
   ],
   "source": [
    "wind_force.equations['aws']"
   ]
  },
  {
   "cell_type": "code",
   "execution_count": 18,
   "id": "bb1931a5-03d3-475b-99ed-ef5d6f129563",
   "metadata": {},
   "outputs": [],
   "source": [
    "def function_eq(eq):\n",
    "    return sp.Eq(sp.Function(eq.lhs)(*list(eq.rhs.free_symbols)),eq.rhs)        "
   ]
  },
  {
   "cell_type": "code",
   "execution_count": 19,
   "id": "3798666a-0ae0-476b-a3cb-da3ad66aad16",
   "metadata": {},
   "outputs": [
    {
     "data": {
      "text/latex": [
       "$\\displaystyle \\operatorname{aws}{\\left(cog,tws,twa,U \\right)} = \\sqrt{U^{2} + 2 U tws \\cos{\\left(cog - twa \\right)} + tws^{2}}$"
      ],
      "text/plain": [
       "Eq(aws(cog, tws, twa, U), sqrt(U**2 + 2*U*tws*cos(cog - twa) + tws**2))"
      ]
     },
     "execution_count": 19,
     "metadata": {},
     "output_type": "execute_result"
    }
   ],
   "source": [
    "function_eq(wind_force.equations['aws'])"
   ]
  },
  {
   "cell_type": "code",
   "execution_count": 20,
   "id": "a0e11c1b-b46b-4b42-bb9a-0f9cbc9d6c4d",
   "metadata": {},
   "outputs": [
    {
     "data": {
      "text/latex": [
       "$\\displaystyle awa = \\operatorname{atan}_{2}{\\left(U \\sin{\\left(\\Psi - cog \\right)} + tws \\sin{\\left(\\Psi - twa \\right)},- U \\cos{\\left(\\Psi - cog \\right)} - tws \\cos{\\left(\\Psi - twa \\right)} \\right)} + \\pi$"
      ],
      "text/plain": [
       "Eq(awa, atan2(U*sin(\\Psi - cog) + tws*sin(\\Psi - twa), -U*cos(\\Psi - cog) - tws*cos(\\Psi - twa)) + pi)"
      ]
     },
     "execution_count": 20,
     "metadata": {},
     "output_type": "execute_result"
    }
   ],
   "source": [
    "wind_force.equations['awa']"
   ]
  },
  {
   "cell_type": "code",
   "execution_count": 21,
   "id": "9c03c166-7b3d-4755-bafe-64ed06573d89",
   "metadata": {},
   "outputs": [
    {
     "data": {
      "text/latex": [
       "$\\displaystyle \\left(U \\cos{\\left(cog \\right)}\\right)\\mathbf{\\hat{i}_{N}} + \\left(U \\sin{\\left(cog \\right)}\\right)\\mathbf{\\hat{j}_{N}}$"
      ],
      "text/plain": [
       "(U*cos(cog))*N.i + (U*sin(cog))*N.j"
      ]
     },
     "execution_count": 21,
     "metadata": {},
     "output_type": "execute_result"
    }
   ],
   "source": [
    "from vessel_manoeuvring_models.apparent_wind import *\n",
    "V"
   ]
  },
  {
   "cell_type": "code",
   "execution_count": 22,
   "id": "14be3e79-144b-49ea-b8a9-b11d5fdd6ac7",
   "metadata": {},
   "outputs": [
    {
     "data": {
      "text/latex": [
       "$\\displaystyle \\left(u\\right)\\mathbf{\\hat{i}_{S}} + \\left(v\\right)\\mathbf{\\hat{j}_{S}}$"
      ],
      "text/plain": [
       "u*S.i + v*S.j"
      ]
     },
     "execution_count": 22,
     "metadata": {},
     "output_type": "execute_result"
    }
   ],
   "source": [
    "V_S = u * S.i + v * S.j\n",
    "V_S"
   ]
  },
  {
   "cell_type": "code",
   "execution_count": 29,
   "id": "e13710e7-6fed-434a-bd8f-17d0a9e8c2be",
   "metadata": {},
   "outputs": [
    {
     "data": {
      "text/latex": [
       "$\\displaystyle \\operatorname{CoordSys3D}\\left(N, \\left( \\left[\\begin{matrix}1 & 0 & 0\\\\0 & 1 & 0\\\\0 & 0 & 1\\end{matrix}\\right], \\  \\mathbf{\\hat{0}}\\right)\\right)$"
      ],
      "text/plain": [
       "N"
      ]
     },
     "execution_count": 29,
     "metadata": {},
     "output_type": "execute_result"
    }
   ],
   "source": [
    "N"
   ]
  },
  {
   "cell_type": "code",
   "execution_count": 23,
   "id": "7283d247-be78-4339-8574-86cb3bd364f8",
   "metadata": {},
   "outputs": [
    {
     "data": {
      "text/latex": [
       "$\\displaystyle \\left(u \\cos{\\left(\\Psi \\right)} - v \\sin{\\left(\\Psi \\right)}\\right)\\mathbf{\\hat{i}_{N}} + \\left(u \\sin{\\left(\\Psi \\right)} + v \\cos{\\left(\\Psi \\right)}\\right)\\mathbf{\\hat{j}_{N}}$"
      ],
      "text/plain": [
       "(u*cos(\\Psi) - v*sin(\\Psi))*N.i + (u*sin(\\Psi) + v*cos(\\Psi))*N.j"
      ]
     },
     "execution_count": 23,
     "metadata": {},
     "output_type": "execute_result"
    }
   ],
   "source": [
    "V_N = express(V_S,N)\n",
    "V_N"
   ]
  },
  {
   "cell_type": "code",
   "execution_count": 24,
   "id": "db3d8f60-4113-460d-af7d-f17708633e62",
   "metadata": {},
   "outputs": [
    {
     "data": {
      "text/latex": [
       "$\\displaystyle u \\sin{\\left(\\Psi \\right)} + v \\cos{\\left(\\Psi \\right)}$"
      ],
      "text/plain": [
       "u*sin(\\Psi) + v*cos(\\Psi)"
      ]
     },
     "execution_count": 24,
     "metadata": {},
     "output_type": "execute_result"
    }
   ],
   "source": [
    "V_N.dot(N.j)"
   ]
  },
  {
   "cell_type": "code",
   "execution_count": 25,
   "id": "fdf9ffc0-d046-4667-adf5-a1938542b7f5",
   "metadata": {},
   "outputs": [
    {
     "data": {
      "text/latex": [
       "$\\displaystyle u \\cos{\\left(\\Psi \\right)} - v \\sin{\\left(\\Psi \\right)}$"
      ],
      "text/plain": [
       "u*cos(\\Psi) - v*sin(\\Psi)"
      ]
     },
     "execution_count": 25,
     "metadata": {},
     "output_type": "execute_result"
    }
   ],
   "source": [
    "V_N.dot(N.i)"
   ]
  },
  {
   "cell_type": "code",
   "execution_count": 26,
   "id": "53eed469-c710-4c99-81ba-757c04765379",
   "metadata": {},
   "outputs": [
    {
     "data": {
      "text/latex": [
       "$\\displaystyle - \\frac{v}{u^{2} + v^{2}}$"
      ],
      "text/plain": [
       "-v/(u**2 + v**2)"
      ]
     },
     "execution_count": 26,
     "metadata": {},
     "output_type": "execute_result"
    }
   ],
   "source": [
    "sp.simplify(sp.atan(V_N.dot(N.j) / (V_N.dot(N.i))).diff(u))"
   ]
  },
  {
   "cell_type": "code",
   "execution_count": 27,
   "id": "b768412e-52cc-4948-833f-ffe34a3dcfb9",
   "metadata": {},
   "outputs": [
    {
     "data": {
      "text/latex": [
       "$\\displaystyle cog = \\operatorname{atan}_{2}{\\left(u \\sin{\\left(\\Psi \\right)} + v \\cos{\\left(\\Psi \\right)},u \\cos{\\left(\\Psi \\right)} - v \\sin{\\left(\\Psi \\right)} \\right)}$"
      ],
      "text/plain": [
       "Eq(cog, atan2(u*sin(\\Psi) + v*cos(\\Psi), u*cos(\\Psi) - v*sin(\\Psi)))"
      ]
     },
     "execution_count": 27,
     "metadata": {},
     "output_type": "execute_result"
    }
   ],
   "source": [
    "eq_cog = sp.Eq(cog,sp.atan2(V_N.dot(N.j), (V_N.dot(N.i))))\n",
    "eq_cog"
   ]
  },
  {
   "cell_type": "code",
   "execution_count": 28,
   "id": "230328f5-b3d2-48d7-9a7a-c6e2966538bb",
   "metadata": {},
   "outputs": [
    {
     "data": {
      "text/latex": [
       "$\\displaystyle - \\frac{v}{u^{2} + v^{2}}$"
      ],
      "text/plain": [
       "-v/(u**2 + v**2)"
      ]
     },
     "execution_count": 28,
     "metadata": {},
     "output_type": "execute_result"
    }
   ],
   "source": [
    "sp.simplify(eq_cog.rhs.diff(u))"
   ]
  },
  {
   "cell_type": "markdown",
   "id": "93ff430e-94e6-42a7-96a4-26cd9f7d83d0",
   "metadata": {},
   "source": [
    "## Coefficients"
   ]
  },
  {
   "cell_type": "code",
   "execution_count": null,
   "id": "5e1d35d3-c9a9-4caf-8fe6-60b17ff2be84",
   "metadata": {},
   "outputs": [],
   "source": [
    "wind_data_HMD = pd.read_csv(\"HMD_PCTC.wind_data.csv\", index_col=0)\n",
    "wind_data_HMD.rename(columns={column:column.lower().replace(' ','') for column in wind_data_HMD.columns}, inplace=True)\n",
    "wind_data_HMD.index=360-wind_data_HMD.index\n",
    "wind_data_HMD.index = np.deg2rad(wind_data_HMD.index)\n",
    "wind_data_HMD.index = np.mod(wind_data_HMD.index + np.pi, 2 * np.pi) - np.pi\n",
    "wind_data_HMD['awa'] = wind_data_HMD.index\n",
    "wind_data_HMD.index.name = \"awa [rad]\"\n",
    "wind_data_HMD.sort_index(inplace=True)\n",
    "wind_data_HMD.to_csv(\"../data/01_raw/7m/HMD_PCTC.wind_data.csv\", index=True)"
   ]
  },
  {
   "cell_type": "code",
   "execution_count": null,
   "id": "eca66c21-450e-406d-b708-1ddfe3cdc476",
   "metadata": {},
   "outputs": [],
   "source": [
    "from vessel_manoeuvring_models.models.wind_force import eq_C_x, eq_C_y, eq_C_n, C_x, C_y, C_n"
   ]
  },
  {
   "cell_type": "code",
   "execution_count": null,
   "id": "8561f644-6aa8-4862-9bfd-12a7060d49d3",
   "metadata": {},
   "outputs": [],
   "source": [
    "eq_to_matrix_C_x = DiffEqToMatrix(eq_C_x, label=C_x, base_features=[awa])\n",
    "eq_to_matrix_C_y = DiffEqToMatrix(eq_C_y, label=C_y, base_features=[awa])\n",
    "eq_to_matrix_C_n = DiffEqToMatrix(eq_C_n, label=C_n, base_features=[awa])"
   ]
  },
  {
   "cell_type": "code",
   "execution_count": null,
   "id": "1cf4d496-6a6a-42f5-9f33-386cd511e732",
   "metadata": {},
   "outputs": [],
   "source": [
    "eq_C_x"
   ]
  },
  {
   "cell_type": "code",
   "execution_count": null,
   "id": "90f7cf3e-c160-4c44-9f90-d13a24e259ba",
   "metadata": {},
   "outputs": [],
   "source": [
    "params_wind = {}\n",
    "for key,eq_to_matrix in zip(['cx','cy','cn'], [eq_to_matrix_C_x, eq_to_matrix_C_y, eq_to_matrix_C_n]):\n",
    "\n",
    "    X,y = eq_to_matrix.calculate_features_and_label(data=wind_data_HMD, y=wind_data_HMD[key], simplify_names=False)\n",
    "    ols = sm.OLS(y,X, hasconst=False)\n",
    "    ols_fit = ols.fit()\n",
    "    params_wind.update(ols_fit.params)\n",
    "    \n",
    "    fig,ax=plt.subplots()\n",
    "    y.plot(ax=ax,style='o', label='data')\n",
    "    y_pred = ols_fit.predict(X)\n",
    "    y_pred.plot(ax=ax, label='model')\n",
    "    ax.set_ylabel(key)\n",
    "    ax.legend()\n",
    "    \n",
    "params_wind = {key:value/2 for key,value in params_wind.items()}  # Note"
   ]
  },
  {
   "cell_type": "markdown",
   "id": "90dbd0d0-be28-4658-8d5f-cd7de0c67e17",
   "metadata": {},
   "source": [
    "## Rebuild ship model"
   ]
  },
  {
   "cell_type": "code",
   "execution_count": null,
   "id": "7505e61b-d745-44c9-8c9b-427acc486c60",
   "metadata": {},
   "outputs": [],
   "source": [
    "function_eq(wind_force.equations['X_W']).lhs"
   ]
  },
  {
   "cell_type": "code",
   "execution_count": null,
   "id": "b1d28fd5-281b-47b7-8421-96d32b638cc8",
   "metadata": {},
   "outputs": [],
   "source": [
    "X_eq = sp.Eq(model.X_eq.lhs, model.X_eq.rhs + function_eq(wind_force.equations['X_W']).lhs)\n",
    "Y_eq = sp.Eq(model.Y_eq.lhs, model.Y_eq.rhs + function_eq(wind_force.equations['Y_W']).lhs)\n",
    "N_eq = sp.Eq(model.N_eq.lhs, model.N_eq.rhs + function_eq(wind_force.equations['N_W']).lhs)"
   ]
  },
  {
   "cell_type": "code",
   "execution_count": null,
   "id": "e879bef0-ceb8-470a-b581-907b294267c5",
   "metadata": {},
   "outputs": [],
   "source": [
    "parameters = model.parameters.copy()\n",
    "parameters.update(params_wind)\n",
    "ship_parameters = model.ship_parameters.copy()\n",
    "ship_parameters.update(ship_data)"
   ]
  },
  {
   "cell_type": "code",
   "execution_count": null,
   "id": "e17bbf16-2f98-4910-968f-223d55bfd68a",
   "metadata": {},
   "outputs": [],
   "source": [
    "model_wind = model.copy()\n",
    "model_wind.__init__(X_eq=X_eq, Y_eq=Y_eq, N_eq=N_eq, \n",
    "                    parameters=parameters, \n",
    "                    ship_parameters=ship_parameters, \n",
    "                    control_keys=['delta','rev','twa','tws'], # NOTE! \n",
    "                    do_create_jacobian=False)\n",
    "model_wind.subsystems"
   ]
  },
  {
   "cell_type": "code",
   "execution_count": null,
   "id": "38afdaad-275a-4735-979c-5a0b9bfb3939",
   "metadata": {},
   "outputs": [],
   "source": [
    "assert model_wind.subsystems['propellers'].ship == model_wind\n",
    "assert model_wind.subsystems['propellers'].ship != model\n"
   ]
  },
  {
   "cell_type": "code",
   "execution_count": null,
   "id": "2676ca84-54bb-4294-a97e-f5e1c7329ec2",
   "metadata": {},
   "outputs": [],
   "source": [
    "model_wind.subsystems['wind_force'] = wind_force.copy_and_refer_other_ship(ship=model_wind)"
   ]
  },
  {
   "cell_type": "markdown",
   "id": "ba84a31a-6a50-4169-bad6-29ab783dc414",
   "metadata": {},
   "source": [
    "## Save model"
   ]
  },
  {
   "cell_type": "code",
   "execution_count": null,
   "id": "70f07e2f-bb6e-471d-965c-6f7b3ef003e7",
   "metadata": {},
   "outputs": [],
   "source": [
    "model_loader[\"MDL_modular_propeller_rudder_wind\"] = model_wind\n",
    "catalog.save(f\"{ship}.models\",model_loader)"
   ]
  },
  {
   "cell_type": "code",
   "execution_count": null,
   "id": "59a8ff82-2d72-4d06-8c42-67186e39a43f",
   "metadata": {},
   "outputs": [],
   "source": [
    "result_wind = model_wind.simulate(data)"
   ]
  },
  {
   "cell_type": "code",
   "execution_count": null,
   "id": "95085b49-25fe-4e45-9603-2b4601b03611",
   "metadata": {},
   "outputs": [],
   "source": [
    "dataframes = {\n",
    "              'Experiment':data,\n",
    "              'Modular propeller rudder':result,\n",
    "              'Modular propeller rudder wind':result_wind,\n",
    "             }\n",
    "ax = track_plots(dataframes=dataframes, lpp=ship_data['L'], beam=ship_data['B'], N=10)\n",
    "plot(dataframes, keys=['u','v','r','thrust']);"
   ]
  },
  {
   "cell_type": "code",
   "execution_count": null,
   "id": "f15708de-fdb7-4f99-8c82-2144087134be",
   "metadata": {},
   "outputs": [],
   "source": [
    "result_wind.head()"
   ]
  },
  {
   "cell_type": "code",
   "execution_count": null,
   "id": "969d2551-3de3-4b98-bcd7-948415b639cc",
   "metadata": {},
   "outputs": [],
   "source": [
    "result_wind.plot(y='awa')"
   ]
  },
  {
   "cell_type": "code",
   "execution_count": null,
   "id": "4186c3a5-893d-4d5c-aea0-d44305cea09f",
   "metadata": {},
   "outputs": [],
   "source": [
    "fig,axes=plt.subplots(nrows=3)\n",
    "fig.set_size_inches(9,9)\n",
    "for ax,key in zip(axes,['X','Y','N']):\n",
    "    mask = result_wind.columns.str.contains(key)\n",
    "    columns = list(result_wind.columns[mask])\n",
    "    columns.remove(f'{key}_D')\n",
    "    result_wind.plot(y=columns,ax=ax)"
   ]
  },
  {
   "cell_type": "code",
   "execution_count": null,
   "id": "d101b760-bd27-4717-b6dc-b3107951d58d",
   "metadata": {},
   "outputs": [],
   "source": [
    "ship_data"
   ]
  },
  {
   "cell_type": "code",
   "execution_count": null,
   "id": "d3388161-362f-41a3-b3d1-da907d56ee7d",
   "metadata": {},
   "outputs": [],
   "source": [
    "result_wind['C_x'] = result_wind['X_W'] / (result_wind['aws']**2*ship_data['A_XV']*ship_data['rho_A'])\n",
    "result_wind['C_y'] = result_wind['Y_W'] / (result_wind['aws']**2*ship_data['A_YV']*ship_data['rho_A'])\n",
    "result_wind['C_n'] = result_wind['N_W'] / (result_wind['aws']**2*ship_data['A_YV']*ship_data['L']*ship_data['rho_A'])"
   ]
  },
  {
   "cell_type": "code",
   "execution_count": null,
   "id": "e8ea4c15-e784-49c0-9e34-46cf90c3e64d",
   "metadata": {},
   "outputs": [],
   "source": [
    "result_wind.plot(x='awa', y='C_x', style='.')"
   ]
  },
  {
   "cell_type": "code",
   "execution_count": null,
   "id": "8d3c1338-7e56-4730-a828-2d64b0e25c56",
   "metadata": {},
   "outputs": [],
   "source": [
    "result_wind.plot(x='awa', y='C_y', style='.')"
   ]
  },
  {
   "cell_type": "code",
   "execution_count": null,
   "id": "b5959c40-365c-4dc6-a20d-854ae3b55beb",
   "metadata": {},
   "outputs": [],
   "source": [
    "result_wind.plot(x='awa', y='C_n', style='.')"
   ]
  },
  {
   "cell_type": "markdown",
   "id": "97f0df6e-0093-4721-acf1-1671884cd5ff",
   "metadata": {
    "tags": []
   },
   "source": [
    "## Also create a 7m model"
   ]
  },
  {
   "cell_type": "code",
   "execution_count": null,
   "id": "cccc2717-1d9e-410b-8f7f-470ab63e9131",
   "metadata": {},
   "outputs": [],
   "source": [
    "ship_data_7m"
   ]
  },
  {
   "cell_type": "code",
   "execution_count": null,
   "id": "c263e76a-1a96-4f05-8e4f-60cbad935867",
   "metadata": {},
   "outputs": [],
   "source": [
    "ship_parameters_7m = ship_parameters.copy()\n",
    "ship_parameters_7m.update(ship_data_7m)\n",
    "scale_7 = ship_data_7m['scale_factor']\n",
    "scale_5 = ship_data['scale_factor']\n",
    "scaling = scale_5/scale_7 \n",
    "ship_parameters_7m['x_p']*=scaling\n",
    "ship_parameters_7m['x_R']*=scaling\n",
    "ship_parameters_7m['A_R']*=(scale_5**2)/(scale_7**2)\n",
    "ship_parameters_7m['b_R']*=scaling\n",
    "ship_parameters_7m['r_0']=ship_parameters_7m['D']/2\n",
    "ship_parameters_7m['x']*=scaling\n"
   ]
  },
  {
   "cell_type": "code",
   "execution_count": null,
   "id": "f22b4db5-3682-4edc-8365-49607275ab33",
   "metadata": {},
   "outputs": [],
   "source": [
    "ship_parameters_7m"
   ]
  },
  {
   "cell_type": "code",
   "execution_count": null,
   "id": "7dd1a3a5-cfb0-4532-8e0b-c304e54b15c3",
   "metadata": {},
   "outputs": [],
   "source": [
    "df_ship_parameters = pd.concat((\n",
    "    pd.Series(ship_parameters_7m, name='7m'),\n",
    "    pd.Series(ship_parameters, name='5m')),axis=1).transpose()\n",
    "compare = df_ship_parameters.loc['7m']/df_ship_parameters.loc['5m']\n",
    "compare.plot.bar()"
   ]
  },
  {
   "cell_type": "code",
   "execution_count": null,
   "id": "0ae814d8-7b79-42c5-8c5c-8192d5468142",
   "metadata": {},
   "outputs": [],
   "source": [
    "mask = compare == 1\n",
    "compare.loc[mask].index"
   ]
  },
  {
   "cell_type": "code",
   "execution_count": null,
   "id": "e624601a-c7c3-4124-b7eb-ba20097e1197",
   "metadata": {},
   "outputs": [],
   "source": [
    "model_wind_7m = model_wind.copy()\n",
    "model_wind_7m.ship_parameters=ship_parameters_7m"
   ]
  },
  {
   "cell_type": "markdown",
   "id": "c62c0f8f-3ee8-4eaa-9e6c-c9e14a6d8bcd",
   "metadata": {
    "tags": []
   },
   "source": [
    "## Save model"
   ]
  },
  {
   "cell_type": "code",
   "execution_count": null,
   "id": "8d5b1132-4d35-47e8-8bba-cb936e69ae56",
   "metadata": {},
   "outputs": [],
   "source": [
    "#model_loader_7m[\"MDL_modular_propeller_rudder_wind\"] = model_wind_7m\n",
    "#catalog.save(f\"7m.models\",model_loader_7m)"
   ]
  },
  {
   "cell_type": "code",
   "execution_count": null,
   "id": "a18aca65-db0d-45e7-8ca8-5e55e7e3a5dd",
   "metadata": {},
   "outputs": [],
   "source": [
    "result_wind_7m = model_wind_7m.simulate(data)"
   ]
  },
  {
   "cell_type": "code",
   "execution_count": null,
   "id": "f9f10741-d866-4545-939c-55986ab9845e",
   "metadata": {},
   "outputs": [],
   "source": [
    "dataframes = {\n",
    "              'Modular propeller rudder wind':result_wind,\n",
    "              'Modular propeller rudder wind 7m':result_wind_7m,\n",
    "             }\n",
    "ax = track_plots(dataframes=dataframes, lpp=ship_data['L'], beam=ship_data['B'], N=10)\n",
    "plot(dataframes, keys=['u','v','r','thrust']);"
   ]
  },
  {
   "cell_type": "code",
   "execution_count": null,
   "id": "3f0ab025-6842-4261-8eeb-eadd409bcbbe",
   "metadata": {},
   "outputs": [],
   "source": [
    "from wPCC_pipeline.pipelines.brix.nodes import initial_parameters\n",
    "initial_parameters(ship_data=ship_data)"
   ]
  },
  {
   "cell_type": "code",
   "execution_count": null,
   "id": "040224aa-bc4d-49b6-a725-19702091862f",
   "metadata": {},
   "outputs": [],
   "source": [
    "ship_data_7m_ = ship_data.copy()\n",
    "scale_7 = ship_data_7m['scale_factor']\n",
    "scale_5 = ship_data['scale_factor']\n",
    "scaling = scale_5/scale_7 \n",
    "\n",
    "\n",
    "ship_data_7m_['T']*=scaling\n",
    "ship_data_7m_['L']*=scaling\n",
    "#ship_data_7m_['CB': 0.45034232324249973,\n",
    "ship_data_7m_['B']*=scaling\n",
    "#ship_data_7m_['rho': 1000,\n",
    "ship_data_7m_['x_G']*=scaling\n",
    "ship_data_7m_['m']*=scaling**3\n",
    "ship_data_7m_['I_z']*=scaling**5\n",
    "ship_data_7m_['volume']*=scaling**3\n",
    "\n",
    "initial_parameters(ship_data=ship_data_7m_)"
   ]
  },
  {
   "cell_type": "code",
   "execution_count": null,
   "id": "09a3e568-a523-4802-8d77-1e3449289cb1",
   "metadata": {},
   "outputs": [],
   "source": [
    "ship_data['B']/ship_data['T']"
   ]
  },
  {
   "cell_type": "code",
   "execution_count": null,
   "id": "03456083-1ceb-435f-97c2-88ce61b1f470",
   "metadata": {},
   "outputs": [],
   "source": [
    "ship_data_7m['B']/ship_data_7m['T']"
   ]
  }
 ],
 "metadata": {
  "kernelspec": {
   "display_name": "Kedro (phd)",
   "language": "python",
   "name": "kedro_phd"
  },
  "language_info": {
   "codemirror_mode": {
    "name": "ipython",
    "version": 3
   },
   "file_extension": ".py",
   "mimetype": "text/x-python",
   "name": "python",
   "nbconvert_exporter": "python",
   "pygments_lexer": "ipython3",
   "version": "3.10.10"
  }
 },
 "nbformat": 4,
 "nbformat_minor": 5
}
