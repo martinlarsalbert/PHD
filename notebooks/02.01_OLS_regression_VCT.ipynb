{
 "cells": [
  {
   "cell_type": "markdown",
   "id": "a5d10d0b-31a9-40c7-bfe7-69e623f01981",
   "metadata": {
    "tags": []
   },
   "source": [
    "# Regression"
   ]
  },
  {
   "cell_type": "code",
   "execution_count": null,
   "id": "8f53c436-f24d-48a6-ab4f-d673aecc956d",
   "metadata": {},
   "outputs": [],
   "source": [
    "import warnings\n",
    "warnings.filterwarnings('ignore')\n",
    "%matplotlib inline\n",
    "%load_ext autoreload\n",
    "%autoreload 2\n",
    "%config Completer.use_jedi = False"
   ]
  },
  {
   "cell_type": "code",
   "execution_count": null,
   "id": "5960263a-e8cf-4422-88d5-14004b73cace",
   "metadata": {},
   "outputs": [],
   "source": [
    "import sympy as sp\n",
    "from symseaman.seaman_symbols import *\n",
    "from symseaman.substitute_dynamic_symbols import run, lambdify, standard_substitutes, remove_bis, remove_bis_eq, standard_substitutes_eq, lower_and_abs\n",
    "from symseaman.seaman_symbol import BisSymbol\n",
    "import symseaman as ss\n",
    "from symseaman.seaman_symbol import expand_bis\n",
    "from symseaman.shipdict import ShipDict\n",
    "import pandas as pd\n",
    "pd.set_option('display.max_rows', 5000)\n",
    "pd.set_option('display.max_columns', 5000)\n",
    "pd.set_option('display.width', 10000)\n",
    "pd.set_option('max_colwidth', -1)\n",
    "import numpy as np\n",
    "import matplotlib.pyplot as plt\n",
    "plt.rcParams['figure.figsize'] = 12, 4 \n",
    "plt.style.use('bmh')\n",
    "import vct.bokeh_plotting as bokeh_plotting\n",
    "from numpy.testing import assert_almost_equal\n",
    "from scipy.interpolate import interp1d\n",
    "from symseaman.calculate import calculate_ship\n",
    "from symseaman.to_matrix import matrix_form, matrix_form_standard, exclude, exclude_derivatives\n",
    "from functools import reduce\n",
    "from operator import add\n",
    "from vct.regression_ols import Regression, RegressionPipeline\n",
    "import dill"
   ]
  },
  {
   "cell_type": "code",
   "execution_count": null,
   "id": "25d5fbf3-1c15-4b51-bcd5-fff57b940bc1",
   "metadata": {},
   "outputs": [],
   "source": [
    "# Read configs:\n",
    "import anyconfig\n",
    "globals_path = \"../conf/base/globals.yml\"\n",
    "global_variables = anyconfig.load(globals_path)\n",
    "ships = global_variables[\"ships\"]\n",
    "from vct.bis_system import BisSystem\n",
    "import statsmodels.api as sm\n",
    "from scipy.stats import norm"
   ]
  },
  {
   "cell_type": "code",
   "execution_count": null,
   "id": "2977c42b-d1aa-43fb-b5f7-fe227384aa48",
   "metadata": {},
   "outputs": [],
   "source": [
    "%reload_kedro\n",
    "ship_name=ships[0]\n",
    "shipdict = catalog.load(f\"{ship_name}.shipdict_base\")\n",
    "ship_dict_from_regression = catalog.load(f\"{ ship_name }.ship_dict_from_regression\")\n",
    "\n",
    "df_VCT = catalog.load(f\"{ship_name}.df_VCT\")\n",
    "df_VCT['g'] = df_VCT['g'].fillna(method='pad')\n",
    "df_VCT['rho'] = df_VCT['rho'].fillna(method='pad')\n",
    "\n",
    "thrust_keys = catalog.load(f\"params:{ship_name}.thrust_keys\")\n",
    "\n",
    "if len(thrust_keys) > 0:\n",
    "    df_VCT['tprop'] = df_VCT[thrust_keys[0]]\n",
    "else:\n",
    "    df_VCT['tprop'] = 0\n",
    "    thrust_keys=['tprop']"
   ]
  },
  {
   "cell_type": "code",
   "execution_count": null,
   "id": "0579e60d-2607-4f71-9a7e-ab475c730afe",
   "metadata": {},
   "outputs": [],
   "source": [
    "ship_name"
   ]
  },
  {
   "cell_type": "markdown",
   "id": "64a64f33-8242-47b9-82ca-370adef3a84a",
   "metadata": {},
   "source": [
    "## Regression"
   ]
  },
  {
   "cell_type": "code",
   "execution_count": null,
   "id": "7ee27770-5f45-4737-9618-b491dcd88d14",
   "metadata": {},
   "outputs": [],
   "source": [
    "meta_data = {\n",
    "    's':shipdict.rudder_coeff_data['s'],\n",
    "    #'nrud': len(shipdict.rudder_particulars),\n",
    "    #'nprop':len(shipdict.rudder_particulars),\n",
    "    #'xxprop':shipdict[\"fix_prop_data\"][0][\"xxfix\"],\n",
    "    #'tdf':shipdict[\"fix_prop_data\"][0][\"tdffix\"],\n",
    "    't': (shipdict.design_particulars[\"tf\"] + shipdict.design_particulars[\"ta\"]) / 2,\n",
    "    'disp': shipdict.design_particulars[\"disp\"],\n",
    "    'lpp':  shipdict.main_data[\"l\"],\n",
    "    'rho':  df_VCT.iloc[0][\"rho\"],\n",
    "    \n",
    "    \n",
    "}"
   ]
  },
  {
   "cell_type": "code",
   "execution_count": null,
   "id": "957b70dc-0f64-4182-9e9e-04335a4a7aea",
   "metadata": {},
   "outputs": [],
   "source": [
    "lpp_ = shipdict.main_data['l']\n",
    "t_ = shipdict.design_particulars['ta']\n",
    "disp_ = shipdict.design_particulars['disp']\n",
    "units={'fy_rudders':'force',\n",
    "       'fy_rudder':'force',\n",
    "       'tprop':'force',\n",
    "      }\n",
    "bis_system = BisSystem(lpp=lpp_, volume=disp_, units=units)\n",
    "\n",
    "interesting = list((set(bis_system.qd.keys()) & set(df_VCT.columns)) |  (set(df_VCT.columns) & set(['test type', 'model_name','fy_rudders','fy_rudder','tprop'])))\n",
    "interesting = list(set(interesting))\n",
    "df_bis = bis_system.df_to_bis(df_VCT[interesting])"
   ]
  },
  {
   "cell_type": "markdown",
   "id": "764fe8b0-6269-444c-a82d-44100250be5e",
   "metadata": {},
   "source": [
    "### $ktyh$"
   ]
  },
  {
   "cell_type": "code",
   "execution_count": null,
   "id": "aa762eb3-a2cc-49e2-b767-d00a0140002b",
   "metadata": {},
   "outputs": [],
   "source": [
    "class Regression_ktyh(Regression):\n",
    "    _eq = ss.equations.sway.eq_expanded.subs([\n",
    "    (phi.bis,0),\n",
    "    (r_w.bis,0),\n",
    "    (v_w.bis,0),\n",
    "    (delta,0)\n",
    "    ])"
   ]
  },
  {
   "cell_type": "markdown",
   "id": "7fcb6f42-2c25-4be9-a3db-6fdc8fe48a96",
   "metadata": {},
   "source": [
    "### $Y_{T\\delta}$"
   ]
  },
  {
   "cell_type": "code",
   "execution_count": null,
   "id": "3e725f47-13d5-4eb0-bec1-a79214411f15",
   "metadata": {},
   "outputs": [],
   "source": [
    "class Regression_ytd(Regression):\n",
    "    _eq = ss.equations.sway.eq_expanded.subs([\n",
    "    (phi.bis,0),\n",
    "    (r_w.bis,0),\n",
    "    (v_w.bis,0),\n",
    "    (Y_uudelta, 0),\n",
    "    ])\n",
    "    intercept=True"
   ]
  },
  {
   "cell_type": "markdown",
   "id": "1ab59cf1-a163-476f-a5ae-fa08eea3599b",
   "metadata": {},
   "source": [
    "### $Y_{uu\\delta}$"
   ]
  },
  {
   "cell_type": "code",
   "execution_count": null,
   "id": "e020807f-cfa3-4d53-86bc-37f541380eff",
   "metadata": {},
   "outputs": [],
   "source": [
    "class Regression_yuud(Regression):\n",
    "    _eq = ss.equations.sway.eq_expanded.subs([\n",
    "    (phi.bis,0),\n",
    "    (r_w.bis,0),\n",
    "    (v_w.bis,0),\n",
    "    ])"
   ]
  },
  {
   "cell_type": "code",
   "execution_count": null,
   "id": "7ad9203b-7881-4ed2-819f-b810bd3e9519",
   "metadata": {},
   "outputs": [],
   "source": [
    "class Regression_yuv(Regression):\n",
    "    _eq = ss.equations.sway.eq_expanded.subs([\n",
    "    (phi.bis,0),\n",
    "    (r_w.bis,0),\n",
    "    (delta,0),\n",
    "    (Y_uuv,0), # Note!\n",
    "    ])\n",
    "    \n",
    "class Regression_yuv_nonlinear(Regression):\n",
    "    _eq = ss.equations.sway.eq_expanded.subs([\n",
    "    (phi.bis,0),\n",
    "    (r_w.bis,0),\n",
    "    (phi.bis,0),\n",
    "    (delta,0),\n",
    "    (Y_vav,0), # Note!\n",
    "    ])\n",
    "    \n",
    "class Regression_yur(Regression):\n",
    "    _eq = ss.equations.sway.eq_expanded.subs([\n",
    "    (phi.bis,0),\n",
    "    (v_w.bis,0),\n",
    "    (phi.bis,0),\n",
    "    (delta,0),\n",
    "    (Y_uur,0), # Note!\n",
    "    ])\n",
    "    \n",
    "class Regression_nuv(Regression):\n",
    "    _eq = ss.equations.yaw.eq_expanded.subs([\n",
    "    (phi.bis,0),\n",
    "    (r_w.bis,0),\n",
    "    (phi.bis,0),\n",
    "    (delta,0),\n",
    "    (N_uuv,0), # Note!\n",
    "    ])\n",
    "    \n",
    "class Regression_nur(Regression):\n",
    "    _eq = ss.equations.yaw.eq_expanded.subs([\n",
    "    (phi.bis,0),\n",
    "    (v_w.bis,0),\n",
    "    (phi.bis,0),\n",
    "    (delta,0),\n",
    "    (N_uur,0), # Note!\n",
    "    ])"
   ]
  },
  {
   "cell_type": "code",
   "execution_count": null,
   "id": "44e7db10-5fa8-41dd-bb50-67d5f94f60a2",
   "metadata": {},
   "outputs": [],
   "source": [
    "class Regression_xxprop(Regression):\n",
    "    _eq = ss.equations.yaw.eq_expanded.subs([\n",
    "    (phi.bis,0),\n",
    "    (v_w.bis,0),\n",
    "    (r_w.bis,0),\n",
    "    (delta,0),])\n",
    "\n",
    "class Regression_xxrud(Regression):\n",
    "    _eq = ss.equations.yaw.eq_expanded.subs([\n",
    "    (phi.bis,0),\n",
    "    (v_w.bis,0),\n",
    "    (r_w.bis,0),\n",
    "    ])\n",
    "    \n"
   ]
  },
  {
   "cell_type": "code",
   "execution_count": null,
   "id": "5b12bf81-3dcc-4143-9cbc-4c37279cb21c",
   "metadata": {},
   "outputs": [],
   "source": [
    "class Regression_xvv(Regression):\n",
    "    _eq = ss.equations.surge.eq_expanded.subs([\n",
    "    (phi.bis,0),\n",
    "    #(n_prop, 0), # Note!\n",
    "    #(n_rud, 0), # Note!    \n",
    "    (delta,0),\n",
    "    (r_w.bis,0),\n",
    "    (X_res.bis,0)\n",
    "    ])\n",
    "    intercept=True"
   ]
  },
  {
   "cell_type": "code",
   "execution_count": null,
   "id": "31b40e3f-d840-4093-92de-8880a2960e63",
   "metadata": {},
   "outputs": [],
   "source": [
    "pre_set_derivatives_0 = {\n",
    "    's':shipdict.rudder_coeff_data['s'],\n",
    "    'kv':shipdict.rudder_coeff_data['kv'],\n",
    "    'kr':shipdict.rudder_coeff_data['kr'],\n",
    "}\n",
    "pipeline = RegressionPipeline(shipdict=shipdict, pre_set_derivatives=pre_set_derivatives_0)\n",
    "\n",
    "df_ = df_bis.groupby(by='test type').get_group('self propulsion')\n",
    "pipeline['ktyh'] = Regression_ktyh(df=df_)\n",
    "pipeline['xxprop'] = Regression_xxprop(df=df_)\n",
    "\n",
    "df_ = df_bis.groupby(by='test type').get_group('Thrust variation')\n",
    "pipeline['ytd'] = Regression_ytd(df=df_)\n",
    "\n",
    "df_ = df_bis.groupby(by='test type').get_group('Rudder angle')\n",
    "pipeline['yuud'] = Regression_yuud(df=df_)\n",
    "pipeline['xxrud'] = Regression_xxrud(df=df_)\n",
    "\n",
    "df_ = df_bis.groupby(by='test type').get_group('Drift angle')\n",
    "\n",
    "i=0\n",
    "for V_,df__ in df_.groupby(by='V'):\n",
    "    \n",
    "    if len(df__) < 2:\n",
    "        continue\n",
    "        \n",
    "    pipeline[f'yuv_{i}'] = Regression_yuv(df=df__, derivatives_suffix=f'_{i}')\n",
    "    pipeline[f'nuv_{i}'] = Regression_nuv(df=df__, derivatives_suffix=f'_{i}')\n",
    "    i+=1\n",
    "    \n",
    "df_ = df_bis.groupby(by='test type').get_group('Circle')\n",
    "for i,(V_,df__) in enumerate(df_.groupby(by='V')):\n",
    "    pipeline[f'yur_{i}'] = Regression_yur(df=df__, derivatives_suffix=f'_{i}')\n",
    "    pipeline[f'nur_{i}'] = Regression_nur(df=df__, derivatives_suffix=f'_{i}')"
   ]
  },
  {
   "cell_type": "code",
   "execution_count": null,
   "id": "52b4f53f-863b-4d82-b443-dd03654b37fd",
   "metadata": {},
   "outputs": [],
   "source": [
    "pipeline.keys()"
   ]
  },
  {
   "cell_type": "code",
   "execution_count": null,
   "id": "169fb606-d4fd-48e4-a71a-46db936a8adb",
   "metadata": {},
   "outputs": [],
   "source": [
    "regression = pipeline['yuv_0']\n",
    "regression.eq"
   ]
  },
  {
   "cell_type": "code",
   "execution_count": null,
   "id": "a2206bde-3e94-457f-af44-83021656a5d1",
   "metadata": {},
   "outputs": [],
   "source": [
    "pipeline.fit()\n",
    "pipeline.derivatives"
   ]
  },
  {
   "cell_type": "code",
   "execution_count": null,
   "id": "cc74382d-aec2-4e71-9d27-80c2bd59c41d",
   "metadata": {},
   "outputs": [],
   "source": [
    "pre_set_derivatives_2 = pre_set_derivatives_0.copy()\n",
    "pre_set_derivatives_2.update({\n",
    "    'yvav':pipeline.derivatives['yvav'],\n",
    "    'nvav':pipeline.derivatives['nvav'],\n",
    "    'nrar':pipeline.derivatives['nrar'],\n",
    "    #'tdf': shipdict['fix_prop_data'][0]['tdffix'],\n",
    "})\n",
    "\n",
    "pipeline2 = RegressionPipeline(shipdict=shipdict, pre_set_derivatives=pre_set_derivatives_2, \n",
    "                               pre_set_stds=pipeline.stds)\n",
    "\n",
    "df_ = df_bis.groupby(by='test type').get_group('self propulsion')\n",
    "pipeline2['ktyh'] = Regression_ktyh(df=df_)\n",
    "pipeline2['xxprop'] = Regression_xxprop(df=df_)\n",
    "\n",
    "df_ = df_bis.groupby(by='test type').get_group('Thrust variation')\n",
    "pipeline2['ytd'] = Regression_ytd(df=df_)\n",
    "\n",
    "df_ = df_bis.groupby(by='test type').get_group('Rudder angle')\n",
    "pipeline2['yuud'] = Regression_yuud(df=df_)\n",
    "pipeline2['xxrud'] = Regression_xxrud(df=df_)\n",
    "\n",
    "df_ = df_bis.groupby(by='test type').get_group('Drift angle')\n",
    "i=0\n",
    "for V_,df__ in df_.groupby(by='V'):\n",
    "    \n",
    "    if len(df__) < 2:\n",
    "        continue    \n",
    "    \n",
    "    pipeline2[f'yuv_{i}'] = Regression_yuv(df=df__, derivatives_suffix=f'_{i}')\n",
    "    pipeline2[f'nuv_{i}'] = Regression_nuv(df=df__, derivatives_suffix=f'_{i}')\n",
    "    pipeline2[f'xvv_{i}'] = Regression_xvv(df=df__, derivatives_suffix=f'_{i}')\n",
    "    i+=1\n",
    "df_ = df_bis.groupby(by='test type').get_group('Circle')\n",
    "for i,(V_,df__) in enumerate(df_.groupby(by='V')):\n",
    "    pipeline2[f'yur_{i}'] = Regression_yur(df=df__, derivatives_suffix=f'_{i}')\n",
    "    pipeline2[f'nur_{i}'] = Regression_nur(df=df__, derivatives_suffix=f'_{i}')"
   ]
  },
  {
   "cell_type": "code",
   "execution_count": null,
   "id": "e271c6b8-d24a-4696-839a-05ea53c20eb4",
   "metadata": {},
   "outputs": [],
   "source": [
    "pipeline2.fit()\n",
    "pipeline2.derivatives"
   ]
  },
  {
   "cell_type": "code",
   "execution_count": null,
   "id": "c973465e-931b-44a5-aa9f-01752bc3fa88",
   "metadata": {},
   "outputs": [],
   "source": [
    "pipeline2.stds"
   ]
  },
  {
   "cell_type": "code",
   "execution_count": null,
   "id": "7baacdbf-f1d2-4554-8924-8d26fe6490b7",
   "metadata": {},
   "outputs": [],
   "source": [
    "regression = pipeline2['xvv_1']\n",
    "regression.eq"
   ]
  },
  {
   "cell_type": "code",
   "execution_count": null,
   "id": "32ada7b3-735e-4f18-9a3a-23458b09dd93",
   "metadata": {},
   "outputs": [],
   "source": [
    "regression.eq_excluded"
   ]
  },
  {
   "cell_type": "code",
   "execution_count": null,
   "id": "e9441e41-eaab-44af-8a31-0586c618e415",
   "metadata": {},
   "outputs": [],
   "source": [
    "pipeline2['xvv_1'].summary()"
   ]
  },
  {
   "cell_type": "code",
   "execution_count": null,
   "id": "e1865c32-7776-4dd5-8c69-7b7202adf3cd",
   "metadata": {},
   "outputs": [],
   "source": [
    "pipeline2.plot_fit();"
   ]
  },
  {
   "cell_type": "code",
   "execution_count": null,
   "id": "515aad96-a54d-4dcd-aed9-ee83c68b85cc",
   "metadata": {},
   "outputs": [],
   "source": [
    "new_shipdict = pipeline2.create_shipdict()"
   ]
  },
  {
   "cell_type": "code",
   "execution_count": null,
   "id": "d719e2a3-4c12-47b4-94f3-2d865d9aade7",
   "metadata": {},
   "outputs": [],
   "source": [
    "assert new_shipdict.non_lin_coeff_data['cdlever'] == pipeline.derivatives['cdlever']"
   ]
  },
  {
   "cell_type": "code",
   "execution_count": null,
   "id": "16d2bed9-d466-469f-aceb-681f86a7eab7",
   "metadata": {},
   "outputs": [],
   "source": [
    "def assemble_derivatives(shipdict, name:str):\n",
    "    s = pd.Series({\n",
    "    \n",
    "        'cd' : shipdict.non_lin_coeff_data['cd'],\n",
    "        'cdlever' : shipdict.non_lin_coeff_data.get('cdlever',0),\n",
    "        'kr' : shipdict.rudder_coeff_data['kr'],\n",
    "        'kv' : shipdict.rudder_coeff_data['kv'],\n",
    "        'kuv': shipdict.lin_hull_coeff_data['kuv'],\n",
    "        'nur': shipdict.lin_hull_coeff_data['nur'],\n",
    "        'nuur': shipdict.lin_hull_coeff_data['nuur'],\n",
    "        'nuv': shipdict.lin_hull_coeff_data['nuv'],\n",
    "        'nuuv': shipdict.lin_hull_coeff_data['nuuv'],\n",
    "        'nuuf': shipdict.lin_hull_coeff_data['nuuf'],\n",
    "        'yuv': shipdict.lin_hull_coeff_data['yuv'],\n",
    "        'yuuv': shipdict.lin_hull_coeff_data['yuuv'],\n",
    "        'yur': shipdict.lin_hull_coeff_data['yur'],\n",
    "        'yuur': shipdict.lin_hull_coeff_data['yuur'],    \n",
    "        'xrr': shipdict.resistance_data['xrr'],\n",
    "        'xvr': shipdict.resistance_data['xvr'],\n",
    "        'xvv': shipdict.resistance_data['xvv'],\n",
    "        'yuud': shipdict.rudder_coeff_data['yuud'],\n",
    "        'ytd': shipdict.rudder_coeff_data['ytd'],\n",
    "        's': shipdict.rudder_coeff_data['s'],\n",
    "        'xyrd': shipdict.rudder_coeff_data['xyrd'],\n",
    "        'xxrud' : shipdict.rudder_particulars[0]['xxrud'],\n",
    "        \n",
    "    }, name=name)\n",
    "    return s"
   ]
  },
  {
   "cell_type": "code",
   "execution_count": null,
   "id": "54a38f8f-98de-4c7e-8f78-619e73d1201d",
   "metadata": {},
   "outputs": [],
   "source": [
    "df_coefficients = pd.DataFrame([\n",
    "    assemble_derivatives(shipdict=shipdict,name='base'),\n",
    "    assemble_derivatives(shipdict=new_shipdict,name='regression'),\n",
    "    \n",
    "])"
   ]
  },
  {
   "cell_type": "code",
   "execution_count": null,
   "id": "a34f3d9a-7023-4334-82ce-32123c87edd3",
   "metadata": {},
   "outputs": [],
   "source": [
    "df_coefficients"
   ]
  },
  {
   "cell_type": "code",
   "execution_count": null,
   "id": "7efcea93-541f-4009-b195-db3d371cacef",
   "metadata": {},
   "outputs": [],
   "source": [
    "ncols = 3\n",
    "nrows = int(np.ceil(len(df_coefficients.columns)/ncols))\n",
    "fig,axes = plt.subplots(nrows=nrows, ncols=ncols)\n",
    "fig.set_size_inches(15,15)\n",
    "for ax, key in zip(axes.flatten(), df_coefficients):\n",
    "    \n",
    "    df_coefficients[key].plot.barh(ax=ax)\n",
    "    ax.set_title(key)\n",
    "    \n",
    "    amplitude = df_coefficients[key].max() - df_coefficients[key].min()\n",
    "    ax.set_xlim(df_coefficients[key].min()-0.1*amplitude, df_coefficients[key].max()+0.1*amplitude)\n",
    "    ax.grid(True)\n",
    "    \n",
    "for ax in axes[:,1:].flatten():\n",
    "    ax.set_yticklabels([])\n",
    "    \n",
    "plt.tight_layout()"
   ]
  },
  {
   "cell_type": "code",
   "execution_count": null,
   "id": "c29a9de4-aecd-4668-b749-4c191375de8d",
   "metadata": {},
   "outputs": [],
   "source": [
    "results_sym_seaman = calculate_ship(shipdict=new_shipdict, df=df_VCT)"
   ]
  },
  {
   "cell_type": "code",
   "execution_count": null,
   "id": "080e52e0-8beb-48ed-82db-87c40a6311e4",
   "metadata": {},
   "outputs": [],
   "source": [
    "import symseaman.calculate\n",
    "symseaman.calculate.lambda_surge"
   ]
  },
  {
   "cell_type": "code",
   "execution_count": null,
   "id": "5e718693-c5f9-402f-b690-3a55d61f3b6d",
   "metadata": {},
   "outputs": [],
   "source": [
    "results = pd.concat((results_sym_seaman, df_VCT), axis=0, ignore_index=True)"
   ]
  },
  {
   "cell_type": "code",
   "execution_count": null,
   "id": "327c1b2e-9bb5-4674-9fa5-c90068c2def7",
   "metadata": {},
   "outputs": [],
   "source": [
    "#ys = ['fx','fy','mz','fx_hull','fy_hull','mz_hull','fx_rudder','fy_rudder','mz_rudder']\n",
    "ys = ['fx','fy','mz']\n",
    "  \n",
    "tabs = bokeh_plotting.create_tab(df_VCT = results, ys=ys, plot_height=300)"
   ]
  },
  {
   "cell_type": "markdown",
   "id": "084c4e63-0e84-4a7f-8083-3a1ae878f7a2",
   "metadata": {},
   "source": [
    "## Save"
   ]
  },
  {
   "cell_type": "code",
   "execution_count": null,
   "id": "108064a9-2639-4645-a21e-fa226cffb6cf",
   "metadata": {},
   "outputs": [],
   "source": [
    "ship_dict_from_regression['OLS'] = new_shipdict\n",
    "catalog.save(f\"{ ship_name }.ship_dict_from_regression\", data=ship_dict_from_regression)"
   ]
  },
  {
   "cell_type": "code",
   "execution_count": null,
   "id": "a4d600c4-e11d-401c-b819-fb90fe7b74c1",
   "metadata": {},
   "outputs": [],
   "source": [
    "%reload_kedro\n",
    "derivatives = catalog.load(f\"{ship_name}.derivatives\")\n",
    "derivatives_std = catalog.load(f\"{ship_name}.derivatives_std\")\n",
    "\n",
    "derivatives[\"OLS\"] = {key:float(derivative) for key,derivative in pipeline2.derivatives.items()}\n",
    "derivatives_std[\"OLS\"] = {key:float(derivative) for key,derivative in pipeline2.stds.items()}\n",
    "\n",
    "catalog.save(f\"{ship_name}.derivatives\", derivatives)\n",
    "catalog.save(f\"{ship_name}.derivatives_std\", derivatives_std)\n"
   ]
  },
  {
   "cell_type": "code",
   "execution_count": null,
   "id": "874a5192-0cc5-4bf7-a9d0-74fe19526054",
   "metadata": {},
   "outputs": [],
   "source": [
    "pipeline2.show()"
   ]
  },
  {
   "cell_type": "code",
   "execution_count": null,
   "id": "30d6fa1b-e2d9-4bb9-9ab5-7f1fe87877b4",
   "metadata": {},
   "outputs": [],
   "source": []
  }
 ],
 "metadata": {
  "kernelspec": {
   "display_name": "Kedro (phd)",
   "language": "python",
   "name": "kedro_phd"
  },
  "language_info": {
   "codemirror_mode": {
    "name": "ipython",
    "version": 3
   },
   "file_extension": ".py",
   "mimetype": "text/x-python",
   "name": "python",
   "nbconvert_exporter": "python",
   "pygments_lexer": "ipython3",
   "version": "3.10.6"
  }
 },
 "nbformat": 4,
 "nbformat_minor": 5
}
