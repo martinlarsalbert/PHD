{
 "cells": [
  {
   "cell_type": "markdown",
   "id": "a7bd79ee-f9da-4f89-991d-dc5bbbd7ae7d",
   "metadata": {},
   "source": [
    "# Semi empirical rudder forces"
   ]
  },
  {
   "cell_type": "code",
   "execution_count": 78,
   "id": "a2dc35aa-54f7-437c-a28a-43c7ba4796ce",
   "metadata": {},
   "outputs": [],
   "source": [
    "import warnings\n",
    "warnings.filterwarnings('ignore')\n",
    "%matplotlib inline\n",
    "%load_ext autoreload\n",
    "%autoreload 2\n",
    "#%config Completer.use_jedi = False"
   ]
  },
  {
   "cell_type": "code",
   "execution_count": 38,
   "id": "534a5a2b-82db-4689-b019-68a518a0ea67",
   "metadata": {},
   "outputs": [],
   "source": [
    "import pandas as pd\n",
    "pd.set_option('display.max_rows', 5000)\n",
    "pd.set_option('display.max_columns', 5000)\n",
    "pd.set_option('display.width', 10000)\n",
    "import numpy as np\n",
    "import yaml\n",
    "\n",
    "from vessel_manoeuvring_models.visualization.plot import track_plot, track_plots, plot\n",
    "from vessel_manoeuvring_models.extended_kalman_vmm import ExtendedKalman, SystemMatrixes\n",
    "from vmm_abkowitz_simplified import vmm\n",
    "#from vessel_manoeuvring_models.models.vmm_abkowitz_expanded import abkowitz_model_expanded as vmm\n",
    "\n",
    "from wPCC_pipeline.pipelines.brix.nodes import initial_parameters, extract_added_masses\n",
    "from wPCC_pipeline.pipelines.preprocess.nodes import load, add_thrust\n",
    "from wPCC_pipeline.pipelines.filter_data_extended_kalman.nodes import guess_covariance_matrixes, initial_state, extended_kalman_filter, extended_kalman_smoother\n",
    "from wPCC_pipeline.pipelines.motion_regression.nodes import predict_force, fit_motions, create_model_from_motion_regression\n",
    "from wPCC_pipeline.pipelines.prediction.nodes import simulate_euler\n",
    "from sklearn.metrics import mean_squared_error\n",
    "from vessel_manoeuvring_models.models.regression import Regression\n",
    "from vessel_manoeuvring_models.models.vmm import VMM, Simulator, ModelSimulator\n",
    "from vessel_manoeuvring_models.symbols import *\n",
    "from vessel_manoeuvring_models.parameters import df_parameters\n",
    "from vessel_manoeuvring_models.prime_system import PrimeSystem\n",
    "from wPCC_pipeline.pipelines.vct_data.nodes import vct_scaling\n",
    "p = df_parameters['symbol']\n",
    "from vessel_manoeuvring_models.models.diff_eq_to_matrix import DiffEqToMatrix\n",
    "from vessel_manoeuvring_models.substitute_dynamic_symbols import lambdify, run\n",
    "import statsmodels.api as sm\n",
    "import seaborn as sns\n",
    "\n",
    "import matplotlib.pyplot as plt\n",
    "plt.style.use('bmh')\n",
    "\n",
    "from vct.bokeh_plotting import create_tab"
   ]
  },
  {
   "cell_type": "markdown",
   "id": "1fb4d351-c2f1-4a57-9421-20d4df1b1327",
   "metadata": {
    "papermill": {
     "duration": 0.026922,
     "end_time": "2021-09-28T07:58:50.177324",
     "exception": false,
     "start_time": "2021-09-28T07:58:50.150402",
     "status": "completed"
    },
    "tags": []
   },
   "source": [
    "## Load VCT data:"
   ]
  },
  {
   "cell_type": "code",
   "execution_count": 4,
   "id": "c8f22195-ed25-4504-b4b3-a42aa3d51772",
   "metadata": {},
   "outputs": [
    {
     "data": {
      "text/html": [
       "<pre style=\"white-space:pre;overflow-x:auto;line-height:normal;font-family:Menlo,'DejaVu Sans Mono',consolas,'Courier New',monospace\"><span style=\"color: #7fbfbf; text-decoration-color: #7fbfbf\">[05/30/23 17:06:16] </span><span style=\"color: #000080; text-decoration-color: #000080\">INFO    </span> Resolved project path as: <span style=\"color: #800080; text-decoration-color: #800080\">/home/maa/dev/</span><span style=\"color: #ff00ff; text-decoration-color: #ff00ff\">PHD.</span>                           <a href=\"file:///home/maa/anaconda3/envs/phd/lib/python3.10/site-packages/kedro/ipython/__init__.py\" target=\"_blank\"><span style=\"color: #7f7f7f; text-decoration-color: #7f7f7f\">__init__.py</span></a><span style=\"color: #7f7f7f; text-decoration-color: #7f7f7f\">:</span><a href=\"file:///home/maa/anaconda3/envs/phd/lib/python3.10/site-packages/kedro/ipython/__init__.py#134\" target=\"_blank\"><span style=\"color: #7f7f7f; text-decoration-color: #7f7f7f\">134</span></a>\n",
       "<span style=\"color: #7fbfbf; text-decoration-color: #7fbfbf\">                    </span>         To set a different path, run <span style=\"color: #008000; text-decoration-color: #008000\">'%reload_kedro &lt;project_root&gt;'</span>            <span style=\"color: #7f7f7f; text-decoration-color: #7f7f7f\">               </span>\n",
       "</pre>\n"
      ],
      "text/plain": [
       "\u001b[2;36m[05/30/23 17:06:16]\u001b[0m\u001b[2;36m \u001b[0m\u001b[34mINFO    \u001b[0m Resolved project path as: \u001b[35m/home/maa/dev/\u001b[0m\u001b[95mPHD.\u001b[0m                           \u001b]8;id=361677;file:///home/maa/anaconda3/envs/phd/lib/python3.10/site-packages/kedro/ipython/__init__.py\u001b\\\u001b[2m__init__.py\u001b[0m\u001b]8;;\u001b\\\u001b[2m:\u001b[0m\u001b]8;id=247841;file:///home/maa/anaconda3/envs/phd/lib/python3.10/site-packages/kedro/ipython/__init__.py#134\u001b\\\u001b[2m134\u001b[0m\u001b]8;;\u001b\\\n",
       "\u001b[2;36m                    \u001b[0m         To set a different path, run \u001b[32m'%reload_kedro \u001b[0m\u001b[32m<\u001b[0m\u001b[32mproject_root\u001b[0m\u001b[32m>\u001b[0m\u001b[32m'\u001b[0m            \u001b[2m               \u001b[0m\n"
      ]
     },
     "metadata": {},
     "output_type": "display_data"
    },
    {
     "data": {
      "text/html": [
       "<pre style=\"white-space:pre;overflow-x:auto;line-height:normal;font-family:Menlo,'DejaVu Sans Mono',consolas,'Courier New',monospace\"><span style=\"color: #7fbfbf; text-decoration-color: #7fbfbf\">                    </span><span style=\"color: #800000; text-decoration-color: #800000\">WARNING </span> <span style=\"color: #800080; text-decoration-color: #800080\">/home/maa/anaconda3/envs/phd/lib/python3.10/site-packages/kedro/framew</span> <a href=\"file:///home/maa/anaconda3/envs/phd/lib/python3.10/warnings.py\" target=\"_blank\"><span style=\"color: #7f7f7f; text-decoration-color: #7f7f7f\">warnings.py</span></a><span style=\"color: #7f7f7f; text-decoration-color: #7f7f7f\">:</span><a href=\"file:///home/maa/anaconda3/envs/phd/lib/python3.10/warnings.py#109\" target=\"_blank\"><span style=\"color: #7f7f7f; text-decoration-color: #7f7f7f\">109</span></a>\n",
       "<span style=\"color: #7fbfbf; text-decoration-color: #7fbfbf\">                    </span>         <span style=\"color: #800080; text-decoration-color: #800080\">ork/</span><span style=\"color: #ff00ff; text-decoration-color: #ff00ff\">startup.py</span>:<span style=\"color: #008080; text-decoration-color: #008080; font-weight: bold\">98</span>: DeprecationWarning: project_version in              <span style=\"color: #7f7f7f; text-decoration-color: #7f7f7f\">               </span>\n",
       "<span style=\"color: #7fbfbf; text-decoration-color: #7fbfbf\">                    </span>         pyproject.toml is deprecated, use kedro_init_version instead           <span style=\"color: #7f7f7f; text-decoration-color: #7f7f7f\">               </span>\n",
       "<span style=\"color: #7fbfbf; text-decoration-color: #7fbfbf\">                    </span>           <span style=\"color: #800080; text-decoration-color: #800080; font-weight: bold\">warnings.warn</span><span style=\"font-weight: bold\">(</span>                                                       <span style=\"color: #7f7f7f; text-decoration-color: #7f7f7f\">               </span>\n",
       "<span style=\"color: #7fbfbf; text-decoration-color: #7fbfbf\">                    </span>                                                                                <span style=\"color: #7f7f7f; text-decoration-color: #7f7f7f\">               </span>\n",
       "</pre>\n"
      ],
      "text/plain": [
       "\u001b[2;36m                   \u001b[0m\u001b[2;36m \u001b[0m\u001b[31mWARNING \u001b[0m \u001b[35m/home/maa/anaconda3/envs/phd/lib/python3.10/site-packages/kedro/framew\u001b[0m \u001b]8;id=630314;file:///home/maa/anaconda3/envs/phd/lib/python3.10/warnings.py\u001b\\\u001b[2mwarnings.py\u001b[0m\u001b]8;;\u001b\\\u001b[2m:\u001b[0m\u001b]8;id=966285;file:///home/maa/anaconda3/envs/phd/lib/python3.10/warnings.py#109\u001b\\\u001b[2m109\u001b[0m\u001b]8;;\u001b\\\n",
       "\u001b[2;36m                    \u001b[0m         \u001b[35mork/\u001b[0m\u001b[95mstartup.py\u001b[0m:\u001b[1;36m98\u001b[0m: DeprecationWarning: project_version in              \u001b[2m               \u001b[0m\n",
       "\u001b[2;36m                    \u001b[0m         pyproject.toml is deprecated, use kedro_init_version instead           \u001b[2m               \u001b[0m\n",
       "\u001b[2;36m                    \u001b[0m           \u001b[1;35mwarnings.warn\u001b[0m\u001b[1m(\u001b[0m                                                       \u001b[2m               \u001b[0m\n",
       "\u001b[2;36m                    \u001b[0m                                                                                \u001b[2m               \u001b[0m\n"
      ]
     },
     "metadata": {},
     "output_type": "display_data"
    },
    {
     "data": {
      "text/html": [
       "<pre style=\"white-space:pre;overflow-x:auto;line-height:normal;font-family:Menlo,'DejaVu Sans Mono',consolas,'Courier New',monospace\"><span style=\"color: #7fbfbf; text-decoration-color: #7fbfbf\">[05/30/23 17:06:17] </span><span style=\"color: #000080; text-decoration-color: #000080\">INFO    </span> Kedro project phd                                                      <a href=\"file:///home/maa/anaconda3/envs/phd/lib/python3.10/site-packages/kedro/ipython/__init__.py\" target=\"_blank\"><span style=\"color: #7f7f7f; text-decoration-color: #7f7f7f\">__init__.py</span></a><span style=\"color: #7f7f7f; text-decoration-color: #7f7f7f\">:</span><a href=\"file:///home/maa/anaconda3/envs/phd/lib/python3.10/site-packages/kedro/ipython/__init__.py#103\" target=\"_blank\"><span style=\"color: #7f7f7f; text-decoration-color: #7f7f7f\">103</span></a>\n",
       "</pre>\n"
      ],
      "text/plain": [
       "\u001b[2;36m[05/30/23 17:06:17]\u001b[0m\u001b[2;36m \u001b[0m\u001b[34mINFO    \u001b[0m Kedro project phd                                                      \u001b]8;id=697972;file:///home/maa/anaconda3/envs/phd/lib/python3.10/site-packages/kedro/ipython/__init__.py\u001b\\\u001b[2m__init__.py\u001b[0m\u001b]8;;\u001b\\\u001b[2m:\u001b[0m\u001b]8;id=447951;file:///home/maa/anaconda3/envs/phd/lib/python3.10/site-packages/kedro/ipython/__init__.py#103\u001b\\\u001b[2m103\u001b[0m\u001b]8;;\u001b\\\n"
      ]
     },
     "metadata": {},
     "output_type": "display_data"
    },
    {
     "data": {
      "text/html": [
       "<pre style=\"white-space:pre;overflow-x:auto;line-height:normal;font-family:Menlo,'DejaVu Sans Mono',consolas,'Courier New',monospace\"><span style=\"color: #7fbfbf; text-decoration-color: #7fbfbf\">                    </span><span style=\"color: #000080; text-decoration-color: #000080\">INFO    </span> Defined global variable <span style=\"color: #008000; text-decoration-color: #008000\">'context'</span>, <span style=\"color: #008000; text-decoration-color: #008000\">'session'</span>, <span style=\"color: #008000; text-decoration-color: #008000\">'catalog'</span> and            <a href=\"file:///home/maa/anaconda3/envs/phd/lib/python3.10/site-packages/kedro/ipython/__init__.py\" target=\"_blank\"><span style=\"color: #7f7f7f; text-decoration-color: #7f7f7f\">__init__.py</span></a><span style=\"color: #7f7f7f; text-decoration-color: #7f7f7f\">:</span><a href=\"file:///home/maa/anaconda3/envs/phd/lib/python3.10/site-packages/kedro/ipython/__init__.py#104\" target=\"_blank\"><span style=\"color: #7f7f7f; text-decoration-color: #7f7f7f\">104</span></a>\n",
       "<span style=\"color: #7fbfbf; text-decoration-color: #7fbfbf\">                    </span>         <span style=\"color: #008000; text-decoration-color: #008000\">'pipelines'</span>                                                            <span style=\"color: #7f7f7f; text-decoration-color: #7f7f7f\">               </span>\n",
       "</pre>\n"
      ],
      "text/plain": [
       "\u001b[2;36m                   \u001b[0m\u001b[2;36m \u001b[0m\u001b[34mINFO    \u001b[0m Defined global variable \u001b[32m'context'\u001b[0m, \u001b[32m'session'\u001b[0m, \u001b[32m'catalog'\u001b[0m and            \u001b]8;id=964273;file:///home/maa/anaconda3/envs/phd/lib/python3.10/site-packages/kedro/ipython/__init__.py\u001b\\\u001b[2m__init__.py\u001b[0m\u001b]8;;\u001b\\\u001b[2m:\u001b[0m\u001b]8;id=561676;file:///home/maa/anaconda3/envs/phd/lib/python3.10/site-packages/kedro/ipython/__init__.py#104\u001b\\\u001b[2m104\u001b[0m\u001b]8;;\u001b\\\n",
       "\u001b[2;36m                    \u001b[0m         \u001b[32m'pipelines'\u001b[0m                                                            \u001b[2m               \u001b[0m\n"
      ]
     },
     "metadata": {},
     "output_type": "display_data"
    },
    {
     "data": {
      "text/html": [
       "<pre style=\"white-space:pre;overflow-x:auto;line-height:normal;font-family:Menlo,'DejaVu Sans Mono',consolas,'Courier New',monospace\"><span style=\"color: #7fbfbf; text-decoration-color: #7fbfbf\">                    </span><span style=\"color: #000080; text-decoration-color: #000080\">INFO    </span> Registered line magic <span style=\"color: #008000; text-decoration-color: #008000\">'run_viz'</span>                                        <a href=\"file:///home/maa/anaconda3/envs/phd/lib/python3.10/site-packages/kedro/ipython/__init__.py\" target=\"_blank\"><span style=\"color: #7f7f7f; text-decoration-color: #7f7f7f\">__init__.py</span></a><span style=\"color: #7f7f7f; text-decoration-color: #7f7f7f\">:</span><a href=\"file:///home/maa/anaconda3/envs/phd/lib/python3.10/site-packages/kedro/ipython/__init__.py#110\" target=\"_blank\"><span style=\"color: #7f7f7f; text-decoration-color: #7f7f7f\">110</span></a>\n",
       "</pre>\n"
      ],
      "text/plain": [
       "\u001b[2;36m                   \u001b[0m\u001b[2;36m \u001b[0m\u001b[34mINFO    \u001b[0m Registered line magic \u001b[32m'run_viz'\u001b[0m                                        \u001b]8;id=59595;file:///home/maa/anaconda3/envs/phd/lib/python3.10/site-packages/kedro/ipython/__init__.py\u001b\\\u001b[2m__init__.py\u001b[0m\u001b]8;;\u001b\\\u001b[2m:\u001b[0m\u001b]8;id=798592;file:///home/maa/anaconda3/envs/phd/lib/python3.10/site-packages/kedro/ipython/__init__.py#110\u001b\\\u001b[2m110\u001b[0m\u001b]8;;\u001b\\\n"
      ]
     },
     "metadata": {},
     "output_type": "display_data"
    },
    {
     "data": {
      "text/html": [
       "<pre style=\"white-space:pre;overflow-x:auto;line-height:normal;font-family:Menlo,'DejaVu Sans Mono',consolas,'Courier New',monospace\"><span style=\"color: #7fbfbf; text-decoration-color: #7fbfbf\">                    </span><span style=\"color: #000080; text-decoration-color: #000080\">INFO    </span> Loading data from <span style=\"color: #008000; text-decoration-color: #008000\">'wPCC.time_series'</span> <span style=\"font-weight: bold\">(</span>PartitionedDataSet<span style=\"font-weight: bold\">)</span><span style=\"color: #808000; text-decoration-color: #808000\">...</span>       <a href=\"file:///home/maa/anaconda3/envs/phd/lib/python3.10/site-packages/kedro/io/data_catalog.py\" target=\"_blank\"><span style=\"color: #7f7f7f; text-decoration-color: #7f7f7f\">data_catalog.py</span></a><span style=\"color: #7f7f7f; text-decoration-color: #7f7f7f\">:</span><a href=\"file:///home/maa/anaconda3/envs/phd/lib/python3.10/site-packages/kedro/io/data_catalog.py#343\" target=\"_blank\"><span style=\"color: #7f7f7f; text-decoration-color: #7f7f7f\">343</span></a>\n",
       "</pre>\n"
      ],
      "text/plain": [
       "\u001b[2;36m                   \u001b[0m\u001b[2;36m \u001b[0m\u001b[34mINFO    \u001b[0m Loading data from \u001b[32m'wPCC.time_series'\u001b[0m \u001b[1m(\u001b[0mPartitionedDataSet\u001b[1m)\u001b[0m\u001b[33m...\u001b[0m       \u001b]8;id=464274;file:///home/maa/anaconda3/envs/phd/lib/python3.10/site-packages/kedro/io/data_catalog.py\u001b\\\u001b[2mdata_catalog.py\u001b[0m\u001b]8;;\u001b\\\u001b[2m:\u001b[0m\u001b]8;id=954843;file:///home/maa/anaconda3/envs/phd/lib/python3.10/site-packages/kedro/io/data_catalog.py#343\u001b\\\u001b[2m343\u001b[0m\u001b]8;;\u001b\\\n"
      ]
     },
     "metadata": {},
     "output_type": "display_data"
    },
    {
     "data": {
      "text/html": [
       "<pre style=\"white-space:pre;overflow-x:auto;line-height:normal;font-family:Menlo,'DejaVu Sans Mono',consolas,'Courier New',monospace\"><span style=\"color: #7fbfbf; text-decoration-color: #7fbfbf\">                    </span><span style=\"color: #000080; text-decoration-color: #000080\">INFO    </span> Loading data from <span style=\"color: #008000; text-decoration-color: #008000\">'wPCC.df_VCT'</span> <span style=\"font-weight: bold\">(</span>CSVDataSet<span style=\"font-weight: bold\">)</span><span style=\"color: #808000; text-decoration-color: #808000\">...</span>                    <a href=\"file:///home/maa/anaconda3/envs/phd/lib/python3.10/site-packages/kedro/io/data_catalog.py\" target=\"_blank\"><span style=\"color: #7f7f7f; text-decoration-color: #7f7f7f\">data_catalog.py</span></a><span style=\"color: #7f7f7f; text-decoration-color: #7f7f7f\">:</span><a href=\"file:///home/maa/anaconda3/envs/phd/lib/python3.10/site-packages/kedro/io/data_catalog.py#343\" target=\"_blank\"><span style=\"color: #7f7f7f; text-decoration-color: #7f7f7f\">343</span></a>\n",
       "</pre>\n"
      ],
      "text/plain": [
       "\u001b[2;36m                   \u001b[0m\u001b[2;36m \u001b[0m\u001b[34mINFO    \u001b[0m Loading data from \u001b[32m'wPCC.df_VCT'\u001b[0m \u001b[1m(\u001b[0mCSVDataSet\u001b[1m)\u001b[0m\u001b[33m...\u001b[0m                    \u001b]8;id=770279;file:///home/maa/anaconda3/envs/phd/lib/python3.10/site-packages/kedro/io/data_catalog.py\u001b\\\u001b[2mdata_catalog.py\u001b[0m\u001b]8;;\u001b\\\u001b[2m:\u001b[0m\u001b]8;id=55582;file:///home/maa/anaconda3/envs/phd/lib/python3.10/site-packages/kedro/io/data_catalog.py#343\u001b\\\u001b[2m343\u001b[0m\u001b]8;;\u001b\\\n"
      ]
     },
     "metadata": {},
     "output_type": "display_data"
    },
    {
     "data": {
      "text/html": [
       "<pre style=\"white-space:pre;overflow-x:auto;line-height:normal;font-family:Menlo,'DejaVu Sans Mono',consolas,'Courier New',monospace\"><span style=\"color: #7fbfbf; text-decoration-color: #7fbfbf\">                    </span><span style=\"color: #000080; text-decoration-color: #000080\">INFO    </span> Loading data from <span style=\"color: #008000; text-decoration-color: #008000\">'wPCC.ship_data'</span> <span style=\"font-weight: bold\">(</span>YAMLDataSet<span style=\"font-weight: bold\">)</span><span style=\"color: #808000; text-decoration-color: #808000\">...</span>                <a href=\"file:///home/maa/anaconda3/envs/phd/lib/python3.10/site-packages/kedro/io/data_catalog.py\" target=\"_blank\"><span style=\"color: #7f7f7f; text-decoration-color: #7f7f7f\">data_catalog.py</span></a><span style=\"color: #7f7f7f; text-decoration-color: #7f7f7f\">:</span><a href=\"file:///home/maa/anaconda3/envs/phd/lib/python3.10/site-packages/kedro/io/data_catalog.py#343\" target=\"_blank\"><span style=\"color: #7f7f7f; text-decoration-color: #7f7f7f\">343</span></a>\n",
       "</pre>\n"
      ],
      "text/plain": [
       "\u001b[2;36m                   \u001b[0m\u001b[2;36m \u001b[0m\u001b[34mINFO    \u001b[0m Loading data from \u001b[32m'wPCC.ship_data'\u001b[0m \u001b[1m(\u001b[0mYAMLDataSet\u001b[1m)\u001b[0m\u001b[33m...\u001b[0m                \u001b]8;id=35355;file:///home/maa/anaconda3/envs/phd/lib/python3.10/site-packages/kedro/io/data_catalog.py\u001b\\\u001b[2mdata_catalog.py\u001b[0m\u001b]8;;\u001b\\\u001b[2m:\u001b[0m\u001b]8;id=459465;file:///home/maa/anaconda3/envs/phd/lib/python3.10/site-packages/kedro/io/data_catalog.py#343\u001b\\\u001b[2m343\u001b[0m\u001b]8;;\u001b\\\n"
      ]
     },
     "metadata": {},
     "output_type": "display_data"
    },
    {
     "data": {
      "text/html": [
       "<pre style=\"white-space:pre;overflow-x:auto;line-height:normal;font-family:Menlo,'DejaVu Sans Mono',consolas,'Courier New',monospace\"><span style=\"color: #7fbfbf; text-decoration-color: #7fbfbf\">                    </span><span style=\"color: #000080; text-decoration-color: #000080\">INFO    </span> Loading data from <span style=\"color: #008000; text-decoration-color: #008000\">'params:wPCC.thrust_keys'</span> <span style=\"font-weight: bold\">(</span>MemoryDataSet<span style=\"font-weight: bold\">)</span><span style=\"color: #808000; text-decoration-color: #808000\">...</span>     <a href=\"file:///home/maa/anaconda3/envs/phd/lib/python3.10/site-packages/kedro/io/data_catalog.py\" target=\"_blank\"><span style=\"color: #7f7f7f; text-decoration-color: #7f7f7f\">data_catalog.py</span></a><span style=\"color: #7f7f7f; text-decoration-color: #7f7f7f\">:</span><a href=\"file:///home/maa/anaconda3/envs/phd/lib/python3.10/site-packages/kedro/io/data_catalog.py#343\" target=\"_blank\"><span style=\"color: #7f7f7f; text-decoration-color: #7f7f7f\">343</span></a>\n",
       "</pre>\n"
      ],
      "text/plain": [
       "\u001b[2;36m                   \u001b[0m\u001b[2;36m \u001b[0m\u001b[34mINFO    \u001b[0m Loading data from \u001b[32m'params:wPCC.thrust_keys'\u001b[0m \u001b[1m(\u001b[0mMemoryDataSet\u001b[1m)\u001b[0m\u001b[33m...\u001b[0m     \u001b]8;id=954170;file:///home/maa/anaconda3/envs/phd/lib/python3.10/site-packages/kedro/io/data_catalog.py\u001b\\\u001b[2mdata_catalog.py\u001b[0m\u001b]8;;\u001b\\\u001b[2m:\u001b[0m\u001b]8;id=205060;file:///home/maa/anaconda3/envs/phd/lib/python3.10/site-packages/kedro/io/data_catalog.py#343\u001b\\\u001b[2m343\u001b[0m\u001b]8;;\u001b\\\n"
      ]
     },
     "metadata": {},
     "output_type": "display_data"
    },
    {
     "data": {
      "text/html": [
       "<pre style=\"white-space:pre;overflow-x:auto;line-height:normal;font-family:Menlo,'DejaVu Sans Mono',consolas,'Courier New',monospace\"><span style=\"color: #7fbfbf; text-decoration-color: #7fbfbf\">                    </span><span style=\"color: #000080; text-decoration-color: #000080\">INFO    </span> Loading data from <span style=\"color: #008000; text-decoration-color: #008000\">'params:wPCC.exclude_parameters'</span>                 <a href=\"file:///home/maa/anaconda3/envs/phd/lib/python3.10/site-packages/kedro/io/data_catalog.py\" target=\"_blank\"><span style=\"color: #7f7f7f; text-decoration-color: #7f7f7f\">data_catalog.py</span></a><span style=\"color: #7f7f7f; text-decoration-color: #7f7f7f\">:</span><a href=\"file:///home/maa/anaconda3/envs/phd/lib/python3.10/site-packages/kedro/io/data_catalog.py#343\" target=\"_blank\"><span style=\"color: #7f7f7f; text-decoration-color: #7f7f7f\">343</span></a>\n",
       "<span style=\"color: #7fbfbf; text-decoration-color: #7fbfbf\">                    </span>         <span style=\"font-weight: bold\">(</span>MemoryDataSet<span style=\"font-weight: bold\">)</span><span style=\"color: #808000; text-decoration-color: #808000\">...</span>                                                 <span style=\"color: #7f7f7f; text-decoration-color: #7f7f7f\">                   </span>\n",
       "</pre>\n"
      ],
      "text/plain": [
       "\u001b[2;36m                   \u001b[0m\u001b[2;36m \u001b[0m\u001b[34mINFO    \u001b[0m Loading data from \u001b[32m'params:wPCC.exclude_parameters'\u001b[0m                 \u001b]8;id=62111;file:///home/maa/anaconda3/envs/phd/lib/python3.10/site-packages/kedro/io/data_catalog.py\u001b\\\u001b[2mdata_catalog.py\u001b[0m\u001b]8;;\u001b\\\u001b[2m:\u001b[0m\u001b]8;id=826521;file:///home/maa/anaconda3/envs/phd/lib/python3.10/site-packages/kedro/io/data_catalog.py#343\u001b\\\u001b[2m343\u001b[0m\u001b]8;;\u001b\\\n",
       "\u001b[2;36m                    \u001b[0m         \u001b[1m(\u001b[0mMemoryDataSet\u001b[1m)\u001b[0m\u001b[33m...\u001b[0m                                                 \u001b[2m                   \u001b[0m\n"
      ]
     },
     "metadata": {},
     "output_type": "display_data"
    },
    {
     "data": {
      "text/html": [
       "<pre style=\"white-space:pre;overflow-x:auto;line-height:normal;font-family:Menlo,'DejaVu Sans Mono',consolas,'Courier New',monospace\"><span style=\"color: #7fbfbf; text-decoration-color: #7fbfbf\">                    </span><span style=\"color: #000080; text-decoration-color: #000080\">INFO    </span> Loading data from <span style=\"color: #008000; text-decoration-color: #008000\">'wPCC.time_series_meta_data'</span> <span style=\"font-weight: bold\">(</span>CSVDataSet<span style=\"font-weight: bold\">)</span><span style=\"color: #808000; text-decoration-color: #808000\">...</span>     <a href=\"file:///home/maa/anaconda3/envs/phd/lib/python3.10/site-packages/kedro/io/data_catalog.py\" target=\"_blank\"><span style=\"color: #7f7f7f; text-decoration-color: #7f7f7f\">data_catalog.py</span></a><span style=\"color: #7f7f7f; text-decoration-color: #7f7f7f\">:</span><a href=\"file:///home/maa/anaconda3/envs/phd/lib/python3.10/site-packages/kedro/io/data_catalog.py#343\" target=\"_blank\"><span style=\"color: #7f7f7f; text-decoration-color: #7f7f7f\">343</span></a>\n",
       "</pre>\n"
      ],
      "text/plain": [
       "\u001b[2;36m                   \u001b[0m\u001b[2;36m \u001b[0m\u001b[34mINFO    \u001b[0m Loading data from \u001b[32m'wPCC.time_series_meta_data'\u001b[0m \u001b[1m(\u001b[0mCSVDataSet\u001b[1m)\u001b[0m\u001b[33m...\u001b[0m     \u001b]8;id=990224;file:///home/maa/anaconda3/envs/phd/lib/python3.10/site-packages/kedro/io/data_catalog.py\u001b\\\u001b[2mdata_catalog.py\u001b[0m\u001b]8;;\u001b\\\u001b[2m:\u001b[0m\u001b]8;id=289537;file:///home/maa/anaconda3/envs/phd/lib/python3.10/site-packages/kedro/io/data_catalog.py#343\u001b\\\u001b[2m343\u001b[0m\u001b]8;;\u001b\\\n"
      ]
     },
     "metadata": {},
     "output_type": "display_data"
    }
   ],
   "source": [
    "%reload_kedro\n",
    "ship='wPCC'\n",
    "time_series = catalog.load(f\"{ship}.time_series\")\n",
    "df_VCT = catalog.load(f\"{ship}.df_VCT\")\n",
    "ship_data = catalog.load(f\"{ship}.ship_data\")\n",
    "df_VCT = vct_scaling(data=df_VCT, ship_data=ship_data)\n",
    "df_VCT['U'] = df_VCT['V']\n",
    "mask = df_VCT['model_name'].isin([\n",
    "    'V2_3_R2',\n",
    "])\n",
    "df_VCT = df_VCT.loc[mask].copy()\n",
    "\n",
    "thrust_keys = catalog.load(f\"params:{ship}.thrust_keys\")\n",
    "exclude_parameters = catalog.load(f\"params:{ship}.exclude_parameters\")\n",
    "time_series_meta_data = catalog.load(f\"{ship}.time_series_meta_data\")\n",
    "time_series_meta_data.index = time_series_meta_data.index.astype(str)\n",
    "time_series_meta_data.rename(columns={'test_type':'test type'}, inplace=True)"
   ]
  },
  {
   "cell_type": "code",
   "execution_count": 5,
   "id": "2e6d58f1-0f0d-430f-ac75-15e7184afef8",
   "metadata": {},
   "outputs": [],
   "source": [
    "df_rudder = df_VCT.groupby(by='test type').get_group('Rudder angle').sort_values(by='delta')"
   ]
  },
  {
   "cell_type": "markdown",
   "id": "3d4908ea-f420-443b-ad4d-82bf7082faf0",
   "metadata": {
    "tags": []
   },
   "source": [
    "## Propeller"
   ]
  },
  {
   "cell_type": "code",
   "execution_count": 6,
   "id": "7133c441-58e5-4c88-b59c-5fd393c5a283",
   "metadata": {},
   "outputs": [
    {
     "data": {
      "text/latex": [
       "$\\displaystyle V_{A} = u \\left(1 - w_{f}\\right)$"
      ],
      "text/plain": [
       "Eq(V_A, u*(1 - w_f))"
      ]
     },
     "metadata": {},
     "output_type": "display_data"
    },
    {
     "data": {
      "text/latex": [
       "$\\displaystyle V_{inf} = V_{A} \\sqrt{C_{Th} + 1}$"
      ],
      "text/plain": [
       "Eq(V_inf, V_A*sqrt(C_Th + 1))"
      ]
     },
     "metadata": {},
     "output_type": "display_data"
    }
   ],
   "source": [
    "V_inf,V_A,C_Th,T,r_0,u,w_f,rho = sp.symbols('V_inf,V_A,C_Th,T,r_0,u,w_f,rho,')\n",
    "eq_V_A = sp.Eq(V_A, (1-w_f)*u)\n",
    "display(eq_V_A)\n",
    "eq_V_inf = sp.Eq(V_inf, V_A*sp.sqrt(1+C_Th))\n",
    "display(eq_V_inf)"
   ]
  },
  {
   "cell_type": "code",
   "execution_count": 8,
   "id": "5fca7cfc-926b-4175-ae71-9da02f70517b",
   "metadata": {},
   "outputs": [
    {
     "data": {
      "text/latex": [
       "$\\displaystyle C_{Th} = \\frac{2 T}{\\pi V_{A}^{2} r_{0}^{2} \\rho}$"
      ],
      "text/plain": [
       "Eq(C_Th, 2*T/(pi*V_A**2*r_0**2*rho))"
      ]
     },
     "execution_count": 8,
     "metadata": {},
     "output_type": "execute_result"
    }
   ],
   "source": [
    "eq_C_Th = sp.Eq(C_Th, T/(sp.Rational(1,2)*rho*V_A**2*sp.pi*(2*r_0)**2/4))\n",
    "eq_C_Th"
   ]
  },
  {
   "cell_type": "code",
   "execution_count": 9,
   "id": "f8d5ce13-d6cc-418e-83cb-84c964149ac7",
   "metadata": {},
   "outputs": [
    {
     "data": {
      "text/latex": [
       "$\\displaystyle r_{inf} = r_{0} \\sqrt{\\frac{V_{A}}{2 V_{inf}} + \\frac{1}{2}}$"
      ],
      "text/plain": [
       "Eq(r_inf, r_0*sqrt(V_A/(2*V_inf) + 1/2))"
      ]
     },
     "execution_count": 9,
     "metadata": {},
     "output_type": "execute_result"
    }
   ],
   "source": [
    "r_inf = sp.symbols('r_inf')\n",
    "eq_r_inf = sp.Eq(r_inf, r_0*sp.sqrt(sp.Rational(1,2)*(1+V_A/V_inf)))\n",
    "eq_r_inf"
   ]
  },
  {
   "cell_type": "code",
   "execution_count": 10,
   "id": "f6217769-3b05-4326-84bd-dde010a9f5b7",
   "metadata": {},
   "outputs": [
    {
     "data": {
      "text/latex": [
       "$\\displaystyle r_{p} = \\frac{r_{0} \\left(\\frac{r_{inf} \\left(\\frac{x}{r_{0}}\\right)^{1.5}}{r_{0}} + \\frac{0.14 r_{inf}^{3}}{r_{0}^{3}}\\right)}{\\left(\\frac{x}{r_{0}}\\right)^{1.5} + \\frac{0.002744 r_{inf}^{3}}{r_{0}^{3}}}$"
      ],
      "text/plain": [
       "Eq(r_p, r_0*(r_inf*(x/r_0)**1.5/r_0 + 0.14*r_inf**3/r_0**3)/((x/r_0)**1.5 + 0.002744*r_inf**3/r_0**3))"
      ]
     },
     "execution_count": 10,
     "metadata": {},
     "output_type": "execute_result"
    }
   ],
   "source": [
    "r_p,x = sp.symbols('r_p,x')\n",
    "eq_r = sp.Eq(r_p, r_0*(0.14*(r_inf/r_0)**3 + (r_inf/r_0)*(x/r_0)**1.5) / ((0.14*r_inf/r_0)**3 + (x/r_0)**1.5))\n",
    "eq_r"
   ]
  },
  {
   "cell_type": "code",
   "execution_count": 11,
   "id": "70b47f65-3895-4a77-ad79-2eb772017f64",
   "metadata": {},
   "outputs": [
    {
     "data": {
      "text/latex": [
       "$\\displaystyle V_{xp} = \\frac{V_{inf} r_{inf}^{2}}{r_{p}^{2}}$"
      ],
      "text/plain": [
       "Eq(V_xp, V_inf*r_inf**2/r_p**2)"
      ]
     },
     "execution_count": 11,
     "metadata": {},
     "output_type": "execute_result"
    }
   ],
   "source": [
    "V_xp = sp.symbols('V_xp')\n",
    "eq_Vxp = sp.Eq(V_xp, V_inf*(r_inf/r_p)**2)\n",
    "eq_Vxp"
   ]
  },
  {
   "cell_type": "code",
   "execution_count": 12,
   "id": "a948e6c7-66ce-4623-bc3a-817d4e738424",
   "metadata": {},
   "outputs": [
    {
     "data": {
      "text/latex": [
       "$\\displaystyle r_{\\Delta} = \\frac{0.15 x \\left(- V_{A} + V_{xp}\\right)}{V_{A} + V_{xp}}$"
      ],
      "text/plain": [
       "Eq(r_Delta, 0.15*x*(-V_A + V_xp)/(V_A + V_xp))"
      ]
     },
     "execution_count": 12,
     "metadata": {},
     "output_type": "execute_result"
    }
   ],
   "source": [
    "r_Delta = sp.symbols('r_Delta')\n",
    "eq_r_Delta = sp.Eq(r_Delta, 0.15*x*((V_xp-V_A)/(V_xp+V_A)))\n",
    "eq_r_Delta"
   ]
  },
  {
   "cell_type": "code",
   "execution_count": 13,
   "id": "9d4e3e34-5a6c-43cd-becd-11bf5bc27442",
   "metadata": {},
   "outputs": [
    {
     "data": {
      "text/latex": [
       "$\\displaystyle V_{x} = V_{A} + \\frac{r_{p} \\left(- V_{A} + V_{xp}\\right)}{r_{\\Delta} + r_{p}}$"
      ],
      "text/plain": [
       "Eq(V_x, V_A + r_p*(-V_A + V_xp)/(r_Delta + r_p))"
      ]
     },
     "execution_count": 13,
     "metadata": {},
     "output_type": "execute_result"
    }
   ],
   "source": [
    "V_x = sp.symbols('V_x')\n",
    "eq_V_x = sp.Eq(V_x, (V_xp-V_A)*r_p/(r_p+r_Delta) + V_A)\n",
    "eq_V_x"
   ]
  },
  {
   "cell_type": "markdown",
   "id": "7babd0e9-a05f-4188-9f0c-c5760c1c61c9",
   "metadata": {},
   "source": [
    "## Rudder"
   ]
  },
  {
   "cell_type": "code",
   "execution_count": 14,
   "id": "63feeb96-ab33-466f-90ee-f0d5ac472843",
   "metadata": {},
   "outputs": [
    {
     "data": {
      "text/latex": [
       "$\\displaystyle V_{xr} = V_{x} - V_{xWave} + q z_{R} - r y_{R}$"
      ],
      "text/plain": [
       "Eq(V_xr, V_x - V_xWave + q*z_R - r*y_R)"
      ]
     },
     "metadata": {},
     "output_type": "display_data"
    },
    {
     "data": {
      "text/latex": [
       "$\\displaystyle V_{yr} = V_{yWave} + p z_{R} - r x_{R} - v$"
      ],
      "text/plain": [
       "Eq(V_yr, V_yWave + p*z_R - r*x_R - v)"
      ]
     },
     "metadata": {},
     "output_type": "display_data"
    },
    {
     "data": {
      "text/latex": [
       "$\\displaystyle V_{zr} = V_{zWave} - q x_{R} - q y_{R} - w$"
      ],
      "text/plain": [
       "Eq(V_zr, V_zWave - q*x_R - q*y_R - w)"
      ]
     },
     "metadata": {},
     "output_type": "display_data"
    }
   ],
   "source": [
    "u, v, w, p, q, r = sp.symbols('u v w p q r')\n",
    "V_xR, V_yR, V_zR = sp.symbols('V_xr V_yr V_zr')\n",
    "V_xWave, V_yWave, V_zWave = sp.symbols('V_xWave V_yWave V_zWave')\n",
    "x_R, y_R, z_R = sp.symbols('x_R y_R z_R')\n",
    "gamma = sp.symbols('gamma')\n",
    "\n",
    "eq_V_xR_wave = sp.Eq(V_xR, V_x - V_xWave + q*z_R - r*y_R)\n",
    "eq_V_yR_wave = sp.Eq(V_yR, -v + V_yWave - r*x_R + p*z_R)\n",
    "eq_V_zR_wave = sp.Eq(V_zR, -w + V_zWave - q*y_R - q*x_R)\n",
    "\n",
    "display(eq_V_xR_wave)\n",
    "display(eq_V_yR_wave)\n",
    "display(eq_V_zR_wave)\n"
   ]
  },
  {
   "cell_type": "code",
   "execution_count": 15,
   "id": "f9e182c4-9ef3-4103-a803-06986354ef70",
   "metadata": {},
   "outputs": [
    {
     "data": {
      "text/latex": [
       "$\\displaystyle V_{xr} = V_{x} + q z_{R} - r y_{R}$"
      ],
      "text/plain": [
       "Eq(V_xr, V_x + q*z_R - r*y_R)"
      ]
     },
     "metadata": {},
     "output_type": "display_data"
    },
    {
     "data": {
      "text/latex": [
       "$\\displaystyle V_{yr} = p z_{R} - r x_{R} - v$"
      ],
      "text/plain": [
       "Eq(V_yr, p*z_R - r*x_R - v)"
      ]
     },
     "metadata": {},
     "output_type": "display_data"
    },
    {
     "data": {
      "text/latex": [
       "$\\displaystyle V_{zr} = - q x_{R} - q y_{R} - w$"
      ],
      "text/plain": [
       "Eq(V_zr, -q*x_R - q*y_R - w)"
      ]
     },
     "metadata": {},
     "output_type": "display_data"
    }
   ],
   "source": [
    "eq_V_xR = eq_V_xR_wave.subs(V_xWave,0)\n",
    "eq_V_yR = eq_V_yR_wave.subs(V_yWave,0)\n",
    "eq_V_zR = eq_V_zR_wave.subs(V_zWave,0)\n",
    "\n",
    "display(eq_V_xR)\n",
    "display(eq_V_yR)\n",
    "display(eq_V_zR)"
   ]
  },
  {
   "cell_type": "code",
   "execution_count": 16,
   "id": "c5869b99-b1a2-44e9-ab3d-7b352f3b1b51",
   "metadata": {},
   "outputs": [
    {
     "data": {
      "text/latex": [
       "$\\displaystyle \\gamma = \\operatorname{atan}{\\left(\\frac{V_{yr}}{V_{xr}} \\right)}$"
      ],
      "text/plain": [
       "Eq(gamma, atan(V_yr/V_xr))"
      ]
     },
     "execution_count": 16,
     "metadata": {},
     "output_type": "execute_result"
    }
   ],
   "source": [
    "eq_gamma = sp.Eq(gamma, sp.atan(V_yR/V_xR))\n",
    "eq_gamma"
   ]
  },
  {
   "cell_type": "code",
   "execution_count": 17,
   "id": "35d5208f-c5c7-48b5-b658-b4ba7d1a948e",
   "metadata": {},
   "outputs": [
    {
     "data": {
      "text/latex": [
       "$\\displaystyle V_{R} = \\sqrt{V_{xr}^{2} + V_{yr}^{2} + V_{zr}^{2}}$"
      ],
      "text/plain": [
       "Eq(V_R, sqrt(V_xr**2 + V_yr**2 + V_zr**2))"
      ]
     },
     "execution_count": 17,
     "metadata": {},
     "output_type": "execute_result"
    }
   ],
   "source": [
    "V_R = sp.symbols('V_R')\n",
    "eq_V_R = sp.Eq(V_R, sp.sqrt(V_xR**2+V_yR**2+V_zR**2))\n",
    "eq_V_R"
   ]
  },
  {
   "cell_type": "code",
   "execution_count": 18,
   "id": "48b4f667-e923-4048-960d-c68cff0e4dc4",
   "metadata": {},
   "outputs": [],
   "source": [
    "A,A_g = sp.symbols('Lambda Lambda_g')\n",
    "delta,delta_lim = sp.symbols('delta delta_lim')"
   ]
  },
  {
   "cell_type": "code",
   "execution_count": 19,
   "id": "57213c5b-3c3e-437f-90fe-ef8ebffcc092",
   "metadata": {},
   "outputs": [],
   "source": [
    "L,D,C_L,C_D,A_R,b,kappa,C_L_tune = sp.symbols('L,D,C_L,C_D,A_R,b,kappa,C_L_tune')"
   ]
  },
  {
   "cell_type": "code",
   "execution_count": 20,
   "id": "adff4421-b2b7-4bb8-b0c8-7c70a68e936f",
   "metadata": {},
   "outputs": [
    {
     "data": {
      "text/latex": [
       "$\\displaystyle \\Lambda_{g} = \\frac{b^{2}}{A_{R}}$"
      ],
      "text/plain": [
       "Eq(Lambda_g, b**2/A_R)"
      ]
     },
     "execution_count": 20,
     "metadata": {},
     "output_type": "execute_result"
    }
   ],
   "source": [
    "eq_A_g = sp.Eq(A_g,b**2/A_R)\n",
    "eq_A_g"
   ]
  },
  {
   "cell_type": "code",
   "execution_count": 21,
   "id": "e610de24-f3db-4d4d-b4d3-083be128f04c",
   "metadata": {},
   "outputs": [
    {
     "data": {
      "text/latex": [
       "$\\displaystyle \\Lambda = \\Lambda_{g} \\left(2 - \\left|{\\frac{\\delta}{\\delta_{lim}}}\\right|\\right)$"
      ],
      "text/plain": [
       "Eq(Lambda, Lambda_g*(2 - Abs(delta/delta_lim)))"
      ]
     },
     "execution_count": 21,
     "metadata": {},
     "output_type": "execute_result"
    }
   ],
   "source": [
    "eq_A = sp.Eq(A, A_g*(2-sp.Abs(delta/delta_lim)))\n",
    "eq_A"
   ]
  },
  {
   "cell_type": "code",
   "execution_count": 22,
   "id": "13633687-15f1-4ee6-9cde-3eaf6b25d553",
   "metadata": {},
   "outputs": [
    {
     "data": {
      "text/latex": [
       "$\\displaystyle L = \\frac{A_{R} C_{L} C_{L tune} V_{R}^{2} \\rho}{2}$"
      ],
      "text/plain": [
       "Eq(L, A_R*C_L*C_L_tune*V_R**2*rho/2)"
      ]
     },
     "metadata": {},
     "output_type": "display_data"
    },
    {
     "data": {
      "text/latex": [
       "$\\displaystyle D = 0.5 A_{R} C_{D} V_{R}^{2} \\rho$"
      ],
      "text/plain": [
       "Eq(D, 0.5*A_R*C_D*V_R**2*rho)"
      ]
     },
     "metadata": {},
     "output_type": "display_data"
    }
   ],
   "source": [
    "eq_L = sp.Eq(L, C_L_tune*1/2*rho*C_L*A_R*V_R**2)\n",
    "eq_D = sp.Eq(D, 1/2*rho*C_D*A_R*V_R**2)\n",
    "display(eq_L)\n",
    "display(eq_D)"
   ]
  },
  {
   "cell_type": "code",
   "execution_count": 23,
   "id": "57f94822-0d5a-4611-b2bf-d3f8467de431",
   "metadata": {},
   "outputs": [
    {
     "data": {
      "text/latex": [
       "$\\displaystyle C_{L} = \\frac{2 \\pi \\Lambda \\left(\\Lambda + 1\\right) \\sin{\\left(\\delta + \\gamma \\kappa \\right)}}{\\left(\\Lambda + 2\\right)^{2}}$"
      ],
      "text/plain": [
       "Eq(C_L, 2*pi*Lambda*(Lambda + 1)*sin(delta + gamma*kappa)/(Lambda + 2)**2)"
      ]
     },
     "execution_count": 23,
     "metadata": {},
     "output_type": "execute_result"
    }
   ],
   "source": [
    "eq_C_L = sp.Eq(C_L, 2*sp.pi*A*(A+1)/(A+2)**2*sp.sin(delta+kappa*gamma))\n",
    "eq_C_L"
   ]
  },
  {
   "cell_type": "code",
   "execution_count": 24,
   "id": "c46777e8-9569-49e1-87eb-d5443bd20053",
   "metadata": {},
   "outputs": [
    {
     "data": {
      "text/latex": [
       "$\\displaystyle \\Lambda = 2.50285714285714$"
      ],
      "text/plain": [
       "Eq(Lambda, 2.50285714285714)"
      ]
     },
     "execution_count": 24,
     "metadata": {},
     "output_type": "execute_result"
    }
   ],
   "source": [
    "eq_A.subs([\n",
    "    (A_g,1.46),\n",
    "    (delta_lim,np.deg2rad(35)),\n",
    "    (delta,np.deg2rad(10))\n",
    "])"
   ]
  },
  {
   "cell_type": "code",
   "execution_count": 25,
   "id": "0e0dff6d-439f-4a83-9646-67999ee0d892",
   "metadata": {},
   "outputs": [
    {
     "data": {
      "text/latex": [
       "$\\displaystyle C_{L} = 0.471447268502936$"
      ],
      "text/plain": [
       "Eq(C_L, 0.471447268502936)"
      ]
     },
     "execution_count": 25,
     "metadata": {},
     "output_type": "execute_result"
    }
   ],
   "source": [
    "eq_C_L.subs([\n",
    "    (gamma,0),\n",
    "    (A,2.5),\n",
    "    (delta,np.deg2rad(10)),\n",
    "    (sp.pi,np.pi),\n",
    "])"
   ]
  },
  {
   "cell_type": "code",
   "execution_count": 26,
   "id": "b4d3b793-e8be-490b-b546-46102d8e8809",
   "metadata": {},
   "outputs": [
    {
     "data": {
      "text/latex": [
       "$\\displaystyle C_{D} = C_{D0} + \\frac{1.1 C_{L}^{2}}{\\pi \\Lambda}$"
      ],
      "text/plain": [
       "Eq(C_D, C_D0 + 1.1*C_L**2/(pi*Lambda))"
      ]
     },
     "execution_count": 26,
     "metadata": {},
     "output_type": "execute_result"
    }
   ],
   "source": [
    "C_D0 = sp.symbols('C_D0')\n",
    "eq_C_D = sp.Eq(C_D, 1.1*C_L**2/(sp.pi*A)+C_D0)\n",
    "eq_C_D"
   ]
  },
  {
   "cell_type": "code",
   "execution_count": 27,
   "id": "5c70ec77-e4fb-4fef-a699-2503f723fcc1",
   "metadata": {},
   "outputs": [
    {
     "data": {
      "text/latex": [
       "$\\displaystyle C_{D0} = 2.5 C_{F}$"
      ],
      "text/plain": [
       "Eq(C_D0, 2.5*C_F)"
      ]
     },
     "execution_count": 27,
     "metadata": {},
     "output_type": "execute_result"
    }
   ],
   "source": [
    "C_F,R_e = sp.symbols('C_F,R_e')\n",
    "eq_C_D0 = sp.Eq(C_D0, 2.5*C_F)\n",
    "eq_C_D0"
   ]
  },
  {
   "cell_type": "code",
   "execution_count": 28,
   "id": "d8b87322-2af7-4023-bc85-faaf8fa73ac1",
   "metadata": {},
   "outputs": [
    {
     "data": {
      "text/latex": [
       "$\\displaystyle C_{F} = \\frac{0.075}{\\left(\\log{\\left(R_{e} \\right)} - 2\\right)^{2}}$"
      ],
      "text/plain": [
       "Eq(C_F, 0.075/(log(R_e) - 2)**2)"
      ]
     },
     "execution_count": 28,
     "metadata": {},
     "output_type": "execute_result"
    }
   ],
   "source": [
    "eq_CF = sp.Eq(C_F, 0.075/((sp.log(R_e)-2)**2))\n",
    "eq_CF"
   ]
  },
  {
   "cell_type": "code",
   "execution_count": 29,
   "id": "61f5151b-e0e1-428d-93d9-dbb8b6cc2aa5",
   "metadata": {},
   "outputs": [
    {
     "data": {
      "text/latex": [
       "$\\displaystyle R_{e} = \\frac{V_{R} c}{\\nu}$"
      ],
      "text/plain": [
       "Eq(R_e, V_R*c/nu)"
      ]
     },
     "execution_count": 29,
     "metadata": {},
     "output_type": "execute_result"
    }
   ],
   "source": [
    "kinematic_viscosity,c = sp.symbols('nu c')\n",
    "eq_Re = sp.Eq(R_e, V_R*c/kinematic_viscosity)\n",
    "eq_Re"
   ]
  },
  {
   "cell_type": "code",
   "execution_count": 66,
   "id": "198fffe3-e387-4b5f-abb1-803a0928ee5b",
   "metadata": {},
   "outputs": [],
   "source": [
    "lambdify_equations = [\n",
    "eq_V_xR,\n",
    "eq_V_yR,\n",
    "eq_V_zR,\n",
    "eq_gamma,\n",
    "eq_V_R,\n",
    "eq_A_g,\n",
    "eq_A,\n",
    "eq_C_L,\n",
    "eq_Re,\n",
    "eq_CF,\n",
    "eq_C_D0,\n",
    "eq_C_D,\n",
    "eq_L,\n",
    "eq_D,\n",
    "]\n",
    "\n",
    "lambdas_rudd = {eq.lhs:lambdify(eq.rhs) for eq in lambdify_equations}"
   ]
  },
  {
   "cell_type": "code",
   "execution_count": 77,
   "id": "d68996b9-fac1-4240-bc84-0c899b62ee90",
   "metadata": {},
   "outputs": [
    {
     "data": {
      "text/plain": [
       "[]"
      ]
     },
     "execution_count": 77,
     "metadata": {},
     "output_type": "execute_result"
    }
   ],
   "source": [
    "lambdify_equations = [\n",
    "eq_V_xR,\n",
    "eq_V_yR,\n",
    "eq_V_zR,\n",
    "eq_gamma,\n",
    "eq_V_R,\n",
    "eq_A_g,\n",
    "eq_A,\n",
    "eq_C_L,\n",
    "eq_Re,\n",
    "eq_CF,\n",
    "eq_C_D0,\n",
    "eq_C_D,\n",
    "eq_L,\n",
    "eq_D,\n",
    "]\n",
    "sp.solve(lambdify_equations, L, )\n"
   ]
  },
  {
   "cell_type": "code",
   "execution_count": 67,
   "id": "41abd9ac-9161-4709-854e-7c0ef12bf781",
   "metadata": {},
   "outputs": [],
   "source": [
    "lambdify_equations_prop = [\n",
    "eq_V_A,\n",
    "eq_C_Th,\n",
    "eq_V_inf,\n",
    "eq_r_inf,\n",
    "eq_r,   \n",
    "eq_Vxp,\n",
    "eq_r_Delta,\n",
    "eq_V_x,\n",
    "]\n",
    "\n",
    "\n",
    "lambdas_prop = {eq.lhs:lambdify(eq.rhs) for eq in lambdify_equations_prop}"
   ]
  },
  {
   "cell_type": "code",
   "execution_count": 68,
   "id": "3280aaec-f75f-437d-9d42-f1724cd69110",
   "metadata": {},
   "outputs": [],
   "source": [
    "lambdas = {}\n",
    "lambdas.update(lambdas_prop)\n",
    "lambdas.update(lambdas_rudd)\n",
    "               "
   ]
  },
  {
   "cell_type": "markdown",
   "id": "7f698702-8582-4934-acf5-597be92550a0",
   "metadata": {},
   "source": [
    "## Calculation"
   ]
  },
  {
   "cell_type": "code",
   "execution_count": 36,
   "id": "1b84244e-5e19-44c2-b8a9-1ac921370efb",
   "metadata": {},
   "outputs": [
    {
     "data": {
      "text/html": [
       "<div>\n",
       "<style scoped>\n",
       "    .dataframe tbody tr th:only-of-type {\n",
       "        vertical-align: middle;\n",
       "    }\n",
       "\n",
       "    .dataframe tbody tr th {\n",
       "        vertical-align: top;\n",
       "    }\n",
       "\n",
       "    .dataframe thead th {\n",
       "        text-align: right;\n",
       "    }\n",
       "</style>\n",
       "<table border=\"1\" class=\"dataframe\">\n",
       "  <thead>\n",
       "    <tr style=\"text-align: right;\">\n",
       "      <th></th>\n",
       "      <th>level_0</th>\n",
       "      <th>Dp</th>\n",
       "      <th>S</th>\n",
       "      <th>S_Xgrid</th>\n",
       "      <th>S_inner_bracket_port</th>\n",
       "      <th>S_inner_bracket_stb</th>\n",
       "      <th>S_outer_bracket_port</th>\n",
       "      <th>S_outer_bracket_stb</th>\n",
       "      <th>S_rudder_port</th>\n",
       "      <th>S_rudder_stb</th>\n",
       "      <th>S_shaft_port_assembly</th>\n",
       "      <th>S_shaft_port_shaft1</th>\n",
       "      <th>S_shaft_port_shaft2</th>\n",
       "      <th>S_shaft_stb_assembly</th>\n",
       "      <th>S_shaft_stb_shaft1</th>\n",
       "      <th>S_shaft_stb_shaft2</th>\n",
       "      <th>V</th>\n",
       "      <th>beta</th>\n",
       "      <th>delta</th>\n",
       "      <th>fx</th>\n",
       "      <th>fx_Xgrid</th>\n",
       "      <th>fx_inner_bracket_port</th>\n",
       "      <th>fx_inner_bracket_stb</th>\n",
       "      <th>fx_outer_bracket_port</th>\n",
       "      <th>fx_outer_bracket_stb</th>\n",
       "      <th>fx_rudder_port</th>\n",
       "      <th>fx_rudder_stb</th>\n",
       "      <th>fx_shaft_port_assembly</th>\n",
       "      <th>fx_shaft_port_shaft1</th>\n",
       "      <th>fx_shaft_port_shaft2</th>\n",
       "      <th>fx_shaft_stb_assembly</th>\n",
       "      <th>fx_shaft_stb_shaft1</th>\n",
       "      <th>fx_shaft_stb_shaft2</th>\n",
       "      <th>fy</th>\n",
       "      <th>fy_Xgrid</th>\n",
       "      <th>fy_inner_bracket_port</th>\n",
       "      <th>fy_inner_bracket_stb</th>\n",
       "      <th>fy_outer_bracket_port</th>\n",
       "      <th>fy_outer_bracket_stb</th>\n",
       "      <th>fy_rudder_port</th>\n",
       "      <th>fy_rudder_stb</th>\n",
       "      <th>fy_shaft_port_assembly</th>\n",
       "      <th>fy_shaft_port_shaft1</th>\n",
       "      <th>fy_shaft_port_shaft2</th>\n",
       "      <th>fy_shaft_stb_assembly</th>\n",
       "      <th>fy_shaft_stb_shaft1</th>\n",
       "      <th>fy_shaft_stb_shaft2</th>\n",
       "      <th>fz</th>\n",
       "      <th>fz_Xgrid</th>\n",
       "      <th>fz_inner_bracket_port</th>\n",
       "      <th>fz_inner_bracket_stb</th>\n",
       "      <th>fz_outer_bracket_port</th>\n",
       "      <th>fz_outer_bracket_stb</th>\n",
       "      <th>fz_rudder_port</th>\n",
       "      <th>fz_rudder_stb</th>\n",
       "      <th>fz_shaft_port_assembly</th>\n",
       "      <th>fz_shaft_port_shaft1</th>\n",
       "      <th>fz_shaft_port_shaft2</th>\n",
       "      <th>fz_shaft_stb_assembly</th>\n",
       "      <th>fz_shaft_stb_shaft1</th>\n",
       "      <th>fz_shaft_stb_shaft2</th>\n",
       "      <th>g</th>\n",
       "      <th>lpp</th>\n",
       "      <th>mx</th>\n",
       "      <th>mx_Xgrid</th>\n",
       "      <th>mx_inner_bracket_port</th>\n",
       "      <th>mx_inner_bracket_stb</th>\n",
       "      <th>mx_outer_bracket_port</th>\n",
       "      <th>mx_outer_bracket_stb</th>\n",
       "      <th>mx_rudder_port</th>\n",
       "      <th>mx_rudder_stb</th>\n",
       "      <th>mx_shaft_port_assembly</th>\n",
       "      <th>mx_shaft_port_shaft1</th>\n",
       "      <th>mx_shaft_port_shaft2</th>\n",
       "      <th>mx_shaft_stb_assembly</th>\n",
       "      <th>mx_shaft_stb_shaft1</th>\n",
       "      <th>mx_shaft_stb_shaft2</th>\n",
       "      <th>my</th>\n",
       "      <th>my_Xgrid</th>\n",
       "      <th>my_inner_bracket_port</th>\n",
       "      <th>my_inner_bracket_stb</th>\n",
       "      <th>my_outer_bracket_port</th>\n",
       "      <th>my_outer_bracket_stb</th>\n",
       "      <th>my_rudder_port</th>\n",
       "      <th>my_rudder_stb</th>\n",
       "      <th>my_shaft_port_assembly</th>\n",
       "      <th>my_shaft_port_shaft1</th>\n",
       "      <th>my_shaft_port_shaft2</th>\n",
       "      <th>my_shaft_stb_assembly</th>\n",
       "      <th>my_shaft_stb_shaft1</th>\n",
       "      <th>my_shaft_stb_shaft2</th>\n",
       "      <th>mz</th>\n",
       "      <th>mz_Xgrid</th>\n",
       "      <th>mz_inner_bracket_port</th>\n",
       "      <th>mz_inner_bracket_stb</th>\n",
       "      <th>mz_outer_bracket_port</th>\n",
       "      <th>mz_outer_bracket_stb</th>\n",
       "      <th>mz_rudder_port</th>\n",
       "      <th>mz_rudder_stb</th>\n",
       "      <th>mz_shaft_port_assembly</th>\n",
       "      <th>mz_shaft_port_shaft1</th>\n",
       "      <th>mz_shaft_port_shaft2</th>\n",
       "      <th>mz_shaft_stb_assembly</th>\n",
       "      <th>mz_shaft_stb_shaft1</th>\n",
       "      <th>mz_shaft_stb_shaft2</th>\n",
       "      <th>r</th>\n",
       "      <th>result_file_path</th>\n",
       "      <th>rho</th>\n",
       "      <th>u</th>\n",
       "      <th>v</th>\n",
       "      <th>name</th>\n",
       "      <th>path</th>\n",
       "      <th>thrust</th>\n",
       "      <th>rev</th>\n",
       "      <th>p</th>\n",
       "      <th>phi</th>\n",
       "      <th>model_name</th>\n",
       "      <th>S_BK_port1</th>\n",
       "      <th>S_BK_stb1</th>\n",
       "      <th>fx_BK_port1</th>\n",
       "      <th>fx_BK_stb1</th>\n",
       "      <th>fy_BK_port1</th>\n",
       "      <th>fy_BK_stb1</th>\n",
       "      <th>fz_BK_port1</th>\n",
       "      <th>fz_BK_stb1</th>\n",
       "      <th>mx_BK_port1</th>\n",
       "      <th>mx_BK_stb1</th>\n",
       "      <th>my_BK_port1</th>\n",
       "      <th>my_BK_stb1</th>\n",
       "      <th>mz_BK_port1</th>\n",
       "      <th>mz_BK_stb1</th>\n",
       "      <th>S_daggerboard_middle</th>\n",
       "      <th>fx_daggerboard_middle</th>\n",
       "      <th>fy_daggerboard_middle</th>\n",
       "      <th>fz_daggerboard_middle</th>\n",
       "      <th>mx_daggerboard_middle</th>\n",
       "      <th>my_daggerboard_middle</th>\n",
       "      <th>mz_daggerboard_middle</th>\n",
       "      <th>S_R4083_ref</th>\n",
       "      <th>fx_R4083_ref</th>\n",
       "      <th>fy_R4083_ref</th>\n",
       "      <th>fz_R4083_ref</th>\n",
       "      <th>mx_R4083_ref</th>\n",
       "      <th>my_R4083_ref</th>\n",
       "      <th>mz_R4083_ref</th>\n",
       "      <th>S_Rudder_Center</th>\n",
       "      <th>S_Rudder_Port</th>\n",
       "      <th>S_Rudder_Starboard</th>\n",
       "      <th>S_hull</th>\n",
       "      <th>S_rudder</th>\n",
       "      <th>fx_Rudder_Center</th>\n",
       "      <th>fx_Rudder_Port</th>\n",
       "      <th>fx_Rudder_Starboard</th>\n",
       "      <th>fx_hull</th>\n",
       "      <th>fx_rudder</th>\n",
       "      <th>fy_Rudder_Center</th>\n",
       "      <th>fy_Rudder_Port</th>\n",
       "      <th>fy_Rudder_Starboard</th>\n",
       "      <th>fy_hull</th>\n",
       "      <th>fy_rudder</th>\n",
       "      <th>fz_Rudder_Center</th>\n",
       "      <th>fz_Rudder_Port</th>\n",
       "      <th>fz_Rudder_Starboard</th>\n",
       "      <th>fz_hull</th>\n",
       "      <th>fz_rudder</th>\n",
       "      <th>mx_Rudder_Center</th>\n",
       "      <th>mx_Rudder_Port</th>\n",
       "      <th>mx_Rudder_Starboard</th>\n",
       "      <th>mx_hull</th>\n",
       "      <th>mx_rudder</th>\n",
       "      <th>my_Rudder_Center</th>\n",
       "      <th>my_Rudder_Port</th>\n",
       "      <th>my_Rudder_Starboard</th>\n",
       "      <th>my_hull</th>\n",
       "      <th>my_rudder</th>\n",
       "      <th>mz_Rudder_Center</th>\n",
       "      <th>mz_Rudder_Port</th>\n",
       "      <th>mz_Rudder_Starboard</th>\n",
       "      <th>mz_hull</th>\n",
       "      <th>mz_rudder</th>\n",
       "      <th>torque</th>\n",
       "      <th>test type</th>\n",
       "      <th>eta0</th>\n",
       "      <th>eta0_round</th>\n",
       "      <th>fx_rudders</th>\n",
       "      <th>fy_rudders</th>\n",
       "      <th>fz_rudders</th>\n",
       "      <th>mx_rudders</th>\n",
       "      <th>my_rudders</th>\n",
       "      <th>mz_rudders</th>\n",
       "      <th>clr</th>\n",
       "      <th>S_daggerboard_port</th>\n",
       "      <th>S_daggerboard_stb</th>\n",
       "      <th>fake_index</th>\n",
       "      <th>fx_daggerboard_port</th>\n",
       "      <th>fx_daggerboard_stb</th>\n",
       "      <th>fy_daggerboard_port</th>\n",
       "      <th>fy_daggerboard_stb</th>\n",
       "      <th>fz_daggerboard_port</th>\n",
       "      <th>fz_daggerboard_stb</th>\n",
       "      <th>mx_daggerboard_port</th>\n",
       "      <th>mx_daggerboard_stb</th>\n",
       "      <th>my_daggerboard_port</th>\n",
       "      <th>my_daggerboard_stb</th>\n",
       "      <th>mz_daggerboard_port</th>\n",
       "      <th>mz_daggerboard_stb</th>\n",
       "      <th>$\\frac{fx}{V^2}$</th>\n",
       "      <th>$\\frac{fy}{V^2}$</th>\n",
       "      <th>$\\frac{mz}{V^2}$</th>\n",
       "      <th>U</th>\n",
       "    </tr>\n",
       "  </thead>\n",
       "  <tbody>\n",
       "    <tr>\n",
       "      <th>405</th>\n",
       "      <td>8</td>\n",
       "      <td>5.0</td>\n",
       "      <td>7503.769848</td>\n",
       "      <td>7080.407153</td>\n",
       "      <td>12.054919</td>\n",
       "      <td>12.054919</td>\n",
       "      <td>13.180297</td>\n",
       "      <td>13.180297</td>\n",
       "      <td>131.188033</td>\n",
       "      <td>130.387381</td>\n",
       "      <td>55.614190</td>\n",
       "      <td>32.207493</td>\n",
       "      <td>23.406809</td>\n",
       "      <td>55.709488</td>\n",
       "      <td>32.302491</td>\n",
       "      <td>23.406847</td>\n",
       "      <td>0.961690</td>\n",
       "      <td>0.0</td>\n",
       "      <td>-0.261799</td>\n",
       "      <td>-6.198123</td>\n",
       "      <td>-201971.984555</td>\n",
       "      <td>153.770571</td>\n",
       "      <td>1710.201950</td>\n",
       "      <td>-707.995534</td>\n",
       "      <td>333.168594</td>\n",
       "      <td>-111558.352806</td>\n",
       "      <td>-107261.882479</td>\n",
       "      <td>-7179.511010</td>\n",
       "      <td>-5523.862459</td>\n",
       "      <td>-1655.642690</td>\n",
       "      <td>-6979.036903</td>\n",
       "      <td>-5526.246579</td>\n",
       "      <td>-1452.800582</td>\n",
       "      <td>-19.640289</td>\n",
       "      <td>-60273.408479</td>\n",
       "      <td>-4049.478196</td>\n",
       "      <td>-20056.344771</td>\n",
       "      <td>24673.825459</td>\n",
       "      <td>-38055.040950</td>\n",
       "      <td>-608107.845907</td>\n",
       "      <td>-6.596621e+05</td>\n",
       "      <td>7771.269369</td>\n",
       "      <td>3675.905300</td>\n",
       "      <td>4095.350001</td>\n",
       "      <td>-15774.898792</td>\n",
       "      <td>-11492.706806</td>\n",
       "      <td>-4282.250454</td>\n",
       "      <td>-67.914772</td>\n",
       "      <td>-4.628090e+06</td>\n",
       "      <td>997.134557</td>\n",
       "      <td>-5178.819573</td>\n",
       "      <td>5800.439503</td>\n",
       "      <td>8986.759075</td>\n",
       "      <td>-46370.206052</td>\n",
       "      <td>-68356.635545</td>\n",
       "      <td>-7619.616224</td>\n",
       "      <td>-841.704334</td>\n",
       "      <td>-6777.907054</td>\n",
       "      <td>-9762.602514</td>\n",
       "      <td>-2702.114744</td>\n",
       "      <td>-7060.488210</td>\n",
       "      <td>9.80665</td>\n",
       "      <td>206.6</td>\n",
       "      <td>1.543622</td>\n",
       "      <td>-1.354087e+06</td>\n",
       "      <td>25627.935864</td>\n",
       "      <td>96407.410543</td>\n",
       "      <td>-25709.345856</td>\n",
       "      <td>30927.662495</td>\n",
       "      <td>2.053236e+06</td>\n",
       "      <td>3.560736e+06</td>\n",
       "      <td>-104713.394673</td>\n",
       "      <td>-25908.252528</td>\n",
       "      <td>-78805.235994</td>\n",
       "      <td>165205.769075</td>\n",
       "      <td>83121.307039</td>\n",
       "      <td>82084.462339</td>\n",
       "      <td>185.077165</td>\n",
       "      <td>5.095509e+08</td>\n",
       "      <td>-198934.736362</td>\n",
       "      <td>1.034584e+06</td>\n",
       "      <td>-1.157883e+06</td>\n",
       "      <td>-1.790169e+06</td>\n",
       "      <td>9.065500e+06</td>\n",
       "      <td>1.360265e+07</td>\n",
       "      <td>1.367090e+06</td>\n",
       "      <td>152501.674813</td>\n",
       "      <td>1.214586e+06</td>\n",
       "      <td>1.789621e+06</td>\n",
       "      <td>521941.619278</td>\n",
       "      <td>1.267680e+06</td>\n",
       "      <td>47.688673</td>\n",
       "      <td>3.996451e+06</td>\n",
       "      <td>392524.495446</td>\n",
       "      <td>1.903497e+06</td>\n",
       "      <td>-2.371496e+06</td>\n",
       "      <td>3.644392e+06</td>\n",
       "      <td>6.092952e+07</td>\n",
       "      <td>6.815332e+07</td>\n",
       "      <td>-7.236369e+05</td>\n",
       "      <td>-390969.589112</td>\n",
       "      <td>-332665.672491</td>\n",
       "      <td>1.480900e+06</td>\n",
       "      <td>1.137421e+06</td>\n",
       "      <td>343485.578478</td>\n",
       "      <td>0.0</td>\n",
       "      <td>L:\\proj2019\\40199079-Segelfartyg-Wallenius\\VCT...</td>\n",
       "      <td>1025.0</td>\n",
       "      <td>0.961690</td>\n",
       "      <td>-0.0</td>\n",
       "      <td>12knots15degRudd</td>\n",
       "      <td>L:\\proj2019\\40199079-Segelfartyg-Wallenius\\VCT...</td>\n",
       "      <td>0.0</td>\n",
       "      <td>0.0</td>\n",
       "      <td>0</td>\n",
       "      <td>0</td>\n",
       "      <td>V2_3_R2</td>\n",
       "      <td>NaN</td>\n",
       "      <td>NaN</td>\n",
       "      <td>NaN</td>\n",
       "      <td>NaN</td>\n",
       "      <td>NaN</td>\n",
       "      <td>NaN</td>\n",
       "      <td>NaN</td>\n",
       "      <td>NaN</td>\n",
       "      <td>NaN</td>\n",
       "      <td>NaN</td>\n",
       "      <td>NaN</td>\n",
       "      <td>NaN</td>\n",
       "      <td>NaN</td>\n",
       "      <td>NaN</td>\n",
       "      <td>NaN</td>\n",
       "      <td>NaN</td>\n",
       "      <td>NaN</td>\n",
       "      <td>NaN</td>\n",
       "      <td>NaN</td>\n",
       "      <td>NaN</td>\n",
       "      <td>NaN</td>\n",
       "      <td>NaN</td>\n",
       "      <td>NaN</td>\n",
       "      <td>NaN</td>\n",
       "      <td>NaN</td>\n",
       "      <td>NaN</td>\n",
       "      <td>NaN</td>\n",
       "      <td>NaN</td>\n",
       "      <td>NaN</td>\n",
       "      <td>NaN</td>\n",
       "      <td>NaN</td>\n",
       "      <td>NaN</td>\n",
       "      <td>NaN</td>\n",
       "      <td>NaN</td>\n",
       "      <td>NaN</td>\n",
       "      <td>NaN</td>\n",
       "      <td>NaN</td>\n",
       "      <td>NaN</td>\n",
       "      <td>NaN</td>\n",
       "      <td>NaN</td>\n",
       "      <td>NaN</td>\n",
       "      <td>NaN</td>\n",
       "      <td>NaN</td>\n",
       "      <td>NaN</td>\n",
       "      <td>NaN</td>\n",
       "      <td>NaN</td>\n",
       "      <td>NaN</td>\n",
       "      <td>NaN</td>\n",
       "      <td>NaN</td>\n",
       "      <td>NaN</td>\n",
       "      <td>NaN</td>\n",
       "      <td>NaN</td>\n",
       "      <td>NaN</td>\n",
       "      <td>NaN</td>\n",
       "      <td>NaN</td>\n",
       "      <td>NaN</td>\n",
       "      <td>NaN</td>\n",
       "      <td>NaN</td>\n",
       "      <td>NaN</td>\n",
       "      <td>NaN</td>\n",
       "      <td>NaN</td>\n",
       "      <td>NaN</td>\n",
       "      <td>NaN</td>\n",
       "      <td>NaN</td>\n",
       "      <td>Rudder angle</td>\n",
       "      <td>1.0</td>\n",
       "      <td>1.0</td>\n",
       "      <td>-1.595183</td>\n",
       "      <td>-8.695388</td>\n",
       "      <td>-46370.206052</td>\n",
       "      <td>2.053236e+06</td>\n",
       "      <td>9.065500e+06</td>\n",
       "      <td>21.146518</td>\n",
       "      <td>0.015789</td>\n",
       "      <td>NaN</td>\n",
       "      <td>NaN</td>\n",
       "      <td>NaN</td>\n",
       "      <td>NaN</td>\n",
       "      <td>NaN</td>\n",
       "      <td>NaN</td>\n",
       "      <td>NaN</td>\n",
       "      <td>NaN</td>\n",
       "      <td>NaN</td>\n",
       "      <td>NaN</td>\n",
       "      <td>NaN</td>\n",
       "      <td>NaN</td>\n",
       "      <td>NaN</td>\n",
       "      <td>NaN</td>\n",
       "      <td>NaN</td>\n",
       "      <td>-11375.873607</td>\n",
       "      <td>-36047.276773</td>\n",
       "      <td>3.606094e+06</td>\n",
       "      <td>0.961690</td>\n",
       "    </tr>\n",
       "    <tr>\n",
       "      <th>409</th>\n",
       "      <td>12</td>\n",
       "      <td>5.0</td>\n",
       "      <td>7503.769848</td>\n",
       "      <td>7080.707304</td>\n",
       "      <td>12.056532</td>\n",
       "      <td>12.056532</td>\n",
       "      <td>13.182060</td>\n",
       "      <td>13.182060</td>\n",
       "      <td>131.213171</td>\n",
       "      <td>130.411018</td>\n",
       "      <td>55.454360</td>\n",
       "      <td>32.043911</td>\n",
       "      <td>23.410411</td>\n",
       "      <td>55.516641</td>\n",
       "      <td>32.106080</td>\n",
       "      <td>23.410449</td>\n",
       "      <td>1.202108</td>\n",
       "      <td>0.0</td>\n",
       "      <td>-0.261799</td>\n",
       "      <td>-9.611101</td>\n",
       "      <td>-307617.121035</td>\n",
       "      <td>95.963554</td>\n",
       "      <td>2522.987676</td>\n",
       "      <td>-1183.841274</td>\n",
       "      <td>282.711610</td>\n",
       "      <td>-176797.364433</td>\n",
       "      <td>-167155.263065</td>\n",
       "      <td>-11738.952984</td>\n",
       "      <td>-9257.750312</td>\n",
       "      <td>-2481.202672</td>\n",
       "      <td>-10556.448830</td>\n",
       "      <td>-8403.550359</td>\n",
       "      <td>-2152.909919</td>\n",
       "      <td>-31.126562</td>\n",
       "      <td>-93469.952950</td>\n",
       "      <td>-7493.331255</td>\n",
       "      <td>-30206.279047</td>\n",
       "      <td>38386.115588</td>\n",
       "      <td>-58461.505232</td>\n",
       "      <td>-956749.029427</td>\n",
       "      <td>-1.056751e+06</td>\n",
       "      <td>12122.420258</td>\n",
       "      <td>5849.953394</td>\n",
       "      <td>6272.466636</td>\n",
       "      <td>-24199.710423</td>\n",
       "      <td>-16950.980337</td>\n",
       "      <td>-7248.844337</td>\n",
       "      <td>-106.293752</td>\n",
       "      <td>-7.241645e+06</td>\n",
       "      <td>1868.273451</td>\n",
       "      <td>-7765.575550</td>\n",
       "      <td>9033.403537</td>\n",
       "      <td>13836.128577</td>\n",
       "      <td>-73572.557004</td>\n",
       "      <td>-106595.611683</td>\n",
       "      <td>-12208.490497</td>\n",
       "      <td>-1657.928888</td>\n",
       "      <td>-10550.554512</td>\n",
       "      <td>-16533.135338</td>\n",
       "      <td>-5122.534179</td>\n",
       "      <td>-11410.600473</td>\n",
       "      <td>9.80665</td>\n",
       "      <td>206.6</td>\n",
       "      <td>2.475012</td>\n",
       "      <td>-2.064812e+06</td>\n",
       "      <td>47698.077475</td>\n",
       "      <td>142205.789101</td>\n",
       "      <td>-40293.033395</td>\n",
       "      <td>47087.205756</td>\n",
       "      <td>3.234959e+06</td>\n",
       "      <td>5.664318e+06</td>\n",
       "      <td>-166332.919303</td>\n",
       "      <td>-44110.056868</td>\n",
       "      <td>-122222.867165</td>\n",
       "      <td>266430.998062</td>\n",
       "      <td>132284.270221</td>\n",
       "      <td>134146.725476</td>\n",
       "      <td>289.840454</td>\n",
       "      <td>7.976804e+08</td>\n",
       "      <td>-373384.224530</td>\n",
       "      <td>1.550808e+06</td>\n",
       "      <td>-1.803798e+06</td>\n",
       "      <td>-2.757036e+06</td>\n",
       "      <td>1.437606e+07</td>\n",
       "      <td>2.121037e+07</td>\n",
       "      <td>2.193849e+06</td>\n",
       "      <td>302473.609228</td>\n",
       "      <td>1.891374e+06</td>\n",
       "      <td>3.042186e+06</td>\n",
       "      <td>991623.372514</td>\n",
       "      <td>2.050567e+06</td>\n",
       "      <td>75.586098</td>\n",
       "      <td>6.177411e+06</td>\n",
       "      <td>724230.242649</td>\n",
       "      <td>2.866697e+06</td>\n",
       "      <td>-3.690897e+06</td>\n",
       "      <td>5.601148e+06</td>\n",
       "      <td>9.585318e+07</td>\n",
       "      <td>1.091390e+08</td>\n",
       "      <td>-1.134529e+06</td>\n",
       "      <td>-625373.917407</td>\n",
       "      <td>-509155.223264</td>\n",
       "      <td>2.250068e+06</td>\n",
       "      <td>1.670063e+06</td>\n",
       "      <td>579993.488759</td>\n",
       "      <td>0.0</td>\n",
       "      <td>L:\\proj2019\\40199079-Segelfartyg-Wallenius\\VCT...</td>\n",
       "      <td>1025.0</td>\n",
       "      <td>1.202108</td>\n",
       "      <td>-0.0</td>\n",
       "      <td>15knots15degRudd</td>\n",
       "      <td>L:\\proj2019\\40199079-Segelfartyg-Wallenius\\VCT...</td>\n",
       "      <td>0.0</td>\n",
       "      <td>0.0</td>\n",
       "      <td>0</td>\n",
       "      <td>0</td>\n",
       "      <td>V2_3_R2</td>\n",
       "      <td>NaN</td>\n",
       "      <td>NaN</td>\n",
       "      <td>NaN</td>\n",
       "      <td>NaN</td>\n",
       "      <td>NaN</td>\n",
       "      <td>NaN</td>\n",
       "      <td>NaN</td>\n",
       "      <td>NaN</td>\n",
       "      <td>NaN</td>\n",
       "      <td>NaN</td>\n",
       "      <td>NaN</td>\n",
       "      <td>NaN</td>\n",
       "      <td>NaN</td>\n",
       "      <td>NaN</td>\n",
       "      <td>NaN</td>\n",
       "      <td>NaN</td>\n",
       "      <td>NaN</td>\n",
       "      <td>NaN</td>\n",
       "      <td>NaN</td>\n",
       "      <td>NaN</td>\n",
       "      <td>NaN</td>\n",
       "      <td>NaN</td>\n",
       "      <td>NaN</td>\n",
       "      <td>NaN</td>\n",
       "      <td>NaN</td>\n",
       "      <td>NaN</td>\n",
       "      <td>NaN</td>\n",
       "      <td>NaN</td>\n",
       "      <td>NaN</td>\n",
       "      <td>NaN</td>\n",
       "      <td>NaN</td>\n",
       "      <td>NaN</td>\n",
       "      <td>NaN</td>\n",
       "      <td>NaN</td>\n",
       "      <td>NaN</td>\n",
       "      <td>NaN</td>\n",
       "      <td>NaN</td>\n",
       "      <td>NaN</td>\n",
       "      <td>NaN</td>\n",
       "      <td>NaN</td>\n",
       "      <td>NaN</td>\n",
       "      <td>NaN</td>\n",
       "      <td>NaN</td>\n",
       "      <td>NaN</td>\n",
       "      <td>NaN</td>\n",
       "      <td>NaN</td>\n",
       "      <td>NaN</td>\n",
       "      <td>NaN</td>\n",
       "      <td>NaN</td>\n",
       "      <td>NaN</td>\n",
       "      <td>NaN</td>\n",
       "      <td>NaN</td>\n",
       "      <td>NaN</td>\n",
       "      <td>NaN</td>\n",
       "      <td>NaN</td>\n",
       "      <td>NaN</td>\n",
       "      <td>NaN</td>\n",
       "      <td>NaN</td>\n",
       "      <td>NaN</td>\n",
       "      <td>NaN</td>\n",
       "      <td>NaN</td>\n",
       "      <td>NaN</td>\n",
       "      <td>NaN</td>\n",
       "      <td>NaN</td>\n",
       "      <td>Rudder angle</td>\n",
       "      <td>1.0</td>\n",
       "      <td>1.0</td>\n",
       "      <td>-2.528041</td>\n",
       "      <td>-13.680639</td>\n",
       "      <td>-73572.557004</td>\n",
       "      <td>3.234959e+06</td>\n",
       "      <td>1.437606e+07</td>\n",
       "      <td>33.267309</td>\n",
       "      <td>0.015741</td>\n",
       "      <td>NaN</td>\n",
       "      <td>NaN</td>\n",
       "      <td>NaN</td>\n",
       "      <td>NaN</td>\n",
       "      <td>NaN</td>\n",
       "      <td>NaN</td>\n",
       "      <td>NaN</td>\n",
       "      <td>NaN</td>\n",
       "      <td>NaN</td>\n",
       "      <td>NaN</td>\n",
       "      <td>NaN</td>\n",
       "      <td>NaN</td>\n",
       "      <td>NaN</td>\n",
       "      <td>NaN</td>\n",
       "      <td>NaN</td>\n",
       "      <td>-11289.653415</td>\n",
       "      <td>-36562.728767</td>\n",
       "      <td>3.658024e+06</td>\n",
       "      <td>1.202108</td>\n",
       "    </tr>\n",
       "    <tr>\n",
       "      <th>404</th>\n",
       "      <td>7</td>\n",
       "      <td>5.0</td>\n",
       "      <td>7503.769848</td>\n",
       "      <td>7080.482191</td>\n",
       "      <td>12.054731</td>\n",
       "      <td>12.054731</td>\n",
       "      <td>13.180109</td>\n",
       "      <td>13.180109</td>\n",
       "      <td>131.027828</td>\n",
       "      <td>130.474425</td>\n",
       "      <td>55.613440</td>\n",
       "      <td>32.207043</td>\n",
       "      <td>23.406509</td>\n",
       "      <td>55.708738</td>\n",
       "      <td>32.302041</td>\n",
       "      <td>23.406509</td>\n",
       "      <td>0.961690</td>\n",
       "      <td>0.0</td>\n",
       "      <td>-0.174533</td>\n",
       "      <td>-4.818316</td>\n",
       "      <td>-228870.390145</td>\n",
       "      <td>277.933809</td>\n",
       "      <td>1558.623538</td>\n",
       "      <td>-597.700486</td>\n",
       "      <td>351.209945</td>\n",
       "      <td>-56749.543762</td>\n",
       "      <td>-38066.766656</td>\n",
       "      <td>-7435.932061</td>\n",
       "      <td>-5784.078759</td>\n",
       "      <td>-1651.844511</td>\n",
       "      <td>-7433.865922</td>\n",
       "      <td>-5931.155625</td>\n",
       "      <td>-1502.711762</td>\n",
       "      <td>-13.633107</td>\n",
       "      <td>-36552.298415</td>\n",
       "      <td>641.563301</td>\n",
       "      <td>-19440.663599</td>\n",
       "      <td>28755.038482</td>\n",
       "      <td>-40060.187188</td>\n",
       "      <td>-364215.630970</td>\n",
       "      <td>-5.158316e+05</td>\n",
       "      <td>9666.217858</td>\n",
       "      <td>5328.104425</td>\n",
       "      <td>4338.113140</td>\n",
       "      <td>-16386.547769</td>\n",
       "      <td>-11532.992123</td>\n",
       "      <td>-4853.585247</td>\n",
       "      <td>-69.345025</td>\n",
       "      <td>-4.782160e+06</td>\n",
       "      <td>-235.968618</td>\n",
       "      <td>-5116.771804</td>\n",
       "      <td>6703.623931</td>\n",
       "      <td>9328.097564</td>\n",
       "      <td>-21235.288286</td>\n",
       "      <td>-41278.760424</td>\n",
       "      <td>-7073.647025</td>\n",
       "      <td>-178.199955</td>\n",
       "      <td>-6895.444432</td>\n",
       "      <td>-8545.520562</td>\n",
       "      <td>-1182.144126</td>\n",
       "      <td>-7363.367937</td>\n",
       "      <td>9.80665</td>\n",
       "      <td>206.6</td>\n",
       "      <td>1.170158</td>\n",
       "      <td>-6.472059e+05</td>\n",
       "      <td>577.053075</td>\n",
       "      <td>94957.369337</td>\n",
       "      <td>-26938.261647</td>\n",
       "      <td>32380.108370</td>\n",
       "      <td>1.258473e+06</td>\n",
       "      <td>2.611654e+06</td>\n",
       "      <td>-109439.536729</td>\n",
       "      <td>-28517.011230</td>\n",
       "      <td>-80922.464951</td>\n",
       "      <td>157113.816844</td>\n",
       "      <td>69759.226223</td>\n",
       "      <td>87354.593043</td>\n",
       "      <td>191.680922</td>\n",
       "      <td>5.392168e+08</td>\n",
       "      <td>47040.207955</td>\n",
       "      <td>1.022206e+06</td>\n",
       "      <td>-1.337471e+06</td>\n",
       "      <td>-1.857898e+06</td>\n",
       "      <td>4.124948e+06</td>\n",
       "      <td>8.278110e+06</td>\n",
       "      <td>1.255177e+06</td>\n",
       "      <td>19272.591887</td>\n",
       "      <td>1.235907e+06</td>\n",
       "      <td>1.540334e+06</td>\n",
       "      <td>218551.968223</td>\n",
       "      <td>1.321782e+06</td>\n",
       "      <td>33.034209</td>\n",
       "      <td>2.343911e+06</td>\n",
       "      <td>-55693.247626</td>\n",
       "      <td>1.845761e+06</td>\n",
       "      <td>-2.761446e+06</td>\n",
       "      <td>3.836237e+06</td>\n",
       "      <td>3.660518e+07</td>\n",
       "      <td>5.273473e+07</td>\n",
       "      <td>-9.029835e+05</td>\n",
       "      <td>-551609.477958</td>\n",
       "      <td>-351371.231110</td>\n",
       "      <td>1.536033e+06</td>\n",
       "      <td>1.146738e+06</td>\n",
       "      <td>389295.645148</td>\n",
       "      <td>0.0</td>\n",
       "      <td>L:\\proj2019\\40199079-Segelfartyg-Wallenius\\VCT...</td>\n",
       "      <td>1025.0</td>\n",
       "      <td>0.961690</td>\n",
       "      <td>-0.0</td>\n",
       "      <td>12knots10degRudd</td>\n",
       "      <td>L:\\proj2019\\40199079-Segelfartyg-Wallenius\\VCT...</td>\n",
       "      <td>0.0</td>\n",
       "      <td>0.0</td>\n",
       "      <td>0</td>\n",
       "      <td>0</td>\n",
       "      <td>V2_3_R2</td>\n",
       "      <td>NaN</td>\n",
       "      <td>NaN</td>\n",
       "      <td>NaN</td>\n",
       "      <td>NaN</td>\n",
       "      <td>NaN</td>\n",
       "      <td>NaN</td>\n",
       "      <td>NaN</td>\n",
       "      <td>NaN</td>\n",
       "      <td>NaN</td>\n",
       "      <td>NaN</td>\n",
       "      <td>NaN</td>\n",
       "      <td>NaN</td>\n",
       "      <td>NaN</td>\n",
       "      <td>NaN</td>\n",
       "      <td>NaN</td>\n",
       "      <td>NaN</td>\n",
       "      <td>NaN</td>\n",
       "      <td>NaN</td>\n",
       "      <td>NaN</td>\n",
       "      <td>NaN</td>\n",
       "      <td>NaN</td>\n",
       "      <td>NaN</td>\n",
       "      <td>NaN</td>\n",
       "      <td>NaN</td>\n",
       "      <td>NaN</td>\n",
       "      <td>NaN</td>\n",
       "      <td>NaN</td>\n",
       "      <td>NaN</td>\n",
       "      <td>NaN</td>\n",
       "      <td>NaN</td>\n",
       "      <td>NaN</td>\n",
       "      <td>NaN</td>\n",
       "      <td>NaN</td>\n",
       "      <td>NaN</td>\n",
       "      <td>NaN</td>\n",
       "      <td>NaN</td>\n",
       "      <td>NaN</td>\n",
       "      <td>NaN</td>\n",
       "      <td>NaN</td>\n",
       "      <td>NaN</td>\n",
       "      <td>NaN</td>\n",
       "      <td>NaN</td>\n",
       "      <td>NaN</td>\n",
       "      <td>NaN</td>\n",
       "      <td>NaN</td>\n",
       "      <td>NaN</td>\n",
       "      <td>NaN</td>\n",
       "      <td>NaN</td>\n",
       "      <td>NaN</td>\n",
       "      <td>NaN</td>\n",
       "      <td>NaN</td>\n",
       "      <td>NaN</td>\n",
       "      <td>NaN</td>\n",
       "      <td>NaN</td>\n",
       "      <td>NaN</td>\n",
       "      <td>NaN</td>\n",
       "      <td>NaN</td>\n",
       "      <td>NaN</td>\n",
       "      <td>NaN</td>\n",
       "      <td>NaN</td>\n",
       "      <td>NaN</td>\n",
       "      <td>NaN</td>\n",
       "      <td>NaN</td>\n",
       "      <td>NaN</td>\n",
       "      <td>Rudder angle</td>\n",
       "      <td>1.0</td>\n",
       "      <td>1.0</td>\n",
       "      <td>-0.811467</td>\n",
       "      <td>-5.207952</td>\n",
       "      <td>-21235.288286</td>\n",
       "      <td>1.258473e+06</td>\n",
       "      <td>4.124948e+06</td>\n",
       "      <td>12.704385</td>\n",
       "      <td>0.016790</td>\n",
       "      <td>NaN</td>\n",
       "      <td>NaN</td>\n",
       "      <td>NaN</td>\n",
       "      <td>NaN</td>\n",
       "      <td>NaN</td>\n",
       "      <td>NaN</td>\n",
       "      <td>NaN</td>\n",
       "      <td>NaN</td>\n",
       "      <td>NaN</td>\n",
       "      <td>NaN</td>\n",
       "      <td>NaN</td>\n",
       "      <td>NaN</td>\n",
       "      <td>NaN</td>\n",
       "      <td>NaN</td>\n",
       "      <td>NaN</td>\n",
       "      <td>-8843.411219</td>\n",
       "      <td>-25021.850595</td>\n",
       "      <td>2.497961e+06</td>\n",
       "      <td>0.961690</td>\n",
       "    </tr>\n",
       "    <tr>\n",
       "      <th>408</th>\n",
       "      <td>11</td>\n",
       "      <td>5.0</td>\n",
       "      <td>7503.769848</td>\n",
       "      <td>7080.782342</td>\n",
       "      <td>12.055744</td>\n",
       "      <td>12.055744</td>\n",
       "      <td>13.181197</td>\n",
       "      <td>13.181197</td>\n",
       "      <td>131.046212</td>\n",
       "      <td>130.492058</td>\n",
       "      <td>55.450608</td>\n",
       "      <td>32.041848</td>\n",
       "      <td>23.408910</td>\n",
       "      <td>55.512889</td>\n",
       "      <td>32.104016</td>\n",
       "      <td>23.408948</td>\n",
       "      <td>1.202108</td>\n",
       "      <td>0.0</td>\n",
       "      <td>-0.174533</td>\n",
       "      <td>-7.404182</td>\n",
       "      <td>-346793.435345</td>\n",
       "      <td>335.227919</td>\n",
       "      <td>2240.621793</td>\n",
       "      <td>-1031.922449</td>\n",
       "      <td>294.750271</td>\n",
       "      <td>-91215.838607</td>\n",
       "      <td>-57698.976769</td>\n",
       "      <td>-12433.660151</td>\n",
       "      <td>-9956.052134</td>\n",
       "      <td>-2477.605727</td>\n",
       "      <td>-11504.796693</td>\n",
       "      <td>-9265.145685</td>\n",
       "      <td>-2239.632691</td>\n",
       "      <td>-21.502019</td>\n",
       "      <td>-57518.415182</td>\n",
       "      <td>-855.499295</td>\n",
       "      <td>-29728.755447</td>\n",
       "      <td>45650.424154</td>\n",
       "      <td>-62056.330453</td>\n",
       "      <td>-580348.164655</td>\n",
       "      <td>-8.106405e+05</td>\n",
       "      <td>15084.954118</td>\n",
       "      <td>8451.621888</td>\n",
       "      <td>6633.331543</td>\n",
       "      <td>-23322.152081</td>\n",
       "      <td>-17196.789951</td>\n",
       "      <td>-6125.339005</td>\n",
       "      <td>-108.291871</td>\n",
       "      <td>-7.468496e+06</td>\n",
       "      <td>95.514107</td>\n",
       "      <td>-7787.380682</td>\n",
       "      <td>10644.868874</td>\n",
       "      <td>14478.507411</td>\n",
       "      <td>-34294.296444</td>\n",
       "      <td>-61957.148881</td>\n",
       "      <td>-11585.367338</td>\n",
       "      <td>-862.610301</td>\n",
       "      <td>-10722.750168</td>\n",
       "      <td>-14419.182780</td>\n",
       "      <td>-3032.407544</td>\n",
       "      <td>-11386.775694</td>\n",
       "      <td>9.80665</td>\n",
       "      <td>206.6</td>\n",
       "      <td>1.835649</td>\n",
       "      <td>-1.014014e+06</td>\n",
       "      <td>12587.310056</td>\n",
       "      <td>141459.914866</td>\n",
       "      <td>-44407.078012</td>\n",
       "      <td>50136.940965</td>\n",
       "      <td>2.004253e+06</td>\n",
       "      <td>4.070872e+06</td>\n",
       "      <td>-175759.812900</td>\n",
       "      <td>-50412.261898</td>\n",
       "      <td>-125347.546272</td>\n",
       "      <td>243920.307756</td>\n",
       "      <td>114973.227820</td>\n",
       "      <td>128947.080409</td>\n",
       "      <td>299.011555</td>\n",
       "      <td>8.412599e+08</td>\n",
       "      <td>-19531.444006</td>\n",
       "      <td>1.554740e+06</td>\n",
       "      <td>-2.124395e+06</td>\n",
       "      <td>-2.884705e+06</td>\n",
       "      <td>6.658964e+06</td>\n",
       "      <td>1.241532e+07</td>\n",
       "      <td>2.063312e+06</td>\n",
       "      <td>140713.254457</td>\n",
       "      <td>1.922601e+06</td>\n",
       "      <td>2.618165e+06</td>\n",
       "      <td>573915.324520</td>\n",
       "      <td>2.044249e+06</td>\n",
       "      <td>52.098841</td>\n",
       "      <td>3.680590e+06</td>\n",
       "      <td>90735.857705</td>\n",
       "      <td>2.823354e+06</td>\n",
       "      <td>-4.385746e+06</td>\n",
       "      <td>5.945511e+06</td>\n",
       "      <td>5.833111e+07</td>\n",
       "      <td>8.284747e+07</td>\n",
       "      <td>-1.417540e+06</td>\n",
       "      <td>-880566.277705</td>\n",
       "      <td>-536973.641064</td>\n",
       "      <td>2.197382e+06</td>\n",
       "      <td>1.704984e+06</td>\n",
       "      <td>492401.004273</td>\n",
       "      <td>0.0</td>\n",
       "      <td>L:\\proj2019\\40199079-Segelfartyg-Wallenius\\VCT...</td>\n",
       "      <td>1025.0</td>\n",
       "      <td>1.202108</td>\n",
       "      <td>-0.0</td>\n",
       "      <td>15knots10degRudd</td>\n",
       "      <td>L:\\proj2019\\40199079-Segelfartyg-Wallenius\\VCT...</td>\n",
       "      <td>0.0</td>\n",
       "      <td>0.0</td>\n",
       "      <td>0</td>\n",
       "      <td>0</td>\n",
       "      <td>V2_3_R2</td>\n",
       "      <td>NaN</td>\n",
       "      <td>NaN</td>\n",
       "      <td>NaN</td>\n",
       "      <td>NaN</td>\n",
       "      <td>NaN</td>\n",
       "      <td>NaN</td>\n",
       "      <td>NaN</td>\n",
       "      <td>NaN</td>\n",
       "      <td>NaN</td>\n",
       "      <td>NaN</td>\n",
       "      <td>NaN</td>\n",
       "      <td>NaN</td>\n",
       "      <td>NaN</td>\n",
       "      <td>NaN</td>\n",
       "      <td>NaN</td>\n",
       "      <td>NaN</td>\n",
       "      <td>NaN</td>\n",
       "      <td>NaN</td>\n",
       "      <td>NaN</td>\n",
       "      <td>NaN</td>\n",
       "      <td>NaN</td>\n",
       "      <td>NaN</td>\n",
       "      <td>NaN</td>\n",
       "      <td>NaN</td>\n",
       "      <td>NaN</td>\n",
       "      <td>NaN</td>\n",
       "      <td>NaN</td>\n",
       "      <td>NaN</td>\n",
       "      <td>NaN</td>\n",
       "      <td>NaN</td>\n",
       "      <td>NaN</td>\n",
       "      <td>NaN</td>\n",
       "      <td>NaN</td>\n",
       "      <td>NaN</td>\n",
       "      <td>NaN</td>\n",
       "      <td>NaN</td>\n",
       "      <td>NaN</td>\n",
       "      <td>NaN</td>\n",
       "      <td>NaN</td>\n",
       "      <td>NaN</td>\n",
       "      <td>NaN</td>\n",
       "      <td>NaN</td>\n",
       "      <td>NaN</td>\n",
       "      <td>NaN</td>\n",
       "      <td>NaN</td>\n",
       "      <td>NaN</td>\n",
       "      <td>NaN</td>\n",
       "      <td>NaN</td>\n",
       "      <td>NaN</td>\n",
       "      <td>NaN</td>\n",
       "      <td>NaN</td>\n",
       "      <td>NaN</td>\n",
       "      <td>NaN</td>\n",
       "      <td>NaN</td>\n",
       "      <td>NaN</td>\n",
       "      <td>NaN</td>\n",
       "      <td>NaN</td>\n",
       "      <td>NaN</td>\n",
       "      <td>NaN</td>\n",
       "      <td>NaN</td>\n",
       "      <td>NaN</td>\n",
       "      <td>NaN</td>\n",
       "      <td>NaN</td>\n",
       "      <td>NaN</td>\n",
       "      <td>Rudder angle</td>\n",
       "      <td>1.0</td>\n",
       "      <td>1.0</td>\n",
       "      <td>-1.304303</td>\n",
       "      <td>-8.298450</td>\n",
       "      <td>-34294.296444</td>\n",
       "      <td>2.004253e+06</td>\n",
       "      <td>6.658964e+06</td>\n",
       "      <td>20.244700</td>\n",
       "      <td>0.016812</td>\n",
       "      <td>NaN</td>\n",
       "      <td>NaN</td>\n",
       "      <td>NaN</td>\n",
       "      <td>NaN</td>\n",
       "      <td>NaN</td>\n",
       "      <td>NaN</td>\n",
       "      <td>NaN</td>\n",
       "      <td>NaN</td>\n",
       "      <td>NaN</td>\n",
       "      <td>NaN</td>\n",
       "      <td>NaN</td>\n",
       "      <td>NaN</td>\n",
       "      <td>NaN</td>\n",
       "      <td>NaN</td>\n",
       "      <td>NaN</td>\n",
       "      <td>-8697.302221</td>\n",
       "      <td>-25257.286558</td>\n",
       "      <td>2.521348e+06</td>\n",
       "      <td>1.202108</td>\n",
       "    </tr>\n",
       "    <tr>\n",
       "      <th>407</th>\n",
       "      <td>10</td>\n",
       "      <td>5.0</td>\n",
       "      <td>7503.769848</td>\n",
       "      <td>7080.519710</td>\n",
       "      <td>12.055219</td>\n",
       "      <td>12.055219</td>\n",
       "      <td>13.180634</td>\n",
       "      <td>13.180634</td>\n",
       "      <td>130.874751</td>\n",
       "      <td>130.593359</td>\n",
       "      <td>55.615691</td>\n",
       "      <td>32.208356</td>\n",
       "      <td>23.407447</td>\n",
       "      <td>55.710989</td>\n",
       "      <td>32.303392</td>\n",
       "      <td>23.407485</td>\n",
       "      <td>0.961690</td>\n",
       "      <td>0.0</td>\n",
       "      <td>-0.087266</td>\n",
       "      <td>-4.078666</td>\n",
       "      <td>-233088.625601</td>\n",
       "      <td>447.764581</td>\n",
       "      <td>1052.721319</td>\n",
       "      <td>-401.433244</td>\n",
       "      <td>51.904052</td>\n",
       "      <td>-24369.817663</td>\n",
       "      <td>-13564.965199</td>\n",
       "      <td>-7747.552729</td>\n",
       "      <td>-6116.989451</td>\n",
       "      <td>-1630.558882</td>\n",
       "      <td>-7619.422798</td>\n",
       "      <td>-6068.797123</td>\n",
       "      <td>-1550.631536</td>\n",
       "      <td>-6.700852</td>\n",
       "      <td>-18068.934505</td>\n",
       "      <td>4187.674768</td>\n",
       "      <td>-14982.317282</td>\n",
       "      <td>33045.328561</td>\n",
       "      <td>-37736.607005</td>\n",
       "      <td>-145769.406428</td>\n",
       "      <td>-2.865486e+05</td>\n",
       "      <td>11484.002646</td>\n",
       "      <td>6945.407046</td>\n",
       "      <td>4538.596039</td>\n",
       "      <td>-14231.069396</td>\n",
       "      <td>-10489.849483</td>\n",
       "      <td>-3741.205406</td>\n",
       "      <td>-69.251911</td>\n",
       "      <td>-4.810978e+06</td>\n",
       "      <td>-1178.541131</td>\n",
       "      <td>-3946.531277</td>\n",
       "      <td>7663.960405</td>\n",
       "      <td>8771.911966</td>\n",
       "      <td>-10198.103608</td>\n",
       "      <td>-18621.469044</td>\n",
       "      <td>-6765.301407</td>\n",
       "      <td>139.871609</td>\n",
       "      <td>-6905.166716</td>\n",
       "      <td>-7845.899485</td>\n",
       "      <td>-638.868088</td>\n",
       "      <td>-7207.035060</td>\n",
       "      <td>9.80665</td>\n",
       "      <td>206.6</td>\n",
       "      <td>0.567674</td>\n",
       "      <td>-3.230162e+05</td>\n",
       "      <td>-17664.245770</td>\n",
       "      <td>73251.607427</td>\n",
       "      <td>-29887.666265</td>\n",
       "      <td>30310.062454</td>\n",
       "      <td>4.561810e+05</td>\n",
       "      <td>1.422025e+06</td>\n",
       "      <td>-115945.585009</td>\n",
       "      <td>-34061.982020</td>\n",
       "      <td>-81883.602989</td>\n",
       "      <td>140389.338649</td>\n",
       "      <td>59363.926734</td>\n",
       "      <td>81025.714655</td>\n",
       "      <td>191.078651</td>\n",
       "      <td>5.444923e+08</td>\n",
       "      <td>235266.885868</td>\n",
       "      <td>7.879465e+05</td>\n",
       "      <td>-1.528244e+06</td>\n",
       "      <td>-1.747829e+06</td>\n",
       "      <td>1.984818e+06</td>\n",
       "      <td>3.736985e+06</td>\n",
       "      <td>1.192358e+06</td>\n",
       "      <td>-45672.486174</td>\n",
       "      <td>1.238030e+06</td>\n",
       "      <td>1.401285e+06</td>\n",
       "      <td>108803.269699</td>\n",
       "      <td>1.292481e+06</td>\n",
       "      <td>16.231469</td>\n",
       "      <td>1.168367e+06</td>\n",
       "      <td>-393879.078282</td>\n",
       "      <td>1.423057e+06</td>\n",
       "      <td>-3.170935e+06</td>\n",
       "      <td>3.616195e+06</td>\n",
       "      <td>1.470614e+07</td>\n",
       "      <td>2.914668e+07</td>\n",
       "      <td>-1.076206e+06</td>\n",
       "      <td>-709639.878496</td>\n",
       "      <td>-366565.452116</td>\n",
       "      <td>1.348320e+06</td>\n",
       "      <td>1.045845e+06</td>\n",
       "      <td>302479.203913</td>\n",
       "      <td>0.0</td>\n",
       "      <td>L:\\proj2019\\40199079-Segelfartyg-Wallenius\\VCT...</td>\n",
       "      <td>1025.0</td>\n",
       "      <td>0.961690</td>\n",
       "      <td>-0.0</td>\n",
       "      <td>12knots5degRudd</td>\n",
       "      <td>L:\\proj2019\\40199079-Segelfartyg-Wallenius\\VCT...</td>\n",
       "      <td>0.0</td>\n",
       "      <td>0.0</td>\n",
       "      <td>0</td>\n",
       "      <td>0</td>\n",
       "      <td>V2_3_R2</td>\n",
       "      <td>NaN</td>\n",
       "      <td>NaN</td>\n",
       "      <td>NaN</td>\n",
       "      <td>NaN</td>\n",
       "      <td>NaN</td>\n",
       "      <td>NaN</td>\n",
       "      <td>NaN</td>\n",
       "      <td>NaN</td>\n",
       "      <td>NaN</td>\n",
       "      <td>NaN</td>\n",
       "      <td>NaN</td>\n",
       "      <td>NaN</td>\n",
       "      <td>NaN</td>\n",
       "      <td>NaN</td>\n",
       "      <td>NaN</td>\n",
       "      <td>NaN</td>\n",
       "      <td>NaN</td>\n",
       "      <td>NaN</td>\n",
       "      <td>NaN</td>\n",
       "      <td>NaN</td>\n",
       "      <td>NaN</td>\n",
       "      <td>NaN</td>\n",
       "      <td>NaN</td>\n",
       "      <td>NaN</td>\n",
       "      <td>NaN</td>\n",
       "      <td>NaN</td>\n",
       "      <td>NaN</td>\n",
       "      <td>NaN</td>\n",
       "      <td>NaN</td>\n",
       "      <td>NaN</td>\n",
       "      <td>NaN</td>\n",
       "      <td>NaN</td>\n",
       "      <td>NaN</td>\n",
       "      <td>NaN</td>\n",
       "      <td>NaN</td>\n",
       "      <td>NaN</td>\n",
       "      <td>NaN</td>\n",
       "      <td>NaN</td>\n",
       "      <td>NaN</td>\n",
       "      <td>NaN</td>\n",
       "      <td>NaN</td>\n",
       "      <td>NaN</td>\n",
       "      <td>NaN</td>\n",
       "      <td>NaN</td>\n",
       "      <td>NaN</td>\n",
       "      <td>NaN</td>\n",
       "      <td>NaN</td>\n",
       "      <td>NaN</td>\n",
       "      <td>NaN</td>\n",
       "      <td>NaN</td>\n",
       "      <td>NaN</td>\n",
       "      <td>NaN</td>\n",
       "      <td>NaN</td>\n",
       "      <td>NaN</td>\n",
       "      <td>NaN</td>\n",
       "      <td>NaN</td>\n",
       "      <td>NaN</td>\n",
       "      <td>NaN</td>\n",
       "      <td>NaN</td>\n",
       "      <td>NaN</td>\n",
       "      <td>NaN</td>\n",
       "      <td>NaN</td>\n",
       "      <td>NaN</td>\n",
       "      <td>NaN</td>\n",
       "      <td>Rudder angle</td>\n",
       "      <td>1.0</td>\n",
       "      <td>1.0</td>\n",
       "      <td>-0.348466</td>\n",
       "      <td>-2.084370</td>\n",
       "      <td>-10198.103608</td>\n",
       "      <td>4.561810e+05</td>\n",
       "      <td>1.984818e+06</td>\n",
       "      <td>5.103990</td>\n",
       "      <td>0.016947</td>\n",
       "      <td>NaN</td>\n",
       "      <td>NaN</td>\n",
       "      <td>NaN</td>\n",
       "      <td>NaN</td>\n",
       "      <td>NaN</td>\n",
       "      <td>NaN</td>\n",
       "      <td>NaN</td>\n",
       "      <td>NaN</td>\n",
       "      <td>NaN</td>\n",
       "      <td>NaN</td>\n",
       "      <td>NaN</td>\n",
       "      <td>NaN</td>\n",
       "      <td>NaN</td>\n",
       "      <td>NaN</td>\n",
       "      <td>NaN</td>\n",
       "      <td>-7485.877765</td>\n",
       "      <td>-12298.569908</td>\n",
       "      <td>1.227382e+06</td>\n",
       "      <td>0.961690</td>\n",
       "    </tr>\n",
       "  </tbody>\n",
       "</table>\n",
       "</div>"
      ],
      "text/plain": [
       "     level_0   Dp            S      S_Xgrid  S_inner_bracket_port  S_inner_bracket_stb  S_outer_bracket_port  S_outer_bracket_stb  S_rudder_port  S_rudder_stb  S_shaft_port_assembly  S_shaft_port_shaft1  S_shaft_port_shaft2  S_shaft_stb_assembly  S_shaft_stb_shaft1  S_shaft_stb_shaft2         V  beta     delta        fx       fx_Xgrid  fx_inner_bracket_port  fx_inner_bracket_stb  fx_outer_bracket_port  fx_outer_bracket_stb  fx_rudder_port  fx_rudder_stb  fx_shaft_port_assembly  fx_shaft_port_shaft1  fx_shaft_port_shaft2  fx_shaft_stb_assembly  fx_shaft_stb_shaft1  fx_shaft_stb_shaft2         fy      fy_Xgrid  fy_inner_bracket_port  fy_inner_bracket_stb  fy_outer_bracket_port  fy_outer_bracket_stb  fy_rudder_port  fy_rudder_stb  fy_shaft_port_assembly  fy_shaft_port_shaft1  fy_shaft_port_shaft2  fy_shaft_stb_assembly  fy_shaft_stb_shaft1  fy_shaft_stb_shaft2          fz      fz_Xgrid  fz_inner_bracket_port  fz_inner_bracket_stb  fz_outer_bracket_port  fz_outer_bracket_stb  fz_rudder_port  fz_rudder_stb  fz_shaft_port_assembly  fz_shaft_port_shaft1  fz_shaft_port_shaft2  fz_shaft_stb_assembly  fz_shaft_stb_shaft1  fz_shaft_stb_shaft2        g    lpp        mx      mx_Xgrid  mx_inner_bracket_port  mx_inner_bracket_stb  mx_outer_bracket_port  mx_outer_bracket_stb  mx_rudder_port  mx_rudder_stb  mx_shaft_port_assembly  mx_shaft_port_shaft1  mx_shaft_port_shaft2  mx_shaft_stb_assembly  mx_shaft_stb_shaft1  mx_shaft_stb_shaft2          my      my_Xgrid  my_inner_bracket_port  my_inner_bracket_stb  my_outer_bracket_port  my_outer_bracket_stb  my_rudder_port  my_rudder_stb  my_shaft_port_assembly  my_shaft_port_shaft1  my_shaft_port_shaft2  my_shaft_stb_assembly  my_shaft_stb_shaft1  my_shaft_stb_shaft2         mz      mz_Xgrid  mz_inner_bracket_port  mz_inner_bracket_stb  mz_outer_bracket_port  mz_outer_bracket_stb  mz_rudder_port  mz_rudder_stb  mz_shaft_port_assembly  mz_shaft_port_shaft1  mz_shaft_port_shaft2  mz_shaft_stb_assembly  mz_shaft_stb_shaft1  mz_shaft_stb_shaft2    r                                   result_file_path     rho         u    v              name                                               path  thrust  rev  p  phi model_name  S_BK_port1  S_BK_stb1  fx_BK_port1  fx_BK_stb1  fy_BK_port1  fy_BK_stb1  fz_BK_port1  fz_BK_stb1  mx_BK_port1  mx_BK_stb1  my_BK_port1  my_BK_stb1  mz_BK_port1  mz_BK_stb1  S_daggerboard_middle  fx_daggerboard_middle  fy_daggerboard_middle  fz_daggerboard_middle  mx_daggerboard_middle  my_daggerboard_middle  mz_daggerboard_middle  S_R4083_ref  fx_R4083_ref  fy_R4083_ref  fz_R4083_ref  mx_R4083_ref  my_R4083_ref  mz_R4083_ref  S_Rudder_Center  S_Rudder_Port  S_Rudder_Starboard  S_hull  S_rudder  fx_Rudder_Center  fx_Rudder_Port  fx_Rudder_Starboard  fx_hull  fx_rudder  fy_Rudder_Center  fy_Rudder_Port  fy_Rudder_Starboard  fy_hull  fy_rudder  fz_Rudder_Center  fz_Rudder_Port  fz_Rudder_Starboard  fz_hull  fz_rudder  mx_Rudder_Center  mx_Rudder_Port  mx_Rudder_Starboard  mx_hull  mx_rudder  my_Rudder_Center  my_Rudder_Port  my_Rudder_Starboard  my_hull  my_rudder  mz_Rudder_Center  mz_Rudder_Port  mz_Rudder_Starboard  mz_hull  mz_rudder  torque     test type  eta0  eta0_round  fx_rudders  fy_rudders    fz_rudders    mx_rudders    my_rudders  mz_rudders       clr  S_daggerboard_port  S_daggerboard_stb fake_index  fx_daggerboard_port  fx_daggerboard_stb  fy_daggerboard_port  fy_daggerboard_stb  fz_daggerboard_port  fz_daggerboard_stb  mx_daggerboard_port  mx_daggerboard_stb  my_daggerboard_port  my_daggerboard_stb  mz_daggerboard_port  mz_daggerboard_stb  $\\frac{fx}{V^2}$  $\\frac{fy}{V^2}$  $\\frac{mz}{V^2}$         U\n",
       "405        8  5.0  7503.769848  7080.407153             12.054919            12.054919             13.180297            13.180297     131.188033    130.387381              55.614190            32.207493            23.406809             55.709488           32.302491           23.406847  0.961690   0.0 -0.261799 -6.198123 -201971.984555             153.770571           1710.201950            -707.995534            333.168594  -111558.352806 -107261.882479            -7179.511010          -5523.862459          -1655.642690           -6979.036903         -5526.246579         -1452.800582 -19.640289 -60273.408479           -4049.478196         -20056.344771           24673.825459         -38055.040950  -608107.845907  -6.596621e+05             7771.269369           3675.905300           4095.350001          -15774.898792        -11492.706806         -4282.250454  -67.914772 -4.628090e+06             997.134557          -5178.819573            5800.439503           8986.759075   -46370.206052  -68356.635545            -7619.616224           -841.704334          -6777.907054           -9762.602514         -2702.114744         -7060.488210  9.80665  206.6  1.543622 -1.354087e+06           25627.935864          96407.410543          -25709.345856          30927.662495    2.053236e+06   3.560736e+06          -104713.394673         -25908.252528         -78805.235994          165205.769075         83121.307039         82084.462339  185.077165  5.095509e+08         -198934.736362          1.034584e+06          -1.157883e+06         -1.790169e+06    9.065500e+06   1.360265e+07            1.367090e+06         152501.674813          1.214586e+06           1.789621e+06        521941.619278         1.267680e+06  47.688673  3.996451e+06          392524.495446          1.903497e+06          -2.371496e+06          3.644392e+06    6.092952e+07   6.815332e+07           -7.236369e+05        -390969.589112        -332665.672491           1.480900e+06         1.137421e+06        343485.578478  0.0  L:\\proj2019\\40199079-Segelfartyg-Wallenius\\VCT...  1025.0  0.961690 -0.0  12knots15degRudd  L:\\proj2019\\40199079-Segelfartyg-Wallenius\\VCT...     0.0  0.0  0    0    V2_3_R2         NaN        NaN          NaN         NaN          NaN         NaN          NaN         NaN          NaN         NaN          NaN         NaN          NaN         NaN                   NaN                    NaN                    NaN                    NaN                    NaN                    NaN                    NaN          NaN           NaN           NaN           NaN           NaN           NaN           NaN              NaN            NaN                 NaN     NaN       NaN               NaN             NaN                  NaN      NaN        NaN               NaN             NaN                  NaN      NaN        NaN               NaN             NaN                  NaN      NaN        NaN               NaN             NaN                  NaN      NaN        NaN               NaN             NaN                  NaN      NaN        NaN               NaN             NaN                  NaN      NaN        NaN     NaN  Rudder angle   1.0         1.0   -1.595183   -8.695388 -46370.206052  2.053236e+06  9.065500e+06   21.146518  0.015789                 NaN                NaN        NaN                  NaN                 NaN                  NaN                 NaN                  NaN                 NaN                  NaN                 NaN                  NaN                 NaN                  NaN                 NaN     -11375.873607     -36047.276773      3.606094e+06  0.961690\n",
       "409       12  5.0  7503.769848  7080.707304             12.056532            12.056532             13.182060            13.182060     131.213171    130.411018              55.454360            32.043911            23.410411             55.516641           32.106080           23.410449  1.202108   0.0 -0.261799 -9.611101 -307617.121035              95.963554           2522.987676           -1183.841274            282.711610  -176797.364433 -167155.263065           -11738.952984          -9257.750312          -2481.202672          -10556.448830         -8403.550359         -2152.909919 -31.126562 -93469.952950           -7493.331255         -30206.279047           38386.115588         -58461.505232  -956749.029427  -1.056751e+06            12122.420258           5849.953394           6272.466636          -24199.710423        -16950.980337         -7248.844337 -106.293752 -7.241645e+06            1868.273451          -7765.575550            9033.403537          13836.128577   -73572.557004 -106595.611683           -12208.490497          -1657.928888         -10550.554512          -16533.135338         -5122.534179        -11410.600473  9.80665  206.6  2.475012 -2.064812e+06           47698.077475         142205.789101          -40293.033395          47087.205756    3.234959e+06   5.664318e+06          -166332.919303         -44110.056868        -122222.867165          266430.998062        132284.270221        134146.725476  289.840454  7.976804e+08         -373384.224530          1.550808e+06          -1.803798e+06         -2.757036e+06    1.437606e+07   2.121037e+07            2.193849e+06         302473.609228          1.891374e+06           3.042186e+06        991623.372514         2.050567e+06  75.586098  6.177411e+06          724230.242649          2.866697e+06          -3.690897e+06          5.601148e+06    9.585318e+07   1.091390e+08           -1.134529e+06        -625373.917407        -509155.223264           2.250068e+06         1.670063e+06        579993.488759  0.0  L:\\proj2019\\40199079-Segelfartyg-Wallenius\\VCT...  1025.0  1.202108 -0.0  15knots15degRudd  L:\\proj2019\\40199079-Segelfartyg-Wallenius\\VCT...     0.0  0.0  0    0    V2_3_R2         NaN        NaN          NaN         NaN          NaN         NaN          NaN         NaN          NaN         NaN          NaN         NaN          NaN         NaN                   NaN                    NaN                    NaN                    NaN                    NaN                    NaN                    NaN          NaN           NaN           NaN           NaN           NaN           NaN           NaN              NaN            NaN                 NaN     NaN       NaN               NaN             NaN                  NaN      NaN        NaN               NaN             NaN                  NaN      NaN        NaN               NaN             NaN                  NaN      NaN        NaN               NaN             NaN                  NaN      NaN        NaN               NaN             NaN                  NaN      NaN        NaN               NaN             NaN                  NaN      NaN        NaN     NaN  Rudder angle   1.0         1.0   -2.528041  -13.680639 -73572.557004  3.234959e+06  1.437606e+07   33.267309  0.015741                 NaN                NaN        NaN                  NaN                 NaN                  NaN                 NaN                  NaN                 NaN                  NaN                 NaN                  NaN                 NaN                  NaN                 NaN     -11289.653415     -36562.728767      3.658024e+06  1.202108\n",
       "404        7  5.0  7503.769848  7080.482191             12.054731            12.054731             13.180109            13.180109     131.027828    130.474425              55.613440            32.207043            23.406509             55.708738           32.302041           23.406509  0.961690   0.0 -0.174533 -4.818316 -228870.390145             277.933809           1558.623538            -597.700486            351.209945   -56749.543762  -38066.766656            -7435.932061          -5784.078759          -1651.844511           -7433.865922         -5931.155625         -1502.711762 -13.633107 -36552.298415             641.563301         -19440.663599           28755.038482         -40060.187188  -364215.630970  -5.158316e+05             9666.217858           5328.104425           4338.113140          -16386.547769        -11532.992123         -4853.585247  -69.345025 -4.782160e+06            -235.968618          -5116.771804            6703.623931           9328.097564   -21235.288286  -41278.760424            -7073.647025           -178.199955          -6895.444432           -8545.520562         -1182.144126         -7363.367937  9.80665  206.6  1.170158 -6.472059e+05             577.053075          94957.369337          -26938.261647          32380.108370    1.258473e+06   2.611654e+06          -109439.536729         -28517.011230         -80922.464951          157113.816844         69759.226223         87354.593043  191.680922  5.392168e+08           47040.207955          1.022206e+06          -1.337471e+06         -1.857898e+06    4.124948e+06   8.278110e+06            1.255177e+06          19272.591887          1.235907e+06           1.540334e+06        218551.968223         1.321782e+06  33.034209  2.343911e+06          -55693.247626          1.845761e+06          -2.761446e+06          3.836237e+06    3.660518e+07   5.273473e+07           -9.029835e+05        -551609.477958        -351371.231110           1.536033e+06         1.146738e+06        389295.645148  0.0  L:\\proj2019\\40199079-Segelfartyg-Wallenius\\VCT...  1025.0  0.961690 -0.0  12knots10degRudd  L:\\proj2019\\40199079-Segelfartyg-Wallenius\\VCT...     0.0  0.0  0    0    V2_3_R2         NaN        NaN          NaN         NaN          NaN         NaN          NaN         NaN          NaN         NaN          NaN         NaN          NaN         NaN                   NaN                    NaN                    NaN                    NaN                    NaN                    NaN                    NaN          NaN           NaN           NaN           NaN           NaN           NaN           NaN              NaN            NaN                 NaN     NaN       NaN               NaN             NaN                  NaN      NaN        NaN               NaN             NaN                  NaN      NaN        NaN               NaN             NaN                  NaN      NaN        NaN               NaN             NaN                  NaN      NaN        NaN               NaN             NaN                  NaN      NaN        NaN               NaN             NaN                  NaN      NaN        NaN     NaN  Rudder angle   1.0         1.0   -0.811467   -5.207952 -21235.288286  1.258473e+06  4.124948e+06   12.704385  0.016790                 NaN                NaN        NaN                  NaN                 NaN                  NaN                 NaN                  NaN                 NaN                  NaN                 NaN                  NaN                 NaN                  NaN                 NaN      -8843.411219     -25021.850595      2.497961e+06  0.961690\n",
       "408       11  5.0  7503.769848  7080.782342             12.055744            12.055744             13.181197            13.181197     131.046212    130.492058              55.450608            32.041848            23.408910             55.512889           32.104016           23.408948  1.202108   0.0 -0.174533 -7.404182 -346793.435345             335.227919           2240.621793           -1031.922449            294.750271   -91215.838607  -57698.976769           -12433.660151          -9956.052134          -2477.605727          -11504.796693         -9265.145685         -2239.632691 -21.502019 -57518.415182            -855.499295         -29728.755447           45650.424154         -62056.330453  -580348.164655  -8.106405e+05            15084.954118           8451.621888           6633.331543          -23322.152081        -17196.789951         -6125.339005 -108.291871 -7.468496e+06              95.514107          -7787.380682           10644.868874          14478.507411   -34294.296444  -61957.148881           -11585.367338           -862.610301         -10722.750168          -14419.182780         -3032.407544        -11386.775694  9.80665  206.6  1.835649 -1.014014e+06           12587.310056         141459.914866          -44407.078012          50136.940965    2.004253e+06   4.070872e+06          -175759.812900         -50412.261898        -125347.546272          243920.307756        114973.227820        128947.080409  299.011555  8.412599e+08          -19531.444006          1.554740e+06          -2.124395e+06         -2.884705e+06    6.658964e+06   1.241532e+07            2.063312e+06         140713.254457          1.922601e+06           2.618165e+06        573915.324520         2.044249e+06  52.098841  3.680590e+06           90735.857705          2.823354e+06          -4.385746e+06          5.945511e+06    5.833111e+07   8.284747e+07           -1.417540e+06        -880566.277705        -536973.641064           2.197382e+06         1.704984e+06        492401.004273  0.0  L:\\proj2019\\40199079-Segelfartyg-Wallenius\\VCT...  1025.0  1.202108 -0.0  15knots10degRudd  L:\\proj2019\\40199079-Segelfartyg-Wallenius\\VCT...     0.0  0.0  0    0    V2_3_R2         NaN        NaN          NaN         NaN          NaN         NaN          NaN         NaN          NaN         NaN          NaN         NaN          NaN         NaN                   NaN                    NaN                    NaN                    NaN                    NaN                    NaN                    NaN          NaN           NaN           NaN           NaN           NaN           NaN           NaN              NaN            NaN                 NaN     NaN       NaN               NaN             NaN                  NaN      NaN        NaN               NaN             NaN                  NaN      NaN        NaN               NaN             NaN                  NaN      NaN        NaN               NaN             NaN                  NaN      NaN        NaN               NaN             NaN                  NaN      NaN        NaN               NaN             NaN                  NaN      NaN        NaN     NaN  Rudder angle   1.0         1.0   -1.304303   -8.298450 -34294.296444  2.004253e+06  6.658964e+06   20.244700  0.016812                 NaN                NaN        NaN                  NaN                 NaN                  NaN                 NaN                  NaN                 NaN                  NaN                 NaN                  NaN                 NaN                  NaN                 NaN      -8697.302221     -25257.286558      2.521348e+06  1.202108\n",
       "407       10  5.0  7503.769848  7080.519710             12.055219            12.055219             13.180634            13.180634     130.874751    130.593359              55.615691            32.208356            23.407447             55.710989           32.303392           23.407485  0.961690   0.0 -0.087266 -4.078666 -233088.625601             447.764581           1052.721319            -401.433244             51.904052   -24369.817663  -13564.965199            -7747.552729          -6116.989451          -1630.558882           -7619.422798         -6068.797123         -1550.631536  -6.700852 -18068.934505            4187.674768         -14982.317282           33045.328561         -37736.607005  -145769.406428  -2.865486e+05            11484.002646           6945.407046           4538.596039          -14231.069396        -10489.849483         -3741.205406  -69.251911 -4.810978e+06           -1178.541131          -3946.531277            7663.960405           8771.911966   -10198.103608  -18621.469044            -6765.301407            139.871609          -6905.166716           -7845.899485          -638.868088         -7207.035060  9.80665  206.6  0.567674 -3.230162e+05          -17664.245770          73251.607427          -29887.666265          30310.062454    4.561810e+05   1.422025e+06          -115945.585009         -34061.982020         -81883.602989          140389.338649         59363.926734         81025.714655  191.078651  5.444923e+08          235266.885868          7.879465e+05          -1.528244e+06         -1.747829e+06    1.984818e+06   3.736985e+06            1.192358e+06         -45672.486174          1.238030e+06           1.401285e+06        108803.269699         1.292481e+06  16.231469  1.168367e+06         -393879.078282          1.423057e+06          -3.170935e+06          3.616195e+06    1.470614e+07   2.914668e+07           -1.076206e+06        -709639.878496        -366565.452116           1.348320e+06         1.045845e+06        302479.203913  0.0  L:\\proj2019\\40199079-Segelfartyg-Wallenius\\VCT...  1025.0  0.961690 -0.0   12knots5degRudd  L:\\proj2019\\40199079-Segelfartyg-Wallenius\\VCT...     0.0  0.0  0    0    V2_3_R2         NaN        NaN          NaN         NaN          NaN         NaN          NaN         NaN          NaN         NaN          NaN         NaN          NaN         NaN                   NaN                    NaN                    NaN                    NaN                    NaN                    NaN                    NaN          NaN           NaN           NaN           NaN           NaN           NaN           NaN              NaN            NaN                 NaN     NaN       NaN               NaN             NaN                  NaN      NaN        NaN               NaN             NaN                  NaN      NaN        NaN               NaN             NaN                  NaN      NaN        NaN               NaN             NaN                  NaN      NaN        NaN               NaN             NaN                  NaN      NaN        NaN               NaN             NaN                  NaN      NaN        NaN     NaN  Rudder angle   1.0         1.0   -0.348466   -2.084370 -10198.103608  4.561810e+05  1.984818e+06    5.103990  0.016947                 NaN                NaN        NaN                  NaN                 NaN                  NaN                 NaN                  NaN                 NaN                  NaN                 NaN                  NaN                 NaN                  NaN                 NaN      -7485.877765     -12298.569908      1.227382e+06  0.961690"
      ]
     },
     "execution_count": 36,
     "metadata": {},
     "output_type": "execute_result"
    }
   ],
   "source": [
    "df_rudder.head()"
   ]
  },
  {
   "cell_type": "code",
   "execution_count": 39,
   "id": "0a3ba795-8807-405e-9abe-61a89618bbc5",
   "metadata": {},
   "outputs": [
    {
     "data": {
      "text/plain": [
       "<Axes: xlabel='delta', ylabel='fy_rudders'>"
      ]
     },
     "execution_count": 39,
     "metadata": {},
     "output_type": "execute_result"
    },
    {
     "data": {
      "image/png": "[encoded data removed]",
      "text/plain": [
       "<Figure size 640x480 with 1 Axes>"
      ]
     },
     "metadata": {},
     "output_type": "display_data"
    }
   ],
   "source": [
    "fig,ax=plt.subplots()\n",
    "\n",
    "df_rudder = df_VCT.groupby('test type').get_group('Rudder angle').copy()\n",
    "df_rudder.sort_values(by=['V','delta'], inplace=True)\n",
    "sns.lineplot(df_rudder, x='delta', y='fy_rudders', hue='V')\n"
   ]
  },
  {
   "cell_type": "code",
   "execution_count": 75,
   "id": "8c68a49e-78e6-49f1-82f6-43912f67b5a3",
   "metadata": {},
   "outputs": [
    {
     "data": {
      "text/plain": [
       "<Axes: xlabel='delta', ylabel='fy_rudders'>"
      ]
     },
     "execution_count": 75,
     "metadata": {},
     "output_type": "execute_result"
    },
    {
     "data": {
      "image/png": "[encoded data removed]",
      "text/plain": [
       "<Figure size 640x480 with 1 Axes>"
      ]
     },
     "metadata": {},
     "output_type": "display_data"
    }
   ],
   "source": [
    "fig,ax=plt.subplots()\n",
    "df_ = df_VCT.copy()\n",
    "df_['delta']*=-1\n",
    "df_['fy_rudders']*=-1\n",
    "df_ = pd.concat((df_VCT, df_), axis=0)\n",
    "\n",
    "\n",
    "df_rudder = df_.groupby('test type').get_group('Rudder angle').copy()\n",
    "df_rudder.sort_values(by=['V','delta'], inplace=True)\n",
    "sns.lineplot(df_rudder, x='delta', y='fy_rudders', hue='V')"
   ]
  },
  {
   "cell_type": "code",
   "execution_count": 40,
   "id": "01f584c7-d024-46dc-b327-c782154d86bb",
   "metadata": {},
   "outputs": [],
   "source": [
    "#def remove_old_rudder_forces(df):\n",
    "#    df = df.copy()\n",
    "#    \n",
    "#    for dof in ['fx','fy','fz','mx','my','mz']:\n",
    "#        key = f\"{dof}_rudder_port\"\n",
    "#        df[dof]-=df[key]\n",
    "#    \n",
    "#        key = f\"{dof}_rudder_stb\"\n",
    "#        df[dof]-=df[key]\n",
    "#        \n",
    "#    return df"
   ]
  },
  {
   "cell_type": "code",
   "execution_count": 41,
   "id": "96dcd557-6a48-4a75-a944-c0e234ff4664",
   "metadata": {},
   "outputs": [],
   "source": [
    "#df = df_VCT.groupby('test type').get_group('Rudder angle')\n",
    "#df = remove_old_rudder_forces(df=df)\n",
    "#df_star_VCT = pd.merge(left=df_star, right=df, how='inner', left_on='delta', right_on='delta', suffixes=('','_vct'))\n",
    "#for dof in ['fx','fy','mz']:\n",
    "#    df_star_VCT[dof]+=df_star_VCT[f'{dof}_vct']\n",
    "#"
   ]
  },
  {
   "cell_type": "code",
   "execution_count": 45,
   "id": "0b27e59b-b3c3-46ce-9cd4-8e718752af9d",
   "metadata": {},
   "outputs": [
    {
     "data": {
      "text/plain": [
       "{'T': 0.2063106796116504,\n",
       " 'L': 5.014563106796117,\n",
       " 'CB': 0.45034232324249973,\n",
       " 'B': 0.9466019417475728,\n",
       " 'rho': 1000,\n",
       " 'x_G': 0,\n",
       " 'm': 441.0267843660858,\n",
       " 'I_z': 693.124396594905,\n",
       " 'volume': 0.4410267843660858,\n",
       " 'scale_factor': 41.2,\n",
       " 'x_r': -2.42219908951329,\n",
       " 'TWIN': 1,\n",
       " 'x_p': -2.42219908951329,\n",
       " 'D': 0.12135922330097086,\n",
       " 'w_p0': 0.151,\n",
       " 'n_prop': 2}"
      ]
     },
     "execution_count": 45,
     "metadata": {},
     "output_type": "execute_result"
    }
   ],
   "source": [
    "ship_data"
   ]
  },
  {
   "cell_type": "code",
   "execution_count": 55,
   "id": "9d860b89-85d4-4d15-9047-9b7f74f2f898",
   "metadata": {},
   "outputs": [],
   "source": [
    "prop_data = {\n",
    "'wffix' : ship_data['w_p0'],\n",
    "'D':ship_data['D'],\n",
    "}\n",
    "\n",
    "rudder_particulars = {\n",
    "'x_R' : ship_data['x_r'],\n",
    "'y_R' : 0,\n",
    "'z_R' : 0,\n",
    "'A_R' : 70/(ship_data['scale_factor']**2),\n",
    "'rh'  : 7.18/ship_data['scale_factor']\n",
    "\n",
    "}"
   ]
  },
  {
   "cell_type": "code",
   "execution_count": 65,
   "id": "764ffd49-30a0-49ac-82b4-293f69d0c080",
   "metadata": {},
   "outputs": [
    {
     "data": {
      "text/plain": [
       "<function _lambdifygenerated(V_A, u, w_f)>"
      ]
     },
     "execution_count": 65,
     "metadata": {},
     "output_type": "execute_result"
    }
   ],
   "source": [
    "lambdas[V_A]"
   ]
  },
  {
   "cell_type": "code",
   "execution_count": 71,
   "id": "679dcb4b-39bd-44ac-bad6-87852ebee1c7",
   "metadata": {
    "tags": []
   },
   "outputs": [],
   "source": [
    "def replace_with_semiempirical_rudder(df_VCT, x_:float=2.05, C_L_tune_=1.0, thrust_key: str='thrust'):\n",
    "    \n",
    "    ## Removeing old rudder forces:\n",
    "    #df = remove_old_rudder_forces(df=df_VCT)\n",
    "    df = df_VCT.copy()\n",
    "    \n",
    "    df['q'] = 0\n",
    "    df['w'] = 0\n",
    "    df['w_f'] = prop_data['wffix']\n",
    "    \n",
    "    df['T'] = df[thrust_key]\n",
    "    df['r_0'] = prop_data['D']/2\n",
    "    df['x'] = x_\n",
    "    \n",
    "    #df['V_x'] = df['u']  # propeller induced speed...\n",
    "    df['x_R'] = rudder_particulars['x_R']\n",
    "    df['y_R'] = rudder_particulars['y_R']\n",
    "    df['z_R'] = rudder_particulars['z_R']\n",
    "    \n",
    "    df['A_R'] = rudder_particulars['A_R']\n",
    "    df['C_L_tune'] = C_L_tune_\n",
    "    df['b'] = rudder_particulars['rh']\n",
    "    \n",
    "    df['delta_lim'] = np.deg2rad(35)\n",
    "    df['c'] = df['A_R']/df['b']\n",
    "    df['nu'] = 1.18849E-06\n",
    "    df['kappa'] = 0.3  # Flow straightening (0 is straigthened flow --> angle of attack=delta)\n",
    "    \n",
    "    for symbol, function in lambdas.items():\n",
    "        \n",
    "        key = str(symbol)\n",
    "        assert key not in df, f\"key:{key} has already a value!\"\n",
    "        try:\n",
    "            df[key] = run(function=function, inputs=df)\n",
    "        except Exception as e:\n",
    "            raise ValueError(f\"Failed in: {key}\")\n",
    "        \n",
    "    n_rud = ship_data['n_prop']\n",
    "    \n",
    "    \n",
    "    fy_rudders = n_rud*df['L']\n",
    "    df['fy']+= -df['fy_rudders'] + fy_rudders\n",
    "    df['fx']+= df['fx_rudders'] - n_rud*df['D']\n",
    "    df['mz']+= -df['mz_rudders'] + df['x_R']*fy_rudders\n",
    "    df['fy_rudders'] = fy_rudders\n",
    "    \n",
    "    df['delta_deg'] = np.rad2deg(df['delta'])\n",
    "    \n",
    "    return df"
   ]
  },
  {
   "cell_type": "code",
   "execution_count": 72,
   "id": "7bfd4bec-9ca9-490f-9a05-6542d5e16daf",
   "metadata": {},
   "outputs": [],
   "source": [
    "C_L_tune_=1.0\n",
    "thrust_key = 'thrust'\n",
    "df = replace_with_semiempirical_rudder(df_VCT=df_rudder, C_L_tune_=C_L_tune_, thrust_key=thrust_key)"
   ]
  },
  {
   "cell_type": "code",
   "execution_count": 73,
   "id": "bf46b8a7-f432-484f-81f1-368d8fea942f",
   "metadata": {},
   "outputs": [
    {
     "data": {
      "image/png": "[encoded data removed]",
      "text/plain": [
       "<Figure size 640x480 with 1 Axes>"
      ]
     },
     "metadata": {},
     "output_type": "display_data"
    }
   ],
   "source": [
    "fig,ax=plt.subplots()\n",
    "\n",
    "df_rudder = df_VCT.groupby('test type').get_group('Rudder angle').copy()\n",
    "df_rudder.sort_values(by=['V','delta'], inplace=True)\n",
    "d_delta=np.deg2rad(-2.4)\n",
    "df_rudder['delta']+=d_delta\n",
    "\n",
    "df_rudder.sort_values(by=['V','delta'], inplace=True)\n",
    "\n",
    "prediction_groups = df.groupby(by='V', sort=False)\n",
    "\n",
    "key = 'fy_rudders'\n",
    "#key = 'fy'\n",
    "for V_, group in df_rudder.groupby(by='V', sort=False):\n",
    "    plot = group.plot(x='delta', y=key, label=f'V={np.round(V_,1)} m/s (ShipFlow)', style='.:', ax=ax)\n",
    "    color = plot.lines[-1].get_color()\n",
    "    prediction_groups.get_group(V_).plot(x='delta', y=key, label=f'V={np.round(V_,1)} m/s (Lifting line)', color=color, style='-', ax=ax)\n"
   ]
  },
  {
   "cell_type": "code",
   "execution_count": 39,
   "id": "d4ee9f82-0a78-4ebd-bea4-2e66b63390d6",
   "metadata": {},
   "outputs": [],
   "source": [
    "df_thrust_variation = df_VCT.groupby('test type').get_group('Thrust variation').copy()\n",
    "df_thrust_variation.sort_values(by=['V','thrust'], inplace=True)\n",
    "d_delta=np.deg2rad(-2.4)\n",
    "df_thrust_variation['delta']+=d_delta"
   ]
  },
  {
   "cell_type": "code",
   "execution_count": 40,
   "id": "f8d19105-fc94-4b29-9b24-e3fdca34de41",
   "metadata": {},
   "outputs": [],
   "source": [
    "df2 = replace_with_semiempirical_rudder(df_VCT=df_thrust_variation, C_L_tune_=C_L_tune_, thrust_key=thrust_key)"
   ]
  },
  {
   "cell_type": "code",
   "execution_count": 41,
   "id": "2e7f7dc3-dfc5-4ca0-af5f-c627d745ed03",
   "metadata": {},
   "outputs": [
    {
     "data": {
      "image/png": "[encoded data removed]",
      "text/plain": [
       "<Figure size 720x720 with 1 Axes>"
      ]
     },
     "metadata": {
      "needs_background": "light"
     },
     "output_type": "display_data"
    }
   ],
   "source": [
    "fig,ax=plt.subplots()\n",
    "fig.set_size_inches(10,10)\n",
    "df_rudder.sort_values(by=['V','thrust'], inplace=True)\n",
    "\n",
    "prediction_groups = df2.groupby(by=['V','delta'], sort=False)\n",
    "key = 'fy_rudders'\n",
    "for (V_,delta_), group in df_thrust_variation.groupby(by=['V','delta'], sort=False):\n",
    "    plot = group.plot(x='thrust', y=key, label=f'V={np.round(V_,1)} m/s $\\delta$={np.round(np.rad2deg(delta_),1)} deg (ShipFlow)', style='.:', ax=ax)\n",
    "    color = plot.lines[-1].get_color()\n",
    "    \n",
    "    prediction_groups.get_group((V_,delta_)).plot(x='thrust', y=key, label='__none__', color=color, style='-', ax=ax)\n",
    "\n",
    "ax.legend(loc='lower left')\n",
    "ax.grid(True)"
   ]
  },
  {
   "cell_type": "code",
   "execution_count": 66,
   "id": "ef075bbd-2cee-45f5-afa5-f19dbd8accab",
   "metadata": {},
   "outputs": [],
   "source": [
    "rho_=1000\n",
    "Ar_ = shipdict.rudder_particulars[0]['ar']\n",
    "V_ = df_VCT['V']*0.7\n",
    "df_VCT['cl'] = df_VCT['fy_rudders']/(1/2*rho_*Ar_*V_**2)"
   ]
  },
  {
   "cell_type": "code",
   "execution_count": 67,
   "id": "93b6f7b3-00ef-41ea-9302-9b0730cdcd6b",
   "metadata": {},
   "outputs": [],
   "source": [
    "df_rudder_no_thrust = df_VCT.groupby('test type').get_group('Rudder angle resistance (no propeller)').copy()\n",
    "df_rudder_no_thrust.sort_values(by=['V'], inplace=True)"
   ]
  },
  {
   "cell_type": "code",
   "execution_count": 68,
   "id": "f323d2fa-6efc-47a9-b0e6-0aac557fe3b2",
   "metadata": {},
   "outputs": [],
   "source": [
    "df3 = replace_with_semiempirical_rudder(df_VCT=df_rudder_no_thrust, C_L_tune_=C_L_tune_, thrust_key=thrust_key)"
   ]
  },
  {
   "cell_type": "code",
   "execution_count": 69,
   "id": "2cbc77da-09fe-49d4-a2cc-2a2dec22c82d",
   "metadata": {},
   "outputs": [
    {
     "data": {
      "text/plain": [
       "Text(0, 0.5, 'CL')"
      ]
     },
     "execution_count": 69,
     "metadata": {},
     "output_type": "execute_result"
    },
    {
     "data": {
      "image/png": "[encoded data removed]",
      "text/plain": [
       "<Figure size 432x288 with 1 Axes>"
      ]
     },
     "metadata": {
      "needs_background": "light"
     },
     "output_type": "display_data"
    }
   ],
   "source": [
    "fig,ax=plt.subplots()\n",
    "\n",
    "prediction_groups = df3.groupby(by='V', sort=False)\n",
    "\n",
    "rho_=1000\n",
    "Ar_ = shipdict.rudder_particulars[0]['ar']\n",
    "V_ = df3['V']*0.7\n",
    "df3['cl'] = df3['fy_rudders']/(1/2*rho_*Ar_*V_**2)\n",
    "\n",
    "key = 'cl'\n",
    "#key = 'fy'\n",
    "for V_, group in df_rudder_no_thrust.groupby(by='V', sort=False):\n",
    "    plot = group.plot(x='delta', y=key, label=f'V={np.round(V_,1)} m/s (ShipFlow)', style='.:', ax=ax)\n",
    "    color = plot.lines[-1].get_color()\n",
    "    prediction_groups.get_group(V_).plot(x='delta', y=key, label=f'V={np.round(V_,1)} m/s (Lifting line)', color=color, style='-', ax=ax)\n",
    "    \n",
    "ax.set_ylabel('CL')"
   ]
  },
  {
   "cell_type": "code",
   "execution_count": null,
   "id": "8320beb8-99d5-4bbf-aa2d-184381496716",
   "metadata": {},
   "outputs": [],
   "source": []
  }
 ],
 "metadata": {
  "kernelspec": {
   "display_name": "Kedro (phd)",
   "language": "python",
   "name": "kedro_phd"
  },
  "language_info": {
   "codemirror_mode": {
    "name": "ipython",
    "version": 3
   },
   "file_extension": ".py",
   "mimetype": "text/x-python",
   "name": "python",
   "nbconvert_exporter": "python",
   "pygments_lexer": "ipython3",
   "version": "3.10.10"
  }
 },
 "nbformat": 4,
 "nbformat_minor": 5
}
